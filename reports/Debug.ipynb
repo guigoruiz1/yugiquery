{
 "cells": [
  {
   "cell_type": "code",
   "execution_count": 2,
   "id": "0",
   "metadata": {
    "tags": []
   },
   "outputs": [
    {
     "data": {
      "text/markdown": [
       "<div align='center'>\n",
       "    <br>\n",
       "    <!-- Pre Style needed to fix HTML formatting -->\n",
       "    <pre style=\"line-height: var(--jp-code-line-height); font-family: var(--jp-code-font-family)\">\n",
       "    ██    ██ ██    ██  ██████  ██  ██████  ██    ██ ███████ ██████  ██    ██ \n",
       "     ██  ██  ██    ██ ██       ██ ██    ██ ██    ██ ██      ██   ██  ██  ██  \n",
       "      ████   ██    ██ ██   ███ ██ ██    ██ ██    ██ █████   ██████    ████   \n",
       "       ██    ██    ██ ██    ██ ██ ██ ▄▄ ██ ██    ██ ██      ██   ██    ██    \n",
       "       ██     ██████   ██████  ██  ██████   ██████  ███████ ██   ██    ██    \n",
       "                                      ▀▀                                     \n",
       "    </pre>\n",
       "</div>\n",
       "<div align='right'>\n",
       "    Debug - Execution started 03/09/2024 23:49 UTC <br>\n",
       "    By <b>Guilherme Ruiz</b>\n",
       "</div>"
      ],
      "text/plain": [
       "<IPython.core.display.Markdown object>"
      ]
     },
     "execution_count": 2,
     "metadata": {},
     "output_type": "execute_result"
    }
   ],
   "source": [
    "from yugiquery import *\n",
    "\n",
    "header(\"Debug\")"
   ]
  },
  {
   "cell_type": "markdown",
   "id": "1",
   "metadata": {
    "tags": []
   },
   "source": [
    "# API Status"
   ]
  },
  {
   "cell_type": "code",
   "execution_count": 3,
   "id": "2",
   "metadata": {
    "tags": []
   },
   "outputs": [
    {
     "name": "stdout",
     "output_type": "stream",
     "text": [
      "https://yugipedia.com/api.php is up and running MediaWiki 1.31.1\n"
     ]
    },
    {
     "data": {
      "text/plain": [
       "True"
      ]
     },
     "execution_count": 3,
     "metadata": {},
     "output_type": "execute_result"
    }
   ],
   "source": [
    "api.check_status()"
   ]
  },
  {
   "cell_type": "markdown",
   "id": "3",
   "metadata": {
    "tags": []
   },
   "source": [
    "# Cleanup"
   ]
  },
  {
   "cell_type": "code",
   "execution_count": 11,
   "id": "4",
   "metadata": {
    "tags": []
   },
   "outputs": [
    {
     "ename": "AttributeError",
     "evalue": "'RangeIndex' object has no attribute '_with_freq'",
     "output_type": "error",
     "traceback": [
      "\u001b[0;31m---------------------------------------------------------------------------\u001b[0m",
      "\u001b[0;31mAttributeError\u001b[0m                            Traceback (most recent call last)",
      "Cell \u001b[0;32mIn[11], line 1\u001b[0m\n\u001b[0;32m----> 1\u001b[0m \u001b[43mcleanup_data\u001b[49m\u001b[43m(\u001b[49m\u001b[43mdry_run\u001b[49m\u001b[38;5;241;43m=\u001b[39;49m\u001b[38;5;28;43;01mTrue\u001b[39;49;00m\u001b[43m)\u001b[49m\n",
      "File \u001b[0;32m~/Documents/Python/Yugiquery/reports/yugiquery/yugiquery.py:333\u001b[0m, in \u001b[0;36mcleanup_data\u001b[0;34m(dry_run)\u001b[0m\n\u001b[1;32m    320\u001b[0m last_month_files \u001b[38;5;241m=\u001b[39m {\n\u001b[1;32m    321\u001b[0m     \u001b[38;5;124m\"\u001b[39m\u001b[38;5;124mchangelog\u001b[39m\u001b[38;5;124m\"\u001b[39m: last_month_files[\n\u001b[1;32m    322\u001b[0m         last_month_files[\u001b[38;5;124m\"\u001b[39m\u001b[38;5;124mGroup\u001b[39m\u001b[38;5;124m\"\u001b[39m]\u001b[38;5;241m.\u001b[39mstr\u001b[38;5;241m.\u001b[39mcontains(\u001b[38;5;124m\"\u001b[39m\u001b[38;5;124mchangelog\u001b[39m\u001b[38;5;124m\"\u001b[39m)\n\u001b[0;32m   (...)\u001b[0m\n\u001b[1;32m    326\u001b[0m     ]\u001b[38;5;241m.\u001b[39mtolist(),\n\u001b[1;32m    327\u001b[0m }\n\u001b[1;32m    329\u001b[0m \u001b[38;5;66;03m# Remove the last_month_files from the same_month_files\u001b[39;00m\n\u001b[1;32m    330\u001b[0m same_month_files[\u001b[38;5;124m\"\u001b[39m\u001b[38;5;124mchangelog\u001b[39m\u001b[38;5;124m\"\u001b[39m] \u001b[38;5;241m=\u001b[39m [\n\u001b[1;32m    331\u001b[0m     files\n\u001b[1;32m    332\u001b[0m     \u001b[38;5;28;01mfor\u001b[39;00m files \u001b[38;5;129;01min\u001b[39;00m same_month_files[\u001b[38;5;124m\"\u001b[39m\u001b[38;5;124mchangelog\u001b[39m\u001b[38;5;124m\"\u001b[39m]\n\u001b[0;32m--> 333\u001b[0m     \u001b[38;5;28;01mif\u001b[39;00m files \u001b[38;5;129;01mnot\u001b[39;00m \u001b[38;5;129;01min\u001b[39;00m last_month_files[\u001b[38;5;124m\"\u001b[39m\u001b[38;5;124mchangelog\u001b[39m\u001b[38;5;124m\"\u001b[39m]\n\u001b[1;32m    334\u001b[0m ]\n\u001b[1;32m    335\u001b[0m same_month_files[\u001b[38;5;124m\"\u001b[39m\u001b[38;5;124mdata\u001b[39m\u001b[38;5;124m\"\u001b[39m] \u001b[38;5;241m=\u001b[39m [\n\u001b[1;32m    336\u001b[0m     files\n\u001b[1;32m    337\u001b[0m     \u001b[38;5;28;01mfor\u001b[39;00m files \u001b[38;5;129;01min\u001b[39;00m same_month_files[\u001b[38;5;124m\"\u001b[39m\u001b[38;5;124mdata\u001b[39m\u001b[38;5;124m\"\u001b[39m]\n\u001b[1;32m    338\u001b[0m     \u001b[38;5;28;01mif\u001b[39;00m files \u001b[38;5;129;01mnot\u001b[39;00m \u001b[38;5;129;01min\u001b[39;00m last_month_files[\u001b[38;5;124m\"\u001b[39m\u001b[38;5;124mdata\u001b[39m\u001b[38;5;124m\"\u001b[39m]\n\u001b[1;32m    339\u001b[0m ]\n\u001b[1;32m    341\u001b[0m \u001b[38;5;28mprint\u001b[39m(\u001b[38;5;124m\"\u001b[39m\u001b[38;5;130;01m\\n\u001b[39;00m\u001b[38;5;124m- same month (with changelog)\u001b[39m\u001b[38;5;124m\"\u001b[39m)\n",
      "File \u001b[0;32m~/Documents/Python/venv/lib/python3.12/site-packages/pandas/core/resample.py:1315\u001b[0m, in \u001b[0;36mResampler.first\u001b[0;34m(self, numeric_only, min_count, skipna, *args, **kwargs)\u001b[0m\n\u001b[1;32m   1313\u001b[0m maybe_warn_args_and_kwargs(\u001b[38;5;28mtype\u001b[39m(\u001b[38;5;28mself\u001b[39m), \u001b[38;5;124m\"\u001b[39m\u001b[38;5;124mfirst\u001b[39m\u001b[38;5;124m\"\u001b[39m, args, kwargs)\n\u001b[1;32m   1314\u001b[0m nv\u001b[38;5;241m.\u001b[39mvalidate_resampler_func(\u001b[38;5;124m\"\u001b[39m\u001b[38;5;124mfirst\u001b[39m\u001b[38;5;124m\"\u001b[39m, args, kwargs)\n\u001b[0;32m-> 1315\u001b[0m \u001b[38;5;28;01mreturn\u001b[39;00m \u001b[38;5;28;43mself\u001b[39;49m\u001b[38;5;241;43m.\u001b[39;49m\u001b[43m_downsample\u001b[49m\u001b[43m(\u001b[49m\n\u001b[1;32m   1316\u001b[0m \u001b[43m    \u001b[49m\u001b[38;5;124;43m\"\u001b[39;49m\u001b[38;5;124;43mfirst\u001b[39;49m\u001b[38;5;124;43m\"\u001b[39;49m\u001b[43m,\u001b[49m\u001b[43m \u001b[49m\u001b[43mnumeric_only\u001b[49m\u001b[38;5;241;43m=\u001b[39;49m\u001b[43mnumeric_only\u001b[49m\u001b[43m,\u001b[49m\u001b[43m \u001b[49m\u001b[43mmin_count\u001b[49m\u001b[38;5;241;43m=\u001b[39;49m\u001b[43mmin_count\u001b[49m\u001b[43m,\u001b[49m\u001b[43m \u001b[49m\u001b[43mskipna\u001b[49m\u001b[38;5;241;43m=\u001b[39;49m\u001b[43mskipna\u001b[49m\n\u001b[1;32m   1317\u001b[0m \u001b[43m\u001b[49m\u001b[43m)\u001b[49m\n",
      "File \u001b[0;32m~/Documents/Python/venv/lib/python3.12/site-packages/pandas/core/resample.py:1764\u001b[0m, in \u001b[0;36mDatetimeIndexResampler._downsample\u001b[0;34m(self, how, **kwargs)\u001b[0m\n\u001b[1;32m   1761\u001b[0m \u001b[38;5;28;01mif\u001b[39;00m \u001b[38;5;129;01mnot\u001b[39;00m \u001b[38;5;28mlen\u001b[39m(ax):\n\u001b[1;32m   1762\u001b[0m     \u001b[38;5;66;03m# reset to the new freq\u001b[39;00m\n\u001b[1;32m   1763\u001b[0m     obj \u001b[38;5;241m=\u001b[39m obj\u001b[38;5;241m.\u001b[39mcopy()\n\u001b[0;32m-> 1764\u001b[0m     obj\u001b[38;5;241m.\u001b[39mindex \u001b[38;5;241m=\u001b[39m \u001b[43mobj\u001b[49m\u001b[38;5;241;43m.\u001b[39;49m\u001b[43mindex\u001b[49m\u001b[38;5;241;43m.\u001b[39;49m\u001b[43m_with_freq\u001b[49m(\u001b[38;5;28mself\u001b[39m\u001b[38;5;241m.\u001b[39mfreq)\n\u001b[1;32m   1765\u001b[0m     \u001b[38;5;28;01massert\u001b[39;00m obj\u001b[38;5;241m.\u001b[39mindex\u001b[38;5;241m.\u001b[39mfreq \u001b[38;5;241m==\u001b[39m \u001b[38;5;28mself\u001b[39m\u001b[38;5;241m.\u001b[39mfreq, (obj\u001b[38;5;241m.\u001b[39mindex\u001b[38;5;241m.\u001b[39mfreq, \u001b[38;5;28mself\u001b[39m\u001b[38;5;241m.\u001b[39mfreq)\n\u001b[1;32m   1766\u001b[0m     \u001b[38;5;28;01mreturn\u001b[39;00m obj\n",
      "\u001b[0;31mAttributeError\u001b[0m: 'RangeIndex' object has no attribute '_with_freq'"
     ]
    }
   ],
   "source": [
    "cleanup_data(dry_run=True)"
   ]
  },
  {
   "cell_type": "markdown",
   "id": "5",
   "metadata": {
    "tags": []
   },
   "source": [
    "# Rarities"
   ]
  },
  {
   "cell_type": "code",
   "execution_count": 5,
   "id": "6",
   "metadata": {
    "tags": []
   },
   "outputs": [
    {
     "data": {
      "application/vnd.jupyter.widget-view+json": {
       "model_id": "efc3a9aa0fbd4abaa1e87f469c34a501",
       "version_major": 2,
       "version_minor": 0
      },
      "text/plain": [
       "Output()"
      ]
     },
     "metadata": {},
     "output_type": "display_data"
    },
    {
     "data": {
      "application/vnd.jupyter.widget-view+json": {
       "model_id": "67b0e891816441f9879ec0e37b96f98d",
       "version_major": 2,
       "version_minor": 0
      },
      "text/plain": [
       "Backlinks:   0%|          | 0/75 [00:00<?, ?it/s]"
      ]
     },
     "metadata": {},
     "output_type": "display_data"
    },
    {
     "data": {
      "application/vnd.jupyter.widget-view+json": {
       "model_id": "c071605d1d0149518f47fc88dcc6a02f",
       "version_major": 2,
       "version_minor": 0
      },
      "text/plain": [
       "Redirects: 0it [00:00, ?it/s]"
      ]
     },
     "metadata": {},
     "output_type": "display_data"
    },
    {
     "data": {
      "text/plain": [
       "{'GRR': 'Gold Rush Rare',\n",
       " 'ORR': 'Over Rush Rare',\n",
       " 'URPR': \"Ultra Rare (Pharaoh's Rare)\",\n",
       " 'QCScR': 'Quarter Century Secret Rare',\n",
       " 'QCR': 'Quarter Century Secret Rare',\n",
       " 'PGR': 'Premium Gold Rare',\n",
       " 'AltR': 'Starlight Rare',\n",
       " 'StR': 'Starlight Rare',\n",
       " 'H': 'Hobby Rare',\n",
       " 'KCScR': 'Kaiba Corporation Secret Rare',\n",
       " 'KCSR': 'Kaiba Corporation Super Rare',\n",
       " 'GR': 'Ghost Rare',\n",
       " 'HR': 'Holographic Rare',\n",
       " 'HGR': 'Holographic Rare',\n",
       " 'MLGR': 'Millennium Gold Rare',\n",
       " 'MLScR': 'Millennium Secret Rare',\n",
       " 'MLUR': 'Millennium Ultra Rare',\n",
       " 'MLSR': 'Millennium Super Rare',\n",
       " 'KCUR': 'Kaiba Corporation Ultra Rare',\n",
       " 'KCC': 'Kaiba Corporation Common',\n",
       " 'KCR': 'Kaiba Corporation Rare',\n",
       " 'EScPR': 'Extra Secret Parallel Rare',\n",
       " 'HGPR': 'Holographic Parallel Rare',\n",
       " 'ScPR': 'Secret Parallel Rare',\n",
       " 'MLR': 'Millennium Rare',\n",
       " 'SHR': 'Shatterfoil Rare',\n",
       " 'SH': 'Shatterfoil Rare',\n",
       " 'PlR': 'Platinum Rare',\n",
       " 'PlScR': 'Platinum Secret Rare',\n",
       " 'CR': \"Collector's Rare\",\n",
       " 'MSR': 'Mosaic Rare',\n",
       " 'EScR': 'Extra Secret Rare',\n",
       " 'ES': 'Extra Secret Rare',\n",
       " 'GScR': 'Gold Secret Rare',\n",
       " 'GS': 'Gold Secret Rare',\n",
       " 'GGHR': 'Ghost/Gold Rare',\n",
       " 'GGR': 'Ghost/Gold Rare',\n",
       " 'SFR': 'Starfoil Rare',\n",
       " 'ST': 'Starfoil Rare',\n",
       " 'DNRPR': 'Duel Terminal Normal Rare Parallel Rare',\n",
       " 'DScPR': 'Duel Terminal Secret Parallel Rare',\n",
       " 'DUPR': 'Duel Terminal Ultra Parallel Rare',\n",
       " 'DSPR': 'Duel Terminal Super Parallel Rare',\n",
       " 'DNPR': 'Duel Terminal Normal Parallel Rare',\n",
       " 'DTNPR': 'Duel Terminal Normal Parallel Rare',\n",
       " 'DRPR': 'Duel Terminal Rare Parallel Rare',\n",
       " 'GUR': 'Gold Rare',\n",
       " 'HFR': 'Holofoil Rare',\n",
       " 'SP': 'Short Print',\n",
       " 'SSP': 'Short Print',\n",
       " 'NR': 'Normal Rare',\n",
       " 'PScR': 'Prismatic Secret Rare',\n",
       " 'NPR': 'Normal Parallel Rare',\n",
       " 'UE': 'Unlimited Edition',\n",
       " 'SPR': 'Super Parallel Rare',\n",
       " 'ScUR': 'Secret Ultra Rare',\n",
       " 'FR': 'Fixed Rarity',\n",
       " 'UScR': 'Ultra Secret Rare',\n",
       " 'UPR': 'Ultra Parallel Rare',\n",
       " 'PR': 'Parallel Rare',\n",
       " 'P': 'Parallel Rare',\n",
       " 'UtR': 'Ultimate Rare',\n",
       " 'UL': 'Ultimate Rare',\n",
       " 'ScR': 'Secret Rare',\n",
       " 'SE': 'Secret Rare',\n",
       " 'Scr': 'Secret Rare',\n",
       " 'UR': 'Ultra Rare',\n",
       " 'SR': 'Super Rare',\n",
       " 'R': 'Rare',\n",
       " 'N': 'Common',\n",
       " 'C': 'Common'}"
      ]
     },
     "execution_count": 5,
     "metadata": {},
     "output_type": "execute_result"
    }
   ],
   "source": [
    "rarities_dict = fetch_rarities_dict()\n",
    "\n",
    "# with open(\"rarities.json\", \"w+\") as file:\n",
    "#     json.dump(rarity_dict, file)\n",
    "\n",
    "rarities_dict"
   ]
  },
  {
   "cell_type": "markdown",
   "id": "7",
   "metadata": {
    "tags": []
   },
   "source": [
    "# Recent changes"
   ]
  },
  {
   "cell_type": "code",
   "execution_count": 10,
   "id": "8",
   "metadata": {
    "tags": []
   },
   "outputs": [
    {
     "data": {
      "text/html": [
       "<div>\n",
       "<style scoped>\n",
       "    .dataframe tbody tr th:only-of-type {\n",
       "        vertical-align: middle;\n",
       "    }\n",
       "\n",
       "    .dataframe tbody tr th {\n",
       "        vertical-align: top;\n",
       "    }\n",
       "\n",
       "    .dataframe thead th {\n",
       "        text-align: right;\n",
       "    }\n",
       "</style>\n",
       "<table border=\"1\" class=\"dataframe\">\n",
       "  <thead>\n",
       "    <tr style=\"text-align: right;\">\n",
       "      <th></th>\n",
       "      <th>type</th>\n",
       "      <th>ns</th>\n",
       "      <th>title</th>\n",
       "      <th>pageid</th>\n",
       "      <th>revid</th>\n",
       "      <th>old_revid</th>\n",
       "      <th>rcid</th>\n",
       "      <th>timestamp</th>\n",
       "    </tr>\n",
       "  </thead>\n",
       "  <tbody>\n",
       "    <tr>\n",
       "      <th>0</th>\n",
       "      <td>edit</td>\n",
       "      <td>3016</td>\n",
       "      <td>Card Trivia:Masterful Magician, Servant of the...</td>\n",
       "      <td>1001950</td>\n",
       "      <td>5353457</td>\n",
       "      <td>5353456</td>\n",
       "      <td>5320393</td>\n",
       "      <td>2024-09-03T23:50:01Z</td>\n",
       "    </tr>\n",
       "    <tr>\n",
       "      <th>1</th>\n",
       "      <td>edit</td>\n",
       "      <td>3016</td>\n",
       "      <td>Card Trivia:Masterful Magician, Servant of the...</td>\n",
       "      <td>1001950</td>\n",
       "      <td>5353456</td>\n",
       "      <td>5137829</td>\n",
       "      <td>5320392</td>\n",
       "      <td>2024-09-03T23:32:17Z</td>\n",
       "    </tr>\n",
       "    <tr>\n",
       "      <th>2</th>\n",
       "      <td>edit</td>\n",
       "      <td>3010</td>\n",
       "      <td>Card Errata:Reaper of the Cards</td>\n",
       "      <td>22105</td>\n",
       "      <td>5353455</td>\n",
       "      <td>5352807</td>\n",
       "      <td>5320391</td>\n",
       "      <td>2024-09-03T23:23:22Z</td>\n",
       "    </tr>\n",
       "    <tr>\n",
       "      <th>3</th>\n",
       "      <td>edit</td>\n",
       "      <td>3012</td>\n",
       "      <td>Card Artworks:Nine-Tailed Fox</td>\n",
       "      <td>935201</td>\n",
       "      <td>5353454</td>\n",
       "      <td>4707950</td>\n",
       "      <td>5320390</td>\n",
       "      <td>2024-09-03T23:14:41Z</td>\n",
       "    </tr>\n",
       "    <tr>\n",
       "      <th>4</th>\n",
       "      <td>edit</td>\n",
       "      <td>0</td>\n",
       "      <td>The Dark Magicians</td>\n",
       "      <td>664546</td>\n",
       "      <td>5353453</td>\n",
       "      <td>5238674</td>\n",
       "      <td>5320389</td>\n",
       "      <td>2024-09-03T23:10:48Z</td>\n",
       "    </tr>\n",
       "    <tr>\n",
       "      <th>...</th>\n",
       "      <td>...</td>\n",
       "      <td>...</td>\n",
       "      <td>...</td>\n",
       "      <td>...</td>\n",
       "      <td>...</td>\n",
       "      <td>...</td>\n",
       "      <td>...</td>\n",
       "      <td>...</td>\n",
       "    </tr>\n",
       "    <tr>\n",
       "      <th>495</th>\n",
       "      <td>categorize</td>\n",
       "      <td>14</td>\n",
       "      <td>Category:Card number redirects</td>\n",
       "      <td>1078608</td>\n",
       "      <td>5353105</td>\n",
       "      <td>0</td>\n",
       "      <td>5319807</td>\n",
       "      <td>2024-09-03T15:00:37Z</td>\n",
       "    </tr>\n",
       "    <tr>\n",
       "      <th>496</th>\n",
       "      <td>new</td>\n",
       "      <td>0</td>\n",
       "      <td>TT01-KRC36</td>\n",
       "      <td>1078608</td>\n",
       "      <td>5353105</td>\n",
       "      <td>0</td>\n",
       "      <td>5319794</td>\n",
       "      <td>2024-09-03T15:00:37Z</td>\n",
       "    </tr>\n",
       "    <tr>\n",
       "      <th>497</th>\n",
       "      <td>categorize</td>\n",
       "      <td>14</td>\n",
       "      <td>Category:Card number redirects</td>\n",
       "      <td>1078607</td>\n",
       "      <td>5353104</td>\n",
       "      <td>0</td>\n",
       "      <td>5319908</td>\n",
       "      <td>2024-09-03T15:00:36Z</td>\n",
       "    </tr>\n",
       "    <tr>\n",
       "      <th>498</th>\n",
       "      <td>new</td>\n",
       "      <td>0</td>\n",
       "      <td>TT01-KRC35</td>\n",
       "      <td>1078607</td>\n",
       "      <td>5353104</td>\n",
       "      <td>0</td>\n",
       "      <td>5319793</td>\n",
       "      <td>2024-09-03T15:00:36Z</td>\n",
       "    </tr>\n",
       "    <tr>\n",
       "      <th>499</th>\n",
       "      <td>categorize</td>\n",
       "      <td>14</td>\n",
       "      <td>Category:Card number redirects</td>\n",
       "      <td>1078606</td>\n",
       "      <td>5353103</td>\n",
       "      <td>0</td>\n",
       "      <td>5319903</td>\n",
       "      <td>2024-09-03T15:00:35Z</td>\n",
       "    </tr>\n",
       "  </tbody>\n",
       "</table>\n",
       "<p>500 rows × 8 columns</p>\n",
       "</div>"
      ],
      "text/plain": [
       "           type    ns                                              title  \\\n",
       "0          edit  3016  Card Trivia:Masterful Magician, Servant of the...   \n",
       "1          edit  3016  Card Trivia:Masterful Magician, Servant of the...   \n",
       "2          edit  3010                    Card Errata:Reaper of the Cards   \n",
       "3          edit  3012                      Card Artworks:Nine-Tailed Fox   \n",
       "4          edit     0                                 The Dark Magicians   \n",
       "..          ...   ...                                                ...   \n",
       "495  categorize    14                     Category:Card number redirects   \n",
       "496         new     0                                         TT01-KRC36   \n",
       "497  categorize    14                     Category:Card number redirects   \n",
       "498         new     0                                         TT01-KRC35   \n",
       "499  categorize    14                     Category:Card number redirects   \n",
       "\n",
       "      pageid    revid  old_revid     rcid             timestamp  \n",
       "0    1001950  5353457    5353456  5320393  2024-09-03T23:50:01Z  \n",
       "1    1001950  5353456    5137829  5320392  2024-09-03T23:32:17Z  \n",
       "2      22105  5353455    5352807  5320391  2024-09-03T23:23:22Z  \n",
       "3     935201  5353454    4707950  5320390  2024-09-03T23:14:41Z  \n",
       "4     664546  5353453    5238674  5320389  2024-09-03T23:10:48Z  \n",
       "..       ...      ...        ...      ...                   ...  \n",
       "495  1078608  5353105          0  5319807  2024-09-03T15:00:37Z  \n",
       "496  1078608  5353105          0  5319794  2024-09-03T15:00:37Z  \n",
       "497  1078607  5353104          0  5319908  2024-09-03T15:00:36Z  \n",
       "498  1078607  5353104          0  5319793  2024-09-03T15:00:36Z  \n",
       "499  1078606  5353103          0  5319903  2024-09-03T15:00:35Z  \n",
       "\n",
       "[500 rows x 8 columns]"
      ]
     },
     "metadata": {},
     "output_type": "display_data"
    }
   ],
   "source": [
    "# Define the base URL for the API\n",
    "base_url = \"https://yugipedia.com/api.php\"\n",
    "\n",
    "# Define the parameters for the API request\n",
    "params = {\n",
    "    \"action\": \"query\",\n",
    "    \"format\": \"json\",\n",
    "    \"list\": \"recentchanges\",\n",
    "    \"rclimit\": 500,  # Return the most recent 500 changes\n",
    "    \"rcstart\": \"2024-11-05T00:00:00Z\",  # Start the results from this time\n",
    "    # \"rctag\": \"new\", # Only return changes with the \"new\" tag\n",
    "    # \"rcnamespace\": 14, # Only return changes in the category namespace\n",
    "}\n",
    "\n",
    "# Send the API request\n",
    "response = api.requests.get(base_url, params=params, headers=api.http_headers)\n",
    "\n",
    "# Check if the request was successful\n",
    "if response.status_code == 200:\n",
    "    # Parse the JSON response\n",
    "    data = response.json()\n",
    "\n",
    "    # Get the list of recent changes\n",
    "    recent_changes = data[\"query\"][\"recentchanges\"]\n",
    "\n",
    "    changes_df = pd.DataFrame(recent_changes)\n",
    "\n",
    "    display(changes_df)\n",
    "\n",
    "# If the request was not successful, print an error message\n",
    "else:\n",
    "    print(\"Error: Could not retrieve recent changes from the API\")"
   ]
  },
  {
   "cell_type": "markdown",
   "id": "9",
   "metadata": {
    "tags": []
   },
   "source": [
    "# Variables"
   ]
  },
  {
   "cell_type": "code",
   "execution_count": 7,
   "id": "10",
   "metadata": {
    "tags": []
   },
   "outputs": [
    {
     "name": "stdout",
     "output_type": "stream",
     "text": [
      "Variable                      Type                    Data/Info\n",
      "---------------------------------------------------------------\n",
      "Any                           _AnyMeta                typing.Any\n",
      "Bot                           type                    <class 'yugiquery.bot.Bot'>\n",
      "CG                            EnumType                <enum 'CG'>\n",
      "Callable                      _CallableType           typing.Callable\n",
      "DATA_DIR                      str                     /Users/Guigoruiz1/Documen<...>on/Yugiquery/reports/data\n",
      "Dict                          _SpecialGenericAlias    typing.Dict\n",
      "Discord                       type                    <class 'yugiquery.bot.Discord'>\n",
      "Enum                          EnumType                <enum 'Enum'>\n",
      "Halo                          type                    <class 'halo.halo_notebook.HaloNotebook'>\n",
      "JupyterFrontEnd               MetaHasTraits           <class 'ipylab.jupyterfrontend.JupyterFrontEnd'>\n",
      "List                          _SpecialGenericAlias    typing.List\n",
      "Markdown                      type                    <class 'IPython.core.display.Markdown'>\n",
      "REPORTS_DIR                   str                     /Users/Guigoruiz1/Documen<...>Yugiquery/reports/reports\n",
      "SCRIPT_DIR                    str                     /Users/Guigoruiz1/Documen<...>ython/Yugiquery/yugiquery\n",
      "Telegram                      type                    <class 'yugiquery.bot.Telegram'>\n",
      "Tuple                         _TupleType              typing.Tuple\n",
      "UTILS_DIR                     str                     /Users/Guigoruiz1/Documen<...>Yugiquery/yugiquery/utils\n",
      "Union                         _SpecialForm            typing.Union\n",
      "WORK_DIR                      str                     /Users/Guigoruiz1/Documen<...>/Python/Yugiquery/reports\n",
      "api                           module                  <module 'yugiquery.utils.<...>/yugiquery/utils/api.py'>\n",
      "argparse                      module                  <module 'argparse' from '<...>/python3.12/argparse.py'>\n",
      "arrow                         module                  <module 'arrow' from '/Us<...>kages/arrow/__init__.py'>\n",
      "auto_or_bool                  function                <function auto_or_bool at 0x11c758680>\n",
      "base_url                      str                     https://yugipedia.com/api.php\n",
      "benchmark                     function                <function benchmark at 0x11c17cb80>\n",
      "bot                           module                  <module 'yugiquery.bot' f<...>eports/yugiquery/bot.py'>\n",
      "calendar                      module                  <module 'calendar' from '<...>/python3.12/calendar.py'>\n",
      "card_query                    function                <function card_query at 0x14f8732e0>\n",
      "changes_df                    DataFrame               Empty DataFrame\\nColumns: []\\nIndex: []\n",
      "cleanup_data                  function                <function cleanup_data at 0x14f851bc0>\n",
      "condense_benchmark            function                <function condense_benchmark at 0x14f600680>\n",
      "condense_changelogs           function                <function condense_changelogs at 0x14f55e020>\n",
      "data                          dict                    n=2\n",
      "display                       function                <function display at 0x1070a87c0>\n",
      "dotenv_values                 function                <function dotenv_values at 0x11c726200>\n",
      "fetch_all_set_lists           function                <function fetch_all_set_lists at 0x14f873b00>\n",
      "fetch_bandai                  function                <function fetch_bandai at 0x14f873420>\n",
      "fetch_counter                 function                <function fetch_counter at 0x14f8736a0>\n",
      "fetch_errata                  function                <function fetch_errata at 0x14f8739c0>\n",
      "fetch_monster                 function                <function fetch_monster at 0x14f873560>\n",
      "fetch_rarities_dict           function                <function fetch_rarities_dict at 0x14f873380>\n",
      "fetch_rush                    function                <function fetch_rush at 0x14f873880>\n",
      "fetch_set_list_pages          function                <function fetch_set_list_pages at 0x14f873a60>\n",
      "fetch_skill                   function                <function fetch_skill at 0x14f8737e0>\n",
      "fetch_speed                   function                <function fetch_speed at 0x14f873740>\n",
      "fetch_st                      function                <function fetch_st at 0x14f8734c0>\n",
      "fetch_token                   function                <function fetch_token at 0x14f873600>\n",
      "fetch_unusable                function                <function fetch_unusable at 0x14f873920>\n",
      "footer                        function                <function footer at 0x14f873240>\n",
      "format_artwork                function                <function format_artwork at 0x14f872de0>\n",
      "format_errata                 function                <function format_errata at 0x14f872f20>\n",
      "generate_changelog            function                <function generate_changelog at 0x10f246700>\n",
      "git                           module                  <module 'yugiquery.utils.<...>/yugiquery/utils/git.py'>\n",
      "glob                          function                <function glob at 0x106c27e20>\n",
      "hashlib                       module                  <module 'hashlib' from '/<...>b/python3.12/hashlib.py'>\n",
      "header                        function                <function header at 0x14f8731a0>\n",
      "helpers                       module                  <module 'yugiquery.utils.<...>iquery/utils/helpers.py'>\n",
      "init_notebook_mode            function                <function init_notebook_mode at 0x11c758ae0>\n",
      "io                            module                  <module 'io' (frozen)>\n",
      "json                          module                  <module 'json' from '/opt<...>on3.12/json/__init__.py'>\n",
      "jupyter_client                module                  <module 'jupyter_client' <...>yter_client/__init__.py'>\n",
      "literal_eval                  function                <function literal_eval at 0x1059445e0>\n",
      "load_corrected_latest         function                <function load_corrected_latest at 0x14f872e80>\n",
      "load_json                     function                <function load_json at 0x11ca9ade0>\n",
      "load_secrets                  function                <function load_secrets at 0x11c4096c0>\n",
      "logging                       module                  <module 'logging' from '/<...>.12/logging/__init__.py'>\n",
      "loop                          int                     0\n",
      "main                          function                <function main at 0x14f873ce0>\n",
      "make_filename                 function                <function make_filename at 0x11ca97100>\n",
      "matplotlib                    module                  <module 'matplotlib' from<...>/matplotlib/__init__.py'>\n",
      "md5                           function                <function md5 at 0x11c7585e0>\n",
      "merge_errata                  function                <function merge_errata at 0x14f872fc0>\n",
      "merge_set_info                function                <function merge_set_info at 0x14f872d40>\n",
      "metadata                      module                  <module 'yugiquery.metada<...>s/yugiquery/metadata.py'>\n",
      "nbformat                      module                  <module 'nbformat' from '<...>es/nbformat/__init__.py'>\n",
      "np                            module                  <module 'numpy' from '/Us<...>kages/numpy/__init__.py'>\n",
      "os                            module                  <module 'os' (frozen)>\n",
      "params                        dict                    n=5\n",
      "pd                            module                  <module 'pandas' from '/U<...>ages/pandas/__init__.py'>\n",
      "plot                          module                  <module 'yugiquery.utils.<...>yugiquery/utils/plot.py'>\n",
      "plt                           module                  <module 'matplotlib.pyplo<...>es/matplotlib/pyplot.py'>\n",
      "pm                            module                  <module 'papermill' from <...>s/papermill/__init__.py'>\n",
      "rarities_dict                 dict                    n=71\n",
      "re                            module                  <module 're' from '/opt/h<...>thon3.12/re/__init__.py'>\n",
      "recent_changes                list                    n=0\n",
      "response                      Response                <Response [200]>\n",
      "run                           function                <function run at 0x14f873c40>\n",
      "run_notebooks                 function                <function run_notebooks at 0x14f873ba0>\n",
      "save_notebook                 function                <function save_notebook at 0x14f873060>\n",
      "separate_words_and_acronyms   function                <function separate_words_<...>_acronyms at 0x11ca945e0>\n",
      "sns                           module                  <module 'seaborn' from '/<...>ges/seaborn/__init__.py'>\n",
      "subprocess                    module                  <module 'subprocess' from<...>ython3.12/subprocess.py'>\n",
      "time                          module                  <module 'time' (built-in)>\n",
      "tqdm                          type                    <class 'tqdm.auto.tqdm'>\n",
      "trange                        function                <function trange at 0x11c7532e0>\n",
      "up                            module                  <module 'urllib.parse' fr<...>hon3.12/urllib/parse.py'>\n",
      "update_index                  function                <function update_index at 0x14f873100>\n",
      "utils                         module                  <module 'yugiquery.utils'<...>query/utils/__init__.py'>\n",
      "yugiquery                     module                  <module 'yugiquery.yugiqu<...>/yugiquery/yugiquery.py'>\n"
     ]
    }
   ],
   "source": [
    "%whos"
   ]
  },
  {
   "cell_type": "code",
   "execution_count": null,
   "id": "11",
   "metadata": {
    "tags": []
   },
   "outputs": [],
   "source": []
  }
 ],
 "metadata": {
  "kernelspec": {
   "display_name": "Python 3 (ipykernel)",
   "language": "python",
   "name": "python3"
  },
  "language_info": {
   "codemirror_mode": {
    "name": "ipython",
    "version": 3
   },
   "file_extension": ".py",
   "mimetype": "text/x-python",
   "name": "python",
   "nbconvert_exporter": "python",
   "pygments_lexer": "ipython3",
   "version": "3.12.5"
  }
 },
 "nbformat": 4,
 "nbformat_minor": 5
}
