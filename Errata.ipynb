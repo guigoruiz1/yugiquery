{
 "cells": [
  {
   "cell_type": "markdown",
   "id": "ce8eebf2",
   "metadata": {},
   "source": [
    "# Preamble"
   ]
  },
  {
   "cell_type": "markdown",
   "id": "b5e11a0e",
   "metadata": {
    "ExecuteTime": {
     "end_time": "2022-06-30T19:37:38.271767Z",
     "start_time": "2022-06-30T19:37:38.255405Z"
    }
   },
   "source": [
    "## Imports"
   ]
  },
  {
   "cell_type": "code",
   "execution_count": 10,
   "id": "ac282b3a",
   "metadata": {
    "ExecuteTime": {
     "end_time": "2022-07-01T20:33:02.633101Z",
     "start_time": "2022-07-01T20:32:53.930023Z"
    }
   },
   "outputs": [],
   "source": [
    "import pandas as pd\n",
    "from matplotlib_venn import venn2\n",
    "import matplotlib.pyplot as plt"
   ]
  },
  {
   "cell_type": "markdown",
   "id": "d7335fcf",
   "metadata": {},
   "source": [
    "## Lists"
   ]
  },
  {
   "cell_type": "code",
   "execution_count": 2,
   "id": "628f20e9",
   "metadata": {
    "ExecuteTime": {
     "end_time": "2022-07-01T20:33:02.674492Z",
     "start_time": "2022-07-01T20:33:02.638631Z"
    }
   },
   "outputs": [],
   "source": [
    "# API variables\n",
    "api_url = 'https://yugipedia.com/api.php'"
   ]
  },
  {
   "cell_type": "markdown",
   "id": "86fe2cf6",
   "metadata": {},
   "source": [
    "## Formatting functions"
   ]
  },
  {
   "cell_type": "code",
   "execution_count": 3,
   "id": "d268a528",
   "metadata": {
    "ExecuteTime": {
     "end_time": "2022-07-01T20:33:02.706644Z",
     "start_time": "2022-07-01T20:33:02.684904Z"
    }
   },
   "outputs": [],
   "source": [
    "def concat_errata(row):\n",
    "    result = tuple()\n",
    "    if row['Name errata']:\n",
    "        result += ('Name',)\n",
    "    if row['Type errata']:\n",
    "        result += ('Type',)\n",
    "    if result == tuple():\n",
    "        return np.nan\n",
    "    else:\n",
    "        return result"
   ]
  },
  {
   "cell_type": "markdown",
   "id": "781578a2",
   "metadata": {},
   "source": [
    "## API call functions"
   ]
  },
  {
   "cell_type": "code",
   "execution_count": 4,
   "id": "ef07ffe8",
   "metadata": {
    "ExecuteTime": {
     "end_time": "2022-07-01T20:33:02.734821Z",
     "start_time": "2022-07-01T20:33:02.720644Z"
    }
   },
   "outputs": [],
   "source": [
    "# Name errata query\n",
    "def fetch_name_errata():\n",
    "    name_query = '[[Category:Cards%20with%20name%20errata]]|limit=1000|order%3Dasc&format=json'\n",
    "    name_query_df = pd.read_json(f'{api_url}?action=ask&query={name_query}')\n",
    "    name_keys = list(name_query_df['query']['results'].keys())\n",
    "    return pd.DataFrame(True, index = [i.split(':')[1].strip() for i in name_keys if 'Card Errata:' in i], columns = ['Name errata'])\n",
    "\n",
    "# Type errata query\n",
    "def fetch_type_errata():\n",
    "    type_query = '[[Category:Cards%20with%20card%20type%20errata]]|limit=1000|order%3Dasc&format=json'\n",
    "    type_query_df = pd.read_json(f'{api_url}?action=ask&query={type_query}')\n",
    "    type_keys = list(type_query_df['query']['results'].keys())\n",
    "    return pd.DataFrame(True, index = [i.split(':')[1].strip() for i in type_keys if 'Card Errata:' in i], columns = ['Type errata'])"
   ]
  },
  {
   "cell_type": "markdown",
   "id": "7c4cc0fb",
   "metadata": {},
   "source": [
    "# Data aquisition"
   ]
  },
  {
   "cell_type": "markdown",
   "id": "2fe1a9bb",
   "metadata": {},
   "source": [
    "## Fetch online data"
   ]
  },
  {
   "cell_type": "code",
   "execution_count": 5,
   "id": "354c85ed",
   "metadata": {
    "ExecuteTime": {
     "end_time": "2022-07-01T20:33:05.234651Z",
     "start_time": "2022-07-01T20:33:02.739320Z"
    }
   },
   "outputs": [],
   "source": [
    "timestamp = pd.Timestamp.now().timestamp()\n",
    "name_df = fetch_name_errata()\n",
    "type_df = fetch_type_errata()"
   ]
  },
  {
   "cell_type": "markdown",
   "id": "4ecc4614",
   "metadata": {},
   "source": [
    "## Merge data frames"
   ]
  },
  {
   "cell_type": "code",
   "execution_count": 6,
   "id": "1644f28d",
   "metadata": {
    "ExecuteTime": {
     "end_time": "2022-07-01T20:33:05.358262Z",
     "start_time": "2022-07-01T20:33:05.237098Z"
    }
   },
   "outputs": [
    {
     "data": {
      "text/html": [
       "<div>\n",
       "<style scoped>\n",
       "    .dataframe tbody tr th:only-of-type {\n",
       "        vertical-align: middle;\n",
       "    }\n",
       "\n",
       "    .dataframe tbody tr th {\n",
       "        vertical-align: top;\n",
       "    }\n",
       "\n",
       "    .dataframe thead th {\n",
       "        text-align: right;\n",
       "    }\n",
       "</style>\n",
       "<table border=\"1\" class=\"dataframe\">\n",
       "  <thead>\n",
       "    <tr style=\"text-align: right;\">\n",
       "      <th></th>\n",
       "      <th>Name errata</th>\n",
       "      <th>Type errata</th>\n",
       "    </tr>\n",
       "  </thead>\n",
       "  <tbody>\n",
       "    <tr>\n",
       "      <th>\"A\" Cell Breeding Device</th>\n",
       "      <td>True</td>\n",
       "      <td>False</td>\n",
       "    </tr>\n",
       "    <tr>\n",
       "      <th>7 Completed</th>\n",
       "      <td>False</td>\n",
       "      <td>True</td>\n",
       "    </tr>\n",
       "    <tr>\n",
       "      <th>A Deal with Dark Ruler</th>\n",
       "      <td>True</td>\n",
       "      <td>True</td>\n",
       "    </tr>\n",
       "    <tr>\n",
       "      <th>A Legendary Ocean</th>\n",
       "      <td>False</td>\n",
       "      <td>True</td>\n",
       "    </tr>\n",
       "    <tr>\n",
       "      <th>A Wingbeat of Giant Dragon</th>\n",
       "      <td>False</td>\n",
       "      <td>True</td>\n",
       "    </tr>\n",
       "    <tr>\n",
       "      <th>...</th>\n",
       "      <td>...</td>\n",
       "      <td>...</td>\n",
       "    </tr>\n",
       "    <tr>\n",
       "      <th>Yellow Gadget</th>\n",
       "      <td>False</td>\n",
       "      <td>True</td>\n",
       "    </tr>\n",
       "    <tr>\n",
       "      <th>Yomi Ship</th>\n",
       "      <td>False</td>\n",
       "      <td>True</td>\n",
       "    </tr>\n",
       "    <tr>\n",
       "      <th>Z-Metal Tank</th>\n",
       "      <td>False</td>\n",
       "      <td>True</td>\n",
       "    </tr>\n",
       "    <tr>\n",
       "      <th>Zaborg the Thunder Monarch</th>\n",
       "      <td>False</td>\n",
       "      <td>True</td>\n",
       "    </tr>\n",
       "    <tr>\n",
       "      <th>Zombyra the Dark</th>\n",
       "      <td>True</td>\n",
       "      <td>False</td>\n",
       "    </tr>\n",
       "  </tbody>\n",
       "</table>\n",
       "<p>1145 rows × 2 columns</p>\n",
       "</div>"
      ],
      "text/plain": [
       "                            Name errata  Type errata\n",
       "\"A\" Cell Breeding Device           True        False\n",
       "7 Completed                       False         True\n",
       "A Deal with Dark Ruler             True         True\n",
       "A Legendary Ocean                 False         True\n",
       "A Wingbeat of Giant Dragon        False         True\n",
       "...                                 ...          ...\n",
       "Yellow Gadget                     False         True\n",
       "Yomi Ship                         False         True\n",
       "Z-Metal Tank                      False         True\n",
       "Zaborg the Thunder Monarch        False         True\n",
       "Zombyra the Dark                   True        False\n",
       "\n",
       "[1145 rows x 2 columns]"
      ]
     },
     "execution_count": 6,
     "metadata": {},
     "output_type": "execute_result"
    }
   ],
   "source": [
    "# Merged data frame\n",
    "errata_df = pd.concat([name_df, type_df], axis = 1).fillna(False).sort_index()\n",
    "errata_df"
   ]
  },
  {
   "cell_type": "markdown",
   "id": "c3e6901d",
   "metadata": {
    "ExecuteTime": {
     "end_time": "2022-06-30T19:04:40.918017Z",
     "start_time": "2022-06-30T19:04:40.912981Z"
    }
   },
   "source": [
    "# Venn diagram"
   ]
  },
  {
   "cell_type": "code",
   "execution_count": 7,
   "id": "bc8b432c",
   "metadata": {
    "ExecuteTime": {
     "end_time": "2022-07-01T20:33:05.400919Z",
     "start_time": "2022-07-01T20:33:05.380001Z"
    }
   },
   "outputs": [],
   "source": [
    "name_only = sum(errata_df['Name errata'] & ~errata_df['Type errata'])\n",
    "type_only = sum(errata_df['Type errata'] & ~errata_df['Name errata'])\n",
    "both = sum(errata_df['Name errata'] & errata_df['Type errata'])"
   ]
  },
  {
   "cell_type": "code",
   "execution_count": 8,
   "id": "a6dd8811",
   "metadata": {
    "ExecuteTime": {
     "end_time": "2022-07-01T20:33:05.441011Z",
     "start_time": "2022-07-01T20:33:05.411045Z"
    }
   },
   "outputs": [
    {
     "name": "stdout",
     "output_type": "stream",
     "text": [
      "Total number of cards with errata: 1145\n",
      "Total number of cards with only name errata: 428\n",
      "Total number of cards with only type errata: 618\n",
      "Total number of cards with name and type errata: 99\n"
     ]
    }
   ],
   "source": [
    "print('Total number of cards with errata:', len(errata_df))\n",
    "print('Total number of cards with only name errata:', name_only)\n",
    "print('Total number of cards with only type errata:', type_only)\n",
    "print('Total number of cards with name and type errata:', both)"
   ]
  },
  {
   "cell_type": "code",
   "execution_count": 9,
   "id": "a5cfaf64",
   "metadata": {
    "ExecuteTime": {
     "end_time": "2022-07-01T20:33:05.753220Z",
     "start_time": "2022-07-01T20:33:05.496323Z"
    }
   },
   "outputs": [
    {
     "data": {
      "image/png": "[encoded data removed]",
      "text/plain": [
       "<Figure size 2000x1000 with 1 Axes>"
      ]
     },
     "metadata": {},
     "output_type": "display_data"
    }
   ],
   "source": [
    "plt.figure(figsize=(20,10))\n",
    "venn2(subsets = (name_only, type_only, both), set_labels = ('Name errata', 'Type errata'))\n",
    "plt.show()"
   ]
  }
 ],
 "metadata": {
  "kernelspec": {
   "display_name": "Python 3 (ipykernel)",
   "language": "python",
   "name": "python3"
  },
  "language_info": {
   "codemirror_mode": {
    "name": "ipython",
    "version": 3
   },
   "file_extension": ".py",
   "mimetype": "text/x-python",
   "name": "python",
   "nbconvert_exporter": "python",
   "pygments_lexer": "ipython3",
   "version": "3.10.6"
  },
  "toc": {
   "base_numbering": 1,
   "nav_menu": {},
   "number_sections": false,
   "sideBar": true,
   "skip_h1_title": false,
   "title_cell": "Table of Contents",
   "title_sidebar": "Contents",
   "toc_cell": false,
   "toc_position": {},
   "toc_section_display": true,
   "toc_window_display": true
  }
 },
 "nbformat": 4,
 "nbformat_minor": 5
}
