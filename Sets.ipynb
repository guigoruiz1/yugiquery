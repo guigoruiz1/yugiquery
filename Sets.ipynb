{
 "cells": [
  {
   "cell_type": "markdown",
   "id": "2e279beb",
   "metadata": {},
   "source": [
    "# Preamble"
   ]
  },
  {
   "cell_type": "code",
   "execution_count": 1,
   "id": "0e08a9ff",
   "metadata": {
    "ExecuteTime": {
     "end_time": "2022-06-30T19:02:21.287515Z",
     "start_time": "2022-06-30T19:02:16.822430Z"
    }
   },
   "outputs": [],
   "source": [
    "import glob\n",
    "import os\n",
    "import pandas as pd\n",
    "import numpy as np\n",
    "import seaborn as sns\n",
    "import wikitextparser as wtp\n",
    "%matplotlib inline\n",
    "import matplotlib.pyplot as plt\n",
    "from matplotlib.colors import LogNorm, Normalize\n",
    "from datetime import datetime\n",
    "from ast import literal_eval"
   ]
  },
  {
   "cell_type": "markdown",
   "id": "1d7327ec",
   "metadata": {},
   "source": [
    "# Lists"
   ]
  },
  {
   "cell_type": "code",
   "execution_count": 2,
   "id": "93127a6d",
   "metadata": {
    "ExecuteTime": {
     "end_time": "2022-06-30T19:02:21.307482Z",
     "start_time": "2022-06-30T19:02:21.291007Z"
    }
   },
   "outputs": [],
   "source": [
    "# API variables\n",
    "api_url = 'https://yugipedia.com/api.php'\n",
    "sets_query_url = '?action=ask&query=[[Category:Set%20Card%20Lists]]|limit%3D5000|order%3Dasc&format=json'\n",
    "lists_query_url = '?action=query&prop=revisions&rvprop=content&format=json&titles='\n",
    "\n",
    "rarity_dict = {'c': 'Common', 'r': 'Rare', 'sr': 'Super Rare', 'ur': 'Ultra Rare', 'utr': 'Ultimate Rare', 'n': 'Normal', 'nr': 'Normal Rare', 'sp': 'Short Print', 'ssp': 'Super Short Print', 'hfr': 'Holofoil Rare', 'scr': 'Secret Rare', 'uscr': 'Ultra Secret Rare', 'scur': 'Secret Ultra Rare', 'pscr': 'Prismatic Secret Rare', 'hgr': 'Holographic Rare', ' gr': 'Ghost Rare', 'pr': 'Parallel Rare', 'npr': 'Normal Parallel Rare', 'pc': 'Parallel Common', 'spr': 'Super Parallel Rare', 'upr': 'Ultra Parallel Rare', 'dnpr': 'Duel Terminal Normal Parallel Rare', 'dpc': 'Duel Terminal Parallel Common', 'drpr': 'Duel Terminal Rare Parallel Rare', 'dspr': 'Duel Terminal Super Parallel Rare', 'dupr': 'Duel Terminal Ultra Parallel Rare', 'DScPR': 'Duel Terminal Secret Parallel Rare', 'gur': 'Gold Rare', 'escr': 'Extra Secret Rare', 'ggr': 'Ghost/Gold Rare', 'shr': 'Shatterfoil Rare', 'cr': 'Collector\\'s Rare', 'str': 'Starlight Rare', 'gr': 'Ghost Rare', 'gscr': 'Gold Secret Rare', 'sfr': 'Starfoil Rare'}\n",
    "regions_dict = {'EN':'English','E':'English', 'PT': 'Portuguese', 'P': 'Portuguese', 'DE': 'German', 'G': 'German', 'FR': 'French', 'F': 'French', 'IT': 'Italian', 'I': 'Italian', 'SP': 'Spanish', 'S': 'Spanish', 'JP': 'Japanese', 'AE': 'Asian English', 'KR': 'Korean', 'K': 'Korean', 'TC': 'Traditional Chinese', 'SC': 'Simplified Chinese'}"
   ]
  },
  {
   "cell_type": "code",
   "execution_count": 3,
   "id": "2e8de6ba",
   "metadata": {
    "ExecuteTime": {
     "end_time": "2022-06-30T19:02:21.884081Z",
     "start_time": "2022-06-30T19:02:21.311536Z"
    }
   },
   "outputs": [
    {
     "data": {
      "text/html": [
       "<div>\n",
       "<style scoped>\n",
       "    .dataframe tbody tr th:only-of-type {\n",
       "        vertical-align: middle;\n",
       "    }\n",
       "\n",
       "    .dataframe tbody tr th {\n",
       "        vertical-align: top;\n",
       "    }\n",
       "\n",
       "    .dataframe thead th {\n",
       "        text-align: right;\n",
       "    }\n",
       "</style>\n",
       "<table border=\"1\" class=\"dataframe\">\n",
       "  <thead>\n",
       "    <tr style=\"text-align: right;\">\n",
       "      <th></th>\n",
       "      <th>query</th>\n",
       "    </tr>\n",
       "  </thead>\n",
       "  <tbody>\n",
       "    <tr>\n",
       "      <th>meta</th>\n",
       "      <td>{'hash': '7848540055229a5d6df85faadfa4b911', '...</td>\n",
       "    </tr>\n",
       "    <tr>\n",
       "      <th>printrequests</th>\n",
       "      <td>[{'label': '', 'key': '', 'redi': '', 'typeid'...</td>\n",
       "    </tr>\n",
       "    <tr>\n",
       "      <th>results</th>\n",
       "      <td>{'Legend of Blue Eyes White Dragon': {'printou...</td>\n",
       "    </tr>\n",
       "    <tr>\n",
       "      <th>serializer</th>\n",
       "      <td>SMW\\Serializers\\QueryResultSerializer</td>\n",
       "    </tr>\n",
       "    <tr>\n",
       "      <th>version</th>\n",
       "      <td>2</td>\n",
       "    </tr>\n",
       "  </tbody>\n",
       "</table>\n",
       "</div>"
      ],
      "text/plain": [
       "                                                           query\n",
       "meta           {'hash': '7848540055229a5d6df85faadfa4b911', '...\n",
       "printrequests  [{'label': '', 'key': '', 'redi': '', 'typeid'...\n",
       "results        {'Legend of Blue Eyes White Dragon': {'printou...\n",
       "serializer                 SMW\\Serializers\\QueryResultSerializer\n",
       "version                                                        2"
      ]
     },
     "execution_count": 3,
     "metadata": {},
     "output_type": "execute_result"
    }
   ],
   "source": [
    "test = pd.read_json('https://yugipedia.com/api.php?action=askargs&conditions=Legend%20of%20Blue%20Eyes%20White%20Dragon&printouts=German%20release%20date&format=json')\n",
    "test"
   ]
  },
  {
   "cell_type": "code",
   "execution_count": 4,
   "id": "b38b4938",
   "metadata": {
    "ExecuteTime": {
     "end_time": "2022-06-30T19:02:21.902829Z",
     "start_time": "2022-06-30T19:02:21.890671Z"
    }
   },
   "outputs": [
    {
     "data": {
      "text/plain": [
       "'Fri Apr 25 00:00:00 2003'"
      ]
     },
     "execution_count": 4,
     "metadata": {},
     "output_type": "execute_result"
    }
   ],
   "source": [
    "test2 = pd.DataFrame(test['query']['results']).T\n",
    "test3 = pd.DataFrame(test2['printouts'].values.tolist())\n",
    "timestamp = test3['German release date'][0][0]['timestamp']\n",
    "pd.Timestamp(int(timestamp), unit='s').ctime()"
   ]
  },
  {
   "cell_type": "code",
   "execution_count": 5,
   "id": "3b7ee7d6",
   "metadata": {
    "ExecuteTime": {
     "end_time": "2022-06-30T19:02:26.440342Z",
     "start_time": "2022-06-30T19:02:21.910484Z"
    }
   },
   "outputs": [
    {
     "name": "stdout",
     "output_type": "stream",
     "text": [
      "3943\n"
     ]
    }
   ],
   "source": [
    "df = pd.read_json(f'{api_url}{sets_query_url}')\n",
    "keys = list(df['query']['results'].keys())\n",
    "print(len(keys))"
   ]
  },
  {
   "cell_type": "code",
   "execution_count": 50,
   "id": "31a6fca2",
   "metadata": {
    "ExecuteTime": {
     "end_time": "2022-06-30T21:46:09.845745Z",
     "start_time": "2022-06-30T21:44:50.743532Z"
    },
    "code_folding": [
     10
    ]
   },
   "outputs": [
    {
     "name": "stdout",
     "output_type": "stream",
     "text": [
      "Error: B\"Set Card Lists:The Lost Millennium (TCG-FR)\n",
      "Error: B\"Set Card Lists:Astral Pack One (TCG-DE)\n",
      "Error: Set Card Lists:Starter Deck: Joey (TCG-EN)\n",
      "Error: Set Card Lists:Yu-Gi-Oh! Duel Monsters VI: Expert 2 Game Guide 2 Promos (OCG-JP)\n",
      "Error: Set Card Lists:Yu-Gi-Oh: Super Fusion! Bonds That Transcend Time Movie Pack (OCG-KR)\n",
      "Error: Set Card Lists:Pharaoh Tour 2006 promotional cards (TCG-IT)\n",
      "Error: Set Card Lists:Sneak Peek Participation Cards: Series 1 (TCG-EN)\n",
      "Error: B\"Set Card Lists:Astral Pack Seven (TCG-PT)\n",
      "Error: B\"Set Card Lists:Yu-Gi-Oh! ZEXAL Volume 8 promotional card (TCG-EN)\n",
      "Error: Set Card Lists:Sneak Peek Participation Cards: Series 6 (TCG-IT)\n",
      "Error: Set Card Lists:Structure Deck: Warrior's Strike (OCG-KR)\n",
      "Error: B'Set Card Lists:Yu-Gi-Oh! The Dark Side of Dimensions Theater distribution card 2 (OCG-JP)\n",
      "Error: Set Card Lists:Sneak Peek Participation Cards: Series 4 (TCG-DE)\n",
      "Error: B\"Set Card Lists:Hobby League 7 participation card D (TCG-EN)\n",
      "Error: B\"Set Card Lists:Gold Series 2013 (OCG-JP)\n",
      "Error: Set Card Lists:Sneak Peek Participation Cards: Series 6 (TCG-SP)\n",
      "Error: Set Card Lists:The Dark Illusion: Special Edition (TCG-SP)\n",
      "Error: Set Card Lists:Yu-Gi-Oh! Duel Monsters 7: The Duel City Legend Game Guide 1 Promos (OCG-JP)\n",
      "Error: B\"Set Card Lists:Shadow of Infinity (OCG-KR)\n",
      "Error: Set Card Lists:The Dark Illusion: Special Edition (TCG-PT)\n",
      "Error: Set Card Lists:The Dark Illusion: Special Edition (TCG-FR)\n",
      "Error: Set Card Lists:Saiky\\xc5\\x8d V Jump Festa 2013 promotional card (OCG-JP)\n",
      "Error: Set Card Lists:Sneak Peek Participation Cards: Series 4 (TCG-FR)\n",
      "Error: Set Card Lists:2-Player Starter Deck: Yuya\n",
      "Error: B\"Set Card Lists:Zexal Collection Tin (TCG-SP)\n",
      "Error: Set Card Lists:San Diego Comic-Con promotional cards (TCG-EN)\n",
      "Error: B\"Set Card Lists:Extreme Victory (TCG-FR)\n",
      "Error: B\"Set Card Lists:Invasion of Chaos (TCG-FR)\n",
      "Error: Set Card Lists:Duelist Pack: Yuma 2: Gogogo\n",
      "Error: B\"Set Card Lists:Hidden Arsenal: Special Edition (TCG-IT)\n",
      "Error: Set Card Lists:Sneak Peek Participation Cards: Series 5 (TCG-SP)\n",
      "Error: Set Card Lists:Yu-Gi-Oh! 5D's World Championship 2011 - Over the Nexus Strategy Guide (OCG-JP)\n",
      "Error: B\"Set Card Lists:Order of Chaos: Special Edition (TCG-EN)\n",
      "Error: Set Card Lists:Sneak Peek Participation Cards: Series 5 (TCG-IT)\n",
      "Error: Set Card Lists:Sneak Peek Participation Cards: Series 3 (TCG-EN)\n",
      "Error: B\"Set Card Lists:V Jump June 2016 promotional card (OCG-JP)\n",
      "Error: Set Card Lists:Sneak Peek Participation Cards: Series 3 (TCG-SP)\n",
      "Error: B\"Set Card Lists:Duelist League Series 9 participation card (TCG-EN)\n",
      "Error: Set Card Lists:Sneak Peek Participation Cards: Series 6 (TCG-EN)\n",
      "Error: B\"Set Card Lists:Gold Series 2010 (OCG-KR)\n",
      "Error: B\"Set Card Lists:Controller of Chaos (OCG-JP)\n",
      "Error: Set Card Lists:Expert Edition Volume.3 (OCG-KR)\n",
      "Error: B\"Set Card Lists:Structure Deck: Invincible Fortress (TCG-FR)\n",
      "Error: Set Card Lists:Pink Millennium Eye (SDD-EN)\n",
      "Error: B\"Set Card Lists:Absolute Powerforce: Special Edition (TCG-IT)\n",
      "Error: B\"Set Card Lists:Storm of Ragnarok: Special Edition (TCG-DE)\n",
      "Error: Set Card Lists:Expert Edition Volume.4 (OCG-JP)\n",
      "Error: B\"Set Card Lists:Pharaoh Tour 2006 promotional cards (TCG-DE)\n",
      "Error: Set Card Lists:Duelist Set: DX Double Union (OCG-JP)\n",
      "Error: B\"Set Card Lists:Super Starter: Space-Time Showdown (TCG-FR)\n",
      "Error: B\"Set Card Lists:Battle Pack 3: Monster League (TCG-IT)\n",
      "Error: Set Card Lists:Yu-Gi-Oh! The Dark Side of Dimensions Blu-ray\n",
      "Error: B\"Set Card Lists:Starter Deck: Yu-Gi-Oh! 5D's 2009 (TCG-SP)\n",
      "Error: Set Card Lists:Sneak Peek Participation Cards: Series 5 (TCG-EN)\n",
      "Error: Set Card Lists:Swedish Shonen Jump 2004, Issue 3 promotional card (TCG-EN)\n",
      "Error: B\"Set Card Lists:Primal Origin (TCG-EN)\n",
      "Error: Set Card Lists:Yu-Gi-Oh! Duel Monsters VI: Expert 2 Game Guide 1 Promos (OCG-JP)\n",
      "Error: B\"Set Card Lists:Star Pack ARC-V (TCG-EN)\n",
      "Error: Set Card Lists:Evolzar Dolkka Collectible Tin (TCG-EN)\n",
      "Error: Set Card Lists:Jump Ry\\xc5\\xab Vol.08 promotional card (OCG-JP)\n",
      "Error: B\"Set Card Lists:Absolute Powerforce: Special Edition (TCG-DE)\n",
      "Error: Set Card Lists:The Dark Illusion: Special Edition (TCG-IT)\n",
      "Error: Set Card Lists:Duelist Card Protector EX: Shadow of the Six Samurai - Shien\n",
      "Error: Set Card Lists:Sneak Peek Participation Cards: Series 6 (TCG-FR)\n",
      "Error: B\"Set Card Lists:Turbo Pack: Booster Four (TCG-FR)\n",
      "Error: Set Card Lists:Sneak Peek Participation Cards: Series 6 (TCG-DE)\n",
      "Error: B'Set Card Lists:Hidden Arsenal 6: Omega Xyz (OCG-KR)\n",
      "Error: Set Card Lists:Yu-Gi-Oh! World Championship 2003 prize cards (OCG-AE)\n",
      "Error: Set Card Lists:Legendary Collection 5D\\'s Mega Pack (TCG-FR)\n",
      "Error: Set Card Lists:Structure Deck: HERO\\'s Strike (OCG-KR)\n",
      "Error: Set Card Lists:Hidden Arsenal 4: Trishula\\'s Triumph (TCG-DE)\n",
      "Error: Set Card Lists:Duel Master\\'s Guide promotional cards (OCG-KR)\n",
      "Error: B\"Set Card Lists:2019 Gold Sarcophagus Tin (TCG-EN)\n",
      "Error: B\"Set Card Lists:Battles of Legend: Armageddon (TCG-DE)\n",
      "Error: Set Card Lists:Blazing Vortex 1 Bonus Pack (OCG-JP)\n",
      "Error: Set Card Lists:Blazing Vortex 1 Bonus Pack (OCG-KR)\n",
      "Error: B'Set Card Lists:Chinese Weekly Sh\\xc5\\x8dnen Jump lottery prize cards (OCG-JP)\n",
      "Error: B'Set Card Lists:Collectible Tins 2009 Wave 1 (TCG-FR)\n",
      "Error: B'Set Card Lists:Cybernetic Revolution: Vendor Edition (OCG-JP)\n",
      "Error: Set Card Lists:Darkwing Blast 1 Bonus Pack (OCG-JP)\n",
      "Error: Set Card Lists:Dawn of Majesty 1 Bonus Pack (OCG-JP)\n",
      "Error: Set Card Lists:Dawn of Majesty 1 Bonus Pack (OCG-KR)\n",
      "Error: B\"Set Card Lists:Demo Pack (TCG-PT)\n",
      "Error: Set Card Lists:Dimension Force 1 Bonus Pack (OCG-JP)\n",
      "Error: Set Card Lists:Dimension Force 1 Bonus Pack (OCG-KR)\n",
      "Error: B'Set Card Lists:Duelist League Series 2 participation cards (TCG-FR)\n",
      "Error: B'Set Card Lists:Duelist Pack: Jesse Anderson Special Edition (OCG-KR)\n",
      "Error: B'Set Card Lists:Eternity Code (TCG-EN)\n",
      "Error: B\"Set Card Lists:Ghosts From the Past (TCG-PT)\n",
      "Error: B\"Set Card Lists:Ignition Assault Sneak Peek Participation Card (TCG-FR)\n",
      "Error: Set Card Lists:King's Court (TCG-DE)\"\n"
     ]
    }
   ],
   "source": [
    "all_set_lists = pd.DataFrame(columns = ['Set','Card number','Name','Rarity','Print','Quantity'])\n",
    "\n",
    "for i in range(40):\n",
    "    first = i*100\n",
    "    last = (i+1)*100\n",
    "    titles = '|'.join(keys[first:last]).replace(' ','%20').encode('utf-8')\n",
    "    df = pd.read_json(f'{api_url}{lists_query_url}{titles}')\n",
    "    contents = df['query']['pages'].values()\n",
    "    \n",
    "    for content in contents:\n",
    "        if 'revisions' in  content.keys():\n",
    "            temp = content['revisions'][0]['*']\n",
    "            parsed = wtp.parse(temp)\n",
    "            \n",
    "            for template in parsed.templates:\n",
    "                if template.name == 'Set list':\n",
    "                    title = content['title'].split('Lists:')[1]\n",
    "                    set_df = pd.DataFrame(columns = ['Set', 'Card number', 'Name', 'Rarity', 'Print', 'Quantity'])\n",
    "\n",
    "\n",
    "                    region = None\n",
    "                    rarity = None\n",
    "                    card_print = None\n",
    "                    qty = None\n",
    "                    desc = None\n",
    "                    opt = None\n",
    "                    list_df = None\n",
    "                    \n",
    "                    for argument in template.arguments:\n",
    "                        if 'region=' in argument:\n",
    "                            region = argument.string[argument.string.index('=')+1:]\n",
    "                        elif 'rarities=' in argument:\n",
    "                            rarity = tuple(rarity_dict.get(i.strip().lower(), i.strip()) for i in argument.string[argument.string.index('=')+1:].split(','))\n",
    "                        elif 'print=' in argument:\n",
    "                            card_print = argument.string[argument.string.index('=')+1:]\n",
    "                        elif 'qty=' in argument:\n",
    "                            qty = argument.string[argument.string.index('=')+1:]\n",
    "                        elif 'description=' in argument:\n",
    "                            desc = argument.string[argument.string.index('=')+1:]\n",
    "                        elif 'options=' in argument:\n",
    "                            opt = argument.string[argument.string.index('=')+1:]\n",
    "                        else:\n",
    "                            set_list = argument.string[2:-1]\n",
    "                            lines = set_list.split('\\n')\n",
    "\n",
    "                            list_df = pd.DataFrame([x.split(';') for x in lines])\n",
    "                            list_df = list_df[~list_df[0].str.contains('!:')]\n",
    "                            list_df = list_df.applymap(lambda x: x.split('//')[0] if x is not None else x)\n",
    "                            list_df = list_df.applymap(lambda x: x.strip() if x is not None else x)\n",
    "                            list_df.replace(r'^\\s*$', None, regex = True, inplace = True)\n",
    "\n",
    "                    if opt != 'noabbr':\n",
    "                        set_df['Card number'] = list_df[0]\n",
    "                        set_df['Name'] = list_df[1]\n",
    "                    else: \n",
    "                        set_df['Name'] = list_df[0]\n",
    "\n",
    "                    if len(list_df.columns)>2: # and rare in str\n",
    "                        set_df['Rarity'] = list_df[2].apply(lambda x: tuple([rarity_dict.get(y.strip().lower(), y.strip()) for y in x.split(',')]) if x is not None else rarity)\n",
    "                    else:\n",
    "                        set_df['Rarity'] = [rarity for _ in set_df.index]\n",
    "\n",
    "                    if len(list_df.columns)>3 :\n",
    "                        if card_print is not None: # and new/reprint in str\n",
    "                            set_df['Print'] = list_df[3].apply(lambda x: x if x is not None else card_print)\n",
    "                            if len(list_df.columns)>4 and qty is not None:\n",
    "                                set_df['Quantity'] = list_df[4].apply(lambda x: x if x is not None else qty)\n",
    "                        elif qty is not None:\n",
    "                            set_df['Quantity'] = list_df[3].apply(lambda x: x if x is not None else qty)\n",
    "                    \n",
    "                    set_df['Set'] = title\n",
    "                    all_set_lists = pd.concat([all_set_lists, set_df], ignore_index=True)\n",
    "                    \n",
    "        else:\n",
    "            print('Error:', content['title'])"
   ]
  },
  {
   "cell_type": "code",
   "execution_count": 8,
   "id": "083c8be8",
   "metadata": {
    "ExecuteTime": {
     "end_time": "2022-06-30T20:19:58.739567Z",
     "start_time": "2022-06-30T20:19:58.563361Z"
    }
   },
   "outputs": [
    {
     "data": {
      "text/html": [
       "<div>\n",
       "<style scoped>\n",
       "    .dataframe tbody tr th:only-of-type {\n",
       "        vertical-align: middle;\n",
       "    }\n",
       "\n",
       "    .dataframe tbody tr th {\n",
       "        vertical-align: top;\n",
       "    }\n",
       "\n",
       "    .dataframe thead th {\n",
       "        text-align: right;\n",
       "    }\n",
       "</style>\n",
       "<table border=\"1\" class=\"dataframe\">\n",
       "  <thead>\n",
       "    <tr style=\"text-align: right;\">\n",
       "      <th></th>\n",
       "      <th>Set</th>\n",
       "      <th>Card number</th>\n",
       "      <th>Name</th>\n",
       "      <th>Rarity</th>\n",
       "      <th>Print</th>\n",
       "      <th>Quantity</th>\n",
       "    </tr>\n",
       "  </thead>\n",
       "  <tbody>\n",
       "    <tr>\n",
       "      <th>0</th>\n",
       "      <td>Absolute Powerforce: Special Edition (TCG-FR)</td>\n",
       "      <td>ABPF-FRSE1</td>\n",
       "      <td>Dandylion</td>\n",
       "      <td>(Super rare,)</td>\n",
       "      <td>NaN</td>\n",
       "      <td>NaN</td>\n",
       "    </tr>\n",
       "    <tr>\n",
       "      <th>1</th>\n",
       "      <td>Absolute Powerforce: Special Edition (TCG-FR)</td>\n",
       "      <td>ABPF-FRSE2</td>\n",
       "      <td>Red-Eyes Darkness Metal Dragon</td>\n",
       "      <td>(Super rare,)</td>\n",
       "      <td>NaN</td>\n",
       "      <td>NaN</td>\n",
       "    </tr>\n",
       "    <tr>\n",
       "      <th>2</th>\n",
       "      <td>Abyss Rising (OCG-KR)</td>\n",
       "      <td>ABYR-KR001</td>\n",
       "      <td>Gagaga Caesar</td>\n",
       "      <td>(Rare,)</td>\n",
       "      <td>NaN</td>\n",
       "      <td>NaN</td>\n",
       "    </tr>\n",
       "    <tr>\n",
       "      <th>3</th>\n",
       "      <td>Abyss Rising (OCG-KR)</td>\n",
       "      <td>ABYR-KR002</td>\n",
       "      <td>Bull Blader</td>\n",
       "      <td>(Rare,)</td>\n",
       "      <td>NaN</td>\n",
       "      <td>NaN</td>\n",
       "    </tr>\n",
       "    <tr>\n",
       "      <th>4</th>\n",
       "      <td>Abyss Rising (OCG-KR)</td>\n",
       "      <td>ABYR-KR003</td>\n",
       "      <td>Achacha Chanbara</td>\n",
       "      <td>(Common,)</td>\n",
       "      <td>NaN</td>\n",
       "      <td>NaN</td>\n",
       "    </tr>\n",
       "    <tr>\n",
       "      <th>...</th>\n",
       "      <td>...</td>\n",
       "      <td>...</td>\n",
       "      <td>...</td>\n",
       "      <td>...</td>\n",
       "      <td>...</td>\n",
       "      <td>...</td>\n",
       "    </tr>\n",
       "    <tr>\n",
       "      <th>71926</th>\n",
       "      <td>KC Grand Tournament 2021 prize card (TCG-EN)</td>\n",
       "      <td>2021-EN001</td>\n",
       "      <td>Dark Magician</td>\n",
       "      <td>(Extra Secret Rare,)</td>\n",
       "      <td>NaN</td>\n",
       "      <td>NaN</td>\n",
       "    </tr>\n",
       "    <tr>\n",
       "      <th>71927</th>\n",
       "      <td>KC Grand Tournament 2022 prize card (TCG-EN)</td>\n",
       "      <td>2022-EN001</td>\n",
       "      <td>Red-Eyes Black Dragon</td>\n",
       "      <td>(Extra Secret Rare,)</td>\n",
       "      <td>NaN</td>\n",
       "      <td>NaN</td>\n",
       "    </tr>\n",
       "    <tr>\n",
       "      <th>71928</th>\n",
       "      <td>KC Grand Tournament prize card (TCG-EN)</td>\n",
       "      <td>2020-EN001</td>\n",
       "      <td>Blue-Eyes White Dragon</td>\n",
       "      <td>(Extra Secret Rare,)</td>\n",
       "      <td>NaN</td>\n",
       "      <td>NaN</td>\n",
       "    </tr>\n",
       "    <tr>\n",
       "      <th>71929</th>\n",
       "      <td>Kaiba's Collector Box (TCG-EN)</td>\n",
       "      <td>KACB-EN001</td>\n",
       "      <td>Blue-Eyes White Dragon</td>\n",
       "      <td>(Ultra Rare,)</td>\n",
       "      <td>NaN</td>\n",
       "      <td>NaN</td>\n",
       "    </tr>\n",
       "    <tr>\n",
       "      <th>71930</th>\n",
       "      <td>Kids' WB! Duel of Destiny promotional card (TC...</td>\n",
       "      <td>EP1-EN000</td>\n",
       "      <td>Card of Sanctity</td>\n",
       "      <td>(Common,)</td>\n",
       "      <td>NaN</td>\n",
       "      <td>NaN</td>\n",
       "    </tr>\n",
       "  </tbody>\n",
       "</table>\n",
       "<p>71931 rows × 6 columns</p>\n",
       "</div>"
      ],
      "text/plain": [
       "                                                     Set Card number  \\\n",
       "0          Absolute Powerforce: Special Edition (TCG-FR)  ABPF-FRSE1   \n",
       "1          Absolute Powerforce: Special Edition (TCG-FR)  ABPF-FRSE2   \n",
       "2                                  Abyss Rising (OCG-KR)  ABYR-KR001   \n",
       "3                                  Abyss Rising (OCG-KR)  ABYR-KR002   \n",
       "4                                  Abyss Rising (OCG-KR)  ABYR-KR003   \n",
       "...                                                  ...         ...   \n",
       "71926       KC Grand Tournament 2021 prize card (TCG-EN)  2021-EN001   \n",
       "71927       KC Grand Tournament 2022 prize card (TCG-EN)  2022-EN001   \n",
       "71928            KC Grand Tournament prize card (TCG-EN)  2020-EN001   \n",
       "71929                     Kaiba's Collector Box (TCG-EN)  KACB-EN001   \n",
       "71930  Kids' WB! Duel of Destiny promotional card (TC...   EP1-EN000   \n",
       "\n",
       "                                 Name                Rarity Print Quantity  \n",
       "0                           Dandylion         (Super rare,)   NaN      NaN  \n",
       "1      Red-Eyes Darkness Metal Dragon         (Super rare,)   NaN      NaN  \n",
       "2                       Gagaga Caesar               (Rare,)   NaN      NaN  \n",
       "3                         Bull Blader               (Rare,)   NaN      NaN  \n",
       "4                    Achacha Chanbara             (Common,)   NaN      NaN  \n",
       "...                               ...                   ...   ...      ...  \n",
       "71926                   Dark Magician  (Extra Secret Rare,)   NaN      NaN  \n",
       "71927           Red-Eyes Black Dragon  (Extra Secret Rare,)   NaN      NaN  \n",
       "71928          Blue-Eyes White Dragon  (Extra Secret Rare,)   NaN      NaN  \n",
       "71929          Blue-Eyes White Dragon         (Ultra Rare,)   NaN      NaN  \n",
       "71930                Card of Sanctity             (Common,)   NaN      NaN  \n",
       "\n",
       "[71931 rows x 6 columns]"
      ]
     },
     "execution_count": 8,
     "metadata": {},
     "output_type": "execute_result"
    }
   ],
   "source": [
    "all_set_lists"
   ]
  },
  {
   "cell_type": "code",
   "execution_count": 28,
   "id": "85b9f8df",
   "metadata": {
    "ExecuteTime": {
     "end_time": "2022-06-30T20:25:17.918131Z",
     "start_time": "2022-06-30T20:25:17.563418Z"
    }
   },
   "outputs": [
    {
     "data": {
      "text/html": [
       "<div>\n",
       "<style scoped>\n",
       "    .dataframe tbody tr th:only-of-type {\n",
       "        vertical-align: middle;\n",
       "    }\n",
       "\n",
       "    .dataframe tbody tr th {\n",
       "        vertical-align: top;\n",
       "    }\n",
       "\n",
       "    .dataframe thead th {\n",
       "        text-align: right;\n",
       "    }\n",
       "</style>\n",
       "<table border=\"1\" class=\"dataframe\">\n",
       "  <thead>\n",
       "    <tr style=\"text-align: right;\">\n",
       "      <th></th>\n",
       "      <th>Set</th>\n",
       "      <th>Name</th>\n",
       "      <th>Rarity</th>\n",
       "      <th>Print</th>\n",
       "      <th>Quantity</th>\n",
       "    </tr>\n",
       "    <tr>\n",
       "      <th>Card number</th>\n",
       "      <th></th>\n",
       "      <th></th>\n",
       "      <th></th>\n",
       "      <th></th>\n",
       "      <th></th>\n",
       "    </tr>\n",
       "  </thead>\n",
       "  <tbody>\n",
       "    <tr>\n",
       "      <th>15AX-JP000</th>\n",
       "      <td>1</td>\n",
       "      <td>1</td>\n",
       "      <td>1</td>\n",
       "      <td>1</td>\n",
       "      <td>0</td>\n",
       "    </tr>\n",
       "    <tr>\n",
       "      <th>15AX-JPY01</th>\n",
       "      <td>1</td>\n",
       "      <td>1</td>\n",
       "      <td>1</td>\n",
       "      <td>1</td>\n",
       "      <td>0</td>\n",
       "    </tr>\n",
       "    <tr>\n",
       "      <th>15AX-JPY02</th>\n",
       "      <td>1</td>\n",
       "      <td>1</td>\n",
       "      <td>1</td>\n",
       "      <td>1</td>\n",
       "      <td>0</td>\n",
       "    </tr>\n",
       "    <tr>\n",
       "      <th>15AX-JPY03</th>\n",
       "      <td>1</td>\n",
       "      <td>1</td>\n",
       "      <td>1</td>\n",
       "      <td>1</td>\n",
       "      <td>0</td>\n",
       "    </tr>\n",
       "    <tr>\n",
       "      <th>15AX-JPY04</th>\n",
       "      <td>1</td>\n",
       "      <td>1</td>\n",
       "      <td>1</td>\n",
       "      <td>1</td>\n",
       "      <td>0</td>\n",
       "    </tr>\n",
       "    <tr>\n",
       "      <th>...</th>\n",
       "      <td>...</td>\n",
       "      <td>...</td>\n",
       "      <td>...</td>\n",
       "      <td>...</td>\n",
       "      <td>...</td>\n",
       "    </tr>\n",
       "    <tr>\n",
       "      <th>ZTIN-IT021</th>\n",
       "      <td>1</td>\n",
       "      <td>1</td>\n",
       "      <td>1</td>\n",
       "      <td>0</td>\n",
       "      <td>0</td>\n",
       "    </tr>\n",
       "    <tr>\n",
       "      <th>ZTIN-ITV01</th>\n",
       "      <td>1</td>\n",
       "      <td>1</td>\n",
       "      <td>1</td>\n",
       "      <td>0</td>\n",
       "      <td>0</td>\n",
       "    </tr>\n",
       "    <tr>\n",
       "      <th>ZTIN-ITV02</th>\n",
       "      <td>1</td>\n",
       "      <td>1</td>\n",
       "      <td>1</td>\n",
       "      <td>0</td>\n",
       "      <td>0</td>\n",
       "    </tr>\n",
       "    <tr>\n",
       "      <th>ZTIN-ITV03</th>\n",
       "      <td>1</td>\n",
       "      <td>1</td>\n",
       "      <td>1</td>\n",
       "      <td>0</td>\n",
       "      <td>0</td>\n",
       "    </tr>\n",
       "    <tr>\n",
       "      <th>NaN</th>\n",
       "      <td>34</td>\n",
       "      <td>213</td>\n",
       "      <td>4</td>\n",
       "      <td>0</td>\n",
       "      <td>0</td>\n",
       "    </tr>\n",
       "  </tbody>\n",
       "</table>\n",
       "<p>70799 rows × 5 columns</p>\n",
       "</div>"
      ],
      "text/plain": [
       "             Set  Name  Rarity  Print  Quantity\n",
       "Card number                                    \n",
       "15AX-JP000     1     1       1      1         0\n",
       "15AX-JPY01     1     1       1      1         0\n",
       "15AX-JPY02     1     1       1      1         0\n",
       "15AX-JPY03     1     1       1      1         0\n",
       "15AX-JPY04     1     1       1      1         0\n",
       "...          ...   ...     ...    ...       ...\n",
       "ZTIN-IT021     1     1       1      0         0\n",
       "ZTIN-ITV01     1     1       1      0         0\n",
       "ZTIN-ITV02     1     1       1      0         0\n",
       "ZTIN-ITV03     1     1       1      0         0\n",
       "NaN           34   213       4      0         0\n",
       "\n",
       "[70799 rows x 5 columns]"
      ]
     },
     "execution_count": 28,
     "metadata": {},
     "output_type": "execute_result"
    }
   ],
   "source": [
    "all_set_lists.groupby('Card number', dropna=False).nunique()"
   ]
  },
  {
   "cell_type": "code",
   "execution_count": null,
   "id": "05e4eee4",
   "metadata": {
    "ExecuteTime": {
     "end_time": "2022-06-30T19:02:27.767700Z",
     "start_time": "2022-06-30T19:02:27.767665Z"
    }
   },
   "outputs": [],
   "source": [
    "all_set_lists.groupby('Name', dropna=False).nunique()"
   ]
  },
  {
   "cell_type": "code",
   "execution_count": null,
   "id": "e4d79c33",
   "metadata": {
    "ExecuteTime": {
     "end_time": "2022-06-30T19:02:27.772335Z",
     "start_time": "2022-06-30T19:02:27.772297Z"
    },
    "scrolled": false
   },
   "outputs": [],
   "source": [
    "all_set_lists.explode('Rarity').groupby('Rarity').nunique()"
   ]
  },
  {
   "cell_type": "code",
   "execution_count": null,
   "id": "3a576a96",
   "metadata": {
    "ExecuteTime": {
     "end_time": "2022-06-30T19:02:27.775919Z",
     "start_time": "2022-06-30T19:02:27.775874Z"
    }
   },
   "outputs": [],
   "source": [
    "all_set_lists.groupby('Print', dropna=False).nunique()"
   ]
  },
  {
   "cell_type": "code",
   "execution_count": null,
   "id": "0445fc65",
   "metadata": {
    "ExecuteTime": {
     "end_time": "2022-06-30T19:02:27.781515Z",
     "start_time": "2022-06-30T19:02:27.781475Z"
    }
   },
   "outputs": [],
   "source": [
    "all_set_lists.groupby('Quantity', dropna=False).nunique()"
   ]
  },
  {
   "cell_type": "code",
   "execution_count": null,
   "id": "6dcb1693",
   "metadata": {
    "ExecuteTime": {
     "end_time": "2022-06-30T19:02:27.786269Z",
     "start_time": "2022-06-30T19:02:27.786224Z"
    }
   },
   "outputs": [],
   "source": [
    "all_set_lists[all_set_lists['Card number']=='!: header::Kaiba Deck']"
   ]
  },
  {
   "cell_type": "code",
   "execution_count": null,
   "id": "2bdc6a16",
   "metadata": {},
   "outputs": [],
   "source": []
  }
 ],
 "metadata": {
  "kernelspec": {
   "display_name": "Python 3 (ipykernel)",
   "language": "python",
   "name": "python3"
  },
  "language_info": {
   "codemirror_mode": {
    "name": "ipython",
    "version": 3
   },
   "file_extension": ".py",
   "mimetype": "text/x-python",
   "name": "python",
   "nbconvert_exporter": "python",
   "pygments_lexer": "ipython3",
   "version": "3.9.13"
  },
  "toc": {
   "base_numbering": 1,
   "nav_menu": {},
   "number_sections": true,
   "sideBar": true,
   "skip_h1_title": false,
   "title_cell": "Table of Contents",
   "title_sidebar": "Contents",
   "toc_cell": false,
   "toc_position": {},
   "toc_section_display": true,
   "toc_window_display": false
  }
 },
 "nbformat": 4,
 "nbformat_minor": 5
}
