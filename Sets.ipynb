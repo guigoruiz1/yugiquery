{
 "cells": [
  {
   "cell_type": "markdown",
   "id": "2e279beb",
   "metadata": {},
   "source": [
    "# Preamble"
   ]
  },
  {
   "cell_type": "code",
   "execution_count": 2,
   "id": "0e08a9ff",
   "metadata": {
    "ExecuteTime": {
     "end_time": "2022-06-22T22:18:37.180763Z",
     "start_time": "2022-06-22T22:18:34.979158Z"
    }
   },
   "outputs": [],
   "source": [
    "import glob\n",
    "import os\n",
    "import pandas as pd\n",
    "import numpy as np\n",
    "import seaborn as sns\n",
    "%matplotlib inline\n",
    "import matplotlib.pyplot as plt\n",
    "from matplotlib.colors import LogNorm, Normalize\n",
    "from datetime import datetime\n",
    "from ast import literal_eval"
   ]
  },
  {
   "cell_type": "markdown",
   "id": "1d7327ec",
   "metadata": {},
   "source": [
    "# Lists"
   ]
  },
  {
   "cell_type": "code",
   "execution_count": 34,
   "id": "93127a6d",
   "metadata": {
    "ExecuteTime": {
     "end_time": "2022-06-22T22:24:24.343238Z",
     "start_time": "2022-06-22T22:24:24.334010Z"
    }
   },
   "outputs": [],
   "source": [
    "# API variables\n",
    "api_url = 'https://yugipedia.com/api.php'\n",
    "query_url = '?action=ask&query=[[Category:Set%20Card%20Lists]]|limit%3D5000|order%3Dasc&format=json'"
   ]
  },
  {
   "cell_type": "code",
   "execution_count": 35,
   "id": "3b7ee7d6",
   "metadata": {
    "ExecuteTime": {
     "end_time": "2022-06-22T22:24:29.327840Z",
     "start_time": "2022-06-22T22:24:25.584099Z"
    }
   },
   "outputs": [
    {
     "data": {
      "text/html": [
       "<div>\n",
       "<style scoped>\n",
       "    .dataframe tbody tr th:only-of-type {\n",
       "        vertical-align: middle;\n",
       "    }\n",
       "\n",
       "    .dataframe tbody tr th {\n",
       "        vertical-align: top;\n",
       "    }\n",
       "\n",
       "    .dataframe thead th {\n",
       "        text-align: right;\n",
       "    }\n",
       "</style>\n",
       "<table border=\"1\" class=\"dataframe\">\n",
       "  <thead>\n",
       "    <tr style=\"text-align: right;\">\n",
       "      <th></th>\n",
       "      <th>query-continue-offset</th>\n",
       "      <th>query</th>\n",
       "    </tr>\n",
       "  </thead>\n",
       "  <tbody>\n",
       "    <tr>\n",
       "      <th>meta</th>\n",
       "      <td>5000</td>\n",
       "      <td>{'hash': '848da1ec6fa77a6c2ab9137b71d0a003', '...</td>\n",
       "    </tr>\n",
       "    <tr>\n",
       "      <th>printrequests</th>\n",
       "      <td>5000</td>\n",
       "      <td>[{'label': '', 'key': '', 'redi': '', 'typeid'...</td>\n",
       "    </tr>\n",
       "    <tr>\n",
       "      <th>results</th>\n",
       "      <td>5000</td>\n",
       "      <td>{'Set Card Lists:The Valuable Book 9 promotion...</td>\n",
       "    </tr>\n",
       "    <tr>\n",
       "      <th>serializer</th>\n",
       "      <td>5000</td>\n",
       "      <td>SMW\\Serializers\\QueryResultSerializer</td>\n",
       "    </tr>\n",
       "    <tr>\n",
       "      <th>version</th>\n",
       "      <td>5000</td>\n",
       "      <td>2</td>\n",
       "    </tr>\n",
       "  </tbody>\n",
       "</table>\n",
       "</div>"
      ],
      "text/plain": [
       "               query-continue-offset  \\\n",
       "meta                            5000   \n",
       "printrequests                   5000   \n",
       "results                         5000   \n",
       "serializer                      5000   \n",
       "version                         5000   \n",
       "\n",
       "                                                           query  \n",
       "meta           {'hash': '848da1ec6fa77a6c2ab9137b71d0a003', '...  \n",
       "printrequests  [{'label': '', 'key': '', 'redi': '', 'typeid'...  \n",
       "results        {'Set Card Lists:The Valuable Book 9 promotion...  \n",
       "serializer                 SMW\\Serializers\\QueryResultSerializer  \n",
       "version                                                        2  "
      ]
     },
     "execution_count": 35,
     "metadata": {},
     "output_type": "execute_result"
    }
   ],
   "source": [
    "df = pd.read_json(f'{api_url}{query_url}')\n",
    "df"
   ]
  },
  {
   "cell_type": "code",
   "execution_count": 36,
   "id": "93b087b7",
   "metadata": {
    "ExecuteTime": {
     "end_time": "2022-06-22T22:24:31.201202Z",
     "start_time": "2022-06-22T22:24:31.052921Z"
    }
   },
   "outputs": [
    {
     "data": {
      "text/html": [
       "<div>\n",
       "<style scoped>\n",
       "    .dataframe tbody tr th:only-of-type {\n",
       "        vertical-align: middle;\n",
       "    }\n",
       "\n",
       "    .dataframe tbody tr th {\n",
       "        vertical-align: top;\n",
       "    }\n",
       "\n",
       "    .dataframe thead th {\n",
       "        text-align: right;\n",
       "    }\n",
       "</style>\n",
       "<table border=\"1\" class=\"dataframe\">\n",
       "  <thead>\n",
       "    <tr style=\"text-align: right;\">\n",
       "      <th></th>\n",
       "      <th>printouts</th>\n",
       "    </tr>\n",
       "  </thead>\n",
       "  <tbody>\n",
       "    <tr>\n",
       "      <th>Set Card Lists:The Valuable Book 9 promotional cards (OCG-JP)</th>\n",
       "      <td>[]</td>\n",
       "    </tr>\n",
       "    <tr>\n",
       "      <th>Set Card Lists:Champion Pack: Game Six (TCG-EN)</th>\n",
       "      <td>[]</td>\n",
       "    </tr>\n",
       "    <tr>\n",
       "      <th>Set Card Lists:Onslaught of the Fire Kings Structure Deck (TCG-DE)</th>\n",
       "      <td>[]</td>\n",
       "    </tr>\n",
       "    <tr>\n",
       "      <th>Set Card Lists:Duelist League 16 participation cards (TCG-FR)</th>\n",
       "      <td>[]</td>\n",
       "    </tr>\n",
       "    <tr>\n",
       "      <th>Set Card Lists:Sneak Peek Participation Cards: Series 6 (TCG-IT)</th>\n",
       "      <td>[]</td>\n",
       "    </tr>\n",
       "    <tr>\n",
       "      <th>...</th>\n",
       "      <td>...</td>\n",
       "    </tr>\n",
       "    <tr>\n",
       "      <th>Set Card Lists:Kaiba's Collector Box (TCG-EN)</th>\n",
       "      <td>[]</td>\n",
       "    </tr>\n",
       "    <tr>\n",
       "      <th>Set Card Lists:Kids' WB! Duel of Destiny promotional card (TCG-EN)</th>\n",
       "      <td>[]</td>\n",
       "    </tr>\n",
       "    <tr>\n",
       "      <th>Set Card Lists:King's Court (TCG-DE)</th>\n",
       "      <td>[]</td>\n",
       "    </tr>\n",
       "    <tr>\n",
       "      <th>Set Card Lists:King's Court (TCG-EN)</th>\n",
       "      <td>[]</td>\n",
       "    </tr>\n",
       "    <tr>\n",
       "      <th>Set Card Lists:King's Court (TCG-FR)</th>\n",
       "      <td>[]</td>\n",
       "    </tr>\n",
       "  </tbody>\n",
       "</table>\n",
       "<p>3943 rows × 1 columns</p>\n",
       "</div>"
      ],
      "text/plain": [
       "                                                   printouts\n",
       "Set Card Lists:The Valuable Book 9 promotional ...        []\n",
       "Set Card Lists:Champion Pack: Game Six (TCG-EN)           []\n",
       "Set Card Lists:Onslaught of the Fire Kings Stru...        []\n",
       "Set Card Lists:Duelist League 16 participation ...        []\n",
       "Set Card Lists:Sneak Peek Participation Cards: ...        []\n",
       "...                                                      ...\n",
       "Set Card Lists:Kaiba's Collector Box (TCG-EN)             []\n",
       "Set Card Lists:Kids' WB! Duel of Destiny promot...        []\n",
       "Set Card Lists:King's Court (TCG-DE)                      []\n",
       "Set Card Lists:King's Court (TCG-EN)                      []\n",
       "Set Card Lists:King's Court (TCG-FR)                      []\n",
       "\n",
       "[3943 rows x 1 columns]"
      ]
     },
     "execution_count": 36,
     "metadata": {},
     "output_type": "execute_result"
    }
   ],
   "source": [
    "temp = pd.DataFrame(df['query']['results'])\n",
    "temp = pd.DataFrame(temp.T['printouts'])\n",
    "temp"
   ]
  },
  {
   "cell_type": "code",
   "execution_count": null,
   "id": "2e16da31",
   "metadata": {},
   "outputs": [],
   "source": []
  }
 ],
 "metadata": {
  "kernelspec": {
   "display_name": "Python 3 (ipykernel)",
   "language": "python",
   "name": "python3"
  },
  "language_info": {
   "codemirror_mode": {
    "name": "ipython",
    "version": 3
   },
   "file_extension": ".py",
   "mimetype": "text/x-python",
   "name": "python",
   "nbconvert_exporter": "python",
   "pygments_lexer": "ipython3",
   "version": "3.9.13"
  },
  "toc": {
   "base_numbering": 1,
   "nav_menu": {},
   "number_sections": true,
   "sideBar": true,
   "skip_h1_title": false,
   "title_cell": "Table of Contents",
   "title_sidebar": "Contents",
   "toc_cell": false,
   "toc_position": {},
   "toc_section_display": true,
   "toc_window_display": false
  }
 },
 "nbformat": 4,
 "nbformat_minor": 5
}
