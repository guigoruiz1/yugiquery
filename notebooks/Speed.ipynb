{
 "cells": [
  {
   "cell_type": "code",
   "execution_count": null,
   "id": "0",
   "metadata": {
    "papermill": {
     "duration": 80.006883,
     "end_time": "2025-01-04T07:26:55.224508",
     "exception": false,
     "start_time": "2025-01-04T07:25:35.217625",
     "status": "completed"
    },
    "tags": []
   },
   "outputs": [],
   "source": [
    "from yugiquery import *\n",
    "\n",
    "init_notebook_mode(all_interactive=True)\n",
    "\n",
    "header(\"Speed Duel\")"
   ]
  },
  {
   "cell_type": "markdown",
   "id": "1",
   "metadata": {
    "papermill": {
     "duration": 0.116149,
     "end_time": "2025-01-04T07:26:56.590913",
     "exception": false,
     "start_time": "2025-01-04T07:26:56.474764",
     "status": "completed"
    },
    "tags": []
   },
   "source": [
    "---"
   ]
  },
  {
   "cell_type": "markdown",
   "id": "2",
   "metadata": {
    "papermill": {
     "duration": 0.104911,
     "end_time": "2025-01-04T07:26:56.811420",
     "exception": false,
     "start_time": "2025-01-04T07:26:56.706509",
     "status": "completed"
    },
    "tags": []
   },
   "source": [
    "Table of Contents <a class=\"jp-toc-ignore\"></a>\n",
    "=================\n",
    "* [1 Data aquisition](#data-aquisition)\n",
    "  * [1.1 Fetch online data](#fetch-online-data)\n",
    "  * [1.2 Merge data](#merge-data)\n",
    "* [2 Check changes](#check-changes)\n",
    "  * [2.1 Load previous data](#load-previous-data)\n",
    "  * [2.2 Generate changelog](#generate-changelog)\n",
    "  * [2.3 Save data](#save-data)\n",
    "* [3 Data visualization](#data-visualization)\n",
    "  * [3.1 Skill cards](#skill-cards)\n",
    "    * [3.1.1 Character](#character)\n",
    "    * [3.1.2 Property](#property)\n",
    "  * [3.2 Property](#property)\n",
    "  * [3.3 Archseries](#archseries)\n",
    "  * [3.4 TCG Speed Duel status](#tcg-speed-duel-status)\n",
    "      * [3.4.0.1 By card type](#by-card-type)\n",
    "      * [3.4.0.2 By monster type](#by-monster-type)\n",
    "      * [3.4.0.3 By archseries](#by-archseries)\n",
    "    * [3.4.1 TCG Speed Duel vs. TCG status](#tcg-speed-duel-vs.-tcg-status)\n",
    "* [4 Epilogue](#epilogue)\n",
    "  * [4.1 HTML export](#html-export)\n",
    "  <!-- * [4.2 Git](#git) -->"
   ]
  },
  {
   "cell_type": "markdown",
   "id": "3",
   "metadata": {
    "papermill": {
     "duration": 0.071447,
     "end_time": "2025-01-04T07:26:57.289122",
     "exception": false,
     "start_time": "2025-01-04T07:26:57.217675",
     "status": "completed"
    },
    "tags": []
   },
   "source": [
    "# Data aquisition"
   ]
  },
  {
   "cell_type": "markdown",
   "id": "4",
   "metadata": {
    "papermill": {
     "duration": 0.124917,
     "end_time": "2025-01-04T07:26:57.503963",
     "exception": false,
     "start_time": "2025-01-04T07:26:57.379046",
     "status": "completed"
    },
    "tags": []
   },
   "source": [
    "## Fetch online data"
   ]
  },
  {
   "cell_type": "code",
   "execution_count": null,
   "id": "5",
   "metadata": {
    "papermill": {
     "duration": 0.176409,
     "end_time": "2025-01-04T07:26:57.757016",
     "exception": false,
     "start_time": "2025-01-04T07:26:57.580607",
     "status": "completed"
    },
    "tags": []
   },
   "outputs": [],
   "source": [
    "# Timestamp\n",
    "timestamp = arrow.utcnow()"
   ]
  },
  {
   "cell_type": "code",
   "execution_count": null,
   "id": "6",
   "metadata": {
    "papermill": {
     "duration": 11.303386,
     "end_time": "2025-01-04T07:27:09.178814",
     "exception": false,
     "start_time": "2025-01-04T07:26:57.875428",
     "status": "completed"
    },
    "tags": []
   },
   "outputs": [],
   "source": [
    "# Fetch skill cards\n",
    "skill_df = fetch_skill()\n",
    "\n",
    "# Fetch deck cards\n",
    "speed_df = fetch_speed()"
   ]
  },
  {
   "cell_type": "markdown",
   "id": "7",
   "metadata": {
    "papermill": {
     "duration": 0.167974,
     "end_time": "2025-01-04T07:27:09.416645",
     "exception": false,
     "start_time": "2025-01-04T07:27:09.248671",
     "status": "completed"
    },
    "tags": []
   },
   "source": [
    "## Merge data"
   ]
  },
  {
   "cell_type": "code",
   "execution_count": null,
   "id": "8",
   "metadata": {
    "papermill": {
     "duration": 0.262573,
     "end_time": "2025-01-04T07:27:09.778687",
     "exception": false,
     "start_time": "2025-01-04T07:27:09.516114",
     "status": "completed"
    },
    "tags": []
   },
   "outputs": [],
   "source": [
    "full_df = pd.concat([speed_df, skill_df], ignore_index=True, axis=0).sort_values(\"Name\").reset_index(drop=True)\n",
    "print(\"Data merged\")"
   ]
  },
  {
   "cell_type": "markdown",
   "id": "9",
   "metadata": {
    "papermill": {
     "duration": 1.016863,
     "end_time": "2025-01-04T07:27:10.894747",
     "exception": false,
     "start_time": "2025-01-04T07:27:09.877884",
     "status": "completed"
    },
    "tags": []
   },
   "source": [
    "# Check changes"
   ]
  },
  {
   "cell_type": "markdown",
   "id": "10",
   "metadata": {
    "papermill": {
     "duration": 0.073122,
     "end_time": "2025-01-04T07:27:11.000784",
     "exception": false,
     "start_time": "2025-01-04T07:27:10.927662",
     "status": "completed"
    },
    "tags": []
   },
   "source": [
    "## Load previous data"
   ]
  },
  {
   "cell_type": "code",
   "execution_count": null,
   "id": "11",
   "metadata": {
    "papermill": {
     "duration": 0.40841,
     "end_time": "2025-01-04T07:27:11.580759",
     "exception": false,
     "start_time": "2025-01-04T07:27:11.172349",
     "status": "completed"
    },
    "tags": []
   },
   "outputs": [],
   "source": [
    "# Get latest file if exist\n",
    "tuple_cols = [\"Secondary type\", \"Effect type\", \"Archseries\", \"Artwork\"]\n",
    "previous_df, previous_ts = load_latest_data(\"speed\", tuple_cols)\n",
    "\n",
    "if previous_df is not None:\n",
    "    previous_df = previous_df.astype(full_df[previous_df.columns.intersection(full_df.columns)].dtypes.to_dict())"
   ]
  },
  {
   "cell_type": "markdown",
   "id": "12",
   "metadata": {
    "papermill": {
     "duration": 0.091181,
     "end_time": "2025-01-04T07:27:11.713979",
     "exception": false,
     "start_time": "2025-01-04T07:27:11.622798",
     "status": "completed"
    },
    "tags": []
   },
   "source": [
    "## Generate changelog"
   ]
  },
  {
   "cell_type": "code",
   "execution_count": null,
   "id": "13",
   "metadata": {
    "papermill": {
     "duration": 0.376589,
     "end_time": "2025-01-04T07:27:12.353033",
     "exception": false,
     "start_time": "2025-01-04T07:27:11.976444",
     "status": "completed"
    },
    "tags": []
   },
   "outputs": [],
   "source": [
    "if previous_df is None:\n",
    "    changelog = None\n",
    "    print(\"Skipped\")\n",
    "else:\n",
    "    changelog = generate_changelog(previous_df, full_df, col=\"Name\")\n",
    "    if not changelog.empty:\n",
    "        display(changelog)\n",
    "        changelog.to_csv(\n",
    "            dirs.DATA / make_filename(report=\"speed\", timestamp=timestamp, previous_timestamp=previous_ts),\n",
    "            index=True,\n",
    "        )\n",
    "        print(\"Changelog saved\")"
   ]
  },
  {
   "cell_type": "markdown",
   "id": "14",
   "metadata": {
    "papermill": {
     "duration": 0.283917,
     "end_time": "2025-01-04T07:27:12.702235",
     "exception": false,
     "start_time": "2025-01-04T07:27:12.418318",
     "status": "completed"
    },
    "tags": []
   },
   "source": [
    "## Save data"
   ]
  },
  {
   "cell_type": "code",
   "execution_count": null,
   "id": "15",
   "metadata": {
    "papermill": {
     "duration": 0.43143,
     "end_time": "2025-01-04T07:27:13.244380",
     "exception": false,
     "start_time": "2025-01-04T07:27:12.812950",
     "status": "completed"
    },
    "tags": []
   },
   "outputs": [],
   "source": [
    "if changelog is not None and changelog.empty:\n",
    "    print(\"No changes. New data not saved\")\n",
    "else:\n",
    "    full_df.to_csv(\n",
    "        dirs.DATA / make_filename(report=\"speed\", timestamp=timestamp),\n",
    "        index=False,\n",
    "    )\n",
    "    print(\"Data saved\")"
   ]
  },
  {
   "cell_type": "markdown",
   "id": "16",
   "metadata": {
    "papermill": {
     "duration": 0.116331,
     "end_time": "2025-01-04T07:27:14.156091",
     "exception": false,
     "start_time": "2025-01-04T07:27:14.039760",
     "status": "completed"
    },
    "tags": []
   },
   "source": [
    "# Data visualization"
   ]
  },
  {
   "cell_type": "code",
   "execution_count": null,
   "id": "17",
   "metadata": {
    "papermill": {
     "duration": 0.262856,
     "end_time": "2025-01-04T07:27:14.766771",
     "exception": false,
     "start_time": "2025-01-04T07:27:14.503915",
     "status": "completed"
    },
    "tags": []
   },
   "outputs": [],
   "source": [
    "full_df"
   ]
  },
  {
   "cell_type": "markdown",
   "id": "18",
   "metadata": {
    "jp-MarkdownHeadingCollapsed": true,
    "papermill": {
     "duration": 0.099024,
     "end_time": "2025-01-04T07:27:14.903190",
     "exception": false,
     "start_time": "2025-01-04T07:27:14.804166",
     "status": "completed"
    },
    "tags": []
   },
   "source": [
    "## Skill cards"
   ]
  },
  {
   "cell_type": "markdown",
   "id": "19",
   "metadata": {
    "papermill": {
     "duration": 0.095975,
     "end_time": "2025-01-04T07:27:15.274736",
     "exception": false,
     "start_time": "2025-01-04T07:27:15.178761",
     "status": "completed"
    },
    "tags": []
   },
   "source": [
    "### Character"
   ]
  },
  {
   "cell_type": "code",
   "execution_count": null,
   "id": "20",
   "metadata": {
    "papermill": {
     "duration": 0.120722,
     "end_time": "2025-01-04T07:27:15.490828",
     "exception": false,
     "start_time": "2025-01-04T07:27:15.370106",
     "status": "completed"
    },
    "tags": []
   },
   "outputs": [],
   "source": [
    "print(\n",
    "    \"Total number of characters portrayed in skill cards:\",\n",
    "    skill_df[\"Character\"].nunique(),\n",
    ")"
   ]
  },
  {
   "cell_type": "code",
   "execution_count": null,
   "id": "21",
   "metadata": {
    "papermill": {
     "duration": 0.424808,
     "end_time": "2025-01-04T07:27:15.984294",
     "exception": false,
     "start_time": "2025-01-04T07:27:15.559486",
     "status": "completed"
    },
    "tags": []
   },
   "outputs": [],
   "source": [
    "skill_df.drop(\"Card type\", axis=1).sort_values(\"Character\")"
   ]
  },
  {
   "cell_type": "code",
   "execution_count": null,
   "id": "22",
   "metadata": {
    "papermill": {
     "duration": 0.913998,
     "end_time": "2025-01-04T07:27:16.961681",
     "exception": false,
     "start_time": "2025-01-04T07:27:16.047683",
     "status": "completed"
    },
    "tags": []
   },
   "outputs": [],
   "source": [
    "skill_color = plot.colors_dict[\"Skill Card\"]\n",
    "skill_df[\"Character\"].value_counts().plot.bar(figsize=(18, 6), rot=90, color=skill_color, title=\"Character\")\n",
    "plt.show()"
   ]
  },
  {
   "cell_type": "markdown",
   "id": "23",
   "metadata": {
    "papermill": {
     "duration": 0.24729,
     "end_time": "2025-01-04T07:27:17.256556",
     "exception": false,
     "start_time": "2025-01-04T07:27:17.009266",
     "status": "completed"
    },
    "tags": []
   },
   "source": [
    "### Property"
   ]
  },
  {
   "cell_type": "code",
   "execution_count": null,
   "id": "24",
   "metadata": {
    "papermill": {
     "duration": 0.131547,
     "end_time": "2025-01-04T07:27:17.483369",
     "exception": false,
     "start_time": "2025-01-04T07:27:17.351822",
     "status": "completed"
    },
    "tags": []
   },
   "outputs": [],
   "source": [
    "print(\"Total number of properties:\", skill_df[\"Property\"].nunique())"
   ]
  },
  {
   "cell_type": "code",
   "execution_count": null,
   "id": "25",
   "metadata": {
    "papermill": {
     "duration": 0.151216,
     "end_time": "2025-01-04T07:27:17.737613",
     "exception": false,
     "start_time": "2025-01-04T07:27:17.586397",
     "status": "completed"
    },
    "tags": []
   },
   "outputs": [],
   "source": [
    "skill_df.groupby(\"Property\").nunique()"
   ]
  },
  {
   "cell_type": "code",
   "execution_count": null,
   "id": "26",
   "metadata": {
    "papermill": {
     "duration": 0.536812,
     "end_time": "2025-01-04T07:27:18.615657",
     "exception": false,
     "start_time": "2025-01-04T07:27:18.078845",
     "status": "completed"
    },
    "tags": []
   },
   "outputs": [],
   "source": [
    "skill_color = plot.colors_dict[\"Skill Card\"]\n",
    "skill_df[\"Property\"].value_counts().plot.bar(figsize=(18, 6), rot=0, color=skill_color, title=\"Property\")\n",
    "plt.show()"
   ]
  },
  {
   "cell_type": "markdown",
   "id": "27",
   "metadata": {
    "jp-MarkdownHeadingCollapsed": true,
    "papermill": {
     "duration": 0.135532,
     "end_time": "2025-01-04T07:27:20.069202",
     "exception": false,
     "start_time": "2025-01-04T07:27:19.933670",
     "status": "completed"
    },
    "tags": []
   },
   "source": [
    "## Property"
   ]
  },
  {
   "cell_type": "code",
   "execution_count": null,
   "id": "28",
   "metadata": {
    "papermill": {
     "duration": 0.150062,
     "end_time": "2025-01-04T07:27:20.316779",
     "exception": false,
     "start_time": "2025-01-04T07:27:20.166717",
     "status": "completed"
    },
    "tags": []
   },
   "outputs": [],
   "source": [
    "print(\"Total number of properties:\", full_df[\"Property\"].nunique())"
   ]
  },
  {
   "cell_type": "code",
   "execution_count": null,
   "id": "29",
   "metadata": {
    "papermill": {
     "duration": 0.418236,
     "end_time": "2025-01-04T07:27:20.836228",
     "exception": false,
     "start_time": "2025-01-04T07:27:20.417992",
     "status": "completed"
    },
    "tags": []
   },
   "outputs": [],
   "source": [
    "full_df.groupby(\"Property\").nunique()"
   ]
  },
  {
   "cell_type": "code",
   "execution_count": null,
   "id": "30",
   "metadata": {
    "papermill": {
     "duration": 0.720401,
     "end_time": "2025-01-04T07:27:21.676667",
     "exception": false,
     "start_time": "2025-01-04T07:27:20.956266",
     "status": "completed"
    },
    "tags": []
   },
   "outputs": [],
   "source": [
    "property_unstack = full_df.groupby(\"Property\")[\"Card type\"].value_counts().unstack()\n",
    "skill_st_colors = [plot.colors_dict[i] for i in property_unstack.columns]\n",
    "property_unstack.plot.bar(figsize=(14, 6), stacked=True, rot=45, color=skill_st_colors)\n",
    "plt.show()"
   ]
  },
  {
   "cell_type": "markdown",
   "id": "31",
   "metadata": {
    "jp-MarkdownHeadingCollapsed": true,
    "papermill": {
     "duration": 0.049116,
     "end_time": "2025-01-04T07:27:21.971412",
     "exception": false,
     "start_time": "2025-01-04T07:27:21.922296",
     "status": "completed"
    },
    "tags": []
   },
   "source": [
    "## Archseries"
   ]
  },
  {
   "cell_type": "code",
   "execution_count": null,
   "id": "32",
   "metadata": {
    "papermill": {
     "duration": 0.260976,
     "end_time": "2025-01-04T07:27:22.498186",
     "exception": false,
     "start_time": "2025-01-04T07:27:22.237210",
     "status": "completed"
    },
    "tags": []
   },
   "outputs": [],
   "source": [
    "exploded_archseries = full_df.explode(\"Archseries\")\n",
    "print(\"Total number of Archseries:\", exploded_archseries[\"Archseries\"].nunique())"
   ]
  },
  {
   "cell_type": "code",
   "execution_count": null,
   "id": "33",
   "metadata": {
    "papermill": {
     "duration": 0.213175,
     "end_time": "2025-01-04T07:27:22.773036",
     "exception": false,
     "start_time": "2025-01-04T07:27:22.559861",
     "status": "completed"
    },
    "tags": []
   },
   "outputs": [],
   "source": [
    "exploded_archseries.groupby(\"Archseries\").nunique()"
   ]
  },
  {
   "cell_type": "code",
   "execution_count": null,
   "id": "34",
   "metadata": {
    "papermill": {
     "duration": 0.560416,
     "end_time": "2025-01-04T07:27:23.414131",
     "exception": false,
     "start_time": "2025-01-04T07:27:22.853715",
     "status": "completed"
    },
    "tags": []
   },
   "outputs": [],
   "source": [
    "exploded_archseries[\"Archseries\"].value_counts().head(30).plot.barh(figsize=(10, 15), title=\"Top 30 Archtypes/Series\")\n",
    "plt.show()"
   ]
  },
  {
   "cell_type": "markdown",
   "id": "35",
   "metadata": {
    "papermill": {
     "duration": 0.145447,
     "end_time": "2025-01-04T07:27:23.610242",
     "exception": false,
     "start_time": "2025-01-04T07:27:23.464795",
     "status": "completed"
    },
    "tags": []
   },
   "source": [
    "## TCG Speed Duel status"
   ]
  },
  {
   "cell_type": "code",
   "execution_count": null,
   "id": "36",
   "metadata": {
    "papermill": {
     "duration": 0.092615,
     "end_time": "2025-01-04T07:27:23.802855",
     "exception": false,
     "start_time": "2025-01-04T07:27:23.710240",
     "status": "completed"
    },
    "tags": []
   },
   "outputs": [],
   "source": [
    "print(\"Total number of TCG Speed Duel status:\", full_df[\"TCG Speed Duel status\"].nunique())"
   ]
  },
  {
   "cell_type": "code",
   "execution_count": null,
   "id": "37",
   "metadata": {
    "papermill": {
     "duration": 0.37763,
     "end_time": "2025-01-04T07:27:24.442351",
     "exception": false,
     "start_time": "2025-01-04T07:27:24.064721",
     "status": "completed"
    },
    "tags": []
   },
   "outputs": [],
   "source": [
    "full_df.groupby(\"TCG Speed Duel status\", dropna=False).nunique()"
   ]
  },
  {
   "cell_type": "code",
   "execution_count": null,
   "id": "38",
   "metadata": {
    "papermill": {
     "duration": 1.041684,
     "end_time": "2025-01-04T07:27:25.569136",
     "exception": false,
     "start_time": "2025-01-04T07:27:24.527452",
     "status": "completed"
    },
    "tags": []
   },
   "outputs": [],
   "source": [
    "full_df[\"TCG Speed Duel status\"].value_counts(dropna=False).plot.bar(figsize=(18, 6), logy=True, rot=45, title=\"TCG status\")\n",
    "plt.show()"
   ]
  },
  {
   "cell_type": "markdown",
   "id": "39",
   "metadata": {
    "papermill": {
     "duration": 0.057705,
     "end_time": "2025-01-04T07:27:25.691130",
     "exception": false,
     "start_time": "2025-01-04T07:27:25.633425",
     "status": "completed"
    },
    "tags": []
   },
   "source": [
    "#### By card type"
   ]
  },
  {
   "cell_type": "code",
   "execution_count": null,
   "id": "40",
   "metadata": {
    "papermill": {
     "duration": 0.123547,
     "end_time": "2025-01-04T07:27:25.895758",
     "exception": false,
     "start_time": "2025-01-04T07:27:25.772211",
     "status": "completed"
    },
    "tags": []
   },
   "outputs": [],
   "source": [
    "# Remove unlimited\n",
    "tcg_speed_crosstab = pd.crosstab(full_df[\"Card type\"], full_df[\"TCG Speed Duel status\"])\n",
    "tcg_speed_crosstab"
   ]
  },
  {
   "cell_type": "code",
   "execution_count": null,
   "id": "41",
   "metadata": {
    "papermill": {
     "duration": 0.535417,
     "end_time": "2025-01-04T07:27:26.487765",
     "exception": false,
     "start_time": "2025-01-04T07:27:25.952348",
     "status": "completed"
    },
    "tags": []
   },
   "outputs": [],
   "source": [
    "plt.figure(figsize=(12, 6))\n",
    "sns.heatmap(\n",
    "    tcg_speed_crosstab[tcg_speed_crosstab > 0],\n",
    "    annot=True,\n",
    "    fmt=\"g\",\n",
    "    cmap=\"viridis\",\n",
    "    norm=plot.LogNorm(),\n",
    ")\n",
    "plt.show()"
   ]
  },
  {
   "cell_type": "markdown",
   "id": "42",
   "metadata": {
    "papermill": {
     "duration": 0.12542,
     "end_time": "2025-01-04T07:27:26.729304",
     "exception": false,
     "start_time": "2025-01-04T07:27:26.603884",
     "status": "completed"
    },
    "tags": []
   },
   "source": [
    "#### By monster type"
   ]
  },
  {
   "cell_type": "code",
   "execution_count": null,
   "id": "43",
   "metadata": {
    "papermill": {
     "duration": 0.655513,
     "end_time": "2025-01-04T07:27:27.475853",
     "exception": false,
     "start_time": "2025-01-04T07:27:26.820340",
     "status": "completed"
    },
    "tags": []
   },
   "outputs": [],
   "source": [
    "# Remove unlimited\n",
    "tcg_speed_crosstab_b = pd.crosstab(full_df[\"Monster type\"], full_df[\"TCG Speed Duel status\"])\n",
    "tcg_speed_crosstab_b"
   ]
  },
  {
   "cell_type": "code",
   "execution_count": null,
   "id": "44",
   "metadata": {
    "papermill": {
     "duration": 0.969208,
     "end_time": "2025-01-04T07:27:28.584804",
     "exception": false,
     "start_time": "2025-01-04T07:27:27.615596",
     "status": "completed"
    },
    "tags": []
   },
   "outputs": [],
   "source": [
    "plt.figure(figsize=(16, 4))\n",
    "sns.heatmap(\n",
    "    tcg_speed_crosstab_b[tcg_speed_crosstab_b > 0].T,\n",
    "    annot=True,\n",
    "    fmt=\"g\",\n",
    "    cmap=\"viridis\",\n",
    "    square=True,\n",
    ")\n",
    "plt.show()"
   ]
  },
  {
   "cell_type": "markdown",
   "id": "45",
   "metadata": {
    "papermill": {
     "duration": 0.142499,
     "end_time": "2025-01-04T07:27:28.946320",
     "exception": false,
     "start_time": "2025-01-04T07:27:28.803821",
     "status": "completed"
    },
    "tags": []
   },
   "source": [
    "#### By archseries"
   ]
  },
  {
   "cell_type": "code",
   "execution_count": null,
   "id": "46",
   "metadata": {
    "papermill": {
     "duration": 0.289469,
     "end_time": "2025-01-04T07:27:29.534285",
     "exception": false,
     "start_time": "2025-01-04T07:27:29.244816",
     "status": "completed"
    },
    "tags": []
   },
   "outputs": [],
   "source": [
    "# Remove unlimited\n",
    "tcg_crosstab_c = pd.crosstab(\n",
    "    exploded_archseries[\"Archseries\"],\n",
    "    exploded_archseries[\"TCG Speed Duel status\"],\n",
    "    margins=True,\n",
    ")\n",
    "tcg_crosstab_c"
   ]
  },
  {
   "cell_type": "markdown",
   "id": "47",
   "metadata": {
    "papermill": {
     "duration": 0.180906,
     "end_time": "2025-01-04T07:27:29.868803",
     "exception": false,
     "start_time": "2025-01-04T07:27:29.687897",
     "status": "completed"
    },
    "tags": []
   },
   "source": [
    "### TCG Speed Duel vs. TCG status"
   ]
  },
  {
   "cell_type": "code",
   "execution_count": null,
   "id": "48",
   "metadata": {
    "papermill": {
     "duration": 0.116108,
     "end_time": "2025-01-04T07:27:30.057488",
     "exception": false,
     "start_time": "2025-01-04T07:27:29.941380",
     "status": "completed"
    },
    "tags": []
   },
   "outputs": [],
   "source": [
    "cg_crosstab = pd.crosstab(full_df[\"TCG status\"], full_df[\"TCG Speed Duel status\"], dropna=False, margins=False)\n",
    "cg_crosstab"
   ]
  },
  {
   "cell_type": "code",
   "execution_count": null,
   "id": "49",
   "metadata": {
    "papermill": {
     "duration": 0.633563,
     "end_time": "2025-01-04T07:27:30.824231",
     "exception": false,
     "start_time": "2025-01-04T07:27:30.190668",
     "status": "completed"
    },
    "tags": []
   },
   "outputs": [],
   "source": [
    "plt.figure(figsize=(12, 6))\n",
    "sns.heatmap(\n",
    "    cg_crosstab[cg_crosstab > 0],\n",
    "    annot=True,\n",
    "    fmt=\"g\",\n",
    "    cmap=\"viridis\",\n",
    "    square=True,\n",
    "    norm=plot.LogNorm(),\n",
    ")\n",
    "plt.show()"
   ]
  },
  {
   "cell_type": "markdown",
   "id": "50",
   "metadata": {
    "papermill": {
     "duration": 0.314384,
     "end_time": "2025-01-04T07:27:31.284445",
     "exception": false,
     "start_time": "2025-01-04T07:27:30.970061",
     "status": "completed"
    },
    "tags": []
   },
   "source": [
    "# Epilogue"
   ]
  },
  {
   "cell_type": "code",
   "execution_count": null,
   "id": "51",
   "metadata": {
    "papermill": {
     "duration": 0.499131,
     "end_time": "2025-01-04T07:27:31.980069",
     "exception": false,
     "start_time": "2025-01-04T07:27:31.480938",
     "status": "completed"
    },
    "tags": []
   },
   "outputs": [],
   "source": [
    "benchmark(report=\"speed\", timestamp=timestamp)"
   ]
  },
  {
   "cell_type": "code",
   "execution_count": null,
   "id": "52",
   "metadata": {
    "papermill": {
     "duration": 0.216197,
     "end_time": "2025-01-04T07:27:32.261820",
     "exception": false,
     "start_time": "2025-01-04T07:27:32.045623",
     "status": "completed"
    },
    "tags": []
   },
   "outputs": [],
   "source": [
    "footer()"
   ]
  },
  {
   "cell_type": "markdown",
   "id": "53",
   "metadata": {
    "papermill": {
     "duration": 0.068911,
     "end_time": "2025-01-04T07:27:32.521291",
     "exception": false,
     "start_time": "2025-01-04T07:27:32.452380",
     "status": "completed"
    },
    "tags": []
   },
   "source": [
    "## HTML export"
   ]
  },
  {
   "cell_type": "code",
   "execution_count": null,
   "id": "54",
   "metadata": {
    "papermill": {
     "duration": 0.120448,
     "end_time": "2025-01-04T07:27:32.726740",
     "exception": false,
     "start_time": "2025-01-04T07:27:32.606292",
     "status": "completed"
    },
    "tags": []
   },
   "outputs": [],
   "source": [
    "# Save notebook on disck before generating HTML report\n",
    "save_notebook()"
   ]
  },
  {
   "cell_type": "code",
   "execution_count": null,
   "id": "55",
   "metadata": {
    "papermill": {
     "duration": 1.914562,
     "end_time": "2025-01-04T07:27:34.727254",
     "exception": false,
     "start_time": "2025-01-04T07:27:32.812692",
     "status": "completed"
    },
    "tags": []
   },
   "outputs": [],
   "source": [
    "export_notebook(dirs.NOTEBOOKS.user / \"Speed.ipynb\")"
   ]
  },
  {
   "cell_type": "markdown",
   "id": "56",
   "metadata": {
    "papermill": {
     "duration": 0.117751,
     "end_time": "2025-01-04T07:27:35.062317",
     "exception": false,
     "start_time": "2025-01-04T07:27:34.944566",
     "status": "completed"
    },
    "tags": [
     "exclude"
    ]
   },
   "source": [
    "## Git"
   ]
  },
  {
   "cell_type": "code",
   "execution_count": null,
   "id": "57",
   "metadata": {
    "papermill": {
     "duration": null,
     "end_time": null,
     "exception": false,
     "start_time": "2025-01-04T07:27:35.171925",
     "status": "running"
    },
    "tags": [
     "exclude"
    ]
   },
   "outputs": [],
   "source": [
    "git.commit(\"*[Ss]peed*\", f\"Speed update - {timestamp.isoformat()}\")"
   ]
  }
 ],
 "metadata": {
  "kernelspec": {
   "display_name": "Python3 (YugiQuery)",
   "language": "python",
   "name": "yugiquery"
  },
  "language_info": {
   "codemirror_mode": {
    "name": "ipython",
    "version": 3
   },
   "file_extension": ".py",
   "mimetype": "text/x-python",
   "name": "python",
   "nbconvert_exporter": "python",
   "pygments_lexer": "ipython3",
   "version": "3.11.6"
  },
  "papermill": {
   "default_parameters": {},
   "duration": null,
   "end_time": null,
   "environment_variables": {},
   "exception": null,
   "input_path": "/home/jovyan/yugiquery/notebooks/Speed.ipynb",
   "output_path": "/home/jovyan/yugiquery/notebooks/Speed.ipynb",
   "parameters": {},
   "start_time": "2025-01-04T07:25:12.687626",
   "version": "2.6.0"
  },
  "toc": {
   "base_numbering": 1,
   "nav_menu": {},
   "number_sections": true,
   "sideBar": true,
   "skip_h1_title": false,
   "title_cell": "Table of Contents",
   "title_sidebar": "Contents",
   "toc_cell": true,
   "toc_position": {},
   "toc_section_display": true,
   "toc_window_display": false
  }
 },
 "nbformat": 4,
 "nbformat_minor": 5
}
