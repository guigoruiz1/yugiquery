{
    "cells": [
        {
            "cell_type": "code",
            "execution_count": null,
            "id": "0",
            "metadata": {
                "tags": []
            },
            "outputs": [],
            "source": [
                "from yugiquery import *\n",
                "\n",
                "init_notebook_mode(all_interactive=True)\n",
                "\n",
                "header(\"Speed Duel\")"
            ]
        },
        {
            "cell_type": "markdown",
            "id": "1",
            "metadata": {
                "tags": []
            },
            "source": [
                "---"
            ]
        },
        {
            "cell_type": "markdown",
            "id": "2",
            "metadata": {
                "tags": []
            },
            "source": [
                "Table of Contents <a class=\"jp-toc-ignore\"></a>\n",
                "=================\n",
                "\n",
                "*   [1  Data aquisition](#Data-aquisition)\n",
                "    *   [1.1  Fetch online data](#Fetch-online-data)\n",
                "    *   [1.2  Merge data](#Merge-data)\n",
                "*   [2  Check changes](#Check-changes)\n",
                "    *   [2.1  Load previous data](#Load-previous-data)\n",
                "    *   [2.2  Generate changelog](#Generate-changelog)\n",
                "    *   [2.3  Save data](#Save-data)\n",
                "*   [3  Data visualization](#Data-visualization)\n",
                "    *   [3.1  Skill cards](#Skill-cards)\n",
                "        *   [3.1.1  Character](#Character)\n",
                "        *   [3.1.2  Property](#Property)\n",
                "    *   [3.2  Property](#Property)\n",
                "    *   [3.3  Archseries](#Archseries)\n",
                "    *   [3.4  TCG Speed Duel status](#TCG-Speed-Duel-status)\n",
                "        *   *   [3.4.0.1  By card type](#By-card-type)\n",
                "            *   [3.4.0.2  By monster type](#By-monster-type)\n",
                "            *   [3.4.0.3  By archseries](#By-archseries)\n",
                "        *   [3.4.1  TCG Speed Duel vs. TCG status](#TCG-Speed-Duel-vs.-TCG-status)\n",
                "*   [4  Epilogue](#Epilogue)\n",
                "    *   [4.1  HTML export](#HTML-export)\n",
                "<!--     *   [4.2  Git](#Git) -->"
            ]
        },
        {
            "cell_type": "markdown",
            "id": "3",
            "metadata": {
                "tags": []
            },
            "source": [
                "# Data aquisition"
            ]
        },
        {
            "cell_type": "markdown",
            "id": "4",
            "metadata": {
                "tags": []
            },
            "source": [
                "## Fetch online data"
            ]
        },
        {
            "cell_type": "code",
            "execution_count": null,
            "id": "5",
            "metadata": {
                "tags": []
            },
            "outputs": [],
            "source": [
                "# Timestamp\n",
                "timestamp = arrow.utcnow()"
            ]
        },
        {
            "cell_type": "code",
            "execution_count": null,
            "id": "6",
            "metadata": {
                "tags": []
            },
            "outputs": [],
            "source": [
                "# Fetch skill cards\n",
                "skill_df = fetch_skill()\n",
                "\n",
                "# Fetch deck cards\n",
                "speed_df = fetch_speed()"
            ]
        },
        {
            "cell_type": "markdown",
            "id": "7",
            "metadata": {
                "tags": []
            },
            "source": [
                "## Merge data"
            ]
        },
        {
            "cell_type": "code",
            "execution_count": null,
            "id": "8",
            "metadata": {
                "tags": []
            },
            "outputs": [],
            "source": [
                "full_df = (\n",
                "    pd.concat([speed_df, skill_df], ignore_index=True, axis=0)\n",
                "    .sort_values(\"Name\")\n",
                "    .reset_index(drop=True)\n",
                ")\n",
                "print(\"Data merged\")"
            ]
        },
        {
            "cell_type": "markdown",
            "id": "9",
            "metadata": {
                "tags": []
            },
            "source": [
                "# Check changes"
            ]
        },
        {
            "cell_type": "markdown",
            "id": "10",
            "metadata": {
                "tags": []
            },
            "source": [
                "## Load previous data"
            ]
        },
        {
            "cell_type": "code",
            "execution_count": null,
            "id": "11",
            "metadata": {
                "tags": []
            },
            "outputs": [],
            "source": [
                "# Get latest file if exist\n",
                "tuple_cols = [\"Secondary type\", \"Effect type\", \"Archseries\", \"Artwork\"]\n",
                "previous_df, previous_ts = load_corrected_latest(\"speed\", tuple_cols)\n",
                "\n",
                "if previous_df is not None:\n",
                "    previous_df = previous_df.astype(\n",
                "        full_df[previous_df.columns.intersection(full_df.columns)].dtypes.to_dict()\n",
                "    )"
            ]
        },
        {
            "cell_type": "markdown",
            "id": "12",
            "metadata": {
                "tags": []
            },
            "source": [
                "## Generate changelog"
            ]
        },
        {
            "cell_type": "code",
            "execution_count": null,
            "id": "13",
            "metadata": {
                "tags": []
            },
            "outputs": [],
            "source": [
                "if previous_df is None:\n",
                "    changelog = None\n",
                "    print(\"Skipped\")\n",
                "else:\n",
                "    changelog = generate_changelog(previous_df, full_df, col=\"Name\")\n",
                "    if not changelog.empty:\n",
                "        display(changelog)\n",
                "        changelog.to_csv(\n",
                "            dirs.DATA / make_filename(\n",
                "                    report=\"speed\", timestamp=timestamp, previous_timestamp=previous_ts\n",
                "                ),\n",
                "            index=True,\n",
                "        )\n",
                "        print(\"Changelog saved\")"
            ]
        },
        {
            "cell_type": "markdown",
            "id": "14",
            "metadata": {
                "tags": []
            },
            "source": [
                "## Save data"
            ]
        },
        {
            "cell_type": "code",
            "execution_count": null,
            "id": "15",
            "metadata": {
                "tags": []
            },
            "outputs": [],
            "source": [
                "if changelog is not None and changelog.empty:\n",
                "    print(\"No changes. New data not saved\")\n",
                "else:\n",
                "    full_df.to_csv(\n",
                "        dirs.DATA / make_filename(report=\"speed\", timestamp=timestamp),\n",
                "        index=False,\n",
                "    )\n",
                "    print(\"Data saved\")"
            ]
        },
        {
            "cell_type": "markdown",
            "id": "16",
            "metadata": {
                "tags": []
            },
            "source": [
                "# Data visualization"
            ]
        },
        {
            "cell_type": "code",
            "execution_count": null,
            "id": "17",
            "metadata": {
                "tags": []
            },
            "outputs": [],
            "source": [
                "full_df"
            ]
        },
        {
            "cell_type": "markdown",
            "id": "18",
            "metadata": {
                "jp-MarkdownHeadingCollapsed": true,
                "tags": []
            },
            "source": [
                "## Skill cards"
            ]
        },
        {
            "cell_type": "markdown",
            "id": "19",
            "metadata": {
                "tags": []
            },
            "source": [
                "### Character"
            ]
        },
        {
            "cell_type": "code",
            "execution_count": null,
            "id": "20",
            "metadata": {
                "tags": []
            },
            "outputs": [],
            "source": [
                "print(\n",
                "    \"Total number of characters portrayed in skill cards:\",\n",
                "    skill_df[\"Character\"].nunique(),\n",
                ")"
            ]
        },
        {
            "cell_type": "code",
            "execution_count": null,
            "id": "21",
            "metadata": {
                "tags": []
            },
            "outputs": [],
            "source": [
                "skill_df.drop(\"Card type\", axis=1).sort_values(\"Character\")"
            ]
        },
        {
            "cell_type": "code",
            "execution_count": null,
            "id": "22",
            "metadata": {
                "tags": []
            },
            "outputs": [],
            "source": [
                "skill_color = plot.colors_dict[\"Skill Card\"]\n",
                "skill_df[\"Character\"].value_counts().plot.bar(\n",
                "    figsize=(18, 6), grid=True, rot=90, color=skill_color, title=\"Character\"\n",
                ")\n",
                "plt.show()"
            ]
        },
        {
            "cell_type": "markdown",
            "id": "23",
            "metadata": {
                "tags": []
            },
            "source": [
                "### Property"
            ]
        },
        {
            "cell_type": "code",
            "execution_count": null,
            "id": "24",
            "metadata": {
                "tags": []
            },
            "outputs": [],
            "source": [
                "print(\"Total number of properties:\", skill_df[\"Property\"].nunique())"
            ]
        },
        {
            "cell_type": "code",
            "execution_count": null,
            "id": "25",
            "metadata": {
                "tags": []
            },
            "outputs": [],
            "source": [
                "skill_df.groupby(\"Property\").nunique()"
            ]
        },
        {
            "cell_type": "code",
            "execution_count": null,
            "id": "26",
            "metadata": {
                "tags": []
            },
            "outputs": [],
            "source": [
                "skill_color = plot.colors_dict[\"Skill Card\"]\n",
                "skill_df[\"Property\"].value_counts().plot.bar(\n",
                "    figsize=(18, 6), grid=True, rot=0, color=skill_color, title=\"Property\"\n",
                ")\n",
                "plt.show()"
            ]
        },
        {
            "cell_type": "markdown",
            "id": "27",
            "metadata": {
                "jp-MarkdownHeadingCollapsed": true,
                "tags": []
            },
            "source": [
                "## Property"
            ]
        },
        {
            "cell_type": "code",
            "execution_count": null,
            "id": "28",
            "metadata": {
                "tags": []
            },
            "outputs": [],
            "source": [
                "print(\"Total number of properties:\", full_df[\"Property\"].nunique())"
            ]
        },
        {
            "cell_type": "code",
            "execution_count": null,
            "id": "29",
            "metadata": {
                "tags": []
            },
            "outputs": [],
            "source": [
                "full_df.groupby(\"Property\").nunique()"
            ]
        },
        {
            "cell_type": "code",
            "execution_count": null,
            "id": "30",
            "metadata": {
                "tags": []
            },
            "outputs": [],
            "source": [
                "property_unstack = full_df.groupby(\"Property\")[\"Card type\"].value_counts().unstack()\n",
                "skill_st_colors = [plot.colors_dict[i] for i in property_unstack.columns]\n",
                "property_unstack.plot.bar(\n",
                "    figsize=(18, 6), stacked=True, grid=True, rot=45, color=skill_st_colors\n",
                ")\n",
                "plt.show()"
            ]
        },
        {
            "cell_type": "markdown",
            "id": "31",
            "metadata": {
                "jp-MarkdownHeadingCollapsed": true,
                "tags": []
            },
            "source": [
                "## Archseries"
            ]
        },
        {
            "cell_type": "code",
            "execution_count": null,
            "id": "32",
            "metadata": {
                "tags": []
            },
            "outputs": [],
            "source": [
                "exploded_archseries = full_df.explode(\"Archseries\")\n",
                "print(\"Total number of Archseries:\", exploded_archseries[\"Archseries\"].nunique())"
            ]
        },
        {
            "cell_type": "code",
            "execution_count": null,
            "id": "33",
            "metadata": {
                "tags": []
            },
            "outputs": [],
            "source": [
                "exploded_archseries.groupby(\"Archseries\").nunique()"
            ]
        },
        {
            "cell_type": "code",
            "execution_count": null,
            "id": "34",
            "metadata": {
                "tags": []
            },
            "outputs": [],
            "source": [
                "exploded_archseries[\"Archseries\"].value_counts().plot.barh(\n",
                "    figsize=(10, 50), grid=True, title=\"Archtypes/Series\"\n",
                ")\n",
                "plt.show()"
            ]
        },
        {
            "cell_type": "markdown",
            "id": "35",
            "metadata": {
                "tags": []
            },
            "source": [
                "## TCG Speed Duel status"
            ]
        },
        {
            "cell_type": "code",
            "execution_count": null,
            "id": "36",
            "metadata": {
                "tags": []
            },
            "outputs": [],
            "source": [
                "print(\n",
                "    \"Total number of TCG Speed Duel status:\", full_df[\"TCG Speed Duel status\"].nunique()\n",
                ")"
            ]
        },
        {
            "cell_type": "code",
            "execution_count": null,
            "id": "37",
            "metadata": {
                "tags": []
            },
            "outputs": [],
            "source": [
                "full_df.groupby(\"TCG Speed Duel status\", dropna=False).nunique()"
            ]
        },
        {
            "cell_type": "code",
            "execution_count": null,
            "id": "38",
            "metadata": {
                "tags": []
            },
            "outputs": [],
            "source": [
                "full_df[\"TCG Speed Duel status\"].value_counts(dropna=False).plot.bar(\n",
                "    figsize=(18, 6), logy=True, grid=True, rot=45, title=\"TCG status\"\n",
                ")\n",
                "plt.show()"
            ]
        },
        {
            "cell_type": "markdown",
            "id": "39",
            "metadata": {
                "tags": []
            },
            "source": [
                "#### By card type"
            ]
        },
        {
            "cell_type": "code",
            "execution_count": null,
            "id": "40",
            "metadata": {
                "tags": []
            },
            "outputs": [],
            "source": [
                "# Remove unlimited\n",
                "tcg_speed_crosstab = pd.crosstab(full_df[\"Card type\"], full_df[\"TCG Speed Duel status\"])\n",
                "tcg_speed_crosstab"
            ]
        },
        {
            "cell_type": "code",
            "execution_count": null,
            "id": "41",
            "metadata": {
                "tags": []
            },
            "outputs": [],
            "source": [
                "plt.figure(figsize=(12, 6))\n",
                "sns.heatmap(\n",
                "    tcg_speed_crosstab[tcg_speed_crosstab > 0],\n",
                "    annot=True,\n",
                "    fmt=\"g\",\n",
                "    cmap=\"viridis\",\n",
                "    norm=LogNorm(),\n",
                ")\n",
                "plt.show()"
            ]
        },
        {
            "cell_type": "markdown",
            "id": "42",
            "metadata": {
                "tags": []
            },
            "source": [
                "#### By monster type"
            ]
        },
        {
            "cell_type": "code",
            "execution_count": null,
            "id": "43",
            "metadata": {
                "tags": []
            },
            "outputs": [],
            "source": [
                "# Remove unlimited\n",
                "tcg_speed_crosstab_b = pd.crosstab(\n",
                "    full_df[\"Monster type\"], full_df[\"TCG Speed Duel status\"]\n",
                ")\n",
                "tcg_speed_crosstab_b"
            ]
        },
        {
            "cell_type": "code",
            "execution_count": null,
            "id": "44",
            "metadata": {
                "tags": []
            },
            "outputs": [],
            "source": [
                "plt.figure(figsize=(20, 5))\n",
                "sns.heatmap(\n",
                "    tcg_speed_crosstab_b[tcg_speed_crosstab_b > 0].T,\n",
                "    annot=True,\n",
                "    fmt=\"g\",\n",
                "    cmap=\"viridis\",\n",
                "    square=True,\n",
                ")\n",
                "plt.show()"
            ]
        },
        {
            "cell_type": "markdown",
            "id": "45",
            "metadata": {
                "tags": []
            },
            "source": [
                "#### By archseries"
            ]
        },
        {
            "cell_type": "code",
            "execution_count": null,
            "id": "46",
            "metadata": {
                "tags": []
            },
            "outputs": [],
            "source": [
                "# Remove unlimited\n",
                "tcg_crosstab_c = pd.crosstab(\n",
                "    exploded_archseries[\"Archseries\"],\n",
                "    exploded_archseries[\"TCG Speed Duel status\"],\n",
                "    margins=True,\n",
                ")\n",
                "tcg_crosstab_c"
            ]
        },
        {
            "cell_type": "markdown",
            "id": "47",
            "metadata": {
                "tags": []
            },
            "source": [
                "### TCG Speed Duel vs. TCG status"
            ]
        },
        {
            "cell_type": "code",
            "execution_count": null,
            "id": "48",
            "metadata": {
                "tags": []
            },
            "outputs": [],
            "source": [
                "cg_crosstab = pd.crosstab(\n",
                "    full_df[\"TCG status\"], full_df[\"TCG Speed Duel status\"], dropna=False, margins=False\n",
                ")\n",
                "cg_crosstab"
            ]
        },
        {
            "cell_type": "code",
            "execution_count": null,
            "id": "49",
            "metadata": {
                "tags": []
            },
            "outputs": [],
            "source": [
                "plt.figure(figsize=(10, 8))\n",
                "sns.heatmap(\n",
                "    cg_crosstab[cg_crosstab > 0],\n",
                "    annot=True,\n",
                "    fmt=\"g\",\n",
                "    cmap=\"viridis\",\n",
                "    square=True,\n",
                "    norm=LogNorm(),\n",
                ")\n",
                "plt.show()"
            ]
        },
        {
            "cell_type": "markdown",
            "id": "50",
            "metadata": {
                "tags": []
            },
            "source": [
                "# Epilogue"
            ]
        },
        {
            "cell_type": "code",
            "execution_count": null,
            "id": "51",
            "metadata": {
                "tags": []
            },
            "outputs": [],
            "source": [
                "benchmark(report=\"speed\", timestamp=timestamp)"
            ]
        },
        {
            "cell_type": "code",
            "execution_count": null,
            "id": "52",
            "metadata": {
                "tags": []
            },
            "outputs": [],
            "source": [
                "footer()"
            ]
        },
        {
            "cell_type": "markdown",
            "id": "53",
            "metadata": {
                "tags": []
            },
            "source": [
                "## HTML export"
            ]
        },
        {
            "cell_type": "code",
            "execution_count": null,
            "id": "54",
            "metadata": {
                "tags": []
            },
            "outputs": [],
            "source": [
                "# Save notebook on disck before generating HTML report\n",
                "save_notebook()"
            ]
        },
        {
            "cell_type": "code",
            "execution_count": null,
            "id": "55",
            "metadata": {
                "tags": []
            },
            "outputs": [],
            "source": [
                "export_notebook(dirs.NOTEBOOKS / \"Speed.ipynb\")"
            ]
        },
        {
            "cell_type": "markdown",
            "id": "56",
            "metadata": {
                "tags": [
                    "exclude"
                ]
            },
            "source": [
                "## Git"
            ]
        },
        {
            "cell_type": "code",
            "execution_count": null,
            "id": "57",
            "metadata": {
                "tags": []
            },
            "outputs": [],
            "source": [
                "git.commit(\"*[Ss]peed*\", f\"Speed update - {timestamp.isoformat()}\")"
            ]
        }
    ],
    "metadata": {
        "kernelspec": {
            "display_name": "Python 3 (ipykernel)",
            "language": "python",
            "name": "python3"
        },
        "language_info": {
            "codemirror_mode": {
                "name": "ipython",
                "version": 3
            },
            "file_extension": ".py",
            "mimetype": "text/x-python",
            "name": "python",
            "nbconvert_exporter": "python",
            "pygments_lexer": "ipython3",
            "version": "3.11.6"
        },
        "toc": {
            "base_numbering": 1,
            "nav_menu": {},
            "number_sections": true,
            "sideBar": true,
            "skip_h1_title": false,
            "title_cell": "Table of Contents",
            "title_sidebar": "Contents",
            "toc_cell": true,
            "toc_position": {},
            "toc_section_display": true,
            "toc_window_display": false
        }
    },
    "nbformat": 4,
    "nbformat_minor": 5
}
