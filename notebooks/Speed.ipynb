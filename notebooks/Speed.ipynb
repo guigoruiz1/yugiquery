{
 "cells": [
  {
   "cell_type": "code",
   "execution_count": null,
   "id": "0",
   "metadata": {
    "papermill": {
     "duration": 83.72015,
     "end_time": "2025-06-29T22:07:33.346654",
     "exception": false,
     "start_time": "2025-06-29T22:06:09.626504",
     "status": "completed"
    },
    "tags": []
   },
   "outputs": [],
   "source": [
    "from yugiquery import *\n",
    "\n",
    "init_notebook_mode(all_interactive=True)\n",
    "\n",
    "header(\"Speed Duel\")"
   ]
  },
  {
   "cell_type": "markdown",
   "id": "1",
   "metadata": {
    "papermill": {
     "duration": 0.047666,
     "end_time": "2025-06-29T22:07:33.422615",
     "exception": false,
     "start_time": "2025-06-29T22:07:33.374949",
     "status": "completed"
    },
    "tags": []
   },
   "source": [
    "---"
   ]
  },
  {
   "cell_type": "markdown",
   "id": "2",
   "metadata": {
    "papermill": {
     "duration": 0.078762,
     "end_time": "2025-06-29T22:07:33.815542",
     "exception": false,
     "start_time": "2025-06-29T22:07:33.736780",
     "status": "completed"
    },
    "tags": []
   },
   "source": [
    "Table of Contents <a class=\"jp-toc-ignore\"></a>\n",
    "=================\n",
    "* [1 Data aquisition](#data-aquisition)\n",
    "  * [1.1 Fetch online data](#fetch-online-data)\n",
    "  * [1.2 Merge data](#merge-data)\n",
    "* [2 Check changes](#check-changes)\n",
    "  * [2.1 Load previous data](#load-previous-data)\n",
    "  * [2.2 Generate changelog](#generate-changelog)\n",
    "  * [2.3 Save data](#save-data)\n",
    "* [3 Data visualization](#data-visualization)\n",
    "  * [3.1 Skill cards](#skill-cards)\n",
    "    * [3.1.1 Character](#character)\n",
    "    * [3.1.2 Property](#property)\n",
    "  * [3.2 Property](#property)\n",
    "  * [3.3 Archseries](#archseries)\n",
    "  * [3.4 TCG Speed Duel status](#tcg-speed-duel-status)\n",
    "      * [3.4.0.1 By card type](#by-card-type)\n",
    "      * [3.4.0.2 By monster type](#by-monster-type)\n",
    "      * [3.4.0.3 By archseries](#by-archseries)\n",
    "    * [3.4.1 TCG Speed Duel vs. TCG status](#tcg-speed-duel-vs.-tcg-status)\n",
    "* [4 Epilogue](#epilogue)\n",
    "  * [4.1 HTML export](#html-export)\n",
    "  <!-- * [4.2 Git](#git) -->"
   ]
  },
  {
   "cell_type": "markdown",
   "id": "3",
   "metadata": {
    "papermill": {
     "duration": 0.318182,
     "end_time": "2025-06-29T22:07:34.485594",
     "exception": false,
     "start_time": "2025-06-29T22:07:34.167412",
     "status": "completed"
    },
    "tags": []
   },
   "source": [
    "# Data aquisition"
   ]
  },
  {
   "cell_type": "markdown",
   "id": "4",
   "metadata": {
    "papermill": {
     "duration": 0.58806,
     "end_time": "2025-06-29T22:07:35.359405",
     "exception": false,
     "start_time": "2025-06-29T22:07:34.771345",
     "status": "completed"
    },
    "tags": []
   },
   "source": [
    "## Fetch online data"
   ]
  },
  {
   "cell_type": "code",
   "execution_count": null,
   "id": "5",
   "metadata": {
    "papermill": {
     "duration": 0.038186,
     "end_time": "2025-06-29T22:07:35.513270",
     "exception": false,
     "start_time": "2025-06-29T22:07:35.475084",
     "status": "completed"
    },
    "tags": []
   },
   "outputs": [],
   "source": [
    "# Timestamp\n",
    "timestamp = arrow.utcnow()"
   ]
  },
  {
   "cell_type": "code",
   "execution_count": null,
   "id": "6",
   "metadata": {
    "papermill": {
     "duration": 10.643479,
     "end_time": "2025-06-29T22:07:46.221139",
     "exception": false,
     "start_time": "2025-06-29T22:07:35.577660",
     "status": "completed"
    },
    "tags": []
   },
   "outputs": [],
   "source": [
    "# Fetch skill cards\n",
    "skill_df = fetch_skill()\n",
    "\n",
    "# Fetch deck cards\n",
    "speed_df = fetch_speed()"
   ]
  },
  {
   "cell_type": "markdown",
   "id": "7",
   "metadata": {
    "papermill": {
     "duration": 0.273552,
     "end_time": "2025-06-29T22:07:46.525078",
     "exception": false,
     "start_time": "2025-06-29T22:07:46.251526",
     "status": "completed"
    },
    "tags": []
   },
   "source": [
    "## Merge data"
   ]
  },
  {
   "cell_type": "code",
   "execution_count": null,
   "id": "8",
   "metadata": {
    "papermill": {
     "duration": 0.163121,
     "end_time": "2025-06-29T22:07:47.117107",
     "exception": false,
     "start_time": "2025-06-29T22:07:46.953986",
     "status": "completed"
    },
    "tags": []
   },
   "outputs": [],
   "source": [
    "full_df = pd.concat([speed_df, skill_df], ignore_index=True, axis=0).sort_values(\"Name\").reset_index(drop=True)\n",
    "print(\"Data merged\")"
   ]
  },
  {
   "cell_type": "markdown",
   "id": "9",
   "metadata": {
    "papermill": {
     "duration": 0.265632,
     "end_time": "2025-06-29T22:07:47.413812",
     "exception": false,
     "start_time": "2025-06-29T22:07:47.148180",
     "status": "completed"
    },
    "tags": []
   },
   "source": [
    "# Check changes"
   ]
  },
  {
   "cell_type": "markdown",
   "id": "10",
   "metadata": {
    "papermill": {
     "duration": 0.026198,
     "end_time": "2025-06-29T22:07:47.550034",
     "exception": false,
     "start_time": "2025-06-29T22:07:47.523836",
     "status": "completed"
    },
    "tags": []
   },
   "source": [
    "## Load previous data"
   ]
  },
  {
   "cell_type": "code",
   "execution_count": null,
   "id": "11",
   "metadata": {
    "papermill": {
     "duration": 0.1641,
     "end_time": "2025-06-29T22:07:47.741950",
     "exception": false,
     "start_time": "2025-06-29T22:07:47.577850",
     "status": "completed"
    },
    "tags": []
   },
   "outputs": [],
   "source": [
    "# Get latest file if exist\n",
    "tuple_cols = [\"Secondary type\", \"Effect type\", \"Archseries\", \"Artwork\"]\n",
    "previous_df, previous_ts = load_latest_data(\"speed\", tuple_cols, return_ts=True)\n",
    "\n",
    "if previous_df is not None:\n",
    "    previous_df = previous_df.astype(full_df[previous_df.columns.intersection(full_df.columns)].dtypes.to_dict())"
   ]
  },
  {
   "cell_type": "markdown",
   "id": "12",
   "metadata": {
    "papermill": {
     "duration": 0.04114,
     "end_time": "2025-06-29T22:07:47.812069",
     "exception": false,
     "start_time": "2025-06-29T22:07:47.770929",
     "status": "completed"
    },
    "tags": []
   },
   "source": [
    "## Generate changelog"
   ]
  },
  {
   "cell_type": "code",
   "execution_count": null,
   "id": "13",
   "metadata": {
    "papermill": {
     "duration": 0.194129,
     "end_time": "2025-06-29T22:07:48.033797",
     "exception": false,
     "start_time": "2025-06-29T22:07:47.839668",
     "status": "completed"
    },
    "tags": []
   },
   "outputs": [],
   "source": [
    "if previous_df is None:\n",
    "    changelog = None\n",
    "    print(\"Skipped\")\n",
    "else:\n",
    "    changelog = generate_changelog(previous_df, full_df, col=\"Name\")\n",
    "    if not changelog.empty:\n",
    "        display(changelog)\n",
    "        new_names = changelog.index.value_counts()\n",
    "        new_names = new_names[new_names == 1].index\n",
    "        if len(new_names) > 0:\n",
    "            print(\"New cards:\")\n",
    "            display(changelog.loc[new_names])\n",
    "        changelog.to_csv(\n",
    "            dirs.DATA / make_filename(report=\"speed\", timestamp=timestamp, previous_timestamp=previous_ts),\n",
    "            index=True,\n",
    "        )\n",
    "        print(\"Changelog saved\")"
   ]
  },
  {
   "cell_type": "markdown",
   "id": "14",
   "metadata": {
    "papermill": {
     "duration": 0.027478,
     "end_time": "2025-06-29T22:07:48.090409",
     "exception": false,
     "start_time": "2025-06-29T22:07:48.062931",
     "status": "completed"
    },
    "tags": []
   },
   "source": [
    "## Save data"
   ]
  },
  {
   "cell_type": "code",
   "execution_count": null,
   "id": "15",
   "metadata": {
    "papermill": {
     "duration": 0.121339,
     "end_time": "2025-06-29T22:07:48.241274",
     "exception": false,
     "start_time": "2025-06-29T22:07:48.119935",
     "status": "completed"
    },
    "tags": []
   },
   "outputs": [],
   "source": [
    "if changelog is not None and changelog.empty:\n",
    "    print(\"No changes. New data not saved\")\n",
    "else:\n",
    "    full_df.to_csv(\n",
    "        dirs.DATA / make_filename(report=\"speed\", timestamp=timestamp),\n",
    "        index=False,\n",
    "    )\n",
    "    print(\"Data saved\")"
   ]
  },
  {
   "cell_type": "markdown",
   "id": "16",
   "metadata": {
    "papermill": {
     "duration": 0.028132,
     "end_time": "2025-06-29T22:07:48.299787",
     "exception": false,
     "start_time": "2025-06-29T22:07:48.271655",
     "status": "completed"
    },
    "tags": []
   },
   "source": [
    "# Data visualization"
   ]
  },
  {
   "cell_type": "code",
   "execution_count": null,
   "id": "17",
   "metadata": {
    "papermill": {
     "duration": 0.189634,
     "end_time": "2025-06-29T22:07:48.518417",
     "exception": false,
     "start_time": "2025-06-29T22:07:48.328783",
     "status": "completed"
    },
    "tags": []
   },
   "outputs": [],
   "source": [
    "full_df"
   ]
  },
  {
   "cell_type": "markdown",
   "id": "18",
   "metadata": {
    "jp-MarkdownHeadingCollapsed": true,
    "papermill": {
     "duration": 0.032415,
     "end_time": "2025-06-29T22:07:48.587148",
     "exception": false,
     "start_time": "2025-06-29T22:07:48.554733",
     "status": "completed"
    },
    "tags": []
   },
   "source": [
    "## Skill cards"
   ]
  },
  {
   "cell_type": "markdown",
   "id": "19",
   "metadata": {
    "papermill": {
     "duration": 0.032285,
     "end_time": "2025-06-29T22:07:48.653976",
     "exception": false,
     "start_time": "2025-06-29T22:07:48.621691",
     "status": "completed"
    },
    "tags": []
   },
   "source": [
    "### Character"
   ]
  },
  {
   "cell_type": "code",
   "execution_count": null,
   "id": "20",
   "metadata": {
    "papermill": {
     "duration": 0.049161,
     "end_time": "2025-06-29T22:07:48.736695",
     "exception": false,
     "start_time": "2025-06-29T22:07:48.687534",
     "status": "completed"
    },
    "tags": []
   },
   "outputs": [],
   "source": [
    "print(\n",
    "    \"Total number of characters portrayed in skill cards:\",\n",
    "    skill_df[\"Character\"].nunique(),\n",
    ")"
   ]
  },
  {
   "cell_type": "code",
   "execution_count": null,
   "id": "21",
   "metadata": {
    "papermill": {
     "duration": 0.078921,
     "end_time": "2025-06-29T22:07:48.847886",
     "exception": false,
     "start_time": "2025-06-29T22:07:48.768965",
     "status": "completed"
    },
    "tags": []
   },
   "outputs": [],
   "source": [
    "skill_df.drop(\"Card type\", axis=1).sort_values(\"Character\")"
   ]
  },
  {
   "cell_type": "code",
   "execution_count": null,
   "id": "22",
   "metadata": {
    "papermill": {
     "duration": 1.214693,
     "end_time": "2025-06-29T22:07:50.097868",
     "exception": false,
     "start_time": "2025-06-29T22:07:48.883175",
     "status": "completed"
    },
    "tags": []
   },
   "outputs": [],
   "source": [
    "skill_color = plot.colors_dict[\"Skill Card\"]\n",
    "skill_df[\"Character\"].value_counts().plot.bar(figsize=(18, 6), rot=90, color=skill_color, title=\"Character\")\n",
    "plt.show()"
   ]
  },
  {
   "cell_type": "markdown",
   "id": "23",
   "metadata": {
    "papermill": {
     "duration": 0.404814,
     "end_time": "2025-06-29T22:07:50.542917",
     "exception": false,
     "start_time": "2025-06-29T22:07:50.138103",
     "status": "completed"
    },
    "tags": []
   },
   "source": [
    "### Property"
   ]
  },
  {
   "cell_type": "code",
   "execution_count": null,
   "id": "24",
   "metadata": {
    "papermill": {
     "duration": 0.055223,
     "end_time": "2025-06-29T22:07:50.719536",
     "exception": false,
     "start_time": "2025-06-29T22:07:50.664313",
     "status": "completed"
    },
    "tags": []
   },
   "outputs": [],
   "source": [
    "print(\"Total number of properties:\", skill_df[\"Property\"].nunique())"
   ]
  },
  {
   "cell_type": "code",
   "execution_count": null,
   "id": "25",
   "metadata": {
    "papermill": {
     "duration": 0.072087,
     "end_time": "2025-06-29T22:07:50.831617",
     "exception": false,
     "start_time": "2025-06-29T22:07:50.759530",
     "status": "completed"
    },
    "tags": []
   },
   "outputs": [],
   "source": [
    "skill_df.groupby(\"Property\").nunique()"
   ]
  },
  {
   "cell_type": "code",
   "execution_count": null,
   "id": "26",
   "metadata": {
    "papermill": {
     "duration": 0.354724,
     "end_time": "2025-06-29T22:07:51.226729",
     "exception": false,
     "start_time": "2025-06-29T22:07:50.872005",
     "status": "completed"
    },
    "tags": []
   },
   "outputs": [],
   "source": [
    "skill_color = plot.colors_dict[\"Skill Card\"]\n",
    "skill_df[\"Property\"].value_counts().plot.bar(figsize=(18, 6), rot=0, color=skill_color, title=\"Property\")\n",
    "plt.show()"
   ]
  },
  {
   "cell_type": "markdown",
   "id": "27",
   "metadata": {
    "jp-MarkdownHeadingCollapsed": true,
    "papermill": {
     "duration": 0.038928,
     "end_time": "2025-06-29T22:07:51.309310",
     "exception": false,
     "start_time": "2025-06-29T22:07:51.270382",
     "status": "completed"
    },
    "tags": []
   },
   "source": [
    "## Property"
   ]
  },
  {
   "cell_type": "code",
   "execution_count": null,
   "id": "28",
   "metadata": {
    "papermill": {
     "duration": 0.050395,
     "end_time": "2025-06-29T22:07:51.399182",
     "exception": false,
     "start_time": "2025-06-29T22:07:51.348787",
     "status": "completed"
    },
    "tags": []
   },
   "outputs": [],
   "source": [
    "print(\"Total number of properties:\", full_df[\"Property\"].nunique())"
   ]
  },
  {
   "cell_type": "code",
   "execution_count": null,
   "id": "29",
   "metadata": {
    "papermill": {
     "duration": 0.086538,
     "end_time": "2025-06-29T22:07:51.527260",
     "exception": false,
     "start_time": "2025-06-29T22:07:51.440722",
     "status": "completed"
    },
    "tags": []
   },
   "outputs": [],
   "source": [
    "full_df.groupby(\"Property\").nunique()"
   ]
  },
  {
   "cell_type": "code",
   "execution_count": null,
   "id": "30",
   "metadata": {
    "papermill": {
     "duration": 0.371701,
     "end_time": "2025-06-29T22:07:51.940410",
     "exception": false,
     "start_time": "2025-06-29T22:07:51.568709",
     "status": "completed"
    },
    "tags": []
   },
   "outputs": [],
   "source": [
    "property_unstack = full_df.groupby(\"Property\")[\"Card type\"].value_counts().unstack()\n",
    "skill_st_colors = [plot.colors_dict[i] for i in property_unstack.columns]\n",
    "property_unstack.plot.bar(figsize=(14, 6), stacked=True, rot=45, color=skill_st_colors)\n",
    "plt.show()"
   ]
  },
  {
   "cell_type": "markdown",
   "id": "31",
   "metadata": {
    "jp-MarkdownHeadingCollapsed": true,
    "papermill": {
     "duration": 0.066203,
     "end_time": "2025-06-29T22:07:52.051346",
     "exception": false,
     "start_time": "2025-06-29T22:07:51.985143",
     "status": "completed"
    },
    "tags": []
   },
   "source": [
    "## Archseries"
   ]
  },
  {
   "cell_type": "code",
   "execution_count": null,
   "id": "32",
   "metadata": {
    "papermill": {
     "duration": 0.085878,
     "end_time": "2025-06-29T22:07:52.415599",
     "exception": false,
     "start_time": "2025-06-29T22:07:52.329721",
     "status": "completed"
    },
    "tags": []
   },
   "outputs": [],
   "source": [
    "exploded_archseries = full_df.explode(\"Archseries\")\n",
    "print(\"Total number of Archseries:\", exploded_archseries[\"Archseries\"].nunique())"
   ]
  },
  {
   "cell_type": "code",
   "execution_count": null,
   "id": "33",
   "metadata": {
    "papermill": {
     "duration": 0.093114,
     "end_time": "2025-06-29T22:07:52.553939",
     "exception": false,
     "start_time": "2025-06-29T22:07:52.460825",
     "status": "completed"
    },
    "tags": []
   },
   "outputs": [],
   "source": [
    "exploded_archseries.groupby(\"Archseries\").nunique()"
   ]
  },
  {
   "cell_type": "code",
   "execution_count": null,
   "id": "34",
   "metadata": {
    "papermill": {
     "duration": 0.415014,
     "end_time": "2025-06-29T22:07:53.282422",
     "exception": false,
     "start_time": "2025-06-29T22:07:52.867408",
     "status": "completed"
    },
    "tags": []
   },
   "outputs": [],
   "source": [
    "exploded_archseries[\"Archseries\"].value_counts().head(30).plot.barh(figsize=(10, 15), title=\"Top 30 Archtypes/Series\")\n",
    "plt.show()"
   ]
  },
  {
   "cell_type": "markdown",
   "id": "35",
   "metadata": {
    "papermill": {
     "duration": 0.100971,
     "end_time": "2025-06-29T22:07:53.431431",
     "exception": false,
     "start_time": "2025-06-29T22:07:53.330460",
     "status": "completed"
    },
    "tags": []
   },
   "source": [
    "## TCG Speed Duel status"
   ]
  },
  {
   "cell_type": "code",
   "execution_count": null,
   "id": "36",
   "metadata": {
    "papermill": {
     "duration": 0.107221,
     "end_time": "2025-06-29T22:07:53.661701",
     "exception": false,
     "start_time": "2025-06-29T22:07:53.554480",
     "status": "completed"
    },
    "tags": []
   },
   "outputs": [],
   "source": [
    "print(\"Total number of TCG Speed Duel status:\", full_df[\"TCG Speed Duel status\"].nunique())"
   ]
  },
  {
   "cell_type": "code",
   "execution_count": null,
   "id": "37",
   "metadata": {
    "papermill": {
     "duration": 0.292066,
     "end_time": "2025-06-29T22:07:54.153391",
     "exception": false,
     "start_time": "2025-06-29T22:07:53.861325",
     "status": "completed"
    },
    "tags": []
   },
   "outputs": [],
   "source": [
    "full_df.groupby(\"TCG Speed Duel status\", dropna=False).nunique()"
   ]
  },
  {
   "cell_type": "code",
   "execution_count": null,
   "id": "38",
   "metadata": {
    "papermill": {
     "duration": 1.132234,
     "end_time": "2025-06-29T22:07:55.338986",
     "exception": false,
     "start_time": "2025-06-29T22:07:54.206752",
     "status": "completed"
    },
    "tags": []
   },
   "outputs": [],
   "source": [
    "full_df[\"TCG Speed Duel status\"].value_counts(dropna=False).plot.bar(figsize=(18, 6), logy=True, rot=45, title=\"TCG status\")\n",
    "plt.show()"
   ]
  },
  {
   "cell_type": "markdown",
   "id": "39",
   "metadata": {
    "papermill": {
     "duration": 0.047965,
     "end_time": "2025-06-29T22:07:55.439064",
     "exception": false,
     "start_time": "2025-06-29T22:07:55.391099",
     "status": "completed"
    },
    "tags": []
   },
   "source": [
    "#### By card type"
   ]
  },
  {
   "cell_type": "code",
   "execution_count": null,
   "id": "40",
   "metadata": {
    "papermill": {
     "duration": 0.092746,
     "end_time": "2025-06-29T22:07:55.777744",
     "exception": false,
     "start_time": "2025-06-29T22:07:55.684998",
     "status": "completed"
    },
    "tags": []
   },
   "outputs": [],
   "source": [
    "# Remove unlimited\n",
    "tcg_speed_crosstab = pd.crosstab(full_df[\"Card type\"], full_df[\"TCG Speed Duel status\"])\n",
    "tcg_speed_crosstab"
   ]
  },
  {
   "cell_type": "code",
   "execution_count": null,
   "id": "41",
   "metadata": {
    "papermill": {
     "duration": 0.597638,
     "end_time": "2025-06-29T22:07:56.433162",
     "exception": false,
     "start_time": "2025-06-29T22:07:55.835524",
     "status": "completed"
    },
    "tags": []
   },
   "outputs": [],
   "source": [
    "plt.figure(figsize=(12, 6))\n",
    "sns.heatmap(\n",
    "    tcg_speed_crosstab[tcg_speed_crosstab > 0],\n",
    "    annot=True,\n",
    "    fmt=\"g\",\n",
    "    cmap=\"viridis\",\n",
    "    norm=plot.LogNorm(),\n",
    ")\n",
    "plt.show()"
   ]
  },
  {
   "cell_type": "markdown",
   "id": "42",
   "metadata": {
    "papermill": {
     "duration": 0.132794,
     "end_time": "2025-06-29T22:07:56.619366",
     "exception": false,
     "start_time": "2025-06-29T22:07:56.486572",
     "status": "completed"
    },
    "tags": []
   },
   "source": [
    "#### By monster type"
   ]
  },
  {
   "cell_type": "code",
   "execution_count": null,
   "id": "43",
   "metadata": {
    "papermill": {
     "duration": 0.079868,
     "end_time": "2025-06-29T22:07:56.753184",
     "exception": false,
     "start_time": "2025-06-29T22:07:56.673316",
     "status": "completed"
    },
    "tags": []
   },
   "outputs": [],
   "source": [
    "# Remove unlimited\n",
    "tcg_speed_crosstab_b = pd.crosstab(full_df[\"Monster type\"], full_df[\"TCG Speed Duel status\"])\n",
    "tcg_speed_crosstab_b"
   ]
  },
  {
   "cell_type": "code",
   "execution_count": null,
   "id": "44",
   "metadata": {
    "papermill": {
     "duration": 0.491903,
     "end_time": "2025-06-29T22:07:57.300608",
     "exception": false,
     "start_time": "2025-06-29T22:07:56.808705",
     "status": "completed"
    },
    "tags": []
   },
   "outputs": [],
   "source": [
    "plt.figure(figsize=(16, 4))\n",
    "sns.heatmap(\n",
    "    tcg_speed_crosstab_b[tcg_speed_crosstab_b > 0].T,\n",
    "    annot=True,\n",
    "    fmt=\"g\",\n",
    "    cmap=\"viridis\",\n",
    "    square=True,\n",
    ")\n",
    "plt.show()"
   ]
  },
  {
   "cell_type": "markdown",
   "id": "45",
   "metadata": {
    "papermill": {
     "duration": 0.069246,
     "end_time": "2025-06-29T22:07:57.430787",
     "exception": false,
     "start_time": "2025-06-29T22:07:57.361541",
     "status": "completed"
    },
    "tags": []
   },
   "source": [
    "#### By archseries"
   ]
  },
  {
   "cell_type": "code",
   "execution_count": null,
   "id": "46",
   "metadata": {
    "papermill": {
     "duration": 0.13292,
     "end_time": "2025-06-29T22:07:57.621364",
     "exception": false,
     "start_time": "2025-06-29T22:07:57.488444",
     "status": "completed"
    },
    "tags": []
   },
   "outputs": [],
   "source": [
    "# Remove unlimited\n",
    "tcg_crosstab_c = pd.crosstab(\n",
    "    exploded_archseries[\"Archseries\"],\n",
    "    exploded_archseries[\"TCG Speed Duel status\"],\n",
    "    margins=True,\n",
    ")\n",
    "tcg_crosstab_c"
   ]
  },
  {
   "cell_type": "markdown",
   "id": "47",
   "metadata": {
    "papermill": {
     "duration": 0.054695,
     "end_time": "2025-06-29T22:07:57.736600",
     "exception": false,
     "start_time": "2025-06-29T22:07:57.681905",
     "status": "completed"
    },
    "tags": []
   },
   "source": [
    "### TCG Speed Duel vs. TCG status"
   ]
  },
  {
   "cell_type": "code",
   "execution_count": null,
   "id": "48",
   "metadata": {
    "papermill": {
     "duration": 0.084675,
     "end_time": "2025-06-29T22:07:57.981582",
     "exception": false,
     "start_time": "2025-06-29T22:07:57.896907",
     "status": "completed"
    },
    "tags": []
   },
   "outputs": [],
   "source": [
    "cg_crosstab = pd.crosstab(full_df[\"TCG status\"], full_df[\"TCG Speed Duel status\"], dropna=False, margins=False)\n",
    "cg_crosstab"
   ]
  },
  {
   "cell_type": "code",
   "execution_count": null,
   "id": "49",
   "metadata": {
    "papermill": {
     "duration": 0.561855,
     "end_time": "2025-06-29T22:07:58.719651",
     "exception": false,
     "start_time": "2025-06-29T22:07:58.157796",
     "status": "completed"
    },
    "tags": []
   },
   "outputs": [],
   "source": [
    "plt.figure(figsize=(12, 6))\n",
    "sns.heatmap(\n",
    "    cg_crosstab[cg_crosstab > 0],\n",
    "    annot=True,\n",
    "    fmt=\"g\",\n",
    "    cmap=\"viridis\",\n",
    "    square=True,\n",
    "    norm=plot.LogNorm(),\n",
    ")\n",
    "plt.show()"
   ]
  },
  {
   "cell_type": "markdown",
   "id": "50",
   "metadata": {
    "papermill": {
     "duration": 0.081584,
     "end_time": "2025-06-29T22:07:58.863791",
     "exception": false,
     "start_time": "2025-06-29T22:07:58.782207",
     "status": "completed"
    },
    "tags": []
   },
   "source": [
    "# Epilogue"
   ]
  },
  {
   "cell_type": "code",
   "execution_count": null,
   "id": "51",
   "metadata": {
    "papermill": {
     "duration": 0.148439,
     "end_time": "2025-06-29T22:07:59.071620",
     "exception": false,
     "start_time": "2025-06-29T22:07:58.923181",
     "status": "completed"
    },
    "tags": []
   },
   "outputs": [],
   "source": [
    "benchmark(report=\"speed\", timestamp=timestamp)"
   ]
  },
  {
   "cell_type": "code",
   "execution_count": null,
   "id": "52",
   "metadata": {
    "papermill": {
     "duration": 0.071555,
     "end_time": "2025-06-29T22:07:59.205218",
     "exception": false,
     "start_time": "2025-06-29T22:07:59.133663",
     "status": "completed"
    },
    "tags": []
   },
   "outputs": [],
   "source": [
    "footer()"
   ]
  },
  {
   "cell_type": "markdown",
   "id": "53",
   "metadata": {
    "papermill": {
     "duration": 0.060546,
     "end_time": "2025-06-29T22:07:59.324379",
     "exception": false,
     "start_time": "2025-06-29T22:07:59.263833",
     "status": "completed"
    },
    "tags": []
   },
   "source": [
    "## HTML export"
   ]
  },
  {
   "cell_type": "code",
   "execution_count": null,
   "id": "54",
   "metadata": {
    "papermill": {
     "duration": 0.072243,
     "end_time": "2025-06-29T22:07:59.456413",
     "exception": false,
     "start_time": "2025-06-29T22:07:59.384170",
     "status": "completed"
    },
    "tags": []
   },
   "outputs": [],
   "source": [
    "# Save notebook on disck before generating HTML report\n",
    "save_notebook()"
   ]
  },
  {
   "cell_type": "code",
   "execution_count": null,
   "id": "55",
   "metadata": {
    "papermill": {
     "duration": 1.229036,
     "end_time": "2025-06-29T22:08:00.746856",
     "exception": false,
     "start_time": "2025-06-29T22:07:59.517820",
     "status": "completed"
    },
    "tags": []
   },
   "outputs": [],
   "source": [
    "export_notebook(dirs.NOTEBOOKS.user / \"Speed.ipynb\")"
   ]
  },
  {
   "cell_type": "markdown",
   "id": "56",
   "metadata": {
    "papermill": {
     "duration": 0.858159,
     "end_time": "2025-06-29T22:08:01.668404",
     "exception": false,
     "start_time": "2025-06-29T22:08:00.810245",
     "status": "completed"
    },
    "tags": [
     "exclude"
    ]
   },
   "source": [
    "## Git"
   ]
  },
  {
   "cell_type": "code",
   "execution_count": null,
   "id": "57",
   "metadata": {
    "papermill": {
     "duration": null,
     "end_time": null,
     "exception": false,
     "start_time": "2025-06-29T22:08:01.729183",
     "status": "running"
    },
    "tags": [
     "exclude"
    ]
   },
   "outputs": [],
   "source": [
    "git.commit(\"*[Ss]peed*\", f\"Speed update - {timestamp.isoformat()}\")"
   ]
  }
 ],
 "metadata": {
  "kernelspec": {
   "display_name": "Python3 (YugiQuery)",
   "language": "python",
   "name": "yugiquery"
  },
  "language_info": {
   "codemirror_mode": {
    "name": "ipython",
    "version": 3
   },
   "file_extension": ".py",
   "mimetype": "text/x-python",
   "name": "python",
   "nbconvert_exporter": "python",
   "pygments_lexer": "ipython3",
   "version": "3.11.6"
  },
  "papermill": {
   "default_parameters": {},
   "duration": null,
   "end_time": null,
   "environment_variables": {},
   "exception": null,
   "input_path": "/home/jovyan/yugiquery/notebooks/Speed.ipynb",
   "output_path": "/home/jovyan/yugiquery/notebooks/Speed.ipynb",
   "parameters": {},
   "start_time": "2025-06-29T22:05:50.841250",
   "version": "2.6.0"
  },
  "toc": {
   "base_numbering": 1,
   "nav_menu": {},
   "number_sections": true,
   "sideBar": true,
   "skip_h1_title": false,
   "title_cell": "Table of Contents",
   "title_sidebar": "Contents",
   "toc_cell": true,
   "toc_position": {},
   "toc_section_display": true,
   "toc_window_display": false
  }
 },
 "nbformat": 4,
 "nbformat_minor": 5
}
