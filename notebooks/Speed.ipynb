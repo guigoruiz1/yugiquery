{
 "cells": [
  {
   "cell_type": "code",
   "execution_count": null,
   "id": "0",
   "metadata": {
    "papermill": {
     "duration": 0.02202,
     "end_time": "2024-10-24T15:24:09.782688",
     "exception": false,
     "start_time": "2024-10-24T15:24:09.760668",
     "status": "completed"
    },
    "tags": []
   },
   "outputs": [],
   "source": [
    "from yugiquery import *\n",
    "\n",
    "init_notebook_mode(all_interactive=True)\n",
    "\n",
    "header(\"Speed Duel\")"
   ]
  },
  {
   "cell_type": "markdown",
   "id": "1",
   "metadata": {
    "papermill": {
     "duration": 0.009011,
     "end_time": "2024-10-24T15:24:09.800377",
     "exception": false,
     "start_time": "2024-10-24T15:24:09.791366",
     "status": "completed"
    },
    "tags": []
   },
   "source": [
    "---"
   ]
  },
  {
   "cell_type": "markdown",
   "id": "2",
   "metadata": {
    "papermill": {
     "duration": 0.008495,
     "end_time": "2024-10-24T15:24:09.817777",
     "exception": false,
     "start_time": "2024-10-24T15:24:09.809282",
     "status": "completed"
    },
    "tags": []
   },
   "source": [
    "Table of Contents <a class=\"jp-toc-ignore\"></a>\n",
    "=================\n",
    "* [1 Data aquisition](#data-aquisition)\n",
    "  * [1.1 Fetch online data](#fetch-online-data)\n",
    "  * [1.2 Merge data](#merge-data)\n",
    "* [2 Check changes](#check-changes)\n",
    "  * [2.1 Load previous data](#load-previous-data)\n",
    "  * [2.2 Generate changelog](#generate-changelog)\n",
    "  * [2.3 Save data](#save-data)\n",
    "* [3 Data visualization](#data-visualization)\n",
    "  * [3.1 Skill cards](#skill-cards)\n",
    "    * [3.1.1 Character](#character)\n",
    "    * [3.1.2 Property](#property)\n",
    "  * [3.2 Property](#property)\n",
    "  * [3.3 Archseries](#archseries)\n",
    "  * [3.4 TCG Speed Duel status](#tcg-speed-duel-status)\n",
    "      * [3.4.0.1 By card type](#by-card-type)\n",
    "      * [3.4.0.2 By monster type](#by-monster-type)\n",
    "      * [3.4.0.3 By archseries](#by-archseries)\n",
    "    * [3.4.1 TCG Speed Duel vs. TCG status](#tcg-speed-duel-vs.-tcg-status)\n",
    "* [4 Epilogue](#epilogue)\n",
    "  * [4.1 HTML export](#html-export)\n",
    "  <!-- * [4.2 Git](#git) -->"
   ]
  },
  {
   "cell_type": "markdown",
   "id": "3",
   "metadata": {
    "papermill": {
     "duration": 0.007088,
     "end_time": "2024-10-24T15:24:09.832590",
     "exception": false,
     "start_time": "2024-10-24T15:24:09.825502",
     "status": "completed"
    },
    "tags": []
   },
   "source": [
    "# Data aquisition"
   ]
  },
  {
   "cell_type": "markdown",
   "id": "4",
   "metadata": {
    "papermill": {
     "duration": 0.006612,
     "end_time": "2024-10-24T15:24:09.846799",
     "exception": false,
     "start_time": "2024-10-24T15:24:09.840187",
     "status": "completed"
    },
    "tags": []
   },
   "source": [
    "## Fetch online data"
   ]
  },
  {
   "cell_type": "code",
   "execution_count": null,
   "id": "5",
   "metadata": {
    "papermill": {
     "duration": 0.01224,
     "end_time": "2024-10-24T15:24:09.866284",
     "exception": false,
     "start_time": "2024-10-24T15:24:09.854044",
     "status": "completed"
    },
    "tags": []
   },
   "outputs": [],
   "source": [
    "# Timestamp\n",
    "timestamp = arrow.utcnow()"
   ]
  },
  {
   "cell_type": "code",
   "execution_count": null,
   "id": "6",
   "metadata": {
    "papermill": {
     "duration": 5.680417,
     "end_time": "2024-10-24T15:24:15.559499",
     "exception": false,
     "start_time": "2024-10-24T15:24:09.879082",
     "status": "completed"
    },
    "tags": []
   },
   "outputs": [],
   "source": [
    "# Fetch skill cards\n",
    "skill_df = fetch_skill()\n",
    "\n",
    "# Fetch deck cards\n",
    "speed_df = fetch_speed()"
   ]
  },
  {
   "cell_type": "markdown",
   "id": "7",
   "metadata": {
    "papermill": {
     "duration": 0.007863,
     "end_time": "2024-10-24T15:24:15.581772",
     "exception": false,
     "start_time": "2024-10-24T15:24:15.573909",
     "status": "completed"
    },
    "tags": []
   },
   "source": [
    "## Merge data"
   ]
  },
  {
   "cell_type": "code",
   "execution_count": null,
   "id": "8",
   "metadata": {
    "papermill": {
     "duration": 0.015106,
     "end_time": "2024-10-24T15:24:15.605067",
     "exception": false,
     "start_time": "2024-10-24T15:24:15.589961",
     "status": "completed"
    },
    "tags": []
   },
   "outputs": [],
   "source": [
    "full_df = pd.concat([speed_df, skill_df], ignore_index=True, axis=0).sort_values(\"Name\").reset_index(drop=True)\n",
    "print(\"Data merged\")"
   ]
  },
  {
   "cell_type": "markdown",
   "id": "9",
   "metadata": {
    "papermill": {
     "duration": 0.007445,
     "end_time": "2024-10-24T15:24:15.620094",
     "exception": false,
     "start_time": "2024-10-24T15:24:15.612649",
     "status": "completed"
    },
    "tags": []
   },
   "source": [
    "# Check changes"
   ]
  },
  {
   "cell_type": "markdown",
   "id": "10",
   "metadata": {
    "papermill": {
     "duration": 0.007303,
     "end_time": "2024-10-24T15:24:15.635570",
     "exception": false,
     "start_time": "2024-10-24T15:24:15.628267",
     "status": "completed"
    },
    "tags": []
   },
   "source": [
    "## Load previous data"
   ]
  },
  {
   "cell_type": "code",
   "execution_count": null,
   "id": "11",
   "metadata": {
    "papermill": {
     "duration": 0.046466,
     "end_time": "2024-10-24T15:24:15.689711",
     "exception": false,
     "start_time": "2024-10-24T15:24:15.643245",
     "status": "completed"
    },
    "tags": []
   },
   "outputs": [],
   "source": [
    "# Get latest file if exist\n",
    "tuple_cols = [\"Secondary type\", \"Effect type\", \"Archseries\", \"Artwork\"]\n",
    "previous_df, previous_ts = load_latest_data(\"speed\", tuple_cols)\n",
    "\n",
    "if previous_df is not None:\n",
    "    previous_df = previous_df.astype(full_df[previous_df.columns.intersection(full_df.columns)].dtypes.to_dict())"
   ]
  },
  {
   "cell_type": "markdown",
   "id": "12",
   "metadata": {
    "papermill": {
     "duration": 0.007862,
     "end_time": "2024-10-24T15:24:15.705734",
     "exception": false,
     "start_time": "2024-10-24T15:24:15.697872",
     "status": "completed"
    },
    "tags": []
   },
   "source": [
    "## Generate changelog"
   ]
  },
  {
   "cell_type": "code",
   "execution_count": null,
   "id": "13",
   "metadata": {
    "papermill": {
     "duration": 0.027169,
     "end_time": "2024-10-24T15:24:15.740726",
     "exception": false,
     "start_time": "2024-10-24T15:24:15.713557",
     "status": "completed"
    },
    "tags": []
   },
   "outputs": [],
   "source": [
    "if previous_df is None:\n",
    "    changelog = None\n",
    "    print(\"Skipped\")\n",
    "else:\n",
    "    changelog = generate_changelog(previous_df, full_df, col=\"Name\")\n",
    "    if not changelog.empty:\n",
    "        display(changelog)\n",
    "        new_names = changelog.index.value_counts()\n",
    "        new_names = new_names[new_names == 1].index\n",
    "        if len(new_names) > 0:\n",
    "            print(\"New cards:\")\n",
    "            display(changelog.loc[new_names])\n",
    "        changelog.to_csv(\n",
    "            dirs.DATA / make_filename(report=\"speed\", timestamp=timestamp, previous_timestamp=previous_ts),\n",
    "            index=True,\n",
    "        )\n",
    "        print(\"Changelog saved\")"
   ]
  },
  {
   "cell_type": "markdown",
   "id": "14",
   "metadata": {
    "papermill": {
     "duration": 0.007578,
     "end_time": "2024-10-24T15:24:15.756881",
     "exception": false,
     "start_time": "2024-10-24T15:24:15.749303",
     "status": "completed"
    },
    "tags": []
   },
   "source": [
    "## Save data"
   ]
  },
  {
   "cell_type": "code",
   "execution_count": null,
   "id": "15",
   "metadata": {
    "papermill": {
     "duration": 0.011797,
     "end_time": "2024-10-24T15:24:15.775829",
     "exception": false,
     "start_time": "2024-10-24T15:24:15.764032",
     "status": "completed"
    },
    "tags": []
   },
   "outputs": [],
   "source": [
    "if changelog is not None and changelog.empty:\n",
    "    print(\"No changes. New data not saved\")\n",
    "else:\n",
    "    full_df.to_csv(\n",
    "        dirs.DATA / make_filename(report=\"speed\", timestamp=timestamp),\n",
    "        index=False,\n",
    "    )\n",
    "    print(\"Data saved\")"
   ]
  },
  {
   "cell_type": "markdown",
   "id": "16",
   "metadata": {
    "papermill": {
     "duration": 0.009854,
     "end_time": "2024-10-24T15:24:15.793649",
     "exception": false,
     "start_time": "2024-10-24T15:24:15.783795",
     "status": "completed"
    },
    "tags": []
   },
   "source": [
    "# Data visualization"
   ]
  },
  {
   "cell_type": "code",
   "execution_count": null,
   "id": "17",
   "metadata": {
    "papermill": {
     "duration": 0.055023,
     "end_time": "2024-10-24T15:24:15.859973",
     "exception": false,
     "start_time": "2024-10-24T15:24:15.804950",
     "status": "completed"
    },
    "tags": []
   },
   "outputs": [],
   "source": [
    "full_df"
   ]
  },
  {
   "cell_type": "markdown",
   "id": "18",
   "metadata": {
    "jp-MarkdownHeadingCollapsed": true,
    "papermill": {
     "duration": 0.040972,
     "end_time": "2024-10-24T15:24:15.943296",
     "exception": false,
     "start_time": "2024-10-24T15:24:15.902324",
     "status": "completed"
    },
    "tags": []
   },
   "source": [
    "## Skill cards"
   ]
  },
  {
   "cell_type": "markdown",
   "id": "19",
   "metadata": {
    "papermill": {
     "duration": 0.023085,
     "end_time": "2024-10-24T15:24:15.977179",
     "exception": false,
     "start_time": "2024-10-24T15:24:15.954094",
     "status": "completed"
    },
    "tags": []
   },
   "source": [
    "### Character"
   ]
  },
  {
   "cell_type": "code",
   "execution_count": null,
   "id": "20",
   "metadata": {
    "papermill": {
     "duration": 0.013356,
     "end_time": "2024-10-24T15:24:16.000837",
     "exception": false,
     "start_time": "2024-10-24T15:24:15.987481",
     "status": "completed"
    },
    "tags": []
   },
   "outputs": [],
   "source": [
    "print(\n",
    "    \"Total number of characters portrayed in skill cards:\",\n",
    "    skill_df[\"Character\"].nunique(),\n",
    ")"
   ]
  },
  {
   "cell_type": "code",
   "execution_count": null,
   "id": "21",
   "metadata": {
    "papermill": {
     "duration": 0.017264,
     "end_time": "2024-10-24T15:24:16.026635",
     "exception": false,
     "start_time": "2024-10-24T15:24:16.009371",
     "status": "completed"
    },
    "tags": []
   },
   "outputs": [],
   "source": [
    "skill_df.drop(\"Card type\", axis=1).sort_values(\"Character\")"
   ]
  },
  {
   "cell_type": "code",
   "execution_count": null,
   "id": "22",
   "metadata": {
    "papermill": {
     "duration": 0.127593,
     "end_time": "2024-10-24T15:24:16.162735",
     "exception": false,
     "start_time": "2024-10-24T15:24:16.035142",
     "status": "completed"
    },
    "tags": []
   },
   "outputs": [],
   "source": [
    "skill_color = plot.colors_dict[\"Skill Card\"]\n",
    "skill_df[\"Character\"].value_counts().plot.bar(figsize=(18, 6), rot=90, color=skill_color, title=\"Character\")\n",
    "plt.show()"
   ]
  },
  {
   "cell_type": "markdown",
   "id": "23",
   "metadata": {
    "papermill": {
     "duration": 0.009437,
     "end_time": "2024-10-24T15:24:16.183165",
     "exception": false,
     "start_time": "2024-10-24T15:24:16.173728",
     "status": "completed"
    },
    "tags": []
   },
   "source": [
    "### Property"
   ]
  },
  {
   "cell_type": "code",
   "execution_count": null,
   "id": "24",
   "metadata": {
    "papermill": {
     "duration": 0.014193,
     "end_time": "2024-10-24T15:24:16.207036",
     "exception": false,
     "start_time": "2024-10-24T15:24:16.192843",
     "status": "completed"
    },
    "tags": []
   },
   "outputs": [],
   "source": [
    "print(\"Total number of properties:\", skill_df[\"Property\"].nunique())"
   ]
  },
  {
   "cell_type": "code",
   "execution_count": null,
   "id": "25",
   "metadata": {
    "papermill": {
     "duration": 0.018732,
     "end_time": "2024-10-24T15:24:16.235840",
     "exception": false,
     "start_time": "2024-10-24T15:24:16.217108",
     "status": "completed"
    },
    "tags": []
   },
   "outputs": [],
   "source": [
    "skill_df.groupby(\"Property\").nunique()"
   ]
  },
  {
   "cell_type": "code",
   "execution_count": null,
   "id": "26",
   "metadata": {
    "papermill": {
     "duration": 0.039731,
     "end_time": "2024-10-24T15:24:16.285611",
     "exception": false,
     "start_time": "2024-10-24T15:24:16.245880",
     "status": "completed"
    },
    "tags": []
   },
   "outputs": [],
   "source": [
    "skill_color = plot.colors_dict[\"Skill Card\"]\n",
    "skill_df[\"Property\"].value_counts().plot.bar(figsize=(18, 6), rot=0, color=skill_color, title=\"Property\")\n",
    "plt.show()"
   ]
  },
  {
   "cell_type": "markdown",
   "id": "27",
   "metadata": {
    "jp-MarkdownHeadingCollapsed": true,
    "papermill": {
     "duration": 0.010591,
     "end_time": "2024-10-24T15:24:16.306378",
     "exception": false,
     "start_time": "2024-10-24T15:24:16.295787",
     "status": "completed"
    },
    "tags": []
   },
   "source": [
    "## Property"
   ]
  },
  {
   "cell_type": "code",
   "execution_count": null,
   "id": "28",
   "metadata": {
    "papermill": {
     "duration": 0.014093,
     "end_time": "2024-10-24T15:24:16.331196",
     "exception": false,
     "start_time": "2024-10-24T15:24:16.317103",
     "status": "completed"
    },
    "tags": []
   },
   "outputs": [],
   "source": [
    "print(\"Total number of properties:\", full_df[\"Property\"].nunique())"
   ]
  },
  {
   "cell_type": "code",
   "execution_count": null,
   "id": "29",
   "metadata": {
    "papermill": {
     "duration": 0.020458,
     "end_time": "2024-10-24T15:24:16.361358",
     "exception": false,
     "start_time": "2024-10-24T15:24:16.340900",
     "status": "completed"
    },
    "tags": []
   },
   "outputs": [],
   "source": [
    "full_df.groupby(\"Property\").nunique()"
   ]
  },
  {
   "cell_type": "code",
   "execution_count": null,
   "id": "30",
   "metadata": {
    "papermill": {
     "duration": 0.061595,
     "end_time": "2024-10-24T15:24:16.432662",
     "exception": false,
     "start_time": "2024-10-24T15:24:16.371067",
     "status": "completed"
    },
    "tags": []
   },
   "outputs": [],
   "source": [
    "property_unstack = full_df.groupby(\"Property\")[\"Card type\"].value_counts().unstack()\n",
    "skill_st_colors = [plot.colors_dict[i] for i in property_unstack.columns]\n",
    "property_unstack.plot.bar(figsize=(14, 6), stacked=True, rot=45, color=skill_st_colors)\n",
    "plt.show()"
   ]
  },
  {
   "cell_type": "markdown",
   "id": "31",
   "metadata": {
    "jp-MarkdownHeadingCollapsed": true,
    "papermill": {
     "duration": 0.011243,
     "end_time": "2024-10-24T15:24:16.455818",
     "exception": false,
     "start_time": "2024-10-24T15:24:16.444575",
     "status": "completed"
    },
    "tags": []
   },
   "source": [
    "## Archseries"
   ]
  },
  {
   "cell_type": "code",
   "execution_count": null,
   "id": "32",
   "metadata": {
    "papermill": {
     "duration": 0.016934,
     "end_time": "2024-10-24T15:24:16.483111",
     "exception": false,
     "start_time": "2024-10-24T15:24:16.466177",
     "status": "completed"
    },
    "tags": []
   },
   "outputs": [],
   "source": [
    "exploded_archseries = full_df.explode(\"Archseries\")\n",
    "print(\"Total number of Archseries:\", exploded_archseries[\"Archseries\"].nunique())"
   ]
  },
  {
   "cell_type": "code",
   "execution_count": null,
   "id": "33",
   "metadata": {
    "papermill": {
     "duration": 0.023358,
     "end_time": "2024-10-24T15:24:16.518111",
     "exception": false,
     "start_time": "2024-10-24T15:24:16.494753",
     "status": "completed"
    },
    "tags": []
   },
   "outputs": [],
   "source": [
    "exploded_archseries.groupby(\"Archseries\").nunique()"
   ]
  },
  {
   "cell_type": "code",
   "execution_count": null,
   "id": "34",
   "metadata": {
    "papermill": {
     "duration": 0.095272,
     "end_time": "2024-10-24T15:24:16.624937",
     "exception": false,
     "start_time": "2024-10-24T15:24:16.529665",
     "status": "completed"
    },
    "tags": []
   },
   "outputs": [],
   "source": [
    "exploded_archseries[\"Archseries\"].value_counts().head(30).plot.barh(figsize=(10, 15), title=\"Top 30 Archtypes/Series\")\n",
    "plt.show()"
   ]
  },
  {
   "cell_type": "markdown",
   "id": "35",
   "metadata": {
    "papermill": {
     "duration": 0.012092,
     "end_time": "2024-10-24T15:24:16.649899",
     "exception": false,
     "start_time": "2024-10-24T15:24:16.637807",
     "status": "completed"
    },
    "tags": []
   },
   "source": [
    "## TCG Speed Duel status"
   ]
  },
  {
   "cell_type": "code",
   "execution_count": null,
   "id": "36",
   "metadata": {
    "papermill": {
     "duration": 0.016169,
     "end_time": "2024-10-24T15:24:16.678414",
     "exception": false,
     "start_time": "2024-10-24T15:24:16.662245",
     "status": "completed"
    },
    "tags": []
   },
   "outputs": [],
   "source": [
    "print(\"Total number of TCG Speed Duel status:\", full_df[\"TCG Speed Duel status\"].nunique())"
   ]
  },
  {
   "cell_type": "code",
   "execution_count": null,
   "id": "37",
   "metadata": {
    "papermill": {
     "duration": 0.023986,
     "end_time": "2024-10-24T15:24:16.715408",
     "exception": false,
     "start_time": "2024-10-24T15:24:16.691422",
     "status": "completed"
    },
    "tags": []
   },
   "outputs": [],
   "source": [
    "full_df.groupby(\"TCG Speed Duel status\", dropna=False).nunique()"
   ]
  },
  {
   "cell_type": "code",
   "execution_count": null,
   "id": "38",
   "metadata": {
    "papermill": {
     "duration": 0.237238,
     "end_time": "2024-10-24T15:24:16.965872",
     "exception": false,
     "start_time": "2024-10-24T15:24:16.728634",
     "status": "completed"
    },
    "tags": []
   },
   "outputs": [],
   "source": [
    "full_df[\"TCG Speed Duel status\"].value_counts(dropna=False).plot.bar(figsize=(18, 6), logy=True, rot=45, title=\"TCG status\")\n",
    "plt.show()"
   ]
  },
  {
   "cell_type": "markdown",
   "id": "39",
   "metadata": {
    "papermill": {
     "duration": 0.012485,
     "end_time": "2024-10-24T15:24:16.992408",
     "exception": false,
     "start_time": "2024-10-24T15:24:16.979923",
     "status": "completed"
    },
    "tags": []
   },
   "source": [
    "#### By card type"
   ]
  },
  {
   "cell_type": "code",
   "execution_count": null,
   "id": "40",
   "metadata": {
    "papermill": {
     "duration": 0.021374,
     "end_time": "2024-10-24T15:24:17.026731",
     "exception": false,
     "start_time": "2024-10-24T15:24:17.005357",
     "status": "completed"
    },
    "tags": []
   },
   "outputs": [],
   "source": [
    "# Remove unlimited\n",
    "tcg_speed_crosstab = pd.crosstab(full_df[\"Card type\"], full_df[\"TCG Speed Duel status\"])\n",
    "tcg_speed_crosstab"
   ]
  },
  {
   "cell_type": "code",
   "execution_count": null,
   "id": "41",
   "metadata": {
    "papermill": {
     "duration": 0.125731,
     "end_time": "2024-10-24T15:24:17.166609",
     "exception": false,
     "start_time": "2024-10-24T15:24:17.040878",
     "status": "completed"
    },
    "tags": []
   },
   "outputs": [],
   "source": [
    "plt.figure(figsize=(12, 6))\n",
    "sns.heatmap(\n",
    "    tcg_speed_crosstab[tcg_speed_crosstab > 0],\n",
    "    annot=True,\n",
    "    fmt=\"g\",\n",
    "    cmap=\"viridis\",\n",
    "    norm=plot.LogNorm(),\n",
    ")\n",
    "plt.show()"
   ]
  },
  {
   "cell_type": "markdown",
   "id": "42",
   "metadata": {
    "papermill": {
     "duration": 0.012567,
     "end_time": "2024-10-24T15:24:17.194362",
     "exception": false,
     "start_time": "2024-10-24T15:24:17.181795",
     "status": "completed"
    },
    "tags": []
   },
   "source": [
    "#### By monster type"
   ]
  },
  {
   "cell_type": "code",
   "execution_count": null,
   "id": "43",
   "metadata": {
    "papermill": {
     "duration": 0.035312,
     "end_time": "2024-10-24T15:24:17.336741",
     "exception": false,
     "start_time": "2024-10-24T15:24:17.301429",
     "status": "completed"
    },
    "tags": []
   },
   "outputs": [],
   "source": [
    "# Remove unlimited\n",
    "tcg_speed_crosstab_b = pd.crosstab(full_df[\"Monster type\"], full_df[\"TCG Speed Duel status\"])\n",
    "tcg_speed_crosstab_b"
   ]
  },
  {
   "cell_type": "code",
   "execution_count": null,
   "id": "44",
   "metadata": {
    "papermill": {
     "duration": 0.11413,
     "end_time": "2024-10-24T15:24:17.465499",
     "exception": false,
     "start_time": "2024-10-24T15:24:17.351369",
     "status": "completed"
    },
    "tags": []
   },
   "outputs": [],
   "source": [
    "plt.figure(figsize=(16, 4))\n",
    "sns.heatmap(\n",
    "    tcg_speed_crosstab_b[tcg_speed_crosstab_b > 0].T,\n",
    "    annot=True,\n",
    "    fmt=\"g\",\n",
    "    cmap=\"viridis\",\n",
    "    square=True,\n",
    ")\n",
    "plt.show()"
   ]
  },
  {
   "cell_type": "markdown",
   "id": "45",
   "metadata": {
    "papermill": {
     "duration": 0.014336,
     "end_time": "2024-10-24T15:24:17.494523",
     "exception": false,
     "start_time": "2024-10-24T15:24:17.480187",
     "status": "completed"
    },
    "tags": []
   },
   "source": [
    "#### By archseries"
   ]
  },
  {
   "cell_type": "code",
   "execution_count": null,
   "id": "46",
   "metadata": {
    "papermill": {
     "duration": 0.033793,
     "end_time": "2024-10-24T15:24:17.543106",
     "exception": false,
     "start_time": "2024-10-24T15:24:17.509313",
     "status": "completed"
    },
    "tags": []
   },
   "outputs": [],
   "source": [
    "# Remove unlimited\n",
    "tcg_crosstab_c = pd.crosstab(\n",
    "    exploded_archseries[\"Archseries\"],\n",
    "    exploded_archseries[\"TCG Speed Duel status\"],\n",
    "    margins=True,\n",
    ")\n",
    "tcg_crosstab_c"
   ]
  },
  {
   "cell_type": "markdown",
   "id": "47",
   "metadata": {
    "papermill": {
     "duration": 0.01313,
     "end_time": "2024-10-24T15:24:17.570635",
     "exception": false,
     "start_time": "2024-10-24T15:24:17.557505",
     "status": "completed"
    },
    "tags": []
   },
   "source": [
    "### TCG Speed Duel vs. TCG status"
   ]
  },
  {
   "cell_type": "code",
   "execution_count": null,
   "id": "48",
   "metadata": {
    "papermill": {
     "duration": 0.024057,
     "end_time": "2024-10-24T15:24:17.609735",
     "exception": false,
     "start_time": "2024-10-24T15:24:17.585678",
     "status": "completed"
    },
    "tags": []
   },
   "outputs": [],
   "source": [
    "cg_crosstab = pd.crosstab(full_df[\"TCG status\"], full_df[\"TCG Speed Duel status\"], dropna=False, margins=False)\n",
    "cg_crosstab"
   ]
  },
  {
   "cell_type": "code",
   "execution_count": null,
   "id": "49",
   "metadata": {
    "papermill": {
     "duration": 0.123602,
     "end_time": "2024-10-24T15:24:17.748647",
     "exception": false,
     "start_time": "2024-10-24T15:24:17.625045",
     "status": "completed"
    },
    "tags": []
   },
   "outputs": [],
   "source": [
    "plt.figure(figsize=(12, 6))\n",
    "sns.heatmap(\n",
    "    cg_crosstab[cg_crosstab > 0],\n",
    "    annot=True,\n",
    "    fmt=\"g\",\n",
    "    cmap=\"viridis\",\n",
    "    square=True,\n",
    "    norm=plot.LogNorm(),\n",
    ")\n",
    "plt.show()"
   ]
  },
  {
   "cell_type": "markdown",
   "id": "50",
   "metadata": {
    "papermill": {
     "duration": 0.014977,
     "end_time": "2024-10-24T15:24:17.779527",
     "exception": false,
     "start_time": "2024-10-24T15:24:17.764550",
     "status": "completed"
    },
    "tags": []
   },
   "source": [
    "# Epilogue"
   ]
  },
  {
   "cell_type": "code",
   "execution_count": null,
   "id": "51",
   "metadata": {
    "papermill": {
     "duration": 0.191212,
     "end_time": "2024-10-24T15:24:17.987733",
     "exception": false,
     "start_time": "2024-10-24T15:24:17.796521",
     "status": "completed"
    },
    "tags": []
   },
   "outputs": [],
   "source": [
    "benchmark(report=\"speed\", timestamp=timestamp)"
   ]
  },
  {
   "cell_type": "code",
   "execution_count": null,
   "id": "52",
   "metadata": {
    "papermill": {
     "duration": 0.021313,
     "end_time": "2024-10-24T15:24:18.026291",
     "exception": false,
     "start_time": "2024-10-24T15:24:18.004978",
     "status": "completed"
    },
    "tags": []
   },
   "outputs": [],
   "source": [
    "footer()"
   ]
  },
  {
   "cell_type": "markdown",
   "id": "53",
   "metadata": {
    "papermill": {
     "duration": 0.015575,
     "end_time": "2024-10-24T15:24:18.064533",
     "exception": false,
     "start_time": "2024-10-24T15:24:18.048958",
     "status": "completed"
    },
    "tags": []
   },
   "source": [
    "## HTML export"
   ]
  },
  {
   "cell_type": "code",
   "execution_count": null,
   "id": "54",
   "metadata": {
    "papermill": {
     "duration": 0.021416,
     "end_time": "2024-10-24T15:24:18.102291",
     "exception": false,
     "start_time": "2024-10-24T15:24:18.080875",
     "status": "completed"
    },
    "tags": []
   },
   "outputs": [],
   "source": [
    "# Save notebook on disck before generating HTML report\n",
    "save_notebook()"
   ]
  },
  {
   "cell_type": "code",
   "execution_count": null,
   "id": "55",
   "metadata": {
    "papermill": {
     "duration": 0.426354,
     "end_time": "2024-10-24T15:24:18.543599",
     "exception": false,
     "start_time": "2024-10-24T15:24:18.117245",
     "status": "completed"
    },
    "tags": []
   },
   "outputs": [],
   "source": [
    "export_notebook(dirs.NOTEBOOKS.user / \"Speed.ipynb\")"
   ]
  },
  {
   "cell_type": "markdown",
   "id": "56",
   "metadata": {
    "papermill": {
     "duration": 0.015098,
     "end_time": "2024-10-24T15:24:18.575508",
     "exception": false,
     "start_time": "2024-10-24T15:24:18.560410",
     "status": "completed"
    },
    "tags": [
     "exclude"
    ]
   },
   "source": [
    "## Git"
   ]
  },
  {
   "cell_type": "code",
   "execution_count": null,
   "id": "57",
   "metadata": {
    "papermill": {
     "duration": 0.586202,
     "end_time": "2024-10-24T15:24:19.177518",
     "exception": false,
     "start_time": "2024-10-24T15:24:18.591316",
     "status": "completed"
    },
    "tags": [
     "exclude"
    ]
   },
   "outputs": [],
   "source": [
    "git.commit(\"*[Ss]peed*\", f\"Speed update - {timestamp.isoformat()}\")"
   ]
  }
 ],
 "metadata": {
  "kernelspec": {
   "display_name": "Python3 (YugiQuery)",
   "language": "python",
   "name": "yugiquery"
  },
  "language_info": {
   "codemirror_mode": {
    "name": "ipython",
    "version": 3
   },
   "file_extension": ".py",
   "mimetype": "text/x-python",
   "name": "python",
   "nbconvert_exporter": "python",
   "pygments_lexer": "ipython3",
   "version": "3.12.8"
  },
  "papermill": {
   "default_parameters": {},
   "duration": 11.90635,
   "end_time": "2024-10-24T15:24:19.613200",
   "environment_variables": {},
   "exception": null,
   "input_path": "/Users/Guigoruiz1/Documents/Python/Yugiquery/notebooks/Speed.ipynb",
   "output_path": "/Users/Guigoruiz1/Documents/Python/Yugiquery/notebooks/Speed.ipynb",
   "parameters": {},
   "start_time": "2024-10-24T15:24:07.706850",
   "version": "2.6.0"
  },
  "toc": {
   "base_numbering": 1,
   "nav_menu": {},
   "number_sections": true,
   "sideBar": true,
   "skip_h1_title": false,
   "title_cell": "Table of Contents",
   "title_sidebar": "Contents",
   "toc_cell": true,
   "toc_position": {},
   "toc_section_display": true,
   "toc_window_display": false
  }
 },
 "nbformat": 4,
 "nbformat_minor": 5
}
