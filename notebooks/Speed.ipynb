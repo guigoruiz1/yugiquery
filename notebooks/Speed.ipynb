{
 "cells": [
  {
   "cell_type": "code",
   "execution_count": null,
   "id": "0",
   "metadata": {
    "papermill": {
     "duration": 38.819255,
     "end_time": "2025-08-30T06:41:47.059724",
     "exception": false,
     "start_time": "2025-08-30T06:41:08.240469",
     "status": "completed"
    },
    "tags": []
   },
   "outputs": [],
   "source": [
    "from yugiquery import *\n",
    "\n",
    "init_notebook_mode(all_interactive=True)\n",
    "\n",
    "header(\"Speed Duel\")"
   ]
  },
  {
   "cell_type": "markdown",
   "id": "1",
   "metadata": {
    "papermill": {
     "duration": 0.115531,
     "end_time": "2025-08-30T06:41:47.211835",
     "exception": false,
     "start_time": "2025-08-30T06:41:47.096304",
     "status": "completed"
    },
    "tags": []
   },
   "source": [
    "---"
   ]
  },
  {
   "cell_type": "markdown",
   "id": "2",
   "metadata": {
    "papermill": {
     "duration": 0.051488,
     "end_time": "2025-08-30T06:41:47.547415",
     "exception": false,
     "start_time": "2025-08-30T06:41:47.495927",
     "status": "completed"
    },
    "tags": []
   },
   "source": [
    "Table of Contents <a class=\"jp-toc-ignore\"></a>\n",
    "=================\n",
    "* [1 Data aquisition](#data-aquisition)\n",
    "  * [1.1 Fetch online data](#fetch-online-data)\n",
    "  * [1.2 Merge data](#merge-data)\n",
    "* [2 Check changes](#check-changes)\n",
    "  * [2.1 Load previous data](#load-previous-data)\n",
    "  * [2.2 Generate changelog](#generate-changelog)\n",
    "  * [2.3 Save data](#save-data)\n",
    "* [3 Data visualization](#data-visualization)\n",
    "  * [3.1 Skill cards](#skill-cards)\n",
    "    * [3.1.1 Character](#character)\n",
    "    * [3.1.2 Property](#property)\n",
    "  * [3.2 Property](#property)\n",
    "  * [3.3 Archseries](#archseries)\n",
    "  * [3.4 TCG Speed Duel status](#tcg-speed-duel-status)\n",
    "      * [3.4.0.1 By card type](#by-card-type)\n",
    "      * [3.4.0.2 By monster type](#by-monster-type)\n",
    "      * [3.4.0.3 By archseries](#by-archseries)\n",
    "    * [3.4.1 TCG Speed Duel vs. TCG status](#tcg-speed-duel-vs.-tcg-status)\n",
    "* [4 Epilogue](#epilogue)\n",
    "  * [4.1 HTML export](#html-export)\n",
    "  <!-- * [4.2 Git](#git) -->"
   ]
  },
  {
   "cell_type": "markdown",
   "id": "3",
   "metadata": {
    "papermill": {
     "duration": 0.223848,
     "end_time": "2025-08-30T06:41:47.823273",
     "exception": false,
     "start_time": "2025-08-30T06:41:47.599425",
     "status": "completed"
    },
    "tags": []
   },
   "source": [
    "# Data aquisition"
   ]
  },
  {
   "cell_type": "markdown",
   "id": "4",
   "metadata": {
    "papermill": {
     "duration": 0.275956,
     "end_time": "2025-08-30T06:41:48.212391",
     "exception": false,
     "start_time": "2025-08-30T06:41:47.936435",
     "status": "completed"
    },
    "tags": []
   },
   "source": [
    "## Fetch online data"
   ]
  },
  {
   "cell_type": "code",
   "execution_count": null,
   "id": "5",
   "metadata": {
    "papermill": {
     "duration": 0.185429,
     "end_time": "2025-08-30T06:41:48.452000",
     "exception": false,
     "start_time": "2025-08-30T06:41:48.266571",
     "status": "completed"
    },
    "tags": []
   },
   "outputs": [],
   "source": [
    "# Timestamp\n",
    "timestamp = arrow.utcnow()"
   ]
  },
  {
   "cell_type": "code",
   "execution_count": null,
   "id": "6",
   "metadata": {
    "papermill": {
     "duration": 74.317721,
     "end_time": "2025-08-30T06:43:02.944300",
     "exception": false,
     "start_time": "2025-08-30T06:41:48.626579",
     "status": "completed"
    },
    "tags": []
   },
   "outputs": [],
   "source": [
    "# Fetch skill cards\n",
    "skill_df = fetch_skill()\n",
    "\n",
    "# Fetch deck cards\n",
    "speed_df = fetch_speed()"
   ]
  },
  {
   "cell_type": "markdown",
   "id": "7",
   "metadata": {
    "papermill": {
     "duration": 0.186467,
     "end_time": "2025-08-30T06:43:03.321846",
     "exception": false,
     "start_time": "2025-08-30T06:43:03.135379",
     "status": "completed"
    },
    "tags": []
   },
   "source": [
    "## Merge data"
   ]
  },
  {
   "cell_type": "code",
   "execution_count": null,
   "id": "8",
   "metadata": {
    "papermill": {
     "duration": 0.058098,
     "end_time": "2025-08-30T06:43:03.416098",
     "exception": false,
     "start_time": "2025-08-30T06:43:03.358000",
     "status": "completed"
    },
    "tags": []
   },
   "outputs": [],
   "source": [
    "full_df = pd.concat([speed_df, skill_df], ignore_index=True, axis=0).sort_values(\"Name\").reset_index(drop=True)\n",
    "print(\"Data merged\")"
   ]
  },
  {
   "cell_type": "markdown",
   "id": "9",
   "metadata": {
    "papermill": {
     "duration": 0.069999,
     "end_time": "2025-08-30T06:43:03.518557",
     "exception": false,
     "start_time": "2025-08-30T06:43:03.448558",
     "status": "completed"
    },
    "tags": []
   },
   "source": [
    "# Check changes"
   ]
  },
  {
   "cell_type": "markdown",
   "id": "10",
   "metadata": {
    "papermill": {
     "duration": 0.230471,
     "end_time": "2025-08-30T06:43:03.849048",
     "exception": false,
     "start_time": "2025-08-30T06:43:03.618577",
     "status": "completed"
    },
    "tags": []
   },
   "source": [
    "## Load previous data"
   ]
  },
  {
   "cell_type": "code",
   "execution_count": null,
   "id": "11",
   "metadata": {
    "papermill": {
     "duration": 0.342819,
     "end_time": "2025-08-30T06:43:04.285425",
     "exception": false,
     "start_time": "2025-08-30T06:43:03.942606",
     "status": "completed"
    },
    "tags": []
   },
   "outputs": [],
   "source": [
    "# Get latest file if exist\n",
    "tuple_cols = [\"Secondary type\", \"Effect type\", \"Archseries\", \"Artwork\"]\n",
    "previous_df, previous_ts = load_latest_data(\"speed\", tuple_cols, return_ts=True)\n",
    "\n",
    "if previous_df is not None:\n",
    "    previous_df = previous_df.astype(full_df[previous_df.columns.intersection(full_df.columns)].dtypes.to_dict())"
   ]
  },
  {
   "cell_type": "markdown",
   "id": "12",
   "metadata": {
    "papermill": {
     "duration": 0.196538,
     "end_time": "2025-08-30T06:43:04.517605",
     "exception": false,
     "start_time": "2025-08-30T06:43:04.321067",
     "status": "completed"
    },
    "tags": []
   },
   "source": [
    "## Generate changelog"
   ]
  },
  {
   "cell_type": "code",
   "execution_count": null,
   "id": "13",
   "metadata": {
    "papermill": {
     "duration": 0.388476,
     "end_time": "2025-08-30T06:43:04.975067",
     "exception": false,
     "start_time": "2025-08-30T06:43:04.586591",
     "status": "completed"
    },
    "tags": []
   },
   "outputs": [],
   "source": [
    "if previous_df is None:\n",
    "    changelog = None\n",
    "    print(\"Skipped\")\n",
    "else:\n",
    "    changelog = generate_changelog(previous_df, full_df, col=\"Name\")\n",
    "    if not changelog.empty:\n",
    "        display(changelog)\n",
    "        new_names = changelog.index.value_counts()\n",
    "        new_names = new_names[new_names == 1].index\n",
    "        if len(new_names) > 0:\n",
    "            print(\"New cards:\")\n",
    "            display(changelog.loc[new_names])\n",
    "        changelog.to_csv(\n",
    "            dirs.DATA / make_filename(report=\"speed\", timestamp=timestamp, previous_timestamp=previous_ts),\n",
    "            index=True,\n",
    "        )\n",
    "        print(\"Changelog saved\")"
   ]
  },
  {
   "cell_type": "markdown",
   "id": "14",
   "metadata": {
    "papermill": {
     "duration": 0.065142,
     "end_time": "2025-08-30T06:43:05.089753",
     "exception": false,
     "start_time": "2025-08-30T06:43:05.024611",
     "status": "completed"
    },
    "tags": []
   },
   "source": [
    "## Save data"
   ]
  },
  {
   "cell_type": "code",
   "execution_count": null,
   "id": "15",
   "metadata": {
    "papermill": {
     "duration": 0.344821,
     "end_time": "2025-08-30T06:43:05.672392",
     "exception": false,
     "start_time": "2025-08-30T06:43:05.327571",
     "status": "completed"
    },
    "tags": []
   },
   "outputs": [],
   "source": [
    "if changelog is not None and changelog.empty:\n",
    "    print(\"No changes. New data not saved\")\n",
    "else:\n",
    "    full_df.to_csv(\n",
    "        dirs.DATA / make_filename(report=\"speed\", timestamp=timestamp),\n",
    "        index=False,\n",
    "    )\n",
    "    print(\"Data saved\")"
   ]
  },
  {
   "cell_type": "markdown",
   "id": "16",
   "metadata": {
    "papermill": {
     "duration": 0.302875,
     "end_time": "2025-08-30T06:43:06.042137",
     "exception": false,
     "start_time": "2025-08-30T06:43:05.739262",
     "status": "completed"
    },
    "tags": []
   },
   "source": [
    "# Data visualization"
   ]
  },
  {
   "cell_type": "code",
   "execution_count": null,
   "id": "17",
   "metadata": {
    "papermill": {
     "duration": 0.232682,
     "end_time": "2025-08-30T06:43:06.565082",
     "exception": false,
     "start_time": "2025-08-30T06:43:06.332400",
     "status": "completed"
    },
    "tags": []
   },
   "outputs": [],
   "source": [
    "full_df"
   ]
  },
  {
   "cell_type": "markdown",
   "id": "18",
   "metadata": {
    "jp-MarkdownHeadingCollapsed": true,
    "papermill": {
     "duration": 0.198844,
     "end_time": "2025-08-30T06:43:06.804017",
     "exception": false,
     "start_time": "2025-08-30T06:43:06.605173",
     "status": "completed"
    },
    "tags": []
   },
   "source": [
    "## Skill cards"
   ]
  },
  {
   "cell_type": "markdown",
   "id": "19",
   "metadata": {
    "papermill": {
     "duration": 0.196358,
     "end_time": "2025-08-30T06:43:07.112053",
     "exception": false,
     "start_time": "2025-08-30T06:43:06.915695",
     "status": "completed"
    },
    "tags": []
   },
   "source": [
    "### Character"
   ]
  },
  {
   "cell_type": "code",
   "execution_count": null,
   "id": "20",
   "metadata": {
    "papermill": {
     "duration": 0.290787,
     "end_time": "2025-08-30T06:43:07.588283",
     "exception": false,
     "start_time": "2025-08-30T06:43:07.297496",
     "status": "completed"
    },
    "tags": []
   },
   "outputs": [],
   "source": [
    "print(\n",
    "    \"Total number of characters portrayed in skill cards:\",\n",
    "    skill_df[\"Character\"].nunique(),\n",
    ")"
   ]
  },
  {
   "cell_type": "code",
   "execution_count": null,
   "id": "21",
   "metadata": {
    "papermill": {
     "duration": 0.196934,
     "end_time": "2025-08-30T06:43:07.844029",
     "exception": false,
     "start_time": "2025-08-30T06:43:07.647095",
     "status": "completed"
    },
    "tags": []
   },
   "outputs": [],
   "source": [
    "skill_df.drop(\"Card type\", axis=1).sort_values(\"Character\")"
   ]
  },
  {
   "cell_type": "code",
   "execution_count": null,
   "id": "22",
   "metadata": {
    "papermill": {
     "duration": 0.915015,
     "end_time": "2025-08-30T06:43:08.799739",
     "exception": false,
     "start_time": "2025-08-30T06:43:07.884724",
     "status": "completed"
    },
    "tags": []
   },
   "outputs": [],
   "source": [
    "skill_color = plot.colors_dict[\"Skill Card\"]\n",
    "skill_df[\"Character\"].value_counts().plot.bar(figsize=(18, 6), rot=90, color=skill_color, title=\"Character\")\n",
    "plt.show()"
   ]
  },
  {
   "cell_type": "markdown",
   "id": "23",
   "metadata": {
    "papermill": {
     "duration": 0.084499,
     "end_time": "2025-08-30T06:43:08.931688",
     "exception": false,
     "start_time": "2025-08-30T06:43:08.847189",
     "status": "completed"
    },
    "tags": []
   },
   "source": [
    "### Property"
   ]
  },
  {
   "cell_type": "code",
   "execution_count": null,
   "id": "24",
   "metadata": {
    "papermill": {
     "duration": 0.051295,
     "end_time": "2025-08-30T06:43:09.027030",
     "exception": false,
     "start_time": "2025-08-30T06:43:08.975735",
     "status": "completed"
    },
    "tags": []
   },
   "outputs": [],
   "source": [
    "print(\"Total number of properties:\", skill_df[\"Property\"].nunique())"
   ]
  },
  {
   "cell_type": "code",
   "execution_count": null,
   "id": "25",
   "metadata": {
    "papermill": {
     "duration": 0.072916,
     "end_time": "2025-08-30T06:43:09.143714",
     "exception": false,
     "start_time": "2025-08-30T06:43:09.070798",
     "status": "completed"
    },
    "tags": []
   },
   "outputs": [],
   "source": [
    "skill_df.groupby(\"Property\").nunique()"
   ]
  },
  {
   "cell_type": "code",
   "execution_count": null,
   "id": "26",
   "metadata": {
    "papermill": {
     "duration": 0.205004,
     "end_time": "2025-08-30T06:43:09.392511",
     "exception": false,
     "start_time": "2025-08-30T06:43:09.187507",
     "status": "completed"
    },
    "tags": []
   },
   "outputs": [],
   "source": [
    "skill_color = plot.colors_dict[\"Skill Card\"]\n",
    "skill_df[\"Property\"].value_counts().plot.bar(figsize=(18, 6), rot=0, color=skill_color, title=\"Property\")\n",
    "plt.show()"
   ]
  },
  {
   "cell_type": "markdown",
   "id": "27",
   "metadata": {
    "jp-MarkdownHeadingCollapsed": true,
    "papermill": {
     "duration": 0.099698,
     "end_time": "2025-08-30T06:43:09.542382",
     "exception": false,
     "start_time": "2025-08-30T06:43:09.442684",
     "status": "completed"
    },
    "tags": []
   },
   "source": [
    "## Property"
   ]
  },
  {
   "cell_type": "code",
   "execution_count": null,
   "id": "28",
   "metadata": {
    "papermill": {
     "duration": 0.053323,
     "end_time": "2025-08-30T06:43:09.646660",
     "exception": false,
     "start_time": "2025-08-30T06:43:09.593337",
     "status": "completed"
    },
    "tags": []
   },
   "outputs": [],
   "source": [
    "print(\"Total number of properties:\", full_df[\"Property\"].nunique())"
   ]
  },
  {
   "cell_type": "code",
   "execution_count": null,
   "id": "29",
   "metadata": {
    "papermill": {
     "duration": 0.096408,
     "end_time": "2025-08-30T06:43:09.788378",
     "exception": false,
     "start_time": "2025-08-30T06:43:09.691970",
     "status": "completed"
    },
    "tags": []
   },
   "outputs": [],
   "source": [
    "full_df.groupby(\"Property\").nunique()"
   ]
  },
  {
   "cell_type": "code",
   "execution_count": null,
   "id": "30",
   "metadata": {
    "papermill": {
     "duration": 0.345462,
     "end_time": "2025-08-30T06:43:10.180020",
     "exception": false,
     "start_time": "2025-08-30T06:43:09.834558",
     "status": "completed"
    },
    "tags": []
   },
   "outputs": [],
   "source": [
    "property_unstack = full_df.groupby(\"Property\")[\"Card type\"].value_counts().unstack()\n",
    "skill_st_colors = [plot.colors_dict[i] for i in property_unstack.columns]\n",
    "property_unstack.plot.bar(figsize=(14, 6), stacked=True, rot=45, color=skill_st_colors)\n",
    "plt.show()"
   ]
  },
  {
   "cell_type": "markdown",
   "id": "31",
   "metadata": {
    "jp-MarkdownHeadingCollapsed": true,
    "papermill": {
     "duration": 0.06798,
     "end_time": "2025-08-30T06:43:10.299610",
     "exception": false,
     "start_time": "2025-08-30T06:43:10.231630",
     "status": "completed"
    },
    "tags": []
   },
   "source": [
    "## Archseries"
   ]
  },
  {
   "cell_type": "code",
   "execution_count": null,
   "id": "32",
   "metadata": {
    "papermill": {
     "duration": 0.075512,
     "end_time": "2025-08-30T06:43:10.434683",
     "exception": false,
     "start_time": "2025-08-30T06:43:10.359171",
     "status": "completed"
    },
    "tags": []
   },
   "outputs": [],
   "source": [
    "exploded_archseries = full_df.explode(\"Archseries\")\n",
    "print(\"Total number of Archseries:\", exploded_archseries[\"Archseries\"].nunique())"
   ]
  },
  {
   "cell_type": "code",
   "execution_count": null,
   "id": "33",
   "metadata": {
    "papermill": {
     "duration": 0.102937,
     "end_time": "2025-08-30T06:43:10.586819",
     "exception": false,
     "start_time": "2025-08-30T06:43:10.483882",
     "status": "completed"
    },
    "tags": []
   },
   "outputs": [],
   "source": [
    "exploded_archseries.groupby(\"Archseries\").nunique()"
   ]
  },
  {
   "cell_type": "code",
   "execution_count": null,
   "id": "34",
   "metadata": {
    "papermill": {
     "duration": 0.470685,
     "end_time": "2025-08-30T06:43:11.109380",
     "exception": false,
     "start_time": "2025-08-30T06:43:10.638695",
     "status": "completed"
    },
    "tags": []
   },
   "outputs": [],
   "source": [
    "exploded_archseries[\"Archseries\"].value_counts().head(30).plot.barh(figsize=(10, 15), title=\"Top 30 Archtypes/Series\")\n",
    "plt.show()"
   ]
  },
  {
   "cell_type": "markdown",
   "id": "35",
   "metadata": {
    "papermill": {
     "duration": 0.052062,
     "end_time": "2025-08-30T06:43:11.214236",
     "exception": false,
     "start_time": "2025-08-30T06:43:11.162174",
     "status": "completed"
    },
    "tags": []
   },
   "source": [
    "## TCG Speed Duel status"
   ]
  },
  {
   "cell_type": "code",
   "execution_count": null,
   "id": "36",
   "metadata": {
    "papermill": {
     "duration": 0.496435,
     "end_time": "2025-08-30T06:43:11.759844",
     "exception": false,
     "start_time": "2025-08-30T06:43:11.263409",
     "status": "completed"
    },
    "tags": []
   },
   "outputs": [],
   "source": [
    "print(\"Total number of TCG Speed Duel status:\", full_df[\"TCG Speed Duel status\"].nunique())"
   ]
  },
  {
   "cell_type": "code",
   "execution_count": null,
   "id": "37",
   "metadata": {
    "papermill": {
     "duration": 0.160134,
     "end_time": "2025-08-30T06:43:13.206592",
     "exception": false,
     "start_time": "2025-08-30T06:43:13.046458",
     "status": "completed"
    },
    "tags": []
   },
   "outputs": [],
   "source": [
    "full_df.groupby(\"TCG Speed Duel status\", dropna=False).nunique()"
   ]
  },
  {
   "cell_type": "code",
   "execution_count": null,
   "id": "38",
   "metadata": {
    "papermill": {
     "duration": 1.023094,
     "end_time": "2025-08-30T06:43:14.287507",
     "exception": false,
     "start_time": "2025-08-30T06:43:13.264413",
     "status": "completed"
    },
    "tags": []
   },
   "outputs": [],
   "source": [
    "full_df[\"TCG Speed Duel status\"].value_counts(dropna=False).plot.bar(figsize=(18, 6), logy=True, rot=45, title=\"TCG status\")\n",
    "plt.show()"
   ]
  },
  {
   "cell_type": "markdown",
   "id": "39",
   "metadata": {
    "papermill": {
     "duration": 0.169387,
     "end_time": "2025-08-30T06:43:14.613150",
     "exception": false,
     "start_time": "2025-08-30T06:43:14.443763",
     "status": "completed"
    },
    "tags": []
   },
   "source": [
    "#### By card type"
   ]
  },
  {
   "cell_type": "code",
   "execution_count": null,
   "id": "40",
   "metadata": {
    "papermill": {
     "duration": 0.289952,
     "end_time": "2025-08-30T06:43:15.058140",
     "exception": false,
     "start_time": "2025-08-30T06:43:14.768188",
     "status": "completed"
    },
    "tags": []
   },
   "outputs": [],
   "source": [
    "# Remove unlimited\n",
    "tcg_speed_crosstab = pd.crosstab(full_df[\"Card type\"], full_df[\"TCG Speed Duel status\"])\n",
    "tcg_speed_crosstab"
   ]
  },
  {
   "cell_type": "code",
   "execution_count": null,
   "id": "41",
   "metadata": {
    "papermill": {
     "duration": 0.831556,
     "end_time": "2025-08-30T06:43:16.146328",
     "exception": false,
     "start_time": "2025-08-30T06:43:15.314772",
     "status": "completed"
    },
    "tags": []
   },
   "outputs": [],
   "source": [
    "plt.figure(figsize=(12, 6))\n",
    "sns.heatmap(\n",
    "    tcg_speed_crosstab[tcg_speed_crosstab > 0],\n",
    "    annot=True,\n",
    "    fmt=\"g\",\n",
    "    cmap=\"viridis\",\n",
    "    norm=plot.LogNorm(),\n",
    ")\n",
    "plt.show()"
   ]
  },
  {
   "cell_type": "markdown",
   "id": "42",
   "metadata": {
    "papermill": {
     "duration": 0.126282,
     "end_time": "2025-08-30T06:43:16.347931",
     "exception": false,
     "start_time": "2025-08-30T06:43:16.221649",
     "status": "completed"
    },
    "tags": []
   },
   "source": [
    "#### By monster type"
   ]
  },
  {
   "cell_type": "code",
   "execution_count": null,
   "id": "43",
   "metadata": {
    "papermill": {
     "duration": 0.278331,
     "end_time": "2025-08-30T06:43:16.687071",
     "exception": false,
     "start_time": "2025-08-30T06:43:16.408740",
     "status": "completed"
    },
    "tags": []
   },
   "outputs": [],
   "source": [
    "# Remove unlimited\n",
    "tcg_speed_crosstab_b = pd.crosstab(full_df[\"Monster type\"], full_df[\"TCG Speed Duel status\"])\n",
    "tcg_speed_crosstab_b"
   ]
  },
  {
   "cell_type": "code",
   "execution_count": null,
   "id": "44",
   "metadata": {
    "papermill": {
     "duration": 0.595184,
     "end_time": "2025-08-30T06:43:17.342534",
     "exception": false,
     "start_time": "2025-08-30T06:43:16.747350",
     "status": "completed"
    },
    "tags": []
   },
   "outputs": [],
   "source": [
    "plt.figure(figsize=(16, 4))\n",
    "sns.heatmap(\n",
    "    tcg_speed_crosstab_b[tcg_speed_crosstab_b > 0].T,\n",
    "    annot=True,\n",
    "    fmt=\"g\",\n",
    "    cmap=\"viridis\",\n",
    "    square=True,\n",
    ")\n",
    "plt.show()"
   ]
  },
  {
   "cell_type": "markdown",
   "id": "45",
   "metadata": {
    "papermill": {
     "duration": 0.204924,
     "end_time": "2025-08-30T06:43:17.610977",
     "exception": false,
     "start_time": "2025-08-30T06:43:17.406053",
     "status": "completed"
    },
    "tags": []
   },
   "source": [
    "#### By archseries"
   ]
  },
  {
   "cell_type": "code",
   "execution_count": null,
   "id": "46",
   "metadata": {
    "papermill": {
     "duration": 0.136269,
     "end_time": "2025-08-30T06:43:18.120872",
     "exception": false,
     "start_time": "2025-08-30T06:43:17.984603",
     "status": "completed"
    },
    "tags": []
   },
   "outputs": [],
   "source": [
    "# Remove unlimited\n",
    "tcg_crosstab_c = pd.crosstab(\n",
    "    exploded_archseries[\"Archseries\"],\n",
    "    exploded_archseries[\"TCG Speed Duel status\"],\n",
    "    margins=True,\n",
    ")\n",
    "tcg_crosstab_c"
   ]
  },
  {
   "cell_type": "markdown",
   "id": "47",
   "metadata": {
    "papermill": {
     "duration": 0.119833,
     "end_time": "2025-08-30T06:43:18.428616",
     "exception": false,
     "start_time": "2025-08-30T06:43:18.308783",
     "status": "completed"
    },
    "tags": []
   },
   "source": [
    "### TCG Speed Duel vs. TCG status"
   ]
  },
  {
   "cell_type": "code",
   "execution_count": null,
   "id": "48",
   "metadata": {
    "papermill": {
     "duration": 0.244207,
     "end_time": "2025-08-30T06:43:19.068190",
     "exception": false,
     "start_time": "2025-08-30T06:43:18.823983",
     "status": "completed"
    },
    "tags": []
   },
   "outputs": [],
   "source": [
    "cg_crosstab = pd.crosstab(full_df[\"TCG status\"], full_df[\"TCG Speed Duel status\"], dropna=False, margins=False)\n",
    "cg_crosstab"
   ]
  },
  {
   "cell_type": "code",
   "execution_count": null,
   "id": "49",
   "metadata": {
    "papermill": {
     "duration": 0.58922,
     "end_time": "2025-08-30T06:43:19.738587",
     "exception": false,
     "start_time": "2025-08-30T06:43:19.149367",
     "status": "completed"
    },
    "tags": []
   },
   "outputs": [],
   "source": [
    "plt.figure(figsize=(12, 6))\n",
    "sns.heatmap(\n",
    "    cg_crosstab[cg_crosstab > 0],\n",
    "    annot=True,\n",
    "    fmt=\"g\",\n",
    "    cmap=\"viridis\",\n",
    "    square=True,\n",
    "    norm=plot.LogNorm(),\n",
    ")\n",
    "plt.show()"
   ]
  },
  {
   "cell_type": "markdown",
   "id": "50",
   "metadata": {
    "papermill": {
     "duration": 0.063581,
     "end_time": "2025-08-30T06:43:19.872195",
     "exception": false,
     "start_time": "2025-08-30T06:43:19.808614",
     "status": "completed"
    },
    "tags": []
   },
   "source": [
    "# Epilogue"
   ]
  },
  {
   "cell_type": "code",
   "execution_count": null,
   "id": "51",
   "metadata": {
    "papermill": {
     "duration": 0.136484,
     "end_time": "2025-08-30T06:43:20.082493",
     "exception": false,
     "start_time": "2025-08-30T06:43:19.946009",
     "status": "completed"
    },
    "tags": []
   },
   "outputs": [],
   "source": [
    "benchmark(report=\"speed\", timestamp=timestamp)"
   ]
  },
  {
   "cell_type": "code",
   "execution_count": null,
   "id": "52",
   "metadata": {
    "papermill": {
     "duration": 0.076331,
     "end_time": "2025-08-30T06:43:20.234476",
     "exception": false,
     "start_time": "2025-08-30T06:43:20.158145",
     "status": "completed"
    },
    "tags": []
   },
   "outputs": [],
   "source": [
    "footer()"
   ]
  },
  {
   "cell_type": "markdown",
   "id": "53",
   "metadata": {
    "papermill": {
     "duration": 0.315586,
     "end_time": "2025-08-30T06:43:20.860913",
     "exception": false,
     "start_time": "2025-08-30T06:43:20.545327",
     "status": "completed"
    },
    "tags": []
   },
   "source": [
    "## HTML export"
   ]
  },
  {
   "cell_type": "code",
   "execution_count": null,
   "id": "54",
   "metadata": {
    "papermill": {
     "duration": 0.072103,
     "end_time": "2025-08-30T06:43:21.001998",
     "exception": false,
     "start_time": "2025-08-30T06:43:20.929895",
     "status": "completed"
    },
    "tags": []
   },
   "outputs": [],
   "source": [
    "# Save notebook on disck before generating HTML report\n",
    "save_notebook()"
   ]
  },
  {
   "cell_type": "code",
   "execution_count": null,
   "id": "55",
   "metadata": {
    "papermill": {
     "duration": 1.259714,
     "end_time": "2025-08-30T06:43:22.331036",
     "exception": false,
     "start_time": "2025-08-30T06:43:21.071322",
     "status": "completed"
    },
    "tags": []
   },
   "outputs": [],
   "source": [
    "export_notebook(dirs.NOTEBOOKS.user / \"Speed.ipynb\")"
   ]
  },
  {
   "cell_type": "markdown",
   "id": "56",
   "metadata": {
    "papermill": {
     "duration": 0.081278,
     "end_time": "2025-08-30T06:43:22.484121",
     "exception": false,
     "start_time": "2025-08-30T06:43:22.402843",
     "status": "completed"
    },
    "tags": [
     "exclude"
    ]
   },
   "source": [
    "## Git"
   ]
  },
  {
   "cell_type": "code",
   "execution_count": null,
   "id": "57",
   "metadata": {
    "papermill": {
     "duration": null,
     "end_time": null,
     "exception": false,
     "start_time": "2025-08-30T06:43:22.642081",
     "status": "running"
    },
    "tags": [
     "exclude"
    ]
   },
   "outputs": [],
   "source": [
    "git.commit(\"*[Ss]peed*\", f\"Speed update - {timestamp.isoformat()}\")"
   ]
  }
 ],
 "metadata": {
  "kernelspec": {
   "display_name": "Python3 (YugiQuery)",
   "language": "python",
   "name": "yugiquery"
  },
  "language_info": {
   "codemirror_mode": {
    "name": "ipython",
    "version": 3
   },
   "file_extension": ".py",
   "mimetype": "text/x-python",
   "name": "python",
   "nbconvert_exporter": "python",
   "pygments_lexer": "ipython3",
   "version": "3.11.6"
  },
  "papermill": {
   "default_parameters": {},
   "duration": null,
   "end_time": null,
   "environment_variables": {},
   "exception": null,
   "input_path": "/home/jovyan/yugiquery/notebooks/Speed.ipynb",
   "output_path": "/home/jovyan/yugiquery/notebooks/Speed.ipynb",
   "parameters": {},
   "start_time": "2025-08-30T06:40:56.968292",
   "version": "2.6.0"
  },
  "toc": {
   "base_numbering": 1,
   "nav_menu": {},
   "number_sections": true,
   "sideBar": true,
   "skip_h1_title": false,
   "title_cell": "Table of Contents",
   "title_sidebar": "Contents",
   "toc_cell": true,
   "toc_position": {},
   "toc_section_display": true,
   "toc_window_display": false
  }
 },
 "nbformat": 4,
 "nbformat_minor": 5
}
