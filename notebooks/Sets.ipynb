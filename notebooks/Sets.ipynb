{
 "cells": [
  {
   "cell_type": "code",
   "execution_count": null,
   "id": "0",
   "metadata": {
    "papermill": {
     "duration": 1.569891,
     "end_time": "2024-09-08T19:39:42.040974",
     "exception": false,
     "start_time": "2024-09-08T19:39:40.471083",
     "status": "completed"
    },
    "tags": []
   },
   "outputs": [],
   "source": [
    "from yugiquery import *\n",
    "\n",
    "init_notebook_mode(all_interactive=True)\n",
    "\n",
    "header(\"Sets\")"
   ]
  },
  {
   "cell_type": "markdown",
   "id": "1",
   "metadata": {
    "papermill": {
     "duration": 0.012766,
     "end_time": "2024-09-08T19:39:42.070578",
     "exception": false,
     "start_time": "2024-09-08T19:39:42.057812",
     "status": "completed"
    },
    "tags": []
   },
   "source": [
    "---"
   ]
  },
  {
   "cell_type": "markdown",
   "id": "2",
   "metadata": {
    "papermill": {
     "duration": 0.011035,
     "end_time": "2024-09-08T19:39:42.092936",
     "exception": false,
     "start_time": "2024-09-08T19:39:42.081901",
     "status": "completed"
    },
    "tags": [],
    "toc": true
   },
   "source": [
    "Table of Contents <a class=\"jp-toc-ignore\"></a>\n",
    "=================\n",
    "\n",
    "*   [1  Data aquisition](#Data-aquisition)\n",
    "    *   [1.1  Fetch set lists](#Fetch-set-lists)\n",
    "    *   [1.2  Fetch set properties](#Fetch-set-properties)\n",
    "    *   [1.3  Merge data](#Merge-data)\n",
    "    *   [1.4  Save data](#Save-data)\n",
    "*   [3  Check changes](#Check-changes)\n",
    "    *   [3.1  Load previous data](#Load-previous-data)\n",
    "    *   [3.2  Generate changelog](#Generate-changelog)\n",
    "*   [4  Data visualization](#Data-visualization)\n",
    "    *   [4.1  Full data](#Full-data)\n",
    "    *   [4.2  Set](#Set)\n",
    "    *   [4.3  Card number](#Card-number)\n",
    "    *   [4.4  Name](#Name)\n",
    "    *   [4.5  Rarity](#Rarity)\n",
    "        *   [4.5.1  By unique](#By-unique)\n",
    "        *   [4.5.2  By combination](#By-combination)\n",
    "    *   [4.6  Print](#Print)\n",
    "    *   [4.7  Quantity](#Quantity)\n",
    "    *   [4.8  Region](#Region)\n",
    "    *   [4.9  Cover card](#Cover-card)\n",
    "    *   [4.10  Series](#Series)\n",
    "    *   [4.11  Set type](#Set-type)\n",
    "    *   [4.12  Release](#Release)\n",
    "        *   [4.12.1  By year](#By-year)\n",
    "        *   [4.12.2  By month](#By-month)\n",
    "        *   [4.12.3  By day](#By-day)\n",
    "        *   [4.12.4  By region](#By-region)\n",
    "        *   [4.12.5  By series](#By-series)\n",
    "        *   [4.12.6  By set type](#By-set-type)\n",
    "*   [5  Debug](#Debug)\n",
    "    *   [5.1  Has nan name/number](#Has-nan-name/number)\n",
    "    *   [5.2  Has nan rarity](#Has-nan-rarity)\n",
    "    *   [5.3  Has quantity as print](#Has-quantity-as-print)\n",
    "    *   [5.4  Has nan release](#Has-nan-release)\n",
    "    *   [5.5  Has print as rarity](#Has-print-as-rarity)\n",
    "    *   [5.6  Merge failed](#Merge-failed)\n",
    "*   [6  Epilogue](#Epilogue)\n",
    "    *   [6.1  HTML export](#HTML-export)\n",
    "<!-- *   [6.2  Git](#Git) -->"
   ]
  },
  {
   "cell_type": "markdown",
   "id": "3",
   "metadata": {
    "papermill": {
     "duration": 0.010826,
     "end_time": "2024-09-08T19:39:42.115081",
     "exception": false,
     "start_time": "2024-09-08T19:39:42.104255",
     "status": "completed"
    },
    "tags": []
   },
   "source": [
    "# Data aquisition"
   ]
  },
  {
   "cell_type": "markdown",
   "id": "4",
   "metadata": {
    "papermill": {
     "duration": 0.011312,
     "end_time": "2024-09-08T19:39:42.137570",
     "exception": false,
     "start_time": "2024-09-08T19:39:42.126258",
     "status": "completed"
    },
    "tags": []
   },
   "source": [
    "## Fetch set lists"
   ]
  },
  {
   "cell_type": "code",
   "execution_count": null,
   "id": "5",
   "metadata": {
    "code_folding": [],
    "papermill": {
     "duration": 72.515041,
     "end_time": "2024-09-08T19:40:54.666628",
     "exception": false,
     "start_time": "2024-09-08T19:39:42.151587",
     "status": "completed"
    },
    "tags": []
   },
   "outputs": [],
   "source": [
    "# Timestamp\n",
    "timestamp = arrow.utcnow()\n",
    "\n",
    "all_set_lists_df = fetch_all_set_lists()"
   ]
  },
  {
   "cell_type": "markdown",
   "id": "6",
   "metadata": {
    "papermill": {
     "duration": 0.014116,
     "end_time": "2024-09-08T19:40:54.697835",
     "exception": false,
     "start_time": "2024-09-08T19:40:54.683719",
     "status": "completed"
    },
    "tags": []
   },
   "source": [
    "## Fetch set properties"
   ]
  },
  {
   "cell_type": "code",
   "execution_count": null,
   "id": "7",
   "metadata": {
    "papermill": {
     "duration": 51.737386,
     "end_time": "2024-09-08T19:41:46.448386",
     "exception": false,
     "start_time": "2024-09-08T19:40:54.711000",
     "status": "completed"
    },
    "tags": []
   },
   "outputs": [],
   "source": [
    "# List of sets to ask\n",
    "sets = all_set_lists_df[\"Set\"].unique()\n",
    "set_info_df = api.fetch_set_info(sets)"
   ]
  },
  {
   "cell_type": "markdown",
   "id": "8",
   "metadata": {
    "papermill": {
     "duration": 0.013564,
     "end_time": "2024-09-08T19:41:46.484815",
     "exception": false,
     "start_time": "2024-09-08T19:41:46.471251",
     "status": "completed"
    },
    "tags": []
   },
   "source": [
    "## Merge data"
   ]
  },
  {
   "cell_type": "code",
   "execution_count": null,
   "id": "9",
   "metadata": {
    "papermill": {
     "duration": 6.527162,
     "end_time": "2024-09-08T19:41:53.026529",
     "exception": false,
     "start_time": "2024-09-08T19:41:46.499367",
     "status": "completed"
    },
    "tags": []
   },
   "outputs": [],
   "source": [
    "# Add properties to set lists\n",
    "all_set_lists_df = merge_set_info(all_set_lists_df, set_info_df)"
   ]
  },
  {
   "cell_type": "markdown",
   "id": "10",
   "metadata": {
    "papermill": {
     "duration": 0.015155,
     "end_time": "2024-09-08T19:41:53.057345",
     "exception": false,
     "start_time": "2024-09-08T19:41:53.042190",
     "status": "completed"
    },
    "tags": []
   },
   "source": [
    "# Check changes"
   ]
  },
  {
   "cell_type": "markdown",
   "id": "11",
   "metadata": {
    "papermill": {
     "duration": 0.012964,
     "end_time": "2024-09-08T19:41:53.083150",
     "exception": false,
     "start_time": "2024-09-08T19:41:53.070186",
     "status": "completed"
    },
    "tags": []
   },
   "source": [
    "## Load previous data"
   ]
  },
  {
   "cell_type": "code",
   "execution_count": null,
   "id": "12",
   "metadata": {
    "papermill": {
     "duration": 3.033627,
     "end_time": "2024-09-08T19:41:56.128887",
     "exception": false,
     "start_time": "2024-09-08T19:41:53.095260",
     "status": "completed"
    },
    "tags": []
   },
   "outputs": [],
   "source": [
    "# Get latest file if exist\n",
    "tuple_cols = [\"Rarity\", \"Cover card\"]\n",
    "previous_df, previous_ts = load_corrected_latest(\"sets\", tuple_cols)\n",
    "\n",
    "if previous_df is not None:\n",
    "    previous_df = previous_df.astype(\n",
    "        all_set_lists_df[\n",
    "            previous_df.columns.intersection(all_set_lists_df.columns)\n",
    "        ].dtypes.to_dict()\n",
    "    )"
   ]
  },
  {
   "cell_type": "markdown",
   "id": "13",
   "metadata": {
    "papermill": {
     "duration": 0.014828,
     "end_time": "2024-09-08T19:41:56.156940",
     "exception": false,
     "start_time": "2024-09-08T19:41:56.142112",
     "status": "completed"
    },
    "tags": []
   },
   "source": [
    "## Generate changelog"
   ]
  },
  {
   "cell_type": "code",
   "execution_count": null,
   "id": "14",
   "metadata": {
    "papermill": {
     "duration": 1.163198,
     "end_time": "2024-09-08T19:41:57.333936",
     "exception": false,
     "start_time": "2024-09-08T19:41:56.170738",
     "status": "completed"
    },
    "tags": []
   },
   "outputs": [],
   "source": [
    "if previous_df is None:\n",
    "    changelog = None\n",
    "    print(\"Skipped\")\n",
    "else:\n",
    "    changelog = generate_changelog(previous_df, all_set_lists_df, col=\"Card number\")\n",
    "    if not changelog.empty:\n",
    "        display(changelog)\n",
    "        changelog.to_csv(\n",
    "            dirs.DATA /\n",
    "                make_filename(\n",
    "                    report=\"sets\", timestamp=timestamp, previous_timestamp=previous_ts\n",
    "        ),\n",
    "            index=True,\n",
    "        )\n",
    "        print(\"Changelog saved\")"
   ]
  },
  {
   "cell_type": "markdown",
   "id": "15",
   "metadata": {
    "papermill": {
     "duration": 0.014384,
     "end_time": "2024-09-08T19:41:57.363352",
     "exception": false,
     "start_time": "2024-09-08T19:41:57.348968",
     "status": "completed"
    },
    "tags": []
   },
   "source": [
    "## Save data"
   ]
  },
  {
   "cell_type": "code",
   "execution_count": null,
   "id": "16",
   "metadata": {
    "papermill": {
     "duration": 5.236187,
     "end_time": "2024-09-08T19:42:02.614833",
     "exception": false,
     "start_time": "2024-09-08T19:41:57.378646",
     "status": "completed"
    },
    "tags": []
   },
   "outputs": [],
   "source": [
    "if changelog is not None and changelog.empty:\n",
    "    print(\"No changes. New data not saved\")\n",
    "else:\n",
    "    all_set_lists_df.to_csv(\n",
    "        dirs.DATA / make_filename(report=\"sets\", timestamp=timestamp),\n",
    "        index=False,\n",
    "    )\n",
    "    print(\"Data saved\")"
   ]
  },
  {
   "cell_type": "markdown",
   "id": "17",
   "metadata": {
    "papermill": {
     "duration": 0.014808,
     "end_time": "2024-09-08T19:42:02.644818",
     "exception": false,
     "start_time": "2024-09-08T19:42:02.630010",
     "status": "completed"
    },
    "tags": []
   },
   "source": [
    "# Data visualization"
   ]
  },
  {
   "cell_type": "markdown",
   "id": "18",
   "metadata": {
    "jp-MarkdownHeadingCollapsed": true,
    "papermill": {
     "duration": 0.014629,
     "end_time": "2024-09-08T19:42:02.673307",
     "exception": false,
     "start_time": "2024-09-08T19:42:02.658678",
     "status": "completed"
    },
    "tags": []
   },
   "source": [
    "## Full data"
   ]
  },
  {
   "cell_type": "code",
   "execution_count": null,
   "id": "19",
   "metadata": {
    "papermill": {
     "duration": 0.07469,
     "end_time": "2024-09-08T19:42:02.761163",
     "exception": false,
     "start_time": "2024-09-08T19:42:02.686473",
     "status": "completed"
    },
    "tags": []
   },
   "outputs": [],
   "source": [
    "all_set_lists_df"
   ]
  },
  {
   "cell_type": "markdown",
   "id": "20",
   "metadata": {
    "papermill": {
     "duration": 0.016576,
     "end_time": "2024-09-08T19:42:02.794036",
     "exception": false,
     "start_time": "2024-09-08T19:42:02.777460",
     "status": "completed"
    },
    "tags": []
   },
   "source": [
    "Full data available [here](../data)"
   ]
  },
  {
   "cell_type": "markdown",
   "id": "21",
   "metadata": {
    "jp-MarkdownHeadingCollapsed": true,
    "papermill": {
     "duration": 0.015086,
     "end_time": "2024-09-08T19:42:02.823928",
     "exception": false,
     "start_time": "2024-09-08T19:42:02.808842",
     "status": "completed"
    },
    "tags": []
   },
   "source": [
    "## Set"
   ]
  },
  {
   "cell_type": "code",
   "execution_count": null,
   "id": "22",
   "metadata": {
    "papermill": {
     "duration": 0.031827,
     "end_time": "2024-09-08T19:42:02.871347",
     "exception": false,
     "start_time": "2024-09-08T19:42:02.839520",
     "status": "completed"
    },
    "tags": []
   },
   "outputs": [],
   "source": [
    "print(\"Total number of sets:\", all_set_lists_df[\"Set\"].nunique())"
   ]
  },
  {
   "cell_type": "code",
   "execution_count": null,
   "id": "23",
   "metadata": {
    "papermill": {
     "duration": 0.329173,
     "end_time": "2024-09-08T19:42:03.217132",
     "exception": false,
     "start_time": "2024-09-08T19:42:02.887959",
     "status": "completed"
    },
    "tags": []
   },
   "outputs": [],
   "source": [
    "all_set_lists_df.groupby(\"Set\", dropna=False).nunique()"
   ]
  },
  {
   "cell_type": "code",
   "execution_count": null,
   "id": "24",
   "metadata": {
    "papermill": {
     "duration": 0.315184,
     "end_time": "2024-09-08T19:42:03.549107",
     "exception": false,
     "start_time": "2024-09-08T19:42:03.233923",
     "status": "completed"
    },
    "tags": []
   },
   "outputs": [],
   "source": [
    "all_set_lists_df.groupby(\"Set\", dropna=False).nunique().describe()"
   ]
  },
  {
   "cell_type": "markdown",
   "id": "25",
   "metadata": {
    "jp-MarkdownHeadingCollapsed": true,
    "papermill": {
     "duration": 0.016081,
     "end_time": "2024-09-08T19:42:03.583727",
     "exception": false,
     "start_time": "2024-09-08T19:42:03.567646",
     "status": "completed"
    },
    "tags": []
   },
   "source": [
    "## Card number"
   ]
  },
  {
   "cell_type": "code",
   "execution_count": null,
   "id": "26",
   "metadata": {
    "papermill": {
     "duration": 0.065686,
     "end_time": "2024-09-08T19:42:03.668265",
     "exception": false,
     "start_time": "2024-09-08T19:42:03.602579",
     "status": "completed"
    },
    "tags": []
   },
   "outputs": [],
   "source": [
    "print(\"Total number of card numbers:\", all_set_lists_df[\"Card number\"].nunique())"
   ]
  },
  {
   "cell_type": "code",
   "execution_count": null,
   "id": "27",
   "metadata": {
    "papermill": {
     "duration": 0.536602,
     "end_time": "2024-09-08T19:42:04.222313",
     "exception": false,
     "start_time": "2024-09-08T19:42:03.685711",
     "status": "completed"
    },
    "tags": []
   },
   "outputs": [],
   "source": [
    "all_set_lists_df.groupby(\"Card number\", dropna=False).nunique()"
   ]
  },
  {
   "cell_type": "markdown",
   "id": "28",
   "metadata": {
    "jp-MarkdownHeadingCollapsed": true,
    "papermill": {
     "duration": 0.018156,
     "end_time": "2024-09-08T19:42:04.258532",
     "exception": false,
     "start_time": "2024-09-08T19:42:04.240376",
     "status": "completed"
    },
    "tags": []
   },
   "source": [
    "## Name"
   ]
  },
  {
   "cell_type": "code",
   "execution_count": null,
   "id": "29",
   "metadata": {
    "papermill": {
     "duration": 0.03571,
     "end_time": "2024-09-08T19:42:04.311787",
     "exception": false,
     "start_time": "2024-09-08T19:42:04.276077",
     "status": "completed"
    },
    "tags": []
   },
   "outputs": [],
   "source": [
    "print(\"Total number of card names:\", all_set_lists_df[\"Name\"].nunique())"
   ]
  },
  {
   "cell_type": "code",
   "execution_count": null,
   "id": "30",
   "metadata": {
    "papermill": {
     "duration": 0.2618,
     "end_time": "2024-09-08T19:42:04.590672",
     "exception": false,
     "start_time": "2024-09-08T19:42:04.328872",
     "status": "completed"
    },
    "tags": []
   },
   "outputs": [],
   "source": [
    "all_set_lists_df.groupby(\"Name\", dropna=False).nunique()"
   ]
  },
  {
   "cell_type": "code",
   "execution_count": null,
   "id": "31",
   "metadata": {
    "papermill": {
     "duration": 0.247868,
     "end_time": "2024-09-08T19:42:04.857166",
     "exception": false,
     "start_time": "2024-09-08T19:42:04.609298",
     "status": "completed"
    },
    "tags": []
   },
   "outputs": [],
   "source": [
    "all_set_lists_df.groupby(\"Name\", dropna=True).nunique().describe()"
   ]
  },
  {
   "cell_type": "markdown",
   "id": "32",
   "metadata": {
    "papermill": {
     "duration": 0.015,
     "end_time": "2024-09-08T19:42:04.887375",
     "exception": false,
     "start_time": "2024-09-08T19:42:04.872375",
     "status": "completed"
    },
    "tags": []
   },
   "source": [
    "## Rarity"
   ]
  },
  {
   "cell_type": "code",
   "execution_count": null,
   "id": "33",
   "metadata": {
    "papermill": {
     "duration": 0.168422,
     "end_time": "2024-09-08T19:42:05.072868",
     "exception": false,
     "start_time": "2024-09-08T19:42:04.904446",
     "status": "completed"
    },
    "tags": []
   },
   "outputs": [],
   "source": [
    "print(\"Total number of rarities:\", all_set_lists_df[\"Rarity\"].explode().nunique())"
   ]
  },
  {
   "cell_type": "markdown",
   "id": "34",
   "metadata": {
    "papermill": {
     "duration": 0.014777,
     "end_time": "2024-09-08T19:42:05.104224",
     "exception": false,
     "start_time": "2024-09-08T19:42:05.089447",
     "status": "completed"
    },
    "tags": []
   },
   "source": [
    "### By unique"
   ]
  },
  {
   "cell_type": "code",
   "execution_count": null,
   "id": "35",
   "metadata": {
    "papermill": {
     "duration": 0.695913,
     "end_time": "2024-09-08T19:42:05.817356",
     "exception": false,
     "start_time": "2024-09-08T19:42:05.121443",
     "status": "completed"
    },
    "tags": []
   },
   "outputs": [],
   "source": [
    "all_set_lists_df.explode(\"Rarity\").groupby(\"Rarity\", dropna=False).nunique()"
   ]
  },
  {
   "cell_type": "code",
   "execution_count": null,
   "id": "36",
   "metadata": {
    "papermill": {
     "duration": 0.476485,
     "end_time": "2024-09-08T19:42:06.310616",
     "exception": false,
     "start_time": "2024-09-08T19:42:05.834131",
     "status": "completed"
    },
    "tags": []
   },
   "outputs": [],
   "source": [
    "all_set_lists_df[\"Rarity\"].explode().value_counts().plot.barh(\n",
    "    figsize=(10, 20), grid=True\n",
    ")\n",
    "plt.xscale(\"log\")\n",
    "plt.show()"
   ]
  },
  {
   "cell_type": "markdown",
   "id": "37",
   "metadata": {
    "papermill": {
     "duration": 0.020263,
     "end_time": "2024-09-08T19:42:06.355109",
     "exception": false,
     "start_time": "2024-09-08T19:42:06.334846",
     "status": "completed"
    },
    "tags": []
   },
   "source": [
    "### By combination"
   ]
  },
  {
   "cell_type": "code",
   "execution_count": null,
   "id": "38",
   "metadata": {
    "papermill": {
     "duration": 0.266631,
     "end_time": "2024-09-08T19:42:06.640459",
     "exception": false,
     "start_time": "2024-09-08T19:42:06.373828",
     "status": "completed"
    },
    "tags": []
   },
   "outputs": [],
   "source": [
    "all_set_lists_df.groupby(\"Rarity\", dropna=False).nunique()"
   ]
  },
  {
   "cell_type": "code",
   "execution_count": null,
   "id": "39",
   "metadata": {
    "papermill": {
     "duration": 0.677437,
     "end_time": "2024-09-08T19:42:07.336690",
     "exception": false,
     "start_time": "2024-09-08T19:42:06.659253",
     "status": "completed"
    },
    "tags": []
   },
   "outputs": [],
   "source": [
    "all_set_lists_df[\"Rarity\"].value_counts().plot.barh(figsize=(10, 80), grid=True)\n",
    "plt.xscale(\"log\")\n",
    "plt.show()"
   ]
  },
  {
   "cell_type": "markdown",
   "id": "40",
   "metadata": {
    "papermill": {
     "duration": 0.021916,
     "end_time": "2024-09-08T19:42:07.381828",
     "exception": false,
     "start_time": "2024-09-08T19:42:07.359912",
     "status": "completed"
    },
    "tags": []
   },
   "source": [
    "## Print"
   ]
  },
  {
   "cell_type": "code",
   "execution_count": null,
   "id": "41",
   "metadata": {
    "papermill": {
     "duration": 0.042976,
     "end_time": "2024-09-08T19:42:07.446287",
     "exception": false,
     "start_time": "2024-09-08T19:42:07.403311",
     "status": "completed"
    },
    "tags": []
   },
   "outputs": [],
   "source": [
    "print(\"Total number of prints:\", all_set_lists_df[\"Print\"].nunique())"
   ]
  },
  {
   "cell_type": "code",
   "execution_count": null,
   "id": "42",
   "metadata": {
    "papermill": {
     "duration": 0.272566,
     "end_time": "2024-09-08T19:42:07.742392",
     "exception": false,
     "start_time": "2024-09-08T19:42:07.469826",
     "status": "completed"
    },
    "tags": []
   },
   "outputs": [],
   "source": [
    "all_set_lists_df.groupby(\"Print\", dropna=False).nunique()"
   ]
  },
  {
   "cell_type": "code",
   "execution_count": null,
   "id": "43",
   "metadata": {
    "papermill": {
     "duration": 0.179502,
     "end_time": "2024-09-08T19:42:07.946688",
     "exception": false,
     "start_time": "2024-09-08T19:42:07.767186",
     "status": "completed"
    },
    "tags": []
   },
   "outputs": [],
   "source": [
    "all_set_lists_df[\"Print\"].value_counts().plot.bar(figsize=(18, 6), grid=True, rot=45)\n",
    "plt.yscale(\"log\")\n",
    "plt.show()"
   ]
  },
  {
   "cell_type": "markdown",
   "id": "44",
   "metadata": {
    "papermill": {
     "duration": 0.027261,
     "end_time": "2024-09-08T19:42:08.000855",
     "exception": false,
     "start_time": "2024-09-08T19:42:07.973594",
     "status": "completed"
    },
    "tags": []
   },
   "source": [
    "## Quantity"
   ]
  },
  {
   "cell_type": "code",
   "execution_count": null,
   "id": "45",
   "metadata": {
    "papermill": {
     "duration": 0.058021,
     "end_time": "2024-09-08T19:42:08.089288",
     "exception": false,
     "start_time": "2024-09-08T19:42:08.031267",
     "status": "completed"
    },
    "tags": []
   },
   "outputs": [],
   "source": [
    "print(\"Total number of quantities:\", all_set_lists_df[\"Quantity\"].nunique())"
   ]
  },
  {
   "cell_type": "code",
   "execution_count": null,
   "id": "46",
   "metadata": {
    "papermill": {
     "duration": 0.264029,
     "end_time": "2024-09-08T19:42:08.379330",
     "exception": false,
     "start_time": "2024-09-08T19:42:08.115301",
     "status": "completed"
    },
    "tags": []
   },
   "outputs": [],
   "source": [
    "all_set_lists_df.groupby(\"Quantity\", dropna=False).nunique()"
   ]
  },
  {
   "cell_type": "markdown",
   "id": "47",
   "metadata": {
    "papermill": {
     "duration": 0.029028,
     "end_time": "2024-09-08T19:42:08.441711",
     "exception": false,
     "start_time": "2024-09-08T19:42:08.412683",
     "status": "completed"
    },
    "tags": []
   },
   "source": [
    "## Region"
   ]
  },
  {
   "cell_type": "code",
   "execution_count": null,
   "id": "48",
   "metadata": {
    "papermill": {
     "duration": 0.041004,
     "end_time": "2024-09-08T19:42:08.586233",
     "exception": false,
     "start_time": "2024-09-08T19:42:08.545229",
     "status": "completed"
    },
    "tags": []
   },
   "outputs": [],
   "source": [
    "print(\"Total number of regions:\", all_set_lists_df[\"Region\"].nunique())"
   ]
  },
  {
   "cell_type": "code",
   "execution_count": null,
   "id": "49",
   "metadata": {
    "papermill": {
     "duration": 0.279164,
     "end_time": "2024-09-08T19:42:08.891839",
     "exception": false,
     "start_time": "2024-09-08T19:42:08.612675",
     "status": "completed"
    },
    "tags": []
   },
   "outputs": [],
   "source": [
    "all_set_lists_df.groupby([\"Set\", \"Region\"], dropna=False).nunique()"
   ]
  },
  {
   "cell_type": "code",
   "execution_count": null,
   "id": "50",
   "metadata": {
    "papermill": {
     "duration": 0.266564,
     "end_time": "2024-09-08T19:42:09.186697",
     "exception": false,
     "start_time": "2024-09-08T19:42:08.920133",
     "status": "completed"
    },
    "tags": []
   },
   "outputs": [],
   "source": [
    "all_set_lists_df.groupby(\"Region\", dropna=False).nunique().describe()"
   ]
  },
  {
   "cell_type": "code",
   "execution_count": null,
   "id": "51",
   "metadata": {
    "papermill": {
     "duration": 0.096868,
     "end_time": "2024-09-08T19:42:09.314240",
     "exception": false,
     "start_time": "2024-09-08T19:42:09.217372",
     "status": "completed"
    },
    "tags": []
   },
   "outputs": [],
   "source": [
    "all_set_lists_df[\"Region\"].value_counts().plot.bar(figsize=(18, 6), grid=True, rot=0)\n",
    "plt.show()"
   ]
  },
  {
   "cell_type": "markdown",
   "id": "52",
   "metadata": {
    "papermill": {
     "duration": 0.026566,
     "end_time": "2024-09-08T19:42:09.367925",
     "exception": false,
     "start_time": "2024-09-08T19:42:09.341359",
     "status": "completed"
    },
    "tags": []
   },
   "source": [
    "## Cover card"
   ]
  },
  {
   "cell_type": "code",
   "execution_count": null,
   "id": "53",
   "metadata": {
    "papermill": {
     "duration": 0.167601,
     "end_time": "2024-09-08T19:42:09.562676",
     "exception": false,
     "start_time": "2024-09-08T19:42:09.395075",
     "status": "completed"
    },
    "tags": []
   },
   "outputs": [],
   "source": [
    "print(\n",
    "    \"Total number of cover cards:\",\n",
    "    all_set_lists_df[\"Cover card\"].explode(\"Cover card\").nunique(),\n",
    ")"
   ]
  },
  {
   "cell_type": "code",
   "execution_count": null,
   "id": "54",
   "metadata": {
    "papermill": {
     "duration": 0.93464,
     "end_time": "2024-09-08T19:42:10.526445",
     "exception": false,
     "start_time": "2024-09-08T19:42:09.591805",
     "status": "completed"
    },
    "tags": []
   },
   "outputs": [],
   "source": [
    "all_set_lists_df.explode(\"Cover card\").groupby([\"Cover card\"]).nunique()"
   ]
  },
  {
   "cell_type": "code",
   "execution_count": null,
   "id": "55",
   "metadata": {
    "papermill": {
     "duration": 2.583654,
     "end_time": "2024-09-08T19:42:13.137070",
     "exception": false,
     "start_time": "2024-09-08T19:42:10.553416",
     "status": "completed"
    },
    "tags": []
   },
   "outputs": [],
   "source": [
    "all_set_lists_df.explode([\"Cover card\"]).groupby(\"Cover card\")[\n",
    "    \"Set\"\n",
    "].nunique().sort_values(ascending=False).plot.barh(figsize=(10, 250), grid=True)\n",
    "plt.show()"
   ]
  },
  {
   "cell_type": "markdown",
   "id": "56",
   "metadata": {
    "papermill": {
     "duration": 0.051309,
     "end_time": "2024-09-08T19:42:13.239473",
     "exception": false,
     "start_time": "2024-09-08T19:42:13.188164",
     "status": "completed"
    },
    "tags": []
   },
   "source": [
    "## Series"
   ]
  },
  {
   "cell_type": "code",
   "execution_count": null,
   "id": "57",
   "metadata": {
    "papermill": {
     "duration": 0.071078,
     "end_time": "2024-09-08T19:42:13.362356",
     "exception": false,
     "start_time": "2024-09-08T19:42:13.291278",
     "status": "completed"
    },
    "tags": []
   },
   "outputs": [],
   "source": [
    "print(\"Total number of series:\", all_set_lists_df[\"Series\"].nunique())"
   ]
  },
  {
   "cell_type": "code",
   "execution_count": null,
   "id": "58",
   "metadata": {
    "papermill": {
     "duration": 0.239746,
     "end_time": "2024-09-08T19:42:13.655828",
     "exception": false,
     "start_time": "2024-09-08T19:42:13.416082",
     "status": "completed"
    },
    "tags": []
   },
   "outputs": [],
   "source": [
    "all_set_lists_df.groupby(\"Series\").nunique()"
   ]
  },
  {
   "cell_type": "code",
   "execution_count": null,
   "id": "59",
   "metadata": {
    "papermill": {
     "duration": 0.48517,
     "end_time": "2024-09-08T19:42:14.189893",
     "exception": false,
     "start_time": "2024-09-08T19:42:13.704723",
     "status": "completed"
    },
    "tags": []
   },
   "outputs": [],
   "source": [
    "all_set_lists_df.explode([\"Series\"]).groupby(\"Series\")[\"Set\"].nunique().sort_values(\n",
    "    ascending=False\n",
    ").plot.barh(figsize=(10, 15), grid=True)\n",
    "plt.show()"
   ]
  },
  {
   "cell_type": "markdown",
   "id": "60",
   "metadata": {
    "papermill": {
     "duration": 0.060955,
     "end_time": "2024-09-08T19:42:14.303045",
     "exception": false,
     "start_time": "2024-09-08T19:42:14.242090",
     "status": "completed"
    },
    "tags": []
   },
   "source": [
    "## Set type"
   ]
  },
  {
   "cell_type": "code",
   "execution_count": null,
   "id": "61",
   "metadata": {
    "papermill": {
     "duration": 0.068137,
     "end_time": "2024-09-08T19:42:14.425359",
     "exception": false,
     "start_time": "2024-09-08T19:42:14.357222",
     "status": "completed"
    },
    "tags": []
   },
   "outputs": [],
   "source": [
    "print(\"Total number of set types:\", all_set_lists_df[\"Set type\"].nunique())"
   ]
  },
  {
   "cell_type": "code",
   "execution_count": null,
   "id": "62",
   "metadata": {
    "papermill": {
     "duration": 0.337321,
     "end_time": "2024-09-08T19:42:14.821624",
     "exception": false,
     "start_time": "2024-09-08T19:42:14.484303",
     "status": "completed"
    },
    "tags": []
   },
   "outputs": [],
   "source": [
    "all_set_lists_df.groupby(\"Set type\").nunique()"
   ]
  },
  {
   "cell_type": "code",
   "execution_count": null,
   "id": "63",
   "metadata": {
    "papermill": {
     "duration": 0.174665,
     "end_time": "2024-09-08T19:42:15.052666",
     "exception": false,
     "start_time": "2024-09-08T19:42:14.878001",
     "status": "completed"
    },
    "tags": []
   },
   "outputs": [],
   "source": [
    "set_info_df[\"Set type\"].value_counts().plot.barh(figsize=(10, 10), grid=True)\n",
    "plt.show()"
   ]
  },
  {
   "cell_type": "markdown",
   "id": "64",
   "metadata": {
    "papermill": {
     "duration": 0.053638,
     "end_time": "2024-09-08T19:42:15.159437",
     "exception": false,
     "start_time": "2024-09-08T19:42:15.105799",
     "status": "completed"
    },
    "tags": []
   },
   "source": [
    "## Release"
   ]
  },
  {
   "cell_type": "code",
   "execution_count": null,
   "id": "65",
   "metadata": {
    "papermill": {
     "duration": 0.063407,
     "end_time": "2024-09-08T19:42:15.277063",
     "exception": false,
     "start_time": "2024-09-08T19:42:15.213656",
     "status": "completed"
    },
    "tags": []
   },
   "outputs": [],
   "source": [
    "print(\"Total number of release dates:\", all_set_lists_df[\"Release\"].nunique())"
   ]
  },
  {
   "cell_type": "code",
   "execution_count": null,
   "id": "66",
   "metadata": {
    "papermill": {
     "duration": 0.299585,
     "end_time": "2024-09-08T19:42:15.637655",
     "exception": false,
     "start_time": "2024-09-08T19:42:15.338070",
     "status": "completed"
    },
    "tags": []
   },
   "outputs": [],
   "source": [
    "all_set_lists_df.groupby(\"Release\", dropna=False).nunique()"
   ]
  },
  {
   "cell_type": "code",
   "execution_count": null,
   "id": "67",
   "metadata": {
    "papermill": {
     "duration": 0.07188,
     "end_time": "2024-09-08T19:42:15.759769",
     "exception": false,
     "start_time": "2024-09-08T19:42:15.687889",
     "status": "completed"
    },
    "tags": []
   },
   "outputs": [],
   "source": [
    "set_by_release = pd.DataFrame(\n",
    "    all_set_lists_df.groupby(\"Release\", dropna=False)[\"Set\"].nunique()\n",
    ")"
   ]
  },
  {
   "cell_type": "markdown",
   "id": "68",
   "metadata": {
    "papermill": {
     "duration": 0.047927,
     "end_time": "2024-09-08T19:42:15.855494",
     "exception": false,
     "start_time": "2024-09-08T19:42:15.807567",
     "status": "completed"
    },
    "tags": []
   },
   "source": [
    "### By year"
   ]
  },
  {
   "cell_type": "code",
   "execution_count": null,
   "id": "69",
   "metadata": {
    "papermill": {
     "duration": 0.336541,
     "end_time": "2024-09-08T19:42:16.241971",
     "exception": false,
     "start_time": "2024-09-08T19:42:15.905430",
     "status": "completed"
    },
    "tags": []
   },
   "outputs": [],
   "source": [
    "all_set_lists_df.drop(\"Modification date\", axis=1).groupby(\n",
    "    \"Release\", dropna=False\n",
    ").nunique().groupby(set_by_release.index.strftime(\"%Y\")).sum()"
   ]
  },
  {
   "cell_type": "code",
   "execution_count": null,
   "id": "70",
   "metadata": {
    "papermill": {
     "duration": 0.609014,
     "end_time": "2024-09-08T19:42:16.900093",
     "exception": false,
     "start_time": "2024-09-08T19:42:16.291079",
     "status": "completed"
    },
    "tags": []
   },
   "outputs": [],
   "source": [
    "plot.rate(set_by_release)"
   ]
  },
  {
   "cell_type": "markdown",
   "id": "71",
   "metadata": {
    "papermill": {
     "duration": 0.05143,
     "end_time": "2024-09-08T19:42:17.003184",
     "exception": false,
     "start_time": "2024-09-08T19:42:16.951754",
     "status": "completed"
    },
    "tags": []
   },
   "source": [
    "### By month"
   ]
  },
  {
   "cell_type": "code",
   "execution_count": null,
   "id": "72",
   "metadata": {
    "papermill": {
     "duration": 0.116356,
     "end_time": "2024-09-08T19:42:17.169040",
     "exception": false,
     "start_time": "2024-09-08T19:42:17.052684",
     "status": "completed"
    },
    "tags": []
   },
   "outputs": [],
   "source": [
    "set_by_release.groupby(set_by_release.index.strftime(\"%B\")).sum().sort_index(\n",
    "    key=lambda x: pd.to_datetime(x, format=\"%B\").month\n",
    ").plot.bar(figsize=(16, 8), grid=True, xlabel=\"Release month\", rot=0)\n",
    "plt.show()"
   ]
  },
  {
   "cell_type": "code",
   "execution_count": null,
   "id": "73",
   "metadata": {
    "papermill": {
     "duration": 0.122406,
     "end_time": "2024-09-08T19:42:17.342663",
     "exception": false,
     "start_time": "2024-09-08T19:42:17.220257",
     "status": "completed"
    },
    "tags": []
   },
   "outputs": [],
   "source": [
    "set_by_release.groupby(set_by_release.index.strftime(\"%d\")).sum().plot.bar(\n",
    "    figsize=(16, 8), grid=True, xlabel=\"Release day of the month\", rot=0\n",
    ")\n",
    "plt.show()"
   ]
  },
  {
   "cell_type": "markdown",
   "id": "74",
   "metadata": {
    "papermill": {
     "duration": 0.056217,
     "end_time": "2024-09-08T19:42:17.450978",
     "exception": false,
     "start_time": "2024-09-08T19:42:17.394761",
     "status": "completed"
    },
    "tags": []
   },
   "source": [
    "### By day"
   ]
  },
  {
   "cell_type": "code",
   "execution_count": null,
   "id": "75",
   "metadata": {
    "papermill": {
     "duration": 0.088931,
     "end_time": "2024-09-08T19:42:17.593652",
     "exception": false,
     "start_time": "2024-09-08T19:42:17.504721",
     "status": "completed"
    },
    "tags": []
   },
   "outputs": [],
   "source": [
    "set_by_release.groupby(set_by_release.index.dayofyear).sum().plot(\n",
    "    figsize=(16, 8), grid=True, xlabel=\"Release day of the year\"\n",
    ")\n",
    "plt.show()"
   ]
  },
  {
   "cell_type": "code",
   "execution_count": null,
   "id": "76",
   "metadata": {
    "papermill": {
     "duration": 0.097434,
     "end_time": "2024-09-08T19:42:17.748183",
     "exception": false,
     "start_time": "2024-09-08T19:42:17.650749",
     "status": "completed"
    },
    "tags": []
   },
   "outputs": [],
   "source": [
    "set_by_release_wd = set_by_release.groupby(set_by_release.index.weekday).sum()\n",
    "set_by_release_wd.index = [\n",
    "    calendar.day_name[i] for i in set_by_release_wd.index.astype(int)\n",
    "]\n",
    "set_by_release_wd.plot.bar(\n",
    "    figsize=(16, 8), grid=True, xlabel=\"Release day of the week\", rot=0\n",
    ")\n",
    "plt.show()"
   ]
  },
  {
   "cell_type": "markdown",
   "id": "77",
   "metadata": {
    "papermill": {
     "duration": 0.051164,
     "end_time": "2024-09-08T19:42:17.852025",
     "exception": false,
     "start_time": "2024-09-08T19:42:17.800861",
     "status": "completed"
    },
    "tags": []
   },
   "source": [
    "### By region"
   ]
  },
  {
   "cell_type": "code",
   "execution_count": null,
   "id": "78",
   "metadata": {
    "papermill": {
     "duration": 0.267906,
     "end_time": "2024-09-08T19:42:18.176893",
     "exception": false,
     "start_time": "2024-09-08T19:42:17.908987",
     "status": "completed"
    },
    "tags": []
   },
   "outputs": [],
   "source": [
    "by_release_region = all_set_lists_df.groupby([\"Region\", \"Release\"]).nunique()\n",
    "by_release_region"
   ]
  },
  {
   "cell_type": "code",
   "execution_count": null,
   "id": "79",
   "metadata": {
    "papermill": {
     "duration": 0.066959,
     "end_time": "2024-09-08T19:42:18.296601",
     "exception": false,
     "start_time": "2024-09-08T19:42:18.229642",
     "status": "completed"
    },
    "tags": []
   },
   "outputs": [],
   "source": [
    "set_by_release_region = (\n",
    "    by_release_region[\"Set\"].unstack(0).sort_index().fillna(0).astype(int)\n",
    ")\n",
    "set_by_release_region_y = (\n",
    "    set_by_release_region.groupby(set_by_release_region.index.strftime(\"%Y\")).sum().T\n",
    ")\n",
    "set_by_release_region_y"
   ]
  },
  {
   "cell_type": "code",
   "execution_count": null,
   "id": "80",
   "metadata": {
    "papermill": {
     "duration": 0.223948,
     "end_time": "2024-09-08T19:42:18.580944",
     "exception": false,
     "start_time": "2024-09-08T19:42:18.356996",
     "status": "completed"
    },
    "tags": []
   },
   "outputs": [],
   "source": [
    "plt.figure(figsize=(20, 10))\n",
    "sns.heatmap(\n",
    "    set_by_release_region_y[set_by_release_region_y > 0],\n",
    "    annot=True,\n",
    "    fmt=\"g\",\n",
    "    cmap=\"viridis\",\n",
    "    square=True,\n",
    ")\n",
    "plt.show()"
   ]
  },
  {
   "cell_type": "code",
   "execution_count": null,
   "id": "81",
   "metadata": {
    "papermill": {
     "duration": 8.924626,
     "end_time": "2024-09-08T19:42:27.562764",
     "exception": false,
     "start_time": "2024-09-08T19:42:18.638138",
     "status": "completed"
    },
    "tags": []
   },
   "outputs": [],
   "source": [
    "plot.rate_subplots(set_by_release_region, title=\"Set releases\")"
   ]
  },
  {
   "cell_type": "markdown",
   "id": "82",
   "metadata": {
    "papermill": {
     "duration": 0.121236,
     "end_time": "2024-09-08T19:42:27.813713",
     "exception": false,
     "start_time": "2024-09-08T19:42:27.692477",
     "status": "completed"
    },
    "tags": []
   },
   "source": [
    "### By series"
   ]
  },
  {
   "cell_type": "code",
   "execution_count": null,
   "id": "83",
   "metadata": {
    "papermill": {
     "duration": 0.584117,
     "end_time": "2024-09-08T19:42:28.517324",
     "exception": false,
     "start_time": "2024-09-08T19:42:27.933207",
     "status": "completed"
    },
    "tags": []
   },
   "outputs": [],
   "source": [
    "by_release_series = (\n",
    "    all_set_lists_df.explode(\"Series\").groupby([\"Series\", \"Release\"]).nunique()\n",
    ")\n",
    "by_release_series"
   ]
  },
  {
   "cell_type": "code",
   "execution_count": null,
   "id": "84",
   "metadata": {
    "papermill": {
     "duration": 0.120289,
     "end_time": "2024-09-08T19:42:28.756678",
     "exception": false,
     "start_time": "2024-09-08T19:42:28.636389",
     "status": "completed"
    },
    "tags": []
   },
   "outputs": [],
   "source": [
    "set_by_release_series = (\n",
    "    by_release_series[\"Set\"].unstack(0).sort_index().fillna(0).astype(int)\n",
    ")\n",
    "set_by_release_series_y = (\n",
    "    set_by_release_series.groupby(set_by_release_series.index.strftime(\"%Y\")).sum().T\n",
    ")\n",
    "set_by_release_series_y"
   ]
  },
  {
   "cell_type": "code",
   "execution_count": null,
   "id": "85",
   "metadata": {
    "papermill": {
     "duration": 0.775361,
     "end_time": "2024-09-08T19:42:29.647784",
     "exception": false,
     "start_time": "2024-09-08T19:42:28.872423",
     "status": "completed"
    },
    "tags": []
   },
   "outputs": [],
   "source": [
    "plt.figure(figsize=(20, 20))\n",
    "sns.heatmap(\n",
    "    set_by_release_series_y[set_by_release_series_y > 0],\n",
    "    annot=True,\n",
    "    fmt=\"g\",\n",
    "    cmap=\"viridis\",\n",
    "    square=True,\n",
    ")\n",
    "plt.show()"
   ]
  },
  {
   "cell_type": "code",
   "execution_count": null,
   "id": "86",
   "metadata": {
    "papermill": {
     "duration": 34.484386,
     "end_time": "2024-09-08T19:43:04.238144",
     "exception": false,
     "start_time": "2024-09-08T19:42:29.753758",
     "status": "completed"
    },
    "tags": []
   },
   "outputs": [],
   "source": [
    "plot.rate_subplots(set_by_release_series, title=\"Set releases\")"
   ]
  },
  {
   "cell_type": "markdown",
   "id": "87",
   "metadata": {
    "papermill": {
     "duration": 0.278562,
     "end_time": "2024-09-08T19:43:04.822961",
     "exception": false,
     "start_time": "2024-09-08T19:43:04.544399",
     "status": "completed"
    },
    "tags": []
   },
   "source": [
    "### By set type"
   ]
  },
  {
   "cell_type": "code",
   "execution_count": null,
   "id": "88",
   "metadata": {
    "papermill": {
     "duration": 0.718551,
     "end_time": "2024-09-08T19:43:05.815990",
     "exception": false,
     "start_time": "2024-09-08T19:43:05.097439",
     "status": "completed"
    },
    "tags": []
   },
   "outputs": [],
   "source": [
    "by_release_type = (\n",
    "    all_set_lists_df.explode(\"Set type\").groupby([\"Set type\", \"Release\"]).nunique()\n",
    ")\n",
    "by_release_type"
   ]
  },
  {
   "cell_type": "code",
   "execution_count": null,
   "id": "89",
   "metadata": {
    "papermill": {
     "duration": 0.329969,
     "end_time": "2024-09-08T19:43:06.428027",
     "exception": false,
     "start_time": "2024-09-08T19:43:06.098058",
     "status": "completed"
    },
    "tags": []
   },
   "outputs": [],
   "source": [
    "set_by_release_type = (\n",
    "    by_release_type[\"Set\"].unstack(0).sort_index().fillna(0).astype(int)\n",
    ")\n",
    "set_by_release_type_y = (\n",
    "    set_by_release_type.groupby(set_by_release_type.index.strftime(\"%Y\")).sum().T\n",
    ")\n",
    "set_by_release_type_y"
   ]
  },
  {
   "cell_type": "code",
   "execution_count": null,
   "id": "90",
   "metadata": {
    "papermill": {
     "duration": 0.592337,
     "end_time": "2024-09-08T19:43:07.304751",
     "exception": false,
     "start_time": "2024-09-08T19:43:06.712414",
     "status": "completed"
    },
    "tags": []
   },
   "outputs": [],
   "source": [
    "plt.figure(figsize=(20, 16))\n",
    "sns.heatmap(\n",
    "    set_by_release_type_y[set_by_release_type_y > 0],\n",
    "    annot=True,\n",
    "    fmt=\"g\",\n",
    "    cmap=\"viridis\",\n",
    "    square=True,\n",
    ")\n",
    "plt.show()"
   ]
  },
  {
   "cell_type": "code",
   "execution_count": null,
   "id": "91",
   "metadata": {
    "papermill": {
     "duration": 24.769073,
     "end_time": "2024-09-08T19:43:32.369057",
     "exception": false,
     "start_time": "2024-09-08T19:43:07.599984",
     "status": "completed"
    },
    "tags": []
   },
   "outputs": [],
   "source": [
    "plot.rate_subplots(set_by_release_type, title=\"Set releases\")"
   ]
  },
  {
   "cell_type": "markdown",
   "id": "92",
   "metadata": {
    "papermill": {
     "duration": 0.419957,
     "end_time": "2024-09-08T19:43:33.257092",
     "exception": false,
     "start_time": "2024-09-08T19:43:32.837135",
     "status": "completed"
    },
    "tags": []
   },
   "source": [
    "# Debug"
   ]
  },
  {
   "cell_type": "markdown",
   "id": "93",
   "metadata": {
    "papermill": {
     "duration": 0.41717,
     "end_time": "2024-09-08T19:43:34.095879",
     "exception": false,
     "start_time": "2024-09-08T19:43:33.678709",
     "status": "completed"
    },
    "tags": []
   },
   "source": [
    "This section is used for debugging the extraction of data from MediaWiki query responses"
   ]
  },
  {
   "cell_type": "markdown",
   "id": "94",
   "metadata": {
    "papermill": {
     "duration": 0.414985,
     "end_time": "2024-09-08T19:43:34.926356",
     "exception": false,
     "start_time": "2024-09-08T19:43:34.511371",
     "status": "completed"
    },
    "tags": []
   },
   "source": [
    "## Has nan name/number"
   ]
  },
  {
   "cell_type": "code",
   "execution_count": null,
   "id": "95",
   "metadata": {
    "papermill": {
     "duration": 0.491054,
     "end_time": "2024-09-08T19:43:35.836438",
     "exception": false,
     "start_time": "2024-09-08T19:43:35.345384",
     "status": "completed"
    },
    "tags": []
   },
   "outputs": [],
   "source": [
    "all_set_lists_df[\n",
    "    all_set_lists_df[\"Name\"].isna() | all_set_lists_df[\"Card number\"].isna()\n",
    "]"
   ]
  },
  {
   "cell_type": "markdown",
   "id": "96",
   "metadata": {
    "papermill": {
     "duration": 0.418974,
     "end_time": "2024-09-08T19:43:36.687752",
     "exception": false,
     "start_time": "2024-09-08T19:43:36.268778",
     "status": "completed"
    },
    "tags": []
   },
   "source": [
    "## Has nan rarity"
   ]
  },
  {
   "cell_type": "code",
   "execution_count": null,
   "id": "97",
   "metadata": {
    "papermill": {
     "duration": 1.342915,
     "end_time": "2024-09-08T19:43:38.446486",
     "exception": false,
     "start_time": "2024-09-08T19:43:37.103571",
     "status": "completed"
    },
    "tags": []
   },
   "outputs": [],
   "source": [
    "all_set_lists_df.explode(\"Rarity\")[all_set_lists_df.explode(\"Rarity\")[\"Rarity\"].isna()][\n",
    "    \"Set\"\n",
    "].unique()"
   ]
  },
  {
   "cell_type": "markdown",
   "id": "98",
   "metadata": {
    "papermill": {
     "duration": 0.41968,
     "end_time": "2024-09-08T19:43:39.288468",
     "exception": false,
     "start_time": "2024-09-08T19:43:38.868788",
     "status": "completed"
    },
    "tags": []
   },
   "source": [
    "## Has nan release"
   ]
  },
  {
   "cell_type": "code",
   "execution_count": null,
   "id": "99",
   "metadata": {
    "papermill": {
     "duration": 0.431422,
     "end_time": "2024-09-08T19:43:40.136085",
     "exception": false,
     "start_time": "2024-09-08T19:43:39.704663",
     "status": "completed"
    },
    "tags": []
   },
   "outputs": [],
   "source": [
    "all_set_lists_df[all_set_lists_df[\"Release\"].isna()][\"Set\"].unique()"
   ]
  },
  {
   "cell_type": "markdown",
   "id": "100",
   "metadata": {
    "papermill": {
     "duration": 0.426972,
     "end_time": "2024-09-08T19:43:40.991661",
     "exception": false,
     "start_time": "2024-09-08T19:43:40.564689",
     "status": "completed"
    },
    "tags": []
   },
   "source": [
    " # Epilogue"
   ]
  },
  {
   "cell_type": "code",
   "execution_count": null,
   "id": "101",
   "metadata": {
    "papermill": {
     "duration": 0.590075,
     "end_time": "2024-09-08T19:43:42.000616",
     "exception": false,
     "start_time": "2024-09-08T19:43:41.410541",
     "status": "completed"
    },
    "tags": []
   },
   "outputs": [],
   "source": [
    "benchmark(report=\"sets\", timestamp=timestamp)"
   ]
  },
  {
   "cell_type": "code",
   "execution_count": null,
   "id": "102",
   "metadata": {
    "papermill": {
     "duration": 0.429535,
     "end_time": "2024-09-08T19:43:42.842607",
     "exception": false,
     "start_time": "2024-09-08T19:43:42.413072",
     "status": "completed"
    },
    "tags": []
   },
   "outputs": [],
   "source": [
    "footer()"
   ]
  },
  {
   "cell_type": "markdown",
   "id": "103",
   "metadata": {
    "papermill": {
     "duration": 0.418278,
     "end_time": "2024-09-08T19:43:43.673145",
     "exception": false,
     "start_time": "2024-09-08T19:43:43.254867",
     "status": "completed"
    },
    "tags": []
   },
   "source": [
    "## HTML export"
   ]
  },
  {
   "cell_type": "code",
   "execution_count": null,
   "id": "104",
   "metadata": {
    "papermill": {
     "duration": 0.42147,
     "end_time": "2024-09-08T19:43:44.519692",
     "exception": false,
     "start_time": "2024-09-08T19:43:44.098222",
     "status": "completed"
    },
    "tags": []
   },
   "outputs": [],
   "source": [
    "# May need to sleep for a few seconds after saving\n",
    "save_notebook()"
   ]
  },
  {
   "cell_type": "code",
   "execution_count": null,
   "id": "105",
   "metadata": {
    "papermill": {
     "duration": 1.860062,
     "end_time": "2024-09-08T19:43:46.794247",
     "exception": false,
     "start_time": "2024-09-08T19:43:44.934185",
     "status": "completed"
    },
    "tags": []
   },
   "outputs": [],
   "source": [
    "export_notebook(dirs.NOTEBOOKS / \"Sets.ipynb\")"
   ]
  },
  {
   "cell_type": "markdown",
   "id": "106",
   "metadata": {
    "papermill": {
     "duration": 0.628838,
     "end_time": "2024-09-08T19:43:47.949173",
     "exception": false,
     "start_time": "2024-09-08T19:43:47.320335",
     "status": "completed"
    },
    "tags": [
     "exclude"
    ]
   },
   "source": [
    "## Git"
   ]
  },
  {
   "cell_type": "code",
   "execution_count": null,
   "id": "107",
   "metadata": {
    "papermill": {
     "duration": 2.071619,
     "end_time": "2024-09-08T19:43:50.541312",
     "exception": false,
     "start_time": "2024-09-08T19:43:48.469693",
     "status": "completed"
    },
    "tags": []
   },
   "outputs": [],
   "source": [
    "git.commit(\"*[Ss]ets[._]*\", f\"Sets update - {timestamp.isoformat()}\")"
   ]
  }
 ],
 "metadata": {
  "kernelspec": {
   "display_name": "Python 3 (ipykernel)",
   "language": "python",
   "name": "python3"
  },
  "language_info": {
   "codemirror_mode": {
    "name": "ipython",
    "version": 3
   },
   "file_extension": ".py",
   "mimetype": "text/x-python",
   "name": "python",
   "nbconvert_exporter": "python",
   "pygments_lexer": "ipython3",
   "version": "3.12.5"
  },
  "papermill": {
   "default_parameters": {},
   "duration": 254.190181,
   "end_time": "2024-09-08T19:43:53.637164",
   "environment_variables": {},
   "exception": null,
   "input_path": "/Users/Guigoruiz1/Documents/Python/Yugiquery/notebooks/Sets.ipynb",
   "output_path": "/Users/Guigoruiz1/Documents/Python/Yugiquery/notebooks/Sets.ipynb",
   "parameters": {},
   "start_time": "2024-09-08T19:39:39.446983",
   "version": "2.6.0"
  },
  "toc": {
   "base_numbering": 1,
   "nav_menu": {},
   "number_sections": true,
   "sideBar": true,
   "skip_h1_title": false,
   "title_cell": "Table of Contents",
   "title_sidebar": "Contents",
   "toc_cell": true,
   "toc_position": {
    "height": "calc(100% - 180px)",
    "left": "10px",
    "top": "150px",
    "width": "288px"
   },
   "toc_section_display": true,
   "toc_window_display": true
  },
  "toc-autonumbering": false,
  "toc-showcode": false,
  "toc-showmarkdowntxt": false,
  "toc-showtags": false
 },
 "nbformat": 4,
 "nbformat_minor": 5
}
