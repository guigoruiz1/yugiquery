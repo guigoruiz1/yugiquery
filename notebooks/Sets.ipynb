{
 "cells": [
  {
   "cell_type": "code",
   "execution_count": null,
   "id": "0",
   "metadata": {
    "papermill": {
     "duration": 3.550785,
     "end_time": "2025-07-12T06:08:25.925582",
     "exception": false,
     "start_time": "2025-07-12T06:08:22.374797",
     "status": "completed"
    },
    "tags": []
   },
   "outputs": [],
   "source": [
    "from yugiquery import *\n",
    "\n",
    "init_notebook_mode(all_interactive=True)\n",
    "\n",
    "header(\"Sets\")"
   ]
  },
  {
   "cell_type": "markdown",
   "id": "1",
   "metadata": {
    "papermill": {
     "duration": 0.049696,
     "end_time": "2025-07-12T06:08:26.031636",
     "exception": false,
     "start_time": "2025-07-12T06:08:25.981940",
     "status": "completed"
    },
    "tags": []
   },
   "source": [
    "---"
   ]
  },
  {
   "cell_type": "markdown",
   "id": "2",
   "metadata": {
    "papermill": {
     "duration": 0.062618,
     "end_time": "2025-07-12T06:08:26.346614",
     "exception": false,
     "start_time": "2025-07-12T06:08:26.283996",
     "status": "completed"
    },
    "tags": []
   },
   "source": [
    "Table of Contents <a class=\"jp-toc-ignore\"></a>\n",
    "=================\n",
    "* [1 Data aquisition](#data-aquisition)\n",
    "  * [1.1 Fetch set lists](#fetch-set-lists)\n",
    "  * [1.2 Fetch set properties](#fetch-set-properties)\n",
    "  * [1.3 Merge data](#merge-data)\n",
    "* [2 Check changes](#check-changes)\n",
    "  * [2.1 Load previous data](#load-previous-data)\n",
    "  * [2.2 Generate changelog](#generate-changelog)\n",
    "  * [2.3 Save data](#save-data)\n",
    "* [3 Data visualization](#data-visualization)\n",
    "  * [3.1 Full data](#full-data)\n",
    "  * [3.2 Set](#set)\n",
    "  * [3.3 Card number](#card-number)\n",
    "  * [3.4 Name](#name)\n",
    "  * [3.5 Rarity](#rarity)\n",
    "    * [3.5.1 By unique](#by-unique)\n",
    "    * [3.5.2 By combination](#by-combination)\n",
    "  * [3.6 Print](#print)\n",
    "  * [3.7 Quantity](#quantity)\n",
    "  * [3.8 Region](#region)\n",
    "  * [3.9 Cover card](#cover-card)\n",
    "  * [3.10 Series](#series)\n",
    "  * [3.11 Set type](#set-type)\n",
    "  * [3.12 Release](#release)\n",
    "    * [3.12.1 By year](#by-year)\n",
    "    * [3.12.2 By month](#by-month)\n",
    "    * [3.12.3 By day](#by-day)\n",
    "    * [3.12.4 By region](#by-region)\n",
    "    * [3.12.5 By series](#by-series)\n",
    "    * [3.12.6 By set type](#by-set-type)\n",
    "* [4 Debug](#debug)\n",
    "  * [4.1 Has nan name/number](#has-nan-name/number)\n",
    "  * [4.2 Has nan rarity](#has-nan-rarity)\n",
    "  * [4.3 Has nan release](#has-nan-release)\n",
    "  * [4.4 HTML export](#html-export)\n",
    "  <!-- * [4.5 Git](#git) -->"
   ]
  },
  {
   "cell_type": "markdown",
   "id": "3",
   "metadata": {
    "papermill": {
     "duration": 0.052857,
     "end_time": "2025-07-12T06:08:26.479597",
     "exception": false,
     "start_time": "2025-07-12T06:08:26.426740",
     "status": "completed"
    },
    "tags": []
   },
   "source": [
    "# Data aquisition"
   ]
  },
  {
   "cell_type": "markdown",
   "id": "4",
   "metadata": {
    "papermill": {
     "duration": 0.055634,
     "end_time": "2025-07-12T06:08:26.649102",
     "exception": false,
     "start_time": "2025-07-12T06:08:26.593468",
     "status": "completed"
    },
    "tags": []
   },
   "source": [
    "## Fetch set lists"
   ]
  },
  {
   "cell_type": "code",
   "execution_count": null,
   "id": "5",
   "metadata": {
    "code_folding": [],
    "papermill": {
     "duration": 168.566952,
     "end_time": "2025-07-12T06:11:15.432460",
     "exception": false,
     "start_time": "2025-07-12T06:08:26.865508",
     "status": "completed"
    },
    "tags": []
   },
   "outputs": [],
   "source": [
    "# Timestamp\n",
    "timestamp = arrow.utcnow()\n",
    "\n",
    "all_set_lists_df = fetch_all_set_lists()"
   ]
  },
  {
   "cell_type": "markdown",
   "id": "6",
   "metadata": {
    "papermill": {
     "duration": 0.124815,
     "end_time": "2025-07-12T06:11:15.614708",
     "exception": false,
     "start_time": "2025-07-12T06:11:15.489893",
     "status": "completed"
    },
    "tags": []
   },
   "source": [
    "## Fetch set properties"
   ]
  },
  {
   "cell_type": "code",
   "execution_count": null,
   "id": "7",
   "metadata": {
    "papermill": {
     "duration": 53.508953,
     "end_time": "2025-07-12T06:12:09.179932",
     "exception": false,
     "start_time": "2025-07-12T06:11:15.670979",
     "status": "completed"
    },
    "tags": []
   },
   "outputs": [],
   "source": [
    "# List of sets to ask\n",
    "sets = all_set_lists_df[\"Set\"].unique()\n",
    "set_info_df = api.fetch_set_info(*sets)"
   ]
  },
  {
   "cell_type": "markdown",
   "id": "8",
   "metadata": {
    "papermill": {
     "duration": 0.069366,
     "end_time": "2025-07-12T06:12:09.312103",
     "exception": false,
     "start_time": "2025-07-12T06:12:09.242737",
     "status": "completed"
    },
    "tags": []
   },
   "source": [
    "## Merge data"
   ]
  },
  {
   "cell_type": "code",
   "execution_count": null,
   "id": "9",
   "metadata": {
    "papermill": {
     "duration": 158.774806,
     "end_time": "2025-07-12T06:14:48.197651",
     "exception": false,
     "start_time": "2025-07-12T06:12:09.422845",
     "status": "completed"
    },
    "tags": []
   },
   "outputs": [],
   "source": [
    "# Add properties to set lists\n",
    "all_set_lists_df = merge_set_info(all_set_lists_df, set_info_df)"
   ]
  },
  {
   "cell_type": "markdown",
   "id": "10",
   "metadata": {
    "papermill": {
     "duration": 0.293429,
     "end_time": "2025-07-12T06:14:48.844916",
     "exception": false,
     "start_time": "2025-07-12T06:14:48.551487",
     "status": "completed"
    },
    "tags": []
   },
   "source": [
    "# Check changes"
   ]
  },
  {
   "cell_type": "markdown",
   "id": "11",
   "metadata": {
    "papermill": {
     "duration": 0.668067,
     "end_time": "2025-07-12T06:14:49.625758",
     "exception": false,
     "start_time": "2025-07-12T06:14:48.957691",
     "status": "completed"
    },
    "tags": []
   },
   "source": [
    "## Load previous data"
   ]
  },
  {
   "cell_type": "code",
   "execution_count": null,
   "id": "12",
   "metadata": {
    "papermill": {
     "duration": 12.536008,
     "end_time": "2025-07-12T06:15:02.424081",
     "exception": false,
     "start_time": "2025-07-12T06:14:49.888073",
     "status": "completed"
    },
    "tags": []
   },
   "outputs": [],
   "source": [
    "# Get latest file if exist\n",
    "tuple_cols = [\"Rarity\", \"Cover card\"]\n",
    "previous_df, previous_ts = load_latest_data(\"sets\", tuple_cols, return_ts=True)\n",
    "\n",
    "if previous_df is not None:\n",
    "    previous_df = previous_df.astype(\n",
    "        all_set_lists_df[previous_df.columns.intersection(all_set_lists_df.columns)].dtypes.to_dict()\n",
    "    )"
   ]
  },
  {
   "cell_type": "markdown",
   "id": "13",
   "metadata": {
    "papermill": {
     "duration": 0.252555,
     "end_time": "2025-07-12T06:15:02.739010",
     "exception": false,
     "start_time": "2025-07-12T06:15:02.486455",
     "status": "completed"
    },
    "tags": []
   },
   "source": [
    "## Generate changelog"
   ]
  },
  {
   "cell_type": "code",
   "execution_count": null,
   "id": "14",
   "metadata": {
    "papermill": {
     "duration": 6.166594,
     "end_time": "2025-07-12T06:15:09.359711",
     "exception": false,
     "start_time": "2025-07-12T06:15:03.193117",
     "status": "completed"
    },
    "tags": []
   },
   "outputs": [],
   "source": [
    "if previous_df is None:\n",
    "    changelog = None\n",
    "    print(\"Skipped\")\n",
    "else:\n",
    "    changelog = generate_changelog(previous_df, all_set_lists_df, col=\"Card number\")\n",
    "    if not changelog.empty:\n",
    "        display(changelog)\n",
    "        changelog.to_csv(\n",
    "            dirs.DATA / make_filename(report=\"sets\", timestamp=timestamp, previous_timestamp=previous_ts),\n",
    "            index=True,\n",
    "        )\n",
    "        print(\"Changelog saved\")"
   ]
  },
  {
   "cell_type": "markdown",
   "id": "15",
   "metadata": {
    "papermill": {
     "duration": 0.31188,
     "end_time": "2025-07-12T06:15:09.739056",
     "exception": false,
     "start_time": "2025-07-12T06:15:09.427176",
     "status": "completed"
    },
    "tags": []
   },
   "source": [
    "## Save data"
   ]
  },
  {
   "cell_type": "code",
   "execution_count": null,
   "id": "16",
   "metadata": {
    "papermill": {
     "duration": 22.246029,
     "end_time": "2025-07-12T06:15:32.047104",
     "exception": false,
     "start_time": "2025-07-12T06:15:09.801075",
     "status": "completed"
    },
    "tags": []
   },
   "outputs": [],
   "source": [
    "if changelog is not None and changelog.empty:\n",
    "    print(\"No changes. New data not saved\")\n",
    "else:\n",
    "    all_set_lists_df.to_csv(\n",
    "        dirs.DATA / make_filename(report=\"sets\", timestamp=timestamp),\n",
    "        index=False,\n",
    "    )\n",
    "    print(\"Data saved\")"
   ]
  },
  {
   "cell_type": "markdown",
   "id": "17",
   "metadata": {
    "papermill": {
     "duration": 0.097442,
     "end_time": "2025-07-12T06:15:32.207501",
     "exception": false,
     "start_time": "2025-07-12T06:15:32.110059",
     "status": "completed"
    },
    "tags": []
   },
   "source": [
    "# Data visualization"
   ]
  },
  {
   "cell_type": "markdown",
   "id": "18",
   "metadata": {
    "jp-MarkdownHeadingCollapsed": true,
    "papermill": {
     "duration": 0.065416,
     "end_time": "2025-07-12T06:15:32.342029",
     "exception": false,
     "start_time": "2025-07-12T06:15:32.276613",
     "status": "completed"
    },
    "tags": []
   },
   "source": [
    "## Full data"
   ]
  },
  {
   "cell_type": "code",
   "execution_count": null,
   "id": "19",
   "metadata": {
    "papermill": {
     "duration": 0.300221,
     "end_time": "2025-07-12T06:15:32.710759",
     "exception": false,
     "start_time": "2025-07-12T06:15:32.410538",
     "status": "completed"
    },
    "tags": []
   },
   "outputs": [],
   "source": [
    "all_set_lists_df"
   ]
  },
  {
   "cell_type": "markdown",
   "id": "20",
   "metadata": {
    "papermill": {
     "duration": 0.146402,
     "end_time": "2025-07-12T06:15:32.964877",
     "exception": false,
     "start_time": "2025-07-12T06:15:32.818475",
     "status": "completed"
    },
    "tags": []
   },
   "source": [
    "Full data available [here](../data)"
   ]
  },
  {
   "cell_type": "markdown",
   "id": "21",
   "metadata": {
    "jp-MarkdownHeadingCollapsed": true,
    "papermill": {
     "duration": 0.076737,
     "end_time": "2025-07-12T06:15:33.147068",
     "exception": false,
     "start_time": "2025-07-12T06:15:33.070331",
     "status": "completed"
    },
    "tags": []
   },
   "source": [
    "## Set"
   ]
  },
  {
   "cell_type": "code",
   "execution_count": null,
   "id": "22",
   "metadata": {
    "papermill": {
     "duration": 0.116362,
     "end_time": "2025-07-12T06:15:33.661399",
     "exception": false,
     "start_time": "2025-07-12T06:15:33.545037",
     "status": "completed"
    },
    "tags": []
   },
   "outputs": [],
   "source": [
    "print(\"Total number of sets:\", all_set_lists_df[\"Set\"].nunique())"
   ]
  },
  {
   "cell_type": "code",
   "execution_count": null,
   "id": "23",
   "metadata": {
    "papermill": {
     "duration": 1.285164,
     "end_time": "2025-07-12T06:15:35.020696",
     "exception": false,
     "start_time": "2025-07-12T06:15:33.735532",
     "status": "completed"
    },
    "tags": []
   },
   "outputs": [],
   "source": [
    "all_set_lists_df.groupby(\"Set\", dropna=False).nunique()"
   ]
  },
  {
   "cell_type": "code",
   "execution_count": null,
   "id": "24",
   "metadata": {
    "papermill": {
     "duration": 1.27666,
     "end_time": "2025-07-12T06:15:36.748853",
     "exception": false,
     "start_time": "2025-07-12T06:15:35.472193",
     "status": "completed"
    },
    "tags": []
   },
   "outputs": [],
   "source": [
    "all_set_lists_df.groupby(\"Set\", dropna=False).nunique().describe()"
   ]
  },
  {
   "cell_type": "markdown",
   "id": "25",
   "metadata": {
    "jp-MarkdownHeadingCollapsed": true,
    "papermill": {
     "duration": 0.196756,
     "end_time": "2025-07-12T06:15:37.046721",
     "exception": false,
     "start_time": "2025-07-12T06:15:36.849965",
     "status": "completed"
    },
    "tags": []
   },
   "source": [
    "## Card number"
   ]
  },
  {
   "cell_type": "code",
   "execution_count": null,
   "id": "26",
   "metadata": {
    "papermill": {
     "duration": 0.252853,
     "end_time": "2025-07-12T06:15:37.438213",
     "exception": false,
     "start_time": "2025-07-12T06:15:37.185360",
     "status": "completed"
    },
    "tags": []
   },
   "outputs": [],
   "source": [
    "print(\"Total number of card numbers:\", all_set_lists_df[\"Card number\"].nunique())"
   ]
  },
  {
   "cell_type": "code",
   "execution_count": null,
   "id": "27",
   "metadata": {
    "papermill": {
     "duration": 1.978964,
     "end_time": "2025-07-12T06:15:39.749209",
     "exception": false,
     "start_time": "2025-07-12T06:15:37.770245",
     "status": "completed"
    },
    "tags": []
   },
   "outputs": [],
   "source": [
    "all_set_lists_df.groupby(\"Card number\", dropna=False).nunique()"
   ]
  },
  {
   "cell_type": "markdown",
   "id": "28",
   "metadata": {
    "jp-MarkdownHeadingCollapsed": true,
    "papermill": {
     "duration": 0.06565,
     "end_time": "2025-07-12T06:15:39.884411",
     "exception": false,
     "start_time": "2025-07-12T06:15:39.818761",
     "status": "completed"
    },
    "tags": []
   },
   "source": [
    "## Name"
   ]
  },
  {
   "cell_type": "code",
   "execution_count": null,
   "id": "29",
   "metadata": {
    "papermill": {
     "duration": 0.213228,
     "end_time": "2025-07-12T06:15:40.171424",
     "exception": false,
     "start_time": "2025-07-12T06:15:39.958196",
     "status": "completed"
    },
    "tags": []
   },
   "outputs": [],
   "source": [
    "print(\"Total number of card names:\", all_set_lists_df[\"Name\"].nunique())"
   ]
  },
  {
   "cell_type": "code",
   "execution_count": null,
   "id": "30",
   "metadata": {
    "papermill": {
     "duration": 1.175668,
     "end_time": "2025-07-12T06:15:41.775739",
     "exception": false,
     "start_time": "2025-07-12T06:15:40.600071",
     "status": "completed"
    },
    "tags": []
   },
   "outputs": [],
   "source": [
    "all_set_lists_df.groupby(\"Name\", dropna=False).nunique()"
   ]
  },
  {
   "cell_type": "code",
   "execution_count": null,
   "id": "31",
   "metadata": {
    "papermill": {
     "duration": 1.339207,
     "end_time": "2025-07-12T06:15:43.247203",
     "exception": false,
     "start_time": "2025-07-12T06:15:41.907996",
     "status": "completed"
    },
    "tags": []
   },
   "outputs": [],
   "source": [
    "all_set_lists_df.groupby(\"Name\", dropna=True).nunique().describe()"
   ]
  },
  {
   "cell_type": "markdown",
   "id": "32",
   "metadata": {
    "papermill": {
     "duration": 0.122242,
     "end_time": "2025-07-12T06:15:43.457430",
     "exception": false,
     "start_time": "2025-07-12T06:15:43.335188",
     "status": "completed"
    },
    "tags": []
   },
   "source": [
    "## Rarity"
   ]
  },
  {
   "cell_type": "code",
   "execution_count": null,
   "id": "33",
   "metadata": {
    "papermill": {
     "duration": 0.846874,
     "end_time": "2025-07-12T06:15:44.385893",
     "exception": false,
     "start_time": "2025-07-12T06:15:43.539019",
     "status": "completed"
    },
    "tags": []
   },
   "outputs": [],
   "source": [
    "print(\"Total number of rarities:\", all_set_lists_df[\"Rarity\"].explode().nunique())"
   ]
  },
  {
   "cell_type": "markdown",
   "id": "34",
   "metadata": {
    "papermill": {
     "duration": 0.084912,
     "end_time": "2025-07-12T06:15:44.544802",
     "exception": false,
     "start_time": "2025-07-12T06:15:44.459890",
     "status": "completed"
    },
    "tags": []
   },
   "source": [
    "### By unique"
   ]
  },
  {
   "cell_type": "code",
   "execution_count": null,
   "id": "35",
   "metadata": {
    "papermill": {
     "duration": 3.131541,
     "end_time": "2025-07-12T06:15:47.756146",
     "exception": false,
     "start_time": "2025-07-12T06:15:44.624605",
     "status": "completed"
    },
    "tags": []
   },
   "outputs": [],
   "source": [
    "all_set_lists_df.explode(\"Rarity\").groupby(\"Rarity\", dropna=False).nunique()"
   ]
  },
  {
   "cell_type": "code",
   "execution_count": null,
   "id": "36",
   "metadata": {
    "papermill": {
     "duration": 3.539547,
     "end_time": "2025-07-12T06:15:51.370359",
     "exception": false,
     "start_time": "2025-07-12T06:15:47.830812",
     "status": "completed"
    },
    "tags": []
   },
   "outputs": [],
   "source": [
    "all_set_lists_df[\"Rarity\"].explode().value_counts().plot.barh(figsize=(10, 20))\n",
    "plt.xscale(\"log\")\n",
    "plt.show()"
   ]
  },
  {
   "cell_type": "markdown",
   "id": "37",
   "metadata": {
    "papermill": {
     "duration": 0.143739,
     "end_time": "2025-07-12T06:15:51.595054",
     "exception": false,
     "start_time": "2025-07-12T06:15:51.451315",
     "status": "completed"
    },
    "tags": []
   },
   "source": [
    "### By combination"
   ]
  },
  {
   "cell_type": "code",
   "execution_count": null,
   "id": "38",
   "metadata": {
    "papermill": {
     "duration": 0.975963,
     "end_time": "2025-07-12T06:15:52.683237",
     "exception": false,
     "start_time": "2025-07-12T06:15:51.707274",
     "status": "completed"
    },
    "tags": []
   },
   "outputs": [],
   "source": [
    "all_set_lists_df.groupby(\"Rarity\", dropna=False).nunique()"
   ]
  },
  {
   "cell_type": "code",
   "execution_count": null,
   "id": "39",
   "metadata": {
    "papermill": {
     "duration": 0.115983,
     "end_time": "2025-07-12T06:15:52.889387",
     "exception": false,
     "start_time": "2025-07-12T06:15:52.773404",
     "status": "completed"
    },
    "tags": []
   },
   "outputs": [],
   "source": [
    "# # Disabled for beeing too large\n",
    "\n",
    "# all_set_lists_df[\"Rarity\"].value_counts().plot.barh(figsize=(10, 80), grid=True)\n",
    "# plt.xscale(\"log\")\n",
    "# plt.show()"
   ]
  },
  {
   "cell_type": "markdown",
   "id": "40",
   "metadata": {
    "papermill": {
     "duration": 0.076601,
     "end_time": "2025-07-12T06:15:53.250395",
     "exception": false,
     "start_time": "2025-07-12T06:15:53.173794",
     "status": "completed"
    },
    "tags": []
   },
   "source": [
    "## Print"
   ]
  },
  {
   "cell_type": "code",
   "execution_count": null,
   "id": "41",
   "metadata": {
    "papermill": {
     "duration": 0.169944,
     "end_time": "2025-07-12T06:15:53.506493",
     "exception": false,
     "start_time": "2025-07-12T06:15:53.336549",
     "status": "completed"
    },
    "tags": []
   },
   "outputs": [],
   "source": [
    "print(\"Total number of prints:\", all_set_lists_df[\"Print\"].nunique())"
   ]
  },
  {
   "cell_type": "code",
   "execution_count": null,
   "id": "42",
   "metadata": {
    "papermill": {
     "duration": 1.057163,
     "end_time": "2025-07-12T06:15:54.675059",
     "exception": false,
     "start_time": "2025-07-12T06:15:53.617896",
     "status": "completed"
    },
    "tags": []
   },
   "outputs": [],
   "source": [
    "all_set_lists_df.groupby(\"Print\", dropna=False).nunique()"
   ]
  },
  {
   "cell_type": "code",
   "execution_count": null,
   "id": "43",
   "metadata": {
    "papermill": {
     "duration": 1.497187,
     "end_time": "2025-07-12T06:15:56.253298",
     "exception": false,
     "start_time": "2025-07-12T06:15:54.756111",
     "status": "completed"
    },
    "tags": []
   },
   "outputs": [],
   "source": [
    "all_set_lists_df[\"Print\"].value_counts().plot.bar(figsize=(18, 6), rot=45)\n",
    "plt.yscale(\"log\")\n",
    "plt.show()"
   ]
  },
  {
   "cell_type": "markdown",
   "id": "44",
   "metadata": {
    "papermill": {
     "duration": 0.50631,
     "end_time": "2025-07-12T06:15:56.884136",
     "exception": false,
     "start_time": "2025-07-12T06:15:56.377826",
     "status": "completed"
    },
    "tags": []
   },
   "source": [
    "## Quantity"
   ]
  },
  {
   "cell_type": "code",
   "execution_count": null,
   "id": "45",
   "metadata": {
    "papermill": {
     "duration": 0.218975,
     "end_time": "2025-07-12T06:15:57.265361",
     "exception": false,
     "start_time": "2025-07-12T06:15:57.046386",
     "status": "completed"
    },
    "tags": []
   },
   "outputs": [],
   "source": [
    "print(\"Total number of quantities:\", all_set_lists_df[\"Quantity\"].nunique())"
   ]
  },
  {
   "cell_type": "code",
   "execution_count": null,
   "id": "46",
   "metadata": {
    "papermill": {
     "duration": 0.908552,
     "end_time": "2025-07-12T06:15:58.261353",
     "exception": false,
     "start_time": "2025-07-12T06:15:57.352801",
     "status": "completed"
    },
    "tags": []
   },
   "outputs": [],
   "source": [
    "all_set_lists_df.groupby(\"Quantity\", dropna=False).nunique()"
   ]
  },
  {
   "cell_type": "markdown",
   "id": "47",
   "metadata": {
    "papermill": {
     "duration": 0.080528,
     "end_time": "2025-07-12T06:15:58.433059",
     "exception": false,
     "start_time": "2025-07-12T06:15:58.352531",
     "status": "completed"
    },
    "tags": []
   },
   "source": [
    "## Region"
   ]
  },
  {
   "cell_type": "code",
   "execution_count": null,
   "id": "48",
   "metadata": {
    "papermill": {
     "duration": 0.124843,
     "end_time": "2025-07-12T06:15:58.802963",
     "exception": false,
     "start_time": "2025-07-12T06:15:58.678120",
     "status": "completed"
    },
    "tags": []
   },
   "outputs": [],
   "source": [
    "print(\"Total number of regions:\", all_set_lists_df[\"Region\"].nunique())"
   ]
  },
  {
   "cell_type": "code",
   "execution_count": null,
   "id": "49",
   "metadata": {
    "papermill": {
     "duration": 0.979741,
     "end_time": "2025-07-12T06:15:59.873218",
     "exception": false,
     "start_time": "2025-07-12T06:15:58.893477",
     "status": "completed"
    },
    "tags": []
   },
   "outputs": [],
   "source": [
    "all_set_lists_df.groupby([\"Set\", \"Region\"], dropna=False).nunique()"
   ]
  },
  {
   "cell_type": "code",
   "execution_count": null,
   "id": "50",
   "metadata": {
    "papermill": {
     "duration": 1.093974,
     "end_time": "2025-07-12T06:16:01.059778",
     "exception": false,
     "start_time": "2025-07-12T06:15:59.965804",
     "status": "completed"
    },
    "tags": []
   },
   "outputs": [],
   "source": [
    "all_set_lists_df.groupby(\"Region\", dropna=False).nunique().describe()"
   ]
  },
  {
   "cell_type": "code",
   "execution_count": null,
   "id": "51",
   "metadata": {
    "papermill": {
     "duration": 0.428967,
     "end_time": "2025-07-12T06:16:01.814596",
     "exception": false,
     "start_time": "2025-07-12T06:16:01.385629",
     "status": "completed"
    },
    "tags": []
   },
   "outputs": [],
   "source": [
    "all_set_lists_df[\"Region\"].value_counts().plot.bar(figsize=(18, 6), rot=0)\n",
    "plt.show()"
   ]
  },
  {
   "cell_type": "markdown",
   "id": "52",
   "metadata": {
    "papermill": {
     "duration": 0.164622,
     "end_time": "2025-07-12T06:16:02.076218",
     "exception": false,
     "start_time": "2025-07-12T06:16:01.911596",
     "status": "completed"
    },
    "tags": []
   },
   "source": [
    "## Cover card"
   ]
  },
  {
   "cell_type": "code",
   "execution_count": null,
   "id": "53",
   "metadata": {
    "papermill": {
     "duration": 0.84578,
     "end_time": "2025-07-12T06:16:03.039711",
     "exception": false,
     "start_time": "2025-07-12T06:16:02.193931",
     "status": "completed"
    },
    "tags": []
   },
   "outputs": [],
   "source": [
    "print(\n",
    "    \"Total number of cover cards:\",\n",
    "    all_set_lists_df[\"Cover card\"].explode(\"Cover card\").nunique(),\n",
    ")"
   ]
  },
  {
   "cell_type": "code",
   "execution_count": null,
   "id": "54",
   "metadata": {
    "papermill": {
     "duration": 3.266422,
     "end_time": "2025-07-12T06:16:06.396945",
     "exception": false,
     "start_time": "2025-07-12T06:16:03.130523",
     "status": "completed"
    },
    "tags": []
   },
   "outputs": [],
   "source": [
    "all_set_lists_df.explode(\"Cover card\").groupby([\"Cover card\"]).nunique()"
   ]
  },
  {
   "cell_type": "code",
   "execution_count": null,
   "id": "55",
   "metadata": {
    "papermill": {
     "duration": 2.663867,
     "end_time": "2025-07-12T06:16:09.152199",
     "exception": false,
     "start_time": "2025-07-12T06:16:06.488332",
     "status": "completed"
    },
    "tags": []
   },
   "outputs": [],
   "source": [
    "all_set_lists_df.explode([\"Cover card\"]).groupby(\"Cover card\")[\"Set\"].nunique().sort_values().tail(30).plot.barh(\n",
    "    figsize=(10, 10), title=\"Top 30 Cover Cards\"\n",
    ")\n",
    "plt.show()"
   ]
  },
  {
   "cell_type": "markdown",
   "id": "56",
   "metadata": {
    "papermill": {
     "duration": 0.566513,
     "end_time": "2025-07-12T06:16:09.825817",
     "exception": false,
     "start_time": "2025-07-12T06:16:09.259304",
     "status": "completed"
    },
    "tags": []
   },
   "source": [
    "## Series"
   ]
  },
  {
   "cell_type": "code",
   "execution_count": null,
   "id": "57",
   "metadata": {
    "papermill": {
     "duration": 0.208769,
     "end_time": "2025-07-12T06:16:10.230481",
     "exception": false,
     "start_time": "2025-07-12T06:16:10.021712",
     "status": "completed"
    },
    "tags": []
   },
   "outputs": [],
   "source": [
    "print(\"Total number of series:\", all_set_lists_df[\"Series\"].nunique())"
   ]
  },
  {
   "cell_type": "code",
   "execution_count": null,
   "id": "58",
   "metadata": {
    "papermill": {
     "duration": 1.239205,
     "end_time": "2025-07-12T06:16:11.584981",
     "exception": false,
     "start_time": "2025-07-12T06:16:10.345776",
     "status": "completed"
    },
    "tags": []
   },
   "outputs": [],
   "source": [
    "all_set_lists_df.groupby(\"Series\").nunique()"
   ]
  },
  {
   "cell_type": "code",
   "execution_count": null,
   "id": "59",
   "metadata": {
    "papermill": {
     "duration": 2.114285,
     "end_time": "2025-07-12T06:16:13.969738",
     "exception": false,
     "start_time": "2025-07-12T06:16:11.855453",
     "status": "completed"
    },
    "tags": []
   },
   "outputs": [],
   "source": [
    "all_set_lists_df.explode([\"Series\"]).groupby(\"Series\")[\"Set\"].nunique().sort_values(ascending=False).plot.barh(\n",
    "    figsize=(10, 18)\n",
    ")\n",
    "plt.show()"
   ]
  },
  {
   "cell_type": "markdown",
   "id": "60",
   "metadata": {
    "papermill": {
     "duration": 0.106311,
     "end_time": "2025-07-12T06:16:14.181343",
     "exception": false,
     "start_time": "2025-07-12T06:16:14.075032",
     "status": "completed"
    },
    "tags": []
   },
   "source": [
    "## Set type"
   ]
  },
  {
   "cell_type": "code",
   "execution_count": null,
   "id": "61",
   "metadata": {
    "papermill": {
     "duration": 0.289271,
     "end_time": "2025-07-12T06:16:14.575960",
     "exception": false,
     "start_time": "2025-07-12T06:16:14.286689",
     "status": "completed"
    },
    "tags": []
   },
   "outputs": [],
   "source": [
    "print(\"Total number of set types:\", all_set_lists_df[\"Set type\"].nunique())"
   ]
  },
  {
   "cell_type": "code",
   "execution_count": null,
   "id": "62",
   "metadata": {
    "papermill": {
     "duration": 1.429771,
     "end_time": "2025-07-12T06:16:16.113912",
     "exception": false,
     "start_time": "2025-07-12T06:16:14.684141",
     "status": "completed"
    },
    "tags": []
   },
   "outputs": [],
   "source": [
    "all_set_lists_df.groupby(\"Set type\").nunique()"
   ]
  },
  {
   "cell_type": "code",
   "execution_count": null,
   "id": "63",
   "metadata": {
    "papermill": {
     "duration": 0.696511,
     "end_time": "2025-07-12T06:16:16.918944",
     "exception": false,
     "start_time": "2025-07-12T06:16:16.222433",
     "status": "completed"
    },
    "tags": []
   },
   "outputs": [],
   "source": [
    "set_info_df[\"Set type\"].value_counts().plot.barh(figsize=(10, 12))\n",
    "plt.show()"
   ]
  },
  {
   "cell_type": "markdown",
   "id": "64",
   "metadata": {
    "papermill": {
     "duration": 0.43968,
     "end_time": "2025-07-12T06:16:17.474860",
     "exception": false,
     "start_time": "2025-07-12T06:16:17.035180",
     "status": "completed"
    },
    "tags": []
   },
   "source": [
    "## Release"
   ]
  },
  {
   "cell_type": "code",
   "execution_count": null,
   "id": "65",
   "metadata": {
    "papermill": {
     "duration": 0.247322,
     "end_time": "2025-07-12T06:16:17.834361",
     "exception": false,
     "start_time": "2025-07-12T06:16:17.587039",
     "status": "completed"
    },
    "tags": []
   },
   "outputs": [],
   "source": [
    "print(\"Total number of release dates:\", all_set_lists_df[\"Release\"].nunique())"
   ]
  },
  {
   "cell_type": "code",
   "execution_count": null,
   "id": "66",
   "metadata": {
    "papermill": {
     "duration": 1.176344,
     "end_time": "2025-07-12T06:16:19.124407",
     "exception": false,
     "start_time": "2025-07-12T06:16:17.948063",
     "status": "completed"
    },
    "tags": []
   },
   "outputs": [],
   "source": [
    "all_set_lists_df.groupby(\"Release\", dropna=False).nunique()"
   ]
  },
  {
   "cell_type": "code",
   "execution_count": null,
   "id": "67",
   "metadata": {
    "papermill": {
     "duration": 0.16309,
     "end_time": "2025-07-12T06:16:19.400095",
     "exception": false,
     "start_time": "2025-07-12T06:16:19.237005",
     "status": "completed"
    },
    "tags": []
   },
   "outputs": [],
   "source": [
    "set_by_release = pd.DataFrame(all_set_lists_df.groupby(\"Release\", dropna=False)[\"Set\"].nunique())"
   ]
  },
  {
   "cell_type": "markdown",
   "id": "68",
   "metadata": {
    "papermill": {
     "duration": 0.102428,
     "end_time": "2025-07-12T06:16:19.608385",
     "exception": false,
     "start_time": "2025-07-12T06:16:19.505957",
     "status": "completed"
    },
    "tags": []
   },
   "source": [
    "### By year"
   ]
  },
  {
   "cell_type": "code",
   "execution_count": null,
   "id": "69",
   "metadata": {
    "papermill": {
     "duration": 1.555073,
     "end_time": "2025-07-12T06:16:21.274261",
     "exception": false,
     "start_time": "2025-07-12T06:16:19.719188",
     "status": "completed"
    },
    "tags": []
   },
   "outputs": [],
   "source": [
    "all_set_lists_df.drop(\"Modification date\", axis=1).groupby(\"Release\", dropna=False).nunique().groupby(\n",
    "    set_by_release.index.strftime(\"%Y\")\n",
    ").sum()"
   ]
  },
  {
   "cell_type": "code",
   "execution_count": null,
   "id": "70",
   "metadata": {
    "papermill": {
     "duration": 2.712538,
     "end_time": "2025-07-12T06:16:24.470556",
     "exception": false,
     "start_time": "2025-07-12T06:16:21.758018",
     "status": "completed"
    },
    "tags": []
   },
   "outputs": [],
   "source": [
    "_ = plot.rate(set_by_release)\n",
    "plt.show()"
   ]
  },
  {
   "cell_type": "markdown",
   "id": "71",
   "metadata": {
    "papermill": {
     "duration": 0.247941,
     "end_time": "2025-07-12T06:16:24.833142",
     "exception": false,
     "start_time": "2025-07-12T06:16:24.585201",
     "status": "completed"
    },
    "tags": []
   },
   "source": [
    "### By month"
   ]
  },
  {
   "cell_type": "code",
   "execution_count": null,
   "id": "72",
   "metadata": {
    "papermill": {
     "duration": 0.423599,
     "end_time": "2025-07-12T06:16:25.376689",
     "exception": false,
     "start_time": "2025-07-12T06:16:24.953090",
     "status": "completed"
    },
    "tags": []
   },
   "outputs": [],
   "source": [
    "set_by_release.groupby(set_by_release.index.strftime(\"%B\")).sum().sort_index(\n",
    "    key=lambda x: pd.to_datetime(x, format=\"%B\").month\n",
    ").plot.bar(figsize=(16, 8), xlabel=\"Release month\", rot=0)\n",
    "plt.show()"
   ]
  },
  {
   "cell_type": "code",
   "execution_count": null,
   "id": "73",
   "metadata": {
    "papermill": {
     "duration": 0.674848,
     "end_time": "2025-07-12T06:16:26.262369",
     "exception": false,
     "start_time": "2025-07-12T06:16:25.587521",
     "status": "completed"
    },
    "tags": []
   },
   "outputs": [],
   "source": [
    "set_by_release.groupby(set_by_release.index.strftime(\"%d\")).sum().plot.bar(\n",
    "    figsize=(16, 8), xlabel=\"Release day of the month\", rot=0\n",
    ")\n",
    "plt.show()"
   ]
  },
  {
   "cell_type": "markdown",
   "id": "74",
   "metadata": {
    "papermill": {
     "duration": 0.113166,
     "end_time": "2025-07-12T06:16:26.529396",
     "exception": false,
     "start_time": "2025-07-12T06:16:26.416230",
     "status": "completed"
    },
    "tags": []
   },
   "source": [
    "### By day"
   ]
  },
  {
   "cell_type": "code",
   "execution_count": null,
   "id": "75",
   "metadata": {
    "papermill": {
     "duration": 0.297347,
     "end_time": "2025-07-12T06:16:27.203195",
     "exception": false,
     "start_time": "2025-07-12T06:16:26.905848",
     "status": "completed"
    },
    "tags": []
   },
   "outputs": [],
   "source": [
    "set_by_release.groupby(set_by_release.index.dayofyear).sum().plot(\n",
    "    figsize=(16, 8), xlabel=\"Release day of the year\", drawstyle=\"steps-mid\"\n",
    ")\n",
    "plt.show()"
   ]
  },
  {
   "cell_type": "code",
   "execution_count": null,
   "id": "76",
   "metadata": {
    "papermill": {
     "duration": 0.367968,
     "end_time": "2025-07-12T06:16:27.698514",
     "exception": false,
     "start_time": "2025-07-12T06:16:27.330546",
     "status": "completed"
    },
    "tags": []
   },
   "outputs": [],
   "source": [
    "set_by_release_wd = set_by_release.groupby(set_by_release.index.weekday).sum()\n",
    "set_by_release_wd.index = [calendar.day_name[i] for i in set_by_release_wd.index.astype(int)]\n",
    "set_by_release_wd.plot.bar(figsize=(12, 6), xlabel=\"Release day of the week\", rot=0)\n",
    "plt.show()"
   ]
  },
  {
   "cell_type": "markdown",
   "id": "77",
   "metadata": {
    "papermill": {
     "duration": 0.22611,
     "end_time": "2025-07-12T06:16:28.047137",
     "exception": false,
     "start_time": "2025-07-12T06:16:27.821027",
     "status": "completed"
    },
    "tags": []
   },
   "source": [
    "### By region"
   ]
  },
  {
   "cell_type": "code",
   "execution_count": null,
   "id": "78",
   "metadata": {
    "papermill": {
     "duration": 1.574744,
     "end_time": "2025-07-12T06:16:29.952790",
     "exception": false,
     "start_time": "2025-07-12T06:16:28.378046",
     "status": "completed"
    },
    "tags": []
   },
   "outputs": [],
   "source": [
    "by_release_region = all_set_lists_df.groupby([\"Region\", \"Release\"]).nunique()\n",
    "by_release_region"
   ]
  },
  {
   "cell_type": "code",
   "execution_count": null,
   "id": "79",
   "metadata": {
    "papermill": {
     "duration": 0.319119,
     "end_time": "2025-07-12T06:16:30.400335",
     "exception": false,
     "start_time": "2025-07-12T06:16:30.081216",
     "status": "completed"
    },
    "tags": []
   },
   "outputs": [],
   "source": [
    "set_by_release_region = by_release_region[\"Set\"].unstack(0).sort_index().fillna(0).astype(int)\n",
    "set_by_release_region_y = set_by_release_region.groupby(set_by_release_region.index.strftime(\"%Y\")).sum().T\n",
    "set_by_release_region_y"
   ]
  },
  {
   "cell_type": "code",
   "execution_count": null,
   "id": "80",
   "metadata": {
    "papermill": {
     "duration": 3.113322,
     "end_time": "2025-07-12T06:16:33.723359",
     "exception": false,
     "start_time": "2025-07-12T06:16:30.610037",
     "status": "completed"
    },
    "tags": []
   },
   "outputs": [],
   "source": [
    "plt.figure(figsize=(14, 6))\n",
    "sns.heatmap(\n",
    "    set_by_release_region_y[set_by_release_region_y > 0],\n",
    "    annot=True,\n",
    "    fmt=\"g\",\n",
    "    cmap=\"viridis\",\n",
    "    square=True,\n",
    ")\n",
    "plt.show()"
   ]
  },
  {
   "cell_type": "code",
   "execution_count": null,
   "id": "81",
   "metadata": {
    "papermill": {
     "duration": 35.40723,
     "end_time": "2025-07-12T06:17:09.269211",
     "exception": false,
     "start_time": "2025-07-12T06:16:33.861981",
     "status": "completed"
    },
    "tags": []
   },
   "outputs": [],
   "source": [
    "_ = plot.rate(set_by_release_region, subplots=True, title=\"Set releases\")\n",
    "plt.show()"
   ]
  },
  {
   "cell_type": "markdown",
   "id": "82",
   "metadata": {
    "papermill": {
     "duration": 0.316807,
     "end_time": "2025-07-12T06:17:09.837547",
     "exception": false,
     "start_time": "2025-07-12T06:17:09.520740",
     "status": "completed"
    },
    "tags": []
   },
   "source": [
    "### By series"
   ]
  },
  {
   "cell_type": "code",
   "execution_count": null,
   "id": "83",
   "metadata": {
    "papermill": {
     "duration": 2.366364,
     "end_time": "2025-07-12T06:17:12.473400",
     "exception": false,
     "start_time": "2025-07-12T06:17:10.107036",
     "status": "completed"
    },
    "tags": []
   },
   "outputs": [],
   "source": [
    "by_release_series = all_set_lists_df.explode(\"Series\").groupby([\"Series\", \"Release\"]).nunique()\n",
    "by_release_series"
   ]
  },
  {
   "cell_type": "code",
   "execution_count": null,
   "id": "84",
   "metadata": {
    "papermill": {
     "duration": 0.547229,
     "end_time": "2025-07-12T06:17:13.335682",
     "exception": false,
     "start_time": "2025-07-12T06:17:12.788453",
     "status": "completed"
    },
    "tags": []
   },
   "outputs": [],
   "source": [
    "set_by_release_series = by_release_series[\"Set\"].unstack(0).sort_index().fillna(0).astype(int)\n",
    "set_by_release_series_y = set_by_release_series.groupby(set_by_release_series.index.strftime(\"%Y\")).sum().T\n",
    "set_by_release_series_y"
   ]
  },
  {
   "cell_type": "code",
   "execution_count": null,
   "id": "85",
   "metadata": {
    "papermill": {
     "duration": 2.617521,
     "end_time": "2025-07-12T06:17:16.212971",
     "exception": false,
     "start_time": "2025-07-12T06:17:13.595450",
     "status": "completed"
    },
    "tags": []
   },
   "outputs": [],
   "source": [
    "plt.figure(figsize=(16, 30))\n",
    "sns.heatmap(\n",
    "    set_by_release_series_y[set_by_release_series_y > 0],\n",
    "    annot=True,\n",
    "    fmt=\"g\",\n",
    "    cmap=\"viridis\",\n",
    "    square=True,\n",
    "    cbar_kws={\"aspect\": len(set_by_release_series_y.index)},\n",
    ")\n",
    "plt.show()"
   ]
  },
  {
   "cell_type": "code",
   "execution_count": null,
   "id": "86",
   "metadata": {
    "papermill": {
     "duration": 0.284436,
     "end_time": "2025-07-12T06:17:16.808632",
     "exception": false,
     "start_time": "2025-07-12T06:17:16.524196",
     "status": "completed"
    },
    "tags": []
   },
   "outputs": [],
   "source": [
    "# # Disabled for being too large\n",
    "\n",
    "# _ = plot.rate(set_by_release_series, subplots=True, title=\"Set releases\")\n",
    "# plt.show()"
   ]
  },
  {
   "cell_type": "markdown",
   "id": "87",
   "metadata": {
    "papermill": {
     "duration": 0.28291,
     "end_time": "2025-07-12T06:17:17.371027",
     "exception": false,
     "start_time": "2025-07-12T06:17:17.088117",
     "status": "completed"
    },
    "tags": []
   },
   "source": [
    "### By set type"
   ]
  },
  {
   "cell_type": "code",
   "execution_count": null,
   "id": "88",
   "metadata": {
    "papermill": {
     "duration": 2.702134,
     "end_time": "2025-07-12T06:17:20.342505",
     "exception": false,
     "start_time": "2025-07-12T06:17:17.640371",
     "status": "completed"
    },
    "tags": []
   },
   "outputs": [],
   "source": [
    "by_release_type = all_set_lists_df.explode(\"Set type\").groupby([\"Set type\", \"Release\"]).nunique()\n",
    "by_release_type"
   ]
  },
  {
   "cell_type": "code",
   "execution_count": null,
   "id": "89",
   "metadata": {
    "papermill": {
     "duration": 0.581602,
     "end_time": "2025-07-12T06:17:21.244868",
     "exception": false,
     "start_time": "2025-07-12T06:17:20.663266",
     "status": "completed"
    },
    "tags": []
   },
   "outputs": [],
   "source": [
    "set_by_release_type = by_release_type[\"Set\"].unstack(0).sort_index().fillna(0).astype(int)\n",
    "set_by_release_type_y = set_by_release_type.groupby(set_by_release_type.index.strftime(\"%Y\")).sum().T\n",
    "set_by_release_type_y"
   ]
  },
  {
   "cell_type": "code",
   "execution_count": null,
   "id": "90",
   "metadata": {
    "papermill": {
     "duration": 1.80223,
     "end_time": "2025-07-12T06:17:23.584031",
     "exception": false,
     "start_time": "2025-07-12T06:17:21.781801",
     "status": "completed"
    },
    "tags": []
   },
   "outputs": [],
   "source": [
    "plt.figure(figsize=(14, 16))\n",
    "sns.heatmap(\n",
    "    set_by_release_type_y[set_by_release_type_y > 0],\n",
    "    annot=True,\n",
    "    fmt=\"g\",\n",
    "    cmap=\"viridis\",\n",
    "    square=True,\n",
    "    cbar_kws={\"aspect\": len(set_by_release_type_y.index)},\n",
    ")\n",
    "plt.show()"
   ]
  },
  {
   "cell_type": "code",
   "execution_count": null,
   "id": "91",
   "metadata": {
    "papermill": {
     "duration": 0.304872,
     "end_time": "2025-07-12T06:17:24.192520",
     "exception": false,
     "start_time": "2025-07-12T06:17:23.887648",
     "status": "completed"
    },
    "tags": []
   },
   "outputs": [],
   "source": [
    "# # Disabled for being too large\n",
    "\n",
    "# _=plot.rate(set_by_release_type, subplots=True, title=\"Set releases\")\n",
    "# plt.show()"
   ]
  },
  {
   "cell_type": "markdown",
   "id": "92",
   "metadata": {
    "papermill": {
     "duration": 0.318323,
     "end_time": "2025-07-12T06:17:24.825091",
     "exception": false,
     "start_time": "2025-07-12T06:17:24.506768",
     "status": "completed"
    },
    "tags": []
   },
   "source": [
    " # Epilogue"
   ]
  },
  {
   "cell_type": "code",
   "execution_count": null,
   "id": "93",
   "metadata": {
    "papermill": {
     "duration": 11.11465,
     "end_time": "2025-07-12T06:17:36.257810",
     "exception": false,
     "start_time": "2025-07-12T06:17:25.143160",
     "status": "completed"
    },
    "tags": []
   },
   "outputs": [],
   "source": [
    "benchmark(report=\"sets\", timestamp=timestamp)"
   ]
  },
  {
   "cell_type": "code",
   "execution_count": null,
   "id": "94",
   "metadata": {
    "papermill": {
     "duration": 0.31209,
     "end_time": "2025-07-12T06:17:37.079626",
     "exception": false,
     "start_time": "2025-07-12T06:17:36.767536",
     "status": "completed"
    },
    "tags": []
   },
   "outputs": [],
   "source": [
    "footer()"
   ]
  },
  {
   "cell_type": "markdown",
   "id": "95",
   "metadata": {
    "papermill": {
     "duration": 0.375471,
     "end_time": "2025-07-12T06:17:37.754532",
     "exception": false,
     "start_time": "2025-07-12T06:17:37.379061",
     "status": "completed"
    },
    "tags": []
   },
   "source": [
    "## HTML export"
   ]
  },
  {
   "cell_type": "code",
   "execution_count": null,
   "id": "96",
   "metadata": {
    "papermill": {
     "duration": 0.313077,
     "end_time": "2025-07-12T06:17:38.401221",
     "exception": false,
     "start_time": "2025-07-12T06:17:38.088144",
     "status": "completed"
    },
    "tags": []
   },
   "outputs": [],
   "source": [
    "# May need to sleep for a few seconds after saving\n",
    "save_notebook()"
   ]
  },
  {
   "cell_type": "code",
   "execution_count": null,
   "id": "97",
   "metadata": {
    "papermill": {
     "duration": 4.427971,
     "end_time": "2025-07-12T06:17:43.130690",
     "exception": false,
     "start_time": "2025-07-12T06:17:38.702719",
     "status": "completed"
    },
    "tags": []
   },
   "outputs": [],
   "source": [
    "export_notebook(dirs.NOTEBOOKS.user / \"Sets.ipynb\")"
   ]
  },
  {
   "cell_type": "markdown",
   "id": "98",
   "metadata": {
    "papermill": {
     "duration": 0.430473,
     "end_time": "2025-07-12T06:17:43.874483",
     "exception": false,
     "start_time": "2025-07-12T06:17:43.444010",
     "status": "completed"
    },
    "tags": [
     "exclude"
    ]
   },
   "source": [
    "## Git"
   ]
  },
  {
   "cell_type": "code",
   "execution_count": null,
   "id": "99",
   "metadata": {
    "papermill": {
     "duration": null,
     "end_time": null,
     "exception": false,
     "start_time": "2025-07-12T06:17:44.212405",
     "status": "running"
    },
    "tags": [
     "exclude"
    ]
   },
   "outputs": [],
   "source": [
    "git.commit(\"*[Ss]ets[._]*\", f\"Sets update - {timestamp.isoformat()}\")"
   ]
  }
 ],
 "metadata": {
  "kernelspec": {
   "display_name": "venv",
   "language": "python",
   "name": "python3"
  },
  "language_info": {
   "codemirror_mode": {
    "name": "ipython",
    "version": 3
   },
   "file_extension": ".py",
   "mimetype": "text/x-python",
   "name": "python",
   "nbconvert_exporter": "python",
   "pygments_lexer": "ipython3",
   "version": "3.11.6"
  },
  "papermill": {
   "default_parameters": {},
   "duration": null,
   "end_time": null,
   "environment_variables": {},
   "exception": null,
   "input_path": "/home/jovyan/yugiquery/notebooks/Sets.ipynb",
   "output_path": "/home/jovyan/yugiquery/notebooks/Sets.ipynb",
   "parameters": {},
   "start_time": "2025-07-12T06:08:21.395317",
   "version": "2.6.0"
  },
  "toc": {
   "base_numbering": 1,
   "nav_menu": {},
   "number_sections": true,
   "sideBar": true,
   "skip_h1_title": false,
   "title_cell": "Table of Contents",
   "title_sidebar": "Contents",
   "toc_cell": true,
   "toc_position": {
    "height": "calc(100% - 180px)",
    "left": "10px",
    "top": "150px",
    "width": "288px"
   },
   "toc_section_display": true,
   "toc_window_display": true
  },
  "toc-autonumbering": false,
  "toc-showcode": false,
  "toc-showmarkdowntxt": false,
  "toc-showtags": false
 },
 "nbformat": 4,
 "nbformat_minor": 5
}
