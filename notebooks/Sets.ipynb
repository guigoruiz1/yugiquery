{
 "cells": [
  {
   "cell_type": "code",
   "execution_count": null,
   "id": "0",
   "metadata": {
    "papermill": {
     "duration": 6.099771,
     "end_time": "2025-08-09T06:22:27.888873",
     "exception": false,
     "start_time": "2025-08-09T06:22:21.789102",
     "status": "completed"
    },
    "tags": []
   },
   "outputs": [],
   "source": [
    "from yugiquery import *\n",
    "\n",
    "init_notebook_mode(all_interactive=True)\n",
    "\n",
    "header(\"Sets\")"
   ]
  },
  {
   "cell_type": "markdown",
   "id": "1",
   "metadata": {
    "papermill": {
     "duration": 0.061079,
     "end_time": "2025-08-09T06:22:28.011597",
     "exception": false,
     "start_time": "2025-08-09T06:22:27.950518",
     "status": "completed"
    },
    "tags": []
   },
   "source": [
    "---"
   ]
  },
  {
   "cell_type": "markdown",
   "id": "2",
   "metadata": {
    "papermill": {
     "duration": 0.052604,
     "end_time": "2025-08-09T06:22:28.122739",
     "exception": false,
     "start_time": "2025-08-09T06:22:28.070135",
     "status": "completed"
    },
    "tags": []
   },
   "source": [
    "Table of Contents <a class=\"jp-toc-ignore\"></a>\n",
    "=================\n",
    "* [1 Data aquisition](#data-aquisition)\n",
    "  * [1.1 Fetch set lists](#fetch-set-lists)\n",
    "  * [1.2 Fetch set properties](#fetch-set-properties)\n",
    "  * [1.3 Merge data](#merge-data)\n",
    "* [2 Check changes](#check-changes)\n",
    "  * [2.1 Load previous data](#load-previous-data)\n",
    "  * [2.2 Generate changelog](#generate-changelog)\n",
    "  * [2.3 Save data](#save-data)\n",
    "* [3 Data visualization](#data-visualization)\n",
    "  * [3.1 Full data](#full-data)\n",
    "  * [3.2 Set](#set)\n",
    "  * [3.3 Card number](#card-number)\n",
    "  * [3.4 Name](#name)\n",
    "  * [3.5 Rarity](#rarity)\n",
    "    * [3.5.1 By unique](#by-unique)\n",
    "    * [3.5.2 By combination](#by-combination)\n",
    "  * [3.6 Print](#print)\n",
    "  * [3.7 Quantity](#quantity)\n",
    "  * [3.8 Region](#region)\n",
    "  * [3.9 Cover card](#cover-card)\n",
    "  * [3.10 Series](#series)\n",
    "  * [3.11 Set type](#set-type)\n",
    "  * [3.12 Release](#release)\n",
    "    * [3.12.1 By year](#by-year)\n",
    "    * [3.12.2 By month](#by-month)\n",
    "    * [3.12.3 By day](#by-day)\n",
    "    * [3.12.4 By region](#by-region)\n",
    "    * [3.12.5 By series](#by-series)\n",
    "    * [3.12.6 By set type](#by-set-type)\n",
    "* [4 Debug](#debug)\n",
    "  * [4.1 Has nan name/number](#has-nan-name/number)\n",
    "  * [4.2 Has nan rarity](#has-nan-rarity)\n",
    "  * [4.3 Has nan release](#has-nan-release)\n",
    "  * [4.4 HTML export](#html-export)\n",
    "  <!-- * [4.5 Git](#git) -->"
   ]
  },
  {
   "cell_type": "markdown",
   "id": "3",
   "metadata": {
    "papermill": {
     "duration": 0.054327,
     "end_time": "2025-08-09T06:22:28.228613",
     "exception": false,
     "start_time": "2025-08-09T06:22:28.174286",
     "status": "completed"
    },
    "tags": []
   },
   "source": [
    "# Data aquisition"
   ]
  },
  {
   "cell_type": "markdown",
   "id": "4",
   "metadata": {
    "papermill": {
     "duration": 0.083071,
     "end_time": "2025-08-09T06:22:28.368197",
     "exception": false,
     "start_time": "2025-08-09T06:22:28.285126",
     "status": "completed"
    },
    "tags": []
   },
   "source": [
    "## Fetch set lists"
   ]
  },
  {
   "cell_type": "code",
   "execution_count": null,
   "id": "5",
   "metadata": {
    "code_folding": [],
    "papermill": {
     "duration": 396.848095,
     "end_time": "2025-08-09T06:29:05.267586",
     "exception": false,
     "start_time": "2025-08-09T06:22:28.419491",
     "status": "completed"
    },
    "tags": []
   },
   "outputs": [],
   "source": [
    "# Timestamp\n",
    "timestamp = arrow.utcnow()\n",
    "\n",
    "all_set_lists_df = fetch_all_set_lists()"
   ]
  },
  {
   "cell_type": "markdown",
   "id": "6",
   "metadata": {
    "papermill": {
     "duration": 0.093774,
     "end_time": "2025-08-09T06:29:05.421964",
     "exception": false,
     "start_time": "2025-08-09T06:29:05.328190",
     "status": "completed"
    },
    "tags": []
   },
   "source": [
    "## Fetch set properties"
   ]
  },
  {
   "cell_type": "code",
   "execution_count": null,
   "id": "7",
   "metadata": {
    "papermill": {
     "duration": 138.965573,
     "end_time": "2025-08-09T06:31:24.543506",
     "exception": false,
     "start_time": "2025-08-09T06:29:05.577933",
     "status": "completed"
    },
    "tags": []
   },
   "outputs": [],
   "source": [
    "# List of sets to ask\n",
    "sets = all_set_lists_df[\"Set\"].unique()\n",
    "set_info_df = api.fetch_set_info(*sets)"
   ]
  },
  {
   "cell_type": "markdown",
   "id": "8",
   "metadata": {
    "papermill": {
     "duration": 0.147368,
     "end_time": "2025-08-09T06:31:24.745957",
     "exception": false,
     "start_time": "2025-08-09T06:31:24.598589",
     "status": "completed"
    },
    "tags": []
   },
   "source": [
    "## Merge data"
   ]
  },
  {
   "cell_type": "code",
   "execution_count": null,
   "id": "9",
   "metadata": {
    "papermill": {
     "duration": 145.34267,
     "end_time": "2025-08-09T06:33:50.143638",
     "exception": false,
     "start_time": "2025-08-09T06:31:24.800968",
     "status": "completed"
    },
    "tags": []
   },
   "outputs": [],
   "source": [
    "# Add properties to set lists\n",
    "all_set_lists_df = merge_set_info(all_set_lists_df, set_info_df)"
   ]
  },
  {
   "cell_type": "markdown",
   "id": "10",
   "metadata": {
    "papermill": {
     "duration": 0.062482,
     "end_time": "2025-08-09T06:33:50.261471",
     "exception": false,
     "start_time": "2025-08-09T06:33:50.198989",
     "status": "completed"
    },
    "tags": []
   },
   "source": [
    "# Check changes"
   ]
  },
  {
   "cell_type": "markdown",
   "id": "11",
   "metadata": {
    "papermill": {
     "duration": 0.053839,
     "end_time": "2025-08-09T06:33:50.371041",
     "exception": false,
     "start_time": "2025-08-09T06:33:50.317202",
     "status": "completed"
    },
    "tags": []
   },
   "source": [
    "## Load previous data"
   ]
  },
  {
   "cell_type": "code",
   "execution_count": null,
   "id": "12",
   "metadata": {
    "papermill": {
     "duration": 11.257806,
     "end_time": "2025-08-09T06:34:01.679562",
     "exception": false,
     "start_time": "2025-08-09T06:33:50.421756",
     "status": "completed"
    },
    "tags": []
   },
   "outputs": [],
   "source": [
    "# Get latest file if exist\n",
    "tuple_cols = [\"Rarity\", \"Cover card\"]\n",
    "previous_df, previous_ts = load_latest_data(\"sets\", tuple_cols, return_ts=True)\n",
    "\n",
    "if previous_df is not None:\n",
    "    previous_df = previous_df.astype(\n",
    "        all_set_lists_df[previous_df.columns.intersection(all_set_lists_df.columns)].dtypes.to_dict()\n",
    "    )"
   ]
  },
  {
   "cell_type": "markdown",
   "id": "13",
   "metadata": {
    "papermill": {
     "duration": 0.102918,
     "end_time": "2025-08-09T06:34:01.837788",
     "exception": false,
     "start_time": "2025-08-09T06:34:01.734870",
     "status": "completed"
    },
    "tags": []
   },
   "source": [
    "## Generate changelog"
   ]
  },
  {
   "cell_type": "code",
   "execution_count": null,
   "id": "14",
   "metadata": {
    "papermill": {
     "duration": 4.22903,
     "end_time": "2025-08-09T06:34:06.123896",
     "exception": false,
     "start_time": "2025-08-09T06:34:01.894866",
     "status": "completed"
    },
    "tags": []
   },
   "outputs": [],
   "source": [
    "if previous_df is None:\n",
    "    changelog = None\n",
    "    print(\"Skipped\")\n",
    "else:\n",
    "    changelog = generate_changelog(previous_df, all_set_lists_df, col=\"Card number\")\n",
    "    if not changelog.empty:\n",
    "        display(changelog)\n",
    "        changelog.to_csv(\n",
    "            dirs.DATA / make_filename(report=\"sets\", timestamp=timestamp, previous_timestamp=previous_ts),\n",
    "            index=True,\n",
    "        )\n",
    "        print(\"Changelog saved\")"
   ]
  },
  {
   "cell_type": "markdown",
   "id": "15",
   "metadata": {
    "papermill": {
     "duration": 0.067055,
     "end_time": "2025-08-09T06:34:06.256329",
     "exception": false,
     "start_time": "2025-08-09T06:34:06.189274",
     "status": "completed"
    },
    "tags": []
   },
   "source": [
    "## Save data"
   ]
  },
  {
   "cell_type": "code",
   "execution_count": null,
   "id": "16",
   "metadata": {
    "papermill": {
     "duration": 20.108452,
     "end_time": "2025-08-09T06:34:26.426172",
     "exception": false,
     "start_time": "2025-08-09T06:34:06.317720",
     "status": "completed"
    },
    "tags": []
   },
   "outputs": [],
   "source": [
    "if changelog is not None and changelog.empty:\n",
    "    print(\"No changes. New data not saved\")\n",
    "else:\n",
    "    all_set_lists_df.to_csv(\n",
    "        dirs.DATA / make_filename(report=\"sets\", timestamp=timestamp),\n",
    "        index=False,\n",
    "    )\n",
    "    print(\"Data saved\")"
   ]
  },
  {
   "cell_type": "markdown",
   "id": "17",
   "metadata": {
    "papermill": {
     "duration": 0.16648,
     "end_time": "2025-08-09T06:34:26.664711",
     "exception": false,
     "start_time": "2025-08-09T06:34:26.498231",
     "status": "completed"
    },
    "tags": []
   },
   "source": [
    "# Data visualization"
   ]
  },
  {
   "cell_type": "markdown",
   "id": "18",
   "metadata": {
    "jp-MarkdownHeadingCollapsed": true,
    "papermill": {
     "duration": 0.057364,
     "end_time": "2025-08-09T06:34:26.798702",
     "exception": false,
     "start_time": "2025-08-09T06:34:26.741338",
     "status": "completed"
    },
    "tags": []
   },
   "source": [
    "## Full data"
   ]
  },
  {
   "cell_type": "code",
   "execution_count": null,
   "id": "19",
   "metadata": {
    "papermill": {
     "duration": 0.284672,
     "end_time": "2025-08-09T06:34:27.413641",
     "exception": false,
     "start_time": "2025-08-09T06:34:27.128969",
     "status": "completed"
    },
    "tags": []
   },
   "outputs": [],
   "source": [
    "all_set_lists_df"
   ]
  },
  {
   "cell_type": "markdown",
   "id": "20",
   "metadata": {
    "papermill": {
     "duration": 0.083737,
     "end_time": "2025-08-09T06:34:27.719873",
     "exception": false,
     "start_time": "2025-08-09T06:34:27.636136",
     "status": "completed"
    },
    "tags": []
   },
   "source": [
    "Full data available [here](../data)"
   ]
  },
  {
   "cell_type": "markdown",
   "id": "21",
   "metadata": {
    "jp-MarkdownHeadingCollapsed": true,
    "papermill": {
     "duration": 0.056298,
     "end_time": "2025-08-09T06:34:28.020875",
     "exception": false,
     "start_time": "2025-08-09T06:34:27.964577",
     "status": "completed"
    },
    "tags": []
   },
   "source": [
    "## Set"
   ]
  },
  {
   "cell_type": "code",
   "execution_count": null,
   "id": "22",
   "metadata": {
    "papermill": {
     "duration": 0.12483,
     "end_time": "2025-08-09T06:34:28.541577",
     "exception": false,
     "start_time": "2025-08-09T06:34:28.416747",
     "status": "completed"
    },
    "tags": []
   },
   "outputs": [],
   "source": [
    "print(\"Total number of sets:\", all_set_lists_df[\"Set\"].nunique())"
   ]
  },
  {
   "cell_type": "code",
   "execution_count": null,
   "id": "23",
   "metadata": {
    "papermill": {
     "duration": 0.902424,
     "end_time": "2025-08-09T06:34:29.511148",
     "exception": false,
     "start_time": "2025-08-09T06:34:28.608724",
     "status": "completed"
    },
    "tags": []
   },
   "outputs": [],
   "source": [
    "all_set_lists_df.groupby(\"Set\", dropna=False).nunique()"
   ]
  },
  {
   "cell_type": "code",
   "execution_count": null,
   "id": "24",
   "metadata": {
    "papermill": {
     "duration": 1.169995,
     "end_time": "2025-08-09T06:34:30.747490",
     "exception": false,
     "start_time": "2025-08-09T06:34:29.577495",
     "status": "completed"
    },
    "tags": []
   },
   "outputs": [],
   "source": [
    "all_set_lists_df.groupby(\"Set\", dropna=False).nunique().describe()"
   ]
  },
  {
   "cell_type": "markdown",
   "id": "25",
   "metadata": {
    "jp-MarkdownHeadingCollapsed": true,
    "papermill": {
     "duration": 0.065061,
     "end_time": "2025-08-09T06:34:30.881382",
     "exception": false,
     "start_time": "2025-08-09T06:34:30.816321",
     "status": "completed"
    },
    "tags": []
   },
   "source": [
    "## Card number"
   ]
  },
  {
   "cell_type": "code",
   "execution_count": null,
   "id": "26",
   "metadata": {
    "papermill": {
     "duration": 0.273939,
     "end_time": "2025-08-09T06:34:31.220479",
     "exception": false,
     "start_time": "2025-08-09T06:34:30.946540",
     "status": "completed"
    },
    "tags": []
   },
   "outputs": [],
   "source": [
    "print(\"Total number of card numbers:\", all_set_lists_df[\"Card number\"].nunique())"
   ]
  },
  {
   "cell_type": "code",
   "execution_count": null,
   "id": "27",
   "metadata": {
    "papermill": {
     "duration": 1.753305,
     "end_time": "2025-08-09T06:34:33.042428",
     "exception": false,
     "start_time": "2025-08-09T06:34:31.289123",
     "status": "completed"
    },
    "tags": []
   },
   "outputs": [],
   "source": [
    "all_set_lists_df.groupby(\"Card number\", dropna=False).nunique()"
   ]
  },
  {
   "cell_type": "markdown",
   "id": "28",
   "metadata": {
    "jp-MarkdownHeadingCollapsed": true,
    "papermill": {
     "duration": 0.267654,
     "end_time": "2025-08-09T06:34:33.377157",
     "exception": false,
     "start_time": "2025-08-09T06:34:33.109503",
     "status": "completed"
    },
    "tags": []
   },
   "source": [
    "## Name"
   ]
  },
  {
   "cell_type": "code",
   "execution_count": null,
   "id": "29",
   "metadata": {
    "papermill": {
     "duration": 0.271969,
     "end_time": "2025-08-09T06:34:33.866225",
     "exception": false,
     "start_time": "2025-08-09T06:34:33.594256",
     "status": "completed"
    },
    "tags": []
   },
   "outputs": [],
   "source": [
    "print(\"Total number of card names:\", all_set_lists_df[\"Name\"].nunique())"
   ]
  },
  {
   "cell_type": "code",
   "execution_count": null,
   "id": "30",
   "metadata": {
    "papermill": {
     "duration": 1.001272,
     "end_time": "2025-08-09T06:34:34.935711",
     "exception": false,
     "start_time": "2025-08-09T06:34:33.934439",
     "status": "completed"
    },
    "tags": []
   },
   "outputs": [],
   "source": [
    "all_set_lists_df.groupby(\"Name\", dropna=False).nunique()"
   ]
  },
  {
   "cell_type": "code",
   "execution_count": null,
   "id": "31",
   "metadata": {
    "papermill": {
     "duration": 1.036478,
     "end_time": "2025-08-09T06:34:36.042325",
     "exception": false,
     "start_time": "2025-08-09T06:34:35.005847",
     "status": "completed"
    },
    "tags": []
   },
   "outputs": [],
   "source": [
    "all_set_lists_df.groupby(\"Name\", dropna=True).nunique().describe()"
   ]
  },
  {
   "cell_type": "markdown",
   "id": "32",
   "metadata": {
    "papermill": {
     "duration": 0.2823,
     "end_time": "2025-08-09T06:34:36.396579",
     "exception": false,
     "start_time": "2025-08-09T06:34:36.114279",
     "status": "completed"
    },
    "tags": []
   },
   "source": [
    "## Rarity"
   ]
  },
  {
   "cell_type": "code",
   "execution_count": null,
   "id": "33",
   "metadata": {
    "papermill": {
     "duration": 0.636048,
     "end_time": "2025-08-09T06:34:37.300104",
     "exception": false,
     "start_time": "2025-08-09T06:34:36.664056",
     "status": "completed"
    },
    "tags": []
   },
   "outputs": [],
   "source": [
    "print(\"Total number of rarities:\", all_set_lists_df[\"Rarity\"].explode().nunique())"
   ]
  },
  {
   "cell_type": "markdown",
   "id": "34",
   "metadata": {
    "papermill": {
     "duration": 0.070153,
     "end_time": "2025-08-09T06:34:37.439505",
     "exception": false,
     "start_time": "2025-08-09T06:34:37.369352",
     "status": "completed"
    },
    "tags": []
   },
   "source": [
    "### By unique"
   ]
  },
  {
   "cell_type": "code",
   "execution_count": null,
   "id": "35",
   "metadata": {
    "papermill": {
     "duration": 2.887352,
     "end_time": "2025-08-09T06:34:40.406882",
     "exception": false,
     "start_time": "2025-08-09T06:34:37.519530",
     "status": "completed"
    },
    "tags": []
   },
   "outputs": [],
   "source": [
    "all_set_lists_df.explode(\"Rarity\").groupby(\"Rarity\", dropna=False).nunique()"
   ]
  },
  {
   "cell_type": "code",
   "execution_count": null,
   "id": "36",
   "metadata": {
    "papermill": {
     "duration": 3.571411,
     "end_time": "2025-08-09T06:34:44.048816",
     "exception": false,
     "start_time": "2025-08-09T06:34:40.477405",
     "status": "completed"
    },
    "tags": []
   },
   "outputs": [],
   "source": [
    "all_set_lists_df[\"Rarity\"].explode().value_counts().plot.barh(figsize=(10, 20))\n",
    "plt.xscale(\"log\")\n",
    "plt.show()"
   ]
  },
  {
   "cell_type": "markdown",
   "id": "37",
   "metadata": {
    "papermill": {
     "duration": 0.105492,
     "end_time": "2025-08-09T06:34:44.235540",
     "exception": false,
     "start_time": "2025-08-09T06:34:44.130048",
     "status": "completed"
    },
    "tags": []
   },
   "source": [
    "### By combination"
   ]
  },
  {
   "cell_type": "code",
   "execution_count": null,
   "id": "38",
   "metadata": {
    "papermill": {
     "duration": 1.276085,
     "end_time": "2025-08-09T06:34:45.711696",
     "exception": false,
     "start_time": "2025-08-09T06:34:44.435611",
     "status": "completed"
    },
    "tags": []
   },
   "outputs": [],
   "source": [
    "all_set_lists_df.groupby(\"Rarity\", dropna=False).nunique()"
   ]
  },
  {
   "cell_type": "code",
   "execution_count": null,
   "id": "39",
   "metadata": {
    "papermill": {
     "duration": 0.07791,
     "end_time": "2025-08-09T06:34:45.999880",
     "exception": false,
     "start_time": "2025-08-09T06:34:45.921970",
     "status": "completed"
    },
    "tags": []
   },
   "outputs": [],
   "source": [
    "# # Disabled for beeing too large\n",
    "\n",
    "# all_set_lists_df[\"Rarity\"].value_counts().plot.barh(figsize=(10, 80), grid=True)\n",
    "# plt.xscale(\"log\")\n",
    "# plt.show()"
   ]
  },
  {
   "cell_type": "markdown",
   "id": "40",
   "metadata": {
    "papermill": {
     "duration": 1.086183,
     "end_time": "2025-08-09T06:34:47.159566",
     "exception": false,
     "start_time": "2025-08-09T06:34:46.073383",
     "status": "completed"
    },
    "tags": []
   },
   "source": [
    "## Print"
   ]
  },
  {
   "cell_type": "code",
   "execution_count": null,
   "id": "41",
   "metadata": {
    "papermill": {
     "duration": 0.23118,
     "end_time": "2025-08-09T06:34:47.904347",
     "exception": false,
     "start_time": "2025-08-09T06:34:47.673167",
     "status": "completed"
    },
    "tags": []
   },
   "outputs": [],
   "source": [
    "print(\"Total number of prints:\", all_set_lists_df[\"Print\"].nunique())"
   ]
  },
  {
   "cell_type": "code",
   "execution_count": null,
   "id": "42",
   "metadata": {
    "papermill": {
     "duration": 1.00767,
     "end_time": "2025-08-09T06:34:48.991110",
     "exception": false,
     "start_time": "2025-08-09T06:34:47.983440",
     "status": "completed"
    },
    "tags": []
   },
   "outputs": [],
   "source": [
    "all_set_lists_df.groupby(\"Print\", dropna=False).nunique()"
   ]
  },
  {
   "cell_type": "code",
   "execution_count": null,
   "id": "43",
   "metadata": {
    "papermill": {
     "duration": 0.792942,
     "end_time": "2025-08-09T06:34:49.860618",
     "exception": false,
     "start_time": "2025-08-09T06:34:49.067676",
     "status": "completed"
    },
    "tags": []
   },
   "outputs": [],
   "source": [
    "all_set_lists_df[\"Print\"].value_counts().plot.bar(figsize=(18, 6), rot=45)\n",
    "plt.yscale(\"log\")\n",
    "plt.show()"
   ]
  },
  {
   "cell_type": "markdown",
   "id": "44",
   "metadata": {
    "papermill": {
     "duration": 0.163185,
     "end_time": "2025-08-09T06:34:50.193089",
     "exception": false,
     "start_time": "2025-08-09T06:34:50.029904",
     "status": "completed"
    },
    "tags": []
   },
   "source": [
    "## Quantity"
   ]
  },
  {
   "cell_type": "code",
   "execution_count": null,
   "id": "45",
   "metadata": {
    "papermill": {
     "duration": 0.251047,
     "end_time": "2025-08-09T06:34:50.622212",
     "exception": false,
     "start_time": "2025-08-09T06:34:50.371165",
     "status": "completed"
    },
    "tags": []
   },
   "outputs": [],
   "source": [
    "print(\"Total number of quantities:\", all_set_lists_df[\"Quantity\"].nunique())"
   ]
  },
  {
   "cell_type": "code",
   "execution_count": null,
   "id": "46",
   "metadata": {
    "papermill": {
     "duration": 0.926425,
     "end_time": "2025-08-09T06:34:51.638750",
     "exception": false,
     "start_time": "2025-08-09T06:34:50.712325",
     "status": "completed"
    },
    "tags": []
   },
   "outputs": [],
   "source": [
    "all_set_lists_df.groupby(\"Quantity\", dropna=False).nunique()"
   ]
  },
  {
   "cell_type": "markdown",
   "id": "47",
   "metadata": {
    "papermill": {
     "duration": 0.076104,
     "end_time": "2025-08-09T06:34:51.797588",
     "exception": false,
     "start_time": "2025-08-09T06:34:51.721484",
     "status": "completed"
    },
    "tags": []
   },
   "source": [
    "## Region"
   ]
  },
  {
   "cell_type": "code",
   "execution_count": null,
   "id": "48",
   "metadata": {
    "papermill": {
     "duration": 0.97923,
     "end_time": "2025-08-09T06:34:52.860639",
     "exception": false,
     "start_time": "2025-08-09T06:34:51.881409",
     "status": "completed"
    },
    "tags": []
   },
   "outputs": [],
   "source": [
    "print(\"Total number of regions:\", all_set_lists_df[\"Region\"].nunique())"
   ]
  },
  {
   "cell_type": "code",
   "execution_count": null,
   "id": "49",
   "metadata": {
    "papermill": {
     "duration": 0.948718,
     "end_time": "2025-08-09T06:34:54.749370",
     "exception": false,
     "start_time": "2025-08-09T06:34:53.800652",
     "status": "completed"
    },
    "tags": []
   },
   "outputs": [],
   "source": [
    "all_set_lists_df.groupby([\"Set\", \"Region\"], dropna=False).nunique()"
   ]
  },
  {
   "cell_type": "code",
   "execution_count": null,
   "id": "50",
   "metadata": {
    "papermill": {
     "duration": 1.228622,
     "end_time": "2025-08-09T06:34:56.096051",
     "exception": false,
     "start_time": "2025-08-09T06:34:54.867429",
     "status": "completed"
    },
    "tags": []
   },
   "outputs": [],
   "source": [
    "all_set_lists_df.groupby(\"Region\", dropna=False).nunique().describe()"
   ]
  },
  {
   "cell_type": "code",
   "execution_count": null,
   "id": "51",
   "metadata": {
    "papermill": {
     "duration": 0.433618,
     "end_time": "2025-08-09T06:34:56.618378",
     "exception": false,
     "start_time": "2025-08-09T06:34:56.184760",
     "status": "completed"
    },
    "tags": []
   },
   "outputs": [],
   "source": [
    "all_set_lists_df[\"Region\"].value_counts().plot.bar(figsize=(18, 6), rot=0)\n",
    "plt.show()"
   ]
  },
  {
   "cell_type": "markdown",
   "id": "52",
   "metadata": {
    "papermill": {
     "duration": 0.957591,
     "end_time": "2025-08-09T06:34:57.662329",
     "exception": false,
     "start_time": "2025-08-09T06:34:56.704738",
     "status": "completed"
    },
    "tags": []
   },
   "source": [
    "## Cover card"
   ]
  },
  {
   "cell_type": "code",
   "execution_count": null,
   "id": "53",
   "metadata": {
    "papermill": {
     "duration": 0.515191,
     "end_time": "2025-08-09T06:34:58.505390",
     "exception": false,
     "start_time": "2025-08-09T06:34:57.990199",
     "status": "completed"
    },
    "tags": []
   },
   "outputs": [],
   "source": [
    "print(\n",
    "    \"Total number of cover cards:\",\n",
    "    all_set_lists_df[\"Cover card\"].explode(\"Cover card\").nunique(),\n",
    ")"
   ]
  },
  {
   "cell_type": "code",
   "execution_count": null,
   "id": "54",
   "metadata": {
    "papermill": {
     "duration": 3.626041,
     "end_time": "2025-08-09T06:35:02.277105",
     "exception": false,
     "start_time": "2025-08-09T06:34:58.651064",
     "status": "completed"
    },
    "tags": []
   },
   "outputs": [],
   "source": [
    "all_set_lists_df.explode(\"Cover card\").groupby([\"Cover card\"]).nunique()"
   ]
  },
  {
   "cell_type": "code",
   "execution_count": null,
   "id": "55",
   "metadata": {
    "papermill": {
     "duration": 2.719244,
     "end_time": "2025-08-09T06:35:05.084289",
     "exception": false,
     "start_time": "2025-08-09T06:35:02.365045",
     "status": "completed"
    },
    "tags": []
   },
   "outputs": [],
   "source": [
    "all_set_lists_df.explode([\"Cover card\"]).groupby(\"Cover card\")[\"Set\"].nunique().sort_values().tail(30).plot.barh(\n",
    "    figsize=(10, 10), title=\"Top 30 Cover Cards\"\n",
    ")\n",
    "plt.show()"
   ]
  },
  {
   "cell_type": "markdown",
   "id": "56",
   "metadata": {
    "papermill": {
     "duration": 0.239281,
     "end_time": "2025-08-09T06:35:05.418937",
     "exception": false,
     "start_time": "2025-08-09T06:35:05.179656",
     "status": "completed"
    },
    "tags": []
   },
   "source": [
    "## Series"
   ]
  },
  {
   "cell_type": "code",
   "execution_count": null,
   "id": "57",
   "metadata": {
    "papermill": {
     "duration": 0.163565,
     "end_time": "2025-08-09T06:35:05.751388",
     "exception": false,
     "start_time": "2025-08-09T06:35:05.587823",
     "status": "completed"
    },
    "tags": []
   },
   "outputs": [],
   "source": [
    "print(\"Total number of series:\", all_set_lists_df[\"Series\"].nunique())"
   ]
  },
  {
   "cell_type": "code",
   "execution_count": null,
   "id": "58",
   "metadata": {
    "papermill": {
     "duration": 0.876644,
     "end_time": "2025-08-09T06:35:06.724170",
     "exception": false,
     "start_time": "2025-08-09T06:35:05.847526",
     "status": "completed"
    },
    "tags": []
   },
   "outputs": [],
   "source": [
    "all_set_lists_df.groupby(\"Series\").nunique()"
   ]
  },
  {
   "cell_type": "code",
   "execution_count": null,
   "id": "59",
   "metadata": {
    "papermill": {
     "duration": 2.230659,
     "end_time": "2025-08-09T06:35:09.048648",
     "exception": false,
     "start_time": "2025-08-09T06:35:06.817989",
     "status": "completed"
    },
    "tags": []
   },
   "outputs": [],
   "source": [
    "all_set_lists_df.explode([\"Series\"]).groupby(\"Series\")[\"Set\"].nunique().sort_values(ascending=False).plot.barh(\n",
    "    figsize=(10, 18)\n",
    ")\n",
    "plt.show()"
   ]
  },
  {
   "cell_type": "markdown",
   "id": "60",
   "metadata": {
    "papermill": {
     "duration": 1.227048,
     "end_time": "2025-08-09T06:35:10.374137",
     "exception": false,
     "start_time": "2025-08-09T06:35:09.147089",
     "status": "completed"
    },
    "tags": []
   },
   "source": [
    "## Set type"
   ]
  },
  {
   "cell_type": "code",
   "execution_count": null,
   "id": "61",
   "metadata": {
    "papermill": {
     "duration": 0.163502,
     "end_time": "2025-08-09T06:35:10.664065",
     "exception": false,
     "start_time": "2025-08-09T06:35:10.500563",
     "status": "completed"
    },
    "tags": []
   },
   "outputs": [],
   "source": [
    "print(\"Total number of set types:\", all_set_lists_df[\"Set type\"].nunique())"
   ]
  },
  {
   "cell_type": "code",
   "execution_count": null,
   "id": "62",
   "metadata": {
    "papermill": {
     "duration": 0.967883,
     "end_time": "2025-08-09T06:35:11.889926",
     "exception": false,
     "start_time": "2025-08-09T06:35:10.922043",
     "status": "completed"
    },
    "tags": []
   },
   "outputs": [],
   "source": [
    "all_set_lists_df.groupby(\"Set type\").nunique()"
   ]
  },
  {
   "cell_type": "code",
   "execution_count": null,
   "id": "63",
   "metadata": {
    "papermill": {
     "duration": 0.535711,
     "end_time": "2025-08-09T06:35:12.533988",
     "exception": false,
     "start_time": "2025-08-09T06:35:11.998277",
     "status": "completed"
    },
    "tags": []
   },
   "outputs": [],
   "source": [
    "set_info_df[\"Set type\"].value_counts().plot.barh(figsize=(10, 12))\n",
    "plt.show()"
   ]
  },
  {
   "cell_type": "markdown",
   "id": "64",
   "metadata": {
    "papermill": {
     "duration": 0.09898,
     "end_time": "2025-08-09T06:35:12.743849",
     "exception": false,
     "start_time": "2025-08-09T06:35:12.644869",
     "status": "completed"
    },
    "tags": []
   },
   "source": [
    "## Release"
   ]
  },
  {
   "cell_type": "code",
   "execution_count": null,
   "id": "65",
   "metadata": {
    "papermill": {
     "duration": 0.185811,
     "end_time": "2025-08-09T06:35:13.045847",
     "exception": false,
     "start_time": "2025-08-09T06:35:12.860036",
     "status": "completed"
    },
    "tags": []
   },
   "outputs": [],
   "source": [
    "print(\"Total number of release dates:\", all_set_lists_df[\"Release\"].nunique())"
   ]
  },
  {
   "cell_type": "code",
   "execution_count": null,
   "id": "66",
   "metadata": {
    "papermill": {
     "duration": 0.907041,
     "end_time": "2025-08-09T06:35:14.059350",
     "exception": false,
     "start_time": "2025-08-09T06:35:13.152309",
     "status": "completed"
    },
    "tags": []
   },
   "outputs": [],
   "source": [
    "all_set_lists_df.groupby(\"Release\", dropna=False).nunique()"
   ]
  },
  {
   "cell_type": "code",
   "execution_count": null,
   "id": "67",
   "metadata": {
    "papermill": {
     "duration": 0.584437,
     "end_time": "2025-08-09T06:35:14.749968",
     "exception": false,
     "start_time": "2025-08-09T06:35:14.165531",
     "status": "completed"
    },
    "tags": []
   },
   "outputs": [],
   "source": [
    "set_by_release = pd.DataFrame(all_set_lists_df.groupby(\"Release\", dropna=False)[\"Set\"].nunique())"
   ]
  },
  {
   "cell_type": "markdown",
   "id": "68",
   "metadata": {
    "papermill": {
     "duration": 0.243391,
     "end_time": "2025-08-09T06:35:15.839956",
     "exception": false,
     "start_time": "2025-08-09T06:35:15.596565",
     "status": "completed"
    },
    "tags": []
   },
   "source": [
    "### By year"
   ]
  },
  {
   "cell_type": "code",
   "execution_count": null,
   "id": "69",
   "metadata": {
    "papermill": {
     "duration": 1.285675,
     "end_time": "2025-08-09T06:35:17.562202",
     "exception": false,
     "start_time": "2025-08-09T06:35:16.276527",
     "status": "completed"
    },
    "tags": []
   },
   "outputs": [],
   "source": [
    "all_set_lists_df.drop(\"Modification date\", axis=1).groupby(\"Release\", dropna=False).nunique().groupby(\n",
    "    set_by_release.index.strftime(\"%Y\")\n",
    ").sum()"
   ]
  },
  {
   "cell_type": "code",
   "execution_count": null,
   "id": "70",
   "metadata": {
    "papermill": {
     "duration": 2.845115,
     "end_time": "2025-08-09T06:35:20.616095",
     "exception": false,
     "start_time": "2025-08-09T06:35:17.770980",
     "status": "completed"
    },
    "tags": []
   },
   "outputs": [],
   "source": [
    "_ = plot.rate(set_by_release)\n",
    "plt.show()"
   ]
  },
  {
   "cell_type": "markdown",
   "id": "71",
   "metadata": {
    "papermill": {
     "duration": 0.111827,
     "end_time": "2025-08-09T06:35:20.842090",
     "exception": false,
     "start_time": "2025-08-09T06:35:20.730263",
     "status": "completed"
    },
    "tags": []
   },
   "source": [
    "### By month"
   ]
  },
  {
   "cell_type": "code",
   "execution_count": null,
   "id": "72",
   "metadata": {
    "papermill": {
     "duration": 0.646361,
     "end_time": "2025-08-09T06:35:21.631391",
     "exception": false,
     "start_time": "2025-08-09T06:35:20.985030",
     "status": "completed"
    },
    "tags": []
   },
   "outputs": [],
   "source": [
    "set_by_release.groupby(set_by_release.index.strftime(\"%B\")).sum().sort_index(\n",
    "    key=lambda x: pd.to_datetime(x, format=\"%B\").month\n",
    ").plot.bar(figsize=(16, 8), xlabel=\"Release month\", rot=0)\n",
    "plt.show()"
   ]
  },
  {
   "cell_type": "code",
   "execution_count": null,
   "id": "73",
   "metadata": {
    "papermill": {
     "duration": 1.261578,
     "end_time": "2025-08-09T06:35:23.065982",
     "exception": false,
     "start_time": "2025-08-09T06:35:21.804404",
     "status": "completed"
    },
    "tags": []
   },
   "outputs": [],
   "source": [
    "set_by_release.groupby(set_by_release.index.strftime(\"%d\")).sum().plot.bar(\n",
    "    figsize=(16, 8), xlabel=\"Release day of the month\", rot=0\n",
    ")\n",
    "plt.show()"
   ]
  },
  {
   "cell_type": "markdown",
   "id": "74",
   "metadata": {
    "papermill": {
     "duration": 0.22883,
     "end_time": "2025-08-09T06:35:24.224833",
     "exception": false,
     "start_time": "2025-08-09T06:35:23.996003",
     "status": "completed"
    },
    "tags": []
   },
   "source": [
    "### By day"
   ]
  },
  {
   "cell_type": "code",
   "execution_count": null,
   "id": "75",
   "metadata": {
    "papermill": {
     "duration": 0.319075,
     "end_time": "2025-08-09T06:35:24.665708",
     "exception": false,
     "start_time": "2025-08-09T06:35:24.346633",
     "status": "completed"
    },
    "tags": []
   },
   "outputs": [],
   "source": [
    "set_by_release.groupby(set_by_release.index.dayofyear).sum().plot(\n",
    "    figsize=(16, 8), xlabel=\"Release day of the year\", drawstyle=\"steps-mid\"\n",
    ")\n",
    "plt.show()"
   ]
  },
  {
   "cell_type": "code",
   "execution_count": null,
   "id": "76",
   "metadata": {
    "papermill": {
     "duration": 0.577015,
     "end_time": "2025-08-09T06:35:25.363129",
     "exception": false,
     "start_time": "2025-08-09T06:35:24.786114",
     "status": "completed"
    },
    "tags": []
   },
   "outputs": [],
   "source": [
    "set_by_release_wd = set_by_release.groupby(set_by_release.index.weekday).sum()\n",
    "set_by_release_wd.index = [calendar.day_name[i] for i in set_by_release_wd.index.astype(int)]\n",
    "set_by_release_wd.plot.bar(figsize=(12, 6), xlabel=\"Release day of the week\", rot=0)\n",
    "plt.show()"
   ]
  },
  {
   "cell_type": "markdown",
   "id": "77",
   "metadata": {
    "papermill": {
     "duration": 0.117567,
     "end_time": "2025-08-09T06:35:25.612271",
     "exception": false,
     "start_time": "2025-08-09T06:35:25.494704",
     "status": "completed"
    },
    "tags": []
   },
   "source": [
    "### By region"
   ]
  },
  {
   "cell_type": "code",
   "execution_count": null,
   "id": "78",
   "metadata": {
    "papermill": {
     "duration": 0.973767,
     "end_time": "2025-08-09T06:35:26.831831",
     "exception": false,
     "start_time": "2025-08-09T06:35:25.858064",
     "status": "completed"
    },
    "tags": []
   },
   "outputs": [],
   "source": [
    "by_release_region = all_set_lists_df.groupby([\"Region\", \"Release\"]).nunique()\n",
    "by_release_region"
   ]
  },
  {
   "cell_type": "code",
   "execution_count": null,
   "id": "79",
   "metadata": {
    "papermill": {
     "duration": 0.347442,
     "end_time": "2025-08-09T06:35:27.308635",
     "exception": false,
     "start_time": "2025-08-09T06:35:26.961193",
     "status": "completed"
    },
    "tags": []
   },
   "outputs": [],
   "source": [
    "set_by_release_region = by_release_region[\"Set\"].unstack(0).sort_index().fillna(0).astype(int)\n",
    "set_by_release_region_y = set_by_release_region.groupby(set_by_release_region.index.strftime(\"%Y\")).sum().T\n",
    "set_by_release_region_y"
   ]
  },
  {
   "cell_type": "code",
   "execution_count": null,
   "id": "80",
   "metadata": {
    "papermill": {
     "duration": 1.801693,
     "end_time": "2025-08-09T06:35:29.231591",
     "exception": false,
     "start_time": "2025-08-09T06:35:27.429898",
     "status": "completed"
    },
    "tags": []
   },
   "outputs": [],
   "source": [
    "plt.figure(figsize=(14, 6))\n",
    "sns.heatmap(\n",
    "    set_by_release_region_y[set_by_release_region_y > 0],\n",
    "    annot=True,\n",
    "    fmt=\"g\",\n",
    "    cmap=\"viridis\",\n",
    "    square=True,\n",
    ")\n",
    "plt.show()"
   ]
  },
  {
   "cell_type": "code",
   "execution_count": null,
   "id": "81",
   "metadata": {
    "papermill": {
     "duration": 31.3069,
     "end_time": "2025-08-09T06:36:01.221985",
     "exception": false,
     "start_time": "2025-08-09T06:35:29.915085",
     "status": "completed"
    },
    "tags": []
   },
   "outputs": [],
   "source": [
    "_ = plot.rate(set_by_release_region, subplots=True, title=\"Set releases\")\n",
    "plt.show()"
   ]
  },
  {
   "cell_type": "markdown",
   "id": "82",
   "metadata": {
    "papermill": {
     "duration": 0.231913,
     "end_time": "2025-08-09T06:36:01.696065",
     "exception": false,
     "start_time": "2025-08-09T06:36:01.464152",
     "status": "completed"
    },
    "tags": []
   },
   "source": [
    "### By series"
   ]
  },
  {
   "cell_type": "code",
   "execution_count": null,
   "id": "83",
   "metadata": {
    "papermill": {
     "duration": 2.09269,
     "end_time": "2025-08-09T06:36:04.037087",
     "exception": false,
     "start_time": "2025-08-09T06:36:01.944397",
     "status": "completed"
    },
    "tags": []
   },
   "outputs": [],
   "source": [
    "by_release_series = all_set_lists_df.explode(\"Series\").groupby([\"Series\", \"Release\"]).nunique()\n",
    "by_release_series"
   ]
  },
  {
   "cell_type": "code",
   "execution_count": null,
   "id": "84",
   "metadata": {
    "papermill": {
     "duration": 1.561221,
     "end_time": "2025-08-09T06:36:05.833096",
     "exception": false,
     "start_time": "2025-08-09T06:36:04.271875",
     "status": "completed"
    },
    "tags": []
   },
   "outputs": [],
   "source": [
    "set_by_release_series = by_release_series[\"Set\"].unstack(0).sort_index().fillna(0).astype(int)\n",
    "set_by_release_series_y = set_by_release_series.groupby(set_by_release_series.index.strftime(\"%Y\")).sum().T\n",
    "set_by_release_series_y"
   ]
  },
  {
   "cell_type": "code",
   "execution_count": null,
   "id": "85",
   "metadata": {
    "papermill": {
     "duration": 2.572276,
     "end_time": "2025-08-09T06:36:08.704431",
     "exception": false,
     "start_time": "2025-08-09T06:36:06.132155",
     "status": "completed"
    },
    "tags": []
   },
   "outputs": [],
   "source": [
    "plt.figure(figsize=(16, 30))\n",
    "sns.heatmap(\n",
    "    set_by_release_series_y[set_by_release_series_y > 0],\n",
    "    annot=True,\n",
    "    fmt=\"g\",\n",
    "    cmap=\"viridis\",\n",
    "    square=True,\n",
    "    cbar_kws={\"aspect\": len(set_by_release_series_y.index)},\n",
    ")\n",
    "plt.show()"
   ]
  },
  {
   "cell_type": "code",
   "execution_count": null,
   "id": "86",
   "metadata": {
    "papermill": {
     "duration": 0.268705,
     "end_time": "2025-08-09T06:36:09.325270",
     "exception": false,
     "start_time": "2025-08-09T06:36:09.056565",
     "status": "completed"
    },
    "tags": []
   },
   "outputs": [],
   "source": [
    "# # Disabled for being too large\n",
    "\n",
    "# _ = plot.rate(set_by_release_series, subplots=True, title=\"Set releases\")\n",
    "# plt.show()"
   ]
  },
  {
   "cell_type": "markdown",
   "id": "87",
   "metadata": {
    "papermill": {
     "duration": 0.879142,
     "end_time": "2025-08-09T06:36:10.475733",
     "exception": false,
     "start_time": "2025-08-09T06:36:09.596591",
     "status": "completed"
    },
    "tags": []
   },
   "source": [
    "### By set type"
   ]
  },
  {
   "cell_type": "code",
   "execution_count": null,
   "id": "88",
   "metadata": {
    "papermill": {
     "duration": 2.167772,
     "end_time": "2025-08-09T06:36:13.120482",
     "exception": false,
     "start_time": "2025-08-09T06:36:10.952710",
     "status": "completed"
    },
    "tags": []
   },
   "outputs": [],
   "source": [
    "by_release_type = all_set_lists_df.explode(\"Set type\").groupby([\"Set type\", \"Release\"]).nunique()\n",
    "by_release_type"
   ]
  },
  {
   "cell_type": "code",
   "execution_count": null,
   "id": "89",
   "metadata": {
    "papermill": {
     "duration": 0.331414,
     "end_time": "2025-08-09T06:36:13.719893",
     "exception": false,
     "start_time": "2025-08-09T06:36:13.388479",
     "status": "completed"
    },
    "tags": []
   },
   "outputs": [],
   "source": [
    "set_by_release_type = by_release_type[\"Set\"].unstack(0).sort_index().fillna(0).astype(int)\n",
    "set_by_release_type_y = set_by_release_type.groupby(set_by_release_type.index.strftime(\"%Y\")).sum().T\n",
    "set_by_release_type_y"
   ]
  },
  {
   "cell_type": "code",
   "execution_count": null,
   "id": "90",
   "metadata": {
    "papermill": {
     "duration": 1.802465,
     "end_time": "2025-08-09T06:36:15.807865",
     "exception": false,
     "start_time": "2025-08-09T06:36:14.005400",
     "status": "completed"
    },
    "tags": []
   },
   "outputs": [],
   "source": [
    "plt.figure(figsize=(14, 16))\n",
    "sns.heatmap(\n",
    "    set_by_release_type_y[set_by_release_type_y > 0],\n",
    "    annot=True,\n",
    "    fmt=\"g\",\n",
    "    cmap=\"viridis\",\n",
    "    square=True,\n",
    "    cbar_kws={\"aspect\": len(set_by_release_type_y.index)},\n",
    ")\n",
    "plt.show()"
   ]
  },
  {
   "cell_type": "code",
   "execution_count": null,
   "id": "91",
   "metadata": {
    "papermill": {
     "duration": 0.2824,
     "end_time": "2025-08-09T06:36:16.388289",
     "exception": false,
     "start_time": "2025-08-09T06:36:16.105889",
     "status": "completed"
    },
    "tags": []
   },
   "outputs": [],
   "source": [
    "# # Disabled for being too large\n",
    "\n",
    "# _=plot.rate(set_by_release_type, subplots=True, title=\"Set releases\")\n",
    "# plt.show()"
   ]
  },
  {
   "cell_type": "markdown",
   "id": "92",
   "metadata": {
    "papermill": {
     "duration": 0.322445,
     "end_time": "2025-08-09T06:36:16.986300",
     "exception": false,
     "start_time": "2025-08-09T06:36:16.663855",
     "status": "completed"
    },
    "tags": []
   },
   "source": [
    " # Epilogue"
   ]
  },
  {
   "cell_type": "code",
   "execution_count": null,
   "id": "93",
   "metadata": {
    "papermill": {
     "duration": 2.916953,
     "end_time": "2025-08-09T06:36:20.288160",
     "exception": false,
     "start_time": "2025-08-09T06:36:17.371207",
     "status": "completed"
    },
    "tags": []
   },
   "outputs": [],
   "source": [
    "benchmark(report=\"sets\", timestamp=timestamp)"
   ]
  },
  {
   "cell_type": "code",
   "execution_count": null,
   "id": "94",
   "metadata": {
    "papermill": {
     "duration": 0.380952,
     "end_time": "2025-08-09T06:36:20.954688",
     "exception": false,
     "start_time": "2025-08-09T06:36:20.573736",
     "status": "completed"
    },
    "tags": []
   },
   "outputs": [],
   "source": [
    "footer()"
   ]
  },
  {
   "cell_type": "markdown",
   "id": "95",
   "metadata": {
    "papermill": {
     "duration": 0.320608,
     "end_time": "2025-08-09T06:36:21.605540",
     "exception": false,
     "start_time": "2025-08-09T06:36:21.284932",
     "status": "completed"
    },
    "tags": []
   },
   "source": [
    "## HTML export"
   ]
  },
  {
   "cell_type": "code",
   "execution_count": null,
   "id": "96",
   "metadata": {
    "papermill": {
     "duration": 0.28722,
     "end_time": "2025-08-09T06:36:22.255427",
     "exception": false,
     "start_time": "2025-08-09T06:36:21.968207",
     "status": "completed"
    },
    "tags": []
   },
   "outputs": [],
   "source": [
    "# May need to sleep for a few seconds after saving\n",
    "save_notebook()"
   ]
  },
  {
   "cell_type": "code",
   "execution_count": null,
   "id": "97",
   "metadata": {
    "papermill": {
     "duration": 3.488104,
     "end_time": "2025-08-09T06:36:26.023442",
     "exception": false,
     "start_time": "2025-08-09T06:36:22.535338",
     "status": "completed"
    },
    "tags": []
   },
   "outputs": [],
   "source": [
    "export_notebook(dirs.NOTEBOOKS.user / \"Sets.ipynb\")"
   ]
  },
  {
   "cell_type": "markdown",
   "id": "98",
   "metadata": {
    "papermill": {
     "duration": 0.304167,
     "end_time": "2025-08-09T06:36:26.656435",
     "exception": false,
     "start_time": "2025-08-09T06:36:26.352268",
     "status": "completed"
    },
    "tags": [
     "exclude"
    ]
   },
   "source": [
    "## Git"
   ]
  },
  {
   "cell_type": "code",
   "execution_count": null,
   "id": "99",
   "metadata": {
    "papermill": {
     "duration": null,
     "end_time": null,
     "exception": false,
     "start_time": "2025-08-09T06:36:26.940779",
     "status": "running"
    },
    "tags": [
     "exclude"
    ]
   },
   "outputs": [],
   "source": [
    "git.commit(\"*[Ss]ets[._]*\", f\"Sets update - {timestamp.isoformat()}\")"
   ]
  }
 ],
 "metadata": {
  "kernelspec": {
   "display_name": "venv",
   "language": "python",
   "name": "python3"
  },
  "language_info": {
   "codemirror_mode": {
    "name": "ipython",
    "version": 3
   },
   "file_extension": ".py",
   "mimetype": "text/x-python",
   "name": "python",
   "nbconvert_exporter": "python",
   "pygments_lexer": "ipython3",
   "version": "3.11.6"
  },
  "papermill": {
   "default_parameters": {},
   "duration": null,
   "end_time": null,
   "environment_variables": {},
   "exception": null,
   "input_path": "/home/jovyan/yugiquery/notebooks/Sets.ipynb",
   "output_path": "/home/jovyan/yugiquery/notebooks/Sets.ipynb",
   "parameters": {},
   "start_time": "2025-08-09T06:22:20.848502",
   "version": "2.6.0"
  },
  "toc": {
   "base_numbering": 1,
   "nav_menu": {},
   "number_sections": true,
   "sideBar": true,
   "skip_h1_title": false,
   "title_cell": "Table of Contents",
   "title_sidebar": "Contents",
   "toc_cell": true,
   "toc_position": {
    "height": "calc(100% - 180px)",
    "left": "10px",
    "top": "150px",
    "width": "288px"
   },
   "toc_section_display": true,
   "toc_window_display": true
  },
  "toc-autonumbering": false,
  "toc-showcode": false,
  "toc-showmarkdowntxt": false,
  "toc-showtags": false
 },
 "nbformat": 4,
 "nbformat_minor": 5
}
