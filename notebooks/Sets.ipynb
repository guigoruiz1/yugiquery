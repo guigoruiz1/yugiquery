{
 "cells": [
  {
   "cell_type": "code",
   "execution_count": null,
   "id": "0",
   "metadata": {
    "papermill": {
     "duration": 2.794107,
     "end_time": "2025-02-22T07:11:11.261802",
     "exception": false,
     "start_time": "2025-02-22T07:11:08.467695",
     "status": "completed"
    },
    "tags": []
   },
   "outputs": [],
   "source": [
    "from yugiquery import *\n",
    "\n",
    "init_notebook_mode(all_interactive=True)\n",
    "\n",
    "header(\"Sets\")"
   ]
  },
  {
   "cell_type": "markdown",
   "id": "1",
   "metadata": {
    "papermill": {
     "duration": 0.059962,
     "end_time": "2025-02-22T07:11:11.375635",
     "exception": false,
     "start_time": "2025-02-22T07:11:11.315673",
     "status": "completed"
    },
    "tags": []
   },
   "source": [
    "---"
   ]
  },
  {
   "cell_type": "markdown",
   "id": "2",
   "metadata": {
    "papermill": {
     "duration": 0.052286,
     "end_time": "2025-02-22T07:11:11.482034",
     "exception": false,
     "start_time": "2025-02-22T07:11:11.429748",
     "status": "completed"
    },
    "tags": []
   },
   "source": [
    "Table of Contents <a class=\"jp-toc-ignore\"></a>\n",
    "=================\n",
    "* [1 Data aquisition](#data-aquisition)\n",
    "  * [1.1 Fetch set lists](#fetch-set-lists)\n",
    "  * [1.2 Fetch set properties](#fetch-set-properties)\n",
    "  * [1.3 Merge data](#merge-data)\n",
    "* [2 Check changes](#check-changes)\n",
    "  * [2.1 Load previous data](#load-previous-data)\n",
    "  * [2.2 Generate changelog](#generate-changelog)\n",
    "  * [2.3 Save data](#save-data)\n",
    "* [3 Data visualization](#data-visualization)\n",
    "  * [3.1 Full data](#full-data)\n",
    "  * [3.2 Set](#set)\n",
    "  * [3.3 Card number](#card-number)\n",
    "  * [3.4 Name](#name)\n",
    "  * [3.5 Rarity](#rarity)\n",
    "    * [3.5.1 By unique](#by-unique)\n",
    "    * [3.5.2 By combination](#by-combination)\n",
    "  * [3.6 Print](#print)\n",
    "  * [3.7 Quantity](#quantity)\n",
    "  * [3.8 Region](#region)\n",
    "  * [3.9 Cover card](#cover-card)\n",
    "  * [3.10 Series](#series)\n",
    "  * [3.11 Set type](#set-type)\n",
    "  * [3.12 Release](#release)\n",
    "    * [3.12.1 By year](#by-year)\n",
    "    * [3.12.2 By month](#by-month)\n",
    "    * [3.12.3 By day](#by-day)\n",
    "    * [3.12.4 By region](#by-region)\n",
    "    * [3.12.5 By series](#by-series)\n",
    "    * [3.12.6 By set type](#by-set-type)\n",
    "* [4 Debug](#debug)\n",
    "  * [4.1 Has nan name/number](#has-nan-name/number)\n",
    "  * [4.2 Has nan rarity](#has-nan-rarity)\n",
    "  * [4.3 Has nan release](#has-nan-release)\n",
    "  * [4.4 HTML export](#html-export)\n",
    "  <!-- * [4.5 Git](#git) -->"
   ]
  },
  {
   "cell_type": "markdown",
   "id": "3",
   "metadata": {
    "papermill": {
     "duration": 0.064266,
     "end_time": "2025-02-22T07:11:11.600338",
     "exception": false,
     "start_time": "2025-02-22T07:11:11.536072",
     "status": "completed"
    },
    "tags": []
   },
   "source": [
    "# Data aquisition"
   ]
  },
  {
   "cell_type": "markdown",
   "id": "4",
   "metadata": {
    "papermill": {
     "duration": 0.052958,
     "end_time": "2025-02-22T07:11:11.711538",
     "exception": false,
     "start_time": "2025-02-22T07:11:11.658580",
     "status": "completed"
    },
    "tags": []
   },
   "source": [
    "## Fetch set lists"
   ]
  },
  {
   "cell_type": "code",
   "execution_count": null,
   "id": "5",
   "metadata": {
    "code_folding": [],
    "papermill": {
     "duration": 168.450022,
     "end_time": "2025-02-22T07:14:00.212175",
     "exception": false,
     "start_time": "2025-02-22T07:11:11.762153",
     "status": "completed"
    },
    "tags": []
   },
   "outputs": [],
   "source": [
    "# Timestamp\n",
    "timestamp = arrow.utcnow()\n",
    "\n",
    "all_set_lists_df = fetch_all_set_lists()"
   ]
  },
  {
   "cell_type": "markdown",
   "id": "6",
   "metadata": {
    "papermill": {
     "duration": 0.07273,
     "end_time": "2025-02-22T07:14:00.339992",
     "exception": false,
     "start_time": "2025-02-22T07:14:00.267262",
     "status": "completed"
    },
    "tags": []
   },
   "source": [
    "## Fetch set properties"
   ]
  },
  {
   "cell_type": "code",
   "execution_count": null,
   "id": "7",
   "metadata": {
    "papermill": {
     "duration": 101.069144,
     "end_time": "2025-02-22T07:15:41.463560",
     "exception": false,
     "start_time": "2025-02-22T07:14:00.394416",
     "status": "completed"
    },
    "tags": []
   },
   "outputs": [],
   "source": [
    "# List of sets to ask\n",
    "sets = all_set_lists_df[\"Set\"].unique()\n",
    "set_info_df = api.fetch_set_info(*sets)"
   ]
  },
  {
   "cell_type": "markdown",
   "id": "8",
   "metadata": {
    "papermill": {
     "duration": 0.110712,
     "end_time": "2025-02-22T07:15:41.630326",
     "exception": false,
     "start_time": "2025-02-22T07:15:41.519614",
     "status": "completed"
    },
    "tags": []
   },
   "source": [
    "## Merge data"
   ]
  },
  {
   "cell_type": "code",
   "execution_count": null,
   "id": "9",
   "metadata": {
    "papermill": {
     "duration": 140.551281,
     "end_time": "2025-02-22T07:18:02.237351",
     "exception": false,
     "start_time": "2025-02-22T07:15:41.686070",
     "status": "completed"
    },
    "tags": []
   },
   "outputs": [],
   "source": [
    "# Add properties to set lists\n",
    "all_set_lists_df = merge_set_info(all_set_lists_df, set_info_df)"
   ]
  },
  {
   "cell_type": "markdown",
   "id": "10",
   "metadata": {
    "papermill": {
     "duration": 0.066672,
     "end_time": "2025-02-22T07:18:02.495395",
     "exception": false,
     "start_time": "2025-02-22T07:18:02.428723",
     "status": "completed"
    },
    "tags": []
   },
   "source": [
    "# Check changes"
   ]
  },
  {
   "cell_type": "markdown",
   "id": "11",
   "metadata": {
    "papermill": {
     "duration": 0.051557,
     "end_time": "2025-02-22T07:18:02.608123",
     "exception": false,
     "start_time": "2025-02-22T07:18:02.556566",
     "status": "completed"
    },
    "tags": []
   },
   "source": [
    "## Load previous data"
   ]
  },
  {
   "cell_type": "code",
   "execution_count": null,
   "id": "12",
   "metadata": {
    "papermill": {
     "duration": 10.762467,
     "end_time": "2025-02-22T07:18:13.468333",
     "exception": false,
     "start_time": "2025-02-22T07:18:02.705866",
     "status": "completed"
    },
    "tags": []
   },
   "outputs": [],
   "source": [
    "# Get latest file if exist\n",
    "tuple_cols = [\"Rarity\", \"Cover card\"]\n",
    "previous_df, previous_ts = load_latest_data(\"sets\", tuple_cols)\n",
    "\n",
    "if previous_df is not None:\n",
    "    previous_df = previous_df.astype(\n",
    "        all_set_lists_df[previous_df.columns.intersection(all_set_lists_df.columns)].dtypes.to_dict()\n",
    "    )"
   ]
  },
  {
   "cell_type": "markdown",
   "id": "13",
   "metadata": {
    "papermill": {
     "duration": 0.245905,
     "end_time": "2025-02-22T07:18:13.771897",
     "exception": false,
     "start_time": "2025-02-22T07:18:13.525992",
     "status": "completed"
    },
    "tags": []
   },
   "source": [
    "## Generate changelog"
   ]
  },
  {
   "cell_type": "code",
   "execution_count": null,
   "id": "14",
   "metadata": {
    "papermill": {
     "duration": 4.19054,
     "end_time": "2025-02-22T07:18:18.019045",
     "exception": false,
     "start_time": "2025-02-22T07:18:13.828505",
     "status": "completed"
    },
    "tags": []
   },
   "outputs": [],
   "source": [
    "if previous_df is None:\n",
    "    changelog = None\n",
    "    print(\"Skipped\")\n",
    "else:\n",
    "    changelog = generate_changelog(previous_df, all_set_lists_df, col=\"Card number\")\n",
    "    if not changelog.empty:\n",
    "        display(changelog)\n",
    "        changelog.to_csv(\n",
    "            dirs.DATA / make_filename(report=\"sets\", timestamp=timestamp, previous_timestamp=previous_ts),\n",
    "            index=True,\n",
    "        )\n",
    "        print(\"Changelog saved\")"
   ]
  },
  {
   "cell_type": "markdown",
   "id": "15",
   "metadata": {
    "papermill": {
     "duration": 0.067288,
     "end_time": "2025-02-22T07:18:18.151027",
     "exception": false,
     "start_time": "2025-02-22T07:18:18.083739",
     "status": "completed"
    },
    "tags": []
   },
   "source": [
    "## Save data"
   ]
  },
  {
   "cell_type": "code",
   "execution_count": null,
   "id": "16",
   "metadata": {
    "papermill": {
     "duration": 17.921456,
     "end_time": "2025-02-22T07:18:36.134409",
     "exception": false,
     "start_time": "2025-02-22T07:18:18.212953",
     "status": "completed"
    },
    "tags": []
   },
   "outputs": [],
   "source": [
    "if changelog is not None and changelog.empty:\n",
    "    print(\"No changes. New data not saved\")\n",
    "else:\n",
    "    all_set_lists_df.to_csv(\n",
    "        dirs.DATA / make_filename(report=\"sets\", timestamp=timestamp),\n",
    "        index=False,\n",
    "    )\n",
    "    print(\"Data saved\")"
   ]
  },
  {
   "cell_type": "markdown",
   "id": "17",
   "metadata": {
    "papermill": {
     "duration": 0.147616,
     "end_time": "2025-02-22T07:18:36.344723",
     "exception": false,
     "start_time": "2025-02-22T07:18:36.197107",
     "status": "completed"
    },
    "tags": []
   },
   "source": [
    "# Data visualization"
   ]
  },
  {
   "cell_type": "markdown",
   "id": "18",
   "metadata": {
    "jp-MarkdownHeadingCollapsed": true,
    "papermill": {
     "duration": 0.056837,
     "end_time": "2025-02-22T07:18:36.464153",
     "exception": false,
     "start_time": "2025-02-22T07:18:36.407316",
     "status": "completed"
    },
    "tags": []
   },
   "source": [
    "## Full data"
   ]
  },
  {
   "cell_type": "code",
   "execution_count": null,
   "id": "19",
   "metadata": {
    "papermill": {
     "duration": 0.281476,
     "end_time": "2025-02-22T07:18:36.807299",
     "exception": false,
     "start_time": "2025-02-22T07:18:36.525823",
     "status": "completed"
    },
    "tags": []
   },
   "outputs": [],
   "source": [
    "all_set_lists_df"
   ]
  },
  {
   "cell_type": "markdown",
   "id": "20",
   "metadata": {
    "papermill": {
     "duration": 0.260388,
     "end_time": "2025-02-22T07:18:37.129310",
     "exception": false,
     "start_time": "2025-02-22T07:18:36.868922",
     "status": "completed"
    },
    "tags": []
   },
   "source": [
    "Full data available [here](../data)"
   ]
  },
  {
   "cell_type": "markdown",
   "id": "21",
   "metadata": {
    "jp-MarkdownHeadingCollapsed": true,
    "papermill": {
     "duration": 0.05803,
     "end_time": "2025-02-22T07:18:37.251613",
     "exception": false,
     "start_time": "2025-02-22T07:18:37.193583",
     "status": "completed"
    },
    "tags": []
   },
   "source": [
    "## Set"
   ]
  },
  {
   "cell_type": "code",
   "execution_count": null,
   "id": "22",
   "metadata": {
    "papermill": {
     "duration": 0.103844,
     "end_time": "2025-02-22T07:18:37.421682",
     "exception": false,
     "start_time": "2025-02-22T07:18:37.317838",
     "status": "completed"
    },
    "tags": []
   },
   "outputs": [],
   "source": [
    "print(\"Total number of sets:\", all_set_lists_df[\"Set\"].nunique())"
   ]
  },
  {
   "cell_type": "code",
   "execution_count": null,
   "id": "23",
   "metadata": {
    "papermill": {
     "duration": 0.882027,
     "end_time": "2025-02-22T07:18:38.369518",
     "exception": false,
     "start_time": "2025-02-22T07:18:37.487491",
     "status": "completed"
    },
    "tags": []
   },
   "outputs": [],
   "source": [
    "all_set_lists_df.groupby(\"Set\", dropna=False).nunique()"
   ]
  },
  {
   "cell_type": "code",
   "execution_count": null,
   "id": "24",
   "metadata": {
    "papermill": {
     "duration": 0.952949,
     "end_time": "2025-02-22T07:18:39.391581",
     "exception": false,
     "start_time": "2025-02-22T07:18:38.438632",
     "status": "completed"
    },
    "tags": []
   },
   "outputs": [],
   "source": [
    "all_set_lists_df.groupby(\"Set\", dropna=False).nunique().describe()"
   ]
  },
  {
   "cell_type": "markdown",
   "id": "25",
   "metadata": {
    "jp-MarkdownHeadingCollapsed": true,
    "papermill": {
     "duration": 0.060605,
     "end_time": "2025-02-22T07:18:39.560146",
     "exception": false,
     "start_time": "2025-02-22T07:18:39.499541",
     "status": "completed"
    },
    "tags": []
   },
   "source": [
    "## Card number"
   ]
  },
  {
   "cell_type": "code",
   "execution_count": null,
   "id": "26",
   "metadata": {
    "papermill": {
     "duration": 0.275467,
     "end_time": "2025-02-22T07:18:39.904450",
     "exception": false,
     "start_time": "2025-02-22T07:18:39.628983",
     "status": "completed"
    },
    "tags": []
   },
   "outputs": [],
   "source": [
    "print(\"Total number of card numbers:\", all_set_lists_df[\"Card number\"].nunique())"
   ]
  },
  {
   "cell_type": "code",
   "execution_count": null,
   "id": "27",
   "metadata": {
    "papermill": {
     "duration": 1.686688,
     "end_time": "2025-02-22T07:18:41.662477",
     "exception": false,
     "start_time": "2025-02-22T07:18:39.975789",
     "status": "completed"
    },
    "tags": []
   },
   "outputs": [],
   "source": [
    "all_set_lists_df.groupby(\"Card number\", dropna=False).nunique()"
   ]
  },
  {
   "cell_type": "markdown",
   "id": "28",
   "metadata": {
    "jp-MarkdownHeadingCollapsed": true,
    "papermill": {
     "duration": 0.597359,
     "end_time": "2025-02-22T07:18:42.328227",
     "exception": false,
     "start_time": "2025-02-22T07:18:41.730868",
     "status": "completed"
    },
    "tags": []
   },
   "source": [
    "## Name"
   ]
  },
  {
   "cell_type": "code",
   "execution_count": null,
   "id": "29",
   "metadata": {
    "papermill": {
     "duration": 0.125034,
     "end_time": "2025-02-22T07:18:42.657507",
     "exception": false,
     "start_time": "2025-02-22T07:18:42.532473",
     "status": "completed"
    },
    "tags": []
   },
   "outputs": [],
   "source": [
    "print(\"Total number of card names:\", all_set_lists_df[\"Name\"].nunique())"
   ]
  },
  {
   "cell_type": "code",
   "execution_count": null,
   "id": "30",
   "metadata": {
    "papermill": {
     "duration": 1.143511,
     "end_time": "2025-02-22T07:18:43.873369",
     "exception": false,
     "start_time": "2025-02-22T07:18:42.729858",
     "status": "completed"
    },
    "tags": []
   },
   "outputs": [],
   "source": [
    "all_set_lists_df.groupby(\"Name\", dropna=False).nunique()"
   ]
  },
  {
   "cell_type": "code",
   "execution_count": null,
   "id": "31",
   "metadata": {
    "papermill": {
     "duration": 1.000006,
     "end_time": "2025-02-22T07:18:44.943515",
     "exception": false,
     "start_time": "2025-02-22T07:18:43.943509",
     "status": "completed"
    },
    "tags": []
   },
   "outputs": [],
   "source": [
    "all_set_lists_df.groupby(\"Name\", dropna=True).nunique().describe()"
   ]
  },
  {
   "cell_type": "markdown",
   "id": "32",
   "metadata": {
    "papermill": {
     "duration": 0.063021,
     "end_time": "2025-02-22T07:18:45.356281",
     "exception": false,
     "start_time": "2025-02-22T07:18:45.293260",
     "status": "completed"
    },
    "tags": []
   },
   "source": [
    "## Rarity"
   ]
  },
  {
   "cell_type": "code",
   "execution_count": null,
   "id": "33",
   "metadata": {
    "papermill": {
     "duration": 0.532772,
     "end_time": "2025-02-22T07:18:46.164744",
     "exception": false,
     "start_time": "2025-02-22T07:18:45.631972",
     "status": "completed"
    },
    "tags": []
   },
   "outputs": [],
   "source": [
    "print(\"Total number of rarities:\", all_set_lists_df[\"Rarity\"].explode().nunique())"
   ]
  },
  {
   "cell_type": "markdown",
   "id": "34",
   "metadata": {
    "papermill": {
     "duration": 0.062559,
     "end_time": "2025-02-22T07:18:46.297998",
     "exception": false,
     "start_time": "2025-02-22T07:18:46.235439",
     "status": "completed"
    },
    "tags": []
   },
   "source": [
    "### By unique"
   ]
  },
  {
   "cell_type": "code",
   "execution_count": null,
   "id": "35",
   "metadata": {
    "papermill": {
     "duration": 2.585426,
     "end_time": "2025-02-22T07:18:48.952377",
     "exception": false,
     "start_time": "2025-02-22T07:18:46.366951",
     "status": "completed"
    },
    "tags": []
   },
   "outputs": [],
   "source": [
    "all_set_lists_df.explode(\"Rarity\").groupby(\"Rarity\", dropna=False).nunique()"
   ]
  },
  {
   "cell_type": "code",
   "execution_count": null,
   "id": "36",
   "metadata": {
    "papermill": {
     "duration": 1.760875,
     "end_time": "2025-02-22T07:18:50.785069",
     "exception": false,
     "start_time": "2025-02-22T07:18:49.024194",
     "status": "completed"
    },
    "tags": []
   },
   "outputs": [],
   "source": [
    "all_set_lists_df[\"Rarity\"].explode().value_counts().plot.barh(figsize=(10, 20))\n",
    "plt.xscale(\"log\")\n",
    "plt.show()"
   ]
  },
  {
   "cell_type": "markdown",
   "id": "37",
   "metadata": {
    "papermill": {
     "duration": 0.069766,
     "end_time": "2025-02-22T07:18:50.933024",
     "exception": false,
     "start_time": "2025-02-22T07:18:50.863258",
     "status": "completed"
    },
    "tags": []
   },
   "source": [
    "### By combination"
   ]
  },
  {
   "cell_type": "code",
   "execution_count": null,
   "id": "38",
   "metadata": {
    "papermill": {
     "duration": 0.904309,
     "end_time": "2025-02-22T07:18:51.918566",
     "exception": false,
     "start_time": "2025-02-22T07:18:51.014257",
     "status": "completed"
    },
    "tags": []
   },
   "outputs": [],
   "source": [
    "all_set_lists_df.groupby(\"Rarity\", dropna=False).nunique()"
   ]
  },
  {
   "cell_type": "code",
   "execution_count": null,
   "id": "39",
   "metadata": {
    "papermill": {
     "duration": 0.085871,
     "end_time": "2025-02-22T07:18:52.084194",
     "exception": false,
     "start_time": "2025-02-22T07:18:51.998323",
     "status": "completed"
    },
    "tags": []
   },
   "outputs": [],
   "source": [
    "# # Disabled for beeing too large\n",
    "\n",
    "# all_set_lists_df[\"Rarity\"].value_counts().plot.barh(figsize=(10, 80), grid=True)\n",
    "# plt.xscale(\"log\")\n",
    "# plt.show()"
   ]
  },
  {
   "cell_type": "markdown",
   "id": "40",
   "metadata": {
    "papermill": {
     "duration": 0.107112,
     "end_time": "2025-02-22T07:18:52.270745",
     "exception": false,
     "start_time": "2025-02-22T07:18:52.163633",
     "status": "completed"
    },
    "tags": []
   },
   "source": [
    "## Print"
   ]
  },
  {
   "cell_type": "code",
   "execution_count": null,
   "id": "41",
   "metadata": {
    "papermill": {
     "duration": 0.127742,
     "end_time": "2025-02-22T07:18:52.604835",
     "exception": false,
     "start_time": "2025-02-22T07:18:52.477093",
     "status": "completed"
    },
    "tags": []
   },
   "outputs": [],
   "source": [
    "print(\"Total number of prints:\", all_set_lists_df[\"Print\"].nunique())"
   ]
  },
  {
   "cell_type": "code",
   "execution_count": null,
   "id": "42",
   "metadata": {
    "papermill": {
     "duration": 1.062871,
     "end_time": "2025-02-22T07:18:53.748402",
     "exception": false,
     "start_time": "2025-02-22T07:18:52.685531",
     "status": "completed"
    },
    "tags": []
   },
   "outputs": [],
   "source": [
    "all_set_lists_df.groupby(\"Print\", dropna=False).nunique()"
   ]
  },
  {
   "cell_type": "code",
   "execution_count": null,
   "id": "43",
   "metadata": {
    "papermill": {
     "duration": 0.732241,
     "end_time": "2025-02-22T07:18:54.559579",
     "exception": false,
     "start_time": "2025-02-22T07:18:53.827338",
     "status": "completed"
    },
    "tags": []
   },
   "outputs": [],
   "source": [
    "all_set_lists_df[\"Print\"].value_counts().plot.bar(figsize=(18, 6), rot=45)\n",
    "plt.yscale(\"log\")\n",
    "plt.show()"
   ]
  },
  {
   "cell_type": "markdown",
   "id": "44",
   "metadata": {
    "papermill": {
     "duration": 0.076705,
     "end_time": "2025-02-22T07:18:54.967229",
     "exception": false,
     "start_time": "2025-02-22T07:18:54.890524",
     "status": "completed"
    },
    "tags": []
   },
   "source": [
    "## Quantity"
   ]
  },
  {
   "cell_type": "code",
   "execution_count": null,
   "id": "45",
   "metadata": {
    "papermill": {
     "duration": 0.141977,
     "end_time": "2025-02-22T07:18:55.255259",
     "exception": false,
     "start_time": "2025-02-22T07:18:55.113282",
     "status": "completed"
    },
    "tags": []
   },
   "outputs": [],
   "source": [
    "print(\"Total number of quantities:\", all_set_lists_df[\"Quantity\"].nunique())"
   ]
  },
  {
   "cell_type": "code",
   "execution_count": null,
   "id": "46",
   "metadata": {
    "papermill": {
     "duration": 0.868308,
     "end_time": "2025-02-22T07:18:56.206525",
     "exception": false,
     "start_time": "2025-02-22T07:18:55.338217",
     "status": "completed"
    },
    "tags": []
   },
   "outputs": [],
   "source": [
    "all_set_lists_df.groupby(\"Quantity\", dropna=False).nunique()"
   ]
  },
  {
   "cell_type": "markdown",
   "id": "47",
   "metadata": {
    "papermill": {
     "duration": 0.106751,
     "end_time": "2025-02-22T07:18:56.408035",
     "exception": false,
     "start_time": "2025-02-22T07:18:56.301284",
     "status": "completed"
    },
    "tags": []
   },
   "source": [
    "## Region"
   ]
  },
  {
   "cell_type": "code",
   "execution_count": null,
   "id": "48",
   "metadata": {
    "papermill": {
     "duration": 0.117963,
     "end_time": "2025-02-22T07:18:56.610319",
     "exception": false,
     "start_time": "2025-02-22T07:18:56.492356",
     "status": "completed"
    },
    "tags": []
   },
   "outputs": [],
   "source": [
    "print(\"Total number of regions:\", all_set_lists_df[\"Region\"].nunique())"
   ]
  },
  {
   "cell_type": "code",
   "execution_count": null,
   "id": "49",
   "metadata": {
    "papermill": {
     "duration": 0.896415,
     "end_time": "2025-02-22T07:18:57.590348",
     "exception": false,
     "start_time": "2025-02-22T07:18:56.693933",
     "status": "completed"
    },
    "tags": []
   },
   "outputs": [],
   "source": [
    "all_set_lists_df.groupby([\"Set\", \"Region\"], dropna=False).nunique()"
   ]
  },
  {
   "cell_type": "code",
   "execution_count": null,
   "id": "50",
   "metadata": {
    "papermill": {
     "duration": 0.877479,
     "end_time": "2025-02-22T07:18:58.554791",
     "exception": false,
     "start_time": "2025-02-22T07:18:57.677312",
     "status": "completed"
    },
    "tags": []
   },
   "outputs": [],
   "source": [
    "all_set_lists_df.groupby(\"Region\", dropna=False).nunique().describe()"
   ]
  },
  {
   "cell_type": "code",
   "execution_count": null,
   "id": "51",
   "metadata": {
    "papermill": {
     "duration": 0.331445,
     "end_time": "2025-02-22T07:18:58.972254",
     "exception": false,
     "start_time": "2025-02-22T07:18:58.640809",
     "status": "completed"
    },
    "tags": []
   },
   "outputs": [],
   "source": [
    "all_set_lists_df[\"Region\"].value_counts().plot.bar(figsize=(18, 6), rot=0)\n",
    "plt.show()"
   ]
  },
  {
   "cell_type": "markdown",
   "id": "52",
   "metadata": {
    "papermill": {
     "duration": 0.104721,
     "end_time": "2025-02-22T07:18:59.164596",
     "exception": false,
     "start_time": "2025-02-22T07:18:59.059875",
     "status": "completed"
    },
    "tags": []
   },
   "source": [
    "## Cover card"
   ]
  },
  {
   "cell_type": "code",
   "execution_count": null,
   "id": "53",
   "metadata": {
    "papermill": {
     "duration": 0.512769,
     "end_time": "2025-02-22T07:18:59.768517",
     "exception": false,
     "start_time": "2025-02-22T07:18:59.255748",
     "status": "completed"
    },
    "tags": []
   },
   "outputs": [],
   "source": [
    "print(\n",
    "    \"Total number of cover cards:\",\n",
    "    all_set_lists_df[\"Cover card\"].explode(\"Cover card\").nunique(),\n",
    ")"
   ]
  },
  {
   "cell_type": "code",
   "execution_count": null,
   "id": "54",
   "metadata": {
    "papermill": {
     "duration": 2.975936,
     "end_time": "2025-02-22T07:19:02.835363",
     "exception": false,
     "start_time": "2025-02-22T07:18:59.859427",
     "status": "completed"
    },
    "tags": []
   },
   "outputs": [],
   "source": [
    "all_set_lists_df.explode(\"Cover card\").groupby([\"Cover card\"]).nunique()"
   ]
  },
  {
   "cell_type": "code",
   "execution_count": null,
   "id": "55",
   "metadata": {
    "papermill": {
     "duration": 2.221117,
     "end_time": "2025-02-22T07:19:05.145207",
     "exception": false,
     "start_time": "2025-02-22T07:19:02.924090",
     "status": "completed"
    },
    "tags": []
   },
   "outputs": [],
   "source": [
    "all_set_lists_df.explode([\"Cover card\"]).groupby(\"Cover card\")[\"Set\"].nunique().sort_values().tail(30).plot.barh(\n",
    "    figsize=(10, 10), title=\"Top 30 Cover Cards\"\n",
    ")\n",
    "plt.show()"
   ]
  },
  {
   "cell_type": "markdown",
   "id": "56",
   "metadata": {
    "papermill": {
     "duration": 0.086936,
     "end_time": "2025-02-22T07:19:05.323516",
     "exception": false,
     "start_time": "2025-02-22T07:19:05.236580",
     "status": "completed"
    },
    "tags": []
   },
   "source": [
    "## Series"
   ]
  },
  {
   "cell_type": "code",
   "execution_count": null,
   "id": "57",
   "metadata": {
    "papermill": {
     "duration": 0.136371,
     "end_time": "2025-02-22T07:19:05.553328",
     "exception": false,
     "start_time": "2025-02-22T07:19:05.416957",
     "status": "completed"
    },
    "tags": []
   },
   "outputs": [],
   "source": [
    "print(\"Total number of series:\", all_set_lists_df[\"Series\"].nunique())"
   ]
  },
  {
   "cell_type": "code",
   "execution_count": null,
   "id": "58",
   "metadata": {
    "papermill": {
     "duration": 0.833791,
     "end_time": "2025-02-22T07:19:06.477566",
     "exception": false,
     "start_time": "2025-02-22T07:19:05.643775",
     "status": "completed"
    },
    "tags": []
   },
   "outputs": [],
   "source": [
    "all_set_lists_df.groupby(\"Series\").nunique()"
   ]
  },
  {
   "cell_type": "code",
   "execution_count": null,
   "id": "59",
   "metadata": {
    "papermill": {
     "duration": 1.848359,
     "end_time": "2025-02-22T07:19:08.426176",
     "exception": false,
     "start_time": "2025-02-22T07:19:06.577817",
     "status": "completed"
    },
    "tags": []
   },
   "outputs": [],
   "source": [
    "all_set_lists_df.explode([\"Series\"]).groupby(\"Series\")[\"Set\"].nunique().sort_values(ascending=False).plot.barh(\n",
    "    figsize=(10, 18)\n",
    ")\n",
    "plt.show()"
   ]
  },
  {
   "cell_type": "markdown",
   "id": "60",
   "metadata": {
    "papermill": {
     "duration": 0.105347,
     "end_time": "2025-02-22T07:19:08.636542",
     "exception": false,
     "start_time": "2025-02-22T07:19:08.531195",
     "status": "completed"
    },
    "tags": []
   },
   "source": [
    "## Set type"
   ]
  },
  {
   "cell_type": "code",
   "execution_count": null,
   "id": "61",
   "metadata": {
    "papermill": {
     "duration": 0.200903,
     "end_time": "2025-02-22T07:19:08.938655",
     "exception": false,
     "start_time": "2025-02-22T07:19:08.737752",
     "status": "completed"
    },
    "tags": []
   },
   "outputs": [],
   "source": [
    "print(\"Total number of set types:\", all_set_lists_df[\"Set type\"].nunique())"
   ]
  },
  {
   "cell_type": "code",
   "execution_count": null,
   "id": "62",
   "metadata": {
    "papermill": {
     "duration": 0.922778,
     "end_time": "2025-02-22T07:19:10.106552",
     "exception": false,
     "start_time": "2025-02-22T07:19:09.183774",
     "status": "completed"
    },
    "tags": []
   },
   "outputs": [],
   "source": [
    "all_set_lists_df.groupby(\"Set type\").nunique()"
   ]
  },
  {
   "cell_type": "code",
   "execution_count": null,
   "id": "63",
   "metadata": {
    "papermill": {
     "duration": 0.482409,
     "end_time": "2025-02-22T07:19:10.692904",
     "exception": false,
     "start_time": "2025-02-22T07:19:10.210495",
     "status": "completed"
    },
    "tags": []
   },
   "outputs": [],
   "source": [
    "set_info_df[\"Set type\"].value_counts().plot.barh(figsize=(10, 12))\n",
    "plt.show()"
   ]
  },
  {
   "cell_type": "markdown",
   "id": "64",
   "metadata": {
    "papermill": {
     "duration": 0.100613,
     "end_time": "2025-02-22T07:19:10.898038",
     "exception": false,
     "start_time": "2025-02-22T07:19:10.797425",
     "status": "completed"
    },
    "tags": []
   },
   "source": [
    "## Release"
   ]
  },
  {
   "cell_type": "code",
   "execution_count": null,
   "id": "65",
   "metadata": {
    "papermill": {
     "duration": 0.117314,
     "end_time": "2025-02-22T07:19:11.120471",
     "exception": false,
     "start_time": "2025-02-22T07:19:11.003157",
     "status": "completed"
    },
    "tags": []
   },
   "outputs": [],
   "source": [
    "print(\"Total number of release dates:\", all_set_lists_df[\"Release\"].nunique())"
   ]
  },
  {
   "cell_type": "code",
   "execution_count": null,
   "id": "66",
   "metadata": {
    "papermill": {
     "duration": 0.870509,
     "end_time": "2025-02-22T07:19:12.094735",
     "exception": false,
     "start_time": "2025-02-22T07:19:11.224226",
     "status": "completed"
    },
    "tags": []
   },
   "outputs": [],
   "source": [
    "all_set_lists_df.groupby(\"Release\", dropna=False).nunique()"
   ]
  },
  {
   "cell_type": "code",
   "execution_count": null,
   "id": "67",
   "metadata": {
    "papermill": {
     "duration": 0.229875,
     "end_time": "2025-02-22T07:19:12.566450",
     "exception": false,
     "start_time": "2025-02-22T07:19:12.336575",
     "status": "completed"
    },
    "tags": []
   },
   "outputs": [],
   "source": [
    "set_by_release = pd.DataFrame(all_set_lists_df.groupby(\"Release\", dropna=False)[\"Set\"].nunique())"
   ]
  },
  {
   "cell_type": "markdown",
   "id": "68",
   "metadata": {
    "papermill": {
     "duration": 0.102308,
     "end_time": "2025-02-22T07:19:12.786927",
     "exception": false,
     "start_time": "2025-02-22T07:19:12.684619",
     "status": "completed"
    },
    "tags": []
   },
   "source": [
    "### By year"
   ]
  },
  {
   "cell_type": "code",
   "execution_count": null,
   "id": "69",
   "metadata": {
    "papermill": {
     "duration": 1.284009,
     "end_time": "2025-02-22T07:19:14.174096",
     "exception": false,
     "start_time": "2025-02-22T07:19:12.890087",
     "status": "completed"
    },
    "tags": []
   },
   "outputs": [],
   "source": [
    "all_set_lists_df.drop(\"Modification date\", axis=1).groupby(\"Release\", dropna=False).nunique().groupby(\n",
    "    set_by_release.index.strftime(\"%Y\")\n",
    ").sum()"
   ]
  },
  {
   "cell_type": "code",
   "execution_count": null,
   "id": "70",
   "metadata": {
    "papermill": {
     "duration": 2.352725,
     "end_time": "2025-02-22T07:19:16.632101",
     "exception": false,
     "start_time": "2025-02-22T07:19:14.279376",
     "status": "completed"
    },
    "tags": []
   },
   "outputs": [],
   "source": [
    "_ = plot.rate(set_by_release)\n",
    "plt.show()"
   ]
  },
  {
   "cell_type": "markdown",
   "id": "71",
   "metadata": {
    "papermill": {
     "duration": 0.109443,
     "end_time": "2025-02-22T07:19:16.855504",
     "exception": false,
     "start_time": "2025-02-22T07:19:16.746061",
     "status": "completed"
    },
    "tags": []
   },
   "source": [
    "### By month"
   ]
  },
  {
   "cell_type": "code",
   "execution_count": null,
   "id": "72",
   "metadata": {
    "papermill": {
     "duration": 0.347407,
     "end_time": "2025-02-22T07:19:17.317839",
     "exception": false,
     "start_time": "2025-02-22T07:19:16.970432",
     "status": "completed"
    },
    "tags": []
   },
   "outputs": [],
   "source": [
    "set_by_release.groupby(set_by_release.index.strftime(\"%B\")).sum().sort_index(\n",
    "    key=lambda x: pd.to_datetime(x, format=\"%B\").month\n",
    ").plot.bar(figsize=(16, 8), xlabel=\"Release month\", rot=0)\n",
    "plt.show()"
   ]
  },
  {
   "cell_type": "code",
   "execution_count": null,
   "id": "73",
   "metadata": {
    "papermill": {
     "duration": 0.458567,
     "end_time": "2025-02-22T07:19:17.890741",
     "exception": false,
     "start_time": "2025-02-22T07:19:17.432174",
     "status": "completed"
    },
    "tags": []
   },
   "outputs": [],
   "source": [
    "set_by_release.groupby(set_by_release.index.strftime(\"%d\")).sum().plot.bar(\n",
    "    figsize=(16, 8), xlabel=\"Release day of the month\", rot=0\n",
    ")\n",
    "plt.show()"
   ]
  },
  {
   "cell_type": "markdown",
   "id": "74",
   "metadata": {
    "papermill": {
     "duration": 0.11406,
     "end_time": "2025-02-22T07:19:18.123127",
     "exception": false,
     "start_time": "2025-02-22T07:19:18.009067",
     "status": "completed"
    },
    "tags": []
   },
   "source": [
    "### By day"
   ]
  },
  {
   "cell_type": "code",
   "execution_count": null,
   "id": "75",
   "metadata": {
    "papermill": {
     "duration": 0.305044,
     "end_time": "2025-02-22T07:19:18.553873",
     "exception": false,
     "start_time": "2025-02-22T07:19:18.248829",
     "status": "completed"
    },
    "tags": []
   },
   "outputs": [],
   "source": [
    "set_by_release.groupby(set_by_release.index.dayofyear).sum().plot(\n",
    "    figsize=(16, 8), xlabel=\"Release day of the year\", drawstyle=\"steps-mid\"\n",
    ")\n",
    "plt.show()"
   ]
  },
  {
   "cell_type": "code",
   "execution_count": null,
   "id": "76",
   "metadata": {
    "papermill": {
     "duration": 0.368888,
     "end_time": "2025-02-22T07:19:19.042268",
     "exception": false,
     "start_time": "2025-02-22T07:19:18.673380",
     "status": "completed"
    },
    "tags": []
   },
   "outputs": [],
   "source": [
    "set_by_release_wd = set_by_release.groupby(set_by_release.index.weekday).sum()\n",
    "set_by_release_wd.index = [calendar.day_name[i] for i in set_by_release_wd.index.astype(int)]\n",
    "set_by_release_wd.plot.bar(figsize=(12, 6), xlabel=\"Release day of the week\", rot=0)\n",
    "plt.show()"
   ]
  },
  {
   "cell_type": "markdown",
   "id": "77",
   "metadata": {
    "papermill": {
     "duration": 0.12298,
     "end_time": "2025-02-22T07:19:19.285857",
     "exception": false,
     "start_time": "2025-02-22T07:19:19.162877",
     "status": "completed"
    },
    "tags": []
   },
   "source": [
    "### By region"
   ]
  },
  {
   "cell_type": "code",
   "execution_count": null,
   "id": "78",
   "metadata": {
    "papermill": {
     "duration": 1.075577,
     "end_time": "2025-02-22T07:19:20.547335",
     "exception": false,
     "start_time": "2025-02-22T07:19:19.471758",
     "status": "completed"
    },
    "tags": []
   },
   "outputs": [],
   "source": [
    "by_release_region = all_set_lists_df.groupby([\"Region\", \"Release\"]).nunique()\n",
    "by_release_region"
   ]
  },
  {
   "cell_type": "code",
   "execution_count": null,
   "id": "79",
   "metadata": {
    "papermill": {
     "duration": 0.189515,
     "end_time": "2025-02-22T07:19:20.857598",
     "exception": false,
     "start_time": "2025-02-22T07:19:20.668083",
     "status": "completed"
    },
    "tags": []
   },
   "outputs": [],
   "source": [
    "set_by_release_region = by_release_region[\"Set\"].unstack(0).sort_index().fillna(0).astype(int)\n",
    "set_by_release_region_y = set_by_release_region.groupby(set_by_release_region.index.strftime(\"%Y\")).sum().T\n",
    "set_by_release_region_y"
   ]
  },
  {
   "cell_type": "code",
   "execution_count": null,
   "id": "80",
   "metadata": {
    "papermill": {
     "duration": 1.025535,
     "end_time": "2025-02-22T07:19:22.004642",
     "exception": false,
     "start_time": "2025-02-22T07:19:20.979107",
     "status": "completed"
    },
    "tags": []
   },
   "outputs": [],
   "source": [
    "plt.figure(figsize=(14, 6))\n",
    "sns.heatmap(\n",
    "    set_by_release_region_y[set_by_release_region_y > 0],\n",
    "    annot=True,\n",
    "    fmt=\"g\",\n",
    "    cmap=\"viridis\",\n",
    "    square=True,\n",
    ")\n",
    "plt.show()"
   ]
  },
  {
   "cell_type": "code",
   "execution_count": null,
   "id": "81",
   "metadata": {
    "papermill": {
     "duration": 29.895701,
     "end_time": "2025-02-22T07:19:52.030616",
     "exception": false,
     "start_time": "2025-02-22T07:19:22.134915",
     "status": "completed"
    },
    "tags": []
   },
   "outputs": [],
   "source": [
    "_ = plot.rate(set_by_release_region, subplots=True, title=\"Set releases\")\n",
    "plt.show()"
   ]
  },
  {
   "cell_type": "markdown",
   "id": "82",
   "metadata": {
    "papermill": {
     "duration": 0.226445,
     "end_time": "2025-02-22T07:19:52.501232",
     "exception": false,
     "start_time": "2025-02-22T07:19:52.274787",
     "status": "completed"
    },
    "tags": []
   },
   "source": [
    "### By series"
   ]
  },
  {
   "cell_type": "code",
   "execution_count": null,
   "id": "83",
   "metadata": {
    "papermill": {
     "duration": 2.026531,
     "end_time": "2025-02-22T07:19:54.771529",
     "exception": false,
     "start_time": "2025-02-22T07:19:52.744998",
     "status": "completed"
    },
    "tags": []
   },
   "outputs": [],
   "source": [
    "by_release_series = all_set_lists_df.explode(\"Series\").groupby([\"Series\", \"Release\"]).nunique()\n",
    "by_release_series"
   ]
  },
  {
   "cell_type": "code",
   "execution_count": null,
   "id": "84",
   "metadata": {
    "papermill": {
     "duration": 0.4802,
     "end_time": "2025-02-22T07:19:55.490714",
     "exception": false,
     "start_time": "2025-02-22T07:19:55.010514",
     "status": "completed"
    },
    "tags": []
   },
   "outputs": [],
   "source": [
    "set_by_release_series = by_release_series[\"Set\"].unstack(0).sort_index().fillna(0).astype(int)\n",
    "set_by_release_series_y = set_by_release_series.groupby(set_by_release_series.index.strftime(\"%Y\")).sum().T\n",
    "set_by_release_series_y"
   ]
  },
  {
   "cell_type": "code",
   "execution_count": null,
   "id": "85",
   "metadata": {
    "papermill": {
     "duration": 2.219663,
     "end_time": "2025-02-22T07:19:57.948396",
     "exception": false,
     "start_time": "2025-02-22T07:19:55.728733",
     "status": "completed"
    },
    "tags": []
   },
   "outputs": [],
   "source": [
    "plt.figure(figsize=(16, 30))\n",
    "sns.heatmap(\n",
    "    set_by_release_series_y[set_by_release_series_y > 0],\n",
    "    annot=True,\n",
    "    fmt=\"g\",\n",
    "    cmap=\"viridis\",\n",
    "    square=True,\n",
    "    cbar_kws={\"aspect\": len(set_by_release_series_y.index)},\n",
    ")\n",
    "plt.show()"
   ]
  },
  {
   "cell_type": "code",
   "execution_count": null,
   "id": "86",
   "metadata": {
    "papermill": {
     "duration": 0.265394,
     "end_time": "2025-02-22T07:19:58.479012",
     "exception": false,
     "start_time": "2025-02-22T07:19:58.213618",
     "status": "completed"
    },
    "tags": []
   },
   "outputs": [],
   "source": [
    "# # Disabled for being too large\n",
    "\n",
    "# _ = plot.rate(set_by_release_series, subplots=True, title=\"Set releases\")\n",
    "# plt.show()"
   ]
  },
  {
   "cell_type": "markdown",
   "id": "87",
   "metadata": {
    "papermill": {
     "duration": 0.253338,
     "end_time": "2025-02-22T07:19:58.994445",
     "exception": false,
     "start_time": "2025-02-22T07:19:58.741107",
     "status": "completed"
    },
    "tags": []
   },
   "source": [
    "### By set type"
   ]
  },
  {
   "cell_type": "code",
   "execution_count": null,
   "id": "88",
   "metadata": {
    "papermill": {
     "duration": 2.211123,
     "end_time": "2025-02-22T07:20:01.465884",
     "exception": false,
     "start_time": "2025-02-22T07:19:59.254761",
     "status": "completed"
    },
    "tags": []
   },
   "outputs": [],
   "source": [
    "by_release_type = all_set_lists_df.explode(\"Set type\").groupby([\"Set type\", \"Release\"]).nunique()\n",
    "by_release_type"
   ]
  },
  {
   "cell_type": "code",
   "execution_count": null,
   "id": "89",
   "metadata": {
    "papermill": {
     "duration": 0.370242,
     "end_time": "2025-02-22T07:20:02.097195",
     "exception": false,
     "start_time": "2025-02-22T07:20:01.726953",
     "status": "completed"
    },
    "tags": []
   },
   "outputs": [],
   "source": [
    "set_by_release_type = by_release_type[\"Set\"].unstack(0).sort_index().fillna(0).astype(int)\n",
    "set_by_release_type_y = set_by_release_type.groupby(set_by_release_type.index.strftime(\"%Y\")).sum().T\n",
    "set_by_release_type_y"
   ]
  },
  {
   "cell_type": "code",
   "execution_count": null,
   "id": "90",
   "metadata": {
    "papermill": {
     "duration": 1.933223,
     "end_time": "2025-02-22T07:20:04.632217",
     "exception": false,
     "start_time": "2025-02-22T07:20:02.698994",
     "status": "completed"
    },
    "tags": []
   },
   "outputs": [],
   "source": [
    "plt.figure(figsize=(14, 16))\n",
    "sns.heatmap(\n",
    "    set_by_release_type_y[set_by_release_type_y > 0],\n",
    "    annot=True,\n",
    "    fmt=\"g\",\n",
    "    cmap=\"viridis\",\n",
    "    square=True,\n",
    "    cbar_kws={\"aspect\": len(set_by_release_type_y.index)},\n",
    ")\n",
    "plt.show()"
   ]
  },
  {
   "cell_type": "code",
   "execution_count": null,
   "id": "91",
   "metadata": {
    "papermill": {
     "duration": 0.332852,
     "end_time": "2025-02-22T07:20:05.316578",
     "exception": false,
     "start_time": "2025-02-22T07:20:04.983726",
     "status": "completed"
    },
    "tags": []
   },
   "outputs": [],
   "source": [
    "# # Disabled for being too large\n",
    "\n",
    "# _=plot.rate(set_by_release_type, subplots=True, title=\"Set releases\")\n",
    "# plt.show()"
   ]
  },
  {
   "cell_type": "markdown",
   "id": "92",
   "metadata": {
    "papermill": {
     "duration": 0.328844,
     "end_time": "2025-02-22T07:20:05.957732",
     "exception": false,
     "start_time": "2025-02-22T07:20:05.628888",
     "status": "completed"
    },
    "tags": []
   },
   "source": [
    " # Epilogue"
   ]
  },
  {
   "cell_type": "code",
   "execution_count": null,
   "id": "93",
   "metadata": {
    "papermill": {
     "duration": 0.532929,
     "end_time": "2025-02-22T07:20:06.837417",
     "exception": false,
     "start_time": "2025-02-22T07:20:06.304488",
     "status": "completed"
    },
    "tags": []
   },
   "outputs": [],
   "source": [
    "benchmark(report=\"sets\", timestamp=timestamp)"
   ]
  },
  {
   "cell_type": "code",
   "execution_count": null,
   "id": "94",
   "metadata": {
    "papermill": {
     "duration": 0.333147,
     "end_time": "2025-02-22T07:20:07.619815",
     "exception": false,
     "start_time": "2025-02-22T07:20:07.286668",
     "status": "completed"
    },
    "tags": []
   },
   "outputs": [],
   "source": [
    "footer()"
   ]
  },
  {
   "cell_type": "markdown",
   "id": "95",
   "metadata": {
    "papermill": {
     "duration": 0.460067,
     "end_time": "2025-02-22T07:20:08.408835",
     "exception": false,
     "start_time": "2025-02-22T07:20:07.948768",
     "status": "completed"
    },
    "tags": []
   },
   "source": [
    "## HTML export"
   ]
  },
  {
   "cell_type": "code",
   "execution_count": null,
   "id": "96",
   "metadata": {
    "papermill": {
     "duration": 0.46833,
     "end_time": "2025-02-22T07:20:09.238420",
     "exception": false,
     "start_time": "2025-02-22T07:20:08.770090",
     "status": "completed"
    },
    "tags": []
   },
   "outputs": [],
   "source": [
    "# May need to sleep for a few seconds after saving\n",
    "save_notebook()"
   ]
  },
  {
   "cell_type": "code",
   "execution_count": null,
   "id": "97",
   "metadata": {
    "papermill": {
     "duration": 3.605891,
     "end_time": "2025-02-22T07:20:13.683060",
     "exception": false,
     "start_time": "2025-02-22T07:20:10.077169",
     "status": "completed"
    },
    "tags": []
   },
   "outputs": [],
   "source": [
    "export_notebook(dirs.NOTEBOOKS.user / \"Sets.ipynb\")"
   ]
  },
  {
   "cell_type": "markdown",
   "id": "98",
   "metadata": {
    "papermill": {
     "duration": 0.324904,
     "end_time": "2025-02-22T07:20:14.355687",
     "exception": false,
     "start_time": "2025-02-22T07:20:14.030783",
     "status": "completed"
    },
    "tags": [
     "exclude"
    ]
   },
   "source": [
    "## Git"
   ]
  },
  {
   "cell_type": "code",
   "execution_count": null,
   "id": "99",
   "metadata": {
    "papermill": {
     "duration": null,
     "end_time": null,
     "exception": false,
     "start_time": "2025-02-22T07:20:14.727329",
     "status": "running"
    },
    "tags": [
     "exclude"
    ]
   },
   "outputs": [],
   "source": [
    "git.commit(\"*[Ss]ets[._]*\", f\"Sets update - {timestamp.isoformat()}\")"
   ]
  }
 ],
 "metadata": {
  "kernelspec": {
   "display_name": "venv",
   "language": "python",
   "name": "python3"
  },
  "language_info": {
   "codemirror_mode": {
    "name": "ipython",
    "version": 3
   },
   "file_extension": ".py",
   "mimetype": "text/x-python",
   "name": "python",
   "nbconvert_exporter": "python",
   "pygments_lexer": "ipython3",
   "version": "3.11.6"
  },
  "papermill": {
   "default_parameters": {},
   "duration": null,
   "end_time": null,
   "environment_variables": {},
   "exception": null,
   "input_path": "/home/jovyan/yugiquery/notebooks/Sets.ipynb",
   "output_path": "/home/jovyan/yugiquery/notebooks/Sets.ipynb",
   "parameters": {},
   "start_time": "2025-02-22T07:11:07.540390",
   "version": "2.6.0"
  },
  "toc": {
   "base_numbering": 1,
   "nav_menu": {},
   "number_sections": true,
   "sideBar": true,
   "skip_h1_title": false,
   "title_cell": "Table of Contents",
   "title_sidebar": "Contents",
   "toc_cell": true,
   "toc_position": {
    "height": "calc(100% - 180px)",
    "left": "10px",
    "top": "150px",
    "width": "288px"
   },
   "toc_section_display": true,
   "toc_window_display": true
  },
  "toc-autonumbering": false,
  "toc-showcode": false,
  "toc-showmarkdowntxt": false,
  "toc-showtags": false
 },
 "nbformat": 4,
 "nbformat_minor": 5
}
