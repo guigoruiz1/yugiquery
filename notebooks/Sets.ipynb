{
 "cells": [
  {
   "cell_type": "code",
   "execution_count": null,
   "id": "0",
   "metadata": {
    "papermill": {
     "duration": 2.903824,
     "end_time": "2025-05-03T06:11:11.506900",
     "exception": false,
     "start_time": "2025-05-03T06:11:08.603076",
     "status": "completed"
    },
    "tags": []
   },
   "outputs": [],
   "source": [
    "from yugiquery import *\n",
    "\n",
    "init_notebook_mode(all_interactive=True)\n",
    "\n",
    "header(\"Sets\")"
   ]
  },
  {
   "cell_type": "markdown",
   "id": "1",
   "metadata": {
    "papermill": {
     "duration": 0.048533,
     "end_time": "2025-05-03T06:11:11.610245",
     "exception": false,
     "start_time": "2025-05-03T06:11:11.561712",
     "status": "completed"
    },
    "tags": []
   },
   "source": [
    "---"
   ]
  },
  {
   "cell_type": "markdown",
   "id": "2",
   "metadata": {
    "papermill": {
     "duration": 0.050903,
     "end_time": "2025-05-03T06:11:11.712959",
     "exception": false,
     "start_time": "2025-05-03T06:11:11.662056",
     "status": "completed"
    },
    "tags": []
   },
   "source": [
    "Table of Contents <a class=\"jp-toc-ignore\"></a>\n",
    "=================\n",
    "* [1 Data aquisition](#data-aquisition)\n",
    "  * [1.1 Fetch set lists](#fetch-set-lists)\n",
    "  * [1.2 Fetch set properties](#fetch-set-properties)\n",
    "  * [1.3 Merge data](#merge-data)\n",
    "* [2 Check changes](#check-changes)\n",
    "  * [2.1 Load previous data](#load-previous-data)\n",
    "  * [2.2 Generate changelog](#generate-changelog)\n",
    "  * [2.3 Save data](#save-data)\n",
    "* [3 Data visualization](#data-visualization)\n",
    "  * [3.1 Full data](#full-data)\n",
    "  * [3.2 Set](#set)\n",
    "  * [3.3 Card number](#card-number)\n",
    "  * [3.4 Name](#name)\n",
    "  * [3.5 Rarity](#rarity)\n",
    "    * [3.5.1 By unique](#by-unique)\n",
    "    * [3.5.2 By combination](#by-combination)\n",
    "  * [3.6 Print](#print)\n",
    "  * [3.7 Quantity](#quantity)\n",
    "  * [3.8 Region](#region)\n",
    "  * [3.9 Cover card](#cover-card)\n",
    "  * [3.10 Series](#series)\n",
    "  * [3.11 Set type](#set-type)\n",
    "  * [3.12 Release](#release)\n",
    "    * [3.12.1 By year](#by-year)\n",
    "    * [3.12.2 By month](#by-month)\n",
    "    * [3.12.3 By day](#by-day)\n",
    "    * [3.12.4 By region](#by-region)\n",
    "    * [3.12.5 By series](#by-series)\n",
    "    * [3.12.6 By set type](#by-set-type)\n",
    "* [4 Debug](#debug)\n",
    "  * [4.1 Has nan name/number](#has-nan-name/number)\n",
    "  * [4.2 Has nan rarity](#has-nan-rarity)\n",
    "  * [4.3 Has nan release](#has-nan-release)\n",
    "  * [4.4 HTML export](#html-export)\n",
    "  <!-- * [4.5 Git](#git) -->"
   ]
  },
  {
   "cell_type": "markdown",
   "id": "3",
   "metadata": {
    "papermill": {
     "duration": 0.050184,
     "end_time": "2025-05-03T06:11:11.812839",
     "exception": false,
     "start_time": "2025-05-03T06:11:11.762655",
     "status": "completed"
    },
    "tags": []
   },
   "source": [
    "# Data aquisition"
   ]
  },
  {
   "cell_type": "markdown",
   "id": "4",
   "metadata": {
    "papermill": {
     "duration": 0.051911,
     "end_time": "2025-05-03T06:11:11.914582",
     "exception": false,
     "start_time": "2025-05-03T06:11:11.862671",
     "status": "completed"
    },
    "tags": []
   },
   "source": [
    "## Fetch set lists"
   ]
  },
  {
   "cell_type": "code",
   "execution_count": null,
   "id": "5",
   "metadata": {
    "code_folding": [],
    "papermill": {
     "duration": 155.270415,
     "end_time": "2025-05-03T06:13:47.237438",
     "exception": false,
     "start_time": "2025-05-03T06:11:11.967023",
     "status": "completed"
    },
    "tags": []
   },
   "outputs": [],
   "source": [
    "# Timestamp\n",
    "timestamp = arrow.utcnow()\n",
    "\n",
    "all_set_lists_df = fetch_all_set_lists()"
   ]
  },
  {
   "cell_type": "markdown",
   "id": "6",
   "metadata": {
    "papermill": {
     "duration": 0.055773,
     "end_time": "2025-05-03T06:13:47.348584",
     "exception": false,
     "start_time": "2025-05-03T06:13:47.292811",
     "status": "completed"
    },
    "tags": []
   },
   "source": [
    "## Fetch set properties"
   ]
  },
  {
   "cell_type": "code",
   "execution_count": null,
   "id": "7",
   "metadata": {
    "papermill": {
     "duration": 66.505208,
     "end_time": "2025-05-03T06:14:53.904759",
     "exception": false,
     "start_time": "2025-05-03T06:13:47.399551",
     "status": "completed"
    },
    "tags": []
   },
   "outputs": [],
   "source": [
    "# List of sets to ask\n",
    "sets = all_set_lists_df[\"Set\"].unique()\n",
    "set_info_df = api.fetch_set_info(*sets)"
   ]
  },
  {
   "cell_type": "markdown",
   "id": "8",
   "metadata": {
    "papermill": {
     "duration": 0.048202,
     "end_time": "2025-05-03T06:14:54.009009",
     "exception": false,
     "start_time": "2025-05-03T06:14:53.960807",
     "status": "completed"
    },
    "tags": []
   },
   "source": [
    "## Merge data"
   ]
  },
  {
   "cell_type": "code",
   "execution_count": null,
   "id": "9",
   "metadata": {
    "papermill": {
     "duration": 141.459981,
     "end_time": "2025-05-03T06:17:15.652234",
     "exception": false,
     "start_time": "2025-05-03T06:14:54.192253",
     "status": "completed"
    },
    "tags": []
   },
   "outputs": [],
   "source": [
    "# Add properties to set lists\n",
    "all_set_lists_df = merge_set_info(all_set_lists_df, set_info_df)"
   ]
  },
  {
   "cell_type": "markdown",
   "id": "10",
   "metadata": {
    "papermill": {
     "duration": 0.15827,
     "end_time": "2025-05-03T06:17:15.868889",
     "exception": false,
     "start_time": "2025-05-03T06:17:15.710619",
     "status": "completed"
    },
    "tags": []
   },
   "source": [
    "# Check changes"
   ]
  },
  {
   "cell_type": "markdown",
   "id": "11",
   "metadata": {
    "papermill": {
     "duration": 0.048782,
     "end_time": "2025-05-03T06:17:15.981130",
     "exception": false,
     "start_time": "2025-05-03T06:17:15.932348",
     "status": "completed"
    },
    "tags": []
   },
   "source": [
    "## Load previous data"
   ]
  },
  {
   "cell_type": "code",
   "execution_count": null,
   "id": "12",
   "metadata": {
    "papermill": {
     "duration": 11.365776,
     "end_time": "2025-05-03T06:17:27.398348",
     "exception": false,
     "start_time": "2025-05-03T06:17:16.032572",
     "status": "completed"
    },
    "tags": []
   },
   "outputs": [],
   "source": [
    "# Get latest file if exist\n",
    "tuple_cols = [\"Rarity\", \"Cover card\"]\n",
    "previous_df, previous_ts = load_latest_data(\"sets\", tuple_cols, return_ts=True)\n",
    "\n",
    "if previous_df is not None:\n",
    "    previous_df = previous_df.astype(\n",
    "        all_set_lists_df[previous_df.columns.intersection(all_set_lists_df.columns)].dtypes.to_dict()\n",
    "    )"
   ]
  },
  {
   "cell_type": "markdown",
   "id": "13",
   "metadata": {
    "papermill": {
     "duration": 0.154706,
     "end_time": "2025-05-03T06:17:27.611344",
     "exception": false,
     "start_time": "2025-05-03T06:17:27.456638",
     "status": "completed"
    },
    "tags": []
   },
   "source": [
    "## Generate changelog"
   ]
  },
  {
   "cell_type": "code",
   "execution_count": null,
   "id": "14",
   "metadata": {
    "papermill": {
     "duration": 3.697699,
     "end_time": "2025-05-03T06:17:31.368797",
     "exception": false,
     "start_time": "2025-05-03T06:17:27.671098",
     "status": "completed"
    },
    "tags": []
   },
   "outputs": [],
   "source": [
    "if previous_df is None:\n",
    "    changelog = None\n",
    "    print(\"Skipped\")\n",
    "else:\n",
    "    changelog = generate_changelog(previous_df, all_set_lists_df, col=\"Card number\")\n",
    "    if not changelog.empty:\n",
    "        display(changelog)\n",
    "        changelog.to_csv(\n",
    "            dirs.DATA / make_filename(report=\"sets\", timestamp=timestamp, previous_timestamp=previous_ts),\n",
    "            index=True,\n",
    "        )\n",
    "        print(\"Changelog saved\")"
   ]
  },
  {
   "cell_type": "markdown",
   "id": "15",
   "metadata": {
    "papermill": {
     "duration": 0.079893,
     "end_time": "2025-05-03T06:17:31.508663",
     "exception": false,
     "start_time": "2025-05-03T06:17:31.428770",
     "status": "completed"
    },
    "tags": []
   },
   "source": [
    "## Save data"
   ]
  },
  {
   "cell_type": "code",
   "execution_count": null,
   "id": "16",
   "metadata": {
    "papermill": {
     "duration": 18.648862,
     "end_time": "2025-05-03T06:17:50.218112",
     "exception": false,
     "start_time": "2025-05-03T06:17:31.569250",
     "status": "completed"
    },
    "tags": []
   },
   "outputs": [],
   "source": [
    "if changelog is not None and changelog.empty:\n",
    "    print(\"No changes. New data not saved\")\n",
    "else:\n",
    "    all_set_lists_df.to_csv(\n",
    "        dirs.DATA / make_filename(report=\"sets\", timestamp=timestamp),\n",
    "        index=False,\n",
    "    )\n",
    "    print(\"Data saved\")"
   ]
  },
  {
   "cell_type": "markdown",
   "id": "17",
   "metadata": {
    "papermill": {
     "duration": 0.092085,
     "end_time": "2025-05-03T06:17:50.370404",
     "exception": false,
     "start_time": "2025-05-03T06:17:50.278319",
     "status": "completed"
    },
    "tags": []
   },
   "source": [
    "# Data visualization"
   ]
  },
  {
   "cell_type": "markdown",
   "id": "18",
   "metadata": {
    "jp-MarkdownHeadingCollapsed": true,
    "papermill": {
     "duration": 0.053022,
     "end_time": "2025-05-03T06:17:50.481647",
     "exception": false,
     "start_time": "2025-05-03T06:17:50.428625",
     "status": "completed"
    },
    "tags": []
   },
   "source": [
    "## Full data"
   ]
  },
  {
   "cell_type": "code",
   "execution_count": null,
   "id": "19",
   "metadata": {
    "papermill": {
     "duration": 0.271799,
     "end_time": "2025-05-03T06:17:50.815369",
     "exception": false,
     "start_time": "2025-05-03T06:17:50.543570",
     "status": "completed"
    },
    "tags": []
   },
   "outputs": [],
   "source": [
    "all_set_lists_df"
   ]
  },
  {
   "cell_type": "markdown",
   "id": "20",
   "metadata": {
    "papermill": {
     "duration": 0.085721,
     "end_time": "2025-05-03T06:17:50.965623",
     "exception": false,
     "start_time": "2025-05-03T06:17:50.879902",
     "status": "completed"
    },
    "tags": []
   },
   "source": [
    "Full data available [here](../data)"
   ]
  },
  {
   "cell_type": "markdown",
   "id": "21",
   "metadata": {
    "jp-MarkdownHeadingCollapsed": true,
    "papermill": {
     "duration": 0.063328,
     "end_time": "2025-05-03T06:17:51.099492",
     "exception": false,
     "start_time": "2025-05-03T06:17:51.036164",
     "status": "completed"
    },
    "tags": []
   },
   "source": [
    "## Set"
   ]
  },
  {
   "cell_type": "code",
   "execution_count": null,
   "id": "22",
   "metadata": {
    "papermill": {
     "duration": 0.106325,
     "end_time": "2025-05-03T06:17:51.271255",
     "exception": false,
     "start_time": "2025-05-03T06:17:51.164930",
     "status": "completed"
    },
    "tags": []
   },
   "outputs": [],
   "source": [
    "print(\"Total number of sets:\", all_set_lists_df[\"Set\"].nunique())"
   ]
  },
  {
   "cell_type": "code",
   "execution_count": null,
   "id": "23",
   "metadata": {
    "papermill": {
     "duration": 0.913512,
     "end_time": "2025-05-03T06:17:52.255460",
     "exception": false,
     "start_time": "2025-05-03T06:17:51.341948",
     "status": "completed"
    },
    "tags": []
   },
   "outputs": [],
   "source": [
    "all_set_lists_df.groupby(\"Set\", dropna=False).nunique()"
   ]
  },
  {
   "cell_type": "code",
   "execution_count": null,
   "id": "24",
   "metadata": {
    "papermill": {
     "duration": 1.034035,
     "end_time": "2025-05-03T06:17:53.355068",
     "exception": false,
     "start_time": "2025-05-03T06:17:52.321033",
     "status": "completed"
    },
    "tags": []
   },
   "outputs": [],
   "source": [
    "all_set_lists_df.groupby(\"Set\", dropna=False).nunique().describe()"
   ]
  },
  {
   "cell_type": "markdown",
   "id": "25",
   "metadata": {
    "jp-MarkdownHeadingCollapsed": true,
    "papermill": {
     "duration": 0.059112,
     "end_time": "2025-05-03T06:17:53.480118",
     "exception": false,
     "start_time": "2025-05-03T06:17:53.421006",
     "status": "completed"
    },
    "tags": []
   },
   "source": [
    "## Card number"
   ]
  },
  {
   "cell_type": "code",
   "execution_count": null,
   "id": "26",
   "metadata": {
    "papermill": {
     "duration": 0.25447,
     "end_time": "2025-05-03T06:17:53.798613",
     "exception": false,
     "start_time": "2025-05-03T06:17:53.544143",
     "status": "completed"
    },
    "tags": []
   },
   "outputs": [],
   "source": [
    "print(\"Total number of card numbers:\", all_set_lists_df[\"Card number\"].nunique())"
   ]
  },
  {
   "cell_type": "code",
   "execution_count": null,
   "id": "27",
   "metadata": {
    "papermill": {
     "duration": 2.052243,
     "end_time": "2025-05-03T06:17:55.917536",
     "exception": false,
     "start_time": "2025-05-03T06:17:53.865293",
     "status": "completed"
    },
    "tags": []
   },
   "outputs": [],
   "source": [
    "all_set_lists_df.groupby(\"Card number\", dropna=False).nunique()"
   ]
  },
  {
   "cell_type": "markdown",
   "id": "28",
   "metadata": {
    "jp-MarkdownHeadingCollapsed": true,
    "papermill": {
     "duration": 0.238357,
     "end_time": "2025-05-03T06:17:56.285585",
     "exception": false,
     "start_time": "2025-05-03T06:17:56.047228",
     "status": "completed"
    },
    "tags": []
   },
   "source": [
    "## Name"
   ]
  },
  {
   "cell_type": "code",
   "execution_count": null,
   "id": "29",
   "metadata": {
    "papermill": {
     "duration": 0.13208,
     "end_time": "2025-05-03T06:17:56.485233",
     "exception": false,
     "start_time": "2025-05-03T06:17:56.353153",
     "status": "completed"
    },
    "tags": []
   },
   "outputs": [],
   "source": [
    "print(\"Total number of card names:\", all_set_lists_df[\"Name\"].nunique())"
   ]
  },
  {
   "cell_type": "code",
   "execution_count": null,
   "id": "30",
   "metadata": {
    "papermill": {
     "duration": 0.916807,
     "end_time": "2025-05-03T06:17:57.472752",
     "exception": false,
     "start_time": "2025-05-03T06:17:56.555945",
     "status": "completed"
    },
    "tags": []
   },
   "outputs": [],
   "source": [
    "all_set_lists_df.groupby(\"Name\", dropna=False).nunique()"
   ]
  },
  {
   "cell_type": "code",
   "execution_count": null,
   "id": "31",
   "metadata": {
    "papermill": {
     "duration": 1.051552,
     "end_time": "2025-05-03T06:17:58.593492",
     "exception": false,
     "start_time": "2025-05-03T06:17:57.541940",
     "status": "completed"
    },
    "tags": []
   },
   "outputs": [],
   "source": [
    "all_set_lists_df.groupby(\"Name\", dropna=True).nunique().describe()"
   ]
  },
  {
   "cell_type": "markdown",
   "id": "32",
   "metadata": {
    "papermill": {
     "duration": 0.063895,
     "end_time": "2025-05-03T06:17:58.728478",
     "exception": false,
     "start_time": "2025-05-03T06:17:58.664583",
     "status": "completed"
    },
    "tags": []
   },
   "source": [
    "## Rarity"
   ]
  },
  {
   "cell_type": "code",
   "execution_count": null,
   "id": "33",
   "metadata": {
    "papermill": {
     "duration": 0.544737,
     "end_time": "2025-05-03T06:17:59.344159",
     "exception": false,
     "start_time": "2025-05-03T06:17:58.799422",
     "status": "completed"
    },
    "tags": []
   },
   "outputs": [],
   "source": [
    "print(\"Total number of rarities:\", all_set_lists_df[\"Rarity\"].explode().nunique())"
   ]
  },
  {
   "cell_type": "markdown",
   "id": "34",
   "metadata": {
    "papermill": {
     "duration": 0.091236,
     "end_time": "2025-05-03T06:17:59.504874",
     "exception": false,
     "start_time": "2025-05-03T06:17:59.413638",
     "status": "completed"
    },
    "tags": []
   },
   "source": [
    "### By unique"
   ]
  },
  {
   "cell_type": "code",
   "execution_count": null,
   "id": "35",
   "metadata": {
    "papermill": {
     "duration": 2.719179,
     "end_time": "2025-05-03T06:18:02.292446",
     "exception": false,
     "start_time": "2025-05-03T06:17:59.573267",
     "status": "completed"
    },
    "tags": []
   },
   "outputs": [],
   "source": [
    "all_set_lists_df.explode(\"Rarity\").groupby(\"Rarity\", dropna=False).nunique()"
   ]
  },
  {
   "cell_type": "code",
   "execution_count": null,
   "id": "36",
   "metadata": {
    "papermill": {
     "duration": 1.780042,
     "end_time": "2025-05-03T06:18:04.142862",
     "exception": false,
     "start_time": "2025-05-03T06:18:02.362820",
     "status": "completed"
    },
    "tags": []
   },
   "outputs": [],
   "source": [
    "all_set_lists_df[\"Rarity\"].explode().value_counts().plot.barh(figsize=(10, 20))\n",
    "plt.xscale(\"log\")\n",
    "plt.show()"
   ]
  },
  {
   "cell_type": "markdown",
   "id": "37",
   "metadata": {
    "papermill": {
     "duration": 0.189633,
     "end_time": "2025-05-03T06:18:04.409977",
     "exception": false,
     "start_time": "2025-05-03T06:18:04.220344",
     "status": "completed"
    },
    "tags": []
   },
   "source": [
    "### By combination"
   ]
  },
  {
   "cell_type": "code",
   "execution_count": null,
   "id": "38",
   "metadata": {
    "papermill": {
     "duration": 0.962638,
     "end_time": "2025-05-03T06:18:05.451705",
     "exception": false,
     "start_time": "2025-05-03T06:18:04.489067",
     "status": "completed"
    },
    "tags": []
   },
   "outputs": [],
   "source": [
    "all_set_lists_df.groupby(\"Rarity\", dropna=False).nunique()"
   ]
  },
  {
   "cell_type": "code",
   "execution_count": null,
   "id": "39",
   "metadata": {
    "papermill": {
     "duration": 0.081984,
     "end_time": "2025-05-03T06:18:05.613936",
     "exception": false,
     "start_time": "2025-05-03T06:18:05.531952",
     "status": "completed"
    },
    "tags": []
   },
   "outputs": [],
   "source": [
    "# # Disabled for beeing too large\n",
    "\n",
    "# all_set_lists_df[\"Rarity\"].value_counts().plot.barh(figsize=(10, 80), grid=True)\n",
    "# plt.xscale(\"log\")\n",
    "# plt.show()"
   ]
  },
  {
   "cell_type": "markdown",
   "id": "40",
   "metadata": {
    "papermill": {
     "duration": 0.074618,
     "end_time": "2025-05-03T06:18:05.775371",
     "exception": false,
     "start_time": "2025-05-03T06:18:05.700753",
     "status": "completed"
    },
    "tags": []
   },
   "source": [
    "## Print"
   ]
  },
  {
   "cell_type": "code",
   "execution_count": null,
   "id": "41",
   "metadata": {
    "papermill": {
     "duration": 0.206422,
     "end_time": "2025-05-03T06:18:06.183107",
     "exception": false,
     "start_time": "2025-05-03T06:18:05.976685",
     "status": "completed"
    },
    "tags": []
   },
   "outputs": [],
   "source": [
    "print(\"Total number of prints:\", all_set_lists_df[\"Print\"].nunique())"
   ]
  },
  {
   "cell_type": "code",
   "execution_count": null,
   "id": "42",
   "metadata": {
    "papermill": {
     "duration": 0.873449,
     "end_time": "2025-05-03T06:18:07.248701",
     "exception": false,
     "start_time": "2025-05-03T06:18:06.375252",
     "status": "completed"
    },
    "tags": []
   },
   "outputs": [],
   "source": [
    "all_set_lists_df.groupby(\"Print\", dropna=False).nunique()"
   ]
  },
  {
   "cell_type": "code",
   "execution_count": null,
   "id": "43",
   "metadata": {
    "papermill": {
     "duration": 0.660843,
     "end_time": "2025-05-03T06:18:07.989031",
     "exception": false,
     "start_time": "2025-05-03T06:18:07.328188",
     "status": "completed"
    },
    "tags": []
   },
   "outputs": [],
   "source": [
    "all_set_lists_df[\"Print\"].value_counts().plot.bar(figsize=(18, 6), rot=45)\n",
    "plt.yscale(\"log\")\n",
    "plt.show()"
   ]
  },
  {
   "cell_type": "markdown",
   "id": "44",
   "metadata": {
    "papermill": {
     "duration": 0.076199,
     "end_time": "2025-05-03T06:18:08.145496",
     "exception": false,
     "start_time": "2025-05-03T06:18:08.069297",
     "status": "completed"
    },
    "tags": []
   },
   "source": [
    "## Quantity"
   ]
  },
  {
   "cell_type": "code",
   "execution_count": null,
   "id": "45",
   "metadata": {
    "papermill": {
     "duration": 0.140018,
     "end_time": "2025-05-03T06:18:08.370164",
     "exception": false,
     "start_time": "2025-05-03T06:18:08.230146",
     "status": "completed"
    },
    "tags": []
   },
   "outputs": [],
   "source": [
    "print(\"Total number of quantities:\", all_set_lists_df[\"Quantity\"].nunique())"
   ]
  },
  {
   "cell_type": "code",
   "execution_count": null,
   "id": "46",
   "metadata": {
    "papermill": {
     "duration": 0.871133,
     "end_time": "2025-05-03T06:18:09.323602",
     "exception": false,
     "start_time": "2025-05-03T06:18:08.452469",
     "status": "completed"
    },
    "tags": []
   },
   "outputs": [],
   "source": [
    "all_set_lists_df.groupby(\"Quantity\", dropna=False).nunique()"
   ]
  },
  {
   "cell_type": "markdown",
   "id": "47",
   "metadata": {
    "papermill": {
     "duration": 0.075697,
     "end_time": "2025-05-03T06:18:09.484071",
     "exception": false,
     "start_time": "2025-05-03T06:18:09.408374",
     "status": "completed"
    },
    "tags": []
   },
   "source": [
    "## Region"
   ]
  },
  {
   "cell_type": "code",
   "execution_count": null,
   "id": "48",
   "metadata": {
    "papermill": {
     "duration": 0.112954,
     "end_time": "2025-05-03T06:18:09.681159",
     "exception": false,
     "start_time": "2025-05-03T06:18:09.568205",
     "status": "completed"
    },
    "tags": []
   },
   "outputs": [],
   "source": [
    "print(\"Total number of regions:\", all_set_lists_df[\"Region\"].nunique())"
   ]
  },
  {
   "cell_type": "code",
   "execution_count": null,
   "id": "49",
   "metadata": {
    "papermill": {
     "duration": 0.90532,
     "end_time": "2025-05-03T06:18:10.670469",
     "exception": false,
     "start_time": "2025-05-03T06:18:09.765149",
     "status": "completed"
    },
    "tags": []
   },
   "outputs": [],
   "source": [
    "all_set_lists_df.groupby([\"Set\", \"Region\"], dropna=False).nunique()"
   ]
  },
  {
   "cell_type": "code",
   "execution_count": null,
   "id": "50",
   "metadata": {
    "papermill": {
     "duration": 0.919795,
     "end_time": "2025-05-03T06:18:11.674922",
     "exception": false,
     "start_time": "2025-05-03T06:18:10.755127",
     "status": "completed"
    },
    "tags": []
   },
   "outputs": [],
   "source": [
    "all_set_lists_df.groupby(\"Region\", dropna=False).nunique().describe()"
   ]
  },
  {
   "cell_type": "code",
   "execution_count": null,
   "id": "51",
   "metadata": {
    "papermill": {
     "duration": 0.324807,
     "end_time": "2025-05-03T06:18:12.083808",
     "exception": false,
     "start_time": "2025-05-03T06:18:11.759001",
     "status": "completed"
    },
    "tags": []
   },
   "outputs": [],
   "source": [
    "all_set_lists_df[\"Region\"].value_counts().plot.bar(figsize=(18, 6), rot=0)\n",
    "plt.show()"
   ]
  },
  {
   "cell_type": "markdown",
   "id": "52",
   "metadata": {
    "papermill": {
     "duration": 0.109114,
     "end_time": "2025-05-03T06:18:12.279058",
     "exception": false,
     "start_time": "2025-05-03T06:18:12.169944",
     "status": "completed"
    },
    "tags": []
   },
   "source": [
    "## Cover card"
   ]
  },
  {
   "cell_type": "code",
   "execution_count": null,
   "id": "53",
   "metadata": {
    "papermill": {
     "duration": 0.432716,
     "end_time": "2025-05-03T06:18:13.079273",
     "exception": false,
     "start_time": "2025-05-03T06:18:12.646557",
     "status": "completed"
    },
    "tags": []
   },
   "outputs": [],
   "source": [
    "print(\n",
    "    \"Total number of cover cards:\",\n",
    "    all_set_lists_df[\"Cover card\"].explode(\"Cover card\").nunique(),\n",
    ")"
   ]
  },
  {
   "cell_type": "code",
   "execution_count": null,
   "id": "54",
   "metadata": {
    "papermill": {
     "duration": 3.208417,
     "end_time": "2025-05-03T06:18:16.373760",
     "exception": false,
     "start_time": "2025-05-03T06:18:13.165343",
     "status": "completed"
    },
    "tags": []
   },
   "outputs": [],
   "source": [
    "all_set_lists_df.explode(\"Cover card\").groupby([\"Cover card\"]).nunique()"
   ]
  },
  {
   "cell_type": "code",
   "execution_count": null,
   "id": "55",
   "metadata": {
    "papermill": {
     "duration": 2.275254,
     "end_time": "2025-05-03T06:18:18.736860",
     "exception": false,
     "start_time": "2025-05-03T06:18:16.461606",
     "status": "completed"
    },
    "tags": []
   },
   "outputs": [],
   "source": [
    "all_set_lists_df.explode([\"Cover card\"]).groupby(\"Cover card\")[\"Set\"].nunique().sort_values().tail(30).plot.barh(\n",
    "    figsize=(10, 10), title=\"Top 30 Cover Cards\"\n",
    ")\n",
    "plt.show()"
   ]
  },
  {
   "cell_type": "markdown",
   "id": "56",
   "metadata": {
    "papermill": {
     "duration": 0.086758,
     "end_time": "2025-05-03T06:18:18.914404",
     "exception": false,
     "start_time": "2025-05-03T06:18:18.827646",
     "status": "completed"
    },
    "tags": []
   },
   "source": [
    "## Series"
   ]
  },
  {
   "cell_type": "code",
   "execution_count": null,
   "id": "57",
   "metadata": {
    "papermill": {
     "duration": 0.139378,
     "end_time": "2025-05-03T06:18:19.147369",
     "exception": false,
     "start_time": "2025-05-03T06:18:19.007991",
     "status": "completed"
    },
    "tags": []
   },
   "outputs": [],
   "source": [
    "print(\"Total number of series:\", all_set_lists_df[\"Series\"].nunique())"
   ]
  },
  {
   "cell_type": "code",
   "execution_count": null,
   "id": "58",
   "metadata": {
    "papermill": {
     "duration": 0.831405,
     "end_time": "2025-05-03T06:18:20.068237",
     "exception": false,
     "start_time": "2025-05-03T06:18:19.236832",
     "status": "completed"
    },
    "tags": []
   },
   "outputs": [],
   "source": [
    "all_set_lists_df.groupby(\"Series\").nunique()"
   ]
  },
  {
   "cell_type": "code",
   "execution_count": null,
   "id": "59",
   "metadata": {
    "papermill": {
     "duration": 1.938758,
     "end_time": "2025-05-03T06:18:22.101687",
     "exception": false,
     "start_time": "2025-05-03T06:18:20.162929",
     "status": "completed"
    },
    "tags": []
   },
   "outputs": [],
   "source": [
    "all_set_lists_df.explode([\"Series\"]).groupby(\"Series\")[\"Set\"].nunique().sort_values(ascending=False).plot.barh(\n",
    "    figsize=(10, 18)\n",
    ")\n",
    "plt.show()"
   ]
  },
  {
   "cell_type": "markdown",
   "id": "60",
   "metadata": {
    "papermill": {
     "duration": 0.32492,
     "end_time": "2025-05-03T06:18:22.526025",
     "exception": false,
     "start_time": "2025-05-03T06:18:22.201105",
     "status": "completed"
    },
    "tags": []
   },
   "source": [
    "## Set type"
   ]
  },
  {
   "cell_type": "code",
   "execution_count": null,
   "id": "61",
   "metadata": {
    "papermill": {
     "duration": 0.124466,
     "end_time": "2025-05-03T06:18:22.751275",
     "exception": false,
     "start_time": "2025-05-03T06:18:22.626809",
     "status": "completed"
    },
    "tags": []
   },
   "outputs": [],
   "source": [
    "print(\"Total number of set types:\", all_set_lists_df[\"Set type\"].nunique())"
   ]
  },
  {
   "cell_type": "code",
   "execution_count": null,
   "id": "62",
   "metadata": {
    "papermill": {
     "duration": 0.980043,
     "end_time": "2025-05-03T06:18:23.830523",
     "exception": false,
     "start_time": "2025-05-03T06:18:22.850480",
     "status": "completed"
    },
    "tags": []
   },
   "outputs": [],
   "source": [
    "all_set_lists_df.groupby(\"Set type\").nunique()"
   ]
  },
  {
   "cell_type": "code",
   "execution_count": null,
   "id": "63",
   "metadata": {
    "papermill": {
     "duration": 0.541364,
     "end_time": "2025-05-03T06:18:24.475857",
     "exception": false,
     "start_time": "2025-05-03T06:18:23.934493",
     "status": "completed"
    },
    "tags": []
   },
   "outputs": [],
   "source": [
    "set_info_df[\"Set type\"].value_counts().plot.barh(figsize=(10, 12))\n",
    "plt.show()"
   ]
  },
  {
   "cell_type": "markdown",
   "id": "64",
   "metadata": {
    "papermill": {
     "duration": 0.096624,
     "end_time": "2025-05-03T06:18:24.677576",
     "exception": false,
     "start_time": "2025-05-03T06:18:24.580952",
     "status": "completed"
    },
    "tags": []
   },
   "source": [
    "## Release"
   ]
  },
  {
   "cell_type": "code",
   "execution_count": null,
   "id": "65",
   "metadata": {
    "papermill": {
     "duration": 0.130082,
     "end_time": "2025-05-03T06:18:24.918039",
     "exception": false,
     "start_time": "2025-05-03T06:18:24.787957",
     "status": "completed"
    },
    "tags": []
   },
   "outputs": [],
   "source": [
    "print(\"Total number of release dates:\", all_set_lists_df[\"Release\"].nunique())"
   ]
  },
  {
   "cell_type": "code",
   "execution_count": null,
   "id": "66",
   "metadata": {
    "papermill": {
     "duration": 1.212358,
     "end_time": "2025-05-03T06:18:26.255599",
     "exception": false,
     "start_time": "2025-05-03T06:18:25.043241",
     "status": "completed"
    },
    "tags": []
   },
   "outputs": [],
   "source": [
    "all_set_lists_df.groupby(\"Release\", dropna=False).nunique()"
   ]
  },
  {
   "cell_type": "code",
   "execution_count": null,
   "id": "67",
   "metadata": {
    "papermill": {
     "duration": 0.163049,
     "end_time": "2025-05-03T06:18:26.528450",
     "exception": false,
     "start_time": "2025-05-03T06:18:26.365401",
     "status": "completed"
    },
    "tags": []
   },
   "outputs": [],
   "source": [
    "set_by_release = pd.DataFrame(all_set_lists_df.groupby(\"Release\", dropna=False)[\"Set\"].nunique())"
   ]
  },
  {
   "cell_type": "markdown",
   "id": "68",
   "metadata": {
    "papermill": {
     "duration": 0.100555,
     "end_time": "2025-05-03T06:18:26.744267",
     "exception": false,
     "start_time": "2025-05-03T06:18:26.643712",
     "status": "completed"
    },
    "tags": []
   },
   "source": [
    "### By year"
   ]
  },
  {
   "cell_type": "code",
   "execution_count": null,
   "id": "69",
   "metadata": {
    "papermill": {
     "duration": 1.145147,
     "end_time": "2025-05-03T06:18:28.126049",
     "exception": false,
     "start_time": "2025-05-03T06:18:26.980902",
     "status": "completed"
    },
    "tags": []
   },
   "outputs": [],
   "source": [
    "all_set_lists_df.drop(\"Modification date\", axis=1).groupby(\"Release\", dropna=False).nunique().groupby(\n",
    "    set_by_release.index.strftime(\"%Y\")\n",
    ").sum()"
   ]
  },
  {
   "cell_type": "code",
   "execution_count": null,
   "id": "70",
   "metadata": {
    "papermill": {
     "duration": 2.434952,
     "end_time": "2025-05-03T06:18:30.666451",
     "exception": false,
     "start_time": "2025-05-03T06:18:28.231499",
     "status": "completed"
    },
    "tags": []
   },
   "outputs": [],
   "source": [
    "_ = plot.rate(set_by_release)\n",
    "plt.show()"
   ]
  },
  {
   "cell_type": "markdown",
   "id": "71",
   "metadata": {
    "papermill": {
     "duration": 0.11078,
     "end_time": "2025-05-03T06:18:30.893112",
     "exception": false,
     "start_time": "2025-05-03T06:18:30.782332",
     "status": "completed"
    },
    "tags": []
   },
   "source": [
    "### By month"
   ]
  },
  {
   "cell_type": "code",
   "execution_count": null,
   "id": "72",
   "metadata": {
    "papermill": {
     "duration": 0.562808,
     "end_time": "2025-05-03T06:18:31.647738",
     "exception": false,
     "start_time": "2025-05-03T06:18:31.084930",
     "status": "completed"
    },
    "tags": []
   },
   "outputs": [],
   "source": [
    "set_by_release.groupby(set_by_release.index.strftime(\"%B\")).sum().sort_index(\n",
    "    key=lambda x: pd.to_datetime(x, format=\"%B\").month\n",
    ").plot.bar(figsize=(16, 8), xlabel=\"Release month\", rot=0)\n",
    "plt.show()"
   ]
  },
  {
   "cell_type": "code",
   "execution_count": null,
   "id": "73",
   "metadata": {
    "papermill": {
     "duration": 0.494851,
     "end_time": "2025-05-03T06:18:32.257231",
     "exception": false,
     "start_time": "2025-05-03T06:18:31.762380",
     "status": "completed"
    },
    "tags": []
   },
   "outputs": [],
   "source": [
    "set_by_release.groupby(set_by_release.index.strftime(\"%d\")).sum().plot.bar(\n",
    "    figsize=(16, 8), xlabel=\"Release day of the month\", rot=0\n",
    ")\n",
    "plt.show()"
   ]
  },
  {
   "cell_type": "markdown",
   "id": "74",
   "metadata": {
    "papermill": {
     "duration": 0.238932,
     "end_time": "2025-05-03T06:18:32.660644",
     "exception": false,
     "start_time": "2025-05-03T06:18:32.421712",
     "status": "completed"
    },
    "tags": []
   },
   "source": [
    "### By day"
   ]
  },
  {
   "cell_type": "code",
   "execution_count": null,
   "id": "75",
   "metadata": {
    "papermill": {
     "duration": 0.29304,
     "end_time": "2025-05-03T06:18:33.250040",
     "exception": false,
     "start_time": "2025-05-03T06:18:32.957000",
     "status": "completed"
    },
    "tags": []
   },
   "outputs": [],
   "source": [
    "set_by_release.groupby(set_by_release.index.dayofyear).sum().plot(\n",
    "    figsize=(16, 8), xlabel=\"Release day of the year\", drawstyle=\"steps-mid\"\n",
    ")\n",
    "plt.show()"
   ]
  },
  {
   "cell_type": "code",
   "execution_count": null,
   "id": "76",
   "metadata": {
    "papermill": {
     "duration": 0.52247,
     "end_time": "2025-05-03T06:18:33.891420",
     "exception": false,
     "start_time": "2025-05-03T06:18:33.368950",
     "status": "completed"
    },
    "tags": []
   },
   "outputs": [],
   "source": [
    "set_by_release_wd = set_by_release.groupby(set_by_release.index.weekday).sum()\n",
    "set_by_release_wd.index = [calendar.day_name[i] for i in set_by_release_wd.index.astype(int)]\n",
    "set_by_release_wd.plot.bar(figsize=(12, 6), xlabel=\"Release day of the week\", rot=0)\n",
    "plt.show()"
   ]
  },
  {
   "cell_type": "markdown",
   "id": "77",
   "metadata": {
    "papermill": {
     "duration": 0.132446,
     "end_time": "2025-05-03T06:18:34.145959",
     "exception": false,
     "start_time": "2025-05-03T06:18:34.013513",
     "status": "completed"
    },
    "tags": []
   },
   "source": [
    "### By region"
   ]
  },
  {
   "cell_type": "code",
   "execution_count": null,
   "id": "78",
   "metadata": {
    "papermill": {
     "duration": 1.037833,
     "end_time": "2025-05-03T06:18:35.335284",
     "exception": false,
     "start_time": "2025-05-03T06:18:34.297451",
     "status": "completed"
    },
    "tags": []
   },
   "outputs": [],
   "source": [
    "by_release_region = all_set_lists_df.groupby([\"Region\", \"Release\"]).nunique()\n",
    "by_release_region"
   ]
  },
  {
   "cell_type": "code",
   "execution_count": null,
   "id": "79",
   "metadata": {
    "papermill": {
     "duration": 0.198793,
     "end_time": "2025-05-03T06:18:35.665410",
     "exception": false,
     "start_time": "2025-05-03T06:18:35.466617",
     "status": "completed"
    },
    "tags": []
   },
   "outputs": [],
   "source": [
    "set_by_release_region = by_release_region[\"Set\"].unstack(0).sort_index().fillna(0).astype(int)\n",
    "set_by_release_region_y = set_by_release_region.groupby(set_by_release_region.index.strftime(\"%Y\")).sum().T\n",
    "set_by_release_region_y"
   ]
  },
  {
   "cell_type": "code",
   "execution_count": null,
   "id": "80",
   "metadata": {
    "papermill": {
     "duration": 1.348282,
     "end_time": "2025-05-03T06:18:37.164871",
     "exception": false,
     "start_time": "2025-05-03T06:18:35.816589",
     "status": "completed"
    },
    "tags": []
   },
   "outputs": [],
   "source": [
    "plt.figure(figsize=(14, 6))\n",
    "sns.heatmap(\n",
    "    set_by_release_region_y[set_by_release_region_y > 0],\n",
    "    annot=True,\n",
    "    fmt=\"g\",\n",
    "    cmap=\"viridis\",\n",
    "    square=True,\n",
    ")\n",
    "plt.show()"
   ]
  },
  {
   "cell_type": "code",
   "execution_count": null,
   "id": "81",
   "metadata": {
    "papermill": {
     "duration": 31.336082,
     "end_time": "2025-05-03T06:19:08.629413",
     "exception": false,
     "start_time": "2025-05-03T06:18:37.293331",
     "status": "completed"
    },
    "tags": []
   },
   "outputs": [],
   "source": [
    "_ = plot.rate(set_by_release_region, subplots=True, title=\"Set releases\")\n",
    "plt.show()"
   ]
  },
  {
   "cell_type": "markdown",
   "id": "82",
   "metadata": {
    "papermill": {
     "duration": 0.230957,
     "end_time": "2025-05-03T06:19:09.099759",
     "exception": false,
     "start_time": "2025-05-03T06:19:08.868802",
     "status": "completed"
    },
    "tags": []
   },
   "source": [
    "### By series"
   ]
  },
  {
   "cell_type": "code",
   "execution_count": null,
   "id": "83",
   "metadata": {
    "papermill": {
     "duration": 1.969864,
     "end_time": "2025-05-03T06:19:11.309240",
     "exception": false,
     "start_time": "2025-05-03T06:19:09.339376",
     "status": "completed"
    },
    "tags": []
   },
   "outputs": [],
   "source": [
    "by_release_series = all_set_lists_df.explode(\"Series\").groupby([\"Series\", \"Release\"]).nunique()\n",
    "by_release_series"
   ]
  },
  {
   "cell_type": "code",
   "execution_count": null,
   "id": "84",
   "metadata": {
    "papermill": {
     "duration": 0.291649,
     "end_time": "2025-05-03T06:19:11.837629",
     "exception": false,
     "start_time": "2025-05-03T06:19:11.545980",
     "status": "completed"
    },
    "tags": []
   },
   "outputs": [],
   "source": [
    "set_by_release_series = by_release_series[\"Set\"].unstack(0).sort_index().fillna(0).astype(int)\n",
    "set_by_release_series_y = set_by_release_series.groupby(set_by_release_series.index.strftime(\"%Y\")).sum().T\n",
    "set_by_release_series_y"
   ]
  },
  {
   "cell_type": "code",
   "execution_count": null,
   "id": "85",
   "metadata": {
    "papermill": {
     "duration": 2.342758,
     "end_time": "2025-05-03T06:19:14.421692",
     "exception": false,
     "start_time": "2025-05-03T06:19:12.078934",
     "status": "completed"
    },
    "tags": []
   },
   "outputs": [],
   "source": [
    "plt.figure(figsize=(16, 30))\n",
    "sns.heatmap(\n",
    "    set_by_release_series_y[set_by_release_series_y > 0],\n",
    "    annot=True,\n",
    "    fmt=\"g\",\n",
    "    cmap=\"viridis\",\n",
    "    square=True,\n",
    "    cbar_kws={\"aspect\": len(set_by_release_series_y.index)},\n",
    ")\n",
    "plt.show()"
   ]
  },
  {
   "cell_type": "code",
   "execution_count": null,
   "id": "86",
   "metadata": {
    "papermill": {
     "duration": 0.520472,
     "end_time": "2025-05-03T06:19:15.214703",
     "exception": false,
     "start_time": "2025-05-03T06:19:14.694231",
     "status": "completed"
    },
    "tags": []
   },
   "outputs": [],
   "source": [
    "# # Disabled for being too large\n",
    "\n",
    "# _ = plot.rate(set_by_release_series, subplots=True, title=\"Set releases\")\n",
    "# plt.show()"
   ]
  },
  {
   "cell_type": "markdown",
   "id": "87",
   "metadata": {
    "papermill": {
     "duration": 0.291458,
     "end_time": "2025-05-03T06:19:15.886421",
     "exception": false,
     "start_time": "2025-05-03T06:19:15.594963",
     "status": "completed"
    },
    "tags": []
   },
   "source": [
    "### By set type"
   ]
  },
  {
   "cell_type": "code",
   "execution_count": null,
   "id": "88",
   "metadata": {
    "papermill": {
     "duration": 2.072343,
     "end_time": "2025-05-03T06:19:18.343963",
     "exception": false,
     "start_time": "2025-05-03T06:19:16.271620",
     "status": "completed"
    },
    "tags": []
   },
   "outputs": [],
   "source": [
    "by_release_type = all_set_lists_df.explode(\"Set type\").groupby([\"Set type\", \"Release\"]).nunique()\n",
    "by_release_type"
   ]
  },
  {
   "cell_type": "code",
   "execution_count": null,
   "id": "89",
   "metadata": {
    "papermill": {
     "duration": 0.360625,
     "end_time": "2025-05-03T06:19:19.026178",
     "exception": false,
     "start_time": "2025-05-03T06:19:18.665553",
     "status": "completed"
    },
    "tags": []
   },
   "outputs": [],
   "source": [
    "set_by_release_type = by_release_type[\"Set\"].unstack(0).sort_index().fillna(0).astype(int)\n",
    "set_by_release_type_y = set_by_release_type.groupby(set_by_release_type.index.strftime(\"%Y\")).sum().T\n",
    "set_by_release_type_y"
   ]
  },
  {
   "cell_type": "code",
   "execution_count": null,
   "id": "90",
   "metadata": {
    "papermill": {
     "duration": 1.766233,
     "end_time": "2025-05-03T06:19:21.113162",
     "exception": false,
     "start_time": "2025-05-03T06:19:19.346929",
     "status": "completed"
    },
    "tags": []
   },
   "outputs": [],
   "source": [
    "plt.figure(figsize=(14, 16))\n",
    "sns.heatmap(\n",
    "    set_by_release_type_y[set_by_release_type_y > 0],\n",
    "    annot=True,\n",
    "    fmt=\"g\",\n",
    "    cmap=\"viridis\",\n",
    "    square=True,\n",
    "    cbar_kws={\"aspect\": len(set_by_release_type_y.index)},\n",
    ")\n",
    "plt.show()"
   ]
  },
  {
   "cell_type": "code",
   "execution_count": null,
   "id": "91",
   "metadata": {
    "papermill": {
     "duration": 0.280274,
     "end_time": "2025-05-03T06:19:21.706941",
     "exception": false,
     "start_time": "2025-05-03T06:19:21.426667",
     "status": "completed"
    },
    "tags": []
   },
   "outputs": [],
   "source": [
    "# # Disabled for being too large\n",
    "\n",
    "# _=plot.rate(set_by_release_type, subplots=True, title=\"Set releases\")\n",
    "# plt.show()"
   ]
  },
  {
   "cell_type": "markdown",
   "id": "92",
   "metadata": {
    "papermill": {
     "duration": 0.26978,
     "end_time": "2025-05-03T06:19:22.324651",
     "exception": false,
     "start_time": "2025-05-03T06:19:22.054871",
     "status": "completed"
    },
    "tags": []
   },
   "source": [
    " # Epilogue"
   ]
  },
  {
   "cell_type": "code",
   "execution_count": null,
   "id": "93",
   "metadata": {
    "papermill": {
     "duration": 4.081071,
     "end_time": "2025-05-03T06:19:27.016618",
     "exception": false,
     "start_time": "2025-05-03T06:19:22.935547",
     "status": "completed"
    },
    "tags": []
   },
   "outputs": [],
   "source": [
    "benchmark(report=\"sets\", timestamp=timestamp)"
   ]
  },
  {
   "cell_type": "code",
   "execution_count": null,
   "id": "94",
   "metadata": {
    "papermill": {
     "duration": 0.38861,
     "end_time": "2025-05-03T06:19:27.693138",
     "exception": false,
     "start_time": "2025-05-03T06:19:27.304528",
     "status": "completed"
    },
    "tags": []
   },
   "outputs": [],
   "source": [
    "footer()"
   ]
  },
  {
   "cell_type": "markdown",
   "id": "95",
   "metadata": {
    "papermill": {
     "duration": 0.274658,
     "end_time": "2025-05-03T06:19:28.263578",
     "exception": false,
     "start_time": "2025-05-03T06:19:27.988920",
     "status": "completed"
    },
    "tags": []
   },
   "source": [
    "## HTML export"
   ]
  },
  {
   "cell_type": "code",
   "execution_count": null,
   "id": "96",
   "metadata": {
    "papermill": {
     "duration": 0.294647,
     "end_time": "2025-05-03T06:19:28.839722",
     "exception": false,
     "start_time": "2025-05-03T06:19:28.545075",
     "status": "completed"
    },
    "tags": []
   },
   "outputs": [],
   "source": [
    "# May need to sleep for a few seconds after saving\n",
    "save_notebook()"
   ]
  },
  {
   "cell_type": "code",
   "execution_count": null,
   "id": "97",
   "metadata": {
    "papermill": {
     "duration": 2.706958,
     "end_time": "2025-05-03T06:19:31.877731",
     "exception": false,
     "start_time": "2025-05-03T06:19:29.170773",
     "status": "completed"
    },
    "tags": []
   },
   "outputs": [],
   "source": [
    "export_notebook(dirs.NOTEBOOKS.user / \"Sets.ipynb\")"
   ]
  },
  {
   "cell_type": "markdown",
   "id": "98",
   "metadata": {
    "papermill": {
     "duration": 0.582647,
     "end_time": "2025-05-03T06:19:32.748592",
     "exception": false,
     "start_time": "2025-05-03T06:19:32.165945",
     "status": "completed"
    },
    "tags": [
     "exclude"
    ]
   },
   "source": [
    "## Git"
   ]
  },
  {
   "cell_type": "code",
   "execution_count": null,
   "id": "99",
   "metadata": {
    "papermill": {
     "duration": null,
     "end_time": null,
     "exception": false,
     "start_time": "2025-05-03T06:19:33.066550",
     "status": "running"
    },
    "tags": [
     "exclude"
    ]
   },
   "outputs": [],
   "source": [
    "git.commit(\"*[Ss]ets[._]*\", f\"Sets update - {timestamp.isoformat()}\")"
   ]
  }
 ],
 "metadata": {
  "kernelspec": {
   "display_name": "venv",
   "language": "python",
   "name": "python3"
  },
  "language_info": {
   "codemirror_mode": {
    "name": "ipython",
    "version": 3
   },
   "file_extension": ".py",
   "mimetype": "text/x-python",
   "name": "python",
   "nbconvert_exporter": "python",
   "pygments_lexer": "ipython3",
   "version": "3.11.6"
  },
  "papermill": {
   "default_parameters": {},
   "duration": null,
   "end_time": null,
   "environment_variables": {},
   "exception": null,
   "input_path": "/home/jovyan/yugiquery/notebooks/Sets.ipynb",
   "output_path": "/home/jovyan/yugiquery/notebooks/Sets.ipynb",
   "parameters": {},
   "start_time": "2025-05-03T06:11:02.526458",
   "version": "2.6.0"
  },
  "toc": {
   "base_numbering": 1,
   "nav_menu": {},
   "number_sections": true,
   "sideBar": true,
   "skip_h1_title": false,
   "title_cell": "Table of Contents",
   "title_sidebar": "Contents",
   "toc_cell": true,
   "toc_position": {
    "height": "calc(100% - 180px)",
    "left": "10px",
    "top": "150px",
    "width": "288px"
   },
   "toc_section_display": true,
   "toc_window_display": true
  },
  "toc-autonumbering": false,
  "toc-showcode": false,
  "toc-showmarkdowntxt": false,
  "toc-showtags": false
 },
 "nbformat": 4,
 "nbformat_minor": 5
}
