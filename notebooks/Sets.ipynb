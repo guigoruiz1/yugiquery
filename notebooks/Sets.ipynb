{
 "cells": [
  {
   "cell_type": "code",
   "execution_count": null,
   "id": "0",
   "metadata": {
    "papermill": {
     "duration": 45.777187,
     "end_time": "2025-06-21T09:44:33.893676",
     "exception": false,
     "start_time": "2025-06-21T09:43:48.116489",
     "status": "completed"
    },
    "tags": []
   },
   "outputs": [],
   "source": [
    "from yugiquery import *\n",
    "\n",
    "init_notebook_mode(all_interactive=True)\n",
    "\n",
    "header(\"Sets\")"
   ]
  },
  {
   "cell_type": "markdown",
   "id": "1",
   "metadata": {
    "papermill": {
     "duration": 0.262248,
     "end_time": "2025-06-21T09:44:34.310822",
     "exception": false,
     "start_time": "2025-06-21T09:44:34.048574",
     "status": "completed"
    },
    "tags": []
   },
   "source": [
    "---"
   ]
  },
  {
   "cell_type": "markdown",
   "id": "2",
   "metadata": {
    "papermill": {
     "duration": 0.31412,
     "end_time": "2025-06-21T09:44:34.797716",
     "exception": false,
     "start_time": "2025-06-21T09:44:34.483596",
     "status": "completed"
    },
    "tags": []
   },
   "source": [
    "Table of Contents <a class=\"jp-toc-ignore\"></a>\n",
    "=================\n",
    "* [1 Data aquisition](#data-aquisition)\n",
    "  * [1.1 Fetch set lists](#fetch-set-lists)\n",
    "  * [1.2 Fetch set properties](#fetch-set-properties)\n",
    "  * [1.3 Merge data](#merge-data)\n",
    "* [2 Check changes](#check-changes)\n",
    "  * [2.1 Load previous data](#load-previous-data)\n",
    "  * [2.2 Generate changelog](#generate-changelog)\n",
    "  * [2.3 Save data](#save-data)\n",
    "* [3 Data visualization](#data-visualization)\n",
    "  * [3.1 Full data](#full-data)\n",
    "  * [3.2 Set](#set)\n",
    "  * [3.3 Card number](#card-number)\n",
    "  * [3.4 Name](#name)\n",
    "  * [3.5 Rarity](#rarity)\n",
    "    * [3.5.1 By unique](#by-unique)\n",
    "    * [3.5.2 By combination](#by-combination)\n",
    "  * [3.6 Print](#print)\n",
    "  * [3.7 Quantity](#quantity)\n",
    "  * [3.8 Region](#region)\n",
    "  * [3.9 Cover card](#cover-card)\n",
    "  * [3.10 Series](#series)\n",
    "  * [3.11 Set type](#set-type)\n",
    "  * [3.12 Release](#release)\n",
    "    * [3.12.1 By year](#by-year)\n",
    "    * [3.12.2 By month](#by-month)\n",
    "    * [3.12.3 By day](#by-day)\n",
    "    * [3.12.4 By region](#by-region)\n",
    "    * [3.12.5 By series](#by-series)\n",
    "    * [3.12.6 By set type](#by-set-type)\n",
    "* [4 Debug](#debug)\n",
    "  * [4.1 Has nan name/number](#has-nan-name/number)\n",
    "  * [4.2 Has nan rarity](#has-nan-rarity)\n",
    "  * [4.3 Has nan release](#has-nan-release)\n",
    "  * [4.4 HTML export](#html-export)\n",
    "  <!-- * [4.5 Git](#git) -->"
   ]
  },
  {
   "cell_type": "markdown",
   "id": "3",
   "metadata": {
    "papermill": {
     "duration": 0.280427,
     "end_time": "2025-06-21T09:44:35.674460",
     "exception": false,
     "start_time": "2025-06-21T09:44:35.394033",
     "status": "completed"
    },
    "tags": []
   },
   "source": [
    "# Data aquisition"
   ]
  },
  {
   "cell_type": "markdown",
   "id": "4",
   "metadata": {
    "papermill": {
     "duration": 0.276908,
     "end_time": "2025-06-21T09:44:36.002712",
     "exception": false,
     "start_time": "2025-06-21T09:44:35.725804",
     "status": "completed"
    },
    "tags": []
   },
   "source": [
    "## Fetch set lists"
   ]
  },
  {
   "cell_type": "code",
   "execution_count": null,
   "id": "5",
   "metadata": {
    "code_folding": [],
    "papermill": {
     "duration": 535.639976,
     "end_time": "2025-06-21T09:53:31.808605",
     "exception": false,
     "start_time": "2025-06-21T09:44:36.168629",
     "status": "completed"
    },
    "tags": []
   },
   "outputs": [],
   "source": [
    "# Timestamp\n",
    "timestamp = arrow.utcnow()\n",
    "\n",
    "all_set_lists_df = fetch_all_set_lists()"
   ]
  },
  {
   "cell_type": "markdown",
   "id": "6",
   "metadata": {
    "papermill": {
     "duration": 0.167072,
     "end_time": "2025-06-21T09:53:32.028455",
     "exception": false,
     "start_time": "2025-06-21T09:53:31.861383",
     "status": "completed"
    },
    "tags": []
   },
   "source": [
    "## Fetch set properties"
   ]
  },
  {
   "cell_type": "code",
   "execution_count": null,
   "id": "7",
   "metadata": {
    "papermill": {
     "duration": 140.105866,
     "end_time": "2025-06-21T09:55:52.230988",
     "exception": false,
     "start_time": "2025-06-21T09:53:32.125122",
     "status": "completed"
    },
    "tags": []
   },
   "outputs": [],
   "source": [
    "# List of sets to ask\n",
    "sets = all_set_lists_df[\"Set\"].unique()\n",
    "set_info_df = api.fetch_set_info(*sets)"
   ]
  },
  {
   "cell_type": "markdown",
   "id": "8",
   "metadata": {
    "papermill": {
     "duration": 0.048749,
     "end_time": "2025-06-21T09:55:52.331476",
     "exception": false,
     "start_time": "2025-06-21T09:55:52.282727",
     "status": "completed"
    },
    "tags": []
   },
   "source": [
    "## Merge data"
   ]
  },
  {
   "cell_type": "code",
   "execution_count": null,
   "id": "9",
   "metadata": {
    "papermill": {
     "duration": 140.146133,
     "end_time": "2025-06-21T09:58:12.724127",
     "exception": false,
     "start_time": "2025-06-21T09:55:52.577994",
     "status": "completed"
    },
    "tags": []
   },
   "outputs": [],
   "source": [
    "# Add properties to set lists\n",
    "all_set_lists_df = merge_set_info(all_set_lists_df, set_info_df)"
   ]
  },
  {
   "cell_type": "markdown",
   "id": "10",
   "metadata": {
    "papermill": {
     "duration": 0.321239,
     "end_time": "2025-06-21T09:58:13.377624",
     "exception": false,
     "start_time": "2025-06-21T09:58:13.056385",
     "status": "completed"
    },
    "tags": []
   },
   "source": [
    "# Check changes"
   ]
  },
  {
   "cell_type": "markdown",
   "id": "11",
   "metadata": {
    "papermill": {
     "duration": 0.314097,
     "end_time": "2025-06-21T09:58:13.941238",
     "exception": false,
     "start_time": "2025-06-21T09:58:13.627141",
     "status": "completed"
    },
    "tags": []
   },
   "source": [
    "## Load previous data"
   ]
  },
  {
   "cell_type": "code",
   "execution_count": null,
   "id": "12",
   "metadata": {
    "papermill": {
     "duration": 11.995508,
     "end_time": "2025-06-21T09:58:26.020425",
     "exception": false,
     "start_time": "2025-06-21T09:58:14.024917",
     "status": "completed"
    },
    "tags": []
   },
   "outputs": [],
   "source": [
    "# Get latest file if exist\n",
    "tuple_cols = [\"Rarity\", \"Cover card\"]\n",
    "previous_df, previous_ts = load_latest_data(\"sets\", tuple_cols, return_ts=True)\n",
    "\n",
    "if previous_df is not None:\n",
    "    previous_df = previous_df.astype(\n",
    "        all_set_lists_df[previous_df.columns.intersection(all_set_lists_df.columns)].dtypes.to_dict()\n",
    "    )"
   ]
  },
  {
   "cell_type": "markdown",
   "id": "13",
   "metadata": {
    "papermill": {
     "duration": 0.335617,
     "end_time": "2025-06-21T09:58:26.409000",
     "exception": false,
     "start_time": "2025-06-21T09:58:26.073383",
     "status": "completed"
    },
    "tags": []
   },
   "source": [
    "## Generate changelog"
   ]
  },
  {
   "cell_type": "code",
   "execution_count": null,
   "id": "14",
   "metadata": {
    "papermill": {
     "duration": 6.025671,
     "end_time": "2025-06-21T09:58:33.093611",
     "exception": false,
     "start_time": "2025-06-21T09:58:27.067940",
     "status": "completed"
    },
    "tags": []
   },
   "outputs": [],
   "source": [
    "if previous_df is None:\n",
    "    changelog = None\n",
    "    print(\"Skipped\")\n",
    "else:\n",
    "    changelog = generate_changelog(previous_df, all_set_lists_df, col=\"Card number\")\n",
    "    if not changelog.empty:\n",
    "        display(changelog)\n",
    "        changelog.to_csv(\n",
    "            dirs.DATA / make_filename(report=\"sets\", timestamp=timestamp, previous_timestamp=previous_ts),\n",
    "            index=True,\n",
    "        )\n",
    "        print(\"Changelog saved\")"
   ]
  },
  {
   "cell_type": "markdown",
   "id": "15",
   "metadata": {
    "papermill": {
     "duration": 0.634076,
     "end_time": "2025-06-21T09:58:33.781770",
     "exception": false,
     "start_time": "2025-06-21T09:58:33.147694",
     "status": "completed"
    },
    "tags": []
   },
   "source": [
    "## Save data"
   ]
  },
  {
   "cell_type": "code",
   "execution_count": null,
   "id": "16",
   "metadata": {
    "papermill": {
     "duration": 26.206183,
     "end_time": "2025-06-21T09:59:01.134304",
     "exception": false,
     "start_time": "2025-06-21T09:58:34.928121",
     "status": "completed"
    },
    "tags": []
   },
   "outputs": [],
   "source": [
    "if changelog is not None and changelog.empty:\n",
    "    print(\"No changes. New data not saved\")\n",
    "else:\n",
    "    all_set_lists_df.to_csv(\n",
    "        dirs.DATA / make_filename(report=\"sets\", timestamp=timestamp),\n",
    "        index=False,\n",
    "    )\n",
    "    print(\"Data saved\")"
   ]
  },
  {
   "cell_type": "markdown",
   "id": "17",
   "metadata": {
    "papermill": {
     "duration": 0.198496,
     "end_time": "2025-06-21T09:59:01.385448",
     "exception": false,
     "start_time": "2025-06-21T09:59:01.186952",
     "status": "completed"
    },
    "tags": []
   },
   "source": [
    "# Data visualization"
   ]
  },
  {
   "cell_type": "markdown",
   "id": "18",
   "metadata": {
    "jp-MarkdownHeadingCollapsed": true,
    "papermill": {
     "duration": 0.075832,
     "end_time": "2025-06-21T09:59:01.642682",
     "exception": false,
     "start_time": "2025-06-21T09:59:01.566850",
     "status": "completed"
    },
    "tags": []
   },
   "source": [
    "## Full data"
   ]
  },
  {
   "cell_type": "code",
   "execution_count": null,
   "id": "19",
   "metadata": {
    "papermill": {
     "duration": 0.808256,
     "end_time": "2025-06-21T09:59:02.733200",
     "exception": false,
     "start_time": "2025-06-21T09:59:01.924944",
     "status": "completed"
    },
    "tags": []
   },
   "outputs": [],
   "source": [
    "all_set_lists_df"
   ]
  },
  {
   "cell_type": "markdown",
   "id": "20",
   "metadata": {
    "papermill": {
     "duration": 0.311618,
     "end_time": "2025-06-21T09:59:03.103900",
     "exception": false,
     "start_time": "2025-06-21T09:59:02.792282",
     "status": "completed"
    },
    "tags": []
   },
   "source": [
    "Full data available [here](../data)"
   ]
  },
  {
   "cell_type": "markdown",
   "id": "21",
   "metadata": {
    "jp-MarkdownHeadingCollapsed": true,
    "papermill": {
     "duration": 0.145925,
     "end_time": "2025-06-21T09:59:03.411065",
     "exception": false,
     "start_time": "2025-06-21T09:59:03.265140",
     "status": "completed"
    },
    "tags": []
   },
   "source": [
    "## Set"
   ]
  },
  {
   "cell_type": "code",
   "execution_count": null,
   "id": "22",
   "metadata": {
    "papermill": {
     "duration": 0.185682,
     "end_time": "2025-06-21T09:59:03.956368",
     "exception": false,
     "start_time": "2025-06-21T09:59:03.770686",
     "status": "completed"
    },
    "tags": []
   },
   "outputs": [],
   "source": [
    "print(\"Total number of sets:\", all_set_lists_df[\"Set\"].nunique())"
   ]
  },
  {
   "cell_type": "code",
   "execution_count": null,
   "id": "23",
   "metadata": {
    "papermill": {
     "duration": 0.966595,
     "end_time": "2025-06-21T09:59:05.121043",
     "exception": false,
     "start_time": "2025-06-21T09:59:04.154448",
     "status": "completed"
    },
    "tags": []
   },
   "outputs": [],
   "source": [
    "all_set_lists_df.groupby(\"Set\", dropna=False).nunique()"
   ]
  },
  {
   "cell_type": "code",
   "execution_count": null,
   "id": "24",
   "metadata": {
    "papermill": {
     "duration": 1.494876,
     "end_time": "2025-06-21T09:59:06.676915",
     "exception": false,
     "start_time": "2025-06-21T09:59:05.182039",
     "status": "completed"
    },
    "tags": []
   },
   "outputs": [],
   "source": [
    "all_set_lists_df.groupby(\"Set\", dropna=False).nunique().describe()"
   ]
  },
  {
   "cell_type": "markdown",
   "id": "25",
   "metadata": {
    "jp-MarkdownHeadingCollapsed": true,
    "papermill": {
     "duration": 0.05628,
     "end_time": "2025-06-21T09:59:06.794242",
     "exception": false,
     "start_time": "2025-06-21T09:59:06.737962",
     "status": "completed"
    },
    "tags": []
   },
   "source": [
    "## Card number"
   ]
  },
  {
   "cell_type": "code",
   "execution_count": null,
   "id": "26",
   "metadata": {
    "papermill": {
     "duration": 0.377143,
     "end_time": "2025-06-21T09:59:07.325144",
     "exception": false,
     "start_time": "2025-06-21T09:59:06.948001",
     "status": "completed"
    },
    "tags": []
   },
   "outputs": [],
   "source": [
    "print(\"Total number of card numbers:\", all_set_lists_df[\"Card number\"].nunique())"
   ]
  },
  {
   "cell_type": "code",
   "execution_count": null,
   "id": "27",
   "metadata": {
    "papermill": {
     "duration": 2.122805,
     "end_time": "2025-06-21T09:59:09.523520",
     "exception": false,
     "start_time": "2025-06-21T09:59:07.400715",
     "status": "completed"
    },
    "tags": []
   },
   "outputs": [],
   "source": [
    "all_set_lists_df.groupby(\"Card number\", dropna=False).nunique()"
   ]
  },
  {
   "cell_type": "markdown",
   "id": "28",
   "metadata": {
    "jp-MarkdownHeadingCollapsed": true,
    "papermill": {
     "duration": 1.002381,
     "end_time": "2025-06-21T09:59:10.586905",
     "exception": false,
     "start_time": "2025-06-21T09:59:09.584524",
     "status": "completed"
    },
    "tags": []
   },
   "source": [
    "## Name"
   ]
  },
  {
   "cell_type": "code",
   "execution_count": null,
   "id": "29",
   "metadata": {
    "papermill": {
     "duration": 0.265547,
     "end_time": "2025-06-21T09:59:11.363179",
     "exception": false,
     "start_time": "2025-06-21T09:59:11.097632",
     "status": "completed"
    },
    "tags": []
   },
   "outputs": [],
   "source": [
    "print(\"Total number of card names:\", all_set_lists_df[\"Name\"].nunique())"
   ]
  },
  {
   "cell_type": "code",
   "execution_count": null,
   "id": "30",
   "metadata": {
    "papermill": {
     "duration": 1.048604,
     "end_time": "2025-06-21T09:59:12.495693",
     "exception": false,
     "start_time": "2025-06-21T09:59:11.447089",
     "status": "completed"
    },
    "tags": []
   },
   "outputs": [],
   "source": [
    "all_set_lists_df.groupby(\"Name\", dropna=False).nunique()"
   ]
  },
  {
   "cell_type": "code",
   "execution_count": null,
   "id": "31",
   "metadata": {
    "papermill": {
     "duration": 1.499411,
     "end_time": "2025-06-21T09:59:14.058682",
     "exception": false,
     "start_time": "2025-06-21T09:59:12.559271",
     "status": "completed"
    },
    "tags": []
   },
   "outputs": [],
   "source": [
    "all_set_lists_df.groupby(\"Name\", dropna=True).nunique().describe()"
   ]
  },
  {
   "cell_type": "markdown",
   "id": "32",
   "metadata": {
    "papermill": {
     "duration": 0.116917,
     "end_time": "2025-06-21T09:59:14.240297",
     "exception": false,
     "start_time": "2025-06-21T09:59:14.123380",
     "status": "completed"
    },
    "tags": []
   },
   "source": [
    "## Rarity"
   ]
  },
  {
   "cell_type": "code",
   "execution_count": null,
   "id": "33",
   "metadata": {
    "papermill": {
     "duration": 0.969428,
     "end_time": "2025-06-21T09:59:15.423305",
     "exception": false,
     "start_time": "2025-06-21T09:59:14.453877",
     "status": "completed"
    },
    "tags": []
   },
   "outputs": [],
   "source": [
    "print(\"Total number of rarities:\", all_set_lists_df[\"Rarity\"].explode().nunique())"
   ]
  },
  {
   "cell_type": "markdown",
   "id": "34",
   "metadata": {
    "papermill": {
     "duration": 0.686741,
     "end_time": "2025-06-21T09:59:16.176104",
     "exception": false,
     "start_time": "2025-06-21T09:59:15.489363",
     "status": "completed"
    },
    "tags": []
   },
   "source": [
    "### By unique"
   ]
  },
  {
   "cell_type": "code",
   "execution_count": null,
   "id": "35",
   "metadata": {
    "papermill": {
     "duration": 2.887046,
     "end_time": "2025-06-21T09:59:20.698690",
     "exception": false,
     "start_time": "2025-06-21T09:59:17.811644",
     "status": "completed"
    },
    "tags": []
   },
   "outputs": [],
   "source": [
    "all_set_lists_df.explode(\"Rarity\").groupby(\"Rarity\", dropna=False).nunique()"
   ]
  },
  {
   "cell_type": "code",
   "execution_count": null,
   "id": "36",
   "metadata": {
    "papermill": {
     "duration": 4.09879,
     "end_time": "2025-06-21T09:59:24.860514",
     "exception": false,
     "start_time": "2025-06-21T09:59:20.761724",
     "status": "completed"
    },
    "tags": []
   },
   "outputs": [],
   "source": [
    "all_set_lists_df[\"Rarity\"].explode().value_counts().plot.barh(figsize=(10, 20))\n",
    "plt.xscale(\"log\")\n",
    "plt.show()"
   ]
  },
  {
   "cell_type": "markdown",
   "id": "37",
   "metadata": {
    "papermill": {
     "duration": 0.439417,
     "end_time": "2025-06-21T09:59:25.374124",
     "exception": false,
     "start_time": "2025-06-21T09:59:24.934707",
     "status": "completed"
    },
    "tags": []
   },
   "source": [
    "### By combination"
   ]
  },
  {
   "cell_type": "code",
   "execution_count": null,
   "id": "38",
   "metadata": {
    "papermill": {
     "duration": 1.290867,
     "end_time": "2025-06-21T09:59:27.079596",
     "exception": false,
     "start_time": "2025-06-21T09:59:25.788729",
     "status": "completed"
    },
    "tags": []
   },
   "outputs": [],
   "source": [
    "all_set_lists_df.groupby(\"Rarity\", dropna=False).nunique()"
   ]
  },
  {
   "cell_type": "code",
   "execution_count": null,
   "id": "39",
   "metadata": {
    "papermill": {
     "duration": 0.092063,
     "end_time": "2025-06-21T09:59:27.269461",
     "exception": false,
     "start_time": "2025-06-21T09:59:27.177398",
     "status": "completed"
    },
    "tags": []
   },
   "outputs": [],
   "source": [
    "# # Disabled for beeing too large\n",
    "\n",
    "# all_set_lists_df[\"Rarity\"].value_counts().plot.barh(figsize=(10, 80), grid=True)\n",
    "# plt.xscale(\"log\")\n",
    "# plt.show()"
   ]
  },
  {
   "cell_type": "markdown",
   "id": "40",
   "metadata": {
    "papermill": {
     "duration": 0.257246,
     "end_time": "2025-06-21T09:59:27.639708",
     "exception": false,
     "start_time": "2025-06-21T09:59:27.382462",
     "status": "completed"
    },
    "tags": []
   },
   "source": [
    "## Print"
   ]
  },
  {
   "cell_type": "code",
   "execution_count": null,
   "id": "41",
   "metadata": {
    "papermill": {
     "duration": 0.611645,
     "end_time": "2025-06-21T09:59:28.448128",
     "exception": false,
     "start_time": "2025-06-21T09:59:27.836483",
     "status": "completed"
    },
    "tags": []
   },
   "outputs": [],
   "source": [
    "print(\"Total number of prints:\", all_set_lists_df[\"Print\"].nunique())"
   ]
  },
  {
   "cell_type": "code",
   "execution_count": null,
   "id": "42",
   "metadata": {
    "papermill": {
     "duration": 1.09499,
     "end_time": "2025-06-21T09:59:29.735631",
     "exception": false,
     "start_time": "2025-06-21T09:59:28.640641",
     "status": "completed"
    },
    "tags": []
   },
   "outputs": [],
   "source": [
    "all_set_lists_df.groupby(\"Print\", dropna=False).nunique()"
   ]
  },
  {
   "cell_type": "code",
   "execution_count": null,
   "id": "43",
   "metadata": {
    "papermill": {
     "duration": 0.929402,
     "end_time": "2025-06-21T09:59:30.740027",
     "exception": false,
     "start_time": "2025-06-21T09:59:29.810625",
     "status": "completed"
    },
    "tags": []
   },
   "outputs": [],
   "source": [
    "all_set_lists_df[\"Print\"].value_counts().plot.bar(figsize=(18, 6), rot=45)\n",
    "plt.yscale(\"log\")\n",
    "plt.show()"
   ]
  },
  {
   "cell_type": "markdown",
   "id": "44",
   "metadata": {
    "papermill": {
     "duration": 0.106894,
     "end_time": "2025-06-21T09:59:30.924459",
     "exception": false,
     "start_time": "2025-06-21T09:59:30.817565",
     "status": "completed"
    },
    "tags": []
   },
   "source": [
    "## Quantity"
   ]
  },
  {
   "cell_type": "code",
   "execution_count": null,
   "id": "45",
   "metadata": {
    "papermill": {
     "duration": 0.165097,
     "end_time": "2025-06-21T09:59:31.483638",
     "exception": false,
     "start_time": "2025-06-21T09:59:31.318541",
     "status": "completed"
    },
    "tags": []
   },
   "outputs": [],
   "source": [
    "print(\"Total number of quantities:\", all_set_lists_df[\"Quantity\"].nunique())"
   ]
  },
  {
   "cell_type": "code",
   "execution_count": null,
   "id": "46",
   "metadata": {
    "papermill": {
     "duration": 1.457962,
     "end_time": "2025-06-21T09:59:33.016611",
     "exception": false,
     "start_time": "2025-06-21T09:59:31.558649",
     "status": "completed"
    },
    "tags": []
   },
   "outputs": [],
   "source": [
    "all_set_lists_df.groupby(\"Quantity\", dropna=False).nunique()"
   ]
  },
  {
   "cell_type": "markdown",
   "id": "47",
   "metadata": {
    "papermill": {
     "duration": 0.160233,
     "end_time": "2025-06-21T09:59:33.252838",
     "exception": false,
     "start_time": "2025-06-21T09:59:33.092605",
     "status": "completed"
    },
    "tags": []
   },
   "source": [
    "## Region"
   ]
  },
  {
   "cell_type": "code",
   "execution_count": null,
   "id": "48",
   "metadata": {
    "papermill": {
     "duration": 0.247484,
     "end_time": "2025-06-21T09:59:33.592028",
     "exception": false,
     "start_time": "2025-06-21T09:59:33.344544",
     "status": "completed"
    },
    "tags": []
   },
   "outputs": [],
   "source": [
    "print(\"Total number of regions:\", all_set_lists_df[\"Region\"].nunique())"
   ]
  },
  {
   "cell_type": "code",
   "execution_count": null,
   "id": "49",
   "metadata": {
    "papermill": {
     "duration": 0.942496,
     "end_time": "2025-06-21T09:59:34.610307",
     "exception": false,
     "start_time": "2025-06-21T09:59:33.667811",
     "status": "completed"
    },
    "tags": []
   },
   "outputs": [],
   "source": [
    "all_set_lists_df.groupby([\"Set\", \"Region\"], dropna=False).nunique()"
   ]
  },
  {
   "cell_type": "code",
   "execution_count": null,
   "id": "50",
   "metadata": {
    "papermill": {
     "duration": 1.053731,
     "end_time": "2025-06-21T09:59:35.741378",
     "exception": false,
     "start_time": "2025-06-21T09:59:34.687647",
     "status": "completed"
    },
    "tags": []
   },
   "outputs": [],
   "source": [
    "all_set_lists_df.groupby(\"Region\", dropna=False).nunique().describe()"
   ]
  },
  {
   "cell_type": "code",
   "execution_count": null,
   "id": "51",
   "metadata": {
    "papermill": {
     "duration": 0.431358,
     "end_time": "2025-06-21T09:59:36.250177",
     "exception": false,
     "start_time": "2025-06-21T09:59:35.818819",
     "status": "completed"
    },
    "tags": []
   },
   "outputs": [],
   "source": [
    "all_set_lists_df[\"Region\"].value_counts().plot.bar(figsize=(18, 6), rot=0)\n",
    "plt.show()"
   ]
  },
  {
   "cell_type": "markdown",
   "id": "52",
   "metadata": {
    "papermill": {
     "duration": 0.320395,
     "end_time": "2025-06-21T09:59:36.650148",
     "exception": false,
     "start_time": "2025-06-21T09:59:36.329753",
     "status": "completed"
    },
    "tags": []
   },
   "source": [
    "## Cover card"
   ]
  },
  {
   "cell_type": "code",
   "execution_count": null,
   "id": "53",
   "metadata": {
    "papermill": {
     "duration": 0.548173,
     "end_time": "2025-06-21T09:59:37.550147",
     "exception": false,
     "start_time": "2025-06-21T09:59:37.001974",
     "status": "completed"
    },
    "tags": []
   },
   "outputs": [],
   "source": [
    "print(\n",
    "    \"Total number of cover cards:\",\n",
    "    all_set_lists_df[\"Cover card\"].explode(\"Cover card\").nunique(),\n",
    ")"
   ]
  },
  {
   "cell_type": "code",
   "execution_count": null,
   "id": "54",
   "metadata": {
    "papermill": {
     "duration": 4.183196,
     "end_time": "2025-06-21T09:59:41.813884",
     "exception": false,
     "start_time": "2025-06-21T09:59:37.630688",
     "status": "completed"
    },
    "tags": []
   },
   "outputs": [],
   "source": [
    "all_set_lists_df.explode(\"Cover card\").groupby([\"Cover card\"]).nunique()"
   ]
  },
  {
   "cell_type": "code",
   "execution_count": null,
   "id": "55",
   "metadata": {
    "papermill": {
     "duration": 2.752141,
     "end_time": "2025-06-21T09:59:44.739461",
     "exception": false,
     "start_time": "2025-06-21T09:59:41.987320",
     "status": "completed"
    },
    "tags": []
   },
   "outputs": [],
   "source": [
    "all_set_lists_df.explode([\"Cover card\"]).groupby(\"Cover card\")[\"Set\"].nunique().sort_values().tail(30).plot.barh(\n",
    "    figsize=(10, 10), title=\"Top 30 Cover Cards\"\n",
    ")\n",
    "plt.show()"
   ]
  },
  {
   "cell_type": "markdown",
   "id": "56",
   "metadata": {
    "papermill": {
     "duration": 0.338976,
     "end_time": "2025-06-21T09:59:45.167331",
     "exception": false,
     "start_time": "2025-06-21T09:59:44.828355",
     "status": "completed"
    },
    "tags": []
   },
   "source": [
    "## Series"
   ]
  },
  {
   "cell_type": "code",
   "execution_count": null,
   "id": "57",
   "metadata": {
    "papermill": {
     "duration": 0.130907,
     "end_time": "2025-06-21T09:59:45.565531",
     "exception": false,
     "start_time": "2025-06-21T09:59:45.434624",
     "status": "completed"
    },
    "tags": []
   },
   "outputs": [],
   "source": [
    "print(\"Total number of series:\", all_set_lists_df[\"Series\"].nunique())"
   ]
  },
  {
   "cell_type": "code",
   "execution_count": null,
   "id": "58",
   "metadata": {
    "papermill": {
     "duration": 0.819242,
     "end_time": "2025-06-21T09:59:46.673625",
     "exception": false,
     "start_time": "2025-06-21T09:59:45.854383",
     "status": "completed"
    },
    "tags": []
   },
   "outputs": [],
   "source": [
    "all_set_lists_df.groupby(\"Series\").nunique()"
   ]
  },
  {
   "cell_type": "code",
   "execution_count": null,
   "id": "59",
   "metadata": {
    "papermill": {
     "duration": 2.198118,
     "end_time": "2025-06-21T09:59:48.962072",
     "exception": false,
     "start_time": "2025-06-21T09:59:46.763954",
     "status": "completed"
    },
    "tags": []
   },
   "outputs": [],
   "source": [
    "all_set_lists_df.explode([\"Series\"]).groupby(\"Series\")[\"Set\"].nunique().sort_values(ascending=False).plot.barh(\n",
    "    figsize=(10, 18)\n",
    ")\n",
    "plt.show()"
   ]
  },
  {
   "cell_type": "markdown",
   "id": "60",
   "metadata": {
    "papermill": {
     "duration": 0.738448,
     "end_time": "2025-06-21T09:59:49.793392",
     "exception": false,
     "start_time": "2025-06-21T09:59:49.054944",
     "status": "completed"
    },
    "tags": []
   },
   "source": [
    "## Set type"
   ]
  },
  {
   "cell_type": "code",
   "execution_count": null,
   "id": "61",
   "metadata": {
    "papermill": {
     "duration": 0.713541,
     "end_time": "2025-06-21T09:59:50.656888",
     "exception": false,
     "start_time": "2025-06-21T09:59:49.943347",
     "status": "completed"
    },
    "tags": []
   },
   "outputs": [],
   "source": [
    "print(\"Total number of set types:\", all_set_lists_df[\"Set type\"].nunique())"
   ]
  },
  {
   "cell_type": "code",
   "execution_count": null,
   "id": "62",
   "metadata": {
    "papermill": {
     "duration": 1.155021,
     "end_time": "2025-06-21T09:59:52.016901",
     "exception": false,
     "start_time": "2025-06-21T09:59:50.861880",
     "status": "completed"
    },
    "tags": []
   },
   "outputs": [],
   "source": [
    "all_set_lists_df.groupby(\"Set type\").nunique()"
   ]
  },
  {
   "cell_type": "code",
   "execution_count": null,
   "id": "63",
   "metadata": {
    "papermill": {
     "duration": 0.505819,
     "end_time": "2025-06-21T09:59:52.626547",
     "exception": false,
     "start_time": "2025-06-21T09:59:52.120728",
     "status": "completed"
    },
    "tags": []
   },
   "outputs": [],
   "source": [
    "set_info_df[\"Set type\"].value_counts().plot.barh(figsize=(10, 12))\n",
    "plt.show()"
   ]
  },
  {
   "cell_type": "markdown",
   "id": "64",
   "metadata": {
    "papermill": {
     "duration": 0.285178,
     "end_time": "2025-06-21T09:59:53.441476",
     "exception": false,
     "start_time": "2025-06-21T09:59:53.156298",
     "status": "completed"
    },
    "tags": []
   },
   "source": [
    "## Release"
   ]
  },
  {
   "cell_type": "code",
   "execution_count": null,
   "id": "65",
   "metadata": {
    "papermill": {
     "duration": 0.192733,
     "end_time": "2025-06-21T09:59:53.953310",
     "exception": false,
     "start_time": "2025-06-21T09:59:53.760577",
     "status": "completed"
    },
    "tags": []
   },
   "outputs": [],
   "source": [
    "print(\"Total number of release dates:\", all_set_lists_df[\"Release\"].nunique())"
   ]
  },
  {
   "cell_type": "code",
   "execution_count": null,
   "id": "66",
   "metadata": {
    "papermill": {
     "duration": 1.186041,
     "end_time": "2025-06-21T09:59:55.265531",
     "exception": false,
     "start_time": "2025-06-21T09:59:54.079490",
     "status": "completed"
    },
    "tags": []
   },
   "outputs": [],
   "source": [
    "all_set_lists_df.groupby(\"Release\", dropna=False).nunique()"
   ]
  },
  {
   "cell_type": "code",
   "execution_count": null,
   "id": "67",
   "metadata": {
    "papermill": {
     "duration": 0.37354,
     "end_time": "2025-06-21T09:59:55.740681",
     "exception": false,
     "start_time": "2025-06-21T09:59:55.367141",
     "status": "completed"
    },
    "tags": []
   },
   "outputs": [],
   "source": [
    "set_by_release = pd.DataFrame(all_set_lists_df.groupby(\"Release\", dropna=False)[\"Set\"].nunique())"
   ]
  },
  {
   "cell_type": "markdown",
   "id": "68",
   "metadata": {
    "papermill": {
     "duration": 0.194984,
     "end_time": "2025-06-21T09:59:56.364386",
     "exception": false,
     "start_time": "2025-06-21T09:59:56.169402",
     "status": "completed"
    },
    "tags": []
   },
   "source": [
    "### By year"
   ]
  },
  {
   "cell_type": "code",
   "execution_count": null,
   "id": "69",
   "metadata": {
    "papermill": {
     "duration": 2.090192,
     "end_time": "2025-06-21T09:59:59.708818",
     "exception": false,
     "start_time": "2025-06-21T09:59:57.618626",
     "status": "completed"
    },
    "tags": []
   },
   "outputs": [],
   "source": [
    "all_set_lists_df.drop(\"Modification date\", axis=1).groupby(\"Release\", dropna=False).nunique().groupby(\n",
    "    set_by_release.index.strftime(\"%Y\")\n",
    ").sum()"
   ]
  },
  {
   "cell_type": "code",
   "execution_count": null,
   "id": "70",
   "metadata": {
    "papermill": {
     "duration": 6.85714,
     "end_time": "2025-06-21T10:00:06.664989",
     "exception": false,
     "start_time": "2025-06-21T09:59:59.807849",
     "status": "completed"
    },
    "tags": []
   },
   "outputs": [],
   "source": [
    "_ = plot.rate(set_by_release)\n",
    "plt.show()"
   ]
  },
  {
   "cell_type": "markdown",
   "id": "71",
   "metadata": {
    "papermill": {
     "duration": 0.536833,
     "end_time": "2025-06-21T10:00:07.323639",
     "exception": false,
     "start_time": "2025-06-21T10:00:06.786806",
     "status": "completed"
    },
    "tags": []
   },
   "source": [
    "### By month"
   ]
  },
  {
   "cell_type": "code",
   "execution_count": null,
   "id": "72",
   "metadata": {
    "papermill": {
     "duration": 0.734359,
     "end_time": "2025-06-21T10:00:08.248956",
     "exception": false,
     "start_time": "2025-06-21T10:00:07.514597",
     "status": "completed"
    },
    "tags": []
   },
   "outputs": [],
   "source": [
    "set_by_release.groupby(set_by_release.index.strftime(\"%B\")).sum().sort_index(\n",
    "    key=lambda x: pd.to_datetime(x, format=\"%B\").month\n",
    ").plot.bar(figsize=(16, 8), xlabel=\"Release month\", rot=0)\n",
    "plt.show()"
   ]
  },
  {
   "cell_type": "code",
   "execution_count": null,
   "id": "73",
   "metadata": {
    "papermill": {
     "duration": 0.719038,
     "end_time": "2025-06-21T10:00:09.083197",
     "exception": false,
     "start_time": "2025-06-21T10:00:08.364159",
     "status": "completed"
    },
    "tags": []
   },
   "outputs": [],
   "source": [
    "set_by_release.groupby(set_by_release.index.strftime(\"%d\")).sum().plot.bar(\n",
    "    figsize=(16, 8), xlabel=\"Release day of the month\", rot=0\n",
    ")\n",
    "plt.show()"
   ]
  },
  {
   "cell_type": "markdown",
   "id": "74",
   "metadata": {
    "papermill": {
     "duration": 0.142431,
     "end_time": "2025-06-21T10:00:09.548675",
     "exception": false,
     "start_time": "2025-06-21T10:00:09.406244",
     "status": "completed"
    },
    "tags": []
   },
   "source": [
    "### By day"
   ]
  },
  {
   "cell_type": "code",
   "execution_count": null,
   "id": "75",
   "metadata": {
    "papermill": {
     "duration": 0.450657,
     "end_time": "2025-06-21T10:00:10.623249",
     "exception": false,
     "start_time": "2025-06-21T10:00:10.172592",
     "status": "completed"
    },
    "tags": []
   },
   "outputs": [],
   "source": [
    "set_by_release.groupby(set_by_release.index.dayofyear).sum().plot(\n",
    "    figsize=(16, 8), xlabel=\"Release day of the year\", drawstyle=\"steps-mid\"\n",
    ")\n",
    "plt.show()"
   ]
  },
  {
   "cell_type": "code",
   "execution_count": null,
   "id": "76",
   "metadata": {
    "papermill": {
     "duration": 0.770397,
     "end_time": "2025-06-21T10:00:11.515458",
     "exception": false,
     "start_time": "2025-06-21T10:00:10.745061",
     "status": "completed"
    },
    "tags": []
   },
   "outputs": [],
   "source": [
    "set_by_release_wd = set_by_release.groupby(set_by_release.index.weekday).sum()\n",
    "set_by_release_wd.index = [calendar.day_name[i] for i in set_by_release_wd.index.astype(int)]\n",
    "set_by_release_wd.plot.bar(figsize=(12, 6), xlabel=\"Release day of the week\", rot=0)\n",
    "plt.show()"
   ]
  },
  {
   "cell_type": "markdown",
   "id": "77",
   "metadata": {
    "papermill": {
     "duration": 0.171704,
     "end_time": "2025-06-21T10:00:11.826090",
     "exception": false,
     "start_time": "2025-06-21T10:00:11.654386",
     "status": "completed"
    },
    "tags": []
   },
   "source": [
    "### By region"
   ]
  },
  {
   "cell_type": "code",
   "execution_count": null,
   "id": "78",
   "metadata": {
    "papermill": {
     "duration": 1.446091,
     "end_time": "2025-06-21T10:00:13.460404",
     "exception": false,
     "start_time": "2025-06-21T10:00:12.014313",
     "status": "completed"
    },
    "tags": []
   },
   "outputs": [],
   "source": [
    "by_release_region = all_set_lists_df.groupby([\"Region\", \"Release\"]).nunique()\n",
    "by_release_region"
   ]
  },
  {
   "cell_type": "code",
   "execution_count": null,
   "id": "79",
   "metadata": {
    "papermill": {
     "duration": 1.090923,
     "end_time": "2025-06-21T10:00:14.684625",
     "exception": false,
     "start_time": "2025-06-21T10:00:13.593702",
     "status": "completed"
    },
    "tags": []
   },
   "outputs": [],
   "source": [
    "set_by_release_region = by_release_region[\"Set\"].unstack(0).sort_index().fillna(0).astype(int)\n",
    "set_by_release_region_y = set_by_release_region.groupby(set_by_release_region.index.strftime(\"%Y\")).sum().T\n",
    "set_by_release_region_y"
   ]
  },
  {
   "cell_type": "code",
   "execution_count": null,
   "id": "80",
   "metadata": {
    "papermill": {
     "duration": 2.915445,
     "end_time": "2025-06-21T10:00:17.777878",
     "exception": false,
     "start_time": "2025-06-21T10:00:14.862433",
     "status": "completed"
    },
    "tags": []
   },
   "outputs": [],
   "source": [
    "plt.figure(figsize=(14, 6))\n",
    "sns.heatmap(\n",
    "    set_by_release_region_y[set_by_release_region_y > 0],\n",
    "    annot=True,\n",
    "    fmt=\"g\",\n",
    "    cmap=\"viridis\",\n",
    "    square=True,\n",
    ")\n",
    "plt.show()"
   ]
  },
  {
   "cell_type": "code",
   "execution_count": null,
   "id": "81",
   "metadata": {
    "papermill": {
     "duration": 32.777707,
     "end_time": "2025-06-21T10:00:50.687638",
     "exception": false,
     "start_time": "2025-06-21T10:00:17.909931",
     "status": "completed"
    },
    "tags": []
   },
   "outputs": [],
   "source": [
    "_ = plot.rate(set_by_release_region, subplots=True, title=\"Set releases\")\n",
    "plt.show()"
   ]
  },
  {
   "cell_type": "markdown",
   "id": "82",
   "metadata": {
    "papermill": {
     "duration": 0.336191,
     "end_time": "2025-06-21T10:00:51.372003",
     "exception": false,
     "start_time": "2025-06-21T10:00:51.035812",
     "status": "completed"
    },
    "tags": []
   },
   "source": [
    "### By series"
   ]
  },
  {
   "cell_type": "code",
   "execution_count": null,
   "id": "83",
   "metadata": {
    "papermill": {
     "duration": 2.626879,
     "end_time": "2025-06-21T10:00:54.761669",
     "exception": false,
     "start_time": "2025-06-21T10:00:52.134790",
     "status": "completed"
    },
    "tags": []
   },
   "outputs": [],
   "source": [
    "by_release_series = all_set_lists_df.explode(\"Series\").groupby([\"Series\", \"Release\"]).nunique()\n",
    "by_release_series"
   ]
  },
  {
   "cell_type": "code",
   "execution_count": null,
   "id": "84",
   "metadata": {
    "papermill": {
     "duration": 0.682571,
     "end_time": "2025-06-21T10:00:55.673311",
     "exception": false,
     "start_time": "2025-06-21T10:00:54.990740",
     "status": "completed"
    },
    "tags": []
   },
   "outputs": [],
   "source": [
    "set_by_release_series = by_release_series[\"Set\"].unstack(0).sort_index().fillna(0).astype(int)\n",
    "set_by_release_series_y = set_by_release_series.groupby(set_by_release_series.index.strftime(\"%Y\")).sum().T\n",
    "set_by_release_series_y"
   ]
  },
  {
   "cell_type": "code",
   "execution_count": null,
   "id": "85",
   "metadata": {
    "papermill": {
     "duration": 2.842677,
     "end_time": "2025-06-21T10:00:58.750980",
     "exception": false,
     "start_time": "2025-06-21T10:00:55.908303",
     "status": "completed"
    },
    "tags": []
   },
   "outputs": [],
   "source": [
    "plt.figure(figsize=(16, 30))\n",
    "sns.heatmap(\n",
    "    set_by_release_series_y[set_by_release_series_y > 0],\n",
    "    annot=True,\n",
    "    fmt=\"g\",\n",
    "    cmap=\"viridis\",\n",
    "    square=True,\n",
    "    cbar_kws={\"aspect\": len(set_by_release_series_y.index)},\n",
    ")\n",
    "plt.show()"
   ]
  },
  {
   "cell_type": "code",
   "execution_count": null,
   "id": "86",
   "metadata": {
    "papermill": {
     "duration": 0.455569,
     "end_time": "2025-06-21T10:00:59.461533",
     "exception": false,
     "start_time": "2025-06-21T10:00:59.005964",
     "status": "completed"
    },
    "tags": []
   },
   "outputs": [],
   "source": [
    "# # Disabled for being too large\n",
    "\n",
    "# _ = plot.rate(set_by_release_series, subplots=True, title=\"Set releases\")\n",
    "# plt.show()"
   ]
  },
  {
   "cell_type": "markdown",
   "id": "87",
   "metadata": {
    "papermill": {
     "duration": 0.467928,
     "end_time": "2025-06-21T10:01:00.191750",
     "exception": false,
     "start_time": "2025-06-21T10:00:59.723822",
     "status": "completed"
    },
    "tags": []
   },
   "source": [
    "### By set type"
   ]
  },
  {
   "cell_type": "code",
   "execution_count": null,
   "id": "88",
   "metadata": {
    "papermill": {
     "duration": 2.837965,
     "end_time": "2025-06-21T10:01:03.510943",
     "exception": false,
     "start_time": "2025-06-21T10:01:00.672978",
     "status": "completed"
    },
    "tags": []
   },
   "outputs": [],
   "source": [
    "by_release_type = all_set_lists_df.explode(\"Set type\").groupby([\"Set type\", \"Release\"]).nunique()\n",
    "by_release_type"
   ]
  },
  {
   "cell_type": "code",
   "execution_count": null,
   "id": "89",
   "metadata": {
    "papermill": {
     "duration": 0.410647,
     "end_time": "2025-06-21T10:01:04.181222",
     "exception": false,
     "start_time": "2025-06-21T10:01:03.770575",
     "status": "completed"
    },
    "tags": []
   },
   "outputs": [],
   "source": [
    "set_by_release_type = by_release_type[\"Set\"].unstack(0).sort_index().fillna(0).astype(int)\n",
    "set_by_release_type_y = set_by_release_type.groupby(set_by_release_type.index.strftime(\"%Y\")).sum().T\n",
    "set_by_release_type_y"
   ]
  },
  {
   "cell_type": "code",
   "execution_count": null,
   "id": "90",
   "metadata": {
    "papermill": {
     "duration": 2.289723,
     "end_time": "2025-06-21T10:01:07.183601",
     "exception": false,
     "start_time": "2025-06-21T10:01:04.893878",
     "status": "completed"
    },
    "tags": []
   },
   "outputs": [],
   "source": [
    "plt.figure(figsize=(14, 16))\n",
    "sns.heatmap(\n",
    "    set_by_release_type_y[set_by_release_type_y > 0],\n",
    "    annot=True,\n",
    "    fmt=\"g\",\n",
    "    cmap=\"viridis\",\n",
    "    square=True,\n",
    "    cbar_kws={\"aspect\": len(set_by_release_type_y.index)},\n",
    ")\n",
    "plt.show()"
   ]
  },
  {
   "cell_type": "code",
   "execution_count": null,
   "id": "91",
   "metadata": {
    "papermill": {
     "duration": 0.573615,
     "end_time": "2025-06-21T10:01:08.030569",
     "exception": false,
     "start_time": "2025-06-21T10:01:07.456954",
     "status": "completed"
    },
    "tags": []
   },
   "outputs": [],
   "source": [
    "# # Disabled for being too large\n",
    "\n",
    "# _=plot.rate(set_by_release_type, subplots=True, title=\"Set releases\")\n",
    "# plt.show()"
   ]
  },
  {
   "cell_type": "markdown",
   "id": "92",
   "metadata": {
    "papermill": {
     "duration": 0.573183,
     "end_time": "2025-06-21T10:01:08.884692",
     "exception": false,
     "start_time": "2025-06-21T10:01:08.311509",
     "status": "completed"
    },
    "tags": []
   },
   "source": [
    " # Epilogue"
   ]
  },
  {
   "cell_type": "code",
   "execution_count": null,
   "id": "93",
   "metadata": {
    "papermill": {
     "duration": 7.9364,
     "end_time": "2025-06-21T10:01:17.096711",
     "exception": false,
     "start_time": "2025-06-21T10:01:09.160311",
     "status": "completed"
    },
    "tags": []
   },
   "outputs": [],
   "source": [
    "benchmark(report=\"sets\", timestamp=timestamp)"
   ]
  },
  {
   "cell_type": "code",
   "execution_count": null,
   "id": "94",
   "metadata": {
    "papermill": {
     "duration": 0.329932,
     "end_time": "2025-06-21T10:01:17.905506",
     "exception": false,
     "start_time": "2025-06-21T10:01:17.575574",
     "status": "completed"
    },
    "tags": []
   },
   "outputs": [],
   "source": [
    "footer()"
   ]
  },
  {
   "cell_type": "markdown",
   "id": "95",
   "metadata": {
    "papermill": {
     "duration": 1.155277,
     "end_time": "2025-06-21T10:01:19.337829",
     "exception": false,
     "start_time": "2025-06-21T10:01:18.182552",
     "status": "completed"
    },
    "tags": []
   },
   "source": [
    "## HTML export"
   ]
  },
  {
   "cell_type": "code",
   "execution_count": null,
   "id": "96",
   "metadata": {
    "papermill": {
     "duration": 0.617773,
     "end_time": "2025-06-21T10:01:20.578905",
     "exception": false,
     "start_time": "2025-06-21T10:01:19.961132",
     "status": "completed"
    },
    "tags": []
   },
   "outputs": [],
   "source": [
    "# May need to sleep for a few seconds after saving\n",
    "save_notebook()"
   ]
  },
  {
   "cell_type": "code",
   "execution_count": null,
   "id": "97",
   "metadata": {
    "papermill": {
     "duration": 4.792811,
     "end_time": "2025-06-21T10:01:25.813756",
     "exception": false,
     "start_time": "2025-06-21T10:01:21.020945",
     "status": "completed"
    },
    "tags": []
   },
   "outputs": [],
   "source": [
    "export_notebook(dirs.NOTEBOOKS.user / \"Sets.ipynb\")"
   ]
  },
  {
   "cell_type": "markdown",
   "id": "98",
   "metadata": {
    "papermill": {
     "duration": 0.271207,
     "end_time": "2025-06-21T10:01:26.372578",
     "exception": false,
     "start_time": "2025-06-21T10:01:26.101371",
     "status": "completed"
    },
    "tags": [
     "exclude"
    ]
   },
   "source": [
    "## Git"
   ]
  },
  {
   "cell_type": "code",
   "execution_count": null,
   "id": "99",
   "metadata": {
    "papermill": {
     "duration": null,
     "end_time": null,
     "exception": false,
     "start_time": "2025-06-21T10:01:27.500144",
     "status": "running"
    },
    "tags": [
     "exclude"
    ]
   },
   "outputs": [],
   "source": [
    "git.commit(\"*[Ss]ets[._]*\", f\"Sets update - {timestamp.isoformat()}\")"
   ]
  }
 ],
 "metadata": {
  "kernelspec": {
   "display_name": "venv",
   "language": "python",
   "name": "python3"
  },
  "language_info": {
   "codemirror_mode": {
    "name": "ipython",
    "version": 3
   },
   "file_extension": ".py",
   "mimetype": "text/x-python",
   "name": "python",
   "nbconvert_exporter": "python",
   "pygments_lexer": "ipython3",
   "version": "3.11.6"
  },
  "papermill": {
   "default_parameters": {},
   "duration": null,
   "end_time": null,
   "environment_variables": {},
   "exception": null,
   "input_path": "/home/jovyan/yugiquery/notebooks/Sets.ipynb",
   "output_path": "/home/jovyan/yugiquery/notebooks/Sets.ipynb",
   "parameters": {},
   "start_time": "2025-06-21T09:43:34.826448",
   "version": "2.6.0"
  },
  "toc": {
   "base_numbering": 1,
   "nav_menu": {},
   "number_sections": true,
   "sideBar": true,
   "skip_h1_title": false,
   "title_cell": "Table of Contents",
   "title_sidebar": "Contents",
   "toc_cell": true,
   "toc_position": {
    "height": "calc(100% - 180px)",
    "left": "10px",
    "top": "150px",
    "width": "288px"
   },
   "toc_section_display": true,
   "toc_window_display": true
  },
  "toc-autonumbering": false,
  "toc-showcode": false,
  "toc-showmarkdowntxt": false,
  "toc-showtags": false
 },
 "nbformat": 4,
 "nbformat_minor": 5
}
