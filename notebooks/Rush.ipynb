{
 "cells": [
  {
   "cell_type": "code",
   "execution_count": null,
   "id": "0",
   "metadata": {
    "papermill": {
     "duration": 2.874709,
     "end_time": "2025-01-11T07:07:04.403009",
     "exception": false,
     "start_time": "2025-01-11T07:07:01.528300",
     "status": "completed"
    },
    "tags": []
   },
   "outputs": [],
   "source": [
    "from yugiquery import *\n",
    "\n",
    "init_notebook_mode(all_interactive=True)\n",
    "\n",
    "header(\"Rush Duel\")"
   ]
  },
  {
   "cell_type": "markdown",
   "id": "1",
   "metadata": {
    "papermill": {
     "duration": 0.117947,
     "end_time": "2025-01-11T07:07:04.573870",
     "exception": false,
     "start_time": "2025-01-11T07:07:04.455923",
     "status": "completed"
    },
    "tags": []
   },
   "source": [
    "---"
   ]
  },
  {
   "cell_type": "markdown",
   "id": "2",
   "metadata": {
    "papermill": {
     "duration": 0.079211,
     "end_time": "2025-01-11T07:07:04.723442",
     "exception": false,
     "start_time": "2025-01-11T07:07:04.644231",
     "status": "completed"
    },
    "tags": []
   },
   "source": [
    "Table of Contents <a class=\"jp-toc-ignore\"></a>\n",
    "=================\n",
    "* [1 Data aquisition](#data-aquisition)\n",
    "  * [1.1 Fetch online data](#fetch-online-data)\n",
    "  * [1.2 Merge data](#merge-data)\n",
    "* [2 Check changes](#check-changes)\n",
    "  * [2.1 Load previous data](#load-previous-data)\n",
    "  * [2.2 Generate changelog](#generate-changelog)\n",
    "  * [2.3 Save data](#save-data)\n",
    "* [3 Data visualization](#data-visualization)\n",
    "  * [3.1 Card type](#card-type)\n",
    "  * [3.2 Monsters](#monsters)\n",
    "    * [3.2.1 Attribute](#attribute)\n",
    "    * [3.2.2 Primary type](#primary-type)\n",
    "      * [3.2.2.1 Has effect discrimination](#has-effect-discrimination)\n",
    "      * [3.2.2.2 By attribute](#by-attribute)\n",
    "    * [3.2.3 Monster type](#monster-type)\n",
    "      * [3.2.3.1 By Attribute](#by-attribute)\n",
    "      * [3.2.3.2 By primary type](#by-primary-type)\n",
    "    * [3.2.4 ATK](#atk)\n",
    "    * [3.2.5 DEF](#def)\n",
    "    * [3.2.6 Maximum mode](#maximum-mode)\n",
    "      * [3.2.6.1 MAXIMUM ATK](#maximum-atk)\n",
    "        * [3.2.6.1.1 By ATK](#by-atk)\n",
    "        * [3.2.6.1.2 By DEF](#by-def)\n",
    "    * [3.2.7 Level/Rank](#level/rank)\n",
    "      * [3.2.7.1 ATK statistics](#atk-statistics)\n",
    "      * [3.2.7.2 DEF statistics](#def-statistics)\n",
    "  * [3.3 Spell & Trap](#spell-&-trap)\n",
    "    * [3.3.1 Properties](#properties)\n",
    "  * [3.4 Effect type](#effect-type)\n",
    "    * [3.4.1 Card type discrimination](#card-type-discrimination)\n",
    "  * [3.5 Archseries](#archseries)\n",
    "    * [3.5.1 By card type](#by-card-type)\n",
    "    * [3.5.2 By primary type](#by-primary-type)\n",
    "    * [3.5.3 By monster type](#by-monster-type)\n",
    "    * [3.5.4 By property](#by-property)\n",
    "  * [3.6 Legend](#legend)\n",
    "      * [3.6.0.1 By card type](#by-card-type)\n",
    "      * [3.6.0.2 By Attribute](#by-attribute)\n",
    "      * [3.6.0.3 By primary type](#by-primary-type)\n",
    "      * [3.6.0.4 By monster type](#by-monster-type)\n",
    "  * [3.7 Artworks](#artworks)\n",
    "    * [3.7.1 By card type](#by-card-type)\n",
    "    * [3.7.2 By primary type](#by-primary-type)\n",
    "  * [3.8 Errata](#errata)\n",
    "    * [3.8.1 By card type](#by-card-type)\n",
    "    * [3.8.2 By primary type](#by-primary-type)\n",
    "    * [3.8.3 By artwork](#by-artwork)\n",
    "* [4 Epilogue](#epilogue)\n",
    "  * [4.1 HTML export](#html-export)\n",
    "  <!-- * [4.2 Git](#git) -->"
   ]
  },
  {
   "cell_type": "markdown",
   "id": "3",
   "metadata": {
    "papermill": {
     "duration": 0.080352,
     "end_time": "2025-01-11T07:07:04.874559",
     "exception": false,
     "start_time": "2025-01-11T07:07:04.794207",
     "status": "completed"
    },
    "tags": []
   },
   "source": [
    "# Data aquisition"
   ]
  },
  {
   "cell_type": "markdown",
   "id": "4",
   "metadata": {
    "papermill": {
     "duration": 0.044466,
     "end_time": "2025-01-11T07:07:05.123966",
     "exception": false,
     "start_time": "2025-01-11T07:07:05.079500",
     "status": "completed"
    },
    "tags": []
   },
   "source": [
    "## Fetch online data"
   ]
  },
  {
   "cell_type": "code",
   "execution_count": null,
   "id": "5",
   "metadata": {
    "papermill": {
     "duration": 0.07734,
     "end_time": "2025-01-11T07:07:05.249943",
     "exception": false,
     "start_time": "2025-01-11T07:07:05.172603",
     "status": "completed"
    },
    "tags": []
   },
   "outputs": [],
   "source": [
    "# Timestamp\n",
    "timestamp = arrow.utcnow()"
   ]
  },
  {
   "cell_type": "code",
   "execution_count": null,
   "id": "6",
   "metadata": {
    "papermill": {
     "duration": 20.818954,
     "end_time": "2025-01-11T07:07:26.123402",
     "exception": false,
     "start_time": "2025-01-11T07:07:05.304448",
     "status": "completed"
    },
    "tags": []
   },
   "outputs": [],
   "source": [
    "# Fetch rush cards\n",
    "rush_df = fetch_rush()\n",
    "\n",
    "# Fetch errata\n",
    "errata_df = fetch_errata()"
   ]
  },
  {
   "cell_type": "markdown",
   "id": "7",
   "metadata": {
    "papermill": {
     "duration": 0.062394,
     "end_time": "2025-01-11T07:07:26.239334",
     "exception": false,
     "start_time": "2025-01-11T07:07:26.176940",
     "status": "completed"
    },
    "tags": []
   },
   "source": [
    "## Merge data"
   ]
  },
  {
   "cell_type": "code",
   "execution_count": null,
   "id": "8",
   "metadata": {
    "papermill": {
     "duration": 0.889112,
     "end_time": "2025-01-11T07:07:27.180253",
     "exception": false,
     "start_time": "2025-01-11T07:07:26.291141",
     "status": "completed"
    },
    "tags": []
   },
   "outputs": [],
   "source": [
    "rush_df = merge_errata(rush_df, errata_df)\n",
    "print(\"Data merged\")"
   ]
  },
  {
   "cell_type": "markdown",
   "id": "9",
   "metadata": {
    "papermill": {
     "duration": 0.15863,
     "end_time": "2025-01-11T07:07:27.391800",
     "exception": false,
     "start_time": "2025-01-11T07:07:27.233170",
     "status": "completed"
    },
    "tags": []
   },
   "source": [
    "# Check changes"
   ]
  },
  {
   "cell_type": "markdown",
   "id": "10",
   "metadata": {
    "papermill": {
     "duration": 0.045722,
     "end_time": "2025-01-11T07:07:27.526366",
     "exception": false,
     "start_time": "2025-01-11T07:07:27.480644",
     "status": "completed"
    },
    "tags": []
   },
   "source": [
    "## Load previous data"
   ]
  },
  {
   "cell_type": "code",
   "execution_count": null,
   "id": "11",
   "metadata": {
    "papermill": {
     "duration": 0.256151,
     "end_time": "2025-01-11T07:07:27.833182",
     "exception": false,
     "start_time": "2025-01-11T07:07:27.577031",
     "status": "completed"
    },
    "tags": []
   },
   "outputs": [],
   "source": [
    "# Get latest file if exist\n",
    "tuple_cols = [\n",
    "    \"Effect type\",\n",
    "    \"Archseries\",\n",
    "    \"Artwork\",\n",
    "    \"Errata\",\n",
    "    \"Legend\",\n",
    "    \"Maximum mode\",\n",
    "]\n",
    "previous_df, previous_ts = load_latest_data(\"rush\", tuple_cols)\n",
    "\n",
    "if previous_df is not None:\n",
    "    previous_df = previous_df.astype(rush_df[previous_df.columns.intersection(rush_df.columns)].dtypes.to_dict())"
   ]
  },
  {
   "cell_type": "markdown",
   "id": "12",
   "metadata": {
    "papermill": {
     "duration": 0.047123,
     "end_time": "2025-01-11T07:07:27.933761",
     "exception": false,
     "start_time": "2025-01-11T07:07:27.886638",
     "status": "completed"
    },
    "tags": []
   },
   "source": [
    "## Generate changelog"
   ]
  },
  {
   "cell_type": "code",
   "execution_count": null,
   "id": "13",
   "metadata": {
    "papermill": {
     "duration": 0.168455,
     "end_time": "2025-01-11T07:07:28.149932",
     "exception": false,
     "start_time": "2025-01-11T07:07:27.981477",
     "status": "completed"
    },
    "tags": []
   },
   "outputs": [],
   "source": [
    "if previous_df is None:\n",
    "    changelog = None\n",
    "    print(\"Skipped\")\n",
    "else:\n",
    "    changelog = generate_changelog(previous_df, rush_df, col=\"Name\")\n",
    "    if not changelog.empty:\n",
    "        display(changelog)\n",
    "        changelog.to_csv(\n",
    "            dirs.DATA / make_filename(report=\"rush\", timestamp=timestamp, previous_timestamp=previous_ts),\n",
    "            index=True,\n",
    "        )\n",
    "        print(\"Changelog saved\")"
   ]
  },
  {
   "cell_type": "markdown",
   "id": "14",
   "metadata": {
    "papermill": {
     "duration": 0.052122,
     "end_time": "2025-01-11T07:07:28.254537",
     "exception": false,
     "start_time": "2025-01-11T07:07:28.202415",
     "status": "completed"
    },
    "tags": []
   },
   "source": [
    "## Save data"
   ]
  },
  {
   "cell_type": "code",
   "execution_count": null,
   "id": "15",
   "metadata": {
    "papermill": {
     "duration": 0.164694,
     "end_time": "2025-01-11T07:07:28.471368",
     "exception": false,
     "start_time": "2025-01-11T07:07:28.306674",
     "status": "completed"
    },
    "tags": []
   },
   "outputs": [],
   "source": [
    "if changelog is not None and changelog.empty:\n",
    "    print(\"No changes. New data not saved\")\n",
    "else:\n",
    "    rush_df.to_csv(\n",
    "        dirs.DATA / make_filename(report=\"rush\", timestamp=timestamp),\n",
    "        index=False,\n",
    "    )\n",
    "    print(\"Data saved\")"
   ]
  },
  {
   "cell_type": "markdown",
   "id": "16",
   "metadata": {
    "papermill": {
     "duration": 0.052141,
     "end_time": "2025-01-11T07:07:28.575426",
     "exception": false,
     "start_time": "2025-01-11T07:07:28.523285",
     "status": "completed"
    },
    "tags": []
   },
   "source": [
    "# Data visualization"
   ]
  },
  {
   "cell_type": "code",
   "execution_count": null,
   "id": "17",
   "metadata": {
    "papermill": {
     "duration": 0.22747,
     "end_time": "2025-01-11T07:07:28.862412",
     "exception": false,
     "start_time": "2025-01-11T07:07:28.634942",
     "status": "completed"
    },
    "tags": []
   },
   "outputs": [],
   "source": [
    "rush_df"
   ]
  },
  {
   "cell_type": "markdown",
   "id": "18",
   "metadata": {
    "papermill": {
     "duration": 0.06113,
     "end_time": "2025-01-11T07:07:28.979987",
     "exception": false,
     "start_time": "2025-01-11T07:07:28.918857",
     "status": "completed"
    },
    "tags": []
   },
   "source": [
    "## Card type"
   ]
  },
  {
   "cell_type": "code",
   "execution_count": null,
   "id": "19",
   "metadata": {
    "papermill": {
     "duration": 0.064273,
     "end_time": "2025-01-11T07:07:29.099618",
     "exception": false,
     "start_time": "2025-01-11T07:07:29.035345",
     "status": "completed"
    },
    "tags": []
   },
   "outputs": [],
   "source": [
    "print(\"Total number of card types:\", rush_df[\"Card type\"].nunique())"
   ]
  },
  {
   "cell_type": "code",
   "execution_count": null,
   "id": "20",
   "metadata": {
    "papermill": {
     "duration": 0.215116,
     "end_time": "2025-01-11T07:07:29.368274",
     "exception": false,
     "start_time": "2025-01-11T07:07:29.153158",
     "status": "completed"
    },
    "tags": []
   },
   "outputs": [],
   "source": [
    "card_type_colors = [plot.colors_dict[i] for i in rush_df[\"Card type\"].value_counts().index]\n",
    "rush_df[\"Card type\"].value_counts().plot.bar(figsize=(14, 6), rot=0, color=card_type_colors)\n",
    "plt.show()"
   ]
  },
  {
   "cell_type": "markdown",
   "id": "21",
   "metadata": {
    "papermill": {
     "duration": 0.056482,
     "end_time": "2025-01-11T07:07:29.482052",
     "exception": false,
     "start_time": "2025-01-11T07:07:29.425570",
     "status": "completed"
    },
    "tags": []
   },
   "source": [
    "## Monsters"
   ]
  },
  {
   "cell_type": "markdown",
   "id": "22",
   "metadata": {
    "papermill": {
     "duration": 0.054467,
     "end_time": "2025-01-11T07:07:29.590329",
     "exception": false,
     "start_time": "2025-01-11T07:07:29.535862",
     "status": "completed"
    },
    "tags": []
   },
   "source": [
    "### Attribute"
   ]
  },
  {
   "cell_type": "code",
   "execution_count": null,
   "id": "23",
   "metadata": {
    "papermill": {
     "duration": 0.066709,
     "end_time": "2025-01-11T07:07:29.710349",
     "exception": false,
     "start_time": "2025-01-11T07:07:29.643640",
     "status": "completed"
    },
    "tags": []
   },
   "outputs": [],
   "source": [
    "print(\"Total number of attributes:\", rush_df[\"Attribute\"].nunique())"
   ]
  },
  {
   "cell_type": "code",
   "execution_count": null,
   "id": "24",
   "metadata": {
    "papermill": {
     "duration": 0.105089,
     "end_time": "2025-01-11T07:07:29.869820",
     "exception": false,
     "start_time": "2025-01-11T07:07:29.764731",
     "status": "completed"
    },
    "tags": []
   },
   "outputs": [],
   "source": [
    "rush_df.drop(columns=[\"Card type\"]).groupby(\"Attribute\").nunique()"
   ]
  },
  {
   "cell_type": "code",
   "execution_count": null,
   "id": "25",
   "metadata": {
    "papermill": {
     "duration": 0.199138,
     "end_time": "2025-01-11T07:07:30.123069",
     "exception": false,
     "start_time": "2025-01-11T07:07:29.923931",
     "status": "completed"
    },
    "tags": []
   },
   "outputs": [],
   "source": [
    "attribute_colors = [plot.colors_dict[i] for i in rush_df[\"Attribute\"].value_counts().index]\n",
    "rush_df[\"Attribute\"].value_counts().plot.bar(figsize=(16, 6), rot=0, color=attribute_colors)\n",
    "plt.show()"
   ]
  },
  {
   "cell_type": "markdown",
   "id": "26",
   "metadata": {
    "papermill": {
     "duration": 0.062142,
     "end_time": "2025-01-11T07:07:30.254003",
     "exception": false,
     "start_time": "2025-01-11T07:07:30.191861",
     "status": "completed"
    },
    "tags": []
   },
   "source": [
    "### Primary type"
   ]
  },
  {
   "cell_type": "code",
   "execution_count": null,
   "id": "27",
   "metadata": {
    "papermill": {
     "duration": 0.066353,
     "end_time": "2025-01-11T07:07:30.379839",
     "exception": false,
     "start_time": "2025-01-11T07:07:30.313486",
     "status": "completed"
    },
    "tags": []
   },
   "outputs": [],
   "source": [
    "print(\"Total number of primary types:\", rush_df[\"Primary type\"].nunique())"
   ]
  },
  {
   "cell_type": "code",
   "execution_count": null,
   "id": "28",
   "metadata": {
    "papermill": {
     "duration": 0.106002,
     "end_time": "2025-01-11T07:07:30.543237",
     "exception": false,
     "start_time": "2025-01-11T07:07:30.437235",
     "status": "completed"
    },
    "tags": []
   },
   "outputs": [],
   "source": [
    "rush_df.drop(columns=[\"Card type\"]).groupby(\"Primary type\").nunique()"
   ]
  },
  {
   "cell_type": "markdown",
   "id": "29",
   "metadata": {
    "papermill": {
     "duration": 0.115563,
     "end_time": "2025-01-11T07:07:30.717537",
     "exception": false,
     "start_time": "2025-01-11T07:07:30.601974",
     "status": "completed"
    },
    "tags": []
   },
   "source": [
    "#### Has effect discrimination"
   ]
  },
  {
   "cell_type": "code",
   "execution_count": null,
   "id": "30",
   "metadata": {
    "papermill": {
     "duration": 0.107565,
     "end_time": "2025-01-11T07:07:30.920672",
     "exception": false,
     "start_time": "2025-01-11T07:07:30.813107",
     "status": "completed"
    },
    "tags": []
   },
   "outputs": [],
   "source": [
    "has_effect = rush_df[\"Primary type\"].where(rush_df[\"Effect type\"].notna()).value_counts().rename(\"Effect\")\n",
    "no_effect = rush_df[\"Primary type\"].where(rush_df[\"Effect type\"].isna()).value_counts().rename(\"No Effect\")\n",
    "effect = pd.concat([has_effect, no_effect], axis=1).fillna(0).astype(int)\n",
    "effect"
   ]
  },
  {
   "cell_type": "code",
   "execution_count": null,
   "id": "31",
   "metadata": {
    "papermill": {
     "duration": 0.293745,
     "end_time": "2025-01-11T07:07:31.273862",
     "exception": false,
     "start_time": "2025-01-11T07:07:30.980117",
     "status": "completed"
    },
    "tags": []
   },
   "outputs": [],
   "source": [
    "monster_type_colors = {\n",
    "    \"No Effect\": plot.colors_dict[\"Normal Monster\"],\n",
    "    \"Effect\": [plot.colors_dict[i] for i in effect.index],\n",
    "}\n",
    "effect.plot.bar(\n",
    "    figsize=(12, 6),\n",
    "    stacked=True,\n",
    "    rot=0,\n",
    "    legend=True,\n",
    "    color=monster_type_colors,\n",
    "    title=\"Primary types - Has effect\",\n",
    ")\n",
    "# plt.yscale('log')\n",
    "plt.show()"
   ]
  },
  {
   "cell_type": "markdown",
   "id": "32",
   "metadata": {
    "papermill": {
     "duration": 0.05657,
     "end_time": "2025-01-11T07:07:31.393299",
     "exception": false,
     "start_time": "2025-01-11T07:07:31.336729",
     "status": "completed"
    },
    "tags": []
   },
   "source": [
    "Obs: Effect monster can show as no effect if it is not released yet"
   ]
  },
  {
   "cell_type": "markdown",
   "id": "33",
   "metadata": {
    "papermill": {
     "duration": 0.060798,
     "end_time": "2025-01-11T07:07:31.515600",
     "exception": false,
     "start_time": "2025-01-11T07:07:31.454802",
     "status": "completed"
    },
    "tags": []
   },
   "source": [
    "#### By attribute"
   ]
  },
  {
   "cell_type": "code",
   "execution_count": null,
   "id": "34",
   "metadata": {
    "papermill": {
     "duration": 0.093747,
     "end_time": "2025-01-11T07:07:31.668715",
     "exception": false,
     "start_time": "2025-01-11T07:07:31.574968",
     "status": "completed"
    },
    "tags": []
   },
   "outputs": [],
   "source": [
    "primmary_crosstab = pd.crosstab(rush_df[\"Primary type\"], rush_df[\"Attribute\"])\n",
    "primmary_crosstab"
   ]
  },
  {
   "cell_type": "code",
   "execution_count": null,
   "id": "35",
   "metadata": {
    "papermill": {
     "duration": 0.538871,
     "end_time": "2025-01-11T07:07:32.267977",
     "exception": false,
     "start_time": "2025-01-11T07:07:31.729106",
     "status": "completed"
    },
    "tags": []
   },
   "outputs": [],
   "source": [
    "plt.figure(figsize=(16, 6))\n",
    "sns.heatmap(\n",
    "    primmary_crosstab,\n",
    "    annot=True,\n",
    "    fmt=\"g\",\n",
    "    cmap=\"viridis\",\n",
    "    square=True,\n",
    "    norm=plot.LogNorm(),\n",
    ")\n",
    "plt.show()"
   ]
  },
  {
   "cell_type": "markdown",
   "id": "36",
   "metadata": {
    "papermill": {
     "duration": 0.168907,
     "end_time": "2025-01-11T07:07:32.502800",
     "exception": false,
     "start_time": "2025-01-11T07:07:32.333893",
     "status": "completed"
    },
    "tags": []
   },
   "source": [
    "### Monster type"
   ]
  },
  {
   "cell_type": "code",
   "execution_count": null,
   "id": "37",
   "metadata": {
    "papermill": {
     "duration": 0.075562,
     "end_time": "2025-01-11T07:07:32.675157",
     "exception": false,
     "start_time": "2025-01-11T07:07:32.599595",
     "status": "completed"
    },
    "tags": []
   },
   "outputs": [],
   "source": [
    "print(\"Total number of monster types:\", rush_df[\"Monster type\"].nunique())"
   ]
  },
  {
   "cell_type": "code",
   "execution_count": null,
   "id": "38",
   "metadata": {
    "papermill": {
     "duration": 0.337245,
     "end_time": "2025-01-11T07:07:33.083092",
     "exception": false,
     "start_time": "2025-01-11T07:07:32.745847",
     "status": "completed"
    },
    "tags": []
   },
   "outputs": [],
   "source": [
    "rush_df.drop(columns=[\"Card type\"]).groupby(\"Monster type\").nunique()"
   ]
  },
  {
   "cell_type": "code",
   "execution_count": null,
   "id": "39",
   "metadata": {
    "papermill": {
     "duration": 0.399614,
     "end_time": "2025-01-11T07:07:33.670665",
     "exception": false,
     "start_time": "2025-01-11T07:07:33.271051",
     "status": "completed"
    },
    "tags": []
   },
   "outputs": [],
   "source": [
    "monster_type_colors = plot.colors_dict[\"Monster Card\"]\n",
    "rush_df[\"Monster type\"].value_counts().plot.bar(figsize=(18, 6), rot=60, color=monster_type_colors)\n",
    "plt.show()"
   ]
  },
  {
   "cell_type": "markdown",
   "id": "40",
   "metadata": {
    "papermill": {
     "duration": 0.157233,
     "end_time": "2025-01-11T07:07:33.899462",
     "exception": false,
     "start_time": "2025-01-11T07:07:33.742229",
     "status": "completed"
    },
    "tags": []
   },
   "source": [
    "#### By Attribute"
   ]
  },
  {
   "cell_type": "code",
   "execution_count": null,
   "id": "41",
   "metadata": {
    "papermill": {
     "duration": 0.118224,
     "end_time": "2025-01-11T07:07:34.103745",
     "exception": false,
     "start_time": "2025-01-11T07:07:33.985521",
     "status": "completed"
    },
    "tags": []
   },
   "outputs": [],
   "source": [
    "monster_crosstab = pd.crosstab(rush_df[\"Monster type\"], rush_df[\"Attribute\"], dropna=False)\n",
    "monster_crosstab"
   ]
  },
  {
   "cell_type": "code",
   "execution_count": null,
   "id": "42",
   "metadata": {
    "papermill": {
     "duration": 1.069848,
     "end_time": "2025-01-11T07:07:35.246547",
     "exception": false,
     "start_time": "2025-01-11T07:07:34.176699",
     "status": "completed"
    },
    "tags": []
   },
   "outputs": [],
   "source": [
    "plt.figure(figsize=(18, 4))\n",
    "sns.heatmap(\n",
    "    monster_crosstab[monster_crosstab > 0].T,\n",
    "    annot=True,\n",
    "    fmt=\"g\",\n",
    "    cmap=\"viridis\",\n",
    "    square=True,\n",
    "    norm=plot.LogNorm(),\n",
    ")\n",
    "plt.show()"
   ]
  },
  {
   "cell_type": "markdown",
   "id": "43",
   "metadata": {
    "papermill": {
     "duration": 0.181893,
     "end_time": "2025-01-11T07:07:35.503482",
     "exception": false,
     "start_time": "2025-01-11T07:07:35.321589",
     "status": "completed"
    },
    "tags": []
   },
   "source": [
    "#### By primary type"
   ]
  },
  {
   "cell_type": "code",
   "execution_count": null,
   "id": "44",
   "metadata": {
    "papermill": {
     "duration": 0.105568,
     "end_time": "2025-01-11T07:07:35.706872",
     "exception": false,
     "start_time": "2025-01-11T07:07:35.601304",
     "status": "completed"
    },
    "tags": []
   },
   "outputs": [],
   "source": [
    "monster_crosstab_b = pd.crosstab(rush_df[\"Monster type\"], rush_df[\"Primary type\"], dropna=False)\n",
    "monster_crosstab_b"
   ]
  },
  {
   "cell_type": "code",
   "execution_count": null,
   "id": "45",
   "metadata": {
    "papermill": {
     "duration": 0.9777,
     "end_time": "2025-01-11T07:07:36.771469",
     "exception": false,
     "start_time": "2025-01-11T07:07:35.793769",
     "status": "completed"
    },
    "tags": []
   },
   "outputs": [],
   "source": [
    "plt.figure(figsize=(18, 3))\n",
    "sns.heatmap(\n",
    "    monster_crosstab_b[monster_crosstab_b > 0].T,\n",
    "    annot=True,\n",
    "    fmt=\"g\",\n",
    "    cmap=\"viridis\",\n",
    "    square=True,\n",
    "    norm=plot.LogNorm(),\n",
    ")\n",
    "plt.show()"
   ]
  },
  {
   "cell_type": "markdown",
   "id": "46",
   "metadata": {
    "papermill": {
     "duration": 0.095211,
     "end_time": "2025-01-11T07:07:36.949007",
     "exception": false,
     "start_time": "2025-01-11T07:07:36.853796",
     "status": "completed"
    },
    "tags": []
   },
   "source": [
    "### ATK"
   ]
  },
  {
   "cell_type": "code",
   "execution_count": null,
   "id": "47",
   "metadata": {
    "papermill": {
     "duration": 0.087801,
     "end_time": "2025-01-11T07:07:37.118393",
     "exception": false,
     "start_time": "2025-01-11T07:07:37.030592",
     "status": "completed"
    },
    "tags": []
   },
   "outputs": [],
   "source": [
    "print(\"Total number of ATK values:\", rush_df[\"ATK\"].nunique())"
   ]
  },
  {
   "cell_type": "code",
   "execution_count": null,
   "id": "48",
   "metadata": {
    "papermill": {
     "duration": 0.12748,
     "end_time": "2025-01-11T07:07:37.325793",
     "exception": false,
     "start_time": "2025-01-11T07:07:37.198313",
     "status": "completed"
    },
    "tags": []
   },
   "outputs": [],
   "source": [
    "rush_df.drop(columns=[\"Card type\"]).groupby(\"ATK\").nunique().sort_index(key=lambda x: pd.to_numeric(x, errors=\"coerce\"))"
   ]
  },
  {
   "cell_type": "code",
   "execution_count": null,
   "id": "49",
   "metadata": {
    "papermill": {
     "duration": 0.421407,
     "end_time": "2025-01-11T07:07:37.831167",
     "exception": false,
     "start_time": "2025-01-11T07:07:37.409760",
     "status": "completed"
    },
    "tags": []
   },
   "outputs": [],
   "source": [
    "atk_colors = plot.colors_dict[\"Monster Card\"]\n",
    "rush_df[\"DEF\"].value_counts().sort_index(key=lambda x: pd.to_numeric(x, errors=\"coerce\")).plot.bar(\n",
    "    figsize=(18, 6), color=atk_colors\n",
    ")\n",
    "plt.show()"
   ]
  },
  {
   "cell_type": "markdown",
   "id": "50",
   "metadata": {
    "papermill": {
     "duration": 0.07879,
     "end_time": "2025-01-11T07:07:37.993766",
     "exception": false,
     "start_time": "2025-01-11T07:07:37.914976",
     "status": "completed"
    },
    "tags": []
   },
   "source": [
    "### DEF"
   ]
  },
  {
   "cell_type": "code",
   "execution_count": null,
   "id": "51",
   "metadata": {
    "papermill": {
     "duration": 0.094236,
     "end_time": "2025-01-11T07:07:38.172836",
     "exception": false,
     "start_time": "2025-01-11T07:07:38.078600",
     "status": "completed"
    },
    "tags": []
   },
   "outputs": [],
   "source": [
    "print(\"Total number of DEF values:\", rush_df[\"DEF\"].nunique())"
   ]
  },
  {
   "cell_type": "code",
   "execution_count": null,
   "id": "52",
   "metadata": {
    "papermill": {
     "duration": 0.132954,
     "end_time": "2025-01-11T07:07:38.389648",
     "exception": false,
     "start_time": "2025-01-11T07:07:38.256694",
     "status": "completed"
    },
    "tags": []
   },
   "outputs": [],
   "source": [
    "rush_df.drop(columns=[\"Card type\"]).groupby(\"DEF\").nunique().sort_index(key=lambda x: pd.to_numeric(x, errors=\"coerce\"))"
   ]
  },
  {
   "cell_type": "code",
   "execution_count": null,
   "id": "53",
   "metadata": {
    "papermill": {
     "duration": 0.439271,
     "end_time": "2025-01-11T07:07:38.913041",
     "exception": false,
     "start_time": "2025-01-11T07:07:38.473770",
     "status": "completed"
    },
    "tags": []
   },
   "outputs": [],
   "source": [
    "def_colors = plot.colors_dict[\"Monster Card\"]\n",
    "rush_df[\"DEF\"].value_counts().sort_index(key=lambda x: pd.to_numeric(x, errors=\"coerce\")).plot.bar(\n",
    "    figsize=(18, 6), color=def_colors\n",
    ")\n",
    "plt.show()"
   ]
  },
  {
   "cell_type": "markdown",
   "id": "54",
   "metadata": {
    "papermill": {
     "duration": 0.08175,
     "end_time": "2025-01-11T07:07:39.083080",
     "exception": false,
     "start_time": "2025-01-11T07:07:39.001330",
     "status": "completed"
    },
    "tags": []
   },
   "source": [
    "### Maximum mode"
   ]
  },
  {
   "cell_type": "code",
   "execution_count": null,
   "id": "55",
   "metadata": {
    "papermill": {
     "duration": 0.230535,
     "end_time": "2025-01-11T07:07:39.400785",
     "exception": false,
     "start_time": "2025-01-11T07:07:39.170250",
     "status": "completed"
    },
    "tags": []
   },
   "outputs": [],
   "source": [
    "print(\"Total cards requiring maximum mode:\", rush_df[\"Maximum mode\"].sum())"
   ]
  },
  {
   "cell_type": "code",
   "execution_count": null,
   "id": "56",
   "metadata": {
    "papermill": {
     "duration": 0.140378,
     "end_time": "2025-01-11T07:07:39.629169",
     "exception": false,
     "start_time": "2025-01-11T07:07:39.488791",
     "status": "completed"
    },
    "tags": []
   },
   "outputs": [],
   "source": [
    "rush_df[rush_df[\"Maximum mode\"]]"
   ]
  },
  {
   "cell_type": "markdown",
   "id": "57",
   "metadata": {
    "papermill": {
     "duration": 0.085753,
     "end_time": "2025-01-11T07:07:39.802568",
     "exception": false,
     "start_time": "2025-01-11T07:07:39.716815",
     "status": "completed"
    },
    "tags": []
   },
   "source": [
    "#### MAXIMUM ATK"
   ]
  },
  {
   "cell_type": "code",
   "execution_count": null,
   "id": "58",
   "metadata": {
    "papermill": {
     "duration": 0.094583,
     "end_time": "2025-01-11T07:07:39.985305",
     "exception": false,
     "start_time": "2025-01-11T07:07:39.890722",
     "status": "completed"
    },
    "tags": []
   },
   "outputs": [],
   "source": [
    "print(\"Total number of MAXIMUM ATK values:\", rush_df[\"MAXIMUM ATK\"].nunique())"
   ]
  },
  {
   "cell_type": "code",
   "execution_count": null,
   "id": "59",
   "metadata": {
    "papermill": {
     "duration": 0.238424,
     "end_time": "2025-01-11T07:07:40.312434",
     "exception": false,
     "start_time": "2025-01-11T07:07:40.074010",
     "status": "completed"
    },
    "tags": []
   },
   "outputs": [],
   "source": [
    "def_colors = plot.colors_dict[\"Monster Card\"]\n",
    "rush_df[\"MAXIMUM ATK\"].value_counts().sort_index(key=lambda x: pd.to_numeric(x, errors=\"coerce\")).plot.bar(\n",
    "    figsize=(10, 6), color=def_colors\n",
    ")\n",
    "plt.show()"
   ]
  },
  {
   "cell_type": "markdown",
   "id": "60",
   "metadata": {
    "papermill": {
     "duration": 0.08491,
     "end_time": "2025-01-11T07:07:40.487352",
     "exception": false,
     "start_time": "2025-01-11T07:07:40.402442",
     "status": "completed"
    },
    "tags": []
   },
   "source": [
    "##### By ATK"
   ]
  },
  {
   "cell_type": "code",
   "execution_count": null,
   "id": "61",
   "metadata": {
    "papermill": {
     "duration": 0.110935,
     "end_time": "2025-01-11T07:07:40.689775",
     "exception": false,
     "start_time": "2025-01-11T07:07:40.578840",
     "status": "completed"
    },
    "tags": []
   },
   "outputs": [],
   "source": [
    "max_atk_crosstab = pd.crosstab(rush_df[\"ATK\"], rush_df[\"MAXIMUM ATK\"])\n",
    "max_atk_crosstab"
   ]
  },
  {
   "cell_type": "markdown",
   "id": "62",
   "metadata": {
    "papermill": {
     "duration": 0.084722,
     "end_time": "2025-01-11T07:07:40.863851",
     "exception": false,
     "start_time": "2025-01-11T07:07:40.779129",
     "status": "completed"
    },
    "tags": []
   },
   "source": [
    "##### By DEF"
   ]
  },
  {
   "cell_type": "code",
   "execution_count": null,
   "id": "63",
   "metadata": {
    "papermill": {
     "duration": 0.140917,
     "end_time": "2025-01-11T07:07:41.096332",
     "exception": false,
     "start_time": "2025-01-11T07:07:40.955415",
     "status": "completed"
    },
    "tags": []
   },
   "outputs": [],
   "source": [
    "max_def_crosstab = pd.crosstab(rush_df[\"DEF\"], rush_df[\"MAXIMUM ATK\"])\n",
    "max_def_crosstab"
   ]
  },
  {
   "cell_type": "markdown",
   "id": "64",
   "metadata": {
    "papermill": {
     "duration": 0.08513,
     "end_time": "2025-01-11T07:07:41.279347",
     "exception": false,
     "start_time": "2025-01-11T07:07:41.194217",
     "status": "completed"
    },
    "tags": []
   },
   "source": [
    "### Level/Rank"
   ]
  },
  {
   "cell_type": "code",
   "execution_count": null,
   "id": "65",
   "metadata": {
    "papermill": {
     "duration": 0.135088,
     "end_time": "2025-01-11T07:07:41.508122",
     "exception": false,
     "start_time": "2025-01-11T07:07:41.373034",
     "status": "completed"
    },
    "tags": []
   },
   "outputs": [],
   "source": [
    "rush_df.drop(columns=[\"Card type\"]).groupby(\"Level/Rank\").nunique().sort_index(\n",
    "    key=lambda x: pd.to_numeric(x, errors=\"coerce\")\n",
    ")"
   ]
  },
  {
   "cell_type": "code",
   "execution_count": null,
   "id": "66",
   "metadata": {
    "papermill": {
     "duration": 0.268394,
     "end_time": "2025-01-11T07:07:41.866411",
     "exception": false,
     "start_time": "2025-01-11T07:07:41.598017",
     "status": "completed"
    },
    "tags": []
   },
   "outputs": [],
   "source": [
    "stars_colors = plot.colors_dict[\"Level\"]\n",
    "rush_df[\"Level/Rank\"].value_counts().sort_index(key=lambda x: pd.to_numeric(x, errors=\"coerce\")).plot.bar(\n",
    "    figsize=(16, 6), rot=0, color=stars_colors\n",
    ")\n",
    "plt.show()"
   ]
  },
  {
   "cell_type": "markdown",
   "id": "67",
   "metadata": {
    "papermill": {
     "duration": 0.175421,
     "end_time": "2025-01-11T07:07:42.135436",
     "exception": false,
     "start_time": "2025-01-11T07:07:41.960015",
     "status": "completed"
    },
    "tags": []
   },
   "source": [
    "#### ATK statistics"
   ]
  },
  {
   "cell_type": "code",
   "execution_count": null,
   "id": "68",
   "metadata": {
    "papermill": {
     "duration": 0.161778,
     "end_time": "2025-01-11T07:07:42.391411",
     "exception": false,
     "start_time": "2025-01-11T07:07:42.229633",
     "status": "completed"
    },
    "tags": []
   },
   "outputs": [],
   "source": [
    "rush_df[[\"Level/Rank\", \"ATK\"]].apply(pd.to_numeric, errors=\"coerce\").dropna().astype(int).groupby(\n",
    "    \"Level/Rank\"\n",
    ").describe().round(1)"
   ]
  },
  {
   "cell_type": "markdown",
   "id": "69",
   "metadata": {
    "papermill": {
     "duration": 0.150598,
     "end_time": "2025-01-11T07:07:42.784734",
     "exception": false,
     "start_time": "2025-01-11T07:07:42.634136",
     "status": "completed"
    },
    "tags": []
   },
   "source": [
    "#### DEF statistics"
   ]
  },
  {
   "cell_type": "code",
   "execution_count": null,
   "id": "70",
   "metadata": {
    "papermill": {
     "duration": 0.155988,
     "end_time": "2025-01-11T07:07:43.034121",
     "exception": false,
     "start_time": "2025-01-11T07:07:42.878133",
     "status": "completed"
    },
    "tags": []
   },
   "outputs": [],
   "source": [
    "rush_df[[\"Level/Rank\", \"DEF\"]].apply(pd.to_numeric, errors=\"coerce\").dropna().astype(int).groupby(\n",
    "    \"Level/Rank\"\n",
    ").describe().round(1)"
   ]
  },
  {
   "cell_type": "markdown",
   "id": "71",
   "metadata": {
    "papermill": {
     "duration": 0.204397,
     "end_time": "2025-01-11T07:07:43.373013",
     "exception": false,
     "start_time": "2025-01-11T07:07:43.168616",
     "status": "completed"
    },
    "tags": []
   },
   "source": [
    "## Spell & Trap"
   ]
  },
  {
   "cell_type": "markdown",
   "id": "72",
   "metadata": {
    "papermill": {
     "duration": 0.095281,
     "end_time": "2025-01-11T07:07:43.560100",
     "exception": false,
     "start_time": "2025-01-11T07:07:43.464819",
     "status": "completed"
    },
    "tags": []
   },
   "source": [
    "### Properties"
   ]
  },
  {
   "cell_type": "code",
   "execution_count": null,
   "id": "73",
   "metadata": {
    "papermill": {
     "duration": 0.101798,
     "end_time": "2025-01-11T07:07:43.758707",
     "exception": false,
     "start_time": "2025-01-11T07:07:43.656909",
     "status": "completed"
    },
    "tags": []
   },
   "outputs": [],
   "source": [
    "print(\"Total number of properties:\", rush_df[\"Property\"].nunique())"
   ]
  },
  {
   "cell_type": "code",
   "execution_count": null,
   "id": "74",
   "metadata": {
    "papermill": {
     "duration": 0.151781,
     "end_time": "2025-01-11T07:07:44.064666",
     "exception": false,
     "start_time": "2025-01-11T07:07:43.912885",
     "status": "completed"
    },
    "tags": []
   },
   "outputs": [],
   "source": [
    "rush_df.drop(columns=[\"Card type\"]).groupby(\"Property\").nunique()"
   ]
  },
  {
   "cell_type": "code",
   "execution_count": null,
   "id": "75",
   "metadata": {
    "papermill": {
     "duration": 0.346882,
     "end_time": "2025-01-11T07:07:44.504100",
     "exception": false,
     "start_time": "2025-01-11T07:07:44.157218",
     "status": "completed"
    },
    "tags": []
   },
   "outputs": [],
   "source": [
    "st_colors = [plot.colors_dict[i] for i in rush_df[[\"Card type\", \"Property\"]].value_counts().index.get_level_values(0)]\n",
    "rush_df[\"Property\"].value_counts().plot.bar(figsize=(10, 6), rot=0, color=st_colors)\n",
    "plt.show()"
   ]
  },
  {
   "cell_type": "markdown",
   "id": "76",
   "metadata": {
    "papermill": {
     "duration": 0.143556,
     "end_time": "2025-01-11T07:07:44.757078",
     "exception": false,
     "start_time": "2025-01-11T07:07:44.613522",
     "status": "completed"
    },
    "tags": []
   },
   "source": [
    "## Effect type"
   ]
  },
  {
   "cell_type": "code",
   "execution_count": null,
   "id": "77",
   "metadata": {
    "papermill": {
     "duration": 0.119869,
     "end_time": "2025-01-11T07:07:44.976668",
     "exception": false,
     "start_time": "2025-01-11T07:07:44.856799",
     "status": "completed"
    },
    "tags": []
   },
   "outputs": [],
   "source": [
    "print(\"Total number of effect types:\", rush_df[\"Effect type\"].explode().nunique())"
   ]
  },
  {
   "cell_type": "code",
   "execution_count": null,
   "id": "78",
   "metadata": {
    "papermill": {
     "duration": 0.214578,
     "end_time": "2025-01-11T07:07:45.527347",
     "exception": false,
     "start_time": "2025-01-11T07:07:45.312769",
     "status": "completed"
    },
    "tags": []
   },
   "outputs": [],
   "source": [
    "rush_df.explode(\"Effect type\").groupby(\"Effect type\").nunique()"
   ]
  },
  {
   "cell_type": "markdown",
   "id": "79",
   "metadata": {
    "papermill": {
     "duration": 0.091568,
     "end_time": "2025-01-11T07:07:45.716037",
     "exception": false,
     "start_time": "2025-01-11T07:07:45.624469",
     "status": "completed"
    },
    "tags": []
   },
   "source": [
    "### Card type discrimination"
   ]
  },
  {
   "cell_type": "code",
   "execution_count": null,
   "id": "80",
   "metadata": {
    "papermill": {
     "duration": 0.121827,
     "end_time": "2025-01-11T07:07:46.014571",
     "exception": false,
     "start_time": "2025-01-11T07:07:45.892744",
     "status": "completed"
    },
    "tags": []
   },
   "outputs": [],
   "source": [
    "type_diff = rush_df[[\"Card type\", \"Effect type\"]].explode(\"Effect type\").value_counts().unstack(0).fillna(0).astype(int)\n",
    "type_diff"
   ]
  },
  {
   "cell_type": "code",
   "execution_count": null,
   "id": "81",
   "metadata": {
    "papermill": {
     "duration": 0.288242,
     "end_time": "2025-01-11T07:07:46.397900",
     "exception": false,
     "start_time": "2025-01-11T07:07:46.109658",
     "status": "completed"
    },
    "tags": []
   },
   "outputs": [],
   "source": [
    "type_diff_colors = {type: plot.colors_dict[type] for type in rush_df[\"Card type\"].unique()}\n",
    "type_diff.plot.bar(figsize=(10, 6), stacked=True, rot=0, color=type_diff_colors)\n",
    "plt.show()"
   ]
  },
  {
   "cell_type": "markdown",
   "id": "82",
   "metadata": {
    "papermill": {
     "duration": 0.091811,
     "end_time": "2025-01-11T07:07:46.588474",
     "exception": false,
     "start_time": "2025-01-11T07:07:46.496663",
     "status": "completed"
    },
    "tags": []
   },
   "source": [
    "## Archseries"
   ]
  },
  {
   "cell_type": "code",
   "execution_count": null,
   "id": "83",
   "metadata": {
    "papermill": {
     "duration": 0.124589,
     "end_time": "2025-01-11T07:07:46.811995",
     "exception": false,
     "start_time": "2025-01-11T07:07:46.687406",
     "status": "completed"
    },
    "tags": []
   },
   "outputs": [],
   "source": [
    "exploded_archseries = rush_df.explode(\"Archseries\")\n",
    "print(\"Total number of Archseries:\", exploded_archseries[\"Archseries\"].nunique())"
   ]
  },
  {
   "cell_type": "code",
   "execution_count": null,
   "id": "84",
   "metadata": {
    "papermill": {
     "duration": 0.141057,
     "end_time": "2025-01-11T07:07:47.051731",
     "exception": false,
     "start_time": "2025-01-11T07:07:46.910674",
     "status": "completed"
    },
    "tags": []
   },
   "outputs": [],
   "source": [
    "exploded_archseries.groupby(\"Archseries\").nunique()"
   ]
  },
  {
   "cell_type": "code",
   "execution_count": null,
   "id": "85",
   "metadata": {
    "papermill": {
     "duration": 0.468243,
     "end_time": "2025-01-11T07:07:47.618630",
     "exception": false,
     "start_time": "2025-01-11T07:07:47.150387",
     "status": "completed"
    },
    "tags": []
   },
   "outputs": [],
   "source": [
    "exploded_archseries[\"Archseries\"].value_counts().head(30).plot.barh(figsize=(10, 15), title=\"Top 30 Archtypes/Series\")\n",
    "plt.show()"
   ]
  },
  {
   "cell_type": "markdown",
   "id": "86",
   "metadata": {
    "papermill": {
     "duration": 0.097598,
     "end_time": "2025-01-11T07:07:47.819377",
     "exception": false,
     "start_time": "2025-01-11T07:07:47.721779",
     "status": "completed"
    },
    "tags": []
   },
   "source": [
    "### By card type"
   ]
  },
  {
   "cell_type": "code",
   "execution_count": null,
   "id": "87",
   "metadata": {
    "papermill": {
     "duration": 0.155549,
     "end_time": "2025-01-11T07:07:48.077069",
     "exception": false,
     "start_time": "2025-01-11T07:07:47.921520",
     "status": "completed"
    },
    "tags": []
   },
   "outputs": [],
   "source": [
    "archseries_crosstab = pd.crosstab(exploded_archseries[\"Archseries\"], exploded_archseries[\"Card type\"], margins=True)\n",
    "archseries_crosstab"
   ]
  },
  {
   "cell_type": "markdown",
   "id": "88",
   "metadata": {
    "papermill": {
     "duration": 0.097569,
     "end_time": "2025-01-11T07:07:48.276818",
     "exception": false,
     "start_time": "2025-01-11T07:07:48.179249",
     "status": "completed"
    },
    "tags": []
   },
   "source": [
    "### By primary type"
   ]
  },
  {
   "cell_type": "code",
   "execution_count": null,
   "id": "89",
   "metadata": {
    "papermill": {
     "duration": 0.151975,
     "end_time": "2025-01-11T07:07:48.533730",
     "exception": false,
     "start_time": "2025-01-11T07:07:48.381755",
     "status": "completed"
    },
    "tags": []
   },
   "outputs": [],
   "source": [
    "archseries_crosstab_b = pd.crosstab(exploded_archseries[\"Archseries\"], exploded_archseries[\"Primary type\"], margins=True)\n",
    "archseries_crosstab_b"
   ]
  },
  {
   "cell_type": "markdown",
   "id": "90",
   "metadata": {
    "papermill": {
     "duration": 0.096654,
     "end_time": "2025-01-11T07:07:48.737222",
     "exception": false,
     "start_time": "2025-01-11T07:07:48.640568",
     "status": "completed"
    },
    "tags": []
   },
   "source": [
    "### By monster type"
   ]
  },
  {
   "cell_type": "code",
   "execution_count": null,
   "id": "91",
   "metadata": {
    "papermill": {
     "duration": 0.187125,
     "end_time": "2025-01-11T07:07:49.028944",
     "exception": false,
     "start_time": "2025-01-11T07:07:48.841819",
     "status": "completed"
    },
    "tags": []
   },
   "outputs": [],
   "source": [
    "archseries_crosstab_d = pd.crosstab(exploded_archseries[\"Archseries\"], exploded_archseries[\"Monster type\"], margins=True)\n",
    "archseries_crosstab_d"
   ]
  },
  {
   "cell_type": "markdown",
   "id": "92",
   "metadata": {
    "papermill": {
     "duration": 0.098813,
     "end_time": "2025-01-11T07:07:49.230429",
     "exception": false,
     "start_time": "2025-01-11T07:07:49.131616",
     "status": "completed"
    },
    "tags": []
   },
   "source": [
    "### By property"
   ]
  },
  {
   "cell_type": "code",
   "execution_count": null,
   "id": "93",
   "metadata": {
    "papermill": {
     "duration": 0.1507,
     "end_time": "2025-01-11T07:07:49.484937",
     "exception": false,
     "start_time": "2025-01-11T07:07:49.334237",
     "status": "completed"
    },
    "tags": []
   },
   "outputs": [],
   "source": [
    "archseries_crosstab_e = pd.crosstab(exploded_archseries[\"Archseries\"], exploded_archseries[\"Property\"], margins=True)\n",
    "archseries_crosstab_e"
   ]
  },
  {
   "cell_type": "markdown",
   "id": "94",
   "metadata": {
    "papermill": {
     "duration": 0.100005,
     "end_time": "2025-01-11T07:07:49.688663",
     "exception": false,
     "start_time": "2025-01-11T07:07:49.588658",
     "status": "completed"
    },
    "tags": []
   },
   "source": [
    "## Legend"
   ]
  },
  {
   "cell_type": "code",
   "execution_count": null,
   "id": "95",
   "metadata": {
    "papermill": {
     "duration": 0.113037,
     "end_time": "2025-01-11T07:07:49.909328",
     "exception": false,
     "start_time": "2025-01-11T07:07:49.796291",
     "status": "completed"
    },
    "tags": []
   },
   "outputs": [],
   "source": [
    "print(\"Total number of Legend cards\", rush_df[\"Legend\"].sum())"
   ]
  },
  {
   "cell_type": "code",
   "execution_count": null,
   "id": "96",
   "metadata": {
    "papermill": {
     "duration": 0.17451,
     "end_time": "2025-01-11T07:07:50.189228",
     "exception": false,
     "start_time": "2025-01-11T07:07:50.014718",
     "status": "completed"
    },
    "tags": []
   },
   "outputs": [],
   "source": [
    "rush_df[rush_df[\"Legend\"]]"
   ]
  },
  {
   "cell_type": "markdown",
   "id": "97",
   "metadata": {
    "papermill": {
     "duration": 0.106428,
     "end_time": "2025-01-11T07:07:50.401858",
     "exception": false,
     "start_time": "2025-01-11T07:07:50.295430",
     "status": "completed"
    },
    "tags": []
   },
   "source": [
    "#### By card type"
   ]
  },
  {
   "cell_type": "code",
   "execution_count": null,
   "id": "98",
   "metadata": {
    "papermill": {
     "duration": 0.238036,
     "end_time": "2025-01-11T07:07:50.748110",
     "exception": false,
     "start_time": "2025-01-11T07:07:50.510074",
     "status": "completed"
    },
    "tags": []
   },
   "outputs": [],
   "source": [
    "card_type_colors = [plot.colors_dict[i] for i in rush_df[rush_df[\"Legend\"]][\"Card type\"].value_counts().index]\n",
    "rush_df[rush_df[\"Legend\"]][\"Card type\"].value_counts().plot.bar(figsize=(10, 6), rot=0, color=card_type_colors)\n",
    "plt.show()"
   ]
  },
  {
   "cell_type": "markdown",
   "id": "99",
   "metadata": {
    "papermill": {
     "duration": 0.101035,
     "end_time": "2025-01-11T07:07:50.958444",
     "exception": false,
     "start_time": "2025-01-11T07:07:50.857409",
     "status": "completed"
    },
    "tags": []
   },
   "source": [
    "#### By Attribute"
   ]
  },
  {
   "cell_type": "code",
   "execution_count": null,
   "id": "100",
   "metadata": {
    "papermill": {
     "duration": 0.611647,
     "end_time": "2025-01-11T07:07:51.695928",
     "exception": false,
     "start_time": "2025-01-11T07:07:51.084281",
     "status": "completed"
    },
    "tags": []
   },
   "outputs": [],
   "source": [
    "attribute_colors = [plot.colors_dict[i] for i in rush_df[rush_df[\"Legend\"]][\"Attribute\"].value_counts().index]\n",
    "rush_df[rush_df[\"Legend\"]][\"Attribute\"].value_counts().plot.bar(figsize=(12, 6), rot=0, color=attribute_colors)\n",
    "plt.show()"
   ]
  },
  {
   "cell_type": "markdown",
   "id": "101",
   "metadata": {
    "papermill": {
     "duration": 0.192757,
     "end_time": "2025-01-11T07:07:51.995496",
     "exception": false,
     "start_time": "2025-01-11T07:07:51.802739",
     "status": "completed"
    },
    "tags": []
   },
   "source": [
    "#### By primary type"
   ]
  },
  {
   "cell_type": "code",
   "execution_count": null,
   "id": "102",
   "metadata": {
    "papermill": {
     "duration": 0.247443,
     "end_time": "2025-01-11T07:07:52.352829",
     "exception": false,
     "start_time": "2025-01-11T07:07:52.105386",
     "status": "completed"
    },
    "tags": []
   },
   "outputs": [],
   "source": [
    "monster_type_colors = [plot.colors_dict[i] for i in rush_df[rush_df[\"Legend\"]][\"Primary type\"].value_counts().index]\n",
    "rush_df[rush_df[\"Legend\"]][\"Primary type\"].value_counts().plot.bar(\n",
    "    figsize=(10, 6),\n",
    "    stacked=True,\n",
    "    rot=0,\n",
    "    legend=True,\n",
    "    color=monster_type_colors,\n",
    ")\n",
    "# plt.yscale('log')\n",
    "plt.show()"
   ]
  },
  {
   "cell_type": "markdown",
   "id": "103",
   "metadata": {
    "papermill": {
     "duration": 0.104585,
     "end_time": "2025-01-11T07:07:52.567973",
     "exception": false,
     "start_time": "2025-01-11T07:07:52.463388",
     "status": "completed"
    },
    "tags": []
   },
   "source": [
    "#### By monster type"
   ]
  },
  {
   "cell_type": "code",
   "execution_count": null,
   "id": "104",
   "metadata": {
    "papermill": {
     "duration": 0.337411,
     "end_time": "2025-01-11T07:07:53.011008",
     "exception": false,
     "start_time": "2025-01-11T07:07:52.673597",
     "status": "completed"
    },
    "tags": []
   },
   "outputs": [],
   "source": [
    "monster_type_colors = plot.colors_dict[\"Monster Card\"]\n",
    "rush_df[rush_df[\"Legend\"]][\"Monster type\"].value_counts().plot.bar(figsize=(16, 6), rot=90, color=monster_type_colors)\n",
    "plt.show()"
   ]
  },
  {
   "cell_type": "markdown",
   "id": "105",
   "metadata": {
    "papermill": {
     "duration": 0.104706,
     "end_time": "2025-01-11T07:07:53.226927",
     "exception": false,
     "start_time": "2025-01-11T07:07:53.122221",
     "status": "completed"
    },
    "tags": []
   },
   "source": [
    "## Artworks"
   ]
  },
  {
   "cell_type": "code",
   "execution_count": null,
   "id": "106",
   "metadata": {
    "papermill": {
     "duration": 0.117418,
     "end_time": "2025-01-11T07:07:53.454575",
     "exception": false,
     "start_time": "2025-01-11T07:07:53.337157",
     "status": "completed"
    },
    "tags": []
   },
   "outputs": [],
   "source": [
    "print(\n",
    "    \"Total number of cards with edited or alternate artworks:\",\n",
    "    rush_df[\"Artwork\"].count(),\n",
    ")"
   ]
  },
  {
   "cell_type": "code",
   "execution_count": null,
   "id": "107",
   "metadata": {
    "papermill": {
     "duration": 0.144099,
     "end_time": "2025-01-11T07:07:53.899837",
     "exception": false,
     "start_time": "2025-01-11T07:07:53.755738",
     "status": "completed"
    },
    "tags": []
   },
   "outputs": [],
   "source": [
    "rush_df[[\"Name\", \"Artwork\"]].dropna()"
   ]
  },
  {
   "cell_type": "code",
   "execution_count": null,
   "id": "108",
   "metadata": {
    "papermill": {
     "duration": 0.220044,
     "end_time": "2025-01-11T07:07:54.314053",
     "exception": false,
     "start_time": "2025-01-11T07:07:54.094009",
     "status": "completed"
    },
    "tags": []
   },
   "outputs": [],
   "source": [
    "artwork_value_counts = rush_df[\"Artwork\"].value_counts()\n",
    "plt.figure(figsize=(20, 8))\n",
    "plt.title(\"Artworks\")\n",
    "plot.venn2(\n",
    "    subsets=(\n",
    "        artwork_value_counts[(\"Alternate\",)],\n",
    "        artwork_value_counts[(\"Edited\",)],\n",
    "        artwork_value_counts[(\"Alternate\", \"Edited\")],\n",
    "    ),\n",
    "    set_labels=(\"Alternate artwork\", \"Edited artwork\"),\n",
    ")\n",
    "plt.show()"
   ]
  },
  {
   "cell_type": "markdown",
   "id": "109",
   "metadata": {
    "papermill": {
     "duration": 0.185759,
     "end_time": "2025-01-11T07:07:54.645750",
     "exception": false,
     "start_time": "2025-01-11T07:07:54.459991",
     "status": "completed"
    },
    "tags": []
   },
   "source": [
    "### By card type"
   ]
  },
  {
   "cell_type": "code",
   "execution_count": null,
   "id": "110",
   "metadata": {
    "papermill": {
     "duration": 0.157002,
     "end_time": "2025-01-11T07:07:54.916690",
     "exception": false,
     "start_time": "2025-01-11T07:07:54.759688",
     "status": "completed"
    },
    "tags": []
   },
   "outputs": [],
   "source": [
    "artwork_crosstab = pd.crosstab(rush_df[\"Artwork\"], rush_df[\"Card type\"])\n",
    "artwork_crosstab"
   ]
  },
  {
   "cell_type": "markdown",
   "id": "111",
   "metadata": {
    "papermill": {
     "duration": 0.226996,
     "end_time": "2025-01-11T07:07:55.277175",
     "exception": false,
     "start_time": "2025-01-11T07:07:55.050179",
     "status": "completed"
    },
    "tags": []
   },
   "source": [
    "### By primary type"
   ]
  },
  {
   "cell_type": "code",
   "execution_count": null,
   "id": "112",
   "metadata": {
    "papermill": {
     "duration": 0.15741,
     "end_time": "2025-01-11T07:07:55.546292",
     "exception": false,
     "start_time": "2025-01-11T07:07:55.388882",
     "status": "completed"
    },
    "tags": []
   },
   "outputs": [],
   "source": [
    "artwork_crosstab_b = pd.crosstab(rush_df[\"Artwork\"], rush_df[\"Primary type\"])\n",
    "artwork_crosstab_b"
   ]
  },
  {
   "cell_type": "markdown",
   "id": "113",
   "metadata": {
    "papermill": {
     "duration": 0.10819,
     "end_time": "2025-01-11T07:07:55.769077",
     "exception": false,
     "start_time": "2025-01-11T07:07:55.660887",
     "status": "completed"
    },
    "tags": []
   },
   "source": [
    "More granularity is unnecessary"
   ]
  },
  {
   "cell_type": "markdown",
   "id": "114",
   "metadata": {
    "papermill": {
     "duration": 0.106611,
     "end_time": "2025-01-11T07:07:56.015269",
     "exception": false,
     "start_time": "2025-01-11T07:07:55.908658",
     "status": "completed"
    },
    "tags": []
   },
   "source": [
    "## Errata"
   ]
  },
  {
   "cell_type": "code",
   "execution_count": null,
   "id": "115",
   "metadata": {
    "papermill": {
     "duration": 0.121272,
     "end_time": "2025-01-11T07:07:56.248380",
     "exception": false,
     "start_time": "2025-01-11T07:07:56.127108",
     "status": "completed"
    },
    "tags": []
   },
   "outputs": [],
   "source": [
    "print(\"Total number of cards with errata:\", rush_df[\"Errata\"].count())"
   ]
  },
  {
   "cell_type": "code",
   "execution_count": null,
   "id": "116",
   "metadata": {
    "papermill": {
     "duration": 0.178247,
     "end_time": "2025-01-11T07:07:56.538391",
     "exception": false,
     "start_time": "2025-01-11T07:07:56.360144",
     "status": "completed"
    },
    "tags": []
   },
   "outputs": [],
   "source": [
    "rush_df[[\"Name\", \"Errata\"]].dropna()"
   ]
  },
  {
   "cell_type": "markdown",
   "id": "117",
   "metadata": {
    "papermill": {
     "duration": 0.116875,
     "end_time": "2025-01-11T07:07:56.774913",
     "exception": false,
     "start_time": "2025-01-11T07:07:56.658038",
     "status": "completed"
    },
    "tags": []
   },
   "source": [
    "### By card type"
   ]
  },
  {
   "cell_type": "code",
   "execution_count": null,
   "id": "118",
   "metadata": {
    "papermill": {
     "duration": 0.256767,
     "end_time": "2025-01-11T07:07:57.148290",
     "exception": false,
     "start_time": "2025-01-11T07:07:56.891523",
     "status": "completed"
    },
    "tags": []
   },
   "outputs": [],
   "source": [
    "errata_crosstab = pd.crosstab(rush_df[\"Errata\"], rush_df[\"Card type\"])\n",
    "errata_crosstab"
   ]
  },
  {
   "cell_type": "markdown",
   "id": "119",
   "metadata": {
    "papermill": {
     "duration": 0.123452,
     "end_time": "2025-01-11T07:07:57.386050",
     "exception": false,
     "start_time": "2025-01-11T07:07:57.262598",
     "status": "completed"
    },
    "tags": []
   },
   "source": [
    "### By primary type"
   ]
  },
  {
   "cell_type": "code",
   "execution_count": null,
   "id": "120",
   "metadata": {
    "papermill": {
     "duration": 0.13813,
     "end_time": "2025-01-11T07:07:57.638850",
     "exception": false,
     "start_time": "2025-01-11T07:07:57.500720",
     "status": "completed"
    },
    "tags": []
   },
   "outputs": [],
   "source": [
    "errata_crosstab_b = pd.crosstab(rush_df[\"Errata\"], rush_df[\"Primary type\"])\n",
    "errata_crosstab_b"
   ]
  },
  {
   "cell_type": "markdown",
   "id": "121",
   "metadata": {
    "papermill": {
     "duration": 0.109712,
     "end_time": "2025-01-11T07:07:57.863641",
     "exception": false,
     "start_time": "2025-01-11T07:07:57.753929",
     "status": "completed"
    },
    "tags": []
   },
   "source": [
    "### By artwork"
   ]
  },
  {
   "cell_type": "code",
   "execution_count": null,
   "id": "122",
   "metadata": {
    "papermill": {
     "duration": 0.13563,
     "end_time": "2025-01-11T07:07:58.113223",
     "exception": false,
     "start_time": "2025-01-11T07:07:57.977593",
     "status": "completed"
    },
    "tags": []
   },
   "outputs": [],
   "source": [
    "errata_crosstab_c = pd.crosstab(rush_df[\"Artwork\"], rush_df[\"Errata\"])\n",
    "errata_crosstab_c"
   ]
  },
  {
   "cell_type": "markdown",
   "id": "123",
   "metadata": {
    "papermill": {
     "duration": 0.111075,
     "end_time": "2025-01-11T07:07:58.339017",
     "exception": false,
     "start_time": "2025-01-11T07:07:58.227942",
     "status": "completed"
    },
    "tags": []
   },
   "source": [
    "More granularity is unnecessary"
   ]
  },
  {
   "cell_type": "markdown",
   "id": "124",
   "metadata": {
    "papermill": {
     "duration": 0.111547,
     "end_time": "2025-01-11T07:07:58.564357",
     "exception": false,
     "start_time": "2025-01-11T07:07:58.452810",
     "status": "completed"
    },
    "tags": []
   },
   "source": [
    "# Epilogue"
   ]
  },
  {
   "cell_type": "code",
   "execution_count": null,
   "id": "125",
   "metadata": {
    "papermill": {
     "duration": 0.150323,
     "end_time": "2025-01-11T07:07:58.838713",
     "exception": false,
     "start_time": "2025-01-11T07:07:58.688390",
     "status": "completed"
    },
    "tags": []
   },
   "outputs": [],
   "source": [
    "benchmark(report=\"rush\", timestamp=timestamp)"
   ]
  },
  {
   "cell_type": "code",
   "execution_count": null,
   "id": "126",
   "metadata": {
    "papermill": {
     "duration": 0.122203,
     "end_time": "2025-01-11T07:07:59.075198",
     "exception": false,
     "start_time": "2025-01-11T07:07:58.952995",
     "status": "completed"
    },
    "tags": []
   },
   "outputs": [],
   "source": [
    "footer(timestamp)"
   ]
  },
  {
   "cell_type": "markdown",
   "id": "127",
   "metadata": {
    "papermill": {
     "duration": 0.231301,
     "end_time": "2025-01-11T07:07:59.421625",
     "exception": false,
     "start_time": "2025-01-11T07:07:59.190324",
     "status": "completed"
    },
    "tags": []
   },
   "source": [
    "## HTML export"
   ]
  },
  {
   "cell_type": "code",
   "execution_count": null,
   "id": "128",
   "metadata": {
    "papermill": {
     "duration": 0.123703,
     "end_time": "2025-01-11T07:07:59.661622",
     "exception": false,
     "start_time": "2025-01-11T07:07:59.537919",
     "status": "completed"
    },
    "tags": []
   },
   "outputs": [],
   "source": [
    "# Save notebook on disck before generating HTML report\n",
    "save_notebook()"
   ]
  },
  {
   "cell_type": "code",
   "execution_count": null,
   "id": "129",
   "metadata": {
    "papermill": {
     "duration": 1.949515,
     "end_time": "2025-01-11T07:08:01.727873",
     "exception": false,
     "start_time": "2025-01-11T07:07:59.778358",
     "status": "completed"
    },
    "tags": []
   },
   "outputs": [],
   "source": [
    "export_notebook(dirs.NOTEBOOKS.user / \"Rush.ipynb\")"
   ]
  },
  {
   "cell_type": "markdown",
   "id": "130",
   "metadata": {
    "papermill": {
     "duration": 0.109921,
     "end_time": "2025-01-11T07:08:01.953470",
     "exception": false,
     "start_time": "2025-01-11T07:08:01.843549",
     "status": "completed"
    },
    "tags": [
     "exclude"
    ]
   },
   "source": [
    "## Git"
   ]
  },
  {
   "cell_type": "code",
   "execution_count": null,
   "id": "131",
   "metadata": {
    "papermill": {
     "duration": null,
     "end_time": null,
     "exception": false,
     "start_time": "2025-01-11T07:08:02.066307",
     "status": "running"
    },
    "tags": [
     "exclude"
    ]
   },
   "outputs": [],
   "source": [
    "git.commit(\"*[Rr]ush*\", f\"Rush duel update - {timestamp.isoformat()}\")"
   ]
  }
 ],
 "metadata": {
  "kernelspec": {
   "display_name": "Python3 (YugiQuery)",
   "language": "python",
   "name": "yugiquery"
  },
  "language_info": {
   "codemirror_mode": {
    "name": "ipython",
    "version": 3
   },
   "file_extension": ".py",
   "mimetype": "text/x-python",
   "name": "python",
   "nbconvert_exporter": "python",
   "pygments_lexer": "ipython3",
   "version": "3.11.6"
  },
  "papermill": {
   "default_parameters": {},
   "duration": null,
   "end_time": null,
   "environment_variables": {},
   "exception": null,
   "input_path": "/home/jovyan/yugiquery/notebooks/Rush.ipynb",
   "output_path": "/home/jovyan/yugiquery/notebooks/Rush.ipynb",
   "parameters": {},
   "start_time": "2025-01-11T07:07:00.605518",
   "version": "2.6.0"
  },
  "toc": {
   "base_numbering": 1,
   "nav_menu": {},
   "number_sections": true,
   "sideBar": true,
   "skip_h1_title": false,
   "title_cell": "Table of Contents",
   "title_sidebar": "Contents",
   "toc_cell": true,
   "toc_position": {},
   "toc_section_display": true,
   "toc_window_display": false
  }
 },
 "nbformat": 4,
 "nbformat_minor": 5
}
