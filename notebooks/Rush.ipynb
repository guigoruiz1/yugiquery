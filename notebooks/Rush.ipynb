{
 "cells": [
  {
   "cell_type": "code",
   "execution_count": null,
   "id": "0",
   "metadata": {
    "papermill": {
     "duration": 58.388972,
     "end_time": "2024-12-28T07:14:28.342467",
     "exception": false,
     "start_time": "2024-12-28T07:13:29.953495",
     "status": "completed"
    },
    "tags": []
   },
   "outputs": [],
   "source": [
    "from yugiquery import *\n",
    "\n",
    "init_notebook_mode(all_interactive=True)\n",
    "\n",
    "header(\"Rush Duel\")"
   ]
  },
  {
   "cell_type": "markdown",
   "id": "1",
   "metadata": {
    "papermill": {
     "duration": 0.072843,
     "end_time": "2024-12-28T07:14:28.467926",
     "exception": false,
     "start_time": "2024-12-28T07:14:28.395083",
     "status": "completed"
    },
    "tags": []
   },
   "source": [
    "---"
   ]
  },
  {
   "cell_type": "markdown",
   "id": "2",
   "metadata": {
    "papermill": {
     "duration": 0.252019,
     "end_time": "2024-12-28T07:14:28.848595",
     "exception": false,
     "start_time": "2024-12-28T07:14:28.596576",
     "status": "completed"
    },
    "tags": []
   },
   "source": [
    "Table of Contents <a class=\"jp-toc-ignore\"></a>\n",
    "=================\n",
    "* [1 Data aquisition](#data-aquisition)\n",
    "  * [1.1 Fetch online data](#fetch-online-data)\n",
    "  * [1.2 Merge data](#merge-data)\n",
    "* [2 Check changes](#check-changes)\n",
    "  * [2.1 Load previous data](#load-previous-data)\n",
    "  * [2.2 Generate changelog](#generate-changelog)\n",
    "  * [2.3 Save data](#save-data)\n",
    "* [3 Data visualization](#data-visualization)\n",
    "  * [3.1 Card type](#card-type)\n",
    "  * [3.2 Monsters](#monsters)\n",
    "    * [3.2.1 Attribute](#attribute)\n",
    "    * [3.2.2 Primary type](#primary-type)\n",
    "      * [3.2.2.1 Has effect discrimination](#has-effect-discrimination)\n",
    "      * [3.2.2.2 By attribute](#by-attribute)\n",
    "    * [3.2.3 Monster type](#monster-type)\n",
    "      * [3.2.3.1 By Attribute](#by-attribute)\n",
    "      * [3.2.3.2 By primary type](#by-primary-type)\n",
    "    * [3.2.4 ATK](#atk)\n",
    "    * [3.2.5 DEF](#def)\n",
    "    * [3.2.6 Maximum mode](#maximum-mode)\n",
    "      * [3.2.6.1 MAXIMUM ATK](#maximum-atk)\n",
    "        * [3.2.6.1.1 By ATK](#by-atk)\n",
    "        * [3.2.6.1.2 By DEF](#by-def)\n",
    "    * [3.2.7 Level/Rank](#level/rank)\n",
    "      * [3.2.7.1 ATK statistics](#atk-statistics)\n",
    "      * [3.2.7.2 DEF statistics](#def-statistics)\n",
    "  * [3.3 Spell & Trap](#spell-&-trap)\n",
    "    * [3.3.1 Properties](#properties)\n",
    "  * [3.4 Effect type](#effect-type)\n",
    "    * [3.4.1 Card type discrimination](#card-type-discrimination)\n",
    "  * [3.5 Archseries](#archseries)\n",
    "    * [3.5.1 By card type](#by-card-type)\n",
    "    * [3.5.2 By primary type](#by-primary-type)\n",
    "    * [3.5.3 By monster type](#by-monster-type)\n",
    "    * [3.5.4 By property](#by-property)\n",
    "  * [3.6 Legend](#legend)\n",
    "      * [3.6.0.1 By card type](#by-card-type)\n",
    "      * [3.6.0.2 By Attribute](#by-attribute)\n",
    "      * [3.6.0.3 By primary type](#by-primary-type)\n",
    "      * [3.6.0.4 By monster type](#by-monster-type)\n",
    "  * [3.7 Artworks](#artworks)\n",
    "    * [3.7.1 By card type](#by-card-type)\n",
    "    * [3.7.2 By primary type](#by-primary-type)\n",
    "  * [3.8 Errata](#errata)\n",
    "    * [3.8.1 By card type](#by-card-type)\n",
    "    * [3.8.2 By primary type](#by-primary-type)\n",
    "    * [3.8.3 By artwork](#by-artwork)\n",
    "* [4 Epilogue](#epilogue)\n",
    "  * [4.1 HTML export](#html-export)\n",
    "  <!-- * [4.2 Git](#git) -->"
   ]
  },
  {
   "cell_type": "markdown",
   "id": "3",
   "metadata": {
    "papermill": {
     "duration": 0.158828,
     "end_time": "2024-12-28T07:14:29.367074",
     "exception": false,
     "start_time": "2024-12-28T07:14:29.208246",
     "status": "completed"
    },
    "tags": []
   },
   "source": [
    "# Data aquisition"
   ]
  },
  {
   "cell_type": "markdown",
   "id": "4",
   "metadata": {
    "papermill": {
     "duration": 0.218512,
     "end_time": "2024-12-28T07:14:29.761184",
     "exception": false,
     "start_time": "2024-12-28T07:14:29.542672",
     "status": "completed"
    },
    "tags": []
   },
   "source": [
    "## Fetch online data"
   ]
  },
  {
   "cell_type": "code",
   "execution_count": null,
   "id": "5",
   "metadata": {
    "papermill": {
     "duration": 0.301299,
     "end_time": "2024-12-28T07:14:30.286047",
     "exception": false,
     "start_time": "2024-12-28T07:14:29.984748",
     "status": "completed"
    },
    "tags": []
   },
   "outputs": [],
   "source": [
    "# Timestamp\n",
    "timestamp = arrow.utcnow()"
   ]
  },
  {
   "cell_type": "code",
   "execution_count": null,
   "id": "6",
   "metadata": {
    "papermill": {
     "duration": 20.878498,
     "end_time": "2024-12-28T07:14:51.555324",
     "exception": false,
     "start_time": "2024-12-28T07:14:30.676826",
     "status": "completed"
    },
    "tags": []
   },
   "outputs": [],
   "source": [
    "# Fetch rush cards\n",
    "rush_df = fetch_rush()\n",
    "\n",
    "# Fetch errata\n",
    "errata_df = fetch_errata()"
   ]
  },
  {
   "cell_type": "markdown",
   "id": "7",
   "metadata": {
    "papermill": {
     "duration": 0.090016,
     "end_time": "2024-12-28T07:14:51.696706",
     "exception": false,
     "start_time": "2024-12-28T07:14:51.606690",
     "status": "completed"
    },
    "tags": []
   },
   "source": [
    "## Merge data"
   ]
  },
  {
   "cell_type": "code",
   "execution_count": null,
   "id": "8",
   "metadata": {
    "papermill": {
     "duration": 1.173616,
     "end_time": "2024-12-28T07:14:53.011232",
     "exception": false,
     "start_time": "2024-12-28T07:14:51.837616",
     "status": "completed"
    },
    "tags": []
   },
   "outputs": [],
   "source": [
    "rush_df = merge_errata(rush_df, errata_df)\n",
    "print(\"Data merged\")"
   ]
  },
  {
   "cell_type": "markdown",
   "id": "9",
   "metadata": {
    "papermill": {
     "duration": 0.083464,
     "end_time": "2024-12-28T07:14:53.149960",
     "exception": false,
     "start_time": "2024-12-28T07:14:53.066496",
     "status": "completed"
    },
    "tags": []
   },
   "source": [
    "# Check changes"
   ]
  },
  {
   "cell_type": "markdown",
   "id": "10",
   "metadata": {
    "papermill": {
     "duration": 0.214511,
     "end_time": "2024-12-28T07:14:53.443584",
     "exception": false,
     "start_time": "2024-12-28T07:14:53.229073",
     "status": "completed"
    },
    "tags": []
   },
   "source": [
    "## Load previous data"
   ]
  },
  {
   "cell_type": "code",
   "execution_count": null,
   "id": "11",
   "metadata": {
    "papermill": {
     "duration": 0.51882,
     "end_time": "2024-12-28T07:14:54.193961",
     "exception": false,
     "start_time": "2024-12-28T07:14:53.675141",
     "status": "completed"
    },
    "tags": []
   },
   "outputs": [],
   "source": [
    "# Get latest file if exist\n",
    "tuple_cols = [\n",
    "    \"Effect type\",\n",
    "    \"Archseries\",\n",
    "    \"Artwork\",\n",
    "    \"Errata\",\n",
    "    \"Legend\",\n",
    "    \"Maximum mode\",\n",
    "]\n",
    "previous_df, previous_ts = load_latest_data(\"rush\", tuple_cols)\n",
    "\n",
    "if previous_df is not None:\n",
    "    previous_df = previous_df.astype(rush_df[previous_df.columns.intersection(rush_df.columns)].dtypes.to_dict())"
   ]
  },
  {
   "cell_type": "markdown",
   "id": "12",
   "metadata": {
    "papermill": {
     "duration": 0.073318,
     "end_time": "2024-12-28T07:14:54.331093",
     "exception": false,
     "start_time": "2024-12-28T07:14:54.257775",
     "status": "completed"
    },
    "tags": []
   },
   "source": [
    "## Generate changelog"
   ]
  },
  {
   "cell_type": "code",
   "execution_count": null,
   "id": "13",
   "metadata": {
    "papermill": {
     "duration": 1.01099,
     "end_time": "2024-12-28T07:14:55.518243",
     "exception": false,
     "start_time": "2024-12-28T07:14:54.507253",
     "status": "completed"
    },
    "tags": []
   },
   "outputs": [],
   "source": [
    "if previous_df is None:\n",
    "    changelog = None\n",
    "    print(\"Skipped\")\n",
    "else:\n",
    "    changelog = generate_changelog(previous_df, rush_df, col=\"Name\")\n",
    "    if not changelog.empty:\n",
    "        display(changelog)\n",
    "        changelog.to_csv(\n",
    "            dirs.DATA / make_filename(report=\"rush\", timestamp=timestamp, previous_timestamp=previous_ts),\n",
    "            index=True,\n",
    "        )\n",
    "        print(\"Changelog saved\")"
   ]
  },
  {
   "cell_type": "markdown",
   "id": "14",
   "metadata": {
    "papermill": {
     "duration": 0.07621,
     "end_time": "2024-12-28T07:14:55.710382",
     "exception": false,
     "start_time": "2024-12-28T07:14:55.634172",
     "status": "completed"
    },
    "tags": []
   },
   "source": [
    "## Save data"
   ]
  },
  {
   "cell_type": "code",
   "execution_count": null,
   "id": "15",
   "metadata": {
    "papermill": {
     "duration": 0.167376,
     "end_time": "2024-12-28T07:14:56.100181",
     "exception": false,
     "start_time": "2024-12-28T07:14:55.932805",
     "status": "completed"
    },
    "tags": []
   },
   "outputs": [],
   "source": [
    "if changelog is not None and changelog.empty:\n",
    "    print(\"No changes. New data not saved\")\n",
    "else:\n",
    "    rush_df.to_csv(\n",
    "        dirs.DATA / make_filename(report=\"rush\", timestamp=timestamp),\n",
    "        index=False,\n",
    "    )\n",
    "    print(\"Data saved\")"
   ]
  },
  {
   "cell_type": "markdown",
   "id": "16",
   "metadata": {
    "papermill": {
     "duration": 0.478747,
     "end_time": "2024-12-28T07:14:56.632113",
     "exception": false,
     "start_time": "2024-12-28T07:14:56.153366",
     "status": "completed"
    },
    "tags": []
   },
   "source": [
    "# Data visualization"
   ]
  },
  {
   "cell_type": "code",
   "execution_count": null,
   "id": "17",
   "metadata": {
    "papermill": {
     "duration": 0.223507,
     "end_time": "2024-12-28T07:14:57.072059",
     "exception": false,
     "start_time": "2024-12-28T07:14:56.848552",
     "status": "completed"
    },
    "tags": []
   },
   "outputs": [],
   "source": [
    "rush_df"
   ]
  },
  {
   "cell_type": "markdown",
   "id": "18",
   "metadata": {
    "papermill": {
     "duration": 0.099569,
     "end_time": "2024-12-28T07:14:57.295765",
     "exception": false,
     "start_time": "2024-12-28T07:14:57.196196",
     "status": "completed"
    },
    "tags": []
   },
   "source": [
    "## Card type"
   ]
  },
  {
   "cell_type": "code",
   "execution_count": null,
   "id": "19",
   "metadata": {
    "papermill": {
     "duration": 0.124143,
     "end_time": "2024-12-28T07:14:57.490338",
     "exception": false,
     "start_time": "2024-12-28T07:14:57.366195",
     "status": "completed"
    },
    "tags": []
   },
   "outputs": [],
   "source": [
    "print(\"Total number of card types:\", rush_df[\"Card type\"].nunique())"
   ]
  },
  {
   "cell_type": "code",
   "execution_count": null,
   "id": "20",
   "metadata": {
    "papermill": {
     "duration": 1.050956,
     "end_time": "2024-12-28T07:14:58.815789",
     "exception": false,
     "start_time": "2024-12-28T07:14:57.764833",
     "status": "completed"
    },
    "tags": []
   },
   "outputs": [],
   "source": [
    "card_type_colors = [plot.colors_dict[i] for i in rush_df[\"Card type\"].value_counts().index]\n",
    "rush_df[\"Card type\"].value_counts().plot.bar(figsize=(14, 6), rot=0, color=card_type_colors)\n",
    "plt.show()"
   ]
  },
  {
   "cell_type": "markdown",
   "id": "21",
   "metadata": {
    "papermill": {
     "duration": 0.117877,
     "end_time": "2024-12-28T07:14:59.001763",
     "exception": false,
     "start_time": "2024-12-28T07:14:58.883886",
     "status": "completed"
    },
    "tags": []
   },
   "source": [
    "## Monsters"
   ]
  },
  {
   "cell_type": "markdown",
   "id": "22",
   "metadata": {
    "papermill": {
     "duration": 0.202207,
     "end_time": "2024-12-28T07:14:59.504969",
     "exception": false,
     "start_time": "2024-12-28T07:14:59.302762",
     "status": "completed"
    },
    "tags": []
   },
   "source": [
    "### Attribute"
   ]
  },
  {
   "cell_type": "code",
   "execution_count": null,
   "id": "23",
   "metadata": {
    "papermill": {
     "duration": 0.095819,
     "end_time": "2024-12-28T07:14:59.862361",
     "exception": false,
     "start_time": "2024-12-28T07:14:59.766542",
     "status": "completed"
    },
    "tags": []
   },
   "outputs": [],
   "source": [
    "print(\"Total number of attributes:\", rush_df[\"Attribute\"].nunique())"
   ]
  },
  {
   "cell_type": "code",
   "execution_count": null,
   "id": "24",
   "metadata": {
    "papermill": {
     "duration": 0.103584,
     "end_time": "2024-12-28T07:15:00.086130",
     "exception": false,
     "start_time": "2024-12-28T07:14:59.982546",
     "status": "completed"
    },
    "tags": []
   },
   "outputs": [],
   "source": [
    "rush_df.drop(columns=[\"Card type\"]).groupby(\"Attribute\").nunique()"
   ]
  },
  {
   "cell_type": "code",
   "execution_count": null,
   "id": "25",
   "metadata": {
    "papermill": {
     "duration": 0.488481,
     "end_time": "2024-12-28T07:15:00.707116",
     "exception": false,
     "start_time": "2024-12-28T07:15:00.218635",
     "status": "completed"
    },
    "tags": []
   },
   "outputs": [],
   "source": [
    "attribute_colors = [plot.colors_dict[i] for i in rush_df[\"Attribute\"].value_counts().index]\n",
    "rush_df[\"Attribute\"].value_counts().plot.bar(figsize=(16, 6), rot=0, color=attribute_colors)\n",
    "plt.show()"
   ]
  },
  {
   "cell_type": "markdown",
   "id": "26",
   "metadata": {
    "papermill": {
     "duration": 2.063618,
     "end_time": "2024-12-28T07:15:02.922307",
     "exception": false,
     "start_time": "2024-12-28T07:15:00.858689",
     "status": "completed"
    },
    "tags": []
   },
   "source": [
    "### Primary type"
   ]
  },
  {
   "cell_type": "code",
   "execution_count": null,
   "id": "27",
   "metadata": {
    "papermill": {
     "duration": 0.350436,
     "end_time": "2024-12-28T07:15:03.634858",
     "exception": false,
     "start_time": "2024-12-28T07:15:03.284422",
     "status": "completed"
    },
    "tags": []
   },
   "outputs": [],
   "source": [
    "print(\"Total number of primary types:\", rush_df[\"Primary type\"].nunique())"
   ]
  },
  {
   "cell_type": "code",
   "execution_count": null,
   "id": "28",
   "metadata": {
    "papermill": {
     "duration": 1.050126,
     "end_time": "2024-12-28T07:15:05.161351",
     "exception": false,
     "start_time": "2024-12-28T07:15:04.111225",
     "status": "completed"
    },
    "tags": []
   },
   "outputs": [],
   "source": [
    "rush_df.drop(columns=[\"Card type\"]).groupby(\"Primary type\").nunique()"
   ]
  },
  {
   "cell_type": "markdown",
   "id": "29",
   "metadata": {
    "papermill": {
     "duration": 0.410187,
     "end_time": "2024-12-28T07:15:05.676465",
     "exception": false,
     "start_time": "2024-12-28T07:15:05.266278",
     "status": "completed"
    },
    "tags": []
   },
   "source": [
    "#### Has effect discrimination"
   ]
  },
  {
   "cell_type": "code",
   "execution_count": null,
   "id": "30",
   "metadata": {
    "papermill": {
     "duration": 0.289849,
     "end_time": "2024-12-28T07:15:06.249688",
     "exception": false,
     "start_time": "2024-12-28T07:15:05.959839",
     "status": "completed"
    },
    "tags": []
   },
   "outputs": [],
   "source": [
    "has_effect = rush_df[\"Primary type\"].where(rush_df[\"Effect type\"].notna()).value_counts().rename(\"Effect\")\n",
    "no_effect = rush_df[\"Primary type\"].where(rush_df[\"Effect type\"].isna()).value_counts().rename(\"No Effect\")\n",
    "effect = pd.concat([has_effect, no_effect], axis=1).fillna(0).astype(int)\n",
    "effect"
   ]
  },
  {
   "cell_type": "code",
   "execution_count": null,
   "id": "31",
   "metadata": {
    "papermill": {
     "duration": 0.282449,
     "end_time": "2024-12-28T07:15:06.682156",
     "exception": false,
     "start_time": "2024-12-28T07:15:06.399707",
     "status": "completed"
    },
    "tags": []
   },
   "outputs": [],
   "source": [
    "monster_type_colors = {\n",
    "    \"No Effect\": plot.colors_dict[\"Normal Monster\"],\n",
    "    \"Effect\": [plot.colors_dict[i] for i in effect.index],\n",
    "}\n",
    "effect.plot.bar(\n",
    "    figsize=(12, 6),\n",
    "    stacked=True,\n",
    "    rot=0,\n",
    "    legend=True,\n",
    "    color=monster_type_colors,\n",
    "    title=\"Primary types - Has effect\",\n",
    ")\n",
    "# plt.yscale('log')\n",
    "plt.show()"
   ]
  },
  {
   "cell_type": "markdown",
   "id": "32",
   "metadata": {
    "papermill": {
     "duration": 0.12586,
     "end_time": "2024-12-28T07:15:06.872739",
     "exception": false,
     "start_time": "2024-12-28T07:15:06.746879",
     "status": "completed"
    },
    "tags": []
   },
   "source": [
    "Obs: Effect monster can show as no effect if it is not released yet"
   ]
  },
  {
   "cell_type": "markdown",
   "id": "33",
   "metadata": {
    "papermill": {
     "duration": 0.496664,
     "end_time": "2024-12-28T07:15:07.617455",
     "exception": false,
     "start_time": "2024-12-28T07:15:07.120791",
     "status": "completed"
    },
    "tags": []
   },
   "source": [
    "#### By attribute"
   ]
  },
  {
   "cell_type": "code",
   "execution_count": null,
   "id": "34",
   "metadata": {
    "papermill": {
     "duration": 0.3122,
     "end_time": "2024-12-28T07:15:08.130072",
     "exception": false,
     "start_time": "2024-12-28T07:15:07.817872",
     "status": "completed"
    },
    "tags": []
   },
   "outputs": [],
   "source": [
    "primmary_crosstab = pd.crosstab(rush_df[\"Primary type\"], rush_df[\"Attribute\"])\n",
    "primmary_crosstab"
   ]
  },
  {
   "cell_type": "code",
   "execution_count": null,
   "id": "35",
   "metadata": {
    "papermill": {
     "duration": 1.390116,
     "end_time": "2024-12-28T07:15:09.696679",
     "exception": false,
     "start_time": "2024-12-28T07:15:08.306563",
     "status": "completed"
    },
    "tags": []
   },
   "outputs": [],
   "source": [
    "plt.figure(figsize=(16, 6))\n",
    "sns.heatmap(\n",
    "    primmary_crosstab,\n",
    "    annot=True,\n",
    "    fmt=\"g\",\n",
    "    cmap=\"viridis\",\n",
    "    square=True,\n",
    "    norm=plot.LogNorm(),\n",
    ")\n",
    "plt.show()"
   ]
  },
  {
   "cell_type": "markdown",
   "id": "36",
   "metadata": {
    "papermill": {
     "duration": 0.181694,
     "end_time": "2024-12-28T07:15:09.948388",
     "exception": false,
     "start_time": "2024-12-28T07:15:09.766694",
     "status": "completed"
    },
    "tags": []
   },
   "source": [
    "### Monster type"
   ]
  },
  {
   "cell_type": "code",
   "execution_count": null,
   "id": "37",
   "metadata": {
    "papermill": {
     "duration": 0.174635,
     "end_time": "2024-12-28T07:15:10.190514",
     "exception": false,
     "start_time": "2024-12-28T07:15:10.015879",
     "status": "completed"
    },
    "tags": []
   },
   "outputs": [],
   "source": [
    "print(\"Total number of monster types:\", rush_df[\"Monster type\"].nunique())"
   ]
  },
  {
   "cell_type": "code",
   "execution_count": null,
   "id": "38",
   "metadata": {
    "papermill": {
     "duration": 0.122757,
     "end_time": "2024-12-28T07:15:10.452014",
     "exception": false,
     "start_time": "2024-12-28T07:15:10.329257",
     "status": "completed"
    },
    "tags": []
   },
   "outputs": [],
   "source": [
    "rush_df.drop(columns=[\"Card type\"]).groupby(\"Monster type\").nunique()"
   ]
  },
  {
   "cell_type": "code",
   "execution_count": null,
   "id": "39",
   "metadata": {
    "papermill": {
     "duration": 0.492034,
     "end_time": "2024-12-28T07:15:11.101272",
     "exception": false,
     "start_time": "2024-12-28T07:15:10.609238",
     "status": "completed"
    },
    "tags": []
   },
   "outputs": [],
   "source": [
    "monster_type_colors = plot.colors_dict[\"Monster Card\"]\n",
    "rush_df[\"Monster type\"].value_counts().plot.bar(figsize=(18, 6), rot=60, color=monster_type_colors)\n",
    "plt.show()"
   ]
  },
  {
   "cell_type": "markdown",
   "id": "40",
   "metadata": {
    "papermill": {
     "duration": 0.19396,
     "end_time": "2024-12-28T07:15:11.364065",
     "exception": false,
     "start_time": "2024-12-28T07:15:11.170105",
     "status": "completed"
    },
    "tags": []
   },
   "source": [
    "#### By Attribute"
   ]
  },
  {
   "cell_type": "code",
   "execution_count": null,
   "id": "41",
   "metadata": {
    "papermill": {
     "duration": 0.140426,
     "end_time": "2024-12-28T07:15:11.602385",
     "exception": false,
     "start_time": "2024-12-28T07:15:11.461959",
     "status": "completed"
    },
    "tags": []
   },
   "outputs": [],
   "source": [
    "monster_crosstab = pd.crosstab(rush_df[\"Monster type\"], rush_df[\"Attribute\"], dropna=False)\n",
    "monster_crosstab"
   ]
  },
  {
   "cell_type": "code",
   "execution_count": null,
   "id": "42",
   "metadata": {
    "papermill": {
     "duration": 0.968083,
     "end_time": "2024-12-28T07:15:12.640081",
     "exception": false,
     "start_time": "2024-12-28T07:15:11.671998",
     "status": "completed"
    },
    "tags": []
   },
   "outputs": [],
   "source": [
    "plt.figure(figsize=(18, 4))\n",
    "sns.heatmap(\n",
    "    monster_crosstab[monster_crosstab > 0].T,\n",
    "    annot=True,\n",
    "    fmt=\"g\",\n",
    "    cmap=\"viridis\",\n",
    "    square=True,\n",
    "    norm=plot.LogNorm(),\n",
    ")\n",
    "plt.show()"
   ]
  },
  {
   "cell_type": "markdown",
   "id": "43",
   "metadata": {
    "papermill": {
     "duration": 0.144251,
     "end_time": "2024-12-28T07:15:12.859186",
     "exception": false,
     "start_time": "2024-12-28T07:15:12.714935",
     "status": "completed"
    },
    "tags": []
   },
   "source": [
    "#### By primary type"
   ]
  },
  {
   "cell_type": "code",
   "execution_count": null,
   "id": "44",
   "metadata": {
    "papermill": {
     "duration": 0.148241,
     "end_time": "2024-12-28T07:15:13.200158",
     "exception": false,
     "start_time": "2024-12-28T07:15:13.051917",
     "status": "completed"
    },
    "tags": []
   },
   "outputs": [],
   "source": [
    "monster_crosstab_b = pd.crosstab(rush_df[\"Monster type\"], rush_df[\"Primary type\"], dropna=False)\n",
    "monster_crosstab_b"
   ]
  },
  {
   "cell_type": "code",
   "execution_count": null,
   "id": "45",
   "metadata": {
    "papermill": {
     "duration": 1.055801,
     "end_time": "2024-12-28T07:15:14.389598",
     "exception": false,
     "start_time": "2024-12-28T07:15:13.333797",
     "status": "completed"
    },
    "tags": []
   },
   "outputs": [],
   "source": [
    "plt.figure(figsize=(18, 3))\n",
    "sns.heatmap(\n",
    "    monster_crosstab_b[monster_crosstab_b > 0].T,\n",
    "    annot=True,\n",
    "    fmt=\"g\",\n",
    "    cmap=\"viridis\",\n",
    "    square=True,\n",
    "    norm=plot.LogNorm(),\n",
    ")\n",
    "plt.show()"
   ]
  },
  {
   "cell_type": "markdown",
   "id": "46",
   "metadata": {
    "papermill": {
     "duration": 0.131964,
     "end_time": "2024-12-28T07:15:14.603642",
     "exception": false,
     "start_time": "2024-12-28T07:15:14.471678",
     "status": "completed"
    },
    "tags": []
   },
   "source": [
    "### ATK"
   ]
  },
  {
   "cell_type": "code",
   "execution_count": null,
   "id": "47",
   "metadata": {
    "papermill": {
     "duration": 0.400083,
     "end_time": "2024-12-28T07:15:15.134099",
     "exception": false,
     "start_time": "2024-12-28T07:15:14.734016",
     "status": "completed"
    },
    "tags": []
   },
   "outputs": [],
   "source": [
    "print(\"Total number of ATK values:\", rush_df[\"ATK\"].nunique())"
   ]
  },
  {
   "cell_type": "code",
   "execution_count": null,
   "id": "48",
   "metadata": {
    "papermill": {
     "duration": 0.337687,
     "end_time": "2024-12-28T07:15:15.572423",
     "exception": false,
     "start_time": "2024-12-28T07:15:15.234736",
     "status": "completed"
    },
    "tags": []
   },
   "outputs": [],
   "source": [
    "rush_df.drop(columns=[\"Card type\"]).groupby(\"ATK\").nunique().sort_index(key=lambda x: pd.to_numeric(x, errors=\"coerce\"))"
   ]
  },
  {
   "cell_type": "code",
   "execution_count": null,
   "id": "49",
   "metadata": {
    "papermill": {
     "duration": 0.445399,
     "end_time": "2024-12-28T07:15:16.259323",
     "exception": false,
     "start_time": "2024-12-28T07:15:15.813924",
     "status": "completed"
    },
    "tags": []
   },
   "outputs": [],
   "source": [
    "atk_colors = plot.colors_dict[\"Monster Card\"]\n",
    "rush_df[\"DEF\"].value_counts().sort_index(key=lambda x: pd.to_numeric(x, errors=\"coerce\")).plot.bar(\n",
    "    figsize=(18, 6), color=atk_colors\n",
    ")\n",
    "plt.show()"
   ]
  },
  {
   "cell_type": "markdown",
   "id": "50",
   "metadata": {
    "papermill": {
     "duration": 0.250266,
     "end_time": "2024-12-28T07:15:16.596418",
     "exception": false,
     "start_time": "2024-12-28T07:15:16.346152",
     "status": "completed"
    },
    "tags": []
   },
   "source": [
    "### DEF"
   ]
  },
  {
   "cell_type": "code",
   "execution_count": null,
   "id": "51",
   "metadata": {
    "papermill": {
     "duration": 0.17034,
     "end_time": "2024-12-28T07:15:16.850916",
     "exception": false,
     "start_time": "2024-12-28T07:15:16.680576",
     "status": "completed"
    },
    "tags": []
   },
   "outputs": [],
   "source": [
    "print(\"Total number of DEF values:\", rush_df[\"DEF\"].nunique())"
   ]
  },
  {
   "cell_type": "code",
   "execution_count": null,
   "id": "52",
   "metadata": {
    "papermill": {
     "duration": 0.293934,
     "end_time": "2024-12-28T07:15:17.230798",
     "exception": false,
     "start_time": "2024-12-28T07:15:16.936864",
     "status": "completed"
    },
    "tags": []
   },
   "outputs": [],
   "source": [
    "rush_df.drop(columns=[\"Card type\"]).groupby(\"DEF\").nunique().sort_index(key=lambda x: pd.to_numeric(x, errors=\"coerce\"))"
   ]
  },
  {
   "cell_type": "code",
   "execution_count": null,
   "id": "53",
   "metadata": {
    "papermill": {
     "duration": 0.46243,
     "end_time": "2024-12-28T07:15:17.777359",
     "exception": false,
     "start_time": "2024-12-28T07:15:17.314929",
     "status": "completed"
    },
    "tags": []
   },
   "outputs": [],
   "source": [
    "def_colors = plot.colors_dict[\"Monster Card\"]\n",
    "rush_df[\"DEF\"].value_counts().sort_index(key=lambda x: pd.to_numeric(x, errors=\"coerce\")).plot.bar(\n",
    "    figsize=(18, 6), color=def_colors\n",
    ")\n",
    "plt.show()"
   ]
  },
  {
   "cell_type": "markdown",
   "id": "54",
   "metadata": {
    "papermill": {
     "duration": 0.158908,
     "end_time": "2024-12-28T07:15:18.022820",
     "exception": false,
     "start_time": "2024-12-28T07:15:17.863912",
     "status": "completed"
    },
    "tags": []
   },
   "source": [
    "### Maximum mode"
   ]
  },
  {
   "cell_type": "code",
   "execution_count": null,
   "id": "55",
   "metadata": {
    "papermill": {
     "duration": 0.224763,
     "end_time": "2024-12-28T07:15:18.419065",
     "exception": false,
     "start_time": "2024-12-28T07:15:18.194302",
     "status": "completed"
    },
    "tags": []
   },
   "outputs": [],
   "source": [
    "print(\"Total cards requiring maximum mode:\", rush_df[\"Maximum mode\"].sum())"
   ]
  },
  {
   "cell_type": "code",
   "execution_count": null,
   "id": "56",
   "metadata": {
    "papermill": {
     "duration": 0.524131,
     "end_time": "2024-12-28T07:15:19.031474",
     "exception": false,
     "start_time": "2024-12-28T07:15:18.507343",
     "status": "completed"
    },
    "tags": []
   },
   "outputs": [],
   "source": [
    "rush_df[rush_df[\"Maximum mode\"]]"
   ]
  },
  {
   "cell_type": "markdown",
   "id": "57",
   "metadata": {
    "papermill": {
     "duration": 0.088023,
     "end_time": "2024-12-28T07:15:19.221109",
     "exception": false,
     "start_time": "2024-12-28T07:15:19.133086",
     "status": "completed"
    },
    "tags": []
   },
   "source": [
    "#### MAXIMUM ATK"
   ]
  },
  {
   "cell_type": "code",
   "execution_count": null,
   "id": "58",
   "metadata": {
    "papermill": {
     "duration": 0.119748,
     "end_time": "2024-12-28T07:15:19.475296",
     "exception": false,
     "start_time": "2024-12-28T07:15:19.355548",
     "status": "completed"
    },
    "tags": []
   },
   "outputs": [],
   "source": [
    "print(\"Total number of MAXIMUM ATK values:\", rush_df[\"MAXIMUM ATK\"].nunique())"
   ]
  },
  {
   "cell_type": "code",
   "execution_count": null,
   "id": "59",
   "metadata": {
    "papermill": {
     "duration": 0.358855,
     "end_time": "2024-12-28T07:15:19.997346",
     "exception": false,
     "start_time": "2024-12-28T07:15:19.638491",
     "status": "completed"
    },
    "tags": []
   },
   "outputs": [],
   "source": [
    "def_colors = plot.colors_dict[\"Monster Card\"]\n",
    "rush_df[\"MAXIMUM ATK\"].value_counts().sort_index(key=lambda x: pd.to_numeric(x, errors=\"coerce\")).plot.bar(\n",
    "    figsize=(10, 6), color=def_colors\n",
    ")\n",
    "plt.show()"
   ]
  },
  {
   "cell_type": "markdown",
   "id": "60",
   "metadata": {
    "papermill": {
     "duration": 0.261994,
     "end_time": "2024-12-28T07:15:20.364657",
     "exception": false,
     "start_time": "2024-12-28T07:15:20.102663",
     "status": "completed"
    },
    "tags": []
   },
   "source": [
    "##### By ATK"
   ]
  },
  {
   "cell_type": "code",
   "execution_count": null,
   "id": "61",
   "metadata": {
    "papermill": {
     "duration": 0.670951,
     "end_time": "2024-12-28T07:15:21.883383",
     "exception": false,
     "start_time": "2024-12-28T07:15:21.212432",
     "status": "completed"
    },
    "tags": []
   },
   "outputs": [],
   "source": [
    "max_atk_crosstab = pd.crosstab(rush_df[\"ATK\"], rush_df[\"MAXIMUM ATK\"])\n",
    "max_atk_crosstab"
   ]
  },
  {
   "cell_type": "markdown",
   "id": "62",
   "metadata": {
    "papermill": {
     "duration": 0.753396,
     "end_time": "2024-12-28T07:15:22.993639",
     "exception": false,
     "start_time": "2024-12-28T07:15:22.240243",
     "status": "completed"
    },
    "tags": []
   },
   "source": [
    "##### By DEF"
   ]
  },
  {
   "cell_type": "code",
   "execution_count": null,
   "id": "63",
   "metadata": {
    "papermill": {
     "duration": 0.260886,
     "end_time": "2024-12-28T07:15:23.566013",
     "exception": false,
     "start_time": "2024-12-28T07:15:23.305127",
     "status": "completed"
    },
    "tags": []
   },
   "outputs": [],
   "source": [
    "max_def_crosstab = pd.crosstab(rush_df[\"DEF\"], rush_df[\"MAXIMUM ATK\"])\n",
    "max_def_crosstab"
   ]
  },
  {
   "cell_type": "markdown",
   "id": "64",
   "metadata": {
    "papermill": {
     "duration": 0.386858,
     "end_time": "2024-12-28T07:15:25.079770",
     "exception": false,
     "start_time": "2024-12-28T07:15:24.692912",
     "status": "completed"
    },
    "tags": []
   },
   "source": [
    "### Level/Rank"
   ]
  },
  {
   "cell_type": "code",
   "execution_count": null,
   "id": "65",
   "metadata": {
    "papermill": {
     "duration": 0.383847,
     "end_time": "2024-12-28T07:15:25.802023",
     "exception": false,
     "start_time": "2024-12-28T07:15:25.418176",
     "status": "completed"
    },
    "tags": []
   },
   "outputs": [],
   "source": [
    "rush_df.drop(columns=[\"Card type\"]).groupby(\"Level/Rank\").nunique().sort_index(\n",
    "    key=lambda x: pd.to_numeric(x, errors=\"coerce\")\n",
    ")"
   ]
  },
  {
   "cell_type": "code",
   "execution_count": null,
   "id": "66",
   "metadata": {
    "papermill": {
     "duration": 0.360438,
     "end_time": "2024-12-28T07:15:26.282347",
     "exception": false,
     "start_time": "2024-12-28T07:15:25.921909",
     "status": "completed"
    },
    "tags": []
   },
   "outputs": [],
   "source": [
    "stars_colors = plot.colors_dict[\"Level\"]\n",
    "rush_df[\"Level/Rank\"].value_counts().sort_index(key=lambda x: pd.to_numeric(x, errors=\"coerce\")).plot.bar(\n",
    "    figsize=(16, 6), rot=0, color=stars_colors\n",
    ")\n",
    "plt.show()"
   ]
  },
  {
   "cell_type": "markdown",
   "id": "67",
   "metadata": {
    "papermill": {
     "duration": 0.273849,
     "end_time": "2024-12-28T07:15:26.879719",
     "exception": false,
     "start_time": "2024-12-28T07:15:26.605870",
     "status": "completed"
    },
    "tags": []
   },
   "source": [
    "#### ATK statistics"
   ]
  },
  {
   "cell_type": "code",
   "execution_count": null,
   "id": "68",
   "metadata": {
    "papermill": {
     "duration": 0.637241,
     "end_time": "2024-12-28T07:15:27.721169",
     "exception": false,
     "start_time": "2024-12-28T07:15:27.083928",
     "status": "completed"
    },
    "tags": []
   },
   "outputs": [],
   "source": [
    "rush_df[[\"Level/Rank\", \"ATK\"]].apply(pd.to_numeric, errors=\"coerce\").dropna().astype(int).groupby(\n",
    "    \"Level/Rank\"\n",
    ").describe().round(1)"
   ]
  },
  {
   "cell_type": "markdown",
   "id": "69",
   "metadata": {
    "papermill": {
     "duration": 0.339263,
     "end_time": "2024-12-28T07:15:29.656960",
     "exception": false,
     "start_time": "2024-12-28T07:15:29.317697",
     "status": "completed"
    },
    "tags": []
   },
   "source": [
    "#### DEF statistics"
   ]
  },
  {
   "cell_type": "code",
   "execution_count": null,
   "id": "70",
   "metadata": {
    "papermill": {
     "duration": 0.353965,
     "end_time": "2024-12-28T07:15:30.496858",
     "exception": false,
     "start_time": "2024-12-28T07:15:30.142893",
     "status": "completed"
    },
    "tags": []
   },
   "outputs": [],
   "source": [
    "rush_df[[\"Level/Rank\", \"DEF\"]].apply(pd.to_numeric, errors=\"coerce\").dropna().astype(int).groupby(\n",
    "    \"Level/Rank\"\n",
    ").describe().round(1)"
   ]
  },
  {
   "cell_type": "markdown",
   "id": "71",
   "metadata": {
    "papermill": {
     "duration": 0.090799,
     "end_time": "2024-12-28T07:15:30.678351",
     "exception": false,
     "start_time": "2024-12-28T07:15:30.587552",
     "status": "completed"
    },
    "tags": []
   },
   "source": [
    "## Spell & Trap"
   ]
  },
  {
   "cell_type": "markdown",
   "id": "72",
   "metadata": {
    "papermill": {
     "duration": 0.347592,
     "end_time": "2024-12-28T07:15:31.564454",
     "exception": false,
     "start_time": "2024-12-28T07:15:31.216862",
     "status": "completed"
    },
    "tags": []
   },
   "source": [
    "### Properties"
   ]
  },
  {
   "cell_type": "code",
   "execution_count": null,
   "id": "73",
   "metadata": {
    "papermill": {
     "duration": 0.287288,
     "end_time": "2024-12-28T07:15:32.033676",
     "exception": false,
     "start_time": "2024-12-28T07:15:31.746388",
     "status": "completed"
    },
    "tags": []
   },
   "outputs": [],
   "source": [
    "print(\"Total number of properties:\", rush_df[\"Property\"].nunique())"
   ]
  },
  {
   "cell_type": "code",
   "execution_count": null,
   "id": "74",
   "metadata": {
    "papermill": {
     "duration": 0.233046,
     "end_time": "2024-12-28T07:15:32.481894",
     "exception": false,
     "start_time": "2024-12-28T07:15:32.248848",
     "status": "completed"
    },
    "tags": []
   },
   "outputs": [],
   "source": [
    "rush_df.drop(columns=[\"Card type\"]).groupby(\"Property\").nunique()"
   ]
  },
  {
   "cell_type": "code",
   "execution_count": null,
   "id": "75",
   "metadata": {
    "papermill": {
     "duration": 0.371724,
     "end_time": "2024-12-28T07:15:33.111986",
     "exception": false,
     "start_time": "2024-12-28T07:15:32.740262",
     "status": "completed"
    },
    "tags": []
   },
   "outputs": [],
   "source": [
    "st_colors = [plot.colors_dict[i] for i in rush_df[[\"Card type\", \"Property\"]].value_counts().index.get_level_values(0)]\n",
    "rush_df[\"Property\"].value_counts().plot.bar(figsize=(10, 6), rot=0, color=st_colors)\n",
    "plt.show()"
   ]
  },
  {
   "cell_type": "markdown",
   "id": "76",
   "metadata": {
    "papermill": {
     "duration": 0.268657,
     "end_time": "2024-12-28T07:15:33.503168",
     "exception": false,
     "start_time": "2024-12-28T07:15:33.234511",
     "status": "completed"
    },
    "tags": []
   },
   "source": [
    "## Effect type"
   ]
  },
  {
   "cell_type": "code",
   "execution_count": null,
   "id": "77",
   "metadata": {
    "papermill": {
     "duration": 0.443749,
     "end_time": "2024-12-28T07:15:34.091137",
     "exception": false,
     "start_time": "2024-12-28T07:15:33.647388",
     "status": "completed"
    },
    "tags": []
   },
   "outputs": [],
   "source": [
    "print(\"Total number of effect types:\", rush_df[\"Effect type\"].explode().nunique())"
   ]
  },
  {
   "cell_type": "code",
   "execution_count": null,
   "id": "78",
   "metadata": {
    "papermill": {
     "duration": 1.044967,
     "end_time": "2024-12-28T07:15:35.776136",
     "exception": false,
     "start_time": "2024-12-28T07:15:34.731169",
     "status": "completed"
    },
    "tags": []
   },
   "outputs": [],
   "source": [
    "rush_df.explode(\"Effect type\").groupby(\"Effect type\").nunique()"
   ]
  },
  {
   "cell_type": "markdown",
   "id": "79",
   "metadata": {
    "papermill": {
     "duration": 0.538695,
     "end_time": "2024-12-28T07:15:36.409298",
     "exception": false,
     "start_time": "2024-12-28T07:15:35.870603",
     "status": "completed"
    },
    "tags": []
   },
   "source": [
    "### Card type discrimination"
   ]
  },
  {
   "cell_type": "code",
   "execution_count": null,
   "id": "80",
   "metadata": {
    "papermill": {
     "duration": 0.96534,
     "end_time": "2024-12-28T07:15:39.171008",
     "exception": false,
     "start_time": "2024-12-28T07:15:38.205668",
     "status": "completed"
    },
    "tags": []
   },
   "outputs": [],
   "source": [
    "type_diff = rush_df[[\"Card type\", \"Effect type\"]].explode(\"Effect type\").value_counts().unstack(0).fillna(0).astype(int)\n",
    "type_diff"
   ]
  },
  {
   "cell_type": "code",
   "execution_count": null,
   "id": "81",
   "metadata": {
    "papermill": {
     "duration": 0.803017,
     "end_time": "2024-12-28T07:15:40.373719",
     "exception": false,
     "start_time": "2024-12-28T07:15:39.570702",
     "status": "completed"
    },
    "tags": []
   },
   "outputs": [],
   "source": [
    "type_diff_colors = {type: plot.colors_dict[type] for type in rush_df[\"Card type\"].unique()}\n",
    "type_diff.plot.bar(figsize=(10, 6), stacked=True, rot=0, color=type_diff_colors)\n",
    "plt.show()"
   ]
  },
  {
   "cell_type": "markdown",
   "id": "82",
   "metadata": {
    "papermill": {
     "duration": 0.409052,
     "end_time": "2024-12-28T07:15:40.880779",
     "exception": false,
     "start_time": "2024-12-28T07:15:40.471727",
     "status": "completed"
    },
    "tags": []
   },
   "source": [
    "## Archseries"
   ]
  },
  {
   "cell_type": "code",
   "execution_count": null,
   "id": "83",
   "metadata": {
    "papermill": {
     "duration": 0.506038,
     "end_time": "2024-12-28T07:15:42.439271",
     "exception": false,
     "start_time": "2024-12-28T07:15:41.933233",
     "status": "completed"
    },
    "tags": []
   },
   "outputs": [],
   "source": [
    "exploded_archseries = rush_df.explode(\"Archseries\")\n",
    "print(\"Total number of Archseries:\", exploded_archseries[\"Archseries\"].nunique())"
   ]
  },
  {
   "cell_type": "code",
   "execution_count": null,
   "id": "84",
   "metadata": {
    "papermill": {
     "duration": 0.225432,
     "end_time": "2024-12-28T07:15:42.867180",
     "exception": false,
     "start_time": "2024-12-28T07:15:42.641748",
     "status": "completed"
    },
    "tags": []
   },
   "outputs": [],
   "source": [
    "exploded_archseries.groupby(\"Archseries\").nunique()"
   ]
  },
  {
   "cell_type": "code",
   "execution_count": null,
   "id": "85",
   "metadata": {
    "papermill": {
     "duration": 0.644102,
     "end_time": "2024-12-28T07:15:43.635904",
     "exception": false,
     "start_time": "2024-12-28T07:15:42.991802",
     "status": "completed"
    },
    "tags": []
   },
   "outputs": [],
   "source": [
    "exploded_archseries[\"Archseries\"].value_counts().head(30).plot.barh(figsize=(10, 15), title=\"Top 30 Archtypes/Series\")\n",
    "plt.show()"
   ]
  },
  {
   "cell_type": "markdown",
   "id": "86",
   "metadata": {
    "papermill": {
     "duration": 0.332183,
     "end_time": "2024-12-28T07:15:44.069693",
     "exception": false,
     "start_time": "2024-12-28T07:15:43.737510",
     "status": "completed"
    },
    "tags": []
   },
   "source": [
    "### By card type"
   ]
  },
  {
   "cell_type": "code",
   "execution_count": null,
   "id": "87",
   "metadata": {
    "papermill": {
     "duration": 0.38592,
     "end_time": "2024-12-28T07:15:44.838703",
     "exception": false,
     "start_time": "2024-12-28T07:15:44.452783",
     "status": "completed"
    },
    "tags": []
   },
   "outputs": [],
   "source": [
    "archseries_crosstab = pd.crosstab(exploded_archseries[\"Archseries\"], exploded_archseries[\"Card type\"], margins=True)\n",
    "archseries_crosstab"
   ]
  },
  {
   "cell_type": "markdown",
   "id": "88",
   "metadata": {
    "papermill": {
     "duration": 0.432006,
     "end_time": "2024-12-28T07:15:45.375906",
     "exception": false,
     "start_time": "2024-12-28T07:15:44.943900",
     "status": "completed"
    },
    "tags": []
   },
   "source": [
    "### By primary type"
   ]
  },
  {
   "cell_type": "code",
   "execution_count": null,
   "id": "89",
   "metadata": {
    "papermill": {
     "duration": 0.448343,
     "end_time": "2024-12-28T07:15:46.410734",
     "exception": false,
     "start_time": "2024-12-28T07:15:45.962391",
     "status": "completed"
    },
    "tags": []
   },
   "outputs": [],
   "source": [
    "archseries_crosstab_b = pd.crosstab(exploded_archseries[\"Archseries\"], exploded_archseries[\"Primary type\"], margins=True)\n",
    "archseries_crosstab_b"
   ]
  },
  {
   "cell_type": "markdown",
   "id": "90",
   "metadata": {
    "papermill": {
     "duration": 0.441559,
     "end_time": "2024-12-28T07:15:48.336374",
     "exception": false,
     "start_time": "2024-12-28T07:15:47.894815",
     "status": "completed"
    },
    "tags": []
   },
   "source": [
    "### By monster type"
   ]
  },
  {
   "cell_type": "code",
   "execution_count": null,
   "id": "91",
   "metadata": {
    "papermill": {
     "duration": 0.634715,
     "end_time": "2024-12-28T07:15:49.207854",
     "exception": false,
     "start_time": "2024-12-28T07:15:48.573139",
     "status": "completed"
    },
    "tags": []
   },
   "outputs": [],
   "source": [
    "archseries_crosstab_d = pd.crosstab(exploded_archseries[\"Archseries\"], exploded_archseries[\"Monster type\"], margins=True)\n",
    "archseries_crosstab_d"
   ]
  },
  {
   "cell_type": "markdown",
   "id": "92",
   "metadata": {
    "papermill": {
     "duration": 0.117152,
     "end_time": "2024-12-28T07:15:49.426773",
     "exception": false,
     "start_time": "2024-12-28T07:15:49.309621",
     "status": "completed"
    },
    "tags": []
   },
   "source": [
    "### By property"
   ]
  },
  {
   "cell_type": "code",
   "execution_count": null,
   "id": "93",
   "metadata": {
    "papermill": {
     "duration": 0.174732,
     "end_time": "2024-12-28T07:15:49.715412",
     "exception": false,
     "start_time": "2024-12-28T07:15:49.540680",
     "status": "completed"
    },
    "tags": []
   },
   "outputs": [],
   "source": [
    "archseries_crosstab_e = pd.crosstab(exploded_archseries[\"Archseries\"], exploded_archseries[\"Property\"], margins=True)\n",
    "archseries_crosstab_e"
   ]
  },
  {
   "cell_type": "markdown",
   "id": "94",
   "metadata": {
    "papermill": {
     "duration": 0.498559,
     "end_time": "2024-12-28T07:15:50.509320",
     "exception": false,
     "start_time": "2024-12-28T07:15:50.010761",
     "status": "completed"
    },
    "tags": []
   },
   "source": [
    "## Legend"
   ]
  },
  {
   "cell_type": "code",
   "execution_count": null,
   "id": "95",
   "metadata": {
    "papermill": {
     "duration": 0.312305,
     "end_time": "2024-12-28T07:15:51.088944",
     "exception": false,
     "start_time": "2024-12-28T07:15:50.776639",
     "status": "completed"
    },
    "tags": []
   },
   "outputs": [],
   "source": [
    "print(\"Total number of Legend cards\", rush_df[\"Legend\"].sum())"
   ]
  },
  {
   "cell_type": "code",
   "execution_count": null,
   "id": "96",
   "metadata": {
    "papermill": {
     "duration": 0.613328,
     "end_time": "2024-12-28T07:15:51.827385",
     "exception": false,
     "start_time": "2024-12-28T07:15:51.214057",
     "status": "completed"
    },
    "tags": []
   },
   "outputs": [],
   "source": [
    "rush_df[rush_df[\"Legend\"]]"
   ]
  },
  {
   "cell_type": "markdown",
   "id": "97",
   "metadata": {
    "papermill": {
     "duration": 0.134701,
     "end_time": "2024-12-28T07:15:52.065309",
     "exception": false,
     "start_time": "2024-12-28T07:15:51.930608",
     "status": "completed"
    },
    "tags": []
   },
   "source": [
    "#### By card type"
   ]
  },
  {
   "cell_type": "code",
   "execution_count": null,
   "id": "98",
   "metadata": {
    "papermill": {
     "duration": 0.233414,
     "end_time": "2024-12-28T07:15:52.403850",
     "exception": false,
     "start_time": "2024-12-28T07:15:52.170436",
     "status": "completed"
    },
    "tags": []
   },
   "outputs": [],
   "source": [
    "card_type_colors = [plot.colors_dict[i] for i in rush_df[rush_df[\"Legend\"]][\"Card type\"].value_counts().index]\n",
    "rush_df[rush_df[\"Legend\"]][\"Card type\"].value_counts().plot.bar(figsize=(10, 6), rot=0, color=card_type_colors)\n",
    "plt.show()"
   ]
  },
  {
   "cell_type": "markdown",
   "id": "99",
   "metadata": {
    "papermill": {
     "duration": 0.194805,
     "end_time": "2024-12-28T07:15:52.817832",
     "exception": false,
     "start_time": "2024-12-28T07:15:52.623027",
     "status": "completed"
    },
    "tags": []
   },
   "source": [
    "#### By Attribute"
   ]
  },
  {
   "cell_type": "code",
   "execution_count": null,
   "id": "100",
   "metadata": {
    "papermill": {
     "duration": 0.250193,
     "end_time": "2024-12-28T07:15:53.645427",
     "exception": false,
     "start_time": "2024-12-28T07:15:53.395234",
     "status": "completed"
    },
    "tags": []
   },
   "outputs": [],
   "source": [
    "attribute_colors = [plot.colors_dict[i] for i in rush_df[rush_df[\"Legend\"]][\"Attribute\"].value_counts().index]\n",
    "rush_df[rush_df[\"Legend\"]][\"Attribute\"].value_counts().plot.bar(figsize=(12, 6), rot=0, color=attribute_colors)\n",
    "plt.show()"
   ]
  },
  {
   "cell_type": "markdown",
   "id": "101",
   "metadata": {
    "papermill": {
     "duration": 0.103271,
     "end_time": "2024-12-28T07:15:53.855821",
     "exception": false,
     "start_time": "2024-12-28T07:15:53.752550",
     "status": "completed"
    },
    "tags": []
   },
   "source": [
    "#### By primary type"
   ]
  },
  {
   "cell_type": "code",
   "execution_count": null,
   "id": "102",
   "metadata": {
    "papermill": {
     "duration": 0.243428,
     "end_time": "2024-12-28T07:15:54.246683",
     "exception": false,
     "start_time": "2024-12-28T07:15:54.003255",
     "status": "completed"
    },
    "tags": []
   },
   "outputs": [],
   "source": [
    "monster_type_colors = [plot.colors_dict[i] for i in rush_df[rush_df[\"Legend\"]][\"Primary type\"].value_counts().index]\n",
    "rush_df[rush_df[\"Legend\"]][\"Primary type\"].value_counts().plot.bar(\n",
    "    figsize=(10, 6),\n",
    "    stacked=True,\n",
    "    rot=0,\n",
    "    legend=True,\n",
    "    color=monster_type_colors,\n",
    ")\n",
    "# plt.yscale('log')\n",
    "plt.show()"
   ]
  },
  {
   "cell_type": "markdown",
   "id": "103",
   "metadata": {
    "papermill": {
     "duration": 0.151954,
     "end_time": "2024-12-28T07:15:54.510457",
     "exception": false,
     "start_time": "2024-12-28T07:15:54.358503",
     "status": "completed"
    },
    "tags": []
   },
   "source": [
    "#### By monster type"
   ]
  },
  {
   "cell_type": "code",
   "execution_count": null,
   "id": "104",
   "metadata": {
    "papermill": {
     "duration": 0.415223,
     "end_time": "2024-12-28T07:15:55.047171",
     "exception": false,
     "start_time": "2024-12-28T07:15:54.631948",
     "status": "completed"
    },
    "tags": []
   },
   "outputs": [],
   "source": [
    "monster_type_colors = plot.colors_dict[\"Monster Card\"]\n",
    "rush_df[rush_df[\"Legend\"]][\"Monster type\"].value_counts().plot.bar(figsize=(16, 6), rot=90, color=monster_type_colors)\n",
    "plt.show()"
   ]
  },
  {
   "cell_type": "markdown",
   "id": "105",
   "metadata": {
    "papermill": {
     "duration": 0.115284,
     "end_time": "2024-12-28T07:15:55.277389",
     "exception": false,
     "start_time": "2024-12-28T07:15:55.162105",
     "status": "completed"
    },
    "tags": []
   },
   "source": [
    "## Artworks"
   ]
  },
  {
   "cell_type": "code",
   "execution_count": null,
   "id": "106",
   "metadata": {
    "papermill": {
     "duration": 0.160142,
     "end_time": "2024-12-28T07:15:55.592566",
     "exception": false,
     "start_time": "2024-12-28T07:15:55.432424",
     "status": "completed"
    },
    "tags": []
   },
   "outputs": [],
   "source": [
    "print(\n",
    "    \"Total number of cards with edited or alternate artworks:\",\n",
    "    rush_df[\"Artwork\"].count(),\n",
    ")"
   ]
  },
  {
   "cell_type": "code",
   "execution_count": null,
   "id": "107",
   "metadata": {
    "papermill": {
     "duration": 0.273293,
     "end_time": "2024-12-28T07:15:55.976467",
     "exception": false,
     "start_time": "2024-12-28T07:15:55.703174",
     "status": "completed"
    },
    "tags": []
   },
   "outputs": [],
   "source": [
    "rush_df[[\"Name\", \"Artwork\"]].dropna()"
   ]
  },
  {
   "cell_type": "code",
   "execution_count": null,
   "id": "108",
   "metadata": {
    "papermill": {
     "duration": 0.865492,
     "end_time": "2024-12-28T07:15:56.955377",
     "exception": false,
     "start_time": "2024-12-28T07:15:56.089885",
     "status": "completed"
    },
    "tags": []
   },
   "outputs": [],
   "source": [
    "artwork_value_counts = rush_df[\"Artwork\"].value_counts()\n",
    "plt.figure(figsize=(20, 8))\n",
    "plt.title(\"Artworks\")\n",
    "plot.venn2(\n",
    "    subsets=(\n",
    "        artwork_value_counts[(\"Alternate\",)],\n",
    "        artwork_value_counts[(\"Edited\",)],\n",
    "        artwork_value_counts[(\"Alternate\", \"Edited\")],\n",
    "    ),\n",
    "    set_labels=(\"Alternate artwork\", \"Edited artwork\"),\n",
    ")\n",
    "plt.show()"
   ]
  },
  {
   "cell_type": "markdown",
   "id": "109",
   "metadata": {
    "papermill": {
     "duration": 0.193429,
     "end_time": "2024-12-28T07:15:57.272206",
     "exception": false,
     "start_time": "2024-12-28T07:15:57.078777",
     "status": "completed"
    },
    "tags": []
   },
   "source": [
    "### By card type"
   ]
  },
  {
   "cell_type": "code",
   "execution_count": null,
   "id": "110",
   "metadata": {
    "papermill": {
     "duration": 0.155893,
     "end_time": "2024-12-28T07:15:57.544522",
     "exception": false,
     "start_time": "2024-12-28T07:15:57.388629",
     "status": "completed"
    },
    "tags": []
   },
   "outputs": [],
   "source": [
    "artwork_crosstab = pd.crosstab(rush_df[\"Artwork\"], rush_df[\"Card type\"])\n",
    "artwork_crosstab"
   ]
  },
  {
   "cell_type": "markdown",
   "id": "111",
   "metadata": {
    "papermill": {
     "duration": 0.110392,
     "end_time": "2024-12-28T07:15:57.780309",
     "exception": false,
     "start_time": "2024-12-28T07:15:57.669917",
     "status": "completed"
    },
    "tags": []
   },
   "source": [
    "### By primary type"
   ]
  },
  {
   "cell_type": "code",
   "execution_count": null,
   "id": "112",
   "metadata": {
    "papermill": {
     "duration": 0.133984,
     "end_time": "2024-12-28T07:15:58.027051",
     "exception": false,
     "start_time": "2024-12-28T07:15:57.893067",
     "status": "completed"
    },
    "tags": []
   },
   "outputs": [],
   "source": [
    "artwork_crosstab_b = pd.crosstab(rush_df[\"Artwork\"], rush_df[\"Primary type\"])\n",
    "artwork_crosstab_b"
   ]
  },
  {
   "cell_type": "markdown",
   "id": "113",
   "metadata": {
    "papermill": {
     "duration": 0.538987,
     "end_time": "2024-12-28T07:15:58.774674",
     "exception": false,
     "start_time": "2024-12-28T07:15:58.235687",
     "status": "completed"
    },
    "tags": []
   },
   "source": [
    "More granularity is unnecessary"
   ]
  },
  {
   "cell_type": "markdown",
   "id": "114",
   "metadata": {
    "papermill": {
     "duration": 0.203223,
     "end_time": "2024-12-28T07:15:59.645652",
     "exception": false,
     "start_time": "2024-12-28T07:15:59.442429",
     "status": "completed"
    },
    "tags": []
   },
   "source": [
    "## Errata"
   ]
  },
  {
   "cell_type": "code",
   "execution_count": null,
   "id": "115",
   "metadata": {
    "papermill": {
     "duration": 0.746819,
     "end_time": "2024-12-28T07:16:01.260782",
     "exception": false,
     "start_time": "2024-12-28T07:16:00.513963",
     "status": "completed"
    },
    "tags": []
   },
   "outputs": [],
   "source": [
    "print(\"Total number of cards with errata:\", rush_df[\"Errata\"].count())"
   ]
  },
  {
   "cell_type": "code",
   "execution_count": null,
   "id": "116",
   "metadata": {
    "papermill": {
     "duration": 0.434722,
     "end_time": "2024-12-28T07:16:02.079029",
     "exception": false,
     "start_time": "2024-12-28T07:16:01.644307",
     "status": "completed"
    },
    "tags": []
   },
   "outputs": [],
   "source": [
    "rush_df[[\"Name\", \"Errata\"]].dropna()"
   ]
  },
  {
   "cell_type": "markdown",
   "id": "117",
   "metadata": {
    "papermill": {
     "duration": 0.171511,
     "end_time": "2024-12-28T07:16:02.363157",
     "exception": false,
     "start_time": "2024-12-28T07:16:02.191646",
     "status": "completed"
    },
    "tags": []
   },
   "source": [
    "### By card type"
   ]
  },
  {
   "cell_type": "code",
   "execution_count": null,
   "id": "118",
   "metadata": {
    "papermill": {
     "duration": 0.140235,
     "end_time": "2024-12-28T07:16:02.672191",
     "exception": false,
     "start_time": "2024-12-28T07:16:02.531956",
     "status": "completed"
    },
    "tags": []
   },
   "outputs": [],
   "source": [
    "errata_crosstab = pd.crosstab(rush_df[\"Errata\"], rush_df[\"Card type\"])\n",
    "errata_crosstab"
   ]
  },
  {
   "cell_type": "markdown",
   "id": "119",
   "metadata": {
    "papermill": {
     "duration": 0.358472,
     "end_time": "2024-12-28T07:16:03.797503",
     "exception": false,
     "start_time": "2024-12-28T07:16:03.439031",
     "status": "completed"
    },
    "tags": []
   },
   "source": [
    "### By primary type"
   ]
  },
  {
   "cell_type": "code",
   "execution_count": null,
   "id": "120",
   "metadata": {
    "papermill": {
     "duration": 0.50625,
     "end_time": "2024-12-28T07:16:04.487411",
     "exception": false,
     "start_time": "2024-12-28T07:16:03.981161",
     "status": "completed"
    },
    "tags": []
   },
   "outputs": [],
   "source": [
    "errata_crosstab_b = pd.crosstab(rush_df[\"Errata\"], rush_df[\"Primary type\"])\n",
    "errata_crosstab_b"
   ]
  },
  {
   "cell_type": "markdown",
   "id": "121",
   "metadata": {
    "papermill": {
     "duration": 0.50137,
     "end_time": "2024-12-28T07:16:05.178817",
     "exception": false,
     "start_time": "2024-12-28T07:16:04.677447",
     "status": "completed"
    },
    "tags": []
   },
   "source": [
    "### By artwork"
   ]
  },
  {
   "cell_type": "code",
   "execution_count": null,
   "id": "122",
   "metadata": {
    "papermill": {
     "duration": 0.150734,
     "end_time": "2024-12-28T07:16:05.453077",
     "exception": false,
     "start_time": "2024-12-28T07:16:05.302343",
     "status": "completed"
    },
    "tags": []
   },
   "outputs": [],
   "source": [
    "errata_crosstab_c = pd.crosstab(rush_df[\"Artwork\"], rush_df[\"Errata\"])\n",
    "errata_crosstab_c"
   ]
  },
  {
   "cell_type": "markdown",
   "id": "123",
   "metadata": {
    "papermill": {
     "duration": 0.205661,
     "end_time": "2024-12-28T07:16:05.857890",
     "exception": false,
     "start_time": "2024-12-28T07:16:05.652229",
     "status": "completed"
    },
    "tags": []
   },
   "source": [
    "More granularity is unnecessary"
   ]
  },
  {
   "cell_type": "markdown",
   "id": "124",
   "metadata": {
    "papermill": {
     "duration": 0.215321,
     "end_time": "2024-12-28T07:16:06.295461",
     "exception": false,
     "start_time": "2024-12-28T07:16:06.080140",
     "status": "completed"
    },
    "tags": []
   },
   "source": [
    "# Epilogue"
   ]
  },
  {
   "cell_type": "code",
   "execution_count": null,
   "id": "125",
   "metadata": {
    "papermill": {
     "duration": 7.09132,
     "end_time": "2024-12-28T07:16:13.721321",
     "exception": false,
     "start_time": "2024-12-28T07:16:06.630001",
     "status": "completed"
    },
    "tags": []
   },
   "outputs": [],
   "source": [
    "benchmark(report=\"rush\", timestamp=timestamp)"
   ]
  },
  {
   "cell_type": "code",
   "execution_count": null,
   "id": "126",
   "metadata": {
    "papermill": {
     "duration": 0.124997,
     "end_time": "2024-12-28T07:16:13.961961",
     "exception": false,
     "start_time": "2024-12-28T07:16:13.836964",
     "status": "completed"
    },
    "tags": []
   },
   "outputs": [],
   "source": [
    "footer(timestamp)"
   ]
  },
  {
   "cell_type": "markdown",
   "id": "127",
   "metadata": {
    "papermill": {
     "duration": 0.10934,
     "end_time": "2024-12-28T07:16:14.191663",
     "exception": false,
     "start_time": "2024-12-28T07:16:14.082323",
     "status": "completed"
    },
    "tags": []
   },
   "source": [
    "## HTML export"
   ]
  },
  {
   "cell_type": "code",
   "execution_count": null,
   "id": "128",
   "metadata": {
    "papermill": {
     "duration": 0.342391,
     "end_time": "2024-12-28T07:16:14.798818",
     "exception": false,
     "start_time": "2024-12-28T07:16:14.456427",
     "status": "completed"
    },
    "tags": []
   },
   "outputs": [],
   "source": [
    "# Save notebook on disck before generating HTML report\n",
    "save_notebook()"
   ]
  },
  {
   "cell_type": "code",
   "execution_count": null,
   "id": "129",
   "metadata": {
    "papermill": {
     "duration": 4.379667,
     "end_time": "2024-12-28T07:16:19.293442",
     "exception": false,
     "start_time": "2024-12-28T07:16:14.913775",
     "status": "completed"
    },
    "tags": []
   },
   "outputs": [],
   "source": [
    "export_notebook(dirs.NOTEBOOKS.user / \"Rush.ipynb\")"
   ]
  },
  {
   "cell_type": "markdown",
   "id": "130",
   "metadata": {
    "papermill": {
     "duration": 0.263918,
     "end_time": "2024-12-28T07:16:19.683407",
     "exception": false,
     "start_time": "2024-12-28T07:16:19.419489",
     "status": "completed"
    },
    "tags": [
     "exclude"
    ]
   },
   "source": [
    "## Git"
   ]
  },
  {
   "cell_type": "code",
   "execution_count": null,
   "id": "131",
   "metadata": {
    "papermill": {
     "duration": null,
     "end_time": null,
     "exception": false,
     "start_time": "2024-12-28T07:16:19.800650",
     "status": "running"
    },
    "tags": [
     "exclude"
    ]
   },
   "outputs": [],
   "source": [
    "git.commit(\"*[Rr]ush*\", f\"Rush duel update - {timestamp.isoformat()}\")"
   ]
  }
 ],
 "metadata": {
  "kernelspec": {
   "display_name": "Python3 (YugiQuery)",
   "language": "python",
   "name": "yugiquery"
  },
  "language_info": {
   "codemirror_mode": {
    "name": "ipython",
    "version": 3
   },
   "file_extension": ".py",
   "mimetype": "text/x-python",
   "name": "python",
   "nbconvert_exporter": "python",
   "pygments_lexer": "ipython3",
   "version": "3.11.6"
  },
  "papermill": {
   "default_parameters": {},
   "duration": null,
   "end_time": null,
   "environment_variables": {},
   "exception": null,
   "input_path": "/home/jovyan/yugiquery/notebooks/Rush.ipynb",
   "output_path": "/home/jovyan/yugiquery/notebooks/Rush.ipynb",
   "parameters": {},
   "start_time": "2024-12-28T07:13:07.181191",
   "version": "2.6.0"
  },
  "toc": {
   "base_numbering": 1,
   "nav_menu": {},
   "number_sections": true,
   "sideBar": true,
   "skip_h1_title": false,
   "title_cell": "Table of Contents",
   "title_sidebar": "Contents",
   "toc_cell": true,
   "toc_position": {},
   "toc_section_display": true,
   "toc_window_display": false
  }
 },
 "nbformat": 4,
 "nbformat_minor": 5
}
