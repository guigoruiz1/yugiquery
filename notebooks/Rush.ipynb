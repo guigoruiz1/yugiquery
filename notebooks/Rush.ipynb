{
 "cells": [
  {
   "cell_type": "code",
   "execution_count": null,
   "id": "0",
   "metadata": {
    "papermill": {
     "duration": 44.593139,
     "end_time": "2025-08-16T06:12:57.803349",
     "exception": false,
     "start_time": "2025-08-16T06:12:13.210210",
     "status": "completed"
    },
    "tags": []
   },
   "outputs": [],
   "source": [
    "from yugiquery import *\n",
    "\n",
    "init_notebook_mode(all_interactive=True)\n",
    "\n",
    "header(\"Rush Duel\")"
   ]
  },
  {
   "cell_type": "markdown",
   "id": "1",
   "metadata": {
    "papermill": {
     "duration": 0.159797,
     "end_time": "2025-08-16T06:12:58.114122",
     "exception": false,
     "start_time": "2025-08-16T06:12:57.954325",
     "status": "completed"
    },
    "tags": []
   },
   "source": [
    "---"
   ]
  },
  {
   "cell_type": "markdown",
   "id": "2",
   "metadata": {
    "papermill": {
     "duration": 0.045073,
     "end_time": "2025-08-16T06:12:58.342486",
     "exception": false,
     "start_time": "2025-08-16T06:12:58.297413",
     "status": "completed"
    },
    "tags": []
   },
   "source": [
    "Table of Contents <a class=\"jp-toc-ignore\"></a>\n",
    "=================\n",
    "* [1 Data aquisition](#data-aquisition)\n",
    "  * [1.1 Fetch online data](#fetch-online-data)\n",
    "  * [1.2 Merge data](#merge-data)\n",
    "* [2 Check changes](#check-changes)\n",
    "  * [2.1 Load previous data](#load-previous-data)\n",
    "  * [2.2 Generate changelog](#generate-changelog)\n",
    "  * [2.3 Save data](#save-data)\n",
    "* [3 Data visualization](#data-visualization)\n",
    "  * [3.1 Card type](#card-type)\n",
    "  * [3.2 Monsters](#monsters)\n",
    "    * [3.2.1 Attribute](#attribute)\n",
    "    * [3.2.2 Primary type](#primary-type)\n",
    "      * [3.2.2.1 Has effect discrimination](#has-effect-discrimination)\n",
    "      * [3.2.2.2 By attribute](#by-attribute)\n",
    "    * [3.2.3 Monster type](#monster-type)\n",
    "      * [3.2.3.1 By Attribute](#by-attribute)\n",
    "      * [3.2.3.2 By primary type](#by-primary-type)\n",
    "    * [3.2.4 ATK](#atk)\n",
    "    * [3.2.5 DEF](#def)\n",
    "    * [3.2.6 Maximum mode](#maximum-mode)\n",
    "      * [3.2.6.1 MAXIMUM ATK](#maximum-atk)\n",
    "        * [3.2.6.1.1 By ATK](#by-atk)\n",
    "        * [3.2.6.1.2 By DEF](#by-def)\n",
    "    * [3.2.7 Level/Rank](#level/rank)\n",
    "      * [3.2.7.1 ATK statistics](#atk-statistics)\n",
    "      * [3.2.7.2 DEF statistics](#def-statistics)\n",
    "  * [3.3 Spell & Trap](#spell-&-trap)\n",
    "    * [3.3.1 Properties](#properties)\n",
    "  * [3.4 Effect type](#effect-type)\n",
    "    * [3.4.1 Card type discrimination](#card-type-discrimination)\n",
    "  * [3.5 Archseries](#archseries)\n",
    "    * [3.5.1 By card type](#by-card-type)\n",
    "    * [3.5.2 By primary type](#by-primary-type)\n",
    "    * [3.5.3 By monster type](#by-monster-type)\n",
    "    * [3.5.4 By property](#by-property)\n",
    "  * [3.6 Legend](#legend)\n",
    "      * [3.6.0.1 By card type](#by-card-type)\n",
    "      * [3.6.0.2 By Attribute](#by-attribute)\n",
    "      * [3.6.0.3 By primary type](#by-primary-type)\n",
    "      * [3.6.0.4 By monster type](#by-monster-type)\n",
    "  * [3.7 Artworks](#artworks)\n",
    "    * [3.7.1 By card type](#by-card-type)\n",
    "    * [3.7.2 By primary type](#by-primary-type)\n",
    "  * [3.8 Errata](#errata)\n",
    "    * [3.8.1 By card type](#by-card-type)\n",
    "    * [3.8.2 By primary type](#by-primary-type)\n",
    "    * [3.8.3 By artwork](#by-artwork)\n",
    "* [4 Epilogue](#epilogue)\n",
    "  * [4.1 HTML export](#html-export)\n",
    "  <!-- * [4.2 Git](#git) -->"
   ]
  },
  {
   "cell_type": "markdown",
   "id": "3",
   "metadata": {
    "papermill": {
     "duration": 0.118098,
     "end_time": "2025-08-16T06:12:58.739238",
     "exception": false,
     "start_time": "2025-08-16T06:12:58.621140",
     "status": "completed"
    },
    "tags": []
   },
   "source": [
    "# Data aquisition"
   ]
  },
  {
   "cell_type": "markdown",
   "id": "4",
   "metadata": {
    "papermill": {
     "duration": 0.064477,
     "end_time": "2025-08-16T06:12:59.304470",
     "exception": false,
     "start_time": "2025-08-16T06:12:59.239993",
     "status": "completed"
    },
    "tags": []
   },
   "source": [
    "## Fetch online data"
   ]
  },
  {
   "cell_type": "code",
   "execution_count": null,
   "id": "5",
   "metadata": {
    "papermill": {
     "duration": 0.067632,
     "end_time": "2025-08-16T06:12:59.427775",
     "exception": false,
     "start_time": "2025-08-16T06:12:59.360143",
     "status": "completed"
    },
    "tags": []
   },
   "outputs": [],
   "source": [
    "# Timestamp\n",
    "timestamp = arrow.utcnow()"
   ]
  },
  {
   "cell_type": "code",
   "execution_count": null,
   "id": "6",
   "metadata": {
    "papermill": {
     "duration": 58.925742,
     "end_time": "2025-08-16T06:13:58.406645",
     "exception": false,
     "start_time": "2025-08-16T06:12:59.480903",
     "status": "completed"
    },
    "tags": []
   },
   "outputs": [],
   "source": [
    "# Fetch rush cards\n",
    "rush_df = fetch_rush()\n",
    "\n",
    "# Fetch errata\n",
    "errata_df = fetch_errata()"
   ]
  },
  {
   "cell_type": "markdown",
   "id": "7",
   "metadata": {
    "papermill": {
     "duration": 0.046984,
     "end_time": "2025-08-16T06:13:58.506539",
     "exception": false,
     "start_time": "2025-08-16T06:13:58.459555",
     "status": "completed"
    },
    "tags": []
   },
   "source": [
    "## Merge data"
   ]
  },
  {
   "cell_type": "code",
   "execution_count": null,
   "id": "8",
   "metadata": {
    "papermill": {
     "duration": 1.012449,
     "end_time": "2025-08-16T06:13:59.625912",
     "exception": false,
     "start_time": "2025-08-16T06:13:58.613463",
     "status": "completed"
    },
    "tags": []
   },
   "outputs": [],
   "source": [
    "rush_df = merge_errata(rush_df, errata_df)\n",
    "print(\"Data merged\")"
   ]
  },
  {
   "cell_type": "markdown",
   "id": "9",
   "metadata": {
    "papermill": {
     "duration": 0.077759,
     "end_time": "2025-08-16T06:13:59.759197",
     "exception": false,
     "start_time": "2025-08-16T06:13:59.681438",
     "status": "completed"
    },
    "tags": []
   },
   "source": [
    "# Check changes"
   ]
  },
  {
   "cell_type": "markdown",
   "id": "10",
   "metadata": {
    "papermill": {
     "duration": 0.055083,
     "end_time": "2025-08-16T06:13:59.905167",
     "exception": false,
     "start_time": "2025-08-16T06:13:59.850084",
     "status": "completed"
    },
    "tags": []
   },
   "source": [
    "## Load previous data"
   ]
  },
  {
   "cell_type": "code",
   "execution_count": null,
   "id": "11",
   "metadata": {
    "papermill": {
     "duration": 0.41239,
     "end_time": "2025-08-16T06:14:00.376512",
     "exception": false,
     "start_time": "2025-08-16T06:13:59.964122",
     "status": "completed"
    },
    "tags": []
   },
   "outputs": [],
   "source": [
    "# Get latest file if exist\n",
    "tuple_cols = [\n",
    "    \"Effect type\",\n",
    "    \"Archseries\",\n",
    "    \"Artwork\",\n",
    "    \"Errata\",\n",
    "    \"Legend\",\n",
    "    \"Maximum mode\",\n",
    "]\n",
    "previous_df, previous_ts = load_latest_data(\"rush\", tuple_cols, return_ts=True)\n",
    "\n",
    "if previous_df is not None:\n",
    "    previous_df = previous_df.astype(rush_df[previous_df.columns.intersection(rush_df.columns)].dtypes.to_dict())"
   ]
  },
  {
   "cell_type": "markdown",
   "id": "12",
   "metadata": {
    "papermill": {
     "duration": 0.119548,
     "end_time": "2025-08-16T06:14:00.560052",
     "exception": false,
     "start_time": "2025-08-16T06:14:00.440504",
     "status": "completed"
    },
    "tags": []
   },
   "source": [
    "## Generate changelog"
   ]
  },
  {
   "cell_type": "code",
   "execution_count": null,
   "id": "13",
   "metadata": {
    "papermill": {
     "duration": 0.190078,
     "end_time": "2025-08-16T06:14:00.808384",
     "exception": false,
     "start_time": "2025-08-16T06:14:00.618306",
     "status": "completed"
    },
    "tags": []
   },
   "outputs": [],
   "source": [
    "if previous_df is None:\n",
    "    changelog = None\n",
    "    print(\"Skipped\")\n",
    "else:\n",
    "    changelog = generate_changelog(previous_df, rush_df, col=\"Name\")\n",
    "    if not changelog.empty:\n",
    "        display(changelog)\n",
    "        new_names = changelog.index.value_counts()\n",
    "        new_names = new_names[new_names == 1].index\n",
    "        if len(new_names) > 0:\n",
    "            print(\"New cards:\")\n",
    "            display(changelog.loc[new_names])\n",
    "        changelog.to_csv(\n",
    "            dirs.DATA / make_filename(report=\"rush\", timestamp=timestamp, previous_timestamp=previous_ts),\n",
    "            index=True,\n",
    "        )\n",
    "        print(\"Changelog saved\")"
   ]
  },
  {
   "cell_type": "markdown",
   "id": "14",
   "metadata": {
    "papermill": {
     "duration": 0.049294,
     "end_time": "2025-08-16T06:14:00.910215",
     "exception": false,
     "start_time": "2025-08-16T06:14:00.860921",
     "status": "completed"
    },
    "tags": []
   },
   "source": [
    "## Save data"
   ]
  },
  {
   "cell_type": "code",
   "execution_count": null,
   "id": "15",
   "metadata": {
    "papermill": {
     "duration": 0.190302,
     "end_time": "2025-08-16T06:14:01.158241",
     "exception": false,
     "start_time": "2025-08-16T06:14:00.967939",
     "status": "completed"
    },
    "tags": []
   },
   "outputs": [],
   "source": [
    "if changelog is not None and changelog.empty:\n",
    "    print(\"No changes. New data not saved\")\n",
    "else:\n",
    "    rush_df.to_csv(\n",
    "        dirs.DATA / make_filename(report=\"rush\", timestamp=timestamp),\n",
    "        index=False,\n",
    "    )\n",
    "    print(\"Data saved\")"
   ]
  },
  {
   "cell_type": "markdown",
   "id": "16",
   "metadata": {
    "papermill": {
     "duration": 0.048768,
     "end_time": "2025-08-16T06:14:01.261771",
     "exception": false,
     "start_time": "2025-08-16T06:14:01.213003",
     "status": "completed"
    },
    "tags": []
   },
   "source": [
    "# Data visualization"
   ]
  },
  {
   "cell_type": "code",
   "execution_count": null,
   "id": "17",
   "metadata": {
    "papermill": {
     "duration": 0.234086,
     "end_time": "2025-08-16T06:14:01.550368",
     "exception": false,
     "start_time": "2025-08-16T06:14:01.316282",
     "status": "completed"
    },
    "tags": []
   },
   "outputs": [],
   "source": [
    "rush_df"
   ]
  },
  {
   "cell_type": "markdown",
   "id": "18",
   "metadata": {
    "papermill": {
     "duration": 0.076701,
     "end_time": "2025-08-16T06:14:01.684836",
     "exception": false,
     "start_time": "2025-08-16T06:14:01.608135",
     "status": "completed"
    },
    "tags": []
   },
   "source": [
    "## Card type"
   ]
  },
  {
   "cell_type": "code",
   "execution_count": null,
   "id": "19",
   "metadata": {
    "papermill": {
     "duration": 0.071521,
     "end_time": "2025-08-16T06:14:01.814349",
     "exception": false,
     "start_time": "2025-08-16T06:14:01.742828",
     "status": "completed"
    },
    "tags": []
   },
   "outputs": [],
   "source": [
    "print(\"Total number of card types:\", rush_df[\"Card type\"].nunique())"
   ]
  },
  {
   "cell_type": "code",
   "execution_count": null,
   "id": "20",
   "metadata": {
    "papermill": {
     "duration": 0.235332,
     "end_time": "2025-08-16T06:14:02.108375",
     "exception": false,
     "start_time": "2025-08-16T06:14:01.873043",
     "status": "completed"
    },
    "tags": []
   },
   "outputs": [],
   "source": [
    "card_type_colors = [plot.colors_dict[i] for i in rush_df[\"Card type\"].value_counts().index]\n",
    "rush_df[\"Card type\"].value_counts().plot.bar(figsize=(14, 6), rot=0, color=card_type_colors)\n",
    "plt.show()"
   ]
  },
  {
   "cell_type": "markdown",
   "id": "21",
   "metadata": {
    "papermill": {
     "duration": 0.532161,
     "end_time": "2025-08-16T06:14:02.698297",
     "exception": false,
     "start_time": "2025-08-16T06:14:02.166136",
     "status": "completed"
    },
    "tags": []
   },
   "source": [
    "## Monsters"
   ]
  },
  {
   "cell_type": "markdown",
   "id": "22",
   "metadata": {
    "papermill": {
     "duration": 0.100948,
     "end_time": "2025-08-16T06:14:02.861224",
     "exception": false,
     "start_time": "2025-08-16T06:14:02.760276",
     "status": "completed"
    },
    "tags": []
   },
   "source": [
    "### Attribute"
   ]
  },
  {
   "cell_type": "code",
   "execution_count": null,
   "id": "23",
   "metadata": {
    "papermill": {
     "duration": 0.073685,
     "end_time": "2025-08-16T06:14:03.026907",
     "exception": false,
     "start_time": "2025-08-16T06:14:02.953222",
     "status": "completed"
    },
    "tags": []
   },
   "outputs": [],
   "source": [
    "print(\"Total number of attributes:\", rush_df[\"Attribute\"].nunique())"
   ]
  },
  {
   "cell_type": "code",
   "execution_count": null,
   "id": "24",
   "metadata": {
    "papermill": {
     "duration": 0.128279,
     "end_time": "2025-08-16T06:14:03.213768",
     "exception": false,
     "start_time": "2025-08-16T06:14:03.085489",
     "status": "completed"
    },
    "tags": []
   },
   "outputs": [],
   "source": [
    "rush_df.drop(columns=[\"Card type\"]).groupby(\"Attribute\").nunique()"
   ]
  },
  {
   "cell_type": "code",
   "execution_count": null,
   "id": "25",
   "metadata": {
    "papermill": {
     "duration": 0.295983,
     "end_time": "2025-08-16T06:14:03.568917",
     "exception": false,
     "start_time": "2025-08-16T06:14:03.272934",
     "status": "completed"
    },
    "tags": []
   },
   "outputs": [],
   "source": [
    "attribute_colors = [plot.colors_dict[i] for i in rush_df[\"Attribute\"].value_counts().index]\n",
    "rush_df[\"Attribute\"].value_counts().plot.bar(figsize=(16, 6), rot=0, color=attribute_colors)\n",
    "plt.show()"
   ]
  },
  {
   "cell_type": "markdown",
   "id": "26",
   "metadata": {
    "papermill": {
     "duration": 0.055174,
     "end_time": "2025-08-16T06:14:03.759733",
     "exception": false,
     "start_time": "2025-08-16T06:14:03.704559",
     "status": "completed"
    },
    "tags": []
   },
   "source": [
    "### Primary type"
   ]
  },
  {
   "cell_type": "code",
   "execution_count": null,
   "id": "27",
   "metadata": {
    "papermill": {
     "duration": 0.166995,
     "end_time": "2025-08-16T06:14:04.160110",
     "exception": false,
     "start_time": "2025-08-16T06:14:03.993115",
     "status": "completed"
    },
    "tags": []
   },
   "outputs": [],
   "source": [
    "print(\"Total number of primary types:\", rush_df[\"Primary type\"].nunique())"
   ]
  },
  {
   "cell_type": "code",
   "execution_count": null,
   "id": "28",
   "metadata": {
    "papermill": {
     "duration": 0.291522,
     "end_time": "2025-08-16T06:14:04.512060",
     "exception": false,
     "start_time": "2025-08-16T06:14:04.220538",
     "status": "completed"
    },
    "tags": []
   },
   "outputs": [],
   "source": [
    "rush_df.drop(columns=[\"Card type\"]).groupby(\"Primary type\").nunique()"
   ]
  },
  {
   "cell_type": "markdown",
   "id": "29",
   "metadata": {
    "papermill": {
     "duration": 0.055229,
     "end_time": "2025-08-16T06:14:04.626914",
     "exception": false,
     "start_time": "2025-08-16T06:14:04.571685",
     "status": "completed"
    },
    "tags": []
   },
   "source": [
    "#### Has effect discrimination"
   ]
  },
  {
   "cell_type": "code",
   "execution_count": null,
   "id": "30",
   "metadata": {
    "papermill": {
     "duration": 0.254498,
     "end_time": "2025-08-16T06:14:05.068406",
     "exception": false,
     "start_time": "2025-08-16T06:14:04.813908",
     "status": "completed"
    },
    "tags": []
   },
   "outputs": [],
   "source": [
    "has_effect = rush_df[\"Primary type\"].where(rush_df[\"Effect type\"].notna()).value_counts().rename(\"Effect\")\n",
    "no_effect = rush_df[\"Primary type\"].where(rush_df[\"Effect type\"].isna()).value_counts().rename(\"No Effect\")\n",
    "effect = pd.concat([has_effect, no_effect], axis=1).fillna(0).astype(int)\n",
    "effect"
   ]
  },
  {
   "cell_type": "code",
   "execution_count": null,
   "id": "31",
   "metadata": {
    "papermill": {
     "duration": 0.256787,
     "end_time": "2025-08-16T06:14:05.394893",
     "exception": false,
     "start_time": "2025-08-16T06:14:05.138106",
     "status": "completed"
    },
    "tags": []
   },
   "outputs": [],
   "source": [
    "monster_type_colors = {\n",
    "    \"No Effect\": plot.colors_dict[\"Normal Monster\"],\n",
    "    \"Effect\": [plot.colors_dict[i] for i in effect.index],\n",
    "}\n",
    "effect.plot.bar(\n",
    "    figsize=(12, 6),\n",
    "    stacked=True,\n",
    "    rot=0,\n",
    "    legend=True,\n",
    "    color=monster_type_colors,\n",
    "    title=\"Primary types - Has effect\",\n",
    ")\n",
    "# plt.yscale('log')\n",
    "plt.show()"
   ]
  },
  {
   "cell_type": "markdown",
   "id": "32",
   "metadata": {
    "papermill": {
     "duration": 0.275945,
     "end_time": "2025-08-16T06:14:05.734919",
     "exception": false,
     "start_time": "2025-08-16T06:14:05.458974",
     "status": "completed"
    },
    "tags": []
   },
   "source": [
    "Obs: Effect monster can show as no effect if it is not released yet"
   ]
  },
  {
   "cell_type": "markdown",
   "id": "33",
   "metadata": {
    "papermill": {
     "duration": 0.311264,
     "end_time": "2025-08-16T06:14:06.256634",
     "exception": false,
     "start_time": "2025-08-16T06:14:05.945370",
     "status": "completed"
    },
    "tags": []
   },
   "source": [
    "#### By attribute"
   ]
  },
  {
   "cell_type": "code",
   "execution_count": null,
   "id": "34",
   "metadata": {
    "papermill": {
     "duration": 0.241439,
     "end_time": "2025-08-16T06:14:06.972903",
     "exception": false,
     "start_time": "2025-08-16T06:14:06.731464",
     "status": "completed"
    },
    "tags": []
   },
   "outputs": [],
   "source": [
    "primmary_crosstab = pd.crosstab(rush_df[\"Primary type\"], rush_df[\"Attribute\"])\n",
    "primmary_crosstab"
   ]
  },
  {
   "cell_type": "code",
   "execution_count": null,
   "id": "35",
   "metadata": {
    "papermill": {
     "duration": 0.623687,
     "end_time": "2025-08-16T06:14:07.660680",
     "exception": false,
     "start_time": "2025-08-16T06:14:07.036993",
     "status": "completed"
    },
    "tags": []
   },
   "outputs": [],
   "source": [
    "plt.figure(figsize=(16, 6))\n",
    "sns.heatmap(\n",
    "    primmary_crosstab,\n",
    "    annot=True,\n",
    "    fmt=\"g\",\n",
    "    cmap=\"viridis\",\n",
    "    square=True,\n",
    "    norm=plot.LogNorm(),\n",
    ")\n",
    "plt.show()"
   ]
  },
  {
   "cell_type": "markdown",
   "id": "36",
   "metadata": {
    "papermill": {
     "duration": 0.082012,
     "end_time": "2025-08-16T06:14:07.809173",
     "exception": false,
     "start_time": "2025-08-16T06:14:07.727161",
     "status": "completed"
    },
    "tags": []
   },
   "source": [
    "### Monster type"
   ]
  },
  {
   "cell_type": "code",
   "execution_count": null,
   "id": "37",
   "metadata": {
    "papermill": {
     "duration": 0.078662,
     "end_time": "2025-08-16T06:14:07.958864",
     "exception": false,
     "start_time": "2025-08-16T06:14:07.880202",
     "status": "completed"
    },
    "tags": []
   },
   "outputs": [],
   "source": [
    "print(\"Total number of monster types:\", rush_df[\"Monster type\"].nunique())"
   ]
  },
  {
   "cell_type": "code",
   "execution_count": null,
   "id": "38",
   "metadata": {
    "papermill": {
     "duration": 0.123015,
     "end_time": "2025-08-16T06:14:08.156874",
     "exception": false,
     "start_time": "2025-08-16T06:14:08.033859",
     "status": "completed"
    },
    "tags": []
   },
   "outputs": [],
   "source": [
    "rush_df.drop(columns=[\"Card type\"]).groupby(\"Monster type\").nunique()"
   ]
  },
  {
   "cell_type": "code",
   "execution_count": null,
   "id": "39",
   "metadata": {
    "papermill": {
     "duration": 0.376271,
     "end_time": "2025-08-16T06:14:08.604241",
     "exception": false,
     "start_time": "2025-08-16T06:14:08.227970",
     "status": "completed"
    },
    "tags": []
   },
   "outputs": [],
   "source": [
    "monster_type_colors = plot.colors_dict[\"Monster Card\"]\n",
    "rush_df[\"Monster type\"].value_counts().plot.bar(figsize=(18, 6), rot=60, color=monster_type_colors)\n",
    "plt.show()"
   ]
  },
  {
   "cell_type": "markdown",
   "id": "40",
   "metadata": {
    "papermill": {
     "duration": 0.185582,
     "end_time": "2025-08-16T06:14:08.858551",
     "exception": false,
     "start_time": "2025-08-16T06:14:08.672969",
     "status": "completed"
    },
    "tags": []
   },
   "source": [
    "#### By Attribute"
   ]
  },
  {
   "cell_type": "code",
   "execution_count": null,
   "id": "41",
   "metadata": {
    "papermill": {
     "duration": 0.213921,
     "end_time": "2025-08-16T06:14:09.146335",
     "exception": false,
     "start_time": "2025-08-16T06:14:08.932414",
     "status": "completed"
    },
    "tags": []
   },
   "outputs": [],
   "source": [
    "monster_crosstab = pd.crosstab(rush_df[\"Monster type\"], rush_df[\"Attribute\"], dropna=False)\n",
    "monster_crosstab"
   ]
  },
  {
   "cell_type": "code",
   "execution_count": null,
   "id": "42",
   "metadata": {
    "papermill": {
     "duration": 1.332955,
     "end_time": "2025-08-16T06:14:10.586858",
     "exception": false,
     "start_time": "2025-08-16T06:14:09.253903",
     "status": "completed"
    },
    "tags": []
   },
   "outputs": [],
   "source": [
    "plt.figure(figsize=(18, 4))\n",
    "sns.heatmap(\n",
    "    monster_crosstab[monster_crosstab > 0].T,\n",
    "    annot=True,\n",
    "    fmt=\"g\",\n",
    "    cmap=\"viridis\",\n",
    "    square=True,\n",
    "    norm=plot.LogNorm(),\n",
    ")\n",
    "plt.show()"
   ]
  },
  {
   "cell_type": "markdown",
   "id": "43",
   "metadata": {
    "papermill": {
     "duration": 0.069173,
     "end_time": "2025-08-16T06:14:10.730921",
     "exception": false,
     "start_time": "2025-08-16T06:14:10.661748",
     "status": "completed"
    },
    "tags": []
   },
   "source": [
    "#### By primary type"
   ]
  },
  {
   "cell_type": "code",
   "execution_count": null,
   "id": "44",
   "metadata": {
    "papermill": {
     "duration": 0.102519,
     "end_time": "2025-08-16T06:14:10.910100",
     "exception": false,
     "start_time": "2025-08-16T06:14:10.807581",
     "status": "completed"
    },
    "tags": []
   },
   "outputs": [],
   "source": [
    "monster_crosstab_b = pd.crosstab(rush_df[\"Monster type\"], rush_df[\"Primary type\"], dropna=False)\n",
    "monster_crosstab_b"
   ]
  },
  {
   "cell_type": "code",
   "execution_count": null,
   "id": "45",
   "metadata": {
    "papermill": {
     "duration": 0.855419,
     "end_time": "2025-08-16T06:14:11.845399",
     "exception": false,
     "start_time": "2025-08-16T06:14:10.989980",
     "status": "completed"
    },
    "tags": []
   },
   "outputs": [],
   "source": [
    "plt.figure(figsize=(18, 3))\n",
    "sns.heatmap(\n",
    "    monster_crosstab_b[monster_crosstab_b > 0].T,\n",
    "    annot=True,\n",
    "    fmt=\"g\",\n",
    "    cmap=\"viridis\",\n",
    "    square=True,\n",
    "    norm=plot.LogNorm(),\n",
    ")\n",
    "plt.show()"
   ]
  },
  {
   "cell_type": "markdown",
   "id": "46",
   "metadata": {
    "papermill": {
     "duration": 0.076262,
     "end_time": "2025-08-16T06:14:12.009505",
     "exception": false,
     "start_time": "2025-08-16T06:14:11.933243",
     "status": "completed"
    },
    "tags": []
   },
   "source": [
    "### ATK"
   ]
  },
  {
   "cell_type": "code",
   "execution_count": null,
   "id": "47",
   "metadata": {
    "papermill": {
     "duration": 0.172021,
     "end_time": "2025-08-16T06:14:12.260680",
     "exception": false,
     "start_time": "2025-08-16T06:14:12.088659",
     "status": "completed"
    },
    "tags": []
   },
   "outputs": [],
   "source": [
    "print(\"Total number of ATK values:\", rush_df[\"ATK\"].nunique())"
   ]
  },
  {
   "cell_type": "code",
   "execution_count": null,
   "id": "48",
   "metadata": {
    "papermill": {
     "duration": 0.300507,
     "end_time": "2025-08-16T06:14:12.643654",
     "exception": false,
     "start_time": "2025-08-16T06:14:12.343147",
     "status": "completed"
    },
    "tags": []
   },
   "outputs": [],
   "source": [
    "rush_df.drop(columns=[\"Card type\"]).groupby(\"ATK\").nunique().sort_index(key=lambda x: pd.to_numeric(x, errors=\"coerce\"))"
   ]
  },
  {
   "cell_type": "code",
   "execution_count": null,
   "id": "49",
   "metadata": {
    "papermill": {
     "duration": 0.505554,
     "end_time": "2025-08-16T06:14:13.231734",
     "exception": false,
     "start_time": "2025-08-16T06:14:12.726180",
     "status": "completed"
    },
    "tags": []
   },
   "outputs": [],
   "source": [
    "atk_colors = plot.colors_dict[\"Monster Card\"]\n",
    "rush_df[\"DEF\"].value_counts().sort_index(key=lambda x: pd.to_numeric(x, errors=\"coerce\")).plot.bar(\n",
    "    figsize=(18, 6), color=atk_colors\n",
    ")\n",
    "plt.show()"
   ]
  },
  {
   "cell_type": "markdown",
   "id": "50",
   "metadata": {
    "papermill": {
     "duration": 0.323619,
     "end_time": "2025-08-16T06:14:13.641352",
     "exception": false,
     "start_time": "2025-08-16T06:14:13.317733",
     "status": "completed"
    },
    "tags": []
   },
   "source": [
    "### DEF"
   ]
  },
  {
   "cell_type": "code",
   "execution_count": null,
   "id": "51",
   "metadata": {
    "papermill": {
     "duration": 0.092704,
     "end_time": "2025-08-16T06:14:13.824302",
     "exception": false,
     "start_time": "2025-08-16T06:14:13.731598",
     "status": "completed"
    },
    "tags": []
   },
   "outputs": [],
   "source": [
    "print(\"Total number of DEF values:\", rush_df[\"DEF\"].nunique())"
   ]
  },
  {
   "cell_type": "code",
   "execution_count": null,
   "id": "52",
   "metadata": {
    "papermill": {
     "duration": 0.152104,
     "end_time": "2025-08-16T06:14:14.072205",
     "exception": false,
     "start_time": "2025-08-16T06:14:13.920101",
     "status": "completed"
    },
    "tags": []
   },
   "outputs": [],
   "source": [
    "rush_df.drop(columns=[\"Card type\"]).groupby(\"DEF\").nunique().sort_index(key=lambda x: pd.to_numeric(x, errors=\"coerce\"))"
   ]
  },
  {
   "cell_type": "code",
   "execution_count": null,
   "id": "53",
   "metadata": {
    "papermill": {
     "duration": 0.432477,
     "end_time": "2025-08-16T06:14:14.684078",
     "exception": false,
     "start_time": "2025-08-16T06:14:14.251601",
     "status": "completed"
    },
    "tags": []
   },
   "outputs": [],
   "source": [
    "def_colors = plot.colors_dict[\"Monster Card\"]\n",
    "rush_df[\"DEF\"].value_counts().sort_index(key=lambda x: pd.to_numeric(x, errors=\"coerce\")).plot.bar(\n",
    "    figsize=(18, 6), color=def_colors\n",
    ")\n",
    "plt.show()"
   ]
  },
  {
   "cell_type": "markdown",
   "id": "54",
   "metadata": {
    "papermill": {
     "duration": 0.316811,
     "end_time": "2025-08-16T06:14:15.227254",
     "exception": false,
     "start_time": "2025-08-16T06:14:14.910443",
     "status": "completed"
    },
    "tags": []
   },
   "source": [
    "### Maximum mode"
   ]
  },
  {
   "cell_type": "code",
   "execution_count": null,
   "id": "55",
   "metadata": {
    "papermill": {
     "duration": 0.228629,
     "end_time": "2025-08-16T06:14:15.552708",
     "exception": false,
     "start_time": "2025-08-16T06:14:15.324079",
     "status": "completed"
    },
    "tags": []
   },
   "outputs": [],
   "source": [
    "print(\"Total cards requiring maximum mode:\", rush_df[\"Maximum mode\"].sum())"
   ]
  },
  {
   "cell_type": "code",
   "execution_count": null,
   "id": "56",
   "metadata": {
    "papermill": {
     "duration": 0.459342,
     "end_time": "2025-08-16T06:14:16.101101",
     "exception": false,
     "start_time": "2025-08-16T06:14:15.641759",
     "status": "completed"
    },
    "tags": []
   },
   "outputs": [],
   "source": [
    "rush_df[rush_df[\"Maximum mode\"]]"
   ]
  },
  {
   "cell_type": "markdown",
   "id": "57",
   "metadata": {
    "papermill": {
     "duration": 0.280756,
     "end_time": "2025-08-16T06:14:16.471789",
     "exception": false,
     "start_time": "2025-08-16T06:14:16.191033",
     "status": "completed"
    },
    "tags": []
   },
   "source": [
    "#### MAXIMUM ATK"
   ]
  },
  {
   "cell_type": "code",
   "execution_count": null,
   "id": "58",
   "metadata": {
    "papermill": {
     "duration": 0.093935,
     "end_time": "2025-08-16T06:14:16.653371",
     "exception": false,
     "start_time": "2025-08-16T06:14:16.559436",
     "status": "completed"
    },
    "tags": []
   },
   "outputs": [],
   "source": [
    "print(\"Total number of MAXIMUM ATK values:\", rush_df[\"MAXIMUM ATK\"].nunique())"
   ]
  },
  {
   "cell_type": "code",
   "execution_count": null,
   "id": "59",
   "metadata": {
    "papermill": {
     "duration": 0.242248,
     "end_time": "2025-08-16T06:14:16.987890",
     "exception": false,
     "start_time": "2025-08-16T06:14:16.745642",
     "status": "completed"
    },
    "tags": []
   },
   "outputs": [],
   "source": [
    "def_colors = plot.colors_dict[\"Monster Card\"]\n",
    "rush_df[\"MAXIMUM ATK\"].value_counts().sort_index(key=lambda x: pd.to_numeric(x, errors=\"coerce\")).plot.bar(\n",
    "    figsize=(10, 6), color=def_colors\n",
    ")\n",
    "plt.show()"
   ]
  },
  {
   "cell_type": "markdown",
   "id": "60",
   "metadata": {
    "papermill": {
     "duration": 0.149357,
     "end_time": "2025-08-16T06:14:17.230918",
     "exception": false,
     "start_time": "2025-08-16T06:14:17.081561",
     "status": "completed"
    },
    "tags": []
   },
   "source": [
    "##### By ATK"
   ]
  },
  {
   "cell_type": "code",
   "execution_count": null,
   "id": "61",
   "metadata": {
    "papermill": {
     "duration": 0.114932,
     "end_time": "2025-08-16T06:14:17.439334",
     "exception": false,
     "start_time": "2025-08-16T06:14:17.324402",
     "status": "completed"
    },
    "tags": []
   },
   "outputs": [],
   "source": [
    "max_atk_crosstab = pd.crosstab(rush_df[\"ATK\"], rush_df[\"MAXIMUM ATK\"])\n",
    "max_atk_crosstab"
   ]
  },
  {
   "cell_type": "markdown",
   "id": "62",
   "metadata": {
    "papermill": {
     "duration": 0.085454,
     "end_time": "2025-08-16T06:14:17.617421",
     "exception": false,
     "start_time": "2025-08-16T06:14:17.531967",
     "status": "completed"
    },
    "tags": []
   },
   "source": [
    "##### By DEF"
   ]
  },
  {
   "cell_type": "code",
   "execution_count": null,
   "id": "63",
   "metadata": {
    "papermill": {
     "duration": 0.116687,
     "end_time": "2025-08-16T06:14:17.824654",
     "exception": false,
     "start_time": "2025-08-16T06:14:17.707967",
     "status": "completed"
    },
    "tags": []
   },
   "outputs": [],
   "source": [
    "max_def_crosstab = pd.crosstab(rush_df[\"DEF\"], rush_df[\"MAXIMUM ATK\"])\n",
    "max_def_crosstab"
   ]
  },
  {
   "cell_type": "markdown",
   "id": "64",
   "metadata": {
    "papermill": {
     "duration": 0.091982,
     "end_time": "2025-08-16T06:14:18.013090",
     "exception": false,
     "start_time": "2025-08-16T06:14:17.921108",
     "status": "completed"
    },
    "tags": []
   },
   "source": [
    "### Level"
   ]
  },
  {
   "cell_type": "code",
   "execution_count": null,
   "id": "65",
   "metadata": {
    "papermill": {
     "duration": 0.141792,
     "end_time": "2025-08-16T06:14:18.247654",
     "exception": false,
     "start_time": "2025-08-16T06:14:18.105862",
     "status": "completed"
    },
    "tags": []
   },
   "outputs": [],
   "source": [
    "rush_df.drop(columns=[\"Card type\"]).groupby(\"Level\").nunique().sort_index(key=lambda x: pd.to_numeric(x, errors=\"coerce\"))"
   ]
  },
  {
   "cell_type": "code",
   "execution_count": null,
   "id": "66",
   "metadata": {
    "papermill": {
     "duration": 0.264754,
     "end_time": "2025-08-16T06:14:18.605786",
     "exception": false,
     "start_time": "2025-08-16T06:14:18.341032",
     "status": "completed"
    },
    "tags": []
   },
   "outputs": [],
   "source": [
    "stars_colors = plot.colors_dict[\"Level\"]\n",
    "rush_df[\"Level\"].value_counts().sort_index(key=lambda x: pd.to_numeric(x, errors=\"coerce\")).plot.bar(\n",
    "    figsize=(16, 6), rot=0, color=stars_colors\n",
    ")\n",
    "plt.show()"
   ]
  },
  {
   "cell_type": "markdown",
   "id": "67",
   "metadata": {
    "papermill": {
     "duration": 0.112803,
     "end_time": "2025-08-16T06:14:18.812757",
     "exception": false,
     "start_time": "2025-08-16T06:14:18.699954",
     "status": "completed"
    },
    "tags": []
   },
   "source": [
    "#### ATK statistics"
   ]
  },
  {
   "cell_type": "code",
   "execution_count": null,
   "id": "68",
   "metadata": {
    "papermill": {
     "duration": 0.166971,
     "end_time": "2025-08-16T06:14:19.076305",
     "exception": false,
     "start_time": "2025-08-16T06:14:18.909334",
     "status": "completed"
    },
    "tags": []
   },
   "outputs": [],
   "source": [
    "rush_df[[\"Level\", \"ATK\"]].apply(pd.to_numeric, errors=\"coerce\").dropna().astype(int).groupby(\"Level\").describe().round(1)"
   ]
  },
  {
   "cell_type": "markdown",
   "id": "69",
   "metadata": {
    "papermill": {
     "duration": 0.08933,
     "end_time": "2025-08-16T06:14:19.257540",
     "exception": false,
     "start_time": "2025-08-16T06:14:19.168210",
     "status": "completed"
    },
    "tags": []
   },
   "source": [
    "#### DEF statistics"
   ]
  },
  {
   "cell_type": "code",
   "execution_count": null,
   "id": "70",
   "metadata": {
    "papermill": {
     "duration": 0.158659,
     "end_time": "2025-08-16T06:14:19.510185",
     "exception": false,
     "start_time": "2025-08-16T06:14:19.351526",
     "status": "completed"
    },
    "tags": []
   },
   "outputs": [],
   "source": [
    "rush_df[[\"Level\", \"DEF\"]].apply(pd.to_numeric, errors=\"coerce\").dropna().astype(int).groupby(\"Level\").describe().round(1)"
   ]
  },
  {
   "cell_type": "markdown",
   "id": "71",
   "metadata": {
    "papermill": {
     "duration": 0.115952,
     "end_time": "2025-08-16T06:14:19.738509",
     "exception": false,
     "start_time": "2025-08-16T06:14:19.622557",
     "status": "completed"
    },
    "tags": []
   },
   "source": [
    "## Spell & Trap"
   ]
  },
  {
   "cell_type": "markdown",
   "id": "72",
   "metadata": {
    "papermill": {
     "duration": 0.160927,
     "end_time": "2025-08-16T06:14:20.030781",
     "exception": false,
     "start_time": "2025-08-16T06:14:19.869854",
     "status": "completed"
    },
    "tags": []
   },
   "source": [
    "### Properties"
   ]
  },
  {
   "cell_type": "code",
   "execution_count": null,
   "id": "73",
   "metadata": {
    "papermill": {
     "duration": 0.149523,
     "end_time": "2025-08-16T06:14:20.286342",
     "exception": false,
     "start_time": "2025-08-16T06:14:20.136819",
     "status": "completed"
    },
    "tags": []
   },
   "outputs": [],
   "source": [
    "print(\"Total number of properties:\", rush_df[\"Property\"].nunique())"
   ]
  },
  {
   "cell_type": "code",
   "execution_count": null,
   "id": "74",
   "metadata": {
    "papermill": {
     "duration": 0.47886,
     "end_time": "2025-08-16T06:14:21.250473",
     "exception": false,
     "start_time": "2025-08-16T06:14:20.771613",
     "status": "completed"
    },
    "tags": []
   },
   "outputs": [],
   "source": [
    "rush_df.drop(columns=[\"Card type\"]).groupby(\"Property\").nunique()"
   ]
  },
  {
   "cell_type": "code",
   "execution_count": null,
   "id": "75",
   "metadata": {
    "papermill": {
     "duration": 0.3676,
     "end_time": "2025-08-16T06:14:22.070158",
     "exception": false,
     "start_time": "2025-08-16T06:14:21.702558",
     "status": "completed"
    },
    "tags": []
   },
   "outputs": [],
   "source": [
    "st_colors = [plot.colors_dict[i] for i in rush_df[[\"Card type\", \"Property\"]].value_counts().index.get_level_values(0)]\n",
    "rush_df[\"Property\"].value_counts().plot.bar(figsize=(10, 6), rot=0, color=st_colors)\n",
    "plt.show()"
   ]
  },
  {
   "cell_type": "markdown",
   "id": "76",
   "metadata": {
    "papermill": {
     "duration": 0.571231,
     "end_time": "2025-08-16T06:14:23.208741",
     "exception": false,
     "start_time": "2025-08-16T06:14:22.637510",
     "status": "completed"
    },
    "tags": []
   },
   "source": [
    "## Effect type"
   ]
  },
  {
   "cell_type": "code",
   "execution_count": null,
   "id": "77",
   "metadata": {
    "papermill": {
     "duration": 0.111523,
     "end_time": "2025-08-16T06:14:23.742152",
     "exception": false,
     "start_time": "2025-08-16T06:14:23.630629",
     "status": "completed"
    },
    "tags": []
   },
   "outputs": [],
   "source": [
    "print(\"Total number of effect types:\", rush_df[\"Effect type\"].explode().nunique())"
   ]
  },
  {
   "cell_type": "code",
   "execution_count": null,
   "id": "78",
   "metadata": {
    "papermill": {
     "duration": 0.162489,
     "end_time": "2025-08-16T06:14:24.028951",
     "exception": false,
     "start_time": "2025-08-16T06:14:23.866462",
     "status": "completed"
    },
    "tags": []
   },
   "outputs": [],
   "source": [
    "rush_df.explode(\"Effect type\").groupby(\"Effect type\").nunique()"
   ]
  },
  {
   "cell_type": "markdown",
   "id": "79",
   "metadata": {
    "papermill": {
     "duration": 0.090718,
     "end_time": "2025-08-16T06:14:24.214907",
     "exception": false,
     "start_time": "2025-08-16T06:14:24.124189",
     "status": "completed"
    },
    "tags": []
   },
   "source": [
    "### Card type discrimination"
   ]
  },
  {
   "cell_type": "code",
   "execution_count": null,
   "id": "80",
   "metadata": {
    "papermill": {
     "duration": 0.12178,
     "end_time": "2025-08-16T06:14:24.606866",
     "exception": false,
     "start_time": "2025-08-16T06:14:24.485086",
     "status": "completed"
    },
    "tags": []
   },
   "outputs": [],
   "source": [
    "type_diff = rush_df[[\"Card type\", \"Effect type\"]].explode(\"Effect type\").value_counts().unstack(0).fillna(0).astype(int)\n",
    "type_diff"
   ]
  },
  {
   "cell_type": "code",
   "execution_count": null,
   "id": "81",
   "metadata": {
    "papermill": {
     "duration": 0.50002,
     "end_time": "2025-08-16T06:14:25.203053",
     "exception": false,
     "start_time": "2025-08-16T06:14:24.703033",
     "status": "completed"
    },
    "tags": []
   },
   "outputs": [],
   "source": [
    "type_diff_colors = {type: plot.colors_dict[type] for type in rush_df[\"Card type\"].unique()}\n",
    "type_diff.plot.bar(figsize=(10, 6), stacked=True, rot=0, color=type_diff_colors)\n",
    "plt.show()"
   ]
  },
  {
   "cell_type": "markdown",
   "id": "82",
   "metadata": {
    "papermill": {
     "duration": 0.215278,
     "end_time": "2025-08-16T06:14:25.516950",
     "exception": false,
     "start_time": "2025-08-16T06:14:25.301672",
     "status": "completed"
    },
    "tags": []
   },
   "source": [
    "## Archseries"
   ]
  },
  {
   "cell_type": "code",
   "execution_count": null,
   "id": "83",
   "metadata": {
    "papermill": {
     "duration": 0.16184,
     "end_time": "2025-08-16T06:14:25.780695",
     "exception": false,
     "start_time": "2025-08-16T06:14:25.618855",
     "status": "completed"
    },
    "tags": []
   },
   "outputs": [],
   "source": [
    "exploded_archseries = rush_df.explode(\"Archseries\")\n",
    "print(\"Total number of Archseries:\", exploded_archseries[\"Archseries\"].nunique())"
   ]
  },
  {
   "cell_type": "code",
   "execution_count": null,
   "id": "84",
   "metadata": {
    "papermill": {
     "duration": 0.145259,
     "end_time": "2025-08-16T06:14:26.025387",
     "exception": false,
     "start_time": "2025-08-16T06:14:25.880128",
     "status": "completed"
    },
    "tags": []
   },
   "outputs": [],
   "source": [
    "exploded_archseries.groupby(\"Archseries\").nunique()"
   ]
  },
  {
   "cell_type": "code",
   "execution_count": null,
   "id": "85",
   "metadata": {
    "papermill": {
     "duration": 0.494494,
     "end_time": "2025-08-16T06:14:26.739781",
     "exception": false,
     "start_time": "2025-08-16T06:14:26.245287",
     "status": "completed"
    },
    "tags": []
   },
   "outputs": [],
   "source": [
    "exploded_archseries[\"Archseries\"].value_counts().head(30).plot.barh(figsize=(10, 15), title=\"Top 30 Archtypes/Series\")\n",
    "plt.show()"
   ]
  },
  {
   "cell_type": "markdown",
   "id": "86",
   "metadata": {
    "papermill": {
     "duration": 0.336148,
     "end_time": "2025-08-16T06:14:27.235774",
     "exception": false,
     "start_time": "2025-08-16T06:14:26.899626",
     "status": "completed"
    },
    "tags": []
   },
   "source": [
    "### By card type"
   ]
  },
  {
   "cell_type": "code",
   "execution_count": null,
   "id": "87",
   "metadata": {
    "papermill": {
     "duration": 0.180898,
     "end_time": "2025-08-16T06:14:27.658946",
     "exception": false,
     "start_time": "2025-08-16T06:14:27.478048",
     "status": "completed"
    },
    "tags": []
   },
   "outputs": [],
   "source": [
    "archseries_crosstab = pd.crosstab(exploded_archseries[\"Archseries\"], exploded_archseries[\"Card type\"], margins=True)\n",
    "archseries_crosstab"
   ]
  },
  {
   "cell_type": "markdown",
   "id": "88",
   "metadata": {
    "papermill": {
     "duration": 0.248629,
     "end_time": "2025-08-16T06:14:28.294739",
     "exception": false,
     "start_time": "2025-08-16T06:14:28.046110",
     "status": "completed"
    },
    "tags": []
   },
   "source": [
    "### By primary type"
   ]
  },
  {
   "cell_type": "code",
   "execution_count": null,
   "id": "89",
   "metadata": {
    "papermill": {
     "duration": 0.153823,
     "end_time": "2025-08-16T06:14:28.630391",
     "exception": false,
     "start_time": "2025-08-16T06:14:28.476568",
     "status": "completed"
    },
    "tags": []
   },
   "outputs": [],
   "source": [
    "archseries_crosstab_b = pd.crosstab(exploded_archseries[\"Archseries\"], exploded_archseries[\"Primary type\"], margins=True)\n",
    "archseries_crosstab_b"
   ]
  },
  {
   "cell_type": "markdown",
   "id": "90",
   "metadata": {
    "papermill": {
     "duration": 0.097106,
     "end_time": "2025-08-16T06:14:28.839995",
     "exception": false,
     "start_time": "2025-08-16T06:14:28.742889",
     "status": "completed"
    },
    "tags": []
   },
   "source": [
    "### By monster type"
   ]
  },
  {
   "cell_type": "code",
   "execution_count": null,
   "id": "91",
   "metadata": {
    "papermill": {
     "duration": 0.212858,
     "end_time": "2025-08-16T06:14:29.158401",
     "exception": false,
     "start_time": "2025-08-16T06:14:28.945543",
     "status": "completed"
    },
    "tags": []
   },
   "outputs": [],
   "source": [
    "archseries_crosstab_d = pd.crosstab(exploded_archseries[\"Archseries\"], exploded_archseries[\"Monster type\"], margins=True)\n",
    "archseries_crosstab_d"
   ]
  },
  {
   "cell_type": "markdown",
   "id": "92",
   "metadata": {
    "papermill": {
     "duration": 0.104614,
     "end_time": "2025-08-16T06:14:29.801618",
     "exception": false,
     "start_time": "2025-08-16T06:14:29.697004",
     "status": "completed"
    },
    "tags": []
   },
   "source": [
    "### By property"
   ]
  },
  {
   "cell_type": "code",
   "execution_count": null,
   "id": "93",
   "metadata": {
    "papermill": {
     "duration": 0.206713,
     "end_time": "2025-08-16T06:14:30.217001",
     "exception": false,
     "start_time": "2025-08-16T06:14:30.010288",
     "status": "completed"
    },
    "tags": []
   },
   "outputs": [],
   "source": [
    "archseries_crosstab_e = pd.crosstab(exploded_archseries[\"Archseries\"], exploded_archseries[\"Property\"], margins=True)\n",
    "archseries_crosstab_e"
   ]
  },
  {
   "cell_type": "markdown",
   "id": "94",
   "metadata": {
    "papermill": {
     "duration": 0.101229,
     "end_time": "2025-08-16T06:14:30.433705",
     "exception": false,
     "start_time": "2025-08-16T06:14:30.332476",
     "status": "completed"
    },
    "tags": []
   },
   "source": [
    "## Legend"
   ]
  },
  {
   "cell_type": "code",
   "execution_count": null,
   "id": "95",
   "metadata": {
    "papermill": {
     "duration": 0.113437,
     "end_time": "2025-08-16T06:14:30.655568",
     "exception": false,
     "start_time": "2025-08-16T06:14:30.542131",
     "status": "completed"
    },
    "tags": []
   },
   "outputs": [],
   "source": [
    "print(\"Total number of Legend cards\", rush_df[\"Legend\"].sum())"
   ]
  },
  {
   "cell_type": "code",
   "execution_count": null,
   "id": "96",
   "metadata": {
    "papermill": {
     "duration": 0.190028,
     "end_time": "2025-08-16T06:14:30.961349",
     "exception": false,
     "start_time": "2025-08-16T06:14:30.771321",
     "status": "completed"
    },
    "tags": []
   },
   "outputs": [],
   "source": [
    "rush_df[rush_df[\"Legend\"]]"
   ]
  },
  {
   "cell_type": "markdown",
   "id": "97",
   "metadata": {
    "papermill": {
     "duration": 0.102554,
     "end_time": "2025-08-16T06:14:31.173460",
     "exception": false,
     "start_time": "2025-08-16T06:14:31.070906",
     "status": "completed"
    },
    "tags": []
   },
   "source": [
    "#### By card type"
   ]
  },
  {
   "cell_type": "code",
   "execution_count": null,
   "id": "98",
   "metadata": {
    "papermill": {
     "duration": 0.227698,
     "end_time": "2025-08-16T06:14:31.513014",
     "exception": false,
     "start_time": "2025-08-16T06:14:31.285316",
     "status": "completed"
    },
    "tags": []
   },
   "outputs": [],
   "source": [
    "card_type_colors = [plot.colors_dict[i] for i in rush_df[rush_df[\"Legend\"]][\"Card type\"].value_counts().index]\n",
    "rush_df[rush_df[\"Legend\"]][\"Card type\"].value_counts().plot.bar(figsize=(10, 6), rot=0, color=card_type_colors)\n",
    "plt.show()"
   ]
  },
  {
   "cell_type": "markdown",
   "id": "99",
   "metadata": {
    "papermill": {
     "duration": 0.101904,
     "end_time": "2025-08-16T06:14:31.722710",
     "exception": false,
     "start_time": "2025-08-16T06:14:31.620806",
     "status": "completed"
    },
    "tags": []
   },
   "source": [
    "#### By Attribute"
   ]
  },
  {
   "cell_type": "code",
   "execution_count": null,
   "id": "100",
   "metadata": {
    "papermill": {
     "duration": 0.255313,
     "end_time": "2025-08-16T06:14:32.090095",
     "exception": false,
     "start_time": "2025-08-16T06:14:31.834782",
     "status": "completed"
    },
    "tags": []
   },
   "outputs": [],
   "source": [
    "attribute_colors = [plot.colors_dict[i] for i in rush_df[rush_df[\"Legend\"]][\"Attribute\"].value_counts().index]\n",
    "rush_df[rush_df[\"Legend\"]][\"Attribute\"].value_counts().plot.bar(figsize=(12, 6), rot=0, color=attribute_colors)\n",
    "plt.show()"
   ]
  },
  {
   "cell_type": "markdown",
   "id": "101",
   "metadata": {
    "papermill": {
     "duration": 0.112582,
     "end_time": "2025-08-16T06:14:32.313129",
     "exception": false,
     "start_time": "2025-08-16T06:14:32.200547",
     "status": "completed"
    },
    "tags": []
   },
   "source": [
    "#### By primary type"
   ]
  },
  {
   "cell_type": "code",
   "execution_count": null,
   "id": "102",
   "metadata": {
    "papermill": {
     "duration": 0.554943,
     "end_time": "2025-08-16T06:14:32.977392",
     "exception": false,
     "start_time": "2025-08-16T06:14:32.422449",
     "status": "completed"
    },
    "tags": []
   },
   "outputs": [],
   "source": [
    "monster_type_colors = [plot.colors_dict[i] for i in rush_df[rush_df[\"Legend\"]][\"Primary type\"].value_counts().index]\n",
    "rush_df[rush_df[\"Legend\"]][\"Primary type\"].value_counts().plot.bar(\n",
    "    figsize=(10, 6),\n",
    "    stacked=True,\n",
    "    rot=0,\n",
    "    legend=True,\n",
    "    color=monster_type_colors,\n",
    ")\n",
    "# plt.yscale('log')\n",
    "plt.show()"
   ]
  },
  {
   "cell_type": "markdown",
   "id": "103",
   "metadata": {
    "papermill": {
     "duration": 0.226985,
     "end_time": "2025-08-16T06:14:33.313901",
     "exception": false,
     "start_time": "2025-08-16T06:14:33.086916",
     "status": "completed"
    },
    "tags": []
   },
   "source": [
    "#### By monster type"
   ]
  },
  {
   "cell_type": "code",
   "execution_count": null,
   "id": "104",
   "metadata": {
    "papermill": {
     "duration": 0.848648,
     "end_time": "2025-08-16T06:14:34.279206",
     "exception": false,
     "start_time": "2025-08-16T06:14:33.430558",
     "status": "completed"
    },
    "tags": []
   },
   "outputs": [],
   "source": [
    "monster_type_colors = plot.colors_dict[\"Monster Card\"]\n",
    "rush_df[rush_df[\"Legend\"]][\"Monster type\"].value_counts().plot.bar(figsize=(16, 6), rot=90, color=monster_type_colors)\n",
    "plt.show()"
   ]
  },
  {
   "cell_type": "markdown",
   "id": "105",
   "metadata": {
    "papermill": {
     "duration": 0.120644,
     "end_time": "2025-08-16T06:14:34.516290",
     "exception": false,
     "start_time": "2025-08-16T06:14:34.395646",
     "status": "completed"
    },
    "tags": []
   },
   "source": [
    "## Artworks"
   ]
  },
  {
   "cell_type": "code",
   "execution_count": null,
   "id": "106",
   "metadata": {
    "papermill": {
     "duration": 0.125349,
     "end_time": "2025-08-16T06:14:34.968246",
     "exception": false,
     "start_time": "2025-08-16T06:14:34.842897",
     "status": "completed"
    },
    "tags": []
   },
   "outputs": [],
   "source": [
    "print(\n",
    "    \"Total number of cards with edited or alternate artworks:\",\n",
    "    rush_df[\"Artwork\"].count(),\n",
    ")"
   ]
  },
  {
   "cell_type": "code",
   "execution_count": null,
   "id": "107",
   "metadata": {
    "papermill": {
     "duration": 0.161932,
     "end_time": "2025-08-16T06:14:35.281503",
     "exception": false,
     "start_time": "2025-08-16T06:14:35.119571",
     "status": "completed"
    },
    "tags": []
   },
   "outputs": [],
   "source": [
    "rush_df[[\"Name\", \"Artwork\"]].dropna()"
   ]
  },
  {
   "cell_type": "code",
   "execution_count": null,
   "id": "108",
   "metadata": {
    "papermill": {
     "duration": 0.318551,
     "end_time": "2025-08-16T06:14:35.722486",
     "exception": false,
     "start_time": "2025-08-16T06:14:35.403935",
     "status": "completed"
    },
    "tags": []
   },
   "outputs": [],
   "source": [
    "artwork_value_counts = rush_df[\"Artwork\"].value_counts()\n",
    "plt.figure(figsize=(20, 8))\n",
    "plt.title(\"Artworks\")\n",
    "plot.venn2(\n",
    "    subsets=(\n",
    "        artwork_value_counts[(\"Alternate\",)],\n",
    "        artwork_value_counts[(\"Edited\",)],\n",
    "        artwork_value_counts[(\"Alternate\", \"Edited\")],\n",
    "    ),\n",
    "    set_labels=(\"Alternate artwork\", \"Edited artwork\"),\n",
    ")\n",
    "plt.show()"
   ]
  },
  {
   "cell_type": "markdown",
   "id": "109",
   "metadata": {
    "papermill": {
     "duration": 0.343857,
     "end_time": "2025-08-16T06:14:36.177757",
     "exception": false,
     "start_time": "2025-08-16T06:14:35.833900",
     "status": "completed"
    },
    "tags": []
   },
   "source": [
    "### By card type"
   ]
  },
  {
   "cell_type": "code",
   "execution_count": null,
   "id": "110",
   "metadata": {
    "papermill": {
     "duration": 0.357537,
     "end_time": "2025-08-16T06:14:36.648127",
     "exception": false,
     "start_time": "2025-08-16T06:14:36.290590",
     "status": "completed"
    },
    "tags": []
   },
   "outputs": [],
   "source": [
    "artwork_crosstab = pd.crosstab(rush_df[\"Artwork\"], rush_df[\"Card type\"])\n",
    "artwork_crosstab"
   ]
  },
  {
   "cell_type": "markdown",
   "id": "111",
   "metadata": {
    "papermill": {
     "duration": 0.109234,
     "end_time": "2025-08-16T06:14:36.870288",
     "exception": false,
     "start_time": "2025-08-16T06:14:36.761054",
     "status": "completed"
    },
    "tags": []
   },
   "source": [
    "### By primary type"
   ]
  },
  {
   "cell_type": "code",
   "execution_count": null,
   "id": "112",
   "metadata": {
    "papermill": {
     "duration": 0.142355,
     "end_time": "2025-08-16T06:14:37.127448",
     "exception": false,
     "start_time": "2025-08-16T06:14:36.985093",
     "status": "completed"
    },
    "tags": []
   },
   "outputs": [],
   "source": [
    "artwork_crosstab_b = pd.crosstab(rush_df[\"Artwork\"], rush_df[\"Primary type\"])\n",
    "artwork_crosstab_b"
   ]
  },
  {
   "cell_type": "markdown",
   "id": "113",
   "metadata": {
    "papermill": {
     "duration": 0.1268,
     "end_time": "2025-08-16T06:14:37.371634",
     "exception": false,
     "start_time": "2025-08-16T06:14:37.244834",
     "status": "completed"
    },
    "tags": []
   },
   "source": [
    "More granularity is unnecessary"
   ]
  },
  {
   "cell_type": "markdown",
   "id": "114",
   "metadata": {
    "papermill": {
     "duration": 0.108441,
     "end_time": "2025-08-16T06:14:37.772885",
     "exception": false,
     "start_time": "2025-08-16T06:14:37.664444",
     "status": "completed"
    },
    "tags": []
   },
   "source": [
    "## Errata"
   ]
  },
  {
   "cell_type": "code",
   "execution_count": null,
   "id": "115",
   "metadata": {
    "papermill": {
     "duration": 0.126236,
     "end_time": "2025-08-16T06:14:38.017023",
     "exception": false,
     "start_time": "2025-08-16T06:14:37.890787",
     "status": "completed"
    },
    "tags": []
   },
   "outputs": [],
   "source": [
    "print(\"Total number of cards with errata:\", rush_df[\"Errata\"].count())"
   ]
  },
  {
   "cell_type": "code",
   "execution_count": null,
   "id": "116",
   "metadata": {
    "papermill": {
     "duration": 0.182641,
     "end_time": "2025-08-16T06:14:38.318817",
     "exception": false,
     "start_time": "2025-08-16T06:14:38.136176",
     "status": "completed"
    },
    "tags": []
   },
   "outputs": [],
   "source": [
    "rush_df[[\"Name\", \"Errata\"]].dropna()"
   ]
  },
  {
   "cell_type": "markdown",
   "id": "117",
   "metadata": {
    "papermill": {
     "duration": 0.111973,
     "end_time": "2025-08-16T06:14:38.545976",
     "exception": false,
     "start_time": "2025-08-16T06:14:38.434003",
     "status": "completed"
    },
    "tags": []
   },
   "source": [
    "### By card type"
   ]
  },
  {
   "cell_type": "code",
   "execution_count": null,
   "id": "118",
   "metadata": {
    "papermill": {
     "duration": 0.141722,
     "end_time": "2025-08-16T06:14:38.802192",
     "exception": false,
     "start_time": "2025-08-16T06:14:38.660470",
     "status": "completed"
    },
    "tags": []
   },
   "outputs": [],
   "source": [
    "errata_crosstab = pd.crosstab(rush_df[\"Errata\"], rush_df[\"Card type\"])\n",
    "errata_crosstab"
   ]
  },
  {
   "cell_type": "markdown",
   "id": "119",
   "metadata": {
    "papermill": {
     "duration": 0.115444,
     "end_time": "2025-08-16T06:14:39.035577",
     "exception": false,
     "start_time": "2025-08-16T06:14:38.920133",
     "status": "completed"
    },
    "tags": []
   },
   "source": [
    "### By primary type"
   ]
  },
  {
   "cell_type": "code",
   "execution_count": null,
   "id": "120",
   "metadata": {
    "papermill": {
     "duration": 0.167643,
     "end_time": "2025-08-16T06:14:39.321519",
     "exception": false,
     "start_time": "2025-08-16T06:14:39.153876",
     "status": "completed"
    },
    "tags": []
   },
   "outputs": [],
   "source": [
    "errata_crosstab_b = pd.crosstab(rush_df[\"Errata\"], rush_df[\"Primary type\"])\n",
    "errata_crosstab_b"
   ]
  },
  {
   "cell_type": "markdown",
   "id": "121",
   "metadata": {
    "papermill": {
     "duration": 0.132577,
     "end_time": "2025-08-16T06:14:39.593091",
     "exception": false,
     "start_time": "2025-08-16T06:14:39.460514",
     "status": "completed"
    },
    "tags": []
   },
   "source": [
    "### By artwork"
   ]
  },
  {
   "cell_type": "code",
   "execution_count": null,
   "id": "122",
   "metadata": {
    "papermill": {
     "duration": 0.226226,
     "end_time": "2025-08-16T06:14:39.982943",
     "exception": false,
     "start_time": "2025-08-16T06:14:39.756717",
     "status": "completed"
    },
    "tags": []
   },
   "outputs": [],
   "source": [
    "errata_crosstab_c = pd.crosstab(rush_df[\"Artwork\"], rush_df[\"Errata\"])\n",
    "errata_crosstab_c"
   ]
  },
  {
   "cell_type": "markdown",
   "id": "123",
   "metadata": {
    "papermill": {
     "duration": 0.503109,
     "end_time": "2025-08-16T06:14:40.740839",
     "exception": false,
     "start_time": "2025-08-16T06:14:40.237730",
     "status": "completed"
    },
    "tags": []
   },
   "source": [
    "More granularity is unnecessary"
   ]
  },
  {
   "cell_type": "markdown",
   "id": "124",
   "metadata": {
    "papermill": {
     "duration": 0.513032,
     "end_time": "2025-08-16T06:14:41.945280",
     "exception": false,
     "start_time": "2025-08-16T06:14:41.432248",
     "status": "completed"
    },
    "tags": []
   },
   "source": [
    "# Epilogue"
   ]
  },
  {
   "cell_type": "code",
   "execution_count": null,
   "id": "125",
   "metadata": {
    "papermill": {
     "duration": 0.644396,
     "end_time": "2025-08-16T06:14:43.049841",
     "exception": false,
     "start_time": "2025-08-16T06:14:42.405445",
     "status": "completed"
    },
    "tags": []
   },
   "outputs": [],
   "source": [
    "benchmark(report=\"rush\", timestamp=timestamp)"
   ]
  },
  {
   "cell_type": "code",
   "execution_count": null,
   "id": "126",
   "metadata": {
    "papermill": {
     "duration": 0.383641,
     "end_time": "2025-08-16T06:14:43.550368",
     "exception": false,
     "start_time": "2025-08-16T06:14:43.166727",
     "status": "completed"
    },
    "tags": []
   },
   "outputs": [],
   "source": [
    "footer(timestamp)"
   ]
  },
  {
   "cell_type": "markdown",
   "id": "127",
   "metadata": {
    "papermill": {
     "duration": 0.114101,
     "end_time": "2025-08-16T06:14:43.784118",
     "exception": false,
     "start_time": "2025-08-16T06:14:43.670017",
     "status": "completed"
    },
    "tags": []
   },
   "source": [
    "## HTML export"
   ]
  },
  {
   "cell_type": "code",
   "execution_count": null,
   "id": "128",
   "metadata": {
    "papermill": {
     "duration": 0.231505,
     "end_time": "2025-08-16T06:14:44.329045",
     "exception": false,
     "start_time": "2025-08-16T06:14:44.097540",
     "status": "completed"
    },
    "tags": []
   },
   "outputs": [],
   "source": [
    "# Save notebook on disck before generating HTML report\n",
    "save_notebook()"
   ]
  },
  {
   "cell_type": "code",
   "execution_count": null,
   "id": "129",
   "metadata": {
    "papermill": {
     "duration": 1.797288,
     "end_time": "2025-08-16T06:14:46.243306",
     "exception": false,
     "start_time": "2025-08-16T06:14:44.446018",
     "status": "completed"
    },
    "tags": []
   },
   "outputs": [],
   "source": [
    "export_notebook(dirs.NOTEBOOKS.user / \"Rush.ipynb\")"
   ]
  },
  {
   "cell_type": "markdown",
   "id": "130",
   "metadata": {
    "papermill": {
     "duration": 0.132351,
     "end_time": "2025-08-16T06:14:46.500866",
     "exception": false,
     "start_time": "2025-08-16T06:14:46.368515",
     "status": "completed"
    },
    "tags": [
     "exclude"
    ]
   },
   "source": [
    "## Git"
   ]
  },
  {
   "cell_type": "code",
   "execution_count": null,
   "id": "131",
   "metadata": {
    "papermill": {
     "duration": null,
     "end_time": null,
     "exception": false,
     "start_time": "2025-08-16T06:14:46.618331",
     "status": "running"
    },
    "tags": [
     "exclude"
    ]
   },
   "outputs": [],
   "source": [
    "git.commit(\"*[Rr]ush*\", f\"Rush duel update - {timestamp.isoformat()}\")"
   ]
  }
 ],
 "metadata": {
  "kernelspec": {
   "display_name": "Python3 (YugiQuery)",
   "language": "python",
   "name": "yugiquery"
  },
  "language_info": {
   "codemirror_mode": {
    "name": "ipython",
    "version": 3
   },
   "file_extension": ".py",
   "mimetype": "text/x-python",
   "name": "python",
   "nbconvert_exporter": "python",
   "pygments_lexer": "ipython3",
   "version": "3.11.6"
  },
  "papermill": {
   "default_parameters": {},
   "duration": null,
   "end_time": null,
   "environment_variables": {},
   "exception": null,
   "input_path": "/home/jovyan/yugiquery/notebooks/Rush.ipynb",
   "output_path": "/home/jovyan/yugiquery/notebooks/Rush.ipynb",
   "parameters": {},
   "start_time": "2025-08-16T06:12:06.725643",
   "version": "2.6.0"
  },
  "toc": {
   "base_numbering": 1,
   "nav_menu": {},
   "number_sections": true,
   "sideBar": true,
   "skip_h1_title": false,
   "title_cell": "Table of Contents",
   "title_sidebar": "Contents",
   "toc_cell": true,
   "toc_position": {},
   "toc_section_display": true,
   "toc_window_display": false
  }
 },
 "nbformat": 4,
 "nbformat_minor": 5
}
