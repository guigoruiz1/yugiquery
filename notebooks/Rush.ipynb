{
 "cells": [
  {
   "cell_type": "code",
   "execution_count": null,
   "id": "0",
   "metadata": {
    "papermill": {
     "duration": 5.06749,
     "end_time": "2024-12-07T07:09:33.832841",
     "exception": false,
     "start_time": "2024-12-07T07:09:28.765351",
     "status": "completed"
    },
    "tags": []
   },
   "outputs": [],
   "source": [
    "from yugiquery import *\n",
    "\n",
    "init_notebook_mode(all_interactive=True)\n",
    "\n",
    "header(\"Rush Duel\")"
   ]
  },
  {
   "cell_type": "markdown",
   "id": "1",
   "metadata": {
    "papermill": {
     "duration": 0.256719,
     "end_time": "2024-12-07T07:09:34.144850",
     "exception": false,
     "start_time": "2024-12-07T07:09:33.888131",
     "status": "completed"
    },
    "tags": []
   },
   "source": [
    "---"
   ]
  },
  {
   "cell_type": "markdown",
   "id": "2",
   "metadata": {
    "papermill": {
     "duration": 0.053224,
     "end_time": "2024-12-07T07:09:34.258342",
     "exception": false,
     "start_time": "2024-12-07T07:09:34.205118",
     "status": "completed"
    },
    "tags": []
   },
   "source": [
    "Table of Contents <a class=\"jp-toc-ignore\"></a>\n",
    "=================\n",
    "* [1 Data aquisition](#data-aquisition)\n",
    "  * [1.1 Fetch online data](#fetch-online-data)\n",
    "  * [1.2 Merge data](#merge-data)\n",
    "* [2 Check changes](#check-changes)\n",
    "  * [2.1 Load previous data](#load-previous-data)\n",
    "  * [2.2 Generate changelog](#generate-changelog)\n",
    "  * [2.3 Save data](#save-data)\n",
    "* [3 Data visualization](#data-visualization)\n",
    "  * [3.1 Card type](#card-type)\n",
    "  * [3.2 Monsters](#monsters)\n",
    "    * [3.2.1 Attribute](#attribute)\n",
    "    * [3.2.2 Primary type](#primary-type)\n",
    "      * [3.2.2.1 Has effect discrimination](#has-effect-discrimination)\n",
    "      * [3.2.2.2 By attribute](#by-attribute)\n",
    "    * [3.2.3 Monster type](#monster-type)\n",
    "      * [3.2.3.1 By Attribute](#by-attribute)\n",
    "      * [3.2.3.2 By primary type](#by-primary-type)\n",
    "    * [3.2.4 ATK](#atk)\n",
    "    * [3.2.5 DEF](#def)\n",
    "    * [3.2.6 Maximum mode](#maximum-mode)\n",
    "      * [3.2.6.1 MAXIMUM ATK](#maximum-atk)\n",
    "        * [3.2.6.1.1 By ATK](#by-atk)\n",
    "        * [3.2.6.1.2 By DEF](#by-def)\n",
    "    * [3.2.7 Level/Rank](#level/rank)\n",
    "      * [3.2.7.1 ATK statistics](#atk-statistics)\n",
    "      * [3.2.7.2 DEF statistics](#def-statistics)\n",
    "  * [3.3 Spell & Trap](#spell-&-trap)\n",
    "    * [3.3.1 Properties](#properties)\n",
    "  * [3.4 Effect type](#effect-type)\n",
    "    * [3.4.1 Card type discrimination](#card-type-discrimination)\n",
    "  * [3.5 Archseries](#archseries)\n",
    "    * [3.5.1 By card type](#by-card-type)\n",
    "    * [3.5.2 By primary type](#by-primary-type)\n",
    "    * [3.5.3 By monster type](#by-monster-type)\n",
    "    * [3.5.4 By property](#by-property)\n",
    "  * [3.6 Legend](#legend)\n",
    "      * [3.6.0.1 By card type](#by-card-type)\n",
    "      * [3.6.0.2 By Attribute](#by-attribute)\n",
    "      * [3.6.0.3 By primary type](#by-primary-type)\n",
    "      * [3.6.0.4 By monster type](#by-monster-type)\n",
    "  * [3.7 Artworks](#artworks)\n",
    "    * [3.7.1 By card type](#by-card-type)\n",
    "    * [3.7.2 By primary type](#by-primary-type)\n",
    "  * [3.8 Errata](#errata)\n",
    "    * [3.8.1 By card type](#by-card-type)\n",
    "    * [3.8.2 By primary type](#by-primary-type)\n",
    "    * [3.8.3 By artwork](#by-artwork)\n",
    "* [4 Epilogue](#epilogue)\n",
    "  * [4.1 HTML export](#html-export)\n",
    "  <!-- * [4.2 Git](#git) -->"
   ]
  },
  {
   "cell_type": "markdown",
   "id": "3",
   "metadata": {
    "papermill": {
     "duration": 0.075249,
     "end_time": "2024-12-07T07:09:34.398838",
     "exception": false,
     "start_time": "2024-12-07T07:09:34.323589",
     "status": "completed"
    },
    "tags": []
   },
   "source": [
    "# Data aquisition"
   ]
  },
  {
   "cell_type": "markdown",
   "id": "4",
   "metadata": {
    "papermill": {
     "duration": 0.112359,
     "end_time": "2024-12-07T07:09:34.813476",
     "exception": false,
     "start_time": "2024-12-07T07:09:34.701117",
     "status": "completed"
    },
    "tags": []
   },
   "source": [
    "## Fetch online data"
   ]
  },
  {
   "cell_type": "code",
   "execution_count": null,
   "id": "5",
   "metadata": {
    "papermill": {
     "duration": 0.115021,
     "end_time": "2024-12-07T07:09:35.193029",
     "exception": false,
     "start_time": "2024-12-07T07:09:35.078008",
     "status": "completed"
    },
    "tags": []
   },
   "outputs": [],
   "source": [
    "# Timestamp\n",
    "timestamp = arrow.utcnow()"
   ]
  },
  {
   "cell_type": "code",
   "execution_count": null,
   "id": "6",
   "metadata": {
    "papermill": {
     "duration": 22.782616,
     "end_time": "2024-12-07T07:09:58.045325",
     "exception": false,
     "start_time": "2024-12-07T07:09:35.262709",
     "status": "completed"
    },
    "tags": []
   },
   "outputs": [],
   "source": [
    "# Fetch rush cards\n",
    "rush_df = fetch_rush()\n",
    "\n",
    "# Fetch errata\n",
    "errata_df = fetch_errata()"
   ]
  },
  {
   "cell_type": "markdown",
   "id": "7",
   "metadata": {
    "papermill": {
     "duration": 0.233921,
     "end_time": "2024-12-07T07:09:58.392303",
     "exception": false,
     "start_time": "2024-12-07T07:09:58.158382",
     "status": "completed"
    },
    "tags": []
   },
   "source": [
    "## Merge data"
   ]
  },
  {
   "cell_type": "code",
   "execution_count": null,
   "id": "8",
   "metadata": {
    "papermill": {
     "duration": 1.204555,
     "end_time": "2024-12-07T07:09:59.818475",
     "exception": false,
     "start_time": "2024-12-07T07:09:58.613920",
     "status": "completed"
    },
    "tags": []
   },
   "outputs": [],
   "source": [
    "rush_df = merge_errata(rush_df, errata_df)\n",
    "print(\"Data merged\")"
   ]
  },
  {
   "cell_type": "markdown",
   "id": "9",
   "metadata": {
    "papermill": {
     "duration": 1.378626,
     "end_time": "2024-12-07T07:10:01.302933",
     "exception": false,
     "start_time": "2024-12-07T07:09:59.924307",
     "status": "completed"
    },
    "tags": []
   },
   "source": [
    "# Check changes"
   ]
  },
  {
   "cell_type": "markdown",
   "id": "10",
   "metadata": {
    "papermill": {
     "duration": 0.058096,
     "end_time": "2024-12-07T07:10:01.431974",
     "exception": false,
     "start_time": "2024-12-07T07:10:01.373878",
     "status": "completed"
    },
    "tags": []
   },
   "source": [
    "## Load previous data"
   ]
  },
  {
   "cell_type": "code",
   "execution_count": null,
   "id": "11",
   "metadata": {
    "papermill": {
     "duration": 0.545733,
     "end_time": "2024-12-07T07:10:02.146405",
     "exception": false,
     "start_time": "2024-12-07T07:10:01.600672",
     "status": "completed"
    },
    "tags": []
   },
   "outputs": [],
   "source": [
    "# Get latest file if exist\n",
    "tuple_cols = [\n",
    "    \"Effect type\",\n",
    "    \"Archseries\",\n",
    "    \"Artwork\",\n",
    "    \"Errata\",\n",
    "    \"Legend\",\n",
    "    \"Maximum mode\",\n",
    "]\n",
    "previous_df, previous_ts = load_latest_data(\"rush\", tuple_cols)\n",
    "\n",
    "if previous_df is not None:\n",
    "    previous_df = previous_df.astype(rush_df[previous_df.columns.intersection(rush_df.columns)].dtypes.to_dict())"
   ]
  },
  {
   "cell_type": "markdown",
   "id": "12",
   "metadata": {
    "papermill": {
     "duration": 0.089536,
     "end_time": "2024-12-07T07:10:02.853942",
     "exception": false,
     "start_time": "2024-12-07T07:10:02.764406",
     "status": "completed"
    },
    "tags": []
   },
   "source": [
    "## Generate changelog"
   ]
  },
  {
   "cell_type": "code",
   "execution_count": null,
   "id": "13",
   "metadata": {
    "papermill": {
     "duration": 1.131313,
     "end_time": "2024-12-07T07:10:04.121712",
     "exception": false,
     "start_time": "2024-12-07T07:10:02.990399",
     "status": "completed"
    },
    "tags": []
   },
   "outputs": [],
   "source": [
    "if previous_df is None:\n",
    "    changelog = None\n",
    "    print(\"Skipped\")\n",
    "else:\n",
    "    changelog = generate_changelog(previous_df, rush_df, col=\"Name\")\n",
    "    if not changelog.empty:\n",
    "        display(changelog)\n",
    "        changelog.to_csv(\n",
    "            dirs.DATA / make_filename(report=\"rush\", timestamp=timestamp, previous_timestamp=previous_ts),\n",
    "            index=True,\n",
    "        )\n",
    "        print(\"Changelog saved\")"
   ]
  },
  {
   "cell_type": "markdown",
   "id": "14",
   "metadata": {
    "papermill": {
     "duration": 0.142481,
     "end_time": "2024-12-07T07:10:04.992556",
     "exception": false,
     "start_time": "2024-12-07T07:10:04.850075",
     "status": "completed"
    },
    "tags": []
   },
   "source": [
    "## Save data"
   ]
  },
  {
   "cell_type": "code",
   "execution_count": null,
   "id": "15",
   "metadata": {
    "papermill": {
     "duration": 0.619932,
     "end_time": "2024-12-07T07:10:05.729275",
     "exception": false,
     "start_time": "2024-12-07T07:10:05.109343",
     "status": "completed"
    },
    "tags": []
   },
   "outputs": [],
   "source": [
    "if changelog is not None and changelog.empty:\n",
    "    print(\"No changes. New data not saved\")\n",
    "else:\n",
    "    rush_df.to_csv(\n",
    "        dirs.DATA / make_filename(report=\"rush\", timestamp=timestamp),\n",
    "        index=False,\n",
    "    )\n",
    "    print(\"Data saved\")"
   ]
  },
  {
   "cell_type": "markdown",
   "id": "16",
   "metadata": {
    "papermill": {
     "duration": 0.198274,
     "end_time": "2024-12-07T07:10:05.993720",
     "exception": false,
     "start_time": "2024-12-07T07:10:05.795446",
     "status": "completed"
    },
    "tags": []
   },
   "source": [
    "# Data visualization"
   ]
  },
  {
   "cell_type": "code",
   "execution_count": null,
   "id": "17",
   "metadata": {
    "papermill": {
     "duration": 0.340748,
     "end_time": "2024-12-07T07:10:06.451800",
     "exception": false,
     "start_time": "2024-12-07T07:10:06.111052",
     "status": "completed"
    },
    "tags": []
   },
   "outputs": [],
   "source": [
    "rush_df"
   ]
  },
  {
   "cell_type": "markdown",
   "id": "18",
   "metadata": {
    "papermill": {
     "duration": 0.131481,
     "end_time": "2024-12-07T07:10:06.681348",
     "exception": false,
     "start_time": "2024-12-07T07:10:06.549867",
     "status": "completed"
    },
    "tags": []
   },
   "source": [
    "## Card type"
   ]
  },
  {
   "cell_type": "code",
   "execution_count": null,
   "id": "19",
   "metadata": {
    "papermill": {
     "duration": 0.210211,
     "end_time": "2024-12-07T07:10:07.014890",
     "exception": false,
     "start_time": "2024-12-07T07:10:06.804679",
     "status": "completed"
    },
    "tags": []
   },
   "outputs": [],
   "source": [
    "print(\"Total number of card types:\", rush_df[\"Card type\"].nunique())"
   ]
  },
  {
   "cell_type": "code",
   "execution_count": null,
   "id": "20",
   "metadata": {
    "papermill": {
     "duration": 0.624822,
     "end_time": "2024-12-07T07:10:07.787725",
     "exception": false,
     "start_time": "2024-12-07T07:10:07.162903",
     "status": "completed"
    },
    "tags": []
   },
   "outputs": [],
   "source": [
    "card_type_colors = [plot.colors_dict[i] for i in rush_df[\"Card type\"].value_counts().index]\n",
    "rush_df[\"Card type\"].value_counts().plot.bar(figsize=(14, 6), rot=0, color=card_type_colors)\n",
    "plt.show()"
   ]
  },
  {
   "cell_type": "markdown",
   "id": "21",
   "metadata": {
    "papermill": {
     "duration": 0.156281,
     "end_time": "2024-12-07T07:10:08.067188",
     "exception": false,
     "start_time": "2024-12-07T07:10:07.910907",
     "status": "completed"
    },
    "tags": []
   },
   "source": [
    "## Monsters"
   ]
  },
  {
   "cell_type": "markdown",
   "id": "22",
   "metadata": {
    "papermill": {
     "duration": 0.226186,
     "end_time": "2024-12-07T07:10:08.599231",
     "exception": false,
     "start_time": "2024-12-07T07:10:08.373045",
     "status": "completed"
    },
    "tags": []
   },
   "source": [
    "### Attribute"
   ]
  },
  {
   "cell_type": "code",
   "execution_count": null,
   "id": "23",
   "metadata": {
    "papermill": {
     "duration": 0.292336,
     "end_time": "2024-12-07T07:10:09.008317",
     "exception": false,
     "start_time": "2024-12-07T07:10:08.715981",
     "status": "completed"
    },
    "tags": []
   },
   "outputs": [],
   "source": [
    "print(\"Total number of attributes:\", rush_df[\"Attribute\"].nunique())"
   ]
  },
  {
   "cell_type": "code",
   "execution_count": null,
   "id": "24",
   "metadata": {
    "papermill": {
     "duration": 0.303605,
     "end_time": "2024-12-07T07:10:09.520913",
     "exception": false,
     "start_time": "2024-12-07T07:10:09.217308",
     "status": "completed"
    },
    "tags": []
   },
   "outputs": [],
   "source": [
    "rush_df.drop(columns=[\"Card type\"]).groupby(\"Attribute\").nunique()"
   ]
  },
  {
   "cell_type": "code",
   "execution_count": null,
   "id": "25",
   "metadata": {
    "papermill": {
     "duration": 0.789992,
     "end_time": "2024-12-07T07:10:10.500978",
     "exception": false,
     "start_time": "2024-12-07T07:10:09.710986",
     "status": "completed"
    },
    "tags": []
   },
   "outputs": [],
   "source": [
    "attribute_colors = [plot.colors_dict[i] for i in rush_df[\"Attribute\"].value_counts().index]\n",
    "rush_df[\"Attribute\"].value_counts().plot.bar(figsize=(16, 6), rot=0, color=attribute_colors)\n",
    "plt.show()"
   ]
  },
  {
   "cell_type": "markdown",
   "id": "26",
   "metadata": {
    "papermill": {
     "duration": 1.402626,
     "end_time": "2024-12-07T07:10:12.039277",
     "exception": false,
     "start_time": "2024-12-07T07:10:10.636651",
     "status": "completed"
    },
    "tags": []
   },
   "source": [
    "### Primary type"
   ]
  },
  {
   "cell_type": "code",
   "execution_count": null,
   "id": "27",
   "metadata": {
    "papermill": {
     "duration": 0.167939,
     "end_time": "2024-12-07T07:10:12.454904",
     "exception": false,
     "start_time": "2024-12-07T07:10:12.286965",
     "status": "completed"
    },
    "tags": []
   },
   "outputs": [],
   "source": [
    "print(\"Total number of primary types:\", rush_df[\"Primary type\"].nunique())"
   ]
  },
  {
   "cell_type": "code",
   "execution_count": null,
   "id": "28",
   "metadata": {
    "papermill": {
     "duration": 0.18201,
     "end_time": "2024-12-07T07:10:12.722875",
     "exception": false,
     "start_time": "2024-12-07T07:10:12.540865",
     "status": "completed"
    },
    "tags": []
   },
   "outputs": [],
   "source": [
    "rush_df.drop(columns=[\"Card type\"]).groupby(\"Primary type\").nunique()"
   ]
  },
  {
   "cell_type": "markdown",
   "id": "29",
   "metadata": {
    "papermill": {
     "duration": 0.122445,
     "end_time": "2024-12-07T07:10:13.001173",
     "exception": false,
     "start_time": "2024-12-07T07:10:12.878728",
     "status": "completed"
    },
    "tags": []
   },
   "source": [
    "#### Has effect discrimination"
   ]
  },
  {
   "cell_type": "code",
   "execution_count": null,
   "id": "30",
   "metadata": {
    "papermill": {
     "duration": 0.141223,
     "end_time": "2024-12-07T07:10:13.267079",
     "exception": false,
     "start_time": "2024-12-07T07:10:13.125856",
     "status": "completed"
    },
    "tags": []
   },
   "outputs": [],
   "source": [
    "has_effect = rush_df[\"Primary type\"].where(rush_df[\"Effect type\"].notna()).value_counts().rename(\"Effect\")\n",
    "no_effect = rush_df[\"Primary type\"].where(rush_df[\"Effect type\"].isna()).value_counts().rename(\"No Effect\")\n",
    "effect = pd.concat([has_effect, no_effect], axis=1).fillna(0).astype(int)\n",
    "effect"
   ]
  },
  {
   "cell_type": "code",
   "execution_count": null,
   "id": "31",
   "metadata": {
    "papermill": {
     "duration": 0.587244,
     "end_time": "2024-12-07T07:10:13.996648",
     "exception": false,
     "start_time": "2024-12-07T07:10:13.409404",
     "status": "completed"
    },
    "tags": []
   },
   "outputs": [],
   "source": [
    "monster_type_colors = {\n",
    "    \"No Effect\": plot.colors_dict[\"Normal Monster\"],\n",
    "    \"Effect\": [plot.colors_dict[i] for i in effect.index],\n",
    "}\n",
    "effect.plot.bar(\n",
    "    figsize=(12, 6),\n",
    "    stacked=True,\n",
    "    rot=0,\n",
    "    legend=True,\n",
    "    color=monster_type_colors,\n",
    "    title=\"Primary types - Has effect\",\n",
    ")\n",
    "# plt.yscale('log')\n",
    "plt.show()"
   ]
  },
  {
   "cell_type": "markdown",
   "id": "32",
   "metadata": {
    "papermill": {
     "duration": 0.099491,
     "end_time": "2024-12-07T07:10:14.185655",
     "exception": false,
     "start_time": "2024-12-07T07:10:14.086164",
     "status": "completed"
    },
    "tags": []
   },
   "source": [
    "Obs: Effect monster can show as no effect if it is not released yet"
   ]
  },
  {
   "cell_type": "markdown",
   "id": "33",
   "metadata": {
    "papermill": {
     "duration": 0.077964,
     "end_time": "2024-12-07T07:10:14.673151",
     "exception": false,
     "start_time": "2024-12-07T07:10:14.595187",
     "status": "completed"
    },
    "tags": []
   },
   "source": [
    "#### By attribute"
   ]
  },
  {
   "cell_type": "code",
   "execution_count": null,
   "id": "34",
   "metadata": {
    "papermill": {
     "duration": 0.146909,
     "end_time": "2024-12-07T07:10:15.199728",
     "exception": false,
     "start_time": "2024-12-07T07:10:15.052819",
     "status": "completed"
    },
    "tags": []
   },
   "outputs": [],
   "source": [
    "primmary_crosstab = pd.crosstab(rush_df[\"Primary type\"], rush_df[\"Attribute\"])\n",
    "primmary_crosstab"
   ]
  },
  {
   "cell_type": "code",
   "execution_count": null,
   "id": "35",
   "metadata": {
    "papermill": {
     "duration": 1.180124,
     "end_time": "2024-12-07T07:10:16.467795",
     "exception": false,
     "start_time": "2024-12-07T07:10:15.287671",
     "status": "completed"
    },
    "tags": []
   },
   "outputs": [],
   "source": [
    "plt.figure(figsize=(16, 6))\n",
    "sns.heatmap(\n",
    "    primmary_crosstab,\n",
    "    annot=True,\n",
    "    fmt=\"g\",\n",
    "    cmap=\"viridis\",\n",
    "    square=True,\n",
    "    norm=plot.LogNorm(),\n",
    ")\n",
    "plt.show()"
   ]
  },
  {
   "cell_type": "markdown",
   "id": "36",
   "metadata": {
    "papermill": {
     "duration": 0.074588,
     "end_time": "2024-12-07T07:10:16.656288",
     "exception": false,
     "start_time": "2024-12-07T07:10:16.581700",
     "status": "completed"
    },
    "tags": []
   },
   "source": [
    "### Monster type"
   ]
  },
  {
   "cell_type": "code",
   "execution_count": null,
   "id": "37",
   "metadata": {
    "papermill": {
     "duration": 0.148401,
     "end_time": "2024-12-07T07:10:17.004818",
     "exception": false,
     "start_time": "2024-12-07T07:10:16.856417",
     "status": "completed"
    },
    "tags": []
   },
   "outputs": [],
   "source": [
    "print(\"Total number of monster types:\", rush_df[\"Monster type\"].nunique())"
   ]
  },
  {
   "cell_type": "code",
   "execution_count": null,
   "id": "38",
   "metadata": {
    "papermill": {
     "duration": 0.402833,
     "end_time": "2024-12-07T07:10:17.564956",
     "exception": false,
     "start_time": "2024-12-07T07:10:17.162123",
     "status": "completed"
    },
    "tags": []
   },
   "outputs": [],
   "source": [
    "rush_df.drop(columns=[\"Card type\"]).groupby(\"Monster type\").nunique()"
   ]
  },
  {
   "cell_type": "code",
   "execution_count": null,
   "id": "39",
   "metadata": {
    "papermill": {
     "duration": 0.90171,
     "end_time": "2024-12-07T07:10:18.558934",
     "exception": false,
     "start_time": "2024-12-07T07:10:17.657224",
     "status": "completed"
    },
    "tags": []
   },
   "outputs": [],
   "source": [
    "monster_type_colors = plot.colors_dict[\"Monster Card\"]\n",
    "rush_df[\"Monster type\"].value_counts().plot.bar(figsize=(18, 6), rot=60, color=monster_type_colors)\n",
    "plt.show()"
   ]
  },
  {
   "cell_type": "markdown",
   "id": "40",
   "metadata": {
    "papermill": {
     "duration": 0.239201,
     "end_time": "2024-12-07T07:10:19.037227",
     "exception": false,
     "start_time": "2024-12-07T07:10:18.798026",
     "status": "completed"
    },
    "tags": []
   },
   "source": [
    "#### By Attribute"
   ]
  },
  {
   "cell_type": "code",
   "execution_count": null,
   "id": "41",
   "metadata": {
    "papermill": {
     "duration": 0.260074,
     "end_time": "2024-12-07T07:10:19.475823",
     "exception": false,
     "start_time": "2024-12-07T07:10:19.215749",
     "status": "completed"
    },
    "tags": []
   },
   "outputs": [],
   "source": [
    "monster_crosstab = pd.crosstab(rush_df[\"Monster type\"], rush_df[\"Attribute\"], dropna=False)\n",
    "monster_crosstab"
   ]
  },
  {
   "cell_type": "code",
   "execution_count": null,
   "id": "42",
   "metadata": {
    "papermill": {
     "duration": 2.114551,
     "end_time": "2024-12-07T07:10:21.677975",
     "exception": false,
     "start_time": "2024-12-07T07:10:19.563424",
     "status": "completed"
    },
    "tags": []
   },
   "outputs": [],
   "source": [
    "plt.figure(figsize=(18, 4))\n",
    "sns.heatmap(\n",
    "    monster_crosstab[monster_crosstab > 0].T,\n",
    "    annot=True,\n",
    "    fmt=\"g\",\n",
    "    cmap=\"viridis\",\n",
    "    square=True,\n",
    "    norm=plot.LogNorm(),\n",
    ")\n",
    "plt.show()"
   ]
  },
  {
   "cell_type": "markdown",
   "id": "43",
   "metadata": {
    "papermill": {
     "duration": 0.118964,
     "end_time": "2024-12-07T07:10:22.140449",
     "exception": false,
     "start_time": "2024-12-07T07:10:22.021485",
     "status": "completed"
    },
    "tags": []
   },
   "source": [
    "#### By primary type"
   ]
  },
  {
   "cell_type": "code",
   "execution_count": null,
   "id": "44",
   "metadata": {
    "papermill": {
     "duration": 0.21572,
     "end_time": "2024-12-07T07:10:22.455650",
     "exception": false,
     "start_time": "2024-12-07T07:10:22.239930",
     "status": "completed"
    },
    "tags": []
   },
   "outputs": [],
   "source": [
    "monster_crosstab_b = pd.crosstab(rush_df[\"Monster type\"], rush_df[\"Primary type\"], dropna=False)\n",
    "monster_crosstab_b"
   ]
  },
  {
   "cell_type": "code",
   "execution_count": null,
   "id": "45",
   "metadata": {
    "papermill": {
     "duration": 1.51359,
     "end_time": "2024-12-07T07:10:24.241085",
     "exception": false,
     "start_time": "2024-12-07T07:10:22.727495",
     "status": "completed"
    },
    "tags": []
   },
   "outputs": [],
   "source": [
    "plt.figure(figsize=(18, 3))\n",
    "sns.heatmap(\n",
    "    monster_crosstab_b[monster_crosstab_b > 0].T,\n",
    "    annot=True,\n",
    "    fmt=\"g\",\n",
    "    cmap=\"viridis\",\n",
    "    square=True,\n",
    "    norm=plot.LogNorm(),\n",
    ")\n",
    "plt.show()"
   ]
  },
  {
   "cell_type": "markdown",
   "id": "46",
   "metadata": {
    "papermill": {
     "duration": 0.941665,
     "end_time": "2024-12-07T07:10:25.284983",
     "exception": false,
     "start_time": "2024-12-07T07:10:24.343318",
     "status": "completed"
    },
    "tags": []
   },
   "source": [
    "### ATK"
   ]
  },
  {
   "cell_type": "code",
   "execution_count": null,
   "id": "47",
   "metadata": {
    "papermill": {
     "duration": 0.137182,
     "end_time": "2024-12-07T07:10:25.635313",
     "exception": false,
     "start_time": "2024-12-07T07:10:25.498131",
     "status": "completed"
    },
    "tags": []
   },
   "outputs": [],
   "source": [
    "print(\"Total number of ATK values:\", rush_df[\"ATK\"].nunique())"
   ]
  },
  {
   "cell_type": "code",
   "execution_count": null,
   "id": "48",
   "metadata": {
    "papermill": {
     "duration": 0.168635,
     "end_time": "2024-12-07T07:10:26.080953",
     "exception": false,
     "start_time": "2024-12-07T07:10:25.912318",
     "status": "completed"
    },
    "tags": []
   },
   "outputs": [],
   "source": [
    "rush_df.drop(columns=[\"Card type\"]).groupby(\"ATK\").nunique().sort_index(key=lambda x: pd.to_numeric(x, errors=\"coerce\"))"
   ]
  },
  {
   "cell_type": "code",
   "execution_count": null,
   "id": "49",
   "metadata": {
    "papermill": {
     "duration": 0.825099,
     "end_time": "2024-12-07T07:10:26.997825",
     "exception": false,
     "start_time": "2024-12-07T07:10:26.172726",
     "status": "completed"
    },
    "tags": []
   },
   "outputs": [],
   "source": [
    "atk_colors = plot.colors_dict[\"Monster Card\"]\n",
    "rush_df[\"DEF\"].value_counts().sort_index(key=lambda x: pd.to_numeric(x, errors=\"coerce\")).plot.bar(\n",
    "    figsize=(18, 6), color=atk_colors\n",
    ")\n",
    "plt.show()"
   ]
  },
  {
   "cell_type": "markdown",
   "id": "50",
   "metadata": {
    "papermill": {
     "duration": 0.225077,
     "end_time": "2024-12-07T07:10:27.312252",
     "exception": false,
     "start_time": "2024-12-07T07:10:27.087175",
     "status": "completed"
    },
    "tags": []
   },
   "source": [
    "### DEF"
   ]
  },
  {
   "cell_type": "code",
   "execution_count": null,
   "id": "51",
   "metadata": {
    "papermill": {
     "duration": 0.183446,
     "end_time": "2024-12-07T07:10:28.470686",
     "exception": false,
     "start_time": "2024-12-07T07:10:28.287240",
     "status": "completed"
    },
    "tags": []
   },
   "outputs": [],
   "source": [
    "print(\"Total number of DEF values:\", rush_df[\"DEF\"].nunique())"
   ]
  },
  {
   "cell_type": "code",
   "execution_count": null,
   "id": "52",
   "metadata": {
    "papermill": {
     "duration": 0.189905,
     "end_time": "2024-12-07T07:10:29.019034",
     "exception": false,
     "start_time": "2024-12-07T07:10:28.829129",
     "status": "completed"
    },
    "tags": []
   },
   "outputs": [],
   "source": [
    "rush_df.drop(columns=[\"Card type\"]).groupby(\"DEF\").nunique().sort_index(key=lambda x: pd.to_numeric(x, errors=\"coerce\"))"
   ]
  },
  {
   "cell_type": "code",
   "execution_count": null,
   "id": "53",
   "metadata": {
    "papermill": {
     "duration": 0.860976,
     "end_time": "2024-12-07T07:10:29.977964",
     "exception": false,
     "start_time": "2024-12-07T07:10:29.116988",
     "status": "completed"
    },
    "tags": []
   },
   "outputs": [],
   "source": [
    "def_colors = plot.colors_dict[\"Monster Card\"]\n",
    "rush_df[\"DEF\"].value_counts().sort_index(key=lambda x: pd.to_numeric(x, errors=\"coerce\")).plot.bar(\n",
    "    figsize=(18, 6), color=def_colors\n",
    ")\n",
    "plt.show()"
   ]
  },
  {
   "cell_type": "markdown",
   "id": "54",
   "metadata": {
    "papermill": {
     "duration": 0.128899,
     "end_time": "2024-12-07T07:10:30.241755",
     "exception": false,
     "start_time": "2024-12-07T07:10:30.112856",
     "status": "completed"
    },
    "tags": []
   },
   "source": [
    "### Maximum mode"
   ]
  },
  {
   "cell_type": "code",
   "execution_count": null,
   "id": "55",
   "metadata": {
    "papermill": {
     "duration": 0.353786,
     "end_time": "2024-12-07T07:10:30.754876",
     "exception": false,
     "start_time": "2024-12-07T07:10:30.401090",
     "status": "completed"
    },
    "tags": []
   },
   "outputs": [],
   "source": [
    "print(\"Total cards requiring maximum mode:\", rush_df[\"Maximum mode\"].sum())"
   ]
  },
  {
   "cell_type": "code",
   "execution_count": null,
   "id": "56",
   "metadata": {
    "papermill": {
     "duration": 1.016549,
     "end_time": "2024-12-07T07:10:31.876255",
     "exception": false,
     "start_time": "2024-12-07T07:10:30.859706",
     "status": "completed"
    },
    "tags": []
   },
   "outputs": [],
   "source": [
    "rush_df[rush_df[\"Maximum mode\"]]"
   ]
  },
  {
   "cell_type": "markdown",
   "id": "57",
   "metadata": {
    "papermill": {
     "duration": 0.175748,
     "end_time": "2024-12-07T07:10:32.212994",
     "exception": false,
     "start_time": "2024-12-07T07:10:32.037246",
     "status": "completed"
    },
    "tags": []
   },
   "source": [
    "#### MAXIMUM ATK"
   ]
  },
  {
   "cell_type": "code",
   "execution_count": null,
   "id": "58",
   "metadata": {
    "papermill": {
     "duration": 0.132069,
     "end_time": "2024-12-07T07:10:33.036902",
     "exception": false,
     "start_time": "2024-12-07T07:10:32.904833",
     "status": "completed"
    },
    "tags": []
   },
   "outputs": [],
   "source": [
    "print(\"Total number of MAXIMUM ATK values:\", rush_df[\"MAXIMUM ATK\"].nunique())"
   ]
  },
  {
   "cell_type": "code",
   "execution_count": null,
   "id": "59",
   "metadata": {
    "papermill": {
     "duration": 0.359652,
     "end_time": "2024-12-07T07:10:33.743339",
     "exception": false,
     "start_time": "2024-12-07T07:10:33.383687",
     "status": "completed"
    },
    "tags": []
   },
   "outputs": [],
   "source": [
    "def_colors = plot.colors_dict[\"Monster Card\"]\n",
    "rush_df[\"MAXIMUM ATK\"].value_counts().sort_index(key=lambda x: pd.to_numeric(x, errors=\"coerce\")).plot.bar(\n",
    "    figsize=(10, 6), color=def_colors\n",
    ")\n",
    "plt.show()"
   ]
  },
  {
   "cell_type": "markdown",
   "id": "60",
   "metadata": {
    "papermill": {
     "duration": 0.28762,
     "end_time": "2024-12-07T07:10:34.123820",
     "exception": false,
     "start_time": "2024-12-07T07:10:33.836200",
     "status": "completed"
    },
    "tags": []
   },
   "source": [
    "##### By ATK"
   ]
  },
  {
   "cell_type": "code",
   "execution_count": null,
   "id": "61",
   "metadata": {
    "papermill": {
     "duration": 0.13353,
     "end_time": "2024-12-07T07:10:34.423461",
     "exception": false,
     "start_time": "2024-12-07T07:10:34.289931",
     "status": "completed"
    },
    "tags": []
   },
   "outputs": [],
   "source": [
    "max_atk_crosstab = pd.crosstab(rush_df[\"ATK\"], rush_df[\"MAXIMUM ATK\"])\n",
    "max_atk_crosstab"
   ]
  },
  {
   "cell_type": "markdown",
   "id": "62",
   "metadata": {
    "papermill": {
     "duration": 0.2693,
     "end_time": "2024-12-07T07:10:34.795991",
     "exception": false,
     "start_time": "2024-12-07T07:10:34.526691",
     "status": "completed"
    },
    "tags": []
   },
   "source": [
    "##### By DEF"
   ]
  },
  {
   "cell_type": "code",
   "execution_count": null,
   "id": "63",
   "metadata": {
    "papermill": {
     "duration": 0.723144,
     "end_time": "2024-12-07T07:10:35.827188",
     "exception": false,
     "start_time": "2024-12-07T07:10:35.104044",
     "status": "completed"
    },
    "tags": []
   },
   "outputs": [],
   "source": [
    "max_def_crosstab = pd.crosstab(rush_df[\"DEF\"], rush_df[\"MAXIMUM ATK\"])\n",
    "max_def_crosstab"
   ]
  },
  {
   "cell_type": "markdown",
   "id": "64",
   "metadata": {
    "papermill": {
     "duration": 0.301868,
     "end_time": "2024-12-07T07:10:36.300475",
     "exception": false,
     "start_time": "2024-12-07T07:10:35.998607",
     "status": "completed"
    },
    "tags": []
   },
   "source": [
    "### Level/Rank"
   ]
  },
  {
   "cell_type": "code",
   "execution_count": null,
   "id": "65",
   "metadata": {
    "papermill": {
     "duration": 0.383258,
     "end_time": "2024-12-07T07:10:36.868853",
     "exception": false,
     "start_time": "2024-12-07T07:10:36.485595",
     "status": "completed"
    },
    "tags": []
   },
   "outputs": [],
   "source": [
    "rush_df.drop(columns=[\"Card type\"]).groupby(\"Level/Rank\").nunique().sort_index(\n",
    "    key=lambda x: pd.to_numeric(x, errors=\"coerce\")\n",
    ")"
   ]
  },
  {
   "cell_type": "code",
   "execution_count": null,
   "id": "66",
   "metadata": {
    "papermill": {
     "duration": 0.492121,
     "end_time": "2024-12-07T07:10:37.514769",
     "exception": false,
     "start_time": "2024-12-07T07:10:37.022648",
     "status": "completed"
    },
    "tags": []
   },
   "outputs": [],
   "source": [
    "stars_colors = plot.colors_dict[\"Level\"]\n",
    "rush_df[\"Level/Rank\"].value_counts().sort_index(key=lambda x: pd.to_numeric(x, errors=\"coerce\")).plot.bar(\n",
    "    figsize=(16, 6), rot=0, color=stars_colors\n",
    ")\n",
    "plt.show()"
   ]
  },
  {
   "cell_type": "markdown",
   "id": "67",
   "metadata": {
    "papermill": {
     "duration": 0.10837,
     "end_time": "2024-12-07T07:10:37.773629",
     "exception": false,
     "start_time": "2024-12-07T07:10:37.665259",
     "status": "completed"
    },
    "tags": []
   },
   "source": [
    "#### ATK statistics"
   ]
  },
  {
   "cell_type": "code",
   "execution_count": null,
   "id": "68",
   "metadata": {
    "papermill": {
     "duration": 0.736546,
     "end_time": "2024-12-07T07:10:38.839248",
     "exception": false,
     "start_time": "2024-12-07T07:10:38.102702",
     "status": "completed"
    },
    "tags": []
   },
   "outputs": [],
   "source": [
    "rush_df[[\"Level/Rank\", \"ATK\"]].apply(pd.to_numeric, errors=\"coerce\").dropna().astype(int).groupby(\n",
    "    \"Level/Rank\"\n",
    ").describe().round(1)"
   ]
  },
  {
   "cell_type": "markdown",
   "id": "69",
   "metadata": {
    "papermill": {
     "duration": 0.645775,
     "end_time": "2024-12-07T07:10:39.581617",
     "exception": false,
     "start_time": "2024-12-07T07:10:38.935842",
     "status": "completed"
    },
    "tags": []
   },
   "source": [
    "#### DEF statistics"
   ]
  },
  {
   "cell_type": "code",
   "execution_count": null,
   "id": "70",
   "metadata": {
    "papermill": {
     "duration": 0.203675,
     "end_time": "2024-12-07T07:10:40.014111",
     "exception": false,
     "start_time": "2024-12-07T07:10:39.810436",
     "status": "completed"
    },
    "tags": []
   },
   "outputs": [],
   "source": [
    "rush_df[[\"Level/Rank\", \"DEF\"]].apply(pd.to_numeric, errors=\"coerce\").dropna().astype(int).groupby(\n",
    "    \"Level/Rank\"\n",
    ").describe().round(1)"
   ]
  },
  {
   "cell_type": "markdown",
   "id": "71",
   "metadata": {
    "papermill": {
     "duration": 0.12695,
     "end_time": "2024-12-07T07:10:40.241978",
     "exception": false,
     "start_time": "2024-12-07T07:10:40.115028",
     "status": "completed"
    },
    "tags": []
   },
   "source": [
    "## Spell & Trap"
   ]
  },
  {
   "cell_type": "markdown",
   "id": "72",
   "metadata": {
    "papermill": {
     "duration": 0.119842,
     "end_time": "2024-12-07T07:10:40.474454",
     "exception": false,
     "start_time": "2024-12-07T07:10:40.354612",
     "status": "completed"
    },
    "tags": []
   },
   "source": [
    "### Properties"
   ]
  },
  {
   "cell_type": "code",
   "execution_count": null,
   "id": "73",
   "metadata": {
    "papermill": {
     "duration": 0.113697,
     "end_time": "2024-12-07T07:10:40.697511",
     "exception": false,
     "start_time": "2024-12-07T07:10:40.583814",
     "status": "completed"
    },
    "tags": []
   },
   "outputs": [],
   "source": [
    "print(\"Total number of properties:\", rush_df[\"Property\"].nunique())"
   ]
  },
  {
   "cell_type": "code",
   "execution_count": null,
   "id": "74",
   "metadata": {
    "papermill": {
     "duration": 0.360953,
     "end_time": "2024-12-07T07:10:41.197191",
     "exception": false,
     "start_time": "2024-12-07T07:10:40.836238",
     "status": "completed"
    },
    "tags": []
   },
   "outputs": [],
   "source": [
    "rush_df.drop(columns=[\"Card type\"]).groupby(\"Property\").nunique()"
   ]
  },
  {
   "cell_type": "code",
   "execution_count": null,
   "id": "75",
   "metadata": {
    "papermill": {
     "duration": 0.848093,
     "end_time": "2024-12-07T07:10:42.208322",
     "exception": false,
     "start_time": "2024-12-07T07:10:41.360229",
     "status": "completed"
    },
    "tags": []
   },
   "outputs": [],
   "source": [
    "st_colors = [plot.colors_dict[i] for i in rush_df[[\"Card type\", \"Property\"]].value_counts().index.get_level_values(0)]\n",
    "rush_df[\"Property\"].value_counts().plot.bar(figsize=(10, 6), rot=0, color=st_colors)\n",
    "plt.show()"
   ]
  },
  {
   "cell_type": "markdown",
   "id": "76",
   "metadata": {
    "papermill": {
     "duration": 0.27471,
     "end_time": "2024-12-07T07:10:42.716918",
     "exception": false,
     "start_time": "2024-12-07T07:10:42.442208",
     "status": "completed"
    },
    "tags": []
   },
   "source": [
    "## Effect type"
   ]
  },
  {
   "cell_type": "code",
   "execution_count": null,
   "id": "77",
   "metadata": {
    "papermill": {
     "duration": 0.406027,
     "end_time": "2024-12-07T07:10:43.263038",
     "exception": false,
     "start_time": "2024-12-07T07:10:42.857011",
     "status": "completed"
    },
    "tags": []
   },
   "outputs": [],
   "source": [
    "print(\"Total number of effect types:\", rush_df[\"Effect type\"].explode().nunique())"
   ]
  },
  {
   "cell_type": "code",
   "execution_count": null,
   "id": "78",
   "metadata": {
    "papermill": {
     "duration": 0.297583,
     "end_time": "2024-12-07T07:10:43.688074",
     "exception": false,
     "start_time": "2024-12-07T07:10:43.390491",
     "status": "completed"
    },
    "tags": []
   },
   "outputs": [],
   "source": [
    "rush_df.explode(\"Effect type\").groupby(\"Effect type\").nunique()"
   ]
  },
  {
   "cell_type": "markdown",
   "id": "79",
   "metadata": {
    "papermill": {
     "duration": 0.291692,
     "end_time": "2024-12-07T07:10:44.084470",
     "exception": false,
     "start_time": "2024-12-07T07:10:43.792778",
     "status": "completed"
    },
    "tags": []
   },
   "source": [
    "### Card type discrimination"
   ]
  },
  {
   "cell_type": "code",
   "execution_count": null,
   "id": "80",
   "metadata": {
    "papermill": {
     "duration": 0.222991,
     "end_time": "2024-12-07T07:10:44.491383",
     "exception": false,
     "start_time": "2024-12-07T07:10:44.268392",
     "status": "completed"
    },
    "tags": []
   },
   "outputs": [],
   "source": [
    "type_diff = rush_df[[\"Card type\", \"Effect type\"]].explode(\"Effect type\").value_counts().unstack(0).fillna(0).astype(int)\n",
    "type_diff"
   ]
  },
  {
   "cell_type": "code",
   "execution_count": null,
   "id": "81",
   "metadata": {
    "papermill": {
     "duration": 0.41181,
     "end_time": "2024-12-07T07:10:45.295705",
     "exception": false,
     "start_time": "2024-12-07T07:10:44.883895",
     "status": "completed"
    },
    "tags": []
   },
   "outputs": [],
   "source": [
    "type_diff_colors = {type: plot.colors_dict[type] for type in rush_df[\"Card type\"].unique()}\n",
    "type_diff.plot.bar(figsize=(10, 6), stacked=True, rot=0, color=type_diff_colors)\n",
    "plt.show()"
   ]
  },
  {
   "cell_type": "markdown",
   "id": "82",
   "metadata": {
    "papermill": {
     "duration": 0.368319,
     "end_time": "2024-12-07T07:10:45.908641",
     "exception": false,
     "start_time": "2024-12-07T07:10:45.540322",
     "status": "completed"
    },
    "tags": []
   },
   "source": [
    "## Archseries"
   ]
  },
  {
   "cell_type": "code",
   "execution_count": null,
   "id": "83",
   "metadata": {
    "papermill": {
     "duration": 1.263629,
     "end_time": "2024-12-07T07:10:48.240764",
     "exception": false,
     "start_time": "2024-12-07T07:10:46.977135",
     "status": "completed"
    },
    "tags": []
   },
   "outputs": [],
   "source": [
    "exploded_archseries = rush_df.explode(\"Archseries\")\n",
    "print(\"Total number of Archseries:\", exploded_archseries[\"Archseries\"].nunique())"
   ]
  },
  {
   "cell_type": "code",
   "execution_count": null,
   "id": "84",
   "metadata": {
    "papermill": {
     "duration": 0.361595,
     "end_time": "2024-12-07T07:10:48.805816",
     "exception": false,
     "start_time": "2024-12-07T07:10:48.444221",
     "status": "completed"
    },
    "tags": []
   },
   "outputs": [],
   "source": [
    "exploded_archseries.groupby(\"Archseries\").nunique()"
   ]
  },
  {
   "cell_type": "code",
   "execution_count": null,
   "id": "85",
   "metadata": {
    "papermill": {
     "duration": 0.838085,
     "end_time": "2024-12-07T07:10:49.836946",
     "exception": false,
     "start_time": "2024-12-07T07:10:48.998861",
     "status": "completed"
    },
    "tags": []
   },
   "outputs": [],
   "source": [
    "exploded_archseries[\"Archseries\"].value_counts().head(30).plot.barh(figsize=(10, 15), title=\"Top 30 Archtypes/Series\")\n",
    "plt.show()"
   ]
  },
  {
   "cell_type": "markdown",
   "id": "86",
   "metadata": {
    "papermill": {
     "duration": 0.118996,
     "end_time": "2024-12-07T07:10:50.140281",
     "exception": false,
     "start_time": "2024-12-07T07:10:50.021285",
     "status": "completed"
    },
    "tags": []
   },
   "source": [
    "### By card type"
   ]
  },
  {
   "cell_type": "code",
   "execution_count": null,
   "id": "87",
   "metadata": {
    "papermill": {
     "duration": 0.336694,
     "end_time": "2024-12-07T07:10:51.016774",
     "exception": false,
     "start_time": "2024-12-07T07:10:50.680080",
     "status": "completed"
    },
    "tags": []
   },
   "outputs": [],
   "source": [
    "archseries_crosstab = pd.crosstab(exploded_archseries[\"Archseries\"], exploded_archseries[\"Card type\"], margins=True)\n",
    "archseries_crosstab"
   ]
  },
  {
   "cell_type": "markdown",
   "id": "88",
   "metadata": {
    "papermill": {
     "duration": 0.36371,
     "end_time": "2024-12-07T07:10:51.507375",
     "exception": false,
     "start_time": "2024-12-07T07:10:51.143665",
     "status": "completed"
    },
    "tags": []
   },
   "source": [
    "### By primary type"
   ]
  },
  {
   "cell_type": "code",
   "execution_count": null,
   "id": "89",
   "metadata": {
    "papermill": {
     "duration": 0.422056,
     "end_time": "2024-12-07T07:10:52.159250",
     "exception": false,
     "start_time": "2024-12-07T07:10:51.737194",
     "status": "completed"
    },
    "tags": []
   },
   "outputs": [],
   "source": [
    "archseries_crosstab_b = pd.crosstab(exploded_archseries[\"Archseries\"], exploded_archseries[\"Primary type\"], margins=True)\n",
    "archseries_crosstab_b"
   ]
  },
  {
   "cell_type": "markdown",
   "id": "90",
   "metadata": {
    "papermill": {
     "duration": 0.115476,
     "end_time": "2024-12-07T07:10:53.759469",
     "exception": false,
     "start_time": "2024-12-07T07:10:53.643993",
     "status": "completed"
    },
    "tags": []
   },
   "source": [
    "### By monster type"
   ]
  },
  {
   "cell_type": "code",
   "execution_count": null,
   "id": "91",
   "metadata": {
    "papermill": {
     "duration": 0.193283,
     "end_time": "2024-12-07T07:10:54.167135",
     "exception": false,
     "start_time": "2024-12-07T07:10:53.973852",
     "status": "completed"
    },
    "tags": []
   },
   "outputs": [],
   "source": [
    "archseries_crosstab_d = pd.crosstab(exploded_archseries[\"Archseries\"], exploded_archseries[\"Monster type\"], margins=True)\n",
    "archseries_crosstab_d"
   ]
  },
  {
   "cell_type": "markdown",
   "id": "92",
   "metadata": {
    "papermill": {
     "duration": 0.279967,
     "end_time": "2024-12-07T07:10:54.551803",
     "exception": false,
     "start_time": "2024-12-07T07:10:54.271836",
     "status": "completed"
    },
    "tags": []
   },
   "source": [
    "### By property"
   ]
  },
  {
   "cell_type": "code",
   "execution_count": null,
   "id": "93",
   "metadata": {
    "papermill": {
     "duration": 0.176129,
     "end_time": "2024-12-07T07:10:54.894145",
     "exception": false,
     "start_time": "2024-12-07T07:10:54.718016",
     "status": "completed"
    },
    "tags": []
   },
   "outputs": [],
   "source": [
    "archseries_crosstab_e = pd.crosstab(exploded_archseries[\"Archseries\"], exploded_archseries[\"Property\"], margins=True)\n",
    "archseries_crosstab_e"
   ]
  },
  {
   "cell_type": "markdown",
   "id": "94",
   "metadata": {
    "papermill": {
     "duration": 0.248081,
     "end_time": "2024-12-07T07:10:55.274414",
     "exception": false,
     "start_time": "2024-12-07T07:10:55.026333",
     "status": "completed"
    },
    "tags": []
   },
   "source": [
    "## Legend"
   ]
  },
  {
   "cell_type": "code",
   "execution_count": null,
   "id": "95",
   "metadata": {
    "papermill": {
     "duration": 0.258948,
     "end_time": "2024-12-07T07:10:56.247437",
     "exception": false,
     "start_time": "2024-12-07T07:10:55.988489",
     "status": "completed"
    },
    "tags": []
   },
   "outputs": [],
   "source": [
    "print(\"Total number of Legend cards\", rush_df[\"Legend\"].sum())"
   ]
  },
  {
   "cell_type": "code",
   "execution_count": null,
   "id": "96",
   "metadata": {
    "papermill": {
     "duration": 0.397366,
     "end_time": "2024-12-07T07:10:56.957493",
     "exception": false,
     "start_time": "2024-12-07T07:10:56.560127",
     "status": "completed"
    },
    "tags": []
   },
   "outputs": [],
   "source": [
    "rush_df[rush_df[\"Legend\"]]"
   ]
  },
  {
   "cell_type": "markdown",
   "id": "97",
   "metadata": {
    "papermill": {
     "duration": 0.455401,
     "end_time": "2024-12-07T07:10:57.606124",
     "exception": false,
     "start_time": "2024-12-07T07:10:57.150723",
     "status": "completed"
    },
    "tags": []
   },
   "source": [
    "#### By card type"
   ]
  },
  {
   "cell_type": "code",
   "execution_count": null,
   "id": "98",
   "metadata": {
    "papermill": {
     "duration": 0.627671,
     "end_time": "2024-12-07T07:10:58.401147",
     "exception": false,
     "start_time": "2024-12-07T07:10:57.773476",
     "status": "completed"
    },
    "tags": []
   },
   "outputs": [],
   "source": [
    "card_type_colors = [plot.colors_dict[i] for i in rush_df[rush_df[\"Legend\"]][\"Card type\"].value_counts().index]\n",
    "rush_df[rush_df[\"Legend\"]][\"Card type\"].value_counts().plot.bar(figsize=(10, 6), rot=0, color=card_type_colors)\n",
    "plt.show()"
   ]
  },
  {
   "cell_type": "markdown",
   "id": "99",
   "metadata": {
    "papermill": {
     "duration": 0.155677,
     "end_time": "2024-12-07T07:10:58.673646",
     "exception": false,
     "start_time": "2024-12-07T07:10:58.517969",
     "status": "completed"
    },
    "tags": []
   },
   "source": [
    "#### By Attribute"
   ]
  },
  {
   "cell_type": "code",
   "execution_count": null,
   "id": "100",
   "metadata": {
    "papermill": {
     "duration": 0.29931,
     "end_time": "2024-12-07T07:10:59.185948",
     "exception": false,
     "start_time": "2024-12-07T07:10:58.886638",
     "status": "completed"
    },
    "tags": []
   },
   "outputs": [],
   "source": [
    "attribute_colors = [plot.colors_dict[i] for i in rush_df[rush_df[\"Legend\"]][\"Attribute\"].value_counts().index]\n",
    "rush_df[rush_df[\"Legend\"]][\"Attribute\"].value_counts().plot.bar(figsize=(12, 6), rot=0, color=attribute_colors)\n",
    "plt.show()"
   ]
  },
  {
   "cell_type": "markdown",
   "id": "101",
   "metadata": {
    "papermill": {
     "duration": 0.204283,
     "end_time": "2024-12-07T07:10:59.497515",
     "exception": false,
     "start_time": "2024-12-07T07:10:59.293232",
     "status": "completed"
    },
    "tags": []
   },
   "source": [
    "#### By primary type"
   ]
  },
  {
   "cell_type": "code",
   "execution_count": null,
   "id": "102",
   "metadata": {
    "papermill": {
     "duration": 0.796349,
     "end_time": "2024-12-07T07:11:00.469577",
     "exception": false,
     "start_time": "2024-12-07T07:10:59.673228",
     "status": "completed"
    },
    "tags": []
   },
   "outputs": [],
   "source": [
    "monster_type_colors = [plot.colors_dict[i] for i in rush_df[rush_df[\"Legend\"]][\"Primary type\"].value_counts().index]\n",
    "rush_df[rush_df[\"Legend\"]][\"Primary type\"].value_counts().plot.bar(\n",
    "    figsize=(10, 6),\n",
    "    stacked=True,\n",
    "    rot=0,\n",
    "    legend=True,\n",
    "    color=monster_type_colors,\n",
    ")\n",
    "# plt.yscale('log')\n",
    "plt.show()"
   ]
  },
  {
   "cell_type": "markdown",
   "id": "103",
   "metadata": {
    "papermill": {
     "duration": 0.131253,
     "end_time": "2024-12-07T07:11:00.710835",
     "exception": false,
     "start_time": "2024-12-07T07:11:00.579582",
     "status": "completed"
    },
    "tags": []
   },
   "source": [
    "#### By monster type"
   ]
  },
  {
   "cell_type": "code",
   "execution_count": null,
   "id": "104",
   "metadata": {
    "papermill": {
     "duration": 0.409338,
     "end_time": "2024-12-07T07:11:01.367450",
     "exception": false,
     "start_time": "2024-12-07T07:11:00.958112",
     "status": "completed"
    },
    "tags": []
   },
   "outputs": [],
   "source": [
    "monster_type_colors = plot.colors_dict[\"Monster Card\"]\n",
    "rush_df[rush_df[\"Legend\"]][\"Monster type\"].value_counts().plot.bar(figsize=(16, 6), rot=90, color=monster_type_colors)\n",
    "plt.show()"
   ]
  },
  {
   "cell_type": "markdown",
   "id": "105",
   "metadata": {
    "papermill": {
     "duration": 0.113274,
     "end_time": "2024-12-07T07:11:01.651210",
     "exception": false,
     "start_time": "2024-12-07T07:11:01.537936",
     "status": "completed"
    },
    "tags": []
   },
   "source": [
    "## Artworks"
   ]
  },
  {
   "cell_type": "code",
   "execution_count": null,
   "id": "106",
   "metadata": {
    "papermill": {
     "duration": 0.224709,
     "end_time": "2024-12-07T07:11:02.066793",
     "exception": false,
     "start_time": "2024-12-07T07:11:01.842084",
     "status": "completed"
    },
    "tags": []
   },
   "outputs": [],
   "source": [
    "print(\n",
    "    \"Total number of cards with edited or alternate artworks:\",\n",
    "    rush_df[\"Artwork\"].count(),\n",
    ")"
   ]
  },
  {
   "cell_type": "code",
   "execution_count": null,
   "id": "107",
   "metadata": {
    "papermill": {
     "duration": 0.29587,
     "end_time": "2024-12-07T07:11:02.769065",
     "exception": false,
     "start_time": "2024-12-07T07:11:02.473195",
     "status": "completed"
    },
    "tags": []
   },
   "outputs": [],
   "source": [
    "rush_df[[\"Name\", \"Artwork\"]].dropna()"
   ]
  },
  {
   "cell_type": "code",
   "execution_count": null,
   "id": "108",
   "metadata": {
    "papermill": {
     "duration": 0.77262,
     "end_time": "2024-12-07T07:11:03.668716",
     "exception": false,
     "start_time": "2024-12-07T07:11:02.896096",
     "status": "completed"
    },
    "tags": []
   },
   "outputs": [],
   "source": [
    "artwork_value_counts = rush_df[\"Artwork\"].value_counts()\n",
    "plt.figure(figsize=(20, 8))\n",
    "plt.title(\"Artworks\")\n",
    "plot.venn2(\n",
    "    subsets=(\n",
    "        artwork_value_counts[(\"Alternate\",)],\n",
    "        artwork_value_counts[(\"Edited\",)],\n",
    "        artwork_value_counts[(\"Alternate\", \"Edited\")],\n",
    "    ),\n",
    "    set_labels=(\"Alternate artwork\", \"Edited artwork\"),\n",
    ")\n",
    "plt.show()"
   ]
  },
  {
   "cell_type": "markdown",
   "id": "109",
   "metadata": {
    "papermill": {
     "duration": 0.197548,
     "end_time": "2024-12-07T07:11:04.165044",
     "exception": false,
     "start_time": "2024-12-07T07:11:03.967496",
     "status": "completed"
    },
    "tags": []
   },
   "source": [
    "### By card type"
   ]
  },
  {
   "cell_type": "code",
   "execution_count": null,
   "id": "110",
   "metadata": {
    "papermill": {
     "duration": 1.722025,
     "end_time": "2024-12-07T07:11:06.242117",
     "exception": false,
     "start_time": "2024-12-07T07:11:04.520092",
     "status": "completed"
    },
    "tags": []
   },
   "outputs": [],
   "source": [
    "artwork_crosstab = pd.crosstab(rush_df[\"Artwork\"], rush_df[\"Card type\"])\n",
    "artwork_crosstab"
   ]
  },
  {
   "cell_type": "markdown",
   "id": "111",
   "metadata": {
    "papermill": {
     "duration": 0.463173,
     "end_time": "2024-12-07T07:11:06.828771",
     "exception": false,
     "start_time": "2024-12-07T07:11:06.365598",
     "status": "completed"
    },
    "tags": []
   },
   "source": [
    "### By primary type"
   ]
  },
  {
   "cell_type": "code",
   "execution_count": null,
   "id": "112",
   "metadata": {
    "papermill": {
     "duration": 0.793788,
     "end_time": "2024-12-07T07:11:07.754157",
     "exception": false,
     "start_time": "2024-12-07T07:11:06.960369",
     "status": "completed"
    },
    "tags": []
   },
   "outputs": [],
   "source": [
    "artwork_crosstab_b = pd.crosstab(rush_df[\"Artwork\"], rush_df[\"Primary type\"])\n",
    "artwork_crosstab_b"
   ]
  },
  {
   "cell_type": "markdown",
   "id": "113",
   "metadata": {
    "papermill": {
     "duration": 0.165292,
     "end_time": "2024-12-07T07:11:08.182928",
     "exception": false,
     "start_time": "2024-12-07T07:11:08.017636",
     "status": "completed"
    },
    "tags": []
   },
   "source": [
    "More granularity is unnecessary"
   ]
  },
  {
   "cell_type": "markdown",
   "id": "114",
   "metadata": {
    "papermill": {
     "duration": 0.120331,
     "end_time": "2024-12-07T07:11:08.516499",
     "exception": false,
     "start_time": "2024-12-07T07:11:08.396168",
     "status": "completed"
    },
    "tags": []
   },
   "source": [
    "## Errata"
   ]
  },
  {
   "cell_type": "code",
   "execution_count": null,
   "id": "115",
   "metadata": {
    "papermill": {
     "duration": 0.298763,
     "end_time": "2024-12-07T07:11:09.099613",
     "exception": false,
     "start_time": "2024-12-07T07:11:08.800850",
     "status": "completed"
    },
    "tags": []
   },
   "outputs": [],
   "source": [
    "print(\"Total number of cards with errata:\", rush_df[\"Errata\"].count())"
   ]
  },
  {
   "cell_type": "code",
   "execution_count": null,
   "id": "116",
   "metadata": {
    "papermill": {
     "duration": 0.232569,
     "end_time": "2024-12-07T07:11:09.927174",
     "exception": false,
     "start_time": "2024-12-07T07:11:09.694605",
     "status": "completed"
    },
    "tags": []
   },
   "outputs": [],
   "source": [
    "rush_df[[\"Name\", \"Errata\"]].dropna()"
   ]
  },
  {
   "cell_type": "markdown",
   "id": "117",
   "metadata": {
    "papermill": {
     "duration": 0.131864,
     "end_time": "2024-12-07T07:11:10.360232",
     "exception": false,
     "start_time": "2024-12-07T07:11:10.228368",
     "status": "completed"
    },
    "tags": []
   },
   "source": [
    "### By card type"
   ]
  },
  {
   "cell_type": "code",
   "execution_count": null,
   "id": "118",
   "metadata": {
    "papermill": {
     "duration": 0.176446,
     "end_time": "2024-12-07T07:11:10.683069",
     "exception": false,
     "start_time": "2024-12-07T07:11:10.506623",
     "status": "completed"
    },
    "tags": []
   },
   "outputs": [],
   "source": [
    "errata_crosstab = pd.crosstab(rush_df[\"Errata\"], rush_df[\"Card type\"])\n",
    "errata_crosstab"
   ]
  },
  {
   "cell_type": "markdown",
   "id": "119",
   "metadata": {
    "papermill": {
     "duration": 0.257348,
     "end_time": "2024-12-07T07:11:11.109286",
     "exception": false,
     "start_time": "2024-12-07T07:11:10.851938",
     "status": "completed"
    },
    "tags": []
   },
   "source": [
    "### By primary type"
   ]
  },
  {
   "cell_type": "code",
   "execution_count": null,
   "id": "120",
   "metadata": {
    "papermill": {
     "duration": 0.148225,
     "end_time": "2024-12-07T07:11:11.380503",
     "exception": false,
     "start_time": "2024-12-07T07:11:11.232278",
     "status": "completed"
    },
    "tags": []
   },
   "outputs": [],
   "source": [
    "errata_crosstab_b = pd.crosstab(rush_df[\"Errata\"], rush_df[\"Primary type\"])\n",
    "errata_crosstab_b"
   ]
  },
  {
   "cell_type": "markdown",
   "id": "121",
   "metadata": {
    "papermill": {
     "duration": 0.176195,
     "end_time": "2024-12-07T07:11:11.743687",
     "exception": false,
     "start_time": "2024-12-07T07:11:11.567492",
     "status": "completed"
    },
    "tags": []
   },
   "source": [
    "### By artwork"
   ]
  },
  {
   "cell_type": "code",
   "execution_count": null,
   "id": "122",
   "metadata": {
    "papermill": {
     "duration": 0.436589,
     "end_time": "2024-12-07T07:11:12.641159",
     "exception": false,
     "start_time": "2024-12-07T07:11:12.204570",
     "status": "completed"
    },
    "tags": []
   },
   "outputs": [],
   "source": [
    "errata_crosstab_c = pd.crosstab(rush_df[\"Artwork\"], rush_df[\"Errata\"])\n",
    "errata_crosstab_c"
   ]
  },
  {
   "cell_type": "markdown",
   "id": "123",
   "metadata": {
    "papermill": {
     "duration": 0.147403,
     "end_time": "2024-12-07T07:11:13.549628",
     "exception": false,
     "start_time": "2024-12-07T07:11:13.402225",
     "status": "completed"
    },
    "tags": []
   },
   "source": [
    "More granularity is unnecessary"
   ]
  },
  {
   "cell_type": "markdown",
   "id": "124",
   "metadata": {
    "papermill": {
     "duration": 0.178429,
     "end_time": "2024-12-07T07:11:13.850230",
     "exception": false,
     "start_time": "2024-12-07T07:11:13.671801",
     "status": "completed"
    },
    "tags": []
   },
   "source": [
    "# Epilogue"
   ]
  },
  {
   "cell_type": "code",
   "execution_count": null,
   "id": "125",
   "metadata": {
    "papermill": {
     "duration": 0.92343,
     "end_time": "2024-12-07T07:11:14.895135",
     "exception": false,
     "start_time": "2024-12-07T07:11:13.971705",
     "status": "completed"
    },
    "tags": []
   },
   "outputs": [],
   "source": [
    "benchmark(report=\"rush\", timestamp=timestamp)"
   ]
  },
  {
   "cell_type": "code",
   "execution_count": null,
   "id": "126",
   "metadata": {
    "papermill": {
     "duration": 0.426922,
     "end_time": "2024-12-07T07:11:15.447081",
     "exception": false,
     "start_time": "2024-12-07T07:11:15.020159",
     "status": "completed"
    },
    "tags": []
   },
   "outputs": [],
   "source": [
    "footer(timestamp)"
   ]
  },
  {
   "cell_type": "markdown",
   "id": "127",
   "metadata": {
    "papermill": {
     "duration": 0.247763,
     "end_time": "2024-12-07T07:11:15.891988",
     "exception": false,
     "start_time": "2024-12-07T07:11:15.644225",
     "status": "completed"
    },
    "tags": []
   },
   "source": [
    "## HTML export"
   ]
  },
  {
   "cell_type": "code",
   "execution_count": null,
   "id": "128",
   "metadata": {
    "papermill": {
     "duration": 0.12633,
     "end_time": "2024-12-07T07:11:16.254399",
     "exception": false,
     "start_time": "2024-12-07T07:11:16.128069",
     "status": "completed"
    },
    "tags": []
   },
   "outputs": [],
   "source": [
    "# Save notebook on disck before generating HTML report\n",
    "save_notebook()"
   ]
  },
  {
   "cell_type": "code",
   "execution_count": null,
   "id": "129",
   "metadata": {
    "papermill": {
     "duration": 2.399771,
     "end_time": "2024-12-07T07:11:18.812580",
     "exception": false,
     "start_time": "2024-12-07T07:11:16.412809",
     "status": "completed"
    },
    "tags": []
   },
   "outputs": [],
   "source": [
    "export_notebook(dirs.NOTEBOOKS.user / \"Rush.ipynb\")"
   ]
  },
  {
   "cell_type": "markdown",
   "id": "130",
   "metadata": {
    "papermill": {
     "duration": 0.134011,
     "end_time": "2024-12-07T07:11:19.086607",
     "exception": false,
     "start_time": "2024-12-07T07:11:18.952596",
     "status": "completed"
    },
    "tags": [
     "exclude"
    ]
   },
   "source": [
    "## Git"
   ]
  },
  {
   "cell_type": "code",
   "execution_count": null,
   "id": "131",
   "metadata": {
    "papermill": {
     "duration": null,
     "end_time": null,
     "exception": false,
     "start_time": "2024-12-07T07:11:19.253342",
     "status": "running"
    },
    "tags": [
     "exclude"
    ]
   },
   "outputs": [],
   "source": [
    "git.commit(\"*[Rr]ush*\", f\"Rush duel update - {timestamp.isoformat()}\")"
   ]
  }
 ],
 "metadata": {
  "kernelspec": {
   "display_name": "Python3 (YugiQuery)",
   "language": "python",
   "name": "yugiquery"
  },
  "language_info": {
   "codemirror_mode": {
    "name": "ipython",
    "version": 3
   },
   "file_extension": ".py",
   "mimetype": "text/x-python",
   "name": "python",
   "nbconvert_exporter": "python",
   "pygments_lexer": "ipython3",
   "version": "3.11.6"
  },
  "papermill": {
   "default_parameters": {},
   "duration": null,
   "end_time": null,
   "environment_variables": {},
   "exception": null,
   "input_path": "/home/jovyan/yugiquery/notebooks/Rush.ipynb",
   "output_path": "/home/jovyan/yugiquery/notebooks/Rush.ipynb",
   "parameters": {},
   "start_time": "2024-12-07T07:09:27.573891",
   "version": "2.6.0"
  },
  "toc": {
   "base_numbering": 1,
   "nav_menu": {},
   "number_sections": true,
   "sideBar": true,
   "skip_h1_title": false,
   "title_cell": "Table of Contents",
   "title_sidebar": "Contents",
   "toc_cell": true,
   "toc_position": {},
   "toc_section_display": true,
   "toc_window_display": false
  }
 },
 "nbformat": 4,
 "nbformat_minor": 5
}
