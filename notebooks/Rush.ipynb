{
 "cells": [
  {
   "cell_type": "code",
   "execution_count": null,
   "id": "0",
   "metadata": {
    "papermill": {
     "duration": 87.641111,
     "end_time": "2025-01-04T07:13:01.657129",
     "exception": false,
     "start_time": "2025-01-04T07:11:34.016018",
     "status": "completed"
    },
    "tags": []
   },
   "outputs": [],
   "source": [
    "from yugiquery import *\n",
    "\n",
    "init_notebook_mode(all_interactive=True)\n",
    "\n",
    "header(\"Rush Duel\")"
   ]
  },
  {
   "cell_type": "markdown",
   "id": "1",
   "metadata": {
    "papermill": {
     "duration": 0.040248,
     "end_time": "2025-01-04T07:13:01.768664",
     "exception": false,
     "start_time": "2025-01-04T07:13:01.728416",
     "status": "completed"
    },
    "tags": []
   },
   "source": [
    "---"
   ]
  },
  {
   "cell_type": "markdown",
   "id": "2",
   "metadata": {
    "papermill": {
     "duration": 0.048417,
     "end_time": "2025-01-04T07:13:01.925361",
     "exception": false,
     "start_time": "2025-01-04T07:13:01.876944",
     "status": "completed"
    },
    "tags": []
   },
   "source": [
    "Table of Contents <a class=\"jp-toc-ignore\"></a>\n",
    "=================\n",
    "* [1 Data aquisition](#data-aquisition)\n",
    "  * [1.1 Fetch online data](#fetch-online-data)\n",
    "  * [1.2 Merge data](#merge-data)\n",
    "* [2 Check changes](#check-changes)\n",
    "  * [2.1 Load previous data](#load-previous-data)\n",
    "  * [2.2 Generate changelog](#generate-changelog)\n",
    "  * [2.3 Save data](#save-data)\n",
    "* [3 Data visualization](#data-visualization)\n",
    "  * [3.1 Card type](#card-type)\n",
    "  * [3.2 Monsters](#monsters)\n",
    "    * [3.2.1 Attribute](#attribute)\n",
    "    * [3.2.2 Primary type](#primary-type)\n",
    "      * [3.2.2.1 Has effect discrimination](#has-effect-discrimination)\n",
    "      * [3.2.2.2 By attribute](#by-attribute)\n",
    "    * [3.2.3 Monster type](#monster-type)\n",
    "      * [3.2.3.1 By Attribute](#by-attribute)\n",
    "      * [3.2.3.2 By primary type](#by-primary-type)\n",
    "    * [3.2.4 ATK](#atk)\n",
    "    * [3.2.5 DEF](#def)\n",
    "    * [3.2.6 Maximum mode](#maximum-mode)\n",
    "      * [3.2.6.1 MAXIMUM ATK](#maximum-atk)\n",
    "        * [3.2.6.1.1 By ATK](#by-atk)\n",
    "        * [3.2.6.1.2 By DEF](#by-def)\n",
    "    * [3.2.7 Level/Rank](#level/rank)\n",
    "      * [3.2.7.1 ATK statistics](#atk-statistics)\n",
    "      * [3.2.7.2 DEF statistics](#def-statistics)\n",
    "  * [3.3 Spell & Trap](#spell-&-trap)\n",
    "    * [3.3.1 Properties](#properties)\n",
    "  * [3.4 Effect type](#effect-type)\n",
    "    * [3.4.1 Card type discrimination](#card-type-discrimination)\n",
    "  * [3.5 Archseries](#archseries)\n",
    "    * [3.5.1 By card type](#by-card-type)\n",
    "    * [3.5.2 By primary type](#by-primary-type)\n",
    "    * [3.5.3 By monster type](#by-monster-type)\n",
    "    * [3.5.4 By property](#by-property)\n",
    "  * [3.6 Legend](#legend)\n",
    "      * [3.6.0.1 By card type](#by-card-type)\n",
    "      * [3.6.0.2 By Attribute](#by-attribute)\n",
    "      * [3.6.0.3 By primary type](#by-primary-type)\n",
    "      * [3.6.0.4 By monster type](#by-monster-type)\n",
    "  * [3.7 Artworks](#artworks)\n",
    "    * [3.7.1 By card type](#by-card-type)\n",
    "    * [3.7.2 By primary type](#by-primary-type)\n",
    "  * [3.8 Errata](#errata)\n",
    "    * [3.8.1 By card type](#by-card-type)\n",
    "    * [3.8.2 By primary type](#by-primary-type)\n",
    "    * [3.8.3 By artwork](#by-artwork)\n",
    "* [4 Epilogue](#epilogue)\n",
    "  * [4.1 HTML export](#html-export)\n",
    "  <!-- * [4.2 Git](#git) -->"
   ]
  },
  {
   "cell_type": "markdown",
   "id": "3",
   "metadata": {
    "papermill": {
     "duration": 0.103156,
     "end_time": "2025-01-04T07:13:02.122900",
     "exception": false,
     "start_time": "2025-01-04T07:13:02.019744",
     "status": "completed"
    },
    "tags": []
   },
   "source": [
    "# Data aquisition"
   ]
  },
  {
   "cell_type": "markdown",
   "id": "4",
   "metadata": {
    "papermill": {
     "duration": 0.088273,
     "end_time": "2025-01-04T07:13:02.278868",
     "exception": false,
     "start_time": "2025-01-04T07:13:02.190595",
     "status": "completed"
    },
    "tags": []
   },
   "source": [
    "## Fetch online data"
   ]
  },
  {
   "cell_type": "code",
   "execution_count": null,
   "id": "5",
   "metadata": {
    "papermill": {
     "duration": 0.095814,
     "end_time": "2025-01-04T07:13:02.653047",
     "exception": false,
     "start_time": "2025-01-04T07:13:02.557233",
     "status": "completed"
    },
    "tags": []
   },
   "outputs": [],
   "source": [
    "# Timestamp\n",
    "timestamp = arrow.utcnow()"
   ]
  },
  {
   "cell_type": "code",
   "execution_count": null,
   "id": "6",
   "metadata": {
    "papermill": {
     "duration": 22.183098,
     "end_time": "2025-01-04T07:13:24.904193",
     "exception": false,
     "start_time": "2025-01-04T07:13:02.721095",
     "status": "completed"
    },
    "tags": []
   },
   "outputs": [],
   "source": [
    "# Fetch rush cards\n",
    "rush_df = fetch_rush()\n",
    "\n",
    "# Fetch errata\n",
    "errata_df = fetch_errata()"
   ]
  },
  {
   "cell_type": "markdown",
   "id": "7",
   "metadata": {
    "papermill": {
     "duration": 0.160525,
     "end_time": "2025-01-04T07:13:25.117650",
     "exception": false,
     "start_time": "2025-01-04T07:13:24.957125",
     "status": "completed"
    },
    "tags": []
   },
   "source": [
    "## Merge data"
   ]
  },
  {
   "cell_type": "code",
   "execution_count": null,
   "id": "8",
   "metadata": {
    "papermill": {
     "duration": 1.096579,
     "end_time": "2025-01-04T07:13:26.412740",
     "exception": false,
     "start_time": "2025-01-04T07:13:25.316161",
     "status": "completed"
    },
    "tags": []
   },
   "outputs": [],
   "source": [
    "rush_df = merge_errata(rush_df, errata_df)\n",
    "print(\"Data merged\")"
   ]
  },
  {
   "cell_type": "markdown",
   "id": "9",
   "metadata": {
    "papermill": {
     "duration": 0.249531,
     "end_time": "2025-01-04T07:13:26.718465",
     "exception": false,
     "start_time": "2025-01-04T07:13:26.468934",
     "status": "completed"
    },
    "tags": []
   },
   "source": [
    "# Check changes"
   ]
  },
  {
   "cell_type": "markdown",
   "id": "10",
   "metadata": {
    "papermill": {
     "duration": 0.090822,
     "end_time": "2025-01-04T07:13:26.913439",
     "exception": false,
     "start_time": "2025-01-04T07:13:26.822617",
     "status": "completed"
    },
    "tags": []
   },
   "source": [
    "## Load previous data"
   ]
  },
  {
   "cell_type": "code",
   "execution_count": null,
   "id": "11",
   "metadata": {
    "papermill": {
     "duration": 0.41924,
     "end_time": "2025-01-04T07:13:27.388403",
     "exception": false,
     "start_time": "2025-01-04T07:13:26.969163",
     "status": "completed"
    },
    "tags": []
   },
   "outputs": [],
   "source": [
    "# Get latest file if exist\n",
    "tuple_cols = [\n",
    "    \"Effect type\",\n",
    "    \"Archseries\",\n",
    "    \"Artwork\",\n",
    "    \"Errata\",\n",
    "    \"Legend\",\n",
    "    \"Maximum mode\",\n",
    "]\n",
    "previous_df, previous_ts = load_latest_data(\"rush\", tuple_cols)\n",
    "\n",
    "if previous_df is not None:\n",
    "    previous_df = previous_df.astype(rush_df[previous_df.columns.intersection(rush_df.columns)].dtypes.to_dict())"
   ]
  },
  {
   "cell_type": "markdown",
   "id": "12",
   "metadata": {
    "papermill": {
     "duration": 0.184901,
     "end_time": "2025-01-04T07:13:27.647782",
     "exception": false,
     "start_time": "2025-01-04T07:13:27.462881",
     "status": "completed"
    },
    "tags": []
   },
   "source": [
    "## Generate changelog"
   ]
  },
  {
   "cell_type": "code",
   "execution_count": null,
   "id": "13",
   "metadata": {
    "papermill": {
     "duration": 0.608097,
     "end_time": "2025-01-04T07:13:28.309111",
     "exception": false,
     "start_time": "2025-01-04T07:13:27.701014",
     "status": "completed"
    },
    "tags": []
   },
   "outputs": [],
   "source": [
    "if previous_df is None:\n",
    "    changelog = None\n",
    "    print(\"Skipped\")\n",
    "else:\n",
    "    changelog = generate_changelog(previous_df, rush_df, col=\"Name\")\n",
    "    if not changelog.empty:\n",
    "        display(changelog)\n",
    "        changelog.to_csv(\n",
    "            dirs.DATA / make_filename(report=\"rush\", timestamp=timestamp, previous_timestamp=previous_ts),\n",
    "            index=True,\n",
    "        )\n",
    "        print(\"Changelog saved\")"
   ]
  },
  {
   "cell_type": "markdown",
   "id": "14",
   "metadata": {
    "papermill": {
     "duration": 0.121683,
     "end_time": "2025-01-04T07:13:28.500454",
     "exception": false,
     "start_time": "2025-01-04T07:13:28.378771",
     "status": "completed"
    },
    "tags": []
   },
   "source": [
    "## Save data"
   ]
  },
  {
   "cell_type": "code",
   "execution_count": null,
   "id": "15",
   "metadata": {
    "papermill": {
     "duration": 0.405997,
     "end_time": "2025-01-04T07:13:29.023626",
     "exception": false,
     "start_time": "2025-01-04T07:13:28.617629",
     "status": "completed"
    },
    "tags": []
   },
   "outputs": [],
   "source": [
    "if changelog is not None and changelog.empty:\n",
    "    print(\"No changes. New data not saved\")\n",
    "else:\n",
    "    rush_df.to_csv(\n",
    "        dirs.DATA / make_filename(report=\"rush\", timestamp=timestamp),\n",
    "        index=False,\n",
    "    )\n",
    "    print(\"Data saved\")"
   ]
  },
  {
   "cell_type": "markdown",
   "id": "16",
   "metadata": {
    "papermill": {
     "duration": 0.132126,
     "end_time": "2025-01-04T07:13:29.359413",
     "exception": false,
     "start_time": "2025-01-04T07:13:29.227287",
     "status": "completed"
    },
    "tags": []
   },
   "source": [
    "# Data visualization"
   ]
  },
  {
   "cell_type": "code",
   "execution_count": null,
   "id": "17",
   "metadata": {
    "papermill": {
     "duration": 0.502994,
     "end_time": "2025-01-04T07:13:30.030670",
     "exception": false,
     "start_time": "2025-01-04T07:13:29.527676",
     "status": "completed"
    },
    "tags": []
   },
   "outputs": [],
   "source": [
    "rush_df"
   ]
  },
  {
   "cell_type": "markdown",
   "id": "18",
   "metadata": {
    "papermill": {
     "duration": 0.272399,
     "end_time": "2025-01-04T07:13:30.354080",
     "exception": false,
     "start_time": "2025-01-04T07:13:30.081681",
     "status": "completed"
    },
    "tags": []
   },
   "source": [
    "## Card type"
   ]
  },
  {
   "cell_type": "code",
   "execution_count": null,
   "id": "19",
   "metadata": {
    "papermill": {
     "duration": 0.51288,
     "end_time": "2025-01-04T07:13:31.137151",
     "exception": false,
     "start_time": "2025-01-04T07:13:30.624271",
     "status": "completed"
    },
    "tags": []
   },
   "outputs": [],
   "source": [
    "print(\"Total number of card types:\", rush_df[\"Card type\"].nunique())"
   ]
  },
  {
   "cell_type": "code",
   "execution_count": null,
   "id": "20",
   "metadata": {
    "papermill": {
     "duration": 0.879334,
     "end_time": "2025-01-04T07:13:32.112449",
     "exception": false,
     "start_time": "2025-01-04T07:13:31.233115",
     "status": "completed"
    },
    "tags": []
   },
   "outputs": [],
   "source": [
    "card_type_colors = [plot.colors_dict[i] for i in rush_df[\"Card type\"].value_counts().index]\n",
    "rush_df[\"Card type\"].value_counts().plot.bar(figsize=(14, 6), rot=0, color=card_type_colors)\n",
    "plt.show()"
   ]
  },
  {
   "cell_type": "markdown",
   "id": "21",
   "metadata": {
    "papermill": {
     "duration": 0.213225,
     "end_time": "2025-01-04T07:13:32.392386",
     "exception": false,
     "start_time": "2025-01-04T07:13:32.179161",
     "status": "completed"
    },
    "tags": []
   },
   "source": [
    "## Monsters"
   ]
  },
  {
   "cell_type": "markdown",
   "id": "22",
   "metadata": {
    "papermill": {
     "duration": 0.253049,
     "end_time": "2025-01-04T07:13:32.757431",
     "exception": false,
     "start_time": "2025-01-04T07:13:32.504382",
     "status": "completed"
    },
    "tags": []
   },
   "source": [
    "### Attribute"
   ]
  },
  {
   "cell_type": "code",
   "execution_count": null,
   "id": "23",
   "metadata": {
    "papermill": {
     "duration": 0.115043,
     "end_time": "2025-01-04T07:13:32.969222",
     "exception": false,
     "start_time": "2025-01-04T07:13:32.854179",
     "status": "completed"
    },
    "tags": []
   },
   "outputs": [],
   "source": [
    "print(\"Total number of attributes:\", rush_df[\"Attribute\"].nunique())"
   ]
  },
  {
   "cell_type": "code",
   "execution_count": null,
   "id": "24",
   "metadata": {
    "papermill": {
     "duration": 0.16935,
     "end_time": "2025-01-04T07:13:33.253337",
     "exception": false,
     "start_time": "2025-01-04T07:13:33.083987",
     "status": "completed"
    },
    "tags": []
   },
   "outputs": [],
   "source": [
    "rush_df.drop(columns=[\"Card type\"]).groupby(\"Attribute\").nunique()"
   ]
  },
  {
   "cell_type": "code",
   "execution_count": null,
   "id": "25",
   "metadata": {
    "papermill": {
     "duration": 0.251789,
     "end_time": "2025-01-04T07:13:33.733709",
     "exception": false,
     "start_time": "2025-01-04T07:13:33.481920",
     "status": "completed"
    },
    "tags": []
   },
   "outputs": [],
   "source": [
    "attribute_colors = [plot.colors_dict[i] for i in rush_df[\"Attribute\"].value_counts().index]\n",
    "rush_df[\"Attribute\"].value_counts().plot.bar(figsize=(16, 6), rot=0, color=attribute_colors)\n",
    "plt.show()"
   ]
  },
  {
   "cell_type": "markdown",
   "id": "26",
   "metadata": {
    "papermill": {
     "duration": 0.094574,
     "end_time": "2025-01-04T07:13:33.887551",
     "exception": false,
     "start_time": "2025-01-04T07:13:33.792977",
     "status": "completed"
    },
    "tags": []
   },
   "source": [
    "### Primary type"
   ]
  },
  {
   "cell_type": "code",
   "execution_count": null,
   "id": "27",
   "metadata": {
    "papermill": {
     "duration": 0.354629,
     "end_time": "2025-01-04T07:13:34.299751",
     "exception": false,
     "start_time": "2025-01-04T07:13:33.945122",
     "status": "completed"
    },
    "tags": []
   },
   "outputs": [],
   "source": [
    "print(\"Total number of primary types:\", rush_df[\"Primary type\"].nunique())"
   ]
  },
  {
   "cell_type": "code",
   "execution_count": null,
   "id": "28",
   "metadata": {
    "papermill": {
     "duration": 0.113927,
     "end_time": "2025-01-04T07:13:34.596147",
     "exception": false,
     "start_time": "2025-01-04T07:13:34.482220",
     "status": "completed"
    },
    "tags": []
   },
   "outputs": [],
   "source": [
    "rush_df.drop(columns=[\"Card type\"]).groupby(\"Primary type\").nunique()"
   ]
  },
  {
   "cell_type": "markdown",
   "id": "29",
   "metadata": {
    "papermill": {
     "duration": 0.347569,
     "end_time": "2025-01-04T07:13:35.007160",
     "exception": false,
     "start_time": "2025-01-04T07:13:34.659591",
     "status": "completed"
    },
    "tags": []
   },
   "source": [
    "#### Has effect discrimination"
   ]
  },
  {
   "cell_type": "code",
   "execution_count": null,
   "id": "30",
   "metadata": {
    "papermill": {
     "duration": 0.248581,
     "end_time": "2025-01-04T07:13:35.431598",
     "exception": false,
     "start_time": "2025-01-04T07:13:35.183017",
     "status": "completed"
    },
    "tags": []
   },
   "outputs": [],
   "source": [
    "has_effect = rush_df[\"Primary type\"].where(rush_df[\"Effect type\"].notna()).value_counts().rename(\"Effect\")\n",
    "no_effect = rush_df[\"Primary type\"].where(rush_df[\"Effect type\"].isna()).value_counts().rename(\"No Effect\")\n",
    "effect = pd.concat([has_effect, no_effect], axis=1).fillna(0).astype(int)\n",
    "effect"
   ]
  },
  {
   "cell_type": "code",
   "execution_count": null,
   "id": "31",
   "metadata": {
    "papermill": {
     "duration": 0.601537,
     "end_time": "2025-01-04T07:13:36.092125",
     "exception": false,
     "start_time": "2025-01-04T07:13:35.490588",
     "status": "completed"
    },
    "tags": []
   },
   "outputs": [],
   "source": [
    "monster_type_colors = {\n",
    "    \"No Effect\": plot.colors_dict[\"Normal Monster\"],\n",
    "    \"Effect\": [plot.colors_dict[i] for i in effect.index],\n",
    "}\n",
    "effect.plot.bar(\n",
    "    figsize=(12, 6),\n",
    "    stacked=True,\n",
    "    rot=0,\n",
    "    legend=True,\n",
    "    color=monster_type_colors,\n",
    "    title=\"Primary types - Has effect\",\n",
    ")\n",
    "# plt.yscale('log')\n",
    "plt.show()"
   ]
  },
  {
   "cell_type": "markdown",
   "id": "32",
   "metadata": {
    "papermill": {
     "duration": 0.20762,
     "end_time": "2025-01-04T07:13:36.371122",
     "exception": false,
     "start_time": "2025-01-04T07:13:36.163502",
     "status": "completed"
    },
    "tags": []
   },
   "source": [
    "Obs: Effect monster can show as no effect if it is not released yet"
   ]
  },
  {
   "cell_type": "markdown",
   "id": "33",
   "metadata": {
    "papermill": {
     "duration": 0.058326,
     "end_time": "2025-01-04T07:13:36.548061",
     "exception": false,
     "start_time": "2025-01-04T07:13:36.489735",
     "status": "completed"
    },
    "tags": []
   },
   "source": [
    "#### By attribute"
   ]
  },
  {
   "cell_type": "code",
   "execution_count": null,
   "id": "34",
   "metadata": {
    "papermill": {
     "duration": 0.140795,
     "end_time": "2025-01-04T07:13:36.753078",
     "exception": false,
     "start_time": "2025-01-04T07:13:36.612283",
     "status": "completed"
    },
    "tags": []
   },
   "outputs": [],
   "source": [
    "primmary_crosstab = pd.crosstab(rush_df[\"Primary type\"], rush_df[\"Attribute\"])\n",
    "primmary_crosstab"
   ]
  },
  {
   "cell_type": "code",
   "execution_count": null,
   "id": "35",
   "metadata": {
    "papermill": {
     "duration": 1.493783,
     "end_time": "2025-01-04T07:13:38.308620",
     "exception": false,
     "start_time": "2025-01-04T07:13:36.814837",
     "status": "completed"
    },
    "tags": []
   },
   "outputs": [],
   "source": [
    "plt.figure(figsize=(16, 6))\n",
    "sns.heatmap(\n",
    "    primmary_crosstab,\n",
    "    annot=True,\n",
    "    fmt=\"g\",\n",
    "    cmap=\"viridis\",\n",
    "    square=True,\n",
    "    norm=plot.LogNorm(),\n",
    ")\n",
    "plt.show()"
   ]
  },
  {
   "cell_type": "markdown",
   "id": "36",
   "metadata": {
    "papermill": {
     "duration": 0.28999,
     "end_time": "2025-01-04T07:13:38.720534",
     "exception": false,
     "start_time": "2025-01-04T07:13:38.430544",
     "status": "completed"
    },
    "tags": []
   },
   "source": [
    "### Monster type"
   ]
  },
  {
   "cell_type": "code",
   "execution_count": null,
   "id": "37",
   "metadata": {
    "papermill": {
     "duration": 0.084528,
     "end_time": "2025-01-04T07:13:38.921826",
     "exception": false,
     "start_time": "2025-01-04T07:13:38.837298",
     "status": "completed"
    },
    "tags": []
   },
   "outputs": [],
   "source": [
    "print(\"Total number of monster types:\", rush_df[\"Monster type\"].nunique())"
   ]
  },
  {
   "cell_type": "code",
   "execution_count": null,
   "id": "38",
   "metadata": {
    "papermill": {
     "duration": 0.458853,
     "end_time": "2025-01-04T07:13:39.519710",
     "exception": false,
     "start_time": "2025-01-04T07:13:39.060857",
     "status": "completed"
    },
    "tags": []
   },
   "outputs": [],
   "source": [
    "rush_df.drop(columns=[\"Card type\"]).groupby(\"Monster type\").nunique()"
   ]
  },
  {
   "cell_type": "code",
   "execution_count": null,
   "id": "39",
   "metadata": {
    "papermill": {
     "duration": 0.94246,
     "end_time": "2025-01-04T07:13:40.583778",
     "exception": false,
     "start_time": "2025-01-04T07:13:39.641318",
     "status": "completed"
    },
    "tags": []
   },
   "outputs": [],
   "source": [
    "monster_type_colors = plot.colors_dict[\"Monster Card\"]\n",
    "rush_df[\"Monster type\"].value_counts().plot.bar(figsize=(18, 6), rot=60, color=monster_type_colors)\n",
    "plt.show()"
   ]
  },
  {
   "cell_type": "markdown",
   "id": "40",
   "metadata": {
    "papermill": {
     "duration": 0.292434,
     "end_time": "2025-01-04T07:13:41.103373",
     "exception": false,
     "start_time": "2025-01-04T07:13:40.810939",
     "status": "completed"
    },
    "tags": []
   },
   "source": [
    "#### By Attribute"
   ]
  },
  {
   "cell_type": "code",
   "execution_count": null,
   "id": "41",
   "metadata": {
    "papermill": {
     "duration": 0.135533,
     "end_time": "2025-01-04T07:13:41.397010",
     "exception": false,
     "start_time": "2025-01-04T07:13:41.261477",
     "status": "completed"
    },
    "tags": []
   },
   "outputs": [],
   "source": [
    "monster_crosstab = pd.crosstab(rush_df[\"Monster type\"], rush_df[\"Attribute\"], dropna=False)\n",
    "monster_crosstab"
   ]
  },
  {
   "cell_type": "code",
   "execution_count": null,
   "id": "42",
   "metadata": {
    "papermill": {
     "duration": 1.574887,
     "end_time": "2025-01-04T07:13:43.261865",
     "exception": false,
     "start_time": "2025-01-04T07:13:41.686978",
     "status": "completed"
    },
    "tags": []
   },
   "outputs": [],
   "source": [
    "plt.figure(figsize=(18, 4))\n",
    "sns.heatmap(\n",
    "    monster_crosstab[monster_crosstab > 0].T,\n",
    "    annot=True,\n",
    "    fmt=\"g\",\n",
    "    cmap=\"viridis\",\n",
    "    square=True,\n",
    "    norm=plot.LogNorm(),\n",
    ")\n",
    "plt.show()"
   ]
  },
  {
   "cell_type": "markdown",
   "id": "43",
   "metadata": {
    "papermill": {
     "duration": 0.233384,
     "end_time": "2025-01-04T07:13:43.653826",
     "exception": false,
     "start_time": "2025-01-04T07:13:43.420442",
     "status": "completed"
    },
    "tags": []
   },
   "source": [
    "#### By primary type"
   ]
  },
  {
   "cell_type": "code",
   "execution_count": null,
   "id": "44",
   "metadata": {
    "papermill": {
     "duration": 0.122856,
     "end_time": "2025-01-04T07:13:43.892485",
     "exception": false,
     "start_time": "2025-01-04T07:13:43.769629",
     "status": "completed"
    },
    "tags": []
   },
   "outputs": [],
   "source": [
    "monster_crosstab_b = pd.crosstab(rush_df[\"Monster type\"], rush_df[\"Primary type\"], dropna=False)\n",
    "monster_crosstab_b"
   ]
  },
  {
   "cell_type": "code",
   "execution_count": null,
   "id": "45",
   "metadata": {
    "papermill": {
     "duration": 1.03431,
     "end_time": "2025-01-04T07:13:45.398489",
     "exception": false,
     "start_time": "2025-01-04T07:13:44.364179",
     "status": "completed"
    },
    "tags": []
   },
   "outputs": [],
   "source": [
    "plt.figure(figsize=(18, 3))\n",
    "sns.heatmap(\n",
    "    monster_crosstab_b[monster_crosstab_b > 0].T,\n",
    "    annot=True,\n",
    "    fmt=\"g\",\n",
    "    cmap=\"viridis\",\n",
    "    square=True,\n",
    "    norm=plot.LogNorm(),\n",
    ")\n",
    "plt.show()"
   ]
  },
  {
   "cell_type": "markdown",
   "id": "46",
   "metadata": {
    "papermill": {
     "duration": 0.26634,
     "end_time": "2025-01-04T07:13:45.771465",
     "exception": false,
     "start_time": "2025-01-04T07:13:45.505125",
     "status": "completed"
    },
    "tags": []
   },
   "source": [
    "### ATK"
   ]
  },
  {
   "cell_type": "code",
   "execution_count": null,
   "id": "47",
   "metadata": {
    "papermill": {
     "duration": 0.097327,
     "end_time": "2025-01-04T07:13:45.961384",
     "exception": false,
     "start_time": "2025-01-04T07:13:45.864057",
     "status": "completed"
    },
    "tags": []
   },
   "outputs": [],
   "source": [
    "print(\"Total number of ATK values:\", rush_df[\"ATK\"].nunique())"
   ]
  },
  {
   "cell_type": "code",
   "execution_count": null,
   "id": "48",
   "metadata": {
    "papermill": {
     "duration": 0.174145,
     "end_time": "2025-01-04T07:13:46.218431",
     "exception": false,
     "start_time": "2025-01-04T07:13:46.044286",
     "status": "completed"
    },
    "tags": []
   },
   "outputs": [],
   "source": [
    "rush_df.drop(columns=[\"Card type\"]).groupby(\"ATK\").nunique().sort_index(key=lambda x: pd.to_numeric(x, errors=\"coerce\"))"
   ]
  },
  {
   "cell_type": "code",
   "execution_count": null,
   "id": "49",
   "metadata": {
    "papermill": {
     "duration": 0.664271,
     "end_time": "2025-01-04T07:13:47.298495",
     "exception": false,
     "start_time": "2025-01-04T07:13:46.634224",
     "status": "completed"
    },
    "tags": []
   },
   "outputs": [],
   "source": [
    "atk_colors = plot.colors_dict[\"Monster Card\"]\n",
    "rush_df[\"DEF\"].value_counts().sort_index(key=lambda x: pd.to_numeric(x, errors=\"coerce\")).plot.bar(\n",
    "    figsize=(18, 6), color=atk_colors\n",
    ")\n",
    "plt.show()"
   ]
  },
  {
   "cell_type": "markdown",
   "id": "50",
   "metadata": {
    "papermill": {
     "duration": 0.273363,
     "end_time": "2025-01-04T07:13:47.649694",
     "exception": false,
     "start_time": "2025-01-04T07:13:47.376331",
     "status": "completed"
    },
    "tags": []
   },
   "source": [
    "### DEF"
   ]
  },
  {
   "cell_type": "code",
   "execution_count": null,
   "id": "51",
   "metadata": {
    "papermill": {
     "duration": 1.042516,
     "end_time": "2025-01-04T07:13:49.492101",
     "exception": false,
     "start_time": "2025-01-04T07:13:48.449585",
     "status": "completed"
    },
    "tags": []
   },
   "outputs": [],
   "source": [
    "print(\"Total number of DEF values:\", rush_df[\"DEF\"].nunique())"
   ]
  },
  {
   "cell_type": "code",
   "execution_count": null,
   "id": "52",
   "metadata": {
    "papermill": {
     "duration": 0.26196,
     "end_time": "2025-01-04T07:13:49.842722",
     "exception": false,
     "start_time": "2025-01-04T07:13:49.580762",
     "status": "completed"
    },
    "tags": []
   },
   "outputs": [],
   "source": [
    "rush_df.drop(columns=[\"Card type\"]).groupby(\"DEF\").nunique().sort_index(key=lambda x: pd.to_numeric(x, errors=\"coerce\"))"
   ]
  },
  {
   "cell_type": "code",
   "execution_count": null,
   "id": "53",
   "metadata": {
    "papermill": {
     "duration": 0.527545,
     "end_time": "2025-01-04T07:13:50.623216",
     "exception": false,
     "start_time": "2025-01-04T07:13:50.095671",
     "status": "completed"
    },
    "tags": []
   },
   "outputs": [],
   "source": [
    "def_colors = plot.colors_dict[\"Monster Card\"]\n",
    "rush_df[\"DEF\"].value_counts().sort_index(key=lambda x: pd.to_numeric(x, errors=\"coerce\")).plot.bar(\n",
    "    figsize=(18, 6), color=def_colors\n",
    ")\n",
    "plt.show()"
   ]
  },
  {
   "cell_type": "markdown",
   "id": "54",
   "metadata": {
    "papermill": {
     "duration": 0.09691,
     "end_time": "2025-01-04T07:13:50.828652",
     "exception": false,
     "start_time": "2025-01-04T07:13:50.731742",
     "status": "completed"
    },
    "tags": []
   },
   "source": [
    "### Maximum mode"
   ]
  },
  {
   "cell_type": "code",
   "execution_count": null,
   "id": "55",
   "metadata": {
    "papermill": {
     "duration": 0.254003,
     "end_time": "2025-01-04T07:13:51.473741",
     "exception": false,
     "start_time": "2025-01-04T07:13:51.219738",
     "status": "completed"
    },
    "tags": []
   },
   "outputs": [],
   "source": [
    "print(\"Total cards requiring maximum mode:\", rush_df[\"Maximum mode\"].sum())"
   ]
  },
  {
   "cell_type": "code",
   "execution_count": null,
   "id": "56",
   "metadata": {
    "papermill": {
     "duration": 0.137474,
     "end_time": "2025-01-04T07:13:51.787370",
     "exception": false,
     "start_time": "2025-01-04T07:13:51.649896",
     "status": "completed"
    },
    "tags": []
   },
   "outputs": [],
   "source": [
    "rush_df[rush_df[\"Maximum mode\"]]"
   ]
  },
  {
   "cell_type": "markdown",
   "id": "57",
   "metadata": {
    "papermill": {
     "duration": 0.09455,
     "end_time": "2025-01-04T07:13:52.151541",
     "exception": false,
     "start_time": "2025-01-04T07:13:52.056991",
     "status": "completed"
    },
    "tags": []
   },
   "source": [
    "#### MAXIMUM ATK"
   ]
  },
  {
   "cell_type": "code",
   "execution_count": null,
   "id": "58",
   "metadata": {
    "papermill": {
     "duration": 0.154908,
     "end_time": "2025-01-04T07:13:52.543580",
     "exception": false,
     "start_time": "2025-01-04T07:13:52.388672",
     "status": "completed"
    },
    "tags": []
   },
   "outputs": [],
   "source": [
    "print(\"Total number of MAXIMUM ATK values:\", rush_df[\"MAXIMUM ATK\"].nunique())"
   ]
  },
  {
   "cell_type": "code",
   "execution_count": null,
   "id": "59",
   "metadata": {
    "papermill": {
     "duration": 0.266064,
     "end_time": "2025-01-04T07:13:53.221062",
     "exception": false,
     "start_time": "2025-01-04T07:13:52.954998",
     "status": "completed"
    },
    "tags": []
   },
   "outputs": [],
   "source": [
    "def_colors = plot.colors_dict[\"Monster Card\"]\n",
    "rush_df[\"MAXIMUM ATK\"].value_counts().sort_index(key=lambda x: pd.to_numeric(x, errors=\"coerce\")).plot.bar(\n",
    "    figsize=(10, 6), color=def_colors\n",
    ")\n",
    "plt.show()"
   ]
  },
  {
   "cell_type": "markdown",
   "id": "60",
   "metadata": {
    "papermill": {
     "duration": 0.284209,
     "end_time": "2025-01-04T07:13:53.599942",
     "exception": false,
     "start_time": "2025-01-04T07:13:53.315733",
     "status": "completed"
    },
    "tags": []
   },
   "source": [
    "##### By ATK"
   ]
  },
  {
   "cell_type": "code",
   "execution_count": null,
   "id": "61",
   "metadata": {
    "papermill": {
     "duration": 0.228633,
     "end_time": "2025-01-04T07:13:53.915415",
     "exception": false,
     "start_time": "2025-01-04T07:13:53.686782",
     "status": "completed"
    },
    "tags": []
   },
   "outputs": [],
   "source": [
    "max_atk_crosstab = pd.crosstab(rush_df[\"ATK\"], rush_df[\"MAXIMUM ATK\"])\n",
    "max_atk_crosstab"
   ]
  },
  {
   "cell_type": "markdown",
   "id": "62",
   "metadata": {
    "papermill": {
     "duration": 0.370478,
     "end_time": "2025-01-04T07:13:54.373409",
     "exception": false,
     "start_time": "2025-01-04T07:13:54.002931",
     "status": "completed"
    },
    "tags": []
   },
   "source": [
    "##### By DEF"
   ]
  },
  {
   "cell_type": "code",
   "execution_count": null,
   "id": "63",
   "metadata": {
    "papermill": {
     "duration": 0.140621,
     "end_time": "2025-01-04T07:13:54.608557",
     "exception": false,
     "start_time": "2025-01-04T07:13:54.467936",
     "status": "completed"
    },
    "tags": []
   },
   "outputs": [],
   "source": [
    "max_def_crosstab = pd.crosstab(rush_df[\"DEF\"], rush_df[\"MAXIMUM ATK\"])\n",
    "max_def_crosstab"
   ]
  },
  {
   "cell_type": "markdown",
   "id": "64",
   "metadata": {
    "papermill": {
     "duration": 0.16016,
     "end_time": "2025-01-04T07:13:55.380208",
     "exception": false,
     "start_time": "2025-01-04T07:13:55.220048",
     "status": "completed"
    },
    "tags": []
   },
   "source": [
    "### Level/Rank"
   ]
  },
  {
   "cell_type": "code",
   "execution_count": null,
   "id": "65",
   "metadata": {
    "papermill": {
     "duration": 0.135815,
     "end_time": "2025-01-04T07:13:55.840521",
     "exception": false,
     "start_time": "2025-01-04T07:13:55.704706",
     "status": "completed"
    },
    "tags": []
   },
   "outputs": [],
   "source": [
    "rush_df.drop(columns=[\"Card type\"]).groupby(\"Level/Rank\").nunique().sort_index(\n",
    "    key=lambda x: pd.to_numeric(x, errors=\"coerce\")\n",
    ")"
   ]
  },
  {
   "cell_type": "code",
   "execution_count": null,
   "id": "66",
   "metadata": {
    "papermill": {
     "duration": 0.34588,
     "end_time": "2025-01-04T07:13:56.791043",
     "exception": false,
     "start_time": "2025-01-04T07:13:56.445163",
     "status": "completed"
    },
    "tags": []
   },
   "outputs": [],
   "source": [
    "stars_colors = plot.colors_dict[\"Level\"]\n",
    "rush_df[\"Level/Rank\"].value_counts().sort_index(key=lambda x: pd.to_numeric(x, errors=\"coerce\")).plot.bar(\n",
    "    figsize=(16, 6), rot=0, color=stars_colors\n",
    ")\n",
    "plt.show()"
   ]
  },
  {
   "cell_type": "markdown",
   "id": "67",
   "metadata": {
    "papermill": {
     "duration": 0.312157,
     "end_time": "2025-01-04T07:13:57.232096",
     "exception": false,
     "start_time": "2025-01-04T07:13:56.919939",
     "status": "completed"
    },
    "tags": []
   },
   "source": [
    "#### ATK statistics"
   ]
  },
  {
   "cell_type": "code",
   "execution_count": null,
   "id": "68",
   "metadata": {
    "papermill": {
     "duration": 0.27488,
     "end_time": "2025-01-04T07:13:57.637303",
     "exception": false,
     "start_time": "2025-01-04T07:13:57.362423",
     "status": "completed"
    },
    "tags": []
   },
   "outputs": [],
   "source": [
    "rush_df[[\"Level/Rank\", \"ATK\"]].apply(pd.to_numeric, errors=\"coerce\").dropna().astype(int).groupby(\n",
    "    \"Level/Rank\"\n",
    ").describe().round(1)"
   ]
  },
  {
   "cell_type": "markdown",
   "id": "69",
   "metadata": {
    "papermill": {
     "duration": 0.372489,
     "end_time": "2025-01-04T07:13:58.504135",
     "exception": false,
     "start_time": "2025-01-04T07:13:58.131646",
     "status": "completed"
    },
    "tags": []
   },
   "source": [
    "#### DEF statistics"
   ]
  },
  {
   "cell_type": "code",
   "execution_count": null,
   "id": "70",
   "metadata": {
    "papermill": {
     "duration": 0.863076,
     "end_time": "2025-01-04T07:13:59.548726",
     "exception": false,
     "start_time": "2025-01-04T07:13:58.685650",
     "status": "completed"
    },
    "tags": []
   },
   "outputs": [],
   "source": [
    "rush_df[[\"Level/Rank\", \"DEF\"]].apply(pd.to_numeric, errors=\"coerce\").dropna().astype(int).groupby(\n",
    "    \"Level/Rank\"\n",
    ").describe().round(1)"
   ]
  },
  {
   "cell_type": "markdown",
   "id": "71",
   "metadata": {
    "papermill": {
     "duration": 0.444488,
     "end_time": "2025-01-04T07:14:00.085162",
     "exception": false,
     "start_time": "2025-01-04T07:13:59.640674",
     "status": "completed"
    },
    "tags": []
   },
   "source": [
    "## Spell & Trap"
   ]
  },
  {
   "cell_type": "markdown",
   "id": "72",
   "metadata": {
    "papermill": {
     "duration": 0.117778,
     "end_time": "2025-01-04T07:14:00.315488",
     "exception": false,
     "start_time": "2025-01-04T07:14:00.197710",
     "status": "completed"
    },
    "tags": []
   },
   "source": [
    "### Properties"
   ]
  },
  {
   "cell_type": "code",
   "execution_count": null,
   "id": "73",
   "metadata": {
    "papermill": {
     "duration": 0.156946,
     "end_time": "2025-01-04T07:14:01.046012",
     "exception": false,
     "start_time": "2025-01-04T07:14:00.889066",
     "status": "completed"
    },
    "tags": []
   },
   "outputs": [],
   "source": [
    "print(\"Total number of properties:\", rush_df[\"Property\"].nunique())"
   ]
  },
  {
   "cell_type": "code",
   "execution_count": null,
   "id": "74",
   "metadata": {
    "papermill": {
     "duration": 0.348628,
     "end_time": "2025-01-04T07:14:01.750275",
     "exception": false,
     "start_time": "2025-01-04T07:14:01.401647",
     "status": "completed"
    },
    "tags": []
   },
   "outputs": [],
   "source": [
    "rush_df.drop(columns=[\"Card type\"]).groupby(\"Property\").nunique()"
   ]
  },
  {
   "cell_type": "code",
   "execution_count": null,
   "id": "75",
   "metadata": {
    "papermill": {
     "duration": 0.267711,
     "end_time": "2025-01-04T07:14:02.110777",
     "exception": false,
     "start_time": "2025-01-04T07:14:01.843066",
     "status": "completed"
    },
    "tags": []
   },
   "outputs": [],
   "source": [
    "st_colors = [plot.colors_dict[i] for i in rush_df[[\"Card type\", \"Property\"]].value_counts().index.get_level_values(0)]\n",
    "rush_df[\"Property\"].value_counts().plot.bar(figsize=(10, 6), rot=0, color=st_colors)\n",
    "plt.show()"
   ]
  },
  {
   "cell_type": "markdown",
   "id": "76",
   "metadata": {
    "papermill": {
     "duration": 0.459229,
     "end_time": "2025-01-04T07:14:02.728915",
     "exception": false,
     "start_time": "2025-01-04T07:14:02.269686",
     "status": "completed"
    },
    "tags": []
   },
   "source": [
    "## Effect type"
   ]
  },
  {
   "cell_type": "code",
   "execution_count": null,
   "id": "77",
   "metadata": {
    "papermill": {
     "duration": 0.342185,
     "end_time": "2025-01-04T07:14:03.301341",
     "exception": false,
     "start_time": "2025-01-04T07:14:02.959156",
     "status": "completed"
    },
    "tags": []
   },
   "outputs": [],
   "source": [
    "print(\"Total number of effect types:\", rush_df[\"Effect type\"].explode().nunique())"
   ]
  },
  {
   "cell_type": "code",
   "execution_count": null,
   "id": "78",
   "metadata": {
    "papermill": {
     "duration": 0.267574,
     "end_time": "2025-01-04T07:14:04.450018",
     "exception": false,
     "start_time": "2025-01-04T07:14:04.182444",
     "status": "completed"
    },
    "tags": []
   },
   "outputs": [],
   "source": [
    "rush_df.explode(\"Effect type\").groupby(\"Effect type\").nunique()"
   ]
  },
  {
   "cell_type": "markdown",
   "id": "79",
   "metadata": {
    "papermill": {
     "duration": 0.130061,
     "end_time": "2025-01-04T07:14:04.784959",
     "exception": false,
     "start_time": "2025-01-04T07:14:04.654898",
     "status": "completed"
    },
    "tags": []
   },
   "source": [
    "### Card type discrimination"
   ]
  },
  {
   "cell_type": "code",
   "execution_count": null,
   "id": "80",
   "metadata": {
    "papermill": {
     "duration": 0.241224,
     "end_time": "2025-01-04T07:14:05.237506",
     "exception": false,
     "start_time": "2025-01-04T07:14:04.996282",
     "status": "completed"
    },
    "tags": []
   },
   "outputs": [],
   "source": [
    "type_diff = rush_df[[\"Card type\", \"Effect type\"]].explode(\"Effect type\").value_counts().unstack(0).fillna(0).astype(int)\n",
    "type_diff"
   ]
  },
  {
   "cell_type": "code",
   "execution_count": null,
   "id": "81",
   "metadata": {
    "papermill": {
     "duration": 0.430473,
     "end_time": "2025-01-04T07:14:05.936896",
     "exception": false,
     "start_time": "2025-01-04T07:14:05.506423",
     "status": "completed"
    },
    "tags": []
   },
   "outputs": [],
   "source": [
    "type_diff_colors = {type: plot.colors_dict[type] for type in rush_df[\"Card type\"].unique()}\n",
    "type_diff.plot.bar(figsize=(10, 6), stacked=True, rot=0, color=type_diff_colors)\n",
    "plt.show()"
   ]
  },
  {
   "cell_type": "markdown",
   "id": "82",
   "metadata": {
    "papermill": {
     "duration": 0.364032,
     "end_time": "2025-01-04T07:14:06.399311",
     "exception": false,
     "start_time": "2025-01-04T07:14:06.035279",
     "status": "completed"
    },
    "tags": []
   },
   "source": [
    "## Archseries"
   ]
  },
  {
   "cell_type": "code",
   "execution_count": null,
   "id": "83",
   "metadata": {
    "papermill": {
     "duration": 0.204768,
     "end_time": "2025-01-04T07:14:06.738677",
     "exception": false,
     "start_time": "2025-01-04T07:14:06.533909",
     "status": "completed"
    },
    "tags": []
   },
   "outputs": [],
   "source": [
    "exploded_archseries = rush_df.explode(\"Archseries\")\n",
    "print(\"Total number of Archseries:\", exploded_archseries[\"Archseries\"].nunique())"
   ]
  },
  {
   "cell_type": "code",
   "execution_count": null,
   "id": "84",
   "metadata": {
    "papermill": {
     "duration": 0.393173,
     "end_time": "2025-01-04T07:14:07.593371",
     "exception": false,
     "start_time": "2025-01-04T07:14:07.200198",
     "status": "completed"
    },
    "tags": []
   },
   "outputs": [],
   "source": [
    "exploded_archseries.groupby(\"Archseries\").nunique()"
   ]
  },
  {
   "cell_type": "code",
   "execution_count": null,
   "id": "85",
   "metadata": {
    "papermill": {
     "duration": 0.693287,
     "end_time": "2025-01-04T07:14:08.386985",
     "exception": false,
     "start_time": "2025-01-04T07:14:07.693698",
     "status": "completed"
    },
    "tags": []
   },
   "outputs": [],
   "source": [
    "exploded_archseries[\"Archseries\"].value_counts().head(30).plot.barh(figsize=(10, 15), title=\"Top 30 Archtypes/Series\")\n",
    "plt.show()"
   ]
  },
  {
   "cell_type": "markdown",
   "id": "86",
   "metadata": {
    "papermill": {
     "duration": 0.157641,
     "end_time": "2025-01-04T07:14:08.887279",
     "exception": false,
     "start_time": "2025-01-04T07:14:08.729638",
     "status": "completed"
    },
    "tags": []
   },
   "source": [
    "### By card type"
   ]
  },
  {
   "cell_type": "code",
   "execution_count": null,
   "id": "87",
   "metadata": {
    "papermill": {
     "duration": 0.311971,
     "end_time": "2025-01-04T07:14:09.754345",
     "exception": false,
     "start_time": "2025-01-04T07:14:09.442374",
     "status": "completed"
    },
    "tags": []
   },
   "outputs": [],
   "source": [
    "archseries_crosstab = pd.crosstab(exploded_archseries[\"Archseries\"], exploded_archseries[\"Card type\"], margins=True)\n",
    "archseries_crosstab"
   ]
  },
  {
   "cell_type": "markdown",
   "id": "88",
   "metadata": {
    "papermill": {
     "duration": 0.170548,
     "end_time": "2025-01-04T07:14:10.120034",
     "exception": false,
     "start_time": "2025-01-04T07:14:09.949486",
     "status": "completed"
    },
    "tags": []
   },
   "source": [
    "### By primary type"
   ]
  },
  {
   "cell_type": "code",
   "execution_count": null,
   "id": "89",
   "metadata": {
    "papermill": {
     "duration": 1.071063,
     "end_time": "2025-01-04T07:14:11.300116",
     "exception": false,
     "start_time": "2025-01-04T07:14:10.229053",
     "status": "completed"
    },
    "tags": []
   },
   "outputs": [],
   "source": [
    "archseries_crosstab_b = pd.crosstab(exploded_archseries[\"Archseries\"], exploded_archseries[\"Primary type\"], margins=True)\n",
    "archseries_crosstab_b"
   ]
  },
  {
   "cell_type": "markdown",
   "id": "90",
   "metadata": {
    "papermill": {
     "duration": 0.155495,
     "end_time": "2025-01-04T07:14:11.573915",
     "exception": false,
     "start_time": "2025-01-04T07:14:11.418420",
     "status": "completed"
    },
    "tags": []
   },
   "source": [
    "### By monster type"
   ]
  },
  {
   "cell_type": "code",
   "execution_count": null,
   "id": "91",
   "metadata": {
    "papermill": {
     "duration": 0.660594,
     "end_time": "2025-01-04T07:14:12.333351",
     "exception": false,
     "start_time": "2025-01-04T07:14:11.672757",
     "status": "completed"
    },
    "tags": []
   },
   "outputs": [],
   "source": [
    "archseries_crosstab_d = pd.crosstab(exploded_archseries[\"Archseries\"], exploded_archseries[\"Monster type\"], margins=True)\n",
    "archseries_crosstab_d"
   ]
  },
  {
   "cell_type": "markdown",
   "id": "92",
   "metadata": {
    "papermill": {
     "duration": 0.304384,
     "end_time": "2025-01-04T07:14:12.740401",
     "exception": false,
     "start_time": "2025-01-04T07:14:12.436017",
     "status": "completed"
    },
    "tags": []
   },
   "source": [
    "### By property"
   ]
  },
  {
   "cell_type": "code",
   "execution_count": null,
   "id": "93",
   "metadata": {
    "papermill": {
     "duration": 0.145571,
     "end_time": "2025-01-04T07:14:13.179662",
     "exception": false,
     "start_time": "2025-01-04T07:14:13.034091",
     "status": "completed"
    },
    "tags": []
   },
   "outputs": [],
   "source": [
    "archseries_crosstab_e = pd.crosstab(exploded_archseries[\"Archseries\"], exploded_archseries[\"Property\"], margins=True)\n",
    "archseries_crosstab_e"
   ]
  },
  {
   "cell_type": "markdown",
   "id": "94",
   "metadata": {
    "papermill": {
     "duration": 0.116292,
     "end_time": "2025-01-04T07:14:13.433901",
     "exception": false,
     "start_time": "2025-01-04T07:14:13.317609",
     "status": "completed"
    },
    "tags": []
   },
   "source": [
    "## Legend"
   ]
  },
  {
   "cell_type": "code",
   "execution_count": null,
   "id": "95",
   "metadata": {
    "papermill": {
     "duration": 0.119958,
     "end_time": "2025-01-04T07:14:13.984185",
     "exception": false,
     "start_time": "2025-01-04T07:14:13.864227",
     "status": "completed"
    },
    "tags": []
   },
   "outputs": [],
   "source": [
    "print(\"Total number of Legend cards\", rush_df[\"Legend\"].sum())"
   ]
  },
  {
   "cell_type": "code",
   "execution_count": null,
   "id": "96",
   "metadata": {
    "papermill": {
     "duration": 0.187767,
     "end_time": "2025-01-04T07:14:14.275730",
     "exception": false,
     "start_time": "2025-01-04T07:14:14.087963",
     "status": "completed"
    },
    "tags": []
   },
   "outputs": [],
   "source": [
    "rush_df[rush_df[\"Legend\"]]"
   ]
  },
  {
   "cell_type": "markdown",
   "id": "97",
   "metadata": {
    "papermill": {
     "duration": 0.177921,
     "end_time": "2025-01-04T07:14:14.666839",
     "exception": false,
     "start_time": "2025-01-04T07:14:14.488918",
     "status": "completed"
    },
    "tags": []
   },
   "source": [
    "#### By card type"
   ]
  },
  {
   "cell_type": "code",
   "execution_count": null,
   "id": "98",
   "metadata": {
    "papermill": {
     "duration": 0.33123,
     "end_time": "2025-01-04T07:14:15.128942",
     "exception": false,
     "start_time": "2025-01-04T07:14:14.797712",
     "status": "completed"
    },
    "tags": []
   },
   "outputs": [],
   "source": [
    "card_type_colors = [plot.colors_dict[i] for i in rush_df[rush_df[\"Legend\"]][\"Card type\"].value_counts().index]\n",
    "rush_df[rush_df[\"Legend\"]][\"Card type\"].value_counts().plot.bar(figsize=(10, 6), rot=0, color=card_type_colors)\n",
    "plt.show()"
   ]
  },
  {
   "cell_type": "markdown",
   "id": "99",
   "metadata": {
    "papermill": {
     "duration": 0.169996,
     "end_time": "2025-01-04T07:14:15.537222",
     "exception": false,
     "start_time": "2025-01-04T07:14:15.367226",
     "status": "completed"
    },
    "tags": []
   },
   "source": [
    "#### By Attribute"
   ]
  },
  {
   "cell_type": "code",
   "execution_count": null,
   "id": "100",
   "metadata": {
    "papermill": {
     "duration": 0.478989,
     "end_time": "2025-01-04T07:14:16.122386",
     "exception": false,
     "start_time": "2025-01-04T07:14:15.643397",
     "status": "completed"
    },
    "tags": []
   },
   "outputs": [],
   "source": [
    "attribute_colors = [plot.colors_dict[i] for i in rush_df[rush_df[\"Legend\"]][\"Attribute\"].value_counts().index]\n",
    "rush_df[rush_df[\"Legend\"]][\"Attribute\"].value_counts().plot.bar(figsize=(12, 6), rot=0, color=attribute_colors)\n",
    "plt.show()"
   ]
  },
  {
   "cell_type": "markdown",
   "id": "101",
   "metadata": {
    "papermill": {
     "duration": 0.347721,
     "end_time": "2025-01-04T07:14:16.581350",
     "exception": false,
     "start_time": "2025-01-04T07:14:16.233629",
     "status": "completed"
    },
    "tags": []
   },
   "source": [
    "#### By primary type"
   ]
  },
  {
   "cell_type": "code",
   "execution_count": null,
   "id": "102",
   "metadata": {
    "papermill": {
     "duration": 0.255605,
     "end_time": "2025-01-04T07:14:17.242449",
     "exception": false,
     "start_time": "2025-01-04T07:14:16.986844",
     "status": "completed"
    },
    "tags": []
   },
   "outputs": [],
   "source": [
    "monster_type_colors = [plot.colors_dict[i] for i in rush_df[rush_df[\"Legend\"]][\"Primary type\"].value_counts().index]\n",
    "rush_df[rush_df[\"Legend\"]][\"Primary type\"].value_counts().plot.bar(\n",
    "    figsize=(10, 6),\n",
    "    stacked=True,\n",
    "    rot=0,\n",
    "    legend=True,\n",
    "    color=monster_type_colors,\n",
    ")\n",
    "# plt.yscale('log')\n",
    "plt.show()"
   ]
  },
  {
   "cell_type": "markdown",
   "id": "103",
   "metadata": {
    "papermill": {
     "duration": 0.217641,
     "end_time": "2025-01-04T07:14:17.576568",
     "exception": false,
     "start_time": "2025-01-04T07:14:17.358927",
     "status": "completed"
    },
    "tags": []
   },
   "source": [
    "#### By monster type"
   ]
  },
  {
   "cell_type": "code",
   "execution_count": null,
   "id": "104",
   "metadata": {
    "papermill": {
     "duration": 0.477112,
     "end_time": "2025-01-04T07:14:18.161776",
     "exception": false,
     "start_time": "2025-01-04T07:14:17.684664",
     "status": "completed"
    },
    "tags": []
   },
   "outputs": [],
   "source": [
    "monster_type_colors = plot.colors_dict[\"Monster Card\"]\n",
    "rush_df[rush_df[\"Legend\"]][\"Monster type\"].value_counts().plot.bar(figsize=(16, 6), rot=90, color=monster_type_colors)\n",
    "plt.show()"
   ]
  },
  {
   "cell_type": "markdown",
   "id": "105",
   "metadata": {
    "papermill": {
     "duration": 0.09997,
     "end_time": "2025-01-04T07:14:18.536463",
     "exception": false,
     "start_time": "2025-01-04T07:14:18.436493",
     "status": "completed"
    },
    "tags": []
   },
   "source": [
    "## Artworks"
   ]
  },
  {
   "cell_type": "code",
   "execution_count": null,
   "id": "106",
   "metadata": {
    "papermill": {
     "duration": 0.352235,
     "end_time": "2025-01-04T07:14:19.203852",
     "exception": false,
     "start_time": "2025-01-04T07:14:18.851617",
     "status": "completed"
    },
    "tags": []
   },
   "outputs": [],
   "source": [
    "print(\n",
    "    \"Total number of cards with edited or alternate artworks:\",\n",
    "    rush_df[\"Artwork\"].count(),\n",
    ")"
   ]
  },
  {
   "cell_type": "code",
   "execution_count": null,
   "id": "107",
   "metadata": {
    "papermill": {
     "duration": 0.358613,
     "end_time": "2025-01-04T07:14:19.783549",
     "exception": false,
     "start_time": "2025-01-04T07:14:19.424936",
     "status": "completed"
    },
    "tags": []
   },
   "outputs": [],
   "source": [
    "rush_df[[\"Name\", \"Artwork\"]].dropna()"
   ]
  },
  {
   "cell_type": "code",
   "execution_count": null,
   "id": "108",
   "metadata": {
    "papermill": {
     "duration": 0.323108,
     "end_time": "2025-01-04T07:14:20.448713",
     "exception": false,
     "start_time": "2025-01-04T07:14:20.125605",
     "status": "completed"
    },
    "tags": []
   },
   "outputs": [],
   "source": [
    "artwork_value_counts = rush_df[\"Artwork\"].value_counts()\n",
    "plt.figure(figsize=(20, 8))\n",
    "plt.title(\"Artworks\")\n",
    "plot.venn2(\n",
    "    subsets=(\n",
    "        artwork_value_counts[(\"Alternate\",)],\n",
    "        artwork_value_counts[(\"Edited\",)],\n",
    "        artwork_value_counts[(\"Alternate\", \"Edited\")],\n",
    "    ),\n",
    "    set_labels=(\"Alternate artwork\", \"Edited artwork\"),\n",
    ")\n",
    "plt.show()"
   ]
  },
  {
   "cell_type": "markdown",
   "id": "109",
   "metadata": {
    "papermill": {
     "duration": 0.1836,
     "end_time": "2025-01-04T07:14:20.818773",
     "exception": false,
     "start_time": "2025-01-04T07:14:20.635173",
     "status": "completed"
    },
    "tags": []
   },
   "source": [
    "### By card type"
   ]
  },
  {
   "cell_type": "code",
   "execution_count": null,
   "id": "110",
   "metadata": {
    "papermill": {
     "duration": 0.177426,
     "end_time": "2025-01-04T07:14:21.115087",
     "exception": false,
     "start_time": "2025-01-04T07:14:20.937661",
     "status": "completed"
    },
    "tags": []
   },
   "outputs": [],
   "source": [
    "artwork_crosstab = pd.crosstab(rush_df[\"Artwork\"], rush_df[\"Card type\"])\n",
    "artwork_crosstab"
   ]
  },
  {
   "cell_type": "markdown",
   "id": "111",
   "metadata": {
    "papermill": {
     "duration": 0.490649,
     "end_time": "2025-01-04T07:14:21.934799",
     "exception": false,
     "start_time": "2025-01-04T07:14:21.444150",
     "status": "completed"
    },
    "tags": []
   },
   "source": [
    "### By primary type"
   ]
  },
  {
   "cell_type": "code",
   "execution_count": null,
   "id": "112",
   "metadata": {
    "papermill": {
     "duration": 0.385532,
     "end_time": "2025-01-04T07:14:22.573784",
     "exception": false,
     "start_time": "2025-01-04T07:14:22.188252",
     "status": "completed"
    },
    "tags": []
   },
   "outputs": [],
   "source": [
    "artwork_crosstab_b = pd.crosstab(rush_df[\"Artwork\"], rush_df[\"Primary type\"])\n",
    "artwork_crosstab_b"
   ]
  },
  {
   "cell_type": "markdown",
   "id": "113",
   "metadata": {
    "papermill": {
     "duration": 0.403692,
     "end_time": "2025-01-04T07:14:23.113454",
     "exception": false,
     "start_time": "2025-01-04T07:14:22.709762",
     "status": "completed"
    },
    "tags": []
   },
   "source": [
    "More granularity is unnecessary"
   ]
  },
  {
   "cell_type": "markdown",
   "id": "114",
   "metadata": {
    "papermill": {
     "duration": 0.587309,
     "end_time": "2025-01-04T07:14:23.897304",
     "exception": false,
     "start_time": "2025-01-04T07:14:23.309995",
     "status": "completed"
    },
    "tags": []
   },
   "source": [
    "## Errata"
   ]
  },
  {
   "cell_type": "code",
   "execution_count": null,
   "id": "115",
   "metadata": {
    "papermill": {
     "duration": 0.307145,
     "end_time": "2025-01-04T07:14:24.335747",
     "exception": false,
     "start_time": "2025-01-04T07:14:24.028602",
     "status": "completed"
    },
    "tags": []
   },
   "outputs": [],
   "source": [
    "print(\"Total number of cards with errata:\", rush_df[\"Errata\"].count())"
   ]
  },
  {
   "cell_type": "code",
   "execution_count": null,
   "id": "116",
   "metadata": {
    "papermill": {
     "duration": 0.201387,
     "end_time": "2025-01-04T07:14:24.953215",
     "exception": false,
     "start_time": "2025-01-04T07:14:24.751828",
     "status": "completed"
    },
    "tags": []
   },
   "outputs": [],
   "source": [
    "rush_df[[\"Name\", \"Errata\"]].dropna()"
   ]
  },
  {
   "cell_type": "markdown",
   "id": "117",
   "metadata": {
    "papermill": {
     "duration": 0.457466,
     "end_time": "2025-01-04T07:14:25.526772",
     "exception": false,
     "start_time": "2025-01-04T07:14:25.069306",
     "status": "completed"
    },
    "tags": []
   },
   "source": [
    "### By card type"
   ]
  },
  {
   "cell_type": "code",
   "execution_count": null,
   "id": "118",
   "metadata": {
    "papermill": {
     "duration": 0.276292,
     "end_time": "2025-01-04T07:14:26.052957",
     "exception": false,
     "start_time": "2025-01-04T07:14:25.776665",
     "status": "completed"
    },
    "tags": []
   },
   "outputs": [],
   "source": [
    "errata_crosstab = pd.crosstab(rush_df[\"Errata\"], rush_df[\"Card type\"])\n",
    "errata_crosstab"
   ]
  },
  {
   "cell_type": "markdown",
   "id": "119",
   "metadata": {
    "papermill": {
     "duration": 0.291112,
     "end_time": "2025-01-04T07:14:26.466046",
     "exception": false,
     "start_time": "2025-01-04T07:14:26.174934",
     "status": "completed"
    },
    "tags": []
   },
   "source": [
    "### By primary type"
   ]
  },
  {
   "cell_type": "code",
   "execution_count": null,
   "id": "120",
   "metadata": {
    "papermill": {
     "duration": 0.857394,
     "end_time": "2025-01-04T07:14:27.515156",
     "exception": false,
     "start_time": "2025-01-04T07:14:26.657762",
     "status": "completed"
    },
    "tags": []
   },
   "outputs": [],
   "source": [
    "errata_crosstab_b = pd.crosstab(rush_df[\"Errata\"], rush_df[\"Primary type\"])\n",
    "errata_crosstab_b"
   ]
  },
  {
   "cell_type": "markdown",
   "id": "121",
   "metadata": {
    "papermill": {
     "duration": 0.21833,
     "end_time": "2025-01-04T07:14:28.043898",
     "exception": false,
     "start_time": "2025-01-04T07:14:27.825568",
     "status": "completed"
    },
    "tags": []
   },
   "source": [
    "### By artwork"
   ]
  },
  {
   "cell_type": "code",
   "execution_count": null,
   "id": "122",
   "metadata": {
    "papermill": {
     "duration": 0.332829,
     "end_time": "2025-01-04T07:14:28.609481",
     "exception": false,
     "start_time": "2025-01-04T07:14:28.276652",
     "status": "completed"
    },
    "tags": []
   },
   "outputs": [],
   "source": [
    "errata_crosstab_c = pd.crosstab(rush_df[\"Artwork\"], rush_df[\"Errata\"])\n",
    "errata_crosstab_c"
   ]
  },
  {
   "cell_type": "markdown",
   "id": "123",
   "metadata": {
    "papermill": {
     "duration": 0.223953,
     "end_time": "2025-01-04T07:14:29.149128",
     "exception": false,
     "start_time": "2025-01-04T07:14:28.925175",
     "status": "completed"
    },
    "tags": []
   },
   "source": [
    "More granularity is unnecessary"
   ]
  },
  {
   "cell_type": "markdown",
   "id": "124",
   "metadata": {
    "papermill": {
     "duration": 0.310036,
     "end_time": "2025-01-04T07:14:29.725369",
     "exception": false,
     "start_time": "2025-01-04T07:14:29.415333",
     "status": "completed"
    },
    "tags": []
   },
   "source": [
    "# Epilogue"
   ]
  },
  {
   "cell_type": "code",
   "execution_count": null,
   "id": "125",
   "metadata": {
    "papermill": {
     "duration": 1.065857,
     "end_time": "2025-01-04T07:14:30.968344",
     "exception": false,
     "start_time": "2025-01-04T07:14:29.902487",
     "status": "completed"
    },
    "tags": []
   },
   "outputs": [],
   "source": [
    "benchmark(report=\"rush\", timestamp=timestamp)"
   ]
  },
  {
   "cell_type": "code",
   "execution_count": null,
   "id": "126",
   "metadata": {
    "papermill": {
     "duration": 0.131784,
     "end_time": "2025-01-04T07:14:31.226470",
     "exception": false,
     "start_time": "2025-01-04T07:14:31.094686",
     "status": "completed"
    },
    "tags": []
   },
   "outputs": [],
   "source": [
    "footer(timestamp)"
   ]
  },
  {
   "cell_type": "markdown",
   "id": "127",
   "metadata": {
    "papermill": {
     "duration": 0.165658,
     "end_time": "2025-01-04T07:14:31.543099",
     "exception": false,
     "start_time": "2025-01-04T07:14:31.377441",
     "status": "completed"
    },
    "tags": []
   },
   "source": [
    "## HTML export"
   ]
  },
  {
   "cell_type": "code",
   "execution_count": null,
   "id": "128",
   "metadata": {
    "papermill": {
     "duration": 0.157205,
     "end_time": "2025-01-04T07:14:31.865768",
     "exception": false,
     "start_time": "2025-01-04T07:14:31.708563",
     "status": "completed"
    },
    "tags": []
   },
   "outputs": [],
   "source": [
    "# Save notebook on disck before generating HTML report\n",
    "save_notebook()"
   ]
  },
  {
   "cell_type": "code",
   "execution_count": null,
   "id": "129",
   "metadata": {
    "papermill": {
     "duration": 2.588656,
     "end_time": "2025-01-04T07:14:34.786766",
     "exception": false,
     "start_time": "2025-01-04T07:14:32.198110",
     "status": "completed"
    },
    "tags": []
   },
   "outputs": [],
   "source": [
    "export_notebook(dirs.NOTEBOOKS.user / \"Rush.ipynb\")"
   ]
  },
  {
   "cell_type": "markdown",
   "id": "130",
   "metadata": {
    "papermill": {
     "duration": 0.118994,
     "end_time": "2025-01-04T07:14:35.021686",
     "exception": false,
     "start_time": "2025-01-04T07:14:34.902692",
     "status": "completed"
    },
    "tags": [
     "exclude"
    ]
   },
   "source": [
    "## Git"
   ]
  },
  {
   "cell_type": "code",
   "execution_count": null,
   "id": "131",
   "metadata": {
    "papermill": {
     "duration": null,
     "end_time": null,
     "exception": false,
     "start_time": "2025-01-04T07:14:35.500942",
     "status": "running"
    },
    "tags": [
     "exclude"
    ]
   },
   "outputs": [],
   "source": [
    "git.commit(\"*[Rr]ush*\", f\"Rush duel update - {timestamp.isoformat()}\")"
   ]
  }
 ],
 "metadata": {
  "kernelspec": {
   "display_name": "Python3 (YugiQuery)",
   "language": "python",
   "name": "yugiquery"
  },
  "language_info": {
   "codemirror_mode": {
    "name": "ipython",
    "version": 3
   },
   "file_extension": ".py",
   "mimetype": "text/x-python",
   "name": "python",
   "nbconvert_exporter": "python",
   "pygments_lexer": "ipython3",
   "version": "3.11.6"
  },
  "papermill": {
   "default_parameters": {},
   "duration": null,
   "end_time": null,
   "environment_variables": {},
   "exception": null,
   "input_path": "/home/jovyan/yugiquery/notebooks/Rush.ipynb",
   "output_path": "/home/jovyan/yugiquery/notebooks/Rush.ipynb",
   "parameters": {},
   "start_time": "2025-01-04T07:11:08.152761",
   "version": "2.6.0"
  },
  "toc": {
   "base_numbering": 1,
   "nav_menu": {},
   "number_sections": true,
   "sideBar": true,
   "skip_h1_title": false,
   "title_cell": "Table of Contents",
   "title_sidebar": "Contents",
   "toc_cell": true,
   "toc_position": {},
   "toc_section_display": true,
   "toc_window_display": false
  }
 },
 "nbformat": 4,
 "nbformat_minor": 5
}
