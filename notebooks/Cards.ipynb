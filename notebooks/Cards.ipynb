{
 "cells": [
  {
   "cell_type": "code",
   "execution_count": null,
   "id": "0",
   "metadata": {
    "papermill": {
     "duration": 78.261382,
     "end_time": "2024-12-28T07:07:11.616223",
     "exception": false,
     "start_time": "2024-12-28T07:05:53.354841",
     "status": "completed"
    },
    "tags": []
   },
   "outputs": [],
   "source": [
    "from yugiquery import *\n",
    "\n",
    "init_notebook_mode(all_interactive=True)\n",
    "\n",
    "header(\"Cards\")"
   ]
  },
  {
   "cell_type": "markdown",
   "id": "1",
   "metadata": {
    "papermill": {
     "duration": 0.239672,
     "end_time": "2024-12-28T07:07:12.180621",
     "exception": false,
     "start_time": "2024-12-28T07:07:11.940949",
     "status": "completed"
    },
    "tags": []
   },
   "source": [
    "---"
   ]
  },
  {
   "cell_type": "markdown",
   "id": "2",
   "metadata": {
    "papermill": {
     "duration": 0.237834,
     "end_time": "2024-12-28T07:07:12.490373",
     "exception": false,
     "start_time": "2024-12-28T07:07:12.252539",
     "status": "completed"
    },
    "tags": []
   },
   "source": [
    "Table of Contents <a class=\"jp-toc-ignore\"></a>\n",
    "=================\n",
    "* [1 Data aquisition](#data-aquisition)\n",
    "  * [1.1 Fetch online data](#fetch-online-data)\n",
    "  * [1.2 Merge data](#merge-data)\n",
    "* [2 Check changes](#check-changes)\n",
    "  * [2.1 Load previous data](#load-previous-data)\n",
    "  * [2.2 Generate changelog](#generate-changelog)\n",
    "  * [2.3 Save data](#save-data)\n",
    "* [3 Data visualization](#data-visualization)\n",
    "  * [3.1 Full data](#full-data)\n",
    "  * [3.2 Card types](#card-types)\n",
    "  * [3.3 Monsters](#monsters)\n",
    "    * [3.3.1 Attributes](#attributes)\n",
    "    * [3.3.2 Primary types](#primary-types)\n",
    "      * [3.3.2.1 Has effect discrimination](#has-effect-discrimination)\n",
    "      * [3.3.2.2 Is pendulum discrimination](#is-pendulum-discrimination)\n",
    "      * [3.3.2.3 By attribute](#by-attribute)\n",
    "    * [3.3.3 Secondary types](#secondary-types)\n",
    "      * [3.3.3.1 By attribute](#by-attribute)\n",
    "      * [3.3.3.2 By primary type](#by-primary-type)\n",
    "    * [3.3.4 Monster types](#monster-types)\n",
    "      * [3.3.4.1 By Attribute](#by-attribute)\n",
    "      * [3.3.4.2 By primary type](#by-primary-type)\n",
    "      * [3.3.4.3 By secondary type](#by-secondary-type)\n",
    "    * [3.3.5 ATK](#atk)\n",
    "    * [3.3.6 DEF](#def)\n",
    "    * [3.3.7 Level/Rank](#level/rank)\n",
    "      * [3.3.7.1 ATK statistics](#atk-statistics)\n",
    "      * [3.3.7.2 DEF statistics](#def-statistics)\n",
    "    * [3.3.8 Pendulum scale](#pendulum-scale)\n",
    "      * [3.3.8.1 ATK statistics](#atk-statistics)\n",
    "      * [3.3.8.2 DEF statistics](#def-statistics)\n",
    "      * [3.3.8.3 Level/Rank statistics](#level/rank-statistics)\n",
    "    * [3.3.9 Link](#link)\n",
    "      * [3.3.9.1 ATK statistics](#atk-statistics)\n",
    "    * [3.3.10 Link Arrows](#link-arrows)\n",
    "      * [3.3.10.1 By combination](#by-combination)\n",
    "      * [3.3.10.2 By unique](#by-unique)\n",
    "      * [3.3.10.3 By link](#by-link)\n",
    "  * [3.4 Spell & Trap](#spell-&-trap)\n",
    "    * [3.4.1 Properties](#properties)\n",
    "  * [3.5 Effect type](#effect-type)\n",
    "    * [3.5.1 Card type discrimination](#card-type-discrimination)\n",
    "  * [3.6 Archseries](#archseries)\n",
    "    * [3.6.1 By card type](#by-card-type)\n",
    "    * [3.6.2 By primary type](#by-primary-type)\n",
    "    * [3.6.3 By secondary type](#by-secondary-type)\n",
    "    * [3.6.4 By monster type](#by-monster-type)\n",
    "    * [3.6.5 By property](#by-property)\n",
    "  * [3.7 Artworks](#artworks)\n",
    "    * [3.7.1 By card type](#by-card-type)\n",
    "    * [3.7.2 By primary type](#by-primary-type)\n",
    "  * [3.8 Errata](#errata)\n",
    "    * [3.8.1 By card type](#by-card-type)\n",
    "    * [3.8.2 By primary type](#by-primary-type)\n",
    "    * [3.8.3 By artwork](#by-artwork)\n",
    "  * [3.9 TCG & OCG status](#tcg-&-ocg-status)\n",
    "    * [3.9.1 TGC status](#tgc-status)\n",
    "      * [3.9.1.1 By card type](#by-card-type)\n",
    "      * [3.9.1.2 By monster type](#by-monster-type)\n",
    "      * [3.9.1.3 By archseries](#by-archseries)\n",
    "    * [3.9.2 OCG status](#ocg-status)\n",
    "      * [3.9.2.1 By card type](#by-card-type)\n",
    "      * [3.9.2.2 By monster type](#by-monster-type)\n",
    "      * [3.9.2.3 By archseries](#by-archseries)\n",
    "    * [3.9.3 TCG vs. OCG status](#tcg-vs.-ocg-status)\n",
    "* [4 Extras](#extras)\n",
    "  * [4.1 Counters and Tokens](#counters-and-tokens)\n",
    "  * [4.2 Unusable cards](#Unusable-cards)\n",
    "  * [4.3 Multiple secondary types](#multiple-secondary-types)\n",
    "  * [4.4 Not yet released](#not-yet-released)\n",
    "  * [4.5 Page name differs from card name](#page-name-differs-from-card-name)\n",
    "* [5 Epilogue](#epilogue)\n",
    "  * [5.1 HTML export](#html-export)\n",
    "  <!-- * [5.2 Git](#git) -->"
   ]
  },
  {
   "cell_type": "markdown",
   "id": "3",
   "metadata": {
    "papermill": {
     "duration": 0.063711,
     "end_time": "2024-12-28T07:07:12.626205",
     "exception": false,
     "start_time": "2024-12-28T07:07:12.562494",
     "status": "completed"
    },
    "tags": []
   },
   "source": [
    "# Data aquisition"
   ]
  },
  {
   "cell_type": "markdown",
   "id": "4",
   "metadata": {
    "papermill": {
     "duration": 0.362696,
     "end_time": "2024-12-28T07:07:13.419406",
     "exception": false,
     "start_time": "2024-12-28T07:07:13.056710",
     "status": "completed"
    },
    "tags": []
   },
   "source": [
    "## Fetch online data"
   ]
  },
  {
   "cell_type": "code",
   "execution_count": null,
   "id": "5",
   "metadata": {
    "papermill": {
     "duration": 0.237218,
     "end_time": "2024-12-28T07:07:13.756469",
     "exception": false,
     "start_time": "2024-12-28T07:07:13.519251",
     "status": "completed"
    },
    "tags": []
   },
   "outputs": [],
   "source": [
    "# Timestamp\n",
    "timestamp = arrow.utcnow()"
   ]
  },
  {
   "cell_type": "code",
   "execution_count": null,
   "id": "6",
   "metadata": {
    "papermill": {
     "duration": 139.896352,
     "end_time": "2024-12-28T07:09:34.114543",
     "exception": false,
     "start_time": "2024-12-28T07:07:14.218191",
     "status": "completed"
    },
    "tags": []
   },
   "outputs": [],
   "source": [
    "# Fetch Monster\n",
    "monster_df = fetch_monster()"
   ]
  },
  {
   "cell_type": "code",
   "execution_count": null,
   "id": "7",
   "metadata": {
    "papermill": {
     "duration": 32.980509,
     "end_time": "2024-12-28T07:10:07.438602",
     "exception": false,
     "start_time": "2024-12-28T07:09:34.458093",
     "status": "completed"
    },
    "tags": []
   },
   "outputs": [],
   "source": [
    "# Fetch Spell\n",
    "spell_df = fetch_st(st=\"Spell\")\n",
    "\n",
    "# Fetch Trap\n",
    "trap_df = fetch_st(st=\"Trap\")"
   ]
  },
  {
   "cell_type": "code",
   "execution_count": null,
   "id": "8",
   "metadata": {
    "papermill": {
     "duration": 9.801181,
     "end_time": "2024-12-28T07:10:17.411424",
     "exception": false,
     "start_time": "2024-12-28T07:10:07.610243",
     "status": "completed"
    },
    "tags": []
   },
   "outputs": [],
   "source": [
    "# Fetch Token\n",
    "token_df = fetch_token()\n",
    "\n",
    "# Fetch Counter\n",
    "counter_df = fetch_counter()\n",
    "\n",
    "# Fetch errata\n",
    "errata_df = fetch_errata()"
   ]
  },
  {
   "cell_type": "code",
   "execution_count": null,
   "id": "9",
   "metadata": {
    "papermill": {
     "duration": 4.913477,
     "end_time": "2024-12-28T07:10:22.399215",
     "exception": false,
     "start_time": "2024-12-28T07:10:17.485738",
     "status": "completed"
    },
    "tags": []
   },
   "outputs": [],
   "source": [
    "# Fetch unusable\n",
    "unusable_df = fetch_unusable()"
   ]
  },
  {
   "cell_type": "markdown",
   "id": "10",
   "metadata": {
    "papermill": {
     "duration": 0.297601,
     "end_time": "2024-12-28T07:10:22.770053",
     "exception": false,
     "start_time": "2024-12-28T07:10:22.472452",
     "status": "completed"
    },
    "tags": []
   },
   "source": [
    "## Merge data"
   ]
  },
  {
   "cell_type": "code",
   "execution_count": null,
   "id": "11",
   "metadata": {
    "papermill": {
     "duration": 4.839438,
     "end_time": "2024-12-28T07:10:27.729330",
     "exception": false,
     "start_time": "2024-12-28T07:10:22.889892",
     "status": "completed"
    },
    "tags": []
   },
   "outputs": [],
   "source": [
    "# Merge errata\n",
    "monster_df = merge_errata(monster_df, errata_df)\n",
    "spell_df = merge_errata(spell_df, errata_df)\n",
    "trap_df = merge_errata(trap_df, errata_df)\n",
    "token_df = merge_errata(token_df, errata_df)\n",
    "counter_df = merge_errata(counter_df, errata_df)\n",
    "\n",
    "# Add counters to tokens data frame\n",
    "token_df = (\n",
    "    pd.concat([token_df, counter_df], ignore_index=True, axis=0).drop_duplicates().sort_values(\"Name\", ignore_index=True)\n",
    ")\n",
    "\n",
    "# Create combined spell and trap data frame\n",
    "st_df = pd.concat([spell_df, trap_df], ignore_index=True, axis=0).sort_values(\"Name\", ignore_index=True)\n",
    "\n",
    "# Create combined monster, spell and trap data frames\n",
    "cards_df = pd.concat([st_df, monster_df], ignore_index=True, axis=0).sort_values(\"Name\", ignore_index=True)\n",
    "\n",
    "# Create combined data frames with full data\n",
    "full_df = pd.concat([cards_df, token_df, unusable_df], ignore_index=True, axis=0).sort_values(\"Name\", ignore_index=True)\n",
    "\n",
    "print(\"Data merged\")"
   ]
  },
  {
   "cell_type": "markdown",
   "id": "12",
   "metadata": {
    "papermill": {
     "duration": 0.070199,
     "end_time": "2024-12-28T07:10:27.872344",
     "exception": false,
     "start_time": "2024-12-28T07:10:27.802145",
     "status": "completed"
    },
    "tags": []
   },
   "source": [
    "# Check changes"
   ]
  },
  {
   "cell_type": "markdown",
   "id": "13",
   "metadata": {
    "papermill": {
     "duration": 1.135986,
     "end_time": "2024-12-28T07:10:29.618997",
     "exception": false,
     "start_time": "2024-12-28T07:10:28.483011",
     "status": "completed"
    },
    "tags": []
   },
   "source": [
    "## Load previous data"
   ]
  },
  {
   "cell_type": "code",
   "execution_count": null,
   "id": "14",
   "metadata": {
    "papermill": {
     "duration": 3.483977,
     "end_time": "2024-12-28T07:10:33.239001",
     "exception": false,
     "start_time": "2024-12-28T07:10:29.755024",
     "status": "completed"
    },
    "tags": []
   },
   "outputs": [],
   "source": [
    "# Get latest file if exist\n",
    "tuple_cols = [\n",
    "    \"Effect type\",\n",
    "    \"Secondary type\",\n",
    "    \"Link Arrows\",\n",
    "    \"Archseries\",\n",
    "    \"Artwork\",\n",
    "    \"Errata\",\n",
    "]\n",
    "previous_df, previous_ts = load_latest_data(\"cards\", tuple_cols)\n",
    "\n",
    "if previous_df is not None:\n",
    "    previous_df = previous_df.astype(full_df[previous_df.columns.intersection(full_df.columns)].dtypes.to_dict())"
   ]
  },
  {
   "cell_type": "markdown",
   "id": "15",
   "metadata": {
    "papermill": {
     "duration": 0.261209,
     "end_time": "2024-12-28T07:10:33.575730",
     "exception": false,
     "start_time": "2024-12-28T07:10:33.314521",
     "status": "completed"
    },
    "tags": []
   },
   "source": [
    "## Generate changelog"
   ]
  },
  {
   "cell_type": "code",
   "execution_count": null,
   "id": "16",
   "metadata": {
    "papermill": {
     "duration": 1.72292,
     "end_time": "2024-12-28T07:10:35.407859",
     "exception": false,
     "start_time": "2024-12-28T07:10:33.684939",
     "status": "completed"
    },
    "tags": []
   },
   "outputs": [],
   "source": [
    "if previous_df is None:\n",
    "    changelog = None\n",
    "    print(\"Skipped\")\n",
    "else:\n",
    "    changelog = generate_changelog(previous_df, full_df, col=\"Name\")\n",
    "    if not changelog.empty:\n",
    "        display(changelog)\n",
    "        changelog.to_csv(\n",
    "            dirs.DATA / make_filename(report=\"cards\", timestamp=timestamp, previous_timestamp=previous_ts),\n",
    "            index=True,\n",
    "        )\n",
    "        print(\"Changelog saved\")"
   ]
  },
  {
   "cell_type": "markdown",
   "id": "17",
   "metadata": {
    "papermill": {
     "duration": 0.075273,
     "end_time": "2024-12-28T07:10:35.563195",
     "exception": false,
     "start_time": "2024-12-28T07:10:35.487922",
     "status": "completed"
    },
    "tags": []
   },
   "source": [
    "## Save data"
   ]
  },
  {
   "cell_type": "code",
   "execution_count": null,
   "id": "18",
   "metadata": {
    "papermill": {
     "duration": 1.091239,
     "end_time": "2024-12-28T07:10:36.757092",
     "exception": false,
     "start_time": "2024-12-28T07:10:35.665853",
     "status": "completed"
    },
    "tags": []
   },
   "outputs": [],
   "source": [
    "if changelog is not None and changelog.empty:\n",
    "    print(\"No changes. New data not saved\")\n",
    "else:\n",
    "    full_df.to_csv(\n",
    "        dirs.DATA / make_filename(report=\"cards\", timestamp=timestamp),\n",
    "        index=False,\n",
    "    )\n",
    "    print(\"Data saved\")"
   ]
  },
  {
   "cell_type": "markdown",
   "id": "19",
   "metadata": {
    "papermill": {
     "duration": 0.332465,
     "end_time": "2024-12-28T07:10:37.167361",
     "exception": false,
     "start_time": "2024-12-28T07:10:36.834896",
     "status": "completed"
    },
    "tags": []
   },
   "source": [
    "# Data visualization"
   ]
  },
  {
   "cell_type": "markdown",
   "id": "20",
   "metadata": {
    "papermill": {
     "duration": 0.143766,
     "end_time": "2024-12-28T07:10:37.386393",
     "exception": false,
     "start_time": "2024-12-28T07:10:37.242627",
     "status": "completed"
    },
    "tags": []
   },
   "source": [
    "## Full data"
   ]
  },
  {
   "cell_type": "code",
   "execution_count": null,
   "id": "21",
   "metadata": {
    "papermill": {
     "duration": 0.349241,
     "end_time": "2024-12-28T07:10:37.924634",
     "exception": false,
     "start_time": "2024-12-28T07:10:37.575393",
     "status": "completed"
    },
    "tags": []
   },
   "outputs": [],
   "source": [
    "full_df"
   ]
  },
  {
   "cell_type": "markdown",
   "id": "22",
   "metadata": {
    "papermill": {
     "duration": 0.36591,
     "end_time": "2024-12-28T07:10:38.368899",
     "exception": false,
     "start_time": "2024-12-28T07:10:38.002989",
     "status": "completed"
    },
    "tags": []
   },
   "source": [
    "Full data available to download [here](../data)"
   ]
  },
  {
   "cell_type": "markdown",
   "id": "23",
   "metadata": {
    "papermill": {
     "duration": 0.277147,
     "end_time": "2024-12-28T07:10:38.805286",
     "exception": false,
     "start_time": "2024-12-28T07:10:38.528139",
     "status": "completed"
    },
    "tags": []
   },
   "source": [
    "## Card types"
   ]
  },
  {
   "cell_type": "code",
   "execution_count": null,
   "id": "24",
   "metadata": {
    "papermill": {
     "duration": 0.155382,
     "end_time": "2024-12-28T07:10:39.065932",
     "exception": false,
     "start_time": "2024-12-28T07:10:38.910550",
     "status": "completed"
    },
    "tags": []
   },
   "outputs": [],
   "source": [
    "print(\"Total number of card types:\", cards_df[\"Card type\"].nunique())"
   ]
  },
  {
   "cell_type": "code",
   "execution_count": null,
   "id": "25",
   "metadata": {
    "papermill": {
     "duration": 2.227436,
     "end_time": "2024-12-28T07:10:41.520003",
     "exception": false,
     "start_time": "2024-12-28T07:10:39.292567",
     "status": "completed"
    },
    "tags": []
   },
   "outputs": [],
   "source": [
    "card_type_colors = [plot.colors_dict[i] for i in cards_df[\"Card type\"].value_counts().index]\n",
    "cards_df[\"Card type\"].value_counts().plot.bar(figsize=(10, 6), rot=0, color=card_type_colors)\n",
    "plt.show()"
   ]
  },
  {
   "cell_type": "markdown",
   "id": "26",
   "metadata": {
    "papermill": {
     "duration": 0.266593,
     "end_time": "2024-12-28T07:10:41.878261",
     "exception": false,
     "start_time": "2024-12-28T07:10:41.611668",
     "status": "completed"
    },
    "tags": []
   },
   "source": [
    "## Monsters"
   ]
  },
  {
   "cell_type": "markdown",
   "id": "27",
   "metadata": {
    "papermill": {
     "duration": 0.257585,
     "end_time": "2024-12-28T07:10:42.222259",
     "exception": false,
     "start_time": "2024-12-28T07:10:41.964674",
     "status": "completed"
    },
    "tags": []
   },
   "source": [
    "### Attributes"
   ]
  },
  {
   "cell_type": "code",
   "execution_count": null,
   "id": "28",
   "metadata": {
    "papermill": {
     "duration": 0.120789,
     "end_time": "2024-12-28T07:10:42.446518",
     "exception": false,
     "start_time": "2024-12-28T07:10:42.325729",
     "status": "completed"
    },
    "tags": []
   },
   "outputs": [],
   "source": [
    "print(\"Total number of attributes:\", monster_df[\"Attribute\"].nunique())"
   ]
  },
  {
   "cell_type": "code",
   "execution_count": null,
   "id": "29",
   "metadata": {
    "papermill": {
     "duration": 0.217358,
     "end_time": "2024-12-28T07:10:42.741658",
     "exception": false,
     "start_time": "2024-12-28T07:10:42.524300",
     "status": "completed"
    },
    "tags": []
   },
   "outputs": [],
   "source": [
    "monster_df.drop(columns=[\"Card type\", \"Page name\", \"Page URL\"]).groupby(\"Attribute\").nunique()"
   ]
  },
  {
   "cell_type": "code",
   "execution_count": null,
   "id": "30",
   "metadata": {
    "papermill": {
     "duration": 0.297874,
     "end_time": "2024-12-28T07:10:43.118485",
     "exception": false,
     "start_time": "2024-12-28T07:10:42.820611",
     "status": "completed"
    },
    "tags": []
   },
   "outputs": [],
   "source": [
    "attribute_colors = [plot.colors_dict[i] for i in monster_df[\"Attribute\"].value_counts().index]\n",
    "monster_df[\"Attribute\"].value_counts().plot.bar(figsize=(14, 6), rot=0, color=attribute_colors)\n",
    "plt.show()"
   ]
  },
  {
   "cell_type": "markdown",
   "id": "31",
   "metadata": {
    "papermill": {
     "duration": 0.123159,
     "end_time": "2024-12-28T07:10:43.321971",
     "exception": false,
     "start_time": "2024-12-28T07:10:43.198812",
     "status": "completed"
    },
    "tags": []
   },
   "source": [
    "### Primary types"
   ]
  },
  {
   "cell_type": "code",
   "execution_count": null,
   "id": "32",
   "metadata": {
    "papermill": {
     "duration": 0.087329,
     "end_time": "2024-12-28T07:10:43.492052",
     "exception": false,
     "start_time": "2024-12-28T07:10:43.404723",
     "status": "completed"
    },
    "tags": []
   },
   "outputs": [],
   "source": [
    "print(\"Total number of primary types:\", monster_df[\"Primary type\"].nunique())"
   ]
  },
  {
   "cell_type": "code",
   "execution_count": null,
   "id": "33",
   "metadata": {
    "papermill": {
     "duration": 0.261197,
     "end_time": "2024-12-28T07:10:43.836936",
     "exception": false,
     "start_time": "2024-12-28T07:10:43.575739",
     "status": "completed"
    },
    "tags": []
   },
   "outputs": [],
   "source": [
    "monster_df.drop(columns=[\"Card type\", \"Page name\", \"Page URL\"]).groupby(\"Primary type\").nunique()"
   ]
  },
  {
   "cell_type": "markdown",
   "id": "34",
   "metadata": {
    "papermill": {
     "duration": 0.124522,
     "end_time": "2024-12-28T07:10:44.045396",
     "exception": false,
     "start_time": "2024-12-28T07:10:43.920874",
     "status": "completed"
    },
    "tags": []
   },
   "source": [
    "#### Has effect discrimination"
   ]
  },
  {
   "cell_type": "code",
   "execution_count": null,
   "id": "35",
   "metadata": {
    "papermill": {
     "duration": 0.401993,
     "end_time": "2024-12-28T07:10:44.659689",
     "exception": false,
     "start_time": "2024-12-28T07:10:44.257696",
     "status": "completed"
    },
    "tags": []
   },
   "outputs": [],
   "source": [
    "effect = pd.crosstab(\n",
    "    monster_df[\"Primary type\"],\n",
    "    pd.isna(monster_df[\"Effect type\"]),\n",
    "    rownames=[\"Primary type\"],\n",
    "    colnames=[\"Has effect\"],\n",
    ").rename(columns={True: \"No Effect\", False: \"Effect\"})\n",
    "effect"
   ]
  },
  {
   "cell_type": "code",
   "execution_count": null,
   "id": "36",
   "metadata": {
    "papermill": {
     "duration": 0.374681,
     "end_time": "2024-12-28T07:10:45.116968",
     "exception": false,
     "start_time": "2024-12-28T07:10:44.742287",
     "status": "completed"
    },
    "tags": []
   },
   "outputs": [],
   "source": [
    "monster_type_colors = {\n",
    "    \"No Effect\": plot.colors_dict[\"Normal Monster\"],\n",
    "    \"Effect\": [plot.colors_dict[i] for i in effect.index],\n",
    "}\n",
    "effect.plot.bar(\n",
    "    figsize=(16, 6),\n",
    "    stacked=True,\n",
    "    rot=0,\n",
    "    legend=True,\n",
    "    color=monster_type_colors,\n",
    ")\n",
    "# plt.yscale('log')\n",
    "plt.show()"
   ]
  },
  {
   "cell_type": "markdown",
   "id": "37",
   "metadata": {
    "papermill": {
     "duration": 0.190408,
     "end_time": "2024-12-28T07:10:45.393754",
     "exception": false,
     "start_time": "2024-12-28T07:10:45.203346",
     "status": "completed"
    },
    "tags": []
   },
   "source": [
    "Obs: Normal monster can have effect if it is pendulum"
   ]
  },
  {
   "cell_type": "markdown",
   "id": "38",
   "metadata": {
    "papermill": {
     "duration": 0.433645,
     "end_time": "2024-12-28T07:10:46.097799",
     "exception": false,
     "start_time": "2024-12-28T07:10:45.664154",
     "status": "completed"
    },
    "tags": []
   },
   "source": [
    "#### Is pendulum discrimination"
   ]
  },
  {
   "cell_type": "code",
   "execution_count": null,
   "id": "39",
   "metadata": {
    "papermill": {
     "duration": 0.155746,
     "end_time": "2024-12-28T07:10:46.382688",
     "exception": false,
     "start_time": "2024-12-28T07:10:46.226942",
     "status": "completed"
    },
    "tags": []
   },
   "outputs": [],
   "source": [
    "pendulum = pd.crosstab(\n",
    "    monster_df[\"Primary type\"],\n",
    "    pd.isna(monster_df[\"Pendulum Scale\"]),\n",
    "    rownames=[\"Primary type\"],\n",
    "    colnames=[\"Is Pendulum\"],\n",
    ").rename(columns={True: \"Not Pendulum\", False: \"Pendulum\"})\n",
    "pendulum"
   ]
  },
  {
   "cell_type": "code",
   "execution_count": null,
   "id": "40",
   "metadata": {
    "papermill": {
     "duration": 0.410864,
     "end_time": "2024-12-28T07:10:46.878198",
     "exception": false,
     "start_time": "2024-12-28T07:10:46.467334",
     "status": "completed"
    },
    "tags": []
   },
   "outputs": [],
   "source": [
    "monster_type_colors_b = {\n",
    "    \"Pendulum\": plot.colors_dict[\"Pendulum Monster\"],\n",
    "    \"Not Pendulum\": [plot.colors_dict[i] for i in pendulum.index],\n",
    "}\n",
    "pendulum.plot.bar(\n",
    "    figsize=(16, 6),\n",
    "    stacked=True,\n",
    "    rot=0,\n",
    "    color=monster_type_colors_b,\n",
    "    legend=True,\n",
    "    title=\"Primary types - Is pendulum\",\n",
    ")\n",
    "plt.show()"
   ]
  },
  {
   "cell_type": "markdown",
   "id": "41",
   "metadata": {
    "papermill": {
     "duration": 0.0808,
     "end_time": "2024-12-28T07:10:47.047272",
     "exception": false,
     "start_time": "2024-12-28T07:10:46.966472",
     "status": "completed"
    },
    "tags": []
   },
   "source": [
    "#### By attribute"
   ]
  },
  {
   "cell_type": "code",
   "execution_count": null,
   "id": "42",
   "metadata": {
    "papermill": {
     "duration": 0.262431,
     "end_time": "2024-12-28T07:10:47.450438",
     "exception": false,
     "start_time": "2024-12-28T07:10:47.188007",
     "status": "completed"
    },
    "tags": []
   },
   "outputs": [],
   "source": [
    "primmary_crosstab = pd.crosstab(cards_df[\"Primary type\"], cards_df[\"Attribute\"])\n",
    "primmary_crosstab"
   ]
  },
  {
   "cell_type": "code",
   "execution_count": null,
   "id": "43",
   "metadata": {
    "papermill": {
     "duration": 3.493743,
     "end_time": "2024-12-28T07:10:51.037336",
     "exception": false,
     "start_time": "2024-12-28T07:10:47.543593",
     "status": "completed"
    },
    "tags": []
   },
   "outputs": [],
   "source": [
    "plt.figure(figsize=(16, 10))\n",
    "sns.heatmap(\n",
    "    primmary_crosstab.T,\n",
    "    annot=True,\n",
    "    fmt=\"g\",\n",
    "    cmap=\"viridis\",\n",
    "    square=True,\n",
    "    norm=plot.LogNorm(),\n",
    ")\n",
    "plt.show()"
   ]
  },
  {
   "cell_type": "markdown",
   "id": "44",
   "metadata": {
    "papermill": {
     "duration": 0.236066,
     "end_time": "2024-12-28T07:10:51.367213",
     "exception": false,
     "start_time": "2024-12-28T07:10:51.131147",
     "status": "completed"
    },
    "tags": []
   },
   "source": [
    "### Secondary types"
   ]
  },
  {
   "cell_type": "code",
   "execution_count": null,
   "id": "45",
   "metadata": {
    "papermill": {
     "duration": 0.613694,
     "end_time": "2024-12-28T07:10:52.167507",
     "exception": false,
     "start_time": "2024-12-28T07:10:51.553813",
     "status": "completed"
    },
    "tags": []
   },
   "outputs": [],
   "source": [
    "exploded_secondary_type = monster_df.explode(\"Secondary type\")\n",
    "print(\n",
    "    \"Total number of secondary types:\",\n",
    "    exploded_secondary_type[\"Secondary type\"].nunique(),\n",
    ")"
   ]
  },
  {
   "cell_type": "code",
   "execution_count": null,
   "id": "46",
   "metadata": {
    "papermill": {
     "duration": 0.245655,
     "end_time": "2024-12-28T07:10:52.857727",
     "exception": false,
     "start_time": "2024-12-28T07:10:52.612072",
     "status": "completed"
    },
    "tags": []
   },
   "outputs": [],
   "source": [
    "exploded_secondary_type.drop(columns=[\"Card type\", \"Link\", \"Link Arrows\", \"Page name\", \"Page URL\"]).groupby(\n",
    "    \"Secondary type\"\n",
    ").nunique()"
   ]
  },
  {
   "cell_type": "code",
   "execution_count": null,
   "id": "47",
   "metadata": {
    "papermill": {
     "duration": 0.328644,
     "end_time": "2024-12-28T07:10:53.276834",
     "exception": false,
     "start_time": "2024-12-28T07:10:52.948190",
     "status": "completed"
    },
    "tags": []
   },
   "outputs": [],
   "source": [
    "secondary_type_colors = plot.colors_dict[\"Effect Monster\"]\n",
    "exploded_secondary_type[\"Secondary type\"].value_counts().plot.bar(\n",
    "    figsize=(14, 6),\n",
    "    stacked=True,\n",
    "    rot=0,\n",
    "    color=secondary_type_colors,\n",
    "    legend=False,\n",
    ")\n",
    "plt.show()"
   ]
  },
  {
   "cell_type": "markdown",
   "id": "48",
   "metadata": {
    "papermill": {
     "duration": 0.08609,
     "end_time": "2024-12-28T07:10:53.460357",
     "exception": false,
     "start_time": "2024-12-28T07:10:53.374267",
     "status": "completed"
    },
    "tags": []
   },
   "source": [
    "#### By attribute"
   ]
  },
  {
   "cell_type": "code",
   "execution_count": null,
   "id": "49",
   "metadata": {
    "papermill": {
     "duration": 0.190731,
     "end_time": "2024-12-28T07:10:53.865991",
     "exception": false,
     "start_time": "2024-12-28T07:10:53.675260",
     "status": "completed"
    },
    "tags": []
   },
   "outputs": [],
   "source": [
    "secondary_crosstab = pd.crosstab(exploded_secondary_type[\"Secondary type\"], exploded_secondary_type[\"Attribute\"])\n",
    "secondary_crosstab"
   ]
  },
  {
   "cell_type": "code",
   "execution_count": null,
   "id": "50",
   "metadata": {
    "papermill": {
     "duration": 0.41783,
     "end_time": "2024-12-28T07:10:54.427606",
     "exception": false,
     "start_time": "2024-12-28T07:10:54.009776",
     "status": "completed"
    },
    "tags": []
   },
   "outputs": [],
   "source": [
    "plt.figure(figsize=(8, 6))\n",
    "sns.heatmap(\n",
    "    secondary_crosstab[secondary_crosstab > 0],\n",
    "    annot=True,\n",
    "    fmt=\"g\",\n",
    "    cmap=\"viridis\",\n",
    "    square=True,\n",
    ")\n",
    "plt.show()"
   ]
  },
  {
   "cell_type": "markdown",
   "id": "51",
   "metadata": {
    "papermill": {
     "duration": 0.190438,
     "end_time": "2024-12-28T07:10:54.728797",
     "exception": false,
     "start_time": "2024-12-28T07:10:54.538359",
     "status": "completed"
    },
    "tags": []
   },
   "source": [
    "#### By primary type"
   ]
  },
  {
   "cell_type": "code",
   "execution_count": null,
   "id": "52",
   "metadata": {
    "papermill": {
     "duration": 0.202419,
     "end_time": "2024-12-28T07:10:55.036573",
     "exception": false,
     "start_time": "2024-12-28T07:10:54.834154",
     "status": "completed"
    },
    "tags": []
   },
   "outputs": [],
   "source": [
    "secondary_crosstab_b = pd.crosstab(\n",
    "    exploded_secondary_type[\"Primary type\"],\n",
    "    exploded_secondary_type[\"Secondary type\"],\n",
    "    margins=True,\n",
    ")\n",
    "secondary_crosstab_b"
   ]
  },
  {
   "cell_type": "code",
   "execution_count": null,
   "id": "53",
   "metadata": {
    "papermill": {
     "duration": 0.893829,
     "end_time": "2024-12-28T07:10:56.033553",
     "exception": false,
     "start_time": "2024-12-28T07:10:55.139724",
     "status": "completed"
    },
    "tags": []
   },
   "outputs": [],
   "source": [
    "plt.figure(figsize=(10, 7))\n",
    "sns.heatmap(\n",
    "    secondary_crosstab_b,\n",
    "    annot=True,\n",
    "    fmt=\"g\",\n",
    "    cmap=\"viridis\",\n",
    "    square=True,\n",
    "    norm=plot.LogNorm(),\n",
    ")\n",
    "plt.show()"
   ]
  },
  {
   "cell_type": "markdown",
   "id": "54",
   "metadata": {
    "papermill": {
     "duration": 0.306424,
     "end_time": "2024-12-28T07:10:56.442124",
     "exception": false,
     "start_time": "2024-12-28T07:10:56.135700",
     "status": "completed"
    },
    "tags": []
   },
   "source": [
    "### Monster types"
   ]
  },
  {
   "cell_type": "code",
   "execution_count": null,
   "id": "55",
   "metadata": {
    "papermill": {
     "duration": 0.296967,
     "end_time": "2024-12-28T07:10:56.870240",
     "exception": false,
     "start_time": "2024-12-28T07:10:56.573273",
     "status": "completed"
    },
    "tags": []
   },
   "outputs": [],
   "source": [
    "print(\"Total number of monster types:\", monster_df[\"Monster type\"].nunique())"
   ]
  },
  {
   "cell_type": "code",
   "execution_count": null,
   "id": "56",
   "metadata": {
    "papermill": {
     "duration": 0.182529,
     "end_time": "2024-12-28T07:10:57.152413",
     "exception": false,
     "start_time": "2024-12-28T07:10:56.969884",
     "status": "completed"
    },
    "tags": []
   },
   "outputs": [],
   "source": [
    "monster_df.drop(columns=[\"Card type\", \"Page name\", \"Page URL\"]).groupby(\"Monster type\").nunique()"
   ]
  },
  {
   "cell_type": "code",
   "execution_count": null,
   "id": "57",
   "metadata": {
    "papermill": {
     "duration": 0.455838,
     "end_time": "2024-12-28T07:10:57.710124",
     "exception": false,
     "start_time": "2024-12-28T07:10:57.254286",
     "status": "completed"
    },
    "tags": []
   },
   "outputs": [],
   "source": [
    "monster_type_colors = plot.colors_dict[\"Monster Card\"]\n",
    "monster_df[\"Monster type\"].value_counts().plot.bar(figsize=(18, 6), rot=45, color=monster_type_colors)\n",
    "plt.show()"
   ]
  },
  {
   "cell_type": "markdown",
   "id": "58",
   "metadata": {
    "papermill": {
     "duration": 0.205043,
     "end_time": "2024-12-28T07:10:58.026708",
     "exception": false,
     "start_time": "2024-12-28T07:10:57.821665",
     "status": "completed"
    },
    "tags": []
   },
   "source": [
    "#### By Attribute"
   ]
  },
  {
   "cell_type": "code",
   "execution_count": null,
   "id": "59",
   "metadata": {
    "papermill": {
     "duration": 0.162215,
     "end_time": "2024-12-28T07:10:58.607361",
     "exception": false,
     "start_time": "2024-12-28T07:10:58.445146",
     "status": "completed"
    },
    "tags": []
   },
   "outputs": [],
   "source": [
    "monster_crosstab = pd.crosstab(cards_df[\"Monster type\"], cards_df[\"Attribute\"])\n",
    "monster_crosstab"
   ]
  },
  {
   "cell_type": "code",
   "execution_count": null,
   "id": "60",
   "metadata": {
    "papermill": {
     "duration": 1.054579,
     "end_time": "2024-12-28T07:10:59.851250",
     "exception": false,
     "start_time": "2024-12-28T07:10:58.796671",
     "status": "completed"
    },
    "tags": []
   },
   "outputs": [],
   "source": [
    "plt.figure(figsize=(18, 4))\n",
    "sns.heatmap(\n",
    "    monster_crosstab[monster_crosstab > 0].T,\n",
    "    annot=True,\n",
    "    fmt=\"g\",\n",
    "    cmap=\"viridis\",\n",
    "    square=True,\n",
    "    norm=plot.LogNorm(),\n",
    ")\n",
    "plt.show()"
   ]
  },
  {
   "cell_type": "markdown",
   "id": "61",
   "metadata": {
    "papermill": {
     "duration": 0.395645,
     "end_time": "2024-12-28T07:11:00.357576",
     "exception": false,
     "start_time": "2024-12-28T07:10:59.961931",
     "status": "completed"
    },
    "tags": []
   },
   "source": [
    "#### By primary type"
   ]
  },
  {
   "cell_type": "code",
   "execution_count": null,
   "id": "62",
   "metadata": {
    "papermill": {
     "duration": 0.363779,
     "end_time": "2024-12-28T07:11:01.006868",
     "exception": false,
     "start_time": "2024-12-28T07:11:00.643089",
     "status": "completed"
    },
    "tags": []
   },
   "outputs": [],
   "source": [
    "monster_crosstab_b = pd.crosstab(cards_df[\"Monster type\"], cards_df[\"Primary type\"], dropna=False)\n",
    "monster_crosstab_b"
   ]
  },
  {
   "cell_type": "code",
   "execution_count": null,
   "id": "63",
   "metadata": {
    "papermill": {
     "duration": 1.175254,
     "end_time": "2024-12-28T07:11:02.429939",
     "exception": false,
     "start_time": "2024-12-28T07:11:01.254685",
     "status": "completed"
    },
    "tags": []
   },
   "outputs": [],
   "source": [
    "plt.figure(figsize=(18, 4))\n",
    "sns.heatmap(\n",
    "    monster_crosstab_b[monster_crosstab_b > 0].T,\n",
    "    annot=True,\n",
    "    fmt=\"g\",\n",
    "    cmap=\"viridis\",\n",
    "    square=True,\n",
    "    norm=plot.LogNorm(),\n",
    ")\n",
    "plt.show()"
   ]
  },
  {
   "cell_type": "markdown",
   "id": "64",
   "metadata": {
    "papermill": {
     "duration": 0.117706,
     "end_time": "2024-12-28T07:11:02.663582",
     "exception": false,
     "start_time": "2024-12-28T07:11:02.545876",
     "status": "completed"
    },
    "tags": []
   },
   "source": [
    "#### By secondary type"
   ]
  },
  {
   "cell_type": "code",
   "execution_count": null,
   "id": "65",
   "metadata": {
    "papermill": {
     "duration": 0.196948,
     "end_time": "2024-12-28T07:11:03.126347",
     "exception": false,
     "start_time": "2024-12-28T07:11:02.929399",
     "status": "completed"
    },
    "tags": []
   },
   "outputs": [],
   "source": [
    "monster_crosstab_c = pd.crosstab(\n",
    "    exploded_secondary_type[\"Monster type\"],\n",
    "    exploded_secondary_type[\"Secondary type\"],\n",
    "    dropna=False,\n",
    ")\n",
    "monster_crosstab_c"
   ]
  },
  {
   "cell_type": "code",
   "execution_count": null,
   "id": "66",
   "metadata": {
    "papermill": {
     "duration": 1.315609,
     "end_time": "2024-12-28T07:11:04.880466",
     "exception": false,
     "start_time": "2024-12-28T07:11:03.564857",
     "status": "completed"
    },
    "tags": []
   },
   "outputs": [],
   "source": [
    "plt.figure(figsize=(18, 4))\n",
    "sns.heatmap(\n",
    "    monster_crosstab_c[monster_crosstab_c > 0].T,\n",
    "    annot=True,\n",
    "    fmt=\"g\",\n",
    "    cmap=\"viridis\",\n",
    "    square=True,\n",
    "    norm=plot.LogNorm(),\n",
    ")\n",
    "plt.show()"
   ]
  },
  {
   "cell_type": "markdown",
   "id": "67",
   "metadata": {
    "papermill": {
     "duration": 0.111233,
     "end_time": "2024-12-28T07:11:05.193431",
     "exception": false,
     "start_time": "2024-12-28T07:11:05.082198",
     "status": "completed"
    },
    "tags": []
   },
   "source": [
    "### ATK"
   ]
  },
  {
   "cell_type": "code",
   "execution_count": null,
   "id": "68",
   "metadata": {
    "papermill": {
     "duration": 1.03002,
     "end_time": "2024-12-28T07:11:07.280032",
     "exception": false,
     "start_time": "2024-12-28T07:11:06.250012",
     "status": "completed"
    },
    "tags": []
   },
   "outputs": [],
   "source": [
    "print(\"Total number of ATK values:\", monster_df[\"ATK\"].nunique())"
   ]
  },
  {
   "cell_type": "code",
   "execution_count": null,
   "id": "69",
   "metadata": {
    "papermill": {
     "duration": 0.375564,
     "end_time": "2024-12-28T07:11:08.180574",
     "exception": false,
     "start_time": "2024-12-28T07:11:07.805010",
     "status": "completed"
    },
    "tags": []
   },
   "outputs": [],
   "source": [
    "monster_df.drop(columns=[\"Card type\", \"Page name\", \"Page URL\"]).groupby(\"ATK\").nunique().sort_index(\n",
    "    key=lambda x: pd.to_numeric(x, errors=\"coerce\")\n",
    ")"
   ]
  },
  {
   "cell_type": "code",
   "execution_count": null,
   "id": "70",
   "metadata": {
    "papermill": {
     "duration": 0.787983,
     "end_time": "2024-12-28T07:11:09.219946",
     "exception": false,
     "start_time": "2024-12-28T07:11:08.431963",
     "status": "completed"
    },
    "tags": []
   },
   "outputs": [],
   "source": [
    "atk_colors = plot.colors_dict[\"Monster Card\"]\n",
    "monster_df[\"ATK\"].value_counts().sort_index(key=lambda x: pd.to_numeric(x, errors=\"coerce\")).plot.bar(\n",
    "    figsize=(18, 6), color=atk_colors\n",
    ")\n",
    "plt.show()"
   ]
  },
  {
   "cell_type": "markdown",
   "id": "71",
   "metadata": {
    "papermill": {
     "duration": 0.133516,
     "end_time": "2024-12-28T07:11:09.479905",
     "exception": false,
     "start_time": "2024-12-28T07:11:09.346389",
     "status": "completed"
    },
    "tags": []
   },
   "source": [
    "### DEF"
   ]
  },
  {
   "cell_type": "code",
   "execution_count": null,
   "id": "72",
   "metadata": {
    "papermill": {
     "duration": 0.134494,
     "end_time": "2024-12-28T07:11:09.744879",
     "exception": false,
     "start_time": "2024-12-28T07:11:09.610385",
     "status": "completed"
    },
    "tags": []
   },
   "outputs": [],
   "source": [
    "print(\"Total number of DEF values:\", monster_df[\"DEF\"].nunique())"
   ]
  },
  {
   "cell_type": "code",
   "execution_count": null,
   "id": "73",
   "metadata": {
    "papermill": {
     "duration": 0.207544,
     "end_time": "2024-12-28T07:11:10.284877",
     "exception": false,
     "start_time": "2024-12-28T07:11:10.077333",
     "status": "completed"
    },
    "tags": []
   },
   "outputs": [],
   "source": [
    "monster_df.drop(columns=[\"Card type\", \"Page name\", \"Page URL\"]).groupby(\"DEF\").nunique().sort_index(\n",
    "    key=lambda x: pd.to_numeric(x, errors=\"coerce\")\n",
    ")"
   ]
  },
  {
   "cell_type": "code",
   "execution_count": null,
   "id": "74",
   "metadata": {
    "papermill": {
     "duration": 0.754331,
     "end_time": "2024-12-28T07:11:11.163839",
     "exception": false,
     "start_time": "2024-12-28T07:11:10.409508",
     "status": "completed"
    },
    "tags": []
   },
   "outputs": [],
   "source": [
    "def_colors = plot.colors_dict[\"Monster Card\"]\n",
    "monster_df[\"DEF\"].value_counts().sort_index(key=lambda x: pd.to_numeric(x, errors=\"coerce\")).plot.bar(\n",
    "    figsize=(18, 6), color=def_colors\n",
    ")\n",
    "plt.show()"
   ]
  },
  {
   "cell_type": "markdown",
   "id": "75",
   "metadata": {
    "papermill": {
     "duration": 0.124193,
     "end_time": "2024-12-28T07:11:11.416971",
     "exception": false,
     "start_time": "2024-12-28T07:11:11.292778",
     "status": "completed"
    },
    "tags": []
   },
   "source": [
    "### Level/Rank"
   ]
  },
  {
   "cell_type": "code",
   "execution_count": null,
   "id": "76",
   "metadata": {
    "papermill": {
     "duration": 0.361793,
     "end_time": "2024-12-28T07:11:12.007305",
     "exception": false,
     "start_time": "2024-12-28T07:11:11.645512",
     "status": "completed"
    },
    "tags": []
   },
   "outputs": [],
   "source": [
    "monster_df.drop(columns=[\"Card type\", \"Link\", \"Link Arrows\", \"Page name\", \"Page URL\"]).groupby(\n",
    "    \"Level/Rank\"\n",
    ").nunique().sort_index(key=lambda x: pd.to_numeric(x, errors=\"coerce\"))"
   ]
  },
  {
   "cell_type": "code",
   "execution_count": null,
   "id": "77",
   "metadata": {
    "papermill": {
     "duration": 0.544441,
     "end_time": "2024-12-28T07:11:12.681151",
     "exception": false,
     "start_time": "2024-12-28T07:11:12.136710",
     "status": "completed"
    },
    "tags": []
   },
   "outputs": [],
   "source": [
    "stars_colors = plot.colors_dict[\"Level\"]\n",
    "monster_df[\"Level/Rank\"].value_counts().sort_index(key=lambda x: pd.to_numeric(x, errors=\"coerce\")).plot.bar(\n",
    "    figsize=(16, 6), rot=0, color=stars_colors\n",
    ")\n",
    "plt.show()"
   ]
  },
  {
   "cell_type": "markdown",
   "id": "78",
   "metadata": {
    "papermill": {
     "duration": 0.205397,
     "end_time": "2024-12-28T07:11:13.019161",
     "exception": false,
     "start_time": "2024-12-28T07:11:12.813764",
     "status": "completed"
    },
    "tags": []
   },
   "source": [
    "#### ATK statistics"
   ]
  },
  {
   "cell_type": "code",
   "execution_count": null,
   "id": "79",
   "metadata": {
    "papermill": {
     "duration": 0.485759,
     "end_time": "2024-12-28T07:11:13.633756",
     "exception": false,
     "start_time": "2024-12-28T07:11:13.147997",
     "status": "completed"
    },
    "tags": []
   },
   "outputs": [],
   "source": [
    "monster_df[[\"Level/Rank\", \"ATK\"]].apply(pd.to_numeric, errors=\"coerce\").dropna().astype(int).groupby(\n",
    "    \"Level/Rank\"\n",
    ").describe().round(1)"
   ]
  },
  {
   "cell_type": "markdown",
   "id": "80",
   "metadata": {
    "papermill": {
     "duration": 0.304597,
     "end_time": "2024-12-28T07:11:14.139975",
     "exception": false,
     "start_time": "2024-12-28T07:11:13.835378",
     "status": "completed"
    },
    "tags": []
   },
   "source": [
    "#### DEF statistics"
   ]
  },
  {
   "cell_type": "code",
   "execution_count": null,
   "id": "81",
   "metadata": {
    "papermill": {
     "duration": 0.220172,
     "end_time": "2024-12-28T07:11:14.618523",
     "exception": false,
     "start_time": "2024-12-28T07:11:14.398351",
     "status": "completed"
    },
    "tags": []
   },
   "outputs": [],
   "source": [
    "monster_df[[\"Level/Rank\", \"DEF\"]].apply(pd.to_numeric, errors=\"coerce\").dropna().astype(int).groupby(\n",
    "    \"Level/Rank\"\n",
    ").describe().round(1)"
   ]
  },
  {
   "cell_type": "markdown",
   "id": "82",
   "metadata": {
    "papermill": {
     "duration": 0.178749,
     "end_time": "2024-12-28T07:11:14.925888",
     "exception": false,
     "start_time": "2024-12-28T07:11:14.747139",
     "status": "completed"
    },
    "tags": []
   },
   "source": [
    "### Pendulum scale"
   ]
  },
  {
   "cell_type": "code",
   "execution_count": null,
   "id": "83",
   "metadata": {
    "papermill": {
     "duration": 0.223681,
     "end_time": "2024-12-28T07:11:15.280315",
     "exception": false,
     "start_time": "2024-12-28T07:11:15.056634",
     "status": "completed"
    },
    "tags": []
   },
   "outputs": [],
   "source": [
    "monster_df.drop(columns=[\"Card type\", \"Link\", \"Link Arrows\", \"Page name\", \"Page URL\"]).groupby(\n",
    "    \"Pendulum Scale\"\n",
    ").nunique().sort_index(key=lambda x: pd.to_numeric(x, errors=\"coerce\"))"
   ]
  },
  {
   "cell_type": "code",
   "execution_count": null,
   "id": "84",
   "metadata": {
    "papermill": {
     "duration": 0.604697,
     "end_time": "2024-12-28T07:11:16.117206",
     "exception": false,
     "start_time": "2024-12-28T07:11:15.512509",
     "status": "completed"
    },
    "tags": []
   },
   "outputs": [],
   "source": [
    "scales_colors = plot.colors_dict[\"Pendulum Monster\"]\n",
    "monster_df[\"Pendulum Scale\"].value_counts().sort_index(key=lambda x: pd.to_numeric(x, errors=\"coerce\")).plot.bar(\n",
    "    figsize=(16, 6), rot=0, color=scales_colors\n",
    ")\n",
    "plt.show()"
   ]
  },
  {
   "cell_type": "markdown",
   "id": "85",
   "metadata": {
    "papermill": {
     "duration": 0.146074,
     "end_time": "2024-12-28T07:11:16.397245",
     "exception": false,
     "start_time": "2024-12-28T07:11:16.251171",
     "status": "completed"
    },
    "tags": []
   },
   "source": [
    "#### ATK statistics"
   ]
  },
  {
   "cell_type": "code",
   "execution_count": null,
   "id": "86",
   "metadata": {
    "papermill": {
     "duration": 0.30645,
     "end_time": "2024-12-28T07:11:17.011558",
     "exception": false,
     "start_time": "2024-12-28T07:11:16.705108",
     "status": "completed"
    },
    "tags": []
   },
   "outputs": [],
   "source": [
    "monster_df[[\"Pendulum Scale\", \"ATK\"]].apply(pd.to_numeric, errors=\"coerce\").dropna().astype(int).groupby(\n",
    "    \"Pendulum Scale\"\n",
    ").describe().round(1)"
   ]
  },
  {
   "cell_type": "markdown",
   "id": "87",
   "metadata": {
    "papermill": {
     "duration": 0.32822,
     "end_time": "2024-12-28T07:11:17.684661",
     "exception": false,
     "start_time": "2024-12-28T07:11:17.356441",
     "status": "completed"
    },
    "tags": []
   },
   "source": [
    "#### DEF statistics"
   ]
  },
  {
   "cell_type": "code",
   "execution_count": null,
   "id": "88",
   "metadata": {
    "papermill": {
     "duration": 0.241847,
     "end_time": "2024-12-28T07:11:18.823575",
     "exception": false,
     "start_time": "2024-12-28T07:11:18.581728",
     "status": "completed"
    },
    "tags": []
   },
   "outputs": [],
   "source": [
    "monster_df[[\"Pendulum Scale\", \"DEF\"]].apply(pd.to_numeric, errors=\"coerce\").dropna().astype(int).groupby(\n",
    "    \"Pendulum Scale\"\n",
    ").describe().round(1)"
   ]
  },
  {
   "cell_type": "markdown",
   "id": "89",
   "metadata": {
    "papermill": {
     "duration": 0.135044,
     "end_time": "2024-12-28T07:11:19.363276",
     "exception": false,
     "start_time": "2024-12-28T07:11:19.228232",
     "status": "completed"
    },
    "tags": []
   },
   "source": [
    "#### Level/Rank statistics"
   ]
  },
  {
   "cell_type": "code",
   "execution_count": null,
   "id": "90",
   "metadata": {
    "papermill": {
     "duration": 0.303906,
     "end_time": "2024-12-28T07:11:19.922375",
     "exception": false,
     "start_time": "2024-12-28T07:11:19.618469",
     "status": "completed"
    },
    "tags": []
   },
   "outputs": [],
   "source": [
    "monster_df[[\"Pendulum Scale\", \"Level/Rank\"]].apply(pd.to_numeric, errors=\"coerce\").dropna().astype(int).groupby(\n",
    "    \"Pendulum Scale\"\n",
    ").describe().round(1)"
   ]
  },
  {
   "cell_type": "markdown",
   "id": "91",
   "metadata": {
    "papermill": {
     "duration": 0.154868,
     "end_time": "2024-12-28T07:11:20.274755",
     "exception": false,
     "start_time": "2024-12-28T07:11:20.119887",
     "status": "completed"
    },
    "tags": []
   },
   "source": [
    "### Link"
   ]
  },
  {
   "cell_type": "code",
   "execution_count": null,
   "id": "92",
   "metadata": {
    "papermill": {
     "duration": 0.616383,
     "end_time": "2024-12-28T07:11:21.108279",
     "exception": false,
     "start_time": "2024-12-28T07:11:20.491896",
     "status": "completed"
    },
    "tags": []
   },
   "outputs": [],
   "source": [
    "monster_df.drop(\n",
    "    columns=[\n",
    "        \"Card type\",\n",
    "        \"Primary type\",\n",
    "        \"Secondary type\",\n",
    "        \"Level/Rank\",\n",
    "        \"DEF\",\n",
    "        \"Pendulum Scale\",\n",
    "        \"Page name\",\n",
    "        \"Page URL\",\n",
    "    ]\n",
    ").groupby(\"Link\").nunique().sort_index(key=lambda x: pd.to_numeric(x, errors=\"coerce\"))"
   ]
  },
  {
   "cell_type": "code",
   "execution_count": null,
   "id": "93",
   "metadata": {
    "papermill": {
     "duration": 0.511725,
     "end_time": "2024-12-28T07:11:22.757424",
     "exception": false,
     "start_time": "2024-12-28T07:11:22.245699",
     "status": "completed"
    },
    "tags": []
   },
   "outputs": [],
   "source": [
    "link_colors = plot.colors_dict[\"Link Monster\"]\n",
    "monster_df[\"Link\"].value_counts().sort_index(key=lambda x: pd.to_numeric(x, errors=\"coerce\")).plot.bar(\n",
    "    figsize=(12, 6), rot=0, color=link_colors\n",
    ")\n",
    "plt.show()"
   ]
  },
  {
   "cell_type": "markdown",
   "id": "94",
   "metadata": {
    "papermill": {
     "duration": 0.134872,
     "end_time": "2024-12-28T07:11:23.064007",
     "exception": false,
     "start_time": "2024-12-28T07:11:22.929135",
     "status": "completed"
    },
    "tags": []
   },
   "source": [
    "#### ATK statistics"
   ]
  },
  {
   "cell_type": "code",
   "execution_count": null,
   "id": "95",
   "metadata": {
    "papermill": {
     "duration": 0.241848,
     "end_time": "2024-12-28T07:11:23.981296",
     "exception": false,
     "start_time": "2024-12-28T07:11:23.739448",
     "status": "completed"
    },
    "tags": []
   },
   "outputs": [],
   "source": [
    "monster_df[[\"Link\", \"ATK\"]].apply(pd.to_numeric, errors=\"coerce\").dropna().astype(int).groupby(\"Link\").describe().round(1)"
   ]
  },
  {
   "cell_type": "markdown",
   "id": "96",
   "metadata": {
    "papermill": {
     "duration": 0.336527,
     "end_time": "2024-12-28T07:11:24.466428",
     "exception": false,
     "start_time": "2024-12-28T07:11:24.129901",
     "status": "completed"
    },
    "tags": []
   },
   "source": [
    "### Link Arrows"
   ]
  },
  {
   "cell_type": "markdown",
   "id": "97",
   "metadata": {
    "papermill": {
     "duration": 0.230477,
     "end_time": "2024-12-28T07:11:24.946617",
     "exception": false,
     "start_time": "2024-12-28T07:11:24.716140",
     "status": "completed"
    },
    "tags": []
   },
   "source": [
    "#### By combination"
   ]
  },
  {
   "cell_type": "code",
   "execution_count": null,
   "id": "98",
   "metadata": {
    "papermill": {
     "duration": 0.31864,
     "end_time": "2024-12-28T07:11:25.900931",
     "exception": false,
     "start_time": "2024-12-28T07:11:25.582291",
     "status": "completed"
    },
    "tags": []
   },
   "outputs": [],
   "source": [
    "print(\"Total number of link arrow combinations:\", monster_df[\"Link Arrows\"].nunique())"
   ]
  },
  {
   "cell_type": "code",
   "execution_count": null,
   "id": "99",
   "metadata": {
    "papermill": {
     "duration": 0.403236,
     "end_time": "2024-12-28T07:11:26.462882",
     "exception": false,
     "start_time": "2024-12-28T07:11:26.059646",
     "status": "completed"
    },
    "tags": []
   },
   "outputs": [],
   "source": [
    "monster_df.drop(\n",
    "    columns=[\n",
    "        \"Card type\",\n",
    "        \"Primary type\",\n",
    "        \"Level/Rank\",\n",
    "        \"Pendulum Scale\",\n",
    "        \"Link\",\n",
    "        \"Secondary type\",\n",
    "        \"DEF\",\n",
    "        \"Page name\",\n",
    "        \"Page URL\",\n",
    "    ]\n",
    ").groupby(\"Link Arrows\").nunique()"
   ]
  },
  {
   "cell_type": "code",
   "execution_count": null,
   "id": "100",
   "metadata": {
    "papermill": {
     "duration": 1.077694,
     "end_time": "2024-12-28T07:11:27.731401",
     "exception": false,
     "start_time": "2024-12-28T07:11:26.653707",
     "status": "completed"
    },
    "tags": []
   },
   "outputs": [],
   "source": [
    "arrows_colors = plot.colors_dict[\"Link Monster\"]\n",
    "monster_df[\"Link Arrows\"].value_counts().plot.barh(figsize=(10, 20), color=arrows_colors, title=\"Link arrows combinations\")\n",
    "plt.show()"
   ]
  },
  {
   "cell_type": "markdown",
   "id": "101",
   "metadata": {
    "papermill": {
     "duration": 0.34764,
     "end_time": "2024-12-28T07:11:28.234823",
     "exception": false,
     "start_time": "2024-12-28T07:11:27.887183",
     "status": "completed"
    },
    "tags": []
   },
   "source": [
    "#### By unique"
   ]
  },
  {
   "cell_type": "code",
   "execution_count": null,
   "id": "102",
   "metadata": {
    "papermill": {
     "duration": 0.186427,
     "end_time": "2024-12-28T07:11:29.053395",
     "exception": false,
     "start_time": "2024-12-28T07:11:28.866968",
     "status": "completed"
    },
    "tags": []
   },
   "outputs": [],
   "source": [
    "monster_df[monster_df[\"Link Arrows\"].notna()].drop(\n",
    "    columns=[\n",
    "        \"Card type\",\n",
    "        \"Primary type\",\n",
    "        \"Level/Rank\",\n",
    "        \"Pendulum Scale\",\n",
    "        \"Secondary type\",\n",
    "        \"DEF\",\n",
    "        \"Page name\",\n",
    "        \"Page URL\",\n",
    "    ]\n",
    ").explode(\"Link Arrows\").groupby(\"Link Arrows\").nunique()"
   ]
  },
  {
   "cell_type": "code",
   "execution_count": null,
   "id": "103",
   "metadata": {
    "papermill": {
     "duration": 1.350721,
     "end_time": "2024-12-28T07:11:30.673691",
     "exception": false,
     "start_time": "2024-12-28T07:11:29.322970",
     "status": "completed"
    },
    "tags": []
   },
   "outputs": [],
   "source": [
    "_ = plot.arrows(monster_df[\"Link Arrows\"].explode(\"Link Arrows\"))\n",
    "plt.show()"
   ]
  },
  {
   "cell_type": "markdown",
   "id": "104",
   "metadata": {
    "papermill": {
     "duration": 0.379402,
     "end_time": "2024-12-28T07:11:31.214822",
     "exception": false,
     "start_time": "2024-12-28T07:11:30.835420",
     "status": "completed"
    },
    "tags": []
   },
   "source": [
    "#### By link"
   ]
  },
  {
   "cell_type": "code",
   "execution_count": null,
   "id": "105",
   "metadata": {
    "papermill": {
     "duration": 0.170141,
     "end_time": "2024-12-28T07:11:31.594574",
     "exception": false,
     "start_time": "2024-12-28T07:11:31.424433",
     "status": "completed"
    },
    "tags": []
   },
   "outputs": [],
   "source": [
    "arrow_per_link = monster_df[[\"Link Arrows\", \"Link\"]].explode(\"Link Arrows\").dropna()\n",
    "arrow_crosstab = pd.crosstab(arrow_per_link[\"Link Arrows\"], arrow_per_link[\"Link\"])\n",
    "arrow_crosstab"
   ]
  },
  {
   "cell_type": "code",
   "execution_count": null,
   "id": "106",
   "metadata": {
    "papermill": {
     "duration": 1.517519,
     "end_time": "2024-12-28T07:11:33.352657",
     "exception": false,
     "start_time": "2024-12-28T07:11:31.835138",
     "status": "completed"
    },
    "tags": []
   },
   "outputs": [],
   "source": [
    "plt.figure(figsize=(10, 6))\n",
    "sns.heatmap(\n",
    "    arrow_crosstab[arrow_crosstab > 0].T,\n",
    "    annot=True,\n",
    "    fmt=\"g\",\n",
    "    cmap=\"viridis\",\n",
    "    square=True,\n",
    "    norm=plot.LogNorm(),\n",
    ")\n",
    "plt.show()"
   ]
  },
  {
   "cell_type": "markdown",
   "id": "107",
   "metadata": {
    "papermill": {
     "duration": 0.256529,
     "end_time": "2024-12-28T07:11:33.863771",
     "exception": false,
     "start_time": "2024-12-28T07:11:33.607242",
     "status": "completed"
    },
    "tags": []
   },
   "source": [
    "## Spell & Trap"
   ]
  },
  {
   "cell_type": "markdown",
   "id": "108",
   "metadata": {
    "papermill": {
     "duration": 0.753097,
     "end_time": "2024-12-28T07:11:34.950057",
     "exception": false,
     "start_time": "2024-12-28T07:11:34.196960",
     "status": "completed"
    },
    "tags": []
   },
   "source": [
    "### Properties"
   ]
  },
  {
   "cell_type": "code",
   "execution_count": null,
   "id": "109",
   "metadata": {
    "papermill": {
     "duration": 0.168081,
     "end_time": "2024-12-28T07:11:35.501239",
     "exception": false,
     "start_time": "2024-12-28T07:11:35.333158",
     "status": "completed"
    },
    "tags": []
   },
   "outputs": [],
   "source": [
    "print(\"Total number of properties:\", st_df[\"Property\"].nunique())"
   ]
  },
  {
   "cell_type": "code",
   "execution_count": null,
   "id": "110",
   "metadata": {
    "papermill": {
     "duration": 0.27225,
     "end_time": "2024-12-28T07:11:35.944521",
     "exception": false,
     "start_time": "2024-12-28T07:11:35.672271",
     "status": "completed"
    },
    "tags": []
   },
   "outputs": [],
   "source": [
    "st_df.drop(columns=[\"Card type\", \"Page name\", \"Page URL\"]).groupby(\"Property\").nunique()"
   ]
  },
  {
   "cell_type": "code",
   "execution_count": null,
   "id": "111",
   "metadata": {
    "papermill": {
     "duration": 0.424769,
     "end_time": "2024-12-28T07:11:36.789331",
     "exception": false,
     "start_time": "2024-12-28T07:11:36.364562",
     "status": "completed"
    },
    "tags": []
   },
   "outputs": [],
   "source": [
    "st_colors = [plot.colors_dict[i] for i in cards_df[[\"Card type\", \"Property\"]].value_counts().index.get_level_values(0)]\n",
    "st_df[\"Property\"].value_counts().plot.bar(figsize=(16, 6), rot=45, color=st_colors)\n",
    "plt.show()"
   ]
  },
  {
   "cell_type": "markdown",
   "id": "112",
   "metadata": {
    "papermill": {
     "duration": 0.14783,
     "end_time": "2024-12-28T07:11:37.097389",
     "exception": false,
     "start_time": "2024-12-28T07:11:36.949559",
     "status": "completed"
    },
    "tags": []
   },
   "source": [
    "## Effect type"
   ]
  },
  {
   "cell_type": "code",
   "execution_count": null,
   "id": "113",
   "metadata": {
    "papermill": {
     "duration": 0.216084,
     "end_time": "2024-12-28T07:11:37.494003",
     "exception": false,
     "start_time": "2024-12-28T07:11:37.277919",
     "status": "completed"
    },
    "tags": []
   },
   "outputs": [],
   "source": [
    "print(\"Total number of effect types:\", cards_df[\"Effect type\"].explode().nunique())"
   ]
  },
  {
   "cell_type": "code",
   "execution_count": null,
   "id": "114",
   "metadata": {
    "papermill": {
     "duration": 0.582459,
     "end_time": "2024-12-28T07:11:38.389302",
     "exception": false,
     "start_time": "2024-12-28T07:11:37.806843",
     "status": "completed"
    },
    "tags": []
   },
   "outputs": [],
   "source": [
    "cards_df.explode(\"Effect type\").groupby(\"Effect type\").nunique()"
   ]
  },
  {
   "cell_type": "markdown",
   "id": "115",
   "metadata": {
    "papermill": {
     "duration": 0.262853,
     "end_time": "2024-12-28T07:11:38.841142",
     "exception": false,
     "start_time": "2024-12-28T07:11:38.578289",
     "status": "completed"
    },
    "tags": []
   },
   "source": [
    "### Card type discrimination"
   ]
  },
  {
   "cell_type": "code",
   "execution_count": null,
   "id": "116",
   "metadata": {
    "papermill": {
     "duration": 0.351341,
     "end_time": "2024-12-28T07:11:39.741495",
     "exception": false,
     "start_time": "2024-12-28T07:11:39.390154",
     "status": "completed"
    },
    "tags": []
   },
   "outputs": [],
   "source": [
    "type_diff = cards_df[[\"Card type\", \"Effect type\"]].explode(\"Effect type\").value_counts().unstack(0).fillna(0).astype(int)\n",
    "type_diff"
   ]
  },
  {
   "cell_type": "code",
   "execution_count": null,
   "id": "117",
   "metadata": {
    "papermill": {
     "duration": 0.883774,
     "end_time": "2024-12-28T07:11:40.935064",
     "exception": false,
     "start_time": "2024-12-28T07:11:40.051290",
     "status": "completed"
    },
    "tags": []
   },
   "outputs": [],
   "source": [
    "type_diff_colors = {type: plot.colors_dict[type] for type in cards_df[\"Card type\"].dropna().unique()}\n",
    "type_diff.plot.bar(figsize=(18, 6), stacked=True, rot=45, color=type_diff_colors)\n",
    "plt.show()"
   ]
  },
  {
   "cell_type": "markdown",
   "id": "118",
   "metadata": {
    "papermill": {
     "duration": 0.152849,
     "end_time": "2024-12-28T07:11:42.232918",
     "exception": false,
     "start_time": "2024-12-28T07:11:42.080069",
     "status": "completed"
    },
    "tags": []
   },
   "source": [
    "## Archseries"
   ]
  },
  {
   "cell_type": "code",
   "execution_count": null,
   "id": "119",
   "metadata": {
    "papermill": {
     "duration": 1.36196,
     "end_time": "2024-12-28T07:11:44.018345",
     "exception": false,
     "start_time": "2024-12-28T07:11:42.656385",
     "status": "completed"
    },
    "tags": []
   },
   "outputs": [],
   "source": [
    "exploded_archseries = cards_df.explode(\"Archseries\")\n",
    "print(\"Total number of Archseries:\", exploded_archseries[\"Archseries\"].nunique())"
   ]
  },
  {
   "cell_type": "code",
   "execution_count": null,
   "id": "120",
   "metadata": {
    "papermill": {
     "duration": 0.866051,
     "end_time": "2024-12-28T07:11:45.037284",
     "exception": false,
     "start_time": "2024-12-28T07:11:44.171233",
     "status": "completed"
    },
    "tags": []
   },
   "outputs": [],
   "source": [
    "exploded_archseries.groupby(\"Archseries\").nunique()"
   ]
  },
  {
   "cell_type": "code",
   "execution_count": null,
   "id": "121",
   "metadata": {
    "papermill": {
     "duration": 0.646918,
     "end_time": "2024-12-28T07:11:45.937933",
     "exception": false,
     "start_time": "2024-12-28T07:11:45.291015",
     "status": "completed"
    },
    "tags": []
   },
   "outputs": [],
   "source": [
    "exploded_archseries[\"Archseries\"].value_counts().sort_values().tail(30).plot.barh(\n",
    "    figsize=(10, 15), grid=True, title=\"Top 30 Archtypes/Series\"\n",
    ")\n",
    "plt.show()"
   ]
  },
  {
   "cell_type": "markdown",
   "id": "122",
   "metadata": {
    "papermill": {
     "duration": 0.240158,
     "end_time": "2024-12-28T07:11:46.335621",
     "exception": false,
     "start_time": "2024-12-28T07:11:46.095463",
     "status": "completed"
    },
    "tags": []
   },
   "source": [
    "### By card type"
   ]
  },
  {
   "cell_type": "code",
   "execution_count": null,
   "id": "123",
   "metadata": {
    "papermill": {
     "duration": 0.334935,
     "end_time": "2024-12-28T07:11:46.838153",
     "exception": false,
     "start_time": "2024-12-28T07:11:46.503218",
     "status": "completed"
    },
    "tags": []
   },
   "outputs": [],
   "source": [
    "archseries_crosstab = pd.crosstab(exploded_archseries[\"Archseries\"], exploded_archseries[\"Card type\"], margins=True)\n",
    "archseries_crosstab"
   ]
  },
  {
   "cell_type": "markdown",
   "id": "124",
   "metadata": {
    "papermill": {
     "duration": 0.249369,
     "end_time": "2024-12-28T07:11:47.260755",
     "exception": false,
     "start_time": "2024-12-28T07:11:47.011386",
     "status": "completed"
    },
    "tags": []
   },
   "source": [
    "### By primary type"
   ]
  },
  {
   "cell_type": "code",
   "execution_count": null,
   "id": "125",
   "metadata": {
    "papermill": {
     "duration": 0.295409,
     "end_time": "2024-12-28T07:11:47.775229",
     "exception": false,
     "start_time": "2024-12-28T07:11:47.479820",
     "status": "completed"
    },
    "tags": []
   },
   "outputs": [],
   "source": [
    "archseries_crosstab_b = pd.crosstab(exploded_archseries[\"Archseries\"], exploded_archseries[\"Primary type\"], margins=True)\n",
    "archseries_crosstab_b"
   ]
  },
  {
   "cell_type": "markdown",
   "id": "126",
   "metadata": {
    "papermill": {
     "duration": 0.162243,
     "end_time": "2024-12-28T07:11:48.127119",
     "exception": false,
     "start_time": "2024-12-28T07:11:47.964876",
     "status": "completed"
    },
    "tags": []
   },
   "source": [
    "\n",
    "\n",
    "### By secondary type"
   ]
  },
  {
   "cell_type": "code",
   "execution_count": null,
   "id": "127",
   "metadata": {
    "papermill": {
     "duration": 0.397043,
     "end_time": "2024-12-28T07:11:48.751992",
     "exception": false,
     "start_time": "2024-12-28T07:11:48.354949",
     "status": "completed"
    },
    "tags": []
   },
   "outputs": [],
   "source": [
    "exploded_archseries_secondary_type = exploded_archseries[[\"Archseries\", \"Secondary type\"]].explode(\"Secondary type\")\n",
    "archseries_crosstab_c = pd.crosstab(\n",
    "    exploded_archseries_secondary_type[\"Archseries\"],\n",
    "    exploded_archseries_secondary_type[\"Secondary type\"],\n",
    "    margins=True,\n",
    ")\n",
    "archseries_crosstab_c"
   ]
  },
  {
   "cell_type": "markdown",
   "id": "128",
   "metadata": {
    "papermill": {
     "duration": 0.373464,
     "end_time": "2024-12-28T07:11:50.176315",
     "exception": false,
     "start_time": "2024-12-28T07:11:49.802851",
     "status": "completed"
    },
    "tags": []
   },
   "source": [
    "### By monster type"
   ]
  },
  {
   "cell_type": "code",
   "execution_count": null,
   "id": "129",
   "metadata": {
    "papermill": {
     "duration": 0.490119,
     "end_time": "2024-12-28T07:11:51.244379",
     "exception": false,
     "start_time": "2024-12-28T07:11:50.754260",
     "status": "completed"
    },
    "tags": []
   },
   "outputs": [],
   "source": [
    "archseries_crosstab_d = pd.crosstab(exploded_archseries[\"Archseries\"], exploded_archseries[\"Monster type\"], margins=True)\n",
    "archseries_crosstab_d"
   ]
  },
  {
   "cell_type": "markdown",
   "id": "130",
   "metadata": {
    "papermill": {
     "duration": 0.489022,
     "end_time": "2024-12-28T07:11:51.899398",
     "exception": false,
     "start_time": "2024-12-28T07:11:51.410376",
     "status": "completed"
    },
    "tags": []
   },
   "source": [
    "### By property"
   ]
  },
  {
   "cell_type": "code",
   "execution_count": null,
   "id": "131",
   "metadata": {
    "papermill": {
     "duration": 0.281952,
     "end_time": "2024-12-28T07:11:52.345384",
     "exception": false,
     "start_time": "2024-12-28T07:11:52.063432",
     "status": "completed"
    },
    "tags": []
   },
   "outputs": [],
   "source": [
    "archseries_crosstab_e = pd.crosstab(exploded_archseries[\"Archseries\"], exploded_archseries[\"Property\"], margins=True)\n",
    "archseries_crosstab_e"
   ]
  },
  {
   "cell_type": "markdown",
   "id": "132",
   "metadata": {
    "papermill": {
     "duration": 0.250146,
     "end_time": "2024-12-28T07:11:52.850942",
     "exception": false,
     "start_time": "2024-12-28T07:11:52.600796",
     "status": "completed"
    },
    "tags": []
   },
   "source": [
    "## Artworks"
   ]
  },
  {
   "cell_type": "code",
   "execution_count": null,
   "id": "133",
   "metadata": {
    "papermill": {
     "duration": 0.173985,
     "end_time": "2024-12-28T07:11:53.195531",
     "exception": false,
     "start_time": "2024-12-28T07:11:53.021546",
     "status": "completed"
    },
    "tags": []
   },
   "outputs": [],
   "source": [
    "print(\n",
    "    \"Total number of cards with edited or alternate artworks:\",\n",
    "    cards_df[\"Artwork\"].count(),\n",
    ")"
   ]
  },
  {
   "cell_type": "code",
   "execution_count": null,
   "id": "134",
   "metadata": {
    "papermill": {
     "duration": 0.321617,
     "end_time": "2024-12-28T07:11:53.682648",
     "exception": false,
     "start_time": "2024-12-28T07:11:53.361031",
     "status": "completed"
    },
    "tags": []
   },
   "outputs": [],
   "source": [
    "cards_df[[\"Name\", \"Password\", \"TCG status\", \"OCG status\", \"Artwork\"]][cards_df[\"Artwork\"].notna()]"
   ]
  },
  {
   "cell_type": "code",
   "execution_count": null,
   "id": "135",
   "metadata": {
    "papermill": {
     "duration": 0.675268,
     "end_time": "2024-12-28T07:11:54.526662",
     "exception": false,
     "start_time": "2024-12-28T07:11:53.851394",
     "status": "completed"
    },
    "tags": []
   },
   "outputs": [],
   "source": [
    "artwork_value_counts = cards_df[\"Artwork\"].value_counts()\n",
    "plt.figure(figsize=(20, 8))\n",
    "plt.title(\"Artworks\")\n",
    "plot.venn2(\n",
    "    subsets=(\n",
    "        artwork_value_counts[(\"Alternate\",)],\n",
    "        artwork_value_counts[(\"Edited\",)],\n",
    "        artwork_value_counts[(\"Alternate\", \"Edited\")],\n",
    "    ),\n",
    "    set_labels=(\"Alternate artwork\", \"Edited artwork\"),\n",
    ")\n",
    "plt.show()"
   ]
  },
  {
   "cell_type": "markdown",
   "id": "136",
   "metadata": {
    "papermill": {
     "duration": 0.43542,
     "end_time": "2024-12-28T07:11:55.533451",
     "exception": false,
     "start_time": "2024-12-28T07:11:55.098031",
     "status": "completed"
    },
    "tags": []
   },
   "source": [
    "### By card type"
   ]
  },
  {
   "cell_type": "code",
   "execution_count": null,
   "id": "137",
   "metadata": {
    "papermill": {
     "duration": 0.479248,
     "end_time": "2024-12-28T07:11:56.235745",
     "exception": false,
     "start_time": "2024-12-28T07:11:55.756497",
     "status": "completed"
    },
    "tags": []
   },
   "outputs": [],
   "source": [
    "artwork_crosstab = pd.crosstab(cards_df[\"Artwork\"], cards_df[\"Card type\"])\n",
    "artwork_crosstab"
   ]
  },
  {
   "cell_type": "markdown",
   "id": "138",
   "metadata": {
    "papermill": {
     "duration": 0.217545,
     "end_time": "2024-12-28T07:11:56.616709",
     "exception": false,
     "start_time": "2024-12-28T07:11:56.399164",
     "status": "completed"
    },
    "tags": []
   },
   "source": [
    "### By primary type"
   ]
  },
  {
   "cell_type": "code",
   "execution_count": null,
   "id": "139",
   "metadata": {
    "papermill": {
     "duration": 0.212214,
     "end_time": "2024-12-28T07:11:57.501677",
     "exception": false,
     "start_time": "2024-12-28T07:11:57.289463",
     "status": "completed"
    },
    "tags": []
   },
   "outputs": [],
   "source": [
    "artwork_crosstab_b = pd.crosstab(cards_df[\"Artwork\"], cards_df[\"Primary type\"])\n",
    "artwork_crosstab_b"
   ]
  },
  {
   "cell_type": "markdown",
   "id": "140",
   "metadata": {
    "papermill": {
     "duration": 0.156035,
     "end_time": "2024-12-28T07:11:57.834364",
     "exception": false,
     "start_time": "2024-12-28T07:11:57.678329",
     "status": "completed"
    },
    "tags": []
   },
   "source": [
    "More granularity is unnecessary"
   ]
  },
  {
   "cell_type": "markdown",
   "id": "141",
   "metadata": {
    "papermill": {
     "duration": 0.156424,
     "end_time": "2024-12-28T07:11:58.156239",
     "exception": false,
     "start_time": "2024-12-28T07:11:57.999815",
     "status": "completed"
    },
    "tags": []
   },
   "source": [
    "## Errata"
   ]
  },
  {
   "cell_type": "code",
   "execution_count": null,
   "id": "142",
   "metadata": {
    "papermill": {
     "duration": 0.33528,
     "end_time": "2024-12-28T07:11:58.671260",
     "exception": false,
     "start_time": "2024-12-28T07:11:58.335980",
     "status": "completed"
    },
    "tags": []
   },
   "outputs": [],
   "source": [
    "print(\"Total number of cards with errata:\", cards_df[\"Errata\"].count())"
   ]
  },
  {
   "cell_type": "code",
   "execution_count": null,
   "id": "143",
   "metadata": {
    "papermill": {
     "duration": 0.990215,
     "end_time": "2024-12-28T07:11:59.852807",
     "exception": false,
     "start_time": "2024-12-28T07:11:58.862592",
     "status": "completed"
    },
    "tags": []
   },
   "outputs": [],
   "source": [
    "cards_df[[\"Name\", \"Password\", \"TCG status\", \"OCG status\", \"Errata\"]][cards_df[\"Errata\"].notna()]"
   ]
  },
  {
   "cell_type": "code",
   "execution_count": null,
   "id": "144",
   "metadata": {
    "papermill": {
     "duration": 1.068873,
     "end_time": "2024-12-28T07:12:01.088543",
     "exception": false,
     "start_time": "2024-12-28T07:12:00.019670",
     "status": "completed"
    },
    "tags": []
   },
   "outputs": [],
   "source": [
    "errata_counts = cards_df.groupby(\"Errata\").nunique().sort_values(\"Name\", ascending=False)\n",
    "errata_counts"
   ]
  },
  {
   "cell_type": "code",
   "execution_count": null,
   "id": "145",
   "metadata": {
    "papermill": {
     "duration": 0.298129,
     "end_time": "2024-12-28T07:12:01.556965",
     "exception": false,
     "start_time": "2024-12-28T07:12:01.258836",
     "status": "completed"
    },
    "tags": []
   },
   "outputs": [],
   "source": [
    "plt.figure(figsize=(20, 8))\n",
    "plt.title(\"Errata\")\n",
    "sorted_errata_name_counts = errata_counts[\"Name\"].drop((\"Any\",)).sort_index(key=lambda x: [(len(i), i) for i in x])\n",
    "plot.venn2(\n",
    "    subsets=sorted_errata_name_counts,\n",
    "    set_labels=sorted_errata_name_counts.index[:-1].str[0],\n",
    ")\n",
    "plt.show()"
   ]
  },
  {
   "cell_type": "markdown",
   "id": "146",
   "metadata": {
    "papermill": {
     "duration": 0.295433,
     "end_time": "2024-12-28T07:12:02.378983",
     "exception": false,
     "start_time": "2024-12-28T07:12:02.083550",
     "status": "completed"
    },
    "tags": []
   },
   "source": [
    "### By card type"
   ]
  },
  {
   "cell_type": "code",
   "execution_count": null,
   "id": "147",
   "metadata": {
    "papermill": {
     "duration": 2.116322,
     "end_time": "2024-12-28T07:12:04.750589",
     "exception": false,
     "start_time": "2024-12-28T07:12:02.634267",
     "status": "completed"
    },
    "tags": []
   },
   "outputs": [],
   "source": [
    "errata_crosstab = pd.crosstab(cards_df[\"Errata\"], cards_df[\"Card type\"])\n",
    "errata_crosstab.sort_values(by=errata_crosstab.columns.tolist(), ascending=False)"
   ]
  },
  {
   "cell_type": "markdown",
   "id": "148",
   "metadata": {
    "papermill": {
     "duration": 0.266305,
     "end_time": "2024-12-28T07:12:05.185861",
     "exception": false,
     "start_time": "2024-12-28T07:12:04.919556",
     "status": "completed"
    },
    "tags": []
   },
   "source": [
    "### By primary type"
   ]
  },
  {
   "cell_type": "code",
   "execution_count": null,
   "id": "149",
   "metadata": {
    "papermill": {
     "duration": 0.464577,
     "end_time": "2024-12-28T07:12:06.141195",
     "exception": false,
     "start_time": "2024-12-28T07:12:05.676618",
     "status": "completed"
    },
    "tags": []
   },
   "outputs": [],
   "source": [
    "errata_crosstab_b = pd.crosstab(cards_df[\"Errata\"], cards_df[\"Primary type\"])\n",
    "errata_crosstab_b.sort_values(by=errata_crosstab_b.columns.tolist(), ascending=False)"
   ]
  },
  {
   "cell_type": "markdown",
   "id": "150",
   "metadata": {
    "papermill": {
     "duration": 0.162582,
     "end_time": "2024-12-28T07:12:06.473012",
     "exception": false,
     "start_time": "2024-12-28T07:12:06.310430",
     "status": "completed"
    },
    "tags": []
   },
   "source": [
    "More granularity is unnecessary"
   ]
  },
  {
   "cell_type": "markdown",
   "id": "151",
   "metadata": {
    "papermill": {
     "duration": 0.161911,
     "end_time": "2024-12-28T07:12:06.806998",
     "exception": false,
     "start_time": "2024-12-28T07:12:06.645087",
     "status": "completed"
    },
    "tags": []
   },
   "source": [
    "### By artwork"
   ]
  },
  {
   "cell_type": "code",
   "execution_count": null,
   "id": "152",
   "metadata": {
    "papermill": {
     "duration": 0.723072,
     "end_time": "2024-12-28T07:12:07.699530",
     "exception": false,
     "start_time": "2024-12-28T07:12:06.976458",
     "status": "completed"
    },
    "tags": []
   },
   "outputs": [],
   "source": [
    "errata_crosstab_c = pd.crosstab(cards_df[\"Artwork\"], cards_df[\"Errata\"])\n",
    "errata_crosstab_c.sort_values(by=errata_crosstab_c.columns.tolist(), ascending=False)"
   ]
  },
  {
   "cell_type": "markdown",
   "id": "153",
   "metadata": {
    "papermill": {
     "duration": 0.595358,
     "end_time": "2024-12-28T07:12:08.662672",
     "exception": false,
     "start_time": "2024-12-28T07:12:08.067314",
     "status": "completed"
    },
    "tags": []
   },
   "source": [
    "## TCG & OCG status"
   ]
  },
  {
   "cell_type": "markdown",
   "id": "154",
   "metadata": {
    "papermill": {
     "duration": 0.51805,
     "end_time": "2024-12-28T07:12:09.500565",
     "exception": false,
     "start_time": "2024-12-28T07:12:08.982515",
     "status": "completed"
    },
    "tags": []
   },
   "source": [
    "### TGC status"
   ]
  },
  {
   "cell_type": "code",
   "execution_count": null,
   "id": "155",
   "metadata": {
    "papermill": {
     "duration": 0.387367,
     "end_time": "2024-12-28T07:12:10.057012",
     "exception": false,
     "start_time": "2024-12-28T07:12:09.669645",
     "status": "completed"
    },
    "tags": []
   },
   "outputs": [],
   "source": [
    "print(\"Total number of TCG status:\", cards_df[\"TCG status\"].nunique())"
   ]
  },
  {
   "cell_type": "code",
   "execution_count": null,
   "id": "156",
   "metadata": {
    "papermill": {
     "duration": 0.548225,
     "end_time": "2024-12-28T07:12:10.775987",
     "exception": false,
     "start_time": "2024-12-28T07:12:10.227762",
     "status": "completed"
    },
    "tags": []
   },
   "outputs": [],
   "source": [
    "cards_df.drop(columns=[\"Page name\", \"Page URL\"]).groupby(\"TCG status\", dropna=False).nunique()"
   ]
  },
  {
   "cell_type": "code",
   "execution_count": null,
   "id": "157",
   "metadata": {
    "papermill": {
     "duration": 0.59453,
     "end_time": "2024-12-28T07:12:11.546503",
     "exception": false,
     "start_time": "2024-12-28T07:12:10.951973",
     "status": "completed"
    },
    "tags": []
   },
   "outputs": [],
   "source": [
    "cards_df[\"TCG status\"].value_counts(dropna=False).plot.bar(figsize=(14, 6), logy=True, rot=0)\n",
    "plt.show()"
   ]
  },
  {
   "cell_type": "markdown",
   "id": "158",
   "metadata": {
    "papermill": {
     "duration": 0.185965,
     "end_time": "2024-12-28T07:12:11.927607",
     "exception": false,
     "start_time": "2024-12-28T07:12:11.741642",
     "status": "completed"
    },
    "tags": []
   },
   "source": [
    "#### By card type"
   ]
  },
  {
   "cell_type": "code",
   "execution_count": null,
   "id": "159",
   "metadata": {
    "papermill": {
     "duration": 0.828756,
     "end_time": "2024-12-28T07:12:13.753541",
     "exception": false,
     "start_time": "2024-12-28T07:12:12.924785",
     "status": "completed"
    },
    "tags": []
   },
   "outputs": [],
   "source": [
    "# Remove unlimited\n",
    "tcg_crosstab = pd.crosstab(cards_df[\"Card type\"], cards_df[\"TCG status\"]).drop([\"Unlimited\"], axis=1)\n",
    "tcg_crosstab"
   ]
  },
  {
   "cell_type": "code",
   "execution_count": null,
   "id": "160",
   "metadata": {
    "papermill": {
     "duration": 0.57989,
     "end_time": "2024-12-28T07:12:14.508651",
     "exception": false,
     "start_time": "2024-12-28T07:12:13.928761",
     "status": "completed"
    },
    "tags": []
   },
   "outputs": [],
   "source": [
    "plt.figure(figsize=(12, 6))\n",
    "sns.heatmap(\n",
    "    tcg_crosstab[tcg_crosstab > 0],\n",
    "    annot=True,\n",
    "    fmt=\"g\",\n",
    "    cmap=\"viridis\",\n",
    "    norm=plot.LogNorm(),\n",
    ")\n",
    "plt.show()"
   ]
  },
  {
   "cell_type": "markdown",
   "id": "161",
   "metadata": {
    "papermill": {
     "duration": 0.168572,
     "end_time": "2024-12-28T07:12:14.854382",
     "exception": false,
     "start_time": "2024-12-28T07:12:14.685810",
     "status": "completed"
    },
    "tags": []
   },
   "source": [
    "#### By monster type"
   ]
  },
  {
   "cell_type": "code",
   "execution_count": null,
   "id": "162",
   "metadata": {
    "papermill": {
     "duration": 0.221498,
     "end_time": "2024-12-28T07:12:15.251659",
     "exception": false,
     "start_time": "2024-12-28T07:12:15.030161",
     "status": "completed"
    },
    "tags": []
   },
   "outputs": [],
   "source": [
    "# Remove unlimited\n",
    "tcg_crosstab_b = pd.crosstab(cards_df[\"Monster type\"], cards_df[\"TCG status\"]).drop([\"Unlimited\"], axis=1)\n",
    "tcg_crosstab_b"
   ]
  },
  {
   "cell_type": "code",
   "execution_count": null,
   "id": "163",
   "metadata": {
    "papermill": {
     "duration": 0.923617,
     "end_time": "2024-12-28T07:12:16.471325",
     "exception": false,
     "start_time": "2024-12-28T07:12:15.547708",
     "status": "completed"
    },
    "tags": []
   },
   "outputs": [],
   "source": [
    "plt.figure(figsize=(18, 4))\n",
    "sns.heatmap(\n",
    "    tcg_crosstab_b[tcg_crosstab_b > 0].T,\n",
    "    annot=True,\n",
    "    fmt=\"g\",\n",
    "    cmap=\"viridis\",\n",
    "    square=True,\n",
    ")\n",
    "plt.show()"
   ]
  },
  {
   "cell_type": "markdown",
   "id": "164",
   "metadata": {
    "papermill": {
     "duration": 0.481732,
     "end_time": "2024-12-28T07:12:17.136931",
     "exception": false,
     "start_time": "2024-12-28T07:12:16.655199",
     "status": "completed"
    },
    "tags": []
   },
   "source": [
    "#### By archseries"
   ]
  },
  {
   "cell_type": "code",
   "execution_count": null,
   "id": "165",
   "metadata": {
    "papermill": {
     "duration": 0.346173,
     "end_time": "2024-12-28T07:12:17.957739",
     "exception": false,
     "start_time": "2024-12-28T07:12:17.611566",
     "status": "completed"
    },
    "tags": []
   },
   "outputs": [],
   "source": [
    "# Remove unlimited\n",
    "tcg_crosstab_c = pd.crosstab(\n",
    "    exploded_archseries[\"Archseries\"].where(exploded_archseries[\"OCG status\"] != \"Unlimited\"),\n",
    "    exploded_archseries[\"TCG status\"],\n",
    "    margins=True,\n",
    ")\n",
    "tcg_crosstab_c"
   ]
  },
  {
   "cell_type": "markdown",
   "id": "166",
   "metadata": {
    "papermill": {
     "duration": 0.337416,
     "end_time": "2024-12-28T07:12:18.477437",
     "exception": false,
     "start_time": "2024-12-28T07:12:18.140021",
     "status": "completed"
    },
    "tags": []
   },
   "source": [
    "### OCG status"
   ]
  },
  {
   "cell_type": "code",
   "execution_count": null,
   "id": "167",
   "metadata": {
    "papermill": {
     "duration": 0.360032,
     "end_time": "2024-12-28T07:12:19.036668",
     "exception": false,
     "start_time": "2024-12-28T07:12:18.676636",
     "status": "completed"
    },
    "tags": []
   },
   "outputs": [],
   "source": [
    "print(\"Total number of OCG status:\", cards_df[\"OCG status\"].nunique())"
   ]
  },
  {
   "cell_type": "code",
   "execution_count": null,
   "id": "168",
   "metadata": {
    "papermill": {
     "duration": 0.293824,
     "end_time": "2024-12-28T07:12:19.512347",
     "exception": false,
     "start_time": "2024-12-28T07:12:19.218523",
     "status": "completed"
    },
    "tags": []
   },
   "outputs": [],
   "source": [
    "cards_df.drop(columns=[\"Page name\", \"Page URL\"]).groupby(\"OCG status\", dropna=False).nunique()"
   ]
  },
  {
   "cell_type": "code",
   "execution_count": null,
   "id": "169",
   "metadata": {
    "papermill": {
     "duration": 0.712907,
     "end_time": "2024-12-28T07:12:20.719203",
     "exception": false,
     "start_time": "2024-12-28T07:12:20.006296",
     "status": "completed"
    },
    "tags": []
   },
   "outputs": [],
   "source": [
    "cards_df[\"OCG status\"].value_counts(dropna=False).plot.bar(figsize=(14, 6), logy=True, rot=0)\n",
    "plt.show()"
   ]
  },
  {
   "cell_type": "markdown",
   "id": "170",
   "metadata": {
    "papermill": {
     "duration": 0.177388,
     "end_time": "2024-12-28T07:12:21.082208",
     "exception": false,
     "start_time": "2024-12-28T07:12:20.904820",
     "status": "completed"
    },
    "tags": []
   },
   "source": [
    "#### By card type"
   ]
  },
  {
   "cell_type": "code",
   "execution_count": null,
   "id": "171",
   "metadata": {
    "papermill": {
     "duration": 0.271735,
     "end_time": "2024-12-28T07:12:21.669084",
     "exception": false,
     "start_time": "2024-12-28T07:12:21.397349",
     "status": "completed"
    },
    "tags": []
   },
   "outputs": [],
   "source": [
    "# Remove unlimited\n",
    "ocg_crosstab = pd.crosstab(cards_df[\"Card type\"], cards_df[\"OCG status\"]).drop([\"Unlimited\"], axis=1)\n",
    "ocg_crosstab"
   ]
  },
  {
   "cell_type": "code",
   "execution_count": null,
   "id": "172",
   "metadata": {
    "papermill": {
     "duration": 0.514381,
     "end_time": "2024-12-28T07:12:22.388248",
     "exception": false,
     "start_time": "2024-12-28T07:12:21.873867",
     "status": "completed"
    },
    "tags": []
   },
   "outputs": [],
   "source": [
    "plt.figure(figsize=(12, 6))\n",
    "sns.heatmap(ocg_crosstab[ocg_crosstab > 0], annot=True, fmt=\"g\", cmap=\"viridis\")\n",
    "plt.show()"
   ]
  },
  {
   "cell_type": "markdown",
   "id": "173",
   "metadata": {
    "papermill": {
     "duration": 0.486256,
     "end_time": "2024-12-28T07:12:23.087009",
     "exception": false,
     "start_time": "2024-12-28T07:12:22.600753",
     "status": "completed"
    },
    "tags": []
   },
   "source": [
    "#### By monster type"
   ]
  },
  {
   "cell_type": "code",
   "execution_count": null,
   "id": "174",
   "metadata": {
    "papermill": {
     "duration": 0.366155,
     "end_time": "2024-12-28T07:12:23.671909",
     "exception": false,
     "start_time": "2024-12-28T07:12:23.305754",
     "status": "completed"
    },
    "tags": []
   },
   "outputs": [],
   "source": [
    "ocg_crosstab_b = pd.crosstab(cards_df[\"Monster type\"], cards_df[\"OCG status\"]).drop([\"Unlimited\"], axis=1)\n",
    "ocg_crosstab_b"
   ]
  },
  {
   "cell_type": "code",
   "execution_count": null,
   "id": "175",
   "metadata": {
    "papermill": {
     "duration": 1.016389,
     "end_time": "2024-12-28T07:12:24.880394",
     "exception": false,
     "start_time": "2024-12-28T07:12:23.864005",
     "status": "completed"
    },
    "tags": []
   },
   "outputs": [],
   "source": [
    "plt.figure(figsize=(18, 4))\n",
    "sns.heatmap(\n",
    "    ocg_crosstab_b[ocg_crosstab_b > 0].T,\n",
    "    annot=True,\n",
    "    fmt=\"g\",\n",
    "    cmap=\"viridis\",\n",
    "    square=True,\n",
    ")\n",
    "plt.show()"
   ]
  },
  {
   "cell_type": "markdown",
   "id": "176",
   "metadata": {
    "papermill": {
     "duration": 0.297497,
     "end_time": "2024-12-28T07:12:25.369810",
     "exception": false,
     "start_time": "2024-12-28T07:12:25.072313",
     "status": "completed"
    },
    "tags": []
   },
   "source": [
    "#### By archseries"
   ]
  },
  {
   "cell_type": "code",
   "execution_count": null,
   "id": "177",
   "metadata": {
    "papermill": {
     "duration": 0.284769,
     "end_time": "2024-12-28T07:12:25.909178",
     "exception": false,
     "start_time": "2024-12-28T07:12:25.624409",
     "status": "completed"
    },
    "tags": []
   },
   "outputs": [],
   "source": [
    "# Remove unlimited\n",
    "ocg_crosstab_c = pd.crosstab(\n",
    "    exploded_archseries[\"Archseries\"].where(exploded_archseries[\"OCG status\"] != \"Unlimited\"),\n",
    "    exploded_archseries[\"OCG status\"],\n",
    "    margins=True,\n",
    ")\n",
    "ocg_crosstab_c"
   ]
  },
  {
   "cell_type": "markdown",
   "id": "178",
   "metadata": {
    "papermill": {
     "duration": 0.314933,
     "end_time": "2024-12-28T07:12:26.581843",
     "exception": false,
     "start_time": "2024-12-28T07:12:26.266910",
     "status": "completed"
    },
    "tags": []
   },
   "source": [
    "### TCG vs. OCG status"
   ]
  },
  {
   "cell_type": "code",
   "execution_count": null,
   "id": "179",
   "metadata": {
    "papermill": {
     "duration": 0.237225,
     "end_time": "2024-12-28T07:12:27.846445",
     "exception": false,
     "start_time": "2024-12-28T07:12:27.609220",
     "status": "completed"
    },
    "tags": []
   },
   "outputs": [],
   "source": [
    "cg_crosstab = pd.crosstab(cards_df[\"OCG status\"], cards_df[\"TCG status\"], dropna=False, margins=False)\n",
    "cg_crosstab"
   ]
  },
  {
   "cell_type": "code",
   "execution_count": null,
   "id": "180",
   "metadata": {
    "papermill": {
     "duration": 1.262077,
     "end_time": "2024-12-28T07:12:29.296344",
     "exception": false,
     "start_time": "2024-12-28T07:12:28.034267",
     "status": "completed"
    },
    "tags": []
   },
   "outputs": [],
   "source": [
    "plt.figure(figsize=(10, 8))\n",
    "sns.heatmap(\n",
    "    cg_crosstab[cg_crosstab > 0],\n",
    "    annot=True,\n",
    "    fmt=\"g\",\n",
    "    cmap=\"viridis\",\n",
    "    square=True,\n",
    "    norm=plot.LogNorm(),\n",
    ")\n",
    "plt.show()"
   ]
  },
  {
   "cell_type": "markdown",
   "id": "181",
   "metadata": {
    "papermill": {
     "duration": 0.65426,
     "end_time": "2024-12-28T07:12:30.141408",
     "exception": false,
     "start_time": "2024-12-28T07:12:29.487148",
     "status": "completed"
    },
    "tags": []
   },
   "source": [
    "# Extras"
   ]
  },
  {
   "cell_type": "markdown",
   "id": "182",
   "metadata": {
    "papermill": {
     "duration": 0.276581,
     "end_time": "2024-12-28T07:12:30.884719",
     "exception": false,
     "start_time": "2024-12-28T07:12:30.608138",
     "status": "completed"
    },
    "tags": []
   },
   "source": [
    "## Counters and Tokens"
   ]
  },
  {
   "cell_type": "code",
   "execution_count": null,
   "id": "183",
   "metadata": {
    "papermill": {
     "duration": 0.74435,
     "end_time": "2024-12-28T07:12:31.888602",
     "exception": false,
     "start_time": "2024-12-28T07:12:31.144252",
     "status": "completed"
    },
    "tags": []
   },
   "outputs": [],
   "source": [
    "token_df.dropna(how=\"all\", axis=1)"
   ]
  },
  {
   "cell_type": "markdown",
   "id": "184",
   "metadata": {
    "papermill": {
     "duration": 0.586057,
     "end_time": "2024-12-28T07:12:32.669701",
     "exception": false,
     "start_time": "2024-12-28T07:12:32.083644",
     "status": "completed"
    },
    "tags": []
   },
   "source": [
    "## Unusable cards"
   ]
  },
  {
   "cell_type": "code",
   "execution_count": null,
   "id": "185",
   "metadata": {
    "papermill": {
     "duration": 0.216215,
     "end_time": "2024-12-28T07:12:33.080878",
     "exception": false,
     "start_time": "2024-12-28T07:12:32.864663",
     "status": "completed"
    },
    "tags": []
   },
   "outputs": [],
   "source": [
    "unusable_df"
   ]
  },
  {
   "cell_type": "markdown",
   "id": "186",
   "metadata": {
    "papermill": {
     "duration": 0.188969,
     "end_time": "2024-12-28T07:12:33.581518",
     "exception": false,
     "start_time": "2024-12-28T07:12:33.392549",
     "status": "completed"
    },
    "tags": []
   },
   "source": [
    "## Multiple secondary types"
   ]
  },
  {
   "cell_type": "code",
   "execution_count": null,
   "id": "187",
   "metadata": {
    "papermill": {
     "duration": 0.245969,
     "end_time": "2024-12-28T07:12:34.287597",
     "exception": false,
     "start_time": "2024-12-28T07:12:34.041628",
     "status": "completed"
    },
    "tags": []
   },
   "outputs": [],
   "source": [
    "cards_df.dropna(subset=\"Secondary type\", axis=0)[[len(x) > 1 for x in cards_df[\"Secondary type\"].dropna()]]"
   ]
  },
  {
   "cell_type": "markdown",
   "id": "188",
   "metadata": {
    "papermill": {
     "duration": 0.366749,
     "end_time": "2024-12-28T07:12:34.857111",
     "exception": false,
     "start_time": "2024-12-28T07:12:34.490362",
     "status": "completed"
    },
    "tags": []
   },
   "source": [
    "## Not yet released"
   ]
  },
  {
   "cell_type": "code",
   "execution_count": null,
   "id": "189",
   "metadata": {
    "papermill": {
     "duration": 0.440394,
     "end_time": "2024-12-28T07:12:35.569288",
     "exception": false,
     "start_time": "2024-12-28T07:12:35.128894",
     "status": "completed"
    },
    "tags": []
   },
   "outputs": [],
   "source": [
    "full_df.loc[(full_df[\"OCG status\"] == \"Not yet released\") | (full_df[\"TCG status\"] == \"Not yet released\")]"
   ]
  },
  {
   "cell_type": "markdown",
   "id": "190",
   "metadata": {
    "papermill": {
     "duration": 0.192858,
     "end_time": "2024-12-28T07:12:35.957475",
     "exception": false,
     "start_time": "2024-12-28T07:12:35.764617",
     "status": "completed"
    },
    "tags": []
   },
   "source": [
    "## Page name differs from card name"
   ]
  },
  {
   "cell_type": "code",
   "execution_count": null,
   "id": "191",
   "metadata": {
    "papermill": {
     "duration": 1.222242,
     "end_time": "2024-12-28T07:12:37.381587",
     "exception": false,
     "start_time": "2024-12-28T07:12:36.159345",
     "status": "completed"
    },
    "tags": []
   },
   "outputs": [],
   "source": [
    "full_df[full_df[\"Name\"] != full_df[\"Page name\"]]"
   ]
  },
  {
   "cell_type": "markdown",
   "id": "192",
   "metadata": {
    "papermill": {
     "duration": 0.195389,
     "end_time": "2024-12-28T07:12:37.786287",
     "exception": false,
     "start_time": "2024-12-28T07:12:37.590898",
     "status": "completed"
    },
    "tags": []
   },
   "source": [
    "# Epilogue"
   ]
  },
  {
   "cell_type": "code",
   "execution_count": null,
   "id": "193",
   "metadata": {
    "papermill": {
     "duration": 4.977249,
     "end_time": "2024-12-28T07:12:42.964275",
     "exception": false,
     "start_time": "2024-12-28T07:12:37.987026",
     "status": "completed"
    },
    "tags": []
   },
   "outputs": [],
   "source": [
    "benchmark(report=\"cards\", timestamp=timestamp)"
   ]
  },
  {
   "cell_type": "code",
   "execution_count": null,
   "id": "194",
   "metadata": {
    "papermill": {
     "duration": 0.204652,
     "end_time": "2024-12-28T07:12:43.381215",
     "exception": false,
     "start_time": "2024-12-28T07:12:43.176563",
     "status": "completed"
    },
    "tags": []
   },
   "outputs": [],
   "source": [
    "footer(timestamp)"
   ]
  },
  {
   "cell_type": "markdown",
   "id": "195",
   "metadata": {
    "papermill": {
     "duration": 0.754998,
     "end_time": "2024-12-28T07:12:44.339994",
     "exception": false,
     "start_time": "2024-12-28T07:12:43.584996",
     "status": "completed"
    },
    "tags": []
   },
   "source": [
    "## HTML export"
   ]
  },
  {
   "cell_type": "code",
   "execution_count": null,
   "id": "196",
   "metadata": {
    "papermill": {
     "duration": 0.403626,
     "end_time": "2024-12-28T07:12:45.122764",
     "exception": false,
     "start_time": "2024-12-28T07:12:44.719138",
     "status": "completed"
    },
    "tags": []
   },
   "outputs": [],
   "source": [
    "# Save notebook on disck before generating HTML report\n",
    "save_notebook()"
   ]
  },
  {
   "cell_type": "code",
   "execution_count": null,
   "id": "197",
   "metadata": {
    "papermill": {
     "duration": 4.424512,
     "end_time": "2024-12-28T07:12:50.135905",
     "exception": false,
     "start_time": "2024-12-28T07:12:45.711393",
     "status": "completed"
    },
    "tags": []
   },
   "outputs": [],
   "source": [
    "export_notebook(dirs.NOTEBOOKS.user / \"Cards.ipynb\")"
   ]
  },
  {
   "cell_type": "markdown",
   "id": "198",
   "metadata": {
    "papermill": {
     "duration": 1.640701,
     "end_time": "2024-12-28T07:12:52.049135",
     "exception": false,
     "start_time": "2024-12-28T07:12:50.408434",
     "status": "completed"
    },
    "tags": [
     "exclude"
    ]
   },
   "source": [
    "## Git"
   ]
  },
  {
   "cell_type": "code",
   "execution_count": null,
   "id": "199",
   "metadata": {
    "papermill": {
     "duration": null,
     "end_time": null,
     "exception": false,
     "start_time": "2024-12-28T07:12:52.312901",
     "status": "running"
    },
    "tags": [
     "exclude"
    ]
   },
   "outputs": [],
   "source": [
    "git.commit(\"*[Cc]ards*\", f\"Cards update - {timestamp.isoformat()}\")"
   ]
  }
 ],
 "metadata": {
  "kernelspec": {
   "display_name": "Python 3 (ipykernel)",
   "language": "python",
   "name": "python3"
  },
  "language_info": {
   "codemirror_mode": {
    "name": "ipython",
    "version": 3
   },
   "file_extension": ".py",
   "mimetype": "text/x-python",
   "name": "python",
   "nbconvert_exporter": "python",
   "pygments_lexer": "ipython3",
   "version": "3.11.6"
  },
  "papermill": {
   "default_parameters": {},
   "duration": null,
   "end_time": null,
   "environment_variables": {},
   "exception": null,
   "input_path": "/home/jovyan/yugiquery/notebooks/Cards.ipynb",
   "output_path": "/home/jovyan/yugiquery/notebooks/Cards.ipynb",
   "parameters": {},
   "start_time": "2024-12-28T07:05:39.833968",
   "version": "2.6.0"
  },
  "toc": {
   "base_numbering": 1,
   "nav_menu": {
    "height": "599px",
    "width": "228px"
   },
   "number_sections": true,
   "sideBar": true,
   "skip_h1_title": false,
   "title_cell": "Table of Contents",
   "title_sidebar": "Contents",
   "toc_cell": true,
   "toc_position": {
    "height": "calc(100% - 180px)",
    "left": "10px",
    "top": "150px",
    "width": "353px"
   },
   "toc_section_display": true,
   "toc_window_display": true
  },
  "toc-autonumbering": false,
  "toc-showcode": false,
  "toc-showmarkdowntxt": false
 },
 "nbformat": 4,
 "nbformat_minor": 5
}
