{
 "cells": [
  {
   "cell_type": "code",
   "execution_count": null,
   "id": "0",
   "metadata": {
    "papermill": {
     "duration": 2.951899,
     "end_time": "2025-03-15T07:02:35.374725",
     "exception": false,
     "start_time": "2025-03-15T07:02:32.422826",
     "status": "completed"
    },
    "tags": []
   },
   "outputs": [],
   "source": [
    "from yugiquery import *\n",
    "\n",
    "init_notebook_mode(all_interactive=True)\n",
    "\n",
    "header(\"Cards\")"
   ]
  },
  {
   "cell_type": "markdown",
   "id": "1",
   "metadata": {
    "papermill": {
     "duration": 0.127933,
     "end_time": "2025-03-15T07:02:35.696924",
     "exception": false,
     "start_time": "2025-03-15T07:02:35.568991",
     "status": "completed"
    },
    "tags": []
   },
   "source": [
    "---"
   ]
  },
  {
   "cell_type": "markdown",
   "id": "2",
   "metadata": {
    "papermill": {
     "duration": 0.066778,
     "end_time": "2025-03-15T07:02:35.835630",
     "exception": false,
     "start_time": "2025-03-15T07:02:35.768852",
     "status": "completed"
    },
    "tags": []
   },
   "source": [
    "Table of Contents <a class=\"jp-toc-ignore\"></a>\n",
    "=================\n",
    "* [1 Data aquisition](#data-aquisition)\n",
    "  * [1.1 Fetch online data](#fetch-online-data)\n",
    "  * [1.2 Merge data](#merge-data)\n",
    "* [2 Check changes](#check-changes)\n",
    "  * [2.1 Load previous data](#load-previous-data)\n",
    "  * [2.2 Generate changelog](#generate-changelog)\n",
    "  * [2.3 Save data](#save-data)\n",
    "* [3 Data visualization](#data-visualization)\n",
    "  * [3.1 Full data](#full-data)\n",
    "  * [3.2 Card types](#card-types)\n",
    "  * [3.3 Monsters](#monsters)\n",
    "    * [3.3.1 Attributes](#attributes)\n",
    "    * [3.3.2 Primary types](#primary-types)\n",
    "      * [3.3.2.1 Has effect discrimination](#has-effect-discrimination)\n",
    "      * [3.3.2.2 Is pendulum discrimination](#is-pendulum-discrimination)\n",
    "      * [3.3.2.3 By attribute](#by-attribute)\n",
    "    * [3.3.3 Secondary types](#secondary-types)\n",
    "      * [3.3.3.1 By attribute](#by-attribute)\n",
    "      * [3.3.3.2 By primary type](#by-primary-type)\n",
    "    * [3.3.4 Monster types](#monster-types)\n",
    "      * [3.3.4.1 By Attribute](#by-attribute)\n",
    "      * [3.3.4.2 By primary type](#by-primary-type)\n",
    "      * [3.3.4.3 By secondary type](#by-secondary-type)\n",
    "    * [3.3.5 ATK](#atk)\n",
    "    * [3.3.6 DEF](#def)\n",
    "    * [3.3.7 Level/Rank](#level/rank)\n",
    "      * [3.3.7.1 ATK statistics](#atk-statistics)\n",
    "      * [3.3.7.2 DEF statistics](#def-statistics)\n",
    "    * [3.3.8 Pendulum scale](#pendulum-scale)\n",
    "      * [3.3.8.1 ATK statistics](#atk-statistics)\n",
    "      * [3.3.8.2 DEF statistics](#def-statistics)\n",
    "      * [3.3.8.3 Level/Rank statistics](#level/rank-statistics)\n",
    "    * [3.3.9 Link](#link)\n",
    "      * [3.3.9.1 ATK statistics](#atk-statistics)\n",
    "    * [3.3.10 Link Arrows](#link-arrows)\n",
    "      * [3.3.10.1 By combination](#by-combination)\n",
    "      * [3.3.10.2 By unique](#by-unique)\n",
    "      * [3.3.10.3 By link](#by-link)\n",
    "  * [3.4 Spell & Trap](#spell-&-trap)\n",
    "    * [3.4.1 Properties](#properties)\n",
    "  * [3.5 Effect type](#effect-type)\n",
    "    * [3.5.1 Card type discrimination](#card-type-discrimination)\n",
    "  * [3.6 Archseries](#archseries)\n",
    "    * [3.6.1 By card type](#by-card-type)\n",
    "    * [3.6.2 By primary type](#by-primary-type)\n",
    "    * [3.6.3 By secondary type](#by-secondary-type)\n",
    "    * [3.6.4 By monster type](#by-monster-type)\n",
    "    * [3.6.5 By property](#by-property)\n",
    "  * [3.7 Artworks](#artworks)\n",
    "    * [3.7.1 By card type](#by-card-type)\n",
    "    * [3.7.2 By primary type](#by-primary-type)\n",
    "  * [3.8 Errata](#errata)\n",
    "    * [3.8.1 By card type](#by-card-type)\n",
    "    * [3.8.2 By primary type](#by-primary-type)\n",
    "    * [3.8.3 By artwork](#by-artwork)\n",
    "  * [3.9 TCG & OCG status](#tcg-&-ocg-status)\n",
    "    * [3.9.1 TGC status](#tgc-status)\n",
    "      * [3.9.1.1 By card type](#by-card-type)\n",
    "      * [3.9.1.2 By monster type](#by-monster-type)\n",
    "      * [3.9.1.3 By archseries](#by-archseries)\n",
    "    * [3.9.2 OCG status](#ocg-status)\n",
    "      * [3.9.2.1 By card type](#by-card-type)\n",
    "      * [3.9.2.2 By monster type](#by-monster-type)\n",
    "      * [3.9.2.3 By archseries](#by-archseries)\n",
    "    * [3.9.3 TCG vs. OCG status](#tcg-vs.-ocg-status)\n",
    "* [4 Extras](#extras)\n",
    "  * [4.1 Counters and Tokens](#counters-and-tokens)\n",
    "  * [4.2 Unusable cards](#Unusable-cards)\n",
    "  * [4.3 Multiple secondary types](#multiple-secondary-types)\n",
    "  * [4.4 Not yet released](#not-yet-released)\n",
    "  * [4.5 Page name differs from card name](#page-name-differs-from-card-name)\n",
    "* [5 Epilogue](#epilogue)\n",
    "  * [5.1 HTML export](#html-export)\n",
    "  <!-- * [5.2 Git](#git) -->"
   ]
  },
  {
   "cell_type": "markdown",
   "id": "3",
   "metadata": {
    "papermill": {
     "duration": 0.082631,
     "end_time": "2025-03-15T07:02:35.994185",
     "exception": false,
     "start_time": "2025-03-15T07:02:35.911554",
     "status": "completed"
    },
    "tags": []
   },
   "source": [
    "# Data aquisition"
   ]
  },
  {
   "cell_type": "markdown",
   "id": "4",
   "metadata": {
    "papermill": {
     "duration": 0.277583,
     "end_time": "2025-03-15T07:02:36.345483",
     "exception": false,
     "start_time": "2025-03-15T07:02:36.067900",
     "status": "completed"
    },
    "tags": []
   },
   "source": [
    "## Fetch online data"
   ]
  },
  {
   "cell_type": "code",
   "execution_count": null,
   "id": "5",
   "metadata": {
    "papermill": {
     "duration": 0.084223,
     "end_time": "2025-03-15T07:02:36.673864",
     "exception": false,
     "start_time": "2025-03-15T07:02:36.589641",
     "status": "completed"
    },
    "tags": []
   },
   "outputs": [],
   "source": [
    "# Timestamp\n",
    "timestamp = arrow.utcnow()"
   ]
  },
  {
   "cell_type": "code",
   "execution_count": null,
   "id": "6",
   "metadata": {
    "papermill": {
     "duration": 90.099487,
     "end_time": "2025-03-15T07:04:06.860084",
     "exception": false,
     "start_time": "2025-03-15T07:02:36.760597",
     "status": "completed"
    },
    "tags": []
   },
   "outputs": [],
   "source": [
    "# Fetch Monster\n",
    "monster_df = fetch_monster()"
   ]
  },
  {
   "cell_type": "code",
   "execution_count": null,
   "id": "7",
   "metadata": {
    "papermill": {
     "duration": 35.253388,
     "end_time": "2025-03-15T07:04:42.705608",
     "exception": false,
     "start_time": "2025-03-15T07:04:07.452220",
     "status": "completed"
    },
    "tags": []
   },
   "outputs": [],
   "source": [
    "# Fetch Spell\n",
    "spell_df = fetch_st(st=\"Spell\")\n",
    "\n",
    "# Fetch Trap\n",
    "trap_df = fetch_st(st=\"Trap\")"
   ]
  },
  {
   "cell_type": "code",
   "execution_count": null,
   "id": "8",
   "metadata": {
    "papermill": {
     "duration": 4.758655,
     "end_time": "2025-03-15T07:04:47.638789",
     "exception": false,
     "start_time": "2025-03-15T07:04:42.880134",
     "status": "completed"
    },
    "tags": []
   },
   "outputs": [],
   "source": [
    "# Fetch Token\n",
    "token_df = fetch_token()\n",
    "\n",
    "# Fetch Counter\n",
    "counter_df = fetch_counter()\n",
    "\n",
    "# Fetch errata\n",
    "errata_df = fetch_errata()"
   ]
  },
  {
   "cell_type": "code",
   "execution_count": null,
   "id": "9",
   "metadata": {
    "papermill": {
     "duration": 0.48012,
     "end_time": "2025-03-15T07:04:48.194438",
     "exception": false,
     "start_time": "2025-03-15T07:04:47.714318",
     "status": "completed"
    },
    "tags": []
   },
   "outputs": [],
   "source": [
    "# Fetch unusable\n",
    "unusable_df = fetch_unusable()"
   ]
  },
  {
   "cell_type": "markdown",
   "id": "10",
   "metadata": {
    "papermill": {
     "duration": 0.068586,
     "end_time": "2025-03-15T07:04:48.339683",
     "exception": false,
     "start_time": "2025-03-15T07:04:48.271097",
     "status": "completed"
    },
    "tags": []
   },
   "source": [
    "## Merge data"
   ]
  },
  {
   "cell_type": "code",
   "execution_count": null,
   "id": "11",
   "metadata": {
    "papermill": {
     "duration": 5.067584,
     "end_time": "2025-03-15T07:04:53.485810",
     "exception": false,
     "start_time": "2025-03-15T07:04:48.418226",
     "status": "completed"
    },
    "tags": []
   },
   "outputs": [],
   "source": [
    "# Merge errata\n",
    "monster_df = merge_errata(monster_df, errata_df)\n",
    "spell_df = merge_errata(spell_df, errata_df)\n",
    "trap_df = merge_errata(trap_df, errata_df)\n",
    "token_df = merge_errata(token_df, errata_df)\n",
    "counter_df = merge_errata(counter_df, errata_df)\n",
    "\n",
    "# Add counters to tokens data frame\n",
    "token_df = (\n",
    "    pd.concat([token_df, counter_df], ignore_index=True, axis=0).drop_duplicates().sort_values(\"Name\", ignore_index=True)\n",
    ")\n",
    "\n",
    "# Create combined spell and trap data frame\n",
    "st_df = pd.concat([spell_df, trap_df], ignore_index=True, axis=0).sort_values(\"Name\", ignore_index=True)\n",
    "\n",
    "# Create combined monster, spell and trap data frames\n",
    "cards_df = pd.concat([st_df, monster_df], ignore_index=True, axis=0).sort_values(\"Name\", ignore_index=True)\n",
    "\n",
    "# Create combined data frames with full data\n",
    "full_df = pd.concat([cards_df, token_df, unusable_df], ignore_index=True, axis=0).sort_values(\"Name\", ignore_index=True)\n",
    "\n",
    "print(\"Data merged\")"
   ]
  },
  {
   "cell_type": "markdown",
   "id": "12",
   "metadata": {
    "papermill": {
     "duration": 0.069975,
     "end_time": "2025-03-15T07:04:53.631325",
     "exception": false,
     "start_time": "2025-03-15T07:04:53.561350",
     "status": "completed"
    },
    "tags": []
   },
   "source": [
    "# Check changes"
   ]
  },
  {
   "cell_type": "markdown",
   "id": "13",
   "metadata": {
    "papermill": {
     "duration": 0.074237,
     "end_time": "2025-03-15T07:04:53.779884",
     "exception": false,
     "start_time": "2025-03-15T07:04:53.705647",
     "status": "completed"
    },
    "tags": []
   },
   "source": [
    "## Load previous data"
   ]
  },
  {
   "cell_type": "code",
   "execution_count": null,
   "id": "14",
   "metadata": {
    "papermill": {
     "duration": 1.166096,
     "end_time": "2025-03-15T07:04:55.019691",
     "exception": false,
     "start_time": "2025-03-15T07:04:53.853595",
     "status": "completed"
    },
    "tags": []
   },
   "outputs": [],
   "source": [
    "# Get latest file if exist\n",
    "tuple_cols = [\n",
    "    \"Effect type\",\n",
    "    \"Secondary type\",\n",
    "    \"Link Arrows\",\n",
    "    \"Archseries\",\n",
    "    \"Artwork\",\n",
    "    \"Errata\",\n",
    "]\n",
    "previous_df, previous_ts = load_latest_data(\"cards\", tuple_cols, return_ts=True)\n",
    "\n",
    "if previous_df is not None:\n",
    "    previous_df = previous_df.astype(full_df[previous_df.columns.intersection(full_df.columns)].dtypes.to_dict())"
   ]
  },
  {
   "cell_type": "markdown",
   "id": "15",
   "metadata": {
    "papermill": {
     "duration": 0.072295,
     "end_time": "2025-03-15T07:04:55.169834",
     "exception": false,
     "start_time": "2025-03-15T07:04:55.097539",
     "status": "completed"
    },
    "tags": []
   },
   "source": [
    "## Generate changelog"
   ]
  },
  {
   "cell_type": "code",
   "execution_count": null,
   "id": "16",
   "metadata": {
    "papermill": {
     "duration": 0.574754,
     "end_time": "2025-03-15T07:04:55.857194",
     "exception": false,
     "start_time": "2025-03-15T07:04:55.282440",
     "status": "completed"
    },
    "tags": []
   },
   "outputs": [],
   "source": [
    "if previous_df is None:\n",
    "    changelog = None\n",
    "    print(\"Skipped\")\n",
    "else:\n",
    "    changelog = generate_changelog(previous_df, full_df, col=\"Name\")\n",
    "    if not changelog.empty:\n",
    "        display(changelog)\n",
    "        new_names = changelog.index.value_counts()\n",
    "        new_names = new_names[new_names == 1].index\n",
    "        if len(new_names) > 0:\n",
    "            print(\"New cards:\")\n",
    "            display(changelog.loc[new_names])\n",
    "        changelog.to_csv(\n",
    "            dirs.DATA / make_filename(report=\"cards\", timestamp=timestamp, previous_timestamp=previous_ts),\n",
    "            index=True,\n",
    "        )\n",
    "        print(\"Changelog saved\")"
   ]
  },
  {
   "cell_type": "markdown",
   "id": "17",
   "metadata": {
    "papermill": {
     "duration": 0.072761,
     "end_time": "2025-03-15T07:04:56.009397",
     "exception": false,
     "start_time": "2025-03-15T07:04:55.936636",
     "status": "completed"
    },
    "tags": []
   },
   "source": [
    "## Save data"
   ]
  },
  {
   "cell_type": "code",
   "execution_count": null,
   "id": "18",
   "metadata": {
    "papermill": {
     "duration": 0.981546,
     "end_time": "2025-03-15T07:04:57.070594",
     "exception": false,
     "start_time": "2025-03-15T07:04:56.089048",
     "status": "completed"
    },
    "tags": []
   },
   "outputs": [],
   "source": [
    "if changelog is not None and changelog.empty:\n",
    "    print(\"No changes. New data not saved\")\n",
    "else:\n",
    "    full_df.to_csv(\n",
    "        dirs.DATA / make_filename(report=\"cards\", timestamp=timestamp),\n",
    "        index=False,\n",
    "    )\n",
    "    print(\"Data saved\")"
   ]
  },
  {
   "cell_type": "markdown",
   "id": "19",
   "metadata": {
    "papermill": {
     "duration": 0.072915,
     "end_time": "2025-03-15T07:04:57.223166",
     "exception": false,
     "start_time": "2025-03-15T07:04:57.150251",
     "status": "completed"
    },
    "tags": []
   },
   "source": [
    "# Data visualization"
   ]
  },
  {
   "cell_type": "markdown",
   "id": "20",
   "metadata": {
    "papermill": {
     "duration": 0.072068,
     "end_time": "2025-03-15T07:04:57.376291",
     "exception": false,
     "start_time": "2025-03-15T07:04:57.304223",
     "status": "completed"
    },
    "tags": []
   },
   "source": [
    "## Full data"
   ]
  },
  {
   "cell_type": "code",
   "execution_count": null,
   "id": "21",
   "metadata": {
    "papermill": {
     "duration": 0.243369,
     "end_time": "2025-03-15T07:04:57.698864",
     "exception": false,
     "start_time": "2025-03-15T07:04:57.455495",
     "status": "completed"
    },
    "tags": []
   },
   "outputs": [],
   "source": [
    "full_df"
   ]
  },
  {
   "cell_type": "markdown",
   "id": "22",
   "metadata": {
    "papermill": {
     "duration": 0.076059,
     "end_time": "2025-03-15T07:04:57.858258",
     "exception": false,
     "start_time": "2025-03-15T07:04:57.782199",
     "status": "completed"
    },
    "tags": []
   },
   "source": [
    "Full data available to download [here](../data)"
   ]
  },
  {
   "cell_type": "markdown",
   "id": "23",
   "metadata": {
    "papermill": {
     "duration": 0.079107,
     "end_time": "2025-03-15T07:04:58.016833",
     "exception": false,
     "start_time": "2025-03-15T07:04:57.937726",
     "status": "completed"
    },
    "tags": []
   },
   "source": [
    "## Card types"
   ]
  },
  {
   "cell_type": "code",
   "execution_count": null,
   "id": "24",
   "metadata": {
    "papermill": {
     "duration": 0.096147,
     "end_time": "2025-03-15T07:04:58.192802",
     "exception": false,
     "start_time": "2025-03-15T07:04:58.096655",
     "status": "completed"
    },
    "tags": []
   },
   "outputs": [],
   "source": [
    "print(\"Total number of card types:\", cards_df[\"Card type\"].nunique())"
   ]
  },
  {
   "cell_type": "code",
   "execution_count": null,
   "id": "25",
   "metadata": {
    "papermill": {
     "duration": 0.216863,
     "end_time": "2025-03-15T07:04:58.488878",
     "exception": false,
     "start_time": "2025-03-15T07:04:58.272015",
     "status": "completed"
    },
    "tags": []
   },
   "outputs": [],
   "source": [
    "card_type_colors = [plot.colors_dict[i] for i in cards_df[\"Card type\"].value_counts().index]\n",
    "cards_df[\"Card type\"].value_counts().plot.bar(figsize=(10, 6), rot=0, color=card_type_colors)\n",
    "plt.show()"
   ]
  },
  {
   "cell_type": "markdown",
   "id": "26",
   "metadata": {
    "papermill": {
     "duration": 0.076907,
     "end_time": "2025-03-15T07:04:58.647581",
     "exception": false,
     "start_time": "2025-03-15T07:04:58.570674",
     "status": "completed"
    },
    "tags": []
   },
   "source": [
    "## Monsters"
   ]
  },
  {
   "cell_type": "markdown",
   "id": "27",
   "metadata": {
    "papermill": {
     "duration": 0.076235,
     "end_time": "2025-03-15T07:04:58.806945",
     "exception": false,
     "start_time": "2025-03-15T07:04:58.730710",
     "status": "completed"
    },
    "tags": []
   },
   "source": [
    "### Attributes"
   ]
  },
  {
   "cell_type": "code",
   "execution_count": null,
   "id": "28",
   "metadata": {
    "papermill": {
     "duration": 0.10016,
     "end_time": "2025-03-15T07:04:58.987907",
     "exception": false,
     "start_time": "2025-03-15T07:04:58.887747",
     "status": "completed"
    },
    "tags": []
   },
   "outputs": [],
   "source": [
    "print(\"Total number of attributes:\", monster_df[\"Attribute\"].nunique())"
   ]
  },
  {
   "cell_type": "code",
   "execution_count": null,
   "id": "29",
   "metadata": {
    "papermill": {
     "duration": 0.180077,
     "end_time": "2025-03-15T07:04:59.271542",
     "exception": false,
     "start_time": "2025-03-15T07:04:59.091465",
     "status": "completed"
    },
    "tags": []
   },
   "outputs": [],
   "source": [
    "monster_df.drop(columns=[\"Card type\", \"Page name\", \"Page URL\"]).groupby(\"Attribute\").nunique()"
   ]
  },
  {
   "cell_type": "code",
   "execution_count": null,
   "id": "30",
   "metadata": {
    "papermill": {
     "duration": 0.222303,
     "end_time": "2025-03-15T07:04:59.591348",
     "exception": false,
     "start_time": "2025-03-15T07:04:59.369045",
     "status": "completed"
    },
    "tags": []
   },
   "outputs": [],
   "source": [
    "attribute_colors = [plot.colors_dict[i] for i in monster_df[\"Attribute\"].value_counts().index]\n",
    "monster_df[\"Attribute\"].value_counts().plot.bar(figsize=(14, 6), rot=0, color=attribute_colors)\n",
    "plt.show()"
   ]
  },
  {
   "cell_type": "markdown",
   "id": "31",
   "metadata": {
    "papermill": {
     "duration": 0.079762,
     "end_time": "2025-03-15T07:04:59.756684",
     "exception": false,
     "start_time": "2025-03-15T07:04:59.676922",
     "status": "completed"
    },
    "tags": []
   },
   "source": [
    "### Primary types"
   ]
  },
  {
   "cell_type": "code",
   "execution_count": null,
   "id": "32",
   "metadata": {
    "papermill": {
     "duration": 0.093067,
     "end_time": "2025-03-15T07:04:59.935494",
     "exception": false,
     "start_time": "2025-03-15T07:04:59.842427",
     "status": "completed"
    },
    "tags": []
   },
   "outputs": [],
   "source": [
    "print(\"Total number of primary types:\", monster_df[\"Primary type\"].nunique())"
   ]
  },
  {
   "cell_type": "code",
   "execution_count": null,
   "id": "33",
   "metadata": {
    "papermill": {
     "duration": 0.170145,
     "end_time": "2025-03-15T07:05:00.191457",
     "exception": false,
     "start_time": "2025-03-15T07:05:00.021312",
     "status": "completed"
    },
    "tags": []
   },
   "outputs": [],
   "source": [
    "monster_df.drop(columns=[\"Card type\", \"Page name\", \"Page URL\"]).groupby(\"Primary type\").nunique()"
   ]
  },
  {
   "cell_type": "markdown",
   "id": "34",
   "metadata": {
    "papermill": {
     "duration": 0.079261,
     "end_time": "2025-03-15T07:05:00.362793",
     "exception": false,
     "start_time": "2025-03-15T07:05:00.283532",
     "status": "completed"
    },
    "tags": []
   },
   "source": [
    "#### Has effect discrimination"
   ]
  },
  {
   "cell_type": "code",
   "execution_count": null,
   "id": "35",
   "metadata": {
    "papermill": {
     "duration": 0.109952,
     "end_time": "2025-03-15T07:05:00.559885",
     "exception": false,
     "start_time": "2025-03-15T07:05:00.449933",
     "status": "completed"
    },
    "tags": []
   },
   "outputs": [],
   "source": [
    "effect = pd.crosstab(\n",
    "    monster_df[\"Primary type\"],\n",
    "    pd.isna(monster_df[\"Effect type\"]),\n",
    "    rownames=[\"Primary type\"],\n",
    "    colnames=[\"Has effect\"],\n",
    ").rename(columns={True: \"No Effect\", False: \"Effect\"})\n",
    "effect"
   ]
  },
  {
   "cell_type": "code",
   "execution_count": null,
   "id": "36",
   "metadata": {
    "papermill": {
     "duration": 0.340106,
     "end_time": "2025-03-15T07:05:00.985793",
     "exception": false,
     "start_time": "2025-03-15T07:05:00.645687",
     "status": "completed"
    },
    "tags": []
   },
   "outputs": [],
   "source": [
    "monster_type_colors = {\n",
    "    \"No Effect\": plot.colors_dict[\"Normal Monster\"],\n",
    "    \"Effect\": [plot.colors_dict[i] for i in effect.index],\n",
    "}\n",
    "effect.plot.bar(\n",
    "    figsize=(16, 6),\n",
    "    stacked=True,\n",
    "    rot=0,\n",
    "    legend=True,\n",
    "    color=monster_type_colors,\n",
    ")\n",
    "# plt.yscale('log')\n",
    "plt.show()"
   ]
  },
  {
   "cell_type": "markdown",
   "id": "37",
   "metadata": {
    "papermill": {
     "duration": 0.091872,
     "end_time": "2025-03-15T07:05:01.182287",
     "exception": false,
     "start_time": "2025-03-15T07:05:01.090415",
     "status": "completed"
    },
    "tags": []
   },
   "source": [
    "Obs: Normal monster can have effect if it is pendulum"
   ]
  },
  {
   "cell_type": "markdown",
   "id": "38",
   "metadata": {
    "papermill": {
     "duration": 0.084245,
     "end_time": "2025-03-15T07:05:01.369608",
     "exception": false,
     "start_time": "2025-03-15T07:05:01.285363",
     "status": "completed"
    },
    "tags": []
   },
   "source": [
    "#### Is pendulum discrimination"
   ]
  },
  {
   "cell_type": "code",
   "execution_count": null,
   "id": "39",
   "metadata": {
    "papermill": {
     "duration": 0.323991,
     "end_time": "2025-03-15T07:05:01.787904",
     "exception": false,
     "start_time": "2025-03-15T07:05:01.463913",
     "status": "completed"
    },
    "tags": []
   },
   "outputs": [],
   "source": [
    "pendulum = pd.crosstab(\n",
    "    monster_df[\"Primary type\"],\n",
    "    pd.isna(monster_df[\"Pendulum Scale\"]),\n",
    "    rownames=[\"Primary type\"],\n",
    "    colnames=[\"Is Pendulum\"],\n",
    ").rename(columns={True: \"Not Pendulum\", False: \"Pendulum\"})\n",
    "pendulum"
   ]
  },
  {
   "cell_type": "code",
   "execution_count": null,
   "id": "40",
   "metadata": {
    "papermill": {
     "duration": 0.314973,
     "end_time": "2025-03-15T07:05:02.192543",
     "exception": false,
     "start_time": "2025-03-15T07:05:01.877570",
     "status": "completed"
    },
    "tags": []
   },
   "outputs": [],
   "source": [
    "monster_type_colors_b = {\n",
    "    \"Pendulum\": plot.colors_dict[\"Pendulum Monster\"],\n",
    "    \"Not Pendulum\": [plot.colors_dict[i] for i in pendulum.index],\n",
    "}\n",
    "pendulum.plot.bar(\n",
    "    figsize=(16, 6),\n",
    "    stacked=True,\n",
    "    rot=0,\n",
    "    color=monster_type_colors_b,\n",
    "    legend=True,\n",
    "    title=\"Primary types - Is pendulum\",\n",
    ")\n",
    "plt.show()"
   ]
  },
  {
   "cell_type": "markdown",
   "id": "41",
   "metadata": {
    "papermill": {
     "duration": 0.248768,
     "end_time": "2025-03-15T07:05:02.532188",
     "exception": false,
     "start_time": "2025-03-15T07:05:02.283420",
     "status": "completed"
    },
    "tags": []
   },
   "source": [
    "#### By attribute"
   ]
  },
  {
   "cell_type": "code",
   "execution_count": null,
   "id": "42",
   "metadata": {
    "papermill": {
     "duration": 0.122105,
     "end_time": "2025-03-15T07:05:02.743689",
     "exception": false,
     "start_time": "2025-03-15T07:05:02.621584",
     "status": "completed"
    },
    "tags": []
   },
   "outputs": [],
   "source": [
    "primmary_crosstab = pd.crosstab(cards_df[\"Primary type\"], cards_df[\"Attribute\"])\n",
    "primmary_crosstab"
   ]
  },
  {
   "cell_type": "code",
   "execution_count": null,
   "id": "43",
   "metadata": {
    "papermill": {
     "duration": 1.355964,
     "end_time": "2025-03-15T07:05:04.191102",
     "exception": false,
     "start_time": "2025-03-15T07:05:02.835138",
     "status": "completed"
    },
    "tags": []
   },
   "outputs": [],
   "source": [
    "plt.figure(figsize=(16, 10))\n",
    "sns.heatmap(\n",
    "    primmary_crosstab.T,\n",
    "    annot=True,\n",
    "    fmt=\"g\",\n",
    "    cmap=\"viridis\",\n",
    "    square=True,\n",
    "    norm=plot.LogNorm(),\n",
    ")\n",
    "plt.show()"
   ]
  },
  {
   "cell_type": "markdown",
   "id": "44",
   "metadata": {
    "papermill": {
     "duration": 0.091425,
     "end_time": "2025-03-15T07:05:04.378560",
     "exception": false,
     "start_time": "2025-03-15T07:05:04.287135",
     "status": "completed"
    },
    "tags": []
   },
   "source": [
    "### Secondary types"
   ]
  },
  {
   "cell_type": "code",
   "execution_count": null,
   "id": "45",
   "metadata": {
    "papermill": {
     "duration": 0.166198,
     "end_time": "2025-03-15T07:05:04.823554",
     "exception": false,
     "start_time": "2025-03-15T07:05:04.657356",
     "status": "completed"
    },
    "tags": []
   },
   "outputs": [],
   "source": [
    "exploded_secondary_type = monster_df.explode(\"Secondary type\")\n",
    "print(\n",
    "    \"Total number of secondary types:\",\n",
    "    exploded_secondary_type[\"Secondary type\"].nunique(),\n",
    ")"
   ]
  },
  {
   "cell_type": "code",
   "execution_count": null,
   "id": "46",
   "metadata": {
    "papermill": {
     "duration": 0.173293,
     "end_time": "2025-03-15T07:05:05.091836",
     "exception": false,
     "start_time": "2025-03-15T07:05:04.918543",
     "status": "completed"
    },
    "tags": []
   },
   "outputs": [],
   "source": [
    "exploded_secondary_type.drop(columns=[\"Card type\", \"Link Arrows\", \"Page name\", \"Page URL\"]).groupby(\n",
    "    \"Secondary type\"\n",
    ").nunique()"
   ]
  },
  {
   "cell_type": "code",
   "execution_count": null,
   "id": "47",
   "metadata": {
    "papermill": {
     "duration": 0.383893,
     "end_time": "2025-03-15T07:05:05.573351",
     "exception": false,
     "start_time": "2025-03-15T07:05:05.189458",
     "status": "completed"
    },
    "tags": []
   },
   "outputs": [],
   "source": [
    "secondary_type_colors = plot.colors_dict[\"Effect Monster\"]\n",
    "exploded_secondary_type[\"Secondary type\"].value_counts().plot.bar(\n",
    "    figsize=(14, 6),\n",
    "    stacked=True,\n",
    "    rot=0,\n",
    "    color=secondary_type_colors,\n",
    "    legend=False,\n",
    ")\n",
    "plt.show()"
   ]
  },
  {
   "cell_type": "markdown",
   "id": "48",
   "metadata": {
    "papermill": {
     "duration": 0.194168,
     "end_time": "2025-03-15T07:05:05.860746",
     "exception": false,
     "start_time": "2025-03-15T07:05:05.666578",
     "status": "completed"
    },
    "tags": []
   },
   "source": [
    "#### By attribute"
   ]
  },
  {
   "cell_type": "code",
   "execution_count": null,
   "id": "49",
   "metadata": {
    "papermill": {
     "duration": 0.126146,
     "end_time": "2025-03-15T07:05:06.191756",
     "exception": false,
     "start_time": "2025-03-15T07:05:06.065610",
     "status": "completed"
    },
    "tags": []
   },
   "outputs": [],
   "source": [
    "secondary_crosstab = pd.crosstab(exploded_secondary_type[\"Secondary type\"], exploded_secondary_type[\"Attribute\"])\n",
    "secondary_crosstab"
   ]
  },
  {
   "cell_type": "code",
   "execution_count": null,
   "id": "50",
   "metadata": {
    "papermill": {
     "duration": 0.412905,
     "end_time": "2025-03-15T07:05:06.703040",
     "exception": false,
     "start_time": "2025-03-15T07:05:06.290135",
     "status": "completed"
    },
    "tags": []
   },
   "outputs": [],
   "source": [
    "plt.figure(figsize=(8, 6))\n",
    "sns.heatmap(\n",
    "    secondary_crosstab[secondary_crosstab > 0],\n",
    "    annot=True,\n",
    "    fmt=\"g\",\n",
    "    cmap=\"viridis\",\n",
    "    square=True,\n",
    ")\n",
    "plt.show()"
   ]
  },
  {
   "cell_type": "markdown",
   "id": "51",
   "metadata": {
    "papermill": {
     "duration": 0.123868,
     "end_time": "2025-03-15T07:05:06.931270",
     "exception": false,
     "start_time": "2025-03-15T07:05:06.807402",
     "status": "completed"
    },
    "tags": []
   },
   "source": [
    "#### By primary type"
   ]
  },
  {
   "cell_type": "code",
   "execution_count": null,
   "id": "52",
   "metadata": {
    "papermill": {
     "duration": 0.157346,
     "end_time": "2025-03-15T07:05:07.193752",
     "exception": false,
     "start_time": "2025-03-15T07:05:07.036406",
     "status": "completed"
    },
    "tags": []
   },
   "outputs": [],
   "source": [
    "secondary_crosstab_b = pd.crosstab(\n",
    "    exploded_secondary_type[\"Primary type\"],\n",
    "    exploded_secondary_type[\"Secondary type\"],\n",
    "    margins=True,\n",
    ")\n",
    "secondary_crosstab_b"
   ]
  },
  {
   "cell_type": "code",
   "execution_count": null,
   "id": "53",
   "metadata": {
    "papermill": {
     "duration": 0.897607,
     "end_time": "2025-03-15T07:05:08.189073",
     "exception": false,
     "start_time": "2025-03-15T07:05:07.291466",
     "status": "completed"
    },
    "tags": []
   },
   "outputs": [],
   "source": [
    "plt.figure(figsize=(10, 7))\n",
    "sns.heatmap(\n",
    "    secondary_crosstab_b,\n",
    "    annot=True,\n",
    "    fmt=\"g\",\n",
    "    cmap=\"viridis\",\n",
    "    square=True,\n",
    "    norm=plot.LogNorm(),\n",
    ")\n",
    "plt.show()"
   ]
  },
  {
   "cell_type": "markdown",
   "id": "54",
   "metadata": {
    "papermill": {
     "duration": 0.113647,
     "end_time": "2025-03-15T07:05:08.469731",
     "exception": false,
     "start_time": "2025-03-15T07:05:08.356084",
     "status": "completed"
    },
    "tags": []
   },
   "source": [
    "### Monster types"
   ]
  },
  {
   "cell_type": "code",
   "execution_count": null,
   "id": "55",
   "metadata": {
    "papermill": {
     "duration": 0.110718,
     "end_time": "2025-03-15T07:05:08.771979",
     "exception": false,
     "start_time": "2025-03-15T07:05:08.661261",
     "status": "completed"
    },
    "tags": []
   },
   "outputs": [],
   "source": [
    "print(\"Total number of monster types:\", monster_df[\"Monster type\"].nunique())"
   ]
  },
  {
   "cell_type": "code",
   "execution_count": null,
   "id": "56",
   "metadata": {
    "papermill": {
     "duration": 0.631988,
     "end_time": "2025-03-15T07:05:09.529480",
     "exception": false,
     "start_time": "2025-03-15T07:05:08.897492",
     "status": "completed"
    },
    "tags": []
   },
   "outputs": [],
   "source": [
    "monster_df.drop(columns=[\"Card type\", \"Page name\", \"Page URL\"]).groupby(\"Monster type\").nunique()"
   ]
  },
  {
   "cell_type": "code",
   "execution_count": null,
   "id": "57",
   "metadata": {
    "papermill": {
     "duration": 0.394648,
     "end_time": "2025-03-15T07:05:10.027788",
     "exception": false,
     "start_time": "2025-03-15T07:05:09.633140",
     "status": "completed"
    },
    "tags": []
   },
   "outputs": [],
   "source": [
    "monster_type_colors = plot.colors_dict[\"Monster Card\"]\n",
    "monster_df[\"Monster type\"].value_counts().plot.bar(figsize=(18, 6), rot=45, color=monster_type_colors)\n",
    "plt.show()"
   ]
  },
  {
   "cell_type": "markdown",
   "id": "58",
   "metadata": {
    "papermill": {
     "duration": 0.277152,
     "end_time": "2025-03-15T07:05:10.410328",
     "exception": false,
     "start_time": "2025-03-15T07:05:10.133176",
     "status": "completed"
    },
    "tags": []
   },
   "source": [
    "#### By Attribute"
   ]
  },
  {
   "cell_type": "code",
   "execution_count": null,
   "id": "59",
   "metadata": {
    "papermill": {
     "duration": 0.140229,
     "end_time": "2025-03-15T07:05:10.655976",
     "exception": false,
     "start_time": "2025-03-15T07:05:10.515747",
     "status": "completed"
    },
    "tags": []
   },
   "outputs": [],
   "source": [
    "monster_crosstab = pd.crosstab(cards_df[\"Monster type\"], cards_df[\"Attribute\"])\n",
    "monster_crosstab"
   ]
  },
  {
   "cell_type": "code",
   "execution_count": null,
   "id": "60",
   "metadata": {
    "papermill": {
     "duration": 1.03967,
     "end_time": "2025-03-15T07:05:11.799668",
     "exception": false,
     "start_time": "2025-03-15T07:05:10.759998",
     "status": "completed"
    },
    "tags": []
   },
   "outputs": [],
   "source": [
    "plt.figure(figsize=(18, 4))\n",
    "sns.heatmap(\n",
    "    monster_crosstab[monster_crosstab > 0].T,\n",
    "    annot=True,\n",
    "    fmt=\"g\",\n",
    "    cmap=\"viridis\",\n",
    "    square=True,\n",
    "    norm=plot.LogNorm(),\n",
    ")\n",
    "plt.show()"
   ]
  },
  {
   "cell_type": "markdown",
   "id": "61",
   "metadata": {
    "papermill": {
     "duration": 0.24652,
     "end_time": "2025-03-15T07:05:12.241497",
     "exception": false,
     "start_time": "2025-03-15T07:05:11.994977",
     "status": "completed"
    },
    "tags": []
   },
   "source": [
    "#### By primary type"
   ]
  },
  {
   "cell_type": "code",
   "execution_count": null,
   "id": "62",
   "metadata": {
    "papermill": {
     "duration": 0.199868,
     "end_time": "2025-03-15T07:05:12.552633",
     "exception": false,
     "start_time": "2025-03-15T07:05:12.352765",
     "status": "completed"
    },
    "tags": []
   },
   "outputs": [],
   "source": [
    "monster_crosstab_b = pd.crosstab(cards_df[\"Monster type\"], cards_df[\"Primary type\"], dropna=False)\n",
    "monster_crosstab_b"
   ]
  },
  {
   "cell_type": "code",
   "execution_count": null,
   "id": "63",
   "metadata": {
    "papermill": {
     "duration": 1.463008,
     "end_time": "2025-03-15T07:05:14.125292",
     "exception": false,
     "start_time": "2025-03-15T07:05:12.662284",
     "status": "completed"
    },
    "tags": []
   },
   "outputs": [],
   "source": [
    "plt.figure(figsize=(18, 4))\n",
    "sns.heatmap(\n",
    "    monster_crosstab_b[monster_crosstab_b > 0].T,\n",
    "    annot=True,\n",
    "    fmt=\"g\",\n",
    "    cmap=\"viridis\",\n",
    "    square=True,\n",
    "    norm=plot.LogNorm(),\n",
    ")\n",
    "plt.show()"
   ]
  },
  {
   "cell_type": "markdown",
   "id": "64",
   "metadata": {
    "papermill": {
     "duration": 0.112927,
     "end_time": "2025-03-15T07:05:14.356034",
     "exception": false,
     "start_time": "2025-03-15T07:05:14.243107",
     "status": "completed"
    },
    "tags": []
   },
   "source": [
    "#### By secondary type"
   ]
  },
  {
   "cell_type": "code",
   "execution_count": null,
   "id": "65",
   "metadata": {
    "papermill": {
     "duration": 0.150362,
     "end_time": "2025-03-15T07:05:14.623143",
     "exception": false,
     "start_time": "2025-03-15T07:05:14.472781",
     "status": "completed"
    },
    "tags": []
   },
   "outputs": [],
   "source": [
    "monster_crosstab_c = pd.crosstab(\n",
    "    exploded_secondary_type[\"Monster type\"],\n",
    "    exploded_secondary_type[\"Secondary type\"],\n",
    "    dropna=False,\n",
    ")\n",
    "monster_crosstab_c"
   ]
  },
  {
   "cell_type": "code",
   "execution_count": null,
   "id": "66",
   "metadata": {
    "papermill": {
     "duration": 0.961969,
     "end_time": "2025-03-15T07:05:15.715498",
     "exception": false,
     "start_time": "2025-03-15T07:05:14.753529",
     "status": "completed"
    },
    "tags": []
   },
   "outputs": [],
   "source": [
    "plt.figure(figsize=(18, 4))\n",
    "sns.heatmap(\n",
    "    monster_crosstab_c[monster_crosstab_c > 0].T,\n",
    "    annot=True,\n",
    "    fmt=\"g\",\n",
    "    cmap=\"viridis\",\n",
    "    square=True,\n",
    "    norm=plot.LogNorm(),\n",
    ")\n",
    "plt.show()"
   ]
  },
  {
   "cell_type": "markdown",
   "id": "67",
   "metadata": {
    "papermill": {
     "duration": 0.120457,
     "end_time": "2025-03-15T07:05:15.957207",
     "exception": false,
     "start_time": "2025-03-15T07:05:15.836750",
     "status": "completed"
    },
    "tags": []
   },
   "source": [
    "### ATK"
   ]
  },
  {
   "cell_type": "code",
   "execution_count": null,
   "id": "68",
   "metadata": {
    "papermill": {
     "duration": 0.133936,
     "end_time": "2025-03-15T07:05:16.215834",
     "exception": false,
     "start_time": "2025-03-15T07:05:16.081898",
     "status": "completed"
    },
    "tags": []
   },
   "outputs": [],
   "source": [
    "print(\"Total number of ATK values:\", monster_df[\"ATK\"].nunique())"
   ]
  },
  {
   "cell_type": "code",
   "execution_count": null,
   "id": "69",
   "metadata": {
    "papermill": {
     "duration": 0.211015,
     "end_time": "2025-03-15T07:05:16.646144",
     "exception": false,
     "start_time": "2025-03-15T07:05:16.435129",
     "status": "completed"
    },
    "tags": []
   },
   "outputs": [],
   "source": [
    "monster_df.drop(columns=[\"Card type\", \"Page name\", \"Page URL\"]).groupby(\"ATK\").nunique().sort_index(\n",
    "    key=lambda x: pd.to_numeric(x, errors=\"coerce\")\n",
    ")"
   ]
  },
  {
   "cell_type": "code",
   "execution_count": null,
   "id": "70",
   "metadata": {
    "papermill": {
     "duration": 0.867285,
     "end_time": "2025-03-15T07:05:17.637294",
     "exception": false,
     "start_time": "2025-03-15T07:05:16.770009",
     "status": "completed"
    },
    "tags": []
   },
   "outputs": [],
   "source": [
    "atk_colors = plot.colors_dict[\"Monster Card\"]\n",
    "monster_df[\"ATK\"].value_counts().sort_index(key=lambda x: pd.to_numeric(x, errors=\"coerce\")).plot.bar(\n",
    "    figsize=(18, 6), color=atk_colors\n",
    ")\n",
    "plt.show()"
   ]
  },
  {
   "cell_type": "markdown",
   "id": "71",
   "metadata": {
    "papermill": {
     "duration": 0.181014,
     "end_time": "2025-03-15T07:05:17.943987",
     "exception": false,
     "start_time": "2025-03-15T07:05:17.762973",
     "status": "completed"
    },
    "tags": []
   },
   "source": [
    "### DEF"
   ]
  },
  {
   "cell_type": "code",
   "execution_count": null,
   "id": "72",
   "metadata": {
    "papermill": {
     "duration": 0.414591,
     "end_time": "2025-03-15T07:05:18.719806",
     "exception": false,
     "start_time": "2025-03-15T07:05:18.305215",
     "status": "completed"
    },
    "tags": []
   },
   "outputs": [],
   "source": [
    "print(\"Total number of DEF values:\", monster_df[\"DEF\"].nunique())"
   ]
  },
  {
   "cell_type": "code",
   "execution_count": null,
   "id": "73",
   "metadata": {
    "papermill": {
     "duration": 0.39492,
     "end_time": "2025-03-15T07:05:19.391896",
     "exception": false,
     "start_time": "2025-03-15T07:05:18.996976",
     "status": "completed"
    },
    "tags": []
   },
   "outputs": [],
   "source": [
    "monster_df.drop(columns=[\"Card type\", \"Page name\", \"Page URL\"]).groupby(\"DEF\").nunique().sort_index(\n",
    "    key=lambda x: pd.to_numeric(x, errors=\"coerce\")\n",
    ")"
   ]
  },
  {
   "cell_type": "code",
   "execution_count": null,
   "id": "74",
   "metadata": {
    "papermill": {
     "duration": 0.774141,
     "end_time": "2025-03-15T07:05:20.426504",
     "exception": false,
     "start_time": "2025-03-15T07:05:19.652363",
     "status": "completed"
    },
    "tags": []
   },
   "outputs": [],
   "source": [
    "def_colors = plot.colors_dict[\"Monster Card\"]\n",
    "monster_df[\"DEF\"].value_counts().sort_index(key=lambda x: pd.to_numeric(x, errors=\"coerce\")).plot.bar(\n",
    "    figsize=(18, 6), color=def_colors\n",
    ")\n",
    "plt.show()"
   ]
  },
  {
   "cell_type": "markdown",
   "id": "75",
   "metadata": {
    "papermill": {
     "duration": 0.26211,
     "end_time": "2025-03-15T07:05:20.820370",
     "exception": false,
     "start_time": "2025-03-15T07:05:20.558260",
     "status": "completed"
    },
    "tags": []
   },
   "source": [
    "### Level/Rank"
   ]
  },
  {
   "cell_type": "code",
   "execution_count": null,
   "id": "76",
   "metadata": {
    "papermill": {
     "duration": 0.30569,
     "end_time": "2025-03-15T07:05:21.262051",
     "exception": false,
     "start_time": "2025-03-15T07:05:20.956361",
     "status": "completed"
    },
    "tags": []
   },
   "outputs": [],
   "source": [
    "monster_df[monster_df[\"Primary type\"] != \"Link Monster\"].drop(\n",
    "    columns=[\"Card type\", \"Link Arrows\", \"Page name\", \"Page URL\"]\n",
    ").groupby(\"Level/Rank/Link\").nunique().rename_axis(\"Level/Rank\").sort_index(key=lambda x: pd.to_numeric(x, errors=\"coerce\"))"
   ]
  },
  {
   "cell_type": "code",
   "execution_count": null,
   "id": "77",
   "metadata": {
    "papermill": {
     "duration": 0.531475,
     "end_time": "2025-03-15T07:05:21.926085",
     "exception": false,
     "start_time": "2025-03-15T07:05:21.394610",
     "status": "completed"
    },
    "tags": []
   },
   "outputs": [],
   "source": [
    "stars_colors = plot.colors_dict[\"Level\"]\n",
    "monster_df[monster_df[\"Primary type\"] != \"Link Monster\"][\"Level/Rank/Link\"].rename(\"Level/Rank\").value_counts().sort_index(\n",
    "    key=lambda x: pd.to_numeric(x, errors=\"coerce\")\n",
    ").plot.bar(figsize=(16, 6), rot=0, color=stars_colors)\n",
    "plt.show()"
   ]
  },
  {
   "cell_type": "markdown",
   "id": "78",
   "metadata": {
    "papermill": {
     "duration": 0.291937,
     "end_time": "2025-03-15T07:05:22.348537",
     "exception": false,
     "start_time": "2025-03-15T07:05:22.056600",
     "status": "completed"
    },
    "tags": []
   },
   "source": [
    "#### ATK statistics"
   ]
  },
  {
   "cell_type": "code",
   "execution_count": null,
   "id": "79",
   "metadata": {
    "papermill": {
     "duration": 0.235524,
     "end_time": "2025-03-15T07:05:22.717473",
     "exception": false,
     "start_time": "2025-03-15T07:05:22.481949",
     "status": "completed"
    },
    "tags": []
   },
   "outputs": [],
   "source": [
    "monster_df[monster_df[\"Primary type\"] != \"Link Monster\"][[\"Level/Rank/Link\", \"ATK\"]].apply(\n",
    "    pd.to_numeric, errors=\"coerce\"\n",
    ").dropna().astype(int).groupby(\"Level/Rank/Link\").describe().round(1).rename_axis(\"Level/Rank\")"
   ]
  },
  {
   "cell_type": "markdown",
   "id": "80",
   "metadata": {
    "papermill": {
     "duration": 0.172011,
     "end_time": "2025-03-15T07:05:23.143670",
     "exception": false,
     "start_time": "2025-03-15T07:05:22.971659",
     "status": "completed"
    },
    "tags": []
   },
   "source": [
    "#### DEF statistics"
   ]
  },
  {
   "cell_type": "code",
   "execution_count": null,
   "id": "81",
   "metadata": {
    "papermill": {
     "duration": 0.393384,
     "end_time": "2025-03-15T07:05:23.678188",
     "exception": false,
     "start_time": "2025-03-15T07:05:23.284804",
     "status": "completed"
    },
    "tags": []
   },
   "outputs": [],
   "source": [
    "monster_df[monster_df[\"Primary type\"] != \"Link Monster\"][[\"Level/Rank/Link\", \"DEF\"]].apply(\n",
    "    pd.to_numeric, errors=\"coerce\"\n",
    ").dropna().astype(int).groupby(\"Level/Rank/Link\").describe().round(1).rename_axis(\"Level/Rank\")"
   ]
  },
  {
   "cell_type": "markdown",
   "id": "82",
   "metadata": {
    "papermill": {
     "duration": 0.129913,
     "end_time": "2025-03-15T07:05:23.943234",
     "exception": false,
     "start_time": "2025-03-15T07:05:23.813321",
     "status": "completed"
    },
    "tags": []
   },
   "source": [
    "### Pendulum scale"
   ]
  },
  {
   "cell_type": "code",
   "execution_count": null,
   "id": "83",
   "metadata": {
    "papermill": {
     "duration": 0.212261,
     "end_time": "2025-03-15T07:05:24.289887",
     "exception": false,
     "start_time": "2025-03-15T07:05:24.077626",
     "status": "completed"
    },
    "tags": []
   },
   "outputs": [],
   "source": [
    "monster_df.drop(columns=[\"Card type\", \"Link Arrows\", \"Page name\", \"Page URL\"]).groupby(\n",
    "    \"Pendulum Scale\"\n",
    ").nunique().sort_index(key=lambda x: pd.to_numeric(x, errors=\"coerce\"))"
   ]
  },
  {
   "cell_type": "code",
   "execution_count": null,
   "id": "84",
   "metadata": {
    "papermill": {
     "duration": 0.363461,
     "end_time": "2025-03-15T07:05:24.786221",
     "exception": false,
     "start_time": "2025-03-15T07:05:24.422760",
     "status": "completed"
    },
    "tags": []
   },
   "outputs": [],
   "source": [
    "scales_colors = plot.colors_dict[\"Pendulum Monster\"]\n",
    "monster_df[\"Pendulum Scale\"].value_counts().sort_index(key=lambda x: pd.to_numeric(x, errors=\"coerce\")).plot.bar(\n",
    "    figsize=(16, 6), rot=0, color=scales_colors\n",
    ")\n",
    "plt.show()"
   ]
  },
  {
   "cell_type": "markdown",
   "id": "85",
   "metadata": {
    "papermill": {
     "duration": 0.190397,
     "end_time": "2025-03-15T07:05:25.112186",
     "exception": false,
     "start_time": "2025-03-15T07:05:24.921789",
     "status": "completed"
    },
    "tags": []
   },
   "source": [
    "#### ATK statistics"
   ]
  },
  {
   "cell_type": "code",
   "execution_count": null,
   "id": "86",
   "metadata": {
    "papermill": {
     "duration": 0.232917,
     "end_time": "2025-03-15T07:05:25.482322",
     "exception": false,
     "start_time": "2025-03-15T07:05:25.249405",
     "status": "completed"
    },
    "tags": []
   },
   "outputs": [],
   "source": [
    "monster_df[[\"Pendulum Scale\", \"ATK\"]].apply(pd.to_numeric, errors=\"coerce\").dropna().astype(int).groupby(\n",
    "    \"Pendulum Scale\"\n",
    ").describe().round(1)"
   ]
  },
  {
   "cell_type": "markdown",
   "id": "87",
   "metadata": {
    "papermill": {
     "duration": 0.143505,
     "end_time": "2025-03-15T07:05:25.842634",
     "exception": false,
     "start_time": "2025-03-15T07:05:25.699129",
     "status": "completed"
    },
    "tags": []
   },
   "source": [
    "#### DEF statistics"
   ]
  },
  {
   "cell_type": "code",
   "execution_count": null,
   "id": "88",
   "metadata": {
    "papermill": {
     "duration": 0.230027,
     "end_time": "2025-03-15T07:05:26.286568",
     "exception": false,
     "start_time": "2025-03-15T07:05:26.056541",
     "status": "completed"
    },
    "tags": []
   },
   "outputs": [],
   "source": [
    "monster_df[[\"Pendulum Scale\", \"DEF\"]].apply(pd.to_numeric, errors=\"coerce\").dropna().astype(int).groupby(\n",
    "    \"Pendulum Scale\"\n",
    ").describe().round(1)"
   ]
  },
  {
   "cell_type": "markdown",
   "id": "89",
   "metadata": {
    "papermill": {
     "duration": 0.289995,
     "end_time": "2025-03-15T07:05:27.025118",
     "exception": false,
     "start_time": "2025-03-15T07:05:26.735123",
     "status": "completed"
    },
    "tags": []
   },
   "source": [
    "#### Level/Rank statistics"
   ]
  },
  {
   "cell_type": "code",
   "execution_count": null,
   "id": "90",
   "metadata": {
    "papermill": {
     "duration": 0.213157,
     "end_time": "2025-03-15T07:05:27.383159",
     "exception": false,
     "start_time": "2025-03-15T07:05:27.170002",
     "status": "completed"
    },
    "tags": []
   },
   "outputs": [],
   "source": [
    "monster_df[[\"Pendulum Scale\", \"Level/Rank/Link\"]].apply(pd.to_numeric, errors=\"coerce\").dropna().astype(int).groupby(\n",
    "    \"Pendulum Scale\"\n",
    ").describe().rename({\"Level/Rank/Link\": \"Level/Rank\"}, axis=1).round(1)"
   ]
  },
  {
   "cell_type": "markdown",
   "id": "91",
   "metadata": {
    "papermill": {
     "duration": 0.330856,
     "end_time": "2025-03-15T07:05:27.849080",
     "exception": false,
     "start_time": "2025-03-15T07:05:27.518224",
     "status": "completed"
    },
    "tags": []
   },
   "source": [
    "### Link"
   ]
  },
  {
   "cell_type": "code",
   "execution_count": null,
   "id": "92",
   "metadata": {
    "papermill": {
     "duration": 0.173963,
     "end_time": "2025-03-15T07:05:28.161352",
     "exception": false,
     "start_time": "2025-03-15T07:05:27.987389",
     "status": "completed"
    },
    "tags": []
   },
   "outputs": [],
   "source": [
    "monster_df[monster_df[\"Primary type\"] == \"Link Monster\"].drop(\n",
    "    columns=[\n",
    "        \"Card type\",\n",
    "        \"Primary type\",\n",
    "        \"Secondary type\",\n",
    "        \"DEF\",\n",
    "        \"Pendulum Scale\",\n",
    "        \"Page name\",\n",
    "        \"Page URL\",\n",
    "    ]\n",
    ").groupby(\"Level/Rank/Link\").nunique().sort_index(key=lambda x: pd.to_numeric(x, errors=\"coerce\")).rename_axis(\"Link\")"
   ]
  },
  {
   "cell_type": "code",
   "execution_count": null,
   "id": "93",
   "metadata": {
    "papermill": {
     "duration": 0.284064,
     "end_time": "2025-03-15T07:05:28.583640",
     "exception": false,
     "start_time": "2025-03-15T07:05:28.299576",
     "status": "completed"
    },
    "tags": []
   },
   "outputs": [],
   "source": [
    "link_colors = plot.colors_dict[\"Link Monster\"]\n",
    "monster_df[monster_df[\"Primary type\"] == \"Link Monster\"][\"Level/Rank/Link\"].value_counts().sort_index(\n",
    "    key=lambda x: pd.to_numeric(x, errors=\"coerce\")\n",
    ").plot.bar(figsize=(12, 6), rot=0, color=link_colors)\n",
    "plt.show()"
   ]
  },
  {
   "cell_type": "markdown",
   "id": "94",
   "metadata": {
    "papermill": {
     "duration": 0.134256,
     "end_time": "2025-03-15T07:05:28.855614",
     "exception": false,
     "start_time": "2025-03-15T07:05:28.721358",
     "status": "completed"
    },
    "tags": []
   },
   "source": [
    "#### ATK statistics"
   ]
  },
  {
   "cell_type": "code",
   "execution_count": null,
   "id": "95",
   "metadata": {
    "papermill": {
     "duration": 0.203188,
     "end_time": "2025-03-15T07:05:29.224025",
     "exception": false,
     "start_time": "2025-03-15T07:05:29.020837",
     "status": "completed"
    },
    "tags": []
   },
   "outputs": [],
   "source": [
    "monster_df[monster_df[\"Primary type\"] == \"Link Monster\"][[\"Level/Rank/Link\", \"ATK\"]].apply(\n",
    "    pd.to_numeric, errors=\"coerce\"\n",
    ").dropna().astype(int).groupby(\"Level/Rank/Link\").describe().round(1).rename_axis(\"Link\")"
   ]
  },
  {
   "cell_type": "markdown",
   "id": "96",
   "metadata": {
    "papermill": {
     "duration": 0.133167,
     "end_time": "2025-03-15T07:05:29.511356",
     "exception": false,
     "start_time": "2025-03-15T07:05:29.378189",
     "status": "completed"
    },
    "tags": []
   },
   "source": [
    "### Link Arrows"
   ]
  },
  {
   "cell_type": "markdown",
   "id": "97",
   "metadata": {
    "papermill": {
     "duration": 0.133981,
     "end_time": "2025-03-15T07:05:29.781299",
     "exception": false,
     "start_time": "2025-03-15T07:05:29.647318",
     "status": "completed"
    },
    "tags": []
   },
   "source": [
    "#### By combination"
   ]
  },
  {
   "cell_type": "code",
   "execution_count": null,
   "id": "98",
   "metadata": {
    "papermill": {
     "duration": 0.159064,
     "end_time": "2025-03-15T07:05:30.079272",
     "exception": false,
     "start_time": "2025-03-15T07:05:29.920208",
     "status": "completed"
    },
    "tags": []
   },
   "outputs": [],
   "source": [
    "print(\"Total number of link arrow combinations:\", monster_df[\"Link Arrows\"].nunique())"
   ]
  },
  {
   "cell_type": "code",
   "execution_count": null,
   "id": "99",
   "metadata": {
    "papermill": {
     "duration": 0.219296,
     "end_time": "2025-03-15T07:05:30.437053",
     "exception": false,
     "start_time": "2025-03-15T07:05:30.217757",
     "status": "completed"
    },
    "tags": []
   },
   "outputs": [],
   "source": [
    "monster_df.drop(\n",
    "    columns=[\n",
    "        \"Card type\",\n",
    "        \"Primary type\",\n",
    "        \"Level/Rank/Link\",\n",
    "        \"Pendulum Scale\",\n",
    "        \"Secondary type\",\n",
    "        \"DEF\",\n",
    "        \"Page name\",\n",
    "        \"Page URL\",\n",
    "    ]\n",
    ").groupby(\"Link Arrows\").nunique()"
   ]
  },
  {
   "cell_type": "code",
   "execution_count": null,
   "id": "100",
   "metadata": {
    "papermill": {
     "duration": 0.920457,
     "end_time": "2025-03-15T07:05:31.494979",
     "exception": false,
     "start_time": "2025-03-15T07:05:30.574522",
     "status": "completed"
    },
    "tags": []
   },
   "outputs": [],
   "source": [
    "arrows_colors = plot.colors_dict[\"Link Monster\"]\n",
    "monster_df[\"Link Arrows\"].value_counts().plot.barh(figsize=(10, 20), color=arrows_colors, title=\"Link arrows combinations\")\n",
    "plt.show()"
   ]
  },
  {
   "cell_type": "markdown",
   "id": "101",
   "metadata": {
    "papermill": {
     "duration": 0.144478,
     "end_time": "2025-03-15T07:05:31.784285",
     "exception": false,
     "start_time": "2025-03-15T07:05:31.639807",
     "status": "completed"
    },
    "tags": []
   },
   "source": [
    "#### By unique"
   ]
  },
  {
   "cell_type": "code",
   "execution_count": null,
   "id": "102",
   "metadata": {
    "papermill": {
     "duration": 0.445756,
     "end_time": "2025-03-15T07:05:32.375323",
     "exception": false,
     "start_time": "2025-03-15T07:05:31.929567",
     "status": "completed"
    },
    "tags": []
   },
   "outputs": [],
   "source": [
    "monster_df[monster_df[\"Link Arrows\"].notna()].drop(\n",
    "    columns=[\n",
    "        \"Card type\",\n",
    "        \"Primary type\",\n",
    "        \"Level/Rank/Link\",\n",
    "        \"Pendulum Scale\",\n",
    "        \"Secondary type\",\n",
    "        \"DEF\",\n",
    "        \"Page name\",\n",
    "        \"Page URL\",\n",
    "    ]\n",
    ").explode(\"Link Arrows\").groupby(\"Link Arrows\").nunique()"
   ]
  },
  {
   "cell_type": "code",
   "execution_count": null,
   "id": "103",
   "metadata": {
    "papermill": {
     "duration": 1.154087,
     "end_time": "2025-03-15T07:05:33.671823",
     "exception": false,
     "start_time": "2025-03-15T07:05:32.517736",
     "status": "completed"
    },
    "tags": []
   },
   "outputs": [],
   "source": [
    "_ = plot.arrows(monster_df[\"Link Arrows\"].explode(\"Link Arrows\"))\n",
    "plt.show()"
   ]
  },
  {
   "cell_type": "markdown",
   "id": "104",
   "metadata": {
    "papermill": {
     "duration": 0.14027,
     "end_time": "2025-03-15T07:05:33.954774",
     "exception": false,
     "start_time": "2025-03-15T07:05:33.814504",
     "status": "completed"
    },
    "tags": []
   },
   "source": [
    "#### By link"
   ]
  },
  {
   "cell_type": "code",
   "execution_count": null,
   "id": "105",
   "metadata": {
    "papermill": {
     "duration": 0.359659,
     "end_time": "2025-03-15T07:05:34.458515",
     "exception": false,
     "start_time": "2025-03-15T07:05:34.098856",
     "status": "completed"
    },
    "tags": []
   },
   "outputs": [],
   "source": [
    "arrow_per_link = monster_df[[\"Link Arrows\", \"Level/Rank/Link\"]].explode(\"Link Arrows\").dropna()\n",
    "arrow_crosstab = pd.crosstab(arrow_per_link[\"Link Arrows\"], arrow_per_link[\"Level/Rank/Link\"]).rename_axis(\"Link\", axis=1)\n",
    "arrow_crosstab"
   ]
  },
  {
   "cell_type": "code",
   "execution_count": null,
   "id": "106",
   "metadata": {
    "papermill": {
     "duration": 1.012564,
     "end_time": "2025-03-15T07:05:35.625381",
     "exception": false,
     "start_time": "2025-03-15T07:05:34.612817",
     "status": "completed"
    },
    "tags": []
   },
   "outputs": [],
   "source": [
    "plt.figure(figsize=(10, 6))\n",
    "sns.heatmap(\n",
    "    arrow_crosstab[arrow_crosstab > 0].T,\n",
    "    annot=True,\n",
    "    fmt=\"g\",\n",
    "    cmap=\"viridis\",\n",
    "    square=True,\n",
    "    norm=plot.LogNorm(),\n",
    ")\n",
    "plt.show()"
   ]
  },
  {
   "cell_type": "markdown",
   "id": "107",
   "metadata": {
    "papermill": {
     "duration": 0.141748,
     "end_time": "2025-03-15T07:05:35.920230",
     "exception": false,
     "start_time": "2025-03-15T07:05:35.778482",
     "status": "completed"
    },
    "tags": []
   },
   "source": [
    "## Spell & Trap"
   ]
  },
  {
   "cell_type": "markdown",
   "id": "108",
   "metadata": {
    "papermill": {
     "duration": 0.1423,
     "end_time": "2025-03-15T07:05:36.208642",
     "exception": false,
     "start_time": "2025-03-15T07:05:36.066342",
     "status": "completed"
    },
    "tags": []
   },
   "source": [
    "### Properties"
   ]
  },
  {
   "cell_type": "code",
   "execution_count": null,
   "id": "109",
   "metadata": {
    "papermill": {
     "duration": 0.516562,
     "end_time": "2025-03-15T07:05:36.886262",
     "exception": false,
     "start_time": "2025-03-15T07:05:36.369700",
     "status": "completed"
    },
    "tags": []
   },
   "outputs": [],
   "source": [
    "print(\"Total number of properties:\", st_df[\"Property\"].nunique())"
   ]
  },
  {
   "cell_type": "code",
   "execution_count": null,
   "id": "110",
   "metadata": {
    "papermill": {
     "duration": 0.196956,
     "end_time": "2025-03-15T07:05:37.326469",
     "exception": false,
     "start_time": "2025-03-15T07:05:37.129513",
     "status": "completed"
    },
    "tags": []
   },
   "outputs": [],
   "source": [
    "st_df.drop(columns=[\"Card type\", \"Page name\", \"Page URL\"]).groupby(\"Property\").nunique()"
   ]
  },
  {
   "cell_type": "code",
   "execution_count": null,
   "id": "111",
   "metadata": {
    "papermill": {
     "duration": 0.357568,
     "end_time": "2025-03-15T07:05:37.835750",
     "exception": false,
     "start_time": "2025-03-15T07:05:37.478182",
     "status": "completed"
    },
    "tags": []
   },
   "outputs": [],
   "source": [
    "st_colors = [plot.colors_dict[i] for i in cards_df[[\"Card type\", \"Property\"]].value_counts().index.get_level_values(0)]\n",
    "st_df[\"Property\"].value_counts().plot.bar(figsize=(16, 6), rot=45, color=st_colors)\n",
    "plt.show()"
   ]
  },
  {
   "cell_type": "markdown",
   "id": "112",
   "metadata": {
    "papermill": {
     "duration": 0.151163,
     "end_time": "2025-03-15T07:05:38.135109",
     "exception": false,
     "start_time": "2025-03-15T07:05:37.983946",
     "status": "completed"
    },
    "tags": []
   },
   "source": [
    "## Effect type"
   ]
  },
  {
   "cell_type": "code",
   "execution_count": null,
   "id": "113",
   "metadata": {
    "papermill": {
     "duration": 0.203037,
     "end_time": "2025-03-15T07:05:38.650705",
     "exception": false,
     "start_time": "2025-03-15T07:05:38.447668",
     "status": "completed"
    },
    "tags": []
   },
   "outputs": [],
   "source": [
    "print(\"Total number of effect types:\", cards_df[\"Effect type\"].explode().nunique())"
   ]
  },
  {
   "cell_type": "code",
   "execution_count": null,
   "id": "114",
   "metadata": {
    "papermill": {
     "duration": 0.599466,
     "end_time": "2025-03-15T07:05:39.400178",
     "exception": false,
     "start_time": "2025-03-15T07:05:38.800712",
     "status": "completed"
    },
    "tags": []
   },
   "outputs": [],
   "source": [
    "cards_df.explode(\"Effect type\").groupby(\"Effect type\").nunique()"
   ]
  },
  {
   "cell_type": "markdown",
   "id": "115",
   "metadata": {
    "papermill": {
     "duration": 0.146423,
     "end_time": "2025-03-15T07:05:39.695018",
     "exception": false,
     "start_time": "2025-03-15T07:05:39.548595",
     "status": "completed"
    },
    "tags": []
   },
   "source": [
    "### Card type discrimination"
   ]
  },
  {
   "cell_type": "code",
   "execution_count": null,
   "id": "116",
   "metadata": {
    "papermill": {
     "duration": 0.249236,
     "end_time": "2025-03-15T07:05:40.095600",
     "exception": false,
     "start_time": "2025-03-15T07:05:39.846364",
     "status": "completed"
    },
    "tags": []
   },
   "outputs": [],
   "source": [
    "type_diff = cards_df[[\"Card type\", \"Effect type\"]].explode(\"Effect type\").value_counts().unstack(0).fillna(0).astype(int)\n",
    "type_diff"
   ]
  },
  {
   "cell_type": "code",
   "execution_count": null,
   "id": "117",
   "metadata": {
    "papermill": {
     "duration": 0.481935,
     "end_time": "2025-03-15T07:05:40.740055",
     "exception": false,
     "start_time": "2025-03-15T07:05:40.258120",
     "status": "completed"
    },
    "tags": []
   },
   "outputs": [],
   "source": [
    "type_diff_colors = {type: plot.colors_dict[type] for type in cards_df[\"Card type\"].dropna().unique()}\n",
    "type_diff.plot.bar(figsize=(18, 6), stacked=True, rot=45, color=type_diff_colors)\n",
    "plt.show()"
   ]
  },
  {
   "cell_type": "markdown",
   "id": "118",
   "metadata": {
    "papermill": {
     "duration": 0.150752,
     "end_time": "2025-03-15T07:05:41.044913",
     "exception": false,
     "start_time": "2025-03-15T07:05:40.894161",
     "status": "completed"
    },
    "tags": []
   },
   "source": [
    "## Archseries"
   ]
  },
  {
   "cell_type": "code",
   "execution_count": null,
   "id": "119",
   "metadata": {
    "papermill": {
     "duration": 0.285289,
     "end_time": "2025-03-15T07:05:41.487461",
     "exception": false,
     "start_time": "2025-03-15T07:05:41.202172",
     "status": "completed"
    },
    "tags": []
   },
   "outputs": [],
   "source": [
    "exploded_archseries = cards_df.explode(\"Archseries\")\n",
    "print(\"Total number of Archseries:\", exploded_archseries[\"Archseries\"].nunique())"
   ]
  },
  {
   "cell_type": "code",
   "execution_count": null,
   "id": "120",
   "metadata": {
    "papermill": {
     "duration": 0.295489,
     "end_time": "2025-03-15T07:05:41.938558",
     "exception": false,
     "start_time": "2025-03-15T07:05:41.643069",
     "status": "completed"
    },
    "tags": []
   },
   "outputs": [],
   "source": [
    "exploded_archseries.groupby(\"Archseries\").nunique()"
   ]
  },
  {
   "cell_type": "code",
   "execution_count": null,
   "id": "121",
   "metadata": {
    "papermill": {
     "duration": 0.548079,
     "end_time": "2025-03-15T07:05:42.642538",
     "exception": false,
     "start_time": "2025-03-15T07:05:42.094459",
     "status": "completed"
    },
    "tags": []
   },
   "outputs": [],
   "source": [
    "exploded_archseries[\"Archseries\"].value_counts().sort_values().tail(30).plot.barh(\n",
    "    figsize=(10, 15), grid=True, title=\"Top 30 Archtypes/Series\"\n",
    ")\n",
    "plt.show()"
   ]
  },
  {
   "cell_type": "markdown",
   "id": "122",
   "metadata": {
    "papermill": {
     "duration": 0.15861,
     "end_time": "2025-03-15T07:05:42.983120",
     "exception": false,
     "start_time": "2025-03-15T07:05:42.824510",
     "status": "completed"
    },
    "tags": []
   },
   "source": [
    "### By card type"
   ]
  },
  {
   "cell_type": "code",
   "execution_count": null,
   "id": "123",
   "metadata": {
    "papermill": {
     "duration": 0.317848,
     "end_time": "2025-03-15T07:05:43.600176",
     "exception": false,
     "start_time": "2025-03-15T07:05:43.282328",
     "status": "completed"
    },
    "tags": []
   },
   "outputs": [],
   "source": [
    "archseries_crosstab = pd.crosstab(exploded_archseries[\"Archseries\"], exploded_archseries[\"Card type\"], margins=True)\n",
    "archseries_crosstab"
   ]
  },
  {
   "cell_type": "markdown",
   "id": "124",
   "metadata": {
    "papermill": {
     "duration": 0.155929,
     "end_time": "2025-03-15T07:05:43.996074",
     "exception": false,
     "start_time": "2025-03-15T07:05:43.840145",
     "status": "completed"
    },
    "tags": []
   },
   "source": [
    "### By primary type"
   ]
  },
  {
   "cell_type": "code",
   "execution_count": null,
   "id": "125",
   "metadata": {
    "papermill": {
     "duration": 0.301004,
     "end_time": "2025-03-15T07:05:44.616454",
     "exception": false,
     "start_time": "2025-03-15T07:05:44.315450",
     "status": "completed"
    },
    "tags": []
   },
   "outputs": [],
   "source": [
    "archseries_crosstab_b = pd.crosstab(exploded_archseries[\"Archseries\"], exploded_archseries[\"Primary type\"], margins=True)\n",
    "archseries_crosstab_b"
   ]
  },
  {
   "cell_type": "markdown",
   "id": "126",
   "metadata": {
    "papermill": {
     "duration": 0.223509,
     "end_time": "2025-03-15T07:05:45.319812",
     "exception": false,
     "start_time": "2025-03-15T07:05:45.096303",
     "status": "completed"
    },
    "tags": []
   },
   "source": [
    "\n",
    "\n",
    "### By secondary type"
   ]
  },
  {
   "cell_type": "code",
   "execution_count": null,
   "id": "127",
   "metadata": {
    "papermill": {
     "duration": 0.247723,
     "end_time": "2025-03-15T07:05:45.726424",
     "exception": false,
     "start_time": "2025-03-15T07:05:45.478701",
     "status": "completed"
    },
    "tags": []
   },
   "outputs": [],
   "source": [
    "exploded_archseries_secondary_type = exploded_archseries[[\"Archseries\", \"Secondary type\"]].explode(\"Secondary type\")\n",
    "archseries_crosstab_c = pd.crosstab(\n",
    "    exploded_archseries_secondary_type[\"Archseries\"],\n",
    "    exploded_archseries_secondary_type[\"Secondary type\"],\n",
    "    margins=True,\n",
    ")\n",
    "archseries_crosstab_c"
   ]
  },
  {
   "cell_type": "markdown",
   "id": "128",
   "metadata": {
    "papermill": {
     "duration": 0.155875,
     "end_time": "2025-03-15T07:05:46.045419",
     "exception": false,
     "start_time": "2025-03-15T07:05:45.889544",
     "status": "completed"
    },
    "tags": []
   },
   "source": [
    "### By monster type"
   ]
  },
  {
   "cell_type": "code",
   "execution_count": null,
   "id": "129",
   "metadata": {
    "papermill": {
     "duration": 0.34319,
     "end_time": "2025-03-15T07:05:46.553962",
     "exception": false,
     "start_time": "2025-03-15T07:05:46.210772",
     "status": "completed"
    },
    "tags": []
   },
   "outputs": [],
   "source": [
    "archseries_crosstab_d = pd.crosstab(exploded_archseries[\"Archseries\"], exploded_archseries[\"Monster type\"], margins=True)\n",
    "archseries_crosstab_d"
   ]
  },
  {
   "cell_type": "markdown",
   "id": "130",
   "metadata": {
    "papermill": {
     "duration": 0.315,
     "end_time": "2025-03-15T07:05:47.031875",
     "exception": false,
     "start_time": "2025-03-15T07:05:46.716875",
     "status": "completed"
    },
    "tags": []
   },
   "source": [
    "### By property"
   ]
  },
  {
   "cell_type": "code",
   "execution_count": null,
   "id": "131",
   "metadata": {
    "papermill": {
     "duration": 0.285815,
     "end_time": "2025-03-15T07:05:47.484098",
     "exception": false,
     "start_time": "2025-03-15T07:05:47.198283",
     "status": "completed"
    },
    "tags": []
   },
   "outputs": [],
   "source": [
    "archseries_crosstab_e = pd.crosstab(exploded_archseries[\"Archseries\"], exploded_archseries[\"Property\"], margins=True)\n",
    "archseries_crosstab_e"
   ]
  },
  {
   "cell_type": "markdown",
   "id": "132",
   "metadata": {
    "papermill": {
     "duration": 0.158718,
     "end_time": "2025-03-15T07:05:47.813226",
     "exception": false,
     "start_time": "2025-03-15T07:05:47.654508",
     "status": "completed"
    },
    "tags": []
   },
   "source": [
    "## Artworks"
   ]
  },
  {
   "cell_type": "code",
   "execution_count": null,
   "id": "133",
   "metadata": {
    "papermill": {
     "duration": 0.173659,
     "end_time": "2025-03-15T07:05:48.149037",
     "exception": false,
     "start_time": "2025-03-15T07:05:47.975378",
     "status": "completed"
    },
    "tags": []
   },
   "outputs": [],
   "source": [
    "print(\n",
    "    \"Total number of cards with edited or alternate artworks:\",\n",
    "    cards_df[\"Artwork\"].count(),\n",
    ")"
   ]
  },
  {
   "cell_type": "code",
   "execution_count": null,
   "id": "134",
   "metadata": {
    "papermill": {
     "duration": 0.315964,
     "end_time": "2025-03-15T07:05:48.632689",
     "exception": false,
     "start_time": "2025-03-15T07:05:48.316725",
     "status": "completed"
    },
    "tags": []
   },
   "outputs": [],
   "source": [
    "cards_df[[\"Name\", \"Password\", \"TCG status\", \"OCG status\", \"Artwork\"]][cards_df[\"Artwork\"].notna()]"
   ]
  },
  {
   "cell_type": "code",
   "execution_count": null,
   "id": "135",
   "metadata": {
    "papermill": {
     "duration": 0.285142,
     "end_time": "2025-03-15T07:05:49.082120",
     "exception": false,
     "start_time": "2025-03-15T07:05:48.796978",
     "status": "completed"
    },
    "tags": []
   },
   "outputs": [],
   "source": [
    "artwork_value_counts = cards_df[\"Artwork\"].value_counts()\n",
    "plt.figure(figsize=(20, 8))\n",
    "plt.title(\"Artworks\")\n",
    "plot.venn2(\n",
    "    subsets=(\n",
    "        artwork_value_counts[(\"Alternate\",)],\n",
    "        artwork_value_counts[(\"Edited\",)],\n",
    "        artwork_value_counts[(\"Alternate\", \"Edited\")],\n",
    "    ),\n",
    "    set_labels=(\"Alternate artwork\", \"Edited artwork\"),\n",
    ")\n",
    "plt.show()"
   ]
  },
  {
   "cell_type": "markdown",
   "id": "136",
   "metadata": {
    "papermill": {
     "duration": 0.461486,
     "end_time": "2025-03-15T07:05:49.774530",
     "exception": false,
     "start_time": "2025-03-15T07:05:49.313044",
     "status": "completed"
    },
    "tags": []
   },
   "source": [
    "### By card type"
   ]
  },
  {
   "cell_type": "code",
   "execution_count": null,
   "id": "137",
   "metadata": {
    "papermill": {
     "duration": 0.241296,
     "end_time": "2025-03-15T07:05:50.371111",
     "exception": false,
     "start_time": "2025-03-15T07:05:50.129815",
     "status": "completed"
    },
    "tags": []
   },
   "outputs": [],
   "source": [
    "artwork_crosstab = pd.crosstab(cards_df[\"Artwork\"], cards_df[\"Card type\"])\n",
    "artwork_crosstab"
   ]
  },
  {
   "cell_type": "markdown",
   "id": "138",
   "metadata": {
    "papermill": {
     "duration": 0.162163,
     "end_time": "2025-03-15T07:05:50.702340",
     "exception": false,
     "start_time": "2025-03-15T07:05:50.540177",
     "status": "completed"
    },
    "tags": []
   },
   "source": [
    "### By primary type"
   ]
  },
  {
   "cell_type": "code",
   "execution_count": null,
   "id": "139",
   "metadata": {
    "papermill": {
     "duration": 0.19261,
     "end_time": "2025-03-15T07:05:51.158783",
     "exception": false,
     "start_time": "2025-03-15T07:05:50.966173",
     "status": "completed"
    },
    "tags": []
   },
   "outputs": [],
   "source": [
    "artwork_crosstab_b = pd.crosstab(cards_df[\"Artwork\"], cards_df[\"Primary type\"])\n",
    "artwork_crosstab_b"
   ]
  },
  {
   "cell_type": "markdown",
   "id": "140",
   "metadata": {
    "papermill": {
     "duration": 0.173502,
     "end_time": "2025-03-15T07:05:51.514647",
     "exception": false,
     "start_time": "2025-03-15T07:05:51.341145",
     "status": "completed"
    },
    "tags": []
   },
   "source": [
    "More granularity is unnecessary"
   ]
  },
  {
   "cell_type": "markdown",
   "id": "141",
   "metadata": {
    "papermill": {
     "duration": 0.161486,
     "end_time": "2025-03-15T07:05:51.848885",
     "exception": false,
     "start_time": "2025-03-15T07:05:51.687399",
     "status": "completed"
    },
    "tags": []
   },
   "source": [
    "## Errata"
   ]
  },
  {
   "cell_type": "code",
   "execution_count": null,
   "id": "142",
   "metadata": {
    "papermill": {
     "duration": 0.177349,
     "end_time": "2025-03-15T07:05:52.196791",
     "exception": false,
     "start_time": "2025-03-15T07:05:52.019442",
     "status": "completed"
    },
    "tags": []
   },
   "outputs": [],
   "source": [
    "print(\"Total number of cards with errata:\", cards_df[\"Errata\"].count())"
   ]
  },
  {
   "cell_type": "code",
   "execution_count": null,
   "id": "143",
   "metadata": {
    "papermill": {
     "duration": 0.573683,
     "end_time": "2025-03-15T07:05:52.940013",
     "exception": false,
     "start_time": "2025-03-15T07:05:52.366330",
     "status": "completed"
    },
    "tags": []
   },
   "outputs": [],
   "source": [
    "cards_df[[\"Name\", \"Password\", \"TCG status\", \"OCG status\", \"Errata\"]][cards_df[\"Errata\"].notna()]"
   ]
  },
  {
   "cell_type": "code",
   "execution_count": null,
   "id": "144",
   "metadata": {
    "papermill": {
     "duration": 0.568788,
     "end_time": "2025-03-15T07:05:53.679766",
     "exception": false,
     "start_time": "2025-03-15T07:05:53.110978",
     "status": "completed"
    },
    "tags": []
   },
   "outputs": [],
   "source": [
    "errata_counts = cards_df.groupby(\"Errata\").nunique().sort_values(\"Name\", ascending=False)\n",
    "errata_counts"
   ]
  },
  {
   "cell_type": "code",
   "execution_count": null,
   "id": "145",
   "metadata": {
    "papermill": {
     "duration": 0.24613,
     "end_time": "2025-03-15T07:05:54.094472",
     "exception": false,
     "start_time": "2025-03-15T07:05:53.848342",
     "status": "completed"
    },
    "tags": []
   },
   "outputs": [],
   "source": [
    "plt.figure(figsize=(20, 8))\n",
    "plt.title(\"Errata\")\n",
    "sorted_errata_name_counts = errata_counts[\"Name\"].drop((\"Any\",)).sort_index(key=lambda x: [(len(i), i) for i in x])\n",
    "plot.venn2(\n",
    "    subsets=sorted_errata_name_counts,\n",
    "    set_labels=sorted_errata_name_counts.index[:-1].str[0],\n",
    ")\n",
    "plt.show()"
   ]
  },
  {
   "cell_type": "markdown",
   "id": "146",
   "metadata": {
    "papermill": {
     "duration": 0.165819,
     "end_time": "2025-03-15T07:05:54.512822",
     "exception": false,
     "start_time": "2025-03-15T07:05:54.347003",
     "status": "completed"
    },
    "tags": []
   },
   "source": [
    "### By card type"
   ]
  },
  {
   "cell_type": "code",
   "execution_count": null,
   "id": "147",
   "metadata": {
    "papermill": {
     "duration": 0.201627,
     "end_time": "2025-03-15T07:05:54.996020",
     "exception": false,
     "start_time": "2025-03-15T07:05:54.794393",
     "status": "completed"
    },
    "tags": []
   },
   "outputs": [],
   "source": [
    "errata_crosstab = pd.crosstab(cards_df[\"Errata\"], cards_df[\"Card type\"])\n",
    "errata_crosstab.sort_values(by=errata_crosstab.columns.tolist(), ascending=False)"
   ]
  },
  {
   "cell_type": "markdown",
   "id": "148",
   "metadata": {
    "papermill": {
     "duration": 0.262729,
     "end_time": "2025-03-15T07:05:55.431468",
     "exception": false,
     "start_time": "2025-03-15T07:05:55.168739",
     "status": "completed"
    },
    "tags": []
   },
   "source": [
    "### By primary type"
   ]
  },
  {
   "cell_type": "code",
   "execution_count": null,
   "id": "149",
   "metadata": {
    "papermill": {
     "duration": 0.209077,
     "end_time": "2025-03-15T07:05:55.818081",
     "exception": false,
     "start_time": "2025-03-15T07:05:55.609004",
     "status": "completed"
    },
    "tags": []
   },
   "outputs": [],
   "source": [
    "errata_crosstab_b = pd.crosstab(cards_df[\"Errata\"], cards_df[\"Primary type\"])\n",
    "errata_crosstab_b.sort_values(by=errata_crosstab_b.columns.tolist(), ascending=False)"
   ]
  },
  {
   "cell_type": "markdown",
   "id": "150",
   "metadata": {
    "papermill": {
     "duration": 0.194092,
     "end_time": "2025-03-15T07:05:56.247972",
     "exception": false,
     "start_time": "2025-03-15T07:05:56.053880",
     "status": "completed"
    },
    "tags": []
   },
   "source": [
    "More granularity is unnecessary"
   ]
  },
  {
   "cell_type": "markdown",
   "id": "151",
   "metadata": {
    "papermill": {
     "duration": 0.270631,
     "end_time": "2025-03-15T07:05:56.817384",
     "exception": false,
     "start_time": "2025-03-15T07:05:56.546753",
     "status": "completed"
    },
    "tags": []
   },
   "source": [
    "### By artwork"
   ]
  },
  {
   "cell_type": "code",
   "execution_count": null,
   "id": "152",
   "metadata": {
    "papermill": {
     "duration": 0.199656,
     "end_time": "2025-03-15T07:05:57.189827",
     "exception": false,
     "start_time": "2025-03-15T07:05:56.990171",
     "status": "completed"
    },
    "tags": []
   },
   "outputs": [],
   "source": [
    "errata_crosstab_c = pd.crosstab(cards_df[\"Artwork\"], cards_df[\"Errata\"])\n",
    "errata_crosstab_c.sort_values(by=errata_crosstab_c.columns.tolist(), ascending=False)"
   ]
  },
  {
   "cell_type": "markdown",
   "id": "153",
   "metadata": {
    "papermill": {
     "duration": 0.167202,
     "end_time": "2025-03-15T07:05:57.533090",
     "exception": false,
     "start_time": "2025-03-15T07:05:57.365888",
     "status": "completed"
    },
    "tags": []
   },
   "source": [
    "## TCG & OCG status"
   ]
  },
  {
   "cell_type": "markdown",
   "id": "154",
   "metadata": {
    "papermill": {
     "duration": 0.16711,
     "end_time": "2025-03-15T07:05:57.874251",
     "exception": false,
     "start_time": "2025-03-15T07:05:57.707141",
     "status": "completed"
    },
    "tags": []
   },
   "source": [
    "### TGC status"
   ]
  },
  {
   "cell_type": "code",
   "execution_count": null,
   "id": "155",
   "metadata": {
    "papermill": {
     "duration": 0.19853,
     "end_time": "2025-03-15T07:05:58.252350",
     "exception": false,
     "start_time": "2025-03-15T07:05:58.053820",
     "status": "completed"
    },
    "tags": []
   },
   "outputs": [],
   "source": [
    "print(\"Total number of TCG status:\", cards_df[\"TCG status\"].nunique())"
   ]
  },
  {
   "cell_type": "code",
   "execution_count": null,
   "id": "156",
   "metadata": {
    "papermill": {
     "duration": 0.370656,
     "end_time": "2025-03-15T07:05:58.911933",
     "exception": false,
     "start_time": "2025-03-15T07:05:58.541277",
     "status": "completed"
    },
    "tags": []
   },
   "outputs": [],
   "source": [
    "cards_df.drop(columns=[\"Page name\", \"Page URL\"]).groupby(\"TCG status\", dropna=False).nunique()"
   ]
  },
  {
   "cell_type": "code",
   "execution_count": null,
   "id": "157",
   "metadata": {
    "papermill": {
     "duration": 0.549963,
     "end_time": "2025-03-15T07:05:59.639328",
     "exception": false,
     "start_time": "2025-03-15T07:05:59.089365",
     "status": "completed"
    },
    "tags": []
   },
   "outputs": [],
   "source": [
    "cards_df[\"TCG status\"].value_counts(dropna=False).plot.bar(figsize=(14, 6), logy=True, rot=0)\n",
    "plt.show()"
   ]
  },
  {
   "cell_type": "markdown",
   "id": "158",
   "metadata": {
    "papermill": {
     "duration": 0.173365,
     "end_time": "2025-03-15T07:05:59.992842",
     "exception": false,
     "start_time": "2025-03-15T07:05:59.819477",
     "status": "completed"
    },
    "tags": []
   },
   "source": [
    "#### By card type"
   ]
  },
  {
   "cell_type": "code",
   "execution_count": null,
   "id": "159",
   "metadata": {
    "papermill": {
     "duration": 0.214113,
     "end_time": "2025-03-15T07:06:00.430548",
     "exception": false,
     "start_time": "2025-03-15T07:06:00.216435",
     "status": "completed"
    },
    "tags": []
   },
   "outputs": [],
   "source": [
    "# Remove unlimited\n",
    "tcg_crosstab = pd.crosstab(cards_df[\"Card type\"], cards_df[\"TCG status\"]).drop([\"Unlimited\"], axis=1)\n",
    "tcg_crosstab"
   ]
  },
  {
   "cell_type": "code",
   "execution_count": null,
   "id": "160",
   "metadata": {
    "papermill": {
     "duration": 0.587625,
     "end_time": "2025-03-15T07:06:01.193668",
     "exception": false,
     "start_time": "2025-03-15T07:06:00.606043",
     "status": "completed"
    },
    "tags": []
   },
   "outputs": [],
   "source": [
    "plt.figure(figsize=(12, 6))\n",
    "sns.heatmap(\n",
    "    tcg_crosstab[tcg_crosstab > 0],\n",
    "    annot=True,\n",
    "    fmt=\"g\",\n",
    "    cmap=\"viridis\",\n",
    "    norm=plot.LogNorm(),\n",
    ")\n",
    "plt.show()"
   ]
  },
  {
   "cell_type": "markdown",
   "id": "161",
   "metadata": {
    "papermill": {
     "duration": 0.172087,
     "end_time": "2025-03-15T07:06:01.545816",
     "exception": false,
     "start_time": "2025-03-15T07:06:01.373729",
     "status": "completed"
    },
    "tags": []
   },
   "source": [
    "#### By monster type"
   ]
  },
  {
   "cell_type": "code",
   "execution_count": null,
   "id": "162",
   "metadata": {
    "papermill": {
     "duration": 0.269375,
     "end_time": "2025-03-15T07:06:01.997685",
     "exception": false,
     "start_time": "2025-03-15T07:06:01.728310",
     "status": "completed"
    },
    "tags": []
   },
   "outputs": [],
   "source": [
    "# Remove unlimited\n",
    "tcg_crosstab_b = pd.crosstab(cards_df[\"Monster type\"], cards_df[\"TCG status\"]).drop([\"Unlimited\"], axis=1)\n",
    "tcg_crosstab_b"
   ]
  },
  {
   "cell_type": "code",
   "execution_count": null,
   "id": "163",
   "metadata": {
    "papermill": {
     "duration": 1.070793,
     "end_time": "2025-03-15T07:06:03.258019",
     "exception": false,
     "start_time": "2025-03-15T07:06:02.187226",
     "status": "completed"
    },
    "tags": []
   },
   "outputs": [],
   "source": [
    "plt.figure(figsize=(18, 4))\n",
    "sns.heatmap(\n",
    "    tcg_crosstab_b[tcg_crosstab_b > 0].T,\n",
    "    annot=True,\n",
    "    fmt=\"g\",\n",
    "    cmap=\"viridis\",\n",
    "    square=True,\n",
    ")\n",
    "plt.show()"
   ]
  },
  {
   "cell_type": "markdown",
   "id": "164",
   "metadata": {
    "papermill": {
     "duration": 0.336357,
     "end_time": "2025-03-15T07:06:03.785530",
     "exception": false,
     "start_time": "2025-03-15T07:06:03.449173",
     "status": "completed"
    },
    "tags": []
   },
   "source": [
    "#### By archseries"
   ]
  },
  {
   "cell_type": "code",
   "execution_count": null,
   "id": "165",
   "metadata": {
    "papermill": {
     "duration": 0.257767,
     "end_time": "2025-03-15T07:06:04.291116",
     "exception": false,
     "start_time": "2025-03-15T07:06:04.033349",
     "status": "completed"
    },
    "tags": []
   },
   "outputs": [],
   "source": [
    "# Remove unlimited\n",
    "tcg_crosstab_c = pd.crosstab(\n",
    "    exploded_archseries[\"Archseries\"].where(exploded_archseries[\"OCG status\"] != \"Unlimited\"),\n",
    "    exploded_archseries[\"TCG status\"],\n",
    "    margins=True,\n",
    ")\n",
    "tcg_crosstab_c"
   ]
  },
  {
   "cell_type": "markdown",
   "id": "166",
   "metadata": {
    "papermill": {
     "duration": 0.349207,
     "end_time": "2025-03-15T07:06:04.824462",
     "exception": false,
     "start_time": "2025-03-15T07:06:04.475255",
     "status": "completed"
    },
    "tags": []
   },
   "source": [
    "### OCG status"
   ]
  },
  {
   "cell_type": "code",
   "execution_count": null,
   "id": "167",
   "metadata": {
    "papermill": {
     "duration": 0.197727,
     "end_time": "2025-03-15T07:06:05.205163",
     "exception": false,
     "start_time": "2025-03-15T07:06:05.007436",
     "status": "completed"
    },
    "tags": []
   },
   "outputs": [],
   "source": [
    "print(\"Total number of OCG status:\", cards_df[\"OCG status\"].nunique())"
   ]
  },
  {
   "cell_type": "code",
   "execution_count": null,
   "id": "168",
   "metadata": {
    "papermill": {
     "duration": 0.305197,
     "end_time": "2025-03-15T07:06:05.721038",
     "exception": false,
     "start_time": "2025-03-15T07:06:05.415841",
     "status": "completed"
    },
    "tags": []
   },
   "outputs": [],
   "source": [
    "cards_df.drop(columns=[\"Page name\", \"Page URL\"]).groupby(\"OCG status\", dropna=False).nunique()"
   ]
  },
  {
   "cell_type": "code",
   "execution_count": null,
   "id": "169",
   "metadata": {
    "papermill": {
     "duration": 0.510068,
     "end_time": "2025-03-15T07:06:06.544777",
     "exception": false,
     "start_time": "2025-03-15T07:06:06.034709",
     "status": "completed"
    },
    "tags": []
   },
   "outputs": [],
   "source": [
    "cards_df[\"OCG status\"].value_counts(dropna=False).plot.bar(figsize=(14, 6), logy=True, rot=0)\n",
    "plt.show()"
   ]
  },
  {
   "cell_type": "markdown",
   "id": "170",
   "metadata": {
    "papermill": {
     "duration": 0.179444,
     "end_time": "2025-03-15T07:06:06.911670",
     "exception": false,
     "start_time": "2025-03-15T07:06:06.732226",
     "status": "completed"
    },
    "tags": []
   },
   "source": [
    "#### By card type"
   ]
  },
  {
   "cell_type": "code",
   "execution_count": null,
   "id": "171",
   "metadata": {
    "papermill": {
     "duration": 0.222296,
     "end_time": "2025-03-15T07:06:07.345211",
     "exception": false,
     "start_time": "2025-03-15T07:06:07.122915",
     "status": "completed"
    },
    "tags": []
   },
   "outputs": [],
   "source": [
    "# Remove unlimited\n",
    "ocg_crosstab = pd.crosstab(cards_df[\"Card type\"], cards_df[\"OCG status\"]).drop([\"Unlimited\"], axis=1)\n",
    "ocg_crosstab"
   ]
  },
  {
   "cell_type": "code",
   "execution_count": null,
   "id": "172",
   "metadata": {
    "papermill": {
     "duration": 0.662151,
     "end_time": "2025-03-15T07:06:08.194136",
     "exception": false,
     "start_time": "2025-03-15T07:06:07.531985",
     "status": "completed"
    },
    "tags": []
   },
   "outputs": [],
   "source": [
    "plt.figure(figsize=(12, 6))\n",
    "sns.heatmap(ocg_crosstab[ocg_crosstab > 0], annot=True, fmt=\"g\", cmap=\"viridis\")\n",
    "plt.show()"
   ]
  },
  {
   "cell_type": "markdown",
   "id": "173",
   "metadata": {
    "papermill": {
     "duration": 0.182654,
     "end_time": "2025-03-15T07:06:08.574156",
     "exception": false,
     "start_time": "2025-03-15T07:06:08.391502",
     "status": "completed"
    },
    "tags": []
   },
   "source": [
    "#### By monster type"
   ]
  },
  {
   "cell_type": "code",
   "execution_count": null,
   "id": "174",
   "metadata": {
    "papermill": {
     "duration": 0.364991,
     "end_time": "2025-03-15T07:06:09.125939",
     "exception": false,
     "start_time": "2025-03-15T07:06:08.760948",
     "status": "completed"
    },
    "tags": []
   },
   "outputs": [],
   "source": [
    "ocg_crosstab_b = pd.crosstab(cards_df[\"Monster type\"], cards_df[\"OCG status\"]).drop([\"Unlimited\"], axis=1)\n",
    "ocg_crosstab_b"
   ]
  },
  {
   "cell_type": "code",
   "execution_count": null,
   "id": "175",
   "metadata": {
    "papermill": {
     "duration": 0.707512,
     "end_time": "2025-03-15T07:06:10.030599",
     "exception": false,
     "start_time": "2025-03-15T07:06:09.323087",
     "status": "completed"
    },
    "tags": []
   },
   "outputs": [],
   "source": [
    "plt.figure(figsize=(18, 4))\n",
    "sns.heatmap(\n",
    "    ocg_crosstab_b[ocg_crosstab_b > 0].T,\n",
    "    annot=True,\n",
    "    fmt=\"g\",\n",
    "    cmap=\"viridis\",\n",
    "    square=True,\n",
    ")\n",
    "plt.show()"
   ]
  },
  {
   "cell_type": "markdown",
   "id": "176",
   "metadata": {
    "papermill": {
     "duration": 0.183762,
     "end_time": "2025-03-15T07:06:10.404472",
     "exception": false,
     "start_time": "2025-03-15T07:06:10.220710",
     "status": "completed"
    },
    "tags": []
   },
   "source": [
    "#### By archseries"
   ]
  },
  {
   "cell_type": "code",
   "execution_count": null,
   "id": "177",
   "metadata": {
    "papermill": {
     "duration": 0.260596,
     "end_time": "2025-03-15T07:06:10.855673",
     "exception": false,
     "start_time": "2025-03-15T07:06:10.595077",
     "status": "completed"
    },
    "tags": []
   },
   "outputs": [],
   "source": [
    "# Remove unlimited\n",
    "ocg_crosstab_c = pd.crosstab(\n",
    "    exploded_archseries[\"Archseries\"].where(exploded_archseries[\"OCG status\"] != \"Unlimited\"),\n",
    "    exploded_archseries[\"OCG status\"],\n",
    "    margins=True,\n",
    ")\n",
    "ocg_crosstab_c"
   ]
  },
  {
   "cell_type": "markdown",
   "id": "178",
   "metadata": {
    "papermill": {
     "duration": 0.187671,
     "end_time": "2025-03-15T07:06:11.239322",
     "exception": false,
     "start_time": "2025-03-15T07:06:11.051651",
     "status": "completed"
    },
    "tags": []
   },
   "source": [
    "### TCG vs. OCG status"
   ]
  },
  {
   "cell_type": "code",
   "execution_count": null,
   "id": "179",
   "metadata": {
    "papermill": {
     "duration": 0.228529,
     "end_time": "2025-03-15T07:06:11.661962",
     "exception": false,
     "start_time": "2025-03-15T07:06:11.433433",
     "status": "completed"
    },
    "tags": []
   },
   "outputs": [],
   "source": [
    "cg_crosstab = pd.crosstab(cards_df[\"OCG status\"], cards_df[\"TCG status\"], dropna=False, margins=False)\n",
    "cg_crosstab"
   ]
  },
  {
   "cell_type": "code",
   "execution_count": null,
   "id": "180",
   "metadata": {
    "papermill": {
     "duration": 0.952135,
     "end_time": "2025-03-15T07:06:12.810228",
     "exception": false,
     "start_time": "2025-03-15T07:06:11.858093",
     "status": "completed"
    },
    "tags": []
   },
   "outputs": [],
   "source": [
    "plt.figure(figsize=(10, 8))\n",
    "sns.heatmap(\n",
    "    cg_crosstab[cg_crosstab > 0],\n",
    "    annot=True,\n",
    "    fmt=\"g\",\n",
    "    cmap=\"viridis\",\n",
    "    square=True,\n",
    "    norm=plot.LogNorm(),\n",
    ")\n",
    "plt.show()"
   ]
  },
  {
   "cell_type": "markdown",
   "id": "181",
   "metadata": {
    "papermill": {
     "duration": 0.186109,
     "end_time": "2025-03-15T07:06:13.188467",
     "exception": false,
     "start_time": "2025-03-15T07:06:13.002358",
     "status": "completed"
    },
    "tags": []
   },
   "source": [
    "# Extras"
   ]
  },
  {
   "cell_type": "markdown",
   "id": "182",
   "metadata": {
    "papermill": {
     "duration": 0.339389,
     "end_time": "2025-03-15T07:06:13.725527",
     "exception": false,
     "start_time": "2025-03-15T07:06:13.386138",
     "status": "completed"
    },
    "tags": []
   },
   "source": [
    "## Counters and Tokens"
   ]
  },
  {
   "cell_type": "code",
   "execution_count": null,
   "id": "183",
   "metadata": {
    "papermill": {
     "duration": 0.260305,
     "end_time": "2025-03-15T07:06:14.186884",
     "exception": false,
     "start_time": "2025-03-15T07:06:13.926579",
     "status": "completed"
    },
    "tags": []
   },
   "outputs": [],
   "source": [
    "token_df.dropna(how=\"all\", axis=1)"
   ]
  },
  {
   "cell_type": "markdown",
   "id": "184",
   "metadata": {
    "papermill": {
     "duration": 0.626783,
     "end_time": "2025-03-15T07:06:15.035124",
     "exception": false,
     "start_time": "2025-03-15T07:06:14.408341",
     "status": "completed"
    },
    "tags": []
   },
   "source": [
    "## Unusable cards"
   ]
  },
  {
   "cell_type": "code",
   "execution_count": null,
   "id": "185",
   "metadata": {
    "papermill": {
     "duration": 0.285095,
     "end_time": "2025-03-15T07:06:15.668370",
     "exception": false,
     "start_time": "2025-03-15T07:06:15.383275",
     "status": "completed"
    },
    "tags": []
   },
   "outputs": [],
   "source": [
    "unusable_df"
   ]
  },
  {
   "cell_type": "markdown",
   "id": "186",
   "metadata": {
    "papermill": {
     "duration": 0.18803,
     "end_time": "2025-03-15T07:06:16.298268",
     "exception": false,
     "start_time": "2025-03-15T07:06:16.110238",
     "status": "completed"
    },
    "tags": []
   },
   "source": [
    "## Multiple secondary types"
   ]
  },
  {
   "cell_type": "code",
   "execution_count": null,
   "id": "187",
   "metadata": {
    "papermill": {
     "duration": 0.320819,
     "end_time": "2025-03-15T07:06:16.945408",
     "exception": false,
     "start_time": "2025-03-15T07:06:16.624589",
     "status": "completed"
    },
    "tags": []
   },
   "outputs": [],
   "source": [
    "cards_df.dropna(subset=\"Secondary type\", axis=0)[[len(x) > 1 for x in cards_df[\"Secondary type\"].dropna()]]"
   ]
  },
  {
   "cell_type": "markdown",
   "id": "188",
   "metadata": {
    "papermill": {
     "duration": 0.202075,
     "end_time": "2025-03-15T07:06:17.357778",
     "exception": false,
     "start_time": "2025-03-15T07:06:17.155703",
     "status": "completed"
    },
    "tags": []
   },
   "source": [
    "## Not yet released"
   ]
  },
  {
   "cell_type": "code",
   "execution_count": null,
   "id": "189",
   "metadata": {
    "papermill": {
     "duration": 0.664579,
     "end_time": "2025-03-15T07:06:18.220956",
     "exception": false,
     "start_time": "2025-03-15T07:06:17.556377",
     "status": "completed"
    },
    "tags": []
   },
   "outputs": [],
   "source": [
    "full_df.loc[(full_df[\"OCG status\"] == \"Not yet released\") | (full_df[\"TCG status\"] == \"Not yet released\")]"
   ]
  },
  {
   "cell_type": "markdown",
   "id": "190",
   "metadata": {
    "papermill": {
     "duration": 0.191003,
     "end_time": "2025-03-15T07:06:18.611084",
     "exception": false,
     "start_time": "2025-03-15T07:06:18.420081",
     "status": "completed"
    },
    "tags": []
   },
   "source": [
    "## Page name differs from card name"
   ]
  },
  {
   "cell_type": "code",
   "execution_count": null,
   "id": "191",
   "metadata": {
    "papermill": {
     "duration": 0.296436,
     "end_time": "2025-03-15T07:06:19.106813",
     "exception": false,
     "start_time": "2025-03-15T07:06:18.810377",
     "status": "completed"
    },
    "tags": []
   },
   "outputs": [],
   "source": [
    "full_df[full_df[\"Name\"] != full_df[\"Page name\"]]"
   ]
  },
  {
   "cell_type": "markdown",
   "id": "192",
   "metadata": {
    "papermill": {
     "duration": 0.193773,
     "end_time": "2025-03-15T07:06:19.534431",
     "exception": false,
     "start_time": "2025-03-15T07:06:19.340658",
     "status": "completed"
    },
    "tags": []
   },
   "source": [
    "# Epilogue"
   ]
  },
  {
   "cell_type": "code",
   "execution_count": null,
   "id": "193",
   "metadata": {
    "papermill": {
     "duration": 0.293905,
     "end_time": "2025-03-15T07:06:20.030630",
     "exception": false,
     "start_time": "2025-03-15T07:06:19.736725",
     "status": "completed"
    },
    "tags": []
   },
   "outputs": [],
   "source": [
    "benchmark(report=\"cards\", timestamp=timestamp)"
   ]
  },
  {
   "cell_type": "code",
   "execution_count": null,
   "id": "194",
   "metadata": {
    "papermill": {
     "duration": 0.217338,
     "end_time": "2025-03-15T07:06:20.461668",
     "exception": false,
     "start_time": "2025-03-15T07:06:20.244330",
     "status": "completed"
    },
    "tags": []
   },
   "outputs": [],
   "source": [
    "footer(timestamp)"
   ]
  },
  {
   "cell_type": "markdown",
   "id": "195",
   "metadata": {
    "papermill": {
     "duration": 0.195882,
     "end_time": "2025-03-15T07:06:20.863695",
     "exception": false,
     "start_time": "2025-03-15T07:06:20.667813",
     "status": "completed"
    },
    "tags": []
   },
   "source": [
    "## HTML export"
   ]
  },
  {
   "cell_type": "code",
   "execution_count": null,
   "id": "196",
   "metadata": {
    "papermill": {
     "duration": 0.207287,
     "end_time": "2025-03-15T07:06:21.283591",
     "exception": false,
     "start_time": "2025-03-15T07:06:21.076304",
     "status": "completed"
    },
    "tags": []
   },
   "outputs": [],
   "source": [
    "# Save notebook on disck before generating HTML report\n",
    "save_notebook()"
   ]
  },
  {
   "cell_type": "code",
   "execution_count": null,
   "id": "197",
   "metadata": {
    "papermill": {
     "duration": 2.711415,
     "end_time": "2025-03-15T07:06:24.405212",
     "exception": false,
     "start_time": "2025-03-15T07:06:21.693797",
     "status": "completed"
    },
    "tags": []
   },
   "outputs": [],
   "source": [
    "export_notebook(dirs.NOTEBOOKS.user / \"Cards.ipynb\")"
   ]
  },
  {
   "cell_type": "markdown",
   "id": "198",
   "metadata": {
    "papermill": {
     "duration": 0.19069,
     "end_time": "2025-03-15T07:06:24.798145",
     "exception": false,
     "start_time": "2025-03-15T07:06:24.607455",
     "status": "completed"
    },
    "tags": [
     "exclude"
    ]
   },
   "source": [
    "## Git"
   ]
  },
  {
   "cell_type": "code",
   "execution_count": null,
   "id": "199",
   "metadata": {
    "papermill": {
     "duration": null,
     "end_time": null,
     "exception": false,
     "start_time": "2025-03-15T07:06:25.006343",
     "status": "running"
    },
    "tags": [
     "exclude"
    ]
   },
   "outputs": [],
   "source": [
    "git.commit(\"*[Cc]ards*\", f\"Cards update - {timestamp.isoformat()}\")"
   ]
  }
 ],
 "metadata": {
  "kernelspec": {
   "display_name": "Python3 (YugiQuery)",
   "language": "python",
   "name": "yugiquery"
  },
  "language_info": {
   "codemirror_mode": {
    "name": "ipython",
    "version": 3
   },
   "file_extension": ".py",
   "mimetype": "text/x-python",
   "name": "python",
   "nbconvert_exporter": "python",
   "pygments_lexer": "ipython3",
   "version": "3.11.6"
  },
  "papermill": {
   "default_parameters": {},
   "duration": null,
   "end_time": null,
   "environment_variables": {},
   "exception": null,
   "input_path": "/home/jovyan/yugiquery/notebooks/Cards.ipynb",
   "output_path": "/home/jovyan/yugiquery/notebooks/Cards.ipynb",
   "parameters": {},
   "start_time": "2025-03-15T07:02:31.484209",
   "version": "2.6.0"
  },
  "toc": {
   "base_numbering": 1,
   "nav_menu": {
    "height": "599px",
    "width": "228px"
   },
   "number_sections": true,
   "sideBar": true,
   "skip_h1_title": false,
   "title_cell": "Table of Contents",
   "title_sidebar": "Contents",
   "toc_cell": true,
   "toc_position": {
    "height": "calc(100% - 180px)",
    "left": "10px",
    "top": "150px",
    "width": "353px"
   },
   "toc_section_display": true,
   "toc_window_display": true
  },
  "toc-autonumbering": false,
  "toc-showcode": false,
  "toc-showmarkdowntxt": false
 },
 "nbformat": 4,
 "nbformat_minor": 5
}
