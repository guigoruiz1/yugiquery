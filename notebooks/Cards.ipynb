{
 "cells": [
  {
   "cell_type": "code",
   "execution_count": null,
   "id": "0",
   "metadata": {
    "papermill": {
     "duration": 0.930709,
     "end_time": "2024-10-04T19:18:42.249880",
     "exception": false,
     "start_time": "2024-10-04T19:18:41.319171",
     "status": "completed"
    },
    "tags": []
   },
   "outputs": [],
   "source": [
    "from yugiquery import *\n",
    "\n",
    "init_notebook_mode(all_interactive=True)\n",
    "\n",
    "header(\"Cards\")"
   ]
  },
  {
   "cell_type": "markdown",
   "id": "1",
   "metadata": {
    "papermill": {
     "duration": 0.013331,
     "end_time": "2024-10-04T19:18:42.277496",
     "exception": false,
     "start_time": "2024-10-04T19:18:42.264165",
     "status": "completed"
    },
    "tags": []
   },
   "source": [
    "---"
   ]
  },
  {
   "cell_type": "markdown",
   "id": "2",
   "metadata": {
    "papermill": {
     "duration": 0.012939,
     "end_time": "2024-10-04T19:18:42.303949",
     "exception": false,
     "start_time": "2024-10-04T19:18:42.291010",
     "status": "completed"
    },
    "tags": []
   },
   "source": [
    "Table of Contents <a class=\"jp-toc-ignore\"></a>\n",
    "=================\n",
    "* [1 Data aquisition](#data-aquisition)\n",
    "  * [1.1 Fetch online data](#fetch-online-data)\n",
    "  * [1.2 Merge data](#merge-data)\n",
    "* [2 Check changes](#check-changes)\n",
    "  * [2.1 Load previous data](#load-previous-data)\n",
    "  * [2.2 Generate changelog](#generate-changelog)\n",
    "  * [2.3 Save data](#save-data)\n",
    "* [3 Data visualization](#data-visualization)\n",
    "  * [3.1 Full data](#full-data)\n",
    "  * [3.2 Card types](#card-types)\n",
    "  * [3.3 Monsters](#monsters)\n",
    "    * [3.3.1 Attributes](#attributes)\n",
    "    * [3.3.2 Primary types](#primary-types)\n",
    "      * [3.3.2.1 Has effect discrimination](#has-effect-discrimination)\n",
    "      * [3.3.2.2 Is pendulum discrimination](#is-pendulum-discrimination)\n",
    "      * [3.3.2.3 By attribute](#by-attribute)\n",
    "    * [3.3.3 Secondary types](#secondary-types)\n",
    "      * [3.3.3.1 By attribute](#by-attribute)\n",
    "      * [3.3.3.2 By primary type](#by-primary-type)\n",
    "    * [3.3.4 Monster types](#monster-types)\n",
    "      * [3.3.4.1 By Attribute](#by-attribute)\n",
    "      * [3.3.4.2 By primary type](#by-primary-type)\n",
    "      * [3.3.4.3 By secondary type](#by-secondary-type)\n",
    "    * [3.3.5 ATK](#atk)\n",
    "    * [3.3.6 DEF](#def)\n",
    "    * [3.3.7 Level/Rank](#level/rank)\n",
    "      * [3.3.7.1 ATK statistics](#atk-statistics)\n",
    "      * [3.3.7.2 DEF statistics](#def-statistics)\n",
    "    * [3.3.8 Pendulum scale](#pendulum-scale)\n",
    "      * [3.3.8.1 ATK statistics](#atk-statistics)\n",
    "      * [3.3.8.2 DEF statistics](#def-statistics)\n",
    "      * [3.3.8.3 Level/Rank statistics](#level/rank-statistics)\n",
    "    * [3.3.9 Link](#link)\n",
    "      * [3.3.9.1 ATK statistics](#atk-statistics)\n",
    "    * [3.3.10 Link Arrows](#link-arrows)\n",
    "      * [3.3.10.1 By combination](#by-combination)\n",
    "      * [3.3.10.2 By unique](#by-unique)\n",
    "      * [3.3.10.3 By link](#by-link)\n",
    "  * [3.4 Spell & Trap](#spell-&-trap)\n",
    "    * [3.4.1 Properties](#properties)\n",
    "  * [3.5 Effect type](#effect-type)\n",
    "    * [3.5.1 Card type discrimination](#card-type-discrimination)\n",
    "  * [3.6 Archseries](#archseries)\n",
    "    * [3.6.1 By card type](#by-card-type)\n",
    "    * [3.6.2 By primary type](#by-primary-type)\n",
    "    * [3.6.3 By secondary type](#by-secondary-type)\n",
    "    * [3.6.4 By monster type](#by-monster-type)\n",
    "    * [3.6.5 By property](#by-property)\n",
    "  * [3.7 Artworks](#artworks)\n",
    "    * [3.7.1 By card type](#by-card-type)\n",
    "    * [3.7.2 By primary type](#by-primary-type)\n",
    "  * [3.8 Errata](#errata)\n",
    "    * [3.8.1 By card type](#by-card-type)\n",
    "    * [3.8.2 By primary type](#by-primary-type)\n",
    "    * [3.8.3 By artwork](#by-artwork)\n",
    "  * [3.9 TCG & OCG status](#tcg-&-ocg-status)\n",
    "    * [3.9.1 TGC status](#tgc-status)\n",
    "      * [3.9.1.1 By card type](#by-card-type)\n",
    "      * [3.9.1.2 By monster type](#by-monster-type)\n",
    "      * [3.9.1.3 By archseries](#by-archseries)\n",
    "    * [3.9.2 OCG status](#ocg-status)\n",
    "      * [3.9.2.1 By card type](#by-card-type)\n",
    "      * [3.9.2.2 By monster type](#by-monster-type)\n",
    "      * [3.9.2.3 By archseries](#by-archseries)\n",
    "    * [3.9.3 TCG vs. OCG status](#tcg-vs.-ocg-status)\n",
    "* [4 Extras](#extras)\n",
    "  * [4.1 Counters and Tokens](#counters-and-tokens)\n",
    "  * [4.2 Unusable cards](#Unusable-cards)\n",
    "  * [4.3 Multiple secondary types](#multiple-secondary-types)\n",
    "  * [4.4 Not yet released](#not-yet-released)\n",
    "  * [4.5 Page name differs from card name](#page-name-differs-from-card-name)\n",
    "* [5 Epilogue](#epilogue)\n",
    "  * [5.1 HTML export](#html-export)\n",
    "  <!-- * [5.2 Git](#git) -->"
   ]
  },
  {
   "cell_type": "markdown",
   "id": "3",
   "metadata": {
    "papermill": {
     "duration": 0.013085,
     "end_time": "2024-10-04T19:18:42.330830",
     "exception": false,
     "start_time": "2024-10-04T19:18:42.317745",
     "status": "completed"
    },
    "tags": []
   },
   "source": [
    "# Data aquisition"
   ]
  },
  {
   "cell_type": "markdown",
   "id": "4",
   "metadata": {
    "papermill": {
     "duration": 0.014019,
     "end_time": "2024-10-04T19:18:42.358003",
     "exception": false,
     "start_time": "2024-10-04T19:18:42.343984",
     "status": "completed"
    },
    "tags": []
   },
   "source": [
    "## Fetch online data"
   ]
  },
  {
   "cell_type": "code",
   "execution_count": null,
   "id": "5",
   "metadata": {
    "papermill": {
     "duration": 0.017585,
     "end_time": "2024-10-04T19:18:42.388837",
     "exception": false,
     "start_time": "2024-10-04T19:18:42.371252",
     "status": "completed"
    },
    "tags": []
   },
   "outputs": [],
   "source": [
    "# Timestamp\n",
    "timestamp = arrow.utcnow()"
   ]
  },
  {
   "cell_type": "code",
   "execution_count": null,
   "id": "6",
   "metadata": {
    "papermill": {
     "duration": 45.945508,
     "end_time": "2024-10-04T19:19:28.347543",
     "exception": false,
     "start_time": "2024-10-04T19:18:42.402035",
     "status": "completed"
    },
    "tags": []
   },
   "outputs": [],
   "source": [
    "# Fetch Monster\n",
    "monster_df = fetch_monster()"
   ]
  },
  {
   "cell_type": "code",
   "execution_count": null,
   "id": "7",
   "metadata": {
    "papermill": {
     "duration": 17.184257,
     "end_time": "2024-10-04T19:19:45.547593",
     "exception": false,
     "start_time": "2024-10-04T19:19:28.363336",
     "status": "completed"
    },
    "tags": []
   },
   "outputs": [],
   "source": [
    "# Fetch Spell\n",
    "spell_df = fetch_st(st=\"Spell\")\n",
    "\n",
    "# Fetch Trap\n",
    "trap_df = fetch_st(st=\"Trap\")"
   ]
  },
  {
   "cell_type": "code",
   "execution_count": null,
   "id": "8",
   "metadata": {
    "papermill": {
     "duration": 4.833505,
     "end_time": "2024-10-04T19:19:50.394833",
     "exception": false,
     "start_time": "2024-10-04T19:19:45.561328",
     "status": "completed"
    },
    "tags": []
   },
   "outputs": [],
   "source": [
    "# Fetch Token\n",
    "token_df = fetch_token()\n",
    "\n",
    "# Fetch Counter\n",
    "counter_df = fetch_counter()\n",
    "\n",
    "# Fetch errata\n",
    "errata_df = fetch_errata()"
   ]
  },
  {
   "cell_type": "code",
   "execution_count": null,
   "id": "9",
   "metadata": {},
   "outputs": [],
   "source": [
    "# Fetch unusable\n",
    "unusable_df = fetch_unusable()"
   ]
  },
  {
   "cell_type": "markdown",
   "id": "10",
   "metadata": {
    "papermill": {
     "duration": 0.017213,
     "end_time": "2024-10-04T19:19:50.434552",
     "exception": false,
     "start_time": "2024-10-04T19:19:50.417339",
     "status": "completed"
    },
    "tags": []
   },
   "source": [
    "## Merge data"
   ]
  },
  {
   "cell_type": "code",
   "execution_count": null,
   "id": "11",
   "metadata": {
    "papermill": {
     "duration": 0.605953,
     "end_time": "2024-10-04T19:19:51.056586",
     "exception": false,
     "start_time": "2024-10-04T19:19:50.450633",
     "status": "completed"
    },
    "tags": []
   },
   "outputs": [],
   "source": [
    "# Merge errata\n",
    "monster_df = merge_errata(monster_df, errata_df)\n",
    "spell_df = merge_errata(spell_df, errata_df)\n",
    "trap_df = merge_errata(trap_df, errata_df)\n",
    "token_df = merge_errata(token_df, errata_df)\n",
    "counter_df = merge_errata(counter_df, errata_df)\n",
    "\n",
    "# Add counters to tokens data frame\n",
    "token_df = (\n",
    "    pd.concat([token_df, counter_df], ignore_index=True, axis=0).drop_duplicates().sort_values(\"Name\", ignore_index=True)\n",
    ")\n",
    "\n",
    "# Create combined spell and trap data frame\n",
    "st_df = pd.concat([spell_df, trap_df], ignore_index=True, axis=0).sort_values(\"Name\", ignore_index=True)\n",
    "\n",
    "# Create combined monster, spell and trap data frames\n",
    "cards_df = pd.concat([st_df, monster_df], ignore_index=True, axis=0).sort_values(\"Name\", ignore_index=True)\n",
    "\n",
    "# Create combined data frames with full data\n",
    "full_df = pd.concat([cards_df, token_df, unusable_df], ignore_index=True, axis=0).sort_values(\"Name\", ignore_index=True)\n",
    "\n",
    "print(\"Data merged\")"
   ]
  },
  {
   "cell_type": "markdown",
   "id": "12",
   "metadata": {
    "papermill": {
     "duration": 0.013803,
     "end_time": "2024-10-04T19:19:51.084848",
     "exception": false,
     "start_time": "2024-10-04T19:19:51.071045",
     "status": "completed"
    },
    "tags": []
   },
   "source": [
    "# Check changes"
   ]
  },
  {
   "cell_type": "markdown",
   "id": "13",
   "metadata": {
    "papermill": {
     "duration": 0.013611,
     "end_time": "2024-10-04T19:19:51.112187",
     "exception": false,
     "start_time": "2024-10-04T19:19:51.098576",
     "status": "completed"
    },
    "tags": []
   },
   "source": [
    "## Load previous data"
   ]
  },
  {
   "cell_type": "code",
   "execution_count": null,
   "id": "14",
   "metadata": {
    "papermill": {
     "duration": 0.252864,
     "end_time": "2024-10-04T19:19:51.378802",
     "exception": false,
     "start_time": "2024-10-04T19:19:51.125938",
     "status": "completed"
    },
    "tags": []
   },
   "outputs": [],
   "source": [
    "# Get latest file if exist\n",
    "tuple_cols = [\n",
    "    \"Effect type\",\n",
    "    \"Secondary type\",\n",
    "    \"Link Arrows\",\n",
    "    \"Archseries\",\n",
    "    \"Artwork\",\n",
    "    \"Errata\",\n",
    "]\n",
    "previous_df, previous_ts = load_latest_data(\"cards\", tuple_cols)\n",
    "\n",
    "if previous_df is not None:\n",
    "    previous_df = previous_df.astype(full_df[previous_df.columns.intersection(full_df.columns)].dtypes.to_dict())"
   ]
  },
  {
   "cell_type": "markdown",
   "id": "15",
   "metadata": {
    "papermill": {
     "duration": 0.013742,
     "end_time": "2024-10-04T19:19:51.407084",
     "exception": false,
     "start_time": "2024-10-04T19:19:51.393342",
     "status": "completed"
    },
    "tags": []
   },
   "source": [
    "## Generate changelog"
   ]
  },
  {
   "cell_type": "code",
   "execution_count": null,
   "id": "16",
   "metadata": {
    "papermill": {
     "duration": 0.235752,
     "end_time": "2024-10-04T19:19:51.656399",
     "exception": false,
     "start_time": "2024-10-04T19:19:51.420647",
     "status": "completed"
    },
    "tags": []
   },
   "outputs": [],
   "source": [
    "if previous_df is None:\n",
    "    changelog = None\n",
    "    print(\"Skipped\")\n",
    "else:\n",
    "    changelog = generate_changelog(previous_df, full_df, col=\"Name\")\n",
    "    if not changelog.empty:\n",
    "        display(changelog)\n",
    "        changelog.to_csv(\n",
    "            dirs.DATA / make_filename(report=\"cards\", timestamp=timestamp, previous_timestamp=previous_ts),\n",
    "            index=True,\n",
    "        )\n",
    "        print(\"Changelog saved\")"
   ]
  },
  {
   "cell_type": "markdown",
   "id": "17",
   "metadata": {
    "papermill": {
     "duration": 0.014409,
     "end_time": "2024-10-04T19:19:51.691030",
     "exception": false,
     "start_time": "2024-10-04T19:19:51.676621",
     "status": "completed"
    },
    "tags": []
   },
   "source": [
    "## Save data"
   ]
  },
  {
   "cell_type": "code",
   "execution_count": null,
   "id": "18",
   "metadata": {
    "papermill": {
     "duration": 0.294041,
     "end_time": "2024-10-04T19:19:51.999766",
     "exception": false,
     "start_time": "2024-10-04T19:19:51.705725",
     "status": "completed"
    },
    "tags": []
   },
   "outputs": [],
   "source": [
    "if changelog is not None and changelog.empty:\n",
    "    print(\"No changes. New data not saved\")\n",
    "else:\n",
    "    full_df.to_csv(\n",
    "        dirs.DATA / make_filename(report=\"cards\", timestamp=timestamp),\n",
    "        index=False,\n",
    "    )\n",
    "    print(\"Data saved\")"
   ]
  },
  {
   "cell_type": "markdown",
   "id": "19",
   "metadata": {
    "papermill": {
     "duration": 0.014639,
     "end_time": "2024-10-04T19:19:52.029603",
     "exception": false,
     "start_time": "2024-10-04T19:19:52.014964",
     "status": "completed"
    },
    "tags": []
   },
   "source": [
    "# Data visualization"
   ]
  },
  {
   "cell_type": "markdown",
   "id": "20",
   "metadata": {
    "papermill": {
     "duration": 0.014721,
     "end_time": "2024-10-04T19:19:52.059010",
     "exception": false,
     "start_time": "2024-10-04T19:19:52.044289",
     "status": "completed"
    },
    "tags": []
   },
   "source": [
    "## Full data"
   ]
  },
  {
   "cell_type": "code",
   "execution_count": null,
   "id": "21",
   "metadata": {
    "papermill": {
     "duration": 0.05642,
     "end_time": "2024-10-04T19:19:52.130287",
     "exception": false,
     "start_time": "2024-10-04T19:19:52.073867",
     "status": "completed"
    },
    "tags": []
   },
   "outputs": [],
   "source": [
    "full_df"
   ]
  },
  {
   "cell_type": "markdown",
   "id": "22",
   "metadata": {
    "papermill": {
     "duration": 0.014931,
     "end_time": "2024-10-04T19:19:52.160617",
     "exception": false,
     "start_time": "2024-10-04T19:19:52.145686",
     "status": "completed"
    },
    "tags": []
   },
   "source": [
    "Full data available to download [here](../data)"
   ]
  },
  {
   "cell_type": "markdown",
   "id": "23",
   "metadata": {
    "papermill": {
     "duration": 0.015366,
     "end_time": "2024-10-04T19:19:52.191594",
     "exception": false,
     "start_time": "2024-10-04T19:19:52.176228",
     "status": "completed"
    },
    "tags": []
   },
   "source": [
    "## Card types"
   ]
  },
  {
   "cell_type": "code",
   "execution_count": null,
   "id": "24",
   "metadata": {
    "papermill": {
     "duration": 0.021492,
     "end_time": "2024-10-04T19:19:52.229160",
     "exception": false,
     "start_time": "2024-10-04T19:19:52.207668",
     "status": "completed"
    },
    "tags": []
   },
   "outputs": [],
   "source": [
    "print(\"Total number of card types:\", cards_df[\"Card type\"].nunique())"
   ]
  },
  {
   "cell_type": "code",
   "execution_count": null,
   "id": "25",
   "metadata": {
    "papermill": {
     "duration": 0.057429,
     "end_time": "2024-10-04T19:19:52.302374",
     "exception": false,
     "start_time": "2024-10-04T19:19:52.244945",
     "status": "completed"
    },
    "tags": []
   },
   "outputs": [],
   "source": [
    "card_type_colors = [plot.colors_dict[i] for i in cards_df[\"Card type\"].value_counts().index]\n",
    "cards_df[\"Card type\"].value_counts().plot.bar(figsize=(18, 6), grid=True, rot=0, color=card_type_colors)\n",
    "plt.show()"
   ]
  },
  {
   "cell_type": "markdown",
   "id": "26",
   "metadata": {
    "papermill": {
     "duration": 0.0155,
     "end_time": "2024-10-04T19:19:52.334235",
     "exception": false,
     "start_time": "2024-10-04T19:19:52.318735",
     "status": "completed"
    },
    "tags": []
   },
   "source": [
    "## Monsters"
   ]
  },
  {
   "cell_type": "markdown",
   "id": "27",
   "metadata": {
    "papermill": {
     "duration": 0.015808,
     "end_time": "2024-10-04T19:19:52.366145",
     "exception": false,
     "start_time": "2024-10-04T19:19:52.350337",
     "status": "completed"
    },
    "tags": []
   },
   "source": [
    "### Attributes"
   ]
  },
  {
   "cell_type": "code",
   "execution_count": null,
   "id": "28",
   "metadata": {
    "papermill": {
     "duration": 0.020987,
     "end_time": "2024-10-04T19:19:52.402679",
     "exception": false,
     "start_time": "2024-10-04T19:19:52.381692",
     "status": "completed"
    },
    "tags": []
   },
   "outputs": [],
   "source": [
    "print(\"Total number of attributes:\", monster_df[\"Attribute\"].nunique())"
   ]
  },
  {
   "cell_type": "code",
   "execution_count": null,
   "id": "29",
   "metadata": {
    "papermill": {
     "duration": 0.081282,
     "end_time": "2024-10-04T19:19:52.500700",
     "exception": false,
     "start_time": "2024-10-04T19:19:52.419418",
     "status": "completed"
    },
    "tags": []
   },
   "outputs": [],
   "source": [
    "monster_df.drop(columns=[\"Card type\", \"Page name\", \"Page URL\"]).groupby(\"Attribute\").nunique()"
   ]
  },
  {
   "cell_type": "code",
   "execution_count": null,
   "id": "30",
   "metadata": {
    "papermill": {
     "duration": 0.048156,
     "end_time": "2024-10-04T19:19:52.564833",
     "exception": false,
     "start_time": "2024-10-04T19:19:52.516677",
     "status": "completed"
    },
    "tags": []
   },
   "outputs": [],
   "source": [
    "attribute_colors = [plot.colors_dict[i] for i in monster_df[\"Attribute\"].value_counts().index]\n",
    "monster_df[\"Attribute\"].value_counts().plot.bar(figsize=(18, 6), grid=True, rot=0, color=attribute_colors)\n",
    "plt.show()"
   ]
  },
  {
   "cell_type": "markdown",
   "id": "31",
   "metadata": {
    "papermill": {
     "duration": 0.019027,
     "end_time": "2024-10-04T19:19:52.601684",
     "exception": false,
     "start_time": "2024-10-04T19:19:52.582657",
     "status": "completed"
    },
    "tags": []
   },
   "source": [
    "### Primary types"
   ]
  },
  {
   "cell_type": "code",
   "execution_count": null,
   "id": "32",
   "metadata": {
    "papermill": {
     "duration": 0.02157,
     "end_time": "2024-10-04T19:19:52.639380",
     "exception": false,
     "start_time": "2024-10-04T19:19:52.617810",
     "status": "completed"
    },
    "tags": []
   },
   "outputs": [],
   "source": [
    "print(\"Total number of primary types:\", monster_df[\"Primary type\"].nunique())"
   ]
  },
  {
   "cell_type": "code",
   "execution_count": null,
   "id": "33",
   "metadata": {
    "papermill": {
     "duration": 0.034612,
     "end_time": "2024-10-04T19:19:52.689984",
     "exception": false,
     "start_time": "2024-10-04T19:19:52.655372",
     "status": "completed"
    },
    "tags": []
   },
   "outputs": [],
   "source": [
    "monster_df.drop(columns=[\"Card type\", \"Page name\", \"Page URL\"]).groupby(\"Primary type\").nunique()"
   ]
  },
  {
   "cell_type": "markdown",
   "id": "34",
   "metadata": {
    "papermill": {
     "duration": 0.016642,
     "end_time": "2024-10-04T19:19:52.723350",
     "exception": false,
     "start_time": "2024-10-04T19:19:52.706708",
     "status": "completed"
    },
    "tags": []
   },
   "source": [
    "#### Has effect discrimination"
   ]
  },
  {
   "cell_type": "code",
   "execution_count": null,
   "id": "35",
   "metadata": {
    "papermill": {
     "duration": 0.026535,
     "end_time": "2024-10-04T19:19:52.765859",
     "exception": false,
     "start_time": "2024-10-04T19:19:52.739324",
     "status": "completed"
    },
    "tags": []
   },
   "outputs": [],
   "source": [
    "effect = pd.crosstab(\n",
    "    monster_df[\"Primary type\"],\n",
    "    pd.isna(monster_df[\"Effect type\"]),\n",
    "    rownames=[\"Primary type\"],\n",
    "    colnames=[\"Has effect\"],\n",
    ").rename(columns={True: \"No Effect\", False: \"Effect\"})\n",
    "effect"
   ]
  },
  {
   "cell_type": "code",
   "execution_count": null,
   "id": "36",
   "metadata": {
    "papermill": {
     "duration": 0.058476,
     "end_time": "2024-10-04T19:19:52.841332",
     "exception": false,
     "start_time": "2024-10-04T19:19:52.782856",
     "status": "completed"
    },
    "tags": []
   },
   "outputs": [],
   "source": [
    "monster_type_colors = {\n",
    "    \"No Effect\": plot.colors_dict[\"Normal Monster\"],\n",
    "    \"Effect\": [plot.colors_dict[i] for i in effect.index],\n",
    "}\n",
    "effect.plot.bar(\n",
    "    figsize=(18, 6),\n",
    "    stacked=True,\n",
    "    grid=True,\n",
    "    rot=0,\n",
    "    legend=True,\n",
    "    color=monster_type_colors,\n",
    ")\n",
    "# plt.yscale('log')\n",
    "plt.show()"
   ]
  },
  {
   "cell_type": "markdown",
   "id": "37",
   "metadata": {
    "papermill": {
     "duration": 0.017379,
     "end_time": "2024-10-04T19:19:52.876272",
     "exception": false,
     "start_time": "2024-10-04T19:19:52.858893",
     "status": "completed"
    },
    "tags": []
   },
   "source": [
    "Obs: Normal monster can have effect if it is pendulum"
   ]
  },
  {
   "cell_type": "markdown",
   "id": "38",
   "metadata": {
    "papermill": {
     "duration": 0.018813,
     "end_time": "2024-10-04T19:19:52.913259",
     "exception": false,
     "start_time": "2024-10-04T19:19:52.894446",
     "status": "completed"
    },
    "tags": []
   },
   "source": [
    "#### Is pendulum discrimination"
   ]
  },
  {
   "cell_type": "code",
   "execution_count": null,
   "id": "39",
   "metadata": {
    "papermill": {
     "duration": 0.031911,
     "end_time": "2024-10-04T19:19:52.962761",
     "exception": false,
     "start_time": "2024-10-04T19:19:52.930850",
     "status": "completed"
    },
    "tags": []
   },
   "outputs": [],
   "source": [
    "pendulum = pd.crosstab(\n",
    "    monster_df[\"Primary type\"],\n",
    "    pd.isna(monster_df[\"Pendulum Scale\"]),\n",
    "    rownames=[\"Primary type\"],\n",
    "    colnames=[\"Is Pendulum\"],\n",
    ").rename(columns={True: \"Not Pendulum\", False: \"Pendulum\"})\n",
    "pendulum"
   ]
  },
  {
   "cell_type": "code",
   "execution_count": null,
   "id": "40",
   "metadata": {
    "papermill": {
     "duration": 0.063747,
     "end_time": "2024-10-04T19:19:53.081526",
     "exception": false,
     "start_time": "2024-10-04T19:19:53.017779",
     "status": "completed"
    },
    "tags": []
   },
   "outputs": [],
   "source": [
    "monster_type_colors_b = {\n",
    "    \"Pendulum\": plot.colors_dict[\"Pendulum Monster\"],\n",
    "    \"Not Pendulum\": [plot.colors_dict[i] for i in pendulum.index],\n",
    "}\n",
    "pendulum.plot.bar(\n",
    "    figsize=(18, 6),\n",
    "    stacked=True,\n",
    "    grid=True,\n",
    "    rot=0,\n",
    "    color=monster_type_colors_b,\n",
    "    legend=True,\n",
    "    title=\"Primary types - Is pendulum\",\n",
    ")\n",
    "plt.show()"
   ]
  },
  {
   "cell_type": "markdown",
   "id": "41",
   "metadata": {
    "papermill": {
     "duration": 0.018895,
     "end_time": "2024-10-04T19:19:53.119470",
     "exception": false,
     "start_time": "2024-10-04T19:19:53.100575",
     "status": "completed"
    },
    "tags": []
   },
   "source": [
    "#### By attribute"
   ]
  },
  {
   "cell_type": "code",
   "execution_count": null,
   "id": "42",
   "metadata": {
    "papermill": {
     "duration": 0.026752,
     "end_time": "2024-10-04T19:19:53.166957",
     "exception": false,
     "start_time": "2024-10-04T19:19:53.140205",
     "status": "completed"
    },
    "tags": []
   },
   "outputs": [],
   "source": [
    "primmary_crosstab = pd.crosstab(cards_df[\"Primary type\"], cards_df[\"Attribute\"])\n",
    "primmary_crosstab"
   ]
  },
  {
   "cell_type": "code",
   "execution_count": null,
   "id": "43",
   "metadata": {
    "papermill": {
     "duration": 0.19946,
     "end_time": "2024-10-04T19:19:53.425706",
     "exception": false,
     "start_time": "2024-10-04T19:19:53.226246",
     "status": "completed"
    },
    "tags": []
   },
   "outputs": [],
   "source": [
    "plt.figure(figsize=(16, 10))\n",
    "sns.heatmap(\n",
    "    primmary_crosstab.T,\n",
    "    annot=True,\n",
    "    fmt=\"g\",\n",
    "    cmap=\"viridis\",\n",
    "    square=True,\n",
    "    norm=plot.LogNorm(),\n",
    ")\n",
    "plt.show()"
   ]
  },
  {
   "cell_type": "markdown",
   "id": "44",
   "metadata": {
    "papermill": {
     "duration": 0.018352,
     "end_time": "2024-10-04T19:19:53.462437",
     "exception": false,
     "start_time": "2024-10-04T19:19:53.444085",
     "status": "completed"
    },
    "tags": []
   },
   "source": [
    "### Secondary types"
   ]
  },
  {
   "cell_type": "code",
   "execution_count": null,
   "id": "45",
   "metadata": {
    "papermill": {
     "duration": 0.032616,
     "end_time": "2024-10-04T19:19:53.513424",
     "exception": false,
     "start_time": "2024-10-04T19:19:53.480808",
     "status": "completed"
    },
    "tags": []
   },
   "outputs": [],
   "source": [
    "exploded_secondary_type = monster_df.explode(\"Secondary type\")\n",
    "print(\n",
    "    \"Total number of secondary types:\",\n",
    "    exploded_secondary_type[\"Secondary type\"].nunique(),\n",
    ")"
   ]
  },
  {
   "cell_type": "code",
   "execution_count": null,
   "id": "46",
   "metadata": {
    "papermill": {
     "duration": 0.035309,
     "end_time": "2024-10-04T19:19:53.567274",
     "exception": false,
     "start_time": "2024-10-04T19:19:53.531965",
     "status": "completed"
    },
    "tags": []
   },
   "outputs": [],
   "source": [
    "exploded_secondary_type.drop(columns=[\"Card type\", \"Link\", \"Link Arrows\", \"Page name\", \"Page URL\"]).groupby(\n",
    "    \"Secondary type\"\n",
    ").nunique()"
   ]
  },
  {
   "cell_type": "code",
   "execution_count": null,
   "id": "47",
   "metadata": {
    "papermill": {
     "duration": 0.053967,
     "end_time": "2024-10-04T19:19:53.640261",
     "exception": false,
     "start_time": "2024-10-04T19:19:53.586294",
     "status": "completed"
    },
    "tags": []
   },
   "outputs": [],
   "source": [
    "secondary_type_colors = plot.colors_dict[\"Effect Monster\"]\n",
    "exploded_secondary_type[\"Secondary type\"].value_counts().plot.bar(\n",
    "    figsize=(18, 6),\n",
    "    stacked=True,\n",
    "    grid=True,\n",
    "    rot=0,\n",
    "    color=secondary_type_colors,\n",
    "    legend=False,\n",
    ")\n",
    "plt.show()"
   ]
  },
  {
   "cell_type": "markdown",
   "id": "48",
   "metadata": {
    "papermill": {
     "duration": 0.019153,
     "end_time": "2024-10-04T19:19:53.678581",
     "exception": false,
     "start_time": "2024-10-04T19:19:53.659428",
     "status": "completed"
    },
    "tags": []
   },
   "source": [
    "#### By attribute"
   ]
  },
  {
   "cell_type": "code",
   "execution_count": null,
   "id": "49",
   "metadata": {
    "papermill": {
     "duration": 0.036205,
     "end_time": "2024-10-04T19:19:53.771169",
     "exception": false,
     "start_time": "2024-10-04T19:19:53.734964",
     "status": "completed"
    },
    "tags": []
   },
   "outputs": [],
   "source": [
    "secondary_crosstab = pd.crosstab(exploded_secondary_type[\"Secondary type\"], exploded_secondary_type[\"Attribute\"])\n",
    "secondary_crosstab"
   ]
  },
  {
   "cell_type": "code",
   "execution_count": null,
   "id": "50",
   "metadata": {
    "papermill": {
     "duration": 0.083549,
     "end_time": "2024-10-04T19:19:53.875977",
     "exception": false,
     "start_time": "2024-10-04T19:19:53.792428",
     "status": "completed"
    },
    "tags": []
   },
   "outputs": [],
   "source": [
    "plt.figure(figsize=(8, 6))\n",
    "sns.heatmap(\n",
    "    secondary_crosstab[secondary_crosstab > 0],\n",
    "    annot=True,\n",
    "    fmt=\"g\",\n",
    "    cmap=\"viridis\",\n",
    "    square=True,\n",
    ")\n",
    "plt.show()"
   ]
  },
  {
   "cell_type": "markdown",
   "id": "51",
   "metadata": {
    "papermill": {
     "duration": 0.019923,
     "end_time": "2024-10-04T19:19:53.915608",
     "exception": false,
     "start_time": "2024-10-04T19:19:53.895685",
     "status": "completed"
    },
    "tags": []
   },
   "source": [
    "#### By primary type"
   ]
  },
  {
   "cell_type": "code",
   "execution_count": null,
   "id": "52",
   "metadata": {
    "papermill": {
     "duration": 0.081022,
     "end_time": "2024-10-04T19:19:54.017188",
     "exception": false,
     "start_time": "2024-10-04T19:19:53.936166",
     "status": "completed"
    },
    "tags": []
   },
   "outputs": [],
   "source": [
    "secondary_crosstab_b = pd.crosstab(\n",
    "    exploded_secondary_type[\"Primary type\"],\n",
    "    exploded_secondary_type[\"Secondary type\"],\n",
    "    margins=True,\n",
    ")\n",
    "secondary_crosstab_b"
   ]
  },
  {
   "cell_type": "code",
   "execution_count": null,
   "id": "53",
   "metadata": {
    "papermill": {
     "duration": 0.176318,
     "end_time": "2024-10-04T19:19:54.213845",
     "exception": false,
     "start_time": "2024-10-04T19:19:54.037527",
     "status": "completed"
    },
    "tags": []
   },
   "outputs": [],
   "source": [
    "plt.figure(figsize=(10, 7))\n",
    "sns.heatmap(\n",
    "    secondary_crosstab_b,\n",
    "    annot=True,\n",
    "    fmt=\"g\",\n",
    "    cmap=\"viridis\",\n",
    "    square=True,\n",
    "    norm=plot.LogNorm(),\n",
    ")\n",
    "plt.show()"
   ]
  },
  {
   "cell_type": "markdown",
   "id": "54",
   "metadata": {
    "papermill": {
     "duration": 0.020321,
     "end_time": "2024-10-04T19:19:54.254833",
     "exception": false,
     "start_time": "2024-10-04T19:19:54.234512",
     "status": "completed"
    },
    "tags": []
   },
   "source": [
    "### Monster types"
   ]
  },
  {
   "cell_type": "code",
   "execution_count": null,
   "id": "55",
   "metadata": {
    "papermill": {
     "duration": 0.025516,
     "end_time": "2024-10-04T19:19:54.301063",
     "exception": false,
     "start_time": "2024-10-04T19:19:54.275547",
     "status": "completed"
    },
    "tags": []
   },
   "outputs": [],
   "source": [
    "print(\"Total number of monster types:\", monster_df[\"Monster type\"].nunique())"
   ]
  },
  {
   "cell_type": "code",
   "execution_count": null,
   "id": "56",
   "metadata": {
    "papermill": {
     "duration": 0.038604,
     "end_time": "2024-10-04T19:19:54.359673",
     "exception": false,
     "start_time": "2024-10-04T19:19:54.321069",
     "status": "completed"
    },
    "tags": []
   },
   "outputs": [],
   "source": [
    "monster_df.drop(columns=[\"Card type\", \"Page name\", \"Page URL\"]).groupby(\"Monster type\").nunique()"
   ]
  },
  {
   "cell_type": "code",
   "execution_count": null,
   "id": "57",
   "metadata": {
    "papermill": {
     "duration": 0.078413,
     "end_time": "2024-10-04T19:19:54.459331",
     "exception": false,
     "start_time": "2024-10-04T19:19:54.380918",
     "status": "completed"
    },
    "tags": []
   },
   "outputs": [],
   "source": [
    "monster_type_colors = plot.colors_dict[\"Monster Card\"]\n",
    "monster_df[\"Monster type\"].value_counts().plot.bar(figsize=(18, 6), grid=True, rot=45, color=monster_type_colors)\n",
    "plt.show()"
   ]
  },
  {
   "cell_type": "markdown",
   "id": "58",
   "metadata": {
    "papermill": {
     "duration": 0.023789,
     "end_time": "2024-10-04T19:19:54.540541",
     "exception": false,
     "start_time": "2024-10-04T19:19:54.516752",
     "status": "completed"
    },
    "tags": []
   },
   "source": [
    "#### By Attribute"
   ]
  },
  {
   "cell_type": "code",
   "execution_count": null,
   "id": "59",
   "metadata": {
    "papermill": {
     "duration": 0.075725,
     "end_time": "2024-10-04T19:19:54.637677",
     "exception": false,
     "start_time": "2024-10-04T19:19:54.561952",
     "status": "completed"
    },
    "tags": []
   },
   "outputs": [],
   "source": [
    "monster_crosstab = pd.crosstab(cards_df[\"Monster type\"], cards_df[\"Attribute\"])\n",
    "monster_crosstab"
   ]
  },
  {
   "cell_type": "code",
   "execution_count": null,
   "id": "60",
   "metadata": {
    "papermill": {
     "duration": 0.224287,
     "end_time": "2024-10-04T19:19:54.882977",
     "exception": false,
     "start_time": "2024-10-04T19:19:54.658690",
     "status": "completed"
    },
    "tags": []
   },
   "outputs": [],
   "source": [
    "plt.figure(figsize=(20, 5))\n",
    "sns.heatmap(\n",
    "    monster_crosstab[monster_crosstab > 0].T,\n",
    "    annot=True,\n",
    "    fmt=\"g\",\n",
    "    cmap=\"viridis\",\n",
    "    square=True,\n",
    "    norm=plot.LogNorm(),\n",
    ")\n",
    "plt.show()"
   ]
  },
  {
   "cell_type": "markdown",
   "id": "61",
   "metadata": {
    "papermill": {
     "duration": 0.022261,
     "end_time": "2024-10-04T19:19:54.927620",
     "exception": false,
     "start_time": "2024-10-04T19:19:54.905359",
     "status": "completed"
    },
    "tags": []
   },
   "source": [
    "#### By primary type"
   ]
  },
  {
   "cell_type": "code",
   "execution_count": null,
   "id": "62",
   "metadata": {
    "papermill": {
     "duration": 0.03352,
     "end_time": "2024-10-04T19:19:54.983122",
     "exception": false,
     "start_time": "2024-10-04T19:19:54.949602",
     "status": "completed"
    },
    "tags": []
   },
   "outputs": [],
   "source": [
    "monster_crosstab_b = pd.crosstab(cards_df[\"Monster type\"], cards_df[\"Primary type\"], dropna=False)\n",
    "monster_crosstab_b"
   ]
  },
  {
   "cell_type": "code",
   "execution_count": null,
   "id": "63",
   "metadata": {
    "papermill": {
     "duration": 0.199069,
     "end_time": "2024-10-04T19:19:55.205382",
     "exception": false,
     "start_time": "2024-10-04T19:19:55.006313",
     "status": "completed"
    },
    "tags": []
   },
   "outputs": [],
   "source": [
    "plt.figure(figsize=(20, 5))\n",
    "sns.heatmap(\n",
    "    monster_crosstab_b[monster_crosstab_b > 0].T,\n",
    "    annot=True,\n",
    "    fmt=\"g\",\n",
    "    cmap=\"viridis\",\n",
    "    square=True,\n",
    "    norm=plot.LogNorm(),\n",
    ")\n",
    "plt.show()"
   ]
  },
  {
   "cell_type": "markdown",
   "id": "64",
   "metadata": {
    "papermill": {
     "duration": 0.024066,
     "end_time": "2024-10-04T19:19:55.289743",
     "exception": false,
     "start_time": "2024-10-04T19:19:55.265677",
     "status": "completed"
    },
    "tags": []
   },
   "source": [
    "#### By secondary type"
   ]
  },
  {
   "cell_type": "code",
   "execution_count": null,
   "id": "65",
   "metadata": {
    "papermill": {
     "duration": 0.033215,
     "end_time": "2024-10-04T19:19:55.347358",
     "exception": false,
     "start_time": "2024-10-04T19:19:55.314143",
     "status": "completed"
    },
    "tags": []
   },
   "outputs": [],
   "source": [
    "monster_crosstab_c = pd.crosstab(\n",
    "    exploded_secondary_type[\"Monster type\"],\n",
    "    exploded_secondary_type[\"Secondary type\"],\n",
    "    dropna=False,\n",
    ")\n",
    "monster_crosstab_c"
   ]
  },
  {
   "cell_type": "code",
   "execution_count": null,
   "id": "66",
   "metadata": {
    "papermill": {
     "duration": 0.275031,
     "end_time": "2024-10-04T19:19:55.647166",
     "exception": false,
     "start_time": "2024-10-04T19:19:55.372135",
     "status": "completed"
    },
    "tags": []
   },
   "outputs": [],
   "source": [
    "plt.figure(figsize=(20, 5))\n",
    "sns.heatmap(\n",
    "    monster_crosstab_c[monster_crosstab_c > 0].T,\n",
    "    annot=True,\n",
    "    fmt=\"g\",\n",
    "    cmap=\"viridis\",\n",
    "    square=True,\n",
    "    norm=plot.LogNorm(),\n",
    ")\n",
    "plt.show()"
   ]
  },
  {
   "cell_type": "markdown",
   "id": "67",
   "metadata": {
    "papermill": {
     "duration": 0.024936,
     "end_time": "2024-10-04T19:19:55.698387",
     "exception": false,
     "start_time": "2024-10-04T19:19:55.673451",
     "status": "completed"
    },
    "tags": []
   },
   "source": [
    "### ATK"
   ]
  },
  {
   "cell_type": "code",
   "execution_count": null,
   "id": "68",
   "metadata": {
    "papermill": {
     "duration": 0.030132,
     "end_time": "2024-10-04T19:19:55.753863",
     "exception": false,
     "start_time": "2024-10-04T19:19:55.723731",
     "status": "completed"
    },
    "tags": []
   },
   "outputs": [],
   "source": [
    "print(\"Total number of ATK values:\", monster_df[\"ATK\"].nunique())"
   ]
  },
  {
   "cell_type": "code",
   "execution_count": null,
   "id": "69",
   "metadata": {
    "papermill": {
     "duration": 0.043673,
     "end_time": "2024-10-04T19:19:55.823075",
     "exception": false,
     "start_time": "2024-10-04T19:19:55.779402",
     "status": "completed"
    },
    "tags": []
   },
   "outputs": [],
   "source": [
    "monster_df.drop(columns=[\"Card type\", \"Page name\", \"Page URL\"]).groupby(\"ATK\").nunique().sort_index(\n",
    "    key=lambda x: pd.to_numeric(x, errors=\"coerce\")\n",
    ")"
   ]
  },
  {
   "cell_type": "code",
   "execution_count": null,
   "id": "70",
   "metadata": {
    "papermill": {
     "duration": 0.163932,
     "end_time": "2024-10-04T19:19:56.012573",
     "exception": false,
     "start_time": "2024-10-04T19:19:55.848641",
     "status": "completed"
    },
    "tags": []
   },
   "outputs": [],
   "source": [
    "atk_colors = plot.colors_dict[\"Monster Card\"]\n",
    "monster_df[\"ATK\"].value_counts().sort_index(key=lambda x: pd.to_numeric(x, errors=\"coerce\")).plot.bar(\n",
    "    figsize=(18, 6), grid=True, color=atk_colors\n",
    ")\n",
    "plt.show()"
   ]
  },
  {
   "cell_type": "markdown",
   "id": "71",
   "metadata": {
    "papermill": {
     "duration": 0.056577,
     "end_time": "2024-10-04T19:19:56.113335",
     "exception": false,
     "start_time": "2024-10-04T19:19:56.056758",
     "status": "completed"
    },
    "tags": []
   },
   "source": [
    "### DEF"
   ]
  },
  {
   "cell_type": "code",
   "execution_count": null,
   "id": "72",
   "metadata": {
    "papermill": {
     "duration": 0.030135,
     "end_time": "2024-10-04T19:19:56.169578",
     "exception": false,
     "start_time": "2024-10-04T19:19:56.139443",
     "status": "completed"
    },
    "tags": []
   },
   "outputs": [],
   "source": [
    "print(\"Total number of DEF values:\", monster_df[\"DEF\"].nunique())"
   ]
  },
  {
   "cell_type": "code",
   "execution_count": null,
   "id": "73",
   "metadata": {
    "papermill": {
     "duration": 0.048285,
     "end_time": "2024-10-04T19:19:56.244321",
     "exception": false,
     "start_time": "2024-10-04T19:19:56.196036",
     "status": "completed"
    },
    "tags": []
   },
   "outputs": [],
   "source": [
    "monster_df.drop(columns=[\"Card type\", \"Page name\", \"Page URL\"]).groupby(\"DEF\").nunique().sort_index(\n",
    "    key=lambda x: pd.to_numeric(x, errors=\"coerce\")\n",
    ")"
   ]
  },
  {
   "cell_type": "code",
   "execution_count": null,
   "id": "74",
   "metadata": {
    "papermill": {
     "duration": 0.144726,
     "end_time": "2024-10-04T19:19:56.416161",
     "exception": false,
     "start_time": "2024-10-04T19:19:56.271435",
     "status": "completed"
    },
    "tags": []
   },
   "outputs": [],
   "source": [
    "def_colors = plot.colors_dict[\"Monster Card\"]\n",
    "monster_df[\"DEF\"].value_counts().sort_index(key=lambda x: pd.to_numeric(x, errors=\"coerce\")).plot.bar(\n",
    "    figsize=(18, 6), grid=True, color=def_colors\n",
    ")\n",
    "plt.show()"
   ]
  },
  {
   "cell_type": "markdown",
   "id": "75",
   "metadata": {
    "papermill": {
     "duration": 0.040211,
     "end_time": "2024-10-04T19:19:56.484269",
     "exception": false,
     "start_time": "2024-10-04T19:19:56.444058",
     "status": "completed"
    },
    "tags": []
   },
   "source": [
    "### Level/Rank"
   ]
  },
  {
   "cell_type": "code",
   "execution_count": null,
   "id": "76",
   "metadata": {
    "papermill": {
     "duration": 0.047382,
     "end_time": "2024-10-04T19:19:56.593335",
     "exception": false,
     "start_time": "2024-10-04T19:19:56.545953",
     "status": "completed"
    },
    "tags": []
   },
   "outputs": [],
   "source": [
    "monster_df.drop(columns=[\"Card type\", \"Link\", \"Link Arrows\", \"Page name\", \"Page URL\"]).groupby(\n",
    "    \"Level/Rank\"\n",
    ").nunique().sort_index(key=lambda x: pd.to_numeric(x, errors=\"coerce\"))"
   ]
  },
  {
   "cell_type": "code",
   "execution_count": null,
   "id": "77",
   "metadata": {
    "papermill": {
     "duration": 0.070871,
     "end_time": "2024-10-04T19:19:56.691583",
     "exception": false,
     "start_time": "2024-10-04T19:19:56.620712",
     "status": "completed"
    },
    "tags": []
   },
   "outputs": [],
   "source": [
    "stars_colors = plot.colors_dict[\"Level\"]\n",
    "monster_df[\"Level/Rank\"].value_counts().sort_index(key=lambda x: pd.to_numeric(x, errors=\"coerce\")).plot.bar(\n",
    "    figsize=(18, 6), grid=True, rot=0, color=stars_colors\n",
    ")\n",
    "plt.show()"
   ]
  },
  {
   "cell_type": "markdown",
   "id": "78",
   "metadata": {
    "papermill": {
     "duration": 0.028746,
     "end_time": "2024-10-04T19:19:56.748768",
     "exception": false,
     "start_time": "2024-10-04T19:19:56.720022",
     "status": "completed"
    },
    "tags": []
   },
   "source": [
    "#### ATK statistics"
   ]
  },
  {
   "cell_type": "code",
   "execution_count": null,
   "id": "79",
   "metadata": {
    "papermill": {
     "duration": 0.093958,
     "end_time": "2024-10-04T19:19:56.871008",
     "exception": false,
     "start_time": "2024-10-04T19:19:56.777050",
     "status": "completed"
    },
    "tags": []
   },
   "outputs": [],
   "source": [
    "monster_df[[\"Level/Rank\", \"ATK\"]].apply(pd.to_numeric, errors=\"coerce\").dropna().astype(int).groupby(\n",
    "    \"Level/Rank\"\n",
    ").describe().round(1)"
   ]
  },
  {
   "cell_type": "markdown",
   "id": "80",
   "metadata": {
    "papermill": {
     "duration": 0.028845,
     "end_time": "2024-10-04T19:19:56.933219",
     "exception": false,
     "start_time": "2024-10-04T19:19:56.904374",
     "status": "completed"
    },
    "tags": []
   },
   "source": [
    "#### DEF statistics"
   ]
  },
  {
   "cell_type": "code",
   "execution_count": null,
   "id": "81",
   "metadata": {
    "papermill": {
     "duration": 0.051081,
     "end_time": "2024-10-04T19:19:57.014491",
     "exception": false,
     "start_time": "2024-10-04T19:19:56.963410",
     "status": "completed"
    },
    "tags": []
   },
   "outputs": [],
   "source": [
    "monster_df[[\"Level/Rank\", \"DEF\"]].apply(pd.to_numeric, errors=\"coerce\").dropna().astype(int).groupby(\n",
    "    \"Level/Rank\"\n",
    ").describe().round(1)"
   ]
  },
  {
   "cell_type": "markdown",
   "id": "82",
   "metadata": {
    "papermill": {
     "duration": 0.028994,
     "end_time": "2024-10-04T19:19:57.073020",
     "exception": false,
     "start_time": "2024-10-04T19:19:57.044026",
     "status": "completed"
    },
    "tags": []
   },
   "source": [
    "### Pendulum scale"
   ]
  },
  {
   "cell_type": "code",
   "execution_count": null,
   "id": "83",
   "metadata": {
    "papermill": {
     "duration": 0.046084,
     "end_time": "2024-10-04T19:19:57.149064",
     "exception": false,
     "start_time": "2024-10-04T19:19:57.102980",
     "status": "completed"
    },
    "tags": []
   },
   "outputs": [],
   "source": [
    "monster_df.drop(columns=[\"Card type\", \"Link\", \"Link Arrows\", \"Page name\", \"Page URL\"]).groupby(\n",
    "    \"Pendulum Scale\"\n",
    ").nunique().sort_index(key=lambda x: pd.to_numeric(x, errors=\"coerce\"))"
   ]
  },
  {
   "cell_type": "code",
   "execution_count": null,
   "id": "84",
   "metadata": {
    "papermill": {
     "duration": 0.068902,
     "end_time": "2024-10-04T19:19:57.290832",
     "exception": false,
     "start_time": "2024-10-04T19:19:57.221930",
     "status": "completed"
    },
    "tags": []
   },
   "outputs": [],
   "source": [
    "scales_colors = plot.colors_dict[\"Pendulum Monster\"]\n",
    "monster_df[\"Pendulum Scale\"].value_counts().sort_index(key=lambda x: pd.to_numeric(x, errors=\"coerce\")).plot.bar(\n",
    "    figsize=(18, 6), grid=True, rot=0, color=scales_colors\n",
    ")\n",
    "plt.show()"
   ]
  },
  {
   "cell_type": "markdown",
   "id": "85",
   "metadata": {
    "papermill": {
     "duration": 0.029625,
     "end_time": "2024-10-04T19:19:57.351128",
     "exception": false,
     "start_time": "2024-10-04T19:19:57.321503",
     "status": "completed"
    },
    "tags": []
   },
   "source": [
    "#### ATK statistics"
   ]
  },
  {
   "cell_type": "code",
   "execution_count": null,
   "id": "86",
   "metadata": {
    "papermill": {
     "duration": 0.100817,
     "end_time": "2024-10-04T19:19:57.480447",
     "exception": false,
     "start_time": "2024-10-04T19:19:57.379630",
     "status": "completed"
    },
    "tags": []
   },
   "outputs": [],
   "source": [
    "monster_df[[\"Pendulum Scale\", \"ATK\"]].apply(pd.to_numeric, errors=\"coerce\").dropna().astype(int).groupby(\n",
    "    \"Pendulum Scale\"\n",
    ").describe().round(1)"
   ]
  },
  {
   "cell_type": "markdown",
   "id": "87",
   "metadata": {
    "papermill": {
     "duration": 0.029499,
     "end_time": "2024-10-04T19:19:57.540257",
     "exception": false,
     "start_time": "2024-10-04T19:19:57.510758",
     "status": "completed"
    },
    "tags": []
   },
   "source": [
    "#### DEF statistics"
   ]
  },
  {
   "cell_type": "code",
   "execution_count": null,
   "id": "88",
   "metadata": {
    "papermill": {
     "duration": 0.050778,
     "end_time": "2024-10-04T19:19:57.620096",
     "exception": false,
     "start_time": "2024-10-04T19:19:57.569318",
     "status": "completed"
    },
    "tags": []
   },
   "outputs": [],
   "source": [
    "monster_df[[\"Pendulum Scale\", \"DEF\"]].apply(pd.to_numeric, errors=\"coerce\").dropna().astype(int).groupby(\n",
    "    \"Pendulum Scale\"\n",
    ").describe().round(1)"
   ]
  },
  {
   "cell_type": "markdown",
   "id": "89",
   "metadata": {
    "papermill": {
     "duration": 0.029832,
     "end_time": "2024-10-04T19:19:57.679022",
     "exception": false,
     "start_time": "2024-10-04T19:19:57.649190",
     "status": "completed"
    },
    "tags": []
   },
   "source": [
    "#### Level/Rank statistics"
   ]
  },
  {
   "cell_type": "code",
   "execution_count": null,
   "id": "90",
   "metadata": {
    "papermill": {
     "duration": 0.04881,
     "end_time": "2024-10-04T19:19:57.757301",
     "exception": false,
     "start_time": "2024-10-04T19:19:57.708491",
     "status": "completed"
    },
    "tags": []
   },
   "outputs": [],
   "source": [
    "monster_df[[\"Pendulum Scale\", \"Level/Rank\"]].apply(pd.to_numeric, errors=\"coerce\").dropna().astype(int).groupby(\n",
    "    \"Pendulum Scale\"\n",
    ").describe().round(1)"
   ]
  },
  {
   "cell_type": "markdown",
   "id": "91",
   "metadata": {
    "papermill": {
     "duration": 0.029051,
     "end_time": "2024-10-04T19:19:57.816631",
     "exception": false,
     "start_time": "2024-10-04T19:19:57.787580",
     "status": "completed"
    },
    "tags": []
   },
   "source": [
    "### Link"
   ]
  },
  {
   "cell_type": "code",
   "execution_count": null,
   "id": "92",
   "metadata": {
    "papermill": {
     "duration": 0.046338,
     "end_time": "2024-10-04T19:19:57.893284",
     "exception": false,
     "start_time": "2024-10-04T19:19:57.846946",
     "status": "completed"
    },
    "tags": []
   },
   "outputs": [],
   "source": [
    "monster_df.drop(\n",
    "    columns=[\n",
    "        \"Card type\",\n",
    "        \"Primary type\",\n",
    "        \"Secondary type\",\n",
    "        \"Level/Rank\",\n",
    "        \"DEF\",\n",
    "        \"Pendulum Scale\",\n",
    "        \"Page name\",\n",
    "        \"Page URL\",\n",
    "    ]\n",
    ").groupby(\"Link\").nunique().sort_index(key=lambda x: pd.to_numeric(x, errors=\"coerce\"))"
   ]
  },
  {
   "cell_type": "code",
   "execution_count": null,
   "id": "93",
   "metadata": {
    "papermill": {
     "duration": 0.116159,
     "end_time": "2024-10-04T19:19:58.040109",
     "exception": false,
     "start_time": "2024-10-04T19:19:57.923950",
     "status": "completed"
    },
    "tags": []
   },
   "outputs": [],
   "source": [
    "link_colors = plot.colors_dict[\"Link Monster\"]\n",
    "monster_df[\"Link\"].value_counts().sort_index(key=lambda x: pd.to_numeric(x, errors=\"coerce\")).plot.bar(\n",
    "    figsize=(18, 6), grid=True, rot=0, color=link_colors\n",
    ")\n",
    "plt.show()"
   ]
  },
  {
   "cell_type": "markdown",
   "id": "94",
   "metadata": {
    "papermill": {
     "duration": 0.041091,
     "end_time": "2024-10-04T19:19:58.112995",
     "exception": false,
     "start_time": "2024-10-04T19:19:58.071904",
     "status": "completed"
    },
    "tags": []
   },
   "source": [
    "#### ATK statistics"
   ]
  },
  {
   "cell_type": "code",
   "execution_count": null,
   "id": "95",
   "metadata": {
    "papermill": {
     "duration": 0.047543,
     "end_time": "2024-10-04T19:19:58.238790",
     "exception": false,
     "start_time": "2024-10-04T19:19:58.191247",
     "status": "completed"
    },
    "tags": []
   },
   "outputs": [],
   "source": [
    "monster_df[[\"Link\", \"ATK\"]].apply(pd.to_numeric, errors=\"coerce\").dropna().astype(int).groupby(\"Link\").describe().round(1)"
   ]
  },
  {
   "cell_type": "markdown",
   "id": "96",
   "metadata": {
    "papermill": {
     "duration": 0.034699,
     "end_time": "2024-10-04T19:19:58.307065",
     "exception": false,
     "start_time": "2024-10-04T19:19:58.272366",
     "status": "completed"
    },
    "tags": []
   },
   "source": [
    "### Link Arrows"
   ]
  },
  {
   "cell_type": "markdown",
   "id": "97",
   "metadata": {
    "papermill": {
     "duration": 0.053438,
     "end_time": "2024-10-04T19:19:58.392518",
     "exception": false,
     "start_time": "2024-10-04T19:19:58.339080",
     "status": "completed"
    },
    "tags": []
   },
   "source": [
    "#### By combination"
   ]
  },
  {
   "cell_type": "code",
   "execution_count": null,
   "id": "98",
   "metadata": {
    "papermill": {
     "duration": 0.03713,
     "end_time": "2024-10-04T19:19:58.487269",
     "exception": false,
     "start_time": "2024-10-04T19:19:58.450139",
     "status": "completed"
    },
    "tags": []
   },
   "outputs": [],
   "source": [
    "print(\"Total number of link arrow combinations:\", monster_df[\"Link Arrows\"].nunique())"
   ]
  },
  {
   "cell_type": "code",
   "execution_count": null,
   "id": "99",
   "metadata": {
    "papermill": {
     "duration": 0.051606,
     "end_time": "2024-10-04T19:19:58.572720",
     "exception": false,
     "start_time": "2024-10-04T19:19:58.521114",
     "status": "completed"
    },
    "tags": []
   },
   "outputs": [],
   "source": [
    "monster_df.drop(\n",
    "    columns=[\n",
    "        \"Card type\",\n",
    "        \"Primary type\",\n",
    "        \"Level/Rank\",\n",
    "        \"Pendulum Scale\",\n",
    "        \"Link\",\n",
    "        \"Secondary type\",\n",
    "        \"DEF\",\n",
    "        \"Page name\",\n",
    "        \"Page URL\",\n",
    "    ]\n",
    ").groupby(\"Link Arrows\").nunique()"
   ]
  },
  {
   "cell_type": "code",
   "execution_count": null,
   "id": "100",
   "metadata": {
    "papermill": {
     "duration": 0.254757,
     "end_time": "2024-10-04T19:19:58.858960",
     "exception": false,
     "start_time": "2024-10-04T19:19:58.604203",
     "status": "completed"
    },
    "tags": []
   },
   "outputs": [],
   "source": [
    "arrows_colors = plot.colors_dict[\"Link Monster\"]\n",
    "monster_df[\"Link Arrows\"].value_counts().plot.barh(\n",
    "    figsize=(10, 20), grid=True, color=arrows_colors, title=\"Link arrows combinations\"\n",
    ")\n",
    "plt.show()"
   ]
  },
  {
   "cell_type": "markdown",
   "id": "101",
   "metadata": {
    "papermill": {
     "duration": 0.087628,
     "end_time": "2024-10-04T19:19:58.980929",
     "exception": false,
     "start_time": "2024-10-04T19:19:58.893301",
     "status": "completed"
    },
    "tags": []
   },
   "source": [
    "#### By unique"
   ]
  },
  {
   "cell_type": "code",
   "execution_count": null,
   "id": "102",
   "metadata": {
    "papermill": {
     "duration": 0.050679,
     "end_time": "2024-10-04T19:19:59.064970",
     "exception": false,
     "start_time": "2024-10-04T19:19:59.014291",
     "status": "completed"
    },
    "tags": []
   },
   "outputs": [],
   "source": [
    "monster_df[monster_df[\"Link Arrows\"].notna()].drop(\n",
    "    columns=[\n",
    "        \"Card type\",\n",
    "        \"Primary type\",\n",
    "        \"Level/Rank\",\n",
    "        \"Pendulum Scale\",\n",
    "        \"Secondary type\",\n",
    "        \"DEF\",\n",
    "        \"Page name\",\n",
    "        \"Page URL\",\n",
    "    ]\n",
    ").explode(\"Link Arrows\").groupby(\"Link Arrows\").nunique()"
   ]
  },
  {
   "cell_type": "code",
   "execution_count": null,
   "id": "103",
   "metadata": {
    "papermill": {
     "duration": 0.134797,
     "end_time": "2024-10-04T19:19:59.299347",
     "exception": false,
     "start_time": "2024-10-04T19:19:59.164550",
     "status": "completed"
    },
    "tags": []
   },
   "outputs": [],
   "source": [
    "plot.arrows(monster_df[\"Link Arrows\"].explode(\"Link Arrows\"))"
   ]
  },
  {
   "cell_type": "markdown",
   "id": "104",
   "metadata": {
    "papermill": {
     "duration": 0.03196,
     "end_time": "2024-10-04T19:19:59.407422",
     "exception": false,
     "start_time": "2024-10-04T19:19:59.375462",
     "status": "completed"
    },
    "tags": []
   },
   "source": [
    "#### By link"
   ]
  },
  {
   "cell_type": "code",
   "execution_count": null,
   "id": "105",
   "metadata": {
    "papermill": {
     "duration": 0.042252,
     "end_time": "2024-10-04T19:19:59.482394",
     "exception": false,
     "start_time": "2024-10-04T19:19:59.440142",
     "status": "completed"
    },
    "tags": []
   },
   "outputs": [],
   "source": [
    "arrow_per_link = monster_df[[\"Link Arrows\", \"Link\"]].explode(\"Link Arrows\").dropna()\n",
    "arrow_crosstab = pd.crosstab(arrow_per_link[\"Link Arrows\"], arrow_per_link[\"Link\"])\n",
    "arrow_crosstab"
   ]
  },
  {
   "cell_type": "code",
   "execution_count": null,
   "id": "106",
   "metadata": {
    "papermill": {
     "duration": 0.128337,
     "end_time": "2024-10-04T19:19:59.643616",
     "exception": false,
     "start_time": "2024-10-04T19:19:59.515279",
     "status": "completed"
    },
    "tags": []
   },
   "outputs": [],
   "source": [
    "plt.figure(figsize=(10, 6))\n",
    "sns.heatmap(\n",
    "    arrow_crosstab[arrow_crosstab > 0].T,\n",
    "    annot=True,\n",
    "    fmt=\"g\",\n",
    "    cmap=\"viridis\",\n",
    "    square=True,\n",
    "    norm=plot.LogNorm(),\n",
    ")\n",
    "plt.show()"
   ]
  },
  {
   "cell_type": "markdown",
   "id": "107",
   "metadata": {
    "papermill": {
     "duration": 0.032709,
     "end_time": "2024-10-04T19:19:59.708325",
     "exception": false,
     "start_time": "2024-10-04T19:19:59.675616",
     "status": "completed"
    },
    "tags": []
   },
   "source": [
    "## Spell & Trap"
   ]
  },
  {
   "cell_type": "markdown",
   "id": "108",
   "metadata": {
    "papermill": {
     "duration": 0.062312,
     "end_time": "2024-10-04T19:19:59.856072",
     "exception": false,
     "start_time": "2024-10-04T19:19:59.793760",
     "status": "completed"
    },
    "tags": []
   },
   "source": [
    "### Properties"
   ]
  },
  {
   "cell_type": "code",
   "execution_count": null,
   "id": "109",
   "metadata": {
    "papermill": {
     "duration": 0.044116,
     "end_time": "2024-10-04T19:19:59.950715",
     "exception": false,
     "start_time": "2024-10-04T19:19:59.906599",
     "status": "completed"
    },
    "tags": []
   },
   "outputs": [],
   "source": [
    "print(\"Total number of properties:\", st_df[\"Property\"].nunique())"
   ]
  },
  {
   "cell_type": "code",
   "execution_count": null,
   "id": "110",
   "metadata": {
    "papermill": {
     "duration": 0.047165,
     "end_time": "2024-10-04T19:20:00.077299",
     "exception": false,
     "start_time": "2024-10-04T19:20:00.030134",
     "status": "completed"
    },
    "tags": []
   },
   "outputs": [],
   "source": [
    "st_df.drop(columns=[\"Card type\", \"Page name\", \"Page URL\"]).groupby(\"Property\").nunique()"
   ]
  },
  {
   "cell_type": "code",
   "execution_count": null,
   "id": "111",
   "metadata": {
    "papermill": {
     "duration": 0.16519,
     "end_time": "2024-10-04T19:20:00.276021",
     "exception": false,
     "start_time": "2024-10-04T19:20:00.110831",
     "status": "completed"
    },
    "tags": []
   },
   "outputs": [],
   "source": [
    "st_colors = [plot.colors_dict[i] for i in cards_df[[\"Card type\", \"Property\"]].value_counts().index.get_level_values(0)]\n",
    "st_df[\"Property\"].value_counts().plot.bar(figsize=(18, 6), grid=True, rot=45, color=st_colors)\n",
    "plt.show()"
   ]
  },
  {
   "cell_type": "markdown",
   "id": "112",
   "metadata": {
    "papermill": {
     "duration": 0.037354,
     "end_time": "2024-10-04T19:20:00.401023",
     "exception": false,
     "start_time": "2024-10-04T19:20:00.363669",
     "status": "completed"
    },
    "tags": []
   },
   "source": [
    "## Effect type"
   ]
  },
  {
   "cell_type": "code",
   "execution_count": null,
   "id": "113",
   "metadata": {
    "papermill": {
     "duration": 0.046807,
     "end_time": "2024-10-04T19:20:00.483684",
     "exception": false,
     "start_time": "2024-10-04T19:20:00.436877",
     "status": "completed"
    },
    "tags": []
   },
   "outputs": [],
   "source": [
    "print(\"Total number of effect types:\", cards_df[\"Effect type\"].explode().nunique())"
   ]
  },
  {
   "cell_type": "code",
   "execution_count": null,
   "id": "114",
   "metadata": {
    "papermill": {
     "duration": 0.099074,
     "end_time": "2024-10-04T19:20:00.616144",
     "exception": false,
     "start_time": "2024-10-04T19:20:00.517070",
     "status": "completed"
    },
    "tags": []
   },
   "outputs": [],
   "source": [
    "cards_df.explode(\"Effect type\").groupby(\"Effect type\").nunique()"
   ]
  },
  {
   "cell_type": "markdown",
   "id": "115",
   "metadata": {
    "papermill": {
     "duration": 0.033735,
     "end_time": "2024-10-04T19:20:00.685560",
     "exception": false,
     "start_time": "2024-10-04T19:20:00.651825",
     "status": "completed"
    },
    "tags": []
   },
   "source": [
    "### Card type discrimination"
   ]
  },
  {
   "cell_type": "code",
   "execution_count": null,
   "id": "116",
   "metadata": {
    "papermill": {
     "duration": 0.057595,
     "end_time": "2024-10-04T19:20:00.825179",
     "exception": false,
     "start_time": "2024-10-04T19:20:00.767584",
     "status": "completed"
    },
    "tags": []
   },
   "outputs": [],
   "source": [
    "type_diff = cards_df[[\"Card type\", \"Effect type\"]].explode(\"Effect type\").value_counts().unstack(0).fillna(0).astype(int)\n",
    "type_diff"
   ]
  },
  {
   "cell_type": "code",
   "execution_count": null,
   "id": "117",
   "metadata": {
    "papermill": {
     "duration": 0.168365,
     "end_time": "2024-10-04T19:20:01.032383",
     "exception": false,
     "start_time": "2024-10-04T19:20:00.864018",
     "status": "completed"
    },
    "tags": []
   },
   "outputs": [],
   "source": [
    "type_diff_colors = {type: plot.colors_dict[type] for type in cards_df[\"Card type\"].dropna().unique()}\n",
    "type_diff.plot.bar(figsize=(18, 6), stacked=True, grid=True, rot=45, color=type_diff_colors)\n",
    "plt.show()"
   ]
  },
  {
   "cell_type": "markdown",
   "id": "118",
   "metadata": {
    "papermill": {
     "duration": 0.037431,
     "end_time": "2024-10-04T19:20:01.105663",
     "exception": false,
     "start_time": "2024-10-04T19:20:01.068232",
     "status": "completed"
    },
    "tags": []
   },
   "source": [
    "## Archseries"
   ]
  },
  {
   "cell_type": "code",
   "execution_count": null,
   "id": "119",
   "metadata": {
    "papermill": {
     "duration": 0.063268,
     "end_time": "2024-10-04T19:20:01.208958",
     "exception": false,
     "start_time": "2024-10-04T19:20:01.145690",
     "status": "completed"
    },
    "tags": []
   },
   "outputs": [],
   "source": [
    "exploded_archseries = cards_df.explode(\"Archseries\")\n",
    "print(\"Total number of Archseries:\", exploded_archseries[\"Archseries\"].nunique())"
   ]
  },
  {
   "cell_type": "code",
   "execution_count": null,
   "id": "120",
   "metadata": {
    "papermill": {
     "duration": 0.071188,
     "end_time": "2024-10-04T19:20:01.316386",
     "exception": false,
     "start_time": "2024-10-04T19:20:01.245198",
     "status": "completed"
    },
    "tags": []
   },
   "outputs": [],
   "source": [
    "exploded_archseries.groupby(\"Archseries\").nunique()"
   ]
  },
  {
   "cell_type": "code",
   "execution_count": null,
   "id": "121",
   "metadata": {
    "papermill": {
     "duration": 1.474408,
     "end_time": "2024-10-04T19:20:02.887504",
     "exception": false,
     "start_time": "2024-10-04T19:20:01.413096",
     "status": "completed"
    },
    "tags": []
   },
   "outputs": [],
   "source": [
    "exploded_archseries[\"Archseries\"].value_counts().plot.barh(figsize=(10, 200), grid=True, title=\"Archtypes/Series\")\n",
    "plt.show()"
   ]
  },
  {
   "cell_type": "markdown",
   "id": "122",
   "metadata": {
    "papermill": {
     "duration": 0.044861,
     "end_time": "2024-10-04T19:20:02.980262",
     "exception": false,
     "start_time": "2024-10-04T19:20:02.935401",
     "status": "completed"
    },
    "tags": []
   },
   "source": [
    "### By card type"
   ]
  },
  {
   "cell_type": "code",
   "execution_count": null,
   "id": "123",
   "metadata": {
    "papermill": {
     "duration": 0.148456,
     "end_time": "2024-10-04T19:20:03.172634",
     "exception": false,
     "start_time": "2024-10-04T19:20:03.024178",
     "status": "completed"
    },
    "tags": []
   },
   "outputs": [],
   "source": [
    "archseries_crosstab = pd.crosstab(exploded_archseries[\"Archseries\"], exploded_archseries[\"Card type\"], margins=True)\n",
    "archseries_crosstab"
   ]
  },
  {
   "cell_type": "markdown",
   "id": "124",
   "metadata": {
    "papermill": {
     "duration": 0.046328,
     "end_time": "2024-10-04T19:20:03.324448",
     "exception": false,
     "start_time": "2024-10-04T19:20:03.278120",
     "status": "completed"
    },
    "tags": []
   },
   "source": [
    "### By primary type"
   ]
  },
  {
   "cell_type": "code",
   "execution_count": null,
   "id": "125",
   "metadata": {
    "papermill": {
     "duration": 0.074645,
     "end_time": "2024-10-04T19:20:03.447461",
     "exception": false,
     "start_time": "2024-10-04T19:20:03.372816",
     "status": "completed"
    },
    "tags": []
   },
   "outputs": [],
   "source": [
    "archseries_crosstab_b = pd.crosstab(exploded_archseries[\"Archseries\"], exploded_archseries[\"Primary type\"], margins=True)\n",
    "archseries_crosstab_b"
   ]
  },
  {
   "cell_type": "markdown",
   "id": "126",
   "metadata": {
    "papermill": {
     "duration": 0.046638,
     "end_time": "2024-10-04T19:20:03.540032",
     "exception": false,
     "start_time": "2024-10-04T19:20:03.493394",
     "status": "completed"
    },
    "tags": []
   },
   "source": [
    "\n",
    "\n",
    "### By secondary type"
   ]
  },
  {
   "cell_type": "code",
   "execution_count": null,
   "id": "127",
   "metadata": {
    "papermill": {
     "duration": 0.078336,
     "end_time": "2024-10-04T19:20:03.709605",
     "exception": false,
     "start_time": "2024-10-04T19:20:03.631269",
     "status": "completed"
    },
    "tags": []
   },
   "outputs": [],
   "source": [
    "exploded_archseries_secondary_type = exploded_archseries[[\"Archseries\", \"Secondary type\"]].explode(\"Secondary type\")\n",
    "archseries_crosstab_c = pd.crosstab(\n",
    "    exploded_archseries_secondary_type[\"Archseries\"],\n",
    "    exploded_archseries_secondary_type[\"Secondary type\"],\n",
    "    margins=True,\n",
    ")\n",
    "archseries_crosstab_c"
   ]
  },
  {
   "cell_type": "markdown",
   "id": "128",
   "metadata": {
    "papermill": {
     "duration": 0.094074,
     "end_time": "2024-10-04T19:20:03.854392",
     "exception": false,
     "start_time": "2024-10-04T19:20:03.760318",
     "status": "completed"
    },
    "tags": []
   },
   "source": [
    "### By monster type"
   ]
  },
  {
   "cell_type": "code",
   "execution_count": null,
   "id": "129",
   "metadata": {
    "papermill": {
     "duration": 0.17249,
     "end_time": "2024-10-04T19:20:04.131778",
     "exception": false,
     "start_time": "2024-10-04T19:20:03.959288",
     "status": "completed"
    },
    "tags": []
   },
   "outputs": [],
   "source": [
    "archseries_crosstab_d = pd.crosstab(exploded_archseries[\"Archseries\"], exploded_archseries[\"Monster type\"], margins=True)\n",
    "archseries_crosstab_d"
   ]
  },
  {
   "cell_type": "markdown",
   "id": "130",
   "metadata": {
    "papermill": {
     "duration": 0.048446,
     "end_time": "2024-10-04T19:20:04.231490",
     "exception": false,
     "start_time": "2024-10-04T19:20:04.183044",
     "status": "completed"
    },
    "tags": []
   },
   "source": [
    "### By property"
   ]
  },
  {
   "cell_type": "code",
   "execution_count": null,
   "id": "131",
   "metadata": {
    "papermill": {
     "duration": 0.068824,
     "end_time": "2024-10-04T19:20:04.344685",
     "exception": false,
     "start_time": "2024-10-04T19:20:04.275861",
     "status": "completed"
    },
    "tags": []
   },
   "outputs": [],
   "source": [
    "archseries_crosstab_e = pd.crosstab(exploded_archseries[\"Archseries\"], exploded_archseries[\"Property\"], margins=True)\n",
    "archseries_crosstab_e"
   ]
  },
  {
   "cell_type": "markdown",
   "id": "132",
   "metadata": {
    "papermill": {
     "duration": 0.043477,
     "end_time": "2024-10-04T19:20:04.432129",
     "exception": false,
     "start_time": "2024-10-04T19:20:04.388652",
     "status": "completed"
    },
    "tags": []
   },
   "source": [
    "## Artworks"
   ]
  },
  {
   "cell_type": "code",
   "execution_count": null,
   "id": "133",
   "metadata": {
    "papermill": {
     "duration": 0.105887,
     "end_time": "2024-10-04T19:20:04.584424",
     "exception": false,
     "start_time": "2024-10-04T19:20:04.478537",
     "status": "completed"
    },
    "tags": []
   },
   "outputs": [],
   "source": [
    "print(\n",
    "    \"Total number of cards with edited or alternate artworks:\",\n",
    "    cards_df[\"Artwork\"].count(),\n",
    ")"
   ]
  },
  {
   "cell_type": "code",
   "execution_count": null,
   "id": "134",
   "metadata": {
    "papermill": {
     "duration": 0.08025,
     "end_time": "2024-10-04T19:20:04.711673",
     "exception": false,
     "start_time": "2024-10-04T19:20:04.631423",
     "status": "completed"
    },
    "tags": []
   },
   "outputs": [],
   "source": [
    "cards_df[[\"Name\", \"Password\", \"TCG status\", \"OCG status\", \"Artwork\"]][cards_df[\"Artwork\"].notna()]"
   ]
  },
  {
   "cell_type": "code",
   "execution_count": null,
   "id": "135",
   "metadata": {
    "papermill": {
     "duration": 0.125163,
     "end_time": "2024-10-04T19:20:04.931053",
     "exception": false,
     "start_time": "2024-10-04T19:20:04.805890",
     "status": "completed"
    },
    "tags": []
   },
   "outputs": [],
   "source": [
    "artwork_value_counts = cards_df[\"Artwork\"].value_counts()\n",
    "plt.figure(figsize=(20, 8))\n",
    "plt.title(\"Artworks\")\n",
    "plot.venn2(\n",
    "    subsets=(\n",
    "        artwork_value_counts[(\"Alternate\",)],\n",
    "        artwork_value_counts[(\"Edited\",)],\n",
    "        artwork_value_counts[(\"Alternate\", \"Edited\")],\n",
    "    ),\n",
    "    set_labels=(\"Alternate artwork\", \"Edited artwork\"),\n",
    ")\n",
    "plt.show()"
   ]
  },
  {
   "cell_type": "markdown",
   "id": "136",
   "metadata": {
    "papermill": {
     "duration": 0.130111,
     "end_time": "2024-10-04T19:20:05.110688",
     "exception": false,
     "start_time": "2024-10-04T19:20:04.980577",
     "status": "completed"
    },
    "tags": []
   },
   "source": [
    "### By card type"
   ]
  },
  {
   "cell_type": "code",
   "execution_count": null,
   "id": "137",
   "metadata": {
    "papermill": {
     "duration": 0.101767,
     "end_time": "2024-10-04T19:20:05.336193",
     "exception": false,
     "start_time": "2024-10-04T19:20:05.234426",
     "status": "completed"
    },
    "tags": []
   },
   "outputs": [],
   "source": [
    "artwork_crosstab = pd.crosstab(cards_df[\"Artwork\"], cards_df[\"Card type\"])\n",
    "artwork_crosstab"
   ]
  },
  {
   "cell_type": "markdown",
   "id": "138",
   "metadata": {
    "papermill": {
     "duration": 0.047879,
     "end_time": "2024-10-04T19:20:05.469934",
     "exception": false,
     "start_time": "2024-10-04T19:20:05.422055",
     "status": "completed"
    },
    "tags": []
   },
   "source": [
    "### By primary type"
   ]
  },
  {
   "cell_type": "code",
   "execution_count": null,
   "id": "139",
   "metadata": {
    "papermill": {
     "duration": 0.056004,
     "end_time": "2024-10-04T19:20:05.643955",
     "exception": false,
     "start_time": "2024-10-04T19:20:05.587951",
     "status": "completed"
    },
    "tags": []
   },
   "outputs": [],
   "source": [
    "artwork_crosstab_b = pd.crosstab(cards_df[\"Artwork\"], cards_df[\"Primary type\"])\n",
    "artwork_crosstab_b"
   ]
  },
  {
   "cell_type": "markdown",
   "id": "140",
   "metadata": {
    "papermill": {
     "duration": 0.051882,
     "end_time": "2024-10-04T19:20:05.796784",
     "exception": false,
     "start_time": "2024-10-04T19:20:05.744902",
     "status": "completed"
    },
    "tags": []
   },
   "source": [
    "More granularity is unnecessary"
   ]
  },
  {
   "cell_type": "markdown",
   "id": "141",
   "metadata": {
    "papermill": {
     "duration": 0.052619,
     "end_time": "2024-10-04T19:20:05.955205",
     "exception": false,
     "start_time": "2024-10-04T19:20:05.902586",
     "status": "completed"
    },
    "tags": []
   },
   "source": [
    "## Errata"
   ]
  },
  {
   "cell_type": "code",
   "execution_count": null,
   "id": "142",
   "metadata": {
    "papermill": {
     "duration": 0.09542,
     "end_time": "2024-10-04T19:20:06.152446",
     "exception": false,
     "start_time": "2024-10-04T19:20:06.057026",
     "status": "completed"
    },
    "tags": []
   },
   "outputs": [],
   "source": [
    "print(\"Total number of cards with errata:\", cards_df[\"Errata\"].count())"
   ]
  },
  {
   "cell_type": "code",
   "execution_count": null,
   "id": "143",
   "metadata": {
    "papermill": {
     "duration": 0.18548,
     "end_time": "2024-10-04T19:20:06.385328",
     "exception": false,
     "start_time": "2024-10-04T19:20:06.199848",
     "status": "completed"
    },
    "tags": []
   },
   "outputs": [],
   "source": [
    "cards_df[[\"Name\", \"Password\", \"TCG status\", \"OCG status\", \"Errata\"]][cards_df[\"Errata\"].notna()]"
   ]
  },
  {
   "cell_type": "code",
   "execution_count": null,
   "id": "144",
   "metadata": {
    "papermill": {
     "duration": 0.092635,
     "end_time": "2024-10-04T19:20:06.605509",
     "exception": false,
     "start_time": "2024-10-04T19:20:06.512874",
     "status": "completed"
    },
    "tags": []
   },
   "outputs": [],
   "source": [
    "errata_counts = cards_df.groupby(\"Errata\").nunique().sort_values(\"Name\", ascending=False)\n",
    "errata_counts"
   ]
  },
  {
   "cell_type": "code",
   "execution_count": null,
   "id": "145",
   "metadata": {
    "papermill": {
     "duration": 0.079824,
     "end_time": "2024-10-04T19:20:06.735066",
     "exception": false,
     "start_time": "2024-10-04T19:20:06.655242",
     "status": "completed"
    },
    "tags": []
   },
   "outputs": [],
   "source": [
    "plt.figure(figsize=(20, 8))\n",
    "plt.title(\"Errata\")\n",
    "sorted_errata_name_counts = errata_counts[\"Name\"].drop((\"Any\",)).sort_index(key=lambda x: [(len(i), i) for i in x])\n",
    "plot.venn2(\n",
    "    subsets=sorted_errata_name_counts,\n",
    "    set_labels=sorted_errata_name_counts.index[:-1].str[0],\n",
    ")\n",
    "plt.show()"
   ]
  },
  {
   "cell_type": "markdown",
   "id": "146",
   "metadata": {
    "papermill": {
     "duration": 0.102556,
     "end_time": "2024-10-04T19:20:06.886401",
     "exception": false,
     "start_time": "2024-10-04T19:20:06.783845",
     "status": "completed"
    },
    "tags": []
   },
   "source": [
    "### By card type"
   ]
  },
  {
   "cell_type": "code",
   "execution_count": null,
   "id": "147",
   "metadata": {
    "papermill": {
     "duration": 0.108503,
     "end_time": "2024-10-04T19:20:07.058990",
     "exception": false,
     "start_time": "2024-10-04T19:20:06.950487",
     "status": "completed"
    },
    "tags": []
   },
   "outputs": [],
   "source": [
    "errata_crosstab = pd.crosstab(cards_df[\"Errata\"], cards_df[\"Card type\"])\n",
    "errata_crosstab.sort_values(by=errata_crosstab.columns.tolist(), ascending=False)"
   ]
  },
  {
   "cell_type": "markdown",
   "id": "148",
   "metadata": {
    "papermill": {
     "duration": 0.047882,
     "end_time": "2024-10-04T19:20:07.159058",
     "exception": false,
     "start_time": "2024-10-04T19:20:07.111176",
     "status": "completed"
    },
    "tags": []
   },
   "source": [
    "### By primary type"
   ]
  },
  {
   "cell_type": "code",
   "execution_count": null,
   "id": "149",
   "metadata": {
    "papermill": {
     "duration": 0.061566,
     "end_time": "2024-10-04T19:20:07.268857",
     "exception": false,
     "start_time": "2024-10-04T19:20:07.207291",
     "status": "completed"
    },
    "tags": []
   },
   "outputs": [],
   "source": [
    "errata_crosstab_b = pd.crosstab(cards_df[\"Errata\"], cards_df[\"Primary type\"])\n",
    "errata_crosstab_b.sort_values(by=errata_crosstab_b.columns.tolist(), ascending=False)"
   ]
  },
  {
   "cell_type": "markdown",
   "id": "150",
   "metadata": {
    "papermill": {
     "duration": 0.047084,
     "end_time": "2024-10-04T19:20:07.366573",
     "exception": false,
     "start_time": "2024-10-04T19:20:07.319489",
     "status": "completed"
    },
    "tags": []
   },
   "source": [
    "More granularity is unnecessary"
   ]
  },
  {
   "cell_type": "markdown",
   "id": "151",
   "metadata": {
    "papermill": {
     "duration": 0.06559,
     "end_time": "2024-10-04T19:20:07.481061",
     "exception": false,
     "start_time": "2024-10-04T19:20:07.415471",
     "status": "completed"
    },
    "tags": []
   },
   "source": [
    "### By artwork"
   ]
  },
  {
   "cell_type": "code",
   "execution_count": null,
   "id": "152",
   "metadata": {
    "papermill": {
     "duration": 0.060019,
     "end_time": "2024-10-04T19:20:07.637058",
     "exception": false,
     "start_time": "2024-10-04T19:20:07.577039",
     "status": "completed"
    },
    "tags": []
   },
   "outputs": [],
   "source": [
    "errata_crosstab_c = pd.crosstab(cards_df[\"Artwork\"], cards_df[\"Errata\"])\n",
    "errata_crosstab_c.sort_values(by=errata_crosstab_c.columns.tolist(), ascending=False)"
   ]
  },
  {
   "cell_type": "markdown",
   "id": "153",
   "metadata": {
    "papermill": {
     "duration": 0.047745,
     "end_time": "2024-10-04T19:20:07.736451",
     "exception": false,
     "start_time": "2024-10-04T19:20:07.688706",
     "status": "completed"
    },
    "tags": []
   },
   "source": [
    "## TCG & OCG status"
   ]
  },
  {
   "cell_type": "markdown",
   "id": "154",
   "metadata": {
    "papermill": {
     "duration": 0.060904,
     "end_time": "2024-10-04T19:20:07.891157",
     "exception": false,
     "start_time": "2024-10-04T19:20:07.830253",
     "status": "completed"
    },
    "tags": []
   },
   "source": [
    "### TGC status"
   ]
  },
  {
   "cell_type": "code",
   "execution_count": null,
   "id": "155",
   "metadata": {
    "papermill": {
     "duration": 0.108316,
     "end_time": "2024-10-04T19:20:08.060611",
     "exception": false,
     "start_time": "2024-10-04T19:20:07.952295",
     "status": "completed"
    },
    "tags": []
   },
   "outputs": [],
   "source": [
    "print(\"Total number of TCG status:\", cards_df[\"TCG status\"].nunique())"
   ]
  },
  {
   "cell_type": "code",
   "execution_count": null,
   "id": "156",
   "metadata": {
    "papermill": {
     "duration": 0.181557,
     "end_time": "2024-10-04T19:20:08.309633",
     "exception": false,
     "start_time": "2024-10-04T19:20:08.128076",
     "status": "completed"
    },
    "tags": []
   },
   "outputs": [],
   "source": [
    "cards_df.drop(columns=[\"Page name\", \"Page URL\"]).groupby(\"TCG status\", dropna=False).nunique()"
   ]
  },
  {
   "cell_type": "code",
   "execution_count": null,
   "id": "157",
   "metadata": {
    "papermill": {
     "duration": 0.118591,
     "end_time": "2024-10-04T19:20:08.485107",
     "exception": false,
     "start_time": "2024-10-04T19:20:08.366516",
     "status": "completed"
    },
    "tags": []
   },
   "outputs": [],
   "source": [
    "cards_df[\"TCG status\"].value_counts(dropna=False).plot.bar(figsize=(18, 6), logy=True, grid=True, rot=45)\n",
    "plt.show()"
   ]
  },
  {
   "cell_type": "markdown",
   "id": "158",
   "metadata": {
    "papermill": {
     "duration": 0.048039,
     "end_time": "2024-10-04T19:20:08.579587",
     "exception": false,
     "start_time": "2024-10-04T19:20:08.531548",
     "status": "completed"
    },
    "tags": []
   },
   "source": [
    "#### By card type"
   ]
  },
  {
   "cell_type": "code",
   "execution_count": null,
   "id": "159",
   "metadata": {
    "papermill": {
     "duration": 0.055275,
     "end_time": "2024-10-04T19:20:08.687492",
     "exception": false,
     "start_time": "2024-10-04T19:20:08.632217",
     "status": "completed"
    },
    "tags": []
   },
   "outputs": [],
   "source": [
    "# Remove unlimited\n",
    "tcg_crosstab = pd.crosstab(cards_df[\"Card type\"], cards_df[\"TCG status\"]).drop([\"Unlimited\"], axis=1)\n",
    "tcg_crosstab"
   ]
  },
  {
   "cell_type": "code",
   "execution_count": null,
   "id": "160",
   "metadata": {
    "papermill": {
     "duration": 0.188448,
     "end_time": "2024-10-04T19:20:08.924318",
     "exception": false,
     "start_time": "2024-10-04T19:20:08.735870",
     "status": "completed"
    },
    "tags": []
   },
   "outputs": [],
   "source": [
    "plt.figure(figsize=(12, 6))\n",
    "sns.heatmap(\n",
    "    tcg_crosstab[tcg_crosstab > 0],\n",
    "    annot=True,\n",
    "    fmt=\"g\",\n",
    "    cmap=\"viridis\",\n",
    "    norm=plot.LogNorm(),\n",
    ")\n",
    "plt.show()"
   ]
  },
  {
   "cell_type": "markdown",
   "id": "161",
   "metadata": {
    "papermill": {
     "duration": 0.049611,
     "end_time": "2024-10-04T19:20:09.025633",
     "exception": false,
     "start_time": "2024-10-04T19:20:08.976022",
     "status": "completed"
    },
    "tags": []
   },
   "source": [
    "#### By monster type"
   ]
  },
  {
   "cell_type": "code",
   "execution_count": null,
   "id": "162",
   "metadata": {
    "papermill": {
     "duration": 0.057983,
     "end_time": "2024-10-04T19:20:09.131679",
     "exception": false,
     "start_time": "2024-10-04T19:20:09.073696",
     "status": "completed"
    },
    "tags": []
   },
   "outputs": [],
   "source": [
    "# Remove unlimited\n",
    "tcg_crosstab_b = pd.crosstab(cards_df[\"Monster type\"], cards_df[\"TCG status\"]).drop([\"Unlimited\"], axis=1)\n",
    "tcg_crosstab_b"
   ]
  },
  {
   "cell_type": "code",
   "execution_count": null,
   "id": "163",
   "metadata": {
    "papermill": {
     "duration": 0.352096,
     "end_time": "2024-10-04T19:20:09.532785",
     "exception": false,
     "start_time": "2024-10-04T19:20:09.180689",
     "status": "completed"
    },
    "tags": []
   },
   "outputs": [],
   "source": [
    "plt.figure(figsize=(20, 5))\n",
    "sns.heatmap(\n",
    "    tcg_crosstab_b[tcg_crosstab_b > 0].T,\n",
    "    annot=True,\n",
    "    fmt=\"g\",\n",
    "    cmap=\"viridis\",\n",
    "    square=True,\n",
    ")\n",
    "plt.show()"
   ]
  },
  {
   "cell_type": "markdown",
   "id": "164",
   "metadata": {
    "papermill": {
     "duration": 0.048511,
     "end_time": "2024-10-04T19:20:09.629703",
     "exception": false,
     "start_time": "2024-10-04T19:20:09.581192",
     "status": "completed"
    },
    "tags": []
   },
   "source": [
    "#### By archseries"
   ]
  },
  {
   "cell_type": "code",
   "execution_count": null,
   "id": "165",
   "metadata": {
    "papermill": {
     "duration": 0.067447,
     "end_time": "2024-10-04T19:20:09.745145",
     "exception": false,
     "start_time": "2024-10-04T19:20:09.677698",
     "status": "completed"
    },
    "tags": []
   },
   "outputs": [],
   "source": [
    "# Remove unlimited\n",
    "tcg_crosstab_c = pd.crosstab(\n",
    "    exploded_archseries[\"Archseries\"].where(exploded_archseries[\"OCG status\"] != \"Unlimited\"),\n",
    "    exploded_archseries[\"TCG status\"],\n",
    "    margins=True,\n",
    ")\n",
    "tcg_crosstab_c"
   ]
  },
  {
   "cell_type": "markdown",
   "id": "166",
   "metadata": {
    "papermill": {
     "duration": 0.118863,
     "end_time": "2024-10-04T19:20:09.919296",
     "exception": false,
     "start_time": "2024-10-04T19:20:09.800433",
     "status": "completed"
    },
    "tags": []
   },
   "source": [
    "### OCG status"
   ]
  },
  {
   "cell_type": "code",
   "execution_count": null,
   "id": "167",
   "metadata": {
    "papermill": {
     "duration": 0.052351,
     "end_time": "2024-10-04T19:20:10.034256",
     "exception": false,
     "start_time": "2024-10-04T19:20:09.981905",
     "status": "completed"
    },
    "tags": []
   },
   "outputs": [],
   "source": [
    "print(\"Total number of OCG status:\", cards_df[\"OCG status\"].nunique())"
   ]
  },
  {
   "cell_type": "code",
   "execution_count": null,
   "id": "168",
   "metadata": {
    "papermill": {
     "duration": 0.128926,
     "end_time": "2024-10-04T19:20:10.211818",
     "exception": false,
     "start_time": "2024-10-04T19:20:10.082892",
     "status": "completed"
    },
    "tags": []
   },
   "outputs": [],
   "source": [
    "cards_df.drop(columns=[\"Page name\", \"Page URL\"]).groupby(\"OCG status\", dropna=False).nunique()"
   ]
  },
  {
   "cell_type": "code",
   "execution_count": null,
   "id": "169",
   "metadata": {
    "papermill": {
     "duration": 0.165146,
     "end_time": "2024-10-04T19:20:10.482735",
     "exception": false,
     "start_time": "2024-10-04T19:20:10.317589",
     "status": "completed"
    },
    "tags": []
   },
   "outputs": [],
   "source": [
    "cards_df[\"OCG status\"].value_counts(dropna=False).plot.bar(figsize=(18, 6), logy=True, grid=True, rot=45)\n",
    "plt.show()"
   ]
  },
  {
   "cell_type": "markdown",
   "id": "170",
   "metadata": {
    "papermill": {
     "duration": 0.049323,
     "end_time": "2024-10-04T19:20:10.648634",
     "exception": false,
     "start_time": "2024-10-04T19:20:10.599311",
     "status": "completed"
    },
    "tags": []
   },
   "source": [
    "#### By card type"
   ]
  },
  {
   "cell_type": "code",
   "execution_count": null,
   "id": "171",
   "metadata": {
    "papermill": {
     "duration": 0.059241,
     "end_time": "2024-10-04T19:20:10.760060",
     "exception": false,
     "start_time": "2024-10-04T19:20:10.700819",
     "status": "completed"
    },
    "tags": []
   },
   "outputs": [],
   "source": [
    "# Remove unlimited\n",
    "ocg_crosstab = pd.crosstab(cards_df[\"Card type\"], cards_df[\"OCG status\"]).drop([\"Unlimited\"], axis=1)\n",
    "ocg_crosstab"
   ]
  },
  {
   "cell_type": "code",
   "execution_count": null,
   "id": "172",
   "metadata": {
    "papermill": {
     "duration": 0.158797,
     "end_time": "2024-10-04T19:20:10.968805",
     "exception": false,
     "start_time": "2024-10-04T19:20:10.810008",
     "status": "completed"
    },
    "tags": []
   },
   "outputs": [],
   "source": [
    "plt.figure(figsize=(12, 6))\n",
    "sns.heatmap(ocg_crosstab[ocg_crosstab > 0], annot=True, fmt=\"g\", cmap=\"viridis\")\n",
    "plt.show()"
   ]
  },
  {
   "cell_type": "markdown",
   "id": "173",
   "metadata": {
    "papermill": {
     "duration": 0.054639,
     "end_time": "2024-10-04T19:20:11.129875",
     "exception": false,
     "start_time": "2024-10-04T19:20:11.075236",
     "status": "completed"
    },
    "tags": []
   },
   "source": [
    "#### By monster type"
   ]
  },
  {
   "cell_type": "code",
   "execution_count": null,
   "id": "174",
   "metadata": {
    "papermill": {
     "duration": 0.061617,
     "end_time": "2024-10-04T19:20:11.240022",
     "exception": false,
     "start_time": "2024-10-04T19:20:11.178405",
     "status": "completed"
    },
    "tags": []
   },
   "outputs": [],
   "source": [
    "ocg_crosstab_b = pd.crosstab(cards_df[\"Monster type\"], cards_df[\"OCG status\"]).drop([\"Unlimited\"], axis=1)\n",
    "ocg_crosstab_b"
   ]
  },
  {
   "cell_type": "code",
   "execution_count": null,
   "id": "175",
   "metadata": {
    "papermill": {
     "duration": 0.259046,
     "end_time": "2024-10-04T19:20:11.599436",
     "exception": false,
     "start_time": "2024-10-04T19:20:11.340390",
     "status": "completed"
    },
    "tags": []
   },
   "outputs": [],
   "source": [
    "plt.figure(figsize=(20, 5))\n",
    "sns.heatmap(\n",
    "    ocg_crosstab_b[ocg_crosstab_b > 0].T,\n",
    "    annot=True,\n",
    "    fmt=\"g\",\n",
    "    cmap=\"viridis\",\n",
    "    square=True,\n",
    ")\n",
    "plt.show()"
   ]
  },
  {
   "cell_type": "markdown",
   "id": "176",
   "metadata": {
    "papermill": {
     "duration": 0.049889,
     "end_time": "2024-10-04T19:20:11.706163",
     "exception": false,
     "start_time": "2024-10-04T19:20:11.656274",
     "status": "completed"
    },
    "tags": []
   },
   "source": [
    "#### By archseries"
   ]
  },
  {
   "cell_type": "code",
   "execution_count": null,
   "id": "177",
   "metadata": {
    "papermill": {
     "duration": 0.064596,
     "end_time": "2024-10-04T19:20:11.820155",
     "exception": false,
     "start_time": "2024-10-04T19:20:11.755559",
     "status": "completed"
    },
    "tags": []
   },
   "outputs": [],
   "source": [
    "# Remove unlimited\n",
    "ocg_crosstab_c = pd.crosstab(\n",
    "    exploded_archseries[\"Archseries\"].where(exploded_archseries[\"OCG status\"] != \"Unlimited\"),\n",
    "    exploded_archseries[\"OCG status\"],\n",
    "    margins=True,\n",
    ")\n",
    "ocg_crosstab_c"
   ]
  },
  {
   "cell_type": "markdown",
   "id": "178",
   "metadata": {
    "papermill": {
     "duration": 0.062177,
     "end_time": "2024-10-04T19:20:11.985940",
     "exception": false,
     "start_time": "2024-10-04T19:20:11.923763",
     "status": "completed"
    },
    "tags": []
   },
   "source": [
    "### TCG vs. OCG status"
   ]
  },
  {
   "cell_type": "code",
   "execution_count": null,
   "id": "179",
   "metadata": {
    "papermill": {
     "duration": 0.061494,
     "end_time": "2024-10-04T19:20:12.206226",
     "exception": false,
     "start_time": "2024-10-04T19:20:12.144732",
     "status": "completed"
    },
    "tags": []
   },
   "outputs": [],
   "source": [
    "cg_crosstab = pd.crosstab(cards_df[\"OCG status\"], cards_df[\"TCG status\"], dropna=False, margins=False)\n",
    "cg_crosstab"
   ]
  },
  {
   "cell_type": "code",
   "execution_count": null,
   "id": "180",
   "metadata": {
    "papermill": {
     "duration": 0.280222,
     "end_time": "2024-10-04T19:20:12.539161",
     "exception": false,
     "start_time": "2024-10-04T19:20:12.258939",
     "status": "completed"
    },
    "tags": []
   },
   "outputs": [],
   "source": [
    "plt.figure(figsize=(10, 8))\n",
    "sns.heatmap(\n",
    "    cg_crosstab[cg_crosstab > 0],\n",
    "    annot=True,\n",
    "    fmt=\"g\",\n",
    "    cmap=\"viridis\",\n",
    "    square=True,\n",
    "    norm=plot.LogNorm(),\n",
    ")\n",
    "plt.show()"
   ]
  },
  {
   "cell_type": "markdown",
   "id": "181",
   "metadata": {
    "papermill": {
     "duration": 0.080721,
     "end_time": "2024-10-04T19:20:12.670775",
     "exception": false,
     "start_time": "2024-10-04T19:20:12.590054",
     "status": "completed"
    },
    "tags": []
   },
   "source": [
    "# Extras"
   ]
  },
  {
   "cell_type": "markdown",
   "id": "182",
   "metadata": {
    "papermill": {
     "duration": 0.103901,
     "end_time": "2024-10-04T19:20:13.655766",
     "exception": false,
     "start_time": "2024-10-04T19:20:13.551865",
     "status": "completed"
    },
    "tags": []
   },
   "source": [
    "## Counters and Tokens"
   ]
  },
  {
   "cell_type": "code",
   "execution_count": null,
   "id": "183",
   "metadata": {
    "papermill": {
     "duration": 0.137261,
     "end_time": "2024-10-04T19:20:13.892157",
     "exception": false,
     "start_time": "2024-10-04T19:20:13.754896",
     "status": "completed"
    },
    "tags": []
   },
   "outputs": [],
   "source": [
    "token_df.dropna(how=\"all\", axis=1)"
   ]
  },
  {
   "cell_type": "markdown",
   "id": "184",
   "metadata": {},
   "source": [
    "## Unusable cards"
   ]
  },
  {
   "cell_type": "code",
   "execution_count": null,
   "id": "185",
   "metadata": {},
   "outputs": [],
   "source": [
    "unusable_df"
   ]
  },
  {
   "cell_type": "markdown",
   "id": "186",
   "metadata": {
    "papermill": {
     "duration": 0.05539,
     "end_time": "2024-10-04T19:20:12.778920",
     "exception": false,
     "start_time": "2024-10-04T19:20:12.723530",
     "status": "completed"
    },
    "tags": []
   },
   "source": [
    "## Multiple secondary types"
   ]
  },
  {
   "cell_type": "code",
   "execution_count": null,
   "id": "187",
   "metadata": {
    "papermill": {
     "duration": 0.121323,
     "end_time": "2024-10-04T19:20:13.006799",
     "exception": false,
     "start_time": "2024-10-04T19:20:12.885476",
     "status": "completed"
    },
    "tags": []
   },
   "outputs": [],
   "source": [
    "cards_df.dropna(subset=\"Secondary type\", axis=0)[[len(x) > 1 for x in cards_df[\"Secondary type\"].dropna()]]"
   ]
  },
  {
   "cell_type": "markdown",
   "id": "188",
   "metadata": {
    "papermill": {
     "duration": 0.105422,
     "end_time": "2024-10-04T19:20:13.211171",
     "exception": false,
     "start_time": "2024-10-04T19:20:13.105749",
     "status": "completed"
    },
    "tags": []
   },
   "source": [
    "## Not yet released"
   ]
  },
  {
   "cell_type": "code",
   "execution_count": null,
   "id": "189",
   "metadata": {
    "papermill": {
     "duration": 0.117826,
     "end_time": "2024-10-04T19:20:13.448284",
     "exception": false,
     "start_time": "2024-10-04T19:20:13.330458",
     "status": "completed"
    },
    "tags": []
   },
   "outputs": [],
   "source": [
    "full_df.loc[full_df[\"OCG status\"] == \"Not yet released\"].loc[full_df[\"TCG status\"] == \"Not yet released\"]"
   ]
  },
  {
   "cell_type": "markdown",
   "id": "190",
   "metadata": {
    "papermill": {
     "duration": 0.10459,
     "end_time": "2024-10-04T19:20:14.106045",
     "exception": false,
     "start_time": "2024-10-04T19:20:14.001455",
     "status": "completed"
    },
    "tags": []
   },
   "source": [
    "## Page name differs from card name"
   ]
  },
  {
   "cell_type": "code",
   "execution_count": null,
   "id": "191",
   "metadata": {
    "papermill": {
     "duration": 0.122639,
     "end_time": "2024-10-04T19:20:14.325190",
     "exception": false,
     "start_time": "2024-10-04T19:20:14.202551",
     "status": "completed"
    },
    "tags": []
   },
   "outputs": [],
   "source": [
    "full_df[full_df[\"Name\"] != full_df[\"Page name\"]]"
   ]
  },
  {
   "cell_type": "markdown",
   "id": "192",
   "metadata": {
    "papermill": {
     "duration": 0.066766,
     "end_time": "2024-10-04T19:20:14.513304",
     "exception": false,
     "start_time": "2024-10-04T19:20:14.446538",
     "status": "completed"
    },
    "tags": []
   },
   "source": [
    "# Epilogue"
   ]
  },
  {
   "cell_type": "code",
   "execution_count": null,
   "id": "193",
   "metadata": {
    "papermill": {
     "duration": 0.331777,
     "end_time": "2024-10-04T19:20:14.905434",
     "exception": false,
     "start_time": "2024-10-04T19:20:14.573657",
     "status": "completed"
    },
    "tags": []
   },
   "outputs": [],
   "source": [
    "benchmark(report=\"cards\", timestamp=timestamp)"
   ]
  },
  {
   "cell_type": "code",
   "execution_count": null,
   "id": "194",
   "metadata": {
    "papermill": {
     "duration": 0.057647,
     "end_time": "2024-10-04T19:20:15.014605",
     "exception": false,
     "start_time": "2024-10-04T19:20:14.956958",
     "status": "completed"
    },
    "tags": []
   },
   "outputs": [],
   "source": [
    "footer(timestamp)"
   ]
  },
  {
   "cell_type": "markdown",
   "id": "195",
   "metadata": {
    "papermill": {
     "duration": 0.053854,
     "end_time": "2024-10-04T19:20:15.120400",
     "exception": false,
     "start_time": "2024-10-04T19:20:15.066546",
     "status": "completed"
    },
    "tags": []
   },
   "source": [
    "## HTML export"
   ]
  },
  {
   "cell_type": "code",
   "execution_count": null,
   "id": "196",
   "metadata": {
    "papermill": {
     "duration": 0.0597,
     "end_time": "2024-10-04T19:20:15.233924",
     "exception": false,
     "start_time": "2024-10-04T19:20:15.174224",
     "status": "completed"
    },
    "tags": []
   },
   "outputs": [],
   "source": [
    "# Save notebook on disck before generating HTML report\n",
    "save_notebook()"
   ]
  },
  {
   "cell_type": "code",
   "execution_count": null,
   "id": "197",
   "metadata": {
    "papermill": {
     "duration": 0.790858,
     "end_time": "2024-10-04T19:20:16.079408",
     "exception": false,
     "start_time": "2024-10-04T19:20:15.288550",
     "status": "completed"
    },
    "tags": []
   },
   "outputs": [],
   "source": [
    "export_notebook(dirs.NOTEBOOKS.user / \"Cards.ipynb\")"
   ]
  },
  {
   "cell_type": "markdown",
   "id": "198",
   "metadata": {
    "papermill": {
     "duration": 0.050676,
     "end_time": "2024-10-04T19:20:16.181034",
     "exception": false,
     "start_time": "2024-10-04T19:20:16.130358",
     "status": "completed"
    },
    "tags": [
     "exclude"
    ]
   },
   "source": [
    "## Git"
   ]
  },
  {
   "cell_type": "code",
   "execution_count": null,
   "id": "199",
   "metadata": {
    "papermill": {
     "duration": 0.888161,
     "end_time": "2024-10-04T19:20:17.156840",
     "exception": false,
     "start_time": "2024-10-04T19:20:16.268679",
     "status": "completed"
    },
    "tags": [
     "exclude"
    ]
   },
   "outputs": [],
   "source": [
    "git.commit(\"*[Cc]ards*\", f\"Cards update - {timestamp.isoformat()}\")"
   ]
  }
 ],
 "metadata": {
  "kernelspec": {
   "display_name": "venv",
   "language": "python",
   "name": "python3"
  },
  "language_info": {
   "codemirror_mode": {
    "name": "ipython",
    "version": 3
   },
   "file_extension": ".py",
   "mimetype": "text/x-python",
   "name": "python",
   "nbconvert_exporter": "python",
   "pygments_lexer": "ipython3",
   "version": "3.12.6"
  },
  "papermill": {
   "default_parameters": {},
   "duration": 99.227193,
   "end_time": "2024-10-04T19:20:19.826031",
   "environment_variables": {},
   "exception": null,
   "input_path": "/Users/Guigoruiz1/Documents/Python/Yugiquery/notebooks/Cards.ipynb",
   "output_path": "/Users/Guigoruiz1/Documents/Python/Yugiquery/notebooks/Cards.ipynb",
   "parameters": {},
   "start_time": "2024-10-04T19:18:40.598838",
   "version": "2.6.0"
  },
  "toc": {
   "base_numbering": 1,
   "nav_menu": {
    "height": "599px",
    "width": "228px"
   },
   "number_sections": true,
   "sideBar": true,
   "skip_h1_title": false,
   "title_cell": "Table of Contents",
   "title_sidebar": "Contents",
   "toc_cell": true,
   "toc_position": {
    "height": "calc(100% - 180px)",
    "left": "10px",
    "top": "150px",
    "width": "353px"
   },
   "toc_section_display": true,
   "toc_window_display": true
  },
  "toc-autonumbering": false,
  "toc-showcode": false,
  "toc-showmarkdowntxt": false
 },
 "nbformat": 4,
 "nbformat_minor": 5
}
