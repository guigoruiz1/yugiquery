{
 "cells": [
  {
   "cell_type": "code",
   "execution_count": null,
   "id": "0",
   "metadata": {
    "papermill": {
     "duration": 10.451725,
     "end_time": "2024-11-02T05:05:39.877191",
     "exception": false,
     "start_time": "2024-11-02T05:05:29.425466",
     "status": "completed"
    },
    "tags": []
   },
   "outputs": [],
   "source": [
    "from yugiquery import *\n",
    "\n",
    "init_notebook_mode(all_interactive=True)\n",
    "\n",
    "header(\"Cards\")"
   ]
  },
  {
   "cell_type": "markdown",
   "id": "1",
   "metadata": {
    "papermill": {
     "duration": 0.470606,
     "end_time": "2024-11-02T05:05:40.538573",
     "exception": false,
     "start_time": "2024-11-02T05:05:40.067967",
     "status": "completed"
    },
    "tags": []
   },
   "source": [
    "---"
   ]
  },
  {
   "cell_type": "markdown",
   "id": "2",
   "metadata": {
    "papermill": {
     "duration": 0.840376,
     "end_time": "2024-11-02T05:05:41.954148",
     "exception": false,
     "start_time": "2024-11-02T05:05:41.113772",
     "status": "completed"
    },
    "tags": []
   },
   "source": [
    "Table of Contents <a class=\"jp-toc-ignore\"></a>\n",
    "=================\n",
    "* [1 Data aquisition](#data-aquisition)\n",
    "  * [1.1 Fetch online data](#fetch-online-data)\n",
    "  * [1.2 Merge data](#merge-data)\n",
    "* [2 Check changes](#check-changes)\n",
    "  * [2.1 Load previous data](#load-previous-data)\n",
    "  * [2.2 Generate changelog](#generate-changelog)\n",
    "  * [2.3 Save data](#save-data)\n",
    "* [3 Data visualization](#data-visualization)\n",
    "  * [3.1 Full data](#full-data)\n",
    "  * [3.2 Card types](#card-types)\n",
    "  * [3.3 Monsters](#monsters)\n",
    "    * [3.3.1 Attributes](#attributes)\n",
    "    * [3.3.2 Primary types](#primary-types)\n",
    "      * [3.3.2.1 Has effect discrimination](#has-effect-discrimination)\n",
    "      * [3.3.2.2 Is pendulum discrimination](#is-pendulum-discrimination)\n",
    "      * [3.3.2.3 By attribute](#by-attribute)\n",
    "    * [3.3.3 Secondary types](#secondary-types)\n",
    "      * [3.3.3.1 By attribute](#by-attribute)\n",
    "      * [3.3.3.2 By primary type](#by-primary-type)\n",
    "    * [3.3.4 Monster types](#monster-types)\n",
    "      * [3.3.4.1 By Attribute](#by-attribute)\n",
    "      * [3.3.4.2 By primary type](#by-primary-type)\n",
    "      * [3.3.4.3 By secondary type](#by-secondary-type)\n",
    "    * [3.3.5 ATK](#atk)\n",
    "    * [3.3.6 DEF](#def)\n",
    "    * [3.3.7 Level/Rank](#level/rank)\n",
    "      * [3.3.7.1 ATK statistics](#atk-statistics)\n",
    "      * [3.3.7.2 DEF statistics](#def-statistics)\n",
    "    * [3.3.8 Pendulum scale](#pendulum-scale)\n",
    "      * [3.3.8.1 ATK statistics](#atk-statistics)\n",
    "      * [3.3.8.2 DEF statistics](#def-statistics)\n",
    "      * [3.3.8.3 Level/Rank statistics](#level/rank-statistics)\n",
    "    * [3.3.9 Link](#link)\n",
    "      * [3.3.9.1 ATK statistics](#atk-statistics)\n",
    "    * [3.3.10 Link Arrows](#link-arrows)\n",
    "      * [3.3.10.1 By combination](#by-combination)\n",
    "      * [3.3.10.2 By unique](#by-unique)\n",
    "      * [3.3.10.3 By link](#by-link)\n",
    "  * [3.4 Spell & Trap](#spell-&-trap)\n",
    "    * [3.4.1 Properties](#properties)\n",
    "  * [3.5 Effect type](#effect-type)\n",
    "    * [3.5.1 Card type discrimination](#card-type-discrimination)\n",
    "  * [3.6 Archseries](#archseries)\n",
    "    * [3.6.1 By card type](#by-card-type)\n",
    "    * [3.6.2 By primary type](#by-primary-type)\n",
    "    * [3.6.3 By secondary type](#by-secondary-type)\n",
    "    * [3.6.4 By monster type](#by-monster-type)\n",
    "    * [3.6.5 By property](#by-property)\n",
    "  * [3.7 Artworks](#artworks)\n",
    "    * [3.7.1 By card type](#by-card-type)\n",
    "    * [3.7.2 By primary type](#by-primary-type)\n",
    "  * [3.8 Errata](#errata)\n",
    "    * [3.8.1 By card type](#by-card-type)\n",
    "    * [3.8.2 By primary type](#by-primary-type)\n",
    "    * [3.8.3 By artwork](#by-artwork)\n",
    "  * [3.9 TCG & OCG status](#tcg-&-ocg-status)\n",
    "    * [3.9.1 TGC status](#tgc-status)\n",
    "      * [3.9.1.1 By card type](#by-card-type)\n",
    "      * [3.9.1.2 By monster type](#by-monster-type)\n",
    "      * [3.9.1.3 By archseries](#by-archseries)\n",
    "    * [3.9.2 OCG status](#ocg-status)\n",
    "      * [3.9.2.1 By card type](#by-card-type)\n",
    "      * [3.9.2.2 By monster type](#by-monster-type)\n",
    "      * [3.9.2.3 By archseries](#by-archseries)\n",
    "    * [3.9.3 TCG vs. OCG status](#tcg-vs.-ocg-status)\n",
    "* [4 Extras](#extras)\n",
    "  * [4.1 Counters and Tokens](#counters-and-tokens)\n",
    "  * [4.2 Unusable cards](#Unusable-cards)\n",
    "  * [4.3 Multiple secondary types](#multiple-secondary-types)\n",
    "  * [4.4 Not yet released](#not-yet-released)\n",
    "  * [4.5 Page name differs from card name](#page-name-differs-from-card-name)\n",
    "* [5 Epilogue](#epilogue)\n",
    "  * [5.1 HTML export](#html-export)\n",
    "  <!-- * [5.2 Git](#git) -->"
   ]
  },
  {
   "cell_type": "markdown",
   "id": "3",
   "metadata": {
    "papermill": {
     "duration": 0.22004,
     "end_time": "2024-11-02T05:05:42.403530",
     "exception": false,
     "start_time": "2024-11-02T05:05:42.183490",
     "status": "completed"
    },
    "tags": []
   },
   "source": [
    "# Data aquisition"
   ]
  },
  {
   "cell_type": "markdown",
   "id": "4",
   "metadata": {
    "papermill": {
     "duration": 0.419542,
     "end_time": "2024-11-02T05:05:43.143978",
     "exception": false,
     "start_time": "2024-11-02T05:05:42.724436",
     "status": "completed"
    },
    "tags": []
   },
   "source": [
    "## Fetch online data"
   ]
  },
  {
   "cell_type": "code",
   "execution_count": null,
   "id": "5",
   "metadata": {
    "papermill": {
     "duration": 0.208696,
     "end_time": "2024-11-02T05:05:43.635398",
     "exception": false,
     "start_time": "2024-11-02T05:05:43.426702",
     "status": "completed"
    },
    "tags": []
   },
   "outputs": [],
   "source": [
    "# Timestamp\n",
    "timestamp = arrow.utcnow()"
   ]
  },
  {
   "cell_type": "code",
   "execution_count": null,
   "id": "6",
   "metadata": {
    "papermill": {
     "duration": 90.322816,
     "end_time": "2024-11-02T05:07:14.144822",
     "exception": false,
     "start_time": "2024-11-02T05:05:43.822006",
     "status": "completed"
    },
    "tags": []
   },
   "outputs": [],
   "source": [
    "# Fetch Monster\n",
    "monster_df = fetch_monster()"
   ]
  },
  {
   "cell_type": "code",
   "execution_count": null,
   "id": "7",
   "metadata": {
    "papermill": {
     "duration": 44.067358,
     "end_time": "2024-11-02T05:07:58.319633",
     "exception": false,
     "start_time": "2024-11-02T05:07:14.252275",
     "status": "completed"
    },
    "tags": []
   },
   "outputs": [],
   "source": [
    "# Fetch Spell\n",
    "spell_df = fetch_st(st=\"Spell\")\n",
    "\n",
    "# Fetch Trap\n",
    "trap_df = fetch_st(st=\"Trap\")"
   ]
  },
  {
   "cell_type": "code",
   "execution_count": null,
   "id": "8",
   "metadata": {
    "papermill": {
     "duration": 7.18227,
     "end_time": "2024-11-02T05:08:05.711352",
     "exception": false,
     "start_time": "2024-11-02T05:07:58.529082",
     "status": "completed"
    },
    "tags": []
   },
   "outputs": [],
   "source": [
    "# Fetch Token\n",
    "token_df = fetch_token()\n",
    "\n",
    "# Fetch Counter\n",
    "counter_df = fetch_counter()\n",
    "\n",
    "# Fetch errata\n",
    "errata_df = fetch_errata()"
   ]
  },
  {
   "cell_type": "code",
   "execution_count": null,
   "id": "9",
   "metadata": {
    "papermill": {
     "duration": 0.68396,
     "end_time": "2024-11-02T05:08:06.513472",
     "exception": false,
     "start_time": "2024-11-02T05:08:05.829512",
     "status": "completed"
    },
    "tags": []
   },
   "outputs": [],
   "source": [
    "# Fetch unusable\n",
    "unusable_df = fetch_unusable()"
   ]
  },
  {
   "cell_type": "markdown",
   "id": "10",
   "metadata": {
    "papermill": {
     "duration": 0.279295,
     "end_time": "2024-11-02T05:08:06.890657",
     "exception": false,
     "start_time": "2024-11-02T05:08:06.611362",
     "status": "completed"
    },
    "tags": []
   },
   "source": [
    "## Merge data"
   ]
  },
  {
   "cell_type": "code",
   "execution_count": null,
   "id": "11",
   "metadata": {
    "papermill": {
     "duration": 5.680153,
     "end_time": "2024-11-02T05:08:12.671921",
     "exception": false,
     "start_time": "2024-11-02T05:08:06.991768",
     "status": "completed"
    },
    "tags": []
   },
   "outputs": [],
   "source": [
    "# Merge errata\n",
    "monster_df = merge_errata(monster_df, errata_df)\n",
    "spell_df = merge_errata(spell_df, errata_df)\n",
    "trap_df = merge_errata(trap_df, errata_df)\n",
    "token_df = merge_errata(token_df, errata_df)\n",
    "counter_df = merge_errata(counter_df, errata_df)\n",
    "\n",
    "# Add counters to tokens data frame\n",
    "token_df = (\n",
    "    pd.concat([token_df, counter_df], ignore_index=True, axis=0).drop_duplicates().sort_values(\"Name\", ignore_index=True)\n",
    ")\n",
    "\n",
    "# Create combined spell and trap data frame\n",
    "st_df = pd.concat([spell_df, trap_df], ignore_index=True, axis=0).sort_values(\"Name\", ignore_index=True)\n",
    "\n",
    "# Create combined monster, spell and trap data frames\n",
    "cards_df = pd.concat([st_df, monster_df], ignore_index=True, axis=0).sort_values(\"Name\", ignore_index=True)\n",
    "\n",
    "# Create combined data frames with full data\n",
    "full_df = pd.concat([cards_df, token_df, unusable_df], ignore_index=True, axis=0).sort_values(\"Name\", ignore_index=True)\n",
    "\n",
    "print(\"Data merged\")"
   ]
  },
  {
   "cell_type": "markdown",
   "id": "12",
   "metadata": {
    "papermill": {
     "duration": 0.360654,
     "end_time": "2024-11-02T05:08:13.113139",
     "exception": false,
     "start_time": "2024-11-02T05:08:12.752485",
     "status": "completed"
    },
    "tags": []
   },
   "source": [
    "# Check changes"
   ]
  },
  {
   "cell_type": "markdown",
   "id": "13",
   "metadata": {
    "papermill": {
     "duration": 0.076484,
     "end_time": "2024-11-02T05:08:13.573809",
     "exception": false,
     "start_time": "2024-11-02T05:08:13.497325",
     "status": "completed"
    },
    "tags": []
   },
   "source": [
    "## Load previous data"
   ]
  },
  {
   "cell_type": "code",
   "execution_count": null,
   "id": "14",
   "metadata": {
    "papermill": {
     "duration": 1.453763,
     "end_time": "2024-11-02T05:08:15.112073",
     "exception": false,
     "start_time": "2024-11-02T05:08:13.658310",
     "status": "completed"
    },
    "tags": []
   },
   "outputs": [],
   "source": [
    "# Get latest file if exist\n",
    "tuple_cols = [\n",
    "    \"Effect type\",\n",
    "    \"Secondary type\",\n",
    "    \"Link Arrows\",\n",
    "    \"Archseries\",\n",
    "    \"Artwork\",\n",
    "    \"Errata\",\n",
    "]\n",
    "previous_df, previous_ts = load_latest_data(\"cards\", tuple_cols)\n",
    "\n",
    "if previous_df is not None:\n",
    "    previous_df = previous_df.astype(full_df[previous_df.columns.intersection(full_df.columns)].dtypes.to_dict())"
   ]
  },
  {
   "cell_type": "markdown",
   "id": "15",
   "metadata": {
    "papermill": {
     "duration": 0.139862,
     "end_time": "2024-11-02T05:08:15.396311",
     "exception": false,
     "start_time": "2024-11-02T05:08:15.256449",
     "status": "completed"
    },
    "tags": []
   },
   "source": [
    "## Generate changelog"
   ]
  },
  {
   "cell_type": "code",
   "execution_count": null,
   "id": "16",
   "metadata": {
    "papermill": {
     "duration": 1.725068,
     "end_time": "2024-11-02T05:08:17.224822",
     "exception": false,
     "start_time": "2024-11-02T05:08:15.499754",
     "status": "completed"
    },
    "tags": []
   },
   "outputs": [],
   "source": [
    "if previous_df is None:\n",
    "    changelog = None\n",
    "    print(\"Skipped\")\n",
    "else:\n",
    "    changelog = generate_changelog(previous_df, full_df, col=\"Name\")\n",
    "    if not changelog.empty:\n",
    "        display(changelog)\n",
    "        changelog.to_csv(\n",
    "            dirs.DATA / make_filename(report=\"cards\", timestamp=timestamp, previous_timestamp=previous_ts),\n",
    "            index=True,\n",
    "        )\n",
    "        print(\"Changelog saved\")"
   ]
  },
  {
   "cell_type": "markdown",
   "id": "17",
   "metadata": {
    "papermill": {
     "duration": 0.156515,
     "end_time": "2024-11-02T05:08:17.478207",
     "exception": false,
     "start_time": "2024-11-02T05:08:17.321692",
     "status": "completed"
    },
    "tags": []
   },
   "source": [
    "## Save data"
   ]
  },
  {
   "cell_type": "code",
   "execution_count": null,
   "id": "18",
   "metadata": {
    "papermill": {
     "duration": 1.355202,
     "end_time": "2024-11-02T05:08:19.010488",
     "exception": false,
     "start_time": "2024-11-02T05:08:17.655286",
     "status": "completed"
    },
    "tags": []
   },
   "outputs": [],
   "source": [
    "if changelog is not None and changelog.empty:\n",
    "    print(\"No changes. New data not saved\")\n",
    "else:\n",
    "    full_df.to_csv(\n",
    "        dirs.DATA / make_filename(report=\"cards\", timestamp=timestamp),\n",
    "        index=False,\n",
    "    )\n",
    "    print(\"Data saved\")"
   ]
  },
  {
   "cell_type": "markdown",
   "id": "19",
   "metadata": {
    "papermill": {
     "duration": 0.093108,
     "end_time": "2024-11-02T05:08:19.187527",
     "exception": false,
     "start_time": "2024-11-02T05:08:19.094419",
     "status": "completed"
    },
    "tags": []
   },
   "source": [
    "# Data visualization"
   ]
  },
  {
   "cell_type": "markdown",
   "id": "20",
   "metadata": {
    "papermill": {
     "duration": 0.214215,
     "end_time": "2024-11-02T05:08:20.106632",
     "exception": false,
     "start_time": "2024-11-02T05:08:19.892417",
     "status": "completed"
    },
    "tags": []
   },
   "source": [
    "## Full data"
   ]
  },
  {
   "cell_type": "code",
   "execution_count": null,
   "id": "21",
   "metadata": {
    "papermill": {
     "duration": 0.364789,
     "end_time": "2024-11-02T05:08:20.585837",
     "exception": false,
     "start_time": "2024-11-02T05:08:20.221048",
     "status": "completed"
    },
    "tags": []
   },
   "outputs": [],
   "source": [
    "full_df"
   ]
  },
  {
   "cell_type": "markdown",
   "id": "22",
   "metadata": {
    "papermill": {
     "duration": 0.158893,
     "end_time": "2024-11-02T05:08:20.840153",
     "exception": false,
     "start_time": "2024-11-02T05:08:20.681260",
     "status": "completed"
    },
    "tags": []
   },
   "source": [
    "Full data available to download [here](../data)"
   ]
  },
  {
   "cell_type": "markdown",
   "id": "23",
   "metadata": {
    "papermill": {
     "duration": 0.072576,
     "end_time": "2024-11-02T05:08:21.004471",
     "exception": false,
     "start_time": "2024-11-02T05:08:20.931895",
     "status": "completed"
    },
    "tags": []
   },
   "source": [
    "## Card types"
   ]
  },
  {
   "cell_type": "code",
   "execution_count": null,
   "id": "24",
   "metadata": {
    "papermill": {
     "duration": 0.371107,
     "end_time": "2024-11-02T05:08:21.531675",
     "exception": false,
     "start_time": "2024-11-02T05:08:21.160568",
     "status": "completed"
    },
    "tags": []
   },
   "outputs": [],
   "source": [
    "print(\"Total number of card types:\", cards_df[\"Card type\"].nunique())"
   ]
  },
  {
   "cell_type": "code",
   "execution_count": null,
   "id": "25",
   "metadata": {
    "papermill": {
     "duration": 1.690875,
     "end_time": "2024-11-02T05:08:23.460549",
     "exception": false,
     "start_time": "2024-11-02T05:08:21.769674",
     "status": "completed"
    },
    "tags": []
   },
   "outputs": [],
   "source": [
    "card_type_colors = [plot.colors_dict[i] for i in cards_df[\"Card type\"].value_counts().index]\n",
    "cards_df[\"Card type\"].value_counts().plot.bar(figsize=(10, 6), rot=0, color=card_type_colors)\n",
    "plt.show()"
   ]
  },
  {
   "cell_type": "markdown",
   "id": "26",
   "metadata": {
    "papermill": {
     "duration": 0.191203,
     "end_time": "2024-11-02T05:08:23.743514",
     "exception": false,
     "start_time": "2024-11-02T05:08:23.552311",
     "status": "completed"
    },
    "tags": []
   },
   "source": [
    "## Monsters"
   ]
  },
  {
   "cell_type": "markdown",
   "id": "27",
   "metadata": {
    "papermill": {
     "duration": 0.217484,
     "end_time": "2024-11-02T05:08:24.090610",
     "exception": false,
     "start_time": "2024-11-02T05:08:23.873126",
     "status": "completed"
    },
    "tags": []
   },
   "source": [
    "### Attributes"
   ]
  },
  {
   "cell_type": "code",
   "execution_count": null,
   "id": "28",
   "metadata": {
    "papermill": {
     "duration": 0.166277,
     "end_time": "2024-11-02T05:08:24.416063",
     "exception": false,
     "start_time": "2024-11-02T05:08:24.249786",
     "status": "completed"
    },
    "tags": []
   },
   "outputs": [],
   "source": [
    "print(\"Total number of attributes:\", monster_df[\"Attribute\"].nunique())"
   ]
  },
  {
   "cell_type": "code",
   "execution_count": null,
   "id": "29",
   "metadata": {
    "papermill": {
     "duration": 0.465366,
     "end_time": "2024-11-02T05:08:25.036246",
     "exception": false,
     "start_time": "2024-11-02T05:08:24.570880",
     "status": "completed"
    },
    "tags": []
   },
   "outputs": [],
   "source": [
    "monster_df.drop(columns=[\"Card type\", \"Page name\", \"Page URL\"]).groupby(\"Attribute\").nunique()"
   ]
  },
  {
   "cell_type": "code",
   "execution_count": null,
   "id": "30",
   "metadata": {
    "papermill": {
     "duration": 0.379974,
     "end_time": "2024-11-02T05:08:25.521429",
     "exception": false,
     "start_time": "2024-11-02T05:08:25.141455",
     "status": "completed"
    },
    "tags": []
   },
   "outputs": [],
   "source": [
    "attribute_colors = [plot.colors_dict[i] for i in monster_df[\"Attribute\"].value_counts().index]\n",
    "monster_df[\"Attribute\"].value_counts().plot.bar(figsize=(14, 6), rot=0, color=attribute_colors)\n",
    "plt.show()"
   ]
  },
  {
   "cell_type": "markdown",
   "id": "31",
   "metadata": {
    "papermill": {
     "duration": 0.329263,
     "end_time": "2024-11-02T05:08:25.981237",
     "exception": false,
     "start_time": "2024-11-02T05:08:25.651974",
     "status": "completed"
    },
    "tags": []
   },
   "source": [
    "### Primary types"
   ]
  },
  {
   "cell_type": "code",
   "execution_count": null,
   "id": "32",
   "metadata": {
    "papermill": {
     "duration": 0.18466,
     "end_time": "2024-11-02T05:08:26.325533",
     "exception": false,
     "start_time": "2024-11-02T05:08:26.140873",
     "status": "completed"
    },
    "tags": []
   },
   "outputs": [],
   "source": [
    "print(\"Total number of primary types:\", monster_df[\"Primary type\"].nunique())"
   ]
  },
  {
   "cell_type": "code",
   "execution_count": null,
   "id": "33",
   "metadata": {
    "papermill": {
     "duration": 0.253541,
     "end_time": "2024-11-02T05:08:26.933153",
     "exception": false,
     "start_time": "2024-11-02T05:08:26.679612",
     "status": "completed"
    },
    "tags": []
   },
   "outputs": [],
   "source": [
    "monster_df.drop(columns=[\"Card type\", \"Page name\", \"Page URL\"]).groupby(\"Primary type\").nunique()"
   ]
  },
  {
   "cell_type": "markdown",
   "id": "34",
   "metadata": {
    "papermill": {
     "duration": 0.103631,
     "end_time": "2024-11-02T05:08:27.216943",
     "exception": false,
     "start_time": "2024-11-02T05:08:27.113312",
     "status": "completed"
    },
    "tags": []
   },
   "source": [
    "#### Has effect discrimination"
   ]
  },
  {
   "cell_type": "code",
   "execution_count": null,
   "id": "35",
   "metadata": {
    "papermill": {
     "duration": 0.193046,
     "end_time": "2024-11-02T05:08:27.501727",
     "exception": false,
     "start_time": "2024-11-02T05:08:27.308681",
     "status": "completed"
    },
    "tags": []
   },
   "outputs": [],
   "source": [
    "effect = pd.crosstab(\n",
    "    monster_df[\"Primary type\"],\n",
    "    pd.isna(monster_df[\"Effect type\"]),\n",
    "    rownames=[\"Primary type\"],\n",
    "    colnames=[\"Has effect\"],\n",
    ").rename(columns={True: \"No Effect\", False: \"Effect\"})\n",
    "effect"
   ]
  },
  {
   "cell_type": "code",
   "execution_count": null,
   "id": "36",
   "metadata": {
    "papermill": {
     "duration": 0.514214,
     "end_time": "2024-11-02T05:08:28.113214",
     "exception": false,
     "start_time": "2024-11-02T05:08:27.599000",
     "status": "completed"
    },
    "tags": []
   },
   "outputs": [],
   "source": [
    "monster_type_colors = {\n",
    "    \"No Effect\": plot.colors_dict[\"Normal Monster\"],\n",
    "    \"Effect\": [plot.colors_dict[i] for i in effect.index],\n",
    "}\n",
    "effect.plot.bar(\n",
    "    figsize=(16, 6),\n",
    "    stacked=True,\n",
    "    rot=0,\n",
    "    legend=True,\n",
    "    color=monster_type_colors,\n",
    ")\n",
    "# plt.yscale('log')\n",
    "plt.show()"
   ]
  },
  {
   "cell_type": "markdown",
   "id": "37",
   "metadata": {
    "papermill": {
     "duration": 0.083332,
     "end_time": "2024-11-02T05:08:28.293730",
     "exception": false,
     "start_time": "2024-11-02T05:08:28.210398",
     "status": "completed"
    },
    "tags": []
   },
   "source": [
    "Obs: Normal monster can have effect if it is pendulum"
   ]
  },
  {
   "cell_type": "markdown",
   "id": "38",
   "metadata": {
    "papermill": {
     "duration": 0.430112,
     "end_time": "2024-11-02T05:08:29.014646",
     "exception": false,
     "start_time": "2024-11-02T05:08:28.584534",
     "status": "completed"
    },
    "tags": []
   },
   "source": [
    "#### Is pendulum discrimination"
   ]
  },
  {
   "cell_type": "code",
   "execution_count": null,
   "id": "39",
   "metadata": {
    "papermill": {
     "duration": 0.251238,
     "end_time": "2024-11-02T05:08:29.506078",
     "exception": false,
     "start_time": "2024-11-02T05:08:29.254840",
     "status": "completed"
    },
    "tags": []
   },
   "outputs": [],
   "source": [
    "pendulum = pd.crosstab(\n",
    "    monster_df[\"Primary type\"],\n",
    "    pd.isna(monster_df[\"Pendulum Scale\"]),\n",
    "    rownames=[\"Primary type\"],\n",
    "    colnames=[\"Is Pendulum\"],\n",
    ").rename(columns={True: \"Not Pendulum\", False: \"Pendulum\"})\n",
    "pendulum"
   ]
  },
  {
   "cell_type": "code",
   "execution_count": null,
   "id": "40",
   "metadata": {
    "papermill": {
     "duration": 0.456767,
     "end_time": "2024-11-02T05:08:30.189267",
     "exception": false,
     "start_time": "2024-11-02T05:08:29.732500",
     "status": "completed"
    },
    "tags": []
   },
   "outputs": [],
   "source": [
    "monster_type_colors_b = {\n",
    "    \"Pendulum\": plot.colors_dict[\"Pendulum Monster\"],\n",
    "    \"Not Pendulum\": [plot.colors_dict[i] for i in pendulum.index],\n",
    "}\n",
    "pendulum.plot.bar(\n",
    "    figsize=(16, 6),\n",
    "    stacked=True,\n",
    "    rot=0,\n",
    "    color=monster_type_colors_b,\n",
    "    legend=True,\n",
    "    title=\"Primary types - Is pendulum\",\n",
    ")\n",
    "plt.show()"
   ]
  },
  {
   "cell_type": "markdown",
   "id": "41",
   "metadata": {
    "papermill": {
     "duration": 0.431762,
     "end_time": "2024-11-02T05:08:30.727073",
     "exception": false,
     "start_time": "2024-11-02T05:08:30.295311",
     "status": "completed"
    },
    "tags": []
   },
   "source": [
    "#### By attribute"
   ]
  },
  {
   "cell_type": "code",
   "execution_count": null,
   "id": "42",
   "metadata": {
    "papermill": {
     "duration": 0.409504,
     "end_time": "2024-11-02T05:08:31.856096",
     "exception": false,
     "start_time": "2024-11-02T05:08:31.446592",
     "status": "completed"
    },
    "tags": []
   },
   "outputs": [],
   "source": [
    "primmary_crosstab = pd.crosstab(cards_df[\"Primary type\"], cards_df[\"Attribute\"])\n",
    "primmary_crosstab"
   ]
  },
  {
   "cell_type": "code",
   "execution_count": null,
   "id": "43",
   "metadata": {
    "papermill": {
     "duration": 2.722193,
     "end_time": "2024-11-02T05:08:34.723091",
     "exception": false,
     "start_time": "2024-11-02T05:08:32.000898",
     "status": "completed"
    },
    "tags": []
   },
   "outputs": [],
   "source": [
    "plt.figure(figsize=(16, 10))\n",
    "sns.heatmap(\n",
    "    primmary_crosstab.T,\n",
    "    annot=True,\n",
    "    fmt=\"g\",\n",
    "    cmap=\"viridis\",\n",
    "    square=True,\n",
    "    norm=plot.LogNorm(),\n",
    ")\n",
    "plt.show()"
   ]
  },
  {
   "cell_type": "markdown",
   "id": "44",
   "metadata": {
    "papermill": {
     "duration": 0.180929,
     "end_time": "2024-11-02T05:08:35.012077",
     "exception": false,
     "start_time": "2024-11-02T05:08:34.831148",
     "status": "completed"
    },
    "tags": []
   },
   "source": [
    "### Secondary types"
   ]
  },
  {
   "cell_type": "code",
   "execution_count": null,
   "id": "45",
   "metadata": {
    "papermill": {
     "duration": 0.184228,
     "end_time": "2024-11-02T05:08:35.322941",
     "exception": false,
     "start_time": "2024-11-02T05:08:35.138713",
     "status": "completed"
    },
    "tags": []
   },
   "outputs": [],
   "source": [
    "exploded_secondary_type = monster_df.explode(\"Secondary type\")\n",
    "print(\n",
    "    \"Total number of secondary types:\",\n",
    "    exploded_secondary_type[\"Secondary type\"].nunique(),\n",
    ")"
   ]
  },
  {
   "cell_type": "code",
   "execution_count": null,
   "id": "46",
   "metadata": {
    "papermill": {
     "duration": 0.332729,
     "end_time": "2024-11-02T05:08:35.866443",
     "exception": false,
     "start_time": "2024-11-02T05:08:35.533714",
     "status": "completed"
    },
    "tags": []
   },
   "outputs": [],
   "source": [
    "exploded_secondary_type.drop(columns=[\"Card type\", \"Link\", \"Link Arrows\", \"Page name\", \"Page URL\"]).groupby(\n",
    "    \"Secondary type\"\n",
    ").nunique()"
   ]
  },
  {
   "cell_type": "code",
   "execution_count": null,
   "id": "47",
   "metadata": {
    "papermill": {
     "duration": 0.641699,
     "end_time": "2024-11-02T05:08:36.609239",
     "exception": false,
     "start_time": "2024-11-02T05:08:35.967540",
     "status": "completed"
    },
    "tags": []
   },
   "outputs": [],
   "source": [
    "secondary_type_colors = plot.colors_dict[\"Effect Monster\"]\n",
    "exploded_secondary_type[\"Secondary type\"].value_counts().plot.bar(\n",
    "    figsize=(14, 6),\n",
    "    stacked=True,\n",
    "    rot=0,\n",
    "    color=secondary_type_colors,\n",
    "    legend=False,\n",
    ")\n",
    "plt.show()"
   ]
  },
  {
   "cell_type": "markdown",
   "id": "48",
   "metadata": {
    "papermill": {
     "duration": 0.13362,
     "end_time": "2024-11-02T05:08:36.852992",
     "exception": false,
     "start_time": "2024-11-02T05:08:36.719372",
     "status": "completed"
    },
    "tags": []
   },
   "source": [
    "#### By attribute"
   ]
  },
  {
   "cell_type": "code",
   "execution_count": null,
   "id": "49",
   "metadata": {
    "papermill": {
     "duration": 0.234701,
     "end_time": "2024-11-02T05:08:37.331470",
     "exception": false,
     "start_time": "2024-11-02T05:08:37.096769",
     "status": "completed"
    },
    "tags": []
   },
   "outputs": [],
   "source": [
    "secondary_crosstab = pd.crosstab(exploded_secondary_type[\"Secondary type\"], exploded_secondary_type[\"Attribute\"])\n",
    "secondary_crosstab"
   ]
  },
  {
   "cell_type": "code",
   "execution_count": null,
   "id": "50",
   "metadata": {
    "papermill": {
     "duration": 0.771407,
     "end_time": "2024-11-02T05:08:38.276296",
     "exception": false,
     "start_time": "2024-11-02T05:08:37.504889",
     "status": "completed"
    },
    "tags": []
   },
   "outputs": [],
   "source": [
    "plt.figure(figsize=(8, 6))\n",
    "sns.heatmap(\n",
    "    secondary_crosstab[secondary_crosstab > 0],\n",
    "    annot=True,\n",
    "    fmt=\"g\",\n",
    "    cmap=\"viridis\",\n",
    "    square=True,\n",
    ")\n",
    "plt.show()"
   ]
  },
  {
   "cell_type": "markdown",
   "id": "51",
   "metadata": {
    "papermill": {
     "duration": 0.168622,
     "end_time": "2024-11-02T05:08:38.553084",
     "exception": false,
     "start_time": "2024-11-02T05:08:38.384462",
     "status": "completed"
    },
    "tags": []
   },
   "source": [
    "#### By primary type"
   ]
  },
  {
   "cell_type": "code",
   "execution_count": null,
   "id": "52",
   "metadata": {
    "papermill": {
     "duration": 0.237021,
     "end_time": "2024-11-02T05:08:38.896662",
     "exception": false,
     "start_time": "2024-11-02T05:08:38.659641",
     "status": "completed"
    },
    "tags": []
   },
   "outputs": [],
   "source": [
    "secondary_crosstab_b = pd.crosstab(\n",
    "    exploded_secondary_type[\"Primary type\"],\n",
    "    exploded_secondary_type[\"Secondary type\"],\n",
    "    margins=True,\n",
    ")\n",
    "secondary_crosstab_b"
   ]
  },
  {
   "cell_type": "code",
   "execution_count": null,
   "id": "53",
   "metadata": {
    "papermill": {
     "duration": 0.808545,
     "end_time": "2024-11-02T05:08:40.008828",
     "exception": false,
     "start_time": "2024-11-02T05:08:39.200283",
     "status": "completed"
    },
    "tags": []
   },
   "outputs": [],
   "source": [
    "plt.figure(figsize=(10, 7))\n",
    "sns.heatmap(\n",
    "    secondary_crosstab_b,\n",
    "    annot=True,\n",
    "    fmt=\"g\",\n",
    "    cmap=\"viridis\",\n",
    "    square=True,\n",
    "    norm=plot.LogNorm(),\n",
    ")\n",
    "plt.show()"
   ]
  },
  {
   "cell_type": "markdown",
   "id": "54",
   "metadata": {
    "papermill": {
     "duration": 0.277116,
     "end_time": "2024-11-02T05:08:40.497696",
     "exception": false,
     "start_time": "2024-11-02T05:08:40.220580",
     "status": "completed"
    },
    "tags": []
   },
   "source": [
    "### Monster types"
   ]
  },
  {
   "cell_type": "code",
   "execution_count": null,
   "id": "55",
   "metadata": {
    "papermill": {
     "duration": 0.117046,
     "end_time": "2024-11-02T05:08:40.725405",
     "exception": false,
     "start_time": "2024-11-02T05:08:40.608359",
     "status": "completed"
    },
    "tags": []
   },
   "outputs": [],
   "source": [
    "print(\"Total number of monster types:\", monster_df[\"Monster type\"].nunique())"
   ]
  },
  {
   "cell_type": "code",
   "execution_count": null,
   "id": "56",
   "metadata": {
    "papermill": {
     "duration": 0.253829,
     "end_time": "2024-11-02T05:08:41.183764",
     "exception": false,
     "start_time": "2024-11-02T05:08:40.929935",
     "status": "completed"
    },
    "tags": []
   },
   "outputs": [],
   "source": [
    "monster_df.drop(columns=[\"Card type\", \"Page name\", \"Page URL\"]).groupby(\"Monster type\").nunique()"
   ]
  },
  {
   "cell_type": "code",
   "execution_count": null,
   "id": "57",
   "metadata": {
    "papermill": {
     "duration": 0.42228,
     "end_time": "2024-11-02T05:08:41.746812",
     "exception": false,
     "start_time": "2024-11-02T05:08:41.324532",
     "status": "completed"
    },
    "tags": []
   },
   "outputs": [],
   "source": [
    "monster_type_colors = plot.colors_dict[\"Monster Card\"]\n",
    "monster_df[\"Monster type\"].value_counts().plot.bar(figsize=(18, 6), rot=45, color=monster_type_colors)\n",
    "plt.show()"
   ]
  },
  {
   "cell_type": "markdown",
   "id": "58",
   "metadata": {
    "papermill": {
     "duration": 0.19703,
     "end_time": "2024-11-02T05:08:42.162869",
     "exception": false,
     "start_time": "2024-11-02T05:08:41.965839",
     "status": "completed"
    },
    "tags": []
   },
   "source": [
    "#### By Attribute"
   ]
  },
  {
   "cell_type": "code",
   "execution_count": null,
   "id": "59",
   "metadata": {
    "papermill": {
     "duration": 0.223633,
     "end_time": "2024-11-02T05:08:42.505313",
     "exception": false,
     "start_time": "2024-11-02T05:08:42.281680",
     "status": "completed"
    },
    "tags": []
   },
   "outputs": [],
   "source": [
    "monster_crosstab = pd.crosstab(cards_df[\"Monster type\"], cards_df[\"Attribute\"])\n",
    "monster_crosstab"
   ]
  },
  {
   "cell_type": "code",
   "execution_count": null,
   "id": "60",
   "metadata": {
    "papermill": {
     "duration": 1.473816,
     "end_time": "2024-11-02T05:08:44.212592",
     "exception": false,
     "start_time": "2024-11-02T05:08:42.738776",
     "status": "completed"
    },
    "tags": []
   },
   "outputs": [],
   "source": [
    "plt.figure(figsize=(18, 4))\n",
    "sns.heatmap(\n",
    "    monster_crosstab[monster_crosstab > 0].T,\n",
    "    annot=True,\n",
    "    fmt=\"g\",\n",
    "    cmap=\"viridis\",\n",
    "    square=True,\n",
    "    norm=plot.LogNorm(),\n",
    ")\n",
    "plt.show()"
   ]
  },
  {
   "cell_type": "markdown",
   "id": "61",
   "metadata": {
    "papermill": {
     "duration": 0.296868,
     "end_time": "2024-11-02T05:08:44.808806",
     "exception": false,
     "start_time": "2024-11-02T05:08:44.511938",
     "status": "completed"
    },
    "tags": []
   },
   "source": [
    "#### By primary type"
   ]
  },
  {
   "cell_type": "code",
   "execution_count": null,
   "id": "62",
   "metadata": {
    "papermill": {
     "duration": 0.816196,
     "end_time": "2024-11-02T05:08:45.749622",
     "exception": false,
     "start_time": "2024-11-02T05:08:44.933426",
     "status": "completed"
    },
    "tags": []
   },
   "outputs": [],
   "source": [
    "monster_crosstab_b = pd.crosstab(cards_df[\"Monster type\"], cards_df[\"Primary type\"], dropna=False)\n",
    "monster_crosstab_b"
   ]
  },
  {
   "cell_type": "code",
   "execution_count": null,
   "id": "63",
   "metadata": {
    "papermill": {
     "duration": 1.208193,
     "end_time": "2024-11-02T05:08:47.206535",
     "exception": false,
     "start_time": "2024-11-02T05:08:45.998342",
     "status": "completed"
    },
    "tags": []
   },
   "outputs": [],
   "source": [
    "plt.figure(figsize=(18, 4))\n",
    "sns.heatmap(\n",
    "    monster_crosstab_b[monster_crosstab_b > 0].T,\n",
    "    annot=True,\n",
    "    fmt=\"g\",\n",
    "    cmap=\"viridis\",\n",
    "    square=True,\n",
    "    norm=plot.LogNorm(),\n",
    ")\n",
    "plt.show()"
   ]
  },
  {
   "cell_type": "markdown",
   "id": "64",
   "metadata": {
    "papermill": {
     "duration": 0.132221,
     "end_time": "2024-11-02T05:08:47.481923",
     "exception": false,
     "start_time": "2024-11-02T05:08:47.349702",
     "status": "completed"
    },
    "tags": []
   },
   "source": [
    "#### By secondary type"
   ]
  },
  {
   "cell_type": "code",
   "execution_count": null,
   "id": "65",
   "metadata": {
    "papermill": {
     "duration": 0.172634,
     "end_time": "2024-11-02T05:08:48.048971",
     "exception": false,
     "start_time": "2024-11-02T05:08:47.876337",
     "status": "completed"
    },
    "tags": []
   },
   "outputs": [],
   "source": [
    "monster_crosstab_c = pd.crosstab(\n",
    "    exploded_secondary_type[\"Monster type\"],\n",
    "    exploded_secondary_type[\"Secondary type\"],\n",
    "    dropna=False,\n",
    ")\n",
    "monster_crosstab_c"
   ]
  },
  {
   "cell_type": "code",
   "execution_count": null,
   "id": "66",
   "metadata": {
    "papermill": {
     "duration": 1.044997,
     "end_time": "2024-11-02T05:08:49.243133",
     "exception": false,
     "start_time": "2024-11-02T05:08:48.198136",
     "status": "completed"
    },
    "tags": []
   },
   "outputs": [],
   "source": [
    "plt.figure(figsize=(18, 4))\n",
    "sns.heatmap(\n",
    "    monster_crosstab_c[monster_crosstab_c > 0].T,\n",
    "    annot=True,\n",
    "    fmt=\"g\",\n",
    "    cmap=\"viridis\",\n",
    "    square=True,\n",
    "    norm=plot.LogNorm(),\n",
    ")\n",
    "plt.show()"
   ]
  },
  {
   "cell_type": "markdown",
   "id": "67",
   "metadata": {
    "papermill": {
     "duration": 0.214839,
     "end_time": "2024-11-02T05:08:49.592474",
     "exception": false,
     "start_time": "2024-11-02T05:08:49.377635",
     "status": "completed"
    },
    "tags": []
   },
   "source": [
    "### ATK"
   ]
  },
  {
   "cell_type": "code",
   "execution_count": null,
   "id": "68",
   "metadata": {
    "papermill": {
     "duration": 0.42781,
     "end_time": "2024-11-02T05:08:50.203614",
     "exception": false,
     "start_time": "2024-11-02T05:08:49.775804",
     "status": "completed"
    },
    "tags": []
   },
   "outputs": [],
   "source": [
    "print(\"Total number of ATK values:\", monster_df[\"ATK\"].nunique())"
   ]
  },
  {
   "cell_type": "code",
   "execution_count": null,
   "id": "69",
   "metadata": {
    "papermill": {
     "duration": 0.850138,
     "end_time": "2024-11-02T05:08:51.404910",
     "exception": false,
     "start_time": "2024-11-02T05:08:50.554772",
     "status": "completed"
    },
    "tags": []
   },
   "outputs": [],
   "source": [
    "monster_df.drop(columns=[\"Card type\", \"Page name\", \"Page URL\"]).groupby(\"ATK\").nunique().sort_index(\n",
    "    key=lambda x: pd.to_numeric(x, errors=\"coerce\")\n",
    ")"
   ]
  },
  {
   "cell_type": "code",
   "execution_count": null,
   "id": "70",
   "metadata": {
    "papermill": {
     "duration": 2.191282,
     "end_time": "2024-11-02T05:08:53.822918",
     "exception": false,
     "start_time": "2024-11-02T05:08:51.631636",
     "status": "completed"
    },
    "tags": []
   },
   "outputs": [],
   "source": [
    "atk_colors = plot.colors_dict[\"Monster Card\"]\n",
    "monster_df[\"ATK\"].value_counts().sort_index(key=lambda x: pd.to_numeric(x, errors=\"coerce\")).plot.bar(\n",
    "    figsize=(18, 6), color=atk_colors\n",
    ")\n",
    "plt.show()"
   ]
  },
  {
   "cell_type": "markdown",
   "id": "71",
   "metadata": {
    "papermill": {
     "duration": 0.164281,
     "end_time": "2024-11-02T05:08:54.547178",
     "exception": false,
     "start_time": "2024-11-02T05:08:54.382897",
     "status": "completed"
    },
    "tags": []
   },
   "source": [
    "### DEF"
   ]
  },
  {
   "cell_type": "code",
   "execution_count": null,
   "id": "72",
   "metadata": {
    "papermill": {
     "duration": 0.214454,
     "end_time": "2024-11-02T05:08:55.086854",
     "exception": false,
     "start_time": "2024-11-02T05:08:54.872400",
     "status": "completed"
    },
    "tags": []
   },
   "outputs": [],
   "source": [
    "print(\"Total number of DEF values:\", monster_df[\"DEF\"].nunique())"
   ]
  },
  {
   "cell_type": "code",
   "execution_count": null,
   "id": "73",
   "metadata": {
    "papermill": {
     "duration": 0.281393,
     "end_time": "2024-11-02T05:08:56.249561",
     "exception": false,
     "start_time": "2024-11-02T05:08:55.968168",
     "status": "completed"
    },
    "tags": []
   },
   "outputs": [],
   "source": [
    "monster_df.drop(columns=[\"Card type\", \"Page name\", \"Page URL\"]).groupby(\"DEF\").nunique().sort_index(\n",
    "    key=lambda x: pd.to_numeric(x, errors=\"coerce\")\n",
    ")"
   ]
  },
  {
   "cell_type": "code",
   "execution_count": null,
   "id": "74",
   "metadata": {
    "papermill": {
     "duration": 0.904656,
     "end_time": "2024-11-02T05:08:57.287063",
     "exception": false,
     "start_time": "2024-11-02T05:08:56.382407",
     "status": "completed"
    },
    "tags": []
   },
   "outputs": [],
   "source": [
    "def_colors = plot.colors_dict[\"Monster Card\"]\n",
    "monster_df[\"DEF\"].value_counts().sort_index(key=lambda x: pd.to_numeric(x, errors=\"coerce\")).plot.bar(\n",
    "    figsize=(18, 6), color=def_colors\n",
    ")\n",
    "plt.show()"
   ]
  },
  {
   "cell_type": "markdown",
   "id": "75",
   "metadata": {
    "papermill": {
     "duration": 0.225394,
     "end_time": "2024-11-02T05:08:57.662129",
     "exception": false,
     "start_time": "2024-11-02T05:08:57.436735",
     "status": "completed"
    },
    "tags": []
   },
   "source": [
    "### Level/Rank"
   ]
  },
  {
   "cell_type": "code",
   "execution_count": null,
   "id": "76",
   "metadata": {
    "papermill": {
     "duration": 0.262204,
     "end_time": "2024-11-02T05:08:58.072284",
     "exception": false,
     "start_time": "2024-11-02T05:08:57.810080",
     "status": "completed"
    },
    "tags": []
   },
   "outputs": [],
   "source": [
    "monster_df.drop(columns=[\"Card type\", \"Link\", \"Link Arrows\", \"Page name\", \"Page URL\"]).groupby(\n",
    "    \"Level/Rank\"\n",
    ").nunique().sort_index(key=lambda x: pd.to_numeric(x, errors=\"coerce\"))"
   ]
  },
  {
   "cell_type": "code",
   "execution_count": null,
   "id": "77",
   "metadata": {
    "papermill": {
     "duration": 0.547033,
     "end_time": "2024-11-02T05:08:58.777375",
     "exception": false,
     "start_time": "2024-11-02T05:08:58.230342",
     "status": "completed"
    },
    "tags": []
   },
   "outputs": [],
   "source": [
    "stars_colors = plot.colors_dict[\"Level\"]\n",
    "monster_df[\"Level/Rank\"].value_counts().sort_index(key=lambda x: pd.to_numeric(x, errors=\"coerce\")).plot.bar(\n",
    "    figsize=(16, 6), rot=0, color=stars_colors\n",
    ")\n",
    "plt.show()"
   ]
  },
  {
   "cell_type": "markdown",
   "id": "78",
   "metadata": {
    "papermill": {
     "duration": 0.185581,
     "end_time": "2024-11-02T05:08:59.107525",
     "exception": false,
     "start_time": "2024-11-02T05:08:58.921944",
     "status": "completed"
    },
    "tags": []
   },
   "source": [
    "#### ATK statistics"
   ]
  },
  {
   "cell_type": "code",
   "execution_count": null,
   "id": "79",
   "metadata": {
    "papermill": {
     "duration": 0.276411,
     "end_time": "2024-11-02T05:08:59.531010",
     "exception": false,
     "start_time": "2024-11-02T05:08:59.254599",
     "status": "completed"
    },
    "tags": []
   },
   "outputs": [],
   "source": [
    "monster_df[[\"Level/Rank\", \"ATK\"]].apply(pd.to_numeric, errors=\"coerce\").dropna().astype(int).groupby(\n",
    "    \"Level/Rank\"\n",
    ").describe().round(1)"
   ]
  },
  {
   "cell_type": "markdown",
   "id": "80",
   "metadata": {
    "papermill": {
     "duration": 0.335563,
     "end_time": "2024-11-02T05:09:00.460630",
     "exception": false,
     "start_time": "2024-11-02T05:09:00.125067",
     "status": "completed"
    },
    "tags": []
   },
   "source": [
    "#### DEF statistics"
   ]
  },
  {
   "cell_type": "code",
   "execution_count": null,
   "id": "81",
   "metadata": {
    "papermill": {
     "duration": 0.243111,
     "end_time": "2024-11-02T05:09:01.595339",
     "exception": false,
     "start_time": "2024-11-02T05:09:01.352228",
     "status": "completed"
    },
    "tags": []
   },
   "outputs": [],
   "source": [
    "monster_df[[\"Level/Rank\", \"DEF\"]].apply(pd.to_numeric, errors=\"coerce\").dropna().astype(int).groupby(\n",
    "    \"Level/Rank\"\n",
    ").describe().round(1)"
   ]
  },
  {
   "cell_type": "markdown",
   "id": "82",
   "metadata": {
    "papermill": {
     "duration": 0.362668,
     "end_time": "2024-11-02T05:09:02.178303",
     "exception": false,
     "start_time": "2024-11-02T05:09:01.815635",
     "status": "completed"
    },
    "tags": []
   },
   "source": [
    "### Pendulum scale"
   ]
  },
  {
   "cell_type": "code",
   "execution_count": null,
   "id": "83",
   "metadata": {
    "papermill": {
     "duration": 0.474916,
     "end_time": "2024-11-02T05:09:02.974587",
     "exception": false,
     "start_time": "2024-11-02T05:09:02.499671",
     "status": "completed"
    },
    "tags": []
   },
   "outputs": [],
   "source": [
    "monster_df.drop(columns=[\"Card type\", \"Link\", \"Link Arrows\", \"Page name\", \"Page URL\"]).groupby(\n",
    "    \"Pendulum Scale\"\n",
    ").nunique().sort_index(key=lambda x: pd.to_numeric(x, errors=\"coerce\"))"
   ]
  },
  {
   "cell_type": "code",
   "execution_count": null,
   "id": "84",
   "metadata": {
    "papermill": {
     "duration": 0.377961,
     "end_time": "2024-11-02T05:09:03.579223",
     "exception": false,
     "start_time": "2024-11-02T05:09:03.201262",
     "status": "completed"
    },
    "tags": []
   },
   "outputs": [],
   "source": [
    "scales_colors = plot.colors_dict[\"Pendulum Monster\"]\n",
    "monster_df[\"Pendulum Scale\"].value_counts().sort_index(key=lambda x: pd.to_numeric(x, errors=\"coerce\")).plot.bar(\n",
    "    figsize=(16, 6), rot=0, color=scales_colors\n",
    ")\n",
    "plt.show()"
   ]
  },
  {
   "cell_type": "markdown",
   "id": "85",
   "metadata": {
    "papermill": {
     "duration": 0.353658,
     "end_time": "2024-11-02T05:09:04.103438",
     "exception": false,
     "start_time": "2024-11-02T05:09:03.749780",
     "status": "completed"
    },
    "tags": []
   },
   "source": [
    "#### ATK statistics"
   ]
  },
  {
   "cell_type": "code",
   "execution_count": null,
   "id": "86",
   "metadata": {
    "papermill": {
     "duration": 1.001227,
     "end_time": "2024-11-02T05:09:05.524445",
     "exception": false,
     "start_time": "2024-11-02T05:09:04.523218",
     "status": "completed"
    },
    "tags": []
   },
   "outputs": [],
   "source": [
    "monster_df[[\"Pendulum Scale\", \"ATK\"]].apply(pd.to_numeric, errors=\"coerce\").dropna().astype(int).groupby(\n",
    "    \"Pendulum Scale\"\n",
    ").describe().round(1)"
   ]
  },
  {
   "cell_type": "markdown",
   "id": "87",
   "metadata": {
    "papermill": {
     "duration": 0.456698,
     "end_time": "2024-11-02T05:09:06.122097",
     "exception": false,
     "start_time": "2024-11-02T05:09:05.665399",
     "status": "completed"
    },
    "tags": []
   },
   "source": [
    "#### DEF statistics"
   ]
  },
  {
   "cell_type": "code",
   "execution_count": null,
   "id": "88",
   "metadata": {
    "papermill": {
     "duration": 0.89762,
     "end_time": "2024-11-02T05:09:07.537026",
     "exception": false,
     "start_time": "2024-11-02T05:09:06.639406",
     "status": "completed"
    },
    "tags": []
   },
   "outputs": [],
   "source": [
    "monster_df[[\"Pendulum Scale\", \"DEF\"]].apply(pd.to_numeric, errors=\"coerce\").dropna().astype(int).groupby(\n",
    "    \"Pendulum Scale\"\n",
    ").describe().round(1)"
   ]
  },
  {
   "cell_type": "markdown",
   "id": "89",
   "metadata": {
    "papermill": {
     "duration": 0.375406,
     "end_time": "2024-11-02T05:09:08.733426",
     "exception": false,
     "start_time": "2024-11-02T05:09:08.358020",
     "status": "completed"
    },
    "tags": []
   },
   "source": [
    "#### Level/Rank statistics"
   ]
  },
  {
   "cell_type": "code",
   "execution_count": null,
   "id": "90",
   "metadata": {
    "papermill": {
     "duration": 0.437707,
     "end_time": "2024-11-02T05:09:09.633238",
     "exception": false,
     "start_time": "2024-11-02T05:09:09.195531",
     "status": "completed"
    },
    "tags": []
   },
   "outputs": [],
   "source": [
    "monster_df[[\"Pendulum Scale\", \"Level/Rank\"]].apply(pd.to_numeric, errors=\"coerce\").dropna().astype(int).groupby(\n",
    "    \"Pendulum Scale\"\n",
    ").describe().round(1)"
   ]
  },
  {
   "cell_type": "markdown",
   "id": "91",
   "metadata": {
    "papermill": {
     "duration": 0.467979,
     "end_time": "2024-11-02T05:09:10.262265",
     "exception": false,
     "start_time": "2024-11-02T05:09:09.794286",
     "status": "completed"
    },
    "tags": []
   },
   "source": [
    "### Link"
   ]
  },
  {
   "cell_type": "code",
   "execution_count": null,
   "id": "92",
   "metadata": {
    "papermill": {
     "duration": 1.151009,
     "end_time": "2024-11-02T05:09:11.722016",
     "exception": false,
     "start_time": "2024-11-02T05:09:10.571007",
     "status": "completed"
    },
    "tags": []
   },
   "outputs": [],
   "source": [
    "monster_df.drop(\n",
    "    columns=[\n",
    "        \"Card type\",\n",
    "        \"Primary type\",\n",
    "        \"Secondary type\",\n",
    "        \"Level/Rank\",\n",
    "        \"DEF\",\n",
    "        \"Pendulum Scale\",\n",
    "        \"Page name\",\n",
    "        \"Page URL\",\n",
    "    ]\n",
    ").groupby(\"Link\").nunique().sort_index(key=lambda x: pd.to_numeric(x, errors=\"coerce\"))"
   ]
  },
  {
   "cell_type": "code",
   "execution_count": null,
   "id": "93",
   "metadata": {
    "papermill": {
     "duration": 2.984021,
     "end_time": "2024-11-02T05:09:14.978107",
     "exception": false,
     "start_time": "2024-11-02T05:09:11.994086",
     "status": "completed"
    },
    "tags": []
   },
   "outputs": [],
   "source": [
    "link_colors = plot.colors_dict[\"Link Monster\"]\n",
    "monster_df[\"Link\"].value_counts().sort_index(key=lambda x: pd.to_numeric(x, errors=\"coerce\")).plot.bar(\n",
    "    figsize=(12, 6), rot=0, color=link_colors\n",
    ")\n",
    "plt.show()"
   ]
  },
  {
   "cell_type": "markdown",
   "id": "94",
   "metadata": {
    "papermill": {
     "duration": 0.153758,
     "end_time": "2024-11-02T05:09:15.283692",
     "exception": false,
     "start_time": "2024-11-02T05:09:15.129934",
     "status": "completed"
    },
    "tags": []
   },
   "source": [
    "#### ATK statistics"
   ]
  },
  {
   "cell_type": "code",
   "execution_count": null,
   "id": "95",
   "metadata": {
    "papermill": {
     "duration": 0.550253,
     "end_time": "2024-11-02T05:09:15.999675",
     "exception": false,
     "start_time": "2024-11-02T05:09:15.449422",
     "status": "completed"
    },
    "tags": []
   },
   "outputs": [],
   "source": [
    "monster_df[[\"Link\", \"ATK\"]].apply(pd.to_numeric, errors=\"coerce\").dropna().astype(int).groupby(\"Link\").describe().round(1)"
   ]
  },
  {
   "cell_type": "markdown",
   "id": "96",
   "metadata": {
    "papermill": {
     "duration": 0.149239,
     "end_time": "2024-11-02T05:09:16.445624",
     "exception": false,
     "start_time": "2024-11-02T05:09:16.296385",
     "status": "completed"
    },
    "tags": []
   },
   "source": [
    "### Link Arrows"
   ]
  },
  {
   "cell_type": "markdown",
   "id": "97",
   "metadata": {
    "papermill": {
     "duration": 0.141355,
     "end_time": "2024-11-02T05:09:16.863461",
     "exception": false,
     "start_time": "2024-11-02T05:09:16.722106",
     "status": "completed"
    },
    "tags": []
   },
   "source": [
    "#### By combination"
   ]
  },
  {
   "cell_type": "code",
   "execution_count": null,
   "id": "98",
   "metadata": {
    "papermill": {
     "duration": 0.235818,
     "end_time": "2024-11-02T05:09:17.486382",
     "exception": false,
     "start_time": "2024-11-02T05:09:17.250564",
     "status": "completed"
    },
    "tags": []
   },
   "outputs": [],
   "source": [
    "print(\"Total number of link arrow combinations:\", monster_df[\"Link Arrows\"].nunique())"
   ]
  },
  {
   "cell_type": "code",
   "execution_count": null,
   "id": "99",
   "metadata": {
    "papermill": {
     "duration": 0.622415,
     "end_time": "2024-11-02T05:09:18.601406",
     "exception": false,
     "start_time": "2024-11-02T05:09:17.978991",
     "status": "completed"
    },
    "tags": []
   },
   "outputs": [],
   "source": [
    "monster_df.drop(\n",
    "    columns=[\n",
    "        \"Card type\",\n",
    "        \"Primary type\",\n",
    "        \"Level/Rank\",\n",
    "        \"Pendulum Scale\",\n",
    "        \"Link\",\n",
    "        \"Secondary type\",\n",
    "        \"DEF\",\n",
    "        \"Page name\",\n",
    "        \"Page URL\",\n",
    "    ]\n",
    ").groupby(\"Link Arrows\").nunique()"
   ]
  },
  {
   "cell_type": "code",
   "execution_count": null,
   "id": "100",
   "metadata": {
    "papermill": {
     "duration": 1.05164,
     "end_time": "2024-11-02T05:09:20.253242",
     "exception": false,
     "start_time": "2024-11-02T05:09:19.201602",
     "status": "completed"
    },
    "tags": []
   },
   "outputs": [],
   "source": [
    "arrows_colors = plot.colors_dict[\"Link Monster\"]\n",
    "monster_df[\"Link Arrows\"].value_counts().plot.barh(figsize=(10, 20), color=arrows_colors, title=\"Link arrows combinations\")\n",
    "plt.show()"
   ]
  },
  {
   "cell_type": "markdown",
   "id": "101",
   "metadata": {
    "papermill": {
     "duration": 0.221734,
     "end_time": "2024-11-02T05:09:20.701118",
     "exception": false,
     "start_time": "2024-11-02T05:09:20.479384",
     "status": "completed"
    },
    "tags": []
   },
   "source": [
    "#### By unique"
   ]
  },
  {
   "cell_type": "code",
   "execution_count": null,
   "id": "102",
   "metadata": {
    "papermill": {
     "duration": 0.391584,
     "end_time": "2024-11-02T05:09:21.539309",
     "exception": false,
     "start_time": "2024-11-02T05:09:21.147725",
     "status": "completed"
    },
    "tags": []
   },
   "outputs": [],
   "source": [
    "monster_df[monster_df[\"Link Arrows\"].notna()].drop(\n",
    "    columns=[\n",
    "        \"Card type\",\n",
    "        \"Primary type\",\n",
    "        \"Level/Rank\",\n",
    "        \"Pendulum Scale\",\n",
    "        \"Secondary type\",\n",
    "        \"DEF\",\n",
    "        \"Page name\",\n",
    "        \"Page URL\",\n",
    "    ]\n",
    ").explode(\"Link Arrows\").groupby(\"Link Arrows\").nunique()"
   ]
  },
  {
   "cell_type": "code",
   "execution_count": null,
   "id": "103",
   "metadata": {
    "papermill": {
     "duration": 1.551498,
     "end_time": "2024-11-02T05:09:24.412528",
     "exception": false,
     "start_time": "2024-11-02T05:09:22.861030",
     "status": "completed"
    },
    "tags": []
   },
   "outputs": [],
   "source": [
    "_ = plot.arrows(monster_df[\"Link Arrows\"].explode(\"Link Arrows\"))\n",
    "plt.show()"
   ]
  },
  {
   "cell_type": "markdown",
   "id": "104",
   "metadata": {
    "papermill": {
     "duration": 0.149079,
     "end_time": "2024-11-02T05:09:24.739147",
     "exception": false,
     "start_time": "2024-11-02T05:09:24.590068",
     "status": "completed"
    },
    "tags": []
   },
   "source": [
    "#### By link"
   ]
  },
  {
   "cell_type": "code",
   "execution_count": null,
   "id": "105",
   "metadata": {
    "papermill": {
     "duration": 0.453164,
     "end_time": "2024-11-02T05:09:25.708980",
     "exception": false,
     "start_time": "2024-11-02T05:09:25.255816",
     "status": "completed"
    },
    "tags": []
   },
   "outputs": [],
   "source": [
    "arrow_per_link = monster_df[[\"Link Arrows\", \"Link\"]].explode(\"Link Arrows\").dropna()\n",
    "arrow_crosstab = pd.crosstab(arrow_per_link[\"Link Arrows\"], arrow_per_link[\"Link\"])\n",
    "arrow_crosstab"
   ]
  },
  {
   "cell_type": "code",
   "execution_count": null,
   "id": "106",
   "metadata": {
    "papermill": {
     "duration": 1.174643,
     "end_time": "2024-11-02T05:09:27.185131",
     "exception": false,
     "start_time": "2024-11-02T05:09:26.010488",
     "status": "completed"
    },
    "tags": []
   },
   "outputs": [],
   "source": [
    "plt.figure(figsize=(10, 6))\n",
    "sns.heatmap(\n",
    "    arrow_crosstab[arrow_crosstab > 0].T,\n",
    "    annot=True,\n",
    "    fmt=\"g\",\n",
    "    cmap=\"viridis\",\n",
    "    square=True,\n",
    "    norm=plot.LogNorm(),\n",
    ")\n",
    "plt.show()"
   ]
  },
  {
   "cell_type": "markdown",
   "id": "107",
   "metadata": {
    "papermill": {
     "duration": 0.185468,
     "end_time": "2024-11-02T05:09:27.672637",
     "exception": false,
     "start_time": "2024-11-02T05:09:27.487169",
     "status": "completed"
    },
    "tags": []
   },
   "source": [
    "## Spell & Trap"
   ]
  },
  {
   "cell_type": "markdown",
   "id": "108",
   "metadata": {
    "papermill": {
     "duration": 0.151794,
     "end_time": "2024-11-02T05:09:27.993895",
     "exception": false,
     "start_time": "2024-11-02T05:09:27.842101",
     "status": "completed"
    },
    "tags": []
   },
   "source": [
    "### Properties"
   ]
  },
  {
   "cell_type": "code",
   "execution_count": null,
   "id": "109",
   "metadata": {
    "papermill": {
     "duration": 0.547962,
     "end_time": "2024-11-02T05:09:28.698849",
     "exception": false,
     "start_time": "2024-11-02T05:09:28.150887",
     "status": "completed"
    },
    "tags": []
   },
   "outputs": [],
   "source": [
    "print(\"Total number of properties:\", st_df[\"Property\"].nunique())"
   ]
  },
  {
   "cell_type": "code",
   "execution_count": null,
   "id": "110",
   "metadata": {
    "papermill": {
     "duration": 0.218278,
     "end_time": "2024-11-02T05:09:29.309127",
     "exception": false,
     "start_time": "2024-11-02T05:09:29.090849",
     "status": "completed"
    },
    "tags": []
   },
   "outputs": [],
   "source": [
    "st_df.drop(columns=[\"Card type\", \"Page name\", \"Page URL\"]).groupby(\"Property\").nunique()"
   ]
  },
  {
   "cell_type": "code",
   "execution_count": null,
   "id": "111",
   "metadata": {
    "papermill": {
     "duration": 0.342772,
     "end_time": "2024-11-02T05:09:29.885025",
     "exception": false,
     "start_time": "2024-11-02T05:09:29.542253",
     "status": "completed"
    },
    "tags": []
   },
   "outputs": [],
   "source": [
    "st_colors = [plot.colors_dict[i] for i in cards_df[[\"Card type\", \"Property\"]].value_counts().index.get_level_values(0)]\n",
    "st_df[\"Property\"].value_counts().plot.bar(figsize=(16, 6), rot=45, color=st_colors)\n",
    "plt.show()"
   ]
  },
  {
   "cell_type": "markdown",
   "id": "112",
   "metadata": {
    "papermill": {
     "duration": 0.143372,
     "end_time": "2024-11-02T05:09:30.322226",
     "exception": false,
     "start_time": "2024-11-02T05:09:30.178854",
     "status": "completed"
    },
    "tags": []
   },
   "source": [
    "## Effect type"
   ]
  },
  {
   "cell_type": "code",
   "execution_count": null,
   "id": "113",
   "metadata": {
    "papermill": {
     "duration": 0.472028,
     "end_time": "2024-11-02T05:09:31.096317",
     "exception": false,
     "start_time": "2024-11-02T05:09:30.624289",
     "status": "completed"
    },
    "tags": []
   },
   "outputs": [],
   "source": [
    "print(\"Total number of effect types:\", cards_df[\"Effect type\"].explode().nunique())"
   ]
  },
  {
   "cell_type": "code",
   "execution_count": null,
   "id": "114",
   "metadata": {
    "papermill": {
     "duration": 1.390784,
     "end_time": "2024-11-02T05:09:32.957119",
     "exception": false,
     "start_time": "2024-11-02T05:09:31.566335",
     "status": "completed"
    },
    "tags": []
   },
   "outputs": [],
   "source": [
    "cards_df.explode(\"Effect type\").groupby(\"Effect type\").nunique()"
   ]
  },
  {
   "cell_type": "markdown",
   "id": "115",
   "metadata": {
    "papermill": {
     "duration": 0.507254,
     "end_time": "2024-11-02T05:09:33.688805",
     "exception": false,
     "start_time": "2024-11-02T05:09:33.181551",
     "status": "completed"
    },
    "tags": []
   },
   "source": [
    "### Card type discrimination"
   ]
  },
  {
   "cell_type": "code",
   "execution_count": null,
   "id": "116",
   "metadata": {
    "papermill": {
     "duration": 1.417667,
     "end_time": "2024-11-02T05:09:35.449057",
     "exception": false,
     "start_time": "2024-11-02T05:09:34.031390",
     "status": "completed"
    },
    "tags": []
   },
   "outputs": [],
   "source": [
    "type_diff = cards_df[[\"Card type\", \"Effect type\"]].explode(\"Effect type\").value_counts().unstack(0).fillna(0).astype(int)\n",
    "type_diff"
   ]
  },
  {
   "cell_type": "code",
   "execution_count": null,
   "id": "117",
   "metadata": {
    "papermill": {
     "duration": 0.755844,
     "end_time": "2024-11-02T05:09:36.368889",
     "exception": false,
     "start_time": "2024-11-02T05:09:35.613045",
     "status": "completed"
    },
    "tags": []
   },
   "outputs": [],
   "source": [
    "type_diff_colors = {type: plot.colors_dict[type] for type in cards_df[\"Card type\"].dropna().unique()}\n",
    "type_diff.plot.bar(figsize=(18, 6), stacked=True, rot=45, color=type_diff_colors)\n",
    "plt.show()"
   ]
  },
  {
   "cell_type": "markdown",
   "id": "118",
   "metadata": {
    "papermill": {
     "duration": 0.156638,
     "end_time": "2024-11-02T05:09:36.720297",
     "exception": false,
     "start_time": "2024-11-02T05:09:36.563659",
     "status": "completed"
    },
    "tags": []
   },
   "source": [
    "## Archseries"
   ]
  },
  {
   "cell_type": "code",
   "execution_count": null,
   "id": "119",
   "metadata": {
    "papermill": {
     "duration": 0.981208,
     "end_time": "2024-11-02T05:09:38.213670",
     "exception": false,
     "start_time": "2024-11-02T05:09:37.232462",
     "status": "completed"
    },
    "tags": []
   },
   "outputs": [],
   "source": [
    "exploded_archseries = cards_df.explode(\"Archseries\")\n",
    "print(\"Total number of Archseries:\", exploded_archseries[\"Archseries\"].nunique())"
   ]
  },
  {
   "cell_type": "code",
   "execution_count": null,
   "id": "120",
   "metadata": {
    "papermill": {
     "duration": 0.395563,
     "end_time": "2024-11-02T05:09:38.781202",
     "exception": false,
     "start_time": "2024-11-02T05:09:38.385639",
     "status": "completed"
    },
    "tags": []
   },
   "outputs": [],
   "source": [
    "exploded_archseries.groupby(\"Archseries\").nunique()"
   ]
  },
  {
   "cell_type": "code",
   "execution_count": null,
   "id": "121",
   "metadata": {
    "papermill": {
     "duration": 1.123687,
     "end_time": "2024-11-02T05:09:40.080926",
     "exception": false,
     "start_time": "2024-11-02T05:09:38.957239",
     "status": "completed"
    },
    "tags": []
   },
   "outputs": [],
   "source": [
    "exploded_archseries[\"Archseries\"].value_counts().sort_values().tail(30).plot.barh(\n",
    "    figsize=(10, 15), grid=True, title=\"Top 30 Archtypes/Series\"\n",
    ")\n",
    "plt.show()"
   ]
  },
  {
   "cell_type": "markdown",
   "id": "122",
   "metadata": {
    "papermill": {
     "duration": 0.267284,
     "end_time": "2024-11-02T05:09:40.528023",
     "exception": false,
     "start_time": "2024-11-02T05:09:40.260739",
     "status": "completed"
    },
    "tags": []
   },
   "source": [
    "### By card type"
   ]
  },
  {
   "cell_type": "code",
   "execution_count": null,
   "id": "123",
   "metadata": {
    "papermill": {
     "duration": 0.357119,
     "end_time": "2024-11-02T05:09:41.392097",
     "exception": false,
     "start_time": "2024-11-02T05:09:41.034978",
     "status": "completed"
    },
    "tags": []
   },
   "outputs": [],
   "source": [
    "archseries_crosstab = pd.crosstab(exploded_archseries[\"Archseries\"], exploded_archseries[\"Card type\"], margins=True)\n",
    "archseries_crosstab"
   ]
  },
  {
   "cell_type": "markdown",
   "id": "124",
   "metadata": {
    "papermill": {
     "duration": 2.053727,
     "end_time": "2024-11-02T05:09:43.675183",
     "exception": false,
     "start_time": "2024-11-02T05:09:41.621456",
     "status": "completed"
    },
    "tags": []
   },
   "source": [
    "### By primary type"
   ]
  },
  {
   "cell_type": "code",
   "execution_count": null,
   "id": "125",
   "metadata": {
    "papermill": {
     "duration": 0.336435,
     "end_time": "2024-11-02T05:09:44.350600",
     "exception": false,
     "start_time": "2024-11-02T05:09:44.014165",
     "status": "completed"
    },
    "tags": []
   },
   "outputs": [],
   "source": [
    "archseries_crosstab_b = pd.crosstab(exploded_archseries[\"Archseries\"], exploded_archseries[\"Primary type\"], margins=True)\n",
    "archseries_crosstab_b"
   ]
  },
  {
   "cell_type": "markdown",
   "id": "126",
   "metadata": {
    "papermill": {
     "duration": 0.379271,
     "end_time": "2024-11-02T05:09:45.015608",
     "exception": false,
     "start_time": "2024-11-02T05:09:44.636337",
     "status": "completed"
    },
    "tags": []
   },
   "source": [
    "\n",
    "\n",
    "### By secondary type"
   ]
  },
  {
   "cell_type": "code",
   "execution_count": null,
   "id": "127",
   "metadata": {
    "papermill": {
     "duration": 0.496552,
     "end_time": "2024-11-02T05:09:45.938033",
     "exception": false,
     "start_time": "2024-11-02T05:09:45.441481",
     "status": "completed"
    },
    "tags": []
   },
   "outputs": [],
   "source": [
    "exploded_archseries_secondary_type = exploded_archseries[[\"Archseries\", \"Secondary type\"]].explode(\"Secondary type\")\n",
    "archseries_crosstab_c = pd.crosstab(\n",
    "    exploded_archseries_secondary_type[\"Archseries\"],\n",
    "    exploded_archseries_secondary_type[\"Secondary type\"],\n",
    "    margins=True,\n",
    ")\n",
    "archseries_crosstab_c"
   ]
  },
  {
   "cell_type": "markdown",
   "id": "128",
   "metadata": {
    "papermill": {
     "duration": 0.854447,
     "end_time": "2024-11-02T05:09:47.022066",
     "exception": false,
     "start_time": "2024-11-02T05:09:46.167619",
     "status": "completed"
    },
    "tags": []
   },
   "source": [
    "### By monster type"
   ]
  },
  {
   "cell_type": "code",
   "execution_count": null,
   "id": "129",
   "metadata": {
    "papermill": {
     "duration": 0.509333,
     "end_time": "2024-11-02T05:09:47.798711",
     "exception": false,
     "start_time": "2024-11-02T05:09:47.289378",
     "status": "completed"
    },
    "tags": []
   },
   "outputs": [],
   "source": [
    "archseries_crosstab_d = pd.crosstab(exploded_archseries[\"Archseries\"], exploded_archseries[\"Monster type\"], margins=True)\n",
    "archseries_crosstab_d"
   ]
  },
  {
   "cell_type": "markdown",
   "id": "130",
   "metadata": {
    "papermill": {
     "duration": 0.450051,
     "end_time": "2024-11-02T05:09:48.434821",
     "exception": false,
     "start_time": "2024-11-02T05:09:47.984770",
     "status": "completed"
    },
    "tags": []
   },
   "source": [
    "### By property"
   ]
  },
  {
   "cell_type": "code",
   "execution_count": null,
   "id": "131",
   "metadata": {
    "papermill": {
     "duration": 0.498911,
     "end_time": "2024-11-02T05:09:49.436080",
     "exception": false,
     "start_time": "2024-11-02T05:09:48.937169",
     "status": "completed"
    },
    "tags": []
   },
   "outputs": [],
   "source": [
    "archseries_crosstab_e = pd.crosstab(exploded_archseries[\"Archseries\"], exploded_archseries[\"Property\"], margins=True)\n",
    "archseries_crosstab_e"
   ]
  },
  {
   "cell_type": "markdown",
   "id": "132",
   "metadata": {
    "papermill": {
     "duration": 0.994143,
     "end_time": "2024-11-02T05:09:50.609137",
     "exception": false,
     "start_time": "2024-11-02T05:09:49.614994",
     "status": "completed"
    },
    "tags": []
   },
   "source": [
    "## Artworks"
   ]
  },
  {
   "cell_type": "code",
   "execution_count": null,
   "id": "133",
   "metadata": {
    "papermill": {
     "duration": 0.279922,
     "end_time": "2024-11-02T05:09:51.351351",
     "exception": false,
     "start_time": "2024-11-02T05:09:51.071429",
     "status": "completed"
    },
    "tags": []
   },
   "outputs": [],
   "source": [
    "print(\n",
    "    \"Total number of cards with edited or alternate artworks:\",\n",
    "    cards_df[\"Artwork\"].count(),\n",
    ")"
   ]
  },
  {
   "cell_type": "code",
   "execution_count": null,
   "id": "134",
   "metadata": {
    "papermill": {
     "duration": 1.270226,
     "end_time": "2024-11-02T05:09:52.840843",
     "exception": false,
     "start_time": "2024-11-02T05:09:51.570617",
     "status": "completed"
    },
    "tags": []
   },
   "outputs": [],
   "source": [
    "cards_df[[\"Name\", \"Password\", \"TCG status\", \"OCG status\", \"Artwork\"]][cards_df[\"Artwork\"].notna()]"
   ]
  },
  {
   "cell_type": "code",
   "execution_count": null,
   "id": "135",
   "metadata": {
    "papermill": {
     "duration": 1.390494,
     "end_time": "2024-11-02T05:09:55.009976",
     "exception": false,
     "start_time": "2024-11-02T05:09:53.619482",
     "status": "completed"
    },
    "tags": []
   },
   "outputs": [],
   "source": [
    "artwork_value_counts = cards_df[\"Artwork\"].value_counts()\n",
    "plt.figure(figsize=(20, 8))\n",
    "plt.title(\"Artworks\")\n",
    "plot.venn2(\n",
    "    subsets=(\n",
    "        artwork_value_counts[(\"Alternate\",)],\n",
    "        artwork_value_counts[(\"Edited\",)],\n",
    "        artwork_value_counts[(\"Alternate\", \"Edited\")],\n",
    "    ),\n",
    "    set_labels=(\"Alternate artwork\", \"Edited artwork\"),\n",
    ")\n",
    "plt.show()"
   ]
  },
  {
   "cell_type": "markdown",
   "id": "136",
   "metadata": {
    "papermill": {
     "duration": 0.786461,
     "end_time": "2024-11-02T05:09:56.057489",
     "exception": false,
     "start_time": "2024-11-02T05:09:55.271028",
     "status": "completed"
    },
    "tags": []
   },
   "source": [
    "### By card type"
   ]
  },
  {
   "cell_type": "code",
   "execution_count": null,
   "id": "137",
   "metadata": {
    "papermill": {
     "duration": 0.363529,
     "end_time": "2024-11-02T05:09:56.647153",
     "exception": false,
     "start_time": "2024-11-02T05:09:56.283624",
     "status": "completed"
    },
    "tags": []
   },
   "outputs": [],
   "source": [
    "artwork_crosstab = pd.crosstab(cards_df[\"Artwork\"], cards_df[\"Card type\"])\n",
    "artwork_crosstab"
   ]
  },
  {
   "cell_type": "markdown",
   "id": "138",
   "metadata": {
    "papermill": {
     "duration": 0.96247,
     "end_time": "2024-11-02T05:09:57.870461",
     "exception": false,
     "start_time": "2024-11-02T05:09:56.907991",
     "status": "completed"
    },
    "tags": []
   },
   "source": [
    "### By primary type"
   ]
  },
  {
   "cell_type": "code",
   "execution_count": null,
   "id": "139",
   "metadata": {
    "papermill": {
     "duration": 0.98113,
     "end_time": "2024-11-02T05:09:59.039210",
     "exception": false,
     "start_time": "2024-11-02T05:09:58.058080",
     "status": "completed"
    },
    "tags": []
   },
   "outputs": [],
   "source": [
    "artwork_crosstab_b = pd.crosstab(cards_df[\"Artwork\"], cards_df[\"Primary type\"])\n",
    "artwork_crosstab_b"
   ]
  },
  {
   "cell_type": "markdown",
   "id": "140",
   "metadata": {
    "papermill": {
     "duration": 0.384487,
     "end_time": "2024-11-02T05:10:01.315355",
     "exception": false,
     "start_time": "2024-11-02T05:10:00.930868",
     "status": "completed"
    },
    "tags": []
   },
   "source": [
    "More granularity is unnecessary"
   ]
  },
  {
   "cell_type": "markdown",
   "id": "141",
   "metadata": {
    "papermill": {
     "duration": 0.493956,
     "end_time": "2024-11-02T05:10:02.355176",
     "exception": false,
     "start_time": "2024-11-02T05:10:01.861220",
     "status": "completed"
    },
    "tags": []
   },
   "source": [
    "## Errata"
   ]
  },
  {
   "cell_type": "code",
   "execution_count": null,
   "id": "142",
   "metadata": {
    "papermill": {
     "duration": 0.297416,
     "end_time": "2024-11-02T05:10:03.068851",
     "exception": false,
     "start_time": "2024-11-02T05:10:02.771435",
     "status": "completed"
    },
    "tags": []
   },
   "outputs": [],
   "source": [
    "print(\"Total number of cards with errata:\", cards_df[\"Errata\"].count())"
   ]
  },
  {
   "cell_type": "code",
   "execution_count": null,
   "id": "143",
   "metadata": {
    "papermill": {
     "duration": 2.231024,
     "end_time": "2024-11-02T05:10:06.751828",
     "exception": false,
     "start_time": "2024-11-02T05:10:04.520804",
     "status": "completed"
    },
    "tags": []
   },
   "outputs": [],
   "source": [
    "cards_df[[\"Name\", \"Password\", \"TCG status\", \"OCG status\", \"Errata\"]][cards_df[\"Errata\"].notna()]"
   ]
  },
  {
   "cell_type": "code",
   "execution_count": null,
   "id": "144",
   "metadata": {
    "papermill": {
     "duration": 1.727819,
     "end_time": "2024-11-02T05:10:08.773360",
     "exception": false,
     "start_time": "2024-11-02T05:10:07.045541",
     "status": "completed"
    },
    "tags": []
   },
   "outputs": [],
   "source": [
    "errata_counts = cards_df.groupby(\"Errata\").nunique().sort_values(\"Name\", ascending=False)\n",
    "errata_counts"
   ]
  },
  {
   "cell_type": "code",
   "execution_count": null,
   "id": "145",
   "metadata": {
    "papermill": {
     "duration": 0.832986,
     "end_time": "2024-11-02T05:10:10.077989",
     "exception": false,
     "start_time": "2024-11-02T05:10:09.245003",
     "status": "completed"
    },
    "tags": []
   },
   "outputs": [],
   "source": [
    "plt.figure(figsize=(20, 8))\n",
    "plt.title(\"Errata\")\n",
    "sorted_errata_name_counts = errata_counts[\"Name\"].drop((\"Any\",)).sort_index(key=lambda x: [(len(i), i) for i in x])\n",
    "plot.venn2(\n",
    "    subsets=sorted_errata_name_counts,\n",
    "    set_labels=sorted_errata_name_counts.index[:-1].str[0],\n",
    ")\n",
    "plt.show()"
   ]
  },
  {
   "cell_type": "markdown",
   "id": "146",
   "metadata": {
    "papermill": {
     "duration": 0.464387,
     "end_time": "2024-11-02T05:10:10.747953",
     "exception": false,
     "start_time": "2024-11-02T05:10:10.283566",
     "status": "completed"
    },
    "tags": []
   },
   "source": [
    "### By card type"
   ]
  },
  {
   "cell_type": "code",
   "execution_count": null,
   "id": "147",
   "metadata": {
    "papermill": {
     "duration": 0.329778,
     "end_time": "2024-11-02T05:10:12.107715",
     "exception": false,
     "start_time": "2024-11-02T05:10:11.777937",
     "status": "completed"
    },
    "tags": []
   },
   "outputs": [],
   "source": [
    "errata_crosstab = pd.crosstab(cards_df[\"Errata\"], cards_df[\"Card type\"])\n",
    "errata_crosstab.sort_values(by=errata_crosstab.columns.tolist(), ascending=False)"
   ]
  },
  {
   "cell_type": "markdown",
   "id": "148",
   "metadata": {
    "papermill": {
     "duration": 0.522647,
     "end_time": "2024-11-02T05:10:13.066493",
     "exception": false,
     "start_time": "2024-11-02T05:10:12.543846",
     "status": "completed"
    },
    "tags": []
   },
   "source": [
    "### By primary type"
   ]
  },
  {
   "cell_type": "code",
   "execution_count": null,
   "id": "149",
   "metadata": {
    "papermill": {
     "duration": 2.327891,
     "end_time": "2024-11-02T05:10:15.984252",
     "exception": false,
     "start_time": "2024-11-02T05:10:13.656361",
     "status": "completed"
    },
    "tags": []
   },
   "outputs": [],
   "source": [
    "errata_crosstab_b = pd.crosstab(cards_df[\"Errata\"], cards_df[\"Primary type\"])\n",
    "errata_crosstab_b.sort_values(by=errata_crosstab_b.columns.tolist(), ascending=False)"
   ]
  },
  {
   "cell_type": "markdown",
   "id": "150",
   "metadata": {
    "papermill": {
     "duration": 0.32303,
     "end_time": "2024-11-02T05:10:16.859419",
     "exception": false,
     "start_time": "2024-11-02T05:10:16.536389",
     "status": "completed"
    },
    "tags": []
   },
   "source": [
    "More granularity is unnecessary"
   ]
  },
  {
   "cell_type": "markdown",
   "id": "151",
   "metadata": {
    "papermill": {
     "duration": 0.391662,
     "end_time": "2024-11-02T05:10:17.755087",
     "exception": false,
     "start_time": "2024-11-02T05:10:17.363425",
     "status": "completed"
    },
    "tags": []
   },
   "source": [
    "### By artwork"
   ]
  },
  {
   "cell_type": "code",
   "execution_count": null,
   "id": "152",
   "metadata": {
    "papermill": {
     "duration": 0.99803,
     "end_time": "2024-11-02T05:10:19.422847",
     "exception": false,
     "start_time": "2024-11-02T05:10:18.424817",
     "status": "completed"
    },
    "tags": []
   },
   "outputs": [],
   "source": [
    "errata_crosstab_c = pd.crosstab(cards_df[\"Artwork\"], cards_df[\"Errata\"])\n",
    "errata_crosstab_c.sort_values(by=errata_crosstab_c.columns.tolist(), ascending=False)"
   ]
  },
  {
   "cell_type": "markdown",
   "id": "153",
   "metadata": {
    "papermill": {
     "duration": 0.442091,
     "end_time": "2024-11-02T05:10:20.224250",
     "exception": false,
     "start_time": "2024-11-02T05:10:19.782159",
     "status": "completed"
    },
    "tags": []
   },
   "source": [
    "## TCG & OCG status"
   ]
  },
  {
   "cell_type": "markdown",
   "id": "154",
   "metadata": {
    "papermill": {
     "duration": 0.365585,
     "end_time": "2024-11-02T05:10:22.005927",
     "exception": false,
     "start_time": "2024-11-02T05:10:21.640342",
     "status": "completed"
    },
    "tags": []
   },
   "source": [
    "### TGC status"
   ]
  },
  {
   "cell_type": "code",
   "execution_count": null,
   "id": "155",
   "metadata": {
    "papermill": {
     "duration": 0.575553,
     "end_time": "2024-11-02T05:10:23.260695",
     "exception": false,
     "start_time": "2024-11-02T05:10:22.685142",
     "status": "completed"
    },
    "tags": []
   },
   "outputs": [],
   "source": [
    "print(\"Total number of TCG status:\", cards_df[\"TCG status\"].nunique())"
   ]
  },
  {
   "cell_type": "code",
   "execution_count": null,
   "id": "156",
   "metadata": {
    "papermill": {
     "duration": 0.316483,
     "end_time": "2024-11-02T05:10:24.538125",
     "exception": false,
     "start_time": "2024-11-02T05:10:24.221642",
     "status": "completed"
    },
    "tags": []
   },
   "outputs": [],
   "source": [
    "cards_df.drop(columns=[\"Page name\", \"Page URL\"]).groupby(\"TCG status\", dropna=False).nunique()"
   ]
  },
  {
   "cell_type": "code",
   "execution_count": null,
   "id": "157",
   "metadata": {
    "papermill": {
     "duration": 0.650702,
     "end_time": "2024-11-02T05:10:25.630541",
     "exception": false,
     "start_time": "2024-11-02T05:10:24.979839",
     "status": "completed"
    },
    "tags": []
   },
   "outputs": [],
   "source": [
    "cards_df[\"TCG status\"].value_counts(dropna=False).plot.bar(figsize=(14, 6), logy=True, rot=0)\n",
    "plt.show()"
   ]
  },
  {
   "cell_type": "markdown",
   "id": "158",
   "metadata": {
    "papermill": {
     "duration": 0.68062,
     "end_time": "2024-11-02T05:10:26.513148",
     "exception": false,
     "start_time": "2024-11-02T05:10:25.832528",
     "status": "completed"
    },
    "tags": []
   },
   "source": [
    "#### By card type"
   ]
  },
  {
   "cell_type": "code",
   "execution_count": null,
   "id": "159",
   "metadata": {
    "papermill": {
     "duration": 0.848378,
     "end_time": "2024-11-02T05:10:28.124698",
     "exception": false,
     "start_time": "2024-11-02T05:10:27.276320",
     "status": "completed"
    },
    "tags": []
   },
   "outputs": [],
   "source": [
    "# Remove unlimited\n",
    "tcg_crosstab = pd.crosstab(cards_df[\"Card type\"], cards_df[\"TCG status\"]).drop([\"Unlimited\"], axis=1)\n",
    "tcg_crosstab"
   ]
  },
  {
   "cell_type": "code",
   "execution_count": null,
   "id": "160",
   "metadata": {
    "papermill": {
     "duration": 0.666695,
     "end_time": "2024-11-02T05:10:29.164781",
     "exception": false,
     "start_time": "2024-11-02T05:10:28.498086",
     "status": "completed"
    },
    "tags": []
   },
   "outputs": [],
   "source": [
    "plt.figure(figsize=(12, 6))\n",
    "sns.heatmap(\n",
    "    tcg_crosstab[tcg_crosstab > 0],\n",
    "    annot=True,\n",
    "    fmt=\"g\",\n",
    "    cmap=\"viridis\",\n",
    "    norm=plot.LogNorm(),\n",
    ")\n",
    "plt.show()"
   ]
  },
  {
   "cell_type": "markdown",
   "id": "161",
   "metadata": {
    "papermill": {
     "duration": 0.345123,
     "end_time": "2024-11-02T05:10:29.742270",
     "exception": false,
     "start_time": "2024-11-02T05:10:29.397147",
     "status": "completed"
    },
    "tags": []
   },
   "source": [
    "#### By monster type"
   ]
  },
  {
   "cell_type": "code",
   "execution_count": null,
   "id": "162",
   "metadata": {
    "papermill": {
     "duration": 0.293268,
     "end_time": "2024-11-02T05:10:30.231147",
     "exception": false,
     "start_time": "2024-11-02T05:10:29.937879",
     "status": "completed"
    },
    "tags": []
   },
   "outputs": [],
   "source": [
    "# Remove unlimited\n",
    "tcg_crosstab_b = pd.crosstab(cards_df[\"Monster type\"], cards_df[\"TCG status\"]).drop([\"Unlimited\"], axis=1)\n",
    "tcg_crosstab_b"
   ]
  },
  {
   "cell_type": "code",
   "execution_count": null,
   "id": "163",
   "metadata": {
    "papermill": {
     "duration": 1.194532,
     "end_time": "2024-11-02T05:10:31.639932",
     "exception": false,
     "start_time": "2024-11-02T05:10:30.445400",
     "status": "completed"
    },
    "tags": []
   },
   "outputs": [],
   "source": [
    "plt.figure(figsize=(18, 4))\n",
    "sns.heatmap(\n",
    "    tcg_crosstab_b[tcg_crosstab_b > 0].T,\n",
    "    annot=True,\n",
    "    fmt=\"g\",\n",
    "    cmap=\"viridis\",\n",
    "    square=True,\n",
    ")\n",
    "plt.show()"
   ]
  },
  {
   "cell_type": "markdown",
   "id": "164",
   "metadata": {
    "papermill": {
     "duration": 0.334096,
     "end_time": "2024-11-02T05:10:32.613918",
     "exception": false,
     "start_time": "2024-11-02T05:10:32.279822",
     "status": "completed"
    },
    "tags": []
   },
   "source": [
    "#### By archseries"
   ]
  },
  {
   "cell_type": "code",
   "execution_count": null,
   "id": "165",
   "metadata": {
    "papermill": {
     "duration": 0.307227,
     "end_time": "2024-11-02T05:10:34.214101",
     "exception": false,
     "start_time": "2024-11-02T05:10:33.906874",
     "status": "completed"
    },
    "tags": []
   },
   "outputs": [],
   "source": [
    "# Remove unlimited\n",
    "tcg_crosstab_c = pd.crosstab(\n",
    "    exploded_archseries[\"Archseries\"].where(exploded_archseries[\"OCG status\"] != \"Unlimited\"),\n",
    "    exploded_archseries[\"TCG status\"],\n",
    "    margins=True,\n",
    ")\n",
    "tcg_crosstab_c"
   ]
  },
  {
   "cell_type": "markdown",
   "id": "166",
   "metadata": {
    "papermill": {
     "duration": 0.590764,
     "end_time": "2024-11-02T05:10:35.021915",
     "exception": false,
     "start_time": "2024-11-02T05:10:34.431151",
     "status": "completed"
    },
    "tags": []
   },
   "source": [
    "### OCG status"
   ]
  },
  {
   "cell_type": "code",
   "execution_count": null,
   "id": "167",
   "metadata": {
    "papermill": {
     "duration": 0.380502,
     "end_time": "2024-11-02T05:10:35.660216",
     "exception": false,
     "start_time": "2024-11-02T05:10:35.279714",
     "status": "completed"
    },
    "tags": []
   },
   "outputs": [],
   "source": [
    "print(\"Total number of OCG status:\", cards_df[\"OCG status\"].nunique())"
   ]
  },
  {
   "cell_type": "code",
   "execution_count": null,
   "id": "168",
   "metadata": {
    "papermill": {
     "duration": 0.376484,
     "end_time": "2024-11-02T05:10:36.641157",
     "exception": false,
     "start_time": "2024-11-02T05:10:36.264673",
     "status": "completed"
    },
    "tags": []
   },
   "outputs": [],
   "source": [
    "cards_df.drop(columns=[\"Page name\", \"Page URL\"]).groupby(\"OCG status\", dropna=False).nunique()"
   ]
  },
  {
   "cell_type": "code",
   "execution_count": null,
   "id": "169",
   "metadata": {
    "papermill": {
     "duration": 0.744958,
     "end_time": "2024-11-02T05:10:37.581651",
     "exception": false,
     "start_time": "2024-11-02T05:10:36.836693",
     "status": "completed"
    },
    "tags": []
   },
   "outputs": [],
   "source": [
    "cards_df[\"OCG status\"].value_counts(dropna=False).plot.bar(figsize=(14, 6), logy=True, rot=0)\n",
    "plt.show()"
   ]
  },
  {
   "cell_type": "markdown",
   "id": "170",
   "metadata": {
    "papermill": {
     "duration": 0.185391,
     "end_time": "2024-11-02T05:10:37.983651",
     "exception": false,
     "start_time": "2024-11-02T05:10:37.798260",
     "status": "completed"
    },
    "tags": []
   },
   "source": [
    "#### By card type"
   ]
  },
  {
   "cell_type": "code",
   "execution_count": null,
   "id": "171",
   "metadata": {
    "papermill": {
     "duration": 0.320085,
     "end_time": "2024-11-02T05:10:39.153555",
     "exception": false,
     "start_time": "2024-11-02T05:10:38.833470",
     "status": "completed"
    },
    "tags": []
   },
   "outputs": [],
   "source": [
    "# Remove unlimited\n",
    "ocg_crosstab = pd.crosstab(cards_df[\"Card type\"], cards_df[\"OCG status\"]).drop([\"Unlimited\"], axis=1)\n",
    "ocg_crosstab"
   ]
  },
  {
   "cell_type": "code",
   "execution_count": null,
   "id": "172",
   "metadata": {
    "papermill": {
     "duration": 0.568601,
     "end_time": "2024-11-02T05:10:40.532401",
     "exception": false,
     "start_time": "2024-11-02T05:10:39.963800",
     "status": "completed"
    },
    "tags": []
   },
   "outputs": [],
   "source": [
    "plt.figure(figsize=(12, 6))\n",
    "sns.heatmap(ocg_crosstab[ocg_crosstab > 0], annot=True, fmt=\"g\", cmap=\"viridis\")\n",
    "plt.show()"
   ]
  },
  {
   "cell_type": "markdown",
   "id": "173",
   "metadata": {
    "papermill": {
     "duration": 0.40719,
     "end_time": "2024-11-02T05:10:41.759359",
     "exception": false,
     "start_time": "2024-11-02T05:10:41.352169",
     "status": "completed"
    },
    "tags": []
   },
   "source": [
    "#### By monster type"
   ]
  },
  {
   "cell_type": "code",
   "execution_count": null,
   "id": "174",
   "metadata": {
    "papermill": {
     "duration": 0.855508,
     "end_time": "2024-11-02T05:10:43.391442",
     "exception": false,
     "start_time": "2024-11-02T05:10:42.535934",
     "status": "completed"
    },
    "tags": []
   },
   "outputs": [],
   "source": [
    "ocg_crosstab_b = pd.crosstab(cards_df[\"Monster type\"], cards_df[\"OCG status\"]).drop([\"Unlimited\"], axis=1)\n",
    "ocg_crosstab_b"
   ]
  },
  {
   "cell_type": "code",
   "execution_count": null,
   "id": "175",
   "metadata": {
    "papermill": {
     "duration": 1.905073,
     "end_time": "2024-11-02T05:10:45.845660",
     "exception": false,
     "start_time": "2024-11-02T05:10:43.940587",
     "status": "completed"
    },
    "tags": []
   },
   "outputs": [],
   "source": [
    "plt.figure(figsize=(18, 4))\n",
    "sns.heatmap(\n",
    "    ocg_crosstab_b[ocg_crosstab_b > 0].T,\n",
    "    annot=True,\n",
    "    fmt=\"g\",\n",
    "    cmap=\"viridis\",\n",
    "    square=True,\n",
    ")\n",
    "plt.show()"
   ]
  },
  {
   "cell_type": "markdown",
   "id": "176",
   "metadata": {
    "papermill": {
     "duration": 0.190716,
     "end_time": "2024-11-02T05:10:46.364847",
     "exception": false,
     "start_time": "2024-11-02T05:10:46.174131",
     "status": "completed"
    },
    "tags": []
   },
   "source": [
    "#### By archseries"
   ]
  },
  {
   "cell_type": "code",
   "execution_count": null,
   "id": "177",
   "metadata": {
    "papermill": {
     "duration": 0.346666,
     "end_time": "2024-11-02T05:10:47.282644",
     "exception": false,
     "start_time": "2024-11-02T05:10:46.935978",
     "status": "completed"
    },
    "tags": []
   },
   "outputs": [],
   "source": [
    "# Remove unlimited\n",
    "ocg_crosstab_c = pd.crosstab(\n",
    "    exploded_archseries[\"Archseries\"].where(exploded_archseries[\"OCG status\"] != \"Unlimited\"),\n",
    "    exploded_archseries[\"OCG status\"],\n",
    "    margins=True,\n",
    ")\n",
    "ocg_crosstab_c"
   ]
  },
  {
   "cell_type": "markdown",
   "id": "178",
   "metadata": {
    "papermill": {
     "duration": 0.616234,
     "end_time": "2024-11-02T05:10:48.120426",
     "exception": false,
     "start_time": "2024-11-02T05:10:47.504192",
     "status": "completed"
    },
    "tags": []
   },
   "source": [
    "### TCG vs. OCG status"
   ]
  },
  {
   "cell_type": "code",
   "execution_count": null,
   "id": "179",
   "metadata": {
    "papermill": {
     "duration": 0.382731,
     "end_time": "2024-11-02T05:10:48.896251",
     "exception": false,
     "start_time": "2024-11-02T05:10:48.513520",
     "status": "completed"
    },
    "tags": []
   },
   "outputs": [],
   "source": [
    "cg_crosstab = pd.crosstab(cards_df[\"OCG status\"], cards_df[\"TCG status\"], dropna=False, margins=False)\n",
    "cg_crosstab"
   ]
  },
  {
   "cell_type": "code",
   "execution_count": null,
   "id": "180",
   "metadata": {
    "papermill": {
     "duration": 0.810508,
     "end_time": "2024-11-02T05:10:49.951269",
     "exception": false,
     "start_time": "2024-11-02T05:10:49.140761",
     "status": "completed"
    },
    "tags": []
   },
   "outputs": [],
   "source": [
    "plt.figure(figsize=(10, 8))\n",
    "sns.heatmap(\n",
    "    cg_crosstab[cg_crosstab > 0],\n",
    "    annot=True,\n",
    "    fmt=\"g\",\n",
    "    cmap=\"viridis\",\n",
    "    square=True,\n",
    "    norm=plot.LogNorm(),\n",
    ")\n",
    "plt.show()"
   ]
  },
  {
   "cell_type": "markdown",
   "id": "181",
   "metadata": {
    "papermill": {
     "duration": 0.272253,
     "end_time": "2024-11-02T05:10:50.508633",
     "exception": false,
     "start_time": "2024-11-02T05:10:50.236380",
     "status": "completed"
    },
    "tags": []
   },
   "source": [
    "# Extras"
   ]
  },
  {
   "cell_type": "markdown",
   "id": "182",
   "metadata": {
    "papermill": {
     "duration": 0.2164,
     "end_time": "2024-11-02T05:10:50.989016",
     "exception": false,
     "start_time": "2024-11-02T05:10:50.772616",
     "status": "completed"
    },
    "tags": []
   },
   "source": [
    "## Counters and Tokens"
   ]
  },
  {
   "cell_type": "code",
   "execution_count": null,
   "id": "183",
   "metadata": {
    "papermill": {
     "duration": 0.600957,
     "end_time": "2024-11-02T05:10:51.802939",
     "exception": false,
     "start_time": "2024-11-02T05:10:51.201982",
     "status": "completed"
    },
    "tags": []
   },
   "outputs": [],
   "source": [
    "token_df.dropna(how=\"all\", axis=1)"
   ]
  },
  {
   "cell_type": "markdown",
   "id": "184",
   "metadata": {
    "papermill": {
     "duration": 1.188156,
     "end_time": "2024-11-02T05:10:53.648267",
     "exception": false,
     "start_time": "2024-11-02T05:10:52.460111",
     "status": "completed"
    },
    "tags": []
   },
   "source": [
    "## Unusable cards"
   ]
  },
  {
   "cell_type": "code",
   "execution_count": null,
   "id": "185",
   "metadata": {
    "papermill": {
     "duration": 0.488777,
     "end_time": "2024-11-02T05:10:54.511826",
     "exception": false,
     "start_time": "2024-11-02T05:10:54.023049",
     "status": "completed"
    },
    "tags": []
   },
   "outputs": [],
   "source": [
    "unusable_df"
   ]
  },
  {
   "cell_type": "markdown",
   "id": "186",
   "metadata": {
    "papermill": {
     "duration": 0.539856,
     "end_time": "2024-11-02T05:10:55.248180",
     "exception": false,
     "start_time": "2024-11-02T05:10:54.708324",
     "status": "completed"
    },
    "tags": []
   },
   "source": [
    "## Multiple secondary types"
   ]
  },
  {
   "cell_type": "code",
   "execution_count": null,
   "id": "187",
   "metadata": {
    "papermill": {
     "duration": 0.515043,
     "end_time": "2024-11-02T05:10:55.977546",
     "exception": false,
     "start_time": "2024-11-02T05:10:55.462503",
     "status": "completed"
    },
    "tags": []
   },
   "outputs": [],
   "source": [
    "cards_df.dropna(subset=\"Secondary type\", axis=0)[[len(x) > 1 for x in cards_df[\"Secondary type\"].dropna()]]"
   ]
  },
  {
   "cell_type": "markdown",
   "id": "188",
   "metadata": {
    "papermill": {
     "duration": 0.351755,
     "end_time": "2024-11-02T05:10:56.555107",
     "exception": false,
     "start_time": "2024-11-02T05:10:56.203352",
     "status": "completed"
    },
    "tags": []
   },
   "source": [
    "## Not yet released"
   ]
  },
  {
   "cell_type": "code",
   "execution_count": null,
   "id": "189",
   "metadata": {
    "papermill": {
     "duration": 0.299012,
     "end_time": "2024-11-02T05:10:57.081210",
     "exception": false,
     "start_time": "2024-11-02T05:10:56.782198",
     "status": "completed"
    },
    "tags": []
   },
   "outputs": [],
   "source": [
    "full_df.loc[(full_df[\"OCG status\"] == \"Not yet released\") | (full_df[\"TCG status\"] == \"Not yet released\")]"
   ]
  },
  {
   "cell_type": "markdown",
   "id": "190",
   "metadata": {
    "papermill": {
     "duration": 0.372147,
     "end_time": "2024-11-02T05:10:57.663125",
     "exception": false,
     "start_time": "2024-11-02T05:10:57.290978",
     "status": "completed"
    },
    "tags": []
   },
   "source": [
    "## Page name differs from card name"
   ]
  },
  {
   "cell_type": "code",
   "execution_count": null,
   "id": "191",
   "metadata": {
    "papermill": {
     "duration": 0.322341,
     "end_time": "2024-11-02T05:10:58.199136",
     "exception": false,
     "start_time": "2024-11-02T05:10:57.876795",
     "status": "completed"
    },
    "tags": []
   },
   "outputs": [],
   "source": [
    "full_df[full_df[\"Name\"] != full_df[\"Page name\"]]"
   ]
  },
  {
   "cell_type": "markdown",
   "id": "192",
   "metadata": {
    "papermill": {
     "duration": 0.339362,
     "end_time": "2024-11-02T05:10:58.843552",
     "exception": false,
     "start_time": "2024-11-02T05:10:58.504190",
     "status": "completed"
    },
    "tags": []
   },
   "source": [
    "# Epilogue"
   ]
  },
  {
   "cell_type": "code",
   "execution_count": null,
   "id": "193",
   "metadata": {
    "papermill": {
     "duration": 4.897084,
     "end_time": "2024-11-02T05:11:03.965921",
     "exception": false,
     "start_time": "2024-11-02T05:10:59.068837",
     "status": "completed"
    },
    "tags": []
   },
   "outputs": [],
   "source": [
    "benchmark(report=\"cards\", timestamp=timestamp)"
   ]
  },
  {
   "cell_type": "code",
   "execution_count": null,
   "id": "194",
   "metadata": {
    "papermill": {
     "duration": 0.211918,
     "end_time": "2024-11-02T05:11:04.466560",
     "exception": false,
     "start_time": "2024-11-02T05:11:04.254642",
     "status": "completed"
    },
    "tags": []
   },
   "outputs": [],
   "source": [
    "footer(timestamp)"
   ]
  },
  {
   "cell_type": "markdown",
   "id": "195",
   "metadata": {
    "papermill": {
     "duration": 0.434414,
     "end_time": "2024-11-02T05:11:05.717619",
     "exception": false,
     "start_time": "2024-11-02T05:11:05.283205",
     "status": "completed"
    },
    "tags": []
   },
   "source": [
    "## HTML export"
   ]
  },
  {
   "cell_type": "code",
   "execution_count": null,
   "id": "196",
   "metadata": {
    "papermill": {
     "duration": 0.215427,
     "end_time": "2024-11-02T05:11:06.338860",
     "exception": false,
     "start_time": "2024-11-02T05:11:06.123433",
     "status": "completed"
    },
    "tags": []
   },
   "outputs": [],
   "source": [
    "# Save notebook on disck before generating HTML report\n",
    "save_notebook()"
   ]
  },
  {
   "cell_type": "code",
   "execution_count": null,
   "id": "197",
   "metadata": {
    "papermill": {
     "duration": 6.278935,
     "end_time": "2024-11-02T05:11:13.161234",
     "exception": false,
     "start_time": "2024-11-02T05:11:06.882299",
     "status": "completed"
    },
    "tags": []
   },
   "outputs": [],
   "source": [
    "export_notebook(dirs.NOTEBOOKS.user / \"Cards.ipynb\")"
   ]
  },
  {
   "cell_type": "markdown",
   "id": "198",
   "metadata": {
    "papermill": {
     "duration": 0.393841,
     "end_time": "2024-11-02T05:11:13.919530",
     "exception": false,
     "start_time": "2024-11-02T05:11:13.525689",
     "status": "completed"
    },
    "tags": [
     "exclude"
    ]
   },
   "source": [
    "## Git"
   ]
  },
  {
   "cell_type": "code",
   "execution_count": null,
   "id": "199",
   "metadata": {
    "papermill": {
     "duration": null,
     "end_time": null,
     "exception": false,
     "start_time": "2024-11-02T05:11:14.335368",
     "status": "running"
    },
    "tags": [
     "exclude"
    ]
   },
   "outputs": [],
   "source": [
    "git.commit(\"*[Cc]ards*\", f\"Cards update - {timestamp.isoformat()}\")"
   ]
  }
 ],
 "metadata": {
  "kernelspec": {
   "display_name": "Python3 (YugiQuery)",
   "language": "python",
   "name": "yugiquery"
  },
  "language_info": {
   "codemirror_mode": {
    "name": "ipython",
    "version": 3
   },
   "file_extension": ".py",
   "mimetype": "text/x-python",
   "name": "python",
   "nbconvert_exporter": "python",
   "pygments_lexer": "ipython3",
   "version": "3.11.6"
  },
  "papermill": {
   "default_parameters": {},
   "duration": null,
   "end_time": null,
   "environment_variables": {},
   "exception": null,
   "input_path": "/home/jovyan/yugiquery/notebooks/Cards.ipynb",
   "output_path": "/home/jovyan/yugiquery/notebooks/Cards.ipynb",
   "parameters": {},
   "start_time": "2024-11-02T05:05:09.602570",
   "version": "2.6.0"
  },
  "toc": {
   "base_numbering": 1,
   "nav_menu": {
    "height": "599px",
    "width": "228px"
   },
   "number_sections": true,
   "sideBar": true,
   "skip_h1_title": false,
   "title_cell": "Table of Contents",
   "title_sidebar": "Contents",
   "toc_cell": true,
   "toc_position": {
    "height": "calc(100% - 180px)",
    "left": "10px",
    "top": "150px",
    "width": "353px"
   },
   "toc_section_display": true,
   "toc_window_display": true
  },
  "toc-autonumbering": false,
  "toc-showcode": false,
  "toc-showmarkdowntxt": false
 },
 "nbformat": 4,
 "nbformat_minor": 5
}
