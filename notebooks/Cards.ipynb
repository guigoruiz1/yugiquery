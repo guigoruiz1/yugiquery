{
 "cells": [
  {
   "cell_type": "code",
   "execution_count": null,
   "id": "0",
   "metadata": {
    "papermill": {
     "duration": 3.700595,
     "end_time": "2025-07-26T06:03:35.900325",
     "exception": false,
     "start_time": "2025-07-26T06:03:32.199730",
     "status": "completed"
    },
    "tags": []
   },
   "outputs": [],
   "source": [
    "from yugiquery import *\n",
    "\n",
    "init_notebook_mode(all_interactive=True)\n",
    "\n",
    "header(\"Cards\")"
   ]
  },
  {
   "cell_type": "markdown",
   "id": "1",
   "metadata": {
    "papermill": {
     "duration": 0.203667,
     "end_time": "2025-07-26T06:03:36.298579",
     "exception": false,
     "start_time": "2025-07-26T06:03:36.094912",
     "status": "completed"
    },
    "tags": []
   },
   "source": [
    "---"
   ]
  },
  {
   "cell_type": "markdown",
   "id": "2",
   "metadata": {
    "papermill": {
     "duration": 0.066172,
     "end_time": "2025-07-26T06:03:36.463123",
     "exception": false,
     "start_time": "2025-07-26T06:03:36.396951",
     "status": "completed"
    },
    "tags": []
   },
   "source": [
    "Table of Contents <a class=\"jp-toc-ignore\"></a>\n",
    "=================\n",
    "* [1 Data aquisition](#data-aquisition)\n",
    "  * [1.1 Fetch online data](#fetch-online-data)\n",
    "  * [1.2 Merge data](#merge-data)\n",
    "* [2 Check changes](#check-changes)\n",
    "  * [2.1 Load previous data](#load-previous-data)\n",
    "  * [2.2 Generate changelog](#generate-changelog)\n",
    "  * [2.3 Save data](#save-data)\n",
    "* [3 Data visualization](#data-visualization)\n",
    "  * [3.1 Full data](#full-data)\n",
    "  * [3.2 Card types](#card-types)\n",
    "  * [3.3 Monsters](#monsters)\n",
    "    * [3.3.1 Attributes](#attributes)\n",
    "    * [3.3.2 Primary types](#primary-types)\n",
    "      * [3.3.2.1 Has effect discrimination](#has-effect-discrimination)\n",
    "      * [3.3.2.2 Is pendulum discrimination](#is-pendulum-discrimination)\n",
    "      * [3.3.2.3 By attribute](#by-attribute)\n",
    "    * [3.3.3 Secondary types](#secondary-types)\n",
    "      * [3.3.3.1 By attribute](#by-attribute)\n",
    "      * [3.3.3.2 By primary type](#by-primary-type)\n",
    "    * [3.3.4 Monster types](#monster-types)\n",
    "      * [3.3.4.1 By Attribute](#by-attribute)\n",
    "      * [3.3.4.2 By primary type](#by-primary-type)\n",
    "      * [3.3.4.3 By secondary type](#by-secondary-type)\n",
    "    * [3.3.5 ATK](#atk)\n",
    "    * [3.3.6 DEF](#def)\n",
    "    * [3.3.7 Level/Rank](#level/rank)\n",
    "      * [3.3.7.1 ATK statistics](#atk-statistics)\n",
    "      * [3.3.7.2 DEF statistics](#def-statistics)\n",
    "    * [3.3.8 Pendulum scale](#pendulum-scale)\n",
    "      * [3.3.8.1 ATK statistics](#atk-statistics)\n",
    "      * [3.3.8.2 DEF statistics](#def-statistics)\n",
    "      * [3.3.8.3 Level/Rank statistics](#level/rank-statistics)\n",
    "    * [3.3.9 Link](#link)\n",
    "      * [3.3.9.1 ATK statistics](#atk-statistics)\n",
    "    * [3.3.10 Link Arrows](#link-arrows)\n",
    "      * [3.3.10.1 By combination](#by-combination)\n",
    "      * [3.3.10.2 By unique](#by-unique)\n",
    "      * [3.3.10.3 By link](#by-link)\n",
    "  * [3.4 Spell & Trap](#spell-&-trap)\n",
    "    * [3.4.1 Properties](#properties)\n",
    "  * [3.5 Effect type](#effect-type)\n",
    "    * [3.5.1 Card type discrimination](#card-type-discrimination)\n",
    "  * [3.6 Archseries](#archseries)\n",
    "    * [3.6.1 By card type](#by-card-type)\n",
    "    * [3.6.2 By primary type](#by-primary-type)\n",
    "    * [3.6.3 By secondary type](#by-secondary-type)\n",
    "    * [3.6.4 By monster type](#by-monster-type)\n",
    "    * [3.6.5 By property](#by-property)\n",
    "  * [3.7 Artworks](#artworks)\n",
    "    * [3.7.1 By card type](#by-card-type)\n",
    "    * [3.7.2 By primary type](#by-primary-type)\n",
    "  * [3.8 Errata](#errata)\n",
    "    * [3.8.1 By card type](#by-card-type)\n",
    "    * [3.8.2 By primary type](#by-primary-type)\n",
    "    * [3.8.3 By artwork](#by-artwork)\n",
    "  * [3.9 TCG & OCG status](#tcg-&-ocg-status)\n",
    "    * [3.9.1 TGC status](#tgc-status)\n",
    "      * [3.9.1.1 By card type](#by-card-type)\n",
    "      * [3.9.1.2 By monster type](#by-monster-type)\n",
    "      * [3.9.1.3 By archseries](#by-archseries)\n",
    "    * [3.9.2 OCG status](#ocg-status)\n",
    "      * [3.9.2.1 By card type](#by-card-type)\n",
    "      * [3.9.2.2 By monster type](#by-monster-type)\n",
    "      * [3.9.2.3 By archseries](#by-archseries)\n",
    "    * [3.9.3 TCG vs. OCG status](#tcg-vs.-ocg-status)\n",
    "* [4 Extras](#extras)\n",
    "  * [4.1 Counters and Tokens](#counters-and-tokens)\n",
    "  * [4.2 Unusable cards](#Unusable-cards)\n",
    "  * [4.3 Multiple secondary types](#multiple-secondary-types)\n",
    "  * [4.4 Not yet released](#not-yet-released)\n",
    "  * [4.5 Page name differs from card name](#page-name-differs-from-card-name)\n",
    "* [5 Epilogue](#epilogue)\n",
    "  * [5.1 HTML export](#html-export)\n",
    "  <!-- * [5.2 Git](#git) -->"
   ]
  },
  {
   "cell_type": "markdown",
   "id": "3",
   "metadata": {
    "papermill": {
     "duration": 0.121914,
     "end_time": "2025-07-26T06:03:36.662157",
     "exception": false,
     "start_time": "2025-07-26T06:03:36.540243",
     "status": "completed"
    },
    "tags": []
   },
   "source": [
    "# Data aquisition"
   ]
  },
  {
   "cell_type": "markdown",
   "id": "4",
   "metadata": {
    "papermill": {
     "duration": 0.083702,
     "end_time": "2025-07-26T06:03:37.156678",
     "exception": false,
     "start_time": "2025-07-26T06:03:37.072976",
     "status": "completed"
    },
    "tags": []
   },
   "source": [
    "## Fetch online data"
   ]
  },
  {
   "cell_type": "code",
   "execution_count": null,
   "id": "5",
   "metadata": {
    "papermill": {
     "duration": 0.083178,
     "end_time": "2025-07-26T06:03:37.315437",
     "exception": false,
     "start_time": "2025-07-26T06:03:37.232259",
     "status": "completed"
    },
    "tags": []
   },
   "outputs": [],
   "source": [
    "# Timestamp\n",
    "timestamp = arrow.utcnow()"
   ]
  },
  {
   "cell_type": "code",
   "execution_count": null,
   "id": "6",
   "metadata": {
    "papermill": {
     "duration": 68.813849,
     "end_time": "2025-07-26T06:04:46.204578",
     "exception": false,
     "start_time": "2025-07-26T06:03:37.390729",
     "status": "completed"
    },
    "tags": []
   },
   "outputs": [],
   "source": [
    "# Fetch Monster\n",
    "monster_df = fetch_monster()"
   ]
  },
  {
   "cell_type": "code",
   "execution_count": null,
   "id": "7",
   "metadata": {
    "papermill": {
     "duration": 34.200245,
     "end_time": "2025-07-26T06:05:20.478819",
     "exception": false,
     "start_time": "2025-07-26T06:04:46.278574",
     "status": "completed"
    },
    "tags": []
   },
   "outputs": [],
   "source": [
    "# Fetch Spell\n",
    "spell_df = fetch_st(st=\"Spell\")\n",
    "\n",
    "# Fetch Trap\n",
    "trap_df = fetch_st(st=\"Trap\")"
   ]
  },
  {
   "cell_type": "code",
   "execution_count": null,
   "id": "8",
   "metadata": {
    "papermill": {
     "duration": 5.864178,
     "end_time": "2025-07-26T06:05:26.445837",
     "exception": false,
     "start_time": "2025-07-26T06:05:20.581659",
     "status": "completed"
    },
    "tags": []
   },
   "outputs": [],
   "source": [
    "# Fetch Token\n",
    "token_df = fetch_token()\n",
    "\n",
    "# Fetch Counter\n",
    "counter_df = fetch_counter()\n",
    "\n",
    "# Fetch errata\n",
    "errata_df = fetch_errata()"
   ]
  },
  {
   "cell_type": "code",
   "execution_count": null,
   "id": "9",
   "metadata": {
    "papermill": {
     "duration": 0.763031,
     "end_time": "2025-07-26T06:05:27.281732",
     "exception": false,
     "start_time": "2025-07-26T06:05:26.518701",
     "status": "completed"
    },
    "tags": []
   },
   "outputs": [],
   "source": [
    "# Fetch unusable\n",
    "unusable_df = fetch_unusable()"
   ]
  },
  {
   "cell_type": "markdown",
   "id": "10",
   "metadata": {
    "papermill": {
     "duration": 0.115438,
     "end_time": "2025-07-26T06:05:27.471320",
     "exception": false,
     "start_time": "2025-07-26T06:05:27.355882",
     "status": "completed"
    },
    "tags": []
   },
   "source": [
    "## Merge data"
   ]
  },
  {
   "cell_type": "code",
   "execution_count": null,
   "id": "11",
   "metadata": {
    "papermill": {
     "duration": 4.494827,
     "end_time": "2025-07-26T06:05:32.080821",
     "exception": false,
     "start_time": "2025-07-26T06:05:27.585994",
     "status": "completed"
    },
    "tags": []
   },
   "outputs": [],
   "source": [
    "# Merge errata\n",
    "monster_df = merge_errata(monster_df, errata_df)\n",
    "spell_df = merge_errata(spell_df, errata_df)\n",
    "trap_df = merge_errata(trap_df, errata_df)\n",
    "token_df = merge_errata(token_df, errata_df)\n",
    "counter_df = merge_errata(counter_df, errata_df)\n",
    "\n",
    "# Add counters to tokens data frame\n",
    "token_df = (\n",
    "    pd.concat([token_df, counter_df], ignore_index=True, axis=0).drop_duplicates().sort_values(\"Name\", ignore_index=True)\n",
    ")\n",
    "\n",
    "# Create combined spell and trap data frame\n",
    "st_df = pd.concat([spell_df, trap_df], ignore_index=True, axis=0).sort_values(\"Name\", ignore_index=True)\n",
    "\n",
    "# Create combined monster, spell and trap data frames\n",
    "cards_df = pd.concat([st_df, monster_df], ignore_index=True, axis=0).sort_values(\"Name\", ignore_index=True)\n",
    "\n",
    "# Create combined data frames with full data\n",
    "full_df = pd.concat([cards_df, token_df, unusable_df], ignore_index=True, axis=0).sort_values(\"Name\", ignore_index=True)\n",
    "\n",
    "print(\"Data merged\")"
   ]
  },
  {
   "cell_type": "markdown",
   "id": "12",
   "metadata": {
    "papermill": {
     "duration": 0.068385,
     "end_time": "2025-07-26T06:05:32.225196",
     "exception": false,
     "start_time": "2025-07-26T06:05:32.156811",
     "status": "completed"
    },
    "tags": []
   },
   "source": [
    "# Check changes"
   ]
  },
  {
   "cell_type": "markdown",
   "id": "13",
   "metadata": {
    "papermill": {
     "duration": 0.078184,
     "end_time": "2025-07-26T06:05:32.614523",
     "exception": false,
     "start_time": "2025-07-26T06:05:32.536339",
     "status": "completed"
    },
    "tags": []
   },
   "source": [
    "## Load previous data"
   ]
  },
  {
   "cell_type": "code",
   "execution_count": null,
   "id": "14",
   "metadata": {
    "papermill": {
     "duration": 0.658251,
     "end_time": "2025-07-26T06:05:33.349748",
     "exception": false,
     "start_time": "2025-07-26T06:05:32.691497",
     "status": "completed"
    },
    "tags": []
   },
   "outputs": [],
   "source": [
    "# Get latest file if exist\n",
    "tuple_cols = [\n",
    "    \"Effect type\",\n",
    "    \"Secondary type\",\n",
    "    \"Link Arrows\",\n",
    "    \"Archseries\",\n",
    "    \"Artwork\",\n",
    "    \"Errata\",\n",
    "]\n",
    "previous_df, previous_ts = load_latest_data(\"cards\", tuple_cols, return_ts=True)\n",
    "\n",
    "if previous_df is not None:\n",
    "    previous_df = previous_df.astype(full_df[previous_df.columns.intersection(full_df.columns)].dtypes.to_dict())"
   ]
  },
  {
   "cell_type": "markdown",
   "id": "15",
   "metadata": {
    "papermill": {
     "duration": 0.41011,
     "end_time": "2025-07-26T06:05:33.950701",
     "exception": false,
     "start_time": "2025-07-26T06:05:33.540591",
     "status": "completed"
    },
    "tags": []
   },
   "source": [
    "## Generate changelog"
   ]
  },
  {
   "cell_type": "code",
   "execution_count": null,
   "id": "16",
   "metadata": {
    "papermill": {
     "duration": 1.672497,
     "end_time": "2025-07-26T06:05:35.819578",
     "exception": false,
     "start_time": "2025-07-26T06:05:34.147081",
     "status": "completed"
    },
    "tags": []
   },
   "outputs": [],
   "source": [
    "if previous_df is None:\n",
    "    changelog = None\n",
    "    print(\"Skipped\")\n",
    "else:\n",
    "    changelog = generate_changelog(previous_df, full_df, col=\"Name\")\n",
    "    if not changelog.empty:\n",
    "        display(changelog)\n",
    "        new_names = changelog.index.value_counts()\n",
    "        new_names = new_names[new_names == 1].index\n",
    "        if len(new_names) > 0:\n",
    "            print(\"New cards:\")\n",
    "            display(changelog.loc[new_names])\n",
    "        changelog.to_csv(\n",
    "            dirs.DATA / make_filename(report=\"cards\", timestamp=timestamp, previous_timestamp=previous_ts),\n",
    "            index=True,\n",
    "        )\n",
    "        print(\"Changelog saved\")"
   ]
  },
  {
   "cell_type": "markdown",
   "id": "17",
   "metadata": {
    "papermill": {
     "duration": 0.10632,
     "end_time": "2025-07-26T06:05:36.009974",
     "exception": false,
     "start_time": "2025-07-26T06:05:35.903654",
     "status": "completed"
    },
    "tags": []
   },
   "source": [
    "## Save data"
   ]
  },
  {
   "cell_type": "code",
   "execution_count": null,
   "id": "18",
   "metadata": {
    "papermill": {
     "duration": 1.001946,
     "end_time": "2025-07-26T06:05:37.341804",
     "exception": false,
     "start_time": "2025-07-26T06:05:36.339858",
     "status": "completed"
    },
    "tags": []
   },
   "outputs": [],
   "source": [
    "if changelog is not None and changelog.empty:\n",
    "    print(\"No changes. New data not saved\")\n",
    "else:\n",
    "    full_df.to_csv(\n",
    "        dirs.DATA / make_filename(report=\"cards\", timestamp=timestamp),\n",
    "        index=False,\n",
    "    )\n",
    "    print(\"Data saved\")"
   ]
  },
  {
   "cell_type": "markdown",
   "id": "19",
   "metadata": {
    "papermill": {
     "duration": 0.356635,
     "end_time": "2025-07-26T06:05:37.780261",
     "exception": false,
     "start_time": "2025-07-26T06:05:37.423626",
     "status": "completed"
    },
    "tags": []
   },
   "source": [
    "# Data visualization"
   ]
  },
  {
   "cell_type": "markdown",
   "id": "20",
   "metadata": {
    "papermill": {
     "duration": 0.084013,
     "end_time": "2025-07-26T06:05:37.948849",
     "exception": false,
     "start_time": "2025-07-26T06:05:37.864836",
     "status": "completed"
    },
    "tags": []
   },
   "source": [
    "## Full data"
   ]
  },
  {
   "cell_type": "code",
   "execution_count": null,
   "id": "21",
   "metadata": {
    "papermill": {
     "duration": 0.315252,
     "end_time": "2025-07-26T06:05:38.366879",
     "exception": false,
     "start_time": "2025-07-26T06:05:38.051627",
     "status": "completed"
    },
    "tags": []
   },
   "outputs": [],
   "source": [
    "full_df"
   ]
  },
  {
   "cell_type": "markdown",
   "id": "22",
   "metadata": {
    "papermill": {
     "duration": 0.464215,
     "end_time": "2025-07-26T06:05:39.067978",
     "exception": false,
     "start_time": "2025-07-26T06:05:38.603763",
     "status": "completed"
    },
    "tags": []
   },
   "source": [
    "Full data available to download [here](../data)"
   ]
  },
  {
   "cell_type": "markdown",
   "id": "23",
   "metadata": {
    "papermill": {
     "duration": 0.080515,
     "end_time": "2025-07-26T06:05:39.234719",
     "exception": false,
     "start_time": "2025-07-26T06:05:39.154204",
     "status": "completed"
    },
    "tags": []
   },
   "source": [
    "## Card types"
   ]
  },
  {
   "cell_type": "code",
   "execution_count": null,
   "id": "24",
   "metadata": {
    "papermill": {
     "duration": 0.146438,
     "end_time": "2025-07-26T06:05:39.496131",
     "exception": false,
     "start_time": "2025-07-26T06:05:39.349693",
     "status": "completed"
    },
    "tags": []
   },
   "outputs": [],
   "source": [
    "print(\"Total number of card types:\", cards_df[\"Card type\"].nunique())"
   ]
  },
  {
   "cell_type": "code",
   "execution_count": null,
   "id": "25",
   "metadata": {
    "papermill": {
     "duration": 0.281575,
     "end_time": "2025-07-26T06:05:40.340018",
     "exception": false,
     "start_time": "2025-07-26T06:05:40.058443",
     "status": "completed"
    },
    "tags": []
   },
   "outputs": [],
   "source": [
    "card_type_colors = [plot.colors_dict[i] for i in cards_df[\"Card type\"].value_counts().index]\n",
    "cards_df[\"Card type\"].value_counts().plot.bar(figsize=(10, 6), rot=0, color=card_type_colors)\n",
    "plt.show()"
   ]
  },
  {
   "cell_type": "markdown",
   "id": "26",
   "metadata": {
    "papermill": {
     "duration": 0.234111,
     "end_time": "2025-07-26T06:05:40.661249",
     "exception": false,
     "start_time": "2025-07-26T06:05:40.427138",
     "status": "completed"
    },
    "tags": []
   },
   "source": [
    "## Monsters"
   ]
  },
  {
   "cell_type": "markdown",
   "id": "27",
   "metadata": {
    "papermill": {
     "duration": 0.090079,
     "end_time": "2025-07-26T06:05:40.838730",
     "exception": false,
     "start_time": "2025-07-26T06:05:40.748651",
     "status": "completed"
    },
    "tags": []
   },
   "source": [
    "### Attributes"
   ]
  },
  {
   "cell_type": "code",
   "execution_count": null,
   "id": "28",
   "metadata": {
    "papermill": {
     "duration": 0.109142,
     "end_time": "2025-07-26T06:05:41.036001",
     "exception": false,
     "start_time": "2025-07-26T06:05:40.926859",
     "status": "completed"
    },
    "tags": []
   },
   "outputs": [],
   "source": [
    "print(\"Total number of attributes:\", monster_df[\"Attribute\"].nunique())"
   ]
  },
  {
   "cell_type": "code",
   "execution_count": null,
   "id": "29",
   "metadata": {
    "papermill": {
     "duration": 0.219705,
     "end_time": "2025-07-26T06:05:41.782405",
     "exception": false,
     "start_time": "2025-07-26T06:05:41.562700",
     "status": "completed"
    },
    "tags": []
   },
   "outputs": [],
   "source": [
    "monster_df.drop(columns=[\"Card type\", \"Page name\", \"Page URL\"]).groupby(\"Attribute\").nunique()"
   ]
  },
  {
   "cell_type": "code",
   "execution_count": null,
   "id": "30",
   "metadata": {
    "papermill": {
     "duration": 0.234603,
     "end_time": "2025-07-26T06:05:42.342785",
     "exception": false,
     "start_time": "2025-07-26T06:05:42.108182",
     "status": "completed"
    },
    "tags": []
   },
   "outputs": [],
   "source": [
    "attribute_colors = [plot.colors_dict[i] for i in monster_df[\"Attribute\"].value_counts().index]\n",
    "monster_df[\"Attribute\"].value_counts().plot.bar(figsize=(14, 6), rot=0, color=attribute_colors)\n",
    "plt.show()"
   ]
  },
  {
   "cell_type": "markdown",
   "id": "31",
   "metadata": {
    "papermill": {
     "duration": 0.104998,
     "end_time": "2025-07-26T06:05:42.546411",
     "exception": false,
     "start_time": "2025-07-26T06:05:42.441413",
     "status": "completed"
    },
    "tags": []
   },
   "source": [
    "### Primary types"
   ]
  },
  {
   "cell_type": "code",
   "execution_count": null,
   "id": "32",
   "metadata": {
    "papermill": {
     "duration": 0.140123,
     "end_time": "2025-07-26T06:05:43.139844",
     "exception": false,
     "start_time": "2025-07-26T06:05:42.999721",
     "status": "completed"
    },
    "tags": []
   },
   "outputs": [],
   "source": [
    "print(\"Total number of primary types:\", monster_df[\"Primary type\"].nunique())"
   ]
  },
  {
   "cell_type": "code",
   "execution_count": null,
   "id": "33",
   "metadata": {
    "papermill": {
     "duration": 0.232849,
     "end_time": "2025-07-26T06:05:43.856430",
     "exception": false,
     "start_time": "2025-07-26T06:05:43.623581",
     "status": "completed"
    },
    "tags": []
   },
   "outputs": [],
   "source": [
    "monster_df.drop(columns=[\"Card type\", \"Page name\", \"Page URL\"]).groupby(\"Primary type\").nunique()"
   ]
  },
  {
   "cell_type": "markdown",
   "id": "34",
   "metadata": {
    "papermill": {
     "duration": 0.126743,
     "end_time": "2025-07-26T06:05:44.133859",
     "exception": false,
     "start_time": "2025-07-26T06:05:44.007116",
     "status": "completed"
    },
    "tags": []
   },
   "source": [
    "#### Has effect discrimination"
   ]
  },
  {
   "cell_type": "code",
   "execution_count": null,
   "id": "35",
   "metadata": {
    "papermill": {
     "duration": 0.153319,
     "end_time": "2025-07-26T06:05:44.405002",
     "exception": false,
     "start_time": "2025-07-26T06:05:44.251683",
     "status": "completed"
    },
    "tags": []
   },
   "outputs": [],
   "source": [
    "effect = pd.crosstab(\n",
    "    monster_df[\"Primary type\"],\n",
    "    pd.isna(monster_df[\"Effect type\"]),\n",
    "    rownames=[\"Primary type\"],\n",
    "    colnames=[\"Has effect\"],\n",
    ").rename(columns={True: \"No Effect\", False: \"Effect\"})\n",
    "effect"
   ]
  },
  {
   "cell_type": "code",
   "execution_count": null,
   "id": "36",
   "metadata": {
    "papermill": {
     "duration": 0.289198,
     "end_time": "2025-07-26T06:05:44.955935",
     "exception": false,
     "start_time": "2025-07-26T06:05:44.666737",
     "status": "completed"
    },
    "tags": []
   },
   "outputs": [],
   "source": [
    "monster_type_colors = {\n",
    "    \"No Effect\": plot.colors_dict[\"Normal Monster\"],\n",
    "    \"Effect\": [plot.colors_dict[i] for i in effect.index],\n",
    "}\n",
    "effect.plot.bar(\n",
    "    figsize=(16, 6),\n",
    "    stacked=True,\n",
    "    rot=0,\n",
    "    legend=True,\n",
    "    color=monster_type_colors,\n",
    ")\n",
    "# plt.yscale('log')\n",
    "plt.show()"
   ]
  },
  {
   "cell_type": "markdown",
   "id": "37",
   "metadata": {
    "papermill": {
     "duration": 0.728204,
     "end_time": "2025-07-26T06:05:45.777383",
     "exception": false,
     "start_time": "2025-07-26T06:05:45.049179",
     "status": "completed"
    },
    "tags": []
   },
   "source": [
    "Obs: Normal monster can have effect if it is pendulum"
   ]
  },
  {
   "cell_type": "markdown",
   "id": "38",
   "metadata": {
    "papermill": {
     "duration": 0.338965,
     "end_time": "2025-07-26T06:05:46.246537",
     "exception": false,
     "start_time": "2025-07-26T06:05:45.907572",
     "status": "completed"
    },
    "tags": []
   },
   "source": [
    "#### Is pendulum discrimination"
   ]
  },
  {
   "cell_type": "code",
   "execution_count": null,
   "id": "39",
   "metadata": {
    "papermill": {
     "duration": 0.120635,
     "end_time": "2025-07-26T06:05:46.462573",
     "exception": false,
     "start_time": "2025-07-26T06:05:46.341938",
     "status": "completed"
    },
    "tags": []
   },
   "outputs": [],
   "source": [
    "pendulum = pd.crosstab(\n",
    "    monster_df[\"Primary type\"],\n",
    "    pd.isna(monster_df[\"Pendulum Scale\"]),\n",
    "    rownames=[\"Primary type\"],\n",
    "    colnames=[\"Is Pendulum\"],\n",
    ").rename(columns={True: \"Not Pendulum\", False: \"Pendulum\"})\n",
    "pendulum"
   ]
  },
  {
   "cell_type": "code",
   "execution_count": null,
   "id": "40",
   "metadata": {
    "papermill": {
     "duration": 0.353635,
     "end_time": "2025-07-26T06:05:46.912902",
     "exception": false,
     "start_time": "2025-07-26T06:05:46.559267",
     "status": "completed"
    },
    "tags": []
   },
   "outputs": [],
   "source": [
    "monster_type_colors_b = {\n",
    "    \"Pendulum\": plot.colors_dict[\"Pendulum Monster\"],\n",
    "    \"Not Pendulum\": [plot.colors_dict[i] for i in pendulum.index],\n",
    "}\n",
    "pendulum.plot.bar(\n",
    "    figsize=(16, 6),\n",
    "    stacked=True,\n",
    "    rot=0,\n",
    "    color=monster_type_colors_b,\n",
    "    legend=True,\n",
    "    title=\"Primary types - Is pendulum\",\n",
    ")\n",
    "plt.show()"
   ]
  },
  {
   "cell_type": "markdown",
   "id": "41",
   "metadata": {
    "papermill": {
     "duration": 0.245446,
     "end_time": "2025-07-26T06:05:47.252543",
     "exception": false,
     "start_time": "2025-07-26T06:05:47.007097",
     "status": "completed"
    },
    "tags": []
   },
   "source": [
    "#### By attribute"
   ]
  },
  {
   "cell_type": "code",
   "execution_count": null,
   "id": "42",
   "metadata": {
    "papermill": {
     "duration": 0.135887,
     "end_time": "2025-07-26T06:05:47.481948",
     "exception": false,
     "start_time": "2025-07-26T06:05:47.346061",
     "status": "completed"
    },
    "tags": []
   },
   "outputs": [],
   "source": [
    "primmary_crosstab = pd.crosstab(cards_df[\"Primary type\"], cards_df[\"Attribute\"])\n",
    "primmary_crosstab"
   ]
  },
  {
   "cell_type": "code",
   "execution_count": null,
   "id": "43",
   "metadata": {
    "papermill": {
     "duration": 1.903687,
     "end_time": "2025-07-26T06:05:49.486797",
     "exception": false,
     "start_time": "2025-07-26T06:05:47.583110",
     "status": "completed"
    },
    "tags": []
   },
   "outputs": [],
   "source": [
    "plt.figure(figsize=(16, 10))\n",
    "sns.heatmap(\n",
    "    primmary_crosstab.T,\n",
    "    annot=True,\n",
    "    fmt=\"g\",\n",
    "    cmap=\"viridis\",\n",
    "    square=True,\n",
    "    norm=plot.LogNorm(),\n",
    ")\n",
    "plt.show()"
   ]
  },
  {
   "cell_type": "markdown",
   "id": "44",
   "metadata": {
    "papermill": {
     "duration": 0.119109,
     "end_time": "2025-07-26T06:05:49.702125",
     "exception": false,
     "start_time": "2025-07-26T06:05:49.583016",
     "status": "completed"
    },
    "tags": []
   },
   "source": [
    "### Secondary types"
   ]
  },
  {
   "cell_type": "code",
   "execution_count": null,
   "id": "45",
   "metadata": {
    "papermill": {
     "duration": 0.172648,
     "end_time": "2025-07-26T06:05:50.155855",
     "exception": false,
     "start_time": "2025-07-26T06:05:49.983207",
     "status": "completed"
    },
    "tags": []
   },
   "outputs": [],
   "source": [
    "exploded_secondary_type = monster_df.explode(\"Secondary type\")\n",
    "print(\n",
    "    \"Total number of secondary types:\",\n",
    "    exploded_secondary_type[\"Secondary type\"].nunique(),\n",
    ")"
   ]
  },
  {
   "cell_type": "code",
   "execution_count": null,
   "id": "46",
   "metadata": {
    "papermill": {
     "duration": 0.180139,
     "end_time": "2025-07-26T06:05:50.436284",
     "exception": false,
     "start_time": "2025-07-26T06:05:50.256145",
     "status": "completed"
    },
    "tags": []
   },
   "outputs": [],
   "source": [
    "exploded_secondary_type.drop(columns=[\"Card type\", \"Link Arrows\", \"Page name\", \"Page URL\"]).groupby(\n",
    "    \"Secondary type\"\n",
    ").nunique()"
   ]
  },
  {
   "cell_type": "code",
   "execution_count": null,
   "id": "47",
   "metadata": {
    "papermill": {
     "duration": 0.38809,
     "end_time": "2025-07-26T06:05:51.248690",
     "exception": false,
     "start_time": "2025-07-26T06:05:50.860600",
     "status": "completed"
    },
    "tags": []
   },
   "outputs": [],
   "source": [
    "secondary_type_colors = plot.colors_dict[\"Effect Monster\"]\n",
    "exploded_secondary_type[\"Secondary type\"].value_counts().plot.bar(\n",
    "    figsize=(14, 6),\n",
    "    stacked=True,\n",
    "    rot=0,\n",
    "    color=secondary_type_colors,\n",
    "    legend=False,\n",
    ")\n",
    "plt.show()"
   ]
  },
  {
   "cell_type": "markdown",
   "id": "48",
   "metadata": {
    "papermill": {
     "duration": 0.097199,
     "end_time": "2025-07-26T06:05:51.501524",
     "exception": false,
     "start_time": "2025-07-26T06:05:51.404325",
     "status": "completed"
    },
    "tags": []
   },
   "source": [
    "#### By attribute"
   ]
  },
  {
   "cell_type": "code",
   "execution_count": null,
   "id": "49",
   "metadata": {
    "papermill": {
     "duration": 0.374846,
     "end_time": "2025-07-26T06:05:51.976007",
     "exception": false,
     "start_time": "2025-07-26T06:05:51.601161",
     "status": "completed"
    },
    "tags": []
   },
   "outputs": [],
   "source": [
    "secondary_crosstab = pd.crosstab(exploded_secondary_type[\"Secondary type\"], exploded_secondary_type[\"Attribute\"])\n",
    "secondary_crosstab"
   ]
  },
  {
   "cell_type": "code",
   "execution_count": null,
   "id": "50",
   "metadata": {
    "papermill": {
     "duration": 0.603495,
     "end_time": "2025-07-26T06:05:52.679398",
     "exception": false,
     "start_time": "2025-07-26T06:05:52.075903",
     "status": "completed"
    },
    "tags": []
   },
   "outputs": [],
   "source": [
    "plt.figure(figsize=(8, 6))\n",
    "sns.heatmap(\n",
    "    secondary_crosstab[secondary_crosstab > 0],\n",
    "    annot=True,\n",
    "    fmt=\"g\",\n",
    "    cmap=\"viridis\",\n",
    "    square=True,\n",
    ")\n",
    "plt.show()"
   ]
  },
  {
   "cell_type": "markdown",
   "id": "51",
   "metadata": {
    "papermill": {
     "duration": 0.097654,
     "end_time": "2025-07-26T06:05:52.877264",
     "exception": false,
     "start_time": "2025-07-26T06:05:52.779610",
     "status": "completed"
    },
    "tags": []
   },
   "source": [
    "#### By primary type"
   ]
  },
  {
   "cell_type": "code",
   "execution_count": null,
   "id": "52",
   "metadata": {
    "papermill": {
     "duration": 0.149007,
     "end_time": "2025-07-26T06:05:53.319600",
     "exception": false,
     "start_time": "2025-07-26T06:05:53.170593",
     "status": "completed"
    },
    "tags": []
   },
   "outputs": [],
   "source": [
    "secondary_crosstab_b = pd.crosstab(\n",
    "    exploded_secondary_type[\"Primary type\"],\n",
    "    exploded_secondary_type[\"Secondary type\"],\n",
    "    margins=True,\n",
    ")\n",
    "secondary_crosstab_b"
   ]
  },
  {
   "cell_type": "code",
   "execution_count": null,
   "id": "53",
   "metadata": {
    "papermill": {
     "duration": 0.896212,
     "end_time": "2025-07-26T06:05:54.322148",
     "exception": false,
     "start_time": "2025-07-26T06:05:53.425936",
     "status": "completed"
    },
    "tags": []
   },
   "outputs": [],
   "source": [
    "plt.figure(figsize=(10, 7))\n",
    "sns.heatmap(\n",
    "    secondary_crosstab_b,\n",
    "    annot=True,\n",
    "    fmt=\"g\",\n",
    "    cmap=\"viridis\",\n",
    "    square=True,\n",
    "    norm=plot.LogNorm(),\n",
    ")\n",
    "plt.show()"
   ]
  },
  {
   "cell_type": "markdown",
   "id": "54",
   "metadata": {
    "papermill": {
     "duration": 0.207441,
     "end_time": "2025-07-26T06:05:54.635009",
     "exception": false,
     "start_time": "2025-07-26T06:05:54.427568",
     "status": "completed"
    },
    "tags": []
   },
   "source": [
    "### Monster types"
   ]
  },
  {
   "cell_type": "code",
   "execution_count": null,
   "id": "55",
   "metadata": {
    "papermill": {
     "duration": 0.117803,
     "end_time": "2025-07-26T06:05:54.858762",
     "exception": false,
     "start_time": "2025-07-26T06:05:54.740959",
     "status": "completed"
    },
    "tags": []
   },
   "outputs": [],
   "source": [
    "print(\"Total number of monster types:\", monster_df[\"Monster type\"].nunique())"
   ]
  },
  {
   "cell_type": "code",
   "execution_count": null,
   "id": "56",
   "metadata": {
    "papermill": {
     "duration": 0.196316,
     "end_time": "2025-07-26T06:05:55.349837",
     "exception": false,
     "start_time": "2025-07-26T06:05:55.153521",
     "status": "completed"
    },
    "tags": []
   },
   "outputs": [],
   "source": [
    "monster_df.drop(columns=[\"Card type\", \"Page name\", \"Page URL\"]).groupby(\"Monster type\").nunique()"
   ]
  },
  {
   "cell_type": "code",
   "execution_count": null,
   "id": "57",
   "metadata": {
    "papermill": {
     "duration": 0.391146,
     "end_time": "2025-07-26T06:05:55.848932",
     "exception": false,
     "start_time": "2025-07-26T06:05:55.457786",
     "status": "completed"
    },
    "tags": []
   },
   "outputs": [],
   "source": [
    "monster_type_colors = plot.colors_dict[\"Monster Card\"]\n",
    "monster_df[\"Monster type\"].value_counts().plot.bar(figsize=(18, 6), rot=45, color=monster_type_colors)\n",
    "plt.show()"
   ]
  },
  {
   "cell_type": "markdown",
   "id": "58",
   "metadata": {
    "papermill": {
     "duration": 0.104515,
     "end_time": "2025-07-26T06:05:56.061082",
     "exception": false,
     "start_time": "2025-07-26T06:05:55.956567",
     "status": "completed"
    },
    "tags": []
   },
   "source": [
    "#### By Attribute"
   ]
  },
  {
   "cell_type": "code",
   "execution_count": null,
   "id": "59",
   "metadata": {
    "papermill": {
     "duration": 0.398306,
     "end_time": "2025-07-26T06:05:56.572493",
     "exception": false,
     "start_time": "2025-07-26T06:05:56.174187",
     "status": "completed"
    },
    "tags": []
   },
   "outputs": [],
   "source": [
    "monster_crosstab = pd.crosstab(cards_df[\"Monster type\"], cards_df[\"Attribute\"])\n",
    "monster_crosstab"
   ]
  },
  {
   "cell_type": "code",
   "execution_count": null,
   "id": "60",
   "metadata": {
    "papermill": {
     "duration": 0.95232,
     "end_time": "2025-07-26T06:05:57.664622",
     "exception": false,
     "start_time": "2025-07-26T06:05:56.712302",
     "status": "completed"
    },
    "tags": []
   },
   "outputs": [],
   "source": [
    "plt.figure(figsize=(18, 4))\n",
    "sns.heatmap(\n",
    "    monster_crosstab[monster_crosstab > 0].T,\n",
    "    annot=True,\n",
    "    fmt=\"g\",\n",
    "    cmap=\"viridis\",\n",
    "    square=True,\n",
    "    norm=plot.LogNorm(),\n",
    ")\n",
    "plt.show()"
   ]
  },
  {
   "cell_type": "markdown",
   "id": "61",
   "metadata": {
    "papermill": {
     "duration": 0.325753,
     "end_time": "2025-07-26T06:05:58.104105",
     "exception": false,
     "start_time": "2025-07-26T06:05:57.778352",
     "status": "completed"
    },
    "tags": []
   },
   "source": [
    "#### By primary type"
   ]
  },
  {
   "cell_type": "code",
   "execution_count": null,
   "id": "62",
   "metadata": {
    "papermill": {
     "duration": 0.157804,
     "end_time": "2025-07-26T06:05:58.374432",
     "exception": false,
     "start_time": "2025-07-26T06:05:58.216628",
     "status": "completed"
    },
    "tags": []
   },
   "outputs": [],
   "source": [
    "monster_crosstab_b = pd.crosstab(cards_df[\"Monster type\"], cards_df[\"Primary type\"], dropna=False)\n",
    "monster_crosstab_b"
   ]
  },
  {
   "cell_type": "code",
   "execution_count": null,
   "id": "63",
   "metadata": {
    "papermill": {
     "duration": 1.240698,
     "end_time": "2025-07-26T06:05:59.730405",
     "exception": false,
     "start_time": "2025-07-26T06:05:58.489707",
     "status": "completed"
    },
    "tags": []
   },
   "outputs": [],
   "source": [
    "plt.figure(figsize=(18, 4))\n",
    "sns.heatmap(\n",
    "    monster_crosstab_b[monster_crosstab_b > 0].T,\n",
    "    annot=True,\n",
    "    fmt=\"g\",\n",
    "    cmap=\"viridis\",\n",
    "    square=True,\n",
    "    norm=plot.LogNorm(),\n",
    ")\n",
    "plt.show()"
   ]
  },
  {
   "cell_type": "markdown",
   "id": "64",
   "metadata": {
    "papermill": {
     "duration": 0.117023,
     "end_time": "2025-07-26T06:05:59.969026",
     "exception": false,
     "start_time": "2025-07-26T06:05:59.852003",
     "status": "completed"
    },
    "tags": []
   },
   "source": [
    "#### By secondary type"
   ]
  },
  {
   "cell_type": "code",
   "execution_count": null,
   "id": "65",
   "metadata": {
    "papermill": {
     "duration": 0.165955,
     "end_time": "2025-07-26T06:06:00.256559",
     "exception": false,
     "start_time": "2025-07-26T06:06:00.090604",
     "status": "completed"
    },
    "tags": []
   },
   "outputs": [],
   "source": [
    "monster_crosstab_c = pd.crosstab(\n",
    "    exploded_secondary_type[\"Monster type\"],\n",
    "    exploded_secondary_type[\"Secondary type\"],\n",
    "    dropna=False,\n",
    ")\n",
    "monster_crosstab_c"
   ]
  },
  {
   "cell_type": "code",
   "execution_count": null,
   "id": "66",
   "metadata": {
    "papermill": {
     "duration": 0.983069,
     "end_time": "2025-07-26T06:06:01.362877",
     "exception": false,
     "start_time": "2025-07-26T06:06:00.379808",
     "status": "completed"
    },
    "tags": []
   },
   "outputs": [],
   "source": [
    "plt.figure(figsize=(18, 4))\n",
    "sns.heatmap(\n",
    "    monster_crosstab_c[monster_crosstab_c > 0].T,\n",
    "    annot=True,\n",
    "    fmt=\"g\",\n",
    "    cmap=\"viridis\",\n",
    "    square=True,\n",
    "    norm=plot.LogNorm(),\n",
    ")\n",
    "plt.show()"
   ]
  },
  {
   "cell_type": "markdown",
   "id": "67",
   "metadata": {
    "papermill": {
     "duration": 0.121125,
     "end_time": "2025-07-26T06:06:01.609112",
     "exception": false,
     "start_time": "2025-07-26T06:06:01.487987",
     "status": "completed"
    },
    "tags": []
   },
   "source": [
    "### ATK"
   ]
  },
  {
   "cell_type": "code",
   "execution_count": null,
   "id": "68",
   "metadata": {
    "papermill": {
     "duration": 0.138648,
     "end_time": "2025-07-26T06:06:01.874174",
     "exception": false,
     "start_time": "2025-07-26T06:06:01.735526",
     "status": "completed"
    },
    "tags": []
   },
   "outputs": [],
   "source": [
    "print(\"Total number of ATK values:\", monster_df[\"ATK\"].nunique())"
   ]
  },
  {
   "cell_type": "code",
   "execution_count": null,
   "id": "69",
   "metadata": {
    "papermill": {
     "duration": 0.221051,
     "end_time": "2025-07-26T06:06:02.225959",
     "exception": false,
     "start_time": "2025-07-26T06:06:02.004908",
     "status": "completed"
    },
    "tags": []
   },
   "outputs": [],
   "source": [
    "monster_df.drop(columns=[\"Card type\", \"Page name\", \"Page URL\"]).groupby(\"ATK\").nunique().sort_index(\n",
    "    key=lambda x: pd.to_numeric(x, errors=\"coerce\")\n",
    ")"
   ]
  },
  {
   "cell_type": "code",
   "execution_count": null,
   "id": "70",
   "metadata": {
    "papermill": {
     "duration": 0.842649,
     "end_time": "2025-07-26T06:06:03.196754",
     "exception": false,
     "start_time": "2025-07-26T06:06:02.354105",
     "status": "completed"
    },
    "tags": []
   },
   "outputs": [],
   "source": [
    "atk_colors = plot.colors_dict[\"Monster Card\"]\n",
    "monster_df[\"ATK\"].value_counts().sort_index(key=lambda x: pd.to_numeric(x, errors=\"coerce\")).plot.bar(\n",
    "    figsize=(18, 6), color=atk_colors\n",
    ")\n",
    "plt.show()"
   ]
  },
  {
   "cell_type": "markdown",
   "id": "71",
   "metadata": {
    "papermill": {
     "duration": 0.132082,
     "end_time": "2025-07-26T06:06:03.460935",
     "exception": false,
     "start_time": "2025-07-26T06:06:03.328853",
     "status": "completed"
    },
    "tags": []
   },
   "source": [
    "### DEF"
   ]
  },
  {
   "cell_type": "code",
   "execution_count": null,
   "id": "72",
   "metadata": {
    "papermill": {
     "duration": 0.401514,
     "end_time": "2025-07-26T06:06:03.994234",
     "exception": false,
     "start_time": "2025-07-26T06:06:03.592720",
     "status": "completed"
    },
    "tags": []
   },
   "outputs": [],
   "source": [
    "print(\"Total number of DEF values:\", monster_df[\"DEF\"].nunique())"
   ]
  },
  {
   "cell_type": "code",
   "execution_count": null,
   "id": "73",
   "metadata": {
    "papermill": {
     "duration": 0.440014,
     "end_time": "2025-07-26T06:06:04.582138",
     "exception": false,
     "start_time": "2025-07-26T06:06:04.142124",
     "status": "completed"
    },
    "tags": []
   },
   "outputs": [],
   "source": [
    "monster_df.drop(columns=[\"Card type\", \"Page name\", \"Page URL\"]).groupby(\"DEF\").nunique().sort_index(\n",
    "    key=lambda x: pd.to_numeric(x, errors=\"coerce\")\n",
    ")"
   ]
  },
  {
   "cell_type": "code",
   "execution_count": null,
   "id": "74",
   "metadata": {
    "papermill": {
     "duration": 0.74073,
     "end_time": "2025-07-26T06:06:05.457842",
     "exception": false,
     "start_time": "2025-07-26T06:06:04.717112",
     "status": "completed"
    },
    "tags": []
   },
   "outputs": [],
   "source": [
    "def_colors = plot.colors_dict[\"Monster Card\"]\n",
    "monster_df[\"DEF\"].value_counts().sort_index(key=lambda x: pd.to_numeric(x, errors=\"coerce\")).plot.bar(\n",
    "    figsize=(18, 6), color=def_colors\n",
    ")\n",
    "plt.show()"
   ]
  },
  {
   "cell_type": "markdown",
   "id": "75",
   "metadata": {
    "papermill": {
     "duration": 0.1297,
     "end_time": "2025-07-26T06:06:05.723219",
     "exception": false,
     "start_time": "2025-07-26T06:06:05.593519",
     "status": "completed"
    },
    "tags": []
   },
   "source": [
    "### Level/Rank"
   ]
  },
  {
   "cell_type": "code",
   "execution_count": null,
   "id": "76",
   "metadata": {
    "papermill": {
     "duration": 0.513679,
     "end_time": "2025-07-26T06:06:06.402916",
     "exception": false,
     "start_time": "2025-07-26T06:06:05.889237",
     "status": "completed"
    },
    "tags": []
   },
   "outputs": [],
   "source": [
    "monster_df[monster_df[\"Primary type\"] != \"Link Monster\"].drop(\n",
    "    columns=[\"Card type\", \"Link Arrows\", \"Page name\", \"Page URL\"]\n",
    ").groupby(\"Level/Rank/Link\").nunique().rename_axis(\"Level/Rank\").sort_index(key=lambda x: pd.to_numeric(x, errors=\"coerce\"))"
   ]
  },
  {
   "cell_type": "code",
   "execution_count": null,
   "id": "77",
   "metadata": {
    "papermill": {
     "duration": 0.49144,
     "end_time": "2025-07-26T06:06:07.034643",
     "exception": false,
     "start_time": "2025-07-26T06:06:06.543203",
     "status": "completed"
    },
    "tags": []
   },
   "outputs": [],
   "source": [
    "stars_colors = plot.colors_dict[\"Level\"]\n",
    "monster_df[monster_df[\"Primary type\"] != \"Link Monster\"][\"Level/Rank/Link\"].rename(\"Level/Rank\").value_counts().sort_index(\n",
    "    key=lambda x: pd.to_numeric(x, errors=\"coerce\")\n",
    ").plot.bar(figsize=(16, 6), rot=0, color=stars_colors)\n",
    "plt.show()"
   ]
  },
  {
   "cell_type": "markdown",
   "id": "78",
   "metadata": {
    "papermill": {
     "duration": 0.192987,
     "end_time": "2025-07-26T06:06:07.363761",
     "exception": false,
     "start_time": "2025-07-26T06:06:07.170774",
     "status": "completed"
    },
    "tags": []
   },
   "source": [
    "#### ATK statistics"
   ]
  },
  {
   "cell_type": "code",
   "execution_count": null,
   "id": "79",
   "metadata": {
    "papermill": {
     "duration": 0.354606,
     "end_time": "2025-07-26T06:06:07.853950",
     "exception": false,
     "start_time": "2025-07-26T06:06:07.499344",
     "status": "completed"
    },
    "tags": []
   },
   "outputs": [],
   "source": [
    "monster_df[monster_df[\"Primary type\"] != \"Link Monster\"][[\"Level/Rank/Link\", \"ATK\"]].apply(\n",
    "    pd.to_numeric, errors=\"coerce\"\n",
    ").dropna().astype(int).groupby(\"Level/Rank/Link\").describe().round(1).rename_axis(\"Level/Rank\")"
   ]
  },
  {
   "cell_type": "markdown",
   "id": "80",
   "metadata": {
    "papermill": {
     "duration": 0.131804,
     "end_time": "2025-07-26T06:06:08.194892",
     "exception": false,
     "start_time": "2025-07-26T06:06:08.063088",
     "status": "completed"
    },
    "tags": []
   },
   "source": [
    "#### DEF statistics"
   ]
  },
  {
   "cell_type": "code",
   "execution_count": null,
   "id": "81",
   "metadata": {
    "papermill": {
     "duration": 0.438839,
     "end_time": "2025-07-26T06:06:08.784830",
     "exception": false,
     "start_time": "2025-07-26T06:06:08.345991",
     "status": "completed"
    },
    "tags": []
   },
   "outputs": [],
   "source": [
    "monster_df[monster_df[\"Primary type\"] != \"Link Monster\"][[\"Level/Rank/Link\", \"DEF\"]].apply(\n",
    "    pd.to_numeric, errors=\"coerce\"\n",
    ").dropna().astype(int).groupby(\"Level/Rank/Link\").describe().round(1).rename_axis(\"Level/Rank\")"
   ]
  },
  {
   "cell_type": "markdown",
   "id": "82",
   "metadata": {
    "papermill": {
     "duration": 0.139492,
     "end_time": "2025-07-26T06:06:09.070210",
     "exception": false,
     "start_time": "2025-07-26T06:06:08.930718",
     "status": "completed"
    },
    "tags": []
   },
   "source": [
    "### Pendulum scale"
   ]
  },
  {
   "cell_type": "code",
   "execution_count": null,
   "id": "83",
   "metadata": {
    "papermill": {
     "duration": 0.233161,
     "end_time": "2025-07-26T06:06:09.442554",
     "exception": false,
     "start_time": "2025-07-26T06:06:09.209393",
     "status": "completed"
    },
    "tags": []
   },
   "outputs": [],
   "source": [
    "monster_df.drop(columns=[\"Card type\", \"Link Arrows\", \"Page name\", \"Page URL\"]).groupby(\n",
    "    \"Pendulum Scale\"\n",
    ").nunique().sort_index(key=lambda x: pd.to_numeric(x, errors=\"coerce\"))"
   ]
  },
  {
   "cell_type": "code",
   "execution_count": null,
   "id": "84",
   "metadata": {
    "papermill": {
     "duration": 0.356892,
     "end_time": "2025-07-26T06:06:09.939949",
     "exception": false,
     "start_time": "2025-07-26T06:06:09.583057",
     "status": "completed"
    },
    "tags": []
   },
   "outputs": [],
   "source": [
    "scales_colors = plot.colors_dict[\"Pendulum Monster\"]\n",
    "monster_df[\"Pendulum Scale\"].value_counts().sort_index(key=lambda x: pd.to_numeric(x, errors=\"coerce\")).plot.bar(\n",
    "    figsize=(16, 6), rot=0, color=scales_colors\n",
    ")\n",
    "plt.show()"
   ]
  },
  {
   "cell_type": "markdown",
   "id": "85",
   "metadata": {
    "papermill": {
     "duration": 0.211891,
     "end_time": "2025-07-26T06:06:10.299801",
     "exception": false,
     "start_time": "2025-07-26T06:06:10.087910",
     "status": "completed"
    },
    "tags": []
   },
   "source": [
    "#### ATK statistics"
   ]
  },
  {
   "cell_type": "code",
   "execution_count": null,
   "id": "86",
   "metadata": {
    "papermill": {
     "duration": 0.466025,
     "end_time": "2025-07-26T06:06:10.903081",
     "exception": false,
     "start_time": "2025-07-26T06:06:10.437056",
     "status": "completed"
    },
    "tags": []
   },
   "outputs": [],
   "source": [
    "monster_df[[\"Pendulum Scale\", \"ATK\"]].apply(pd.to_numeric, errors=\"coerce\").dropna().astype(int).groupby(\n",
    "    \"Pendulum Scale\"\n",
    ").describe().round(1)"
   ]
  },
  {
   "cell_type": "markdown",
   "id": "87",
   "metadata": {
    "papermill": {
     "duration": 0.13729,
     "end_time": "2025-07-26T06:06:11.200366",
     "exception": false,
     "start_time": "2025-07-26T06:06:11.063076",
     "status": "completed"
    },
    "tags": []
   },
   "source": [
    "#### DEF statistics"
   ]
  },
  {
   "cell_type": "code",
   "execution_count": null,
   "id": "88",
   "metadata": {
    "papermill": {
     "duration": 0.231899,
     "end_time": "2025-07-26T06:06:11.573583",
     "exception": false,
     "start_time": "2025-07-26T06:06:11.341684",
     "status": "completed"
    },
    "tags": []
   },
   "outputs": [],
   "source": [
    "monster_df[[\"Pendulum Scale\", \"DEF\"]].apply(pd.to_numeric, errors=\"coerce\").dropna().astype(int).groupby(\n",
    "    \"Pendulum Scale\"\n",
    ").describe().round(1)"
   ]
  },
  {
   "cell_type": "markdown",
   "id": "89",
   "metadata": {
    "papermill": {
     "duration": 0.139011,
     "end_time": "2025-07-26T06:06:11.866976",
     "exception": false,
     "start_time": "2025-07-26T06:06:11.727965",
     "status": "completed"
    },
    "tags": []
   },
   "source": [
    "#### Level/Rank statistics"
   ]
  },
  {
   "cell_type": "code",
   "execution_count": null,
   "id": "90",
   "metadata": {
    "papermill": {
     "duration": 0.224505,
     "end_time": "2025-07-26T06:06:12.236563",
     "exception": false,
     "start_time": "2025-07-26T06:06:12.012058",
     "status": "completed"
    },
    "tags": []
   },
   "outputs": [],
   "source": [
    "monster_df[[\"Pendulum Scale\", \"Level/Rank/Link\"]].apply(pd.to_numeric, errors=\"coerce\").dropna().astype(int).groupby(\n",
    "    \"Pendulum Scale\"\n",
    ").describe().rename({\"Level/Rank/Link\": \"Level/Rank\"}, axis=1).round(1)"
   ]
  },
  {
   "cell_type": "markdown",
   "id": "91",
   "metadata": {
    "papermill": {
     "duration": 0.425583,
     "end_time": "2025-07-26T06:06:12.803228",
     "exception": false,
     "start_time": "2025-07-26T06:06:12.377645",
     "status": "completed"
    },
    "tags": []
   },
   "source": [
    "### Link"
   ]
  },
  {
   "cell_type": "code",
   "execution_count": null,
   "id": "92",
   "metadata": {
    "papermill": {
     "duration": 0.344243,
     "end_time": "2025-07-26T06:06:13.328025",
     "exception": false,
     "start_time": "2025-07-26T06:06:12.983782",
     "status": "completed"
    },
    "tags": []
   },
   "outputs": [],
   "source": [
    "monster_df[monster_df[\"Primary type\"] == \"Link Monster\"].drop(\n",
    "    columns=[\n",
    "        \"Card type\",\n",
    "        \"Primary type\",\n",
    "        \"Secondary type\",\n",
    "        \"DEF\",\n",
    "        \"Pendulum Scale\",\n",
    "        \"Page name\",\n",
    "        \"Page URL\",\n",
    "    ]\n",
    ").groupby(\"Level/Rank/Link\").nunique().sort_index(key=lambda x: pd.to_numeric(x, errors=\"coerce\")).rename_axis(\"Link\")"
   ]
  },
  {
   "cell_type": "code",
   "execution_count": null,
   "id": "93",
   "metadata": {
    "papermill": {
     "duration": 1.113133,
     "end_time": "2025-07-26T06:06:14.613818",
     "exception": false,
     "start_time": "2025-07-26T06:06:13.500685",
     "status": "completed"
    },
    "tags": []
   },
   "outputs": [],
   "source": [
    "link_colors = plot.colors_dict[\"Link Monster\"]\n",
    "monster_df[monster_df[\"Primary type\"] == \"Link Monster\"][\"Level/Rank/Link\"].value_counts().sort_index(\n",
    "    key=lambda x: pd.to_numeric(x, errors=\"coerce\")\n",
    ").plot.bar(figsize=(12, 6), rot=0, color=link_colors)\n",
    "plt.show()"
   ]
  },
  {
   "cell_type": "markdown",
   "id": "94",
   "metadata": {
    "papermill": {
     "duration": 0.225229,
     "end_time": "2025-07-26T06:06:14.983157",
     "exception": false,
     "start_time": "2025-07-26T06:06:14.757928",
     "status": "completed"
    },
    "tags": []
   },
   "source": [
    "#### ATK statistics"
   ]
  },
  {
   "cell_type": "code",
   "execution_count": null,
   "id": "95",
   "metadata": {
    "papermill": {
     "duration": 0.188595,
     "end_time": "2025-07-26T06:06:15.314506",
     "exception": false,
     "start_time": "2025-07-26T06:06:15.125911",
     "status": "completed"
    },
    "tags": []
   },
   "outputs": [],
   "source": [
    "monster_df[monster_df[\"Primary type\"] == \"Link Monster\"][[\"Level/Rank/Link\", \"ATK\"]].apply(\n",
    "    pd.to_numeric, errors=\"coerce\"\n",
    ").dropna().astype(int).groupby(\"Level/Rank/Link\").describe().round(1).rename_axis(\"Link\")"
   ]
  },
  {
   "cell_type": "markdown",
   "id": "96",
   "metadata": {
    "papermill": {
     "duration": 0.134642,
     "end_time": "2025-07-26T06:06:15.851139",
     "exception": false,
     "start_time": "2025-07-26T06:06:15.716497",
     "status": "completed"
    },
    "tags": []
   },
   "source": [
    "### Link Arrows"
   ]
  },
  {
   "cell_type": "markdown",
   "id": "97",
   "metadata": {
    "papermill": {
     "duration": 0.138054,
     "end_time": "2025-07-26T06:06:16.526489",
     "exception": false,
     "start_time": "2025-07-26T06:06:16.388435",
     "status": "completed"
    },
    "tags": []
   },
   "source": [
    "#### By combination"
   ]
  },
  {
   "cell_type": "code",
   "execution_count": null,
   "id": "98",
   "metadata": {
    "papermill": {
     "duration": 0.189802,
     "end_time": "2025-07-26T06:06:17.256420",
     "exception": false,
     "start_time": "2025-07-26T06:06:17.066618",
     "status": "completed"
    },
    "tags": []
   },
   "outputs": [],
   "source": [
    "print(\"Total number of link arrow combinations:\", monster_df[\"Link Arrows\"].nunique())"
   ]
  },
  {
   "cell_type": "code",
   "execution_count": null,
   "id": "99",
   "metadata": {
    "papermill": {
     "duration": 0.221295,
     "end_time": "2025-07-26T06:06:17.711642",
     "exception": false,
     "start_time": "2025-07-26T06:06:17.490347",
     "status": "completed"
    },
    "tags": []
   },
   "outputs": [],
   "source": [
    "monster_df.drop(\n",
    "    columns=[\n",
    "        \"Card type\",\n",
    "        \"Primary type\",\n",
    "        \"Level/Rank/Link\",\n",
    "        \"Pendulum Scale\",\n",
    "        \"Secondary type\",\n",
    "        \"DEF\",\n",
    "        \"Page name\",\n",
    "        \"Page URL\",\n",
    "    ]\n",
    ").groupby(\"Link Arrows\").nunique()"
   ]
  },
  {
   "cell_type": "code",
   "execution_count": null,
   "id": "100",
   "metadata": {
    "papermill": {
     "duration": 1.189204,
     "end_time": "2025-07-26T06:06:19.048732",
     "exception": false,
     "start_time": "2025-07-26T06:06:17.859528",
     "status": "completed"
    },
    "tags": []
   },
   "outputs": [],
   "source": [
    "arrows_colors = plot.colors_dict[\"Link Monster\"]\n",
    "monster_df[\"Link Arrows\"].value_counts().plot.barh(figsize=(10, 20), color=arrows_colors, title=\"Link arrows combinations\")\n",
    "plt.show()"
   ]
  },
  {
   "cell_type": "markdown",
   "id": "101",
   "metadata": {
    "papermill": {
     "duration": 0.368856,
     "end_time": "2025-07-26T06:06:19.896835",
     "exception": false,
     "start_time": "2025-07-26T06:06:19.527979",
     "status": "completed"
    },
    "tags": []
   },
   "source": [
    "#### By unique"
   ]
  },
  {
   "cell_type": "code",
   "execution_count": null,
   "id": "102",
   "metadata": {
    "papermill": {
     "duration": 0.186781,
     "end_time": "2025-07-26T06:06:20.232804",
     "exception": false,
     "start_time": "2025-07-26T06:06:20.046023",
     "status": "completed"
    },
    "tags": []
   },
   "outputs": [],
   "source": [
    "monster_df[monster_df[\"Link Arrows\"].notna()].drop(\n",
    "    columns=[\n",
    "        \"Card type\",\n",
    "        \"Primary type\",\n",
    "        \"Level/Rank/Link\",\n",
    "        \"Pendulum Scale\",\n",
    "        \"Secondary type\",\n",
    "        \"DEF\",\n",
    "        \"Page name\",\n",
    "        \"Page URL\",\n",
    "    ]\n",
    ").explode(\"Link Arrows\").groupby(\"Link Arrows\").nunique()"
   ]
  },
  {
   "cell_type": "code",
   "execution_count": null,
   "id": "103",
   "metadata": {
    "papermill": {
     "duration": 0.681886,
     "end_time": "2025-07-26T06:06:21.061746",
     "exception": false,
     "start_time": "2025-07-26T06:06:20.379860",
     "status": "completed"
    },
    "tags": []
   },
   "outputs": [],
   "source": [
    "_ = plot.arrows(monster_df[\"Link Arrows\"].explode(\"Link Arrows\"))\n",
    "plt.show()"
   ]
  },
  {
   "cell_type": "markdown",
   "id": "104",
   "metadata": {
    "papermill": {
     "duration": 0.144668,
     "end_time": "2025-07-26T06:06:21.353998",
     "exception": false,
     "start_time": "2025-07-26T06:06:21.209330",
     "status": "completed"
    },
    "tags": []
   },
   "source": [
    "#### By link"
   ]
  },
  {
   "cell_type": "code",
   "execution_count": null,
   "id": "105",
   "metadata": {
    "papermill": {
     "duration": 0.184374,
     "end_time": "2025-07-26T06:06:21.687134",
     "exception": false,
     "start_time": "2025-07-26T06:06:21.502760",
     "status": "completed"
    },
    "tags": []
   },
   "outputs": [],
   "source": [
    "arrow_per_link = monster_df[[\"Link Arrows\", \"Level/Rank/Link\"]].explode(\"Link Arrows\").dropna()\n",
    "arrow_crosstab = pd.crosstab(arrow_per_link[\"Link Arrows\"], arrow_per_link[\"Level/Rank/Link\"]).rename_axis(\"Link\", axis=1)\n",
    "arrow_crosstab"
   ]
  },
  {
   "cell_type": "code",
   "execution_count": null,
   "id": "106",
   "metadata": {
    "papermill": {
     "duration": 0.665343,
     "end_time": "2025-07-26T06:06:22.506062",
     "exception": false,
     "start_time": "2025-07-26T06:06:21.840719",
     "status": "completed"
    },
    "tags": []
   },
   "outputs": [],
   "source": [
    "plt.figure(figsize=(10, 6))\n",
    "sns.heatmap(\n",
    "    arrow_crosstab[arrow_crosstab > 0].T,\n",
    "    annot=True,\n",
    "    fmt=\"g\",\n",
    "    cmap=\"viridis\",\n",
    "    square=True,\n",
    "    norm=plot.LogNorm(),\n",
    ")\n",
    "plt.show()"
   ]
  },
  {
   "cell_type": "markdown",
   "id": "107",
   "metadata": {
    "papermill": {
     "duration": 0.565535,
     "end_time": "2025-07-26T06:06:23.331281",
     "exception": false,
     "start_time": "2025-07-26T06:06:22.765746",
     "status": "completed"
    },
    "tags": []
   },
   "source": [
    "## Spell & Trap"
   ]
  },
  {
   "cell_type": "markdown",
   "id": "108",
   "metadata": {
    "papermill": {
     "duration": 0.153395,
     "end_time": "2025-07-26T06:06:23.867351",
     "exception": false,
     "start_time": "2025-07-26T06:06:23.713956",
     "status": "completed"
    },
    "tags": []
   },
   "source": [
    "### Properties"
   ]
  },
  {
   "cell_type": "code",
   "execution_count": null,
   "id": "109",
   "metadata": {
    "papermill": {
     "duration": 0.200486,
     "end_time": "2025-07-26T06:06:24.649699",
     "exception": false,
     "start_time": "2025-07-26T06:06:24.449213",
     "status": "completed"
    },
    "tags": []
   },
   "outputs": [],
   "source": [
    "print(\"Total number of properties:\", st_df[\"Property\"].nunique())"
   ]
  },
  {
   "cell_type": "code",
   "execution_count": null,
   "id": "110",
   "metadata": {
    "papermill": {
     "duration": 0.206795,
     "end_time": "2025-07-26T06:06:25.171134",
     "exception": false,
     "start_time": "2025-07-26T06:06:24.964339",
     "status": "completed"
    },
    "tags": []
   },
   "outputs": [],
   "source": [
    "st_df.drop(columns=[\"Card type\", \"Page name\", \"Page URL\"]).groupby(\"Property\").nunique()"
   ]
  },
  {
   "cell_type": "code",
   "execution_count": null,
   "id": "111",
   "metadata": {
    "papermill": {
     "duration": 0.331424,
     "end_time": "2025-07-26T06:06:25.658123",
     "exception": false,
     "start_time": "2025-07-26T06:06:25.326699",
     "status": "completed"
    },
    "tags": []
   },
   "outputs": [],
   "source": [
    "st_colors = [plot.colors_dict[i] for i in cards_df[[\"Card type\", \"Property\"]].value_counts().index.get_level_values(0)]\n",
    "st_df[\"Property\"].value_counts().plot.bar(figsize=(16, 6), rot=45, color=st_colors)\n",
    "plt.show()"
   ]
  },
  {
   "cell_type": "markdown",
   "id": "112",
   "metadata": {
    "papermill": {
     "duration": 0.16386,
     "end_time": "2025-07-26T06:06:26.119802",
     "exception": false,
     "start_time": "2025-07-26T06:06:25.955942",
     "status": "completed"
    },
    "tags": []
   },
   "source": [
    "## Effect type"
   ]
  },
  {
   "cell_type": "code",
   "execution_count": null,
   "id": "113",
   "metadata": {
    "papermill": {
     "duration": 0.197675,
     "end_time": "2025-07-26T06:06:26.620768",
     "exception": false,
     "start_time": "2025-07-26T06:06:26.423093",
     "status": "completed"
    },
    "tags": []
   },
   "outputs": [],
   "source": [
    "print(\"Total number of effect types:\", cards_df[\"Effect type\"].explode().nunique())"
   ]
  },
  {
   "cell_type": "code",
   "execution_count": null,
   "id": "114",
   "metadata": {
    "papermill": {
     "duration": 0.615664,
     "end_time": "2025-07-26T06:06:27.395581",
     "exception": false,
     "start_time": "2025-07-26T06:06:26.779917",
     "status": "completed"
    },
    "tags": []
   },
   "outputs": [],
   "source": [
    "cards_df.explode(\"Effect type\").groupby(\"Effect type\").nunique()"
   ]
  },
  {
   "cell_type": "markdown",
   "id": "115",
   "metadata": {
    "papermill": {
     "duration": 0.214827,
     "end_time": "2025-07-26T06:06:27.765360",
     "exception": false,
     "start_time": "2025-07-26T06:06:27.550533",
     "status": "completed"
    },
    "tags": []
   },
   "source": [
    "### Card type discrimination"
   ]
  },
  {
   "cell_type": "code",
   "execution_count": null,
   "id": "116",
   "metadata": {
    "papermill": {
     "duration": 0.257399,
     "end_time": "2025-07-26T06:06:28.183516",
     "exception": false,
     "start_time": "2025-07-26T06:06:27.926117",
     "status": "completed"
    },
    "tags": []
   },
   "outputs": [],
   "source": [
    "type_diff = cards_df[[\"Card type\", \"Effect type\"]].explode(\"Effect type\").value_counts().unstack(0).fillna(0).astype(int)\n",
    "type_diff"
   ]
  },
  {
   "cell_type": "code",
   "execution_count": null,
   "id": "117",
   "metadata": {
    "papermill": {
     "duration": 0.495662,
     "end_time": "2025-07-26T06:06:28.980672",
     "exception": false,
     "start_time": "2025-07-26T06:06:28.485010",
     "status": "completed"
    },
    "tags": []
   },
   "outputs": [],
   "source": [
    "type_diff_colors = {type: plot.colors_dict[type] for type in cards_df[\"Card type\"].dropna().unique()}\n",
    "type_diff.plot.bar(figsize=(18, 6), stacked=True, rot=45, color=type_diff_colors)\n",
    "plt.show()"
   ]
  },
  {
   "cell_type": "markdown",
   "id": "118",
   "metadata": {
    "papermill": {
     "duration": 0.374877,
     "end_time": "2025-07-26T06:06:29.572299",
     "exception": false,
     "start_time": "2025-07-26T06:06:29.197422",
     "status": "completed"
    },
    "tags": []
   },
   "source": [
    "## Archseries"
   ]
  },
  {
   "cell_type": "code",
   "execution_count": null,
   "id": "119",
   "metadata": {
    "papermill": {
     "duration": 0.287872,
     "end_time": "2025-07-26T06:06:30.020492",
     "exception": false,
     "start_time": "2025-07-26T06:06:29.732620",
     "status": "completed"
    },
    "tags": []
   },
   "outputs": [],
   "source": [
    "exploded_archseries = cards_df.explode(\"Archseries\")\n",
    "print(\"Total number of Archseries:\", exploded_archseries[\"Archseries\"].nunique())"
   ]
  },
  {
   "cell_type": "code",
   "execution_count": null,
   "id": "120",
   "metadata": {
    "papermill": {
     "duration": 0.306669,
     "end_time": "2025-07-26T06:06:30.497892",
     "exception": false,
     "start_time": "2025-07-26T06:06:30.191223",
     "status": "completed"
    },
    "tags": []
   },
   "outputs": [],
   "source": [
    "exploded_archseries.groupby(\"Archseries\").nunique()"
   ]
  },
  {
   "cell_type": "code",
   "execution_count": null,
   "id": "121",
   "metadata": {
    "papermill": {
     "duration": 0.604624,
     "end_time": "2025-07-26T06:06:31.270877",
     "exception": false,
     "start_time": "2025-07-26T06:06:30.666253",
     "status": "completed"
    },
    "tags": []
   },
   "outputs": [],
   "source": [
    "exploded_archseries[\"Archseries\"].value_counts().sort_values().tail(30).plot.barh(\n",
    "    figsize=(10, 15), grid=True, title=\"Top 30 Archtypes/Series\"\n",
    ")\n",
    "plt.show()"
   ]
  },
  {
   "cell_type": "markdown",
   "id": "122",
   "metadata": {
    "papermill": {
     "duration": 0.160047,
     "end_time": "2025-07-26T06:06:31.594934",
     "exception": false,
     "start_time": "2025-07-26T06:06:31.434887",
     "status": "completed"
    },
    "tags": []
   },
   "source": [
    "### By card type"
   ]
  },
  {
   "cell_type": "code",
   "execution_count": null,
   "id": "123",
   "metadata": {
    "papermill": {
     "duration": 0.317265,
     "end_time": "2025-07-26T06:06:32.077281",
     "exception": false,
     "start_time": "2025-07-26T06:06:31.760016",
     "status": "completed"
    },
    "tags": []
   },
   "outputs": [],
   "source": [
    "archseries_crosstab = pd.crosstab(exploded_archseries[\"Archseries\"], exploded_archseries[\"Card type\"], margins=True)\n",
    "archseries_crosstab"
   ]
  },
  {
   "cell_type": "markdown",
   "id": "124",
   "metadata": {
    "papermill": {
     "duration": 0.39444,
     "end_time": "2025-07-26T06:06:32.638351",
     "exception": false,
     "start_time": "2025-07-26T06:06:32.243911",
     "status": "completed"
    },
    "tags": []
   },
   "source": [
    "### By primary type"
   ]
  },
  {
   "cell_type": "code",
   "execution_count": null,
   "id": "125",
   "metadata": {
    "papermill": {
     "duration": 0.334195,
     "end_time": "2025-07-26T06:06:33.138077",
     "exception": false,
     "start_time": "2025-07-26T06:06:32.803882",
     "status": "completed"
    },
    "tags": []
   },
   "outputs": [],
   "source": [
    "archseries_crosstab_b = pd.crosstab(exploded_archseries[\"Archseries\"], exploded_archseries[\"Primary type\"], margins=True)\n",
    "archseries_crosstab_b"
   ]
  },
  {
   "cell_type": "markdown",
   "id": "126",
   "metadata": {
    "papermill": {
     "duration": 0.161741,
     "end_time": "2025-07-26T06:06:33.490877",
     "exception": false,
     "start_time": "2025-07-26T06:06:33.329136",
     "status": "completed"
    },
    "tags": []
   },
   "source": [
    "\n",
    "\n",
    "### By secondary type"
   ]
  },
  {
   "cell_type": "code",
   "execution_count": null,
   "id": "127",
   "metadata": {
    "papermill": {
     "duration": 0.352804,
     "end_time": "2025-07-26T06:06:34.015051",
     "exception": false,
     "start_time": "2025-07-26T06:06:33.662247",
     "status": "completed"
    },
    "tags": []
   },
   "outputs": [],
   "source": [
    "exploded_archseries_secondary_type = exploded_archseries[[\"Archseries\", \"Secondary type\"]].explode(\"Secondary type\")\n",
    "archseries_crosstab_c = pd.crosstab(\n",
    "    exploded_archseries_secondary_type[\"Archseries\"],\n",
    "    exploded_archseries_secondary_type[\"Secondary type\"],\n",
    "    margins=True,\n",
    ")\n",
    "archseries_crosstab_c"
   ]
  },
  {
   "cell_type": "markdown",
   "id": "128",
   "metadata": {
    "papermill": {
     "duration": 0.324383,
     "end_time": "2025-07-26T06:06:34.506775",
     "exception": false,
     "start_time": "2025-07-26T06:06:34.182392",
     "status": "completed"
    },
    "tags": []
   },
   "source": [
    "### By monster type"
   ]
  },
  {
   "cell_type": "code",
   "execution_count": null,
   "id": "129",
   "metadata": {
    "papermill": {
     "duration": 0.619525,
     "end_time": "2025-07-26T06:06:35.294893",
     "exception": false,
     "start_time": "2025-07-26T06:06:34.675368",
     "status": "completed"
    },
    "tags": []
   },
   "outputs": [],
   "source": [
    "archseries_crosstab_d = pd.crosstab(exploded_archseries[\"Archseries\"], exploded_archseries[\"Monster type\"], margins=True)\n",
    "archseries_crosstab_d"
   ]
  },
  {
   "cell_type": "markdown",
   "id": "130",
   "metadata": {
    "papermill": {
     "duration": 0.159745,
     "end_time": "2025-07-26T06:06:35.777910",
     "exception": false,
     "start_time": "2025-07-26T06:06:35.618165",
     "status": "completed"
    },
    "tags": []
   },
   "source": [
    "### By property"
   ]
  },
  {
   "cell_type": "code",
   "execution_count": null,
   "id": "131",
   "metadata": {
    "papermill": {
     "duration": 0.299097,
     "end_time": "2025-07-26T06:06:36.253747",
     "exception": false,
     "start_time": "2025-07-26T06:06:35.954650",
     "status": "completed"
    },
    "tags": []
   },
   "outputs": [],
   "source": [
    "archseries_crosstab_e = pd.crosstab(exploded_archseries[\"Archseries\"], exploded_archseries[\"Property\"], margins=True)\n",
    "archseries_crosstab_e"
   ]
  },
  {
   "cell_type": "markdown",
   "id": "132",
   "metadata": {
    "papermill": {
     "duration": 0.179666,
     "end_time": "2025-07-26T06:06:36.620712",
     "exception": false,
     "start_time": "2025-07-26T06:06:36.441046",
     "status": "completed"
    },
    "tags": []
   },
   "source": [
    "## Artworks"
   ]
  },
  {
   "cell_type": "code",
   "execution_count": null,
   "id": "133",
   "metadata": {
    "papermill": {
     "duration": 0.176648,
     "end_time": "2025-07-26T06:06:37.197535",
     "exception": false,
     "start_time": "2025-07-26T06:06:37.020887",
     "status": "completed"
    },
    "tags": []
   },
   "outputs": [],
   "source": [
    "print(\n",
    "    \"Total number of cards with edited or alternate artworks:\",\n",
    "    cards_df[\"Artwork\"].count(),\n",
    ")"
   ]
  },
  {
   "cell_type": "code",
   "execution_count": null,
   "id": "134",
   "metadata": {
    "papermill": {
     "duration": 0.335544,
     "end_time": "2025-07-26T06:06:37.702451",
     "exception": false,
     "start_time": "2025-07-26T06:06:37.366907",
     "status": "completed"
    },
    "tags": []
   },
   "outputs": [],
   "source": [
    "cards_df[[\"Name\", \"Password\", \"TCG status\", \"OCG status\", \"Artwork\"]][cards_df[\"Artwork\"].notna()]"
   ]
  },
  {
   "cell_type": "code",
   "execution_count": null,
   "id": "135",
   "metadata": {
    "papermill": {
     "duration": 0.252546,
     "end_time": "2025-07-26T06:06:38.170014",
     "exception": false,
     "start_time": "2025-07-26T06:06:37.917468",
     "status": "completed"
    },
    "tags": []
   },
   "outputs": [],
   "source": [
    "artwork_value_counts = cards_df[\"Artwork\"].value_counts()\n",
    "plt.figure(figsize=(20, 8))\n",
    "plt.title(\"Artworks\")\n",
    "plot.venn2(\n",
    "    subsets=(\n",
    "        artwork_value_counts[(\"Alternate\",)],\n",
    "        artwork_value_counts[(\"Edited\",)],\n",
    "        artwork_value_counts[(\"Alternate\", \"Edited\")],\n",
    "    ),\n",
    "    set_labels=(\"Alternate artwork\", \"Edited artwork\"),\n",
    ")\n",
    "plt.show()"
   ]
  },
  {
   "cell_type": "markdown",
   "id": "136",
   "metadata": {
    "papermill": {
     "duration": 0.355248,
     "end_time": "2025-07-26T06:06:38.695016",
     "exception": false,
     "start_time": "2025-07-26T06:06:38.339768",
     "status": "completed"
    },
    "tags": []
   },
   "source": [
    "### By card type"
   ]
  },
  {
   "cell_type": "code",
   "execution_count": null,
   "id": "137",
   "metadata": {
    "papermill": {
     "duration": 0.688538,
     "end_time": "2025-07-26T06:06:39.556329",
     "exception": false,
     "start_time": "2025-07-26T06:06:38.867791",
     "status": "completed"
    },
    "tags": []
   },
   "outputs": [],
   "source": [
    "artwork_crosstab = pd.crosstab(cards_df[\"Artwork\"], cards_df[\"Card type\"])\n",
    "artwork_crosstab"
   ]
  },
  {
   "cell_type": "markdown",
   "id": "138",
   "metadata": {
    "papermill": {
     "duration": 0.163981,
     "end_time": "2025-07-26T06:06:40.096848",
     "exception": false,
     "start_time": "2025-07-26T06:06:39.932867",
     "status": "completed"
    },
    "tags": []
   },
   "source": [
    "### By primary type"
   ]
  },
  {
   "cell_type": "code",
   "execution_count": null,
   "id": "139",
   "metadata": {
    "papermill": {
     "duration": 0.209123,
     "end_time": "2025-07-26T06:06:40.477678",
     "exception": false,
     "start_time": "2025-07-26T06:06:40.268555",
     "status": "completed"
    },
    "tags": []
   },
   "outputs": [],
   "source": [
    "artwork_crosstab_b = pd.crosstab(cards_df[\"Artwork\"], cards_df[\"Primary type\"])\n",
    "artwork_crosstab_b"
   ]
  },
  {
   "cell_type": "markdown",
   "id": "140",
   "metadata": {
    "papermill": {
     "duration": 0.480616,
     "end_time": "2025-07-26T06:06:41.129225",
     "exception": false,
     "start_time": "2025-07-26T06:06:40.648609",
     "status": "completed"
    },
    "tags": []
   },
   "source": [
    "More granularity is unnecessary"
   ]
  },
  {
   "cell_type": "markdown",
   "id": "141",
   "metadata": {
    "papermill": {
     "duration": 0.165759,
     "end_time": "2025-07-26T06:06:41.469855",
     "exception": false,
     "start_time": "2025-07-26T06:06:41.304096",
     "status": "completed"
    },
    "tags": []
   },
   "source": [
    "## Errata"
   ]
  },
  {
   "cell_type": "code",
   "execution_count": null,
   "id": "142",
   "metadata": {
    "papermill": {
     "duration": 0.177559,
     "end_time": "2025-07-26T06:06:41.821014",
     "exception": false,
     "start_time": "2025-07-26T06:06:41.643455",
     "status": "completed"
    },
    "tags": []
   },
   "outputs": [],
   "source": [
    "print(\"Total number of cards with errata:\", cards_df[\"Errata\"].count())"
   ]
  },
  {
   "cell_type": "code",
   "execution_count": null,
   "id": "143",
   "metadata": {
    "papermill": {
     "duration": 0.495787,
     "end_time": "2025-07-26T06:06:42.492337",
     "exception": false,
     "start_time": "2025-07-26T06:06:41.996550",
     "status": "completed"
    },
    "tags": []
   },
   "outputs": [],
   "source": [
    "cards_df[[\"Name\", \"Password\", \"TCG status\", \"OCG status\", \"Errata\"]][cards_df[\"Errata\"].notna()]"
   ]
  },
  {
   "cell_type": "code",
   "execution_count": null,
   "id": "144",
   "metadata": {
    "papermill": {
     "duration": 0.616725,
     "end_time": "2025-07-26T06:06:43.410835",
     "exception": false,
     "start_time": "2025-07-26T06:06:42.794110",
     "status": "completed"
    },
    "tags": []
   },
   "outputs": [],
   "source": [
    "errata_counts = cards_df.groupby(\"Errata\").nunique().sort_values(\"Name\", ascending=False)\n",
    "errata_counts"
   ]
  },
  {
   "cell_type": "code",
   "execution_count": null,
   "id": "145",
   "metadata": {
    "papermill": {
     "duration": 0.425334,
     "end_time": "2025-07-26T06:06:44.359335",
     "exception": false,
     "start_time": "2025-07-26T06:06:43.934001",
     "status": "completed"
    },
    "tags": []
   },
   "outputs": [],
   "source": [
    "plt.figure(figsize=(20, 8))\n",
    "plt.title(\"Errata\")\n",
    "sorted_errata_name_counts = errata_counts[\"Name\"].drop((\"Any\",)).sort_index(key=lambda x: [(len(i), i) for i in x])\n",
    "plot.venn2(\n",
    "    subsets=sorted_errata_name_counts,\n",
    "    set_labels=sorted_errata_name_counts.index[:-1].str[0],\n",
    ")\n",
    "plt.show()"
   ]
  },
  {
   "cell_type": "markdown",
   "id": "146",
   "metadata": {
    "papermill": {
     "duration": 0.21114,
     "end_time": "2025-07-26T06:06:44.788468",
     "exception": false,
     "start_time": "2025-07-26T06:06:44.577328",
     "status": "completed"
    },
    "tags": []
   },
   "source": [
    "### By card type"
   ]
  },
  {
   "cell_type": "code",
   "execution_count": null,
   "id": "147",
   "metadata": {
    "papermill": {
     "duration": 0.54328,
     "end_time": "2025-07-26T06:06:45.506235",
     "exception": false,
     "start_time": "2025-07-26T06:06:44.962955",
     "status": "completed"
    },
    "tags": []
   },
   "outputs": [],
   "source": [
    "errata_crosstab = pd.crosstab(cards_df[\"Errata\"], cards_df[\"Card type\"])\n",
    "errata_crosstab.sort_values(by=errata_crosstab.columns.tolist(), ascending=False)"
   ]
  },
  {
   "cell_type": "markdown",
   "id": "148",
   "metadata": {
    "papermill": {
     "duration": 0.168106,
     "end_time": "2025-07-26T06:06:45.855150",
     "exception": false,
     "start_time": "2025-07-26T06:06:45.687044",
     "status": "completed"
    },
    "tags": []
   },
   "source": [
    "### By primary type"
   ]
  },
  {
   "cell_type": "code",
   "execution_count": null,
   "id": "149",
   "metadata": {
    "papermill": {
     "duration": 0.536241,
     "end_time": "2025-07-26T06:06:46.566862",
     "exception": false,
     "start_time": "2025-07-26T06:06:46.030621",
     "status": "completed"
    },
    "tags": []
   },
   "outputs": [],
   "source": [
    "errata_crosstab_b = pd.crosstab(cards_df[\"Errata\"], cards_df[\"Primary type\"])\n",
    "errata_crosstab_b.sort_values(by=errata_crosstab_b.columns.tolist(), ascending=False)"
   ]
  },
  {
   "cell_type": "markdown",
   "id": "150",
   "metadata": {
    "papermill": {
     "duration": 0.193906,
     "end_time": "2025-07-26T06:06:46.942381",
     "exception": false,
     "start_time": "2025-07-26T06:06:46.748475",
     "status": "completed"
    },
    "tags": []
   },
   "source": [
    "More granularity is unnecessary"
   ]
  },
  {
   "cell_type": "markdown",
   "id": "151",
   "metadata": {
    "papermill": {
     "duration": 0.453079,
     "end_time": "2025-07-26T06:06:47.923730",
     "exception": false,
     "start_time": "2025-07-26T06:06:47.470651",
     "status": "completed"
    },
    "tags": []
   },
   "source": [
    "### By artwork"
   ]
  },
  {
   "cell_type": "code",
   "execution_count": null,
   "id": "152",
   "metadata": {
    "papermill": {
     "duration": 0.206189,
     "end_time": "2025-07-26T06:06:48.310153",
     "exception": false,
     "start_time": "2025-07-26T06:06:48.103964",
     "status": "completed"
    },
    "tags": []
   },
   "outputs": [],
   "source": [
    "errata_crosstab_c = pd.crosstab(cards_df[\"Artwork\"], cards_df[\"Errata\"])\n",
    "errata_crosstab_c.sort_values(by=errata_crosstab_c.columns.tolist(), ascending=False)"
   ]
  },
  {
   "cell_type": "markdown",
   "id": "153",
   "metadata": {
    "papermill": {
     "duration": 0.173185,
     "end_time": "2025-07-26T06:06:48.663722",
     "exception": false,
     "start_time": "2025-07-26T06:06:48.490537",
     "status": "completed"
    },
    "tags": []
   },
   "source": [
    "## TCG & OCG status"
   ]
  },
  {
   "cell_type": "markdown",
   "id": "154",
   "metadata": {
    "papermill": {
     "duration": 0.171664,
     "end_time": "2025-07-26T06:06:49.160824",
     "exception": false,
     "start_time": "2025-07-26T06:06:48.989160",
     "status": "completed"
    },
    "tags": []
   },
   "source": [
    "### TGC status"
   ]
  },
  {
   "cell_type": "code",
   "execution_count": null,
   "id": "155",
   "metadata": {
    "papermill": {
     "duration": 0.201328,
     "end_time": "2025-07-26T06:06:49.553669",
     "exception": false,
     "start_time": "2025-07-26T06:06:49.352341",
     "status": "completed"
    },
    "tags": []
   },
   "outputs": [],
   "source": [
    "print(\"Total number of TCG status:\", cards_df[\"TCG status\"].nunique())"
   ]
  },
  {
   "cell_type": "code",
   "execution_count": null,
   "id": "156",
   "metadata": {
    "papermill": {
     "duration": 0.307314,
     "end_time": "2025-07-26T06:06:50.670364",
     "exception": false,
     "start_time": "2025-07-26T06:06:50.363050",
     "status": "completed"
    },
    "tags": []
   },
   "outputs": [],
   "source": [
    "cards_df.drop(columns=[\"Page name\", \"Page URL\"]).groupby(\"TCG status\", dropna=False).nunique()"
   ]
  },
  {
   "cell_type": "code",
   "execution_count": null,
   "id": "157",
   "metadata": {
    "papermill": {
     "duration": 0.49358,
     "end_time": "2025-07-26T06:06:51.342345",
     "exception": false,
     "start_time": "2025-07-26T06:06:50.848765",
     "status": "completed"
    },
    "tags": []
   },
   "outputs": [],
   "source": [
    "cards_df[\"TCG status\"].value_counts(dropna=False).plot.bar(figsize=(14, 6), logy=True, rot=0)\n",
    "plt.show()"
   ]
  },
  {
   "cell_type": "markdown",
   "id": "158",
   "metadata": {
    "papermill": {
     "duration": 0.172084,
     "end_time": "2025-07-26T06:06:51.696109",
     "exception": false,
     "start_time": "2025-07-26T06:06:51.524025",
     "status": "completed"
    },
    "tags": []
   },
   "source": [
    "#### By card type"
   ]
  },
  {
   "cell_type": "code",
   "execution_count": null,
   "id": "159",
   "metadata": {
    "papermill": {
     "duration": 0.218284,
     "end_time": "2025-07-26T06:06:52.098932",
     "exception": false,
     "start_time": "2025-07-26T06:06:51.880648",
     "status": "completed"
    },
    "tags": []
   },
   "outputs": [],
   "source": [
    "# Remove unlimited\n",
    "tcg_crosstab = pd.crosstab(cards_df[\"Card type\"], cards_df[\"TCG status\"]).drop([\"Unlimited\"], axis=1)\n",
    "tcg_crosstab"
   ]
  },
  {
   "cell_type": "code",
   "execution_count": null,
   "id": "160",
   "metadata": {
    "papermill": {
     "duration": 1.045803,
     "end_time": "2025-07-26T06:06:53.323852",
     "exception": false,
     "start_time": "2025-07-26T06:06:52.278049",
     "status": "completed"
    },
    "tags": []
   },
   "outputs": [],
   "source": [
    "plt.figure(figsize=(12, 6))\n",
    "sns.heatmap(\n",
    "    tcg_crosstab[tcg_crosstab > 0],\n",
    "    annot=True,\n",
    "    fmt=\"g\",\n",
    "    cmap=\"viridis\",\n",
    "    norm=plot.LogNorm(),\n",
    ")\n",
    "plt.show()"
   ]
  },
  {
   "cell_type": "markdown",
   "id": "161",
   "metadata": {
    "papermill": {
     "duration": 0.329349,
     "end_time": "2025-07-26T06:06:53.833510",
     "exception": false,
     "start_time": "2025-07-26T06:06:53.504161",
     "status": "completed"
    },
    "tags": []
   },
   "source": [
    "#### By monster type"
   ]
  },
  {
   "cell_type": "code",
   "execution_count": null,
   "id": "162",
   "metadata": {
    "papermill": {
     "duration": 0.498426,
     "end_time": "2025-07-26T06:06:54.516199",
     "exception": false,
     "start_time": "2025-07-26T06:06:54.017773",
     "status": "completed"
    },
    "tags": []
   },
   "outputs": [],
   "source": [
    "# Remove unlimited\n",
    "tcg_crosstab_b = pd.crosstab(cards_df[\"Monster type\"], cards_df[\"TCG status\"]).drop([\"Unlimited\"], axis=1)\n",
    "tcg_crosstab_b"
   ]
  },
  {
   "cell_type": "code",
   "execution_count": null,
   "id": "163",
   "metadata": {
    "papermill": {
     "duration": 0.732016,
     "end_time": "2025-07-26T06:06:55.432800",
     "exception": false,
     "start_time": "2025-07-26T06:06:54.700784",
     "status": "completed"
    },
    "tags": []
   },
   "outputs": [],
   "source": [
    "plt.figure(figsize=(18, 4))\n",
    "sns.heatmap(\n",
    "    tcg_crosstab_b[tcg_crosstab_b > 0].T,\n",
    "    annot=True,\n",
    "    fmt=\"g\",\n",
    "    cmap=\"viridis\",\n",
    "    square=True,\n",
    ")\n",
    "plt.show()"
   ]
  },
  {
   "cell_type": "markdown",
   "id": "164",
   "metadata": {
    "papermill": {
     "duration": 0.325449,
     "end_time": "2025-07-26T06:06:55.942193",
     "exception": false,
     "start_time": "2025-07-26T06:06:55.616744",
     "status": "completed"
    },
    "tags": []
   },
   "source": [
    "#### By archseries"
   ]
  },
  {
   "cell_type": "code",
   "execution_count": null,
   "id": "165",
   "metadata": {
    "papermill": {
     "duration": 0.426423,
     "end_time": "2025-07-26T06:06:57.154217",
     "exception": false,
     "start_time": "2025-07-26T06:06:56.727794",
     "status": "completed"
    },
    "tags": []
   },
   "outputs": [],
   "source": [
    "# Remove unlimited\n",
    "tcg_crosstab_c = pd.crosstab(\n",
    "    exploded_archseries[\"Archseries\"].where(exploded_archseries[\"OCG status\"] != \"Unlimited\"),\n",
    "    exploded_archseries[\"TCG status\"],\n",
    "    margins=True,\n",
    ")\n",
    "tcg_crosstab_c"
   ]
  },
  {
   "cell_type": "markdown",
   "id": "166",
   "metadata": {
    "papermill": {
     "duration": 0.446671,
     "end_time": "2025-07-26T06:06:57.788009",
     "exception": false,
     "start_time": "2025-07-26T06:06:57.341338",
     "status": "completed"
    },
    "tags": []
   },
   "source": [
    "### OCG status"
   ]
  },
  {
   "cell_type": "code",
   "execution_count": null,
   "id": "167",
   "metadata": {
    "papermill": {
     "duration": 0.197449,
     "end_time": "2025-07-26T06:06:58.175322",
     "exception": false,
     "start_time": "2025-07-26T06:06:57.977873",
     "status": "completed"
    },
    "tags": []
   },
   "outputs": [],
   "source": [
    "print(\"Total number of OCG status:\", cards_df[\"OCG status\"].nunique())"
   ]
  },
  {
   "cell_type": "code",
   "execution_count": null,
   "id": "168",
   "metadata": {
    "papermill": {
     "duration": 0.309396,
     "end_time": "2025-07-26T06:06:58.672310",
     "exception": false,
     "start_time": "2025-07-26T06:06:58.362914",
     "status": "completed"
    },
    "tags": []
   },
   "outputs": [],
   "source": [
    "cards_df.drop(columns=[\"Page name\", \"Page URL\"]).groupby(\"OCG status\", dropna=False).nunique()"
   ]
  },
  {
   "cell_type": "code",
   "execution_count": null,
   "id": "169",
   "metadata": {
    "papermill": {
     "duration": 0.538093,
     "end_time": "2025-07-26T06:06:59.403795",
     "exception": false,
     "start_time": "2025-07-26T06:06:58.865702",
     "status": "completed"
    },
    "tags": []
   },
   "outputs": [],
   "source": [
    "cards_df[\"OCG status\"].value_counts(dropna=False).plot.bar(figsize=(14, 6), logy=True, rot=0)\n",
    "plt.show()"
   ]
  },
  {
   "cell_type": "markdown",
   "id": "170",
   "metadata": {
    "papermill": {
     "duration": 0.182713,
     "end_time": "2025-07-26T06:06:59.776400",
     "exception": false,
     "start_time": "2025-07-26T06:06:59.593687",
     "status": "completed"
    },
    "tags": []
   },
   "source": [
    "#### By card type"
   ]
  },
  {
   "cell_type": "code",
   "execution_count": null,
   "id": "171",
   "metadata": {
    "papermill": {
     "duration": 0.246549,
     "end_time": "2025-07-26T06:07:00.214675",
     "exception": false,
     "start_time": "2025-07-26T06:06:59.968126",
     "status": "completed"
    },
    "tags": []
   },
   "outputs": [],
   "source": [
    "# Remove unlimited\n",
    "ocg_crosstab = pd.crosstab(cards_df[\"Card type\"], cards_df[\"OCG status\"]).drop([\"Unlimited\"], axis=1)\n",
    "ocg_crosstab"
   ]
  },
  {
   "cell_type": "code",
   "execution_count": null,
   "id": "172",
   "metadata": {
    "papermill": {
     "duration": 0.450032,
     "end_time": "2025-07-26T06:07:00.864684",
     "exception": false,
     "start_time": "2025-07-26T06:07:00.414652",
     "status": "completed"
    },
    "tags": []
   },
   "outputs": [],
   "source": [
    "plt.figure(figsize=(12, 6))\n",
    "sns.heatmap(ocg_crosstab[ocg_crosstab > 0], annot=True, fmt=\"g\", cmap=\"viridis\")\n",
    "plt.show()"
   ]
  },
  {
   "cell_type": "markdown",
   "id": "173",
   "metadata": {
    "papermill": {
     "duration": 0.183873,
     "end_time": "2025-07-26T06:07:01.239512",
     "exception": false,
     "start_time": "2025-07-26T06:07:01.055639",
     "status": "completed"
    },
    "tags": []
   },
   "source": [
    "#### By monster type"
   ]
  },
  {
   "cell_type": "code",
   "execution_count": null,
   "id": "174",
   "metadata": {
    "papermill": {
     "duration": 0.226219,
     "end_time": "2025-07-26T06:07:01.654836",
     "exception": false,
     "start_time": "2025-07-26T06:07:01.428617",
     "status": "completed"
    },
    "tags": []
   },
   "outputs": [],
   "source": [
    "ocg_crosstab_b = pd.crosstab(cards_df[\"Monster type\"], cards_df[\"OCG status\"]).drop([\"Unlimited\"], axis=1)\n",
    "ocg_crosstab_b"
   ]
  },
  {
   "cell_type": "code",
   "execution_count": null,
   "id": "175",
   "metadata": {
    "papermill": {
     "duration": 0.773447,
     "end_time": "2025-07-26T06:07:02.621469",
     "exception": false,
     "start_time": "2025-07-26T06:07:01.848022",
     "status": "completed"
    },
    "tags": []
   },
   "outputs": [],
   "source": [
    "plt.figure(figsize=(18, 4))\n",
    "sns.heatmap(\n",
    "    ocg_crosstab_b[ocg_crosstab_b > 0].T,\n",
    "    annot=True,\n",
    "    fmt=\"g\",\n",
    "    cmap=\"viridis\",\n",
    "    square=True,\n",
    ")\n",
    "plt.show()"
   ]
  },
  {
   "cell_type": "markdown",
   "id": "176",
   "metadata": {
    "papermill": {
     "duration": 0.325706,
     "end_time": "2025-07-26T06:07:03.144152",
     "exception": false,
     "start_time": "2025-07-26T06:07:02.818446",
     "status": "completed"
    },
    "tags": []
   },
   "source": [
    "#### By archseries"
   ]
  },
  {
   "cell_type": "code",
   "execution_count": null,
   "id": "177",
   "metadata": {
    "papermill": {
     "duration": 0.266926,
     "end_time": "2025-07-26T06:07:03.604516",
     "exception": false,
     "start_time": "2025-07-26T06:07:03.337590",
     "status": "completed"
    },
    "tags": []
   },
   "outputs": [],
   "source": [
    "# Remove unlimited\n",
    "ocg_crosstab_c = pd.crosstab(\n",
    "    exploded_archseries[\"Archseries\"].where(exploded_archseries[\"OCG status\"] != \"Unlimited\"),\n",
    "    exploded_archseries[\"OCG status\"],\n",
    "    margins=True,\n",
    ")\n",
    "ocg_crosstab_c"
   ]
  },
  {
   "cell_type": "markdown",
   "id": "178",
   "metadata": {
    "papermill": {
     "duration": 0.303959,
     "end_time": "2025-07-26T06:07:04.103300",
     "exception": false,
     "start_time": "2025-07-26T06:07:03.799341",
     "status": "completed"
    },
    "tags": []
   },
   "source": [
    "### TCG vs. OCG status"
   ]
  },
  {
   "cell_type": "code",
   "execution_count": null,
   "id": "179",
   "metadata": {
    "papermill": {
     "duration": 0.489335,
     "end_time": "2025-07-26T06:07:04.791840",
     "exception": false,
     "start_time": "2025-07-26T06:07:04.302505",
     "status": "completed"
    },
    "tags": []
   },
   "outputs": [],
   "source": [
    "cg_crosstab = pd.crosstab(cards_df[\"OCG status\"], cards_df[\"TCG status\"], dropna=False, margins=False)\n",
    "cg_crosstab"
   ]
  },
  {
   "cell_type": "code",
   "execution_count": null,
   "id": "180",
   "metadata": {
    "papermill": {
     "duration": 0.761712,
     "end_time": "2025-07-26T06:07:05.753065",
     "exception": false,
     "start_time": "2025-07-26T06:07:04.991353",
     "status": "completed"
    },
    "tags": []
   },
   "outputs": [],
   "source": [
    "plt.figure(figsize=(10, 8))\n",
    "sns.heatmap(\n",
    "    cg_crosstab[cg_crosstab > 0],\n",
    "    annot=True,\n",
    "    fmt=\"g\",\n",
    "    cmap=\"viridis\",\n",
    "    square=True,\n",
    "    norm=plot.LogNorm(),\n",
    ")\n",
    "plt.show()"
   ]
  },
  {
   "cell_type": "markdown",
   "id": "181",
   "metadata": {
    "papermill": {
     "duration": 0.198464,
     "end_time": "2025-07-26T06:07:06.150349",
     "exception": false,
     "start_time": "2025-07-26T06:07:05.951885",
     "status": "completed"
    },
    "tags": []
   },
   "source": [
    "# Extras"
   ]
  },
  {
   "cell_type": "markdown",
   "id": "182",
   "metadata": {
    "papermill": {
     "duration": 0.468142,
     "end_time": "2025-07-26T06:07:06.823023",
     "exception": false,
     "start_time": "2025-07-26T06:07:06.354881",
     "status": "completed"
    },
    "tags": []
   },
   "source": [
    "## Counters and Tokens"
   ]
  },
  {
   "cell_type": "code",
   "execution_count": null,
   "id": "183",
   "metadata": {
    "papermill": {
     "duration": 0.255215,
     "end_time": "2025-07-26T06:07:07.277916",
     "exception": false,
     "start_time": "2025-07-26T06:07:07.022701",
     "status": "completed"
    },
    "tags": []
   },
   "outputs": [],
   "source": [
    "token_df.dropna(how=\"all\", axis=1)"
   ]
  },
  {
   "cell_type": "markdown",
   "id": "184",
   "metadata": {
    "papermill": {
     "duration": 0.41486,
     "end_time": "2025-07-26T06:07:07.990236",
     "exception": false,
     "start_time": "2025-07-26T06:07:07.575376",
     "status": "completed"
    },
    "tags": []
   },
   "source": [
    "## Unusable cards"
   ]
  },
  {
   "cell_type": "code",
   "execution_count": null,
   "id": "185",
   "metadata": {
    "papermill": {
     "duration": 0.22557,
     "end_time": "2025-07-26T06:07:08.417786",
     "exception": false,
     "start_time": "2025-07-26T06:07:08.192216",
     "status": "completed"
    },
    "tags": []
   },
   "outputs": [],
   "source": [
    "unusable_df"
   ]
  },
  {
   "cell_type": "markdown",
   "id": "186",
   "metadata": {
    "papermill": {
     "duration": 0.201977,
     "end_time": "2025-07-26T06:07:08.837362",
     "exception": false,
     "start_time": "2025-07-26T06:07:08.635385",
     "status": "completed"
    },
    "tags": []
   },
   "source": [
    "## Multiple secondary types"
   ]
  },
  {
   "cell_type": "code",
   "execution_count": null,
   "id": "187",
   "metadata": {
    "papermill": {
     "duration": 0.715979,
     "end_time": "2025-07-26T06:07:09.757240",
     "exception": false,
     "start_time": "2025-07-26T06:07:09.041261",
     "status": "completed"
    },
    "tags": []
   },
   "outputs": [],
   "source": [
    "cards_df.dropna(subset=\"Secondary type\", axis=0)[[len(x) > 1 for x in cards_df[\"Secondary type\"].dropna()]]"
   ]
  },
  {
   "cell_type": "markdown",
   "id": "188",
   "metadata": {
    "papermill": {
     "duration": 0.334987,
     "end_time": "2025-07-26T06:07:10.290945",
     "exception": false,
     "start_time": "2025-07-26T06:07:09.955958",
     "status": "completed"
    },
    "tags": []
   },
   "source": [
    "## Not yet released"
   ]
  },
  {
   "cell_type": "code",
   "execution_count": null,
   "id": "189",
   "metadata": {
    "papermill": {
     "duration": 0.336666,
     "end_time": "2025-07-26T06:07:10.827333",
     "exception": false,
     "start_time": "2025-07-26T06:07:10.490667",
     "status": "completed"
    },
    "tags": []
   },
   "outputs": [],
   "source": [
    "full_df.loc[(full_df[\"OCG status\"] == \"Not yet released\") | (full_df[\"TCG status\"] == \"Not yet released\")]"
   ]
  },
  {
   "cell_type": "markdown",
   "id": "190",
   "metadata": {
    "papermill": {
     "duration": 0.207839,
     "end_time": "2025-07-26T06:07:11.240636",
     "exception": false,
     "start_time": "2025-07-26T06:07:11.032797",
     "status": "completed"
    },
    "tags": []
   },
   "source": [
    "## Page name differs from card name"
   ]
  },
  {
   "cell_type": "code",
   "execution_count": null,
   "id": "191",
   "metadata": {
    "papermill": {
     "duration": 0.295242,
     "end_time": "2025-07-26T06:07:11.742904",
     "exception": false,
     "start_time": "2025-07-26T06:07:11.447662",
     "status": "completed"
    },
    "tags": []
   },
   "outputs": [],
   "source": [
    "full_df[full_df[\"Name\"] != full_df[\"Page name\"]]"
   ]
  },
  {
   "cell_type": "markdown",
   "id": "192",
   "metadata": {
    "papermill": {
     "duration": 0.1963,
     "end_time": "2025-07-26T06:07:12.186405",
     "exception": false,
     "start_time": "2025-07-26T06:07:11.990105",
     "status": "completed"
    },
    "tags": []
   },
   "source": [
    "# Epilogue"
   ]
  },
  {
   "cell_type": "code",
   "execution_count": null,
   "id": "193",
   "metadata": {
    "papermill": {
     "duration": 1.125105,
     "end_time": "2025-07-26T06:07:13.521083",
     "exception": false,
     "start_time": "2025-07-26T06:07:12.395978",
     "status": "completed"
    },
    "tags": []
   },
   "outputs": [],
   "source": [
    "benchmark(report=\"cards\", timestamp=timestamp)"
   ]
  },
  {
   "cell_type": "code",
   "execution_count": null,
   "id": "194",
   "metadata": {
    "papermill": {
     "duration": 0.205401,
     "end_time": "2025-07-26T06:07:13.930565",
     "exception": false,
     "start_time": "2025-07-26T06:07:13.725164",
     "status": "completed"
    },
    "tags": []
   },
   "outputs": [],
   "source": [
    "footer(timestamp)"
   ]
  },
  {
   "cell_type": "markdown",
   "id": "195",
   "metadata": {
    "papermill": {
     "duration": 0.19932,
     "end_time": "2025-07-26T06:07:14.335812",
     "exception": false,
     "start_time": "2025-07-26T06:07:14.136492",
     "status": "completed"
    },
    "tags": []
   },
   "source": [
    "## HTML export"
   ]
  },
  {
   "cell_type": "code",
   "execution_count": null,
   "id": "196",
   "metadata": {
    "papermill": {
     "duration": 0.892381,
     "end_time": "2025-07-26T06:07:15.684908",
     "exception": false,
     "start_time": "2025-07-26T06:07:14.792527",
     "status": "completed"
    },
    "tags": []
   },
   "outputs": [],
   "source": [
    "# Save notebook on disck before generating HTML report\n",
    "save_notebook()"
   ]
  },
  {
   "cell_type": "code",
   "execution_count": null,
   "id": "197",
   "metadata": {
    "papermill": {
     "duration": 2.894192,
     "end_time": "2025-07-26T06:07:18.800841",
     "exception": false,
     "start_time": "2025-07-26T06:07:15.906649",
     "status": "completed"
    },
    "tags": []
   },
   "outputs": [],
   "source": [
    "export_notebook(dirs.NOTEBOOKS.user / \"Cards.ipynb\")"
   ]
  },
  {
   "cell_type": "markdown",
   "id": "198",
   "metadata": {
    "papermill": {
     "duration": 0.23555,
     "end_time": "2025-07-26T06:07:19.241309",
     "exception": false,
     "start_time": "2025-07-26T06:07:19.005759",
     "status": "completed"
    },
    "tags": [
     "exclude"
    ]
   },
   "source": [
    "## Git"
   ]
  },
  {
   "cell_type": "code",
   "execution_count": null,
   "id": "199",
   "metadata": {
    "papermill": {
     "duration": null,
     "end_time": null,
     "exception": false,
     "start_time": "2025-07-26T06:07:19.443664",
     "status": "running"
    },
    "tags": [
     "exclude"
    ]
   },
   "outputs": [],
   "source": [
    "git.commit(\"*[Cc]ards*\", f\"Cards update - {timestamp.isoformat()}\")"
   ]
  }
 ],
 "metadata": {
  "kernelspec": {
   "display_name": "Python3 (YugiQuery)",
   "language": "python",
   "name": "yugiquery"
  },
  "language_info": {
   "codemirror_mode": {
    "name": "ipython",
    "version": 3
   },
   "file_extension": ".py",
   "mimetype": "text/x-python",
   "name": "python",
   "nbconvert_exporter": "python",
   "pygments_lexer": "ipython3",
   "version": "3.11.6"
  },
  "papermill": {
   "default_parameters": {},
   "duration": null,
   "end_time": null,
   "environment_variables": {},
   "exception": null,
   "input_path": "/home/jovyan/yugiquery/notebooks/Cards.ipynb",
   "output_path": "/home/jovyan/yugiquery/notebooks/Cards.ipynb",
   "parameters": {},
   "start_time": "2025-07-26T06:03:31.210793",
   "version": "2.6.0"
  },
  "toc": {
   "base_numbering": 1,
   "nav_menu": {
    "height": "599px",
    "width": "228px"
   },
   "number_sections": true,
   "sideBar": true,
   "skip_h1_title": false,
   "title_cell": "Table of Contents",
   "title_sidebar": "Contents",
   "toc_cell": true,
   "toc_position": {
    "height": "calc(100% - 180px)",
    "left": "10px",
    "top": "150px",
    "width": "353px"
   },
   "toc_section_display": true,
   "toc_window_display": true
  },
  "toc-autonumbering": false,
  "toc-showcode": false,
  "toc-showmarkdowntxt": false
 },
 "nbformat": 4,
 "nbformat_minor": 5
}
