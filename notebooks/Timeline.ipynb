{
 "cells": [
  {
   "cell_type": "code",
   "execution_count": null,
   "id": "0",
   "metadata": {
    "papermill": {
     "duration": 1.083009,
     "end_time": "2024-10-04T17:08:36.567470",
     "exception": false,
     "start_time": "2024-10-04T17:08:35.484461",
     "status": "completed"
    },
    "tags": []
   },
   "outputs": [],
   "source": [
    "from yugiquery import *\n",
    "\n",
    "init_notebook_mode(all_interactive=True)\n",
    "\n",
    "header(\"Timeline\")"
   ]
  },
  {
   "cell_type": "markdown",
   "id": "1",
   "metadata": {
    "papermill": {
     "duration": 0.007152,
     "end_time": "2024-10-04T17:08:36.582164",
     "exception": false,
     "start_time": "2024-10-04T17:08:36.575012",
     "status": "completed"
    },
    "tags": []
   },
   "source": [
    "---"
   ]
  },
  {
   "cell_type": "markdown",
   "id": "2",
   "metadata": {
    "papermill": {
     "duration": 0.006551,
     "end_time": "2024-10-04T17:08:36.595777",
     "exception": false,
     "start_time": "2024-10-04T17:08:36.589226",
     "status": "completed"
    },
    "tags": []
   },
   "source": [
    "Table of Contents <a class=\"jp-toc-ignore\"></a>\n",
    "=================\n",
    "* [1 Data preparation](#data-preparation)\n",
    "  * [1.1 Load data](#load-data)\n",
    "  * [1.2 Format data](#format-data)\n",
    "  * [1.3 Merge data](#merge-data)\n",
    "* [2 Data visualization](#data-visualization)\n",
    "  * [2.1 First releases](#first-releases)\n",
    "    * [2.1.1 By region](#by-region)\n",
    "  * [2.2 Last releases](#last-releases)\n",
    "    * [2.2.1 By region](#by-region)\n",
    "  * [2.3 All Releases](#all-releases)\n",
    "    * [2.3.1 By card type](#by-card-type)\n",
    "    * [2.3.2 By primary type](#by-primary-type)\n",
    "    * [2.3.3 By secondary type](#by-secondary-type)\n",
    "    * [2.3.4 By attribute](#by-attribute)\n",
    "    * [2.3.5 By monster type](#by-monster-type)\n",
    "    * [2.3.6 By Level/Rank](#by-level/rank)\n",
    "    * [2.3.7 By ATK](#by-atk)\n",
    "    * [2.3.8 By DEF](#by-def)\n",
    "    * [2.3.9 By pendulum scale](#by-pendulum-scale)\n",
    "    * [2.3.10 By link](#by-link)\n",
    "* [3 Debug](#debug)\n",
    "  * [3.1 Merge failed](#merge-failed)\n",
    "  * [3.2 HTML export](#html-export)\n",
    "  <!-- * [3.3 Git](#git) -->"
   ]
  },
  {
   "cell_type": "markdown",
   "id": "3",
   "metadata": {
    "papermill": {
     "duration": 0.007103,
     "end_time": "2024-10-04T17:08:36.609761",
     "exception": false,
     "start_time": "2024-10-04T17:08:36.602658",
     "status": "completed"
    },
    "tags": []
   },
   "source": [
    "# Data preparation"
   ]
  },
  {
   "cell_type": "code",
   "execution_count": null,
   "id": "4",
   "metadata": {
    "papermill": {
     "duration": 0.010625,
     "end_time": "2024-10-04T17:08:36.626902",
     "exception": false,
     "start_time": "2024-10-04T17:08:36.616277",
     "status": "completed"
    },
    "tags": []
   },
   "outputs": [],
   "source": [
    "timestamp = arrow.utcnow()"
   ]
  },
  {
   "cell_type": "markdown",
   "id": "5",
   "metadata": {
    "papermill": {
     "duration": 0.006784,
     "end_time": "2024-10-04T17:08:36.641085",
     "exception": false,
     "start_time": "2024-10-04T17:08:36.634301",
     "status": "completed"
    },
    "tags": []
   },
   "source": [
    "## Load data"
   ]
  },
  {
   "cell_type": "code",
   "execution_count": null,
   "id": "6",
   "metadata": {
    "papermill": {
     "duration": 0.016112,
     "end_time": "2024-10-04T17:08:36.663703",
     "exception": false,
     "start_time": "2024-10-04T17:08:36.647591",
     "status": "completed"
    },
    "tags": []
   },
   "outputs": [],
   "source": [
    "# Load list of important dates\n",
    "with open(dirs.get_asset(\"json\", \"dates.json\"), \"r\") as f:\n",
    "    dates_json = json.load(f)\n",
    "    anime_df = pd.DataFrame(dates_json[\"anime\"][\"series\"]).set_index(\"title\").map(pd.to_datetime, dayfirst=True)\n",
    "    rules_df = (\n",
    "        pd.DataFrame(dates_json[\"rules\"]).set_index(\"title\").map(pd.to_datetime, dayfirst=True).iloc[2:]\n",
    "    )  # Ignore old rules"
   ]
  },
  {
   "cell_type": "code",
   "execution_count": null,
   "id": "7",
   "metadata": {
    "papermill": {
     "duration": 2.916802,
     "end_time": "2024-10-04T17:08:39.587807",
     "exception": false,
     "start_time": "2024-10-04T17:08:36.671005",
     "status": "completed"
    },
    "tags": []
   },
   "outputs": [],
   "source": [
    "# Get latest file if exist\n",
    "tuple_cols = [\n",
    "    \"Secondary type\",\n",
    "    \"Effect type\",\n",
    "    \"Link Arrows\",\n",
    "    \"Archseries\",\n",
    "    \"Artwork\",\n",
    "    \"Errata\",\n",
    "    \"Rarity\",\n",
    "    \"Cover card\",\n",
    "]\n",
    "\n",
    "all_cards_df, _ = load_latest_data(\"cards\", tuple_cols)\n",
    "all_speed_df, _ = load_latest_data(\"speed\", tuple_cols)\n",
    "set_lists_df, _ = load_latest_data(\"sets\", tuple_cols)"
   ]
  },
  {
   "cell_type": "markdown",
   "id": "8",
   "metadata": {
    "papermill": {
     "duration": 0.00661,
     "end_time": "2024-10-04T17:08:39.603615",
     "exception": false,
     "start_time": "2024-10-04T17:08:39.597005",
     "status": "completed"
    },
    "tags": []
   },
   "source": [
    "## Format data"
   ]
  },
  {
   "cell_type": "code",
   "execution_count": null,
   "id": "9",
   "metadata": {
    "papermill": {
     "duration": 0.049134,
     "end_time": "2024-10-04T17:08:39.659534",
     "exception": false,
     "start_time": "2024-10-04T17:08:39.610400",
     "status": "completed"
    },
    "tags": []
   },
   "outputs": [],
   "source": [
    "df_list = [all_cards_df, all_speed_df, set_lists_df]\n",
    "if all(item is not None for item in df_list):\n",
    "    for df in df_list:\n",
    "        df[\"index\"] = df[\"Name\"].str.lower().str.replace(\"#\", \"\")\n",
    "\n",
    "else:\n",
    "    raise SystemExit(\"Not enough files to proceed. Aborting!\")"
   ]
  },
  {
   "cell_type": "markdown",
   "id": "10",
   "metadata": {
    "papermill": {
     "duration": 0.007091,
     "end_time": "2024-10-04T17:08:39.673613",
     "exception": false,
     "start_time": "2024-10-04T17:08:39.666522",
     "status": "completed"
    },
    "tags": []
   },
   "source": [
    "## Merge data"
   ]
  },
  {
   "cell_type": "code",
   "execution_count": null,
   "id": "11",
   "metadata": {
    "papermill": {
     "duration": 1.017823,
     "end_time": "2024-10-04T17:08:40.698598",
     "exception": false,
     "start_time": "2024-10-04T17:08:39.680775",
     "status": "completed"
    },
    "tags": []
   },
   "outputs": [],
   "source": [
    "full_df = pd.concat([all_cards_df, all_speed_df]).drop_duplicates(ignore_index=True)\n",
    "full_df = full_df.merge(set_lists_df, how=\"inner\", on=\"index\")\n",
    "full_df = full_df.convert_dtypes()\n",
    "full_df[\"Modification date\"] = full_df[[\"Modification date_x\", \"Modification date_y\"]].max(axis=1)\n",
    "full_df[\"Name\"] = full_df[\"Name_x\"].fillna(full_df[\"Name_y\"])\n",
    "full_df.drop(\n",
    "    [\"index\", \"Name_x\", \"Name_y\", \"Modification date_x\", \"Modification date_y\"],\n",
    "    axis=1,\n",
    "    inplace=True,\n",
    ")\n",
    "full_df.rename(columns={\"Page URL_x\": \"Card page URL\", \"Page URL_y\": \"Set page URL\"}, inplace=True)\n",
    "full_df = full_df[np.append(full_df.columns[-1:], full_df.columns[:-1])]"
   ]
  },
  {
   "cell_type": "markdown",
   "id": "12",
   "metadata": {
    "papermill": {
     "duration": 0.006487,
     "end_time": "2024-10-04T17:08:40.713253",
     "exception": false,
     "start_time": "2024-10-04T17:08:40.706766",
     "status": "completed"
    },
    "tags": []
   },
   "source": [
    "# Data visualization"
   ]
  },
  {
   "cell_type": "code",
   "execution_count": null,
   "id": "13",
   "metadata": {
    "papermill": {
     "duration": 0.050893,
     "end_time": "2024-10-04T17:08:40.771997",
     "exception": false,
     "start_time": "2024-10-04T17:08:40.721104",
     "status": "completed"
    },
    "tags": []
   },
   "outputs": [],
   "source": [
    "full_df"
   ]
  },
  {
   "cell_type": "markdown",
   "id": "14",
   "metadata": {
    "jp-MarkdownHeadingCollapsed": true,
    "papermill": {
     "duration": 0.007249,
     "end_time": "2024-10-04T17:08:40.786543",
     "exception": false,
     "start_time": "2024-10-04T17:08:40.779294",
     "status": "completed"
    },
    "tags": []
   },
   "source": [
    "## First releases"
   ]
  },
  {
   "cell_type": "markdown",
   "id": "15",
   "metadata": {
    "papermill": {
     "duration": 0.007276,
     "end_time": "2024-10-04T17:08:40.800918",
     "exception": false,
     "start_time": "2024-10-04T17:08:40.793642",
     "status": "completed"
    },
    "tags": []
   },
   "source": [
    "Obs: Only the first release of an individual card name"
   ]
  },
  {
   "cell_type": "code",
   "execution_count": null,
   "id": "16",
   "metadata": {
    "papermill": {
     "duration": 0.239754,
     "end_time": "2024-10-04T17:08:41.047915",
     "exception": false,
     "start_time": "2024-10-04T17:08:40.808161",
     "status": "completed"
    },
    "tags": []
   },
   "outputs": [],
   "source": [
    "first_release = full_df[full_df[\"Release\"].notna()].groupby(\"Name\")[\"Release\"].agg(\"min\")\n",
    "first_release.to_frame(name=\"First release\")"
   ]
  },
  {
   "cell_type": "code",
   "execution_count": null,
   "id": "17",
   "metadata": {
    "papermill": {
     "duration": 0.528278,
     "end_time": "2024-10-04T17:08:41.585373",
     "exception": false,
     "start_time": "2024-10-04T17:08:41.057095",
     "status": "completed"
    },
    "tags": []
   },
   "outputs": [],
   "source": [
    "first_release_count = first_release.sort_values().value_counts(sort=False).to_frame(name=\"All cards\")\n",
    "first_release_count.index.name = \"First Release\"\n",
    "plot.rate(first_release_count, bg=anime_df, vlines=rules_df[\"begin\"])"
   ]
  },
  {
   "cell_type": "markdown",
   "id": "18",
   "metadata": {
    "papermill": {
     "duration": 0.010975,
     "end_time": "2024-10-04T17:08:41.608448",
     "exception": false,
     "start_time": "2024-10-04T17:08:41.597473",
     "status": "completed"
    },
    "tags": []
   },
   "source": [
    "### By region"
   ]
  },
  {
   "cell_type": "code",
   "execution_count": null,
   "id": "19",
   "metadata": {
    "papermill": {
     "duration": 0.290334,
     "end_time": "2024-10-04T17:08:41.909670",
     "exception": false,
     "start_time": "2024-10-04T17:08:41.619336",
     "status": "completed"
    },
    "tags": []
   },
   "outputs": [],
   "source": [
    "first_release_region = full_df[full_df[\"Release\"].notna()].groupby([\"Region\", \"Name\"])[\"Release\"].agg(\"min\")\n",
    "first_release_region.to_frame(name=\"First release\")"
   ]
  },
  {
   "cell_type": "code",
   "execution_count": null,
   "id": "20",
   "metadata": {
    "papermill": {
     "duration": 6.888204,
     "end_time": "2024-10-04T17:08:48.811084",
     "exception": false,
     "start_time": "2024-10-04T17:08:41.922880",
     "status": "completed"
    },
    "tags": []
   },
   "outputs": [],
   "source": [
    "first_release_region_count = (\n",
    "    first_release_region.sort_values().groupby([\"Region\"]).value_counts(sort=False).unstack(0).fillna(0).round(0)\n",
    ")\n",
    "first_release_region_count.index.name = \"Release\"\n",
    "plot.rate_subplots(\n",
    "    first_release_region_count,\n",
    "    title=\"First Release\",\n",
    "    bg=anime_df,\n",
    "    vlines=rules_df[\"begin\"],\n",
    ")"
   ]
  },
  {
   "cell_type": "markdown",
   "id": "21",
   "metadata": {
    "jp-MarkdownHeadingCollapsed": true,
    "papermill": {
     "duration": 0.037025,
     "end_time": "2024-10-04T17:08:48.894731",
     "exception": false,
     "start_time": "2024-10-04T17:08:48.857706",
     "status": "completed"
    },
    "tags": []
   },
   "source": [
    "## Last releases"
   ]
  },
  {
   "cell_type": "markdown",
   "id": "22",
   "metadata": {
    "papermill": {
     "duration": 0.035459,
     "end_time": "2024-10-04T17:08:48.965995",
     "exception": false,
     "start_time": "2024-10-04T17:08:48.930536",
     "status": "completed"
    },
    "tags": []
   },
   "source": [
    "Obs: Only the last release of an individual card name"
   ]
  },
  {
   "cell_type": "code",
   "execution_count": null,
   "id": "23",
   "metadata": {
    "papermill": {
     "duration": 0.274938,
     "end_time": "2024-10-04T17:08:49.276324",
     "exception": false,
     "start_time": "2024-10-04T17:08:49.001386",
     "status": "completed"
    },
    "tags": []
   },
   "outputs": [],
   "source": [
    "last_release = full_df[full_df[\"Release\"].notna()].groupby(\"Name\")[\"Release\"].agg(\"max\")\n",
    "last_release.to_frame(name=\"Last release\")"
   ]
  },
  {
   "cell_type": "code",
   "execution_count": null,
   "id": "24",
   "metadata": {
    "papermill": {
     "duration": 0.744803,
     "end_time": "2024-10-04T17:08:50.058517",
     "exception": false,
     "start_time": "2024-10-04T17:08:49.313714",
     "status": "completed"
    },
    "tags": []
   },
   "outputs": [],
   "source": [
    "last_release_count = last_release.sort_values().value_counts(sort=False).to_frame(name=\"All cards\")\n",
    "last_release_count.index.name = \"Last Release\"\n",
    "plot.rate(last_release_count, bg=anime_df, vlines=rules_df[\"begin\"])"
   ]
  },
  {
   "cell_type": "markdown",
   "id": "25",
   "metadata": {
    "papermill": {
     "duration": 0.042207,
     "end_time": "2024-10-04T17:08:50.141912",
     "exception": false,
     "start_time": "2024-10-04T17:08:50.099705",
     "status": "completed"
    },
    "tags": []
   },
   "source": [
    "### By region"
   ]
  },
  {
   "cell_type": "code",
   "execution_count": null,
   "id": "26",
   "metadata": {
    "papermill": {
     "duration": 0.318434,
     "end_time": "2024-10-04T17:08:50.501044",
     "exception": false,
     "start_time": "2024-10-04T17:08:50.182610",
     "status": "completed"
    },
    "tags": []
   },
   "outputs": [],
   "source": [
    "last_release_region = full_df[full_df[\"Release\"].notna()].groupby([\"Region\", \"Name\"])[\"Release\"].agg(\"max\")\n",
    "last_release_region.to_frame(name=\"Last release\")"
   ]
  },
  {
   "cell_type": "code",
   "execution_count": null,
   "id": "27",
   "metadata": {
    "papermill": {
     "duration": 6.805897,
     "end_time": "2024-10-04T17:08:57.349588",
     "exception": false,
     "start_time": "2024-10-04T17:08:50.543691",
     "status": "completed"
    },
    "tags": []
   },
   "outputs": [],
   "source": [
    "last_release_region_count = (\n",
    "    last_release_region.sort_values().groupby([\"Region\"]).value_counts(sort=False).unstack(0).fillna(0).round(0)\n",
    ")\n",
    "last_release_region_count.index.name = \"Release\"\n",
    "plot.rate_subplots(\n",
    "    last_release_region_count,\n",
    "    title=\"Last Release\",\n",
    "    bg=anime_df,\n",
    "    vlines=rules_df[\"begin\"],\n",
    ")"
   ]
  },
  {
   "cell_type": "markdown",
   "id": "28",
   "metadata": {
    "papermill": {
     "duration": 0.065538,
     "end_time": "2024-10-04T17:08:57.483115",
     "exception": false,
     "start_time": "2024-10-04T17:08:57.417577",
     "status": "completed"
    },
    "tags": []
   },
   "source": [
    "## All Releases"
   ]
  },
  {
   "cell_type": "markdown",
   "id": "29",
   "metadata": {
    "papermill": {
     "duration": 0.063907,
     "end_time": "2024-10-04T17:08:57.611913",
     "exception": false,
     "start_time": "2024-10-04T17:08:57.548006",
     "status": "completed"
    },
    "tags": []
   },
   "source": [
    "Obs: All releases includes reprints"
   ]
  },
  {
   "cell_type": "code",
   "execution_count": null,
   "id": "30",
   "metadata": {
    "papermill": {
     "duration": 0.544788,
     "end_time": "2024-10-04T17:08:58.219943",
     "exception": false,
     "start_time": "2024-10-04T17:08:57.675155",
     "status": "completed"
    },
    "tags": []
   },
   "outputs": [],
   "source": [
    "all_releases = full_df[\"Release\"][full_df[\"Release\"].notna()].value_counts().sort_index().to_frame()\n",
    "all_releases.index.name = \"All releases\"\n",
    "plot.rate(all_releases, bg=anime_df, vlines=rules_df[\"begin\"])"
   ]
  },
  {
   "cell_type": "markdown",
   "id": "31",
   "metadata": {
    "papermill": {
     "duration": 0.06602,
     "end_time": "2024-10-04T17:08:58.354109",
     "exception": false,
     "start_time": "2024-10-04T17:08:58.288089",
     "status": "completed"
    },
    "tags": []
   },
   "source": [
    "### By card type"
   ]
  },
  {
   "cell_type": "code",
   "execution_count": null,
   "id": "32",
   "metadata": {
    "papermill": {
     "duration": 0.132632,
     "end_time": "2024-10-04T17:08:58.554169",
     "exception": false,
     "start_time": "2024-10-04T17:08:58.421537",
     "status": "completed"
    },
    "tags": []
   },
   "outputs": [],
   "source": [
    "# All releases, includes reprints - Double check\n",
    "release_card_type = full_df.groupby([\"Card type\", \"Release\"])[\"Name\"].nunique().unstack(0).sort_index().fillna(0).astype(int)\n",
    "release_card_type.groupby(release_card_type.index.strftime(\"%Y\")).sum().T"
   ]
  },
  {
   "cell_type": "code",
   "execution_count": null,
   "id": "33",
   "metadata": {
    "papermill": {
     "duration": 0.440346,
     "end_time": "2024-10-04T17:08:59.059562",
     "exception": false,
     "start_time": "2024-10-04T17:08:58.619216",
     "status": "completed"
    },
    "tags": []
   },
   "outputs": [],
   "source": [
    "card_type_colors = [plot.colors_dict[col] for col in release_card_type.columns]\n",
    "plot.rate(release_card_type, colors=card_type_colors, bg=anime_df, vlines=rules_df[\"begin\"])"
   ]
  },
  {
   "cell_type": "markdown",
   "id": "34",
   "metadata": {
    "papermill": {
     "duration": 0.074801,
     "end_time": "2024-10-04T17:08:59.211756",
     "exception": false,
     "start_time": "2024-10-04T17:08:59.136955",
     "status": "completed"
    },
    "tags": []
   },
   "source": [
    "### By primary type"
   ]
  },
  {
   "cell_type": "code",
   "execution_count": null,
   "id": "35",
   "metadata": {
    "papermill": {
     "duration": 0.132791,
     "end_time": "2024-10-04T17:08:59.418662",
     "exception": false,
     "start_time": "2024-10-04T17:08:59.285871",
     "status": "completed"
    },
    "tags": []
   },
   "outputs": [],
   "source": [
    "# All releases, includes reprints - Double check\n",
    "# Sort properly\n",
    "release_primary_type = (\n",
    "    full_df.groupby([\"Primary type\", \"Release\"])[\"Name\"].nunique().unstack(0).sort_index().fillna(0).astype(int)\n",
    ")\n",
    "release_primary_type.groupby(release_primary_type.index.strftime(\"%Y\")).sum().T"
   ]
  },
  {
   "cell_type": "code",
   "execution_count": null,
   "id": "36",
   "metadata": {
    "papermill": {
     "duration": 0.726833,
     "end_time": "2024-10-04T17:09:00.220259",
     "exception": false,
     "start_time": "2024-10-04T17:08:59.493426",
     "status": "completed"
    },
    "tags": []
   },
   "outputs": [],
   "source": [
    "primary_type_colors = [plot.colors_dict[col] for col in release_primary_type.columns]\n",
    "plot.rate(\n",
    "    release_primary_type,\n",
    "    colors=primary_type_colors,\n",
    "    bg=anime_df,\n",
    "    vlines=rules_df[\"begin\"],\n",
    ")"
   ]
  },
  {
   "cell_type": "markdown",
   "id": "37",
   "metadata": {
    "papermill": {
     "duration": 0.089239,
     "end_time": "2024-10-04T17:09:00.398303",
     "exception": false,
     "start_time": "2024-10-04T17:09:00.309064",
     "status": "completed"
    },
    "tags": []
   },
   "source": [
    "### By secondary type"
   ]
  },
  {
   "cell_type": "code",
   "execution_count": null,
   "id": "38",
   "metadata": {
    "papermill": {
     "duration": 1.262359,
     "end_time": "2024-10-04T17:09:01.747449",
     "exception": false,
     "start_time": "2024-10-04T17:09:00.485090",
     "status": "completed"
    },
    "tags": []
   },
   "outputs": [],
   "source": [
    "# All releases, includes reprints - Double check\n",
    "# Sort properly\n",
    "release_secondary_type = (\n",
    "    full_df.explode(\"Secondary type\")\n",
    "    .groupby([\"Secondary type\", \"Release\"])[\"Name\"]\n",
    "    .nunique()\n",
    "    .unstack(0)\n",
    "    .sort_index()\n",
    "    .fillna(0)\n",
    "    .astype(int)\n",
    ")\n",
    "release_secondary_type.groupby(release_secondary_type.index.strftime(\"%Y\")).sum().T"
   ]
  },
  {
   "cell_type": "code",
   "execution_count": null,
   "id": "39",
   "metadata": {
    "papermill": {
     "duration": 0.452301,
     "end_time": "2024-10-04T17:09:02.286616",
     "exception": false,
     "start_time": "2024-10-04T17:09:01.834315",
     "status": "completed"
    },
    "tags": []
   },
   "outputs": [],
   "source": [
    "plot.rate(release_secondary_type, bg=anime_df, vlines=rules_df[\"begin\"])"
   ]
  },
  {
   "cell_type": "markdown",
   "id": "40",
   "metadata": {
    "papermill": {
     "duration": 0.092293,
     "end_time": "2024-10-04T17:09:02.472598",
     "exception": false,
     "start_time": "2024-10-04T17:09:02.380305",
     "status": "completed"
    },
    "tags": []
   },
   "source": [
    "### By attribute"
   ]
  },
  {
   "cell_type": "code",
   "execution_count": null,
   "id": "41",
   "metadata": {
    "papermill": {
     "duration": 0.146148,
     "end_time": "2024-10-04T17:09:02.707658",
     "exception": false,
     "start_time": "2024-10-04T17:09:02.561510",
     "status": "completed"
    },
    "tags": []
   },
   "outputs": [],
   "source": [
    "# All releases, includes reprints - Double check\n",
    "# Sort properly\n",
    "release_attribute = full_df.groupby([\"Attribute\", \"Release\"])[\"Name\"].nunique().unstack(0).sort_index().fillna(0).astype(int)\n",
    "release_attribute.groupby(release_attribute.index.strftime(\"%Y\")).sum().T"
   ]
  },
  {
   "cell_type": "code",
   "execution_count": null,
   "id": "42",
   "metadata": {
    "papermill": {
     "duration": 0.536876,
     "end_time": "2024-10-04T17:09:03.335053",
     "exception": false,
     "start_time": "2024-10-04T17:09:02.798177",
     "status": "completed"
    },
    "tags": []
   },
   "outputs": [],
   "source": [
    "attribute_colors = [plot.colors_dict[col] for col in release_attribute.columns]\n",
    "plot.rate(\n",
    "    release_attribute,\n",
    "    colors=attribute_colors,\n",
    "    bg=anime_df,\n",
    "    vlines=rules_df[\"begin\"],\n",
    "    cumsum=True,\n",
    ")"
   ]
  },
  {
   "cell_type": "markdown",
   "id": "43",
   "metadata": {
    "papermill": {
     "duration": 0.102291,
     "end_time": "2024-10-04T17:09:03.540669",
     "exception": false,
     "start_time": "2024-10-04T17:09:03.438378",
     "status": "completed"
    },
    "tags": []
   },
   "source": [
    "### By monster type"
   ]
  },
  {
   "cell_type": "code",
   "execution_count": null,
   "id": "44",
   "metadata": {
    "papermill": {
     "duration": 0.161007,
     "end_time": "2024-10-04T17:09:03.807894",
     "exception": false,
     "start_time": "2024-10-04T17:09:03.646887",
     "status": "completed"
    },
    "tags": []
   },
   "outputs": [],
   "source": [
    "# All releases, includes reprints - Double check\n",
    "# Sort properly\n",
    "release_monster_type = (\n",
    "    full_df.groupby([\"Monster type\", \"Release\"])[\"Name\"].nunique().unstack(0).sort_index().fillna(0).astype(int)\n",
    ")\n",
    "release_monster_type.groupby(release_monster_type.index.strftime(\"%Y\")).sum().T"
   ]
  },
  {
   "cell_type": "code",
   "execution_count": null,
   "id": "45",
   "metadata": {
    "papermill": {
     "duration": 13.309552,
     "end_time": "2024-10-04T17:09:17.219626",
     "exception": false,
     "start_time": "2024-10-04T17:09:03.910074",
     "status": "completed"
    },
    "tags": []
   },
   "outputs": [],
   "source": [
    "plot.rate_subplots(release_monster_type, bg=anime_df, vlines=rules_df[\"begin\"])"
   ]
  },
  {
   "cell_type": "markdown",
   "id": "46",
   "metadata": {
    "papermill": {
     "duration": 0.153813,
     "end_time": "2024-10-04T17:09:17.532349",
     "exception": false,
     "start_time": "2024-10-04T17:09:17.378536",
     "status": "completed"
    },
    "tags": []
   },
   "source": [
    "### By Level/Rank"
   ]
  },
  {
   "cell_type": "code",
   "execution_count": null,
   "id": "47",
   "metadata": {
    "papermill": {
     "duration": 1.866262,
     "end_time": "2024-10-04T17:09:19.554963",
     "exception": false,
     "start_time": "2024-10-04T17:09:17.688701",
     "status": "completed"
    },
    "tags": []
   },
   "outputs": [],
   "source": [
    "plot.box(full_df[[\"Release\", \"Level/Rank\"]], color=plot.colors_dict[\"Level\"], notch=True)"
   ]
  },
  {
   "cell_type": "markdown",
   "id": "48",
   "metadata": {
    "papermill": {
     "duration": 0.151136,
     "end_time": "2024-10-04T17:09:19.867541",
     "exception": false,
     "start_time": "2024-10-04T17:09:19.716405",
     "status": "completed"
    },
    "tags": []
   },
   "source": [
    "### By ATK"
   ]
  },
  {
   "cell_type": "code",
   "execution_count": null,
   "id": "49",
   "metadata": {
    "papermill": {
     "duration": 1.416822,
     "end_time": "2024-10-04T17:09:21.436501",
     "exception": false,
     "start_time": "2024-10-04T17:09:20.019679",
     "status": "completed"
    },
    "tags": []
   },
   "outputs": [],
   "source": [
    "plot.box(full_df[[\"Release\", \"ATK\"]], color=plot.colors_dict[\"Effect Monster\"], notch=True)"
   ]
  },
  {
   "cell_type": "markdown",
   "id": "50",
   "metadata": {
    "papermill": {
     "duration": 0.153922,
     "end_time": "2024-10-04T17:09:21.753462",
     "exception": false,
     "start_time": "2024-10-04T17:09:21.599540",
     "status": "completed"
    },
    "tags": []
   },
   "source": [
    "### By DEF"
   ]
  },
  {
   "cell_type": "code",
   "execution_count": null,
   "id": "51",
   "metadata": {
    "papermill": {
     "duration": 1.415948,
     "end_time": "2024-10-04T17:09:23.324434",
     "exception": false,
     "start_time": "2024-10-04T17:09:21.908486",
     "status": "completed"
    },
    "tags": []
   },
   "outputs": [],
   "source": [
    "plot.box(full_df[[\"Release\", \"DEF\"]], color=plot.colors_dict[\"Effect Monster\"], notch=True)"
   ]
  },
  {
   "cell_type": "markdown",
   "id": "52",
   "metadata": {
    "papermill": {
     "duration": 0.156827,
     "end_time": "2024-10-04T17:09:23.644328",
     "exception": false,
     "start_time": "2024-10-04T17:09:23.487501",
     "status": "completed"
    },
    "tags": []
   },
   "source": [
    "### By pendulum scale"
   ]
  },
  {
   "cell_type": "code",
   "execution_count": null,
   "id": "53",
   "metadata": {
    "papermill": {
     "duration": 0.2568,
     "end_time": "2024-10-04T17:09:24.054796",
     "exception": false,
     "start_time": "2024-10-04T17:09:23.797996",
     "status": "completed"
    },
    "tags": []
   },
   "outputs": [],
   "source": [
    "plot.box(\n",
    "    full_df[[\"Release\", \"Pendulum Scale\"]],\n",
    "    color=plot.colors_dict[\"Pendulum Monster\"],\n",
    "    notch=True,\n",
    ")"
   ]
  },
  {
   "cell_type": "markdown",
   "id": "54",
   "metadata": {
    "papermill": {
     "duration": 0.157158,
     "end_time": "2024-10-04T17:09:24.376699",
     "exception": false,
     "start_time": "2024-10-04T17:09:24.219541",
     "status": "completed"
    },
    "tags": []
   },
   "source": [
    "### By link"
   ]
  },
  {
   "cell_type": "code",
   "execution_count": null,
   "id": "55",
   "metadata": {
    "papermill": {
     "duration": 0.252251,
     "end_time": "2024-10-04T17:09:24.785102",
     "exception": false,
     "start_time": "2024-10-04T17:09:24.532851",
     "status": "completed"
    },
    "tags": []
   },
   "outputs": [],
   "source": [
    "plot.box(full_df[[\"Release\", \"Link\"]], color=plot.colors_dict[\"Link Monster\"])"
   ]
  },
  {
   "cell_type": "markdown",
   "id": "56",
   "metadata": {
    "papermill": {
     "duration": 0.157445,
     "end_time": "2024-10-04T17:09:25.105877",
     "exception": false,
     "start_time": "2024-10-04T17:09:24.948432",
     "status": "completed"
    },
    "tags": []
   },
   "source": [
    "# Debug"
   ]
  },
  {
   "cell_type": "markdown",
   "id": "57",
   "metadata": {
    "papermill": {
     "duration": 0.157453,
     "end_time": "2024-10-04T17:09:25.423512",
     "exception": false,
     "start_time": "2024-10-04T17:09:25.266059",
     "status": "completed"
    },
    "tags": []
   },
   "source": [
    "## Merge failed"
   ]
  },
  {
   "cell_type": "code",
   "execution_count": null,
   "id": "58",
   "metadata": {
    "papermill": {
     "duration": 0.188696,
     "end_time": "2024-10-04T17:09:25.769463",
     "exception": false,
     "start_time": "2024-10-04T17:09:25.580767",
     "status": "completed"
    },
    "tags": []
   },
   "outputs": [],
   "source": [
    "all_cards_df.where(~all_cards_df[\"Name\"].isin(full_df[\"Name\"])).dropna(how=\"all\")"
   ]
  },
  {
   "cell_type": "code",
   "execution_count": null,
   "id": "59",
   "metadata": {
    "papermill": {
     "duration": 0.366939,
     "end_time": "2024-10-04T17:09:26.298554",
     "exception": false,
     "start_time": "2024-10-04T17:09:25.931615",
     "status": "completed"
    },
    "tags": []
   },
   "outputs": [],
   "source": [
    "set_lists_df.where(\n",
    "    (~set_lists_df[\"Card number\"].isin(full_df[\"Card number\"]))\n",
    "    & (~set_lists_df[\"Card number\"].dropna().str.startswith(\"RD/\"))\n",
    ").dropna(how=\"all\")"
   ]
  },
  {
   "cell_type": "markdown",
   "id": "60",
   "metadata": {
    "papermill": {
     "duration": 0.156151,
     "end_time": "2024-10-04T17:09:26.623849",
     "exception": false,
     "start_time": "2024-10-04T17:09:26.467698",
     "status": "completed"
    },
    "tags": []
   },
   "source": [
    " # Epilogue"
   ]
  },
  {
   "cell_type": "code",
   "execution_count": null,
   "id": "61",
   "metadata": {
    "papermill": {
     "duration": 0.342357,
     "end_time": "2024-10-04T17:09:27.120791",
     "exception": false,
     "start_time": "2024-10-04T17:09:26.778434",
     "status": "completed"
    },
    "tags": []
   },
   "outputs": [],
   "source": [
    "benchmark(report=\"timeline\", timestamp=timestamp)"
   ]
  },
  {
   "cell_type": "code",
   "execution_count": null,
   "id": "62",
   "metadata": {
    "papermill": {
     "duration": 0.174112,
     "end_time": "2024-10-04T17:09:27.462171",
     "exception": false,
     "start_time": "2024-10-04T17:09:27.288059",
     "status": "completed"
    },
    "tags": []
   },
   "outputs": [],
   "source": [
    "footer()"
   ]
  },
  {
   "cell_type": "markdown",
   "id": "63",
   "metadata": {
    "papermill": {
     "duration": 0.157964,
     "end_time": "2024-10-04T17:09:27.777048",
     "exception": false,
     "start_time": "2024-10-04T17:09:27.619084",
     "status": "completed"
    },
    "tags": []
   },
   "source": [
    "## HTML export"
   ]
  },
  {
   "cell_type": "code",
   "execution_count": null,
   "id": "64",
   "metadata": {
    "papermill": {
     "duration": 0.165756,
     "end_time": "2024-10-04T17:09:28.098768",
     "exception": false,
     "start_time": "2024-10-04T17:09:27.933012",
     "status": "completed"
    },
    "tags": []
   },
   "outputs": [],
   "source": [
    "# May need to sleep for a few seconds after saving\n",
    "save_notebook()"
   ]
  },
  {
   "cell_type": "code",
   "execution_count": null,
   "id": "65",
   "metadata": {
    "papermill": {
     "duration": 0.883011,
     "end_time": "2024-10-04T17:09:29.137727",
     "exception": false,
     "start_time": "2024-10-04T17:09:28.254716",
     "status": "completed"
    },
    "tags": []
   },
   "outputs": [],
   "source": [
    "export_notebook(dirs.NOTEBOOKS.user / \"Timeline.ipynb\")"
   ]
  },
  {
   "cell_type": "markdown",
   "id": "66",
   "metadata": {
    "papermill": {
     "duration": 0.15561,
     "end_time": "2024-10-04T17:09:29.464751",
     "exception": false,
     "start_time": "2024-10-04T17:09:29.309141",
     "status": "completed"
    },
    "tags": [
     "exclude"
    ]
   },
   "source": [
    "## Git"
   ]
  },
  {
   "cell_type": "code",
   "execution_count": null,
   "id": "67",
   "metadata": {
    "papermill": {
     "duration": 0.985438,
     "end_time": "2024-10-04T17:09:30.614128",
     "exception": false,
     "start_time": "2024-10-04T17:09:29.628690",
     "status": "completed"
    },
    "tags": [
     "exclude"
    ]
   },
   "outputs": [],
   "source": [
    "git.commit(\"*[Tt]imeline*\", f\"Timeline update - {timestamp.isoformat()}\")"
   ]
  }
 ],
 "metadata": {
  "kernelspec": {
   "display_name": "Python 3 (ipykernel)",
   "language": "python",
   "name": "python3"
  },
  "language_info": {
   "codemirror_mode": {
    "name": "ipython",
    "version": 3
   },
   "file_extension": ".py",
   "mimetype": "text/x-python",
   "name": "python",
   "nbconvert_exporter": "python",
   "pygments_lexer": "ipython3",
   "version": "3.12.6"
  },
  "papermill": {
   "default_parameters": {},
   "duration": 56.347026,
   "end_time": "2024-10-04T17:09:31.198325",
   "environment_variables": {},
   "exception": null,
   "input_path": "/Users/Guigoruiz1/Documents/Python/Yugiquery/notebooks/Timeline.ipynb",
   "output_path": "/Users/Guigoruiz1/Documents/Python/Yugiquery/notebooks/Timeline.ipynb",
   "parameters": {},
   "start_time": "2024-10-04T17:08:34.851299",
   "version": "2.6.0"
  },
  "toc": {
   "base_numbering": 1,
   "nav_menu": {},
   "number_sections": true,
   "sideBar": true,
   "skip_h1_title": false,
   "title_cell": "Table of Contents",
   "title_sidebar": "Contents",
   "toc_cell": true,
   "toc_position": {},
   "toc_section_display": true,
   "toc_window_display": true
  }
 },
 "nbformat": 4,
 "nbformat_minor": 5
}
