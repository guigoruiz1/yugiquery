{
 "cells": [
  {
   "cell_type": "code",
   "execution_count": null,
   "id": "0",
   "metadata": {
    "papermill": {
     "duration": 2.722665,
     "end_time": "2025-02-15T07:16:33.130664",
     "exception": false,
     "start_time": "2025-02-15T07:16:30.407999",
     "status": "completed"
    },
    "tags": []
   },
   "outputs": [],
   "source": [
    "from yugiquery import *\n",
    "\n",
    "init_notebook_mode(all_interactive=True)\n",
    "\n",
    "header(\"Timeline\")"
   ]
  },
  {
   "cell_type": "markdown",
   "id": "1",
   "metadata": {
    "papermill": {
     "duration": 0.06806,
     "end_time": "2025-02-15T07:16:33.239042",
     "exception": false,
     "start_time": "2025-02-15T07:16:33.170982",
     "status": "completed"
    },
    "tags": []
   },
   "source": [
    "---"
   ]
  },
  {
   "cell_type": "markdown",
   "id": "2",
   "metadata": {
    "papermill": {
     "duration": 0.080169,
     "end_time": "2025-02-15T07:16:33.555460",
     "exception": false,
     "start_time": "2025-02-15T07:16:33.475291",
     "status": "completed"
    },
    "tags": []
   },
   "source": [
    "Table of Contents <a class=\"jp-toc-ignore\"></a>\n",
    "=================\n",
    "* [1 Data preparation](#data-preparation)\n",
    "  * [1.1 Load data](#load-data)\n",
    "  * [1.2 Format data](#format-data)\n",
    "  * [1.3 Merge data](#merge-data)\n",
    "* [2 Data visualization](#data-visualization)\n",
    "  * [2.1 First releases](#first-releases)\n",
    "    * [2.1.1 By region](#by-region)\n",
    "  * [2.2 Last releases](#last-releases)\n",
    "    * [2.2.1 By region](#by-region)\n",
    "  * [2.3 All Releases](#all-releases)\n",
    "    * [2.3.1 By card type](#by-card-type)\n",
    "    * [2.3.2 By primary type](#by-primary-type)\n",
    "    * [2.3.3 By secondary type](#by-secondary-type)\n",
    "    * [2.3.4 By attribute](#by-attribute)\n",
    "    * [2.3.5 By monster type](#by-monster-type)\n",
    "    * [2.3.6 By Level/Rank](#by-level/rank)\n",
    "    * [2.3.7 By ATK](#by-atk)\n",
    "    * [2.3.8 By DEF](#by-def)\n",
    "    * [2.3.9 By pendulum scale](#by-pendulum-scale)\n",
    "    * [2.3.10 By link](#by-link)\n",
    "* [3 Debug](#debug)\n",
    "  * [3.1 Merge failed](#merge-failed)\n",
    "  * [3.2 HTML export](#html-export)\n",
    "  <!-- * [3.3 Git](#git) -->"
   ]
  },
  {
   "cell_type": "markdown",
   "id": "3",
   "metadata": {
    "papermill": {
     "duration": 0.055043,
     "end_time": "2025-02-15T07:16:33.679124",
     "exception": false,
     "start_time": "2025-02-15T07:16:33.624081",
     "status": "completed"
    },
    "tags": []
   },
   "source": [
    "# Data preparation"
   ]
  },
  {
   "cell_type": "code",
   "execution_count": null,
   "id": "4",
   "metadata": {
    "papermill": {
     "duration": 0.247629,
     "end_time": "2025-02-15T07:16:34.032301",
     "exception": false,
     "start_time": "2025-02-15T07:16:33.784672",
     "status": "completed"
    },
    "tags": []
   },
   "outputs": [],
   "source": [
    "timestamp = arrow.utcnow()"
   ]
  },
  {
   "cell_type": "markdown",
   "id": "5",
   "metadata": {
    "papermill": {
     "duration": 0.080826,
     "end_time": "2025-02-15T07:16:34.168006",
     "exception": false,
     "start_time": "2025-02-15T07:16:34.087180",
     "status": "completed"
    },
    "tags": []
   },
   "source": [
    "## Load data"
   ]
  },
  {
   "cell_type": "code",
   "execution_count": null,
   "id": "6",
   "metadata": {
    "papermill": {
     "duration": 0.18657,
     "end_time": "2025-02-15T07:16:34.401543",
     "exception": false,
     "start_time": "2025-02-15T07:16:34.214973",
     "status": "completed"
    },
    "tags": []
   },
   "outputs": [],
   "source": [
    "# Load list of important dates\n",
    "with open(dirs.get_asset(\"json\", \"dates.json\"), \"r\") as f:\n",
    "    dates_json = json.load(f)\n",
    "    anime_df = pd.DataFrame(dates_json[\"anime\"][\"series\"]).set_index(\"title\").map(pd.to_datetime, dayfirst=True)\n",
    "    rules_df = (\n",
    "        pd.DataFrame(dates_json[\"rules\"]).set_index(\"title\").map(pd.to_datetime, dayfirst=True).iloc[2:]\n",
    "    )  # Ignore old rules"
   ]
  },
  {
   "cell_type": "code",
   "execution_count": null,
   "id": "7",
   "metadata": {
    "papermill": {
     "duration": 11.045447,
     "end_time": "2025-02-15T07:16:45.481995",
     "exception": false,
     "start_time": "2025-02-15T07:16:34.436548",
     "status": "completed"
    },
    "tags": []
   },
   "outputs": [],
   "source": [
    "# Get latest file if exist\n",
    "all_cards_df, _ = load_latest_data(\"cards\")\n",
    "all_speed_df, _ = load_latest_data(\"speed\")\n",
    "set_lists_df, _ = load_latest_data(\"sets\")"
   ]
  },
  {
   "cell_type": "markdown",
   "id": "8",
   "metadata": {
    "papermill": {
     "duration": 0.030346,
     "end_time": "2025-02-15T07:16:45.549383",
     "exception": false,
     "start_time": "2025-02-15T07:16:45.519037",
     "status": "completed"
    },
    "tags": []
   },
   "source": [
    "## Format data"
   ]
  },
  {
   "cell_type": "code",
   "execution_count": null,
   "id": "9",
   "metadata": {
    "papermill": {
     "duration": 0.212526,
     "end_time": "2025-02-15T07:16:45.805754",
     "exception": false,
     "start_time": "2025-02-15T07:16:45.593228",
     "status": "completed"
    },
    "tags": []
   },
   "outputs": [],
   "source": [
    "df_list = [all_cards_df, all_speed_df, set_lists_df]\n",
    "if all(item is not None for item in df_list):\n",
    "    for df in df_list:\n",
    "        df[\"index\"] = df[\"Name\"].str.lower().str.replace(\"#\", \"\")\n",
    "\n",
    "else:\n",
    "    raise SystemExit(\"Not enough files to proceed. Aborting!\")"
   ]
  },
  {
   "cell_type": "markdown",
   "id": "10",
   "metadata": {
    "papermill": {
     "duration": 0.030156,
     "end_time": "2025-02-15T07:16:45.870303",
     "exception": false,
     "start_time": "2025-02-15T07:16:45.840147",
     "status": "completed"
    },
    "tags": []
   },
   "source": [
    "## Merge data"
   ]
  },
  {
   "cell_type": "code",
   "execution_count": null,
   "id": "11",
   "metadata": {
    "papermill": {
     "duration": 3.533404,
     "end_time": "2025-02-15T07:16:49.438010",
     "exception": false,
     "start_time": "2025-02-15T07:16:45.904606",
     "status": "completed"
    },
    "tags": []
   },
   "outputs": [],
   "source": [
    "full_df = pd.concat([all_cards_df, all_speed_df]).drop_duplicates(ignore_index=True)\n",
    "full_df = full_df.merge(set_lists_df, how=\"inner\", on=\"index\")\n",
    "full_df = full_df.convert_dtypes()\n",
    "full_df[\"Modification date\"] = full_df[[\"Modification date_x\", \"Modification date_y\"]].max(axis=1)\n",
    "full_df[\"Name\"] = full_df[\"Name_x\"].fillna(full_df[\"Name_y\"])\n",
    "full_df.drop(\n",
    "    [\"index\", \"Name_x\", \"Name_y\", \"Modification date_x\", \"Modification date_y\"],\n",
    "    axis=1,\n",
    "    inplace=True,\n",
    ")\n",
    "full_df.rename(columns={\"Page URL_x\": \"Card page URL\", \"Page URL_y\": \"Set page URL\"}, inplace=True)\n",
    "full_df = full_df[np.append(full_df.columns[-1:], full_df.columns[:-1])]"
   ]
  },
  {
   "cell_type": "markdown",
   "id": "12",
   "metadata": {
    "papermill": {
     "duration": 0.084152,
     "end_time": "2025-02-15T07:16:49.560494",
     "exception": false,
     "start_time": "2025-02-15T07:16:49.476342",
     "status": "completed"
    },
    "tags": []
   },
   "source": [
    "# Data visualization"
   ]
  },
  {
   "cell_type": "code",
   "execution_count": null,
   "id": "13",
   "metadata": {
    "papermill": {
     "duration": 0.24343,
     "end_time": "2025-02-15T07:16:49.840369",
     "exception": false,
     "start_time": "2025-02-15T07:16:49.596939",
     "status": "completed"
    },
    "tags": []
   },
   "outputs": [],
   "source": [
    "full_df"
   ]
  },
  {
   "cell_type": "markdown",
   "id": "14",
   "metadata": {
    "jp-MarkdownHeadingCollapsed": true,
    "papermill": {
     "duration": 0.032967,
     "end_time": "2025-02-15T07:16:49.913042",
     "exception": false,
     "start_time": "2025-02-15T07:16:49.880075",
     "status": "completed"
    },
    "tags": []
   },
   "source": [
    "## First releases"
   ]
  },
  {
   "cell_type": "markdown",
   "id": "15",
   "metadata": {
    "papermill": {
     "duration": 0.033977,
     "end_time": "2025-02-15T07:16:49.981844",
     "exception": false,
     "start_time": "2025-02-15T07:16:49.947867",
     "status": "completed"
    },
    "tags": []
   },
   "source": [
    "Obs: Only the first release of an individual card name"
   ]
  },
  {
   "cell_type": "code",
   "execution_count": null,
   "id": "16",
   "metadata": {
    "papermill": {
     "duration": 0.828051,
     "end_time": "2025-02-15T07:16:50.849372",
     "exception": false,
     "start_time": "2025-02-15T07:16:50.021321",
     "status": "completed"
    },
    "tags": []
   },
   "outputs": [],
   "source": [
    "first_release = full_df[full_df[\"Release\"].notna()].groupby(\"Name\")[\"Release\"].agg(\"min\")\n",
    "first_release.to_frame(name=\"First release\")"
   ]
  },
  {
   "cell_type": "code",
   "execution_count": null,
   "id": "17",
   "metadata": {
    "papermill": {
     "duration": 2.485471,
     "end_time": "2025-02-15T07:16:53.379916",
     "exception": false,
     "start_time": "2025-02-15T07:16:50.894445",
     "status": "completed"
    },
    "tags": []
   },
   "outputs": [],
   "source": [
    "first_release_count = first_release.sort_values().value_counts(sort=False).to_frame(name=\"All cards\")\n",
    "first_release_count.index.name = \"First Release\"\n",
    "_ = plot.rate(first_release_count, bg=anime_df, vlines=rules_df[\"begin\"])\n",
    "plt.show()"
   ]
  },
  {
   "cell_type": "markdown",
   "id": "18",
   "metadata": {
    "papermill": {
     "duration": 0.163832,
     "end_time": "2025-02-15T07:16:53.601768",
     "exception": false,
     "start_time": "2025-02-15T07:16:53.437936",
     "status": "completed"
    },
    "tags": []
   },
   "source": [
    "### By region"
   ]
  },
  {
   "cell_type": "code",
   "execution_count": null,
   "id": "19",
   "metadata": {
    "papermill": {
     "duration": 1.013001,
     "end_time": "2025-02-15T07:16:54.792482",
     "exception": false,
     "start_time": "2025-02-15T07:16:53.779481",
     "status": "completed"
    },
    "tags": []
   },
   "outputs": [],
   "source": [
    "first_release_region = full_df[full_df[\"Release\"].notna()].groupby([\"Region\", \"Name\"])[\"Release\"].agg(\"min\")\n",
    "first_release_region.to_frame(name=\"First release\")"
   ]
  },
  {
   "cell_type": "code",
   "execution_count": null,
   "id": "20",
   "metadata": {
    "papermill": {
     "duration": 28.592354,
     "end_time": "2025-02-15T07:17:23.445331",
     "exception": false,
     "start_time": "2025-02-15T07:16:54.852977",
     "status": "completed"
    },
    "tags": []
   },
   "outputs": [],
   "source": [
    "first_release_region_count = (\n",
    "    first_release_region.sort_values().groupby([\"Region\"]).value_counts(sort=False).unstack(0).fillna(0).round(0)\n",
    ")\n",
    "first_release_region_count.index.name = \"Release\"\n",
    "_ = plot.rate(\n",
    "    first_release_region_count,\n",
    "    title=\"First Release\",\n",
    "    bg=anime_df,\n",
    "    vlines=rules_df[\"begin\"],\n",
    "    subplots=True,\n",
    ")\n",
    "plt.show()"
   ]
  },
  {
   "cell_type": "markdown",
   "id": "21",
   "metadata": {
    "jp-MarkdownHeadingCollapsed": true,
    "papermill": {
     "duration": 0.208285,
     "end_time": "2025-02-15T07:17:24.047695",
     "exception": false,
     "start_time": "2025-02-15T07:17:23.839410",
     "status": "completed"
    },
    "tags": []
   },
   "source": [
    "## Last releases"
   ]
  },
  {
   "cell_type": "markdown",
   "id": "22",
   "metadata": {
    "papermill": {
     "duration": 0.158154,
     "end_time": "2025-02-15T07:17:24.365407",
     "exception": false,
     "start_time": "2025-02-15T07:17:24.207253",
     "status": "completed"
    },
    "tags": []
   },
   "source": [
    "Obs: Only the last release of an individual card name"
   ]
  },
  {
   "cell_type": "code",
   "execution_count": null,
   "id": "23",
   "metadata": {
    "papermill": {
     "duration": 1.389781,
     "end_time": "2025-02-15T07:17:26.158412",
     "exception": false,
     "start_time": "2025-02-15T07:17:24.768631",
     "status": "completed"
    },
    "tags": []
   },
   "outputs": [],
   "source": [
    "last_release = full_df[full_df[\"Release\"].notna()].groupby(\"Name\")[\"Release\"].agg(\"max\")\n",
    "last_release.to_frame(name=\"Last release\")"
   ]
  },
  {
   "cell_type": "code",
   "execution_count": null,
   "id": "24",
   "metadata": {
    "papermill": {
     "duration": 2.450584,
     "end_time": "2025-02-15T07:17:28.772497",
     "exception": false,
     "start_time": "2025-02-15T07:17:26.321913",
     "status": "completed"
    },
    "tags": []
   },
   "outputs": [],
   "source": [
    "last_release_count = last_release.sort_values().value_counts(sort=False).to_frame(name=\"All cards\")\n",
    "last_release_count.index.name = \"Last Release\"\n",
    "_ = plot.rate(last_release_count, bg=anime_df, vlines=rules_df[\"begin\"], limit_year=True)\n",
    "plt.show()"
   ]
  },
  {
   "cell_type": "markdown",
   "id": "25",
   "metadata": {
    "papermill": {
     "duration": 0.178491,
     "end_time": "2025-02-15T07:17:29.143165",
     "exception": false,
     "start_time": "2025-02-15T07:17:28.964674",
     "status": "completed"
    },
    "tags": []
   },
   "source": [
    "### By region"
   ]
  },
  {
   "cell_type": "code",
   "execution_count": null,
   "id": "26",
   "metadata": {
    "papermill": {
     "duration": 1.452722,
     "end_time": "2025-02-15T07:17:30.798190",
     "exception": false,
     "start_time": "2025-02-15T07:17:29.345468",
     "status": "completed"
    },
    "tags": []
   },
   "outputs": [],
   "source": [
    "last_release_region = full_df[full_df[\"Release\"].notna()].groupby([\"Region\", \"Name\"])[\"Release\"].agg(\"max\")\n",
    "last_release_region.to_frame(name=\"Last release\")"
   ]
  },
  {
   "cell_type": "code",
   "execution_count": null,
   "id": "27",
   "metadata": {
    "papermill": {
     "duration": 29.403189,
     "end_time": "2025-02-15T07:18:00.380931",
     "exception": false,
     "start_time": "2025-02-15T07:17:30.977742",
     "status": "completed"
    },
    "tags": []
   },
   "outputs": [],
   "source": [
    "last_release_region_count = (\n",
    "    last_release_region.sort_values().groupby([\"Region\"]).value_counts(sort=False).unstack(0).fillna(0).round(0)\n",
    ")\n",
    "last_release_region_count.index.name = \"Release\"\n",
    "_ = plot.rate(last_release_region_count, title=\"Last Release\", bg=anime_df, vlines=rules_df[\"begin\"], subplots=True)\n",
    "plt.show()"
   ]
  },
  {
   "cell_type": "markdown",
   "id": "28",
   "metadata": {
    "papermill": {
     "duration": 0.282708,
     "end_time": "2025-02-15T07:18:00.949774",
     "exception": false,
     "start_time": "2025-02-15T07:18:00.667066",
     "status": "completed"
    },
    "tags": []
   },
   "source": [
    "## All Releases"
   ]
  },
  {
   "cell_type": "markdown",
   "id": "29",
   "metadata": {
    "papermill": {
     "duration": 0.354393,
     "end_time": "2025-02-15T07:18:01.590388",
     "exception": false,
     "start_time": "2025-02-15T07:18:01.235995",
     "status": "completed"
    },
    "tags": []
   },
   "source": [
    "Obs: All releases includes reprints"
   ]
  },
  {
   "cell_type": "code",
   "execution_count": null,
   "id": "30",
   "metadata": {
    "papermill": {
     "duration": 2.624106,
     "end_time": "2025-02-15T07:18:04.501466",
     "exception": false,
     "start_time": "2025-02-15T07:18:01.877360",
     "status": "completed"
    },
    "tags": []
   },
   "outputs": [],
   "source": [
    "all_releases = full_df[\"Release\"][full_df[\"Release\"].notna()].value_counts().sort_index().to_frame()\n",
    "all_releases.index.name = \"All releases\"\n",
    "_ = plot.rate(all_releases, bg=anime_df, vlines=rules_df[\"begin\"])\n",
    "plt.show()"
   ]
  },
  {
   "cell_type": "markdown",
   "id": "31",
   "metadata": {
    "papermill": {
     "duration": 0.292241,
     "end_time": "2025-02-15T07:18:05.173111",
     "exception": false,
     "start_time": "2025-02-15T07:18:04.880870",
     "status": "completed"
    },
    "tags": []
   },
   "source": [
    "### By card type"
   ]
  },
  {
   "cell_type": "code",
   "execution_count": null,
   "id": "32",
   "metadata": {
    "papermill": {
     "duration": 0.521608,
     "end_time": "2025-02-15T07:18:05.988764",
     "exception": false,
     "start_time": "2025-02-15T07:18:05.467156",
     "status": "completed"
    },
    "tags": []
   },
   "outputs": [],
   "source": [
    "# All releases, includes reprints - Double check\n",
    "release_card_type = full_df.groupby([\"Card type\", \"Release\"])[\"Name\"].nunique().unstack(0).sort_index().fillna(0).astype(int)\n",
    "release_card_type.groupby(release_card_type.index.strftime(\"%Y\")).sum().T"
   ]
  },
  {
   "cell_type": "code",
   "execution_count": null,
   "id": "33",
   "metadata": {
    "papermill": {
     "duration": 2.765459,
     "end_time": "2025-02-15T07:18:09.053453",
     "exception": false,
     "start_time": "2025-02-15T07:18:06.287994",
     "status": "completed"
    },
    "tags": []
   },
   "outputs": [],
   "source": [
    "release_card_type_plot = release_card_type[[\"Monster Card\", \"Spell Card\", \"Trap Card\", \"Skill Card\"]]\n",
    "card_type_colors = [plot.colors_dict[col] for col in release_card_type_plot.columns]\n",
    "_ = plot.rate(release_card_type_plot, colors=card_type_colors, bg=anime_df, vlines=rules_df[\"begin\"])\n",
    "plt.show()"
   ]
  },
  {
   "cell_type": "markdown",
   "id": "34",
   "metadata": {
    "papermill": {
     "duration": 0.437396,
     "end_time": "2025-02-15T07:18:09.888576",
     "exception": false,
     "start_time": "2025-02-15T07:18:09.451180",
     "status": "completed"
    },
    "tags": []
   },
   "source": [
    "### By primary type"
   ]
  },
  {
   "cell_type": "code",
   "execution_count": null,
   "id": "35",
   "metadata": {
    "papermill": {
     "duration": 0.548172,
     "end_time": "2025-02-15T07:18:10.759145",
     "exception": false,
     "start_time": "2025-02-15T07:18:10.210973",
     "status": "completed"
    },
    "tags": []
   },
   "outputs": [],
   "source": [
    "# All releases, includes reprints - Double check\n",
    "# Sort properly\n",
    "release_primary_type = (\n",
    "    full_df.groupby([\"Primary type\", \"Release\"])[\"Name\"].nunique().unstack(0).sort_index().fillna(0).astype(int)\n",
    ")\n",
    "release_primary_type.groupby(release_primary_type.index.strftime(\"%Y\")).sum().T"
   ]
  },
  {
   "cell_type": "code",
   "execution_count": null,
   "id": "36",
   "metadata": {
    "papermill": {
     "duration": 2.445136,
     "end_time": "2025-02-15T07:18:13.528599",
     "exception": false,
     "start_time": "2025-02-15T07:18:11.083463",
     "status": "completed"
    },
    "tags": []
   },
   "outputs": [],
   "source": [
    "primary_type_colors = [plot.colors_dict[col] for col in release_primary_type.columns]\n",
    "_ = plot.rate(\n",
    "    release_primary_type,\n",
    "    colors=primary_type_colors,\n",
    "    bg=anime_df,\n",
    "    vlines=rules_df[\"begin\"],\n",
    ")\n",
    "plt.show()"
   ]
  },
  {
   "cell_type": "markdown",
   "id": "37",
   "metadata": {
    "papermill": {
     "duration": 0.366598,
     "end_time": "2025-02-15T07:18:14.266217",
     "exception": false,
     "start_time": "2025-02-15T07:18:13.899619",
     "status": "completed"
    },
    "tags": []
   },
   "source": [
    "### By secondary type"
   ]
  },
  {
   "cell_type": "code",
   "execution_count": null,
   "id": "38",
   "metadata": {
    "papermill": {
     "duration": 4.151234,
     "end_time": "2025-02-15T07:18:18.789980",
     "exception": false,
     "start_time": "2025-02-15T07:18:14.638746",
     "status": "completed"
    },
    "tags": []
   },
   "outputs": [],
   "source": [
    "# All releases, includes reprints - Double check\n",
    "# Sort properly\n",
    "release_secondary_type = (\n",
    "    full_df.explode(\"Secondary type\")\n",
    "    .groupby([\"Secondary type\", \"Release\"])[\"Name\"]\n",
    "    .nunique()\n",
    "    .unstack(0)\n",
    "    .sort_index()\n",
    "    .fillna(0)\n",
    "    .astype(int)\n",
    ")\n",
    "release_secondary_type.groupby(release_secondary_type.index.strftime(\"%Y\")).sum().T"
   ]
  },
  {
   "cell_type": "code",
   "execution_count": null,
   "id": "39",
   "metadata": {
    "papermill": {
     "duration": 1.979848,
     "end_time": "2025-02-15T07:18:21.220685",
     "exception": false,
     "start_time": "2025-02-15T07:18:19.240837",
     "status": "completed"
    },
    "tags": []
   },
   "outputs": [],
   "source": [
    "_ = plot.rate(release_secondary_type, bg=anime_df, vlines=rules_df[\"begin\"])\n",
    "plt.show()"
   ]
  },
  {
   "cell_type": "markdown",
   "id": "40",
   "metadata": {
    "papermill": {
     "duration": 0.404094,
     "end_time": "2025-02-15T07:18:22.102471",
     "exception": false,
     "start_time": "2025-02-15T07:18:21.698377",
     "status": "completed"
    },
    "tags": []
   },
   "source": [
    "### By attribute"
   ]
  },
  {
   "cell_type": "code",
   "execution_count": null,
   "id": "41",
   "metadata": {
    "papermill": {
     "duration": 0.618876,
     "end_time": "2025-02-15T07:18:23.130083",
     "exception": false,
     "start_time": "2025-02-15T07:18:22.511207",
     "status": "completed"
    },
    "tags": []
   },
   "outputs": [],
   "source": [
    "# All releases, includes reprints - Double check\n",
    "# Sort properly\n",
    "release_attribute = full_df.groupby([\"Attribute\", \"Release\"])[\"Name\"].nunique().unstack(0).sort_index().fillna(0).astype(int)\n",
    "release_attribute.groupby(release_attribute.index.strftime(\"%Y\")).sum().T"
   ]
  },
  {
   "cell_type": "code",
   "execution_count": null,
   "id": "42",
   "metadata": {
    "papermill": {
     "duration": 2.246329,
     "end_time": "2025-02-15T07:18:25.869855",
     "exception": false,
     "start_time": "2025-02-15T07:18:23.623526",
     "status": "completed"
    },
    "tags": []
   },
   "outputs": [],
   "source": [
    "attribute_colors = [plot.colors_dict[col] for col in release_attribute.columns]\n",
    "_ = plot.rate(\n",
    "    release_attribute, colors=attribute_colors, bg=anime_df, vlines=rules_df[\"begin\"], cumsum=True, limit_year=True\n",
    ")\n",
    "plt.show()"
   ]
  },
  {
   "cell_type": "markdown",
   "id": "43",
   "metadata": {
    "papermill": {
     "duration": 0.432328,
     "end_time": "2025-02-15T07:18:26.756715",
     "exception": false,
     "start_time": "2025-02-15T07:18:26.324387",
     "status": "completed"
    },
    "tags": []
   },
   "source": [
    "### By monster type"
   ]
  },
  {
   "cell_type": "code",
   "execution_count": null,
   "id": "44",
   "metadata": {
    "papermill": {
     "duration": 0.647378,
     "end_time": "2025-02-15T07:18:27.843870",
     "exception": false,
     "start_time": "2025-02-15T07:18:27.196492",
     "status": "completed"
    },
    "tags": []
   },
   "outputs": [],
   "source": [
    "# All releases, includes reprints - Double check\n",
    "# Sort properly\n",
    "release_monster_type = (\n",
    "    full_df.groupby([\"Monster type\", \"Release\"])[\"Name\"].nunique().unstack(0).sort_index().fillna(0).astype(int)\n",
    ")\n",
    "release_monster_type.groupby(release_monster_type.index.strftime(\"%Y\")).sum().T"
   ]
  },
  {
   "cell_type": "code",
   "execution_count": null,
   "id": "45",
   "metadata": {
    "papermill": {
     "duration": 56.715428,
     "end_time": "2025-02-15T07:19:25.032596",
     "exception": false,
     "start_time": "2025-02-15T07:18:28.317168",
     "status": "completed"
    },
    "tags": []
   },
   "outputs": [],
   "source": [
    "_ = plot.rate(release_monster_type, bg=anime_df, vlines=rules_df[\"begin\"], subplots=True)\n",
    "plt.show()"
   ]
  },
  {
   "cell_type": "markdown",
   "id": "46",
   "metadata": {
    "papermill": {
     "duration": 0.666758,
     "end_time": "2025-02-15T07:19:26.373209",
     "exception": false,
     "start_time": "2025-02-15T07:19:25.706451",
     "status": "completed"
    },
    "tags": []
   },
   "source": [
    "### By Level/Rank"
   ]
  },
  {
   "cell_type": "code",
   "execution_count": null,
   "id": "47",
   "metadata": {
    "papermill": {
     "duration": 9.965485,
     "end_time": "2025-02-15T07:19:37.022487",
     "exception": false,
     "start_time": "2025-02-15T07:19:27.057002",
     "status": "completed"
    },
    "tags": []
   },
   "outputs": [],
   "source": [
    "_ = plot.box(\n",
    "    full_df[full_df[\"Card type\"] != \"Non-game card\"][[\"Release\", \"Level/Rank\"]], color=plot.colors_dict[\"Level\"], notch=True\n",
    ")\n",
    "plt.show()"
   ]
  },
  {
   "cell_type": "markdown",
   "id": "48",
   "metadata": {
    "papermill": {
     "duration": 0.738418,
     "end_time": "2025-02-15T07:19:38.457883",
     "exception": false,
     "start_time": "2025-02-15T07:19:37.719465",
     "status": "completed"
    },
    "tags": []
   },
   "source": [
    "### By ATK"
   ]
  },
  {
   "cell_type": "code",
   "execution_count": null,
   "id": "49",
   "metadata": {
    "papermill": {
     "duration": 8.880831,
     "end_time": "2025-02-15T07:19:48.092398",
     "exception": false,
     "start_time": "2025-02-15T07:19:39.211567",
     "status": "completed"
    },
    "tags": []
   },
   "outputs": [],
   "source": [
    "_ = plot.box(\n",
    "    full_df[full_df[\"Card type\"] != \"Non-game card\"][[\"Release\", \"ATK\"]],\n",
    "    color=plot.colors_dict[\"Effect Monster\"],\n",
    "    notch=True,\n",
    ")\n",
    "plt.show()"
   ]
  },
  {
   "cell_type": "markdown",
   "id": "50",
   "metadata": {
    "papermill": {
     "duration": 0.736959,
     "end_time": "2025-02-15T07:19:49.587025",
     "exception": false,
     "start_time": "2025-02-15T07:19:48.850066",
     "status": "completed"
    },
    "tags": []
   },
   "source": [
    "### By DEF"
   ]
  },
  {
   "cell_type": "code",
   "execution_count": null,
   "id": "51",
   "metadata": {
    "papermill": {
     "duration": 8.821865,
     "end_time": "2025-02-15T07:19:59.160600",
     "exception": false,
     "start_time": "2025-02-15T07:19:50.338735",
     "status": "completed"
    },
    "tags": []
   },
   "outputs": [],
   "source": [
    "_ = plot.box(\n",
    "    full_df[full_df[\"Card type\"] != \"Non-game card\"][[\"Release\", \"DEF\"]],\n",
    "    color=plot.colors_dict[\"Effect Monster\"],\n",
    "    notch=True,\n",
    ")\n",
    "plt.show()"
   ]
  },
  {
   "cell_type": "markdown",
   "id": "52",
   "metadata": {
    "papermill": {
     "duration": 0.686897,
     "end_time": "2025-02-15T07:20:00.663774",
     "exception": false,
     "start_time": "2025-02-15T07:19:59.976877",
     "status": "completed"
    },
    "tags": []
   },
   "source": [
    "### By pendulum scale"
   ]
  },
  {
   "cell_type": "code",
   "execution_count": null,
   "id": "53",
   "metadata": {
    "papermill": {
     "duration": 2.131514,
     "end_time": "2025-02-15T07:20:03.482771",
     "exception": false,
     "start_time": "2025-02-15T07:20:01.351257",
     "status": "completed"
    },
    "tags": []
   },
   "outputs": [],
   "source": [
    "_ = plot.box(\n",
    "    full_df[full_df[\"Card type\"] != \"Non-game card\"][[\"Release\", \"Pendulum Scale\"]],\n",
    "    color=plot.colors_dict[\"Pendulum Monster\"],\n",
    "    notch=True,\n",
    ")\n",
    "plt.show()"
   ]
  },
  {
   "cell_type": "markdown",
   "id": "54",
   "metadata": {
    "papermill": {
     "duration": 0.928397,
     "end_time": "2025-02-15T07:20:05.148678",
     "exception": false,
     "start_time": "2025-02-15T07:20:04.220281",
     "status": "completed"
    },
    "tags": []
   },
   "source": [
    "### By link"
   ]
  },
  {
   "cell_type": "code",
   "execution_count": null,
   "id": "55",
   "metadata": {
    "papermill": {
     "duration": 2.097538,
     "end_time": "2025-02-15T07:20:08.049783",
     "exception": false,
     "start_time": "2025-02-15T07:20:05.952245",
     "status": "completed"
    },
    "tags": []
   },
   "outputs": [],
   "source": [
    "_ = plot.box(full_df[full_df[\"Card type\"] != \"Non-game card\"][[\"Release\", \"Link\"]], color=plot.colors_dict[\"Link Monster\"])\n",
    "plt.show()"
   ]
  },
  {
   "cell_type": "markdown",
   "id": "56",
   "metadata": {
    "papermill": {
     "duration": 0.752127,
     "end_time": "2025-02-15T07:20:09.552080",
     "exception": false,
     "start_time": "2025-02-15T07:20:08.799953",
     "status": "completed"
    },
    "tags": []
   },
   "source": [
    "# Debug"
   ]
  },
  {
   "cell_type": "markdown",
   "id": "57",
   "metadata": {
    "papermill": {
     "duration": 0.763153,
     "end_time": "2025-02-15T07:20:11.266379",
     "exception": false,
     "start_time": "2025-02-15T07:20:10.503226",
     "status": "completed"
    },
    "tags": []
   },
   "source": [
    "## Merge failed"
   ]
  },
  {
   "cell_type": "markdown",
   "id": "58",
   "metadata": {
    "papermill": {
     "duration": 0.803534,
     "end_time": "2025-02-15T07:20:12.914385",
     "exception": false,
     "start_time": "2025-02-15T07:20:12.110851",
     "status": "completed"
    },
    "tags": []
   },
   "source": [
    "Names missing"
   ]
  },
  {
   "cell_type": "code",
   "execution_count": null,
   "id": "59",
   "metadata": {
    "papermill": {
     "duration": 0.903721,
     "end_time": "2025-02-15T07:20:14.860303",
     "exception": false,
     "start_time": "2025-02-15T07:20:13.956582",
     "status": "completed"
    },
    "tags": []
   },
   "outputs": [],
   "source": [
    "all_cards_df.where(~all_cards_df[\"Name\"].isin(full_df[\"Name\"])).dropna(how=\"all\")"
   ]
  },
  {
   "cell_type": "markdown",
   "id": "60",
   "metadata": {
    "papermill": {
     "duration": 0.796628,
     "end_time": "2025-02-15T07:20:16.477067",
     "exception": false,
     "start_time": "2025-02-15T07:20:15.680439",
     "status": "completed"
    },
    "tags": []
   },
   "source": [
    "Card number missing"
   ]
  },
  {
   "cell_type": "code",
   "execution_count": null,
   "id": "61",
   "metadata": {
    "papermill": {
     "duration": 1.815186,
     "end_time": "2025-02-15T07:20:19.046347",
     "exception": false,
     "start_time": "2025-02-15T07:20:17.231161",
     "status": "completed"
    },
    "tags": []
   },
   "outputs": [],
   "source": [
    "set_lists_df.where(\n",
    "    (~set_lists_df[\"Card number\"].isin(full_df[\"Card number\"]))\n",
    "    & (~set_lists_df[\"Card number\"].dropna().str.startswith(\"RD/\"))\n",
    ").dropna(how=\"all\")"
   ]
  },
  {
   "cell_type": "markdown",
   "id": "62",
   "metadata": {
    "papermill": {
     "duration": 0.856975,
     "end_time": "2025-02-15T07:20:21.029752",
     "exception": false,
     "start_time": "2025-02-15T07:20:20.172777",
     "status": "completed"
    },
    "tags": []
   },
   "source": [
    " # Epilogue"
   ]
  },
  {
   "cell_type": "code",
   "execution_count": null,
   "id": "63",
   "metadata": {
    "papermill": {
     "duration": 4.25323,
     "end_time": "2025-02-15T07:20:26.053705",
     "exception": false,
     "start_time": "2025-02-15T07:20:21.800475",
     "status": "completed"
    },
    "tags": []
   },
   "outputs": [],
   "source": [
    "benchmark(report=\"timeline\", timestamp=timestamp)"
   ]
  },
  {
   "cell_type": "code",
   "execution_count": null,
   "id": "64",
   "metadata": {
    "papermill": {
     "duration": 0.699848,
     "end_time": "2025-02-15T07:20:27.474759",
     "exception": false,
     "start_time": "2025-02-15T07:20:26.774911",
     "status": "completed"
    },
    "tags": []
   },
   "outputs": [],
   "source": [
    "footer()"
   ]
  },
  {
   "cell_type": "markdown",
   "id": "65",
   "metadata": {
    "papermill": {
     "duration": 0.695905,
     "end_time": "2025-02-15T07:20:28.880535",
     "exception": false,
     "start_time": "2025-02-15T07:20:28.184630",
     "status": "completed"
    },
    "tags": []
   },
   "source": [
    "## HTML export"
   ]
  },
  {
   "cell_type": "code",
   "execution_count": null,
   "id": "66",
   "metadata": {
    "papermill": {
     "duration": 0.702752,
     "end_time": "2025-02-15T07:20:30.316234",
     "exception": false,
     "start_time": "2025-02-15T07:20:29.613482",
     "status": "completed"
    },
    "tags": []
   },
   "outputs": [],
   "source": [
    "# May need to sleep for a few seconds after saving\n",
    "save_notebook()"
   ]
  },
  {
   "cell_type": "code",
   "execution_count": null,
   "id": "67",
   "metadata": {
    "papermill": {
     "duration": 3.6606,
     "end_time": "2025-02-15T07:20:34.697000",
     "exception": false,
     "start_time": "2025-02-15T07:20:31.036400",
     "status": "completed"
    },
    "tags": []
   },
   "outputs": [],
   "source": [
    "export_notebook(dirs.NOTEBOOKS.user / \"Timeline.ipynb\")"
   ]
  },
  {
   "cell_type": "markdown",
   "id": "68",
   "metadata": {
    "papermill": {
     "duration": 1.160525,
     "end_time": "2025-02-15T07:20:36.558780",
     "exception": false,
     "start_time": "2025-02-15T07:20:35.398255",
     "status": "completed"
    },
    "tags": [
     "exclude"
    ]
   },
   "source": [
    "## Git"
   ]
  },
  {
   "cell_type": "code",
   "execution_count": null,
   "id": "69",
   "metadata": {
    "papermill": {
     "duration": null,
     "end_time": null,
     "exception": false,
     "start_time": "2025-02-15T07:20:37.258988",
     "status": "running"
    },
    "tags": [
     "exclude"
    ]
   },
   "outputs": [],
   "source": [
    "git.commit(\"*[Tt]imeline*\", f\"Timeline update - {timestamp.isoformat()}\")"
   ]
  }
 ],
 "metadata": {
  "kernelspec": {
   "display_name": "venv",
   "language": "python",
   "name": "python3"
  },
  "language_info": {
   "codemirror_mode": {
    "name": "ipython",
    "version": 3
   },
   "file_extension": ".py",
   "mimetype": "text/x-python",
   "name": "python",
   "nbconvert_exporter": "python",
   "pygments_lexer": "ipython3",
   "version": "3.11.6"
  },
  "papermill": {
   "default_parameters": {},
   "duration": null,
   "end_time": null,
   "environment_variables": {},
   "exception": null,
   "input_path": "/home/jovyan/yugiquery/notebooks/Timeline.ipynb",
   "output_path": "/home/jovyan/yugiquery/notebooks/Timeline.ipynb",
   "parameters": {},
   "start_time": "2025-02-15T07:16:28.921569",
   "version": "2.6.0"
  },
  "toc": {
   "base_numbering": 1,
   "nav_menu": {},
   "number_sections": true,
   "sideBar": true,
   "skip_h1_title": false,
   "title_cell": "Table of Contents",
   "title_sidebar": "Contents",
   "toc_cell": true,
   "toc_position": {},
   "toc_section_display": true,
   "toc_window_display": true
  }
 },
 "nbformat": 4,
 "nbformat_minor": 5
}
