{
 "cells": [
  {
   "cell_type": "code",
   "execution_count": null,
   "id": "0",
   "metadata": {
    "papermill": {
     "duration": 3.028031,
     "end_time": "2025-06-14T06:16:52.956056",
     "exception": false,
     "start_time": "2025-06-14T06:16:49.928025",
     "status": "completed"
    },
    "tags": []
   },
   "outputs": [],
   "source": [
    "from yugiquery import *\n",
    "\n",
    "init_notebook_mode(all_interactive=True)\n",
    "\n",
    "header(\"Timeline\")"
   ]
  },
  {
   "cell_type": "markdown",
   "id": "1",
   "metadata": {
    "papermill": {
     "duration": 0.14464,
     "end_time": "2025-06-14T06:16:53.154904",
     "exception": false,
     "start_time": "2025-06-14T06:16:53.010264",
     "status": "completed"
    },
    "tags": []
   },
   "source": [
    "---"
   ]
  },
  {
   "cell_type": "markdown",
   "id": "2",
   "metadata": {
    "papermill": {
     "duration": 0.051974,
     "end_time": "2025-06-14T06:16:53.273433",
     "exception": false,
     "start_time": "2025-06-14T06:16:53.221459",
     "status": "completed"
    },
    "tags": []
   },
   "source": [
    "Table of Contents <a class=\"jp-toc-ignore\"></a>\n",
    "=================\n",
    "* [1 Data preparation](#data-preparation)\n",
    "  * [1.1 Load data](#load-data)\n",
    "  * [1.2 Merge data](#merge-data)\n",
    "* [2 Data visualization](#data-visualization)\n",
    "  * [2.1 Debut](#debut)\n",
    "    * [2.1.1 By Format](#by-format)\n",
    "    * [2.1.2 By Region](#by-region)\n",
    "    * [2.1.3 By Card type](#by-card-type)\n",
    "    * [2.1.4 By Primary type](#by-primary-type)\n",
    "    * [2.1.5 By Secondary type](#by-secondary-type)\n",
    "    * [2.1.6 By Attribute](#by-attribute)\n",
    "    * [2.1.7 By Monster type](#by-monster-type)\n",
    "    * [2.1.8 By Level/Rank](#by-level/rank)\n",
    "    * [2.1.9 By Pendulum scale](#by-pendulum-scale)\n",
    "    * [2.1.10 By Link](#by-link)\n",
    "    * [2.1.11 By ATK](#by-atk)\n",
    "    * [2.1.12 By DEF](#by-def)\n",
    "  * [2.2 Last release](#last-release)\n",
    "    * [2.2.1 By Region](#by-region)\n",
    "    * [2.2.2 By Card type](#by-card-type)\n",
    "    * [2.2.3 By Primary type](#by-primary-type)\n",
    "    * [2.2.4 By Secondary type](#by-secondary-type)\n",
    "    * [2.2.5 By Attribute](#by-attribute)\n",
    "    * [2.2.6 By Monster type](#by-monster-type)\n",
    "    * [2.2.7 By Level/Rank](#by-level/rank)\n",
    "    * [2.2.8 By Pendulum scale](#by-pendulum-scale)\n",
    "    * [2.2.9 By Link](#by-link)\n",
    "    * [2.2.10 By ATK](#by-atk)\n",
    "    * [2.2.11 By DEF](#by-def)\n",
    "  * [2.3 All releases](#all-releases)\n",
    "    * [2.3.1 By Region](#by-region)\n",
    "    * [2.3.2 By Card type](#by-card-type)\n",
    "    * [2.3.3 By Primary type](#by-primary-type)\n",
    "    * [2.3.4 By Secondary type](#by-secondary-type)\n",
    "    * [2.3.5 By Attribute](#by-attribute)\n",
    "    * [2.3.6 By Monster type](#by-monster-type)\n",
    "    * [2.3.7 By Level/Rank](#by-level/rank)\n",
    "    * [2.3.8 By Pendulum scale](#by-pendulum-scale)\n",
    "    * [2.3.9 By Link](#by-link)\n",
    "    * [2.3.10 By ATK](#by-atk)\n",
    "    * [2.3.11 By DEF](#by-def)\n",
    "* [3 Merge failed](#merge-failed)\n",
    "  * [3.1 Names missing](#names-missing)\n",
    "  * [3.2 Card number missing](#card-number-missing)\n",
    "* [4 Epilogue](#epilogue)\n",
    "  * [4.1 HTML export](#html-export)\n",
    "  * [4.2 Git](#git)"
   ]
  },
  {
   "cell_type": "markdown",
   "id": "3",
   "metadata": {
    "papermill": {
     "duration": 0.27612,
     "end_time": "2025-06-14T06:16:53.601830",
     "exception": false,
     "start_time": "2025-06-14T06:16:53.325710",
     "status": "completed"
    },
    "tags": []
   },
   "source": [
    "# Data preparation"
   ]
  },
  {
   "cell_type": "code",
   "execution_count": null,
   "id": "4",
   "metadata": {
    "papermill": {
     "duration": 0.056015,
     "end_time": "2025-06-14T06:16:53.713949",
     "exception": false,
     "start_time": "2025-06-14T06:16:53.657934",
     "status": "completed"
    },
    "tags": []
   },
   "outputs": [],
   "source": [
    "timestamp = arrow.utcnow()"
   ]
  },
  {
   "cell_type": "markdown",
   "id": "5",
   "metadata": {
    "papermill": {
     "duration": 0.048114,
     "end_time": "2025-06-14T06:16:53.813653",
     "exception": false,
     "start_time": "2025-06-14T06:16:53.765539",
     "status": "completed"
    },
    "tags": []
   },
   "source": [
    "## Load data"
   ]
  },
  {
   "cell_type": "code",
   "execution_count": null,
   "id": "6",
   "metadata": {
    "papermill": {
     "duration": 0.232243,
     "end_time": "2025-06-14T06:16:54.526382",
     "exception": false,
     "start_time": "2025-06-14T06:16:54.294139",
     "status": "completed"
    },
    "tags": []
   },
   "outputs": [],
   "source": [
    "# Load list of important dates\n",
    "dates_json = load_json(dirs.get_asset(\"json\", \"dates.json\"))\n",
    "anime_df = pd.DataFrame(dates_json[\"anime\"][\"series\"]).set_index(\"title\").map(pd.to_datetime, dayfirst=True)\n",
    "rules_df = (\n",
    "    pd.DataFrame(dates_json[\"rules\"]).set_index(\"title\").map(pd.to_datetime, dayfirst=True).iloc[2:]\n",
    ")  # Ignore old rules"
   ]
  },
  {
   "cell_type": "code",
   "execution_count": null,
   "id": "7",
   "metadata": {
    "papermill": {
     "duration": 11.235982,
     "end_time": "2025-06-14T06:17:05.816473",
     "exception": false,
     "start_time": "2025-06-14T06:16:54.580491",
     "status": "completed"
    },
    "tags": []
   },
   "outputs": [],
   "source": [
    "# Get latest file if exist\n",
    "cards_df = load_latest_data(\"cards\")\n",
    "speed_df = load_latest_data(\"speed\")\n",
    "set_lists_df = load_latest_data(\"sets\")"
   ]
  },
  {
   "cell_type": "markdown",
   "id": "8",
   "metadata": {
    "papermill": {
     "duration": 0.070443,
     "end_time": "2025-06-14T06:17:05.943231",
     "exception": false,
     "start_time": "2025-06-14T06:17:05.872788",
     "status": "completed"
    },
    "tags": []
   },
   "source": [
    "## Merge data"
   ]
  },
  {
   "cell_type": "code",
   "execution_count": null,
   "id": "9",
   "metadata": {
    "papermill": {
     "duration": 0.120032,
     "end_time": "2025-06-14T06:17:06.117140",
     "exception": false,
     "start_time": "2025-06-14T06:17:05.997108",
     "status": "completed"
    },
    "tags": []
   },
   "outputs": [],
   "source": [
    "df_list = [cards_df, speed_df, set_lists_df]\n",
    "if any(item is None for item in df_list):\n",
    "    raise SystemExit(\"Not enough files to proceed. Aborting!\")"
   ]
  },
  {
   "cell_type": "code",
   "execution_count": null,
   "id": "10",
   "metadata": {
    "papermill": {
     "duration": 3.854432,
     "end_time": "2025-06-14T06:17:10.109048",
     "exception": false,
     "start_time": "2025-06-14T06:17:06.254616",
     "status": "completed"
    },
    "tags": []
   },
   "outputs": [],
   "source": [
    "set_lists_df = set_lists_df[\n",
    "    ~set_lists_df[\"Card number\"].str.startswith(\"RD/\").astype(bool).fillna(False)\n",
    "]  # Remove Rush duel cards\n",
    "full_df = merge_set_to_cards(cards_df, speed_df, set_df=set_lists_df)"
   ]
  },
  {
   "cell_type": "markdown",
   "id": "11",
   "metadata": {
    "papermill": {
     "duration": 0.049844,
     "end_time": "2025-06-14T06:17:10.216061",
     "exception": false,
     "start_time": "2025-06-14T06:17:10.166217",
     "status": "completed"
    },
    "tags": []
   },
   "source": [
    "# Data visualization"
   ]
  },
  {
   "cell_type": "markdown",
   "id": "12",
   "metadata": {
    "papermill": {
     "duration": 0.053065,
     "end_time": "2025-06-14T06:17:10.319881",
     "exception": false,
     "start_time": "2025-06-14T06:17:10.266816",
     "status": "completed"
    },
    "tags": []
   },
   "source": [
    "Rush duel and Bandai cards are not included."
   ]
  },
  {
   "cell_type": "code",
   "execution_count": null,
   "id": "13",
   "metadata": {
    "papermill": {
     "duration": 0.278017,
     "end_time": "2025-06-14T06:17:10.650983",
     "exception": false,
     "start_time": "2025-06-14T06:17:10.372966",
     "status": "completed"
    },
    "tags": []
   },
   "outputs": [],
   "source": [
    "full_df"
   ]
  },
  {
   "cell_type": "markdown",
   "id": "14",
   "metadata": {
    "papermill": {
     "duration": 0.055032,
     "end_time": "2025-06-14T06:17:10.763751",
     "exception": false,
     "start_time": "2025-06-14T06:17:10.708719",
     "status": "completed"
    },
    "tags": []
   },
   "source": [
    "## Debut"
   ]
  },
  {
   "cell_type": "code",
   "execution_count": null,
   "id": "15",
   "metadata": {
    "papermill": {
     "duration": 0.187899,
     "end_time": "2025-06-14T06:17:11.004875",
     "exception": false,
     "start_time": "2025-06-14T06:17:10.816976",
     "status": "completed"
    },
    "tags": []
   },
   "outputs": [],
   "source": [
    "debut_counts = get_releases_by(full_df, column=None, operation=\"debut\").value_counts(sort=False).rename(\"All formats\")\n",
    "debut_counts.groupby(debut_counts.index.strftime(\"%Y\")).sum()"
   ]
  },
  {
   "cell_type": "code",
   "execution_count": null,
   "id": "16",
   "metadata": {
    "papermill": {
     "duration": 2.735201,
     "end_time": "2025-06-14T06:17:13.800357",
     "exception": false,
     "start_time": "2025-06-14T06:17:11.065156",
     "status": "completed"
    },
    "tags": []
   },
   "outputs": [],
   "source": [
    "_ = plot.rate(debut_counts, bg=anime_df, vlines=rules_df[\"begin\"], limit_year=True)\n",
    "plt.show()"
   ]
  },
  {
   "cell_type": "markdown",
   "id": "17",
   "metadata": {
    "papermill": {
     "duration": 0.062106,
     "end_time": "2025-06-14T06:17:13.941587",
     "exception": false,
     "start_time": "2025-06-14T06:17:13.879481",
     "status": "completed"
    },
    "tags": []
   },
   "source": [
    "### By Format"
   ]
  },
  {
   "cell_type": "markdown",
   "id": "18",
   "metadata": {
    "papermill": {
     "duration": 0.241404,
     "end_time": "2025-06-14T06:17:14.252381",
     "exception": false,
     "start_time": "2025-06-14T06:17:14.010977",
     "status": "completed"
    },
    "tags": []
   },
   "source": [
    "Monsters' debut per format"
   ]
  },
  {
   "cell_type": "code",
   "execution_count": null,
   "id": "19",
   "metadata": {
    "papermill": {
     "duration": 0.20074,
     "end_time": "2025-06-14T06:17:14.521791",
     "exception": false,
     "start_time": "2025-06-14T06:17:14.321051",
     "status": "completed"
    },
    "tags": []
   },
   "outputs": [],
   "source": [
    "full_df.groupby(\"Name\")[full_df.filter(regex=\"(?i)(debut)\").columns].min()"
   ]
  },
  {
   "cell_type": "markdown",
   "id": "20",
   "metadata": {
    "papermill": {
     "duration": 0.065926,
     "end_time": "2025-06-14T06:17:14.659368",
     "exception": false,
     "start_time": "2025-06-14T06:17:14.593442",
     "status": "completed"
    },
    "tags": []
   },
   "source": [
    "Debuts per date for each format"
   ]
  },
  {
   "cell_type": "code",
   "execution_count": null,
   "id": "21",
   "metadata": {
    "papermill": {
     "duration": 0.221408,
     "end_time": "2025-06-14T06:17:14.951281",
     "exception": false,
     "start_time": "2025-06-14T06:17:14.729873",
     "status": "completed"
    },
    "tags": []
   },
   "outputs": [],
   "source": [
    "format_debut_counts = (\n",
    "    full_df.groupby(\"Name\")[full_df.filter(regex=\"(?i)(debut)\").columns]\n",
    "    .min()\n",
    "    .melt(var_name=\"Format\", value_name=\"Debut\")\n",
    "    .value_counts()\n",
    "    .unstack(0)\n",
    "    .fillna(0)\n",
    "    .sort_index()\n",
    ")\n",
    "format_debut_counts.groupby(format_debut_counts.index.strftime(\"%Y\")).sum()"
   ]
  },
  {
   "cell_type": "code",
   "execution_count": null,
   "id": "22",
   "metadata": {
    "papermill": {
     "duration": 6.465835,
     "end_time": "2025-06-14T06:17:21.489828",
     "exception": false,
     "start_time": "2025-06-14T06:17:15.023993",
     "status": "completed"
    },
    "tags": []
   },
   "outputs": [],
   "source": [
    "_ = plot.rate(format_debut_counts, bg=anime_df, vlines=rules_df[\"begin\"], subplots=True)\n",
    "plt.show()"
   ]
  },
  {
   "cell_type": "markdown",
   "id": "23",
   "metadata": {
    "papermill": {
     "duration": 0.08963,
     "end_time": "2025-06-14T06:17:21.675110",
     "exception": false,
     "start_time": "2025-06-14T06:17:21.585480",
     "status": "completed"
    },
    "tags": []
   },
   "source": [
    "### By Region"
   ]
  },
  {
   "cell_type": "markdown",
   "id": "24",
   "metadata": {
    "papermill": {
     "duration": 0.09719,
     "end_time": "2025-06-14T06:17:21.871820",
     "exception": false,
     "start_time": "2025-06-14T06:17:21.774630",
     "status": "completed"
    },
    "tags": []
   },
   "source": [
    "Obs: Debut by region is taken from earliest release date in set lists. It may not be as accurate as card specific properties."
   ]
  },
  {
   "cell_type": "code",
   "execution_count": null,
   "id": "25",
   "metadata": {
    "papermill": {
     "duration": 0.432926,
     "end_time": "2025-06-14T06:17:22.627048",
     "exception": false,
     "start_time": "2025-06-14T06:17:22.194122",
     "status": "completed"
    },
    "tags": []
   },
   "outputs": [],
   "source": [
    "full_df.groupby([\"Region\", \"Name\"])[\"Release\"].min().unstack(0)"
   ]
  },
  {
   "cell_type": "markdown",
   "id": "26",
   "metadata": {
    "papermill": {
     "duration": 0.30176,
     "end_time": "2025-06-14T06:17:23.027702",
     "exception": false,
     "start_time": "2025-06-14T06:17:22.725942",
     "status": "completed"
    },
    "tags": []
   },
   "source": [
    "First releases per date"
   ]
  },
  {
   "cell_type": "code",
   "execution_count": null,
   "id": "27",
   "metadata": {
    "papermill": {
     "duration": 4.354456,
     "end_time": "2025-06-14T06:17:27.531806",
     "exception": false,
     "start_time": "2025-06-14T06:17:23.177350",
     "status": "completed"
    },
    "tags": []
   },
   "outputs": [],
   "source": [
    "region_debut_counts = get_releases_by(full_df, column=\"Region\", operation=\"first\", crosstab=True)\n",
    "region_debut_counts.groupby(region_debut_counts.index.strftime(\"%Y\")).sum()"
   ]
  },
  {
   "cell_type": "code",
   "execution_count": null,
   "id": "28",
   "metadata": {
    "papermill": {
     "duration": 29.929612,
     "end_time": "2025-06-14T06:17:57.558687",
     "exception": false,
     "start_time": "2025-06-14T06:17:27.629075",
     "status": "completed"
    },
    "tags": []
   },
   "outputs": [],
   "source": [
    "_ = plot.rate(\n",
    "    region_debut_counts,\n",
    "    bg=anime_df,\n",
    "    vlines=rules_df[\"begin\"],\n",
    "    subplots=True,\n",
    "    limit_year=True,\n",
    ")\n",
    "plt.show()"
   ]
  },
  {
   "cell_type": "markdown",
   "id": "29",
   "metadata": {
    "papermill": {
     "duration": 0.195871,
     "end_time": "2025-06-14T06:17:57.959358",
     "exception": false,
     "start_time": "2025-06-14T06:17:57.763487",
     "status": "completed"
    },
    "tags": []
   },
   "source": [
    "### By Card type"
   ]
  },
  {
   "cell_type": "code",
   "execution_count": null,
   "id": "30",
   "metadata": {
    "papermill": {
     "duration": 3.429574,
     "end_time": "2025-06-14T06:18:01.594992",
     "exception": false,
     "start_time": "2025-06-14T06:17:58.165418",
     "status": "completed"
    },
    "tags": []
   },
   "outputs": [],
   "source": [
    "ct_debut_counts = get_releases_by(full_df, column=\"Card type\", operation=\"debut\", crosstab=True)\n",
    "ct_debut_counts.groupby(ct_debut_counts.index.strftime(\"%Y\")).sum()"
   ]
  },
  {
   "cell_type": "code",
   "execution_count": null,
   "id": "31",
   "metadata": {
    "papermill": {
     "duration": 2.215543,
     "end_time": "2025-06-14T06:18:04.013066",
     "exception": false,
     "start_time": "2025-06-14T06:18:01.797523",
     "status": "completed"
    },
    "tags": []
   },
   "outputs": [],
   "source": [
    "_ct_debut_plot = ct_debut_counts[[\"Monster Card\", \"Spell Card\", \"Trap Card\", \"Skill Card\"]]\n",
    "_ct_colors = [plot.colors_dict[col] for col in _ct_debut_plot.columns]\n",
    "_ = plot.rate(\n",
    "    _ct_debut_plot,\n",
    "    colors=_ct_colors,\n",
    "    bg=anime_df,\n",
    "    vlines=rules_df[\"begin\"],\n",
    "    subplots=False,\n",
    "    limit_year=True,\n",
    ")"
   ]
  },
  {
   "cell_type": "markdown",
   "id": "32",
   "metadata": {
    "papermill": {
     "duration": 0.215696,
     "end_time": "2025-06-14T06:18:04.452490",
     "exception": false,
     "start_time": "2025-06-14T06:18:04.236794",
     "status": "completed"
    },
    "tags": []
   },
   "source": [
    "### By Primary type"
   ]
  },
  {
   "cell_type": "code",
   "execution_count": null,
   "id": "33",
   "metadata": {
    "papermill": {
     "duration": 3.539498,
     "end_time": "2025-06-14T06:18:08.207274",
     "exception": false,
     "start_time": "2025-06-14T06:18:04.667776",
     "status": "completed"
    },
    "tags": []
   },
   "outputs": [],
   "source": [
    "pt_debut_counts = get_releases_by(full_df, column=\"Primary type\", operation=\"debut\", crosstab=True)\n",
    "pt_debut_counts.groupby(pt_debut_counts.index.strftime(\"%Y\")).sum()"
   ]
  },
  {
   "cell_type": "code",
   "execution_count": null,
   "id": "34",
   "metadata": {
    "papermill": {
     "duration": 2.344566,
     "end_time": "2025-06-14T06:18:10.772225",
     "exception": false,
     "start_time": "2025-06-14T06:18:08.427659",
     "status": "completed"
    },
    "tags": []
   },
   "outputs": [],
   "source": [
    "_pt_colors = [plot.colors_dict[col] for col in pt_debut_counts.columns]\n",
    "_ = plot.rate(\n",
    "    pt_debut_counts,\n",
    "    colors=_pt_colors,\n",
    "    bg=anime_df,\n",
    "    vlines=rules_df[\"begin\"],\n",
    "    subplots=False,\n",
    "    limit_year=True,\n",
    ")"
   ]
  },
  {
   "cell_type": "markdown",
   "id": "35",
   "metadata": {
    "papermill": {
     "duration": 0.239804,
     "end_time": "2025-06-14T06:18:11.248399",
     "exception": false,
     "start_time": "2025-06-14T06:18:11.008595",
     "status": "completed"
    },
    "tags": []
   },
   "source": [
    "### By Secondary type"
   ]
  },
  {
   "cell_type": "code",
   "execution_count": null,
   "id": "36",
   "metadata": {
    "papermill": {
     "duration": 3.992047,
     "end_time": "2025-06-14T06:18:15.481246",
     "exception": false,
     "start_time": "2025-06-14T06:18:11.489199",
     "status": "completed"
    },
    "tags": []
   },
   "outputs": [],
   "source": [
    "st_debut_counts = get_releases_by(full_df, \"Secondary type\", operation=\"debut\", crosstab=True)\n",
    "st_debut_counts.groupby(st_debut_counts.index.strftime(\"%Y\")).sum()"
   ]
  },
  {
   "cell_type": "code",
   "execution_count": null,
   "id": "37",
   "metadata": {
    "papermill": {
     "duration": 15.664779,
     "end_time": "2025-06-14T06:18:31.383902",
     "exception": false,
     "start_time": "2025-06-14T06:18:15.719123",
     "status": "completed"
    },
    "tags": []
   },
   "outputs": [],
   "source": [
    "_ = plot.rate(\n",
    "    st_debut_counts,\n",
    "    bg=anime_df,\n",
    "    vlines=rules_df[\"begin\"],\n",
    "    subplots=True,\n",
    "    limit_year=True,\n",
    ")"
   ]
  },
  {
   "cell_type": "markdown",
   "id": "38",
   "metadata": {
    "papermill": {
     "duration": 0.351038,
     "end_time": "2025-06-14T06:18:32.071454",
     "exception": false,
     "start_time": "2025-06-14T06:18:31.720416",
     "status": "completed"
    },
    "tags": []
   },
   "source": [
    "### By Attribute"
   ]
  },
  {
   "cell_type": "code",
   "execution_count": null,
   "id": "39",
   "metadata": {
    "papermill": {
     "duration": 3.687196,
     "end_time": "2025-06-14T06:18:36.036748",
     "exception": false,
     "start_time": "2025-06-14T06:18:32.349552",
     "status": "completed"
    },
    "tags": []
   },
   "outputs": [],
   "source": [
    "att_debut_counts = get_releases_by(full_df, column=\"Attribute\", operation=\"debut\", crosstab=True)\n",
    "att_debut_counts.groupby(att_debut_counts.index.strftime(\"%Y\")).sum()"
   ]
  },
  {
   "cell_type": "code",
   "execution_count": null,
   "id": "40",
   "metadata": {
    "papermill": {
     "duration": 2.87859,
     "end_time": "2025-06-14T06:18:39.244276",
     "exception": false,
     "start_time": "2025-06-14T06:18:36.365686",
     "status": "completed"
    },
    "tags": []
   },
   "outputs": [],
   "source": [
    "attribute_colors = [plot.colors_dict[col] for col in att_debut_counts.columns]\n",
    "_ = plot.rate(\n",
    "    att_debut_counts,\n",
    "    colors=attribute_colors,\n",
    "    bg=anime_df,\n",
    "    vlines=rules_df[\"begin\"],\n",
    "    subplots=False,\n",
    "    limit_year=True,\n",
    ")"
   ]
  },
  {
   "cell_type": "markdown",
   "id": "41",
   "metadata": {
    "papermill": {
     "duration": 0.349403,
     "end_time": "2025-06-14T06:18:39.977231",
     "exception": false,
     "start_time": "2025-06-14T06:18:39.627828",
     "status": "completed"
    },
    "tags": []
   },
   "source": [
    "### By Monster type"
   ]
  },
  {
   "cell_type": "code",
   "execution_count": null,
   "id": "42",
   "metadata": {
    "papermill": {
     "duration": 3.854075,
     "end_time": "2025-06-14T06:18:44.147926",
     "exception": false,
     "start_time": "2025-06-14T06:18:40.293851",
     "status": "completed"
    },
    "tags": []
   },
   "outputs": [],
   "source": [
    "mt_debut_counts = get_releases_by(full_df, column=\"Monster type\", operation=\"debut\", crosstab=True)\n",
    "mt_debut_counts.groupby(mt_debut_counts.index.strftime(\"%Y\")).sum()"
   ]
  },
  {
   "cell_type": "code",
   "execution_count": null,
   "id": "43",
   "metadata": {
    "papermill": {
     "duration": 65.811826,
     "end_time": "2025-06-14T06:19:50.330623",
     "exception": false,
     "start_time": "2025-06-14T06:18:44.518797",
     "status": "completed"
    },
    "tags": []
   },
   "outputs": [],
   "source": [
    "_ = plot.rate(mt_debut_counts, bg=anime_df, vlines=rules_df[\"begin\"], subplots=True, limit_year=True)"
   ]
  },
  {
   "cell_type": "markdown",
   "id": "44",
   "metadata": {
    "papermill": {
     "duration": 0.512306,
     "end_time": "2025-06-14T06:19:51.368901",
     "exception": false,
     "start_time": "2025-06-14T06:19:50.856595",
     "status": "completed"
    },
    "tags": []
   },
   "source": [
    "### By Level/Rank"
   ]
  },
  {
   "cell_type": "code",
   "execution_count": null,
   "id": "45",
   "metadata": {
    "papermill": {
     "duration": 3.107247,
     "end_time": "2025-06-14T06:19:54.999598",
     "exception": false,
     "start_time": "2025-06-14T06:19:51.892351",
     "status": "completed"
    },
    "tags": []
   },
   "outputs": [],
   "source": [
    "level_debut = get_releases_by(\n",
    "    full_df[(full_df[\"Card type\"] != \"Non-game card\") & (full_df[\"Primary type\"] != \"Link Monster\")],\n",
    "    column=\"Level/Rank/Link\",\n",
    "    operation=\"debut\",\n",
    "    crosstab=False,\n",
    ")\n",
    "level_debut.groupby(level_debut[\"Debut\"].dt.year)[\"Level/Rank/Link\"].describe()"
   ]
  },
  {
   "cell_type": "code",
   "execution_count": null,
   "id": "46",
   "metadata": {
    "papermill": {
     "duration": 1.525851,
     "end_time": "2025-06-14T06:19:57.036719",
     "exception": false,
     "start_time": "2025-06-14T06:19:55.510868",
     "status": "completed"
    },
    "tags": []
   },
   "outputs": [],
   "source": [
    "_ = plot.box(\n",
    "    level_debut,\n",
    "    color=plot.colors_dict[\"Effect Monster\"],\n",
    "    notch=True,\n",
    ")\n",
    "plt.show()"
   ]
  },
  {
   "cell_type": "markdown",
   "id": "47",
   "metadata": {
    "papermill": {
     "duration": 0.502217,
     "end_time": "2025-06-14T06:19:58.066199",
     "exception": false,
     "start_time": "2025-06-14T06:19:57.563982",
     "status": "completed"
    },
    "tags": []
   },
   "source": [
    "### By Pendulum scale"
   ]
  },
  {
   "cell_type": "code",
   "execution_count": null,
   "id": "48",
   "metadata": {
    "papermill": {
     "duration": 5.021586,
     "end_time": "2025-06-14T06:20:03.642950",
     "exception": false,
     "start_time": "2025-06-14T06:19:58.621364",
     "status": "completed"
    },
    "tags": []
   },
   "outputs": [],
   "source": [
    "pendulum_debut = get_releases_by(\n",
    "    full_df[(full_df[\"Card type\"] != \"Non-game card\")], column=\"Pendulum Scale\", operation=\"debut\", crosstab=False\n",
    ")\n",
    "pendulum_debut.groupby(pendulum_debut[\"Debut\"].dt.year)[\"Pendulum Scale\"].describe()"
   ]
  },
  {
   "cell_type": "code",
   "execution_count": null,
   "id": "49",
   "metadata": {
    "papermill": {
     "duration": 0.890712,
     "end_time": "2025-06-14T06:20:05.046063",
     "exception": false,
     "start_time": "2025-06-14T06:20:04.155351",
     "status": "completed"
    },
    "tags": []
   },
   "outputs": [],
   "source": [
    "_ = plot.box(\n",
    "    pendulum_debut,\n",
    "    color=plot.colors_dict[\"Spell Card\"],\n",
    "    notch=True,\n",
    ")\n",
    "plt.show()"
   ]
  },
  {
   "cell_type": "markdown",
   "id": "50",
   "metadata": {
    "papermill": {
     "duration": 0.514936,
     "end_time": "2025-06-14T06:20:06.141375",
     "exception": false,
     "start_time": "2025-06-14T06:20:05.626439",
     "status": "completed"
    },
    "tags": []
   },
   "source": [
    "### By Link"
   ]
  },
  {
   "cell_type": "code",
   "execution_count": null,
   "id": "51",
   "metadata": {
    "papermill": {
     "duration": 0.784481,
     "end_time": "2025-06-14T06:20:07.479376",
     "exception": false,
     "start_time": "2025-06-14T06:20:06.694895",
     "status": "completed"
    },
    "tags": []
   },
   "outputs": [],
   "source": [
    "link_debut = get_releases_by(\n",
    "    full_df[(full_df[\"Card type\"] != \"Non-game card\") & (full_df[\"Primary type\"] == \"Link Monster\")],\n",
    "    column=\"Level/Rank/Link\",\n",
    "    operation=\"debut\",\n",
    "    crosstab=False,\n",
    ")\n",
    "link_debut.groupby(link_debut[\"Debut\"].dt.year)[\"Level/Rank/Link\"].describe()"
   ]
  },
  {
   "cell_type": "code",
   "execution_count": null,
   "id": "52",
   "metadata": {
    "papermill": {
     "duration": 0.846855,
     "end_time": "2025-06-14T06:20:09.025799",
     "exception": false,
     "start_time": "2025-06-14T06:20:08.178944",
     "status": "completed"
    },
    "tags": []
   },
   "outputs": [],
   "source": [
    "_ = plot.box(\n",
    "    link_debut,\n",
    "    color=plot.colors_dict[\"Link Monster\"],\n",
    "    notch=True,\n",
    ")\n",
    "plt.show()"
   ]
  },
  {
   "cell_type": "markdown",
   "id": "53",
   "metadata": {
    "papermill": {
     "duration": 0.505791,
     "end_time": "2025-06-14T06:20:10.121908",
     "exception": false,
     "start_time": "2025-06-14T06:20:09.616117",
     "status": "completed"
    },
    "tags": []
   },
   "source": [
    "### By ATK"
   ]
  },
  {
   "cell_type": "code",
   "execution_count": null,
   "id": "54",
   "metadata": {
    "papermill": {
     "duration": 4.410409,
     "end_time": "2025-06-14T06:20:15.191388",
     "exception": false,
     "start_time": "2025-06-14T06:20:10.780979",
     "status": "completed"
    },
    "tags": []
   },
   "outputs": [],
   "source": [
    "atk_debut = get_releases_by(\n",
    "    full_df[(full_df[\"Card type\"] != \"Non-game card\")], column=\"ATK\", operation=\"debut\", crosstab=False\n",
    ")\n",
    "atk_debut.groupby(atk_debut[\"Debut\"].dt.year)[\"ATK\"].describe()"
   ]
  },
  {
   "cell_type": "code",
   "execution_count": null,
   "id": "55",
   "metadata": {
    "papermill": {
     "duration": 1.338589,
     "end_time": "2025-06-14T06:20:17.046906",
     "exception": false,
     "start_time": "2025-06-14T06:20:15.708317",
     "status": "completed"
    },
    "tags": []
   },
   "outputs": [],
   "source": [
    "_ = plot.box(\n",
    "    atk_debut,\n",
    "    color=plot.colors_dict[\"Effect Monster\"],\n",
    "    notch=True,\n",
    ")\n",
    "plt.show()"
   ]
  },
  {
   "cell_type": "markdown",
   "id": "56",
   "metadata": {
    "papermill": {
     "duration": 0.599279,
     "end_time": "2025-06-14T06:20:18.298701",
     "exception": false,
     "start_time": "2025-06-14T06:20:17.699422",
     "status": "completed"
    },
    "tags": []
   },
   "source": [
    "### By DEF"
   ]
  },
  {
   "cell_type": "code",
   "execution_count": null,
   "id": "57",
   "metadata": {
    "papermill": {
     "duration": 4.442153,
     "end_time": "2025-06-14T06:20:23.318805",
     "exception": false,
     "start_time": "2025-06-14T06:20:18.876652",
     "status": "completed"
    },
    "tags": []
   },
   "outputs": [],
   "source": [
    "def_debut = get_releases_by(\n",
    "    full_df[(full_df[\"Card type\"] != \"Non-game card\")], column=\"DEF\", operation=\"debut\", crosstab=False\n",
    ")\n",
    "def_debut.groupby(def_debut[\"Debut\"].dt.year)[\"DEF\"].describe()"
   ]
  },
  {
   "cell_type": "code",
   "execution_count": null,
   "id": "58",
   "metadata": {
    "papermill": {
     "duration": 1.324673,
     "end_time": "2025-06-14T06:20:25.170669",
     "exception": false,
     "start_time": "2025-06-14T06:20:23.845996",
     "status": "completed"
    },
    "tags": []
   },
   "outputs": [],
   "source": [
    "_ = plot.box(\n",
    "    def_debut,\n",
    "    color=plot.colors_dict[\"Effect Monster\"],\n",
    "    notch=True,\n",
    ")\n",
    "plt.show()"
   ]
  },
  {
   "cell_type": "markdown",
   "id": "59",
   "metadata": {
    "papermill": {
     "duration": 0.524241,
     "end_time": "2025-06-14T06:20:26.225552",
     "exception": false,
     "start_time": "2025-06-14T06:20:25.701311",
     "status": "completed"
    },
    "tags": []
   },
   "source": [
    "## Last release"
   ]
  },
  {
   "cell_type": "markdown",
   "id": "60",
   "metadata": {
    "papermill": {
     "duration": 0.618862,
     "end_time": "2025-06-14T06:20:27.428836",
     "exception": false,
     "start_time": "2025-06-14T06:20:26.809974",
     "status": "completed"
    },
    "tags": []
   },
   "source": [
    "Obs: Only the last release of an individual card name"
   ]
  },
  {
   "cell_type": "code",
   "execution_count": null,
   "id": "61",
   "metadata": {
    "papermill": {
     "duration": 1.346005,
     "end_time": "2025-06-14T06:20:29.379048",
     "exception": false,
     "start_time": "2025-06-14T06:20:28.033043",
     "status": "completed"
    },
    "tags": []
   },
   "outputs": [],
   "source": [
    "last_counts = get_releases_by(full_df, column=None, operation=\"last\").value_counts(sort=False).rename(\"All formats\")\n",
    "last_counts.groupby(last_counts.index.strftime(\"%Y\")).sum()"
   ]
  },
  {
   "cell_type": "code",
   "execution_count": null,
   "id": "62",
   "metadata": {
    "papermill": {
     "duration": 4.277225,
     "end_time": "2025-06-14T06:20:34.200091",
     "exception": false,
     "start_time": "2025-06-14T06:20:29.922866",
     "status": "completed"
    },
    "tags": []
   },
   "outputs": [],
   "source": [
    "_ = plot.rate(last_counts, bg=anime_df, vlines=rules_df[\"begin\"], limit_year=True)\n",
    "plt.show()"
   ]
  },
  {
   "cell_type": "markdown",
   "id": "63",
   "metadata": {
    "papermill": {
     "duration": 0.563673,
     "end_time": "2025-06-14T06:20:35.297979",
     "exception": false,
     "start_time": "2025-06-14T06:20:34.734306",
     "status": "completed"
    },
    "tags": []
   },
   "source": [
    "### By Region"
   ]
  },
  {
   "cell_type": "code",
   "execution_count": null,
   "id": "64",
   "metadata": {
    "papermill": {
     "duration": 0.768834,
     "end_time": "2025-06-14T06:20:36.616935",
     "exception": false,
     "start_time": "2025-06-14T06:20:35.848101",
     "status": "completed"
    },
    "tags": []
   },
   "outputs": [],
   "source": [
    "full_df.groupby([\"Region\", \"Name\"])[\"Release\"].max().unstack(0)"
   ]
  },
  {
   "cell_type": "markdown",
   "id": "65",
   "metadata": {
    "papermill": {
     "duration": 0.563486,
     "end_time": "2025-06-14T06:20:37.776252",
     "exception": false,
     "start_time": "2025-06-14T06:20:37.212766",
     "status": "completed"
    },
    "tags": []
   },
   "source": [
    "Last releases by date"
   ]
  },
  {
   "cell_type": "code",
   "execution_count": null,
   "id": "66",
   "metadata": {
    "papermill": {
     "duration": 4.551765,
     "end_time": "2025-06-14T06:20:42.898088",
     "exception": false,
     "start_time": "2025-06-14T06:20:38.346323",
     "status": "completed"
    },
    "tags": []
   },
   "outputs": [],
   "source": [
    "region_last_counts = get_releases_by(full_df, column=\"Region\", operation=\"last\", crosstab=True)\n",
    "region_last_counts.groupby(region_last_counts.index.strftime(\"%Y\")).sum()"
   ]
  },
  {
   "cell_type": "code",
   "execution_count": null,
   "id": "67",
   "metadata": {
    "papermill": {
     "duration": 31.660347,
     "end_time": "2025-06-14T06:21:15.091620",
     "exception": false,
     "start_time": "2025-06-14T06:20:43.431273",
     "status": "completed"
    },
    "tags": []
   },
   "outputs": [],
   "source": [
    "_ = plot.rate(region_last_counts, bg=anime_df, vlines=rules_df[\"begin\"], subplots=True)\n",
    "plt.show()"
   ]
  },
  {
   "cell_type": "markdown",
   "id": "68",
   "metadata": {
    "papermill": {
     "duration": 0.656501,
     "end_time": "2025-06-14T06:21:16.405784",
     "exception": false,
     "start_time": "2025-06-14T06:21:15.749283",
     "status": "completed"
    },
    "tags": []
   },
   "source": [
    "### By Card type"
   ]
  },
  {
   "cell_type": "code",
   "execution_count": null,
   "id": "69",
   "metadata": {
    "papermill": {
     "duration": 4.845895,
     "end_time": "2025-06-14T06:21:21.919014",
     "exception": false,
     "start_time": "2025-06-14T06:21:17.073119",
     "status": "completed"
    },
    "tags": []
   },
   "outputs": [],
   "source": [
    "ct_last_counts = get_releases_by(full_df, column=\"Card type\", operation=\"last\", crosstab=True)\n",
    "ct_last_counts.groupby(ct_last_counts.index.strftime(\"%Y\")).sum()"
   ]
  },
  {
   "cell_type": "code",
   "execution_count": null,
   "id": "70",
   "metadata": {
    "papermill": {
     "duration": 2.728203,
     "end_time": "2025-06-14T06:21:25.304258",
     "exception": false,
     "start_time": "2025-06-14T06:21:22.576055",
     "status": "completed"
    },
    "tags": []
   },
   "outputs": [],
   "source": [
    "_ct_last_plot = ct_last_counts[[\"Monster Card\", \"Spell Card\", \"Trap Card\", \"Skill Card\"]]\n",
    "_ct_colors = [plot.colors_dict[col] for col in _ct_last_plot.columns]\n",
    "_ = plot.rate(\n",
    "    _ct_last_plot,\n",
    "    colors=_ct_colors,\n",
    "    bg=anime_df,\n",
    "    vlines=rules_df[\"begin\"],\n",
    "    subplots=False,\n",
    "    limit_year=True,\n",
    ")"
   ]
  },
  {
   "cell_type": "markdown",
   "id": "71",
   "metadata": {
    "papermill": {
     "duration": 0.661597,
     "end_time": "2025-06-14T06:21:26.624677",
     "exception": false,
     "start_time": "2025-06-14T06:21:25.963080",
     "status": "completed"
    },
    "tags": []
   },
   "source": [
    "### By Primary type"
   ]
  },
  {
   "cell_type": "code",
   "execution_count": null,
   "id": "72",
   "metadata": {
    "papermill": {
     "duration": 4.339978,
     "end_time": "2025-06-14T06:21:31.697614",
     "exception": false,
     "start_time": "2025-06-14T06:21:27.357636",
     "status": "completed"
    },
    "tags": []
   },
   "outputs": [],
   "source": [
    "pt_last_counts = get_releases_by(full_df, column=\"Primary type\", operation=\"last\", crosstab=True)\n",
    "pt_last_counts.groupby(pt_last_counts.index.strftime(\"%Y\")).sum()"
   ]
  },
  {
   "cell_type": "code",
   "execution_count": null,
   "id": "73",
   "metadata": {
    "papermill": {
     "duration": 2.810895,
     "end_time": "2025-06-14T06:21:35.178836",
     "exception": false,
     "start_time": "2025-06-14T06:21:32.367941",
     "status": "completed"
    },
    "tags": []
   },
   "outputs": [],
   "source": [
    "_pt_colors = [plot.colors_dict[col] for col in pt_last_counts.columns]\n",
    "_ = plot.rate(\n",
    "    pt_last_counts,\n",
    "    colors=_pt_colors,\n",
    "    bg=anime_df,\n",
    "    vlines=rules_df[\"begin\"],\n",
    "    subplots=False,\n",
    "    limit_year=True,\n",
    ")"
   ]
  },
  {
   "cell_type": "markdown",
   "id": "74",
   "metadata": {
    "papermill": {
     "duration": 0.728829,
     "end_time": "2025-06-14T06:21:36.605572",
     "exception": false,
     "start_time": "2025-06-14T06:21:35.876743",
     "status": "completed"
    },
    "tags": []
   },
   "source": [
    "### By Secondary type"
   ]
  },
  {
   "cell_type": "code",
   "execution_count": null,
   "id": "75",
   "metadata": {
    "papermill": {
     "duration": 5.353147,
     "end_time": "2025-06-14T06:21:42.694557",
     "exception": false,
     "start_time": "2025-06-14T06:21:37.341410",
     "status": "completed"
    },
    "tags": []
   },
   "outputs": [],
   "source": [
    "st_last_counts = get_releases_by(full_df, column=\"Secondary type\", operation=\"last\", crosstab=True)\n",
    "st_last_counts.groupby(st_last_counts.index.strftime(\"%Y\")).sum()"
   ]
  },
  {
   "cell_type": "code",
   "execution_count": null,
   "id": "76",
   "metadata": {
    "papermill": {
     "duration": 16.011563,
     "end_time": "2025-06-14T06:21:59.380678",
     "exception": false,
     "start_time": "2025-06-14T06:21:43.369115",
     "status": "completed"
    },
    "tags": []
   },
   "outputs": [],
   "source": [
    "_ = plot.rate(\n",
    "    st_last_counts,\n",
    "    bg=anime_df,\n",
    "    vlines=rules_df[\"begin\"],\n",
    "    subplots=True,\n",
    "    limit_year=True,\n",
    ")"
   ]
  },
  {
   "cell_type": "markdown",
   "id": "77",
   "metadata": {
    "papermill": {
     "duration": 0.773929,
     "end_time": "2025-06-14T06:22:00.921198",
     "exception": false,
     "start_time": "2025-06-14T06:22:00.147269",
     "status": "completed"
    },
    "tags": []
   },
   "source": [
    "### By Attribute"
   ]
  },
  {
   "cell_type": "code",
   "execution_count": null,
   "id": "78",
   "metadata": {
    "papermill": {
     "duration": 4.43369,
     "end_time": "2025-06-14T06:22:06.139281",
     "exception": false,
     "start_time": "2025-06-14T06:22:01.705591",
     "status": "completed"
    },
    "tags": []
   },
   "outputs": [],
   "source": [
    "att_last_counts = get_releases_by(full_df, column=\"Attribute\", operation=\"last\", crosstab=True)\n",
    "att_last_counts.groupby(att_last_counts.index.strftime(\"%Y\")).sum()"
   ]
  },
  {
   "cell_type": "code",
   "execution_count": null,
   "id": "79",
   "metadata": {
    "papermill": {
     "duration": 2.888829,
     "end_time": "2025-06-14T06:22:09.821597",
     "exception": false,
     "start_time": "2025-06-14T06:22:06.932768",
     "status": "completed"
    },
    "tags": []
   },
   "outputs": [],
   "source": [
    "attribute_colors = [plot.colors_dict[col] for col in att_last_counts.columns]\n",
    "_ = plot.rate(\n",
    "    att_last_counts,\n",
    "    colors=attribute_colors,\n",
    "    bg=anime_df,\n",
    "    vlines=rules_df[\"begin\"],\n",
    "    subplots=False,\n",
    "    limit_year=True,\n",
    ")"
   ]
  },
  {
   "cell_type": "markdown",
   "id": "80",
   "metadata": {
    "papermill": {
     "duration": 0.793664,
     "end_time": "2025-06-14T06:22:11.367971",
     "exception": false,
     "start_time": "2025-06-14T06:22:10.574307",
     "status": "completed"
    },
    "tags": []
   },
   "source": [
    "### By Monster type"
   ]
  },
  {
   "cell_type": "code",
   "execution_count": null,
   "id": "81",
   "metadata": {
    "papermill": {
     "duration": 4.576633,
     "end_time": "2025-06-14T06:22:16.690584",
     "exception": false,
     "start_time": "2025-06-14T06:22:12.113951",
     "status": "completed"
    },
    "tags": []
   },
   "outputs": [],
   "source": [
    "mt_last_counts = get_releases_by(full_df, column=\"Monster type\", operation=\"last\", crosstab=True)\n",
    "mt_last_counts.groupby(mt_last_counts.index.strftime(\"%Y\")).sum()"
   ]
  },
  {
   "cell_type": "code",
   "execution_count": null,
   "id": "82",
   "metadata": {
    "papermill": {
     "duration": 67.56766,
     "end_time": "2025-06-14T06:23:25.057170",
     "exception": false,
     "start_time": "2025-06-14T06:22:17.489510",
     "status": "completed"
    },
    "tags": []
   },
   "outputs": [],
   "source": [
    "_ = plot.rate(\n",
    "    mt_last_counts,\n",
    "    title=\"Debut\",\n",
    "    bg=anime_df,\n",
    "    vlines=rules_df[\"begin\"],\n",
    "    subplots=True,\n",
    "    limit_year=True,\n",
    ")"
   ]
  },
  {
   "cell_type": "markdown",
   "id": "83",
   "metadata": {
    "papermill": {
     "duration": 0.929975,
     "end_time": "2025-06-14T06:23:26.927482",
     "exception": false,
     "start_time": "2025-06-14T06:23:25.997507",
     "status": "completed"
    },
    "tags": []
   },
   "source": [
    "### By Level/Rank"
   ]
  },
  {
   "cell_type": "code",
   "execution_count": null,
   "id": "84",
   "metadata": {
    "papermill": {
     "duration": 3.92434,
     "end_time": "2025-06-14T06:23:31.797551",
     "exception": false,
     "start_time": "2025-06-14T06:23:27.873211",
     "status": "completed"
    },
    "tags": []
   },
   "outputs": [],
   "source": [
    "level_last = get_releases_by(\n",
    "    full_df[(full_df[\"Card type\"] != \"Non-game card\") & (full_df[\"Primary type\"] != \"Link Monster\")],\n",
    "    column=\"Level/Rank/Link\",\n",
    "    operation=\"last\",\n",
    "    crosstab=False,\n",
    ")\n",
    "level_last.groupby(level_last[\"Last release\"].dt.year)[\"Level/Rank/Link\"].describe()"
   ]
  },
  {
   "cell_type": "code",
   "execution_count": null,
   "id": "85",
   "metadata": {
    "papermill": {
     "duration": 1.632807,
     "end_time": "2025-06-14T06:23:34.403919",
     "exception": false,
     "start_time": "2025-06-14T06:23:32.771112",
     "status": "completed"
    },
    "tags": []
   },
   "outputs": [],
   "source": [
    "_ = plot.box(\n",
    "    level_last,\n",
    "    color=plot.colors_dict[\"Effect Monster\"],\n",
    "    notch=True,\n",
    ")\n",
    "plt.show()"
   ]
  },
  {
   "cell_type": "markdown",
   "id": "86",
   "metadata": {
    "papermill": {
     "duration": 0.93621,
     "end_time": "2025-06-14T06:23:36.320049",
     "exception": false,
     "start_time": "2025-06-14T06:23:35.383839",
     "status": "completed"
    },
    "tags": []
   },
   "source": [
    "### By Pendulum scale"
   ]
  },
  {
   "cell_type": "code",
   "execution_count": null,
   "id": "87",
   "metadata": {
    "papermill": {
     "duration": 5.254398,
     "end_time": "2025-06-14T06:23:42.552247",
     "exception": false,
     "start_time": "2025-06-14T06:23:37.297849",
     "status": "completed"
    },
    "tags": []
   },
   "outputs": [],
   "source": [
    "pendulum_last = get_releases_by(\n",
    "    full_df[(full_df[\"Card type\"] != \"Non-game card\")], column=\"Pendulum Scale\", operation=\"last\", crosstab=False\n",
    ")\n",
    "pendulum_last.groupby(pendulum_last[\"Last release\"].dt.year)[\"Pendulum Scale\"].describe()"
   ]
  },
  {
   "cell_type": "code",
   "execution_count": null,
   "id": "88",
   "metadata": {
    "papermill": {
     "duration": 1.316281,
     "end_time": "2025-06-14T06:23:44.817754",
     "exception": false,
     "start_time": "2025-06-14T06:23:43.501473",
     "status": "completed"
    },
    "tags": []
   },
   "outputs": [],
   "source": [
    "_ = plot.box(\n",
    "    pendulum_last,\n",
    "    color=plot.colors_dict[\"Spell Card\"],\n",
    "    notch=True,\n",
    ")\n",
    "plt.show()"
   ]
  },
  {
   "cell_type": "markdown",
   "id": "89",
   "metadata": {
    "papermill": {
     "duration": 1.074847,
     "end_time": "2025-06-14T06:23:46.850452",
     "exception": false,
     "start_time": "2025-06-14T06:23:45.775605",
     "status": "completed"
    },
    "tags": []
   },
   "source": [
    "### By Link"
   ]
  },
  {
   "cell_type": "code",
   "execution_count": null,
   "id": "90",
   "metadata": {
    "papermill": {
     "duration": 1.197097,
     "end_time": "2025-06-14T06:23:49.057001",
     "exception": false,
     "start_time": "2025-06-14T06:23:47.859904",
     "status": "completed"
    },
    "tags": []
   },
   "outputs": [],
   "source": [
    "link_last = get_releases_by(\n",
    "    full_df[(full_df[\"Card type\"] != \"Non-game card\") & (full_df[\"Primary type\"] == \"Link Monster\")],\n",
    "    column=\"Level/Rank/Link\",\n",
    "    operation=\"last\",\n",
    "    crosstab=False,\n",
    ")\n",
    "link_last.groupby(link_last[\"Last release\"].dt.year)[\"Level/Rank/Link\"].describe()"
   ]
  },
  {
   "cell_type": "code",
   "execution_count": null,
   "id": "91",
   "metadata": {
    "papermill": {
     "duration": 1.302043,
     "end_time": "2025-06-14T06:23:51.362436",
     "exception": false,
     "start_time": "2025-06-14T06:23:50.060393",
     "status": "completed"
    },
    "tags": []
   },
   "outputs": [],
   "source": [
    "_ = plot.box(\n",
    "    link_last,\n",
    "    color=plot.colors_dict[\"Link Monster\"],\n",
    "    notch=True,\n",
    ")\n",
    "plt.show()"
   ]
  },
  {
   "cell_type": "markdown",
   "id": "92",
   "metadata": {
    "papermill": {
     "duration": 0.93119,
     "end_time": "2025-06-14T06:23:53.265202",
     "exception": false,
     "start_time": "2025-06-14T06:23:52.334012",
     "status": "completed"
    },
    "tags": []
   },
   "source": [
    "### By ATK"
   ]
  },
  {
   "cell_type": "code",
   "execution_count": null,
   "id": "93",
   "metadata": {
    "papermill": {
     "duration": 5.600758,
     "end_time": "2025-06-14T06:23:59.815816",
     "exception": false,
     "start_time": "2025-06-14T06:23:54.215058",
     "status": "completed"
    },
    "tags": []
   },
   "outputs": [],
   "source": [
    "atk_last = get_releases_by(\n",
    "    full_df[(full_df[\"Card type\"] != \"Non-game card\")], column=\"ATK\", operation=\"last\", crosstab=False\n",
    ")\n",
    "atk_last.groupby(atk_last[\"Last release\"].dt.year)[\"ATK\"].describe()"
   ]
  },
  {
   "cell_type": "code",
   "execution_count": null,
   "id": "94",
   "metadata": {
    "papermill": {
     "duration": 1.80101,
     "end_time": "2025-06-14T06:24:02.650516",
     "exception": false,
     "start_time": "2025-06-14T06:24:00.849506",
     "status": "completed"
    },
    "tags": []
   },
   "outputs": [],
   "source": [
    "_ = plot.box(\n",
    "    atk_last,\n",
    "    color=plot.colors_dict[\"Effect Monster\"],\n",
    "    notch=True,\n",
    ")\n",
    "plt.show()"
   ]
  },
  {
   "cell_type": "markdown",
   "id": "95",
   "metadata": {
    "papermill": {
     "duration": 0.942598,
     "end_time": "2025-06-14T06:24:04.549840",
     "exception": false,
     "start_time": "2025-06-14T06:24:03.607242",
     "status": "completed"
    },
    "tags": []
   },
   "source": [
    "### By DEF"
   ]
  },
  {
   "cell_type": "code",
   "execution_count": null,
   "id": "96",
   "metadata": {
    "papermill": {
     "duration": 5.275512,
     "end_time": "2025-06-14T06:24:10.821150",
     "exception": false,
     "start_time": "2025-06-14T06:24:05.545638",
     "status": "completed"
    },
    "tags": []
   },
   "outputs": [],
   "source": [
    "def_last = get_releases_by(\n",
    "    full_df[(full_df[\"Card type\"] != \"Non-game card\")], column=\"DEF\", operation=\"last\", crosstab=False\n",
    ")\n",
    "def_last.groupby(def_last[\"Last release\"].dt.year)[\"DEF\"].describe()"
   ]
  },
  {
   "cell_type": "code",
   "execution_count": null,
   "id": "97",
   "metadata": {
    "papermill": {
     "duration": 1.706415,
     "end_time": "2025-06-14T06:24:13.498178",
     "exception": false,
     "start_time": "2025-06-14T06:24:11.791763",
     "status": "completed"
    },
    "tags": []
   },
   "outputs": [],
   "source": [
    "_ = plot.box(\n",
    "    def_last,\n",
    "    color=plot.colors_dict[\"Effect Monster\"],\n",
    "    notch=True,\n",
    ")\n",
    "plt.show()"
   ]
  },
  {
   "cell_type": "markdown",
   "id": "98",
   "metadata": {
    "papermill": {
     "duration": 0.957235,
     "end_time": "2025-06-14T06:24:15.439481",
     "exception": false,
     "start_time": "2025-06-14T06:24:14.482246",
     "status": "completed"
    },
    "tags": []
   },
   "source": [
    "## All releases"
   ]
  },
  {
   "cell_type": "markdown",
   "id": "99",
   "metadata": {
    "papermill": {
     "duration": 0.972433,
     "end_time": "2025-06-14T06:24:17.437745",
     "exception": false,
     "start_time": "2025-06-14T06:24:16.465312",
     "status": "completed"
    },
    "tags": []
   },
   "source": [
    "Obs: All releases includes reprints"
   ]
  },
  {
   "cell_type": "code",
   "execution_count": null,
   "id": "100",
   "metadata": {
    "papermill": {
     "duration": 6.917938,
     "end_time": "2025-06-14T06:24:25.328739",
     "exception": false,
     "start_time": "2025-06-14T06:24:18.410801",
     "status": "completed"
    },
    "tags": []
   },
   "outputs": [],
   "source": [
    "full_df[full_df[\"Release\"].notna()].groupby(\"Name\")[\"Release\"].unique().explode().reset_index().set_index(\n",
    "    \"Release\"\n",
    ").sort_index()"
   ]
  },
  {
   "cell_type": "code",
   "execution_count": null,
   "id": "101",
   "metadata": {
    "papermill": {
     "duration": 8.911766,
     "end_time": "2025-06-14T06:24:35.313770",
     "exception": false,
     "start_time": "2025-06-14T06:24:26.402004",
     "status": "completed"
    },
    "tags": []
   },
   "outputs": [],
   "source": [
    "all_releases = (\n",
    "    get_releases_by(full_df, column=None, operation=\"all\", crosstab=False).value_counts(sort=False).rename(\"All formats\")\n",
    ")\n",
    "_ = plot.rate(all_releases, bg=anime_df, vlines=rules_df[\"begin\"], limit_year=True)\n",
    "plt.show()"
   ]
  },
  {
   "cell_type": "markdown",
   "id": "102",
   "metadata": {
    "papermill": {
     "duration": 1.036121,
     "end_time": "2025-06-14T06:24:37.390841",
     "exception": false,
     "start_time": "2025-06-14T06:24:36.354720",
     "status": "completed"
    },
    "tags": []
   },
   "source": [
    "### By Region"
   ]
  },
  {
   "cell_type": "code",
   "execution_count": null,
   "id": "103",
   "metadata": {
    "papermill": {
     "duration": 28.019428,
     "end_time": "2025-06-14T06:25:06.434106",
     "exception": false,
     "start_time": "2025-06-14T06:24:38.414678",
     "status": "completed"
    },
    "tags": []
   },
   "outputs": [],
   "source": [
    "region_release_counts = get_releases_by(full_df, column=\"Region\", operation=\"all\", crosstab=True)\n",
    "region_release_counts.groupby(region_release_counts.index.strftime(\"%Y\")).sum()"
   ]
  },
  {
   "cell_type": "code",
   "execution_count": null,
   "id": "104",
   "metadata": {
    "papermill": {
     "duration": 32.666083,
     "end_time": "2025-06-14T06:25:40.077700",
     "exception": false,
     "start_time": "2025-06-14T06:25:07.411617",
     "status": "completed"
    },
    "tags": []
   },
   "outputs": [],
   "source": [
    "_ = plot.rate(region_release_counts, bg=anime_df, vlines=rules_df[\"begin\"], limit_year=True, subplots=True)\n",
    "plt.show()"
   ]
  },
  {
   "cell_type": "markdown",
   "id": "105",
   "metadata": {
    "papermill": {
     "duration": 1.084697,
     "end_time": "2025-06-14T06:25:42.260833",
     "exception": false,
     "start_time": "2025-06-14T06:25:41.176136",
     "status": "completed"
    },
    "tags": []
   },
   "source": [
    "### By Card type"
   ]
  },
  {
   "cell_type": "code",
   "execution_count": null,
   "id": "106",
   "metadata": {
    "papermill": {
     "duration": 8.622252,
     "end_time": "2025-06-14T06:25:51.973359",
     "exception": false,
     "start_time": "2025-06-14T06:25:43.351107",
     "status": "completed"
    },
    "tags": []
   },
   "outputs": [],
   "source": [
    "ct_release_counts = get_releases_by(full_df, column=\"Card type\", operation=\"all\", crosstab=True)\n",
    "ct_release_counts.groupby(ct_release_counts.index.strftime(\"%Y\")).sum()"
   ]
  },
  {
   "cell_type": "code",
   "execution_count": null,
   "id": "107",
   "metadata": {
    "papermill": {
     "duration": 3.760685,
     "end_time": "2025-06-14T06:25:56.844874",
     "exception": false,
     "start_time": "2025-06-14T06:25:53.084189",
     "status": "completed"
    },
    "tags": []
   },
   "outputs": [],
   "source": [
    "_ct_release_plot = ct_release_counts[[\"Monster Card\", \"Spell Card\", \"Trap Card\", \"Skill Card\"]]\n",
    "_ct_colors = [plot.colors_dict[col] for col in _ct_release_plot.columns]\n",
    "_ = plot.rate(_ct_release_plot, colors=_ct_colors, bg=anime_df, vlines=rules_df[\"begin\"], limit_year=True)\n",
    "plt.show()"
   ]
  },
  {
   "cell_type": "markdown",
   "id": "108",
   "metadata": {
    "papermill": {
     "duration": 1.101455,
     "end_time": "2025-06-14T06:25:59.225834",
     "exception": false,
     "start_time": "2025-06-14T06:25:58.124379",
     "status": "completed"
    },
    "tags": []
   },
   "source": [
    "### By Primary type"
   ]
  },
  {
   "cell_type": "code",
   "execution_count": null,
   "id": "109",
   "metadata": {
    "papermill": {
     "duration": 7.420116,
     "end_time": "2025-06-14T06:26:07.757865",
     "exception": false,
     "start_time": "2025-06-14T06:26:00.337749",
     "status": "completed"
    },
    "tags": []
   },
   "outputs": [],
   "source": [
    "pt_release_counts = get_releases_by(full_df, column=\"Primary type\", operation=\"all\", crosstab=True)\n",
    "pt_release_counts.groupby(pt_release_counts.index.strftime(\"%Y\")).sum()"
   ]
  },
  {
   "cell_type": "code",
   "execution_count": null,
   "id": "110",
   "metadata": {
    "papermill": {
     "duration": 2.974571,
     "end_time": "2025-06-14T06:26:11.901607",
     "exception": false,
     "start_time": "2025-06-14T06:26:08.927036",
     "status": "completed"
    },
    "tags": []
   },
   "outputs": [],
   "source": [
    "primary_type_colors = [plot.colors_dict[col] for col in pt_release_counts.columns]\n",
    "_ = plot.rate(pt_release_counts, colors=primary_type_colors, bg=anime_df, vlines=rules_df[\"begin\"], limit_year=True)\n",
    "plt.show()"
   ]
  },
  {
   "cell_type": "markdown",
   "id": "111",
   "metadata": {
    "papermill": {
     "duration": 1.223545,
     "end_time": "2025-06-14T06:26:14.298156",
     "exception": false,
     "start_time": "2025-06-14T06:26:13.074611",
     "status": "completed"
    },
    "tags": []
   },
   "source": [
    "### By Secondary type"
   ]
  },
  {
   "cell_type": "code",
   "execution_count": null,
   "id": "112",
   "metadata": {
    "papermill": {
     "duration": 6.036513,
     "end_time": "2025-06-14T06:26:21.496720",
     "exception": false,
     "start_time": "2025-06-14T06:26:15.460207",
     "status": "completed"
    },
    "tags": []
   },
   "outputs": [],
   "source": [
    "st_release_counts = get_releases_by(full_df, column=\"Secondary type\", operation=\"all\", crosstab=True)\n",
    "st_release_counts.groupby(st_release_counts.index.strftime(\"%Y\")).sum()"
   ]
  },
  {
   "cell_type": "code",
   "execution_count": null,
   "id": "113",
   "metadata": {
    "papermill": {
     "duration": 13.538586,
     "end_time": "2025-06-14T06:26:36.201656",
     "exception": false,
     "start_time": "2025-06-14T06:26:22.663070",
     "status": "completed"
    },
    "tags": []
   },
   "outputs": [],
   "source": [
    "_ = plot.rate(st_release_counts, bg=anime_df, vlines=rules_df[\"begin\"], limit_year=True, subplots=True)\n",
    "plt.show()"
   ]
  },
  {
   "cell_type": "markdown",
   "id": "114",
   "metadata": {
    "papermill": {
     "duration": 1.273381,
     "end_time": "2025-06-14T06:26:38.774015",
     "exception": false,
     "start_time": "2025-06-14T06:26:37.500634",
     "status": "completed"
    },
    "tags": []
   },
   "source": [
    "### By Attribute"
   ]
  },
  {
   "cell_type": "code",
   "execution_count": null,
   "id": "115",
   "metadata": {
    "papermill": {
     "duration": 7.398646,
     "end_time": "2025-06-14T06:26:47.446161",
     "exception": false,
     "start_time": "2025-06-14T06:26:40.047515",
     "status": "completed"
    },
    "tags": []
   },
   "outputs": [],
   "source": [
    "att_release_counts = get_releases_by(full_df, column=\"Attribute\", operation=\"all\", crosstab=True)\n",
    "att_release_counts.groupby(att_release_counts.index.strftime(\"%Y\")).sum()"
   ]
  },
  {
   "cell_type": "code",
   "execution_count": null,
   "id": "116",
   "metadata": {
    "papermill": {
     "duration": 3.649943,
     "end_time": "2025-06-14T06:26:52.362037",
     "exception": false,
     "start_time": "2025-06-14T06:26:48.712094",
     "status": "completed"
    },
    "tags": []
   },
   "outputs": [],
   "source": [
    "attribute_colors = [plot.colors_dict[col] for col in att_release_counts.columns]\n",
    "_ = plot.rate(\n",
    "    att_release_counts, colors=attribute_colors, bg=anime_df, vlines=rules_df[\"begin\"], cumsum=True, limit_year=True\n",
    ")\n",
    "plt.show()"
   ]
  },
  {
   "cell_type": "markdown",
   "id": "117",
   "metadata": {
    "papermill": {
     "duration": 1.259738,
     "end_time": "2025-06-14T06:26:55.173870",
     "exception": false,
     "start_time": "2025-06-14T06:26:53.914132",
     "status": "completed"
    },
    "tags": []
   },
   "source": [
    "### By Monster type"
   ]
  },
  {
   "cell_type": "code",
   "execution_count": null,
   "id": "118",
   "metadata": {
    "papermill": {
     "duration": 7.813105,
     "end_time": "2025-06-14T06:27:04.297821",
     "exception": false,
     "start_time": "2025-06-14T06:26:56.484716",
     "status": "completed"
    },
    "tags": []
   },
   "outputs": [],
   "source": [
    "mt_release_counts = get_releases_by(full_df, column=\"Monster type\", operation=\"all\", crosstab=True)\n",
    "mt_release_counts.groupby(mt_release_counts.index.strftime(\"%Y\")).sum()"
   ]
  },
  {
   "cell_type": "code",
   "execution_count": null,
   "id": "119",
   "metadata": {
    "papermill": {
     "duration": 57.288469,
     "end_time": "2025-06-14T06:28:02.846330",
     "exception": false,
     "start_time": "2025-06-14T06:27:05.557861",
     "status": "completed"
    },
    "tags": []
   },
   "outputs": [],
   "source": [
    "_ = plot.rate(mt_release_counts, bg=anime_df, vlines=rules_df[\"begin\"], subplots=True, limit_year=True)\n",
    "plt.show()"
   ]
  },
  {
   "cell_type": "markdown",
   "id": "120",
   "metadata": {
    "papermill": {
     "duration": 1.460752,
     "end_time": "2025-06-14T06:28:05.781356",
     "exception": false,
     "start_time": "2025-06-14T06:28:04.320604",
     "status": "completed"
    },
    "tags": []
   },
   "source": [
    "### By Level/Rank"
   ]
  },
  {
   "cell_type": "code",
   "execution_count": null,
   "id": "121",
   "metadata": {
    "papermill": {
     "duration": 6.26441,
     "end_time": "2025-06-14T06:28:13.508884",
     "exception": false,
     "start_time": "2025-06-14T06:28:07.244474",
     "status": "completed"
    },
    "tags": []
   },
   "outputs": [],
   "source": [
    "level_release = get_releases_by(\n",
    "    full_df[(full_df[\"Card type\"] != \"Non-game card\") & (full_df[\"Primary type\"] != \"Link Monster\")],\n",
    "    column=\"Level/Rank/Link\",\n",
    "    operation=\"all\",\n",
    "    crosstab=False,\n",
    ")\n",
    "level_release.groupby(level_release[\"All releases\"].dt.year)[\"Level/Rank/Link\"].describe()"
   ]
  },
  {
   "cell_type": "code",
   "execution_count": null,
   "id": "122",
   "metadata": {
    "papermill": {
     "duration": 3.288103,
     "end_time": "2025-06-14T06:28:18.274196",
     "exception": false,
     "start_time": "2025-06-14T06:28:14.986093",
     "status": "completed"
    },
    "tags": []
   },
   "outputs": [],
   "source": [
    "_ = plot.box(\n",
    "    level_release,\n",
    "    color=plot.colors_dict[\"Level\"],\n",
    "    notch=True,\n",
    ")\n",
    "plt.show()"
   ]
  },
  {
   "cell_type": "markdown",
   "id": "123",
   "metadata": {
    "papermill": {
     "duration": 1.523405,
     "end_time": "2025-06-14T06:28:21.327710",
     "exception": false,
     "start_time": "2025-06-14T06:28:19.804305",
     "status": "completed"
    },
    "tags": []
   },
   "source": [
    "### By Pendulum scale"
   ]
  },
  {
   "cell_type": "code",
   "execution_count": null,
   "id": "124",
   "metadata": {
    "papermill": {
     "duration": 5.843934,
     "end_time": "2025-06-14T06:28:28.653814",
     "exception": false,
     "start_time": "2025-06-14T06:28:22.809880",
     "status": "completed"
    },
    "tags": []
   },
   "outputs": [],
   "source": [
    "pendulum_release = get_releases_by(\n",
    "    full_df[(full_df[\"Card type\"] != \"Non-game card\")],\n",
    "    column=\"Pendulum Scale\",\n",
    "    operation=\"all\",\n",
    "    crosstab=False,\n",
    ")\n",
    "pendulum_release.groupby(pendulum_release[\"All releases\"].dt.year)[\"Pendulum Scale\"].describe()"
   ]
  },
  {
   "cell_type": "code",
   "execution_count": null,
   "id": "125",
   "metadata": {
    "papermill": {
     "duration": 1.91633,
     "end_time": "2025-06-14T06:28:32.062537",
     "exception": false,
     "start_time": "2025-06-14T06:28:30.146207",
     "status": "completed"
    },
    "tags": []
   },
   "outputs": [],
   "source": [
    "_ = plot.box(\n",
    "    pendulum_release,\n",
    "    color=plot.colors_dict[\"Pendulum Monster\"],\n",
    "    notch=True,\n",
    ")\n",
    "plt.show()"
   ]
  },
  {
   "cell_type": "markdown",
   "id": "126",
   "metadata": {
    "papermill": {
     "duration": 1.484779,
     "end_time": "2025-06-14T06:28:35.029877",
     "exception": false,
     "start_time": "2025-06-14T06:28:33.545098",
     "status": "completed"
    },
    "tags": []
   },
   "source": [
    "### By Link"
   ]
  },
  {
   "cell_type": "code",
   "execution_count": null,
   "id": "127",
   "metadata": {
    "papermill": {
     "duration": 1.810448,
     "end_time": "2025-06-14T06:28:38.310210",
     "exception": false,
     "start_time": "2025-06-14T06:28:36.499762",
     "status": "completed"
    },
    "tags": []
   },
   "outputs": [],
   "source": [
    "link_release = get_releases_by(\n",
    "    full_df[(full_df[\"Card type\"] != \"Non-game card\") & (full_df[\"Primary type\"] == \"Link Monster\")],\n",
    "    column=\"Level/Rank/Link\",\n",
    "    operation=\"all\",\n",
    "    crosstab=False,\n",
    ")\n",
    "link_release.groupby(link_release[\"All releases\"].dt.year)[\"Level/Rank/Link\"].describe()"
   ]
  },
  {
   "cell_type": "code",
   "execution_count": null,
   "id": "128",
   "metadata": {
    "papermill": {
     "duration": 1.896543,
     "end_time": "2025-06-14T06:28:41.773928",
     "exception": false,
     "start_time": "2025-06-14T06:28:39.877385",
     "status": "completed"
    },
    "tags": []
   },
   "outputs": [],
   "source": [
    "_ = plot.box(\n",
    "    link_release,\n",
    "    color=plot.colors_dict[\"Link Monster\"],\n",
    ")\n",
    "plt.show()"
   ]
  },
  {
   "cell_type": "markdown",
   "id": "129",
   "metadata": {
    "papermill": {
     "duration": 1.458894,
     "end_time": "2025-06-14T06:28:44.706968",
     "exception": false,
     "start_time": "2025-06-14T06:28:43.248074",
     "status": "completed"
    },
    "tags": []
   },
   "source": [
    "### By ATK"
   ]
  },
  {
   "cell_type": "code",
   "execution_count": null,
   "id": "130",
   "metadata": {
    "papermill": {
     "duration": 9.556502,
     "end_time": "2025-06-14T06:28:55.747519",
     "exception": false,
     "start_time": "2025-06-14T06:28:46.191017",
     "status": "completed"
    },
    "tags": []
   },
   "outputs": [],
   "source": [
    "atk_release = get_releases_by(\n",
    "    full_df[full_df[\"Card type\"] != \"Non-game card\"], column=\"ATK\", operation=\"all\", crosstab=False\n",
    ")\n",
    "atk_release.groupby(atk_release[\"All releases\"].dt.year)[\"ATK\"].describe()"
   ]
  },
  {
   "cell_type": "code",
   "execution_count": null,
   "id": "131",
   "metadata": {
    "papermill": {
     "duration": 3.514921,
     "end_time": "2025-06-14T06:29:00.803759",
     "exception": false,
     "start_time": "2025-06-14T06:28:57.288838",
     "status": "completed"
    },
    "tags": []
   },
   "outputs": [],
   "source": [
    "_ = plot.box(\n",
    "    atk_release,\n",
    "    color=plot.colors_dict[\"Effect Monster\"],\n",
    "    notch=True,\n",
    ")\n",
    "plt.show()"
   ]
  },
  {
   "cell_type": "markdown",
   "id": "132",
   "metadata": {
    "papermill": {
     "duration": 1.467234,
     "end_time": "2025-06-14T06:29:03.759436",
     "exception": false,
     "start_time": "2025-06-14T06:29:02.292202",
     "status": "completed"
    },
    "tags": []
   },
   "source": [
    "### By DEF"
   ]
  },
  {
   "cell_type": "code",
   "execution_count": null,
   "id": "133",
   "metadata": {
    "papermill": {
     "duration": 8.136449,
     "end_time": "2025-06-14T06:29:13.924431",
     "exception": false,
     "start_time": "2025-06-14T06:29:05.787982",
     "status": "completed"
    },
    "tags": []
   },
   "outputs": [],
   "source": [
    "def_release = get_releases_by(\n",
    "    full_df[full_df[\"Card type\"] != \"Non-game card\"], column=\"DEF\", operation=\"all\", crosstab=False\n",
    ")\n",
    "def_release.groupby(def_release[\"All releases\"].dt.year)[\"DEF\"].describe()"
   ]
  },
  {
   "cell_type": "code",
   "execution_count": null,
   "id": "134",
   "metadata": {
    "papermill": {
     "duration": 3.560302,
     "end_time": "2025-06-14T06:29:18.975435",
     "exception": false,
     "start_time": "2025-06-14T06:29:15.415133",
     "status": "completed"
    },
    "tags": []
   },
   "outputs": [],
   "source": [
    "_ = plot.box(\n",
    "    def_release,\n",
    "    color=plot.colors_dict[\"Effect Monster\"],\n",
    "    notch=True,\n",
    ")\n",
    "plt.show()"
   ]
  },
  {
   "cell_type": "markdown",
   "id": "135",
   "metadata": {
    "papermill": {
     "duration": 1.549413,
     "end_time": "2025-06-14T06:29:22.060227",
     "exception": false,
     "start_time": "2025-06-14T06:29:20.510814",
     "status": "completed"
    },
    "tags": []
   },
   "source": [
    "# Merge failed"
   ]
  },
  {
   "cell_type": "markdown",
   "id": "136",
   "metadata": {
    "papermill": {
     "duration": 1.49397,
     "end_time": "2025-06-14T06:29:25.056382",
     "exception": false,
     "start_time": "2025-06-14T06:29:23.562412",
     "status": "completed"
    },
    "tags": []
   },
   "source": [
    "## Names missing"
   ]
  },
  {
   "cell_type": "markdown",
   "id": "137",
   "metadata": {
    "papermill": {
     "duration": 1.531264,
     "end_time": "2025-06-14T06:29:28.095938",
     "exception": false,
     "start_time": "2025-06-14T06:29:26.564674",
     "status": "completed"
    },
    "tags": []
   },
   "source": [
    "Likely due to card being renamed but the old name kept in the set lists"
   ]
  },
  {
   "cell_type": "code",
   "execution_count": null,
   "id": "138",
   "metadata": {
    "papermill": {
     "duration": 1.886407,
     "end_time": "2025-06-14T06:29:31.465861",
     "exception": false,
     "start_time": "2025-06-14T06:29:29.579454",
     "status": "completed"
    },
    "tags": []
   },
   "outputs": [],
   "source": [
    "cards_df.where(~cards_df[\"Name\"].isin(full_df[\"Name\"])).dropna(how=\"all\")"
   ]
  },
  {
   "cell_type": "markdown",
   "id": "139",
   "metadata": {
    "papermill": {
     "duration": 1.573667,
     "end_time": "2025-06-14T06:29:34.551864",
     "exception": false,
     "start_time": "2025-06-14T06:29:32.978197",
     "status": "completed"
    },
    "tags": []
   },
   "source": [
    "## Card number missing"
   ]
  },
  {
   "cell_type": "markdown",
   "id": "140",
   "metadata": {
    "papermill": {
     "duration": 1.667258,
     "end_time": "2025-06-14T06:29:37.735295",
     "exception": false,
     "start_time": "2025-06-14T06:29:36.068037",
     "status": "completed"
    },
    "tags": []
   },
   "source": [
    "Likely old OCG cards without card number"
   ]
  },
  {
   "cell_type": "code",
   "execution_count": null,
   "id": "141",
   "metadata": {
    "papermill": {
     "duration": 2.287145,
     "end_time": "2025-06-14T06:29:41.561016",
     "exception": false,
     "start_time": "2025-06-14T06:29:39.273871",
     "status": "completed"
    },
    "tags": []
   },
   "outputs": [],
   "source": [
    "set_lists_df.where(\n",
    "    (~set_lists_df[\"Card number\"].isin(full_df[\"Card number\"]))\n",
    "    & (~set_lists_df[\"Card number\"].dropna().str.startswith(\"RD/\"))\n",
    ").dropna(how=\"all\")"
   ]
  },
  {
   "cell_type": "markdown",
   "id": "142",
   "metadata": {
    "papermill": {
     "duration": 1.470872,
     "end_time": "2025-06-14T06:29:44.531198",
     "exception": false,
     "start_time": "2025-06-14T06:29:43.060326",
     "status": "completed"
    },
    "tags": []
   },
   "source": [
    "# Epilogue"
   ]
  },
  {
   "cell_type": "code",
   "execution_count": null,
   "id": "143",
   "metadata": {
    "papermill": {
     "duration": 6.068455,
     "end_time": "2025-06-14T06:29:52.190193",
     "exception": false,
     "start_time": "2025-06-14T06:29:46.121738",
     "status": "completed"
    },
    "tags": []
   },
   "outputs": [],
   "source": [
    "benchmark(report=\"timeline\", timestamp=timestamp)"
   ]
  },
  {
   "cell_type": "code",
   "execution_count": null,
   "id": "144",
   "metadata": {
    "papermill": {
     "duration": 1.504326,
     "end_time": "2025-06-14T06:29:55.198951",
     "exception": false,
     "start_time": "2025-06-14T06:29:53.694625",
     "status": "completed"
    },
    "tags": []
   },
   "outputs": [],
   "source": [
    "footer()"
   ]
  },
  {
   "cell_type": "markdown",
   "id": "145",
   "metadata": {
    "papermill": {
     "duration": 1.524975,
     "end_time": "2025-06-14T06:29:58.264166",
     "exception": false,
     "start_time": "2025-06-14T06:29:56.739191",
     "status": "completed"
    },
    "tags": []
   },
   "source": [
    "## HTML export"
   ]
  },
  {
   "cell_type": "code",
   "execution_count": null,
   "id": "146",
   "metadata": {
    "papermill": {
     "duration": 1.507289,
     "end_time": "2025-06-14T06:30:01.271956",
     "exception": false,
     "start_time": "2025-06-14T06:29:59.764667",
     "status": "completed"
    },
    "tags": []
   },
   "outputs": [],
   "source": [
    "# May need to sleep for a few seconds after saving\n",
    "save_notebook()"
   ]
  },
  {
   "cell_type": "code",
   "execution_count": null,
   "id": "147",
   "metadata": {
    "papermill": {
     "duration": 9.87436,
     "end_time": "2025-06-14T06:30:12.618402",
     "exception": false,
     "start_time": "2025-06-14T06:30:02.744042",
     "status": "completed"
    },
    "tags": []
   },
   "outputs": [],
   "source": [
    "export_notebook(dirs.NOTEBOOKS.user / \"Timeline.ipynb\")"
   ]
  },
  {
   "cell_type": "markdown",
   "id": "148",
   "metadata": {
    "papermill": {
     "duration": 1.491987,
     "end_time": "2025-06-14T06:30:15.628198",
     "exception": false,
     "start_time": "2025-06-14T06:30:14.136211",
     "status": "completed"
    },
    "tags": [
     "exclude"
    ]
   },
   "source": [
    "## Git"
   ]
  },
  {
   "cell_type": "code",
   "execution_count": null,
   "id": "149",
   "metadata": {
    "papermill": {
     "duration": null,
     "end_time": null,
     "exception": false,
     "start_time": "2025-06-14T06:30:17.256606",
     "status": "running"
    },
    "tags": [
     "exclude"
    ]
   },
   "outputs": [],
   "source": [
    "git.commit(\"*[Tt]imeline*\", f\"Timeline update - {timestamp.isoformat()}\")"
   ]
  }
 ],
 "metadata": {
  "kernelspec": {
   "display_name": "venv",
   "language": "python",
   "name": "python3"
  },
  "language_info": {
   "codemirror_mode": {
    "name": "ipython",
    "version": 3
   },
   "file_extension": ".py",
   "mimetype": "text/x-python",
   "name": "python",
   "nbconvert_exporter": "python",
   "pygments_lexer": "ipython3",
   "version": "3.11.6"
  },
  "papermill": {
   "default_parameters": {},
   "duration": null,
   "end_time": null,
   "environment_variables": {},
   "exception": null,
   "input_path": "/home/jovyan/yugiquery/notebooks/Timeline.ipynb",
   "output_path": "/home/jovyan/yugiquery/notebooks/Timeline.ipynb",
   "parameters": {},
   "start_time": "2025-06-14T06:16:48.915892",
   "version": "2.6.0"
  },
  "toc": {
   "base_numbering": 1,
   "nav_menu": {},
   "number_sections": true,
   "sideBar": true,
   "skip_h1_title": false,
   "title_cell": "Table of Contents",
   "title_sidebar": "Contents",
   "toc_cell": true,
   "toc_position": {},
   "toc_section_display": true,
   "toc_window_display": true
  }
 },
 "nbformat": 4,
 "nbformat_minor": 5
}
