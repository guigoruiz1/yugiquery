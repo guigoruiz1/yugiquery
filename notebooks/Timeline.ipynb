{
 "cells": [
  {
   "cell_type": "code",
   "execution_count": null,
   "id": "0",
   "metadata": {
    "papermill": {
     "duration": 8.336503,
     "end_time": "2025-06-07T21:18:33.422892",
     "exception": false,
     "start_time": "2025-06-07T21:18:25.086389",
     "status": "completed"
    },
    "tags": []
   },
   "outputs": [],
   "source": [
    "from yugiquery import *\n",
    "\n",
    "init_notebook_mode(all_interactive=True)\n",
    "\n",
    "header(\"Timeline\")"
   ]
  },
  {
   "cell_type": "markdown",
   "id": "1",
   "metadata": {
    "papermill": {
     "duration": 0.102702,
     "end_time": "2025-06-07T21:18:33.595762",
     "exception": false,
     "start_time": "2025-06-07T21:18:33.493060",
     "status": "completed"
    },
    "tags": []
   },
   "source": [
    "---"
   ]
  },
  {
   "cell_type": "markdown",
   "id": "2",
   "metadata": {
    "papermill": {
     "duration": 0.715134,
     "end_time": "2025-06-07T21:18:34.359381",
     "exception": false,
     "start_time": "2025-06-07T21:18:33.644247",
     "status": "completed"
    },
    "tags": []
   },
   "source": [
    "Table of Contents <a class=\"jp-toc-ignore\"></a>\n",
    "=================\n",
    "* [1 Data preparation](#data-preparation)\n",
    "  * [1.1 Load data](#load-data)\n",
    "  * [1.2 Merge data](#merge-data)\n",
    "* [2 Data visualization](#data-visualization)\n",
    "  * [2.1 Debut](#debut)\n",
    "    * [2.1.1 By Format](#by-format)\n",
    "    * [2.1.2 By Region](#by-region)\n",
    "    * [2.1.3 By Card type](#by-card-type)\n",
    "    * [2.1.4 By Primary type](#by-primary-type)\n",
    "    * [2.1.5 By Secondary type](#by-secondary-type)\n",
    "    * [2.1.6 By Attribute](#by-attribute)\n",
    "    * [2.1.7 By Monster type](#by-monster-type)\n",
    "    * [2.1.8 By Level/Rank](#by-level/rank)\n",
    "    * [2.1.9 By Pendulum scale](#by-pendulum-scale)\n",
    "    * [2.1.10 By Link](#by-link)\n",
    "    * [2.1.11 By ATK](#by-atk)\n",
    "    * [2.1.12 By DEF](#by-def)\n",
    "  * [2.2 Last release](#last-release)\n",
    "    * [2.2.1 By Region](#by-region)\n",
    "    * [2.2.2 By Card type](#by-card-type)\n",
    "    * [2.2.3 By Primary type](#by-primary-type)\n",
    "    * [2.2.4 By Secondary type](#by-secondary-type)\n",
    "    * [2.2.5 By Attribute](#by-attribute)\n",
    "    * [2.2.6 By Monster type](#by-monster-type)\n",
    "    * [2.2.7 By Level/Rank](#by-level/rank)\n",
    "    * [2.2.8 By Pendulum scale](#by-pendulum-scale)\n",
    "    * [2.2.9 By Link](#by-link)\n",
    "    * [2.2.10 By ATK](#by-atk)\n",
    "    * [2.2.11 By DEF](#by-def)\n",
    "  * [2.3 All releases](#all-releases)\n",
    "    * [2.3.1 By Region](#by-region)\n",
    "    * [2.3.2 By Card type](#by-card-type)\n",
    "    * [2.3.3 By Primary type](#by-primary-type)\n",
    "    * [2.3.4 By Secondary type](#by-secondary-type)\n",
    "    * [2.3.5 By Attribute](#by-attribute)\n",
    "    * [2.3.6 By Monster type](#by-monster-type)\n",
    "    * [2.3.7 By Level/Rank](#by-level/rank)\n",
    "    * [2.3.8 By Pendulum scale](#by-pendulum-scale)\n",
    "    * [2.3.9 By Link](#by-link)\n",
    "    * [2.3.10 By ATK](#by-atk)\n",
    "    * [2.3.11 By DEF](#by-def)\n",
    "* [3 Merge failed](#merge-failed)\n",
    "  * [3.1 Names missing](#names-missing)\n",
    "  * [3.2 Card number missing](#card-number-missing)\n",
    "* [4 Epilogue](#epilogue)\n",
    "  * [4.1 HTML export](#html-export)\n",
    "  * [4.2 Git](#git)"
   ]
  },
  {
   "cell_type": "markdown",
   "id": "3",
   "metadata": {
    "papermill": {
     "duration": 0.432917,
     "end_time": "2025-06-07T21:18:34.917708",
     "exception": false,
     "start_time": "2025-06-07T21:18:34.484791",
     "status": "completed"
    },
    "tags": []
   },
   "source": [
    "# Data preparation"
   ]
  },
  {
   "cell_type": "code",
   "execution_count": null,
   "id": "4",
   "metadata": {
    "papermill": {
     "duration": 0.188442,
     "end_time": "2025-06-07T21:18:35.301995",
     "exception": false,
     "start_time": "2025-06-07T21:18:35.113553",
     "status": "completed"
    },
    "tags": []
   },
   "outputs": [],
   "source": [
    "timestamp = arrow.utcnow()"
   ]
  },
  {
   "cell_type": "markdown",
   "id": "5",
   "metadata": {
    "papermill": {
     "duration": 0.066619,
     "end_time": "2025-06-07T21:18:35.431495",
     "exception": false,
     "start_time": "2025-06-07T21:18:35.364876",
     "status": "completed"
    },
    "tags": []
   },
   "source": [
    "## Load data"
   ]
  },
  {
   "cell_type": "code",
   "execution_count": null,
   "id": "6",
   "metadata": {
    "papermill": {
     "duration": 0.90885,
     "end_time": "2025-06-07T21:18:36.432379",
     "exception": false,
     "start_time": "2025-06-07T21:18:35.523529",
     "status": "completed"
    },
    "tags": []
   },
   "outputs": [],
   "source": [
    "# Load list of important dates\n",
    "dates_json = load_json(dirs.get_asset(\"json\", \"dates.json\"))\n",
    "anime_df = pd.DataFrame(dates_json[\"anime\"][\"series\"]).set_index(\"title\").map(pd.to_datetime, dayfirst=True)\n",
    "rules_df = (\n",
    "    pd.DataFrame(dates_json[\"rules\"]).set_index(\"title\").map(pd.to_datetime, dayfirst=True).iloc[2:]\n",
    ")  # Ignore old rules"
   ]
  },
  {
   "cell_type": "code",
   "execution_count": null,
   "id": "7",
   "metadata": {
    "papermill": {
     "duration": 13.860099,
     "end_time": "2025-06-07T21:18:50.426169",
     "exception": false,
     "start_time": "2025-06-07T21:18:36.566070",
     "status": "completed"
    },
    "tags": []
   },
   "outputs": [],
   "source": [
    "# Get latest file if exist\n",
    "cards_df = load_latest_data(\"cards\")\n",
    "speed_df = load_latest_data(\"speed\")\n",
    "set_lists_df = load_latest_data(\"sets\")"
   ]
  },
  {
   "cell_type": "markdown",
   "id": "8",
   "metadata": {
    "papermill": {
     "duration": 0.212265,
     "end_time": "2025-06-07T21:18:50.798456",
     "exception": false,
     "start_time": "2025-06-07T21:18:50.586191",
     "status": "completed"
    },
    "tags": []
   },
   "source": [
    "## Merge data"
   ]
  },
  {
   "cell_type": "code",
   "execution_count": null,
   "id": "9",
   "metadata": {
    "papermill": {
     "duration": 0.143059,
     "end_time": "2025-06-07T21:18:51.567743",
     "exception": false,
     "start_time": "2025-06-07T21:18:51.424684",
     "status": "completed"
    },
    "tags": []
   },
   "outputs": [],
   "source": [
    "df_list = [cards_df, speed_df, set_lists_df]\n",
    "if any(item is None for item in df_list):\n",
    "    raise SystemExit(\"Not enough files to proceed. Aborting!\")"
   ]
  },
  {
   "cell_type": "code",
   "execution_count": null,
   "id": "10",
   "metadata": {
    "papermill": {
     "duration": 3.38941,
     "end_time": "2025-06-07T21:18:55.272548",
     "exception": false,
     "start_time": "2025-06-07T21:18:51.883138",
     "status": "completed"
    },
    "tags": []
   },
   "outputs": [],
   "source": [
    "set_lists_df = set_lists_df[\n",
    "    ~set_lists_df[\"Card number\"].str.startswith(\"RD/\").astype(bool).fillna(False)\n",
    "]  # Remove Rush duel cards\n",
    "full_df = merge_set_to_cards(cards_df, speed_df, set_df=set_lists_df)"
   ]
  },
  {
   "cell_type": "markdown",
   "id": "11",
   "metadata": {
    "papermill": {
     "duration": 0.163352,
     "end_time": "2025-06-07T21:18:55.488138",
     "exception": false,
     "start_time": "2025-06-07T21:18:55.324786",
     "status": "completed"
    },
    "tags": []
   },
   "source": [
    "# Data visualization"
   ]
  },
  {
   "cell_type": "markdown",
   "id": "12",
   "metadata": {
    "papermill": {
     "duration": 0.115834,
     "end_time": "2025-06-07T21:18:55.863480",
     "exception": false,
     "start_time": "2025-06-07T21:18:55.747646",
     "status": "completed"
    },
    "tags": []
   },
   "source": [
    "Rush duel and Bandai cards are not included."
   ]
  },
  {
   "cell_type": "code",
   "execution_count": null,
   "id": "13",
   "metadata": {
    "papermill": {
     "duration": 1.205145,
     "end_time": "2025-06-07T21:18:57.268309",
     "exception": false,
     "start_time": "2025-06-07T21:18:56.063164",
     "status": "completed"
    },
    "tags": []
   },
   "outputs": [],
   "source": [
    "full_df"
   ]
  },
  {
   "cell_type": "markdown",
   "id": "14",
   "metadata": {
    "papermill": {
     "duration": 0.05557,
     "end_time": "2025-06-07T21:18:57.383843",
     "exception": false,
     "start_time": "2025-06-07T21:18:57.328273",
     "status": "completed"
    },
    "tags": []
   },
   "source": [
    "## Debut"
   ]
  },
  {
   "cell_type": "code",
   "execution_count": null,
   "id": "15",
   "metadata": {
    "papermill": {
     "duration": 0.689725,
     "end_time": "2025-06-07T21:18:58.150659",
     "exception": false,
     "start_time": "2025-06-07T21:18:57.460934",
     "status": "completed"
    },
    "tags": []
   },
   "outputs": [],
   "source": [
    "debut_counts = get_releases_by(full_df, column=None, operation=\"debut\").value_counts(sort=False).rename(\"All formats\")\n",
    "debut_counts.groupby(debut_counts.index.strftime(\"%Y\")).sum()"
   ]
  },
  {
   "cell_type": "code",
   "execution_count": null,
   "id": "16",
   "metadata": {
    "papermill": {
     "duration": 3.950698,
     "end_time": "2025-06-07T21:19:02.158443",
     "exception": false,
     "start_time": "2025-06-07T21:18:58.207745",
     "status": "completed"
    },
    "tags": []
   },
   "outputs": [],
   "source": [
    "_ = plot.rate(debut_counts, bg=anime_df, vlines=rules_df[\"begin\"], limit_year=True)\n",
    "plt.show()"
   ]
  },
  {
   "cell_type": "markdown",
   "id": "17",
   "metadata": {
    "papermill": {
     "duration": 0.291909,
     "end_time": "2025-06-07T21:19:02.571104",
     "exception": false,
     "start_time": "2025-06-07T21:19:02.279195",
     "status": "completed"
    },
    "tags": []
   },
   "source": [
    "### By Format"
   ]
  },
  {
   "cell_type": "markdown",
   "id": "18",
   "metadata": {
    "papermill": {
     "duration": 0.146137,
     "end_time": "2025-06-07T21:19:02.836370",
     "exception": false,
     "start_time": "2025-06-07T21:19:02.690233",
     "status": "completed"
    },
    "tags": []
   },
   "source": [
    "Monsters' debut per format"
   ]
  },
  {
   "cell_type": "code",
   "execution_count": null,
   "id": "19",
   "metadata": {
    "papermill": {
     "duration": 0.465243,
     "end_time": "2025-06-07T21:19:03.987771",
     "exception": false,
     "start_time": "2025-06-07T21:19:03.522528",
     "status": "completed"
    },
    "tags": []
   },
   "outputs": [],
   "source": [
    "full_df.groupby(\"Name\")[full_df.filter(regex=\"(?i)(debut)\").columns].min()"
   ]
  },
  {
   "cell_type": "markdown",
   "id": "20",
   "metadata": {
    "papermill": {
     "duration": 0.740662,
     "end_time": "2025-06-07T21:19:04.987357",
     "exception": false,
     "start_time": "2025-06-07T21:19:04.246695",
     "status": "completed"
    },
    "tags": []
   },
   "source": [
    "Debuts per date for each format"
   ]
  },
  {
   "cell_type": "code",
   "execution_count": null,
   "id": "21",
   "metadata": {
    "papermill": {
     "duration": 0.304673,
     "end_time": "2025-06-07T21:19:05.748532",
     "exception": false,
     "start_time": "2025-06-07T21:19:05.443859",
     "status": "completed"
    },
    "tags": []
   },
   "outputs": [],
   "source": [
    "format_debut_counts = (\n",
    "    full_df.groupby(\"Name\")[full_df.filter(regex=\"(?i)(debut)\").columns]\n",
    "    .min()\n",
    "    .melt(var_name=\"Format\", value_name=\"Debut\")\n",
    "    .value_counts()\n",
    "    .unstack(0)\n",
    "    .fillna(0)\n",
    "    .sort_index()\n",
    ")\n",
    "format_debut_counts.groupby(format_debut_counts.index.strftime(\"%Y\")).sum()"
   ]
  },
  {
   "cell_type": "code",
   "execution_count": null,
   "id": "22",
   "metadata": {
    "papermill": {
     "duration": 7.477512,
     "end_time": "2025-06-07T21:19:14.000828",
     "exception": false,
     "start_time": "2025-06-07T21:19:06.523316",
     "status": "completed"
    },
    "tags": []
   },
   "outputs": [],
   "source": [
    "_ = plot.rate(format_debut_counts, bg=anime_df, vlines=rules_df[\"begin\"], subplots=True)\n",
    "plt.show()"
   ]
  },
  {
   "cell_type": "markdown",
   "id": "23",
   "metadata": {
    "papermill": {
     "duration": 0.093519,
     "end_time": "2025-06-07T21:19:14.191133",
     "exception": false,
     "start_time": "2025-06-07T21:19:14.097614",
     "status": "completed"
    },
    "tags": []
   },
   "source": [
    "### By Region"
   ]
  },
  {
   "cell_type": "markdown",
   "id": "24",
   "metadata": {
    "papermill": {
     "duration": 0.122317,
     "end_time": "2025-06-07T21:19:14.544763",
     "exception": false,
     "start_time": "2025-06-07T21:19:14.422446",
     "status": "completed"
    },
    "tags": []
   },
   "source": [
    "Obs: Debut by region is taken from earliest release date in set lists. It may not be as accurate as card specific properties."
   ]
  },
  {
   "cell_type": "code",
   "execution_count": null,
   "id": "25",
   "metadata": {
    "papermill": {
     "duration": 0.297018,
     "end_time": "2025-06-07T21:19:15.826489",
     "exception": false,
     "start_time": "2025-06-07T21:19:15.529471",
     "status": "completed"
    },
    "tags": []
   },
   "outputs": [],
   "source": [
    "full_df.groupby([\"Region\", \"Name\"])[\"Release\"].min().unstack(0)"
   ]
  },
  {
   "cell_type": "markdown",
   "id": "26",
   "metadata": {
    "papermill": {
     "duration": 0.183449,
     "end_time": "2025-06-07T21:19:16.328955",
     "exception": false,
     "start_time": "2025-06-07T21:19:16.145506",
     "status": "completed"
    },
    "tags": []
   },
   "source": [
    "First releases per date"
   ]
  },
  {
   "cell_type": "code",
   "execution_count": null,
   "id": "27",
   "metadata": {
    "papermill": {
     "duration": 3.034253,
     "end_time": "2025-06-07T21:19:20.011666",
     "exception": false,
     "start_time": "2025-06-07T21:19:16.977413",
     "status": "completed"
    },
    "tags": []
   },
   "outputs": [],
   "source": [
    "region_debut_counts = get_releases_by(full_df, column=\"Region\", operation=\"first\", crosstab=True)\n",
    "region_debut_counts.groupby(region_debut_counts.index.strftime(\"%Y\")).sum()"
   ]
  },
  {
   "cell_type": "code",
   "execution_count": null,
   "id": "28",
   "metadata": {
    "papermill": {
     "duration": 34.551515,
     "end_time": "2025-06-07T21:19:54.664551",
     "exception": false,
     "start_time": "2025-06-07T21:19:20.113036",
     "status": "completed"
    },
    "tags": []
   },
   "outputs": [],
   "source": [
    "_ = plot.rate(\n",
    "    region_debut_counts,\n",
    "    bg=anime_df,\n",
    "    vlines=rules_df[\"begin\"],\n",
    "    subplots=True,\n",
    "    limit_year=True,\n",
    ")\n",
    "plt.show()"
   ]
  },
  {
   "cell_type": "markdown",
   "id": "29",
   "metadata": {
    "papermill": {
     "duration": 0.84503,
     "end_time": "2025-06-07T21:19:55.840709",
     "exception": false,
     "start_time": "2025-06-07T21:19:54.995679",
     "status": "completed"
    },
    "tags": []
   },
   "source": [
    "### By Card type"
   ]
  },
  {
   "cell_type": "code",
   "execution_count": null,
   "id": "30",
   "metadata": {
    "papermill": {
     "duration": 2.605511,
     "end_time": "2025-06-07T21:19:58.646057",
     "exception": false,
     "start_time": "2025-06-07T21:19:56.040546",
     "status": "completed"
    },
    "tags": []
   },
   "outputs": [],
   "source": [
    "ct_debut_counts = get_releases_by(full_df, column=\"Card type\", operation=\"debut\", crosstab=True)\n",
    "ct_debut_counts.groupby(ct_debut_counts.index.strftime(\"%Y\")).sum()"
   ]
  },
  {
   "cell_type": "code",
   "execution_count": null,
   "id": "31",
   "metadata": {
    "papermill": {
     "duration": 3.03982,
     "end_time": "2025-06-07T21:20:01.886046",
     "exception": false,
     "start_time": "2025-06-07T21:19:58.846226",
     "status": "completed"
    },
    "tags": []
   },
   "outputs": [],
   "source": [
    "_ct_debut_plot = ct_debut_counts[[\"Monster Card\", \"Spell Card\", \"Trap Card\", \"Skill Card\"]]\n",
    "_ct_colors = [plot.colors_dict[col] for col in _ct_debut_plot.columns]\n",
    "_ = plot.rate(\n",
    "    _ct_debut_plot,\n",
    "    colors=_ct_colors,\n",
    "    bg=anime_df,\n",
    "    vlines=rules_df[\"begin\"],\n",
    "    subplots=False,\n",
    "    limit_year=True,\n",
    ")"
   ]
  },
  {
   "cell_type": "markdown",
   "id": "32",
   "metadata": {
    "papermill": {
     "duration": 0.413397,
     "end_time": "2025-06-07T21:20:02.526880",
     "exception": false,
     "start_time": "2025-06-07T21:20:02.113483",
     "status": "completed"
    },
    "tags": []
   },
   "source": [
    "### By Primary type"
   ]
  },
  {
   "cell_type": "code",
   "execution_count": null,
   "id": "33",
   "metadata": {
    "papermill": {
     "duration": 4.773921,
     "end_time": "2025-06-07T21:20:08.089199",
     "exception": false,
     "start_time": "2025-06-07T21:20:03.315278",
     "status": "completed"
    },
    "tags": []
   },
   "outputs": [],
   "source": [
    "pt_debut_counts = get_releases_by(full_df, column=\"Primary type\", operation=\"debut\", crosstab=True)\n",
    "pt_debut_counts.groupby(pt_debut_counts.index.strftime(\"%Y\")).sum()"
   ]
  },
  {
   "cell_type": "code",
   "execution_count": null,
   "id": "34",
   "metadata": {
    "papermill": {
     "duration": 2.96202,
     "end_time": "2025-06-07T21:20:11.799801",
     "exception": false,
     "start_time": "2025-06-07T21:20:08.837781",
     "status": "completed"
    },
    "tags": []
   },
   "outputs": [],
   "source": [
    "_pt_colors = [plot.colors_dict[col] for col in pt_debut_counts.columns]\n",
    "_ = plot.rate(\n",
    "    pt_debut_counts,\n",
    "    colors=_pt_colors,\n",
    "    bg=anime_df,\n",
    "    vlines=rules_df[\"begin\"],\n",
    "    subplots=False,\n",
    "    limit_year=True,\n",
    ")"
   ]
  },
  {
   "cell_type": "markdown",
   "id": "35",
   "metadata": {
    "papermill": {
     "duration": 0.613803,
     "end_time": "2025-06-07T21:20:12.705277",
     "exception": false,
     "start_time": "2025-06-07T21:20:12.091474",
     "status": "completed"
    },
    "tags": []
   },
   "source": [
    "### By Secondary type"
   ]
  },
  {
   "cell_type": "code",
   "execution_count": null,
   "id": "36",
   "metadata": {
    "papermill": {
     "duration": 2.868014,
     "end_time": "2025-06-07T21:20:16.514266",
     "exception": false,
     "start_time": "2025-06-07T21:20:13.646252",
     "status": "completed"
    },
    "tags": []
   },
   "outputs": [],
   "source": [
    "st_debut_counts = get_releases_by(full_df, \"Secondary type\", operation=\"debut\", crosstab=True)\n",
    "st_debut_counts.groupby(st_debut_counts.index.strftime(\"%Y\")).sum()"
   ]
  },
  {
   "cell_type": "code",
   "execution_count": null,
   "id": "37",
   "metadata": {
    "papermill": {
     "duration": 20.670629,
     "end_time": "2025-06-07T21:20:38.217487",
     "exception": false,
     "start_time": "2025-06-07T21:20:17.546858",
     "status": "completed"
    },
    "tags": []
   },
   "outputs": [],
   "source": [
    "_ = plot.rate(\n",
    "    st_debut_counts,\n",
    "    bg=anime_df,\n",
    "    vlines=rules_df[\"begin\"],\n",
    "    subplots=True,\n",
    "    limit_year=True,\n",
    ")"
   ]
  },
  {
   "cell_type": "markdown",
   "id": "38",
   "metadata": {
    "papermill": {
     "duration": 0.507624,
     "end_time": "2025-06-07T21:20:39.013336",
     "exception": false,
     "start_time": "2025-06-07T21:20:38.505712",
     "status": "completed"
    },
    "tags": []
   },
   "source": [
    "### By Attribute"
   ]
  },
  {
   "cell_type": "code",
   "execution_count": null,
   "id": "39",
   "metadata": {
    "papermill": {
     "duration": 3.643511,
     "end_time": "2025-06-07T21:20:42.997553",
     "exception": false,
     "start_time": "2025-06-07T21:20:39.354042",
     "status": "completed"
    },
    "tags": []
   },
   "outputs": [],
   "source": [
    "att_debut_counts = get_releases_by(full_df, column=\"Attribute\", operation=\"debut\", crosstab=True)\n",
    "att_debut_counts.groupby(att_debut_counts.index.strftime(\"%Y\")).sum()"
   ]
  },
  {
   "cell_type": "code",
   "execution_count": null,
   "id": "40",
   "metadata": {
    "papermill": {
     "duration": 3.203246,
     "end_time": "2025-06-07T21:20:47.099584",
     "exception": false,
     "start_time": "2025-06-07T21:20:43.896338",
     "status": "completed"
    },
    "tags": []
   },
   "outputs": [],
   "source": [
    "attribute_colors = [plot.colors_dict[col] for col in att_debut_counts.columns]\n",
    "_ = plot.rate(\n",
    "    att_debut_counts,\n",
    "    colors=attribute_colors,\n",
    "    bg=anime_df,\n",
    "    vlines=rules_df[\"begin\"],\n",
    "    subplots=False,\n",
    "    limit_year=True,\n",
    ")"
   ]
  },
  {
   "cell_type": "markdown",
   "id": "41",
   "metadata": {
    "papermill": {
     "duration": 0.376208,
     "end_time": "2025-06-07T21:20:47.778837",
     "exception": false,
     "start_time": "2025-06-07T21:20:47.402629",
     "status": "completed"
    },
    "tags": []
   },
   "source": [
    "### By Monster type"
   ]
  },
  {
   "cell_type": "code",
   "execution_count": null,
   "id": "42",
   "metadata": {
    "papermill": {
     "duration": 2.986395,
     "end_time": "2025-06-07T21:20:51.098837",
     "exception": false,
     "start_time": "2025-06-07T21:20:48.112442",
     "status": "completed"
    },
    "tags": []
   },
   "outputs": [],
   "source": [
    "mt_debut_counts = get_releases_by(full_df, column=\"Monster type\", operation=\"debut\", crosstab=True)\n",
    "mt_debut_counts.groupby(mt_debut_counts.index.strftime(\"%Y\")).sum()"
   ]
  },
  {
   "cell_type": "code",
   "execution_count": null,
   "id": "43",
   "metadata": {
    "papermill": {
     "duration": 77.112589,
     "end_time": "2025-06-07T21:22:09.130847",
     "exception": false,
     "start_time": "2025-06-07T21:20:52.018258",
     "status": "completed"
    },
    "tags": []
   },
   "outputs": [],
   "source": [
    "_ = plot.rate(mt_debut_counts, bg=anime_df, vlines=rules_df[\"begin\"], subplots=True, limit_year=True)"
   ]
  },
  {
   "cell_type": "markdown",
   "id": "44",
   "metadata": {
    "papermill": {
     "duration": 1.018027,
     "end_time": "2025-06-07T21:22:10.770157",
     "exception": false,
     "start_time": "2025-06-07T21:22:09.752130",
     "status": "completed"
    },
    "tags": []
   },
   "source": [
    "### By Level/Rank"
   ]
  },
  {
   "cell_type": "code",
   "execution_count": null,
   "id": "45",
   "metadata": {
    "papermill": {
     "duration": 4.090188,
     "end_time": "2025-06-07T21:22:15.687797",
     "exception": false,
     "start_time": "2025-06-07T21:22:11.597609",
     "status": "completed"
    },
    "tags": []
   },
   "outputs": [],
   "source": [
    "level_debut = get_releases_by(\n",
    "    full_df[(full_df[\"Card type\"] != \"Non-game card\") & (full_df[\"Primary type\"] != \"Link Monster\")],\n",
    "    column=\"Level/Rank/Link\",\n",
    "    operation=\"debut\",\n",
    "    crosstab=False,\n",
    ")\n",
    "level_debut.groupby(level_debut[\"Debut\"].dt.year)[\"Level/Rank/Link\"].describe()"
   ]
  },
  {
   "cell_type": "code",
   "execution_count": null,
   "id": "46",
   "metadata": {
    "papermill": {
     "duration": 2.407438,
     "end_time": "2025-06-07T21:22:19.171930",
     "exception": false,
     "start_time": "2025-06-07T21:22:16.764492",
     "status": "completed"
    },
    "tags": []
   },
   "outputs": [],
   "source": [
    "_ = plot.box(\n",
    "    level_debut,\n",
    "    color=plot.colors_dict[\"Effect Monster\"],\n",
    "    notch=True,\n",
    ")\n",
    "plt.show()"
   ]
  },
  {
   "cell_type": "markdown",
   "id": "47",
   "metadata": {
    "papermill": {
     "duration": 1.292639,
     "end_time": "2025-06-07T21:22:20.977119",
     "exception": false,
     "start_time": "2025-06-07T21:22:19.684480",
     "status": "completed"
    },
    "tags": []
   },
   "source": [
    "### By Pendulum scale"
   ]
  },
  {
   "cell_type": "code",
   "execution_count": null,
   "id": "48",
   "metadata": {
    "papermill": {
     "duration": 3.975581,
     "end_time": "2025-06-07T21:22:25.466648",
     "exception": false,
     "start_time": "2025-06-07T21:22:21.491067",
     "status": "completed"
    },
    "tags": []
   },
   "outputs": [],
   "source": [
    "pendulum_debut = get_releases_by(\n",
    "    full_df[(full_df[\"Card type\"] != \"Non-game card\")], column=\"Pendulum Scale\", operation=\"debut\", crosstab=False\n",
    ")\n",
    "pendulum_debut.groupby(pendulum_debut[\"Debut\"].dt.year)[\"Pendulum Scale\"].describe()"
   ]
  },
  {
   "cell_type": "code",
   "execution_count": null,
   "id": "49",
   "metadata": {
    "papermill": {
     "duration": 0.920301,
     "end_time": "2025-06-07T21:22:27.021140",
     "exception": false,
     "start_time": "2025-06-07T21:22:26.100839",
     "status": "completed"
    },
    "tags": []
   },
   "outputs": [],
   "source": [
    "_ = plot.box(\n",
    "    pendulum_debut,\n",
    "    color=plot.colors_dict[\"Spell Card\"],\n",
    "    notch=True,\n",
    ")\n",
    "plt.show()"
   ]
  },
  {
   "cell_type": "markdown",
   "id": "50",
   "metadata": {
    "papermill": {
     "duration": 0.797191,
     "end_time": "2025-06-07T21:22:28.763821",
     "exception": false,
     "start_time": "2025-06-07T21:22:27.966630",
     "status": "completed"
    },
    "tags": []
   },
   "source": [
    "### By Link"
   ]
  },
  {
   "cell_type": "code",
   "execution_count": null,
   "id": "51",
   "metadata": {
    "papermill": {
     "duration": 0.921963,
     "end_time": "2025-06-07T21:22:30.812855",
     "exception": false,
     "start_time": "2025-06-07T21:22:29.890892",
     "status": "completed"
    },
    "tags": []
   },
   "outputs": [],
   "source": [
    "link_debut = get_releases_by(\n",
    "    full_df[(full_df[\"Card type\"] != \"Non-game card\") & (full_df[\"Primary type\"] == \"Link Monster\")],\n",
    "    column=\"Level/Rank/Link\",\n",
    "    operation=\"debut\",\n",
    "    crosstab=False,\n",
    ")\n",
    "link_debut.groupby(link_debut[\"Debut\"].dt.year)[\"Level/Rank/Link\"].describe()"
   ]
  },
  {
   "cell_type": "code",
   "execution_count": null,
   "id": "52",
   "metadata": {
    "papermill": {
     "duration": 1.332985,
     "end_time": "2025-06-07T21:22:32.709939",
     "exception": false,
     "start_time": "2025-06-07T21:22:31.376954",
     "status": "completed"
    },
    "tags": []
   },
   "outputs": [],
   "source": [
    "_ = plot.box(\n",
    "    link_debut,\n",
    "    color=plot.colors_dict[\"Link Monster\"],\n",
    "    notch=True,\n",
    ")\n",
    "plt.show()"
   ]
  },
  {
   "cell_type": "markdown",
   "id": "53",
   "metadata": {
    "papermill": {
     "duration": 0.499589,
     "end_time": "2025-06-07T21:22:33.715946",
     "exception": false,
     "start_time": "2025-06-07T21:22:33.216357",
     "status": "completed"
    },
    "tags": []
   },
   "source": [
    "### By ATK"
   ]
  },
  {
   "cell_type": "code",
   "execution_count": null,
   "id": "54",
   "metadata": {
    "papermill": {
     "duration": 3.801676,
     "end_time": "2025-06-07T21:22:38.042907",
     "exception": false,
     "start_time": "2025-06-07T21:22:34.241231",
     "status": "completed"
    },
    "tags": []
   },
   "outputs": [],
   "source": [
    "atk_debut = get_releases_by(\n",
    "    full_df[(full_df[\"Card type\"] != \"Non-game card\")], column=\"ATK\", operation=\"debut\", crosstab=False\n",
    ")\n",
    "atk_debut.groupby(atk_debut[\"Debut\"].dt.year)[\"ATK\"].describe()"
   ]
  },
  {
   "cell_type": "code",
   "execution_count": null,
   "id": "55",
   "metadata": {
    "papermill": {
     "duration": 2.707373,
     "end_time": "2025-06-07T21:22:41.665012",
     "exception": false,
     "start_time": "2025-06-07T21:22:38.957639",
     "status": "completed"
    },
    "tags": []
   },
   "outputs": [],
   "source": [
    "_ = plot.box(\n",
    "    atk_debut,\n",
    "    color=plot.colors_dict[\"Effect Monster\"],\n",
    "    notch=True,\n",
    ")\n",
    "plt.show()"
   ]
  },
  {
   "cell_type": "markdown",
   "id": "56",
   "metadata": {
    "papermill": {
     "duration": 0.576607,
     "end_time": "2025-06-07T21:22:42.873845",
     "exception": false,
     "start_time": "2025-06-07T21:22:42.297238",
     "status": "completed"
    },
    "tags": []
   },
   "source": [
    "### By DEF"
   ]
  },
  {
   "cell_type": "code",
   "execution_count": null,
   "id": "57",
   "metadata": {
    "papermill": {
     "duration": 3.631704,
     "end_time": "2025-06-07T21:22:47.665431",
     "exception": false,
     "start_time": "2025-06-07T21:22:44.033727",
     "status": "completed"
    },
    "tags": []
   },
   "outputs": [],
   "source": [
    "def_debut = get_releases_by(\n",
    "    full_df[(full_df[\"Card type\"] != \"Non-game card\")], column=\"DEF\", operation=\"debut\", crosstab=False\n",
    ")\n",
    "def_debut.groupby(def_debut[\"Debut\"].dt.year)[\"DEF\"].describe()"
   ]
  },
  {
   "cell_type": "code",
   "execution_count": null,
   "id": "58",
   "metadata": {
    "papermill": {
     "duration": 1.670475,
     "end_time": "2025-06-07T21:22:50.335275",
     "exception": false,
     "start_time": "2025-06-07T21:22:48.664800",
     "status": "completed"
    },
    "tags": []
   },
   "outputs": [],
   "source": [
    "_ = plot.box(\n",
    "    def_debut,\n",
    "    color=plot.colors_dict[\"Effect Monster\"],\n",
    "    notch=True,\n",
    ")\n",
    "plt.show()"
   ]
  },
  {
   "cell_type": "markdown",
   "id": "59",
   "metadata": {
    "papermill": {
     "duration": 0.536069,
     "end_time": "2025-06-07T21:22:51.404794",
     "exception": false,
     "start_time": "2025-06-07T21:22:50.868725",
     "status": "completed"
    },
    "tags": []
   },
   "source": [
    "## Last release"
   ]
  },
  {
   "cell_type": "markdown",
   "id": "60",
   "metadata": {
    "papermill": {
     "duration": 0.714464,
     "end_time": "2025-06-07T21:22:52.927543",
     "exception": false,
     "start_time": "2025-06-07T21:22:52.213079",
     "status": "completed"
    },
    "tags": []
   },
   "source": [
    "Obs: Only the last release of an individual card name"
   ]
  },
  {
   "cell_type": "code",
   "execution_count": null,
   "id": "61",
   "metadata": {
    "papermill": {
     "duration": 1.036619,
     "end_time": "2025-06-07T21:22:54.670319",
     "exception": false,
     "start_time": "2025-06-07T21:22:53.633700",
     "status": "completed"
    },
    "tags": []
   },
   "outputs": [],
   "source": [
    "last_counts = get_releases_by(full_df, column=None, operation=\"last\").value_counts(sort=False).rename(\"All formats\")\n",
    "last_counts.groupby(last_counts.index.strftime(\"%Y\")).sum()"
   ]
  },
  {
   "cell_type": "code",
   "execution_count": null,
   "id": "62",
   "metadata": {
    "papermill": {
     "duration": 3.173169,
     "end_time": "2025-06-07T21:22:58.376915",
     "exception": false,
     "start_time": "2025-06-07T21:22:55.203746",
     "status": "completed"
    },
    "tags": []
   },
   "outputs": [],
   "source": [
    "_ = plot.rate(last_counts, bg=anime_df, vlines=rules_df[\"begin\"], limit_year=True)\n",
    "plt.show()"
   ]
  },
  {
   "cell_type": "markdown",
   "id": "63",
   "metadata": {
    "papermill": {
     "duration": 0.890459,
     "end_time": "2025-06-07T21:22:59.891604",
     "exception": false,
     "start_time": "2025-06-07T21:22:59.001145",
     "status": "completed"
    },
    "tags": []
   },
   "source": [
    "### By Region"
   ]
  },
  {
   "cell_type": "code",
   "execution_count": null,
   "id": "64",
   "metadata": {
    "papermill": {
     "duration": 1.07307,
     "end_time": "2025-06-07T21:23:01.792750",
     "exception": false,
     "start_time": "2025-06-07T21:23:00.719680",
     "status": "completed"
    },
    "tags": []
   },
   "outputs": [],
   "source": [
    "full_df.groupby([\"Region\", \"Name\"])[\"Release\"].max().unstack(0)"
   ]
  },
  {
   "cell_type": "markdown",
   "id": "65",
   "metadata": {
    "papermill": {
     "duration": 0.609968,
     "end_time": "2025-06-07T21:23:02.996877",
     "exception": false,
     "start_time": "2025-06-07T21:23:02.386909",
     "status": "completed"
    },
    "tags": []
   },
   "source": [
    "Last releases by date"
   ]
  },
  {
   "cell_type": "code",
   "execution_count": null,
   "id": "66",
   "metadata": {
    "papermill": {
     "duration": 3.953029,
     "end_time": "2025-06-07T21:23:07.587220",
     "exception": false,
     "start_time": "2025-06-07T21:23:03.634191",
     "status": "completed"
    },
    "tags": []
   },
   "outputs": [],
   "source": [
    "region_last_counts = get_releases_by(full_df, column=\"Region\", operation=\"last\", crosstab=True)\n",
    "region_last_counts.groupby(region_last_counts.index.strftime(\"%Y\")).sum()"
   ]
  },
  {
   "cell_type": "code",
   "execution_count": null,
   "id": "67",
   "metadata": {
    "papermill": {
     "duration": 37.748734,
     "end_time": "2025-06-07T21:23:45.875185",
     "exception": false,
     "start_time": "2025-06-07T21:23:08.126451",
     "status": "completed"
    },
    "tags": []
   },
   "outputs": [],
   "source": [
    "_ = plot.rate(region_last_counts, bg=anime_df, vlines=rules_df[\"begin\"], subplots=True)\n",
    "plt.show()"
   ]
  },
  {
   "cell_type": "markdown",
   "id": "68",
   "metadata": {
    "papermill": {
     "duration": 0.647305,
     "end_time": "2025-06-07T21:23:47.232354",
     "exception": false,
     "start_time": "2025-06-07T21:23:46.585049",
     "status": "completed"
    },
    "tags": []
   },
   "source": [
    "### By Card type"
   ]
  },
  {
   "cell_type": "code",
   "execution_count": null,
   "id": "69",
   "metadata": {
    "papermill": {
     "duration": 3.589893,
     "end_time": "2025-06-07T21:23:51.693135",
     "exception": false,
     "start_time": "2025-06-07T21:23:48.103242",
     "status": "completed"
    },
    "tags": []
   },
   "outputs": [],
   "source": [
    "ct_last_counts = get_releases_by(full_df, column=\"Card type\", operation=\"last\", crosstab=True)\n",
    "ct_last_counts.groupby(ct_last_counts.index.strftime(\"%Y\")).sum()"
   ]
  },
  {
   "cell_type": "code",
   "execution_count": null,
   "id": "70",
   "metadata": {
    "papermill": {
     "duration": 2.793997,
     "end_time": "2025-06-07T21:23:55.199495",
     "exception": false,
     "start_time": "2025-06-07T21:23:52.405498",
     "status": "completed"
    },
    "tags": []
   },
   "outputs": [],
   "source": [
    "_ct_last_plot = ct_last_counts[[\"Monster Card\", \"Spell Card\", \"Trap Card\", \"Skill Card\"]]\n",
    "_ct_colors = [plot.colors_dict[col] for col in _ct_last_plot.columns]\n",
    "_ = plot.rate(\n",
    "    _ct_last_plot,\n",
    "    colors=_ct_colors,\n",
    "    bg=anime_df,\n",
    "    vlines=rules_df[\"begin\"],\n",
    "    subplots=False,\n",
    "    limit_year=True,\n",
    ")"
   ]
  },
  {
   "cell_type": "markdown",
   "id": "71",
   "metadata": {
    "papermill": {
     "duration": 0.920393,
     "end_time": "2025-06-07T21:23:57.052231",
     "exception": false,
     "start_time": "2025-06-07T21:23:56.131838",
     "status": "completed"
    },
    "tags": []
   },
   "source": [
    "### By Primary type"
   ]
  },
  {
   "cell_type": "code",
   "execution_count": null,
   "id": "72",
   "metadata": {
    "papermill": {
     "duration": 3.572991,
     "end_time": "2025-06-07T21:24:01.308466",
     "exception": false,
     "start_time": "2025-06-07T21:23:57.735475",
     "status": "completed"
    },
    "tags": []
   },
   "outputs": [],
   "source": [
    "pt_last_counts = get_releases_by(full_df, column=\"Primary type\", operation=\"last\", crosstab=True)\n",
    "pt_last_counts.groupby(pt_last_counts.index.strftime(\"%Y\")).sum()"
   ]
  },
  {
   "cell_type": "code",
   "execution_count": null,
   "id": "73",
   "metadata": {
    "papermill": {
     "duration": 3.290958,
     "end_time": "2025-06-07T21:24:05.656000",
     "exception": false,
     "start_time": "2025-06-07T21:24:02.365042",
     "status": "completed"
    },
    "tags": []
   },
   "outputs": [],
   "source": [
    "_pt_colors = [plot.colors_dict[col] for col in pt_last_counts.columns]\n",
    "_ = plot.rate(\n",
    "    pt_last_counts,\n",
    "    colors=_pt_colors,\n",
    "    bg=anime_df,\n",
    "    vlines=rules_df[\"begin\"],\n",
    "    subplots=False,\n",
    "    limit_year=True,\n",
    ")"
   ]
  },
  {
   "cell_type": "markdown",
   "id": "74",
   "metadata": {
    "papermill": {
     "duration": 0.784926,
     "end_time": "2025-06-07T21:24:07.669855",
     "exception": false,
     "start_time": "2025-06-07T21:24:06.884929",
     "status": "completed"
    },
    "tags": []
   },
   "source": [
    "### By Secondary type"
   ]
  },
  {
   "cell_type": "code",
   "execution_count": null,
   "id": "75",
   "metadata": {
    "papermill": {
     "duration": 4.444361,
     "end_time": "2025-06-07T21:24:12.824146",
     "exception": false,
     "start_time": "2025-06-07T21:24:08.379785",
     "status": "completed"
    },
    "tags": []
   },
   "outputs": [],
   "source": [
    "st_last_counts = get_releases_by(full_df, column=\"Secondary type\", operation=\"last\", crosstab=True)\n",
    "st_last_counts.groupby(st_last_counts.index.strftime(\"%Y\")).sum()"
   ]
  },
  {
   "cell_type": "code",
   "execution_count": null,
   "id": "76",
   "metadata": {
    "papermill": {
     "duration": 16.284017,
     "end_time": "2025-06-07T21:24:29.901918",
     "exception": false,
     "start_time": "2025-06-07T21:24:13.617901",
     "status": "completed"
    },
    "tags": []
   },
   "outputs": [],
   "source": [
    "_ = plot.rate(\n",
    "    st_last_counts,\n",
    "    bg=anime_df,\n",
    "    vlines=rules_df[\"begin\"],\n",
    "    subplots=True,\n",
    "    limit_year=True,\n",
    ")"
   ]
  },
  {
   "cell_type": "markdown",
   "id": "77",
   "metadata": {
    "papermill": {
     "duration": 1.049101,
     "end_time": "2025-06-07T21:24:31.923965",
     "exception": false,
     "start_time": "2025-06-07T21:24:30.874864",
     "status": "completed"
    },
    "tags": []
   },
   "source": [
    "### By Attribute"
   ]
  },
  {
   "cell_type": "code",
   "execution_count": null,
   "id": "78",
   "metadata": {
    "papermill": {
     "duration": 3.119607,
     "end_time": "2025-06-07T21:24:35.804222",
     "exception": false,
     "start_time": "2025-06-07T21:24:32.684615",
     "status": "completed"
    },
    "tags": []
   },
   "outputs": [],
   "source": [
    "att_last_counts = get_releases_by(full_df, column=\"Attribute\", operation=\"last\", crosstab=True)\n",
    "att_last_counts.groupby(att_last_counts.index.strftime(\"%Y\")).sum()"
   ]
  },
  {
   "cell_type": "code",
   "execution_count": null,
   "id": "79",
   "metadata": {
    "papermill": {
     "duration": 3.252588,
     "end_time": "2025-06-07T21:24:39.968175",
     "exception": false,
     "start_time": "2025-06-07T21:24:36.715587",
     "status": "completed"
    },
    "tags": []
   },
   "outputs": [],
   "source": [
    "attribute_colors = [plot.colors_dict[col] for col in att_last_counts.columns]\n",
    "_ = plot.rate(\n",
    "    att_last_counts,\n",
    "    colors=attribute_colors,\n",
    "    bg=anime_df,\n",
    "    vlines=rules_df[\"begin\"],\n",
    "    subplots=False,\n",
    "    limit_year=True,\n",
    ")"
   ]
  },
  {
   "cell_type": "markdown",
   "id": "80",
   "metadata": {
    "papermill": {
     "duration": 1.037112,
     "end_time": "2025-06-07T21:24:41.822103",
     "exception": false,
     "start_time": "2025-06-07T21:24:40.784991",
     "status": "completed"
    },
    "tags": []
   },
   "source": [
    "### By Monster type"
   ]
  },
  {
   "cell_type": "code",
   "execution_count": null,
   "id": "81",
   "metadata": {
    "papermill": {
     "duration": 3.704535,
     "end_time": "2025-06-07T21:24:46.279659",
     "exception": false,
     "start_time": "2025-06-07T21:24:42.575124",
     "status": "completed"
    },
    "tags": []
   },
   "outputs": [],
   "source": [
    "mt_last_counts = get_releases_by(full_df, column=\"Monster type\", operation=\"last\", crosstab=True)\n",
    "mt_last_counts.groupby(mt_last_counts.index.strftime(\"%Y\")).sum()"
   ]
  },
  {
   "cell_type": "code",
   "execution_count": null,
   "id": "82",
   "metadata": {
    "papermill": {
     "duration": 78.960108,
     "end_time": "2025-06-07T21:26:05.975410",
     "exception": false,
     "start_time": "2025-06-07T21:24:47.015302",
     "status": "completed"
    },
    "tags": []
   },
   "outputs": [],
   "source": [
    "_ = plot.rate(\n",
    "    mt_last_counts,\n",
    "    title=\"Debut\",\n",
    "    bg=anime_df,\n",
    "    vlines=rules_df[\"begin\"],\n",
    "    subplots=True,\n",
    "    limit_year=True,\n",
    ")"
   ]
  },
  {
   "cell_type": "markdown",
   "id": "83",
   "metadata": {
    "papermill": {
     "duration": 1.244684,
     "end_time": "2025-06-07T21:26:08.375363",
     "exception": false,
     "start_time": "2025-06-07T21:26:07.130679",
     "status": "completed"
    },
    "tags": []
   },
   "source": [
    "### By Level/Rank"
   ]
  },
  {
   "cell_type": "code",
   "execution_count": null,
   "id": "84",
   "metadata": {
    "papermill": {
     "duration": 4.349981,
     "end_time": "2025-06-07T21:26:14.238973",
     "exception": false,
     "start_time": "2025-06-07T21:26:09.888992",
     "status": "completed"
    },
    "tags": []
   },
   "outputs": [],
   "source": [
    "level_last = get_releases_by(\n",
    "    full_df[(full_df[\"Card type\"] != \"Non-game card\") & (full_df[\"Primary type\"] != \"Link Monster\")],\n",
    "    column=\"Level/Rank/Link\",\n",
    "    operation=\"last\",\n",
    "    crosstab=False,\n",
    ")\n",
    "level_last.groupby(level_last[\"Last release\"].dt.year)[\"Level/Rank/Link\"].describe()"
   ]
  },
  {
   "cell_type": "code",
   "execution_count": null,
   "id": "85",
   "metadata": {
    "papermill": {
     "duration": 1.703589,
     "end_time": "2025-06-07T21:26:17.401508",
     "exception": false,
     "start_time": "2025-06-07T21:26:15.697919",
     "status": "completed"
    },
    "tags": []
   },
   "outputs": [],
   "source": [
    "_ = plot.box(\n",
    "    level_last,\n",
    "    color=plot.colors_dict[\"Effect Monster\"],\n",
    "    notch=True,\n",
    ")\n",
    "plt.show()"
   ]
  },
  {
   "cell_type": "markdown",
   "id": "86",
   "metadata": {
    "papermill": {
     "duration": 1.118564,
     "end_time": "2025-06-07T21:26:19.658571",
     "exception": false,
     "start_time": "2025-06-07T21:26:18.540007",
     "status": "completed"
    },
    "tags": []
   },
   "source": [
    "### By Pendulum scale"
   ]
  },
  {
   "cell_type": "code",
   "execution_count": null,
   "id": "87",
   "metadata": {
    "papermill": {
     "duration": 4.666689,
     "end_time": "2025-06-07T21:26:25.608190",
     "exception": false,
     "start_time": "2025-06-07T21:26:20.941501",
     "status": "completed"
    },
    "tags": []
   },
   "outputs": [],
   "source": [
    "pendulum_last = get_releases_by(\n",
    "    full_df[(full_df[\"Card type\"] != \"Non-game card\")], column=\"Pendulum Scale\", operation=\"last\", crosstab=False\n",
    ")\n",
    "pendulum_last.groupby(pendulum_last[\"Last release\"].dt.year)[\"Pendulum Scale\"].describe()"
   ]
  },
  {
   "cell_type": "code",
   "execution_count": null,
   "id": "88",
   "metadata": {
    "papermill": {
     "duration": 1.535306,
     "end_time": "2025-06-07T21:26:28.101619",
     "exception": false,
     "start_time": "2025-06-07T21:26:26.566313",
     "status": "completed"
    },
    "tags": []
   },
   "outputs": [],
   "source": [
    "_ = plot.box(\n",
    "    pendulum_last,\n",
    "    color=plot.colors_dict[\"Spell Card\"],\n",
    "    notch=True,\n",
    ")\n",
    "plt.show()"
   ]
  },
  {
   "cell_type": "markdown",
   "id": "89",
   "metadata": {
    "papermill": {
     "duration": 1.097365,
     "end_time": "2025-06-07T21:26:30.294959",
     "exception": false,
     "start_time": "2025-06-07T21:26:29.197594",
     "status": "completed"
    },
    "tags": []
   },
   "source": [
    "### By Link"
   ]
  },
  {
   "cell_type": "code",
   "execution_count": null,
   "id": "90",
   "metadata": {
    "papermill": {
     "duration": 1.678843,
     "end_time": "2025-06-07T21:26:33.510612",
     "exception": false,
     "start_time": "2025-06-07T21:26:31.831769",
     "status": "completed"
    },
    "tags": []
   },
   "outputs": [],
   "source": [
    "link_last = get_releases_by(\n",
    "    full_df[(full_df[\"Card type\"] != \"Non-game card\") & (full_df[\"Primary type\"] == \"Link Monster\")],\n",
    "    column=\"Level/Rank/Link\",\n",
    "    operation=\"last\",\n",
    "    crosstab=False,\n",
    ")\n",
    "link_last.groupby(link_last[\"Last release\"].dt.year)[\"Level/Rank/Link\"].describe()"
   ]
  },
  {
   "cell_type": "code",
   "execution_count": null,
   "id": "91",
   "metadata": {
    "papermill": {
     "duration": 1.317108,
     "end_time": "2025-06-07T21:26:35.856615",
     "exception": false,
     "start_time": "2025-06-07T21:26:34.539507",
     "status": "completed"
    },
    "tags": []
   },
   "outputs": [],
   "source": [
    "_ = plot.box(\n",
    "    link_last,\n",
    "    color=plot.colors_dict[\"Link Monster\"],\n",
    "    notch=True,\n",
    ")\n",
    "plt.show()"
   ]
  },
  {
   "cell_type": "markdown",
   "id": "92",
   "metadata": {
    "papermill": {
     "duration": 0.949373,
     "end_time": "2025-06-07T21:26:38.071202",
     "exception": false,
     "start_time": "2025-06-07T21:26:37.121829",
     "status": "completed"
    },
    "tags": []
   },
   "source": [
    "### By ATK"
   ]
  },
  {
   "cell_type": "code",
   "execution_count": null,
   "id": "93",
   "metadata": {
    "papermill": {
     "duration": 4.416967,
     "end_time": "2025-06-07T21:26:44.062545",
     "exception": false,
     "start_time": "2025-06-07T21:26:39.645578",
     "status": "completed"
    },
    "tags": []
   },
   "outputs": [],
   "source": [
    "atk_last = get_releases_by(\n",
    "    full_df[(full_df[\"Card type\"] != \"Non-game card\")], column=\"ATK\", operation=\"last\", crosstab=False\n",
    ")\n",
    "atk_last.groupby(atk_last[\"Last release\"].dt.year)[\"ATK\"].describe()"
   ]
  },
  {
   "cell_type": "code",
   "execution_count": null,
   "id": "94",
   "metadata": {
    "papermill": {
     "duration": 1.903391,
     "end_time": "2025-06-07T21:26:46.958378",
     "exception": false,
     "start_time": "2025-06-07T21:26:45.054987",
     "status": "completed"
    },
    "tags": []
   },
   "outputs": [],
   "source": [
    "_ = plot.box(\n",
    "    atk_last,\n",
    "    color=plot.colors_dict[\"Effect Monster\"],\n",
    "    notch=True,\n",
    ")\n",
    "plt.show()"
   ]
  },
  {
   "cell_type": "markdown",
   "id": "95",
   "metadata": {
    "papermill": {
     "duration": 1.089688,
     "end_time": "2025-06-07T21:26:49.238734",
     "exception": false,
     "start_time": "2025-06-07T21:26:48.149046",
     "status": "completed"
    },
    "tags": []
   },
   "source": [
    "### By DEF"
   ]
  },
  {
   "cell_type": "code",
   "execution_count": null,
   "id": "96",
   "metadata": {
    "papermill": {
     "duration": 4.648044,
     "end_time": "2025-06-07T21:26:55.107168",
     "exception": false,
     "start_time": "2025-06-07T21:26:50.459124",
     "status": "completed"
    },
    "tags": []
   },
   "outputs": [],
   "source": [
    "def_last = get_releases_by(\n",
    "    full_df[(full_df[\"Card type\"] != \"Non-game card\")], column=\"DEF\", operation=\"last\", crosstab=False\n",
    ")\n",
    "def_last.groupby(def_last[\"Last release\"].dt.year)[\"DEF\"].describe()"
   ]
  },
  {
   "cell_type": "code",
   "execution_count": null,
   "id": "97",
   "metadata": {
    "papermill": {
     "duration": 1.826704,
     "end_time": "2025-06-07T21:26:58.209821",
     "exception": false,
     "start_time": "2025-06-07T21:26:56.383117",
     "status": "completed"
    },
    "tags": []
   },
   "outputs": [],
   "source": [
    "_ = plot.box(\n",
    "    def_last,\n",
    "    color=plot.colors_dict[\"Effect Monster\"],\n",
    "    notch=True,\n",
    ")\n",
    "plt.show()"
   ]
  },
  {
   "cell_type": "markdown",
   "id": "98",
   "metadata": {
    "papermill": {
     "duration": 1.201933,
     "end_time": "2025-06-07T21:27:00.398736",
     "exception": false,
     "start_time": "2025-06-07T21:26:59.196803",
     "status": "completed"
    },
    "tags": []
   },
   "source": [
    "## All releases"
   ]
  },
  {
   "cell_type": "markdown",
   "id": "99",
   "metadata": {
    "papermill": {
     "duration": 1.268947,
     "end_time": "2025-06-07T21:27:02.715963",
     "exception": false,
     "start_time": "2025-06-07T21:27:01.447016",
     "status": "completed"
    },
    "tags": []
   },
   "source": [
    "Obs: All releases includes reprints"
   ]
  },
  {
   "cell_type": "code",
   "execution_count": null,
   "id": "100",
   "metadata": {
    "papermill": {
     "duration": 3.51358,
     "end_time": "2025-06-07T21:27:07.712188",
     "exception": false,
     "start_time": "2025-06-07T21:27:04.198608",
     "status": "completed"
    },
    "tags": []
   },
   "outputs": [],
   "source": [
    "full_df[full_df[\"Release\"].notna()].groupby(\"Name\")[\"Release\"].unique().explode().reset_index().set_index(\n",
    "    \"Release\"\n",
    ").sort_index()"
   ]
  },
  {
   "cell_type": "code",
   "execution_count": null,
   "id": "101",
   "metadata": {
    "papermill": {
     "duration": 8.443861,
     "end_time": "2025-06-07T21:27:17.118055",
     "exception": false,
     "start_time": "2025-06-07T21:27:08.674194",
     "status": "completed"
    },
    "tags": []
   },
   "outputs": [],
   "source": [
    "all_releases = (\n",
    "    get_releases_by(full_df, column=None, operation=\"all\", crosstab=False).value_counts(sort=False).rename(\"All formats\")\n",
    ")\n",
    "_ = plot.rate(all_releases, bg=anime_df, vlines=rules_df[\"begin\"], limit_year=True)\n",
    "plt.show()"
   ]
  },
  {
   "cell_type": "markdown",
   "id": "102",
   "metadata": {
    "papermill": {
     "duration": 1.340755,
     "end_time": "2025-06-07T21:27:19.839037",
     "exception": false,
     "start_time": "2025-06-07T21:27:18.498282",
     "status": "completed"
    },
    "tags": []
   },
   "source": [
    "### By Region"
   ]
  },
  {
   "cell_type": "code",
   "execution_count": null,
   "id": "103",
   "metadata": {
    "papermill": {
     "duration": 18.677091,
     "end_time": "2025-06-07T21:27:39.491725",
     "exception": false,
     "start_time": "2025-06-07T21:27:20.814634",
     "status": "completed"
    },
    "tags": []
   },
   "outputs": [],
   "source": [
    "region_release_counts = get_releases_by(full_df, column=\"Region\", operation=\"all\", crosstab=True)\n",
    "region_release_counts.groupby(region_release_counts.index.strftime(\"%Y\")).sum()"
   ]
  },
  {
   "cell_type": "code",
   "execution_count": null,
   "id": "104",
   "metadata": {
    "papermill": {
     "duration": 39.003589,
     "end_time": "2025-06-07T21:28:19.474420",
     "exception": false,
     "start_time": "2025-06-07T21:27:40.470831",
     "status": "completed"
    },
    "tags": []
   },
   "outputs": [],
   "source": [
    "_ = plot.rate(region_release_counts, bg=anime_df, vlines=rules_df[\"begin\"], limit_year=True, subplots=True)\n",
    "plt.show()"
   ]
  },
  {
   "cell_type": "markdown",
   "id": "105",
   "metadata": {
    "papermill": {
     "duration": 1.092087,
     "end_time": "2025-06-07T21:28:22.241183",
     "exception": false,
     "start_time": "2025-06-07T21:28:21.149096",
     "status": "completed"
    },
    "tags": []
   },
   "source": [
    "### By Card type"
   ]
  },
  {
   "cell_type": "code",
   "execution_count": null,
   "id": "106",
   "metadata": {
    "papermill": {
     "duration": 7.787181,
     "end_time": "2025-06-07T21:28:31.138389",
     "exception": false,
     "start_time": "2025-06-07T21:28:23.351208",
     "status": "completed"
    },
    "tags": []
   },
   "outputs": [],
   "source": [
    "ct_release_counts = get_releases_by(full_df, column=\"Card type\", operation=\"all\", crosstab=True)\n",
    "ct_release_counts.groupby(ct_release_counts.index.strftime(\"%Y\")).sum()"
   ]
  },
  {
   "cell_type": "code",
   "execution_count": null,
   "id": "107",
   "metadata": {
    "papermill": {
     "duration": 3.359845,
     "end_time": "2025-06-07T21:28:35.894933",
     "exception": false,
     "start_time": "2025-06-07T21:28:32.535088",
     "status": "completed"
    },
    "tags": []
   },
   "outputs": [],
   "source": [
    "_ct_release_plot = ct_release_counts[[\"Monster Card\", \"Spell Card\", \"Trap Card\", \"Skill Card\"]]\n",
    "_ct_colors = [plot.colors_dict[col] for col in _ct_release_plot.columns]\n",
    "_ = plot.rate(_ct_release_plot, colors=_ct_colors, bg=anime_df, vlines=rules_df[\"begin\"], limit_year=True)\n",
    "plt.show()"
   ]
  },
  {
   "cell_type": "markdown",
   "id": "108",
   "metadata": {
    "papermill": {
     "duration": 1.237821,
     "end_time": "2025-06-07T21:28:38.335622",
     "exception": false,
     "start_time": "2025-06-07T21:28:37.097801",
     "status": "completed"
    },
    "tags": []
   },
   "source": [
    "### By Primary type"
   ]
  },
  {
   "cell_type": "code",
   "execution_count": null,
   "id": "109",
   "metadata": {
    "papermill": {
     "duration": 5.415541,
     "end_time": "2025-06-07T21:28:45.543516",
     "exception": false,
     "start_time": "2025-06-07T21:28:40.127975",
     "status": "completed"
    },
    "tags": []
   },
   "outputs": [],
   "source": [
    "pt_release_counts = get_releases_by(full_df, column=\"Primary type\", operation=\"all\", crosstab=True)\n",
    "pt_release_counts.groupby(pt_release_counts.index.strftime(\"%Y\")).sum()"
   ]
  },
  {
   "cell_type": "code",
   "execution_count": null,
   "id": "110",
   "metadata": {
    "papermill": {
     "duration": 3.378353,
     "end_time": "2025-06-07T21:28:50.347035",
     "exception": false,
     "start_time": "2025-06-07T21:28:46.968682",
     "status": "completed"
    },
    "tags": []
   },
   "outputs": [],
   "source": [
    "primary_type_colors = [plot.colors_dict[col] for col in pt_release_counts.columns]\n",
    "_ = plot.rate(pt_release_counts, colors=primary_type_colors, bg=anime_df, vlines=rules_df[\"begin\"], limit_year=True)\n",
    "plt.show()"
   ]
  },
  {
   "cell_type": "markdown",
   "id": "111",
   "metadata": {
    "papermill": {
     "duration": 1.163881,
     "end_time": "2025-06-07T21:28:52.971346",
     "exception": false,
     "start_time": "2025-06-07T21:28:51.807465",
     "status": "completed"
    },
    "tags": []
   },
   "source": [
    "### By Secondary type"
   ]
  },
  {
   "cell_type": "code",
   "execution_count": null,
   "id": "112",
   "metadata": {
    "papermill": {
     "duration": 4.995273,
     "end_time": "2025-06-07T21:28:59.536378",
     "exception": false,
     "start_time": "2025-06-07T21:28:54.541105",
     "status": "completed"
    },
    "tags": []
   },
   "outputs": [],
   "source": [
    "st_release_counts = get_releases_by(full_df, column=\"Secondary type\", operation=\"all\", crosstab=True)\n",
    "st_release_counts.groupby(st_release_counts.index.strftime(\"%Y\")).sum()"
   ]
  },
  {
   "cell_type": "code",
   "execution_count": null,
   "id": "113",
   "metadata": {
    "papermill": {
     "duration": 16.556576,
     "end_time": "2025-06-07T21:29:17.265001",
     "exception": false,
     "start_time": "2025-06-07T21:29:00.708425",
     "status": "completed"
    },
    "tags": []
   },
   "outputs": [],
   "source": [
    "_ = plot.rate(st_release_counts, bg=anime_df, vlines=rules_df[\"begin\"], limit_year=True, subplots=True)\n",
    "plt.show()"
   ]
  },
  {
   "cell_type": "markdown",
   "id": "114",
   "metadata": {
    "papermill": {
     "duration": 1.236971,
     "end_time": "2025-06-07T21:29:19.949851",
     "exception": false,
     "start_time": "2025-06-07T21:29:18.712880",
     "status": "completed"
    },
    "tags": []
   },
   "source": [
    "### By Attribute"
   ]
  },
  {
   "cell_type": "code",
   "execution_count": null,
   "id": "115",
   "metadata": {
    "papermill": {
     "duration": 5.79439,
     "end_time": "2025-06-07T21:29:27.141738",
     "exception": false,
     "start_time": "2025-06-07T21:29:21.347348",
     "status": "completed"
    },
    "tags": []
   },
   "outputs": [],
   "source": [
    "att_release_counts = get_releases_by(full_df, column=\"Attribute\", operation=\"all\", crosstab=True)\n",
    "att_release_counts.groupby(att_release_counts.index.strftime(\"%Y\")).sum()"
   ]
  },
  {
   "cell_type": "code",
   "execution_count": null,
   "id": "116",
   "metadata": {
    "papermill": {
     "duration": 3.446848,
     "end_time": "2025-06-07T21:29:32.316161",
     "exception": false,
     "start_time": "2025-06-07T21:29:28.869313",
     "status": "completed"
    },
    "tags": []
   },
   "outputs": [],
   "source": [
    "attribute_colors = [plot.colors_dict[col] for col in att_release_counts.columns]\n",
    "_ = plot.rate(\n",
    "    att_release_counts, colors=attribute_colors, bg=anime_df, vlines=rules_df[\"begin\"], cumsum=True, limit_year=True\n",
    ")\n",
    "plt.show()"
   ]
  },
  {
   "cell_type": "markdown",
   "id": "117",
   "metadata": {
    "papermill": {
     "duration": 1.690818,
     "end_time": "2025-06-07T21:29:35.624573",
     "exception": false,
     "start_time": "2025-06-07T21:29:33.933755",
     "status": "completed"
    },
    "tags": []
   },
   "source": [
    "### By Monster type"
   ]
  },
  {
   "cell_type": "code",
   "execution_count": null,
   "id": "118",
   "metadata": {
    "papermill": {
     "duration": 6.398306,
     "end_time": "2025-06-07T21:29:43.743483",
     "exception": false,
     "start_time": "2025-06-07T21:29:37.345177",
     "status": "completed"
    },
    "tags": []
   },
   "outputs": [],
   "source": [
    "mt_release_counts = get_releases_by(full_df, column=\"Monster type\", operation=\"all\", crosstab=True)\n",
    "mt_release_counts.groupby(mt_release_counts.index.strftime(\"%Y\")).sum()"
   ]
  },
  {
   "cell_type": "code",
   "execution_count": null,
   "id": "119",
   "metadata": {
    "papermill": {
     "duration": 73.529621,
     "end_time": "2025-06-07T21:30:58.536795",
     "exception": false,
     "start_time": "2025-06-07T21:29:45.007174",
     "status": "completed"
    },
    "tags": []
   },
   "outputs": [],
   "source": [
    "_ = plot.rate(mt_release_counts, bg=anime_df, vlines=rules_df[\"begin\"], subplots=True, limit_year=True)\n",
    "plt.show()"
   ]
  },
  {
   "cell_type": "markdown",
   "id": "120",
   "metadata": {
    "papermill": {
     "duration": 2.229112,
     "end_time": "2025-06-07T21:31:02.594880",
     "exception": false,
     "start_time": "2025-06-07T21:31:00.365768",
     "status": "completed"
    },
    "tags": []
   },
   "source": [
    "### By Level/Rank"
   ]
  },
  {
   "cell_type": "code",
   "execution_count": null,
   "id": "121",
   "metadata": {
    "papermill": {
     "duration": 5.645011,
     "end_time": "2025-06-07T21:31:10.155159",
     "exception": false,
     "start_time": "2025-06-07T21:31:04.510148",
     "status": "completed"
    },
    "tags": []
   },
   "outputs": [],
   "source": [
    "level_release = get_releases_by(\n",
    "    full_df[(full_df[\"Card type\"] != \"Non-game card\") & (full_df[\"Primary type\"] != \"Link Monster\")],\n",
    "    column=\"Level/Rank/Link\",\n",
    "    operation=\"all\",\n",
    "    crosstab=False,\n",
    ")\n",
    "level_release.groupby(level_release[\"All releases\"].dt.year)[\"Level/Rank/Link\"].describe()"
   ]
  },
  {
   "cell_type": "code",
   "execution_count": null,
   "id": "122",
   "metadata": {
    "papermill": {
     "duration": 2.847524,
     "end_time": "2025-06-07T21:31:14.655873",
     "exception": false,
     "start_time": "2025-06-07T21:31:11.808349",
     "status": "completed"
    },
    "tags": []
   },
   "outputs": [],
   "source": [
    "_ = plot.box(\n",
    "    level_release,\n",
    "    color=plot.colors_dict[\"Level\"],\n",
    "    notch=True,\n",
    ")\n",
    "plt.show()"
   ]
  },
  {
   "cell_type": "markdown",
   "id": "123",
   "metadata": {
    "papermill": {
     "duration": 2.056284,
     "end_time": "2025-06-07T21:31:18.189341",
     "exception": false,
     "start_time": "2025-06-07T21:31:16.133057",
     "status": "completed"
    },
    "tags": []
   },
   "source": [
    "### By Pendulum scale"
   ]
  },
  {
   "cell_type": "code",
   "execution_count": null,
   "id": "124",
   "metadata": {
    "papermill": {
     "duration": 4.457843,
     "end_time": "2025-06-07T21:31:24.303200",
     "exception": false,
     "start_time": "2025-06-07T21:31:19.845357",
     "status": "completed"
    },
    "tags": []
   },
   "outputs": [],
   "source": [
    "pendulum_release = get_releases_by(\n",
    "    full_df[(full_df[\"Card type\"] != \"Non-game card\")],\n",
    "    column=\"Pendulum Scale\",\n",
    "    operation=\"all\",\n",
    "    crosstab=False,\n",
    ")\n",
    "pendulum_release.groupby(pendulum_release[\"All releases\"].dt.year)[\"Pendulum Scale\"].describe()"
   ]
  },
  {
   "cell_type": "code",
   "execution_count": null,
   "id": "125",
   "metadata": {
    "papermill": {
     "duration": 2.33356,
     "end_time": "2025-06-07T21:31:28.437942",
     "exception": false,
     "start_time": "2025-06-07T21:31:26.104382",
     "status": "completed"
    },
    "tags": []
   },
   "outputs": [],
   "source": [
    "_ = plot.box(\n",
    "    pendulum_release,\n",
    "    color=plot.colors_dict[\"Pendulum Monster\"],\n",
    "    notch=True,\n",
    ")\n",
    "plt.show()"
   ]
  },
  {
   "cell_type": "markdown",
   "id": "126",
   "metadata": {
    "papermill": {
     "duration": 1.830626,
     "end_time": "2025-06-07T21:31:32.384689",
     "exception": false,
     "start_time": "2025-06-07T21:31:30.554063",
     "status": "completed"
    },
    "tags": []
   },
   "source": [
    "### By Link"
   ]
  },
  {
   "cell_type": "code",
   "execution_count": null,
   "id": "127",
   "metadata": {
    "papermill": {
     "duration": 2.865252,
     "end_time": "2025-06-07T21:31:37.358418",
     "exception": false,
     "start_time": "2025-06-07T21:31:34.493166",
     "status": "completed"
    },
    "tags": []
   },
   "outputs": [],
   "source": [
    "link_release = get_releases_by(\n",
    "    full_df[(full_df[\"Card type\"] != \"Non-game card\") & (full_df[\"Primary type\"] == \"Link Monster\")],\n",
    "    column=\"Level/Rank/Link\",\n",
    "    operation=\"all\",\n",
    "    crosstab=False,\n",
    ")\n",
    "link_release.groupby(link_release[\"All releases\"].dt.year)[\"Level/Rank/Link\"].describe()"
   ]
  },
  {
   "cell_type": "code",
   "execution_count": null,
   "id": "128",
   "metadata": {
    "papermill": {
     "duration": 1.823923,
     "end_time": "2025-06-07T21:31:41.121049",
     "exception": false,
     "start_time": "2025-06-07T21:31:39.297126",
     "status": "completed"
    },
    "tags": []
   },
   "outputs": [],
   "source": [
    "_ = plot.box(\n",
    "    link_release,\n",
    "    color=plot.colors_dict[\"Link Monster\"],\n",
    ")\n",
    "plt.show()"
   ]
  },
  {
   "cell_type": "markdown",
   "id": "129",
   "metadata": {
    "papermill": {
     "duration": 1.492418,
     "end_time": "2025-06-07T21:31:44.533067",
     "exception": false,
     "start_time": "2025-06-07T21:31:43.040649",
     "status": "completed"
    },
    "tags": []
   },
   "source": [
    "### By ATK"
   ]
  },
  {
   "cell_type": "code",
   "execution_count": null,
   "id": "130",
   "metadata": {
    "papermill": {
     "duration": 6.886768,
     "end_time": "2025-06-07T21:31:53.200081",
     "exception": false,
     "start_time": "2025-06-07T21:31:46.313313",
     "status": "completed"
    },
    "tags": []
   },
   "outputs": [],
   "source": [
    "atk_release = get_releases_by(\n",
    "    full_df[full_df[\"Card type\"] != \"Non-game card\"], column=\"ATK\", operation=\"all\", crosstab=False\n",
    ")\n",
    "atk_release.groupby(atk_release[\"All releases\"].dt.year)[\"ATK\"].describe()"
   ]
  },
  {
   "cell_type": "code",
   "execution_count": null,
   "id": "131",
   "metadata": {
    "papermill": {
     "duration": 3.400699,
     "end_time": "2025-06-07T21:31:58.221250",
     "exception": false,
     "start_time": "2025-06-07T21:31:54.820551",
     "status": "completed"
    },
    "tags": []
   },
   "outputs": [],
   "source": [
    "_ = plot.box(\n",
    "    atk_release,\n",
    "    color=plot.colors_dict[\"Effect Monster\"],\n",
    "    notch=True,\n",
    ")\n",
    "plt.show()"
   ]
  },
  {
   "cell_type": "markdown",
   "id": "132",
   "metadata": {
    "papermill": {
     "duration": 1.86814,
     "end_time": "2025-06-07T21:32:01.861919",
     "exception": false,
     "start_time": "2025-06-07T21:31:59.993779",
     "status": "completed"
    },
    "tags": []
   },
   "source": [
    "### By DEF"
   ]
  },
  {
   "cell_type": "code",
   "execution_count": null,
   "id": "133",
   "metadata": {
    "papermill": {
     "duration": 6.942318,
     "end_time": "2025-06-07T21:32:10.380501",
     "exception": false,
     "start_time": "2025-06-07T21:32:03.438183",
     "status": "completed"
    },
    "tags": []
   },
   "outputs": [],
   "source": [
    "def_release = get_releases_by(\n",
    "    full_df[full_df[\"Card type\"] != \"Non-game card\"], column=\"DEF\", operation=\"all\", crosstab=False\n",
    ")\n",
    "def_release.groupby(def_release[\"All releases\"].dt.year)[\"DEF\"].describe()"
   ]
  },
  {
   "cell_type": "code",
   "execution_count": null,
   "id": "134",
   "metadata": {
    "papermill": {
     "duration": 3.42671,
     "end_time": "2025-06-07T21:32:15.639092",
     "exception": false,
     "start_time": "2025-06-07T21:32:12.212382",
     "status": "completed"
    },
    "tags": []
   },
   "outputs": [],
   "source": [
    "_ = plot.box(\n",
    "    def_release,\n",
    "    color=plot.colors_dict[\"Effect Monster\"],\n",
    "    notch=True,\n",
    ")\n",
    "plt.show()"
   ]
  },
  {
   "cell_type": "markdown",
   "id": "135",
   "metadata": {
    "papermill": {
     "duration": 1.482632,
     "end_time": "2025-06-07T21:32:18.754793",
     "exception": false,
     "start_time": "2025-06-07T21:32:17.272161",
     "status": "completed"
    },
    "tags": []
   },
   "source": [
    "# Merge failed"
   ]
  },
  {
   "cell_type": "markdown",
   "id": "136",
   "metadata": {
    "papermill": {
     "duration": 1.551699,
     "end_time": "2025-06-07T21:32:22.184719",
     "exception": false,
     "start_time": "2025-06-07T21:32:20.633020",
     "status": "completed"
    },
    "tags": []
   },
   "source": [
    "## Names missing"
   ]
  },
  {
   "cell_type": "markdown",
   "id": "137",
   "metadata": {
    "papermill": {
     "duration": 1.789623,
     "end_time": "2025-06-07T21:32:25.638992",
     "exception": false,
     "start_time": "2025-06-07T21:32:23.849369",
     "status": "completed"
    },
    "tags": []
   },
   "source": [
    "Likely due to card being renamed but the old name kept in the set lists"
   ]
  },
  {
   "cell_type": "code",
   "execution_count": null,
   "id": "138",
   "metadata": {
    "papermill": {
     "duration": 3.508238,
     "end_time": "2025-06-07T21:32:30.985011",
     "exception": false,
     "start_time": "2025-06-07T21:32:27.476773",
     "status": "completed"
    },
    "tags": []
   },
   "outputs": [],
   "source": [
    "cards_df.where(~cards_df[\"Name\"].isin(full_df[\"Name\"])).dropna(how=\"all\")"
   ]
  },
  {
   "cell_type": "markdown",
   "id": "139",
   "metadata": {
    "papermill": {
     "duration": 1.768365,
     "end_time": "2025-06-07T21:32:34.266621",
     "exception": false,
     "start_time": "2025-06-07T21:32:32.498256",
     "status": "completed"
    },
    "tags": []
   },
   "source": [
    "## Card number missing"
   ]
  },
  {
   "cell_type": "markdown",
   "id": "140",
   "metadata": {
    "papermill": {
     "duration": 1.873178,
     "end_time": "2025-06-07T21:32:38.030114",
     "exception": false,
     "start_time": "2025-06-07T21:32:36.156936",
     "status": "completed"
    },
    "tags": []
   },
   "source": [
    "Likely old OCG cards without card number"
   ]
  },
  {
   "cell_type": "code",
   "execution_count": null,
   "id": "141",
   "metadata": {
    "papermill": {
     "duration": 2.378334,
     "end_time": "2025-06-07T21:32:42.485150",
     "exception": false,
     "start_time": "2025-06-07T21:32:40.106816",
     "status": "completed"
    },
    "tags": []
   },
   "outputs": [],
   "source": [
    "set_lists_df.where(\n",
    "    (~set_lists_df[\"Card number\"].isin(full_df[\"Card number\"]))\n",
    "    & (~set_lists_df[\"Card number\"].dropna().str.startswith(\"RD/\"))\n",
    ").dropna(how=\"all\")"
   ]
  },
  {
   "cell_type": "markdown",
   "id": "142",
   "metadata": {
    "papermill": {
     "duration": 1.673046,
     "end_time": "2025-06-07T21:32:46.098114",
     "exception": false,
     "start_time": "2025-06-07T21:32:44.425068",
     "status": "completed"
    },
    "tags": []
   },
   "source": [
    "# Epilogue"
   ]
  },
  {
   "cell_type": "code",
   "execution_count": null,
   "id": "143",
   "metadata": {
    "papermill": {
     "duration": 14.562135,
     "end_time": "2025-06-07T21:33:02.396704",
     "exception": false,
     "start_time": "2025-06-07T21:32:47.834569",
     "status": "completed"
    },
    "tags": []
   },
   "outputs": [],
   "source": [
    "benchmark(report=\"timeline\", timestamp=timestamp)"
   ]
  },
  {
   "cell_type": "code",
   "execution_count": null,
   "id": "144",
   "metadata": {
    "papermill": {
     "duration": 1.773425,
     "end_time": "2025-06-07T21:33:05.845672",
     "exception": false,
     "start_time": "2025-06-07T21:33:04.072247",
     "status": "completed"
    },
    "tags": []
   },
   "outputs": [],
   "source": [
    "footer()"
   ]
  },
  {
   "cell_type": "markdown",
   "id": "145",
   "metadata": {
    "papermill": {
     "duration": 2.190094,
     "end_time": "2025-06-07T21:33:10.538881",
     "exception": false,
     "start_time": "2025-06-07T21:33:08.348787",
     "status": "completed"
    },
    "tags": []
   },
   "source": [
    "## HTML export"
   ]
  },
  {
   "cell_type": "code",
   "execution_count": null,
   "id": "146",
   "metadata": {
    "papermill": {
     "duration": 1.736839,
     "end_time": "2025-06-07T21:33:14.096230",
     "exception": false,
     "start_time": "2025-06-07T21:33:12.359391",
     "status": "completed"
    },
    "tags": []
   },
   "outputs": [],
   "source": [
    "# May need to sleep for a few seconds after saving\n",
    "save_notebook()"
   ]
  },
  {
   "cell_type": "code",
   "execution_count": null,
   "id": "147",
   "metadata": {
    "papermill": {
     "duration": 12.914953,
     "end_time": "2025-06-07T21:33:28.832926",
     "exception": false,
     "start_time": "2025-06-07T21:33:15.917973",
     "status": "completed"
    },
    "tags": []
   },
   "outputs": [],
   "source": [
    "export_notebook(dirs.NOTEBOOKS.user / \"Timeline.ipynb\")"
   ]
  },
  {
   "cell_type": "markdown",
   "id": "148",
   "metadata": {
    "papermill": {
     "duration": 2.619647,
     "end_time": "2025-06-07T21:33:33.912829",
     "exception": false,
     "start_time": "2025-06-07T21:33:31.293182",
     "status": "completed"
    },
    "tags": [
     "exclude"
    ]
   },
   "source": [
    "## Git"
   ]
  },
  {
   "cell_type": "code",
   "execution_count": null,
   "id": "149",
   "metadata": {
    "papermill": {
     "duration": null,
     "end_time": null,
     "exception": false,
     "start_time": "2025-06-07T21:33:35.747669",
     "status": "running"
    },
    "tags": [
     "exclude"
    ]
   },
   "outputs": [],
   "source": [
    "git.commit(\"*[Tt]imeline*\", f\"Timeline update - {timestamp.isoformat()}\")"
   ]
  }
 ],
 "metadata": {
  "kernelspec": {
   "display_name": "venv",
   "language": "python",
   "name": "python3"
  },
  "language_info": {
   "codemirror_mode": {
    "name": "ipython",
    "version": 3
   },
   "file_extension": ".py",
   "mimetype": "text/x-python",
   "name": "python",
   "nbconvert_exporter": "python",
   "pygments_lexer": "ipython3",
   "version": "3.11.6"
  },
  "papermill": {
   "default_parameters": {},
   "duration": null,
   "end_time": null,
   "environment_variables": {},
   "exception": null,
   "input_path": "/home/jovyan/yugiquery/notebooks/Timeline.ipynb",
   "output_path": "/home/jovyan/yugiquery/notebooks/Timeline.ipynb",
   "parameters": {},
   "start_time": "2025-06-07T21:18:15.483036",
   "version": "2.6.0"
  },
  "toc": {
   "base_numbering": 1,
   "nav_menu": {},
   "number_sections": true,
   "sideBar": true,
   "skip_h1_title": false,
   "title_cell": "Table of Contents",
   "title_sidebar": "Contents",
   "toc_cell": true,
   "toc_position": {},
   "toc_section_display": true,
   "toc_window_display": true
  }
 },
 "nbformat": 4,
 "nbformat_minor": 5
}
