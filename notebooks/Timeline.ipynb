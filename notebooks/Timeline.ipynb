{
 "cells": [
  {
   "cell_type": "code",
   "execution_count": null,
   "id": "0",
   "metadata": {
    "papermill": {
     "duration": 2.865068,
     "end_time": "2025-04-12T06:51:29.170615",
     "exception": false,
     "start_time": "2025-04-12T06:51:26.305547",
     "status": "completed"
    },
    "tags": []
   },
   "outputs": [],
   "source": [
    "from yugiquery import *\n",
    "\n",
    "init_notebook_mode(all_interactive=True)\n",
    "\n",
    "header(\"Timeline\")"
   ]
  },
  {
   "cell_type": "markdown",
   "id": "1",
   "metadata": {
    "papermill": {
     "duration": 0.047633,
     "end_time": "2025-04-12T06:51:29.272386",
     "exception": false,
     "start_time": "2025-04-12T06:51:29.224753",
     "status": "completed"
    },
    "tags": []
   },
   "source": [
    "---"
   ]
  },
  {
   "cell_type": "markdown",
   "id": "2",
   "metadata": {
    "papermill": {
     "duration": 0.04971,
     "end_time": "2025-04-12T06:51:29.371538",
     "exception": false,
     "start_time": "2025-04-12T06:51:29.321828",
     "status": "completed"
    },
    "tags": []
   },
   "source": [
    "Table of Contents <a class=\"jp-toc-ignore\"></a>\n",
    "=================\n",
    "* [1 Data preparation](#data-preparation)\n",
    "  * [1.1 Load data](#load-data)\n",
    "  * [1.2 Merge data](#merge-data)\n",
    "* [2 Data visualization](#data-visualization)\n",
    "  * [2.1 Debut](#debut)\n",
    "    * [2.1.1 By Format](#by-format)\n",
    "    * [2.1.2 By Region](#by-region)\n",
    "    * [2.1.3 By Card type](#by-card-type)\n",
    "    * [2.1.4 By Primary type](#by-primary-type)\n",
    "    * [2.1.5 By Secondary type](#by-secondary-type)\n",
    "    * [2.1.6 By Attribute](#by-attribute)\n",
    "    * [2.1.7 By Monster type](#by-monster-type)\n",
    "    * [2.1.8 By Level/Rank](#by-level/rank)\n",
    "    * [2.1.9 By Pendulum scale](#by-pendulum-scale)\n",
    "    * [2.1.10 By Link](#by-link)\n",
    "    * [2.1.11 By ATK](#by-atk)\n",
    "    * [2.1.12 By DEF](#by-def)\n",
    "  * [2.2 Last release](#last-release)\n",
    "    * [2.2.1 By Region](#by-region)\n",
    "    * [2.2.2 By Card type](#by-card-type)\n",
    "    * [2.2.3 By Primary type](#by-primary-type)\n",
    "    * [2.2.4 By Secondary type](#by-secondary-type)\n",
    "    * [2.2.5 By Attribute](#by-attribute)\n",
    "    * [2.2.6 By Monster type](#by-monster-type)\n",
    "    * [2.2.7 By Level/Rank](#by-level/rank)\n",
    "    * [2.2.8 By Pendulum scale](#by-pendulum-scale)\n",
    "    * [2.2.9 By Link](#by-link)\n",
    "    * [2.2.10 By ATK](#by-atk)\n",
    "    * [2.2.11 By DEF](#by-def)\n",
    "  * [2.3 All releases](#all-releases)\n",
    "    * [2.3.1 By Region](#by-region)\n",
    "    * [2.3.2 By Card type](#by-card-type)\n",
    "    * [2.3.3 By Primary type](#by-primary-type)\n",
    "    * [2.3.4 By Secondary type](#by-secondary-type)\n",
    "    * [2.3.5 By Attribute](#by-attribute)\n",
    "    * [2.3.6 By Monster type](#by-monster-type)\n",
    "    * [2.3.7 By Level/Rank](#by-level/rank)\n",
    "    * [2.3.8 By Pendulum scale](#by-pendulum-scale)\n",
    "    * [2.3.9 By Link](#by-link)\n",
    "    * [2.3.10 By ATK](#by-atk)\n",
    "    * [2.3.11 By DEF](#by-def)\n",
    "* [3 Merge failed](#merge-failed)\n",
    "  * [3.1 Names missing](#names-missing)\n",
    "  * [3.2 Card number missing](#card-number-missing)\n",
    "* [4 Epilogue](#epilogue)\n",
    "  * [4.1 HTML export](#html-export)\n",
    "  * [4.2 Git](#git)"
   ]
  },
  {
   "cell_type": "markdown",
   "id": "3",
   "metadata": {
    "papermill": {
     "duration": 0.051236,
     "end_time": "2025-04-12T06:51:29.473767",
     "exception": false,
     "start_time": "2025-04-12T06:51:29.422531",
     "status": "completed"
    },
    "tags": []
   },
   "source": [
    "# Data preparation"
   ]
  },
  {
   "cell_type": "code",
   "execution_count": null,
   "id": "4",
   "metadata": {
    "papermill": {
     "duration": 0.057771,
     "end_time": "2025-04-12T06:51:29.581877",
     "exception": false,
     "start_time": "2025-04-12T06:51:29.524106",
     "status": "completed"
    },
    "tags": []
   },
   "outputs": [],
   "source": [
    "timestamp = arrow.utcnow()"
   ]
  },
  {
   "cell_type": "markdown",
   "id": "5",
   "metadata": {
    "papermill": {
     "duration": 0.050985,
     "end_time": "2025-04-12T06:51:29.681772",
     "exception": false,
     "start_time": "2025-04-12T06:51:29.630787",
     "status": "completed"
    },
    "tags": []
   },
   "source": [
    "## Load data"
   ]
  },
  {
   "cell_type": "code",
   "execution_count": null,
   "id": "6",
   "metadata": {
    "papermill": {
     "duration": 0.103275,
     "end_time": "2025-04-12T06:51:29.837448",
     "exception": false,
     "start_time": "2025-04-12T06:51:29.734173",
     "status": "completed"
    },
    "tags": []
   },
   "outputs": [],
   "source": [
    "# Load list of important dates\n",
    "dates_json = load_json(dirs.get_asset(\"json\", \"dates.json\"))\n",
    "anime_df = pd.DataFrame(dates_json[\"anime\"][\"series\"]).set_index(\"title\").map(pd.to_datetime, dayfirst=True)\n",
    "rules_df = (\n",
    "    pd.DataFrame(dates_json[\"rules\"]).set_index(\"title\").map(pd.to_datetime, dayfirst=True).iloc[2:]\n",
    ")  # Ignore old rules"
   ]
  },
  {
   "cell_type": "code",
   "execution_count": null,
   "id": "7",
   "metadata": {
    "papermill": {
     "duration": 11.213161,
     "end_time": "2025-04-12T06:51:41.104570",
     "exception": false,
     "start_time": "2025-04-12T06:51:29.891409",
     "status": "completed"
    },
    "tags": []
   },
   "outputs": [],
   "source": [
    "# Get latest file if exist\n",
    "cards_df = load_latest_data(\"cards\")\n",
    "speed_df = load_latest_data(\"speed\")\n",
    "set_lists_df = load_latest_data(\"sets\")"
   ]
  },
  {
   "cell_type": "markdown",
   "id": "8",
   "metadata": {
    "papermill": {
     "duration": 0.049891,
     "end_time": "2025-04-12T06:51:41.209141",
     "exception": false,
     "start_time": "2025-04-12T06:51:41.159250",
     "status": "completed"
    },
    "tags": []
   },
   "source": [
    "## Merge data"
   ]
  },
  {
   "cell_type": "code",
   "execution_count": null,
   "id": "9",
   "metadata": {
    "papermill": {
     "duration": 0.05637,
     "end_time": "2025-04-12T06:51:41.317416",
     "exception": false,
     "start_time": "2025-04-12T06:51:41.261046",
     "status": "completed"
    },
    "tags": []
   },
   "outputs": [],
   "source": [
    "df_list = [cards_df, speed_df, set_lists_df]\n",
    "if any(item is None for item in df_list):\n",
    "    raise SystemExit(\"Not enough files to proceed. Aborting!\")"
   ]
  },
  {
   "cell_type": "code",
   "execution_count": null,
   "id": "10",
   "metadata": {
    "papermill": {
     "duration": 3.39498,
     "end_time": "2025-04-12T06:51:44.767412",
     "exception": false,
     "start_time": "2025-04-12T06:51:41.372432",
     "status": "completed"
    },
    "tags": []
   },
   "outputs": [],
   "source": [
    "set_lists_df = set_lists_df[\n",
    "    ~set_lists_df[\"Card number\"].str.startswith(\"RD/\").astype(bool).fillna(False)\n",
    "]  # Remove Rush duel cards\n",
    "full_df = merge_set_to_cards(cards_df, speed_df, set_df=set_lists_df)"
   ]
  },
  {
   "cell_type": "markdown",
   "id": "11",
   "metadata": {
    "papermill": {
     "duration": 0.12473,
     "end_time": "2025-04-12T06:51:44.959469",
     "exception": false,
     "start_time": "2025-04-12T06:51:44.834739",
     "status": "completed"
    },
    "tags": []
   },
   "source": [
    "# Data visualization"
   ]
  },
  {
   "cell_type": "markdown",
   "id": "12",
   "metadata": {
    "papermill": {
     "duration": 0.101632,
     "end_time": "2025-04-12T06:51:45.204902",
     "exception": false,
     "start_time": "2025-04-12T06:51:45.103270",
     "status": "completed"
    },
    "tags": []
   },
   "source": [
    "Rush duel and Bandai cards are not included."
   ]
  },
  {
   "cell_type": "code",
   "execution_count": null,
   "id": "13",
   "metadata": {
    "papermill": {
     "duration": 0.302643,
     "end_time": "2025-04-12T06:51:45.941098",
     "exception": false,
     "start_time": "2025-04-12T06:51:45.638455",
     "status": "completed"
    },
    "tags": []
   },
   "outputs": [],
   "source": [
    "full_df"
   ]
  },
  {
   "cell_type": "markdown",
   "id": "14",
   "metadata": {
    "papermill": {
     "duration": 0.077467,
     "end_time": "2025-04-12T06:51:46.074793",
     "exception": false,
     "start_time": "2025-04-12T06:51:45.997326",
     "status": "completed"
    },
    "tags": []
   },
   "source": [
    "## Debut"
   ]
  },
  {
   "cell_type": "code",
   "execution_count": null,
   "id": "15",
   "metadata": {
    "papermill": {
     "duration": 0.2208,
     "end_time": "2025-04-12T06:51:46.366622",
     "exception": false,
     "start_time": "2025-04-12T06:51:46.145822",
     "status": "completed"
    },
    "tags": []
   },
   "outputs": [],
   "source": [
    "debut_counts = get_releases_by(full_df, column=None, operation=\"debut\").value_counts(sort=False).rename(\"All formats\")\n",
    "debut_counts.groupby(debut_counts.index.strftime(\"%Y\")).sum()"
   ]
  },
  {
   "cell_type": "code",
   "execution_count": null,
   "id": "16",
   "metadata": {
    "papermill": {
     "duration": 2.470132,
     "end_time": "2025-04-12T06:51:48.996702",
     "exception": false,
     "start_time": "2025-04-12T06:51:46.526570",
     "status": "completed"
    },
    "tags": []
   },
   "outputs": [],
   "source": [
    "_ = plot.rate(debut_counts, bg=anime_df, vlines=rules_df[\"begin\"], limit_year=True)\n",
    "plt.show()"
   ]
  },
  {
   "cell_type": "markdown",
   "id": "17",
   "metadata": {
    "papermill": {
     "duration": 0.06881,
     "end_time": "2025-04-12T06:51:49.133752",
     "exception": false,
     "start_time": "2025-04-12T06:51:49.064942",
     "status": "completed"
    },
    "tags": []
   },
   "source": [
    "### By Format"
   ]
  },
  {
   "cell_type": "markdown",
   "id": "18",
   "metadata": {
    "papermill": {
     "duration": 0.062278,
     "end_time": "2025-04-12T06:51:49.266104",
     "exception": false,
     "start_time": "2025-04-12T06:51:49.203826",
     "status": "completed"
    },
    "tags": []
   },
   "source": [
    "Monsters' debut per format"
   ]
  },
  {
   "cell_type": "code",
   "execution_count": null,
   "id": "19",
   "metadata": {
    "papermill": {
     "duration": 0.177072,
     "end_time": "2025-04-12T06:51:49.510721",
     "exception": false,
     "start_time": "2025-04-12T06:51:49.333649",
     "status": "completed"
    },
    "tags": []
   },
   "outputs": [],
   "source": [
    "full_df.groupby(\"Name\")[full_df.filter(regex=\"(?i)(debut)\").columns].min()"
   ]
  },
  {
   "cell_type": "markdown",
   "id": "20",
   "metadata": {
    "papermill": {
     "duration": 0.093309,
     "end_time": "2025-04-12T06:51:49.672831",
     "exception": false,
     "start_time": "2025-04-12T06:51:49.579522",
     "status": "completed"
    },
    "tags": []
   },
   "source": [
    "Debuts per date for each format"
   ]
  },
  {
   "cell_type": "code",
   "execution_count": null,
   "id": "21",
   "metadata": {
    "papermill": {
     "duration": 0.196671,
     "end_time": "2025-04-12T06:51:49.965921",
     "exception": false,
     "start_time": "2025-04-12T06:51:49.769250",
     "status": "completed"
    },
    "tags": []
   },
   "outputs": [],
   "source": [
    "format_debut_counts = (\n",
    "    full_df.groupby(\"Name\")[full_df.filter(regex=\"(?i)(debut)\").columns]\n",
    "    .min()\n",
    "    .melt(var_name=\"Format\", value_name=\"Debut\")\n",
    "    .value_counts()\n",
    "    .unstack(0)\n",
    "    .fillna(0)\n",
    "    .sort_index()\n",
    ")\n",
    "format_debut_counts.groupby(format_debut_counts.index.strftime(\"%Y\")).sum()"
   ]
  },
  {
   "cell_type": "code",
   "execution_count": null,
   "id": "22",
   "metadata": {
    "papermill": {
     "duration": 6.53295,
     "end_time": "2025-04-12T06:51:56.580231",
     "exception": false,
     "start_time": "2025-04-12T06:51:50.047281",
     "status": "completed"
    },
    "tags": []
   },
   "outputs": [],
   "source": [
    "_ = plot.rate(format_debut_counts, bg=anime_df, vlines=rules_df[\"begin\"], subplots=True)\n",
    "plt.show()"
   ]
  },
  {
   "cell_type": "markdown",
   "id": "23",
   "metadata": {
    "papermill": {
     "duration": 0.226343,
     "end_time": "2025-04-12T06:51:56.906050",
     "exception": false,
     "start_time": "2025-04-12T06:51:56.679707",
     "status": "completed"
    },
    "tags": []
   },
   "source": [
    "### By Region"
   ]
  },
  {
   "cell_type": "markdown",
   "id": "24",
   "metadata": {
    "papermill": {
     "duration": 0.089773,
     "end_time": "2025-04-12T06:51:57.099537",
     "exception": false,
     "start_time": "2025-04-12T06:51:57.009764",
     "status": "completed"
    },
    "tags": []
   },
   "source": [
    "Obs: Debut by region is taken from earliest release date in set lists. It may not be as accurate as card specific properties."
   ]
  },
  {
   "cell_type": "code",
   "execution_count": null,
   "id": "25",
   "metadata": {
    "papermill": {
     "duration": 0.307157,
     "end_time": "2025-04-12T06:51:57.503122",
     "exception": false,
     "start_time": "2025-04-12T06:51:57.195965",
     "status": "completed"
    },
    "tags": []
   },
   "outputs": [],
   "source": [
    "full_df.groupby([\"Region\", \"Name\"])[\"Release\"].min().unstack(0)"
   ]
  },
  {
   "cell_type": "markdown",
   "id": "26",
   "metadata": {
    "papermill": {
     "duration": 0.093339,
     "end_time": "2025-04-12T06:51:57.694828",
     "exception": false,
     "start_time": "2025-04-12T06:51:57.601489",
     "status": "completed"
    },
    "tags": []
   },
   "source": [
    "First releases per date"
   ]
  },
  {
   "cell_type": "code",
   "execution_count": null,
   "id": "27",
   "metadata": {
    "papermill": {
     "duration": 3.635419,
     "end_time": "2025-04-12T06:52:01.431029",
     "exception": false,
     "start_time": "2025-04-12T06:51:57.795610",
     "status": "completed"
    },
    "tags": []
   },
   "outputs": [],
   "source": [
    "region_debut_counts = get_releases_by(full_df, column=\"Region\", operation=\"first\", crosstab=True)\n",
    "region_debut_counts.groupby(region_debut_counts.index.strftime(\"%Y\")).sum()"
   ]
  },
  {
   "cell_type": "code",
   "execution_count": null,
   "id": "28",
   "metadata": {
    "papermill": {
     "duration": 29.320068,
     "end_time": "2025-04-12T06:52:30.849948",
     "exception": false,
     "start_time": "2025-04-12T06:52:01.529880",
     "status": "completed"
    },
    "tags": []
   },
   "outputs": [],
   "source": [
    "_ = plot.rate(\n",
    "    region_debut_counts,\n",
    "    bg=anime_df,\n",
    "    vlines=rules_df[\"begin\"],\n",
    "    subplots=True,\n",
    "    limit_year=True,\n",
    ")\n",
    "plt.show()"
   ]
  },
  {
   "cell_type": "markdown",
   "id": "29",
   "metadata": {
    "papermill": {
     "duration": 0.197066,
     "end_time": "2025-04-12T06:52:31.246310",
     "exception": false,
     "start_time": "2025-04-12T06:52:31.049244",
     "status": "completed"
    },
    "tags": []
   },
   "source": [
    "### By Card type"
   ]
  },
  {
   "cell_type": "code",
   "execution_count": null,
   "id": "30",
   "metadata": {
    "papermill": {
     "duration": 3.00212,
     "end_time": "2025-04-12T06:52:34.452892",
     "exception": false,
     "start_time": "2025-04-12T06:52:31.450772",
     "status": "completed"
    },
    "tags": []
   },
   "outputs": [],
   "source": [
    "ct_debut_counts = get_releases_by(full_df, column=\"Card type\", operation=\"debut\", crosstab=True)\n",
    "ct_debut_counts.groupby(ct_debut_counts.index.strftime(\"%Y\")).sum()"
   ]
  },
  {
   "cell_type": "code",
   "execution_count": null,
   "id": "31",
   "metadata": {
    "papermill": {
     "duration": 2.270216,
     "end_time": "2025-04-12T06:52:36.925324",
     "exception": false,
     "start_time": "2025-04-12T06:52:34.655108",
     "status": "completed"
    },
    "tags": []
   },
   "outputs": [],
   "source": [
    "_ct_debut_plot = ct_debut_counts[[\"Monster Card\", \"Spell Card\", \"Trap Card\", \"Skill Card\"]]\n",
    "_ct_colors = [plot.colors_dict[col] for col in _ct_debut_plot.columns]\n",
    "_ = plot.rate(\n",
    "    _ct_debut_plot,\n",
    "    colors=_ct_colors,\n",
    "    bg=anime_df,\n",
    "    vlines=rules_df[\"begin\"],\n",
    "    subplots=False,\n",
    "    limit_year=True,\n",
    ")"
   ]
  },
  {
   "cell_type": "markdown",
   "id": "32",
   "metadata": {
    "papermill": {
     "duration": 0.207807,
     "end_time": "2025-04-12T06:52:37.347401",
     "exception": false,
     "start_time": "2025-04-12T06:52:37.139594",
     "status": "completed"
    },
    "tags": []
   },
   "source": [
    "### By Primary type"
   ]
  },
  {
   "cell_type": "code",
   "execution_count": null,
   "id": "33",
   "metadata": {
    "papermill": {
     "duration": 3.169184,
     "end_time": "2025-04-12T06:52:40.730063",
     "exception": false,
     "start_time": "2025-04-12T06:52:37.560879",
     "status": "completed"
    },
    "tags": []
   },
   "outputs": [],
   "source": [
    "pt_debut_counts = get_releases_by(full_df, column=\"Primary type\", operation=\"debut\", crosstab=True)\n",
    "pt_debut_counts.groupby(pt_debut_counts.index.strftime(\"%Y\")).sum()"
   ]
  },
  {
   "cell_type": "code",
   "execution_count": null,
   "id": "34",
   "metadata": {
    "papermill": {
     "duration": 2.299375,
     "end_time": "2025-04-12T06:52:43.245500",
     "exception": false,
     "start_time": "2025-04-12T06:52:40.946125",
     "status": "completed"
    },
    "tags": []
   },
   "outputs": [],
   "source": [
    "_pt_colors = [plot.colors_dict[col] for col in pt_debut_counts.columns]\n",
    "_ = plot.rate(\n",
    "    pt_debut_counts,\n",
    "    colors=_pt_colors,\n",
    "    bg=anime_df,\n",
    "    vlines=rules_df[\"begin\"],\n",
    "    subplots=False,\n",
    "    limit_year=True,\n",
    ")"
   ]
  },
  {
   "cell_type": "markdown",
   "id": "35",
   "metadata": {
    "papermill": {
     "duration": 0.315226,
     "end_time": "2025-04-12T06:52:43.801663",
     "exception": false,
     "start_time": "2025-04-12T06:52:43.486437",
     "status": "completed"
    },
    "tags": []
   },
   "source": [
    "### By Secondary type"
   ]
  },
  {
   "cell_type": "code",
   "execution_count": null,
   "id": "36",
   "metadata": {
    "papermill": {
     "duration": 3.469105,
     "end_time": "2025-04-12T06:52:47.911620",
     "exception": false,
     "start_time": "2025-04-12T06:52:44.442515",
     "status": "completed"
    },
    "tags": []
   },
   "outputs": [],
   "source": [
    "st_debut_counts = get_releases_by(full_df, \"Secondary type\", operation=\"debut\", crosstab=True)\n",
    "st_debut_counts.groupby(st_debut_counts.index.strftime(\"%Y\")).sum()"
   ]
  },
  {
   "cell_type": "code",
   "execution_count": null,
   "id": "37",
   "metadata": {
    "papermill": {
     "duration": 15.401956,
     "end_time": "2025-04-12T06:53:03.546717",
     "exception": false,
     "start_time": "2025-04-12T06:52:48.144761",
     "status": "completed"
    },
    "tags": []
   },
   "outputs": [],
   "source": [
    "_ = plot.rate(\n",
    "    st_debut_counts,\n",
    "    bg=anime_df,\n",
    "    vlines=rules_df[\"begin\"],\n",
    "    subplots=True,\n",
    "    limit_year=True,\n",
    ")"
   ]
  },
  {
   "cell_type": "markdown",
   "id": "38",
   "metadata": {
    "papermill": {
     "duration": 0.263472,
     "end_time": "2025-04-12T06:53:04.083533",
     "exception": false,
     "start_time": "2025-04-12T06:53:03.820061",
     "status": "completed"
    },
    "tags": []
   },
   "source": [
    "### By Attribute"
   ]
  },
  {
   "cell_type": "code",
   "execution_count": null,
   "id": "39",
   "metadata": {
    "papermill": {
     "duration": 3.313341,
     "end_time": "2025-04-12T06:53:07.675093",
     "exception": false,
     "start_time": "2025-04-12T06:53:04.361752",
     "status": "completed"
    },
    "tags": []
   },
   "outputs": [],
   "source": [
    "att_debut_counts = get_releases_by(full_df, column=\"Attribute\", operation=\"debut\", crosstab=True)\n",
    "att_debut_counts.groupby(att_debut_counts.index.strftime(\"%Y\")).sum()"
   ]
  },
  {
   "cell_type": "code",
   "execution_count": null,
   "id": "40",
   "metadata": {
    "papermill": {
     "duration": 2.891438,
     "end_time": "2025-04-12T06:53:10.932700",
     "exception": false,
     "start_time": "2025-04-12T06:53:08.041262",
     "status": "completed"
    },
    "tags": []
   },
   "outputs": [],
   "source": [
    "attribute_colors = [plot.colors_dict[col] for col in att_debut_counts.columns]\n",
    "_ = plot.rate(\n",
    "    att_debut_counts,\n",
    "    colors=attribute_colors,\n",
    "    bg=anime_df,\n",
    "    vlines=rules_df[\"begin\"],\n",
    "    subplots=False,\n",
    "    limit_year=True,\n",
    ")"
   ]
  },
  {
   "cell_type": "markdown",
   "id": "41",
   "metadata": {
    "papermill": {
     "duration": 0.340448,
     "end_time": "2025-04-12T06:53:11.604969",
     "exception": false,
     "start_time": "2025-04-12T06:53:11.264521",
     "status": "completed"
    },
    "tags": []
   },
   "source": [
    "### By Monster type"
   ]
  },
  {
   "cell_type": "code",
   "execution_count": null,
   "id": "42",
   "metadata": {
    "papermill": {
     "duration": 3.199316,
     "end_time": "2025-04-12T06:53:15.101584",
     "exception": false,
     "start_time": "2025-04-12T06:53:11.902268",
     "status": "completed"
    },
    "tags": []
   },
   "outputs": [],
   "source": [
    "mt_debut_counts = get_releases_by(full_df, column=\"Monster type\", operation=\"debut\", crosstab=True)\n",
    "mt_debut_counts.groupby(mt_debut_counts.index.strftime(\"%Y\")).sum()"
   ]
  },
  {
   "cell_type": "code",
   "execution_count": null,
   "id": "43",
   "metadata": {
    "papermill": {
     "duration": 65.942398,
     "end_time": "2025-04-12T06:54:21.336278",
     "exception": false,
     "start_time": "2025-04-12T06:53:15.393880",
     "status": "completed"
    },
    "tags": []
   },
   "outputs": [],
   "source": [
    "_ = plot.rate(mt_debut_counts, bg=anime_df, vlines=rules_df[\"begin\"], subplots=True, limit_year=True)"
   ]
  },
  {
   "cell_type": "markdown",
   "id": "44",
   "metadata": {
    "papermill": {
     "duration": 0.770754,
     "end_time": "2025-04-12T06:54:22.643252",
     "exception": false,
     "start_time": "2025-04-12T06:54:21.872498",
     "status": "completed"
    },
    "tags": []
   },
   "source": [
    "### By Level/Rank"
   ]
  },
  {
   "cell_type": "code",
   "execution_count": null,
   "id": "45",
   "metadata": {
    "papermill": {
     "duration": 2.811468,
     "end_time": "2025-04-12T06:54:25.952952",
     "exception": false,
     "start_time": "2025-04-12T06:54:23.141484",
     "status": "completed"
    },
    "tags": []
   },
   "outputs": [],
   "source": [
    "level_debut = get_releases_by(\n",
    "    full_df[(full_df[\"Card type\"] != \"Non-game card\") & (full_df[\"Primary type\"] != \"Link Monster\")],\n",
    "    column=\"Level/Rank/Link\",\n",
    "    operation=\"debut\",\n",
    "    crosstab=False,\n",
    ")\n",
    "level_debut.groupby(level_debut[\"Debut\"].dt.year)[\"Level/Rank/Link\"].describe()"
   ]
  },
  {
   "cell_type": "code",
   "execution_count": null,
   "id": "46",
   "metadata": {
    "papermill": {
     "duration": 2.746625,
     "end_time": "2025-04-12T06:54:29.198762",
     "exception": false,
     "start_time": "2025-04-12T06:54:26.452137",
     "status": "completed"
    },
    "tags": []
   },
   "outputs": [],
   "source": [
    "_ = plot.box(\n",
    "    level_debut,\n",
    "    color=plot.colors_dict[\"Effect Monster\"],\n",
    "    notch=True,\n",
    ")\n",
    "plt.show()"
   ]
  },
  {
   "cell_type": "markdown",
   "id": "47",
   "metadata": {
    "papermill": {
     "duration": 0.481955,
     "end_time": "2025-04-12T06:54:30.215836",
     "exception": false,
     "start_time": "2025-04-12T06:54:29.733881",
     "status": "completed"
    },
    "tags": []
   },
   "source": [
    "### By Pendulum scale"
   ]
  },
  {
   "cell_type": "code",
   "execution_count": null,
   "id": "48",
   "metadata": {
    "papermill": {
     "duration": 3.880632,
     "end_time": "2025-04-12T06:54:34.663699",
     "exception": false,
     "start_time": "2025-04-12T06:54:30.783067",
     "status": "completed"
    },
    "tags": []
   },
   "outputs": [],
   "source": [
    "pendulum_debut = get_releases_by(\n",
    "    full_df[(full_df[\"Card type\"] != \"Non-game card\")], column=\"Pendulum Scale\", operation=\"debut\", crosstab=False\n",
    ")\n",
    "pendulum_debut.groupby(pendulum_debut[\"Debut\"].dt.year)[\"Pendulum Scale\"].describe()"
   ]
  },
  {
   "cell_type": "code",
   "execution_count": null,
   "id": "49",
   "metadata": {
    "papermill": {
     "duration": 0.835025,
     "end_time": "2025-04-12T06:54:36.075272",
     "exception": false,
     "start_time": "2025-04-12T06:54:35.240247",
     "status": "completed"
    },
    "tags": []
   },
   "outputs": [],
   "source": [
    "_ = plot.box(\n",
    "    pendulum_debut,\n",
    "    color=plot.colors_dict[\"Spell Card\"],\n",
    "    notch=True,\n",
    ")\n",
    "plt.show()"
   ]
  },
  {
   "cell_type": "markdown",
   "id": "50",
   "metadata": {
    "papermill": {
     "duration": 0.648146,
     "end_time": "2025-04-12T06:54:37.232566",
     "exception": false,
     "start_time": "2025-04-12T06:54:36.584420",
     "status": "completed"
    },
    "tags": []
   },
   "source": [
    "### By Link"
   ]
  },
  {
   "cell_type": "code",
   "execution_count": null,
   "id": "51",
   "metadata": {
    "papermill": {
     "duration": 0.656127,
     "end_time": "2025-04-12T06:54:38.419358",
     "exception": false,
     "start_time": "2025-04-12T06:54:37.763231",
     "status": "completed"
    },
    "tags": []
   },
   "outputs": [],
   "source": [
    "link_debut = get_releases_by(\n",
    "    full_df[(full_df[\"Card type\"] != \"Non-game card\") & (full_df[\"Primary type\"] == \"Link Monster\")],\n",
    "    column=\"Level/Rank/Link\",\n",
    "    operation=\"debut\",\n",
    "    crosstab=False,\n",
    ")\n",
    "link_debut.groupby(link_debut[\"Debut\"].dt.year)[\"Level/Rank/Link\"].describe()"
   ]
  },
  {
   "cell_type": "code",
   "execution_count": null,
   "id": "52",
   "metadata": {
    "papermill": {
     "duration": 0.927717,
     "end_time": "2025-04-12T06:54:39.846107",
     "exception": false,
     "start_time": "2025-04-12T06:54:38.918390",
     "status": "completed"
    },
    "tags": []
   },
   "outputs": [],
   "source": [
    "_ = plot.box(\n",
    "    link_debut,\n",
    "    color=plot.colors_dict[\"Link Monster\"],\n",
    "    notch=True,\n",
    ")\n",
    "plt.show()"
   ]
  },
  {
   "cell_type": "markdown",
   "id": "53",
   "metadata": {
    "papermill": {
     "duration": 0.638741,
     "end_time": "2025-04-12T06:54:41.030667",
     "exception": false,
     "start_time": "2025-04-12T06:54:40.391926",
     "status": "completed"
    },
    "tags": []
   },
   "source": [
    "### By ATK"
   ]
  },
  {
   "cell_type": "code",
   "execution_count": null,
   "id": "54",
   "metadata": {
    "papermill": {
     "duration": 3.840284,
     "end_time": "2025-04-12T06:54:45.424438",
     "exception": false,
     "start_time": "2025-04-12T06:54:41.584154",
     "status": "completed"
    },
    "tags": []
   },
   "outputs": [],
   "source": [
    "atk_debut = get_releases_by(\n",
    "    full_df[(full_df[\"Card type\"] != \"Non-game card\")], column=\"ATK\", operation=\"debut\", crosstab=False\n",
    ")\n",
    "atk_debut.groupby(atk_debut[\"Debut\"].dt.year)[\"ATK\"].describe()"
   ]
  },
  {
   "cell_type": "code",
   "execution_count": null,
   "id": "55",
   "metadata": {
    "papermill": {
     "duration": 2.044792,
     "end_time": "2025-04-12T06:54:47.979179",
     "exception": false,
     "start_time": "2025-04-12T06:54:45.934387",
     "status": "completed"
    },
    "tags": []
   },
   "outputs": [],
   "source": [
    "_ = plot.box(\n",
    "    atk_debut,\n",
    "    color=plot.colors_dict[\"Effect Monster\"],\n",
    "    notch=True,\n",
    ")\n",
    "plt.show()"
   ]
  },
  {
   "cell_type": "markdown",
   "id": "56",
   "metadata": {
    "papermill": {
     "duration": 0.570199,
     "end_time": "2025-04-12T06:54:49.211200",
     "exception": false,
     "start_time": "2025-04-12T06:54:48.641001",
     "status": "completed"
    },
    "tags": []
   },
   "source": [
    "### By DEF"
   ]
  },
  {
   "cell_type": "code",
   "execution_count": null,
   "id": "57",
   "metadata": {
    "papermill": {
     "duration": 4.028388,
     "end_time": "2025-04-12T06:54:53.752697",
     "exception": false,
     "start_time": "2025-04-12T06:54:49.724309",
     "status": "completed"
    },
    "tags": []
   },
   "outputs": [],
   "source": [
    "def_debut = get_releases_by(\n",
    "    full_df[(full_df[\"Card type\"] != \"Non-game card\")], column=\"DEF\", operation=\"debut\", crosstab=False\n",
    ")\n",
    "def_debut.groupby(def_debut[\"Debut\"].dt.year)[\"DEF\"].describe()"
   ]
  },
  {
   "cell_type": "code",
   "execution_count": null,
   "id": "58",
   "metadata": {
    "papermill": {
     "duration": 1.413436,
     "end_time": "2025-04-12T06:54:55.673395",
     "exception": false,
     "start_time": "2025-04-12T06:54:54.259959",
     "status": "completed"
    },
    "tags": []
   },
   "outputs": [],
   "source": [
    "_ = plot.box(\n",
    "    def_debut,\n",
    "    color=plot.colors_dict[\"Effect Monster\"],\n",
    "    notch=True,\n",
    ")\n",
    "plt.show()"
   ]
  },
  {
   "cell_type": "markdown",
   "id": "59",
   "metadata": {
    "papermill": {
     "duration": 0.503137,
     "end_time": "2025-04-12T06:54:56.786186",
     "exception": false,
     "start_time": "2025-04-12T06:54:56.283049",
     "status": "completed"
    },
    "tags": []
   },
   "source": [
    "## Last release"
   ]
  },
  {
   "cell_type": "markdown",
   "id": "60",
   "metadata": {
    "papermill": {
     "duration": 0.519152,
     "end_time": "2025-04-12T06:54:57.821515",
     "exception": false,
     "start_time": "2025-04-12T06:54:57.302363",
     "status": "completed"
    },
    "tags": []
   },
   "source": [
    "Obs: Only the last release of an individual card name"
   ]
  },
  {
   "cell_type": "code",
   "execution_count": null,
   "id": "61",
   "metadata": {
    "papermill": {
     "duration": 1.126553,
     "end_time": "2025-04-12T06:54:59.471934",
     "exception": false,
     "start_time": "2025-04-12T06:54:58.345381",
     "status": "completed"
    },
    "tags": []
   },
   "outputs": [],
   "source": [
    "last_counts = get_releases_by(full_df, column=None, operation=\"last\").value_counts(sort=False).rename(\"All formats\")\n",
    "last_counts.groupby(last_counts.index.strftime(\"%Y\")).sum()"
   ]
  },
  {
   "cell_type": "code",
   "execution_count": null,
   "id": "62",
   "metadata": {
    "papermill": {
     "duration": 3.372654,
     "end_time": "2025-04-12T06:55:03.356234",
     "exception": false,
     "start_time": "2025-04-12T06:54:59.983580",
     "status": "completed"
    },
    "tags": []
   },
   "outputs": [],
   "source": [
    "_ = plot.rate(last_counts, bg=anime_df, vlines=rules_df[\"begin\"], limit_year=True)\n",
    "plt.show()"
   ]
  },
  {
   "cell_type": "markdown",
   "id": "63",
   "metadata": {
    "papermill": {
     "duration": 0.513645,
     "end_time": "2025-04-12T06:55:04.403772",
     "exception": false,
     "start_time": "2025-04-12T06:55:03.890127",
     "status": "completed"
    },
    "tags": []
   },
   "source": [
    "### By Region"
   ]
  },
  {
   "cell_type": "code",
   "execution_count": null,
   "id": "64",
   "metadata": {
    "papermill": {
     "duration": 0.86943,
     "end_time": "2025-04-12T06:55:05.797703",
     "exception": false,
     "start_time": "2025-04-12T06:55:04.928273",
     "status": "completed"
    },
    "tags": []
   },
   "outputs": [],
   "source": [
    "full_df.groupby([\"Region\", \"Name\"])[\"Release\"].max().unstack(0)"
   ]
  },
  {
   "cell_type": "markdown",
   "id": "65",
   "metadata": {
    "papermill": {
     "duration": 0.517073,
     "end_time": "2025-04-12T06:55:06.925280",
     "exception": false,
     "start_time": "2025-04-12T06:55:06.408207",
     "status": "completed"
    },
    "tags": []
   },
   "source": [
    "Last releases by date"
   ]
  },
  {
   "cell_type": "code",
   "execution_count": null,
   "id": "66",
   "metadata": {
    "papermill": {
     "duration": 5.620661,
     "end_time": "2025-04-12T06:55:13.216433",
     "exception": false,
     "start_time": "2025-04-12T06:55:07.595772",
     "status": "completed"
    },
    "tags": []
   },
   "outputs": [],
   "source": [
    "region_last_counts = get_releases_by(full_df, column=\"Region\", operation=\"last\", crosstab=True)\n",
    "region_last_counts.groupby(region_last_counts.index.strftime(\"%Y\")).sum()"
   ]
  },
  {
   "cell_type": "code",
   "execution_count": null,
   "id": "67",
   "metadata": {
    "papermill": {
     "duration": 31.882454,
     "end_time": "2025-04-12T06:55:45.626911",
     "exception": false,
     "start_time": "2025-04-12T06:55:13.744457",
     "status": "completed"
    },
    "tags": []
   },
   "outputs": [],
   "source": [
    "_ = plot.rate(region_last_counts, bg=anime_df, vlines=rules_df[\"begin\"], subplots=True)\n",
    "plt.show()"
   ]
  },
  {
   "cell_type": "markdown",
   "id": "68",
   "metadata": {
    "papermill": {
     "duration": 0.693696,
     "end_time": "2025-04-12T06:55:47.228058",
     "exception": false,
     "start_time": "2025-04-12T06:55:46.534362",
     "status": "completed"
    },
    "tags": []
   },
   "source": [
    "### By Card type"
   ]
  },
  {
   "cell_type": "code",
   "execution_count": null,
   "id": "69",
   "metadata": {
    "papermill": {
     "duration": 3.759454,
     "end_time": "2025-04-12T06:55:51.629842",
     "exception": false,
     "start_time": "2025-04-12T06:55:47.870388",
     "status": "completed"
    },
    "tags": []
   },
   "outputs": [],
   "source": [
    "ct_last_counts = get_releases_by(full_df, column=\"Card type\", operation=\"last\", crosstab=True)\n",
    "ct_last_counts.groupby(ct_last_counts.index.strftime(\"%Y\")).sum()"
   ]
  },
  {
   "cell_type": "code",
   "execution_count": null,
   "id": "70",
   "metadata": {
    "papermill": {
     "duration": 4.816602,
     "end_time": "2025-04-12T06:55:57.094501",
     "exception": false,
     "start_time": "2025-04-12T06:55:52.277899",
     "status": "completed"
    },
    "tags": []
   },
   "outputs": [],
   "source": [
    "_ct_last_plot = ct_last_counts[[\"Monster Card\", \"Spell Card\", \"Trap Card\", \"Skill Card\"]]\n",
    "_ct_colors = [plot.colors_dict[col] for col in _ct_last_plot.columns]\n",
    "_ = plot.rate(\n",
    "    _ct_last_plot,\n",
    "    colors=_ct_colors,\n",
    "    bg=anime_df,\n",
    "    vlines=rules_df[\"begin\"],\n",
    "    subplots=False,\n",
    "    limit_year=True,\n",
    ")"
   ]
  },
  {
   "cell_type": "markdown",
   "id": "71",
   "metadata": {
    "papermill": {
     "duration": 0.753031,
     "end_time": "2025-04-12T06:55:58.504883",
     "exception": false,
     "start_time": "2025-04-12T06:55:57.751852",
     "status": "completed"
    },
    "tags": []
   },
   "source": [
    "### By Primary type"
   ]
  },
  {
   "cell_type": "code",
   "execution_count": null,
   "id": "72",
   "metadata": {
    "papermill": {
     "duration": 3.955397,
     "end_time": "2025-04-12T06:56:03.307035",
     "exception": false,
     "start_time": "2025-04-12T06:55:59.351638",
     "status": "completed"
    },
    "tags": []
   },
   "outputs": [],
   "source": [
    "pt_last_counts = get_releases_by(full_df, column=\"Primary type\", operation=\"last\", crosstab=True)\n",
    "pt_last_counts.groupby(pt_last_counts.index.strftime(\"%Y\")).sum()"
   ]
  },
  {
   "cell_type": "code",
   "execution_count": null,
   "id": "73",
   "metadata": {
    "papermill": {
     "duration": 3.942604,
     "end_time": "2025-04-12T06:56:07.894095",
     "exception": false,
     "start_time": "2025-04-12T06:56:03.951491",
     "status": "completed"
    },
    "tags": []
   },
   "outputs": [],
   "source": [
    "_pt_colors = [plot.colors_dict[col] for col in pt_last_counts.columns]\n",
    "_ = plot.rate(\n",
    "    pt_last_counts,\n",
    "    colors=_pt_colors,\n",
    "    bg=anime_df,\n",
    "    vlines=rules_df[\"begin\"],\n",
    "    subplots=False,\n",
    "    limit_year=True,\n",
    ")"
   ]
  },
  {
   "cell_type": "markdown",
   "id": "74",
   "metadata": {
    "papermill": {
     "duration": 0.664952,
     "end_time": "2025-04-12T06:56:09.246207",
     "exception": false,
     "start_time": "2025-04-12T06:56:08.581255",
     "status": "completed"
    },
    "tags": []
   },
   "source": [
    "### By Secondary type"
   ]
  },
  {
   "cell_type": "code",
   "execution_count": null,
   "id": "75",
   "metadata": {
    "papermill": {
     "duration": 4.482852,
     "end_time": "2025-04-12T06:56:14.406924",
     "exception": false,
     "start_time": "2025-04-12T06:56:09.924072",
     "status": "completed"
    },
    "tags": []
   },
   "outputs": [],
   "source": [
    "st_last_counts = get_releases_by(full_df, column=\"Secondary type\", operation=\"last\", crosstab=True)\n",
    "st_last_counts.groupby(st_last_counts.index.strftime(\"%Y\")).sum()"
   ]
  },
  {
   "cell_type": "code",
   "execution_count": null,
   "id": "76",
   "metadata": {
    "papermill": {
     "duration": 13.223342,
     "end_time": "2025-04-12T06:56:28.315181",
     "exception": false,
     "start_time": "2025-04-12T06:56:15.091839",
     "status": "completed"
    },
    "tags": []
   },
   "outputs": [],
   "source": [
    "_ = plot.rate(\n",
    "    st_last_counts,\n",
    "    bg=anime_df,\n",
    "    vlines=rules_df[\"begin\"],\n",
    "    subplots=True,\n",
    "    limit_year=True,\n",
    ")"
   ]
  },
  {
   "cell_type": "markdown",
   "id": "77",
   "metadata": {
    "papermill": {
     "duration": 0.751562,
     "end_time": "2025-04-12T06:56:29.819748",
     "exception": false,
     "start_time": "2025-04-12T06:56:29.068186",
     "status": "completed"
    },
    "tags": []
   },
   "source": [
    "### By Attribute"
   ]
  },
  {
   "cell_type": "code",
   "execution_count": null,
   "id": "78",
   "metadata": {
    "papermill": {
     "duration": 3.946674,
     "end_time": "2025-04-12T06:56:34.539720",
     "exception": false,
     "start_time": "2025-04-12T06:56:30.593046",
     "status": "completed"
    },
    "tags": []
   },
   "outputs": [],
   "source": [
    "att_last_counts = get_releases_by(full_df, column=\"Attribute\", operation=\"last\", crosstab=True)\n",
    "att_last_counts.groupby(att_last_counts.index.strftime(\"%Y\")).sum()"
   ]
  },
  {
   "cell_type": "code",
   "execution_count": null,
   "id": "79",
   "metadata": {
    "papermill": {
     "duration": 3.379168,
     "end_time": "2025-04-12T06:56:38.743816",
     "exception": false,
     "start_time": "2025-04-12T06:56:35.364648",
     "status": "completed"
    },
    "tags": []
   },
   "outputs": [],
   "source": [
    "attribute_colors = [plot.colors_dict[col] for col in att_last_counts.columns]\n",
    "_ = plot.rate(\n",
    "    att_last_counts,\n",
    "    colors=attribute_colors,\n",
    "    bg=anime_df,\n",
    "    vlines=rules_df[\"begin\"],\n",
    "    subplots=False,\n",
    "    limit_year=True,\n",
    ")"
   ]
  },
  {
   "cell_type": "markdown",
   "id": "80",
   "metadata": {
    "papermill": {
     "duration": 0.724116,
     "end_time": "2025-04-12T06:56:40.198309",
     "exception": false,
     "start_time": "2025-04-12T06:56:39.474193",
     "status": "completed"
    },
    "tags": []
   },
   "source": [
    "### By Monster type"
   ]
  },
  {
   "cell_type": "code",
   "execution_count": null,
   "id": "81",
   "metadata": {
    "papermill": {
     "duration": 3.939739,
     "end_time": "2025-04-12T06:56:44.905739",
     "exception": false,
     "start_time": "2025-04-12T06:56:40.966000",
     "status": "completed"
    },
    "tags": []
   },
   "outputs": [],
   "source": [
    "mt_last_counts = get_releases_by(full_df, column=\"Monster type\", operation=\"last\", crosstab=True)\n",
    "mt_last_counts.groupby(mt_last_counts.index.strftime(\"%Y\")).sum()"
   ]
  },
  {
   "cell_type": "code",
   "execution_count": null,
   "id": "82",
   "metadata": {
    "papermill": {
     "duration": 66.449018,
     "end_time": "2025-04-12T06:57:52.112039",
     "exception": false,
     "start_time": "2025-04-12T06:56:45.663021",
     "status": "completed"
    },
    "tags": []
   },
   "outputs": [],
   "source": [
    "_ = plot.rate(\n",
    "    mt_last_counts,\n",
    "    title=\"Debut\",\n",
    "    bg=anime_df,\n",
    "    vlines=rules_df[\"begin\"],\n",
    "    subplots=True,\n",
    "    limit_year=True,\n",
    ")"
   ]
  },
  {
   "cell_type": "markdown",
   "id": "83",
   "metadata": {
    "papermill": {
     "duration": 0.942423,
     "end_time": "2025-04-12T06:57:53.985624",
     "exception": false,
     "start_time": "2025-04-12T06:57:53.043201",
     "status": "completed"
    },
    "tags": []
   },
   "source": [
    "### By Level/Rank"
   ]
  },
  {
   "cell_type": "code",
   "execution_count": null,
   "id": "84",
   "metadata": {
    "papermill": {
     "duration": 3.187634,
     "end_time": "2025-04-12T06:57:58.102553",
     "exception": false,
     "start_time": "2025-04-12T06:57:54.914919",
     "status": "completed"
    },
    "tags": []
   },
   "outputs": [],
   "source": [
    "level_last = get_releases_by(\n",
    "    full_df[(full_df[\"Card type\"] != \"Non-game card\") & (full_df[\"Primary type\"] != \"Link Monster\")],\n",
    "    column=\"Level/Rank/Link\",\n",
    "    operation=\"last\",\n",
    "    crosstab=False,\n",
    ")\n",
    "level_last.groupby(level_last[\"Last release\"].dt.year)[\"Level/Rank/Link\"].describe()"
   ]
  },
  {
   "cell_type": "code",
   "execution_count": null,
   "id": "85",
   "metadata": {
    "papermill": {
     "duration": 1.691396,
     "end_time": "2025-04-12T06:58:00.776318",
     "exception": false,
     "start_time": "2025-04-12T06:57:59.084922",
     "status": "completed"
    },
    "tags": []
   },
   "outputs": [],
   "source": [
    "_ = plot.box(\n",
    "    level_last,\n",
    "    color=plot.colors_dict[\"Effect Monster\"],\n",
    "    notch=True,\n",
    ")\n",
    "plt.show()"
   ]
  },
  {
   "cell_type": "markdown",
   "id": "86",
   "metadata": {
    "papermill": {
     "duration": 0.933102,
     "end_time": "2025-04-12T06:58:02.701726",
     "exception": false,
     "start_time": "2025-04-12T06:58:01.768624",
     "status": "completed"
    },
    "tags": []
   },
   "source": [
    "### By Pendulum scale"
   ]
  },
  {
   "cell_type": "code",
   "execution_count": null,
   "id": "87",
   "metadata": {
    "papermill": {
     "duration": 4.55331,
     "end_time": "2025-04-12T06:58:08.190859",
     "exception": false,
     "start_time": "2025-04-12T06:58:03.637549",
     "status": "completed"
    },
    "tags": []
   },
   "outputs": [],
   "source": [
    "pendulum_last = get_releases_by(\n",
    "    full_df[(full_df[\"Card type\"] != \"Non-game card\")], column=\"Pendulum Scale\", operation=\"last\", crosstab=False\n",
    ")\n",
    "pendulum_last.groupby(pendulum_last[\"Last release\"].dt.year)[\"Pendulum Scale\"].describe()"
   ]
  },
  {
   "cell_type": "code",
   "execution_count": null,
   "id": "88",
   "metadata": {
    "papermill": {
     "duration": 1.328681,
     "end_time": "2025-04-12T06:58:10.505939",
     "exception": false,
     "start_time": "2025-04-12T06:58:09.177258",
     "status": "completed"
    },
    "tags": []
   },
   "outputs": [],
   "source": [
    "_ = plot.box(\n",
    "    pendulum_last,\n",
    "    color=plot.colors_dict[\"Spell Card\"],\n",
    "    notch=True,\n",
    ")\n",
    "plt.show()"
   ]
  },
  {
   "cell_type": "markdown",
   "id": "89",
   "metadata": {
    "papermill": {
     "duration": 0.939096,
     "end_time": "2025-04-12T06:58:12.434600",
     "exception": false,
     "start_time": "2025-04-12T06:58:11.495504",
     "status": "completed"
    },
    "tags": []
   },
   "source": [
    "### By Link"
   ]
  },
  {
   "cell_type": "code",
   "execution_count": null,
   "id": "90",
   "metadata": {
    "papermill": {
     "duration": 1.099547,
     "end_time": "2025-04-12T06:58:14.451260",
     "exception": false,
     "start_time": "2025-04-12T06:58:13.351713",
     "status": "completed"
    },
    "tags": []
   },
   "outputs": [],
   "source": [
    "link_last = get_releases_by(\n",
    "    full_df[(full_df[\"Card type\"] != \"Non-game card\") & (full_df[\"Primary type\"] == \"Link Monster\")],\n",
    "    column=\"Level/Rank/Link\",\n",
    "    operation=\"last\",\n",
    "    crosstab=False,\n",
    ")\n",
    "link_last.groupby(link_last[\"Last release\"].dt.year)[\"Level/Rank/Link\"].describe()"
   ]
  },
  {
   "cell_type": "code",
   "execution_count": null,
   "id": "91",
   "metadata": {
    "papermill": {
     "duration": 1.183897,
     "end_time": "2025-04-12T06:58:16.896430",
     "exception": false,
     "start_time": "2025-04-12T06:58:15.712533",
     "status": "completed"
    },
    "tags": []
   },
   "outputs": [],
   "source": [
    "_ = plot.box(\n",
    "    link_last,\n",
    "    color=plot.colors_dict[\"Link Monster\"],\n",
    "    notch=True,\n",
    ")\n",
    "plt.show()"
   ]
  },
  {
   "cell_type": "markdown",
   "id": "92",
   "metadata": {
    "papermill": {
     "duration": 0.912832,
     "end_time": "2025-04-12T06:58:18.740446",
     "exception": false,
     "start_time": "2025-04-12T06:58:17.827614",
     "status": "completed"
    },
    "tags": []
   },
   "source": [
    "### By ATK"
   ]
  },
  {
   "cell_type": "code",
   "execution_count": null,
   "id": "93",
   "metadata": {
    "papermill": {
     "duration": 4.626439,
     "end_time": "2025-04-12T06:58:24.359622",
     "exception": false,
     "start_time": "2025-04-12T06:58:19.733183",
     "status": "completed"
    },
    "tags": []
   },
   "outputs": [],
   "source": [
    "atk_last = get_releases_by(\n",
    "    full_df[(full_df[\"Card type\"] != \"Non-game card\")], column=\"ATK\", operation=\"last\", crosstab=False\n",
    ")\n",
    "atk_last.groupby(atk_last[\"Last release\"].dt.year)[\"ATK\"].describe()"
   ]
  },
  {
   "cell_type": "code",
   "execution_count": null,
   "id": "94",
   "metadata": {
    "papermill": {
     "duration": 1.70358,
     "end_time": "2025-04-12T06:58:27.291703",
     "exception": false,
     "start_time": "2025-04-12T06:58:25.588123",
     "status": "completed"
    },
    "tags": []
   },
   "outputs": [],
   "source": [
    "_ = plot.box(\n",
    "    atk_last,\n",
    "    color=plot.colors_dict[\"Effect Monster\"],\n",
    "    notch=True,\n",
    ")\n",
    "plt.show()"
   ]
  },
  {
   "cell_type": "markdown",
   "id": "95",
   "metadata": {
    "papermill": {
     "duration": 0.984564,
     "end_time": "2025-04-12T06:58:29.267095",
     "exception": false,
     "start_time": "2025-04-12T06:58:28.282531",
     "status": "completed"
    },
    "tags": []
   },
   "source": [
    "### By DEF"
   ]
  },
  {
   "cell_type": "code",
   "execution_count": null,
   "id": "96",
   "metadata": {
    "papermill": {
     "duration": 4.671213,
     "end_time": "2025-04-12T06:58:34.940125",
     "exception": false,
     "start_time": "2025-04-12T06:58:30.268912",
     "status": "completed"
    },
    "tags": []
   },
   "outputs": [],
   "source": [
    "def_last = get_releases_by(\n",
    "    full_df[(full_df[\"Card type\"] != \"Non-game card\")], column=\"DEF\", operation=\"last\", crosstab=False\n",
    ")\n",
    "def_last.groupby(def_last[\"Last release\"].dt.year)[\"DEF\"].describe()"
   ]
  },
  {
   "cell_type": "code",
   "execution_count": null,
   "id": "97",
   "metadata": {
    "papermill": {
     "duration": 1.734502,
     "end_time": "2025-04-12T06:58:37.634228",
     "exception": false,
     "start_time": "2025-04-12T06:58:35.899726",
     "status": "completed"
    },
    "tags": []
   },
   "outputs": [],
   "source": [
    "_ = plot.box(\n",
    "    def_last,\n",
    "    color=plot.colors_dict[\"Effect Monster\"],\n",
    "    notch=True,\n",
    ")\n",
    "plt.show()"
   ]
  },
  {
   "cell_type": "markdown",
   "id": "98",
   "metadata": {
    "papermill": {
     "duration": 0.962604,
     "end_time": "2025-04-12T06:58:39.541140",
     "exception": false,
     "start_time": "2025-04-12T06:58:38.578536",
     "status": "completed"
    },
    "tags": []
   },
   "source": [
    "## All releases"
   ]
  },
  {
   "cell_type": "markdown",
   "id": "99",
   "metadata": {
    "papermill": {
     "duration": 0.928288,
     "end_time": "2025-04-12T06:58:41.469244",
     "exception": false,
     "start_time": "2025-04-12T06:58:40.540956",
     "status": "completed"
    },
    "tags": []
   },
   "source": [
    "Obs: All releases includes reprints"
   ]
  },
  {
   "cell_type": "code",
   "execution_count": null,
   "id": "100",
   "metadata": {
    "papermill": {
     "duration": 10.382239,
     "end_time": "2025-04-12T06:58:52.809610",
     "exception": false,
     "start_time": "2025-04-12T06:58:42.427371",
     "status": "completed"
    },
    "tags": []
   },
   "outputs": [],
   "source": [
    "full_df[full_df[\"Release\"].notna()].groupby(\"Name\")[\"Release\"].unique().explode().reset_index().set_index(\n",
    "    \"Release\"\n",
    ").sort_index()"
   ]
  },
  {
   "cell_type": "code",
   "execution_count": null,
   "id": "101",
   "metadata": {
    "papermill": {
     "duration": 6.630713,
     "end_time": "2025-04-12T06:59:00.397547",
     "exception": false,
     "start_time": "2025-04-12T06:58:53.766834",
     "status": "completed"
    },
    "tags": []
   },
   "outputs": [],
   "source": [
    "all_releases = (\n",
    "    get_releases_by(full_df, column=None, operation=\"all\", crosstab=False).value_counts(sort=False).rename(\"All formats\")\n",
    ")\n",
    "_ = plot.rate(all_releases, bg=anime_df, vlines=rules_df[\"begin\"], limit_year=True)\n",
    "plt.show()"
   ]
  },
  {
   "cell_type": "markdown",
   "id": "102",
   "metadata": {
    "papermill": {
     "duration": 0.95775,
     "end_time": "2025-04-12T06:59:02.334400",
     "exception": false,
     "start_time": "2025-04-12T06:59:01.376650",
     "status": "completed"
    },
    "tags": []
   },
   "source": [
    "### By Region"
   ]
  },
  {
   "cell_type": "code",
   "execution_count": null,
   "id": "103",
   "metadata": {
    "papermill": {
     "duration": 22.793292,
     "end_time": "2025-04-12T06:59:26.094463",
     "exception": false,
     "start_time": "2025-04-12T06:59:03.301171",
     "status": "completed"
    },
    "tags": []
   },
   "outputs": [],
   "source": [
    "region_release_counts = get_releases_by(full_df, column=\"Region\", operation=\"all\", crosstab=True)\n",
    "region_release_counts.groupby(region_release_counts.index.strftime(\"%Y\")).sum()"
   ]
  },
  {
   "cell_type": "code",
   "execution_count": null,
   "id": "104",
   "metadata": {
    "papermill": {
     "duration": 32.631205,
     "end_time": "2025-04-12T06:59:59.688579",
     "exception": false,
     "start_time": "2025-04-12T06:59:27.057374",
     "status": "completed"
    },
    "tags": []
   },
   "outputs": [],
   "source": [
    "_ = plot.rate(region_release_counts, bg=anime_df, vlines=rules_df[\"begin\"], limit_year=True, subplots=True)\n",
    "plt.show()"
   ]
  },
  {
   "cell_type": "markdown",
   "id": "105",
   "metadata": {
    "papermill": {
     "duration": 1.151258,
     "end_time": "2025-04-12T07:00:02.094681",
     "exception": false,
     "start_time": "2025-04-12T07:00:00.943423",
     "status": "completed"
    },
    "tags": []
   },
   "source": [
    "### By Card type"
   ]
  },
  {
   "cell_type": "code",
   "execution_count": null,
   "id": "106",
   "metadata": {
    "papermill": {
     "duration": 7.983095,
     "end_time": "2025-04-12T07:00:11.528699",
     "exception": false,
     "start_time": "2025-04-12T07:00:03.545604",
     "status": "completed"
    },
    "tags": []
   },
   "outputs": [],
   "source": [
    "ct_release_counts = get_releases_by(full_df, column=\"Card type\", operation=\"all\", crosstab=True)\n",
    "ct_release_counts.groupby(ct_release_counts.index.strftime(\"%Y\")).sum()"
   ]
  },
  {
   "cell_type": "code",
   "execution_count": null,
   "id": "107",
   "metadata": {
    "papermill": {
     "duration": 3.000967,
     "end_time": "2025-04-12T07:00:15.740196",
     "exception": false,
     "start_time": "2025-04-12T07:00:12.739229",
     "status": "completed"
    },
    "tags": []
   },
   "outputs": [],
   "source": [
    "_ct_release_plot = ct_release_counts[[\"Monster Card\", \"Spell Card\", \"Trap Card\", \"Skill Card\"]]\n",
    "_ct_colors = [plot.colors_dict[col] for col in _ct_release_plot.columns]\n",
    "_ = plot.rate(_ct_release_plot, colors=_ct_colors, bg=anime_df, vlines=rules_df[\"begin\"], limit_year=True)\n",
    "plt.show()"
   ]
  },
  {
   "cell_type": "markdown",
   "id": "108",
   "metadata": {
    "papermill": {
     "duration": 1.085806,
     "end_time": "2025-04-12T07:00:17.975977",
     "exception": false,
     "start_time": "2025-04-12T07:00:16.890171",
     "status": "completed"
    },
    "tags": []
   },
   "source": [
    "### By Primary type"
   ]
  },
  {
   "cell_type": "code",
   "execution_count": null,
   "id": "109",
   "metadata": {
    "papermill": {
     "duration": 7.382558,
     "end_time": "2025-04-12T07:00:26.452648",
     "exception": false,
     "start_time": "2025-04-12T07:00:19.070090",
     "status": "completed"
    },
    "tags": []
   },
   "outputs": [],
   "source": [
    "pt_release_counts = get_releases_by(full_df, column=\"Primary type\", operation=\"all\", crosstab=True)\n",
    "pt_release_counts.groupby(pt_release_counts.index.strftime(\"%Y\")).sum()"
   ]
  },
  {
   "cell_type": "code",
   "execution_count": null,
   "id": "110",
   "metadata": {
    "papermill": {
     "duration": 4.245616,
     "end_time": "2025-04-12T07:00:31.782958",
     "exception": false,
     "start_time": "2025-04-12T07:00:27.537342",
     "status": "completed"
    },
    "tags": []
   },
   "outputs": [],
   "source": [
    "primary_type_colors = [plot.colors_dict[col] for col in pt_release_counts.columns]\n",
    "_ = plot.rate(pt_release_counts, colors=primary_type_colors, bg=anime_df, vlines=rules_df[\"begin\"], limit_year=True)\n",
    "plt.show()"
   ]
  },
  {
   "cell_type": "markdown",
   "id": "111",
   "metadata": {
    "papermill": {
     "duration": 1.441098,
     "end_time": "2025-04-12T07:00:34.382800",
     "exception": false,
     "start_time": "2025-04-12T07:00:32.941702",
     "status": "completed"
    },
    "tags": []
   },
   "source": [
    "### By Secondary type"
   ]
  },
  {
   "cell_type": "code",
   "execution_count": null,
   "id": "112",
   "metadata": {
    "papermill": {
     "duration": 4.922984,
     "end_time": "2025-04-12T07:00:40.815167",
     "exception": false,
     "start_time": "2025-04-12T07:00:35.892183",
     "status": "completed"
    },
    "tags": []
   },
   "outputs": [],
   "source": [
    "st_release_counts = get_releases_by(full_df, column=\"Secondary type\", operation=\"all\", crosstab=True)\n",
    "st_release_counts.groupby(st_release_counts.index.strftime(\"%Y\")).sum()"
   ]
  },
  {
   "cell_type": "code",
   "execution_count": null,
   "id": "113",
   "metadata": {
    "papermill": {
     "duration": 13.239593,
     "end_time": "2025-04-12T07:00:55.306410",
     "exception": false,
     "start_time": "2025-04-12T07:00:42.066817",
     "status": "completed"
    },
    "tags": []
   },
   "outputs": [],
   "source": [
    "_ = plot.rate(st_release_counts, bg=anime_df, vlines=rules_df[\"begin\"], limit_year=True, subplots=True)\n",
    "plt.show()"
   ]
  },
  {
   "cell_type": "markdown",
   "id": "114",
   "metadata": {
    "papermill": {
     "duration": 1.177586,
     "end_time": "2025-04-12T07:00:57.779547",
     "exception": false,
     "start_time": "2025-04-12T07:00:56.601961",
     "status": "completed"
    },
    "tags": []
   },
   "source": [
    "### By Attribute"
   ]
  },
  {
   "cell_type": "code",
   "execution_count": null,
   "id": "115",
   "metadata": {
    "papermill": {
     "duration": 6.573956,
     "end_time": "2025-04-12T07:01:05.537887",
     "exception": false,
     "start_time": "2025-04-12T07:00:58.963931",
     "status": "completed"
    },
    "tags": []
   },
   "outputs": [],
   "source": [
    "att_release_counts = get_releases_by(full_df, column=\"Attribute\", operation=\"all\", crosstab=True)\n",
    "att_release_counts.groupby(att_release_counts.index.strftime(\"%Y\")).sum()"
   ]
  },
  {
   "cell_type": "code",
   "execution_count": null,
   "id": "116",
   "metadata": {
    "papermill": {
     "duration": 3.419212,
     "end_time": "2025-04-12T07:01:10.160206",
     "exception": false,
     "start_time": "2025-04-12T07:01:06.740994",
     "status": "completed"
    },
    "tags": []
   },
   "outputs": [],
   "source": [
    "attribute_colors = [plot.colors_dict[col] for col in att_release_counts.columns]\n",
    "_ = plot.rate(\n",
    "    att_release_counts, colors=attribute_colors, bg=anime_df, vlines=rules_df[\"begin\"], cumsum=True, limit_year=True\n",
    ")\n",
    "plt.show()"
   ]
  },
  {
   "cell_type": "markdown",
   "id": "117",
   "metadata": {
    "papermill": {
     "duration": 1.200865,
     "end_time": "2025-04-12T07:01:12.598829",
     "exception": false,
     "start_time": "2025-04-12T07:01:11.397964",
     "status": "completed"
    },
    "tags": []
   },
   "source": [
    "### By Monster type"
   ]
  },
  {
   "cell_type": "code",
   "execution_count": null,
   "id": "118",
   "metadata": {
    "papermill": {
     "duration": 6.473943,
     "end_time": "2025-04-12T07:01:20.443540",
     "exception": false,
     "start_time": "2025-04-12T07:01:13.969597",
     "status": "completed"
    },
    "tags": []
   },
   "outputs": [],
   "source": [
    "mt_release_counts = get_releases_by(full_df, column=\"Monster type\", operation=\"all\", crosstab=True)\n",
    "mt_release_counts.groupby(mt_release_counts.index.strftime(\"%Y\")).sum()"
   ]
  },
  {
   "cell_type": "code",
   "execution_count": null,
   "id": "119",
   "metadata": {
    "papermill": {
     "duration": 56.892931,
     "end_time": "2025-04-12T07:02:18.576759",
     "exception": false,
     "start_time": "2025-04-12T07:01:21.683828",
     "status": "completed"
    },
    "tags": []
   },
   "outputs": [],
   "source": [
    "_ = plot.rate(mt_release_counts, bg=anime_df, vlines=rules_df[\"begin\"], subplots=True, limit_year=True)\n",
    "plt.show()"
   ]
  },
  {
   "cell_type": "markdown",
   "id": "120",
   "metadata": {
    "papermill": {
     "duration": 1.523247,
     "end_time": "2025-04-12T07:02:22.158802",
     "exception": false,
     "start_time": "2025-04-12T07:02:20.635555",
     "status": "completed"
    },
    "tags": []
   },
   "source": [
    "### By Level/Rank"
   ]
  },
  {
   "cell_type": "code",
   "execution_count": null,
   "id": "121",
   "metadata": {
    "papermill": {
     "duration": 8.342665,
     "end_time": "2025-04-12T07:02:32.253017",
     "exception": false,
     "start_time": "2025-04-12T07:02:23.910352",
     "status": "completed"
    },
    "tags": []
   },
   "outputs": [],
   "source": [
    "level_release = get_releases_by(\n",
    "    full_df[(full_df[\"Card type\"] != \"Non-game card\") & (full_df[\"Primary type\"] != \"Link Monster\")],\n",
    "    column=\"Level/Rank/Link\",\n",
    "    operation=\"all\",\n",
    "    crosstab=False,\n",
    ")\n",
    "level_release.groupby(level_release[\"All releases\"].dt.year)[\"Level/Rank/Link\"].describe()"
   ]
  },
  {
   "cell_type": "code",
   "execution_count": null,
   "id": "122",
   "metadata": {
    "papermill": {
     "duration": 3.460047,
     "end_time": "2025-04-12T07:02:37.187706",
     "exception": false,
     "start_time": "2025-04-12T07:02:33.727659",
     "status": "completed"
    },
    "tags": []
   },
   "outputs": [],
   "source": [
    "_ = plot.box(\n",
    "    level_release,\n",
    "    color=plot.colors_dict[\"Level\"],\n",
    "    notch=True,\n",
    ")\n",
    "plt.show()"
   ]
  },
  {
   "cell_type": "markdown",
   "id": "123",
   "metadata": {
    "papermill": {
     "duration": 2.050259,
     "end_time": "2025-04-12T07:02:40.678799",
     "exception": false,
     "start_time": "2025-04-12T07:02:38.628540",
     "status": "completed"
    },
    "tags": []
   },
   "source": [
    "### By Pendulum scale"
   ]
  },
  {
   "cell_type": "code",
   "execution_count": null,
   "id": "124",
   "metadata": {
    "papermill": {
     "duration": 5.505095,
     "end_time": "2025-04-12T07:02:47.740551",
     "exception": false,
     "start_time": "2025-04-12T07:02:42.235456",
     "status": "completed"
    },
    "tags": []
   },
   "outputs": [],
   "source": [
    "pendulum_release = get_releases_by(\n",
    "    full_df[(full_df[\"Card type\"] != \"Non-game card\")],\n",
    "    column=\"Pendulum Scale\",\n",
    "    operation=\"all\",\n",
    "    crosstab=False,\n",
    ")\n",
    "pendulum_release.groupby(pendulum_release[\"All releases\"].dt.year)[\"Pendulum Scale\"].describe()"
   ]
  },
  {
   "cell_type": "code",
   "execution_count": null,
   "id": "125",
   "metadata": {
    "papermill": {
     "duration": 1.852146,
     "end_time": "2025-04-12T07:02:51.033518",
     "exception": false,
     "start_time": "2025-04-12T07:02:49.181372",
     "status": "completed"
    },
    "tags": []
   },
   "outputs": [],
   "source": [
    "_ = plot.box(\n",
    "    pendulum_release,\n",
    "    color=plot.colors_dict[\"Pendulum Monster\"],\n",
    "    notch=True,\n",
    ")\n",
    "plt.show()"
   ]
  },
  {
   "cell_type": "markdown",
   "id": "126",
   "metadata": {
    "papermill": {
     "duration": 2.260168,
     "end_time": "2025-04-12T07:02:54.808043",
     "exception": false,
     "start_time": "2025-04-12T07:02:52.547875",
     "status": "completed"
    },
    "tags": []
   },
   "source": [
    "### By Link"
   ]
  },
  {
   "cell_type": "code",
   "execution_count": null,
   "id": "127",
   "metadata": {
    "papermill": {
     "duration": 2.940954,
     "end_time": "2025-04-12T07:02:59.862191",
     "exception": false,
     "start_time": "2025-04-12T07:02:56.921237",
     "status": "completed"
    },
    "tags": []
   },
   "outputs": [],
   "source": [
    "link_release = get_releases_by(\n",
    "    full_df[(full_df[\"Card type\"] != \"Non-game card\") & (full_df[\"Primary type\"] == \"Link Monster\")],\n",
    "    column=\"Level/Rank/Link\",\n",
    "    operation=\"all\",\n",
    "    crosstab=False,\n",
    ")\n",
    "link_release.groupby(link_release[\"All releases\"].dt.year)[\"Level/Rank/Link\"].describe()"
   ]
  },
  {
   "cell_type": "code",
   "execution_count": null,
   "id": "128",
   "metadata": {
    "papermill": {
     "duration": 2.273999,
     "end_time": "2025-04-12T07:03:03.632490",
     "exception": false,
     "start_time": "2025-04-12T07:03:01.358491",
     "status": "completed"
    },
    "tags": []
   },
   "outputs": [],
   "source": [
    "_ = plot.box(\n",
    "    link_release,\n",
    "    color=plot.colors_dict[\"Link Monster\"],\n",
    ")\n",
    "plt.show()"
   ]
  },
  {
   "cell_type": "markdown",
   "id": "129",
   "metadata": {
    "papermill": {
     "duration": 1.630315,
     "end_time": "2025-04-12T07:03:07.681433",
     "exception": false,
     "start_time": "2025-04-12T07:03:06.051118",
     "status": "completed"
    },
    "tags": []
   },
   "source": [
    "### By ATK"
   ]
  },
  {
   "cell_type": "code",
   "execution_count": null,
   "id": "130",
   "metadata": {
    "papermill": {
     "duration": 6.754301,
     "end_time": "2025-04-12T07:03:15.892902",
     "exception": false,
     "start_time": "2025-04-12T07:03:09.138601",
     "status": "completed"
    },
    "tags": []
   },
   "outputs": [],
   "source": [
    "atk_release = get_releases_by(\n",
    "    full_df[full_df[\"Card type\"] != \"Non-game card\"], column=\"ATK\", operation=\"all\", crosstab=False\n",
    ")\n",
    "atk_release.groupby(atk_release[\"All releases\"].dt.year)[\"ATK\"].describe()"
   ]
  },
  {
   "cell_type": "code",
   "execution_count": null,
   "id": "131",
   "metadata": {
    "papermill": {
     "duration": 3.568748,
     "end_time": "2025-04-12T07:03:20.898310",
     "exception": false,
     "start_time": "2025-04-12T07:03:17.329562",
     "status": "completed"
    },
    "tags": []
   },
   "outputs": [],
   "source": [
    "_ = plot.box(\n",
    "    atk_release,\n",
    "    color=plot.colors_dict[\"Effect Monster\"],\n",
    "    notch=True,\n",
    ")\n",
    "plt.show()"
   ]
  },
  {
   "cell_type": "markdown",
   "id": "132",
   "metadata": {
    "papermill": {
     "duration": 1.453814,
     "end_time": "2025-04-12T07:03:24.092474",
     "exception": false,
     "start_time": "2025-04-12T07:03:22.638660",
     "status": "completed"
    },
    "tags": []
   },
   "source": [
    "### By DEF"
   ]
  },
  {
   "cell_type": "code",
   "execution_count": null,
   "id": "133",
   "metadata": {
    "papermill": {
     "duration": 8.17216,
     "end_time": "2025-04-12T07:03:34.704273",
     "exception": false,
     "start_time": "2025-04-12T07:03:26.532113",
     "status": "completed"
    },
    "tags": []
   },
   "outputs": [],
   "source": [
    "def_release = get_releases_by(\n",
    "    full_df[full_df[\"Card type\"] != \"Non-game card\"], column=\"DEF\", operation=\"all\", crosstab=False\n",
    ")\n",
    "def_release.groupby(def_release[\"All releases\"].dt.year)[\"DEF\"].describe()"
   ]
  },
  {
   "cell_type": "code",
   "execution_count": null,
   "id": "134",
   "metadata": {
    "papermill": {
     "duration": 3.142053,
     "end_time": "2025-04-12T07:03:39.456054",
     "exception": false,
     "start_time": "2025-04-12T07:03:36.314001",
     "status": "completed"
    },
    "tags": []
   },
   "outputs": [],
   "source": [
    "_ = plot.box(\n",
    "    def_release,\n",
    "    color=plot.colors_dict[\"Effect Monster\"],\n",
    "    notch=True,\n",
    ")\n",
    "plt.show()"
   ]
  },
  {
   "cell_type": "markdown",
   "id": "135",
   "metadata": {
    "papermill": {
     "duration": 2.654612,
     "end_time": "2025-04-12T07:03:43.564339",
     "exception": false,
     "start_time": "2025-04-12T07:03:40.909727",
     "status": "completed"
    },
    "tags": []
   },
   "source": [
    "# Merge failed"
   ]
  },
  {
   "cell_type": "markdown",
   "id": "136",
   "metadata": {
    "papermill": {
     "duration": 2.388428,
     "end_time": "2025-04-12T07:03:47.400519",
     "exception": false,
     "start_time": "2025-04-12T07:03:45.012091",
     "status": "completed"
    },
    "tags": []
   },
   "source": [
    "## Names missing"
   ]
  },
  {
   "cell_type": "markdown",
   "id": "137",
   "metadata": {
    "papermill": {
     "duration": 2.000721,
     "end_time": "2025-04-12T07:03:50.862422",
     "exception": false,
     "start_time": "2025-04-12T07:03:48.861701",
     "status": "completed"
    },
    "tags": []
   },
   "source": [
    "Likely due to card being renamed but the old name kept in the set lists"
   ]
  },
  {
   "cell_type": "code",
   "execution_count": null,
   "id": "138",
   "metadata": {
    "papermill": {
     "duration": 2.411236,
     "end_time": "2025-04-12T07:03:54.743861",
     "exception": false,
     "start_time": "2025-04-12T07:03:52.332625",
     "status": "completed"
    },
    "tags": []
   },
   "outputs": [],
   "source": [
    "cards_df.where(~cards_df[\"Name\"].isin(full_df[\"Name\"])).dropna(how=\"all\")"
   ]
  },
  {
   "cell_type": "markdown",
   "id": "139",
   "metadata": {
    "papermill": {
     "duration": 1.528632,
     "end_time": "2025-04-12T07:03:57.775884",
     "exception": false,
     "start_time": "2025-04-12T07:03:56.247252",
     "status": "completed"
    },
    "tags": []
   },
   "source": [
    "## Card number missing"
   ]
  },
  {
   "cell_type": "markdown",
   "id": "140",
   "metadata": {
    "papermill": {
     "duration": 3.385813,
     "end_time": "2025-04-12T07:04:03.624404",
     "exception": false,
     "start_time": "2025-04-12T07:04:00.238591",
     "status": "completed"
    },
    "tags": []
   },
   "source": [
    "Likely old OCG cards without card number"
   ]
  },
  {
   "cell_type": "code",
   "execution_count": null,
   "id": "141",
   "metadata": {
    "papermill": {
     "duration": 2.186062,
     "end_time": "2025-04-12T07:04:07.278480",
     "exception": false,
     "start_time": "2025-04-12T07:04:05.092418",
     "status": "completed"
    },
    "tags": []
   },
   "outputs": [],
   "source": [
    "set_lists_df.where(\n",
    "    (~set_lists_df[\"Card number\"].isin(full_df[\"Card number\"]))\n",
    "    & (~set_lists_df[\"Card number\"].dropna().str.startswith(\"RD/\"))\n",
    ").dropna(how=\"all\")"
   ]
  },
  {
   "cell_type": "markdown",
   "id": "142",
   "metadata": {
    "papermill": {
     "duration": 1.488987,
     "end_time": "2025-04-12T07:04:10.436233",
     "exception": false,
     "start_time": "2025-04-12T07:04:08.947246",
     "status": "completed"
    },
    "tags": []
   },
   "source": [
    "# Epilogue"
   ]
  },
  {
   "cell_type": "code",
   "execution_count": null,
   "id": "143",
   "metadata": {
    "papermill": {
     "duration": 12.169885,
     "end_time": "2025-04-12T07:04:24.061262",
     "exception": false,
     "start_time": "2025-04-12T07:04:11.891377",
     "status": "completed"
    },
    "tags": []
   },
   "outputs": [],
   "source": [
    "benchmark(report=\"timeline\", timestamp=timestamp)"
   ]
  },
  {
   "cell_type": "code",
   "execution_count": null,
   "id": "144",
   "metadata": {
    "papermill": {
     "duration": 1.976936,
     "end_time": "2025-04-12T07:04:27.493198",
     "exception": false,
     "start_time": "2025-04-12T07:04:25.516262",
     "status": "completed"
    },
    "tags": []
   },
   "outputs": [],
   "source": [
    "footer()"
   ]
  },
  {
   "cell_type": "markdown",
   "id": "145",
   "metadata": {
    "papermill": {
     "duration": 2.722148,
     "end_time": "2025-04-12T07:04:31.686747",
     "exception": false,
     "start_time": "2025-04-12T07:04:28.964599",
     "status": "completed"
    },
    "tags": []
   },
   "source": [
    "## HTML export"
   ]
  },
  {
   "cell_type": "code",
   "execution_count": null,
   "id": "146",
   "metadata": {
    "papermill": {
     "duration": 2.013451,
     "end_time": "2025-04-12T07:04:36.878549",
     "exception": false,
     "start_time": "2025-04-12T07:04:34.865098",
     "status": "completed"
    },
    "tags": []
   },
   "outputs": [],
   "source": [
    "# May need to sleep for a few seconds after saving\n",
    "save_notebook()"
   ]
  },
  {
   "cell_type": "code",
   "execution_count": null,
   "id": "147",
   "metadata": {
    "papermill": {
     "duration": 12.110728,
     "end_time": "2025-04-12T07:04:50.742434",
     "exception": false,
     "start_time": "2025-04-12T07:04:38.631706",
     "status": "completed"
    },
    "tags": []
   },
   "outputs": [],
   "source": [
    "export_notebook(dirs.NOTEBOOKS.user / \"Timeline.ipynb\")"
   ]
  },
  {
   "cell_type": "markdown",
   "id": "148",
   "metadata": {
    "papermill": {
     "duration": 3.03537,
     "end_time": "2025-04-12T07:04:55.255983",
     "exception": false,
     "start_time": "2025-04-12T07:04:52.220613",
     "status": "completed"
    },
    "tags": [
     "exclude"
    ]
   },
   "source": [
    "## Git"
   ]
  },
  {
   "cell_type": "code",
   "execution_count": null,
   "id": "149",
   "metadata": {
    "papermill": {
     "duration": null,
     "end_time": null,
     "exception": false,
     "start_time": "2025-04-12T07:04:57.704950",
     "status": "running"
    },
    "tags": [
     "exclude"
    ]
   },
   "outputs": [],
   "source": [
    "git.commit(\"*[Tt]imeline*\", f\"Timeline update - {timestamp.isoformat()}\")"
   ]
  }
 ],
 "metadata": {
  "kernelspec": {
   "display_name": "venv",
   "language": "python",
   "name": "python3"
  },
  "language_info": {
   "codemirror_mode": {
    "name": "ipython",
    "version": 3
   },
   "file_extension": ".py",
   "mimetype": "text/x-python",
   "name": "python",
   "nbconvert_exporter": "python",
   "pygments_lexer": "ipython3",
   "version": "3.11.6"
  },
  "papermill": {
   "default_parameters": {},
   "duration": null,
   "end_time": null,
   "environment_variables": {},
   "exception": null,
   "input_path": "/home/jovyan/yugiquery/notebooks/Timeline.ipynb",
   "output_path": "/home/jovyan/yugiquery/notebooks/Timeline.ipynb",
   "parameters": {},
   "start_time": "2025-04-12T06:51:25.166862",
   "version": "2.6.0"
  },
  "toc": {
   "base_numbering": 1,
   "nav_menu": {},
   "number_sections": true,
   "sideBar": true,
   "skip_h1_title": false,
   "title_cell": "Table of Contents",
   "title_sidebar": "Contents",
   "toc_cell": true,
   "toc_position": {},
   "toc_section_display": true,
   "toc_window_display": true
  }
 },
 "nbformat": 4,
 "nbformat_minor": 5
}
