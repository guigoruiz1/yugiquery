{
 "cells": [
  {
   "cell_type": "code",
   "execution_count": null,
   "id": "0",
   "metadata": {
    "papermill": {
     "duration": 1.645564,
     "end_time": "2024-09-08T19:44:10.760667",
     "exception": false,
     "start_time": "2024-09-08T19:44:09.115103",
     "status": "completed"
    },
    "tags": []
   },
   "outputs": [],
   "source": [
    "from yugiquery import *\n",
    "\n",
    "init_notebook_mode(all_interactive=True)\n",
    "\n",
    "header(\"Timeline\")"
   ]
  },
  {
   "cell_type": "markdown",
   "id": "1",
   "metadata": {
    "papermill": {
     "duration": 0.007358,
     "end_time": "2024-09-08T19:44:10.775404",
     "exception": false,
     "start_time": "2024-09-08T19:44:10.768046",
     "status": "completed"
    },
    "tags": []
   },
   "source": [
    "---"
   ]
  },
  {
   "cell_type": "markdown",
   "id": "2",
   "metadata": {
    "papermill": {
     "duration": 0.009073,
     "end_time": "2024-09-08T19:44:10.792434",
     "exception": false,
     "start_time": "2024-09-08T19:44:10.783361",
     "status": "completed"
    },
    "tags": [],
    "toc": true
   },
   "source": [
    "Table of Contents <a class=\"jp-toc-ignore\"></a>\n",
    "=================\n",
    "\n",
    "*   [1  Data preparation](#Data-preparation)\n",
    "    *   [1.1  Load data](#Load-data)\n",
    "    *   [1.2  Format data](#Format-data)\n",
    "    *   [1.3  Merge data](#Merge-data)\n",
    "*   [4  Data visualization](#Data-visualization)\n",
    "    *   [4.1  First releases](#First-releases)\n",
    "        *   [4.1.1  By region](#By-region)\n",
    "    *   [4.1  Last releases](#Last-releases)\n",
    "        *   [4.1.1  By region](#By-region)\n",
    "    *   [4.2  All Releases](#All-Releases)\n",
    "        *   [4.2.1  By card type](#By-card-type)\n",
    "        *   [4.2.2  By primary type](#By-primary-type)\n",
    "        *   [4.2.3  By secondary type](#By-secondary-type)\n",
    "        *   [4.2.4  By attribute](#By-attribute)\n",
    "        *   [4.2.5  By monster type](#By-monster-type)\n",
    "        *   [4.2.6  By Level/Rank](#By-Level/Rank)\n",
    "        *   [4.2.7  By ATK](#By-ATK)\n",
    "        *   [4.2.8  By DEF](#By-DEF)\n",
    "        *   [4.2.9  By pendulum scale](#By-pendulum-scale)\n",
    "        *   [4.2.10  By link](#By-link)\n",
    "*   [5  Debug](#Debug)\n",
    "    *   [5.1  Merge failed](#Merge-failed)\n",
    "*   [6  Epilogue](#Epilogue)\n",
    "    *   [6.1  HTML export](#HTML-export)\n",
    "<!-- *   [6.2  Git](#Git) -->"
   ]
  },
  {
   "cell_type": "markdown",
   "id": "3",
   "metadata": {
    "papermill": {
     "duration": 0.006374,
     "end_time": "2024-09-08T19:44:10.805698",
     "exception": false,
     "start_time": "2024-09-08T19:44:10.799324",
     "status": "completed"
    },
    "tags": []
   },
   "source": [
    "# Data preparation"
   ]
  },
  {
   "cell_type": "code",
   "execution_count": null,
   "id": "4",
   "metadata": {
    "papermill": {
     "duration": 0.012828,
     "end_time": "2024-09-08T19:44:10.825458",
     "exception": false,
     "start_time": "2024-09-08T19:44:10.812630",
     "status": "completed"
    },
    "tags": []
   },
   "outputs": [],
   "source": [
    "timestamp = arrow.utcnow()"
   ]
  },
  {
   "cell_type": "markdown",
   "id": "5",
   "metadata": {
    "papermill": {
     "duration": 0.006419,
     "end_time": "2024-09-08T19:44:10.838647",
     "exception": false,
     "start_time": "2024-09-08T19:44:10.832228",
     "status": "completed"
    },
    "tags": []
   },
   "source": [
    "## Load data"
   ]
  },
  {
   "cell_type": "code",
   "execution_count": null,
   "id": "6",
   "metadata": {
    "papermill": {
     "duration": 0.01925,
     "end_time": "2024-09-08T19:44:10.864328",
     "exception": false,
     "start_time": "2024-09-08T19:44:10.845078",
     "status": "completed"
    },
    "tags": []
   },
   "outputs": [],
   "source": [
    "# Load list of important dates\n",
    "with open(dirs.get_asset(\"json\" / \"dates.json\"), \"r\") as f:\n",
    "    dates_json = json.load(f)\n",
    "    anime_df = pd.DataFrame(dates_json[\"anime\"][\"series\"]).set_index(\"title\").map(pd.to_datetime, dayfirst=True)\n",
    "    rules_df = (\n",
    "        pd.DataFrame(dates_json[\"rules\"]).set_index(\"title\").map(pd.to_datetime, dayfirst=True).iloc[2:]\n",
    "    )  # Ignore old rules"
   ]
  },
  {
   "cell_type": "code",
   "execution_count": null,
   "id": "7",
   "metadata": {
    "papermill": {
     "duration": 3.37718,
     "end_time": "2024-09-08T19:44:14.250119",
     "exception": false,
     "start_time": "2024-09-08T19:44:10.872939",
     "status": "completed"
    },
    "tags": []
   },
   "outputs": [],
   "source": [
    "# Get latest file if exist\n",
    "tuple_cols = [\n",
    "    \"Secondary type\",\n",
    "    \"Effect type\",\n",
    "    \"Link Arrows\",\n",
    "    \"Archseries\",\n",
    "    \"Artwork\",\n",
    "    \"Errata\",\n",
    "    \"Rarity\",\n",
    "    \"Cover card\",\n",
    "]\n",
    "\n",
    "all_cards_df, _ = load_corrected_latest(\"cards\", tuple_cols)\n",
    "all_speed_df, _ = load_corrected_latest(\"speed\", tuple_cols)\n",
    "set_lists_df, _ = load_corrected_latest(\"sets\", tuple_cols)"
   ]
  },
  {
   "cell_type": "markdown",
   "id": "8",
   "metadata": {
    "papermill": {
     "duration": 0.00706,
     "end_time": "2024-09-08T19:44:14.266647",
     "exception": false,
     "start_time": "2024-09-08T19:44:14.259587",
     "status": "completed"
    },
    "tags": []
   },
   "source": [
    "## Format data"
   ]
  },
  {
   "cell_type": "code",
   "execution_count": null,
   "id": "9",
   "metadata": {
    "papermill": {
     "duration": 0.06307,
     "end_time": "2024-09-08T19:44:14.337275",
     "exception": false,
     "start_time": "2024-09-08T19:44:14.274205",
     "status": "completed"
    },
    "tags": []
   },
   "outputs": [],
   "source": [
    "df_list = [all_cards_df, all_speed_df, set_lists_df]\n",
    "if all(item is not None for item in df_list):\n",
    "    for df in df_list:\n",
    "        df[\"index\"] = df[\"Name\"].str.lower().str.replace(\"#\", \"\")\n",
    "\n",
    "else:\n",
    "    raise SystemExit(\"Not enough files to proceed. Aborting!\")"
   ]
  },
  {
   "cell_type": "markdown",
   "id": "10",
   "metadata": {
    "papermill": {
     "duration": 0.006887,
     "end_time": "2024-09-08T19:44:14.351344",
     "exception": false,
     "start_time": "2024-09-08T19:44:14.344457",
     "status": "completed"
    },
    "tags": []
   },
   "source": [
    "## Merge data"
   ]
  },
  {
   "cell_type": "code",
   "execution_count": null,
   "id": "11",
   "metadata": {
    "papermill": {
     "duration": 1.303464,
     "end_time": "2024-09-08T19:44:15.661719",
     "exception": false,
     "start_time": "2024-09-08T19:44:14.358255",
     "status": "completed"
    },
    "tags": []
   },
   "outputs": [],
   "source": [
    "full_df = pd.concat([all_cards_df, all_speed_df]).drop_duplicates(ignore_index=True)\n",
    "full_df = full_df.merge(set_lists_df, how=\"inner\", on=\"index\")\n",
    "full_df = full_df.convert_dtypes()\n",
    "full_df[\"Modification date\"] = full_df[[\"Modification date_x\", \"Modification date_y\"]].max(axis=1)\n",
    "full_df[\"Name\"] = full_df[\"Name_x\"].fillna(full_df[\"Name_y\"])\n",
    "full_df.drop(\n",
    "    [\"index\", \"Name_x\", \"Name_y\", \"Modification date_x\", \"Modification date_y\"],\n",
    "    axis=1,\n",
    "    inplace=True,\n",
    ")\n",
    "full_df.rename(columns={\"Page URL_x\": \"Card page URL\", \"Page URL_y\": \"Set page URL\"}, inplace=True)\n",
    "full_df = full_df[np.append(full_df.columns[-1:], full_df.columns[:-1])]"
   ]
  },
  {
   "cell_type": "markdown",
   "id": "12",
   "metadata": {
    "papermill": {
     "duration": 0.009298,
     "end_time": "2024-09-08T19:44:15.680550",
     "exception": false,
     "start_time": "2024-09-08T19:44:15.671252",
     "status": "completed"
    },
    "tags": []
   },
   "source": [
    "# Data visualization"
   ]
  },
  {
   "cell_type": "code",
   "execution_count": null,
   "id": "13",
   "metadata": {
    "papermill": {
     "duration": 0.061453,
     "end_time": "2024-09-08T19:44:15.750935",
     "exception": false,
     "start_time": "2024-09-08T19:44:15.689482",
     "status": "completed"
    },
    "tags": []
   },
   "outputs": [],
   "source": [
    "full_df"
   ]
  },
  {
   "cell_type": "markdown",
   "id": "14",
   "metadata": {
    "jp-MarkdownHeadingCollapsed": true,
    "papermill": {
     "duration": 0.007812,
     "end_time": "2024-09-08T19:44:15.766480",
     "exception": false,
     "start_time": "2024-09-08T19:44:15.758668",
     "status": "completed"
    },
    "tags": []
   },
   "source": [
    "## First releases"
   ]
  },
  {
   "cell_type": "markdown",
   "id": "15",
   "metadata": {
    "papermill": {
     "duration": 0.007668,
     "end_time": "2024-09-08T19:44:15.781521",
     "exception": false,
     "start_time": "2024-09-08T19:44:15.773853",
     "status": "completed"
    },
    "tags": []
   },
   "source": [
    "Obs: Only the first release of an individual card name"
   ]
  },
  {
   "cell_type": "code",
   "execution_count": null,
   "id": "16",
   "metadata": {
    "papermill": {
     "duration": 0.367257,
     "end_time": "2024-09-08T19:44:16.156311",
     "exception": false,
     "start_time": "2024-09-08T19:44:15.789054",
     "status": "completed"
    },
    "tags": []
   },
   "outputs": [],
   "source": [
    "first_release = full_df[full_df[\"Release\"].notna()].groupby(\"Name\")[\"Release\"].agg(\"min\")\n",
    "first_release.to_frame(name=\"First release\")"
   ]
  },
  {
   "cell_type": "code",
   "execution_count": null,
   "id": "17",
   "metadata": {
    "papermill": {
     "duration": 0.728546,
     "end_time": "2024-09-08T19:44:16.895595",
     "exception": false,
     "start_time": "2024-09-08T19:44:16.167049",
     "status": "completed"
    },
    "tags": []
   },
   "outputs": [],
   "source": [
    "first_release_count = first_release.sort_values().value_counts(sort=False).to_frame(name=\"All cards\")\n",
    "first_release_count.index.name = \"First Release\"\n",
    "plot.rate(first_release_count, bg=anime_df, vlines=rules_df[\"begin\"])"
   ]
  },
  {
   "cell_type": "markdown",
   "id": "18",
   "metadata": {
    "papermill": {
     "duration": 0.012861,
     "end_time": "2024-09-08T19:44:16.921140",
     "exception": false,
     "start_time": "2024-09-08T19:44:16.908279",
     "status": "completed"
    },
    "tags": []
   },
   "source": [
    "### By region"
   ]
  },
  {
   "cell_type": "code",
   "execution_count": null,
   "id": "19",
   "metadata": {
    "papermill": {
     "duration": 0.417948,
     "end_time": "2024-09-08T19:44:17.352386",
     "exception": false,
     "start_time": "2024-09-08T19:44:16.934438",
     "status": "completed"
    },
    "tags": []
   },
   "outputs": [],
   "source": [
    "first_release_region = full_df[full_df[\"Release\"].notna()].groupby([\"Region\", \"Name\"])[\"Release\"].agg(\"min\")\n",
    "first_release_region.to_frame(name=\"First release\")"
   ]
  },
  {
   "cell_type": "code",
   "execution_count": null,
   "id": "20",
   "metadata": {
    "papermill": {
     "duration": 8.994394,
     "end_time": "2024-09-08T19:44:26.361372",
     "exception": false,
     "start_time": "2024-09-08T19:44:17.366978",
     "status": "completed"
    },
    "tags": []
   },
   "outputs": [],
   "source": [
    "first_release_region_count = (\n",
    "    first_release_region.sort_values().groupby([\"Region\"]).value_counts(sort=False).unstack(0).fillna(0).round(0)\n",
    ")\n",
    "first_release_region_count.index.name = \"Release\"\n",
    "plot.rate_subplots(\n",
    "    first_release_region_count,\n",
    "    title=\"First Release\",\n",
    "    bg=anime_df,\n",
    "    vlines=rules_df[\"begin\"],\n",
    ")"
   ]
  },
  {
   "cell_type": "markdown",
   "id": "21",
   "metadata": {
    "jp-MarkdownHeadingCollapsed": true,
    "papermill": {
     "duration": 0.060883,
     "end_time": "2024-09-08T19:44:26.486834",
     "exception": false,
     "start_time": "2024-09-08T19:44:26.425951",
     "status": "completed"
    },
    "tags": []
   },
   "source": [
    "## Last releases"
   ]
  },
  {
   "cell_type": "markdown",
   "id": "22",
   "metadata": {
    "papermill": {
     "duration": 0.14395,
     "end_time": "2024-09-08T19:44:26.764414",
     "exception": false,
     "start_time": "2024-09-08T19:44:26.620464",
     "status": "completed"
    },
    "tags": []
   },
   "source": [
    "Obs: Only the last release of an individual card name"
   ]
  },
  {
   "cell_type": "code",
   "execution_count": null,
   "id": "23",
   "metadata": {
    "papermill": {
     "duration": 0.497904,
     "end_time": "2024-09-08T19:44:27.338449",
     "exception": false,
     "start_time": "2024-09-08T19:44:26.840545",
     "status": "completed"
    },
    "tags": []
   },
   "outputs": [],
   "source": [
    "last_release = full_df[full_df[\"Release\"].notna()].groupby(\"Name\")[\"Release\"].agg(\"max\")\n",
    "last_release.to_frame(name=\"Last release\")"
   ]
  },
  {
   "cell_type": "code",
   "execution_count": null,
   "id": "24",
   "metadata": {
    "papermill": {
     "duration": 1.115703,
     "end_time": "2024-09-08T19:44:28.515758",
     "exception": false,
     "start_time": "2024-09-08T19:44:27.400055",
     "status": "completed"
    },
    "tags": []
   },
   "outputs": [],
   "source": [
    "last_release_count = last_release.sort_values().value_counts(sort=False).to_frame(name=\"All cards\")\n",
    "last_release_count.index.name = \"Last Release\"\n",
    "plot.rate(last_release_count, bg=anime_df, vlines=rules_df[\"begin\"])"
   ]
  },
  {
   "cell_type": "markdown",
   "id": "25",
   "metadata": {
    "papermill": {
     "duration": 0.061033,
     "end_time": "2024-09-08T19:44:28.643023",
     "exception": false,
     "start_time": "2024-09-08T19:44:28.581990",
     "status": "completed"
    },
    "tags": []
   },
   "source": [
    "### By region"
   ]
  },
  {
   "cell_type": "code",
   "execution_count": null,
   "id": "26",
   "metadata": {
    "papermill": {
     "duration": 0.627325,
     "end_time": "2024-09-08T19:44:29.340082",
     "exception": false,
     "start_time": "2024-09-08T19:44:28.712757",
     "status": "completed"
    },
    "tags": []
   },
   "outputs": [],
   "source": [
    "last_release_region = full_df[full_df[\"Release\"].notna()].groupby([\"Region\", \"Name\"])[\"Release\"].agg(\"max\")\n",
    "last_release_region.to_frame(name=\"Last release\")"
   ]
  },
  {
   "cell_type": "code",
   "execution_count": null,
   "id": "27",
   "metadata": {
    "papermill": {
     "duration": 7.985974,
     "end_time": "2024-09-08T19:44:37.387916",
     "exception": false,
     "start_time": "2024-09-08T19:44:29.401942",
     "status": "completed"
    },
    "tags": []
   },
   "outputs": [],
   "source": [
    "last_release_region_count = (\n",
    "    last_release_region.sort_values().groupby([\"Region\"]).value_counts(sort=False).unstack(0).fillna(0).round(0)\n",
    ")\n",
    "last_release_region_count.index.name = \"Release\"\n",
    "plot.rate_subplots(\n",
    "    last_release_region_count,\n",
    "    title=\"Last Release\",\n",
    "    bg=anime_df,\n",
    "    vlines=rules_df[\"begin\"],\n",
    ")"
   ]
  },
  {
   "cell_type": "markdown",
   "id": "28",
   "metadata": {
    "papermill": {
     "duration": 0.183052,
     "end_time": "2024-09-08T19:44:37.687353",
     "exception": false,
     "start_time": "2024-09-08T19:44:37.504301",
     "status": "completed"
    },
    "tags": []
   },
   "source": [
    "## All Releases"
   ]
  },
  {
   "cell_type": "markdown",
   "id": "29",
   "metadata": {
    "papermill": {
     "duration": 0.274442,
     "end_time": "2024-09-08T19:44:38.106706",
     "exception": false,
     "start_time": "2024-09-08T19:44:37.832264",
     "status": "completed"
    },
    "tags": []
   },
   "source": [
    "Obs: All releases includes reprints"
   ]
  },
  {
   "cell_type": "code",
   "execution_count": null,
   "id": "30",
   "metadata": {
    "papermill": {
     "duration": 1.409856,
     "end_time": "2024-09-08T19:44:39.865787",
     "exception": false,
     "start_time": "2024-09-08T19:44:38.455931",
     "status": "completed"
    },
    "tags": []
   },
   "outputs": [],
   "source": [
    "all_releases = full_df[\"Release\"][full_df[\"Release\"].notna()].value_counts().sort_index().to_frame()\n",
    "all_releases.index.name = \"All releases\"\n",
    "plot.rate(all_releases, bg=anime_df, vlines=rules_df[\"begin\"])"
   ]
  },
  {
   "cell_type": "markdown",
   "id": "31",
   "metadata": {
    "papermill": {
     "duration": 0.111167,
     "end_time": "2024-09-08T19:44:40.081027",
     "exception": false,
     "start_time": "2024-09-08T19:44:39.969860",
     "status": "completed"
    },
    "tags": []
   },
   "source": [
    "### By card type"
   ]
  },
  {
   "cell_type": "code",
   "execution_count": null,
   "id": "32",
   "metadata": {
    "papermill": {
     "duration": 0.497206,
     "end_time": "2024-09-08T19:44:40.880300",
     "exception": false,
     "start_time": "2024-09-08T19:44:40.383094",
     "status": "completed"
    },
    "tags": []
   },
   "outputs": [],
   "source": [
    "# All releases, includes reprints - Double check\n",
    "release_card_type = full_df.groupby([\"Card type\", \"Release\"])[\"Name\"].nunique().unstack(0).sort_index().fillna(0).astype(int)\n",
    "release_card_type.groupby(release_card_type.index.strftime(\"%Y\")).sum().T"
   ]
  },
  {
   "cell_type": "code",
   "execution_count": null,
   "id": "33",
   "metadata": {
    "papermill": {
     "duration": 0.843864,
     "end_time": "2024-09-08T19:44:41.909043",
     "exception": false,
     "start_time": "2024-09-08T19:44:41.065179",
     "status": "completed"
    },
    "tags": []
   },
   "outputs": [],
   "source": [
    "card_type_colors = [plot.colors_dict[col] for col in release_card_type.columns]\n",
    "plot.rate(release_card_type, colors=card_type_colors, bg=anime_df, vlines=rules_df[\"begin\"])"
   ]
  },
  {
   "cell_type": "markdown",
   "id": "34",
   "metadata": {
    "papermill": {
     "duration": 0.181529,
     "end_time": "2024-09-08T19:44:42.202570",
     "exception": false,
     "start_time": "2024-09-08T19:44:42.021041",
     "status": "completed"
    },
    "tags": []
   },
   "source": [
    "### By primary type"
   ]
  },
  {
   "cell_type": "code",
   "execution_count": null,
   "id": "35",
   "metadata": {
    "papermill": {
     "duration": 0.479997,
     "end_time": "2024-09-08T19:44:42.934046",
     "exception": false,
     "start_time": "2024-09-08T19:44:42.454049",
     "status": "completed"
    },
    "tags": []
   },
   "outputs": [],
   "source": [
    "# All releases, includes reprints - Double check\n",
    "# Sort properly\n",
    "release_primary_type = (\n",
    "    full_df.groupby([\"Primary type\", \"Release\"])[\"Name\"].nunique().unstack(0).sort_index().fillna(0).astype(int)\n",
    ")\n",
    "release_primary_type.groupby(release_primary_type.index.strftime(\"%Y\")).sum().T"
   ]
  },
  {
   "cell_type": "code",
   "execution_count": null,
   "id": "36",
   "metadata": {
    "papermill": {
     "duration": 0.7493,
     "end_time": "2024-09-08T19:44:43.937620",
     "exception": false,
     "start_time": "2024-09-08T19:44:43.188320",
     "status": "completed"
    },
    "tags": []
   },
   "outputs": [],
   "source": [
    "primary_type_colors = [plot.colors_dict[col] for col in release_primary_type.columns]\n",
    "plot.rate(\n",
    "    release_primary_type,\n",
    "    colors=primary_type_colors,\n",
    "    bg=anime_df,\n",
    "    vlines=rules_df[\"begin\"],\n",
    ")"
   ]
  },
  {
   "cell_type": "markdown",
   "id": "37",
   "metadata": {
    "papermill": {
     "duration": 0.192584,
     "end_time": "2024-09-08T19:44:44.255273",
     "exception": false,
     "start_time": "2024-09-08T19:44:44.062689",
     "status": "completed"
    },
    "tags": []
   },
   "source": [
    "### By secondary type"
   ]
  },
  {
   "cell_type": "code",
   "execution_count": null,
   "id": "38",
   "metadata": {
    "papermill": {
     "duration": 1.764377,
     "end_time": "2024-09-08T19:44:46.298912",
     "exception": false,
     "start_time": "2024-09-08T19:44:44.534535",
     "status": "completed"
    },
    "tags": []
   },
   "outputs": [],
   "source": [
    "# All releases, includes reprints - Double check\n",
    "# Sort properly\n",
    "release_secondary_type = (\n",
    "    full_df.explode(\"Secondary type\")\n",
    "    .groupby([\"Secondary type\", \"Release\"])[\"Name\"]\n",
    "    .nunique()\n",
    "    .unstack(0)\n",
    "    .sort_index()\n",
    "    .fillna(0)\n",
    "    .astype(int)\n",
    ")\n",
    "release_secondary_type.groupby(release_secondary_type.index.strftime(\"%Y\")).sum().T"
   ]
  },
  {
   "cell_type": "code",
   "execution_count": null,
   "id": "39",
   "metadata": {
    "papermill": {
     "duration": 0.948909,
     "end_time": "2024-09-08T19:44:47.373111",
     "exception": false,
     "start_time": "2024-09-08T19:44:46.424202",
     "status": "completed"
    },
    "tags": []
   },
   "outputs": [],
   "source": [
    "plot.rate(release_secondary_type, bg=anime_df, vlines=rules_df[\"begin\"])"
   ]
  },
  {
   "cell_type": "markdown",
   "id": "40",
   "metadata": {
    "papermill": {
     "duration": 0.200964,
     "end_time": "2024-09-08T19:44:47.701281",
     "exception": false,
     "start_time": "2024-09-08T19:44:47.500317",
     "status": "completed"
    },
    "tags": []
   },
   "source": [
    "### By attribute"
   ]
  },
  {
   "cell_type": "code",
   "execution_count": null,
   "id": "41",
   "metadata": {
    "papermill": {
     "duration": 0.379335,
     "end_time": "2024-09-08T19:44:48.361312",
     "exception": false,
     "start_time": "2024-09-08T19:44:47.981977",
     "status": "completed"
    },
    "tags": []
   },
   "outputs": [],
   "source": [
    "# All releases, includes reprints - Double check\n",
    "# Sort properly\n",
    "release_attribute = full_df.groupby([\"Attribute\", \"Release\"])[\"Name\"].nunique().unstack(0).sort_index().fillna(0).astype(int)\n",
    "release_attribute.groupby(release_attribute.index.strftime(\"%Y\")).sum().T"
   ]
  },
  {
   "cell_type": "code",
   "execution_count": null,
   "id": "42",
   "metadata": {
    "papermill": {
     "duration": 0.764585,
     "end_time": "2024-09-08T19:44:49.481310",
     "exception": false,
     "start_time": "2024-09-08T19:44:48.716725",
     "status": "completed"
    },
    "tags": []
   },
   "outputs": [],
   "source": [
    "attribute_colors = [plot.colors_dict[col] for col in release_attribute.columns]\n",
    "plot.rate(\n",
    "    release_attribute,\n",
    "    colors=attribute_colors,\n",
    "    bg=anime_df,\n",
    "    vlines=rules_df[\"begin\"],\n",
    "    cumsum=True,\n",
    ")"
   ]
  },
  {
   "cell_type": "markdown",
   "id": "43",
   "metadata": {
    "papermill": {
     "duration": 0.213209,
     "end_time": "2024-09-08T19:44:49.834789",
     "exception": false,
     "start_time": "2024-09-08T19:44:49.621580",
     "status": "completed"
    },
    "tags": []
   },
   "source": [
    "### By monster type"
   ]
  },
  {
   "cell_type": "code",
   "execution_count": null,
   "id": "44",
   "metadata": {
    "papermill": {
     "duration": 0.449781,
     "end_time": "2024-09-08T19:44:50.595279",
     "exception": false,
     "start_time": "2024-09-08T19:44:50.145498",
     "status": "completed"
    },
    "tags": []
   },
   "outputs": [],
   "source": [
    "# All releases, includes reprints - Double check\n",
    "# Sort properly\n",
    "release_monster_type = (\n",
    "    full_df.groupby([\"Monster type\", \"Release\"])[\"Name\"].nunique().unstack(0).sort_index().fillna(0).astype(int)\n",
    ")\n",
    "release_monster_type.groupby(release_monster_type.index.strftime(\"%Y\")).sum().T"
   ]
  },
  {
   "cell_type": "code",
   "execution_count": null,
   "id": "45",
   "metadata": {
    "papermill": {
     "duration": 15.157147,
     "end_time": "2024-09-08T19:45:06.048297",
     "exception": false,
     "start_time": "2024-09-08T19:44:50.891150",
     "status": "completed"
    },
    "tags": []
   },
   "outputs": [],
   "source": [
    "plot.rate_subplots(release_monster_type, bg=anime_df, vlines=rules_df[\"begin\"])"
   ]
  },
  {
   "cell_type": "markdown",
   "id": "46",
   "metadata": {
    "papermill": {
     "duration": 0.233477,
     "end_time": "2024-09-08T19:45:06.523705",
     "exception": false,
     "start_time": "2024-09-08T19:45:06.290228",
     "status": "completed"
    },
    "tags": []
   },
   "source": [
    "### By Level/Rank"
   ]
  },
  {
   "cell_type": "code",
   "execution_count": null,
   "id": "47",
   "metadata": {
    "papermill": {
     "duration": 1.590659,
     "end_time": "2024-09-08T19:45:08.344344",
     "exception": false,
     "start_time": "2024-09-08T19:45:06.753685",
     "status": "completed"
    },
    "tags": []
   },
   "outputs": [],
   "source": [
    "plot.box(full_df[[\"Release\", \"Level/Rank\"]], color=plot.colors_dict[\"Level\"], notch=True)"
   ]
  },
  {
   "cell_type": "markdown",
   "id": "48",
   "metadata": {
    "papermill": {
     "duration": 0.229633,
     "end_time": "2024-09-08T19:45:08.818889",
     "exception": false,
     "start_time": "2024-09-08T19:45:08.589256",
     "status": "completed"
    },
    "tags": []
   },
   "source": [
    "### By ATK"
   ]
  },
  {
   "cell_type": "code",
   "execution_count": null,
   "id": "49",
   "metadata": {
    "papermill": {
     "duration": 1.660788,
     "end_time": "2024-09-08T19:45:10.707035",
     "exception": false,
     "start_time": "2024-09-08T19:45:09.046247",
     "status": "completed"
    },
    "tags": []
   },
   "outputs": [],
   "source": [
    "plot.box(full_df[[\"Release\", \"ATK\"]], color=plot.colors_dict[\"Effect Monster\"], notch=True)"
   ]
  },
  {
   "cell_type": "markdown",
   "id": "50",
   "metadata": {
    "papermill": {
     "duration": 0.230932,
     "end_time": "2024-09-08T19:45:11.178179",
     "exception": false,
     "start_time": "2024-09-08T19:45:10.947247",
     "status": "completed"
    },
    "tags": []
   },
   "source": [
    "### By DEF"
   ]
  },
  {
   "cell_type": "code",
   "execution_count": null,
   "id": "51",
   "metadata": {
    "papermill": {
     "duration": 2.134436,
     "end_time": "2024-09-08T19:45:13.543860",
     "exception": false,
     "start_time": "2024-09-08T19:45:11.409424",
     "status": "completed"
    },
    "tags": []
   },
   "outputs": [],
   "source": [
    "plot.box(full_df[[\"Release\", \"DEF\"]], color=plot.colors_dict[\"Effect Monster\"], notch=True)"
   ]
  },
  {
   "cell_type": "markdown",
   "id": "52",
   "metadata": {
    "papermill": {
     "duration": 0.230398,
     "end_time": "2024-09-08T19:45:14.015435",
     "exception": false,
     "start_time": "2024-09-08T19:45:13.785037",
     "status": "completed"
    },
    "tags": []
   },
   "source": [
    "### By pendulum scale"
   ]
  },
  {
   "cell_type": "code",
   "execution_count": null,
   "id": "53",
   "metadata": {
    "papermill": {
     "duration": 0.348362,
     "end_time": "2024-09-08T19:45:14.593488",
     "exception": false,
     "start_time": "2024-09-08T19:45:14.245126",
     "status": "completed"
    },
    "tags": []
   },
   "outputs": [],
   "source": [
    "plot.box(\n",
    "    full_df[[\"Release\", \"Pendulum Scale\"]],\n",
    "    color=plot.colors_dict[\"Pendulum Monster\"],\n",
    "    notch=True,\n",
    ")"
   ]
  },
  {
   "cell_type": "markdown",
   "id": "54",
   "metadata": {
    "papermill": {
     "duration": 0.229076,
     "end_time": "2024-09-08T19:45:15.062585",
     "exception": false,
     "start_time": "2024-09-08T19:45:14.833509",
     "status": "completed"
    },
    "tags": []
   },
   "source": [
    "### By link"
   ]
  },
  {
   "cell_type": "code",
   "execution_count": null,
   "id": "55",
   "metadata": {
    "papermill": {
     "duration": 0.333833,
     "end_time": "2024-09-08T19:45:15.625599",
     "exception": false,
     "start_time": "2024-09-08T19:45:15.291766",
     "status": "completed"
    },
    "tags": []
   },
   "outputs": [],
   "source": [
    "plot.box(full_df[[\"Release\", \"Link\"]], color=plot.colors_dict[\"Link Monster\"])"
   ]
  },
  {
   "cell_type": "markdown",
   "id": "56",
   "metadata": {
    "papermill": {
     "duration": 0.231194,
     "end_time": "2024-09-08T19:45:16.100228",
     "exception": false,
     "start_time": "2024-09-08T19:45:15.869034",
     "status": "completed"
    },
    "tags": []
   },
   "source": [
    "# Debug"
   ]
  },
  {
   "cell_type": "markdown",
   "id": "57",
   "metadata": {
    "papermill": {
     "duration": 0.22715,
     "end_time": "2024-09-08T19:45:16.556261",
     "exception": false,
     "start_time": "2024-09-08T19:45:16.329111",
     "status": "completed"
    },
    "tags": []
   },
   "source": [
    "## Merge failed"
   ]
  },
  {
   "cell_type": "code",
   "execution_count": null,
   "id": "58",
   "metadata": {
    "papermill": {
     "duration": 0.261784,
     "end_time": "2024-09-08T19:45:17.052363",
     "exception": false,
     "start_time": "2024-09-08T19:45:16.790579",
     "status": "completed"
    },
    "tags": []
   },
   "outputs": [],
   "source": [
    "all_cards_df.where(~all_cards_df[\"Name\"].isin(full_df[\"Name\"])).dropna(how=\"all\")"
   ]
  },
  {
   "cell_type": "code",
   "execution_count": null,
   "id": "59",
   "metadata": {
    "papermill": {
     "duration": 0.431804,
     "end_time": "2024-09-08T19:45:17.729049",
     "exception": false,
     "start_time": "2024-09-08T19:45:17.297245",
     "status": "completed"
    },
    "tags": []
   },
   "outputs": [],
   "source": [
    "set_lists_df.where(\n",
    "    (~set_lists_df[\"Card number\"].isin(full_df[\"Card number\"]))\n",
    "    & (~set_lists_df[\"Card number\"].dropna().str.startswith(\"RD/\"))\n",
    ").dropna(how=\"all\")"
   ]
  },
  {
   "cell_type": "markdown",
   "id": "60",
   "metadata": {
    "papermill": {
     "duration": 0.233168,
     "end_time": "2024-09-08T19:45:18.202728",
     "exception": false,
     "start_time": "2024-09-08T19:45:17.969560",
     "status": "completed"
    },
    "tags": []
   },
   "source": [
    " # Epilogue"
   ]
  },
  {
   "cell_type": "code",
   "execution_count": null,
   "id": "61",
   "metadata": {
    "papermill": {
     "duration": 0.372959,
     "end_time": "2024-09-08T19:45:18.811730",
     "exception": false,
     "start_time": "2024-09-08T19:45:18.438771",
     "status": "completed"
    },
    "tags": []
   },
   "outputs": [],
   "source": [
    "benchmark(report=\"timeline\", timestamp=timestamp)"
   ]
  },
  {
   "cell_type": "code",
   "execution_count": null,
   "id": "62",
   "metadata": {
    "papermill": {
     "duration": 0.239084,
     "end_time": "2024-09-08T19:45:19.286076",
     "exception": false,
     "start_time": "2024-09-08T19:45:19.046992",
     "status": "completed"
    },
    "tags": []
   },
   "outputs": [],
   "source": [
    "footer()"
   ]
  },
  {
   "cell_type": "markdown",
   "id": "63",
   "metadata": {
    "papermill": {
     "duration": 0.236856,
     "end_time": "2024-09-08T19:45:19.758075",
     "exception": false,
     "start_time": "2024-09-08T19:45:19.521219",
     "status": "completed"
    },
    "tags": []
   },
   "source": [
    "## HTML export"
   ]
  },
  {
   "cell_type": "code",
   "execution_count": null,
   "id": "64",
   "metadata": {
    "papermill": {
     "duration": 0.239378,
     "end_time": "2024-09-08T19:45:20.233457",
     "exception": false,
     "start_time": "2024-09-08T19:45:19.994079",
     "status": "completed"
    },
    "tags": []
   },
   "outputs": [],
   "source": [
    "# May need to sleep for a few seconds after saving\n",
    "save_notebook()"
   ]
  },
  {
   "cell_type": "code",
   "execution_count": null,
   "id": "65",
   "metadata": {
    "papermill": {
     "duration": 1.093491,
     "end_time": "2024-09-08T19:45:21.555773",
     "exception": false,
     "start_time": "2024-09-08T19:45:20.462282",
     "status": "completed"
    },
    "tags": []
   },
   "outputs": [],
   "source": [
    "export_notebook(dirs.NOTEBOOKS.user / \"Timeline.ipynb\")"
   ]
  },
  {
   "cell_type": "markdown",
   "id": "66",
   "metadata": {
    "papermill": {
     "duration": 0.230022,
     "end_time": "2024-09-08T19:45:22.024880",
     "exception": false,
     "start_time": "2024-09-08T19:45:21.794858",
     "status": "completed"
    },
    "tags": [
     "exclude"
    ]
   },
   "source": [
    "## Git"
   ]
  },
  {
   "cell_type": "code",
   "execution_count": null,
   "id": "67",
   "metadata": {
    "papermill": {
     "duration": 1.194122,
     "end_time": "2024-09-08T19:45:23.452795",
     "exception": false,
     "start_time": "2024-09-08T19:45:22.258673",
     "status": "completed"
    },
    "tags": []
   },
   "outputs": [],
   "source": [
    "git.commit(\"*[Tt]imeline*\", f\"Timeline update - {timestamp.isoformat()}\")"
   ]
  }
 ],
 "metadata": {
  "kernelspec": {
   "display_name": "Python 3 (ipykernel)",
   "language": "python",
   "name": "python3"
  },
  "language_info": {
   "codemirror_mode": {
    "name": "ipython",
    "version": 3
   },
   "file_extension": ".py",
   "mimetype": "text/x-python",
   "name": "python",
   "nbconvert_exporter": "python",
   "pygments_lexer": "ipython3",
   "version": "3.12.6"
  },
  "papermill": {
   "default_parameters": {},
   "duration": 75.973324,
   "end_time": "2024-09-08T19:45:24.204400",
   "environment_variables": {},
   "exception": null,
   "input_path": "/Users/Guigoruiz1/Documents/Python/Yugiquery/notebooks/Timeline.ipynb",
   "output_path": "/Users/Guigoruiz1/Documents/Python/Yugiquery/notebooks/Timeline.ipynb",
   "parameters": {},
   "start_time": "2024-09-08T19:44:08.231076",
   "version": "2.6.0"
  },
  "toc": {
   "base_numbering": 1,
   "nav_menu": {},
   "number_sections": true,
   "sideBar": true,
   "skip_h1_title": false,
   "title_cell": "Table of Contents",
   "title_sidebar": "Contents",
   "toc_cell": true,
   "toc_position": {},
   "toc_section_display": true,
   "toc_window_display": true
  }
 },
 "nbformat": 4,
 "nbformat_minor": 5
}
