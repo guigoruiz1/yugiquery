{
 "cells": [
  {
   "cell_type": "code",
   "execution_count": null,
   "id": "0",
   "metadata": {
    "papermill": {
     "duration": 0.020183,
     "end_time": "2024-10-24T15:24:21.657772",
     "exception": false,
     "start_time": "2024-10-24T15:24:21.637589",
     "status": "completed"
    },
    "tags": []
   },
   "outputs": [],
   "source": [
    "from yugiquery import *\n",
    "\n",
    "init_notebook_mode(all_interactive=True)\n",
    "\n",
    "header(\"Timeline\")"
   ]
  },
  {
   "cell_type": "markdown",
   "id": "1",
   "metadata": {
    "papermill": {
     "duration": 0.007254,
     "end_time": "2024-10-24T15:24:21.673265",
     "exception": false,
     "start_time": "2024-10-24T15:24:21.666011",
     "status": "completed"
    },
    "tags": []
   },
   "source": [
    "---"
   ]
  },
  {
   "cell_type": "markdown",
   "id": "2",
   "metadata": {
    "papermill": {
     "duration": 0.007168,
     "end_time": "2024-10-24T15:24:21.687725",
     "exception": false,
     "start_time": "2024-10-24T15:24:21.680557",
     "status": "completed"
    },
    "tags": []
   },
   "source": [
    "Table of Contents <a class=\"jp-toc-ignore\"></a>\n",
    "=================\n",
    "* [1 Data preparation](#data-preparation)\n",
    "  * [1.1 Load data](#load-data)\n",
    "  * [1.2 Format data](#format-data)\n",
    "  * [1.3 Merge data](#merge-data)\n",
    "* [2 Data visualization](#data-visualization)\n",
    "  * [2.1 First releases](#first-releases)\n",
    "    * [2.1.1 By region](#by-region)\n",
    "  * [2.2 Last releases](#last-releases)\n",
    "    * [2.2.1 By region](#by-region)\n",
    "  * [2.3 All Releases](#all-releases)\n",
    "    * [2.3.1 By card type](#by-card-type)\n",
    "    * [2.3.2 By primary type](#by-primary-type)\n",
    "    * [2.3.3 By secondary type](#by-secondary-type)\n",
    "    * [2.3.4 By attribute](#by-attribute)\n",
    "    * [2.3.5 By monster type](#by-monster-type)\n",
    "    * [2.3.6 By Level/Rank](#by-level/rank)\n",
    "    * [2.3.7 By ATK](#by-atk)\n",
    "    * [2.3.8 By DEF](#by-def)\n",
    "    * [2.3.9 By pendulum scale](#by-pendulum-scale)\n",
    "    * [2.3.10 By link](#by-link)\n",
    "* [3 Debug](#debug)\n",
    "  * [3.1 Merge failed](#merge-failed)\n",
    "  * [3.2 HTML export](#html-export)\n",
    "  <!-- * [3.3 Git](#git) -->"
   ]
  },
  {
   "cell_type": "markdown",
   "id": "3",
   "metadata": {
    "papermill": {
     "duration": 0.007139,
     "end_time": "2024-10-24T15:24:21.702454",
     "exception": false,
     "start_time": "2024-10-24T15:24:21.695315",
     "status": "completed"
    },
    "tags": []
   },
   "source": [
    "# Data preparation"
   ]
  },
  {
   "cell_type": "code",
   "execution_count": null,
   "id": "4",
   "metadata": {
    "papermill": {
     "duration": 0.009707,
     "end_time": "2024-10-24T15:24:21.718556",
     "exception": false,
     "start_time": "2024-10-24T15:24:21.708849",
     "status": "completed"
    },
    "tags": []
   },
   "outputs": [],
   "source": [
    "timestamp = arrow.utcnow()"
   ]
  },
  {
   "cell_type": "markdown",
   "id": "5",
   "metadata": {
    "papermill": {
     "duration": 0.00752,
     "end_time": "2024-10-24T15:24:21.732775",
     "exception": false,
     "start_time": "2024-10-24T15:24:21.725255",
     "status": "completed"
    },
    "tags": []
   },
   "source": [
    "## Load data"
   ]
  },
  {
   "cell_type": "code",
   "execution_count": null,
   "id": "6",
   "metadata": {
    "papermill": {
     "duration": 0.019152,
     "end_time": "2024-10-24T15:24:21.759548",
     "exception": false,
     "start_time": "2024-10-24T15:24:21.740396",
     "status": "completed"
    },
    "tags": []
   },
   "outputs": [],
   "source": [
    "# Load list of important dates\n",
    "with open(dirs.get_asset(\"json\", \"dates.json\"), \"r\") as f:\n",
    "    dates_json = json.load(f)\n",
    "    anime_df = pd.DataFrame(dates_json[\"anime\"][\"series\"]).set_index(\"title\").map(pd.to_datetime, dayfirst=True)\n",
    "    rules_df = (\n",
    "        pd.DataFrame(dates_json[\"rules\"]).set_index(\"title\").map(pd.to_datetime, dayfirst=True).iloc[2:]\n",
    "    )  # Ignore old rules"
   ]
  },
  {
   "cell_type": "code",
   "execution_count": null,
   "id": "7",
   "metadata": {
    "papermill": {
     "duration": 3.189332,
     "end_time": "2024-10-24T15:24:24.956488",
     "exception": false,
     "start_time": "2024-10-24T15:24:21.767156",
     "status": "completed"
    },
    "tags": []
   },
   "outputs": [],
   "source": [
    "# Get latest file if exist\n",
    "all_cards_df, _ = load_latest_data(\"cards\")\n",
    "all_speed_df, _ = load_latest_data(\"speed\")\n",
    "set_lists_df, _ = load_latest_data(\"sets\")"
   ]
  },
  {
   "cell_type": "markdown",
   "id": "8",
   "metadata": {
    "papermill": {
     "duration": 0.006963,
     "end_time": "2024-10-24T15:24:24.971678",
     "exception": false,
     "start_time": "2024-10-24T15:24:24.964715",
     "status": "completed"
    },
    "tags": []
   },
   "source": [
    "## Format data"
   ]
  },
  {
   "cell_type": "code",
   "execution_count": null,
   "id": "9",
   "metadata": {
    "papermill": {
     "duration": 0.058267,
     "end_time": "2024-10-24T15:24:25.036590",
     "exception": false,
     "start_time": "2024-10-24T15:24:24.978323",
     "status": "completed"
    },
    "tags": []
   },
   "outputs": [],
   "source": [
    "df_list = [all_cards_df, all_speed_df, set_lists_df]\n",
    "if all(item is not None for item in df_list):\n",
    "    for df in df_list:\n",
    "        df[\"index\"] = df[\"Name\"].str.lower().str.replace(\"#\", \"\")\n",
    "\n",
    "else:\n",
    "    raise SystemExit(\"Not enough files to proceed. Aborting!\")"
   ]
  },
  {
   "cell_type": "markdown",
   "id": "10",
   "metadata": {
    "papermill": {
     "duration": 0.007161,
     "end_time": "2024-10-24T15:24:25.051278",
     "exception": false,
     "start_time": "2024-10-24T15:24:25.044117",
     "status": "completed"
    },
    "tags": []
   },
   "source": [
    "## Merge data"
   ]
  },
  {
   "cell_type": "code",
   "execution_count": null,
   "id": "11",
   "metadata": {
    "papermill": {
     "duration": 1.114673,
     "end_time": "2024-10-24T15:24:26.172856",
     "exception": false,
     "start_time": "2024-10-24T15:24:25.058183",
     "status": "completed"
    },
    "tags": []
   },
   "outputs": [],
   "source": [
    "full_df = pd.concat([all_cards_df, all_speed_df]).drop_duplicates(ignore_index=True)\n",
    "full_df = full_df.merge(set_lists_df, how=\"inner\", on=\"index\")\n",
    "full_df = full_df.convert_dtypes()\n",
    "full_df[\"Modification date\"] = full_df[[\"Modification date_x\", \"Modification date_y\"]].max(axis=1)\n",
    "full_df[\"Name\"] = full_df[\"Name_x\"].fillna(full_df[\"Name_y\"])\n",
    "full_df.drop(\n",
    "    [\"index\", \"Name_x\", \"Name_y\", \"Modification date_x\", \"Modification date_y\"],\n",
    "    axis=1,\n",
    "    inplace=True,\n",
    ")\n",
    "full_df.rename(columns={\"Page URL_x\": \"Card page URL\", \"Page URL_y\": \"Set page URL\"}, inplace=True)\n",
    "full_df = full_df[np.append(full_df.columns[-1:], full_df.columns[:-1])]"
   ]
  },
  {
   "cell_type": "markdown",
   "id": "12",
   "metadata": {
    "papermill": {
     "duration": 0.00945,
     "end_time": "2024-10-24T15:24:26.192770",
     "exception": false,
     "start_time": "2024-10-24T15:24:26.183320",
     "status": "completed"
    },
    "tags": []
   },
   "source": [
    "# Data visualization"
   ]
  },
  {
   "cell_type": "code",
   "execution_count": null,
   "id": "13",
   "metadata": {
    "papermill": {
     "duration": 0.062088,
     "end_time": "2024-10-24T15:24:26.269122",
     "exception": false,
     "start_time": "2024-10-24T15:24:26.207034",
     "status": "completed"
    },
    "tags": []
   },
   "outputs": [],
   "source": [
    "full_df"
   ]
  },
  {
   "cell_type": "markdown",
   "id": "14",
   "metadata": {},
   "source": [
    "## Total"
   ]
  },
  {
   "cell_type": "markdown",
   "id": "15",
   "metadata": {},
   "source": [
    "### Debut"
   ]
  },
  {
   "cell_type": "code",
   "execution_count": null,
   "id": "16",
   "metadata": {},
   "outputs": [],
   "source": [
    "debut_df = full_df.groupby(\"Name\")[full_df.filter(regex=\"(?i)(debut)\").columns].min()\n",
    "debut_df"
   ]
  },
  {
   "cell_type": "code",
   "execution_count": null,
   "id": "17",
   "metadata": {},
   "outputs": [],
   "source": [
    "debut_counts = debut_df.min(axis=1).rename(\"Debut\").value_counts(sort=False).sort_index().to_frame(name=\"All formats\")\n",
    "_ = plot.rate(debut_counts, bg=anime_df, vlines=rules_df[\"begin\"])\n",
    "plt.show()"
   ]
  },
  {
   "cell_type": "markdown",
   "id": "18",
   "metadata": {},
   "source": [
    "#### By format"
   ]
  },
  {
   "cell_type": "code",
   "execution_count": null,
   "id": "19",
   "metadata": {},
   "outputs": [],
   "source": [
    "format_debut_counts = debut_df.melt(var_name=\"Format\", value_name=\"Debut\").value_counts().unstack(0).sort_index()\n",
    "_ = plot.rate(format_debut_counts, bg=anime_df, vlines=rules_df[\"begin\"], subplots=True)\n",
    "plt.show()"
   ]
  },
  {
   "cell_type": "markdown",
   "id": "20",
   "metadata": {},
   "source": [
    "### All releases"
   ]
  },
  {
   "cell_type": "markdown",
   "id": "21",
   "metadata": {},
   "source": [
    "Obs: All releases includes reprints"
   ]
  },
  {
   "cell_type": "code",
   "execution_count": null,
   "id": "22",
   "metadata": {},
   "outputs": [],
   "source": [
    "all_releases = full_df[\"Release\"][full_df[\"Release\"].notna()].value_counts().sort_index().to_frame()\n",
    "all_releases.index.name = \"All releases\"\n",
    "_ = plot.rate(all_releases, bg=anime_df, vlines=rules_df[\"begin\"])\n",
    "plt.show()"
   ]
  },
  {
   "cell_type": "markdown",
   "id": "23",
   "metadata": {},
   "source": [
    "### Last release"
   ]
  },
  {
   "cell_type": "markdown",
   "id": "24",
   "metadata": {},
   "source": [
    "Obs: Only the last release of an individual card name"
   ]
  },
  {
   "cell_type": "code",
   "execution_count": null,
   "id": "25",
   "metadata": {},
   "outputs": [],
   "source": [
    "last_release = full_df[full_df[\"Release\"].notna()].groupby(\"Name\")[\"Release\"].agg(\"max\")\n",
    "last_release.to_frame(name=\"Last release\")"
   ]
  },
  {
   "cell_type": "code",
   "execution_count": null,
   "id": "26",
   "metadata": {},
   "outputs": [],
   "source": [
    "last_release_count = last_release.sort_values().value_counts(sort=False).to_frame(name=\"All cards\")\n",
    "last_release_count.index.name = \"Last Release\"\n",
    "_ = plot.rate(last_release_count, bg=anime_df, vlines=rules_df[\"begin\"], limit_year=True)\n",
    "plt.show()"
   ]
  },
  {
   "cell_type": "markdown",
   "id": "27",
   "metadata": {},
   "source": [
    "## Regions"
   ]
  },
  {
   "cell_type": "markdown",
   "id": "28",
   "metadata": {},
   "source": [
    "### Debut"
   ]
  },
  {
   "cell_type": "code",
   "execution_count": null,
   "id": "29",
   "metadata": {},
   "outputs": [],
   "source": [
    "first_release_region = full_df[full_df[\"Release\"].notna()].groupby([\"Region\", \"Name\"])[\"Release\"].agg(\"min\")\n",
    "first_release_region.to_frame(name=\"First release\").unstack(0)"
   ]
  },
  {
   "cell_type": "code",
   "execution_count": null,
   "id": "30",
   "metadata": {},
   "outputs": [],
   "source": [
    "first_release_region_count = (\n",
    "    first_release_region.sort_values().groupby([\"Region\"]).value_counts(sort=False).unstack(0).fillna(0).round(0)\n",
    ")\n",
    "first_release_region_count.index.name = \"Release\"\n",
    "_ = plot.rate(\n",
    "    first_release_region_count,\n",
    "    title=\"First Release\",\n",
    "    bg=anime_df,\n",
    "    vlines=rules_df[\"begin\"],\n",
    "    subplots=True,\n",
    ")\n",
    "plt.show()"
   ]
  },
  {
   "cell_type": "markdown",
   "id": "31",
   "metadata": {},
   "source": [
    "### All releases"
   ]
  },
  {
   "cell_type": "markdown",
   "id": "32",
   "metadata": {},
   "source": [
    "### Last release"
   ]
  },
  {
   "cell_type": "code",
   "execution_count": null,
   "id": "33",
   "metadata": {},
   "outputs": [],
   "source": [
    "last_release_region = full_df[full_df[\"Release\"].notna()].groupby([\"Region\", \"Name\"])[\"Release\"].agg(\"max\")\n",
    "last_release_region.to_frame(name=\"Last release\").unstack(0)"
   ]
  },
  {
   "cell_type": "code",
   "execution_count": null,
   "id": "34",
   "metadata": {},
   "outputs": [],
   "source": [
    "last_release_region_count = (\n",
    "    last_release_region.sort_values().groupby([\"Region\"]).value_counts(sort=False).unstack(0).fillna(0).round(0)\n",
    ")\n",
    "last_release_region_count.index.name = \"Release\"\n",
    "_ = plot.rate(last_release_region_count, title=\"Last Release\", bg=anime_df, vlines=rules_df[\"begin\"], subplots=True)\n",
    "plt.show()"
   ]
  },
  {
   "cell_type": "markdown",
   "id": "35",
   "metadata": {},
   "source": [
    "## Card type"
   ]
  },
  {
   "cell_type": "markdown",
   "id": "36",
   "metadata": {},
   "source": [
    "### Debut"
   ]
  },
  {
   "cell_type": "markdown",
   "id": "37",
   "metadata": {},
   "source": [
    "### All releases"
   ]
  },
  {
   "cell_type": "code",
   "execution_count": null,
   "id": "38",
   "metadata": {},
   "outputs": [],
   "source": [
    "# All releases, includes reprints - Double check\n",
    "release_card_type = full_df.groupby([\"Card type\", \"Release\"])[\"Name\"].nunique().unstack(0).sort_index().fillna(0).astype(int)\n",
    "release_card_type.groupby(release_card_type.index.strftime(\"%Y\")).sum().T"
   ]
  },
  {
   "cell_type": "code",
   "execution_count": null,
   "id": "39",
   "metadata": {},
   "outputs": [],
   "source": [
    "release_card_type_plot = release_card_type[[\"Monster Card\", \"Spell Card\", \"Trap Card\", \"Skill Card\"]]\n",
    "card_type_colors = [plot.colors_dict[col] for col in release_card_type_plot.columns]\n",
    "_ = plot.rate(release_card_type_plot, colors=card_type_colors, bg=anime_df, vlines=rules_df[\"begin\"])\n",
    "plt.show()"
   ]
  },
  {
   "cell_type": "markdown",
   "id": "40",
   "metadata": {},
   "source": [
    "### Last release"
   ]
  },
  {
   "cell_type": "markdown",
   "id": "41",
   "metadata": {},
   "source": [
    "## Primary type"
   ]
  },
  {
   "cell_type": "markdown",
   "id": "42",
   "metadata": {},
   "source": [
    "### Debut"
   ]
  },
  {
   "cell_type": "markdown",
   "id": "43",
   "metadata": {},
   "source": [
    "### All releases"
   ]
  },
  {
   "cell_type": "code",
   "execution_count": null,
   "id": "44",
   "metadata": {},
   "outputs": [],
   "source": [
    "# All releases, includes reprints - Double check\n",
    "# Sort properly\n",
    "release_primary_type = (\n",
    "    full_df.groupby([\"Primary type\", \"Release\"])[\"Name\"].nunique().unstack(0).sort_index().fillna(0).astype(int)\n",
    ")\n",
    "release_primary_type.groupby(release_primary_type.index.strftime(\"%Y\")).sum().T"
   ]
  },
  {
   "cell_type": "code",
   "execution_count": null,
   "id": "45",
   "metadata": {},
   "outputs": [],
   "source": [
    "primary_type_colors = [plot.colors_dict[col] for col in release_primary_type.columns]\n",
    "_ = plot.rate(\n",
    "    release_primary_type,\n",
    "    colors=primary_type_colors,\n",
    "    bg=anime_df,\n",
    "    vlines=rules_df[\"begin\"],\n",
    ")\n",
    "plt.show()"
   ]
  },
  {
   "cell_type": "markdown",
   "id": "46",
   "metadata": {},
   "source": [
    "### Last release"
   ]
  },
  {
   "cell_type": "markdown",
   "id": "47",
   "metadata": {},
   "source": [
    "## Secondary type"
   ]
  },
  {
   "cell_type": "markdown",
   "id": "48",
   "metadata": {},
   "source": [
    "### Debut"
   ]
  },
  {
   "cell_type": "markdown",
   "id": "49",
   "metadata": {},
   "source": [
    "### All releases"
   ]
  },
  {
   "cell_type": "code",
   "execution_count": null,
   "id": "50",
   "metadata": {},
   "outputs": [],
   "source": [
    "# All releases, includes reprints - Double check\n",
    "# Sort properly\n",
    "release_secondary_type = (\n",
    "    full_df.explode(\"Secondary type\")\n",
    "    .groupby([\"Secondary type\", \"Release\"])[\"Name\"]\n",
    "    .nunique()\n",
    "    .unstack(0)\n",
    "    .sort_index()\n",
    "    .fillna(0)\n",
    "    .astype(int)\n",
    ")\n",
    "release_secondary_type.groupby(release_secondary_type.index.strftime(\"%Y\")).sum().T"
   ]
  },
  {
   "cell_type": "code",
   "execution_count": null,
   "id": "51",
   "metadata": {},
   "outputs": [],
   "source": [
    "_ = plot.rate(release_secondary_type, bg=anime_df, vlines=rules_df[\"begin\"])\n",
    "plt.show()"
   ]
  },
  {
   "cell_type": "markdown",
   "id": "52",
   "metadata": {},
   "source": [
    "### Last release"
   ]
  },
  {
   "cell_type": "markdown",
   "id": "53",
   "metadata": {},
   "source": [
    "## Attribute"
   ]
  },
  {
   "cell_type": "markdown",
   "id": "54",
   "metadata": {},
   "source": [
    "### Debut"
   ]
  },
  {
   "cell_type": "markdown",
   "id": "55",
   "metadata": {},
   "source": [
    "### All releases"
   ]
  },
  {
   "cell_type": "code",
   "execution_count": null,
   "id": "56",
   "metadata": {},
   "outputs": [],
   "source": [
    "# All releases, includes reprints - Double check\n",
    "# Sort properly\n",
    "release_attribute = full_df.groupby([\"Attribute\", \"Release\"])[\"Name\"].nunique().unstack(0).sort_index().fillna(0).astype(int)\n",
    "release_attribute.groupby(release_attribute.index.strftime(\"%Y\")).sum().T"
   ]
  },
  {
   "cell_type": "code",
   "execution_count": null,
   "id": "57",
   "metadata": {},
   "outputs": [],
   "source": [
    "attribute_colors = [plot.colors_dict[col] for col in release_attribute.columns]\n",
    "_ = plot.rate(\n",
    "    release_attribute, colors=attribute_colors, bg=anime_df, vlines=rules_df[\"begin\"], cumsum=True, limit_year=True\n",
    ")\n",
    "plt.show()"
   ]
  },
  {
   "cell_type": "markdown",
   "id": "58",
   "metadata": {},
   "source": [
    "### Last release"
   ]
  },
  {
   "cell_type": "markdown",
   "id": "59",
   "metadata": {},
   "source": [
    "## Monster type"
   ]
  },
  {
   "cell_type": "markdown",
   "id": "60",
   "metadata": {},
   "source": [
    "### Debut"
   ]
  },
  {
   "cell_type": "markdown",
   "id": "61",
   "metadata": {},
   "source": [
    "### All releases"
   ]
  },
  {
   "cell_type": "code",
   "execution_count": null,
   "id": "62",
   "metadata": {},
   "outputs": [],
   "source": [
    "# All releases, includes reprints - Double check\n",
    "# Sort properly\n",
    "release_monster_type = (\n",
    "    full_df.groupby([\"Monster type\", \"Release\"])[\"Name\"].nunique().unstack(0).sort_index().fillna(0).astype(int)\n",
    ")\n",
    "release_monster_type.groupby(release_monster_type.index.strftime(\"%Y\")).sum().T"
   ]
  },
  {
   "cell_type": "code",
   "execution_count": null,
   "id": "63",
   "metadata": {},
   "outputs": [],
   "source": [
    "_ = plot.rate(release_monster_type, bg=anime_df, vlines=rules_df[\"begin\"], subplots=True)\n",
    "plt.show()"
   ]
  },
  {
   "cell_type": "markdown",
   "id": "64",
   "metadata": {},
   "source": [
    "### Last release"
   ]
  },
  {
   "cell_type": "markdown",
   "id": "65",
   "metadata": {},
   "source": [
    "## Level/Rank"
   ]
  },
  {
   "cell_type": "markdown",
   "id": "66",
   "metadata": {},
   "source": [
    "### Debut"
   ]
  },
  {
   "cell_type": "markdown",
   "id": "67",
   "metadata": {},
   "source": [
    "### All releases"
   ]
  },
  {
   "cell_type": "code",
   "execution_count": null,
   "id": "68",
   "metadata": {},
   "outputs": [],
   "source": [
    "_ = plot.box(\n",
    "    full_df[(full_df[\"Card type\"] != \"Non-game card\") & (full_df[\"Primary type\"] != \"Link Monster\")][\n",
    "        [\"Release\", \"Level/Rank/Link\"]\n",
    "    ],\n",
    "    color=plot.colors_dict[\"Level\"],\n",
    "    notch=True,\n",
    ")\n",
    "plt.show()"
   ]
  },
  {
   "cell_type": "markdown",
   "id": "69",
   "metadata": {},
   "source": [
    "### Last release"
   ]
  },
  {
   "cell_type": "markdown",
   "id": "70",
   "metadata": {},
   "source": [
    "## Pendulum scale"
   ]
  },
  {
   "cell_type": "markdown",
   "id": "71",
   "metadata": {},
   "source": [
    "### Debut"
   ]
  },
  {
   "cell_type": "markdown",
   "id": "72",
   "metadata": {},
   "source": [
    "### All releases"
   ]
  },
  {
   "cell_type": "code",
   "execution_count": null,
   "id": "73",
   "metadata": {},
   "outputs": [],
   "source": [
    "_ = plot.box(\n",
    "    full_df[full_df[\"Card type\"] != \"Non-game card\"][[\"Release\", \"Pendulum Scale\"]],\n",
    "    color=plot.colors_dict[\"Pendulum Monster\"],\n",
    "    notch=True,\n",
    ")\n",
    "plt.show()"
   ]
  },
  {
   "cell_type": "markdown",
   "id": "74",
   "metadata": {},
   "source": [
    "### Last release"
   ]
  },
  {
   "cell_type": "markdown",
   "id": "75",
   "metadata": {},
   "source": [
    "## Link"
   ]
  },
  {
   "cell_type": "markdown",
   "id": "76",
   "metadata": {},
   "source": [
    "### Debut"
   ]
  },
  {
   "cell_type": "markdown",
   "id": "77",
   "metadata": {},
   "source": [
    "### All releases"
   ]
  },
  {
   "cell_type": "code",
   "execution_count": null,
   "id": "78",
   "metadata": {},
   "outputs": [],
   "source": [
    "_ = plot.box(\n",
    "    full_df[(full_df[\"Card type\"] != \"Non-game card\") & (full_df[\"Primary type\"] != \"Link Monster\")][\n",
    "        [\"Release\", \"Level/Rank/Link\"]\n",
    "    ],\n",
    "    color=plot.colors_dict[\"Link Monster\"],\n",
    ")\n",
    "plt.show()"
   ]
  },
  {
   "cell_type": "markdown",
   "id": "79",
   "metadata": {},
   "source": [
    "### Last release"
   ]
  },
  {
   "cell_type": "markdown",
   "id": "80",
   "metadata": {},
   "source": [
    "# ATK"
   ]
  },
  {
   "cell_type": "markdown",
   "id": "81",
   "metadata": {},
   "source": [
    "### Debut"
   ]
  },
  {
   "cell_type": "markdown",
   "id": "82",
   "metadata": {},
   "source": [
    "### All releases"
   ]
  },
  {
   "cell_type": "code",
   "execution_count": null,
   "id": "83",
   "metadata": {},
   "outputs": [],
   "source": [
    "_ = plot.box(\n",
    "    full_df[full_df[\"Card type\"] != \"Non-game card\"][[\"Release\", \"ATK\"]],\n",
    "    color=plot.colors_dict[\"Effect Monster\"],\n",
    "    notch=True,\n",
    ")\n",
    "plt.show()"
   ]
  },
  {
   "cell_type": "markdown",
   "id": "84",
   "metadata": {},
   "source": [
    "### Last release"
   ]
  },
  {
   "cell_type": "markdown",
   "id": "85",
   "metadata": {},
   "source": [
    "# DEF"
   ]
  },
  {
   "cell_type": "markdown",
   "id": "86",
   "metadata": {},
   "source": [
    "### Debut"
   ]
  },
  {
   "cell_type": "markdown",
   "id": "87",
   "metadata": {},
   "source": [
    "### All releases"
   ]
  },
  {
   "cell_type": "code",
   "execution_count": null,
   "id": "88",
   "metadata": {},
   "outputs": [],
   "source": [
    "_ = plot.box(\n",
    "    full_df[full_df[\"Card type\"] != \"Non-game card\"][[\"Release\", \"DEF\"]],\n",
    "    color=plot.colors_dict[\"Effect Monster\"],\n",
    "    notch=True,\n",
    ")\n",
    "plt.show()"
   ]
  },
  {
   "cell_type": "markdown",
   "id": "89",
   "metadata": {},
   "source": [
    "### Last release"
   ]
  },
  {
   "cell_type": "markdown",
   "id": "90",
   "metadata": {
    "papermill": {
     "duration": 0.255482,
     "end_time": "2024-10-24T15:25:17.328060",
     "exception": false,
     "start_time": "2024-10-24T15:25:17.072578",
     "status": "completed"
    },
    "tags": []
   },
   "source": [
    "# Debug"
   ]
  },
  {
   "cell_type": "markdown",
   "id": "91",
   "metadata": {
    "papermill": {
     "duration": 0.415186,
     "end_time": "2024-10-24T15:25:18.168952",
     "exception": false,
     "start_time": "2024-10-24T15:25:17.753766",
     "status": "completed"
    },
    "tags": []
   },
   "source": [
    "## Merge failed"
   ]
  },
  {
   "cell_type": "markdown",
   "id": "92",
   "metadata": {
    "papermill": {
     "duration": 0.325389,
     "end_time": "2024-10-24T15:25:18.969282",
     "exception": false,
     "start_time": "2024-10-24T15:25:18.643893",
     "status": "completed"
    },
    "tags": []
   },
   "source": [
    "Names missing"
   ]
  },
  {
   "cell_type": "code",
   "execution_count": null,
   "id": "93",
   "metadata": {
    "papermill": {
     "duration": 0.739047,
     "end_time": "2024-10-24T15:25:20.068125",
     "exception": false,
     "start_time": "2024-10-24T15:25:19.329078",
     "status": "completed"
    },
    "tags": []
   },
   "outputs": [],
   "source": [
    "all_cards_df.where(~all_cards_df[\"Name\"].isin(full_df[\"Name\"])).dropna(how=\"all\")"
   ]
  },
  {
   "cell_type": "markdown",
   "id": "94",
   "metadata": {
    "papermill": {
     "duration": 0.251815,
     "end_time": "2024-10-24T15:25:20.649366",
     "exception": false,
     "start_time": "2024-10-24T15:25:20.397551",
     "status": "completed"
    },
    "tags": []
   },
   "source": [
    "Card number missing"
   ]
  },
  {
   "cell_type": "code",
   "execution_count": null,
   "id": "95",
   "metadata": {
    "papermill": {
     "duration": 1.012732,
     "end_time": "2024-10-24T15:25:22.111833",
     "exception": false,
     "start_time": "2024-10-24T15:25:21.099101",
     "status": "completed"
    },
    "tags": []
   },
   "outputs": [],
   "source": [
    "set_lists_df.where(\n",
    "    (~set_lists_df[\"Card number\"].isin(full_df[\"Card number\"]))\n",
    "    & (~set_lists_df[\"Card number\"].dropna().str.startswith(\"RD/\"))\n",
    ").dropna(how=\"all\")"
   ]
  },
  {
   "cell_type": "markdown",
   "id": "96",
   "metadata": {
    "papermill": {
     "duration": 0.229218,
     "end_time": "2024-10-24T15:25:22.530205",
     "exception": false,
     "start_time": "2024-10-24T15:25:22.300987",
     "status": "completed"
    },
    "tags": []
   },
   "source": [
    " # Epilogue"
   ]
  },
  {
   "cell_type": "code",
   "execution_count": null,
   "id": "97",
   "metadata": {
    "papermill": {
     "duration": 0.811421,
     "end_time": "2024-10-24T15:25:23.664313",
     "exception": false,
     "start_time": "2024-10-24T15:25:22.852892",
     "status": "completed"
    },
    "tags": []
   },
   "outputs": [],
   "source": [
    "benchmark(report=\"timeline\", timestamp=timestamp)"
   ]
  },
  {
   "cell_type": "code",
   "execution_count": null,
   "id": "98",
   "metadata": {
    "papermill": {
     "duration": 0.254061,
     "end_time": "2024-10-24T15:25:24.198058",
     "exception": false,
     "start_time": "2024-10-24T15:25:23.943997",
     "status": "completed"
    },
    "tags": []
   },
   "outputs": [],
   "source": [
    "footer()"
   ]
  },
  {
   "cell_type": "markdown",
   "id": "99",
   "metadata": {
    "papermill": {
     "duration": 0.488487,
     "end_time": "2024-10-24T15:25:24.971661",
     "exception": false,
     "start_time": "2024-10-24T15:25:24.483174",
     "status": "completed"
    },
    "tags": []
   },
   "source": [
    "## HTML export"
   ]
  },
  {
   "cell_type": "code",
   "execution_count": null,
   "id": "100",
   "metadata": {
    "papermill": {
     "duration": 0.337833,
     "end_time": "2024-10-24T15:25:25.811856",
     "exception": false,
     "start_time": "2024-10-24T15:25:25.474023",
     "status": "completed"
    },
    "tags": []
   },
   "outputs": [],
   "source": [
    "# May need to sleep for a few seconds after saving\n",
    "save_notebook()"
   ]
  },
  {
   "cell_type": "code",
   "execution_count": null,
   "id": "101",
   "metadata": {
    "papermill": {
     "duration": 1.356076,
     "end_time": "2024-10-24T15:25:27.676962",
     "exception": false,
     "start_time": "2024-10-24T15:25:26.320886",
     "status": "completed"
    },
    "tags": []
   },
   "outputs": [],
   "source": [
    "export_notebook(dirs.NOTEBOOKS.user / \"Timeline.ipynb\")"
   ]
  },
  {
   "cell_type": "markdown",
   "id": "102",
   "metadata": {
    "papermill": {
     "duration": 0.31173,
     "end_time": "2024-10-24T15:25:28.176988",
     "exception": false,
     "start_time": "2024-10-24T15:25:27.865258",
     "status": "completed"
    },
    "tags": [
     "exclude"
    ]
   },
   "source": [
    "## Git"
   ]
  },
  {
   "cell_type": "code",
   "execution_count": null,
   "id": "103",
   "metadata": {
    "papermill": {
     "duration": 1.892455,
     "end_time": "2024-10-24T15:25:30.589602",
     "exception": false,
     "start_time": "2024-10-24T15:25:28.697147",
     "status": "completed"
    },
    "tags": [
     "exclude"
    ]
   },
   "outputs": [],
   "source": [
    "git.commit(\"*[Tt]imeline*\", f\"Timeline update - {timestamp.isoformat()}\")"
   ]
  }
 ],
 "metadata": {
  "kernelspec": {
   "display_name": "venv",
   "language": "python",
   "name": "python3"
  },
  "language_info": {
   "codemirror_mode": {
    "name": "ipython",
    "version": 3
   },
   "file_extension": ".py",
   "mimetype": "text/x-python",
   "name": "python",
   "nbconvert_exporter": "python",
   "pygments_lexer": "ipython3",
   "version": "3.12.8"
  },
  "papermill": {
   "default_parameters": {},
   "duration": 72.841318,
   "end_time": "2024-10-24T15:25:32.563245",
   "environment_variables": {},
   "exception": null,
   "input_path": "/Users/Guigoruiz1/Documents/Python/Yugiquery/notebooks/Timeline.ipynb",
   "output_path": "/Users/Guigoruiz1/Documents/Python/Yugiquery/notebooks/Timeline.ipynb",
   "parameters": {},
   "start_time": "2024-10-24T15:24:19.721927",
   "version": "2.6.0"
  },
  "toc": {
   "base_numbering": 1,
   "nav_menu": {},
   "number_sections": true,
   "sideBar": true,
   "skip_h1_title": false,
   "title_cell": "Table of Contents",
   "title_sidebar": "Contents",
   "toc_cell": true,
   "toc_position": {},
   "toc_section_display": true,
   "toc_window_display": true
  }
 },
 "nbformat": 4,
 "nbformat_minor": 5
}
