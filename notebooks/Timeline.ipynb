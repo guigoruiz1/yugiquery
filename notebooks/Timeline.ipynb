{
 "cells": [
  {
   "cell_type": "code",
   "execution_count": null,
   "id": "0",
   "metadata": {
    "papermill": {
     "duration": 3.361678,
     "end_time": "2025-01-04T07:27:43.615422",
     "exception": false,
     "start_time": "2025-01-04T07:27:40.253744",
     "status": "completed"
    },
    "tags": []
   },
   "outputs": [],
   "source": [
    "from yugiquery import *\n",
    "\n",
    "init_notebook_mode(all_interactive=True)\n",
    "\n",
    "header(\"Timeline\")"
   ]
  },
  {
   "cell_type": "markdown",
   "id": "1",
   "metadata": {
    "papermill": {
     "duration": 0.546181,
     "end_time": "2025-01-04T07:27:44.762161",
     "exception": false,
     "start_time": "2025-01-04T07:27:44.215980",
     "status": "completed"
    },
    "tags": []
   },
   "source": [
    "---"
   ]
  },
  {
   "cell_type": "markdown",
   "id": "2",
   "metadata": {
    "papermill": {
     "duration": 0.121252,
     "end_time": "2025-01-04T07:27:45.432395",
     "exception": false,
     "start_time": "2025-01-04T07:27:45.311143",
     "status": "completed"
    },
    "tags": []
   },
   "source": [
    "Table of Contents <a class=\"jp-toc-ignore\"></a>\n",
    "=================\n",
    "* [1 Data preparation](#data-preparation)\n",
    "  * [1.1 Load data](#load-data)\n",
    "  * [1.2 Format data](#format-data)\n",
    "  * [1.3 Merge data](#merge-data)\n",
    "* [2 Data visualization](#data-visualization)\n",
    "  * [2.1 First releases](#first-releases)\n",
    "    * [2.1.1 By region](#by-region)\n",
    "  * [2.2 Last releases](#last-releases)\n",
    "    * [2.2.1 By region](#by-region)\n",
    "  * [2.3 All Releases](#all-releases)\n",
    "    * [2.3.1 By card type](#by-card-type)\n",
    "    * [2.3.2 By primary type](#by-primary-type)\n",
    "    * [2.3.3 By secondary type](#by-secondary-type)\n",
    "    * [2.3.4 By attribute](#by-attribute)\n",
    "    * [2.3.5 By monster type](#by-monster-type)\n",
    "    * [2.3.6 By Level/Rank](#by-level/rank)\n",
    "    * [2.3.7 By ATK](#by-atk)\n",
    "    * [2.3.8 By DEF](#by-def)\n",
    "    * [2.3.9 By pendulum scale](#by-pendulum-scale)\n",
    "    * [2.3.10 By link](#by-link)\n",
    "* [3 Debug](#debug)\n",
    "  * [3.1 Merge failed](#merge-failed)\n",
    "  * [3.2 HTML export](#html-export)\n",
    "  <!-- * [3.3 Git](#git) -->"
   ]
  },
  {
   "cell_type": "markdown",
   "id": "3",
   "metadata": {
    "papermill": {
     "duration": 0.125367,
     "end_time": "2025-01-04T07:27:45.823355",
     "exception": false,
     "start_time": "2025-01-04T07:27:45.697988",
     "status": "completed"
    },
    "tags": []
   },
   "source": [
    "# Data preparation"
   ]
  },
  {
   "cell_type": "code",
   "execution_count": null,
   "id": "4",
   "metadata": {
    "papermill": {
     "duration": 0.181792,
     "end_time": "2025-01-04T07:27:46.126310",
     "exception": false,
     "start_time": "2025-01-04T07:27:45.944518",
     "status": "completed"
    },
    "tags": []
   },
   "outputs": [],
   "source": [
    "timestamp = arrow.utcnow()"
   ]
  },
  {
   "cell_type": "markdown",
   "id": "5",
   "metadata": {
    "papermill": {
     "duration": 0.099883,
     "end_time": "2025-01-04T07:27:46.331146",
     "exception": false,
     "start_time": "2025-01-04T07:27:46.231263",
     "status": "completed"
    },
    "tags": []
   },
   "source": [
    "## Load data"
   ]
  },
  {
   "cell_type": "code",
   "execution_count": null,
   "id": "6",
   "metadata": {
    "papermill": {
     "duration": 0.550897,
     "end_time": "2025-01-04T07:27:47.361967",
     "exception": false,
     "start_time": "2025-01-04T07:27:46.811070",
     "status": "completed"
    },
    "tags": []
   },
   "outputs": [],
   "source": [
    "# Load list of important dates\n",
    "with open(dirs.get_asset(\"json\", \"dates.json\"), \"r\") as f:\n",
    "    dates_json = json.load(f)\n",
    "    anime_df = pd.DataFrame(dates_json[\"anime\"][\"series\"]).set_index(\"title\").map(pd.to_datetime, dayfirst=True)\n",
    "    rules_df = (\n",
    "        pd.DataFrame(dates_json[\"rules\"]).set_index(\"title\").map(pd.to_datetime, dayfirst=True).iloc[2:]\n",
    "    )  # Ignore old rules"
   ]
  },
  {
   "cell_type": "code",
   "execution_count": null,
   "id": "7",
   "metadata": {
    "papermill": {
     "duration": 14.905068,
     "end_time": "2025-01-04T07:28:02.363676",
     "exception": false,
     "start_time": "2025-01-04T07:27:47.458608",
     "status": "completed"
    },
    "tags": []
   },
   "outputs": [],
   "source": [
    "# Get latest file if exist\n",
    "all_cards_df, _ = load_latest_data(\"cards\")\n",
    "all_speed_df, _ = load_latest_data(\"speed\")\n",
    "set_lists_df, _ = load_latest_data(\"sets\")"
   ]
  },
  {
   "cell_type": "markdown",
   "id": "8",
   "metadata": {
    "papermill": {
     "duration": 0.207014,
     "end_time": "2025-01-04T07:28:02.647687",
     "exception": false,
     "start_time": "2025-01-04T07:28:02.440673",
     "status": "completed"
    },
    "tags": []
   },
   "source": [
    "## Format data"
   ]
  },
  {
   "cell_type": "code",
   "execution_count": null,
   "id": "9",
   "metadata": {
    "papermill": {
     "duration": 0.327941,
     "end_time": "2025-01-04T07:28:03.154099",
     "exception": false,
     "start_time": "2025-01-04T07:28:02.826158",
     "status": "completed"
    },
    "tags": []
   },
   "outputs": [],
   "source": [
    "df_list = [all_cards_df, all_speed_df, set_lists_df]\n",
    "if all(item is not None for item in df_list):\n",
    "    for df in df_list:\n",
    "        df[\"index\"] = df[\"Name\"].str.lower().str.replace(\"#\", \"\")\n",
    "\n",
    "else:\n",
    "    raise SystemExit(\"Not enough files to proceed. Aborting!\")"
   ]
  },
  {
   "cell_type": "markdown",
   "id": "10",
   "metadata": {
    "papermill": {
     "duration": 0.035518,
     "end_time": "2025-01-04T07:28:03.231702",
     "exception": false,
     "start_time": "2025-01-04T07:28:03.196184",
     "status": "completed"
    },
    "tags": []
   },
   "source": [
    "## Merge data"
   ]
  },
  {
   "cell_type": "code",
   "execution_count": null,
   "id": "11",
   "metadata": {
    "papermill": {
     "duration": 4.051719,
     "end_time": "2025-01-04T07:28:07.592227",
     "exception": false,
     "start_time": "2025-01-04T07:28:03.540508",
     "status": "completed"
    },
    "tags": []
   },
   "outputs": [],
   "source": [
    "full_df = pd.concat([all_cards_df, all_speed_df]).drop_duplicates(ignore_index=True)\n",
    "full_df = full_df.merge(set_lists_df, how=\"inner\", on=\"index\")\n",
    "full_df = full_df.convert_dtypes()\n",
    "full_df[\"Modification date\"] = full_df[[\"Modification date_x\", \"Modification date_y\"]].max(axis=1)\n",
    "full_df[\"Name\"] = full_df[\"Name_x\"].fillna(full_df[\"Name_y\"])\n",
    "full_df.drop(\n",
    "    [\"index\", \"Name_x\", \"Name_y\", \"Modification date_x\", \"Modification date_y\"],\n",
    "    axis=1,\n",
    "    inplace=True,\n",
    ")\n",
    "full_df.rename(columns={\"Page URL_x\": \"Card page URL\", \"Page URL_y\": \"Set page URL\"}, inplace=True)\n",
    "full_df = full_df[np.append(full_df.columns[-1:], full_df.columns[:-1])]"
   ]
  },
  {
   "cell_type": "markdown",
   "id": "12",
   "metadata": {
    "papermill": {
     "duration": 0.444509,
     "end_time": "2025-01-04T07:28:08.075391",
     "exception": false,
     "start_time": "2025-01-04T07:28:07.630882",
     "status": "completed"
    },
    "tags": []
   },
   "source": [
    "# Data visualization"
   ]
  },
  {
   "cell_type": "code",
   "execution_count": null,
   "id": "13",
   "metadata": {
    "papermill": {
     "duration": 0.48159,
     "end_time": "2025-01-04T07:28:08.903181",
     "exception": false,
     "start_time": "2025-01-04T07:28:08.421591",
     "status": "completed"
    },
    "tags": []
   },
   "outputs": [],
   "source": [
    "full_df"
   ]
  },
  {
   "cell_type": "markdown",
   "id": "14",
   "metadata": {
    "jp-MarkdownHeadingCollapsed": true,
    "papermill": {
     "duration": 0.281612,
     "end_time": "2025-01-04T07:28:09.285484",
     "exception": false,
     "start_time": "2025-01-04T07:28:09.003872",
     "status": "completed"
    },
    "tags": []
   },
   "source": [
    "## First releases"
   ]
  },
  {
   "cell_type": "markdown",
   "id": "15",
   "metadata": {
    "papermill": {
     "duration": 0.741303,
     "end_time": "2025-01-04T07:28:10.426030",
     "exception": false,
     "start_time": "2025-01-04T07:28:09.684727",
     "status": "completed"
    },
    "tags": []
   },
   "source": [
    "Obs: Only the first release of an individual card name"
   ]
  },
  {
   "cell_type": "code",
   "execution_count": null,
   "id": "16",
   "metadata": {
    "papermill": {
     "duration": 1.116677,
     "end_time": "2025-01-04T07:28:11.946376",
     "exception": false,
     "start_time": "2025-01-04T07:28:10.829699",
     "status": "completed"
    },
    "tags": []
   },
   "outputs": [],
   "source": [
    "first_release = full_df[full_df[\"Release\"].notna()].groupby(\"Name\")[\"Release\"].agg(\"min\")\n",
    "first_release.to_frame(name=\"First release\")"
   ]
  },
  {
   "cell_type": "code",
   "execution_count": null,
   "id": "17",
   "metadata": {
    "papermill": {
     "duration": 2.808577,
     "end_time": "2025-01-04T07:28:14.798443",
     "exception": false,
     "start_time": "2025-01-04T07:28:11.989866",
     "status": "completed"
    },
    "tags": []
   },
   "outputs": [],
   "source": [
    "first_release_count = first_release.sort_values().value_counts(sort=False).to_frame(name=\"All cards\")\n",
    "first_release_count.index.name = \"First Release\"\n",
    "_ = plot.rate(first_release_count, bg=anime_df, vlines=rules_df[\"begin\"])\n",
    "plt.show()"
   ]
  },
  {
   "cell_type": "markdown",
   "id": "18",
   "metadata": {
    "papermill": {
     "duration": 0.231148,
     "end_time": "2025-01-04T07:28:15.083984",
     "exception": false,
     "start_time": "2025-01-04T07:28:14.852836",
     "status": "completed"
    },
    "tags": []
   },
   "source": [
    "### By region"
   ]
  },
  {
   "cell_type": "code",
   "execution_count": null,
   "id": "19",
   "metadata": {
    "papermill": {
     "duration": 1.63358,
     "end_time": "2025-01-04T07:28:16.774807",
     "exception": false,
     "start_time": "2025-01-04T07:28:15.141227",
     "status": "completed"
    },
    "tags": []
   },
   "outputs": [],
   "source": [
    "first_release_region = full_df[full_df[\"Release\"].notna()].groupby([\"Region\", \"Name\"])[\"Release\"].agg(\"min\")\n",
    "first_release_region.to_frame(name=\"First release\")"
   ]
  },
  {
   "cell_type": "code",
   "execution_count": null,
   "id": "20",
   "metadata": {
    "papermill": {
     "duration": 37.188989,
     "end_time": "2025-01-04T07:28:54.112459",
     "exception": false,
     "start_time": "2025-01-04T07:28:16.923470",
     "status": "completed"
    },
    "tags": []
   },
   "outputs": [],
   "source": [
    "first_release_region_count = (\n",
    "    first_release_region.sort_values().groupby([\"Region\"]).value_counts(sort=False).unstack(0).fillna(0).round(0)\n",
    ")\n",
    "first_release_region_count.index.name = \"Release\"\n",
    "_ = plot.rate(\n",
    "    first_release_region_count,\n",
    "    title=\"First Release\",\n",
    "    bg=anime_df,\n",
    "    vlines=rules_df[\"begin\"],\n",
    "    subplots=True,\n",
    ")\n",
    "plt.show()"
   ]
  },
  {
   "cell_type": "markdown",
   "id": "21",
   "metadata": {
    "jp-MarkdownHeadingCollapsed": true,
    "papermill": {
     "duration": 0.177243,
     "end_time": "2025-01-04T07:28:54.585475",
     "exception": false,
     "start_time": "2025-01-04T07:28:54.408232",
     "status": "completed"
    },
    "tags": []
   },
   "source": [
    "## Last releases"
   ]
  },
  {
   "cell_type": "markdown",
   "id": "22",
   "metadata": {
    "papermill": {
     "duration": 0.173895,
     "end_time": "2025-01-04T07:28:54.958551",
     "exception": false,
     "start_time": "2025-01-04T07:28:54.784656",
     "status": "completed"
    },
    "tags": []
   },
   "source": [
    "Obs: Only the last release of an individual card name"
   ]
  },
  {
   "cell_type": "code",
   "execution_count": null,
   "id": "23",
   "metadata": {
    "papermill": {
     "duration": 1.605383,
     "end_time": "2025-01-04T07:28:57.230064",
     "exception": false,
     "start_time": "2025-01-04T07:28:55.624681",
     "status": "completed"
    },
    "tags": []
   },
   "outputs": [],
   "source": [
    "last_release = full_df[full_df[\"Release\"].notna()].groupby(\"Name\")[\"Release\"].agg(\"max\")\n",
    "last_release.to_frame(name=\"Last release\")"
   ]
  },
  {
   "cell_type": "code",
   "execution_count": null,
   "id": "24",
   "metadata": {
    "papermill": {
     "duration": 3.685119,
     "end_time": "2025-01-04T07:29:01.115747",
     "exception": false,
     "start_time": "2025-01-04T07:28:57.430628",
     "status": "completed"
    },
    "tags": []
   },
   "outputs": [],
   "source": [
    "last_release_count = last_release.sort_values().value_counts(sort=False).to_frame(name=\"All cards\")\n",
    "last_release_count.index.name = \"Last Release\"\n",
    "_ = plot.rate(last_release_count, bg=anime_df, vlines=rules_df[\"begin\"], limit_year=True)\n",
    "plt.show()"
   ]
  },
  {
   "cell_type": "markdown",
   "id": "25",
   "metadata": {
    "papermill": {
     "duration": 0.468455,
     "end_time": "2025-01-04T07:29:02.016101",
     "exception": false,
     "start_time": "2025-01-04T07:29:01.547646",
     "status": "completed"
    },
    "tags": []
   },
   "source": [
    "### By region"
   ]
  },
  {
   "cell_type": "code",
   "execution_count": null,
   "id": "26",
   "metadata": {
    "papermill": {
     "duration": 1.846087,
     "end_time": "2025-01-04T07:29:04.137341",
     "exception": false,
     "start_time": "2025-01-04T07:29:02.291254",
     "status": "completed"
    },
    "tags": []
   },
   "outputs": [],
   "source": [
    "last_release_region = full_df[full_df[\"Release\"].notna()].groupby([\"Region\", \"Name\"])[\"Release\"].agg(\"max\")\n",
    "last_release_region.to_frame(name=\"Last release\")"
   ]
  },
  {
   "cell_type": "code",
   "execution_count": null,
   "id": "27",
   "metadata": {
    "papermill": {
     "duration": 37.939101,
     "end_time": "2025-01-04T07:29:42.266303",
     "exception": false,
     "start_time": "2025-01-04T07:29:04.327202",
     "status": "completed"
    },
    "tags": []
   },
   "outputs": [],
   "source": [
    "last_release_region_count = (\n",
    "    last_release_region.sort_values().groupby([\"Region\"]).value_counts(sort=False).unstack(0).fillna(0).round(0)\n",
    ")\n",
    "last_release_region_count.index.name = \"Release\"\n",
    "_ = plot.rate(last_release_region_count, title=\"Last Release\", bg=anime_df, vlines=rules_df[\"begin\"], subplots=True)\n",
    "plt.show()"
   ]
  },
  {
   "cell_type": "markdown",
   "id": "28",
   "metadata": {
    "papermill": {
     "duration": 0.579343,
     "end_time": "2025-01-04T07:29:43.143091",
     "exception": false,
     "start_time": "2025-01-04T07:29:42.563748",
     "status": "completed"
    },
    "tags": []
   },
   "source": [
    "## All Releases"
   ]
  },
  {
   "cell_type": "markdown",
   "id": "29",
   "metadata": {
    "papermill": {
     "duration": 0.550139,
     "end_time": "2025-01-04T07:29:44.008462",
     "exception": false,
     "start_time": "2025-01-04T07:29:43.458323",
     "status": "completed"
    },
    "tags": []
   },
   "source": [
    "Obs: All releases includes reprints"
   ]
  },
  {
   "cell_type": "code",
   "execution_count": null,
   "id": "30",
   "metadata": {
    "papermill": {
     "duration": 5.432101,
     "end_time": "2025-01-04T07:29:49.803190",
     "exception": false,
     "start_time": "2025-01-04T07:29:44.371089",
     "status": "completed"
    },
    "tags": []
   },
   "outputs": [],
   "source": [
    "all_releases = full_df[\"Release\"][full_df[\"Release\"].notna()].value_counts().sort_index().to_frame()\n",
    "all_releases.index.name = \"All releases\"\n",
    "_ = plot.rate(all_releases, bg=anime_df, vlines=rules_df[\"begin\"])\n",
    "plt.show()"
   ]
  },
  {
   "cell_type": "markdown",
   "id": "31",
   "metadata": {
    "papermill": {
     "duration": 0.427216,
     "end_time": "2025-01-04T07:29:50.722001",
     "exception": false,
     "start_time": "2025-01-04T07:29:50.294785",
     "status": "completed"
    },
    "tags": []
   },
   "source": [
    "### By card type"
   ]
  },
  {
   "cell_type": "code",
   "execution_count": null,
   "id": "32",
   "metadata": {
    "papermill": {
     "duration": 1.163369,
     "end_time": "2025-01-04T07:29:52.651142",
     "exception": false,
     "start_time": "2025-01-04T07:29:51.487773",
     "status": "completed"
    },
    "tags": []
   },
   "outputs": [],
   "source": [
    "# All releases, includes reprints - Double check\n",
    "release_card_type = full_df.groupby([\"Card type\", \"Release\"])[\"Name\"].nunique().unstack(0).sort_index().fillna(0).astype(int)\n",
    "release_card_type.groupby(release_card_type.index.strftime(\"%Y\")).sum().T"
   ]
  },
  {
   "cell_type": "code",
   "execution_count": null,
   "id": "33",
   "metadata": {
    "papermill": {
     "duration": 2.261041,
     "end_time": "2025-01-04T07:29:55.405451",
     "exception": false,
     "start_time": "2025-01-04T07:29:53.144410",
     "status": "completed"
    },
    "tags": []
   },
   "outputs": [],
   "source": [
    "release_card_type_plot = release_card_type[[\"Monster Card\", \"Spell Card\", \"Trap Card\", \"Skill Card\"]]\n",
    "card_type_colors = [plot.colors_dict[col] for col in release_card_type_plot.columns]\n",
    "_ = plot.rate(release_card_type_plot, colors=card_type_colors, bg=anime_df, vlines=rules_df[\"begin\"])\n",
    "plt.show()"
   ]
  },
  {
   "cell_type": "markdown",
   "id": "34",
   "metadata": {
    "papermill": {
     "duration": 0.460757,
     "end_time": "2025-01-04T07:29:56.201508",
     "exception": false,
     "start_time": "2025-01-04T07:29:55.740751",
     "status": "completed"
    },
    "tags": []
   },
   "source": [
    "### By primary type"
   ]
  },
  {
   "cell_type": "code",
   "execution_count": null,
   "id": "35",
   "metadata": {
    "papermill": {
     "duration": 0.902861,
     "end_time": "2025-01-04T07:29:57.921454",
     "exception": false,
     "start_time": "2025-01-04T07:29:57.018593",
     "status": "completed"
    },
    "tags": []
   },
   "outputs": [],
   "source": [
    "# All releases, includes reprints - Double check\n",
    "# Sort properly\n",
    "release_primary_type = (\n",
    "    full_df.groupby([\"Primary type\", \"Release\"])[\"Name\"].nunique().unstack(0).sort_index().fillna(0).astype(int)\n",
    ")\n",
    "release_primary_type.groupby(release_primary_type.index.strftime(\"%Y\")).sum().T"
   ]
  },
  {
   "cell_type": "code",
   "execution_count": null,
   "id": "36",
   "metadata": {
    "papermill": {
     "duration": 3.851194,
     "end_time": "2025-01-04T07:30:02.256147",
     "exception": false,
     "start_time": "2025-01-04T07:29:58.404953",
     "status": "completed"
    },
    "tags": []
   },
   "outputs": [],
   "source": [
    "primary_type_colors = [plot.colors_dict[col] for col in release_primary_type.columns]\n",
    "_ = plot.rate(\n",
    "    release_primary_type,\n",
    "    colors=primary_type_colors,\n",
    "    bg=anime_df,\n",
    "    vlines=rules_df[\"begin\"],\n",
    ")\n",
    "plt.show()"
   ]
  },
  {
   "cell_type": "markdown",
   "id": "37",
   "metadata": {
    "papermill": {
     "duration": 0.552791,
     "end_time": "2025-01-04T07:30:03.205603",
     "exception": false,
     "start_time": "2025-01-04T07:30:02.652812",
     "status": "completed"
    },
    "tags": []
   },
   "source": [
    "### By secondary type"
   ]
  },
  {
   "cell_type": "code",
   "execution_count": null,
   "id": "38",
   "metadata": {
    "papermill": {
     "duration": 14.784323,
     "end_time": "2025-01-04T07:30:18.801886",
     "exception": false,
     "start_time": "2025-01-04T07:30:04.017563",
     "status": "completed"
    },
    "tags": []
   },
   "outputs": [],
   "source": [
    "# All releases, includes reprints - Double check\n",
    "# Sort properly\n",
    "release_secondary_type = (\n",
    "    full_df.explode(\"Secondary type\")\n",
    "    .groupby([\"Secondary type\", \"Release\"])[\"Name\"]\n",
    "    .nunique()\n",
    "    .unstack(0)\n",
    "    .sort_index()\n",
    "    .fillna(0)\n",
    "    .astype(int)\n",
    ")\n",
    "release_secondary_type.groupby(release_secondary_type.index.strftime(\"%Y\")).sum().T"
   ]
  },
  {
   "cell_type": "code",
   "execution_count": null,
   "id": "39",
   "metadata": {
    "papermill": {
     "duration": 6.15251,
     "end_time": "2025-01-04T07:30:25.986684",
     "exception": false,
     "start_time": "2025-01-04T07:30:19.834174",
     "status": "completed"
    },
    "tags": []
   },
   "outputs": [],
   "source": [
    "_ = plot.rate(release_secondary_type, bg=anime_df, vlines=rules_df[\"begin\"])\n",
    "plt.show()"
   ]
  },
  {
   "cell_type": "markdown",
   "id": "40",
   "metadata": {
    "papermill": {
     "duration": 1.296347,
     "end_time": "2025-01-04T07:30:27.778273",
     "exception": false,
     "start_time": "2025-01-04T07:30:26.481926",
     "status": "completed"
    },
    "tags": []
   },
   "source": [
    "### By attribute"
   ]
  },
  {
   "cell_type": "code",
   "execution_count": null,
   "id": "41",
   "metadata": {
    "papermill": {
     "duration": 1.461382,
     "end_time": "2025-01-04T07:30:30.094714",
     "exception": false,
     "start_time": "2025-01-04T07:30:28.633332",
     "status": "completed"
    },
    "tags": []
   },
   "outputs": [],
   "source": [
    "# All releases, includes reprints - Double check\n",
    "# Sort properly\n",
    "release_attribute = full_df.groupby([\"Attribute\", \"Release\"])[\"Name\"].nunique().unstack(0).sort_index().fillna(0).astype(int)\n",
    "release_attribute.groupby(release_attribute.index.strftime(\"%Y\")).sum().T"
   ]
  },
  {
   "cell_type": "code",
   "execution_count": null,
   "id": "42",
   "metadata": {
    "papermill": {
     "duration": 6.81036,
     "end_time": "2025-01-04T07:30:37.325217",
     "exception": false,
     "start_time": "2025-01-04T07:30:30.514857",
     "status": "completed"
    },
    "tags": []
   },
   "outputs": [],
   "source": [
    "attribute_colors = [plot.colors_dict[col] for col in release_attribute.columns]\n",
    "_ = plot.rate(\n",
    "    release_attribute, colors=attribute_colors, bg=anime_df, vlines=rules_df[\"begin\"], cumsum=True, limit_year=True\n",
    ")\n",
    "plt.show()"
   ]
  },
  {
   "cell_type": "markdown",
   "id": "43",
   "metadata": {
    "papermill": {
     "duration": 1.408552,
     "end_time": "2025-01-04T07:30:39.196389",
     "exception": false,
     "start_time": "2025-01-04T07:30:37.787837",
     "status": "completed"
    },
    "tags": []
   },
   "source": [
    "### By monster type"
   ]
  },
  {
   "cell_type": "code",
   "execution_count": null,
   "id": "44",
   "metadata": {
    "papermill": {
     "duration": 0.955005,
     "end_time": "2025-01-04T07:30:40.780607",
     "exception": false,
     "start_time": "2025-01-04T07:30:39.825602",
     "status": "completed"
    },
    "tags": []
   },
   "outputs": [],
   "source": [
    "# All releases, includes reprints - Double check\n",
    "# Sort properly\n",
    "release_monster_type = (\n",
    "    full_df.groupby([\"Monster type\", \"Release\"])[\"Name\"].nunique().unstack(0).sort_index().fillna(0).astype(int)\n",
    ")\n",
    "release_monster_type.groupby(release_monster_type.index.strftime(\"%Y\")).sum().T"
   ]
  },
  {
   "cell_type": "code",
   "execution_count": null,
   "id": "45",
   "metadata": {
    "papermill": {
     "duration": 69.626886,
     "end_time": "2025-01-04T07:31:51.238214",
     "exception": false,
     "start_time": "2025-01-04T07:30:41.611328",
     "status": "completed"
    },
    "tags": []
   },
   "outputs": [],
   "source": [
    "_ = plot.rate(release_monster_type, bg=anime_df, vlines=rules_df[\"begin\"], subplots=True)\n",
    "plt.show()"
   ]
  },
  {
   "cell_type": "markdown",
   "id": "46",
   "metadata": {
    "papermill": {
     "duration": 0.678201,
     "end_time": "2025-01-04T07:31:52.761057",
     "exception": false,
     "start_time": "2025-01-04T07:31:52.082856",
     "status": "completed"
    },
    "tags": []
   },
   "source": [
    "### By Level/Rank"
   ]
  },
  {
   "cell_type": "code",
   "execution_count": null,
   "id": "47",
   "metadata": {
    "papermill": {
     "duration": 12.961053,
     "end_time": "2025-01-04T07:32:06.574319",
     "exception": false,
     "start_time": "2025-01-04T07:31:53.613266",
     "status": "completed"
    },
    "tags": []
   },
   "outputs": [],
   "source": [
    "_ = plot.box(\n",
    "    full_df[full_df[\"Card type\"] != \"Non-game card\"][[\"Release\", \"Level/Rank\"]], color=plot.colors_dict[\"Level\"], notch=True\n",
    ")\n",
    "plt.show()"
   ]
  },
  {
   "cell_type": "markdown",
   "id": "48",
   "metadata": {
    "papermill": {
     "duration": 0.782242,
     "end_time": "2025-01-04T07:32:08.213254",
     "exception": false,
     "start_time": "2025-01-04T07:32:07.431012",
     "status": "completed"
    },
    "tags": []
   },
   "source": [
    "### By ATK"
   ]
  },
  {
   "cell_type": "code",
   "execution_count": null,
   "id": "49",
   "metadata": {
    "papermill": {
     "duration": 11.786061,
     "end_time": "2025-01-04T07:32:20.853177",
     "exception": false,
     "start_time": "2025-01-04T07:32:09.067116",
     "status": "completed"
    },
    "tags": []
   },
   "outputs": [],
   "source": [
    "_ = plot.box(\n",
    "    full_df[full_df[\"Card type\"] != \"Non-game card\"][[\"Release\", \"ATK\"]],\n",
    "    color=plot.colors_dict[\"Effect Monster\"],\n",
    "    notch=True,\n",
    ")\n",
    "plt.show()"
   ]
  },
  {
   "cell_type": "markdown",
   "id": "50",
   "metadata": {
    "papermill": {
     "duration": 0.690167,
     "end_time": "2025-01-04T07:32:22.402610",
     "exception": false,
     "start_time": "2025-01-04T07:32:21.712443",
     "status": "completed"
    },
    "tags": []
   },
   "source": [
    "### By DEF"
   ]
  },
  {
   "cell_type": "code",
   "execution_count": null,
   "id": "51",
   "metadata": {
    "papermill": {
     "duration": 12.55385,
     "end_time": "2025-01-04T07:32:35.661732",
     "exception": false,
     "start_time": "2025-01-04T07:32:23.107882",
     "status": "completed"
    },
    "tags": []
   },
   "outputs": [],
   "source": [
    "_ = plot.box(\n",
    "    full_df[full_df[\"Card type\"] != \"Non-game card\"][[\"Release\", \"DEF\"]],\n",
    "    color=plot.colors_dict[\"Effect Monster\"],\n",
    "    notch=True,\n",
    ")\n",
    "plt.show()"
   ]
  },
  {
   "cell_type": "markdown",
   "id": "52",
   "metadata": {
    "papermill": {
     "duration": 0.79504,
     "end_time": "2025-01-04T07:32:37.355335",
     "exception": false,
     "start_time": "2025-01-04T07:32:36.560295",
     "status": "completed"
    },
    "tags": []
   },
   "source": [
    "### By pendulum scale"
   ]
  },
  {
   "cell_type": "code",
   "execution_count": null,
   "id": "53",
   "metadata": {
    "papermill": {
     "duration": 2.945891,
     "end_time": "2025-01-04T07:32:41.835663",
     "exception": false,
     "start_time": "2025-01-04T07:32:38.889772",
     "status": "completed"
    },
    "tags": []
   },
   "outputs": [],
   "source": [
    "_ = plot.box(\n",
    "    full_df[full_df[\"Card type\"] != \"Non-game card\"][[\"Release\", \"Pendulum Scale\"]],\n",
    "    color=plot.colors_dict[\"Pendulum Monster\"],\n",
    "    notch=True,\n",
    ")\n",
    "plt.show()"
   ]
  },
  {
   "cell_type": "markdown",
   "id": "54",
   "metadata": {
    "papermill": {
     "duration": 0.780044,
     "end_time": "2025-01-04T07:32:43.780033",
     "exception": false,
     "start_time": "2025-01-04T07:32:42.999989",
     "status": "completed"
    },
    "tags": []
   },
   "source": [
    "### By link"
   ]
  },
  {
   "cell_type": "code",
   "execution_count": null,
   "id": "55",
   "metadata": {
    "papermill": {
     "duration": 2.047833,
     "end_time": "2025-01-04T07:32:46.777381",
     "exception": false,
     "start_time": "2025-01-04T07:32:44.729548",
     "status": "completed"
    },
    "tags": []
   },
   "outputs": [],
   "source": [
    "_ = plot.box(full_df[full_df[\"Card type\"] != \"Non-game card\"][[\"Release\", \"Link\"]], color=plot.colors_dict[\"Link Monster\"])\n",
    "plt.show()"
   ]
  },
  {
   "cell_type": "markdown",
   "id": "56",
   "metadata": {
    "papermill": {
     "duration": 1.641014,
     "end_time": "2025-01-04T07:32:49.887814",
     "exception": false,
     "start_time": "2025-01-04T07:32:48.246800",
     "status": "completed"
    },
    "tags": []
   },
   "source": [
    "# Debug"
   ]
  },
  {
   "cell_type": "markdown",
   "id": "57",
   "metadata": {
    "papermill": {
     "duration": 1.01972,
     "end_time": "2025-01-04T07:32:51.941400",
     "exception": false,
     "start_time": "2025-01-04T07:32:50.921680",
     "status": "completed"
    },
    "tags": []
   },
   "source": [
    "## Merge failed"
   ]
  },
  {
   "cell_type": "markdown",
   "id": "58",
   "metadata": {
    "papermill": {
     "duration": 0.696033,
     "end_time": "2025-01-04T07:32:53.861017",
     "exception": false,
     "start_time": "2025-01-04T07:32:53.164984",
     "status": "completed"
    },
    "tags": []
   },
   "source": [
    "Names missing"
   ]
  },
  {
   "cell_type": "code",
   "execution_count": null,
   "id": "59",
   "metadata": {
    "papermill": {
     "duration": 2.060308,
     "end_time": "2025-01-04T07:32:56.780900",
     "exception": false,
     "start_time": "2025-01-04T07:32:54.720592",
     "status": "completed"
    },
    "tags": []
   },
   "outputs": [],
   "source": [
    "all_cards_df.where(~all_cards_df[\"Name\"].isin(full_df[\"Name\"])).dropna(how=\"all\")"
   ]
  },
  {
   "cell_type": "markdown",
   "id": "60",
   "metadata": {
    "papermill": {
     "duration": 0.959758,
     "end_time": "2025-01-04T07:32:58.618481",
     "exception": false,
     "start_time": "2025-01-04T07:32:57.658723",
     "status": "completed"
    },
    "tags": []
   },
   "source": [
    "Card number missing"
   ]
  },
  {
   "cell_type": "code",
   "execution_count": null,
   "id": "61",
   "metadata": {
    "papermill": {
     "duration": 3.321233,
     "end_time": "2025-01-04T07:33:03.214080",
     "exception": false,
     "start_time": "2025-01-04T07:32:59.892847",
     "status": "completed"
    },
    "tags": []
   },
   "outputs": [],
   "source": [
    "set_lists_df.where(\n",
    "    (~set_lists_df[\"Card number\"].isin(full_df[\"Card number\"]))\n",
    "    & (~set_lists_df[\"Card number\"].dropna().str.startswith(\"RD/\"))\n",
    ").dropna(how=\"all\")"
   ]
  },
  {
   "cell_type": "markdown",
   "id": "62",
   "metadata": {
    "papermill": {
     "duration": 1.110042,
     "end_time": "2025-01-04T07:33:05.138809",
     "exception": false,
     "start_time": "2025-01-04T07:33:04.028767",
     "status": "completed"
    },
    "tags": []
   },
   "source": [
    " # Epilogue"
   ]
  },
  {
   "cell_type": "code",
   "execution_count": null,
   "id": "63",
   "metadata": {
    "papermill": {
     "duration": 9.824012,
     "end_time": "2025-01-04T07:33:15.940027",
     "exception": false,
     "start_time": "2025-01-04T07:33:06.116015",
     "status": "completed"
    },
    "tags": []
   },
   "outputs": [],
   "source": [
    "benchmark(report=\"timeline\", timestamp=timestamp)"
   ]
  },
  {
   "cell_type": "code",
   "execution_count": null,
   "id": "64",
   "metadata": {
    "papermill": {
     "duration": 0.890357,
     "end_time": "2025-01-04T07:33:17.557360",
     "exception": false,
     "start_time": "2025-01-04T07:33:16.667003",
     "status": "completed"
    },
    "tags": []
   },
   "outputs": [],
   "source": [
    "footer()"
   ]
  },
  {
   "cell_type": "markdown",
   "id": "65",
   "metadata": {
    "papermill": {
     "duration": 1.149719,
     "end_time": "2025-01-04T07:33:19.964633",
     "exception": false,
     "start_time": "2025-01-04T07:33:18.814914",
     "status": "completed"
    },
    "tags": []
   },
   "source": [
    "## HTML export"
   ]
  },
  {
   "cell_type": "code",
   "execution_count": null,
   "id": "66",
   "metadata": {
    "papermill": {
     "duration": 0.966752,
     "end_time": "2025-01-04T07:33:21.722888",
     "exception": false,
     "start_time": "2025-01-04T07:33:20.756136",
     "status": "completed"
    },
    "tags": []
   },
   "outputs": [],
   "source": [
    "# May need to sleep for a few seconds after saving\n",
    "save_notebook()"
   ]
  },
  {
   "cell_type": "code",
   "execution_count": null,
   "id": "67",
   "metadata": {
    "papermill": {
     "duration": 6.220241,
     "end_time": "2025-01-04T07:33:28.698290",
     "exception": false,
     "start_time": "2025-01-04T07:33:22.478049",
     "status": "completed"
    },
    "tags": []
   },
   "outputs": [],
   "source": [
    "export_notebook(dirs.NOTEBOOKS.user / \"Timeline.ipynb\")"
   ]
  },
  {
   "cell_type": "markdown",
   "id": "68",
   "metadata": {
    "papermill": {
     "duration": 1.195509,
     "end_time": "2025-01-04T07:33:31.186399",
     "exception": false,
     "start_time": "2025-01-04T07:33:29.990890",
     "status": "completed"
    },
    "tags": [
     "exclude"
    ]
   },
   "source": [
    "## Git"
   ]
  },
  {
   "cell_type": "code",
   "execution_count": null,
   "id": "69",
   "metadata": {
    "papermill": {
     "duration": null,
     "end_time": null,
     "exception": false,
     "start_time": "2025-01-04T07:33:31.896907",
     "status": "running"
    },
    "tags": [
     "exclude"
    ]
   },
   "outputs": [],
   "source": [
    "git.commit(\"*[Tt]imeline*\", f\"Timeline update - {timestamp.isoformat()}\")"
   ]
  }
 ],
 "metadata": {
  "kernelspec": {
   "display_name": "venv",
   "language": "python",
   "name": "python3"
  },
  "language_info": {
   "codemirror_mode": {
    "name": "ipython",
    "version": 3
   },
   "file_extension": ".py",
   "mimetype": "text/x-python",
   "name": "python",
   "nbconvert_exporter": "python",
   "pygments_lexer": "ipython3",
   "version": "3.11.6"
  },
  "papermill": {
   "default_parameters": {},
   "duration": null,
   "end_time": null,
   "environment_variables": {},
   "exception": null,
   "input_path": "/home/jovyan/yugiquery/notebooks/Timeline.ipynb",
   "output_path": "/home/jovyan/yugiquery/notebooks/Timeline.ipynb",
   "parameters": {},
   "start_time": "2025-01-04T07:27:38.733563",
   "version": "2.6.0"
  },
  "toc": {
   "base_numbering": 1,
   "nav_menu": {},
   "number_sections": true,
   "sideBar": true,
   "skip_h1_title": false,
   "title_cell": "Table of Contents",
   "title_sidebar": "Contents",
   "toc_cell": true,
   "toc_position": {},
   "toc_section_display": true,
   "toc_window_display": true
  }
 },
 "nbformat": 4,
 "nbformat_minor": 5
}
