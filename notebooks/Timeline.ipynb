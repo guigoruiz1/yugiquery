{
 "cells": [
  {
   "cell_type": "code",
   "execution_count": null,
   "id": "0",
   "metadata": {
    "papermill": {
     "duration": 2.847745,
     "end_time": "2025-05-24T06:24:43.919791",
     "exception": false,
     "start_time": "2025-05-24T06:24:41.072046",
     "status": "completed"
    },
    "tags": []
   },
   "outputs": [],
   "source": [
    "from yugiquery import *\n",
    "\n",
    "init_notebook_mode(all_interactive=True)\n",
    "\n",
    "header(\"Timeline\")"
   ]
  },
  {
   "cell_type": "markdown",
   "id": "1",
   "metadata": {
    "papermill": {
     "duration": 0.196713,
     "end_time": "2025-05-24T06:24:44.171299",
     "exception": false,
     "start_time": "2025-05-24T06:24:43.974586",
     "status": "completed"
    },
    "tags": []
   },
   "source": [
    "---"
   ]
  },
  {
   "cell_type": "markdown",
   "id": "2",
   "metadata": {
    "papermill": {
     "duration": 0.326301,
     "end_time": "2025-05-24T06:24:45.243722",
     "exception": false,
     "start_time": "2025-05-24T06:24:44.917421",
     "status": "completed"
    },
    "tags": []
   },
   "source": [
    "Table of Contents <a class=\"jp-toc-ignore\"></a>\n",
    "=================\n",
    "* [1 Data preparation](#data-preparation)\n",
    "  * [1.1 Load data](#load-data)\n",
    "  * [1.2 Merge data](#merge-data)\n",
    "* [2 Data visualization](#data-visualization)\n",
    "  * [2.1 Debut](#debut)\n",
    "    * [2.1.1 By Format](#by-format)\n",
    "    * [2.1.2 By Region](#by-region)\n",
    "    * [2.1.3 By Card type](#by-card-type)\n",
    "    * [2.1.4 By Primary type](#by-primary-type)\n",
    "    * [2.1.5 By Secondary type](#by-secondary-type)\n",
    "    * [2.1.6 By Attribute](#by-attribute)\n",
    "    * [2.1.7 By Monster type](#by-monster-type)\n",
    "    * [2.1.8 By Level/Rank](#by-level/rank)\n",
    "    * [2.1.9 By Pendulum scale](#by-pendulum-scale)\n",
    "    * [2.1.10 By Link](#by-link)\n",
    "    * [2.1.11 By ATK](#by-atk)\n",
    "    * [2.1.12 By DEF](#by-def)\n",
    "  * [2.2 Last release](#last-release)\n",
    "    * [2.2.1 By Region](#by-region)\n",
    "    * [2.2.2 By Card type](#by-card-type)\n",
    "    * [2.2.3 By Primary type](#by-primary-type)\n",
    "    * [2.2.4 By Secondary type](#by-secondary-type)\n",
    "    * [2.2.5 By Attribute](#by-attribute)\n",
    "    * [2.2.6 By Monster type](#by-monster-type)\n",
    "    * [2.2.7 By Level/Rank](#by-level/rank)\n",
    "    * [2.2.8 By Pendulum scale](#by-pendulum-scale)\n",
    "    * [2.2.9 By Link](#by-link)\n",
    "    * [2.2.10 By ATK](#by-atk)\n",
    "    * [2.2.11 By DEF](#by-def)\n",
    "  * [2.3 All releases](#all-releases)\n",
    "    * [2.3.1 By Region](#by-region)\n",
    "    * [2.3.2 By Card type](#by-card-type)\n",
    "    * [2.3.3 By Primary type](#by-primary-type)\n",
    "    * [2.3.4 By Secondary type](#by-secondary-type)\n",
    "    * [2.3.5 By Attribute](#by-attribute)\n",
    "    * [2.3.6 By Monster type](#by-monster-type)\n",
    "    * [2.3.7 By Level/Rank](#by-level/rank)\n",
    "    * [2.3.8 By Pendulum scale](#by-pendulum-scale)\n",
    "    * [2.3.9 By Link](#by-link)\n",
    "    * [2.3.10 By ATK](#by-atk)\n",
    "    * [2.3.11 By DEF](#by-def)\n",
    "* [3 Merge failed](#merge-failed)\n",
    "  * [3.1 Names missing](#names-missing)\n",
    "  * [3.2 Card number missing](#card-number-missing)\n",
    "* [4 Epilogue](#epilogue)\n",
    "  * [4.1 HTML export](#html-export)\n",
    "  * [4.2 Git](#git)"
   ]
  },
  {
   "cell_type": "markdown",
   "id": "3",
   "metadata": {
    "papermill": {
     "duration": 0.074039,
     "end_time": "2025-05-24T06:24:45.404026",
     "exception": false,
     "start_time": "2025-05-24T06:24:45.329987",
     "status": "completed"
    },
    "tags": []
   },
   "source": [
    "# Data preparation"
   ]
  },
  {
   "cell_type": "code",
   "execution_count": null,
   "id": "4",
   "metadata": {
    "papermill": {
     "duration": 0.552076,
     "end_time": "2025-05-24T06:24:46.089394",
     "exception": false,
     "start_time": "2025-05-24T06:24:45.537318",
     "status": "completed"
    },
    "tags": []
   },
   "outputs": [],
   "source": [
    "timestamp = arrow.utcnow()"
   ]
  },
  {
   "cell_type": "markdown",
   "id": "5",
   "metadata": {
    "papermill": {
     "duration": 0.193295,
     "end_time": "2025-05-24T06:24:46.391167",
     "exception": false,
     "start_time": "2025-05-24T06:24:46.197872",
     "status": "completed"
    },
    "tags": []
   },
   "source": [
    "## Load data"
   ]
  },
  {
   "cell_type": "code",
   "execution_count": null,
   "id": "6",
   "metadata": {
    "papermill": {
     "duration": 0.336803,
     "end_time": "2025-05-24T06:24:46.840178",
     "exception": false,
     "start_time": "2025-05-24T06:24:46.503375",
     "status": "completed"
    },
    "tags": []
   },
   "outputs": [],
   "source": [
    "# Load list of important dates\n",
    "dates_json = load_json(dirs.get_asset(\"json\", \"dates.json\"))\n",
    "anime_df = pd.DataFrame(dates_json[\"anime\"][\"series\"]).set_index(\"title\").map(pd.to_datetime, dayfirst=True)\n",
    "rules_df = (\n",
    "    pd.DataFrame(dates_json[\"rules\"]).set_index(\"title\").map(pd.to_datetime, dayfirst=True).iloc[2:]\n",
    ")  # Ignore old rules"
   ]
  },
  {
   "cell_type": "code",
   "execution_count": null,
   "id": "7",
   "metadata": {
    "papermill": {
     "duration": 11.931726,
     "end_time": "2025-05-24T06:24:58.829940",
     "exception": false,
     "start_time": "2025-05-24T06:24:46.898214",
     "status": "completed"
    },
    "tags": []
   },
   "outputs": [],
   "source": [
    "# Get latest file if exist\n",
    "cards_df = load_latest_data(\"cards\")\n",
    "speed_df = load_latest_data(\"speed\")\n",
    "set_lists_df = load_latest_data(\"sets\")"
   ]
  },
  {
   "cell_type": "markdown",
   "id": "8",
   "metadata": {
    "papermill": {
     "duration": 0.376308,
     "end_time": "2025-05-24T06:24:59.259713",
     "exception": false,
     "start_time": "2025-05-24T06:24:58.883405",
     "status": "completed"
    },
    "tags": []
   },
   "source": [
    "## Merge data"
   ]
  },
  {
   "cell_type": "code",
   "execution_count": null,
   "id": "9",
   "metadata": {
    "papermill": {
     "duration": 0.154098,
     "end_time": "2025-05-24T06:24:59.527795",
     "exception": false,
     "start_time": "2025-05-24T06:24:59.373697",
     "status": "completed"
    },
    "tags": []
   },
   "outputs": [],
   "source": [
    "df_list = [cards_df, speed_df, set_lists_df]\n",
    "if any(item is None for item in df_list):\n",
    "    raise SystemExit(\"Not enough files to proceed. Aborting!\")"
   ]
  },
  {
   "cell_type": "code",
   "execution_count": null,
   "id": "10",
   "metadata": {
    "papermill": {
     "duration": 4.538491,
     "end_time": "2025-05-24T06:25:04.121299",
     "exception": false,
     "start_time": "2025-05-24T06:24:59.582808",
     "status": "completed"
    },
    "tags": []
   },
   "outputs": [],
   "source": [
    "set_lists_df = set_lists_df[\n",
    "    ~set_lists_df[\"Card number\"].str.startswith(\"RD/\").astype(bool).fillna(False)\n",
    "]  # Remove Rush duel cards\n",
    "full_df = merge_set_to_cards(cards_df, speed_df, set_df=set_lists_df)"
   ]
  },
  {
   "cell_type": "markdown",
   "id": "11",
   "metadata": {
    "papermill": {
     "duration": 0.41656,
     "end_time": "2025-05-24T06:25:04.601683",
     "exception": false,
     "start_time": "2025-05-24T06:25:04.185123",
     "status": "completed"
    },
    "tags": []
   },
   "source": [
    "# Data visualization"
   ]
  },
  {
   "cell_type": "markdown",
   "id": "12",
   "metadata": {
    "papermill": {
     "duration": 0.27797,
     "end_time": "2025-05-24T06:25:04.933504",
     "exception": false,
     "start_time": "2025-05-24T06:25:04.655534",
     "status": "completed"
    },
    "tags": []
   },
   "source": [
    "Rush duel and Bandai cards are not included."
   ]
  },
  {
   "cell_type": "code",
   "execution_count": null,
   "id": "13",
   "metadata": {
    "papermill": {
     "duration": 0.434369,
     "end_time": "2025-05-24T06:25:05.510320",
     "exception": false,
     "start_time": "2025-05-24T06:25:05.075951",
     "status": "completed"
    },
    "tags": []
   },
   "outputs": [],
   "source": [
    "full_df"
   ]
  },
  {
   "cell_type": "markdown",
   "id": "14",
   "metadata": {
    "papermill": {
     "duration": 0.277047,
     "end_time": "2025-05-24T06:25:05.937833",
     "exception": false,
     "start_time": "2025-05-24T06:25:05.660786",
     "status": "completed"
    },
    "tags": []
   },
   "source": [
    "## Debut"
   ]
  },
  {
   "cell_type": "code",
   "execution_count": null,
   "id": "15",
   "metadata": {
    "papermill": {
     "duration": 0.486169,
     "end_time": "2025-05-24T06:25:06.798362",
     "exception": false,
     "start_time": "2025-05-24T06:25:06.312193",
     "status": "completed"
    },
    "tags": []
   },
   "outputs": [],
   "source": [
    "debut_counts = get_releases_by(full_df, column=None, operation=\"debut\").value_counts(sort=False).rename(\"All formats\")\n",
    "debut_counts.groupby(debut_counts.index.strftime(\"%Y\")).sum()"
   ]
  },
  {
   "cell_type": "code",
   "execution_count": null,
   "id": "16",
   "metadata": {
    "papermill": {
     "duration": 2.968182,
     "end_time": "2025-05-24T06:25:10.450283",
     "exception": false,
     "start_time": "2025-05-24T06:25:07.482101",
     "status": "completed"
    },
    "tags": []
   },
   "outputs": [],
   "source": [
    "_ = plot.rate(debut_counts, bg=anime_df, vlines=rules_df[\"begin\"], limit_year=True)\n",
    "plt.show()"
   ]
  },
  {
   "cell_type": "markdown",
   "id": "17",
   "metadata": {
    "papermill": {
     "duration": 0.085374,
     "end_time": "2025-05-24T06:25:10.640573",
     "exception": false,
     "start_time": "2025-05-24T06:25:10.555199",
     "status": "completed"
    },
    "tags": []
   },
   "source": [
    "### By Format"
   ]
  },
  {
   "cell_type": "markdown",
   "id": "18",
   "metadata": {
    "papermill": {
     "duration": 0.565055,
     "end_time": "2025-05-24T06:25:11.279881",
     "exception": false,
     "start_time": "2025-05-24T06:25:10.714826",
     "status": "completed"
    },
    "tags": []
   },
   "source": [
    "Monsters' debut per format"
   ]
  },
  {
   "cell_type": "code",
   "execution_count": null,
   "id": "19",
   "metadata": {
    "papermill": {
     "duration": 0.204284,
     "end_time": "2025-05-24T06:25:11.722253",
     "exception": false,
     "start_time": "2025-05-24T06:25:11.517969",
     "status": "completed"
    },
    "tags": []
   },
   "outputs": [],
   "source": [
    "full_df.groupby(\"Name\")[full_df.filter(regex=\"(?i)(debut)\").columns].min()"
   ]
  },
  {
   "cell_type": "markdown",
   "id": "20",
   "metadata": {
    "papermill": {
     "duration": 0.230824,
     "end_time": "2025-05-24T06:25:12.680270",
     "exception": false,
     "start_time": "2025-05-24T06:25:12.449446",
     "status": "completed"
    },
    "tags": []
   },
   "source": [
    "Debuts per date for each format"
   ]
  },
  {
   "cell_type": "code",
   "execution_count": null,
   "id": "21",
   "metadata": {
    "papermill": {
     "duration": 0.402254,
     "end_time": "2025-05-24T06:25:13.164212",
     "exception": false,
     "start_time": "2025-05-24T06:25:12.761958",
     "status": "completed"
    },
    "tags": []
   },
   "outputs": [],
   "source": [
    "format_debut_counts = (\n",
    "    full_df.groupby(\"Name\")[full_df.filter(regex=\"(?i)(debut)\").columns]\n",
    "    .min()\n",
    "    .melt(var_name=\"Format\", value_name=\"Debut\")\n",
    "    .value_counts()\n",
    "    .unstack(0)\n",
    "    .fillna(0)\n",
    "    .sort_index()\n",
    ")\n",
    "format_debut_counts.groupby(format_debut_counts.index.strftime(\"%Y\")).sum()"
   ]
  },
  {
   "cell_type": "code",
   "execution_count": null,
   "id": "22",
   "metadata": {
    "papermill": {
     "duration": 6.573243,
     "end_time": "2025-05-24T06:25:20.118245",
     "exception": false,
     "start_time": "2025-05-24T06:25:13.545002",
     "status": "completed"
    },
    "tags": []
   },
   "outputs": [],
   "source": [
    "_ = plot.rate(format_debut_counts, bg=anime_df, vlines=rules_df[\"begin\"], subplots=True)\n",
    "plt.show()"
   ]
  },
  {
   "cell_type": "markdown",
   "id": "23",
   "metadata": {
    "papermill": {
     "duration": 0.162682,
     "end_time": "2025-05-24T06:25:20.423113",
     "exception": false,
     "start_time": "2025-05-24T06:25:20.260431",
     "status": "completed"
    },
    "tags": []
   },
   "source": [
    "### By Region"
   ]
  },
  {
   "cell_type": "markdown",
   "id": "24",
   "metadata": {
    "papermill": {
     "duration": 0.398809,
     "end_time": "2025-05-24T06:25:21.153606",
     "exception": false,
     "start_time": "2025-05-24T06:25:20.754797",
     "status": "completed"
    },
    "tags": []
   },
   "source": [
    "Obs: Debut by region is taken from earliest release date in set lists. It may not be as accurate as card specific properties."
   ]
  },
  {
   "cell_type": "code",
   "execution_count": null,
   "id": "25",
   "metadata": {
    "papermill": {
     "duration": 0.348728,
     "end_time": "2025-05-24T06:25:21.898689",
     "exception": false,
     "start_time": "2025-05-24T06:25:21.549961",
     "status": "completed"
    },
    "tags": []
   },
   "outputs": [],
   "source": [
    "full_df.groupby([\"Region\", \"Name\"])[\"Release\"].min().unstack(0)"
   ]
  },
  {
   "cell_type": "markdown",
   "id": "26",
   "metadata": {
    "papermill": {
     "duration": 0.175906,
     "end_time": "2025-05-24T06:25:22.174809",
     "exception": false,
     "start_time": "2025-05-24T06:25:21.998903",
     "status": "completed"
    },
    "tags": []
   },
   "source": [
    "First releases per date"
   ]
  },
  {
   "cell_type": "code",
   "execution_count": null,
   "id": "27",
   "metadata": {
    "papermill": {
     "duration": 5.412195,
     "end_time": "2025-05-24T06:25:28.328311",
     "exception": false,
     "start_time": "2025-05-24T06:25:22.916116",
     "status": "completed"
    },
    "tags": []
   },
   "outputs": [],
   "source": [
    "region_debut_counts = get_releases_by(full_df, column=\"Region\", operation=\"first\", crosstab=True)\n",
    "region_debut_counts.groupby(region_debut_counts.index.strftime(\"%Y\")).sum()"
   ]
  },
  {
   "cell_type": "code",
   "execution_count": null,
   "id": "28",
   "metadata": {
    "papermill": {
     "duration": 31.313319,
     "end_time": "2025-05-24T06:25:59.747261",
     "exception": false,
     "start_time": "2025-05-24T06:25:28.433942",
     "status": "completed"
    },
    "tags": []
   },
   "outputs": [],
   "source": [
    "_ = plot.rate(\n",
    "    region_debut_counts,\n",
    "    bg=anime_df,\n",
    "    vlines=rules_df[\"begin\"],\n",
    "    subplots=True,\n",
    "    limit_year=True,\n",
    ")\n",
    "plt.show()"
   ]
  },
  {
   "cell_type": "markdown",
   "id": "29",
   "metadata": {
    "papermill": {
     "duration": 0.311487,
     "end_time": "2025-05-24T06:26:00.259709",
     "exception": false,
     "start_time": "2025-05-24T06:25:59.948222",
     "status": "completed"
    },
    "tags": []
   },
   "source": [
    "### By Card type"
   ]
  },
  {
   "cell_type": "code",
   "execution_count": null,
   "id": "30",
   "metadata": {
    "papermill": {
     "duration": 4.751156,
     "end_time": "2025-05-24T06:26:05.455846",
     "exception": false,
     "start_time": "2025-05-24T06:26:00.704690",
     "status": "completed"
    },
    "tags": []
   },
   "outputs": [],
   "source": [
    "ct_debut_counts = get_releases_by(full_df, column=\"Card type\", operation=\"debut\", crosstab=True)\n",
    "ct_debut_counts.groupby(ct_debut_counts.index.strftime(\"%Y\")).sum()"
   ]
  },
  {
   "cell_type": "code",
   "execution_count": null,
   "id": "31",
   "metadata": {
    "papermill": {
     "duration": 3.32134,
     "end_time": "2025-05-24T06:26:09.296578",
     "exception": false,
     "start_time": "2025-05-24T06:26:05.975238",
     "status": "completed"
    },
    "tags": []
   },
   "outputs": [],
   "source": [
    "_ct_debut_plot = ct_debut_counts[[\"Monster Card\", \"Spell Card\", \"Trap Card\", \"Skill Card\"]]\n",
    "_ct_colors = [plot.colors_dict[col] for col in _ct_debut_plot.columns]\n",
    "_ = plot.rate(\n",
    "    _ct_debut_plot,\n",
    "    colors=_ct_colors,\n",
    "    bg=anime_df,\n",
    "    vlines=rules_df[\"begin\"],\n",
    "    subplots=False,\n",
    "    limit_year=True,\n",
    ")"
   ]
  },
  {
   "cell_type": "markdown",
   "id": "32",
   "metadata": {
    "papermill": {
     "duration": 0.217756,
     "end_time": "2025-05-24T06:26:09.740867",
     "exception": false,
     "start_time": "2025-05-24T06:26:09.523111",
     "status": "completed"
    },
    "tags": []
   },
   "source": [
    "### By Primary type"
   ]
  },
  {
   "cell_type": "code",
   "execution_count": null,
   "id": "33",
   "metadata": {
    "papermill": {
     "duration": 10.788261,
     "end_time": "2025-05-24T06:26:20.746802",
     "exception": false,
     "start_time": "2025-05-24T06:26:09.958541",
     "status": "completed"
    },
    "tags": []
   },
   "outputs": [],
   "source": [
    "pt_debut_counts = get_releases_by(full_df, column=\"Primary type\", operation=\"debut\", crosstab=True)\n",
    "pt_debut_counts.groupby(pt_debut_counts.index.strftime(\"%Y\")).sum()"
   ]
  },
  {
   "cell_type": "code",
   "execution_count": null,
   "id": "34",
   "metadata": {
    "papermill": {
     "duration": 4.263769,
     "end_time": "2025-05-24T06:26:25.792208",
     "exception": false,
     "start_time": "2025-05-24T06:26:21.528439",
     "status": "completed"
    },
    "tags": []
   },
   "outputs": [],
   "source": [
    "_pt_colors = [plot.colors_dict[col] for col in pt_debut_counts.columns]\n",
    "_ = plot.rate(\n",
    "    pt_debut_counts,\n",
    "    colors=_pt_colors,\n",
    "    bg=anime_df,\n",
    "    vlines=rules_df[\"begin\"],\n",
    "    subplots=False,\n",
    "    limit_year=True,\n",
    ")"
   ]
  },
  {
   "cell_type": "markdown",
   "id": "35",
   "metadata": {
    "papermill": {
     "duration": 0.684623,
     "end_time": "2025-05-24T06:26:26.719475",
     "exception": false,
     "start_time": "2025-05-24T06:26:26.034852",
     "status": "completed"
    },
    "tags": []
   },
   "source": [
    "### By Secondary type"
   ]
  },
  {
   "cell_type": "code",
   "execution_count": null,
   "id": "36",
   "metadata": {
    "papermill": {
     "duration": 15.473908,
     "end_time": "2025-05-24T06:26:43.129547",
     "exception": false,
     "start_time": "2025-05-24T06:26:27.655639",
     "status": "completed"
    },
    "tags": []
   },
   "outputs": [],
   "source": [
    "st_debut_counts = get_releases_by(full_df, \"Secondary type\", operation=\"debut\", crosstab=True)\n",
    "st_debut_counts.groupby(st_debut_counts.index.strftime(\"%Y\")).sum()"
   ]
  },
  {
   "cell_type": "code",
   "execution_count": null,
   "id": "37",
   "metadata": {
    "papermill": {
     "duration": 26.685436,
     "end_time": "2025-05-24T06:27:11.737368",
     "exception": false,
     "start_time": "2025-05-24T06:26:45.051932",
     "status": "completed"
    },
    "tags": []
   },
   "outputs": [],
   "source": [
    "_ = plot.rate(\n",
    "    st_debut_counts,\n",
    "    bg=anime_df,\n",
    "    vlines=rules_df[\"begin\"],\n",
    "    subplots=True,\n",
    "    limit_year=True,\n",
    ")"
   ]
  },
  {
   "cell_type": "markdown",
   "id": "38",
   "metadata": {
    "papermill": {
     "duration": 0.623794,
     "end_time": "2025-05-24T06:27:12.730012",
     "exception": false,
     "start_time": "2025-05-24T06:27:12.106218",
     "status": "completed"
    },
    "tags": []
   },
   "source": [
    "### By Attribute"
   ]
  },
  {
   "cell_type": "code",
   "execution_count": null,
   "id": "39",
   "metadata": {
    "papermill": {
     "duration": 5.616231,
     "end_time": "2025-05-24T06:27:19.191575",
     "exception": false,
     "start_time": "2025-05-24T06:27:13.575344",
     "status": "completed"
    },
    "tags": []
   },
   "outputs": [],
   "source": [
    "att_debut_counts = get_releases_by(full_df, column=\"Attribute\", operation=\"debut\", crosstab=True)\n",
    "att_debut_counts.groupby(att_debut_counts.index.strftime(\"%Y\")).sum()"
   ]
  },
  {
   "cell_type": "code",
   "execution_count": null,
   "id": "40",
   "metadata": {
    "papermill": {
     "duration": 3.743124,
     "end_time": "2025-05-24T06:27:23.276104",
     "exception": false,
     "start_time": "2025-05-24T06:27:19.532980",
     "status": "completed"
    },
    "tags": []
   },
   "outputs": [],
   "source": [
    "attribute_colors = [plot.colors_dict[col] for col in att_debut_counts.columns]\n",
    "_ = plot.rate(\n",
    "    att_debut_counts,\n",
    "    colors=attribute_colors,\n",
    "    bg=anime_df,\n",
    "    vlines=rules_df[\"begin\"],\n",
    "    subplots=False,\n",
    "    limit_year=True,\n",
    ")"
   ]
  },
  {
   "cell_type": "markdown",
   "id": "41",
   "metadata": {
    "papermill": {
     "duration": 0.296784,
     "end_time": "2025-05-24T06:27:23.884484",
     "exception": false,
     "start_time": "2025-05-24T06:27:23.587700",
     "status": "completed"
    },
    "tags": []
   },
   "source": [
    "### By Monster type"
   ]
  },
  {
   "cell_type": "code",
   "execution_count": null,
   "id": "42",
   "metadata": {
    "papermill": {
     "duration": 4.411882,
     "end_time": "2025-05-24T06:27:28.606339",
     "exception": false,
     "start_time": "2025-05-24T06:27:24.194457",
     "status": "completed"
    },
    "tags": []
   },
   "outputs": [],
   "source": [
    "mt_debut_counts = get_releases_by(full_df, column=\"Monster type\", operation=\"debut\", crosstab=True)\n",
    "mt_debut_counts.groupby(mt_debut_counts.index.strftime(\"%Y\")).sum()"
   ]
  },
  {
   "cell_type": "code",
   "execution_count": null,
   "id": "43",
   "metadata": {
    "papermill": {
     "duration": 69.987982,
     "end_time": "2025-05-24T06:28:39.032296",
     "exception": false,
     "start_time": "2025-05-24T06:27:29.044314",
     "status": "completed"
    },
    "tags": []
   },
   "outputs": [],
   "source": [
    "_ = plot.rate(mt_debut_counts, bg=anime_df, vlines=rules_df[\"begin\"], subplots=True, limit_year=True)"
   ]
  },
  {
   "cell_type": "markdown",
   "id": "44",
   "metadata": {
    "papermill": {
     "duration": 0.548916,
     "end_time": "2025-05-24T06:28:40.089146",
     "exception": false,
     "start_time": "2025-05-24T06:28:39.540230",
     "status": "completed"
    },
    "tags": []
   },
   "source": [
    "### By Level/Rank"
   ]
  },
  {
   "cell_type": "code",
   "execution_count": null,
   "id": "45",
   "metadata": {
    "papermill": {
     "duration": 10.756974,
     "end_time": "2025-05-24T06:28:51.786124",
     "exception": false,
     "start_time": "2025-05-24T06:28:41.029150",
     "status": "completed"
    },
    "tags": []
   },
   "outputs": [],
   "source": [
    "level_debut = get_releases_by(\n",
    "    full_df[(full_df[\"Card type\"] != \"Non-game card\") & (full_df[\"Primary type\"] != \"Link Monster\")],\n",
    "    column=\"Level/Rank/Link\",\n",
    "    operation=\"debut\",\n",
    "    crosstab=False,\n",
    ")\n",
    "level_debut.groupby(level_debut[\"Debut\"].dt.year)[\"Level/Rank/Link\"].describe()"
   ]
  },
  {
   "cell_type": "code",
   "execution_count": null,
   "id": "46",
   "metadata": {
    "papermill": {
     "duration": 4.493202,
     "end_time": "2025-05-24T06:28:56.925875",
     "exception": false,
     "start_time": "2025-05-24T06:28:52.432673",
     "status": "completed"
    },
    "tags": []
   },
   "outputs": [],
   "source": [
    "_ = plot.box(\n",
    "    level_debut,\n",
    "    color=plot.colors_dict[\"Effect Monster\"],\n",
    "    notch=True,\n",
    ")\n",
    "plt.show()"
   ]
  },
  {
   "cell_type": "markdown",
   "id": "47",
   "metadata": {
    "papermill": {
     "duration": 0.722234,
     "end_time": "2025-05-24T06:28:58.157722",
     "exception": false,
     "start_time": "2025-05-24T06:28:57.435488",
     "status": "completed"
    },
    "tags": []
   },
   "source": [
    "### By Pendulum scale"
   ]
  },
  {
   "cell_type": "code",
   "execution_count": null,
   "id": "48",
   "metadata": {
    "papermill": {
     "duration": 16.676963,
     "end_time": "2025-05-24T06:29:15.344394",
     "exception": false,
     "start_time": "2025-05-24T06:28:58.667431",
     "status": "completed"
    },
    "tags": []
   },
   "outputs": [],
   "source": [
    "pendulum_debut = get_releases_by(\n",
    "    full_df[(full_df[\"Card type\"] != \"Non-game card\")], column=\"Pendulum Scale\", operation=\"debut\", crosstab=False\n",
    ")\n",
    "pendulum_debut.groupby(pendulum_debut[\"Debut\"].dt.year)[\"Pendulum Scale\"].describe()"
   ]
  },
  {
   "cell_type": "code",
   "execution_count": null,
   "id": "49",
   "metadata": {
    "papermill": {
     "duration": 3.475154,
     "end_time": "2025-05-24T06:29:19.869714",
     "exception": false,
     "start_time": "2025-05-24T06:29:16.394560",
     "status": "completed"
    },
    "tags": []
   },
   "outputs": [],
   "source": [
    "_ = plot.box(\n",
    "    pendulum_debut,\n",
    "    color=plot.colors_dict[\"Spell Card\"],\n",
    "    notch=True,\n",
    ")\n",
    "plt.show()"
   ]
  },
  {
   "cell_type": "markdown",
   "id": "50",
   "metadata": {
    "papermill": {
     "duration": 0.520338,
     "end_time": "2025-05-24T06:29:21.850193",
     "exception": false,
     "start_time": "2025-05-24T06:29:21.329855",
     "status": "completed"
    },
    "tags": []
   },
   "source": [
    "### By Link"
   ]
  },
  {
   "cell_type": "code",
   "execution_count": null,
   "id": "51",
   "metadata": {
    "papermill": {
     "duration": 1.477826,
     "end_time": "2025-05-24T06:29:24.496683",
     "exception": false,
     "start_time": "2025-05-24T06:29:23.018857",
     "status": "completed"
    },
    "tags": []
   },
   "outputs": [],
   "source": [
    "link_debut = get_releases_by(\n",
    "    full_df[(full_df[\"Card type\"] != \"Non-game card\") & (full_df[\"Primary type\"] == \"Link Monster\")],\n",
    "    column=\"Level/Rank/Link\",\n",
    "    operation=\"debut\",\n",
    "    crosstab=False,\n",
    ")\n",
    "link_debut.groupby(link_debut[\"Debut\"].dt.year)[\"Level/Rank/Link\"].describe()"
   ]
  },
  {
   "cell_type": "code",
   "execution_count": null,
   "id": "52",
   "metadata": {
    "papermill": {
     "duration": 0.833044,
     "end_time": "2025-05-24T06:29:25.944951",
     "exception": false,
     "start_time": "2025-05-24T06:29:25.111907",
     "status": "completed"
    },
    "tags": []
   },
   "outputs": [],
   "source": [
    "_ = plot.box(\n",
    "    link_debut,\n",
    "    color=plot.colors_dict[\"Link Monster\"],\n",
    "    notch=True,\n",
    ")\n",
    "plt.show()"
   ]
  },
  {
   "cell_type": "markdown",
   "id": "53",
   "metadata": {
    "papermill": {
     "duration": 1.312813,
     "end_time": "2025-05-24T06:29:28.148647",
     "exception": false,
     "start_time": "2025-05-24T06:29:26.835834",
     "status": "completed"
    },
    "tags": []
   },
   "source": [
    "### By ATK"
   ]
  },
  {
   "cell_type": "code",
   "execution_count": null,
   "id": "54",
   "metadata": {
    "papermill": {
     "duration": 9.359035,
     "end_time": "2025-05-24T06:29:38.055879",
     "exception": false,
     "start_time": "2025-05-24T06:29:28.696844",
     "status": "completed"
    },
    "tags": []
   },
   "outputs": [],
   "source": [
    "atk_debut = get_releases_by(\n",
    "    full_df[(full_df[\"Card type\"] != \"Non-game card\")], column=\"ATK\", operation=\"debut\", crosstab=False\n",
    ")\n",
    "atk_debut.groupby(atk_debut[\"Debut\"].dt.year)[\"ATK\"].describe()"
   ]
  },
  {
   "cell_type": "code",
   "execution_count": null,
   "id": "55",
   "metadata": {
    "papermill": {
     "duration": 3.233419,
     "end_time": "2025-05-24T06:29:41.959891",
     "exception": false,
     "start_time": "2025-05-24T06:29:38.726472",
     "status": "completed"
    },
    "tags": []
   },
   "outputs": [],
   "source": [
    "_ = plot.box(\n",
    "    atk_debut,\n",
    "    color=plot.colors_dict[\"Effect Monster\"],\n",
    "    notch=True,\n",
    ")\n",
    "plt.show()"
   ]
  },
  {
   "cell_type": "markdown",
   "id": "56",
   "metadata": {
    "papermill": {
     "duration": 0.684978,
     "end_time": "2025-05-24T06:29:43.269100",
     "exception": false,
     "start_time": "2025-05-24T06:29:42.584122",
     "status": "completed"
    },
    "tags": []
   },
   "source": [
    "### By DEF"
   ]
  },
  {
   "cell_type": "code",
   "execution_count": null,
   "id": "57",
   "metadata": {
    "papermill": {
     "duration": 7.19603,
     "end_time": "2025-05-24T06:29:51.236658",
     "exception": false,
     "start_time": "2025-05-24T06:29:44.040628",
     "status": "completed"
    },
    "tags": []
   },
   "outputs": [],
   "source": [
    "def_debut = get_releases_by(\n",
    "    full_df[(full_df[\"Card type\"] != \"Non-game card\")], column=\"DEF\", operation=\"debut\", crosstab=False\n",
    ")\n",
    "def_debut.groupby(def_debut[\"Debut\"].dt.year)[\"DEF\"].describe()"
   ]
  },
  {
   "cell_type": "code",
   "execution_count": null,
   "id": "58",
   "metadata": {
    "papermill": {
     "duration": 2.38417,
     "end_time": "2025-05-24T06:29:54.665208",
     "exception": false,
     "start_time": "2025-05-24T06:29:52.281038",
     "status": "completed"
    },
    "tags": []
   },
   "outputs": [],
   "source": [
    "_ = plot.box(\n",
    "    def_debut,\n",
    "    color=plot.colors_dict[\"Effect Monster\"],\n",
    "    notch=True,\n",
    ")\n",
    "plt.show()"
   ]
  },
  {
   "cell_type": "markdown",
   "id": "59",
   "metadata": {
    "papermill": {
     "duration": 1.074434,
     "end_time": "2025-05-24T06:29:56.351196",
     "exception": false,
     "start_time": "2025-05-24T06:29:55.276762",
     "status": "completed"
    },
    "tags": []
   },
   "source": [
    "## Last release"
   ]
  },
  {
   "cell_type": "markdown",
   "id": "60",
   "metadata": {
    "papermill": {
     "duration": 0.57976,
     "end_time": "2025-05-24T06:29:57.598371",
     "exception": false,
     "start_time": "2025-05-24T06:29:57.018611",
     "status": "completed"
    },
    "tags": []
   },
   "source": [
    "Obs: Only the last release of an individual card name"
   ]
  },
  {
   "cell_type": "code",
   "execution_count": null,
   "id": "61",
   "metadata": {
    "papermill": {
     "duration": 2.418512,
     "end_time": "2025-05-24T06:30:00.578893",
     "exception": false,
     "start_time": "2025-05-24T06:29:58.160381",
     "status": "completed"
    },
    "tags": []
   },
   "outputs": [],
   "source": [
    "last_counts = get_releases_by(full_df, column=None, operation=\"last\").value_counts(sort=False).rename(\"All formats\")\n",
    "last_counts.groupby(last_counts.index.strftime(\"%Y\")).sum()"
   ]
  },
  {
   "cell_type": "code",
   "execution_count": null,
   "id": "62",
   "metadata": {
    "papermill": {
     "duration": 5.06255,
     "end_time": "2025-05-24T06:30:07.366425",
     "exception": false,
     "start_time": "2025-05-24T06:30:02.303875",
     "status": "completed"
    },
    "tags": []
   },
   "outputs": [],
   "source": [
    "_ = plot.rate(last_counts, bg=anime_df, vlines=rules_df[\"begin\"], limit_year=True)\n",
    "plt.show()"
   ]
  },
  {
   "cell_type": "markdown",
   "id": "63",
   "metadata": {
    "papermill": {
     "duration": 0.878254,
     "end_time": "2025-05-24T06:30:09.733330",
     "exception": false,
     "start_time": "2025-05-24T06:30:08.855076",
     "status": "completed"
    },
    "tags": []
   },
   "source": [
    "### By Region"
   ]
  },
  {
   "cell_type": "code",
   "execution_count": null,
   "id": "64",
   "metadata": {
    "papermill": {
     "duration": 2.268185,
     "end_time": "2025-05-24T06:30:13.337622",
     "exception": false,
     "start_time": "2025-05-24T06:30:11.069437",
     "status": "completed"
    },
    "tags": []
   },
   "outputs": [],
   "source": [
    "full_df.groupby([\"Region\", \"Name\"])[\"Release\"].max().unstack(0)"
   ]
  },
  {
   "cell_type": "markdown",
   "id": "65",
   "metadata": {
    "papermill": {
     "duration": 0.687682,
     "end_time": "2025-05-24T06:30:14.784728",
     "exception": false,
     "start_time": "2025-05-24T06:30:14.097046",
     "status": "completed"
    },
    "tags": []
   },
   "source": [
    "Last releases by date"
   ]
  },
  {
   "cell_type": "code",
   "execution_count": null,
   "id": "66",
   "metadata": {
    "papermill": {
     "duration": 7.10544,
     "end_time": "2025-05-24T06:30:22.764710",
     "exception": false,
     "start_time": "2025-05-24T06:30:15.659270",
     "status": "completed"
    },
    "tags": []
   },
   "outputs": [],
   "source": [
    "region_last_counts = get_releases_by(full_df, column=\"Region\", operation=\"last\", crosstab=True)\n",
    "region_last_counts.groupby(region_last_counts.index.strftime(\"%Y\")).sum()"
   ]
  },
  {
   "cell_type": "code",
   "execution_count": null,
   "id": "67",
   "metadata": {
    "papermill": {
     "duration": 44.533039,
     "end_time": "2025-05-24T06:31:08.031114",
     "exception": false,
     "start_time": "2025-05-24T06:30:23.498075",
     "status": "completed"
    },
    "tags": []
   },
   "outputs": [],
   "source": [
    "_ = plot.rate(region_last_counts, bg=anime_df, vlines=rules_df[\"begin\"], subplots=True)\n",
    "plt.show()"
   ]
  },
  {
   "cell_type": "markdown",
   "id": "68",
   "metadata": {
    "papermill": {
     "duration": 0.730481,
     "end_time": "2025-05-24T06:31:09.668815",
     "exception": false,
     "start_time": "2025-05-24T06:31:08.938334",
     "status": "completed"
    },
    "tags": []
   },
   "source": [
    "### By Card type"
   ]
  },
  {
   "cell_type": "code",
   "execution_count": null,
   "id": "69",
   "metadata": {
    "papermill": {
     "duration": 7.864978,
     "end_time": "2025-05-24T06:31:18.646572",
     "exception": false,
     "start_time": "2025-05-24T06:31:10.781594",
     "status": "completed"
    },
    "tags": []
   },
   "outputs": [],
   "source": [
    "ct_last_counts = get_releases_by(full_df, column=\"Card type\", operation=\"last\", crosstab=True)\n",
    "ct_last_counts.groupby(ct_last_counts.index.strftime(\"%Y\")).sum()"
   ]
  },
  {
   "cell_type": "code",
   "execution_count": null,
   "id": "70",
   "metadata": {
    "papermill": {
     "duration": 6.187075,
     "end_time": "2025-05-24T06:31:25.981947",
     "exception": false,
     "start_time": "2025-05-24T06:31:19.794872",
     "status": "completed"
    },
    "tags": []
   },
   "outputs": [],
   "source": [
    "_ct_last_plot = ct_last_counts[[\"Monster Card\", \"Spell Card\", \"Trap Card\", \"Skill Card\"]]\n",
    "_ct_colors = [plot.colors_dict[col] for col in _ct_last_plot.columns]\n",
    "_ = plot.rate(\n",
    "    _ct_last_plot,\n",
    "    colors=_ct_colors,\n",
    "    bg=anime_df,\n",
    "    vlines=rules_df[\"begin\"],\n",
    "    subplots=False,\n",
    "    limit_year=True,\n",
    ")"
   ]
  },
  {
   "cell_type": "markdown",
   "id": "71",
   "metadata": {
    "papermill": {
     "duration": 0.80006,
     "end_time": "2025-05-24T06:31:27.581509",
     "exception": false,
     "start_time": "2025-05-24T06:31:26.781449",
     "status": "completed"
    },
    "tags": []
   },
   "source": [
    "### By Primary type"
   ]
  },
  {
   "cell_type": "code",
   "execution_count": null,
   "id": "72",
   "metadata": {
    "papermill": {
     "duration": 5.566831,
     "end_time": "2025-05-24T06:31:33.928535",
     "exception": false,
     "start_time": "2025-05-24T06:31:28.361704",
     "status": "completed"
    },
    "tags": []
   },
   "outputs": [],
   "source": [
    "pt_last_counts = get_releases_by(full_df, column=\"Primary type\", operation=\"last\", crosstab=True)\n",
    "pt_last_counts.groupby(pt_last_counts.index.strftime(\"%Y\")).sum()"
   ]
  },
  {
   "cell_type": "code",
   "execution_count": null,
   "id": "73",
   "metadata": {
    "papermill": {
     "duration": 3.790981,
     "end_time": "2025-05-24T06:31:38.420645",
     "exception": false,
     "start_time": "2025-05-24T06:31:34.629664",
     "status": "completed"
    },
    "tags": []
   },
   "outputs": [],
   "source": [
    "_pt_colors = [plot.colors_dict[col] for col in pt_last_counts.columns]\n",
    "_ = plot.rate(\n",
    "    pt_last_counts,\n",
    "    colors=_pt_colors,\n",
    "    bg=anime_df,\n",
    "    vlines=rules_df[\"begin\"],\n",
    "    subplots=False,\n",
    "    limit_year=True,\n",
    ")"
   ]
  },
  {
   "cell_type": "markdown",
   "id": "74",
   "metadata": {
    "papermill": {
     "duration": 0.833318,
     "end_time": "2025-05-24T06:31:39.979089",
     "exception": false,
     "start_time": "2025-05-24T06:31:39.145771",
     "status": "completed"
    },
    "tags": []
   },
   "source": [
    "### By Secondary type"
   ]
  },
  {
   "cell_type": "code",
   "execution_count": null,
   "id": "75",
   "metadata": {
    "papermill": {
     "duration": 7.859828,
     "end_time": "2025-05-24T06:31:48.786990",
     "exception": false,
     "start_time": "2025-05-24T06:31:40.927162",
     "status": "completed"
    },
    "tags": []
   },
   "outputs": [],
   "source": [
    "st_last_counts = get_releases_by(full_df, column=\"Secondary type\", operation=\"last\", crosstab=True)\n",
    "st_last_counts.groupby(st_last_counts.index.strftime(\"%Y\")).sum()"
   ]
  },
  {
   "cell_type": "code",
   "execution_count": null,
   "id": "76",
   "metadata": {
    "papermill": {
     "duration": 25.717936,
     "end_time": "2025-05-24T06:32:15.842939",
     "exception": false,
     "start_time": "2025-05-24T06:31:50.125003",
     "status": "completed"
    },
    "tags": []
   },
   "outputs": [],
   "source": [
    "_ = plot.rate(\n",
    "    st_last_counts,\n",
    "    bg=anime_df,\n",
    "    vlines=rules_df[\"begin\"],\n",
    "    subplots=True,\n",
    "    limit_year=True,\n",
    ")"
   ]
  },
  {
   "cell_type": "markdown",
   "id": "77",
   "metadata": {
    "papermill": {
     "duration": 1.542245,
     "end_time": "2025-05-24T06:32:18.152364",
     "exception": false,
     "start_time": "2025-05-24T06:32:16.610119",
     "status": "completed"
    },
    "tags": []
   },
   "source": [
    "### By Attribute"
   ]
  },
  {
   "cell_type": "code",
   "execution_count": null,
   "id": "78",
   "metadata": {
    "papermill": {
     "duration": 6.284013,
     "end_time": "2025-05-24T06:32:26.093054",
     "exception": false,
     "start_time": "2025-05-24T06:32:19.809041",
     "status": "completed"
    },
    "tags": []
   },
   "outputs": [],
   "source": [
    "att_last_counts = get_releases_by(full_df, column=\"Attribute\", operation=\"last\", crosstab=True)\n",
    "att_last_counts.groupby(att_last_counts.index.strftime(\"%Y\")).sum()"
   ]
  },
  {
   "cell_type": "code",
   "execution_count": null,
   "id": "79",
   "metadata": {
    "papermill": {
     "duration": 4.872744,
     "end_time": "2025-05-24T06:32:32.080474",
     "exception": false,
     "start_time": "2025-05-24T06:32:27.207730",
     "status": "completed"
    },
    "tags": []
   },
   "outputs": [],
   "source": [
    "attribute_colors = [plot.colors_dict[col] for col in att_last_counts.columns]\n",
    "_ = plot.rate(\n",
    "    att_last_counts,\n",
    "    colors=attribute_colors,\n",
    "    bg=anime_df,\n",
    "    vlines=rules_df[\"begin\"],\n",
    "    subplots=False,\n",
    "    limit_year=True,\n",
    ")"
   ]
  },
  {
   "cell_type": "markdown",
   "id": "80",
   "metadata": {
    "papermill": {
     "duration": 1.660266,
     "end_time": "2025-05-24T06:32:34.559497",
     "exception": false,
     "start_time": "2025-05-24T06:32:32.899231",
     "status": "completed"
    },
    "tags": []
   },
   "source": [
    "### By Monster type"
   ]
  },
  {
   "cell_type": "code",
   "execution_count": null,
   "id": "81",
   "metadata": {
    "papermill": {
     "duration": 6.103783,
     "end_time": "2025-05-24T06:32:41.455440",
     "exception": false,
     "start_time": "2025-05-24T06:32:35.351657",
     "status": "completed"
    },
    "tags": []
   },
   "outputs": [],
   "source": [
    "mt_last_counts = get_releases_by(full_df, column=\"Monster type\", operation=\"last\", crosstab=True)\n",
    "mt_last_counts.groupby(mt_last_counts.index.strftime(\"%Y\")).sum()"
   ]
  },
  {
   "cell_type": "code",
   "execution_count": null,
   "id": "82",
   "metadata": {
    "papermill": {
     "duration": 70.93367,
     "end_time": "2025-05-24T06:33:53.354881",
     "exception": false,
     "start_time": "2025-05-24T06:32:42.421211",
     "status": "completed"
    },
    "tags": []
   },
   "outputs": [],
   "source": [
    "_ = plot.rate(\n",
    "    mt_last_counts,\n",
    "    title=\"Debut\",\n",
    "    bg=anime_df,\n",
    "    vlines=rules_df[\"begin\"],\n",
    "    subplots=True,\n",
    "    limit_year=True,\n",
    ")"
   ]
  },
  {
   "cell_type": "markdown",
   "id": "83",
   "metadata": {
    "papermill": {
     "duration": 0.946583,
     "end_time": "2025-05-24T06:33:55.295170",
     "exception": false,
     "start_time": "2025-05-24T06:33:54.348587",
     "status": "completed"
    },
    "tags": []
   },
   "source": [
    "### By Level/Rank"
   ]
  },
  {
   "cell_type": "code",
   "execution_count": null,
   "id": "84",
   "metadata": {
    "papermill": {
     "duration": 4.32664,
     "end_time": "2025-05-24T06:34:00.584624",
     "exception": false,
     "start_time": "2025-05-24T06:33:56.257984",
     "status": "completed"
    },
    "tags": []
   },
   "outputs": [],
   "source": [
    "level_last = get_releases_by(\n",
    "    full_df[(full_df[\"Card type\"] != \"Non-game card\") & (full_df[\"Primary type\"] != \"Link Monster\")],\n",
    "    column=\"Level/Rank/Link\",\n",
    "    operation=\"last\",\n",
    "    crosstab=False,\n",
    ")\n",
    "level_last.groupby(level_last[\"Last release\"].dt.year)[\"Level/Rank/Link\"].describe()"
   ]
  },
  {
   "cell_type": "code",
   "execution_count": null,
   "id": "85",
   "metadata": {
    "papermill": {
     "duration": 2.002543,
     "end_time": "2025-05-24T06:34:03.671884",
     "exception": false,
     "start_time": "2025-05-24T06:34:01.669341",
     "status": "completed"
    },
    "tags": []
   },
   "outputs": [],
   "source": [
    "_ = plot.box(\n",
    "    level_last,\n",
    "    color=plot.colors_dict[\"Effect Monster\"],\n",
    "    notch=True,\n",
    ")\n",
    "plt.show()"
   ]
  },
  {
   "cell_type": "markdown",
   "id": "86",
   "metadata": {
    "papermill": {
     "duration": 1.016043,
     "end_time": "2025-05-24T06:34:05.653482",
     "exception": false,
     "start_time": "2025-05-24T06:34:04.637439",
     "status": "completed"
    },
    "tags": []
   },
   "source": [
    "### By Pendulum scale"
   ]
  },
  {
   "cell_type": "code",
   "execution_count": null,
   "id": "87",
   "metadata": {
    "papermill": {
     "duration": 5.752089,
     "end_time": "2025-05-24T06:34:12.557929",
     "exception": false,
     "start_time": "2025-05-24T06:34:06.805840",
     "status": "completed"
    },
    "tags": []
   },
   "outputs": [],
   "source": [
    "pendulum_last = get_releases_by(\n",
    "    full_df[(full_df[\"Card type\"] != \"Non-game card\")], column=\"Pendulum Scale\", operation=\"last\", crosstab=False\n",
    ")\n",
    "pendulum_last.groupby(pendulum_last[\"Last release\"].dt.year)[\"Pendulum Scale\"].describe()"
   ]
  },
  {
   "cell_type": "code",
   "execution_count": null,
   "id": "88",
   "metadata": {
    "papermill": {
     "duration": 1.39028,
     "end_time": "2025-05-24T06:34:14.922054",
     "exception": false,
     "start_time": "2025-05-24T06:34:13.531774",
     "status": "completed"
    },
    "tags": []
   },
   "outputs": [],
   "source": [
    "_ = plot.box(\n",
    "    pendulum_last,\n",
    "    color=plot.colors_dict[\"Spell Card\"],\n",
    "    notch=True,\n",
    ")\n",
    "plt.show()"
   ]
  },
  {
   "cell_type": "markdown",
   "id": "89",
   "metadata": {
    "papermill": {
     "duration": 1.064506,
     "end_time": "2025-05-24T06:34:16.949774",
     "exception": false,
     "start_time": "2025-05-24T06:34:15.885268",
     "status": "completed"
    },
    "tags": []
   },
   "source": [
    "### By Link"
   ]
  },
  {
   "cell_type": "code",
   "execution_count": null,
   "id": "90",
   "metadata": {
    "papermill": {
     "duration": 1.482933,
     "end_time": "2025-05-24T06:34:19.406881",
     "exception": false,
     "start_time": "2025-05-24T06:34:17.923948",
     "status": "completed"
    },
    "tags": []
   },
   "outputs": [],
   "source": [
    "link_last = get_releases_by(\n",
    "    full_df[(full_df[\"Card type\"] != \"Non-game card\") & (full_df[\"Primary type\"] == \"Link Monster\")],\n",
    "    column=\"Level/Rank/Link\",\n",
    "    operation=\"last\",\n",
    "    crosstab=False,\n",
    ")\n",
    "link_last.groupby(link_last[\"Last release\"].dt.year)[\"Level/Rank/Link\"].describe()"
   ]
  },
  {
   "cell_type": "code",
   "execution_count": null,
   "id": "91",
   "metadata": {
    "papermill": {
     "duration": 1.321705,
     "end_time": "2025-05-24T06:34:21.775941",
     "exception": false,
     "start_time": "2025-05-24T06:34:20.454236",
     "status": "completed"
    },
    "tags": []
   },
   "outputs": [],
   "source": [
    "_ = plot.box(\n",
    "    link_last,\n",
    "    color=plot.colors_dict[\"Link Monster\"],\n",
    "    notch=True,\n",
    ")\n",
    "plt.show()"
   ]
  },
  {
   "cell_type": "markdown",
   "id": "92",
   "metadata": {
    "papermill": {
     "duration": 0.949808,
     "end_time": "2025-05-24T06:34:23.696622",
     "exception": false,
     "start_time": "2025-05-24T06:34:22.746814",
     "status": "completed"
    },
    "tags": []
   },
   "source": [
    "### By ATK"
   ]
  },
  {
   "cell_type": "code",
   "execution_count": null,
   "id": "93",
   "metadata": {
    "papermill": {
     "duration": 5.298704,
     "end_time": "2025-05-24T06:34:29.969155",
     "exception": false,
     "start_time": "2025-05-24T06:34:24.670451",
     "status": "completed"
    },
    "tags": []
   },
   "outputs": [],
   "source": [
    "atk_last = get_releases_by(\n",
    "    full_df[(full_df[\"Card type\"] != \"Non-game card\")], column=\"ATK\", operation=\"last\", crosstab=False\n",
    ")\n",
    "atk_last.groupby(atk_last[\"Last release\"].dt.year)[\"ATK\"].describe()"
   ]
  },
  {
   "cell_type": "code",
   "execution_count": null,
   "id": "94",
   "metadata": {
    "papermill": {
     "duration": 1.749864,
     "end_time": "2025-05-24T06:34:32.923465",
     "exception": false,
     "start_time": "2025-05-24T06:34:31.173601",
     "status": "completed"
    },
    "tags": []
   },
   "outputs": [],
   "source": [
    "_ = plot.box(\n",
    "    atk_last,\n",
    "    color=plot.colors_dict[\"Effect Monster\"],\n",
    "    notch=True,\n",
    ")\n",
    "plt.show()"
   ]
  },
  {
   "cell_type": "markdown",
   "id": "95",
   "metadata": {
    "papermill": {
     "duration": 0.944237,
     "end_time": "2025-05-24T06:34:34.851587",
     "exception": false,
     "start_time": "2025-05-24T06:34:33.907350",
     "status": "completed"
    },
    "tags": []
   },
   "source": [
    "### By DEF"
   ]
  },
  {
   "cell_type": "code",
   "execution_count": null,
   "id": "96",
   "metadata": {
    "papermill": {
     "duration": 5.646055,
     "end_time": "2025-05-24T06:34:41.472991",
     "exception": false,
     "start_time": "2025-05-24T06:34:35.826936",
     "status": "completed"
    },
    "tags": []
   },
   "outputs": [],
   "source": [
    "def_last = get_releases_by(\n",
    "    full_df[(full_df[\"Card type\"] != \"Non-game card\")], column=\"DEF\", operation=\"last\", crosstab=False\n",
    ")\n",
    "def_last.groupby(def_last[\"Last release\"].dt.year)[\"DEF\"].describe()"
   ]
  },
  {
   "cell_type": "code",
   "execution_count": null,
   "id": "97",
   "metadata": {
    "papermill": {
     "duration": 1.796274,
     "end_time": "2025-05-24T06:34:44.258517",
     "exception": false,
     "start_time": "2025-05-24T06:34:42.462243",
     "status": "completed"
    },
    "tags": []
   },
   "outputs": [],
   "source": [
    "_ = plot.box(\n",
    "    def_last,\n",
    "    color=plot.colors_dict[\"Effect Monster\"],\n",
    "    notch=True,\n",
    ")\n",
    "plt.show()"
   ]
  },
  {
   "cell_type": "markdown",
   "id": "98",
   "metadata": {
    "papermill": {
     "duration": 0.947769,
     "end_time": "2025-05-24T06:34:46.175728",
     "exception": false,
     "start_time": "2025-05-24T06:34:45.227959",
     "status": "completed"
    },
    "tags": []
   },
   "source": [
    "## All releases"
   ]
  },
  {
   "cell_type": "markdown",
   "id": "99",
   "metadata": {
    "papermill": {
     "duration": 0.962978,
     "end_time": "2025-05-24T06:34:48.116979",
     "exception": false,
     "start_time": "2025-05-24T06:34:47.154001",
     "status": "completed"
    },
    "tags": []
   },
   "source": [
    "Obs: All releases includes reprints"
   ]
  },
  {
   "cell_type": "code",
   "execution_count": null,
   "id": "100",
   "metadata": {
    "papermill": {
     "duration": 16.183161,
     "end_time": "2025-05-24T06:35:05.262918",
     "exception": false,
     "start_time": "2025-05-24T06:34:49.079757",
     "status": "completed"
    },
    "tags": []
   },
   "outputs": [],
   "source": [
    "full_df[full_df[\"Release\"].notna()].groupby(\"Name\")[\"Release\"].unique().explode().reset_index().set_index(\n",
    "    \"Release\"\n",
    ").sort_index()"
   ]
  },
  {
   "cell_type": "code",
   "execution_count": null,
   "id": "101",
   "metadata": {
    "papermill": {
     "duration": 8.019681,
     "end_time": "2025-05-24T06:35:14.248645",
     "exception": false,
     "start_time": "2025-05-24T06:35:06.228964",
     "status": "completed"
    },
    "tags": []
   },
   "outputs": [],
   "source": [
    "all_releases = (\n",
    "    get_releases_by(full_df, column=None, operation=\"all\", crosstab=False).value_counts(sort=False).rename(\"All formats\")\n",
    ")\n",
    "_ = plot.rate(all_releases, bg=anime_df, vlines=rules_df[\"begin\"], limit_year=True)\n",
    "plt.show()"
   ]
  },
  {
   "cell_type": "markdown",
   "id": "102",
   "metadata": {
    "papermill": {
     "duration": 0.959246,
     "end_time": "2025-05-24T06:35:16.233126",
     "exception": false,
     "start_time": "2025-05-24T06:35:15.273880",
     "status": "completed"
    },
    "tags": []
   },
   "source": [
    "### By Region"
   ]
  },
  {
   "cell_type": "code",
   "execution_count": null,
   "id": "103",
   "metadata": {
    "papermill": {
     "duration": 28.266803,
     "end_time": "2025-05-24T06:35:45.476231",
     "exception": false,
     "start_time": "2025-05-24T06:35:17.209428",
     "status": "completed"
    },
    "tags": []
   },
   "outputs": [],
   "source": [
    "region_release_counts = get_releases_by(full_df, column=\"Region\", operation=\"all\", crosstab=True)\n",
    "region_release_counts.groupby(region_release_counts.index.strftime(\"%Y\")).sum()"
   ]
  },
  {
   "cell_type": "code",
   "execution_count": null,
   "id": "104",
   "metadata": {
    "papermill": {
     "duration": 33.496459,
     "end_time": "2025-05-24T06:36:19.948564",
     "exception": false,
     "start_time": "2025-05-24T06:35:46.452105",
     "status": "completed"
    },
    "tags": []
   },
   "outputs": [],
   "source": [
    "_ = plot.rate(region_release_counts, bg=anime_df, vlines=rules_df[\"begin\"], limit_year=True, subplots=True)\n",
    "plt.show()"
   ]
  },
  {
   "cell_type": "markdown",
   "id": "105",
   "metadata": {
    "papermill": {
     "duration": 1.093725,
     "end_time": "2025-05-24T06:36:22.265266",
     "exception": false,
     "start_time": "2025-05-24T06:36:21.171541",
     "status": "completed"
    },
    "tags": []
   },
   "source": [
    "### By Card type"
   ]
  },
  {
   "cell_type": "code",
   "execution_count": null,
   "id": "106",
   "metadata": {
    "papermill": {
     "duration": 9.245004,
     "end_time": "2025-05-24T06:36:32.647688",
     "exception": false,
     "start_time": "2025-05-24T06:36:23.402684",
     "status": "completed"
    },
    "tags": []
   },
   "outputs": [],
   "source": [
    "ct_release_counts = get_releases_by(full_df, column=\"Card type\", operation=\"all\", crosstab=True)\n",
    "ct_release_counts.groupby(ct_release_counts.index.strftime(\"%Y\")).sum()"
   ]
  },
  {
   "cell_type": "code",
   "execution_count": null,
   "id": "107",
   "metadata": {
    "papermill": {
     "duration": 3.076541,
     "end_time": "2025-05-24T06:36:36.916749",
     "exception": false,
     "start_time": "2025-05-24T06:36:33.840208",
     "status": "completed"
    },
    "tags": []
   },
   "outputs": [],
   "source": [
    "_ct_release_plot = ct_release_counts[[\"Monster Card\", \"Spell Card\", \"Trap Card\", \"Skill Card\"]]\n",
    "_ct_colors = [plot.colors_dict[col] for col in _ct_release_plot.columns]\n",
    "_ = plot.rate(_ct_release_plot, colors=_ct_colors, bg=anime_df, vlines=rules_df[\"begin\"], limit_year=True)\n",
    "plt.show()"
   ]
  },
  {
   "cell_type": "markdown",
   "id": "108",
   "metadata": {
    "papermill": {
     "duration": 1.146908,
     "end_time": "2025-05-24T06:36:39.187838",
     "exception": false,
     "start_time": "2025-05-24T06:36:38.040930",
     "status": "completed"
    },
    "tags": []
   },
   "source": [
    "### By Primary type"
   ]
  },
  {
   "cell_type": "code",
   "execution_count": null,
   "id": "109",
   "metadata": {
    "papermill": {
     "duration": 8.244688,
     "end_time": "2025-05-24T06:36:48.576001",
     "exception": false,
     "start_time": "2025-05-24T06:36:40.331313",
     "status": "completed"
    },
    "tags": []
   },
   "outputs": [],
   "source": [
    "pt_release_counts = get_releases_by(full_df, column=\"Primary type\", operation=\"all\", crosstab=True)\n",
    "pt_release_counts.groupby(pt_release_counts.index.strftime(\"%Y\")).sum()"
   ]
  },
  {
   "cell_type": "code",
   "execution_count": null,
   "id": "110",
   "metadata": {
    "papermill": {
     "duration": 3.121137,
     "end_time": "2025-05-24T06:36:52.843558",
     "exception": false,
     "start_time": "2025-05-24T06:36:49.722421",
     "status": "completed"
    },
    "tags": []
   },
   "outputs": [],
   "source": [
    "primary_type_colors = [plot.colors_dict[col] for col in pt_release_counts.columns]\n",
    "_ = plot.rate(pt_release_counts, colors=primary_type_colors, bg=anime_df, vlines=rules_df[\"begin\"], limit_year=True)\n",
    "plt.show()"
   ]
  },
  {
   "cell_type": "markdown",
   "id": "111",
   "metadata": {
    "papermill": {
     "duration": 1.577126,
     "end_time": "2025-05-24T06:36:55.608801",
     "exception": false,
     "start_time": "2025-05-24T06:36:54.031675",
     "status": "completed"
    },
    "tags": []
   },
   "source": [
    "### By Secondary type"
   ]
  },
  {
   "cell_type": "code",
   "execution_count": null,
   "id": "112",
   "metadata": {
    "papermill": {
     "duration": 6.396723,
     "end_time": "2025-05-24T06:37:03.481623",
     "exception": false,
     "start_time": "2025-05-24T06:36:57.084900",
     "status": "completed"
    },
    "tags": []
   },
   "outputs": [],
   "source": [
    "st_release_counts = get_releases_by(full_df, column=\"Secondary type\", operation=\"all\", crosstab=True)\n",
    "st_release_counts.groupby(st_release_counts.index.strftime(\"%Y\")).sum()"
   ]
  },
  {
   "cell_type": "code",
   "execution_count": null,
   "id": "113",
   "metadata": {
    "papermill": {
     "duration": 14.384891,
     "end_time": "2025-05-24T06:37:19.046891",
     "exception": false,
     "start_time": "2025-05-24T06:37:04.662000",
     "status": "completed"
    },
    "tags": []
   },
   "outputs": [],
   "source": [
    "_ = plot.rate(st_release_counts, bg=anime_df, vlines=rules_df[\"begin\"], limit_year=True, subplots=True)\n",
    "plt.show()"
   ]
  },
  {
   "cell_type": "markdown",
   "id": "114",
   "metadata": {
    "papermill": {
     "duration": 1.285926,
     "end_time": "2025-05-24T06:37:21.624823",
     "exception": false,
     "start_time": "2025-05-24T06:37:20.338897",
     "status": "completed"
    },
    "tags": []
   },
   "source": [
    "### By Attribute"
   ]
  },
  {
   "cell_type": "code",
   "execution_count": null,
   "id": "115",
   "metadata": {
    "papermill": {
     "duration": 7.80577,
     "end_time": "2025-05-24T06:37:30.648800",
     "exception": false,
     "start_time": "2025-05-24T06:37:22.843030",
     "status": "completed"
    },
    "tags": []
   },
   "outputs": [],
   "source": [
    "att_release_counts = get_releases_by(full_df, column=\"Attribute\", operation=\"all\", crosstab=True)\n",
    "att_release_counts.groupby(att_release_counts.index.strftime(\"%Y\")).sum()"
   ]
  },
  {
   "cell_type": "code",
   "execution_count": null,
   "id": "116",
   "metadata": {
    "papermill": {
     "duration": 3.17505,
     "end_time": "2025-05-24T06:37:35.301586",
     "exception": false,
     "start_time": "2025-05-24T06:37:32.126536",
     "status": "completed"
    },
    "tags": []
   },
   "outputs": [],
   "source": [
    "attribute_colors = [plot.colors_dict[col] for col in att_release_counts.columns]\n",
    "_ = plot.rate(\n",
    "    att_release_counts, colors=attribute_colors, bg=anime_df, vlines=rules_df[\"begin\"], cumsum=True, limit_year=True\n",
    ")\n",
    "plt.show()"
   ]
  },
  {
   "cell_type": "markdown",
   "id": "117",
   "metadata": {
    "papermill": {
     "duration": 1.251001,
     "end_time": "2025-05-24T06:37:37.859512",
     "exception": false,
     "start_time": "2025-05-24T06:37:36.608511",
     "status": "completed"
    },
    "tags": []
   },
   "source": [
    "### By Monster type"
   ]
  },
  {
   "cell_type": "code",
   "execution_count": null,
   "id": "118",
   "metadata": {
    "papermill": {
     "duration": 7.996326,
     "end_time": "2025-05-24T06:37:47.117076",
     "exception": false,
     "start_time": "2025-05-24T06:37:39.120750",
     "status": "completed"
    },
    "tags": []
   },
   "outputs": [],
   "source": [
    "mt_release_counts = get_releases_by(full_df, column=\"Monster type\", operation=\"all\", crosstab=True)\n",
    "mt_release_counts.groupby(mt_release_counts.index.strftime(\"%Y\")).sum()"
   ]
  },
  {
   "cell_type": "code",
   "execution_count": null,
   "id": "119",
   "metadata": {
    "papermill": {
     "duration": 58.523732,
     "end_time": "2025-05-24T06:38:46.970006",
     "exception": false,
     "start_time": "2025-05-24T06:37:48.446274",
     "status": "completed"
    },
    "tags": []
   },
   "outputs": [],
   "source": [
    "_ = plot.rate(mt_release_counts, bg=anime_df, vlines=rules_df[\"begin\"], subplots=True, limit_year=True)\n",
    "plt.show()"
   ]
  },
  {
   "cell_type": "markdown",
   "id": "120",
   "metadata": {
    "papermill": {
     "duration": 1.598575,
     "end_time": "2025-05-24T06:38:50.305663",
     "exception": false,
     "start_time": "2025-05-24T06:38:48.707088",
     "status": "completed"
    },
    "tags": []
   },
   "source": [
    "### By Level/Rank"
   ]
  },
  {
   "cell_type": "code",
   "execution_count": null,
   "id": "121",
   "metadata": {
    "papermill": {
     "duration": 7.974698,
     "end_time": "2025-05-24T06:38:59.885943",
     "exception": false,
     "start_time": "2025-05-24T06:38:51.911245",
     "status": "completed"
    },
    "tags": []
   },
   "outputs": [],
   "source": [
    "level_release = get_releases_by(\n",
    "    full_df[(full_df[\"Card type\"] != \"Non-game card\") & (full_df[\"Primary type\"] != \"Link Monster\")],\n",
    "    column=\"Level/Rank/Link\",\n",
    "    operation=\"all\",\n",
    "    crosstab=False,\n",
    ")\n",
    "level_release.groupby(level_release[\"All releases\"].dt.year)[\"Level/Rank/Link\"].describe()"
   ]
  },
  {
   "cell_type": "code",
   "execution_count": null,
   "id": "122",
   "metadata": {
    "papermill": {
     "duration": 6.1644,
     "end_time": "2025-05-24T06:39:07.612850",
     "exception": false,
     "start_time": "2025-05-24T06:39:01.448450",
     "status": "completed"
    },
    "tags": []
   },
   "outputs": [],
   "source": [
    "_ = plot.box(\n",
    "    level_release,\n",
    "    color=plot.colors_dict[\"Level\"],\n",
    "    notch=True,\n",
    ")\n",
    "plt.show()"
   ]
  },
  {
   "cell_type": "markdown",
   "id": "123",
   "metadata": {
    "papermill": {
     "duration": 1.546995,
     "end_time": "2025-05-24T06:39:10.719375",
     "exception": false,
     "start_time": "2025-05-24T06:39:09.172380",
     "status": "completed"
    },
    "tags": []
   },
   "source": [
    "### By Pendulum scale"
   ]
  },
  {
   "cell_type": "code",
   "execution_count": null,
   "id": "124",
   "metadata": {
    "papermill": {
     "duration": 5.806787,
     "end_time": "2025-05-24T06:39:18.084137",
     "exception": false,
     "start_time": "2025-05-24T06:39:12.277350",
     "status": "completed"
    },
    "tags": []
   },
   "outputs": [],
   "source": [
    "pendulum_release = get_releases_by(\n",
    "    full_df[(full_df[\"Card type\"] != \"Non-game card\")],\n",
    "    column=\"Pendulum Scale\",\n",
    "    operation=\"all\",\n",
    "    crosstab=False,\n",
    ")\n",
    "pendulum_release.groupby(pendulum_release[\"All releases\"].dt.year)[\"Pendulum Scale\"].describe()"
   ]
  },
  {
   "cell_type": "code",
   "execution_count": null,
   "id": "125",
   "metadata": {
    "papermill": {
     "duration": 2.363973,
     "end_time": "2025-05-24T06:39:21.982019",
     "exception": false,
     "start_time": "2025-05-24T06:39:19.618046",
     "status": "completed"
    },
    "tags": []
   },
   "outputs": [],
   "source": [
    "_ = plot.box(\n",
    "    pendulum_release,\n",
    "    color=plot.colors_dict[\"Pendulum Monster\"],\n",
    "    notch=True,\n",
    ")\n",
    "plt.show()"
   ]
  },
  {
   "cell_type": "markdown",
   "id": "126",
   "metadata": {
    "papermill": {
     "duration": 1.472147,
     "end_time": "2025-05-24T06:39:24.949154",
     "exception": false,
     "start_time": "2025-05-24T06:39:23.477007",
     "status": "completed"
    },
    "tags": []
   },
   "source": [
    "### By Link"
   ]
  },
  {
   "cell_type": "code",
   "execution_count": null,
   "id": "127",
   "metadata": {
    "papermill": {
     "duration": 1.95173,
     "end_time": "2025-05-24T06:39:28.405668",
     "exception": false,
     "start_time": "2025-05-24T06:39:26.453938",
     "status": "completed"
    },
    "tags": []
   },
   "outputs": [],
   "source": [
    "link_release = get_releases_by(\n",
    "    full_df[(full_df[\"Card type\"] != \"Non-game card\") & (full_df[\"Primary type\"] == \"Link Monster\")],\n",
    "    column=\"Level/Rank/Link\",\n",
    "    operation=\"all\",\n",
    "    crosstab=False,\n",
    ")\n",
    "link_release.groupby(link_release[\"All releases\"].dt.year)[\"Level/Rank/Link\"].describe()"
   ]
  },
  {
   "cell_type": "code",
   "execution_count": null,
   "id": "128",
   "metadata": {
    "papermill": {
     "duration": 1.908006,
     "end_time": "2025-05-24T06:39:31.800588",
     "exception": false,
     "start_time": "2025-05-24T06:39:29.892582",
     "status": "completed"
    },
    "tags": []
   },
   "outputs": [],
   "source": [
    "_ = plot.box(\n",
    "    link_release,\n",
    "    color=plot.colors_dict[\"Link Monster\"],\n",
    ")\n",
    "plt.show()"
   ]
  },
  {
   "cell_type": "markdown",
   "id": "129",
   "metadata": {
    "papermill": {
     "duration": 1.489571,
     "end_time": "2025-05-24T06:39:34.851570",
     "exception": false,
     "start_time": "2025-05-24T06:39:33.361999",
     "status": "completed"
    },
    "tags": []
   },
   "source": [
    "### By ATK"
   ]
  },
  {
   "cell_type": "code",
   "execution_count": null,
   "id": "130",
   "metadata": {
    "papermill": {
     "duration": 8.009072,
     "end_time": "2025-05-24T06:39:44.353057",
     "exception": false,
     "start_time": "2025-05-24T06:39:36.343985",
     "status": "completed"
    },
    "tags": []
   },
   "outputs": [],
   "source": [
    "atk_release = get_releases_by(\n",
    "    full_df[full_df[\"Card type\"] != \"Non-game card\"], column=\"ATK\", operation=\"all\", crosstab=False\n",
    ")\n",
    "atk_release.groupby(atk_release[\"All releases\"].dt.year)[\"ATK\"].describe()"
   ]
  },
  {
   "cell_type": "code",
   "execution_count": null,
   "id": "131",
   "metadata": {
    "papermill": {
     "duration": 3.35204,
     "end_time": "2025-05-24T06:39:49.200119",
     "exception": false,
     "start_time": "2025-05-24T06:39:45.848079",
     "status": "completed"
    },
    "tags": []
   },
   "outputs": [],
   "source": [
    "_ = plot.box(\n",
    "    atk_release,\n",
    "    color=plot.colors_dict[\"Effect Monster\"],\n",
    "    notch=True,\n",
    ")\n",
    "plt.show()"
   ]
  },
  {
   "cell_type": "markdown",
   "id": "132",
   "metadata": {
    "papermill": {
     "duration": 1.47157,
     "end_time": "2025-05-24T06:39:52.363643",
     "exception": false,
     "start_time": "2025-05-24T06:39:50.892073",
     "status": "completed"
    },
    "tags": []
   },
   "source": [
    "### By DEF"
   ]
  },
  {
   "cell_type": "code",
   "execution_count": null,
   "id": "133",
   "metadata": {
    "papermill": {
     "duration": 9.294375,
     "end_time": "2025-05-24T06:40:03.165456",
     "exception": false,
     "start_time": "2025-05-24T06:39:53.871081",
     "status": "completed"
    },
    "tags": []
   },
   "outputs": [],
   "source": [
    "def_release = get_releases_by(\n",
    "    full_df[full_df[\"Card type\"] != \"Non-game card\"], column=\"DEF\", operation=\"all\", crosstab=False\n",
    ")\n",
    "def_release.groupby(def_release[\"All releases\"].dt.year)[\"DEF\"].describe()"
   ]
  },
  {
   "cell_type": "code",
   "execution_count": null,
   "id": "134",
   "metadata": {
    "papermill": {
     "duration": 3.847789,
     "end_time": "2025-05-24T06:40:08.537032",
     "exception": false,
     "start_time": "2025-05-24T06:40:04.689243",
     "status": "completed"
    },
    "tags": []
   },
   "outputs": [],
   "source": [
    "_ = plot.box(\n",
    "    def_release,\n",
    "    color=plot.colors_dict[\"Effect Monster\"],\n",
    "    notch=True,\n",
    ")\n",
    "plt.show()"
   ]
  },
  {
   "cell_type": "markdown",
   "id": "135",
   "metadata": {
    "papermill": {
     "duration": 2.276971,
     "end_time": "2025-05-24T06:40:12.721310",
     "exception": false,
     "start_time": "2025-05-24T06:40:10.444339",
     "status": "completed"
    },
    "tags": []
   },
   "source": [
    "# Merge failed"
   ]
  },
  {
   "cell_type": "markdown",
   "id": "136",
   "metadata": {
    "papermill": {
     "duration": 2.308124,
     "end_time": "2025-05-24T06:40:17.260275",
     "exception": false,
     "start_time": "2025-05-24T06:40:14.952151",
     "status": "completed"
    },
    "tags": []
   },
   "source": [
    "## Names missing"
   ]
  },
  {
   "cell_type": "markdown",
   "id": "137",
   "metadata": {
    "papermill": {
     "duration": 2.270768,
     "end_time": "2025-05-24T06:40:21.317556",
     "exception": false,
     "start_time": "2025-05-24T06:40:19.046788",
     "status": "completed"
    },
    "tags": []
   },
   "source": [
    "Likely due to card being renamed but the old name kept in the set lists"
   ]
  },
  {
   "cell_type": "code",
   "execution_count": null,
   "id": "138",
   "metadata": {
    "papermill": {
     "duration": 3.176053,
     "end_time": "2025-05-24T06:40:26.594921",
     "exception": false,
     "start_time": "2025-05-24T06:40:23.418868",
     "status": "completed"
    },
    "tags": []
   },
   "outputs": [],
   "source": [
    "cards_df.where(~cards_df[\"Name\"].isin(full_df[\"Name\"])).dropna(how=\"all\")"
   ]
  },
  {
   "cell_type": "markdown",
   "id": "139",
   "metadata": {
    "papermill": {
     "duration": 1.66173,
     "end_time": "2025-05-24T06:40:30.314461",
     "exception": false,
     "start_time": "2025-05-24T06:40:28.652731",
     "status": "completed"
    },
    "tags": []
   },
   "source": [
    "## Card number missing"
   ]
  },
  {
   "cell_type": "markdown",
   "id": "140",
   "metadata": {
    "papermill": {
     "duration": 1.595772,
     "end_time": "2025-05-24T06:40:33.691082",
     "exception": false,
     "start_time": "2025-05-24T06:40:32.095310",
     "status": "completed"
    },
    "tags": []
   },
   "source": [
    "Likely old OCG cards without card number"
   ]
  },
  {
   "cell_type": "code",
   "execution_count": null,
   "id": "141",
   "metadata": {
    "papermill": {
     "duration": 2.442641,
     "end_time": "2025-05-24T06:40:37.646196",
     "exception": false,
     "start_time": "2025-05-24T06:40:35.203555",
     "status": "completed"
    },
    "tags": []
   },
   "outputs": [],
   "source": [
    "set_lists_df.where(\n",
    "    (~set_lists_df[\"Card number\"].isin(full_df[\"Card number\"]))\n",
    "    & (~set_lists_df[\"Card number\"].dropna().str.startswith(\"RD/\"))\n",
    ").dropna(how=\"all\")"
   ]
  },
  {
   "cell_type": "markdown",
   "id": "142",
   "metadata": {
    "papermill": {
     "duration": 1.615269,
     "end_time": "2025-05-24T06:40:40.760948",
     "exception": false,
     "start_time": "2025-05-24T06:40:39.145679",
     "status": "completed"
    },
    "tags": []
   },
   "source": [
    "# Epilogue"
   ]
  },
  {
   "cell_type": "code",
   "execution_count": null,
   "id": "143",
   "metadata": {
    "papermill": {
     "duration": 15.312499,
     "end_time": "2025-05-24T06:40:57.606200",
     "exception": false,
     "start_time": "2025-05-24T06:40:42.293701",
     "status": "completed"
    },
    "tags": []
   },
   "outputs": [],
   "source": [
    "benchmark(report=\"timeline\", timestamp=timestamp)"
   ]
  },
  {
   "cell_type": "code",
   "execution_count": null,
   "id": "144",
   "metadata": {
    "papermill": {
     "duration": 1.610187,
     "end_time": "2025-05-24T06:41:00.708259",
     "exception": false,
     "start_time": "2025-05-24T06:40:59.098072",
     "status": "completed"
    },
    "tags": []
   },
   "outputs": [],
   "source": [
    "footer()"
   ]
  },
  {
   "cell_type": "markdown",
   "id": "145",
   "metadata": {
    "papermill": {
     "duration": 1.490502,
     "end_time": "2025-05-24T06:41:03.714666",
     "exception": false,
     "start_time": "2025-05-24T06:41:02.224164",
     "status": "completed"
    },
    "tags": []
   },
   "source": [
    "## HTML export"
   ]
  },
  {
   "cell_type": "code",
   "execution_count": null,
   "id": "146",
   "metadata": {
    "papermill": {
     "duration": 1.532418,
     "end_time": "2025-05-24T06:41:06.746021",
     "exception": false,
     "start_time": "2025-05-24T06:41:05.213603",
     "status": "completed"
    },
    "tags": []
   },
   "outputs": [],
   "source": [
    "# May need to sleep for a few seconds after saving\n",
    "save_notebook()"
   ]
  },
  {
   "cell_type": "code",
   "execution_count": null,
   "id": "147",
   "metadata": {
    "papermill": {
     "duration": 9.153674,
     "end_time": "2025-05-24T06:41:17.426741",
     "exception": false,
     "start_time": "2025-05-24T06:41:08.273067",
     "status": "completed"
    },
    "tags": []
   },
   "outputs": [],
   "source": [
    "export_notebook(dirs.NOTEBOOKS.user / \"Timeline.ipynb\")"
   ]
  },
  {
   "cell_type": "markdown",
   "id": "148",
   "metadata": {
    "papermill": {
     "duration": 1.586354,
     "end_time": "2025-05-24T06:41:20.536562",
     "exception": false,
     "start_time": "2025-05-24T06:41:18.950208",
     "status": "completed"
    },
    "tags": [
     "exclude"
    ]
   },
   "source": [
    "## Git"
   ]
  },
  {
   "cell_type": "code",
   "execution_count": null,
   "id": "149",
   "metadata": {
    "papermill": {
     "duration": null,
     "end_time": null,
     "exception": false,
     "start_time": "2025-05-24T06:41:22.125880",
     "status": "running"
    },
    "tags": [
     "exclude"
    ]
   },
   "outputs": [],
   "source": [
    "git.commit(\"*[Tt]imeline*\", f\"Timeline update - {timestamp.isoformat()}\")"
   ]
  }
 ],
 "metadata": {
  "kernelspec": {
   "display_name": "venv",
   "language": "python",
   "name": "python3"
  },
  "language_info": {
   "codemirror_mode": {
    "name": "ipython",
    "version": 3
   },
   "file_extension": ".py",
   "mimetype": "text/x-python",
   "name": "python",
   "nbconvert_exporter": "python",
   "pygments_lexer": "ipython3",
   "version": "3.11.6"
  },
  "papermill": {
   "default_parameters": {},
   "duration": null,
   "end_time": null,
   "environment_variables": {},
   "exception": null,
   "input_path": "/home/jovyan/yugiquery/notebooks/Timeline.ipynb",
   "output_path": "/home/jovyan/yugiquery/notebooks/Timeline.ipynb",
   "parameters": {},
   "start_time": "2025-05-24T06:24:39.954513",
   "version": "2.6.0"
  },
  "toc": {
   "base_numbering": 1,
   "nav_menu": {},
   "number_sections": true,
   "sideBar": true,
   "skip_h1_title": false,
   "title_cell": "Table of Contents",
   "title_sidebar": "Contents",
   "toc_cell": true,
   "toc_position": {},
   "toc_section_display": true,
   "toc_window_display": true
  }
 },
 "nbformat": 4,
 "nbformat_minor": 5
}
