{
 "cells": [
  {
   "cell_type": "code",
   "execution_count": null,
   "id": "0",
   "metadata": {
    "papermill": {
     "duration": 3.505919,
     "end_time": "2025-05-31T06:32:53.643693",
     "exception": false,
     "start_time": "2025-05-31T06:32:50.137774",
     "status": "completed"
    },
    "tags": []
   },
   "outputs": [],
   "source": [
    "from yugiquery import *\n",
    "\n",
    "init_notebook_mode(all_interactive=True)\n",
    "\n",
    "header(\"Timeline\")"
   ]
  },
  {
   "cell_type": "markdown",
   "id": "1",
   "metadata": {
    "papermill": {
     "duration": 0.158242,
     "end_time": "2025-05-31T06:32:53.855349",
     "exception": false,
     "start_time": "2025-05-31T06:32:53.697107",
     "status": "completed"
    },
    "tags": []
   },
   "source": [
    "---"
   ]
  },
  {
   "cell_type": "markdown",
   "id": "2",
   "metadata": {
    "papermill": {
     "duration": 0.049258,
     "end_time": "2025-05-31T06:32:53.975859",
     "exception": false,
     "start_time": "2025-05-31T06:32:53.926601",
     "status": "completed"
    },
    "tags": []
   },
   "source": [
    "Table of Contents <a class=\"jp-toc-ignore\"></a>\n",
    "=================\n",
    "* [1 Data preparation](#data-preparation)\n",
    "  * [1.1 Load data](#load-data)\n",
    "  * [1.2 Merge data](#merge-data)\n",
    "* [2 Data visualization](#data-visualization)\n",
    "  * [2.1 Debut](#debut)\n",
    "    * [2.1.1 By Format](#by-format)\n",
    "    * [2.1.2 By Region](#by-region)\n",
    "    * [2.1.3 By Card type](#by-card-type)\n",
    "    * [2.1.4 By Primary type](#by-primary-type)\n",
    "    * [2.1.5 By Secondary type](#by-secondary-type)\n",
    "    * [2.1.6 By Attribute](#by-attribute)\n",
    "    * [2.1.7 By Monster type](#by-monster-type)\n",
    "    * [2.1.8 By Level/Rank](#by-level/rank)\n",
    "    * [2.1.9 By Pendulum scale](#by-pendulum-scale)\n",
    "    * [2.1.10 By Link](#by-link)\n",
    "    * [2.1.11 By ATK](#by-atk)\n",
    "    * [2.1.12 By DEF](#by-def)\n",
    "  * [2.2 Last release](#last-release)\n",
    "    * [2.2.1 By Region](#by-region)\n",
    "    * [2.2.2 By Card type](#by-card-type)\n",
    "    * [2.2.3 By Primary type](#by-primary-type)\n",
    "    * [2.2.4 By Secondary type](#by-secondary-type)\n",
    "    * [2.2.5 By Attribute](#by-attribute)\n",
    "    * [2.2.6 By Monster type](#by-monster-type)\n",
    "    * [2.2.7 By Level/Rank](#by-level/rank)\n",
    "    * [2.2.8 By Pendulum scale](#by-pendulum-scale)\n",
    "    * [2.2.9 By Link](#by-link)\n",
    "    * [2.2.10 By ATK](#by-atk)\n",
    "    * [2.2.11 By DEF](#by-def)\n",
    "  * [2.3 All releases](#all-releases)\n",
    "    * [2.3.1 By Region](#by-region)\n",
    "    * [2.3.2 By Card type](#by-card-type)\n",
    "    * [2.3.3 By Primary type](#by-primary-type)\n",
    "    * [2.3.4 By Secondary type](#by-secondary-type)\n",
    "    * [2.3.5 By Attribute](#by-attribute)\n",
    "    * [2.3.6 By Monster type](#by-monster-type)\n",
    "    * [2.3.7 By Level/Rank](#by-level/rank)\n",
    "    * [2.3.8 By Pendulum scale](#by-pendulum-scale)\n",
    "    * [2.3.9 By Link](#by-link)\n",
    "    * [2.3.10 By ATK](#by-atk)\n",
    "    * [2.3.11 By DEF](#by-def)\n",
    "* [3 Merge failed](#merge-failed)\n",
    "  * [3.1 Names missing](#names-missing)\n",
    "  * [3.2 Card number missing](#card-number-missing)\n",
    "* [4 Epilogue](#epilogue)\n",
    "  * [4.1 HTML export](#html-export)\n",
    "  * [4.2 Git](#git)"
   ]
  },
  {
   "cell_type": "markdown",
   "id": "3",
   "metadata": {
    "papermill": {
     "duration": 0.634621,
     "end_time": "2025-05-31T06:32:54.822999",
     "exception": false,
     "start_time": "2025-05-31T06:32:54.188378",
     "status": "completed"
    },
    "tags": []
   },
   "source": [
    "# Data preparation"
   ]
  },
  {
   "cell_type": "code",
   "execution_count": null,
   "id": "4",
   "metadata": {
    "papermill": {
     "duration": 0.330899,
     "end_time": "2025-05-31T06:32:55.218899",
     "exception": false,
     "start_time": "2025-05-31T06:32:54.888000",
     "status": "completed"
    },
    "tags": []
   },
   "outputs": [],
   "source": [
    "timestamp = arrow.utcnow()"
   ]
  },
  {
   "cell_type": "markdown",
   "id": "5",
   "metadata": {
    "papermill": {
     "duration": 0.106101,
     "end_time": "2025-05-31T06:32:55.450687",
     "exception": false,
     "start_time": "2025-05-31T06:32:55.344586",
     "status": "completed"
    },
    "tags": []
   },
   "source": [
    "## Load data"
   ]
  },
  {
   "cell_type": "code",
   "execution_count": null,
   "id": "6",
   "metadata": {
    "papermill": {
     "duration": 0.871822,
     "end_time": "2025-05-31T06:32:56.440209",
     "exception": false,
     "start_time": "2025-05-31T06:32:55.568387",
     "status": "completed"
    },
    "tags": []
   },
   "outputs": [],
   "source": [
    "# Load list of important dates\n",
    "dates_json = load_json(dirs.get_asset(\"json\", \"dates.json\"))\n",
    "anime_df = pd.DataFrame(dates_json[\"anime\"][\"series\"]).set_index(\"title\").map(pd.to_datetime, dayfirst=True)\n",
    "rules_df = (\n",
    "    pd.DataFrame(dates_json[\"rules\"]).set_index(\"title\").map(pd.to_datetime, dayfirst=True).iloc[2:]\n",
    ")  # Ignore old rules"
   ]
  },
  {
   "cell_type": "code",
   "execution_count": null,
   "id": "7",
   "metadata": {
    "papermill": {
     "duration": 13.897245,
     "end_time": "2025-05-31T06:33:10.400434",
     "exception": false,
     "start_time": "2025-05-31T06:32:56.503189",
     "status": "completed"
    },
    "tags": []
   },
   "outputs": [],
   "source": [
    "# Get latest file if exist\n",
    "cards_df = load_latest_data(\"cards\")\n",
    "speed_df = load_latest_data(\"speed\")\n",
    "set_lists_df = load_latest_data(\"sets\")"
   ]
  },
  {
   "cell_type": "markdown",
   "id": "8",
   "metadata": {
    "papermill": {
     "duration": 0.146409,
     "end_time": "2025-05-31T06:33:10.693381",
     "exception": false,
     "start_time": "2025-05-31T06:33:10.546972",
     "status": "completed"
    },
    "tags": []
   },
   "source": [
    "## Merge data"
   ]
  },
  {
   "cell_type": "code",
   "execution_count": null,
   "id": "9",
   "metadata": {
    "papermill": {
     "duration": 0.115388,
     "end_time": "2025-05-31T06:33:10.928233",
     "exception": false,
     "start_time": "2025-05-31T06:33:10.812845",
     "status": "completed"
    },
    "tags": []
   },
   "outputs": [],
   "source": [
    "df_list = [cards_df, speed_df, set_lists_df]\n",
    "if any(item is None for item in df_list):\n",
    "    raise SystemExit(\"Not enough files to proceed. Aborting!\")"
   ]
  },
  {
   "cell_type": "code",
   "execution_count": null,
   "id": "10",
   "metadata": {
    "papermill": {
     "duration": 3.997417,
     "end_time": "2025-05-31T06:33:15.647004",
     "exception": false,
     "start_time": "2025-05-31T06:33:11.649587",
     "status": "completed"
    },
    "tags": []
   },
   "outputs": [],
   "source": [
    "set_lists_df = set_lists_df[\n",
    "    ~set_lists_df[\"Card number\"].str.startswith(\"RD/\").astype(bool).fillna(False)\n",
    "]  # Remove Rush duel cards\n",
    "full_df = merge_set_to_cards(cards_df, speed_df, set_df=set_lists_df)"
   ]
  },
  {
   "cell_type": "markdown",
   "id": "11",
   "metadata": {
    "papermill": {
     "duration": 0.066862,
     "end_time": "2025-05-31T06:33:15.793498",
     "exception": false,
     "start_time": "2025-05-31T06:33:15.726636",
     "status": "completed"
    },
    "tags": []
   },
   "source": [
    "# Data visualization"
   ]
  },
  {
   "cell_type": "markdown",
   "id": "12",
   "metadata": {
    "papermill": {
     "duration": 0.091184,
     "end_time": "2025-05-31T06:33:16.048211",
     "exception": false,
     "start_time": "2025-05-31T06:33:15.957027",
     "status": "completed"
    },
    "tags": []
   },
   "source": [
    "Rush duel and Bandai cards are not included."
   ]
  },
  {
   "cell_type": "code",
   "execution_count": null,
   "id": "13",
   "metadata": {
    "papermill": {
     "duration": 0.332095,
     "end_time": "2025-05-31T06:33:16.628847",
     "exception": false,
     "start_time": "2025-05-31T06:33:16.296752",
     "status": "completed"
    },
    "tags": []
   },
   "outputs": [],
   "source": [
    "full_df"
   ]
  },
  {
   "cell_type": "markdown",
   "id": "14",
   "metadata": {
    "papermill": {
     "duration": 0.197168,
     "end_time": "2025-05-31T06:33:17.173204",
     "exception": false,
     "start_time": "2025-05-31T06:33:16.976036",
     "status": "completed"
    },
    "tags": []
   },
   "source": [
    "## Debut"
   ]
  },
  {
   "cell_type": "code",
   "execution_count": null,
   "id": "15",
   "metadata": {
    "papermill": {
     "duration": 1.176992,
     "end_time": "2025-05-31T06:33:18.724820",
     "exception": false,
     "start_time": "2025-05-31T06:33:17.547828",
     "status": "completed"
    },
    "tags": []
   },
   "outputs": [],
   "source": [
    "debut_counts = get_releases_by(full_df, column=None, operation=\"debut\").value_counts(sort=False).rename(\"All formats\")\n",
    "debut_counts.groupby(debut_counts.index.strftime(\"%Y\")).sum()"
   ]
  },
  {
   "cell_type": "code",
   "execution_count": null,
   "id": "16",
   "metadata": {
    "papermill": {
     "duration": 4.557914,
     "end_time": "2025-05-31T06:33:23.344948",
     "exception": false,
     "start_time": "2025-05-31T06:33:18.787034",
     "status": "completed"
    },
    "tags": []
   },
   "outputs": [],
   "source": [
    "_ = plot.rate(debut_counts, bg=anime_df, vlines=rules_df[\"begin\"], limit_year=True)\n",
    "plt.show()"
   ]
  },
  {
   "cell_type": "markdown",
   "id": "17",
   "metadata": {
    "papermill": {
     "duration": 0.141202,
     "end_time": "2025-05-31T06:33:23.570646",
     "exception": false,
     "start_time": "2025-05-31T06:33:23.429444",
     "status": "completed"
    },
    "tags": []
   },
   "source": [
    "### By Format"
   ]
  },
  {
   "cell_type": "markdown",
   "id": "18",
   "metadata": {
    "papermill": {
     "duration": 0.080896,
     "end_time": "2025-05-31T06:33:23.849591",
     "exception": false,
     "start_time": "2025-05-31T06:33:23.768695",
     "status": "completed"
    },
    "tags": []
   },
   "source": [
    "Monsters' debut per format"
   ]
  },
  {
   "cell_type": "code",
   "execution_count": null,
   "id": "19",
   "metadata": {
    "papermill": {
     "duration": 0.269147,
     "end_time": "2025-05-31T06:33:24.259788",
     "exception": false,
     "start_time": "2025-05-31T06:33:23.990641",
     "status": "completed"
    },
    "tags": []
   },
   "outputs": [],
   "source": [
    "full_df.groupby(\"Name\")[full_df.filter(regex=\"(?i)(debut)\").columns].min()"
   ]
  },
  {
   "cell_type": "markdown",
   "id": "20",
   "metadata": {
    "papermill": {
     "duration": 0.419344,
     "end_time": "2025-05-31T06:33:24.755112",
     "exception": false,
     "start_time": "2025-05-31T06:33:24.335768",
     "status": "completed"
    },
    "tags": []
   },
   "source": [
    "Debuts per date for each format"
   ]
  },
  {
   "cell_type": "code",
   "execution_count": null,
   "id": "21",
   "metadata": {
    "papermill": {
     "duration": 0.342206,
     "end_time": "2025-05-31T06:33:25.200793",
     "exception": false,
     "start_time": "2025-05-31T06:33:24.858587",
     "status": "completed"
    },
    "tags": []
   },
   "outputs": [],
   "source": [
    "format_debut_counts = (\n",
    "    full_df.groupby(\"Name\")[full_df.filter(regex=\"(?i)(debut)\").columns]\n",
    "    .min()\n",
    "    .melt(var_name=\"Format\", value_name=\"Debut\")\n",
    "    .value_counts()\n",
    "    .unstack(0)\n",
    "    .fillna(0)\n",
    "    .sort_index()\n",
    ")\n",
    "format_debut_counts.groupby(format_debut_counts.index.strftime(\"%Y\")).sum()"
   ]
  },
  {
   "cell_type": "code",
   "execution_count": null,
   "id": "22",
   "metadata": {
    "papermill": {
     "duration": 8.930741,
     "end_time": "2025-05-31T06:33:34.247644",
     "exception": false,
     "start_time": "2025-05-31T06:33:25.316903",
     "status": "completed"
    },
    "tags": []
   },
   "outputs": [],
   "source": [
    "_ = plot.rate(format_debut_counts, bg=anime_df, vlines=rules_df[\"begin\"], subplots=True)\n",
    "plt.show()"
   ]
  },
  {
   "cell_type": "markdown",
   "id": "23",
   "metadata": {
    "papermill": {
     "duration": 0.187539,
     "end_time": "2025-05-31T06:33:34.531039",
     "exception": false,
     "start_time": "2025-05-31T06:33:34.343500",
     "status": "completed"
    },
    "tags": []
   },
   "source": [
    "### By Region"
   ]
  },
  {
   "cell_type": "markdown",
   "id": "24",
   "metadata": {
    "papermill": {
     "duration": 0.114315,
     "end_time": "2025-05-31T06:33:34.819031",
     "exception": false,
     "start_time": "2025-05-31T06:33:34.704716",
     "status": "completed"
    },
    "tags": []
   },
   "source": [
    "Obs: Debut by region is taken from earliest release date in set lists. It may not be as accurate as card specific properties."
   ]
  },
  {
   "cell_type": "code",
   "execution_count": null,
   "id": "25",
   "metadata": {
    "papermill": {
     "duration": 0.702631,
     "end_time": "2025-05-31T06:33:35.625822",
     "exception": false,
     "start_time": "2025-05-31T06:33:34.923191",
     "status": "completed"
    },
    "tags": []
   },
   "outputs": [],
   "source": [
    "full_df.groupby([\"Region\", \"Name\"])[\"Release\"].min().unstack(0)"
   ]
  },
  {
   "cell_type": "markdown",
   "id": "26",
   "metadata": {
    "papermill": {
     "duration": 0.711272,
     "end_time": "2025-05-31T06:33:36.437384",
     "exception": false,
     "start_time": "2025-05-31T06:33:35.726112",
     "status": "completed"
    },
    "tags": []
   },
   "source": [
    "First releases per date"
   ]
  },
  {
   "cell_type": "code",
   "execution_count": null,
   "id": "27",
   "metadata": {
    "papermill": {
     "duration": 8.954491,
     "end_time": "2025-05-31T06:33:45.665007",
     "exception": false,
     "start_time": "2025-05-31T06:33:36.710516",
     "status": "completed"
    },
    "tags": []
   },
   "outputs": [],
   "source": [
    "region_debut_counts = get_releases_by(full_df, column=\"Region\", operation=\"first\", crosstab=True)\n",
    "region_debut_counts.groupby(region_debut_counts.index.strftime(\"%Y\")).sum()"
   ]
  },
  {
   "cell_type": "code",
   "execution_count": null,
   "id": "28",
   "metadata": {
    "papermill": {
     "duration": 38.721804,
     "end_time": "2025-05-31T06:34:24.520499",
     "exception": false,
     "start_time": "2025-05-31T06:33:45.798695",
     "status": "completed"
    },
    "tags": []
   },
   "outputs": [],
   "source": [
    "_ = plot.rate(\n",
    "    region_debut_counts,\n",
    "    bg=anime_df,\n",
    "    vlines=rules_df[\"begin\"],\n",
    "    subplots=True,\n",
    "    limit_year=True,\n",
    ")\n",
    "plt.show()"
   ]
  },
  {
   "cell_type": "markdown",
   "id": "29",
   "metadata": {
    "papermill": {
     "duration": 0.474049,
     "end_time": "2025-05-31T06:34:25.205283",
     "exception": false,
     "start_time": "2025-05-31T06:34:24.731234",
     "status": "completed"
    },
    "tags": []
   },
   "source": [
    "### By Card type"
   ]
  },
  {
   "cell_type": "code",
   "execution_count": null,
   "id": "30",
   "metadata": {
    "papermill": {
     "duration": 4.079195,
     "end_time": "2025-05-31T06:34:29.606560",
     "exception": false,
     "start_time": "2025-05-31T06:34:25.527365",
     "status": "completed"
    },
    "tags": []
   },
   "outputs": [],
   "source": [
    "ct_debut_counts = get_releases_by(full_df, column=\"Card type\", operation=\"debut\", crosstab=True)\n",
    "ct_debut_counts.groupby(ct_debut_counts.index.strftime(\"%Y\")).sum()"
   ]
  },
  {
   "cell_type": "code",
   "execution_count": null,
   "id": "31",
   "metadata": {
    "papermill": {
     "duration": 3.506136,
     "end_time": "2025-05-31T06:34:33.533712",
     "exception": false,
     "start_time": "2025-05-31T06:34:30.027576",
     "status": "completed"
    },
    "tags": []
   },
   "outputs": [],
   "source": [
    "_ct_debut_plot = ct_debut_counts[[\"Monster Card\", \"Spell Card\", \"Trap Card\", \"Skill Card\"]]\n",
    "_ct_colors = [plot.colors_dict[col] for col in _ct_debut_plot.columns]\n",
    "_ = plot.rate(\n",
    "    _ct_debut_plot,\n",
    "    colors=_ct_colors,\n",
    "    bg=anime_df,\n",
    "    vlines=rules_df[\"begin\"],\n",
    "    subplots=False,\n",
    "    limit_year=True,\n",
    ")"
   ]
  },
  {
   "cell_type": "markdown",
   "id": "32",
   "metadata": {
    "papermill": {
     "duration": 0.434537,
     "end_time": "2025-05-31T06:34:34.206095",
     "exception": false,
     "start_time": "2025-05-31T06:34:33.771558",
     "status": "completed"
    },
    "tags": []
   },
   "source": [
    "### By Primary type"
   ]
  },
  {
   "cell_type": "code",
   "execution_count": null,
   "id": "33",
   "metadata": {
    "papermill": {
     "duration": 4.133787,
     "end_time": "2025-05-31T06:34:38.599392",
     "exception": false,
     "start_time": "2025-05-31T06:34:34.465605",
     "status": "completed"
    },
    "tags": []
   },
   "outputs": [],
   "source": [
    "pt_debut_counts = get_releases_by(full_df, column=\"Primary type\", operation=\"debut\", crosstab=True)\n",
    "pt_debut_counts.groupby(pt_debut_counts.index.strftime(\"%Y\")).sum()"
   ]
  },
  {
   "cell_type": "code",
   "execution_count": null,
   "id": "34",
   "metadata": {
    "papermill": {
     "duration": 3.531872,
     "end_time": "2025-05-31T06:34:42.360898",
     "exception": false,
     "start_time": "2025-05-31T06:34:38.829026",
     "status": "completed"
    },
    "tags": []
   },
   "outputs": [],
   "source": [
    "_pt_colors = [plot.colors_dict[col] for col in pt_debut_counts.columns]\n",
    "_ = plot.rate(\n",
    "    pt_debut_counts,\n",
    "    colors=_pt_colors,\n",
    "    bg=anime_df,\n",
    "    vlines=rules_df[\"begin\"],\n",
    "    subplots=False,\n",
    "    limit_year=True,\n",
    ")"
   ]
  },
  {
   "cell_type": "markdown",
   "id": "35",
   "metadata": {
    "papermill": {
     "duration": 0.616789,
     "end_time": "2025-05-31T06:34:43.666701",
     "exception": false,
     "start_time": "2025-05-31T06:34:43.049912",
     "status": "completed"
    },
    "tags": []
   },
   "source": [
    "### By Secondary type"
   ]
  },
  {
   "cell_type": "code",
   "execution_count": null,
   "id": "36",
   "metadata": {
    "papermill": {
     "duration": 8.489315,
     "end_time": "2025-05-31T06:34:53.018960",
     "exception": false,
     "start_time": "2025-05-31T06:34:44.529645",
     "status": "completed"
    },
    "tags": []
   },
   "outputs": [],
   "source": [
    "st_debut_counts = get_releases_by(full_df, \"Secondary type\", operation=\"debut\", crosstab=True)\n",
    "st_debut_counts.groupby(st_debut_counts.index.strftime(\"%Y\")).sum()"
   ]
  },
  {
   "cell_type": "code",
   "execution_count": null,
   "id": "37",
   "metadata": {
    "papermill": {
     "duration": 28.898365,
     "end_time": "2025-05-31T06:35:22.405543",
     "exception": false,
     "start_time": "2025-05-31T06:34:53.507178",
     "status": "completed"
    },
    "tags": []
   },
   "outputs": [],
   "source": [
    "_ = plot.rate(\n",
    "    st_debut_counts,\n",
    "    bg=anime_df,\n",
    "    vlines=rules_df[\"begin\"],\n",
    "    subplots=True,\n",
    "    limit_year=True,\n",
    ")"
   ]
  },
  {
   "cell_type": "markdown",
   "id": "38",
   "metadata": {
    "papermill": {
     "duration": 0.335803,
     "end_time": "2025-05-31T06:35:23.035604",
     "exception": false,
     "start_time": "2025-05-31T06:35:22.699801",
     "status": "completed"
    },
    "tags": []
   },
   "source": [
    "### By Attribute"
   ]
  },
  {
   "cell_type": "code",
   "execution_count": null,
   "id": "39",
   "metadata": {
    "papermill": {
     "duration": 4.072954,
     "end_time": "2025-05-31T06:35:27.692065",
     "exception": false,
     "start_time": "2025-05-31T06:35:23.619111",
     "status": "completed"
    },
    "tags": []
   },
   "outputs": [],
   "source": [
    "att_debut_counts = get_releases_by(full_df, column=\"Attribute\", operation=\"debut\", crosstab=True)\n",
    "att_debut_counts.groupby(att_debut_counts.index.strftime(\"%Y\")).sum()"
   ]
  },
  {
   "cell_type": "code",
   "execution_count": null,
   "id": "40",
   "metadata": {
    "papermill": {
     "duration": 4.760633,
     "end_time": "2025-05-31T06:35:32.742220",
     "exception": false,
     "start_time": "2025-05-31T06:35:27.981587",
     "status": "completed"
    },
    "tags": []
   },
   "outputs": [],
   "source": [
    "attribute_colors = [plot.colors_dict[col] for col in att_debut_counts.columns]\n",
    "_ = plot.rate(\n",
    "    att_debut_counts,\n",
    "    colors=attribute_colors,\n",
    "    bg=anime_df,\n",
    "    vlines=rules_df[\"begin\"],\n",
    "    subplots=False,\n",
    "    limit_year=True,\n",
    ")"
   ]
  },
  {
   "cell_type": "markdown",
   "id": "41",
   "metadata": {
    "papermill": {
     "duration": 1.036157,
     "end_time": "2025-05-31T06:35:35.022440",
     "exception": false,
     "start_time": "2025-05-31T06:35:33.986283",
     "status": "completed"
    },
    "tags": []
   },
   "source": [
    "### By Monster type"
   ]
  },
  {
   "cell_type": "code",
   "execution_count": null,
   "id": "42",
   "metadata": {
    "papermill": {
     "duration": 4.157054,
     "end_time": "2025-05-31T06:35:40.036276",
     "exception": false,
     "start_time": "2025-05-31T06:35:35.879222",
     "status": "completed"
    },
    "tags": []
   },
   "outputs": [],
   "source": [
    "mt_debut_counts = get_releases_by(full_df, column=\"Monster type\", operation=\"debut\", crosstab=True)\n",
    "mt_debut_counts.groupby(mt_debut_counts.index.strftime(\"%Y\")).sum()"
   ]
  },
  {
   "cell_type": "code",
   "execution_count": null,
   "id": "43",
   "metadata": {
    "papermill": {
     "duration": 85.150295,
     "end_time": "2025-05-31T06:37:05.709684",
     "exception": false,
     "start_time": "2025-05-31T06:35:40.559389",
     "status": "completed"
    },
    "tags": []
   },
   "outputs": [],
   "source": [
    "_ = plot.rate(mt_debut_counts, bg=anime_df, vlines=rules_df[\"begin\"], subplots=True, limit_year=True)"
   ]
  },
  {
   "cell_type": "markdown",
   "id": "44",
   "metadata": {
    "papermill": {
     "duration": 1.024876,
     "end_time": "2025-05-31T06:37:07.492851",
     "exception": false,
     "start_time": "2025-05-31T06:37:06.467975",
     "status": "completed"
    },
    "tags": []
   },
   "source": [
    "### By Level/Rank"
   ]
  },
  {
   "cell_type": "code",
   "execution_count": null,
   "id": "45",
   "metadata": {
    "papermill": {
     "duration": 15.228671,
     "end_time": "2025-05-31T06:37:23.861103",
     "exception": false,
     "start_time": "2025-05-31T06:37:08.632432",
     "status": "completed"
    },
    "tags": []
   },
   "outputs": [],
   "source": [
    "level_debut = get_releases_by(\n",
    "    full_df[(full_df[\"Card type\"] != \"Non-game card\") & (full_df[\"Primary type\"] != \"Link Monster\")],\n",
    "    column=\"Level/Rank/Link\",\n",
    "    operation=\"debut\",\n",
    "    crosstab=False,\n",
    ")\n",
    "level_debut.groupby(level_debut[\"Debut\"].dt.year)[\"Level/Rank/Link\"].describe()"
   ]
  },
  {
   "cell_type": "code",
   "execution_count": null,
   "id": "46",
   "metadata": {
    "papermill": {
     "duration": 10.612686,
     "end_time": "2025-05-31T06:37:35.932118",
     "exception": false,
     "start_time": "2025-05-31T06:37:25.319432",
     "status": "completed"
    },
    "tags": []
   },
   "outputs": [],
   "source": [
    "_ = plot.box(\n",
    "    level_debut,\n",
    "    color=plot.colors_dict[\"Effect Monster\"],\n",
    "    notch=True,\n",
    ")\n",
    "plt.show()"
   ]
  },
  {
   "cell_type": "markdown",
   "id": "47",
   "metadata": {
    "papermill": {
     "duration": 0.720344,
     "end_time": "2025-05-31T06:37:37.589592",
     "exception": false,
     "start_time": "2025-05-31T06:37:36.869248",
     "status": "completed"
    },
    "tags": []
   },
   "source": [
    "### By Pendulum scale"
   ]
  },
  {
   "cell_type": "code",
   "execution_count": null,
   "id": "48",
   "metadata": {
    "papermill": {
     "duration": 34.648807,
     "end_time": "2025-05-31T06:38:13.204706",
     "exception": false,
     "start_time": "2025-05-31T06:37:38.555899",
     "status": "completed"
    },
    "tags": []
   },
   "outputs": [],
   "source": [
    "pendulum_debut = get_releases_by(\n",
    "    full_df[(full_df[\"Card type\"] != \"Non-game card\")], column=\"Pendulum Scale\", operation=\"debut\", crosstab=False\n",
    ")\n",
    "pendulum_debut.groupby(pendulum_debut[\"Debut\"].dt.year)[\"Pendulum Scale\"].describe()"
   ]
  },
  {
   "cell_type": "code",
   "execution_count": null,
   "id": "49",
   "metadata": {
    "papermill": {
     "duration": 7.54003,
     "end_time": "2025-05-31T06:38:23.316460",
     "exception": false,
     "start_time": "2025-05-31T06:38:15.776430",
     "status": "completed"
    },
    "tags": []
   },
   "outputs": [],
   "source": [
    "_ = plot.box(\n",
    "    pendulum_debut,\n",
    "    color=plot.colors_dict[\"Spell Card\"],\n",
    "    notch=True,\n",
    ")\n",
    "plt.show()"
   ]
  },
  {
   "cell_type": "markdown",
   "id": "50",
   "metadata": {
    "papermill": {
     "duration": 1.306041,
     "end_time": "2025-05-31T06:38:25.175869",
     "exception": false,
     "start_time": "2025-05-31T06:38:23.869828",
     "status": "completed"
    },
    "tags": []
   },
   "source": [
    "### By Link"
   ]
  },
  {
   "cell_type": "code",
   "execution_count": null,
   "id": "51",
   "metadata": {
    "papermill": {
     "duration": 4.740488,
     "end_time": "2025-05-31T06:38:30.790255",
     "exception": false,
     "start_time": "2025-05-31T06:38:26.049767",
     "status": "completed"
    },
    "tags": []
   },
   "outputs": [],
   "source": [
    "link_debut = get_releases_by(\n",
    "    full_df[(full_df[\"Card type\"] != \"Non-game card\") & (full_df[\"Primary type\"] == \"Link Monster\")],\n",
    "    column=\"Level/Rank/Link\",\n",
    "    operation=\"debut\",\n",
    "    crosstab=False,\n",
    ")\n",
    "link_debut.groupby(link_debut[\"Debut\"].dt.year)[\"Level/Rank/Link\"].describe()"
   ]
  },
  {
   "cell_type": "code",
   "execution_count": null,
   "id": "52",
   "metadata": {
    "papermill": {
     "duration": 2.222139,
     "end_time": "2025-05-31T06:38:34.051490",
     "exception": false,
     "start_time": "2025-05-31T06:38:31.829351",
     "status": "completed"
    },
    "tags": []
   },
   "outputs": [],
   "source": [
    "_ = plot.box(\n",
    "    link_debut,\n",
    "    color=plot.colors_dict[\"Link Monster\"],\n",
    "    notch=True,\n",
    ")\n",
    "plt.show()"
   ]
  },
  {
   "cell_type": "markdown",
   "id": "53",
   "metadata": {
    "papermill": {
     "duration": 0.913856,
     "end_time": "2025-05-31T06:38:35.750189",
     "exception": false,
     "start_time": "2025-05-31T06:38:34.836333",
     "status": "completed"
    },
    "tags": []
   },
   "source": [
    "### By ATK"
   ]
  },
  {
   "cell_type": "code",
   "execution_count": null,
   "id": "54",
   "metadata": {
    "papermill": {
     "duration": 15.485319,
     "end_time": "2025-05-31T06:38:53.827826",
     "exception": false,
     "start_time": "2025-05-31T06:38:38.342507",
     "status": "completed"
    },
    "tags": []
   },
   "outputs": [],
   "source": [
    "atk_debut = get_releases_by(\n",
    "    full_df[(full_df[\"Card type\"] != \"Non-game card\")], column=\"ATK\", operation=\"debut\", crosstab=False\n",
    ")\n",
    "atk_debut.groupby(atk_debut[\"Debut\"].dt.year)[\"ATK\"].describe()"
   ]
  },
  {
   "cell_type": "code",
   "execution_count": null,
   "id": "55",
   "metadata": {
    "papermill": {
     "duration": 6.339306,
     "end_time": "2025-05-31T06:39:01.693074",
     "exception": false,
     "start_time": "2025-05-31T06:38:55.353768",
     "status": "completed"
    },
    "tags": []
   },
   "outputs": [],
   "source": [
    "_ = plot.box(\n",
    "    atk_debut,\n",
    "    color=plot.colors_dict[\"Effect Monster\"],\n",
    "    notch=True,\n",
    ")\n",
    "plt.show()"
   ]
  },
  {
   "cell_type": "markdown",
   "id": "56",
   "metadata": {
    "papermill": {
     "duration": 0.931652,
     "end_time": "2025-05-31T06:39:03.351610",
     "exception": false,
     "start_time": "2025-05-31T06:39:02.419958",
     "status": "completed"
    },
    "tags": []
   },
   "source": [
    "### By DEF"
   ]
  },
  {
   "cell_type": "code",
   "execution_count": null,
   "id": "57",
   "metadata": {
    "papermill": {
     "duration": 11.73692,
     "end_time": "2025-05-31T06:39:16.847150",
     "exception": false,
     "start_time": "2025-05-31T06:39:05.110230",
     "status": "completed"
    },
    "tags": []
   },
   "outputs": [],
   "source": [
    "def_debut = get_releases_by(\n",
    "    full_df[(full_df[\"Card type\"] != \"Non-game card\")], column=\"DEF\", operation=\"debut\", crosstab=False\n",
    ")\n",
    "def_debut.groupby(def_debut[\"Debut\"].dt.year)[\"DEF\"].describe()"
   ]
  },
  {
   "cell_type": "code",
   "execution_count": null,
   "id": "58",
   "metadata": {
    "papermill": {
     "duration": 6.220866,
     "end_time": "2025-05-31T06:39:24.096328",
     "exception": false,
     "start_time": "2025-05-31T06:39:17.875462",
     "status": "completed"
    },
    "tags": []
   },
   "outputs": [],
   "source": [
    "_ = plot.box(\n",
    "    def_debut,\n",
    "    color=plot.colors_dict[\"Effect Monster\"],\n",
    "    notch=True,\n",
    ")\n",
    "plt.show()"
   ]
  },
  {
   "cell_type": "markdown",
   "id": "59",
   "metadata": {
    "papermill": {
     "duration": 1.318575,
     "end_time": "2025-05-31T06:39:26.881648",
     "exception": false,
     "start_time": "2025-05-31T06:39:25.563073",
     "status": "completed"
    },
    "tags": []
   },
   "source": [
    "## Last release"
   ]
  },
  {
   "cell_type": "markdown",
   "id": "60",
   "metadata": {
    "papermill": {
     "duration": 0.565162,
     "end_time": "2025-05-31T06:39:29.175817",
     "exception": false,
     "start_time": "2025-05-31T06:39:28.610655",
     "status": "completed"
    },
    "tags": []
   },
   "source": [
    "Obs: Only the last release of an individual card name"
   ]
  },
  {
   "cell_type": "code",
   "execution_count": null,
   "id": "61",
   "metadata": {
    "papermill": {
     "duration": 3.328623,
     "end_time": "2025-05-31T06:39:33.268941",
     "exception": false,
     "start_time": "2025-05-31T06:39:29.940318",
     "status": "completed"
    },
    "tags": []
   },
   "outputs": [],
   "source": [
    "last_counts = get_releases_by(full_df, column=None, operation=\"last\").value_counts(sort=False).rename(\"All formats\")\n",
    "last_counts.groupby(last_counts.index.strftime(\"%Y\")).sum()"
   ]
  },
  {
   "cell_type": "code",
   "execution_count": null,
   "id": "62",
   "metadata": {
    "papermill": {
     "duration": 21.357854,
     "end_time": "2025-05-31T06:39:55.204081",
     "exception": false,
     "start_time": "2025-05-31T06:39:33.846227",
     "status": "completed"
    },
    "tags": []
   },
   "outputs": [],
   "source": [
    "_ = plot.rate(last_counts, bg=anime_df, vlines=rules_df[\"begin\"], limit_year=True)\n",
    "plt.show()"
   ]
  },
  {
   "cell_type": "markdown",
   "id": "63",
   "metadata": {
    "papermill": {
     "duration": 0.884667,
     "end_time": "2025-05-31T06:39:57.274115",
     "exception": false,
     "start_time": "2025-05-31T06:39:56.389448",
     "status": "completed"
    },
    "tags": []
   },
   "source": [
    "### By Region"
   ]
  },
  {
   "cell_type": "code",
   "execution_count": null,
   "id": "64",
   "metadata": {
    "papermill": {
     "duration": 4.926108,
     "end_time": "2025-05-31T06:40:03.833336",
     "exception": false,
     "start_time": "2025-05-31T06:39:58.907228",
     "status": "completed"
    },
    "tags": []
   },
   "outputs": [],
   "source": [
    "full_df.groupby([\"Region\", \"Name\"])[\"Release\"].max().unstack(0)"
   ]
  },
  {
   "cell_type": "markdown",
   "id": "65",
   "metadata": {
    "papermill": {
     "duration": 0.700047,
     "end_time": "2025-05-31T06:40:05.162297",
     "exception": false,
     "start_time": "2025-05-31T06:40:04.462250",
     "status": "completed"
    },
    "tags": []
   },
   "source": [
    "Last releases by date"
   ]
  },
  {
   "cell_type": "code",
   "execution_count": null,
   "id": "66",
   "metadata": {
    "papermill": {
     "duration": 13.070856,
     "end_time": "2025-05-31T06:40:20.797664",
     "exception": false,
     "start_time": "2025-05-31T06:40:07.726808",
     "status": "completed"
    },
    "tags": []
   },
   "outputs": [],
   "source": [
    "region_last_counts = get_releases_by(full_df, column=\"Region\", operation=\"last\", crosstab=True)\n",
    "region_last_counts.groupby(region_last_counts.index.strftime(\"%Y\")).sum()"
   ]
  },
  {
   "cell_type": "code",
   "execution_count": null,
   "id": "67",
   "metadata": {
    "papermill": {
     "duration": 46.564226,
     "end_time": "2025-05-31T06:41:09.086745",
     "exception": false,
     "start_time": "2025-05-31T06:40:22.522519",
     "status": "completed"
    },
    "tags": []
   },
   "outputs": [],
   "source": [
    "_ = plot.rate(region_last_counts, bg=anime_df, vlines=rules_df[\"begin\"], subplots=True)\n",
    "plt.show()"
   ]
  },
  {
   "cell_type": "markdown",
   "id": "68",
   "metadata": {
    "papermill": {
     "duration": 1.228055,
     "end_time": "2025-05-31T06:41:11.263821",
     "exception": false,
     "start_time": "2025-05-31T06:41:10.035766",
     "status": "completed"
    },
    "tags": []
   },
   "source": [
    "### By Card type"
   ]
  },
  {
   "cell_type": "code",
   "execution_count": null,
   "id": "69",
   "metadata": {
    "papermill": {
     "duration": 5.901021,
     "end_time": "2025-05-31T06:41:18.012627",
     "exception": false,
     "start_time": "2025-05-31T06:41:12.111606",
     "status": "completed"
    },
    "tags": []
   },
   "outputs": [],
   "source": [
    "ct_last_counts = get_releases_by(full_df, column=\"Card type\", operation=\"last\", crosstab=True)\n",
    "ct_last_counts.groupby(ct_last_counts.index.strftime(\"%Y\")).sum()"
   ]
  },
  {
   "cell_type": "code",
   "execution_count": null,
   "id": "70",
   "metadata": {
    "papermill": {
     "duration": 3.872444,
     "end_time": "2025-05-31T06:41:22.595266",
     "exception": false,
     "start_time": "2025-05-31T06:41:18.722822",
     "status": "completed"
    },
    "tags": []
   },
   "outputs": [],
   "source": [
    "_ct_last_plot = ct_last_counts[[\"Monster Card\", \"Spell Card\", \"Trap Card\", \"Skill Card\"]]\n",
    "_ct_colors = [plot.colors_dict[col] for col in _ct_last_plot.columns]\n",
    "_ = plot.rate(\n",
    "    _ct_last_plot,\n",
    "    colors=_ct_colors,\n",
    "    bg=anime_df,\n",
    "    vlines=rules_df[\"begin\"],\n",
    "    subplots=False,\n",
    "    limit_year=True,\n",
    ")"
   ]
  },
  {
   "cell_type": "markdown",
   "id": "71",
   "metadata": {
    "papermill": {
     "duration": 0.83346,
     "end_time": "2025-05-31T06:41:24.327680",
     "exception": false,
     "start_time": "2025-05-31T06:41:23.494220",
     "status": "completed"
    },
    "tags": []
   },
   "source": [
    "### By Primary type"
   ]
  },
  {
   "cell_type": "code",
   "execution_count": null,
   "id": "72",
   "metadata": {
    "papermill": {
     "duration": 6.460525,
     "end_time": "2025-05-31T06:41:32.338858",
     "exception": false,
     "start_time": "2025-05-31T06:41:25.878333",
     "status": "completed"
    },
    "tags": []
   },
   "outputs": [],
   "source": [
    "pt_last_counts = get_releases_by(full_df, column=\"Primary type\", operation=\"last\", crosstab=True)\n",
    "pt_last_counts.groupby(pt_last_counts.index.strftime(\"%Y\")).sum()"
   ]
  },
  {
   "cell_type": "code",
   "execution_count": null,
   "id": "73",
   "metadata": {
    "papermill": {
     "duration": 4.602151,
     "end_time": "2025-05-31T06:41:37.728978",
     "exception": false,
     "start_time": "2025-05-31T06:41:33.126827",
     "status": "completed"
    },
    "tags": []
   },
   "outputs": [],
   "source": [
    "_pt_colors = [plot.colors_dict[col] for col in pt_last_counts.columns]\n",
    "_ = plot.rate(\n",
    "    pt_last_counts,\n",
    "    colors=_pt_colors,\n",
    "    bg=anime_df,\n",
    "    vlines=rules_df[\"begin\"],\n",
    "    subplots=False,\n",
    "    limit_year=True,\n",
    ")"
   ]
  },
  {
   "cell_type": "markdown",
   "id": "74",
   "metadata": {
    "papermill": {
     "duration": 1.237363,
     "end_time": "2025-05-31T06:41:39.979811",
     "exception": false,
     "start_time": "2025-05-31T06:41:38.742448",
     "status": "completed"
    },
    "tags": []
   },
   "source": [
    "### By Secondary type"
   ]
  },
  {
   "cell_type": "code",
   "execution_count": null,
   "id": "75",
   "metadata": {
    "papermill": {
     "duration": 25.854937,
     "end_time": "2025-05-31T06:42:06.625173",
     "exception": false,
     "start_time": "2025-05-31T06:41:40.770236",
     "status": "completed"
    },
    "tags": []
   },
   "outputs": [],
   "source": [
    "st_last_counts = get_releases_by(full_df, column=\"Secondary type\", operation=\"last\", crosstab=True)\n",
    "st_last_counts.groupby(st_last_counts.index.strftime(\"%Y\")).sum()"
   ]
  },
  {
   "cell_type": "code",
   "execution_count": null,
   "id": "76",
   "metadata": {
    "papermill": {
     "duration": 35.482065,
     "end_time": "2025-05-31T06:42:44.484644",
     "exception": false,
     "start_time": "2025-05-31T06:42:09.002579",
     "status": "completed"
    },
    "tags": []
   },
   "outputs": [],
   "source": [
    "_ = plot.rate(\n",
    "    st_last_counts,\n",
    "    bg=anime_df,\n",
    "    vlines=rules_df[\"begin\"],\n",
    "    subplots=True,\n",
    "    limit_year=True,\n",
    ")"
   ]
  },
  {
   "cell_type": "markdown",
   "id": "77",
   "metadata": {
    "papermill": {
     "duration": 1.501479,
     "end_time": "2025-05-31T06:42:48.193649",
     "exception": false,
     "start_time": "2025-05-31T06:42:46.692170",
     "status": "completed"
    },
    "tags": []
   },
   "source": [
    "### By Attribute"
   ]
  },
  {
   "cell_type": "code",
   "execution_count": null,
   "id": "78",
   "metadata": {
    "papermill": {
     "duration": 10.699665,
     "end_time": "2025-05-31T06:42:59.811452",
     "exception": false,
     "start_time": "2025-05-31T06:42:49.111787",
     "status": "completed"
    },
    "tags": []
   },
   "outputs": [],
   "source": [
    "att_last_counts = get_releases_by(full_df, column=\"Attribute\", operation=\"last\", crosstab=True)\n",
    "att_last_counts.groupby(att_last_counts.index.strftime(\"%Y\")).sum()"
   ]
  },
  {
   "cell_type": "code",
   "execution_count": null,
   "id": "79",
   "metadata": {
    "papermill": {
     "duration": 7.983512,
     "end_time": "2025-05-31T06:43:09.235268",
     "exception": false,
     "start_time": "2025-05-31T06:43:01.251756",
     "status": "completed"
    },
    "tags": []
   },
   "outputs": [],
   "source": [
    "attribute_colors = [plot.colors_dict[col] for col in att_last_counts.columns]\n",
    "_ = plot.rate(\n",
    "    att_last_counts,\n",
    "    colors=attribute_colors,\n",
    "    bg=anime_df,\n",
    "    vlines=rules_df[\"begin\"],\n",
    "    subplots=False,\n",
    "    limit_year=True,\n",
    ")"
   ]
  },
  {
   "cell_type": "markdown",
   "id": "80",
   "metadata": {
    "papermill": {
     "duration": 1.386025,
     "end_time": "2025-05-31T06:43:11.655385",
     "exception": false,
     "start_time": "2025-05-31T06:43:10.269360",
     "status": "completed"
    },
    "tags": []
   },
   "source": [
    "### By Monster type"
   ]
  },
  {
   "cell_type": "code",
   "execution_count": null,
   "id": "81",
   "metadata": {
    "papermill": {
     "duration": 7.66649,
     "end_time": "2025-05-31T06:43:20.443152",
     "exception": false,
     "start_time": "2025-05-31T06:43:12.776662",
     "status": "completed"
    },
    "tags": []
   },
   "outputs": [],
   "source": [
    "mt_last_counts = get_releases_by(full_df, column=\"Monster type\", operation=\"last\", crosstab=True)\n",
    "mt_last_counts.groupby(mt_last_counts.index.strftime(\"%Y\")).sum()"
   ]
  },
  {
   "cell_type": "code",
   "execution_count": null,
   "id": "82",
   "metadata": {
    "papermill": {
     "duration": 95.775946,
     "end_time": "2025-05-31T06:44:57.541248",
     "exception": false,
     "start_time": "2025-05-31T06:43:21.765302",
     "status": "completed"
    },
    "tags": []
   },
   "outputs": [],
   "source": [
    "_ = plot.rate(\n",
    "    mt_last_counts,\n",
    "    title=\"Debut\",\n",
    "    bg=anime_df,\n",
    "    vlines=rules_df[\"begin\"],\n",
    "    subplots=True,\n",
    "    limit_year=True,\n",
    ")"
   ]
  },
  {
   "cell_type": "markdown",
   "id": "83",
   "metadata": {
    "papermill": {
     "duration": 1.18631,
     "end_time": "2025-05-31T06:45:00.472134",
     "exception": false,
     "start_time": "2025-05-31T06:44:59.285824",
     "status": "completed"
    },
    "tags": []
   },
   "source": [
    "### By Level/Rank"
   ]
  },
  {
   "cell_type": "code",
   "execution_count": null,
   "id": "84",
   "metadata": {
    "papermill": {
     "duration": 8.098672,
     "end_time": "2025-05-31T06:45:09.842671",
     "exception": false,
     "start_time": "2025-05-31T06:45:01.743999",
     "status": "completed"
    },
    "tags": []
   },
   "outputs": [],
   "source": [
    "level_last = get_releases_by(\n",
    "    full_df[(full_df[\"Card type\"] != \"Non-game card\") & (full_df[\"Primary type\"] != \"Link Monster\")],\n",
    "    column=\"Level/Rank/Link\",\n",
    "    operation=\"last\",\n",
    "    crosstab=False,\n",
    ")\n",
    "level_last.groupby(level_last[\"Last release\"].dt.year)[\"Level/Rank/Link\"].describe()"
   ]
  },
  {
   "cell_type": "code",
   "execution_count": null,
   "id": "85",
   "metadata": {
    "papermill": {
     "duration": 3.92365,
     "end_time": "2025-05-31T06:45:15.143366",
     "exception": false,
     "start_time": "2025-05-31T06:45:11.219716",
     "status": "completed"
    },
    "tags": []
   },
   "outputs": [],
   "source": [
    "_ = plot.box(\n",
    "    level_last,\n",
    "    color=plot.colors_dict[\"Effect Monster\"],\n",
    "    notch=True,\n",
    ")\n",
    "plt.show()"
   ]
  },
  {
   "cell_type": "markdown",
   "id": "86",
   "metadata": {
    "papermill": {
     "duration": 1.001789,
     "end_time": "2025-05-31T06:45:17.566805",
     "exception": false,
     "start_time": "2025-05-31T06:45:16.565016",
     "status": "completed"
    },
    "tags": []
   },
   "source": [
    "### By Pendulum scale"
   ]
  },
  {
   "cell_type": "code",
   "execution_count": null,
   "id": "87",
   "metadata": {
    "papermill": {
     "duration": 8.285347,
     "end_time": "2025-05-31T06:45:27.107028",
     "exception": false,
     "start_time": "2025-05-31T06:45:18.821681",
     "status": "completed"
    },
    "tags": []
   },
   "outputs": [],
   "source": [
    "pendulum_last = get_releases_by(\n",
    "    full_df[(full_df[\"Card type\"] != \"Non-game card\")], column=\"Pendulum Scale\", operation=\"last\", crosstab=False\n",
    ")\n",
    "pendulum_last.groupby(pendulum_last[\"Last release\"].dt.year)[\"Pendulum Scale\"].describe()"
   ]
  },
  {
   "cell_type": "code",
   "execution_count": null,
   "id": "88",
   "metadata": {
    "papermill": {
     "duration": 2.846043,
     "end_time": "2025-05-31T06:45:30.963213",
     "exception": false,
     "start_time": "2025-05-31T06:45:28.117170",
     "status": "completed"
    },
    "tags": []
   },
   "outputs": [],
   "source": [
    "_ = plot.box(\n",
    "    pendulum_last,\n",
    "    color=plot.colors_dict[\"Spell Card\"],\n",
    "    notch=True,\n",
    ")\n",
    "plt.show()"
   ]
  },
  {
   "cell_type": "markdown",
   "id": "89",
   "metadata": {
    "papermill": {
     "duration": 1.175733,
     "end_time": "2025-05-31T06:45:33.491715",
     "exception": false,
     "start_time": "2025-05-31T06:45:32.315982",
     "status": "completed"
    },
    "tags": []
   },
   "source": [
    "### By Link"
   ]
  },
  {
   "cell_type": "code",
   "execution_count": null,
   "id": "90",
   "metadata": {
    "papermill": {
     "duration": 1.186565,
     "end_time": "2025-05-31T06:45:35.923987",
     "exception": false,
     "start_time": "2025-05-31T06:45:34.737422",
     "status": "completed"
    },
    "tags": []
   },
   "outputs": [],
   "source": [
    "link_last = get_releases_by(\n",
    "    full_df[(full_df[\"Card type\"] != \"Non-game card\") & (full_df[\"Primary type\"] == \"Link Monster\")],\n",
    "    column=\"Level/Rank/Link\",\n",
    "    operation=\"last\",\n",
    "    crosstab=False,\n",
    ")\n",
    "link_last.groupby(link_last[\"Last release\"].dt.year)[\"Level/Rank/Link\"].describe()"
   ]
  },
  {
   "cell_type": "code",
   "execution_count": null,
   "id": "91",
   "metadata": {
    "papermill": {
     "duration": 1.256933,
     "end_time": "2025-05-31T06:45:38.163799",
     "exception": false,
     "start_time": "2025-05-31T06:45:36.906866",
     "status": "completed"
    },
    "tags": []
   },
   "outputs": [],
   "source": [
    "_ = plot.box(\n",
    "    link_last,\n",
    "    color=plot.colors_dict[\"Link Monster\"],\n",
    "    notch=True,\n",
    ")\n",
    "plt.show()"
   ]
  },
  {
   "cell_type": "markdown",
   "id": "92",
   "metadata": {
    "papermill": {
     "duration": 1.017003,
     "end_time": "2025-05-31T06:45:40.528910",
     "exception": false,
     "start_time": "2025-05-31T06:45:39.511907",
     "status": "completed"
    },
    "tags": []
   },
   "source": [
    "### By ATK"
   ]
  },
  {
   "cell_type": "code",
   "execution_count": null,
   "id": "93",
   "metadata": {
    "papermill": {
     "duration": 8.807268,
     "end_time": "2025-05-31T06:45:51.799044",
     "exception": false,
     "start_time": "2025-05-31T06:45:42.991776",
     "status": "completed"
    },
    "tags": []
   },
   "outputs": [],
   "source": [
    "atk_last = get_releases_by(\n",
    "    full_df[(full_df[\"Card type\"] != \"Non-game card\")], column=\"ATK\", operation=\"last\", crosstab=False\n",
    ")\n",
    "atk_last.groupby(atk_last[\"Last release\"].dt.year)[\"ATK\"].describe()"
   ]
  },
  {
   "cell_type": "code",
   "execution_count": null,
   "id": "94",
   "metadata": {
    "papermill": {
     "duration": 3.95389,
     "end_time": "2025-05-31T06:45:57.913926",
     "exception": false,
     "start_time": "2025-05-31T06:45:53.960036",
     "status": "completed"
    },
    "tags": []
   },
   "outputs": [],
   "source": [
    "_ = plot.box(\n",
    "    atk_last,\n",
    "    color=plot.colors_dict[\"Effect Monster\"],\n",
    "    notch=True,\n",
    ")\n",
    "plt.show()"
   ]
  },
  {
   "cell_type": "markdown",
   "id": "95",
   "metadata": {
    "papermill": {
     "duration": 1.211909,
     "end_time": "2025-05-31T06:46:00.426573",
     "exception": false,
     "start_time": "2025-05-31T06:45:59.214664",
     "status": "completed"
    },
    "tags": []
   },
   "source": [
    "### By DEF"
   ]
  },
  {
   "cell_type": "code",
   "execution_count": null,
   "id": "96",
   "metadata": {
    "papermill": {
     "duration": 7.554742,
     "end_time": "2025-05-31T06:46:09.550617",
     "exception": false,
     "start_time": "2025-05-31T06:46:01.995875",
     "status": "completed"
    },
    "tags": []
   },
   "outputs": [],
   "source": [
    "def_last = get_releases_by(\n",
    "    full_df[(full_df[\"Card type\"] != \"Non-game card\")], column=\"DEF\", operation=\"last\", crosstab=False\n",
    ")\n",
    "def_last.groupby(def_last[\"Last release\"].dt.year)[\"DEF\"].describe()"
   ]
  },
  {
   "cell_type": "code",
   "execution_count": null,
   "id": "97",
   "metadata": {
    "papermill": {
     "duration": 2.558648,
     "end_time": "2025-05-31T06:46:13.262324",
     "exception": false,
     "start_time": "2025-05-31T06:46:10.703676",
     "status": "completed"
    },
    "tags": []
   },
   "outputs": [],
   "source": [
    "_ = plot.box(\n",
    "    def_last,\n",
    "    color=plot.colors_dict[\"Effect Monster\"],\n",
    "    notch=True,\n",
    ")\n",
    "plt.show()"
   ]
  },
  {
   "cell_type": "markdown",
   "id": "98",
   "metadata": {
    "papermill": {
     "duration": 1.773509,
     "end_time": "2025-05-31T06:46:16.060256",
     "exception": false,
     "start_time": "2025-05-31T06:46:14.286747",
     "status": "completed"
    },
    "tags": []
   },
   "source": [
    "## All releases"
   ]
  },
  {
   "cell_type": "markdown",
   "id": "99",
   "metadata": {
    "papermill": {
     "duration": 0.960357,
     "end_time": "2025-05-31T06:46:19.717145",
     "exception": false,
     "start_time": "2025-05-31T06:46:18.756788",
     "status": "completed"
    },
    "tags": []
   },
   "source": [
    "Obs: All releases includes reprints"
   ]
  },
  {
   "cell_type": "code",
   "execution_count": null,
   "id": "100",
   "metadata": {
    "papermill": {
     "duration": 13.014391,
     "end_time": "2025-05-31T06:46:34.257341",
     "exception": false,
     "start_time": "2025-05-31T06:46:21.242950",
     "status": "completed"
    },
    "tags": []
   },
   "outputs": [],
   "source": [
    "full_df[full_df[\"Release\"].notna()].groupby(\"Name\")[\"Release\"].unique().explode().reset_index().set_index(\n",
    "    \"Release\"\n",
    ").sort_index()"
   ]
  },
  {
   "cell_type": "code",
   "execution_count": null,
   "id": "101",
   "metadata": {
    "papermill": {
     "duration": 17.234091,
     "end_time": "2025-05-31T06:46:52.812010",
     "exception": false,
     "start_time": "2025-05-31T06:46:35.577919",
     "status": "completed"
    },
    "tags": []
   },
   "outputs": [],
   "source": [
    "all_releases = (\n",
    "    get_releases_by(full_df, column=None, operation=\"all\", crosstab=False).value_counts(sort=False).rename(\"All formats\")\n",
    ")\n",
    "_ = plot.rate(all_releases, bg=anime_df, vlines=rules_df[\"begin\"], limit_year=True)\n",
    "plt.show()"
   ]
  },
  {
   "cell_type": "markdown",
   "id": "102",
   "metadata": {
    "papermill": {
     "duration": 1.404095,
     "end_time": "2025-05-31T06:46:55.734532",
     "exception": false,
     "start_time": "2025-05-31T06:46:54.330437",
     "status": "completed"
    },
    "tags": []
   },
   "source": [
    "### By Region"
   ]
  },
  {
   "cell_type": "code",
   "execution_count": null,
   "id": "103",
   "metadata": {
    "papermill": {
     "duration": 37.013629,
     "end_time": "2025-05-31T06:47:34.040542",
     "exception": false,
     "start_time": "2025-05-31T06:46:57.026913",
     "status": "completed"
    },
    "tags": []
   },
   "outputs": [],
   "source": [
    "region_release_counts = get_releases_by(full_df, column=\"Region\", operation=\"all\", crosstab=True)\n",
    "region_release_counts.groupby(region_release_counts.index.strftime(\"%Y\")).sum()"
   ]
  },
  {
   "cell_type": "code",
   "execution_count": null,
   "id": "104",
   "metadata": {
    "papermill": {
     "duration": 42.138729,
     "end_time": "2025-05-31T06:48:17.257680",
     "exception": false,
     "start_time": "2025-05-31T06:47:35.118951",
     "status": "completed"
    },
    "tags": []
   },
   "outputs": [],
   "source": [
    "_ = plot.rate(region_release_counts, bg=anime_df, vlines=rules_df[\"begin\"], limit_year=True, subplots=True)\n",
    "plt.show()"
   ]
  },
  {
   "cell_type": "markdown",
   "id": "105",
   "metadata": {
    "papermill": {
     "duration": 1.977748,
     "end_time": "2025-05-31T06:48:20.741703",
     "exception": false,
     "start_time": "2025-05-31T06:48:18.763955",
     "status": "completed"
    },
    "tags": []
   },
   "source": [
    "### By Card type"
   ]
  },
  {
   "cell_type": "code",
   "execution_count": null,
   "id": "106",
   "metadata": {
    "papermill": {
     "duration": 12.266677,
     "end_time": "2025-05-31T06:48:34.642535",
     "exception": false,
     "start_time": "2025-05-31T06:48:22.375858",
     "status": "completed"
    },
    "tags": []
   },
   "outputs": [],
   "source": [
    "ct_release_counts = get_releases_by(full_df, column=\"Card type\", operation=\"all\", crosstab=True)\n",
    "ct_release_counts.groupby(ct_release_counts.index.strftime(\"%Y\")).sum()"
   ]
  },
  {
   "cell_type": "code",
   "execution_count": null,
   "id": "107",
   "metadata": {
    "papermill": {
     "duration": 4.376884,
     "end_time": "2025-05-31T06:48:40.181996",
     "exception": false,
     "start_time": "2025-05-31T06:48:35.805112",
     "status": "completed"
    },
    "tags": []
   },
   "outputs": [],
   "source": [
    "_ct_release_plot = ct_release_counts[[\"Monster Card\", \"Spell Card\", \"Trap Card\", \"Skill Card\"]]\n",
    "_ct_colors = [plot.colors_dict[col] for col in _ct_release_plot.columns]\n",
    "_ = plot.rate(_ct_release_plot, colors=_ct_colors, bg=anime_df, vlines=rules_df[\"begin\"], limit_year=True)\n",
    "plt.show()"
   ]
  },
  {
   "cell_type": "markdown",
   "id": "108",
   "metadata": {
    "papermill": {
     "duration": 1.478569,
     "end_time": "2025-05-31T06:48:43.224695",
     "exception": false,
     "start_time": "2025-05-31T06:48:41.746126",
     "status": "completed"
    },
    "tags": []
   },
   "source": [
    "### By Primary type"
   ]
  },
  {
   "cell_type": "code",
   "execution_count": null,
   "id": "109",
   "metadata": {
    "papermill": {
     "duration": 9.689417,
     "end_time": "2025-05-31T06:48:54.731247",
     "exception": false,
     "start_time": "2025-05-31T06:48:45.041830",
     "status": "completed"
    },
    "tags": []
   },
   "outputs": [],
   "source": [
    "pt_release_counts = get_releases_by(full_df, column=\"Primary type\", operation=\"all\", crosstab=True)\n",
    "pt_release_counts.groupby(pt_release_counts.index.strftime(\"%Y\")).sum()"
   ]
  },
  {
   "cell_type": "code",
   "execution_count": null,
   "id": "110",
   "metadata": {
    "papermill": {
     "duration": 5.829344,
     "end_time": "2025-05-31T06:49:01.924027",
     "exception": false,
     "start_time": "2025-05-31T06:48:56.094683",
     "status": "completed"
    },
    "tags": []
   },
   "outputs": [],
   "source": [
    "primary_type_colors = [plot.colors_dict[col] for col in pt_release_counts.columns]\n",
    "_ = plot.rate(pt_release_counts, colors=primary_type_colors, bg=anime_df, vlines=rules_df[\"begin\"], limit_year=True)\n",
    "plt.show()"
   ]
  },
  {
   "cell_type": "markdown",
   "id": "111",
   "metadata": {
    "papermill": {
     "duration": 1.378248,
     "end_time": "2025-05-31T06:49:04.815958",
     "exception": false,
     "start_time": "2025-05-31T06:49:03.437710",
     "status": "completed"
    },
    "tags": []
   },
   "source": [
    "### By Secondary type"
   ]
  },
  {
   "cell_type": "code",
   "execution_count": null,
   "id": "112",
   "metadata": {
    "papermill": {
     "duration": 7.554168,
     "end_time": "2025-05-31T06:49:14.421089",
     "exception": false,
     "start_time": "2025-05-31T06:49:06.866921",
     "status": "completed"
    },
    "tags": []
   },
   "outputs": [],
   "source": [
    "st_release_counts = get_releases_by(full_df, column=\"Secondary type\", operation=\"all\", crosstab=True)\n",
    "st_release_counts.groupby(st_release_counts.index.strftime(\"%Y\")).sum()"
   ]
  },
  {
   "cell_type": "code",
   "execution_count": null,
   "id": "113",
   "metadata": {
    "papermill": {
     "duration": 18.612068,
     "end_time": "2025-05-31T06:49:34.408944",
     "exception": false,
     "start_time": "2025-05-31T06:49:15.796876",
     "status": "completed"
    },
    "tags": []
   },
   "outputs": [],
   "source": [
    "_ = plot.rate(st_release_counts, bg=anime_df, vlines=rules_df[\"begin\"], limit_year=True, subplots=True)\n",
    "plt.show()"
   ]
  },
  {
   "cell_type": "markdown",
   "id": "114",
   "metadata": {
    "papermill": {
     "duration": 1.525694,
     "end_time": "2025-05-31T06:49:37.280464",
     "exception": false,
     "start_time": "2025-05-31T06:49:35.754770",
     "status": "completed"
    },
    "tags": []
   },
   "source": [
    "### By Attribute"
   ]
  },
  {
   "cell_type": "code",
   "execution_count": null,
   "id": "115",
   "metadata": {
    "papermill": {
     "duration": 10.504088,
     "end_time": "2025-05-31T06:49:49.115441",
     "exception": false,
     "start_time": "2025-05-31T06:49:38.611353",
     "status": "completed"
    },
    "tags": []
   },
   "outputs": [],
   "source": [
    "att_release_counts = get_releases_by(full_df, column=\"Attribute\", operation=\"all\", crosstab=True)\n",
    "att_release_counts.groupby(att_release_counts.index.strftime(\"%Y\")).sum()"
   ]
  },
  {
   "cell_type": "code",
   "execution_count": null,
   "id": "116",
   "metadata": {
    "papermill": {
     "duration": 5.293737,
     "end_time": "2025-05-31T06:49:56.563939",
     "exception": false,
     "start_time": "2025-05-31T06:49:51.270202",
     "status": "completed"
    },
    "tags": []
   },
   "outputs": [],
   "source": [
    "attribute_colors = [plot.colors_dict[col] for col in att_release_counts.columns]\n",
    "_ = plot.rate(\n",
    "    att_release_counts, colors=attribute_colors, bg=anime_df, vlines=rules_df[\"begin\"], cumsum=True, limit_year=True\n",
    ")\n",
    "plt.show()"
   ]
  },
  {
   "cell_type": "markdown",
   "id": "117",
   "metadata": {
    "papermill": {
     "duration": 4.654259,
     "end_time": "2025-05-31T06:50:03.165750",
     "exception": false,
     "start_time": "2025-05-31T06:49:58.511491",
     "status": "completed"
    },
    "tags": []
   },
   "source": [
    "### By Monster type"
   ]
  },
  {
   "cell_type": "code",
   "execution_count": null,
   "id": "118",
   "metadata": {
    "papermill": {
     "duration": 14.965806,
     "end_time": "2025-05-31T06:50:19.469569",
     "exception": false,
     "start_time": "2025-05-31T06:50:04.503763",
     "status": "completed"
    },
    "tags": []
   },
   "outputs": [],
   "source": [
    "mt_release_counts = get_releases_by(full_df, column=\"Monster type\", operation=\"all\", crosstab=True)\n",
    "mt_release_counts.groupby(mt_release_counts.index.strftime(\"%Y\")).sum()"
   ]
  },
  {
   "cell_type": "code",
   "execution_count": null,
   "id": "119",
   "metadata": {
    "papermill": {
     "duration": 73.885821,
     "end_time": "2025-05-31T06:51:36.560464",
     "exception": false,
     "start_time": "2025-05-31T06:50:22.674643",
     "status": "completed"
    },
    "tags": []
   },
   "outputs": [],
   "source": [
    "_ = plot.rate(mt_release_counts, bg=anime_df, vlines=rules_df[\"begin\"], subplots=True, limit_year=True)\n",
    "plt.show()"
   ]
  },
  {
   "cell_type": "markdown",
   "id": "120",
   "metadata": {
    "papermill": {
     "duration": 1.569743,
     "end_time": "2025-05-31T06:51:39.789469",
     "exception": false,
     "start_time": "2025-05-31T06:51:38.219726",
     "status": "completed"
    },
    "tags": []
   },
   "source": [
    "### By Level/Rank"
   ]
  },
  {
   "cell_type": "code",
   "execution_count": null,
   "id": "121",
   "metadata": {
    "papermill": {
     "duration": 9.475072,
     "end_time": "2025-05-31T06:51:52.203345",
     "exception": false,
     "start_time": "2025-05-31T06:51:42.728273",
     "status": "completed"
    },
    "tags": []
   },
   "outputs": [],
   "source": [
    "level_release = get_releases_by(\n",
    "    full_df[(full_df[\"Card type\"] != \"Non-game card\") & (full_df[\"Primary type\"] != \"Link Monster\")],\n",
    "    column=\"Level/Rank/Link\",\n",
    "    operation=\"all\",\n",
    "    crosstab=False,\n",
    ")\n",
    "level_release.groupby(level_release[\"All releases\"].dt.year)[\"Level/Rank/Link\"].describe()"
   ]
  },
  {
   "cell_type": "code",
   "execution_count": null,
   "id": "122",
   "metadata": {
    "papermill": {
     "duration": 4.745228,
     "end_time": "2025-05-31T06:51:58.838892",
     "exception": false,
     "start_time": "2025-05-31T06:51:54.093664",
     "status": "completed"
    },
    "tags": []
   },
   "outputs": [],
   "source": [
    "_ = plot.box(\n",
    "    level_release,\n",
    "    color=plot.colors_dict[\"Level\"],\n",
    "    notch=True,\n",
    ")\n",
    "plt.show()"
   ]
  },
  {
   "cell_type": "markdown",
   "id": "123",
   "metadata": {
    "papermill": {
     "duration": 2.248826,
     "end_time": "2025-05-31T06:52:03.384571",
     "exception": false,
     "start_time": "2025-05-31T06:52:01.135745",
     "status": "completed"
    },
    "tags": []
   },
   "source": [
    "### By Pendulum scale"
   ]
  },
  {
   "cell_type": "code",
   "execution_count": null,
   "id": "124",
   "metadata": {
    "papermill": {
     "duration": 8.389972,
     "end_time": "2025-05-31T06:52:14.038336",
     "exception": false,
     "start_time": "2025-05-31T06:52:05.648364",
     "status": "completed"
    },
    "tags": []
   },
   "outputs": [],
   "source": [
    "pendulum_release = get_releases_by(\n",
    "    full_df[(full_df[\"Card type\"] != \"Non-game card\")],\n",
    "    column=\"Pendulum Scale\",\n",
    "    operation=\"all\",\n",
    "    crosstab=False,\n",
    ")\n",
    "pendulum_release.groupby(pendulum_release[\"All releases\"].dt.year)[\"Pendulum Scale\"].describe()"
   ]
  },
  {
   "cell_type": "code",
   "execution_count": null,
   "id": "125",
   "metadata": {
    "papermill": {
     "duration": 2.597658,
     "end_time": "2025-05-31T06:52:18.306997",
     "exception": false,
     "start_time": "2025-05-31T06:52:15.709339",
     "status": "completed"
    },
    "tags": []
   },
   "outputs": [],
   "source": [
    "_ = plot.box(\n",
    "    pendulum_release,\n",
    "    color=plot.colors_dict[\"Pendulum Monster\"],\n",
    "    notch=True,\n",
    ")\n",
    "plt.show()"
   ]
  },
  {
   "cell_type": "markdown",
   "id": "126",
   "metadata": {
    "papermill": {
     "duration": 2.563865,
     "end_time": "2025-05-31T06:52:22.471097",
     "exception": false,
     "start_time": "2025-05-31T06:52:19.907232",
     "status": "completed"
    },
    "tags": []
   },
   "source": [
    "### By Link"
   ]
  },
  {
   "cell_type": "code",
   "execution_count": null,
   "id": "127",
   "metadata": {
    "papermill": {
     "duration": 3.262389,
     "end_time": "2025-05-31T06:52:27.709536",
     "exception": false,
     "start_time": "2025-05-31T06:52:24.447147",
     "status": "completed"
    },
    "tags": []
   },
   "outputs": [],
   "source": [
    "link_release = get_releases_by(\n",
    "    full_df[(full_df[\"Card type\"] != \"Non-game card\") & (full_df[\"Primary type\"] == \"Link Monster\")],\n",
    "    column=\"Level/Rank/Link\",\n",
    "    operation=\"all\",\n",
    "    crosstab=False,\n",
    ")\n",
    "link_release.groupby(link_release[\"All releases\"].dt.year)[\"Level/Rank/Link\"].describe()"
   ]
  },
  {
   "cell_type": "code",
   "execution_count": null,
   "id": "128",
   "metadata": {
    "papermill": {
     "duration": 2.498589,
     "end_time": "2025-05-31T06:52:32.396834",
     "exception": false,
     "start_time": "2025-05-31T06:52:29.898245",
     "status": "completed"
    },
    "tags": []
   },
   "outputs": [],
   "source": [
    "_ = plot.box(\n",
    "    link_release,\n",
    "    color=plot.colors_dict[\"Link Monster\"],\n",
    ")\n",
    "plt.show()"
   ]
  },
  {
   "cell_type": "markdown",
   "id": "129",
   "metadata": {
    "papermill": {
     "duration": 2.142722,
     "end_time": "2025-05-31T06:52:36.235146",
     "exception": false,
     "start_time": "2025-05-31T06:52:34.092424",
     "status": "completed"
    },
    "tags": []
   },
   "source": [
    "### By ATK"
   ]
  },
  {
   "cell_type": "code",
   "execution_count": null,
   "id": "130",
   "metadata": {
    "papermill": {
     "duration": 9.95617,
     "end_time": "2025-05-31T06:52:47.997512",
     "exception": false,
     "start_time": "2025-05-31T06:52:38.041342",
     "status": "completed"
    },
    "tags": []
   },
   "outputs": [],
   "source": [
    "atk_release = get_releases_by(\n",
    "    full_df[full_df[\"Card type\"] != \"Non-game card\"], column=\"ATK\", operation=\"all\", crosstab=False\n",
    ")\n",
    "atk_release.groupby(atk_release[\"All releases\"].dt.year)[\"ATK\"].describe()"
   ]
  },
  {
   "cell_type": "code",
   "execution_count": null,
   "id": "131",
   "metadata": {
    "papermill": {
     "duration": 4.259309,
     "end_time": "2025-05-31T06:52:54.013663",
     "exception": false,
     "start_time": "2025-05-31T06:52:49.754354",
     "status": "completed"
    },
    "tags": []
   },
   "outputs": [],
   "source": [
    "_ = plot.box(\n",
    "    atk_release,\n",
    "    color=plot.colors_dict[\"Effect Monster\"],\n",
    "    notch=True,\n",
    ")\n",
    "plt.show()"
   ]
  },
  {
   "cell_type": "markdown",
   "id": "132",
   "metadata": {
    "papermill": {
     "duration": 1.570736,
     "end_time": "2025-05-31T06:52:57.576354",
     "exception": false,
     "start_time": "2025-05-31T06:52:56.005618",
     "status": "completed"
    },
    "tags": []
   },
   "source": [
    "### By DEF"
   ]
  },
  {
   "cell_type": "code",
   "execution_count": null,
   "id": "133",
   "metadata": {
    "papermill": {
     "duration": 13.54029,
     "end_time": "2025-05-31T06:53:12.809245",
     "exception": false,
     "start_time": "2025-05-31T06:52:59.268955",
     "status": "completed"
    },
    "tags": []
   },
   "outputs": [],
   "source": [
    "def_release = get_releases_by(\n",
    "    full_df[full_df[\"Card type\"] != \"Non-game card\"], column=\"DEF\", operation=\"all\", crosstab=False\n",
    ")\n",
    "def_release.groupby(def_release[\"All releases\"].dt.year)[\"DEF\"].describe()"
   ]
  },
  {
   "cell_type": "code",
   "execution_count": null,
   "id": "134",
   "metadata": {
    "papermill": {
     "duration": 3.886605,
     "end_time": "2025-05-31T06:53:18.308466",
     "exception": false,
     "start_time": "2025-05-31T06:53:14.421861",
     "status": "completed"
    },
    "tags": []
   },
   "outputs": [],
   "source": [
    "_ = plot.box(\n",
    "    def_release,\n",
    "    color=plot.colors_dict[\"Effect Monster\"],\n",
    "    notch=True,\n",
    ")\n",
    "plt.show()"
   ]
  },
  {
   "cell_type": "markdown",
   "id": "135",
   "metadata": {
    "papermill": {
     "duration": 2.334288,
     "end_time": "2025-05-31T06:53:22.403385",
     "exception": false,
     "start_time": "2025-05-31T06:53:20.069097",
     "status": "completed"
    },
    "tags": []
   },
   "source": [
    "# Merge failed"
   ]
  },
  {
   "cell_type": "markdown",
   "id": "136",
   "metadata": {
    "papermill": {
     "duration": 1.811772,
     "end_time": "2025-05-31T06:53:26.159449",
     "exception": false,
     "start_time": "2025-05-31T06:53:24.347677",
     "status": "completed"
    },
    "tags": []
   },
   "source": [
    "## Names missing"
   ]
  },
  {
   "cell_type": "markdown",
   "id": "137",
   "metadata": {
    "papermill": {
     "duration": 1.964694,
     "end_time": "2025-05-31T06:53:30.842017",
     "exception": false,
     "start_time": "2025-05-31T06:53:28.877323",
     "status": "completed"
    },
    "tags": []
   },
   "source": [
    "Likely due to card being renamed but the old name kept in the set lists"
   ]
  },
  {
   "cell_type": "code",
   "execution_count": null,
   "id": "138",
   "metadata": {
    "papermill": {
     "duration": 3.850096,
     "end_time": "2025-05-31T06:53:37.085680",
     "exception": false,
     "start_time": "2025-05-31T06:53:33.235584",
     "status": "completed"
    },
    "tags": []
   },
   "outputs": [],
   "source": [
    "cards_df.where(~cards_df[\"Name\"].isin(full_df[\"Name\"])).dropna(how=\"all\")"
   ]
  },
  {
   "cell_type": "markdown",
   "id": "139",
   "metadata": {
    "papermill": {
     "duration": 1.585361,
     "end_time": "2025-05-31T06:53:40.274207",
     "exception": false,
     "start_time": "2025-05-31T06:53:38.688846",
     "status": "completed"
    },
    "tags": []
   },
   "source": [
    "## Card number missing"
   ]
  },
  {
   "cell_type": "markdown",
   "id": "140",
   "metadata": {
    "papermill": {
     "duration": 1.787061,
     "end_time": "2025-05-31T06:53:44.589389",
     "exception": false,
     "start_time": "2025-05-31T06:53:42.802328",
     "status": "completed"
    },
    "tags": []
   },
   "source": [
    "Likely old OCG cards without card number"
   ]
  },
  {
   "cell_type": "code",
   "execution_count": null,
   "id": "141",
   "metadata": {
    "papermill": {
     "duration": 3.48658,
     "end_time": "2025-05-31T06:53:49.653478",
     "exception": false,
     "start_time": "2025-05-31T06:53:46.166898",
     "status": "completed"
    },
    "tags": []
   },
   "outputs": [],
   "source": [
    "set_lists_df.where(\n",
    "    (~set_lists_df[\"Card number\"].isin(full_df[\"Card number\"]))\n",
    "    & (~set_lists_df[\"Card number\"].dropna().str.startswith(\"RD/\"))\n",
    ").dropna(how=\"all\")"
   ]
  },
  {
   "cell_type": "markdown",
   "id": "142",
   "metadata": {
    "papermill": {
     "duration": 1.53421,
     "end_time": "2025-05-31T06:53:53.522901",
     "exception": false,
     "start_time": "2025-05-31T06:53:51.988691",
     "status": "completed"
    },
    "tags": []
   },
   "source": [
    "# Epilogue"
   ]
  },
  {
   "cell_type": "code",
   "execution_count": null,
   "id": "143",
   "metadata": {
    "papermill": {
     "duration": 16.783423,
     "end_time": "2025-05-31T06:54:12.131478",
     "exception": false,
     "start_time": "2025-05-31T06:53:55.348055",
     "status": "completed"
    },
    "tags": []
   },
   "outputs": [],
   "source": [
    "benchmark(report=\"timeline\", timestamp=timestamp)"
   ]
  },
  {
   "cell_type": "code",
   "execution_count": null,
   "id": "144",
   "metadata": {
    "papermill": {
     "duration": 2.200445,
     "end_time": "2025-05-31T06:54:16.033098",
     "exception": false,
     "start_time": "2025-05-31T06:54:13.832653",
     "status": "completed"
    },
    "tags": []
   },
   "outputs": [],
   "source": [
    "footer()"
   ]
  },
  {
   "cell_type": "markdown",
   "id": "145",
   "metadata": {
    "papermill": {
     "duration": 2.184555,
     "end_time": "2025-05-31T06:54:19.821968",
     "exception": false,
     "start_time": "2025-05-31T06:54:17.637413",
     "status": "completed"
    },
    "tags": []
   },
   "source": [
    "## HTML export"
   ]
  },
  {
   "cell_type": "code",
   "execution_count": null,
   "id": "146",
   "metadata": {
    "papermill": {
     "duration": 1.745329,
     "end_time": "2025-05-31T06:54:23.913246",
     "exception": false,
     "start_time": "2025-05-31T06:54:22.167917",
     "status": "completed"
    },
    "tags": []
   },
   "outputs": [],
   "source": [
    "# May need to sleep for a few seconds after saving\n",
    "save_notebook()"
   ]
  },
  {
   "cell_type": "code",
   "execution_count": null,
   "id": "147",
   "metadata": {
    "papermill": {
     "duration": 11.988579,
     "end_time": "2025-05-31T06:54:38.391729",
     "exception": false,
     "start_time": "2025-05-31T06:54:26.403150",
     "status": "completed"
    },
    "tags": []
   },
   "outputs": [],
   "source": [
    "export_notebook(dirs.NOTEBOOKS.user / \"Timeline.ipynb\")"
   ]
  },
  {
   "cell_type": "markdown",
   "id": "148",
   "metadata": {
    "papermill": {
     "duration": 3.155134,
     "end_time": "2025-05-31T06:54:43.362437",
     "exception": false,
     "start_time": "2025-05-31T06:54:40.207303",
     "status": "completed"
    },
    "tags": [
     "exclude"
    ]
   },
   "source": [
    "## Git"
   ]
  },
  {
   "cell_type": "code",
   "execution_count": null,
   "id": "149",
   "metadata": {
    "papermill": {
     "duration": null,
     "end_time": null,
     "exception": false,
     "start_time": "2025-05-31T06:54:45.237849",
     "status": "running"
    },
    "tags": [
     "exclude"
    ]
   },
   "outputs": [],
   "source": [
    "git.commit(\"*[Tt]imeline*\", f\"Timeline update - {timestamp.isoformat()}\")"
   ]
  }
 ],
 "metadata": {
  "kernelspec": {
   "display_name": "venv",
   "language": "python",
   "name": "python3"
  },
  "language_info": {
   "codemirror_mode": {
    "name": "ipython",
    "version": 3
   },
   "file_extension": ".py",
   "mimetype": "text/x-python",
   "name": "python",
   "nbconvert_exporter": "python",
   "pygments_lexer": "ipython3",
   "version": "3.11.6"
  },
  "papermill": {
   "default_parameters": {},
   "duration": null,
   "end_time": null,
   "environment_variables": {},
   "exception": null,
   "input_path": "/home/jovyan/yugiquery/notebooks/Timeline.ipynb",
   "output_path": "/home/jovyan/yugiquery/notebooks/Timeline.ipynb",
   "parameters": {},
   "start_time": "2025-05-31T06:32:48.402105",
   "version": "2.6.0"
  },
  "toc": {
   "base_numbering": 1,
   "nav_menu": {},
   "number_sections": true,
   "sideBar": true,
   "skip_h1_title": false,
   "title_cell": "Table of Contents",
   "title_sidebar": "Contents",
   "toc_cell": true,
   "toc_position": {},
   "toc_section_display": true,
   "toc_window_display": true
  }
 },
 "nbformat": 4,
 "nbformat_minor": 5
}
