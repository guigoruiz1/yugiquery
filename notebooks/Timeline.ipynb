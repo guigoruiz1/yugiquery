{
 "cells": [
  {
   "cell_type": "code",
   "execution_count": null,
   "id": "0",
   "metadata": {
    "papermill": {
     "duration": 29.179098,
     "end_time": "2024-12-28T07:31:21.721658",
     "exception": false,
     "start_time": "2024-12-28T07:30:52.542560",
     "status": "completed"
    },
    "tags": []
   },
   "outputs": [],
   "source": [
    "from yugiquery import *\n",
    "\n",
    "init_notebook_mode(all_interactive=True)\n",
    "\n",
    "header(\"Timeline\")"
   ]
  },
  {
   "cell_type": "markdown",
   "id": "1",
   "metadata": {
    "papermill": {
     "duration": 0.495579,
     "end_time": "2024-12-28T07:31:22.255603",
     "exception": false,
     "start_time": "2024-12-28T07:31:21.760024",
     "status": "completed"
    },
    "tags": []
   },
   "source": [
    "---"
   ]
  },
  {
   "cell_type": "markdown",
   "id": "2",
   "metadata": {
    "papermill": {
     "duration": 0.110779,
     "end_time": "2024-12-28T07:31:22.544544",
     "exception": false,
     "start_time": "2024-12-28T07:31:22.433765",
     "status": "completed"
    },
    "tags": []
   },
   "source": [
    "Table of Contents <a class=\"jp-toc-ignore\"></a>\n",
    "=================\n",
    "* [1 Data preparation](#data-preparation)\n",
    "  * [1.1 Load data](#load-data)\n",
    "  * [1.2 Format data](#format-data)\n",
    "  * [1.3 Merge data](#merge-data)\n",
    "* [2 Data visualization](#data-visualization)\n",
    "  * [2.1 First releases](#first-releases)\n",
    "    * [2.1.1 By region](#by-region)\n",
    "  * [2.2 Last releases](#last-releases)\n",
    "    * [2.2.1 By region](#by-region)\n",
    "  * [2.3 All Releases](#all-releases)\n",
    "    * [2.3.1 By card type](#by-card-type)\n",
    "    * [2.3.2 By primary type](#by-primary-type)\n",
    "    * [2.3.3 By secondary type](#by-secondary-type)\n",
    "    * [2.3.4 By attribute](#by-attribute)\n",
    "    * [2.3.5 By monster type](#by-monster-type)\n",
    "    * [2.3.6 By Level/Rank](#by-level/rank)\n",
    "    * [2.3.7 By ATK](#by-atk)\n",
    "    * [2.3.8 By DEF](#by-def)\n",
    "    * [2.3.9 By pendulum scale](#by-pendulum-scale)\n",
    "    * [2.3.10 By link](#by-link)\n",
    "* [3 Debug](#debug)\n",
    "  * [3.1 Merge failed](#merge-failed)\n",
    "  * [3.2 HTML export](#html-export)\n",
    "  <!-- * [3.3 Git](#git) -->"
   ]
  },
  {
   "cell_type": "markdown",
   "id": "3",
   "metadata": {
    "papermill": {
     "duration": 0.351633,
     "end_time": "2024-12-28T07:31:23.095876",
     "exception": false,
     "start_time": "2024-12-28T07:31:22.744243",
     "status": "completed"
    },
    "tags": []
   },
   "source": [
    "# Data preparation"
   ]
  },
  {
   "cell_type": "code",
   "execution_count": null,
   "id": "4",
   "metadata": {
    "papermill": {
     "duration": 0.316109,
     "end_time": "2024-12-28T07:31:23.714134",
     "exception": false,
     "start_time": "2024-12-28T07:31:23.398025",
     "status": "completed"
    },
    "tags": []
   },
   "outputs": [],
   "source": [
    "timestamp = arrow.utcnow()"
   ]
  },
  {
   "cell_type": "markdown",
   "id": "5",
   "metadata": {
    "papermill": {
     "duration": 0.078799,
     "end_time": "2024-12-28T07:31:24.298750",
     "exception": false,
     "start_time": "2024-12-28T07:31:24.219951",
     "status": "completed"
    },
    "tags": []
   },
   "source": [
    "## Load data"
   ]
  },
  {
   "cell_type": "code",
   "execution_count": null,
   "id": "6",
   "metadata": {
    "papermill": {
     "duration": 0.239066,
     "end_time": "2024-12-28T07:31:24.576148",
     "exception": false,
     "start_time": "2024-12-28T07:31:24.337082",
     "status": "completed"
    },
    "tags": []
   },
   "outputs": [],
   "source": [
    "# Load list of important dates\n",
    "with open(dirs.get_asset(\"json\", \"dates.json\"), \"r\") as f:\n",
    "    dates_json = json.load(f)\n",
    "    anime_df = pd.DataFrame(dates_json[\"anime\"][\"series\"]).set_index(\"title\").map(pd.to_datetime, dayfirst=True)\n",
    "    rules_df = (\n",
    "        pd.DataFrame(dates_json[\"rules\"]).set_index(\"title\").map(pd.to_datetime, dayfirst=True).iloc[2:]\n",
    "    )  # Ignore old rules"
   ]
  },
  {
   "cell_type": "code",
   "execution_count": null,
   "id": "7",
   "metadata": {
    "papermill": {
     "duration": 11.814271,
     "end_time": "2024-12-28T07:31:36.426683",
     "exception": false,
     "start_time": "2024-12-28T07:31:24.612412",
     "status": "completed"
    },
    "tags": []
   },
   "outputs": [],
   "source": [
    "# Get latest file if exist\n",
    "all_cards_df, _ = load_latest_data(\"cards\")\n",
    "all_speed_df, _ = load_latest_data(\"speed\")\n",
    "set_lists_df, _ = load_latest_data(\"sets\")"
   ]
  },
  {
   "cell_type": "markdown",
   "id": "8",
   "metadata": {
    "papermill": {
     "duration": 0.309716,
     "end_time": "2024-12-28T07:31:36.772683",
     "exception": false,
     "start_time": "2024-12-28T07:31:36.462967",
     "status": "completed"
    },
    "tags": []
   },
   "source": [
    "## Format data"
   ]
  },
  {
   "cell_type": "code",
   "execution_count": null,
   "id": "9",
   "metadata": {
    "papermill": {
     "duration": 0.297775,
     "end_time": "2024-12-28T07:31:37.182411",
     "exception": false,
     "start_time": "2024-12-28T07:31:36.884636",
     "status": "completed"
    },
    "tags": []
   },
   "outputs": [],
   "source": [
    "df_list = [all_cards_df, all_speed_df, set_lists_df]\n",
    "if all(item is not None for item in df_list):\n",
    "    for df in df_list:\n",
    "        df[\"index\"] = df[\"Name\"].str.lower().str.replace(\"#\", \"\")\n",
    "\n",
    "else:\n",
    "    raise SystemExit(\"Not enough files to proceed. Aborting!\")"
   ]
  },
  {
   "cell_type": "markdown",
   "id": "10",
   "metadata": {
    "papermill": {
     "duration": 0.271227,
     "end_time": "2024-12-28T07:31:37.491403",
     "exception": false,
     "start_time": "2024-12-28T07:31:37.220176",
     "status": "completed"
    },
    "tags": []
   },
   "source": [
    "## Merge data"
   ]
  },
  {
   "cell_type": "code",
   "execution_count": null,
   "id": "11",
   "metadata": {
    "papermill": {
     "duration": 6.941579,
     "end_time": "2024-12-28T07:31:44.587259",
     "exception": false,
     "start_time": "2024-12-28T07:31:37.645680",
     "status": "completed"
    },
    "tags": []
   },
   "outputs": [],
   "source": [
    "full_df = pd.concat([all_cards_df, all_speed_df]).drop_duplicates(ignore_index=True)\n",
    "full_df = full_df.merge(set_lists_df, how=\"inner\", on=\"index\")\n",
    "full_df = full_df.convert_dtypes()\n",
    "full_df[\"Modification date\"] = full_df[[\"Modification date_x\", \"Modification date_y\"]].max(axis=1)\n",
    "full_df[\"Name\"] = full_df[\"Name_x\"].fillna(full_df[\"Name_y\"])\n",
    "full_df.drop(\n",
    "    [\"index\", \"Name_x\", \"Name_y\", \"Modification date_x\", \"Modification date_y\"],\n",
    "    axis=1,\n",
    "    inplace=True,\n",
    ")\n",
    "full_df.rename(columns={\"Page URL_x\": \"Card page URL\", \"Page URL_y\": \"Set page URL\"}, inplace=True)\n",
    "full_df = full_df[np.append(full_df.columns[-1:], full_df.columns[:-1])]"
   ]
  },
  {
   "cell_type": "markdown",
   "id": "12",
   "metadata": {
    "papermill": {
     "duration": 0.83155,
     "end_time": "2024-12-28T07:31:45.456112",
     "exception": false,
     "start_time": "2024-12-28T07:31:44.624562",
     "status": "completed"
    },
    "tags": []
   },
   "source": [
    "# Data visualization"
   ]
  },
  {
   "cell_type": "code",
   "execution_count": null,
   "id": "13",
   "metadata": {
    "papermill": {
     "duration": 0.837819,
     "end_time": "2024-12-28T07:31:46.609155",
     "exception": false,
     "start_time": "2024-12-28T07:31:45.771336",
     "status": "completed"
    },
    "tags": []
   },
   "outputs": [],
   "source": [
    "full_df"
   ]
  },
  {
   "cell_type": "markdown",
   "id": "14",
   "metadata": {
    "jp-MarkdownHeadingCollapsed": true,
    "papermill": {
     "duration": 0.186377,
     "end_time": "2024-12-28T07:31:46.834055",
     "exception": false,
     "start_time": "2024-12-28T07:31:46.647678",
     "status": "completed"
    },
    "tags": []
   },
   "source": [
    "## First releases"
   ]
  },
  {
   "cell_type": "markdown",
   "id": "15",
   "metadata": {
    "papermill": {
     "duration": 0.099388,
     "end_time": "2024-12-28T07:31:47.007545",
     "exception": false,
     "start_time": "2024-12-28T07:31:46.908157",
     "status": "completed"
    },
    "tags": []
   },
   "source": [
    "Obs: Only the first release of an individual card name"
   ]
  },
  {
   "cell_type": "code",
   "execution_count": null,
   "id": "16",
   "metadata": {
    "papermill": {
     "duration": 0.948845,
     "end_time": "2024-12-28T07:31:48.198690",
     "exception": false,
     "start_time": "2024-12-28T07:31:47.249845",
     "status": "completed"
    },
    "tags": []
   },
   "outputs": [],
   "source": [
    "first_release = full_df[full_df[\"Release\"].notna()].groupby(\"Name\")[\"Release\"].agg(\"min\")\n",
    "first_release.to_frame(name=\"First release\")"
   ]
  },
  {
   "cell_type": "code",
   "execution_count": null,
   "id": "17",
   "metadata": {
    "papermill": {
     "duration": 4.531198,
     "end_time": "2024-12-28T07:31:52.775095",
     "exception": false,
     "start_time": "2024-12-28T07:31:48.243897",
     "status": "completed"
    },
    "tags": []
   },
   "outputs": [],
   "source": [
    "first_release_count = first_release.sort_values().value_counts(sort=False).to_frame(name=\"All cards\")\n",
    "first_release_count.index.name = \"First Release\"\n",
    "_ = plot.rate(first_release_count, bg=anime_df, vlines=rules_df[\"begin\"])\n",
    "plt.show()"
   ]
  },
  {
   "cell_type": "markdown",
   "id": "18",
   "metadata": {
    "papermill": {
     "duration": 0.335318,
     "end_time": "2024-12-28T07:31:53.165995",
     "exception": false,
     "start_time": "2024-12-28T07:31:52.830677",
     "status": "completed"
    },
    "tags": []
   },
   "source": [
    "### By region"
   ]
  },
  {
   "cell_type": "code",
   "execution_count": null,
   "id": "19",
   "metadata": {
    "papermill": {
     "duration": 1.529404,
     "end_time": "2024-12-28T07:31:54.900215",
     "exception": false,
     "start_time": "2024-12-28T07:31:53.370811",
     "status": "completed"
    },
    "tags": []
   },
   "outputs": [],
   "source": [
    "first_release_region = full_df[full_df[\"Release\"].notna()].groupby([\"Region\", \"Name\"])[\"Release\"].agg(\"min\")\n",
    "first_release_region.to_frame(name=\"First release\")"
   ]
  },
  {
   "cell_type": "code",
   "execution_count": null,
   "id": "20",
   "metadata": {
    "papermill": {
     "duration": 29.79118,
     "end_time": "2024-12-28T07:32:24.761249",
     "exception": false,
     "start_time": "2024-12-28T07:31:54.970069",
     "status": "completed"
    },
    "tags": []
   },
   "outputs": [],
   "source": [
    "first_release_region_count = (\n",
    "    first_release_region.sort_values().groupby([\"Region\"]).value_counts(sort=False).unstack(0).fillna(0).round(0)\n",
    ")\n",
    "first_release_region_count.index.name = \"Release\"\n",
    "_ = plot.rate(\n",
    "    first_release_region_count,\n",
    "    title=\"First Release\",\n",
    "    bg=anime_df,\n",
    "    vlines=rules_df[\"begin\"],\n",
    "    subplots=True,\n",
    ")\n",
    "plt.show()"
   ]
  },
  {
   "cell_type": "markdown",
   "id": "21",
   "metadata": {
    "jp-MarkdownHeadingCollapsed": true,
    "papermill": {
     "duration": 0.212112,
     "end_time": "2024-12-28T07:32:25.148894",
     "exception": false,
     "start_time": "2024-12-28T07:32:24.936782",
     "status": "completed"
    },
    "tags": []
   },
   "source": [
    "## Last releases"
   ]
  },
  {
   "cell_type": "markdown",
   "id": "22",
   "metadata": {
    "papermill": {
     "duration": 0.235173,
     "end_time": "2024-12-28T07:32:25.994908",
     "exception": false,
     "start_time": "2024-12-28T07:32:25.759735",
     "status": "completed"
    },
    "tags": []
   },
   "source": [
    "Obs: Only the last release of an individual card name"
   ]
  },
  {
   "cell_type": "code",
   "execution_count": null,
   "id": "23",
   "metadata": {
    "papermill": {
     "duration": 2.457306,
     "end_time": "2024-12-28T07:32:28.618321",
     "exception": false,
     "start_time": "2024-12-28T07:32:26.161015",
     "status": "completed"
    },
    "tags": []
   },
   "outputs": [],
   "source": [
    "last_release = full_df[full_df[\"Release\"].notna()].groupby(\"Name\")[\"Release\"].agg(\"max\")\n",
    "last_release.to_frame(name=\"Last release\")"
   ]
  },
  {
   "cell_type": "code",
   "execution_count": null,
   "id": "24",
   "metadata": {
    "papermill": {
     "duration": 3.032082,
     "end_time": "2024-12-28T07:32:31.815028",
     "exception": false,
     "start_time": "2024-12-28T07:32:28.782946",
     "status": "completed"
    },
    "tags": []
   },
   "outputs": [],
   "source": [
    "last_release_count = last_release.sort_values().value_counts(sort=False).to_frame(name=\"All cards\")\n",
    "last_release_count.index.name = \"Last Release\"\n",
    "_ = plot.rate(last_release_count, bg=anime_df, vlines=rules_df[\"begin\"], limit_year=True)\n",
    "plt.show()"
   ]
  },
  {
   "cell_type": "markdown",
   "id": "25",
   "metadata": {
    "papermill": {
     "duration": 0.550064,
     "end_time": "2024-12-28T07:32:32.541419",
     "exception": false,
     "start_time": "2024-12-28T07:32:31.991355",
     "status": "completed"
    },
    "tags": []
   },
   "source": [
    "### By region"
   ]
  },
  {
   "cell_type": "code",
   "execution_count": null,
   "id": "26",
   "metadata": {
    "papermill": {
     "duration": 1.364011,
     "end_time": "2024-12-28T07:32:34.501033",
     "exception": false,
     "start_time": "2024-12-28T07:32:33.137022",
     "status": "completed"
    },
    "tags": []
   },
   "outputs": [],
   "source": [
    "last_release_region = full_df[full_df[\"Release\"].notna()].groupby([\"Region\", \"Name\"])[\"Release\"].agg(\"max\")\n",
    "last_release_region.to_frame(name=\"Last release\")"
   ]
  },
  {
   "cell_type": "code",
   "execution_count": null,
   "id": "27",
   "metadata": {
    "papermill": {
     "duration": 31.524347,
     "end_time": "2024-12-28T07:33:06.208208",
     "exception": false,
     "start_time": "2024-12-28T07:32:34.683861",
     "status": "completed"
    },
    "tags": []
   },
   "outputs": [],
   "source": [
    "last_release_region_count = (\n",
    "    last_release_region.sort_values().groupby([\"Region\"]).value_counts(sort=False).unstack(0).fillna(0).round(0)\n",
    ")\n",
    "last_release_region_count.index.name = \"Release\"\n",
    "_ = plot.rate(last_release_region_count, title=\"Last Release\", bg=anime_df, vlines=rules_df[\"begin\"], subplots=True)\n",
    "plt.show()"
   ]
  },
  {
   "cell_type": "markdown",
   "id": "28",
   "metadata": {
    "papermill": {
     "duration": 0.449137,
     "end_time": "2024-12-28T07:33:07.191907",
     "exception": false,
     "start_time": "2024-12-28T07:33:06.742770",
     "status": "completed"
    },
    "tags": []
   },
   "source": [
    "## All Releases"
   ]
  },
  {
   "cell_type": "markdown",
   "id": "29",
   "metadata": {
    "papermill": {
     "duration": 0.705451,
     "end_time": "2024-12-28T07:33:08.230471",
     "exception": false,
     "start_time": "2024-12-28T07:33:07.525020",
     "status": "completed"
    },
    "tags": []
   },
   "source": [
    "Obs: All releases includes reprints"
   ]
  },
  {
   "cell_type": "code",
   "execution_count": null,
   "id": "30",
   "metadata": {
    "papermill": {
     "duration": 3.604938,
     "end_time": "2024-12-28T07:33:12.155078",
     "exception": false,
     "start_time": "2024-12-28T07:33:08.550140",
     "status": "completed"
    },
    "tags": []
   },
   "outputs": [],
   "source": [
    "all_releases = full_df[\"Release\"][full_df[\"Release\"].notna()].value_counts().sort_index().to_frame()\n",
    "all_releases.index.name = \"All releases\"\n",
    "_ = plot.rate(all_releases, bg=anime_df, vlines=rules_df[\"begin\"])\n",
    "plt.show()"
   ]
  },
  {
   "cell_type": "markdown",
   "id": "31",
   "metadata": {
    "papermill": {
     "duration": 0.847147,
     "end_time": "2024-12-28T07:33:13.294078",
     "exception": false,
     "start_time": "2024-12-28T07:33:12.446931",
     "status": "completed"
    },
    "tags": []
   },
   "source": [
    "### By card type"
   ]
  },
  {
   "cell_type": "code",
   "execution_count": null,
   "id": "32",
   "metadata": {
    "papermill": {
     "duration": 1.586143,
     "end_time": "2024-12-28T07:33:15.825617",
     "exception": false,
     "start_time": "2024-12-28T07:33:14.239474",
     "status": "completed"
    },
    "tags": []
   },
   "outputs": [],
   "source": [
    "# All releases, includes reprints - Double check\n",
    "release_card_type = full_df.groupby([\"Card type\", \"Release\"])[\"Name\"].nunique().unstack(0).sort_index().fillna(0).astype(int)\n",
    "release_card_type.groupby(release_card_type.index.strftime(\"%Y\")).sum().T"
   ]
  },
  {
   "cell_type": "code",
   "execution_count": null,
   "id": "33",
   "metadata": {
    "papermill": {
     "duration": 2.737559,
     "end_time": "2024-12-28T07:33:18.848562",
     "exception": false,
     "start_time": "2024-12-28T07:33:16.111003",
     "status": "completed"
    },
    "tags": []
   },
   "outputs": [],
   "source": [
    "release_card_type_plot = release_card_type[[\"Monster Card\", \"Spell Card\", \"Trap Card\", \"Skill Card\"]]\n",
    "card_type_colors = [plot.colors_dict[col] for col in release_card_type_plot.columns]\n",
    "_ = plot.rate(release_card_type_plot, colors=card_type_colors, bg=anime_df, vlines=rules_df[\"begin\"])\n",
    "plt.show()"
   ]
  },
  {
   "cell_type": "markdown",
   "id": "34",
   "metadata": {
    "papermill": {
     "duration": 0.351001,
     "end_time": "2024-12-28T07:33:19.642517",
     "exception": false,
     "start_time": "2024-12-28T07:33:19.291516",
     "status": "completed"
    },
    "tags": []
   },
   "source": [
    "### By primary type"
   ]
  },
  {
   "cell_type": "code",
   "execution_count": null,
   "id": "35",
   "metadata": {
    "papermill": {
     "duration": 0.521479,
     "end_time": "2024-12-28T07:33:20.619695",
     "exception": false,
     "start_time": "2024-12-28T07:33:20.098216",
     "status": "completed"
    },
    "tags": []
   },
   "outputs": [],
   "source": [
    "# All releases, includes reprints - Double check\n",
    "# Sort properly\n",
    "release_primary_type = (\n",
    "    full_df.groupby([\"Primary type\", \"Release\"])[\"Name\"].nunique().unstack(0).sort_index().fillna(0).astype(int)\n",
    ")\n",
    "release_primary_type.groupby(release_primary_type.index.strftime(\"%Y\")).sum().T"
   ]
  },
  {
   "cell_type": "code",
   "execution_count": null,
   "id": "36",
   "metadata": {
    "papermill": {
     "duration": 2.509696,
     "end_time": "2024-12-28T07:33:23.451767",
     "exception": false,
     "start_time": "2024-12-28T07:33:20.942071",
     "status": "completed"
    },
    "tags": []
   },
   "outputs": [],
   "source": [
    "primary_type_colors = [plot.colors_dict[col] for col in release_primary_type.columns]\n",
    "_ = plot.rate(\n",
    "    release_primary_type,\n",
    "    colors=primary_type_colors,\n",
    "    bg=anime_df,\n",
    "    vlines=rules_df[\"begin\"],\n",
    ")\n",
    "plt.show()"
   ]
  },
  {
   "cell_type": "markdown",
   "id": "37",
   "metadata": {
    "papermill": {
     "duration": 0.407162,
     "end_time": "2024-12-28T07:33:24.232487",
     "exception": false,
     "start_time": "2024-12-28T07:33:23.825325",
     "status": "completed"
    },
    "tags": []
   },
   "source": [
    "### By secondary type"
   ]
  },
  {
   "cell_type": "code",
   "execution_count": null,
   "id": "38",
   "metadata": {
    "papermill": {
     "duration": 4.428939,
     "end_time": "2024-12-28T07:33:29.518298",
     "exception": false,
     "start_time": "2024-12-28T07:33:25.089359",
     "status": "completed"
    },
    "tags": []
   },
   "outputs": [],
   "source": [
    "# All releases, includes reprints - Double check\n",
    "# Sort properly\n",
    "release_secondary_type = (\n",
    "    full_df.explode(\"Secondary type\")\n",
    "    .groupby([\"Secondary type\", \"Release\"])[\"Name\"]\n",
    "    .nunique()\n",
    "    .unstack(0)\n",
    "    .sort_index()\n",
    "    .fillna(0)\n",
    "    .astype(int)\n",
    ")\n",
    "release_secondary_type.groupby(release_secondary_type.index.strftime(\"%Y\")).sum().T"
   ]
  },
  {
   "cell_type": "code",
   "execution_count": null,
   "id": "39",
   "metadata": {
    "papermill": {
     "duration": 1.909122,
     "end_time": "2024-12-28T07:33:31.975669",
     "exception": false,
     "start_time": "2024-12-28T07:33:30.066547",
     "status": "completed"
    },
    "tags": []
   },
   "outputs": [],
   "source": [
    "_ = plot.rate(release_secondary_type, bg=anime_df, vlines=rules_df[\"begin\"])\n",
    "plt.show()"
   ]
  },
  {
   "cell_type": "markdown",
   "id": "40",
   "metadata": {
    "papermill": {
     "duration": 0.395147,
     "end_time": "2024-12-28T07:33:32.762599",
     "exception": false,
     "start_time": "2024-12-28T07:33:32.367452",
     "status": "completed"
    },
    "tags": []
   },
   "source": [
    "### By attribute"
   ]
  },
  {
   "cell_type": "code",
   "execution_count": null,
   "id": "41",
   "metadata": {
    "papermill": {
     "duration": 0.591011,
     "end_time": "2024-12-28T07:33:34.275836",
     "exception": false,
     "start_time": "2024-12-28T07:33:33.684825",
     "status": "completed"
    },
    "tags": []
   },
   "outputs": [],
   "source": [
    "# All releases, includes reprints - Double check\n",
    "# Sort properly\n",
    "release_attribute = full_df.groupby([\"Attribute\", \"Release\"])[\"Name\"].nunique().unstack(0).sort_index().fillna(0).astype(int)\n",
    "release_attribute.groupby(release_attribute.index.strftime(\"%Y\")).sum().T"
   ]
  },
  {
   "cell_type": "code",
   "execution_count": null,
   "id": "42",
   "metadata": {
    "papermill": {
     "duration": 2.462285,
     "end_time": "2024-12-28T07:33:37.309348",
     "exception": false,
     "start_time": "2024-12-28T07:33:34.847063",
     "status": "completed"
    },
    "tags": []
   },
   "outputs": [],
   "source": [
    "attribute_colors = [plot.colors_dict[col] for col in release_attribute.columns]\n",
    "_ = plot.rate(\n",
    "    release_attribute, colors=attribute_colors, bg=anime_df, vlines=rules_df[\"begin\"], cumsum=True, limit_year=True\n",
    ")\n",
    "plt.show()"
   ]
  },
  {
   "cell_type": "markdown",
   "id": "43",
   "metadata": {
    "papermill": {
     "duration": 0.565146,
     "end_time": "2024-12-28T07:33:38.340307",
     "exception": false,
     "start_time": "2024-12-28T07:33:37.775161",
     "status": "completed"
    },
    "tags": []
   },
   "source": [
    "### By monster type"
   ]
  },
  {
   "cell_type": "code",
   "execution_count": null,
   "id": "44",
   "metadata": {
    "papermill": {
     "duration": 1.3956,
     "end_time": "2024-12-28T07:33:40.184078",
     "exception": false,
     "start_time": "2024-12-28T07:33:38.788478",
     "status": "completed"
    },
    "tags": []
   },
   "outputs": [],
   "source": [
    "# All releases, includes reprints - Double check\n",
    "# Sort properly\n",
    "release_monster_type = (\n",
    "    full_df.groupby([\"Monster type\", \"Release\"])[\"Name\"].nunique().unstack(0).sort_index().fillna(0).astype(int)\n",
    ")\n",
    "release_monster_type.groupby(release_monster_type.index.strftime(\"%Y\")).sum().T"
   ]
  },
  {
   "cell_type": "code",
   "execution_count": null,
   "id": "45",
   "metadata": {
    "papermill": {
     "duration": 56.521039,
     "end_time": "2024-12-28T07:34:37.210165",
     "exception": false,
     "start_time": "2024-12-28T07:33:40.689126",
     "status": "completed"
    },
    "tags": []
   },
   "outputs": [],
   "source": [
    "_ = plot.rate(release_monster_type, bg=anime_df, vlines=rules_df[\"begin\"], subplots=True)\n",
    "plt.show()"
   ]
  },
  {
   "cell_type": "markdown",
   "id": "46",
   "metadata": {
    "papermill": {
     "duration": 0.811441,
     "end_time": "2024-12-28T07:34:38.714763",
     "exception": false,
     "start_time": "2024-12-28T07:34:37.903322",
     "status": "completed"
    },
    "tags": []
   },
   "source": [
    "### By Level/Rank"
   ]
  },
  {
   "cell_type": "code",
   "execution_count": null,
   "id": "47",
   "metadata": {
    "papermill": {
     "duration": 10.549764,
     "end_time": "2024-12-28T07:34:50.062657",
     "exception": false,
     "start_time": "2024-12-28T07:34:39.512893",
     "status": "completed"
    },
    "tags": []
   },
   "outputs": [],
   "source": [
    "_ = plot.box(\n",
    "    full_df[full_df[\"Card type\"] != \"Non-game card\"][[\"Release\", \"Level/Rank\"]], color=plot.colors_dict[\"Level\"], notch=True\n",
    ")\n",
    "plt.show()"
   ]
  },
  {
   "cell_type": "markdown",
   "id": "48",
   "metadata": {
    "papermill": {
     "duration": 0.803636,
     "end_time": "2024-12-28T07:34:51.608821",
     "exception": false,
     "start_time": "2024-12-28T07:34:50.805185",
     "status": "completed"
    },
    "tags": []
   },
   "source": [
    "### By ATK"
   ]
  },
  {
   "cell_type": "code",
   "execution_count": null,
   "id": "49",
   "metadata": {
    "papermill": {
     "duration": 10.047732,
     "end_time": "2024-12-28T07:35:02.482016",
     "exception": false,
     "start_time": "2024-12-28T07:34:52.434284",
     "status": "completed"
    },
    "tags": []
   },
   "outputs": [],
   "source": [
    "_ = plot.box(\n",
    "    full_df[full_df[\"Card type\"] != \"Non-game card\"][[\"Release\", \"ATK\"]],\n",
    "    color=plot.colors_dict[\"Effect Monster\"],\n",
    "    notch=True,\n",
    ")\n",
    "plt.show()"
   ]
  },
  {
   "cell_type": "markdown",
   "id": "50",
   "metadata": {
    "papermill": {
     "duration": 1.318963,
     "end_time": "2024-12-28T07:35:04.512572",
     "exception": false,
     "start_time": "2024-12-28T07:35:03.193609",
     "status": "completed"
    },
    "tags": []
   },
   "source": [
    "### By DEF"
   ]
  },
  {
   "cell_type": "code",
   "execution_count": null,
   "id": "51",
   "metadata": {
    "papermill": {
     "duration": 10.22095,
     "end_time": "2024-12-28T07:35:15.427108",
     "exception": false,
     "start_time": "2024-12-28T07:35:05.206158",
     "status": "completed"
    },
    "tags": []
   },
   "outputs": [],
   "source": [
    "_ = plot.box(\n",
    "    full_df[full_df[\"Card type\"] != \"Non-game card\"][[\"Release\", \"DEF\"]],\n",
    "    color=plot.colors_dict[\"Effect Monster\"],\n",
    "    notch=True,\n",
    ")\n",
    "plt.show()"
   ]
  },
  {
   "cell_type": "markdown",
   "id": "52",
   "metadata": {
    "papermill": {
     "duration": 0.679286,
     "end_time": "2024-12-28T07:35:16.839326",
     "exception": false,
     "start_time": "2024-12-28T07:35:16.160040",
     "status": "completed"
    },
    "tags": []
   },
   "source": [
    "### By pendulum scale"
   ]
  },
  {
   "cell_type": "code",
   "execution_count": null,
   "id": "53",
   "metadata": {
    "papermill": {
     "duration": 1.915479,
     "end_time": "2024-12-28T07:35:19.457220",
     "exception": false,
     "start_time": "2024-12-28T07:35:17.541741",
     "status": "completed"
    },
    "tags": []
   },
   "outputs": [],
   "source": [
    "_ = plot.box(\n",
    "    full_df[full_df[\"Card type\"] != \"Non-game card\"][[\"Release\", \"Pendulum Scale\"]],\n",
    "    color=plot.colors_dict[\"Pendulum Monster\"],\n",
    "    notch=True,\n",
    ")\n",
    "plt.show()"
   ]
  },
  {
   "cell_type": "markdown",
   "id": "54",
   "metadata": {
    "papermill": {
     "duration": 0.791778,
     "end_time": "2024-12-28T07:35:22.295399",
     "exception": false,
     "start_time": "2024-12-28T07:35:21.503621",
     "status": "completed"
    },
    "tags": []
   },
   "source": [
    "### By link"
   ]
  },
  {
   "cell_type": "code",
   "execution_count": null,
   "id": "55",
   "metadata": {
    "papermill": {
     "duration": 3.771486,
     "end_time": "2024-12-28T07:35:26.868479",
     "exception": false,
     "start_time": "2024-12-28T07:35:23.096993",
     "status": "completed"
    },
    "tags": []
   },
   "outputs": [],
   "source": [
    "_ = plot.box(full_df[full_df[\"Card type\"] != \"Non-game card\"][[\"Release\", \"Link\"]], color=plot.colors_dict[\"Link Monster\"])\n",
    "plt.show()"
   ]
  },
  {
   "cell_type": "markdown",
   "id": "56",
   "metadata": {
    "papermill": {
     "duration": 1.60616,
     "end_time": "2024-12-28T07:35:29.329869",
     "exception": false,
     "start_time": "2024-12-28T07:35:27.723709",
     "status": "completed"
    },
    "tags": []
   },
   "source": [
    "# Debug"
   ]
  },
  {
   "cell_type": "markdown",
   "id": "57",
   "metadata": {
    "papermill": {
     "duration": 0.78472,
     "end_time": "2024-12-28T07:35:31.128549",
     "exception": false,
     "start_time": "2024-12-28T07:35:30.343829",
     "status": "completed"
    },
    "tags": []
   },
   "source": [
    "## Merge failed"
   ]
  },
  {
   "cell_type": "markdown",
   "id": "58",
   "metadata": {
    "papermill": {
     "duration": 0.672533,
     "end_time": "2024-12-28T07:35:32.492756",
     "exception": false,
     "start_time": "2024-12-28T07:35:31.820223",
     "status": "completed"
    },
    "tags": []
   },
   "source": [
    "Names missing"
   ]
  },
  {
   "cell_type": "code",
   "execution_count": null,
   "id": "59",
   "metadata": {
    "papermill": {
     "duration": 1.948749,
     "end_time": "2024-12-28T07:35:35.230207",
     "exception": false,
     "start_time": "2024-12-28T07:35:33.281458",
     "status": "completed"
    },
    "tags": []
   },
   "outputs": [],
   "source": [
    "all_cards_df.where(~all_cards_df[\"Name\"].isin(full_df[\"Name\"])).dropna(how=\"all\")"
   ]
  },
  {
   "cell_type": "markdown",
   "id": "60",
   "metadata": {
    "papermill": {
     "duration": 0.832802,
     "end_time": "2024-12-28T07:35:36.858923",
     "exception": false,
     "start_time": "2024-12-28T07:35:36.026121",
     "status": "completed"
    },
    "tags": []
   },
   "source": [
    "Card number missing"
   ]
  },
  {
   "cell_type": "code",
   "execution_count": null,
   "id": "61",
   "metadata": {
    "papermill": {
     "duration": 1.613547,
     "end_time": "2024-12-28T07:35:39.359652",
     "exception": false,
     "start_time": "2024-12-28T07:35:37.746105",
     "status": "completed"
    },
    "tags": []
   },
   "outputs": [],
   "source": [
    "set_lists_df.where(\n",
    "    (~set_lists_df[\"Card number\"].isin(full_df[\"Card number\"]))\n",
    "    & (~set_lists_df[\"Card number\"].dropna().str.startswith(\"RD/\"))\n",
    ").dropna(how=\"all\")"
   ]
  },
  {
   "cell_type": "markdown",
   "id": "62",
   "metadata": {
    "papermill": {
     "duration": 1.769863,
     "end_time": "2024-12-28T07:35:41.832012",
     "exception": false,
     "start_time": "2024-12-28T07:35:40.062149",
     "status": "completed"
    },
    "tags": []
   },
   "source": [
    " # Epilogue"
   ]
  },
  {
   "cell_type": "code",
   "execution_count": null,
   "id": "63",
   "metadata": {
    "papermill": {
     "duration": 8.12124,
     "end_time": "2024-12-28T07:35:51.061042",
     "exception": false,
     "start_time": "2024-12-28T07:35:42.939802",
     "status": "completed"
    },
    "tags": []
   },
   "outputs": [],
   "source": [
    "benchmark(report=\"timeline\", timestamp=timestamp)"
   ]
  },
  {
   "cell_type": "code",
   "execution_count": null,
   "id": "64",
   "metadata": {
    "papermill": {
     "duration": 0.78982,
     "end_time": "2024-12-28T07:35:52.663362",
     "exception": false,
     "start_time": "2024-12-28T07:35:51.873542",
     "status": "completed"
    },
    "tags": []
   },
   "outputs": [],
   "source": [
    "footer()"
   ]
  },
  {
   "cell_type": "markdown",
   "id": "65",
   "metadata": {
    "papermill": {
     "duration": 0.684681,
     "end_time": "2024-12-28T07:35:54.193608",
     "exception": false,
     "start_time": "2024-12-28T07:35:53.508927",
     "status": "completed"
    },
    "tags": []
   },
   "source": [
    "## HTML export"
   ]
  },
  {
   "cell_type": "code",
   "execution_count": null,
   "id": "66",
   "metadata": {
    "papermill": {
     "duration": 0.688992,
     "end_time": "2024-12-28T07:35:55.795254",
     "exception": false,
     "start_time": "2024-12-28T07:35:55.106262",
     "status": "completed"
    },
    "tags": []
   },
   "outputs": [],
   "source": [
    "# May need to sleep for a few seconds after saving\n",
    "save_notebook()"
   ]
  },
  {
   "cell_type": "code",
   "execution_count": null,
   "id": "67",
   "metadata": {
    "papermill": {
     "duration": 6.470799,
     "end_time": "2024-12-28T07:36:02.970571",
     "exception": false,
     "start_time": "2024-12-28T07:35:56.499772",
     "status": "completed"
    },
    "tags": []
   },
   "outputs": [],
   "source": [
    "export_notebook(dirs.NOTEBOOKS.user / \"Timeline.ipynb\")"
   ]
  },
  {
   "cell_type": "markdown",
   "id": "68",
   "metadata": {
    "papermill": {
     "duration": 0.713584,
     "end_time": "2024-12-28T07:36:04.391277",
     "exception": false,
     "start_time": "2024-12-28T07:36:03.677693",
     "status": "completed"
    },
    "tags": [
     "exclude"
    ]
   },
   "source": [
    "## Git"
   ]
  },
  {
   "cell_type": "code",
   "execution_count": null,
   "id": "69",
   "metadata": {
    "papermill": {
     "duration": null,
     "end_time": null,
     "exception": false,
     "start_time": "2024-12-28T07:36:05.368080",
     "status": "running"
    },
    "tags": [
     "exclude"
    ]
   },
   "outputs": [],
   "source": [
    "git.commit(\"*[Tt]imeline*\", f\"Timeline update - {timestamp.isoformat()}\")"
   ]
  }
 ],
 "metadata": {
  "kernelspec": {
   "display_name": "venv",
   "language": "python",
   "name": "python3"
  },
  "language_info": {
   "codemirror_mode": {
    "name": "ipython",
    "version": 3
   },
   "file_extension": ".py",
   "mimetype": "text/x-python",
   "name": "python",
   "nbconvert_exporter": "python",
   "pygments_lexer": "ipython3",
   "version": "3.11.6"
  },
  "papermill": {
   "default_parameters": {},
   "duration": null,
   "end_time": null,
   "environment_variables": {},
   "exception": null,
   "input_path": "/home/jovyan/yugiquery/notebooks/Timeline.ipynb",
   "output_path": "/home/jovyan/yugiquery/notebooks/Timeline.ipynb",
   "parameters": {},
   "start_time": "2024-12-28T07:30:41.656164",
   "version": "2.6.0"
  },
  "toc": {
   "base_numbering": 1,
   "nav_menu": {},
   "number_sections": true,
   "sideBar": true,
   "skip_h1_title": false,
   "title_cell": "Table of Contents",
   "title_sidebar": "Contents",
   "toc_cell": true,
   "toc_position": {},
   "toc_section_display": true,
   "toc_window_display": true
  }
 },
 "nbformat": 4,
 "nbformat_minor": 5
}
