{
 "cells": [
  {
   "cell_type": "code",
   "execution_count": null,
   "id": "0",
   "metadata": {
    "papermill": {
     "duration": 19.541698,
     "end_time": "2025-09-27T12:14:41.597791",
     "exception": false,
     "start_time": "2025-09-27T12:14:22.056093",
     "status": "completed"
    },
    "tags": []
   },
   "outputs": [],
   "source": [
    "from yugiquery import *\n",
    "\n",
    "init_notebook_mode(all_interactive=True)\n",
    "\n",
    "header(\"Bandai\")"
   ]
  },
  {
   "cell_type": "markdown",
   "id": "1",
   "metadata": {
    "papermill": {
     "duration": 0.187814,
     "end_time": "2025-09-27T12:14:41.960681",
     "exception": false,
     "start_time": "2025-09-27T12:14:41.772867",
     "status": "completed"
    },
    "tags": []
   },
   "source": [
    "---"
   ]
  },
  {
   "cell_type": "markdown",
   "id": "2",
   "metadata": {
    "papermill": {
     "duration": 0.217619,
     "end_time": "2025-09-27T12:14:42.246034",
     "exception": false,
     "start_time": "2025-09-27T12:14:42.028415",
     "status": "completed"
    },
    "tags": []
   },
   "source": [
    "Table of Contents <a class=\"jp-toc-ignore\"></a>\n",
    "=================\n",
    "* [1 Data aquisition](#data-aquisition)\n",
    "  * [1.1 Fetch online data](#fetch-online-data)\n",
    "* [2 Check changes](#check-changes)\n",
    "  * [2.1 Load previous data](#load-previous-data)\n",
    "  * [2.2 Generate changelog](#generate-changelog)\n",
    "  * [2.3 Save data](#save-data)\n",
    "* [3 Data visualization](#data-visualization)\n",
    "  * [3.1 Card type](#card-type)\n",
    "  * [3.2 ATK](#atk)\n",
    "  * [3.3 DEF](#def)\n",
    "  * [3.4 Level](#level)\n",
    "    * [3.4.1 ATK statistics](#atk-statistics)\n",
    "    * [3.4.2 DEF statistics](#def-statistics)\n",
    "  * [3.5 Monster type](#monster-type)\n",
    "  * [3.6 Set](#set)\n",
    "* [4 Epilogue](#epilogue)\n",
    "  * [4.1 HTML export](#html-export)\n",
    "  <!-- * [4.2 Git](#git) -->"
   ]
  },
  {
   "cell_type": "markdown",
   "id": "3",
   "metadata": {
    "papermill": {
     "duration": 0.135617,
     "end_time": "2025-09-27T12:14:42.475768",
     "exception": false,
     "start_time": "2025-09-27T12:14:42.340151",
     "status": "completed"
    },
    "tags": []
   },
   "source": [
    "# Data aquisition"
   ]
  },
  {
   "cell_type": "markdown",
   "id": "4",
   "metadata": {
    "jp-MarkdownHeadingCollapsed": true,
    "papermill": {
     "duration": 0.026012,
     "end_time": "2025-09-27T12:14:42.619919",
     "exception": false,
     "start_time": "2025-09-27T12:14:42.593907",
     "status": "completed"
    },
    "tags": []
   },
   "source": [
    "## Fetch online data"
   ]
  },
  {
   "cell_type": "code",
   "execution_count": null,
   "id": "5",
   "metadata": {
    "editable": true,
    "papermill": {
     "duration": 0.042176,
     "end_time": "2025-09-27T12:14:42.900350",
     "exception": false,
     "start_time": "2025-09-27T12:14:42.858174",
     "status": "completed"
    },
    "slideshow": {
     "slide_type": ""
    },
    "tags": []
   },
   "outputs": [],
   "source": [
    "timestamp = arrow.utcnow()"
   ]
  },
  {
   "cell_type": "code",
   "execution_count": null,
   "id": "6",
   "metadata": {
    "editable": true,
    "papermill": {
     "duration": 1.447819,
     "end_time": "2025-09-27T12:14:44.382379",
     "exception": false,
     "start_time": "2025-09-27T12:14:42.934560",
     "status": "completed"
    },
    "slideshow": {
     "slide_type": ""
    },
    "tags": []
   },
   "outputs": [],
   "source": [
    "bandai_df = fetch_bandai(debug=False)"
   ]
  },
  {
   "cell_type": "markdown",
   "id": "7",
   "metadata": {
    "jp-MarkdownHeadingCollapsed": true,
    "papermill": {
     "duration": 0.095898,
     "end_time": "2025-09-27T12:14:44.508568",
     "exception": false,
     "start_time": "2025-09-27T12:14:44.412670",
     "status": "completed"
    },
    "tags": []
   },
   "source": [
    "# Check changes"
   ]
  },
  {
   "cell_type": "markdown",
   "id": "8",
   "metadata": {
    "papermill": {
     "duration": 0.15948,
     "end_time": "2025-09-27T12:14:45.281870",
     "exception": false,
     "start_time": "2025-09-27T12:14:45.122390",
     "status": "completed"
    },
    "tags": []
   },
   "source": [
    "## Load previous data"
   ]
  },
  {
   "cell_type": "code",
   "execution_count": null,
   "id": "9",
   "metadata": {
    "papermill": {
     "duration": 0.153429,
     "end_time": "2025-09-27T12:14:45.546418",
     "exception": false,
     "start_time": "2025-09-27T12:14:45.392989",
     "status": "completed"
    },
    "tags": []
   },
   "outputs": [],
   "source": [
    "# Get latest file if exist\n",
    "previous_df, previous_ts = load_latest_data(\"bandai\", return_ts=True)\n",
    "\n",
    "if previous_df is not None:\n",
    "    previous_df = previous_df.astype(bandai_df[previous_df.columns.intersection(bandai_df.columns)].dtypes.to_dict())"
   ]
  },
  {
   "cell_type": "markdown",
   "id": "10",
   "metadata": {
    "papermill": {
     "duration": 0.324199,
     "end_time": "2025-09-27T12:14:45.957349",
     "exception": false,
     "start_time": "2025-09-27T12:14:45.633150",
     "status": "completed"
    },
    "tags": []
   },
   "source": [
    "## Generate changelog"
   ]
  },
  {
   "cell_type": "code",
   "execution_count": null,
   "id": "11",
   "metadata": {
    "papermill": {
     "duration": 0.133304,
     "end_time": "2025-09-27T12:14:46.335916",
     "exception": false,
     "start_time": "2025-09-27T12:14:46.202612",
     "status": "completed"
    },
    "tags": []
   },
   "outputs": [],
   "source": [
    "if previous_df is None:\n",
    "    changelog = None\n",
    "    print(\"Skipped\")\n",
    "else:\n",
    "    changelog = generate_changelog(previous_df, bandai_df, col=\"Name\")\n",
    "    if not changelog.empty:\n",
    "        display(changelog)\n",
    "        new_names = changelog.index.value_counts()\n",
    "        new_names = new_names[new_names == 1].index\n",
    "        if len(new_names) > 0:\n",
    "            print(\"New cards:\")\n",
    "            display(changelog.loc[new_names])\n",
    "        changelog.to_csv(\n",
    "            dirs.DATA / make_filename(report=\"bandai\", timestamp=timestamp, previous_timestamp=previous_ts),\n",
    "            index=True,\n",
    "        )\n",
    "        print(\"Changelog saved\")"
   ]
  },
  {
   "cell_type": "markdown",
   "id": "12",
   "metadata": {
    "papermill": {
     "duration": 0.02621,
     "end_time": "2025-09-27T12:14:46.417709",
     "exception": false,
     "start_time": "2025-09-27T12:14:46.391499",
     "status": "completed"
    },
    "tags": []
   },
   "source": [
    "## Save data"
   ]
  },
  {
   "cell_type": "code",
   "execution_count": null,
   "id": "13",
   "metadata": {
    "papermill": {
     "duration": 0.723645,
     "end_time": "2025-09-27T12:14:47.246970",
     "exception": false,
     "start_time": "2025-09-27T12:14:46.523325",
     "status": "completed"
    },
    "tags": []
   },
   "outputs": [],
   "source": [
    "if changelog is not None and changelog.empty:\n",
    "    print(\"No changes. New data not saved\")\n",
    "else:\n",
    "    bandai_df.to_csv(\n",
    "        dirs.DATA / make_filename(report=\"bandai\", timestamp=timestamp),\n",
    "        index=False,\n",
    "    )\n",
    "    print(\"Data saved\")"
   ]
  },
  {
   "cell_type": "markdown",
   "id": "14",
   "metadata": {
    "papermill": {
     "duration": 0.308528,
     "end_time": "2025-09-27T12:14:47.651417",
     "exception": false,
     "start_time": "2025-09-27T12:14:47.342889",
     "status": "completed"
    },
    "tags": []
   },
   "source": [
    "# Data visualization"
   ]
  },
  {
   "cell_type": "code",
   "execution_count": null,
   "id": "15",
   "metadata": {
    "papermill": {
     "duration": 0.199823,
     "end_time": "2025-09-27T12:14:47.895442",
     "exception": false,
     "start_time": "2025-09-27T12:14:47.695619",
     "status": "completed"
    },
    "tags": []
   },
   "outputs": [],
   "source": [
    "bandai_df"
   ]
  },
  {
   "cell_type": "markdown",
   "id": "16",
   "metadata": {
    "jp-MarkdownHeadingCollapsed": true,
    "papermill": {
     "duration": 0.040771,
     "end_time": "2025-09-27T12:14:47.965750",
     "exception": false,
     "start_time": "2025-09-27T12:14:47.924979",
     "status": "completed"
    },
    "tags": []
   },
   "source": [
    "## Card type"
   ]
  },
  {
   "cell_type": "code",
   "execution_count": null,
   "id": "17",
   "metadata": {
    "papermill": {
     "duration": 0.042313,
     "end_time": "2025-09-27T12:14:48.501836",
     "exception": false,
     "start_time": "2025-09-27T12:14:48.459523",
     "status": "completed"
    },
    "tags": []
   },
   "outputs": [],
   "source": [
    "print(\"Total number of card types:\", bandai_df[\"Card type\"].nunique())"
   ]
  },
  {
   "cell_type": "code",
   "execution_count": null,
   "id": "18",
   "metadata": {
    "papermill": {
     "duration": 1.032059,
     "end_time": "2025-09-27T12:14:49.841374",
     "exception": false,
     "start_time": "2025-09-27T12:14:48.809315",
     "status": "completed"
    },
    "tags": []
   },
   "outputs": [],
   "source": [
    "card_type_colors = [plot.colors_dict[i] for i in bandai_df[\"Card type\"].value_counts().index]\n",
    "bandai_df[\"Card type\"].value_counts().plot.bar(figsize=(14, 6), rot=0, color=card_type_colors)\n",
    "plt.show()"
   ]
  },
  {
   "cell_type": "markdown",
   "id": "19",
   "metadata": {
    "jp-MarkdownHeadingCollapsed": true,
    "papermill": {
     "duration": 0.090891,
     "end_time": "2025-09-27T12:14:49.965455",
     "exception": false,
     "start_time": "2025-09-27T12:14:49.874564",
     "status": "completed"
    },
    "tags": []
   },
   "source": [
    "## ATK"
   ]
  },
  {
   "cell_type": "code",
   "execution_count": null,
   "id": "20",
   "metadata": {
    "papermill": {
     "duration": 0.055598,
     "end_time": "2025-09-27T12:14:50.329638",
     "exception": false,
     "start_time": "2025-09-27T12:14:50.274040",
     "status": "completed"
    },
    "tags": []
   },
   "outputs": [],
   "source": [
    "print(\"Total number of ATK values:\", bandai_df[\"ATK\"].nunique())"
   ]
  },
  {
   "cell_type": "code",
   "execution_count": null,
   "id": "21",
   "metadata": {
    "papermill": {
     "duration": 0.076078,
     "end_time": "2025-09-27T12:14:50.507228",
     "exception": false,
     "start_time": "2025-09-27T12:14:50.431150",
     "status": "completed"
    },
    "tags": []
   },
   "outputs": [],
   "source": [
    "bandai_df.drop(columns=[\"Card type\", \"Page name\", \"Page URL\"]).groupby(\"ATK\").nunique().sort_index(\n",
    "    key=lambda x: pd.to_numeric(x, errors=\"coerce\")\n",
    ")"
   ]
  },
  {
   "cell_type": "code",
   "execution_count": null,
   "id": "22",
   "metadata": {
    "papermill": {
     "duration": 0.446893,
     "end_time": "2025-09-27T12:14:51.223193",
     "exception": false,
     "start_time": "2025-09-27T12:14:50.776300",
     "status": "completed"
    },
    "tags": []
   },
   "outputs": [],
   "source": [
    "atk_colors = plot.colors_dict[\"Monster Card\"]\n",
    "bandai_df[\"ATK\"].value_counts().sort_index(key=lambda x: pd.to_numeric(x, errors=\"coerce\")).plot.bar(\n",
    "    figsize=(18, 6), color=atk_colors\n",
    ")\n",
    "plt.show()"
   ]
  },
  {
   "cell_type": "markdown",
   "id": "23",
   "metadata": {
    "jp-MarkdownHeadingCollapsed": true,
    "papermill": {
     "duration": 0.134237,
     "end_time": "2025-09-27T12:14:51.394123",
     "exception": false,
     "start_time": "2025-09-27T12:14:51.259886",
     "status": "completed"
    },
    "tags": []
   },
   "source": [
    "## DEF"
   ]
  },
  {
   "cell_type": "code",
   "execution_count": null,
   "id": "24",
   "metadata": {
    "papermill": {
     "duration": 0.354176,
     "end_time": "2025-09-27T12:14:52.009131",
     "exception": false,
     "start_time": "2025-09-27T12:14:51.654955",
     "status": "completed"
    },
    "tags": []
   },
   "outputs": [],
   "source": [
    "print(\"Total number of DEF values:\", bandai_df[\"DEF\"].nunique())"
   ]
  },
  {
   "cell_type": "code",
   "execution_count": null,
   "id": "25",
   "metadata": {
    "papermill": {
     "duration": 0.171492,
     "end_time": "2025-09-27T12:14:52.456140",
     "exception": false,
     "start_time": "2025-09-27T12:14:52.284648",
     "status": "completed"
    },
    "tags": []
   },
   "outputs": [],
   "source": [
    "bandai_df.drop(columns=[\"Card type\", \"Page name\", \"Page URL\"]).groupby(\"DEF\").nunique().sort_index(\n",
    "    key=lambda x: pd.to_numeric(x, errors=\"coerce\")\n",
    ")"
   ]
  },
  {
   "cell_type": "code",
   "execution_count": null,
   "id": "26",
   "metadata": {
    "papermill": {
     "duration": 0.446521,
     "end_time": "2025-09-27T12:14:52.984623",
     "exception": false,
     "start_time": "2025-09-27T12:14:52.538102",
     "status": "completed"
    },
    "tags": []
   },
   "outputs": [],
   "source": [
    "def_colors = plot.colors_dict[\"Monster Card\"]\n",
    "bandai_df[\"DEF\"].value_counts().sort_index(key=lambda x: pd.to_numeric(x, errors=\"coerce\")).plot.bar(\n",
    "    figsize=(18, 6), color=def_colors\n",
    ")\n",
    "plt.show()"
   ]
  },
  {
   "cell_type": "markdown",
   "id": "27",
   "metadata": {
    "jp-MarkdownHeadingCollapsed": true,
    "papermill": {
     "duration": 0.125096,
     "end_time": "2025-09-27T12:14:53.277969",
     "exception": false,
     "start_time": "2025-09-27T12:14:53.152873",
     "status": "completed"
    },
    "tags": []
   },
   "source": [
    "## Level"
   ]
  },
  {
   "cell_type": "code",
   "execution_count": null,
   "id": "28",
   "metadata": {
    "papermill": {
     "duration": 0.332022,
     "end_time": "2025-09-27T12:14:54.437455",
     "exception": false,
     "start_time": "2025-09-27T12:14:54.105433",
     "status": "completed"
    },
    "tags": []
   },
   "outputs": [],
   "source": [
    "bandai_df.drop(columns=[\"Card type\", \"Page name\", \"Page URL\"]).groupby(\"Level\").nunique().sort_index(\n",
    "    key=lambda x: pd.to_numeric(x, errors=\"coerce\")\n",
    ")"
   ]
  },
  {
   "cell_type": "code",
   "execution_count": null,
   "id": "29",
   "metadata": {
    "papermill": {
     "duration": 0.474436,
     "end_time": "2025-09-27T12:14:55.077645",
     "exception": false,
     "start_time": "2025-09-27T12:14:54.603209",
     "status": "completed"
    },
    "tags": []
   },
   "outputs": [],
   "source": [
    "level_colors = plot.colors_dict[\"Level\"]\n",
    "bandai_df[\"Level\"].value_counts().sort_index(key=lambda x: pd.to_numeric(x, errors=\"coerce\")).plot.bar(\n",
    "    figsize=(16, 6), rot=0, color=level_colors\n",
    ")\n",
    "plt.show()"
   ]
  },
  {
   "cell_type": "markdown",
   "id": "30",
   "metadata": {
    "papermill": {
     "duration": 0.152947,
     "end_time": "2025-09-27T12:14:55.275423",
     "exception": false,
     "start_time": "2025-09-27T12:14:55.122476",
     "status": "completed"
    },
    "tags": []
   },
   "source": [
    "### ATK statistics"
   ]
  },
  {
   "cell_type": "code",
   "execution_count": null,
   "id": "31",
   "metadata": {
    "papermill": {
     "duration": 0.209078,
     "end_time": "2025-09-27T12:14:55.546409",
     "exception": false,
     "start_time": "2025-09-27T12:14:55.337331",
     "status": "completed"
    },
    "tags": []
   },
   "outputs": [],
   "source": [
    "bandai_df[[\"Level\", \"ATK\"]].apply(pd.to_numeric, errors=\"coerce\").dropna().astype(int).groupby(\"Level\").describe().round(1)"
   ]
  },
  {
   "cell_type": "markdown",
   "id": "32",
   "metadata": {
    "papermill": {
     "duration": 0.116843,
     "end_time": "2025-09-27T12:14:55.764393",
     "exception": false,
     "start_time": "2025-09-27T12:14:55.647550",
     "status": "completed"
    },
    "tags": []
   },
   "source": [
    "### DEF statistics"
   ]
  },
  {
   "cell_type": "code",
   "execution_count": null,
   "id": "33",
   "metadata": {
    "papermill": {
     "duration": 0.138723,
     "end_time": "2025-09-27T12:14:56.175223",
     "exception": false,
     "start_time": "2025-09-27T12:14:56.036500",
     "status": "completed"
    },
    "tags": []
   },
   "outputs": [],
   "source": [
    "bandai_df[[\"Level\", \"DEF\"]].apply(pd.to_numeric, errors=\"coerce\").dropna().astype(int).groupby(\"Level\").describe().round(1)"
   ]
  },
  {
   "cell_type": "markdown",
   "id": "34",
   "metadata": {
    "papermill": {
     "duration": 0.099021,
     "end_time": "2025-09-27T12:14:56.316180",
     "exception": false,
     "start_time": "2025-09-27T12:14:56.217159",
     "status": "completed"
    },
    "tags": []
   },
   "source": [
    "## Monster type"
   ]
  },
  {
   "cell_type": "code",
   "execution_count": null,
   "id": "35",
   "metadata": {
    "papermill": {
     "duration": 0.252167,
     "end_time": "2025-09-27T12:14:56.675534",
     "exception": false,
     "start_time": "2025-09-27T12:14:56.423367",
     "status": "completed"
    },
    "tags": []
   },
   "outputs": [],
   "source": [
    "print(\"Total number of monster types:\", bandai_df[\"Monster type\"].nunique())"
   ]
  },
  {
   "cell_type": "code",
   "execution_count": null,
   "id": "36",
   "metadata": {
    "papermill": {
     "duration": 0.15492,
     "end_time": "2025-09-27T12:14:56.875661",
     "exception": false,
     "start_time": "2025-09-27T12:14:56.720741",
     "status": "completed"
    },
    "tags": []
   },
   "outputs": [],
   "source": [
    "bandai_df.drop(columns=[\"Card type\", \"Page name\", \"Page URL\"]).groupby(\"Monster type\").nunique()"
   ]
  },
  {
   "cell_type": "code",
   "execution_count": null,
   "id": "37",
   "metadata": {
    "papermill": {
     "duration": 0.303954,
     "end_time": "2025-09-27T12:14:57.231414",
     "exception": false,
     "start_time": "2025-09-27T12:14:56.927460",
     "status": "completed"
    },
    "tags": []
   },
   "outputs": [],
   "source": [
    "monster_type_colors = plot.colors_dict[\"Monster Card\"]\n",
    "bandai_df[\"Monster type\"].value_counts().plot.bar(figsize=(16, 6), rot=45, color=monster_type_colors)\n",
    "plt.show()"
   ]
  },
  {
   "cell_type": "markdown",
   "id": "38",
   "metadata": {
    "papermill": {
     "duration": 0.182939,
     "end_time": "2025-09-27T12:14:57.458088",
     "exception": false,
     "start_time": "2025-09-27T12:14:57.275149",
     "status": "completed"
    },
    "tags": []
   },
   "source": [
    "## Set"
   ]
  },
  {
   "cell_type": "code",
   "execution_count": null,
   "id": "39",
   "metadata": {
    "papermill": {
     "duration": 0.083257,
     "end_time": "2025-09-27T12:14:57.669926",
     "exception": false,
     "start_time": "2025-09-27T12:14:57.586669",
     "status": "completed"
    },
    "tags": []
   },
   "outputs": [],
   "source": [
    "print(\"Total number of sets:\", bandai_df[\"Set\"].nunique())"
   ]
  },
  {
   "cell_type": "code",
   "execution_count": null,
   "id": "40",
   "metadata": {
    "papermill": {
     "duration": 0.159192,
     "end_time": "2025-09-27T12:14:57.976343",
     "exception": false,
     "start_time": "2025-09-27T12:14:57.817151",
     "status": "completed"
    },
    "tags": []
   },
   "outputs": [],
   "source": [
    "bandai_df.drop(columns=[\"Page name\", \"Page URL\"]).groupby(\"Set\").nunique()"
   ]
  },
  {
   "cell_type": "markdown",
   "id": "41",
   "metadata": {
    "papermill": {
     "duration": 0.055877,
     "end_time": "2025-09-27T12:14:58.359201",
     "exception": false,
     "start_time": "2025-09-27T12:14:58.303324",
     "status": "completed"
    },
    "tags": []
   },
   "source": [
    "# Epilogue"
   ]
  },
  {
   "cell_type": "code",
   "execution_count": null,
   "id": "42",
   "metadata": {
    "papermill": {
     "duration": 1.553461,
     "end_time": "2025-09-27T12:15:00.010477",
     "exception": false,
     "start_time": "2025-09-27T12:14:58.457016",
     "status": "completed"
    },
    "tags": []
   },
   "outputs": [],
   "source": [
    "benchmark(report=\"bandai\", timestamp=timestamp)"
   ]
  },
  {
   "cell_type": "code",
   "execution_count": null,
   "id": "43",
   "metadata": {
    "papermill": {
     "duration": 0.095094,
     "end_time": "2025-09-27T12:15:00.167981",
     "exception": false,
     "start_time": "2025-09-27T12:15:00.072887",
     "status": "completed"
    },
    "tags": []
   },
   "outputs": [],
   "source": [
    "footer()"
   ]
  },
  {
   "cell_type": "markdown",
   "id": "44",
   "metadata": {
    "papermill": {
     "duration": 0.424455,
     "end_time": "2025-09-27T12:15:00.688776",
     "exception": false,
     "start_time": "2025-09-27T12:15:00.264321",
     "status": "completed"
    },
    "tags": []
   },
   "source": [
    "## HTML export"
   ]
  },
  {
   "cell_type": "code",
   "execution_count": null,
   "id": "45",
   "metadata": {
    "papermill": {
     "duration": 0.263534,
     "end_time": "2025-09-27T12:15:01.033413",
     "exception": false,
     "start_time": "2025-09-27T12:15:00.769879",
     "status": "completed"
    },
    "tags": []
   },
   "outputs": [],
   "source": [
    "# Save notebook on disck before generating HTML report\n",
    "save_notebook()"
   ]
  },
  {
   "cell_type": "code",
   "execution_count": null,
   "id": "46",
   "metadata": {
    "papermill": {
     "duration": 2.251513,
     "end_time": "2025-09-27T12:15:03.382369",
     "exception": false,
     "start_time": "2025-09-27T12:15:01.130856",
     "status": "completed"
    },
    "tags": []
   },
   "outputs": [],
   "source": [
    "export_notebook(dirs.NOTEBOOKS.user / \"Bandai.ipynb\")"
   ]
  },
  {
   "cell_type": "markdown",
   "id": "47",
   "metadata": {
    "papermill": {
     "duration": 0.043253,
     "end_time": "2025-09-27T12:15:03.480085",
     "exception": false,
     "start_time": "2025-09-27T12:15:03.436832",
     "status": "completed"
    },
    "tags": [
     "exclude"
    ]
   },
   "source": [
    "## Git"
   ]
  },
  {
   "cell_type": "code",
   "execution_count": null,
   "id": "48",
   "metadata": {
    "papermill": {
     "duration": null,
     "end_time": null,
     "exception": false,
     "start_time": "2025-09-27T12:15:03.537026",
     "status": "running"
    },
    "tags": [
     "exclude"
    ]
   },
   "outputs": [],
   "source": [
    "git.commit(\"*[Bb]andai*\", f\"Bandai update - {timestamp.isoformat()}\")"
   ]
  }
 ],
 "metadata": {
  "kernelspec": {
   "display_name": "Python3 (YugiQuery)",
   "language": "python",
   "name": "yugiquery"
  },
  "language_info": {
   "codemirror_mode": {
    "name": "ipython",
    "version": 3
   },
   "file_extension": ".py",
   "mimetype": "text/x-python",
   "name": "python",
   "nbconvert_exporter": "python",
   "pygments_lexer": "ipython3",
   "version": "3.12.9"
  },
  "papermill": {
   "default_parameters": {},
   "duration": null,
   "end_time": null,
   "environment_variables": {},
   "exception": null,
   "input_path": "/home/jovyan/yugiquery/notebooks/Bandai.ipynb",
   "output_path": "/home/jovyan/yugiquery/notebooks/Bandai.ipynb",
   "parameters": {},
   "start_time": "2025-09-27T12:14:13.394956",
   "version": "2.6.0"
  }
 },
 "nbformat": 4,
 "nbformat_minor": 5
}
