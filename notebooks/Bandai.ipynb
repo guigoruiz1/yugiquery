{
 "cells": [
  {
   "cell_type": "code",
   "execution_count": null,
   "id": "0",
   "metadata": {
    "papermill": {
     "duration": 25.978116,
     "end_time": "2025-08-16T06:03:36.713588",
     "exception": false,
     "start_time": "2025-08-16T06:03:10.735472",
     "status": "completed"
    },
    "tags": []
   },
   "outputs": [],
   "source": [
    "from yugiquery import *\n",
    "\n",
    "init_notebook_mode(all_interactive=True)\n",
    "\n",
    "header(\"Bandai\")"
   ]
  },
  {
   "cell_type": "markdown",
   "id": "1",
   "metadata": {
    "papermill": {
     "duration": 0.56088,
     "end_time": "2025-08-16T06:03:37.306151",
     "exception": false,
     "start_time": "2025-08-16T06:03:36.745271",
     "status": "completed"
    },
    "tags": []
   },
   "source": [
    "---"
   ]
  },
  {
   "cell_type": "markdown",
   "id": "2",
   "metadata": {
    "papermill": {
     "duration": 0.128919,
     "end_time": "2025-08-16T06:03:37.786394",
     "exception": false,
     "start_time": "2025-08-16T06:03:37.657475",
     "status": "completed"
    },
    "tags": []
   },
   "source": [
    "Table of Contents <a class=\"jp-toc-ignore\"></a>\n",
    "=================\n",
    "* [1 Data aquisition](#data-aquisition)\n",
    "  * [1.1 Fetch online data](#fetch-online-data)\n",
    "* [2 Check changes](#check-changes)\n",
    "  * [2.1 Load previous data](#load-previous-data)\n",
    "  * [2.2 Generate changelog](#generate-changelog)\n",
    "  * [2.3 Save data](#save-data)\n",
    "* [3 Data visualization](#data-visualization)\n",
    "  * [3.1 Card type](#card-type)\n",
    "  * [3.2 ATK](#atk)\n",
    "  * [3.3 DEF](#def)\n",
    "  * [3.4 Level](#level)\n",
    "    * [3.4.1 ATK statistics](#atk-statistics)\n",
    "    * [3.4.2 DEF statistics](#def-statistics)\n",
    "  * [3.5 Monster type](#monster-type)\n",
    "  * [3.6 Set](#set)\n",
    "* [4 Epilogue](#epilogue)\n",
    "  * [4.1 HTML export](#html-export)\n",
    "  <!-- * [4.2 Git](#git) -->"
   ]
  },
  {
   "cell_type": "markdown",
   "id": "3",
   "metadata": {
    "papermill": {
     "duration": 0.18338,
     "end_time": "2025-08-16T06:03:38.134828",
     "exception": false,
     "start_time": "2025-08-16T06:03:37.951448",
     "status": "completed"
    },
    "tags": []
   },
   "source": [
    "# Data aquisition"
   ]
  },
  {
   "cell_type": "markdown",
   "id": "4",
   "metadata": {
    "jp-MarkdownHeadingCollapsed": true,
    "papermill": {
     "duration": 0.161584,
     "end_time": "2025-08-16T06:03:38.328943",
     "exception": false,
     "start_time": "2025-08-16T06:03:38.167359",
     "status": "completed"
    },
    "tags": []
   },
   "source": [
    "## Fetch online data"
   ]
  },
  {
   "cell_type": "code",
   "execution_count": null,
   "id": "5",
   "metadata": {
    "editable": true,
    "papermill": {
     "duration": 0.259172,
     "end_time": "2025-08-16T06:03:38.985419",
     "exception": false,
     "start_time": "2025-08-16T06:03:38.726247",
     "status": "completed"
    },
    "slideshow": {
     "slide_type": ""
    },
    "tags": []
   },
   "outputs": [],
   "source": [
    "timestamp = arrow.utcnow()"
   ]
  },
  {
   "cell_type": "code",
   "execution_count": null,
   "id": "6",
   "metadata": {
    "editable": true,
    "papermill": {
     "duration": 2.414577,
     "end_time": "2025-08-16T06:03:41.594073",
     "exception": false,
     "start_time": "2025-08-16T06:03:39.179496",
     "status": "completed"
    },
    "slideshow": {
     "slide_type": ""
    },
    "tags": []
   },
   "outputs": [],
   "source": [
    "bandai_df = fetch_bandai(debug=False)"
   ]
  },
  {
   "cell_type": "markdown",
   "id": "7",
   "metadata": {
    "jp-MarkdownHeadingCollapsed": true,
    "papermill": {
     "duration": 0.182842,
     "end_time": "2025-08-16T06:03:41.809011",
     "exception": false,
     "start_time": "2025-08-16T06:03:41.626169",
     "status": "completed"
    },
    "tags": []
   },
   "source": [
    "# Check changes"
   ]
  },
  {
   "cell_type": "markdown",
   "id": "8",
   "metadata": {
    "papermill": {
     "duration": 0.098625,
     "end_time": "2025-08-16T06:03:41.948648",
     "exception": false,
     "start_time": "2025-08-16T06:03:41.850023",
     "status": "completed"
    },
    "tags": []
   },
   "source": [
    "## Load previous data"
   ]
  },
  {
   "cell_type": "code",
   "execution_count": null,
   "id": "9",
   "metadata": {
    "papermill": {
     "duration": 0.585425,
     "end_time": "2025-08-16T06:03:42.991612",
     "exception": false,
     "start_time": "2025-08-16T06:03:42.406187",
     "status": "completed"
    },
    "tags": []
   },
   "outputs": [],
   "source": [
    "# Get latest file if exist\n",
    "previous_df, previous_ts = load_latest_data(\"bandai\", return_ts=True)\n",
    "\n",
    "if previous_df is not None:\n",
    "    previous_df = previous_df.astype(bandai_df[previous_df.columns.intersection(bandai_df.columns)].dtypes.to_dict())"
   ]
  },
  {
   "cell_type": "markdown",
   "id": "10",
   "metadata": {
    "papermill": {
     "duration": 0.490818,
     "end_time": "2025-08-16T06:03:43.516812",
     "exception": false,
     "start_time": "2025-08-16T06:03:43.025994",
     "status": "completed"
    },
    "tags": []
   },
   "source": [
    "## Generate changelog"
   ]
  },
  {
   "cell_type": "code",
   "execution_count": null,
   "id": "11",
   "metadata": {
    "papermill": {
     "duration": 0.361353,
     "end_time": "2025-08-16T06:03:44.091068",
     "exception": false,
     "start_time": "2025-08-16T06:03:43.729715",
     "status": "completed"
    },
    "tags": []
   },
   "outputs": [],
   "source": [
    "if previous_df is None:\n",
    "    changelog = None\n",
    "    print(\"Skipped\")\n",
    "else:\n",
    "    changelog = generate_changelog(previous_df, bandai_df, col=\"Name\")\n",
    "    if not changelog.empty:\n",
    "        display(changelog)\n",
    "        new_names = changelog.index.value_counts()\n",
    "        new_names = new_names[new_names == 1].index\n",
    "        if len(new_names) > 0:\n",
    "            print(\"New cards:\")\n",
    "            display(changelog.loc[new_names])\n",
    "        changelog.to_csv(\n",
    "            dirs.DATA / make_filename(report=\"bandai\", timestamp=timestamp, previous_timestamp=previous_ts),\n",
    "            index=True,\n",
    "        )\n",
    "        print(\"Changelog saved\")"
   ]
  },
  {
   "cell_type": "markdown",
   "id": "12",
   "metadata": {
    "papermill": {
     "duration": 0.155543,
     "end_time": "2025-08-16T06:03:44.545806",
     "exception": false,
     "start_time": "2025-08-16T06:03:44.390263",
     "status": "completed"
    },
    "tags": []
   },
   "source": [
    "## Save data"
   ]
  },
  {
   "cell_type": "code",
   "execution_count": null,
   "id": "13",
   "metadata": {
    "papermill": {
     "duration": 0.293881,
     "end_time": "2025-08-16T06:03:45.027350",
     "exception": false,
     "start_time": "2025-08-16T06:03:44.733469",
     "status": "completed"
    },
    "tags": []
   },
   "outputs": [],
   "source": [
    "if changelog is not None and changelog.empty:\n",
    "    print(\"No changes. New data not saved\")\n",
    "else:\n",
    "    bandai_df.to_csv(\n",
    "        dirs.DATA / make_filename(report=\"bandai\", timestamp=timestamp),\n",
    "        index=False,\n",
    "    )\n",
    "    print(\"Data saved\")"
   ]
  },
  {
   "cell_type": "markdown",
   "id": "14",
   "metadata": {
    "papermill": {
     "duration": 0.568888,
     "end_time": "2025-08-16T06:03:45.810956",
     "exception": false,
     "start_time": "2025-08-16T06:03:45.242068",
     "status": "completed"
    },
    "tags": []
   },
   "source": [
    "# Data visualization"
   ]
  },
  {
   "cell_type": "code",
   "execution_count": null,
   "id": "15",
   "metadata": {
    "papermill": {
     "duration": 0.282368,
     "end_time": "2025-08-16T06:03:46.223002",
     "exception": false,
     "start_time": "2025-08-16T06:03:45.940634",
     "status": "completed"
    },
    "tags": []
   },
   "outputs": [],
   "source": [
    "bandai_df"
   ]
  },
  {
   "cell_type": "markdown",
   "id": "16",
   "metadata": {
    "jp-MarkdownHeadingCollapsed": true,
    "papermill": {
     "duration": 0.355501,
     "end_time": "2025-08-16T06:03:46.612544",
     "exception": false,
     "start_time": "2025-08-16T06:03:46.257043",
     "status": "completed"
    },
    "tags": []
   },
   "source": [
    "## Card type"
   ]
  },
  {
   "cell_type": "code",
   "execution_count": null,
   "id": "17",
   "metadata": {
    "papermill": {
     "duration": 0.625449,
     "end_time": "2025-08-16T06:03:47.335190",
     "exception": false,
     "start_time": "2025-08-16T06:03:46.709741",
     "status": "completed"
    },
    "tags": []
   },
   "outputs": [],
   "source": [
    "print(\"Total number of card types:\", bandai_df[\"Card type\"].nunique())"
   ]
  },
  {
   "cell_type": "code",
   "execution_count": null,
   "id": "18",
   "metadata": {
    "papermill": {
     "duration": 2.669898,
     "end_time": "2025-08-16T06:03:50.082885",
     "exception": false,
     "start_time": "2025-08-16T06:03:47.412987",
     "status": "completed"
    },
    "tags": []
   },
   "outputs": [],
   "source": [
    "card_type_colors = [plot.colors_dict[i] for i in bandai_df[\"Card type\"].value_counts().index]\n",
    "bandai_df[\"Card type\"].value_counts().plot.bar(figsize=(14, 6), rot=0, color=card_type_colors)\n",
    "plt.show()"
   ]
  },
  {
   "cell_type": "markdown",
   "id": "19",
   "metadata": {
    "jp-MarkdownHeadingCollapsed": true,
    "papermill": {
     "duration": 0.173236,
     "end_time": "2025-08-16T06:03:50.292318",
     "exception": false,
     "start_time": "2025-08-16T06:03:50.119082",
     "status": "completed"
    },
    "tags": []
   },
   "source": [
    "## ATK"
   ]
  },
  {
   "cell_type": "code",
   "execution_count": null,
   "id": "20",
   "metadata": {
    "papermill": {
     "duration": 0.256724,
     "end_time": "2025-08-16T06:03:50.840630",
     "exception": false,
     "start_time": "2025-08-16T06:03:50.583906",
     "status": "completed"
    },
    "tags": []
   },
   "outputs": [],
   "source": [
    "print(\"Total number of ATK values:\", bandai_df[\"ATK\"].nunique())"
   ]
  },
  {
   "cell_type": "code",
   "execution_count": null,
   "id": "21",
   "metadata": {
    "papermill": {
     "duration": 0.598745,
     "end_time": "2025-08-16T06:03:51.849038",
     "exception": false,
     "start_time": "2025-08-16T06:03:51.250293",
     "status": "completed"
    },
    "tags": []
   },
   "outputs": [],
   "source": [
    "bandai_df.drop(columns=[\"Card type\", \"Page name\", \"Page URL\"]).groupby(\"ATK\").nunique().sort_index(\n",
    "    key=lambda x: pd.to_numeric(x, errors=\"coerce\")\n",
    ")"
   ]
  },
  {
   "cell_type": "code",
   "execution_count": null,
   "id": "22",
   "metadata": {
    "papermill": {
     "duration": 0.509949,
     "end_time": "2025-08-16T06:03:52.530921",
     "exception": false,
     "start_time": "2025-08-16T06:03:52.020972",
     "status": "completed"
    },
    "tags": []
   },
   "outputs": [],
   "source": [
    "atk_colors = plot.colors_dict[\"Monster Card\"]\n",
    "bandai_df[\"ATK\"].value_counts().sort_index(key=lambda x: pd.to_numeric(x, errors=\"coerce\")).plot.bar(\n",
    "    figsize=(18, 6), color=atk_colors\n",
    ")\n",
    "plt.show()"
   ]
  },
  {
   "cell_type": "markdown",
   "id": "23",
   "metadata": {
    "jp-MarkdownHeadingCollapsed": true,
    "papermill": {
     "duration": 0.086125,
     "end_time": "2025-08-16T06:03:52.728024",
     "exception": false,
     "start_time": "2025-08-16T06:03:52.641899",
     "status": "completed"
    },
    "tags": []
   },
   "source": [
    "## DEF"
   ]
  },
  {
   "cell_type": "code",
   "execution_count": null,
   "id": "24",
   "metadata": {
    "papermill": {
     "duration": 0.466707,
     "end_time": "2025-08-16T06:03:54.204647",
     "exception": false,
     "start_time": "2025-08-16T06:03:53.737940",
     "status": "completed"
    },
    "tags": []
   },
   "outputs": [],
   "source": [
    "print(\"Total number of DEF values:\", bandai_df[\"DEF\"].nunique())"
   ]
  },
  {
   "cell_type": "code",
   "execution_count": null,
   "id": "25",
   "metadata": {
    "papermill": {
     "duration": 0.421689,
     "end_time": "2025-08-16T06:03:55.294330",
     "exception": false,
     "start_time": "2025-08-16T06:03:54.872641",
     "status": "completed"
    },
    "tags": []
   },
   "outputs": [],
   "source": [
    "bandai_df.drop(columns=[\"Card type\", \"Page name\", \"Page URL\"]).groupby(\"DEF\").nunique().sort_index(\n",
    "    key=lambda x: pd.to_numeric(x, errors=\"coerce\")\n",
    ")"
   ]
  },
  {
   "cell_type": "code",
   "execution_count": null,
   "id": "26",
   "metadata": {
    "papermill": {
     "duration": 0.678309,
     "end_time": "2025-08-16T06:03:56.284877",
     "exception": false,
     "start_time": "2025-08-16T06:03:55.606568",
     "status": "completed"
    },
    "tags": []
   },
   "outputs": [],
   "source": [
    "def_colors = plot.colors_dict[\"Monster Card\"]\n",
    "bandai_df[\"DEF\"].value_counts().sort_index(key=lambda x: pd.to_numeric(x, errors=\"coerce\")).plot.bar(\n",
    "    figsize=(18, 6), color=def_colors\n",
    ")\n",
    "plt.show()"
   ]
  },
  {
   "cell_type": "markdown",
   "id": "27",
   "metadata": {
    "jp-MarkdownHeadingCollapsed": true,
    "papermill": {
     "duration": 0.231343,
     "end_time": "2025-08-16T06:03:56.556572",
     "exception": false,
     "start_time": "2025-08-16T06:03:56.325229",
     "status": "completed"
    },
    "tags": []
   },
   "source": [
    "## Level"
   ]
  },
  {
   "cell_type": "code",
   "execution_count": null,
   "id": "28",
   "metadata": {
    "papermill": {
     "duration": 0.199597,
     "end_time": "2025-08-16T06:03:57.387767",
     "exception": false,
     "start_time": "2025-08-16T06:03:57.188170",
     "status": "completed"
    },
    "tags": []
   },
   "outputs": [],
   "source": [
    "bandai_df.drop(columns=[\"Card type\", \"Page name\", \"Page URL\"]).groupby(\"Level\").nunique().sort_index(\n",
    "    key=lambda x: pd.to_numeric(x, errors=\"coerce\")\n",
    ")"
   ]
  },
  {
   "cell_type": "code",
   "execution_count": null,
   "id": "29",
   "metadata": {
    "papermill": {
     "duration": 0.358328,
     "end_time": "2025-08-16T06:03:57.914026",
     "exception": false,
     "start_time": "2025-08-16T06:03:57.555698",
     "status": "completed"
    },
    "tags": []
   },
   "outputs": [],
   "source": [
    "level_colors = plot.colors_dict[\"Level\"]\n",
    "bandai_df[\"Level\"].value_counts().sort_index(key=lambda x: pd.to_numeric(x, errors=\"coerce\")).plot.bar(\n",
    "    figsize=(16, 6), rot=0, color=level_colors\n",
    ")\n",
    "plt.show()"
   ]
  },
  {
   "cell_type": "markdown",
   "id": "30",
   "metadata": {
    "papermill": {
     "duration": 0.273953,
     "end_time": "2025-08-16T06:03:58.373018",
     "exception": false,
     "start_time": "2025-08-16T06:03:58.099065",
     "status": "completed"
    },
    "tags": []
   },
   "source": [
    "### ATK statistics"
   ]
  },
  {
   "cell_type": "code",
   "execution_count": null,
   "id": "31",
   "metadata": {
    "papermill": {
     "duration": 0.556201,
     "end_time": "2025-08-16T06:03:59.478611",
     "exception": false,
     "start_time": "2025-08-16T06:03:58.922410",
     "status": "completed"
    },
    "tags": []
   },
   "outputs": [],
   "source": [
    "bandai_df[[\"Level\", \"ATK\"]].apply(pd.to_numeric, errors=\"coerce\").dropna().astype(int).groupby(\"Level\").describe().round(1)"
   ]
  },
  {
   "cell_type": "markdown",
   "id": "32",
   "metadata": {
    "papermill": {
     "duration": 0.468865,
     "end_time": "2025-08-16T06:04:00.197991",
     "exception": false,
     "start_time": "2025-08-16T06:03:59.729126",
     "status": "completed"
    },
    "tags": []
   },
   "source": [
    "### DEF statistics"
   ]
  },
  {
   "cell_type": "code",
   "execution_count": null,
   "id": "33",
   "metadata": {
    "papermill": {
     "duration": 0.416461,
     "end_time": "2025-08-16T06:04:01.279084",
     "exception": false,
     "start_time": "2025-08-16T06:04:00.862623",
     "status": "completed"
    },
    "tags": []
   },
   "outputs": [],
   "source": [
    "bandai_df[[\"Level\", \"DEF\"]].apply(pd.to_numeric, errors=\"coerce\").dropna().astype(int).groupby(\"Level\").describe().round(1)"
   ]
  },
  {
   "cell_type": "markdown",
   "id": "34",
   "metadata": {
    "papermill": {
     "duration": 0.237699,
     "end_time": "2025-08-16T06:04:02.201121",
     "exception": false,
     "start_time": "2025-08-16T06:04:01.963422",
     "status": "completed"
    },
    "tags": []
   },
   "source": [
    "## Monster type"
   ]
  },
  {
   "cell_type": "code",
   "execution_count": null,
   "id": "35",
   "metadata": {
    "papermill": {
     "duration": 0.355794,
     "end_time": "2025-08-16T06:04:02.660682",
     "exception": false,
     "start_time": "2025-08-16T06:04:02.304888",
     "status": "completed"
    },
    "tags": []
   },
   "outputs": [],
   "source": [
    "print(\"Total number of monster types:\", bandai_df[\"Monster type\"].nunique())"
   ]
  },
  {
   "cell_type": "code",
   "execution_count": null,
   "id": "36",
   "metadata": {
    "papermill": {
     "duration": 0.529107,
     "end_time": "2025-08-16T06:04:03.466492",
     "exception": false,
     "start_time": "2025-08-16T06:04:02.937385",
     "status": "completed"
    },
    "tags": []
   },
   "outputs": [],
   "source": [
    "bandai_df.drop(columns=[\"Card type\", \"Page name\", \"Page URL\"]).groupby(\"Monster type\").nunique()"
   ]
  },
  {
   "cell_type": "code",
   "execution_count": null,
   "id": "37",
   "metadata": {
    "papermill": {
     "duration": 0.544286,
     "end_time": "2025-08-16T06:04:04.395047",
     "exception": false,
     "start_time": "2025-08-16T06:04:03.850761",
     "status": "completed"
    },
    "tags": []
   },
   "outputs": [],
   "source": [
    "monster_type_colors = plot.colors_dict[\"Monster Card\"]\n",
    "bandai_df[\"Monster type\"].value_counts().plot.bar(figsize=(16, 6), rot=45, color=monster_type_colors)\n",
    "plt.show()"
   ]
  },
  {
   "cell_type": "markdown",
   "id": "38",
   "metadata": {
    "papermill": {
     "duration": 0.207193,
     "end_time": "2025-08-16T06:04:04.868523",
     "exception": false,
     "start_time": "2025-08-16T06:04:04.661330",
     "status": "completed"
    },
    "tags": []
   },
   "source": [
    "## Set"
   ]
  },
  {
   "cell_type": "code",
   "execution_count": null,
   "id": "39",
   "metadata": {
    "papermill": {
     "duration": 0.393584,
     "end_time": "2025-08-16T06:04:05.307365",
     "exception": false,
     "start_time": "2025-08-16T06:04:04.913781",
     "status": "completed"
    },
    "tags": []
   },
   "outputs": [],
   "source": [
    "print(\"Total number of sets:\", bandai_df[\"Set\"].nunique())"
   ]
  },
  {
   "cell_type": "code",
   "execution_count": null,
   "id": "40",
   "metadata": {
    "papermill": {
     "duration": 0.45233,
     "end_time": "2025-08-16T06:04:06.265755",
     "exception": false,
     "start_time": "2025-08-16T06:04:05.813425",
     "status": "completed"
    },
    "tags": []
   },
   "outputs": [],
   "source": [
    "bandai_df.drop(columns=[\"Page name\", \"Page URL\"]).groupby(\"Set\").nunique()"
   ]
  },
  {
   "cell_type": "markdown",
   "id": "41",
   "metadata": {
    "papermill": {
     "duration": 0.141806,
     "end_time": "2025-08-16T06:04:06.568150",
     "exception": false,
     "start_time": "2025-08-16T06:04:06.426344",
     "status": "completed"
    },
    "tags": []
   },
   "source": [
    "# Epilogue"
   ]
  },
  {
   "cell_type": "code",
   "execution_count": null,
   "id": "42",
   "metadata": {
    "papermill": {
     "duration": 13.850811,
     "end_time": "2025-08-16T06:04:21.013773",
     "exception": false,
     "start_time": "2025-08-16T06:04:07.162962",
     "status": "completed"
    },
    "tags": []
   },
   "outputs": [],
   "source": [
    "benchmark(report=\"bandai\", timestamp=timestamp)"
   ]
  },
  {
   "cell_type": "code",
   "execution_count": null,
   "id": "43",
   "metadata": {
    "papermill": {
     "duration": 0.983052,
     "end_time": "2025-08-16T06:04:22.042938",
     "exception": false,
     "start_time": "2025-08-16T06:04:21.059886",
     "status": "completed"
    },
    "tags": []
   },
   "outputs": [],
   "source": [
    "footer()"
   ]
  },
  {
   "cell_type": "markdown",
   "id": "44",
   "metadata": {
    "papermill": {
     "duration": 0.145503,
     "end_time": "2025-08-16T06:04:22.392635",
     "exception": false,
     "start_time": "2025-08-16T06:04:22.247132",
     "status": "completed"
    },
    "tags": []
   },
   "source": [
    "## HTML export"
   ]
  },
  {
   "cell_type": "code",
   "execution_count": null,
   "id": "45",
   "metadata": {
    "papermill": {
     "duration": 0.343814,
     "end_time": "2025-08-16T06:04:22.927047",
     "exception": false,
     "start_time": "2025-08-16T06:04:22.583233",
     "status": "completed"
    },
    "tags": []
   },
   "outputs": [],
   "source": [
    "# Save notebook on disck before generating HTML report\n",
    "save_notebook()"
   ]
  },
  {
   "cell_type": "code",
   "execution_count": null,
   "id": "46",
   "metadata": {
    "papermill": {
     "duration": 2.631868,
     "end_time": "2025-08-16T06:04:27.285320",
     "exception": false,
     "start_time": "2025-08-16T06:04:24.653452",
     "status": "completed"
    },
    "tags": []
   },
   "outputs": [],
   "source": [
    "export_notebook(dirs.NOTEBOOKS.user / \"Bandai.ipynb\")"
   ]
  },
  {
   "cell_type": "markdown",
   "id": "47",
   "metadata": {
    "papermill": {
     "duration": 0.494398,
     "end_time": "2025-08-16T06:04:27.825836",
     "exception": false,
     "start_time": "2025-08-16T06:04:27.331438",
     "status": "completed"
    },
    "tags": [
     "exclude"
    ]
   },
   "source": [
    "## Git"
   ]
  },
  {
   "cell_type": "code",
   "execution_count": null,
   "id": "48",
   "metadata": {
    "papermill": {
     "duration": null,
     "end_time": null,
     "exception": false,
     "start_time": "2025-08-16T06:04:28.085457",
     "status": "running"
    },
    "tags": [
     "exclude"
    ]
   },
   "outputs": [],
   "source": [
    "git.commit(\"*[Bb]andai*\", f\"Bandai update - {timestamp.isoformat()}\")"
   ]
  }
 ],
 "metadata": {
  "kernelspec": {
   "display_name": "Python3 (YugiQuery)",
   "language": "python",
   "name": "yugiquery"
  },
  "language_info": {
   "codemirror_mode": {
    "name": "ipython",
    "version": 3
   },
   "file_extension": ".py",
   "mimetype": "text/x-python",
   "name": "python",
   "nbconvert_exporter": "python",
   "pygments_lexer": "ipython3",
   "version": "3.11.6"
  },
  "papermill": {
   "default_parameters": {},
   "duration": null,
   "end_time": null,
   "environment_variables": {},
   "exception": null,
   "input_path": "/home/jovyan/yugiquery/notebooks/Bandai.ipynb",
   "output_path": "/home/jovyan/yugiquery/notebooks/Bandai.ipynb",
   "parameters": {},
   "start_time": "2025-08-16T06:02:53.554066",
   "version": "2.6.0"
  }
 },
 "nbformat": 4,
 "nbformat_minor": 5
}
