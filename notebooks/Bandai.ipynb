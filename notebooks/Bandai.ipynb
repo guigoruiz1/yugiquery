{
 "cells": [
  {
   "cell_type": "code",
   "execution_count": null,
   "id": "0",
   "metadata": {
    "papermill": {
     "duration": 10.433287,
     "end_time": "2025-03-15T07:02:11.853168",
     "exception": false,
     "start_time": "2025-03-15T07:02:01.419881",
     "status": "completed"
    },
    "tags": []
   },
   "outputs": [],
   "source": [
    "from yugiquery import *\n",
    "\n",
    "init_notebook_mode(all_interactive=True)\n",
    "\n",
    "header(\"Bandai\")"
   ]
  },
  {
   "cell_type": "markdown",
   "id": "1",
   "metadata": {
    "papermill": {
     "duration": 0.04147,
     "end_time": "2025-03-15T07:02:11.927525",
     "exception": false,
     "start_time": "2025-03-15T07:02:11.886055",
     "status": "completed"
    },
    "tags": []
   },
   "source": [
    "---"
   ]
  },
  {
   "cell_type": "markdown",
   "id": "2",
   "metadata": {
    "papermill": {
     "duration": 0.025801,
     "end_time": "2025-03-15T07:02:11.991856",
     "exception": false,
     "start_time": "2025-03-15T07:02:11.966055",
     "status": "completed"
    },
    "tags": []
   },
   "source": [
    "Table of Contents <a class=\"jp-toc-ignore\"></a>\n",
    "=================\n",
    "* [1 Data aquisition](#data-aquisition)\n",
    "  * [1.1 Fetch online data](#fetch-online-data)\n",
    "* [2 Check changes](#check-changes)\n",
    "  * [2.1 Load previous data](#load-previous-data)\n",
    "  * [2.2 Generate changelog](#generate-changelog)\n",
    "  * [2.3 Save data](#save-data)\n",
    "* [3 Data visualization](#data-visualization)\n",
    "  * [3.1 Card type](#card-type)\n",
    "  * [3.2 ATK](#atk)\n",
    "  * [3.3 DEF](#def)\n",
    "  * [3.4 Level](#level)\n",
    "    * [3.4.1 ATK statistics](#atk-statistics)\n",
    "    * [3.4.2 DEF statistics](#def-statistics)\n",
    "  * [3.5 Monster type](#monster-type)\n",
    "  * [3.6 Set](#set)\n",
    "* [4 Epilogue](#epilogue)\n",
    "  * [4.1 HTML export](#html-export)\n",
    "  <!-- * [4.2 Git](#git) -->"
   ]
  },
  {
   "cell_type": "markdown",
   "id": "3",
   "metadata": {
    "papermill": {
     "duration": 0.026104,
     "end_time": "2025-03-15T07:02:12.048223",
     "exception": false,
     "start_time": "2025-03-15T07:02:12.022119",
     "status": "completed"
    },
    "tags": []
   },
   "source": [
    "# Data aquisition"
   ]
  },
  {
   "cell_type": "markdown",
   "id": "4",
   "metadata": {
    "jp-MarkdownHeadingCollapsed": true,
    "papermill": {
     "duration": 0.089696,
     "end_time": "2025-03-15T07:02:12.179342",
     "exception": false,
     "start_time": "2025-03-15T07:02:12.089646",
     "status": "completed"
    },
    "tags": []
   },
   "source": [
    "## Fetch online data"
   ]
  },
  {
   "cell_type": "code",
   "execution_count": null,
   "id": "5",
   "metadata": {
    "editable": true,
    "papermill": {
     "duration": 0.113042,
     "end_time": "2025-03-15T07:02:12.393028",
     "exception": false,
     "start_time": "2025-03-15T07:02:12.279986",
     "status": "completed"
    },
    "slideshow": {
     "slide_type": ""
    },
    "tags": []
   },
   "outputs": [],
   "source": [
    "timestamp = arrow.utcnow()"
   ]
  },
  {
   "cell_type": "code",
   "execution_count": null,
   "id": "6",
   "metadata": {
    "editable": true,
    "papermill": {
     "duration": 1.420177,
     "end_time": "2025-03-15T07:02:13.994623",
     "exception": false,
     "start_time": "2025-03-15T07:02:12.574446",
     "status": "completed"
    },
    "slideshow": {
     "slide_type": ""
    },
    "tags": []
   },
   "outputs": [],
   "source": [
    "bandai_df = fetch_bandai(debug=False)"
   ]
  },
  {
   "cell_type": "markdown",
   "id": "7",
   "metadata": {
    "jp-MarkdownHeadingCollapsed": true,
    "papermill": {
     "duration": 0.211788,
     "end_time": "2025-03-15T07:02:14.238842",
     "exception": false,
     "start_time": "2025-03-15T07:02:14.027054",
     "status": "completed"
    },
    "tags": []
   },
   "source": [
    "# Check changes"
   ]
  },
  {
   "cell_type": "markdown",
   "id": "8",
   "metadata": {
    "papermill": {
     "duration": 0.042931,
     "end_time": "2025-03-15T07:02:14.336842",
     "exception": false,
     "start_time": "2025-03-15T07:02:14.293911",
     "status": "completed"
    },
    "tags": []
   },
   "source": [
    "## Load previous data"
   ]
  },
  {
   "cell_type": "code",
   "execution_count": null,
   "id": "9",
   "metadata": {
    "papermill": {
     "duration": 0.369355,
     "end_time": "2025-03-15T07:02:14.738290",
     "exception": false,
     "start_time": "2025-03-15T07:02:14.368935",
     "status": "completed"
    },
    "tags": []
   },
   "outputs": [],
   "source": [
    "# Get latest file if exist\n",
    "previous_df, previous_ts = load_latest_data(\"bandai\", return_ts=True)\n",
    "\n",
    "if previous_df is not None:\n",
    "    previous_df = previous_df.astype(bandai_df[previous_df.columns.intersection(bandai_df.columns)].dtypes.to_dict())"
   ]
  },
  {
   "cell_type": "markdown",
   "id": "10",
   "metadata": {
    "papermill": {
     "duration": 0.058257,
     "end_time": "2025-03-15T07:02:14.832147",
     "exception": false,
     "start_time": "2025-03-15T07:02:14.773890",
     "status": "completed"
    },
    "tags": []
   },
   "source": [
    "## Generate changelog"
   ]
  },
  {
   "cell_type": "code",
   "execution_count": null,
   "id": "11",
   "metadata": {
    "papermill": {
     "duration": 0.07522,
     "end_time": "2025-03-15T07:02:14.935808",
     "exception": false,
     "start_time": "2025-03-15T07:02:14.860588",
     "status": "completed"
    },
    "tags": []
   },
   "outputs": [],
   "source": [
    "if previous_df is None:\n",
    "    changelog = None\n",
    "    print(\"Skipped\")\n",
    "else:\n",
    "    changelog = generate_changelog(previous_df, bandai_df, col=\"Name\")\n",
    "    if not changelog.empty:\n",
    "        display(changelog)\n",
    "        new_names = changelog.index.value_counts()\n",
    "        new_names = new_names[new_names == 1].index\n",
    "        if len(new_names) > 0:\n",
    "            print(\"New cards:\")\n",
    "            display(changelog.loc[new_names])\n",
    "        changelog.to_csv(\n",
    "            dirs.DATA / make_filename(report=\"bandai\", timestamp=timestamp, previous_timestamp=previous_ts),\n",
    "            index=True,\n",
    "        )\n",
    "        print(\"Changelog saved\")"
   ]
  },
  {
   "cell_type": "markdown",
   "id": "12",
   "metadata": {
    "papermill": {
     "duration": 0.028426,
     "end_time": "2025-03-15T07:02:14.992954",
     "exception": false,
     "start_time": "2025-03-15T07:02:14.964528",
     "status": "completed"
    },
    "tags": []
   },
   "source": [
    "## Save data"
   ]
  },
  {
   "cell_type": "code",
   "execution_count": null,
   "id": "13",
   "metadata": {
    "papermill": {
     "duration": 0.27698,
     "end_time": "2025-03-15T07:02:15.355919",
     "exception": false,
     "start_time": "2025-03-15T07:02:15.078939",
     "status": "completed"
    },
    "tags": []
   },
   "outputs": [],
   "source": [
    "if changelog is not None and changelog.empty:\n",
    "    print(\"No changes. New data not saved\")\n",
    "else:\n",
    "    bandai_df.to_csv(\n",
    "        dirs.DATA / make_filename(report=\"bandai\", timestamp=timestamp),\n",
    "        index=False,\n",
    "    )\n",
    "    print(\"Data saved\")"
   ]
  },
  {
   "cell_type": "markdown",
   "id": "14",
   "metadata": {
    "papermill": {
     "duration": 0.05486,
     "end_time": "2025-03-15T07:02:15.459388",
     "exception": false,
     "start_time": "2025-03-15T07:02:15.404528",
     "status": "completed"
    },
    "tags": []
   },
   "source": [
    "# Data visualization"
   ]
  },
  {
   "cell_type": "code",
   "execution_count": null,
   "id": "15",
   "metadata": {
    "papermill": {
     "duration": 0.469625,
     "end_time": "2025-03-15T07:02:15.982463",
     "exception": false,
     "start_time": "2025-03-15T07:02:15.512838",
     "status": "completed"
    },
    "tags": []
   },
   "outputs": [],
   "source": [
    "bandai_df"
   ]
  },
  {
   "cell_type": "markdown",
   "id": "16",
   "metadata": {
    "jp-MarkdownHeadingCollapsed": true,
    "papermill": {
     "duration": 0.029492,
     "end_time": "2025-03-15T07:02:16.045993",
     "exception": false,
     "start_time": "2025-03-15T07:02:16.016501",
     "status": "completed"
    },
    "tags": []
   },
   "source": [
    "## Card type"
   ]
  },
  {
   "cell_type": "code",
   "execution_count": null,
   "id": "17",
   "metadata": {
    "papermill": {
     "duration": 0.120822,
     "end_time": "2025-03-15T07:02:16.234616",
     "exception": false,
     "start_time": "2025-03-15T07:02:16.113794",
     "status": "completed"
    },
    "tags": []
   },
   "outputs": [],
   "source": [
    "print(\"Total number of card types:\", bandai_df[\"Card type\"].nunique())"
   ]
  },
  {
   "cell_type": "code",
   "execution_count": null,
   "id": "18",
   "metadata": {
    "papermill": {
     "duration": 1.077578,
     "end_time": "2025-03-15T07:02:17.597410",
     "exception": false,
     "start_time": "2025-03-15T07:02:16.519832",
     "status": "completed"
    },
    "tags": []
   },
   "outputs": [],
   "source": [
    "card_type_colors = [plot.colors_dict[i] for i in bandai_df[\"Card type\"].value_counts().index]\n",
    "bandai_df[\"Card type\"].value_counts().plot.bar(figsize=(14, 6), rot=0, color=card_type_colors)\n",
    "plt.show()"
   ]
  },
  {
   "cell_type": "markdown",
   "id": "19",
   "metadata": {
    "jp-MarkdownHeadingCollapsed": true,
    "papermill": {
     "duration": 0.030146,
     "end_time": "2025-03-15T07:02:17.664172",
     "exception": false,
     "start_time": "2025-03-15T07:02:17.634026",
     "status": "completed"
    },
    "tags": []
   },
   "source": [
    "## ATK"
   ]
  },
  {
   "cell_type": "code",
   "execution_count": null,
   "id": "20",
   "metadata": {
    "papermill": {
     "duration": 0.042975,
     "end_time": "2025-03-15T07:02:17.738277",
     "exception": false,
     "start_time": "2025-03-15T07:02:17.695302",
     "status": "completed"
    },
    "tags": []
   },
   "outputs": [],
   "source": [
    "print(\"Total number of ATK values:\", bandai_df[\"ATK\"].nunique())"
   ]
  },
  {
   "cell_type": "code",
   "execution_count": null,
   "id": "21",
   "metadata": {
    "papermill": {
     "duration": 0.061049,
     "end_time": "2025-03-15T07:02:17.834970",
     "exception": false,
     "start_time": "2025-03-15T07:02:17.773921",
     "status": "completed"
    },
    "tags": []
   },
   "outputs": [],
   "source": [
    "bandai_df.drop(columns=[\"Card type\", \"Page name\", \"Page URL\"]).groupby(\"ATK\").nunique().sort_index(\n",
    "    key=lambda x: pd.to_numeric(x, errors=\"coerce\")\n",
    ")"
   ]
  },
  {
   "cell_type": "code",
   "execution_count": null,
   "id": "22",
   "metadata": {
    "papermill": {
     "duration": 0.303906,
     "end_time": "2025-03-15T07:02:18.170608",
     "exception": false,
     "start_time": "2025-03-15T07:02:17.866702",
     "status": "completed"
    },
    "tags": []
   },
   "outputs": [],
   "source": [
    "atk_colors = plot.colors_dict[\"Monster Card\"]\n",
    "bandai_df[\"ATK\"].value_counts().sort_index(key=lambda x: pd.to_numeric(x, errors=\"coerce\")).plot.bar(\n",
    "    figsize=(18, 6), color=atk_colors\n",
    ")\n",
    "plt.show()"
   ]
  },
  {
   "cell_type": "markdown",
   "id": "23",
   "metadata": {
    "jp-MarkdownHeadingCollapsed": true,
    "papermill": {
     "duration": 0.06008,
     "end_time": "2025-03-15T07:02:18.268178",
     "exception": false,
     "start_time": "2025-03-15T07:02:18.208098",
     "status": "completed"
    },
    "tags": []
   },
   "source": [
    "## DEF"
   ]
  },
  {
   "cell_type": "code",
   "execution_count": null,
   "id": "24",
   "metadata": {
    "papermill": {
     "duration": 0.050192,
     "end_time": "2025-03-15T07:02:18.351417",
     "exception": false,
     "start_time": "2025-03-15T07:02:18.301225",
     "status": "completed"
    },
    "tags": []
   },
   "outputs": [],
   "source": [
    "print(\"Total number of DEF values:\", bandai_df[\"DEF\"].nunique())"
   ]
  },
  {
   "cell_type": "code",
   "execution_count": null,
   "id": "25",
   "metadata": {
    "papermill": {
     "duration": 0.063522,
     "end_time": "2025-03-15T07:02:18.449035",
     "exception": false,
     "start_time": "2025-03-15T07:02:18.385513",
     "status": "completed"
    },
    "tags": []
   },
   "outputs": [],
   "source": [
    "bandai_df.drop(columns=[\"Card type\", \"Page name\", \"Page URL\"]).groupby(\"DEF\").nunique().sort_index(\n",
    "    key=lambda x: pd.to_numeric(x, errors=\"coerce\")\n",
    ")"
   ]
  },
  {
   "cell_type": "code",
   "execution_count": null,
   "id": "26",
   "metadata": {
    "papermill": {
     "duration": 0.302747,
     "end_time": "2025-03-15T07:02:18.791604",
     "exception": false,
     "start_time": "2025-03-15T07:02:18.488857",
     "status": "completed"
    },
    "tags": []
   },
   "outputs": [],
   "source": [
    "def_colors = plot.colors_dict[\"Monster Card\"]\n",
    "bandai_df[\"DEF\"].value_counts().sort_index(key=lambda x: pd.to_numeric(x, errors=\"coerce\")).plot.bar(\n",
    "    figsize=(18, 6), color=def_colors\n",
    ")\n",
    "plt.show()"
   ]
  },
  {
   "cell_type": "markdown",
   "id": "27",
   "metadata": {
    "jp-MarkdownHeadingCollapsed": true,
    "papermill": {
     "duration": 0.034377,
     "end_time": "2025-03-15T07:02:18.866009",
     "exception": false,
     "start_time": "2025-03-15T07:02:18.831632",
     "status": "completed"
    },
    "tags": []
   },
   "source": [
    "## Level"
   ]
  },
  {
   "cell_type": "code",
   "execution_count": null,
   "id": "28",
   "metadata": {
    "papermill": {
     "duration": 0.08376,
     "end_time": "2025-03-15T07:02:18.985033",
     "exception": false,
     "start_time": "2025-03-15T07:02:18.901273",
     "status": "completed"
    },
    "tags": []
   },
   "outputs": [],
   "source": [
    "bandai_df.drop(columns=[\"Card type\", \"Page name\", \"Page URL\"]).groupby(\"Level\").nunique().sort_index(\n",
    "    key=lambda x: pd.to_numeric(x, errors=\"coerce\")\n",
    ")"
   ]
  },
  {
   "cell_type": "code",
   "execution_count": null,
   "id": "29",
   "metadata": {
    "papermill": {
     "duration": 0.219509,
     "end_time": "2025-03-15T07:02:19.254760",
     "exception": false,
     "start_time": "2025-03-15T07:02:19.035251",
     "status": "completed"
    },
    "tags": []
   },
   "outputs": [],
   "source": [
    "level_colors = plot.colors_dict[\"Level\"]\n",
    "bandai_df[\"Level\"].value_counts().sort_index(key=lambda x: pd.to_numeric(x, errors=\"coerce\")).plot.bar(\n",
    "    figsize=(16, 6), rot=0, color=level_colors\n",
    ")\n",
    "plt.show()"
   ]
  },
  {
   "cell_type": "markdown",
   "id": "30",
   "metadata": {
    "papermill": {
     "duration": 0.035962,
     "end_time": "2025-03-15T07:02:19.347876",
     "exception": false,
     "start_time": "2025-03-15T07:02:19.311914",
     "status": "completed"
    },
    "tags": []
   },
   "source": [
    "### ATK statistics"
   ]
  },
  {
   "cell_type": "code",
   "execution_count": null,
   "id": "31",
   "metadata": {
    "papermill": {
     "duration": 0.153044,
     "end_time": "2025-03-15T07:02:19.554044",
     "exception": false,
     "start_time": "2025-03-15T07:02:19.401000",
     "status": "completed"
    },
    "tags": []
   },
   "outputs": [],
   "source": [
    "bandai_df[[\"Level\", \"ATK\"]].apply(pd.to_numeric, errors=\"coerce\").dropna().astype(int).groupby(\"Level\").describe().round(1)"
   ]
  },
  {
   "cell_type": "markdown",
   "id": "32",
   "metadata": {
    "papermill": {
     "duration": 0.039384,
     "end_time": "2025-03-15T07:02:19.634260",
     "exception": false,
     "start_time": "2025-03-15T07:02:19.594876",
     "status": "completed"
    },
    "tags": []
   },
   "source": [
    "### DEF statistics"
   ]
  },
  {
   "cell_type": "code",
   "execution_count": null,
   "id": "33",
   "metadata": {
    "papermill": {
     "duration": 0.118058,
     "end_time": "2025-03-15T07:02:19.790131",
     "exception": false,
     "start_time": "2025-03-15T07:02:19.672073",
     "status": "completed"
    },
    "tags": []
   },
   "outputs": [],
   "source": [
    "bandai_df[[\"Level\", \"DEF\"]].apply(pd.to_numeric, errors=\"coerce\").dropna().astype(int).groupby(\"Level\").describe().round(1)"
   ]
  },
  {
   "cell_type": "markdown",
   "id": "34",
   "metadata": {
    "papermill": {
     "duration": 0.040147,
     "end_time": "2025-03-15T07:02:19.871655",
     "exception": false,
     "start_time": "2025-03-15T07:02:19.831508",
     "status": "completed"
    },
    "tags": []
   },
   "source": [
    "## Monster type"
   ]
  },
  {
   "cell_type": "code",
   "execution_count": null,
   "id": "35",
   "metadata": {
    "papermill": {
     "duration": 0.051884,
     "end_time": "2025-03-15T07:02:19.961227",
     "exception": false,
     "start_time": "2025-03-15T07:02:19.909343",
     "status": "completed"
    },
    "tags": []
   },
   "outputs": [],
   "source": [
    "print(\"Total number of monster types:\", bandai_df[\"Monster type\"].nunique())"
   ]
  },
  {
   "cell_type": "code",
   "execution_count": null,
   "id": "36",
   "metadata": {
    "papermill": {
     "duration": 0.06703,
     "end_time": "2025-03-15T07:02:20.077114",
     "exception": false,
     "start_time": "2025-03-15T07:02:20.010084",
     "status": "completed"
    },
    "tags": []
   },
   "outputs": [],
   "source": [
    "bandai_df.drop(columns=[\"Card type\", \"Page name\", \"Page URL\"]).groupby(\"Monster type\").nunique()"
   ]
  },
  {
   "cell_type": "code",
   "execution_count": null,
   "id": "37",
   "metadata": {
    "papermill": {
     "duration": 0.263684,
     "end_time": "2025-03-15T07:02:20.381590",
     "exception": false,
     "start_time": "2025-03-15T07:02:20.117906",
     "status": "completed"
    },
    "tags": []
   },
   "outputs": [],
   "source": [
    "monster_type_colors = plot.colors_dict[\"Monster Card\"]\n",
    "bandai_df[\"Monster type\"].value_counts().plot.bar(figsize=(16, 6), rot=45, color=monster_type_colors)\n",
    "plt.show()"
   ]
  },
  {
   "cell_type": "markdown",
   "id": "38",
   "metadata": {
    "papermill": {
     "duration": 0.03925,
     "end_time": "2025-03-15T07:02:20.465670",
     "exception": false,
     "start_time": "2025-03-15T07:02:20.426420",
     "status": "completed"
    },
    "tags": []
   },
   "source": [
    "## Set"
   ]
  },
  {
   "cell_type": "code",
   "execution_count": null,
   "id": "39",
   "metadata": {
    "papermill": {
     "duration": 0.057061,
     "end_time": "2025-03-15T07:02:20.563965",
     "exception": false,
     "start_time": "2025-03-15T07:02:20.506904",
     "status": "completed"
    },
    "tags": []
   },
   "outputs": [],
   "source": [
    "print(\"Total number of sets:\", bandai_df[\"Set\"].nunique())"
   ]
  },
  {
   "cell_type": "code",
   "execution_count": null,
   "id": "40",
   "metadata": {
    "papermill": {
     "duration": 0.071521,
     "end_time": "2025-03-15T07:02:20.677688",
     "exception": false,
     "start_time": "2025-03-15T07:02:20.606167",
     "status": "completed"
    },
    "tags": []
   },
   "outputs": [],
   "source": [
    "bandai_df.drop(columns=[\"Page name\", \"Page URL\"]).groupby(\"Set\").nunique()"
   ]
  },
  {
   "cell_type": "markdown",
   "id": "41",
   "metadata": {
    "papermill": {
     "duration": 0.039994,
     "end_time": "2025-03-15T07:02:20.761650",
     "exception": false,
     "start_time": "2025-03-15T07:02:20.721656",
     "status": "completed"
    },
    "tags": []
   },
   "source": [
    "# Epilogue"
   ]
  },
  {
   "cell_type": "code",
   "execution_count": null,
   "id": "42",
   "metadata": {
    "papermill": {
     "duration": 2.873274,
     "end_time": "2025-03-15T07:02:23.677180",
     "exception": false,
     "start_time": "2025-03-15T07:02:20.803906",
     "status": "completed"
    },
    "tags": []
   },
   "outputs": [],
   "source": [
    "benchmark(report=\"bandai\", timestamp=timestamp)"
   ]
  },
  {
   "cell_type": "code",
   "execution_count": null,
   "id": "43",
   "metadata": {
    "papermill": {
     "duration": 0.209942,
     "end_time": "2025-03-15T07:02:23.934069",
     "exception": false,
     "start_time": "2025-03-15T07:02:23.724127",
     "status": "completed"
    },
    "tags": []
   },
   "outputs": [],
   "source": [
    "footer()"
   ]
  },
  {
   "cell_type": "markdown",
   "id": "44",
   "metadata": {
    "papermill": {
     "duration": 0.071117,
     "end_time": "2025-03-15T07:02:24.085457",
     "exception": false,
     "start_time": "2025-03-15T07:02:24.014340",
     "status": "completed"
    },
    "tags": []
   },
   "source": [
    "## HTML export"
   ]
  },
  {
   "cell_type": "code",
   "execution_count": null,
   "id": "45",
   "metadata": {
    "papermill": {
     "duration": 0.123848,
     "end_time": "2025-03-15T07:02:24.260006",
     "exception": false,
     "start_time": "2025-03-15T07:02:24.136158",
     "status": "completed"
    },
    "tags": []
   },
   "outputs": [],
   "source": [
    "# Save notebook on disck before generating HTML report\n",
    "save_notebook()"
   ]
  },
  {
   "cell_type": "code",
   "execution_count": null,
   "id": "46",
   "metadata": {
    "papermill": {
     "duration": 2.324633,
     "end_time": "2025-03-15T07:02:26.801358",
     "exception": false,
     "start_time": "2025-03-15T07:02:24.476725",
     "status": "completed"
    },
    "tags": []
   },
   "outputs": [],
   "source": [
    "export_notebook(dirs.NOTEBOOKS.user / \"Bandai.ipynb\")"
   ]
  },
  {
   "cell_type": "markdown",
   "id": "47",
   "metadata": {
    "papermill": {
     "duration": 0.042021,
     "end_time": "2025-03-15T07:02:26.890733",
     "exception": false,
     "start_time": "2025-03-15T07:02:26.848712",
     "status": "completed"
    },
    "tags": [
     "exclude"
    ]
   },
   "source": [
    "## Git"
   ]
  },
  {
   "cell_type": "code",
   "execution_count": null,
   "id": "48",
   "metadata": {
    "papermill": {
     "duration": null,
     "end_time": null,
     "exception": false,
     "start_time": "2025-03-15T07:02:26.947628",
     "status": "running"
    },
    "tags": [
     "exclude"
    ]
   },
   "outputs": [],
   "source": [
    "git.commit(\"*[Bb]andai*\", f\"Bandai update - {timestamp.isoformat()}\")"
   ]
  }
 ],
 "metadata": {
  "kernelspec": {
   "display_name": "Python3 (YugiQuery)",
   "language": "python",
   "name": "yugiquery"
  },
  "language_info": {
   "codemirror_mode": {
    "name": "ipython",
    "version": 3
   },
   "file_extension": ".py",
   "mimetype": "text/x-python",
   "name": "python",
   "nbconvert_exporter": "python",
   "pygments_lexer": "ipython3",
   "version": "3.11.6"
  },
  "papermill": {
   "default_parameters": {},
   "duration": null,
   "end_time": null,
   "environment_variables": {},
   "exception": null,
   "input_path": "/home/jovyan/yugiquery/notebooks/Bandai.ipynb",
   "output_path": "/home/jovyan/yugiquery/notebooks/Bandai.ipynb",
   "parameters": {},
   "start_time": "2025-03-15T07:01:53.001818",
   "version": "2.6.0"
  }
 },
 "nbformat": 4,
 "nbformat_minor": 5
}
