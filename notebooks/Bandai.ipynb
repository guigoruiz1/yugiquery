{
 "cells": [
  {
   "cell_type": "code",
   "execution_count": null,
   "id": "0",
   "metadata": {
    "papermill": {
     "duration": 13.083938,
     "end_time": "2024-11-09T10:23:34.092372",
     "exception": false,
     "start_time": "2024-11-09T10:23:21.008434",
     "status": "completed"
    },
    "tags": []
   },
   "outputs": [],
   "source": [
    "from yugiquery import *\n",
    "\n",
    "init_notebook_mode(all_interactive=True)\n",
    "\n",
    "header(\"Bandai\")"
   ]
  },
  {
   "cell_type": "markdown",
   "id": "1",
   "metadata": {
    "papermill": {
     "duration": 0.108957,
     "end_time": "2024-11-09T10:23:34.231682",
     "exception": false,
     "start_time": "2024-11-09T10:23:34.122725",
     "status": "completed"
    },
    "tags": []
   },
   "source": [
    "---"
   ]
  },
  {
   "cell_type": "markdown",
   "id": "2",
   "metadata": {
    "papermill": {
     "duration": 0.057547,
     "end_time": "2024-11-09T10:23:34.554147",
     "exception": false,
     "start_time": "2024-11-09T10:23:34.496600",
     "status": "completed"
    },
    "tags": []
   },
   "source": [
    "Table of Contents <a class=\"jp-toc-ignore\"></a>\n",
    "=================\n",
    "* [1 Data aquisition](#data-aquisition)\n",
    "  * [1.1 Fetch online data](#fetch-online-data)\n",
    "* [2 Check changes](#check-changes)\n",
    "  * [2.1 Load previous data](#load-previous-data)\n",
    "  * [2.2 Generate changelog](#generate-changelog)\n",
    "  * [2.3 Save data](#save-data)\n",
    "* [3 Data visualization](#data-visualization)\n",
    "  * [3.1 Card type](#card-type)\n",
    "  * [3.2 ATK](#atk)\n",
    "  * [3.3 DEF](#def)\n",
    "  * [3.4 Level](#level)\n",
    "    * [3.4.1 ATK statistics](#atk-statistics)\n",
    "    * [3.4.2 DEF statistics](#def-statistics)\n",
    "  * [3.5 Monster type](#monster-type)\n",
    "  * [3.6 Set](#set)\n",
    "* [4 Epilogue](#epilogue)\n",
    "  * [4.1 HTML export](#html-export)\n",
    "  <!-- * [4.2 Git](#git) -->"
   ]
  },
  {
   "cell_type": "markdown",
   "id": "3",
   "metadata": {
    "papermill": {
     "duration": 0.030016,
     "end_time": "2024-11-09T10:23:34.709551",
     "exception": false,
     "start_time": "2024-11-09T10:23:34.679535",
     "status": "completed"
    },
    "tags": []
   },
   "source": [
    "# Data aquisition"
   ]
  },
  {
   "cell_type": "markdown",
   "id": "4",
   "metadata": {
    "jp-MarkdownHeadingCollapsed": true,
    "papermill": {
     "duration": 0.028913,
     "end_time": "2024-11-09T10:23:34.767350",
     "exception": false,
     "start_time": "2024-11-09T10:23:34.738437",
     "status": "completed"
    },
    "tags": []
   },
   "source": [
    "## Fetch online data"
   ]
  },
  {
   "cell_type": "code",
   "execution_count": null,
   "id": "5",
   "metadata": {
    "editable": true,
    "papermill": {
     "duration": 0.131639,
     "end_time": "2024-11-09T10:23:34.932406",
     "exception": false,
     "start_time": "2024-11-09T10:23:34.800767",
     "status": "completed"
    },
    "slideshow": {
     "slide_type": ""
    },
    "tags": []
   },
   "outputs": [],
   "source": [
    "timestamp = arrow.utcnow()"
   ]
  },
  {
   "cell_type": "code",
   "execution_count": null,
   "id": "6",
   "metadata": {
    "editable": true,
    "papermill": {
     "duration": 1.783575,
     "end_time": "2024-11-09T10:23:37.064823",
     "exception": false,
     "start_time": "2024-11-09T10:23:35.281248",
     "status": "completed"
    },
    "slideshow": {
     "slide_type": ""
    },
    "tags": []
   },
   "outputs": [],
   "source": [
    "bandai_df = fetch_bandai()"
   ]
  },
  {
   "cell_type": "markdown",
   "id": "7",
   "metadata": {
    "jp-MarkdownHeadingCollapsed": true,
    "papermill": {
     "duration": 0.221212,
     "end_time": "2024-11-09T10:23:37.331749",
     "exception": false,
     "start_time": "2024-11-09T10:23:37.110537",
     "status": "completed"
    },
    "tags": []
   },
   "source": [
    "# Check changes"
   ]
  },
  {
   "cell_type": "markdown",
   "id": "8",
   "metadata": {
    "papermill": {
     "duration": 0.178807,
     "end_time": "2024-11-09T10:23:37.716906",
     "exception": false,
     "start_time": "2024-11-09T10:23:37.538099",
     "status": "completed"
    },
    "tags": []
   },
   "source": [
    "## Load previous data"
   ]
  },
  {
   "cell_type": "code",
   "execution_count": null,
   "id": "9",
   "metadata": {
    "papermill": {
     "duration": 0.147974,
     "end_time": "2024-11-09T10:23:37.900342",
     "exception": false,
     "start_time": "2024-11-09T10:23:37.752368",
     "status": "completed"
    },
    "tags": []
   },
   "outputs": [],
   "source": [
    "# Get latest file if exist\n",
    "previous_df, previous_ts = load_latest_data(\"bandai\")\n",
    "\n",
    "if previous_df is not None:\n",
    "    previous_df = previous_df.astype(bandai_df[previous_df.columns.intersection(bandai_df.columns)].dtypes.to_dict())"
   ]
  },
  {
   "cell_type": "markdown",
   "id": "10",
   "metadata": {
    "papermill": {
     "duration": 0.057649,
     "end_time": "2024-11-09T10:23:37.986397",
     "exception": false,
     "start_time": "2024-11-09T10:23:37.928748",
     "status": "completed"
    },
    "tags": []
   },
   "source": [
    "## Generate changelog"
   ]
  },
  {
   "cell_type": "code",
   "execution_count": null,
   "id": "11",
   "metadata": {
    "papermill": {
     "duration": 0.07802,
     "end_time": "2024-11-09T10:23:38.104393",
     "exception": false,
     "start_time": "2024-11-09T10:23:38.026373",
     "status": "completed"
    },
    "tags": []
   },
   "outputs": [],
   "source": [
    "if previous_df is None:\n",
    "    changelog = None\n",
    "    print(\"Skipped\")\n",
    "else:\n",
    "    changelog = generate_changelog(previous_df, bandai_df, col=\"Name\")\n",
    "    if not changelog.empty:\n",
    "        display(changelog)\n",
    "        changelog.to_csv(\n",
    "            dirs.DATA / make_filename(report=\"bandai\", timestamp=timestamp, previous_timestamp=previous_ts),\n",
    "            index=True,\n",
    "        )\n",
    "        print(\"Changelog saved\")"
   ]
  },
  {
   "cell_type": "markdown",
   "id": "12",
   "metadata": {
    "papermill": {
     "duration": 0.028578,
     "end_time": "2024-11-09T10:23:38.163940",
     "exception": false,
     "start_time": "2024-11-09T10:23:38.135362",
     "status": "completed"
    },
    "tags": []
   },
   "source": [
    "## Save data"
   ]
  },
  {
   "cell_type": "code",
   "execution_count": null,
   "id": "13",
   "metadata": {
    "papermill": {
     "duration": 0.036501,
     "end_time": "2024-11-09T10:23:38.229043",
     "exception": false,
     "start_time": "2024-11-09T10:23:38.192542",
     "status": "completed"
    },
    "tags": []
   },
   "outputs": [],
   "source": [
    "if changelog is not None and changelog.empty:\n",
    "    print(\"No changes. New data not saved\")\n",
    "else:\n",
    "    bandai_df.to_csv(\n",
    "        dirs.DATA / make_filename(report=\"bandai\", timestamp=timestamp),\n",
    "        index=False,\n",
    "    )\n",
    "    print(\"Data saved\")"
   ]
  },
  {
   "cell_type": "markdown",
   "id": "14",
   "metadata": {
    "papermill": {
     "duration": 0.026373,
     "end_time": "2024-11-09T10:23:38.283143",
     "exception": false,
     "start_time": "2024-11-09T10:23:38.256770",
     "status": "completed"
    },
    "tags": []
   },
   "source": [
    "# Data visualization"
   ]
  },
  {
   "cell_type": "code",
   "execution_count": null,
   "id": "15",
   "metadata": {
    "papermill": {
     "duration": 0.125354,
     "end_time": "2024-11-09T10:23:38.435474",
     "exception": false,
     "start_time": "2024-11-09T10:23:38.310120",
     "status": "completed"
    },
    "tags": []
   },
   "outputs": [],
   "source": [
    "bandai_df"
   ]
  },
  {
   "cell_type": "markdown",
   "id": "16",
   "metadata": {
    "jp-MarkdownHeadingCollapsed": true,
    "papermill": {
     "duration": 0.027991,
     "end_time": "2024-11-09T10:23:38.494084",
     "exception": false,
     "start_time": "2024-11-09T10:23:38.466093",
     "status": "completed"
    },
    "tags": []
   },
   "source": [
    "## Card type"
   ]
  },
  {
   "cell_type": "code",
   "execution_count": null,
   "id": "17",
   "metadata": {
    "papermill": {
     "duration": 0.040945,
     "end_time": "2024-11-09T10:23:38.564195",
     "exception": false,
     "start_time": "2024-11-09T10:23:38.523250",
     "status": "completed"
    },
    "tags": []
   },
   "outputs": [],
   "source": [
    "print(\"Total number of card types:\", bandai_df[\"Card type\"].nunique())"
   ]
  },
  {
   "cell_type": "code",
   "execution_count": null,
   "id": "18",
   "metadata": {
    "papermill": {
     "duration": 0.477373,
     "end_time": "2024-11-09T10:23:39.074075",
     "exception": false,
     "start_time": "2024-11-09T10:23:38.596702",
     "status": "completed"
    },
    "tags": []
   },
   "outputs": [],
   "source": [
    "card_type_colors = [plot.colors_dict[i] for i in bandai_df[\"Card type\"].value_counts().index]\n",
    "bandai_df[\"Card type\"].value_counts().plot.bar(figsize=(14, 6), rot=0, color=card_type_colors)\n",
    "plt.show()"
   ]
  },
  {
   "cell_type": "markdown",
   "id": "19",
   "metadata": {
    "jp-MarkdownHeadingCollapsed": true,
    "papermill": {
     "duration": 0.051555,
     "end_time": "2024-11-09T10:23:39.167109",
     "exception": false,
     "start_time": "2024-11-09T10:23:39.115554",
     "status": "completed"
    },
    "tags": []
   },
   "source": [
    "## ATK"
   ]
  },
  {
   "cell_type": "code",
   "execution_count": null,
   "id": "20",
   "metadata": {
    "papermill": {
     "duration": 0.065884,
     "end_time": "2024-11-09T10:23:39.266403",
     "exception": false,
     "start_time": "2024-11-09T10:23:39.200519",
     "status": "completed"
    },
    "tags": []
   },
   "outputs": [],
   "source": [
    "print(\"Total number of ATK values:\", bandai_df[\"ATK\"].nunique())"
   ]
  },
  {
   "cell_type": "code",
   "execution_count": null,
   "id": "21",
   "metadata": {
    "papermill": {
     "duration": 0.074918,
     "end_time": "2024-11-09T10:23:39.374911",
     "exception": false,
     "start_time": "2024-11-09T10:23:39.299993",
     "status": "completed"
    },
    "tags": []
   },
   "outputs": [],
   "source": [
    "bandai_df.drop(columns=[\"Card type\", \"Page name\", \"Page URL\"]).groupby(\"ATK\").nunique().sort_index(\n",
    "    key=lambda x: pd.to_numeric(x, errors=\"coerce\")\n",
    ")"
   ]
  },
  {
   "cell_type": "code",
   "execution_count": null,
   "id": "22",
   "metadata": {
    "papermill": {
     "duration": 0.323435,
     "end_time": "2024-11-09T10:23:39.761576",
     "exception": false,
     "start_time": "2024-11-09T10:23:39.438141",
     "status": "completed"
    },
    "tags": []
   },
   "outputs": [],
   "source": [
    "atk_colors = plot.colors_dict[\"Monster Card\"]\n",
    "bandai_df[\"ATK\"].value_counts().sort_index(key=lambda x: pd.to_numeric(x, errors=\"coerce\")).plot.bar(\n",
    "    figsize=(18, 6), color=atk_colors\n",
    ")\n",
    "plt.show()"
   ]
  },
  {
   "cell_type": "markdown",
   "id": "23",
   "metadata": {
    "jp-MarkdownHeadingCollapsed": true,
    "papermill": {
     "duration": 0.035982,
     "end_time": "2024-11-09T10:23:39.838025",
     "exception": false,
     "start_time": "2024-11-09T10:23:39.802043",
     "status": "completed"
    },
    "tags": []
   },
   "source": [
    "## DEF"
   ]
  },
  {
   "cell_type": "code",
   "execution_count": null,
   "id": "24",
   "metadata": {
    "papermill": {
     "duration": 0.050479,
     "end_time": "2024-11-09T10:23:39.939625",
     "exception": false,
     "start_time": "2024-11-09T10:23:39.889146",
     "status": "completed"
    },
    "tags": []
   },
   "outputs": [],
   "source": [
    "print(\"Total number of DEF values:\", bandai_df[\"DEF\"].nunique())"
   ]
  },
  {
   "cell_type": "code",
   "execution_count": null,
   "id": "25",
   "metadata": {
    "papermill": {
     "duration": 0.065039,
     "end_time": "2024-11-09T10:23:40.042012",
     "exception": false,
     "start_time": "2024-11-09T10:23:39.976973",
     "status": "completed"
    },
    "tags": []
   },
   "outputs": [],
   "source": [
    "bandai_df.drop(columns=[\"Card type\", \"Page name\", \"Page URL\"]).groupby(\"DEF\").nunique().sort_index(\n",
    "    key=lambda x: pd.to_numeric(x, errors=\"coerce\")\n",
    ")"
   ]
  },
  {
   "cell_type": "code",
   "execution_count": null,
   "id": "26",
   "metadata": {
    "papermill": {
     "duration": 0.366019,
     "end_time": "2024-11-09T10:23:40.444369",
     "exception": false,
     "start_time": "2024-11-09T10:23:40.078350",
     "status": "completed"
    },
    "tags": []
   },
   "outputs": [],
   "source": [
    "def_colors = plot.colors_dict[\"Monster Card\"]\n",
    "bandai_df[\"DEF\"].value_counts().sort_index(key=lambda x: pd.to_numeric(x, errors=\"coerce\")).plot.bar(\n",
    "    figsize=(18, 6), color=def_colors\n",
    ")\n",
    "plt.show()"
   ]
  },
  {
   "cell_type": "markdown",
   "id": "27",
   "metadata": {
    "jp-MarkdownHeadingCollapsed": true,
    "papermill": {
     "duration": 0.095124,
     "end_time": "2024-11-09T10:23:40.581508",
     "exception": false,
     "start_time": "2024-11-09T10:23:40.486384",
     "status": "completed"
    },
    "tags": []
   },
   "source": [
    "## Level"
   ]
  },
  {
   "cell_type": "code",
   "execution_count": null,
   "id": "28",
   "metadata": {
    "papermill": {
     "duration": 0.088791,
     "end_time": "2024-11-09T10:23:40.931180",
     "exception": false,
     "start_time": "2024-11-09T10:23:40.842389",
     "status": "completed"
    },
    "tags": []
   },
   "outputs": [],
   "source": [
    "bandai_df.drop(columns=[\"Card type\", \"Page name\", \"Page URL\"]).groupby(\"Level\").nunique().sort_index(\n",
    "    key=lambda x: pd.to_numeric(x, errors=\"coerce\")\n",
    ")"
   ]
  },
  {
   "cell_type": "code",
   "execution_count": null,
   "id": "29",
   "metadata": {
    "papermill": {
     "duration": 0.194169,
     "end_time": "2024-11-09T10:23:41.161732",
     "exception": false,
     "start_time": "2024-11-09T10:23:40.967563",
     "status": "completed"
    },
    "tags": []
   },
   "outputs": [],
   "source": [
    "level_colors = plot.colors_dict[\"Level\"]\n",
    "bandai_df[\"Level\"].value_counts().sort_index(key=lambda x: pd.to_numeric(x, errors=\"coerce\")).plot.bar(\n",
    "    figsize=(16, 6), rot=0, color=level_colors\n",
    ")\n",
    "plt.show()"
   ]
  },
  {
   "cell_type": "markdown",
   "id": "30",
   "metadata": {
    "papermill": {
     "duration": 0.035524,
     "end_time": "2024-11-09T10:23:41.235497",
     "exception": false,
     "start_time": "2024-11-09T10:23:41.199973",
     "status": "completed"
    },
    "tags": []
   },
   "source": [
    "### ATK statistics"
   ]
  },
  {
   "cell_type": "code",
   "execution_count": null,
   "id": "31",
   "metadata": {
    "papermill": {
     "duration": 0.14367,
     "end_time": "2024-11-09T10:23:41.419749",
     "exception": false,
     "start_time": "2024-11-09T10:23:41.276079",
     "status": "completed"
    },
    "tags": []
   },
   "outputs": [],
   "source": [
    "bandai_df[[\"Level\", \"ATK\"]].apply(pd.to_numeric, errors=\"coerce\").dropna().astype(int).groupby(\"Level\").describe().round(1)"
   ]
  },
  {
   "cell_type": "markdown",
   "id": "32",
   "metadata": {
    "papermill": {
     "duration": 0.042907,
     "end_time": "2024-11-09T10:23:41.527456",
     "exception": false,
     "start_time": "2024-11-09T10:23:41.484549",
     "status": "completed"
    },
    "tags": []
   },
   "source": [
    "### DEF statistics"
   ]
  },
  {
   "cell_type": "code",
   "execution_count": null,
   "id": "33",
   "metadata": {
    "papermill": {
     "duration": 0.105033,
     "end_time": "2024-11-09T10:23:41.682582",
     "exception": false,
     "start_time": "2024-11-09T10:23:41.577549",
     "status": "completed"
    },
    "tags": []
   },
   "outputs": [],
   "source": [
    "bandai_df[[\"Level\", \"DEF\"]].apply(pd.to_numeric, errors=\"coerce\").dropna().astype(int).groupby(\"Level\").describe().round(1)"
   ]
  },
  {
   "cell_type": "markdown",
   "id": "34",
   "metadata": {
    "papermill": {
     "duration": 0.038302,
     "end_time": "2024-11-09T10:23:41.761772",
     "exception": false,
     "start_time": "2024-11-09T10:23:41.723470",
     "status": "completed"
    },
    "tags": []
   },
   "source": [
    "## Monster type"
   ]
  },
  {
   "cell_type": "code",
   "execution_count": null,
   "id": "35",
   "metadata": {
    "papermill": {
     "duration": 0.048337,
     "end_time": "2024-11-09T10:23:41.847955",
     "exception": false,
     "start_time": "2024-11-09T10:23:41.799618",
     "status": "completed"
    },
    "tags": []
   },
   "outputs": [],
   "source": [
    "print(\"Total number of monster types:\", bandai_df[\"Monster type\"].nunique())"
   ]
  },
  {
   "cell_type": "code",
   "execution_count": null,
   "id": "36",
   "metadata": {
    "papermill": {
     "duration": 0.069267,
     "end_time": "2024-11-09T10:23:41.955599",
     "exception": false,
     "start_time": "2024-11-09T10:23:41.886332",
     "status": "completed"
    },
    "tags": []
   },
   "outputs": [],
   "source": [
    "bandai_df.drop(columns=[\"Card type\", \"Page name\", \"Page URL\"]).groupby(\"Monster type\").nunique()"
   ]
  },
  {
   "cell_type": "code",
   "execution_count": null,
   "id": "37",
   "metadata": {
    "papermill": {
     "duration": 0.262507,
     "end_time": "2024-11-09T10:23:42.257928",
     "exception": false,
     "start_time": "2024-11-09T10:23:41.995421",
     "status": "completed"
    },
    "tags": []
   },
   "outputs": [],
   "source": [
    "monster_type_colors = plot.colors_dict[\"Monster Card\"]\n",
    "bandai_df[\"Monster type\"].value_counts().plot.bar(figsize=(16, 6), rot=45, color=monster_type_colors)\n",
    "plt.show()"
   ]
  },
  {
   "cell_type": "markdown",
   "id": "38",
   "metadata": {
    "papermill": {
     "duration": 0.092437,
     "end_time": "2024-11-09T10:23:42.391060",
     "exception": false,
     "start_time": "2024-11-09T10:23:42.298623",
     "status": "completed"
    },
    "tags": []
   },
   "source": [
    "## Set"
   ]
  },
  {
   "cell_type": "code",
   "execution_count": null,
   "id": "39",
   "metadata": {
    "papermill": {
     "duration": 0.279134,
     "end_time": "2024-11-09T10:23:42.779870",
     "exception": false,
     "start_time": "2024-11-09T10:23:42.500736",
     "status": "completed"
    },
    "tags": []
   },
   "outputs": [],
   "source": [
    "print(\"Total number of sets:\", bandai_df[\"Set\"].nunique())"
   ]
  },
  {
   "cell_type": "code",
   "execution_count": null,
   "id": "40",
   "metadata": {
    "papermill": {
     "duration": 0.083451,
     "end_time": "2024-11-09T10:23:42.919110",
     "exception": false,
     "start_time": "2024-11-09T10:23:42.835659",
     "status": "completed"
    },
    "tags": []
   },
   "outputs": [],
   "source": [
    "bandai_df.drop(columns=[\"Page name\", \"Page URL\"]).groupby(\"Set\").nunique()"
   ]
  },
  {
   "cell_type": "markdown",
   "id": "41",
   "metadata": {
    "papermill": {
     "duration": 0.102957,
     "end_time": "2024-11-09T10:23:43.096889",
     "exception": false,
     "start_time": "2024-11-09T10:23:42.993932",
     "status": "completed"
    },
    "tags": []
   },
   "source": [
    "# Epilogue"
   ]
  },
  {
   "cell_type": "code",
   "execution_count": null,
   "id": "42",
   "metadata": {
    "papermill": {
     "duration": 4.001776,
     "end_time": "2024-11-09T10:23:47.190889",
     "exception": false,
     "start_time": "2024-11-09T10:23:43.189113",
     "status": "completed"
    },
    "tags": []
   },
   "outputs": [],
   "source": [
    "benchmark(report=\"bandai\", timestamp=timestamp)"
   ]
  },
  {
   "cell_type": "code",
   "execution_count": null,
   "id": "43",
   "metadata": {
    "papermill": {
     "duration": 0.075503,
     "end_time": "2024-11-09T10:23:47.310883",
     "exception": false,
     "start_time": "2024-11-09T10:23:47.235380",
     "status": "completed"
    },
    "tags": []
   },
   "outputs": [],
   "source": [
    "footer()"
   ]
  },
  {
   "cell_type": "markdown",
   "id": "44",
   "metadata": {
    "papermill": {
     "duration": 0.106258,
     "end_time": "2024-11-09T10:23:47.459586",
     "exception": false,
     "start_time": "2024-11-09T10:23:47.353328",
     "status": "completed"
    },
    "tags": []
   },
   "source": [
    "## HTML export"
   ]
  },
  {
   "cell_type": "code",
   "execution_count": null,
   "id": "45",
   "metadata": {
    "papermill": {
     "duration": 0.052134,
     "end_time": "2024-11-09T10:23:47.842810",
     "exception": false,
     "start_time": "2024-11-09T10:23:47.790676",
     "status": "completed"
    },
    "tags": []
   },
   "outputs": [],
   "source": [
    "# Save notebook on disck before generating HTML report\n",
    "save_notebook()"
   ]
  },
  {
   "cell_type": "code",
   "execution_count": null,
   "id": "46",
   "metadata": {
    "papermill": {
     "duration": 1.436343,
     "end_time": "2024-11-09T10:23:49.320624",
     "exception": false,
     "start_time": "2024-11-09T10:23:47.884281",
     "status": "completed"
    },
    "tags": []
   },
   "outputs": [],
   "source": [
    "export_notebook(dirs.NOTEBOOKS.user / \"Bandai.ipynb\")"
   ]
  },
  {
   "cell_type": "markdown",
   "id": "47",
   "metadata": {
    "papermill": {
     "duration": 0.070745,
     "end_time": "2024-11-09T10:23:49.447261",
     "exception": false,
     "start_time": "2024-11-09T10:23:49.376516",
     "status": "completed"
    },
    "tags": [
     "exclude"
    ]
   },
   "source": [
    "## Git"
   ]
  },
  {
   "cell_type": "code",
   "execution_count": null,
   "id": "48",
   "metadata": {
    "papermill": {
     "duration": 1.218658,
     "end_time": "2024-11-09T10:23:50.714435",
     "exception": false,
     "start_time": "2024-11-09T10:23:49.495777",
     "status": "completed"
    },
    "tags": [
     "exclude"
    ]
   },
   "outputs": [],
   "source": [
    "git.commit(\"*[Bb]andai*\", f\"Bandai update - {timestamp.isoformat()}\")"
   ]
  }
 ],
 "metadata": {
  "kernelspec": {
   "display_name": "Python3 (YugiQuery)",
   "language": "python",
   "name": "yugiquery"
  },
  "language_info": {
   "codemirror_mode": {
    "name": "ipython",
    "version": 3
   },
   "file_extension": ".py",
   "mimetype": "text/x-python",
   "name": "python",
   "nbconvert_exporter": "python",
   "pygments_lexer": "ipython3",
   "version": "3.11.6"
  },
  "papermill": {
   "default_parameters": {},
   "duration": 42.842053,
   "end_time": "2024-11-09T10:23:52.088951",
   "environment_variables": {},
   "exception": null,
   "input_path": "/home/jovyan/yugiquery/notebooks/Bandai.ipynb",
   "output_path": "/home/jovyan/yugiquery/notebooks/Bandai.ipynb",
   "parameters": {},
   "start_time": "2024-11-09T10:23:09.246898",
   "version": "2.6.0"
  }
 },
 "nbformat": 4,
 "nbformat_minor": 5
}
