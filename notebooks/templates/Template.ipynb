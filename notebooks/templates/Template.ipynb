{
 "cells": [
  {
   "cell_type": "code",
   "execution_count": null,
   "id": "0",
   "metadata": {
    "papermill": {
     "duration": 2.114388,
     "end_time": "2023-02-22T22:24:17.995164",
     "exception": false,
     "start_time": "2023-02-22T22:24:15.880776",
     "status": "completed"
    },
    "tags": []
   },
   "outputs": [],
   "source": [
    "from yugiquery import *\n",
    "\n",
    "init_notebook_mode(all_interactive=True)\n",
    "\n",
    "header(\"Template\")"
   ]
  },
  {
   "cell_type": "markdown",
   "id": "1",
   "metadata": {
    "papermill": {
     "duration": 0.063612,
     "end_time": "2023-02-22T22:24:18.102172",
     "exception": false,
     "start_time": "2023-02-22T22:24:18.038560",
     "status": "completed"
    },
    "tags": []
   },
   "source": [
    "---"
   ]
  },
  {
   "cell_type": "markdown",
   "id": "2",
   "metadata": {
    "papermill": {
     "duration": 0.041131,
     "end_time": "2023-02-22T22:24:18.189667",
     "exception": false,
     "start_time": "2023-02-22T22:24:18.148536",
     "status": "completed"
    },
    "tags": [],
    "toc": true
   },
   "source": [
    "Table of Contents <a class=\"jp-toc-ignore\"></a>\n",
    "=================\n",
    "\n",
    "*   [1  Data aquisition](#Data-aquisition)\n",
    "    *   [1.1  Fetch online data](#Fetch-online-data)\n",
    "*   [2  Check changes](#Check-changes)\n",
    "    *   [2.1  Load previous data](#Load-previous-data)\n",
    "    *   [2.2  Generate changelog](#Generate-changelog)\n",
    "    *   [2.3  Save data](#Save-data)\n",
    "*   [3  Data visualization](#Data-visualization)\n",
    "    *   [3.1  Full data](#Full-data)\n",
    "    *   [3.2  Your column](#Your-column)\n",
    "*   [4  Epilogue](#Epilogue)\n",
    "    *   [4.1  HTML export](#HTML-export)\n",
    "<!-- *   [4.2  Git](#Git) -->"
   ]
  },
  {
   "cell_type": "markdown",
   "id": "3",
   "metadata": {
    "papermill": {
     "duration": 0.040783,
     "end_time": "2023-02-22T22:24:18.272311",
     "exception": false,
     "start_time": "2023-02-22T22:24:18.231528",
     "status": "completed"
    },
    "tags": []
   },
   "source": [
    "# Data aquisition"
   ]
  },
  {
   "cell_type": "markdown",
   "id": "4",
   "metadata": {
    "papermill": {
     "duration": 0.041502,
     "end_time": "2023-02-22T22:24:18.354961",
     "exception": false,
     "start_time": "2023-02-22T22:24:18.313459",
     "status": "completed"
    },
    "tags": []
   },
   "source": [
    "## Fetch online data"
   ]
  },
  {
   "cell_type": "code",
   "execution_count": null,
   "id": "5",
   "metadata": {
    "papermill": {
     "duration": 0.051187,
     "end_time": "2023-02-22T22:24:18.447381",
     "exception": false,
     "start_time": "2023-02-22T22:24:18.396194",
     "status": "completed"
    },
    "tags": []
   },
   "outputs": [],
   "source": [
    "# Timestamp\n",
    "timestamp = arrow.utcnow()"
   ]
  },
  {
   "cell_type": "code",
   "execution_count": null,
   "id": "6",
   "metadata": {
    "papermill": {
     "duration": 84.538069,
     "end_time": "2023-02-22T22:25:43.027320",
     "exception": false,
     "start_time": "2023-02-22T22:24:18.489251",
     "status": "completed"
    },
    "tags": []
   },
   "outputs": [],
   "source": [
    "# Fetch Monster\n",
    "your_df = fetch_your_data()"
   ]
  },
  {
   "cell_type": "markdown",
   "id": "7",
   "metadata": {
    "papermill": {
     "duration": 0.066959,
     "end_time": "2023-02-22T22:26:28.492052",
     "exception": false,
     "start_time": "2023-02-22T22:26:28.425093",
     "status": "completed"
    },
    "tags": []
   },
   "source": [
    "# Check changes"
   ]
  },
  {
   "cell_type": "markdown",
   "id": "8",
   "metadata": {
    "papermill": {
     "duration": 0.045648,
     "end_time": "2023-02-22T22:26:28.584087",
     "exception": false,
     "start_time": "2023-02-22T22:26:28.538439",
     "status": "completed"
    },
    "tags": []
   },
   "source": [
    "## Load previous data"
   ]
  },
  {
   "cell_type": "code",
   "execution_count": null,
   "id": "9",
   "metadata": {
    "papermill": {
     "duration": 0.66308,
     "end_time": "2023-02-22T22:26:29.293911",
     "exception": false,
     "start_time": "2023-02-22T22:26:28.630831",
     "status": "completed"
    },
    "tags": []
   },
   "outputs": [],
   "source": [
    "# Get latest file if exist\n",
    "previous_df, previous_ts = load_corrected_latest(\"your_data\")\n",
    "\n",
    "if previous_df is not None:\n",
    "    previous_df = previous_df.astype(your_df[previous_df.columns.intersection(your_df.columns)].dtypes.to_dict())\n",
    "    print(\"File loaded\")\n",
    "else:\n",
    "    print(\"No older files\")"
   ]
  },
  {
   "cell_type": "markdown",
   "id": "10",
   "metadata": {
    "papermill": {
     "duration": 0.067311,
     "end_time": "2023-02-22T22:26:29.405020",
     "exception": false,
     "start_time": "2023-02-22T22:26:29.337709",
     "status": "completed"
    },
    "tags": []
   },
   "source": [
    "## Generate changelog"
   ]
  },
  {
   "cell_type": "code",
   "execution_count": null,
   "id": "11",
   "metadata": {
    "papermill": {
     "duration": 0.393628,
     "end_time": "2023-02-22T22:26:29.843153",
     "exception": false,
     "start_time": "2023-02-22T22:26:29.449525",
     "status": "completed"
    },
    "tags": []
   },
   "outputs": [],
   "source": [
    "if previous_df is None:\n",
    "    changelog = None\n",
    "    print(\"Skipped\")\n",
    "else:\n",
    "    changelog = generate_changelog(previous_df, your_df, col=\"Key_column\")\n",
    "    if not changelog.empty:\n",
    "        display(changelog)\n",
    "        changelog.to_csv(\n",
    "            dirs.DATA\n",
    "            / make_filename(\n",
    "                report=\"template\",\n",
    "                timestamp=timestamp,\n",
    "                previous_timestamp=previous_ts,\n",
    "            ),\n",
    "            index=True,\n",
    "        )\n",
    "        print(\"Changelog saved\")"
   ]
  },
  {
   "cell_type": "markdown",
   "id": "12",
   "metadata": {
    "papermill": {
     "duration": 0.142508,
     "end_time": "2023-02-22T22:26:30.031104",
     "exception": false,
     "start_time": "2023-02-22T22:26:29.888596",
     "status": "completed"
    },
    "tags": []
   },
   "source": [
    "## Save data"
   ]
  },
  {
   "cell_type": "code",
   "execution_count": null,
   "id": "13",
   "metadata": {
    "papermill": {
     "duration": 0.331666,
     "end_time": "2023-02-22T22:26:30.407431",
     "exception": false,
     "start_time": "2023-02-22T22:26:30.075765",
     "status": "completed"
    },
    "tags": []
   },
   "outputs": [],
   "source": [
    "if changelog is not None and changelog.empty:\n",
    "    print(\"No changes. New data not saved\")\n",
    "else:\n",
    "    full_df.to_csv(\n",
    "        dirs.DATA / make_filename(report=\"template\", timestamp=timestamp),\n",
    "        index=False,\n",
    "    )\n",
    "    print(\"Data saved\")"
   ]
  },
  {
   "cell_type": "markdown",
   "id": "14",
   "metadata": {
    "papermill": {
     "duration": 0.089761,
     "end_time": "2023-02-22T22:26:30.542746",
     "exception": false,
     "start_time": "2023-02-22T22:26:30.452985",
     "status": "completed"
    },
    "tags": []
   },
   "source": [
    "# Data visualization"
   ]
  },
  {
   "cell_type": "markdown",
   "id": "15",
   "metadata": {
    "papermill": {
     "duration": 0.044781,
     "end_time": "2023-02-22T22:26:30.633464",
     "exception": false,
     "start_time": "2023-02-22T22:26:30.588683",
     "status": "completed"
    },
    "tags": []
   },
   "source": [
    "## Full data"
   ]
  },
  {
   "cell_type": "code",
   "execution_count": null,
   "id": "16",
   "metadata": {
    "papermill": {
     "duration": 0.091385,
     "end_time": "2023-02-22T22:26:30.769693",
     "exception": false,
     "start_time": "2023-02-22T22:26:30.678308",
     "status": "completed"
    },
    "tags": []
   },
   "outputs": [],
   "source": [
    "your_df"
   ]
  },
  {
   "cell_type": "markdown",
   "id": "17",
   "metadata": {
    "papermill": {
     "duration": 0.046734,
     "end_time": "2023-02-22T22:26:30.862629",
     "exception": false,
     "start_time": "2023-02-22T22:26:30.815895",
     "status": "completed"
    },
    "tags": []
   },
   "source": [
    "Full data available to download [here](plot.colors_dictdata)"
   ]
  },
  {
   "cell_type": "markdown",
   "id": "18",
   "metadata": {
    "papermill": {
     "duration": 0.045869,
     "end_time": "2023-02-22T22:26:30.953962",
     "exception": false,
     "start_time": "2023-02-22T22:26:30.908093",
     "status": "completed"
    },
    "tags": []
   },
   "source": [
    "## Your column"
   ]
  },
  {
   "cell_type": "code",
   "execution_count": null,
   "id": "19",
   "metadata": {
    "papermill": {
     "duration": 0.06536,
     "end_time": "2023-02-22T22:26:31.065344",
     "exception": false,
     "start_time": "2023-02-22T22:26:30.999984",
     "status": "completed"
    },
    "tags": []
   },
   "outputs": [],
   "source": [
    "print(\"Total number of Your_column:\", your_df[\"Your_column\"].nunique())"
   ]
  },
  {
   "cell_type": "code",
   "execution_count": null,
   "id": "20",
   "metadata": {},
   "outputs": [],
   "source": [
    "your_df.drop(columns=[\"unnecessary_columns\"]).groupby(\"Your_column\").nunique()"
   ]
  },
  {
   "cell_type": "code",
   "execution_count": null,
   "id": "21",
   "metadata": {
    "papermill": {
     "duration": 0.354006,
     "end_time": "2023-02-22T22:26:31.466241",
     "exception": false,
     "start_time": "2023-02-22T22:26:31.112235",
     "status": "completed"
    },
    "tags": []
   },
   "outputs": [],
   "source": [
    "your_colors = [plot.colors_dict[i] for i in your_df[\"Your_column\"].value_counts().index]\n",
    "your_df[\"Your_column\"].value_counts().plot.bar(\n",
    "    figsize=(18, 6), grid=True, rot=0, color=card_type_colors, title=\"Your_column\"\n",
    ")\n",
    "plt.show()"
   ]
  },
  {
   "cell_type": "code",
   "execution_count": null,
   "id": "22",
   "metadata": {
    "papermill": {
     "duration": 0.129811,
     "end_time": "2023-02-22T22:26:34.628176",
     "exception": false,
     "start_time": "2023-02-22T22:26:34.498365",
     "status": "completed"
    },
    "tags": []
   },
   "outputs": [],
   "source": [
    "your_crosstab = pd.crosstab(your_df[\"Your_column\"], your_df[\"Other_column\"])\n",
    "your_crosstab"
   ]
  },
  {
   "cell_type": "code",
   "execution_count": null,
   "id": "23",
   "metadata": {
    "papermill": {
     "duration": 0.869788,
     "end_time": "2023-02-22T22:26:35.556501",
     "exception": false,
     "start_time": "2023-02-22T22:26:34.686713",
     "status": "completed"
    },
    "tags": []
   },
   "outputs": [],
   "source": [
    "plt.figure(figsize=(16, 10))\n",
    "sns.heatmap(your_crosstab, annot=True, fmt=\"g\", cmap=\"viridis\", square=True)\n",
    "plt.show()"
   ]
  },
  {
   "cell_type": "code",
   "execution_count": null,
   "id": "24",
   "metadata": {
    "papermill": {
     "duration": 0.507266,
     "end_time": "2023-02-22T22:27:01.954442",
     "exception": false,
     "start_time": "2023-02-22T22:27:01.447176",
     "status": "completed"
    },
    "tags": []
   },
   "outputs": [],
   "source": [
    "st_diff_colors = {\n",
    "    \"Spell Card\": plot.colors_dict[\"Spell Card\"],\n",
    "    \"Trap Card\": plot.colors_dict[\"Trap Card\"],\n",
    "}\n",
    "st_diff.plot.bar(figsize=(18, 6), stacked=True, grid=True, rot=45, color=st_diff_colors)\n",
    "plt.show()"
   ]
  },
  {
   "cell_type": "markdown",
   "id": "25",
   "metadata": {
    "papermill": {
     "duration": 0.150264,
     "end_time": "2023-02-22T22:27:41.665707",
     "exception": false,
     "start_time": "2023-02-22T22:27:41.515443",
     "status": "completed"
    },
    "tags": []
   },
   "source": [
    "# Epilogue"
   ]
  },
  {
   "cell_type": "code",
   "execution_count": null,
   "id": "26",
   "metadata": {
    "papermill": {
     "duration": 0.165205,
     "end_time": "2023-02-22T22:27:41.981675",
     "exception": false,
     "start_time": "2023-02-22T22:27:41.816470",
     "status": "completed"
    },
    "tags": []
   },
   "outputs": [],
   "source": [
    "# benchmark(report='Template',timestamp=timestamp)"
   ]
  },
  {
   "cell_type": "code",
   "execution_count": null,
   "id": "27",
   "metadata": {
    "papermill": {
     "duration": 0.17123,
     "end_time": "2023-02-22T22:27:42.303245",
     "exception": false,
     "start_time": "2023-02-22T22:27:42.132015",
     "status": "completed"
    },
    "tags": []
   },
   "outputs": [],
   "source": [
    "footer(timestamp)"
   ]
  },
  {
   "cell_type": "markdown",
   "id": "28",
   "metadata": {
    "papermill": {
     "duration": 0.161301,
     "end_time": "2023-02-22T22:27:42.621788",
     "exception": false,
     "start_time": "2023-02-22T22:27:42.460487",
     "status": "completed"
    },
    "tags": []
   },
   "source": [
    "## HTML export"
   ]
  },
  {
   "cell_type": "code",
   "execution_count": null,
   "id": "29",
   "metadata": {
    "papermill": {
     "duration": 0.166335,
     "end_time": "2023-02-22T22:27:42.941056",
     "exception": false,
     "start_time": "2023-02-22T22:27:42.774721",
     "status": "completed"
    },
    "tags": []
   },
   "outputs": [],
   "source": [
    "# Save notebook on disck before generating HTML report\n",
    "save_notebook()"
   ]
  },
  {
   "cell_type": "code",
   "execution_count": null,
   "id": "30",
   "metadata": {
    "papermill": {
     "duration": 3.911313,
     "end_time": "2023-02-22T22:27:47.005324",
     "exception": false,
     "start_time": "2023-02-22T22:27:43.094011",
     "status": "completed"
    },
    "tags": []
   },
   "outputs": [],
   "source": [
    "export_notebook(dirs.NOTEBOOKS.user / \"Template.ipynb\")"
   ]
  },
  {
   "cell_type": "markdown",
   "id": "31",
   "metadata": {
    "papermill": {
     "duration": 0.172809,
     "end_time": "2023-02-22T22:27:47.330627",
     "exception": false,
     "start_time": "2023-02-22T22:27:47.157818",
     "status": "completed"
    },
    "tags": [
     "exclude"
    ]
   },
   "source": [
    "## Git"
   ]
  },
  {
   "cell_type": "code",
   "execution_count": null,
   "id": "32",
   "metadata": {},
   "outputs": [],
   "source": [
    "# git.commit(\"*[Tt]emplate\", f\"Your update - {timestamp.isoformat()}\")"
   ]
  }
 ],
 "metadata": {
  "kernelspec": {
   "display_name": "Python 3 (ipykernel)",
   "language": "python",
   "name": "python3"
  },
  "language_info": {
   "codemirror_mode": {
    "name": "ipython",
    "version": 3
   },
   "file_extension": ".py",
   "mimetype": "text/x-python",
   "name": "python",
   "nbconvert_exporter": "python",
   "pygments_lexer": "ipython3",
   "version": "3.12.6"
  },
  "papermill": {
   "default_parameters": {},
   "duration": 216.133721,
   "end_time": "2023-02-22T22:27:50.787255",
   "environment_variables": {},
   "exception": null,
   "input_path": "Cards.ipynb",
   "output_path": "Cards.ipynb",
   "parameters": {},
   "start_time": "2023-02-22T22:24:14.653534",
   "version": "2.4.0"
  },
  "toc": {
   "base_numbering": 1,
   "nav_menu": {
    "height": "599px",
    "width": "228px"
   },
   "number_sections": true,
   "sideBar": true,
   "skip_h1_title": false,
   "title_cell": "Table of Contents",
   "title_sidebar": "Contents",
   "toc_cell": true,
   "toc_position": {
    "height": "calc(100% - 180px)",
    "left": "10px",
    "top": "150px",
    "width": "353px"
   },
   "toc_section_display": true,
   "toc_window_display": true
  },
  "toc-autonumbering": false,
  "toc-showcode": false,
  "toc-showmarkdowntxt": false
 },
 "nbformat": 4,
 "nbformat_minor": 5
}
