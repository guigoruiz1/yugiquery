{
 "cells": [
  {
   "cell_type": "code",
   "execution_count": null,
   "id": "0",
   "metadata": {
    "papermill": {
     "duration": 1.809524,
     "end_time": "2024-09-08T19:38:47.661982",
     "exception": false,
     "start_time": "2024-09-08T19:38:45.852458",
     "status": "completed"
    },
    "tags": []
   },
   "outputs": [],
   "source": [
    "from yugiquery import *\n",
    "\n",
    "header(\"Debug\")"
   ]
  },
  {
   "cell_type": "code",
   "execution_count": null,
   "id": "1",
   "metadata": {},
   "outputs": [],
   "source": [
    "%whos"
   ]
  },
  {
   "cell_type": "markdown",
   "id": "2",
   "metadata": {
    "papermill": {
     "duration": 0.003039,
     "end_time": "2024-09-08T19:38:47.668633",
     "exception": false,
     "start_time": "2024-09-08T19:38:47.665594",
     "status": "completed"
    },
    "tags": []
   },
   "source": [
    "# Directories"
   ]
  },
  {
   "cell_type": "code",
   "execution_count": null,
   "id": "3",
   "metadata": {
    "papermill": {
     "duration": 0.021309,
     "end_time": "2024-09-08T19:38:47.692766",
     "exception": false,
     "start_time": "2024-09-08T19:38:47.671457",
     "status": "completed"
    },
    "tags": []
   },
   "outputs": [],
   "source": [
    "dirs.print()"
   ]
  },
  {
   "cell_type": "markdown",
   "id": "4",
   "metadata": {
    "papermill": {
     "duration": 0.002818,
     "end_time": "2024-09-08T19:38:47.698824",
     "exception": false,
     "start_time": "2024-09-08T19:38:47.696006",
     "status": "completed"
    },
    "tags": []
   },
   "source": [
    "# API Status"
   ]
  },
  {
   "cell_type": "code",
   "execution_count": null,
   "id": "5",
   "metadata": {
    "papermill": {
     "duration": 0.186409,
     "end_time": "2024-09-08T19:38:47.888400",
     "exception": false,
     "start_time": "2024-09-08T19:38:47.701991",
     "status": "completed"
    },
    "tags": []
   },
   "outputs": [],
   "source": [
    "api.check_status()"
   ]
  },
  {
   "cell_type": "markdown",
   "id": "6",
   "metadata": {
    "papermill": {
     "duration": 0.0033,
     "end_time": "2024-09-08T19:38:47.895120",
     "exception": false,
     "start_time": "2024-09-08T19:38:47.891820",
     "status": "completed"
    },
    "tags": []
   },
   "source": [
    "# Cleanup"
   ]
  },
  {
   "cell_type": "code",
   "execution_count": null,
   "id": "7",
   "metadata": {
    "papermill": {
     "duration": 4.055822,
     "end_time": "2024-09-08T19:38:51.953979",
     "exception": false,
     "start_time": "2024-09-08T19:38:47.898157",
     "status": "completed"
    },
    "tags": []
   },
   "outputs": [],
   "source": [
    "cleanup_data(dry_run=True)"
   ]
  },
  {
   "cell_type": "markdown",
   "id": "8",
   "metadata": {
    "papermill": {
     "duration": 0.011021,
     "end_time": "2024-09-08T19:38:51.977553",
     "exception": false,
     "start_time": "2024-09-08T19:38:51.966532",
     "status": "completed"
    },
    "tags": []
   },
   "source": [
    "# Rarities"
   ]
  },
  {
   "cell_type": "code",
   "execution_count": null,
   "id": "9",
   "metadata": {
    "papermill": {
     "duration": 15.338881,
     "end_time": "2024-09-08T19:39:07.328147",
     "exception": false,
     "start_time": "2024-09-08T19:38:51.989266",
     "status": "completed"
    },
    "tags": []
   },
   "outputs": [],
   "source": [
    "rarities_dict = fetch_rarities_dict()\n",
    "\n",
    "# with open(dirs.get_asset(\"json\" / \"rarities.json\"), \"w+\") as file:\n",
    "#     json.dump(rarity_dict, file)\n",
    "\n",
    "rarities_dict"
   ]
  },
  {
   "cell_type": "markdown",
   "id": "10",
   "metadata": {
    "papermill": {
     "duration": 0.011714,
     "end_time": "2024-09-08T19:39:07.352005",
     "exception": false,
     "start_time": "2024-09-08T19:39:07.340291",
     "status": "completed"
    },
    "tags": []
   },
   "source": [
    "# Recent changes"
   ]
  },
  {
   "cell_type": "code",
   "execution_count": null,
   "id": "11",
   "metadata": {
    "papermill": {
     "duration": 0.202263,
     "end_time": "2024-09-08T19:39:07.564187",
     "exception": false,
     "start_time": "2024-09-08T19:39:07.361924",
     "status": "completed"
    },
    "tags": []
   },
   "outputs": [],
   "source": [
    "# Define the base URL for the API\n",
    "base_url = \"https://yugipedia.com/api.php\"\n",
    "\n",
    "# Define the parameters for the API request\n",
    "params = {\n",
    "    \"action\": \"query\",\n",
    "    \"format\": \"json\",\n",
    "    \"list\": \"recentchanges\",\n",
    "    \"rclimit\": 500,  # Return the most recent 500 changes\n",
    "    \"rcstart\": \"2024-11-05T00:00:00Z\",  # Start the results from this time\n",
    "    # \"rctag\": \"new\", # Only return changes with the \"new\" tag\n",
    "    # \"rcnamespace\": 14, # Only return changes in the category namespace\n",
    "}\n",
    "\n",
    "# Send the API request\n",
    "response = api.requests.get(api.URLS.base, params=params, headers=api.URLS.headers)\n",
    "\n",
    "# Check if the request was successful\n",
    "if response.status_code == 200:\n",
    "    # Parse the JSON response\n",
    "    data = response.json()\n",
    "\n",
    "    # Get the list of recent changes\n",
    "    recent_changes = data[\"query\"][\"recentchanges\"]\n",
    "\n",
    "    changes_df = pd.DataFrame(recent_changes)\n",
    "\n",
    "    display(changes_df)\n",
    "\n",
    "# If the request was not successful, print an error message\n",
    "else:\n",
    "    print(\"Error: Could not retrieve recent changes from the API\")"
   ]
  },
  {
   "cell_type": "markdown",
   "id": "12",
   "metadata": {
    "papermill": {
     "duration": 0.010867,
     "end_time": "2024-09-08T19:39:07.585611",
     "exception": false,
     "start_time": "2024-09-08T19:39:07.574744",
     "status": "completed"
    },
    "tags": []
   },
   "source": [
    "# Variables"
   ]
  },
  {
   "cell_type": "code",
   "execution_count": null,
   "id": "13",
   "metadata": {
    "papermill": {
     "duration": 0.191101,
     "end_time": "2024-09-08T19:39:07.787108",
     "exception": false,
     "start_time": "2024-09-08T19:39:07.596007",
     "status": "completed"
    },
    "tags": []
   },
   "outputs": [],
   "source": [
    "%whos"
   ]
  },
  {
   "cell_type": "code",
   "execution_count": null,
   "id": "14",
   "metadata": {
    "papermill": {
     "duration": 0.023893,
     "end_time": "2024-09-08T19:39:07.829608",
     "exception": false,
     "start_time": "2024-09-08T19:39:07.805715",
     "status": "completed"
    },
    "tags": []
   },
   "outputs": [],
   "source": [
    "save_notebook()"
   ]
  },
  {
   "cell_type": "code",
   "execution_count": null,
   "id": "15",
   "metadata": {
    "papermill": {
     "duration": 0.512549,
     "end_time": "2024-09-08T19:39:08.359403",
     "exception": false,
     "start_time": "2024-09-08T19:39:07.846854",
     "status": "completed"
    },
    "tags": []
   },
   "outputs": [],
   "source": [
    "export_notebook(dirs.NOTEBOOKS.user / \"Debug.ipynb\")"
   ]
  },
  {
   "cell_type": "code",
   "execution_count": null,
   "id": "16",
   "metadata": {
    "papermill": {
     "duration": 0.017442,
     "end_time": "2024-09-08T19:39:08.395343",
     "exception": false,
     "start_time": "2024-09-08T19:39:08.377901",
     "status": "completed"
    },
    "tags": []
   },
   "outputs": [],
   "source": []
  }
 ],
 "metadata": {
  "kernelspec": {
   "display_name": "venv",
   "language": "python",
   "name": "python3"
  },
  "language_info": {
   "codemirror_mode": {
    "name": "ipython",
    "version": 3
   },
   "file_extension": ".py",
   "mimetype": "text/x-python",
   "name": "python",
   "nbconvert_exporter": "python",
   "pygments_lexer": "ipython3",
   "version": "3.12.6"
  },
  "papermill": {
   "default_parameters": {},
   "duration": 25.887531,
   "end_time": "2024-09-08T19:39:11.030311",
   "environment_variables": {},
   "exception": null,
   "input_path": "/Users/Guigoruiz1/Documents/Python/Yugiquery/notebooks/Debug.ipynb",
   "output_path": "/Users/Guigoruiz1/Documents/Python/Yugiquery/notebooks/Debug.ipynb",
   "parameters": {},
   "start_time": "2024-09-08T19:38:45.142780",
   "version": "2.6.0"
  }
 },
 "nbformat": 4,
 "nbformat_minor": 5
}
