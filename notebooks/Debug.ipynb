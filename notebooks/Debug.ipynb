{
 "cells": [
  {
   "cell_type": "code",
   "execution_count": null,
   "id": "0",
   "metadata": {
    "papermill": {
     "duration": 1.526224,
     "end_time": "2024-09-08T19:19:54.967687",
     "exception": false,
     "start_time": "2024-09-08T19:19:53.441463",
     "status": "completed"
    },
    "tags": []
   },
   "outputs": [],
   "source": [
    "import sys\n",
    "\n",
    "sys.path.append(\"../\")\n",
    "\n",
    "from yugiquery import *\n",
    "\n",
    "header(\"Debug\")"
   ]
  },
  {
   "cell_type": "markdown",
   "id": "1",
   "metadata": {
    "papermill": {
     "duration": 0.00228,
     "end_time": "2024-09-08T19:19:54.972795",
     "exception": false,
     "start_time": "2024-09-08T19:19:54.970515",
     "status": "completed"
    },
    "tags": []
   },
   "source": [
    "# Directories"
   ]
  },
  {
   "cell_type": "code",
   "execution_count": null,
   "id": "2",
   "metadata": {
    "papermill": {
     "duration": 0.013349,
     "end_time": "2024-09-08T19:19:54.988647",
     "exception": false,
     "start_time": "2024-09-08T19:19:54.975298",
     "status": "completed"
    },
    "tags": []
   },
   "outputs": [],
   "source": [
    "dirs.print()"
   ]
  },
  {
   "cell_type": "markdown",
   "id": "3",
   "metadata": {
    "papermill": {
     "duration": 0.002734,
     "end_time": "2024-09-08T19:19:54.994599",
     "exception": false,
     "start_time": "2024-09-08T19:19:54.991865",
     "status": "completed"
    },
    "tags": []
   },
   "source": [
    "# API Status"
   ]
  },
  {
   "cell_type": "code",
   "execution_count": null,
   "id": "4",
   "metadata": {
    "papermill": {
     "duration": 0.232364,
     "end_time": "2024-09-08T19:19:55.229554",
     "exception": false,
     "start_time": "2024-09-08T19:19:54.997190",
     "status": "completed"
    },
    "tags": []
   },
   "outputs": [],
   "source": [
    "api.check_status()"
   ]
  },
  {
   "cell_type": "markdown",
   "id": "5",
   "metadata": {
    "papermill": {
     "duration": 0.002765,
     "end_time": "2024-09-08T19:19:55.235517",
     "exception": false,
     "start_time": "2024-09-08T19:19:55.232752",
     "status": "completed"
    },
    "tags": []
   },
   "source": [
    "# Cleanup"
   ]
  },
  {
   "cell_type": "code",
   "execution_count": null,
   "id": "6",
   "metadata": {
    "papermill": {
     "duration": 3.655897,
     "end_time": "2024-09-08T19:19:58.894324",
     "exception": false,
     "start_time": "2024-09-08T19:19:55.238427",
     "status": "completed"
    },
    "tags": []
   },
   "outputs": [],
   "source": [
    "cleanup_data(dry_run=True)"
   ]
  },
  {
   "cell_type": "markdown",
   "id": "7",
   "metadata": {
    "papermill": {
     "duration": 0.010213,
     "end_time": "2024-09-08T19:19:58.915773",
     "exception": false,
     "start_time": "2024-09-08T19:19:58.905560",
     "status": "completed"
    },
    "tags": []
   },
   "source": [
    "# Rarities"
   ]
  },
  {
   "cell_type": "code",
   "execution_count": null,
   "id": "8",
   "metadata": {
    "papermill": {
     "duration": 22.130931,
     "end_time": "2024-09-08T19:20:21.056564",
     "exception": false,
     "start_time": "2024-09-08T19:19:58.925633",
     "status": "completed"
    },
    "tags": []
   },
   "outputs": [],
   "source": [
    "rarities_dict = fetch_rarities_dict()\n",
    "\n",
    "# with open(dirs.ASSETS / \"json\" / \"rarities.json\", \"w+\") as file:\n",
    "#     json.dump(rarity_dict, file)\n",
    "\n",
    "rarities_dict"
   ]
  },
  {
   "cell_type": "markdown",
   "id": "9",
   "metadata": {
    "papermill": {
     "duration": 0.010152,
     "end_time": "2024-09-08T19:20:21.077759",
     "exception": false,
     "start_time": "2024-09-08T19:20:21.067607",
     "status": "completed"
    },
    "tags": []
   },
   "source": [
    "# Recent changes"
   ]
  },
  {
   "cell_type": "code",
   "execution_count": null,
   "id": "10",
   "metadata": {
    "papermill": {
     "duration": 2.247023,
     "end_time": "2024-09-08T19:20:23.334844",
     "exception": false,
     "start_time": "2024-09-08T19:20:21.087821",
     "status": "completed"
    },
    "tags": []
   },
   "outputs": [],
   "source": [
    "# Define the base URL for the API\n",
    "base_url = \"https://yugipedia.com/api.php\"\n",
    "\n",
    "# Define the parameters for the API request\n",
    "params = {\n",
    "    \"action\": \"query\",\n",
    "    \"format\": \"json\",\n",
    "    \"list\": \"recentchanges\",\n",
    "    \"rclimit\": 500,  # Return the most recent 500 changes\n",
    "    \"rcstart\": \"2024-11-05T00:00:00Z\",  # Start the results from this time\n",
    "    # \"rctag\": \"new\", # Only return changes with the \"new\" tag\n",
    "    # \"rcnamespace\": 14, # Only return changes in the category namespace\n",
    "}\n",
    "\n",
    "# Send the API request\n",
    "response = api.requests.get(\n",
    "    api.URLS[\"base\"], params=params, headers=api.URLS[\"headers\"]\n",
    ")\n",
    "\n",
    "# Check if the request was successful\n",
    "if response.status_code == 200:\n",
    "    # Parse the JSON response\n",
    "    data = response.json()\n",
    "\n",
    "    # Get the list of recent changes\n",
    "    recent_changes = data[\"query\"][\"recentchanges\"]\n",
    "\n",
    "    changes_df = pd.DataFrame(recent_changes)\n",
    "\n",
    "    display(changes_df)\n",
    "\n",
    "# If the request was not successful, print an error message\n",
    "else:\n",
    "    print(\"Error: Could not retrieve recent changes from the API\")"
   ]
  },
  {
   "cell_type": "markdown",
   "id": "11",
   "metadata": {
    "papermill": {
     "duration": 0.010365,
     "end_time": "2024-09-08T19:20:23.357284",
     "exception": false,
     "start_time": "2024-09-08T19:20:23.346919",
     "status": "completed"
    },
    "tags": []
   },
   "source": [
    "# Variables"
   ]
  },
  {
   "cell_type": "code",
   "execution_count": null,
   "id": "12",
   "metadata": {
    "papermill": {
     "duration": 0.185368,
     "end_time": "2024-09-08T19:20:23.552370",
     "exception": false,
     "start_time": "2024-09-08T19:20:23.367002",
     "status": "completed"
    },
    "tags": []
   },
   "outputs": [],
   "source": [
    "%whos"
   ]
  },
  {
   "cell_type": "code",
   "execution_count": null,
   "id": "13",
   "metadata": {
    "papermill": {
     "duration": 0.024695,
     "end_time": "2024-09-08T19:20:23.597846",
     "exception": false,
     "start_time": "2024-09-08T19:20:23.573151",
     "status": "completed"
    },
    "tags": []
   },
   "outputs": [],
   "source": [
    "save_notebook()"
   ]
  },
  {
   "cell_type": "code",
   "execution_count": null,
   "id": "14",
   "metadata": {
    "papermill": {
     "duration": 0.5133,
     "end_time": "2024-09-08T19:20:24.129503",
     "exception": false,
     "start_time": "2024-09-08T19:20:23.616203",
     "status": "completed"
    },
    "tags": []
   },
   "outputs": [],
   "source": [
    "export_notebook(dirs.NOTEBOOKS / \"Debug.ipynb\")"
   ]
  },
  {
   "cell_type": "code",
   "execution_count": null,
   "id": "15",
   "metadata": {
    "papermill": {
     "duration": 0.020568,
     "end_time": "2024-09-08T19:20:24.169625",
     "exception": false,
     "start_time": "2024-09-08T19:20:24.149057",
     "status": "completed"
    },
    "tags": []
   },
   "outputs": [],
   "source": []
  }
 ],
 "metadata": {
  "kernelspec": {
   "display_name": "Python 3 (ipykernel)",
   "language": "python",
   "name": "python3"
  },
  "language_info": {
   "codemirror_mode": {
    "name": "ipython",
    "version": 3
   },
   "file_extension": ".py",
   "mimetype": "text/x-python",
   "name": "python",
   "nbconvert_exporter": "python",
   "pygments_lexer": "ipython3",
   "version": "3.12.5"
  },
  "papermill": {
   "default_parameters": {},
   "duration": 34.10035,
   "end_time": "2024-09-08T19:20:26.806469",
   "environment_variables": {},
   "exception": null,
   "input_path": "/Users/Guigoruiz1/Documents/Python/Yugiquery/notebooks/Debug.ipynb",
   "output_path": "/Users/Guigoruiz1/Documents/Python/Yugiquery/notebooks/Debug.ipynb",
   "parameters": {},
   "start_time": "2024-09-08T19:19:52.706119",
   "version": "2.6.0"
  }
 },
 "nbformat": 4,
 "nbformat_minor": 5
}
