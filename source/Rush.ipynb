{
 "cells": [
  {
   "cell_type": "code",
   "execution_count": null,
   "id": "db3fea09-dd17-4d4f-9751-4db442584d19",
   "metadata": {
    "papermill": {
     "duration": 6.323977,
     "end_time": "2023-11-19T23:54:37.703867",
     "exception": false,
     "start_time": "2023-11-19T23:54:31.379890",
     "status": "completed"
    },
    "tags": []
   },
   "outputs": [],
   "source": [
    "from yugiquery import *\n",
    "init_notebook_mode(all_interactive=True)\n",
    "\n",
    "header(\"Rush Duel\")"
   ]
  },
  {
   "cell_type": "markdown",
   "id": "f26c89c2-c447-43a2-997b-603775191de3",
   "metadata": {
    "papermill": {
     "duration": 0.56407,
     "end_time": "2023-11-19T23:54:38.315635",
     "exception": false,
     "start_time": "2023-11-19T23:54:37.751565",
     "status": "completed"
    },
    "tags": []
   },
   "source": [
    "---"
   ]
  },
  {
   "cell_type": "markdown",
   "id": "aef2db3f",
   "metadata": {
    "papermill": {
     "duration": 0.319247,
     "end_time": "2023-11-19T23:54:38.760630",
     "exception": false,
     "start_time": "2023-11-19T23:54:38.441383",
     "status": "completed"
    },
    "tags": []
   },
   "source": [
    "Table of Contents\n",
    "=================\n",
    "\n",
    "*   [1  Data aquisition](#Data-aquisition)\n",
    "    *   [1.1  Fetch online data](#Fetch-online-data)\n",
    "    *   [1.2  Merge data](#Merge-data)\n",
    "*   [2  Check changes](#Check-changes)\n",
    "    *   [2.1  Load previous data](#Load-previous-data)\n",
    "    *   [2.2  Generate changelog](#Generate-changelog)\n",
    "    *   [2.3  Save data](#Save-data)\n",
    "*   [3  Data visualization](#Data-visualization)\n",
    "    *   [3.1  Card type](#Card-type)\n",
    "    *   [3.2  Monsters](#Monsters)\n",
    "        *   [3.2.1  Attribute](#Attribute)\n",
    "        *   [3.2.2  Primary type](#Primary-type)\n",
    "            *   [3.2.2.1  Has effect discrimination](#Has-effect-discrimination)\n",
    "            *   [3.2.2.2  By attribute](#By-attribute)\n",
    "        *   [3.2.3  Monster type](#Monster-type)\n",
    "            *   [3.2.3.1  By Attribute](#By-Attribute)\n",
    "            *   [3.2.3.2  By primary type](#By-primary-type)\n",
    "        *   [3.2.4  Effect type](#Effect-type)\n",
    "        *   [3.2.5  ATK](#ATK)\n",
    "        *   [3.2.6  DEF](#DEF)\n",
    "        *   [3.2.7  Maximum mode](#Maximum-mode)\n",
    "            *   [3.2.7.1  MAXIMUM ATK](#MAXIMUM-ATK)\n",
    "        *   [3.2.8  Level/Rank](#Level/Rank)\n",
    "            *   [3.2.8.1  ATK statistics](#ATK-statistics)\n",
    "            *   [3.2.8.2  DEF statistics](#DEF-statistics)\n",
    "    *   [3.3  Spell & Trap](#Spell-&-Trap)\n",
    "        *   [3.3.1  Properties](#Properties)\n",
    "    *   [3.4  Archseries](#Archseries)\n",
    "        *   [3.4.1  By card type](#By-card-type)\n",
    "        *   [3.4.2  By primary type](#By-primary-type)\n",
    "        *   [3.4.3  By monster type](#By-monster-type)\n",
    "        *   [3.4.4  By property](#By-property)\n",
    "    *   [3.5  Legend](#Legend)\n",
    "        *   *   [3.5.0.1  By card type](#By-card-type)\n",
    "            *   [3.5.0.2  By Attribute](#By-Attribute)\n",
    "            *   [3.5.0.3  By primary type](#By-primary-type)\n",
    "            *   [3.5.0.4  By monster type](#By-monster-type)\n",
    "    *   [3.6  Artworks](#Artworks)\n",
    "        *   [3.6.1  By card type](#By-card-type)\n",
    "        *   [3.6.2  By primary type](#By-primary-type)\n",
    "    *   [3.7  Errata](#Errata)\n",
    "        *   [3.7.1  By card type](#By-card-type)\n",
    "        *   [3.7.2  By primary type](#By-primary-type)\n",
    "        *   [3.7.3  By artwork](#By-artwork)\n",
    "*   [4  Epilogue](#Epilogue)\n",
    "    *   [4.1  HTML export](#HTML-export)\n",
    "<!--     *   [4.2  Git](#Git) -->"
   ]
  },
  {
   "cell_type": "markdown",
   "id": "f21bcaec-0f80-4b9a-939c-c4bd159ee18b",
   "metadata": {
    "papermill": {
     "duration": 0.052371,
     "end_time": "2023-11-19T23:54:38.917201",
     "exception": false,
     "start_time": "2023-11-19T23:54:38.864830",
     "status": "completed"
    },
    "tags": []
   },
   "source": [
    "# Data aquisition"
   ]
  },
  {
   "cell_type": "markdown",
   "id": "7642e7a7-408a-47af-a6d3-8d8e6c733581",
   "metadata": {
    "papermill": {
     "duration": 0.35084,
     "end_time": "2023-11-19T23:54:39.655892",
     "exception": false,
     "start_time": "2023-11-19T23:54:39.305052",
     "status": "completed"
    },
    "tags": []
   },
   "source": [
    "## Fetch online data"
   ]
  },
  {
   "cell_type": "code",
   "execution_count": null,
   "id": "88db0457-64ee-4b1f-a642-1488b81ecad1",
   "metadata": {
    "papermill": {
     "duration": 0.136007,
     "end_time": "2023-11-19T23:54:39.888596",
     "exception": false,
     "start_time": "2023-11-19T23:54:39.752589",
     "status": "completed"
    },
    "tags": []
   },
   "outputs": [],
   "source": [
    "# Timestamp\n",
    "timestamp = pd.Timestamp.now()"
   ]
  },
  {
   "cell_type": "code",
   "execution_count": null,
   "id": "4cf61b44-a485-4af9-9465-b4eb2431a730",
   "metadata": {
    "papermill": {
     "duration": 14.330325,
     "end_time": "2023-11-19T23:54:54.438555",
     "exception": false,
     "start_time": "2023-11-19T23:54:40.108230",
     "status": "completed"
    },
    "tags": []
   },
   "outputs": [],
   "source": [
    "# Fetch rush cards\n",
    "rush_df = fetch_rush()\n",
    "\n",
    "# Fetch errata\n",
    "errata_df = fetch_errata()"
   ]
  },
  {
   "cell_type": "markdown",
   "id": "ee9ee76b-014b-4be4-88f7-f5206f5f53a9",
   "metadata": {
    "papermill": {
     "duration": 0.152764,
     "end_time": "2023-11-19T23:54:54.638673",
     "exception": false,
     "start_time": "2023-11-19T23:54:54.485909",
     "status": "completed"
    },
    "tags": []
   },
   "source": [
    "## Merge data"
   ]
  },
  {
   "cell_type": "code",
   "execution_count": null,
   "id": "2d4d4c95-d88d-44d2-80f0-76e9402d8215",
   "metadata": {
    "papermill": {
     "duration": 0.575089,
     "end_time": "2023-11-19T23:54:55.467095",
     "exception": false,
     "start_time": "2023-11-19T23:54:54.892006",
     "status": "completed"
    },
    "tags": []
   },
   "outputs": [],
   "source": [
    "rush_df = merge_errata(rush_df, errata_df)\n",
    "print(\"Data merged\")"
   ]
  },
  {
   "cell_type": "markdown",
   "id": "de464ac7-ef5b-49f9-8679-9883d5ec151b",
   "metadata": {
    "papermill": {
     "duration": 0.115881,
     "end_time": "2023-11-19T23:54:55.650551",
     "exception": false,
     "start_time": "2023-11-19T23:54:55.534670",
     "status": "completed"
    },
    "tags": []
   },
   "source": [
    "# Check changes"
   ]
  },
  {
   "cell_type": "markdown",
   "id": "0372e9c7-e778-4c0a-8ba4-b61cf3537eab",
   "metadata": {
    "papermill": {
     "duration": 0.090422,
     "end_time": "2023-11-19T23:54:56.020241",
     "exception": false,
     "start_time": "2023-11-19T23:54:55.929819",
     "status": "completed"
    },
    "tags": []
   },
   "source": [
    "## Load previous data"
   ]
  },
  {
   "cell_type": "code",
   "execution_count": null,
   "id": "43bc508c-6f99-42f3-b019-8cab526214f5",
   "metadata": {
    "papermill": {
     "duration": 0.962192,
     "end_time": "2023-11-19T23:54:57.097603",
     "exception": false,
     "start_time": "2023-11-19T23:54:56.135411",
     "status": "completed"
    },
    "tags": []
   },
   "outputs": [],
   "source": [
    "## Get list of files\n",
    "files_list = sorted(\n",
    "    glob.glob(\"../data/all_rush_*.bz2\"), key=os.path.getctime, reverse=True\n",
    ")\n",
    "# Get second newest file if exist\n",
    "if files_list:\n",
    "    latest_file = files_list[0]\n",
    "    # Load csv avoiding converting \"NA\" to NaN\n",
    "    previous_df = pd.read_csv(\n",
    "        latest_file, dtype=object, keep_default_na=False, na_values=[\"\"]\n",
    "    )\n",
    "    # Correct tuples\n",
    "    tuple_cols = [\n",
    "        \"Effect type\",\n",
    "        \"Archseries\",\n",
    "        \"Artwork\",\n",
    "        \"Errata\",\n",
    "        \"Legend\",\n",
    "        \"Maximum mode\",\n",
    "    ]\n",
    "    for col in tuple_cols:\n",
    "        previous_df[col] = previous_df[col].dropna().apply(literal_eval)\n",
    "    # Force dtypes to match current df\n",
    "    previous_df = previous_df.astype(\n",
    "        rush_df[previous_df.columns.intersection(rush_df.columns)].dtypes.to_dict()\n",
    "    )\n",
    "    previous_ts = pd.to_datetime(\n",
    "        os.path.basename(latest_file).split(\"_\")[-1].split(\".bz2\")[0]\n",
    "    )\n",
    "    print(\"File loaded\")\n",
    "else:\n",
    "    previous_df = None\n",
    "    print(\"No older files\")"
   ]
  },
  {
   "cell_type": "markdown",
   "id": "509b3cf8-1402-4ded-b007-e8dd541ed558",
   "metadata": {
    "papermill": {
     "duration": 0.082306,
     "end_time": "2023-11-19T23:54:57.228332",
     "exception": false,
     "start_time": "2023-11-19T23:54:57.146026",
     "status": "completed"
    },
    "tags": []
   },
   "source": [
    "## Generate changelog"
   ]
  },
  {
   "cell_type": "code",
   "execution_count": null,
   "id": "bc574063-ab48-4d47-9e34-e50508be8024",
   "metadata": {
    "papermill": {
     "duration": 0.172462,
     "end_time": "2023-11-19T23:54:57.661250",
     "exception": false,
     "start_time": "2023-11-19T23:54:57.488788",
     "status": "completed"
    },
    "tags": []
   },
   "outputs": [],
   "source": [
    "if previous_df is None:\n",
    "    changelog = None\n",
    "    print(\"Skipped\")\n",
    "else:\n",
    "    changelog = generate_changelog(previous_df, rush_df, col=\"Name\")\n",
    "    if not changelog.empty:\n",
    "        display(changelog)\n",
    "        changelog.to_csv(\n",
    "            f'../data/rush_changelog_{previous_ts.isoformat(timespec=\"minutes\")}_{timestamp.isoformat(timespec=\"minutes\")}.bz2',\n",
    "            index=True,\n",
    "        )\n",
    "        print(\"Changelog saved\")"
   ]
  },
  {
   "cell_type": "markdown",
   "id": "feeb2511-c891-4047-8e87-4106f7ecd222",
   "metadata": {
    "papermill": {
     "duration": 0.184769,
     "end_time": "2023-11-19T23:54:57.896075",
     "exception": false,
     "start_time": "2023-11-19T23:54:57.711306",
     "status": "completed"
    },
    "tags": []
   },
   "source": [
    "## Save data"
   ]
  },
  {
   "cell_type": "code",
   "execution_count": null,
   "id": "7508d7a5-8398-4596-9079-64cf9ebd6e77",
   "metadata": {
    "papermill": {
     "duration": 0.21116,
     "end_time": "2023-11-19T23:54:58.207895",
     "exception": false,
     "start_time": "2023-11-19T23:54:57.996735",
     "status": "completed"
    },
    "tags": []
   },
   "outputs": [],
   "source": [
    "if changelog is not None and changelog.empty:\n",
    "    print(\"No changes. New data not saved\")\n",
    "else:\n",
    "    rush_df.to_csv(\n",
    "        f'../data/all_rush_{timestamp.isoformat(timespec=\"minutes\")}.bz2', index=False\n",
    "    )\n",
    "    print(\"Data saved\")"
   ]
  },
  {
   "cell_type": "markdown",
   "id": "31a8ceb7-8c7f-4d88-ad6d-9450970d0be9",
   "metadata": {
    "papermill": {
     "duration": 0.178928,
     "end_time": "2023-11-19T23:54:58.647619",
     "exception": false,
     "start_time": "2023-11-19T23:54:58.468691",
     "status": "completed"
    },
    "tags": []
   },
   "source": [
    "# Data visualization"
   ]
  },
  {
   "cell_type": "code",
   "execution_count": null,
   "id": "effa94cb-10ed-4dff-b33b-df6601744e6c",
   "metadata": {
    "papermill": {
     "duration": 0.398155,
     "end_time": "2023-11-19T23:54:59.341773",
     "exception": false,
     "start_time": "2023-11-19T23:54:58.943618",
     "status": "completed"
    },
    "tags": []
   },
   "outputs": [],
   "source": [
    "rush_df"
   ]
  },
  {
   "cell_type": "markdown",
   "id": "6f265c0c-ee8f-4e14-97a2-8f5011fade4d",
   "metadata": {
    "jp-MarkdownHeadingCollapsed": true,
    "papermill": {
     "duration": 0.376418,
     "end_time": "2023-11-19T23:54:59.776873",
     "exception": false,
     "start_time": "2023-11-19T23:54:59.400455",
     "status": "completed"
    },
    "tags": []
   },
   "source": [
    "## Card type"
   ]
  },
  {
   "cell_type": "code",
   "execution_count": null,
   "id": "d0eb0759-1dfe-4dd3-8f5e-b442a615a487",
   "metadata": {
    "papermill": {
     "duration": 0.1881,
     "end_time": "2023-11-19T23:55:00.130388",
     "exception": false,
     "start_time": "2023-11-19T23:54:59.942288",
     "status": "completed"
    },
    "tags": []
   },
   "outputs": [],
   "source": [
    "rush_df[\"Card type\"].nunique()"
   ]
  },
  {
   "cell_type": "code",
   "execution_count": null,
   "id": "bdba8960-9b45-4f10-93a2-c7edb4cb0fb5",
   "metadata": {
    "papermill": {
     "duration": 0.518723,
     "end_time": "2023-11-19T23:55:00.857343",
     "exception": false,
     "start_time": "2023-11-19T23:55:00.338620",
     "status": "completed"
    },
    "tags": []
   },
   "outputs": [],
   "source": [
    "card_type_colors = [colors_dict[i] for i in rush_df[\"Card type\"].value_counts().index]\n",
    "rush_df[\"Card type\"].value_counts().plot.bar(\n",
    "    figsize=(18, 6), grid=True, rot=0, color=card_type_colors, title=\"Card type\"\n",
    ")\n",
    "plt.show()"
   ]
  },
  {
   "cell_type": "markdown",
   "id": "efd09d32-f551-40c5-8c4f-ea5de85722fa",
   "metadata": {
    "papermill": {
     "duration": 0.106389,
     "end_time": "2023-11-19T23:55:01.023321",
     "exception": false,
     "start_time": "2023-11-19T23:55:00.916932",
     "status": "completed"
    },
    "tags": []
   },
   "source": [
    "## Monsters"
   ]
  },
  {
   "cell_type": "markdown",
   "id": "61a76912-a0db-4680-93ef-fff91938644f",
   "metadata": {
    "papermill": {
     "duration": 0.427936,
     "end_time": "2023-11-19T23:55:01.817062",
     "exception": false,
     "start_time": "2023-11-19T23:55:01.389126",
     "status": "completed"
    },
    "tags": []
   },
   "source": [
    "### Attribute"
   ]
  },
  {
   "cell_type": "code",
   "execution_count": null,
   "id": "aa4e6a26",
   "metadata": {
    "papermill": {
     "duration": 0.505492,
     "end_time": "2023-11-19T23:55:02.516715",
     "exception": false,
     "start_time": "2023-11-19T23:55:02.011223",
     "status": "completed"
    },
    "tags": []
   },
   "outputs": [],
   "source": [
    "print(\"Total number of attributes:\", rush_df[\"Attribute\"].nunique())"
   ]
  },
  {
   "cell_type": "code",
   "execution_count": null,
   "id": "ea26720e",
   "metadata": {
    "papermill": {
     "duration": 0.258816,
     "end_time": "2023-11-19T23:55:03.447263",
     "exception": false,
     "start_time": "2023-11-19T23:55:03.188447",
     "status": "completed"
    },
    "tags": []
   },
   "outputs": [],
   "source": [
    "rush_df.drop(columns=[\"Card type\"]).groupby(\"Attribute\").nunique()"
   ]
  },
  {
   "cell_type": "code",
   "execution_count": null,
   "id": "c4ff5f74",
   "metadata": {
    "papermill": {
     "duration": 0.411591,
     "end_time": "2023-11-19T23:55:04.303988",
     "exception": false,
     "start_time": "2023-11-19T23:55:03.892397",
     "status": "completed"
    },
    "tags": []
   },
   "outputs": [],
   "source": [
    "attribute_colors = [colors_dict[i] for i in rush_df[\"Attribute\"].value_counts().index]\n",
    "rush_df[\"Attribute\"].value_counts().plot.bar(\n",
    "    figsize=(18, 6), grid=True, rot=0, color=attribute_colors, title=\"Attribute\"\n",
    ")\n",
    "plt.show()"
   ]
  },
  {
   "cell_type": "markdown",
   "id": "52ec4c63-62b0-4f14-a410-6d73439fade0",
   "metadata": {
    "jp-MarkdownHeadingCollapsed": true,
    "papermill": {
     "duration": 0.233982,
     "end_time": "2023-11-19T23:55:04.593530",
     "exception": false,
     "start_time": "2023-11-19T23:55:04.359548",
     "status": "completed"
    },
    "tags": []
   },
   "source": [
    "### Primary type"
   ]
  },
  {
   "cell_type": "code",
   "execution_count": null,
   "id": "26e45412",
   "metadata": {
    "papermill": {
     "duration": 0.169971,
     "end_time": "2023-11-19T23:55:04.815872",
     "exception": false,
     "start_time": "2023-11-19T23:55:04.645901",
     "status": "completed"
    },
    "tags": []
   },
   "outputs": [],
   "source": [
    "print(\"Total number of primary types:\", rush_df[\"Primary type\"].nunique())"
   ]
  },
  {
   "cell_type": "code",
   "execution_count": null,
   "id": "c7e4c6b0",
   "metadata": {
    "papermill": {
     "duration": 0.231235,
     "end_time": "2023-11-19T23:55:05.142499",
     "exception": false,
     "start_time": "2023-11-19T23:55:04.911264",
     "status": "completed"
    },
    "tags": []
   },
   "outputs": [],
   "source": [
    "rush_df.drop(columns=[\"Card type\"]).groupby(\"Primary type\").nunique()"
   ]
  },
  {
   "cell_type": "markdown",
   "id": "fcf42253-51c4-4c29-ad63-d54e730cf4bf",
   "metadata": {
    "papermill": {
     "duration": 1.323681,
     "end_time": "2023-11-19T23:55:06.521173",
     "exception": false,
     "start_time": "2023-11-19T23:55:05.197492",
     "status": "completed"
    },
    "tags": []
   },
   "source": [
    "#### Has effect discrimination"
   ]
  },
  {
   "cell_type": "code",
   "execution_count": null,
   "id": "56a59624",
   "metadata": {
    "papermill": {
     "duration": 0.073937,
     "end_time": "2023-11-19T23:55:06.703600",
     "exception": false,
     "start_time": "2023-11-19T23:55:06.629663",
     "status": "completed"
    },
    "tags": []
   },
   "outputs": [],
   "source": [
    "has_effect = (\n",
    "    rush_df[\"Primary type\"]\n",
    "    .where(rush_df[\"Effect type\"].notna())\n",
    "    .value_counts()\n",
    "    .rename(\"Effect\")\n",
    ")\n",
    "no_effect = (\n",
    "    rush_df[\"Primary type\"]\n",
    "    .where(rush_df[\"Effect type\"].isna())\n",
    "    .value_counts()\n",
    "    .rename(\"No Effect\")\n",
    ")\n",
    "effect = pd.concat([has_effect, no_effect], axis=1).fillna(0).astype(int)\n",
    "effect"
   ]
  },
  {
   "cell_type": "code",
   "execution_count": null,
   "id": "82c24448",
   "metadata": {
    "papermill": {
     "duration": 0.32705,
     "end_time": "2023-11-19T23:55:07.348505",
     "exception": false,
     "start_time": "2023-11-19T23:55:07.021455",
     "status": "completed"
    },
    "tags": []
   },
   "outputs": [],
   "source": [
    "monster_type_colors = {\n",
    "    \"No Effect\": colors_dict[\"Normal Monster\"],\n",
    "    \"Effect\": [colors_dict[i] for i in effect.index],\n",
    "}\n",
    "effect.plot.bar(\n",
    "    figsize=(18, 6),\n",
    "    stacked=True,\n",
    "    grid=True,\n",
    "    rot=0,\n",
    "    legend=True,\n",
    "    color=monster_type_colors,\n",
    "    title=\"Primary types - Has effect\",\n",
    ")\n",
    "# plt.yscale('log')\n",
    "plt.show()"
   ]
  },
  {
   "cell_type": "markdown",
   "id": "5937a77e-f719-44fc-a595-cbaf054f3f8d",
   "metadata": {
    "papermill": {
     "duration": 0.344061,
     "end_time": "2023-11-19T23:55:08.460706",
     "exception": false,
     "start_time": "2023-11-19T23:55:08.116645",
     "status": "completed"
    },
    "tags": []
   },
   "source": [
    "Obs: Effect monster can show as no effect if it is not released yet"
   ]
  },
  {
   "cell_type": "markdown",
   "id": "25151736-6b5f-406e-9269-312433ff78b8",
   "metadata": {
    "papermill": {
     "duration": 0.218611,
     "end_time": "2023-11-19T23:55:08.975960",
     "exception": false,
     "start_time": "2023-11-19T23:55:08.757349",
     "status": "completed"
    },
    "tags": []
   },
   "source": [
    "#### By attribute"
   ]
  },
  {
   "cell_type": "code",
   "execution_count": null,
   "id": "9c162519",
   "metadata": {
    "papermill": {
     "duration": 0.133894,
     "end_time": "2023-11-19T23:55:09.343959",
     "exception": false,
     "start_time": "2023-11-19T23:55:09.210065",
     "status": "completed"
    },
    "tags": []
   },
   "outputs": [],
   "source": [
    "primmary_crosstab = pd.crosstab(rush_df[\"Primary type\"], rush_df[\"Attribute\"])\n",
    "primmary_crosstab"
   ]
  },
  {
   "cell_type": "code",
   "execution_count": null,
   "id": "a0114f45",
   "metadata": {
    "papermill": {
     "duration": 0.841653,
     "end_time": "2023-11-19T23:55:11.338783",
     "exception": false,
     "start_time": "2023-11-19T23:55:10.497130",
     "status": "completed"
    },
    "tags": []
   },
   "outputs": [],
   "source": [
    "plt.figure(figsize=(16, 6))\n",
    "sns.heatmap(\n",
    "    primmary_crosstab,\n",
    "    annot=True,\n",
    "    fmt=\"g\",\n",
    "    cmap=\"viridis\",\n",
    "    square=True,\n",
    "    norm=mc.LogNorm(),\n",
    ")\n",
    "plt.show()"
   ]
  },
  {
   "cell_type": "markdown",
   "id": "1cec1d3f-9089-4e2c-8263-19996a56fb94",
   "metadata": {
    "jp-MarkdownHeadingCollapsed": true,
    "papermill": {
     "duration": 0.131228,
     "end_time": "2023-11-19T23:55:11.526986",
     "exception": false,
     "start_time": "2023-11-19T23:55:11.395758",
     "status": "completed"
    },
    "tags": []
   },
   "source": [
    "### Monster type"
   ]
  },
  {
   "cell_type": "code",
   "execution_count": null,
   "id": "f9375423-085f-4a01-a981-5c49758ee2fe",
   "metadata": {
    "papermill": {
     "duration": 0.350504,
     "end_time": "2023-11-19T23:55:12.051451",
     "exception": false,
     "start_time": "2023-11-19T23:55:11.700947",
     "status": "completed"
    },
    "tags": []
   },
   "outputs": [],
   "source": [
    "print(\"Total number of monster types:\", rush_df[\"Monster type\"].nunique())"
   ]
  },
  {
   "cell_type": "code",
   "execution_count": null,
   "id": "cce35ef4-1aba-4209-9bb0-8777ca156238",
   "metadata": {
    "papermill": {
     "duration": 0.301262,
     "end_time": "2023-11-19T23:55:12.705842",
     "exception": false,
     "start_time": "2023-11-19T23:55:12.404580",
     "status": "completed"
    },
    "tags": []
   },
   "outputs": [],
   "source": [
    "rush_df.drop(columns=[\"Card type\"]).groupby(\"Monster type\").nunique()"
   ]
  },
  {
   "cell_type": "code",
   "execution_count": null,
   "id": "d270a94e-dd85-4790-9382-67057d7ee9ad",
   "metadata": {
    "papermill": {
     "duration": 0.881525,
     "end_time": "2023-11-19T23:55:13.645650",
     "exception": false,
     "start_time": "2023-11-19T23:55:12.764125",
     "status": "completed"
    },
    "tags": []
   },
   "outputs": [],
   "source": [
    "monster_type_colors = colors_dict[\"Monster Card\"]\n",
    "rush_df[\"Monster type\"].value_counts().plot.bar(\n",
    "    figsize=(18, 6), grid=True, rot=60, color=monster_type_colors, title=\"Monster type\"\n",
    ")\n",
    "plt.show()"
   ]
  },
  {
   "cell_type": "markdown",
   "id": "c46d460f-9cb2-4f9d-9533-3416c26bf159",
   "metadata": {
    "jp-MarkdownHeadingCollapsed": true,
    "papermill": {
     "duration": 0.491674,
     "end_time": "2023-11-19T23:55:14.195937",
     "exception": false,
     "start_time": "2023-11-19T23:55:13.704263",
     "status": "completed"
    },
    "tags": []
   },
   "source": [
    "#### By Attribute"
   ]
  },
  {
   "cell_type": "code",
   "execution_count": null,
   "id": "9664b46c-b835-45ea-905b-b1d9460eb241",
   "metadata": {
    "papermill": {
     "duration": 0.148441,
     "end_time": "2023-11-19T23:55:14.710796",
     "exception": false,
     "start_time": "2023-11-19T23:55:14.562355",
     "status": "completed"
    },
    "tags": []
   },
   "outputs": [],
   "source": [
    "monster_crosstab = pd.crosstab(\n",
    "    rush_df[\"Monster type\"], rush_df[\"Attribute\"], dropna=False\n",
    ")\n",
    "monster_crosstab"
   ]
  },
  {
   "cell_type": "code",
   "execution_count": null,
   "id": "71a77985-bff7-4bfc-a1b2-8c19b34a314c",
   "metadata": {
    "papermill": {
     "duration": 1.381598,
     "end_time": "2023-11-19T23:55:16.399723",
     "exception": false,
     "start_time": "2023-11-19T23:55:15.018125",
     "status": "completed"
    },
    "tags": []
   },
   "outputs": [],
   "source": [
    "plt.figure(figsize=(20, 4))\n",
    "sns.heatmap(\n",
    "    monster_crosstab[monster_crosstab > 0].T,\n",
    "    annot=True,\n",
    "    fmt=\"g\",\n",
    "    cmap=\"viridis\",\n",
    "    square=True,\n",
    "    norm=mc.LogNorm(),\n",
    ")\n",
    "plt.show()"
   ]
  },
  {
   "cell_type": "markdown",
   "id": "2ecc77ec-6841-4d6a-9983-2316412d4154",
   "metadata": {
    "papermill": {
     "duration": 0.113802,
     "end_time": "2023-11-19T23:55:16.574810",
     "exception": false,
     "start_time": "2023-11-19T23:55:16.461008",
     "status": "completed"
    },
    "tags": []
   },
   "source": [
    "#### By primary type"
   ]
  },
  {
   "cell_type": "code",
   "execution_count": null,
   "id": "f2e9d55a-e781-428e-b08c-efedf2a37392",
   "metadata": {
    "papermill": {
     "duration": 0.439302,
     "end_time": "2023-11-19T23:55:17.163298",
     "exception": false,
     "start_time": "2023-11-19T23:55:16.723996",
     "status": "completed"
    },
    "tags": []
   },
   "outputs": [],
   "source": [
    "monster_crosstab_b = pd.crosstab(\n",
    "    rush_df[\"Monster type\"], rush_df[\"Primary type\"], dropna=False\n",
    ")\n",
    "monster_crosstab_b"
   ]
  },
  {
   "cell_type": "code",
   "execution_count": null,
   "id": "8da8db63-bc41-4a03-a525-63dbcfb5782f",
   "metadata": {
    "papermill": {
     "duration": 0.949579,
     "end_time": "2023-11-19T23:55:18.213721",
     "exception": false,
     "start_time": "2023-11-19T23:55:17.264142",
     "status": "completed"
    },
    "tags": []
   },
   "outputs": [],
   "source": [
    "plt.figure(figsize=(16, 2))\n",
    "sns.heatmap(\n",
    "    monster_crosstab_b[monster_crosstab_b > 0].T,\n",
    "    annot=True,\n",
    "    fmt=\"g\",\n",
    "    cmap=\"viridis\",\n",
    "    square=True,\n",
    "    norm=mc.LogNorm(),\n",
    ")\n",
    "plt.show()"
   ]
  },
  {
   "cell_type": "markdown",
   "id": "f2966e60-300a-4289-9a94-f14c49fa41d4",
   "metadata": {
    "jp-MarkdownHeadingCollapsed": true,
    "papermill": {
     "duration": 0.452854,
     "end_time": "2023-11-19T23:55:18.738545",
     "exception": false,
     "start_time": "2023-11-19T23:55:18.285691",
     "status": "completed"
    },
    "tags": []
   },
   "source": [
    "### Effect type"
   ]
  },
  {
   "cell_type": "code",
   "execution_count": null,
   "id": "b44949a6",
   "metadata": {
    "papermill": {
     "duration": 0.177741,
     "end_time": "2023-11-19T23:55:19.380696",
     "exception": false,
     "start_time": "2023-11-19T23:55:19.202955",
     "status": "completed"
    },
    "tags": []
   },
   "outputs": [],
   "source": [
    "print(\"Total number of effect types:\", rush_df[\"Effect type\"].explode().nunique())"
   ]
  },
  {
   "cell_type": "code",
   "execution_count": null,
   "id": "c4e48718",
   "metadata": {
    "papermill": {
     "duration": 0.182163,
     "end_time": "2023-11-19T23:55:19.834454",
     "exception": false,
     "start_time": "2023-11-19T23:55:19.652291",
     "status": "completed"
    },
    "tags": []
   },
   "outputs": [],
   "source": [
    "rush_df[rush_df[\"Effect type\"].notna()].drop(columns=[\"Card type\"]).explode(\n",
    "    \"Effect type\"\n",
    ").groupby(\"Effect type\").nunique()"
   ]
  },
  {
   "cell_type": "code",
   "execution_count": null,
   "id": "ff912d52",
   "metadata": {
    "papermill": {
     "duration": 0.357529,
     "end_time": "2023-11-19T23:55:20.254601",
     "exception": false,
     "start_time": "2023-11-19T23:55:19.897072",
     "status": "completed"
    },
    "tags": []
   },
   "outputs": [],
   "source": [
    "monster_effect_colors = colors_dict[\"Effect Monster\"]\n",
    "rush_df[\"Effect type\"].explode(\"Effect type\").value_counts().plot.bar(\n",
    "    figsize=(18, 6), grid=True, color=monster_effect_colors, title=\"Effect type\"\n",
    ")\n",
    "# plt.yscale('log')\n",
    "plt.show()"
   ]
  },
  {
   "cell_type": "markdown",
   "id": "536f68c4-f64a-4c69-a143-0a5c8b0292b1",
   "metadata": {
    "jp-MarkdownHeadingCollapsed": true,
    "papermill": {
     "duration": 0.117736,
     "end_time": "2023-11-19T23:55:20.514925",
     "exception": false,
     "start_time": "2023-11-19T23:55:20.397189",
     "status": "completed"
    },
    "tags": []
   },
   "source": [
    "### ATK"
   ]
  },
  {
   "cell_type": "code",
   "execution_count": null,
   "id": "1b5db865",
   "metadata": {
    "papermill": {
     "duration": 0.403755,
     "end_time": "2023-11-19T23:55:21.199976",
     "exception": false,
     "start_time": "2023-11-19T23:55:20.796221",
     "status": "completed"
    },
    "tags": []
   },
   "outputs": [],
   "source": [
    "print(\"Total number of ATK values:\", rush_df[\"ATK\"].nunique())"
   ]
  },
  {
   "cell_type": "code",
   "execution_count": null,
   "id": "16b9aa14",
   "metadata": {
    "papermill": {
     "duration": 0.116057,
     "end_time": "2023-11-19T23:55:21.456137",
     "exception": false,
     "start_time": "2023-11-19T23:55:21.340080",
     "status": "completed"
    },
    "tags": []
   },
   "outputs": [],
   "source": [
    "rush_df.drop(columns=[\"Card type\"]).groupby(\"ATK\").nunique().sort_index(\n",
    "    key=lambda x: pd.to_numeric(x, errors=\"coerce\")\n",
    ")"
   ]
  },
  {
   "cell_type": "code",
   "execution_count": null,
   "id": "3b1b2e1d",
   "metadata": {
    "papermill": {
     "duration": 0.57245,
     "end_time": "2023-11-19T23:55:22.105589",
     "exception": false,
     "start_time": "2023-11-19T23:55:21.533139",
     "status": "completed"
    },
    "tags": []
   },
   "outputs": [],
   "source": [
    "atk_colors = colors_dict[\"Monster Card\"]\n",
    "rush_df[\"DEF\"].value_counts().sort_index(\n",
    "    key=lambda x: pd.to_numeric(x, errors=\"coerce\")\n",
    ").plot.bar(figsize=(18, 6), grid=True, color=atk_colors, title=\"ATK\")\n",
    "plt.show()"
   ]
  },
  {
   "cell_type": "markdown",
   "id": "c59b1e9d-4376-4476-bcf0-f899852cbffa",
   "metadata": {
    "jp-MarkdownHeadingCollapsed": true,
    "papermill": {
     "duration": 0.472447,
     "end_time": "2023-11-19T23:55:22.643513",
     "exception": false,
     "start_time": "2023-11-19T23:55:22.171066",
     "status": "completed"
    },
    "tags": []
   },
   "source": [
    "### DEF"
   ]
  },
  {
   "cell_type": "code",
   "execution_count": null,
   "id": "2aa0ba61",
   "metadata": {
    "papermill": {
     "duration": 0.790758,
     "end_time": "2023-11-19T23:55:23.929706",
     "exception": false,
     "start_time": "2023-11-19T23:55:23.138948",
     "status": "completed"
    },
    "tags": []
   },
   "outputs": [],
   "source": [
    "print(\"Total number of DEF values:\", rush_df[\"DEF\"].nunique())"
   ]
  },
  {
   "cell_type": "code",
   "execution_count": null,
   "id": "54e9d56a",
   "metadata": {
    "papermill": {
     "duration": 0.14231,
     "end_time": "2023-11-19T23:55:24.138549",
     "exception": false,
     "start_time": "2023-11-19T23:55:23.996239",
     "status": "completed"
    },
    "tags": []
   },
   "outputs": [],
   "source": [
    "rush_df.drop(columns=[\"Card type\"]).groupby(\"DEF\").nunique().sort_index(\n",
    "    key=lambda x: pd.to_numeric(x, errors=\"coerce\")\n",
    ")"
   ]
  },
  {
   "cell_type": "code",
   "execution_count": null,
   "id": "10aeff48",
   "metadata": {
    "papermill": {
     "duration": 0.926679,
     "end_time": "2023-11-19T23:55:25.222054",
     "exception": false,
     "start_time": "2023-11-19T23:55:24.295375",
     "status": "completed"
    },
    "tags": []
   },
   "outputs": [],
   "source": [
    "def_colors = colors_dict[\"Monster Card\"]\n",
    "rush_df[\"DEF\"].value_counts().sort_index(\n",
    "    key=lambda x: pd.to_numeric(x, errors=\"coerce\")\n",
    ").plot.bar(figsize=(18, 6), grid=True, color=def_colors, title=\"DEF\")\n",
    "plt.show()"
   ]
  },
  {
   "cell_type": "markdown",
   "id": "434575eb-282b-4784-91a1-d7c60720f002",
   "metadata": {
    "papermill": {
     "duration": 0.853196,
     "end_time": "2023-11-19T23:55:26.142837",
     "exception": false,
     "start_time": "2023-11-19T23:55:25.289641",
     "status": "completed"
    },
    "tags": []
   },
   "source": [
    "### Maximum mode"
   ]
  },
  {
   "cell_type": "code",
   "execution_count": null,
   "id": "140eabff-eae1-49a8-8320-632534615818",
   "metadata": {
    "papermill": {
     "duration": 0.079239,
     "end_time": "2023-11-19T23:55:26.289426",
     "exception": false,
     "start_time": "2023-11-19T23:55:26.210187",
     "status": "completed"
    },
    "tags": []
   },
   "outputs": [],
   "source": [
    "print(\"Total cards requiring maximum mode:\", rush_df[\"Maximum mode\"].sum())"
   ]
  },
  {
   "cell_type": "code",
   "execution_count": null,
   "id": "a30dcb57-c8ff-462f-80e5-ea612206439d",
   "metadata": {
    "papermill": {
     "duration": 0.255566,
     "end_time": "2023-11-19T23:55:26.635457",
     "exception": false,
     "start_time": "2023-11-19T23:55:26.379891",
     "status": "completed"
    },
    "tags": []
   },
   "outputs": [],
   "source": [
    "rush_df[rush_df[\"Maximum mode\"]]"
   ]
  },
  {
   "cell_type": "markdown",
   "id": "d26839a4-f930-41f3-9df2-0209f0a25bdb",
   "metadata": {
    "papermill": {
     "duration": 0.269082,
     "end_time": "2023-11-19T23:55:26.972004",
     "exception": false,
     "start_time": "2023-11-19T23:55:26.702922",
     "status": "completed"
    },
    "tags": []
   },
   "source": [
    "#### MAXIMUM ATK"
   ]
  },
  {
   "cell_type": "code",
   "execution_count": null,
   "id": "317ce825-1d9b-4a99-ad39-93ee7a64db0a",
   "metadata": {
    "papermill": {
     "duration": 0.13425,
     "end_time": "2023-11-19T23:55:27.246713",
     "exception": false,
     "start_time": "2023-11-19T23:55:27.112463",
     "status": "completed"
    },
    "tags": []
   },
   "outputs": [],
   "source": [
    "print(\"Total number of MAXIMUM ATK values:\", rush_df[\"MAXIMUM ATK\"].nunique())"
   ]
  },
  {
   "cell_type": "code",
   "execution_count": null,
   "id": "5c9e9e4c-7307-4396-968c-32ec8af00a45",
   "metadata": {
    "papermill": {
     "duration": 0.387687,
     "end_time": "2023-11-19T23:55:27.955608",
     "exception": false,
     "start_time": "2023-11-19T23:55:27.567921",
     "status": "completed"
    },
    "tags": []
   },
   "outputs": [],
   "source": [
    "def_colors = colors_dict[\"Monster Card\"]\n",
    "rush_df[\"MAXIMUM ATK\"].value_counts().sort_index(\n",
    "    key=lambda x: pd.to_numeric(x, errors=\"coerce\")\n",
    ").plot.bar(figsize=(18, 6), grid=True, color=def_colors, title=\"MAXIMUM ATK\")\n",
    "plt.show()"
   ]
  },
  {
   "cell_type": "markdown",
   "id": "7c569d49-6d1f-4c1e-a877-e761e12d33cf",
   "metadata": {
    "papermill": {
     "duration": 0.170979,
     "end_time": "2023-11-19T23:55:28.195671",
     "exception": false,
     "start_time": "2023-11-19T23:55:28.024692",
     "status": "completed"
    },
    "tags": []
   },
   "source": [
    "##### By ATK"
   ]
  },
  {
   "cell_type": "code",
   "execution_count": null,
   "id": "bbde5543-da0d-422f-a9f9-c19951962f19",
   "metadata": {
    "papermill": {
     "duration": 0.178752,
     "end_time": "2023-11-19T23:55:28.475108",
     "exception": false,
     "start_time": "2023-11-19T23:55:28.296356",
     "status": "completed"
    },
    "tags": []
   },
   "outputs": [],
   "source": [
    "max_atk_crosstab = pd.crosstab(rush_df[\"ATK\"], rush_df[\"MAXIMUM ATK\"])\n",
    "max_atk_crosstab"
   ]
  },
  {
   "cell_type": "markdown",
   "id": "50eb5c02-b33d-4ff7-91d5-34dad1789d9f",
   "metadata": {
    "papermill": {
     "duration": 0.465067,
     "end_time": "2023-11-19T23:55:29.318836",
     "exception": false,
     "start_time": "2023-11-19T23:55:28.853769",
     "status": "completed"
    },
    "tags": []
   },
   "source": [
    "##### By DEF"
   ]
  },
  {
   "cell_type": "code",
   "execution_count": null,
   "id": "70a88253-776a-4c17-a165-2d43e15a26a0",
   "metadata": {
    "papermill": {
     "duration": 0.137339,
     "end_time": "2023-11-19T23:55:29.825645",
     "exception": false,
     "start_time": "2023-11-19T23:55:29.688306",
     "status": "completed"
    },
    "tags": []
   },
   "outputs": [],
   "source": [
    "max_def_crosstab = pd.crosstab(rush_df[\"DEF\"], rush_df[\"MAXIMUM ATK\"])\n",
    "max_def_crosstab"
   ]
  },
  {
   "cell_type": "markdown",
   "id": "67f66807-7364-40dd-a14e-5ba64dcc4897",
   "metadata": {
    "jp-MarkdownHeadingCollapsed": true,
    "papermill": {
     "duration": 0.302777,
     "end_time": "2023-11-19T23:55:30.279814",
     "exception": false,
     "start_time": "2023-11-19T23:55:29.977037",
     "status": "completed"
    },
    "tags": []
   },
   "source": [
    "### Level/Rank"
   ]
  },
  {
   "cell_type": "code",
   "execution_count": null,
   "id": "f5543138",
   "metadata": {
    "papermill": {
     "duration": 0.355336,
     "end_time": "2023-11-19T23:55:30.842432",
     "exception": false,
     "start_time": "2023-11-19T23:55:30.487096",
     "status": "completed"
    },
    "tags": []
   },
   "outputs": [],
   "source": [
    "rush_df.drop(columns=[\"Card type\"]).groupby(\"Level/Rank\").nunique().sort_index(\n",
    "    key=lambda x: pd.to_numeric(x, errors=\"coerce\")\n",
    ")"
   ]
  },
  {
   "cell_type": "code",
   "execution_count": null,
   "id": "31539bdc",
   "metadata": {
    "papermill": {
     "duration": 0.345926,
     "end_time": "2023-11-19T23:55:31.424172",
     "exception": false,
     "start_time": "2023-11-19T23:55:31.078246",
     "status": "completed"
    },
    "tags": []
   },
   "outputs": [],
   "source": [
    "stars_colors = colors_dict[\"Level\"]\n",
    "rush_df[\"Level/Rank\"].value_counts().sort_index(\n",
    "    key=lambda x: pd.to_numeric(x, errors=\"coerce\")\n",
    ").plot.bar(figsize=(18, 6), grid=True, rot=0, color=stars_colors, title=\"Level/Rank\")\n",
    "plt.show()"
   ]
  },
  {
   "cell_type": "markdown",
   "id": "817d4818-7e1c-4978-8cd1-f4d4dc814591",
   "metadata": {
    "papermill": {
     "duration": 0.099155,
     "end_time": "2023-11-19T23:55:31.593238",
     "exception": false,
     "start_time": "2023-11-19T23:55:31.494083",
     "status": "completed"
    },
    "tags": []
   },
   "source": [
    "#### ATK statistics"
   ]
  },
  {
   "cell_type": "code",
   "execution_count": null,
   "id": "06dc9107",
   "metadata": {
    "papermill": {
     "duration": 0.137245,
     "end_time": "2023-11-19T23:55:32.028561",
     "exception": false,
     "start_time": "2023-11-19T23:55:31.891316",
     "status": "completed"
    },
    "tags": []
   },
   "outputs": [],
   "source": [
    "rush_df[[\"Level/Rank\", \"ATK\"]].apply(pd.to_numeric, errors=\"coerce\").dropna().astype(\n",
    "    int\n",
    ").groupby(\"Level/Rank\").describe()"
   ]
  },
  {
   "cell_type": "markdown",
   "id": "dbc8ab5d-d288-4830-9850-373404e6aa36",
   "metadata": {
    "papermill": {
     "duration": 0.165188,
     "end_time": "2023-11-19T23:55:32.268609",
     "exception": false,
     "start_time": "2023-11-19T23:55:32.103421",
     "status": "completed"
    },
    "tags": []
   },
   "source": [
    "#### DEF statistics"
   ]
  },
  {
   "cell_type": "code",
   "execution_count": null,
   "id": "cc005e78",
   "metadata": {
    "papermill": {
     "duration": 0.220003,
     "end_time": "2023-11-19T23:55:32.649289",
     "exception": false,
     "start_time": "2023-11-19T23:55:32.429286",
     "status": "completed"
    },
    "tags": []
   },
   "outputs": [],
   "source": [
    "rush_df[[\"Level/Rank\", \"DEF\"]].apply(pd.to_numeric, errors=\"coerce\").dropna().astype(\n",
    "    int\n",
    ").groupby(\"Level/Rank\").describe()"
   ]
  },
  {
   "cell_type": "markdown",
   "id": "09674a4a-a317-465a-9e5d-da5de3b882a4",
   "metadata": {
    "papermill": {
     "duration": 0.444821,
     "end_time": "2023-11-19T23:55:33.282193",
     "exception": false,
     "start_time": "2023-11-19T23:55:32.837372",
     "status": "completed"
    },
    "tags": []
   },
   "source": [
    "## Spell & Trap"
   ]
  },
  {
   "cell_type": "markdown",
   "id": "e02f27a3-76bc-4f72-965f-6e8f253c77a6",
   "metadata": {
    "papermill": {
     "duration": 0.187165,
     "end_time": "2023-11-19T23:55:33.587712",
     "exception": false,
     "start_time": "2023-11-19T23:55:33.400547",
     "status": "completed"
    },
    "tags": []
   },
   "source": [
    "### Properties"
   ]
  },
  {
   "cell_type": "code",
   "execution_count": null,
   "id": "00501a98-d5da-4e0d-a628-1f0a13592290",
   "metadata": {
    "papermill": {
     "duration": 0.168164,
     "end_time": "2023-11-19T23:55:34.001485",
     "exception": false,
     "start_time": "2023-11-19T23:55:33.833321",
     "status": "completed"
    },
    "tags": []
   },
   "outputs": [],
   "source": [
    "print(\"Total number of properties:\", rush_df[\"Property\"].nunique())"
   ]
  },
  {
   "cell_type": "code",
   "execution_count": null,
   "id": "efbb94e7-b9d0-4ddf-953e-b8964b398808",
   "metadata": {
    "papermill": {
     "duration": 0.189417,
     "end_time": "2023-11-19T23:55:34.285616",
     "exception": false,
     "start_time": "2023-11-19T23:55:34.096199",
     "status": "completed"
    },
    "tags": []
   },
   "outputs": [],
   "source": [
    "rush_df.drop(columns=[\"Card type\"]).groupby(\"Property\").nunique()"
   ]
  },
  {
   "cell_type": "code",
   "execution_count": null,
   "id": "d872f324-06f2-4d36-b377-c0d0a42c4fa1",
   "metadata": {
    "papermill": {
     "duration": 0.339839,
     "end_time": "2023-11-19T23:55:34.731295",
     "exception": false,
     "start_time": "2023-11-19T23:55:34.391456",
     "status": "completed"
    },
    "tags": []
   },
   "outputs": [],
   "source": [
    "st_colors = [\n",
    "    colors_dict[i]\n",
    "    for i in rush_df[[\"Card type\", \"Property\"]].value_counts().index.get_level_values(0)\n",
    "]\n",
    "rush_df[\"Property\"].value_counts().plot.bar(\n",
    "    figsize=(18, 6), grid=True, rot=45, color=st_colors, title=\"Property\"\n",
    ")\n",
    "plt.show()"
   ]
  },
  {
   "cell_type": "markdown",
   "id": "252d9b8a-b8e5-4a10-9beb-dd1bb5ee3d18",
   "metadata": {
    "papermill": {
     "duration": 0.168686,
     "end_time": "2023-11-19T23:55:34.972068",
     "exception": false,
     "start_time": "2023-11-19T23:55:34.803382",
     "status": "completed"
    },
    "tags": []
   },
   "source": [
    "## Archseries"
   ]
  },
  {
   "cell_type": "code",
   "execution_count": null,
   "id": "ce1470dc",
   "metadata": {
    "papermill": {
     "duration": 0.096548,
     "end_time": "2023-11-19T23:55:35.179928",
     "exception": false,
     "start_time": "2023-11-19T23:55:35.083380",
     "status": "completed"
    },
    "tags": []
   },
   "outputs": [],
   "source": [
    "exploded_archseries = rush_df.explode(\"Archseries\")\n",
    "print(\"Total number of Archseries:\", exploded_archseries[\"Archseries\"].nunique())"
   ]
  },
  {
   "cell_type": "code",
   "execution_count": null,
   "id": "f31c5b8c",
   "metadata": {
    "papermill": {
     "duration": 0.665658,
     "end_time": "2023-11-19T23:55:36.085161",
     "exception": false,
     "start_time": "2023-11-19T23:55:35.419503",
     "status": "completed"
    },
    "tags": []
   },
   "outputs": [],
   "source": [
    "exploded_archseries.groupby(\"Archseries\").nunique()"
   ]
  },
  {
   "cell_type": "code",
   "execution_count": null,
   "id": "00c9f321",
   "metadata": {
    "papermill": {
     "duration": 1.369349,
     "end_time": "2023-11-19T23:55:37.612594",
     "exception": false,
     "start_time": "2023-11-19T23:55:36.243245",
     "status": "completed"
    },
    "tags": []
   },
   "outputs": [],
   "source": [
    "exploded_archseries[\"Archseries\"].value_counts().plot.barh(\n",
    "    figsize=(10, 20), grid=True, title=\"Archtypes/Series\"\n",
    ")\n",
    "plt.show()"
   ]
  },
  {
   "cell_type": "markdown",
   "id": "8a22c1c7-5a95-4110-ae01-79bff91c01ea",
   "metadata": {
    "jp-MarkdownHeadingCollapsed": true,
    "papermill": {
     "duration": 0.413264,
     "end_time": "2023-11-19T23:55:38.111593",
     "exception": false,
     "start_time": "2023-11-19T23:55:37.698329",
     "status": "completed"
    },
    "tags": []
   },
   "source": [
    "### By card type"
   ]
  },
  {
   "cell_type": "code",
   "execution_count": null,
   "id": "fbf65c3c",
   "metadata": {
    "papermill": {
     "duration": 0.665974,
     "end_time": "2023-11-19T23:55:39.070544",
     "exception": false,
     "start_time": "2023-11-19T23:55:38.404570",
     "status": "completed"
    },
    "tags": []
   },
   "outputs": [],
   "source": [
    "archseries_crosstab = pd.crosstab(\n",
    "    exploded_archseries[\"Archseries\"], exploded_archseries[\"Card type\"], margins=True\n",
    ")\n",
    "archseries_crosstab"
   ]
  },
  {
   "cell_type": "markdown",
   "id": "65be4f84-7bd3-4de6-850a-dff20f8db6f8",
   "metadata": {
    "jp-MarkdownHeadingCollapsed": true,
    "papermill": {
     "duration": 0.298716,
     "end_time": "2023-11-19T23:55:39.649039",
     "exception": false,
     "start_time": "2023-11-19T23:55:39.350323",
     "status": "completed"
    },
    "tags": []
   },
   "source": [
    "### By primary type"
   ]
  },
  {
   "cell_type": "code",
   "execution_count": null,
   "id": "2c3671f0",
   "metadata": {
    "papermill": {
     "duration": 0.443872,
     "end_time": "2023-11-19T23:55:40.532110",
     "exception": false,
     "start_time": "2023-11-19T23:55:40.088238",
     "status": "completed"
    },
    "tags": []
   },
   "outputs": [],
   "source": [
    "archseries_crosstab_b = pd.crosstab(\n",
    "    exploded_archseries[\"Archseries\"], exploded_archseries[\"Primary type\"], margins=True\n",
    ")\n",
    "archseries_crosstab_b"
   ]
  },
  {
   "cell_type": "markdown",
   "id": "845facac-cd41-437e-941b-a5662cedef0b",
   "metadata": {
    "jp-MarkdownHeadingCollapsed": true,
    "papermill": {
     "duration": 0.262068,
     "end_time": "2023-11-19T23:55:40.902187",
     "exception": false,
     "start_time": "2023-11-19T23:55:40.640119",
     "status": "completed"
    },
    "tags": []
   },
   "source": [
    "### By monster type"
   ]
  },
  {
   "cell_type": "code",
   "execution_count": null,
   "id": "d99ee9e1",
   "metadata": {
    "papermill": {
     "duration": 0.44683,
     "end_time": "2023-11-19T23:55:41.520331",
     "exception": false,
     "start_time": "2023-11-19T23:55:41.073501",
     "status": "completed"
    },
    "tags": []
   },
   "outputs": [],
   "source": [
    "archseries_crosstab_d = pd.crosstab(\n",
    "    exploded_archseries[\"Archseries\"], exploded_archseries[\"Monster type\"], margins=True\n",
    ")\n",
    "archseries_crosstab_d"
   ]
  },
  {
   "cell_type": "markdown",
   "id": "316cdb28-4129-4b36-aa0a-db223739c2ab",
   "metadata": {
    "jp-MarkdownHeadingCollapsed": true,
    "papermill": {
     "duration": 0.631615,
     "end_time": "2023-11-19T23:55:42.455297",
     "exception": false,
     "start_time": "2023-11-19T23:55:41.823682",
     "status": "completed"
    },
    "tags": []
   },
   "source": [
    "### By property"
   ]
  },
  {
   "cell_type": "code",
   "execution_count": null,
   "id": "fbbb1ccc",
   "metadata": {
    "papermill": {
     "duration": 0.392086,
     "end_time": "2023-11-19T23:55:43.859554",
     "exception": false,
     "start_time": "2023-11-19T23:55:43.467468",
     "status": "completed"
    },
    "tags": []
   },
   "outputs": [],
   "source": [
    "archseries_crosstab_e = pd.crosstab(\n",
    "    exploded_archseries[\"Archseries\"], exploded_archseries[\"Property\"], margins=True\n",
    ")\n",
    "archseries_crosstab_e"
   ]
  },
  {
   "cell_type": "markdown",
   "id": "b502bfe6-e19b-4d35-a32e-7b6a281d124c",
   "metadata": {
    "papermill": {
     "duration": 0.26156,
     "end_time": "2023-11-19T23:55:44.302627",
     "exception": false,
     "start_time": "2023-11-19T23:55:44.041067",
     "status": "completed"
    },
    "tags": []
   },
   "source": [
    "## Legend"
   ]
  },
  {
   "cell_type": "code",
   "execution_count": null,
   "id": "b964ae84-be57-4250-9ce1-9b1f343ad9de",
   "metadata": {
    "papermill": {
     "duration": 0.543457,
     "end_time": "2023-11-19T23:55:44.994589",
     "exception": false,
     "start_time": "2023-11-19T23:55:44.451132",
     "status": "completed"
    },
    "tags": []
   },
   "outputs": [],
   "source": [
    "print(\"Total number of Legend cards\", rush_df[\"Legend\"].sum())"
   ]
  },
  {
   "cell_type": "code",
   "execution_count": null,
   "id": "2b29be8f-886c-4663-aeb4-8291301916e1",
   "metadata": {
    "papermill": {
     "duration": 0.143019,
     "end_time": "2023-11-19T23:55:45.216638",
     "exception": false,
     "start_time": "2023-11-19T23:55:45.073619",
     "status": "completed"
    },
    "tags": []
   },
   "outputs": [],
   "source": [
    "rush_df[rush_df[\"Legend\"]]"
   ]
  },
  {
   "cell_type": "markdown",
   "id": "72e1a0d0-710e-4f43-a879-95db76e004a3",
   "metadata": {
    "papermill": {
     "duration": 0.208947,
     "end_time": "2023-11-19T23:55:45.723322",
     "exception": false,
     "start_time": "2023-11-19T23:55:45.514375",
     "status": "completed"
    },
    "tags": []
   },
   "source": [
    "#### By card type"
   ]
  },
  {
   "cell_type": "code",
   "execution_count": null,
   "id": "a9a40b74-a725-4b1b-a112-3f0a6fbfcd27",
   "metadata": {
    "papermill": {
     "duration": 0.519429,
     "end_time": "2023-11-19T23:55:46.455726",
     "exception": false,
     "start_time": "2023-11-19T23:55:45.936297",
     "status": "completed"
    },
    "tags": []
   },
   "outputs": [],
   "source": [
    "card_type_colors = [\n",
    "    colors_dict[i] for i in rush_df[rush_df[\"Legend\"]][\"Card type\"].value_counts().index\n",
    "]\n",
    "rush_df[rush_df[\"Legend\"]][\"Card type\"].value_counts().plot.bar(\n",
    "    figsize=(18, 6), grid=True, rot=0, color=card_type_colors, title=\"Card type\"\n",
    ")\n",
    "plt.show()"
   ]
  },
  {
   "cell_type": "markdown",
   "id": "1a64d032-a70e-48ac-9708-38cc771dba2a",
   "metadata": {
    "papermill": {
     "duration": 0.273467,
     "end_time": "2023-11-19T23:55:46.811700",
     "exception": false,
     "start_time": "2023-11-19T23:55:46.538233",
     "status": "completed"
    },
    "tags": []
   },
   "source": [
    "#### By Attribute"
   ]
  },
  {
   "cell_type": "code",
   "execution_count": null,
   "id": "ee9e1a51-7615-4715-9596-864a4541b72f",
   "metadata": {
    "papermill": {
     "duration": 0.416467,
     "end_time": "2023-11-19T23:55:47.411030",
     "exception": false,
     "start_time": "2023-11-19T23:55:46.994563",
     "status": "completed"
    },
    "tags": []
   },
   "outputs": [],
   "source": [
    "attribute_colors = [\n",
    "    colors_dict[i] for i in rush_df[rush_df[\"Legend\"]][\"Attribute\"].value_counts().index\n",
    "]\n",
    "rush_df[rush_df[\"Legend\"]][\"Attribute\"].value_counts().plot.bar(\n",
    "    figsize=(18, 6), grid=True, rot=0, color=attribute_colors, title=\"Attribute\"\n",
    ")\n",
    "plt.show()"
   ]
  },
  {
   "cell_type": "markdown",
   "id": "b3cb67be-f040-4b27-a8c3-d53cabe13eb6",
   "metadata": {
    "papermill": {
     "duration": 0.43252,
     "end_time": "2023-11-19T23:55:47.925390",
     "exception": false,
     "start_time": "2023-11-19T23:55:47.492870",
     "status": "completed"
    },
    "tags": []
   },
   "source": [
    "#### By primary type"
   ]
  },
  {
   "cell_type": "code",
   "execution_count": null,
   "id": "7fb2f031-eb86-4039-9327-003e9c482d4d",
   "metadata": {
    "papermill": {
     "duration": 0.652308,
     "end_time": "2023-11-19T23:55:48.791178",
     "exception": false,
     "start_time": "2023-11-19T23:55:48.138870",
     "status": "completed"
    },
    "tags": []
   },
   "outputs": [],
   "source": [
    "monster_type_colors = [\n",
    "    colors_dict[i]\n",
    "    for i in rush_df[rush_df[\"Legend\"]][\"Primary type\"].value_counts().index\n",
    "]\n",
    "rush_df[rush_df[\"Legend\"]][\"Primary type\"].value_counts().plot.bar(\n",
    "    figsize=(18, 6),\n",
    "    stacked=True,\n",
    "    grid=True,\n",
    "    rot=0,\n",
    "    legend=True,\n",
    "    color=monster_type_colors,\n",
    "    title=\"Primary types\",\n",
    ")\n",
    "# plt.yscale('log')\n",
    "plt.show()"
   ]
  },
  {
   "cell_type": "markdown",
   "id": "0be46d57-0758-4ae0-b274-ddb4130361f7",
   "metadata": {
    "papermill": {
     "duration": 0.181282,
     "end_time": "2023-11-19T23:55:49.056566",
     "exception": false,
     "start_time": "2023-11-19T23:55:48.875284",
     "status": "completed"
    },
    "tags": []
   },
   "source": [
    "#### By monster type"
   ]
  },
  {
   "cell_type": "code",
   "execution_count": null,
   "id": "d6db96fd-2340-4162-b6a1-55348e7653f4",
   "metadata": {
    "papermill": {
     "duration": 0.617345,
     "end_time": "2023-11-19T23:55:49.821081",
     "exception": false,
     "start_time": "2023-11-19T23:55:49.203736",
     "status": "completed"
    },
    "tags": []
   },
   "outputs": [],
   "source": [
    "monster_type_colors = colors_dict[\"Monster Card\"]\n",
    "rush_df[rush_df[\"Legend\"]][\"Monster type\"].value_counts().plot.bar(\n",
    "    figsize=(18, 6), grid=True, rot=0, color=monster_type_colors, title=\"Monster type\"\n",
    ")\n",
    "plt.show()"
   ]
  },
  {
   "cell_type": "markdown",
   "id": "7384cb37-3207-4eb4-842a-9b4d39f74eb1",
   "metadata": {
    "jp-MarkdownHeadingCollapsed": true,
    "papermill": {
     "duration": 0.079516,
     "end_time": "2023-11-19T23:55:50.176674",
     "exception": false,
     "start_time": "2023-11-19T23:55:50.097158",
     "status": "completed"
    },
    "tags": []
   },
   "source": [
    "## Artworks"
   ]
  },
  {
   "cell_type": "code",
   "execution_count": null,
   "id": "2224e061",
   "metadata": {
    "papermill": {
     "duration": 0.21822,
     "end_time": "2023-11-19T23:55:50.581114",
     "exception": false,
     "start_time": "2023-11-19T23:55:50.362894",
     "status": "completed"
    },
    "tags": []
   },
   "outputs": [],
   "source": [
    "print(\n",
    "    \"Total number of cards with edited or alternate artworks:\",\n",
    "    rush_df[\"Artwork\"].count(),\n",
    ")"
   ]
  },
  {
   "cell_type": "code",
   "execution_count": null,
   "id": "f7492a67",
   "metadata": {
    "papermill": {
     "duration": 0.350339,
     "end_time": "2023-11-19T23:55:51.235443",
     "exception": false,
     "start_time": "2023-11-19T23:55:50.885104",
     "status": "completed"
    },
    "tags": []
   },
   "outputs": [],
   "source": [
    "rush_df[[\"Name\", \"Artwork\"]].dropna()"
   ]
  },
  {
   "cell_type": "code",
   "execution_count": null,
   "id": "fa1ea6aa",
   "metadata": {
    "papermill": {
     "duration": 0.306938,
     "end_time": "2023-11-19T23:55:51.697449",
     "exception": false,
     "start_time": "2023-11-19T23:55:51.390511",
     "status": "completed"
    },
    "tags": []
   },
   "outputs": [],
   "source": [
    "artwork_value_counts = rush_df[\"Artwork\"].value_counts()\n",
    "plt.figure(figsize=(20, 8))\n",
    "plt.title(\"Artworks\")\n",
    "venn2(\n",
    "    subsets=(\n",
    "        artwork_value_counts[(\"Alternate\",)],\n",
    "        artwork_value_counts[(\"Edited\",)],\n",
    "        artwork_value_counts[(\"Alternate\", \"Edited\")],\n",
    "    ),\n",
    "    set_labels=(\"Alternate artwork\", \"Edited artwork\"),\n",
    ")\n",
    "plt.show()"
   ]
  },
  {
   "cell_type": "markdown",
   "id": "4d4723fb-3289-4046-9674-97fc05562588",
   "metadata": {
    "papermill": {
     "duration": 0.218652,
     "end_time": "2023-11-19T23:55:52.003413",
     "exception": false,
     "start_time": "2023-11-19T23:55:51.784761",
     "status": "completed"
    },
    "tags": []
   },
   "source": [
    "### By card type"
   ]
  },
  {
   "cell_type": "code",
   "execution_count": null,
   "id": "1b14c224",
   "metadata": {
    "papermill": {
     "duration": 0.30762,
     "end_time": "2023-11-19T23:55:52.666454",
     "exception": false,
     "start_time": "2023-11-19T23:55:52.358834",
     "status": "completed"
    },
    "tags": []
   },
   "outputs": [],
   "source": [
    "artwork_crosstab = pd.crosstab(rush_df[\"Artwork\"], rush_df[\"Card type\"])\n",
    "artwork_crosstab"
   ]
  },
  {
   "cell_type": "markdown",
   "id": "cd278ab5-2602-4935-83ee-0f8d04139770",
   "metadata": {
    "papermill": {
     "duration": 0.371599,
     "end_time": "2023-11-19T23:55:53.381513",
     "exception": false,
     "start_time": "2023-11-19T23:55:53.009914",
     "status": "completed"
    },
    "tags": []
   },
   "source": [
    "### By primary type"
   ]
  },
  {
   "cell_type": "code",
   "execution_count": null,
   "id": "55081aa0",
   "metadata": {
    "papermill": {
     "duration": 0.197991,
     "end_time": "2023-11-19T23:55:53.728850",
     "exception": false,
     "start_time": "2023-11-19T23:55:53.530859",
     "status": "completed"
    },
    "tags": []
   },
   "outputs": [],
   "source": [
    "artwork_crosstab_b = pd.crosstab(rush_df[\"Artwork\"], rush_df[\"Primary type\"])\n",
    "artwork_crosstab_b"
   ]
  },
  {
   "cell_type": "markdown",
   "id": "c981a204-49eb-42f3-b713-ceb7d5f65d10",
   "metadata": {
    "papermill": {
     "duration": 0.139545,
     "end_time": "2023-11-19T23:55:54.396878",
     "exception": false,
     "start_time": "2023-11-19T23:55:54.257333",
     "status": "completed"
    },
    "tags": []
   },
   "source": [
    "More granularity is unnecessary"
   ]
  },
  {
   "cell_type": "markdown",
   "id": "cb773a63-3390-46ec-9581-2699cad489d0",
   "metadata": {
    "jp-MarkdownHeadingCollapsed": true,
    "papermill": {
     "duration": 0.190199,
     "end_time": "2023-11-19T23:55:54.670790",
     "exception": false,
     "start_time": "2023-11-19T23:55:54.480591",
     "status": "completed"
    },
    "tags": []
   },
   "source": [
    "## Errata"
   ]
  },
  {
   "cell_type": "code",
   "execution_count": null,
   "id": "09b33100",
   "metadata": {
    "papermill": {
     "duration": 0.167981,
     "end_time": "2023-11-19T23:55:54.924635",
     "exception": false,
     "start_time": "2023-11-19T23:55:54.756654",
     "status": "completed"
    },
    "tags": []
   },
   "outputs": [],
   "source": [
    "print(\"Total number of cards with errata:\", rush_df[\"Errata\"].count())"
   ]
  },
  {
   "cell_type": "code",
   "execution_count": null,
   "id": "40462eee",
   "metadata": {
    "papermill": {
     "duration": 0.785166,
     "end_time": "2023-11-19T23:55:55.795323",
     "exception": false,
     "start_time": "2023-11-19T23:55:55.010157",
     "status": "completed"
    },
    "tags": []
   },
   "outputs": [],
   "source": [
    "rush_df[[\"Name\", \"Errata\"]].dropna()"
   ]
  },
  {
   "cell_type": "markdown",
   "id": "6dc9e131-7c84-4227-b438-773377e39bf4",
   "metadata": {
    "papermill": {
     "duration": 0.377336,
     "end_time": "2023-11-19T23:55:56.256993",
     "exception": false,
     "start_time": "2023-11-19T23:55:55.879657",
     "status": "completed"
    },
    "tags": []
   },
   "source": [
    "### By card type"
   ]
  },
  {
   "cell_type": "code",
   "execution_count": null,
   "id": "fb103c29",
   "metadata": {
    "papermill": {
     "duration": 0.667468,
     "end_time": "2023-11-19T23:55:57.777544",
     "exception": false,
     "start_time": "2023-11-19T23:55:57.110076",
     "status": "completed"
    },
    "tags": []
   },
   "outputs": [],
   "source": [
    "errata_crosstab = pd.crosstab(rush_df[\"Errata\"], rush_df[\"Card type\"])\n",
    "errata_crosstab"
   ]
  },
  {
   "cell_type": "markdown",
   "id": "edd51025-c854-4ba9-ade7-34928fad863a",
   "metadata": {
    "papermill": {
     "duration": 0.261654,
     "end_time": "2023-11-19T23:55:58.200823",
     "exception": false,
     "start_time": "2023-11-19T23:55:57.939169",
     "status": "completed"
    },
    "tags": []
   },
   "source": [
    "### By primary type"
   ]
  },
  {
   "cell_type": "code",
   "execution_count": null,
   "id": "5b90628d",
   "metadata": {
    "papermill": {
     "duration": 0.30247,
     "end_time": "2023-11-19T23:55:58.606240",
     "exception": false,
     "start_time": "2023-11-19T23:55:58.303770",
     "status": "completed"
    },
    "tags": []
   },
   "outputs": [],
   "source": [
    "errata_crosstab_b = pd.crosstab(rush_df[\"Errata\"], rush_df[\"Primary type\"])\n",
    "errata_crosstab_b"
   ]
  },
  {
   "cell_type": "markdown",
   "id": "15bd30db-5e91-46f1-9fa2-085c464f24b0",
   "metadata": {
    "papermill": {
     "duration": 0.18152,
     "end_time": "2023-11-19T23:55:59.125653",
     "exception": false,
     "start_time": "2023-11-19T23:55:58.944133",
     "status": "completed"
    },
    "tags": []
   },
   "source": [
    "### By artwork"
   ]
  },
  {
   "cell_type": "code",
   "execution_count": null,
   "id": "0057def3",
   "metadata": {
    "papermill": {
     "duration": 0.178451,
     "end_time": "2023-11-19T23:55:59.710406",
     "exception": false,
     "start_time": "2023-11-19T23:55:59.531955",
     "status": "completed"
    },
    "tags": []
   },
   "outputs": [],
   "source": [
    "errata_crosstab_c = pd.crosstab(rush_df[\"Artwork\"], rush_df[\"Errata\"])\n",
    "errata_crosstab_c"
   ]
  },
  {
   "cell_type": "markdown",
   "id": "092fb537-d487-46ae-9fc7-92a6082d3d95",
   "metadata": {
    "papermill": {
     "duration": 0.602527,
     "end_time": "2023-11-19T23:56:00.623861",
     "exception": false,
     "start_time": "2023-11-19T23:56:00.021334",
     "status": "completed"
    },
    "tags": []
   },
   "source": [
    "More granularity is unnecessary"
   ]
  },
  {
   "cell_type": "markdown",
   "id": "0d885c37-1f07-44af-9c60-2d0b5be3d1c1",
   "metadata": {
    "papermill": {
     "duration": 0.206393,
     "end_time": "2023-11-19T23:56:01.050708",
     "exception": false,
     "start_time": "2023-11-19T23:56:00.844315",
     "status": "completed"
    },
    "tags": []
   },
   "source": [
    "# Epilogue"
   ]
  },
  {
   "cell_type": "code",
   "execution_count": null,
   "id": "dbe203e9-01c7-4e24-ba21-3f1d1adefc7b",
   "metadata": {
    "papermill": {
     "duration": 0.858985,
     "end_time": "2023-11-19T23:56:02.538476",
     "exception": false,
     "start_time": "2023-11-19T23:56:01.679491",
     "status": "completed"
    },
    "tags": []
   },
   "outputs": [],
   "source": [
    "benchmark(\"rush\", timestamp)"
   ]
  },
  {
   "cell_type": "code",
   "execution_count": null,
   "id": "8ba1a4e5-c217-4503-871a-c29e6d6d325d",
   "metadata": {
    "papermill": {
     "duration": 0.396016,
     "end_time": "2023-11-19T23:56:03.087448",
     "exception": false,
     "start_time": "2023-11-19T23:56:02.691432",
     "status": "completed"
    },
    "tags": []
   },
   "outputs": [],
   "source": [
    "footer(timestamp)"
   ]
  },
  {
   "cell_type": "markdown",
   "id": "e9d01a2d-b954-4e6e-ba2c-d30cbbf5670e",
   "metadata": {
    "papermill": {
     "duration": 0.103943,
     "end_time": "2023-11-19T23:56:03.300300",
     "exception": false,
     "start_time": "2023-11-19T23:56:03.196357",
     "status": "completed"
    },
    "tags": []
   },
   "source": [
    "## HTML export"
   ]
  },
  {
   "cell_type": "code",
   "execution_count": null,
   "id": "3c939c45-1e4c-444a-93c9-d39c797c4946",
   "metadata": {
    "papermill": {
     "duration": 0.433488,
     "end_time": "2023-11-19T23:56:04.236883",
     "exception": false,
     "start_time": "2023-11-19T23:56:03.803395",
     "status": "completed"
    },
    "tags": []
   },
   "outputs": [],
   "source": [
    "# Save notebook on disck before generating HTML report\n",
    "save_notebook()"
   ]
  },
  {
   "cell_type": "code",
   "execution_count": null,
   "id": "7c071232-e7a7-4130-ab05-6331289df6f0",
   "metadata": {
    "papermill": {
     "duration": 3.70021,
     "end_time": "2023-11-19T23:56:08.062628",
     "exception": false,
     "start_time": "2023-11-19T23:56:04.362418",
     "status": "completed"
    },
    "tags": []
   },
   "outputs": [],
   "source": [
    "! jupyter nbconvert Rush.ipynb --output-dir='../' --to=HTML --TagRemovePreprocessor.enabled=True --TagRemovePreprocessor.remove_cell_tags='exclude' --TemplateExporter.exclude_input=True --TemplateExporter.exclude_input_prompt=True --TemplateExporter.exclude_output_prompt=True"
   ]
  },
  {
   "cell_type": "markdown",
   "id": "ca83b780-5172-40c2-a0de-ed7b5abc8dc1",
   "metadata": {
    "papermill": {
     "duration": 0.142792,
     "end_time": "2023-11-19T23:56:08.291727",
     "exception": false,
     "start_time": "2023-11-19T23:56:08.148935",
     "status": "completed"
    },
    "tags": [
     "exclude"
    ]
   },
   "source": [
    "## Git"
   ]
  },
  {
   "cell_type": "code",
   "execution_count": null,
   "id": "8706d855-ab53-49a9-9a7c-9a664a53e5a3",
   "metadata": {
    "papermill": {
     "duration": null,
     "end_time": null,
     "exception": false,
     "start_time": "2023-11-19T23:56:08.454669",
     "status": "running"
    },
    "tags": [
     "exclude"
    ]
   },
   "outputs": [],
   "source": [
    "! git add \"../*[Rr]ush*\""
   ]
  },
  {
   "cell_type": "code",
   "execution_count": null,
   "id": "1ef305d7-78a7-4649-920c-c0ca471ad3f8",
   "metadata": {
    "papermill": {
     "duration": null,
     "end_time": null,
     "exception": null,
     "start_time": null,
     "status": "pending"
    },
    "tags": [
     "exclude"
    ]
   },
   "outputs": [],
   "source": [
    "! git commit -m {\"'Rush duel update-\" + timestamp.isoformat() + \"'\"}"
   ]
  }
 ],
 "metadata": {
  "kernelspec": {
   "display_name": "Python 3 (ipykernel)",
   "language": "python",
   "name": "python3"
  },
  "language_info": {
   "codemirror_mode": {
    "name": "ipython",
    "version": 3
   },
   "file_extension": ".py",
   "mimetype": "text/x-python",
   "name": "python",
   "nbconvert_exporter": "python",
   "pygments_lexer": "ipython3",
   "version": "3.11.6"
  },
  "papermill": {
   "default_parameters": {},
   "duration": null,
   "end_time": null,
   "environment_variables": {},
   "exception": null,
   "input_path": "Rush.ipynb",
   "output_path": "Rush.ipynb",
   "parameters": {},
   "start_time": "2023-11-19T23:54:30.058098",
   "version": "2.4.0"
  },
  "toc": {
   "base_numbering": 1,
   "nav_menu": {},
   "number_sections": true,
   "sideBar": true,
   "skip_h1_title": false,
   "title_cell": "Table of Contents",
   "title_sidebar": "Contents",
   "toc_cell": true,
   "toc_position": {},
   "toc_section_display": true,
   "toc_window_display": false
  }
 },
 "nbformat": 4,
 "nbformat_minor": 5
}
