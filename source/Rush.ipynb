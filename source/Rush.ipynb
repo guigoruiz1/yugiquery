{
 "cells": [
  {
   "cell_type": "code",
   "execution_count": null,
   "id": "db3fea09-dd17-4d4f-9751-4db442584d19",
   "metadata": {
    "papermill": {
     "duration": 2.369866,
     "end_time": "2023-07-13T13:04:42.119304",
     "exception": false,
     "start_time": "2023-07-13T13:04:39.749438",
     "status": "completed"
    },
    "tags": []
   },
   "outputs": [],
   "source": [
    "from yugiquery import *\n",
    "\n",
    "header(\"Rush Duel\")"
   ]
  },
  {
   "cell_type": "markdown",
   "id": "f26c89c2-c447-43a2-997b-603775191de3",
   "metadata": {
    "papermill": {
     "duration": 0.044258,
     "end_time": "2023-07-13T13:04:42.200374",
     "exception": false,
     "start_time": "2023-07-13T13:04:42.156116",
     "status": "completed"
    },
    "tags": []
   },
   "source": [
    "---"
   ]
  },
  {
   "cell_type": "markdown",
   "id": "aef2db3f",
   "metadata": {
    "papermill": {
     "duration": 0.03853,
     "end_time": "2023-07-13T13:04:42.282481",
     "exception": false,
     "start_time": "2023-07-13T13:04:42.243951",
     "status": "completed"
    },
    "tags": []
   },
   "source": [
    "Table of Contents\n",
    "=================\n",
    "\n",
    "*   [1  Data aquisition](#Data-aquisition)\n",
    "    *   [1.1  Fetch online data](#Fetch-online-data)\n",
    "    *   [1.2  Merge data](#Merge-data)\n",
    "*   [2  Check changes](#Check-changes)\n",
    "    *   [2.1  Load previous data](#Load-previous-data)\n",
    "    *   [2.2  Generate changelog](#Generate-changelog)\n",
    "    *   [2.3  Save data](#Save-data)\n",
    "*   [3  Data visualization](#Data-visualization)\n",
    "    *   [3.1  Card type](#Card-type)\n",
    "    *   [3.2  Monsters](#Monsters)\n",
    "        *   [3.2.1  Attribute](#Attribute)\n",
    "        *   [3.2.2  Primary type](#Primary-type)\n",
    "            *   [3.2.2.1  Has effect discrimination](#Has-effect-discrimination)\n",
    "            *   [3.2.2.2  By attribute](#By-attribute)\n",
    "        *   [3.2.3  Monster type](#Monster-type)\n",
    "            *   [3.2.3.1  By Attribute](#By-Attribute)\n",
    "            *   [3.2.3.2  By primary type](#By-primary-type)\n",
    "        *   [3.2.4  Effect type](#Effect-type)\n",
    "        *   [3.2.5  ATK](#ATK)\n",
    "        *   [3.2.6  DEF](#DEF)\n",
    "        *   [3.2.7  Maximum mode](#Maximum-mode)\n",
    "            *   [3.2.7.1  MAXIMUM ATK](#MAXIMUM-ATK)\n",
    "        *   [3.2.8  Level/Rank](#Level/Rank)\n",
    "            *   [3.2.8.1  ATK statistics](#ATK-statistics)\n",
    "            *   [3.2.8.2  DEF statistics](#DEF-statistics)\n",
    "    *   [3.3  Spell & Trap](#Spell-&-Trap)\n",
    "        *   [3.3.1  Properties](#Properties)\n",
    "    *   [3.4  Archseries](#Archseries)\n",
    "        *   [3.4.1  By card type](#By-card-type)\n",
    "        *   [3.4.2  By primary type](#By-primary-type)\n",
    "        *   [3.4.3  By monster type](#By-monster-type)\n",
    "        *   [3.4.4  By property](#By-property)\n",
    "    *   [3.5  Legend](#Legend)\n",
    "        *   *   [3.5.0.1  By card type](#By-card-type)\n",
    "            *   [3.5.0.2  By Attribute](#By-Attribute)\n",
    "            *   [3.5.0.3  By primary type](#By-primary-type)\n",
    "            *   [3.5.0.4  By monster type](#By-monster-type)\n",
    "    *   [3.6  Artworks](#Artworks)\n",
    "        *   [3.6.1  By card type](#By-card-type)\n",
    "        *   [3.6.2  By primary type](#By-primary-type)\n",
    "    *   [3.7  Errata](#Errata)\n",
    "        *   [3.7.1  By card type](#By-card-type)\n",
    "        *   [3.7.2  By primary type](#By-primary-type)\n",
    "        *   [3.7.3  By artwork](#By-artwork)\n",
    "*   [4  Epilogue](#Epilogue)\n",
    "    *   [4.1  HTML export](#HTML-export)\n",
    "<!--     *   [4.2  Git](#Git) -->"
   ]
  },
  {
   "cell_type": "markdown",
   "id": "f21bcaec-0f80-4b9a-939c-c4bd159ee18b",
   "metadata": {
    "papermill": {
     "duration": 0.036227,
     "end_time": "2023-07-13T13:04:42.356828",
     "exception": false,
     "start_time": "2023-07-13T13:04:42.320601",
     "status": "completed"
    },
    "tags": []
   },
   "source": [
    "# Data aquisition"
   ]
  },
  {
   "cell_type": "markdown",
   "id": "7642e7a7-408a-47af-a6d3-8d8e6c733581",
   "metadata": {
    "papermill": {
     "duration": 0.036248,
     "end_time": "2023-07-13T13:04:42.430559",
     "exception": false,
     "start_time": "2023-07-13T13:04:42.394311",
     "status": "completed"
    },
    "tags": []
   },
   "source": [
    "## Fetch online data"
   ]
  },
  {
   "cell_type": "code",
   "execution_count": null,
   "id": "88db0457-64ee-4b1f-a642-1488b81ecad1",
   "metadata": {
    "papermill": {
     "duration": 0.045623,
     "end_time": "2023-07-13T13:04:42.517622",
     "exception": false,
     "start_time": "2023-07-13T13:04:42.471999",
     "status": "completed"
    },
    "tags": []
   },
   "outputs": [],
   "source": [
    "# Timestamp\n",
    "timestamp = pd.Timestamp.now()"
   ]
  },
  {
   "cell_type": "code",
   "execution_count": null,
   "id": "4cf61b44-a485-4af9-9465-b4eb2431a730",
   "metadata": {
    "papermill": {
     "duration": 14.085384,
     "end_time": "2023-07-13T13:04:56.638950",
     "exception": false,
     "start_time": "2023-07-13T13:04:42.553566",
     "status": "completed"
    },
    "tags": []
   },
   "outputs": [],
   "source": [
    "# Fetch rush cards\n",
    "rush_df = fetch_rush()\n",
    "\n",
    "# Fetch errata\n",
    "errata_df = fetch_errata()"
   ]
  },
  {
   "cell_type": "markdown",
   "id": "ee9ee76b-014b-4be4-88f7-f5206f5f53a9",
   "metadata": {
    "papermill": {
     "duration": 0.049824,
     "end_time": "2023-07-13T13:04:56.729190",
     "exception": false,
     "start_time": "2023-07-13T13:04:56.679366",
     "status": "completed"
    },
    "tags": []
   },
   "source": [
    "## Merge data"
   ]
  },
  {
   "cell_type": "code",
   "execution_count": null,
   "id": "2d4d4c95-d88d-44d2-80f0-76e9402d8215",
   "metadata": {
    "papermill": {
     "duration": 0.217205,
     "end_time": "2023-07-13T13:04:56.989206",
     "exception": false,
     "start_time": "2023-07-13T13:04:56.772001",
     "status": "completed"
    },
    "tags": []
   },
   "outputs": [],
   "source": [
    "rush_df = merge_errata(rush_df, errata_df)\n",
    "print(\"Data merged\")"
   ]
  },
  {
   "cell_type": "markdown",
   "id": "de464ac7-ef5b-49f9-8679-9883d5ec151b",
   "metadata": {
    "papermill": {
     "duration": 0.233163,
     "end_time": "2023-07-13T13:04:57.265012",
     "exception": false,
     "start_time": "2023-07-13T13:04:57.031849",
     "status": "completed"
    },
    "tags": []
   },
   "source": [
    "# Check changes"
   ]
  },
  {
   "cell_type": "markdown",
   "id": "0372e9c7-e778-4c0a-8ba4-b61cf3537eab",
   "metadata": {
    "papermill": {
     "duration": 0.037305,
     "end_time": "2023-07-13T13:04:57.399366",
     "exception": false,
     "start_time": "2023-07-13T13:04:57.362061",
     "status": "completed"
    },
    "tags": []
   },
   "source": [
    "## Load previous data"
   ]
  },
  {
   "cell_type": "code",
   "execution_count": null,
   "id": "43bc508c-6f99-42f3-b019-8cab526214f5",
   "metadata": {
    "papermill": {
     "duration": 0.244189,
     "end_time": "2023-07-13T13:04:57.680414",
     "exception": false,
     "start_time": "2023-07-13T13:04:57.436225",
     "status": "completed"
    },
    "tags": []
   },
   "outputs": [],
   "source": [
    "## Get list of files\n",
    "files_list = sorted(\n",
    "    glob.glob(\"../data/all_rush_*.bz2\"), key=os.path.getctime, reverse=True\n",
    ")\n",
    "# Get second newest file if exist\n",
    "if files_list:\n",
    "    latest_file = files_list[0]\n",
    "    # Load csv avoiding converting \"NA\" to NaN\n",
    "    previous_df = pd.read_csv(\n",
    "        latest_file, dtype=object, keep_default_na=False, na_values=[\"\"]\n",
    "    )\n",
    "    # Correct tuples\n",
    "    tuple_cols = [\n",
    "        \"Effect type\",\n",
    "        \"Archseries\",\n",
    "        \"Artwork\",\n",
    "        \"Errata\",\n",
    "        \"Legend\",\n",
    "        \"Maximum mode\",\n",
    "    ]\n",
    "    for col in tuple_cols:\n",
    "        previous_df[col] = previous_df[col].dropna().apply(literal_eval)\n",
    "    # Force dtypes to match current df\n",
    "    previous_df = previous_df.astype(\n",
    "        rush_df[previous_df.columns.intersection(rush_df.columns)].dtypes.to_dict()\n",
    "    )\n",
    "    previous_ts = pd.to_datetime(\n",
    "        os.path.basename(latest_file).split(\"_\")[-1].split(\".bz2\")[0]\n",
    "    )\n",
    "    print(\"File loaded\")\n",
    "else:\n",
    "    previous_df = None\n",
    "    print(\"No older files\")"
   ]
  },
  {
   "cell_type": "markdown",
   "id": "509b3cf8-1402-4ded-b007-e8dd541ed558",
   "metadata": {
    "papermill": {
     "duration": 0.037414,
     "end_time": "2023-07-13T13:04:57.755911",
     "exception": false,
     "start_time": "2023-07-13T13:04:57.718497",
     "status": "completed"
    },
    "tags": []
   },
   "source": [
    "## Generate changelog"
   ]
  },
  {
   "cell_type": "code",
   "execution_count": null,
   "id": "bc574063-ab48-4d47-9e34-e50508be8024",
   "metadata": {
    "papermill": {
     "duration": 0.103384,
     "end_time": "2023-07-13T13:04:57.896223",
     "exception": false,
     "start_time": "2023-07-13T13:04:57.792839",
     "status": "completed"
    },
    "tags": []
   },
   "outputs": [],
   "source": [
    "if previous_df is None:\n",
    "    changelog = None\n",
    "    print(\"Skipped\")\n",
    "else:\n",
    "    changelog = generate_changelog(previous_df, rush_df, col=\"Name\")\n",
    "    if not changelog.empty:\n",
    "        display(changelog)\n",
    "        changelog.to_csv(\n",
    "            f'../data/rush_changelog_{previous_ts.isoformat(timespec=\"minutes\")}_{timestamp.isoformat(timespec=\"minutes\")}.bz2',\n",
    "            index=True,\n",
    "        )\n",
    "        print(\"Changelog saved\")"
   ]
  },
  {
   "cell_type": "markdown",
   "id": "feeb2511-c891-4047-8e87-4106f7ecd222",
   "metadata": {
    "papermill": {
     "duration": 0.037565,
     "end_time": "2023-07-13T13:04:57.971500",
     "exception": false,
     "start_time": "2023-07-13T13:04:57.933935",
     "status": "completed"
    },
    "tags": []
   },
   "source": [
    "## Save data"
   ]
  },
  {
   "cell_type": "code",
   "execution_count": null,
   "id": "7508d7a5-8398-4596-9079-64cf9ebd6e77",
   "metadata": {
    "papermill": {
     "duration": 0.049979,
     "end_time": "2023-07-13T13:04:58.058671",
     "exception": false,
     "start_time": "2023-07-13T13:04:58.008692",
     "status": "completed"
    },
    "tags": []
   },
   "outputs": [],
   "source": [
    "if changelog is not None and changelog.empty:\n",
    "    print(\"No changes. New data not saved\")\n",
    "else:\n",
    "    rush_df.to_csv(\n",
    "        f'../data/all_rush_{timestamp.isoformat(timespec=\"minutes\")}.bz2', index=False\n",
    "    )\n",
    "    print(\"Data saved\")"
   ]
  },
  {
   "cell_type": "markdown",
   "id": "31a8ceb7-8c7f-4d88-ad6d-9450970d0be9",
   "metadata": {
    "papermill": {
     "duration": 0.037672,
     "end_time": "2023-07-13T13:04:58.134180",
     "exception": false,
     "start_time": "2023-07-13T13:04:58.096508",
     "status": "completed"
    },
    "tags": []
   },
   "source": [
    "# Data visualization"
   ]
  },
  {
   "cell_type": "code",
   "execution_count": null,
   "id": "effa94cb-10ed-4dff-b33b-df6601744e6c",
   "metadata": {
    "papermill": {
     "duration": 0.084218,
     "end_time": "2023-07-13T13:04:58.255916",
     "exception": false,
     "start_time": "2023-07-13T13:04:58.171698",
     "status": "completed"
    },
    "tags": []
   },
   "outputs": [],
   "source": [
    "rush_df"
   ]
  },
  {
   "cell_type": "markdown",
   "id": "6f265c0c-ee8f-4e14-97a2-8f5011fade4d",
   "metadata": {
    "jp-MarkdownHeadingCollapsed": true,
    "papermill": {
     "duration": 0.161958,
     "end_time": "2023-07-13T13:04:58.456405",
     "exception": false,
     "start_time": "2023-07-13T13:04:58.294447",
     "status": "completed"
    },
    "tags": []
   },
   "source": [
    "## Card type"
   ]
  },
  {
   "cell_type": "code",
   "execution_count": null,
   "id": "d0eb0759-1dfe-4dd3-8f5e-b442a615a487",
   "metadata": {
    "papermill": {
     "duration": 0.070185,
     "end_time": "2023-07-13T13:04:58.570315",
     "exception": false,
     "start_time": "2023-07-13T13:04:58.500130",
     "status": "completed"
    },
    "tags": []
   },
   "outputs": [],
   "source": [
    "rush_df[\"Card type\"].nunique()"
   ]
  },
  {
   "cell_type": "code",
   "execution_count": null,
   "id": "bdba8960-9b45-4f10-93a2-c7edb4cb0fb5",
   "metadata": {
    "papermill": {
     "duration": 0.301814,
     "end_time": "2023-07-13T13:04:58.915441",
     "exception": false,
     "start_time": "2023-07-13T13:04:58.613627",
     "status": "completed"
    },
    "tags": []
   },
   "outputs": [],
   "source": [
    "card_type_colors = [colors_dict[i] for i in rush_df[\"Card type\"].value_counts().index]\n",
    "rush_df[\"Card type\"].value_counts().plot.bar(\n",
    "    figsize=(18, 6), grid=True, rot=0, color=card_type_colors, title=\"Card type\"\n",
    ")\n",
    "plt.show()"
   ]
  },
  {
   "cell_type": "markdown",
   "id": "efd09d32-f551-40c5-8c4f-ea5de85722fa",
   "metadata": {
    "papermill": {
     "duration": 0.039415,
     "end_time": "2023-07-13T13:04:58.994286",
     "exception": false,
     "start_time": "2023-07-13T13:04:58.954871",
     "status": "completed"
    },
    "tags": []
   },
   "source": [
    "## Monsters"
   ]
  },
  {
   "cell_type": "markdown",
   "id": "61a76912-a0db-4680-93ef-fff91938644f",
   "metadata": {
    "papermill": {
     "duration": 0.038306,
     "end_time": "2023-07-13T13:04:59.070874",
     "exception": false,
     "start_time": "2023-07-13T13:04:59.032568",
     "status": "completed"
    },
    "tags": []
   },
   "source": [
    "### Attribute"
   ]
  },
  {
   "cell_type": "code",
   "execution_count": null,
   "id": "aa4e6a26",
   "metadata": {
    "papermill": {
     "duration": 0.05797,
     "end_time": "2023-07-13T13:04:59.167836",
     "exception": false,
     "start_time": "2023-07-13T13:04:59.109866",
     "status": "completed"
    },
    "tags": []
   },
   "outputs": [],
   "source": [
    "print(\"Total number of attributes:\", rush_df[\"Attribute\"].nunique())"
   ]
  },
  {
   "cell_type": "code",
   "execution_count": null,
   "id": "ea26720e",
   "metadata": {
    "papermill": {
     "duration": 0.081612,
     "end_time": "2023-07-13T13:04:59.288587",
     "exception": false,
     "start_time": "2023-07-13T13:04:59.206975",
     "status": "completed"
    },
    "tags": []
   },
   "outputs": [],
   "source": [
    "rush_df.drop(columns=[\"Card type\"]).groupby(\"Attribute\").nunique()"
   ]
  },
  {
   "cell_type": "code",
   "execution_count": null,
   "id": "c4ff5f74",
   "metadata": {
    "papermill": {
     "duration": 0.317428,
     "end_time": "2023-07-13T13:04:59.645739",
     "exception": false,
     "start_time": "2023-07-13T13:04:59.328311",
     "status": "completed"
    },
    "tags": []
   },
   "outputs": [],
   "source": [
    "attribute_colors = [colors_dict[i] for i in rush_df[\"Attribute\"].value_counts().index]\n",
    "rush_df[\"Attribute\"].value_counts().plot.bar(\n",
    "    figsize=(18, 6), grid=True, rot=0, color=attribute_colors, title=\"Attribute\"\n",
    ")\n",
    "plt.show()"
   ]
  },
  {
   "cell_type": "markdown",
   "id": "52ec4c63-62b0-4f14-a410-6d73439fade0",
   "metadata": {
    "jp-MarkdownHeadingCollapsed": true,
    "papermill": {
     "duration": 0.040451,
     "end_time": "2023-07-13T13:04:59.726987",
     "exception": false,
     "start_time": "2023-07-13T13:04:59.686536",
     "status": "completed"
    },
    "tags": []
   },
   "source": [
    "### Primary type"
   ]
  },
  {
   "cell_type": "code",
   "execution_count": null,
   "id": "26e45412",
   "metadata": {
    "papermill": {
     "duration": 0.052278,
     "end_time": "2023-07-13T13:04:59.818884",
     "exception": false,
     "start_time": "2023-07-13T13:04:59.766606",
     "status": "completed"
    },
    "tags": []
   },
   "outputs": [],
   "source": [
    "print(\"Total number of primary types:\", rush_df[\"Primary type\"].nunique())"
   ]
  },
  {
   "cell_type": "code",
   "execution_count": null,
   "id": "c7e4c6b0",
   "metadata": {
    "papermill": {
     "duration": 0.082607,
     "end_time": "2023-07-13T13:04:59.942577",
     "exception": false,
     "start_time": "2023-07-13T13:04:59.859970",
     "status": "completed"
    },
    "tags": []
   },
   "outputs": [],
   "source": [
    "rush_df.drop(columns=[\"Card type\"]).groupby(\"Primary type\").nunique()"
   ]
  },
  {
   "cell_type": "markdown",
   "id": "fcf42253-51c4-4c29-ad63-d54e730cf4bf",
   "metadata": {
    "papermill": {
     "duration": 0.044685,
     "end_time": "2023-07-13T13:05:00.028533",
     "exception": false,
     "start_time": "2023-07-13T13:04:59.983848",
     "status": "completed"
    },
    "tags": []
   },
   "source": [
    "#### Has effect discrimination"
   ]
  },
  {
   "cell_type": "code",
   "execution_count": null,
   "id": "56a59624",
   "metadata": {
    "papermill": {
     "duration": 0.12274,
     "end_time": "2023-07-13T13:05:00.193349",
     "exception": false,
     "start_time": "2023-07-13T13:05:00.070609",
     "status": "completed"
    },
    "tags": []
   },
   "outputs": [],
   "source": [
    "has_effect = (\n",
    "    rush_df[\"Primary type\"]\n",
    "    .where(rush_df[\"Effect type\"].notna())\n",
    "    .value_counts()\n",
    "    .rename(\"Effect\")\n",
    ")\n",
    "no_effect = (\n",
    "    rush_df[\"Primary type\"]\n",
    "    .where(rush_df[\"Effect type\"].isna())\n",
    "    .value_counts()\n",
    "    .rename(\"No Effect\")\n",
    ")\n",
    "effect = pd.concat([has_effect, no_effect], axis=1).fillna(0).astype(int)\n",
    "effect"
   ]
  },
  {
   "cell_type": "code",
   "execution_count": null,
   "id": "82c24448",
   "metadata": {
    "papermill": {
     "duration": 0.331086,
     "end_time": "2023-07-13T13:05:00.971322",
     "exception": false,
     "start_time": "2023-07-13T13:05:00.640236",
     "status": "completed"
    },
    "tags": []
   },
   "outputs": [],
   "source": [
    "monster_type_colors = {\n",
    "    \"No Effect\": colors_dict[\"Normal Monster\"],\n",
    "    \"Effect\": [colors_dict[i] for i in effect.index],\n",
    "}\n",
    "effect.plot.bar(\n",
    "    figsize=(18, 6),\n",
    "    stacked=True,\n",
    "    grid=True,\n",
    "    rot=0,\n",
    "    legend=True,\n",
    "    color=monster_type_colors,\n",
    "    title=\"Primary types - Has effect\",\n",
    ")\n",
    "# plt.yscale('log')\n",
    "plt.show()"
   ]
  },
  {
   "cell_type": "markdown",
   "id": "5937a77e-f719-44fc-a595-cbaf054f3f8d",
   "metadata": {
    "papermill": {
     "duration": 0.041613,
     "end_time": "2023-07-13T13:05:01.054768",
     "exception": false,
     "start_time": "2023-07-13T13:05:01.013155",
     "status": "completed"
    },
    "tags": []
   },
   "source": [
    "Obs: Effect monster can show as no effect if it is not released yet"
   ]
  },
  {
   "cell_type": "markdown",
   "id": "25151736-6b5f-406e-9269-312433ff78b8",
   "metadata": {
    "papermill": {
     "duration": 0.098654,
     "end_time": "2023-07-13T13:05:01.195390",
     "exception": false,
     "start_time": "2023-07-13T13:05:01.096736",
     "status": "completed"
    },
    "tags": []
   },
   "source": [
    "#### By attribute"
   ]
  },
  {
   "cell_type": "code",
   "execution_count": null,
   "id": "9c162519",
   "metadata": {
    "papermill": {
     "duration": 0.148446,
     "end_time": "2023-07-13T13:05:01.891833",
     "exception": false,
     "start_time": "2023-07-13T13:05:01.743387",
     "status": "completed"
    },
    "tags": []
   },
   "outputs": [],
   "source": [
    "primmary_crosstab = pd.crosstab(rush_df[\"Primary type\"], rush_df[\"Attribute\"])\n",
    "primmary_crosstab"
   ]
  },
  {
   "cell_type": "code",
   "execution_count": null,
   "id": "a0114f45",
   "metadata": {
    "papermill": {
     "duration": 0.72533,
     "end_time": "2023-07-13T13:05:02.771573",
     "exception": false,
     "start_time": "2023-07-13T13:05:02.046243",
     "status": "completed"
    },
    "tags": []
   },
   "outputs": [],
   "source": [
    "plt.figure(figsize=(16, 6))\n",
    "sns.heatmap(\n",
    "    primmary_crosstab,\n",
    "    annot=True,\n",
    "    fmt=\"g\",\n",
    "    cmap=\"viridis\",\n",
    "    square=True,\n",
    "    norm=mc.LogNorm(),\n",
    ")\n",
    "plt.show()"
   ]
  },
  {
   "cell_type": "markdown",
   "id": "1cec1d3f-9089-4e2c-8263-19996a56fb94",
   "metadata": {
    "jp-MarkdownHeadingCollapsed": true,
    "papermill": {
     "duration": 0.081625,
     "end_time": "2023-07-13T13:05:02.908780",
     "exception": false,
     "start_time": "2023-07-13T13:05:02.827155",
     "status": "completed"
    },
    "tags": []
   },
   "source": [
    "### Monster type"
   ]
  },
  {
   "cell_type": "code",
   "execution_count": null,
   "id": "f9375423-085f-4a01-a981-5c49758ee2fe",
   "metadata": {
    "papermill": {
     "duration": 0.081965,
     "end_time": "2023-07-13T13:05:03.195230",
     "exception": false,
     "start_time": "2023-07-13T13:05:03.113265",
     "status": "completed"
    },
    "tags": []
   },
   "outputs": [],
   "source": [
    "print(\"Total number of monster types:\", rush_df[\"Monster type\"].nunique())"
   ]
  },
  {
   "cell_type": "code",
   "execution_count": null,
   "id": "cce35ef4-1aba-4209-9bb0-8777ca156238",
   "metadata": {
    "papermill": {
     "duration": 0.121528,
     "end_time": "2023-07-13T13:05:03.367541",
     "exception": false,
     "start_time": "2023-07-13T13:05:03.246013",
     "status": "completed"
    },
    "tags": []
   },
   "outputs": [],
   "source": [
    "rush_df.drop(columns=[\"Card type\"]).groupby(\"Monster type\").nunique()"
   ]
  },
  {
   "cell_type": "code",
   "execution_count": null,
   "id": "d270a94e-dd85-4790-9382-67057d7ee9ad",
   "metadata": {
    "papermill": {
     "duration": 0.548445,
     "end_time": "2023-07-13T13:05:03.966406",
     "exception": false,
     "start_time": "2023-07-13T13:05:03.417961",
     "status": "completed"
    },
    "tags": []
   },
   "outputs": [],
   "source": [
    "monster_type_colors = colors_dict[\"Monster Card\"]\n",
    "rush_df[\"Monster type\"].value_counts().plot.bar(\n",
    "    figsize=(18, 6), grid=True, rot=60, color=monster_type_colors, title=\"Monster type\"\n",
    ")\n",
    "plt.show()"
   ]
  },
  {
   "cell_type": "markdown",
   "id": "c46d460f-9cb2-4f9d-9533-3416c26bf159",
   "metadata": {
    "jp-MarkdownHeadingCollapsed": true,
    "papermill": {
     "duration": 0.046409,
     "end_time": "2023-07-13T13:05:04.058861",
     "exception": false,
     "start_time": "2023-07-13T13:05:04.012452",
     "status": "completed"
    },
    "tags": []
   },
   "source": [
    "#### By Attribute"
   ]
  },
  {
   "cell_type": "code",
   "execution_count": null,
   "id": "9664b46c-b835-45ea-905b-b1d9460eb241",
   "metadata": {
    "papermill": {
     "duration": 0.087659,
     "end_time": "2023-07-13T13:05:04.266907",
     "exception": false,
     "start_time": "2023-07-13T13:05:04.179248",
     "status": "completed"
    },
    "tags": []
   },
   "outputs": [],
   "source": [
    "monster_crosstab = pd.crosstab(\n",
    "    rush_df[\"Monster type\"], rush_df[\"Attribute\"], dropna=False\n",
    ")\n",
    "monster_crosstab"
   ]
  },
  {
   "cell_type": "code",
   "execution_count": null,
   "id": "71a77985-bff7-4bfc-a1b2-8c19b34a314c",
   "metadata": {
    "papermill": {
     "duration": 1.177541,
     "end_time": "2023-07-13T13:05:05.491580",
     "exception": false,
     "start_time": "2023-07-13T13:05:04.314039",
     "status": "completed"
    },
    "tags": []
   },
   "outputs": [],
   "source": [
    "plt.figure(figsize=(20, 4))\n",
    "sns.heatmap(\n",
    "    monster_crosstab[monster_crosstab > 0].T,\n",
    "    annot=True,\n",
    "    fmt=\"g\",\n",
    "    cmap=\"viridis\",\n",
    "    square=True,\n",
    "    norm=mc.LogNorm(),\n",
    ")\n",
    "plt.show()"
   ]
  },
  {
   "cell_type": "markdown",
   "id": "2ecc77ec-6841-4d6a-9983-2316412d4154",
   "metadata": {
    "papermill": {
     "duration": 0.090948,
     "end_time": "2023-07-13T13:05:05.631336",
     "exception": false,
     "start_time": "2023-07-13T13:05:05.540388",
     "status": "completed"
    },
    "tags": []
   },
   "source": [
    "#### By primary type"
   ]
  },
  {
   "cell_type": "code",
   "execution_count": null,
   "id": "f2e9d55a-e781-428e-b08c-efedf2a37392",
   "metadata": {
    "papermill": {
     "duration": 0.08238,
     "end_time": "2023-07-13T13:05:06.011243",
     "exception": false,
     "start_time": "2023-07-13T13:05:05.928863",
     "status": "completed"
    },
    "tags": []
   },
   "outputs": [],
   "source": [
    "monster_crosstab_b = pd.crosstab(\n",
    "    rush_df[\"Monster type\"], rush_df[\"Primary type\"], dropna=False\n",
    ")\n",
    "monster_crosstab_b"
   ]
  },
  {
   "cell_type": "code",
   "execution_count": null,
   "id": "8da8db63-bc41-4a03-a525-63dbcfb5782f",
   "metadata": {
    "papermill": {
     "duration": 0.846506,
     "end_time": "2023-07-13T13:05:06.907451",
     "exception": false,
     "start_time": "2023-07-13T13:05:06.060945",
     "status": "completed"
    },
    "tags": []
   },
   "outputs": [],
   "source": [
    "plt.figure(figsize=(16, 2))\n",
    "sns.heatmap(\n",
    "    monster_crosstab_b[monster_crosstab_b > 0].T,\n",
    "    annot=True,\n",
    "    fmt=\"g\",\n",
    "    cmap=\"viridis\",\n",
    "    square=True,\n",
    "    norm=mc.LogNorm(),\n",
    ")\n",
    "plt.show()"
   ]
  },
  {
   "cell_type": "markdown",
   "id": "f2966e60-300a-4289-9a94-f14c49fa41d4",
   "metadata": {
    "jp-MarkdownHeadingCollapsed": true,
    "papermill": {
     "duration": 0.055154,
     "end_time": "2023-07-13T13:05:07.015143",
     "exception": false,
     "start_time": "2023-07-13T13:05:06.959989",
     "status": "completed"
    },
    "tags": []
   },
   "source": [
    "### Effect type"
   ]
  },
  {
   "cell_type": "code",
   "execution_count": null,
   "id": "b44949a6",
   "metadata": {
    "papermill": {
     "duration": 0.072738,
     "end_time": "2023-07-13T13:05:07.138346",
     "exception": false,
     "start_time": "2023-07-13T13:05:07.065608",
     "status": "completed"
    },
    "tags": []
   },
   "outputs": [],
   "source": [
    "print(\"Total number of effect types:\", rush_df[\"Effect type\"].explode().nunique())"
   ]
  },
  {
   "cell_type": "code",
   "execution_count": null,
   "id": "c4e48718",
   "metadata": {
    "papermill": {
     "duration": 0.103139,
     "end_time": "2023-07-13T13:05:07.292460",
     "exception": false,
     "start_time": "2023-07-13T13:05:07.189321",
     "status": "completed"
    },
    "tags": []
   },
   "outputs": [],
   "source": [
    "rush_df[rush_df[\"Effect type\"].notna()].drop(columns=[\"Card type\"]).explode(\n",
    "    \"Effect type\"\n",
    ").groupby(\"Effect type\").nunique()"
   ]
  },
  {
   "cell_type": "code",
   "execution_count": null,
   "id": "ff912d52",
   "metadata": {
    "papermill": {
     "duration": 0.382156,
     "end_time": "2023-07-13T13:05:07.726448",
     "exception": false,
     "start_time": "2023-07-13T13:05:07.344292",
     "status": "completed"
    },
    "tags": []
   },
   "outputs": [],
   "source": [
    "monster_effect_colors = colors_dict[\"Effect Monster\"]\n",
    "rush_df[\"Effect type\"].explode(\"Effect type\").value_counts().plot.bar(\n",
    "    figsize=(18, 6), grid=True, color=monster_effect_colors, title=\"Effect type\"\n",
    ")\n",
    "# plt.yscale('log')\n",
    "plt.show()"
   ]
  },
  {
   "cell_type": "markdown",
   "id": "536f68c4-f64a-4c69-a143-0a5c8b0292b1",
   "metadata": {
    "jp-MarkdownHeadingCollapsed": true,
    "papermill": {
     "duration": 0.050703,
     "end_time": "2023-07-13T13:05:07.832665",
     "exception": false,
     "start_time": "2023-07-13T13:05:07.781962",
     "status": "completed"
    },
    "tags": []
   },
   "source": [
    "### ATK"
   ]
  },
  {
   "cell_type": "code",
   "execution_count": null,
   "id": "1b5db865",
   "metadata": {
    "papermill": {
     "duration": 0.067487,
     "end_time": "2023-07-13T13:05:07.951597",
     "exception": false,
     "start_time": "2023-07-13T13:05:07.884110",
     "status": "completed"
    },
    "tags": []
   },
   "outputs": [],
   "source": [
    "print(\"Total number of ATK values:\", rush_df[\"ATK\"].nunique())"
   ]
  },
  {
   "cell_type": "code",
   "execution_count": null,
   "id": "16b9aa14",
   "metadata": {
    "papermill": {
     "duration": 0.110247,
     "end_time": "2023-07-13T13:05:08.113492",
     "exception": false,
     "start_time": "2023-07-13T13:05:08.003245",
     "status": "completed"
    },
    "tags": []
   },
   "outputs": [],
   "source": [
    "rush_df.drop(columns=[\"Card type\"]).groupby(\"ATK\").nunique().sort_index(\n",
    "    key=lambda x: pd.to_numeric(x, errors=\"coerce\")\n",
    ")"
   ]
  },
  {
   "cell_type": "code",
   "execution_count": null,
   "id": "3b1b2e1d",
   "metadata": {
    "papermill": {
     "duration": 0.733931,
     "end_time": "2023-07-13T13:05:08.901023",
     "exception": false,
     "start_time": "2023-07-13T13:05:08.167092",
     "status": "completed"
    },
    "tags": []
   },
   "outputs": [],
   "source": [
    "atk_colors = colors_dict[\"Monster Card\"]\n",
    "rush_df[\"DEF\"].value_counts().sort_index(\n",
    "    key=lambda x: pd.to_numeric(x, errors=\"coerce\")\n",
    ").plot.bar(figsize=(18, 6), grid=True, color=atk_colors, title=\"ATK\")\n",
    "plt.show()"
   ]
  },
  {
   "cell_type": "markdown",
   "id": "c59b1e9d-4376-4476-bcf0-f899852cbffa",
   "metadata": {
    "jp-MarkdownHeadingCollapsed": true,
    "papermill": {
     "duration": 0.22336,
     "end_time": "2023-07-13T13:05:09.178613",
     "exception": false,
     "start_time": "2023-07-13T13:05:08.955253",
     "status": "completed"
    },
    "tags": []
   },
   "source": [
    "### DEF"
   ]
  },
  {
   "cell_type": "code",
   "execution_count": null,
   "id": "2aa0ba61",
   "metadata": {
    "papermill": {
     "duration": 0.070346,
     "end_time": "2023-07-13T13:05:09.302893",
     "exception": false,
     "start_time": "2023-07-13T13:05:09.232547",
     "status": "completed"
    },
    "tags": []
   },
   "outputs": [],
   "source": [
    "print(\"Total number of DEF values:\", rush_df[\"DEF\"].nunique())"
   ]
  },
  {
   "cell_type": "code",
   "execution_count": null,
   "id": "54e9d56a",
   "metadata": {
    "papermill": {
     "duration": 0.109079,
     "end_time": "2023-07-13T13:05:09.471740",
     "exception": false,
     "start_time": "2023-07-13T13:05:09.362661",
     "status": "completed"
    },
    "tags": []
   },
   "outputs": [],
   "source": [
    "rush_df.drop(columns=[\"Card type\"]).groupby(\"DEF\").nunique().sort_index(\n",
    "    key=lambda x: pd.to_numeric(x, errors=\"coerce\")\n",
    ")"
   ]
  },
  {
   "cell_type": "code",
   "execution_count": null,
   "id": "10aeff48",
   "metadata": {
    "papermill": {
     "duration": 0.521243,
     "end_time": "2023-07-13T13:05:10.050001",
     "exception": false,
     "start_time": "2023-07-13T13:05:09.528758",
     "status": "completed"
    },
    "tags": []
   },
   "outputs": [],
   "source": [
    "def_colors = colors_dict[\"Monster Card\"]\n",
    "rush_df[\"DEF\"].value_counts().sort_index(\n",
    "    key=lambda x: pd.to_numeric(x, errors=\"coerce\")\n",
    ").plot.bar(figsize=(18, 6), grid=True, color=def_colors, title=\"DEF\")\n",
    "plt.show()"
   ]
  },
  {
   "cell_type": "markdown",
   "id": "434575eb-282b-4784-91a1-d7c60720f002",
   "metadata": {
    "papermill": {
     "duration": 0.059212,
     "end_time": "2023-07-13T13:05:10.166786",
     "exception": false,
     "start_time": "2023-07-13T13:05:10.107574",
     "status": "completed"
    },
    "tags": []
   },
   "source": [
    "### Maximum mode"
   ]
  },
  {
   "cell_type": "code",
   "execution_count": null,
   "id": "140eabff-eae1-49a8-8320-632534615818",
   "metadata": {
    "papermill": {
     "duration": 0.073451,
     "end_time": "2023-07-13T13:05:10.295989",
     "exception": false,
     "start_time": "2023-07-13T13:05:10.222538",
     "status": "completed"
    },
    "tags": []
   },
   "outputs": [],
   "source": [
    "print(\"Total cards requiring maximum mode:\", rush_df[\"Maximum mode\"].sum())"
   ]
  },
  {
   "cell_type": "code",
   "execution_count": null,
   "id": "a30dcb57-c8ff-462f-80e5-ea612206439d",
   "metadata": {
    "papermill": {
     "duration": 0.143281,
     "end_time": "2023-07-13T13:05:10.496511",
     "exception": false,
     "start_time": "2023-07-13T13:05:10.353230",
     "status": "completed"
    },
    "tags": []
   },
   "outputs": [],
   "source": [
    "rush_df[rush_df[\"Maximum mode\"]]"
   ]
  },
  {
   "cell_type": "markdown",
   "id": "d26839a4-f930-41f3-9df2-0209f0a25bdb",
   "metadata": {
    "papermill": {
     "duration": 0.058783,
     "end_time": "2023-07-13T13:05:10.614394",
     "exception": false,
     "start_time": "2023-07-13T13:05:10.555611",
     "status": "completed"
    },
    "tags": []
   },
   "source": [
    "#### MAXIMUM ATK"
   ]
  },
  {
   "cell_type": "code",
   "execution_count": null,
   "id": "317ce825-1d9b-4a99-ad39-93ee7a64db0a",
   "metadata": {
    "papermill": {
     "duration": 0.07855,
     "end_time": "2023-07-13T13:05:10.752077",
     "exception": false,
     "start_time": "2023-07-13T13:05:10.673527",
     "status": "completed"
    },
    "tags": []
   },
   "outputs": [],
   "source": [
    "print(\"Total number of MAXIMUM ATK values:\", rush_df[\"MAXIMUM ATK\"].nunique())"
   ]
  },
  {
   "cell_type": "code",
   "execution_count": null,
   "id": "5c9e9e4c-7307-4396-968c-32ec8af00a45",
   "metadata": {
    "papermill": {
     "duration": 0.335661,
     "end_time": "2023-07-13T13:05:11.147927",
     "exception": false,
     "start_time": "2023-07-13T13:05:10.812266",
     "status": "completed"
    },
    "tags": []
   },
   "outputs": [],
   "source": [
    "def_colors = colors_dict[\"Monster Card\"]\n",
    "rush_df[\"MAXIMUM ATK\"].value_counts().sort_index(\n",
    "    key=lambda x: pd.to_numeric(x, errors=\"coerce\")\n",
    ").plot.bar(figsize=(18, 6), grid=True, color=def_colors, title=\"MAXIMUM ATK\")\n",
    "plt.show()"
   ]
  },
  {
   "cell_type": "markdown",
   "id": "7c569d49-6d1f-4c1e-a877-e761e12d33cf",
   "metadata": {
    "papermill": {
     "duration": 0.059255,
     "end_time": "2023-07-13T13:05:11.271982",
     "exception": false,
     "start_time": "2023-07-13T13:05:11.212727",
     "status": "completed"
    },
    "tags": []
   },
   "source": [
    "##### By ATK"
   ]
  },
  {
   "cell_type": "code",
   "execution_count": null,
   "id": "bbde5543-da0d-422f-a9f9-c19951962f19",
   "metadata": {
    "papermill": {
     "duration": 0.095244,
     "end_time": "2023-07-13T13:05:11.426889",
     "exception": false,
     "start_time": "2023-07-13T13:05:11.331645",
     "status": "completed"
    },
    "tags": []
   },
   "outputs": [],
   "source": [
    "max_atk_crosstab = pd.crosstab(rush_df[\"ATK\"], rush_df[\"MAXIMUM ATK\"])\n",
    "max_atk_crosstab"
   ]
  },
  {
   "cell_type": "markdown",
   "id": "50eb5c02-b33d-4ff7-91d5-34dad1789d9f",
   "metadata": {
    "papermill": {
     "duration": 0.060055,
     "end_time": "2023-07-13T13:05:11.546994",
     "exception": false,
     "start_time": "2023-07-13T13:05:11.486939",
     "status": "completed"
    },
    "tags": []
   },
   "source": [
    "##### By DEF"
   ]
  },
  {
   "cell_type": "code",
   "execution_count": null,
   "id": "70a88253-776a-4c17-a165-2d43e15a26a0",
   "metadata": {
    "papermill": {
     "duration": 0.08778,
     "end_time": "2023-07-13T13:05:11.694877",
     "exception": false,
     "start_time": "2023-07-13T13:05:11.607097",
     "status": "completed"
    },
    "tags": []
   },
   "outputs": [],
   "source": [
    "max_def_crosstab = pd.crosstab(rush_df[\"DEF\"], rush_df[\"MAXIMUM ATK\"])\n",
    "max_def_crosstab"
   ]
  },
  {
   "cell_type": "markdown",
   "id": "67f66807-7364-40dd-a14e-5ba64dcc4897",
   "metadata": {
    "jp-MarkdownHeadingCollapsed": true,
    "papermill": {
     "duration": 0.059766,
     "end_time": "2023-07-13T13:05:11.813978",
     "exception": false,
     "start_time": "2023-07-13T13:05:11.754212",
     "status": "completed"
    },
    "tags": []
   },
   "source": [
    "### Level/Rank"
   ]
  },
  {
   "cell_type": "code",
   "execution_count": null,
   "id": "f5543138",
   "metadata": {
    "papermill": {
     "duration": 0.11107,
     "end_time": "2023-07-13T13:05:11.985024",
     "exception": false,
     "start_time": "2023-07-13T13:05:11.873954",
     "status": "completed"
    },
    "tags": []
   },
   "outputs": [],
   "source": [
    "rush_df.drop(columns=[\"Card type\"]).groupby(\"Level/Rank\").nunique().sort_index(\n",
    "    key=lambda x: pd.to_numeric(x, errors=\"coerce\")\n",
    ")"
   ]
  },
  {
   "cell_type": "code",
   "execution_count": null,
   "id": "31539bdc",
   "metadata": {
    "papermill": {
     "duration": 0.353831,
     "end_time": "2023-07-13T13:05:12.400350",
     "exception": false,
     "start_time": "2023-07-13T13:05:12.046519",
     "status": "completed"
    },
    "tags": []
   },
   "outputs": [],
   "source": [
    "stars_colors = colors_dict[\"Level\"]\n",
    "rush_df[\"Level/Rank\"].value_counts().sort_index(\n",
    "    key=lambda x: pd.to_numeric(x, errors=\"coerce\")\n",
    ").plot.bar(figsize=(18, 6), grid=True, rot=0, color=stars_colors, title=\"Level/Rank\")\n",
    "plt.show()"
   ]
  },
  {
   "cell_type": "markdown",
   "id": "817d4818-7e1c-4978-8cd1-f4d4dc814591",
   "metadata": {
    "papermill": {
     "duration": 0.062459,
     "end_time": "2023-07-13T13:05:12.524930",
     "exception": false,
     "start_time": "2023-07-13T13:05:12.462471",
     "status": "completed"
    },
    "tags": []
   },
   "source": [
    "#### ATK statistics"
   ]
  },
  {
   "cell_type": "code",
   "execution_count": null,
   "id": "06dc9107",
   "metadata": {
    "papermill": {
     "duration": 0.144897,
     "end_time": "2023-07-13T13:05:12.732558",
     "exception": false,
     "start_time": "2023-07-13T13:05:12.587661",
     "status": "completed"
    },
    "tags": []
   },
   "outputs": [],
   "source": [
    "rush_df[[\"Level/Rank\", \"ATK\"]].apply(pd.to_numeric, errors=\"coerce\").dropna().astype(\n",
    "    int\n",
    ").groupby(\"Level/Rank\").describe()"
   ]
  },
  {
   "cell_type": "markdown",
   "id": "dbc8ab5d-d288-4830-9850-373404e6aa36",
   "metadata": {
    "papermill": {
     "duration": 0.077765,
     "end_time": "2023-07-13T13:05:12.878506",
     "exception": false,
     "start_time": "2023-07-13T13:05:12.800741",
     "status": "completed"
    },
    "tags": []
   },
   "source": [
    "#### DEF statistics"
   ]
  },
  {
   "cell_type": "code",
   "execution_count": null,
   "id": "cc005e78",
   "metadata": {
    "papermill": {
     "duration": 0.14086,
     "end_time": "2023-07-13T13:05:13.082007",
     "exception": false,
     "start_time": "2023-07-13T13:05:12.941147",
     "status": "completed"
    },
    "tags": []
   },
   "outputs": [],
   "source": [
    "rush_df[[\"Level/Rank\", \"DEF\"]].apply(pd.to_numeric, errors=\"coerce\").dropna().astype(\n",
    "    int\n",
    ").groupby(\"Level/Rank\").describe()"
   ]
  },
  {
   "cell_type": "markdown",
   "id": "09674a4a-a317-465a-9e5d-da5de3b882a4",
   "metadata": {
    "papermill": {
     "duration": 0.075736,
     "end_time": "2023-07-13T13:05:13.219851",
     "exception": false,
     "start_time": "2023-07-13T13:05:13.144115",
     "status": "completed"
    },
    "tags": []
   },
   "source": [
    "## Spell & Trap"
   ]
  },
  {
   "cell_type": "markdown",
   "id": "e02f27a3-76bc-4f72-965f-6e8f253c77a6",
   "metadata": {
    "papermill": {
     "duration": 0.062192,
     "end_time": "2023-07-13T13:05:13.344422",
     "exception": false,
     "start_time": "2023-07-13T13:05:13.282230",
     "status": "completed"
    },
    "tags": []
   },
   "source": [
    "### Properties"
   ]
  },
  {
   "cell_type": "code",
   "execution_count": null,
   "id": "00501a98-d5da-4e0d-a628-1f0a13592290",
   "metadata": {
    "papermill": {
     "duration": 0.079761,
     "end_time": "2023-07-13T13:05:13.486587",
     "exception": false,
     "start_time": "2023-07-13T13:05:13.406826",
     "status": "completed"
    },
    "tags": []
   },
   "outputs": [],
   "source": [
    "print(\"Total number of properties:\", rush_df[\"Property\"].nunique())"
   ]
  },
  {
   "cell_type": "code",
   "execution_count": null,
   "id": "efbb94e7-b9d0-4ddf-953e-b8964b398808",
   "metadata": {
    "papermill": {
     "duration": 0.150274,
     "end_time": "2023-07-13T13:05:13.699691",
     "exception": false,
     "start_time": "2023-07-13T13:05:13.549417",
     "status": "completed"
    },
    "tags": []
   },
   "outputs": [],
   "source": [
    "rush_df.drop(columns=[\"Card type\"]).groupby(\"Property\").nunique()"
   ]
  },
  {
   "cell_type": "code",
   "execution_count": null,
   "id": "d872f324-06f2-4d36-b377-c0d0a42c4fa1",
   "metadata": {
    "papermill": {
     "duration": 0.321058,
     "end_time": "2023-07-13T13:05:14.085009",
     "exception": false,
     "start_time": "2023-07-13T13:05:13.763951",
     "status": "completed"
    },
    "tags": []
   },
   "outputs": [],
   "source": [
    "st_colors = [\n",
    "    colors_dict[i]\n",
    "    for i in rush_df[[\"Card type\", \"Property\"]].value_counts().index.get_level_values(0)\n",
    "]\n",
    "rush_df[\"Property\"].value_counts().plot.bar(\n",
    "    figsize=(18, 6), grid=True, rot=45, color=st_colors, title=\"Property\"\n",
    ")\n",
    "plt.show()"
   ]
  },
  {
   "cell_type": "markdown",
   "id": "252d9b8a-b8e5-4a10-9beb-dd1bb5ee3d18",
   "metadata": {
    "papermill": {
     "duration": 0.063217,
     "end_time": "2023-07-13T13:05:14.213928",
     "exception": false,
     "start_time": "2023-07-13T13:05:14.150711",
     "status": "completed"
    },
    "tags": []
   },
   "source": [
    "## Archseries"
   ]
  },
  {
   "cell_type": "code",
   "execution_count": null,
   "id": "ce1470dc",
   "metadata": {
    "papermill": {
     "duration": 0.118112,
     "end_time": "2023-07-13T13:05:14.395492",
     "exception": false,
     "start_time": "2023-07-13T13:05:14.277380",
     "status": "completed"
    },
    "tags": []
   },
   "outputs": [],
   "source": [
    "exploded_archseries = rush_df.explode(\"Archseries\")\n",
    "print(\"Total number of Archseries:\", exploded_archseries[\"Archseries\"].nunique())"
   ]
  },
  {
   "cell_type": "code",
   "execution_count": null,
   "id": "f31c5b8c",
   "metadata": {
    "papermill": {
     "duration": 0.118562,
     "end_time": "2023-07-13T13:05:14.584900",
     "exception": false,
     "start_time": "2023-07-13T13:05:14.466338",
     "status": "completed"
    },
    "tags": []
   },
   "outputs": [],
   "source": [
    "exploded_archseries.groupby(\"Archseries\").nunique()"
   ]
  },
  {
   "cell_type": "code",
   "execution_count": null,
   "id": "00c9f321",
   "metadata": {
    "papermill": {
     "duration": 1.347261,
     "end_time": "2023-07-13T13:05:15.999405",
     "exception": false,
     "start_time": "2023-07-13T13:05:14.652144",
     "status": "completed"
    },
    "tags": []
   },
   "outputs": [],
   "source": [
    "exploded_archseries[\"Archseries\"].value_counts().plot.barh(\n",
    "    figsize=(10, 20), grid=True, title=\"Archtypes/Series\"\n",
    ")\n",
    "plt.show()"
   ]
  },
  {
   "cell_type": "markdown",
   "id": "8a22c1c7-5a95-4110-ae01-79bff91c01ea",
   "metadata": {
    "jp-MarkdownHeadingCollapsed": true,
    "papermill": {
     "duration": 0.067673,
     "end_time": "2023-07-13T13:05:16.134097",
     "exception": false,
     "start_time": "2023-07-13T13:05:16.066424",
     "status": "completed"
    },
    "tags": []
   },
   "source": [
    "### By card type"
   ]
  },
  {
   "cell_type": "code",
   "execution_count": null,
   "id": "fbf65c3c",
   "metadata": {
    "papermill": {
     "duration": 0.135477,
     "end_time": "2023-07-13T13:05:16.336878",
     "exception": false,
     "start_time": "2023-07-13T13:05:16.201401",
     "status": "completed"
    },
    "tags": []
   },
   "outputs": [],
   "source": [
    "archseries_crosstab = pd.crosstab(\n",
    "    exploded_archseries[\"Archseries\"], exploded_archseries[\"Card type\"], margins=True\n",
    ")\n",
    "archseries_crosstab"
   ]
  },
  {
   "cell_type": "markdown",
   "id": "65be4f84-7bd3-4de6-850a-dff20f8db6f8",
   "metadata": {
    "jp-MarkdownHeadingCollapsed": true,
    "papermill": {
     "duration": 0.0678,
     "end_time": "2023-07-13T13:05:16.472497",
     "exception": false,
     "start_time": "2023-07-13T13:05:16.404697",
     "status": "completed"
    },
    "tags": []
   },
   "source": [
    "### By primary type"
   ]
  },
  {
   "cell_type": "code",
   "execution_count": null,
   "id": "2c3671f0",
   "metadata": {
    "papermill": {
     "duration": 0.131353,
     "end_time": "2023-07-13T13:05:16.674609",
     "exception": false,
     "start_time": "2023-07-13T13:05:16.543256",
     "status": "completed"
    },
    "tags": []
   },
   "outputs": [],
   "source": [
    "archseries_crosstab_b = pd.crosstab(\n",
    "    exploded_archseries[\"Archseries\"], exploded_archseries[\"Primary type\"], margins=True\n",
    ")\n",
    "archseries_crosstab_b"
   ]
  },
  {
   "cell_type": "markdown",
   "id": "845facac-cd41-437e-941b-a5662cedef0b",
   "metadata": {
    "jp-MarkdownHeadingCollapsed": true,
    "papermill": {
     "duration": 0.156675,
     "end_time": "2023-07-13T13:05:16.899165",
     "exception": false,
     "start_time": "2023-07-13T13:05:16.742490",
     "status": "completed"
    },
    "tags": []
   },
   "source": [
    "### By monster type"
   ]
  },
  {
   "cell_type": "code",
   "execution_count": null,
   "id": "d99ee9e1",
   "metadata": {
    "papermill": {
     "duration": 0.179296,
     "end_time": "2023-07-13T13:05:17.356235",
     "exception": false,
     "start_time": "2023-07-13T13:05:17.176939",
     "status": "completed"
    },
    "tags": []
   },
   "outputs": [],
   "source": [
    "archseries_crosstab_d = pd.crosstab(\n",
    "    exploded_archseries[\"Archseries\"], exploded_archseries[\"Monster type\"], margins=True\n",
    ")\n",
    "archseries_crosstab_d"
   ]
  },
  {
   "cell_type": "markdown",
   "id": "316cdb28-4129-4b36-aa0a-db223739c2ab",
   "metadata": {
    "jp-MarkdownHeadingCollapsed": true,
    "papermill": {
     "duration": 0.079458,
     "end_time": "2023-07-13T13:05:17.505452",
     "exception": false,
     "start_time": "2023-07-13T13:05:17.425994",
     "status": "completed"
    },
    "tags": []
   },
   "source": [
    "### By property"
   ]
  },
  {
   "cell_type": "code",
   "execution_count": null,
   "id": "fbbb1ccc",
   "metadata": {
    "papermill": {
     "duration": 0.138074,
     "end_time": "2023-07-13T13:05:17.712923",
     "exception": false,
     "start_time": "2023-07-13T13:05:17.574849",
     "status": "completed"
    },
    "tags": []
   },
   "outputs": [],
   "source": [
    "archseries_crosstab_e = pd.crosstab(\n",
    "    exploded_archseries[\"Archseries\"], exploded_archseries[\"Property\"], margins=True\n",
    ")\n",
    "archseries_crosstab_e"
   ]
  },
  {
   "cell_type": "markdown",
   "id": "b502bfe6-e19b-4d35-a32e-7b6a281d124c",
   "metadata": {
    "papermill": {
     "duration": 0.175889,
     "end_time": "2023-07-13T13:05:17.958330",
     "exception": false,
     "start_time": "2023-07-13T13:05:17.782441",
     "status": "completed"
    },
    "tags": []
   },
   "source": [
    "## Legend"
   ]
  },
  {
   "cell_type": "code",
   "execution_count": null,
   "id": "b964ae84-be57-4250-9ce1-9b1f343ad9de",
   "metadata": {
    "papermill": {
     "duration": 0.088143,
     "end_time": "2023-07-13T13:05:18.117340",
     "exception": false,
     "start_time": "2023-07-13T13:05:18.029197",
     "status": "completed"
    },
    "tags": []
   },
   "outputs": [],
   "source": [
    "print(\"Total number of Legend cards\", rush_df[\"Legend\"].sum())"
   ]
  },
  {
   "cell_type": "code",
   "execution_count": null,
   "id": "2b29be8f-886c-4663-aeb4-8291301916e1",
   "metadata": {
    "papermill": {
     "duration": 0.193229,
     "end_time": "2023-07-13T13:05:18.381837",
     "exception": false,
     "start_time": "2023-07-13T13:05:18.188608",
     "status": "completed"
    },
    "tags": []
   },
   "outputs": [],
   "source": [
    "rush_df[rush_df[\"Legend\"]]"
   ]
  },
  {
   "cell_type": "markdown",
   "id": "72e1a0d0-710e-4f43-a879-95db76e004a3",
   "metadata": {
    "papermill": {
     "duration": 0.123983,
     "end_time": "2023-07-13T13:05:18.590548",
     "exception": false,
     "start_time": "2023-07-13T13:05:18.466565",
     "status": "completed"
    },
    "tags": []
   },
   "source": [
    "#### By card type"
   ]
  },
  {
   "cell_type": "code",
   "execution_count": null,
   "id": "a9a40b74-a725-4b1b-a112-3f0a6fbfcd27",
   "metadata": {
    "papermill": {
     "duration": 0.330298,
     "end_time": "2023-07-13T13:05:19.070439",
     "exception": false,
     "start_time": "2023-07-13T13:05:18.740141",
     "status": "completed"
    },
    "tags": []
   },
   "outputs": [],
   "source": [
    "card_type_colors = [\n",
    "    colors_dict[i] for i in rush_df[rush_df[\"Legend\"]][\"Card type\"].value_counts().index\n",
    "]\n",
    "rush_df[rush_df[\"Legend\"]][\"Card type\"].value_counts().plot.bar(\n",
    "    figsize=(18, 6), grid=True, rot=0, color=card_type_colors, title=\"Card type\"\n",
    ")\n",
    "plt.show()"
   ]
  },
  {
   "cell_type": "markdown",
   "id": "1a64d032-a70e-48ac-9708-38cc771dba2a",
   "metadata": {
    "papermill": {
     "duration": 0.075639,
     "end_time": "2023-07-13T13:05:19.220055",
     "exception": false,
     "start_time": "2023-07-13T13:05:19.144416",
     "status": "completed"
    },
    "tags": []
   },
   "source": [
    "#### By Attribute"
   ]
  },
  {
   "cell_type": "code",
   "execution_count": null,
   "id": "ee9e1a51-7615-4715-9596-864a4541b72f",
   "metadata": {
    "papermill": {
     "duration": 0.345803,
     "end_time": "2023-07-13T13:05:19.639999",
     "exception": false,
     "start_time": "2023-07-13T13:05:19.294196",
     "status": "completed"
    },
    "tags": []
   },
   "outputs": [],
   "source": [
    "attribute_colors = [\n",
    "    colors_dict[i] for i in rush_df[rush_df[\"Legend\"]][\"Attribute\"].value_counts().index\n",
    "]\n",
    "rush_df[rush_df[\"Legend\"]][\"Attribute\"].value_counts().plot.bar(\n",
    "    figsize=(18, 6), grid=True, rot=0, color=attribute_colors, title=\"Attribute\"\n",
    ")\n",
    "plt.show()"
   ]
  },
  {
   "cell_type": "markdown",
   "id": "b3cb67be-f040-4b27-a8c3-d53cabe13eb6",
   "metadata": {
    "papermill": {
     "duration": 0.074798,
     "end_time": "2023-07-13T13:05:19.801948",
     "exception": false,
     "start_time": "2023-07-13T13:05:19.727150",
     "status": "completed"
    },
    "tags": []
   },
   "source": [
    "#### By primary type"
   ]
  },
  {
   "cell_type": "code",
   "execution_count": null,
   "id": "7fb2f031-eb86-4039-9327-003e9c482d4d",
   "metadata": {
    "papermill": {
     "duration": 0.361393,
     "end_time": "2023-07-13T13:05:20.238119",
     "exception": false,
     "start_time": "2023-07-13T13:05:19.876726",
     "status": "completed"
    },
    "tags": []
   },
   "outputs": [],
   "source": [
    "monster_type_colors = [\n",
    "    colors_dict[i]\n",
    "    for i in rush_df[rush_df[\"Legend\"]][\"Primary type\"].value_counts().index\n",
    "]\n",
    "rush_df[rush_df[\"Legend\"]][\"Primary type\"].value_counts().plot.bar(\n",
    "    figsize=(18, 6),\n",
    "    stacked=True,\n",
    "    grid=True,\n",
    "    rot=0,\n",
    "    legend=True,\n",
    "    color=monster_type_colors,\n",
    "    title=\"Primary types\",\n",
    ")\n",
    "# plt.yscale('log')\n",
    "plt.show()"
   ]
  },
  {
   "cell_type": "markdown",
   "id": "0be46d57-0758-4ae0-b274-ddb4130361f7",
   "metadata": {
    "papermill": {
     "duration": 0.07878,
     "end_time": "2023-07-13T13:05:20.398255",
     "exception": false,
     "start_time": "2023-07-13T13:05:20.319475",
     "status": "completed"
    },
    "tags": []
   },
   "source": [
    "#### By monster type"
   ]
  },
  {
   "cell_type": "code",
   "execution_count": null,
   "id": "d6db96fd-2340-4162-b6a1-55348e7653f4",
   "metadata": {
    "papermill": {
     "duration": 0.444902,
     "end_time": "2023-07-13T13:05:20.920394",
     "exception": false,
     "start_time": "2023-07-13T13:05:20.475492",
     "status": "completed"
    },
    "tags": []
   },
   "outputs": [],
   "source": [
    "monster_type_colors = colors_dict[\"Monster Card\"]\n",
    "rush_df[rush_df[\"Legend\"]][\"Monster type\"].value_counts().plot.bar(\n",
    "    figsize=(18, 6), grid=True, rot=0, color=monster_type_colors, title=\"Monster type\"\n",
    ")\n",
    "plt.show()"
   ]
  },
  {
   "cell_type": "markdown",
   "id": "7384cb37-3207-4eb4-842a-9b4d39f74eb1",
   "metadata": {
    "jp-MarkdownHeadingCollapsed": true,
    "papermill": {
     "duration": 0.120408,
     "end_time": "2023-07-13T13:05:21.121072",
     "exception": false,
     "start_time": "2023-07-13T13:05:21.000664",
     "status": "completed"
    },
    "tags": []
   },
   "source": [
    "## Artworks"
   ]
  },
  {
   "cell_type": "code",
   "execution_count": null,
   "id": "2224e061",
   "metadata": {
    "papermill": {
     "duration": 0.092394,
     "end_time": "2023-07-13T13:05:21.293439",
     "exception": false,
     "start_time": "2023-07-13T13:05:21.201045",
     "status": "completed"
    },
    "tags": []
   },
   "outputs": [],
   "source": [
    "print(\n",
    "    \"Total number of cards with edited or alternate artworks:\",\n",
    "    rush_df[\"Artwork\"].count(),\n",
    ")"
   ]
  },
  {
   "cell_type": "code",
   "execution_count": null,
   "id": "f7492a67",
   "metadata": {
    "papermill": {
     "duration": 0.123922,
     "end_time": "2023-07-13T13:05:21.496712",
     "exception": false,
     "start_time": "2023-07-13T13:05:21.372790",
     "status": "completed"
    },
    "tags": []
   },
   "outputs": [],
   "source": [
    "rush_df[[\"Name\", \"Artwork\"]].dropna()"
   ]
  },
  {
   "cell_type": "code",
   "execution_count": null,
   "id": "fa1ea6aa",
   "metadata": {
    "papermill": {
     "duration": 0.235387,
     "end_time": "2023-07-13T13:05:21.810331",
     "exception": false,
     "start_time": "2023-07-13T13:05:21.574944",
     "status": "completed"
    },
    "tags": []
   },
   "outputs": [],
   "source": [
    "artwork_value_counts = rush_df[\"Artwork\"].value_counts()\n",
    "plt.figure(figsize=(20, 8))\n",
    "plt.title(\"Artworks\")\n",
    "venn2(\n",
    "    subsets=(\n",
    "        artwork_value_counts[(\"Alternate\",)],\n",
    "        artwork_value_counts[(\"Edited\",)],\n",
    "        artwork_value_counts[(\"Alternate\", \"Edited\")],\n",
    "    ),\n",
    "    set_labels=(\"Alternate artwork\", \"Edited artwork\"),\n",
    ")\n",
    "plt.show()"
   ]
  },
  {
   "cell_type": "markdown",
   "id": "4d4723fb-3289-4046-9674-97fc05562588",
   "metadata": {
    "papermill": {
     "duration": 0.078188,
     "end_time": "2023-07-13T13:05:21.965737",
     "exception": false,
     "start_time": "2023-07-13T13:05:21.887549",
     "status": "completed"
    },
    "tags": []
   },
   "source": [
    "### By card type"
   ]
  },
  {
   "cell_type": "code",
   "execution_count": null,
   "id": "1b14c224",
   "metadata": {
    "papermill": {
     "duration": 0.109331,
     "end_time": "2023-07-13T13:05:22.153056",
     "exception": false,
     "start_time": "2023-07-13T13:05:22.043725",
     "status": "completed"
    },
    "tags": []
   },
   "outputs": [],
   "source": [
    "artwork_crosstab = pd.crosstab(rush_df[\"Artwork\"], rush_df[\"Card type\"])\n",
    "artwork_crosstab"
   ]
  },
  {
   "cell_type": "markdown",
   "id": "cd278ab5-2602-4935-83ee-0f8d04139770",
   "metadata": {
    "papermill": {
     "duration": 0.0786,
     "end_time": "2023-07-13T13:05:22.309469",
     "exception": false,
     "start_time": "2023-07-13T13:05:22.230869",
     "status": "completed"
    },
    "tags": []
   },
   "source": [
    "### By primary type"
   ]
  },
  {
   "cell_type": "code",
   "execution_count": null,
   "id": "55081aa0",
   "metadata": {
    "papermill": {
     "duration": 0.107747,
     "end_time": "2023-07-13T13:05:22.495469",
     "exception": false,
     "start_time": "2023-07-13T13:05:22.387722",
     "status": "completed"
    },
    "tags": []
   },
   "outputs": [],
   "source": [
    "artwork_crosstab_b = pd.crosstab(rush_df[\"Artwork\"], rush_df[\"Primary type\"])\n",
    "artwork_crosstab_b"
   ]
  },
  {
   "cell_type": "markdown",
   "id": "c981a204-49eb-42f3-b713-ceb7d5f65d10",
   "metadata": {
    "papermill": {
     "duration": 0.080996,
     "end_time": "2023-07-13T13:05:22.660512",
     "exception": false,
     "start_time": "2023-07-13T13:05:22.579516",
     "status": "completed"
    },
    "tags": []
   },
   "source": [
    "More granularity is unnecessary"
   ]
  },
  {
   "cell_type": "markdown",
   "id": "cb773a63-3390-46ec-9581-2699cad489d0",
   "metadata": {
    "jp-MarkdownHeadingCollapsed": true,
    "papermill": {
     "duration": 0.08134,
     "end_time": "2023-07-13T13:05:22.821248",
     "exception": false,
     "start_time": "2023-07-13T13:05:22.739908",
     "status": "completed"
    },
    "tags": []
   },
   "source": [
    "## Errata"
   ]
  },
  {
   "cell_type": "code",
   "execution_count": null,
   "id": "09b33100",
   "metadata": {
    "papermill": {
     "duration": 0.092539,
     "end_time": "2023-07-13T13:05:23.000293",
     "exception": false,
     "start_time": "2023-07-13T13:05:22.907754",
     "status": "completed"
    },
    "tags": []
   },
   "outputs": [],
   "source": [
    "print(\"Total number of cards with errata:\", rush_df[\"Errata\"].count())"
   ]
  },
  {
   "cell_type": "code",
   "execution_count": null,
   "id": "40462eee",
   "metadata": {
    "papermill": {
     "duration": 0.108887,
     "end_time": "2023-07-13T13:05:23.187808",
     "exception": false,
     "start_time": "2023-07-13T13:05:23.078921",
     "status": "completed"
    },
    "tags": []
   },
   "outputs": [],
   "source": [
    "rush_df[[\"Name\", \"Errata\"]].dropna()"
   ]
  },
  {
   "cell_type": "markdown",
   "id": "6dc9e131-7c84-4227-b438-773377e39bf4",
   "metadata": {
    "papermill": {
     "duration": 0.079334,
     "end_time": "2023-07-13T13:05:23.346220",
     "exception": false,
     "start_time": "2023-07-13T13:05:23.266886",
     "status": "completed"
    },
    "tags": []
   },
   "source": [
    "### By card type"
   ]
  },
  {
   "cell_type": "code",
   "execution_count": null,
   "id": "fb103c29",
   "metadata": {
    "papermill": {
     "duration": 0.110387,
     "end_time": "2023-07-13T13:05:23.536951",
     "exception": false,
     "start_time": "2023-07-13T13:05:23.426564",
     "status": "completed"
    },
    "tags": []
   },
   "outputs": [],
   "source": [
    "errata_crosstab = pd.crosstab(rush_df[\"Errata\"], rush_df[\"Card type\"])\n",
    "errata_crosstab"
   ]
  },
  {
   "cell_type": "markdown",
   "id": "edd51025-c854-4ba9-ade7-34928fad863a",
   "metadata": {
    "papermill": {
     "duration": 0.081968,
     "end_time": "2023-07-13T13:05:23.700771",
     "exception": false,
     "start_time": "2023-07-13T13:05:23.618803",
     "status": "completed"
    },
    "tags": []
   },
   "source": [
    "### By primary type"
   ]
  },
  {
   "cell_type": "code",
   "execution_count": null,
   "id": "5b90628d",
   "metadata": {
    "papermill": {
     "duration": 0.109013,
     "end_time": "2023-07-13T13:05:23.888868",
     "exception": false,
     "start_time": "2023-07-13T13:05:23.779855",
     "status": "completed"
    },
    "tags": []
   },
   "outputs": [],
   "source": [
    "errata_crosstab_b = pd.crosstab(rush_df[\"Errata\"], rush_df[\"Primary type\"])\n",
    "errata_crosstab_b"
   ]
  },
  {
   "cell_type": "markdown",
   "id": "15bd30db-5e91-46f1-9fa2-085c464f24b0",
   "metadata": {
    "papermill": {
     "duration": 0.079576,
     "end_time": "2023-07-13T13:05:24.048507",
     "exception": false,
     "start_time": "2023-07-13T13:05:23.968931",
     "status": "completed"
    },
    "tags": []
   },
   "source": [
    "### By artwork"
   ]
  },
  {
   "cell_type": "code",
   "execution_count": null,
   "id": "0057def3",
   "metadata": {
    "papermill": {
     "duration": 0.11292,
     "end_time": "2023-07-13T13:05:24.246053",
     "exception": false,
     "start_time": "2023-07-13T13:05:24.133133",
     "status": "completed"
    },
    "tags": []
   },
   "outputs": [],
   "source": [
    "errata_crosstab_c = pd.crosstab(rush_df[\"Artwork\"], rush_df[\"Errata\"])\n",
    "errata_crosstab_c"
   ]
  },
  {
   "cell_type": "markdown",
   "id": "092fb537-d487-46ae-9fc7-92a6082d3d95",
   "metadata": {
    "papermill": {
     "duration": 0.080067,
     "end_time": "2023-07-13T13:05:24.408390",
     "exception": false,
     "start_time": "2023-07-13T13:05:24.328323",
     "status": "completed"
    },
    "tags": []
   },
   "source": [
    "More granularity is unnecessary"
   ]
  },
  {
   "cell_type": "markdown",
   "id": "0d885c37-1f07-44af-9c60-2d0b5be3d1c1",
   "metadata": {
    "papermill": {
     "duration": 0.081495,
     "end_time": "2023-07-13T13:05:24.569518",
     "exception": false,
     "start_time": "2023-07-13T13:05:24.488023",
     "status": "completed"
    },
    "tags": []
   },
   "source": [
    "# Epilogue"
   ]
  },
  {
   "cell_type": "code",
   "execution_count": null,
   "id": "dbe203e9-01c7-4e24-ba21-3f1d1adefc7b",
   "metadata": {
    "papermill": {
     "duration": 0.114318,
     "end_time": "2023-07-13T13:05:24.765579",
     "exception": false,
     "start_time": "2023-07-13T13:05:24.651261",
     "status": "completed"
    },
    "tags": []
   },
   "outputs": [],
   "source": [
    "benchmark(\"rush\", timestamp)"
   ]
  },
  {
   "cell_type": "code",
   "execution_count": null,
   "id": "8ba1a4e5-c217-4503-871a-c29e6d6d325d",
   "metadata": {
    "papermill": {
     "duration": 0.101548,
     "end_time": "2023-07-13T13:05:24.946906",
     "exception": false,
     "start_time": "2023-07-13T13:05:24.845358",
     "status": "completed"
    },
    "tags": []
   },
   "outputs": [],
   "source": [
    "footer(timestamp)"
   ]
  },
  {
   "cell_type": "markdown",
   "id": "e9d01a2d-b954-4e6e-ba2c-d30cbbf5670e",
   "metadata": {
    "papermill": {
     "duration": 0.07983,
     "end_time": "2023-07-13T13:05:25.108866",
     "exception": false,
     "start_time": "2023-07-13T13:05:25.029036",
     "status": "completed"
    },
    "tags": []
   },
   "source": [
    "## HTML export"
   ]
  },
  {
   "cell_type": "code",
   "execution_count": null,
   "id": "3c939c45-1e4c-444a-93c9-d39c797c4946",
   "metadata": {
    "papermill": {
     "duration": 0.097696,
     "end_time": "2023-07-13T13:05:25.288697",
     "exception": false,
     "start_time": "2023-07-13T13:05:25.191001",
     "status": "completed"
    },
    "tags": []
   },
   "outputs": [],
   "source": [
    "# Save notebook on disck before generating HTML report\n",
    "save_notebook()"
   ]
  },
  {
   "cell_type": "code",
   "execution_count": null,
   "id": "7c071232-e7a7-4130-ab05-6331289df6f0",
   "metadata": {
    "papermill": {
     "duration": 3.186012,
     "end_time": "2023-07-13T13:05:28.556666",
     "exception": false,
     "start_time": "2023-07-13T13:05:25.370654",
     "status": "completed"
    },
    "tags": []
   },
   "outputs": [],
   "source": [
    "! jupyter nbconvert Rush.ipynb --output-dir='../' --to=HTML --TagRemovePreprocessor.enabled=True --TagRemovePreprocessor.remove_cell_tags='exclude' --TemplateExporter.exclude_input=True --TemplateExporter.exclude_input_prompt=True --TemplateExporter.exclude_output_prompt=True"
   ]
  },
  {
   "cell_type": "markdown",
   "id": "ca83b780-5172-40c2-a0de-ed7b5abc8dc1",
   "metadata": {
    "papermill": {
     "duration": 0.081037,
     "end_time": "2023-07-13T13:05:28.725030",
     "exception": false,
     "start_time": "2023-07-13T13:05:28.643993",
     "status": "completed"
    },
    "tags": [
     "exclude"
    ]
   },
   "source": [
    "## Git"
   ]
  },
  {
   "cell_type": "code",
   "execution_count": null,
   "id": "8706d855-ab53-49a9-9a7c-9a664a53e5a3",
   "metadata": {
    "papermill": {
     "duration": null,
     "end_time": null,
     "exception": false,
     "start_time": "2023-07-13T13:05:28.808534",
     "status": "running"
    },
    "tags": [
     "exclude"
    ]
   },
   "outputs": [],
   "source": [
    "! git add \"../*[Rr]ush*\""
   ]
  },
  {
   "cell_type": "code",
   "execution_count": null,
   "id": "1ef305d7-78a7-4649-920c-c0ca471ad3f8",
   "metadata": {
    "papermill": {
     "duration": null,
     "end_time": null,
     "exception": null,
     "start_time": null,
     "status": "pending"
    },
    "tags": [
     "exclude"
    ]
   },
   "outputs": [],
   "source": [
    "! git commit -m {\"'Rush duel update-\" + timestamp.isoformat() + \"'\"}"
   ]
  }
 ],
 "metadata": {
  "kernelspec": {
   "display_name": "Python 3 (ipykernel)",
   "language": "python",
   "name": "python3"
  },
  "language_info": {
   "codemirror_mode": {
    "name": "ipython",
    "version": 3
   },
   "file_extension": ".py",
   "mimetype": "text/x-python",
   "name": "python",
   "nbconvert_exporter": "python",
   "pygments_lexer": "ipython3",
   "version": "3.10.12"
  },
  "papermill": {
   "default_parameters": {},
   "duration": null,
   "end_time": null,
   "environment_variables": {},
   "exception": null,
   "input_path": "Rush.ipynb",
   "output_path": "Rush.ipynb",
   "parameters": {},
   "start_time": "2023-07-13T13:04:38.383850",
   "version": "2.4.0"
  },
  "toc": {
   "base_numbering": 1,
   "nav_menu": {},
   "number_sections": true,
   "sideBar": true,
   "skip_h1_title": false,
   "title_cell": "Table of Contents",
   "title_sidebar": "Contents",
   "toc_cell": true,
   "toc_position": {},
   "toc_section_display": true,
   "toc_window_display": false
  }
 },
 "nbformat": 4,
 "nbformat_minor": 5
}
