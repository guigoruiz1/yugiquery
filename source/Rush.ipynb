{
 "cells": [
  {
   "cell_type": "code",
   "execution_count": null,
   "id": "db3fea09-dd17-4d4f-9751-4db442584d19",
   "metadata": {
    "papermill": {
     "duration": 25.268134,
     "end_time": "2023-02-20T18:30:25.111730",
     "exception": false,
     "start_time": "2023-02-20T18:29:59.843596",
     "status": "completed"
    },
    "tags": []
   },
   "outputs": [],
   "source": [
    "from yugiquery import *\n",
    "header('Rush Duel')"
   ]
  },
  {
   "cell_type": "markdown",
   "id": "f26c89c2-c447-43a2-997b-603775191de3",
   "metadata": {
    "papermill": {
     "duration": 0.067103,
     "end_time": "2023-02-20T18:30:25.217227",
     "exception": false,
     "start_time": "2023-02-20T18:30:25.150124",
     "status": "completed"
    },
    "tags": []
   },
   "source": [
    "---"
   ]
  },
  {
   "cell_type": "markdown",
   "id": "aef2db3f",
   "metadata": {
    "papermill": {
     "duration": 0.037092,
     "end_time": "2023-02-20T18:30:25.289717",
     "exception": false,
     "start_time": "2023-02-20T18:30:25.252625",
     "status": "completed"
    },
    "tags": []
   },
   "source": [
    "Table of Contents\n",
    "=================\n",
    "\n",
    "*   [1  Data aquisition](#Data-aquisition)\n",
    "    *   [1.1  Fetch online data](#Fetch-online-data)\n",
    "    *   [1.2  Merge data](#Merge-data)\n",
    "*   [2  Check changes](#Check-changes)\n",
    "    *   [2.1  Load previous data](#Load-previous-data)\n",
    "    *   [2.2  Generate changelog](#Generate-changelog)\n",
    "    *   [2.3  Save data](#Save-data)\n",
    "*   [3  Data visualization](#Data-visualization)\n",
    "    *   [3.1  Card type](#Card-type)\n",
    "    *   [3.2  Monsters](#Monsters)\n",
    "        *   [3.2.1  Attribute](#Attribute)\n",
    "        *   [3.2.2  Primary type](#Primary-type)\n",
    "            *   [3.2.2.1  Has effect discrimination](#Has-effect-discrimination)\n",
    "            *   [3.2.2.2  By attribute](#By-attribute)\n",
    "        *   [3.2.3  Monster type](#Monster-type)\n",
    "            *   [3.2.3.1  By Attribute](#By-Attribute)\n",
    "            *   [3.2.3.2  By primary type](#By-primary-type)\n",
    "        *   [3.2.4  Effect type](#Effect-type)\n",
    "        *   [3.2.5  ATK](#ATK)\n",
    "        *   [3.2.6  DEF](#DEF)\n",
    "        *   [3.2.7  Maximum mode](#Maximum-mode)\n",
    "            *   [3.2.7.1  MAXIMUM ATK](#MAXIMUM-ATK)\n",
    "        *   [3.2.8  Level/Rank](#Level/Rank)\n",
    "            *   [3.2.8.1  ATK statistics](#ATK-statistics)\n",
    "            *   [3.2.8.2  DEF statistics](#DEF-statistics)\n",
    "    *   [3.3  Spell & Trap](#Spell-&-Trap)\n",
    "        *   [3.3.1  Properties](#Properties)\n",
    "    *   [3.4  Archseries](#Archseries)\n",
    "        *   [3.4.1  By card type](#By-card-type)\n",
    "        *   [3.4.2  By primary type](#By-primary-type)\n",
    "        *   [3.4.3  By monster type](#By-monster-type)\n",
    "        *   [3.4.4  By property](#By-property)\n",
    "    *   [3.5  Legend](#Legend)\n",
    "        *   *   [3.5.0.1  By card type](#By-card-type)\n",
    "            *   [3.5.0.2  By Attribute](#By-Attribute)\n",
    "            *   [3.5.0.3  By primary type](#By-primary-type)\n",
    "            *   [3.5.0.4  By monster type](#By-monster-type)\n",
    "    *   [3.6  Artworks](#Artworks)\n",
    "        *   [3.6.1  By card type](#By-card-type)\n",
    "        *   [3.6.2  By primary type](#By-primary-type)\n",
    "    *   [3.7  Errata](#Errata)\n",
    "        *   [3.7.1  By card type](#By-card-type)\n",
    "        *   [3.7.2  By primary type](#By-primary-type)\n",
    "        *   [3.7.3  By artwork](#By-artwork)\n",
    "*   [4  Epilogue](#Epilogue)\n",
    "    *   [4.1  HTML export](#HTML-export)\n",
    "<!--     *   [4.2  Git](#Git) -->"
   ]
  },
  {
   "cell_type": "markdown",
   "id": "f21bcaec-0f80-4b9a-939c-c4bd159ee18b",
   "metadata": {
    "papermill": {
     "duration": 0.031787,
     "end_time": "2023-02-20T18:30:25.362501",
     "exception": false,
     "start_time": "2023-02-20T18:30:25.330714",
     "status": "completed"
    },
    "tags": []
   },
   "source": [
    "# Data aquisition"
   ]
  },
  {
   "cell_type": "markdown",
   "id": "7642e7a7-408a-47af-a6d3-8d8e6c733581",
   "metadata": {
    "papermill": {
     "duration": 0.028201,
     "end_time": "2023-02-20T18:30:25.420308",
     "exception": false,
     "start_time": "2023-02-20T18:30:25.392107",
     "status": "completed"
    },
    "tags": []
   },
   "source": [
    "## Fetch online data"
   ]
  },
  {
   "cell_type": "code",
   "execution_count": null,
   "id": "88db0457-64ee-4b1f-a642-1488b81ecad1",
   "metadata": {
    "papermill": {
     "duration": 0.040966,
     "end_time": "2023-02-20T18:30:25.490434",
     "exception": false,
     "start_time": "2023-02-20T18:30:25.449468",
     "status": "completed"
    },
    "tags": []
   },
   "outputs": [],
   "source": [
    "# Timestamp\n",
    "timestamp = pd.Timestamp.now()"
   ]
  },
  {
   "cell_type": "code",
   "execution_count": null,
   "id": "4cf61b44-a485-4af9-9465-b4eb2431a730",
   "metadata": {
    "papermill": {
     "duration": 78.296301,
     "end_time": "2023-02-20T18:31:43.823906",
     "exception": false,
     "start_time": "2023-02-20T18:30:25.527605",
     "status": "completed"
    },
    "tags": []
   },
   "outputs": [],
   "source": [
    "# Fetch rush cards\n",
    "rush_df = fetch_rush()\n",
    "\n",
    "# Fetch errata\n",
    "errata_df = fetch_errata()"
   ]
  },
  {
   "cell_type": "markdown",
   "id": "ee9ee76b-014b-4be4-88f7-f5206f5f53a9",
   "metadata": {
    "papermill": {
     "duration": 0.085499,
     "end_time": "2023-02-20T18:31:43.944138",
     "exception": false,
     "start_time": "2023-02-20T18:31:43.858639",
     "status": "completed"
    },
    "tags": []
   },
   "source": [
    "## Merge data"
   ]
  },
  {
   "cell_type": "code",
   "execution_count": null,
   "id": "2d4d4c95-d88d-44d2-80f0-76e9402d8215",
   "metadata": {
    "papermill": {
     "duration": 0.197429,
     "end_time": "2023-02-20T18:31:44.173727",
     "exception": false,
     "start_time": "2023-02-20T18:31:43.976298",
     "status": "completed"
    },
    "tags": []
   },
   "outputs": [],
   "source": [
    "rush_df = merge_errata(rush_df, errata_df)\n",
    "print('Data merged')"
   ]
  },
  {
   "cell_type": "markdown",
   "id": "de464ac7-ef5b-49f9-8679-9883d5ec151b",
   "metadata": {
    "papermill": {
     "duration": 0.028623,
     "end_time": "2023-02-20T18:31:44.231310",
     "exception": false,
     "start_time": "2023-02-20T18:31:44.202687",
     "status": "completed"
    },
    "tags": []
   },
   "source": [
    "# Check changes"
   ]
  },
  {
   "cell_type": "markdown",
   "id": "0372e9c7-e778-4c0a-8ba4-b61cf3537eab",
   "metadata": {
    "papermill": {
     "duration": 0.029377,
     "end_time": "2023-02-20T18:31:44.290033",
     "exception": false,
     "start_time": "2023-02-20T18:31:44.260656",
     "status": "completed"
    },
    "tags": []
   },
   "source": [
    "## Load previous data"
   ]
  },
  {
   "cell_type": "code",
   "execution_count": null,
   "id": "b4a34ba1-72d5-4b99-9f26-c2d9954c0c9f",
   "metadata": {
    "papermill": {
     "duration": 0.045647,
     "end_time": "2023-02-20T18:31:44.364740",
     "exception": false,
     "start_time": "2023-02-20T18:31:44.319093",
     "status": "completed"
    },
    "tags": []
   },
   "outputs": [],
   "source": [
    "# Get list of files\n",
    "files_list = sorted(glob.glob('../data/all_rush_*.csv'), key=os.path.getctime, reverse=True)\n",
    "# Get second newest file if exist\n",
    "if files_list:\n",
    "    # Load csv avoiding converting \"NA\" to NaN\n",
    "    previous_df = pd.read_csv(files_list[0], dtype=object, keep_default_na=False, na_values=[''])\n",
    "    # Correct tuples\n",
    "    previous_df['Effect type'] = previous_df['Effect type'].dropna().apply(literal_eval)\n",
    "    previous_df['Archseries'] = previous_df['Archseries'].dropna().apply(literal_eval)\n",
    "    previous_df['Artwork'] = previous_df['Artwork'].dropna().apply(literal_eval)\n",
    "    previous_df['Errata'] = previous_df['Errata'].dropna().apply(literal_eval)\n",
    "    previous_df['Legend'] = previous_df['Legend'].dropna().apply(literal_eval)\n",
    "    previous_df['Maximum mode'] = previous_df['Maximum mode'].dropna().apply(literal_eval)\n",
    "    # Force dtypes to match current df\n",
    "    previous_df = previous_df.astype(rush_df[previous_df.columns.intersection(rush_df.columns)].dtypes.to_dict())\n",
    "    previous_ts = pd.to_datetime(os.path.basename(files_list[0]).split('_')[-1].rstrip('.csv'))\n",
    "    print('File loaded')\n",
    "else:\n",
    "    previous_df = None\n",
    "    print('No older files')"
   ]
  },
  {
   "cell_type": "markdown",
   "id": "509b3cf8-1402-4ded-b007-e8dd541ed558",
   "metadata": {
    "papermill": {
     "duration": 0.028935,
     "end_time": "2023-02-20T18:31:44.423180",
     "exception": false,
     "start_time": "2023-02-20T18:31:44.394245",
     "status": "completed"
    },
    "tags": []
   },
   "source": [
    "## Generate changelog"
   ]
  },
  {
   "cell_type": "code",
   "execution_count": null,
   "id": "bc574063-ab48-4d47-9e34-e50508be8024",
   "metadata": {
    "papermill": {
     "duration": 0.041476,
     "end_time": "2023-02-20T18:31:44.494638",
     "exception": false,
     "start_time": "2023-02-20T18:31:44.453162",
     "status": "completed"
    },
    "tags": []
   },
   "outputs": [],
   "source": [
    "if previous_df is None:\n",
    "    changelog = None\n",
    "    print('Skipped')\n",
    "else:\n",
    "    changelog = generate_changelog(previous_df, rush_df, col = 'Name')\n",
    "    if not changelog.empty:\n",
    "        display(changelog)\n",
    "        changelog.to_csv(f'../data/rush_changelog_{timestamp.isoformat(timespec=\"minutes\")}_{previous_ts.isoformat(timespec=\"minutes\")}.csv', index = True)\n",
    "        print('Changelog saved')"
   ]
  },
  {
   "cell_type": "markdown",
   "id": "feeb2511-c891-4047-8e87-4106f7ecd222",
   "metadata": {
    "papermill": {
     "duration": 0.029245,
     "end_time": "2023-02-20T18:31:44.553900",
     "exception": false,
     "start_time": "2023-02-20T18:31:44.524655",
     "status": "completed"
    },
    "tags": []
   },
   "source": [
    "## Save data"
   ]
  },
  {
   "cell_type": "code",
   "execution_count": null,
   "id": "7508d7a5-8398-4596-9079-64cf9ebd6e77",
   "metadata": {
    "papermill": {
     "duration": 0.133272,
     "end_time": "2023-02-20T18:31:44.716290",
     "exception": false,
     "start_time": "2023-02-20T18:31:44.583018",
     "status": "completed"
    },
    "tags": []
   },
   "outputs": [],
   "source": [
    "if changelog is not None and changelog.empty:\n",
    "    print('No changes. New data not saved')\n",
    "else:\n",
    "    rush_df.to_csv(f'../data/all_rush_{timestamp.isoformat(timespec=\"minutes\")}.csv', index=False)\n",
    "    print('Data saved')"
   ]
  },
  {
   "cell_type": "markdown",
   "id": "31a8ceb7-8c7f-4d88-ad6d-9450970d0be9",
   "metadata": {
    "papermill": {
     "duration": 0.029771,
     "end_time": "2023-02-20T18:31:44.775309",
     "exception": false,
     "start_time": "2023-02-20T18:31:44.745538",
     "status": "completed"
    },
    "tags": []
   },
   "source": [
    "# Data visualization"
   ]
  },
  {
   "cell_type": "code",
   "execution_count": null,
   "id": "effa94cb-10ed-4dff-b33b-df6601744e6c",
   "metadata": {
    "papermill": {
     "duration": 0.075356,
     "end_time": "2023-02-20T18:31:44.879956",
     "exception": false,
     "start_time": "2023-02-20T18:31:44.804600",
     "status": "completed"
    },
    "tags": []
   },
   "outputs": [],
   "source": [
    "rush_df"
   ]
  },
  {
   "cell_type": "markdown",
   "id": "6f265c0c-ee8f-4e14-97a2-8f5011fade4d",
   "metadata": {
    "jp-MarkdownHeadingCollapsed": true,
    "papermill": {
     "duration": 0.029735,
     "end_time": "2023-02-20T18:31:44.941779",
     "exception": false,
     "start_time": "2023-02-20T18:31:44.912044",
     "status": "completed"
    },
    "tags": []
   },
   "source": [
    "## Card type"
   ]
  },
  {
   "cell_type": "code",
   "execution_count": null,
   "id": "d0eb0759-1dfe-4dd3-8f5e-b442a615a487",
   "metadata": {
    "papermill": {
     "duration": 0.042919,
     "end_time": "2023-02-20T18:31:45.014825",
     "exception": false,
     "start_time": "2023-02-20T18:31:44.971906",
     "status": "completed"
    },
    "tags": []
   },
   "outputs": [],
   "source": [
    "rush_df['Card type'].nunique()"
   ]
  },
  {
   "cell_type": "code",
   "execution_count": null,
   "id": "bdba8960-9b45-4f10-93a2-c7edb4cb0fb5",
   "metadata": {
    "papermill": {
     "duration": 0.551349,
     "end_time": "2023-02-20T18:31:45.597582",
     "exception": false,
     "start_time": "2023-02-20T18:31:45.046233",
     "status": "completed"
    },
    "tags": []
   },
   "outputs": [],
   "source": [
    "card_type_colors = [colors_dict[i] for i in rush_df['Card type'].value_counts().index]\n",
    "rush_df['Card type'].value_counts().plot.bar(figsize = (18,6), grid = True, rot=0, color = card_type_colors, title = 'Card type')\n",
    "plt.show()"
   ]
  },
  {
   "cell_type": "markdown",
   "id": "efd09d32-f551-40c5-8c4f-ea5de85722fa",
   "metadata": {
    "papermill": {
     "duration": 0.033067,
     "end_time": "2023-02-20T18:31:45.668299",
     "exception": false,
     "start_time": "2023-02-20T18:31:45.635232",
     "status": "completed"
    },
    "tags": []
   },
   "source": [
    "## Monsters"
   ]
  },
  {
   "cell_type": "markdown",
   "id": "61a76912-a0db-4680-93ef-fff91938644f",
   "metadata": {
    "jp-MarkdownHeadingCollapsed": true,
    "papermill": {
     "duration": 0.030526,
     "end_time": "2023-02-20T18:31:45.730751",
     "exception": false,
     "start_time": "2023-02-20T18:31:45.700225",
     "status": "completed"
    },
    "tags": []
   },
   "source": [
    "### Attribute"
   ]
  },
  {
   "cell_type": "code",
   "execution_count": null,
   "id": "aa4e6a26",
   "metadata": {
    "papermill": {
     "duration": 0.041066,
     "end_time": "2023-02-20T18:31:45.803766",
     "exception": false,
     "start_time": "2023-02-20T18:31:45.762700",
     "status": "completed"
    },
    "tags": []
   },
   "outputs": [],
   "source": [
    "print('Total number of attributes:', rush_df['Attribute'].nunique())"
   ]
  },
  {
   "cell_type": "code",
   "execution_count": null,
   "id": "ea26720e",
   "metadata": {
    "papermill": {
     "duration": 0.076266,
     "end_time": "2023-02-20T18:31:45.912740",
     "exception": false,
     "start_time": "2023-02-20T18:31:45.836474",
     "status": "completed"
    },
    "tags": []
   },
   "outputs": [],
   "source": [
    "rush_df.drop(columns=['Card type']).groupby('Attribute').nunique()"
   ]
  },
  {
   "cell_type": "code",
   "execution_count": null,
   "id": "c4ff5f74",
   "metadata": {
    "papermill": {
     "duration": 0.295408,
     "end_time": "2023-02-20T18:31:46.239970",
     "exception": false,
     "start_time": "2023-02-20T18:31:45.944562",
     "status": "completed"
    },
    "tags": []
   },
   "outputs": [],
   "source": [
    "attribute_colors = [colors_dict[i] for i in rush_df['Attribute'].value_counts().index]\n",
    "rush_df['Attribute'].value_counts().plot.bar(figsize = (18,6), grid = True, rot=0, color = attribute_colors, title = 'Attribute')\n",
    "plt.show()"
   ]
  },
  {
   "cell_type": "markdown",
   "id": "52ec4c63-62b0-4f14-a410-6d73439fade0",
   "metadata": {
    "jp-MarkdownHeadingCollapsed": true,
    "papermill": {
     "duration": 0.036735,
     "end_time": "2023-02-20T18:31:46.310278",
     "exception": false,
     "start_time": "2023-02-20T18:31:46.273543",
     "status": "completed"
    },
    "tags": []
   },
   "source": [
    "### Primary type"
   ]
  },
  {
   "cell_type": "code",
   "execution_count": null,
   "id": "26e45412",
   "metadata": {
    "papermill": {
     "duration": 0.044776,
     "end_time": "2023-02-20T18:31:46.387986",
     "exception": false,
     "start_time": "2023-02-20T18:31:46.343210",
     "status": "completed"
    },
    "tags": []
   },
   "outputs": [],
   "source": [
    "print('Total number of primary types:', rush_df['Primary type'].nunique())"
   ]
  },
  {
   "cell_type": "code",
   "execution_count": null,
   "id": "c7e4c6b0",
   "metadata": {
    "papermill": {
     "duration": 0.079216,
     "end_time": "2023-02-20T18:31:46.500544",
     "exception": false,
     "start_time": "2023-02-20T18:31:46.421328",
     "status": "completed"
    },
    "tags": []
   },
   "outputs": [],
   "source": [
    "rush_df.drop(columns=['Card type']).groupby('Primary type').nunique()"
   ]
  },
  {
   "cell_type": "markdown",
   "id": "fcf42253-51c4-4c29-ad63-d54e730cf4bf",
   "metadata": {
    "papermill": {
     "duration": 0.034454,
     "end_time": "2023-02-20T18:31:46.573312",
     "exception": false,
     "start_time": "2023-02-20T18:31:46.538858",
     "status": "completed"
    },
    "tags": []
   },
   "source": [
    "#### Has effect discrimination"
   ]
  },
  {
   "cell_type": "code",
   "execution_count": null,
   "id": "56a59624",
   "metadata": {
    "papermill": {
     "duration": 0.066578,
     "end_time": "2023-02-20T18:31:46.676116",
     "exception": false,
     "start_time": "2023-02-20T18:31:46.609538",
     "status": "completed"
    },
    "tags": []
   },
   "outputs": [],
   "source": [
    "has_effect = rush_df['Primary type'].where(rush_df['Effect type'].notna()).value_counts().rename('Effect')\n",
    "no_effect = rush_df['Primary type'].where(rush_df['Effect type'].isna()).value_counts().rename('No Effect')\n",
    "effect = pd.concat([has_effect,no_effect], axis=1).fillna(0).astype(int)\n",
    "effect"
   ]
  },
  {
   "cell_type": "code",
   "execution_count": null,
   "id": "82c24448",
   "metadata": {
    "papermill": {
     "duration": 0.315045,
     "end_time": "2023-02-20T18:31:47.025309",
     "exception": false,
     "start_time": "2023-02-20T18:31:46.710264",
     "status": "completed"
    },
    "tags": []
   },
   "outputs": [],
   "source": [
    "monster_type_colors = {'No Effect': colors_dict['Normal Monster'], 'Effect': [colors_dict[i] for i in effect.index]}\n",
    "effect.plot.bar(figsize = (18,6), stacked = True, grid = True, rot=0,  legend=True, color = monster_type_colors, title = 'Primary types - Has effect')\n",
    "# plt.yscale('log')\n",
    "plt.show()"
   ]
  },
  {
   "cell_type": "markdown",
   "id": "5937a77e-f719-44fc-a595-cbaf054f3f8d",
   "metadata": {
    "papermill": {
     "duration": 0.033816,
     "end_time": "2023-02-20T18:31:47.093517",
     "exception": false,
     "start_time": "2023-02-20T18:31:47.059701",
     "status": "completed"
    },
    "tags": []
   },
   "source": [
    "Obs: Effect monster can show as no effect if it is not released yet"
   ]
  },
  {
   "cell_type": "markdown",
   "id": "25151736-6b5f-406e-9269-312433ff78b8",
   "metadata": {
    "papermill": {
     "duration": 0.034342,
     "end_time": "2023-02-20T18:31:47.161977",
     "exception": false,
     "start_time": "2023-02-20T18:31:47.127635",
     "status": "completed"
    },
    "tags": []
   },
   "source": [
    "#### By attribute"
   ]
  },
  {
   "cell_type": "code",
   "execution_count": null,
   "id": "9c162519",
   "metadata": {
    "papermill": {
     "duration": 0.080949,
     "end_time": "2023-02-20T18:31:47.282983",
     "exception": false,
     "start_time": "2023-02-20T18:31:47.202034",
     "status": "completed"
    },
    "tags": []
   },
   "outputs": [],
   "source": [
    "primmary_crosstab = pd.crosstab(rush_df['Primary type'],rush_df['Attribute'])\n",
    "primmary_crosstab"
   ]
  },
  {
   "cell_type": "code",
   "execution_count": null,
   "id": "a0114f45",
   "metadata": {
    "papermill": {
     "duration": 0.730488,
     "end_time": "2023-02-20T18:31:48.049215",
     "exception": false,
     "start_time": "2023-02-20T18:31:47.318727",
     "status": "completed"
    },
    "tags": []
   },
   "outputs": [],
   "source": [
    "plt.figure(figsize = (16,6))\n",
    "sns.heatmap(primmary_crosstab, annot=True, fmt=\"g\", cmap='viridis', square=True, norm=mc.LogNorm())\n",
    "plt.show()"
   ]
  },
  {
   "cell_type": "markdown",
   "id": "1cec1d3f-9089-4e2c-8263-19996a56fb94",
   "metadata": {
    "jp-MarkdownHeadingCollapsed": true,
    "papermill": {
     "duration": 0.070946,
     "end_time": "2023-02-20T18:31:48.156089",
     "exception": false,
     "start_time": "2023-02-20T18:31:48.085143",
     "status": "completed"
    },
    "tags": []
   },
   "source": [
    "### Monster type"
   ]
  },
  {
   "cell_type": "code",
   "execution_count": null,
   "id": "f9375423-085f-4a01-a981-5c49758ee2fe",
   "metadata": {
    "papermill": {
     "duration": 0.045505,
     "end_time": "2023-02-20T18:31:48.247837",
     "exception": false,
     "start_time": "2023-02-20T18:31:48.202332",
     "status": "completed"
    },
    "tags": []
   },
   "outputs": [],
   "source": [
    "print('Total number of monster types:', rush_df['Monster type'].nunique())"
   ]
  },
  {
   "cell_type": "code",
   "execution_count": null,
   "id": "cce35ef4-1aba-4209-9bb0-8777ca156238",
   "metadata": {
    "papermill": {
     "duration": 0.160616,
     "end_time": "2023-02-20T18:31:48.444137",
     "exception": false,
     "start_time": "2023-02-20T18:31:48.283521",
     "status": "completed"
    },
    "tags": []
   },
   "outputs": [],
   "source": [
    "rush_df.drop(columns=['Card type']).groupby('Monster type').nunique()"
   ]
  },
  {
   "cell_type": "code",
   "execution_count": null,
   "id": "d270a94e-dd85-4790-9382-67057d7ee9ad",
   "metadata": {
    "papermill": {
     "duration": 0.575566,
     "end_time": "2023-02-20T18:31:49.221164",
     "exception": false,
     "start_time": "2023-02-20T18:31:48.645598",
     "status": "completed"
    },
    "tags": []
   },
   "outputs": [],
   "source": [
    "monster_type_colors = colors_dict['Monster Card']\n",
    "rush_df['Monster type'].value_counts().plot.bar(figsize = (18,6), grid = True, rot=60, color = monster_type_colors, title = 'Monster type')\n",
    "plt.show()"
   ]
  },
  {
   "cell_type": "markdown",
   "id": "c46d460f-9cb2-4f9d-9533-3416c26bf159",
   "metadata": {
    "jp-MarkdownHeadingCollapsed": true,
    "papermill": {
     "duration": 0.061899,
     "end_time": "2023-02-20T18:31:49.321954",
     "exception": false,
     "start_time": "2023-02-20T18:31:49.260055",
     "status": "completed"
    },
    "tags": []
   },
   "source": [
    "#### By Attribute"
   ]
  },
  {
   "cell_type": "code",
   "execution_count": null,
   "id": "9664b46c-b835-45ea-905b-b1d9460eb241",
   "metadata": {
    "papermill": {
     "duration": 0.077589,
     "end_time": "2023-02-20T18:31:49.437787",
     "exception": false,
     "start_time": "2023-02-20T18:31:49.360198",
     "status": "completed"
    },
    "tags": []
   },
   "outputs": [],
   "source": [
    "monster_crosstab = pd.crosstab(rush_df['Monster type'],rush_df['Attribute'], dropna=False)\n",
    "monster_crosstab"
   ]
  },
  {
   "cell_type": "code",
   "execution_count": null,
   "id": "71a77985-bff7-4bfc-a1b2-8c19b34a314c",
   "metadata": {
    "papermill": {
     "duration": 1.11841,
     "end_time": "2023-02-20T18:31:50.602053",
     "exception": false,
     "start_time": "2023-02-20T18:31:49.483643",
     "status": "completed"
    },
    "tags": []
   },
   "outputs": [],
   "source": [
    "plt.figure(figsize = (20,4))\n",
    "sns.heatmap(monster_crosstab[monster_crosstab>0].T, annot=True, fmt=\"g\", cmap='viridis', square=True, norm=mc.LogNorm())\n",
    "plt.show()"
   ]
  },
  {
   "cell_type": "markdown",
   "id": "2ecc77ec-6841-4d6a-9983-2316412d4154",
   "metadata": {
    "papermill": {
     "duration": 0.073311,
     "end_time": "2023-02-20T18:31:50.717171",
     "exception": false,
     "start_time": "2023-02-20T18:31:50.643860",
     "status": "completed"
    },
    "tags": []
   },
   "source": [
    "#### By primary type"
   ]
  },
  {
   "cell_type": "code",
   "execution_count": null,
   "id": "f2e9d55a-e781-428e-b08c-efedf2a37392",
   "metadata": {
    "papermill": {
     "duration": 0.072214,
     "end_time": "2023-02-20T18:31:50.830731",
     "exception": false,
     "start_time": "2023-02-20T18:31:50.758517",
     "status": "completed"
    },
    "tags": []
   },
   "outputs": [],
   "source": [
    "monster_crosstab_b = pd.crosstab(rush_df['Monster type'],rush_df['Primary type'], dropna=False)\n",
    "monster_crosstab_b"
   ]
  },
  {
   "cell_type": "code",
   "execution_count": null,
   "id": "8da8db63-bc41-4a03-a525-63dbcfb5782f",
   "metadata": {
    "papermill": {
     "duration": 0.843884,
     "end_time": "2023-02-20T18:31:51.716710",
     "exception": false,
     "start_time": "2023-02-20T18:31:50.872826",
     "status": "completed"
    },
    "tags": []
   },
   "outputs": [],
   "source": [
    "plt.figure(figsize = (16,2))\n",
    "sns.heatmap(monster_crosstab_b[monster_crosstab_b>0].T, annot=True, fmt=\"g\", cmap='viridis', square=True, norm = mc.LogNorm())\n",
    "plt.show()"
   ]
  },
  {
   "cell_type": "markdown",
   "id": "f2966e60-300a-4289-9a94-f14c49fa41d4",
   "metadata": {
    "jp-MarkdownHeadingCollapsed": true,
    "papermill": {
     "duration": 0.042834,
     "end_time": "2023-02-20T18:31:51.803255",
     "exception": false,
     "start_time": "2023-02-20T18:31:51.760421",
     "status": "completed"
    },
    "tags": []
   },
   "source": [
    "### Effect type"
   ]
  },
  {
   "cell_type": "code",
   "execution_count": null,
   "id": "b44949a6",
   "metadata": {
    "papermill": {
     "duration": 0.056434,
     "end_time": "2023-02-20T18:31:51.902773",
     "exception": false,
     "start_time": "2023-02-20T18:31:51.846339",
     "status": "completed"
    },
    "tags": []
   },
   "outputs": [],
   "source": [
    "print('Total number of effect types:', rush_df['Effect type'].explode().nunique())"
   ]
  },
  {
   "cell_type": "code",
   "execution_count": null,
   "id": "c4e48718",
   "metadata": {
    "papermill": {
     "duration": 0.09861,
     "end_time": "2023-02-20T18:31:52.045393",
     "exception": false,
     "start_time": "2023-02-20T18:31:51.946783",
     "status": "completed"
    },
    "tags": []
   },
   "outputs": [],
   "source": [
    "rush_df[rush_df['Effect type'].notna()].drop(columns=['Card type']).explode('Effect type').groupby('Effect type').nunique()"
   ]
  },
  {
   "cell_type": "code",
   "execution_count": null,
   "id": "ff912d52",
   "metadata": {
    "papermill": {
     "duration": 0.320117,
     "end_time": "2023-02-20T18:31:52.416138",
     "exception": false,
     "start_time": "2023-02-20T18:31:52.096021",
     "status": "completed"
    },
    "tags": []
   },
   "outputs": [],
   "source": [
    "monster_effect_colors = colors_dict['Effect Monster']\n",
    "rush_df['Effect type'].explode('Effect type').value_counts().plot.bar(figsize = (18,6), grid = True, color = monster_effect_colors, title='Effect type')\n",
    "# plt.yscale('log')\n",
    "plt.show()"
   ]
  },
  {
   "cell_type": "markdown",
   "id": "536f68c4-f64a-4c69-a143-0a5c8b0292b1",
   "metadata": {
    "jp-MarkdownHeadingCollapsed": true,
    "papermill": {
     "duration": 0.06211,
     "end_time": "2023-02-20T18:31:52.523032",
     "exception": false,
     "start_time": "2023-02-20T18:31:52.460922",
     "status": "completed"
    },
    "tags": []
   },
   "source": [
    "### ATK"
   ]
  },
  {
   "cell_type": "code",
   "execution_count": null,
   "id": "1b5db865",
   "metadata": {
    "papermill": {
     "duration": 0.06572,
     "end_time": "2023-02-20T18:31:52.641451",
     "exception": false,
     "start_time": "2023-02-20T18:31:52.575731",
     "status": "completed"
    },
    "tags": []
   },
   "outputs": [],
   "source": [
    "print('Total number of ATK values:', rush_df['ATK'].nunique())"
   ]
  },
  {
   "cell_type": "code",
   "execution_count": null,
   "id": "16b9aa14",
   "metadata": {
    "papermill": {
     "duration": 0.09982,
     "end_time": "2023-02-20T18:31:52.787583",
     "exception": false,
     "start_time": "2023-02-20T18:31:52.687763",
     "status": "completed"
    },
    "tags": []
   },
   "outputs": [],
   "source": [
    "rush_df.drop(columns=['Card type']).groupby('ATK').nunique().sort_index(key=lambda x: pd.to_numeric(x, errors = 'coerce'))"
   ]
  },
  {
   "cell_type": "code",
   "execution_count": null,
   "id": "3b1b2e1d",
   "metadata": {
    "papermill": {
     "duration": 0.568129,
     "end_time": "2023-02-20T18:31:53.402680",
     "exception": false,
     "start_time": "2023-02-20T18:31:52.834551",
     "status": "completed"
    },
    "tags": []
   },
   "outputs": [],
   "source": [
    "atk_colors = colors_dict['Monster Card']\n",
    "rush_df['DEF'].value_counts().sort_index(key=lambda x: pd.to_numeric(x, errors = 'coerce')).plot.bar(figsize = (18,6), grid = True, color = atk_colors, title = 'ATK')\n",
    "plt.show()"
   ]
  },
  {
   "cell_type": "markdown",
   "id": "c59b1e9d-4376-4476-bcf0-f899852cbffa",
   "metadata": {
    "jp-MarkdownHeadingCollapsed": true,
    "papermill": {
     "duration": 0.06473,
     "end_time": "2023-02-20T18:31:53.536657",
     "exception": false,
     "start_time": "2023-02-20T18:31:53.471927",
     "status": "completed"
    },
    "tags": []
   },
   "source": [
    "### DEF"
   ]
  },
  {
   "cell_type": "code",
   "execution_count": null,
   "id": "2aa0ba61",
   "metadata": {
    "papermill": {
     "duration": 0.071208,
     "end_time": "2023-02-20T18:31:53.659899",
     "exception": false,
     "start_time": "2023-02-20T18:31:53.588691",
     "status": "completed"
    },
    "tags": []
   },
   "outputs": [],
   "source": [
    "print('Total number of DEF values:', rush_df['DEF'].nunique())"
   ]
  },
  {
   "cell_type": "code",
   "execution_count": null,
   "id": "54e9d56a",
   "metadata": {
    "papermill": {
     "duration": 0.114454,
     "end_time": "2023-02-20T18:31:53.830220",
     "exception": false,
     "start_time": "2023-02-20T18:31:53.715766",
     "status": "completed"
    },
    "tags": []
   },
   "outputs": [],
   "source": [
    "rush_df.drop(columns=['Card type']).groupby('DEF').nunique().sort_index(key=lambda x: pd.to_numeric(x, errors = 'coerce'))"
   ]
  },
  {
   "cell_type": "code",
   "execution_count": null,
   "id": "10aeff48",
   "metadata": {
    "papermill": {
     "duration": 0.688153,
     "end_time": "2023-02-20T18:31:54.567308",
     "exception": false,
     "start_time": "2023-02-20T18:31:53.879155",
     "status": "completed"
    },
    "tags": []
   },
   "outputs": [],
   "source": [
    "def_colors = colors_dict['Monster Card']\n",
    "rush_df['DEF'].value_counts().sort_index(key=lambda x: pd.to_numeric(x, errors = 'coerce')).plot.bar(figsize = (18,6), grid = True, color = def_colors, title = 'DEF')\n",
    "plt.show()"
   ]
  },
  {
   "cell_type": "markdown",
   "id": "434575eb-282b-4784-91a1-d7c60720f002",
   "metadata": {
    "jp-MarkdownHeadingCollapsed": true,
    "papermill": {
     "duration": 0.048609,
     "end_time": "2023-02-20T18:31:54.664795",
     "exception": false,
     "start_time": "2023-02-20T18:31:54.616186",
     "status": "completed"
    },
    "tags": []
   },
   "source": [
    "### Maximum mode"
   ]
  },
  {
   "cell_type": "code",
   "execution_count": null,
   "id": "140eabff-eae1-49a8-8320-632534615818",
   "metadata": {
    "papermill": {
     "duration": 0.061026,
     "end_time": "2023-02-20T18:31:54.773863",
     "exception": false,
     "start_time": "2023-02-20T18:31:54.712837",
     "status": "completed"
    },
    "tags": []
   },
   "outputs": [],
   "source": [
    "print('Total cards requiring maximum mode:', rush_df['Maximum mode'].sum())"
   ]
  },
  {
   "cell_type": "code",
   "execution_count": null,
   "id": "a30dcb57-c8ff-462f-80e5-ea612206439d",
   "metadata": {
    "papermill": {
     "duration": 0.115903,
     "end_time": "2023-02-20T18:31:54.938496",
     "exception": false,
     "start_time": "2023-02-20T18:31:54.822593",
     "status": "completed"
    },
    "tags": []
   },
   "outputs": [],
   "source": [
    "rush_df[rush_df['Maximum mode']]"
   ]
  },
  {
   "cell_type": "markdown",
   "id": "d26839a4-f930-41f3-9df2-0209f0a25bdb",
   "metadata": {
    "papermill": {
     "duration": 0.050407,
     "end_time": "2023-02-20T18:31:55.039429",
     "exception": false,
     "start_time": "2023-02-20T18:31:54.989022",
     "status": "completed"
    },
    "tags": []
   },
   "source": [
    "#### MAXIMUM ATK"
   ]
  },
  {
   "cell_type": "code",
   "execution_count": null,
   "id": "317ce825-1d9b-4a99-ad39-93ee7a64db0a",
   "metadata": {
    "papermill": {
     "duration": 0.062469,
     "end_time": "2023-02-20T18:31:55.152625",
     "exception": false,
     "start_time": "2023-02-20T18:31:55.090156",
     "status": "completed"
    },
    "tags": []
   },
   "outputs": [],
   "source": [
    "print('Total number of MAXIMUM ATK values:', rush_df['MAXIMUM ATK'].nunique())"
   ]
  },
  {
   "cell_type": "code",
   "execution_count": null,
   "id": "5c9e9e4c-7307-4396-968c-32ec8af00a45",
   "metadata": {
    "papermill": {
     "duration": 0.303516,
     "end_time": "2023-02-20T18:31:55.506515",
     "exception": false,
     "start_time": "2023-02-20T18:31:55.202999",
     "status": "completed"
    },
    "tags": []
   },
   "outputs": [],
   "source": [
    "def_colors = colors_dict['Monster Card']\n",
    "rush_df['MAXIMUM ATK'].value_counts().sort_index(key=lambda x: pd.to_numeric(x, errors = 'coerce')).plot.bar(figsize = (18,6), grid = True, color = def_colors, title = 'MAXIMUM ATK')\n",
    "plt.show()"
   ]
  },
  {
   "cell_type": "markdown",
   "id": "7c569d49-6d1f-4c1e-a877-e761e12d33cf",
   "metadata": {
    "papermill": {
     "duration": 0.052191,
     "end_time": "2023-02-20T18:31:55.617270",
     "exception": false,
     "start_time": "2023-02-20T18:31:55.565079",
     "status": "completed"
    },
    "tags": []
   },
   "source": [
    "##### By ATK"
   ]
  },
  {
   "cell_type": "code",
   "execution_count": null,
   "id": "bbde5543-da0d-422f-a9f9-c19951962f19",
   "metadata": {
    "papermill": {
     "duration": 0.082659,
     "end_time": "2023-02-20T18:31:55.750969",
     "exception": false,
     "start_time": "2023-02-20T18:31:55.668310",
     "status": "completed"
    },
    "tags": []
   },
   "outputs": [],
   "source": [
    "max_atk_crosstab = pd.crosstab(rush_df['ATK'],rush_df['MAXIMUM ATK'])\n",
    "max_atk_crosstab"
   ]
  },
  {
   "cell_type": "markdown",
   "id": "50eb5c02-b33d-4ff7-91d5-34dad1789d9f",
   "metadata": {
    "papermill": {
     "duration": 0.05272,
     "end_time": "2023-02-20T18:31:55.858348",
     "exception": false,
     "start_time": "2023-02-20T18:31:55.805628",
     "status": "completed"
    },
    "tags": []
   },
   "source": [
    "##### By DEF"
   ]
  },
  {
   "cell_type": "code",
   "execution_count": null,
   "id": "70a88253-776a-4c17-a165-2d43e15a26a0",
   "metadata": {
    "papermill": {
     "duration": 0.080521,
     "end_time": "2023-02-20T18:31:55.991487",
     "exception": false,
     "start_time": "2023-02-20T18:31:55.910966",
     "status": "completed"
    },
    "tags": []
   },
   "outputs": [],
   "source": [
    "max_def_crosstab = pd.crosstab(rush_df['DEF'],rush_df['MAXIMUM ATK'])\n",
    "max_def_crosstab"
   ]
  },
  {
   "cell_type": "markdown",
   "id": "67f66807-7364-40dd-a14e-5ba64dcc4897",
   "metadata": {
    "jp-MarkdownHeadingCollapsed": true,
    "papermill": {
     "duration": 0.052365,
     "end_time": "2023-02-20T18:31:56.096347",
     "exception": false,
     "start_time": "2023-02-20T18:31:56.043982",
     "status": "completed"
    },
    "tags": []
   },
   "source": [
    "### Level/Rank"
   ]
  },
  {
   "cell_type": "code",
   "execution_count": null,
   "id": "f5543138",
   "metadata": {
    "papermill": {
     "duration": 0.096147,
     "end_time": "2023-02-20T18:31:56.245536",
     "exception": false,
     "start_time": "2023-02-20T18:31:56.149389",
     "status": "completed"
    },
    "tags": []
   },
   "outputs": [],
   "source": [
    "rush_df.drop(columns=['Card type']).groupby('Level/Rank').nunique().sort_index(key=lambda x: pd.to_numeric(x, errors = 'coerce'))"
   ]
  },
  {
   "cell_type": "code",
   "execution_count": null,
   "id": "31539bdc",
   "metadata": {
    "papermill": {
     "duration": 0.338672,
     "end_time": "2023-02-20T18:31:56.637197",
     "exception": false,
     "start_time": "2023-02-20T18:31:56.298525",
     "status": "completed"
    },
    "tags": []
   },
   "outputs": [],
   "source": [
    "stars_colors = colors_dict['Level']\n",
    "rush_df['Level/Rank'].value_counts().sort_index(key=lambda x: pd.to_numeric(x, errors = 'coerce')).plot.bar(figsize = (18,6), grid = True, rot=0, color= stars_colors, title = 'Level/Rank')\n",
    "plt.show()"
   ]
  },
  {
   "cell_type": "markdown",
   "id": "817d4818-7e1c-4978-8cd1-f4d4dc814591",
   "metadata": {
    "papermill": {
     "duration": 0.052763,
     "end_time": "2023-02-20T18:31:56.743167",
     "exception": false,
     "start_time": "2023-02-20T18:31:56.690404",
     "status": "completed"
    },
    "tags": []
   },
   "source": [
    "#### ATK statistics"
   ]
  },
  {
   "cell_type": "code",
   "execution_count": null,
   "id": "06dc9107",
   "metadata": {
    "papermill": {
     "duration": 0.13096,
     "end_time": "2023-02-20T18:31:56.928890",
     "exception": false,
     "start_time": "2023-02-20T18:31:56.797930",
     "status": "completed"
    },
    "tags": []
   },
   "outputs": [],
   "source": [
    "rush_df[['Level/Rank','ATK']].apply(pd.to_numeric, errors = 'coerce').dropna().astype(int).groupby('Level/Rank').describe()"
   ]
  },
  {
   "cell_type": "markdown",
   "id": "dbc8ab5d-d288-4830-9850-373404e6aa36",
   "metadata": {
    "papermill": {
     "duration": 0.053608,
     "end_time": "2023-02-20T18:31:57.036538",
     "exception": false,
     "start_time": "2023-02-20T18:31:56.982930",
     "status": "completed"
    },
    "tags": []
   },
   "source": [
    "#### DEF statistics"
   ]
  },
  {
   "cell_type": "code",
   "execution_count": null,
   "id": "cc005e78",
   "metadata": {
    "papermill": {
     "duration": 0.132983,
     "end_time": "2023-02-20T18:31:57.230359",
     "exception": false,
     "start_time": "2023-02-20T18:31:57.097376",
     "status": "completed"
    },
    "tags": []
   },
   "outputs": [],
   "source": [
    "rush_df[['Level/Rank','DEF']].apply(pd.to_numeric, errors = 'coerce').dropna().astype(int).groupby('Level/Rank').describe()"
   ]
  },
  {
   "cell_type": "markdown",
   "id": "09674a4a-a317-465a-9e5d-da5de3b882a4",
   "metadata": {
    "papermill": {
     "duration": 0.055609,
     "end_time": "2023-02-20T18:31:57.344268",
     "exception": false,
     "start_time": "2023-02-20T18:31:57.288659",
     "status": "completed"
    },
    "tags": []
   },
   "source": [
    "## Spell & Trap"
   ]
  },
  {
   "cell_type": "markdown",
   "id": "e02f27a3-76bc-4f72-965f-6e8f253c77a6",
   "metadata": {
    "papermill": {
     "duration": 0.053427,
     "end_time": "2023-02-20T18:31:57.452150",
     "exception": false,
     "start_time": "2023-02-20T18:31:57.398723",
     "status": "completed"
    },
    "tags": []
   },
   "source": [
    "### Properties"
   ]
  },
  {
   "cell_type": "code",
   "execution_count": null,
   "id": "00501a98-d5da-4e0d-a628-1f0a13592290",
   "metadata": {
    "papermill": {
     "duration": 0.065725,
     "end_time": "2023-02-20T18:31:57.573336",
     "exception": false,
     "start_time": "2023-02-20T18:31:57.507611",
     "status": "completed"
    },
    "tags": []
   },
   "outputs": [],
   "source": [
    "print('Total number of properties:', rush_df['Property'].nunique())"
   ]
  },
  {
   "cell_type": "code",
   "execution_count": null,
   "id": "efbb94e7-b9d0-4ddf-953e-b8964b398808",
   "metadata": {
    "papermill": {
     "duration": 0.095463,
     "end_time": "2023-02-20T18:31:57.723673",
     "exception": false,
     "start_time": "2023-02-20T18:31:57.628210",
     "status": "completed"
    },
    "tags": []
   },
   "outputs": [],
   "source": [
    "rush_df.drop(columns=['Card type']).groupby('Property').nunique()"
   ]
  },
  {
   "cell_type": "code",
   "execution_count": null,
   "id": "d872f324-06f2-4d36-b377-c0d0a42c4fa1",
   "metadata": {
    "papermill": {
     "duration": 0.339458,
     "end_time": "2023-02-20T18:31:58.117784",
     "exception": false,
     "start_time": "2023-02-20T18:31:57.778326",
     "status": "completed"
    },
    "tags": []
   },
   "outputs": [],
   "source": [
    "st_colors = [colors_dict[i] for i in rush_df[['Card type','Property']].value_counts().index.get_level_values(0)]\n",
    "rush_df['Property'].value_counts().plot.bar(figsize = (18,6), grid = True, rot=45, color = st_colors, title = 'Property')\n",
    "plt.show()"
   ]
  },
  {
   "cell_type": "markdown",
   "id": "252d9b8a-b8e5-4a10-9beb-dd1bb5ee3d18",
   "metadata": {
    "papermill": {
     "duration": 0.057836,
     "end_time": "2023-02-20T18:31:58.230898",
     "exception": false,
     "start_time": "2023-02-20T18:31:58.173062",
     "status": "completed"
    },
    "tags": []
   },
   "source": [
    "## Archseries"
   ]
  },
  {
   "cell_type": "code",
   "execution_count": null,
   "id": "ce1470dc",
   "metadata": {
    "papermill": {
     "duration": 0.079602,
     "end_time": "2023-02-20T18:31:58.371039",
     "exception": false,
     "start_time": "2023-02-20T18:31:58.291437",
     "status": "completed"
    },
    "tags": []
   },
   "outputs": [],
   "source": [
    "exploded_archseries = rush_df.explode('Archseries')\n",
    "print('Total number of Archseries:', exploded_archseries['Archseries'].nunique())"
   ]
  },
  {
   "cell_type": "code",
   "execution_count": null,
   "id": "f31c5b8c",
   "metadata": {
    "papermill": {
     "duration": 0.118012,
     "end_time": "2023-02-20T18:31:58.544270",
     "exception": false,
     "start_time": "2023-02-20T18:31:58.426258",
     "status": "completed"
    },
    "tags": []
   },
   "outputs": [],
   "source": [
    "exploded_archseries.groupby('Archseries').nunique()"
   ]
  },
  {
   "cell_type": "code",
   "execution_count": null,
   "id": "00c9f321",
   "metadata": {
    "papermill": {
     "duration": 1.315912,
     "end_time": "2023-02-20T18:31:59.932672",
     "exception": false,
     "start_time": "2023-02-20T18:31:58.616760",
     "status": "completed"
    },
    "tags": []
   },
   "outputs": [],
   "source": [
    "exploded_archseries['Archseries'].value_counts().plot.barh(figsize = (10,20), grid = True, title = 'Archtypes/Series')\n",
    "plt.show()"
   ]
  },
  {
   "cell_type": "markdown",
   "id": "8a22c1c7-5a95-4110-ae01-79bff91c01ea",
   "metadata": {
    "jp-MarkdownHeadingCollapsed": true,
    "papermill": {
     "duration": 0.063991,
     "end_time": "2023-02-20T18:32:00.057086",
     "exception": false,
     "start_time": "2023-02-20T18:31:59.993095",
     "status": "completed"
    },
    "tags": []
   },
   "source": [
    "### By card type"
   ]
  },
  {
   "cell_type": "code",
   "execution_count": null,
   "id": "fbf65c3c",
   "metadata": {
    "papermill": {
     "duration": 0.213574,
     "end_time": "2023-02-20T18:32:00.413459",
     "exception": false,
     "start_time": "2023-02-20T18:32:00.199885",
     "status": "completed"
    },
    "tags": []
   },
   "outputs": [],
   "source": [
    "archseries_crosstab = pd.crosstab(exploded_archseries['Archseries'],exploded_archseries['Card type'], margins = True)\n",
    "archseries_crosstab"
   ]
  },
  {
   "cell_type": "markdown",
   "id": "65be4f84-7bd3-4de6-850a-dff20f8db6f8",
   "metadata": {
    "jp-MarkdownHeadingCollapsed": true,
    "papermill": {
     "duration": 0.060255,
     "end_time": "2023-02-20T18:32:00.534611",
     "exception": false,
     "start_time": "2023-02-20T18:32:00.474356",
     "status": "completed"
    },
    "tags": []
   },
   "source": [
    "### By primary type"
   ]
  },
  {
   "cell_type": "code",
   "execution_count": null,
   "id": "2c3671f0",
   "metadata": {
    "papermill": {
     "duration": 0.125073,
     "end_time": "2023-02-20T18:32:00.743864",
     "exception": false,
     "start_time": "2023-02-20T18:32:00.618791",
     "status": "completed"
    },
    "tags": []
   },
   "outputs": [],
   "source": [
    "archseries_crosstab_b = pd.crosstab(exploded_archseries['Archseries'],exploded_archseries['Primary type'], margins = True)\n",
    "archseries_crosstab_b"
   ]
  },
  {
   "cell_type": "markdown",
   "id": "845facac-cd41-437e-941b-a5662cedef0b",
   "metadata": {
    "jp-MarkdownHeadingCollapsed": true,
    "papermill": {
     "duration": 0.096018,
     "end_time": "2023-02-20T18:32:00.905174",
     "exception": false,
     "start_time": "2023-02-20T18:32:00.809156",
     "status": "completed"
    },
    "tags": []
   },
   "source": [
    "### By monster type"
   ]
  },
  {
   "cell_type": "code",
   "execution_count": null,
   "id": "d99ee9e1",
   "metadata": {
    "papermill": {
     "duration": 0.187587,
     "end_time": "2023-02-20T18:32:01.439341",
     "exception": false,
     "start_time": "2023-02-20T18:32:01.251754",
     "status": "completed"
    },
    "tags": []
   },
   "outputs": [],
   "source": [
    "archseries_crosstab_d = pd.crosstab(exploded_archseries['Archseries'],exploded_archseries['Monster type'], margins = True)\n",
    "archseries_crosstab_d"
   ]
  },
  {
   "cell_type": "markdown",
   "id": "316cdb28-4129-4b36-aa0a-db223739c2ab",
   "metadata": {
    "jp-MarkdownHeadingCollapsed": true,
    "papermill": {
     "duration": 0.358076,
     "end_time": "2023-02-20T18:32:01.862149",
     "exception": false,
     "start_time": "2023-02-20T18:32:01.504073",
     "status": "completed"
    },
    "tags": []
   },
   "source": [
    "### By property"
   ]
  },
  {
   "cell_type": "code",
   "execution_count": null,
   "id": "fbbb1ccc",
   "metadata": {
    "papermill": {
     "duration": 0.126379,
     "end_time": "2023-02-20T18:32:02.060327",
     "exception": false,
     "start_time": "2023-02-20T18:32:01.933948",
     "status": "completed"
    },
    "tags": []
   },
   "outputs": [],
   "source": [
    "archseries_crosstab_e = pd.crosstab(exploded_archseries['Archseries'],exploded_archseries['Property'], margins = True)\n",
    "archseries_crosstab_e"
   ]
  },
  {
   "cell_type": "markdown",
   "id": "b502bfe6-e19b-4d35-a32e-7b6a281d124c",
   "metadata": {
    "jp-MarkdownHeadingCollapsed": true,
    "papermill": {
     "duration": 0.085632,
     "end_time": "2023-02-20T18:32:02.217425",
     "exception": false,
     "start_time": "2023-02-20T18:32:02.131793",
     "status": "completed"
    },
    "tags": []
   },
   "source": [
    "## Legend"
   ]
  },
  {
   "cell_type": "code",
   "execution_count": null,
   "id": "b964ae84-be57-4250-9ce1-9b1f343ad9de",
   "metadata": {
    "papermill": {
     "duration": 0.07771,
     "end_time": "2023-02-20T18:32:02.363631",
     "exception": false,
     "start_time": "2023-02-20T18:32:02.285921",
     "status": "completed"
    },
    "tags": []
   },
   "outputs": [],
   "source": [
    "print('Total number of Legend cards', rush_df['Legend'].sum())"
   ]
  },
  {
   "cell_type": "code",
   "execution_count": null,
   "id": "2b29be8f-886c-4663-aeb4-8291301916e1",
   "metadata": {
    "papermill": {
     "duration": 0.153819,
     "end_time": "2023-02-20T18:32:02.582379",
     "exception": false,
     "start_time": "2023-02-20T18:32:02.428560",
     "status": "completed"
    },
    "tags": []
   },
   "outputs": [],
   "source": [
    "rush_df[rush_df['Legend']]"
   ]
  },
  {
   "cell_type": "markdown",
   "id": "72e1a0d0-710e-4f43-a879-95db76e004a3",
   "metadata": {
    "papermill": {
     "duration": 0.072531,
     "end_time": "2023-02-20T18:32:02.722078",
     "exception": false,
     "start_time": "2023-02-20T18:32:02.649547",
     "status": "completed"
    },
    "tags": []
   },
   "source": [
    "#### By card type"
   ]
  },
  {
   "cell_type": "code",
   "execution_count": null,
   "id": "a9a40b74-a725-4b1b-a112-3f0a6fbfcd27",
   "metadata": {
    "papermill": {
     "duration": 0.305,
     "end_time": "2023-02-20T18:32:03.094441",
     "exception": false,
     "start_time": "2023-02-20T18:32:02.789441",
     "status": "completed"
    },
    "tags": []
   },
   "outputs": [],
   "source": [
    "card_type_colors = [colors_dict[i] for i in rush_df[rush_df['Legend']]['Card type'].value_counts().index]\n",
    "rush_df[rush_df['Legend']]['Card type'].value_counts().plot.bar(figsize = (18,6), grid = True, rot=0, color = card_type_colors, title = 'Card type')\n",
    "plt.show()"
   ]
  },
  {
   "cell_type": "markdown",
   "id": "1a64d032-a70e-48ac-9708-38cc771dba2a",
   "metadata": {
    "papermill": {
     "duration": 0.070618,
     "end_time": "2023-02-20T18:32:03.246347",
     "exception": false,
     "start_time": "2023-02-20T18:32:03.175729",
     "status": "completed"
    },
    "tags": []
   },
   "source": [
    "#### By Attribute"
   ]
  },
  {
   "cell_type": "code",
   "execution_count": null,
   "id": "ee9e1a51-7615-4715-9596-864a4541b72f",
   "metadata": {
    "papermill": {
     "duration": 0.604679,
     "end_time": "2023-02-20T18:32:03.921289",
     "exception": false,
     "start_time": "2023-02-20T18:32:03.316610",
     "status": "completed"
    },
    "tags": []
   },
   "outputs": [],
   "source": [
    "attribute_colors = [colors_dict[i] for i in rush_df[rush_df['Legend']]['Attribute'].value_counts().index]\n",
    "rush_df[rush_df['Legend']]['Attribute'].value_counts().plot.bar(figsize = (18,6), grid = True, rot=0, color = attribute_colors, title = 'Attribute')\n",
    "plt.show()"
   ]
  },
  {
   "cell_type": "markdown",
   "id": "b3cb67be-f040-4b27-a8c3-d53cabe13eb6",
   "metadata": {
    "papermill": {
     "duration": 0.186888,
     "end_time": "2023-02-20T18:32:04.213151",
     "exception": false,
     "start_time": "2023-02-20T18:32:04.026263",
     "status": "completed"
    },
    "tags": []
   },
   "source": [
    "#### By primary type"
   ]
  },
  {
   "cell_type": "code",
   "execution_count": null,
   "id": "7fb2f031-eb86-4039-9327-003e9c482d4d",
   "metadata": {
    "papermill": {
     "duration": 0.369674,
     "end_time": "2023-02-20T18:32:04.653474",
     "exception": false,
     "start_time": "2023-02-20T18:32:04.283800",
     "status": "completed"
    },
    "tags": []
   },
   "outputs": [],
   "source": [
    "monster_type_colors = [colors_dict[i] for i in rush_df[rush_df['Legend']]['Primary type'].value_counts().index]\n",
    "rush_df[rush_df['Legend']]['Primary type'].value_counts().plot.bar(figsize = (18,6), stacked = True, grid = True, rot=0,  legend=True, color = monster_type_colors, title = 'Primary types')\n",
    "# plt.yscale('log')\n",
    "plt.show()"
   ]
  },
  {
   "cell_type": "markdown",
   "id": "0be46d57-0758-4ae0-b274-ddb4130361f7",
   "metadata": {
    "papermill": {
     "duration": 0.101566,
     "end_time": "2023-02-20T18:32:04.829594",
     "exception": false,
     "start_time": "2023-02-20T18:32:04.728028",
     "status": "completed"
    },
    "tags": []
   },
   "source": [
    "#### By monster type"
   ]
  },
  {
   "cell_type": "code",
   "execution_count": null,
   "id": "d6db96fd-2340-4162-b6a1-55348e7653f4",
   "metadata": {
    "papermill": {
     "duration": 0.445122,
     "end_time": "2023-02-20T18:32:05.344996",
     "exception": false,
     "start_time": "2023-02-20T18:32:04.899874",
     "status": "completed"
    },
    "tags": []
   },
   "outputs": [],
   "source": [
    "monster_type_colors = colors_dict['Monster Card']\n",
    "rush_df[rush_df['Legend']]['Monster type'].value_counts().plot.bar(figsize = (18,6), grid = True, rot=0, color = monster_type_colors, title = 'Monster type')\n",
    "plt.show()"
   ]
  },
  {
   "cell_type": "markdown",
   "id": "7384cb37-3207-4eb4-842a-9b4d39f74eb1",
   "metadata": {
    "jp-MarkdownHeadingCollapsed": true,
    "papermill": {
     "duration": 0.333669,
     "end_time": "2023-02-20T18:32:05.749566",
     "exception": false,
     "start_time": "2023-02-20T18:32:05.415897",
     "status": "completed"
    },
    "tags": []
   },
   "source": [
    "## Artworks"
   ]
  },
  {
   "cell_type": "code",
   "execution_count": null,
   "id": "2224e061",
   "metadata": {
    "papermill": {
     "duration": 0.082479,
     "end_time": "2023-02-20T18:32:05.903611",
     "exception": false,
     "start_time": "2023-02-20T18:32:05.821132",
     "status": "completed"
    },
    "tags": []
   },
   "outputs": [],
   "source": [
    "print('Total number of cards with edited or alternate artworks:', rush_df['Artwork'].count())"
   ]
  },
  {
   "cell_type": "code",
   "execution_count": null,
   "id": "f7492a67",
   "metadata": {
    "papermill": {
     "duration": 0.111611,
     "end_time": "2023-02-20T18:32:06.085199",
     "exception": false,
     "start_time": "2023-02-20T18:32:05.973588",
     "status": "completed"
    },
    "tags": []
   },
   "outputs": [],
   "source": [
    "rush_df[['Name','Artwork']].dropna()"
   ]
  },
  {
   "cell_type": "code",
   "execution_count": null,
   "id": "fa1ea6aa",
   "metadata": {
    "papermill": {
     "duration": 0.241808,
     "end_time": "2023-02-20T18:32:06.405594",
     "exception": false,
     "start_time": "2023-02-20T18:32:06.163786",
     "status": "completed"
    },
    "tags": []
   },
   "outputs": [],
   "source": [
    "artwork_value_counts = rush_df['Artwork'].value_counts()\n",
    "plt.figure(figsize=(20,8))\n",
    "plt.title('Artworks')\n",
    "venn2(subsets = (artwork_value_counts[('Alternate',)], artwork_value_counts[('Edited',)],artwork_value_counts[('Alternate','Edited')]), set_labels = ('Alternate artwork', 'Edited artwork'))\n",
    "plt.show()"
   ]
  },
  {
   "cell_type": "markdown",
   "id": "4d4723fb-3289-4046-9674-97fc05562588",
   "metadata": {
    "papermill": {
     "duration": 0.072853,
     "end_time": "2023-02-20T18:32:06.553118",
     "exception": false,
     "start_time": "2023-02-20T18:32:06.480265",
     "status": "completed"
    },
    "tags": []
   },
   "source": [
    "### By card type"
   ]
  },
  {
   "cell_type": "code",
   "execution_count": null,
   "id": "1b14c224",
   "metadata": {
    "papermill": {
     "duration": 0.100429,
     "end_time": "2023-02-20T18:32:06.725869",
     "exception": false,
     "start_time": "2023-02-20T18:32:06.625440",
     "status": "completed"
    },
    "tags": []
   },
   "outputs": [],
   "source": [
    "artwork_crosstab = pd.crosstab(rush_df['Artwork'], rush_df['Card type'])\n",
    "artwork_crosstab"
   ]
  },
  {
   "cell_type": "markdown",
   "id": "cd278ab5-2602-4935-83ee-0f8d04139770",
   "metadata": {
    "papermill": {
     "duration": 0.074132,
     "end_time": "2023-02-20T18:32:06.872579",
     "exception": false,
     "start_time": "2023-02-20T18:32:06.798447",
     "status": "completed"
    },
    "tags": []
   },
   "source": [
    "### By primary type"
   ]
  },
  {
   "cell_type": "code",
   "execution_count": null,
   "id": "55081aa0",
   "metadata": {
    "papermill": {
     "duration": 0.104372,
     "end_time": "2023-02-20T18:32:07.049573",
     "exception": false,
     "start_time": "2023-02-20T18:32:06.945201",
     "status": "completed"
    },
    "tags": []
   },
   "outputs": [],
   "source": [
    "artwork_crosstab_b = pd.crosstab(rush_df['Artwork'], rush_df['Primary type'])\n",
    "artwork_crosstab_b"
   ]
  },
  {
   "cell_type": "markdown",
   "id": "c981a204-49eb-42f3-b713-ceb7d5f65d10",
   "metadata": {
    "papermill": {
     "duration": 0.073449,
     "end_time": "2023-02-20T18:32:07.196546",
     "exception": false,
     "start_time": "2023-02-20T18:32:07.123097",
     "status": "completed"
    },
    "tags": []
   },
   "source": [
    "More granularity is unnecessary"
   ]
  },
  {
   "cell_type": "markdown",
   "id": "cb773a63-3390-46ec-9581-2699cad489d0",
   "metadata": {
    "jp-MarkdownHeadingCollapsed": true,
    "papermill": {
     "duration": 0.073017,
     "end_time": "2023-02-20T18:32:07.343017",
     "exception": false,
     "start_time": "2023-02-20T18:32:07.270000",
     "status": "completed"
    },
    "tags": []
   },
   "source": [
    "## Errata"
   ]
  },
  {
   "cell_type": "code",
   "execution_count": null,
   "id": "09b33100",
   "metadata": {
    "papermill": {
     "duration": 0.085145,
     "end_time": "2023-02-20T18:32:07.501324",
     "exception": false,
     "start_time": "2023-02-20T18:32:07.416179",
     "status": "completed"
    },
    "tags": []
   },
   "outputs": [],
   "source": [
    "print('Total number of cards with errata:', rush_df['Errata'].count())"
   ]
  },
  {
   "cell_type": "code",
   "execution_count": null,
   "id": "40462eee",
   "metadata": {
    "papermill": {
     "duration": 0.100869,
     "end_time": "2023-02-20T18:32:07.675173",
     "exception": false,
     "start_time": "2023-02-20T18:32:07.574304",
     "status": "completed"
    },
    "tags": []
   },
   "outputs": [],
   "source": [
    "rush_df[['Name','Errata']].dropna()"
   ]
  },
  {
   "cell_type": "markdown",
   "id": "6dc9e131-7c84-4227-b438-773377e39bf4",
   "metadata": {
    "papermill": {
     "duration": 0.073742,
     "end_time": "2023-02-20T18:32:07.827779",
     "exception": false,
     "start_time": "2023-02-20T18:32:07.754037",
     "status": "completed"
    },
    "tags": []
   },
   "source": [
    "### By card type"
   ]
  },
  {
   "cell_type": "code",
   "execution_count": null,
   "id": "fb103c29",
   "metadata": {
    "papermill": {
     "duration": 0.110439,
     "end_time": "2023-02-20T18:32:08.012652",
     "exception": false,
     "start_time": "2023-02-20T18:32:07.902213",
     "status": "completed"
    },
    "tags": []
   },
   "outputs": [],
   "source": [
    "errata_crosstab = pd.crosstab(rush_df['Errata'], rush_df['Card type'])\n",
    "errata_crosstab"
   ]
  },
  {
   "cell_type": "markdown",
   "id": "edd51025-c854-4ba9-ade7-34928fad863a",
   "metadata": {
    "papermill": {
     "duration": 0.073505,
     "end_time": "2023-02-20T18:32:08.160272",
     "exception": false,
     "start_time": "2023-02-20T18:32:08.086767",
     "status": "completed"
    },
    "tags": []
   },
   "source": [
    "### By primary type"
   ]
  },
  {
   "cell_type": "code",
   "execution_count": null,
   "id": "5b90628d",
   "metadata": {
    "papermill": {
     "duration": 0.10376,
     "end_time": "2023-02-20T18:32:08.338688",
     "exception": false,
     "start_time": "2023-02-20T18:32:08.234928",
     "status": "completed"
    },
    "tags": []
   },
   "outputs": [],
   "source": [
    "errata_crosstab_b = pd.crosstab(rush_df['Errata'], rush_df['Primary type'])\n",
    "errata_crosstab_b"
   ]
  },
  {
   "cell_type": "markdown",
   "id": "15bd30db-5e91-46f1-9fa2-085c464f24b0",
   "metadata": {
    "papermill": {
     "duration": 0.074327,
     "end_time": "2023-02-20T18:32:08.602698",
     "exception": false,
     "start_time": "2023-02-20T18:32:08.528371",
     "status": "completed"
    },
    "tags": []
   },
   "source": [
    "### By artwork"
   ]
  },
  {
   "cell_type": "code",
   "execution_count": null,
   "id": "0057def3",
   "metadata": {
    "papermill": {
     "duration": 0.103587,
     "end_time": "2023-02-20T18:32:08.780153",
     "exception": false,
     "start_time": "2023-02-20T18:32:08.676566",
     "status": "completed"
    },
    "tags": []
   },
   "outputs": [],
   "source": [
    "errata_crosstab_c = pd.crosstab(rush_df['Artwork'], rush_df['Errata'])\n",
    "errata_crosstab_c"
   ]
  },
  {
   "cell_type": "markdown",
   "id": "092fb537-d487-46ae-9fc7-92a6082d3d95",
   "metadata": {
    "papermill": {
     "duration": 0.073998,
     "end_time": "2023-02-20T18:32:08.929975",
     "exception": false,
     "start_time": "2023-02-20T18:32:08.855977",
     "status": "completed"
    },
    "tags": []
   },
   "source": [
    "More granularity is unnecessary"
   ]
  },
  {
   "cell_type": "markdown",
   "id": "0d885c37-1f07-44af-9c60-2d0b5be3d1c1",
   "metadata": {
    "papermill": {
     "duration": 0.074324,
     "end_time": "2023-02-20T18:32:09.079518",
     "exception": false,
     "start_time": "2023-02-20T18:32:09.005194",
     "status": "completed"
    },
    "tags": []
   },
   "source": [
    "# Epilogue"
   ]
  },
  {
   "cell_type": "code",
   "execution_count": null,
   "id": "dbe203e9-01c7-4e24-ba21-3f1d1adefc7b",
   "metadata": {
    "papermill": {
     "duration": 0.093831,
     "end_time": "2023-02-20T18:32:09.247918",
     "exception": false,
     "start_time": "2023-02-20T18:32:09.154087",
     "status": "completed"
    },
    "tags": []
   },
   "outputs": [],
   "source": [
    "benchmark('rush',timestamp)"
   ]
  },
  {
   "cell_type": "code",
   "execution_count": null,
   "id": "8ba1a4e5-c217-4503-871a-c29e6d6d325d",
   "metadata": {
    "papermill": {
     "duration": 0.085048,
     "end_time": "2023-02-20T18:32:09.414206",
     "exception": false,
     "start_time": "2023-02-20T18:32:09.329158",
     "status": "completed"
    },
    "tags": []
   },
   "outputs": [],
   "source": [
    "footer(timestamp)"
   ]
  },
  {
   "cell_type": "markdown",
   "id": "e9d01a2d-b954-4e6e-ba2c-d30cbbf5670e",
   "metadata": {
    "papermill": {
     "duration": 0.07454,
     "end_time": "2023-02-20T18:32:09.565248",
     "exception": false,
     "start_time": "2023-02-20T18:32:09.490708",
     "status": "completed"
    },
    "tags": []
   },
   "source": [
    "## HTML export"
   ]
  },
  {
   "cell_type": "code",
   "execution_count": null,
   "id": "3c939c45-1e4c-444a-93c9-d39c797c4946",
   "metadata": {
    "papermill": {
     "duration": 0.089988,
     "end_time": "2023-02-20T18:32:09.732294",
     "exception": false,
     "start_time": "2023-02-20T18:32:09.642306",
     "status": "completed"
    },
    "tags": []
   },
   "outputs": [],
   "source": [
    "# Save notebook on disck before generating HTML report\n",
    "save_notebook()"
   ]
  },
  {
   "cell_type": "code",
   "execution_count": null,
   "id": "7c071232-e7a7-4130-ab05-6331289df6f0",
   "metadata": {
    "papermill": {
     "duration": 3.26359,
     "end_time": "2023-02-20T18:32:13.070452",
     "exception": false,
     "start_time": "2023-02-20T18:32:09.806862",
     "status": "completed"
    },
    "tags": []
   },
   "outputs": [],
   "source": [
    "! jupyter nbconvert Rush.ipynb --output-dir='../' --to=HTML --TagRemovePreprocessor.enabled=True --TagRemovePreprocessor.remove_cell_tags='exclude' --TemplateExporter.exclude_input=True --TemplateExporter.exclude_input_prompt=True --TemplateExporter.exclude_output_prompt=True"
   ]
  },
  {
   "cell_type": "markdown",
   "id": "ca83b780-5172-40c2-a0de-ed7b5abc8dc1",
   "metadata": {
    "papermill": {
     "duration": 0.07783,
     "end_time": "2023-02-20T18:32:13.226014",
     "exception": false,
     "start_time": "2023-02-20T18:32:13.148184",
     "status": "completed"
    },
    "tags": [
     "exclude"
    ]
   },
   "source": [
    "## Git"
   ]
  },
  {
   "cell_type": "code",
   "execution_count": null,
   "id": "8706d855-ab53-49a9-9a7c-9a664a53e5a3",
   "metadata": {
    "papermill": {
     "duration": 0.660978,
     "end_time": "2023-02-20T18:32:13.965620",
     "exception": false,
     "start_time": "2023-02-20T18:32:13.304642",
     "status": "completed"
    },
    "tags": [
     "exclude"
    ]
   },
   "outputs": [],
   "source": [
    "! git add \"../*[Rr]ush*\""
   ]
  },
  {
   "cell_type": "code",
   "execution_count": null,
   "id": "1ef305d7-78a7-4649-920c-c0ca471ad3f8",
   "metadata": {
    "papermill": {
     "duration": 0.666329,
     "end_time": "2023-02-20T18:32:14.711954",
     "exception": false,
     "start_time": "2023-02-20T18:32:14.045625",
     "status": "completed"
    },
    "tags": [
     "exclude"
    ]
   },
   "outputs": [],
   "source": [
    "! git commit -m {\"'Rush duel update-\" + timestamp.isoformat() + \"'\"}"
   ]
  }
 ],
 "metadata": {
  "kernelspec": {
   "display_name": "Python 3 (ipykernel)",
   "language": "python",
   "name": "python3"
  },
  "language_info": {
   "codemirror_mode": {
    "name": "ipython",
    "version": 3
   },
   "file_extension": ".py",
   "mimetype": "text/x-python",
   "name": "python",
   "nbconvert_exporter": "python",
   "pygments_lexer": "ipython3",
   "version": "3.10.8"
  },
  "papermill": {
   "default_parameters": {},
   "duration": 141.067937,
   "end_time": "2023-02-20T18:32:15.610545",
   "environment_variables": {},
   "exception": null,
   "input_path": "Rush.ipynb",
   "output_path": "Rush.ipynb",
   "parameters": {},
   "start_time": "2023-02-20T18:29:54.542608",
   "version": "2.4.0"
  },
  "toc": {
   "base_numbering": 1,
   "nav_menu": {},
   "number_sections": true,
   "sideBar": true,
   "skip_h1_title": false,
   "title_cell": "Table of Contents",
   "title_sidebar": "Contents",
   "toc_cell": true,
   "toc_position": {},
   "toc_section_display": true,
   "toc_window_display": false
  }
 },
 "nbformat": 4,
 "nbformat_minor": 5
}
