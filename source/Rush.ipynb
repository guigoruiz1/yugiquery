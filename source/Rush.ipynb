{
 "cells": [
  {
   "cell_type": "code",
   "execution_count": null,
   "id": "db3fea09-dd17-4d4f-9751-4db442584d19",
   "metadata": {
    "papermill": {
     "duration": 5.77409,
     "end_time": "2023-02-17T15:55:12.810142",
     "exception": false,
     "start_time": "2023-02-17T15:55:07.036052",
     "status": "completed"
    },
    "tags": []
   },
   "outputs": [],
   "source": [
    "from yugiquery import *\n",
    "header('Rush Duel')"
   ]
  },
  {
   "cell_type": "markdown",
   "id": "f26c89c2-c447-43a2-997b-603775191de3",
   "metadata": {
    "papermill": {
     "duration": 0.063761,
     "end_time": "2023-02-17T15:55:12.909544",
     "exception": false,
     "start_time": "2023-02-17T15:55:12.845783",
     "status": "completed"
    },
    "tags": []
   },
   "source": [
    "---"
   ]
  },
  {
   "cell_type": "markdown",
   "id": "f21bcaec-0f80-4b9a-939c-c4bd159ee18b",
   "metadata": {
    "papermill": {
     "duration": 0.013685,
     "end_time": "2023-02-17T15:55:12.938039",
     "exception": false,
     "start_time": "2023-02-17T15:55:12.924354",
     "status": "completed"
    },
    "tags": []
   },
   "source": [
    "# Data aquisition"
   ]
  },
  {
   "cell_type": "markdown",
   "id": "7642e7a7-408a-47af-a6d3-8d8e6c733581",
   "metadata": {
    "papermill": {
     "duration": 0.014524,
     "end_time": "2023-02-17T15:55:12.967041",
     "exception": false,
     "start_time": "2023-02-17T15:55:12.952517",
     "status": "completed"
    },
    "tags": []
   },
   "source": [
    "## Fetch online data"
   ]
  },
  {
   "cell_type": "code",
   "execution_count": null,
   "id": "88db0457-64ee-4b1f-a642-1488b81ecad1",
   "metadata": {
    "papermill": {
     "duration": 0.023604,
     "end_time": "2023-02-17T15:55:13.004950",
     "exception": false,
     "start_time": "2023-02-17T15:55:12.981346",
     "status": "completed"
    },
    "tags": []
   },
   "outputs": [],
   "source": [
    "# Timestamp\n",
    "timestamp = pd.Timestamp.now()"
   ]
  },
  {
   "cell_type": "code",
   "execution_count": null,
   "id": "4cf61b44-a485-4af9-9465-b4eb2431a730",
   "metadata": {
    "papermill": {
     "duration": 24.054104,
     "end_time": "2023-02-17T15:55:37.073482",
     "exception": false,
     "start_time": "2023-02-17T15:55:13.019378",
     "status": "completed"
    },
    "tags": []
   },
   "outputs": [],
   "source": [
    "# Rush cards query + Misc\n",
    "rush_query = card_query('rush')\n",
    "\n",
    "# Fetch rush cards\n",
    "rush_df = fetch_rush(rush_query)"
   ]
  },
  {
   "cell_type": "markdown",
   "id": "feeb2511-c891-4047-8e87-4106f7ecd222",
   "metadata": {
    "papermill": {
     "duration": 0.0595,
     "end_time": "2023-02-17T15:55:37.155087",
     "exception": false,
     "start_time": "2023-02-17T15:55:37.095587",
     "status": "completed"
    },
    "tags": []
   },
   "source": [
    "## Save data"
   ]
  },
  {
   "cell_type": "code",
   "execution_count": null,
   "id": "7508d7a5-8398-4596-9079-64cf9ebd6e77",
   "metadata": {
    "papermill": {
     "duration": 0.056589,
     "end_time": "2023-02-17T15:55:37.226408",
     "exception": false,
     "start_time": "2023-02-17T15:55:37.169819",
     "status": "completed"
    },
    "tags": []
   },
   "outputs": [],
   "source": [
    "rush_df.to_csv(f'../data/all_rush_{timestamp.isoformat(timespec=\"minutes\")}.csv', index=False)\n",
    "print('Data saved')"
   ]
  },
  {
   "cell_type": "markdown",
   "id": "de464ac7-ef5b-49f9-8679-9883d5ec151b",
   "metadata": {
    "papermill": {
     "duration": 0.014743,
     "end_time": "2023-02-17T15:55:37.257002",
     "exception": false,
     "start_time": "2023-02-17T15:55:37.242259",
     "status": "completed"
    },
    "tags": []
   },
   "source": [
    "# Check changes"
   ]
  },
  {
   "cell_type": "markdown",
   "id": "0372e9c7-e778-4c0a-8ba4-b61cf3537eab",
   "metadata": {
    "papermill": {
     "duration": 0.014839,
     "end_time": "2023-02-17T15:55:37.337794",
     "exception": false,
     "start_time": "2023-02-17T15:55:37.322955",
     "status": "completed"
    },
    "tags": []
   },
   "source": [
    "## Load previous data"
   ]
  },
  {
   "cell_type": "code",
   "execution_count": null,
   "id": "b4a34ba1-72d5-4b99-9f26-c2d9954c0c9f",
   "metadata": {
    "papermill": {
     "duration": 0.10497,
     "end_time": "2023-02-17T15:55:37.457596",
     "exception": false,
     "start_time": "2023-02-17T15:55:37.352626",
     "status": "completed"
    },
    "tags": []
   },
   "outputs": [],
   "source": [
    "# Get list of files\n",
    "files_list = sorted(glob.glob('../data/all_rush_*.csv'), key=os.path.getctime, reverse=True)\n",
    "# Get second newest file if exist\n",
    "if len(files_list)>1:\n",
    "    # Load csv avoiding converting \"NA\" to NaN\n",
    "    previous_df = pd.read_csv(files_list[1], dtype=object, keep_default_na=False, na_values=[''])\n",
    "    # Correct tuples\n",
    "    previous_df['Effect type'] = previous_df['Effect type'].dropna().apply(literal_eval)\n",
    "    previous_df['Archseries'] = previous_df['Archseries'].dropna().apply(literal_eval)\n",
    "    previous_df['Artwork'] = previous_df['Artwork'].dropna().apply(literal_eval)\n",
    "    # previous_df['Misc'] = previous_df['Misc'].dropna().apply(literal_eval)\n",
    "    # previous_df['Errata'] = previous_df['Errata'].dropna().apply(literal_eval)\n",
    "    # Force dtypes to match current df\n",
    "    previous_df = previous_df.astype(rush_df[previous_df.columns].dtypes.to_dict())\n",
    "    previous_ts = pd.to_datetime(os.path.basename(files_list[1]).split('_')[-1].rstrip('.csv'))\n",
    "    print('File loaded')\n",
    "else:\n",
    "    previous_df = None\n",
    "    print('No older files')"
   ]
  },
  {
   "cell_type": "markdown",
   "id": "509b3cf8-1402-4ded-b007-e8dd541ed558",
   "metadata": {
    "papermill": {
     "duration": 0.014595,
     "end_time": "2023-02-17T15:55:37.487186",
     "exception": false,
     "start_time": "2023-02-17T15:55:37.472591",
     "status": "completed"
    },
    "tags": []
   },
   "source": [
    "## Generate changelog"
   ]
  },
  {
   "cell_type": "code",
   "execution_count": null,
   "id": "bc574063-ab48-4d47-9e34-e50508be8024",
   "metadata": {
    "papermill": {
     "duration": 0.226944,
     "end_time": "2023-02-17T15:55:37.729821",
     "exception": false,
     "start_time": "2023-02-17T15:55:37.502877",
     "status": "completed"
    },
    "tags": []
   },
   "outputs": [],
   "source": [
    "if previous_df is None:\n",
    "    print('Skipped')\n",
    "else:\n",
    "    changelog = generate_changelog(previous_df, rush_df, col = 'Name')\n",
    "    if not changelog.empty:\n",
    "        display(changelog)\n",
    "        changelog.to_csv(f'../data/rush_changelog_{timestamp.isoformat(timespec=\"minutes\")}_{previous_ts.isoformat(timespec=\"minutes\")}.csv', index = True)\n",
    "        print('Changelog saved')"
   ]
  },
  {
   "cell_type": "markdown",
   "id": "31a8ceb7-8c7f-4d88-ad6d-9450970d0be9",
   "metadata": {
    "papermill": {
     "duration": 0.112874,
     "end_time": "2023-02-17T15:55:37.858233",
     "exception": false,
     "start_time": "2023-02-17T15:55:37.745359",
     "status": "completed"
    },
    "tags": []
   },
   "source": [
    "# Data visualization"
   ]
  },
  {
   "cell_type": "code",
   "execution_count": null,
   "id": "effa94cb-10ed-4dff-b33b-df6601744e6c",
   "metadata": {
    "papermill": {
     "duration": 0.051712,
     "end_time": "2023-02-17T15:55:37.926291",
     "exception": false,
     "start_time": "2023-02-17T15:55:37.874579",
     "status": "completed"
    },
    "tags": []
   },
   "outputs": [],
   "source": [
    "rush_df"
   ]
  },
  {
   "cell_type": "markdown",
   "id": "a44de30d-b50e-4b2c-9aa7-dbea84868a45",
   "metadata": {
    "papermill": {
     "duration": 0.01572,
     "end_time": "2023-02-17T15:55:37.958201",
     "exception": false,
     "start_time": "2023-02-17T15:55:37.942481",
     "status": "completed"
    },
    "tags": []
   },
   "source": [
    "## Misc"
   ]
  },
  {
   "cell_type": "code",
   "execution_count": null,
   "id": "31dd52c6-0700-4b40-80f5-027d6187eb8b",
   "metadata": {
    "papermill": {
     "duration": 0.0873,
     "end_time": "2023-02-17T15:55:38.062035",
     "exception": false,
     "start_time": "2023-02-17T15:55:37.974735",
     "status": "completed"
    },
    "tags": []
   },
   "outputs": [],
   "source": [
    "rush_df[rush_df['Legend']]"
   ]
  },
  {
   "cell_type": "markdown",
   "id": "6f265c0c-ee8f-4e14-97a2-8f5011fade4d",
   "metadata": {
    "papermill": {
     "duration": 0.018276,
     "end_time": "2023-02-17T15:55:38.099481",
     "exception": false,
     "start_time": "2023-02-17T15:55:38.081205",
     "status": "completed"
    },
    "tags": []
   },
   "source": [
    "## Card type"
   ]
  },
  {
   "cell_type": "code",
   "execution_count": null,
   "id": "d0eb0759-1dfe-4dd3-8f5e-b442a615a487",
   "metadata": {
    "papermill": {
     "duration": 0.03153,
     "end_time": "2023-02-17T15:55:38.149904",
     "exception": false,
     "start_time": "2023-02-17T15:55:38.118374",
     "status": "completed"
    },
    "tags": []
   },
   "outputs": [],
   "source": [
    "rush_df['Card type'].nunique()"
   ]
  },
  {
   "cell_type": "code",
   "execution_count": null,
   "id": "6c432be3-24b9-451a-bf40-97a27c58c9f3",
   "metadata": {
    "papermill": {
     "duration": 0.033135,
     "end_time": "2023-02-17T15:55:38.201429",
     "exception": false,
     "start_time": "2023-02-17T15:55:38.168294",
     "status": "completed"
    },
    "tags": []
   },
   "outputs": [],
   "source": [
    "rush_df['Card type'].value_counts()"
   ]
  },
  {
   "cell_type": "markdown",
   "id": "61a76912-a0db-4680-93ef-fff91938644f",
   "metadata": {
    "papermill": {
     "duration": 0.019044,
     "end_time": "2023-02-17T15:55:38.239304",
     "exception": false,
     "start_time": "2023-02-17T15:55:38.220260",
     "status": "completed"
    },
    "tags": []
   },
   "source": [
    "## Attribute"
   ]
  },
  {
   "cell_type": "code",
   "execution_count": null,
   "id": "a9508ea1-fa4c-4ba7-bbe1-7fdebcb10914",
   "metadata": {
    "papermill": {
     "duration": 0.032355,
     "end_time": "2023-02-17T15:55:38.290244",
     "exception": false,
     "start_time": "2023-02-17T15:55:38.257889",
     "status": "completed"
    },
    "tags": []
   },
   "outputs": [],
   "source": [
    "rush_df['Attribute'].nunique()"
   ]
  },
  {
   "cell_type": "code",
   "execution_count": null,
   "id": "0f73e89b-46dd-4977-acfc-69c91a3f91ce",
   "metadata": {
    "papermill": {
     "duration": 0.033176,
     "end_time": "2023-02-17T15:55:38.342235",
     "exception": false,
     "start_time": "2023-02-17T15:55:38.309059",
     "status": "completed"
    },
    "tags": []
   },
   "outputs": [],
   "source": [
    "rush_df['Attribute'].value_counts()"
   ]
  },
  {
   "cell_type": "markdown",
   "id": "52ec4c63-62b0-4f14-a410-6d73439fade0",
   "metadata": {
    "papermill": {
     "duration": 0.019443,
     "end_time": "2023-02-17T15:55:38.381381",
     "exception": false,
     "start_time": "2023-02-17T15:55:38.361938",
     "status": "completed"
    },
    "tags": []
   },
   "source": [
    "## Primary type"
   ]
  },
  {
   "cell_type": "code",
   "execution_count": null,
   "id": "28702421-4c44-43f2-97b9-1a93ff607099",
   "metadata": {
    "papermill": {
     "duration": 0.031346,
     "end_time": "2023-02-17T15:55:38.432573",
     "exception": false,
     "start_time": "2023-02-17T15:55:38.401227",
     "status": "completed"
    },
    "tags": []
   },
   "outputs": [],
   "source": [
    "rush_df['Primary type'].nunique()"
   ]
  },
  {
   "cell_type": "code",
   "execution_count": null,
   "id": "f52799eb-60e7-4d00-923c-3cd487ae8041",
   "metadata": {
    "papermill": {
     "duration": 0.032866,
     "end_time": "2023-02-17T15:55:38.484964",
     "exception": false,
     "start_time": "2023-02-17T15:55:38.452098",
     "status": "completed"
    },
    "tags": []
   },
   "outputs": [],
   "source": [
    "rush_df['Primary type'].value_counts()"
   ]
  },
  {
   "cell_type": "markdown",
   "id": "1cec1d3f-9089-4e2c-8263-19996a56fb94",
   "metadata": {
    "papermill": {
     "duration": 0.020102,
     "end_time": "2023-02-17T15:55:38.524890",
     "exception": false,
     "start_time": "2023-02-17T15:55:38.504788",
     "status": "completed"
    },
    "tags": []
   },
   "source": [
    "## Monster type"
   ]
  },
  {
   "cell_type": "code",
   "execution_count": null,
   "id": "d119f05c-cc16-4640-b03b-75ffa90e57d2",
   "metadata": {
    "papermill": {
     "duration": 0.031937,
     "end_time": "2023-02-17T15:55:38.578714",
     "exception": false,
     "start_time": "2023-02-17T15:55:38.546777",
     "status": "completed"
    },
    "tags": []
   },
   "outputs": [],
   "source": [
    "rush_df['Monster type'].nunique()"
   ]
  },
  {
   "cell_type": "code",
   "execution_count": null,
   "id": "73ae59ca-7546-489d-acc3-95a3e3be6330",
   "metadata": {
    "papermill": {
     "duration": 0.033772,
     "end_time": "2023-02-17T15:55:38.638603",
     "exception": false,
     "start_time": "2023-02-17T15:55:38.604831",
     "status": "completed"
    },
    "tags": []
   },
   "outputs": [],
   "source": [
    "rush_df['Monster type'].value_counts()"
   ]
  },
  {
   "cell_type": "markdown",
   "id": "67f66807-7364-40dd-a14e-5ba64dcc4897",
   "metadata": {
    "papermill": {
     "duration": 0.019968,
     "end_time": "2023-02-17T15:55:38.678709",
     "exception": false,
     "start_time": "2023-02-17T15:55:38.658741",
     "status": "completed"
    },
    "tags": []
   },
   "source": [
    "## Level/Rank type"
   ]
  },
  {
   "cell_type": "code",
   "execution_count": null,
   "id": "e1a6ab8c-0b13-40fc-b82c-752553b91155",
   "metadata": {
    "papermill": {
     "duration": 0.030615,
     "end_time": "2023-02-17T15:55:38.729391",
     "exception": false,
     "start_time": "2023-02-17T15:55:38.698776",
     "status": "completed"
    },
    "tags": []
   },
   "outputs": [],
   "source": [
    "rush_df['Level/Rank'].nunique()"
   ]
  },
  {
   "cell_type": "code",
   "execution_count": null,
   "id": "7d9f8eec-0171-40ee-9338-09606e837992",
   "metadata": {
    "papermill": {
     "duration": 0.033539,
     "end_time": "2023-02-17T15:55:38.783621",
     "exception": false,
     "start_time": "2023-02-17T15:55:38.750082",
     "status": "completed"
    },
    "tags": []
   },
   "outputs": [],
   "source": [
    "rush_df['Level/Rank'].value_counts()"
   ]
  },
  {
   "cell_type": "markdown",
   "id": "536f68c4-f64a-4c69-a143-0a5c8b0292b1",
   "metadata": {
    "papermill": {
     "duration": 0.113297,
     "end_time": "2023-02-17T15:55:38.921864",
     "exception": false,
     "start_time": "2023-02-17T15:55:38.808567",
     "status": "completed"
    },
    "tags": []
   },
   "source": [
    "## ATK"
   ]
  },
  {
   "cell_type": "code",
   "execution_count": null,
   "id": "50fc302c-b129-46c9-84e4-42cfafbede85",
   "metadata": {
    "papermill": {
     "duration": 0.032303,
     "end_time": "2023-02-17T15:55:38.975471",
     "exception": false,
     "start_time": "2023-02-17T15:55:38.943168",
     "status": "completed"
    },
    "tags": []
   },
   "outputs": [],
   "source": [
    "rush_df['ATK'].nunique()"
   ]
  },
  {
   "cell_type": "code",
   "execution_count": null,
   "id": "f709f5da-a2f0-405b-ac40-b71a11d04150",
   "metadata": {
    "papermill": {
     "duration": 0.04138,
     "end_time": "2023-02-17T15:55:39.038253",
     "exception": false,
     "start_time": "2023-02-17T15:55:38.996873",
     "status": "completed"
    },
    "tags": []
   },
   "outputs": [],
   "source": [
    "rush_df['ATK'].value_counts()"
   ]
  },
  {
   "cell_type": "markdown",
   "id": "c59b1e9d-4376-4476-bcf0-f899852cbffa",
   "metadata": {
    "papermill": {
     "duration": 0.021613,
     "end_time": "2023-02-17T15:55:39.082360",
     "exception": false,
     "start_time": "2023-02-17T15:55:39.060747",
     "status": "completed"
    },
    "tags": []
   },
   "source": [
    "## DEF"
   ]
  },
  {
   "cell_type": "code",
   "execution_count": null,
   "id": "dce1d17a-aec5-4db7-8f87-ce418d1976dc",
   "metadata": {
    "papermill": {
     "duration": 0.03193,
     "end_time": "2023-02-17T15:55:39.147614",
     "exception": false,
     "start_time": "2023-02-17T15:55:39.115684",
     "status": "completed"
    },
    "tags": []
   },
   "outputs": [],
   "source": [
    "rush_df['DEF'].nunique()"
   ]
  },
  {
   "cell_type": "code",
   "execution_count": null,
   "id": "e279b33b-c7ee-48dc-b521-afd69352c8d0",
   "metadata": {
    "papermill": {
     "duration": 0.365468,
     "end_time": "2023-02-17T15:55:39.596866",
     "exception": false,
     "start_time": "2023-02-17T15:55:39.231398",
     "status": "completed"
    },
    "tags": []
   },
   "outputs": [],
   "source": [
    "rush_df['DEF'].value_counts()"
   ]
  },
  {
   "cell_type": "markdown",
   "id": "f2966e60-300a-4289-9a94-f14c49fa41d4",
   "metadata": {
    "papermill": {
     "duration": 0.021444,
     "end_time": "2023-02-17T15:55:39.662768",
     "exception": false,
     "start_time": "2023-02-17T15:55:39.641324",
     "status": "completed"
    },
    "tags": []
   },
   "source": [
    "## Effect type"
   ]
  },
  {
   "cell_type": "code",
   "execution_count": null,
   "id": "fd5bd38b-8e67-489d-a05c-c750b8be4ab9",
   "metadata": {
    "papermill": {
     "duration": 0.03682,
     "end_time": "2023-02-17T15:55:39.721360",
     "exception": false,
     "start_time": "2023-02-17T15:55:39.684540",
     "status": "completed"
    },
    "tags": []
   },
   "outputs": [],
   "source": [
    "rush_df['Effect type'].explode().nunique()"
   ]
  },
  {
   "cell_type": "code",
   "execution_count": null,
   "id": "6a7b9d8f-0cde-4f75-ac65-8ca91c9e4b5e",
   "metadata": {
    "papermill": {
     "duration": 0.037357,
     "end_time": "2023-02-17T15:55:39.780661",
     "exception": false,
     "start_time": "2023-02-17T15:55:39.743304",
     "status": "completed"
    },
    "tags": []
   },
   "outputs": [],
   "source": [
    "rush_df['Effect type'].explode().value_counts()"
   ]
  },
  {
   "cell_type": "markdown",
   "id": "252d9b8a-b8e5-4a10-9beb-dd1bb5ee3d18",
   "metadata": {
    "papermill": {
     "duration": 0.022442,
     "end_time": "2023-02-17T15:55:39.825498",
     "exception": false,
     "start_time": "2023-02-17T15:55:39.803056",
     "status": "completed"
    },
    "tags": []
   },
   "source": [
    "## Archseries"
   ]
  },
  {
   "cell_type": "code",
   "execution_count": null,
   "id": "f08dce44-f442-4b5d-a6bf-fc22db000634",
   "metadata": {
    "papermill": {
     "duration": 0.035385,
     "end_time": "2023-02-17T15:55:39.882681",
     "exception": false,
     "start_time": "2023-02-17T15:55:39.847296",
     "status": "completed"
    },
    "tags": []
   },
   "outputs": [],
   "source": [
    "rush_df['Archseries'].explode().nunique()"
   ]
  },
  {
   "cell_type": "code",
   "execution_count": null,
   "id": "81789c6e-1327-4535-89fe-5fd1c280c26e",
   "metadata": {
    "papermill": {
     "duration": 0.04041,
     "end_time": "2023-02-17T15:55:39.945861",
     "exception": false,
     "start_time": "2023-02-17T15:55:39.905451",
     "status": "completed"
    },
    "tags": []
   },
   "outputs": [],
   "source": [
    "rush_df['Archseries'].explode().value_counts()"
   ]
  },
  {
   "cell_type": "markdown",
   "id": "b502bfe6-e19b-4d35-a32e-7b6a281d124c",
   "metadata": {
    "papermill": {
     "duration": 0.022057,
     "end_time": "2023-02-17T15:55:39.990783",
     "exception": false,
     "start_time": "2023-02-17T15:55:39.968726",
     "status": "completed"
    },
    "tags": []
   },
   "source": [
    "## Legend"
   ]
  },
  {
   "cell_type": "code",
   "execution_count": null,
   "id": "b964ae84-be57-4250-9ce1-9b1f343ad9de",
   "metadata": {
    "papermill": {
     "duration": 0.035709,
     "end_time": "2023-02-17T15:55:40.049703",
     "exception": false,
     "start_time": "2023-02-17T15:55:40.013994",
     "status": "completed"
    },
    "tags": []
   },
   "outputs": [],
   "source": [
    "rush_df['Legend'].sum()"
   ]
  },
  {
   "cell_type": "markdown",
   "id": "434575eb-282b-4784-91a1-d7c60720f002",
   "metadata": {
    "papermill": {
     "duration": 0.022491,
     "end_time": "2023-02-17T15:55:40.095016",
     "exception": false,
     "start_time": "2023-02-17T15:55:40.072525",
     "status": "completed"
    },
    "tags": []
   },
   "source": [
    "## Maximum mode"
   ]
  },
  {
   "cell_type": "code",
   "execution_count": null,
   "id": "3201ddda",
   "metadata": {
    "papermill": {
     "duration": 0.088403,
     "end_time": "2023-02-17T15:55:40.210238",
     "exception": false,
     "start_time": "2023-02-17T15:55:40.121835",
     "status": "completed"
    },
    "tags": []
   },
   "outputs": [],
   "source": [
    "rush_df['Maximum mode'].sum()"
   ]
  },
  {
   "cell_type": "code",
   "execution_count": null,
   "id": "a30dcb57-c8ff-462f-80e5-ea612206439d",
   "metadata": {
    "papermill": {
     "duration": 0.099477,
     "end_time": "2023-02-17T15:55:40.346797",
     "exception": false,
     "start_time": "2023-02-17T15:55:40.247320",
     "status": "completed"
    },
    "tags": []
   },
   "outputs": [],
   "source": [
    "rush_df[rush_df['Maximum mode']]"
   ]
  },
  {
   "cell_type": "code",
   "execution_count": null,
   "id": "3146a374-2970-4581-9f9b-f36e6de2d766",
   "metadata": {
    "papermill": {
     "duration": 0.035447,
     "end_time": "2023-02-17T15:55:40.408920",
     "exception": false,
     "start_time": "2023-02-17T15:55:40.373473",
     "status": "completed"
    },
    "tags": []
   },
   "outputs": [],
   "source": [
    "### MAXIMUM ATK"
   ]
  },
  {
   "cell_type": "code",
   "execution_count": null,
   "id": "317ce825-1d9b-4a99-ad39-93ee7a64db0a",
   "metadata": {
    "papermill": {
     "duration": 0.154362,
     "end_time": "2023-02-17T15:55:40.590681",
     "exception": false,
     "start_time": "2023-02-17T15:55:40.436319",
     "status": "completed"
    },
    "tags": []
   },
   "outputs": [],
   "source": [
    "rush_df['MAXIMUM ATK'].count()"
   ]
  },
  {
   "cell_type": "markdown",
   "id": "7384cb37-3207-4eb4-842a-9b4d39f74eb1",
   "metadata": {
    "papermill": {
     "duration": 0.053874,
     "end_time": "2023-02-17T15:55:40.824499",
     "exception": false,
     "start_time": "2023-02-17T15:55:40.770625",
     "status": "completed"
    },
    "tags": []
   },
   "source": [
    "## Artworks"
   ]
  },
  {
   "cell_type": "code",
   "execution_count": null,
   "id": "165a30bd-3770-40e5-9ec2-0577fb6787cf",
   "metadata": {
    "papermill": {
     "duration": 0.062168,
     "end_time": "2023-02-17T15:55:40.911458",
     "exception": false,
     "start_time": "2023-02-17T15:55:40.849290",
     "status": "completed"
    },
    "tags": []
   },
   "outputs": [],
   "source": [
    "rush_df['Artwork'].nunique()"
   ]
  },
  {
   "cell_type": "code",
   "execution_count": null,
   "id": "e6001823-e944-4e1e-aa4e-6e548106c7de",
   "metadata": {
    "papermill": {
     "duration": 0.038385,
     "end_time": "2023-02-17T15:55:40.975597",
     "exception": false,
     "start_time": "2023-02-17T15:55:40.937212",
     "status": "completed"
    },
    "tags": []
   },
   "outputs": [],
   "source": [
    "rush_df['Artwork'].value_counts()"
   ]
  },
  {
   "cell_type": "markdown",
   "id": "43cddd33-ab89-4a6f-bd26-5a8153ddb6e7",
   "metadata": {
    "papermill": {
     "duration": 0.02512,
     "end_time": "2023-02-17T15:55:41.026054",
     "exception": false,
     "start_time": "2023-02-17T15:55:41.000934",
     "status": "completed"
    },
    "tags": []
   },
   "source": [
    "## Property"
   ]
  },
  {
   "cell_type": "code",
   "execution_count": null,
   "id": "ea8d219f-57c3-4b51-89ff-e02879505cae",
   "metadata": {
    "papermill": {
     "duration": 0.03622,
     "end_time": "2023-02-17T15:55:41.087790",
     "exception": false,
     "start_time": "2023-02-17T15:55:41.051570",
     "status": "completed"
    },
    "tags": []
   },
   "outputs": [],
   "source": [
    "rush_df['Property'].nunique()"
   ]
  },
  {
   "cell_type": "code",
   "execution_count": null,
   "id": "b254eced-bc75-4d93-8507-c1b9ed1effe7",
   "metadata": {
    "papermill": {
     "duration": 0.039606,
     "end_time": "2023-02-17T15:55:41.154317",
     "exception": false,
     "start_time": "2023-02-17T15:55:41.114711",
     "status": "completed"
    },
    "tags": []
   },
   "outputs": [],
   "source": [
    "rush_df['Property'].value_counts()"
   ]
  },
  {
   "cell_type": "markdown",
   "id": "0d885c37-1f07-44af-9c60-2d0b5be3d1c1",
   "metadata": {
    "papermill": {
     "duration": 0.026002,
     "end_time": "2023-02-17T15:55:41.206347",
     "exception": false,
     "start_time": "2023-02-17T15:55:41.180345",
     "status": "completed"
    },
    "tags": []
   },
   "source": [
    "# Epilogue"
   ]
  },
  {
   "cell_type": "code",
   "execution_count": null,
   "id": "8ba1a4e5-c217-4503-871a-c29e6d6d325d",
   "metadata": {
    "papermill": {
     "duration": 0.062358,
     "end_time": "2023-02-17T15:55:41.294958",
     "exception": false,
     "start_time": "2023-02-17T15:55:41.232600",
     "status": "completed"
    },
    "tags": []
   },
   "outputs": [],
   "source": [
    "footer()"
   ]
  },
  {
   "cell_type": "markdown",
   "id": "e9d01a2d-b954-4e6e-ba2c-d30cbbf5670e",
   "metadata": {
    "papermill": {
     "duration": 0.026046,
     "end_time": "2023-02-17T15:55:41.367010",
     "exception": false,
     "start_time": "2023-02-17T15:55:41.340964",
     "status": "completed"
    },
    "tags": []
   },
   "source": [
    "## HTML export"
   ]
  },
  {
   "cell_type": "code",
   "execution_count": null,
   "id": "3c939c45-1e4c-444a-93c9-d39c797c4946",
   "metadata": {
    "papermill": {
     "duration": 0.065926,
     "end_time": "2023-02-17T15:55:41.462014",
     "exception": false,
     "start_time": "2023-02-17T15:55:41.396088",
     "status": "completed"
    },
    "tags": []
   },
   "outputs": [],
   "source": [
    "# Save notebook on disck before generating HTML report\n",
    "save_notebook()"
   ]
  },
  {
   "cell_type": "code",
   "execution_count": null,
   "id": "7c071232-e7a7-4130-ab05-6331289df6f0",
   "metadata": {
    "papermill": {
     "duration": 2.736465,
     "end_time": "2023-02-17T15:55:44.231971",
     "exception": false,
     "start_time": "2023-02-17T15:55:41.495506",
     "status": "completed"
    },
    "tags": []
   },
   "outputs": [],
   "source": [
    "! jupyter nbconvert Rush.ipynb --output-dir='../' --to=HTML --TagRemovePreprocessor.enabled=True --TagRemovePreprocessor.remove_cell_tags='exclude' --TemplateExporter.exclude_input=True --TemplateExporter.exclude_input_prompt=True --TemplateExporter.exclude_output_prompt=True"
   ]
  },
  {
   "cell_type": "markdown",
   "id": "ca83b780-5172-40c2-a0de-ed7b5abc8dc1",
   "metadata": {
    "papermill": {
     "duration": 0.111036,
     "end_time": "2023-02-17T15:55:44.374590",
     "exception": false,
     "start_time": "2023-02-17T15:55:44.263554",
     "status": "completed"
    },
    "tags": [
     "exclude"
    ]
   },
   "source": [
    "## Git"
   ]
  },
  {
   "cell_type": "code",
   "execution_count": null,
   "id": "8706d855-ab53-49a9-9a7c-9a664a53e5a3",
   "metadata": {
    "papermill": {
     "duration": 0.333909,
     "end_time": "2023-02-17T15:55:44.736434",
     "exception": false,
     "start_time": "2023-02-17T15:55:44.402525",
     "status": "completed"
    },
    "tags": [
     "exclude"
    ]
   },
   "outputs": [],
   "source": [
    "! git add \"../*[Rr]ush*\""
   ]
  },
  {
   "cell_type": "code",
   "execution_count": null,
   "id": "1ef305d7-78a7-4649-920c-c0ca471ad3f8",
   "metadata": {
    "papermill": {
     "duration": 0.359203,
     "end_time": "2023-02-17T15:55:45.122132",
     "exception": false,
     "start_time": "2023-02-17T15:55:44.762929",
     "status": "completed"
    },
    "tags": [
     "exclude"
    ]
   },
   "outputs": [],
   "source": [
    "! git commit -m {\"'Rush duel update-\" + timestamp.isoformat() + \"'\"}"
   ]
  }
 ],
 "metadata": {
  "kernelspec": {
   "display_name": "Python 3 (ipykernel)",
   "language": "python",
   "name": "python3"
  },
  "language_info": {
   "codemirror_mode": {
    "name": "ipython",
    "version": 3
   },
   "file_extension": ".py",
   "mimetype": "text/x-python",
   "name": "python",
   "nbconvert_exporter": "python",
   "pygments_lexer": "ipython3",
   "version": "3.10.8"
  },
  "papermill": {
   "default_parameters": {},
   "duration": 47.469533,
   "end_time": "2023-02-17T15:55:45.972473",
   "environment_variables": {},
   "exception": null,
   "input_path": "Rush.ipynb",
   "output_path": "Rush.ipynb",
   "parameters": {},
   "start_time": "2023-02-17T15:54:58.502940",
   "version": "2.4.0"
  }
 },
 "nbformat": 4,
 "nbformat_minor": 5
}
