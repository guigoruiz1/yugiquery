{
 "cells": [
  {
   "cell_type": "code",
   "execution_count": null,
   "id": "db3fea09-dd17-4d4f-9751-4db442584d19",
   "metadata": {
    "papermill": {
     "duration": 2.023931,
     "end_time": "2023-02-17T12:22:25.603184",
     "exception": false,
     "start_time": "2023-02-17T12:22:23.579253",
     "status": "completed"
    },
    "tags": []
   },
   "outputs": [],
   "source": [
    "from yugiquery import *\n",
    "header('Rush Duel')"
   ]
  },
  {
   "cell_type": "markdown",
   "id": "f26c89c2-c447-43a2-997b-603775191de3",
   "metadata": {
    "papermill": {
     "duration": 0.057831,
     "end_time": "2023-02-17T12:22:25.682873",
     "exception": false,
     "start_time": "2023-02-17T12:22:25.625042",
     "status": "completed"
    },
    "tags": []
   },
   "source": [
    "---"
   ]
  },
  {
   "cell_type": "markdown",
   "id": "f21bcaec-0f80-4b9a-939c-c4bd159ee18b",
   "metadata": {
    "papermill": {
     "duration": 0.016297,
     "end_time": "2023-02-17T12:22:25.716322",
     "exception": false,
     "start_time": "2023-02-17T12:22:25.700025",
     "status": "completed"
    },
    "tags": []
   },
   "source": [
    "# Data aquisition"
   ]
  },
  {
   "cell_type": "markdown",
   "id": "7642e7a7-408a-47af-a6d3-8d8e6c733581",
   "metadata": {
    "papermill": {
     "duration": 0.017333,
     "end_time": "2023-02-17T12:22:25.752106",
     "exception": false,
     "start_time": "2023-02-17T12:22:25.734773",
     "status": "completed"
    },
    "tags": []
   },
   "source": [
    "## Fetch online data"
   ]
  },
  {
   "cell_type": "code",
   "execution_count": null,
   "id": "88db0457-64ee-4b1f-a642-1488b81ecad1",
   "metadata": {
    "papermill": {
     "duration": 0.028768,
     "end_time": "2023-02-17T12:22:25.797438",
     "exception": false,
     "start_time": "2023-02-17T12:22:25.768670",
     "status": "completed"
    },
    "tags": []
   },
   "outputs": [],
   "source": [
    "# Timestamp\n",
    "timestamp = pd.Timestamp.now()"
   ]
  },
  {
   "cell_type": "code",
   "execution_count": null,
   "id": "4cf61b44-a485-4af9-9465-b4eb2431a730",
   "metadata": {
    "papermill": {
     "duration": 24.527268,
     "end_time": "2023-02-17T12:22:50.341195",
     "exception": false,
     "start_time": "2023-02-17T12:22:25.813927",
     "status": "completed"
    },
    "tags": []
   },
   "outputs": [],
   "source": [
    "# Rush cards query + Misc\n",
    "rush_query = card_query('rush')\n",
    "\n",
    "# Fetch rush cards\n",
    "rush_df = fetch_rush(rush_query)"
   ]
  },
  {
   "cell_type": "markdown",
   "id": "feeb2511-c891-4047-8e87-4106f7ecd222",
   "metadata": {
    "papermill": {
     "duration": 0.031349,
     "end_time": "2023-02-17T12:22:50.395299",
     "exception": false,
     "start_time": "2023-02-17T12:22:50.363950",
     "status": "completed"
    },
    "tags": []
   },
   "source": [
    "## Save data"
   ]
  },
  {
   "cell_type": "code",
   "execution_count": null,
   "id": "7508d7a5-8398-4596-9079-64cf9ebd6e77",
   "metadata": {
    "papermill": {
     "duration": 0.062858,
     "end_time": "2023-02-17T12:22:50.475204",
     "exception": false,
     "start_time": "2023-02-17T12:22:50.412346",
     "status": "completed"
    },
    "tags": []
   },
   "outputs": [],
   "source": [
    "rush_df.to_csv(f'../data/all_rush_{timestamp.isoformat(timespec=\"minutes\")}.csv', index=False)\n",
    "print('Data saved')"
   ]
  },
  {
   "cell_type": "markdown",
   "id": "de464ac7-ef5b-49f9-8679-9883d5ec151b",
   "metadata": {
    "papermill": {
     "duration": 0.016595,
     "end_time": "2023-02-17T12:22:50.509153",
     "exception": false,
     "start_time": "2023-02-17T12:22:50.492558",
     "status": "completed"
    },
    "tags": []
   },
   "source": [
    "# Check changes"
   ]
  },
  {
   "cell_type": "markdown",
   "id": "0372e9c7-e778-4c0a-8ba4-b61cf3537eab",
   "metadata": {
    "papermill": {
     "duration": 0.017194,
     "end_time": "2023-02-17T12:22:50.543294",
     "exception": false,
     "start_time": "2023-02-17T12:22:50.526100",
     "status": "completed"
    },
    "tags": []
   },
   "source": [
    "## Load previous data"
   ]
  },
  {
   "cell_type": "code",
   "execution_count": null,
   "id": "b4a34ba1-72d5-4b99-9f26-c2d9954c0c9f",
   "metadata": {
    "papermill": {
     "duration": 0.102193,
     "end_time": "2023-02-17T12:22:50.664284",
     "exception": false,
     "start_time": "2023-02-17T12:22:50.562091",
     "status": "completed"
    },
    "tags": []
   },
   "outputs": [],
   "source": [
    "# Get list of files\n",
    "files_list = sorted(glob.glob('../data/all_rush_*.csv'), key=os.path.getctime, reverse=True)\n",
    "# Get second newest file if exist\n",
    "if len(files_list)>1:\n",
    "    # Load csv avoiding converting \"NA\" to NaN\n",
    "    previous_df = pd.read_csv(files_list[1], dtype=object, keep_default_na=False, na_values=[''])\n",
    "    # Correct tuples\n",
    "    previous_df['Effect type'] = previous_df['Effect type'].dropna().apply(literal_eval)\n",
    "    previous_df['Archseries'] = previous_df['Archseries'].dropna().apply(literal_eval)\n",
    "    previous_df['Artwork'] = previous_df['Artwork'].dropna().apply(literal_eval)\n",
    "    # previous_df['Misc'] = previous_df['Misc'].dropna().apply(literal_eval)\n",
    "    # previous_df['Errata'] = previous_df['Errata'].dropna().apply(literal_eval)\n",
    "    # Force dtypes to match current df\n",
    "    previous_df = previous_df.astype(rush_df[previous_df.columns].dtypes.to_dict())\n",
    "    previous_ts = pd.to_datetime(os.path.basename(files_list[1]).split('_')[-1].rstrip('.csv'))\n",
    "    print('File loaded')\n",
    "else:\n",
    "    previous_df = None\n",
    "    print('No older files')"
   ]
  },
  {
   "cell_type": "markdown",
   "id": "509b3cf8-1402-4ded-b007-e8dd541ed558",
   "metadata": {
    "papermill": {
     "duration": 0.016754,
     "end_time": "2023-02-17T12:22:50.699139",
     "exception": false,
     "start_time": "2023-02-17T12:22:50.682385",
     "status": "completed"
    },
    "tags": []
   },
   "source": [
    "## Generate changelog"
   ]
  },
  {
   "cell_type": "code",
   "execution_count": null,
   "id": "bc574063-ab48-4d47-9e34-e50508be8024",
   "metadata": {
    "papermill": {
     "duration": 0.230266,
     "end_time": "2023-02-17T12:22:50.946277",
     "exception": false,
     "start_time": "2023-02-17T12:22:50.716011",
     "status": "completed"
    },
    "tags": []
   },
   "outputs": [],
   "source": [
    "if previous_df is None:\n",
    "    print('Skipped')\n",
    "else:\n",
    "    changelog = generate_changelog(previous_df, rush_df, col = 'Name')\n",
    "    if not changelog.empty:\n",
    "        display(changelog)\n",
    "        changelog.to_csv(f'../data/rush_changelog_{timestamp.isoformat(timespec=\"minutes\")}_{previous_ts.isoformat(timespec=\"minutes\")}.csv', index = True)\n",
    "        print('Changelog saved')"
   ]
  },
  {
   "cell_type": "markdown",
   "id": "31a8ceb7-8c7f-4d88-ad6d-9450970d0be9",
   "metadata": {
    "papermill": {
     "duration": 0.094354,
     "end_time": "2023-02-17T12:22:51.058508",
     "exception": false,
     "start_time": "2023-02-17T12:22:50.964154",
     "status": "completed"
    },
    "tags": []
   },
   "source": [
    "# Data visualization"
   ]
  },
  {
   "cell_type": "code",
   "execution_count": null,
   "id": "effa94cb-10ed-4dff-b33b-df6601744e6c",
   "metadata": {
    "papermill": {
     "duration": 0.054094,
     "end_time": "2023-02-17T12:22:51.130395",
     "exception": false,
     "start_time": "2023-02-17T12:22:51.076301",
     "status": "completed"
    },
    "tags": []
   },
   "outputs": [],
   "source": [
    "rush_df"
   ]
  },
  {
   "cell_type": "markdown",
   "id": "a44de30d-b50e-4b2c-9aa7-dbea84868a45",
   "metadata": {
    "papermill": {
     "duration": 0.018033,
     "end_time": "2023-02-17T12:22:51.167094",
     "exception": false,
     "start_time": "2023-02-17T12:22:51.149061",
     "status": "completed"
    },
    "tags": []
   },
   "source": [
    "## Misc"
   ]
  },
  {
   "cell_type": "code",
   "execution_count": null,
   "id": "31dd52c6-0700-4b40-80f5-027d6187eb8b",
   "metadata": {
    "papermill": {
     "duration": 0.129917,
     "end_time": "2023-02-17T12:22:51.315761",
     "exception": false,
     "start_time": "2023-02-17T12:22:51.185844",
     "status": "completed"
    },
    "tags": []
   },
   "outputs": [],
   "source": [
    "rush_df[rush_df['Legend']]"
   ]
  },
  {
   "cell_type": "markdown",
   "id": "6f265c0c-ee8f-4e14-97a2-8f5011fade4d",
   "metadata": {
    "papermill": {
     "duration": 0.020525,
     "end_time": "2023-02-17T12:22:51.359493",
     "exception": false,
     "start_time": "2023-02-17T12:22:51.338968",
     "status": "completed"
    },
    "tags": []
   },
   "source": [
    "## Card type"
   ]
  },
  {
   "cell_type": "code",
   "execution_count": null,
   "id": "d0eb0759-1dfe-4dd3-8f5e-b442a615a487",
   "metadata": {
    "papermill": {
     "duration": 0.038461,
     "end_time": "2023-02-17T12:22:51.420135",
     "exception": false,
     "start_time": "2023-02-17T12:22:51.381674",
     "status": "completed"
    },
    "tags": []
   },
   "outputs": [],
   "source": [
    "rush_df['Card type'].nunique()"
   ]
  },
  {
   "cell_type": "code",
   "execution_count": null,
   "id": "6c432be3-24b9-451a-bf40-97a27c58c9f3",
   "metadata": {
    "papermill": {
     "duration": 0.061547,
     "end_time": "2023-02-17T12:22:51.526679",
     "exception": false,
     "start_time": "2023-02-17T12:22:51.465132",
     "status": "completed"
    },
    "tags": []
   },
   "outputs": [],
   "source": [
    "rush_df['Card type'].value_counts()"
   ]
  },
  {
   "cell_type": "markdown",
   "id": "61a76912-a0db-4680-93ef-fff91938644f",
   "metadata": {
    "papermill": {
     "duration": 0.071036,
     "end_time": "2023-02-17T12:22:51.662405",
     "exception": false,
     "start_time": "2023-02-17T12:22:51.591369",
     "status": "completed"
    },
    "tags": []
   },
   "source": [
    "## Attribute"
   ]
  },
  {
   "cell_type": "code",
   "execution_count": null,
   "id": "a9508ea1-fa4c-4ba7-bbe1-7fdebcb10914",
   "metadata": {
    "papermill": {
     "duration": 0.059488,
     "end_time": "2023-02-17T12:22:51.751765",
     "exception": false,
     "start_time": "2023-02-17T12:22:51.692277",
     "status": "completed"
    },
    "tags": []
   },
   "outputs": [],
   "source": [
    "rush_df['Attribute'].nunique()"
   ]
  },
  {
   "cell_type": "code",
   "execution_count": null,
   "id": "0f73e89b-46dd-4977-acfc-69c91a3f91ce",
   "metadata": {
    "papermill": {
     "duration": 0.215665,
     "end_time": "2023-02-17T12:22:51.989263",
     "exception": false,
     "start_time": "2023-02-17T12:22:51.773598",
     "status": "completed"
    },
    "tags": []
   },
   "outputs": [],
   "source": [
    "rush_df['Attribute'].value_counts()"
   ]
  },
  {
   "cell_type": "markdown",
   "id": "52ec4c63-62b0-4f14-a410-6d73439fade0",
   "metadata": {
    "papermill": {
     "duration": 0.021282,
     "end_time": "2023-02-17T12:22:52.074763",
     "exception": false,
     "start_time": "2023-02-17T12:22:52.053481",
     "status": "completed"
    },
    "tags": []
   },
   "source": [
    "## Primary type"
   ]
  },
  {
   "cell_type": "code",
   "execution_count": null,
   "id": "28702421-4c44-43f2-97b9-1a93ff607099",
   "metadata": {
    "papermill": {
     "duration": 0.039135,
     "end_time": "2023-02-17T12:22:52.135004",
     "exception": false,
     "start_time": "2023-02-17T12:22:52.095869",
     "status": "completed"
    },
    "tags": []
   },
   "outputs": [],
   "source": [
    "rush_df['Primary type'].nunique()"
   ]
  },
  {
   "cell_type": "code",
   "execution_count": null,
   "id": "f52799eb-60e7-4d00-923c-3cd487ae8041",
   "metadata": {
    "papermill": {
     "duration": 0.038398,
     "end_time": "2023-02-17T12:22:52.195659",
     "exception": false,
     "start_time": "2023-02-17T12:22:52.157261",
     "status": "completed"
    },
    "tags": []
   },
   "outputs": [],
   "source": [
    "rush_df['Primary type'].value_counts()"
   ]
  },
  {
   "cell_type": "markdown",
   "id": "1cec1d3f-9089-4e2c-8263-19996a56fb94",
   "metadata": {
    "papermill": {
     "duration": 0.024474,
     "end_time": "2023-02-17T12:22:52.242051",
     "exception": false,
     "start_time": "2023-02-17T12:22:52.217577",
     "status": "completed"
    },
    "tags": []
   },
   "source": [
    "## Monster type"
   ]
  },
  {
   "cell_type": "code",
   "execution_count": null,
   "id": "d119f05c-cc16-4640-b03b-75ffa90e57d2",
   "metadata": {
    "papermill": {
     "duration": 0.03662,
     "end_time": "2023-02-17T12:22:52.301964",
     "exception": false,
     "start_time": "2023-02-17T12:22:52.265344",
     "status": "completed"
    },
    "tags": []
   },
   "outputs": [],
   "source": [
    "rush_df['Monster type'].nunique()"
   ]
  },
  {
   "cell_type": "code",
   "execution_count": null,
   "id": "73ae59ca-7546-489d-acc3-95a3e3be6330",
   "metadata": {
    "papermill": {
     "duration": 0.039194,
     "end_time": "2023-02-17T12:22:52.365215",
     "exception": false,
     "start_time": "2023-02-17T12:22:52.326021",
     "status": "completed"
    },
    "tags": []
   },
   "outputs": [],
   "source": [
    "rush_df['Monster type'].value_counts()"
   ]
  },
  {
   "cell_type": "markdown",
   "id": "67f66807-7364-40dd-a14e-5ba64dcc4897",
   "metadata": {
    "papermill": {
     "duration": 0.021775,
     "end_time": "2023-02-17T12:22:52.409418",
     "exception": false,
     "start_time": "2023-02-17T12:22:52.387643",
     "status": "completed"
    },
    "tags": []
   },
   "source": [
    "## Level/Rank type"
   ]
  },
  {
   "cell_type": "code",
   "execution_count": null,
   "id": "e1a6ab8c-0b13-40fc-b82c-752553b91155",
   "metadata": {
    "papermill": {
     "duration": 0.068342,
     "end_time": "2023-02-17T12:22:52.500146",
     "exception": false,
     "start_time": "2023-02-17T12:22:52.431804",
     "status": "completed"
    },
    "tags": []
   },
   "outputs": [],
   "source": [
    "rush_df['Level/Rank'].nunique()"
   ]
  },
  {
   "cell_type": "code",
   "execution_count": null,
   "id": "7d9f8eec-0171-40ee-9338-09606e837992",
   "metadata": {
    "papermill": {
     "duration": 0.035256,
     "end_time": "2023-02-17T12:22:52.557808",
     "exception": false,
     "start_time": "2023-02-17T12:22:52.522552",
     "status": "completed"
    },
    "tags": []
   },
   "outputs": [],
   "source": [
    "rush_df['Level/Rank'].value_counts()"
   ]
  },
  {
   "cell_type": "markdown",
   "id": "536f68c4-f64a-4c69-a143-0a5c8b0292b1",
   "metadata": {
    "papermill": {
     "duration": 0.02217,
     "end_time": "2023-02-17T12:22:52.602193",
     "exception": false,
     "start_time": "2023-02-17T12:22:52.580023",
     "status": "completed"
    },
    "tags": []
   },
   "source": [
    "## ATK"
   ]
  },
  {
   "cell_type": "code",
   "execution_count": null,
   "id": "50fc302c-b129-46c9-84e4-42cfafbede85",
   "metadata": {
    "papermill": {
     "duration": 0.03415,
     "end_time": "2023-02-17T12:22:52.659282",
     "exception": false,
     "start_time": "2023-02-17T12:22:52.625132",
     "status": "completed"
    },
    "tags": []
   },
   "outputs": [],
   "source": [
    "rush_df['ATK'].nunique()"
   ]
  },
  {
   "cell_type": "code",
   "execution_count": null,
   "id": "f709f5da-a2f0-405b-ac40-b71a11d04150",
   "metadata": {
    "papermill": {
     "duration": 0.036568,
     "end_time": "2023-02-17T12:22:52.718646",
     "exception": false,
     "start_time": "2023-02-17T12:22:52.682078",
     "status": "completed"
    },
    "tags": []
   },
   "outputs": [],
   "source": [
    "rush_df['ATK'].value_counts()"
   ]
  },
  {
   "cell_type": "markdown",
   "id": "c59b1e9d-4376-4476-bcf0-f899852cbffa",
   "metadata": {
    "papermill": {
     "duration": 0.022381,
     "end_time": "2023-02-17T12:22:52.763950",
     "exception": false,
     "start_time": "2023-02-17T12:22:52.741569",
     "status": "completed"
    },
    "tags": []
   },
   "source": [
    "## DEF"
   ]
  },
  {
   "cell_type": "code",
   "execution_count": null,
   "id": "dce1d17a-aec5-4db7-8f87-ce418d1976dc",
   "metadata": {
    "papermill": {
     "duration": 0.037159,
     "end_time": "2023-02-17T12:22:52.823367",
     "exception": false,
     "start_time": "2023-02-17T12:22:52.786208",
     "status": "completed"
    },
    "tags": []
   },
   "outputs": [],
   "source": [
    "rush_df['DEF'].nunique()"
   ]
  },
  {
   "cell_type": "code",
   "execution_count": null,
   "id": "e279b33b-c7ee-48dc-b521-afd69352c8d0",
   "metadata": {
    "papermill": {
     "duration": 0.038968,
     "end_time": "2023-02-17T12:22:52.884911",
     "exception": false,
     "start_time": "2023-02-17T12:22:52.845943",
     "status": "completed"
    },
    "tags": []
   },
   "outputs": [],
   "source": [
    "rush_df['DEF'].value_counts()"
   ]
  },
  {
   "cell_type": "markdown",
   "id": "f2966e60-300a-4289-9a94-f14c49fa41d4",
   "metadata": {
    "papermill": {
     "duration": 0.022737,
     "end_time": "2023-02-17T12:22:52.930226",
     "exception": false,
     "start_time": "2023-02-17T12:22:52.907489",
     "status": "completed"
    },
    "tags": []
   },
   "source": [
    "## Effect type"
   ]
  },
  {
   "cell_type": "code",
   "execution_count": null,
   "id": "fd5bd38b-8e67-489d-a05c-c750b8be4ab9",
   "metadata": {
    "papermill": {
     "duration": 0.160467,
     "end_time": "2023-02-17T12:22:53.114233",
     "exception": false,
     "start_time": "2023-02-17T12:22:52.953766",
     "status": "completed"
    },
    "tags": []
   },
   "outputs": [],
   "source": [
    "rush_df['Effect type'].explode().nunique()"
   ]
  },
  {
   "cell_type": "code",
   "execution_count": null,
   "id": "6a7b9d8f-0cde-4f75-ac65-8ca91c9e4b5e",
   "metadata": {
    "papermill": {
     "duration": 0.038535,
     "end_time": "2023-02-17T12:22:53.175937",
     "exception": false,
     "start_time": "2023-02-17T12:22:53.137402",
     "status": "completed"
    },
    "tags": []
   },
   "outputs": [],
   "source": [
    "rush_df['Effect type'].explode().value_counts()"
   ]
  },
  {
   "cell_type": "markdown",
   "id": "252d9b8a-b8e5-4a10-9beb-dd1bb5ee3d18",
   "metadata": {
    "papermill": {
     "duration": 0.022911,
     "end_time": "2023-02-17T12:22:53.222294",
     "exception": false,
     "start_time": "2023-02-17T12:22:53.199383",
     "status": "completed"
    },
    "tags": []
   },
   "source": [
    "## Archseries"
   ]
  },
  {
   "cell_type": "code",
   "execution_count": null,
   "id": "f08dce44-f442-4b5d-a6bf-fc22db000634",
   "metadata": {
    "papermill": {
     "duration": 0.037494,
     "end_time": "2023-02-17T12:22:53.282764",
     "exception": false,
     "start_time": "2023-02-17T12:22:53.245270",
     "status": "completed"
    },
    "tags": []
   },
   "outputs": [],
   "source": [
    "rush_df['Archseries'].explode().nunique()"
   ]
  },
  {
   "cell_type": "code",
   "execution_count": null,
   "id": "81789c6e-1327-4535-89fe-5fd1c280c26e",
   "metadata": {
    "papermill": {
     "duration": 0.04071,
     "end_time": "2023-02-17T12:22:53.346835",
     "exception": false,
     "start_time": "2023-02-17T12:22:53.306125",
     "status": "completed"
    },
    "tags": []
   },
   "outputs": [],
   "source": [
    "rush_df['Archseries'].explode().value_counts()"
   ]
  },
  {
   "cell_type": "markdown",
   "id": "b502bfe6-e19b-4d35-a32e-7b6a281d124c",
   "metadata": {
    "papermill": {
     "duration": 0.023401,
     "end_time": "2023-02-17T12:22:53.393674",
     "exception": false,
     "start_time": "2023-02-17T12:22:53.370273",
     "status": "completed"
    },
    "tags": []
   },
   "source": [
    "## Legend"
   ]
  },
  {
   "cell_type": "code",
   "execution_count": null,
   "id": "b964ae84-be57-4250-9ce1-9b1f343ad9de",
   "metadata": {
    "papermill": {
     "duration": 0.038504,
     "end_time": "2023-02-17T12:22:53.457081",
     "exception": false,
     "start_time": "2023-02-17T12:22:53.418577",
     "status": "completed"
    },
    "tags": []
   },
   "outputs": [],
   "source": [
    "rush_df['Legend'].sum()"
   ]
  },
  {
   "cell_type": "markdown",
   "id": "434575eb-282b-4784-91a1-d7c60720f002",
   "metadata": {
    "papermill": {
     "duration": 0.174949,
     "end_time": "2023-02-17T12:22:53.657799",
     "exception": false,
     "start_time": "2023-02-17T12:22:53.482850",
     "status": "completed"
    },
    "tags": []
   },
   "source": [
    "## Maximum mode"
   ]
  },
  {
   "cell_type": "code",
   "execution_count": null,
   "id": "3201ddda",
   "metadata": {
    "papermill": {
     "duration": 0.059513,
     "end_time": "2023-02-17T12:22:53.747053",
     "exception": false,
     "start_time": "2023-02-17T12:22:53.687540",
     "status": "completed"
    },
    "tags": []
   },
   "outputs": [],
   "source": [
    "rush_df['Maximum mode'].sum()"
   ]
  },
  {
   "cell_type": "code",
   "execution_count": null,
   "id": "a30dcb57-c8ff-462f-80e5-ea612206439d",
   "metadata": {
    "papermill": {
     "duration": 0.179596,
     "end_time": "2023-02-17T12:22:53.951878",
     "exception": false,
     "start_time": "2023-02-17T12:22:53.772282",
     "status": "completed"
    },
    "tags": []
   },
   "outputs": [],
   "source": [
    "rush_df[rush_df['Maximum mode']]"
   ]
  },
  {
   "cell_type": "code",
   "execution_count": null,
   "id": "3146a374-2970-4581-9f9b-f36e6de2d766",
   "metadata": {
    "papermill": {
     "duration": 0.034742,
     "end_time": "2023-02-17T12:22:54.013985",
     "exception": false,
     "start_time": "2023-02-17T12:22:53.979243",
     "status": "completed"
    },
    "tags": []
   },
   "outputs": [],
   "source": [
    "### MAXIMUM ATK"
   ]
  },
  {
   "cell_type": "code",
   "execution_count": null,
   "id": "317ce825-1d9b-4a99-ad39-93ee7a64db0a",
   "metadata": {
    "papermill": {
     "duration": 0.03935,
     "end_time": "2023-02-17T12:22:54.079267",
     "exception": false,
     "start_time": "2023-02-17T12:22:54.039917",
     "status": "completed"
    },
    "tags": []
   },
   "outputs": [],
   "source": [
    "rush_df['MAXIMUM ATK'].count()"
   ]
  },
  {
   "cell_type": "markdown",
   "id": "7384cb37-3207-4eb4-842a-9b4d39f74eb1",
   "metadata": {
    "papermill": {
     "duration": 0.027349,
     "end_time": "2023-02-17T12:22:54.132896",
     "exception": false,
     "start_time": "2023-02-17T12:22:54.105547",
     "status": "completed"
    },
    "tags": []
   },
   "source": [
    "## Artworks"
   ]
  },
  {
   "cell_type": "code",
   "execution_count": null,
   "id": "165a30bd-3770-40e5-9ec2-0577fb6787cf",
   "metadata": {
    "papermill": {
     "duration": 0.036228,
     "end_time": "2023-02-17T12:22:54.194674",
     "exception": false,
     "start_time": "2023-02-17T12:22:54.158446",
     "status": "completed"
    },
    "tags": []
   },
   "outputs": [],
   "source": [
    "rush_df['Artwork'].nunique()"
   ]
  },
  {
   "cell_type": "code",
   "execution_count": null,
   "id": "e6001823-e944-4e1e-aa4e-6e548106c7de",
   "metadata": {
    "papermill": {
     "duration": 0.042966,
     "end_time": "2023-02-17T12:22:54.263837",
     "exception": false,
     "start_time": "2023-02-17T12:22:54.220871",
     "status": "completed"
    },
    "tags": []
   },
   "outputs": [],
   "source": [
    "rush_df['Artwork'].value_counts()"
   ]
  },
  {
   "cell_type": "markdown",
   "id": "43cddd33-ab89-4a6f-bd26-5a8153ddb6e7",
   "metadata": {
    "papermill": {
     "duration": 0.026085,
     "end_time": "2023-02-17T12:22:54.315800",
     "exception": false,
     "start_time": "2023-02-17T12:22:54.289715",
     "status": "completed"
    },
    "tags": []
   },
   "source": [
    "## Property"
   ]
  },
  {
   "cell_type": "code",
   "execution_count": null,
   "id": "ea8d219f-57c3-4b51-89ff-e02879505cae",
   "metadata": {
    "papermill": {
     "duration": 0.038651,
     "end_time": "2023-02-17T12:22:54.380592",
     "exception": false,
     "start_time": "2023-02-17T12:22:54.341941",
     "status": "completed"
    },
    "tags": []
   },
   "outputs": [],
   "source": [
    "rush_df['Property'].nunique()"
   ]
  },
  {
   "cell_type": "code",
   "execution_count": null,
   "id": "b254eced-bc75-4d93-8507-c1b9ed1effe7",
   "metadata": {
    "papermill": {
     "duration": 0.039552,
     "end_time": "2023-02-17T12:22:54.447179",
     "exception": false,
     "start_time": "2023-02-17T12:22:54.407627",
     "status": "completed"
    },
    "tags": []
   },
   "outputs": [],
   "source": [
    "rush_df['Property'].value_counts()"
   ]
  },
  {
   "cell_type": "markdown",
   "id": "0d885c37-1f07-44af-9c60-2d0b5be3d1c1",
   "metadata": {
    "papermill": {
     "duration": 0.026793,
     "end_time": "2023-02-17T12:22:54.500269",
     "exception": false,
     "start_time": "2023-02-17T12:22:54.473476",
     "status": "completed"
    },
    "tags": []
   },
   "source": [
    "# Epilogue"
   ]
  },
  {
   "cell_type": "code",
   "execution_count": null,
   "id": "8ba1a4e5-c217-4503-871a-c29e6d6d325d",
   "metadata": {
    "papermill": {
     "duration": 0.036978,
     "end_time": "2023-02-17T12:22:54.563470",
     "exception": false,
     "start_time": "2023-02-17T12:22:54.526492",
     "status": "completed"
    },
    "tags": []
   },
   "outputs": [],
   "source": [
    "footer()"
   ]
  },
  {
   "cell_type": "markdown",
   "id": "e9d01a2d-b954-4e6e-ba2c-d30cbbf5670e",
   "metadata": {
    "papermill": {
     "duration": 0.025982,
     "end_time": "2023-02-17T12:22:54.616109",
     "exception": false,
     "start_time": "2023-02-17T12:22:54.590127",
     "status": "completed"
    },
    "tags": []
   },
   "source": [
    "## HTML export"
   ]
  },
  {
   "cell_type": "code",
   "execution_count": null,
   "id": "3c939c45-1e4c-444a-93c9-d39c797c4946",
   "metadata": {
    "papermill": {
     "duration": 0.042402,
     "end_time": "2023-02-17T12:22:54.684885",
     "exception": false,
     "start_time": "2023-02-17T12:22:54.642483",
     "status": "completed"
    },
    "tags": []
   },
   "outputs": [],
   "source": [
    "# Save notebook on disck before generating HTML report\n",
    "save_notebook()"
   ]
  },
  {
   "cell_type": "code",
   "execution_count": null,
   "id": "7c071232-e7a7-4130-ab05-6331289df6f0",
   "metadata": {
    "papermill": {
     "duration": 2.742804,
     "end_time": "2023-02-17T12:22:57.454375",
     "exception": false,
     "start_time": "2023-02-17T12:22:54.711571",
     "status": "completed"
    },
    "tags": []
   },
   "outputs": [],
   "source": [
    "! jupyter nbconvert Rush.ipynb --output-dir='../' --to=HTML --TagRemovePreprocessor.enabled=True --TagRemovePreprocessor.remove_cell_tags='exclude' --TemplateExporter.exclude_input=True --TemplateExporter.exclude_input_prompt=True --TemplateExporter.exclude_output_prompt=True"
   ]
  },
  {
   "cell_type": "markdown",
   "id": "ca83b780-5172-40c2-a0de-ed7b5abc8dc1",
   "metadata": {
    "papermill": {
     "duration": 0.027598,
     "end_time": "2023-02-17T12:22:57.518645",
     "exception": false,
     "start_time": "2023-02-17T12:22:57.491047",
     "status": "completed"
    },
    "tags": [
     "exclude"
    ]
   },
   "source": [
    "## Git"
   ]
  },
  {
   "cell_type": "code",
   "execution_count": null,
   "id": "8706d855-ab53-49a9-9a7c-9a664a53e5a3",
   "metadata": {
    "papermill": {
     "duration": 0.459745,
     "end_time": "2023-02-17T12:22:58.005678",
     "exception": false,
     "start_time": "2023-02-17T12:22:57.545933",
     "status": "completed"
    },
    "tags": [
     "exclude"
    ]
   },
   "outputs": [],
   "source": [
    "! git add \"../*[Rr]ush*\""
   ]
  },
  {
   "cell_type": "code",
   "execution_count": null,
   "id": "1ef305d7-78a7-4649-920c-c0ca471ad3f8",
   "metadata": {
    "papermill": {
     "duration": 0.50006,
     "end_time": "2023-02-17T12:22:58.532978",
     "exception": false,
     "start_time": "2023-02-17T12:22:58.032918",
     "status": "completed"
    },
    "tags": [
     "exclude"
    ]
   },
   "outputs": [],
   "source": [
    "! git commit -m {\"'Rush duel update-\" + timestamp.isoformat() + \"'\"}"
   ]
  }
 ],
 "metadata": {
  "kernelspec": {
   "display_name": "Python 3 (ipykernel)",
   "language": "python",
   "name": "python3"
  },
  "language_info": {
   "codemirror_mode": {
    "name": "ipython",
    "version": 3
   },
   "file_extension": ".py",
   "mimetype": "text/x-python",
   "name": "python",
   "nbconvert_exporter": "python",
   "pygments_lexer": "ipython3",
   "version": "3.10.8"
  },
  "papermill": {
   "default_parameters": {},
   "duration": 36.984299,
   "end_time": "2023-02-17T12:22:59.385544",
   "environment_variables": {},
   "exception": null,
   "input_path": "Rush.ipynb",
   "output_path": "Rush.ipynb",
   "parameters": {},
   "start_time": "2023-02-17T12:22:22.401245",
   "version": "2.4.0"
  }
 },
 "nbformat": 4,
 "nbformat_minor": 5
}
