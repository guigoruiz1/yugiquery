{
 "cells": [
  {
   "cell_type": "code",
   "execution_count": 1,
   "id": "db3fea09-dd17-4d4f-9751-4db442584d19",
   "metadata": {
    "execution": {
     "iopub.execute_input": "2023-02-12T00:07:20.563219Z",
     "iopub.status.busy": "2023-02-12T00:07:20.562475Z",
     "iopub.status.idle": "2023-02-12T00:07:35.943363Z",
     "shell.execute_reply": "2023-02-12T00:07:35.942391Z"
    },
    "papermill": {
     "duration": 15.390803,
     "end_time": "2023-02-12T00:07:35.947328",
     "exception": false,
     "start_time": "2023-02-12T00:07:20.556525",
     "status": "completed"
    },
    "tags": []
   },
   "outputs": [
    {
     "data": {
      "text/markdown": [
       "<div align='center'>\n",
       "    <br>\n",
       "    <!-- Pre Style needed to fix HTML formatting -->\n",
       "    <pre style=\"line-height: var(--jp-code-line-height); font-family: var(--jp-code-font-family)\">\n",
       "    ██    ██ ██    ██  ██████  ██  ██████  ██    ██ ███████ ██████  ██    ██ \n",
       "     ██  ██  ██    ██ ██       ██ ██    ██ ██    ██ ██      ██   ██  ██  ██  \n",
       "      ████   ██    ██ ██   ███ ██ ██    ██ ██    ██ █████   ██████    ████   \n",
       "       ██    ██    ██ ██    ██ ██ ██ ▄▄ ██ ██    ██ ██      ██   ██    ██    \n",
       "       ██     ██████   ██████  ██  ██████   ██████  ███████ ██   ██    ██    \n",
       "                                      ▀▀                                     \n",
       "    </pre>\n",
       "</div>\n",
       "<div align='right'>\n",
       "    Rush Duel - Execution started 12/02/2023 00:07 UTC <br>\n",
       "    By <b>Guilherme Ruiz</b>\n",
       "</div>"
      ],
      "text/plain": [
       "<IPython.core.display.Markdown object>"
      ]
     },
     "execution_count": 1,
     "metadata": {},
     "output_type": "execute_result"
    }
   ],
   "source": [
    "from yugiquery import *\n",
    "header('Rush Duel')"
   ]
  },
  {
   "cell_type": "markdown",
   "id": "f26c89c2-c447-43a2-997b-603775191de3",
   "metadata": {
    "papermill": {
     "duration": 0.118417,
     "end_time": "2023-02-12T00:07:36.076602",
     "exception": false,
     "start_time": "2023-02-12T00:07:35.958185",
     "status": "completed"
    },
    "tags": []
   },
   "source": [
    "---"
   ]
  },
  {
   "cell_type": "code",
   "execution_count": 2,
   "id": "4cf61b44-a485-4af9-9465-b4eb2431a730",
   "metadata": {
    "execution": {
     "iopub.execute_input": "2023-02-12T00:07:36.366625Z",
     "iopub.status.busy": "2023-02-12T00:07:36.366015Z",
     "iopub.status.idle": "2023-02-12T00:08:16.006223Z",
     "shell.execute_reply": "2023-02-12T00:08:16.005071Z"
    },
    "papermill": {
     "duration": 39.828757,
     "end_time": "2023-02-12T00:08:16.008549",
     "exception": false,
     "start_time": "2023-02-12T00:07:36.179792",
     "status": "completed"
    },
    "tags": []
   },
   "outputs": [
    {
     "name": "stdout",
     "output_type": "stream",
     "text": [
      "Downloading Rush Duel cards\n"
     ]
    },
    {
     "name": "stdout",
     "output_type": "stream",
     "text": [
      "1770 results\n",
      "\n"
     ]
    }
   ],
   "source": [
    "rush_df = fetch_rush()"
   ]
  },
  {
   "cell_type": "code",
   "execution_count": 3,
   "id": "5c7bf9e7-a47a-4df3-83e9-26551ea97b06",
   "metadata": {
    "execution": {
     "iopub.execute_input": "2023-02-12T00:08:16.062137Z",
     "iopub.status.busy": "2023-02-12T00:08:16.061574Z",
     "iopub.status.idle": "2023-02-12T00:08:16.142935Z",
     "shell.execute_reply": "2023-02-12T00:08:16.141403Z"
    },
    "papermill": {
     "duration": 0.090279,
     "end_time": "2023-02-12T00:08:16.146086",
     "exception": false,
     "start_time": "2023-02-12T00:08:16.055807",
     "status": "completed"
    },
    "tags": []
   },
   "outputs": [
    {
     "data": {
      "text/html": [
       "<div>\n",
       "<style scoped>\n",
       "    .dataframe tbody tr th:only-of-type {\n",
       "        vertical-align: middle;\n",
       "    }\n",
       "\n",
       "    .dataframe tbody tr th {\n",
       "        vertical-align: top;\n",
       "    }\n",
       "\n",
       "    .dataframe thead th {\n",
       "        text-align: right;\n",
       "    }\n",
       "</style>\n",
       "<table border=\"1\" class=\"dataframe\">\n",
       "  <thead>\n",
       "    <tr style=\"text-align: right;\">\n",
       "      <th></th>\n",
       "      <th>Name</th>\n",
       "      <th>Password</th>\n",
       "      <th>Card type</th>\n",
       "      <th>Property</th>\n",
       "      <th>Primary type</th>\n",
       "      <th>Secondary type</th>\n",
       "      <th>Attribute</th>\n",
       "      <th>Monster type</th>\n",
       "      <th>Level/Rank</th>\n",
       "      <th>ATK</th>\n",
       "      <th>DEF</th>\n",
       "      <th>Pendulum Scale</th>\n",
       "      <th>Link</th>\n",
       "      <th>Link Arrows</th>\n",
       "      <th>Effect type</th>\n",
       "      <th>Archseries</th>\n",
       "      <th>TCG status</th>\n",
       "      <th>OCG status</th>\n",
       "      <th>Artwork</th>\n",
       "      <th>Page name</th>\n",
       "      <th>Page URL</th>\n",
       "      <th>Modification date</th>\n",
       "    </tr>\n",
       "  </thead>\n",
       "  <tbody>\n",
       "    <tr>\n",
       "      <th>0</th>\n",
       "      <td>1-Up</td>\n",
       "      <td>NaN</td>\n",
       "      <td>Trap Card</td>\n",
       "      <td>Normal Trap Card</td>\n",
       "      <td>NaN</td>\n",
       "      <td>NaN</td>\n",
       "      <td>NaN</td>\n",
       "      <td>NaN</td>\n",
       "      <td>NaN</td>\n",
       "      <td>NaN</td>\n",
       "      <td>NaN</td>\n",
       "      <td>NaN</td>\n",
       "      <td>NaN</td>\n",
       "      <td>NaN</td>\n",
       "      <td>(Effect,)</td>\n",
       "      <td>NaN</td>\n",
       "      <td>NaN</td>\n",
       "      <td>NaN</td>\n",
       "      <td>NaN</td>\n",
       "      <td>1-Up</td>\n",
       "      <td>https://yugipedia.com/wiki/1-Up</td>\n",
       "      <td>2022-09-18 19:47:54</td>\n",
       "    </tr>\n",
       "    <tr>\n",
       "      <th>1</th>\n",
       "      <td>1/Infinity</td>\n",
       "      <td>NaN</td>\n",
       "      <td>Spell Card</td>\n",
       "      <td>Normal Spell Card</td>\n",
       "      <td>NaN</td>\n",
       "      <td>NaN</td>\n",
       "      <td>NaN</td>\n",
       "      <td>NaN</td>\n",
       "      <td>NaN</td>\n",
       "      <td>NaN</td>\n",
       "      <td>NaN</td>\n",
       "      <td>NaN</td>\n",
       "      <td>NaN</td>\n",
       "      <td>NaN</td>\n",
       "      <td>NaN</td>\n",
       "      <td>NaN</td>\n",
       "      <td>NaN</td>\n",
       "      <td>NaN</td>\n",
       "      <td>NaN</td>\n",
       "      <td>1/Infinity</td>\n",
       "      <td>https://yugipedia.com/wiki/1/Infinity</td>\n",
       "      <td>2021-12-19 01:15:37</td>\n",
       "    </tr>\n",
       "    <tr>\n",
       "      <th>2</th>\n",
       "      <td>1seg Wurm</td>\n",
       "      <td>NaN</td>\n",
       "      <td>Monster Card</td>\n",
       "      <td>NaN</td>\n",
       "      <td>Effect Monster</td>\n",
       "      <td>NaN</td>\n",
       "      <td>LIGHT</td>\n",
       "      <td>Dragon</td>\n",
       "      <td>1</td>\n",
       "      <td>700</td>\n",
       "      <td>1100</td>\n",
       "      <td>NaN</td>\n",
       "      <td>NaN</td>\n",
       "      <td>NaN</td>\n",
       "      <td>NaN</td>\n",
       "      <td>(High Tech Dragon,)</td>\n",
       "      <td>NaN</td>\n",
       "      <td>NaN</td>\n",
       "      <td>NaN</td>\n",
       "      <td>1seg Wurm</td>\n",
       "      <td>https://yugipedia.com/wiki/1seg_Wurm</td>\n",
       "      <td>2023-01-22 00:40:17</td>\n",
       "    </tr>\n",
       "    <tr>\n",
       "      <th>3</th>\n",
       "      <td>300 Light-Year Red Cloak</td>\n",
       "      <td>NaN</td>\n",
       "      <td>Spell Card</td>\n",
       "      <td>Normal Spell Card</td>\n",
       "      <td>NaN</td>\n",
       "      <td>NaN</td>\n",
       "      <td>NaN</td>\n",
       "      <td>NaN</td>\n",
       "      <td>NaN</td>\n",
       "      <td>NaN</td>\n",
       "      <td>NaN</td>\n",
       "      <td>NaN</td>\n",
       "      <td>NaN</td>\n",
       "      <td>NaN</td>\n",
       "      <td>(Effect,)</td>\n",
       "      <td>(Cosmic Urban Legend,)</td>\n",
       "      <td>NaN</td>\n",
       "      <td>NaN</td>\n",
       "      <td>NaN</td>\n",
       "      <td>300 Light-Year Red Cloak</td>\n",
       "      <td>https://yugipedia.com/wiki/300_Light-Year_Red_...</td>\n",
       "      <td>2022-11-17 12:07:53</td>\n",
       "    </tr>\n",
       "    <tr>\n",
       "      <th>4</th>\n",
       "      <td>7 Chance</td>\n",
       "      <td>NaN</td>\n",
       "      <td>Trap Card</td>\n",
       "      <td>Normal Trap Card</td>\n",
       "      <td>NaN</td>\n",
       "      <td>NaN</td>\n",
       "      <td>NaN</td>\n",
       "      <td>NaN</td>\n",
       "      <td>NaN</td>\n",
       "      <td>NaN</td>\n",
       "      <td>NaN</td>\n",
       "      <td>NaN</td>\n",
       "      <td>NaN</td>\n",
       "      <td>NaN</td>\n",
       "      <td>(Effect,)</td>\n",
       "      <td>NaN</td>\n",
       "      <td>NaN</td>\n",
       "      <td>NaN</td>\n",
       "      <td>NaN</td>\n",
       "      <td>7 Chance</td>\n",
       "      <td>https://yugipedia.com/wiki/7_Chance</td>\n",
       "      <td>2022-12-10 20:50:09</td>\n",
       "    </tr>\n",
       "    <tr>\n",
       "      <th>...</th>\n",
       "      <td>...</td>\n",
       "      <td>...</td>\n",
       "      <td>...</td>\n",
       "      <td>...</td>\n",
       "      <td>...</td>\n",
       "      <td>...</td>\n",
       "      <td>...</td>\n",
       "      <td>...</td>\n",
       "      <td>...</td>\n",
       "      <td>...</td>\n",
       "      <td>...</td>\n",
       "      <td>...</td>\n",
       "      <td>...</td>\n",
       "      <td>...</td>\n",
       "      <td>...</td>\n",
       "      <td>...</td>\n",
       "      <td>...</td>\n",
       "      <td>...</td>\n",
       "      <td>...</td>\n",
       "      <td>...</td>\n",
       "      <td>...</td>\n",
       "      <td>...</td>\n",
       "    </tr>\n",
       "    <tr>\n",
       "      <th>1765</th>\n",
       "      <td>Zero Drake</td>\n",
       "      <td>NaN</td>\n",
       "      <td>Monster Card</td>\n",
       "      <td>NaN</td>\n",
       "      <td>Normal Monster</td>\n",
       "      <td>NaN</td>\n",
       "      <td>WATER</td>\n",
       "      <td>Dragon</td>\n",
       "      <td>1</td>\n",
       "      <td>0</td>\n",
       "      <td>1500</td>\n",
       "      <td>NaN</td>\n",
       "      <td>NaN</td>\n",
       "      <td>NaN</td>\n",
       "      <td>NaN</td>\n",
       "      <td>NaN</td>\n",
       "      <td>NaN</td>\n",
       "      <td>NaN</td>\n",
       "      <td>NaN</td>\n",
       "      <td>Zero Drake</td>\n",
       "      <td>https://yugipedia.com/wiki/Zero_Drake</td>\n",
       "      <td>2023-02-05 22:13:12</td>\n",
       "    </tr>\n",
       "    <tr>\n",
       "      <th>1766</th>\n",
       "      <td>Zero-Sum Game</td>\n",
       "      <td>NaN</td>\n",
       "      <td>Spell Card</td>\n",
       "      <td>Normal Spell Card</td>\n",
       "      <td>NaN</td>\n",
       "      <td>NaN</td>\n",
       "      <td>NaN</td>\n",
       "      <td>NaN</td>\n",
       "      <td>NaN</td>\n",
       "      <td>NaN</td>\n",
       "      <td>NaN</td>\n",
       "      <td>NaN</td>\n",
       "      <td>NaN</td>\n",
       "      <td>NaN</td>\n",
       "      <td>NaN</td>\n",
       "      <td>NaN</td>\n",
       "      <td>NaN</td>\n",
       "      <td>NaN</td>\n",
       "      <td>NaN</td>\n",
       "      <td>Zero-Sum Game</td>\n",
       "      <td>https://yugipedia.com/wiki/Zero-Sum_Game</td>\n",
       "      <td>2023-02-03 00:56:44</td>\n",
       "    </tr>\n",
       "    <tr>\n",
       "      <th>1767</th>\n",
       "      <td>Zombie Carnival</td>\n",
       "      <td>NaN</td>\n",
       "      <td>Spell Card</td>\n",
       "      <td>Field Spell Card</td>\n",
       "      <td>NaN</td>\n",
       "      <td>NaN</td>\n",
       "      <td>NaN</td>\n",
       "      <td>NaN</td>\n",
       "      <td>NaN</td>\n",
       "      <td>NaN</td>\n",
       "      <td>NaN</td>\n",
       "      <td>NaN</td>\n",
       "      <td>NaN</td>\n",
       "      <td>NaN</td>\n",
       "      <td>(Effect,)</td>\n",
       "      <td>NaN</td>\n",
       "      <td>NaN</td>\n",
       "      <td>NaN</td>\n",
       "      <td>NaN</td>\n",
       "      <td>Zombie Carnival</td>\n",
       "      <td>https://yugipedia.com/wiki/Zombie_Carnival</td>\n",
       "      <td>2023-01-05 23:00:01</td>\n",
       "    </tr>\n",
       "    <tr>\n",
       "      <th>1768</th>\n",
       "      <td>Zombie Fireworks</td>\n",
       "      <td>NaN</td>\n",
       "      <td>Spell Card</td>\n",
       "      <td>Normal Spell Card</td>\n",
       "      <td>NaN</td>\n",
       "      <td>NaN</td>\n",
       "      <td>NaN</td>\n",
       "      <td>NaN</td>\n",
       "      <td>NaN</td>\n",
       "      <td>NaN</td>\n",
       "      <td>NaN</td>\n",
       "      <td>NaN</td>\n",
       "      <td>NaN</td>\n",
       "      <td>NaN</td>\n",
       "      <td>(Effect,)</td>\n",
       "      <td>NaN</td>\n",
       "      <td>NaN</td>\n",
       "      <td>NaN</td>\n",
       "      <td>NaN</td>\n",
       "      <td>Zombie Fireworks</td>\n",
       "      <td>https://yugipedia.com/wiki/Zombie_Fireworks</td>\n",
       "      <td>2022-10-20 06:57:57</td>\n",
       "    </tr>\n",
       "    <tr>\n",
       "      <th>1769</th>\n",
       "      <td>Zubaba Batter</td>\n",
       "      <td>NaN</td>\n",
       "      <td>Monster Card</td>\n",
       "      <td>NaN</td>\n",
       "      <td>Normal Monster</td>\n",
       "      <td>NaN</td>\n",
       "      <td>FIRE</td>\n",
       "      <td>Warrior</td>\n",
       "      <td>4</td>\n",
       "      <td>1500</td>\n",
       "      <td>400</td>\n",
       "      <td>NaN</td>\n",
       "      <td>NaN</td>\n",
       "      <td>NaN</td>\n",
       "      <td>NaN</td>\n",
       "      <td>(Baseball,)</td>\n",
       "      <td>NaN</td>\n",
       "      <td>NaN</td>\n",
       "      <td>NaN</td>\n",
       "      <td>Zubaba Batter</td>\n",
       "      <td>https://yugipedia.com/wiki/Zubaba_Batter</td>\n",
       "      <td>2022-12-10 20:57:10</td>\n",
       "    </tr>\n",
       "  </tbody>\n",
       "</table>\n",
       "<p>1770 rows × 22 columns</p>\n",
       "</div>"
      ],
      "text/plain": [
       "                          Name  Password     Card type           Property  \\\n",
       "0                         1-Up       NaN     Trap Card   Normal Trap Card   \n",
       "1                   1/Infinity       NaN    Spell Card  Normal Spell Card   \n",
       "2                    1seg Wurm       NaN  Monster Card                NaN   \n",
       "3     300 Light-Year Red Cloak       NaN    Spell Card  Normal Spell Card   \n",
       "4                     7 Chance       NaN     Trap Card   Normal Trap Card   \n",
       "...                        ...       ...           ...                ...   \n",
       "1765                Zero Drake       NaN  Monster Card                NaN   \n",
       "1766             Zero-Sum Game       NaN    Spell Card  Normal Spell Card   \n",
       "1767           Zombie Carnival       NaN    Spell Card   Field Spell Card   \n",
       "1768          Zombie Fireworks       NaN    Spell Card  Normal Spell Card   \n",
       "1769             Zubaba Batter       NaN  Monster Card                NaN   \n",
       "\n",
       "        Primary type  Secondary type Attribute Monster type Level/Rank   ATK  \\\n",
       "0                NaN             NaN       NaN          NaN        NaN   NaN   \n",
       "1                NaN             NaN       NaN          NaN        NaN   NaN   \n",
       "2     Effect Monster             NaN     LIGHT       Dragon          1   700   \n",
       "3                NaN             NaN       NaN          NaN        NaN   NaN   \n",
       "4                NaN             NaN       NaN          NaN        NaN   NaN   \n",
       "...              ...             ...       ...          ...        ...   ...   \n",
       "1765  Normal Monster             NaN     WATER       Dragon          1     0   \n",
       "1766             NaN             NaN       NaN          NaN        NaN   NaN   \n",
       "1767             NaN             NaN       NaN          NaN        NaN   NaN   \n",
       "1768             NaN             NaN       NaN          NaN        NaN   NaN   \n",
       "1769  Normal Monster             NaN      FIRE      Warrior          4  1500   \n",
       "\n",
       "       DEF  Pendulum Scale  Link  Link Arrows Effect type  \\\n",
       "0      NaN             NaN   NaN          NaN   (Effect,)   \n",
       "1      NaN             NaN   NaN          NaN         NaN   \n",
       "2     1100             NaN   NaN          NaN         NaN   \n",
       "3      NaN             NaN   NaN          NaN   (Effect,)   \n",
       "4      NaN             NaN   NaN          NaN   (Effect,)   \n",
       "...    ...             ...   ...          ...         ...   \n",
       "1765  1500             NaN   NaN          NaN         NaN   \n",
       "1766   NaN             NaN   NaN          NaN         NaN   \n",
       "1767   NaN             NaN   NaN          NaN   (Effect,)   \n",
       "1768   NaN             NaN   NaN          NaN   (Effect,)   \n",
       "1769   400             NaN   NaN          NaN         NaN   \n",
       "\n",
       "                  Archseries  TCG status  OCG status  Artwork  \\\n",
       "0                        NaN         NaN         NaN      NaN   \n",
       "1                        NaN         NaN         NaN      NaN   \n",
       "2        (High Tech Dragon,)         NaN         NaN      NaN   \n",
       "3     (Cosmic Urban Legend,)         NaN         NaN      NaN   \n",
       "4                        NaN         NaN         NaN      NaN   \n",
       "...                      ...         ...         ...      ...   \n",
       "1765                     NaN         NaN         NaN      NaN   \n",
       "1766                     NaN         NaN         NaN      NaN   \n",
       "1767                     NaN         NaN         NaN      NaN   \n",
       "1768                     NaN         NaN         NaN      NaN   \n",
       "1769             (Baseball,)         NaN         NaN      NaN   \n",
       "\n",
       "                     Page name  \\\n",
       "0                         1-Up   \n",
       "1                   1/Infinity   \n",
       "2                    1seg Wurm   \n",
       "3     300 Light-Year Red Cloak   \n",
       "4                     7 Chance   \n",
       "...                        ...   \n",
       "1765                Zero Drake   \n",
       "1766             Zero-Sum Game   \n",
       "1767           Zombie Carnival   \n",
       "1768          Zombie Fireworks   \n",
       "1769             Zubaba Batter   \n",
       "\n",
       "                                               Page URL   Modification date  \n",
       "0                       https://yugipedia.com/wiki/1-Up 2022-09-18 19:47:54  \n",
       "1                 https://yugipedia.com/wiki/1/Infinity 2021-12-19 01:15:37  \n",
       "2                  https://yugipedia.com/wiki/1seg_Wurm 2023-01-22 00:40:17  \n",
       "3     https://yugipedia.com/wiki/300_Light-Year_Red_... 2022-11-17 12:07:53  \n",
       "4                   https://yugipedia.com/wiki/7_Chance 2022-12-10 20:50:09  \n",
       "...                                                 ...                 ...  \n",
       "1765              https://yugipedia.com/wiki/Zero_Drake 2023-02-05 22:13:12  \n",
       "1766           https://yugipedia.com/wiki/Zero-Sum_Game 2023-02-03 00:56:44  \n",
       "1767         https://yugipedia.com/wiki/Zombie_Carnival 2023-01-05 23:00:01  \n",
       "1768        https://yugipedia.com/wiki/Zombie_Fireworks 2022-10-20 06:57:57  \n",
       "1769           https://yugipedia.com/wiki/Zubaba_Batter 2022-12-10 20:57:10  \n",
       "\n",
       "[1770 rows x 22 columns]"
      ]
     },
     "execution_count": 3,
     "metadata": {},
     "output_type": "execute_result"
    }
   ],
   "source": [
    "rush_df"
   ]
  },
  {
   "cell_type": "code",
   "execution_count": 4,
   "id": "20534761-da7b-478a-a7cb-b8cdd434f77e",
   "metadata": {
    "execution": {
     "iopub.execute_input": "2023-02-12T00:08:16.159515Z",
     "iopub.status.busy": "2023-02-12T00:08:16.159083Z",
     "iopub.status.idle": "2023-02-12T00:08:16.166526Z",
     "shell.execute_reply": "2023-02-12T00:08:16.165617Z"
    },
    "papermill": {
     "duration": 0.018199,
     "end_time": "2023-02-12T00:08:16.169352",
     "exception": false,
     "start_time": "2023-02-12T00:08:16.151153",
     "status": "completed"
    },
    "tags": []
   },
   "outputs": [
    {
     "data": {
      "text/markdown": [
       "<div align='right'>\n",
       "    Execution completed 12/02/2023 00:08 UTC\n",
       "</div>"
      ],
      "text/plain": [
       "<IPython.core.display.Markdown object>"
      ]
     },
     "execution_count": 4,
     "metadata": {},
     "output_type": "execute_result"
    }
   ],
   "source": [
    "footer()"
   ]
  },
  {
   "cell_type": "markdown",
   "id": "e9d01a2d-b954-4e6e-ba2c-d30cbbf5670e",
   "metadata": {
    "papermill": {
     "duration": 0.015625,
     "end_time": "2023-02-12T00:08:16.209655",
     "exception": false,
     "start_time": "2023-02-12T00:08:16.194030",
     "status": "completed"
    },
    "tags": []
   },
   "source": [
    "## HTML export"
   ]
  },
  {
   "cell_type": "code",
   "execution_count": 5,
   "id": "3c939c45-1e4c-444a-93c9-d39c797c4946",
   "metadata": {
    "execution": {
     "iopub.execute_input": "2023-02-12T00:08:16.355506Z",
     "iopub.status.busy": "2023-02-12T00:08:16.354915Z",
     "iopub.status.idle": "2023-02-12T00:08:16.368907Z",
     "shell.execute_reply": "2023-02-12T00:08:16.368006Z"
    },
    "papermill": {
     "duration": 0.09296,
     "end_time": "2023-02-12T00:08:16.372444",
     "exception": false,
     "start_time": "2023-02-12T00:08:16.279484",
     "status": "completed"
    },
    "tags": []
   },
   "outputs": [
    {
     "name": "stdout",
     "output_type": "stream",
     "text": [
      "Notebook saved to disk\n"
     ]
    }
   ],
   "source": [
    "# Save notebook on disck before generating HTML report\n",
    "save_notebook()"
   ]
  },
  {
   "cell_type": "code",
   "execution_count": 6,
   "id": "7c071232-e7a7-4130-ab05-6331289df6f0",
   "metadata": {
    "execution": {
     "iopub.execute_input": "2023-02-12T00:08:16.387725Z",
     "iopub.status.busy": "2023-02-12T00:08:16.387109Z",
     "iopub.status.idle": "2023-02-12T00:08:21.368148Z",
     "shell.execute_reply": "2023-02-12T00:08:21.366326Z"
    },
    "papermill": {
     "duration": 4.996567,
     "end_time": "2023-02-12T00:08:21.376646",
     "exception": false,
     "start_time": "2023-02-12T00:08:16.380079",
     "status": "completed"
    },
    "tags": []
   },
   "outputs": [
    {
     "name": "stdout",
     "output_type": "stream",
     "text": [
      "WARNING: Insecure writes have been enabled via environment variable 'JUPYTER_ALLOW_INSECURE_WRITES'! If this is not intended, remove the variable or set its value to 'False'.\r\n"
     ]
    },
    {
     "name": "stdout",
     "output_type": "stream",
     "text": [
      "[NbConvertApp] Converting notebook Rush.ipynb to HTML\r\n"
     ]
    },
    {
     "name": "stdout",
     "output_type": "stream",
     "text": [
      "[NbConvertApp] Writing 585018 bytes to ../Rush.html\r\n"
     ]
    }
   ],
   "source": [
    "! jupyter nbconvert Rush.ipynb --output-dir='../' --to=HTML --TagRemovePreprocessor.enabled=True --TagRemovePreprocessor.remove_cell_tags='exclude' --TemplateExporter.exclude_input=True --TemplateExporter.exclude_input_prompt=True --TemplateExporter.exclude_output_prompt=True"
   ]
  },
  {
   "cell_type": "markdown",
   "id": "ca83b780-5172-40c2-a0de-ed7b5abc8dc1",
   "metadata": {
    "papermill": {
     "duration": 0.192721,
     "end_time": "2023-02-12T00:08:21.584019",
     "exception": false,
     "start_time": "2023-02-12T00:08:21.391298",
     "status": "completed"
    },
    "tags": [
     "exclude"
    ]
   },
   "source": [
    "## Git"
   ]
  },
  {
   "cell_type": "code",
   "execution_count": null,
   "id": "8706d855-ab53-49a9-9a7c-9a664a53e5a3",
   "metadata": {
    "papermill": {
     "duration": null,
     "end_time": null,
     "exception": false,
     "start_time": "2023-02-12T00:08:21.600038",
     "status": "running"
    },
    "tags": [
     "exclude"
    ]
   },
   "outputs": [],
   "source": [
    "! git add \"../*[Rr]ush*\""
   ]
  },
  {
   "cell_type": "code",
   "execution_count": null,
   "id": "1ef305d7-78a7-4649-920c-c0ca471ad3f8",
   "metadata": {
    "papermill": {
     "duration": null,
     "end_time": null,
     "exception": null,
     "start_time": null,
     "status": "pending"
    },
    "tags": [
     "exclude"
    ]
   },
   "outputs": [],
   "source": [
    "! git commit -m {\"'Rush duel update-\" + timestamp.isoformat() + \"'\"}"
   ]
  }
 ],
 "metadata": {
  "kernelspec": {
   "display_name": "Python 3 (ipykernel)",
   "language": "python",
   "name": "python3"
  },
  "language_info": {
   "codemirror_mode": {
    "name": "ipython",
    "version": 3
   },
   "file_extension": ".py",
   "mimetype": "text/x-python",
   "name": "python",
   "nbconvert_exporter": "python",
   "pygments_lexer": "ipython3",
   "version": "3.10.8"
  },
  "papermill": {
   "default_parameters": {},
   "duration": null,
   "end_time": null,
   "environment_variables": {},
   "exception": null,
   "input_path": "Rush.ipynb",
   "output_path": "Rush.ipynb",
   "parameters": {},
   "start_time": "2023-02-12T00:07:13.907248",
   "version": "2.4.0"
  }
 },
 "nbformat": 4,
 "nbformat_minor": 5
}