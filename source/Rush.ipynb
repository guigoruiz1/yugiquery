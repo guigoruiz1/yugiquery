{
 "cells": [
  {
   "cell_type": "code",
   "execution_count": 1,
   "id": "db3fea09-dd17-4d4f-9751-4db442584d19",
   "metadata": {
    "papermill": {
     "duration": 2.090513,
     "end_time": "2023-02-19T18:54:30.358432",
     "exception": false,
     "start_time": "2023-02-19T18:54:28.267919",
     "status": "completed"
    },
    "tags": []
   },
   "outputs": [
    {
     "data": {
      "text/markdown": [
       "<div align='center'>\n",
       "    <br>\n",
       "    <!-- Pre Style needed to fix HTML formatting -->\n",
       "    <pre style=\"line-height: var(--jp-code-line-height); font-family: var(--jp-code-font-family)\">\n",
       "    ██    ██ ██    ██  ██████  ██  ██████  ██    ██ ███████ ██████  ██    ██ \n",
       "     ██  ██  ██    ██ ██       ██ ██    ██ ██    ██ ██      ██   ██  ██  ██  \n",
       "      ████   ██    ██ ██   ███ ██ ██    ██ ██    ██ █████   ██████    ████   \n",
       "       ██    ██    ██ ██    ██ ██ ██ ▄▄ ██ ██    ██ ██      ██   ██    ██    \n",
       "       ██     ██████   ██████  ██  ██████   ██████  ███████ ██   ██    ██    \n",
       "                                      ▀▀                                     \n",
       "    </pre>\n",
       "</div>\n",
       "<div align='right'>\n",
       "    Rush Duel - Execution started 19/02/2023 21:20 UTC <br>\n",
       "    By <b>Guilherme Ruiz</b>\n",
       "</div>"
      ],
      "text/plain": [
       "<IPython.core.display.Markdown object>"
      ]
     },
     "execution_count": 1,
     "metadata": {},
     "output_type": "execute_result"
    }
   ],
   "source": [
    "from yugiquery import *\n",
    "header('Rush Duel')"
   ]
  },
  {
   "cell_type": "markdown",
   "id": "f26c89c2-c447-43a2-997b-603775191de3",
   "metadata": {
    "papermill": {
     "duration": 0.051576,
     "end_time": "2023-02-19T18:54:30.548119",
     "exception": false,
     "start_time": "2023-02-19T18:54:30.496543",
     "status": "completed"
    },
    "tags": []
   },
   "source": [
    "---"
   ]
  },
  {
   "cell_type": "markdown",
   "id": "aef2db3f",
   "metadata": {
    "papermill": {
     "duration": 0.027691,
     "end_time": "2023-02-19T18:54:30.606509",
     "exception": false,
     "start_time": "2023-02-19T18:54:30.578818",
     "status": "completed"
    },
    "tags": []
   },
   "source": [
    "Table of Contents\n",
    "=================\n",
    "\n",
    "*   [1  Data aquisition](#Data-aquisition)\n",
    "    *   [1.1  Fetch online data](#Fetch-online-data)\n",
    "    *   [1.2  Merge data](#Merge-data)\n",
    "*   [2  Check changes](#Check-changes)\n",
    "    *   [2.1  Load previous data](#Load-previous-data)\n",
    "    *   [2.2  Generate changelog](#Generate-changelog)\n",
    "    *   [2.3  Save data](#Save-data)\n",
    "*   [3  Data visualization](#Data-visualization)\n",
    "    *   [3.1  Card type](#Card-type)\n",
    "    *   [3.2  Monsters](#Monsters)\n",
    "        *   [3.2.1  Attribute](#Attribute)\n",
    "        *   [3.2.2  Primary type](#Primary-type)\n",
    "            *   [3.2.2.1  Has effect discrimination](#Has-effect-discrimination)\n",
    "            *   [3.2.2.2  By attribute](#By-attribute)\n",
    "        *   [3.2.3  Monster type](#Monster-type)\n",
    "            *   [3.2.3.1  By Attribute](#By-Attribute)\n",
    "            *   [3.2.3.2  By primary type](#By-primary-type)\n",
    "        *   [3.2.4  Effect type](#Effect-type)\n",
    "        *   [3.2.5  ATK](#ATK)\n",
    "        *   [3.2.6  DEF](#DEF)\n",
    "        *   [3.2.7  Maximum mode](#Maximum-mode)\n",
    "            *   [3.2.7.1  MAXIMUM ATK](#MAXIMUM-ATK)\n",
    "        *   [3.2.8  Level/Rank](#Level/Rank)\n",
    "            *   [3.2.8.1  ATK statistics](#ATK-statistics)\n",
    "            *   [3.2.8.2  DEF statistics](#DEF-statistics)\n",
    "    *   [3.3  Spell & Trap](#Spell-&-Trap)\n",
    "        *   [3.3.1  Properties](#Properties)\n",
    "    *   [3.4  Archseries](#Archseries)\n",
    "        *   [3.4.1  By card type](#By-card-type)\n",
    "        *   [3.4.2  By primary type](#By-primary-type)\n",
    "        *   [3.4.3  By monster type](#By-monster-type)\n",
    "        *   [3.4.4  By property](#By-property)\n",
    "    *   [3.5  Legend](#Legend)\n",
    "        *   *   [3.5.0.1  By card type](#By-card-type)\n",
    "            *   [3.5.0.2  By Attribute](#By-Attribute)\n",
    "            *   [3.5.0.3  By primary type](#By-primary-type)\n",
    "            *   [3.5.0.4  By monster type](#By-monster-type)\n",
    "    *   [3.6  Artworks](#Artworks)\n",
    "        *   [3.6.1  By card type](#By-card-type)\n",
    "        *   [3.6.2  By primary type](#By-primary-type)\n",
    "    *   [3.7  Errata](#Errata)\n",
    "        *   [3.7.1  By card type](#By-card-type)\n",
    "        *   [3.7.2  By primary type](#By-primary-type)\n",
    "        *   [3.7.3  By artwork](#By-artwork)\n",
    "*   [4  Epilogue](#Epilogue)\n",
    "    *   [4.1  HTML export](#HTML-export)\n",
    "<!--     *   [4.2  Git](#Git) -->"
   ]
  },
  {
   "cell_type": "markdown",
   "id": "f21bcaec-0f80-4b9a-939c-c4bd159ee18b",
   "metadata": {
    "papermill": {
     "duration": 0.054756,
     "end_time": "2023-02-19T18:54:30.689900",
     "exception": false,
     "start_time": "2023-02-19T18:54:30.635144",
     "status": "completed"
    },
    "tags": []
   },
   "source": [
    "# Data aquisition"
   ]
  },
  {
   "cell_type": "markdown",
   "id": "7642e7a7-408a-47af-a6d3-8d8e6c733581",
   "metadata": {
    "papermill": {
     "duration": 0.028976,
     "end_time": "2023-02-19T18:54:30.747129",
     "exception": false,
     "start_time": "2023-02-19T18:54:30.718153",
     "status": "completed"
    },
    "tags": []
   },
   "source": [
    "## Fetch online data"
   ]
  },
  {
   "cell_type": "code",
   "execution_count": 2,
   "id": "88db0457-64ee-4b1f-a642-1488b81ecad1",
   "metadata": {
    "papermill": {
     "duration": 0.038679,
     "end_time": "2023-02-19T18:54:30.813890",
     "exception": false,
     "start_time": "2023-02-19T18:54:30.775211",
     "status": "completed"
    },
    "tags": []
   },
   "outputs": [],
   "source": [
    "# Timestamp\n",
    "timestamp = pd.Timestamp.now()"
   ]
  },
  {
   "cell_type": "code",
   "execution_count": 3,
   "id": "4cf61b44-a485-4af9-9465-b4eb2431a730",
   "metadata": {
    "papermill": {
     "duration": 65.530816,
     "end_time": "2023-02-19T18:55:36.373131",
     "exception": false,
     "start_time": "2023-02-19T18:54:30.842315",
     "status": "completed"
    },
    "tags": []
   },
   "outputs": [
    {
     "name": "stdout",
     "output_type": "stream",
     "text": [
      "Downloading Rush Duel cards\n",
      "1420 results\n",
      "\n",
      "Downloading all errata\n"
     ]
    },
    {
     "data": {
      "application/vnd.jupyter.widget-view+json": {
       "model_id": "",
       "version_major": 2,
       "version_minor": 0
      },
      "text/plain": [
       "  0%|          | 0/3 [00:00<?, ?initial/s]"
      ]
     },
     "metadata": {},
     "output_type": "display_data"
    },
    {
     "name": "stdout",
     "output_type": "stream",
     "text": [
      "4969 results\n",
      "\n"
     ]
    }
   ],
   "source": [
    "# Fetch rush cards\n",
    "rush_df = fetch_rush()\n",
    "\n",
    "# Fetch errata\n",
    "errata_df = fetch_errata()"
   ]
  },
  {
   "cell_type": "markdown",
   "id": "ee9ee76b-014b-4be4-88f7-f5206f5f53a9",
   "metadata": {
    "papermill": {
     "duration": 0.02851,
     "end_time": "2023-02-19T18:55:36.431412",
     "exception": false,
     "start_time": "2023-02-19T18:55:36.402902",
     "status": "completed"
    },
    "tags": []
   },
   "source": [
    "## Merge data"
   ]
  },
  {
   "cell_type": "code",
   "execution_count": 4,
   "id": "2d4d4c95-d88d-44d2-80f0-76e9402d8215",
   "metadata": {
    "papermill": {
     "duration": 0.046144,
     "end_time": "2023-02-19T18:55:36.505842",
     "exception": false,
     "start_time": "2023-02-19T18:55:36.459698",
     "status": "completed"
    },
    "tags": []
   },
   "outputs": [
    {
     "name": "stdout",
     "output_type": "stream",
     "text": [
      "Data merged\n"
     ]
    }
   ],
   "source": [
    "rush_df = merge_errata(rush_df, errata_df)\n",
    "print('Data merged')"
   ]
  },
  {
   "cell_type": "markdown",
   "id": "de464ac7-ef5b-49f9-8679-9883d5ec151b",
   "metadata": {
    "papermill": {
     "duration": 0.028502,
     "end_time": "2023-02-19T18:55:36.563297",
     "exception": false,
     "start_time": "2023-02-19T18:55:36.534795",
     "status": "completed"
    },
    "tags": []
   },
   "source": [
    "# Check changes"
   ]
  },
  {
   "cell_type": "markdown",
   "id": "0372e9c7-e778-4c0a-8ba4-b61cf3537eab",
   "metadata": {
    "papermill": {
     "duration": 0.028166,
     "end_time": "2023-02-19T18:55:36.619883",
     "exception": false,
     "start_time": "2023-02-19T18:55:36.591717",
     "status": "completed"
    },
    "tags": []
   },
   "source": [
    "## Load previous data"
   ]
  },
  {
   "cell_type": "code",
   "execution_count": 5,
   "id": "b4a34ba1-72d5-4b99-9f26-c2d9954c0c9f",
   "metadata": {
    "papermill": {
     "duration": 0.138352,
     "end_time": "2023-02-19T18:55:36.786548",
     "exception": false,
     "start_time": "2023-02-19T18:55:36.648196",
     "status": "completed"
    },
    "tags": []
   },
   "outputs": [
    {
     "name": "stdout",
     "output_type": "stream",
     "text": [
      "No older files\n"
     ]
    }
   ],
   "source": [
    "# Get list of files\n",
    "files_list = sorted(glob.glob('../data/all_rush_*.csv'), key=os.path.getctime, reverse=True)\n",
    "# Get second newest file if exist\n",
    "if files_list:\n",
    "    # Load csv avoiding converting \"NA\" to NaN\n",
    "    previous_df = pd.read_csv(files_list[0], dtype=object, keep_default_na=False, na_values=[''])\n",
    "    # Correct tuples\n",
    "    previous_df['Effect type'] = previous_df['Effect type'].dropna().apply(literal_eval)\n",
    "    previous_df['Archseries'] = previous_df['Archseries'].dropna().apply(literal_eval)\n",
    "    previous_df['Artwork'] = previous_df['Artwork'].dropna().apply(literal_eval)\n",
    "    previous_df['Errata'] = previous_df['Errata'].dropna().apply(literal_eval)\n",
    "    previous_df['Legend'] = previous_df['Legend'].dropna().apply(literal_eval)\n",
    "    previous_df['Maximum mode'] = previous_df['Maximum mode'].dropna().apply(literal_eval)\n",
    "    # Force dtypes to match current df\n",
    "    previous_df = previous_df.astype(rush_df[previous_df.columns.intersection(rush_df.columns)].dtypes.to_dict())\n",
    "    previous_ts = pd.to_datetime(os.path.basename(files_list[0]).split('_')[-1].rstrip('.csv'))\n",
    "    print('File loaded')\n",
    "else:\n",
    "    previous_df = None\n",
    "    print('No older files')"
   ]
  },
  {
   "cell_type": "markdown",
   "id": "509b3cf8-1402-4ded-b007-e8dd541ed558",
   "metadata": {
    "papermill": {
     "duration": 0.02814,
     "end_time": "2023-02-19T18:55:36.843073",
     "exception": false,
     "start_time": "2023-02-19T18:55:36.814933",
     "status": "completed"
    },
    "tags": []
   },
   "source": [
    "## Generate changelog"
   ]
  },
  {
   "cell_type": "code",
   "execution_count": 6,
   "id": "bc574063-ab48-4d47-9e34-e50508be8024",
   "metadata": {
    "papermill": {
     "duration": 0.083979,
     "end_time": "2023-02-19T18:55:36.955769",
     "exception": false,
     "start_time": "2023-02-19T18:55:36.871790",
     "status": "completed"
    },
    "tags": []
   },
   "outputs": [
    {
     "name": "stdout",
     "output_type": "stream",
     "text": [
      "Skipped\n"
     ]
    }
   ],
   "source": [
    "if previous_df is None:\n",
    "    changelog = None\n",
    "    print('Skipped')\n",
    "else:\n",
    "    changelog = generate_changelog(previous_df, rush_df, col = 'Name')\n",
    "    if not changelog.empty:\n",
    "        display(changelog)\n",
    "        changelog.to_csv(f'../data/rush_changelog_{timestamp.isoformat(timespec=\"minutes\")}_{previous_ts.isoformat(timespec=\"minutes\")}.csv', index = True)\n",
    "        print('Changelog saved')"
   ]
  },
  {
   "cell_type": "markdown",
   "id": "feeb2511-c891-4047-8e87-4106f7ecd222",
   "metadata": {
    "papermill": {
     "duration": 0.02859,
     "end_time": "2023-02-19T18:55:37.013097",
     "exception": false,
     "start_time": "2023-02-19T18:55:36.984507",
     "status": "completed"
    },
    "tags": []
   },
   "source": [
    "## Save data"
   ]
  },
  {
   "cell_type": "code",
   "execution_count": 7,
   "id": "7508d7a5-8398-4596-9079-64cf9ebd6e77",
   "metadata": {
    "papermill": {
     "duration": 0.039122,
     "end_time": "2023-02-19T18:55:37.081953",
     "exception": false,
     "start_time": "2023-02-19T18:55:37.042831",
     "status": "completed"
    },
    "tags": []
   },
   "outputs": [
    {
     "name": "stdout",
     "output_type": "stream",
     "text": [
      "Data saved\n"
     ]
    }
   ],
   "source": [
    "if changelog is not None and changelog.empty:\n",
    "    print('No changes. New data not saved')\n",
    "else:\n",
    "    rush_df.to_csv(f'../data/all_rush_{timestamp.isoformat(timespec=\"minutes\")}.csv', index=False)\n",
    "    print('Data saved')"
   ]
  },
  {
   "cell_type": "markdown",
   "id": "31a8ceb7-8c7f-4d88-ad6d-9450970d0be9",
   "metadata": {
    "papermill": {
     "duration": 0.0286,
     "end_time": "2023-02-19T18:55:37.139440",
     "exception": false,
     "start_time": "2023-02-19T18:55:37.110840",
     "status": "completed"
    },
    "tags": []
   },
   "source": [
    "# Data visualization"
   ]
  },
  {
   "cell_type": "code",
   "execution_count": 8,
   "id": "effa94cb-10ed-4dff-b33b-df6601744e6c",
   "metadata": {
    "papermill": {
     "duration": 0.075394,
     "end_time": "2023-02-19T18:55:37.244357",
     "exception": false,
     "start_time": "2023-02-19T18:55:37.168963",
     "status": "completed"
    },
    "tags": []
   },
   "outputs": [
    {
     "data": {
      "text/html": [
       "<div>\n",
       "<style scoped>\n",
       "    .dataframe tbody tr th:only-of-type {\n",
       "        vertical-align: middle;\n",
       "    }\n",
       "\n",
       "    .dataframe tbody tr th {\n",
       "        vertical-align: top;\n",
       "    }\n",
       "\n",
       "    .dataframe thead th {\n",
       "        text-align: right;\n",
       "    }\n",
       "</style>\n",
       "<table border=\"1\" class=\"dataframe\">\n",
       "  <thead>\n",
       "    <tr style=\"text-align: right;\">\n",
       "      <th></th>\n",
       "      <th>Name</th>\n",
       "      <th>Card type</th>\n",
       "      <th>Property</th>\n",
       "      <th>Archseries</th>\n",
       "      <th>Attribute</th>\n",
       "      <th>Primary type</th>\n",
       "      <th>Monster type</th>\n",
       "      <th>Effect type</th>\n",
       "      <th>DEF</th>\n",
       "      <th>Legend</th>\n",
       "      <th>Maximum mode</th>\n",
       "      <th>ATK</th>\n",
       "      <th>MAXIMUM ATK</th>\n",
       "      <th>Level/Rank</th>\n",
       "      <th>Page name</th>\n",
       "      <th>Page URL</th>\n",
       "      <th>Artwork</th>\n",
       "      <th>Modification date</th>\n",
       "      <th>Errata</th>\n",
       "    </tr>\n",
       "  </thead>\n",
       "  <tbody>\n",
       "    <tr>\n",
       "      <th>0</th>\n",
       "      <td>1-Up</td>\n",
       "      <td>Trap Card</td>\n",
       "      <td>Normal Trap Card</td>\n",
       "      <td>NaN</td>\n",
       "      <td>NaN</td>\n",
       "      <td>NaN</td>\n",
       "      <td>NaN</td>\n",
       "      <td>(Effect,)</td>\n",
       "      <td>NaN</td>\n",
       "      <td>False</td>\n",
       "      <td>False</td>\n",
       "      <td>NaN</td>\n",
       "      <td>NaN</td>\n",
       "      <td>NaN</td>\n",
       "      <td>1-Up</td>\n",
       "      <td>https://yugipedia.com/wiki/1-Up</td>\n",
       "      <td>NaN</td>\n",
       "      <td>2022-09-18 19:47:54</td>\n",
       "      <td>NaN</td>\n",
       "    </tr>\n",
       "    <tr>\n",
       "      <th>1</th>\n",
       "      <td>300 Light-Year Red Cloak</td>\n",
       "      <td>Spell Card</td>\n",
       "      <td>Normal Spell Card</td>\n",
       "      <td>(Cosmic Urban Legend,)</td>\n",
       "      <td>NaN</td>\n",
       "      <td>NaN</td>\n",
       "      <td>NaN</td>\n",
       "      <td>(Effect,)</td>\n",
       "      <td>NaN</td>\n",
       "      <td>False</td>\n",
       "      <td>False</td>\n",
       "      <td>NaN</td>\n",
       "      <td>NaN</td>\n",
       "      <td>NaN</td>\n",
       "      <td>300 Light-Year Red Cloak</td>\n",
       "      <td>https://yugipedia.com/wiki/300_Light-Year_Red_...</td>\n",
       "      <td>NaN</td>\n",
       "      <td>2022-11-17 12:07:53</td>\n",
       "      <td>NaN</td>\n",
       "    </tr>\n",
       "    <tr>\n",
       "      <th>2</th>\n",
       "      <td>7 Chance</td>\n",
       "      <td>Trap Card</td>\n",
       "      <td>Normal Trap Card</td>\n",
       "      <td>NaN</td>\n",
       "      <td>NaN</td>\n",
       "      <td>NaN</td>\n",
       "      <td>NaN</td>\n",
       "      <td>(Effect,)</td>\n",
       "      <td>NaN</td>\n",
       "      <td>False</td>\n",
       "      <td>False</td>\n",
       "      <td>NaN</td>\n",
       "      <td>NaN</td>\n",
       "      <td>NaN</td>\n",
       "      <td>7 Chance</td>\n",
       "      <td>https://yugipedia.com/wiki/7_Chance</td>\n",
       "      <td>NaN</td>\n",
       "      <td>2022-12-10 20:50:09</td>\n",
       "      <td>NaN</td>\n",
       "    </tr>\n",
       "    <tr>\n",
       "      <th>3</th>\n",
       "      <td>Abare Ushioni</td>\n",
       "      <td>Monster Card</td>\n",
       "      <td>NaN</td>\n",
       "      <td>NaN</td>\n",
       "      <td>EARTH</td>\n",
       "      <td>Effect Monster</td>\n",
       "      <td>Beast-Warrior</td>\n",
       "      <td>(Effect,)</td>\n",
       "      <td>1200</td>\n",
       "      <td>False</td>\n",
       "      <td>False</td>\n",
       "      <td>1200</td>\n",
       "      <td>NaN</td>\n",
       "      <td>4</td>\n",
       "      <td>Abare Ushioni (Rush Duel)</td>\n",
       "      <td>https://yugipedia.com/wiki/Abare_Ushioni_(Rush...</td>\n",
       "      <td>NaN</td>\n",
       "      <td>2022-11-17 12:09:14</td>\n",
       "      <td>(Any,)</td>\n",
       "    </tr>\n",
       "    <tr>\n",
       "      <th>4</th>\n",
       "      <td>Abyss Soldier</td>\n",
       "      <td>Monster Card</td>\n",
       "      <td>NaN</td>\n",
       "      <td>NaN</td>\n",
       "      <td>WATER</td>\n",
       "      <td>Effect Monster</td>\n",
       "      <td>Aqua</td>\n",
       "      <td>(Effect,)</td>\n",
       "      <td>1300</td>\n",
       "      <td>True</td>\n",
       "      <td>False</td>\n",
       "      <td>1800</td>\n",
       "      <td>NaN</td>\n",
       "      <td>4</td>\n",
       "      <td>Abyss Soldier (Rush Duel)</td>\n",
       "      <td>https://yugipedia.com/wiki/Abyss_Soldier_(Rush...</td>\n",
       "      <td>NaN</td>\n",
       "      <td>2022-11-17 12:14:35</td>\n",
       "      <td>(Any,)</td>\n",
       "    </tr>\n",
       "    <tr>\n",
       "      <th>...</th>\n",
       "      <td>...</td>\n",
       "      <td>...</td>\n",
       "      <td>...</td>\n",
       "      <td>...</td>\n",
       "      <td>...</td>\n",
       "      <td>...</td>\n",
       "      <td>...</td>\n",
       "      <td>...</td>\n",
       "      <td>...</td>\n",
       "      <td>...</td>\n",
       "      <td>...</td>\n",
       "      <td>...</td>\n",
       "      <td>...</td>\n",
       "      <td>...</td>\n",
       "      <td>...</td>\n",
       "      <td>...</td>\n",
       "      <td>...</td>\n",
       "      <td>...</td>\n",
       "      <td>...</td>\n",
       "    </tr>\n",
       "    <tr>\n",
       "      <th>1415</th>\n",
       "      <td>Zap Zap Octospark</td>\n",
       "      <td>Monster Card</td>\n",
       "      <td>NaN</td>\n",
       "      <td>NaN</td>\n",
       "      <td>WATER</td>\n",
       "      <td>Effect Monster</td>\n",
       "      <td>Thunder</td>\n",
       "      <td>(Effect,)</td>\n",
       "      <td>800</td>\n",
       "      <td>False</td>\n",
       "      <td>False</td>\n",
       "      <td>1600</td>\n",
       "      <td>NaN</td>\n",
       "      <td>6</td>\n",
       "      <td>Zap Zap Octospark</td>\n",
       "      <td>https://yugipedia.com/wiki/Zap_Zap_Octospark</td>\n",
       "      <td>NaN</td>\n",
       "      <td>2023-01-12 19:07:05</td>\n",
       "      <td>NaN</td>\n",
       "    </tr>\n",
       "    <tr>\n",
       "      <th>1416</th>\n",
       "      <td>Zeptron</td>\n",
       "      <td>Monster Card</td>\n",
       "      <td>NaN</td>\n",
       "      <td>(Tron (series),)</td>\n",
       "      <td>LIGHT</td>\n",
       "      <td>Effect Monster</td>\n",
       "      <td>Cyberse</td>\n",
       "      <td>(Effect,)</td>\n",
       "      <td>100</td>\n",
       "      <td>False</td>\n",
       "      <td>False</td>\n",
       "      <td>500</td>\n",
       "      <td>NaN</td>\n",
       "      <td>2</td>\n",
       "      <td>Zeptron</td>\n",
       "      <td>https://yugipedia.com/wiki/Zeptron</td>\n",
       "      <td>NaN</td>\n",
       "      <td>2023-01-03 23:12:53</td>\n",
       "      <td>NaN</td>\n",
       "    </tr>\n",
       "    <tr>\n",
       "      <th>1417</th>\n",
       "      <td>Zombie Carnival</td>\n",
       "      <td>Spell Card</td>\n",
       "      <td>Field Spell Card</td>\n",
       "      <td>NaN</td>\n",
       "      <td>NaN</td>\n",
       "      <td>NaN</td>\n",
       "      <td>NaN</td>\n",
       "      <td>(Effect,)</td>\n",
       "      <td>NaN</td>\n",
       "      <td>False</td>\n",
       "      <td>False</td>\n",
       "      <td>NaN</td>\n",
       "      <td>NaN</td>\n",
       "      <td>NaN</td>\n",
       "      <td>Zombie Carnival</td>\n",
       "      <td>https://yugipedia.com/wiki/Zombie_Carnival</td>\n",
       "      <td>NaN</td>\n",
       "      <td>2023-01-05 23:00:01</td>\n",
       "      <td>NaN</td>\n",
       "    </tr>\n",
       "    <tr>\n",
       "      <th>1418</th>\n",
       "      <td>Zombie Fireworks</td>\n",
       "      <td>Spell Card</td>\n",
       "      <td>Normal Spell Card</td>\n",
       "      <td>NaN</td>\n",
       "      <td>NaN</td>\n",
       "      <td>NaN</td>\n",
       "      <td>NaN</td>\n",
       "      <td>(Effect,)</td>\n",
       "      <td>NaN</td>\n",
       "      <td>False</td>\n",
       "      <td>False</td>\n",
       "      <td>NaN</td>\n",
       "      <td>NaN</td>\n",
       "      <td>NaN</td>\n",
       "      <td>Zombie Fireworks</td>\n",
       "      <td>https://yugipedia.com/wiki/Zombie_Fireworks</td>\n",
       "      <td>NaN</td>\n",
       "      <td>2022-10-20 06:57:57</td>\n",
       "      <td>NaN</td>\n",
       "    </tr>\n",
       "    <tr>\n",
       "      <th>1419</th>\n",
       "      <td>Zubaba Batter</td>\n",
       "      <td>Monster Card</td>\n",
       "      <td>NaN</td>\n",
       "      <td>(Baseball,)</td>\n",
       "      <td>FIRE</td>\n",
       "      <td>Normal Monster</td>\n",
       "      <td>Warrior</td>\n",
       "      <td>NaN</td>\n",
       "      <td>400</td>\n",
       "      <td>False</td>\n",
       "      <td>False</td>\n",
       "      <td>1500</td>\n",
       "      <td>NaN</td>\n",
       "      <td>4</td>\n",
       "      <td>Zubaba Batter</td>\n",
       "      <td>https://yugipedia.com/wiki/Zubaba_Batter</td>\n",
       "      <td>NaN</td>\n",
       "      <td>2022-12-10 20:57:10</td>\n",
       "      <td>NaN</td>\n",
       "    </tr>\n",
       "  </tbody>\n",
       "</table>\n",
       "<p>1420 rows × 19 columns</p>\n",
       "</div>"
      ],
      "text/plain": [
       "                          Name     Card type           Property  \\\n",
       "0                         1-Up     Trap Card   Normal Trap Card   \n",
       "1     300 Light-Year Red Cloak    Spell Card  Normal Spell Card   \n",
       "2                     7 Chance     Trap Card   Normal Trap Card   \n",
       "3                Abare Ushioni  Monster Card                NaN   \n",
       "4                Abyss Soldier  Monster Card                NaN   \n",
       "...                        ...           ...                ...   \n",
       "1415         Zap Zap Octospark  Monster Card                NaN   \n",
       "1416                   Zeptron  Monster Card                NaN   \n",
       "1417           Zombie Carnival    Spell Card   Field Spell Card   \n",
       "1418          Zombie Fireworks    Spell Card  Normal Spell Card   \n",
       "1419             Zubaba Batter  Monster Card                NaN   \n",
       "\n",
       "                  Archseries Attribute    Primary type   Monster type  \\\n",
       "0                        NaN       NaN             NaN            NaN   \n",
       "1     (Cosmic Urban Legend,)       NaN             NaN            NaN   \n",
       "2                        NaN       NaN             NaN            NaN   \n",
       "3                        NaN     EARTH  Effect Monster  Beast-Warrior   \n",
       "4                        NaN     WATER  Effect Monster           Aqua   \n",
       "...                      ...       ...             ...            ...   \n",
       "1415                     NaN     WATER  Effect Monster        Thunder   \n",
       "1416        (Tron (series),)     LIGHT  Effect Monster        Cyberse   \n",
       "1417                     NaN       NaN             NaN            NaN   \n",
       "1418                     NaN       NaN             NaN            NaN   \n",
       "1419             (Baseball,)      FIRE  Normal Monster        Warrior   \n",
       "\n",
       "     Effect type   DEF  Legend  Maximum mode   ATK MAXIMUM ATK Level/Rank  \\\n",
       "0      (Effect,)   NaN   False         False   NaN         NaN        NaN   \n",
       "1      (Effect,)   NaN   False         False   NaN         NaN        NaN   \n",
       "2      (Effect,)   NaN   False         False   NaN         NaN        NaN   \n",
       "3      (Effect,)  1200   False         False  1200         NaN          4   \n",
       "4      (Effect,)  1300    True         False  1800         NaN          4   \n",
       "...          ...   ...     ...           ...   ...         ...        ...   \n",
       "1415   (Effect,)   800   False         False  1600         NaN          6   \n",
       "1416   (Effect,)   100   False         False   500         NaN          2   \n",
       "1417   (Effect,)   NaN   False         False   NaN         NaN        NaN   \n",
       "1418   (Effect,)   NaN   False         False   NaN         NaN        NaN   \n",
       "1419         NaN   400   False         False  1500         NaN          4   \n",
       "\n",
       "                      Page name  \\\n",
       "0                          1-Up   \n",
       "1      300 Light-Year Red Cloak   \n",
       "2                      7 Chance   \n",
       "3     Abare Ushioni (Rush Duel)   \n",
       "4     Abyss Soldier (Rush Duel)   \n",
       "...                         ...   \n",
       "1415          Zap Zap Octospark   \n",
       "1416                    Zeptron   \n",
       "1417            Zombie Carnival   \n",
       "1418           Zombie Fireworks   \n",
       "1419              Zubaba Batter   \n",
       "\n",
       "                                               Page URL Artwork  \\\n",
       "0                       https://yugipedia.com/wiki/1-Up     NaN   \n",
       "1     https://yugipedia.com/wiki/300_Light-Year_Red_...     NaN   \n",
       "2                   https://yugipedia.com/wiki/7_Chance     NaN   \n",
       "3     https://yugipedia.com/wiki/Abare_Ushioni_(Rush...     NaN   \n",
       "4     https://yugipedia.com/wiki/Abyss_Soldier_(Rush...     NaN   \n",
       "...                                                 ...     ...   \n",
       "1415       https://yugipedia.com/wiki/Zap_Zap_Octospark     NaN   \n",
       "1416                 https://yugipedia.com/wiki/Zeptron     NaN   \n",
       "1417         https://yugipedia.com/wiki/Zombie_Carnival     NaN   \n",
       "1418        https://yugipedia.com/wiki/Zombie_Fireworks     NaN   \n",
       "1419           https://yugipedia.com/wiki/Zubaba_Batter     NaN   \n",
       "\n",
       "       Modification date  Errata  \n",
       "0    2022-09-18 19:47:54     NaN  \n",
       "1    2022-11-17 12:07:53     NaN  \n",
       "2    2022-12-10 20:50:09     NaN  \n",
       "3    2022-11-17 12:09:14  (Any,)  \n",
       "4    2022-11-17 12:14:35  (Any,)  \n",
       "...                  ...     ...  \n",
       "1415 2023-01-12 19:07:05     NaN  \n",
       "1416 2023-01-03 23:12:53     NaN  \n",
       "1417 2023-01-05 23:00:01     NaN  \n",
       "1418 2022-10-20 06:57:57     NaN  \n",
       "1419 2022-12-10 20:57:10     NaN  \n",
       "\n",
       "[1420 rows x 19 columns]"
      ]
     },
     "execution_count": 8,
     "metadata": {},
     "output_type": "execute_result"
    }
   ],
   "source": [
    "rush_df"
   ]
  },
  {
   "cell_type": "markdown",
   "id": "6f265c0c-ee8f-4e14-97a2-8f5011fade4d",
   "metadata": {
    "jp-MarkdownHeadingCollapsed": true,
    "papermill": {
     "duration": 0.029991,
     "end_time": "2023-02-19T18:55:37.305026",
     "exception": false,
     "start_time": "2023-02-19T18:55:37.275035",
     "status": "completed"
    },
    "tags": []
   },
   "source": [
    "## Card type"
   ]
  },
  {
   "cell_type": "code",
   "execution_count": null,
   "id": "d0eb0759-1dfe-4dd3-8f5e-b442a615a487",
   "metadata": {
    "papermill": {
     "duration": 0.043663,
     "end_time": "2023-02-19T18:55:37.379590",
     "exception": false,
     "start_time": "2023-02-19T18:55:37.335927",
     "status": "completed"
    },
    "tags": []
   },
   "outputs": [],
   "source": [
    "rush_df['Card type'].nunique()"
   ]
  },
  {
   "cell_type": "code",
   "execution_count": null,
   "id": "bdba8960-9b45-4f10-93a2-c7edb4cb0fb5",
   "metadata": {
    "papermill": {
     "duration": 0.29453,
     "end_time": "2023-02-19T18:55:37.704166",
     "exception": false,
     "start_time": "2023-02-19T18:55:37.409636",
     "status": "completed"
    },
    "tags": []
   },
   "outputs": [],
   "source": [
    "card_type_colors = [colors_dict[i] for i in rush_df['Card type'].value_counts().index]\n",
    "rush_df['Card type'].value_counts().plot.bar(figsize = (18,6), grid = True, rot=0, color = card_type_colors, title = 'Card type')\n",
    "plt.show()"
   ]
  },
  {
   "cell_type": "markdown",
   "id": "efd09d32-f551-40c5-8c4f-ea5de85722fa",
   "metadata": {
    "papermill": {
     "duration": 0.031359,
     "end_time": "2023-02-19T18:55:37.766461",
     "exception": false,
     "start_time": "2023-02-19T18:55:37.735102",
     "status": "completed"
    },
    "tags": []
   },
   "source": [
    "## Monsters"
   ]
  },
  {
   "cell_type": "markdown",
   "id": "61a76912-a0db-4680-93ef-fff91938644f",
   "metadata": {
    "jp-MarkdownHeadingCollapsed": true,
    "papermill": {
     "duration": 0.029954,
     "end_time": "2023-02-19T18:55:37.826989",
     "exception": false,
     "start_time": "2023-02-19T18:55:37.797035",
     "status": "completed"
    },
    "tags": []
   },
   "source": [
    "### Attribute"
   ]
  },
  {
   "cell_type": "code",
   "execution_count": null,
   "id": "aa4e6a26",
   "metadata": {
    "papermill": {
     "duration": 0.054688,
     "end_time": "2023-02-19T18:55:37.912300",
     "exception": false,
     "start_time": "2023-02-19T18:55:37.857612",
     "status": "completed"
    },
    "tags": []
   },
   "outputs": [],
   "source": [
    "print('Total number of attributes:', rush_df['Attribute'].nunique())"
   ]
  },
  {
   "cell_type": "code",
   "execution_count": null,
   "id": "ea26720e",
   "metadata": {
    "papermill": {
     "duration": 0.071808,
     "end_time": "2023-02-19T18:55:38.014702",
     "exception": false,
     "start_time": "2023-02-19T18:55:37.942894",
     "status": "completed"
    },
    "tags": []
   },
   "outputs": [],
   "source": [
    "rush_df.drop(columns=['Card type']).groupby('Attribute').nunique()"
   ]
  },
  {
   "cell_type": "code",
   "execution_count": null,
   "id": "c4ff5f74",
   "metadata": {
    "papermill": {
     "duration": 0.295857,
     "end_time": "2023-02-19T18:55:38.342028",
     "exception": false,
     "start_time": "2023-02-19T18:55:38.046171",
     "status": "completed"
    },
    "tags": []
   },
   "outputs": [],
   "source": [
    "attribute_colors = [colors_dict[i] for i in rush_df['Attribute'].value_counts().index]\n",
    "rush_df['Attribute'].value_counts().plot.bar(figsize = (18,6), grid = True, rot=0, color = attribute_colors, title = 'Attribute')\n",
    "plt.show()"
   ]
  },
  {
   "cell_type": "markdown",
   "id": "52ec4c63-62b0-4f14-a410-6d73439fade0",
   "metadata": {
    "jp-MarkdownHeadingCollapsed": true,
    "papermill": {
     "duration": 0.032344,
     "end_time": "2023-02-19T18:55:38.406710",
     "exception": false,
     "start_time": "2023-02-19T18:55:38.374366",
     "status": "completed"
    },
    "tags": []
   },
   "source": [
    "### Primary type"
   ]
  },
  {
   "cell_type": "code",
   "execution_count": null,
   "id": "26e45412",
   "metadata": {
    "papermill": {
     "duration": 0.044001,
     "end_time": "2023-02-19T18:55:38.483202",
     "exception": false,
     "start_time": "2023-02-19T18:55:38.439201",
     "status": "completed"
    },
    "tags": []
   },
   "outputs": [],
   "source": [
    "print('Total number of primary types:', rush_df['Primary type'].nunique())"
   ]
  },
  {
   "cell_type": "code",
   "execution_count": null,
   "id": "c7e4c6b0",
   "metadata": {
    "papermill": {
     "duration": 0.072677,
     "end_time": "2023-02-19T18:55:38.588419",
     "exception": false,
     "start_time": "2023-02-19T18:55:38.515742",
     "status": "completed"
    },
    "tags": []
   },
   "outputs": [],
   "source": [
    "rush_df.drop(columns=['Card type']).groupby('Primary type').nunique()"
   ]
  },
  {
   "cell_type": "markdown",
   "id": "fcf42253-51c4-4c29-ad63-d54e730cf4bf",
   "metadata": {
    "papermill": {
     "duration": 0.03257,
     "end_time": "2023-02-19T18:55:38.657771",
     "exception": false,
     "start_time": "2023-02-19T18:55:38.625201",
     "status": "completed"
    },
    "tags": []
   },
   "source": [
    "#### Has effect discrimination"
   ]
  },
  {
   "cell_type": "code",
   "execution_count": null,
   "id": "56a59624",
   "metadata": {
    "papermill": {
     "duration": 0.054566,
     "end_time": "2023-02-19T18:55:38.744956",
     "exception": false,
     "start_time": "2023-02-19T18:55:38.690390",
     "status": "completed"
    },
    "tags": []
   },
   "outputs": [],
   "source": [
    "has_effect = rush_df['Primary type'].where(rush_df['Effect type'].notna()).value_counts().rename('Effect')\n",
    "no_effect = rush_df['Primary type'].where(rush_df['Effect type'].isna()).value_counts().rename('No Effect')\n",
    "effect = pd.concat([has_effect,no_effect], axis=1).fillna(0).astype(int)\n",
    "effect"
   ]
  },
  {
   "cell_type": "code",
   "execution_count": null,
   "id": "82c24448",
   "metadata": {
    "papermill": {
     "duration": 0.315369,
     "end_time": "2023-02-19T18:55:39.093513",
     "exception": false,
     "start_time": "2023-02-19T18:55:38.778144",
     "status": "completed"
    },
    "tags": []
   },
   "outputs": [],
   "source": [
    "monster_type_colors = {'No Effect': colors_dict['Normal Monster'], 'Effect': [colors_dict[i] for i in effect.index]}\n",
    "effect.plot.bar(figsize = (18,6), stacked = True, grid = True, rot=0,  legend=True, color = monster_type_colors, title = 'Primary types - Has effect')\n",
    "# plt.yscale('log')\n",
    "plt.show()"
   ]
  },
  {
   "cell_type": "markdown",
   "id": "5937a77e-f719-44fc-a595-cbaf054f3f8d",
   "metadata": {
    "papermill": {
     "duration": 0.103343,
     "end_time": "2023-02-19T18:55:39.230279",
     "exception": false,
     "start_time": "2023-02-19T18:55:39.126936",
     "status": "completed"
    },
    "tags": []
   },
   "source": [
    "Obs: Effect monster can show as no effect if it is not released yet"
   ]
  },
  {
   "cell_type": "markdown",
   "id": "25151736-6b5f-406e-9269-312433ff78b8",
   "metadata": {
    "papermill": {
     "duration": 0.034039,
     "end_time": "2023-02-19T18:55:39.298269",
     "exception": false,
     "start_time": "2023-02-19T18:55:39.264230",
     "status": "completed"
    },
    "tags": []
   },
   "source": [
    "#### By attribute"
   ]
  },
  {
   "cell_type": "code",
   "execution_count": null,
   "id": "9c162519",
   "metadata": {
    "papermill": {
     "duration": 0.067193,
     "end_time": "2023-02-19T18:55:39.399355",
     "exception": false,
     "start_time": "2023-02-19T18:55:39.332162",
     "status": "completed"
    },
    "tags": []
   },
   "outputs": [],
   "source": [
    "primmary_crosstab = pd.crosstab(rush_df['Primary type'],rush_df['Attribute'])\n",
    "primmary_crosstab"
   ]
  },
  {
   "cell_type": "code",
   "execution_count": null,
   "id": "a0114f45",
   "metadata": {
    "papermill": {
     "duration": 0.656926,
     "end_time": "2023-02-19T18:55:40.092055",
     "exception": false,
     "start_time": "2023-02-19T18:55:39.435129",
     "status": "completed"
    },
    "tags": []
   },
   "outputs": [],
   "source": [
    "plt.figure(figsize = (16,6))\n",
    "sns.heatmap(primmary_crosstab, annot=True, fmt=\"g\", cmap='viridis', square=True, norm=mc.LogNorm())\n",
    "plt.show()"
   ]
  },
  {
   "cell_type": "markdown",
   "id": "1cec1d3f-9089-4e2c-8263-19996a56fb94",
   "metadata": {
    "jp-MarkdownHeadingCollapsed": true,
    "papermill": {
     "duration": 0.03462,
     "end_time": "2023-02-19T18:55:40.165493",
     "exception": false,
     "start_time": "2023-02-19T18:55:40.130873",
     "status": "completed"
    },
    "tags": []
   },
   "source": [
    "### Monster type"
   ]
  },
  {
   "cell_type": "code",
   "execution_count": null,
   "id": "f9375423-085f-4a01-a981-5c49758ee2fe",
   "metadata": {
    "papermill": {
     "duration": 0.044978,
     "end_time": "2023-02-19T18:55:40.245931",
     "exception": false,
     "start_time": "2023-02-19T18:55:40.200953",
     "status": "completed"
    },
    "tags": []
   },
   "outputs": [],
   "source": [
    "print('Total number of monster types:', rush_df['Monster type'].nunique())"
   ]
  },
  {
   "cell_type": "code",
   "execution_count": null,
   "id": "cce35ef4-1aba-4209-9bb0-8777ca156238",
   "metadata": {
    "papermill": {
     "duration": 0.088901,
     "end_time": "2023-02-19T18:55:40.372048",
     "exception": false,
     "start_time": "2023-02-19T18:55:40.283147",
     "status": "completed"
    },
    "tags": []
   },
   "outputs": [],
   "source": [
    "rush_df.drop(columns=['Card type']).groupby('Monster type').nunique()"
   ]
  },
  {
   "cell_type": "code",
   "execution_count": null,
   "id": "d270a94e-dd85-4790-9382-67057d7ee9ad",
   "metadata": {
    "papermill": {
     "duration": 0.618984,
     "end_time": "2023-02-19T18:55:41.027955",
     "exception": false,
     "start_time": "2023-02-19T18:55:40.408971",
     "status": "completed"
    },
    "tags": []
   },
   "outputs": [],
   "source": [
    "monster_type_colors = colors_dict['Monster Card']\n",
    "rush_df['Monster type'].value_counts().plot.bar(figsize = (18,6), grid = True, rot=60, color = monster_type_colors, title = 'Monster type')\n",
    "plt.show()"
   ]
  },
  {
   "cell_type": "markdown",
   "id": "c46d460f-9cb2-4f9d-9533-3416c26bf159",
   "metadata": {
    "jp-MarkdownHeadingCollapsed": true,
    "papermill": {
     "duration": 0.217615,
     "end_time": "2023-02-19T18:55:41.283408",
     "exception": false,
     "start_time": "2023-02-19T18:55:41.065793",
     "status": "completed"
    },
    "tags": []
   },
   "source": [
    "#### By Attribute"
   ]
  },
  {
   "cell_type": "code",
   "execution_count": null,
   "id": "9664b46c-b835-45ea-905b-b1d9460eb241",
   "metadata": {
    "papermill": {
     "duration": 0.079242,
     "end_time": "2023-02-19T18:55:41.424973",
     "exception": false,
     "start_time": "2023-02-19T18:55:41.345731",
     "status": "completed"
    },
    "tags": []
   },
   "outputs": [],
   "source": [
    "monster_crosstab = pd.crosstab(rush_df['Monster type'],rush_df['Attribute'], dropna=False)\n",
    "monster_crosstab"
   ]
  },
  {
   "cell_type": "code",
   "execution_count": null,
   "id": "71a77985-bff7-4bfc-a1b2-8c19b34a314c",
   "metadata": {
    "papermill": {
     "duration": 1.115266,
     "end_time": "2023-02-19T18:55:42.579040",
     "exception": false,
     "start_time": "2023-02-19T18:55:41.463774",
     "status": "completed"
    },
    "tags": []
   },
   "outputs": [],
   "source": [
    "plt.figure(figsize = (20,4))\n",
    "sns.heatmap(monster_crosstab[monster_crosstab>0].T, annot=True, fmt=\"g\", cmap='viridis', square=True, norm=mc.LogNorm())\n",
    "plt.show()"
   ]
  },
  {
   "cell_type": "markdown",
   "id": "2ecc77ec-6841-4d6a-9983-2316412d4154",
   "metadata": {
    "papermill": {
     "duration": 0.05375,
     "end_time": "2023-02-19T18:55:42.672689",
     "exception": false,
     "start_time": "2023-02-19T18:55:42.618939",
     "status": "completed"
    },
    "tags": []
   },
   "source": [
    "#### By primary type"
   ]
  },
  {
   "cell_type": "code",
   "execution_count": null,
   "id": "f2e9d55a-e781-428e-b08c-efedf2a37392",
   "metadata": {
    "papermill": {
     "duration": 0.070931,
     "end_time": "2023-02-19T18:55:42.783424",
     "exception": false,
     "start_time": "2023-02-19T18:55:42.712493",
     "status": "completed"
    },
    "tags": []
   },
   "outputs": [],
   "source": [
    "monster_crosstab_b = pd.crosstab(rush_df['Monster type'],rush_df['Primary type'], dropna=False)\n",
    "monster_crosstab_b"
   ]
  },
  {
   "cell_type": "code",
   "execution_count": null,
   "id": "8da8db63-bc41-4a03-a525-63dbcfb5782f",
   "metadata": {
    "papermill": {
     "duration": 0.91773,
     "end_time": "2023-02-19T18:55:43.742074",
     "exception": false,
     "start_time": "2023-02-19T18:55:42.824344",
     "status": "completed"
    },
    "tags": []
   },
   "outputs": [],
   "source": [
    "plt.figure(figsize = (16,2))\n",
    "sns.heatmap(monster_crosstab_b[monster_crosstab_b>0].T, annot=True, fmt=\"g\", cmap='viridis', square=True, norm = mc.LogNorm())\n",
    "plt.show()"
   ]
  },
  {
   "cell_type": "markdown",
   "id": "f2966e60-300a-4289-9a94-f14c49fa41d4",
   "metadata": {
    "jp-MarkdownHeadingCollapsed": true,
    "papermill": {
     "duration": 0.042541,
     "end_time": "2023-02-19T18:55:43.826917",
     "exception": false,
     "start_time": "2023-02-19T18:55:43.784376",
     "status": "completed"
    },
    "tags": []
   },
   "source": [
    "### Effect type"
   ]
  },
  {
   "cell_type": "code",
   "execution_count": null,
   "id": "b44949a6",
   "metadata": {
    "papermill": {
     "duration": 0.056606,
     "end_time": "2023-02-19T18:55:43.926253",
     "exception": false,
     "start_time": "2023-02-19T18:55:43.869647",
     "status": "completed"
    },
    "tags": []
   },
   "outputs": [],
   "source": [
    "print('Total number of effect types:', rush_df['Effect type'].explode().nunique())"
   ]
  },
  {
   "cell_type": "code",
   "execution_count": null,
   "id": "c4e48718",
   "metadata": {
    "papermill": {
     "duration": 0.095016,
     "end_time": "2023-02-19T18:55:44.063650",
     "exception": false,
     "start_time": "2023-02-19T18:55:43.968634",
     "status": "completed"
    },
    "tags": []
   },
   "outputs": [],
   "source": [
    "rush_df[rush_df['Effect type'].notna()].drop(columns=['Card type']).explode('Effect type').groupby('Effect type').nunique()"
   ]
  },
  {
   "cell_type": "code",
   "execution_count": null,
   "id": "ff912d52",
   "metadata": {
    "papermill": {
     "duration": 0.325711,
     "end_time": "2023-02-19T18:55:44.432252",
     "exception": false,
     "start_time": "2023-02-19T18:55:44.106541",
     "status": "completed"
    },
    "tags": []
   },
   "outputs": [],
   "source": [
    "monster_effect_colors = colors_dict['Effect Monster']\n",
    "rush_df['Effect type'].explode('Effect type').value_counts().plot.bar(figsize = (18,6), grid = True, color = monster_effect_colors, title='Effect type')\n",
    "# plt.yscale('log')\n",
    "plt.show()"
   ]
  },
  {
   "cell_type": "markdown",
   "id": "536f68c4-f64a-4c69-a143-0a5c8b0292b1",
   "metadata": {
    "jp-MarkdownHeadingCollapsed": true,
    "papermill": {
     "duration": 0.069727,
     "end_time": "2023-02-19T18:55:44.549708",
     "exception": false,
     "start_time": "2023-02-19T18:55:44.479981",
     "status": "completed"
    },
    "tags": []
   },
   "source": [
    "### ATK"
   ]
  },
  {
   "cell_type": "code",
   "execution_count": null,
   "id": "1b5db865",
   "metadata": {
    "papermill": {
     "duration": 0.055933,
     "end_time": "2023-02-19T18:55:44.649551",
     "exception": false,
     "start_time": "2023-02-19T18:55:44.593618",
     "status": "completed"
    },
    "tags": []
   },
   "outputs": [],
   "source": [
    "print('Total number of ATK values:', rush_df['ATK'].nunique())"
   ]
  },
  {
   "cell_type": "code",
   "execution_count": null,
   "id": "16b9aa14",
   "metadata": {
    "papermill": {
     "duration": 0.097926,
     "end_time": "2023-02-19T18:55:44.790791",
     "exception": false,
     "start_time": "2023-02-19T18:55:44.692865",
     "status": "completed"
    },
    "tags": []
   },
   "outputs": [],
   "source": [
    "rush_df.drop(columns=['Card type']).groupby('ATK').nunique().sort_index(key=lambda x: pd.to_numeric(x, errors = 'coerce'))"
   ]
  },
  {
   "cell_type": "code",
   "execution_count": null,
   "id": "3b1b2e1d",
   "metadata": {
    "papermill": {
     "duration": 0.533251,
     "end_time": "2023-02-19T18:55:45.369483",
     "exception": false,
     "start_time": "2023-02-19T18:55:44.836232",
     "status": "completed"
    },
    "tags": []
   },
   "outputs": [],
   "source": [
    "atk_colors = colors_dict['Monster Card']\n",
    "rush_df['DEF'].value_counts().sort_index(key=lambda x: pd.to_numeric(x, errors = 'coerce')).plot.bar(figsize = (18,6), grid = True, color = atk_colors, title = 'ATK')\n",
    "plt.show()"
   ]
  },
  {
   "cell_type": "markdown",
   "id": "c59b1e9d-4376-4476-bcf0-f899852cbffa",
   "metadata": {
    "jp-MarkdownHeadingCollapsed": true,
    "papermill": {
     "duration": 0.065588,
     "end_time": "2023-02-19T18:55:45.483125",
     "exception": false,
     "start_time": "2023-02-19T18:55:45.417537",
     "status": "completed"
    },
    "tags": []
   },
   "source": [
    "### DEF"
   ]
  },
  {
   "cell_type": "code",
   "execution_count": null,
   "id": "2aa0ba61",
   "metadata": {
    "papermill": {
     "duration": 0.058706,
     "end_time": "2023-02-19T18:55:45.607966",
     "exception": false,
     "start_time": "2023-02-19T18:55:45.549260",
     "status": "completed"
    },
    "tags": []
   },
   "outputs": [],
   "source": [
    "print('Total number of DEF values:', rush_df['DEF'].nunique())"
   ]
  },
  {
   "cell_type": "code",
   "execution_count": null,
   "id": "54e9d56a",
   "metadata": {
    "papermill": {
     "duration": 0.111348,
     "end_time": "2023-02-19T18:55:45.765748",
     "exception": false,
     "start_time": "2023-02-19T18:55:45.654400",
     "status": "completed"
    },
    "tags": []
   },
   "outputs": [],
   "source": [
    "rush_df.drop(columns=['Card type']).groupby('DEF').nunique().sort_index(key=lambda x: pd.to_numeric(x, errors = 'coerce'))"
   ]
  },
  {
   "cell_type": "code",
   "execution_count": null,
   "id": "10aeff48",
   "metadata": {
    "papermill": {
     "duration": 0.557056,
     "end_time": "2023-02-19T18:55:46.369932",
     "exception": false,
     "start_time": "2023-02-19T18:55:45.812876",
     "status": "completed"
    },
    "tags": []
   },
   "outputs": [],
   "source": [
    "def_colors = colors_dict['Monster Card']\n",
    "rush_df['DEF'].value_counts().sort_index(key=lambda x: pd.to_numeric(x, errors = 'coerce')).plot.bar(figsize = (18,6), grid = True, color = def_colors, title = 'DEF')\n",
    "plt.show()"
   ]
  },
  {
   "cell_type": "markdown",
   "id": "434575eb-282b-4784-91a1-d7c60720f002",
   "metadata": {
    "jp-MarkdownHeadingCollapsed": true,
    "papermill": {
     "duration": 0.047823,
     "end_time": "2023-02-19T18:55:46.474136",
     "exception": false,
     "start_time": "2023-02-19T18:55:46.426313",
     "status": "completed"
    },
    "tags": []
   },
   "source": [
    "### Maximum mode"
   ]
  },
  {
   "cell_type": "code",
   "execution_count": null,
   "id": "140eabff-eae1-49a8-8320-632534615818",
   "metadata": {
    "papermill": {
     "duration": 0.351352,
     "end_time": "2023-02-19T18:55:46.874446",
     "exception": false,
     "start_time": "2023-02-19T18:55:46.523094",
     "status": "completed"
    },
    "tags": []
   },
   "outputs": [],
   "source": [
    "print('Total cards requiring maximum mode:', rush_df['Maximum mode'].sum())"
   ]
  },
  {
   "cell_type": "code",
   "execution_count": null,
   "id": "a30dcb57-c8ff-462f-80e5-ea612206439d",
   "metadata": {
    "papermill": {
     "duration": 0.136124,
     "end_time": "2023-02-19T18:55:47.059629",
     "exception": false,
     "start_time": "2023-02-19T18:55:46.923505",
     "status": "completed"
    },
    "tags": []
   },
   "outputs": [],
   "source": [
    "rush_df[rush_df['Maximum mode']]"
   ]
  },
  {
   "cell_type": "markdown",
   "id": "d26839a4-f930-41f3-9df2-0209f0a25bdb",
   "metadata": {
    "papermill": {
     "duration": 0.049779,
     "end_time": "2023-02-19T18:55:47.158967",
     "exception": false,
     "start_time": "2023-02-19T18:55:47.109188",
     "status": "completed"
    },
    "tags": []
   },
   "source": [
    "#### MAXIMUM ATK"
   ]
  },
  {
   "cell_type": "code",
   "execution_count": null,
   "id": "317ce825-1d9b-4a99-ad39-93ee7a64db0a",
   "metadata": {
    "papermill": {
     "duration": 0.061683,
     "end_time": "2023-02-19T18:55:47.271344",
     "exception": false,
     "start_time": "2023-02-19T18:55:47.209661",
     "status": "completed"
    },
    "tags": []
   },
   "outputs": [],
   "source": [
    "print('Total number of MAXIMUM ATK values:', rush_df['MAXIMUM ATK'].nunique())"
   ]
  },
  {
   "cell_type": "code",
   "execution_count": null,
   "id": "5c9e9e4c-7307-4396-968c-32ec8af00a45",
   "metadata": {
    "papermill": {
     "duration": 0.301361,
     "end_time": "2023-02-19T18:55:47.621999",
     "exception": false,
     "start_time": "2023-02-19T18:55:47.320638",
     "status": "completed"
    },
    "tags": []
   },
   "outputs": [],
   "source": [
    "def_colors = colors_dict['Monster Card']\n",
    "rush_df['MAXIMUM ATK'].value_counts().sort_index(key=lambda x: pd.to_numeric(x, errors = 'coerce')).plot.bar(figsize = (18,6), grid = True, color = def_colors, title = 'MAXIMUM ATK')\n",
    "plt.show()"
   ]
  },
  {
   "cell_type": "markdown",
   "id": "7c569d49-6d1f-4c1e-a877-e761e12d33cf",
   "metadata": {
    "papermill": {
     "duration": 0.188037,
     "end_time": "2023-02-19T18:55:47.860942",
     "exception": false,
     "start_time": "2023-02-19T18:55:47.672905",
     "status": "completed"
    },
    "tags": []
   },
   "source": [
    "##### By ATK"
   ]
  },
  {
   "cell_type": "code",
   "execution_count": null,
   "id": "bbde5543-da0d-422f-a9f9-c19951962f19",
   "metadata": {
    "papermill": {
     "duration": 0.079647,
     "end_time": "2023-02-19T18:55:47.992117",
     "exception": false,
     "start_time": "2023-02-19T18:55:47.912470",
     "status": "completed"
    },
    "tags": []
   },
   "outputs": [],
   "source": [
    "max_atk_crosstab = pd.crosstab(rush_df['ATK'],rush_df['MAXIMUM ATK'])\n",
    "max_atk_crosstab"
   ]
  },
  {
   "cell_type": "markdown",
   "id": "50eb5c02-b33d-4ff7-91d5-34dad1789d9f",
   "metadata": {
    "papermill": {
     "duration": 0.050711,
     "end_time": "2023-02-19T18:55:48.093322",
     "exception": false,
     "start_time": "2023-02-19T18:55:48.042611",
     "status": "completed"
    },
    "tags": []
   },
   "source": [
    "##### By DEF"
   ]
  },
  {
   "cell_type": "code",
   "execution_count": null,
   "id": "70a88253-776a-4c17-a165-2d43e15a26a0",
   "metadata": {
    "papermill": {
     "duration": 0.0777,
     "end_time": "2023-02-19T18:55:48.221843",
     "exception": false,
     "start_time": "2023-02-19T18:55:48.144143",
     "status": "completed"
    },
    "tags": []
   },
   "outputs": [],
   "source": [
    "max_def_crosstab = pd.crosstab(rush_df['DEF'],rush_df['MAXIMUM ATK'])\n",
    "max_def_crosstab"
   ]
  },
  {
   "cell_type": "markdown",
   "id": "67f66807-7364-40dd-a14e-5ba64dcc4897",
   "metadata": {
    "jp-MarkdownHeadingCollapsed": true,
    "papermill": {
     "duration": 0.050751,
     "end_time": "2023-02-19T18:55:48.323097",
     "exception": false,
     "start_time": "2023-02-19T18:55:48.272346",
     "status": "completed"
    },
    "tags": []
   },
   "source": [
    "### Level/Rank"
   ]
  },
  {
   "cell_type": "code",
   "execution_count": null,
   "id": "f5543138",
   "metadata": {
    "papermill": {
     "duration": 0.096917,
     "end_time": "2023-02-19T18:55:48.472954",
     "exception": false,
     "start_time": "2023-02-19T18:55:48.376037",
     "status": "completed"
    },
    "tags": []
   },
   "outputs": [],
   "source": [
    "rush_df.drop(columns=['Card type']).groupby('Level/Rank').nunique().sort_index(key=lambda x: pd.to_numeric(x, errors = 'coerce'))"
   ]
  },
  {
   "cell_type": "code",
   "execution_count": null,
   "id": "31539bdc",
   "metadata": {
    "papermill": {
     "duration": 0.331458,
     "end_time": "2023-02-19T18:55:48.860578",
     "exception": false,
     "start_time": "2023-02-19T18:55:48.529120",
     "status": "completed"
    },
    "tags": []
   },
   "outputs": [],
   "source": [
    "stars_colors = colors_dict['Level']\n",
    "rush_df['Level/Rank'].value_counts().sort_index(key=lambda x: pd.to_numeric(x, errors = 'coerce')).plot.bar(figsize = (18,6), grid = True, rot=0, color= stars_colors, title = 'Level/Rank')\n",
    "plt.show()"
   ]
  },
  {
   "cell_type": "markdown",
   "id": "817d4818-7e1c-4978-8cd1-f4d4dc814591",
   "metadata": {
    "papermill": {
     "duration": 0.052199,
     "end_time": "2023-02-19T18:55:48.965223",
     "exception": false,
     "start_time": "2023-02-19T18:55:48.913024",
     "status": "completed"
    },
    "tags": []
   },
   "source": [
    "#### ATK statistics"
   ]
  },
  {
   "cell_type": "code",
   "execution_count": null,
   "id": "06dc9107",
   "metadata": {
    "papermill": {
     "duration": 0.129262,
     "end_time": "2023-02-19T18:55:49.146548",
     "exception": false,
     "start_time": "2023-02-19T18:55:49.017286",
     "status": "completed"
    },
    "tags": []
   },
   "outputs": [],
   "source": [
    "rush_df[['Level/Rank','ATK']].apply(pd.to_numeric, errors = 'coerce').dropna().astype(int).groupby('Level/Rank').describe()"
   ]
  },
  {
   "cell_type": "markdown",
   "id": "dbc8ab5d-d288-4830-9850-373404e6aa36",
   "metadata": {
    "papermill": {
     "duration": 0.161313,
     "end_time": "2023-02-19T18:55:49.361855",
     "exception": false,
     "start_time": "2023-02-19T18:55:49.200542",
     "status": "completed"
    },
    "tags": []
   },
   "source": [
    "#### DEF statistics"
   ]
  },
  {
   "cell_type": "code",
   "execution_count": null,
   "id": "cc005e78",
   "metadata": {
    "papermill": {
     "duration": 0.135266,
     "end_time": "2023-02-19T18:55:49.557478",
     "exception": false,
     "start_time": "2023-02-19T18:55:49.422212",
     "status": "completed"
    },
    "tags": []
   },
   "outputs": [],
   "source": [
    "rush_df[['Level/Rank','DEF']].apply(pd.to_numeric, errors = 'coerce').dropna().astype(int).groupby('Level/Rank').describe()"
   ]
  },
  {
   "cell_type": "markdown",
   "id": "09674a4a-a317-465a-9e5d-da5de3b882a4",
   "metadata": {
    "papermill": {
     "duration": 0.230871,
     "end_time": "2023-02-19T18:55:49.844967",
     "exception": false,
     "start_time": "2023-02-19T18:55:49.614096",
     "status": "completed"
    },
    "tags": []
   },
   "source": [
    "## Spell & Trap"
   ]
  },
  {
   "cell_type": "markdown",
   "id": "e02f27a3-76bc-4f72-965f-6e8f253c77a6",
   "metadata": {
    "papermill": {
     "duration": 0.053452,
     "end_time": "2023-02-19T18:55:49.961495",
     "exception": false,
     "start_time": "2023-02-19T18:55:49.908043",
     "status": "completed"
    },
    "tags": []
   },
   "source": [
    "### Properties"
   ]
  },
  {
   "cell_type": "code",
   "execution_count": null,
   "id": "00501a98-d5da-4e0d-a628-1f0a13592290",
   "metadata": {
    "papermill": {
     "duration": 0.063754,
     "end_time": "2023-02-19T18:55:50.078645",
     "exception": false,
     "start_time": "2023-02-19T18:55:50.014891",
     "status": "completed"
    },
    "tags": []
   },
   "outputs": [],
   "source": [
    "print('Total number of properties:', rush_df['Property'].nunique())"
   ]
  },
  {
   "cell_type": "code",
   "execution_count": null,
   "id": "efbb94e7-b9d0-4ddf-953e-b8964b398808",
   "metadata": {
    "papermill": {
     "duration": 0.094111,
     "end_time": "2023-02-19T18:55:50.228171",
     "exception": false,
     "start_time": "2023-02-19T18:55:50.134060",
     "status": "completed"
    },
    "tags": []
   },
   "outputs": [],
   "source": [
    "rush_df.drop(columns=['Card type']).groupby('Property').nunique()"
   ]
  },
  {
   "cell_type": "code",
   "execution_count": null,
   "id": "d872f324-06f2-4d36-b377-c0d0a42c4fa1",
   "metadata": {
    "papermill": {
     "duration": 0.310365,
     "end_time": "2023-02-19T18:55:50.592025",
     "exception": false,
     "start_time": "2023-02-19T18:55:50.281660",
     "status": "completed"
    },
    "tags": []
   },
   "outputs": [],
   "source": [
    "st_colors = [colors_dict[i] for i in rush_df[['Card type','Property']].value_counts().index.get_level_values(0)]\n",
    "rush_df['Property'].value_counts().plot.bar(figsize = (18,6), grid = True, rot=45, color = st_colors, title = 'Property')\n",
    "plt.show()"
   ]
  },
  {
   "cell_type": "markdown",
   "id": "252d9b8a-b8e5-4a10-9beb-dd1bb5ee3d18",
   "metadata": {
    "papermill": {
     "duration": 0.059148,
     "end_time": "2023-02-19T18:55:50.705785",
     "exception": false,
     "start_time": "2023-02-19T18:55:50.646637",
     "status": "completed"
    },
    "tags": []
   },
   "source": [
    "## Archseries"
   ]
  },
  {
   "cell_type": "code",
   "execution_count": null,
   "id": "ce1470dc",
   "metadata": {
    "papermill": {
     "duration": 0.083301,
     "end_time": "2023-02-19T18:55:50.845643",
     "exception": false,
     "start_time": "2023-02-19T18:55:50.762342",
     "status": "completed"
    },
    "tags": []
   },
   "outputs": [],
   "source": [
    "exploded_archseries = rush_df.explode('Archseries')\n",
    "print('Total number of Archseries:', exploded_archseries['Archseries'].nunique())"
   ]
  },
  {
   "cell_type": "code",
   "execution_count": null,
   "id": "f31c5b8c",
   "metadata": {
    "papermill": {
     "duration": 0.09964,
     "end_time": "2023-02-19T18:55:51.000054",
     "exception": false,
     "start_time": "2023-02-19T18:55:50.900414",
     "status": "completed"
    },
    "tags": []
   },
   "outputs": [],
   "source": [
    "exploded_archseries.groupby('Archseries').nunique()"
   ]
  },
  {
   "cell_type": "code",
   "execution_count": null,
   "id": "00c9f321",
   "metadata": {
    "papermill": {
     "duration": 1.272232,
     "end_time": "2023-02-19T18:55:52.327350",
     "exception": false,
     "start_time": "2023-02-19T18:55:51.055118",
     "status": "completed"
    },
    "tags": []
   },
   "outputs": [],
   "source": [
    "exploded_archseries['Archseries'].value_counts().plot.barh(figsize = (10,20), grid = True, title = 'Archtypes/Series')\n",
    "plt.show()"
   ]
  },
  {
   "cell_type": "markdown",
   "id": "8a22c1c7-5a95-4110-ae01-79bff91c01ea",
   "metadata": {
    "jp-MarkdownHeadingCollapsed": true,
    "papermill": {
     "duration": 0.148588,
     "end_time": "2023-02-19T18:55:52.535219",
     "exception": false,
     "start_time": "2023-02-19T18:55:52.386631",
     "status": "completed"
    },
    "tags": []
   },
   "source": [
    "### By card type"
   ]
  },
  {
   "cell_type": "code",
   "execution_count": null,
   "id": "fbf65c3c",
   "metadata": {
    "papermill": {
     "duration": 0.123613,
     "end_time": "2023-02-19T18:55:52.743629",
     "exception": false,
     "start_time": "2023-02-19T18:55:52.620016",
     "status": "completed"
    },
    "tags": []
   },
   "outputs": [],
   "source": [
    "archseries_crosstab = pd.crosstab(exploded_archseries['Archseries'],exploded_archseries['Card type'], margins = True)\n",
    "archseries_crosstab"
   ]
  },
  {
   "cell_type": "markdown",
   "id": "65be4f84-7bd3-4de6-850a-dff20f8db6f8",
   "metadata": {
    "jp-MarkdownHeadingCollapsed": true,
    "papermill": {
     "duration": 0.058798,
     "end_time": "2023-02-19T18:55:52.860945",
     "exception": false,
     "start_time": "2023-02-19T18:55:52.802147",
     "status": "completed"
    },
    "tags": []
   },
   "source": [
    "### By primary type"
   ]
  },
  {
   "cell_type": "code",
   "execution_count": null,
   "id": "2c3671f0",
   "metadata": {
    "papermill": {
     "duration": 0.123074,
     "end_time": "2023-02-19T18:55:53.043128",
     "exception": false,
     "start_time": "2023-02-19T18:55:52.920054",
     "status": "completed"
    },
    "tags": []
   },
   "outputs": [],
   "source": [
    "archseries_crosstab_b = pd.crosstab(exploded_archseries['Archseries'],exploded_archseries['Primary type'], margins = True)\n",
    "archseries_crosstab_b"
   ]
  },
  {
   "cell_type": "markdown",
   "id": "845facac-cd41-437e-941b-a5662cedef0b",
   "metadata": {
    "jp-MarkdownHeadingCollapsed": true,
    "papermill": {
     "duration": 0.059903,
     "end_time": "2023-02-19T18:55:53.162867",
     "exception": false,
     "start_time": "2023-02-19T18:55:53.102964",
     "status": "completed"
    },
    "tags": []
   },
   "source": [
    "### By monster type"
   ]
  },
  {
   "cell_type": "code",
   "execution_count": null,
   "id": "d99ee9e1",
   "metadata": {
    "papermill": {
     "duration": 0.215883,
     "end_time": "2023-02-19T18:55:53.443116",
     "exception": false,
     "start_time": "2023-02-19T18:55:53.227233",
     "status": "completed"
    },
    "tags": []
   },
   "outputs": [],
   "source": [
    "archseries_crosstab_d = pd.crosstab(exploded_archseries['Archseries'],exploded_archseries['Monster type'], margins = True)\n",
    "archseries_crosstab_d"
   ]
  },
  {
   "cell_type": "markdown",
   "id": "316cdb28-4129-4b36-aa0a-db223739c2ab",
   "metadata": {
    "jp-MarkdownHeadingCollapsed": true,
    "papermill": {
     "duration": 0.072106,
     "end_time": "2023-02-19T18:55:53.683151",
     "exception": false,
     "start_time": "2023-02-19T18:55:53.611045",
     "status": "completed"
    },
    "tags": []
   },
   "source": [
    "### By property"
   ]
  },
  {
   "cell_type": "code",
   "execution_count": null,
   "id": "fbbb1ccc",
   "metadata": {
    "papermill": {
     "duration": 0.291996,
     "end_time": "2023-02-19T18:55:54.057226",
     "exception": false,
     "start_time": "2023-02-19T18:55:53.765230",
     "status": "completed"
    },
    "tags": []
   },
   "outputs": [],
   "source": [
    "archseries_crosstab_e = pd.crosstab(exploded_archseries['Archseries'],exploded_archseries['Property'], margins = True)\n",
    "archseries_crosstab_e"
   ]
  },
  {
   "cell_type": "markdown",
   "id": "b502bfe6-e19b-4d35-a32e-7b6a281d124c",
   "metadata": {
    "jp-MarkdownHeadingCollapsed": true,
    "papermill": {
     "duration": 0.06372,
     "end_time": "2023-02-19T18:55:54.185968",
     "exception": false,
     "start_time": "2023-02-19T18:55:54.122248",
     "status": "completed"
    },
    "tags": []
   },
   "source": [
    "## Legend"
   ]
  },
  {
   "cell_type": "code",
   "execution_count": null,
   "id": "b964ae84-be57-4250-9ce1-9b1f343ad9de",
   "metadata": {
    "papermill": {
     "duration": 0.073955,
     "end_time": "2023-02-19T18:55:54.323691",
     "exception": false,
     "start_time": "2023-02-19T18:55:54.249736",
     "status": "completed"
    },
    "tags": []
   },
   "outputs": [],
   "source": [
    "print('Total number of Legend cards', rush_df['Legend'].sum())"
   ]
  },
  {
   "cell_type": "code",
   "execution_count": null,
   "id": "2b29be8f-886c-4663-aeb4-8291301916e1",
   "metadata": {
    "papermill": {
     "duration": 0.139472,
     "end_time": "2023-02-19T18:55:54.531675",
     "exception": false,
     "start_time": "2023-02-19T18:55:54.392203",
     "status": "completed"
    },
    "tags": []
   },
   "outputs": [],
   "source": [
    "rush_df[rush_df['Legend']]"
   ]
  },
  {
   "cell_type": "markdown",
   "id": "72e1a0d0-710e-4f43-a879-95db76e004a3",
   "metadata": {
    "papermill": {
     "duration": 0.065848,
     "end_time": "2023-02-19T18:55:54.668205",
     "exception": false,
     "start_time": "2023-02-19T18:55:54.602357",
     "status": "completed"
    },
    "tags": []
   },
   "source": [
    "#### By card type"
   ]
  },
  {
   "cell_type": "code",
   "execution_count": null,
   "id": "a9a40b74-a725-4b1b-a112-3f0a6fbfcd27",
   "metadata": {
    "papermill": {
     "duration": 0.307166,
     "end_time": "2023-02-19T18:55:55.041929",
     "exception": false,
     "start_time": "2023-02-19T18:55:54.734763",
     "status": "completed"
    },
    "tags": []
   },
   "outputs": [],
   "source": [
    "card_type_colors = [colors_dict[i] for i in rush_df[rush_df['Legend']]['Card type'].value_counts().index]\n",
    "rush_df[rush_df['Legend']]['Card type'].value_counts().plot.bar(figsize = (18,6), grid = True, rot=0, color = card_type_colors, title = 'Card type')\n",
    "plt.show()"
   ]
  },
  {
   "cell_type": "markdown",
   "id": "1a64d032-a70e-48ac-9708-38cc771dba2a",
   "metadata": {
    "papermill": {
     "duration": 0.067359,
     "end_time": "2023-02-19T18:55:55.175874",
     "exception": false,
     "start_time": "2023-02-19T18:55:55.108515",
     "status": "completed"
    },
    "tags": []
   },
   "source": [
    "#### By Attribute"
   ]
  },
  {
   "cell_type": "code",
   "execution_count": null,
   "id": "ee9e1a51-7615-4715-9596-864a4541b72f",
   "metadata": {
    "papermill": {
     "duration": 0.339775,
     "end_time": "2023-02-19T18:55:55.582891",
     "exception": false,
     "start_time": "2023-02-19T18:55:55.243116",
     "status": "completed"
    },
    "tags": []
   },
   "outputs": [],
   "source": [
    "attribute_colors = [colors_dict[i] for i in rush_df[rush_df['Legend']]['Attribute'].value_counts().index]\n",
    "rush_df[rush_df['Legend']]['Attribute'].value_counts().plot.bar(figsize = (18,6), grid = True, rot=0, color = attribute_colors, title = 'Attribute')\n",
    "plt.show()"
   ]
  },
  {
   "cell_type": "markdown",
   "id": "b3cb67be-f040-4b27-a8c3-d53cabe13eb6",
   "metadata": {
    "papermill": {
     "duration": 0.067611,
     "end_time": "2023-02-19T18:55:55.719741",
     "exception": false,
     "start_time": "2023-02-19T18:55:55.652130",
     "status": "completed"
    },
    "tags": []
   },
   "source": [
    "#### By primary type"
   ]
  },
  {
   "cell_type": "code",
   "execution_count": null,
   "id": "7fb2f031-eb86-4039-9327-003e9c482d4d",
   "metadata": {
    "papermill": {
     "duration": 0.351958,
     "end_time": "2023-02-19T18:55:56.139225",
     "exception": false,
     "start_time": "2023-02-19T18:55:55.787267",
     "status": "completed"
    },
    "tags": []
   },
   "outputs": [],
   "source": [
    "monster_type_colors = [colors_dict[i] for i in rush_df[rush_df['Legend']]['Primary type'].value_counts().index]\n",
    "rush_df[rush_df['Legend']]['Primary type'].value_counts().plot.bar(figsize = (18,6), stacked = True, grid = True, rot=0,  legend=True, color = monster_type_colors, title = 'Primary types')\n",
    "# plt.yscale('log')\n",
    "plt.show()"
   ]
  },
  {
   "cell_type": "markdown",
   "id": "0be46d57-0758-4ae0-b274-ddb4130361f7",
   "metadata": {
    "papermill": {
     "duration": 0.068055,
     "end_time": "2023-02-19T18:55:56.279497",
     "exception": false,
     "start_time": "2023-02-19T18:55:56.211442",
     "status": "completed"
    },
    "tags": []
   },
   "source": [
    "#### By monster type"
   ]
  },
  {
   "cell_type": "code",
   "execution_count": null,
   "id": "d6db96fd-2340-4162-b6a1-55348e7653f4",
   "metadata": {
    "papermill": {
     "duration": 0.42467,
     "end_time": "2023-02-19T18:55:56.772080",
     "exception": false,
     "start_time": "2023-02-19T18:55:56.347410",
     "status": "completed"
    },
    "tags": []
   },
   "outputs": [],
   "source": [
    "monster_type_colors = colors_dict['Monster Card']\n",
    "rush_df[rush_df['Legend']]['Monster type'].value_counts().plot.bar(figsize = (18,6), grid = True, rot=0, color = monster_type_colors, title = 'Monster type')\n",
    "plt.show()"
   ]
  },
  {
   "cell_type": "markdown",
   "id": "7384cb37-3207-4eb4-842a-9b4d39f74eb1",
   "metadata": {
    "jp-MarkdownHeadingCollapsed": true,
    "papermill": {
     "duration": 0.07415,
     "end_time": "2023-02-19T18:55:56.915439",
     "exception": false,
     "start_time": "2023-02-19T18:55:56.841289",
     "status": "completed"
    },
    "tags": []
   },
   "source": [
    "## Artworks"
   ]
  },
  {
   "cell_type": "code",
   "execution_count": null,
   "id": "2224e061",
   "metadata": {
    "papermill": {
     "duration": 0.08032,
     "end_time": "2023-02-19T18:55:57.065671",
     "exception": false,
     "start_time": "2023-02-19T18:55:56.985351",
     "status": "completed"
    },
    "tags": []
   },
   "outputs": [],
   "source": [
    "print('Total number of cards with edited or alternate artworks:', rush_df['Artwork'].count())"
   ]
  },
  {
   "cell_type": "code",
   "execution_count": null,
   "id": "f7492a67",
   "metadata": {
    "papermill": {
     "duration": 0.127594,
     "end_time": "2023-02-19T18:55:57.262363",
     "exception": false,
     "start_time": "2023-02-19T18:55:57.134769",
     "status": "completed"
    },
    "tags": []
   },
   "outputs": [],
   "source": [
    "rush_df[['Name','Artwork']].dropna()"
   ]
  },
  {
   "cell_type": "code",
   "execution_count": null,
   "id": "fa1ea6aa",
   "metadata": {
    "papermill": {
     "duration": 0.246105,
     "end_time": "2023-02-19T18:55:57.588992",
     "exception": false,
     "start_time": "2023-02-19T18:55:57.342887",
     "status": "completed"
    },
    "tags": []
   },
   "outputs": [],
   "source": [
    "artwork_value_counts = rush_df['Artwork'].value_counts()\n",
    "plt.figure(figsize=(20,8))\n",
    "plt.title('Artworks')\n",
    "venn2(subsets = (artwork_value_counts[('Alternate',)], artwork_value_counts[('Edited',)],artwork_value_counts[('Alternate','Edited')]), set_labels = ('Alternate artwork', 'Edited artwork'))\n",
    "plt.show()"
   ]
  },
  {
   "cell_type": "markdown",
   "id": "4d4723fb-3289-4046-9674-97fc05562588",
   "metadata": {
    "papermill": {
     "duration": 0.253117,
     "end_time": "2023-02-19T18:55:57.925192",
     "exception": false,
     "start_time": "2023-02-19T18:55:57.672075",
     "status": "completed"
    },
    "tags": []
   },
   "source": [
    "### By card type"
   ]
  },
  {
   "cell_type": "code",
   "execution_count": null,
   "id": "1b14c224",
   "metadata": {
    "papermill": {
     "duration": 0.230304,
     "end_time": "2023-02-19T18:55:58.225524",
     "exception": false,
     "start_time": "2023-02-19T18:55:57.995220",
     "status": "completed"
    },
    "tags": []
   },
   "outputs": [],
   "source": [
    "artwork_crosstab = pd.crosstab(rush_df['Artwork'], rush_df['Card type'])\n",
    "artwork_crosstab"
   ]
  },
  {
   "cell_type": "markdown",
   "id": "cd278ab5-2602-4935-83ee-0f8d04139770",
   "metadata": {
    "papermill": {
     "duration": 0.07025,
     "end_time": "2023-02-19T18:55:58.367181",
     "exception": false,
     "start_time": "2023-02-19T18:55:58.296931",
     "status": "completed"
    },
    "tags": []
   },
   "source": [
    "### By primary type"
   ]
  },
  {
   "cell_type": "code",
   "execution_count": null,
   "id": "55081aa0",
   "metadata": {
    "papermill": {
     "duration": 0.116355,
     "end_time": "2023-02-19T18:55:58.595773",
     "exception": false,
     "start_time": "2023-02-19T18:55:58.479418",
     "status": "completed"
    },
    "tags": []
   },
   "outputs": [],
   "source": [
    "artwork_crosstab_b = pd.crosstab(rush_df['Artwork'], rush_df['Primary type'])\n",
    "artwork_crosstab_b"
   ]
  },
  {
   "cell_type": "markdown",
   "id": "c981a204-49eb-42f3-b713-ceb7d5f65d10",
   "metadata": {
    "papermill": {
     "duration": 0.241518,
     "end_time": "2023-02-19T18:55:58.940299",
     "exception": false,
     "start_time": "2023-02-19T18:55:58.698781",
     "status": "completed"
    },
    "tags": []
   },
   "source": [
    "More granularity is unnecessary"
   ]
  },
  {
   "cell_type": "markdown",
   "id": "cb773a63-3390-46ec-9581-2699cad489d0",
   "metadata": {
    "jp-MarkdownHeadingCollapsed": true,
    "papermill": {
     "duration": 0.072583,
     "end_time": "2023-02-19T18:55:59.085297",
     "exception": false,
     "start_time": "2023-02-19T18:55:59.012714",
     "status": "completed"
    },
    "tags": []
   },
   "source": [
    "## Errata"
   ]
  },
  {
   "cell_type": "code",
   "execution_count": null,
   "id": "09b33100",
   "metadata": {
    "papermill": {
     "duration": 0.084123,
     "end_time": "2023-02-19T18:55:59.240836",
     "exception": false,
     "start_time": "2023-02-19T18:55:59.156713",
     "status": "completed"
    },
    "tags": []
   },
   "outputs": [],
   "source": [
    "print('Total number of cards with errata:', rush_df['Errata'].count())"
   ]
  },
  {
   "cell_type": "code",
   "execution_count": null,
   "id": "40462eee",
   "metadata": {
    "papermill": {
     "duration": 0.099772,
     "end_time": "2023-02-19T18:55:59.411142",
     "exception": false,
     "start_time": "2023-02-19T18:55:59.311370",
     "status": "completed"
    },
    "tags": []
   },
   "outputs": [],
   "source": [
    "rush_df[['Name','Errata']].dropna()"
   ]
  },
  {
   "cell_type": "markdown",
   "id": "6dc9e131-7c84-4227-b438-773377e39bf4",
   "metadata": {
    "papermill": {
     "duration": 0.071825,
     "end_time": "2023-02-19T18:55:59.555290",
     "exception": false,
     "start_time": "2023-02-19T18:55:59.483465",
     "status": "completed"
    },
    "tags": []
   },
   "source": [
    "### By card type"
   ]
  },
  {
   "cell_type": "code",
   "execution_count": null,
   "id": "fb103c29",
   "metadata": {
    "papermill": {
     "duration": 0.098146,
     "end_time": "2023-02-19T18:55:59.724066",
     "exception": false,
     "start_time": "2023-02-19T18:55:59.625920",
     "status": "completed"
    },
    "tags": []
   },
   "outputs": [],
   "source": [
    "errata_crosstab = pd.crosstab(rush_df['Errata'], rush_df['Card type'])\n",
    "errata_crosstab"
   ]
  },
  {
   "cell_type": "markdown",
   "id": "edd51025-c854-4ba9-ade7-34928fad863a",
   "metadata": {
    "papermill": {
     "duration": 0.072254,
     "end_time": "2023-02-19T18:55:59.869147",
     "exception": false,
     "start_time": "2023-02-19T18:55:59.796893",
     "status": "completed"
    },
    "tags": []
   },
   "source": [
    "### By primary type"
   ]
  },
  {
   "cell_type": "code",
   "execution_count": null,
   "id": "5b90628d",
   "metadata": {
    "papermill": {
     "duration": 0.101641,
     "end_time": "2023-02-19T18:56:00.042309",
     "exception": false,
     "start_time": "2023-02-19T18:55:59.940668",
     "status": "completed"
    },
    "tags": []
   },
   "outputs": [],
   "source": [
    "errata_crosstab_b = pd.crosstab(rush_df['Errata'], rush_df['Primary type'])\n",
    "errata_crosstab_b"
   ]
  },
  {
   "cell_type": "markdown",
   "id": "15bd30db-5e91-46f1-9fa2-085c464f24b0",
   "metadata": {
    "papermill": {
     "duration": 0.072188,
     "end_time": "2023-02-19T18:56:00.185983",
     "exception": false,
     "start_time": "2023-02-19T18:56:00.113795",
     "status": "completed"
    },
    "tags": []
   },
   "source": [
    "### By artwork"
   ]
  },
  {
   "cell_type": "code",
   "execution_count": null,
   "id": "0057def3",
   "metadata": {
    "papermill": {
     "duration": 0.142274,
     "end_time": "2023-02-19T18:56:00.405386",
     "exception": false,
     "start_time": "2023-02-19T18:56:00.263112",
     "status": "completed"
    },
    "tags": []
   },
   "outputs": [],
   "source": [
    "errata_crosstab_c = pd.crosstab(rush_df['Artwork'], rush_df['Errata'])\n",
    "errata_crosstab_c"
   ]
  },
  {
   "cell_type": "markdown",
   "id": "092fb537-d487-46ae-9fc7-92a6082d3d95",
   "metadata": {
    "papermill": {
     "duration": 0.243361,
     "end_time": "2023-02-19T18:56:00.724452",
     "exception": false,
     "start_time": "2023-02-19T18:56:00.481091",
     "status": "completed"
    },
    "tags": []
   },
   "source": [
    "More granularity is unnecessary"
   ]
  },
  {
   "cell_type": "markdown",
   "id": "0d885c37-1f07-44af-9c60-2d0b5be3d1c1",
   "metadata": {
    "papermill": {
     "duration": 0.072373,
     "end_time": "2023-02-19T18:56:00.876913",
     "exception": false,
     "start_time": "2023-02-19T18:56:00.804540",
     "status": "completed"
    },
    "tags": []
   },
   "source": [
    "# Epilogue"
   ]
  },
  {
   "cell_type": "code",
   "execution_count": null,
   "id": "dbe203e9-01c7-4e24-ba21-3f1d1adefc7b",
   "metadata": {
    "papermill": {
     "duration": 0.091556,
     "end_time": "2023-02-19T18:56:01.043549",
     "exception": false,
     "start_time": "2023-02-19T18:56:00.951993",
     "status": "completed"
    },
    "tags": []
   },
   "outputs": [],
   "source": [
    "benchmark('rush',timestamp)"
   ]
  },
  {
   "cell_type": "code",
   "execution_count": null,
   "id": "8ba1a4e5-c217-4503-871a-c29e6d6d325d",
   "metadata": {
    "papermill": {
     "duration": 0.11351,
     "end_time": "2023-02-19T18:56:01.419115",
     "exception": false,
     "start_time": "2023-02-19T18:56:01.305605",
     "status": "completed"
    },
    "tags": []
   },
   "outputs": [],
   "source": [
    "footer(timestamp)"
   ]
  },
  {
   "cell_type": "markdown",
   "id": "e9d01a2d-b954-4e6e-ba2c-d30cbbf5670e",
   "metadata": {
    "papermill": {
     "duration": 0.073003,
     "end_time": "2023-02-19T18:56:01.565975",
     "exception": false,
     "start_time": "2023-02-19T18:56:01.492972",
     "status": "completed"
    },
    "tags": []
   },
   "source": [
    "## HTML export"
   ]
  },
  {
   "cell_type": "code",
   "execution_count": null,
   "id": "3c939c45-1e4c-444a-93c9-d39c797c4946",
   "metadata": {
    "papermill": {
     "duration": 0.092407,
     "end_time": "2023-02-19T18:56:01.730911",
     "exception": false,
     "start_time": "2023-02-19T18:56:01.638504",
     "status": "completed"
    },
    "tags": []
   },
   "outputs": [],
   "source": [
    "# Save notebook on disck before generating HTML report\n",
    "save_notebook()"
   ]
  },
  {
   "cell_type": "code",
   "execution_count": null,
   "id": "7c071232-e7a7-4130-ab05-6331289df6f0",
   "metadata": {
    "papermill": {
     "duration": 3.229075,
     "end_time": "2023-02-19T18:56:05.032654",
     "exception": false,
     "start_time": "2023-02-19T18:56:01.803579",
     "status": "completed"
    },
    "tags": []
   },
   "outputs": [],
   "source": [
    "! jupyter nbconvert Rush.ipynb --output-dir='../' --to=HTML --TagRemovePreprocessor.enabled=True --TagRemovePreprocessor.remove_cell_tags='exclude' --TemplateExporter.exclude_input=True --TemplateExporter.exclude_input_prompt=True --TemplateExporter.exclude_output_prompt=True"
   ]
  },
  {
   "cell_type": "markdown",
   "id": "ca83b780-5172-40c2-a0de-ed7b5abc8dc1",
   "metadata": {
    "papermill": {
     "duration": 0.158053,
     "end_time": "2023-02-19T18:56:05.264304",
     "exception": false,
     "start_time": "2023-02-19T18:56:05.106251",
     "status": "completed"
    },
    "tags": [
     "exclude"
    ]
   },
   "source": [
    "## Git"
   ]
  },
  {
   "cell_type": "code",
   "execution_count": null,
   "id": "8706d855-ab53-49a9-9a7c-9a664a53e5a3",
   "metadata": {
    "papermill": {
     "duration": 0.483592,
     "end_time": "2023-02-19T18:56:05.825381",
     "exception": false,
     "start_time": "2023-02-19T18:56:05.341789",
     "status": "completed"
    },
    "tags": [
     "exclude"
    ]
   },
   "outputs": [],
   "source": [
    "! git add \"../*[Rr]ush*\""
   ]
  },
  {
   "cell_type": "code",
   "execution_count": null,
   "id": "1ef305d7-78a7-4649-920c-c0ca471ad3f8",
   "metadata": {
    "papermill": {
     "duration": 0.448254,
     "end_time": "2023-02-19T18:56:06.347385",
     "exception": false,
     "start_time": "2023-02-19T18:56:05.899131",
     "status": "completed"
    },
    "tags": [
     "exclude"
    ]
   },
   "outputs": [],
   "source": [
    "! git commit -m {\"'Rush duel update-\" + timestamp.isoformat() + \"'\"}"
   ]
  }
 ],
 "metadata": {
  "kernelspec": {
   "display_name": "Python 3 (ipykernel)",
   "language": "python",
   "name": "python3"
  },
  "language_info": {
   "codemirror_mode": {
    "name": "ipython",
    "version": 3
   },
   "file_extension": ".py",
   "mimetype": "text/x-python",
   "name": "python",
   "nbconvert_exporter": "python",
   "pygments_lexer": "ipython3",
   "version": "3.10.8"
  },
  "papermill": {
   "default_parameters": {},
   "duration": 100.049271,
   "end_time": "2023-02-19T18:56:07.246398",
   "environment_variables": {},
   "exception": null,
   "input_path": "Rush.ipynb",
   "output_path": "Rush.ipynb",
   "parameters": {},
   "start_time": "2023-02-19T18:54:27.197127",
   "version": "2.4.0"
  },
  "toc": {
   "base_numbering": 1,
   "nav_menu": {},
   "number_sections": true,
   "sideBar": true,
   "skip_h1_title": false,
   "title_cell": "Table of Contents",
   "title_sidebar": "Contents",
   "toc_cell": true,
   "toc_position": {},
   "toc_section_display": true,
   "toc_window_display": false
  }
 },
 "nbformat": 4,
 "nbformat_minor": 5
}
