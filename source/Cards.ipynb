{
 "cells": [
  {
   "cell_type": "code",
   "execution_count": null,
   "id": "82c61f6c-3c7a-4460-b466-9c521973fa5d",
   "metadata": {
    "papermill": {
     "duration": 2.361439,
     "end_time": "2023-11-10T23:39:32.347078",
     "exception": false,
     "start_time": "2023-11-10T23:39:29.985639",
     "status": "completed"
    },
    "tags": []
   },
   "outputs": [],
   "source": [
    "from yugiquery import *\n",
    "init_notebook_mode(all_interactive=True)\n",
    "\n",
    "header(\"Cards\")"
   ]
  },
  {
   "cell_type": "markdown",
   "id": "48cd2c04-37eb-408f-86ee-17e204a2cea9",
   "metadata": {
    "papermill": {
     "duration": 0.072659,
     "end_time": "2023-11-10T23:39:32.484274",
     "exception": false,
     "start_time": "2023-11-10T23:39:32.411615",
     "status": "completed"
    },
    "tags": []
   },
   "source": [
    "---"
   ]
  },
  {
   "cell_type": "markdown",
   "id": "6e66c226",
   "metadata": {
    "papermill": {
     "duration": 0.064049,
     "end_time": "2023-11-10T23:39:32.614085",
     "exception": false,
     "start_time": "2023-11-10T23:39:32.550036",
     "status": "completed"
    },
    "tags": [],
    "toc": true
   },
   "source": [
    "Table of Contents\n",
    "=================\n",
    "\n",
    "*   [1  Data aquisition](#Data-aquisition)\n",
    "    *   [1.1  Fetch online data](#Fetch-online-data)\n",
    "    *   [1.2  Merge data](#Merge-data)\n",
    "*   [2  Check changes](#Check-changes)\n",
    "    *   [2.1  Load previous data](#Load-previous-data)\n",
    "    *   [2.2  Generate changelog](#Generate-changelog)\n",
    "    *   [2.3  Save data](#Save-data)\n",
    "*   [3  Data visualization](#Data-visualization)\n",
    "    *   [3.1  Full data](#Full-data)\n",
    "    *   [3.2  Card types](#Card-types)\n",
    "    *   [3.3  Monsters](#Monsters)\n",
    "        *   [3.3.1  Attributes](#Attributes)\n",
    "        *   [3.3.2  Primary types](#Primary-types)\n",
    "            *   [3.3.2.1  Has effect discrimination](#Has-effect-discrimination)\n",
    "            *   [3.3.2.2  Is pendulum discrimination](#Is-pendulum-discrimination)\n",
    "            *   [3.3.2.3  By attribute](#By-attribute)\n",
    "        *   [3.3.3  Secondary types](#Secondary-types)\n",
    "            *   [3.3.3.1  By attribute](#By-attribute)\n",
    "            *   [3.3.3.2  By secondary type](#By-secondary-type)\n",
    "        *   [3.3.4  Monster types](#Monster-types)\n",
    "            *   [3.3.4.1  By Attribute](#By-Attribute)\n",
    "            *   [3.3.4.2  By primary type](#By-primary-type)\n",
    "            *   [3.3.4.3  By secondary type](#By-secondary-type)\n",
    "        *   [3.3.5  Effect type](#Effect-type)\n",
    "        *   [3.3.6  ATK](#ATK)\n",
    "        *   [3.3.7  DEF](#DEF)\n",
    "        *   [3.3.8  Level/Rank](#Level/Rank)\n",
    "            *   [3.3.8.1  ATK statistics](#ATK-statistics)\n",
    "            *   [3.3.8.2  DEF statistics](#DEF-statistics)\n",
    "        *   [3.3.9  Pendulum scale](#Pendulum-scale)\n",
    "            *   [3.3.9.1  ATK statistics](#ATK-statistics)\n",
    "            *   [3.3.9.2  DEF statistics](#DEF-statistics)\n",
    "            *   [3.3.9.3  Level/Rank statistics](#Level/Rank-statistics)\n",
    "        *   [3.3.10  Link](#Link)\n",
    "            *   [3.3.10.1  ATK statistics](#ATK-statistics)\n",
    "        *   [3.3.11  Link Arrows](#Link-Arrows)\n",
    "            *   [3.3.11.1  By combination](#By-combination)\n",
    "            *   [3.3.11.2  By unique](#By-unique)\n",
    "            *   [3.3.11.3  By link](#By-link)\n",
    "    *   [3.4  Spell & Trap](#Spell-&-Trap)\n",
    "        *   [3.4.1  Properties](#Properties)\n",
    "        *   [3.4.2  Effect type](#Effect-type)\n",
    "            *   [3.4.2.1  Spell & Trap discrimination](#Spell-&-Trap-discrimination)\n",
    "    *   [3.5  Archseries](#Archseries)\n",
    "        *   [3.5.1  By card type](#By-card-type)\n",
    "        *   [3.5.2  By primary type](#By-primary-type)\n",
    "        *   [3.5.3  By secondary type](#By-secondary-type)\n",
    "        *   [3.5.4  By monster type](#By-monster-type)\n",
    "        *   [3.5.5  By property](#By-property)\n",
    "    *   [3.6  Artworks](#Artworks)\n",
    "        *   [3.6.1  By card type](#By-card-type)\n",
    "        *   [3.6.2  By primary type](#By-primary-type)\n",
    "    *   [3.7  Errata](#Errata)\n",
    "        *   [3.7.1  By card type](#By-card-type)\n",
    "        *   [3.7.2  By primary type](#By-primary-type)\n",
    "        *   [3.7.3  By artwork](#By-artwork)\n",
    "    *   [3.8  TCG & OCG status](#TCG-&-OCG-status)\n",
    "        *   [3.8.1  TGC status](#TGC-status)\n",
    "            *   [3.8.1.1  By card type](#By-card-type)\n",
    "            *   [3.8.1.2  By monster type](#By-monster-type)\n",
    "            *   [3.8.1.3  By archseries](#By-archseries)\n",
    "        *   [3.8.2  OCG status](#OCG-status)\n",
    "            *   [3.8.2.1  By card type](#By-card-type)\n",
    "            *   [3.8.2.2  By monster type](#By-monster-type)\n",
    "            *   [3.8.2.3  By archseries](#By-archseries)\n",
    "        *   [3.8.3  TCG vs. OCG status](#TCG-vs.-OCG-status)\n",
    "*   [4  Extras](#Extras)\n",
    "    *   [4.1 Multiple secondary types](#Multiple-secondary-types)\n",
    "    *   [4.2 Not yet released](#Not-yet-released)\n",
    "    *   [4.3 Counters and Tokens](#Counters-and-Tokens)\n",
    "*   [5  Epilogue](#Epilogue)\n",
    "    *   [5.1  HTML export](#HTML-export)\n",
    "<!-- *   [5.2  Git](#Git) -->"
   ]
  },
  {
   "cell_type": "markdown",
   "id": "b60fae74",
   "metadata": {
    "papermill": {
     "duration": 0.101431,
     "end_time": "2023-11-10T23:39:32.966126",
     "exception": false,
     "start_time": "2023-11-10T23:39:32.864695",
     "status": "completed"
    },
    "tags": []
   },
   "source": [
    "# Data aquisition"
   ]
  },
  {
   "cell_type": "markdown",
   "id": "699f2460",
   "metadata": {
    "papermill": {
     "duration": 0.065205,
     "end_time": "2023-11-10T23:39:33.096524",
     "exception": false,
     "start_time": "2023-11-10T23:39:33.031319",
     "status": "completed"
    },
    "tags": []
   },
   "source": [
    "## Fetch online data"
   ]
  },
  {
   "cell_type": "code",
   "execution_count": null,
   "id": "135ab538",
   "metadata": {
    "papermill": {
     "duration": 0.075127,
     "end_time": "2023-11-10T23:39:33.236366",
     "exception": false,
     "start_time": "2023-11-10T23:39:33.161239",
     "status": "completed"
    },
    "tags": []
   },
   "outputs": [],
   "source": [
    "# Timestamp\n",
    "timestamp = pd.Timestamp.now()"
   ]
  },
  {
   "cell_type": "code",
   "execution_count": null,
   "id": "a5ac8487-bb9d-472c-857a-409b7eed3e2c",
   "metadata": {
    "papermill": {
     "duration": 65.157712,
     "end_time": "2023-11-10T23:40:38.459518",
     "exception": false,
     "start_time": "2023-11-10T23:39:33.301806",
     "status": "completed"
    },
    "tags": []
   },
   "outputs": [],
   "source": [
    "# Fetch Monster\n",
    "monster_df = fetch_monster()"
   ]
  },
  {
   "cell_type": "code",
   "execution_count": null,
   "id": "f62e94af-db1f-4ba5-9a7c-979b919625f3",
   "metadata": {
    "papermill": {
     "duration": 25.61075,
     "end_time": "2023-11-10T23:41:04.173136",
     "exception": false,
     "start_time": "2023-11-10T23:40:38.562386",
     "status": "completed"
    },
    "tags": []
   },
   "outputs": [],
   "source": [
    "# Fetch Spell\n",
    "spell_df = fetch_st(st=\"Spell\")\n",
    "\n",
    "# Fetch Trap\n",
    "trap_df = fetch_st(st=\"Trap\")"
   ]
  },
  {
   "cell_type": "code",
   "execution_count": null,
   "id": "913baa55-a117-4794-9b0c-9839cce927df",
   "metadata": {
    "papermill": {
     "duration": 4.887606,
     "end_time": "2023-11-10T23:41:09.127503",
     "exception": false,
     "start_time": "2023-11-10T23:41:04.239897",
     "status": "completed"
    },
    "tags": []
   },
   "outputs": [],
   "source": [
    "# Fetch Token\n",
    "token_df = fetch_token()\n",
    "\n",
    "# Fetch Counter\n",
    "counter_df = fetch_counter()\n",
    "\n",
    "# Fetch errata\n",
    "errata_df = fetch_errata()"
   ]
  },
  {
   "cell_type": "markdown",
   "id": "ffe04a8e-544d-4e73-947d-de6d5615bca3",
   "metadata": {
    "papermill": {
     "duration": 0.075443,
     "end_time": "2023-11-10T23:41:09.270911",
     "exception": false,
     "start_time": "2023-11-10T23:41:09.195468",
     "status": "completed"
    },
    "tags": []
   },
   "source": [
    "## Merge data"
   ]
  },
  {
   "cell_type": "code",
   "execution_count": null,
   "id": "3669c6ff-2f6a-4a09-b80c-0cf361caf929",
   "metadata": {
    "papermill": {
     "duration": 0.864829,
     "end_time": "2023-11-10T23:41:10.202856",
     "exception": false,
     "start_time": "2023-11-10T23:41:09.338027",
     "status": "completed"
    },
    "tags": []
   },
   "outputs": [],
   "source": [
    "# Merge errata\n",
    "monster_df = merge_errata(monster_df, errata_df)\n",
    "spell_df = merge_errata(spell_df, errata_df)\n",
    "trap_df = merge_errata(trap_df, errata_df)\n",
    "token_df = merge_errata(token_df, errata_df)\n",
    "counter_df = merge_errata(counter_df, errata_df)\n",
    "\n",
    "# Add counters to tokens data frame\n",
    "token_df = (\n",
    "    pd.concat([token_df, counter_df], ignore_index=True, axis=0)\n",
    "    .drop_duplicates()\n",
    "    .sort_values(\"Name\", ignore_index=True)\n",
    ")\n",
    "\n",
    "# Create combined spell and trap data frame\n",
    "st_df = pd.concat([spell_df, trap_df], ignore_index=True, axis=0).sort_values(\n",
    "    \"Name\", ignore_index=True\n",
    ")\n",
    "\n",
    "# Create combined monster, spell and trap data frames\n",
    "cards_df = pd.concat([st_df, monster_df], ignore_index=True, axis=0).sort_values(\n",
    "    \"Name\", ignore_index=True\n",
    ")\n",
    "\n",
    "# Create combined data frames with full data\n",
    "full_df = pd.concat([cards_df, token_df], ignore_index=True, axis=0).sort_values(\n",
    "    \"Name\", ignore_index=True\n",
    ")\n",
    "\n",
    "print(\"Data merged\")"
   ]
  },
  {
   "cell_type": "markdown",
   "id": "9ff0cf51",
   "metadata": {
    "papermill": {
     "duration": 0.073961,
     "end_time": "2023-11-10T23:41:10.344695",
     "exception": false,
     "start_time": "2023-11-10T23:41:10.270734",
     "status": "completed"
    },
    "tags": []
   },
   "source": [
    "# Check changes"
   ]
  },
  {
   "cell_type": "markdown",
   "id": "233e965d",
   "metadata": {
    "papermill": {
     "duration": 0.066675,
     "end_time": "2023-11-10T23:41:10.478626",
     "exception": false,
     "start_time": "2023-11-10T23:41:10.411951",
     "status": "completed"
    },
    "tags": []
   },
   "source": [
    "## Load previous data"
   ]
  },
  {
   "cell_type": "code",
   "execution_count": null,
   "id": "fb7dc6f8",
   "metadata": {
    "papermill": {
     "duration": 0.796822,
     "end_time": "2023-11-10T23:41:11.342394",
     "exception": false,
     "start_time": "2023-11-10T23:41:10.545572",
     "status": "completed"
    },
    "tags": []
   },
   "outputs": [],
   "source": [
    "# Get list of files\n",
    "files_list = sorted(\n",
    "    glob.glob(\"../data/all_cards_*.bz2\"), key=os.path.getctime, reverse=True\n",
    ")\n",
    "# Get second newest file if exist\n",
    "if files_list:\n",
    "    latest_file = files_list[0]\n",
    "    # Load csv avoiding converting \"NA\" to NaN\n",
    "    previous_df = pd.read_csv(\n",
    "        latest_file, dtype=object, keep_default_na=False, na_values=[\"\"]\n",
    "    )\n",
    "    # Correct tuples\n",
    "    tuple_cols = [\n",
    "        \"Effect type\",\n",
    "        \"Secondary type\",\n",
    "        \"Link Arrows\",\n",
    "        \"Archseries\",\n",
    "        \"Artwork\",\n",
    "        \"Errata\",\n",
    "    ]\n",
    "    for col in tuple_cols:\n",
    "        previous_df[col] = previous_df[col].dropna().apply(literal_eval)\n",
    "    # Force dtypes to match current df\n",
    "    previous_df = previous_df.astype(\n",
    "        full_df[previous_df.columns.intersection(full_df.columns)].dtypes.to_dict()\n",
    "    )\n",
    "    previous_ts = pd.to_datetime(\n",
    "        os.path.basename(latest_file).split(\"_\")[-1].split(\".bz2\")[0]\n",
    "    )\n",
    "    print(\"File loaded\")\n",
    "else:\n",
    "    previous_df = None\n",
    "    print(\"No older files\")"
   ]
  },
  {
   "cell_type": "markdown",
   "id": "96ce5451",
   "metadata": {
    "papermill": {
     "duration": 0.067381,
     "end_time": "2023-11-10T23:41:11.477151",
     "exception": false,
     "start_time": "2023-11-10T23:41:11.409770",
     "status": "completed"
    },
    "tags": []
   },
   "source": [
    "## Generate changelog"
   ]
  },
  {
   "cell_type": "code",
   "execution_count": null,
   "id": "2fcca8f1",
   "metadata": {
    "papermill": {
     "duration": 0.449045,
     "end_time": "2023-11-10T23:41:11.994056",
     "exception": false,
     "start_time": "2023-11-10T23:41:11.545011",
     "status": "completed"
    },
    "tags": []
   },
   "outputs": [],
   "source": [
    "if previous_df is None:\n",
    "    changelog = None\n",
    "    print(\"Skipped\")\n",
    "else:\n",
    "    changelog = generate_changelog(previous_df, full_df, col=\"Name\")\n",
    "    if not changelog.empty:\n",
    "        display(changelog)\n",
    "        changelog.to_csv(\n",
    "            f'../data/cards_changelog_{previous_ts.isoformat(timespec=\"minutes\")}_{timestamp.isoformat(timespec=\"minutes\")}.bz2',\n",
    "            index=True,\n",
    "        )\n",
    "        print(\"Changelog saved\")"
   ]
  },
  {
   "cell_type": "markdown",
   "id": "9b15f8ec",
   "metadata": {
    "papermill": {
     "duration": 0.067649,
     "end_time": "2023-11-10T23:41:12.129845",
     "exception": false,
     "start_time": "2023-11-10T23:41:12.062196",
     "status": "completed"
    },
    "tags": []
   },
   "source": [
    "## Save data"
   ]
  },
  {
   "cell_type": "code",
   "execution_count": null,
   "id": "01e9eb77",
   "metadata": {
    "papermill": {
     "duration": 0.791014,
     "end_time": "2023-11-10T23:41:12.988823",
     "exception": false,
     "start_time": "2023-11-10T23:41:12.197809",
     "status": "completed"
    },
    "tags": []
   },
   "outputs": [],
   "source": [
    "if changelog is not None and changelog.empty:\n",
    "    print(\"No changes. New data not saved\")\n",
    "else:\n",
    "    full_df.to_csv(\n",
    "        f'../data/all_cards_{timestamp.isoformat(timespec=\"minutes\")}.bz2', index=False\n",
    "    )\n",
    "    print(\"Data saved\")"
   ]
  },
  {
   "cell_type": "markdown",
   "id": "c0ae1017",
   "metadata": {
    "papermill": {
     "duration": 0.068441,
     "end_time": "2023-11-10T23:41:13.125248",
     "exception": false,
     "start_time": "2023-11-10T23:41:13.056807",
     "status": "completed"
    },
    "tags": []
   },
   "source": [
    "# Data visualization"
   ]
  },
  {
   "cell_type": "markdown",
   "id": "5ad091af",
   "metadata": {
    "jp-MarkdownHeadingCollapsed": true,
    "papermill": {
     "duration": 0.067442,
     "end_time": "2023-11-10T23:41:13.261053",
     "exception": false,
     "start_time": "2023-11-10T23:41:13.193611",
     "status": "completed"
    },
    "tags": []
   },
   "source": [
    "## Full data"
   ]
  },
  {
   "cell_type": "code",
   "execution_count": null,
   "id": "fb024043",
   "metadata": {
    "papermill": {
     "duration": 0.316089,
     "end_time": "2023-11-10T23:41:13.645507",
     "exception": false,
     "start_time": "2023-11-10T23:41:13.329418",
     "status": "completed"
    },
    "tags": []
   },
   "outputs": [],
   "source": [
    "full_df"
   ]
  },
  {
   "cell_type": "markdown",
   "id": "da99ccde-ca38-4d81-8661-6f8514f689d7",
   "metadata": {
    "papermill": {
     "duration": 0.070589,
     "end_time": "2023-11-10T23:41:13.787727",
     "exception": false,
     "start_time": "2023-11-10T23:41:13.717138",
     "status": "completed"
    },
    "tags": []
   },
   "source": [
    "Full data available to download [here](../data)"
   ]
  },
  {
   "cell_type": "markdown",
   "id": "8a8cb7cd",
   "metadata": {
    "jp-MarkdownHeadingCollapsed": true,
    "papermill": {
     "duration": 0.073308,
     "end_time": "2023-11-10T23:41:13.948221",
     "exception": false,
     "start_time": "2023-11-10T23:41:13.874913",
     "status": "completed"
    },
    "tags": []
   },
   "source": [
    "## Card types"
   ]
  },
  {
   "cell_type": "code",
   "execution_count": null,
   "id": "a4ec32e1",
   "metadata": {
    "papermill": {
     "duration": 0.23071,
     "end_time": "2023-11-10T23:41:14.275636",
     "exception": false,
     "start_time": "2023-11-10T23:41:14.044926",
     "status": "completed"
    },
    "tags": []
   },
   "outputs": [],
   "source": [
    "print(\"Total number of card types:\", cards_df[\"Card type\"].nunique())"
   ]
  },
  {
   "cell_type": "code",
   "execution_count": null,
   "id": "120a72dc",
   "metadata": {
    "papermill": {
     "duration": 0.476662,
     "end_time": "2023-11-10T23:41:14.874662",
     "exception": false,
     "start_time": "2023-11-10T23:41:14.398000",
     "status": "completed"
    },
    "tags": []
   },
   "outputs": [],
   "source": [
    "card_type_colors = [colors_dict[i] for i in full_df[\"Card type\"].value_counts().index]\n",
    "cards_df[\"Card type\"].value_counts().plot.bar(\n",
    "    figsize=(18, 6), grid=True, rot=0, color=card_type_colors, title=\"Card type\"\n",
    ")\n",
    "plt.show()"
   ]
  },
  {
   "cell_type": "markdown",
   "id": "fa1ed03c",
   "metadata": {
    "papermill": {
     "duration": 0.072425,
     "end_time": "2023-11-10T23:41:15.018372",
     "exception": false,
     "start_time": "2023-11-10T23:41:14.945947",
     "status": "completed"
    },
    "tags": []
   },
   "source": [
    "## Monsters"
   ]
  },
  {
   "cell_type": "markdown",
   "id": "66c5f658",
   "metadata": {
    "papermill": {
     "duration": 0.07136,
     "end_time": "2023-11-10T23:41:15.161113",
     "exception": false,
     "start_time": "2023-11-10T23:41:15.089753",
     "status": "completed"
    },
    "tags": []
   },
   "source": [
    "### Attributes"
   ]
  },
  {
   "cell_type": "code",
   "execution_count": null,
   "id": "aa4e6a26",
   "metadata": {
    "papermill": {
     "duration": 0.086519,
     "end_time": "2023-11-10T23:41:15.319700",
     "exception": false,
     "start_time": "2023-11-10T23:41:15.233181",
     "status": "completed"
    },
    "tags": []
   },
   "outputs": [],
   "source": [
    "print(\"Total number of attributes:\", monster_df[\"Attribute\"].nunique())"
   ]
  },
  {
   "cell_type": "code",
   "execution_count": null,
   "id": "ea26720e",
   "metadata": {
    "papermill": {
     "duration": 0.162392,
     "end_time": "2023-11-10T23:41:15.567846",
     "exception": false,
     "start_time": "2023-11-10T23:41:15.405454",
     "status": "completed"
    },
    "tags": []
   },
   "outputs": [],
   "source": [
    "monster_df.drop(columns=[\"Card type\", \"Page name\", \"Page URL\"]).groupby(\n",
    "    \"Attribute\"\n",
    ").nunique()"
   ]
  },
  {
   "cell_type": "code",
   "execution_count": null,
   "id": "c4ff5f74",
   "metadata": {
    "papermill": {
     "duration": 0.41193,
     "end_time": "2023-11-10T23:41:16.054273",
     "exception": false,
     "start_time": "2023-11-10T23:41:15.642343",
     "status": "completed"
    },
    "tags": []
   },
   "outputs": [],
   "source": [
    "attribute_colors = [\n",
    "    colors_dict[i] for i in monster_df[\"Attribute\"].value_counts().index\n",
    "]\n",
    "monster_df[\"Attribute\"].value_counts().plot.bar(\n",
    "    figsize=(18, 6), grid=True, rot=0, color=attribute_colors, title=\"Attribute\"\n",
    ")\n",
    "plt.show()"
   ]
  },
  {
   "cell_type": "markdown",
   "id": "d0d71936",
   "metadata": {
    "papermill": {
     "duration": 0.073145,
     "end_time": "2023-11-10T23:41:16.201077",
     "exception": false,
     "start_time": "2023-11-10T23:41:16.127932",
     "status": "completed"
    },
    "tags": []
   },
   "source": [
    "### Primary types"
   ]
  },
  {
   "cell_type": "code",
   "execution_count": null,
   "id": "26e45412",
   "metadata": {
    "papermill": {
     "duration": 0.089384,
     "end_time": "2023-11-10T23:41:16.364714",
     "exception": false,
     "start_time": "2023-11-10T23:41:16.275330",
     "status": "completed"
    },
    "tags": []
   },
   "outputs": [],
   "source": [
    "print(\"Total number of primary types:\", monster_df[\"Primary type\"].nunique())"
   ]
  },
  {
   "cell_type": "code",
   "execution_count": null,
   "id": "c7e4c6b0",
   "metadata": {
    "papermill": {
     "duration": 0.167591,
     "end_time": "2023-11-10T23:41:16.605644",
     "exception": false,
     "start_time": "2023-11-10T23:41:16.438053",
     "status": "completed"
    },
    "tags": []
   },
   "outputs": [],
   "source": [
    "monster_df.drop(columns=[\"Card type\", \"Page name\", \"Page URL\"]).groupby(\n",
    "    \"Primary type\"\n",
    ").nunique()"
   ]
  },
  {
   "cell_type": "markdown",
   "id": "d41d8e4a",
   "metadata": {
    "papermill": {
     "duration": 0.073778,
     "end_time": "2023-11-10T23:41:16.753975",
     "exception": false,
     "start_time": "2023-11-10T23:41:16.680197",
     "status": "completed"
    },
    "tags": []
   },
   "source": [
    "#### Has effect discrimination"
   ]
  },
  {
   "cell_type": "code",
   "execution_count": null,
   "id": "c14a59a2-0a34-4a99-a232-b04231647db5",
   "metadata": {
    "papermill": {
     "duration": 0.104012,
     "end_time": "2023-11-10T23:41:16.933264",
     "exception": false,
     "start_time": "2023-11-10T23:41:16.829252",
     "status": "completed"
    },
    "tags": []
   },
   "outputs": [],
   "source": [
    "effect = pd.crosstab(\n",
    "    monster_df[\"Primary type\"],\n",
    "    pd.isna(monster_df[\"Effect type\"]),\n",
    "    rownames=[\"Primary type\"],\n",
    "    colnames=[\"Has effect\"],\n",
    ").rename(columns={True: \"No Effect\", False: \"Effect\"})\n",
    "effect"
   ]
  },
  {
   "cell_type": "code",
   "execution_count": null,
   "id": "82c24448",
   "metadata": {
    "papermill": {
     "duration": 0.359764,
     "end_time": "2023-11-10T23:41:17.368554",
     "exception": false,
     "start_time": "2023-11-10T23:41:17.008790",
     "status": "completed"
    },
    "tags": []
   },
   "outputs": [],
   "source": [
    "monster_type_colors = {\n",
    "    \"No Effect\": colors_dict[\"Normal Monster\"],\n",
    "    \"Effect\": [colors_dict[i] for i in effect.index],\n",
    "}\n",
    "effect.plot.bar(\n",
    "    figsize=(18, 6),\n",
    "    stacked=True,\n",
    "    grid=True,\n",
    "    rot=0,\n",
    "    legend=True,\n",
    "    color=monster_type_colors,\n",
    ")\n",
    "# plt.yscale('log')\n",
    "plt.show()"
   ]
  },
  {
   "cell_type": "markdown",
   "id": "69d8824e",
   "metadata": {
    "papermill": {
     "duration": 0.117574,
     "end_time": "2023-11-10T23:41:17.560986",
     "exception": false,
     "start_time": "2023-11-10T23:41:17.443412",
     "status": "completed"
    },
    "tags": []
   },
   "source": [
    "Obs: Normal monster can have effect if it is pendulum"
   ]
  },
  {
   "cell_type": "markdown",
   "id": "1da2968f",
   "metadata": {
    "papermill": {
     "duration": 0.07458,
     "end_time": "2023-11-10T23:41:17.719253",
     "exception": false,
     "start_time": "2023-11-10T23:41:17.644673",
     "status": "completed"
    },
    "tags": []
   },
   "source": [
    "#### Is pendulum discrimination"
   ]
  },
  {
   "cell_type": "code",
   "execution_count": null,
   "id": "c18ac7a6",
   "metadata": {
    "papermill": {
     "duration": 0.104327,
     "end_time": "2023-11-10T23:41:17.899002",
     "exception": false,
     "start_time": "2023-11-10T23:41:17.794675",
     "status": "completed"
    },
    "tags": []
   },
   "outputs": [],
   "source": [
    "pendulum = pd.crosstab(\n",
    "    monster_df[\"Primary type\"],\n",
    "    pd.isna(monster_df[\"Pendulum Scale\"]),\n",
    "    rownames=[\"Primary type\"],\n",
    "    colnames=[\"Is Pendulum\"],\n",
    ").rename(columns={True: \"Not Pendulum\", False: \"Pendulum\"})\n",
    "pendulum"
   ]
  },
  {
   "cell_type": "code",
   "execution_count": null,
   "id": "fd0ff75c",
   "metadata": {
    "papermill": {
     "duration": 0.448911,
     "end_time": "2023-11-10T23:41:18.423473",
     "exception": false,
     "start_time": "2023-11-10T23:41:17.974562",
     "status": "completed"
    },
    "tags": []
   },
   "outputs": [],
   "source": [
    "monster_type_colors_b = {\n",
    "    \"Pendulum\": colors_dict[\"Pendulum Monster\"],\n",
    "    \"Not Pendulum\": [colors_dict[i] for i in pendulum.index],\n",
    "}\n",
    "pendulum.plot.bar(\n",
    "    figsize=(18, 6),\n",
    "    stacked=True,\n",
    "    grid=True,\n",
    "    rot=0,\n",
    "    color=monster_type_colors_b,\n",
    "    legend=True,\n",
    "    title=\"Primary types - Is pendulum\",\n",
    ")\n",
    "plt.show()"
   ]
  },
  {
   "cell_type": "markdown",
   "id": "a6a4f4f5",
   "metadata": {
    "papermill": {
     "duration": 0.076141,
     "end_time": "2023-11-10T23:41:18.578320",
     "exception": false,
     "start_time": "2023-11-10T23:41:18.502179",
     "status": "completed"
    },
    "tags": []
   },
   "source": [
    "#### By attribute"
   ]
  },
  {
   "cell_type": "code",
   "execution_count": null,
   "id": "9c162519",
   "metadata": {
    "papermill": {
     "duration": 0.118102,
     "end_time": "2023-11-10T23:41:18.772603",
     "exception": false,
     "start_time": "2023-11-10T23:41:18.654501",
     "status": "completed"
    },
    "tags": []
   },
   "outputs": [],
   "source": [
    "primmary_crosstab = pd.crosstab(cards_df[\"Primary type\"], cards_df[\"Attribute\"])\n",
    "primmary_crosstab"
   ]
  },
  {
   "cell_type": "code",
   "execution_count": null,
   "id": "a0114f45",
   "metadata": {
    "papermill": {
     "duration": 0.943267,
     "end_time": "2023-11-10T23:41:19.791956",
     "exception": false,
     "start_time": "2023-11-10T23:41:18.848689",
     "status": "completed"
    },
    "tags": []
   },
   "outputs": [],
   "source": [
    "plt.figure(figsize=(16, 10))\n",
    "sns.heatmap(\n",
    "    primmary_crosstab.T,\n",
    "    annot=True,\n",
    "    fmt=\"g\",\n",
    "    cmap=\"viridis\",\n",
    "    square=True,\n",
    "    norm=mc.LogNorm(),\n",
    ")\n",
    "plt.show()"
   ]
  },
  {
   "cell_type": "markdown",
   "id": "0c70885e",
   "metadata": {
    "papermill": {
     "duration": 0.178632,
     "end_time": "2023-11-10T23:41:20.061728",
     "exception": false,
     "start_time": "2023-11-10T23:41:19.883096",
     "status": "completed"
    },
    "tags": []
   },
   "source": [
    "### Secondary types"
   ]
  },
  {
   "cell_type": "code",
   "execution_count": null,
   "id": "ee184462",
   "metadata": {
    "papermill": {
     "duration": 0.179301,
     "end_time": "2023-11-10T23:41:20.321599",
     "exception": false,
     "start_time": "2023-11-10T23:41:20.142298",
     "status": "completed"
    },
    "tags": []
   },
   "outputs": [],
   "source": [
    "exploded_secondary_type = monster_df.explode(\"Secondary type\")\n",
    "print(\n",
    "    \"Total number of secondary types:\",\n",
    "    exploded_secondary_type[\"Secondary type\"].nunique(),\n",
    ")"
   ]
  },
  {
   "cell_type": "code",
   "execution_count": null,
   "id": "125f438e",
   "metadata": {
    "papermill": {
     "duration": 0.40373,
     "end_time": "2023-11-10T23:41:20.803989",
     "exception": false,
     "start_time": "2023-11-10T23:41:20.400259",
     "status": "completed"
    },
    "tags": []
   },
   "outputs": [],
   "source": [
    "exploded_secondary_type.drop(\n",
    "    columns=[\"Card type\", \"Link\", \"Link Arrows\", \"Page name\", \"Page URL\"]\n",
    ").groupby(\"Secondary type\").nunique()"
   ]
  },
  {
   "cell_type": "code",
   "execution_count": null,
   "id": "a4fec827",
   "metadata": {
    "papermill": {
     "duration": 0.408647,
     "end_time": "2023-11-10T23:41:21.291783",
     "exception": false,
     "start_time": "2023-11-10T23:41:20.883136",
     "status": "completed"
    },
    "tags": []
   },
   "outputs": [],
   "source": [
    "secondary_type_colors = colors_dict[\"Effect Monster\"]\n",
    "exploded_secondary_type[\"Secondary type\"].value_counts().plot.bar(\n",
    "    figsize=(18, 6),\n",
    "    stacked=True,\n",
    "    grid=True,\n",
    "    rot=0,\n",
    "    color=secondary_type_colors,\n",
    "    legend=False,\n",
    "    title=\"Secondary type\",\n",
    ")\n",
    "plt.show()"
   ]
  },
  {
   "cell_type": "markdown",
   "id": "0420679a",
   "metadata": {
    "papermill": {
     "duration": 0.124753,
     "end_time": "2023-11-10T23:41:21.495186",
     "exception": false,
     "start_time": "2023-11-10T23:41:21.370433",
     "status": "completed"
    },
    "tags": []
   },
   "source": [
    "#### By attribute"
   ]
  },
  {
   "cell_type": "code",
   "execution_count": null,
   "id": "085225bb",
   "metadata": {
    "papermill": {
     "duration": 0.125873,
     "end_time": "2023-11-10T23:41:21.699355",
     "exception": false,
     "start_time": "2023-11-10T23:41:21.573482",
     "status": "completed"
    },
    "tags": []
   },
   "outputs": [],
   "source": [
    "secondary_crosstab = pd.crosstab(\n",
    "    exploded_secondary_type[\"Secondary type\"], exploded_secondary_type[\"Attribute\"]\n",
    ")\n",
    "secondary_crosstab"
   ]
  },
  {
   "cell_type": "code",
   "execution_count": null,
   "id": "b69fe297",
   "metadata": {
    "papermill": {
     "duration": 0.472313,
     "end_time": "2023-11-10T23:41:22.250013",
     "exception": false,
     "start_time": "2023-11-10T23:41:21.777700",
     "status": "completed"
    },
    "tags": []
   },
   "outputs": [],
   "source": [
    "plt.figure(figsize=(8, 6))\n",
    "sns.heatmap(\n",
    "    secondary_crosstab[secondary_crosstab > 0],\n",
    "    annot=True,\n",
    "    fmt=\"g\",\n",
    "    cmap=\"viridis\",\n",
    "    square=True,\n",
    ")\n",
    "plt.show()"
   ]
  },
  {
   "cell_type": "markdown",
   "id": "30b035c2",
   "metadata": {
    "papermill": {
     "duration": 0.079226,
     "end_time": "2023-11-10T23:41:22.408864",
     "exception": false,
     "start_time": "2023-11-10T23:41:22.329638",
     "status": "completed"
    },
    "tags": []
   },
   "source": [
    "#### By secondary type"
   ]
  },
  {
   "cell_type": "code",
   "execution_count": null,
   "id": "c8f08039",
   "metadata": {
    "papermill": {
     "duration": 0.138213,
     "end_time": "2023-11-10T23:41:22.626582",
     "exception": false,
     "start_time": "2023-11-10T23:41:22.488369",
     "status": "completed"
    },
    "tags": []
   },
   "outputs": [],
   "source": [
    "secondary_crosstab_b = pd.crosstab(\n",
    "    exploded_secondary_type[\"Primary type\"],\n",
    "    exploded_secondary_type[\"Secondary type\"],\n",
    "    margins=True,\n",
    ")\n",
    "secondary_crosstab_b"
   ]
  },
  {
   "cell_type": "code",
   "execution_count": null,
   "id": "4749ace2",
   "metadata": {
    "papermill": {
     "duration": 0.672351,
     "end_time": "2023-11-10T23:41:23.381796",
     "exception": false,
     "start_time": "2023-11-10T23:41:22.709445",
     "status": "completed"
    },
    "tags": []
   },
   "outputs": [],
   "source": [
    "plt.figure(figsize=(10, 7))\n",
    "sns.heatmap(\n",
    "    secondary_crosstab_b,\n",
    "    annot=True,\n",
    "    fmt=\"g\",\n",
    "    cmap=\"viridis\",\n",
    "    square=True,\n",
    "    norm=mc.LogNorm(),\n",
    ")\n",
    "plt.show()"
   ]
  },
  {
   "cell_type": "markdown",
   "id": "9682c65a",
   "metadata": {
    "papermill": {
     "duration": 0.080919,
     "end_time": "2023-11-10T23:41:23.543496",
     "exception": false,
     "start_time": "2023-11-10T23:41:23.462577",
     "status": "completed"
    },
    "tags": []
   },
   "source": [
    "### Monster types"
   ]
  },
  {
   "cell_type": "code",
   "execution_count": null,
   "id": "dab77100",
   "metadata": {
    "papermill": {
     "duration": 0.096342,
     "end_time": "2023-11-10T23:41:23.721768",
     "exception": false,
     "start_time": "2023-11-10T23:41:23.625426",
     "status": "completed"
    },
    "tags": []
   },
   "outputs": [],
   "source": [
    "print(\"Total number of monster types:\", monster_df[\"Monster type\"].nunique())"
   ]
  },
  {
   "cell_type": "code",
   "execution_count": null,
   "id": "02f5b750",
   "metadata": {
    "papermill": {
     "duration": 0.182844,
     "end_time": "2023-11-10T23:41:23.986166",
     "exception": false,
     "start_time": "2023-11-10T23:41:23.803322",
     "status": "completed"
    },
    "tags": []
   },
   "outputs": [],
   "source": [
    "monster_df.drop(columns=[\"Card type\", \"Page name\", \"Page URL\"]).groupby(\n",
    "    \"Monster type\"\n",
    ").nunique()"
   ]
  },
  {
   "cell_type": "code",
   "execution_count": null,
   "id": "75111774",
   "metadata": {
    "papermill": {
     "duration": 0.504272,
     "end_time": "2023-11-10T23:41:24.573734",
     "exception": false,
     "start_time": "2023-11-10T23:41:24.069462",
     "status": "completed"
    },
    "tags": []
   },
   "outputs": [],
   "source": [
    "monster_type_colors = colors_dict[\"Monster Card\"]\n",
    "monster_df[\"Monster type\"].value_counts().plot.bar(\n",
    "    figsize=(18, 6), grid=True, rot=45, color=monster_type_colors, title=\"Monster type\"\n",
    ")\n",
    "plt.show()"
   ]
  },
  {
   "cell_type": "markdown",
   "id": "32d282b7",
   "metadata": {
    "papermill": {
     "duration": 0.084326,
     "end_time": "2023-11-10T23:41:24.743012",
     "exception": false,
     "start_time": "2023-11-10T23:41:24.658686",
     "status": "completed"
    },
    "tags": []
   },
   "source": [
    "#### By Attribute"
   ]
  },
  {
   "cell_type": "code",
   "execution_count": null,
   "id": "23d29373",
   "metadata": {
    "papermill": {
     "duration": 0.126117,
     "end_time": "2023-11-10T23:41:24.952750",
     "exception": false,
     "start_time": "2023-11-10T23:41:24.826633",
     "status": "completed"
    },
    "tags": []
   },
   "outputs": [],
   "source": [
    "monster_crosstab = pd.crosstab(cards_df[\"Monster type\"], cards_df[\"Attribute\"])\n",
    "monster_crosstab"
   ]
  },
  {
   "cell_type": "code",
   "execution_count": null,
   "id": "fd9ca22d",
   "metadata": {
    "papermill": {
     "duration": 1.094032,
     "end_time": "2023-11-10T23:41:26.132118",
     "exception": false,
     "start_time": "2023-11-10T23:41:25.038086",
     "status": "completed"
    },
    "tags": []
   },
   "outputs": [],
   "source": [
    "plt.figure(figsize=(20, 5))\n",
    "sns.heatmap(\n",
    "    monster_crosstab[monster_crosstab > 0].T,\n",
    "    annot=True,\n",
    "    fmt=\"g\",\n",
    "    cmap=\"viridis\",\n",
    "    square=True,\n",
    "    norm=mc.LogNorm(),\n",
    ")\n",
    "plt.show()"
   ]
  },
  {
   "cell_type": "markdown",
   "id": "4daa9957",
   "metadata": {
    "papermill": {
     "duration": 0.271,
     "end_time": "2023-11-10T23:41:26.489806",
     "exception": false,
     "start_time": "2023-11-10T23:41:26.218806",
     "status": "completed"
    },
    "tags": []
   },
   "source": [
    "#### By primary type"
   ]
  },
  {
   "cell_type": "code",
   "execution_count": null,
   "id": "0f5d0eda",
   "metadata": {
    "papermill": {
     "duration": 0.134829,
     "end_time": "2023-11-10T23:41:26.941854",
     "exception": false,
     "start_time": "2023-11-10T23:41:26.807025",
     "status": "completed"
    },
    "tags": []
   },
   "outputs": [],
   "source": [
    "monster_crosstab_b = pd.crosstab(\n",
    "    cards_df[\"Monster type\"], cards_df[\"Primary type\"], dropna=False\n",
    ")\n",
    "monster_crosstab_b"
   ]
  },
  {
   "cell_type": "code",
   "execution_count": null,
   "id": "5f3b531c",
   "metadata": {
    "papermill": {
     "duration": 1.324222,
     "end_time": "2023-11-10T23:41:28.352461",
     "exception": false,
     "start_time": "2023-11-10T23:41:27.028239",
     "status": "completed"
    },
    "tags": []
   },
   "outputs": [],
   "source": [
    "plt.figure(figsize=(20, 5))\n",
    "sns.heatmap(\n",
    "    monster_crosstab_b[monster_crosstab_b > 0].T,\n",
    "    annot=True,\n",
    "    fmt=\"g\",\n",
    "    cmap=\"viridis\",\n",
    "    square=True,\n",
    "    norm=mc.LogNorm(),\n",
    ")\n",
    "plt.show()"
   ]
  },
  {
   "cell_type": "markdown",
   "id": "9056b880",
   "metadata": {
    "papermill": {
     "duration": 0.087791,
     "end_time": "2023-11-10T23:41:28.531968",
     "exception": false,
     "start_time": "2023-11-10T23:41:28.444177",
     "status": "completed"
    },
    "tags": []
   },
   "source": [
    "#### By secondary type"
   ]
  },
  {
   "cell_type": "code",
   "execution_count": null,
   "id": "cbe5bef6",
   "metadata": {
    "papermill": {
     "duration": 0.128121,
     "end_time": "2023-11-10T23:41:28.747912",
     "exception": false,
     "start_time": "2023-11-10T23:41:28.619791",
     "status": "completed"
    },
    "tags": []
   },
   "outputs": [],
   "source": [
    "monster_crosstab_c = pd.crosstab(\n",
    "    exploded_secondary_type[\"Monster type\"],\n",
    "    exploded_secondary_type[\"Secondary type\"],\n",
    "    dropna=False,\n",
    ")\n",
    "monster_crosstab_c"
   ]
  },
  {
   "cell_type": "code",
   "execution_count": null,
   "id": "3712cc0e",
   "metadata": {
    "papermill": {
     "duration": 1.067119,
     "end_time": "2023-11-10T23:41:29.902810",
     "exception": false,
     "start_time": "2023-11-10T23:41:28.835691",
     "status": "completed"
    },
    "tags": []
   },
   "outputs": [],
   "source": [
    "plt.figure(figsize=(20, 5))\n",
    "sns.heatmap(\n",
    "    monster_crosstab_c[monster_crosstab_c > 0].T,\n",
    "    annot=True,\n",
    "    fmt=\"g\",\n",
    "    cmap=\"viridis\",\n",
    "    square=True,\n",
    "    norm=mc.LogNorm(),\n",
    ")\n",
    "plt.show()"
   ]
  },
  {
   "cell_type": "markdown",
   "id": "aaf6f5d6",
   "metadata": {
    "papermill": {
     "duration": 0.089676,
     "end_time": "2023-11-10T23:41:30.082768",
     "exception": false,
     "start_time": "2023-11-10T23:41:29.993092",
     "status": "completed"
    },
    "tags": []
   },
   "source": [
    "### Effect type"
   ]
  },
  {
   "cell_type": "code",
   "execution_count": null,
   "id": "b44949a6",
   "metadata": {
    "papermill": {
     "duration": 0.127568,
     "end_time": "2023-11-10T23:41:30.300327",
     "exception": false,
     "start_time": "2023-11-10T23:41:30.172759",
     "status": "completed"
    },
    "tags": []
   },
   "outputs": [],
   "source": [
    "print(\"Total number of effect types:\", monster_df[\"Effect type\"].explode().nunique())"
   ]
  },
  {
   "cell_type": "code",
   "execution_count": null,
   "id": "c4e48718",
   "metadata": {
    "papermill": {
     "duration": 0.305449,
     "end_time": "2023-11-10T23:41:30.696385",
     "exception": false,
     "start_time": "2023-11-10T23:41:30.390936",
     "status": "completed"
    },
    "tags": []
   },
   "outputs": [],
   "source": [
    "monster_df[monster_df[\"Effect type\"].notna()].drop(\n",
    "    columns=[\"Card type\", \"Page name\", \"Page URL\"]\n",
    ").explode(\"Effect type\").groupby(\"Effect type\").nunique()"
   ]
  },
  {
   "cell_type": "code",
   "execution_count": null,
   "id": "ff912d52",
   "metadata": {
    "papermill": {
     "duration": 0.48195,
     "end_time": "2023-11-10T23:41:31.270913",
     "exception": false,
     "start_time": "2023-11-10T23:41:30.788963",
     "status": "completed"
    },
    "tags": []
   },
   "outputs": [],
   "source": [
    "monster_effect_colors = colors_dict[\"Effect Monster\"]\n",
    "monster_df[\"Effect type\"].explode(\"Effect type\").value_counts().plot.bar(\n",
    "    figsize=(18, 6), grid=True, color=monster_effect_colors, title=\"Effect type\"\n",
    ")\n",
    "# plt.yscale('log')\n",
    "plt.show()"
   ]
  },
  {
   "cell_type": "markdown",
   "id": "371f2c74",
   "metadata": {
    "papermill": {
     "duration": 0.091056,
     "end_time": "2023-11-10T23:41:31.453476",
     "exception": false,
     "start_time": "2023-11-10T23:41:31.362420",
     "status": "completed"
    },
    "tags": []
   },
   "source": [
    "### ATK"
   ]
  },
  {
   "cell_type": "code",
   "execution_count": null,
   "id": "1b5db865",
   "metadata": {
    "papermill": {
     "duration": 0.111695,
     "end_time": "2023-11-10T23:41:31.661365",
     "exception": false,
     "start_time": "2023-11-10T23:41:31.549670",
     "status": "completed"
    },
    "tags": []
   },
   "outputs": [],
   "source": [
    "print(\"Total number of ATK values:\", monster_df[\"ATK\"].nunique())"
   ]
  },
  {
   "cell_type": "code",
   "execution_count": null,
   "id": "16b9aa14",
   "metadata": {
    "papermill": {
     "duration": 0.196439,
     "end_time": "2023-11-10T23:41:31.957832",
     "exception": false,
     "start_time": "2023-11-10T23:41:31.761393",
     "status": "completed"
    },
    "tags": []
   },
   "outputs": [],
   "source": [
    "monster_df.drop(columns=[\"Card type\", \"Page name\", \"Page URL\"]).groupby(\n",
    "    \"ATK\"\n",
    ").nunique().sort_index(key=lambda x: pd.to_numeric(x, errors=\"coerce\"))"
   ]
  },
  {
   "cell_type": "code",
   "execution_count": null,
   "id": "3b1b2e1d",
   "metadata": {
    "papermill": {
     "duration": 1.269791,
     "end_time": "2023-11-10T23:41:33.321017",
     "exception": false,
     "start_time": "2023-11-10T23:41:32.051226",
     "status": "completed"
    },
    "tags": []
   },
   "outputs": [],
   "source": [
    "atk_colors = colors_dict[\"Monster Card\"]\n",
    "monster_df[\"ATK\"].value_counts().sort_index(\n",
    "    key=lambda x: pd.to_numeric(x, errors=\"coerce\")\n",
    ").plot.bar(figsize=(18, 6), grid=True, color=atk_colors, title=\"ATK\")\n",
    "plt.show()"
   ]
  },
  {
   "cell_type": "markdown",
   "id": "cda8b288",
   "metadata": {
    "papermill": {
     "duration": 0.091804,
     "end_time": "2023-11-10T23:41:33.505435",
     "exception": false,
     "start_time": "2023-11-10T23:41:33.413631",
     "status": "completed"
    },
    "tags": []
   },
   "source": [
    "### DEF"
   ]
  },
  {
   "cell_type": "code",
   "execution_count": null,
   "id": "2aa0ba61",
   "metadata": {
    "papermill": {
     "duration": 0.105937,
     "end_time": "2023-11-10T23:41:33.704613",
     "exception": false,
     "start_time": "2023-11-10T23:41:33.598676",
     "status": "completed"
    },
    "tags": []
   },
   "outputs": [],
   "source": [
    "print(\"Total number of DEF values:\", monster_df[\"DEF\"].nunique())"
   ]
  },
  {
   "cell_type": "code",
   "execution_count": null,
   "id": "54e9d56a",
   "metadata": {
    "papermill": {
     "duration": 0.199216,
     "end_time": "2023-11-10T23:41:33.996626",
     "exception": false,
     "start_time": "2023-11-10T23:41:33.797410",
     "status": "completed"
    },
    "tags": []
   },
   "outputs": [],
   "source": [
    "monster_df.drop(columns=[\"Card type\", \"Page name\", \"Page URL\"]).groupby(\n",
    "    \"DEF\"\n",
    ").nunique().sort_index(key=lambda x: pd.to_numeric(x, errors=\"coerce\"))"
   ]
  },
  {
   "cell_type": "code",
   "execution_count": null,
   "id": "10aeff48",
   "metadata": {
    "papermill": {
     "duration": 1.103119,
     "end_time": "2023-11-10T23:41:35.193842",
     "exception": false,
     "start_time": "2023-11-10T23:41:34.090723",
     "status": "completed"
    },
    "tags": []
   },
   "outputs": [],
   "source": [
    "def_colors = colors_dict[\"Monster Card\"]\n",
    "monster_df[\"DEF\"].value_counts().sort_index(\n",
    "    key=lambda x: pd.to_numeric(x, errors=\"coerce\")\n",
    ").plot.bar(figsize=(18, 6), grid=True, color=def_colors, title=\"DEF\")\n",
    "plt.show()"
   ]
  },
  {
   "cell_type": "markdown",
   "id": "4f26bf6d",
   "metadata": {
    "papermill": {
     "duration": 0.093915,
     "end_time": "2023-11-10T23:41:35.382433",
     "exception": false,
     "start_time": "2023-11-10T23:41:35.288518",
     "status": "completed"
    },
    "tags": []
   },
   "source": [
    "### Level/Rank"
   ]
  },
  {
   "cell_type": "code",
   "execution_count": null,
   "id": "f5543138",
   "metadata": {
    "papermill": {
     "duration": 0.189618,
     "end_time": "2023-11-10T23:41:35.667559",
     "exception": false,
     "start_time": "2023-11-10T23:41:35.477941",
     "status": "completed"
    },
    "tags": []
   },
   "outputs": [],
   "source": [
    "monster_df.drop(\n",
    "    columns=[\"Card type\", \"Link\", \"Link Arrows\", \"Page name\", \"Page URL\"]\n",
    ").groupby(\"Level/Rank\").nunique().sort_index(\n",
    "    key=lambda x: pd.to_numeric(x, errors=\"coerce\")\n",
    ")"
   ]
  },
  {
   "cell_type": "code",
   "execution_count": null,
   "id": "31539bdc",
   "metadata": {
    "papermill": {
     "duration": 0.47826,
     "end_time": "2023-11-10T23:41:36.246433",
     "exception": false,
     "start_time": "2023-11-10T23:41:35.768173",
     "status": "completed"
    },
    "tags": []
   },
   "outputs": [],
   "source": [
    "stars_colors = colors_dict[\"Level\"]\n",
    "monster_df[\"Level/Rank\"].value_counts().sort_index(\n",
    "    key=lambda x: pd.to_numeric(x, errors=\"coerce\")\n",
    ").plot.bar(figsize=(18, 6), grid=True, rot=0, color=stars_colors, title=\"Level/Rank\")\n",
    "plt.show()"
   ]
  },
  {
   "cell_type": "markdown",
   "id": "6a08e2b8",
   "metadata": {
    "papermill": {
     "duration": 0.094852,
     "end_time": "2023-11-10T23:41:36.437236",
     "exception": false,
     "start_time": "2023-11-10T23:41:36.342384",
     "status": "completed"
    },
    "tags": []
   },
   "source": [
    "#### ATK statistics"
   ]
  },
  {
   "cell_type": "code",
   "execution_count": null,
   "id": "06dc9107",
   "metadata": {
    "papermill": {
     "duration": 0.188284,
     "end_time": "2023-11-10T23:41:36.721098",
     "exception": false,
     "start_time": "2023-11-10T23:41:36.532814",
     "status": "completed"
    },
    "tags": []
   },
   "outputs": [],
   "source": [
    "monster_df[[\"Level/Rank\", \"ATK\"]].apply(pd.to_numeric, errors=\"coerce\").dropna().astype(\n",
    "    int\n",
    ").groupby(\"Level/Rank\").describe()"
   ]
  },
  {
   "cell_type": "markdown",
   "id": "b8a04916",
   "metadata": {
    "papermill": {
     "duration": 0.095077,
     "end_time": "2023-11-10T23:41:36.913914",
     "exception": false,
     "start_time": "2023-11-10T23:41:36.818837",
     "status": "completed"
    },
    "tags": []
   },
   "source": [
    "#### DEF statistics"
   ]
  },
  {
   "cell_type": "code",
   "execution_count": null,
   "id": "cc005e78",
   "metadata": {
    "papermill": {
     "duration": 0.186492,
     "end_time": "2023-11-10T23:41:37.195930",
     "exception": false,
     "start_time": "2023-11-10T23:41:37.009438",
     "status": "completed"
    },
    "tags": []
   },
   "outputs": [],
   "source": [
    "monster_df[[\"Level/Rank\", \"DEF\"]].apply(pd.to_numeric, errors=\"coerce\").dropna().astype(\n",
    "    int\n",
    ").groupby(\"Level/Rank\").describe()"
   ]
  },
  {
   "cell_type": "markdown",
   "id": "4029a29d",
   "metadata": {
    "papermill": {
     "duration": 0.095197,
     "end_time": "2023-11-10T23:41:37.386868",
     "exception": false,
     "start_time": "2023-11-10T23:41:37.291671",
     "status": "completed"
    },
    "tags": []
   },
   "source": [
    "### Pendulum scale"
   ]
  },
  {
   "cell_type": "code",
   "execution_count": null,
   "id": "9db07376",
   "metadata": {
    "papermill": {
     "duration": 0.205326,
     "end_time": "2023-11-10T23:41:37.687907",
     "exception": false,
     "start_time": "2023-11-10T23:41:37.482581",
     "status": "completed"
    },
    "tags": []
   },
   "outputs": [],
   "source": [
    "monster_df.drop(\n",
    "    columns=[\"Card type\", \"Link\", \"Link Arrows\", \"Page name\", \"Page URL\"]\n",
    ").groupby(\"Pendulum Scale\").nunique().sort_index(\n",
    "    key=lambda x: pd.to_numeric(x, errors=\"coerce\")\n",
    ")"
   ]
  },
  {
   "cell_type": "code",
   "execution_count": null,
   "id": "331eba0b",
   "metadata": {
    "papermill": {
     "duration": 0.475635,
     "end_time": "2023-11-10T23:41:38.263463",
     "exception": false,
     "start_time": "2023-11-10T23:41:37.787828",
     "status": "completed"
    },
    "tags": []
   },
   "outputs": [],
   "source": [
    "scales_colors = colors_dict[\"Pendulum Monster\"]\n",
    "monster_df[\"Pendulum Scale\"].value_counts().sort_index(\n",
    "    key=lambda x: pd.to_numeric(x, errors=\"coerce\")\n",
    ").plot.bar(\n",
    "    figsize=(18, 6), grid=True, rot=0, color=scales_colors, title=\"Pendulum scale\"\n",
    ")\n",
    "plt.show()"
   ]
  },
  {
   "cell_type": "markdown",
   "id": "c4cee785",
   "metadata": {
    "papermill": {
     "duration": 0.169806,
     "end_time": "2023-11-10T23:41:38.594244",
     "exception": false,
     "start_time": "2023-11-10T23:41:38.424438",
     "status": "completed"
    },
    "tags": []
   },
   "source": [
    "#### ATK statistics"
   ]
  },
  {
   "cell_type": "code",
   "execution_count": null,
   "id": "75427d69",
   "metadata": {
    "papermill": {
     "duration": 0.183985,
     "end_time": "2023-11-10T23:41:38.946058",
     "exception": false,
     "start_time": "2023-11-10T23:41:38.762073",
     "status": "completed"
    },
    "tags": []
   },
   "outputs": [],
   "source": [
    "monster_df[[\"Pendulum Scale\", \"ATK\"]].apply(\n",
    "    pd.to_numeric, errors=\"coerce\"\n",
    ").dropna().astype(int).groupby(\"Pendulum Scale\").describe()"
   ]
  },
  {
   "cell_type": "markdown",
   "id": "3ee4da76",
   "metadata": {
    "papermill": {
     "duration": 0.110308,
     "end_time": "2023-11-10T23:41:39.154491",
     "exception": false,
     "start_time": "2023-11-10T23:41:39.044183",
     "status": "completed"
    },
    "tags": []
   },
   "source": [
    "#### DEF statistics"
   ]
  },
  {
   "cell_type": "code",
   "execution_count": null,
   "id": "c474abd4",
   "metadata": {
    "papermill": {
     "duration": 0.181671,
     "end_time": "2023-11-10T23:41:39.434337",
     "exception": false,
     "start_time": "2023-11-10T23:41:39.252666",
     "status": "completed"
    },
    "tags": []
   },
   "outputs": [],
   "source": [
    "monster_df[[\"Pendulum Scale\", \"DEF\"]].apply(\n",
    "    pd.to_numeric, errors=\"coerce\"\n",
    ").dropna().astype(int).groupby(\"Pendulum Scale\").describe()"
   ]
  },
  {
   "cell_type": "markdown",
   "id": "87d81ad5",
   "metadata": {
    "papermill": {
     "duration": 0.100138,
     "end_time": "2023-11-10T23:41:39.633983",
     "exception": false,
     "start_time": "2023-11-10T23:41:39.533845",
     "status": "completed"
    },
    "tags": []
   },
   "source": [
    "#### Level/Rank statistics"
   ]
  },
  {
   "cell_type": "code",
   "execution_count": null,
   "id": "027c9b3e",
   "metadata": {
    "papermill": {
     "duration": 0.179258,
     "end_time": "2023-11-10T23:41:39.911898",
     "exception": false,
     "start_time": "2023-11-10T23:41:39.732640",
     "status": "completed"
    },
    "tags": []
   },
   "outputs": [],
   "source": [
    "monster_df[[\"Pendulum Scale\", \"Level/Rank\"]].apply(\n",
    "    pd.to_numeric, errors=\"coerce\"\n",
    ").dropna().astype(int).groupby(\"Pendulum Scale\").describe()"
   ]
  },
  {
   "cell_type": "markdown",
   "id": "93f3aba0",
   "metadata": {
    "papermill": {
     "duration": 0.09836,
     "end_time": "2023-11-10T23:41:40.108504",
     "exception": false,
     "start_time": "2023-11-10T23:41:40.010144",
     "status": "completed"
    },
    "tags": []
   },
   "source": [
    "### Link"
   ]
  },
  {
   "cell_type": "code",
   "execution_count": null,
   "id": "3ba56226",
   "metadata": {
    "papermill": {
     "duration": 0.176142,
     "end_time": "2023-11-10T23:41:40.384605",
     "exception": false,
     "start_time": "2023-11-10T23:41:40.208463",
     "status": "completed"
    },
    "tags": []
   },
   "outputs": [],
   "source": [
    "monster_df.drop(\n",
    "    columns=[\n",
    "        \"Card type\",\n",
    "        \"Primary type\",\n",
    "        \"Secondary type\",\n",
    "        \"Level/Rank\",\n",
    "        \"DEF\",\n",
    "        \"Pendulum Scale\",\n",
    "        \"Page name\",\n",
    "        \"Page URL\",\n",
    "    ]\n",
    ").groupby(\"Link\").nunique().sort_index(key=lambda x: pd.to_numeric(x, errors=\"coerce\"))"
   ]
  },
  {
   "cell_type": "code",
   "execution_count": null,
   "id": "3afbb00a",
   "metadata": {
    "papermill": {
     "duration": 0.413212,
     "end_time": "2023-11-10T23:41:40.896160",
     "exception": false,
     "start_time": "2023-11-10T23:41:40.482948",
     "status": "completed"
    },
    "tags": []
   },
   "outputs": [],
   "source": [
    "link_colors = colors_dict[\"Link Monster\"]\n",
    "monster_df[\"Link\"].value_counts().sort_index(\n",
    "    key=lambda x: pd.to_numeric(x, errors=\"coerce\")\n",
    ").plot.bar(figsize=(18, 6), grid=True, rot=0, color=link_colors, title=\"Link\")\n",
    "plt.show()"
   ]
  },
  {
   "cell_type": "markdown",
   "id": "5f20abde",
   "metadata": {
    "papermill": {
     "duration": 0.110514,
     "end_time": "2023-11-10T23:41:41.105558",
     "exception": false,
     "start_time": "2023-11-10T23:41:40.995044",
     "status": "completed"
    },
    "tags": []
   },
   "source": [
    "#### ATK statistics"
   ]
  },
  {
   "cell_type": "code",
   "execution_count": null,
   "id": "c80d9372",
   "metadata": {
    "papermill": {
     "duration": 0.160625,
     "end_time": "2023-11-10T23:41:41.365749",
     "exception": false,
     "start_time": "2023-11-10T23:41:41.205124",
     "status": "completed"
    },
    "tags": []
   },
   "outputs": [],
   "source": [
    "monster_df[[\"Link\", \"ATK\"]].apply(pd.to_numeric, errors=\"coerce\").dropna().astype(\n",
    "    int\n",
    ").groupby(\"Link\").describe()"
   ]
  },
  {
   "cell_type": "markdown",
   "id": "f585a876",
   "metadata": {
    "papermill": {
     "duration": 0.109815,
     "end_time": "2023-11-10T23:41:41.575418",
     "exception": false,
     "start_time": "2023-11-10T23:41:41.465603",
     "status": "completed"
    },
    "tags": []
   },
   "source": [
    "### Link Arrows"
   ]
  },
  {
   "cell_type": "markdown",
   "id": "b1373514",
   "metadata": {
    "papermill": {
     "duration": 0.216546,
     "end_time": "2023-11-10T23:41:41.891572",
     "exception": false,
     "start_time": "2023-11-10T23:41:41.675026",
     "status": "completed"
    },
    "tags": []
   },
   "source": [
    "#### By combination"
   ]
  },
  {
   "cell_type": "code",
   "execution_count": null,
   "id": "1130304f",
   "metadata": {
    "papermill": {
     "duration": 0.111624,
     "end_time": "2023-11-10T23:41:42.103254",
     "exception": false,
     "start_time": "2023-11-10T23:41:41.991630",
     "status": "completed"
    },
    "tags": []
   },
   "outputs": [],
   "source": [
    "print(\"Total number of link arrow combinations:\", monster_df[\"Link Arrows\"].nunique())"
   ]
  },
  {
   "cell_type": "code",
   "execution_count": null,
   "id": "7acfc7a1",
   "metadata": {
    "papermill": {
     "duration": 0.192829,
     "end_time": "2023-11-10T23:41:42.398274",
     "exception": false,
     "start_time": "2023-11-10T23:41:42.205445",
     "status": "completed"
    },
    "tags": []
   },
   "outputs": [],
   "source": [
    "monster_df.drop(\n",
    "    columns=[\n",
    "        \"Card type\",\n",
    "        \"Primary type\",\n",
    "        \"Level/Rank\",\n",
    "        \"Pendulum Scale\",\n",
    "        \"Link\",\n",
    "        \"Secondary type\",\n",
    "        \"DEF\",\n",
    "        \"Page name\",\n",
    "        \"Page URL\",\n",
    "    ]\n",
    ").groupby(\"Link Arrows\").nunique()"
   ]
  },
  {
   "cell_type": "code",
   "execution_count": null,
   "id": "66c65c93",
   "metadata": {
    "papermill": {
     "duration": 1.21726,
     "end_time": "2023-11-10T23:41:43.715635",
     "exception": false,
     "start_time": "2023-11-10T23:41:42.498375",
     "status": "completed"
    },
    "tags": []
   },
   "outputs": [],
   "source": [
    "arrows_colors = colors_dict[\"Link Monster\"]\n",
    "monster_df[\"Link Arrows\"].value_counts().plot.barh(\n",
    "    figsize=(10, 20), grid=True, color=arrows_colors, title=\"Link arrows combinations\"\n",
    ")\n",
    "plt.show()"
   ]
  },
  {
   "cell_type": "markdown",
   "id": "aa520eaf",
   "metadata": {
    "papermill": {
     "duration": 0.1041,
     "end_time": "2023-11-10T23:41:43.923358",
     "exception": false,
     "start_time": "2023-11-10T23:41:43.819258",
     "status": "completed"
    },
    "tags": []
   },
   "source": [
    "#### By unique"
   ]
  },
  {
   "cell_type": "code",
   "execution_count": null,
   "id": "85cda4e5",
   "metadata": {
    "papermill": {
     "duration": 0.152003,
     "end_time": "2023-11-10T23:41:44.177568",
     "exception": false,
     "start_time": "2023-11-10T23:41:44.025565",
     "status": "completed"
    },
    "tags": []
   },
   "outputs": [],
   "source": [
    "monster_df[monster_df[\"Link Arrows\"].notna()].drop(\n",
    "    columns=[\n",
    "        \"Card type\",\n",
    "        \"Primary type\",\n",
    "        \"Level/Rank\",\n",
    "        \"Pendulum Scale\",\n",
    "        \"Secondary type\",\n",
    "        \"DEF\",\n",
    "        \"Page name\",\n",
    "        \"Page URL\",\n",
    "    ]\n",
    ").explode(\"Link Arrows\").groupby(\"Link Arrows\").nunique()"
   ]
  },
  {
   "cell_type": "code",
   "execution_count": null,
   "id": "c3161d6e",
   "metadata": {
    "papermill": {
     "duration": 0.923786,
     "end_time": "2023-11-10T23:41:45.430969",
     "exception": false,
     "start_time": "2023-11-10T23:41:44.507183",
     "status": "completed"
    },
    "tags": []
   },
   "outputs": [],
   "source": [
    "arrow_plot(monster_df[\"Link Arrows\"].explode(\"Link Arrows\"))"
   ]
  },
  {
   "cell_type": "markdown",
   "id": "e36f6792",
   "metadata": {
    "papermill": {
     "duration": 0.103175,
     "end_time": "2023-11-10T23:41:45.639159",
     "exception": false,
     "start_time": "2023-11-10T23:41:45.535984",
     "status": "completed"
    },
    "tags": []
   },
   "source": [
    "#### By link"
   ]
  },
  {
   "cell_type": "code",
   "execution_count": null,
   "id": "8a6b3372",
   "metadata": {
    "papermill": {
     "duration": 0.167234,
     "end_time": "2023-11-10T23:41:45.911412",
     "exception": false,
     "start_time": "2023-11-10T23:41:45.744178",
     "status": "completed"
    },
    "tags": []
   },
   "outputs": [],
   "source": [
    "arrow_per_link = monster_df[[\"Link Arrows\", \"Link\"]].explode(\"Link Arrows\").dropna()\n",
    "arrow_crosstab = pd.crosstab(arrow_per_link[\"Link Arrows\"], arrow_per_link[\"Link\"])\n",
    "arrow_crosstab"
   ]
  },
  {
   "cell_type": "code",
   "execution_count": null,
   "id": "a22dab12",
   "metadata": {
    "papermill": {
     "duration": 0.664207,
     "end_time": "2023-11-10T23:41:46.681528",
     "exception": false,
     "start_time": "2023-11-10T23:41:46.017321",
     "status": "completed"
    },
    "tags": []
   },
   "outputs": [],
   "source": [
    "plt.figure(figsize=(10, 6))\n",
    "sns.heatmap(\n",
    "    arrow_crosstab[arrow_crosstab > 0].T,\n",
    "    annot=True,\n",
    "    fmt=\"g\",\n",
    "    cmap=\"viridis\",\n",
    "    square=True,\n",
    "    norm=mc.LogNorm(),\n",
    ")\n",
    "plt.show()"
   ]
  },
  {
   "cell_type": "markdown",
   "id": "bb0bbf58",
   "metadata": {
    "papermill": {
     "duration": 0.167528,
     "end_time": "2023-11-10T23:41:46.955585",
     "exception": false,
     "start_time": "2023-11-10T23:41:46.788057",
     "status": "completed"
    },
    "tags": []
   },
   "source": [
    "## Spell & Trap"
   ]
  },
  {
   "cell_type": "markdown",
   "id": "f47b1472",
   "metadata": {
    "papermill": {
     "duration": 0.104834,
     "end_time": "2023-11-10T23:41:47.165510",
     "exception": false,
     "start_time": "2023-11-10T23:41:47.060676",
     "status": "completed"
    },
    "tags": []
   },
   "source": [
    "### Properties"
   ]
  },
  {
   "cell_type": "code",
   "execution_count": null,
   "id": "fdd7cb44",
   "metadata": {
    "papermill": {
     "duration": 0.118679,
     "end_time": "2023-11-10T23:41:47.389330",
     "exception": false,
     "start_time": "2023-11-10T23:41:47.270651",
     "status": "completed"
    },
    "tags": []
   },
   "outputs": [],
   "source": [
    "print(\"Total number of properties:\", st_df[\"Property\"].nunique())"
   ]
  },
  {
   "cell_type": "code",
   "execution_count": null,
   "id": "52c0aa20",
   "metadata": {
    "papermill": {
     "duration": 0.156152,
     "end_time": "2023-11-10T23:41:47.651636",
     "exception": false,
     "start_time": "2023-11-10T23:41:47.495484",
     "status": "completed"
    },
    "tags": []
   },
   "outputs": [],
   "source": [
    "st_df.drop(columns=[\"Card type\", \"Page name\", \"Page URL\"]).groupby(\"Property\").nunique()"
   ]
  },
  {
   "cell_type": "code",
   "execution_count": null,
   "id": "cd537db7",
   "metadata": {
    "papermill": {
     "duration": 0.446091,
     "end_time": "2023-11-10T23:41:48.203625",
     "exception": false,
     "start_time": "2023-11-10T23:41:47.757534",
     "status": "completed"
    },
    "tags": []
   },
   "outputs": [],
   "source": [
    "st_colors = [\n",
    "    colors_dict[i]\n",
    "    for i in cards_df[[\"Card type\", \"Property\"]]\n",
    "    .value_counts()\n",
    "    .index.get_level_values(0)\n",
    "]\n",
    "st_df[\"Property\"].value_counts().plot.bar(\n",
    "    figsize=(18, 6), grid=True, rot=45, color=st_colors, title=\"Property\"\n",
    ")\n",
    "plt.show()"
   ]
  },
  {
   "cell_type": "markdown",
   "id": "eab733b7",
   "metadata": {
    "jp-MarkdownHeadingCollapsed": true,
    "papermill": {
     "duration": 0.113425,
     "end_time": "2023-11-10T23:41:48.426070",
     "exception": false,
     "start_time": "2023-11-10T23:41:48.312645",
     "status": "completed"
    },
    "tags": []
   },
   "source": [
    "### Effect type"
   ]
  },
  {
   "cell_type": "code",
   "execution_count": null,
   "id": "f955ec1d",
   "metadata": {
    "papermill": {
     "duration": 0.131553,
     "end_time": "2023-11-10T23:41:48.665244",
     "exception": false,
     "start_time": "2023-11-10T23:41:48.533691",
     "status": "completed"
    },
    "tags": []
   },
   "outputs": [],
   "source": [
    "print(\"Total number of effect types:\", st_df[\"Effect type\"].explode().nunique())"
   ]
  },
  {
   "cell_type": "code",
   "execution_count": null,
   "id": "9e0f62a2",
   "metadata": {
    "papermill": {
     "duration": 0.212706,
     "end_time": "2023-11-10T23:41:48.985721",
     "exception": false,
     "start_time": "2023-11-10T23:41:48.773015",
     "status": "completed"
    },
    "tags": []
   },
   "outputs": [],
   "source": [
    "st_df.explode(\"Effect type\").groupby(\"Effect type\").nunique()"
   ]
  },
  {
   "cell_type": "markdown",
   "id": "64868037",
   "metadata": {
    "papermill": {
     "duration": 0.108709,
     "end_time": "2023-11-10T23:41:49.201787",
     "exception": false,
     "start_time": "2023-11-10T23:41:49.093078",
     "status": "completed"
    },
    "tags": []
   },
   "source": [
    "#### Spell & Trap discrimination"
   ]
  },
  {
   "cell_type": "code",
   "execution_count": null,
   "id": "75843f9d",
   "metadata": {
    "papermill": {
     "duration": 0.147484,
     "end_time": "2023-11-10T23:41:49.456409",
     "exception": false,
     "start_time": "2023-11-10T23:41:49.308925",
     "status": "completed"
    },
    "tags": []
   },
   "outputs": [],
   "source": [
    "st_diff = (\n",
    "    st_df[[\"Card type\", \"Effect type\"]]\n",
    "    .explode(\"Effect type\")\n",
    "    .value_counts()\n",
    "    .unstack(0)\n",
    "    .fillna(0)\n",
    "    .astype(int)\n",
    ")\n",
    "st_diff"
   ]
  },
  {
   "cell_type": "code",
   "execution_count": null,
   "id": "373757a0",
   "metadata": {
    "papermill": {
     "duration": 0.558126,
     "end_time": "2023-11-10T23:41:50.131794",
     "exception": false,
     "start_time": "2023-11-10T23:41:49.573668",
     "status": "completed"
    },
    "tags": []
   },
   "outputs": [],
   "source": [
    "st_diff_colors = {\n",
    "    \"Spell Card\": colors_dict[\"Spell Card\"],\n",
    "    \"Trap Card\": colors_dict[\"Trap Card\"],\n",
    "}\n",
    "st_diff.plot.bar(figsize=(18, 6), stacked=True, grid=True, rot=45, color=st_diff_colors)\n",
    "plt.show()"
   ]
  },
  {
   "cell_type": "markdown",
   "id": "0013b7c7",
   "metadata": {
    "papermill": {
     "duration": 0.214727,
     "end_time": "2023-11-10T23:41:50.455849",
     "exception": false,
     "start_time": "2023-11-10T23:41:50.241122",
     "status": "completed"
    },
    "tags": []
   },
   "source": [
    "## Archseries"
   ]
  },
  {
   "cell_type": "code",
   "execution_count": null,
   "id": "ce1470dc",
   "metadata": {
    "papermill": {
     "duration": 0.245116,
     "end_time": "2023-11-10T23:41:50.811840",
     "exception": false,
     "start_time": "2023-11-10T23:41:50.566724",
     "status": "completed"
    },
    "tags": []
   },
   "outputs": [],
   "source": [
    "exploded_archseries = cards_df.explode(\"Archseries\")\n",
    "print(\"Total number of Archseries:\", exploded_archseries[\"Archseries\"].nunique())"
   ]
  },
  {
   "cell_type": "code",
   "execution_count": null,
   "id": "f31c5b8c",
   "metadata": {
    "papermill": {
     "duration": 0.283694,
     "end_time": "2023-11-10T23:41:51.205458",
     "exception": false,
     "start_time": "2023-11-10T23:41:50.921764",
     "status": "completed"
    },
    "tags": []
   },
   "outputs": [],
   "source": [
    "exploded_archseries.groupby(\"Archseries\").nunique()"
   ]
  },
  {
   "cell_type": "code",
   "execution_count": null,
   "id": "00c9f321",
   "metadata": {
    "papermill": {
     "duration": 9.882086,
     "end_time": "2023-11-10T23:42:01.197607",
     "exception": false,
     "start_time": "2023-11-10T23:41:51.315521",
     "status": "completed"
    },
    "tags": []
   },
   "outputs": [],
   "source": [
    "exploded_archseries[\"Archseries\"].value_counts().plot.barh(\n",
    "    figsize=(10, 200), grid=True, title=\"Archtypes/Series\"\n",
    ")\n",
    "plt.show()"
   ]
  },
  {
   "cell_type": "markdown",
   "id": "cf3bf55f",
   "metadata": {
    "jp-MarkdownHeadingCollapsed": true,
    "papermill": {
     "duration": 0.272372,
     "end_time": "2023-11-10T23:42:01.608918",
     "exception": false,
     "start_time": "2023-11-10T23:42:01.336546",
     "status": "completed"
    },
    "tags": []
   },
   "source": [
    "### By card type"
   ]
  },
  {
   "cell_type": "code",
   "execution_count": null,
   "id": "fbf65c3c",
   "metadata": {
    "papermill": {
     "duration": 0.683222,
     "end_time": "2023-11-10T23:42:02.530480",
     "exception": false,
     "start_time": "2023-11-10T23:42:01.847258",
     "status": "completed"
    },
    "tags": []
   },
   "outputs": [],
   "source": [
    "archseries_crosstab = pd.crosstab(\n",
    "    exploded_archseries[\"Archseries\"], exploded_archseries[\"Card type\"], margins=True\n",
    ")\n",
    "archseries_crosstab"
   ]
  },
  {
   "cell_type": "markdown",
   "id": "960ea110",
   "metadata": {
    "papermill": {
     "duration": 0.145716,
     "end_time": "2023-11-10T23:42:02.860528",
     "exception": false,
     "start_time": "2023-11-10T23:42:02.714812",
     "status": "completed"
    },
    "tags": []
   },
   "source": [
    "### By primary type"
   ]
  },
  {
   "cell_type": "code",
   "execution_count": null,
   "id": "2c3671f0",
   "metadata": {
    "papermill": {
     "duration": 0.282513,
     "end_time": "2023-11-10T23:42:03.284749",
     "exception": false,
     "start_time": "2023-11-10T23:42:03.002236",
     "status": "completed"
    },
    "tags": []
   },
   "outputs": [],
   "source": [
    "archseries_crosstab_b = pd.crosstab(\n",
    "    exploded_archseries[\"Archseries\"], exploded_archseries[\"Primary type\"], margins=True\n",
    ")\n",
    "archseries_crosstab_b"
   ]
  },
  {
   "cell_type": "markdown",
   "id": "6de5fdac",
   "metadata": {
    "papermill": {
     "duration": 0.14006,
     "end_time": "2023-11-10T23:42:03.566754",
     "exception": false,
     "start_time": "2023-11-10T23:42:03.426694",
     "status": "completed"
    },
    "tags": []
   },
   "source": [
    "\n",
    "\n",
    "### By secondary type"
   ]
  },
  {
   "cell_type": "code",
   "execution_count": null,
   "id": "966a00dd",
   "metadata": {
    "papermill": {
     "duration": 0.261524,
     "end_time": "2023-11-10T23:42:03.969851",
     "exception": false,
     "start_time": "2023-11-10T23:42:03.708327",
     "status": "completed"
    },
    "tags": []
   },
   "outputs": [],
   "source": [
    "exploded_archseries_secondary_type = exploded_archseries[\n",
    "    [\"Archseries\", \"Secondary type\"]\n",
    "].explode(\"Secondary type\")\n",
    "archseries_crosstab_c = pd.crosstab(\n",
    "    exploded_archseries_secondary_type[\"Archseries\"],\n",
    "    exploded_archseries_secondary_type[\"Secondary type\"],\n",
    "    margins=True,\n",
    ")\n",
    "archseries_crosstab_c"
   ]
  },
  {
   "cell_type": "markdown",
   "id": "a881d945",
   "metadata": {
    "papermill": {
     "duration": 0.140506,
     "end_time": "2023-11-10T23:42:04.251606",
     "exception": false,
     "start_time": "2023-11-10T23:42:04.111100",
     "status": "completed"
    },
    "tags": []
   },
   "source": [
    "### By monster type"
   ]
  },
  {
   "cell_type": "code",
   "execution_count": null,
   "id": "d99ee9e1",
   "metadata": {
    "papermill": {
     "duration": 0.328226,
     "end_time": "2023-11-10T23:42:04.720872",
     "exception": false,
     "start_time": "2023-11-10T23:42:04.392646",
     "status": "completed"
    },
    "tags": []
   },
   "outputs": [],
   "source": [
    "archseries_crosstab_d = pd.crosstab(\n",
    "    exploded_archseries[\"Archseries\"], exploded_archseries[\"Monster type\"], margins=True\n",
    ")\n",
    "archseries_crosstab_d"
   ]
  },
  {
   "cell_type": "markdown",
   "id": "f97ab388",
   "metadata": {
    "papermill": {
     "duration": 0.143092,
     "end_time": "2023-11-10T23:42:05.006158",
     "exception": false,
     "start_time": "2023-11-10T23:42:04.863066",
     "status": "completed"
    },
    "tags": []
   },
   "source": [
    "### By property"
   ]
  },
  {
   "cell_type": "code",
   "execution_count": null,
   "id": "fbbb1ccc",
   "metadata": {
    "papermill": {
     "duration": 0.265598,
     "end_time": "2023-11-10T23:42:05.414833",
     "exception": false,
     "start_time": "2023-11-10T23:42:05.149235",
     "status": "completed"
    },
    "tags": []
   },
   "outputs": [],
   "source": [
    "archseries_crosstab_e = pd.crosstab(\n",
    "    exploded_archseries[\"Archseries\"], exploded_archseries[\"Property\"], margins=True\n",
    ")\n",
    "archseries_crosstab_e"
   ]
  },
  {
   "cell_type": "markdown",
   "id": "554f6e74",
   "metadata": {
    "papermill": {
     "duration": 0.147304,
     "end_time": "2023-11-10T23:42:05.704842",
     "exception": false,
     "start_time": "2023-11-10T23:42:05.557538",
     "status": "completed"
    },
    "tags": []
   },
   "source": [
    "## Artworks"
   ]
  },
  {
   "cell_type": "code",
   "execution_count": null,
   "id": "2224e061",
   "metadata": {
    "papermill": {
     "duration": 0.159378,
     "end_time": "2023-11-10T23:42:06.012698",
     "exception": false,
     "start_time": "2023-11-10T23:42:05.853320",
     "status": "completed"
    },
    "tags": []
   },
   "outputs": [],
   "source": [
    "print(\n",
    "    \"Total number of cards with edited or alternate artworks:\",\n",
    "    cards_df[\"Artwork\"].count(),\n",
    ")"
   ]
  },
  {
   "cell_type": "code",
   "execution_count": null,
   "id": "f7492a67",
   "metadata": {
    "papermill": {
     "duration": 0.274668,
     "end_time": "2023-11-10T23:42:06.430130",
     "exception": false,
     "start_time": "2023-11-10T23:42:06.155462",
     "status": "completed"
    },
    "tags": []
   },
   "outputs": [],
   "source": [
    "cards_df[[\"Name\", \"Password\", \"TCG status\", \"OCG status\", \"Artwork\"]][\n",
    "    cards_df[\"Artwork\"].notna()\n",
    "]"
   ]
  },
  {
   "cell_type": "code",
   "execution_count": null,
   "id": "fa1ea6aa",
   "metadata": {
    "papermill": {
     "duration": 0.319885,
     "end_time": "2023-11-10T23:42:06.894473",
     "exception": false,
     "start_time": "2023-11-10T23:42:06.574588",
     "status": "completed"
    },
    "tags": []
   },
   "outputs": [],
   "source": [
    "artwork_value_counts = cards_df[\"Artwork\"].value_counts()\n",
    "plt.figure(figsize=(20, 8))\n",
    "plt.title(\"Artworks\")\n",
    "venn2(\n",
    "    subsets=(\n",
    "        artwork_value_counts[(\"Alternate\",)],\n",
    "        artwork_value_counts[(\"Edited\",)],\n",
    "        artwork_value_counts[(\"Alternate\", \"Edited\")],\n",
    "    ),\n",
    "    set_labels=(\"Alternate artwork\", \"Edited artwork\"),\n",
    ")\n",
    "plt.show()"
   ]
  },
  {
   "cell_type": "markdown",
   "id": "e49df5df",
   "metadata": {
    "papermill": {
     "duration": 0.143697,
     "end_time": "2023-11-10T23:42:07.184897",
     "exception": false,
     "start_time": "2023-11-10T23:42:07.041200",
     "status": "completed"
    },
    "tags": []
   },
   "source": [
    "### By card type"
   ]
  },
  {
   "cell_type": "code",
   "execution_count": null,
   "id": "1b14c224",
   "metadata": {
    "papermill": {
     "duration": 0.180918,
     "end_time": "2023-11-10T23:42:07.512307",
     "exception": false,
     "start_time": "2023-11-10T23:42:07.331389",
     "status": "completed"
    },
    "tags": []
   },
   "outputs": [],
   "source": [
    "artwork_crosstab = pd.crosstab(cards_df[\"Artwork\"], cards_df[\"Card type\"])\n",
    "artwork_crosstab"
   ]
  },
  {
   "cell_type": "markdown",
   "id": "81afa2df",
   "metadata": {
    "papermill": {
     "duration": 0.144662,
     "end_time": "2023-11-10T23:42:07.802922",
     "exception": false,
     "start_time": "2023-11-10T23:42:07.658260",
     "status": "completed"
    },
    "tags": []
   },
   "source": [
    "### By primary type"
   ]
  },
  {
   "cell_type": "code",
   "execution_count": null,
   "id": "55081aa0",
   "metadata": {
    "papermill": {
     "duration": 0.183247,
     "end_time": "2023-11-10T23:42:08.137063",
     "exception": false,
     "start_time": "2023-11-10T23:42:07.953816",
     "status": "completed"
    },
    "tags": []
   },
   "outputs": [],
   "source": [
    "artwork_crosstab_b = pd.crosstab(cards_df[\"Artwork\"], cards_df[\"Primary type\"])\n",
    "artwork_crosstab_b"
   ]
  },
  {
   "cell_type": "markdown",
   "id": "14a90117",
   "metadata": {
    "papermill": {
     "duration": 0.521436,
     "end_time": "2023-11-10T23:42:08.842834",
     "exception": false,
     "start_time": "2023-11-10T23:42:08.321398",
     "status": "completed"
    },
    "tags": []
   },
   "source": [
    "More granularity is unnecessary"
   ]
  },
  {
   "cell_type": "markdown",
   "id": "5210d61b",
   "metadata": {
    "papermill": {
     "duration": 0.148452,
     "end_time": "2023-11-10T23:42:09.182566",
     "exception": false,
     "start_time": "2023-11-10T23:42:09.034114",
     "status": "completed"
    },
    "tags": []
   },
   "source": [
    "## Errata"
   ]
  },
  {
   "cell_type": "code",
   "execution_count": null,
   "id": "09b33100",
   "metadata": {
    "papermill": {
     "duration": 0.160123,
     "end_time": "2023-11-10T23:42:09.488137",
     "exception": false,
     "start_time": "2023-11-10T23:42:09.328014",
     "status": "completed"
    },
    "tags": []
   },
   "outputs": [],
   "source": [
    "print(\"Total number of cards with errata:\", cards_df[\"Errata\"].count())"
   ]
  },
  {
   "cell_type": "code",
   "execution_count": null,
   "id": "40462eee",
   "metadata": {
    "papermill": {
     "duration": 0.428327,
     "end_time": "2023-11-10T23:42:10.064655",
     "exception": false,
     "start_time": "2023-11-10T23:42:09.636328",
     "status": "completed"
    },
    "tags": []
   },
   "outputs": [],
   "source": [
    "cards_df[[\"Name\", \"Password\", \"TCG status\", \"OCG status\", \"Errata\"]][\n",
    "    cards_df[\"Errata\"].notna()\n",
    "]"
   ]
  },
  {
   "cell_type": "code",
   "execution_count": null,
   "id": "9f7d97c2-8569-45b7-baba-01f33e56212b",
   "metadata": {
    "papermill": {
     "duration": 0.283673,
     "end_time": "2023-11-10T23:42:10.496677",
     "exception": false,
     "start_time": "2023-11-10T23:42:10.213004",
     "status": "completed"
    },
    "tags": []
   },
   "outputs": [],
   "source": [
    "errata_counts = (\n",
    "    cards_df.groupby(\"Errata\").nunique().sort_values(\"Name\", ascending=False)\n",
    ")\n",
    "errata_counts"
   ]
  },
  {
   "cell_type": "code",
   "execution_count": null,
   "id": "60843a4f",
   "metadata": {
    "papermill": {
     "duration": 0.308454,
     "end_time": "2023-11-10T23:42:10.953683",
     "exception": false,
     "start_time": "2023-11-10T23:42:10.645229",
     "status": "completed"
    },
    "tags": []
   },
   "outputs": [],
   "source": [
    "plt.figure(figsize=(20, 8))\n",
    "plt.title(\"Errata\")\n",
    "sorted_errata_name_counts = (\n",
    "    errata_counts[\"Name\"]\n",
    "    .drop((\"Any\",))\n",
    "    .sort_index(key=lambda x: [(len(i), i) for i in x])\n",
    ")\n",
    "venn2(\n",
    "    subsets=sorted_errata_name_counts,\n",
    "    set_labels=sorted_errata_name_counts.index[:-1].str[0],\n",
    ")\n",
    "plt.show()"
   ]
  },
  {
   "cell_type": "markdown",
   "id": "a3703983",
   "metadata": {
    "papermill": {
     "duration": 0.147926,
     "end_time": "2023-11-10T23:42:11.251371",
     "exception": false,
     "start_time": "2023-11-10T23:42:11.103445",
     "status": "completed"
    },
    "tags": []
   },
   "source": [
    "### By card type"
   ]
  },
  {
   "cell_type": "code",
   "execution_count": null,
   "id": "fb103c29",
   "metadata": {
    "papermill": {
     "duration": 0.187376,
     "end_time": "2023-11-10T23:42:11.588056",
     "exception": false,
     "start_time": "2023-11-10T23:42:11.400680",
     "status": "completed"
    },
    "tags": []
   },
   "outputs": [],
   "source": [
    "errata_crosstab = pd.crosstab(cards_df[\"Errata\"], cards_df[\"Card type\"])\n",
    "errata_crosstab.sort_values(by=errata_crosstab.columns.tolist(), ascending=False)"
   ]
  },
  {
   "cell_type": "markdown",
   "id": "36d241f1",
   "metadata": {
    "papermill": {
     "duration": 0.148515,
     "end_time": "2023-11-10T23:42:11.885877",
     "exception": false,
     "start_time": "2023-11-10T23:42:11.737362",
     "status": "completed"
    },
    "tags": []
   },
   "source": [
    "### By primary type"
   ]
  },
  {
   "cell_type": "code",
   "execution_count": null,
   "id": "5b90628d",
   "metadata": {
    "papermill": {
     "duration": 0.187507,
     "end_time": "2023-11-10T23:42:12.222118",
     "exception": false,
     "start_time": "2023-11-10T23:42:12.034611",
     "status": "completed"
    },
    "tags": []
   },
   "outputs": [],
   "source": [
    "errata_crosstab_b = pd.crosstab(cards_df[\"Errata\"], cards_df[\"Primary type\"])\n",
    "errata_crosstab_b.sort_values(by=errata_crosstab_b.columns.tolist(), ascending=False)"
   ]
  },
  {
   "cell_type": "markdown",
   "id": "0029e1ca",
   "metadata": {
    "papermill": {
     "duration": 0.15151,
     "end_time": "2023-11-10T23:42:12.525802",
     "exception": false,
     "start_time": "2023-11-10T23:42:12.374292",
     "status": "completed"
    },
    "tags": []
   },
   "source": [
    "More granularity is unnecessary"
   ]
  },
  {
   "cell_type": "markdown",
   "id": "35d88dda",
   "metadata": {
    "papermill": {
     "duration": 0.151357,
     "end_time": "2023-11-10T23:42:12.829036",
     "exception": false,
     "start_time": "2023-11-10T23:42:12.677679",
     "status": "completed"
    },
    "tags": []
   },
   "source": [
    "### By artwork"
   ]
  },
  {
   "cell_type": "code",
   "execution_count": null,
   "id": "0057def3",
   "metadata": {
    "papermill": {
     "duration": 0.183379,
     "end_time": "2023-11-10T23:42:13.164041",
     "exception": false,
     "start_time": "2023-11-10T23:42:12.980662",
     "status": "completed"
    },
    "tags": []
   },
   "outputs": [],
   "source": [
    "errata_crosstab_c = pd.crosstab(cards_df[\"Artwork\"], cards_df[\"Errata\"])\n",
    "errata_crosstab_c.sort_values(by=errata_crosstab_c.columns.tolist(), ascending=False)"
   ]
  },
  {
   "cell_type": "markdown",
   "id": "edef3194",
   "metadata": {
    "papermill": {
     "duration": 0.149939,
     "end_time": "2023-11-10T23:42:13.469361",
     "exception": false,
     "start_time": "2023-11-10T23:42:13.319422",
     "status": "completed"
    },
    "tags": []
   },
   "source": [
    "## TCG & OCG status"
   ]
  },
  {
   "cell_type": "markdown",
   "id": "3e7505cd",
   "metadata": {
    "papermill": {
     "duration": 0.15048,
     "end_time": "2023-11-10T23:42:13.770571",
     "exception": false,
     "start_time": "2023-11-10T23:42:13.620091",
     "status": "completed"
    },
    "tags": []
   },
   "source": [
    "### TGC status"
   ]
  },
  {
   "cell_type": "code",
   "execution_count": null,
   "id": "88b93fca",
   "metadata": {
    "papermill": {
     "duration": 0.172897,
     "end_time": "2023-11-10T23:42:14.097301",
     "exception": false,
     "start_time": "2023-11-10T23:42:13.924404",
     "status": "completed"
    },
    "tags": []
   },
   "outputs": [],
   "source": [
    "print(\"Total number of TCG status:\", cards_df[\"TCG status\"].nunique())"
   ]
  },
  {
   "cell_type": "code",
   "execution_count": null,
   "id": "2c69bec0",
   "metadata": {
    "papermill": {
     "duration": 0.299396,
     "end_time": "2023-11-10T23:42:14.549233",
     "exception": false,
     "start_time": "2023-11-10T23:42:14.249837",
     "status": "completed"
    },
    "tags": []
   },
   "outputs": [],
   "source": [
    "cards_df.drop(columns=[\"Page name\", \"Page URL\"]).groupby(\n",
    "    \"TCG status\", dropna=False\n",
    ").nunique()"
   ]
  },
  {
   "cell_type": "code",
   "execution_count": null,
   "id": "add82403",
   "metadata": {
    "papermill": {
     "duration": 0.801138,
     "end_time": "2023-11-10T23:42:15.503557",
     "exception": false,
     "start_time": "2023-11-10T23:42:14.702419",
     "status": "completed"
    },
    "tags": []
   },
   "outputs": [],
   "source": [
    "cards_df[\"TCG status\"].value_counts(dropna=False).plot.bar(\n",
    "    figsize=(18, 6), logy=True, grid=True, rot=45, title=\"TCG status\"\n",
    ")\n",
    "plt.show()"
   ]
  },
  {
   "cell_type": "markdown",
   "id": "f6b985a0",
   "metadata": {
    "papermill": {
     "duration": 0.153036,
     "end_time": "2023-11-10T23:42:15.808660",
     "exception": false,
     "start_time": "2023-11-10T23:42:15.655624",
     "status": "completed"
    },
    "tags": []
   },
   "source": [
    "#### By card type"
   ]
  },
  {
   "cell_type": "code",
   "execution_count": null,
   "id": "12c444ed",
   "metadata": {
    "papermill": {
     "duration": 0.196672,
     "end_time": "2023-11-10T23:42:16.158387",
     "exception": false,
     "start_time": "2023-11-10T23:42:15.961715",
     "status": "completed"
    },
    "tags": []
   },
   "outputs": [],
   "source": [
    "# Remove unlimited\n",
    "tcg_crosstab = pd.crosstab(cards_df[\"Card type\"], cards_df[\"TCG status\"]).drop(\n",
    "    [\"Unlimited\"], axis=1\n",
    ")\n",
    "tcg_crosstab"
   ]
  },
  {
   "cell_type": "code",
   "execution_count": null,
   "id": "8648b51e",
   "metadata": {
    "papermill": {
     "duration": 0.579301,
     "end_time": "2023-11-10T23:42:16.889849",
     "exception": false,
     "start_time": "2023-11-10T23:42:16.310548",
     "status": "completed"
    },
    "tags": []
   },
   "outputs": [],
   "source": [
    "plt.figure(figsize=(12, 6))\n",
    "sns.heatmap(\n",
    "    tcg_crosstab[tcg_crosstab > 0],\n",
    "    annot=True,\n",
    "    fmt=\"g\",\n",
    "    cmap=\"viridis\",\n",
    "    norm=mc.LogNorm(),\n",
    ")\n",
    "plt.show()"
   ]
  },
  {
   "cell_type": "markdown",
   "id": "521f367b",
   "metadata": {
    "papermill": {
     "duration": 0.45304,
     "end_time": "2023-11-10T23:42:17.497075",
     "exception": false,
     "start_time": "2023-11-10T23:42:17.044035",
     "status": "completed"
    },
    "tags": []
   },
   "source": [
    "#### By monster type"
   ]
  },
  {
   "cell_type": "code",
   "execution_count": null,
   "id": "bb73564f",
   "metadata": {
    "papermill": {
     "duration": 0.19652,
     "end_time": "2023-11-10T23:42:17.848425",
     "exception": false,
     "start_time": "2023-11-10T23:42:17.651905",
     "status": "completed"
    },
    "tags": []
   },
   "outputs": [],
   "source": [
    "# Remove unlimited\n",
    "tcg_crosstab_b = pd.crosstab(cards_df[\"Monster type\"], cards_df[\"TCG status\"]).drop(\n",
    "    [\"Unlimited\"], axis=1\n",
    ")\n",
    "tcg_crosstab_b"
   ]
  },
  {
   "cell_type": "code",
   "execution_count": null,
   "id": "dd5e826c",
   "metadata": {
    "papermill": {
     "duration": 1.116088,
     "end_time": "2023-11-10T23:42:19.118986",
     "exception": false,
     "start_time": "2023-11-10T23:42:18.002898",
     "status": "completed"
    },
    "tags": []
   },
   "outputs": [],
   "source": [
    "plt.figure(figsize=(20, 5))\n",
    "sns.heatmap(\n",
    "    tcg_crosstab_b[tcg_crosstab_b > 0].T,\n",
    "    annot=True,\n",
    "    fmt=\"g\",\n",
    "    cmap=\"viridis\",\n",
    "    square=True,\n",
    ")\n",
    "plt.show()"
   ]
  },
  {
   "cell_type": "markdown",
   "id": "b0e7d771",
   "metadata": {
    "papermill": {
     "duration": 0.15288,
     "end_time": "2023-11-10T23:42:19.425570",
     "exception": false,
     "start_time": "2023-11-10T23:42:19.272690",
     "status": "completed"
    },
    "tags": []
   },
   "source": [
    "#### By archseries"
   ]
  },
  {
   "cell_type": "code",
   "execution_count": null,
   "id": "05fc1f77",
   "metadata": {
    "papermill": {
     "duration": 0.236465,
     "end_time": "2023-11-10T23:42:19.815508",
     "exception": false,
     "start_time": "2023-11-10T23:42:19.579043",
     "status": "completed"
    },
    "tags": []
   },
   "outputs": [],
   "source": [
    "# Remove unlimited\n",
    "tcg_crosstab_c = pd.crosstab(\n",
    "    exploded_archseries[\"Archseries\"].where(\n",
    "        exploded_archseries[\"OCG status\"] != \"Unlimited\"\n",
    "    ),\n",
    "    exploded_archseries[\"TCG status\"],\n",
    "    margins=True,\n",
    ")\n",
    "tcg_crosstab_c"
   ]
  },
  {
   "cell_type": "markdown",
   "id": "af202b20",
   "metadata": {
    "papermill": {
     "duration": 0.172701,
     "end_time": "2023-11-10T23:42:20.160705",
     "exception": false,
     "start_time": "2023-11-10T23:42:19.988004",
     "status": "completed"
    },
    "tags": []
   },
   "source": [
    "### OCG status"
   ]
  },
  {
   "cell_type": "code",
   "execution_count": null,
   "id": "0b01a31b",
   "metadata": {
    "papermill": {
     "duration": 0.175319,
     "end_time": "2023-11-10T23:42:20.494712",
     "exception": false,
     "start_time": "2023-11-10T23:42:20.319393",
     "status": "completed"
    },
    "tags": []
   },
   "outputs": [],
   "source": [
    "print(\"Total number of OCG status:\", cards_df[\"OCG status\"].nunique())"
   ]
  },
  {
   "cell_type": "code",
   "execution_count": null,
   "id": "13b7b5c8",
   "metadata": {
    "papermill": {
     "duration": 0.527012,
     "end_time": "2023-11-10T23:42:21.210482",
     "exception": false,
     "start_time": "2023-11-10T23:42:20.683470",
     "status": "completed"
    },
    "tags": []
   },
   "outputs": [],
   "source": [
    "cards_df.drop(columns=[\"Page name\", \"Page URL\"]).groupby(\n",
    "    \"OCG status\", dropna=False\n",
    ").nunique()"
   ]
  },
  {
   "cell_type": "code",
   "execution_count": null,
   "id": "baff20b2",
   "metadata": {
    "papermill": {
     "duration": 0.714498,
     "end_time": "2023-11-10T23:42:22.081366",
     "exception": false,
     "start_time": "2023-11-10T23:42:21.366868",
     "status": "completed"
    },
    "tags": []
   },
   "outputs": [],
   "source": [
    "cards_df[\"OCG status\"].value_counts(dropna=False).plot.bar(\n",
    "    figsize=(18, 6), logy=True, grid=True, rot=45, title=\"TCG status\"\n",
    ")\n",
    "plt.show()"
   ]
  },
  {
   "cell_type": "markdown",
   "id": "5c4bf980",
   "metadata": {
    "papermill": {
     "duration": 0.155359,
     "end_time": "2023-11-10T23:42:22.391538",
     "exception": false,
     "start_time": "2023-11-10T23:42:22.236179",
     "status": "completed"
    },
    "tags": []
   },
   "source": [
    "#### By card type"
   ]
  },
  {
   "cell_type": "code",
   "execution_count": null,
   "id": "4863280e",
   "metadata": {
    "papermill": {
     "duration": 0.20106,
     "end_time": "2023-11-10T23:42:22.750123",
     "exception": false,
     "start_time": "2023-11-10T23:42:22.549063",
     "status": "completed"
    },
    "tags": []
   },
   "outputs": [],
   "source": [
    "# Remove unlimited\n",
    "ocg_crosstab = pd.crosstab(cards_df[\"Card type\"], cards_df[\"OCG status\"]).drop(\n",
    "    [\"Unlimited\"], axis=1\n",
    ")\n",
    "ocg_crosstab"
   ]
  },
  {
   "cell_type": "code",
   "execution_count": null,
   "id": "e8489887",
   "metadata": {
    "papermill": {
     "duration": 0.455071,
     "end_time": "2023-11-10T23:42:23.362900",
     "exception": false,
     "start_time": "2023-11-10T23:42:22.907829",
     "status": "completed"
    },
    "tags": []
   },
   "outputs": [],
   "source": [
    "plt.figure(figsize=(12, 6))\n",
    "sns.heatmap(ocg_crosstab[ocg_crosstab > 0], annot=True, fmt=\"g\", cmap=\"viridis\")\n",
    "plt.show()"
   ]
  },
  {
   "cell_type": "markdown",
   "id": "32f682d2",
   "metadata": {
    "papermill": {
     "duration": 0.156895,
     "end_time": "2023-11-10T23:42:23.676355",
     "exception": false,
     "start_time": "2023-11-10T23:42:23.519460",
     "status": "completed"
    },
    "tags": []
   },
   "source": [
    "#### By monster type"
   ]
  },
  {
   "cell_type": "code",
   "execution_count": null,
   "id": "3dbadcb8",
   "metadata": {
    "papermill": {
     "duration": 0.202326,
     "end_time": "2023-11-10T23:42:24.035593",
     "exception": false,
     "start_time": "2023-11-10T23:42:23.833267",
     "status": "completed"
    },
    "tags": []
   },
   "outputs": [],
   "source": [
    "ocg_crosstab_b = pd.crosstab(cards_df[\"Monster type\"], cards_df[\"OCG status\"]).drop(\n",
    "    [\"Unlimited\"], axis=1\n",
    ")\n",
    "ocg_crosstab_b"
   ]
  },
  {
   "cell_type": "code",
   "execution_count": null,
   "id": "4743b0c1",
   "metadata": {
    "papermill": {
     "duration": 0.775603,
     "end_time": "2023-11-10T23:42:24.967934",
     "exception": false,
     "start_time": "2023-11-10T23:42:24.192331",
     "status": "completed"
    },
    "tags": []
   },
   "outputs": [],
   "source": [
    "plt.figure(figsize=(20, 5))\n",
    "sns.heatmap(\n",
    "    ocg_crosstab_b[ocg_crosstab_b > 0].T,\n",
    "    annot=True,\n",
    "    fmt=\"g\",\n",
    "    cmap=\"viridis\",\n",
    "    square=True,\n",
    ")\n",
    "plt.show()"
   ]
  },
  {
   "cell_type": "markdown",
   "id": "19d9067b",
   "metadata": {
    "papermill": {
     "duration": 0.157428,
     "end_time": "2023-11-10T23:42:25.283304",
     "exception": false,
     "start_time": "2023-11-10T23:42:25.125876",
     "status": "completed"
    },
    "tags": []
   },
   "source": [
    "#### By archseries"
   ]
  },
  {
   "cell_type": "code",
   "execution_count": null,
   "id": "d866a6e2",
   "metadata": {
    "papermill": {
     "duration": 0.238887,
     "end_time": "2023-11-10T23:42:25.680448",
     "exception": false,
     "start_time": "2023-11-10T23:42:25.441561",
     "status": "completed"
    },
    "tags": []
   },
   "outputs": [],
   "source": [
    "# Remove unlimited\n",
    "ocg_crosstab_c = pd.crosstab(\n",
    "    exploded_archseries[\"Archseries\"].where(\n",
    "        exploded_archseries[\"OCG status\"] != \"Unlimited\"\n",
    "    ),\n",
    "    exploded_archseries[\"OCG status\"],\n",
    "    margins=True,\n",
    ")\n",
    "ocg_crosstab_c"
   ]
  },
  {
   "cell_type": "markdown",
   "id": "c5b33198",
   "metadata": {
    "papermill": {
     "duration": 0.175629,
     "end_time": "2023-11-10T23:42:26.018019",
     "exception": false,
     "start_time": "2023-11-10T23:42:25.842390",
     "status": "completed"
    },
    "tags": []
   },
   "source": [
    "### TCG vs. OCG status"
   ]
  },
  {
   "cell_type": "code",
   "execution_count": null,
   "id": "14f2101b",
   "metadata": {
    "papermill": {
     "duration": 0.204151,
     "end_time": "2023-11-10T23:42:26.387313",
     "exception": false,
     "start_time": "2023-11-10T23:42:26.183162",
     "status": "completed"
    },
    "tags": []
   },
   "outputs": [],
   "source": [
    "cg_crosstab = pd.crosstab(\n",
    "    cards_df[\"OCG status\"], cards_df[\"TCG status\"], dropna=False, margins=False\n",
    ")\n",
    "cg_crosstab"
   ]
  },
  {
   "cell_type": "code",
   "execution_count": null,
   "id": "d10c5c81",
   "metadata": {
    "papermill": {
     "duration": 0.817095,
     "end_time": "2023-11-10T23:42:27.375637",
     "exception": false,
     "start_time": "2023-11-10T23:42:26.558542",
     "status": "completed"
    },
    "tags": []
   },
   "outputs": [],
   "source": [
    "plt.figure(figsize=(10, 8))\n",
    "sns.heatmap(\n",
    "    cg_crosstab[cg_crosstab > 0],\n",
    "    annot=True,\n",
    "    fmt=\"g\",\n",
    "    cmap=\"viridis\",\n",
    "    square=True,\n",
    "    norm=mc.LogNorm(),\n",
    ")\n",
    "plt.show()"
   ]
  },
  {
   "cell_type": "markdown",
   "id": "95d94158-0922-4085-b2c7-d7fa24f40038",
   "metadata": {
    "papermill": {
     "duration": 0.161118,
     "end_time": "2023-11-10T23:42:27.696366",
     "exception": false,
     "start_time": "2023-11-10T23:42:27.535248",
     "status": "completed"
    },
    "tags": []
   },
   "source": [
    "# Extras"
   ]
  },
  {
   "cell_type": "markdown",
   "id": "81de3001-152d-4f35-9978-b8f895a91cc1",
   "metadata": {
    "papermill": {
     "duration": 0.159101,
     "end_time": "2023-11-10T23:42:28.016468",
     "exception": false,
     "start_time": "2023-11-10T23:42:27.857367",
     "status": "completed"
    },
    "tags": []
   },
   "source": [
    "## Multiple secondary types"
   ]
  },
  {
   "cell_type": "code",
   "execution_count": null,
   "id": "7efee39e-a0b5-4636-bcd4-cb9c75e11888",
   "metadata": {
    "papermill": {
     "duration": 0.223932,
     "end_time": "2023-11-10T23:42:28.400851",
     "exception": false,
     "start_time": "2023-11-10T23:42:28.176919",
     "status": "completed"
    },
    "tags": []
   },
   "outputs": [],
   "source": [
    "cards_df.dropna(subset=\"Secondary type\", axis=0)[\n",
    "    [len(x) > 1 for x in cards_df[\"Secondary type\"].dropna()]\n",
    "]"
   ]
  },
  {
   "cell_type": "markdown",
   "id": "a1bdb3eb-7f83-49a8-92a2-a8a05e6253c7",
   "metadata": {
    "papermill": {
     "duration": 0.160395,
     "end_time": "2023-11-10T23:42:28.720780",
     "exception": false,
     "start_time": "2023-11-10T23:42:28.560385",
     "status": "completed"
    },
    "tags": []
   },
   "source": [
    "## Not yet released"
   ]
  },
  {
   "cell_type": "code",
   "execution_count": null,
   "id": "6ca6f265",
   "metadata": {
    "papermill": {
     "duration": 0.199652,
     "end_time": "2023-11-10T23:42:29.081193",
     "exception": false,
     "start_time": "2023-11-10T23:42:28.881541",
     "status": "completed"
    },
    "tags": []
   },
   "outputs": [],
   "source": [
    "cards_df.loc[cards_df[\"OCG status\"] == \"Not yet released\"].loc[\n",
    "    full_df[\"TCG status\"] == \"Not yet released\"\n",
    "]"
   ]
  },
  {
   "cell_type": "markdown",
   "id": "b53361a5-0528-4691-a8ca-c015e4802d9c",
   "metadata": {
    "papermill": {
     "duration": 0.160887,
     "end_time": "2023-11-10T23:42:29.405693",
     "exception": false,
     "start_time": "2023-11-10T23:42:29.244806",
     "status": "completed"
    },
    "tags": []
   },
   "source": [
    "## Counters and Tokens"
   ]
  },
  {
   "cell_type": "code",
   "execution_count": null,
   "id": "4022c3ca-bd45-4870-b233-7fdd5b1639a7",
   "metadata": {
    "papermill": {
     "duration": 0.227805,
     "end_time": "2023-11-10T23:42:29.795277",
     "exception": false,
     "start_time": "2023-11-10T23:42:29.567472",
     "status": "completed"
    },
    "tags": []
   },
   "outputs": [],
   "source": [
    "token_df.dropna(how=\"all\", axis=1)"
   ]
  },
  {
   "cell_type": "markdown",
   "id": "5a48e113-5c3f-48cd-a6a4-d1b779b8d834",
   "metadata": {
    "papermill": {
     "duration": 0.166222,
     "end_time": "2023-11-10T23:42:30.123379",
     "exception": false,
     "start_time": "2023-11-10T23:42:29.957157",
     "status": "completed"
    },
    "tags": []
   },
   "source": [
    "# Page name differs from card name"
   ]
  },
  {
   "cell_type": "code",
   "execution_count": null,
   "id": "4f3c09e4-ca0e-437b-82ed-7f1939b29886",
   "metadata": {
    "papermill": {
     "duration": 0.259673,
     "end_time": "2023-11-10T23:42:30.544618",
     "exception": false,
     "start_time": "2023-11-10T23:42:30.284945",
     "status": "completed"
    },
    "tags": []
   },
   "outputs": [],
   "source": [
    "full_df[full_df[\"Name\"] != full_df[\"Page name\"]]"
   ]
  },
  {
   "cell_type": "markdown",
   "id": "4058f0b9-3031-4daa-8a4a-2dddf8c74c07",
   "metadata": {
    "papermill": {
     "duration": 0.255798,
     "end_time": "2023-11-10T23:42:30.965252",
     "exception": false,
     "start_time": "2023-11-10T23:42:30.709454",
     "status": "completed"
    },
    "tags": []
   },
   "source": [
    "# Epilogue"
   ]
  },
  {
   "cell_type": "code",
   "execution_count": null,
   "id": "871cb3eb-a0fc-42e8-b516-6d524deba2fc",
   "metadata": {
    "papermill": {
     "duration": 0.324122,
     "end_time": "2023-11-10T23:42:31.460295",
     "exception": false,
     "start_time": "2023-11-10T23:42:31.136173",
     "status": "completed"
    },
    "tags": []
   },
   "outputs": [],
   "source": [
    "benchmark(\"cards\", timestamp)"
   ]
  },
  {
   "cell_type": "code",
   "execution_count": null,
   "id": "310f7d3e-ab76-4c5b-bf3d-f6898d559118",
   "metadata": {
    "papermill": {
     "duration": 0.216742,
     "end_time": "2023-11-10T23:42:31.840371",
     "exception": false,
     "start_time": "2023-11-10T23:42:31.623629",
     "status": "completed"
    },
    "tags": []
   },
   "outputs": [],
   "source": [
    "footer(timestamp)"
   ]
  },
  {
   "cell_type": "markdown",
   "id": "fade81da",
   "metadata": {
    "papermill": {
     "duration": 0.169794,
     "end_time": "2023-11-10T23:42:32.174842",
     "exception": false,
     "start_time": "2023-11-10T23:42:32.005048",
     "status": "completed"
    },
    "tags": []
   },
   "source": [
    "## HTML export"
   ]
  },
  {
   "cell_type": "code",
   "execution_count": null,
   "id": "6715b83e-9a4e-423c-81b9-33a81603acd4",
   "metadata": {
    "papermill": {
     "duration": 0.186791,
     "end_time": "2023-11-10T23:42:32.525905",
     "exception": false,
     "start_time": "2023-11-10T23:42:32.339114",
     "status": "completed"
    },
    "tags": []
   },
   "outputs": [],
   "source": [
    "# Save notebook on disck before generating HTML report\n",
    "save_notebook()"
   ]
  },
  {
   "cell_type": "code",
   "execution_count": null,
   "id": "de556e8b",
   "metadata": {
    "papermill": {
     "duration": 4.185509,
     "end_time": "2023-11-10T23:42:36.884473",
     "exception": false,
     "start_time": "2023-11-10T23:42:32.698964",
     "status": "completed"
    },
    "tags": []
   },
   "outputs": [],
   "source": [
    "! jupyter nbconvert Cards.ipynb --output-dir='../' --to=HTML --TagRemovePreprocessor.enabled=True --TagRemovePreprocessor.remove_cell_tags='exclude' --TemplateExporter.exclude_input=True --TemplateExporter.exclude_input_prompt=True --TemplateExporter.exclude_output_prompt=True"
   ]
  },
  {
   "cell_type": "markdown",
   "id": "641a7018-0f50-4ab6-b8f3-119a279cbc65",
   "metadata": {
    "papermill": {
     "duration": 0.16276,
     "end_time": "2023-11-10T23:42:37.211320",
     "exception": false,
     "start_time": "2023-11-10T23:42:37.048560",
     "status": "completed"
    },
    "tags": [
     "exclude"
    ]
   },
   "source": [
    "## Git"
   ]
  },
  {
   "cell_type": "code",
   "execution_count": null,
   "id": "cba1eb00-d9c2-491a-95b3-5ce0a0524d59",
   "metadata": {
    "papermill": {
     "duration": null,
     "end_time": null,
     "exception": false,
     "start_time": "2023-11-10T23:42:37.374759",
     "status": "running"
    },
    "tags": [
     "exclude"
    ]
   },
   "outputs": [],
   "source": [
    "! git add \"../*[Cc]ards*\""
   ]
  },
  {
   "cell_type": "code",
   "execution_count": null,
   "id": "6f1f8303-30c6-4aaa-b45e-f6d5f5ece30e",
   "metadata": {
    "papermill": {
     "duration": null,
     "end_time": null,
     "exception": null,
     "start_time": null,
     "status": "pending"
    },
    "tags": [
     "exclude"
    ]
   },
   "outputs": [],
   "source": [
    "! git commit -m {\"'Cards update-\" + timestamp.isoformat() + \"'\"}"
   ]
  }
 ],
 "metadata": {
  "kernelspec": {
   "display_name": "Python 3 (ipykernel)",
   "language": "python",
   "name": "python3"
  },
  "language_info": {
   "codemirror_mode": {
    "name": "ipython",
    "version": 3
   },
   "file_extension": ".py",
   "mimetype": "text/x-python",
   "name": "python",
   "nbconvert_exporter": "python",
   "pygments_lexer": "ipython3",
   "version": "3.11.6"
  },
  "papermill": {
   "default_parameters": {},
   "duration": null,
   "end_time": null,
   "environment_variables": {},
   "exception": null,
   "input_path": "Cards.ipynb",
   "output_path": "Cards.ipynb",
   "parameters": {},
   "start_time": "2023-11-10T23:39:28.790840",
   "version": "2.4.0"
  },
  "toc": {
   "base_numbering": 1,
   "nav_menu": {
    "height": "599px",
    "width": "228px"
   },
   "number_sections": true,
   "sideBar": true,
   "skip_h1_title": false,
   "title_cell": "Table of Contents",
   "title_sidebar": "Contents",
   "toc_cell": true,
   "toc_position": {
    "height": "calc(100% - 180px)",
    "left": "10px",
    "top": "150px",
    "width": "353px"
   },
   "toc_section_display": true,
   "toc_window_display": true
  },
  "toc-autonumbering": false,
  "toc-showcode": false,
  "toc-showmarkdowntxt": false
 },
 "nbformat": 4,
 "nbformat_minor": 5
}
