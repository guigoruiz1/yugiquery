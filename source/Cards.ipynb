{
 "cells": [
  {
   "cell_type": "code",
   "execution_count": 1,
   "id": "82c61f6c-3c7a-4460-b466-9c521973fa5d",
   "metadata": {
    "papermill": {
     "duration": 2.114388,
     "end_time": "2023-02-22T22:24:17.995164",
     "exception": false,
     "start_time": "2023-02-22T22:24:15.880776",
     "status": "completed"
    },
    "tags": []
   },
   "outputs": [
    {
     "data": {
      "text/markdown": [
       "<div align='center'>\n",
       "    <br>\n",
       "    <!-- Pre Style needed to fix HTML formatting -->\n",
       "    <pre style=\"line-height: var(--jp-code-line-height); font-family: var(--jp-code-font-family)\">\n",
       "    ██    ██ ██    ██  ██████  ██  ██████  ██    ██ ███████ ██████  ██    ██ \n",
       "     ██  ██  ██    ██ ██       ██ ██    ██ ██    ██ ██      ██   ██  ██  ██  \n",
       "      ████   ██    ██ ██   ███ ██ ██    ██ ██    ██ █████   ██████    ████   \n",
       "       ██    ██    ██ ██    ██ ██ ██ ▄▄ ██ ██    ██ ██      ██   ██    ██    \n",
       "       ██     ██████   ██████  ██  ██████   ██████  ███████ ██   ██    ██    \n",
       "                                      ▀▀                                     \n",
       "    </pre>\n",
       "</div>\n",
       "<div align='right'>\n",
       "    Cards - Execution started 23/02/2023 13:15 UTC <br>\n",
       "    By <b>Guilherme Ruiz</b>\n",
       "</div>"
      ],
      "text/plain": [
       "<IPython.core.display.Markdown object>"
      ]
     },
     "execution_count": 1,
     "metadata": {},
     "output_type": "execute_result"
    }
   ],
   "source": [
    "from yugiquery import *\n",
    "header('Cards')"
   ]
  },
  {
   "cell_type": "markdown",
   "id": "48cd2c04-37eb-408f-86ee-17e204a2cea9",
   "metadata": {
    "papermill": {
     "duration": 0.063612,
     "end_time": "2023-02-22T22:24:18.102172",
     "exception": false,
     "start_time": "2023-02-22T22:24:18.038560",
     "status": "completed"
    },
    "tags": []
   },
   "source": [
    "---"
   ]
  },
  {
   "cell_type": "markdown",
   "id": "6e66c226",
   "metadata": {
    "papermill": {
     "duration": 0.041131,
     "end_time": "2023-02-22T22:24:18.189667",
     "exception": false,
     "start_time": "2023-02-22T22:24:18.148536",
     "status": "completed"
    },
    "tags": [],
    "toc": true
   },
   "source": [
    "Table of Contents\n",
    "=================\n",
    "\n",
    "*   [1  Data aquisition](#Data-aquisition)\n",
    "    *   [1.1  Fetch online data](#Fetch-online-data)\n",
    "    *   [1.2  Merge data](#Merge-data)\n",
    "*   [2  Check changes](#Check-changes)\n",
    "    *   [2.1  Load previous data](#Load-previous-data)\n",
    "    *   [2.2  Generate changelog](#Generate-changelog)\n",
    "    *   [2.3  Save data](#Save-data)\n",
    "*   [3  Data visualization](#Data-visualization)\n",
    "    *   [3.1  Full data](#Full-data)\n",
    "    *   [3.2  Card types](#Card-types)\n",
    "    *   [3.3  Monsters](#Monsters)\n",
    "        *   [3.3.1  Attributes](#Attributes)\n",
    "        *   [3.3.2  Primary types](#Primary-types)\n",
    "            *   [3.3.2.1  Has effect discrimination](#Has-effect-discrimination)\n",
    "            *   [3.3.2.2  Is pendulum discrimination](#Is-pendulum-discrimination)\n",
    "            *   [3.3.2.3  By attribute](#By-attribute)\n",
    "        *   [3.3.3  Secondary types](#Secondary-types)\n",
    "            *   [3.3.3.1  By attribute](#By-attribute)\n",
    "            *   [3.3.3.2  By secondary type](#By-secondary-type)\n",
    "        *   [3.3.4  Monster types](#Monster-types)\n",
    "            *   [3.3.4.1  By Attribute](#By-Attribute)\n",
    "            *   [3.3.4.2  By primary type](#By-primary-type)\n",
    "            *   [3.3.4.3  By secondary type](#By-secondary-type)\n",
    "        *   [3.3.5  Effect type](#Effect-type)\n",
    "        *   [3.3.6  ATK](#ATK)\n",
    "        *   [3.3.7  DEF](#DEF)\n",
    "        *   [3.3.8  Level/Rank](#Level/Rank)\n",
    "            *   [3.3.8.1  ATK statistics](#ATK-statistics)\n",
    "            *   [3.3.8.2  DEF statistics](#DEF-statistics)\n",
    "        *   [3.3.9  Pendulum scale](#Pendulum-scale)\n",
    "            *   [3.3.9.1  ATK statistics](#ATK-statistics)\n",
    "            *   [3.3.9.2  DEF statistics](#DEF-statistics)\n",
    "            *   [3.3.9.3  Level/Rank statistics](#Level/Rank-statistics)\n",
    "        *   [3.3.10  Link](#Link)\n",
    "            *   [3.3.10.1  ATK statistics](#ATK-statistics)\n",
    "        *   [3.3.11  Link Arrows](#Link-Arrows)\n",
    "            *   [3.3.11.1  By combination](#By-combination)\n",
    "            *   [3.3.11.2  By unique](#By-unique)\n",
    "            *   [3.3.11.3  By link](#By-link)\n",
    "    *   [3.4  Spell & Trap](#Spell-&-Trap)\n",
    "        *   [3.4.1  Properties](#Properties)\n",
    "        *   [3.4.2  Effect type](#Effect-type)\n",
    "            *   [3.4.2.1  Spell & Trap discrimination](#Spell-&-Trap-discrimination)\n",
    "    *   [3.5  Archseries](#Archseries)\n",
    "        *   [3.5.1  By card type](#By-card-type)\n",
    "        *   [3.5.2  By primary type](#By-primary-type)\n",
    "        *   [3.5.3  By secondary type](#By-secondary-type)\n",
    "        *   [3.5.4  By monster type](#By-monster-type)\n",
    "        *   [3.5.5  By property](#By-property)\n",
    "    *   [3.6  Artworks](#Artworks)\n",
    "        *   [3.6.1  By card type](#By-card-type)\n",
    "        *   [3.6.2  By primary type](#By-primary-type)\n",
    "    *   [3.7  Errata](#Errata)\n",
    "        *   [3.7.1  By card type](#By-card-type)\n",
    "        *   [3.7.2  By primary type](#By-primary-type)\n",
    "        *   [3.7.3  By artwork](#By-artwork)\n",
    "    *   [3.8  TCG & OCG status](#TCG-&-OCG-status)\n",
    "        *   [3.8.1  TGC status](#TGC-status)\n",
    "            *   [3.8.1.1  By card type](#By-card-type)\n",
    "            *   [3.8.1.2  By monster type](#By-monster-type)\n",
    "            *   [3.8.1.3  By archseries](#By-archseries)\n",
    "        *   [3.8.2  OCG status](#OCG-status)\n",
    "            *   [3.8.2.1  By card type](#By-card-type)\n",
    "            *   [3.8.2.2  By monster type](#By-monster-type)\n",
    "            *   [3.8.2.3  By archseries](#By-archseries)\n",
    "        *   [3.8.3  TCG vs. OCG status](#TCG-vs.-OCG-status)\n",
    "*   [4  Extras](#Extras)\n",
    "    *   [4.1 Multiple secondary types](#Multiple-secondary-types)\n",
    "    *   [4.2 Not yet released](#Not-yet-released)\n",
    "    *   [4.3 Counters and Tokens](#Counters-and-Tokens)\n",
    "*   [5  Epilogue](#Epilogue)\n",
    "    *   [5.1  HTML export](#HTML-export)\n",
    "<!-- *   [5.2  Git](#Git) -->"
   ]
  },
  {
   "cell_type": "markdown",
   "id": "b60fae74",
   "metadata": {
    "papermill": {
     "duration": 0.040783,
     "end_time": "2023-02-22T22:24:18.272311",
     "exception": false,
     "start_time": "2023-02-22T22:24:18.231528",
     "status": "completed"
    },
    "tags": []
   },
   "source": [
    "# Data aquisition"
   ]
  },
  {
   "cell_type": "markdown",
   "id": "699f2460",
   "metadata": {
    "papermill": {
     "duration": 0.041502,
     "end_time": "2023-02-22T22:24:18.354961",
     "exception": false,
     "start_time": "2023-02-22T22:24:18.313459",
     "status": "completed"
    },
    "tags": []
   },
   "source": [
    "## Fetch online data"
   ]
  },
  {
   "cell_type": "code",
   "execution_count": null,
   "id": "135ab538",
   "metadata": {
    "papermill": {
     "duration": 0.051187,
     "end_time": "2023-02-22T22:24:18.447381",
     "exception": false,
     "start_time": "2023-02-22T22:24:18.396194",
     "status": "completed"
    },
    "tags": []
   },
   "outputs": [],
   "source": [
    "# Timestamp\n",
    "timestamp = pd.Timestamp.now()"
   ]
  },
  {
   "cell_type": "code",
   "execution_count": null,
   "id": "a5ac8487-bb9d-472c-857a-409b7eed3e2c",
   "metadata": {
    "papermill": {
     "duration": 84.538069,
     "end_time": "2023-02-22T22:25:43.027320",
     "exception": false,
     "start_time": "2023-02-22T22:24:18.489251",
     "status": "completed"
    },
    "tags": []
   },
   "outputs": [],
   "source": [
    "# Fetch Monster\n",
    "monster_df = fetch_monster()"
   ]
  },
  {
   "cell_type": "code",
   "execution_count": null,
   "id": "f62e94af-db1f-4ba5-9a7c-979b919625f3",
   "metadata": {
    "papermill": {
     "duration": 35.623919,
     "end_time": "2023-02-22T22:26:18.722992",
     "exception": false,
     "start_time": "2023-02-22T22:25:43.099073",
     "status": "completed"
    },
    "tags": []
   },
   "outputs": [],
   "source": [
    "# Fetch Spell\n",
    "spell_df = fetch_st(st='Spell')\n",
    "\n",
    "# Fetch Trap\n",
    "trap_df = fetch_st(st='Trap')"
   ]
  },
  {
   "cell_type": "code",
   "execution_count": null,
   "id": "913baa55-a117-4794-9b0c-9839cce927df",
   "metadata": {
    "papermill": {
     "duration": 8.444108,
     "end_time": "2023-02-22T22:26:27.209817",
     "exception": false,
     "start_time": "2023-02-22T22:26:18.765709",
     "status": "completed"
    },
    "tags": []
   },
   "outputs": [],
   "source": [
    "# Fetch Token\n",
    "token_df = fetch_token()\n",
    "\n",
    "# Fetch Counter\n",
    "counter_df = fetch_counter()\n",
    "\n",
    "# Fetch errata\n",
    "errata_df = fetch_errata()"
   ]
  },
  {
   "cell_type": "markdown",
   "id": "ffe04a8e-544d-4e73-947d-de6d5615bca3",
   "metadata": {
    "papermill": {
     "duration": 0.044228,
     "end_time": "2023-02-22T22:26:27.299259",
     "exception": false,
     "start_time": "2023-02-22T22:26:27.255031",
     "status": "completed"
    },
    "tags": []
   },
   "source": [
    "## Merge data"
   ]
  },
  {
   "cell_type": "code",
   "execution_count": null,
   "id": "3669c6ff-2f6a-4a09-b80c-0cf361caf929",
   "metadata": {
    "papermill": {
     "duration": 1.035247,
     "end_time": "2023-02-22T22:26:28.377929",
     "exception": false,
     "start_time": "2023-02-22T22:26:27.342682",
     "status": "completed"
    },
    "tags": []
   },
   "outputs": [],
   "source": [
    "# Merge errata\n",
    "monster_df = merge_errata(monster_df, errata_df)\n",
    "spell_df = merge_errata(spell_df, errata_df)\n",
    "trap_df = merge_errata(trap_df, errata_df)\n",
    "token_df = merge_errata(token_df, errata_df)\n",
    "counter_df = merge_errata(counter_df, errata_df)\n",
    "\n",
    "# Add counters to tokens data frame\n",
    "token_df = pd.concat([token_df, counter_df], ignore_index=True, axis=0).sort_values('Name').reset_index(drop=True)\n",
    "\n",
    "# Create combined spell and trap data frame\n",
    "st_df = pd.concat([spell_df, trap_df], ignore_index=True, axis=0).sort_values('Name').reset_index(drop=True)\n",
    "\n",
    "# Create combined monster, spell and trap data frames\n",
    "cards_df = pd.concat([st_df, monster_df], ignore_index=True, axis=0).sort_values('Name').reset_index(drop=True)\n",
    "\n",
    "# Create combined data frames with full data\n",
    "full_df = pd.concat([cards_df, token_df], ignore_index=True, axis=0).sort_values('Name').reset_index(drop=True)\n",
    "\n",
    "print('Data merged')"
   ]
  },
  {
   "cell_type": "markdown",
   "id": "9ff0cf51",
   "metadata": {
    "papermill": {
     "duration": 0.066959,
     "end_time": "2023-02-22T22:26:28.492052",
     "exception": false,
     "start_time": "2023-02-22T22:26:28.425093",
     "status": "completed"
    },
    "tags": []
   },
   "source": [
    "# Check changes"
   ]
  },
  {
   "cell_type": "markdown",
   "id": "233e965d",
   "metadata": {
    "papermill": {
     "duration": 0.045648,
     "end_time": "2023-02-22T22:26:28.584087",
     "exception": false,
     "start_time": "2023-02-22T22:26:28.538439",
     "status": "completed"
    },
    "tags": []
   },
   "source": [
    "## Load previous data"
   ]
  },
  {
   "cell_type": "code",
   "execution_count": 2,
   "id": "fb7dc6f8",
   "metadata": {
    "papermill": {
     "duration": 0.66308,
     "end_time": "2023-02-22T22:26:29.293911",
     "exception": false,
     "start_time": "2023-02-22T22:26:28.630831",
     "status": "completed"
    },
    "tags": []
   },
   "outputs": [
    {
     "ename": "NameError",
     "evalue": "name 'full_df' is not defined",
     "output_type": "error",
     "traceback": [
      "\u001b[0;31m---------------------------------------------------------------------------\u001b[0m",
      "\u001b[0;31mNameError\u001b[0m                                 Traceback (most recent call last)",
      "Cell \u001b[0;32mIn[2], line 12\u001b[0m\n\u001b[1;32m     10\u001b[0m     previous_df[col] \u001b[38;5;241m=\u001b[39m previous_df[col]\u001b[38;5;241m.\u001b[39mdropna()\u001b[38;5;241m.\u001b[39mapply(literal_eval)\n\u001b[1;32m     11\u001b[0m \u001b[38;5;66;03m# Force dtypes to match current df\u001b[39;00m\n\u001b[0;32m---> 12\u001b[0m previous_df \u001b[38;5;241m=\u001b[39m previous_df\u001b[38;5;241m.\u001b[39mastype(\u001b[43mfull_df\u001b[49m[previous_df\u001b[38;5;241m.\u001b[39mcolumns\u001b[38;5;241m.\u001b[39mintersection(full_df\u001b[38;5;241m.\u001b[39mcolumns)]\u001b[38;5;241m.\u001b[39mdtypes\u001b[38;5;241m.\u001b[39mto_dict())\n\u001b[1;32m     13\u001b[0m previous_ts \u001b[38;5;241m=\u001b[39m pd\u001b[38;5;241m.\u001b[39mto_datetime(os\u001b[38;5;241m.\u001b[39mpath\u001b[38;5;241m.\u001b[39mbasename(files_list[\u001b[38;5;241m0\u001b[39m])\u001b[38;5;241m.\u001b[39msplit(\u001b[38;5;124m'\u001b[39m\u001b[38;5;124m_\u001b[39m\u001b[38;5;124m'\u001b[39m)[\u001b[38;5;241m-\u001b[39m\u001b[38;5;241m1\u001b[39m]\u001b[38;5;241m.\u001b[39msplit(\u001b[38;5;124m'\u001b[39m\u001b[38;5;124m.csv\u001b[39m\u001b[38;5;124m'\u001b[39m)[\u001b[38;5;241m0\u001b[39m])\n\u001b[1;32m     14\u001b[0m \u001b[38;5;28mprint\u001b[39m(\u001b[38;5;124m'\u001b[39m\u001b[38;5;124mFile loaded\u001b[39m\u001b[38;5;124m'\u001b[39m)\n",
      "\u001b[0;31mNameError\u001b[0m: name 'full_df' is not defined"
     ]
    }
   ],
   "source": [
    "# Get list of files\n",
    "files_list = sorted(glob.glob('../data/all_cards_*.csv'), key=os.path.getctime, reverse=True)\n",
    "# Get second newest file if exist\n",
    "if files_list:\n",
    "    latest_file = files_list[0]\n",
    "    # Load csv avoiding converting \"NA\" to NaN\n",
    "    previous_df = pd.read_csv(latest_file, dtype=object, keep_default_na=False, na_values=[''])\n",
    "    # Correct tuples\n",
    "    tuple_cols = ['Effect type', 'Secondary type', 'Link Arrows', 'Archseries', 'Artwork', 'Errata']\n",
    "    for col in tuple_cols:\n",
    "        previous_df[col] = previous_df[col].dropna().apply(literal_eval)\n",
    "    # Force dtypes to match current df\n",
    "    previous_df = previous_df.astype(full_df[previous_df.columns.intersection(full_df.columns)].dtypes.to_dict())\n",
    "    previous_ts = pd.to_datetime(os.path.basename(latest_file).split('_')[-1].split('.csv')[0])\n",
    "    print('File loaded')\n",
    "else:\n",
    "    previous_df = None\n",
    "    print('No older files')"
   ]
  },
  {
   "cell_type": "markdown",
   "id": "96ce5451",
   "metadata": {
    "papermill": {
     "duration": 0.067311,
     "end_time": "2023-02-22T22:26:29.405020",
     "exception": false,
     "start_time": "2023-02-22T22:26:29.337709",
     "status": "completed"
    },
    "tags": []
   },
   "source": [
    "## Generate changelog"
   ]
  },
  {
   "cell_type": "code",
   "execution_count": null,
   "id": "2fcca8f1",
   "metadata": {
    "papermill": {
     "duration": 0.393628,
     "end_time": "2023-02-22T22:26:29.843153",
     "exception": false,
     "start_time": "2023-02-22T22:26:29.449525",
     "status": "completed"
    },
    "tags": []
   },
   "outputs": [],
   "source": [
    "if previous_df is None:\n",
    "    changelog = None\n",
    "    print('Skipped')\n",
    "else:\n",
    "    changelog = generate_changelog(previous_df, full_df, col = 'Name')\n",
    "    if not changelog.empty:\n",
    "        display(changelog)\n",
    "        changelog.to_csv(f'../data/cards_changelog_{previous_ts.isoformat(timespec=\"minutes\")}_{timestamp.isoformat(timespec=\"minutes\")}.csv', index = True)\n",
    "        print('Changelog saved')"
   ]
  },
  {
   "cell_type": "markdown",
   "id": "9b15f8ec",
   "metadata": {
    "papermill": {
     "duration": 0.142508,
     "end_time": "2023-02-22T22:26:30.031104",
     "exception": false,
     "start_time": "2023-02-22T22:26:29.888596",
     "status": "completed"
    },
    "tags": []
   },
   "source": [
    "## Save data"
   ]
  },
  {
   "cell_type": "code",
   "execution_count": null,
   "id": "01e9eb77",
   "metadata": {
    "papermill": {
     "duration": 0.331666,
     "end_time": "2023-02-22T22:26:30.407431",
     "exception": false,
     "start_time": "2023-02-22T22:26:30.075765",
     "status": "completed"
    },
    "tags": []
   },
   "outputs": [],
   "source": [
    "if changelog is not None and changelog.empty:\n",
    "    print('No changes. New data not saved')\n",
    "else: \n",
    "    full_df.to_csv(f'../data/all_cards_{timestamp.isoformat(timespec=\"minutes\")}.csv', index = False)\n",
    "    print('Data saved')"
   ]
  },
  {
   "cell_type": "markdown",
   "id": "c0ae1017",
   "metadata": {
    "papermill": {
     "duration": 0.089761,
     "end_time": "2023-02-22T22:26:30.542746",
     "exception": false,
     "start_time": "2023-02-22T22:26:30.452985",
     "status": "completed"
    },
    "tags": []
   },
   "source": [
    "# Data visualization"
   ]
  },
  {
   "cell_type": "markdown",
   "id": "5ad091af",
   "metadata": {
    "jp-MarkdownHeadingCollapsed": true,
    "papermill": {
     "duration": 0.044781,
     "end_time": "2023-02-22T22:26:30.633464",
     "exception": false,
     "start_time": "2023-02-22T22:26:30.588683",
     "status": "completed"
    },
    "tags": []
   },
   "source": [
    "## Full data"
   ]
  },
  {
   "cell_type": "code",
   "execution_count": null,
   "id": "fb024043",
   "metadata": {
    "papermill": {
     "duration": 0.091385,
     "end_time": "2023-02-22T22:26:30.769693",
     "exception": false,
     "start_time": "2023-02-22T22:26:30.678308",
     "status": "completed"
    },
    "tags": []
   },
   "outputs": [],
   "source": [
    "full_df"
   ]
  },
  {
   "cell_type": "markdown",
   "id": "da99ccde-ca38-4d81-8661-6f8514f689d7",
   "metadata": {
    "papermill": {
     "duration": 0.046734,
     "end_time": "2023-02-22T22:26:30.862629",
     "exception": false,
     "start_time": "2023-02-22T22:26:30.815895",
     "status": "completed"
    },
    "tags": []
   },
   "source": [
    "Full data available to download [here](../data)"
   ]
  },
  {
   "cell_type": "markdown",
   "id": "8a8cb7cd",
   "metadata": {
    "jp-MarkdownHeadingCollapsed": true,
    "papermill": {
     "duration": 0.045869,
     "end_time": "2023-02-22T22:26:30.953962",
     "exception": false,
     "start_time": "2023-02-22T22:26:30.908093",
     "status": "completed"
    },
    "tags": []
   },
   "source": [
    "## Card types"
   ]
  },
  {
   "cell_type": "code",
   "execution_count": null,
   "id": "a4ec32e1",
   "metadata": {
    "papermill": {
     "duration": 0.06536,
     "end_time": "2023-02-22T22:26:31.065344",
     "exception": false,
     "start_time": "2023-02-22T22:26:30.999984",
     "status": "completed"
    },
    "tags": []
   },
   "outputs": [],
   "source": [
    "print('Total number of card types:', cards_df['Card type'].nunique())"
   ]
  },
  {
   "cell_type": "code",
   "execution_count": null,
   "id": "120a72dc",
   "metadata": {
    "papermill": {
     "duration": 0.354006,
     "end_time": "2023-02-22T22:26:31.466241",
     "exception": false,
     "start_time": "2023-02-22T22:26:31.112235",
     "status": "completed"
    },
    "tags": []
   },
   "outputs": [],
   "source": [
    "card_type_colors = [colors_dict[i] for i in full_df['Card type'].value_counts().index]\n",
    "cards_df['Card type'].value_counts().plot.bar(figsize = (18,6), grid = True, rot=0, color = card_type_colors, title = 'Card type')\n",
    "plt.show()"
   ]
  },
  {
   "cell_type": "markdown",
   "id": "fa1ed03c",
   "metadata": {
    "papermill": {
     "duration": 0.04626,
     "end_time": "2023-02-22T22:26:31.560137",
     "exception": false,
     "start_time": "2023-02-22T22:26:31.513877",
     "status": "completed"
    },
    "tags": []
   },
   "source": [
    "## Monsters"
   ]
  },
  {
   "cell_type": "markdown",
   "id": "66c5f658",
   "metadata": {
    "papermill": {
     "duration": 0.045782,
     "end_time": "2023-02-22T22:26:31.652877",
     "exception": false,
     "start_time": "2023-02-22T22:26:31.607095",
     "status": "completed"
    },
    "tags": []
   },
   "source": [
    "### Attributes"
   ]
  },
  {
   "cell_type": "code",
   "execution_count": null,
   "id": "aa4e6a26",
   "metadata": {
    "papermill": {
     "duration": 0.063534,
     "end_time": "2023-02-22T22:26:31.762729",
     "exception": false,
     "start_time": "2023-02-22T22:26:31.699195",
     "status": "completed"
    },
    "tags": []
   },
   "outputs": [],
   "source": [
    "print('Total number of attributes:', monster_df['Attribute'].nunique())"
   ]
  },
  {
   "cell_type": "code",
   "execution_count": null,
   "id": "ea26720e",
   "metadata": {
    "papermill": {
     "duration": 0.132074,
     "end_time": "2023-02-22T22:26:31.941974",
     "exception": false,
     "start_time": "2023-02-22T22:26:31.809900",
     "status": "completed"
    },
    "tags": []
   },
   "outputs": [],
   "source": [
    "monster_df.drop(columns=['Card type', 'Page name', 'Page URL']).groupby('Attribute').nunique()"
   ]
  },
  {
   "cell_type": "code",
   "execution_count": null,
   "id": "c4ff5f74",
   "metadata": {
    "papermill": {
     "duration": 0.332625,
     "end_time": "2023-02-22T22:26:32.323228",
     "exception": false,
     "start_time": "2023-02-22T22:26:31.990603",
     "status": "completed"
    },
    "tags": []
   },
   "outputs": [],
   "source": [
    "attribute_colors = [colors_dict[i] for i in monster_df['Attribute'].value_counts().index]\n",
    "monster_df['Attribute'].value_counts().plot.bar(figsize = (18,6), grid = True, rot=0, color = attribute_colors, title = 'Attribute')\n",
    "plt.show()"
   ]
  },
  {
   "cell_type": "markdown",
   "id": "d0d71936",
   "metadata": {
    "papermill": {
     "duration": 0.118635,
     "end_time": "2023-02-22T22:26:32.490824",
     "exception": false,
     "start_time": "2023-02-22T22:26:32.372189",
     "status": "completed"
    },
    "tags": []
   },
   "source": [
    "### Primary types"
   ]
  },
  {
   "cell_type": "code",
   "execution_count": null,
   "id": "26e45412",
   "metadata": {
    "papermill": {
     "duration": 0.066794,
     "end_time": "2023-02-22T22:26:32.620710",
     "exception": false,
     "start_time": "2023-02-22T22:26:32.553916",
     "status": "completed"
    },
    "tags": []
   },
   "outputs": [],
   "source": [
    "print('Total number of primary types:', monster_df['Primary type'].nunique())"
   ]
  },
  {
   "cell_type": "code",
   "execution_count": null,
   "id": "c7e4c6b0",
   "metadata": {
    "papermill": {
     "duration": 0.136226,
     "end_time": "2023-02-22T22:26:32.805477",
     "exception": false,
     "start_time": "2023-02-22T22:26:32.669251",
     "status": "completed"
    },
    "tags": []
   },
   "outputs": [],
   "source": [
    "monster_df.drop(columns=['Card type', 'Page name', 'Page URL']).groupby('Primary type').nunique()"
   ]
  },
  {
   "cell_type": "markdown",
   "id": "d41d8e4a",
   "metadata": {
    "papermill": {
     "duration": 0.04807,
     "end_time": "2023-02-22T22:26:32.903964",
     "exception": false,
     "start_time": "2023-02-22T22:26:32.855894",
     "status": "completed"
    },
    "tags": []
   },
   "source": [
    "#### Has effect discrimination"
   ]
  },
  {
   "cell_type": "code",
   "execution_count": null,
   "id": "c14a59a2-0a34-4a99-a232-b04231647db5",
   "metadata": {
    "papermill": {
     "duration": 0.081576,
     "end_time": "2023-02-22T22:26:33.034165",
     "exception": false,
     "start_time": "2023-02-22T22:26:32.952589",
     "status": "completed"
    },
    "tags": []
   },
   "outputs": [],
   "source": [
    "effect = pd.crosstab(monster_df['Primary type'], pd.isna(monster_df['Effect type']),\n",
    "rownames=['Primary type'], colnames=['Has effect']).rename(columns={True: 'No Effect', False: 'Effect'})\n",
    "effect"
   ]
  },
  {
   "cell_type": "code",
   "execution_count": null,
   "id": "82c24448",
   "metadata": {
    "papermill": {
     "duration": 0.448795,
     "end_time": "2023-02-22T22:26:33.531923",
     "exception": false,
     "start_time": "2023-02-22T22:26:33.083128",
     "status": "completed"
    },
    "tags": []
   },
   "outputs": [],
   "source": [
    "monster_type_colors = {'No Effect': colors_dict['Normal Monster'], 'Effect': [colors_dict[i] for i in effect.index]}\n",
    "effect.plot.bar(figsize = (18,6), stacked = True, grid = True, rot=0,  legend=True, color = monster_type_colors)\n",
    "# plt.yscale('log')\n",
    "plt.show()"
   ]
  },
  {
   "cell_type": "markdown",
   "id": "69d8824e",
   "metadata": {
    "papermill": {
     "duration": 0.052487,
     "end_time": "2023-02-22T22:26:33.635167",
     "exception": false,
     "start_time": "2023-02-22T22:26:33.582680",
     "status": "completed"
    },
    "tags": []
   },
   "source": [
    "Obs: Normal monster can have effect if it is pendulum"
   ]
  },
  {
   "cell_type": "markdown",
   "id": "1da2968f",
   "metadata": {
    "papermill": {
     "duration": 0.06148,
     "end_time": "2023-02-22T22:26:33.748976",
     "exception": false,
     "start_time": "2023-02-22T22:26:33.687496",
     "status": "completed"
    },
    "tags": []
   },
   "source": [
    "#### Is pendulum discrimination"
   ]
  },
  {
   "cell_type": "code",
   "execution_count": null,
   "id": "c18ac7a6",
   "metadata": {
    "papermill": {
     "duration": 0.081833,
     "end_time": "2023-02-22T22:26:33.883547",
     "exception": false,
     "start_time": "2023-02-22T22:26:33.801714",
     "status": "completed"
    },
    "tags": []
   },
   "outputs": [],
   "source": [
    "pendulum = pd.crosstab(monster_df['Primary type'], pd.isna(monster_df['Pendulum Scale']),\n",
    "rownames=['Primary type'], colnames=['Is Pendulum']).rename(columns={True: 'Not Pendulum', False: 'Pendulum'})\n",
    "pendulum"
   ]
  },
  {
   "cell_type": "code",
   "execution_count": null,
   "id": "fd0ff75c",
   "metadata": {
    "papermill": {
     "duration": 0.393633,
     "end_time": "2023-02-22T22:26:34.327944",
     "exception": false,
     "start_time": "2023-02-22T22:26:33.934311",
     "status": "completed"
    },
    "tags": []
   },
   "outputs": [],
   "source": [
    "monster_type_colors_b = {'Pendulum': colors_dict['Pendulum Monster'], 'Not Pendulum': [colors_dict[i] for i in pendulum.index]}\n",
    "pendulum.plot.bar(figsize = (18,6), stacked = True, grid = True, rot=0, color = monster_type_colors_b, legend=True, title = 'Primary types - Is pendulum')\n",
    "plt.show()"
   ]
  },
  {
   "cell_type": "markdown",
   "id": "a6a4f4f5",
   "metadata": {
    "papermill": {
     "duration": 0.066586,
     "end_time": "2023-02-22T22:26:34.446563",
     "exception": false,
     "start_time": "2023-02-22T22:26:34.379977",
     "status": "completed"
    },
    "tags": []
   },
   "source": [
    "#### By attribute"
   ]
  },
  {
   "cell_type": "code",
   "execution_count": null,
   "id": "9c162519",
   "metadata": {
    "papermill": {
     "duration": 0.129811,
     "end_time": "2023-02-22T22:26:34.628176",
     "exception": false,
     "start_time": "2023-02-22T22:26:34.498365",
     "status": "completed"
    },
    "tags": []
   },
   "outputs": [],
   "source": [
    "primmary_crosstab = pd.crosstab(cards_df['Primary type'],cards_df['Attribute'])\n",
    "primmary_crosstab"
   ]
  },
  {
   "cell_type": "code",
   "execution_count": null,
   "id": "a0114f45",
   "metadata": {
    "papermill": {
     "duration": 0.869788,
     "end_time": "2023-02-22T22:26:35.556501",
     "exception": false,
     "start_time": "2023-02-22T22:26:34.686713",
     "status": "completed"
    },
    "tags": []
   },
   "outputs": [],
   "source": [
    "plt.figure(figsize = (16,10))\n",
    "sns.heatmap(primmary_crosstab.T, annot=True, fmt=\"g\", cmap='viridis', square=True, norm=mc.LogNorm())\n",
    "plt.show()"
   ]
  },
  {
   "cell_type": "markdown",
   "id": "0c70885e",
   "metadata": {
    "papermill": {
     "duration": 0.071077,
     "end_time": "2023-02-22T22:26:35.681651",
     "exception": false,
     "start_time": "2023-02-22T22:26:35.610574",
     "status": "completed"
    },
    "tags": []
   },
   "source": [
    "### Secondary types"
   ]
  },
  {
   "cell_type": "code",
   "execution_count": null,
   "id": "ee184462",
   "metadata": {
    "papermill": {
     "duration": 0.156992,
     "end_time": "2023-02-22T22:26:35.892308",
     "exception": false,
     "start_time": "2023-02-22T22:26:35.735316",
     "status": "completed"
    },
    "tags": []
   },
   "outputs": [],
   "source": [
    "exploded_secondary_type = monster_df.explode('Secondary type')\n",
    "print('Total number of secondary types:', exploded_secondary_type['Secondary type'].nunique())"
   ]
  },
  {
   "cell_type": "code",
   "execution_count": null,
   "id": "125f438e",
   "metadata": {
    "papermill": {
     "duration": 0.134675,
     "end_time": "2023-02-22T22:26:36.079980",
     "exception": false,
     "start_time": "2023-02-22T22:26:35.945305",
     "status": "completed"
    },
    "tags": []
   },
   "outputs": [],
   "source": [
    "exploded_secondary_type.drop(columns=['Card type', 'Link', 'Link Arrows', 'Page name', 'Page URL']).groupby('Secondary type').nunique()"
   ]
  },
  {
   "cell_type": "code",
   "execution_count": null,
   "id": "a4fec827",
   "metadata": {
    "papermill": {
     "duration": 0.321746,
     "end_time": "2023-02-22T22:26:36.456625",
     "exception": false,
     "start_time": "2023-02-22T22:26:36.134879",
     "status": "completed"
    },
    "tags": []
   },
   "outputs": [],
   "source": [
    "secondary_type_colors = colors_dict['Effect Monster']\n",
    "exploded_secondary_type['Secondary type'].value_counts().plot.bar(figsize = (18,6), stacked = True, grid = True, rot=0, color = secondary_type_colors, legend=False, title = 'Secondary type')\n",
    "plt.show()"
   ]
  },
  {
   "cell_type": "markdown",
   "id": "0420679a",
   "metadata": {
    "papermill": {
     "duration": 0.053554,
     "end_time": "2023-02-22T22:26:36.565082",
     "exception": false,
     "start_time": "2023-02-22T22:26:36.511528",
     "status": "completed"
    },
    "tags": []
   },
   "source": [
    "#### By attribute"
   ]
  },
  {
   "cell_type": "code",
   "execution_count": null,
   "id": "085225bb",
   "metadata": {
    "papermill": {
     "duration": 0.087904,
     "end_time": "2023-02-22T22:26:36.707864",
     "exception": false,
     "start_time": "2023-02-22T22:26:36.619960",
     "status": "completed"
    },
    "tags": []
   },
   "outputs": [],
   "source": [
    "secondary_crosstab = pd.crosstab(exploded_secondary_type['Secondary type'],exploded_secondary_type['Attribute'])\n",
    "secondary_crosstab"
   ]
  },
  {
   "cell_type": "code",
   "execution_count": null,
   "id": "b69fe297",
   "metadata": {
    "papermill": {
     "duration": 0.702259,
     "end_time": "2023-02-22T22:26:37.465529",
     "exception": false,
     "start_time": "2023-02-22T22:26:36.763270",
     "status": "completed"
    },
    "tags": []
   },
   "outputs": [],
   "source": [
    "plt.figure(figsize = (8,6))\n",
    "sns.heatmap(secondary_crosstab[secondary_crosstab>0], annot=True, fmt=\"g\", cmap='viridis', square=True)\n",
    "plt.show()"
   ]
  },
  {
   "cell_type": "markdown",
   "id": "30b035c2",
   "metadata": {
    "papermill": {
     "duration": 0.073255,
     "end_time": "2023-02-22T22:26:37.594526",
     "exception": false,
     "start_time": "2023-02-22T22:26:37.521271",
     "status": "completed"
    },
    "tags": []
   },
   "source": [
    "#### By secondary type"
   ]
  },
  {
   "cell_type": "code",
   "execution_count": null,
   "id": "c8f08039",
   "metadata": {
    "papermill": {
     "duration": 0.123889,
     "end_time": "2023-02-22T22:26:37.776878",
     "exception": false,
     "start_time": "2023-02-22T22:26:37.652989",
     "status": "completed"
    },
    "tags": []
   },
   "outputs": [],
   "source": [
    "secondary_crosstab_b = pd.crosstab(exploded_secondary_type['Primary type'],exploded_secondary_type['Secondary type'], margins = True)\n",
    "secondary_crosstab_b"
   ]
  },
  {
   "cell_type": "code",
   "execution_count": null,
   "id": "4749ace2",
   "metadata": {
    "papermill": {
     "duration": 0.935578,
     "end_time": "2023-02-22T22:26:38.770020",
     "exception": false,
     "start_time": "2023-02-22T22:26:37.834442",
     "status": "completed"
    },
    "tags": []
   },
   "outputs": [],
   "source": [
    "plt.figure(figsize = (10,7))\n",
    "sns.heatmap(secondary_crosstab_b, annot=True, fmt=\"g\", cmap='viridis', square=True, norm=mc.LogNorm())\n",
    "plt.show()"
   ]
  },
  {
   "cell_type": "markdown",
   "id": "9682c65a",
   "metadata": {
    "papermill": {
     "duration": 0.07234,
     "end_time": "2023-02-22T22:26:38.899456",
     "exception": false,
     "start_time": "2023-02-22T22:26:38.827116",
     "status": "completed"
    },
    "tags": []
   },
   "source": [
    "### Monster types"
   ]
  },
  {
   "cell_type": "code",
   "execution_count": null,
   "id": "dab77100",
   "metadata": {
    "papermill": {
     "duration": 0.075694,
     "end_time": "2023-02-22T22:26:39.033801",
     "exception": false,
     "start_time": "2023-02-22T22:26:38.958107",
     "status": "completed"
    },
    "tags": []
   },
   "outputs": [],
   "source": [
    "print('Total number of monster types:', monster_df['Monster type'].nunique())"
   ]
  },
  {
   "cell_type": "code",
   "execution_count": null,
   "id": "02f5b750",
   "metadata": {
    "papermill": {
     "duration": 0.170179,
     "end_time": "2023-02-22T22:26:39.262044",
     "exception": false,
     "start_time": "2023-02-22T22:26:39.091865",
     "status": "completed"
    },
    "tags": []
   },
   "outputs": [],
   "source": [
    "monster_df.drop(columns=['Card type', 'Page name', 'Page URL']).groupby('Monster type').nunique()"
   ]
  },
  {
   "cell_type": "code",
   "execution_count": null,
   "id": "75111774",
   "metadata": {
    "papermill": {
     "duration": 0.501384,
     "end_time": "2023-02-22T22:26:39.823553",
     "exception": false,
     "start_time": "2023-02-22T22:26:39.322169",
     "status": "completed"
    },
    "tags": []
   },
   "outputs": [],
   "source": [
    "monster_type_colors = colors_dict['Monster Card']\n",
    "monster_df['Monster type'].value_counts().plot.bar(figsize = (18,6), grid = True, rot=45, color = monster_type_colors, title = 'Monster type')\n",
    "plt.show()"
   ]
  },
  {
   "cell_type": "markdown",
   "id": "32d282b7",
   "metadata": {
    "papermill": {
     "duration": 0.102486,
     "end_time": "2023-02-22T22:26:39.987255",
     "exception": false,
     "start_time": "2023-02-22T22:26:39.884769",
     "status": "completed"
    },
    "tags": []
   },
   "source": [
    "#### By Attribute"
   ]
  },
  {
   "cell_type": "code",
   "execution_count": null,
   "id": "23d29373",
   "metadata": {
    "papermill": {
     "duration": 0.110032,
     "end_time": "2023-02-22T22:26:40.158246",
     "exception": false,
     "start_time": "2023-02-22T22:26:40.048214",
     "status": "completed"
    },
    "tags": []
   },
   "outputs": [],
   "source": [
    "monster_crosstab = pd.crosstab(cards_df['Monster type'],cards_df['Attribute'])\n",
    "monster_crosstab"
   ]
  },
  {
   "cell_type": "code",
   "execution_count": null,
   "id": "fd9ca22d",
   "metadata": {
    "papermill": {
     "duration": 1.166813,
     "end_time": "2023-02-22T22:26:41.387856",
     "exception": false,
     "start_time": "2023-02-22T22:26:40.221043",
     "status": "completed"
    },
    "tags": []
   },
   "outputs": [],
   "source": [
    "plt.figure(figsize = (20,5))\n",
    "sns.heatmap(monster_crosstab[monster_crosstab>0].T, annot=True, fmt=\"g\", cmap='viridis', square=True, norm=mc.LogNorm())\n",
    "plt.show()"
   ]
  },
  {
   "cell_type": "markdown",
   "id": "4daa9957",
   "metadata": {
    "papermill": {
     "duration": 0.129958,
     "end_time": "2023-02-22T22:26:41.583437",
     "exception": false,
     "start_time": "2023-02-22T22:26:41.453479",
     "status": "completed"
    },
    "tags": []
   },
   "source": [
    "#### By primary type"
   ]
  },
  {
   "cell_type": "code",
   "execution_count": null,
   "id": "0f5d0eda",
   "metadata": {
    "papermill": {
     "duration": 0.111672,
     "end_time": "2023-02-22T22:26:41.759762",
     "exception": false,
     "start_time": "2023-02-22T22:26:41.648090",
     "status": "completed"
    },
    "tags": []
   },
   "outputs": [],
   "source": [
    "monster_crosstab_b = pd.crosstab(cards_df['Monster type'],cards_df['Primary type'], dropna=False)\n",
    "monster_crosstab_b"
   ]
  },
  {
   "cell_type": "code",
   "execution_count": null,
   "id": "5f3b531c",
   "metadata": {
    "papermill": {
     "duration": 1.325589,
     "end_time": "2023-02-22T22:26:43.150006",
     "exception": false,
     "start_time": "2023-02-22T22:26:41.824417",
     "status": "completed"
    },
    "tags": []
   },
   "outputs": [],
   "source": [
    "plt.figure(figsize = (20,5))\n",
    "sns.heatmap(monster_crosstab_b[monster_crosstab_b>0].T, annot=True, fmt=\"g\", cmap='viridis', square=True, norm = mc.LogNorm())\n",
    "plt.show()"
   ]
  },
  {
   "cell_type": "markdown",
   "id": "9056b880",
   "metadata": {
    "papermill": {
     "duration": 0.114119,
     "end_time": "2023-02-22T22:26:43.337701",
     "exception": false,
     "start_time": "2023-02-22T22:26:43.223582",
     "status": "completed"
    },
    "tags": []
   },
   "source": [
    "#### By secondary type"
   ]
  },
  {
   "cell_type": "code",
   "execution_count": null,
   "id": "cbe5bef6",
   "metadata": {
    "papermill": {
     "duration": 0.128107,
     "end_time": "2023-02-22T22:26:43.568190",
     "exception": false,
     "start_time": "2023-02-22T22:26:43.440083",
     "status": "completed"
    },
    "tags": []
   },
   "outputs": [],
   "source": [
    "monster_crosstab_c = pd.crosstab(exploded_secondary_type['Monster type'],exploded_secondary_type['Secondary type'], dropna=False)\n",
    "monster_crosstab_c"
   ]
  },
  {
   "cell_type": "code",
   "execution_count": null,
   "id": "3712cc0e",
   "metadata": {
    "papermill": {
     "duration": 0.93496,
     "end_time": "2023-02-22T22:26:44.767419",
     "exception": false,
     "start_time": "2023-02-22T22:26:43.832459",
     "status": "completed"
    },
    "tags": []
   },
   "outputs": [],
   "source": [
    "plt.figure(figsize = (20,5))\n",
    "sns.heatmap(monster_crosstab_c[monster_crosstab_c>0].T, annot=True, fmt=\"g\", cmap='viridis', square=True, norm = mc.LogNorm())\n",
    "plt.show()"
   ]
  },
  {
   "cell_type": "markdown",
   "id": "aaf6f5d6",
   "metadata": {
    "papermill": {
     "duration": 0.069422,
     "end_time": "2023-02-22T22:26:44.906566",
     "exception": false,
     "start_time": "2023-02-22T22:26:44.837144",
     "status": "completed"
    },
    "tags": []
   },
   "source": [
    "### Effect type"
   ]
  },
  {
   "cell_type": "code",
   "execution_count": null,
   "id": "b44949a6",
   "metadata": {
    "papermill": {
     "duration": 0.104857,
     "end_time": "2023-02-22T22:26:45.080716",
     "exception": false,
     "start_time": "2023-02-22T22:26:44.975859",
     "status": "completed"
    },
    "tags": []
   },
   "outputs": [],
   "source": [
    "print('Total number of effect types:', monster_df['Effect type'].explode().nunique())"
   ]
  },
  {
   "cell_type": "code",
   "execution_count": null,
   "id": "c4e48718",
   "metadata": {
    "papermill": {
     "duration": 0.296599,
     "end_time": "2023-02-22T22:26:45.447480",
     "exception": false,
     "start_time": "2023-02-22T22:26:45.150881",
     "status": "completed"
    },
    "tags": []
   },
   "outputs": [],
   "source": [
    "monster_df[monster_df['Effect type'].notna()].drop(columns=['Card type', 'Page name', 'Page URL']).explode('Effect type').groupby('Effect type').nunique()"
   ]
  },
  {
   "cell_type": "code",
   "execution_count": null,
   "id": "ff912d52",
   "metadata": {
    "papermill": {
     "duration": 0.504636,
     "end_time": "2023-02-22T22:26:46.023403",
     "exception": false,
     "start_time": "2023-02-22T22:26:45.518767",
     "status": "completed"
    },
    "tags": []
   },
   "outputs": [],
   "source": [
    "monster_effect_colors = colors_dict['Effect Monster']\n",
    "monster_df['Effect type'].explode('Effect type').value_counts().plot.bar(figsize = (18,6), grid = True, color = monster_effect_colors, title='Effect type')\n",
    "# plt.yscale('log')\n",
    "plt.show()"
   ]
  },
  {
   "cell_type": "markdown",
   "id": "371f2c74",
   "metadata": {
    "papermill": {
     "duration": 0.101454,
     "end_time": "2023-02-22T22:26:46.196425",
     "exception": false,
     "start_time": "2023-02-22T22:26:46.094971",
     "status": "completed"
    },
    "tags": []
   },
   "source": [
    "### ATK"
   ]
  },
  {
   "cell_type": "code",
   "execution_count": null,
   "id": "1b5db865",
   "metadata": {
    "papermill": {
     "duration": 0.088917,
     "end_time": "2023-02-22T22:26:46.357483",
     "exception": false,
     "start_time": "2023-02-22T22:26:46.268566",
     "status": "completed"
    },
    "tags": []
   },
   "outputs": [],
   "source": [
    "print('Total number of ATK values:', monster_df['ATK'].nunique())"
   ]
  },
  {
   "cell_type": "code",
   "execution_count": null,
   "id": "16b9aa14",
   "metadata": {
    "papermill": {
     "duration": 0.193408,
     "end_time": "2023-02-22T22:26:46.624128",
     "exception": false,
     "start_time": "2023-02-22T22:26:46.430720",
     "status": "completed"
    },
    "tags": []
   },
   "outputs": [],
   "source": [
    "monster_df.drop(columns=['Card type', 'Page name', 'Page URL']).groupby('ATK').nunique().sort_index(key=lambda x: pd.to_numeric(x, errors = 'coerce'))"
   ]
  },
  {
   "cell_type": "code",
   "execution_count": null,
   "id": "3b1b2e1d",
   "metadata": {
    "papermill": {
     "duration": 0.982726,
     "end_time": "2023-02-22T22:26:47.682446",
     "exception": false,
     "start_time": "2023-02-22T22:26:46.699720",
     "status": "completed"
    },
    "tags": []
   },
   "outputs": [],
   "source": [
    "atk_colors = colors_dict['Monster Card']\n",
    "monster_df['ATK'].value_counts().sort_index(key=lambda x: pd.to_numeric(x, errors = 'coerce')).plot.bar(figsize = (18,6), grid = True, color = atk_colors, title = 'ATK')\n",
    "plt.show()"
   ]
  },
  {
   "cell_type": "markdown",
   "id": "cda8b288",
   "metadata": {
    "papermill": {
     "duration": 0.073709,
     "end_time": "2023-02-22T22:26:47.829367",
     "exception": false,
     "start_time": "2023-02-22T22:26:47.755658",
     "status": "completed"
    },
    "tags": []
   },
   "source": [
    "### DEF"
   ]
  },
  {
   "cell_type": "code",
   "execution_count": null,
   "id": "2aa0ba61",
   "metadata": {
    "papermill": {
     "duration": 0.090602,
     "end_time": "2023-02-22T22:26:47.994336",
     "exception": false,
     "start_time": "2023-02-22T22:26:47.903734",
     "status": "completed"
    },
    "tags": []
   },
   "outputs": [],
   "source": [
    "print('Total number of DEF values:', monster_df['DEF'].nunique())"
   ]
  },
  {
   "cell_type": "code",
   "execution_count": null,
   "id": "54e9d56a",
   "metadata": {
    "papermill": {
     "duration": 0.176608,
     "end_time": "2023-02-22T22:26:48.244181",
     "exception": false,
     "start_time": "2023-02-22T22:26:48.067573",
     "status": "completed"
    },
    "tags": []
   },
   "outputs": [],
   "source": [
    "monster_df.drop(columns=['Card type', 'Page name', 'Page URL']).groupby('DEF').nunique().sort_index(key=lambda x: pd.to_numeric(x, errors = 'coerce'))"
   ]
  },
  {
   "cell_type": "code",
   "execution_count": null,
   "id": "10aeff48",
   "metadata": {
    "papermill": {
     "duration": 0.951342,
     "end_time": "2023-02-22T22:26:49.270700",
     "exception": false,
     "start_time": "2023-02-22T22:26:48.319358",
     "status": "completed"
    },
    "tags": []
   },
   "outputs": [],
   "source": [
    "def_colors = colors_dict['Monster Card']\n",
    "monster_df['DEF'].value_counts().sort_index(key=lambda x: pd.to_numeric(x, errors = 'coerce')).plot.bar(figsize = (18,6), grid = True, color = def_colors, title = 'DEF')\n",
    "plt.show()"
   ]
  },
  {
   "cell_type": "markdown",
   "id": "4f26bf6d",
   "metadata": {
    "papermill": {
     "duration": 0.074426,
     "end_time": "2023-02-22T22:26:49.419942",
     "exception": false,
     "start_time": "2023-02-22T22:26:49.345516",
     "status": "completed"
    },
    "tags": []
   },
   "source": [
    "### Level/Rank"
   ]
  },
  {
   "cell_type": "code",
   "execution_count": null,
   "id": "f5543138",
   "metadata": {
    "papermill": {
     "duration": 0.165678,
     "end_time": "2023-02-22T22:26:49.671542",
     "exception": false,
     "start_time": "2023-02-22T22:26:49.505864",
     "status": "completed"
    },
    "tags": []
   },
   "outputs": [],
   "source": [
    "monster_df.drop(columns=['Card type', 'Link', 'Link Arrows', 'Page name', 'Page URL']).groupby('Level/Rank').nunique().sort_index(key=lambda x: pd.to_numeric(x, errors = 'coerce'))"
   ]
  },
  {
   "cell_type": "code",
   "execution_count": null,
   "id": "31539bdc",
   "metadata": {
    "papermill": {
     "duration": 0.600603,
     "end_time": "2023-02-22T22:26:50.347890",
     "exception": false,
     "start_time": "2023-02-22T22:26:49.747287",
     "status": "completed"
    },
    "tags": []
   },
   "outputs": [],
   "source": [
    "stars_colors = colors_dict['Level']\n",
    "monster_df['Level/Rank'].value_counts().sort_index(key=lambda x: pd.to_numeric(x, errors = 'coerce')).plot.bar(figsize = (18,6), grid = True, rot=0, color= stars_colors, title = 'Level/Rank')\n",
    "plt.show()"
   ]
  },
  {
   "cell_type": "markdown",
   "id": "6a08e2b8",
   "metadata": {
    "papermill": {
     "duration": 0.076222,
     "end_time": "2023-02-22T22:26:50.501159",
     "exception": false,
     "start_time": "2023-02-22T22:26:50.424937",
     "status": "completed"
    },
    "tags": []
   },
   "source": [
    "#### ATK statistics"
   ]
  },
  {
   "cell_type": "code",
   "execution_count": null,
   "id": "06dc9107",
   "metadata": {
    "papermill": {
     "duration": 0.177556,
     "end_time": "2023-02-22T22:26:50.760889",
     "exception": false,
     "start_time": "2023-02-22T22:26:50.583333",
     "status": "completed"
    },
    "tags": []
   },
   "outputs": [],
   "source": [
    "monster_df[['Level/Rank','ATK']].apply(pd.to_numeric, errors = 'coerce').dropna().astype(int).groupby('Level/Rank').describe()"
   ]
  },
  {
   "cell_type": "markdown",
   "id": "b8a04916",
   "metadata": {
    "papermill": {
     "duration": 0.077491,
     "end_time": "2023-02-22T22:26:50.918010",
     "exception": false,
     "start_time": "2023-02-22T22:26:50.840519",
     "status": "completed"
    },
    "tags": []
   },
   "source": [
    "#### DEF statistics"
   ]
  },
  {
   "cell_type": "code",
   "execution_count": null,
   "id": "cc005e78",
   "metadata": {
    "papermill": {
     "duration": 0.176759,
     "end_time": "2023-02-22T22:26:51.172762",
     "exception": false,
     "start_time": "2023-02-22T22:26:50.996003",
     "status": "completed"
    },
    "tags": []
   },
   "outputs": [],
   "source": [
    "monster_df[['Level/Rank','DEF']].apply(pd.to_numeric, errors = 'coerce').dropna().astype(int).groupby('Level/Rank').describe()"
   ]
  },
  {
   "cell_type": "markdown",
   "id": "4029a29d",
   "metadata": {
    "papermill": {
     "duration": 0.076993,
     "end_time": "2023-02-22T22:26:51.328165",
     "exception": false,
     "start_time": "2023-02-22T22:26:51.251172",
     "status": "completed"
    },
    "tags": []
   },
   "source": [
    "### Pendulum scale"
   ]
  },
  {
   "cell_type": "code",
   "execution_count": null,
   "id": "9db07376",
   "metadata": {
    "papermill": {
     "duration": 0.163266,
     "end_time": "2023-02-22T22:26:51.569120",
     "exception": false,
     "start_time": "2023-02-22T22:26:51.405854",
     "status": "completed"
    },
    "tags": []
   },
   "outputs": [],
   "source": [
    "monster_df.drop(columns=['Card type', 'Link', 'Link Arrows', 'Page name', 'Page URL']).groupby('Pendulum Scale').nunique().sort_index(key=lambda x: pd.to_numeric(x, errors = 'coerce'))"
   ]
  },
  {
   "cell_type": "code",
   "execution_count": null,
   "id": "331eba0b",
   "metadata": {
    "papermill": {
     "duration": 0.417385,
     "end_time": "2023-02-22T22:26:52.064939",
     "exception": false,
     "start_time": "2023-02-22T22:26:51.647554",
     "status": "completed"
    },
    "tags": []
   },
   "outputs": [],
   "source": [
    "scales_colors = colors_dict['Pendulum Monster']\n",
    "monster_df['Pendulum Scale'].value_counts().sort_index(key=lambda x: pd.to_numeric(x, errors = 'coerce')).plot.bar(figsize = (18,6), grid = True, rot=0, color = scales_colors, title = 'Pendulum scale')\n",
    "plt.show()"
   ]
  },
  {
   "cell_type": "markdown",
   "id": "c4cee785",
   "metadata": {
    "papermill": {
     "duration": 0.079507,
     "end_time": "2023-02-22T22:26:52.227757",
     "exception": false,
     "start_time": "2023-02-22T22:26:52.148250",
     "status": "completed"
    },
    "tags": []
   },
   "source": [
    "#### ATK statistics"
   ]
  },
  {
   "cell_type": "code",
   "execution_count": null,
   "id": "75427d69",
   "metadata": {
    "papermill": {
     "duration": 0.173145,
     "end_time": "2023-02-22T22:26:52.479770",
     "exception": false,
     "start_time": "2023-02-22T22:26:52.306625",
     "status": "completed"
    },
    "tags": []
   },
   "outputs": [],
   "source": [
    "monster_df[['Pendulum Scale','ATK']].apply(pd.to_numeric, errors = 'coerce').dropna().astype(int).groupby('Pendulum Scale').describe()"
   ]
  },
  {
   "cell_type": "markdown",
   "id": "3ee4da76",
   "metadata": {
    "papermill": {
     "duration": 0.079693,
     "end_time": "2023-02-22T22:26:52.643411",
     "exception": false,
     "start_time": "2023-02-22T22:26:52.563718",
     "status": "completed"
    },
    "tags": []
   },
   "source": [
    "#### DEF statistics"
   ]
  },
  {
   "cell_type": "code",
   "execution_count": null,
   "id": "c474abd4",
   "metadata": {
    "papermill": {
     "duration": 0.17625,
     "end_time": "2023-02-22T22:26:52.899419",
     "exception": false,
     "start_time": "2023-02-22T22:26:52.723169",
     "status": "completed"
    },
    "tags": []
   },
   "outputs": [],
   "source": [
    "monster_df[['Pendulum Scale','DEF']].apply(pd.to_numeric, errors = 'coerce').dropna().astype(int).groupby('Pendulum Scale').describe()"
   ]
  },
  {
   "cell_type": "markdown",
   "id": "87d81ad5",
   "metadata": {
    "papermill": {
     "duration": 0.081565,
     "end_time": "2023-02-22T22:26:53.062175",
     "exception": false,
     "start_time": "2023-02-22T22:26:52.980610",
     "status": "completed"
    },
    "tags": []
   },
   "source": [
    "#### Level/Rank statistics"
   ]
  },
  {
   "cell_type": "code",
   "execution_count": null,
   "id": "027c9b3e",
   "metadata": {
    "papermill": {
     "duration": 0.181596,
     "end_time": "2023-02-22T22:26:53.325518",
     "exception": false,
     "start_time": "2023-02-22T22:26:53.143922",
     "status": "completed"
    },
    "tags": []
   },
   "outputs": [],
   "source": [
    "monster_df[['Pendulum Scale','Level/Rank']].apply(pd.to_numeric, errors = 'coerce').dropna().astype(int).groupby('Pendulum Scale').describe()"
   ]
  },
  {
   "cell_type": "markdown",
   "id": "93f3aba0",
   "metadata": {
    "papermill": {
     "duration": 0.162553,
     "end_time": "2023-02-22T22:26:53.621031",
     "exception": false,
     "start_time": "2023-02-22T22:26:53.458478",
     "status": "completed"
    },
    "tags": []
   },
   "source": [
    "### Link"
   ]
  },
  {
   "cell_type": "code",
   "execution_count": null,
   "id": "3ba56226",
   "metadata": {
    "papermill": {
     "duration": 0.151338,
     "end_time": "2023-02-22T22:26:53.870895",
     "exception": false,
     "start_time": "2023-02-22T22:26:53.719557",
     "status": "completed"
    },
    "tags": []
   },
   "outputs": [],
   "source": [
    "monster_df.drop(columns=['Card type', 'Primary type', 'Secondary type','Level/Rank','DEF','Pendulum Scale', 'Page name', 'Page URL']).groupby('Link').nunique().sort_index(key=lambda x: pd.to_numeric(x, errors = 'coerce'))"
   ]
  },
  {
   "cell_type": "code",
   "execution_count": null,
   "id": "3afbb00a",
   "metadata": {
    "papermill": {
     "duration": 0.355766,
     "end_time": "2023-02-22T22:26:54.308119",
     "exception": false,
     "start_time": "2023-02-22T22:26:53.952353",
     "status": "completed"
    },
    "tags": []
   },
   "outputs": [],
   "source": [
    "link_colors = colors_dict['Link Monster']\n",
    "monster_df['Link'].value_counts().sort_index(key=lambda x: pd.to_numeric(x, errors = 'coerce')).plot.bar(figsize = (18,6), grid = True, rot=0, color = link_colors, title='Link')\n",
    "plt.show()"
   ]
  },
  {
   "cell_type": "markdown",
   "id": "5f20abde",
   "metadata": {
    "papermill": {
     "duration": 0.080883,
     "end_time": "2023-02-22T22:26:54.470477",
     "exception": false,
     "start_time": "2023-02-22T22:26:54.389594",
     "status": "completed"
    },
    "tags": []
   },
   "source": [
    "#### ATK statistics"
   ]
  },
  {
   "cell_type": "code",
   "execution_count": null,
   "id": "c80d9372",
   "metadata": {
    "papermill": {
     "duration": 0.157894,
     "end_time": "2023-02-22T22:26:54.715661",
     "exception": false,
     "start_time": "2023-02-22T22:26:54.557767",
     "status": "completed"
    },
    "tags": []
   },
   "outputs": [],
   "source": [
    "monster_df[['Link','ATK']].apply(pd.to_numeric, errors = 'coerce').dropna().astype(int).groupby('Link').describe()"
   ]
  },
  {
   "cell_type": "markdown",
   "id": "f585a876",
   "metadata": {
    "papermill": {
     "duration": 0.123371,
     "end_time": "2023-02-22T22:26:54.920331",
     "exception": false,
     "start_time": "2023-02-22T22:26:54.796960",
     "status": "completed"
    },
    "tags": []
   },
   "source": [
    "### Link Arrows"
   ]
  },
  {
   "cell_type": "markdown",
   "id": "b1373514",
   "metadata": {
    "papermill": {
     "duration": 0.082472,
     "end_time": "2023-02-22T22:26:55.086724",
     "exception": false,
     "start_time": "2023-02-22T22:26:55.004252",
     "status": "completed"
    },
    "tags": []
   },
   "source": [
    "#### By combination"
   ]
  },
  {
   "cell_type": "code",
   "execution_count": null,
   "id": "1130304f",
   "metadata": {
    "papermill": {
     "duration": 0.099847,
     "end_time": "2023-02-22T22:26:55.270433",
     "exception": false,
     "start_time": "2023-02-22T22:26:55.170586",
     "status": "completed"
    },
    "tags": []
   },
   "outputs": [],
   "source": [
    "print('Total number of link arrow combinations:', monster_df['Link Arrows'].nunique())"
   ]
  },
  {
   "cell_type": "code",
   "execution_count": null,
   "id": "7acfc7a1",
   "metadata": {
    "papermill": {
     "duration": 0.159556,
     "end_time": "2023-02-22T22:26:55.513686",
     "exception": false,
     "start_time": "2023-02-22T22:26:55.354130",
     "status": "completed"
    },
    "tags": []
   },
   "outputs": [],
   "source": [
    "monster_df.drop(columns=['Card type', 'Primary type', 'Level/Rank', 'Pendulum Scale', 'Link', 'Secondary type', 'DEF', 'Page name', 'Page URL']).groupby('Link Arrows').nunique()"
   ]
  },
  {
   "cell_type": "code",
   "execution_count": null,
   "id": "66c65c93",
   "metadata": {
    "papermill": {
     "duration": 1.143921,
     "end_time": "2023-02-22T22:26:56.741112",
     "exception": false,
     "start_time": "2023-02-22T22:26:55.597191",
     "status": "completed"
    },
    "tags": []
   },
   "outputs": [],
   "source": [
    "arrows_colors = colors_dict['Link Monster']\n",
    "monster_df['Link Arrows'].value_counts().plot.barh(figsize = (10,20), grid = True, color = arrows_colors, title = 'Link arrows combinations')\n",
    "plt.show()"
   ]
  },
  {
   "cell_type": "markdown",
   "id": "aa520eaf",
   "metadata": {
    "papermill": {
     "duration": 0.084048,
     "end_time": "2023-02-22T22:26:56.909297",
     "exception": false,
     "start_time": "2023-02-22T22:26:56.825249",
     "status": "completed"
    },
    "tags": []
   },
   "source": [
    "#### By unique"
   ]
  },
  {
   "cell_type": "code",
   "execution_count": null,
   "id": "85cda4e5",
   "metadata": {
    "papermill": {
     "duration": 0.133503,
     "end_time": "2023-02-22T22:26:57.128569",
     "exception": false,
     "start_time": "2023-02-22T22:26:56.995066",
     "status": "completed"
    },
    "tags": []
   },
   "outputs": [],
   "source": [
    "monster_df[monster_df['Link Arrows'].notna()].drop(columns=['Card type', 'Primary type', 'Level/Rank', 'Pendulum Scale', 'Secondary type', 'DEF', 'Page name', 'Page URL']).explode('Link Arrows').groupby('Link Arrows').nunique()"
   ]
  },
  {
   "cell_type": "code",
   "execution_count": null,
   "id": "c3161d6e",
   "metadata": {
    "papermill": {
     "duration": 0.40877,
     "end_time": "2023-02-22T22:26:57.622604",
     "exception": false,
     "start_time": "2023-02-22T22:26:57.213834",
     "status": "completed"
    },
    "tags": []
   },
   "outputs": [],
   "source": [
    "arrows_colors_b = colors_dict['Link Monster']\n",
    "monster_df['Link Arrows'].explode('Link Arrows').value_counts().plot.bar(figsize = (18,6), grid = True, color = arrows_colors_b, title = 'Link arrows')\n",
    "plt.show()"
   ]
  },
  {
   "cell_type": "markdown",
   "id": "e36f6792",
   "metadata": {
    "papermill": {
     "duration": 0.085406,
     "end_time": "2023-02-22T22:26:57.793736",
     "exception": false,
     "start_time": "2023-02-22T22:26:57.708330",
     "status": "completed"
    },
    "tags": []
   },
   "source": [
    "#### By link"
   ]
  },
  {
   "cell_type": "code",
   "execution_count": null,
   "id": "8a6b3372",
   "metadata": {
    "papermill": {
     "duration": 0.147219,
     "end_time": "2023-02-22T22:26:58.027462",
     "exception": false,
     "start_time": "2023-02-22T22:26:57.880243",
     "status": "completed"
    },
    "tags": []
   },
   "outputs": [],
   "source": [
    "arrow_per_link = monster_df[['Link Arrows','Link']].explode('Link Arrows').dropna()\n",
    "arrow_crosstab = pd.crosstab(arrow_per_link['Link Arrows'],arrow_per_link['Link'])\n",
    "arrow_crosstab"
   ]
  },
  {
   "cell_type": "code",
   "execution_count": null,
   "id": "a22dab12",
   "metadata": {
    "papermill": {
     "duration": 0.684686,
     "end_time": "2023-02-22T22:26:58.798004",
     "exception": false,
     "start_time": "2023-02-22T22:26:58.113318",
     "status": "completed"
    },
    "tags": []
   },
   "outputs": [],
   "source": [
    "plt.figure(figsize = (10,6))\n",
    "sns.heatmap(arrow_crosstab[arrow_crosstab>0].T, annot=True, fmt=\"g\", cmap='viridis', square=True, norm=mc.LogNorm())\n",
    "plt.show()"
   ]
  },
  {
   "cell_type": "markdown",
   "id": "bb0bbf58",
   "metadata": {
    "papermill": {
     "duration": 0.086584,
     "end_time": "2023-02-22T22:26:58.971058",
     "exception": false,
     "start_time": "2023-02-22T22:26:58.884474",
     "status": "completed"
    },
    "tags": []
   },
   "source": [
    "## Spell & Trap"
   ]
  },
  {
   "cell_type": "markdown",
   "id": "f47b1472",
   "metadata": {
    "papermill": {
     "duration": 0.086098,
     "end_time": "2023-02-22T22:26:59.145598",
     "exception": false,
     "start_time": "2023-02-22T22:26:59.059500",
     "status": "completed"
    },
    "tags": []
   },
   "source": [
    "### Properties"
   ]
  },
  {
   "cell_type": "code",
   "execution_count": null,
   "id": "fdd7cb44",
   "metadata": {
    "papermill": {
     "duration": 0.10218,
     "end_time": "2023-02-22T22:26:59.334964",
     "exception": false,
     "start_time": "2023-02-22T22:26:59.232784",
     "status": "completed"
    },
    "tags": []
   },
   "outputs": [],
   "source": [
    "print('Total number of properties:', st_df['Property'].nunique())"
   ]
  },
  {
   "cell_type": "code",
   "execution_count": null,
   "id": "52c0aa20",
   "metadata": {
    "papermill": {
     "duration": 0.133789,
     "end_time": "2023-02-22T22:26:59.557073",
     "exception": false,
     "start_time": "2023-02-22T22:26:59.423284",
     "status": "completed"
    },
    "tags": []
   },
   "outputs": [],
   "source": [
    "st_df.drop(columns=['Card type', 'Page name', 'Page URL']).groupby('Property').nunique()"
   ]
  },
  {
   "cell_type": "code",
   "execution_count": null,
   "id": "cd537db7",
   "metadata": {
    "papermill": {
     "duration": 0.444619,
     "end_time": "2023-02-22T22:27:00.090057",
     "exception": false,
     "start_time": "2023-02-22T22:26:59.645438",
     "status": "completed"
    },
    "tags": []
   },
   "outputs": [],
   "source": [
    "st_colors = [colors_dict[i] for i in cards_df[['Card type','Property']].value_counts().index.get_level_values(0)]\n",
    "st_df['Property'].value_counts().plot.bar(figsize = (18,6), grid = True, rot=45, color = st_colors, title = 'Property')\n",
    "plt.show()"
   ]
  },
  {
   "cell_type": "markdown",
   "id": "eab733b7",
   "metadata": {
    "jp-MarkdownHeadingCollapsed": true,
    "papermill": {
     "duration": 0.226167,
     "end_time": "2023-02-22T22:27:00.405196",
     "exception": false,
     "start_time": "2023-02-22T22:27:00.179029",
     "status": "completed"
    },
    "tags": []
   },
   "source": [
    "### Effect type"
   ]
  },
  {
   "cell_type": "code",
   "execution_count": null,
   "id": "f955ec1d",
   "metadata": {
    "papermill": {
     "duration": 0.119078,
     "end_time": "2023-02-22T22:27:00.613500",
     "exception": false,
     "start_time": "2023-02-22T22:27:00.494422",
     "status": "completed"
    },
    "tags": []
   },
   "outputs": [],
   "source": [
    "print('Total number of effect types:', st_df['Effect type'].explode().nunique())"
   ]
  },
  {
   "cell_type": "code",
   "execution_count": null,
   "id": "9e0f62a2",
   "metadata": {
    "papermill": {
     "duration": 0.197706,
     "end_time": "2023-02-22T22:27:00.900696",
     "exception": false,
     "start_time": "2023-02-22T22:27:00.702990",
     "status": "completed"
    },
    "tags": []
   },
   "outputs": [],
   "source": [
    "st_df.explode('Effect type').groupby('Effect type').nunique()"
   ]
  },
  {
   "cell_type": "markdown",
   "id": "64868037",
   "metadata": {
    "papermill": {
     "duration": 0.142681,
     "end_time": "2023-02-22T22:27:01.133175",
     "exception": false,
     "start_time": "2023-02-22T22:27:00.990494",
     "status": "completed"
    },
    "tags": []
   },
   "source": [
    "#### Spell & Trap discrimination"
   ]
  },
  {
   "cell_type": "code",
   "execution_count": null,
   "id": "75843f9d",
   "metadata": {
    "papermill": {
     "duration": 0.132133,
     "end_time": "2023-02-22T22:27:01.357025",
     "exception": false,
     "start_time": "2023-02-22T22:27:01.224892",
     "status": "completed"
    },
    "tags": []
   },
   "outputs": [],
   "source": [
    "st_diff = st_df[['Card type', 'Effect type']].explode('Effect type').value_counts().unstack(0).fillna(0).astype(int)\n",
    "st_diff"
   ]
  },
  {
   "cell_type": "code",
   "execution_count": null,
   "id": "373757a0",
   "metadata": {
    "papermill": {
     "duration": 0.507266,
     "end_time": "2023-02-22T22:27:01.954442",
     "exception": false,
     "start_time": "2023-02-22T22:27:01.447176",
     "status": "completed"
    },
    "tags": []
   },
   "outputs": [],
   "source": [
    "st_diff_colors = {'Spell Card': colors_dict['Spell Card'], 'Trap Card': colors_dict['Trap Card']}\n",
    "st_diff.plot.bar(figsize = (18,6), stacked = True, grid = True, rot=45, color = st_diff_colors)\n",
    "plt.show()"
   ]
  },
  {
   "cell_type": "markdown",
   "id": "0013b7c7",
   "metadata": {
    "papermill": {
     "duration": 0.092946,
     "end_time": "2023-02-22T22:27:02.141796",
     "exception": false,
     "start_time": "2023-02-22T22:27:02.048850",
     "status": "completed"
    },
    "tags": []
   },
   "source": [
    "## Archseries"
   ]
  },
  {
   "cell_type": "code",
   "execution_count": null,
   "id": "ce1470dc",
   "metadata": {
    "papermill": {
     "duration": 0.223284,
     "end_time": "2023-02-22T22:27:02.457924",
     "exception": false,
     "start_time": "2023-02-22T22:27:02.234640",
     "status": "completed"
    },
    "tags": []
   },
   "outputs": [],
   "source": [
    "exploded_archseries = cards_df.explode('Archseries')\n",
    "print('Total number of Archseries:', exploded_archseries['Archseries'].nunique())"
   ]
  },
  {
   "cell_type": "code",
   "execution_count": null,
   "id": "f31c5b8c",
   "metadata": {
    "papermill": {
     "duration": 0.351804,
     "end_time": "2023-02-22T22:27:02.902723",
     "exception": false,
     "start_time": "2023-02-22T22:27:02.550919",
     "status": "completed"
    },
    "tags": []
   },
   "outputs": [],
   "source": [
    "exploded_archseries.groupby('Archseries').nunique()"
   ]
  },
  {
   "cell_type": "code",
   "execution_count": null,
   "id": "00c9f321",
   "metadata": {
    "papermill": {
     "duration": 10.796261,
     "end_time": "2023-02-22T22:27:13.791916",
     "exception": false,
     "start_time": "2023-02-22T22:27:02.995655",
     "status": "completed"
    },
    "tags": []
   },
   "outputs": [],
   "source": [
    "exploded_archseries['Archseries'].value_counts().plot.barh(figsize = (10,200), grid = True, title = 'Archtypes/Series')\n",
    "plt.show()"
   ]
  },
  {
   "cell_type": "markdown",
   "id": "cf3bf55f",
   "metadata": {
    "jp-MarkdownHeadingCollapsed": true,
    "papermill": {
     "duration": 0.130036,
     "end_time": "2023-02-22T22:27:14.054906",
     "exception": false,
     "start_time": "2023-02-22T22:27:13.924870",
     "status": "completed"
    },
    "tags": []
   },
   "source": [
    "### By card type"
   ]
  },
  {
   "cell_type": "code",
   "execution_count": null,
   "id": "fbf65c3c",
   "metadata": {
    "papermill": {
     "duration": 0.3006,
     "end_time": "2023-02-22T22:27:14.484238",
     "exception": false,
     "start_time": "2023-02-22T22:27:14.183638",
     "status": "completed"
    },
    "tags": []
   },
   "outputs": [],
   "source": [
    "archseries_crosstab = pd.crosstab(exploded_archseries['Archseries'],exploded_archseries['Card type'], margins = True)\n",
    "archseries_crosstab"
   ]
  },
  {
   "cell_type": "markdown",
   "id": "960ea110",
   "metadata": {
    "papermill": {
     "duration": 0.128697,
     "end_time": "2023-02-22T22:27:14.741841",
     "exception": false,
     "start_time": "2023-02-22T22:27:14.613144",
     "status": "completed"
    },
    "tags": []
   },
   "source": [
    "### By primary type"
   ]
  },
  {
   "cell_type": "code",
   "execution_count": null,
   "id": "2c3671f0",
   "metadata": {
    "papermill": {
     "duration": 0.287432,
     "end_time": "2023-02-22T22:27:15.158540",
     "exception": false,
     "start_time": "2023-02-22T22:27:14.871108",
     "status": "completed"
    },
    "tags": []
   },
   "outputs": [],
   "source": [
    "archseries_crosstab_b = pd.crosstab(exploded_archseries['Archseries'],exploded_archseries['Primary type'], margins = True)\n",
    "archseries_crosstab_b"
   ]
  },
  {
   "cell_type": "markdown",
   "id": "6de5fdac",
   "metadata": {
    "papermill": {
     "duration": 0.127888,
     "end_time": "2023-02-22T22:27:15.416866",
     "exception": false,
     "start_time": "2023-02-22T22:27:15.288978",
     "status": "completed"
    },
    "tags": []
   },
   "source": [
    "\n",
    "\n",
    "### By secondary type"
   ]
  },
  {
   "cell_type": "code",
   "execution_count": null,
   "id": "966a00dd",
   "metadata": {
    "papermill": {
     "duration": 0.24697,
     "end_time": "2023-02-22T22:27:15.794256",
     "exception": false,
     "start_time": "2023-02-22T22:27:15.547286",
     "status": "completed"
    },
    "tags": []
   },
   "outputs": [],
   "source": [
    "exploded_archseries_secondary_type = exploded_archseries[['Archseries', 'Secondary type']].explode('Secondary type')\n",
    "archseries_crosstab_c = pd.crosstab(exploded_archseries_secondary_type['Archseries'],exploded_archseries_secondary_type['Secondary type'], margins = True)\n",
    "archseries_crosstab_c"
   ]
  },
  {
   "cell_type": "markdown",
   "id": "a881d945",
   "metadata": {
    "papermill": {
     "duration": 0.129929,
     "end_time": "2023-02-22T22:27:16.053343",
     "exception": false,
     "start_time": "2023-02-22T22:27:15.923414",
     "status": "completed"
    },
    "tags": []
   },
   "source": [
    "### By monster type"
   ]
  },
  {
   "cell_type": "code",
   "execution_count": null,
   "id": "d99ee9e1",
   "metadata": {
    "papermill": {
     "duration": 0.331925,
     "end_time": "2023-02-22T22:27:16.515971",
     "exception": false,
     "start_time": "2023-02-22T22:27:16.184046",
     "status": "completed"
    },
    "tags": []
   },
   "outputs": [],
   "source": [
    "archseries_crosstab_d = pd.crosstab(exploded_archseries['Archseries'],exploded_archseries['Monster type'], margins = True)\n",
    "archseries_crosstab_d"
   ]
  },
  {
   "cell_type": "markdown",
   "id": "f97ab388",
   "metadata": {
    "papermill": {
     "duration": 0.227825,
     "end_time": "2023-02-22T22:27:16.907232",
     "exception": false,
     "start_time": "2023-02-22T22:27:16.679407",
     "status": "completed"
    },
    "tags": []
   },
   "source": [
    "### By property"
   ]
  },
  {
   "cell_type": "code",
   "execution_count": null,
   "id": "fbbb1ccc",
   "metadata": {
    "papermill": {
     "duration": 0.281797,
     "end_time": "2023-02-22T22:27:17.319044",
     "exception": false,
     "start_time": "2023-02-22T22:27:17.037247",
     "status": "completed"
    },
    "tags": []
   },
   "outputs": [],
   "source": [
    "archseries_crosstab_e = pd.crosstab(exploded_archseries['Archseries'],exploded_archseries['Property'], margins = True)\n",
    "archseries_crosstab_e"
   ]
  },
  {
   "cell_type": "markdown",
   "id": "554f6e74",
   "metadata": {
    "papermill": {
     "duration": 0.130546,
     "end_time": "2023-02-22T22:27:17.592970",
     "exception": false,
     "start_time": "2023-02-22T22:27:17.462424",
     "status": "completed"
    },
    "tags": []
   },
   "source": [
    "## Artworks"
   ]
  },
  {
   "cell_type": "code",
   "execution_count": null,
   "id": "2224e061",
   "metadata": {
    "papermill": {
     "duration": 0.216031,
     "end_time": "2023-02-22T22:27:17.939325",
     "exception": false,
     "start_time": "2023-02-22T22:27:17.723294",
     "status": "completed"
    },
    "tags": []
   },
   "outputs": [],
   "source": [
    "print('Total number of cards with edited or alternate artworks:', cards_df['Artwork'].count())"
   ]
  },
  {
   "cell_type": "code",
   "execution_count": null,
   "id": "f7492a67",
   "metadata": {
    "papermill": {
     "duration": 0.163113,
     "end_time": "2023-02-22T22:27:18.234419",
     "exception": false,
     "start_time": "2023-02-22T22:27:18.071306",
     "status": "completed"
    },
    "tags": []
   },
   "outputs": [],
   "source": [
    "cards_df[['Name','Password','TCG status','OCG status','Artwork']][cards_df['Artwork'].notna()]"
   ]
  },
  {
   "cell_type": "code",
   "execution_count": null,
   "id": "fa1ea6aa",
   "metadata": {
    "papermill": {
     "duration": 0.361886,
     "end_time": "2023-02-22T22:27:18.727356",
     "exception": false,
     "start_time": "2023-02-22T22:27:18.365470",
     "status": "completed"
    },
    "tags": []
   },
   "outputs": [],
   "source": [
    "artwork_value_counts = cards_df['Artwork'].value_counts()\n",
    "plt.figure(figsize=(20,8))\n",
    "plt.title('Artworks')\n",
    "venn2(subsets = (artwork_value_counts[('Alternate',)], artwork_value_counts[('Edited',)],artwork_value_counts[('Alternate','Edited')]), set_labels = ('Alternate artwork', 'Edited artwork'))\n",
    "plt.show()"
   ]
  },
  {
   "cell_type": "markdown",
   "id": "e49df5df",
   "metadata": {
    "papermill": {
     "duration": 0.144076,
     "end_time": "2023-02-22T22:27:19.005638",
     "exception": false,
     "start_time": "2023-02-22T22:27:18.861562",
     "status": "completed"
    },
    "tags": []
   },
   "source": [
    "### By card type"
   ]
  },
  {
   "cell_type": "code",
   "execution_count": null,
   "id": "1b14c224",
   "metadata": {
    "papermill": {
     "duration": 0.17067,
     "end_time": "2023-02-22T22:27:19.310394",
     "exception": false,
     "start_time": "2023-02-22T22:27:19.139724",
     "status": "completed"
    },
    "tags": []
   },
   "outputs": [],
   "source": [
    "artwork_crosstab = pd.crosstab(cards_df['Artwork'], cards_df['Card type'])\n",
    "artwork_crosstab"
   ]
  },
  {
   "cell_type": "markdown",
   "id": "81afa2df",
   "metadata": {
    "papermill": {
     "duration": 0.131469,
     "end_time": "2023-02-22T22:27:19.573561",
     "exception": false,
     "start_time": "2023-02-22T22:27:19.442092",
     "status": "completed"
    },
    "tags": []
   },
   "source": [
    "### By primary type"
   ]
  },
  {
   "cell_type": "code",
   "execution_count": null,
   "id": "55081aa0",
   "metadata": {
    "papermill": {
     "duration": 0.167888,
     "end_time": "2023-02-22T22:27:19.873754",
     "exception": false,
     "start_time": "2023-02-22T22:27:19.705866",
     "status": "completed"
    },
    "tags": []
   },
   "outputs": [],
   "source": [
    "artwork_crosstab_b = pd.crosstab(cards_df['Artwork'], cards_df['Primary type'])\n",
    "artwork_crosstab_b"
   ]
  },
  {
   "cell_type": "markdown",
   "id": "14a90117",
   "metadata": {
    "papermill": {
     "duration": 0.136219,
     "end_time": "2023-02-22T22:27:20.146069",
     "exception": false,
     "start_time": "2023-02-22T22:27:20.009850",
     "status": "completed"
    },
    "tags": []
   },
   "source": [
    "More granularity is unnecessary"
   ]
  },
  {
   "cell_type": "markdown",
   "id": "5210d61b",
   "metadata": {
    "papermill": {
     "duration": 0.131308,
     "end_time": "2023-02-22T22:27:20.410358",
     "exception": false,
     "start_time": "2023-02-22T22:27:20.279050",
     "status": "completed"
    },
    "tags": []
   },
   "source": [
    "## Errata"
   ]
  },
  {
   "cell_type": "code",
   "execution_count": null,
   "id": "09b33100",
   "metadata": {
    "papermill": {
     "duration": 0.146696,
     "end_time": "2023-02-22T22:27:20.690304",
     "exception": false,
     "start_time": "2023-02-22T22:27:20.543608",
     "status": "completed"
    },
    "tags": []
   },
   "outputs": [],
   "source": [
    "print('Total number of cards with errata:', cards_df['Errata'].count())"
   ]
  },
  {
   "cell_type": "code",
   "execution_count": null,
   "id": "40462eee",
   "metadata": {
    "papermill": {
     "duration": 0.16542,
     "end_time": "2023-02-22T22:27:20.989747",
     "exception": false,
     "start_time": "2023-02-22T22:27:20.824327",
     "status": "completed"
    },
    "tags": []
   },
   "outputs": [],
   "source": [
    "cards_df[['Name','Password','TCG status','OCG status','Errata']][cards_df['Errata'].notna()]"
   ]
  },
  {
   "cell_type": "code",
   "execution_count": null,
   "id": "9f7d97c2-8569-45b7-baba-01f33e56212b",
   "metadata": {
    "papermill": {
     "duration": 0.265961,
     "end_time": "2023-02-22T22:27:21.389020",
     "exception": false,
     "start_time": "2023-02-22T22:27:21.123059",
     "status": "completed"
    },
    "tags": []
   },
   "outputs": [],
   "source": [
    "errata_counts = cards_df.groupby('Errata').nunique().sort_values('Name',ascending=False)\n",
    "errata_counts"
   ]
  },
  {
   "cell_type": "code",
   "execution_count": null,
   "id": "60843a4f",
   "metadata": {
    "papermill": {
     "duration": 0.44193,
     "end_time": "2023-02-22T22:27:21.973241",
     "exception": false,
     "start_time": "2023-02-22T22:27:21.531311",
     "status": "completed"
    },
    "tags": []
   },
   "outputs": [],
   "source": [
    "plt.figure(figsize=(20,8))\n",
    "plt.title('Errata')\n",
    "sorted_errata_name_counts=errata_counts['Name'].drop(('Any',)).sort_index(key=lambda x: [(len(i),i) for i in x])\n",
    "venn2(subsets = sorted_errata_name_counts, set_labels=sorted_errata_name_counts.index[:-1].str[0])\n",
    "plt.show()"
   ]
  },
  {
   "cell_type": "markdown",
   "id": "a3703983",
   "metadata": {
    "papermill": {
     "duration": 0.136036,
     "end_time": "2023-02-22T22:27:22.245303",
     "exception": false,
     "start_time": "2023-02-22T22:27:22.109267",
     "status": "completed"
    },
    "tags": []
   },
   "source": [
    "### By card type"
   ]
  },
  {
   "cell_type": "code",
   "execution_count": null,
   "id": "fb103c29",
   "metadata": {
    "papermill": {
     "duration": 0.242507,
     "end_time": "2023-02-22T22:27:22.620750",
     "exception": false,
     "start_time": "2023-02-22T22:27:22.378243",
     "status": "completed"
    },
    "tags": []
   },
   "outputs": [],
   "source": [
    "errata_crosstab = pd.crosstab(cards_df['Errata'], cards_df['Card type'])\n",
    "errata_crosstab.sort_values(by=errata_crosstab.columns.tolist(),ascending=False)"
   ]
  },
  {
   "cell_type": "markdown",
   "id": "36d241f1",
   "metadata": {
    "papermill": {
     "duration": 0.215002,
     "end_time": "2023-02-22T22:27:22.988475",
     "exception": false,
     "start_time": "2023-02-22T22:27:22.773473",
     "status": "completed"
    },
    "tags": []
   },
   "source": [
    "### By primary type"
   ]
  },
  {
   "cell_type": "code",
   "execution_count": null,
   "id": "5b90628d",
   "metadata": {
    "papermill": {
     "duration": 0.22844,
     "end_time": "2023-02-22T22:27:23.353305",
     "exception": false,
     "start_time": "2023-02-22T22:27:23.124865",
     "status": "completed"
    },
    "tags": []
   },
   "outputs": [],
   "source": [
    "errata_crosstab_b = pd.crosstab(cards_df['Errata'], cards_df['Primary type'])\n",
    "errata_crosstab_b.sort_values(by=errata_crosstab_b.columns.tolist(),ascending=False)"
   ]
  },
  {
   "cell_type": "markdown",
   "id": "0029e1ca",
   "metadata": {
    "papermill": {
     "duration": 0.138148,
     "end_time": "2023-02-22T22:27:23.652786",
     "exception": false,
     "start_time": "2023-02-22T22:27:23.514638",
     "status": "completed"
    },
    "tags": []
   },
   "source": [
    "More granularity is unnecessary"
   ]
  },
  {
   "cell_type": "markdown",
   "id": "35d88dda",
   "metadata": {
    "papermill": {
     "duration": 0.133851,
     "end_time": "2023-02-22T22:27:23.928915",
     "exception": false,
     "start_time": "2023-02-22T22:27:23.795064",
     "status": "completed"
    },
    "tags": []
   },
   "source": [
    "### By artwork"
   ]
  },
  {
   "cell_type": "code",
   "execution_count": null,
   "id": "0057def3",
   "metadata": {
    "papermill": {
     "duration": 0.171958,
     "end_time": "2023-02-22T22:27:24.235733",
     "exception": false,
     "start_time": "2023-02-22T22:27:24.063775",
     "status": "completed"
    },
    "tags": []
   },
   "outputs": [],
   "source": [
    "errata_crosstab_c = pd.crosstab(cards_df['Artwork'], cards_df['Errata'])\n",
    "errata_crosstab_c.sort_values(by=errata_crosstab_c.columns.tolist(),ascending=False)"
   ]
  },
  {
   "cell_type": "markdown",
   "id": "edef3194",
   "metadata": {
    "papermill": {
     "duration": 0.13629,
     "end_time": "2023-02-22T22:27:24.509380",
     "exception": false,
     "start_time": "2023-02-22T22:27:24.373090",
     "status": "completed"
    },
    "tags": []
   },
   "source": [
    "## TCG & OCG status"
   ]
  },
  {
   "cell_type": "markdown",
   "id": "3e7505cd",
   "metadata": {
    "papermill": {
     "duration": 0.135642,
     "end_time": "2023-02-22T22:27:24.784555",
     "exception": false,
     "start_time": "2023-02-22T22:27:24.648913",
     "status": "completed"
    },
    "tags": []
   },
   "source": [
    "### TGC status"
   ]
  },
  {
   "cell_type": "code",
   "execution_count": null,
   "id": "88b93fca",
   "metadata": {
    "papermill": {
     "duration": 0.156157,
     "end_time": "2023-02-22T22:27:25.078136",
     "exception": false,
     "start_time": "2023-02-22T22:27:24.921979",
     "status": "completed"
    },
    "tags": []
   },
   "outputs": [],
   "source": [
    "print('Total number of TCG status:', cards_df['TCG status'].nunique())"
   ]
  },
  {
   "cell_type": "code",
   "execution_count": null,
   "id": "2c69bec0",
   "metadata": {
    "papermill": {
     "duration": 0.268357,
     "end_time": "2023-02-22T22:27:25.484286",
     "exception": false,
     "start_time": "2023-02-22T22:27:25.215929",
     "status": "completed"
    },
    "tags": []
   },
   "outputs": [],
   "source": [
    "cards_df.drop(columns=['Page name', 'Page URL']).groupby('TCG status', dropna=False).nunique()"
   ]
  },
  {
   "cell_type": "code",
   "execution_count": null,
   "id": "add82403",
   "metadata": {
    "papermill": {
     "duration": 0.999368,
     "end_time": "2023-02-22T22:27:26.624233",
     "exception": false,
     "start_time": "2023-02-22T22:27:25.624865",
     "status": "completed"
    },
    "tags": []
   },
   "outputs": [],
   "source": [
    "cards_df['TCG status'].value_counts(dropna = False).plot.bar(figsize = (18,6), logy=True, grid = True, rot=45, title = 'TCG status')\n",
    "plt.show()"
   ]
  },
  {
   "cell_type": "markdown",
   "id": "f6b985a0",
   "metadata": {
    "papermill": {
     "duration": 0.266816,
     "end_time": "2023-02-22T22:27:27.030427",
     "exception": false,
     "start_time": "2023-02-22T22:27:26.763611",
     "status": "completed"
    },
    "tags": []
   },
   "source": [
    "#### By card type"
   ]
  },
  {
   "cell_type": "code",
   "execution_count": null,
   "id": "12c444ed",
   "metadata": {
    "papermill": {
     "duration": 0.178245,
     "end_time": "2023-02-22T22:27:27.346547",
     "exception": false,
     "start_time": "2023-02-22T22:27:27.168302",
     "status": "completed"
    },
    "tags": []
   },
   "outputs": [],
   "source": [
    "# Remove unlimited\n",
    "tcg_crosstab = pd.crosstab(cards_df['Card type'], cards_df['TCG status']).drop(['Unlimited'], axis=1)\n",
    "tcg_crosstab"
   ]
  },
  {
   "cell_type": "code",
   "execution_count": null,
   "id": "8648b51e",
   "metadata": {
    "papermill": {
     "duration": 0.625127,
     "end_time": "2023-02-22T22:27:28.108680",
     "exception": false,
     "start_time": "2023-02-22T22:27:27.483553",
     "status": "completed"
    },
    "tags": []
   },
   "outputs": [],
   "source": [
    "plt.figure(figsize = (12,6))\n",
    "sns.heatmap(tcg_crosstab[tcg_crosstab>0], annot=True, fmt=\"g\", cmap='viridis', norm=mc.LogNorm())\n",
    "plt.show()"
   ]
  },
  {
   "cell_type": "markdown",
   "id": "521f367b",
   "metadata": {
    "papermill": {
     "duration": 0.402507,
     "end_time": "2023-02-22T22:27:28.659225",
     "exception": false,
     "start_time": "2023-02-22T22:27:28.256718",
     "status": "completed"
    },
    "tags": []
   },
   "source": [
    "#### By monster type"
   ]
  },
  {
   "cell_type": "code",
   "execution_count": null,
   "id": "bb73564f",
   "metadata": {
    "papermill": {
     "duration": 0.183588,
     "end_time": "2023-02-22T22:27:28.981246",
     "exception": false,
     "start_time": "2023-02-22T22:27:28.797658",
     "status": "completed"
    },
    "tags": []
   },
   "outputs": [],
   "source": [
    "# Remove unlimited\n",
    "tcg_crosstab_b = pd.crosstab(cards_df['Monster type'], cards_df['TCG status']).drop(['Unlimited'], axis=1)\n",
    "tcg_crosstab_b"
   ]
  },
  {
   "cell_type": "code",
   "execution_count": null,
   "id": "dd5e826c",
   "metadata": {
    "papermill": {
     "duration": 0.778072,
     "end_time": "2023-02-22T22:27:29.898963",
     "exception": false,
     "start_time": "2023-02-22T22:27:29.120891",
     "status": "completed"
    },
    "tags": []
   },
   "outputs": [],
   "source": [
    "plt.figure(figsize = (20,5))\n",
    "sns.heatmap(tcg_crosstab_b[tcg_crosstab_b>0].T, annot=True, fmt=\"g\", cmap='viridis', square = True)\n",
    "plt.show()"
   ]
  },
  {
   "cell_type": "markdown",
   "id": "b0e7d771",
   "metadata": {
    "papermill": {
     "duration": 0.140017,
     "end_time": "2023-02-22T22:27:30.182630",
     "exception": false,
     "start_time": "2023-02-22T22:27:30.042613",
     "status": "completed"
    },
    "tags": []
   },
   "source": [
    "#### By archseries"
   ]
  },
  {
   "cell_type": "code",
   "execution_count": null,
   "id": "05fc1f77",
   "metadata": {
    "papermill": {
     "duration": 0.233102,
     "end_time": "2023-02-22T22:27:30.556502",
     "exception": false,
     "start_time": "2023-02-22T22:27:30.323400",
     "status": "completed"
    },
    "tags": []
   },
   "outputs": [],
   "source": [
    "# Remove unlimited\n",
    "tcg_crosstab_c = pd.crosstab(exploded_archseries['Archseries'].where(exploded_archseries['OCG status']!='Unlimited'), exploded_archseries['TCG status'], margins = True)\n",
    "tcg_crosstab_c"
   ]
  },
  {
   "cell_type": "markdown",
   "id": "af202b20",
   "metadata": {
    "papermill": {
     "duration": 0.148269,
     "end_time": "2023-02-22T22:27:30.846550",
     "exception": false,
     "start_time": "2023-02-22T22:27:30.698281",
     "status": "completed"
    },
    "tags": []
   },
   "source": [
    "### OCG status"
   ]
  },
  {
   "cell_type": "code",
   "execution_count": null,
   "id": "0b01a31b",
   "metadata": {
    "papermill": {
     "duration": 0.162262,
     "end_time": "2023-02-22T22:27:31.150491",
     "exception": false,
     "start_time": "2023-02-22T22:27:30.988229",
     "status": "completed"
    },
    "tags": []
   },
   "outputs": [],
   "source": [
    "print('Total number of OCG status:', cards_df['OCG status'].nunique())"
   ]
  },
  {
   "cell_type": "code",
   "execution_count": null,
   "id": "13b7b5c8",
   "metadata": {
    "papermill": {
     "duration": 0.279023,
     "end_time": "2023-02-22T22:27:31.571900",
     "exception": false,
     "start_time": "2023-02-22T22:27:31.292877",
     "status": "completed"
    },
    "tags": []
   },
   "outputs": [],
   "source": [
    "cards_df.drop(columns=['Page name', 'Page URL']).groupby('OCG status', dropna=False).nunique()"
   ]
  },
  {
   "cell_type": "code",
   "execution_count": null,
   "id": "baff20b2",
   "metadata": {
    "papermill": {
     "duration": 0.705594,
     "end_time": "2023-02-22T22:27:32.420089",
     "exception": false,
     "start_time": "2023-02-22T22:27:31.714495",
     "status": "completed"
    },
    "tags": []
   },
   "outputs": [],
   "source": [
    "cards_df['OCG status'].value_counts(dropna = False).plot.bar(figsize = (18,6), logy=True, grid = True, rot=45, title = 'TCG status')\n",
    "plt.show()"
   ]
  },
  {
   "cell_type": "markdown",
   "id": "5c4bf980",
   "metadata": {
    "papermill": {
     "duration": 0.142377,
     "end_time": "2023-02-22T22:27:32.705710",
     "exception": false,
     "start_time": "2023-02-22T22:27:32.563333",
     "status": "completed"
    },
    "tags": []
   },
   "source": [
    "#### By card type"
   ]
  },
  {
   "cell_type": "code",
   "execution_count": null,
   "id": "4863280e",
   "metadata": {
    "papermill": {
     "duration": 0.185938,
     "end_time": "2023-02-22T22:27:33.033264",
     "exception": false,
     "start_time": "2023-02-22T22:27:32.847326",
     "status": "completed"
    },
    "tags": []
   },
   "outputs": [],
   "source": [
    "# Remove unlimited\n",
    "ocg_crosstab = pd.crosstab(cards_df['Card type'], cards_df['OCG status']).drop(['Unlimited'], axis=1)\n",
    "ocg_crosstab"
   ]
  },
  {
   "cell_type": "code",
   "execution_count": null,
   "id": "e8489887",
   "metadata": {
    "papermill": {
     "duration": 0.65314,
     "end_time": "2023-02-22T22:27:33.830852",
     "exception": false,
     "start_time": "2023-02-22T22:27:33.177712",
     "status": "completed"
    },
    "tags": []
   },
   "outputs": [],
   "source": [
    "plt.figure(figsize = (12,6))\n",
    "sns.heatmap(ocg_crosstab[ocg_crosstab>0], annot=True, fmt=\"g\", cmap='viridis')\n",
    "plt.show()"
   ]
  },
  {
   "cell_type": "markdown",
   "id": "32f682d2",
   "metadata": {
    "papermill": {
     "duration": 0.221798,
     "end_time": "2023-02-22T22:27:34.210060",
     "exception": false,
     "start_time": "2023-02-22T22:27:33.988262",
     "status": "completed"
    },
    "tags": []
   },
   "source": [
    "#### By monster type"
   ]
  },
  {
   "cell_type": "code",
   "execution_count": null,
   "id": "3dbadcb8",
   "metadata": {
    "papermill": {
     "duration": 0.200512,
     "end_time": "2023-02-22T22:27:34.559531",
     "exception": false,
     "start_time": "2023-02-22T22:27:34.359019",
     "status": "completed"
    },
    "tags": []
   },
   "outputs": [],
   "source": [
    "ocg_crosstab_b = pd.crosstab(cards_df['Monster type'], cards_df['OCG status']).drop(['Unlimited'], axis=1)\n",
    "ocg_crosstab_b"
   ]
  },
  {
   "cell_type": "code",
   "execution_count": null,
   "id": "4743b0c1",
   "metadata": {
    "papermill": {
     "duration": 0.928978,
     "end_time": "2023-02-22T22:27:35.649378",
     "exception": false,
     "start_time": "2023-02-22T22:27:34.720400",
     "status": "completed"
    },
    "tags": []
   },
   "outputs": [],
   "source": [
    "plt.figure(figsize = (20,5))\n",
    "sns.heatmap(ocg_crosstab_b[ocg_crosstab_b>0].T, annot=True, fmt=\"g\", cmap='viridis', square = True)\n",
    "plt.show()"
   ]
  },
  {
   "cell_type": "markdown",
   "id": "19d9067b",
   "metadata": {
    "papermill": {
     "duration": 0.146405,
     "end_time": "2023-02-22T22:27:35.946453",
     "exception": false,
     "start_time": "2023-02-22T22:27:35.800048",
     "status": "completed"
    },
    "tags": []
   },
   "source": [
    "#### By archseries"
   ]
  },
  {
   "cell_type": "code",
   "execution_count": null,
   "id": "d866a6e2",
   "metadata": {
    "papermill": {
     "duration": 0.236828,
     "end_time": "2023-02-22T22:27:36.328680",
     "exception": false,
     "start_time": "2023-02-22T22:27:36.091852",
     "status": "completed"
    },
    "tags": []
   },
   "outputs": [],
   "source": [
    "# Remove unlimited\n",
    "ocg_crosstab_c = pd.crosstab(exploded_archseries['Archseries'].where(exploded_archseries['OCG status']!='Unlimited'), exploded_archseries['OCG status'], margins = True)\n",
    "ocg_crosstab_c"
   ]
  },
  {
   "cell_type": "markdown",
   "id": "c5b33198",
   "metadata": {
    "papermill": {
     "duration": 0.202309,
     "end_time": "2023-02-22T22:27:36.678021",
     "exception": false,
     "start_time": "2023-02-22T22:27:36.475712",
     "status": "completed"
    },
    "tags": []
   },
   "source": [
    "### TCG vs. OCG status"
   ]
  },
  {
   "cell_type": "code",
   "execution_count": null,
   "id": "14f2101b",
   "metadata": {
    "papermill": {
     "duration": 0.188679,
     "end_time": "2023-02-22T22:27:37.013764",
     "exception": false,
     "start_time": "2023-02-22T22:27:36.825085",
     "status": "completed"
    },
    "tags": []
   },
   "outputs": [],
   "source": [
    "cg_crosstab = pd.crosstab(cards_df['OCG status'],cards_df['TCG status'], dropna=False, margins = False)\n",
    "cg_crosstab"
   ]
  },
  {
   "cell_type": "code",
   "execution_count": null,
   "id": "d10c5c81",
   "metadata": {
    "papermill": {
     "duration": 1.038036,
     "end_time": "2023-02-22T22:27:38.199175",
     "exception": false,
     "start_time": "2023-02-22T22:27:37.161139",
     "status": "completed"
    },
    "tags": []
   },
   "outputs": [],
   "source": [
    "plt.figure(figsize = (10,8))\n",
    "sns.heatmap(cg_crosstab[cg_crosstab>0], annot=True, fmt=\"g\", cmap='viridis', square=True, norm=mc.LogNorm())\n",
    "plt.show()"
   ]
  },
  {
   "cell_type": "markdown",
   "id": "95d94158-0922-4085-b2c7-d7fa24f40038",
   "metadata": {
    "papermill": {
     "duration": 0.148369,
     "end_time": "2023-02-22T22:27:38.495662",
     "exception": false,
     "start_time": "2023-02-22T22:27:38.347293",
     "status": "completed"
    },
    "tags": []
   },
   "source": [
    "# Extras"
   ]
  },
  {
   "cell_type": "markdown",
   "id": "81de3001-152d-4f35-9978-b8f895a91cc1",
   "metadata": {
    "papermill": {
     "duration": 0.200657,
     "end_time": "2023-02-22T22:27:38.846622",
     "exception": false,
     "start_time": "2023-02-22T22:27:38.645965",
     "status": "completed"
    },
    "tags": []
   },
   "source": [
    "## Multiple secondary types"
   ]
  },
  {
   "cell_type": "code",
   "execution_count": null,
   "id": "7efee39e-a0b5-4636-bcd4-cb9c75e11888",
   "metadata": {
    "papermill": {
     "duration": 0.198071,
     "end_time": "2023-02-22T22:27:39.196332",
     "exception": false,
     "start_time": "2023-02-22T22:27:38.998261",
     "status": "completed"
    },
    "tags": []
   },
   "outputs": [],
   "source": [
    "cards_df.dropna(subset='Secondary type', axis=0)[[len(x)>1 for x in cards_df['Secondary type'].dropna()]]"
   ]
  },
  {
   "cell_type": "markdown",
   "id": "a1bdb3eb-7f83-49a8-92a2-a8a05e6253c7",
   "metadata": {
    "papermill": {
     "duration": 0.151744,
     "end_time": "2023-02-22T22:27:39.505493",
     "exception": false,
     "start_time": "2023-02-22T22:27:39.353749",
     "status": "completed"
    },
    "tags": []
   },
   "source": [
    "## Not yet released"
   ]
  },
  {
   "cell_type": "code",
   "execution_count": null,
   "id": "6ca6f265",
   "metadata": {
    "papermill": {
     "duration": 0.179698,
     "end_time": "2023-02-22T22:27:40.081775",
     "exception": false,
     "start_time": "2023-02-22T22:27:39.902077",
     "status": "completed"
    },
    "tags": []
   },
   "outputs": [],
   "source": [
    "cards_df.loc[cards_df['OCG status'] == 'Not yet released'].loc[full_df['TCG status'] == 'Not yet released']"
   ]
  },
  {
   "cell_type": "markdown",
   "id": "b53361a5-0528-4691-a8ca-c015e4802d9c",
   "metadata": {
    "papermill": {
     "duration": 0.152195,
     "end_time": "2023-02-22T22:27:40.384774",
     "exception": false,
     "start_time": "2023-02-22T22:27:40.232579",
     "status": "completed"
    },
    "tags": []
   },
   "source": [
    "## Counters and Tokens"
   ]
  },
  {
   "cell_type": "code",
   "execution_count": null,
   "id": "4022c3ca-bd45-4870-b233-7fdd5b1639a7",
   "metadata": {
    "papermill": {
     "duration": 0.176074,
     "end_time": "2023-02-22T22:27:40.712725",
     "exception": false,
     "start_time": "2023-02-22T22:27:40.536651",
     "status": "completed"
    },
    "tags": []
   },
   "outputs": [],
   "source": [
    "counter_df.dropna(how='all',axis=1)"
   ]
  },
  {
   "cell_type": "markdown",
   "id": "5a48e113-5c3f-48cd-a6a4-d1b779b8d834",
   "metadata": {
    "papermill": {
     "duration": 0.149509,
     "end_time": "2023-02-22T22:27:41.015262",
     "exception": false,
     "start_time": "2023-02-22T22:27:40.865753",
     "status": "completed"
    },
    "tags": []
   },
   "source": [
    "# Page name differs from card name"
   ]
  },
  {
   "cell_type": "code",
   "execution_count": null,
   "id": "4f3c09e4-ca0e-437b-82ed-7f1939b29886",
   "metadata": {
    "papermill": {
     "duration": 0.197599,
     "end_time": "2023-02-22T22:27:41.364468",
     "exception": false,
     "start_time": "2023-02-22T22:27:41.166869",
     "status": "completed"
    },
    "tags": []
   },
   "outputs": [],
   "source": [
    "full_df[full_df['Name']!=full_df['Page name']]"
   ]
  },
  {
   "cell_type": "markdown",
   "id": "4058f0b9-3031-4daa-8a4a-2dddf8c74c07",
   "metadata": {
    "papermill": {
     "duration": 0.150264,
     "end_time": "2023-02-22T22:27:41.665707",
     "exception": false,
     "start_time": "2023-02-22T22:27:41.515443",
     "status": "completed"
    },
    "tags": []
   },
   "source": [
    "# Epilogue"
   ]
  },
  {
   "cell_type": "code",
   "execution_count": null,
   "id": "871cb3eb-a0fc-42e8-b516-6d524deba2fc",
   "metadata": {
    "papermill": {
     "duration": 0.165205,
     "end_time": "2023-02-22T22:27:41.981675",
     "exception": false,
     "start_time": "2023-02-22T22:27:41.816470",
     "status": "completed"
    },
    "tags": []
   },
   "outputs": [],
   "source": [
    "benchmark('cards',timestamp)"
   ]
  },
  {
   "cell_type": "code",
   "execution_count": null,
   "id": "310f7d3e-ab76-4c5b-bf3d-f6898d559118",
   "metadata": {
    "papermill": {
     "duration": 0.17123,
     "end_time": "2023-02-22T22:27:42.303245",
     "exception": false,
     "start_time": "2023-02-22T22:27:42.132015",
     "status": "completed"
    },
    "tags": []
   },
   "outputs": [],
   "source": [
    "footer(timestamp)"
   ]
  },
  {
   "cell_type": "markdown",
   "id": "fade81da",
   "metadata": {
    "papermill": {
     "duration": 0.161301,
     "end_time": "2023-02-22T22:27:42.621788",
     "exception": false,
     "start_time": "2023-02-22T22:27:42.460487",
     "status": "completed"
    },
    "tags": []
   },
   "source": [
    "## HTML export"
   ]
  },
  {
   "cell_type": "code",
   "execution_count": null,
   "id": "6715b83e-9a4e-423c-81b9-33a81603acd4",
   "metadata": {
    "papermill": {
     "duration": 0.166335,
     "end_time": "2023-02-22T22:27:42.941056",
     "exception": false,
     "start_time": "2023-02-22T22:27:42.774721",
     "status": "completed"
    },
    "tags": []
   },
   "outputs": [],
   "source": [
    "# Save notebook on disck before generating HTML report\n",
    "save_notebook()"
   ]
  },
  {
   "cell_type": "code",
   "execution_count": null,
   "id": "de556e8b",
   "metadata": {
    "papermill": {
     "duration": 3.911313,
     "end_time": "2023-02-22T22:27:47.005324",
     "exception": false,
     "start_time": "2023-02-22T22:27:43.094011",
     "status": "completed"
    },
    "tags": []
   },
   "outputs": [],
   "source": [
    "! jupyter nbconvert Cards.ipynb --output-dir='../' --to=HTML --TagRemovePreprocessor.enabled=True --TagRemovePreprocessor.remove_cell_tags='exclude' --TemplateExporter.exclude_input=True --TemplateExporter.exclude_input_prompt=True --TemplateExporter.exclude_output_prompt=True"
   ]
  },
  {
   "cell_type": "markdown",
   "id": "641a7018-0f50-4ab6-b8f3-119a279cbc65",
   "metadata": {
    "papermill": {
     "duration": 0.172809,
     "end_time": "2023-02-22T22:27:47.330627",
     "exception": false,
     "start_time": "2023-02-22T22:27:47.157818",
     "status": "completed"
    },
    "tags": [
     "exclude"
    ]
   },
   "source": [
    "## Git"
   ]
  },
  {
   "cell_type": "code",
   "execution_count": null,
   "id": "cba1eb00-d9c2-491a-95b3-5ce0a0524d59",
   "metadata": {
    "papermill": {
     "duration": 1.055781,
     "end_time": "2023-02-22T22:27:48.538052",
     "exception": false,
     "start_time": "2023-02-22T22:27:47.482271",
     "status": "completed"
    },
    "tags": [
     "exclude"
    ]
   },
   "outputs": [],
   "source": [
    "! git add \"../*[Cc]ards*\""
   ]
  },
  {
   "cell_type": "code",
   "execution_count": null,
   "id": "6f1f8303-30c6-4aaa-b45e-f6d5f5ece30e",
   "metadata": {
    "papermill": {
     "duration": 0.991497,
     "end_time": "2023-02-22T22:27:49.708789",
     "exception": false,
     "start_time": "2023-02-22T22:27:48.717292",
     "status": "completed"
    },
    "tags": [
     "exclude"
    ]
   },
   "outputs": [],
   "source": [
    "! git commit -m {\"'Cards update-\" + timestamp.isoformat() + \"'\"}"
   ]
  }
 ],
 "metadata": {
  "kernelspec": {
   "display_name": "Python 3 (ipykernel)",
   "language": "python",
   "name": "python3"
  },
  "language_info": {
   "codemirror_mode": {
    "name": "ipython",
    "version": 3
   },
   "file_extension": ".py",
   "mimetype": "text/x-python",
   "name": "python",
   "nbconvert_exporter": "python",
   "pygments_lexer": "ipython3",
   "version": "3.10.8"
  },
  "papermill": {
   "default_parameters": {},
   "duration": 216.133721,
   "end_time": "2023-02-22T22:27:50.787255",
   "environment_variables": {},
   "exception": null,
   "input_path": "Cards.ipynb",
   "output_path": "Cards.ipynb",
   "parameters": {},
   "start_time": "2023-02-22T22:24:14.653534",
   "version": "2.4.0"
  },
  "toc": {
   "base_numbering": 1,
   "nav_menu": {
    "height": "599px",
    "width": "228px"
   },
   "number_sections": true,
   "sideBar": true,
   "skip_h1_title": false,
   "title_cell": "Table of Contents",
   "title_sidebar": "Contents",
   "toc_cell": true,
   "toc_position": {
    "height": "calc(100% - 180px)",
    "left": "10px",
    "top": "150px",
    "width": "353px"
   },
   "toc_section_display": true,
   "toc_window_display": true
  },
  "toc-autonumbering": false,
  "toc-showcode": false,
  "toc-showmarkdowntxt": false
 },
 "nbformat": 4,
 "nbformat_minor": 5
}
