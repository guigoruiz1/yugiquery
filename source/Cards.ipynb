{
 "cells": [
  {
   "cell_type": "code",
   "execution_count": null,
   "id": "82c61f6c-3c7a-4460-b466-9c521973fa5d",
   "metadata": {
    "papermill": {
     "duration": 2.110758,
     "end_time": "2023-07-13T13:01:34.225473",
     "exception": false,
     "start_time": "2023-07-13T13:01:32.114715",
     "status": "completed"
    },
    "tags": []
   },
   "outputs": [],
   "source": [
    "from yugiquery import *\n",
    "\n",
    "header(\"Cards\")"
   ]
  },
  {
   "cell_type": "markdown",
   "id": "48cd2c04-37eb-408f-86ee-17e204a2cea9",
   "metadata": {
    "papermill": {
     "duration": 0.059683,
     "end_time": "2023-07-13T13:01:34.344275",
     "exception": false,
     "start_time": "2023-07-13T13:01:34.284592",
     "status": "completed"
    },
    "tags": []
   },
   "source": [
    "---"
   ]
  },
  {
   "cell_type": "markdown",
   "id": "6e66c226",
   "metadata": {
    "papermill": {
     "duration": 0.057335,
     "end_time": "2023-07-13T13:01:34.461067",
     "exception": false,
     "start_time": "2023-07-13T13:01:34.403732",
     "status": "completed"
    },
    "tags": [],
    "toc": true
   },
   "source": [
    "Table of Contents\n",
    "=================\n",
    "\n",
    "*   [1  Data aquisition](#Data-aquisition)\n",
    "    *   [1.1  Fetch online data](#Fetch-online-data)\n",
    "    *   [1.2  Merge data](#Merge-data)\n",
    "*   [2  Check changes](#Check-changes)\n",
    "    *   [2.1  Load previous data](#Load-previous-data)\n",
    "    *   [2.2  Generate changelog](#Generate-changelog)\n",
    "    *   [2.3  Save data](#Save-data)\n",
    "*   [3  Data visualization](#Data-visualization)\n",
    "    *   [3.1  Full data](#Full-data)\n",
    "    *   [3.2  Card types](#Card-types)\n",
    "    *   [3.3  Monsters](#Monsters)\n",
    "        *   [3.3.1  Attributes](#Attributes)\n",
    "        *   [3.3.2  Primary types](#Primary-types)\n",
    "            *   [3.3.2.1  Has effect discrimination](#Has-effect-discrimination)\n",
    "            *   [3.3.2.2  Is pendulum discrimination](#Is-pendulum-discrimination)\n",
    "            *   [3.3.2.3  By attribute](#By-attribute)\n",
    "        *   [3.3.3  Secondary types](#Secondary-types)\n",
    "            *   [3.3.3.1  By attribute](#By-attribute)\n",
    "            *   [3.3.3.2  By secondary type](#By-secondary-type)\n",
    "        *   [3.3.4  Monster types](#Monster-types)\n",
    "            *   [3.3.4.1  By Attribute](#By-Attribute)\n",
    "            *   [3.3.4.2  By primary type](#By-primary-type)\n",
    "            *   [3.3.4.3  By secondary type](#By-secondary-type)\n",
    "        *   [3.3.5  Effect type](#Effect-type)\n",
    "        *   [3.3.6  ATK](#ATK)\n",
    "        *   [3.3.7  DEF](#DEF)\n",
    "        *   [3.3.8  Level/Rank](#Level/Rank)\n",
    "            *   [3.3.8.1  ATK statistics](#ATK-statistics)\n",
    "            *   [3.3.8.2  DEF statistics](#DEF-statistics)\n",
    "        *   [3.3.9  Pendulum scale](#Pendulum-scale)\n",
    "            *   [3.3.9.1  ATK statistics](#ATK-statistics)\n",
    "            *   [3.3.9.2  DEF statistics](#DEF-statistics)\n",
    "            *   [3.3.9.3  Level/Rank statistics](#Level/Rank-statistics)\n",
    "        *   [3.3.10  Link](#Link)\n",
    "            *   [3.3.10.1  ATK statistics](#ATK-statistics)\n",
    "        *   [3.3.11  Link Arrows](#Link-Arrows)\n",
    "            *   [3.3.11.1  By combination](#By-combination)\n",
    "            *   [3.3.11.2  By unique](#By-unique)\n",
    "            *   [3.3.11.3  By link](#By-link)\n",
    "    *   [3.4  Spell & Trap](#Spell-&-Trap)\n",
    "        *   [3.4.1  Properties](#Properties)\n",
    "        *   [3.4.2  Effect type](#Effect-type)\n",
    "            *   [3.4.2.1  Spell & Trap discrimination](#Spell-&-Trap-discrimination)\n",
    "    *   [3.5  Archseries](#Archseries)\n",
    "        *   [3.5.1  By card type](#By-card-type)\n",
    "        *   [3.5.2  By primary type](#By-primary-type)\n",
    "        *   [3.5.3  By secondary type](#By-secondary-type)\n",
    "        *   [3.5.4  By monster type](#By-monster-type)\n",
    "        *   [3.5.5  By property](#By-property)\n",
    "    *   [3.6  Artworks](#Artworks)\n",
    "        *   [3.6.1  By card type](#By-card-type)\n",
    "        *   [3.6.2  By primary type](#By-primary-type)\n",
    "    *   [3.7  Errata](#Errata)\n",
    "        *   [3.7.1  By card type](#By-card-type)\n",
    "        *   [3.7.2  By primary type](#By-primary-type)\n",
    "        *   [3.7.3  By artwork](#By-artwork)\n",
    "    *   [3.8  TCG & OCG status](#TCG-&-OCG-status)\n",
    "        *   [3.8.1  TGC status](#TGC-status)\n",
    "            *   [3.8.1.1  By card type](#By-card-type)\n",
    "            *   [3.8.1.2  By monster type](#By-monster-type)\n",
    "            *   [3.8.1.3  By archseries](#By-archseries)\n",
    "        *   [3.8.2  OCG status](#OCG-status)\n",
    "            *   [3.8.2.1  By card type](#By-card-type)\n",
    "            *   [3.8.2.2  By monster type](#By-monster-type)\n",
    "            *   [3.8.2.3  By archseries](#By-archseries)\n",
    "        *   [3.8.3  TCG vs. OCG status](#TCG-vs.-OCG-status)\n",
    "*   [4  Extras](#Extras)\n",
    "    *   [4.1 Multiple secondary types](#Multiple-secondary-types)\n",
    "    *   [4.2 Not yet released](#Not-yet-released)\n",
    "    *   [4.3 Counters and Tokens](#Counters-and-Tokens)\n",
    "*   [5  Epilogue](#Epilogue)\n",
    "    *   [5.1  HTML export](#HTML-export)\n",
    "<!-- *   [5.2  Git](#Git) -->"
   ]
  },
  {
   "cell_type": "markdown",
   "id": "b60fae74",
   "metadata": {
    "papermill": {
     "duration": 0.058162,
     "end_time": "2023-07-13T13:01:34.579030",
     "exception": false,
     "start_time": "2023-07-13T13:01:34.520868",
     "status": "completed"
    },
    "tags": []
   },
   "source": [
    "# Data aquisition"
   ]
  },
  {
   "cell_type": "markdown",
   "id": "699f2460",
   "metadata": {
    "papermill": {
     "duration": 0.057697,
     "end_time": "2023-07-13T13:01:34.694606",
     "exception": false,
     "start_time": "2023-07-13T13:01:34.636909",
     "status": "completed"
    },
    "tags": []
   },
   "source": [
    "## Fetch online data"
   ]
  },
  {
   "cell_type": "code",
   "execution_count": null,
   "id": "135ab538",
   "metadata": {
    "papermill": {
     "duration": 0.067433,
     "end_time": "2023-07-13T13:01:34.820300",
     "exception": false,
     "start_time": "2023-07-13T13:01:34.752867",
     "status": "completed"
    },
    "tags": []
   },
   "outputs": [],
   "source": [
    "# Timestamp\n",
    "timestamp = pd.Timestamp.now()"
   ]
  },
  {
   "cell_type": "code",
   "execution_count": null,
   "id": "a5ac8487-bb9d-472c-857a-409b7eed3e2c",
   "metadata": {
    "papermill": {
     "duration": 60.50994,
     "end_time": "2023-07-13T13:02:35.388923",
     "exception": false,
     "start_time": "2023-07-13T13:01:34.878983",
     "status": "completed"
    },
    "tags": []
   },
   "outputs": [],
   "source": [
    "# Fetch Monster\n",
    "monster_df = fetch_monster()"
   ]
  },
  {
   "cell_type": "code",
   "execution_count": null,
   "id": "f62e94af-db1f-4ba5-9a7c-979b919625f3",
   "metadata": {
    "papermill": {
     "duration": 25.594897,
     "end_time": "2023-07-13T13:03:01.044801",
     "exception": false,
     "start_time": "2023-07-13T13:02:35.449904",
     "status": "completed"
    },
    "tags": []
   },
   "outputs": [],
   "source": [
    "# Fetch Spell\n",
    "spell_df = fetch_st(st=\"Spell\")\n",
    "\n",
    "# Fetch Trap\n",
    "trap_df = fetch_st(st=\"Trap\")"
   ]
  },
  {
   "cell_type": "code",
   "execution_count": null,
   "id": "913baa55-a117-4794-9b0c-9839cce927df",
   "metadata": {
    "papermill": {
     "duration": 5.841874,
     "end_time": "2023-07-13T13:03:06.951154",
     "exception": false,
     "start_time": "2023-07-13T13:03:01.109280",
     "status": "completed"
    },
    "tags": []
   },
   "outputs": [],
   "source": [
    "# Fetch Token\n",
    "token_df = fetch_token()\n",
    "\n",
    "# Fetch Counter\n",
    "counter_df = fetch_counter()\n",
    "\n",
    "# Fetch errata\n",
    "errata_df = fetch_errata()"
   ]
  },
  {
   "cell_type": "markdown",
   "id": "ffe04a8e-544d-4e73-947d-de6d5615bca3",
   "metadata": {
    "papermill": {
     "duration": 0.063597,
     "end_time": "2023-07-13T13:03:07.075231",
     "exception": false,
     "start_time": "2023-07-13T13:03:07.011634",
     "status": "completed"
    },
    "tags": []
   },
   "source": [
    "## Merge data"
   ]
  },
  {
   "cell_type": "code",
   "execution_count": null,
   "id": "3669c6ff-2f6a-4a09-b80c-0cf361caf929",
   "metadata": {
    "papermill": {
     "duration": 1.045446,
     "end_time": "2023-07-13T13:03:08.181152",
     "exception": false,
     "start_time": "2023-07-13T13:03:07.135706",
     "status": "completed"
    },
    "tags": []
   },
   "outputs": [],
   "source": [
    "# Merge errata\n",
    "monster_df = merge_errata(monster_df, errata_df)\n",
    "spell_df = merge_errata(spell_df, errata_df)\n",
    "trap_df = merge_errata(trap_df, errata_df)\n",
    "token_df = merge_errata(token_df, errata_df)\n",
    "counter_df = merge_errata(counter_df, errata_df)\n",
    "\n",
    "# Add counters to tokens data frame\n",
    "token_df = (\n",
    "    pd.concat([token_df, counter_df], ignore_index=True, axis=0)\n",
    "    .drop_duplicates()\n",
    "    .sort_values(\"Name\", ignore_index=True)\n",
    ")\n",
    "\n",
    "# Create combined spell and trap data frame\n",
    "st_df = pd.concat([spell_df, trap_df], ignore_index=True, axis=0).sort_values(\n",
    "    \"Name\", ignore_index=True\n",
    ")\n",
    "\n",
    "# Create combined monster, spell and trap data frames\n",
    "cards_df = pd.concat([st_df, monster_df], ignore_index=True, axis=0).sort_values(\n",
    "    \"Name\", ignore_index=True\n",
    ")\n",
    "\n",
    "# Create combined data frames with full data\n",
    "full_df = pd.concat([cards_df, token_df], ignore_index=True, axis=0).sort_values(\n",
    "    \"Name\", ignore_index=True\n",
    ")\n",
    "\n",
    "print(\"Data merged\")"
   ]
  },
  {
   "cell_type": "markdown",
   "id": "9ff0cf51",
   "metadata": {
    "papermill": {
     "duration": 0.078912,
     "end_time": "2023-07-13T13:03:08.320746",
     "exception": false,
     "start_time": "2023-07-13T13:03:08.241834",
     "status": "completed"
    },
    "tags": []
   },
   "source": [
    "# Check changes"
   ]
  },
  {
   "cell_type": "markdown",
   "id": "233e965d",
   "metadata": {
    "papermill": {
     "duration": 0.0642,
     "end_time": "2023-07-13T13:03:08.448507",
     "exception": false,
     "start_time": "2023-07-13T13:03:08.384307",
     "status": "completed"
    },
    "tags": []
   },
   "source": [
    "## Load previous data"
   ]
  },
  {
   "cell_type": "code",
   "execution_count": null,
   "id": "fb7dc6f8",
   "metadata": {
    "papermill": {
     "duration": 0.779967,
     "end_time": "2023-07-13T13:03:09.291595",
     "exception": false,
     "start_time": "2023-07-13T13:03:08.511628",
     "status": "completed"
    },
    "tags": []
   },
   "outputs": [],
   "source": [
    "# Get list of files\n",
    "files_list = sorted(\n",
    "    glob.glob(\"../data/all_cards_*.bz2\"), key=os.path.getctime, reverse=True\n",
    ")\n",
    "# Get second newest file if exist\n",
    "if files_list:\n",
    "    latest_file = files_list[0]\n",
    "    # Load csv avoiding converting \"NA\" to NaN\n",
    "    previous_df = pd.read_csv(\n",
    "        latest_file, dtype=object, keep_default_na=False, na_values=[\"\"]\n",
    "    )\n",
    "    # Correct tuples\n",
    "    tuple_cols = [\n",
    "        \"Effect type\",\n",
    "        \"Secondary type\",\n",
    "        \"Link Arrows\",\n",
    "        \"Archseries\",\n",
    "        \"Artwork\",\n",
    "        \"Errata\",\n",
    "    ]\n",
    "    for col in tuple_cols:\n",
    "        previous_df[col] = previous_df[col].dropna().apply(literal_eval)\n",
    "    # Force dtypes to match current df\n",
    "    previous_df = previous_df.astype(\n",
    "        full_df[previous_df.columns.intersection(full_df.columns)].dtypes.to_dict()\n",
    "    )\n",
    "    previous_ts = pd.to_datetime(\n",
    "        os.path.basename(latest_file).split(\"_\")[-1].split(\".bz2\")[0]\n",
    "    )\n",
    "    print(\"File loaded\")\n",
    "else:\n",
    "    previous_df = None\n",
    "    print(\"No older files\")"
   ]
  },
  {
   "cell_type": "markdown",
   "id": "96ce5451",
   "metadata": {
    "papermill": {
     "duration": 0.071891,
     "end_time": "2023-07-13T13:03:09.425921",
     "exception": false,
     "start_time": "2023-07-13T13:03:09.354030",
     "status": "completed"
    },
    "tags": []
   },
   "source": [
    "## Generate changelog"
   ]
  },
  {
   "cell_type": "code",
   "execution_count": null,
   "id": "2fcca8f1",
   "metadata": {
    "papermill": {
     "duration": 0.47892,
     "end_time": "2023-07-13T13:03:09.968367",
     "exception": false,
     "start_time": "2023-07-13T13:03:09.489447",
     "status": "completed"
    },
    "tags": []
   },
   "outputs": [],
   "source": [
    "if previous_df is None:\n",
    "    changelog = None\n",
    "    print(\"Skipped\")\n",
    "else:\n",
    "    changelog = generate_changelog(previous_df, full_df, col=\"Name\")\n",
    "    if not changelog.empty:\n",
    "        display(changelog)\n",
    "        changelog.to_csv(\n",
    "            f'../data/cards_changelog_{previous_ts.isoformat(timespec=\"minutes\")}_{timestamp.isoformat(timespec=\"minutes\")}.bz2',\n",
    "            index=True,\n",
    "        )\n",
    "        print(\"Changelog saved\")"
   ]
  },
  {
   "cell_type": "markdown",
   "id": "9b15f8ec",
   "metadata": {
    "papermill": {
     "duration": 0.06243,
     "end_time": "2023-07-13T13:03:10.094482",
     "exception": false,
     "start_time": "2023-07-13T13:03:10.032052",
     "status": "completed"
    },
    "tags": []
   },
   "source": [
    "## Save data"
   ]
  },
  {
   "cell_type": "code",
   "execution_count": null,
   "id": "01e9eb77",
   "metadata": {
    "papermill": {
     "duration": 0.827492,
     "end_time": "2023-07-13T13:03:10.984071",
     "exception": false,
     "start_time": "2023-07-13T13:03:10.156579",
     "status": "completed"
    },
    "tags": []
   },
   "outputs": [],
   "source": [
    "if changelog is not None and changelog.empty:\n",
    "    print(\"No changes. New data not saved\")\n",
    "else:\n",
    "    full_df.to_csv(\n",
    "        f'../data/all_cards_{timestamp.isoformat(timespec=\"minutes\")}.bz2', index=False\n",
    "    )\n",
    "    print(\"Data saved\")"
   ]
  },
  {
   "cell_type": "markdown",
   "id": "c0ae1017",
   "metadata": {
    "papermill": {
     "duration": 0.062133,
     "end_time": "2023-07-13T13:03:11.109338",
     "exception": false,
     "start_time": "2023-07-13T13:03:11.047205",
     "status": "completed"
    },
    "tags": []
   },
   "source": [
    "# Data visualization"
   ]
  },
  {
   "cell_type": "markdown",
   "id": "5ad091af",
   "metadata": {
    "jp-MarkdownHeadingCollapsed": true,
    "papermill": {
     "duration": 0.06211,
     "end_time": "2023-07-13T13:03:11.233346",
     "exception": false,
     "start_time": "2023-07-13T13:03:11.171236",
     "status": "completed"
    },
    "tags": []
   },
   "source": [
    "## Full data"
   ]
  },
  {
   "cell_type": "code",
   "execution_count": null,
   "id": "fb024043",
   "metadata": {
    "papermill": {
     "duration": 0.109154,
     "end_time": "2023-07-13T13:03:11.404840",
     "exception": false,
     "start_time": "2023-07-13T13:03:11.295686",
     "status": "completed"
    },
    "tags": []
   },
   "outputs": [],
   "source": [
    "full_df"
   ]
  },
  {
   "cell_type": "markdown",
   "id": "da99ccde-ca38-4d81-8661-6f8514f689d7",
   "metadata": {
    "papermill": {
     "duration": 0.062905,
     "end_time": "2023-07-13T13:03:11.531379",
     "exception": false,
     "start_time": "2023-07-13T13:03:11.468474",
     "status": "completed"
    },
    "tags": []
   },
   "source": [
    "Full data available to download [here](../data)"
   ]
  },
  {
   "cell_type": "markdown",
   "id": "8a8cb7cd",
   "metadata": {
    "jp-MarkdownHeadingCollapsed": true,
    "papermill": {
     "duration": 0.062227,
     "end_time": "2023-07-13T13:03:11.656447",
     "exception": false,
     "start_time": "2023-07-13T13:03:11.594220",
     "status": "completed"
    },
    "tags": []
   },
   "source": [
    "## Card types"
   ]
  },
  {
   "cell_type": "code",
   "execution_count": null,
   "id": "a4ec32e1",
   "metadata": {
    "papermill": {
     "duration": 0.080485,
     "end_time": "2023-07-13T13:03:11.799108",
     "exception": false,
     "start_time": "2023-07-13T13:03:11.718623",
     "status": "completed"
    },
    "tags": []
   },
   "outputs": [],
   "source": [
    "print(\"Total number of card types:\", cards_df[\"Card type\"].nunique())"
   ]
  },
  {
   "cell_type": "code",
   "execution_count": null,
   "id": "120a72dc",
   "metadata": {
    "papermill": {
     "duration": 0.402062,
     "end_time": "2023-07-13T13:03:12.263902",
     "exception": false,
     "start_time": "2023-07-13T13:03:11.861840",
     "status": "completed"
    },
    "tags": []
   },
   "outputs": [],
   "source": [
    "card_type_colors = [colors_dict[i] for i in full_df[\"Card type\"].value_counts().index]\n",
    "cards_df[\"Card type\"].value_counts().plot.bar(\n",
    "    figsize=(18, 6), grid=True, rot=0, color=card_type_colors, title=\"Card type\"\n",
    ")\n",
    "plt.show()"
   ]
  },
  {
   "cell_type": "markdown",
   "id": "fa1ed03c",
   "metadata": {
    "papermill": {
     "duration": 0.064377,
     "end_time": "2023-07-13T13:03:12.395524",
     "exception": false,
     "start_time": "2023-07-13T13:03:12.331147",
     "status": "completed"
    },
    "tags": []
   },
   "source": [
    "## Monsters"
   ]
  },
  {
   "cell_type": "markdown",
   "id": "66c5f658",
   "metadata": {
    "papermill": {
     "duration": 0.06397,
     "end_time": "2023-07-13T13:03:12.524889",
     "exception": false,
     "start_time": "2023-07-13T13:03:12.460919",
     "status": "completed"
    },
    "tags": []
   },
   "source": [
    "### Attributes"
   ]
  },
  {
   "cell_type": "code",
   "execution_count": null,
   "id": "aa4e6a26",
   "metadata": {
    "papermill": {
     "duration": 0.078313,
     "end_time": "2023-07-13T13:03:12.667294",
     "exception": false,
     "start_time": "2023-07-13T13:03:12.588981",
     "status": "completed"
    },
    "tags": []
   },
   "outputs": [],
   "source": [
    "print(\"Total number of attributes:\", monster_df[\"Attribute\"].nunique())"
   ]
  },
  {
   "cell_type": "code",
   "execution_count": null,
   "id": "ea26720e",
   "metadata": {
    "papermill": {
     "duration": 0.152164,
     "end_time": "2023-07-13T13:03:12.883686",
     "exception": false,
     "start_time": "2023-07-13T13:03:12.731522",
     "status": "completed"
    },
    "tags": []
   },
   "outputs": [],
   "source": [
    "monster_df.drop(columns=[\"Card type\", \"Page name\", \"Page URL\"]).groupby(\n",
    "    \"Attribute\"\n",
    ").nunique()"
   ]
  },
  {
   "cell_type": "code",
   "execution_count": null,
   "id": "c4ff5f74",
   "metadata": {
    "papermill": {
     "duration": 0.319732,
     "end_time": "2023-07-13T13:03:13.268094",
     "exception": false,
     "start_time": "2023-07-13T13:03:12.948362",
     "status": "completed"
    },
    "tags": []
   },
   "outputs": [],
   "source": [
    "attribute_colors = [\n",
    "    colors_dict[i] for i in monster_df[\"Attribute\"].value_counts().index\n",
    "]\n",
    "monster_df[\"Attribute\"].value_counts().plot.bar(\n",
    "    figsize=(18, 6), grid=True, rot=0, color=attribute_colors, title=\"Attribute\"\n",
    ")\n",
    "plt.show()"
   ]
  },
  {
   "cell_type": "markdown",
   "id": "d0d71936",
   "metadata": {
    "papermill": {
     "duration": 0.068176,
     "end_time": "2023-07-13T13:03:13.405961",
     "exception": false,
     "start_time": "2023-07-13T13:03:13.337785",
     "status": "completed"
    },
    "tags": []
   },
   "source": [
    "### Primary types"
   ]
  },
  {
   "cell_type": "code",
   "execution_count": null,
   "id": "26e45412",
   "metadata": {
    "papermill": {
     "duration": 0.513503,
     "end_time": "2023-07-13T13:03:14.016854",
     "exception": false,
     "start_time": "2023-07-13T13:03:13.503351",
     "status": "completed"
    },
    "tags": []
   },
   "outputs": [],
   "source": [
    "print(\"Total number of primary types:\", monster_df[\"Primary type\"].nunique())"
   ]
  },
  {
   "cell_type": "code",
   "execution_count": null,
   "id": "c7e4c6b0",
   "metadata": {
    "papermill": {
     "duration": 0.184481,
     "end_time": "2023-07-13T13:03:14.268178",
     "exception": false,
     "start_time": "2023-07-13T13:03:14.083697",
     "status": "completed"
    },
    "tags": []
   },
   "outputs": [],
   "source": [
    "monster_df.drop(columns=[\"Card type\", \"Page name\", \"Page URL\"]).groupby(\n",
    "    \"Primary type\"\n",
    ").nunique()"
   ]
  },
  {
   "cell_type": "markdown",
   "id": "d41d8e4a",
   "metadata": {
    "papermill": {
     "duration": 0.06792,
     "end_time": "2023-07-13T13:03:14.405910",
     "exception": false,
     "start_time": "2023-07-13T13:03:14.337990",
     "status": "completed"
    },
    "tags": []
   },
   "source": [
    "#### Has effect discrimination"
   ]
  },
  {
   "cell_type": "code",
   "execution_count": null,
   "id": "c14a59a2-0a34-4a99-a232-b04231647db5",
   "metadata": {
    "papermill": {
     "duration": 0.099943,
     "end_time": "2023-07-13T13:03:14.573477",
     "exception": false,
     "start_time": "2023-07-13T13:03:14.473534",
     "status": "completed"
    },
    "tags": []
   },
   "outputs": [],
   "source": [
    "effect = pd.crosstab(\n",
    "    monster_df[\"Primary type\"],\n",
    "    pd.isna(monster_df[\"Effect type\"]),\n",
    "    rownames=[\"Primary type\"],\n",
    "    colnames=[\"Has effect\"],\n",
    ").rename(columns={True: \"No Effect\", False: \"Effect\"})\n",
    "effect"
   ]
  },
  {
   "cell_type": "code",
   "execution_count": null,
   "id": "82c24448",
   "metadata": {
    "papermill": {
     "duration": 0.360054,
     "end_time": "2023-07-13T13:03:15.000486",
     "exception": false,
     "start_time": "2023-07-13T13:03:14.640432",
     "status": "completed"
    },
    "tags": []
   },
   "outputs": [],
   "source": [
    "monster_type_colors = {\n",
    "    \"No Effect\": colors_dict[\"Normal Monster\"],\n",
    "    \"Effect\": [colors_dict[i] for i in effect.index],\n",
    "}\n",
    "effect.plot.bar(\n",
    "    figsize=(18, 6),\n",
    "    stacked=True,\n",
    "    grid=True,\n",
    "    rot=0,\n",
    "    legend=True,\n",
    "    color=monster_type_colors,\n",
    ")\n",
    "# plt.yscale('log')\n",
    "plt.show()"
   ]
  },
  {
   "cell_type": "markdown",
   "id": "69d8824e",
   "metadata": {
    "papermill": {
     "duration": 0.067485,
     "end_time": "2023-07-13T13:03:15.136393",
     "exception": false,
     "start_time": "2023-07-13T13:03:15.068908",
     "status": "completed"
    },
    "tags": []
   },
   "source": [
    "Obs: Normal monster can have effect if it is pendulum"
   ]
  },
  {
   "cell_type": "markdown",
   "id": "1da2968f",
   "metadata": {
    "papermill": {
     "duration": 0.068001,
     "end_time": "2023-07-13T13:03:15.272338",
     "exception": false,
     "start_time": "2023-07-13T13:03:15.204337",
     "status": "completed"
    },
    "tags": []
   },
   "source": [
    "#### Is pendulum discrimination"
   ]
  },
  {
   "cell_type": "code",
   "execution_count": null,
   "id": "c18ac7a6",
   "metadata": {
    "papermill": {
     "duration": 0.098984,
     "end_time": "2023-07-13T13:03:15.439074",
     "exception": false,
     "start_time": "2023-07-13T13:03:15.340090",
     "status": "completed"
    },
    "tags": []
   },
   "outputs": [],
   "source": [
    "pendulum = pd.crosstab(\n",
    "    monster_df[\"Primary type\"],\n",
    "    pd.isna(monster_df[\"Pendulum Scale\"]),\n",
    "    rownames=[\"Primary type\"],\n",
    "    colnames=[\"Is Pendulum\"],\n",
    ").rename(columns={True: \"Not Pendulum\", False: \"Pendulum\"})\n",
    "pendulum"
   ]
  },
  {
   "cell_type": "code",
   "execution_count": null,
   "id": "fd0ff75c",
   "metadata": {
    "papermill": {
     "duration": 0.392614,
     "end_time": "2023-07-13T13:03:15.901255",
     "exception": false,
     "start_time": "2023-07-13T13:03:15.508641",
     "status": "completed"
    },
    "tags": []
   },
   "outputs": [],
   "source": [
    "monster_type_colors_b = {\n",
    "    \"Pendulum\": colors_dict[\"Pendulum Monster\"],\n",
    "    \"Not Pendulum\": [colors_dict[i] for i in pendulum.index],\n",
    "}\n",
    "pendulum.plot.bar(\n",
    "    figsize=(18, 6),\n",
    "    stacked=True,\n",
    "    grid=True,\n",
    "    rot=0,\n",
    "    color=monster_type_colors_b,\n",
    "    legend=True,\n",
    "    title=\"Primary types - Is pendulum\",\n",
    ")\n",
    "plt.show()"
   ]
  },
  {
   "cell_type": "markdown",
   "id": "a6a4f4f5",
   "metadata": {
    "papermill": {
     "duration": 0.149825,
     "end_time": "2023-07-13T13:03:16.121153",
     "exception": false,
     "start_time": "2023-07-13T13:03:15.971328",
     "status": "completed"
    },
    "tags": []
   },
   "source": [
    "#### By attribute"
   ]
  },
  {
   "cell_type": "code",
   "execution_count": null,
   "id": "9c162519",
   "metadata": {
    "papermill": {
     "duration": 0.109412,
     "end_time": "2023-07-13T13:03:16.303569",
     "exception": false,
     "start_time": "2023-07-13T13:03:16.194157",
     "status": "completed"
    },
    "tags": []
   },
   "outputs": [],
   "source": [
    "primmary_crosstab = pd.crosstab(cards_df[\"Primary type\"], cards_df[\"Attribute\"])\n",
    "primmary_crosstab"
   ]
  },
  {
   "cell_type": "code",
   "execution_count": null,
   "id": "a0114f45",
   "metadata": {
    "papermill": {
     "duration": 0.947652,
     "end_time": "2023-07-13T13:03:17.320520",
     "exception": false,
     "start_time": "2023-07-13T13:03:16.372868",
     "status": "completed"
    },
    "tags": []
   },
   "outputs": [],
   "source": [
    "plt.figure(figsize=(16, 10))\n",
    "sns.heatmap(\n",
    "    primmary_crosstab.T,\n",
    "    annot=True,\n",
    "    fmt=\"g\",\n",
    "    cmap=\"viridis\",\n",
    "    square=True,\n",
    "    norm=mc.LogNorm(),\n",
    ")\n",
    "plt.show()"
   ]
  },
  {
   "cell_type": "markdown",
   "id": "0c70885e",
   "metadata": {
    "papermill": {
     "duration": 0.071116,
     "end_time": "2023-07-13T13:03:17.461970",
     "exception": false,
     "start_time": "2023-07-13T13:03:17.390854",
     "status": "completed"
    },
    "tags": []
   },
   "source": [
    "### Secondary types"
   ]
  },
  {
   "cell_type": "code",
   "execution_count": null,
   "id": "ee184462",
   "metadata": {
    "papermill": {
     "duration": 0.172268,
     "end_time": "2023-07-13T13:03:17.705197",
     "exception": false,
     "start_time": "2023-07-13T13:03:17.532929",
     "status": "completed"
    },
    "tags": []
   },
   "outputs": [],
   "source": [
    "exploded_secondary_type = monster_df.explode(\"Secondary type\")\n",
    "print(\n",
    "    \"Total number of secondary types:\",\n",
    "    exploded_secondary_type[\"Secondary type\"].nunique(),\n",
    ")"
   ]
  },
  {
   "cell_type": "code",
   "execution_count": null,
   "id": "125f438e",
   "metadata": {
    "papermill": {
     "duration": 0.154977,
     "end_time": "2023-07-13T13:03:17.930217",
     "exception": false,
     "start_time": "2023-07-13T13:03:17.775240",
     "status": "completed"
    },
    "tags": []
   },
   "outputs": [],
   "source": [
    "exploded_secondary_type.drop(\n",
    "    columns=[\"Card type\", \"Link\", \"Link Arrows\", \"Page name\", \"Page URL\"]\n",
    ").groupby(\"Secondary type\").nunique()"
   ]
  },
  {
   "cell_type": "code",
   "execution_count": null,
   "id": "a4fec827",
   "metadata": {
    "papermill": {
     "duration": 0.458491,
     "end_time": "2023-07-13T13:03:18.460696",
     "exception": false,
     "start_time": "2023-07-13T13:03:18.002205",
     "status": "completed"
    },
    "tags": []
   },
   "outputs": [],
   "source": [
    "secondary_type_colors = colors_dict[\"Effect Monster\"]\n",
    "exploded_secondary_type[\"Secondary type\"].value_counts().plot.bar(\n",
    "    figsize=(18, 6),\n",
    "    stacked=True,\n",
    "    grid=True,\n",
    "    rot=0,\n",
    "    color=secondary_type_colors,\n",
    "    legend=False,\n",
    "    title=\"Secondary type\",\n",
    ")\n",
    "plt.show()"
   ]
  },
  {
   "cell_type": "markdown",
   "id": "0420679a",
   "metadata": {
    "papermill": {
     "duration": 0.07205,
     "end_time": "2023-07-13T13:03:18.606534",
     "exception": false,
     "start_time": "2023-07-13T13:03:18.534484",
     "status": "completed"
    },
    "tags": []
   },
   "source": [
    "#### By attribute"
   ]
  },
  {
   "cell_type": "code",
   "execution_count": null,
   "id": "085225bb",
   "metadata": {
    "papermill": {
     "duration": 0.104809,
     "end_time": "2023-07-13T13:03:18.782517",
     "exception": false,
     "start_time": "2023-07-13T13:03:18.677708",
     "status": "completed"
    },
    "tags": []
   },
   "outputs": [],
   "source": [
    "secondary_crosstab = pd.crosstab(\n",
    "    exploded_secondary_type[\"Secondary type\"], exploded_secondary_type[\"Attribute\"]\n",
    ")\n",
    "secondary_crosstab"
   ]
  },
  {
   "cell_type": "code",
   "execution_count": null,
   "id": "b69fe297",
   "metadata": {
    "papermill": {
     "duration": 0.481995,
     "end_time": "2023-07-13T13:03:19.337166",
     "exception": false,
     "start_time": "2023-07-13T13:03:18.855171",
     "status": "completed"
    },
    "tags": []
   },
   "outputs": [],
   "source": [
    "plt.figure(figsize=(8, 6))\n",
    "sns.heatmap(\n",
    "    secondary_crosstab[secondary_crosstab > 0],\n",
    "    annot=True,\n",
    "    fmt=\"g\",\n",
    "    cmap=\"viridis\",\n",
    "    square=True,\n",
    ")\n",
    "plt.show()"
   ]
  },
  {
   "cell_type": "markdown",
   "id": "30b035c2",
   "metadata": {
    "papermill": {
     "duration": 0.079039,
     "end_time": "2023-07-13T13:03:19.494309",
     "exception": false,
     "start_time": "2023-07-13T13:03:19.415270",
     "status": "completed"
    },
    "tags": []
   },
   "source": [
    "#### By secondary type"
   ]
  },
  {
   "cell_type": "code",
   "execution_count": null,
   "id": "c8f08039",
   "metadata": {
    "papermill": {
     "duration": 0.165733,
     "end_time": "2023-07-13T13:03:19.738789",
     "exception": false,
     "start_time": "2023-07-13T13:03:19.573056",
     "status": "completed"
    },
    "tags": []
   },
   "outputs": [],
   "source": [
    "secondary_crosstab_b = pd.crosstab(\n",
    "    exploded_secondary_type[\"Primary type\"],\n",
    "    exploded_secondary_type[\"Secondary type\"],\n",
    "    margins=True,\n",
    ")\n",
    "secondary_crosstab_b"
   ]
  },
  {
   "cell_type": "code",
   "execution_count": null,
   "id": "4749ace2",
   "metadata": {
    "papermill": {
     "duration": 0.724037,
     "end_time": "2023-07-13T13:03:20.537338",
     "exception": false,
     "start_time": "2023-07-13T13:03:19.813301",
     "status": "completed"
    },
    "tags": []
   },
   "outputs": [],
   "source": [
    "plt.figure(figsize=(10, 7))\n",
    "sns.heatmap(\n",
    "    secondary_crosstab_b,\n",
    "    annot=True,\n",
    "    fmt=\"g\",\n",
    "    cmap=\"viridis\",\n",
    "    square=True,\n",
    "    norm=mc.LogNorm(),\n",
    ")\n",
    "plt.show()"
   ]
  },
  {
   "cell_type": "markdown",
   "id": "9682c65a",
   "metadata": {
    "papermill": {
     "duration": 0.074797,
     "end_time": "2023-07-13T13:03:20.686871",
     "exception": false,
     "start_time": "2023-07-13T13:03:20.612074",
     "status": "completed"
    },
    "tags": []
   },
   "source": [
    "### Monster types"
   ]
  },
  {
   "cell_type": "code",
   "execution_count": null,
   "id": "dab77100",
   "metadata": {
    "papermill": {
     "duration": 0.094163,
     "end_time": "2023-07-13T13:03:20.855903",
     "exception": false,
     "start_time": "2023-07-13T13:03:20.761740",
     "status": "completed"
    },
    "tags": []
   },
   "outputs": [],
   "source": [
    "print(\"Total number of monster types:\", monster_df[\"Monster type\"].nunique())"
   ]
  },
  {
   "cell_type": "code",
   "execution_count": null,
   "id": "02f5b750",
   "metadata": {
    "papermill": {
     "duration": 0.175347,
     "end_time": "2023-07-13T13:03:21.106794",
     "exception": false,
     "start_time": "2023-07-13T13:03:20.931447",
     "status": "completed"
    },
    "tags": []
   },
   "outputs": [],
   "source": [
    "monster_df.drop(columns=[\"Card type\", \"Page name\", \"Page URL\"]).groupby(\n",
    "    \"Monster type\"\n",
    ").nunique()"
   ]
  },
  {
   "cell_type": "code",
   "execution_count": null,
   "id": "75111774",
   "metadata": {
    "papermill": {
     "duration": 0.571488,
     "end_time": "2023-07-13T13:03:21.754274",
     "exception": false,
     "start_time": "2023-07-13T13:03:21.182786",
     "status": "completed"
    },
    "tags": []
   },
   "outputs": [],
   "source": [
    "monster_type_colors = colors_dict[\"Monster Card\"]\n",
    "monster_df[\"Monster type\"].value_counts().plot.bar(\n",
    "    figsize=(18, 6), grid=True, rot=45, color=monster_type_colors, title=\"Monster type\"\n",
    ")\n",
    "plt.show()"
   ]
  },
  {
   "cell_type": "markdown",
   "id": "32d282b7",
   "metadata": {
    "papermill": {
     "duration": 0.07689,
     "end_time": "2023-07-13T13:03:21.908014",
     "exception": false,
     "start_time": "2023-07-13T13:03:21.831124",
     "status": "completed"
    },
    "tags": []
   },
   "source": [
    "#### By Attribute"
   ]
  },
  {
   "cell_type": "code",
   "execution_count": null,
   "id": "23d29373",
   "metadata": {
    "papermill": {
     "duration": 0.12918,
     "end_time": "2023-07-13T13:03:22.117020",
     "exception": false,
     "start_time": "2023-07-13T13:03:21.987840",
     "status": "completed"
    },
    "tags": []
   },
   "outputs": [],
   "source": [
    "monster_crosstab = pd.crosstab(cards_df[\"Monster type\"], cards_df[\"Attribute\"])\n",
    "monster_crosstab"
   ]
  },
  {
   "cell_type": "code",
   "execution_count": null,
   "id": "fd9ca22d",
   "metadata": {
    "papermill": {
     "duration": 1.130743,
     "end_time": "2023-07-13T13:03:23.328909",
     "exception": false,
     "start_time": "2023-07-13T13:03:22.198166",
     "status": "completed"
    },
    "tags": []
   },
   "outputs": [],
   "source": [
    "plt.figure(figsize=(20, 5))\n",
    "sns.heatmap(\n",
    "    monster_crosstab[monster_crosstab > 0].T,\n",
    "    annot=True,\n",
    "    fmt=\"g\",\n",
    "    cmap=\"viridis\",\n",
    "    square=True,\n",
    "    norm=mc.LogNorm(),\n",
    ")\n",
    "plt.show()"
   ]
  },
  {
   "cell_type": "markdown",
   "id": "4daa9957",
   "metadata": {
    "papermill": {
     "duration": 0.080941,
     "end_time": "2023-07-13T13:03:23.490668",
     "exception": false,
     "start_time": "2023-07-13T13:03:23.409727",
     "status": "completed"
    },
    "tags": []
   },
   "source": [
    "#### By primary type"
   ]
  },
  {
   "cell_type": "code",
   "execution_count": null,
   "id": "0f5d0eda",
   "metadata": {
    "papermill": {
     "duration": 0.124767,
     "end_time": "2023-07-13T13:03:23.695617",
     "exception": false,
     "start_time": "2023-07-13T13:03:23.570850",
     "status": "completed"
    },
    "tags": []
   },
   "outputs": [],
   "source": [
    "monster_crosstab_b = pd.crosstab(\n",
    "    cards_df[\"Monster type\"], cards_df[\"Primary type\"], dropna=False\n",
    ")\n",
    "monster_crosstab_b"
   ]
  },
  {
   "cell_type": "code",
   "execution_count": null,
   "id": "5f3b531c",
   "metadata": {
    "papermill": {
     "duration": 1.442277,
     "end_time": "2023-07-13T13:03:25.222319",
     "exception": false,
     "start_time": "2023-07-13T13:03:23.780042",
     "status": "completed"
    },
    "tags": []
   },
   "outputs": [],
   "source": [
    "plt.figure(figsize=(20, 5))\n",
    "sns.heatmap(\n",
    "    monster_crosstab_b[monster_crosstab_b > 0].T,\n",
    "    annot=True,\n",
    "    fmt=\"g\",\n",
    "    cmap=\"viridis\",\n",
    "    square=True,\n",
    "    norm=mc.LogNorm(),\n",
    ")\n",
    "plt.show()"
   ]
  },
  {
   "cell_type": "markdown",
   "id": "9056b880",
   "metadata": {
    "papermill": {
     "duration": 0.087148,
     "end_time": "2023-07-13T13:03:25.399024",
     "exception": false,
     "start_time": "2023-07-13T13:03:25.311876",
     "status": "completed"
    },
    "tags": []
   },
   "source": [
    "#### By secondary type"
   ]
  },
  {
   "cell_type": "code",
   "execution_count": null,
   "id": "cbe5bef6",
   "metadata": {
    "papermill": {
     "duration": 0.13366,
     "end_time": "2023-07-13T13:03:25.620137",
     "exception": false,
     "start_time": "2023-07-13T13:03:25.486477",
     "status": "completed"
    },
    "tags": []
   },
   "outputs": [],
   "source": [
    "monster_crosstab_c = pd.crosstab(\n",
    "    exploded_secondary_type[\"Monster type\"],\n",
    "    exploded_secondary_type[\"Secondary type\"],\n",
    "    dropna=False,\n",
    ")\n",
    "monster_crosstab_c"
   ]
  },
  {
   "cell_type": "code",
   "execution_count": null,
   "id": "3712cc0e",
   "metadata": {
    "papermill": {
     "duration": 1.051915,
     "end_time": "2023-07-13T13:03:26.766451",
     "exception": false,
     "start_time": "2023-07-13T13:03:25.714536",
     "status": "completed"
    },
    "tags": []
   },
   "outputs": [],
   "source": [
    "plt.figure(figsize=(20, 5))\n",
    "sns.heatmap(\n",
    "    monster_crosstab_c[monster_crosstab_c > 0].T,\n",
    "    annot=True,\n",
    "    fmt=\"g\",\n",
    "    cmap=\"viridis\",\n",
    "    square=True,\n",
    "    norm=mc.LogNorm(),\n",
    ")\n",
    "plt.show()"
   ]
  },
  {
   "cell_type": "markdown",
   "id": "aaf6f5d6",
   "metadata": {
    "papermill": {
     "duration": 0.082932,
     "end_time": "2023-07-13T13:03:26.932056",
     "exception": false,
     "start_time": "2023-07-13T13:03:26.849124",
     "status": "completed"
    },
    "tags": []
   },
   "source": [
    "### Effect type"
   ]
  },
  {
   "cell_type": "code",
   "execution_count": null,
   "id": "b44949a6",
   "metadata": {
    "papermill": {
     "duration": 0.123304,
     "end_time": "2023-07-13T13:03:27.140424",
     "exception": false,
     "start_time": "2023-07-13T13:03:27.017120",
     "status": "completed"
    },
    "tags": []
   },
   "outputs": [],
   "source": [
    "print(\"Total number of effect types:\", monster_df[\"Effect type\"].explode().nunique())"
   ]
  },
  {
   "cell_type": "code",
   "execution_count": null,
   "id": "c4e48718",
   "metadata": {
    "papermill": {
     "duration": 0.322105,
     "end_time": "2023-07-13T13:03:27.546536",
     "exception": false,
     "start_time": "2023-07-13T13:03:27.224431",
     "status": "completed"
    },
    "tags": []
   },
   "outputs": [],
   "source": [
    "monster_df[monster_df[\"Effect type\"].notna()].drop(\n",
    "    columns=[\"Card type\", \"Page name\", \"Page URL\"]\n",
    ").explode(\"Effect type\").groupby(\"Effect type\").nunique()"
   ]
  },
  {
   "cell_type": "code",
   "execution_count": null,
   "id": "ff912d52",
   "metadata": {
    "papermill": {
     "duration": 0.45806,
     "end_time": "2023-07-13T13:03:28.089790",
     "exception": false,
     "start_time": "2023-07-13T13:03:27.631730",
     "status": "completed"
    },
    "tags": []
   },
   "outputs": [],
   "source": [
    "monster_effect_colors = colors_dict[\"Effect Monster\"]\n",
    "monster_df[\"Effect type\"].explode(\"Effect type\").value_counts().plot.bar(\n",
    "    figsize=(18, 6), grid=True, color=monster_effect_colors, title=\"Effect type\"\n",
    ")\n",
    "# plt.yscale('log')\n",
    "plt.show()"
   ]
  },
  {
   "cell_type": "markdown",
   "id": "371f2c74",
   "metadata": {
    "papermill": {
     "duration": 0.084916,
     "end_time": "2023-07-13T13:03:28.260854",
     "exception": false,
     "start_time": "2023-07-13T13:03:28.175938",
     "status": "completed"
    },
    "tags": []
   },
   "source": [
    "### ATK"
   ]
  },
  {
   "cell_type": "code",
   "execution_count": null,
   "id": "1b5db865",
   "metadata": {
    "papermill": {
     "duration": 0.354093,
     "end_time": "2023-07-13T13:03:28.701934",
     "exception": false,
     "start_time": "2023-07-13T13:03:28.347841",
     "status": "completed"
    },
    "tags": []
   },
   "outputs": [],
   "source": [
    "print(\"Total number of ATK values:\", monster_df[\"ATK\"].nunique())"
   ]
  },
  {
   "cell_type": "code",
   "execution_count": null,
   "id": "16b9aa14",
   "metadata": {
    "papermill": {
     "duration": 0.185414,
     "end_time": "2023-07-13T13:03:28.974380",
     "exception": false,
     "start_time": "2023-07-13T13:03:28.788966",
     "status": "completed"
    },
    "tags": []
   },
   "outputs": [],
   "source": [
    "monster_df.drop(columns=[\"Card type\", \"Page name\", \"Page URL\"]).groupby(\n",
    "    \"ATK\"\n",
    ").nunique().sort_index(key=lambda x: pd.to_numeric(x, errors=\"coerce\"))"
   ]
  },
  {
   "cell_type": "code",
   "execution_count": null,
   "id": "3b1b2e1d",
   "metadata": {
    "papermill": {
     "duration": 0.990106,
     "end_time": "2023-07-13T13:03:30.051659",
     "exception": false,
     "start_time": "2023-07-13T13:03:29.061553",
     "status": "completed"
    },
    "tags": []
   },
   "outputs": [],
   "source": [
    "atk_colors = colors_dict[\"Monster Card\"]\n",
    "monster_df[\"ATK\"].value_counts().sort_index(\n",
    "    key=lambda x: pd.to_numeric(x, errors=\"coerce\")\n",
    ").plot.bar(figsize=(18, 6), grid=True, color=atk_colors, title=\"ATK\")\n",
    "plt.show()"
   ]
  },
  {
   "cell_type": "markdown",
   "id": "cda8b288",
   "metadata": {
    "papermill": {
     "duration": 0.099253,
     "end_time": "2023-07-13T13:03:30.239383",
     "exception": false,
     "start_time": "2023-07-13T13:03:30.140130",
     "status": "completed"
    },
    "tags": []
   },
   "source": [
    "### DEF"
   ]
  },
  {
   "cell_type": "code",
   "execution_count": null,
   "id": "2aa0ba61",
   "metadata": {
    "papermill": {
     "duration": 0.109572,
     "end_time": "2023-07-13T13:03:30.442632",
     "exception": false,
     "start_time": "2023-07-13T13:03:30.333060",
     "status": "completed"
    },
    "tags": []
   },
   "outputs": [],
   "source": [
    "print(\"Total number of DEF values:\", monster_df[\"DEF\"].nunique())"
   ]
  },
  {
   "cell_type": "code",
   "execution_count": null,
   "id": "54e9d56a",
   "metadata": {
    "papermill": {
     "duration": 0.188278,
     "end_time": "2023-07-13T13:03:30.718983",
     "exception": false,
     "start_time": "2023-07-13T13:03:30.530705",
     "status": "completed"
    },
    "tags": []
   },
   "outputs": [],
   "source": [
    "monster_df.drop(columns=[\"Card type\", \"Page name\", \"Page URL\"]).groupby(\n",
    "    \"DEF\"\n",
    ").nunique().sort_index(key=lambda x: pd.to_numeric(x, errors=\"coerce\"))"
   ]
  },
  {
   "cell_type": "code",
   "execution_count": null,
   "id": "10aeff48",
   "metadata": {
    "papermill": {
     "duration": 1.342911,
     "end_time": "2023-07-13T13:03:32.152167",
     "exception": false,
     "start_time": "2023-07-13T13:03:30.809256",
     "status": "completed"
    },
    "tags": []
   },
   "outputs": [],
   "source": [
    "def_colors = colors_dict[\"Monster Card\"]\n",
    "monster_df[\"DEF\"].value_counts().sort_index(\n",
    "    key=lambda x: pd.to_numeric(x, errors=\"coerce\")\n",
    ").plot.bar(figsize=(18, 6), grid=True, color=def_colors, title=\"DEF\")\n",
    "plt.show()"
   ]
  },
  {
   "cell_type": "markdown",
   "id": "4f26bf6d",
   "metadata": {
    "papermill": {
     "duration": 0.089586,
     "end_time": "2023-07-13T13:03:32.333308",
     "exception": false,
     "start_time": "2023-07-13T13:03:32.243722",
     "status": "completed"
    },
    "tags": []
   },
   "source": [
    "### Level/Rank"
   ]
  },
  {
   "cell_type": "code",
   "execution_count": null,
   "id": "f5543138",
   "metadata": {
    "papermill": {
     "duration": 0.185187,
     "end_time": "2023-07-13T13:03:32.608278",
     "exception": false,
     "start_time": "2023-07-13T13:03:32.423091",
     "status": "completed"
    },
    "tags": []
   },
   "outputs": [],
   "source": [
    "monster_df.drop(\n",
    "    columns=[\"Card type\", \"Link\", \"Link Arrows\", \"Page name\", \"Page URL\"]\n",
    ").groupby(\"Level/Rank\").nunique().sort_index(\n",
    "    key=lambda x: pd.to_numeric(x, errors=\"coerce\")\n",
    ")"
   ]
  },
  {
   "cell_type": "code",
   "execution_count": null,
   "id": "31539bdc",
   "metadata": {
    "papermill": {
     "duration": 0.399795,
     "end_time": "2023-07-13T13:03:33.098660",
     "exception": false,
     "start_time": "2023-07-13T13:03:32.698865",
     "status": "completed"
    },
    "tags": []
   },
   "outputs": [],
   "source": [
    "stars_colors = colors_dict[\"Level\"]\n",
    "monster_df[\"Level/Rank\"].value_counts().sort_index(\n",
    "    key=lambda x: pd.to_numeric(x, errors=\"coerce\")\n",
    ").plot.bar(figsize=(18, 6), grid=True, rot=0, color=stars_colors, title=\"Level/Rank\")\n",
    "plt.show()"
   ]
  },
  {
   "cell_type": "markdown",
   "id": "6a08e2b8",
   "metadata": {
    "papermill": {
     "duration": 0.090289,
     "end_time": "2023-07-13T13:03:33.279184",
     "exception": false,
     "start_time": "2023-07-13T13:03:33.188895",
     "status": "completed"
    },
    "tags": []
   },
   "source": [
    "#### ATK statistics"
   ]
  },
  {
   "cell_type": "code",
   "execution_count": null,
   "id": "06dc9107",
   "metadata": {
    "papermill": {
     "duration": 0.194587,
     "end_time": "2023-07-13T13:03:33.564428",
     "exception": false,
     "start_time": "2023-07-13T13:03:33.369841",
     "status": "completed"
    },
    "tags": []
   },
   "outputs": [],
   "source": [
    "monster_df[[\"Level/Rank\", \"ATK\"]].apply(pd.to_numeric, errors=\"coerce\").dropna().astype(\n",
    "    int\n",
    ").groupby(\"Level/Rank\").describe()"
   ]
  },
  {
   "cell_type": "markdown",
   "id": "b8a04916",
   "metadata": {
    "papermill": {
     "duration": 0.089841,
     "end_time": "2023-07-13T13:03:33.745284",
     "exception": false,
     "start_time": "2023-07-13T13:03:33.655443",
     "status": "completed"
    },
    "tags": []
   },
   "source": [
    "#### DEF statistics"
   ]
  },
  {
   "cell_type": "code",
   "execution_count": null,
   "id": "cc005e78",
   "metadata": {
    "papermill": {
     "duration": 0.198068,
     "end_time": "2023-07-13T13:03:34.034135",
     "exception": false,
     "start_time": "2023-07-13T13:03:33.836067",
     "status": "completed"
    },
    "tags": []
   },
   "outputs": [],
   "source": [
    "monster_df[[\"Level/Rank\", \"DEF\"]].apply(pd.to_numeric, errors=\"coerce\").dropna().astype(\n",
    "    int\n",
    ").groupby(\"Level/Rank\").describe()"
   ]
  },
  {
   "cell_type": "markdown",
   "id": "4029a29d",
   "metadata": {
    "papermill": {
     "duration": 0.090913,
     "end_time": "2023-07-13T13:03:34.217113",
     "exception": false,
     "start_time": "2023-07-13T13:03:34.126200",
     "status": "completed"
    },
    "tags": []
   },
   "source": [
    "### Pendulum scale"
   ]
  },
  {
   "cell_type": "code",
   "execution_count": null,
   "id": "9db07376",
   "metadata": {
    "papermill": {
     "duration": 0.179309,
     "end_time": "2023-07-13T13:03:34.488167",
     "exception": false,
     "start_time": "2023-07-13T13:03:34.308858",
     "status": "completed"
    },
    "tags": []
   },
   "outputs": [],
   "source": [
    "monster_df.drop(\n",
    "    columns=[\"Card type\", \"Link\", \"Link Arrows\", \"Page name\", \"Page URL\"]\n",
    ").groupby(\"Pendulum Scale\").nunique().sort_index(\n",
    "    key=lambda x: pd.to_numeric(x, errors=\"coerce\")\n",
    ")"
   ]
  },
  {
   "cell_type": "code",
   "execution_count": null,
   "id": "331eba0b",
   "metadata": {
    "papermill": {
     "duration": 0.423205,
     "end_time": "2023-07-13T13:03:35.004291",
     "exception": false,
     "start_time": "2023-07-13T13:03:34.581086",
     "status": "completed"
    },
    "tags": []
   },
   "outputs": [],
   "source": [
    "scales_colors = colors_dict[\"Pendulum Monster\"]\n",
    "monster_df[\"Pendulum Scale\"].value_counts().sort_index(\n",
    "    key=lambda x: pd.to_numeric(x, errors=\"coerce\")\n",
    ").plot.bar(\n",
    "    figsize=(18, 6), grid=True, rot=0, color=scales_colors, title=\"Pendulum scale\"\n",
    ")\n",
    "plt.show()"
   ]
  },
  {
   "cell_type": "markdown",
   "id": "c4cee785",
   "metadata": {
    "papermill": {
     "duration": 0.092051,
     "end_time": "2023-07-13T13:03:35.189481",
     "exception": false,
     "start_time": "2023-07-13T13:03:35.097430",
     "status": "completed"
    },
    "tags": []
   },
   "source": [
    "#### ATK statistics"
   ]
  },
  {
   "cell_type": "code",
   "execution_count": null,
   "id": "75427d69",
   "metadata": {
    "papermill": {
     "duration": 0.193132,
     "end_time": "2023-07-13T13:03:35.475575",
     "exception": false,
     "start_time": "2023-07-13T13:03:35.282443",
     "status": "completed"
    },
    "tags": []
   },
   "outputs": [],
   "source": [
    "monster_df[[\"Pendulum Scale\", \"ATK\"]].apply(\n",
    "    pd.to_numeric, errors=\"coerce\"\n",
    ").dropna().astype(int).groupby(\"Pendulum Scale\").describe()"
   ]
  },
  {
   "cell_type": "markdown",
   "id": "3ee4da76",
   "metadata": {
    "papermill": {
     "duration": 0.09503,
     "end_time": "2023-07-13T13:03:35.664018",
     "exception": false,
     "start_time": "2023-07-13T13:03:35.568988",
     "status": "completed"
    },
    "tags": []
   },
   "source": [
    "#### DEF statistics"
   ]
  },
  {
   "cell_type": "code",
   "execution_count": null,
   "id": "c474abd4",
   "metadata": {
    "papermill": {
     "duration": 0.19425,
     "end_time": "2023-07-13T13:03:35.952059",
     "exception": false,
     "start_time": "2023-07-13T13:03:35.757809",
     "status": "completed"
    },
    "tags": []
   },
   "outputs": [],
   "source": [
    "monster_df[[\"Pendulum Scale\", \"DEF\"]].apply(\n",
    "    pd.to_numeric, errors=\"coerce\"\n",
    ").dropna().astype(int).groupby(\"Pendulum Scale\").describe()"
   ]
  },
  {
   "cell_type": "markdown",
   "id": "87d81ad5",
   "metadata": {
    "papermill": {
     "duration": 0.095759,
     "end_time": "2023-07-13T13:03:36.142870",
     "exception": false,
     "start_time": "2023-07-13T13:03:36.047111",
     "status": "completed"
    },
    "tags": []
   },
   "source": [
    "#### Level/Rank statistics"
   ]
  },
  {
   "cell_type": "code",
   "execution_count": null,
   "id": "027c9b3e",
   "metadata": {
    "papermill": {
     "duration": 0.186557,
     "end_time": "2023-07-13T13:03:36.423095",
     "exception": false,
     "start_time": "2023-07-13T13:03:36.236538",
     "status": "completed"
    },
    "tags": []
   },
   "outputs": [],
   "source": [
    "monster_df[[\"Pendulum Scale\", \"Level/Rank\"]].apply(\n",
    "    pd.to_numeric, errors=\"coerce\"\n",
    ").dropna().astype(int).groupby(\"Pendulum Scale\").describe()"
   ]
  },
  {
   "cell_type": "markdown",
   "id": "93f3aba0",
   "metadata": {
    "papermill": {
     "duration": 0.11317,
     "end_time": "2023-07-13T13:03:36.634769",
     "exception": false,
     "start_time": "2023-07-13T13:03:36.521599",
     "status": "completed"
    },
    "tags": []
   },
   "source": [
    "### Link"
   ]
  },
  {
   "cell_type": "code",
   "execution_count": null,
   "id": "3ba56226",
   "metadata": {
    "papermill": {
     "duration": 0.173299,
     "end_time": "2023-07-13T13:03:36.901830",
     "exception": false,
     "start_time": "2023-07-13T13:03:36.728531",
     "status": "completed"
    },
    "tags": []
   },
   "outputs": [],
   "source": [
    "monster_df.drop(\n",
    "    columns=[\n",
    "        \"Card type\",\n",
    "        \"Primary type\",\n",
    "        \"Secondary type\",\n",
    "        \"Level/Rank\",\n",
    "        \"DEF\",\n",
    "        \"Pendulum Scale\",\n",
    "        \"Page name\",\n",
    "        \"Page URL\",\n",
    "    ]\n",
    ").groupby(\"Link\").nunique().sort_index(key=lambda x: pd.to_numeric(x, errors=\"coerce\"))"
   ]
  },
  {
   "cell_type": "code",
   "execution_count": null,
   "id": "3afbb00a",
   "metadata": {
    "papermill": {
     "duration": 0.452202,
     "end_time": "2023-07-13T13:03:37.451654",
     "exception": false,
     "start_time": "2023-07-13T13:03:36.999452",
     "status": "completed"
    },
    "tags": []
   },
   "outputs": [],
   "source": [
    "link_colors = colors_dict[\"Link Monster\"]\n",
    "monster_df[\"Link\"].value_counts().sort_index(\n",
    "    key=lambda x: pd.to_numeric(x, errors=\"coerce\")\n",
    ").plot.bar(figsize=(18, 6), grid=True, rot=0, color=link_colors, title=\"Link\")\n",
    "plt.show()"
   ]
  },
  {
   "cell_type": "markdown",
   "id": "5f20abde",
   "metadata": {
    "papermill": {
     "duration": 0.096414,
     "end_time": "2023-07-13T13:03:37.644470",
     "exception": false,
     "start_time": "2023-07-13T13:03:37.548056",
     "status": "completed"
    },
    "tags": []
   },
   "source": [
    "#### ATK statistics"
   ]
  },
  {
   "cell_type": "code",
   "execution_count": null,
   "id": "c80d9372",
   "metadata": {
    "papermill": {
     "duration": 0.185891,
     "end_time": "2023-07-13T13:03:38.032132",
     "exception": false,
     "start_time": "2023-07-13T13:03:37.846241",
     "status": "completed"
    },
    "tags": []
   },
   "outputs": [],
   "source": [
    "monster_df[[\"Link\", \"ATK\"]].apply(pd.to_numeric, errors=\"coerce\").dropna().astype(\n",
    "    int\n",
    ").groupby(\"Link\").describe()"
   ]
  },
  {
   "cell_type": "markdown",
   "id": "f585a876",
   "metadata": {
    "papermill": {
     "duration": 0.117719,
     "end_time": "2023-07-13T13:03:38.484418",
     "exception": false,
     "start_time": "2023-07-13T13:03:38.366699",
     "status": "completed"
    },
    "tags": []
   },
   "source": [
    "### Link Arrows"
   ]
  },
  {
   "cell_type": "markdown",
   "id": "b1373514",
   "metadata": {
    "papermill": {
     "duration": 0.093536,
     "end_time": "2023-07-13T13:03:38.672373",
     "exception": false,
     "start_time": "2023-07-13T13:03:38.578837",
     "status": "completed"
    },
    "tags": []
   },
   "source": [
    "#### By combination"
   ]
  },
  {
   "cell_type": "code",
   "execution_count": null,
   "id": "1130304f",
   "metadata": {
    "papermill": {
     "duration": 0.108768,
     "end_time": "2023-07-13T13:03:38.875476",
     "exception": false,
     "start_time": "2023-07-13T13:03:38.766708",
     "status": "completed"
    },
    "tags": []
   },
   "outputs": [],
   "source": [
    "print(\"Total number of link arrow combinations:\", monster_df[\"Link Arrows\"].nunique())"
   ]
  },
  {
   "cell_type": "code",
   "execution_count": null,
   "id": "7acfc7a1",
   "metadata": {
    "papermill": {
     "duration": 0.178383,
     "end_time": "2023-07-13T13:03:39.148960",
     "exception": false,
     "start_time": "2023-07-13T13:03:38.970577",
     "status": "completed"
    },
    "tags": []
   },
   "outputs": [],
   "source": [
    "monster_df.drop(\n",
    "    columns=[\n",
    "        \"Card type\",\n",
    "        \"Primary type\",\n",
    "        \"Level/Rank\",\n",
    "        \"Pendulum Scale\",\n",
    "        \"Link\",\n",
    "        \"Secondary type\",\n",
    "        \"DEF\",\n",
    "        \"Page name\",\n",
    "        \"Page URL\",\n",
    "    ]\n",
    ").groupby(\"Link Arrows\").nunique()"
   ]
  },
  {
   "cell_type": "code",
   "execution_count": null,
   "id": "66c65c93",
   "metadata": {
    "papermill": {
     "duration": 1.10289,
     "end_time": "2023-07-13T13:03:40.351266",
     "exception": false,
     "start_time": "2023-07-13T13:03:39.248376",
     "status": "completed"
    },
    "tags": []
   },
   "outputs": [],
   "source": [
    "arrows_colors = colors_dict[\"Link Monster\"]\n",
    "monster_df[\"Link Arrows\"].value_counts().plot.barh(\n",
    "    figsize=(10, 20), grid=True, color=arrows_colors, title=\"Link arrows combinations\"\n",
    ")\n",
    "plt.show()"
   ]
  },
  {
   "cell_type": "markdown",
   "id": "aa520eaf",
   "metadata": {
    "papermill": {
     "duration": 0.098334,
     "end_time": "2023-07-13T13:03:40.547644",
     "exception": false,
     "start_time": "2023-07-13T13:03:40.449310",
     "status": "completed"
    },
    "tags": []
   },
   "source": [
    "#### By unique"
   ]
  },
  {
   "cell_type": "code",
   "execution_count": null,
   "id": "85cda4e5",
   "metadata": {
    "papermill": {
     "duration": 0.14246,
     "end_time": "2023-07-13T13:03:40.788296",
     "exception": false,
     "start_time": "2023-07-13T13:03:40.645836",
     "status": "completed"
    },
    "tags": []
   },
   "outputs": [],
   "source": [
    "monster_df[monster_df[\"Link Arrows\"].notna()].drop(\n",
    "    columns=[\n",
    "        \"Card type\",\n",
    "        \"Primary type\",\n",
    "        \"Level/Rank\",\n",
    "        \"Pendulum Scale\",\n",
    "        \"Secondary type\",\n",
    "        \"DEF\",\n",
    "        \"Page name\",\n",
    "        \"Page URL\",\n",
    "    ]\n",
    ").explode(\"Link Arrows\").groupby(\"Link Arrows\").nunique()"
   ]
  },
  {
   "cell_type": "code",
   "execution_count": null,
   "id": "c3161d6e",
   "metadata": {
    "papermill": {
     "duration": 1.039517,
     "end_time": "2023-07-13T13:03:41.928804",
     "exception": false,
     "start_time": "2023-07-13T13:03:40.889287",
     "status": "completed"
    },
    "tags": []
   },
   "outputs": [],
   "source": [
    "arrow_plot(monster_df[\"Link Arrows\"].explode(\"Link Arrows\"))"
   ]
  },
  {
   "cell_type": "markdown",
   "id": "e36f6792",
   "metadata": {
    "papermill": {
     "duration": 0.100411,
     "end_time": "2023-07-13T13:03:42.135944",
     "exception": false,
     "start_time": "2023-07-13T13:03:42.035533",
     "status": "completed"
    },
    "tags": []
   },
   "source": [
    "#### By link"
   ]
  },
  {
   "cell_type": "code",
   "execution_count": null,
   "id": "8a6b3372",
   "metadata": {
    "papermill": {
     "duration": 0.158363,
     "end_time": "2023-07-13T13:03:42.396890",
     "exception": false,
     "start_time": "2023-07-13T13:03:42.238527",
     "status": "completed"
    },
    "tags": []
   },
   "outputs": [],
   "source": [
    "arrow_per_link = monster_df[[\"Link Arrows\", \"Link\"]].explode(\"Link Arrows\").dropna()\n",
    "arrow_crosstab = pd.crosstab(arrow_per_link[\"Link Arrows\"], arrow_per_link[\"Link\"])\n",
    "arrow_crosstab"
   ]
  },
  {
   "cell_type": "code",
   "execution_count": null,
   "id": "a22dab12",
   "metadata": {
    "papermill": {
     "duration": 0.705129,
     "end_time": "2023-07-13T13:03:43.201675",
     "exception": false,
     "start_time": "2023-07-13T13:03:42.496546",
     "status": "completed"
    },
    "tags": []
   },
   "outputs": [],
   "source": [
    "plt.figure(figsize=(10, 6))\n",
    "sns.heatmap(\n",
    "    arrow_crosstab[arrow_crosstab > 0].T,\n",
    "    annot=True,\n",
    "    fmt=\"g\",\n",
    "    cmap=\"viridis\",\n",
    "    square=True,\n",
    "    norm=mc.LogNorm(),\n",
    ")\n",
    "plt.show()"
   ]
  },
  {
   "cell_type": "markdown",
   "id": "bb0bbf58",
   "metadata": {
    "papermill": {
     "duration": 0.108421,
     "end_time": "2023-07-13T13:03:43.412515",
     "exception": false,
     "start_time": "2023-07-13T13:03:43.304094",
     "status": "completed"
    },
    "tags": []
   },
   "source": [
    "## Spell & Trap"
   ]
  },
  {
   "cell_type": "markdown",
   "id": "f47b1472",
   "metadata": {
    "papermill": {
     "duration": 0.158451,
     "end_time": "2023-07-13T13:03:43.674164",
     "exception": false,
     "start_time": "2023-07-13T13:03:43.515713",
     "status": "completed"
    },
    "tags": []
   },
   "source": [
    "### Properties"
   ]
  },
  {
   "cell_type": "code",
   "execution_count": null,
   "id": "fdd7cb44",
   "metadata": {
    "papermill": {
     "duration": 0.12004,
     "end_time": "2023-07-13T13:03:43.919111",
     "exception": false,
     "start_time": "2023-07-13T13:03:43.799071",
     "status": "completed"
    },
    "tags": []
   },
   "outputs": [],
   "source": [
    "print(\"Total number of properties:\", st_df[\"Property\"].nunique())"
   ]
  },
  {
   "cell_type": "code",
   "execution_count": null,
   "id": "52c0aa20",
   "metadata": {
    "papermill": {
     "duration": 0.740061,
     "end_time": "2023-07-13T13:03:44.768066",
     "exception": false,
     "start_time": "2023-07-13T13:03:44.028005",
     "status": "completed"
    },
    "tags": []
   },
   "outputs": [],
   "source": [
    "st_df.drop(columns=[\"Card type\", \"Page name\", \"Page URL\"]).groupby(\"Property\").nunique()"
   ]
  },
  {
   "cell_type": "code",
   "execution_count": null,
   "id": "cd537db7",
   "metadata": {
    "papermill": {
     "duration": 0.457781,
     "end_time": "2023-07-13T13:03:45.362567",
     "exception": false,
     "start_time": "2023-07-13T13:03:44.904786",
     "status": "completed"
    },
    "tags": []
   },
   "outputs": [],
   "source": [
    "st_colors = [\n",
    "    colors_dict[i]\n",
    "    for i in cards_df[[\"Card type\", \"Property\"]]\n",
    "    .value_counts()\n",
    "    .index.get_level_values(0)\n",
    "]\n",
    "st_df[\"Property\"].value_counts().plot.bar(\n",
    "    figsize=(18, 6), grid=True, rot=45, color=st_colors, title=\"Property\"\n",
    ")\n",
    "plt.show()"
   ]
  },
  {
   "cell_type": "markdown",
   "id": "eab733b7",
   "metadata": {
    "jp-MarkdownHeadingCollapsed": true,
    "papermill": {
     "duration": 0.104033,
     "end_time": "2023-07-13T13:03:45.569898",
     "exception": false,
     "start_time": "2023-07-13T13:03:45.465865",
     "status": "completed"
    },
    "tags": []
   },
   "source": [
    "### Effect type"
   ]
  },
  {
   "cell_type": "code",
   "execution_count": null,
   "id": "f955ec1d",
   "metadata": {
    "papermill": {
     "duration": 0.128279,
     "end_time": "2023-07-13T13:03:45.801052",
     "exception": false,
     "start_time": "2023-07-13T13:03:45.672773",
     "status": "completed"
    },
    "tags": []
   },
   "outputs": [],
   "source": [
    "print(\"Total number of effect types:\", st_df[\"Effect type\"].explode().nunique())"
   ]
  },
  {
   "cell_type": "code",
   "execution_count": null,
   "id": "9e0f62a2",
   "metadata": {
    "papermill": {
     "duration": 0.221954,
     "end_time": "2023-07-13T13:03:46.125426",
     "exception": false,
     "start_time": "2023-07-13T13:03:45.903472",
     "status": "completed"
    },
    "tags": []
   },
   "outputs": [],
   "source": [
    "st_df.explode(\"Effect type\").groupby(\"Effect type\").nunique()"
   ]
  },
  {
   "cell_type": "markdown",
   "id": "64868037",
   "metadata": {
    "papermill": {
     "duration": 0.104586,
     "end_time": "2023-07-13T13:03:46.334684",
     "exception": false,
     "start_time": "2023-07-13T13:03:46.230098",
     "status": "completed"
    },
    "tags": []
   },
   "source": [
    "#### Spell & Trap discrimination"
   ]
  },
  {
   "cell_type": "code",
   "execution_count": null,
   "id": "75843f9d",
   "metadata": {
    "papermill": {
     "duration": 0.158266,
     "end_time": "2023-07-13T13:03:46.596935",
     "exception": false,
     "start_time": "2023-07-13T13:03:46.438669",
     "status": "completed"
    },
    "tags": []
   },
   "outputs": [],
   "source": [
    "st_diff = (\n",
    "    st_df[[\"Card type\", \"Effect type\"]]\n",
    "    .explode(\"Effect type\")\n",
    "    .value_counts()\n",
    "    .unstack(0)\n",
    "    .fillna(0)\n",
    "    .astype(int)\n",
    ")\n",
    "st_diff"
   ]
  },
  {
   "cell_type": "code",
   "execution_count": null,
   "id": "373757a0",
   "metadata": {
    "papermill": {
     "duration": 0.52837,
     "end_time": "2023-07-13T13:03:47.228799",
     "exception": false,
     "start_time": "2023-07-13T13:03:46.700429",
     "status": "completed"
    },
    "tags": []
   },
   "outputs": [],
   "source": [
    "st_diff_colors = {\n",
    "    \"Spell Card\": colors_dict[\"Spell Card\"],\n",
    "    \"Trap Card\": colors_dict[\"Trap Card\"],\n",
    "}\n",
    "st_diff.plot.bar(figsize=(18, 6), stacked=True, grid=True, rot=45, color=st_diff_colors)\n",
    "plt.show()"
   ]
  },
  {
   "cell_type": "markdown",
   "id": "0013b7c7",
   "metadata": {
    "papermill": {
     "duration": 0.12321,
     "end_time": "2023-07-13T13:03:47.459289",
     "exception": false,
     "start_time": "2023-07-13T13:03:47.336079",
     "status": "completed"
    },
    "tags": []
   },
   "source": [
    "## Archseries"
   ]
  },
  {
   "cell_type": "code",
   "execution_count": null,
   "id": "ce1470dc",
   "metadata": {
    "papermill": {
     "duration": 0.24431,
     "end_time": "2023-07-13T13:03:47.809355",
     "exception": false,
     "start_time": "2023-07-13T13:03:47.565045",
     "status": "completed"
    },
    "tags": []
   },
   "outputs": [],
   "source": [
    "exploded_archseries = cards_df.explode(\"Archseries\")\n",
    "print(\"Total number of Archseries:\", exploded_archseries[\"Archseries\"].nunique())"
   ]
  },
  {
   "cell_type": "code",
   "execution_count": null,
   "id": "f31c5b8c",
   "metadata": {
    "papermill": {
     "duration": 0.261875,
     "end_time": "2023-07-13T13:03:48.177265",
     "exception": false,
     "start_time": "2023-07-13T13:03:47.915390",
     "status": "completed"
    },
    "tags": []
   },
   "outputs": [],
   "source": [
    "exploded_archseries.groupby(\"Archseries\").nunique()"
   ]
  },
  {
   "cell_type": "code",
   "execution_count": null,
   "id": "00c9f321",
   "metadata": {
    "papermill": {
     "duration": 10.643348,
     "end_time": "2023-07-13T13:03:58.927196",
     "exception": false,
     "start_time": "2023-07-13T13:03:48.283848",
     "status": "completed"
    },
    "tags": []
   },
   "outputs": [],
   "source": [
    "exploded_archseries[\"Archseries\"].value_counts().plot.barh(\n",
    "    figsize=(10, 200), grid=True, title=\"Archtypes/Series\"\n",
    ")\n",
    "plt.show()"
   ]
  },
  {
   "cell_type": "markdown",
   "id": "cf3bf55f",
   "metadata": {
    "jp-MarkdownHeadingCollapsed": true,
    "papermill": {
     "duration": 0.135633,
     "end_time": "2023-07-13T13:03:59.199390",
     "exception": false,
     "start_time": "2023-07-13T13:03:59.063757",
     "status": "completed"
    },
    "tags": []
   },
   "source": [
    "### By card type"
   ]
  },
  {
   "cell_type": "code",
   "execution_count": null,
   "id": "fbf65c3c",
   "metadata": {
    "papermill": {
     "duration": 0.303366,
     "end_time": "2023-07-13T13:03:59.638104",
     "exception": false,
     "start_time": "2023-07-13T13:03:59.334738",
     "status": "completed"
    },
    "tags": []
   },
   "outputs": [],
   "source": [
    "archseries_crosstab = pd.crosstab(\n",
    "    exploded_archseries[\"Archseries\"], exploded_archseries[\"Card type\"], margins=True\n",
    ")\n",
    "archseries_crosstab"
   ]
  },
  {
   "cell_type": "markdown",
   "id": "960ea110",
   "metadata": {
    "papermill": {
     "duration": 0.135245,
     "end_time": "2023-07-13T13:03:59.909292",
     "exception": false,
     "start_time": "2023-07-13T13:03:59.774047",
     "status": "completed"
    },
    "tags": []
   },
   "source": [
    "### By primary type"
   ]
  },
  {
   "cell_type": "code",
   "execution_count": null,
   "id": "2c3671f0",
   "metadata": {
    "papermill": {
     "duration": 0.307788,
     "end_time": "2023-07-13T13:04:00.394098",
     "exception": false,
     "start_time": "2023-07-13T13:04:00.086310",
     "status": "completed"
    },
    "tags": []
   },
   "outputs": [],
   "source": [
    "archseries_crosstab_b = pd.crosstab(\n",
    "    exploded_archseries[\"Archseries\"], exploded_archseries[\"Primary type\"], margins=True\n",
    ")\n",
    "archseries_crosstab_b"
   ]
  },
  {
   "cell_type": "markdown",
   "id": "6de5fdac",
   "metadata": {
    "papermill": {
     "duration": 0.407481,
     "end_time": "2023-07-13T13:04:01.039201",
     "exception": false,
     "start_time": "2023-07-13T13:04:00.631720",
     "status": "completed"
    },
    "tags": []
   },
   "source": [
    "\n",
    "\n",
    "### By secondary type"
   ]
  },
  {
   "cell_type": "code",
   "execution_count": null,
   "id": "966a00dd",
   "metadata": {
    "papermill": {
     "duration": 0.277041,
     "end_time": "2023-07-13T13:04:01.454423",
     "exception": false,
     "start_time": "2023-07-13T13:04:01.177382",
     "status": "completed"
    },
    "tags": []
   },
   "outputs": [],
   "source": [
    "exploded_archseries_secondary_type = exploded_archseries[\n",
    "    [\"Archseries\", \"Secondary type\"]\n",
    "].explode(\"Secondary type\")\n",
    "archseries_crosstab_c = pd.crosstab(\n",
    "    exploded_archseries_secondary_type[\"Archseries\"],\n",
    "    exploded_archseries_secondary_type[\"Secondary type\"],\n",
    "    margins=True,\n",
    ")\n",
    "archseries_crosstab_c"
   ]
  },
  {
   "cell_type": "markdown",
   "id": "a881d945",
   "metadata": {
    "papermill": {
     "duration": 0.246916,
     "end_time": "2023-07-13T13:04:01.841563",
     "exception": false,
     "start_time": "2023-07-13T13:04:01.594647",
     "status": "completed"
    },
    "tags": []
   },
   "source": [
    "### By monster type"
   ]
  },
  {
   "cell_type": "code",
   "execution_count": null,
   "id": "d99ee9e1",
   "metadata": {
    "papermill": {
     "duration": 0.35739,
     "end_time": "2023-07-13T13:04:02.420440",
     "exception": false,
     "start_time": "2023-07-13T13:04:02.063050",
     "status": "completed"
    },
    "tags": []
   },
   "outputs": [],
   "source": [
    "archseries_crosstab_d = pd.crosstab(\n",
    "    exploded_archseries[\"Archseries\"], exploded_archseries[\"Monster type\"], margins=True\n",
    ")\n",
    "archseries_crosstab_d"
   ]
  },
  {
   "cell_type": "markdown",
   "id": "f97ab388",
   "metadata": {
    "papermill": {
     "duration": 0.281792,
     "end_time": "2023-07-13T13:04:02.840230",
     "exception": false,
     "start_time": "2023-07-13T13:04:02.558438",
     "status": "completed"
    },
    "tags": []
   },
   "source": [
    "### By property"
   ]
  },
  {
   "cell_type": "code",
   "execution_count": null,
   "id": "fbbb1ccc",
   "metadata": {
    "papermill": {
     "duration": 0.29192,
     "end_time": "2023-07-13T13:04:03.270331",
     "exception": false,
     "start_time": "2023-07-13T13:04:02.978411",
     "status": "completed"
    },
    "tags": []
   },
   "outputs": [],
   "source": [
    "archseries_crosstab_e = pd.crosstab(\n",
    "    exploded_archseries[\"Archseries\"], exploded_archseries[\"Property\"], margins=True\n",
    ")\n",
    "archseries_crosstab_e"
   ]
  },
  {
   "cell_type": "markdown",
   "id": "554f6e74",
   "metadata": {
    "papermill": {
     "duration": 0.138775,
     "end_time": "2023-07-13T13:04:03.551325",
     "exception": false,
     "start_time": "2023-07-13T13:04:03.412550",
     "status": "completed"
    },
    "tags": []
   },
   "source": [
    "## Artworks"
   ]
  },
  {
   "cell_type": "code",
   "execution_count": null,
   "id": "2224e061",
   "metadata": {
    "papermill": {
     "duration": 0.158199,
     "end_time": "2023-07-13T13:04:03.853538",
     "exception": false,
     "start_time": "2023-07-13T13:04:03.695339",
     "status": "completed"
    },
    "tags": []
   },
   "outputs": [],
   "source": [
    "print(\n",
    "    \"Total number of cards with edited or alternate artworks:\",\n",
    "    cards_df[\"Artwork\"].count(),\n",
    ")"
   ]
  },
  {
   "cell_type": "code",
   "execution_count": null,
   "id": "f7492a67",
   "metadata": {
    "papermill": {
     "duration": 0.175974,
     "end_time": "2023-07-13T13:04:04.177163",
     "exception": false,
     "start_time": "2023-07-13T13:04:04.001189",
     "status": "completed"
    },
    "tags": []
   },
   "outputs": [],
   "source": [
    "cards_df[[\"Name\", \"Password\", \"TCG status\", \"OCG status\", \"Artwork\"]][\n",
    "    cards_df[\"Artwork\"].notna()\n",
    "]"
   ]
  },
  {
   "cell_type": "code",
   "execution_count": null,
   "id": "fa1ea6aa",
   "metadata": {
    "papermill": {
     "duration": 0.337115,
     "end_time": "2023-07-13T13:04:04.657240",
     "exception": false,
     "start_time": "2023-07-13T13:04:04.320125",
     "status": "completed"
    },
    "tags": []
   },
   "outputs": [],
   "source": [
    "artwork_value_counts = cards_df[\"Artwork\"].value_counts()\n",
    "plt.figure(figsize=(20, 8))\n",
    "plt.title(\"Artworks\")\n",
    "venn2(\n",
    "    subsets=(\n",
    "        artwork_value_counts[(\"Alternate\",)],\n",
    "        artwork_value_counts[(\"Edited\",)],\n",
    "        artwork_value_counts[(\"Alternate\", \"Edited\")],\n",
    "    ),\n",
    "    set_labels=(\"Alternate artwork\", \"Edited artwork\"),\n",
    ")\n",
    "plt.show()"
   ]
  },
  {
   "cell_type": "markdown",
   "id": "e49df5df",
   "metadata": {
    "papermill": {
     "duration": 0.140182,
     "end_time": "2023-07-13T13:04:04.939064",
     "exception": false,
     "start_time": "2023-07-13T13:04:04.798882",
     "status": "completed"
    },
    "tags": []
   },
   "source": [
    "### By card type"
   ]
  },
  {
   "cell_type": "code",
   "execution_count": null,
   "id": "1b14c224",
   "metadata": {
    "papermill": {
     "duration": 0.17992,
     "end_time": "2023-07-13T13:04:05.258283",
     "exception": false,
     "start_time": "2023-07-13T13:04:05.078363",
     "status": "completed"
    },
    "tags": []
   },
   "outputs": [],
   "source": [
    "artwork_crosstab = pd.crosstab(cards_df[\"Artwork\"], cards_df[\"Card type\"])\n",
    "artwork_crosstab"
   ]
  },
  {
   "cell_type": "markdown",
   "id": "81afa2df",
   "metadata": {
    "papermill": {
     "duration": 0.142205,
     "end_time": "2023-07-13T13:04:05.547319",
     "exception": false,
     "start_time": "2023-07-13T13:04:05.405114",
     "status": "completed"
    },
    "tags": []
   },
   "source": [
    "### By primary type"
   ]
  },
  {
   "cell_type": "code",
   "execution_count": null,
   "id": "55081aa0",
   "metadata": {
    "papermill": {
     "duration": 0.17766,
     "end_time": "2023-07-13T13:04:05.865897",
     "exception": false,
     "start_time": "2023-07-13T13:04:05.688237",
     "status": "completed"
    },
    "tags": []
   },
   "outputs": [],
   "source": [
    "artwork_crosstab_b = pd.crosstab(cards_df[\"Artwork\"], cards_df[\"Primary type\"])\n",
    "artwork_crosstab_b"
   ]
  },
  {
   "cell_type": "markdown",
   "id": "14a90117",
   "metadata": {
    "papermill": {
     "duration": 0.139308,
     "end_time": "2023-07-13T13:04:06.146191",
     "exception": false,
     "start_time": "2023-07-13T13:04:06.006883",
     "status": "completed"
    },
    "tags": []
   },
   "source": [
    "More granularity is unnecessary"
   ]
  },
  {
   "cell_type": "markdown",
   "id": "5210d61b",
   "metadata": {
    "papermill": {
     "duration": 0.140007,
     "end_time": "2023-07-13T13:04:06.427707",
     "exception": false,
     "start_time": "2023-07-13T13:04:06.287700",
     "status": "completed"
    },
    "tags": []
   },
   "source": [
    "## Errata"
   ]
  },
  {
   "cell_type": "code",
   "execution_count": null,
   "id": "09b33100",
   "metadata": {
    "papermill": {
     "duration": 0.156678,
     "end_time": "2023-07-13T13:04:06.726824",
     "exception": false,
     "start_time": "2023-07-13T13:04:06.570146",
     "status": "completed"
    },
    "tags": []
   },
   "outputs": [],
   "source": [
    "print(\"Total number of cards with errata:\", cards_df[\"Errata\"].count())"
   ]
  },
  {
   "cell_type": "code",
   "execution_count": null,
   "id": "40462eee",
   "metadata": {
    "papermill": {
     "duration": 0.177014,
     "end_time": "2023-07-13T13:04:07.044433",
     "exception": false,
     "start_time": "2023-07-13T13:04:06.867419",
     "status": "completed"
    },
    "tags": []
   },
   "outputs": [],
   "source": [
    "cards_df[[\"Name\", \"Password\", \"TCG status\", \"OCG status\", \"Errata\"]][\n",
    "    cards_df[\"Errata\"].notna()\n",
    "]"
   ]
  },
  {
   "cell_type": "code",
   "execution_count": null,
   "id": "9f7d97c2-8569-45b7-baba-01f33e56212b",
   "metadata": {
    "papermill": {
     "duration": 0.285646,
     "end_time": "2023-07-13T13:04:07.472056",
     "exception": false,
     "start_time": "2023-07-13T13:04:07.186410",
     "status": "completed"
    },
    "tags": []
   },
   "outputs": [],
   "source": [
    "errata_counts = (\n",
    "    cards_df.groupby(\"Errata\").nunique().sort_values(\"Name\", ascending=False)\n",
    ")\n",
    "errata_counts"
   ]
  },
  {
   "cell_type": "code",
   "execution_count": null,
   "id": "60843a4f",
   "metadata": {
    "papermill": {
     "duration": 0.385857,
     "end_time": "2023-07-13T13:04:08.001309",
     "exception": false,
     "start_time": "2023-07-13T13:04:07.615452",
     "status": "completed"
    },
    "tags": []
   },
   "outputs": [],
   "source": [
    "plt.figure(figsize=(20, 8))\n",
    "plt.title(\"Errata\")\n",
    "sorted_errata_name_counts = (\n",
    "    errata_counts[\"Name\"]\n",
    "    .drop((\"Any\",))\n",
    "    .sort_index(key=lambda x: [(len(i), i) for i in x])\n",
    ")\n",
    "venn2(\n",
    "    subsets=sorted_errata_name_counts,\n",
    "    set_labels=sorted_errata_name_counts.index[:-1].str[0],\n",
    ")\n",
    "plt.show()"
   ]
  },
  {
   "cell_type": "markdown",
   "id": "a3703983",
   "metadata": {
    "papermill": {
     "duration": 0.146441,
     "end_time": "2023-07-13T13:04:08.294157",
     "exception": false,
     "start_time": "2023-07-13T13:04:08.147716",
     "status": "completed"
    },
    "tags": []
   },
   "source": [
    "### By card type"
   ]
  },
  {
   "cell_type": "code",
   "execution_count": null,
   "id": "fb103c29",
   "metadata": {
    "papermill": {
     "duration": 0.42044,
     "end_time": "2023-07-13T13:04:08.880244",
     "exception": false,
     "start_time": "2023-07-13T13:04:08.459804",
     "status": "completed"
    },
    "tags": []
   },
   "outputs": [],
   "source": [
    "errata_crosstab = pd.crosstab(cards_df[\"Errata\"], cards_df[\"Card type\"])\n",
    "errata_crosstab.sort_values(by=errata_crosstab.columns.tolist(), ascending=False)"
   ]
  },
  {
   "cell_type": "markdown",
   "id": "36d241f1",
   "metadata": {
    "papermill": {
     "duration": 0.142203,
     "end_time": "2023-07-13T13:04:09.274082",
     "exception": false,
     "start_time": "2023-07-13T13:04:09.131879",
     "status": "completed"
    },
    "tags": []
   },
   "source": [
    "### By primary type"
   ]
  },
  {
   "cell_type": "code",
   "execution_count": null,
   "id": "5b90628d",
   "metadata": {
    "papermill": {
     "duration": 0.186037,
     "end_time": "2023-07-13T13:04:09.613646",
     "exception": false,
     "start_time": "2023-07-13T13:04:09.427609",
     "status": "completed"
    },
    "tags": []
   },
   "outputs": [],
   "source": [
    "errata_crosstab_b = pd.crosstab(cards_df[\"Errata\"], cards_df[\"Primary type\"])\n",
    "errata_crosstab_b.sort_values(by=errata_crosstab_b.columns.tolist(), ascending=False)"
   ]
  },
  {
   "cell_type": "markdown",
   "id": "0029e1ca",
   "metadata": {
    "papermill": {
     "duration": 0.14282,
     "end_time": "2023-07-13T13:04:09.897960",
     "exception": false,
     "start_time": "2023-07-13T13:04:09.755140",
     "status": "completed"
    },
    "tags": []
   },
   "source": [
    "More granularity is unnecessary"
   ]
  },
  {
   "cell_type": "markdown",
   "id": "35d88dda",
   "metadata": {
    "papermill": {
     "duration": 0.143315,
     "end_time": "2023-07-13T13:04:10.184612",
     "exception": false,
     "start_time": "2023-07-13T13:04:10.041297",
     "status": "completed"
    },
    "tags": []
   },
   "source": [
    "### By artwork"
   ]
  },
  {
   "cell_type": "code",
   "execution_count": null,
   "id": "0057def3",
   "metadata": {
    "papermill": {
     "duration": 0.1828,
     "end_time": "2023-07-13T13:04:10.510694",
     "exception": false,
     "start_time": "2023-07-13T13:04:10.327894",
     "status": "completed"
    },
    "tags": []
   },
   "outputs": [],
   "source": [
    "errata_crosstab_c = pd.crosstab(cards_df[\"Artwork\"], cards_df[\"Errata\"])\n",
    "errata_crosstab_c.sort_values(by=errata_crosstab_c.columns.tolist(), ascending=False)"
   ]
  },
  {
   "cell_type": "markdown",
   "id": "edef3194",
   "metadata": {
    "papermill": {
     "duration": 0.143055,
     "end_time": "2023-07-13T13:04:10.799663",
     "exception": false,
     "start_time": "2023-07-13T13:04:10.656608",
     "status": "completed"
    },
    "tags": []
   },
   "source": [
    "## TCG & OCG status"
   ]
  },
  {
   "cell_type": "markdown",
   "id": "3e7505cd",
   "metadata": {
    "papermill": {
     "duration": 0.141934,
     "end_time": "2023-07-13T13:04:11.084034",
     "exception": false,
     "start_time": "2023-07-13T13:04:10.942100",
     "status": "completed"
    },
    "tags": []
   },
   "source": [
    "### TGC status"
   ]
  },
  {
   "cell_type": "code",
   "execution_count": null,
   "id": "88b93fca",
   "metadata": {
    "papermill": {
     "duration": 0.164197,
     "end_time": "2023-07-13T13:04:11.393215",
     "exception": false,
     "start_time": "2023-07-13T13:04:11.229018",
     "status": "completed"
    },
    "tags": []
   },
   "outputs": [],
   "source": [
    "print(\"Total number of TCG status:\", cards_df[\"TCG status\"].nunique())"
   ]
  },
  {
   "cell_type": "code",
   "execution_count": null,
   "id": "2c69bec0",
   "metadata": {
    "papermill": {
     "duration": 0.272857,
     "end_time": "2023-07-13T13:04:11.812232",
     "exception": false,
     "start_time": "2023-07-13T13:04:11.539375",
     "status": "completed"
    },
    "tags": []
   },
   "outputs": [],
   "source": [
    "cards_df.drop(columns=[\"Page name\", \"Page URL\"]).groupby(\n",
    "    \"TCG status\", dropna=False\n",
    ").nunique()"
   ]
  },
  {
   "cell_type": "code",
   "execution_count": null,
   "id": "add82403",
   "metadata": {
    "papermill": {
     "duration": 1.056515,
     "end_time": "2023-07-13T13:04:13.012721",
     "exception": false,
     "start_time": "2023-07-13T13:04:11.956206",
     "status": "completed"
    },
    "tags": []
   },
   "outputs": [],
   "source": [
    "cards_df[\"TCG status\"].value_counts(dropna=False).plot.bar(\n",
    "    figsize=(18, 6), logy=True, grid=True, rot=45, title=\"TCG status\"\n",
    ")\n",
    "plt.show()"
   ]
  },
  {
   "cell_type": "markdown",
   "id": "f6b985a0",
   "metadata": {
    "papermill": {
     "duration": 0.143739,
     "end_time": "2023-07-13T13:04:13.301382",
     "exception": false,
     "start_time": "2023-07-13T13:04:13.157643",
     "status": "completed"
    },
    "tags": []
   },
   "source": [
    "#### By card type"
   ]
  },
  {
   "cell_type": "code",
   "execution_count": null,
   "id": "12c444ed",
   "metadata": {
    "papermill": {
     "duration": 0.233327,
     "end_time": "2023-07-13T13:04:13.684837",
     "exception": false,
     "start_time": "2023-07-13T13:04:13.451510",
     "status": "completed"
    },
    "tags": []
   },
   "outputs": [],
   "source": [
    "# Remove unlimited\n",
    "tcg_crosstab = pd.crosstab(cards_df[\"Card type\"], cards_df[\"TCG status\"]).drop(\n",
    "    [\"Unlimited\"], axis=1\n",
    ")\n",
    "tcg_crosstab"
   ]
  },
  {
   "cell_type": "code",
   "execution_count": null,
   "id": "8648b51e",
   "metadata": {
    "papermill": {
     "duration": 0.648076,
     "end_time": "2023-07-13T13:04:14.486949",
     "exception": false,
     "start_time": "2023-07-13T13:04:13.838873",
     "status": "completed"
    },
    "tags": []
   },
   "outputs": [],
   "source": [
    "plt.figure(figsize=(12, 6))\n",
    "sns.heatmap(\n",
    "    tcg_crosstab[tcg_crosstab > 0],\n",
    "    annot=True,\n",
    "    fmt=\"g\",\n",
    "    cmap=\"viridis\",\n",
    "    norm=mc.LogNorm(),\n",
    ")\n",
    "plt.show()"
   ]
  },
  {
   "cell_type": "markdown",
   "id": "521f367b",
   "metadata": {
    "papermill": {
     "duration": 0.252429,
     "end_time": "2023-07-13T13:04:14.884395",
     "exception": false,
     "start_time": "2023-07-13T13:04:14.631966",
     "status": "completed"
    },
    "tags": []
   },
   "source": [
    "#### By monster type"
   ]
  },
  {
   "cell_type": "code",
   "execution_count": null,
   "id": "bb73564f",
   "metadata": {
    "papermill": {
     "duration": 0.207298,
     "end_time": "2023-07-13T13:04:15.237392",
     "exception": false,
     "start_time": "2023-07-13T13:04:15.030094",
     "status": "completed"
    },
    "tags": []
   },
   "outputs": [],
   "source": [
    "# Remove unlimited\n",
    "tcg_crosstab_b = pd.crosstab(cards_df[\"Monster type\"], cards_df[\"TCG status\"]).drop(\n",
    "    [\"Unlimited\"], axis=1\n",
    ")\n",
    "tcg_crosstab_b"
   ]
  },
  {
   "cell_type": "code",
   "execution_count": null,
   "id": "dd5e826c",
   "metadata": {
    "papermill": {
     "duration": 0.822459,
     "end_time": "2023-07-13T13:04:16.207664",
     "exception": false,
     "start_time": "2023-07-13T13:04:15.385205",
     "status": "completed"
    },
    "tags": []
   },
   "outputs": [],
   "source": [
    "plt.figure(figsize=(20, 5))\n",
    "sns.heatmap(\n",
    "    tcg_crosstab_b[tcg_crosstab_b > 0].T,\n",
    "    annot=True,\n",
    "    fmt=\"g\",\n",
    "    cmap=\"viridis\",\n",
    "    square=True,\n",
    ")\n",
    "plt.show()"
   ]
  },
  {
   "cell_type": "markdown",
   "id": "b0e7d771",
   "metadata": {
    "papermill": {
     "duration": 0.148067,
     "end_time": "2023-07-13T13:04:16.503360",
     "exception": false,
     "start_time": "2023-07-13T13:04:16.355293",
     "status": "completed"
    },
    "tags": []
   },
   "source": [
    "#### By archseries"
   ]
  },
  {
   "cell_type": "code",
   "execution_count": null,
   "id": "05fc1f77",
   "metadata": {
    "papermill": {
     "duration": 0.234154,
     "end_time": "2023-07-13T13:04:16.883988",
     "exception": false,
     "start_time": "2023-07-13T13:04:16.649834",
     "status": "completed"
    },
    "tags": []
   },
   "outputs": [],
   "source": [
    "# Remove unlimited\n",
    "tcg_crosstab_c = pd.crosstab(\n",
    "    exploded_archseries[\"Archseries\"].where(\n",
    "        exploded_archseries[\"OCG status\"] != \"Unlimited\"\n",
    "    ),\n",
    "    exploded_archseries[\"TCG status\"],\n",
    "    margins=True,\n",
    ")\n",
    "tcg_crosstab_c"
   ]
  },
  {
   "cell_type": "markdown",
   "id": "af202b20",
   "metadata": {
    "papermill": {
     "duration": 0.148528,
     "end_time": "2023-07-13T13:04:17.182020",
     "exception": false,
     "start_time": "2023-07-13T13:04:17.033492",
     "status": "completed"
    },
    "tags": []
   },
   "source": [
    "### OCG status"
   ]
  },
  {
   "cell_type": "code",
   "execution_count": null,
   "id": "0b01a31b",
   "metadata": {
    "papermill": {
     "duration": 0.178875,
     "end_time": "2023-07-13T13:04:17.509198",
     "exception": false,
     "start_time": "2023-07-13T13:04:17.330323",
     "status": "completed"
    },
    "tags": []
   },
   "outputs": [],
   "source": [
    "print(\"Total number of OCG status:\", cards_df[\"OCG status\"].nunique())"
   ]
  },
  {
   "cell_type": "code",
   "execution_count": null,
   "id": "13b7b5c8",
   "metadata": {
    "papermill": {
     "duration": 0.277632,
     "end_time": "2023-07-13T13:04:17.940651",
     "exception": false,
     "start_time": "2023-07-13T13:04:17.663019",
     "status": "completed"
    },
    "tags": []
   },
   "outputs": [],
   "source": [
    "cards_df.drop(columns=[\"Page name\", \"Page URL\"]).groupby(\n",
    "    \"OCG status\", dropna=False\n",
    ").nunique()"
   ]
  },
  {
   "cell_type": "code",
   "execution_count": null,
   "id": "baff20b2",
   "metadata": {
    "papermill": {
     "duration": 0.900424,
     "end_time": "2023-07-13T13:04:18.991821",
     "exception": false,
     "start_time": "2023-07-13T13:04:18.091397",
     "status": "completed"
    },
    "tags": []
   },
   "outputs": [],
   "source": [
    "cards_df[\"OCG status\"].value_counts(dropna=False).plot.bar(\n",
    "    figsize=(18, 6), logy=True, grid=True, rot=45, title=\"TCG status\"\n",
    ")\n",
    "plt.show()"
   ]
  },
  {
   "cell_type": "markdown",
   "id": "5c4bf980",
   "metadata": {
    "papermill": {
     "duration": 0.149872,
     "end_time": "2023-07-13T13:04:19.292240",
     "exception": false,
     "start_time": "2023-07-13T13:04:19.142368",
     "status": "completed"
    },
    "tags": []
   },
   "source": [
    "#### By card type"
   ]
  },
  {
   "cell_type": "code",
   "execution_count": null,
   "id": "4863280e",
   "metadata": {
    "papermill": {
     "duration": 0.238829,
     "end_time": "2023-07-13T13:04:19.681330",
     "exception": false,
     "start_time": "2023-07-13T13:04:19.442501",
     "status": "completed"
    },
    "tags": []
   },
   "outputs": [],
   "source": [
    "# Remove unlimited\n",
    "ocg_crosstab = pd.crosstab(cards_df[\"Card type\"], cards_df[\"OCG status\"]).drop(\n",
    "    [\"Unlimited\"], axis=1\n",
    ")\n",
    "ocg_crosstab"
   ]
  },
  {
   "cell_type": "code",
   "execution_count": null,
   "id": "e8489887",
   "metadata": {
    "papermill": {
     "duration": 0.511748,
     "end_time": "2023-07-13T13:04:20.341854",
     "exception": false,
     "start_time": "2023-07-13T13:04:19.830106",
     "status": "completed"
    },
    "tags": []
   },
   "outputs": [],
   "source": [
    "plt.figure(figsize=(12, 6))\n",
    "sns.heatmap(ocg_crosstab[ocg_crosstab > 0], annot=True, fmt=\"g\", cmap=\"viridis\")\n",
    "plt.show()"
   ]
  },
  {
   "cell_type": "markdown",
   "id": "32f682d2",
   "metadata": {
    "papermill": {
     "duration": 0.470939,
     "end_time": "2023-07-13T13:04:20.967229",
     "exception": false,
     "start_time": "2023-07-13T13:04:20.496290",
     "status": "completed"
    },
    "tags": []
   },
   "source": [
    "#### By monster type"
   ]
  },
  {
   "cell_type": "code",
   "execution_count": null,
   "id": "3dbadcb8",
   "metadata": {
    "papermill": {
     "duration": 0.201564,
     "end_time": "2023-07-13T13:04:21.320113",
     "exception": false,
     "start_time": "2023-07-13T13:04:21.118549",
     "status": "completed"
    },
    "tags": []
   },
   "outputs": [],
   "source": [
    "ocg_crosstab_b = pd.crosstab(cards_df[\"Monster type\"], cards_df[\"OCG status\"]).drop(\n",
    "    [\"Unlimited\"], axis=1\n",
    ")\n",
    "ocg_crosstab_b"
   ]
  },
  {
   "cell_type": "code",
   "execution_count": null,
   "id": "4743b0c1",
   "metadata": {
    "papermill": {
     "duration": 0.83719,
     "end_time": "2023-07-13T13:04:22.314732",
     "exception": false,
     "start_time": "2023-07-13T13:04:21.477542",
     "status": "completed"
    },
    "tags": []
   },
   "outputs": [],
   "source": [
    "plt.figure(figsize=(20, 5))\n",
    "sns.heatmap(\n",
    "    ocg_crosstab_b[ocg_crosstab_b > 0].T,\n",
    "    annot=True,\n",
    "    fmt=\"g\",\n",
    "    cmap=\"viridis\",\n",
    "    square=True,\n",
    ")\n",
    "plt.show()"
   ]
  },
  {
   "cell_type": "markdown",
   "id": "19d9067b",
   "metadata": {
    "papermill": {
     "duration": 0.15459,
     "end_time": "2023-07-13T13:04:22.622064",
     "exception": false,
     "start_time": "2023-07-13T13:04:22.467474",
     "status": "completed"
    },
    "tags": []
   },
   "source": [
    "#### By archseries"
   ]
  },
  {
   "cell_type": "code",
   "execution_count": null,
   "id": "d866a6e2",
   "metadata": {
    "papermill": {
     "duration": 0.248522,
     "end_time": "2023-07-13T13:04:23.034604",
     "exception": false,
     "start_time": "2023-07-13T13:04:22.786082",
     "status": "completed"
    },
    "tags": []
   },
   "outputs": [],
   "source": [
    "# Remove unlimited\n",
    "ocg_crosstab_c = pd.crosstab(\n",
    "    exploded_archseries[\"Archseries\"].where(\n",
    "        exploded_archseries[\"OCG status\"] != \"Unlimited\"\n",
    "    ),\n",
    "    exploded_archseries[\"OCG status\"],\n",
    "    margins=True,\n",
    ")\n",
    "ocg_crosstab_c"
   ]
  },
  {
   "cell_type": "markdown",
   "id": "c5b33198",
   "metadata": {
    "papermill": {
     "duration": 0.15362,
     "end_time": "2023-07-13T13:04:23.340327",
     "exception": false,
     "start_time": "2023-07-13T13:04:23.186707",
     "status": "completed"
    },
    "tags": []
   },
   "source": [
    "### TCG vs. OCG status"
   ]
  },
  {
   "cell_type": "code",
   "execution_count": null,
   "id": "14f2101b",
   "metadata": {
    "papermill": {
     "duration": 0.198131,
     "end_time": "2023-07-13T13:04:23.690046",
     "exception": false,
     "start_time": "2023-07-13T13:04:23.491915",
     "status": "completed"
    },
    "tags": []
   },
   "outputs": [],
   "source": [
    "cg_crosstab = pd.crosstab(\n",
    "    cards_df[\"OCG status\"], cards_df[\"TCG status\"], dropna=False, margins=False\n",
    ")\n",
    "cg_crosstab"
   ]
  },
  {
   "cell_type": "code",
   "execution_count": null,
   "id": "d10c5c81",
   "metadata": {
    "papermill": {
     "duration": 0.953897,
     "end_time": "2023-07-13T13:04:24.796324",
     "exception": false,
     "start_time": "2023-07-13T13:04:23.842427",
     "status": "completed"
    },
    "tags": []
   },
   "outputs": [],
   "source": [
    "plt.figure(figsize=(10, 8))\n",
    "sns.heatmap(\n",
    "    cg_crosstab[cg_crosstab > 0],\n",
    "    annot=True,\n",
    "    fmt=\"g\",\n",
    "    cmap=\"viridis\",\n",
    "    square=True,\n",
    "    norm=mc.LogNorm(),\n",
    ")\n",
    "plt.show()"
   ]
  },
  {
   "cell_type": "markdown",
   "id": "95d94158-0922-4085-b2c7-d7fa24f40038",
   "metadata": {
    "papermill": {
     "duration": 0.164995,
     "end_time": "2023-07-13T13:04:25.113938",
     "exception": false,
     "start_time": "2023-07-13T13:04:24.948943",
     "status": "completed"
    },
    "tags": []
   },
   "source": [
    "# Extras"
   ]
  },
  {
   "cell_type": "markdown",
   "id": "81de3001-152d-4f35-9978-b8f895a91cc1",
   "metadata": {
    "papermill": {
     "duration": 0.152753,
     "end_time": "2023-07-13T13:04:25.419061",
     "exception": false,
     "start_time": "2023-07-13T13:04:25.266308",
     "status": "completed"
    },
    "tags": []
   },
   "source": [
    "## Multiple secondary types"
   ]
  },
  {
   "cell_type": "code",
   "execution_count": null,
   "id": "7efee39e-a0b5-4636-bcd4-cb9c75e11888",
   "metadata": {
    "papermill": {
     "duration": 0.272328,
     "end_time": "2023-07-13T13:04:25.861977",
     "exception": false,
     "start_time": "2023-07-13T13:04:25.589649",
     "status": "completed"
    },
    "tags": []
   },
   "outputs": [],
   "source": [
    "cards_df.dropna(subset=\"Secondary type\", axis=0)[\n",
    "    [len(x) > 1 for x in cards_df[\"Secondary type\"].dropna()]\n",
    "]"
   ]
  },
  {
   "cell_type": "markdown",
   "id": "a1bdb3eb-7f83-49a8-92a2-a8a05e6253c7",
   "metadata": {
    "papermill": {
     "duration": 0.166942,
     "end_time": "2023-07-13T13:04:26.190973",
     "exception": false,
     "start_time": "2023-07-13T13:04:26.024031",
     "status": "completed"
    },
    "tags": []
   },
   "source": [
    "## Not yet released"
   ]
  },
  {
   "cell_type": "code",
   "execution_count": null,
   "id": "6ca6f265",
   "metadata": {
    "papermill": {
     "duration": 0.214934,
     "end_time": "2023-07-13T13:04:26.562049",
     "exception": false,
     "start_time": "2023-07-13T13:04:26.347115",
     "status": "completed"
    },
    "tags": []
   },
   "outputs": [],
   "source": [
    "cards_df.loc[cards_df[\"OCG status\"] == \"Not yet released\"].loc[\n",
    "    full_df[\"TCG status\"] == \"Not yet released\"\n",
    "]"
   ]
  },
  {
   "cell_type": "markdown",
   "id": "b53361a5-0528-4691-a8ca-c015e4802d9c",
   "metadata": {
    "papermill": {
     "duration": 0.492244,
     "end_time": "2023-07-13T13:04:27.207181",
     "exception": false,
     "start_time": "2023-07-13T13:04:26.714937",
     "status": "completed"
    },
    "tags": []
   },
   "source": [
    "## Counters and Tokens"
   ]
  },
  {
   "cell_type": "code",
   "execution_count": null,
   "id": "4022c3ca-bd45-4870-b233-7fdd5b1639a7",
   "metadata": {
    "papermill": {
     "duration": 0.193472,
     "end_time": "2023-07-13T13:04:27.564423",
     "exception": false,
     "start_time": "2023-07-13T13:04:27.370951",
     "status": "completed"
    },
    "tags": []
   },
   "outputs": [],
   "source": [
    "token_df.dropna(how=\"all\", axis=1)"
   ]
  },
  {
   "cell_type": "markdown",
   "id": "5a48e113-5c3f-48cd-a6a4-d1b779b8d834",
   "metadata": {
    "papermill": {
     "duration": 0.15375,
     "end_time": "2023-07-13T13:04:27.876236",
     "exception": false,
     "start_time": "2023-07-13T13:04:27.722486",
     "status": "completed"
    },
    "tags": []
   },
   "source": [
    "# Page name differs from card name"
   ]
  },
  {
   "cell_type": "code",
   "execution_count": null,
   "id": "4f3c09e4-ca0e-437b-82ed-7f1939b29886",
   "metadata": {
    "papermill": {
     "duration": 0.201989,
     "end_time": "2023-07-13T13:04:28.232064",
     "exception": false,
     "start_time": "2023-07-13T13:04:28.030075",
     "status": "completed"
    },
    "tags": []
   },
   "outputs": [],
   "source": [
    "full_df[full_df[\"Name\"] != full_df[\"Page name\"]]"
   ]
  },
  {
   "cell_type": "markdown",
   "id": "4058f0b9-3031-4daa-8a4a-2dddf8c74c07",
   "metadata": {
    "papermill": {
     "duration": 0.164855,
     "end_time": "2023-07-13T13:04:28.559393",
     "exception": false,
     "start_time": "2023-07-13T13:04:28.394538",
     "status": "completed"
    },
    "tags": []
   },
   "source": [
    "# Epilogue"
   ]
  },
  {
   "cell_type": "code",
   "execution_count": null,
   "id": "871cb3eb-a0fc-42e8-b516-6d524deba2fc",
   "metadata": {
    "papermill": {
     "duration": 0.262469,
     "end_time": "2023-07-13T13:04:28.979160",
     "exception": false,
     "start_time": "2023-07-13T13:04:28.716691",
     "status": "completed"
    },
    "tags": []
   },
   "outputs": [],
   "source": [
    "benchmark(\"cards\", timestamp)"
   ]
  },
  {
   "cell_type": "code",
   "execution_count": null,
   "id": "310f7d3e-ab76-4c5b-bf3d-f6898d559118",
   "metadata": {
    "papermill": {
     "duration": 0.18672,
     "end_time": "2023-07-13T13:04:29.321568",
     "exception": false,
     "start_time": "2023-07-13T13:04:29.134848",
     "status": "completed"
    },
    "tags": []
   },
   "outputs": [],
   "source": [
    "footer(timestamp)"
   ]
  },
  {
   "cell_type": "markdown",
   "id": "fade81da",
   "metadata": {
    "papermill": {
     "duration": 0.157789,
     "end_time": "2023-07-13T13:04:29.636325",
     "exception": false,
     "start_time": "2023-07-13T13:04:29.478536",
     "status": "completed"
    },
    "tags": []
   },
   "source": [
    "## HTML export"
   ]
  },
  {
   "cell_type": "code",
   "execution_count": null,
   "id": "6715b83e-9a4e-423c-81b9-33a81603acd4",
   "metadata": {
    "papermill": {
     "duration": 0.188617,
     "end_time": "2023-07-13T13:04:29.994898",
     "exception": false,
     "start_time": "2023-07-13T13:04:29.806281",
     "status": "completed"
    },
    "tags": []
   },
   "outputs": [],
   "source": [
    "# Save notebook on disck before generating HTML report\n",
    "save_notebook()"
   ]
  },
  {
   "cell_type": "code",
   "execution_count": null,
   "id": "de556e8b",
   "metadata": {
    "papermill": {
     "duration": 3.599761,
     "end_time": "2023-07-13T13:04:33.757474",
     "exception": false,
     "start_time": "2023-07-13T13:04:30.157713",
     "status": "completed"
    },
    "tags": []
   },
   "outputs": [],
   "source": [
    "! jupyter nbconvert Cards.ipynb --output-dir='../' --to=HTML --TagRemovePreprocessor.enabled=True --TagRemovePreprocessor.remove_cell_tags='exclude' --TemplateExporter.exclude_input=True --TemplateExporter.exclude_input_prompt=True --TemplateExporter.exclude_output_prompt=True"
   ]
  },
  {
   "cell_type": "markdown",
   "id": "641a7018-0f50-4ab6-b8f3-119a279cbc65",
   "metadata": {
    "papermill": {
     "duration": 0.156398,
     "end_time": "2023-07-13T13:04:34.071109",
     "exception": false,
     "start_time": "2023-07-13T13:04:33.914711",
     "status": "completed"
    },
    "tags": [
     "exclude"
    ]
   },
   "source": [
    "## Git"
   ]
  },
  {
   "cell_type": "code",
   "execution_count": null,
   "id": "cba1eb00-d9c2-491a-95b3-5ce0a0524d59",
   "metadata": {
    "papermill": {
     "duration": null,
     "end_time": null,
     "exception": false,
     "start_time": "2023-07-13T13:04:34.269075",
     "status": "running"
    },
    "tags": [
     "exclude"
    ]
   },
   "outputs": [],
   "source": [
    "! git add \"../*[Cc]ards*\""
   ]
  },
  {
   "cell_type": "code",
   "execution_count": null,
   "id": "6f1f8303-30c6-4aaa-b45e-f6d5f5ece30e",
   "metadata": {
    "papermill": {
     "duration": null,
     "end_time": null,
     "exception": null,
     "start_time": null,
     "status": "pending"
    },
    "tags": [
     "exclude"
    ]
   },
   "outputs": [],
   "source": [
    "! git commit -m {\"'Cards update-\" + timestamp.isoformat() + \"'\"}"
   ]
  }
 ],
 "metadata": {
  "kernelspec": {
   "display_name": "Python 3 (ipykernel)",
   "language": "python",
   "name": "python3"
  },
  "language_info": {
   "codemirror_mode": {
    "name": "ipython",
    "version": 3
   },
   "file_extension": ".py",
   "mimetype": "text/x-python",
   "name": "python",
   "nbconvert_exporter": "python",
   "pygments_lexer": "ipython3",
   "version": "3.10.12"
  },
  "papermill": {
   "default_parameters": {},
   "duration": null,
   "end_time": null,
   "environment_variables": {},
   "exception": null,
   "input_path": "Cards.ipynb",
   "output_path": "Cards.ipynb",
   "parameters": {},
   "start_time": "2023-07-13T13:01:30.782120",
   "version": "2.4.0"
  },
  "toc": {
   "base_numbering": 1,
   "nav_menu": {
    "height": "599px",
    "width": "228px"
   },
   "number_sections": true,
   "sideBar": true,
   "skip_h1_title": false,
   "title_cell": "Table of Contents",
   "title_sidebar": "Contents",
   "toc_cell": true,
   "toc_position": {
    "height": "calc(100% - 180px)",
    "left": "10px",
    "top": "150px",
    "width": "353px"
   },
   "toc_section_display": true,
   "toc_window_display": true
  },
  "toc-autonumbering": false,
  "toc-showcode": false,
  "toc-showmarkdowntxt": false
 },
 "nbformat": 4,
 "nbformat_minor": 5
}
