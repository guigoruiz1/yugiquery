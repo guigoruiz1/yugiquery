{
 "cells": [
  {
   "cell_type": "code",
   "execution_count": null,
   "id": "82c61f6c-3c7a-4460-b466-9c521973fa5d",
   "metadata": {
    "papermill": {
     "duration": 2.100286,
     "end_time": "2023-07-13T15:03:30.364520",
     "exception": false,
     "start_time": "2023-07-13T15:03:28.264234",
     "status": "completed"
    },
    "tags": []
   },
   "outputs": [],
   "source": [
    "from yugiquery import *\n",
    "\n",
    "header(\"Cards\")"
   ]
  },
  {
   "cell_type": "markdown",
   "id": "48cd2c04-37eb-408f-86ee-17e204a2cea9",
   "metadata": {
    "papermill": {
     "duration": 0.06784,
     "end_time": "2023-07-13T15:03:30.492669",
     "exception": false,
     "start_time": "2023-07-13T15:03:30.424829",
     "status": "completed"
    },
    "tags": []
   },
   "source": [
    "---"
   ]
  },
  {
   "cell_type": "markdown",
   "id": "6e66c226",
   "metadata": {
    "papermill": {
     "duration": 0.060084,
     "end_time": "2023-07-13T15:03:30.610869",
     "exception": false,
     "start_time": "2023-07-13T15:03:30.550785",
     "status": "completed"
    },
    "tags": [],
    "toc": true
   },
   "source": [
    "Table of Contents\n",
    "=================\n",
    "\n",
    "*   [1  Data aquisition](#Data-aquisition)\n",
    "    *   [1.1  Fetch online data](#Fetch-online-data)\n",
    "    *   [1.2  Merge data](#Merge-data)\n",
    "*   [2  Check changes](#Check-changes)\n",
    "    *   [2.1  Load previous data](#Load-previous-data)\n",
    "    *   [2.2  Generate changelog](#Generate-changelog)\n",
    "    *   [2.3  Save data](#Save-data)\n",
    "*   [3  Data visualization](#Data-visualization)\n",
    "    *   [3.1  Full data](#Full-data)\n",
    "    *   [3.2  Card types](#Card-types)\n",
    "    *   [3.3  Monsters](#Monsters)\n",
    "        *   [3.3.1  Attributes](#Attributes)\n",
    "        *   [3.3.2  Primary types](#Primary-types)\n",
    "            *   [3.3.2.1  Has effect discrimination](#Has-effect-discrimination)\n",
    "            *   [3.3.2.2  Is pendulum discrimination](#Is-pendulum-discrimination)\n",
    "            *   [3.3.2.3  By attribute](#By-attribute)\n",
    "        *   [3.3.3  Secondary types](#Secondary-types)\n",
    "            *   [3.3.3.1  By attribute](#By-attribute)\n",
    "            *   [3.3.3.2  By secondary type](#By-secondary-type)\n",
    "        *   [3.3.4  Monster types](#Monster-types)\n",
    "            *   [3.3.4.1  By Attribute](#By-Attribute)\n",
    "            *   [3.3.4.2  By primary type](#By-primary-type)\n",
    "            *   [3.3.4.3  By secondary type](#By-secondary-type)\n",
    "        *   [3.3.5  Effect type](#Effect-type)\n",
    "        *   [3.3.6  ATK](#ATK)\n",
    "        *   [3.3.7  DEF](#DEF)\n",
    "        *   [3.3.8  Level/Rank](#Level/Rank)\n",
    "            *   [3.3.8.1  ATK statistics](#ATK-statistics)\n",
    "            *   [3.3.8.2  DEF statistics](#DEF-statistics)\n",
    "        *   [3.3.9  Pendulum scale](#Pendulum-scale)\n",
    "            *   [3.3.9.1  ATK statistics](#ATK-statistics)\n",
    "            *   [3.3.9.2  DEF statistics](#DEF-statistics)\n",
    "            *   [3.3.9.3  Level/Rank statistics](#Level/Rank-statistics)\n",
    "        *   [3.3.10  Link](#Link)\n",
    "            *   [3.3.10.1  ATK statistics](#ATK-statistics)\n",
    "        *   [3.3.11  Link Arrows](#Link-Arrows)\n",
    "            *   [3.3.11.1  By combination](#By-combination)\n",
    "            *   [3.3.11.2  By unique](#By-unique)\n",
    "            *   [3.3.11.3  By link](#By-link)\n",
    "    *   [3.4  Spell & Trap](#Spell-&-Trap)\n",
    "        *   [3.4.1  Properties](#Properties)\n",
    "        *   [3.4.2  Effect type](#Effect-type)\n",
    "            *   [3.4.2.1  Spell & Trap discrimination](#Spell-&-Trap-discrimination)\n",
    "    *   [3.5  Archseries](#Archseries)\n",
    "        *   [3.5.1  By card type](#By-card-type)\n",
    "        *   [3.5.2  By primary type](#By-primary-type)\n",
    "        *   [3.5.3  By secondary type](#By-secondary-type)\n",
    "        *   [3.5.4  By monster type](#By-monster-type)\n",
    "        *   [3.5.5  By property](#By-property)\n",
    "    *   [3.6  Artworks](#Artworks)\n",
    "        *   [3.6.1  By card type](#By-card-type)\n",
    "        *   [3.6.2  By primary type](#By-primary-type)\n",
    "    *   [3.7  Errata](#Errata)\n",
    "        *   [3.7.1  By card type](#By-card-type)\n",
    "        *   [3.7.2  By primary type](#By-primary-type)\n",
    "        *   [3.7.3  By artwork](#By-artwork)\n",
    "    *   [3.8  TCG & OCG status](#TCG-&-OCG-status)\n",
    "        *   [3.8.1  TGC status](#TGC-status)\n",
    "            *   [3.8.1.1  By card type](#By-card-type)\n",
    "            *   [3.8.1.2  By monster type](#By-monster-type)\n",
    "            *   [3.8.1.3  By archseries](#By-archseries)\n",
    "        *   [3.8.2  OCG status](#OCG-status)\n",
    "            *   [3.8.2.1  By card type](#By-card-type)\n",
    "            *   [3.8.2.2  By monster type](#By-monster-type)\n",
    "            *   [3.8.2.3  By archseries](#By-archseries)\n",
    "        *   [3.8.3  TCG vs. OCG status](#TCG-vs.-OCG-status)\n",
    "*   [4  Extras](#Extras)\n",
    "    *   [4.1 Multiple secondary types](#Multiple-secondary-types)\n",
    "    *   [4.2 Not yet released](#Not-yet-released)\n",
    "    *   [4.3 Counters and Tokens](#Counters-and-Tokens)\n",
    "*   [5  Epilogue](#Epilogue)\n",
    "    *   [5.1  HTML export](#HTML-export)\n",
    "<!-- *   [5.2  Git](#Git) -->"
   ]
  },
  {
   "cell_type": "markdown",
   "id": "b60fae74",
   "metadata": {
    "papermill": {
     "duration": 0.061989,
     "end_time": "2023-07-13T15:03:30.731421",
     "exception": false,
     "start_time": "2023-07-13T15:03:30.669432",
     "status": "completed"
    },
    "tags": []
   },
   "source": [
    "# Data aquisition"
   ]
  },
  {
   "cell_type": "markdown",
   "id": "699f2460",
   "metadata": {
    "papermill": {
     "duration": 0.057955,
     "end_time": "2023-07-13T15:03:30.847922",
     "exception": false,
     "start_time": "2023-07-13T15:03:30.789967",
     "status": "completed"
    },
    "tags": []
   },
   "source": [
    "## Fetch online data"
   ]
  },
  {
   "cell_type": "code",
   "execution_count": null,
   "id": "135ab538",
   "metadata": {
    "papermill": {
     "duration": 0.068225,
     "end_time": "2023-07-13T15:03:30.974473",
     "exception": false,
     "start_time": "2023-07-13T15:03:30.906248",
     "status": "completed"
    },
    "tags": []
   },
   "outputs": [],
   "source": [
    "# Timestamp\n",
    "timestamp = pd.Timestamp.now()"
   ]
  },
  {
   "cell_type": "code",
   "execution_count": null,
   "id": "a5ac8487-bb9d-472c-857a-409b7eed3e2c",
   "metadata": {
    "papermill": {
     "duration": 54.351764,
     "end_time": "2023-07-13T15:04:25.384564",
     "exception": false,
     "start_time": "2023-07-13T15:03:31.032800",
     "status": "completed"
    },
    "tags": []
   },
   "outputs": [],
   "source": [
    "# Fetch Monster\n",
    "monster_df = fetch_monster()"
   ]
  },
  {
   "cell_type": "code",
   "execution_count": null,
   "id": "f62e94af-db1f-4ba5-9a7c-979b919625f3",
   "metadata": {
    "papermill": {
     "duration": 24.269263,
     "end_time": "2023-07-13T15:04:49.713572",
     "exception": false,
     "start_time": "2023-07-13T15:04:25.444309",
     "status": "completed"
    },
    "tags": []
   },
   "outputs": [],
   "source": [
    "# Fetch Spell\n",
    "spell_df = fetch_st(st=\"Spell\")\n",
    "\n",
    "# Fetch Trap\n",
    "trap_df = fetch_st(st=\"Trap\")"
   ]
  },
  {
   "cell_type": "code",
   "execution_count": null,
   "id": "913baa55-a117-4794-9b0c-9839cce927df",
   "metadata": {
    "papermill": {
     "duration": 4.454986,
     "end_time": "2023-07-13T15:04:54.256110",
     "exception": false,
     "start_time": "2023-07-13T15:04:49.801124",
     "status": "completed"
    },
    "tags": []
   },
   "outputs": [],
   "source": [
    "# Fetch Token\n",
    "token_df = fetch_token()\n",
    "\n",
    "# Fetch Counter\n",
    "counter_df = fetch_counter()\n",
    "\n",
    "# Fetch errata\n",
    "errata_df = fetch_errata()"
   ]
  },
  {
   "cell_type": "markdown",
   "id": "ffe04a8e-544d-4e73-947d-de6d5615bca3",
   "metadata": {
    "papermill": {
     "duration": 0.101469,
     "end_time": "2023-07-13T15:04:54.418891",
     "exception": false,
     "start_time": "2023-07-13T15:04:54.317422",
     "status": "completed"
    },
    "tags": []
   },
   "source": [
    "## Merge data"
   ]
  },
  {
   "cell_type": "code",
   "execution_count": null,
   "id": "3669c6ff-2f6a-4a09-b80c-0cf361caf929",
   "metadata": {
    "papermill": {
     "duration": 1.004532,
     "end_time": "2023-07-13T15:04:55.483984",
     "exception": false,
     "start_time": "2023-07-13T15:04:54.479452",
     "status": "completed"
    },
    "tags": []
   },
   "outputs": [],
   "source": [
    "# Merge errata\n",
    "monster_df = merge_errata(monster_df, errata_df)\n",
    "spell_df = merge_errata(spell_df, errata_df)\n",
    "trap_df = merge_errata(trap_df, errata_df)\n",
    "token_df = merge_errata(token_df, errata_df)\n",
    "counter_df = merge_errata(counter_df, errata_df)\n",
    "\n",
    "# Add counters to tokens data frame\n",
    "token_df = (\n",
    "    pd.concat([token_df, counter_df], ignore_index=True, axis=0)\n",
    "    .drop_duplicates()\n",
    "    .sort_values(\"Name\", ignore_index=True)\n",
    ")\n",
    "\n",
    "# Create combined spell and trap data frame\n",
    "st_df = pd.concat([spell_df, trap_df], ignore_index=True, axis=0).sort_values(\n",
    "    \"Name\", ignore_index=True\n",
    ")\n",
    "\n",
    "# Create combined monster, spell and trap data frames\n",
    "cards_df = pd.concat([st_df, monster_df], ignore_index=True, axis=0).sort_values(\n",
    "    \"Name\", ignore_index=True\n",
    ")\n",
    "\n",
    "# Create combined data frames with full data\n",
    "full_df = pd.concat([cards_df, token_df], ignore_index=True, axis=0).sort_values(\n",
    "    \"Name\", ignore_index=True\n",
    ")\n",
    "\n",
    "print(\"Data merged\")"
   ]
  },
  {
   "cell_type": "markdown",
   "id": "9ff0cf51",
   "metadata": {
    "papermill": {
     "duration": 0.061964,
     "end_time": "2023-07-13T15:04:55.606640",
     "exception": false,
     "start_time": "2023-07-13T15:04:55.544676",
     "status": "completed"
    },
    "tags": []
   },
   "source": [
    "# Check changes"
   ]
  },
  {
   "cell_type": "markdown",
   "id": "233e965d",
   "metadata": {
    "papermill": {
     "duration": 0.061557,
     "end_time": "2023-07-13T15:04:55.730580",
     "exception": false,
     "start_time": "2023-07-13T15:04:55.669023",
     "status": "completed"
    },
    "tags": []
   },
   "source": [
    "## Load previous data"
   ]
  },
  {
   "cell_type": "code",
   "execution_count": null,
   "id": "fb7dc6f8",
   "metadata": {
    "papermill": {
     "duration": 0.774735,
     "end_time": "2023-07-13T15:04:56.565933",
     "exception": false,
     "start_time": "2023-07-13T15:04:55.791198",
     "status": "completed"
    },
    "tags": []
   },
   "outputs": [],
   "source": [
    "# Get list of files\n",
    "files_list = sorted(\n",
    "    glob.glob(\"../data/all_cards_*.bz2\"), key=os.path.getctime, reverse=True\n",
    ")\n",
    "# Get second newest file if exist\n",
    "if files_list:\n",
    "    latest_file = files_list[0]\n",
    "    # Load csv avoiding converting \"NA\" to NaN\n",
    "    previous_df = pd.read_csv(\n",
    "        latest_file, dtype=object, keep_default_na=False, na_values=[\"\"]\n",
    "    )\n",
    "    # Correct tuples\n",
    "    tuple_cols = [\n",
    "        \"Effect type\",\n",
    "        \"Secondary type\",\n",
    "        \"Link Arrows\",\n",
    "        \"Archseries\",\n",
    "        \"Artwork\",\n",
    "        \"Errata\",\n",
    "    ]\n",
    "    for col in tuple_cols:\n",
    "        previous_df[col] = previous_df[col].dropna().apply(literal_eval)\n",
    "    # Force dtypes to match current df\n",
    "    previous_df = previous_df.astype(\n",
    "        full_df[previous_df.columns.intersection(full_df.columns)].dtypes.to_dict()\n",
    "    )\n",
    "    previous_ts = pd.to_datetime(\n",
    "        os.path.basename(latest_file).split(\"_\")[-1].split(\".bz2\")[0]\n",
    "    )\n",
    "    print(\"File loaded\")\n",
    "else:\n",
    "    previous_df = None\n",
    "    print(\"No older files\")"
   ]
  },
  {
   "cell_type": "markdown",
   "id": "96ce5451",
   "metadata": {
    "papermill": {
     "duration": 0.066872,
     "end_time": "2023-07-13T15:04:56.694320",
     "exception": false,
     "start_time": "2023-07-13T15:04:56.627448",
     "status": "completed"
    },
    "tags": []
   },
   "source": [
    "## Generate changelog"
   ]
  },
  {
   "cell_type": "code",
   "execution_count": null,
   "id": "2fcca8f1",
   "metadata": {
    "papermill": {
     "duration": 0.2764,
     "end_time": "2023-07-13T15:04:57.032563",
     "exception": false,
     "start_time": "2023-07-13T15:04:56.756163",
     "status": "completed"
    },
    "tags": []
   },
   "outputs": [],
   "source": [
    "if previous_df is None:\n",
    "    changelog = None\n",
    "    print(\"Skipped\")\n",
    "else:\n",
    "    changelog = generate_changelog(previous_df, full_df, col=\"Name\")\n",
    "    if not changelog.empty:\n",
    "        display(changelog)\n",
    "        changelog.to_csv(\n",
    "            f'../data/cards_changelog_{previous_ts.isoformat(timespec=\"minutes\")}_{timestamp.isoformat(timespec=\"minutes\")}.bz2',\n",
    "            index=True,\n",
    "        )\n",
    "        print(\"Changelog saved\")"
   ]
  },
  {
   "cell_type": "markdown",
   "id": "9b15f8ec",
   "metadata": {
    "papermill": {
     "duration": 0.213741,
     "end_time": "2023-07-13T15:04:57.308048",
     "exception": false,
     "start_time": "2023-07-13T15:04:57.094307",
     "status": "completed"
    },
    "tags": []
   },
   "source": [
    "## Save data"
   ]
  },
  {
   "cell_type": "code",
   "execution_count": null,
   "id": "01e9eb77",
   "metadata": {
    "papermill": {
     "duration": 0.100321,
     "end_time": "2023-07-13T15:04:57.477445",
     "exception": false,
     "start_time": "2023-07-13T15:04:57.377124",
     "status": "completed"
    },
    "tags": []
   },
   "outputs": [],
   "source": [
    "if changelog is not None and changelog.empty:\n",
    "    print(\"No changes. New data not saved\")\n",
    "else:\n",
    "    full_df.to_csv(\n",
    "        f'../data/all_cards_{timestamp.isoformat(timespec=\"minutes\")}.bz2', index=False\n",
    "    )\n",
    "    print(\"Data saved\")"
   ]
  },
  {
   "cell_type": "markdown",
   "id": "c0ae1017",
   "metadata": {
    "papermill": {
     "duration": 0.065165,
     "end_time": "2023-07-13T15:04:57.608341",
     "exception": false,
     "start_time": "2023-07-13T15:04:57.543176",
     "status": "completed"
    },
    "tags": []
   },
   "source": [
    "# Data visualization"
   ]
  },
  {
   "cell_type": "markdown",
   "id": "5ad091af",
   "metadata": {
    "jp-MarkdownHeadingCollapsed": true,
    "papermill": {
     "duration": 0.060818,
     "end_time": "2023-07-13T15:04:57.730539",
     "exception": false,
     "start_time": "2023-07-13T15:04:57.669721",
     "status": "completed"
    },
    "tags": []
   },
   "source": [
    "## Full data"
   ]
  },
  {
   "cell_type": "code",
   "execution_count": null,
   "id": "fb024043",
   "metadata": {
    "papermill": {
     "duration": 0.108113,
     "end_time": "2023-07-13T15:04:57.899688",
     "exception": false,
     "start_time": "2023-07-13T15:04:57.791575",
     "status": "completed"
    },
    "tags": []
   },
   "outputs": [],
   "source": [
    "full_df"
   ]
  },
  {
   "cell_type": "markdown",
   "id": "da99ccde-ca38-4d81-8661-6f8514f689d7",
   "metadata": {
    "papermill": {
     "duration": 0.064785,
     "end_time": "2023-07-13T15:04:58.032872",
     "exception": false,
     "start_time": "2023-07-13T15:04:57.968087",
     "status": "completed"
    },
    "tags": []
   },
   "source": [
    "Full data available to download [here](../data)"
   ]
  },
  {
   "cell_type": "markdown",
   "id": "8a8cb7cd",
   "metadata": {
    "jp-MarkdownHeadingCollapsed": true,
    "papermill": {
     "duration": 0.061295,
     "end_time": "2023-07-13T15:04:58.158208",
     "exception": false,
     "start_time": "2023-07-13T15:04:58.096913",
     "status": "completed"
    },
    "tags": []
   },
   "source": [
    "## Card types"
   ]
  },
  {
   "cell_type": "code",
   "execution_count": null,
   "id": "a4ec32e1",
   "metadata": {
    "papermill": {
     "duration": 0.090353,
     "end_time": "2023-07-13T15:04:58.310813",
     "exception": false,
     "start_time": "2023-07-13T15:04:58.220460",
     "status": "completed"
    },
    "tags": []
   },
   "outputs": [],
   "source": [
    "print(\"Total number of card types:\", cards_df[\"Card type\"].nunique())"
   ]
  },
  {
   "cell_type": "code",
   "execution_count": null,
   "id": "120a72dc",
   "metadata": {
    "papermill": {
     "duration": 0.366115,
     "end_time": "2023-07-13T15:04:58.795999",
     "exception": false,
     "start_time": "2023-07-13T15:04:58.429884",
     "status": "completed"
    },
    "tags": []
   },
   "outputs": [],
   "source": [
    "card_type_colors = [colors_dict[i] for i in full_df[\"Card type\"].value_counts().index]\n",
    "cards_df[\"Card type\"].value_counts().plot.bar(\n",
    "    figsize=(18, 6), grid=True, rot=0, color=card_type_colors, title=\"Card type\"\n",
    ")\n",
    "plt.show()"
   ]
  },
  {
   "cell_type": "markdown",
   "id": "fa1ed03c",
   "metadata": {
    "papermill": {
     "duration": 0.062481,
     "end_time": "2023-07-13T15:04:58.921234",
     "exception": false,
     "start_time": "2023-07-13T15:04:58.858753",
     "status": "completed"
    },
    "tags": []
   },
   "source": [
    "## Monsters"
   ]
  },
  {
   "cell_type": "markdown",
   "id": "66c5f658",
   "metadata": {
    "papermill": {
     "duration": 0.06234,
     "end_time": "2023-07-13T15:04:59.046351",
     "exception": false,
     "start_time": "2023-07-13T15:04:58.984011",
     "status": "completed"
    },
    "tags": []
   },
   "source": [
    "### Attributes"
   ]
  },
  {
   "cell_type": "code",
   "execution_count": null,
   "id": "aa4e6a26",
   "metadata": {
    "papermill": {
     "duration": 0.097182,
     "end_time": "2023-07-13T15:04:59.208107",
     "exception": false,
     "start_time": "2023-07-13T15:04:59.110925",
     "status": "completed"
    },
    "tags": []
   },
   "outputs": [],
   "source": [
    "print(\"Total number of attributes:\", monster_df[\"Attribute\"].nunique())"
   ]
  },
  {
   "cell_type": "code",
   "execution_count": null,
   "id": "ea26720e",
   "metadata": {
    "papermill": {
     "duration": 0.158059,
     "end_time": "2023-07-13T15:04:59.434001",
     "exception": false,
     "start_time": "2023-07-13T15:04:59.275942",
     "status": "completed"
    },
    "tags": []
   },
   "outputs": [],
   "source": [
    "monster_df.drop(columns=[\"Card type\", \"Page name\", \"Page URL\"]).groupby(\n",
    "    \"Attribute\"\n",
    ").nunique()"
   ]
  },
  {
   "cell_type": "code",
   "execution_count": null,
   "id": "c4ff5f74",
   "metadata": {
    "papermill": {
     "duration": 0.320458,
     "end_time": "2023-07-13T15:05:00.336395",
     "exception": false,
     "start_time": "2023-07-13T15:05:00.015937",
     "status": "completed"
    },
    "tags": []
   },
   "outputs": [],
   "source": [
    "attribute_colors = [\n",
    "    colors_dict[i] for i in monster_df[\"Attribute\"].value_counts().index\n",
    "]\n",
    "monster_df[\"Attribute\"].value_counts().plot.bar(\n",
    "    figsize=(18, 6), grid=True, rot=0, color=attribute_colors, title=\"Attribute\"\n",
    ")\n",
    "plt.show()"
   ]
  },
  {
   "cell_type": "markdown",
   "id": "d0d71936",
   "metadata": {
    "papermill": {
     "duration": 0.064831,
     "end_time": "2023-07-13T15:05:00.465791",
     "exception": false,
     "start_time": "2023-07-13T15:05:00.400960",
     "status": "completed"
    },
    "tags": []
   },
   "source": [
    "### Primary types"
   ]
  },
  {
   "cell_type": "code",
   "execution_count": null,
   "id": "26e45412",
   "metadata": {
    "papermill": {
     "duration": 0.083695,
     "end_time": "2023-07-13T15:05:00.614381",
     "exception": false,
     "start_time": "2023-07-13T15:05:00.530686",
     "status": "completed"
    },
    "tags": []
   },
   "outputs": [],
   "source": [
    "print(\"Total number of primary types:\", monster_df[\"Primary type\"].nunique())"
   ]
  },
  {
   "cell_type": "code",
   "execution_count": null,
   "id": "c7e4c6b0",
   "metadata": {
    "papermill": {
     "duration": 0.160981,
     "end_time": "2023-07-13T15:05:00.847598",
     "exception": false,
     "start_time": "2023-07-13T15:05:00.686617",
     "status": "completed"
    },
    "tags": []
   },
   "outputs": [],
   "source": [
    "monster_df.drop(columns=[\"Card type\", \"Page name\", \"Page URL\"]).groupby(\n",
    "    \"Primary type\"\n",
    ").nunique()"
   ]
  },
  {
   "cell_type": "markdown",
   "id": "d41d8e4a",
   "metadata": {
    "papermill": {
     "duration": 0.066427,
     "end_time": "2023-07-13T15:05:00.980007",
     "exception": false,
     "start_time": "2023-07-13T15:05:00.913580",
     "status": "completed"
    },
    "tags": []
   },
   "source": [
    "#### Has effect discrimination"
   ]
  },
  {
   "cell_type": "code",
   "execution_count": null,
   "id": "c14a59a2-0a34-4a99-a232-b04231647db5",
   "metadata": {
    "papermill": {
     "duration": 0.48838,
     "end_time": "2023-07-13T15:05:01.587262",
     "exception": false,
     "start_time": "2023-07-13T15:05:01.098882",
     "status": "completed"
    },
    "tags": []
   },
   "outputs": [],
   "source": [
    "effect = pd.crosstab(\n",
    "    monster_df[\"Primary type\"],\n",
    "    pd.isna(monster_df[\"Effect type\"]),\n",
    "    rownames=[\"Primary type\"],\n",
    "    colnames=[\"Has effect\"],\n",
    ").rename(columns={True: \"No Effect\", False: \"Effect\"})\n",
    "effect"
   ]
  },
  {
   "cell_type": "code",
   "execution_count": null,
   "id": "82c24448",
   "metadata": {
    "papermill": {
     "duration": 0.409623,
     "end_time": "2023-07-13T15:05:02.082724",
     "exception": false,
     "start_time": "2023-07-13T15:05:01.673101",
     "status": "completed"
    },
    "tags": []
   },
   "outputs": [],
   "source": [
    "monster_type_colors = {\n",
    "    \"No Effect\": colors_dict[\"Normal Monster\"],\n",
    "    \"Effect\": [colors_dict[i] for i in effect.index],\n",
    "}\n",
    "effect.plot.bar(\n",
    "    figsize=(18, 6),\n",
    "    stacked=True,\n",
    "    grid=True,\n",
    "    rot=0,\n",
    "    legend=True,\n",
    "    color=monster_type_colors,\n",
    ")\n",
    "# plt.yscale('log')\n",
    "plt.show()"
   ]
  },
  {
   "cell_type": "markdown",
   "id": "69d8824e",
   "metadata": {
    "papermill": {
     "duration": 0.131735,
     "end_time": "2023-07-13T15:05:02.280893",
     "exception": false,
     "start_time": "2023-07-13T15:05:02.149158",
     "status": "completed"
    },
    "tags": []
   },
   "source": [
    "Obs: Normal monster can have effect if it is pendulum"
   ]
  },
  {
   "cell_type": "markdown",
   "id": "1da2968f",
   "metadata": {
    "papermill": {
     "duration": 0.067204,
     "end_time": "2023-07-13T15:05:02.418398",
     "exception": false,
     "start_time": "2023-07-13T15:05:02.351194",
     "status": "completed"
    },
    "tags": []
   },
   "source": [
    "#### Is pendulum discrimination"
   ]
  },
  {
   "cell_type": "code",
   "execution_count": null,
   "id": "c18ac7a6",
   "metadata": {
    "papermill": {
     "duration": 0.10185,
     "end_time": "2023-07-13T15:05:02.587169",
     "exception": false,
     "start_time": "2023-07-13T15:05:02.485319",
     "status": "completed"
    },
    "tags": []
   },
   "outputs": [],
   "source": [
    "pendulum = pd.crosstab(\n",
    "    monster_df[\"Primary type\"],\n",
    "    pd.isna(monster_df[\"Pendulum Scale\"]),\n",
    "    rownames=[\"Primary type\"],\n",
    "    colnames=[\"Is Pendulum\"],\n",
    ").rename(columns={True: \"Not Pendulum\", False: \"Pendulum\"})\n",
    "pendulum"
   ]
  },
  {
   "cell_type": "code",
   "execution_count": null,
   "id": "fd0ff75c",
   "metadata": {
    "papermill": {
     "duration": 0.530222,
     "end_time": "2023-07-13T15:05:03.183719",
     "exception": false,
     "start_time": "2023-07-13T15:05:02.653497",
     "status": "completed"
    },
    "tags": []
   },
   "outputs": [],
   "source": [
    "monster_type_colors_b = {\n",
    "    \"Pendulum\": colors_dict[\"Pendulum Monster\"],\n",
    "    \"Not Pendulum\": [colors_dict[i] for i in pendulum.index],\n",
    "}\n",
    "pendulum.plot.bar(\n",
    "    figsize=(18, 6),\n",
    "    stacked=True,\n",
    "    grid=True,\n",
    "    rot=0,\n",
    "    color=monster_type_colors_b,\n",
    "    legend=True,\n",
    "    title=\"Primary types - Is pendulum\",\n",
    ")\n",
    "plt.show()"
   ]
  },
  {
   "cell_type": "markdown",
   "id": "a6a4f4f5",
   "metadata": {
    "papermill": {
     "duration": 0.066968,
     "end_time": "2023-07-13T15:05:03.321657",
     "exception": false,
     "start_time": "2023-07-13T15:05:03.254689",
     "status": "completed"
    },
    "tags": []
   },
   "source": [
    "#### By attribute"
   ]
  },
  {
   "cell_type": "code",
   "execution_count": null,
   "id": "9c162519",
   "metadata": {
    "papermill": {
     "duration": 0.153481,
     "end_time": "2023-07-13T15:05:03.624773",
     "exception": false,
     "start_time": "2023-07-13T15:05:03.471292",
     "status": "completed"
    },
    "tags": []
   },
   "outputs": [],
   "source": [
    "primmary_crosstab = pd.crosstab(cards_df[\"Primary type\"], cards_df[\"Attribute\"])\n",
    "primmary_crosstab"
   ]
  },
  {
   "cell_type": "code",
   "execution_count": null,
   "id": "a0114f45",
   "metadata": {
    "papermill": {
     "duration": 1.01704,
     "end_time": "2023-07-13T15:05:04.712655",
     "exception": false,
     "start_time": "2023-07-13T15:05:03.695615",
     "status": "completed"
    },
    "tags": []
   },
   "outputs": [],
   "source": [
    "plt.figure(figsize=(16, 10))\n",
    "sns.heatmap(\n",
    "    primmary_crosstab.T,\n",
    "    annot=True,\n",
    "    fmt=\"g\",\n",
    "    cmap=\"viridis\",\n",
    "    square=True,\n",
    "    norm=mc.LogNorm(),\n",
    ")\n",
    "plt.show()"
   ]
  },
  {
   "cell_type": "markdown",
   "id": "0c70885e",
   "metadata": {
    "papermill": {
     "duration": 0.071298,
     "end_time": "2023-07-13T15:05:04.853533",
     "exception": false,
     "start_time": "2023-07-13T15:05:04.782235",
     "status": "completed"
    },
    "tags": []
   },
   "source": [
    "### Secondary types"
   ]
  },
  {
   "cell_type": "code",
   "execution_count": null,
   "id": "ee184462",
   "metadata": {
    "papermill": {
     "duration": 0.193129,
     "end_time": "2023-07-13T15:05:05.116337",
     "exception": false,
     "start_time": "2023-07-13T15:05:04.923208",
     "status": "completed"
    },
    "tags": []
   },
   "outputs": [],
   "source": [
    "exploded_secondary_type = monster_df.explode(\"Secondary type\")\n",
    "print(\n",
    "    \"Total number of secondary types:\",\n",
    "    exploded_secondary_type[\"Secondary type\"].nunique(),\n",
    ")"
   ]
  },
  {
   "cell_type": "code",
   "execution_count": null,
   "id": "125f438e",
   "metadata": {
    "papermill": {
     "duration": 0.162533,
     "end_time": "2023-07-13T15:05:05.350180",
     "exception": false,
     "start_time": "2023-07-13T15:05:05.187647",
     "status": "completed"
    },
    "tags": []
   },
   "outputs": [],
   "source": [
    "exploded_secondary_type.drop(\n",
    "    columns=[\"Card type\", \"Link\", \"Link Arrows\", \"Page name\", \"Page URL\"]\n",
    ").groupby(\"Secondary type\").nunique()"
   ]
  },
  {
   "cell_type": "code",
   "execution_count": null,
   "id": "a4fec827",
   "metadata": {
    "papermill": {
     "duration": 0.384084,
     "end_time": "2023-07-13T15:05:05.807544",
     "exception": false,
     "start_time": "2023-07-13T15:05:05.423460",
     "status": "completed"
    },
    "tags": []
   },
   "outputs": [],
   "source": [
    "secondary_type_colors = colors_dict[\"Effect Monster\"]\n",
    "exploded_secondary_type[\"Secondary type\"].value_counts().plot.bar(\n",
    "    figsize=(18, 6),\n",
    "    stacked=True,\n",
    "    grid=True,\n",
    "    rot=0,\n",
    "    color=secondary_type_colors,\n",
    "    legend=False,\n",
    "    title=\"Secondary type\",\n",
    ")\n",
    "plt.show()"
   ]
  },
  {
   "cell_type": "markdown",
   "id": "0420679a",
   "metadata": {
    "papermill": {
     "duration": 0.070049,
     "end_time": "2023-07-13T15:05:05.947975",
     "exception": false,
     "start_time": "2023-07-13T15:05:05.877926",
     "status": "completed"
    },
    "tags": []
   },
   "source": [
    "#### By attribute"
   ]
  },
  {
   "cell_type": "code",
   "execution_count": null,
   "id": "085225bb",
   "metadata": {
    "papermill": {
     "duration": 0.106146,
     "end_time": "2023-07-13T15:05:06.124895",
     "exception": false,
     "start_time": "2023-07-13T15:05:06.018749",
     "status": "completed"
    },
    "tags": []
   },
   "outputs": [],
   "source": [
    "secondary_crosstab = pd.crosstab(\n",
    "    exploded_secondary_type[\"Secondary type\"], exploded_secondary_type[\"Attribute\"]\n",
    ")\n",
    "secondary_crosstab"
   ]
  },
  {
   "cell_type": "code",
   "execution_count": null,
   "id": "b69fe297",
   "metadata": {
    "papermill": {
     "duration": 0.574026,
     "end_time": "2023-07-13T15:05:06.773407",
     "exception": false,
     "start_time": "2023-07-13T15:05:06.199381",
     "status": "completed"
    },
    "tags": []
   },
   "outputs": [],
   "source": [
    "plt.figure(figsize=(8, 6))\n",
    "sns.heatmap(\n",
    "    secondary_crosstab[secondary_crosstab > 0],\n",
    "    annot=True,\n",
    "    fmt=\"g\",\n",
    "    cmap=\"viridis\",\n",
    "    square=True,\n",
    ")\n",
    "plt.show()"
   ]
  },
  {
   "cell_type": "markdown",
   "id": "30b035c2",
   "metadata": {
    "papermill": {
     "duration": 0.076147,
     "end_time": "2023-07-13T15:05:06.922357",
     "exception": false,
     "start_time": "2023-07-13T15:05:06.846210",
     "status": "completed"
    },
    "tags": []
   },
   "source": [
    "#### By secondary type"
   ]
  },
  {
   "cell_type": "code",
   "execution_count": null,
   "id": "c8f08039",
   "metadata": {
    "papermill": {
     "duration": 0.137663,
     "end_time": "2023-07-13T15:05:07.136618",
     "exception": false,
     "start_time": "2023-07-13T15:05:06.998955",
     "status": "completed"
    },
    "tags": []
   },
   "outputs": [],
   "source": [
    "secondary_crosstab_b = pd.crosstab(\n",
    "    exploded_secondary_type[\"Primary type\"],\n",
    "    exploded_secondary_type[\"Secondary type\"],\n",
    "    margins=True,\n",
    ")\n",
    "secondary_crosstab_b"
   ]
  },
  {
   "cell_type": "code",
   "execution_count": null,
   "id": "4749ace2",
   "metadata": {
    "papermill": {
     "duration": 0.797044,
     "end_time": "2023-07-13T15:05:08.006537",
     "exception": false,
     "start_time": "2023-07-13T15:05:07.209493",
     "status": "completed"
    },
    "tags": []
   },
   "outputs": [],
   "source": [
    "plt.figure(figsize=(10, 7))\n",
    "sns.heatmap(\n",
    "    secondary_crosstab_b,\n",
    "    annot=True,\n",
    "    fmt=\"g\",\n",
    "    cmap=\"viridis\",\n",
    "    square=True,\n",
    "    norm=mc.LogNorm(),\n",
    ")\n",
    "plt.show()"
   ]
  },
  {
   "cell_type": "markdown",
   "id": "9682c65a",
   "metadata": {
    "papermill": {
     "duration": 0.072666,
     "end_time": "2023-07-13T15:05:08.154750",
     "exception": false,
     "start_time": "2023-07-13T15:05:08.082084",
     "status": "completed"
    },
    "tags": []
   },
   "source": [
    "### Monster types"
   ]
  },
  {
   "cell_type": "code",
   "execution_count": null,
   "id": "dab77100",
   "metadata": {
    "papermill": {
     "duration": 0.09242,
     "end_time": "2023-07-13T15:05:08.321744",
     "exception": false,
     "start_time": "2023-07-13T15:05:08.229324",
     "status": "completed"
    },
    "tags": []
   },
   "outputs": [],
   "source": [
    "print(\"Total number of monster types:\", monster_df[\"Monster type\"].nunique())"
   ]
  },
  {
   "cell_type": "code",
   "execution_count": null,
   "id": "02f5b750",
   "metadata": {
    "papermill": {
     "duration": 0.190715,
     "end_time": "2023-07-13T15:05:08.588770",
     "exception": false,
     "start_time": "2023-07-13T15:05:08.398055",
     "status": "completed"
    },
    "tags": []
   },
   "outputs": [],
   "source": [
    "monster_df.drop(columns=[\"Card type\", \"Page name\", \"Page URL\"]).groupby(\n",
    "    \"Monster type\"\n",
    ").nunique()"
   ]
  },
  {
   "cell_type": "code",
   "execution_count": null,
   "id": "75111774",
   "metadata": {
    "papermill": {
     "duration": 0.52579,
     "end_time": "2023-07-13T15:05:09.189816",
     "exception": false,
     "start_time": "2023-07-13T15:05:08.664026",
     "status": "completed"
    },
    "tags": []
   },
   "outputs": [],
   "source": [
    "monster_type_colors = colors_dict[\"Monster Card\"]\n",
    "monster_df[\"Monster type\"].value_counts().plot.bar(\n",
    "    figsize=(18, 6), grid=True, rot=45, color=monster_type_colors, title=\"Monster type\"\n",
    ")\n",
    "plt.show()"
   ]
  },
  {
   "cell_type": "markdown",
   "id": "32d282b7",
   "metadata": {
    "papermill": {
     "duration": 0.075052,
     "end_time": "2023-07-13T15:05:09.340380",
     "exception": false,
     "start_time": "2023-07-13T15:05:09.265328",
     "status": "completed"
    },
    "tags": []
   },
   "source": [
    "#### By Attribute"
   ]
  },
  {
   "cell_type": "code",
   "execution_count": null,
   "id": "23d29373",
   "metadata": {
    "papermill": {
     "duration": 0.131167,
     "end_time": "2023-07-13T15:05:09.549067",
     "exception": false,
     "start_time": "2023-07-13T15:05:09.417900",
     "status": "completed"
    },
    "tags": []
   },
   "outputs": [],
   "source": [
    "monster_crosstab = pd.crosstab(cards_df[\"Monster type\"], cards_df[\"Attribute\"])\n",
    "monster_crosstab"
   ]
  },
  {
   "cell_type": "code",
   "execution_count": null,
   "id": "fd9ca22d",
   "metadata": {
    "papermill": {
     "duration": 1.380626,
     "end_time": "2023-07-13T15:05:11.007816",
     "exception": false,
     "start_time": "2023-07-13T15:05:09.627190",
     "status": "completed"
    },
    "tags": []
   },
   "outputs": [],
   "source": [
    "plt.figure(figsize=(20, 5))\n",
    "sns.heatmap(\n",
    "    monster_crosstab[monster_crosstab > 0].T,\n",
    "    annot=True,\n",
    "    fmt=\"g\",\n",
    "    cmap=\"viridis\",\n",
    "    square=True,\n",
    "    norm=mc.LogNorm(),\n",
    ")\n",
    "plt.show()"
   ]
  },
  {
   "cell_type": "markdown",
   "id": "4daa9957",
   "metadata": {
    "papermill": {
     "duration": 0.078243,
     "end_time": "2023-07-13T15:05:11.171260",
     "exception": false,
     "start_time": "2023-07-13T15:05:11.093017",
     "status": "completed"
    },
    "tags": []
   },
   "source": [
    "#### By primary type"
   ]
  },
  {
   "cell_type": "code",
   "execution_count": null,
   "id": "0f5d0eda",
   "metadata": {
    "papermill": {
     "duration": 0.141689,
     "end_time": "2023-07-13T15:05:11.393569",
     "exception": false,
     "start_time": "2023-07-13T15:05:11.251880",
     "status": "completed"
    },
    "tags": []
   },
   "outputs": [],
   "source": [
    "monster_crosstab_b = pd.crosstab(\n",
    "    cards_df[\"Monster type\"], cards_df[\"Primary type\"], dropna=False\n",
    ")\n",
    "monster_crosstab_b"
   ]
  },
  {
   "cell_type": "code",
   "execution_count": null,
   "id": "5f3b531c",
   "metadata": {
    "papermill": {
     "duration": 1.448344,
     "end_time": "2023-07-13T15:05:12.925545",
     "exception": false,
     "start_time": "2023-07-13T15:05:11.477201",
     "status": "completed"
    },
    "tags": []
   },
   "outputs": [],
   "source": [
    "plt.figure(figsize=(20, 5))\n",
    "sns.heatmap(\n",
    "    monster_crosstab_b[monster_crosstab_b > 0].T,\n",
    "    annot=True,\n",
    "    fmt=\"g\",\n",
    "    cmap=\"viridis\",\n",
    "    square=True,\n",
    "    norm=mc.LogNorm(),\n",
    ")\n",
    "plt.show()"
   ]
  },
  {
   "cell_type": "markdown",
   "id": "9056b880",
   "metadata": {
    "papermill": {
     "duration": 0.086962,
     "end_time": "2023-07-13T15:05:13.095853",
     "exception": false,
     "start_time": "2023-07-13T15:05:13.008891",
     "status": "completed"
    },
    "tags": []
   },
   "source": [
    "#### By secondary type"
   ]
  },
  {
   "cell_type": "code",
   "execution_count": null,
   "id": "cbe5bef6",
   "metadata": {
    "papermill": {
     "duration": 0.123146,
     "end_time": "2023-07-13T15:05:13.301160",
     "exception": false,
     "start_time": "2023-07-13T15:05:13.178014",
     "status": "completed"
    },
    "tags": []
   },
   "outputs": [],
   "source": [
    "monster_crosstab_c = pd.crosstab(\n",
    "    exploded_secondary_type[\"Monster type\"],\n",
    "    exploded_secondary_type[\"Secondary type\"],\n",
    "    dropna=False,\n",
    ")\n",
    "monster_crosstab_c"
   ]
  },
  {
   "cell_type": "code",
   "execution_count": null,
   "id": "3712cc0e",
   "metadata": {
    "papermill": {
     "duration": 1.027197,
     "end_time": "2023-07-13T15:05:14.410997",
     "exception": false,
     "start_time": "2023-07-13T15:05:13.383800",
     "status": "completed"
    },
    "tags": []
   },
   "outputs": [],
   "source": [
    "plt.figure(figsize=(20, 5))\n",
    "sns.heatmap(\n",
    "    monster_crosstab_c[monster_crosstab_c > 0].T,\n",
    "    annot=True,\n",
    "    fmt=\"g\",\n",
    "    cmap=\"viridis\",\n",
    "    square=True,\n",
    "    norm=mc.LogNorm(),\n",
    ")\n",
    "plt.show()"
   ]
  },
  {
   "cell_type": "markdown",
   "id": "aaf6f5d6",
   "metadata": {
    "papermill": {
     "duration": 0.084165,
     "end_time": "2023-07-13T15:05:14.579565",
     "exception": false,
     "start_time": "2023-07-13T15:05:14.495400",
     "status": "completed"
    },
    "tags": []
   },
   "source": [
    "### Effect type"
   ]
  },
  {
   "cell_type": "code",
   "execution_count": null,
   "id": "b44949a6",
   "metadata": {
    "papermill": {
     "duration": 0.190667,
     "end_time": "2023-07-13T15:05:14.855439",
     "exception": false,
     "start_time": "2023-07-13T15:05:14.664772",
     "status": "completed"
    },
    "tags": []
   },
   "outputs": [],
   "source": [
    "print(\"Total number of effect types:\", monster_df[\"Effect type\"].explode().nunique())"
   ]
  },
  {
   "cell_type": "code",
   "execution_count": null,
   "id": "c4e48718",
   "metadata": {
    "papermill": {
     "duration": 0.316799,
     "end_time": "2023-07-13T15:05:15.257781",
     "exception": false,
     "start_time": "2023-07-13T15:05:14.940982",
     "status": "completed"
    },
    "tags": []
   },
   "outputs": [],
   "source": [
    "monster_df[monster_df[\"Effect type\"].notna()].drop(\n",
    "    columns=[\"Card type\", \"Page name\", \"Page URL\"]\n",
    ").explode(\"Effect type\").groupby(\"Effect type\").nunique()"
   ]
  },
  {
   "cell_type": "code",
   "execution_count": null,
   "id": "ff912d52",
   "metadata": {
    "papermill": {
     "duration": 0.466694,
     "end_time": "2023-07-13T15:05:15.809945",
     "exception": false,
     "start_time": "2023-07-13T15:05:15.343251",
     "status": "completed"
    },
    "tags": []
   },
   "outputs": [],
   "source": [
    "monster_effect_colors = colors_dict[\"Effect Monster\"]\n",
    "monster_df[\"Effect type\"].explode(\"Effect type\").value_counts().plot.bar(\n",
    "    figsize=(18, 6), grid=True, color=monster_effect_colors, title=\"Effect type\"\n",
    ")\n",
    "# plt.yscale('log')\n",
    "plt.show()"
   ]
  },
  {
   "cell_type": "markdown",
   "id": "371f2c74",
   "metadata": {
    "papermill": {
     "duration": 0.085086,
     "end_time": "2023-07-13T15:05:15.983350",
     "exception": false,
     "start_time": "2023-07-13T15:05:15.898264",
     "status": "completed"
    },
    "tags": []
   },
   "source": [
    "### ATK"
   ]
  },
  {
   "cell_type": "code",
   "execution_count": null,
   "id": "1b5db865",
   "metadata": {
    "papermill": {
     "duration": 0.104152,
     "end_time": "2023-07-13T15:05:16.174405",
     "exception": false,
     "start_time": "2023-07-13T15:05:16.070253",
     "status": "completed"
    },
    "tags": []
   },
   "outputs": [],
   "source": [
    "print(\"Total number of ATK values:\", monster_df[\"ATK\"].nunique())"
   ]
  },
  {
   "cell_type": "code",
   "execution_count": null,
   "id": "16b9aa14",
   "metadata": {
    "papermill": {
     "duration": 0.185201,
     "end_time": "2023-07-13T15:05:16.447209",
     "exception": false,
     "start_time": "2023-07-13T15:05:16.262008",
     "status": "completed"
    },
    "tags": []
   },
   "outputs": [],
   "source": [
    "monster_df.drop(columns=[\"Card type\", \"Page name\", \"Page URL\"]).groupby(\n",
    "    \"ATK\"\n",
    ").nunique().sort_index(key=lambda x: pd.to_numeric(x, errors=\"coerce\"))"
   ]
  },
  {
   "cell_type": "code",
   "execution_count": null,
   "id": "3b1b2e1d",
   "metadata": {
    "papermill": {
     "duration": 1.04646,
     "end_time": "2023-07-13T15:05:17.581695",
     "exception": false,
     "start_time": "2023-07-13T15:05:16.535235",
     "status": "completed"
    },
    "tags": []
   },
   "outputs": [],
   "source": [
    "atk_colors = colors_dict[\"Monster Card\"]\n",
    "monster_df[\"ATK\"].value_counts().sort_index(\n",
    "    key=lambda x: pd.to_numeric(x, errors=\"coerce\")\n",
    ").plot.bar(figsize=(18, 6), grid=True, color=atk_colors, title=\"ATK\")\n",
    "plt.show()"
   ]
  },
  {
   "cell_type": "markdown",
   "id": "cda8b288",
   "metadata": {
    "papermill": {
     "duration": 0.086744,
     "end_time": "2023-07-13T15:05:17.756235",
     "exception": false,
     "start_time": "2023-07-13T15:05:17.669491",
     "status": "completed"
    },
    "tags": []
   },
   "source": [
    "### DEF"
   ]
  },
  {
   "cell_type": "code",
   "execution_count": null,
   "id": "2aa0ba61",
   "metadata": {
    "papermill": {
     "duration": 0.102955,
     "end_time": "2023-07-13T15:05:17.956066",
     "exception": false,
     "start_time": "2023-07-13T15:05:17.853111",
     "status": "completed"
    },
    "tags": []
   },
   "outputs": [],
   "source": [
    "print(\"Total number of DEF values:\", monster_df[\"DEF\"].nunique())"
   ]
  },
  {
   "cell_type": "code",
   "execution_count": null,
   "id": "54e9d56a",
   "metadata": {
    "papermill": {
     "duration": 0.185824,
     "end_time": "2023-07-13T15:05:18.231886",
     "exception": false,
     "start_time": "2023-07-13T15:05:18.046062",
     "status": "completed"
    },
    "tags": []
   },
   "outputs": [],
   "source": [
    "monster_df.drop(columns=[\"Card type\", \"Page name\", \"Page URL\"]).groupby(\n",
    "    \"DEF\"\n",
    ").nunique().sort_index(key=lambda x: pd.to_numeric(x, errors=\"coerce\"))"
   ]
  },
  {
   "cell_type": "code",
   "execution_count": null,
   "id": "10aeff48",
   "metadata": {
    "papermill": {
     "duration": 1.150212,
     "end_time": "2023-07-13T15:05:19.471743",
     "exception": false,
     "start_time": "2023-07-13T15:05:18.321531",
     "status": "completed"
    },
    "tags": []
   },
   "outputs": [],
   "source": [
    "def_colors = colors_dict[\"Monster Card\"]\n",
    "monster_df[\"DEF\"].value_counts().sort_index(\n",
    "    key=lambda x: pd.to_numeric(x, errors=\"coerce\")\n",
    ").plot.bar(figsize=(18, 6), grid=True, color=def_colors, title=\"DEF\")\n",
    "plt.show()"
   ]
  },
  {
   "cell_type": "markdown",
   "id": "4f26bf6d",
   "metadata": {
    "papermill": {
     "duration": 0.161672,
     "end_time": "2023-07-13T15:05:19.727445",
     "exception": false,
     "start_time": "2023-07-13T15:05:19.565773",
     "status": "completed"
    },
    "tags": []
   },
   "source": [
    "### Level/Rank"
   ]
  },
  {
   "cell_type": "code",
   "execution_count": null,
   "id": "f5543138",
   "metadata": {
    "papermill": {
     "duration": 0.194915,
     "end_time": "2023-07-13T15:05:20.011778",
     "exception": false,
     "start_time": "2023-07-13T15:05:19.816863",
     "status": "completed"
    },
    "tags": []
   },
   "outputs": [],
   "source": [
    "monster_df.drop(\n",
    "    columns=[\"Card type\", \"Link\", \"Link Arrows\", \"Page name\", \"Page URL\"]\n",
    ").groupby(\"Level/Rank\").nunique().sort_index(\n",
    "    key=lambda x: pd.to_numeric(x, errors=\"coerce\")\n",
    ")"
   ]
  },
  {
   "cell_type": "code",
   "execution_count": null,
   "id": "31539bdc",
   "metadata": {
    "papermill": {
     "duration": 0.394687,
     "end_time": "2023-07-13T15:05:20.497338",
     "exception": false,
     "start_time": "2023-07-13T15:05:20.102651",
     "status": "completed"
    },
    "tags": []
   },
   "outputs": [],
   "source": [
    "stars_colors = colors_dict[\"Level\"]\n",
    "monster_df[\"Level/Rank\"].value_counts().sort_index(\n",
    "    key=lambda x: pd.to_numeric(x, errors=\"coerce\")\n",
    ").plot.bar(figsize=(18, 6), grid=True, rot=0, color=stars_colors, title=\"Level/Rank\")\n",
    "plt.show()"
   ]
  },
  {
   "cell_type": "markdown",
   "id": "6a08e2b8",
   "metadata": {
    "papermill": {
     "duration": 0.089388,
     "end_time": "2023-07-13T15:05:20.676569",
     "exception": false,
     "start_time": "2023-07-13T15:05:20.587181",
     "status": "completed"
    },
    "tags": []
   },
   "source": [
    "#### ATK statistics"
   ]
  },
  {
   "cell_type": "code",
   "execution_count": null,
   "id": "06dc9107",
   "metadata": {
    "papermill": {
     "duration": 0.19143,
     "end_time": "2023-07-13T15:05:20.958341",
     "exception": false,
     "start_time": "2023-07-13T15:05:20.766911",
     "status": "completed"
    },
    "tags": []
   },
   "outputs": [],
   "source": [
    "monster_df[[\"Level/Rank\", \"ATK\"]].apply(pd.to_numeric, errors=\"coerce\").dropna().astype(\n",
    "    int\n",
    ").groupby(\"Level/Rank\").describe()"
   ]
  },
  {
   "cell_type": "markdown",
   "id": "b8a04916",
   "metadata": {
    "papermill": {
     "duration": 0.089961,
     "end_time": "2023-07-13T15:05:21.138833",
     "exception": false,
     "start_time": "2023-07-13T15:05:21.048872",
     "status": "completed"
    },
    "tags": []
   },
   "source": [
    "#### DEF statistics"
   ]
  },
  {
   "cell_type": "code",
   "execution_count": null,
   "id": "cc005e78",
   "metadata": {
    "papermill": {
     "duration": 0.193765,
     "end_time": "2023-07-13T15:05:21.423418",
     "exception": false,
     "start_time": "2023-07-13T15:05:21.229653",
     "status": "completed"
    },
    "tags": []
   },
   "outputs": [],
   "source": [
    "monster_df[[\"Level/Rank\", \"DEF\"]].apply(pd.to_numeric, errors=\"coerce\").dropna().astype(\n",
    "    int\n",
    ").groupby(\"Level/Rank\").describe()"
   ]
  },
  {
   "cell_type": "markdown",
   "id": "4029a29d",
   "metadata": {
    "papermill": {
     "duration": 0.090977,
     "end_time": "2023-07-13T15:05:21.606448",
     "exception": false,
     "start_time": "2023-07-13T15:05:21.515471",
     "status": "completed"
    },
    "tags": []
   },
   "source": [
    "### Pendulum scale"
   ]
  },
  {
   "cell_type": "code",
   "execution_count": null,
   "id": "9db07376",
   "metadata": {
    "papermill": {
     "duration": 0.175594,
     "end_time": "2023-07-13T15:05:21.872487",
     "exception": false,
     "start_time": "2023-07-13T15:05:21.696893",
     "status": "completed"
    },
    "tags": []
   },
   "outputs": [],
   "source": [
    "monster_df.drop(\n",
    "    columns=[\"Card type\", \"Link\", \"Link Arrows\", \"Page name\", \"Page URL\"]\n",
    ").groupby(\"Pendulum Scale\").nunique().sort_index(\n",
    "    key=lambda x: pd.to_numeric(x, errors=\"coerce\")\n",
    ")"
   ]
  },
  {
   "cell_type": "code",
   "execution_count": null,
   "id": "331eba0b",
   "metadata": {
    "papermill": {
     "duration": 0.425571,
     "end_time": "2023-07-13T15:05:22.390050",
     "exception": false,
     "start_time": "2023-07-13T15:05:21.964479",
     "status": "completed"
    },
    "tags": []
   },
   "outputs": [],
   "source": [
    "scales_colors = colors_dict[\"Pendulum Monster\"]\n",
    "monster_df[\"Pendulum Scale\"].value_counts().sort_index(\n",
    "    key=lambda x: pd.to_numeric(x, errors=\"coerce\")\n",
    ").plot.bar(\n",
    "    figsize=(18, 6), grid=True, rot=0, color=scales_colors, title=\"Pendulum scale\"\n",
    ")\n",
    "plt.show()"
   ]
  },
  {
   "cell_type": "markdown",
   "id": "c4cee785",
   "metadata": {
    "papermill": {
     "duration": 0.092543,
     "end_time": "2023-07-13T15:05:22.577336",
     "exception": false,
     "start_time": "2023-07-13T15:05:22.484793",
     "status": "completed"
    },
    "tags": []
   },
   "source": [
    "#### ATK statistics"
   ]
  },
  {
   "cell_type": "code",
   "execution_count": null,
   "id": "75427d69",
   "metadata": {
    "papermill": {
     "duration": 0.193151,
     "end_time": "2023-07-13T15:05:22.865112",
     "exception": false,
     "start_time": "2023-07-13T15:05:22.671961",
     "status": "completed"
    },
    "tags": []
   },
   "outputs": [],
   "source": [
    "monster_df[[\"Pendulum Scale\", \"ATK\"]].apply(\n",
    "    pd.to_numeric, errors=\"coerce\"\n",
    ").dropna().astype(int).groupby(\"Pendulum Scale\").describe()"
   ]
  },
  {
   "cell_type": "markdown",
   "id": "3ee4da76",
   "metadata": {
    "papermill": {
     "duration": 0.189166,
     "end_time": "2023-07-13T15:05:23.146979",
     "exception": false,
     "start_time": "2023-07-13T15:05:22.957813",
     "status": "completed"
    },
    "tags": []
   },
   "source": [
    "#### DEF statistics"
   ]
  },
  {
   "cell_type": "code",
   "execution_count": null,
   "id": "c474abd4",
   "metadata": {
    "papermill": {
     "duration": 0.194869,
     "end_time": "2023-07-13T15:05:23.434576",
     "exception": false,
     "start_time": "2023-07-13T15:05:23.239707",
     "status": "completed"
    },
    "tags": []
   },
   "outputs": [],
   "source": [
    "monster_df[[\"Pendulum Scale\", \"DEF\"]].apply(\n",
    "    pd.to_numeric, errors=\"coerce\"\n",
    ").dropna().astype(int).groupby(\"Pendulum Scale\").describe()"
   ]
  },
  {
   "cell_type": "markdown",
   "id": "87d81ad5",
   "metadata": {
    "papermill": {
     "duration": 0.092388,
     "end_time": "2023-07-13T15:05:23.620510",
     "exception": false,
     "start_time": "2023-07-13T15:05:23.528122",
     "status": "completed"
    },
    "tags": []
   },
   "source": [
    "#### Level/Rank statistics"
   ]
  },
  {
   "cell_type": "code",
   "execution_count": null,
   "id": "027c9b3e",
   "metadata": {
    "papermill": {
     "duration": 0.191476,
     "end_time": "2023-07-13T15:05:23.904817",
     "exception": false,
     "start_time": "2023-07-13T15:05:23.713341",
     "status": "completed"
    },
    "tags": []
   },
   "outputs": [],
   "source": [
    "monster_df[[\"Pendulum Scale\", \"Level/Rank\"]].apply(\n",
    "    pd.to_numeric, errors=\"coerce\"\n",
    ").dropna().astype(int).groupby(\"Pendulum Scale\").describe()"
   ]
  },
  {
   "cell_type": "markdown",
   "id": "93f3aba0",
   "metadata": {
    "papermill": {
     "duration": 0.095482,
     "end_time": "2023-07-13T15:05:24.095613",
     "exception": false,
     "start_time": "2023-07-13T15:05:24.000131",
     "status": "completed"
    },
    "tags": []
   },
   "source": [
    "### Link"
   ]
  },
  {
   "cell_type": "code",
   "execution_count": null,
   "id": "3ba56226",
   "metadata": {
    "papermill": {
     "duration": 0.16921,
     "end_time": "2023-07-13T15:05:24.358920",
     "exception": false,
     "start_time": "2023-07-13T15:05:24.189710",
     "status": "completed"
    },
    "tags": []
   },
   "outputs": [],
   "source": [
    "monster_df.drop(\n",
    "    columns=[\n",
    "        \"Card type\",\n",
    "        \"Primary type\",\n",
    "        \"Secondary type\",\n",
    "        \"Level/Rank\",\n",
    "        \"DEF\",\n",
    "        \"Pendulum Scale\",\n",
    "        \"Page name\",\n",
    "        \"Page URL\",\n",
    "    ]\n",
    ").groupby(\"Link\").nunique().sort_index(key=lambda x: pd.to_numeric(x, errors=\"coerce\"))"
   ]
  },
  {
   "cell_type": "code",
   "execution_count": null,
   "id": "3afbb00a",
   "metadata": {
    "papermill": {
     "duration": 0.361009,
     "end_time": "2023-07-13T15:05:24.813933",
     "exception": false,
     "start_time": "2023-07-13T15:05:24.452924",
     "status": "completed"
    },
    "tags": []
   },
   "outputs": [],
   "source": [
    "link_colors = colors_dict[\"Link Monster\"]\n",
    "monster_df[\"Link\"].value_counts().sort_index(\n",
    "    key=lambda x: pd.to_numeric(x, errors=\"coerce\")\n",
    ").plot.bar(figsize=(18, 6), grid=True, rot=0, color=link_colors, title=\"Link\")\n",
    "plt.show()"
   ]
  },
  {
   "cell_type": "markdown",
   "id": "5f20abde",
   "metadata": {
    "papermill": {
     "duration": 0.138332,
     "end_time": "2023-07-13T15:05:25.047820",
     "exception": false,
     "start_time": "2023-07-13T15:05:24.909488",
     "status": "completed"
    },
    "tags": []
   },
   "source": [
    "#### ATK statistics"
   ]
  },
  {
   "cell_type": "code",
   "execution_count": null,
   "id": "c80d9372",
   "metadata": {
    "papermill": {
     "duration": 0.162293,
     "end_time": "2023-07-13T15:05:25.305775",
     "exception": false,
     "start_time": "2023-07-13T15:05:25.143482",
     "status": "completed"
    },
    "tags": []
   },
   "outputs": [],
   "source": [
    "monster_df[[\"Link\", \"ATK\"]].apply(pd.to_numeric, errors=\"coerce\").dropna().astype(\n",
    "    int\n",
    ").groupby(\"Link\").describe()"
   ]
  },
  {
   "cell_type": "markdown",
   "id": "f585a876",
   "metadata": {
    "papermill": {
     "duration": 0.094059,
     "end_time": "2023-07-13T15:05:25.496650",
     "exception": false,
     "start_time": "2023-07-13T15:05:25.402591",
     "status": "completed"
    },
    "tags": []
   },
   "source": [
    "### Link Arrows"
   ]
  },
  {
   "cell_type": "markdown",
   "id": "b1373514",
   "metadata": {
    "papermill": {
     "duration": 0.095519,
     "end_time": "2023-07-13T15:05:25.689725",
     "exception": false,
     "start_time": "2023-07-13T15:05:25.594206",
     "status": "completed"
    },
    "tags": []
   },
   "source": [
    "#### By combination"
   ]
  },
  {
   "cell_type": "code",
   "execution_count": null,
   "id": "1130304f",
   "metadata": {
    "papermill": {
     "duration": 0.109775,
     "end_time": "2023-07-13T15:05:25.895513",
     "exception": false,
     "start_time": "2023-07-13T15:05:25.785738",
     "status": "completed"
    },
    "tags": []
   },
   "outputs": [],
   "source": [
    "print(\"Total number of link arrow combinations:\", monster_df[\"Link Arrows\"].nunique())"
   ]
  },
  {
   "cell_type": "code",
   "execution_count": null,
   "id": "7acfc7a1",
   "metadata": {
    "papermill": {
     "duration": 0.17376,
     "end_time": "2023-07-13T15:05:26.165423",
     "exception": false,
     "start_time": "2023-07-13T15:05:25.991663",
     "status": "completed"
    },
    "tags": []
   },
   "outputs": [],
   "source": [
    "monster_df.drop(\n",
    "    columns=[\n",
    "        \"Card type\",\n",
    "        \"Primary type\",\n",
    "        \"Level/Rank\",\n",
    "        \"Pendulum Scale\",\n",
    "        \"Link\",\n",
    "        \"Secondary type\",\n",
    "        \"DEF\",\n",
    "        \"Page name\",\n",
    "        \"Page URL\",\n",
    "    ]\n",
    ").groupby(\"Link Arrows\").nunique()"
   ]
  },
  {
   "cell_type": "code",
   "execution_count": null,
   "id": "66c65c93",
   "metadata": {
    "papermill": {
     "duration": 1.266416,
     "end_time": "2023-07-13T15:05:27.527964",
     "exception": false,
     "start_time": "2023-07-13T15:05:26.261548",
     "status": "completed"
    },
    "tags": []
   },
   "outputs": [],
   "source": [
    "arrows_colors = colors_dict[\"Link Monster\"]\n",
    "monster_df[\"Link Arrows\"].value_counts().plot.barh(\n",
    "    figsize=(10, 20), grid=True, color=arrows_colors, title=\"Link arrows combinations\"\n",
    ")\n",
    "plt.show()"
   ]
  },
  {
   "cell_type": "markdown",
   "id": "aa520eaf",
   "metadata": {
    "papermill": {
     "duration": 0.097504,
     "end_time": "2023-07-13T15:05:27.729875",
     "exception": false,
     "start_time": "2023-07-13T15:05:27.632371",
     "status": "completed"
    },
    "tags": []
   },
   "source": [
    "#### By unique"
   ]
  },
  {
   "cell_type": "code",
   "execution_count": null,
   "id": "85cda4e5",
   "metadata": {
    "papermill": {
     "duration": 0.155439,
     "end_time": "2023-07-13T15:05:27.983309",
     "exception": false,
     "start_time": "2023-07-13T15:05:27.827870",
     "status": "completed"
    },
    "tags": []
   },
   "outputs": [],
   "source": [
    "monster_df[monster_df[\"Link Arrows\"].notna()].drop(\n",
    "    columns=[\n",
    "        \"Card type\",\n",
    "        \"Primary type\",\n",
    "        \"Level/Rank\",\n",
    "        \"Pendulum Scale\",\n",
    "        \"Secondary type\",\n",
    "        \"DEF\",\n",
    "        \"Page name\",\n",
    "        \"Page URL\",\n",
    "    ]\n",
    ").explode(\"Link Arrows\").groupby(\"Link Arrows\").nunique()"
   ]
  },
  {
   "cell_type": "code",
   "execution_count": null,
   "id": "c3161d6e",
   "metadata": {
    "papermill": {
     "duration": 1.256221,
     "end_time": "2023-07-13T15:05:29.342104",
     "exception": false,
     "start_time": "2023-07-13T15:05:28.085883",
     "status": "completed"
    },
    "tags": []
   },
   "outputs": [],
   "source": [
    "arrow_plot(monster_df[\"Link Arrows\"].explode(\"Link Arrows\"))"
   ]
  },
  {
   "cell_type": "markdown",
   "id": "e36f6792",
   "metadata": {
    "papermill": {
     "duration": 0.189668,
     "end_time": "2023-07-13T15:05:29.635417",
     "exception": false,
     "start_time": "2023-07-13T15:05:29.445749",
     "status": "completed"
    },
    "tags": []
   },
   "source": [
    "#### By link"
   ]
  },
  {
   "cell_type": "code",
   "execution_count": null,
   "id": "8a6b3372",
   "metadata": {
    "papermill": {
     "duration": 0.153981,
     "end_time": "2023-07-13T15:05:29.978995",
     "exception": false,
     "start_time": "2023-07-13T15:05:29.825014",
     "status": "completed"
    },
    "tags": []
   },
   "outputs": [],
   "source": [
    "arrow_per_link = monster_df[[\"Link Arrows\", \"Link\"]].explode(\"Link Arrows\").dropna()\n",
    "arrow_crosstab = pd.crosstab(arrow_per_link[\"Link Arrows\"], arrow_per_link[\"Link\"])\n",
    "arrow_crosstab"
   ]
  },
  {
   "cell_type": "code",
   "execution_count": null,
   "id": "a22dab12",
   "metadata": {
    "papermill": {
     "duration": 0.709023,
     "end_time": "2023-07-13T15:05:30.789358",
     "exception": false,
     "start_time": "2023-07-13T15:05:30.080335",
     "status": "completed"
    },
    "tags": []
   },
   "outputs": [],
   "source": [
    "plt.figure(figsize=(10, 6))\n",
    "sns.heatmap(\n",
    "    arrow_crosstab[arrow_crosstab > 0].T,\n",
    "    annot=True,\n",
    "    fmt=\"g\",\n",
    "    cmap=\"viridis\",\n",
    "    square=True,\n",
    "    norm=mc.LogNorm(),\n",
    ")\n",
    "plt.show()"
   ]
  },
  {
   "cell_type": "markdown",
   "id": "bb0bbf58",
   "metadata": {
    "papermill": {
     "duration": 0.100384,
     "end_time": "2023-07-13T15:05:30.990924",
     "exception": false,
     "start_time": "2023-07-13T15:05:30.890540",
     "status": "completed"
    },
    "tags": []
   },
   "source": [
    "## Spell & Trap"
   ]
  },
  {
   "cell_type": "markdown",
   "id": "f47b1472",
   "metadata": {
    "papermill": {
     "duration": 0.099906,
     "end_time": "2023-07-13T15:05:31.192032",
     "exception": false,
     "start_time": "2023-07-13T15:05:31.092126",
     "status": "completed"
    },
    "tags": []
   },
   "source": [
    "### Properties"
   ]
  },
  {
   "cell_type": "code",
   "execution_count": null,
   "id": "fdd7cb44",
   "metadata": {
    "papermill": {
     "duration": 0.115988,
     "end_time": "2023-07-13T15:05:31.408969",
     "exception": false,
     "start_time": "2023-07-13T15:05:31.292981",
     "status": "completed"
    },
    "tags": []
   },
   "outputs": [],
   "source": [
    "print(\"Total number of properties:\", st_df[\"Property\"].nunique())"
   ]
  },
  {
   "cell_type": "code",
   "execution_count": null,
   "id": "52c0aa20",
   "metadata": {
    "papermill": {
     "duration": 0.193152,
     "end_time": "2023-07-13T15:05:31.703650",
     "exception": false,
     "start_time": "2023-07-13T15:05:31.510498",
     "status": "completed"
    },
    "tags": []
   },
   "outputs": [],
   "source": [
    "st_df.drop(columns=[\"Card type\", \"Page name\", \"Page URL\"]).groupby(\"Property\").nunique()"
   ]
  },
  {
   "cell_type": "code",
   "execution_count": null,
   "id": "cd537db7",
   "metadata": {
    "papermill": {
     "duration": 0.503423,
     "end_time": "2023-07-13T15:05:32.326170",
     "exception": false,
     "start_time": "2023-07-13T15:05:31.822747",
     "status": "completed"
    },
    "tags": []
   },
   "outputs": [],
   "source": [
    "st_colors = [\n",
    "    colors_dict[i]\n",
    "    for i in cards_df[[\"Card type\", \"Property\"]]\n",
    "    .value_counts()\n",
    "    .index.get_level_values(0)\n",
    "]\n",
    "st_df[\"Property\"].value_counts().plot.bar(\n",
    "    figsize=(18, 6), grid=True, rot=45, color=st_colors, title=\"Property\"\n",
    ")\n",
    "plt.show()"
   ]
  },
  {
   "cell_type": "markdown",
   "id": "eab733b7",
   "metadata": {
    "jp-MarkdownHeadingCollapsed": true,
    "papermill": {
     "duration": 0.10293,
     "end_time": "2023-07-13T15:05:32.534103",
     "exception": false,
     "start_time": "2023-07-13T15:05:32.431173",
     "status": "completed"
    },
    "tags": []
   },
   "source": [
    "### Effect type"
   ]
  },
  {
   "cell_type": "code",
   "execution_count": null,
   "id": "f955ec1d",
   "metadata": {
    "papermill": {
     "duration": 0.131211,
     "end_time": "2023-07-13T15:05:32.770287",
     "exception": false,
     "start_time": "2023-07-13T15:05:32.639076",
     "status": "completed"
    },
    "tags": []
   },
   "outputs": [],
   "source": [
    "print(\"Total number of effect types:\", st_df[\"Effect type\"].explode().nunique())"
   ]
  },
  {
   "cell_type": "code",
   "execution_count": null,
   "id": "9e0f62a2",
   "metadata": {
    "papermill": {
     "duration": 0.216805,
     "end_time": "2023-07-13T15:05:33.090431",
     "exception": false,
     "start_time": "2023-07-13T15:05:32.873626",
     "status": "completed"
    },
    "tags": []
   },
   "outputs": [],
   "source": [
    "st_df.explode(\"Effect type\").groupby(\"Effect type\").nunique()"
   ]
  },
  {
   "cell_type": "markdown",
   "id": "64868037",
   "metadata": {
    "papermill": {
     "duration": 0.104756,
     "end_time": "2023-07-13T15:05:33.299519",
     "exception": false,
     "start_time": "2023-07-13T15:05:33.194763",
     "status": "completed"
    },
    "tags": []
   },
   "source": [
    "#### Spell & Trap discrimination"
   ]
  },
  {
   "cell_type": "code",
   "execution_count": null,
   "id": "75843f9d",
   "metadata": {
    "papermill": {
     "duration": 0.149273,
     "end_time": "2023-07-13T15:05:33.552041",
     "exception": false,
     "start_time": "2023-07-13T15:05:33.402768",
     "status": "completed"
    },
    "tags": []
   },
   "outputs": [],
   "source": [
    "st_diff = (\n",
    "    st_df[[\"Card type\", \"Effect type\"]]\n",
    "    .explode(\"Effect type\")\n",
    "    .value_counts()\n",
    "    .unstack(0)\n",
    "    .fillna(0)\n",
    "    .astype(int)\n",
    ")\n",
    "st_diff"
   ]
  },
  {
   "cell_type": "code",
   "execution_count": null,
   "id": "373757a0",
   "metadata": {
    "papermill": {
     "duration": 0.685447,
     "end_time": "2023-07-13T15:05:34.345135",
     "exception": false,
     "start_time": "2023-07-13T15:05:33.659688",
     "status": "completed"
    },
    "tags": []
   },
   "outputs": [],
   "source": [
    "st_diff_colors = {\n",
    "    \"Spell Card\": colors_dict[\"Spell Card\"],\n",
    "    \"Trap Card\": colors_dict[\"Trap Card\"],\n",
    "}\n",
    "st_diff.plot.bar(figsize=(18, 6), stacked=True, grid=True, rot=45, color=st_diff_colors)\n",
    "plt.show()"
   ]
  },
  {
   "cell_type": "markdown",
   "id": "0013b7c7",
   "metadata": {
    "papermill": {
     "duration": 0.105462,
     "end_time": "2023-07-13T15:05:34.558701",
     "exception": false,
     "start_time": "2023-07-13T15:05:34.453239",
     "status": "completed"
    },
    "tags": []
   },
   "source": [
    "## Archseries"
   ]
  },
  {
   "cell_type": "code",
   "execution_count": null,
   "id": "ce1470dc",
   "metadata": {
    "papermill": {
     "duration": 0.259145,
     "end_time": "2023-07-13T15:05:34.930403",
     "exception": false,
     "start_time": "2023-07-13T15:05:34.671258",
     "status": "completed"
    },
    "tags": []
   },
   "outputs": [],
   "source": [
    "exploded_archseries = cards_df.explode(\"Archseries\")\n",
    "print(\"Total number of Archseries:\", exploded_archseries[\"Archseries\"].nunique())"
   ]
  },
  {
   "cell_type": "code",
   "execution_count": null,
   "id": "f31c5b8c",
   "metadata": {
    "papermill": {
     "duration": 0.263303,
     "end_time": "2023-07-13T15:05:35.307450",
     "exception": false,
     "start_time": "2023-07-13T15:05:35.044147",
     "status": "completed"
    },
    "tags": []
   },
   "outputs": [],
   "source": [
    "exploded_archseries.groupby(\"Archseries\").nunique()"
   ]
  },
  {
   "cell_type": "code",
   "execution_count": null,
   "id": "00c9f321",
   "metadata": {
    "papermill": {
     "duration": 10.442692,
     "end_time": "2023-07-13T15:05:45.859174",
     "exception": false,
     "start_time": "2023-07-13T15:05:35.416482",
     "status": "completed"
    },
    "tags": []
   },
   "outputs": [],
   "source": [
    "exploded_archseries[\"Archseries\"].value_counts().plot.barh(\n",
    "    figsize=(10, 200), grid=True, title=\"Archtypes/Series\"\n",
    ")\n",
    "plt.show()"
   ]
  },
  {
   "cell_type": "markdown",
   "id": "cf3bf55f",
   "metadata": {
    "jp-MarkdownHeadingCollapsed": true,
    "papermill": {
     "duration": 0.13557,
     "end_time": "2023-07-13T15:05:46.134167",
     "exception": false,
     "start_time": "2023-07-13T15:05:45.998597",
     "status": "completed"
    },
    "tags": []
   },
   "source": [
    "### By card type"
   ]
  },
  {
   "cell_type": "code",
   "execution_count": null,
   "id": "fbf65c3c",
   "metadata": {
    "papermill": {
     "duration": 0.343857,
     "end_time": "2023-07-13T15:05:46.613774",
     "exception": false,
     "start_time": "2023-07-13T15:05:46.269917",
     "status": "completed"
    },
    "tags": []
   },
   "outputs": [],
   "source": [
    "archseries_crosstab = pd.crosstab(\n",
    "    exploded_archseries[\"Archseries\"], exploded_archseries[\"Card type\"], margins=True\n",
    ")\n",
    "archseries_crosstab"
   ]
  },
  {
   "cell_type": "markdown",
   "id": "960ea110",
   "metadata": {
    "papermill": {
     "duration": 0.223791,
     "end_time": "2023-07-13T15:05:46.981924",
     "exception": false,
     "start_time": "2023-07-13T15:05:46.758133",
     "status": "completed"
    },
    "tags": []
   },
   "source": [
    "### By primary type"
   ]
  },
  {
   "cell_type": "code",
   "execution_count": null,
   "id": "2c3671f0",
   "metadata": {
    "papermill": {
     "duration": 0.295234,
     "end_time": "2023-07-13T15:05:47.415522",
     "exception": false,
     "start_time": "2023-07-13T15:05:47.120288",
     "status": "completed"
    },
    "tags": []
   },
   "outputs": [],
   "source": [
    "archseries_crosstab_b = pd.crosstab(\n",
    "    exploded_archseries[\"Archseries\"], exploded_archseries[\"Primary type\"], margins=True\n",
    ")\n",
    "archseries_crosstab_b"
   ]
  },
  {
   "cell_type": "markdown",
   "id": "6de5fdac",
   "metadata": {
    "papermill": {
     "duration": 0.21306,
     "end_time": "2023-07-13T15:05:47.843186",
     "exception": false,
     "start_time": "2023-07-13T15:05:47.630126",
     "status": "completed"
    },
    "tags": []
   },
   "source": [
    "\n",
    "\n",
    "### By secondary type"
   ]
  },
  {
   "cell_type": "code",
   "execution_count": null,
   "id": "966a00dd",
   "metadata": {
    "papermill": {
     "duration": 0.267518,
     "end_time": "2023-07-13T15:05:48.261792",
     "exception": false,
     "start_time": "2023-07-13T15:05:47.994274",
     "status": "completed"
    },
    "tags": []
   },
   "outputs": [],
   "source": [
    "exploded_archseries_secondary_type = exploded_archseries[\n",
    "    [\"Archseries\", \"Secondary type\"]\n",
    "].explode(\"Secondary type\")\n",
    "archseries_crosstab_c = pd.crosstab(\n",
    "    exploded_archseries_secondary_type[\"Archseries\"],\n",
    "    exploded_archseries_secondary_type[\"Secondary type\"],\n",
    "    margins=True,\n",
    ")\n",
    "archseries_crosstab_c"
   ]
  },
  {
   "cell_type": "markdown",
   "id": "a881d945",
   "metadata": {
    "papermill": {
     "duration": 0.138774,
     "end_time": "2023-07-13T15:05:48.585288",
     "exception": false,
     "start_time": "2023-07-13T15:05:48.446514",
     "status": "completed"
    },
    "tags": []
   },
   "source": [
    "### By monster type"
   ]
  },
  {
   "cell_type": "code",
   "execution_count": null,
   "id": "d99ee9e1",
   "metadata": {
    "papermill": {
     "duration": 0.355053,
     "end_time": "2023-07-13T15:05:49.076370",
     "exception": false,
     "start_time": "2023-07-13T15:05:48.721317",
     "status": "completed"
    },
    "tags": []
   },
   "outputs": [],
   "source": [
    "archseries_crosstab_d = pd.crosstab(\n",
    "    exploded_archseries[\"Archseries\"], exploded_archseries[\"Monster type\"], margins=True\n",
    ")\n",
    "archseries_crosstab_d"
   ]
  },
  {
   "cell_type": "markdown",
   "id": "f97ab388",
   "metadata": {
    "papermill": {
     "duration": 0.137419,
     "end_time": "2023-07-13T15:05:49.353040",
     "exception": false,
     "start_time": "2023-07-13T15:05:49.215621",
     "status": "completed"
    },
    "tags": []
   },
   "source": [
    "### By property"
   ]
  },
  {
   "cell_type": "code",
   "execution_count": null,
   "id": "fbbb1ccc",
   "metadata": {
    "papermill": {
     "duration": 0.390091,
     "end_time": "2023-07-13T15:05:49.885761",
     "exception": false,
     "start_time": "2023-07-13T15:05:49.495670",
     "status": "completed"
    },
    "tags": []
   },
   "outputs": [],
   "source": [
    "archseries_crosstab_e = pd.crosstab(\n",
    "    exploded_archseries[\"Archseries\"], exploded_archseries[\"Property\"], margins=True\n",
    ")\n",
    "archseries_crosstab_e"
   ]
  },
  {
   "cell_type": "markdown",
   "id": "554f6e74",
   "metadata": {
    "papermill": {
     "duration": 0.238504,
     "end_time": "2023-07-13T15:05:50.264792",
     "exception": false,
     "start_time": "2023-07-13T15:05:50.026288",
     "status": "completed"
    },
    "tags": []
   },
   "source": [
    "## Artworks"
   ]
  },
  {
   "cell_type": "code",
   "execution_count": null,
   "id": "2224e061",
   "metadata": {
    "papermill": {
     "duration": 0.155132,
     "end_time": "2023-07-13T15:05:50.557589",
     "exception": false,
     "start_time": "2023-07-13T15:05:50.402457",
     "status": "completed"
    },
    "tags": []
   },
   "outputs": [],
   "source": [
    "print(\n",
    "    \"Total number of cards with edited or alternate artworks:\",\n",
    "    cards_df[\"Artwork\"].count(),\n",
    ")"
   ]
  },
  {
   "cell_type": "code",
   "execution_count": null,
   "id": "f7492a67",
   "metadata": {
    "papermill": {
     "duration": 0.170042,
     "end_time": "2023-07-13T15:05:50.866869",
     "exception": false,
     "start_time": "2023-07-13T15:05:50.696827",
     "status": "completed"
    },
    "tags": []
   },
   "outputs": [],
   "source": [
    "cards_df[[\"Name\", \"Password\", \"TCG status\", \"OCG status\", \"Artwork\"]][\n",
    "    cards_df[\"Artwork\"].notna()\n",
    "]"
   ]
  },
  {
   "cell_type": "code",
   "execution_count": null,
   "id": "fa1ea6aa",
   "metadata": {
    "papermill": {
     "duration": 0.299311,
     "end_time": "2023-07-13T15:05:51.305496",
     "exception": false,
     "start_time": "2023-07-13T15:05:51.006185",
     "status": "completed"
    },
    "tags": []
   },
   "outputs": [],
   "source": [
    "artwork_value_counts = cards_df[\"Artwork\"].value_counts()\n",
    "plt.figure(figsize=(20, 8))\n",
    "plt.title(\"Artworks\")\n",
    "venn2(\n",
    "    subsets=(\n",
    "        artwork_value_counts[(\"Alternate\",)],\n",
    "        artwork_value_counts[(\"Edited\",)],\n",
    "        artwork_value_counts[(\"Alternate\", \"Edited\")],\n",
    "    ),\n",
    "    set_labels=(\"Alternate artwork\", \"Edited artwork\"),\n",
    ")\n",
    "plt.show()"
   ]
  },
  {
   "cell_type": "markdown",
   "id": "e49df5df",
   "metadata": {
    "papermill": {
     "duration": 0.139111,
     "end_time": "2023-07-13T15:05:51.587861",
     "exception": false,
     "start_time": "2023-07-13T15:05:51.448750",
     "status": "completed"
    },
    "tags": []
   },
   "source": [
    "### By card type"
   ]
  },
  {
   "cell_type": "code",
   "execution_count": null,
   "id": "1b14c224",
   "metadata": {
    "papermill": {
     "duration": 0.17516,
     "end_time": "2023-07-13T15:05:51.902012",
     "exception": false,
     "start_time": "2023-07-13T15:05:51.726852",
     "status": "completed"
    },
    "tags": []
   },
   "outputs": [],
   "source": [
    "artwork_crosstab = pd.crosstab(cards_df[\"Artwork\"], cards_df[\"Card type\"])\n",
    "artwork_crosstab"
   ]
  },
  {
   "cell_type": "markdown",
   "id": "81afa2df",
   "metadata": {
    "papermill": {
     "duration": 0.137722,
     "end_time": "2023-07-13T15:05:52.178547",
     "exception": false,
     "start_time": "2023-07-13T15:05:52.040825",
     "status": "completed"
    },
    "tags": []
   },
   "source": [
    "### By primary type"
   ]
  },
  {
   "cell_type": "code",
   "execution_count": null,
   "id": "55081aa0",
   "metadata": {
    "papermill": {
     "duration": 0.177478,
     "end_time": "2023-07-13T15:05:52.494882",
     "exception": false,
     "start_time": "2023-07-13T15:05:52.317404",
     "status": "completed"
    },
    "tags": []
   },
   "outputs": [],
   "source": [
    "artwork_crosstab_b = pd.crosstab(cards_df[\"Artwork\"], cards_df[\"Primary type\"])\n",
    "artwork_crosstab_b"
   ]
  },
  {
   "cell_type": "markdown",
   "id": "14a90117",
   "metadata": {
    "papermill": {
     "duration": 0.138873,
     "end_time": "2023-07-13T15:05:52.778802",
     "exception": false,
     "start_time": "2023-07-13T15:05:52.639929",
     "status": "completed"
    },
    "tags": []
   },
   "source": [
    "More granularity is unnecessary"
   ]
  },
  {
   "cell_type": "markdown",
   "id": "5210d61b",
   "metadata": {
    "papermill": {
     "duration": 0.169103,
     "end_time": "2023-07-13T15:05:53.090293",
     "exception": false,
     "start_time": "2023-07-13T15:05:52.921190",
     "status": "completed"
    },
    "tags": []
   },
   "source": [
    "## Errata"
   ]
  },
  {
   "cell_type": "code",
   "execution_count": null,
   "id": "09b33100",
   "metadata": {
    "papermill": {
     "duration": 0.29075,
     "end_time": "2023-07-13T15:05:53.540253",
     "exception": false,
     "start_time": "2023-07-13T15:05:53.249503",
     "status": "completed"
    },
    "tags": []
   },
   "outputs": [],
   "source": [
    "print(\"Total number of cards with errata:\", cards_df[\"Errata\"].count())"
   ]
  },
  {
   "cell_type": "code",
   "execution_count": null,
   "id": "40462eee",
   "metadata": {
    "papermill": {
     "duration": 0.175798,
     "end_time": "2023-07-13T15:05:53.857968",
     "exception": false,
     "start_time": "2023-07-13T15:05:53.682170",
     "status": "completed"
    },
    "tags": []
   },
   "outputs": [],
   "source": [
    "cards_df[[\"Name\", \"Password\", \"TCG status\", \"OCG status\", \"Errata\"]][\n",
    "    cards_df[\"Errata\"].notna()\n",
    "]"
   ]
  },
  {
   "cell_type": "code",
   "execution_count": null,
   "id": "9f7d97c2-8569-45b7-baba-01f33e56212b",
   "metadata": {
    "papermill": {
     "duration": 0.279509,
     "end_time": "2023-07-13T15:05:54.281285",
     "exception": false,
     "start_time": "2023-07-13T15:05:54.001776",
     "status": "completed"
    },
    "tags": []
   },
   "outputs": [],
   "source": [
    "errata_counts = (\n",
    "    cards_df.groupby(\"Errata\").nunique().sort_values(\"Name\", ascending=False)\n",
    ")\n",
    "errata_counts"
   ]
  },
  {
   "cell_type": "code",
   "execution_count": null,
   "id": "60843a4f",
   "metadata": {
    "papermill": {
     "duration": 0.301098,
     "end_time": "2023-07-13T15:05:54.725450",
     "exception": false,
     "start_time": "2023-07-13T15:05:54.424352",
     "status": "completed"
    },
    "tags": []
   },
   "outputs": [],
   "source": [
    "plt.figure(figsize=(20, 8))\n",
    "plt.title(\"Errata\")\n",
    "sorted_errata_name_counts = (\n",
    "    errata_counts[\"Name\"]\n",
    "    .drop((\"Any\",))\n",
    "    .sort_index(key=lambda x: [(len(i), i) for i in x])\n",
    ")\n",
    "venn2(\n",
    "    subsets=sorted_errata_name_counts,\n",
    "    set_labels=sorted_errata_name_counts.index[:-1].str[0],\n",
    ")\n",
    "plt.show()"
   ]
  },
  {
   "cell_type": "markdown",
   "id": "a3703983",
   "metadata": {
    "papermill": {
     "duration": 0.143694,
     "end_time": "2023-07-13T15:05:55.011780",
     "exception": false,
     "start_time": "2023-07-13T15:05:54.868086",
     "status": "completed"
    },
    "tags": []
   },
   "source": [
    "### By card type"
   ]
  },
  {
   "cell_type": "code",
   "execution_count": null,
   "id": "fb103c29",
   "metadata": {
    "papermill": {
     "duration": 0.18055,
     "end_time": "2023-07-13T15:05:55.335414",
     "exception": false,
     "start_time": "2023-07-13T15:05:55.154864",
     "status": "completed"
    },
    "tags": []
   },
   "outputs": [],
   "source": [
    "errata_crosstab = pd.crosstab(cards_df[\"Errata\"], cards_df[\"Card type\"])\n",
    "errata_crosstab.sort_values(by=errata_crosstab.columns.tolist(), ascending=False)"
   ]
  },
  {
   "cell_type": "markdown",
   "id": "36d241f1",
   "metadata": {
    "papermill": {
     "duration": 0.143605,
     "end_time": "2023-07-13T15:05:55.621841",
     "exception": false,
     "start_time": "2023-07-13T15:05:55.478236",
     "status": "completed"
    },
    "tags": []
   },
   "source": [
    "### By primary type"
   ]
  },
  {
   "cell_type": "code",
   "execution_count": null,
   "id": "5b90628d",
   "metadata": {
    "papermill": {
     "duration": 0.186004,
     "end_time": "2023-07-13T15:05:55.951327",
     "exception": false,
     "start_time": "2023-07-13T15:05:55.765323",
     "status": "completed"
    },
    "tags": []
   },
   "outputs": [],
   "source": [
    "errata_crosstab_b = pd.crosstab(cards_df[\"Errata\"], cards_df[\"Primary type\"])\n",
    "errata_crosstab_b.sort_values(by=errata_crosstab_b.columns.tolist(), ascending=False)"
   ]
  },
  {
   "cell_type": "markdown",
   "id": "0029e1ca",
   "metadata": {
    "papermill": {
     "duration": 0.142611,
     "end_time": "2023-07-13T15:05:56.236996",
     "exception": false,
     "start_time": "2023-07-13T15:05:56.094385",
     "status": "completed"
    },
    "tags": []
   },
   "source": [
    "More granularity is unnecessary"
   ]
  },
  {
   "cell_type": "markdown",
   "id": "35d88dda",
   "metadata": {
    "papermill": {
     "duration": 0.143025,
     "end_time": "2023-07-13T15:05:56.523623",
     "exception": false,
     "start_time": "2023-07-13T15:05:56.380598",
     "status": "completed"
    },
    "tags": []
   },
   "source": [
    "### By artwork"
   ]
  },
  {
   "cell_type": "code",
   "execution_count": null,
   "id": "0057def3",
   "metadata": {
    "papermill": {
     "duration": 0.182602,
     "end_time": "2023-07-13T15:05:56.849612",
     "exception": false,
     "start_time": "2023-07-13T15:05:56.667010",
     "status": "completed"
    },
    "tags": []
   },
   "outputs": [],
   "source": [
    "errata_crosstab_c = pd.crosstab(cards_df[\"Artwork\"], cards_df[\"Errata\"])\n",
    "errata_crosstab_c.sort_values(by=errata_crosstab_c.columns.tolist(), ascending=False)"
   ]
  },
  {
   "cell_type": "markdown",
   "id": "edef3194",
   "metadata": {
    "papermill": {
     "duration": 0.142462,
     "end_time": "2023-07-13T15:05:57.135846",
     "exception": false,
     "start_time": "2023-07-13T15:05:56.993384",
     "status": "completed"
    },
    "tags": []
   },
   "source": [
    "## TCG & OCG status"
   ]
  },
  {
   "cell_type": "markdown",
   "id": "3e7505cd",
   "metadata": {
    "papermill": {
     "duration": 0.142134,
     "end_time": "2023-07-13T15:05:57.421400",
     "exception": false,
     "start_time": "2023-07-13T15:05:57.279266",
     "status": "completed"
    },
    "tags": []
   },
   "source": [
    "### TGC status"
   ]
  },
  {
   "cell_type": "code",
   "execution_count": null,
   "id": "88b93fca",
   "metadata": {
    "papermill": {
     "duration": 0.164147,
     "end_time": "2023-07-13T15:05:57.727353",
     "exception": false,
     "start_time": "2023-07-13T15:05:57.563206",
     "status": "completed"
    },
    "tags": []
   },
   "outputs": [],
   "source": [
    "print(\"Total number of TCG status:\", cards_df[\"TCG status\"].nunique())"
   ]
  },
  {
   "cell_type": "code",
   "execution_count": null,
   "id": "2c69bec0",
   "metadata": {
    "papermill": {
     "duration": 0.278737,
     "end_time": "2023-07-13T15:05:58.148090",
     "exception": false,
     "start_time": "2023-07-13T15:05:57.869353",
     "status": "completed"
    },
    "tags": []
   },
   "outputs": [],
   "source": [
    "cards_df.drop(columns=[\"Page name\", \"Page URL\"]).groupby(\n",
    "    \"TCG status\", dropna=False\n",
    ").nunique()"
   ]
  },
  {
   "cell_type": "code",
   "execution_count": null,
   "id": "add82403",
   "metadata": {
    "papermill": {
     "duration": 1.050693,
     "end_time": "2023-07-13T15:05:59.345478",
     "exception": false,
     "start_time": "2023-07-13T15:05:58.294785",
     "status": "completed"
    },
    "tags": []
   },
   "outputs": [],
   "source": [
    "cards_df[\"TCG status\"].value_counts(dropna=False).plot.bar(\n",
    "    figsize=(18, 6), logy=True, grid=True, rot=45, title=\"TCG status\"\n",
    ")\n",
    "plt.show()"
   ]
  },
  {
   "cell_type": "markdown",
   "id": "f6b985a0",
   "metadata": {
    "papermill": {
     "duration": 0.294677,
     "end_time": "2023-07-13T15:05:59.957512",
     "exception": false,
     "start_time": "2023-07-13T15:05:59.662835",
     "status": "completed"
    },
    "tags": []
   },
   "source": [
    "#### By card type"
   ]
  },
  {
   "cell_type": "code",
   "execution_count": null,
   "id": "12c444ed",
   "metadata": {
    "papermill": {
     "duration": 0.187723,
     "end_time": "2023-07-13T15:06:00.314786",
     "exception": false,
     "start_time": "2023-07-13T15:06:00.127063",
     "status": "completed"
    },
    "tags": []
   },
   "outputs": [],
   "source": [
    "# Remove unlimited\n",
    "tcg_crosstab = pd.crosstab(cards_df[\"Card type\"], cards_df[\"TCG status\"]).drop(\n",
    "    [\"Unlimited\"], axis=1\n",
    ")\n",
    "tcg_crosstab"
   ]
  },
  {
   "cell_type": "code",
   "execution_count": null,
   "id": "8648b51e",
   "metadata": {
    "papermill": {
     "duration": 0.689334,
     "end_time": "2023-07-13T15:06:01.150184",
     "exception": false,
     "start_time": "2023-07-13T15:06:00.460850",
     "status": "completed"
    },
    "tags": []
   },
   "outputs": [],
   "source": [
    "plt.figure(figsize=(12, 6))\n",
    "sns.heatmap(\n",
    "    tcg_crosstab[tcg_crosstab > 0],\n",
    "    annot=True,\n",
    "    fmt=\"g\",\n",
    "    cmap=\"viridis\",\n",
    "    norm=mc.LogNorm(),\n",
    ")\n",
    "plt.show()"
   ]
  },
  {
   "cell_type": "markdown",
   "id": "521f367b",
   "metadata": {
    "papermill": {
     "duration": 0.143771,
     "end_time": "2023-07-13T15:06:01.442675",
     "exception": false,
     "start_time": "2023-07-13T15:06:01.298904",
     "status": "completed"
    },
    "tags": []
   },
   "source": [
    "#### By monster type"
   ]
  },
  {
   "cell_type": "code",
   "execution_count": null,
   "id": "bb73564f",
   "metadata": {
    "papermill": {
     "duration": 0.231196,
     "end_time": "2023-07-13T15:06:01.818105",
     "exception": false,
     "start_time": "2023-07-13T15:06:01.586909",
     "status": "completed"
    },
    "tags": []
   },
   "outputs": [],
   "source": [
    "# Remove unlimited\n",
    "tcg_crosstab_b = pd.crosstab(cards_df[\"Monster type\"], cards_df[\"TCG status\"]).drop(\n",
    "    [\"Unlimited\"], axis=1\n",
    ")\n",
    "tcg_crosstab_b"
   ]
  },
  {
   "cell_type": "code",
   "execution_count": null,
   "id": "dd5e826c",
   "metadata": {
    "papermill": {
     "duration": 0.826279,
     "end_time": "2023-07-13T15:06:02.788310",
     "exception": false,
     "start_time": "2023-07-13T15:06:01.962031",
     "status": "completed"
    },
    "tags": []
   },
   "outputs": [],
   "source": [
    "plt.figure(figsize=(20, 5))\n",
    "sns.heatmap(\n",
    "    tcg_crosstab_b[tcg_crosstab_b > 0].T,\n",
    "    annot=True,\n",
    "    fmt=\"g\",\n",
    "    cmap=\"viridis\",\n",
    "    square=True,\n",
    ")\n",
    "plt.show()"
   ]
  },
  {
   "cell_type": "markdown",
   "id": "b0e7d771",
   "metadata": {
    "papermill": {
     "duration": 0.147344,
     "end_time": "2023-07-13T15:06:03.087132",
     "exception": false,
     "start_time": "2023-07-13T15:06:02.939788",
     "status": "completed"
    },
    "tags": []
   },
   "source": [
    "#### By archseries"
   ]
  },
  {
   "cell_type": "code",
   "execution_count": null,
   "id": "05fc1f77",
   "metadata": {
    "papermill": {
     "duration": 0.234267,
     "end_time": "2023-07-13T15:06:03.469195",
     "exception": false,
     "start_time": "2023-07-13T15:06:03.234928",
     "status": "completed"
    },
    "tags": []
   },
   "outputs": [],
   "source": [
    "# Remove unlimited\n",
    "tcg_crosstab_c = pd.crosstab(\n",
    "    exploded_archseries[\"Archseries\"].where(\n",
    "        exploded_archseries[\"OCG status\"] != \"Unlimited\"\n",
    "    ),\n",
    "    exploded_archseries[\"TCG status\"],\n",
    "    margins=True,\n",
    ")\n",
    "tcg_crosstab_c"
   ]
  },
  {
   "cell_type": "markdown",
   "id": "af202b20",
   "metadata": {
    "papermill": {
     "duration": 0.145379,
     "end_time": "2023-07-13T15:06:03.765278",
     "exception": false,
     "start_time": "2023-07-13T15:06:03.619899",
     "status": "completed"
    },
    "tags": []
   },
   "source": [
    "### OCG status"
   ]
  },
  {
   "cell_type": "code",
   "execution_count": null,
   "id": "0b01a31b",
   "metadata": {
    "papermill": {
     "duration": 0.167286,
     "end_time": "2023-07-13T15:06:04.079726",
     "exception": false,
     "start_time": "2023-07-13T15:06:03.912440",
     "status": "completed"
    },
    "tags": []
   },
   "outputs": [],
   "source": [
    "print(\"Total number of OCG status:\", cards_df[\"OCG status\"].nunique())"
   ]
  },
  {
   "cell_type": "code",
   "execution_count": null,
   "id": "13b7b5c8",
   "metadata": {
    "papermill": {
     "duration": 0.276274,
     "end_time": "2023-07-13T15:06:04.506754",
     "exception": false,
     "start_time": "2023-07-13T15:06:04.230480",
     "status": "completed"
    },
    "tags": []
   },
   "outputs": [],
   "source": [
    "cards_df.drop(columns=[\"Page name\", \"Page URL\"]).groupby(\n",
    "    \"OCG status\", dropna=False\n",
    ").nunique()"
   ]
  },
  {
   "cell_type": "code",
   "execution_count": null,
   "id": "baff20b2",
   "metadata": {
    "papermill": {
     "duration": 0.777859,
     "end_time": "2023-07-13T15:06:05.432209",
     "exception": false,
     "start_time": "2023-07-13T15:06:04.654350",
     "status": "completed"
    },
    "tags": []
   },
   "outputs": [],
   "source": [
    "cards_df[\"OCG status\"].value_counts(dropna=False).plot.bar(\n",
    "    figsize=(18, 6), logy=True, grid=True, rot=45, title=\"TCG status\"\n",
    ")\n",
    "plt.show()"
   ]
  },
  {
   "cell_type": "markdown",
   "id": "5c4bf980",
   "metadata": {
    "papermill": {
     "duration": 0.14881,
     "end_time": "2023-07-13T15:06:05.732347",
     "exception": false,
     "start_time": "2023-07-13T15:06:05.583537",
     "status": "completed"
    },
    "tags": []
   },
   "source": [
    "#### By card type"
   ]
  },
  {
   "cell_type": "code",
   "execution_count": null,
   "id": "4863280e",
   "metadata": {
    "papermill": {
     "duration": 0.198537,
     "end_time": "2023-07-13T15:06:06.079860",
     "exception": false,
     "start_time": "2023-07-13T15:06:05.881323",
     "status": "completed"
    },
    "tags": []
   },
   "outputs": [],
   "source": [
    "# Remove unlimited\n",
    "ocg_crosstab = pd.crosstab(cards_df[\"Card type\"], cards_df[\"OCG status\"]).drop(\n",
    "    [\"Unlimited\"], axis=1\n",
    ")\n",
    "ocg_crosstab"
   ]
  },
  {
   "cell_type": "code",
   "execution_count": null,
   "id": "e8489887",
   "metadata": {
    "papermill": {
     "duration": 0.468228,
     "end_time": "2023-07-13T15:06:06.696165",
     "exception": false,
     "start_time": "2023-07-13T15:06:06.227937",
     "status": "completed"
    },
    "tags": []
   },
   "outputs": [],
   "source": [
    "plt.figure(figsize=(12, 6))\n",
    "sns.heatmap(ocg_crosstab[ocg_crosstab > 0], annot=True, fmt=\"g\", cmap=\"viridis\")\n",
    "plt.show()"
   ]
  },
  {
   "cell_type": "markdown",
   "id": "32f682d2",
   "metadata": {
    "papermill": {
     "duration": 0.151801,
     "end_time": "2023-07-13T15:06:07.001438",
     "exception": false,
     "start_time": "2023-07-13T15:06:06.849637",
     "status": "completed"
    },
    "tags": []
   },
   "source": [
    "#### By monster type"
   ]
  },
  {
   "cell_type": "code",
   "execution_count": null,
   "id": "3dbadcb8",
   "metadata": {
    "papermill": {
     "duration": 0.196119,
     "end_time": "2023-07-13T15:06:07.347173",
     "exception": false,
     "start_time": "2023-07-13T15:06:07.151054",
     "status": "completed"
    },
    "tags": []
   },
   "outputs": [],
   "source": [
    "ocg_crosstab_b = pd.crosstab(cards_df[\"Monster type\"], cards_df[\"OCG status\"]).drop(\n",
    "    [\"Unlimited\"], axis=1\n",
    ")\n",
    "ocg_crosstab_b"
   ]
  },
  {
   "cell_type": "code",
   "execution_count": null,
   "id": "4743b0c1",
   "metadata": {
    "papermill": {
     "duration": 0.8878,
     "end_time": "2023-07-13T15:06:08.384321",
     "exception": false,
     "start_time": "2023-07-13T15:06:07.496521",
     "status": "completed"
    },
    "tags": []
   },
   "outputs": [],
   "source": [
    "plt.figure(figsize=(20, 5))\n",
    "sns.heatmap(\n",
    "    ocg_crosstab_b[ocg_crosstab_b > 0].T,\n",
    "    annot=True,\n",
    "    fmt=\"g\",\n",
    "    cmap=\"viridis\",\n",
    "    square=True,\n",
    ")\n",
    "plt.show()"
   ]
  },
  {
   "cell_type": "markdown",
   "id": "19d9067b",
   "metadata": {
    "papermill": {
     "duration": 0.151079,
     "end_time": "2023-07-13T15:06:08.710825",
     "exception": false,
     "start_time": "2023-07-13T15:06:08.559746",
     "status": "completed"
    },
    "tags": []
   },
   "source": [
    "#### By archseries"
   ]
  },
  {
   "cell_type": "code",
   "execution_count": null,
   "id": "d866a6e2",
   "metadata": {
    "papermill": {
     "duration": 0.250194,
     "end_time": "2023-07-13T15:06:09.113173",
     "exception": false,
     "start_time": "2023-07-13T15:06:08.862979",
     "status": "completed"
    },
    "tags": []
   },
   "outputs": [],
   "source": [
    "# Remove unlimited\n",
    "ocg_crosstab_c = pd.crosstab(\n",
    "    exploded_archseries[\"Archseries\"].where(\n",
    "        exploded_archseries[\"OCG status\"] != \"Unlimited\"\n",
    "    ),\n",
    "    exploded_archseries[\"OCG status\"],\n",
    "    margins=True,\n",
    ")\n",
    "ocg_crosstab_c"
   ]
  },
  {
   "cell_type": "markdown",
   "id": "c5b33198",
   "metadata": {
    "papermill": {
     "duration": 0.150347,
     "end_time": "2023-07-13T15:06:09.415607",
     "exception": false,
     "start_time": "2023-07-13T15:06:09.265260",
     "status": "completed"
    },
    "tags": []
   },
   "source": [
    "### TCG vs. OCG status"
   ]
  },
  {
   "cell_type": "code",
   "execution_count": null,
   "id": "14f2101b",
   "metadata": {
    "papermill": {
     "duration": 0.201968,
     "end_time": "2023-07-13T15:06:09.767635",
     "exception": false,
     "start_time": "2023-07-13T15:06:09.565667",
     "status": "completed"
    },
    "tags": []
   },
   "outputs": [],
   "source": [
    "cg_crosstab = pd.crosstab(\n",
    "    cards_df[\"OCG status\"], cards_df[\"TCG status\"], dropna=False, margins=False\n",
    ")\n",
    "cg_crosstab"
   ]
  },
  {
   "cell_type": "code",
   "execution_count": null,
   "id": "d10c5c81",
   "metadata": {
    "papermill": {
     "duration": 1.009633,
     "end_time": "2023-07-13T15:06:10.930463",
     "exception": false,
     "start_time": "2023-07-13T15:06:09.920830",
     "status": "completed"
    },
    "tags": []
   },
   "outputs": [],
   "source": [
    "plt.figure(figsize=(10, 8))\n",
    "sns.heatmap(\n",
    "    cg_crosstab[cg_crosstab > 0],\n",
    "    annot=True,\n",
    "    fmt=\"g\",\n",
    "    cmap=\"viridis\",\n",
    "    square=True,\n",
    "    norm=mc.LogNorm(),\n",
    ")\n",
    "plt.show()"
   ]
  },
  {
   "cell_type": "markdown",
   "id": "95d94158-0922-4085-b2c7-d7fa24f40038",
   "metadata": {
    "papermill": {
     "duration": 0.152325,
     "end_time": "2023-07-13T15:06:11.232758",
     "exception": false,
     "start_time": "2023-07-13T15:06:11.080433",
     "status": "completed"
    },
    "tags": []
   },
   "source": [
    "# Extras"
   ]
  },
  {
   "cell_type": "markdown",
   "id": "81de3001-152d-4f35-9978-b8f895a91cc1",
   "metadata": {
    "papermill": {
     "duration": 0.162422,
     "end_time": "2023-07-13T15:06:11.559290",
     "exception": false,
     "start_time": "2023-07-13T15:06:11.396868",
     "status": "completed"
    },
    "tags": []
   },
   "source": [
    "## Multiple secondary types"
   ]
  },
  {
   "cell_type": "code",
   "execution_count": null,
   "id": "7efee39e-a0b5-4636-bcd4-cb9c75e11888",
   "metadata": {
    "papermill": {
     "duration": 0.201399,
     "end_time": "2023-07-13T15:06:12.049306",
     "exception": false,
     "start_time": "2023-07-13T15:06:11.847907",
     "status": "completed"
    },
    "tags": []
   },
   "outputs": [],
   "source": [
    "cards_df.dropna(subset=\"Secondary type\", axis=0)[\n",
    "    [len(x) > 1 for x in cards_df[\"Secondary type\"].dropna()]\n",
    "]"
   ]
  },
  {
   "cell_type": "markdown",
   "id": "a1bdb3eb-7f83-49a8-92a2-a8a05e6253c7",
   "metadata": {
    "papermill": {
     "duration": 0.152683,
     "end_time": "2023-07-13T15:06:12.357237",
     "exception": false,
     "start_time": "2023-07-13T15:06:12.204554",
     "status": "completed"
    },
    "tags": []
   },
   "source": [
    "## Not yet released"
   ]
  },
  {
   "cell_type": "code",
   "execution_count": null,
   "id": "6ca6f265",
   "metadata": {
    "papermill": {
     "duration": 0.186714,
     "end_time": "2023-07-13T15:06:12.698625",
     "exception": false,
     "start_time": "2023-07-13T15:06:12.511911",
     "status": "completed"
    },
    "tags": []
   },
   "outputs": [],
   "source": [
    "cards_df.loc[cards_df[\"OCG status\"] == \"Not yet released\"].loc[\n",
    "    full_df[\"TCG status\"] == \"Not yet released\"\n",
    "]"
   ]
  },
  {
   "cell_type": "markdown",
   "id": "b53361a5-0528-4691-a8ca-c015e4802d9c",
   "metadata": {
    "papermill": {
     "duration": 0.15785,
     "end_time": "2023-07-13T15:06:13.063989",
     "exception": false,
     "start_time": "2023-07-13T15:06:12.906139",
     "status": "completed"
    },
    "tags": []
   },
   "source": [
    "## Counters and Tokens"
   ]
  },
  {
   "cell_type": "code",
   "execution_count": null,
   "id": "4022c3ca-bd45-4870-b233-7fdd5b1639a7",
   "metadata": {
    "papermill": {
     "duration": 0.304436,
     "end_time": "2023-07-13T15:06:13.544910",
     "exception": false,
     "start_time": "2023-07-13T15:06:13.240474",
     "status": "completed"
    },
    "tags": []
   },
   "outputs": [],
   "source": [
    "token_df.dropna(how=\"all\", axis=1)"
   ]
  },
  {
   "cell_type": "markdown",
   "id": "5a48e113-5c3f-48cd-a6a4-d1b779b8d834",
   "metadata": {
    "papermill": {
     "duration": 0.154519,
     "end_time": "2023-07-13T15:06:13.857310",
     "exception": false,
     "start_time": "2023-07-13T15:06:13.702791",
     "status": "completed"
    },
    "tags": []
   },
   "source": [
    "# Page name differs from card name"
   ]
  },
  {
   "cell_type": "code",
   "execution_count": null,
   "id": "4f3c09e4-ca0e-437b-82ed-7f1939b29886",
   "metadata": {
    "papermill": {
     "duration": 0.204278,
     "end_time": "2023-07-13T15:06:14.215414",
     "exception": false,
     "start_time": "2023-07-13T15:06:14.011136",
     "status": "completed"
    },
    "tags": []
   },
   "outputs": [],
   "source": [
    "full_df[full_df[\"Name\"] != full_df[\"Page name\"]]"
   ]
  },
  {
   "cell_type": "markdown",
   "id": "4058f0b9-3031-4daa-8a4a-2dddf8c74c07",
   "metadata": {
    "papermill": {
     "duration": 0.153108,
     "end_time": "2023-07-13T15:06:14.522596",
     "exception": false,
     "start_time": "2023-07-13T15:06:14.369488",
     "status": "completed"
    },
    "tags": []
   },
   "source": [
    "# Epilogue"
   ]
  },
  {
   "cell_type": "code",
   "execution_count": null,
   "id": "871cb3eb-a0fc-42e8-b516-6d524deba2fc",
   "metadata": {
    "papermill": {
     "duration": 0.233327,
     "end_time": "2023-07-13T15:06:14.912126",
     "exception": false,
     "start_time": "2023-07-13T15:06:14.678799",
     "status": "completed"
    },
    "tags": []
   },
   "outputs": [],
   "source": [
    "benchmark(\"cards\", timestamp)"
   ]
  },
  {
   "cell_type": "code",
   "execution_count": null,
   "id": "310f7d3e-ab76-4c5b-bf3d-f6898d559118",
   "metadata": {
    "papermill": {
     "duration": 0.168905,
     "end_time": "2023-07-13T15:06:15.237199",
     "exception": false,
     "start_time": "2023-07-13T15:06:15.068294",
     "status": "completed"
    },
    "tags": []
   },
   "outputs": [],
   "source": [
    "footer(timestamp)"
   ]
  },
  {
   "cell_type": "markdown",
   "id": "fade81da",
   "metadata": {
    "papermill": {
     "duration": 0.153515,
     "end_time": "2023-07-13T15:06:15.545067",
     "exception": false,
     "start_time": "2023-07-13T15:06:15.391552",
     "status": "completed"
    },
    "tags": []
   },
   "source": [
    "## HTML export"
   ]
  },
  {
   "cell_type": "code",
   "execution_count": null,
   "id": "6715b83e-9a4e-423c-81b9-33a81603acd4",
   "metadata": {
    "papermill": {
     "duration": 0.170348,
     "end_time": "2023-07-13T15:06:15.869521",
     "exception": false,
     "start_time": "2023-07-13T15:06:15.699173",
     "status": "completed"
    },
    "tags": []
   },
   "outputs": [],
   "source": [
    "# Save notebook on disck before generating HTML report\n",
    "save_notebook()"
   ]
  },
  {
   "cell_type": "code",
   "execution_count": null,
   "id": "de556e8b",
   "metadata": {
    "papermill": {
     "duration": 3.477797,
     "end_time": "2023-07-13T15:06:19.503472",
     "exception": false,
     "start_time": "2023-07-13T15:06:16.025675",
     "status": "completed"
    },
    "tags": []
   },
   "outputs": [],
   "source": [
    "! jupyter nbconvert Cards.ipynb --output-dir='../' --to=HTML --TagRemovePreprocessor.enabled=True --TagRemovePreprocessor.remove_cell_tags='exclude' --TemplateExporter.exclude_input=True --TemplateExporter.exclude_input_prompt=True --TemplateExporter.exclude_output_prompt=True"
   ]
  },
  {
   "cell_type": "markdown",
   "id": "641a7018-0f50-4ab6-b8f3-119a279cbc65",
   "metadata": {
    "papermill": {
     "duration": 0.15559,
     "end_time": "2023-07-13T15:06:19.819082",
     "exception": false,
     "start_time": "2023-07-13T15:06:19.663492",
     "status": "completed"
    },
    "tags": [
     "exclude"
    ]
   },
   "source": [
    "## Git"
   ]
  },
  {
   "cell_type": "code",
   "execution_count": null,
   "id": "cba1eb00-d9c2-491a-95b3-5ce0a0524d59",
   "metadata": {
    "papermill": {
     "duration": null,
     "end_time": null,
     "exception": false,
     "start_time": "2023-07-13T15:06:20.143407",
     "status": "running"
    },
    "tags": [
     "exclude"
    ]
   },
   "outputs": [],
   "source": [
    "! git add \"../*[Cc]ards*\""
   ]
  },
  {
   "cell_type": "code",
   "execution_count": null,
   "id": "6f1f8303-30c6-4aaa-b45e-f6d5f5ece30e",
   "metadata": {
    "papermill": {
     "duration": null,
     "end_time": null,
     "exception": null,
     "start_time": null,
     "status": "pending"
    },
    "tags": [
     "exclude"
    ]
   },
   "outputs": [],
   "source": [
    "! git commit -m {\"'Cards update-\" + timestamp.isoformat() + \"'\"}"
   ]
  }
 ],
 "metadata": {
  "kernelspec": {
   "display_name": "Python 3 (ipykernel)",
   "language": "python",
   "name": "python3"
  },
  "language_info": {
   "codemirror_mode": {
    "name": "ipython",
    "version": 3
   },
   "file_extension": ".py",
   "mimetype": "text/x-python",
   "name": "python",
   "nbconvert_exporter": "python",
   "pygments_lexer": "ipython3",
   "version": "3.10.12"
  },
  "papermill": {
   "default_parameters": {},
   "duration": null,
   "end_time": null,
   "environment_variables": {},
   "exception": null,
   "input_path": "Cards.ipynb",
   "output_path": "Cards.ipynb",
   "parameters": {},
   "start_time": "2023-07-13T15:03:27.171734",
   "version": "2.4.0"
  },
  "toc": {
   "base_numbering": 1,
   "nav_menu": {
    "height": "599px",
    "width": "228px"
   },
   "number_sections": true,
   "sideBar": true,
   "skip_h1_title": false,
   "title_cell": "Table of Contents",
   "title_sidebar": "Contents",
   "toc_cell": true,
   "toc_position": {
    "height": "calc(100% - 180px)",
    "left": "10px",
    "top": "150px",
    "width": "353px"
   },
   "toc_section_display": true,
   "toc_window_display": true
  },
  "toc-autonumbering": false,
  "toc-showcode": false,
  "toc-showmarkdowntxt": false
 },
 "nbformat": 4,
 "nbformat_minor": 5
}
