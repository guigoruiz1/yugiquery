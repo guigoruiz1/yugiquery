{
 "cells": [
  {
   "cell_type": "code",
   "execution_count": null,
   "id": "82c61f6c-3c7a-4460-b466-9c521973fa5d",
   "metadata": {
    "papermill": {
     "duration": 14.174348,
     "end_time": "2023-02-04T21:15:58.023206",
     "exception": false,
     "start_time": "2023-02-04T21:15:43.848858",
     "status": "completed"
    },
    "tags": []
   },
   "outputs": [],
   "source": [
    "from yugiquery import *\n",
    "header('Cards')"
   ]
  },
  {
   "cell_type": "markdown",
   "id": "48cd2c04-37eb-408f-86ee-17e204a2cea9",
   "metadata": {
    "papermill": {
     "duration": 0.054501,
     "end_time": "2023-02-04T21:15:58.124019",
     "exception": false,
     "start_time": "2023-02-04T21:15:58.069518",
     "status": "completed"
    },
    "tags": []
   },
   "source": [
    "---"
   ]
  },
  {
   "cell_type": "markdown",
   "id": "6e66c226",
   "metadata": {
    "papermill": {
     "duration": 0.048161,
     "end_time": "2023-02-04T21:15:58.210519",
     "exception": false,
     "start_time": "2023-02-04T21:15:58.162358",
     "status": "completed"
    },
    "tags": [],
    "toc": true
   },
   "source": [
    "Table of Contents\n",
    "=================\n",
    "\n",
    "*   [1  Data aquisition](#Data-aquisition)\n",
    "    *   [1.1  Fetch online data](#Fetch-online-data)\n",
    "    *   [1.2  Merge data](#Merge-data)\n",
    "    *   [1.3  Save data](#Save-data)\n",
    "*   [3  Check changes](#Check-changes)\n",
    "    *   [3.1  Load previous data](#Load-previous-data)\n",
    "    *   [3.2  Generate changelog](#Generate-changelog)\n",
    "*   [4  Data visualization](#Data-visualization)\n",
    "    *   [4.1  Full data](#Full-data)\n",
    "    *   [4.2  Card types](#Card-types)\n",
    "    *   [4.3  Monsters](#Monsters)\n",
    "        *   [4.3.1  Attributes](#Attributes)\n",
    "        *   [4.3.2  Primary types](#Primary-types)\n",
    "            *   [4.3.2.1  Has effect discrimination](#Has-effect-discrimination)\n",
    "            *   [4.3.2.2  Is pendulum discrimination](#Is-pendulum-discrimination)\n",
    "            *   [4.3.2.3  By attribute](#By-attribute)\n",
    "        *   [4.3.3  Secondary types](#Secondary-types)\n",
    "            *   [4.3.3.1  By attribute](#By-attribute)\n",
    "            *   [4.3.3.2  By secondary type](#By-secondary-type)\n",
    "        *   [4.3.4  Monster types](#Monster-types)\n",
    "            *   [4.3.4.1  By Attribute](#By-Attribute)\n",
    "            *   [4.3.4.2  By primary type](#By-primary-type)\n",
    "            *   [4.3.4.3  By secondary type](#By-secondary-type)\n",
    "        *   [4.3.5  Effect type](#Effect-type)\n",
    "        *   [4.3.6  ATK](#ATK)\n",
    "        *   [4.3.7  DEF](#DEF)\n",
    "        *   [4.3.8  Level/Rank](#Level/Rank)\n",
    "            *   [4.3.8.1  ATK statistics](#ATK-statistics)\n",
    "            *   [4.3.8.2  DEF statistics](#DEF-statistics)\n",
    "        *   [4.3.9  Pendulum scale](#Pendulum-scale)\n",
    "            *   [4.3.9.1  ATK statistics](#ATK-statistics)\n",
    "            *   [4.3.9.2  DEF statistics](#DEF-statistics)\n",
    "            *   [4.3.9.3  Level/Rank statistics](#Level/Rank-statistics)\n",
    "        *   [4.3.10  Link](#Link)\n",
    "            *   [4.3.10.1  ATK statistics](#ATK-statistics)\n",
    "        *   [4.3.11  Link Arrows](#Link-Arrows)\n",
    "            *   [4.3.11.1  By combination](#By-combination)\n",
    "            *   [4.3.11.2  By unique](#By-unique)\n",
    "            *   [4.3.11.3  By link](#By-link)\n",
    "    *   [4.4  Spell & Trap](#Spell-&-Trap)\n",
    "        *   [4.4.1  Properties](#Properties)\n",
    "        *   [4.4.2  Effect type](#Effect-type)\n",
    "            *   [4.4.2.1  Spell & Trap discrimination](#Spell-&-Trap-discrimination)\n",
    "    *   [4.5  Archseries](#Archseries)\n",
    "        *   [4.5.1  By card type](#By-card-type)\n",
    "        *   [4.5.2  By primary type](#By-primary-type)\n",
    "        *   [4.5.3  By secondary type](#By-secondary-type)\n",
    "        *   [4.5.4  By monster type](#By-monster-type)\n",
    "        *   [4.5.5  By property](#By-property)\n",
    "    *   [4.6  Artworks](#Artworks)\n",
    "        *   [4.6.1  By card type](#By-card-type)\n",
    "        *   [4.6.2  By primary type](#By-primary-type)\n",
    "    *   [4.7  Errata](#Errata)\n",
    "        *   [4.7.1  By card type](#By-card-type)\n",
    "        *   [4.7.2  By primary type](#By-primary-type)\n",
    "        *   [4.7.3  By artwork](#By-artwork)\n",
    "    *   [4.8  TCG & OCG status](#TCG-&-OCG-status)\n",
    "        *   [4.8.1  TGC status](#TGC-status)\n",
    "            *   [4.8.1.1  By card type](#By-card-type)\n",
    "            *   [4.8.1.2  By monster type](#By-monster-type)\n",
    "            *   [4.8.1.3  By archseries](#By-archseries)\n",
    "        *   [4.8.2  OCG status](#OCG-status)\n",
    "            *   [4.8.2.1  By card type](#By-card-type)\n",
    "            *   [4.8.2.2  By monster type](#By-monster-type)\n",
    "            *   [4.8.2.3  By archseries](#By-archseries)\n",
    "        *   [4.8.3  TCG vs. OCG status](#TCG-vs.-OCG-status)\n",
    "*   [5  Extras](#Extras)\n",
    "    *   [5.1 Not yet released](#Not-yet-released)\n",
    "*   [6  Epilogue](#Epilogue)\n",
    "    *   [6.1  HTML export](#HTML-export)\n",
    "<!-- *   [6.2  Git](#Git) -->"
   ]
  },
  {
   "cell_type": "markdown",
   "id": "b60fae74",
   "metadata": {
    "papermill": {
     "duration": 0.037674,
     "end_time": "2023-02-04T21:15:58.289892",
     "exception": false,
     "start_time": "2023-02-04T21:15:58.252218",
     "status": "completed"
    },
    "tags": []
   },
   "source": [
    "# Data aquisition"
   ]
  },
  {
   "cell_type": "markdown",
   "id": "699f2460",
   "metadata": {
    "papermill": {
     "duration": 0.037905,
     "end_time": "2023-02-04T21:15:58.368533",
     "exception": false,
     "start_time": "2023-02-04T21:15:58.330628",
     "status": "completed"
    },
    "tags": []
   },
   "source": [
    "## Fetch online data"
   ]
  },
  {
   "cell_type": "code",
   "execution_count": null,
   "id": "135ab538",
   "metadata": {
    "papermill": {
     "duration": 182.010875,
     "end_time": "2023-02-04T21:19:00.417713",
     "exception": false,
     "start_time": "2023-02-04T21:15:58.406838",
     "status": "completed"
    },
    "tags": []
   },
   "outputs": [],
   "source": [
    "# Timestamp\n",
    "timestamp = pd.Timestamp.now()\n",
    "\n",
    "# Queries\n",
    "monster_query = card_query(default='monster')\n",
    "st_query = card_query(default='st')\n",
    "\n",
    "# Fetch Monster\n",
    "monster_df = fetch_monster(monster_query)\n",
    "\n",
    "# Fetch Spell\n",
    "spell_df = fetch_st(st_query, 'Spell')\n",
    "\n",
    "# Fetch Trap\n",
    "trap_df = fetch_st(st_query, 'Trap')\n",
    "\n",
    "# Fetch errata\n",
    "errata_df = fetch_errata()"
   ]
  },
  {
   "cell_type": "markdown",
   "id": "ffe04a8e-544d-4e73-947d-de6d5615bca3",
   "metadata": {
    "papermill": {
     "duration": 0.060436,
     "end_time": "2023-02-04T21:19:00.523703",
     "exception": false,
     "start_time": "2023-02-04T21:19:00.463267",
     "status": "completed"
    },
    "tags": []
   },
   "source": [
    "## Merge data"
   ]
  },
  {
   "cell_type": "code",
   "execution_count": null,
   "id": "3669c6ff-2f6a-4a09-b80c-0cf361caf929",
   "metadata": {
    "papermill": {
     "duration": 0.271583,
     "end_time": "2023-02-04T21:19:00.835250",
     "exception": false,
     "start_time": "2023-02-04T21:19:00.563667",
     "status": "completed"
    },
    "tags": []
   },
   "outputs": [],
   "source": [
    "# Merge errata\n",
    "monster_df = merge_errata(monster_df, errata_df, drop=True)\n",
    "spell_df = merge_errata(spell_df, errata_df, drop=True)\n",
    "trap_df = merge_errata(trap_df, errata_df, drop=True)\n",
    "\n",
    "# Combine data frames\n",
    "st_df = pd.concat([spell_df, trap_df], ignore_index=True, axis=0).sort_values('Name').reset_index(drop=True)\n",
    "full_df = pd.concat([st_df, monster_df], ignore_index=True, axis=0).sort_values('Name').reset_index(drop=True)\n",
    "print('Data merged')"
   ]
  },
  {
   "cell_type": "markdown",
   "id": "9b15f8ec",
   "metadata": {
    "papermill": {
     "duration": 0.038698,
     "end_time": "2023-02-04T21:19:00.913330",
     "exception": false,
     "start_time": "2023-02-04T21:19:00.874632",
     "status": "completed"
    },
    "tags": []
   },
   "source": [
    "## Save data"
   ]
  },
  {
   "cell_type": "code",
   "execution_count": null,
   "id": "01e9eb77",
   "metadata": {
    "papermill": {
     "duration": 0.353769,
     "end_time": "2023-02-04T21:19:01.307078",
     "exception": false,
     "start_time": "2023-02-04T21:19:00.953309",
     "status": "completed"
    },
    "tags": []
   },
   "outputs": [],
   "source": [
    "full_df.to_csv(f'../data/all_cards_{timestamp.isoformat(timespec=\"minutes\")}.csv', index = False)\n",
    "print('Data saved')"
   ]
  },
  {
   "cell_type": "markdown",
   "id": "9ff0cf51",
   "metadata": {
    "papermill": {
     "duration": 0.045246,
     "end_time": "2023-02-04T21:19:01.392129",
     "exception": false,
     "start_time": "2023-02-04T21:19:01.346883",
     "status": "completed"
    },
    "tags": []
   },
   "source": [
    "# Check changes"
   ]
  },
  {
   "cell_type": "markdown",
   "id": "233e965d",
   "metadata": {
    "papermill": {
     "duration": 0.039006,
     "end_time": "2023-02-04T21:19:01.471300",
     "exception": false,
     "start_time": "2023-02-04T21:19:01.432294",
     "status": "completed"
    },
    "tags": []
   },
   "source": [
    "## Load previous data"
   ]
  },
  {
   "cell_type": "code",
   "execution_count": null,
   "id": "fb7dc6f8",
   "metadata": {
    "papermill": {
     "duration": 0.60415,
     "end_time": "2023-02-04T21:19:02.115987",
     "exception": false,
     "start_time": "2023-02-04T21:19:01.511837",
     "status": "completed"
    },
    "tags": []
   },
   "outputs": [],
   "source": [
    "# Get list of files\n",
    "files_list = sorted(glob.glob('../data/all_cards_*.csv'), key=os.path.getctime, reverse=True)\n",
    "# Get second newest file if exist\n",
    "if len(files_list)>1:\n",
    "    # Load csv avoiding converting \"NA\" to NaN\n",
    "    previous_df = pd.read_csv(files_list[1], dtype=object, keep_default_na=False, na_values=[''])\n",
    "    # Correct tuples\n",
    "    previous_df['Effect type'] = previous_df['Effect type'].dropna().apply(literal_eval)\n",
    "    previous_df['Link Arrows'] = previous_df['Link Arrows'].dropna().apply(literal_eval)\n",
    "    previous_df['Archseries'] = previous_df['Archseries'].dropna().apply(literal_eval)\n",
    "    previous_df['Artwork'] = previous_df['Artwork'].dropna().apply(literal_eval)\n",
    "    previous_df['Errata'] = previous_df['Errata'].dropna().apply(literal_eval)\n",
    "    # Force dtypes to match current df\n",
    "    previous_df = previous_df.astype(full_df[previous_df.columns].dtypes.to_dict())\n",
    "    previous_ts = pd.to_datetime(os.path.basename(files_list[1]).split('_')[-1].rstrip('.csv'))\n",
    "    print('File loaded')\n",
    "else:\n",
    "    previous_df = None\n",
    "    print('No older files')"
   ]
  },
  {
   "cell_type": "markdown",
   "id": "96ce5451",
   "metadata": {
    "papermill": {
     "duration": 0.083936,
     "end_time": "2023-02-04T21:19:02.246920",
     "exception": false,
     "start_time": "2023-02-04T21:19:02.162984",
     "status": "completed"
    },
    "tags": []
   },
   "source": [
    "## Generate changelog"
   ]
  },
  {
   "cell_type": "code",
   "execution_count": null,
   "id": "2fcca8f1",
   "metadata": {
    "papermill": {
     "duration": 0.246315,
     "end_time": "2023-02-04T21:19:02.533817",
     "exception": false,
     "start_time": "2023-02-04T21:19:02.287502",
     "status": "completed"
    },
    "tags": []
   },
   "outputs": [],
   "source": [
    "if previous_df is None:\n",
    "    print('Skipped')\n",
    "else:\n",
    "    changelog = generate_changelog(previous_df, full_df, col = 'Name')\n",
    "    if not changelog.empty:\n",
    "        display(changelog)\n",
    "        changelog.to_csv(f'../data/cards_changelog_{timestamp.isoformat(timespec=\"minutes\")}_{previous_ts.isoformat(timespec=\"minutes\")}.csv', index = True)\n",
    "        print('Changelog saved')"
   ]
  },
  {
   "cell_type": "markdown",
   "id": "c0ae1017",
   "metadata": {
    "papermill": {
     "duration": 0.039778,
     "end_time": "2023-02-04T21:19:02.613505",
     "exception": false,
     "start_time": "2023-02-04T21:19:02.573727",
     "status": "completed"
    },
    "tags": []
   },
   "source": [
    "# Data visualization"
   ]
  },
  {
   "cell_type": "markdown",
   "id": "5ad091af",
   "metadata": {
    "papermill": {
     "duration": 0.03956,
     "end_time": "2023-02-04T21:19:02.693498",
     "exception": false,
     "start_time": "2023-02-04T21:19:02.653938",
     "status": "completed"
    },
    "tags": []
   },
   "source": [
    "## Full data"
   ]
  },
  {
   "cell_type": "code",
   "execution_count": null,
   "id": "fb024043",
   "metadata": {
    "papermill": {
     "duration": 0.085777,
     "end_time": "2023-02-04T21:19:02.818570",
     "exception": false,
     "start_time": "2023-02-04T21:19:02.732793",
     "status": "completed"
    },
    "tags": []
   },
   "outputs": [],
   "source": [
    "full_df"
   ]
  },
  {
   "cell_type": "markdown",
   "id": "da99ccde-ca38-4d81-8661-6f8514f689d7",
   "metadata": {
    "papermill": {
     "duration": 0.040212,
     "end_time": "2023-02-04T21:19:02.899742",
     "exception": false,
     "start_time": "2023-02-04T21:19:02.859530",
     "status": "completed"
    },
    "tags": []
   },
   "source": [
    "Full data available to download [here](../data)"
   ]
  },
  {
   "cell_type": "markdown",
   "id": "8a8cb7cd",
   "metadata": {
    "papermill": {
     "duration": 0.040798,
     "end_time": "2023-02-04T21:19:02.981052",
     "exception": false,
     "start_time": "2023-02-04T21:19:02.940254",
     "status": "completed"
    },
    "tags": []
   },
   "source": [
    "## Card types"
   ]
  },
  {
   "cell_type": "code",
   "execution_count": null,
   "id": "a4ec32e1",
   "metadata": {
    "papermill": {
     "duration": 0.162069,
     "end_time": "2023-02-04T21:19:03.184161",
     "exception": false,
     "start_time": "2023-02-04T21:19:03.022092",
     "status": "completed"
    },
    "tags": []
   },
   "outputs": [],
   "source": [
    "full_df.groupby('Card type').nunique()"
   ]
  },
  {
   "cell_type": "code",
   "execution_count": null,
   "id": "120a72dc",
   "metadata": {
    "papermill": {
     "duration": 0.756979,
     "end_time": "2023-02-04T21:19:03.984651",
     "exception": false,
     "start_time": "2023-02-04T21:19:03.227672",
     "status": "completed"
    },
    "tags": []
   },
   "outputs": [],
   "source": [
    "card_type_colors = [colors_dict[i] for i in full_df['Card type'].value_counts().index]\n",
    "full_df['Card type'].value_counts().plot.bar(figsize = (18,6), grid = True, rot=0, color = card_type_colors, title = 'Card type')\n",
    "plt.show()"
   ]
  },
  {
   "cell_type": "markdown",
   "id": "fa1ed03c",
   "metadata": {
    "papermill": {
     "duration": 0.042966,
     "end_time": "2023-02-04T21:19:04.075738",
     "exception": false,
     "start_time": "2023-02-04T21:19:04.032772",
     "status": "completed"
    },
    "tags": []
   },
   "source": [
    "## Monsters"
   ]
  },
  {
   "cell_type": "markdown",
   "id": "66c5f658",
   "metadata": {
    "papermill": {
     "duration": 0.042591,
     "end_time": "2023-02-04T21:19:04.159120",
     "exception": false,
     "start_time": "2023-02-04T21:19:04.116529",
     "status": "completed"
    },
    "tags": []
   },
   "source": [
    "### Attributes"
   ]
  },
  {
   "cell_type": "code",
   "execution_count": null,
   "id": "aa4e6a26",
   "metadata": {
    "papermill": {
     "duration": 0.056934,
     "end_time": "2023-02-04T21:19:04.259628",
     "exception": false,
     "start_time": "2023-02-04T21:19:04.202694",
     "status": "completed"
    },
    "tags": []
   },
   "outputs": [],
   "source": [
    "print('Total number of attributes:', monster_df['Attribute'].nunique())"
   ]
  },
  {
   "cell_type": "code",
   "execution_count": null,
   "id": "ea26720e",
   "metadata": {
    "papermill": {
     "duration": 0.147492,
     "end_time": "2023-02-04T21:19:04.452349",
     "exception": false,
     "start_time": "2023-02-04T21:19:04.304857",
     "status": "completed"
    },
    "tags": []
   },
   "outputs": [],
   "source": [
    "monster_df.drop(columns=['Card type']).groupby('Attribute').nunique()"
   ]
  },
  {
   "cell_type": "code",
   "execution_count": null,
   "id": "c4ff5f74",
   "metadata": {
    "papermill": {
     "duration": 0.341759,
     "end_time": "2023-02-04T21:19:04.837280",
     "exception": false,
     "start_time": "2023-02-04T21:19:04.495521",
     "status": "completed"
    },
    "tags": []
   },
   "outputs": [],
   "source": [
    "attribute_colors = [colors_dict[i] for i in monster_df['Attribute'].value_counts().index]\n",
    "monster_df['Attribute'].value_counts().plot.bar(figsize = (18,6), grid = True, rot=0, color = attribute_colors, title = 'Attribute')\n",
    "plt.show()"
   ]
  },
  {
   "cell_type": "markdown",
   "id": "d0d71936",
   "metadata": {
    "papermill": {
     "duration": 0.053692,
     "end_time": "2023-02-04T21:19:04.934895",
     "exception": false,
     "start_time": "2023-02-04T21:19:04.881203",
     "status": "completed"
    },
    "tags": []
   },
   "source": [
    "### Primary types"
   ]
  },
  {
   "cell_type": "code",
   "execution_count": null,
   "id": "26e45412",
   "metadata": {
    "papermill": {
     "duration": 0.056557,
     "end_time": "2023-02-04T21:19:05.033334",
     "exception": false,
     "start_time": "2023-02-04T21:19:04.976777",
     "status": "completed"
    },
    "tags": []
   },
   "outputs": [],
   "source": [
    "print('Total number of primary types:', monster_df['Primary type'].nunique())"
   ]
  },
  {
   "cell_type": "code",
   "execution_count": null,
   "id": "c7e4c6b0",
   "metadata": {
    "papermill": {
     "duration": 0.143591,
     "end_time": "2023-02-04T21:19:05.224370",
     "exception": false,
     "start_time": "2023-02-04T21:19:05.080779",
     "status": "completed"
    },
    "tags": []
   },
   "outputs": [],
   "source": [
    "monster_df.drop(columns=['Card type']).groupby('Primary type').nunique()"
   ]
  },
  {
   "cell_type": "markdown",
   "id": "d41d8e4a",
   "metadata": {
    "papermill": {
     "duration": 0.074836,
     "end_time": "2023-02-04T21:19:05.344911",
     "exception": false,
     "start_time": "2023-02-04T21:19:05.270075",
     "status": "completed"
    },
    "tags": []
   },
   "source": [
    "#### Has effect discrimination"
   ]
  },
  {
   "cell_type": "code",
   "execution_count": null,
   "id": "56a59624",
   "metadata": {
    "papermill": {
     "duration": 0.07523,
     "end_time": "2023-02-04T21:19:05.532621",
     "exception": false,
     "start_time": "2023-02-04T21:19:05.457391",
     "status": "completed"
    },
    "tags": []
   },
   "outputs": [],
   "source": [
    "has_effect = monster_df['Primary type'].where(monster_df['Effect type'].notna()).value_counts().rename('Effect')\n",
    "no_effect = monster_df['Primary type'].where(monster_df['Effect type'].isna()).value_counts().rename('No Effect')\n",
    "effect = pd.concat([has_effect,no_effect], axis=1).fillna(0).astype(int)\n",
    "effect"
   ]
  },
  {
   "cell_type": "code",
   "execution_count": null,
   "id": "82c24448",
   "metadata": {
    "papermill": {
     "duration": 0.521289,
     "end_time": "2023-02-04T21:19:06.106236",
     "exception": false,
     "start_time": "2023-02-04T21:19:05.584947",
     "status": "completed"
    },
    "tags": []
   },
   "outputs": [],
   "source": [
    "monster_type_colors = {'No Effect': colors_dict['Normal Monster'], 'Effect': [colors_dict[i] for i in effect.index]}\n",
    "effect.plot.bar(figsize = (18,6), stacked = True, grid = True, rot=0,  legend=True, color = monster_type_colors, title = 'Primary types - Has effect')\n",
    "# plt.yscale('log')\n",
    "plt.show()"
   ]
  },
  {
   "cell_type": "markdown",
   "id": "69d8824e",
   "metadata": {
    "papermill": {
     "duration": 0.048781,
     "end_time": "2023-02-04T21:19:06.201218",
     "exception": false,
     "start_time": "2023-02-04T21:19:06.152437",
     "status": "completed"
    },
    "tags": []
   },
   "source": [
    "Obs: Normal monster can have effect if it is pendulum"
   ]
  },
  {
   "cell_type": "markdown",
   "id": "1da2968f",
   "metadata": {
    "papermill": {
     "duration": 0.047448,
     "end_time": "2023-02-04T21:19:06.297154",
     "exception": false,
     "start_time": "2023-02-04T21:19:06.249706",
     "status": "completed"
    },
    "tags": []
   },
   "source": [
    "#### Is pendulum discrimination"
   ]
  },
  {
   "cell_type": "code",
   "execution_count": null,
   "id": "c18ac7a6",
   "metadata": {
    "papermill": {
     "duration": 0.083495,
     "end_time": "2023-02-04T21:19:06.436524",
     "exception": false,
     "start_time": "2023-02-04T21:19:06.353029",
     "status": "completed"
    },
    "tags": []
   },
   "outputs": [],
   "source": [
    "not_pendulum = monster_df['Primary type'].where(monster_df['Pendulum Scale'].isna()).value_counts().rename('Not Pendulum')\n",
    "is_pendulum = monster_df['Primary type'].where(monster_df['Pendulum Scale'].notna()).value_counts().rename('Pendulum')\n",
    "pendulum = pd.concat([not_pendulum,is_pendulum], axis=1).fillna(0).astype(int)\n",
    "pendulum"
   ]
  },
  {
   "cell_type": "code",
   "execution_count": null,
   "id": "fd0ff75c",
   "metadata": {
    "papermill": {
     "duration": 0.38907,
     "end_time": "2023-02-04T21:19:06.872594",
     "exception": false,
     "start_time": "2023-02-04T21:19:06.483524",
     "status": "completed"
    },
    "tags": []
   },
   "outputs": [],
   "source": [
    "monster_type_colors_b = {'Pendulum': colors_dict['Pendulum Monster'], 'Not Pendulum': [colors_dict[i] for i in pendulum.index]}\n",
    "pendulum.plot.bar(figsize = (18,6), stacked = True, grid = True, rot=0, color = monster_type_colors_b, legend=True, title = 'Primary types - Is pendulum')\n",
    "plt.show()"
   ]
  },
  {
   "cell_type": "markdown",
   "id": "a6a4f4f5",
   "metadata": {
    "papermill": {
     "duration": 0.049519,
     "end_time": "2023-02-04T21:19:06.972454",
     "exception": false,
     "start_time": "2023-02-04T21:19:06.922935",
     "status": "completed"
    },
    "tags": []
   },
   "source": [
    "#### By attribute"
   ]
  },
  {
   "cell_type": "code",
   "execution_count": null,
   "id": "9c162519",
   "metadata": {
    "papermill": {
     "duration": 0.111366,
     "end_time": "2023-02-04T21:19:07.131692",
     "exception": false,
     "start_time": "2023-02-04T21:19:07.020326",
     "status": "completed"
    },
    "tags": []
   },
   "outputs": [],
   "source": [
    "primmary_crosstab = pd.crosstab(full_df['Primary type'],full_df['Attribute'])\n",
    "primmary_crosstab"
   ]
  },
  {
   "cell_type": "code",
   "execution_count": null,
   "id": "a0114f45",
   "metadata": {
    "papermill": {
     "duration": 1.33974,
     "end_time": "2023-02-04T21:19:08.521513",
     "exception": false,
     "start_time": "2023-02-04T21:19:07.181773",
     "status": "completed"
    },
    "tags": []
   },
   "outputs": [],
   "source": [
    "plt.figure(figsize = (16,10))\n",
    "sns.heatmap(primmary_crosstab.T, annot=True, fmt=\"g\", cmap='viridis', square=True, norm=mc.LogNorm())\n",
    "plt.show()"
   ]
  },
  {
   "cell_type": "markdown",
   "id": "0c70885e",
   "metadata": {
    "papermill": {
     "duration": 0.049614,
     "end_time": "2023-02-04T21:19:08.621717",
     "exception": false,
     "start_time": "2023-02-04T21:19:08.572103",
     "status": "completed"
    },
    "tags": []
   },
   "source": [
    "### Secondary types"
   ]
  },
  {
   "cell_type": "code",
   "execution_count": null,
   "id": "ee184462",
   "metadata": {
    "papermill": {
     "duration": 0.062192,
     "end_time": "2023-02-04T21:19:08.741270",
     "exception": false,
     "start_time": "2023-02-04T21:19:08.679078",
     "status": "completed"
    },
    "tags": []
   },
   "outputs": [],
   "source": [
    "print('Total number of secondary types:', monster_df['Secondary type'].nunique())"
   ]
  },
  {
   "cell_type": "code",
   "execution_count": null,
   "id": "125f438e",
   "metadata": {
    "papermill": {
     "duration": 0.15185,
     "end_time": "2023-02-04T21:19:08.943437",
     "exception": false,
     "start_time": "2023-02-04T21:19:08.791587",
     "status": "completed"
    },
    "tags": []
   },
   "outputs": [],
   "source": [
    "monster_df.drop(columns=['Card type', 'Link', 'Link Arrows']).groupby('Secondary type').nunique()"
   ]
  },
  {
   "cell_type": "code",
   "execution_count": null,
   "id": "a4fec827",
   "metadata": {
    "papermill": {
     "duration": 0.332496,
     "end_time": "2023-02-04T21:19:09.327983",
     "exception": false,
     "start_time": "2023-02-04T21:19:08.995487",
     "status": "completed"
    },
    "tags": []
   },
   "outputs": [],
   "source": [
    "secondary_type_colors = colors_dict['Effect Monster']\n",
    "monster_df['Secondary type'].value_counts().plot.bar(figsize = (18,6), stacked = True, grid = True, rot=0, color = secondary_type_colors, legend=False, title = 'Secondary type')\n",
    "plt.show()"
   ]
  },
  {
   "cell_type": "markdown",
   "id": "0420679a",
   "metadata": {
    "papermill": {
     "duration": 0.054502,
     "end_time": "2023-02-04T21:19:09.464444",
     "exception": false,
     "start_time": "2023-02-04T21:19:09.409942",
     "status": "completed"
    },
    "tags": []
   },
   "source": [
    "#### By attribute"
   ]
  },
  {
   "cell_type": "code",
   "execution_count": null,
   "id": "085225bb",
   "metadata": {
    "papermill": {
     "duration": 0.089459,
     "end_time": "2023-02-04T21:19:09.602382",
     "exception": false,
     "start_time": "2023-02-04T21:19:09.512923",
     "status": "completed"
    },
    "tags": []
   },
   "outputs": [],
   "source": [
    "secondary_crosstab = pd.crosstab(full_df['Secondary type'],full_df['Attribute'])\n",
    "secondary_crosstab"
   ]
  },
  {
   "cell_type": "code",
   "execution_count": null,
   "id": "b69fe297",
   "metadata": {
    "papermill": {
     "duration": 0.464091,
     "end_time": "2023-02-04T21:19:10.115754",
     "exception": false,
     "start_time": "2023-02-04T21:19:09.651663",
     "status": "completed"
    },
    "tags": []
   },
   "outputs": [],
   "source": [
    "plt.figure(figsize = (8,6))\n",
    "sns.heatmap(secondary_crosstab[secondary_crosstab>0], annot=True, fmt=\"g\", cmap='viridis', square=True)\n",
    "plt.show()"
   ]
  },
  {
   "cell_type": "markdown",
   "id": "30b035c2",
   "metadata": {
    "papermill": {
     "duration": 0.071482,
     "end_time": "2023-02-04T21:19:10.237892",
     "exception": false,
     "start_time": "2023-02-04T21:19:10.166410",
     "status": "completed"
    },
    "tags": []
   },
   "source": [
    "#### By secondary type"
   ]
  },
  {
   "cell_type": "code",
   "execution_count": null,
   "id": "c8f08039",
   "metadata": {
    "papermill": {
     "duration": 0.130268,
     "end_time": "2023-02-04T21:19:10.424911",
     "exception": false,
     "start_time": "2023-02-04T21:19:10.294643",
     "status": "completed"
    },
    "tags": []
   },
   "outputs": [],
   "source": [
    "secondary_crosstab_b = pd.crosstab(full_df['Primary type'],full_df['Secondary type'], margins = True)\n",
    "secondary_crosstab_b"
   ]
  },
  {
   "cell_type": "code",
   "execution_count": null,
   "id": "4749ace2",
   "metadata": {
    "papermill": {
     "duration": 0.709053,
     "end_time": "2023-02-04T21:19:11.186050",
     "exception": false,
     "start_time": "2023-02-04T21:19:10.476997",
     "status": "completed"
    },
    "tags": []
   },
   "outputs": [],
   "source": [
    "plt.figure(figsize = (10,7))\n",
    "sns.heatmap(secondary_crosstab_b, annot=True, fmt=\"g\", cmap='viridis', square=True, norm=mc.LogNorm())\n",
    "plt.show()"
   ]
  },
  {
   "cell_type": "markdown",
   "id": "9682c65a",
   "metadata": {
    "papermill": {
     "duration": 0.078541,
     "end_time": "2023-02-04T21:19:11.316518",
     "exception": false,
     "start_time": "2023-02-04T21:19:11.237977",
     "status": "completed"
    },
    "tags": []
   },
   "source": [
    "### Monster types"
   ]
  },
  {
   "cell_type": "code",
   "execution_count": null,
   "id": "dab77100",
   "metadata": {
    "papermill": {
     "duration": 0.065527,
     "end_time": "2023-02-04T21:19:11.434874",
     "exception": false,
     "start_time": "2023-02-04T21:19:11.369347",
     "status": "completed"
    },
    "tags": []
   },
   "outputs": [],
   "source": [
    "print('Total number of monster types:', monster_df['Monster type'].nunique())"
   ]
  },
  {
   "cell_type": "code",
   "execution_count": null,
   "id": "02f5b750",
   "metadata": {
    "papermill": {
     "duration": 0.158314,
     "end_time": "2023-02-04T21:19:11.646967",
     "exception": false,
     "start_time": "2023-02-04T21:19:11.488653",
     "status": "completed"
    },
    "tags": []
   },
   "outputs": [],
   "source": [
    "monster_df.drop(columns=['Card type']).groupby('Monster type').nunique()"
   ]
  },
  {
   "cell_type": "code",
   "execution_count": null,
   "id": "75111774",
   "metadata": {
    "papermill": {
     "duration": 0.496805,
     "end_time": "2023-02-04T21:19:12.198822",
     "exception": false,
     "start_time": "2023-02-04T21:19:11.702017",
     "status": "completed"
    },
    "tags": []
   },
   "outputs": [],
   "source": [
    "monster_type_colors = colors_dict['Monster Card']\n",
    "monster_df['Monster type'].value_counts().plot.bar(figsize = (18,6), grid = True, rot=45, color = monster_type_colors, title = 'Monster type')\n",
    "plt.show()"
   ]
  },
  {
   "cell_type": "markdown",
   "id": "32d282b7",
   "metadata": {
    "papermill": {
     "duration": 0.054182,
     "end_time": "2023-02-04T21:19:12.308137",
     "exception": false,
     "start_time": "2023-02-04T21:19:12.253955",
     "status": "completed"
    },
    "tags": []
   },
   "source": [
    "#### By Attribute"
   ]
  },
  {
   "cell_type": "code",
   "execution_count": null,
   "id": "23d29373",
   "metadata": {
    "papermill": {
     "duration": 0.10192,
     "end_time": "2023-02-04T21:19:12.472406",
     "exception": false,
     "start_time": "2023-02-04T21:19:12.370486",
     "status": "completed"
    },
    "tags": []
   },
   "outputs": [],
   "source": [
    "monster_crosstab = pd.crosstab(full_df['Monster type'],full_df['Attribute'], dropna=False)\n",
    "monster_crosstab"
   ]
  },
  {
   "cell_type": "code",
   "execution_count": null,
   "id": "fd9ca22d",
   "metadata": {
    "papermill": {
     "duration": 1.28807,
     "end_time": "2023-02-04T21:19:13.817332",
     "exception": false,
     "start_time": "2023-02-04T21:19:12.529262",
     "status": "completed"
    },
    "tags": []
   },
   "outputs": [],
   "source": [
    "plt.figure(figsize = (20,5))\n",
    "sns.heatmap(monster_crosstab[monster_crosstab>0].T, annot=True, fmt=\"g\", cmap='viridis', square=True, norm=mc.LogNorm())\n",
    "plt.show()"
   ]
  },
  {
   "cell_type": "markdown",
   "id": "4daa9957",
   "metadata": {
    "papermill": {
     "duration": 0.057378,
     "end_time": "2023-02-04T21:19:13.931594",
     "exception": false,
     "start_time": "2023-02-04T21:19:13.874216",
     "status": "completed"
    },
    "tags": []
   },
   "source": [
    "#### By primary type"
   ]
  },
  {
   "cell_type": "code",
   "execution_count": null,
   "id": "0f5d0eda",
   "metadata": {
    "papermill": {
     "duration": 0.113575,
     "end_time": "2023-02-04T21:19:14.105607",
     "exception": false,
     "start_time": "2023-02-04T21:19:13.992032",
     "status": "completed"
    },
    "tags": []
   },
   "outputs": [],
   "source": [
    "monster_crosstab_b = pd.crosstab(full_df['Monster type'],full_df['Primary type'], dropna=False)\n",
    "monster_crosstab_b"
   ]
  },
  {
   "cell_type": "code",
   "execution_count": null,
   "id": "5f3b531c",
   "metadata": {
    "papermill": {
     "duration": 1.199806,
     "end_time": "2023-02-04T21:19:15.365542",
     "exception": false,
     "start_time": "2023-02-04T21:19:14.165736",
     "status": "completed"
    },
    "tags": []
   },
   "outputs": [],
   "source": [
    "plt.figure(figsize = (20,5))\n",
    "sns.heatmap(monster_crosstab_b[monster_crosstab_b>0].T, annot=True, fmt=\"g\", cmap='viridis', square=True, norm = mc.LogNorm())\n",
    "plt.show()"
   ]
  },
  {
   "cell_type": "markdown",
   "id": "9056b880",
   "metadata": {
    "papermill": {
     "duration": 0.107207,
     "end_time": "2023-02-04T21:19:15.549407",
     "exception": false,
     "start_time": "2023-02-04T21:19:15.442200",
     "status": "completed"
    },
    "tags": []
   },
   "source": [
    "#### By secondary type"
   ]
  },
  {
   "cell_type": "code",
   "execution_count": null,
   "id": "cbe5bef6",
   "metadata": {
    "papermill": {
     "duration": 0.1105,
     "end_time": "2023-02-04T21:19:15.719904",
     "exception": false,
     "start_time": "2023-02-04T21:19:15.609404",
     "status": "completed"
    },
    "tags": []
   },
   "outputs": [],
   "source": [
    "monster_crosstab_c = pd.crosstab(full_df['Monster type'],full_df['Secondary type'], dropna=False)\n",
    "monster_crosstab_c"
   ]
  },
  {
   "cell_type": "code",
   "execution_count": null,
   "id": "3712cc0e",
   "metadata": {
    "papermill": {
     "duration": 1.143417,
     "end_time": "2023-02-04T21:19:16.931550",
     "exception": false,
     "start_time": "2023-02-04T21:19:15.788133",
     "status": "completed"
    },
    "tags": []
   },
   "outputs": [],
   "source": [
    "plt.figure(figsize = (20,5))\n",
    "sns.heatmap(monster_crosstab_c[monster_crosstab_c>0].T, annot=True, fmt=\"g\", cmap='viridis', square=True, norm = mc.LogNorm())\n",
    "plt.show()"
   ]
  },
  {
   "cell_type": "markdown",
   "id": "aaf6f5d6",
   "metadata": {
    "papermill": {
     "duration": 0.062938,
     "end_time": "2023-02-04T21:19:17.060428",
     "exception": false,
     "start_time": "2023-02-04T21:19:16.997490",
     "status": "completed"
    },
    "tags": []
   },
   "source": [
    "### Effect type"
   ]
  },
  {
   "cell_type": "code",
   "execution_count": null,
   "id": "b44949a6",
   "metadata": {
    "papermill": {
     "duration": 0.096153,
     "end_time": "2023-02-04T21:19:17.219749",
     "exception": false,
     "start_time": "2023-02-04T21:19:17.123596",
     "status": "completed"
    },
    "tags": []
   },
   "outputs": [],
   "source": [
    "print('Total number of effect types:', monster_df['Effect type'].explode().nunique())"
   ]
  },
  {
   "cell_type": "code",
   "execution_count": null,
   "id": "c4e48718",
   "metadata": {
    "papermill": {
     "duration": 0.318598,
     "end_time": "2023-02-04T21:19:17.602605",
     "exception": false,
     "start_time": "2023-02-04T21:19:17.284007",
     "status": "completed"
    },
    "tags": []
   },
   "outputs": [],
   "source": [
    "monster_df[monster_df['Effect type'].notna()].drop(columns=['Card type']).explode('Effect type').groupby('Effect type').nunique()"
   ]
  },
  {
   "cell_type": "code",
   "execution_count": null,
   "id": "ff912d52",
   "metadata": {
    "papermill": {
     "duration": 0.453871,
     "end_time": "2023-02-04T21:19:18.122656",
     "exception": false,
     "start_time": "2023-02-04T21:19:17.668785",
     "status": "completed"
    },
    "tags": []
   },
   "outputs": [],
   "source": [
    "monster_effect_colors = colors_dict['Effect Monster']\n",
    "monster_df['Effect type'].explode('Effect type').value_counts().plot.bar(figsize = (18,6), grid = True, color = monster_effect_colors, title='Effect type')\n",
    "# plt.yscale('log')\n",
    "plt.show()"
   ]
  },
  {
   "cell_type": "markdown",
   "id": "371f2c74",
   "metadata": {
    "papermill": {
     "duration": 0.105136,
     "end_time": "2023-02-04T21:19:18.294028",
     "exception": false,
     "start_time": "2023-02-04T21:19:18.188892",
     "status": "completed"
    },
    "tags": []
   },
   "source": [
    "### ATK"
   ]
  },
  {
   "cell_type": "code",
   "execution_count": null,
   "id": "1b5db865",
   "metadata": {
    "papermill": {
     "duration": 0.09507,
     "end_time": "2023-02-04T21:19:18.463101",
     "exception": false,
     "start_time": "2023-02-04T21:19:18.368031",
     "status": "completed"
    },
    "tags": []
   },
   "outputs": [],
   "source": [
    "print('Total number of ATK values:', monster_df['ATK'].nunique())"
   ]
  },
  {
   "cell_type": "code",
   "execution_count": null,
   "id": "16b9aa14",
   "metadata": {
    "papermill": {
     "duration": 0.193546,
     "end_time": "2023-02-04T21:19:18.734710",
     "exception": false,
     "start_time": "2023-02-04T21:19:18.541164",
     "status": "completed"
    },
    "tags": []
   },
   "outputs": [],
   "source": [
    "monster_df.drop(columns=['Card type']).groupby('ATK').nunique().sort_index(key=lambda x: pd.to_numeric(x, errors = 'coerce'))"
   ]
  },
  {
   "cell_type": "code",
   "execution_count": null,
   "id": "3b1b2e1d",
   "metadata": {
    "papermill": {
     "duration": 1.517715,
     "end_time": "2023-02-04T21:19:20.321665",
     "exception": false,
     "start_time": "2023-02-04T21:19:18.803950",
     "status": "completed"
    },
    "tags": []
   },
   "outputs": [],
   "source": [
    "atk_colors = colors_dict['Monster Card']\n",
    "monster_df['DEF'].value_counts().sort_index(key=lambda x: pd.to_numeric(x, errors = 'coerce')).plot.bar(figsize = (18,6), grid = True, color = atk_colors, title = 'ATK')\n",
    "plt.show()"
   ]
  },
  {
   "cell_type": "markdown",
   "id": "cda8b288",
   "metadata": {
    "papermill": {
     "duration": 0.137644,
     "end_time": "2023-02-04T21:19:20.528482",
     "exception": false,
     "start_time": "2023-02-04T21:19:20.390838",
     "status": "completed"
    },
    "tags": []
   },
   "source": [
    "### DEF"
   ]
  },
  {
   "cell_type": "code",
   "execution_count": null,
   "id": "2aa0ba61",
   "metadata": {
    "papermill": {
     "duration": 0.084409,
     "end_time": "2023-02-04T21:19:20.682333",
     "exception": false,
     "start_time": "2023-02-04T21:19:20.597924",
     "status": "completed"
    },
    "tags": []
   },
   "outputs": [],
   "source": [
    "print('Total number of DEF values:', monster_df['DEF'].nunique())"
   ]
  },
  {
   "cell_type": "code",
   "execution_count": null,
   "id": "54e9d56a",
   "metadata": {
    "papermill": {
     "duration": 0.263522,
     "end_time": "2023-02-04T21:19:21.021101",
     "exception": false,
     "start_time": "2023-02-04T21:19:20.757579",
     "status": "completed"
    },
    "tags": []
   },
   "outputs": [],
   "source": [
    "monster_df.drop(columns=['Card type']).groupby('DEF').nunique().sort_index(key=lambda x: pd.to_numeric(x, errors = 'coerce'))"
   ]
  },
  {
   "cell_type": "code",
   "execution_count": null,
   "id": "10aeff48",
   "metadata": {
    "papermill": {
     "duration": 1.095853,
     "end_time": "2023-02-04T21:19:22.185081",
     "exception": false,
     "start_time": "2023-02-04T21:19:21.089228",
     "status": "completed"
    },
    "tags": []
   },
   "outputs": [],
   "source": [
    "def_colors = colors_dict['Monster Card']\n",
    "monster_df['DEF'].value_counts().sort_index(key=lambda x: pd.to_numeric(x, errors = 'coerce')).plot.bar(figsize = (18,6), grid = True, color = def_colors, title = 'DEF')\n",
    "plt.show()"
   ]
  },
  {
   "cell_type": "markdown",
   "id": "4f26bf6d",
   "metadata": {
    "papermill": {
     "duration": 0.068776,
     "end_time": "2023-02-04T21:19:22.325640",
     "exception": false,
     "start_time": "2023-02-04T21:19:22.256864",
     "status": "completed"
    },
    "tags": []
   },
   "source": [
    "### Level/Rank"
   ]
  },
  {
   "cell_type": "code",
   "execution_count": null,
   "id": "f5543138",
   "metadata": {
    "papermill": {
     "duration": 0.169781,
     "end_time": "2023-02-04T21:19:22.568199",
     "exception": false,
     "start_time": "2023-02-04T21:19:22.398418",
     "status": "completed"
    },
    "tags": []
   },
   "outputs": [],
   "source": [
    "monster_df.drop(columns=['Card type', 'Link', 'Link Arrows']).groupby('Level/Rank').nunique().sort_index(key=lambda x: pd.to_numeric(x, errors = 'coerce'))"
   ]
  },
  {
   "cell_type": "code",
   "execution_count": null,
   "id": "31539bdc",
   "metadata": {
    "papermill": {
     "duration": 0.395823,
     "end_time": "2023-02-04T21:19:23.033728",
     "exception": false,
     "start_time": "2023-02-04T21:19:22.637905",
     "status": "completed"
    },
    "tags": []
   },
   "outputs": [],
   "source": [
    "stars_colors = colors_dict['Level']\n",
    "monster_df['Level/Rank'].value_counts().sort_index(key=lambda x: pd.to_numeric(x, errors = 'coerce')).plot.bar(figsize = (18,6), grid = True, rot=0, color= stars_colors, title = 'Level/Rank')\n",
    "plt.show()"
   ]
  },
  {
   "cell_type": "markdown",
   "id": "6a08e2b8",
   "metadata": {
    "papermill": {
     "duration": 0.071502,
     "end_time": "2023-02-04T21:19:23.183883",
     "exception": false,
     "start_time": "2023-02-04T21:19:23.112381",
     "status": "completed"
    },
    "tags": []
   },
   "source": [
    "#### ATK statistics"
   ]
  },
  {
   "cell_type": "code",
   "execution_count": null,
   "id": "06dc9107",
   "metadata": {
    "papermill": {
     "duration": 0.175476,
     "end_time": "2023-02-04T21:19:23.433574",
     "exception": false,
     "start_time": "2023-02-04T21:19:23.258098",
     "status": "completed"
    },
    "tags": []
   },
   "outputs": [],
   "source": [
    "monster_df[['Level/Rank','ATK']].apply(pd.to_numeric, errors = 'coerce').dropna().astype(int).groupby('Level/Rank').describe()"
   ]
  },
  {
   "cell_type": "markdown",
   "id": "b8a04916",
   "metadata": {
    "papermill": {
     "duration": 0.071022,
     "end_time": "2023-02-04T21:19:23.575919",
     "exception": false,
     "start_time": "2023-02-04T21:19:23.504897",
     "status": "completed"
    },
    "tags": []
   },
   "source": [
    "#### DEF statistics"
   ]
  },
  {
   "cell_type": "code",
   "execution_count": null,
   "id": "cc005e78",
   "metadata": {
    "papermill": {
     "duration": 0.174006,
     "end_time": "2023-02-04T21:19:23.820706",
     "exception": false,
     "start_time": "2023-02-04T21:19:23.646700",
     "status": "completed"
    },
    "tags": []
   },
   "outputs": [],
   "source": [
    "monster_df[['Level/Rank','DEF']].apply(pd.to_numeric, errors = 'coerce').dropna().astype(int).groupby('Level/Rank').describe()"
   ]
  },
  {
   "cell_type": "markdown",
   "id": "4029a29d",
   "metadata": {
    "papermill": {
     "duration": 0.073486,
     "end_time": "2023-02-04T21:19:23.965201",
     "exception": false,
     "start_time": "2023-02-04T21:19:23.891715",
     "status": "completed"
    },
    "tags": []
   },
   "source": [
    "### Pendulum scale"
   ]
  },
  {
   "cell_type": "code",
   "execution_count": null,
   "id": "9db07376",
   "metadata": {
    "papermill": {
     "duration": 0.171541,
     "end_time": "2023-02-04T21:19:24.208037",
     "exception": false,
     "start_time": "2023-02-04T21:19:24.036496",
     "status": "completed"
    },
    "tags": []
   },
   "outputs": [],
   "source": [
    "monster_df.drop(columns=['Card type', 'Link', 'Link Arrows']).groupby('Pendulum Scale').nunique().sort_index(key=lambda x: pd.to_numeric(x, errors = 'coerce'))"
   ]
  },
  {
   "cell_type": "code",
   "execution_count": null,
   "id": "331eba0b",
   "metadata": {
    "papermill": {
     "duration": 0.410044,
     "end_time": "2023-02-04T21:19:24.698529",
     "exception": false,
     "start_time": "2023-02-04T21:19:24.288485",
     "status": "completed"
    },
    "tags": []
   },
   "outputs": [],
   "source": [
    "scales_colors = colors_dict['Pendulum Monster']\n",
    "monster_df['Pendulum Scale'].value_counts().sort_index(key=lambda x: pd.to_numeric(x, errors = 'coerce')).plot.bar(figsize = (18,6), grid = True, rot=0, color = scales_colors, title = 'Pendulum scale')\n",
    "plt.show()"
   ]
  },
  {
   "cell_type": "markdown",
   "id": "c4cee785",
   "metadata": {
    "papermill": {
     "duration": 0.073482,
     "end_time": "2023-02-04T21:19:24.849468",
     "exception": false,
     "start_time": "2023-02-04T21:19:24.775986",
     "status": "completed"
    },
    "tags": []
   },
   "source": [
    "#### ATK statistics"
   ]
  },
  {
   "cell_type": "code",
   "execution_count": null,
   "id": "75427d69",
   "metadata": {
    "papermill": {
     "duration": 0.166493,
     "end_time": "2023-02-04T21:19:25.091518",
     "exception": false,
     "start_time": "2023-02-04T21:19:24.925025",
     "status": "completed"
    },
    "tags": []
   },
   "outputs": [],
   "source": [
    "monster_df[['Pendulum Scale','ATK']].apply(pd.to_numeric, errors = 'coerce').dropna().astype(int).groupby('Pendulum Scale').describe()"
   ]
  },
  {
   "cell_type": "markdown",
   "id": "3ee4da76",
   "metadata": {
    "papermill": {
     "duration": 0.072567,
     "end_time": "2023-02-04T21:19:25.238068",
     "exception": false,
     "start_time": "2023-02-04T21:19:25.165501",
     "status": "completed"
    },
    "tags": []
   },
   "source": [
    "#### DEF statistics"
   ]
  },
  {
   "cell_type": "code",
   "execution_count": null,
   "id": "c474abd4",
   "metadata": {
    "papermill": {
     "duration": 0.170497,
     "end_time": "2023-02-04T21:19:25.482841",
     "exception": false,
     "start_time": "2023-02-04T21:19:25.312344",
     "status": "completed"
    },
    "tags": []
   },
   "outputs": [],
   "source": [
    "monster_df[['Pendulum Scale','DEF']].apply(pd.to_numeric, errors = 'coerce').dropna().astype(int).groupby('Pendulum Scale').describe()"
   ]
  },
  {
   "cell_type": "markdown",
   "id": "87d81ad5",
   "metadata": {
    "papermill": {
     "duration": 0.072834,
     "end_time": "2023-02-04T21:19:25.630584",
     "exception": false,
     "start_time": "2023-02-04T21:19:25.557750",
     "status": "completed"
    },
    "tags": []
   },
   "source": [
    "#### Level/Rank statistics"
   ]
  },
  {
   "cell_type": "code",
   "execution_count": null,
   "id": "027c9b3e",
   "metadata": {
    "papermill": {
     "duration": 0.208767,
     "end_time": "2023-02-04T21:19:25.913936",
     "exception": false,
     "start_time": "2023-02-04T21:19:25.705169",
     "status": "completed"
    },
    "tags": []
   },
   "outputs": [],
   "source": [
    "monster_df[['Pendulum Scale','Level/Rank']].apply(pd.to_numeric, errors = 'coerce').dropna().astype(int).groupby('Pendulum Scale').describe()"
   ]
  },
  {
   "cell_type": "markdown",
   "id": "93f3aba0",
   "metadata": {
    "papermill": {
     "duration": 0.074171,
     "end_time": "2023-02-04T21:19:26.064791",
     "exception": false,
     "start_time": "2023-02-04T21:19:25.990620",
     "status": "completed"
    },
    "tags": []
   },
   "source": [
    "### Link"
   ]
  },
  {
   "cell_type": "code",
   "execution_count": null,
   "id": "3ba56226",
   "metadata": {
    "papermill": {
     "duration": 0.169506,
     "end_time": "2023-02-04T21:19:26.309306",
     "exception": false,
     "start_time": "2023-02-04T21:19:26.139800",
     "status": "completed"
    },
    "tags": []
   },
   "outputs": [],
   "source": [
    "monster_df.drop(columns=['Card type', 'Primary type', 'Secondary type','Level/Rank','DEF','Pendulum Scale']).groupby('Link').nunique().sort_index(key=lambda x: pd.to_numeric(x, errors = 'coerce'))"
   ]
  },
  {
   "cell_type": "code",
   "execution_count": null,
   "id": "3afbb00a",
   "metadata": {
    "papermill": {
     "duration": 0.351052,
     "end_time": "2023-02-04T21:19:26.743811",
     "exception": false,
     "start_time": "2023-02-04T21:19:26.392759",
     "status": "completed"
    },
    "tags": []
   },
   "outputs": [],
   "source": [
    "link_colors = colors_dict['Link Monster']\n",
    "monster_df['Link'].value_counts().sort_index(key=lambda x: pd.to_numeric(x, errors = 'coerce')).plot.bar(figsize = (18,6), grid = True, rot=0, color = link_colors, title='Link')\n",
    "plt.show()"
   ]
  },
  {
   "cell_type": "markdown",
   "id": "5f20abde",
   "metadata": {
    "papermill": {
     "duration": 0.075743,
     "end_time": "2023-02-04T21:19:26.894006",
     "exception": false,
     "start_time": "2023-02-04T21:19:26.818263",
     "status": "completed"
    },
    "tags": []
   },
   "source": [
    "#### ATK statistics"
   ]
  },
  {
   "cell_type": "code",
   "execution_count": null,
   "id": "c80d9372",
   "metadata": {
    "papermill": {
     "duration": 0.252884,
     "end_time": "2023-02-04T21:19:27.221813",
     "exception": false,
     "start_time": "2023-02-04T21:19:26.968929",
     "status": "completed"
    },
    "tags": []
   },
   "outputs": [],
   "source": [
    "monster_df[['Link','ATK']].apply(pd.to_numeric, errors = 'coerce').dropna().astype(int).groupby('Link').describe()"
   ]
  },
  {
   "cell_type": "markdown",
   "id": "f585a876",
   "metadata": {
    "papermill": {
     "duration": 0.080167,
     "end_time": "2023-02-04T21:19:27.377931",
     "exception": false,
     "start_time": "2023-02-04T21:19:27.297764",
     "status": "completed"
    },
    "tags": []
   },
   "source": [
    "### Link Arrows"
   ]
  },
  {
   "cell_type": "markdown",
   "id": "b1373514",
   "metadata": {
    "papermill": {
     "duration": 0.076657,
     "end_time": "2023-02-04T21:19:27.533706",
     "exception": false,
     "start_time": "2023-02-04T21:19:27.457049",
     "status": "completed"
    },
    "tags": []
   },
   "source": [
    "#### By combination"
   ]
  },
  {
   "cell_type": "code",
   "execution_count": null,
   "id": "1130304f",
   "metadata": {
    "papermill": {
     "duration": 0.088058,
     "end_time": "2023-02-04T21:19:27.696270",
     "exception": false,
     "start_time": "2023-02-04T21:19:27.608212",
     "status": "completed"
    },
    "tags": []
   },
   "outputs": [],
   "source": [
    "print('Total number of link arrow combinations:', monster_df['Link Arrows'].nunique())"
   ]
  },
  {
   "cell_type": "code",
   "execution_count": null,
   "id": "7acfc7a1",
   "metadata": {
    "papermill": {
     "duration": 0.162532,
     "end_time": "2023-02-04T21:19:27.935355",
     "exception": false,
     "start_time": "2023-02-04T21:19:27.772823",
     "status": "completed"
    },
    "tags": []
   },
   "outputs": [],
   "source": [
    "monster_df.drop(columns=['Card type', 'Primary type', 'Level/Rank', 'Pendulum Scale', 'Link', 'Secondary type', 'DEF']).groupby('Link Arrows').nunique()"
   ]
  },
  {
   "cell_type": "code",
   "execution_count": null,
   "id": "66c65c93",
   "metadata": {
    "papermill": {
     "duration": 1.139615,
     "end_time": "2023-02-04T21:19:29.157761",
     "exception": false,
     "start_time": "2023-02-04T21:19:28.018146",
     "status": "completed"
    },
    "tags": []
   },
   "outputs": [],
   "source": [
    "arrows_colors = colors_dict['Link Monster']\n",
    "monster_df['Link Arrows'].value_counts().plot.barh(figsize = (10,20), grid = True, color = arrows_colors, title = 'Link arrows combinations')\n",
    "plt.show()"
   ]
  },
  {
   "cell_type": "markdown",
   "id": "aa520eaf",
   "metadata": {
    "papermill": {
     "duration": 0.080055,
     "end_time": "2023-02-04T21:19:29.317644",
     "exception": false,
     "start_time": "2023-02-04T21:19:29.237589",
     "status": "completed"
    },
    "tags": []
   },
   "source": [
    "#### By unique"
   ]
  },
  {
   "cell_type": "code",
   "execution_count": null,
   "id": "85cda4e5",
   "metadata": {
    "papermill": {
     "duration": 0.130076,
     "end_time": "2023-02-04T21:19:29.525901",
     "exception": false,
     "start_time": "2023-02-04T21:19:29.395825",
     "status": "completed"
    },
    "tags": []
   },
   "outputs": [],
   "source": [
    "monster_df[monster_df['Link Arrows'].notna()].drop(columns=['Card type', 'Primary type', 'Level/Rank', 'Pendulum Scale', 'Secondary type', 'DEF']).explode('Link Arrows').groupby('Link Arrows').nunique()"
   ]
  },
  {
   "cell_type": "code",
   "execution_count": null,
   "id": "c3161d6e",
   "metadata": {
    "papermill": {
     "duration": 0.390555,
     "end_time": "2023-02-04T21:19:29.996924",
     "exception": false,
     "start_time": "2023-02-04T21:19:29.606369",
     "status": "completed"
    },
    "tags": []
   },
   "outputs": [],
   "source": [
    "arrows_colors_b = colors_dict['Link Monster']\n",
    "monster_df['Link Arrows'].explode('Link Arrows').value_counts().plot.bar(figsize = (18,6), grid = True, color = arrows_colors_b, title = 'Link arrows')\n",
    "plt.show()"
   ]
  },
  {
   "cell_type": "markdown",
   "id": "e36f6792",
   "metadata": {
    "papermill": {
     "duration": 0.080469,
     "end_time": "2023-02-04T21:19:30.158642",
     "exception": false,
     "start_time": "2023-02-04T21:19:30.078173",
     "status": "completed"
    },
    "tags": []
   },
   "source": [
    "#### By link"
   ]
  },
  {
   "cell_type": "code",
   "execution_count": null,
   "id": "8a6b3372",
   "metadata": {
    "papermill": {
     "duration": 0.134246,
     "end_time": "2023-02-04T21:19:30.438397",
     "exception": false,
     "start_time": "2023-02-04T21:19:30.304151",
     "status": "completed"
    },
    "tags": []
   },
   "outputs": [],
   "source": [
    "arrow_per_link = monster_df[['Link Arrows','Link']].explode('Link Arrows').dropna()\n",
    "arrow_crosstab = pd.crosstab(arrow_per_link['Link Arrows'],arrow_per_link['Link'])\n",
    "arrow_crosstab"
   ]
  },
  {
   "cell_type": "code",
   "execution_count": null,
   "id": "a22dab12",
   "metadata": {
    "papermill": {
     "duration": 0.829558,
     "end_time": "2023-02-04T21:19:31.506512",
     "exception": false,
     "start_time": "2023-02-04T21:19:30.676954",
     "status": "completed"
    },
    "tags": []
   },
   "outputs": [],
   "source": [
    "plt.figure(figsize = (10,6))\n",
    "sns.heatmap(arrow_crosstab[arrow_crosstab>0].T, annot=True, fmt=\"g\", cmap='viridis', square=True, norm=mc.LogNorm())\n",
    "plt.show()"
   ]
  },
  {
   "cell_type": "markdown",
   "id": "bb0bbf58",
   "metadata": {
    "papermill": {
     "duration": 0.166497,
     "end_time": "2023-02-04T21:19:31.755929",
     "exception": false,
     "start_time": "2023-02-04T21:19:31.589432",
     "status": "completed"
    },
    "tags": []
   },
   "source": [
    "## Spell & Trap"
   ]
  },
  {
   "cell_type": "markdown",
   "id": "f47b1472",
   "metadata": {
    "papermill": {
     "duration": 0.080966,
     "end_time": "2023-02-04T21:19:31.917514",
     "exception": false,
     "start_time": "2023-02-04T21:19:31.836548",
     "status": "completed"
    },
    "tags": []
   },
   "source": [
    "### Properties"
   ]
  },
  {
   "cell_type": "code",
   "execution_count": null,
   "id": "fdd7cb44",
   "metadata": {
    "papermill": {
     "duration": 0.090465,
     "end_time": "2023-02-04T21:19:32.089124",
     "exception": false,
     "start_time": "2023-02-04T21:19:31.998659",
     "status": "completed"
    },
    "tags": []
   },
   "outputs": [],
   "source": [
    "print('Total number of properties:', st_df['Property'].nunique())"
   ]
  },
  {
   "cell_type": "code",
   "execution_count": null,
   "id": "52c0aa20",
   "metadata": {
    "papermill": {
     "duration": 0.132265,
     "end_time": "2023-02-04T21:19:32.302883",
     "exception": false,
     "start_time": "2023-02-04T21:19:32.170618",
     "status": "completed"
    },
    "tags": []
   },
   "outputs": [],
   "source": [
    "st_df.drop(columns=['Card type']).groupby('Property').nunique()"
   ]
  },
  {
   "cell_type": "code",
   "execution_count": null,
   "id": "cd537db7",
   "metadata": {
    "papermill": {
     "duration": 0.426037,
     "end_time": "2023-02-04T21:19:32.810858",
     "exception": false,
     "start_time": "2023-02-04T21:19:32.384821",
     "status": "completed"
    },
    "tags": []
   },
   "outputs": [],
   "source": [
    "st_colors = [colors_dict[i] for i in full_df[['Card type','Property']].value_counts().index.get_level_values(0)]\n",
    "st_df['Property'].value_counts().plot.bar(figsize = (18,6), grid = True, rot=45, color = st_colors, title = 'Property')\n",
    "plt.show()"
   ]
  },
  {
   "cell_type": "markdown",
   "id": "eab733b7",
   "metadata": {
    "papermill": {
     "duration": 0.180159,
     "end_time": "2023-02-04T21:19:33.080111",
     "exception": false,
     "start_time": "2023-02-04T21:19:32.899952",
     "status": "completed"
    },
    "tags": []
   },
   "source": [
    "### Effect type"
   ]
  },
  {
   "cell_type": "code",
   "execution_count": null,
   "id": "f955ec1d",
   "metadata": {
    "papermill": {
     "duration": 0.104369,
     "end_time": "2023-02-04T21:19:33.270581",
     "exception": false,
     "start_time": "2023-02-04T21:19:33.166212",
     "status": "completed"
    },
    "tags": []
   },
   "outputs": [],
   "source": [
    "print('Total number of effect types:', st_df['Effect type'].explode().nunique())"
   ]
  },
  {
   "cell_type": "code",
   "execution_count": null,
   "id": "9e0f62a2",
   "metadata": {
    "papermill": {
     "duration": 0.188976,
     "end_time": "2023-02-04T21:19:33.544358",
     "exception": false,
     "start_time": "2023-02-04T21:19:33.355382",
     "status": "completed"
    },
    "tags": []
   },
   "outputs": [],
   "source": [
    "st_df.explode('Effect type').groupby('Effect type').nunique()"
   ]
  },
  {
   "cell_type": "markdown",
   "id": "64868037",
   "metadata": {
    "papermill": {
     "duration": 0.084097,
     "end_time": "2023-02-04T21:19:33.712210",
     "exception": false,
     "start_time": "2023-02-04T21:19:33.628113",
     "status": "completed"
    },
    "tags": []
   },
   "source": [
    "#### Spell & Trap discrimination"
   ]
  },
  {
   "cell_type": "code",
   "execution_count": null,
   "id": "75843f9d",
   "metadata": {
    "papermill": {
     "duration": 0.118432,
     "end_time": "2023-02-04T21:19:33.915838",
     "exception": false,
     "start_time": "2023-02-04T21:19:33.797406",
     "status": "completed"
    },
    "tags": []
   },
   "outputs": [],
   "source": [
    "spell = spell_df['Effect type'].explode('Effect type').value_counts().rename('Spell Card')\n",
    "trap = trap_df['Effect type'].explode('Effect type').value_counts().rename('Trap Card')\n",
    "st_diff = pd.concat([spell, trap], axis = 1).fillna(0).astype(int)\n",
    "st_diff"
   ]
  },
  {
   "cell_type": "code",
   "execution_count": null,
   "id": "373757a0",
   "metadata": {
    "papermill": {
     "duration": 0.536276,
     "end_time": "2023-02-04T21:19:34.542180",
     "exception": false,
     "start_time": "2023-02-04T21:19:34.005904",
     "status": "completed"
    },
    "tags": []
   },
   "outputs": [],
   "source": [
    "st_diff_colors = {'Spell Card': colors_dict['Spell Card'], 'Trap Card': colors_dict['Trap Card']}\n",
    "st_diff.plot.bar(figsize = (18,6), stacked = True, grid = True, rot=45, color = st_diff_colors, title = 'Effect type')\n",
    "plt.show()"
   ]
  },
  {
   "cell_type": "markdown",
   "id": "0013b7c7",
   "metadata": {
    "papermill": {
     "duration": 0.087029,
     "end_time": "2023-02-04T21:19:34.722420",
     "exception": false,
     "start_time": "2023-02-04T21:19:34.635391",
     "status": "completed"
    },
    "tags": []
   },
   "source": [
    "## Archseries"
   ]
  },
  {
   "cell_type": "code",
   "execution_count": null,
   "id": "ce1470dc",
   "metadata": {
    "papermill": {
     "duration": 0.210232,
     "end_time": "2023-02-04T21:19:35.025330",
     "exception": false,
     "start_time": "2023-02-04T21:19:34.815098",
     "status": "completed"
    },
    "tags": []
   },
   "outputs": [],
   "source": [
    "exploded_archseries = full_df.explode('Archseries')\n",
    "print('Total number of Archseries:', exploded_archseries['Archseries'].nunique())"
   ]
  },
  {
   "cell_type": "code",
   "execution_count": null,
   "id": "f31c5b8c",
   "metadata": {
    "papermill": {
     "duration": 0.392781,
     "end_time": "2023-02-04T21:19:35.590860",
     "exception": false,
     "start_time": "2023-02-04T21:19:35.198079",
     "status": "completed"
    },
    "tags": []
   },
   "outputs": [],
   "source": [
    "exploded_archseries.groupby('Archseries').nunique()"
   ]
  },
  {
   "cell_type": "code",
   "execution_count": null,
   "id": "00c9f321",
   "metadata": {
    "papermill": {
     "duration": 10.691936,
     "end_time": "2023-02-04T21:19:46.371648",
     "exception": false,
     "start_time": "2023-02-04T21:19:35.679712",
     "status": "completed"
    },
    "tags": []
   },
   "outputs": [],
   "source": [
    "exploded_archseries['Archseries'].value_counts().plot.barh(figsize = (10,200), grid = True, title = 'Archtypes/Series')\n",
    "plt.show()"
   ]
  },
  {
   "cell_type": "markdown",
   "id": "cf3bf55f",
   "metadata": {
    "papermill": {
     "duration": 0.121176,
     "end_time": "2023-02-04T21:19:46.616743",
     "exception": false,
     "start_time": "2023-02-04T21:19:46.495567",
     "status": "completed"
    },
    "tags": []
   },
   "source": [
    "### By card type"
   ]
  },
  {
   "cell_type": "code",
   "execution_count": null,
   "id": "fbf65c3c",
   "metadata": {
    "papermill": {
     "duration": 0.302545,
     "end_time": "2023-02-04T21:19:47.048886",
     "exception": false,
     "start_time": "2023-02-04T21:19:46.746341",
     "status": "completed"
    },
    "tags": []
   },
   "outputs": [],
   "source": [
    "archseries_crosstab = pd.crosstab(exploded_archseries['Archseries'],exploded_archseries['Card type'], margins = True)\n",
    "archseries_crosstab"
   ]
  },
  {
   "cell_type": "markdown",
   "id": "960ea110",
   "metadata": {
    "papermill": {
     "duration": 0.120577,
     "end_time": "2023-02-04T21:19:47.293571",
     "exception": false,
     "start_time": "2023-02-04T21:19:47.172994",
     "status": "completed"
    },
    "tags": []
   },
   "source": [
    "### By primary type"
   ]
  },
  {
   "cell_type": "code",
   "execution_count": null,
   "id": "2c3671f0",
   "metadata": {
    "papermill": {
     "duration": 0.29722,
     "end_time": "2023-02-04T21:19:47.915616",
     "exception": false,
     "start_time": "2023-02-04T21:19:47.618396",
     "status": "completed"
    },
    "tags": []
   },
   "outputs": [],
   "source": [
    "archseries_crosstab_b = pd.crosstab(exploded_archseries['Archseries'],exploded_archseries['Primary type'], margins = True)\n",
    "archseries_crosstab_b"
   ]
  },
  {
   "cell_type": "markdown",
   "id": "6de5fdac",
   "metadata": {
    "papermill": {
     "duration": 0.137171,
     "end_time": "2023-02-04T21:19:48.173773",
     "exception": false,
     "start_time": "2023-02-04T21:19:48.036602",
     "status": "completed"
    },
    "tags": []
   },
   "source": [
    "\n",
    "\n",
    "### By secondary type"
   ]
  },
  {
   "cell_type": "code",
   "execution_count": null,
   "id": "966a00dd",
   "metadata": {
    "papermill": {
     "duration": 0.220555,
     "end_time": "2023-02-04T21:19:48.521620",
     "exception": false,
     "start_time": "2023-02-04T21:19:48.301065",
     "status": "completed"
    },
    "tags": []
   },
   "outputs": [],
   "source": [
    "archseries_crosstab_c = pd.crosstab(exploded_archseries['Archseries'],exploded_archseries['Secondary type'], margins = True)\n",
    "archseries_crosstab_c"
   ]
  },
  {
   "cell_type": "markdown",
   "id": "a881d945",
   "metadata": {
    "papermill": {
     "duration": 0.122899,
     "end_time": "2023-02-04T21:19:48.765742",
     "exception": false,
     "start_time": "2023-02-04T21:19:48.642843",
     "status": "completed"
    },
    "tags": []
   },
   "source": [
    "### By monster type"
   ]
  },
  {
   "cell_type": "code",
   "execution_count": null,
   "id": "d99ee9e1",
   "metadata": {
    "papermill": {
     "duration": 0.330034,
     "end_time": "2023-02-04T21:19:49.221289",
     "exception": false,
     "start_time": "2023-02-04T21:19:48.891255",
     "status": "completed"
    },
    "tags": []
   },
   "outputs": [],
   "source": [
    "archseries_crosstab_d = pd.crosstab(exploded_archseries['Archseries'],exploded_archseries['Monster type'], margins = True)\n",
    "archseries_crosstab_d"
   ]
  },
  {
   "cell_type": "markdown",
   "id": "f97ab388",
   "metadata": {
    "papermill": {
     "duration": 0.126207,
     "end_time": "2023-02-04T21:19:49.471170",
     "exception": false,
     "start_time": "2023-02-04T21:19:49.344963",
     "status": "completed"
    },
    "tags": []
   },
   "source": [
    "### By property"
   ]
  },
  {
   "cell_type": "code",
   "execution_count": null,
   "id": "fbbb1ccc",
   "metadata": {
    "papermill": {
     "duration": 0.2688,
     "end_time": "2023-02-04T21:19:49.865354",
     "exception": false,
     "start_time": "2023-02-04T21:19:49.596554",
     "status": "completed"
    },
    "tags": []
   },
   "outputs": [],
   "source": [
    "archseries_crosstab_e = pd.crosstab(exploded_archseries['Archseries'],exploded_archseries['Property'], margins = True)\n",
    "archseries_crosstab_e"
   ]
  },
  {
   "cell_type": "markdown",
   "id": "554f6e74",
   "metadata": {
    "papermill": {
     "duration": 0.127546,
     "end_time": "2023-02-04T21:19:50.125071",
     "exception": false,
     "start_time": "2023-02-04T21:19:49.997525",
     "status": "completed"
    },
    "tags": []
   },
   "source": [
    "## Artworks"
   ]
  },
  {
   "cell_type": "code",
   "execution_count": null,
   "id": "2224e061",
   "metadata": {
    "papermill": {
     "duration": 0.139659,
     "end_time": "2023-02-04T21:19:50.396132",
     "exception": false,
     "start_time": "2023-02-04T21:19:50.256473",
     "status": "completed"
    },
    "tags": []
   },
   "outputs": [],
   "source": [
    "print('Total number of cards with edited or alternate artworks:', full_df['Artwork'].count())"
   ]
  },
  {
   "cell_type": "code",
   "execution_count": null,
   "id": "f7492a67",
   "metadata": {
    "papermill": {
     "duration": 0.158945,
     "end_time": "2023-02-04T21:19:50.684110",
     "exception": false,
     "start_time": "2023-02-04T21:19:50.525165",
     "status": "completed"
    },
    "tags": []
   },
   "outputs": [],
   "source": [
    "full_df[['Name','Password','TCG status','OCG status','Artwork']][full_df['Artwork'].notna()]"
   ]
  },
  {
   "cell_type": "code",
   "execution_count": null,
   "id": "fa1ea6aa",
   "metadata": {
    "papermill": {
     "duration": 0.458537,
     "end_time": "2023-02-04T21:19:51.268416",
     "exception": false,
     "start_time": "2023-02-04T21:19:50.809879",
     "status": "completed"
    },
    "tags": []
   },
   "outputs": [],
   "source": [
    "artwork_value_counts = full_df['Artwork'].value_counts()\n",
    "plt.figure(figsize=(20,8))\n",
    "plt.title('Artworks')\n",
    "venn2(subsets = (artwork_value_counts[('Alternate',)], artwork_value_counts[('Edited',)],artwork_value_counts[('Alternate','Edited')]), set_labels = ('Alternate artwork', 'Edited artwork'))\n",
    "plt.show()"
   ]
  },
  {
   "cell_type": "markdown",
   "id": "e49df5df",
   "metadata": {
    "papermill": {
     "duration": 0.128249,
     "end_time": "2023-02-04T21:19:51.536581",
     "exception": false,
     "start_time": "2023-02-04T21:19:51.408332",
     "status": "completed"
    },
    "tags": []
   },
   "source": [
    "### By card type"
   ]
  },
  {
   "cell_type": "code",
   "execution_count": null,
   "id": "1b14c224",
   "metadata": {
    "papermill": {
     "duration": 0.168936,
     "end_time": "2023-02-04T21:19:51.840391",
     "exception": false,
     "start_time": "2023-02-04T21:19:51.671455",
     "status": "completed"
    },
    "tags": []
   },
   "outputs": [],
   "source": [
    "artwork_crosstab = pd.crosstab(full_df['Artwork'], full_df['Card type'])\n",
    "artwork_crosstab"
   ]
  },
  {
   "cell_type": "markdown",
   "id": "81afa2df",
   "metadata": {
    "papermill": {
     "duration": 0.125004,
     "end_time": "2023-02-04T21:19:52.097221",
     "exception": false,
     "start_time": "2023-02-04T21:19:51.972217",
     "status": "completed"
    },
    "tags": []
   },
   "source": [
    "### By primary type"
   ]
  },
  {
   "cell_type": "code",
   "execution_count": null,
   "id": "55081aa0",
   "metadata": {
    "papermill": {
     "duration": 0.169067,
     "end_time": "2023-02-04T21:19:52.391353",
     "exception": false,
     "start_time": "2023-02-04T21:19:52.222286",
     "status": "completed"
    },
    "tags": []
   },
   "outputs": [],
   "source": [
    "artwork_crosstab_b = pd.crosstab(full_df['Artwork'], full_df['Primary type'])\n",
    "artwork_crosstab_b"
   ]
  },
  {
   "cell_type": "markdown",
   "id": "14a90117",
   "metadata": {
    "papermill": {
     "duration": 0.129342,
     "end_time": "2023-02-04T21:19:52.645785",
     "exception": false,
     "start_time": "2023-02-04T21:19:52.516443",
     "status": "completed"
    },
    "tags": []
   },
   "source": [
    "More granularity is unnecessary"
   ]
  },
  {
   "cell_type": "markdown",
   "id": "5210d61b",
   "metadata": {
    "papermill": {
     "duration": 0.143507,
     "end_time": "2023-02-04T21:19:52.922760",
     "exception": false,
     "start_time": "2023-02-04T21:19:52.779253",
     "status": "completed"
    },
    "tags": []
   },
   "source": [
    "## Errata"
   ]
  },
  {
   "cell_type": "code",
   "execution_count": null,
   "id": "09b33100",
   "metadata": {
    "papermill": {
     "duration": 0.137726,
     "end_time": "2023-02-04T21:19:53.452846",
     "exception": false,
     "start_time": "2023-02-04T21:19:53.315120",
     "status": "completed"
    },
    "tags": []
   },
   "outputs": [],
   "source": [
    "print('Total number of cards with name or type errata:', full_df['Errata'].count())"
   ]
  },
  {
   "cell_type": "code",
   "execution_count": null,
   "id": "40462eee",
   "metadata": {
    "papermill": {
     "duration": 0.16087,
     "end_time": "2023-02-04T21:19:53.746179",
     "exception": false,
     "start_time": "2023-02-04T21:19:53.585309",
     "status": "completed"
    },
    "tags": []
   },
   "outputs": [],
   "source": [
    "full_df[['Name','Password','TCG status','OCG status','Errata']][full_df['Errata'].notna()]"
   ]
  },
  {
   "cell_type": "code",
   "execution_count": null,
   "id": "60843a4f",
   "metadata": {
    "papermill": {
     "duration": 0.303687,
     "end_time": "2023-02-04T21:19:54.175389",
     "exception": false,
     "start_time": "2023-02-04T21:19:53.871702",
     "status": "completed"
    },
    "tags": []
   },
   "outputs": [],
   "source": [
    "errata_value_counts = full_df['Errata'].value_counts()\n",
    "plt.figure(figsize=(20,8))\n",
    "plt.title('Errata')\n",
    "venn2(subsets = (errata_value_counts[('Name',)], errata_value_counts[('Type',)],errata_value_counts[('Name','Type')]), set_labels = ('Name Errata', 'Type errata'))\n",
    "plt.show()"
   ]
  },
  {
   "cell_type": "markdown",
   "id": "a3703983",
   "metadata": {
    "papermill": {
     "duration": 0.126206,
     "end_time": "2023-02-04T21:19:54.428315",
     "exception": false,
     "start_time": "2023-02-04T21:19:54.302109",
     "status": "completed"
    },
    "tags": []
   },
   "source": [
    "### By card type"
   ]
  },
  {
   "cell_type": "code",
   "execution_count": null,
   "id": "fb103c29",
   "metadata": {
    "papermill": {
     "duration": 0.161906,
     "end_time": "2023-02-04T21:19:54.716413",
     "exception": false,
     "start_time": "2023-02-04T21:19:54.554507",
     "status": "completed"
    },
    "tags": []
   },
   "outputs": [],
   "source": [
    "errata_crosstab = pd.crosstab(full_df['Errata'], full_df['Card type'])\n",
    "errata_crosstab"
   ]
  },
  {
   "cell_type": "markdown",
   "id": "36d241f1",
   "metadata": {
    "papermill": {
     "duration": 0.126855,
     "end_time": "2023-02-04T21:19:54.971130",
     "exception": false,
     "start_time": "2023-02-04T21:19:54.844275",
     "status": "completed"
    },
    "tags": []
   },
   "source": [
    "### By primary type"
   ]
  },
  {
   "cell_type": "code",
   "execution_count": null,
   "id": "5b90628d",
   "metadata": {
    "papermill": {
     "duration": 0.165344,
     "end_time": "2023-02-04T21:19:55.272106",
     "exception": false,
     "start_time": "2023-02-04T21:19:55.106762",
     "status": "completed"
    },
    "tags": []
   },
   "outputs": [],
   "source": [
    "errata_crosstab_b = pd.crosstab(full_df['Errata'], full_df['Primary type'])\n",
    "errata_crosstab_b"
   ]
  },
  {
   "cell_type": "markdown",
   "id": "0029e1ca",
   "metadata": {
    "papermill": {
     "duration": 0.12936,
     "end_time": "2023-02-04T21:19:55.529702",
     "exception": false,
     "start_time": "2023-02-04T21:19:55.400342",
     "status": "completed"
    },
    "tags": []
   },
   "source": [
    "More granularity is unnecessary"
   ]
  },
  {
   "cell_type": "markdown",
   "id": "35d88dda",
   "metadata": {
    "papermill": {
     "duration": 0.127071,
     "end_time": "2023-02-04T21:19:55.784111",
     "exception": false,
     "start_time": "2023-02-04T21:19:55.657040",
     "status": "completed"
    },
    "tags": []
   },
   "source": [
    "### By artwork"
   ]
  },
  {
   "cell_type": "code",
   "execution_count": null,
   "id": "0057def3",
   "metadata": {
    "papermill": {
     "duration": 0.181133,
     "end_time": "2023-02-04T21:19:56.112300",
     "exception": false,
     "start_time": "2023-02-04T21:19:55.931167",
     "status": "completed"
    },
    "tags": []
   },
   "outputs": [],
   "source": [
    "errata_crosstab_c = pd.crosstab(full_df['Artwork'], full_df['Errata'])\n",
    "errata_crosstab_c"
   ]
  },
  {
   "cell_type": "markdown",
   "id": "edef3194",
   "metadata": {
    "papermill": {
     "duration": 0.23244,
     "end_time": "2023-02-04T21:19:56.484515",
     "exception": false,
     "start_time": "2023-02-04T21:19:56.252075",
     "status": "completed"
    },
    "tags": []
   },
   "source": [
    "## TCG & OCG status"
   ]
  },
  {
   "cell_type": "markdown",
   "id": "3e7505cd",
   "metadata": {
    "papermill": {
     "duration": 0.188792,
     "end_time": "2023-02-04T21:19:56.911362",
     "exception": false,
     "start_time": "2023-02-04T21:19:56.722570",
     "status": "completed"
    },
    "tags": []
   },
   "source": [
    "### TGC status"
   ]
  },
  {
   "cell_type": "code",
   "execution_count": null,
   "id": "88b93fca",
   "metadata": {
    "papermill": {
     "duration": 0.142349,
     "end_time": "2023-02-04T21:19:57.181111",
     "exception": false,
     "start_time": "2023-02-04T21:19:57.038762",
     "status": "completed"
    },
    "tags": []
   },
   "outputs": [],
   "source": [
    "print('Total number of TCG status:', full_df['TCG status'].nunique())"
   ]
  },
  {
   "cell_type": "code",
   "execution_count": null,
   "id": "2c69bec0",
   "metadata": {
    "papermill": {
     "duration": 0.278172,
     "end_time": "2023-02-04T21:19:57.591565",
     "exception": false,
     "start_time": "2023-02-04T21:19:57.313393",
     "status": "completed"
    },
    "tags": []
   },
   "outputs": [],
   "source": [
    "full_df.groupby('TCG status', dropna=False).nunique()"
   ]
  },
  {
   "cell_type": "code",
   "execution_count": null,
   "id": "add82403",
   "metadata": {
    "papermill": {
     "duration": 0.778256,
     "end_time": "2023-02-04T21:19:58.502765",
     "exception": false,
     "start_time": "2023-02-04T21:19:57.724509",
     "status": "completed"
    },
    "tags": []
   },
   "outputs": [],
   "source": [
    "full_df['TCG status'].value_counts(dropna = False).plot.bar(figsize = (18,6), logy=True, grid = True, rot=45, title = 'TCG status')\n",
    "plt.show()"
   ]
  },
  {
   "cell_type": "markdown",
   "id": "f6b985a0",
   "metadata": {
    "papermill": {
     "duration": 0.303071,
     "end_time": "2023-02-04T21:19:58.937734",
     "exception": false,
     "start_time": "2023-02-04T21:19:58.634663",
     "status": "completed"
    },
    "tags": []
   },
   "source": [
    "#### By card type"
   ]
  },
  {
   "cell_type": "code",
   "execution_count": null,
   "id": "12c444ed",
   "metadata": {
    "papermill": {
     "duration": 0.17697,
     "end_time": "2023-02-04T21:19:59.250582",
     "exception": false,
     "start_time": "2023-02-04T21:19:59.073612",
     "status": "completed"
    },
    "tags": []
   },
   "outputs": [],
   "source": [
    "# Remove unlimited\n",
    "tcg_crosstab = pd.crosstab(full_df['Card type'], full_df['TCG status']).drop(['Unlimited'], axis=1)\n",
    "tcg_crosstab"
   ]
  },
  {
   "cell_type": "code",
   "execution_count": null,
   "id": "8648b51e",
   "metadata": {
    "papermill": {
     "duration": 0.623872,
     "end_time": "2023-02-04T21:20:00.005538",
     "exception": false,
     "start_time": "2023-02-04T21:19:59.381666",
     "status": "completed"
    },
    "tags": []
   },
   "outputs": [],
   "source": [
    "plt.figure(figsize = (12,6))\n",
    "sns.heatmap(tcg_crosstab[tcg_crosstab>0], annot=True, fmt=\"g\", cmap='viridis', norm=mc.LogNorm())\n",
    "plt.show()"
   ]
  },
  {
   "cell_type": "markdown",
   "id": "521f367b",
   "metadata": {
    "papermill": {
     "duration": 0.130314,
     "end_time": "2023-02-04T21:20:00.270611",
     "exception": false,
     "start_time": "2023-02-04T21:20:00.140297",
     "status": "completed"
    },
    "tags": []
   },
   "source": [
    "#### By monster type"
   ]
  },
  {
   "cell_type": "code",
   "execution_count": null,
   "id": "bb73564f",
   "metadata": {
    "papermill": {
     "duration": 0.409475,
     "end_time": "2023-02-04T21:20:00.819565",
     "exception": false,
     "start_time": "2023-02-04T21:20:00.410090",
     "status": "completed"
    },
    "tags": []
   },
   "outputs": [],
   "source": [
    "# Remove unlimited\n",
    "tcg_crosstab_b = pd.crosstab(full_df['Monster type'], full_df['TCG status']).drop(['Unlimited'], axis=1)\n",
    "tcg_crosstab_b"
   ]
  },
  {
   "cell_type": "code",
   "execution_count": null,
   "id": "dd5e826c",
   "metadata": {
    "papermill": {
     "duration": 1.201219,
     "end_time": "2023-02-04T21:20:02.189359",
     "exception": false,
     "start_time": "2023-02-04T21:20:00.988140",
     "status": "completed"
    },
    "tags": []
   },
   "outputs": [],
   "source": [
    "plt.figure(figsize = (20,5))\n",
    "sns.heatmap(tcg_crosstab_b[tcg_crosstab_b>0].T, annot=True, fmt=\"g\", cmap='viridis', square = True)\n",
    "plt.show()"
   ]
  },
  {
   "cell_type": "markdown",
   "id": "b0e7d771",
   "metadata": {
    "papermill": {
     "duration": 0.231939,
     "end_time": "2023-02-04T21:20:02.592898",
     "exception": false,
     "start_time": "2023-02-04T21:20:02.360959",
     "status": "completed"
    },
    "tags": []
   },
   "source": [
    "#### By archseries"
   ]
  },
  {
   "cell_type": "code",
   "execution_count": null,
   "id": "05fc1f77",
   "metadata": {
    "papermill": {
     "duration": 0.283808,
     "end_time": "2023-02-04T21:20:03.050387",
     "exception": false,
     "start_time": "2023-02-04T21:20:02.766579",
     "status": "completed"
    },
    "tags": []
   },
   "outputs": [],
   "source": [
    "# Remove unlimited\n",
    "tcg_crosstab_c = pd.crosstab(exploded_archseries['Archseries'].where(exploded_archseries['OCG status']!='Unlimited'), exploded_archseries['TCG status'], margins = True)\n",
    "tcg_crosstab_c"
   ]
  },
  {
   "cell_type": "markdown",
   "id": "af202b20",
   "metadata": {
    "papermill": {
     "duration": 0.304771,
     "end_time": "2023-02-04T21:20:03.524629",
     "exception": false,
     "start_time": "2023-02-04T21:20:03.219858",
     "status": "completed"
    },
    "tags": []
   },
   "source": [
    "### OCG status"
   ]
  },
  {
   "cell_type": "code",
   "execution_count": null,
   "id": "0b01a31b",
   "metadata": {
    "papermill": {
     "duration": 0.366908,
     "end_time": "2023-02-04T21:20:04.038483",
     "exception": false,
     "start_time": "2023-02-04T21:20:03.671575",
     "status": "completed"
    },
    "tags": []
   },
   "outputs": [],
   "source": [
    "print('Total number of OCG status:', full_df['OCG status'].nunique())"
   ]
  },
  {
   "cell_type": "code",
   "execution_count": null,
   "id": "13b7b5c8",
   "metadata": {
    "papermill": {
     "duration": 0.326642,
     "end_time": "2023-02-04T21:20:04.519214",
     "exception": false,
     "start_time": "2023-02-04T21:20:04.192572",
     "status": "completed"
    },
    "tags": []
   },
   "outputs": [],
   "source": [
    "full_df.groupby('OCG status', dropna=False).nunique()"
   ]
  },
  {
   "cell_type": "code",
   "execution_count": null,
   "id": "baff20b2",
   "metadata": {
    "papermill": {
     "duration": 0.813896,
     "end_time": "2023-02-04T21:20:05.492491",
     "exception": false,
     "start_time": "2023-02-04T21:20:04.678595",
     "status": "completed"
    },
    "tags": []
   },
   "outputs": [],
   "source": [
    "full_df['OCG status'].value_counts(dropna = False).plot.bar(figsize = (18,6), logy=True, grid = True, rot=45, title = 'TCG status')\n",
    "plt.show()"
   ]
  },
  {
   "cell_type": "markdown",
   "id": "5c4bf980",
   "metadata": {
    "papermill": {
     "duration": 0.20179,
     "end_time": "2023-02-04T21:20:05.858154",
     "exception": false,
     "start_time": "2023-02-04T21:20:05.656364",
     "status": "completed"
    },
    "tags": []
   },
   "source": [
    "#### By card type"
   ]
  },
  {
   "cell_type": "code",
   "execution_count": null,
   "id": "4863280e",
   "metadata": {
    "papermill": {
     "duration": 0.210589,
     "end_time": "2023-02-04T21:20:06.245688",
     "exception": false,
     "start_time": "2023-02-04T21:20:06.035099",
     "status": "completed"
    },
    "tags": []
   },
   "outputs": [],
   "source": [
    "# Remove unlimited\n",
    "ocg_crosstab = pd.crosstab(full_df['Card type'], full_df['OCG status']).drop(['Unlimited'], axis=1)\n",
    "ocg_crosstab"
   ]
  },
  {
   "cell_type": "code",
   "execution_count": null,
   "id": "e8489887",
   "metadata": {
    "papermill": {
     "duration": 0.492709,
     "end_time": "2023-02-04T21:20:06.921637",
     "exception": false,
     "start_time": "2023-02-04T21:20:06.428928",
     "status": "completed"
    },
    "tags": []
   },
   "outputs": [],
   "source": [
    "plt.figure(figsize = (12,6))\n",
    "sns.heatmap(ocg_crosstab[ocg_crosstab>0], annot=True, fmt=\"g\", cmap='viridis')\n",
    "plt.show()"
   ]
  },
  {
   "cell_type": "markdown",
   "id": "32f682d2",
   "metadata": {
    "papermill": {
     "duration": 0.172367,
     "end_time": "2023-02-04T21:20:07.266963",
     "exception": false,
     "start_time": "2023-02-04T21:20:07.094596",
     "status": "completed"
    },
    "tags": []
   },
   "source": [
    "#### By monster type"
   ]
  },
  {
   "cell_type": "code",
   "execution_count": null,
   "id": "3dbadcb8",
   "metadata": {
    "papermill": {
     "duration": 0.192438,
     "end_time": "2023-02-04T21:20:07.599362",
     "exception": false,
     "start_time": "2023-02-04T21:20:07.406924",
     "status": "completed"
    },
    "tags": []
   },
   "outputs": [],
   "source": [
    "ocg_crosstab_b = pd.crosstab(full_df['Monster type'], full_df['OCG status']).drop(['Unlimited'], axis=1)\n",
    "ocg_crosstab_b"
   ]
  },
  {
   "cell_type": "code",
   "execution_count": null,
   "id": "4743b0c1",
   "metadata": {
    "papermill": {
     "duration": 1.042584,
     "end_time": "2023-02-04T21:20:08.782047",
     "exception": false,
     "start_time": "2023-02-04T21:20:07.739463",
     "status": "completed"
    },
    "tags": []
   },
   "outputs": [],
   "source": [
    "plt.figure(figsize = (20,5))\n",
    "sns.heatmap(ocg_crosstab_b[ocg_crosstab_b>0].T, annot=True, fmt=\"g\", cmap='viridis', square = True)\n",
    "plt.show()"
   ]
  },
  {
   "cell_type": "markdown",
   "id": "19d9067b",
   "metadata": {
    "papermill": {
     "duration": 0.146737,
     "end_time": "2023-02-04T21:20:09.090801",
     "exception": false,
     "start_time": "2023-02-04T21:20:08.944064",
     "status": "completed"
    },
    "tags": []
   },
   "source": [
    "#### By archseries"
   ]
  },
  {
   "cell_type": "code",
   "execution_count": null,
   "id": "d866a6e2",
   "metadata": {
    "papermill": {
     "duration": 0.346912,
     "end_time": "2023-02-04T21:20:09.576636",
     "exception": false,
     "start_time": "2023-02-04T21:20:09.229724",
     "status": "completed"
    },
    "tags": []
   },
   "outputs": [],
   "source": [
    "# Remove unlimited\n",
    "ocg_crosstab_c = pd.crosstab(exploded_archseries['Archseries'].where(exploded_archseries['OCG status']!='Unlimited'), exploded_archseries['OCG status'], margins = True)\n",
    "ocg_crosstab_c"
   ]
  },
  {
   "cell_type": "markdown",
   "id": "c5b33198",
   "metadata": {
    "papermill": {
     "duration": 0.231844,
     "end_time": "2023-02-04T21:20:09.949923",
     "exception": false,
     "start_time": "2023-02-04T21:20:09.718079",
     "status": "completed"
    },
    "tags": []
   },
   "source": [
    "### TCG vs. OCG status"
   ]
  },
  {
   "cell_type": "code",
   "execution_count": null,
   "id": "14f2101b",
   "metadata": {
    "papermill": {
     "duration": 0.235395,
     "end_time": "2023-02-04T21:20:10.324727",
     "exception": false,
     "start_time": "2023-02-04T21:20:10.089332",
     "status": "completed"
    },
    "tags": []
   },
   "outputs": [],
   "source": [
    "cg_crosstab = pd.crosstab(full_df['OCG status'],full_df['TCG status'], dropna=False, margins = False)\n",
    "cg_crosstab"
   ]
  },
  {
   "cell_type": "code",
   "execution_count": null,
   "id": "d10c5c81",
   "metadata": {
    "papermill": {
     "duration": 1.230476,
     "end_time": "2023-02-04T21:20:11.856822",
     "exception": false,
     "start_time": "2023-02-04T21:20:10.626346",
     "status": "completed"
    },
    "tags": []
   },
   "outputs": [],
   "source": [
    "plt.figure(figsize = (10,8))\n",
    "sns.heatmap(cg_crosstab[cg_crosstab>0], annot=True, fmt=\"g\", cmap='viridis', square=True, norm=mc.LogNorm())\n",
    "plt.show()"
   ]
  },
  {
   "cell_type": "markdown",
   "id": "95d94158-0922-4085-b2c7-d7fa24f40038",
   "metadata": {
    "papermill": {
     "duration": 0.139431,
     "end_time": "2023-02-04T21:20:12.137261",
     "exception": false,
     "start_time": "2023-02-04T21:20:11.997830",
     "status": "completed"
    },
    "tags": []
   },
   "source": [
    "# Extras"
   ]
  },
  {
   "cell_type": "markdown",
   "id": "a1bdb3eb-7f83-49a8-92a2-a8a05e6253c7",
   "metadata": {
    "papermill": {
     "duration": 0.138581,
     "end_time": "2023-02-04T21:20:12.416022",
     "exception": false,
     "start_time": "2023-02-04T21:20:12.277441",
     "status": "completed"
    },
    "tags": []
   },
   "source": [
    "## Not yet released"
   ]
  },
  {
   "cell_type": "code",
   "execution_count": null,
   "id": "6ca6f265",
   "metadata": {
    "papermill": {
     "duration": 0.175224,
     "end_time": "2023-02-04T21:20:12.730870",
     "exception": false,
     "start_time": "2023-02-04T21:20:12.555646",
     "status": "completed"
    },
    "tags": []
   },
   "outputs": [],
   "source": [
    "full_df.loc[full_df['OCG status'] == 'Not yet released'].loc[full_df['TCG status'] == 'Not yet released']"
   ]
  },
  {
   "cell_type": "markdown",
   "id": "4058f0b9-3031-4daa-8a4a-2dddf8c74c07",
   "metadata": {
    "papermill": {
     "duration": 0.175614,
     "end_time": "2023-02-04T21:20:13.056398",
     "exception": false,
     "start_time": "2023-02-04T21:20:12.880784",
     "status": "completed"
    },
    "tags": []
   },
   "source": [
    "# Epilogue"
   ]
  },
  {
   "cell_type": "code",
   "execution_count": null,
   "id": "310f7d3e-ab76-4c5b-bf3d-f6898d559118",
   "metadata": {
    "papermill": {
     "duration": 0.186311,
     "end_time": "2023-02-04T21:20:13.411904",
     "exception": false,
     "start_time": "2023-02-04T21:20:13.225593",
     "status": "completed"
    },
    "tags": []
   },
   "outputs": [],
   "source": [
    "footer()"
   ]
  },
  {
   "cell_type": "markdown",
   "id": "fade81da",
   "metadata": {
    "papermill": {
     "duration": 0.14107,
     "end_time": "2023-02-04T21:20:13.700577",
     "exception": false,
     "start_time": "2023-02-04T21:20:13.559507",
     "status": "completed"
    },
    "tags": []
   },
   "source": [
    "## HTML export"
   ]
  },
  {
   "cell_type": "code",
   "execution_count": null,
   "id": "6715b83e-9a4e-423c-81b9-33a81603acd4",
   "metadata": {
    "papermill": {
     "duration": 0.160312,
     "end_time": "2023-02-04T21:20:14.001570",
     "exception": false,
     "start_time": "2023-02-04T21:20:13.841258",
     "status": "completed"
    },
    "tags": []
   },
   "outputs": [],
   "source": [
    "# Save notebook on disck before generating HTML report\n",
    "save_notebook()"
   ]
  },
  {
   "cell_type": "code",
   "execution_count": null,
   "id": "de556e8b",
   "metadata": {
    "papermill": {
     "duration": 7.460328,
     "end_time": "2023-02-04T21:20:21.638754",
     "exception": false,
     "start_time": "2023-02-04T21:20:14.178426",
     "status": "completed"
    },
    "tags": []
   },
   "outputs": [],
   "source": [
    "! jupyter nbconvert Cards.ipynb --output-dir='../' --to=HTML --TagRemovePreprocessor.enabled=True --TagRemovePreprocessor.remove_cell_tags='exclude' --TemplateExporter.exclude_input=True --TemplateExporter.exclude_input_prompt=True --TemplateExporter.exclude_output_prompt=True"
   ]
  },
  {
   "cell_type": "markdown",
   "id": "641a7018-0f50-4ab6-b8f3-119a279cbc65",
   "metadata": {
    "papermill": {
     "duration": 0.223626,
     "end_time": "2023-02-04T21:20:22.036911",
     "exception": false,
     "start_time": "2023-02-04T21:20:21.813285",
     "status": "completed"
    },
    "tags": [
     "exclude"
    ]
   },
   "source": [
    "## Git"
   ]
  },
  {
   "cell_type": "code",
   "execution_count": null,
   "id": "cba1eb00-d9c2-491a-95b3-5ce0a0524d59",
   "metadata": {
    "papermill": {
     "duration": 1.17658,
     "end_time": "2023-02-04T21:20:23.357195",
     "exception": false,
     "start_time": "2023-02-04T21:20:22.180615",
     "status": "completed"
    },
    "tags": [
     "exclude"
    ]
   },
   "outputs": [],
   "source": [
    "! git add \"../*[Cc]ards*\""
   ]
  },
  {
   "cell_type": "code",
   "execution_count": null,
   "id": "6f1f8303-30c6-4aaa-b45e-f6d5f5ece30e",
   "metadata": {
    "papermill": {
     "duration": 1.342875,
     "end_time": "2023-02-04T21:20:24.874032",
     "exception": false,
     "start_time": "2023-02-04T21:20:23.531157",
     "status": "completed"
    },
    "tags": [
     "exclude"
    ]
   },
   "outputs": [],
   "source": [
    "! git commit -m {\"'Cards update-\" + timestamp.isoformat() + \"'\"}"
   ]
  }
 ],
 "metadata": {
  "kernelspec": {
   "display_name": "Python 3 (ipykernel)",
   "language": "python",
   "name": "python3"
  },
  "language_info": {
   "codemirror_mode": {
    "name": "ipython",
    "version": 3
   },
   "file_extension": ".py",
   "mimetype": "text/x-python",
   "name": "python",
   "nbconvert_exporter": "python",
   "pygments_lexer": "ipython3",
   "version": "3.10.8"
  },
  "papermill": {
   "default_parameters": {},
   "duration": 288.899185,
   "end_time": "2023-02-04T21:20:26.057450",
   "environment_variables": {},
   "exception": null,
   "input_path": "Cards.ipynb",
   "output_path": "Cards.ipynb",
   "parameters": {},
   "start_time": "2023-02-04T21:15:37.158265",
   "version": "2.4.0"
  },
  "toc": {
   "base_numbering": 1,
   "nav_menu": {
    "height": "599px",
    "width": "228px"
   },
   "number_sections": true,
   "sideBar": true,
   "skip_h1_title": false,
   "title_cell": "Table of Contents",
   "title_sidebar": "Contents",
   "toc_cell": true,
   "toc_position": {
    "height": "calc(100% - 180px)",
    "left": "10px",
    "top": "150px",
    "width": "353px"
   },
   "toc_section_display": true,
   "toc_window_display": true
  },
  "toc-autonumbering": false,
  "toc-showcode": false,
  "toc-showmarkdowntxt": false
 },
 "nbformat": 4,
 "nbformat_minor": 5
}
