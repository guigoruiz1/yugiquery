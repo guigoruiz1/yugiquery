{
 "cells": [
  {
   "cell_type": "code",
   "execution_count": 1,
   "id": "82c61f6c-3c7a-4460-b466-9c521973fa5d",
   "metadata": {
    "papermill": {
     "duration": 2.198719,
     "end_time": "2023-02-18T15:13:00.189664",
     "exception": false,
     "start_time": "2023-02-18T15:12:57.990945",
     "status": "completed"
    },
    "tags": []
   },
   "outputs": [
    {
     "data": {
      "text/markdown": [
       "<div align='center'>\n",
       "    <br>\n",
       "    <!-- Pre Style needed to fix HTML formatting -->\n",
       "    <pre style=\"line-height: var(--jp-code-line-height); font-family: var(--jp-code-font-family)\">\n",
       "    ██    ██ ██    ██  ██████  ██  ██████  ██    ██ ███████ ██████  ██    ██ \n",
       "     ██  ██  ██    ██ ██       ██ ██    ██ ██    ██ ██      ██   ██  ██  ██  \n",
       "      ████   ██    ██ ██   ███ ██ ██    ██ ██    ██ █████   ██████    ████   \n",
       "       ██    ██    ██ ██    ██ ██ ██ ▄▄ ██ ██    ██ ██      ██   ██    ██    \n",
       "       ██     ██████   ██████  ██  ██████   ██████  ███████ ██   ██    ██    \n",
       "                                      ▀▀                                     \n",
       "    </pre>\n",
       "</div>\n",
       "<div align='right'>\n",
       "    Cards - Execution started 18/02/2023 16:37 UTC <br>\n",
       "    By <b>Guilherme Ruiz</b>\n",
       "</div>"
      ],
      "text/plain": [
       "<IPython.core.display.Markdown object>"
      ]
     },
     "execution_count": 1,
     "metadata": {},
     "output_type": "execute_result"
    }
   ],
   "source": [
    "from yugiquery import *\n",
    "header('Cards')"
   ]
  },
  {
   "cell_type": "markdown",
   "id": "48cd2c04-37eb-408f-86ee-17e204a2cea9",
   "metadata": {
    "papermill": {
     "duration": 0.191996,
     "end_time": "2023-02-18T15:13:00.434608",
     "exception": false,
     "start_time": "2023-02-18T15:13:00.242612",
     "status": "completed"
    },
    "tags": []
   },
   "source": [
    "---"
   ]
  },
  {
   "cell_type": "markdown",
   "id": "6e66c226",
   "metadata": {
    "papermill": {
     "duration": 0.05889,
     "end_time": "2023-02-18T15:13:00.547174",
     "exception": false,
     "start_time": "2023-02-18T15:13:00.488284",
     "status": "completed"
    },
    "tags": [],
    "toc": true
   },
   "source": [
    "Table of Contents\n",
    "=================\n",
    "\n",
    "*   [1  Data aquisition](#Data-aquisition)\n",
    "    *   [1.1  Fetch online data](#Fetch-online-data)\n",
    "    *   [1.2  Merge data](#Merge-data)\n",
    "    *   [1.3  Save data](#Save-data)\n",
    "*   [3  Check changes](#Check-changes)\n",
    "    *   [3.1  Load previous data](#Load-previous-data)\n",
    "    *   [3.2  Generate changelog](#Generate-changelog)\n",
    "*   [4  Data visualization](#Data-visualization)\n",
    "    *   [4.1  Full data](#Full-data)\n",
    "    *   [4.2  Card types](#Card-types)\n",
    "    *   [4.3  Monsters](#Monsters)\n",
    "        *   [4.3.1  Attributes](#Attributes)\n",
    "        *   [4.3.2  Primary types](#Primary-types)\n",
    "            *   [4.3.2.1  Has effect discrimination](#Has-effect-discrimination)\n",
    "            *   [4.3.2.2  Is pendulum discrimination](#Is-pendulum-discrimination)\n",
    "            *   [4.3.2.3  By attribute](#By-attribute)\n",
    "        *   [4.3.3  Secondary types](#Secondary-types)\n",
    "            *   [4.3.3.1  By attribute](#By-attribute)\n",
    "            *   [4.3.3.2  By secondary type](#By-secondary-type)\n",
    "        *   [4.3.4  Monster types](#Monster-types)\n",
    "            *   [4.3.4.1  By Attribute](#By-Attribute)\n",
    "            *   [4.3.4.2  By primary type](#By-primary-type)\n",
    "            *   [4.3.4.3  By secondary type](#By-secondary-type)\n",
    "        *   [4.3.5  Effect type](#Effect-type)\n",
    "        *   [4.3.6  ATK](#ATK)\n",
    "        *   [4.3.7  DEF](#DEF)\n",
    "        *   [4.3.8  Level/Rank](#Level/Rank)\n",
    "            *   [4.3.8.1  ATK statistics](#ATK-statistics)\n",
    "            *   [4.3.8.2  DEF statistics](#DEF-statistics)\n",
    "        *   [4.3.9  Pendulum scale](#Pendulum-scale)\n",
    "            *   [4.3.9.1  ATK statistics](#ATK-statistics)\n",
    "            *   [4.3.9.2  DEF statistics](#DEF-statistics)\n",
    "            *   [4.3.9.3  Level/Rank statistics](#Level/Rank-statistics)\n",
    "        *   [4.3.10  Link](#Link)\n",
    "            *   [4.3.10.1  ATK statistics](#ATK-statistics)\n",
    "        *   [4.3.11  Link Arrows](#Link-Arrows)\n",
    "            *   [4.3.11.1  By combination](#By-combination)\n",
    "            *   [4.3.11.2  By unique](#By-unique)\n",
    "            *   [4.3.11.3  By link](#By-link)\n",
    "    *   [4.4  Spell & Trap](#Spell-&-Trap)\n",
    "        *   [4.4.1  Properties](#Properties)\n",
    "        *   [4.4.2  Effect type](#Effect-type)\n",
    "            *   [4.4.2.1  Spell & Trap discrimination](#Spell-&-Trap-discrimination)\n",
    "    *   [4.5  Archseries](#Archseries)\n",
    "        *   [4.5.1  By card type](#By-card-type)\n",
    "        *   [4.5.2  By primary type](#By-primary-type)\n",
    "        *   [4.5.3  By secondary type](#By-secondary-type)\n",
    "        *   [4.5.4  By monster type](#By-monster-type)\n",
    "        *   [4.5.5  By property](#By-property)\n",
    "    *   [4.6  Artworks](#Artworks)\n",
    "        *   [4.6.1  By card type](#By-card-type)\n",
    "        *   [4.6.2  By primary type](#By-primary-type)\n",
    "    *   [4.7  Errata](#Errata)\n",
    "        *   [4.7.1  By card type](#By-card-type)\n",
    "        *   [4.7.2  By primary type](#By-primary-type)\n",
    "        *   [4.7.3  By artwork](#By-artwork)\n",
    "    *   [4.8  TCG & OCG status](#TCG-&-OCG-status)\n",
    "        *   [4.8.1  TGC status](#TGC-status)\n",
    "            *   [4.8.1.1  By card type](#By-card-type)\n",
    "            *   [4.8.1.2  By monster type](#By-monster-type)\n",
    "            *   [4.8.1.3  By archseries](#By-archseries)\n",
    "        *   [4.8.2  OCG status](#OCG-status)\n",
    "            *   [4.8.2.1  By card type](#By-card-type)\n",
    "            *   [4.8.2.2  By monster type](#By-monster-type)\n",
    "            *   [4.8.2.3  By archseries](#By-archseries)\n",
    "        *   [4.8.3  TCG vs. OCG status](#TCG-vs.-OCG-status)\n",
    "*   [5  Extras](#Extras)\n",
    "    *   [5.1 Multiple secondary types](#Multiple-secondary-types)\n",
    "    *   [5.2 Not yet released](#Not-yet-released)\n",
    "    *   [5.3 Counters and Tokens](#Counters-and-Tokens)\n",
    "*   [6  Epilogue](#Epilogue)\n",
    "    *   [6.1  HTML export](#HTML-export)\n",
    "<!-- *   [6.2  Git](#Git) -->"
   ]
  },
  {
   "cell_type": "markdown",
   "id": "b60fae74",
   "metadata": {
    "papermill": {
     "duration": 0.247491,
     "end_time": "2023-02-18T15:13:00.842925",
     "exception": false,
     "start_time": "2023-02-18T15:13:00.595434",
     "status": "completed"
    },
    "tags": []
   },
   "source": [
    "# Data aquisition"
   ]
  },
  {
   "cell_type": "markdown",
   "id": "699f2460",
   "metadata": {
    "papermill": {
     "duration": 0.061308,
     "end_time": "2023-02-18T15:13:01.163645",
     "exception": false,
     "start_time": "2023-02-18T15:13:01.102337",
     "status": "completed"
    },
    "tags": []
   },
   "source": [
    "## Fetch online data"
   ]
  },
  {
   "cell_type": "code",
   "execution_count": 2,
   "id": "135ab538",
   "metadata": {
    "papermill": {
     "duration": 0.083512,
     "end_time": "2023-02-18T15:13:01.298108",
     "exception": false,
     "start_time": "2023-02-18T15:13:01.214596",
     "status": "completed"
    },
    "tags": []
   },
   "outputs": [],
   "source": [
    "# Timestamp\n",
    "timestamp = pd.Timestamp.now()"
   ]
  },
  {
   "cell_type": "code",
   "execution_count": 3,
   "id": "a5ac8487-bb9d-472c-857a-409b7eed3e2c",
   "metadata": {
    "papermill": {
     "duration": 131.104422,
     "end_time": "2023-02-18T15:15:12.483764",
     "exception": false,
     "start_time": "2023-02-18T15:13:01.379342",
     "status": "completed"
    },
    "tags": []
   },
   "outputs": [
    {
     "name": "stdout",
     "output_type": "stream",
     "text": [
      "Downloading monsters\n"
     ]
    },
    {
     "data": {
      "application/vnd.jupyter.widget-view+json": {
       "model_id": "",
       "version_major": 2,
       "version_minor": 0
      },
      "text/plain": [
       "  0%|          | 0/7 [00:00<?, ?attribute/s]"
      ]
     },
     "metadata": {},
     "output_type": "display_data"
    },
    {
     "name": "stdout",
     "output_type": "stream",
     "text": [
      "8072 results\n",
      "\n"
     ]
    }
   ],
   "source": [
    "# Fetch Monster\n",
    "monster_with_token_df = fetch_monster()"
   ]
  },
  {
   "cell_type": "code",
   "execution_count": 4,
   "id": "f62e94af-db1f-4ba5-9a7c-979b919625f3",
   "metadata": {
    "papermill": {
     "duration": 53.03987,
     "end_time": "2023-02-18T15:16:05.582623",
     "exception": false,
     "start_time": "2023-02-18T15:15:12.542753",
     "status": "completed"
    },
    "tags": []
   },
   "outputs": [
    {
     "name": "stdout",
     "output_type": "stream",
     "text": [
      "Downloading Spells\n",
      "2404 results\n",
      "\n",
      "Downloading Traps\n",
      "1827 results\n",
      "\n"
     ]
    }
   ],
   "source": [
    "# Fetch Spell\n",
    "spell_df = fetch_st(st='Spell')\n",
    "\n",
    "# Fetch Trap\n",
    "trap_df = fetch_st(st='Trap')"
   ]
  },
  {
   "cell_type": "code",
   "execution_count": 5,
   "id": "913baa55-a117-4794-9b0c-9839cce927df",
   "metadata": {
    "papermill": {
     "duration": 10.342872,
     "end_time": "2023-02-18T15:16:15.978655",
     "exception": false,
     "start_time": "2023-02-18T15:16:05.635783",
     "status": "completed"
    },
    "tags": []
   },
   "outputs": [
    {
     "name": "stdout",
     "output_type": "stream",
     "text": [
      "Downloading counters\n",
      "13 results\n",
      "\n",
      "Downloading tokens\n",
      "180 results\n",
      "\n",
      "Downloading all errata\n",
      "1226 results\n",
      "\n"
     ]
    }
   ],
   "source": [
    "# Fetch Token\n",
    "token_df = fetch_token()\n",
    "\n",
    "# Fetch Counter\n",
    "counter_df = fetch_counter()\n",
    "\n",
    "# Fetch errata\n",
    "errata_df = fetch_errata()"
   ]
  },
  {
   "cell_type": "markdown",
   "id": "ffe04a8e-544d-4e73-947d-de6d5615bca3",
   "metadata": {
    "papermill": {
     "duration": 0.048016,
     "end_time": "2023-02-18T15:16:16.080021",
     "exception": false,
     "start_time": "2023-02-18T15:16:16.032005",
     "status": "completed"
    },
    "tags": []
   },
   "source": [
    "## Merge data"
   ]
  },
  {
   "cell_type": "code",
   "execution_count": 30,
   "id": "3669c6ff-2f6a-4a09-b80c-0cf361caf929",
   "metadata": {
    "papermill": {
     "duration": 0.321502,
     "end_time": "2023-02-18T15:16:16.449772",
     "exception": false,
     "start_time": "2023-02-18T15:16:16.128270",
     "status": "completed"
    },
    "tags": []
   },
   "outputs": [
    {
     "name": "stdout",
     "output_type": "stream",
     "text": [
      "Data merged\n"
     ]
    }
   ],
   "source": [
    "# Merge errata\n",
    "monster_df = merge_errata(monster_df, errata_df, drop=True)\n",
    "spell_df = merge_errata(spell_df, errata_df, drop=True)\n",
    "trap_df = merge_errata(trap_df, errata_df, drop=True)\n",
    "token_df = merge_errata(token_df, errata_df, drop=True)\n",
    "counter_df = merge_errata(counter_df, errata_df, drop=True)\n",
    "\n",
    "# Add counters to tokens data frame\n",
    "token_df = pd.concat([token_df, counter_df], ignore_index=True, axis=0).sort_values('Name').reset_index(drop=True)\n",
    "\n",
    "# Create combined spell and trap data frame\n",
    "st_df = pd.concat([spell_df, trap_df], ignore_index=True, axis=0).sort_values('Name').reset_index(drop=True)\n",
    "\n",
    "# Create combined monster, spell and trap data frames\n",
    "cards_df = pd.concat([st_df, monster_df], ignore_index=True, axis=0).sort_values('Name').reset_index(drop=True)\n",
    "\n",
    "# Create combined data frames with full data\n",
    "full_df = pd.concat([cards_df, token_df], ignore_index=True, axis=0).sort_values('Name').reset_index(drop=True)\n",
    "\n",
    "print('Data merged')"
   ]
  },
  {
   "cell_type": "markdown",
   "id": "9b15f8ec",
   "metadata": {
    "papermill": {
     "duration": 0.049016,
     "end_time": "2023-02-18T15:16:16.548240",
     "exception": false,
     "start_time": "2023-02-18T15:16:16.499224",
     "status": "completed"
    },
    "tags": []
   },
   "source": [
    "## Save data"
   ]
  },
  {
   "cell_type": "code",
   "execution_count": null,
   "id": "01e9eb77",
   "metadata": {
    "papermill": {
     "duration": 0.316707,
     "end_time": "2023-02-18T15:16:16.913844",
     "exception": false,
     "start_time": "2023-02-18T15:16:16.597137",
     "status": "completed"
    },
    "tags": []
   },
   "outputs": [],
   "source": [
    "full_df.to_csv(f'../data/all_cards_{timestamp.isoformat(timespec=\"minutes\")}.csv', index = False)\n",
    "print('Data saved')"
   ]
  },
  {
   "cell_type": "markdown",
   "id": "9ff0cf51",
   "metadata": {
    "papermill": {
     "duration": 0.049174,
     "end_time": "2023-02-18T15:16:17.012686",
     "exception": false,
     "start_time": "2023-02-18T15:16:16.963512",
     "status": "completed"
    },
    "tags": []
   },
   "source": [
    "# Check changes"
   ]
  },
  {
   "cell_type": "markdown",
   "id": "233e965d",
   "metadata": {
    "papermill": {
     "duration": 0.050893,
     "end_time": "2023-02-18T15:16:17.111937",
     "exception": false,
     "start_time": "2023-02-18T15:16:17.061044",
     "status": "completed"
    },
    "tags": []
   },
   "source": [
    "## Load previous data"
   ]
  },
  {
   "cell_type": "code",
   "execution_count": null,
   "id": "fb7dc6f8",
   "metadata": {
    "papermill": {
     "duration": 0.551002,
     "end_time": "2023-02-18T15:16:17.714101",
     "exception": false,
     "start_time": "2023-02-18T15:16:17.163099",
     "status": "completed"
    },
    "tags": []
   },
   "outputs": [],
   "source": [
    "# Get list of files\n",
    "files_list = sorted(glob.glob('../data/all_cards_*.csv'), key=os.path.getctime, reverse=True)\n",
    "# Get second newest file if exist\n",
    "if len(files_list)>1:\n",
    "    # Load csv avoiding converting \"NA\" to NaN\n",
    "    previous_df = pd.read_csv(files_list[1], dtype=object, keep_default_na=False, na_values=[''])\n",
    "    # Correct tuples\n",
    "    previous_df['Secondary type'] = previous_df['Secondary type'].dropna().apply(literal_eval)\n",
    "    previous_df['Effect type'] = previous_df['Effect type'].dropna().apply(literal_eval)\n",
    "    previous_df['Link Arrows'] = previous_df['Link Arrows'].dropna().apply(literal_eval)\n",
    "    previous_df['Archseries'] = previous_df['Archseries'].dropna().apply(literal_eval)\n",
    "    previous_df['Artwork'] = previous_df['Artwork'].dropna().apply(literal_eval)\n",
    "    previous_df['Errata'] = previous_df['Errata'].dropna().apply(literal_eval)\n",
    "    # Force dtypes to match current df\n",
    "    previous_df = previous_df.astype(full_df[previous_df.columns].dtypes.to_dict())\n",
    "    previous_ts = pd.to_datetime(os.path.basename(files_list[1]).split('_')[-1].rstrip('.csv'))\n",
    "    print('File loaded')\n",
    "else:\n",
    "    previous_df = None\n",
    "    print('No older files')"
   ]
  },
  {
   "cell_type": "markdown",
   "id": "96ce5451",
   "metadata": {
    "papermill": {
     "duration": 0.052419,
     "end_time": "2023-02-18T15:16:17.819534",
     "exception": false,
     "start_time": "2023-02-18T15:16:17.767115",
     "status": "completed"
    },
    "tags": []
   },
   "source": [
    "## Generate changelog"
   ]
  },
  {
   "cell_type": "code",
   "execution_count": null,
   "id": "2fcca8f1",
   "metadata": {
    "papermill": {
     "duration": 0.329546,
     "end_time": "2023-02-18T15:16:18.197937",
     "exception": false,
     "start_time": "2023-02-18T15:16:17.868391",
     "status": "completed"
    },
    "tags": []
   },
   "outputs": [],
   "source": [
    "if previous_df is None:\n",
    "    print('Skipped')\n",
    "else:\n",
    "    changelog = generate_changelog(previous_df, full_df, col = 'Name')\n",
    "    if not changelog.empty:\n",
    "        display(changelog)\n",
    "        changelog.to_csv(f'../data/cards_changelog_{timestamp.isoformat(timespec=\"minutes\")}_{previous_ts.isoformat(timespec=\"minutes\")}.csv', index = True)\n",
    "        print('Changelog saved')"
   ]
  },
  {
   "cell_type": "markdown",
   "id": "c0ae1017",
   "metadata": {
    "papermill": {
     "duration": 0.175822,
     "end_time": "2023-02-18T15:16:18.424032",
     "exception": false,
     "start_time": "2023-02-18T15:16:18.248210",
     "status": "completed"
    },
    "tags": []
   },
   "source": [
    "# Data visualization"
   ]
  },
  {
   "cell_type": "markdown",
   "id": "5ad091af",
   "metadata": {
    "papermill": {
     "duration": 0.049554,
     "end_time": "2023-02-18T15:16:18.526364",
     "exception": false,
     "start_time": "2023-02-18T15:16:18.476810",
     "status": "completed"
    },
    "tags": []
   },
   "source": [
    "## Full data"
   ]
  },
  {
   "cell_type": "code",
   "execution_count": null,
   "id": "fb024043",
   "metadata": {
    "papermill": {
     "duration": 0.093892,
     "end_time": "2023-02-18T15:16:18.778671",
     "exception": false,
     "start_time": "2023-02-18T15:16:18.684779",
     "status": "completed"
    },
    "tags": []
   },
   "outputs": [],
   "source": [
    "full_df"
   ]
  },
  {
   "cell_type": "markdown",
   "id": "da99ccde-ca38-4d81-8661-6f8514f689d7",
   "metadata": {
    "papermill": {
     "duration": 0.049055,
     "end_time": "2023-02-18T15:16:18.879001",
     "exception": false,
     "start_time": "2023-02-18T15:16:18.829946",
     "status": "completed"
    },
    "tags": []
   },
   "source": [
    "Full data available to download [here](../data)"
   ]
  },
  {
   "cell_type": "markdown",
   "id": "8a8cb7cd",
   "metadata": {
    "papermill": {
     "duration": 0.048921,
     "end_time": "2023-02-18T15:16:18.977825",
     "exception": false,
     "start_time": "2023-02-18T15:16:18.928904",
     "status": "completed"
    },
    "tags": []
   },
   "source": [
    "## Card types"
   ]
  },
  {
   "cell_type": "code",
   "execution_count": null,
   "id": "a4ec32e1",
   "metadata": {
    "papermill": {
     "duration": 0.161375,
     "end_time": "2023-02-18T15:16:19.189487",
     "exception": false,
     "start_time": "2023-02-18T15:16:19.028112",
     "status": "completed"
    },
    "tags": []
   },
   "outputs": [],
   "source": [
    "print('Total number of card types:', cards_df.groupby('Card type').nunique())"
   ]
  },
  {
   "cell_type": "code",
   "execution_count": null,
   "id": "120a72dc",
   "metadata": {
    "papermill": {
     "duration": 0.346151,
     "end_time": "2023-02-18T15:16:19.585045",
     "exception": false,
     "start_time": "2023-02-18T15:16:19.238894",
     "status": "completed"
    },
    "tags": []
   },
   "outputs": [],
   "source": [
    "card_type_colors = [colors_dict[i] for i in full_df['Card type'].value_counts().index]\n",
    "cards_df['Card type'].value_counts().plot.bar(figsize = (18,6), grid = True, rot=0, color = card_type_colors, title = 'Card type')\n",
    "plt.show()"
   ]
  },
  {
   "cell_type": "markdown",
   "id": "fa1ed03c",
   "metadata": {
    "papermill": {
     "duration": 0.049916,
     "end_time": "2023-02-18T15:16:19.690491",
     "exception": false,
     "start_time": "2023-02-18T15:16:19.640575",
     "status": "completed"
    },
    "tags": []
   },
   "source": [
    "## Monsters"
   ]
  },
  {
   "cell_type": "markdown",
   "id": "66c5f658",
   "metadata": {
    "papermill": {
     "duration": 0.049917,
     "end_time": "2023-02-18T15:16:19.791097",
     "exception": false,
     "start_time": "2023-02-18T15:16:19.741180",
     "status": "completed"
    },
    "tags": []
   },
   "source": [
    "### Attributes"
   ]
  },
  {
   "cell_type": "code",
   "execution_count": null,
   "id": "aa4e6a26",
   "metadata": {
    "papermill": {
     "duration": 0.062384,
     "end_time": "2023-02-18T15:16:19.906828",
     "exception": false,
     "start_time": "2023-02-18T15:16:19.844444",
     "status": "completed"
    },
    "tags": []
   },
   "outputs": [],
   "source": [
    "print('Total number of attributes:', monster_df['Attribute'].nunique())"
   ]
  },
  {
   "cell_type": "code",
   "execution_count": null,
   "id": "ea26720e",
   "metadata": {
    "papermill": {
     "duration": 0.13876,
     "end_time": "2023-02-18T15:16:20.096421",
     "exception": false,
     "start_time": "2023-02-18T15:16:19.957661",
     "status": "completed"
    },
    "tags": []
   },
   "outputs": [],
   "source": [
    "monster_df.drop(columns=['Card type']).groupby('Attribute').nunique()"
   ]
  },
  {
   "cell_type": "code",
   "execution_count": null,
   "id": "c4ff5f74",
   "metadata": {
    "papermill": {
     "duration": 0.309928,
     "end_time": "2023-02-18T15:16:20.457578",
     "exception": false,
     "start_time": "2023-02-18T15:16:20.147650",
     "status": "completed"
    },
    "tags": []
   },
   "outputs": [],
   "source": [
    "attribute_colors = [colors_dict[i] for i in monster_df['Attribute'].value_counts().index]\n",
    "monster_df['Attribute'].value_counts().plot.bar(figsize = (18,6), grid = True, rot=0, color = attribute_colors, title = 'Attribute')\n",
    "plt.show()"
   ]
  },
  {
   "cell_type": "markdown",
   "id": "d0d71936",
   "metadata": {
    "papermill": {
     "duration": 0.123646,
     "end_time": "2023-02-18T15:16:20.632777",
     "exception": false,
     "start_time": "2023-02-18T15:16:20.509131",
     "status": "completed"
    },
    "tags": []
   },
   "source": [
    "### Primary types"
   ]
  },
  {
   "cell_type": "code",
   "execution_count": null,
   "id": "26e45412",
   "metadata": {
    "papermill": {
     "duration": 0.065654,
     "end_time": "2023-02-18T15:16:20.749821",
     "exception": false,
     "start_time": "2023-02-18T15:16:20.684167",
     "status": "completed"
    },
    "tags": []
   },
   "outputs": [],
   "source": [
    "print('Total number of primary types:', monster_df['Primary type'].nunique())"
   ]
  },
  {
   "cell_type": "code",
   "execution_count": null,
   "id": "c7e4c6b0",
   "metadata": {
    "papermill": {
     "duration": 0.142702,
     "end_time": "2023-02-18T15:16:20.943705",
     "exception": false,
     "start_time": "2023-02-18T15:16:20.801003",
     "status": "completed"
    },
    "tags": []
   },
   "outputs": [],
   "source": [
    "monster_df.drop(columns=['Card type']).groupby('Primary type').nunique()"
   ]
  },
  {
   "cell_type": "markdown",
   "id": "d41d8e4a",
   "metadata": {
    "papermill": {
     "duration": 0.06043,
     "end_time": "2023-02-18T15:16:21.057812",
     "exception": false,
     "start_time": "2023-02-18T15:16:20.997382",
     "status": "completed"
    },
    "tags": []
   },
   "source": [
    "#### Has effect discrimination"
   ]
  },
  {
   "cell_type": "code",
   "execution_count": null,
   "id": "56a59624",
   "metadata": {
    "papermill": {
     "duration": 0.095336,
     "end_time": "2023-02-18T15:16:21.270801",
     "exception": false,
     "start_time": "2023-02-18T15:16:21.175465",
     "status": "completed"
    },
    "tags": []
   },
   "outputs": [],
   "source": [
    "has_effect = monster_df['Primary type'].where(monster_df['Effect type'].notna()).value_counts().rename('Effect')\n",
    "no_effect = monster_df['Primary type'].where(monster_df['Effect type'].isna()).value_counts().rename('No Effect')\n",
    "effect = pd.concat([has_effect,no_effect], axis=1).fillna(0).astype(int)\n",
    "effect"
   ]
  },
  {
   "cell_type": "code",
   "execution_count": null,
   "id": "82c24448",
   "metadata": {
    "papermill": {
     "duration": 0.659249,
     "end_time": "2023-02-18T15:16:22.014530",
     "exception": false,
     "start_time": "2023-02-18T15:16:21.355281",
     "status": "completed"
    },
    "tags": []
   },
   "outputs": [],
   "source": [
    "monster_type_colors = {'No Effect': colors_dict['Normal Monster'], 'Effect': [colors_dict[i] for i in effect.index]}\n",
    "effect.plot.bar(figsize = (18,6), stacked = True, grid = True, rot=0,  legend=True, color = monster_type_colors, title = 'Primary types - Has effect')\n",
    "# plt.yscale('log')\n",
    "plt.show()"
   ]
  },
  {
   "cell_type": "markdown",
   "id": "69d8824e",
   "metadata": {
    "papermill": {
     "duration": 0.05542,
     "end_time": "2023-02-18T15:16:22.126612",
     "exception": false,
     "start_time": "2023-02-18T15:16:22.071192",
     "status": "completed"
    },
    "tags": []
   },
   "source": [
    "Obs: Normal monster can have effect if it is pendulum"
   ]
  },
  {
   "cell_type": "markdown",
   "id": "1da2968f",
   "metadata": {
    "papermill": {
     "duration": 0.052899,
     "end_time": "2023-02-18T15:16:22.234629",
     "exception": false,
     "start_time": "2023-02-18T15:16:22.181730",
     "status": "completed"
    },
    "tags": []
   },
   "source": [
    "#### Is pendulum discrimination"
   ]
  },
  {
   "cell_type": "code",
   "execution_count": null,
   "id": "c18ac7a6",
   "metadata": {
    "papermill": {
     "duration": 0.076584,
     "end_time": "2023-02-18T15:16:22.364406",
     "exception": false,
     "start_time": "2023-02-18T15:16:22.287822",
     "status": "completed"
    },
    "tags": []
   },
   "outputs": [],
   "source": [
    "not_pendulum = monster_df['Primary type'].where(monster_df['Pendulum Scale'].isna()).value_counts().rename('Not Pendulum')\n",
    "is_pendulum = monster_df['Primary type'].where(monster_df['Pendulum Scale'].notna()).value_counts().rename('Pendulum')\n",
    "pendulum = pd.concat([not_pendulum,is_pendulum], axis=1).fillna(0).astype(int)\n",
    "pendulum"
   ]
  },
  {
   "cell_type": "code",
   "execution_count": null,
   "id": "fd0ff75c",
   "metadata": {
    "papermill": {
     "duration": 0.378053,
     "end_time": "2023-02-18T15:16:22.795836",
     "exception": false,
     "start_time": "2023-02-18T15:16:22.417783",
     "status": "completed"
    },
    "tags": []
   },
   "outputs": [],
   "source": [
    "monster_type_colors_b = {'Pendulum': colors_dict['Pendulum Monster'], 'Not Pendulum': [colors_dict[i] for i in pendulum.index]}\n",
    "pendulum.plot.bar(figsize = (18,6), stacked = True, grid = True, rot=0, color = monster_type_colors_b, legend=True, title = 'Primary types - Is pendulum')\n",
    "plt.show()"
   ]
  },
  {
   "cell_type": "markdown",
   "id": "a6a4f4f5",
   "metadata": {
    "papermill": {
     "duration": 0.053705,
     "end_time": "2023-02-18T15:16:22.904845",
     "exception": false,
     "start_time": "2023-02-18T15:16:22.851140",
     "status": "completed"
    },
    "tags": []
   },
   "source": [
    "#### By attribute"
   ]
  },
  {
   "cell_type": "code",
   "execution_count": null,
   "id": "9c162519",
   "metadata": {
    "papermill": {
     "duration": 0.094331,
     "end_time": "2023-02-18T15:16:23.053434",
     "exception": false,
     "start_time": "2023-02-18T15:16:22.959103",
     "status": "completed"
    },
    "tags": []
   },
   "outputs": [],
   "source": [
    "primmary_crosstab = pd.crosstab(cards_df['Primary type'],cards_df['Attribute'])\n",
    "primmary_crosstab"
   ]
  },
  {
   "cell_type": "code",
   "execution_count": null,
   "id": "a0114f45",
   "metadata": {
    "papermill": {
     "duration": 0.998734,
     "end_time": "2023-02-18T15:16:24.112728",
     "exception": false,
     "start_time": "2023-02-18T15:16:23.113994",
     "status": "completed"
    },
    "tags": []
   },
   "outputs": [],
   "source": [
    "plt.figure(figsize = (16,10))\n",
    "sns.heatmap(primmary_crosstab.T, annot=True, fmt=\"g\", cmap='viridis', square=True, norm=mc.LogNorm())\n",
    "plt.show()"
   ]
  },
  {
   "cell_type": "markdown",
   "id": "0c70885e",
   "metadata": {
    "papermill": {
     "duration": 0.067702,
     "end_time": "2023-02-18T15:16:24.235847",
     "exception": false,
     "start_time": "2023-02-18T15:16:24.168145",
     "status": "completed"
    },
    "tags": []
   },
   "source": [
    "### Secondary types"
   ]
  },
  {
   "cell_type": "code",
   "execution_count": null,
   "id": "ee184462",
   "metadata": {
    "papermill": {
     "duration": 0.135318,
     "end_time": "2023-02-18T15:16:24.427586",
     "exception": false,
     "start_time": "2023-02-18T15:16:24.292268",
     "status": "completed"
    },
    "tags": []
   },
   "outputs": [],
   "source": [
    "exploded_secondary_type = monster_df.explode('Secondary type')\n",
    "print('Total number of secondary types:', exploded_secondary_type['Secondary type'].nunique())"
   ]
  },
  {
   "cell_type": "code",
   "execution_count": null,
   "id": "125f438e",
   "metadata": {
    "papermill": {
     "duration": 0.145785,
     "end_time": "2023-02-18T15:16:24.629391",
     "exception": false,
     "start_time": "2023-02-18T15:16:24.483606",
     "status": "completed"
    },
    "tags": []
   },
   "outputs": [],
   "source": [
    "exploded_secondary_type.drop(columns=['Card type', 'Link', 'Link Arrows']).groupby('Secondary type').nunique()"
   ]
  },
  {
   "cell_type": "code",
   "execution_count": null,
   "id": "a4fec827",
   "metadata": {
    "papermill": {
     "duration": 0.325857,
     "end_time": "2023-02-18T15:16:25.010916",
     "exception": false,
     "start_time": "2023-02-18T15:16:24.685059",
     "status": "completed"
    },
    "tags": []
   },
   "outputs": [],
   "source": [
    "secondary_type_colors = colors_dict['Effect Monster']\n",
    "exploded_secondary_type['Secondary type'].value_counts().plot.bar(figsize = (18,6), stacked = True, grid = True, rot=0, color = secondary_type_colors, legend=False, title = 'Secondary type')\n",
    "plt.show()"
   ]
  },
  {
   "cell_type": "markdown",
   "id": "0420679a",
   "metadata": {
    "papermill": {
     "duration": 0.130589,
     "end_time": "2023-02-18T15:16:25.198868",
     "exception": false,
     "start_time": "2023-02-18T15:16:25.068279",
     "status": "completed"
    },
    "tags": []
   },
   "source": [
    "#### By attribute"
   ]
  },
  {
   "cell_type": "code",
   "execution_count": null,
   "id": "085225bb",
   "metadata": {
    "papermill": {
     "duration": 0.089761,
     "end_time": "2023-02-18T15:16:25.345522",
     "exception": false,
     "start_time": "2023-02-18T15:16:25.255761",
     "status": "completed"
    },
    "tags": []
   },
   "outputs": [],
   "source": [
    "secondary_crosstab = pd.crosstab(exploded_secondary_type['Secondary type'],exploded_secondary_type['Attribute'])\n",
    "secondary_crosstab"
   ]
  },
  {
   "cell_type": "code",
   "execution_count": null,
   "id": "b69fe297",
   "metadata": {
    "papermill": {
     "duration": 0.481174,
     "end_time": "2023-02-18T15:16:25.887958",
     "exception": false,
     "start_time": "2023-02-18T15:16:25.406784",
     "status": "completed"
    },
    "tags": []
   },
   "outputs": [],
   "source": [
    "plt.figure(figsize = (8,6))\n",
    "sns.heatmap(secondary_crosstab[secondary_crosstab>0], annot=True, fmt=\"g\", cmap='viridis', square=True)\n",
    "plt.show()"
   ]
  },
  {
   "cell_type": "markdown",
   "id": "30b035c2",
   "metadata": {
    "papermill": {
     "duration": 0.106138,
     "end_time": "2023-02-18T15:16:26.052271",
     "exception": false,
     "start_time": "2023-02-18T15:16:25.946133",
     "status": "completed"
    },
    "tags": []
   },
   "source": [
    "#### By secondary type"
   ]
  },
  {
   "cell_type": "code",
   "execution_count": null,
   "id": "c8f08039",
   "metadata": {
    "papermill": {
     "duration": 0.124963,
     "end_time": "2023-02-18T15:16:26.235906",
     "exception": false,
     "start_time": "2023-02-18T15:16:26.110943",
     "status": "completed"
    },
    "tags": []
   },
   "outputs": [],
   "source": [
    "secondary_crosstab_b = pd.crosstab(exploded_secondary_type['Primary type'],exploded_secondary_type['Secondary type'], margins = True)\n",
    "secondary_crosstab_b"
   ]
  },
  {
   "cell_type": "code",
   "execution_count": null,
   "id": "4749ace2",
   "metadata": {
    "papermill": {
     "duration": 0.736746,
     "end_time": "2023-02-18T15:16:27.032011",
     "exception": false,
     "start_time": "2023-02-18T15:16:26.295265",
     "status": "completed"
    },
    "tags": []
   },
   "outputs": [],
   "source": [
    "plt.figure(figsize = (10,7))\n",
    "sns.heatmap(secondary_crosstab_b, annot=True, fmt=\"g\", cmap='viridis', square=True, norm=mc.LogNorm())\n",
    "plt.show()"
   ]
  },
  {
   "cell_type": "markdown",
   "id": "9682c65a",
   "metadata": {
    "papermill": {
     "duration": 0.059269,
     "end_time": "2023-02-18T15:16:27.150355",
     "exception": false,
     "start_time": "2023-02-18T15:16:27.091086",
     "status": "completed"
    },
    "tags": []
   },
   "source": [
    "### Monster types"
   ]
  },
  {
   "cell_type": "code",
   "execution_count": null,
   "id": "dab77100",
   "metadata": {
    "papermill": {
     "duration": 0.072771,
     "end_time": "2023-02-18T15:16:27.282211",
     "exception": false,
     "start_time": "2023-02-18T15:16:27.209440",
     "status": "completed"
    },
    "tags": []
   },
   "outputs": [],
   "source": [
    "print('Total number of monster types:', monster_df['Monster type'].nunique())"
   ]
  },
  {
   "cell_type": "code",
   "execution_count": null,
   "id": "02f5b750",
   "metadata": {
    "papermill": {
     "duration": 0.164226,
     "end_time": "2023-02-18T15:16:27.508622",
     "exception": false,
     "start_time": "2023-02-18T15:16:27.344396",
     "status": "completed"
    },
    "tags": []
   },
   "outputs": [],
   "source": [
    "monster_df.drop(columns=['Card type']).groupby('Monster type').nunique()"
   ]
  },
  {
   "cell_type": "code",
   "execution_count": null,
   "id": "75111774",
   "metadata": {
    "papermill": {
     "duration": 0.592315,
     "end_time": "2023-02-18T15:16:28.163330",
     "exception": false,
     "start_time": "2023-02-18T15:16:27.571015",
     "status": "completed"
    },
    "tags": []
   },
   "outputs": [],
   "source": [
    "monster_type_colors = colors_dict['Monster Card']\n",
    "monster_df['Monster type'].value_counts().plot.bar(figsize = (18,6), grid = True, rot=45, color = monster_type_colors, title = 'Monster type')\n",
    "plt.show()"
   ]
  },
  {
   "cell_type": "markdown",
   "id": "32d282b7",
   "metadata": {
    "papermill": {
     "duration": 0.0616,
     "end_time": "2023-02-18T15:16:28.287053",
     "exception": false,
     "start_time": "2023-02-18T15:16:28.225453",
     "status": "completed"
    },
    "tags": []
   },
   "source": [
    "#### By Attribute"
   ]
  },
  {
   "cell_type": "code",
   "execution_count": null,
   "id": "23d29373",
   "metadata": {
    "papermill": {
     "duration": 0.106944,
     "end_time": "2023-02-18T15:16:28.456310",
     "exception": false,
     "start_time": "2023-02-18T15:16:28.349366",
     "status": "completed"
    },
    "tags": []
   },
   "outputs": [],
   "source": [
    "monster_crosstab = pd.crosstab(cards_df['Monster type'],cards_df['Attribute'], dropna=False)\n",
    "monster_crosstab"
   ]
  },
  {
   "cell_type": "code",
   "execution_count": null,
   "id": "fd9ca22d",
   "metadata": {
    "papermill": {
     "duration": 1.253431,
     "end_time": "2023-02-18T15:16:29.773333",
     "exception": false,
     "start_time": "2023-02-18T15:16:28.519902",
     "status": "completed"
    },
    "tags": []
   },
   "outputs": [],
   "source": [
    "plt.figure(figsize = (20,5))\n",
    "sns.heatmap(monster_crosstab[monster_crosstab>0].T, annot=True, fmt=\"g\", cmap='viridis', square=True, norm=mc.LogNorm())\n",
    "plt.show()"
   ]
  },
  {
   "cell_type": "markdown",
   "id": "4daa9957",
   "metadata": {
    "papermill": {
     "duration": 0.063675,
     "end_time": "2023-02-18T15:16:29.901877",
     "exception": false,
     "start_time": "2023-02-18T15:16:29.838202",
     "status": "completed"
    },
    "tags": []
   },
   "source": [
    "#### By primary type"
   ]
  },
  {
   "cell_type": "code",
   "execution_count": null,
   "id": "0f5d0eda",
   "metadata": {
    "papermill": {
     "duration": 0.110385,
     "end_time": "2023-02-18T15:16:30.080986",
     "exception": false,
     "start_time": "2023-02-18T15:16:29.970601",
     "status": "completed"
    },
    "tags": []
   },
   "outputs": [],
   "source": [
    "monster_crosstab_b = pd.crosstab(cards_df['Monster type'],cards_df['Primary type'], dropna=False)\n",
    "monster_crosstab_b"
   ]
  },
  {
   "cell_type": "code",
   "execution_count": null,
   "id": "5f3b531c",
   "metadata": {
    "papermill": {
     "duration": 1.17752,
     "end_time": "2023-02-18T15:16:31.327031",
     "exception": false,
     "start_time": "2023-02-18T15:16:30.149511",
     "status": "completed"
    },
    "tags": []
   },
   "outputs": [],
   "source": [
    "plt.figure(figsize = (20,5))\n",
    "sns.heatmap(monster_crosstab_b[monster_crosstab_b>0].T, annot=True, fmt=\"g\", cmap='viridis', square=True, norm = mc.LogNorm())\n",
    "plt.show()"
   ]
  },
  {
   "cell_type": "markdown",
   "id": "9056b880",
   "metadata": {
    "papermill": {
     "duration": 0.06798,
     "end_time": "2023-02-18T15:16:31.471643",
     "exception": false,
     "start_time": "2023-02-18T15:16:31.403663",
     "status": "completed"
    },
    "tags": []
   },
   "source": [
    "#### By secondary type"
   ]
  },
  {
   "cell_type": "code",
   "execution_count": null,
   "id": "cbe5bef6",
   "metadata": {
    "papermill": {
     "duration": 0.108334,
     "end_time": "2023-02-18T15:16:31.652344",
     "exception": false,
     "start_time": "2023-02-18T15:16:31.544010",
     "status": "completed"
    },
    "tags": []
   },
   "outputs": [],
   "source": [
    "monster_crosstab_c = pd.crosstab(exploded_secondary_type['Monster type'],exploded_secondary_type['Secondary type'], dropna=False)\n",
    "monster_crosstab_c"
   ]
  },
  {
   "cell_type": "code",
   "execution_count": null,
   "id": "3712cc0e",
   "metadata": {
    "papermill": {
     "duration": 0.947172,
     "end_time": "2023-02-18T15:16:32.668616",
     "exception": false,
     "start_time": "2023-02-18T15:16:31.721444",
     "status": "completed"
    },
    "tags": []
   },
   "outputs": [],
   "source": [
    "plt.figure(figsize = (20,5))\n",
    "sns.heatmap(monster_crosstab_c[monster_crosstab_c>0].T, annot=True, fmt=\"g\", cmap='viridis', square=True, norm = mc.LogNorm())\n",
    "plt.show()"
   ]
  },
  {
   "cell_type": "markdown",
   "id": "aaf6f5d6",
   "metadata": {
    "papermill": {
     "duration": 0.069836,
     "end_time": "2023-02-18T15:16:32.812606",
     "exception": false,
     "start_time": "2023-02-18T15:16:32.742770",
     "status": "completed"
    },
    "tags": []
   },
   "source": [
    "### Effect type"
   ]
  },
  {
   "cell_type": "code",
   "execution_count": null,
   "id": "b44949a6",
   "metadata": {
    "papermill": {
     "duration": 0.103636,
     "end_time": "2023-02-18T15:16:32.986285",
     "exception": false,
     "start_time": "2023-02-18T15:16:32.882649",
     "status": "completed"
    },
    "tags": []
   },
   "outputs": [],
   "source": [
    "print('Total number of effect types:', monster_df['Effect type'].explode().nunique())"
   ]
  },
  {
   "cell_type": "code",
   "execution_count": null,
   "id": "c4e48718",
   "metadata": {
    "papermill": {
     "duration": 0.294839,
     "end_time": "2023-02-18T15:16:33.351688",
     "exception": false,
     "start_time": "2023-02-18T15:16:33.056849",
     "status": "completed"
    },
    "tags": []
   },
   "outputs": [],
   "source": [
    "monster_df[monster_df['Effect type'].notna()].drop(columns=['Card type']).explode('Effect type').groupby('Effect type').nunique()"
   ]
  },
  {
   "cell_type": "code",
   "execution_count": null,
   "id": "ff912d52",
   "metadata": {
    "papermill": {
     "duration": 0.444085,
     "end_time": "2023-02-18T15:16:33.866301",
     "exception": false,
     "start_time": "2023-02-18T15:16:33.422216",
     "status": "completed"
    },
    "tags": []
   },
   "outputs": [],
   "source": [
    "monster_effect_colors = colors_dict['Effect Monster']\n",
    "monster_df['Effect type'].explode('Effect type').value_counts().plot.bar(figsize = (18,6), grid = True, color = monster_effect_colors, title='Effect type')\n",
    "# plt.yscale('log')\n",
    "plt.show()"
   ]
  },
  {
   "cell_type": "markdown",
   "id": "371f2c74",
   "metadata": {
    "papermill": {
     "duration": 0.124546,
     "end_time": "2023-02-18T15:16:34.062287",
     "exception": false,
     "start_time": "2023-02-18T15:16:33.937741",
     "status": "completed"
    },
    "tags": []
   },
   "source": [
    "### ATK"
   ]
  },
  {
   "cell_type": "code",
   "execution_count": null,
   "id": "1b5db865",
   "metadata": {
    "papermill": {
     "duration": 0.086132,
     "end_time": "2023-02-18T15:16:34.220499",
     "exception": false,
     "start_time": "2023-02-18T15:16:34.134367",
     "status": "completed"
    },
    "tags": []
   },
   "outputs": [],
   "source": [
    "print('Total number of ATK values:', monster_df['ATK'].nunique())"
   ]
  },
  {
   "cell_type": "code",
   "execution_count": null,
   "id": "16b9aa14",
   "metadata": {
    "papermill": {
     "duration": 0.175821,
     "end_time": "2023-02-18T15:16:34.471911",
     "exception": false,
     "start_time": "2023-02-18T15:16:34.296090",
     "status": "completed"
    },
    "tags": []
   },
   "outputs": [],
   "source": [
    "monster_df.drop(columns=['Card type']).groupby('ATK').nunique().sort_index(key=lambda x: pd.to_numeric(x, errors = 'coerce'))"
   ]
  },
  {
   "cell_type": "code",
   "execution_count": null,
   "id": "3b1b2e1d",
   "metadata": {
    "papermill": {
     "duration": 0.947536,
     "end_time": "2023-02-18T15:16:35.492035",
     "exception": false,
     "start_time": "2023-02-18T15:16:34.544499",
     "status": "completed"
    },
    "tags": []
   },
   "outputs": [],
   "source": [
    "atk_colors = colors_dict['Monster Card']\n",
    "monster_df['DEF'].value_counts().sort_index(key=lambda x: pd.to_numeric(x, errors = 'coerce')).plot.bar(figsize = (18,6), grid = True, color = atk_colors, title = 'ATK')\n",
    "plt.show()"
   ]
  },
  {
   "cell_type": "markdown",
   "id": "cda8b288",
   "metadata": {
    "papermill": {
     "duration": 0.073105,
     "end_time": "2023-02-18T15:16:35.639156",
     "exception": false,
     "start_time": "2023-02-18T15:16:35.566051",
     "status": "completed"
    },
    "tags": []
   },
   "source": [
    "### DEF"
   ]
  },
  {
   "cell_type": "code",
   "execution_count": null,
   "id": "2aa0ba61",
   "metadata": {
    "papermill": {
     "duration": 0.085644,
     "end_time": "2023-02-18T15:16:35.798854",
     "exception": false,
     "start_time": "2023-02-18T15:16:35.713210",
     "status": "completed"
    },
    "tags": []
   },
   "outputs": [],
   "source": [
    "print('Total number of DEF values:', monster_df['DEF'].nunique())"
   ]
  },
  {
   "cell_type": "code",
   "execution_count": null,
   "id": "54e9d56a",
   "metadata": {
    "papermill": {
     "duration": 0.173923,
     "end_time": "2023-02-18T15:16:36.050595",
     "exception": false,
     "start_time": "2023-02-18T15:16:35.876672",
     "status": "completed"
    },
    "tags": []
   },
   "outputs": [],
   "source": [
    "monster_df.drop(columns=['Card type']).groupby('DEF').nunique().sort_index(key=lambda x: pd.to_numeric(x, errors = 'coerce'))"
   ]
  },
  {
   "cell_type": "code",
   "execution_count": null,
   "id": "10aeff48",
   "metadata": {
    "papermill": {
     "duration": 1.124007,
     "end_time": "2023-02-18T15:16:37.253226",
     "exception": false,
     "start_time": "2023-02-18T15:16:36.129219",
     "status": "completed"
    },
    "tags": []
   },
   "outputs": [],
   "source": [
    "def_colors = colors_dict['Monster Card']\n",
    "monster_df['DEF'].value_counts().sort_index(key=lambda x: pd.to_numeric(x, errors = 'coerce')).plot.bar(figsize = (18,6), grid = True, color = def_colors, title = 'DEF')\n",
    "plt.show()"
   ]
  },
  {
   "cell_type": "markdown",
   "id": "4f26bf6d",
   "metadata": {
    "papermill": {
     "duration": 0.074409,
     "end_time": "2023-02-18T15:16:37.401962",
     "exception": false,
     "start_time": "2023-02-18T15:16:37.327553",
     "status": "completed"
    },
    "tags": []
   },
   "source": [
    "### Level/Rank"
   ]
  },
  {
   "cell_type": "code",
   "execution_count": null,
   "id": "f5543138",
   "metadata": {
    "papermill": {
     "duration": 0.184895,
     "end_time": "2023-02-18T15:16:37.664673",
     "exception": false,
     "start_time": "2023-02-18T15:16:37.479778",
     "status": "completed"
    },
    "tags": []
   },
   "outputs": [],
   "source": [
    "monster_df.drop(columns=['Card type', 'Link', 'Link Arrows']).groupby('Level/Rank').nunique().sort_index(key=lambda x: pd.to_numeric(x, errors = 'coerce'))"
   ]
  },
  {
   "cell_type": "code",
   "execution_count": null,
   "id": "31539bdc",
   "metadata": {
    "papermill": {
     "duration": 0.413692,
     "end_time": "2023-02-18T15:16:38.157275",
     "exception": false,
     "start_time": "2023-02-18T15:16:37.743583",
     "status": "completed"
    },
    "tags": []
   },
   "outputs": [],
   "source": [
    "stars_colors = colors_dict['Level']\n",
    "monster_df['Level/Rank'].value_counts().sort_index(key=lambda x: pd.to_numeric(x, errors = 'coerce')).plot.bar(figsize = (18,6), grid = True, rot=0, color= stars_colors, title = 'Level/Rank')\n",
    "plt.show()"
   ]
  },
  {
   "cell_type": "markdown",
   "id": "6a08e2b8",
   "metadata": {
    "papermill": {
     "duration": 0.146295,
     "end_time": "2023-02-18T15:16:38.381238",
     "exception": false,
     "start_time": "2023-02-18T15:16:38.234943",
     "status": "completed"
    },
    "tags": []
   },
   "source": [
    "#### ATK statistics"
   ]
  },
  {
   "cell_type": "code",
   "execution_count": null,
   "id": "06dc9107",
   "metadata": {
    "papermill": {
     "duration": 0.193982,
     "end_time": "2023-02-18T15:16:38.654424",
     "exception": false,
     "start_time": "2023-02-18T15:16:38.460442",
     "status": "completed"
    },
    "tags": []
   },
   "outputs": [],
   "source": [
    "monster_df[['Level/Rank','ATK']].apply(pd.to_numeric, errors = 'coerce').dropna().astype(int).groupby('Level/Rank').describe()"
   ]
  },
  {
   "cell_type": "markdown",
   "id": "b8a04916",
   "metadata": {
    "papermill": {
     "duration": 0.075725,
     "end_time": "2023-02-18T15:16:38.808163",
     "exception": false,
     "start_time": "2023-02-18T15:16:38.732438",
     "status": "completed"
    },
    "tags": []
   },
   "source": [
    "#### DEF statistics"
   ]
  },
  {
   "cell_type": "code",
   "execution_count": null,
   "id": "cc005e78",
   "metadata": {
    "papermill": {
     "duration": 0.171099,
     "end_time": "2023-02-18T15:16:39.055515",
     "exception": false,
     "start_time": "2023-02-18T15:16:38.884416",
     "status": "completed"
    },
    "tags": []
   },
   "outputs": [],
   "source": [
    "monster_df[['Level/Rank','DEF']].apply(pd.to_numeric, errors = 'coerce').dropna().astype(int).groupby('Level/Rank').describe()"
   ]
  },
  {
   "cell_type": "markdown",
   "id": "4029a29d",
   "metadata": {
    "papermill": {
     "duration": 0.076638,
     "end_time": "2023-02-18T15:16:39.210904",
     "exception": false,
     "start_time": "2023-02-18T15:16:39.134266",
     "status": "completed"
    },
    "tags": []
   },
   "source": [
    "### Pendulum scale"
   ]
  },
  {
   "cell_type": "code",
   "execution_count": null,
   "id": "9db07376",
   "metadata": {
    "papermill": {
     "duration": 0.171517,
     "end_time": "2023-02-18T15:16:39.460107",
     "exception": false,
     "start_time": "2023-02-18T15:16:39.288590",
     "status": "completed"
    },
    "tags": []
   },
   "outputs": [],
   "source": [
    "monster_df.drop(columns=['Card type', 'Link', 'Link Arrows']).groupby('Pendulum Scale').nunique().sort_index(key=lambda x: pd.to_numeric(x, errors = 'coerce'))"
   ]
  },
  {
   "cell_type": "code",
   "execution_count": null,
   "id": "331eba0b",
   "metadata": {
    "papermill": {
     "duration": 0.405647,
     "end_time": "2023-02-18T15:16:39.943135",
     "exception": false,
     "start_time": "2023-02-18T15:16:39.537488",
     "status": "completed"
    },
    "tags": []
   },
   "outputs": [],
   "source": [
    "scales_colors = colors_dict['Pendulum Monster']\n",
    "monster_df['Pendulum Scale'].value_counts().sort_index(key=lambda x: pd.to_numeric(x, errors = 'coerce')).plot.bar(figsize = (18,6), grid = True, rot=0, color = scales_colors, title = 'Pendulum scale')\n",
    "plt.show()"
   ]
  },
  {
   "cell_type": "markdown",
   "id": "c4cee785",
   "metadata": {
    "papermill": {
     "duration": 0.078115,
     "end_time": "2023-02-18T15:16:40.104852",
     "exception": false,
     "start_time": "2023-02-18T15:16:40.026737",
     "status": "completed"
    },
    "tags": []
   },
   "source": [
    "#### ATK statistics"
   ]
  },
  {
   "cell_type": "code",
   "execution_count": null,
   "id": "75427d69",
   "metadata": {
    "papermill": {
     "duration": 0.172289,
     "end_time": "2023-02-18T15:16:40.356731",
     "exception": false,
     "start_time": "2023-02-18T15:16:40.184442",
     "status": "completed"
    },
    "tags": []
   },
   "outputs": [],
   "source": [
    "monster_df[['Pendulum Scale','ATK']].apply(pd.to_numeric, errors = 'coerce').dropna().astype(int).groupby('Pendulum Scale').describe()"
   ]
  },
  {
   "cell_type": "markdown",
   "id": "3ee4da76",
   "metadata": {
    "papermill": {
     "duration": 0.077532,
     "end_time": "2023-02-18T15:16:40.511897",
     "exception": false,
     "start_time": "2023-02-18T15:16:40.434365",
     "status": "completed"
    },
    "tags": []
   },
   "source": [
    "#### DEF statistics"
   ]
  },
  {
   "cell_type": "code",
   "execution_count": null,
   "id": "c474abd4",
   "metadata": {
    "papermill": {
     "duration": 0.172874,
     "end_time": "2023-02-18T15:16:40.762600",
     "exception": false,
     "start_time": "2023-02-18T15:16:40.589726",
     "status": "completed"
    },
    "tags": []
   },
   "outputs": [],
   "source": [
    "monster_df[['Pendulum Scale','DEF']].apply(pd.to_numeric, errors = 'coerce').dropna().astype(int).groupby('Pendulum Scale').describe()"
   ]
  },
  {
   "cell_type": "markdown",
   "id": "87d81ad5",
   "metadata": {
    "papermill": {
     "duration": 0.077723,
     "end_time": "2023-02-18T15:16:40.918912",
     "exception": false,
     "start_time": "2023-02-18T15:16:40.841189",
     "status": "completed"
    },
    "tags": []
   },
   "source": [
    "#### Level/Rank statistics"
   ]
  },
  {
   "cell_type": "code",
   "execution_count": null,
   "id": "027c9b3e",
   "metadata": {
    "papermill": {
     "duration": 0.16552,
     "end_time": "2023-02-18T15:16:41.162198",
     "exception": false,
     "start_time": "2023-02-18T15:16:40.996678",
     "status": "completed"
    },
    "tags": []
   },
   "outputs": [],
   "source": [
    "monster_df[['Pendulum Scale','Level/Rank']].apply(pd.to_numeric, errors = 'coerce').dropna().astype(int).groupby('Pendulum Scale').describe()"
   ]
  },
  {
   "cell_type": "markdown",
   "id": "93f3aba0",
   "metadata": {
    "papermill": {
     "duration": 0.112815,
     "end_time": "2023-02-18T15:16:41.408697",
     "exception": false,
     "start_time": "2023-02-18T15:16:41.295882",
     "status": "completed"
    },
    "tags": []
   },
   "source": [
    "### Link"
   ]
  },
  {
   "cell_type": "code",
   "execution_count": null,
   "id": "3ba56226",
   "metadata": {
    "papermill": {
     "duration": 0.154403,
     "end_time": "2023-02-18T15:16:41.653555",
     "exception": false,
     "start_time": "2023-02-18T15:16:41.499152",
     "status": "completed"
    },
    "tags": []
   },
   "outputs": [],
   "source": [
    "monster_df.drop(columns=['Card type', 'Primary type', 'Secondary type','Level/Rank','DEF','Pendulum Scale']).groupby('Link').nunique().sort_index(key=lambda x: pd.to_numeric(x, errors = 'coerce'))"
   ]
  },
  {
   "cell_type": "code",
   "execution_count": null,
   "id": "3afbb00a",
   "metadata": {
    "papermill": {
     "duration": 0.354696,
     "end_time": "2023-02-18T15:16:42.092308",
     "exception": false,
     "start_time": "2023-02-18T15:16:41.737612",
     "status": "completed"
    },
    "tags": []
   },
   "outputs": [],
   "source": [
    "link_colors = colors_dict['Link Monster']\n",
    "monster_df['Link'].value_counts().sort_index(key=lambda x: pd.to_numeric(x, errors = 'coerce')).plot.bar(figsize = (18,6), grid = True, rot=0, color = link_colors, title='Link')\n",
    "plt.show()"
   ]
  },
  {
   "cell_type": "markdown",
   "id": "5f20abde",
   "metadata": {
    "papermill": {
     "duration": 0.0797,
     "end_time": "2023-02-18T15:16:42.253508",
     "exception": false,
     "start_time": "2023-02-18T15:16:42.173808",
     "status": "completed"
    },
    "tags": []
   },
   "source": [
    "#### ATK statistics"
   ]
  },
  {
   "cell_type": "code",
   "execution_count": null,
   "id": "c80d9372",
   "metadata": {
    "papermill": {
     "duration": 0.145116,
     "end_time": "2023-02-18T15:16:42.480054",
     "exception": false,
     "start_time": "2023-02-18T15:16:42.334938",
     "status": "completed"
    },
    "tags": []
   },
   "outputs": [],
   "source": [
    "monster_df[['Link','ATK']].apply(pd.to_numeric, errors = 'coerce').dropna().astype(int).groupby('Link').describe()"
   ]
  },
  {
   "cell_type": "markdown",
   "id": "f585a876",
   "metadata": {
    "papermill": {
     "duration": 0.081308,
     "end_time": "2023-02-18T15:16:42.640899",
     "exception": false,
     "start_time": "2023-02-18T15:16:42.559591",
     "status": "completed"
    },
    "tags": []
   },
   "source": [
    "### Link Arrows"
   ]
  },
  {
   "cell_type": "markdown",
   "id": "b1373514",
   "metadata": {
    "papermill": {
     "duration": 0.080229,
     "end_time": "2023-02-18T15:16:42.801700",
     "exception": false,
     "start_time": "2023-02-18T15:16:42.721471",
     "status": "completed"
    },
    "tags": []
   },
   "source": [
    "#### By combination"
   ]
  },
  {
   "cell_type": "code",
   "execution_count": null,
   "id": "1130304f",
   "metadata": {
    "papermill": {
     "duration": 0.092814,
     "end_time": "2023-02-18T15:16:42.974517",
     "exception": false,
     "start_time": "2023-02-18T15:16:42.881703",
     "status": "completed"
    },
    "tags": []
   },
   "outputs": [],
   "source": [
    "print('Total number of link arrow combinations:', monster_df['Link Arrows'].nunique())"
   ]
  },
  {
   "cell_type": "code",
   "execution_count": null,
   "id": "7acfc7a1",
   "metadata": {
    "papermill": {
     "duration": 0.17536,
     "end_time": "2023-02-18T15:16:43.232294",
     "exception": false,
     "start_time": "2023-02-18T15:16:43.056934",
     "status": "completed"
    },
    "tags": []
   },
   "outputs": [],
   "source": [
    "monster_df.drop(columns=['Card type', 'Primary type', 'Level/Rank', 'Pendulum Scale', 'Link', 'Secondary type', 'DEF']).groupby('Link Arrows').nunique()"
   ]
  },
  {
   "cell_type": "code",
   "execution_count": null,
   "id": "66c65c93",
   "metadata": {
    "papermill": {
     "duration": 1.062046,
     "end_time": "2023-02-18T15:16:44.381806",
     "exception": false,
     "start_time": "2023-02-18T15:16:43.319760",
     "status": "completed"
    },
    "tags": []
   },
   "outputs": [],
   "source": [
    "arrows_colors = colors_dict['Link Monster']\n",
    "monster_df['Link Arrows'].value_counts().plot.barh(figsize = (10,20), grid = True, color = arrows_colors, title = 'Link arrows combinations')\n",
    "plt.show()"
   ]
  },
  {
   "cell_type": "markdown",
   "id": "aa520eaf",
   "metadata": {
    "papermill": {
     "duration": 0.08333,
     "end_time": "2023-02-18T15:16:44.548753",
     "exception": false,
     "start_time": "2023-02-18T15:16:44.465423",
     "status": "completed"
    },
    "tags": []
   },
   "source": [
    "#### By unique"
   ]
  },
  {
   "cell_type": "code",
   "execution_count": null,
   "id": "85cda4e5",
   "metadata": {
    "papermill": {
     "duration": 0.131915,
     "end_time": "2023-02-18T15:16:44.764670",
     "exception": false,
     "start_time": "2023-02-18T15:16:44.632755",
     "status": "completed"
    },
    "tags": []
   },
   "outputs": [],
   "source": [
    "monster_df[monster_df['Link Arrows'].notna()].drop(columns=['Card type', 'Primary type', 'Level/Rank', 'Pendulum Scale', 'Secondary type', 'DEF']).explode('Link Arrows').groupby('Link Arrows').nunique()"
   ]
  },
  {
   "cell_type": "code",
   "execution_count": null,
   "id": "c3161d6e",
   "metadata": {
    "papermill": {
     "duration": 0.379179,
     "end_time": "2023-02-18T15:16:45.226352",
     "exception": false,
     "start_time": "2023-02-18T15:16:44.847173",
     "status": "completed"
    },
    "tags": []
   },
   "outputs": [],
   "source": [
    "arrows_colors_b = colors_dict['Link Monster']\n",
    "monster_df['Link Arrows'].explode('Link Arrows').value_counts().plot.bar(figsize = (18,6), grid = True, color = arrows_colors_b, title = 'Link arrows')\n",
    "plt.show()"
   ]
  },
  {
   "cell_type": "markdown",
   "id": "e36f6792",
   "metadata": {
    "papermill": {
     "duration": 0.099123,
     "end_time": "2023-02-18T15:16:45.408583",
     "exception": false,
     "start_time": "2023-02-18T15:16:45.309460",
     "status": "completed"
    },
    "tags": []
   },
   "source": [
    "#### By link"
   ]
  },
  {
   "cell_type": "code",
   "execution_count": null,
   "id": "8a6b3372",
   "metadata": {
    "papermill": {
     "duration": 0.134813,
     "end_time": "2023-02-18T15:16:45.627596",
     "exception": false,
     "start_time": "2023-02-18T15:16:45.492783",
     "status": "completed"
    },
    "tags": []
   },
   "outputs": [],
   "source": [
    "arrow_per_link = monster_df[['Link Arrows','Link']].explode('Link Arrows').dropna()\n",
    "arrow_crosstab = pd.crosstab(arrow_per_link['Link Arrows'],arrow_per_link['Link'])\n",
    "arrow_crosstab"
   ]
  },
  {
   "cell_type": "code",
   "execution_count": null,
   "id": "a22dab12",
   "metadata": {
    "papermill": {
     "duration": 0.672069,
     "end_time": "2023-02-18T15:16:46.387446",
     "exception": false,
     "start_time": "2023-02-18T15:16:45.715377",
     "status": "completed"
    },
    "tags": []
   },
   "outputs": [],
   "source": [
    "plt.figure(figsize = (10,6))\n",
    "sns.heatmap(arrow_crosstab[arrow_crosstab>0].T, annot=True, fmt=\"g\", cmap='viridis', square=True, norm=mc.LogNorm())\n",
    "plt.show()"
   ]
  },
  {
   "cell_type": "markdown",
   "id": "bb0bbf58",
   "metadata": {
    "papermill": {
     "duration": 0.091385,
     "end_time": "2023-02-18T15:16:46.563488",
     "exception": false,
     "start_time": "2023-02-18T15:16:46.472103",
     "status": "completed"
    },
    "tags": []
   },
   "source": [
    "## Spell & Trap"
   ]
  },
  {
   "cell_type": "markdown",
   "id": "f47b1472",
   "metadata": {
    "papermill": {
     "duration": 0.088336,
     "end_time": "2023-02-18T15:16:46.739144",
     "exception": false,
     "start_time": "2023-02-18T15:16:46.650808",
     "status": "completed"
    },
    "tags": []
   },
   "source": [
    "### Properties"
   ]
  },
  {
   "cell_type": "code",
   "execution_count": null,
   "id": "fdd7cb44",
   "metadata": {
    "papermill": {
     "duration": 0.113223,
     "end_time": "2023-02-18T15:16:46.938262",
     "exception": false,
     "start_time": "2023-02-18T15:16:46.825039",
     "status": "completed"
    },
    "tags": []
   },
   "outputs": [],
   "source": [
    "print('Total number of properties:', st_df['Property'].nunique())"
   ]
  },
  {
   "cell_type": "code",
   "execution_count": null,
   "id": "52c0aa20",
   "metadata": {
    "papermill": {
     "duration": 0.13999,
     "end_time": "2023-02-18T15:16:47.162818",
     "exception": false,
     "start_time": "2023-02-18T15:16:47.022828",
     "status": "completed"
    },
    "tags": []
   },
   "outputs": [],
   "source": [
    "st_df.drop(columns=['Card type']).groupby('Property').nunique()"
   ]
  },
  {
   "cell_type": "code",
   "execution_count": null,
   "id": "cd537db7",
   "metadata": {
    "papermill": {
     "duration": 0.420168,
     "end_time": "2023-02-18T15:16:47.669513",
     "exception": false,
     "start_time": "2023-02-18T15:16:47.249345",
     "status": "completed"
    },
    "tags": []
   },
   "outputs": [],
   "source": [
    "st_colors = [colors_dict[i] for i in cards_df[['Card type','Property']].value_counts().index.get_level_values(0)]\n",
    "st_df['Property'].value_counts().plot.bar(figsize = (18,6), grid = True, rot=45, color = st_colors, title = 'Property')\n",
    "plt.show()"
   ]
  },
  {
   "cell_type": "markdown",
   "id": "eab733b7",
   "metadata": {
    "papermill": {
     "duration": 0.259307,
     "end_time": "2023-02-18T15:16:48.018994",
     "exception": false,
     "start_time": "2023-02-18T15:16:47.759687",
     "status": "completed"
    },
    "tags": []
   },
   "source": [
    "### Effect type"
   ]
  },
  {
   "cell_type": "code",
   "execution_count": null,
   "id": "f955ec1d",
   "metadata": {
    "papermill": {
     "duration": 0.121163,
     "end_time": "2023-02-18T15:16:48.229011",
     "exception": false,
     "start_time": "2023-02-18T15:16:48.107848",
     "status": "completed"
    },
    "tags": []
   },
   "outputs": [],
   "source": [
    "print('Total number of effect types:', st_df['Effect type'].explode().nunique())"
   ]
  },
  {
   "cell_type": "code",
   "execution_count": null,
   "id": "9e0f62a2",
   "metadata": {
    "papermill": {
     "duration": 0.190237,
     "end_time": "2023-02-18T15:16:48.505831",
     "exception": false,
     "start_time": "2023-02-18T15:16:48.315594",
     "status": "completed"
    },
    "tags": []
   },
   "outputs": [],
   "source": [
    "st_df.explode('Effect type').groupby('Effect type').nunique()"
   ]
  },
  {
   "cell_type": "markdown",
   "id": "64868037",
   "metadata": {
    "papermill": {
     "duration": 0.088345,
     "end_time": "2023-02-18T15:16:48.685393",
     "exception": false,
     "start_time": "2023-02-18T15:16:48.597048",
     "status": "completed"
    },
    "tags": []
   },
   "source": [
    "#### Spell & Trap discrimination"
   ]
  },
  {
   "cell_type": "code",
   "execution_count": null,
   "id": "75843f9d",
   "metadata": {
    "papermill": {
     "duration": 0.118583,
     "end_time": "2023-02-18T15:16:48.894606",
     "exception": false,
     "start_time": "2023-02-18T15:16:48.776023",
     "status": "completed"
    },
    "tags": []
   },
   "outputs": [],
   "source": [
    "spell = spell_df['Effect type'].explode('Effect type').value_counts().rename('Spell Card')\n",
    "trap = trap_df['Effect type'].explode('Effect type').value_counts().rename('Trap Card')\n",
    "st_diff = pd.concat([spell, trap], axis = 1).fillna(0).astype(int)\n",
    "st_diff"
   ]
  },
  {
   "cell_type": "code",
   "execution_count": null,
   "id": "373757a0",
   "metadata": {
    "papermill": {
     "duration": 0.708635,
     "end_time": "2023-02-18T15:16:49.692457",
     "exception": false,
     "start_time": "2023-02-18T15:16:48.983822",
     "status": "completed"
    },
    "tags": []
   },
   "outputs": [],
   "source": [
    "st_diff_colors = {'Spell Card': colors_dict['Spell Card'], 'Trap Card': colors_dict['Trap Card']}\n",
    "st_diff.plot.bar(figsize = (18,6), stacked = True, grid = True, rot=45, color = st_diff_colors, title = 'Effect type')\n",
    "plt.show()"
   ]
  },
  {
   "cell_type": "markdown",
   "id": "0013b7c7",
   "metadata": {
    "papermill": {
     "duration": 0.091444,
     "end_time": "2023-02-18T15:16:49.878209",
     "exception": false,
     "start_time": "2023-02-18T15:16:49.786765",
     "status": "completed"
    },
    "tags": []
   },
   "source": [
    "## Archseries"
   ]
  },
  {
   "cell_type": "code",
   "execution_count": null,
   "id": "ce1470dc",
   "metadata": {
    "papermill": {
     "duration": 0.211705,
     "end_time": "2023-02-18T15:16:50.183427",
     "exception": false,
     "start_time": "2023-02-18T15:16:49.971722",
     "status": "completed"
    },
    "tags": []
   },
   "outputs": [],
   "source": [
    "exploded_archseries = cards_df.explode('Archseries')\n",
    "print('Total number of Archseries:', exploded_archseries['Archseries'].nunique())"
   ]
  },
  {
   "cell_type": "code",
   "execution_count": null,
   "id": "f31c5b8c",
   "metadata": {
    "papermill": {
     "duration": 0.272338,
     "end_time": "2023-02-18T15:16:50.548747",
     "exception": false,
     "start_time": "2023-02-18T15:16:50.276409",
     "status": "completed"
    },
    "tags": []
   },
   "outputs": [],
   "source": [
    "exploded_archseries.groupby('Archseries').nunique()"
   ]
  },
  {
   "cell_type": "code",
   "execution_count": null,
   "id": "00c9f321",
   "metadata": {
    "papermill": {
     "duration": 10.244284,
     "end_time": "2023-02-18T15:17:00.883102",
     "exception": false,
     "start_time": "2023-02-18T15:16:50.638818",
     "status": "completed"
    },
    "tags": []
   },
   "outputs": [],
   "source": [
    "exploded_archseries['Archseries'].value_counts().plot.barh(figsize = (10,200), grid = True, title = 'Archtypes/Series')\n",
    "plt.show()"
   ]
  },
  {
   "cell_type": "markdown",
   "id": "cf3bf55f",
   "metadata": {
    "papermill": {
     "duration": 0.1248,
     "end_time": "2023-02-18T15:17:01.134691",
     "exception": false,
     "start_time": "2023-02-18T15:17:01.009891",
     "status": "completed"
    },
    "tags": []
   },
   "source": [
    "### By card type"
   ]
  },
  {
   "cell_type": "code",
   "execution_count": null,
   "id": "fbf65c3c",
   "metadata": {
    "papermill": {
     "duration": 0.407272,
     "end_time": "2023-02-18T15:17:01.693613",
     "exception": false,
     "start_time": "2023-02-18T15:17:01.286341",
     "status": "completed"
    },
    "tags": []
   },
   "outputs": [],
   "source": [
    "archseries_crosstab = pd.crosstab(exploded_archseries['Archseries'],exploded_archseries['Card type'], margins = True)\n",
    "archseries_crosstab"
   ]
  },
  {
   "cell_type": "markdown",
   "id": "960ea110",
   "metadata": {
    "papermill": {
     "duration": 0.160359,
     "end_time": "2023-02-18T15:17:02.112975",
     "exception": false,
     "start_time": "2023-02-18T15:17:01.952616",
     "status": "completed"
    },
    "tags": []
   },
   "source": [
    "### By primary type"
   ]
  },
  {
   "cell_type": "code",
   "execution_count": null,
   "id": "2c3671f0",
   "metadata": {
    "papermill": {
     "duration": 0.289106,
     "end_time": "2023-02-18T15:17:02.534510",
     "exception": false,
     "start_time": "2023-02-18T15:17:02.245404",
     "status": "completed"
    },
    "tags": []
   },
   "outputs": [],
   "source": [
    "archseries_crosstab_b = pd.crosstab(exploded_archseries['Archseries'],exploded_archseries['Primary type'], margins = True)\n",
    "archseries_crosstab_b"
   ]
  },
  {
   "cell_type": "markdown",
   "id": "6de5fdac",
   "metadata": {
    "papermill": {
     "duration": 0.125088,
     "end_time": "2023-02-18T15:17:02.787607",
     "exception": false,
     "start_time": "2023-02-18T15:17:02.662519",
     "status": "completed"
    },
    "tags": []
   },
   "source": [
    "\n",
    "\n",
    "### By secondary type"
   ]
  },
  {
   "cell_type": "code",
   "execution_count": null,
   "id": "966a00dd",
   "metadata": {
    "papermill": {
     "duration": 0.243774,
     "end_time": "2023-02-18T15:17:03.162525",
     "exception": false,
     "start_time": "2023-02-18T15:17:02.918751",
     "status": "completed"
    },
    "tags": []
   },
   "outputs": [],
   "source": [
    "exploded_archseries_secondary_type = exploded_archseries[['Archseries', 'Secondary type']].explode('Secondary type')\n",
    "archseries_crosstab_c = pd.crosstab(exploded_archseries_secondary_type['Archseries'],exploded_archseries_secondary_type['Secondary type'], margins = True)\n",
    "archseries_crosstab_c"
   ]
  },
  {
   "cell_type": "markdown",
   "id": "a881d945",
   "metadata": {
    "papermill": {
     "duration": 0.126187,
     "end_time": "2023-02-18T15:17:03.416948",
     "exception": false,
     "start_time": "2023-02-18T15:17:03.290761",
     "status": "completed"
    },
    "tags": []
   },
   "source": [
    "### By monster type"
   ]
  },
  {
   "cell_type": "code",
   "execution_count": null,
   "id": "d99ee9e1",
   "metadata": {
    "papermill": {
     "duration": 0.334301,
     "end_time": "2023-02-18T15:17:03.880611",
     "exception": false,
     "start_time": "2023-02-18T15:17:03.546310",
     "status": "completed"
    },
    "tags": []
   },
   "outputs": [],
   "source": [
    "archseries_crosstab_d = pd.crosstab(exploded_archseries['Archseries'],exploded_archseries['Monster type'], margins = True)\n",
    "archseries_crosstab_d"
   ]
  },
  {
   "cell_type": "markdown",
   "id": "f97ab388",
   "metadata": {
    "papermill": {
     "duration": 0.128524,
     "end_time": "2023-02-18T15:17:04.135470",
     "exception": false,
     "start_time": "2023-02-18T15:17:04.006946",
     "status": "completed"
    },
    "tags": []
   },
   "source": [
    "### By property"
   ]
  },
  {
   "cell_type": "code",
   "execution_count": null,
   "id": "fbbb1ccc",
   "metadata": {
    "papermill": {
     "duration": 0.271134,
     "end_time": "2023-02-18T15:17:04.534195",
     "exception": false,
     "start_time": "2023-02-18T15:17:04.263061",
     "status": "completed"
    },
    "tags": []
   },
   "outputs": [],
   "source": [
    "archseries_crosstab_e = pd.crosstab(exploded_archseries['Archseries'],exploded_archseries['Property'], margins = True)\n",
    "archseries_crosstab_e"
   ]
  },
  {
   "cell_type": "markdown",
   "id": "554f6e74",
   "metadata": {
    "papermill": {
     "duration": 0.127709,
     "end_time": "2023-02-18T15:17:04.794693",
     "exception": false,
     "start_time": "2023-02-18T15:17:04.666984",
     "status": "completed"
    },
    "tags": []
   },
   "source": [
    "## Artworks"
   ]
  },
  {
   "cell_type": "code",
   "execution_count": null,
   "id": "2224e061",
   "metadata": {
    "papermill": {
     "duration": 0.143095,
     "end_time": "2023-02-18T15:17:05.068619",
     "exception": false,
     "start_time": "2023-02-18T15:17:04.925524",
     "status": "completed"
    },
    "tags": []
   },
   "outputs": [],
   "source": [
    "print('Total number of cards with edited or alternate artworks:', cards_df['Artwork'].count())"
   ]
  },
  {
   "cell_type": "code",
   "execution_count": null,
   "id": "f7492a67",
   "metadata": {
    "papermill": {
     "duration": 0.165381,
     "end_time": "2023-02-18T15:17:05.362684",
     "exception": false,
     "start_time": "2023-02-18T15:17:05.197303",
     "status": "completed"
    },
    "tags": []
   },
   "outputs": [],
   "source": [
    "cards_df[['Name','Password','TCG status','OCG status','Artwork']][cards_df['Artwork'].notna()]"
   ]
  },
  {
   "cell_type": "code",
   "execution_count": null,
   "id": "fa1ea6aa",
   "metadata": {
    "papermill": {
     "duration": 0.287416,
     "end_time": "2023-02-18T15:17:05.780425",
     "exception": false,
     "start_time": "2023-02-18T15:17:05.493009",
     "status": "completed"
    },
    "tags": []
   },
   "outputs": [],
   "source": [
    "artwork_value_counts = cards_df['Artwork'].value_counts()\n",
    "plt.figure(figsize=(20,8))\n",
    "plt.title('Artworks')\n",
    "venn2(subsets = (artwork_value_counts[('Alternate',)], artwork_value_counts[('Edited',)],artwork_value_counts[('Alternate','Edited')]), set_labels = ('Alternate artwork', 'Edited artwork'))\n",
    "plt.show()"
   ]
  },
  {
   "cell_type": "markdown",
   "id": "e49df5df",
   "metadata": {
    "papermill": {
     "duration": 0.128575,
     "end_time": "2023-02-18T15:17:06.043390",
     "exception": false,
     "start_time": "2023-02-18T15:17:05.914815",
     "status": "completed"
    },
    "tags": []
   },
   "source": [
    "### By card type"
   ]
  },
  {
   "cell_type": "code",
   "execution_count": null,
   "id": "1b14c224",
   "metadata": {
    "papermill": {
     "duration": 0.172239,
     "end_time": "2023-02-18T15:17:06.347663",
     "exception": false,
     "start_time": "2023-02-18T15:17:06.175424",
     "status": "completed"
    },
    "tags": []
   },
   "outputs": [],
   "source": [
    "artwork_crosstab = pd.crosstab(cards_df['Artwork'], cards_df['Card type'])\n",
    "artwork_crosstab"
   ]
  },
  {
   "cell_type": "markdown",
   "id": "81afa2df",
   "metadata": {
    "papermill": {
     "duration": 0.129164,
     "end_time": "2023-02-18T15:17:06.607117",
     "exception": false,
     "start_time": "2023-02-18T15:17:06.477953",
     "status": "completed"
    },
    "tags": []
   },
   "source": [
    "### By primary type"
   ]
  },
  {
   "cell_type": "code",
   "execution_count": null,
   "id": "55081aa0",
   "metadata": {
    "papermill": {
     "duration": 0.165098,
     "end_time": "2023-02-18T15:17:06.900601",
     "exception": false,
     "start_time": "2023-02-18T15:17:06.735503",
     "status": "completed"
    },
    "tags": []
   },
   "outputs": [],
   "source": [
    "artwork_crosstab_b = pd.crosstab(cards_df['Artwork'], cards_df['Primary type'])\n",
    "artwork_crosstab_b"
   ]
  },
  {
   "cell_type": "markdown",
   "id": "14a90117",
   "metadata": {
    "papermill": {
     "duration": 0.129779,
     "end_time": "2023-02-18T15:17:07.159161",
     "exception": false,
     "start_time": "2023-02-18T15:17:07.029382",
     "status": "completed"
    },
    "tags": []
   },
   "source": [
    "More granularity is unnecessary"
   ]
  },
  {
   "cell_type": "markdown",
   "id": "5210d61b",
   "metadata": {
    "papermill": {
     "duration": 0.128713,
     "end_time": "2023-02-18T15:17:07.418173",
     "exception": false,
     "start_time": "2023-02-18T15:17:07.289460",
     "status": "completed"
    },
    "tags": []
   },
   "source": [
    "## Errata"
   ]
  },
  {
   "cell_type": "code",
   "execution_count": null,
   "id": "09b33100",
   "metadata": {
    "papermill": {
     "duration": 0.143608,
     "end_time": "2023-02-18T15:17:07.691687",
     "exception": false,
     "start_time": "2023-02-18T15:17:07.548079",
     "status": "completed"
    },
    "tags": []
   },
   "outputs": [],
   "source": [
    "print('Total number of cards with name or type errata:', cards_df['Errata'].count())"
   ]
  },
  {
   "cell_type": "code",
   "execution_count": null,
   "id": "40462eee",
   "metadata": {
    "papermill": {
     "duration": 0.164741,
     "end_time": "2023-02-18T15:17:07.988648",
     "exception": false,
     "start_time": "2023-02-18T15:17:07.823907",
     "status": "completed"
    },
    "tags": []
   },
   "outputs": [],
   "source": [
    "cards_df[['Name','Password','TCG status','OCG status','Errata']][cards_df['Errata'].notna()]"
   ]
  },
  {
   "cell_type": "code",
   "execution_count": null,
   "id": "60843a4f",
   "metadata": {
    "papermill": {
     "duration": 0.537901,
     "end_time": "2023-02-18T15:17:08.655951",
     "exception": false,
     "start_time": "2023-02-18T15:17:08.118050",
     "status": "completed"
    },
    "tags": []
   },
   "outputs": [],
   "source": [
    "errata_value_counts = cards_df['Errata'].value_counts()\n",
    "plt.figure(figsize=(20,8))\n",
    "plt.title('Errata')\n",
    "venn2(subsets = (errata_value_counts[('Name',)], errata_value_counts[('Type',)],errata_value_counts[('Name','Type')]), set_labels = ('Name Errata', 'Type errata'))\n",
    "plt.show()"
   ]
  },
  {
   "cell_type": "markdown",
   "id": "a3703983",
   "metadata": {
    "papermill": {
     "duration": 0.128718,
     "end_time": "2023-02-18T15:17:08.915040",
     "exception": false,
     "start_time": "2023-02-18T15:17:08.786322",
     "status": "completed"
    },
    "tags": []
   },
   "source": [
    "### By card type"
   ]
  },
  {
   "cell_type": "code",
   "execution_count": null,
   "id": "fb103c29",
   "metadata": {
    "papermill": {
     "duration": 0.433733,
     "end_time": "2023-02-18T15:17:09.479843",
     "exception": false,
     "start_time": "2023-02-18T15:17:09.046110",
     "status": "completed"
    },
    "tags": []
   },
   "outputs": [],
   "source": [
    "errata_crosstab = pd.crosstab(cards_df['Errata'], cards_df['Card type'])\n",
    "errata_crosstab"
   ]
  },
  {
   "cell_type": "markdown",
   "id": "36d241f1",
   "metadata": {
    "papermill": {
     "duration": 0.12915,
     "end_time": "2023-02-18T15:17:09.739499",
     "exception": false,
     "start_time": "2023-02-18T15:17:09.610349",
     "status": "completed"
    },
    "tags": []
   },
   "source": [
    "### By primary type"
   ]
  },
  {
   "cell_type": "code",
   "execution_count": null,
   "id": "5b90628d",
   "metadata": {
    "papermill": {
     "duration": 0.17035,
     "end_time": "2023-02-18T15:17:10.043467",
     "exception": false,
     "start_time": "2023-02-18T15:17:09.873117",
     "status": "completed"
    },
    "tags": []
   },
   "outputs": [],
   "source": [
    "errata_crosstab_b = pd.crosstab(cards_df['Errata'], cards_df['Primary type'])\n",
    "errata_crosstab_b"
   ]
  },
  {
   "cell_type": "markdown",
   "id": "0029e1ca",
   "metadata": {
    "papermill": {
     "duration": 0.131729,
     "end_time": "2023-02-18T15:17:10.306036",
     "exception": false,
     "start_time": "2023-02-18T15:17:10.174307",
     "status": "completed"
    },
    "tags": []
   },
   "source": [
    "More granularity is unnecessary"
   ]
  },
  {
   "cell_type": "markdown",
   "id": "35d88dda",
   "metadata": {
    "papermill": {
     "duration": 0.130191,
     "end_time": "2023-02-18T15:17:10.566894",
     "exception": false,
     "start_time": "2023-02-18T15:17:10.436703",
     "status": "completed"
    },
    "tags": []
   },
   "source": [
    "### By artwork"
   ]
  },
  {
   "cell_type": "code",
   "execution_count": null,
   "id": "0057def3",
   "metadata": {
    "papermill": {
     "duration": 0.162886,
     "end_time": "2023-02-18T15:17:10.860761",
     "exception": false,
     "start_time": "2023-02-18T15:17:10.697875",
     "status": "completed"
    },
    "tags": []
   },
   "outputs": [],
   "source": [
    "errata_crosstab_c = pd.crosstab(cards_df['Artwork'], cards_df['Errata'])\n",
    "errata_crosstab_c"
   ]
  },
  {
   "cell_type": "markdown",
   "id": "edef3194",
   "metadata": {
    "papermill": {
     "duration": 0.157249,
     "end_time": "2023-02-18T15:17:11.151261",
     "exception": false,
     "start_time": "2023-02-18T15:17:10.994012",
     "status": "completed"
    },
    "tags": []
   },
   "source": [
    "## TCG & OCG status"
   ]
  },
  {
   "cell_type": "markdown",
   "id": "3e7505cd",
   "metadata": {
    "papermill": {
     "duration": 0.138562,
     "end_time": "2023-02-18T15:17:11.427449",
     "exception": false,
     "start_time": "2023-02-18T15:17:11.288887",
     "status": "completed"
    },
    "tags": []
   },
   "source": [
    "### TGC status"
   ]
  },
  {
   "cell_type": "code",
   "execution_count": null,
   "id": "88b93fca",
   "metadata": {
    "papermill": {
     "duration": 0.148883,
     "end_time": "2023-02-18T15:17:12.019607",
     "exception": false,
     "start_time": "2023-02-18T15:17:11.870724",
     "status": "completed"
    },
    "tags": []
   },
   "outputs": [],
   "source": [
    "print('Total number of TCG status:', cards_df['TCG status'].nunique())"
   ]
  },
  {
   "cell_type": "code",
   "execution_count": null,
   "id": "2c69bec0",
   "metadata": {
    "papermill": {
     "duration": 0.259045,
     "end_time": "2023-02-18T15:17:12.411779",
     "exception": false,
     "start_time": "2023-02-18T15:17:12.152734",
     "status": "completed"
    },
    "tags": []
   },
   "outputs": [],
   "source": [
    "cards_df.groupby('TCG status', dropna=False).nunique()"
   ]
  },
  {
   "cell_type": "code",
   "execution_count": null,
   "id": "add82403",
   "metadata": {
    "papermill": {
     "duration": 0.82108,
     "end_time": "2023-02-18T15:17:13.365761",
     "exception": false,
     "start_time": "2023-02-18T15:17:12.544681",
     "status": "completed"
    },
    "tags": []
   },
   "outputs": [],
   "source": [
    "cards_df['TCG status'].value_counts(dropna = False).plot.bar(figsize = (18,6), logy=True, grid = True, rot=45, title = 'TCG status')\n",
    "plt.show()"
   ]
  },
  {
   "cell_type": "markdown",
   "id": "f6b985a0",
   "metadata": {
    "papermill": {
     "duration": 0.131753,
     "end_time": "2023-02-18T15:17:13.630489",
     "exception": false,
     "start_time": "2023-02-18T15:17:13.498736",
     "status": "completed"
    },
    "tags": []
   },
   "source": [
    "#### By card type"
   ]
  },
  {
   "cell_type": "code",
   "execution_count": null,
   "id": "12c444ed",
   "metadata": {
    "papermill": {
     "duration": 0.175308,
     "end_time": "2023-02-18T15:17:13.938758",
     "exception": false,
     "start_time": "2023-02-18T15:17:13.763450",
     "status": "completed"
    },
    "tags": []
   },
   "outputs": [],
   "source": [
    "# Remove unlimited\n",
    "tcg_crosstab = pd.crosstab(cards_df['Card type'], cards_df['TCG status']).drop(['Unlimited'], axis=1)\n",
    "tcg_crosstab"
   ]
  },
  {
   "cell_type": "code",
   "execution_count": null,
   "id": "8648b51e",
   "metadata": {
    "papermill": {
     "duration": 0.607403,
     "end_time": "2023-02-18T15:17:14.682873",
     "exception": false,
     "start_time": "2023-02-18T15:17:14.075470",
     "status": "completed"
    },
    "tags": []
   },
   "outputs": [],
   "source": [
    "plt.figure(figsize = (12,6))\n",
    "sns.heatmap(tcg_crosstab[tcg_crosstab>0], annot=True, fmt=\"g\", cmap='viridis', norm=mc.LogNorm())\n",
    "plt.show()"
   ]
  },
  {
   "cell_type": "markdown",
   "id": "521f367b",
   "metadata": {
    "papermill": {
     "duration": 0.13359,
     "end_time": "2023-02-18T15:17:14.949835",
     "exception": false,
     "start_time": "2023-02-18T15:17:14.816245",
     "status": "completed"
    },
    "tags": []
   },
   "source": [
    "#### By monster type"
   ]
  },
  {
   "cell_type": "code",
   "execution_count": null,
   "id": "bb73564f",
   "metadata": {
    "papermill": {
     "duration": 0.179935,
     "end_time": "2023-02-18T15:17:15.263427",
     "exception": false,
     "start_time": "2023-02-18T15:17:15.083492",
     "status": "completed"
    },
    "tags": []
   },
   "outputs": [],
   "source": [
    "# Remove unlimited\n",
    "tcg_crosstab_b = pd.crosstab(cards_df['Monster type'], cards_df['TCG status']).drop(['Unlimited'], axis=1)\n",
    "tcg_crosstab_b"
   ]
  },
  {
   "cell_type": "code",
   "execution_count": null,
   "id": "dd5e826c",
   "metadata": {
    "papermill": {
     "duration": 0.763211,
     "end_time": "2023-02-18T15:17:16.162583",
     "exception": false,
     "start_time": "2023-02-18T15:17:15.399372",
     "status": "completed"
    },
    "tags": []
   },
   "outputs": [],
   "source": [
    "plt.figure(figsize = (20,5))\n",
    "sns.heatmap(tcg_crosstab_b[tcg_crosstab_b>0].T, annot=True, fmt=\"g\", cmap='viridis', square = True)\n",
    "plt.show()"
   ]
  },
  {
   "cell_type": "markdown",
   "id": "b0e7d771",
   "metadata": {
    "papermill": {
     "duration": 0.13646,
     "end_time": "2023-02-18T15:17:16.435736",
     "exception": false,
     "start_time": "2023-02-18T15:17:16.299276",
     "status": "completed"
    },
    "tags": []
   },
   "source": [
    "#### By archseries"
   ]
  },
  {
   "cell_type": "code",
   "execution_count": null,
   "id": "05fc1f77",
   "metadata": {
    "papermill": {
     "duration": 0.240417,
     "end_time": "2023-02-18T15:17:16.857796",
     "exception": false,
     "start_time": "2023-02-18T15:17:16.617379",
     "status": "completed"
    },
    "tags": []
   },
   "outputs": [],
   "source": [
    "# Remove unlimited\n",
    "tcg_crosstab_c = pd.crosstab(exploded_archseries['Archseries'].where(exploded_archseries['OCG status']!='Unlimited'), exploded_archseries['TCG status'], margins = True)\n",
    "tcg_crosstab_c"
   ]
  },
  {
   "cell_type": "markdown",
   "id": "af202b20",
   "metadata": {
    "papermill": {
     "duration": 0.146377,
     "end_time": "2023-02-18T15:17:17.139969",
     "exception": false,
     "start_time": "2023-02-18T15:17:16.993592",
     "status": "completed"
    },
    "tags": []
   },
   "source": [
    "### OCG status"
   ]
  },
  {
   "cell_type": "code",
   "execution_count": null,
   "id": "0b01a31b",
   "metadata": {
    "papermill": {
     "duration": 0.262941,
     "end_time": "2023-02-18T15:17:17.541568",
     "exception": false,
     "start_time": "2023-02-18T15:17:17.278627",
     "status": "completed"
    },
    "tags": []
   },
   "outputs": [],
   "source": [
    "print('Total number of OCG status:', cards_df['OCG status'].nunique())"
   ]
  },
  {
   "cell_type": "code",
   "execution_count": null,
   "id": "13b7b5c8",
   "metadata": {
    "papermill": {
     "duration": 0.25862,
     "end_time": "2023-02-18T15:17:17.939867",
     "exception": false,
     "start_time": "2023-02-18T15:17:17.681247",
     "status": "completed"
    },
    "tags": []
   },
   "outputs": [],
   "source": [
    "cards_df.groupby('OCG status', dropna=False).nunique()"
   ]
  },
  {
   "cell_type": "code",
   "execution_count": null,
   "id": "baff20b2",
   "metadata": {
    "papermill": {
     "duration": 0.703278,
     "end_time": "2023-02-18T15:17:18.784612",
     "exception": false,
     "start_time": "2023-02-18T15:17:18.081334",
     "status": "completed"
    },
    "tags": []
   },
   "outputs": [],
   "source": [
    "cards_df['OCG status'].value_counts(dropna = False).plot.bar(figsize = (18,6), logy=True, grid = True, rot=45, title = 'TCG status')\n",
    "plt.show()"
   ]
  },
  {
   "cell_type": "markdown",
   "id": "5c4bf980",
   "metadata": {
    "papermill": {
     "duration": 0.136856,
     "end_time": "2023-02-18T15:17:19.060941",
     "exception": false,
     "start_time": "2023-02-18T15:17:18.924085",
     "status": "completed"
    },
    "tags": []
   },
   "source": [
    "#### By card type"
   ]
  },
  {
   "cell_type": "code",
   "execution_count": null,
   "id": "4863280e",
   "metadata": {
    "papermill": {
     "duration": 0.180671,
     "end_time": "2023-02-18T15:17:19.378895",
     "exception": false,
     "start_time": "2023-02-18T15:17:19.198224",
     "status": "completed"
    },
    "tags": []
   },
   "outputs": [],
   "source": [
    "# Remove unlimited\n",
    "ocg_crosstab = pd.crosstab(cards_df['Card type'], cards_df['OCG status']).drop(['Unlimited'], axis=1)\n",
    "ocg_crosstab"
   ]
  },
  {
   "cell_type": "code",
   "execution_count": null,
   "id": "e8489887",
   "metadata": {
    "papermill": {
     "duration": 0.479548,
     "end_time": "2023-02-18T15:17:19.998569",
     "exception": false,
     "start_time": "2023-02-18T15:17:19.519021",
     "status": "completed"
    },
    "tags": []
   },
   "outputs": [],
   "source": [
    "plt.figure(figsize = (12,6))\n",
    "sns.heatmap(ocg_crosstab[ocg_crosstab>0], annot=True, fmt=\"g\", cmap='viridis')\n",
    "plt.show()"
   ]
  },
  {
   "cell_type": "markdown",
   "id": "32f682d2",
   "metadata": {
    "papermill": {
     "duration": 0.142218,
     "end_time": "2023-02-18T15:17:20.284506",
     "exception": false,
     "start_time": "2023-02-18T15:17:20.142288",
     "status": "completed"
    },
    "tags": []
   },
   "source": [
    "#### By monster type"
   ]
  },
  {
   "cell_type": "code",
   "execution_count": null,
   "id": "3dbadcb8",
   "metadata": {
    "papermill": {
     "duration": 0.187727,
     "end_time": "2023-02-18T15:17:20.611475",
     "exception": false,
     "start_time": "2023-02-18T15:17:20.423748",
     "status": "completed"
    },
    "tags": []
   },
   "outputs": [],
   "source": [
    "ocg_crosstab_b = pd.crosstab(cards_df['Monster type'], cards_df['OCG status']).drop(['Unlimited'], axis=1)\n",
    "ocg_crosstab_b"
   ]
  },
  {
   "cell_type": "code",
   "execution_count": null,
   "id": "4743b0c1",
   "metadata": {
    "papermill": {
     "duration": 1.02958,
     "end_time": "2023-02-18T15:17:21.778681",
     "exception": false,
     "start_time": "2023-02-18T15:17:20.749101",
     "status": "completed"
    },
    "tags": []
   },
   "outputs": [],
   "source": [
    "plt.figure(figsize = (20,5))\n",
    "sns.heatmap(ocg_crosstab_b[ocg_crosstab_b>0].T, annot=True, fmt=\"g\", cmap='viridis', square = True)\n",
    "plt.show()"
   ]
  },
  {
   "cell_type": "markdown",
   "id": "19d9067b",
   "metadata": {
    "papermill": {
     "duration": 0.140682,
     "end_time": "2023-02-18T15:17:22.060555",
     "exception": false,
     "start_time": "2023-02-18T15:17:21.919873",
     "status": "completed"
    },
    "tags": []
   },
   "source": [
    "#### By archseries"
   ]
  },
  {
   "cell_type": "code",
   "execution_count": null,
   "id": "d866a6e2",
   "metadata": {
    "papermill": {
     "duration": 0.247718,
     "end_time": "2023-02-18T15:17:22.471844",
     "exception": false,
     "start_time": "2023-02-18T15:17:22.224126",
     "status": "completed"
    },
    "tags": []
   },
   "outputs": [],
   "source": [
    "# Remove unlimited\n",
    "ocg_crosstab_c = pd.crosstab(exploded_archseries['Archseries'].where(exploded_archseries['OCG status']!='Unlimited'), exploded_archseries['OCG status'], margins = True)\n",
    "ocg_crosstab_c"
   ]
  },
  {
   "cell_type": "markdown",
   "id": "c5b33198",
   "metadata": {
    "papermill": {
     "duration": 0.141564,
     "end_time": "2023-02-18T15:17:22.756560",
     "exception": false,
     "start_time": "2023-02-18T15:17:22.614996",
     "status": "completed"
    },
    "tags": []
   },
   "source": [
    "### TCG vs. OCG status"
   ]
  },
  {
   "cell_type": "code",
   "execution_count": null,
   "id": "14f2101b",
   "metadata": {
    "papermill": {
     "duration": 0.184047,
     "end_time": "2023-02-18T15:17:23.081969",
     "exception": false,
     "start_time": "2023-02-18T15:17:22.897922",
     "status": "completed"
    },
    "tags": []
   },
   "outputs": [],
   "source": [
    "cg_crosstab = pd.crosstab(cards_df['OCG status'],cards_df['TCG status'], dropna=False, margins = False)\n",
    "cg_crosstab"
   ]
  },
  {
   "cell_type": "code",
   "execution_count": null,
   "id": "d10c5c81",
   "metadata": {
    "papermill": {
     "duration": 0.829632,
     "end_time": "2023-02-18T15:17:24.056172",
     "exception": false,
     "start_time": "2023-02-18T15:17:23.226540",
     "status": "completed"
    },
    "tags": []
   },
   "outputs": [],
   "source": [
    "plt.figure(figsize = (10,8))\n",
    "sns.heatmap(cg_crosstab[cg_crosstab>0], annot=True, fmt=\"g\", cmap='viridis', square=True, norm=mc.LogNorm())\n",
    "plt.show()"
   ]
  },
  {
   "cell_type": "markdown",
   "id": "95d94158-0922-4085-b2c7-d7fa24f40038",
   "metadata": {
    "papermill": {
     "duration": 0.145916,
     "end_time": "2023-02-18T15:17:24.349010",
     "exception": false,
     "start_time": "2023-02-18T15:17:24.203094",
     "status": "completed"
    },
    "tags": []
   },
   "source": [
    "# Extras"
   ]
  },
  {
   "cell_type": "markdown",
   "id": "81de3001-152d-4f35-9978-b8f895a91cc1",
   "metadata": {
    "papermill": {
     "duration": 0.142361,
     "end_time": "2023-02-18T15:17:24.633988",
     "exception": false,
     "start_time": "2023-02-18T15:17:24.491627",
     "status": "completed"
    },
    "tags": []
   },
   "source": [
    "## Multiple secondary types"
   ]
  },
  {
   "cell_type": "code",
   "execution_count": null,
   "id": "7efee39e-a0b5-4636-bcd4-cb9c75e11888",
   "metadata": {
    "papermill": {
     "duration": 0.185007,
     "end_time": "2023-02-18T15:17:24.960648",
     "exception": false,
     "start_time": "2023-02-18T15:17:24.775641",
     "status": "completed"
    },
    "tags": []
   },
   "outputs": [],
   "source": [
    "cards_df.dropna(subset='Secondary type', axis=0)[[len(x)>1 for x in cards_df['Secondary type'].dropna()]]"
   ]
  },
  {
   "cell_type": "markdown",
   "id": "a1bdb3eb-7f83-49a8-92a2-a8a05e6253c7",
   "metadata": {
    "papermill": {
     "duration": 0.142865,
     "end_time": "2023-02-18T15:17:25.245662",
     "exception": false,
     "start_time": "2023-02-18T15:17:25.102797",
     "status": "completed"
    },
    "tags": []
   },
   "source": [
    "## Not yet released"
   ]
  },
  {
   "cell_type": "code",
   "execution_count": null,
   "id": "6ca6f265",
   "metadata": {
    "papermill": {
     "duration": 0.17204,
     "end_time": "2023-02-18T15:17:25.560365",
     "exception": false,
     "start_time": "2023-02-18T15:17:25.388325",
     "status": "completed"
    },
    "tags": []
   },
   "outputs": [],
   "source": [
    "cards_df.loc[cards_df['OCG status'] == 'Not yet released'].loc[full_df['TCG status'] == 'Not yet released']"
   ]
  },
  {
   "cell_type": "markdown",
   "id": "b53361a5-0528-4691-a8ca-c015e4802d9c",
   "metadata": {
    "papermill": {
     "duration": 0.147372,
     "end_time": "2023-02-18T15:17:25.853620",
     "exception": false,
     "start_time": "2023-02-18T15:17:25.706248",
     "status": "completed"
    },
    "tags": []
   },
   "source": [
    "## Counters and Tokens"
   ]
  },
  {
   "cell_type": "code",
   "execution_count": null,
   "id": "4022c3ca-bd45-4870-b233-7fdd5b1639a7",
   "metadata": {
    "papermill": {
     "duration": 0.204436,
     "end_time": "2023-02-18T15:17:26.201033",
     "exception": false,
     "start_time": "2023-02-18T15:17:25.996597",
     "status": "completed"
    },
    "tags": []
   },
   "outputs": [],
   "source": [
    "counter_df.dropna(how='all',axis=1)"
   ]
  },
  {
   "cell_type": "markdown",
   "id": "4058f0b9-3031-4daa-8a4a-2dddf8c74c07",
   "metadata": {
    "papermill": {
     "duration": 0.144945,
     "end_time": "2023-02-18T15:17:26.491839",
     "exception": false,
     "start_time": "2023-02-18T15:17:26.346894",
     "status": "completed"
    },
    "tags": []
   },
   "source": [
    "# Epilogue"
   ]
  },
  {
   "cell_type": "code",
   "execution_count": null,
   "id": "871cb3eb-a0fc-42e8-b516-6d524deba2fc",
   "metadata": {
    "papermill": {
     "duration": 0.163238,
     "end_time": "2023-02-18T15:17:26.800463",
     "exception": false,
     "start_time": "2023-02-18T15:17:26.637225",
     "status": "completed"
    },
    "tags": []
   },
   "outputs": [],
   "source": [
    "benchmark('cards',timestamp)"
   ]
  },
  {
   "cell_type": "code",
   "execution_count": null,
   "id": "310f7d3e-ab76-4c5b-bf3d-f6898d559118",
   "metadata": {
    "papermill": {
     "duration": 0.15648,
     "end_time": "2023-02-18T15:17:27.101393",
     "exception": false,
     "start_time": "2023-02-18T15:17:26.944913",
     "status": "completed"
    },
    "tags": []
   },
   "outputs": [],
   "source": [
    "footer(timestamp)"
   ]
  },
  {
   "cell_type": "markdown",
   "id": "fade81da",
   "metadata": {
    "papermill": {
     "duration": 0.146441,
     "end_time": "2023-02-18T15:17:27.396484",
     "exception": false,
     "start_time": "2023-02-18T15:17:27.250043",
     "status": "completed"
    },
    "tags": []
   },
   "source": [
    "## HTML export"
   ]
  },
  {
   "cell_type": "code",
   "execution_count": null,
   "id": "6715b83e-9a4e-423c-81b9-33a81603acd4",
   "metadata": {
    "papermill": {
     "duration": 0.158817,
     "end_time": "2023-02-18T15:17:27.699772",
     "exception": false,
     "start_time": "2023-02-18T15:17:27.540955",
     "status": "completed"
    },
    "tags": []
   },
   "outputs": [],
   "source": [
    "# Save notebook on disck before generating HTML report\n",
    "save_notebook()"
   ]
  },
  {
   "cell_type": "code",
   "execution_count": null,
   "id": "de556e8b",
   "metadata": {
    "papermill": {
     "duration": 3.50798,
     "end_time": "2023-02-18T15:17:31.361223",
     "exception": false,
     "start_time": "2023-02-18T15:17:27.853243",
     "status": "completed"
    },
    "tags": []
   },
   "outputs": [],
   "source": [
    "! jupyter nbconvert Cards.ipynb --output-dir='../' --to=HTML --TagRemovePreprocessor.enabled=True --TagRemovePreprocessor.remove_cell_tags='exclude' --TemplateExporter.exclude_input=True --TemplateExporter.exclude_input_prompt=True --TemplateExporter.exclude_output_prompt=True"
   ]
  },
  {
   "cell_type": "markdown",
   "id": "641a7018-0f50-4ab6-b8f3-119a279cbc65",
   "metadata": {
    "papermill": {
     "duration": 0.143994,
     "end_time": "2023-02-18T15:17:31.664644",
     "exception": false,
     "start_time": "2023-02-18T15:17:31.520650",
     "status": "completed"
    },
    "tags": [
     "exclude"
    ]
   },
   "source": [
    "## Git"
   ]
  },
  {
   "cell_type": "code",
   "execution_count": null,
   "id": "cba1eb00-d9c2-491a-95b3-5ce0a0524d59",
   "metadata": {
    "papermill": {
     "duration": 0.970413,
     "end_time": "2023-02-18T15:17:32.779943",
     "exception": false,
     "start_time": "2023-02-18T15:17:31.809530",
     "status": "completed"
    },
    "tags": [
     "exclude"
    ]
   },
   "outputs": [],
   "source": [
    "! git add \"../*[Cc]ards*\""
   ]
  },
  {
   "cell_type": "code",
   "execution_count": null,
   "id": "6f1f8303-30c6-4aaa-b45e-f6d5f5ece30e",
   "metadata": {
    "papermill": {
     "duration": 0.966462,
     "end_time": "2023-02-18T15:17:33.895516",
     "exception": false,
     "start_time": "2023-02-18T15:17:32.929054",
     "status": "completed"
    },
    "tags": [
     "exclude"
    ]
   },
   "outputs": [],
   "source": [
    "! git commit -m {\"'Cards update-\" + timestamp.isoformat() + \"'\"}"
   ]
  }
 ],
 "metadata": {
  "kernelspec": {
   "display_name": "Python 3 (ipykernel)",
   "language": "python",
   "name": "python3"
  },
  "language_info": {
   "codemirror_mode": {
    "name": "ipython",
    "version": 3
   },
   "file_extension": ".py",
   "mimetype": "text/x-python",
   "name": "python",
   "nbconvert_exporter": "python",
   "pygments_lexer": "ipython3",
   "version": "3.10.8"
  },
  "papermill": {
   "default_parameters": {},
   "duration": 278.52976,
   "end_time": "2023-02-18T15:17:34.970044",
   "environment_variables": {},
   "exception": null,
   "input_path": "Cards.ipynb",
   "output_path": "Cards.ipynb",
   "parameters": {},
   "start_time": "2023-02-18T15:12:56.440284",
   "version": "2.4.0"
  },
  "toc": {
   "base_numbering": 1,
   "nav_menu": {
    "height": "599px",
    "width": "228px"
   },
   "number_sections": true,
   "sideBar": true,
   "skip_h1_title": false,
   "title_cell": "Table of Contents",
   "title_sidebar": "Contents",
   "toc_cell": true,
   "toc_position": {
    "height": "calc(100% - 180px)",
    "left": "10px",
    "top": "150px",
    "width": "353px"
   },
   "toc_section_display": true,
   "toc_window_display": true
  },
  "toc-autonumbering": false,
  "toc-showcode": false,
  "toc-showmarkdowntxt": false
 },
 "nbformat": 4,
 "nbformat_minor": 5
}
