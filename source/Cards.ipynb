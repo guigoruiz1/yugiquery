{
 "cells": [
  {
   "cell_type": "code",
   "execution_count": null,
   "id": "82c61f6c-3c7a-4460-b466-9c521973fa5d",
   "metadata": {
    "papermill": {
     "duration": 2.903372,
     "end_time": "2023-07-14T09:55:09.315536",
     "exception": false,
     "start_time": "2023-07-14T09:55:06.412164",
     "status": "completed"
    },
    "tags": []
   },
   "outputs": [],
   "source": [
    "from yugiquery import *\n",
    "\n",
    "header(\"Cards\")"
   ]
  },
  {
   "cell_type": "markdown",
   "id": "48cd2c04-37eb-408f-86ee-17e204a2cea9",
   "metadata": {
    "papermill": {
     "duration": 0.057915,
     "end_time": "2023-07-14T09:55:09.432248",
     "exception": false,
     "start_time": "2023-07-14T09:55:09.374333",
     "status": "completed"
    },
    "tags": []
   },
   "source": [
    "---"
   ]
  },
  {
   "cell_type": "markdown",
   "id": "6e66c226",
   "metadata": {
    "papermill": {
     "duration": 0.058793,
     "end_time": "2023-07-14T09:55:09.549846",
     "exception": false,
     "start_time": "2023-07-14T09:55:09.491053",
     "status": "completed"
    },
    "tags": [],
    "toc": true
   },
   "source": [
    "Table of Contents\n",
    "=================\n",
    "\n",
    "*   [1  Data aquisition](#Data-aquisition)\n",
    "    *   [1.1  Fetch online data](#Fetch-online-data)\n",
    "    *   [1.2  Merge data](#Merge-data)\n",
    "*   [2  Check changes](#Check-changes)\n",
    "    *   [2.1  Load previous data](#Load-previous-data)\n",
    "    *   [2.2  Generate changelog](#Generate-changelog)\n",
    "    *   [2.3  Save data](#Save-data)\n",
    "*   [3  Data visualization](#Data-visualization)\n",
    "    *   [3.1  Full data](#Full-data)\n",
    "    *   [3.2  Card types](#Card-types)\n",
    "    *   [3.3  Monsters](#Monsters)\n",
    "        *   [3.3.1  Attributes](#Attributes)\n",
    "        *   [3.3.2  Primary types](#Primary-types)\n",
    "            *   [3.3.2.1  Has effect discrimination](#Has-effect-discrimination)\n",
    "            *   [3.3.2.2  Is pendulum discrimination](#Is-pendulum-discrimination)\n",
    "            *   [3.3.2.3  By attribute](#By-attribute)\n",
    "        *   [3.3.3  Secondary types](#Secondary-types)\n",
    "            *   [3.3.3.1  By attribute](#By-attribute)\n",
    "            *   [3.3.3.2  By secondary type](#By-secondary-type)\n",
    "        *   [3.3.4  Monster types](#Monster-types)\n",
    "            *   [3.3.4.1  By Attribute](#By-Attribute)\n",
    "            *   [3.3.4.2  By primary type](#By-primary-type)\n",
    "            *   [3.3.4.3  By secondary type](#By-secondary-type)\n",
    "        *   [3.3.5  Effect type](#Effect-type)\n",
    "        *   [3.3.6  ATK](#ATK)\n",
    "        *   [3.3.7  DEF](#DEF)\n",
    "        *   [3.3.8  Level/Rank](#Level/Rank)\n",
    "            *   [3.3.8.1  ATK statistics](#ATK-statistics)\n",
    "            *   [3.3.8.2  DEF statistics](#DEF-statistics)\n",
    "        *   [3.3.9  Pendulum scale](#Pendulum-scale)\n",
    "            *   [3.3.9.1  ATK statistics](#ATK-statistics)\n",
    "            *   [3.3.9.2  DEF statistics](#DEF-statistics)\n",
    "            *   [3.3.9.3  Level/Rank statistics](#Level/Rank-statistics)\n",
    "        *   [3.3.10  Link](#Link)\n",
    "            *   [3.3.10.1  ATK statistics](#ATK-statistics)\n",
    "        *   [3.3.11  Link Arrows](#Link-Arrows)\n",
    "            *   [3.3.11.1  By combination](#By-combination)\n",
    "            *   [3.3.11.2  By unique](#By-unique)\n",
    "            *   [3.3.11.3  By link](#By-link)\n",
    "    *   [3.4  Spell & Trap](#Spell-&-Trap)\n",
    "        *   [3.4.1  Properties](#Properties)\n",
    "        *   [3.4.2  Effect type](#Effect-type)\n",
    "            *   [3.4.2.1  Spell & Trap discrimination](#Spell-&-Trap-discrimination)\n",
    "    *   [3.5  Archseries](#Archseries)\n",
    "        *   [3.5.1  By card type](#By-card-type)\n",
    "        *   [3.5.2  By primary type](#By-primary-type)\n",
    "        *   [3.5.3  By secondary type](#By-secondary-type)\n",
    "        *   [3.5.4  By monster type](#By-monster-type)\n",
    "        *   [3.5.5  By property](#By-property)\n",
    "    *   [3.6  Artworks](#Artworks)\n",
    "        *   [3.6.1  By card type](#By-card-type)\n",
    "        *   [3.6.2  By primary type](#By-primary-type)\n",
    "    *   [3.7  Errata](#Errata)\n",
    "        *   [3.7.1  By card type](#By-card-type)\n",
    "        *   [3.7.2  By primary type](#By-primary-type)\n",
    "        *   [3.7.3  By artwork](#By-artwork)\n",
    "    *   [3.8  TCG & OCG status](#TCG-&-OCG-status)\n",
    "        *   [3.8.1  TGC status](#TGC-status)\n",
    "            *   [3.8.1.1  By card type](#By-card-type)\n",
    "            *   [3.8.1.2  By monster type](#By-monster-type)\n",
    "            *   [3.8.1.3  By archseries](#By-archseries)\n",
    "        *   [3.8.2  OCG status](#OCG-status)\n",
    "            *   [3.8.2.1  By card type](#By-card-type)\n",
    "            *   [3.8.2.2  By monster type](#By-monster-type)\n",
    "            *   [3.8.2.3  By archseries](#By-archseries)\n",
    "        *   [3.8.3  TCG vs. OCG status](#TCG-vs.-OCG-status)\n",
    "*   [4  Extras](#Extras)\n",
    "    *   [4.1 Multiple secondary types](#Multiple-secondary-types)\n",
    "    *   [4.2 Not yet released](#Not-yet-released)\n",
    "    *   [4.3 Counters and Tokens](#Counters-and-Tokens)\n",
    "*   [5  Epilogue](#Epilogue)\n",
    "    *   [5.1  HTML export](#HTML-export)\n",
    "<!-- *   [5.2  Git](#Git) -->"
   ]
  },
  {
   "cell_type": "markdown",
   "id": "b60fae74",
   "metadata": {
    "papermill": {
     "duration": 0.057911,
     "end_time": "2023-07-14T09:55:09.665322",
     "exception": false,
     "start_time": "2023-07-14T09:55:09.607411",
     "status": "completed"
    },
    "tags": []
   },
   "source": [
    "# Data aquisition"
   ]
  },
  {
   "cell_type": "markdown",
   "id": "699f2460",
   "metadata": {
    "papermill": {
     "duration": 0.057306,
     "end_time": "2023-07-14T09:55:09.785255",
     "exception": false,
     "start_time": "2023-07-14T09:55:09.727949",
     "status": "completed"
    },
    "tags": []
   },
   "source": [
    "## Fetch online data"
   ]
  },
  {
   "cell_type": "code",
   "execution_count": null,
   "id": "135ab538",
   "metadata": {
    "papermill": {
     "duration": 0.066547,
     "end_time": "2023-07-14T09:55:09.909804",
     "exception": false,
     "start_time": "2023-07-14T09:55:09.843257",
     "status": "completed"
    },
    "tags": []
   },
   "outputs": [],
   "source": [
    "# Timestamp\n",
    "timestamp = pd.Timestamp.now()"
   ]
  },
  {
   "cell_type": "code",
   "execution_count": null,
   "id": "a5ac8487-bb9d-472c-857a-409b7eed3e2c",
   "metadata": {
    "papermill": {
     "duration": 58.948735,
     "end_time": "2023-07-14T09:56:08.923928",
     "exception": false,
     "start_time": "2023-07-14T09:55:09.975193",
     "status": "completed"
    },
    "tags": []
   },
   "outputs": [],
   "source": [
    "# Fetch Monster\n",
    "monster_df = fetch_monster()"
   ]
  },
  {
   "cell_type": "code",
   "execution_count": null,
   "id": "f62e94af-db1f-4ba5-9a7c-979b919625f3",
   "metadata": {
    "papermill": {
     "duration": 26.299726,
     "end_time": "2023-07-14T09:56:35.283370",
     "exception": false,
     "start_time": "2023-07-14T09:56:08.983644",
     "status": "completed"
    },
    "tags": []
   },
   "outputs": [],
   "source": [
    "# Fetch Spell\n",
    "spell_df = fetch_st(st=\"Spell\")\n",
    "\n",
    "# Fetch Trap\n",
    "trap_df = fetch_st(st=\"Trap\")"
   ]
  },
  {
   "cell_type": "code",
   "execution_count": null,
   "id": "913baa55-a117-4794-9b0c-9839cce927df",
   "metadata": {
    "papermill": {
     "duration": 5.218324,
     "end_time": "2023-07-14T09:56:40.562129",
     "exception": false,
     "start_time": "2023-07-14T09:56:35.343805",
     "status": "completed"
    },
    "tags": []
   },
   "outputs": [],
   "source": [
    "# Fetch Token\n",
    "token_df = fetch_token()\n",
    "\n",
    "# Fetch Counter\n",
    "counter_df = fetch_counter()\n",
    "\n",
    "# Fetch errata\n",
    "errata_df = fetch_errata()"
   ]
  },
  {
   "cell_type": "markdown",
   "id": "ffe04a8e-544d-4e73-947d-de6d5615bca3",
   "metadata": {
    "papermill": {
     "duration": 0.065176,
     "end_time": "2023-07-14T09:56:40.687855",
     "exception": false,
     "start_time": "2023-07-14T09:56:40.622679",
     "status": "completed"
    },
    "tags": []
   },
   "source": [
    "## Merge data"
   ]
  },
  {
   "cell_type": "code",
   "execution_count": null,
   "id": "3669c6ff-2f6a-4a09-b80c-0cf361caf929",
   "metadata": {
    "papermill": {
     "duration": 0.976336,
     "end_time": "2023-07-14T09:56:41.724838",
     "exception": false,
     "start_time": "2023-07-14T09:56:40.748502",
     "status": "completed"
    },
    "tags": []
   },
   "outputs": [],
   "source": [
    "# Merge errata\n",
    "monster_df = merge_errata(monster_df, errata_df)\n",
    "spell_df = merge_errata(spell_df, errata_df)\n",
    "trap_df = merge_errata(trap_df, errata_df)\n",
    "token_df = merge_errata(token_df, errata_df)\n",
    "counter_df = merge_errata(counter_df, errata_df)\n",
    "\n",
    "# Add counters to tokens data frame\n",
    "token_df = (\n",
    "    pd.concat([token_df, counter_df], ignore_index=True, axis=0)\n",
    "    .drop_duplicates()\n",
    "    .sort_values(\"Name\", ignore_index=True)\n",
    ")\n",
    "\n",
    "# Create combined spell and trap data frame\n",
    "st_df = pd.concat([spell_df, trap_df], ignore_index=True, axis=0).sort_values(\n",
    "    \"Name\", ignore_index=True\n",
    ")\n",
    "\n",
    "# Create combined monster, spell and trap data frames\n",
    "cards_df = pd.concat([st_df, monster_df], ignore_index=True, axis=0).sort_values(\n",
    "    \"Name\", ignore_index=True\n",
    ")\n",
    "\n",
    "# Create combined data frames with full data\n",
    "full_df = pd.concat([cards_df, token_df], ignore_index=True, axis=0).sort_values(\n",
    "    \"Name\", ignore_index=True\n",
    ")\n",
    "\n",
    "print(\"Data merged\")"
   ]
  },
  {
   "cell_type": "markdown",
   "id": "9ff0cf51",
   "metadata": {
    "papermill": {
     "duration": 0.076454,
     "end_time": "2023-07-14T09:56:41.861824",
     "exception": false,
     "start_time": "2023-07-14T09:56:41.785370",
     "status": "completed"
    },
    "tags": []
   },
   "source": [
    "# Check changes"
   ]
  },
  {
   "cell_type": "markdown",
   "id": "233e965d",
   "metadata": {
    "papermill": {
     "duration": 0.059639,
     "end_time": "2023-07-14T09:56:41.982332",
     "exception": false,
     "start_time": "2023-07-14T09:56:41.922693",
     "status": "completed"
    },
    "tags": []
   },
   "source": [
    "## Load previous data"
   ]
  },
  {
   "cell_type": "code",
   "execution_count": null,
   "id": "fb7dc6f8",
   "metadata": {
    "papermill": {
     "duration": 0.768505,
     "end_time": "2023-07-14T09:56:42.811146",
     "exception": false,
     "start_time": "2023-07-14T09:56:42.042641",
     "status": "completed"
    },
    "tags": []
   },
   "outputs": [],
   "source": [
    "# Get list of files\n",
    "files_list = sorted(\n",
    "    glob.glob(\"../data/all_cards_*.bz2\"), key=os.path.getctime, reverse=True\n",
    ")\n",
    "# Get second newest file if exist\n",
    "if files_list:\n",
    "    latest_file = files_list[0]\n",
    "    # Load csv avoiding converting \"NA\" to NaN\n",
    "    previous_df = pd.read_csv(\n",
    "        latest_file, dtype=object, keep_default_na=False, na_values=[\"\"]\n",
    "    )\n",
    "    # Correct tuples\n",
    "    tuple_cols = [\n",
    "        \"Effect type\",\n",
    "        \"Secondary type\",\n",
    "        \"Link Arrows\",\n",
    "        \"Archseries\",\n",
    "        \"Artwork\",\n",
    "        \"Errata\",\n",
    "    ]\n",
    "    for col in tuple_cols:\n",
    "        previous_df[col] = previous_df[col].dropna().apply(literal_eval)\n",
    "    # Force dtypes to match current df\n",
    "    previous_df = previous_df.astype(\n",
    "        full_df[previous_df.columns.intersection(full_df.columns)].dtypes.to_dict()\n",
    "    )\n",
    "    previous_ts = pd.to_datetime(\n",
    "        os.path.basename(latest_file).split(\"_\")[-1].split(\".bz2\")[0]\n",
    "    )\n",
    "    print(\"File loaded\")\n",
    "else:\n",
    "    previous_df = None\n",
    "    print(\"No older files\")"
   ]
  },
  {
   "cell_type": "markdown",
   "id": "96ce5451",
   "metadata": {
    "papermill": {
     "duration": 0.071378,
     "end_time": "2023-07-14T09:56:42.945500",
     "exception": false,
     "start_time": "2023-07-14T09:56:42.874122",
     "status": "completed"
    },
    "tags": []
   },
   "source": [
    "## Generate changelog"
   ]
  },
  {
   "cell_type": "code",
   "execution_count": null,
   "id": "2fcca8f1",
   "metadata": {
    "papermill": {
     "duration": 0.38171,
     "end_time": "2023-07-14T09:56:43.391098",
     "exception": false,
     "start_time": "2023-07-14T09:56:43.009388",
     "status": "completed"
    },
    "tags": []
   },
   "outputs": [],
   "source": [
    "if previous_df is None:\n",
    "    changelog = None\n",
    "    print(\"Skipped\")\n",
    "else:\n",
    "    changelog = generate_changelog(previous_df, full_df, col=\"Name\")\n",
    "    if not changelog.empty:\n",
    "        display(changelog)\n",
    "        changelog.to_csv(\n",
    "            f'../data/cards_changelog_{previous_ts.isoformat(timespec=\"minutes\")}_{timestamp.isoformat(timespec=\"minutes\")}.bz2',\n",
    "            index=True,\n",
    "        )\n",
    "        print(\"Changelog saved\")"
   ]
  },
  {
   "cell_type": "markdown",
   "id": "9b15f8ec",
   "metadata": {
    "papermill": {
     "duration": 0.060722,
     "end_time": "2023-07-14T09:56:43.514340",
     "exception": false,
     "start_time": "2023-07-14T09:56:43.453618",
     "status": "completed"
    },
    "tags": []
   },
   "source": [
    "## Save data"
   ]
  },
  {
   "cell_type": "code",
   "execution_count": null,
   "id": "01e9eb77",
   "metadata": {
    "papermill": {
     "duration": 0.875224,
     "end_time": "2023-07-14T09:56:44.452121",
     "exception": false,
     "start_time": "2023-07-14T09:56:43.576897",
     "status": "completed"
    },
    "tags": []
   },
   "outputs": [],
   "source": [
    "if changelog is not None and changelog.empty:\n",
    "    print(\"No changes. New data not saved\")\n",
    "else:\n",
    "    full_df.to_csv(\n",
    "        f'../data/all_cards_{timestamp.isoformat(timespec=\"minutes\")}.bz2', index=False\n",
    "    )\n",
    "    print(\"Data saved\")"
   ]
  },
  {
   "cell_type": "markdown",
   "id": "c0ae1017",
   "metadata": {
    "papermill": {
     "duration": 0.062885,
     "end_time": "2023-07-14T09:56:44.578484",
     "exception": false,
     "start_time": "2023-07-14T09:56:44.515599",
     "status": "completed"
    },
    "tags": []
   },
   "source": [
    "# Data visualization"
   ]
  },
  {
   "cell_type": "markdown",
   "id": "5ad091af",
   "metadata": {
    "jp-MarkdownHeadingCollapsed": true,
    "papermill": {
     "duration": 0.063454,
     "end_time": "2023-07-14T09:56:44.704776",
     "exception": false,
     "start_time": "2023-07-14T09:56:44.641322",
     "status": "completed"
    },
    "tags": []
   },
   "source": [
    "## Full data"
   ]
  },
  {
   "cell_type": "code",
   "execution_count": null,
   "id": "fb024043",
   "metadata": {
    "papermill": {
     "duration": 0.110253,
     "end_time": "2023-07-14T09:56:44.880924",
     "exception": false,
     "start_time": "2023-07-14T09:56:44.770671",
     "status": "completed"
    },
    "tags": []
   },
   "outputs": [],
   "source": [
    "full_df"
   ]
  },
  {
   "cell_type": "markdown",
   "id": "da99ccde-ca38-4d81-8661-6f8514f689d7",
   "metadata": {
    "papermill": {
     "duration": 0.113938,
     "end_time": "2023-07-14T09:56:45.058349",
     "exception": false,
     "start_time": "2023-07-14T09:56:44.944411",
     "status": "completed"
    },
    "tags": []
   },
   "source": [
    "Full data available to download [here](../data)"
   ]
  },
  {
   "cell_type": "markdown",
   "id": "8a8cb7cd",
   "metadata": {
    "jp-MarkdownHeadingCollapsed": true,
    "papermill": {
     "duration": 0.061823,
     "end_time": "2023-07-14T09:56:45.224341",
     "exception": false,
     "start_time": "2023-07-14T09:56:45.162518",
     "status": "completed"
    },
    "tags": []
   },
   "source": [
    "## Card types"
   ]
  },
  {
   "cell_type": "code",
   "execution_count": null,
   "id": "a4ec32e1",
   "metadata": {
    "papermill": {
     "duration": 0.086092,
     "end_time": "2023-07-14T09:56:45.534620",
     "exception": false,
     "start_time": "2023-07-14T09:56:45.448528",
     "status": "completed"
    },
    "tags": []
   },
   "outputs": [],
   "source": [
    "print(\"Total number of card types:\", cards_df[\"Card type\"].nunique())"
   ]
  },
  {
   "cell_type": "code",
   "execution_count": null,
   "id": "120a72dc",
   "metadata": {
    "papermill": {
     "duration": 0.351535,
     "end_time": "2023-07-14T09:56:45.949993",
     "exception": false,
     "start_time": "2023-07-14T09:56:45.598458",
     "status": "completed"
    },
    "tags": []
   },
   "outputs": [],
   "source": [
    "card_type_colors = [colors_dict[i] for i in full_df[\"Card type\"].value_counts().index]\n",
    "cards_df[\"Card type\"].value_counts().plot.bar(\n",
    "    figsize=(18, 6), grid=True, rot=0, color=card_type_colors, title=\"Card type\"\n",
    ")\n",
    "plt.show()"
   ]
  },
  {
   "cell_type": "markdown",
   "id": "fa1ed03c",
   "metadata": {
    "papermill": {
     "duration": 0.06334,
     "end_time": "2023-07-14T09:56:46.076511",
     "exception": false,
     "start_time": "2023-07-14T09:56:46.013171",
     "status": "completed"
    },
    "tags": []
   },
   "source": [
    "## Monsters"
   ]
  },
  {
   "cell_type": "markdown",
   "id": "66c5f658",
   "metadata": {
    "papermill": {
     "duration": 0.06339,
     "end_time": "2023-07-14T09:56:46.204306",
     "exception": false,
     "start_time": "2023-07-14T09:56:46.140916",
     "status": "completed"
    },
    "tags": []
   },
   "source": [
    "### Attributes"
   ]
  },
  {
   "cell_type": "code",
   "execution_count": null,
   "id": "aa4e6a26",
   "metadata": {
    "papermill": {
     "duration": 0.081504,
     "end_time": "2023-07-14T09:56:46.349476",
     "exception": false,
     "start_time": "2023-07-14T09:56:46.267972",
     "status": "completed"
    },
    "tags": []
   },
   "outputs": [],
   "source": [
    "print(\"Total number of attributes:\", monster_df[\"Attribute\"].nunique())"
   ]
  },
  {
   "cell_type": "code",
   "execution_count": null,
   "id": "ea26720e",
   "metadata": {
    "papermill": {
     "duration": 0.15343,
     "end_time": "2023-07-14T09:56:46.567873",
     "exception": false,
     "start_time": "2023-07-14T09:56:46.414443",
     "status": "completed"
    },
    "tags": []
   },
   "outputs": [],
   "source": [
    "monster_df.drop(columns=[\"Card type\", \"Page name\", \"Page URL\"]).groupby(\n",
    "    \"Attribute\"\n",
    ").nunique()"
   ]
  },
  {
   "cell_type": "code",
   "execution_count": null,
   "id": "c4ff5f74",
   "metadata": {
    "papermill": {
     "duration": 0.3488,
     "end_time": "2023-07-14T09:56:46.980998",
     "exception": false,
     "start_time": "2023-07-14T09:56:46.632198",
     "status": "completed"
    },
    "tags": []
   },
   "outputs": [],
   "source": [
    "attribute_colors = [\n",
    "    colors_dict[i] for i in monster_df[\"Attribute\"].value_counts().index\n",
    "]\n",
    "monster_df[\"Attribute\"].value_counts().plot.bar(\n",
    "    figsize=(18, 6), grid=True, rot=0, color=attribute_colors, title=\"Attribute\"\n",
    ")\n",
    "plt.show()"
   ]
  },
  {
   "cell_type": "markdown",
   "id": "d0d71936",
   "metadata": {
    "papermill": {
     "duration": 0.166081,
     "end_time": "2023-07-14T09:56:47.332081",
     "exception": false,
     "start_time": "2023-07-14T09:56:47.166000",
     "status": "completed"
    },
    "tags": []
   },
   "source": [
    "### Primary types"
   ]
  },
  {
   "cell_type": "code",
   "execution_count": null,
   "id": "26e45412",
   "metadata": {
    "papermill": {
     "duration": 0.084761,
     "end_time": "2023-07-14T09:56:47.688618",
     "exception": false,
     "start_time": "2023-07-14T09:56:47.603857",
     "status": "completed"
    },
    "tags": []
   },
   "outputs": [],
   "source": [
    "print(\"Total number of primary types:\", monster_df[\"Primary type\"].nunique())"
   ]
  },
  {
   "cell_type": "code",
   "execution_count": null,
   "id": "c7e4c6b0",
   "metadata": {
    "papermill": {
     "duration": 0.159216,
     "end_time": "2023-07-14T09:56:48.076747",
     "exception": false,
     "start_time": "2023-07-14T09:56:47.917531",
     "status": "completed"
    },
    "tags": []
   },
   "outputs": [],
   "source": [
    "monster_df.drop(columns=[\"Card type\", \"Page name\", \"Page URL\"]).groupby(\n",
    "    \"Primary type\"\n",
    ").nunique()"
   ]
  },
  {
   "cell_type": "markdown",
   "id": "d41d8e4a",
   "metadata": {
    "papermill": {
     "duration": 0.070694,
     "end_time": "2023-07-14T09:56:48.218691",
     "exception": false,
     "start_time": "2023-07-14T09:56:48.147997",
     "status": "completed"
    },
    "tags": []
   },
   "source": [
    "#### Has effect discrimination"
   ]
  },
  {
   "cell_type": "code",
   "execution_count": null,
   "id": "c14a59a2-0a34-4a99-a232-b04231647db5",
   "metadata": {
    "papermill": {
     "duration": 0.143144,
     "end_time": "2023-07-14T09:56:48.428978",
     "exception": false,
     "start_time": "2023-07-14T09:56:48.285834",
     "status": "completed"
    },
    "tags": []
   },
   "outputs": [],
   "source": [
    "effect = pd.crosstab(\n",
    "    monster_df[\"Primary type\"],\n",
    "    pd.isna(monster_df[\"Effect type\"]),\n",
    "    rownames=[\"Primary type\"],\n",
    "    colnames=[\"Has effect\"],\n",
    ").rename(columns={True: \"No Effect\", False: \"Effect\"})\n",
    "effect"
   ]
  },
  {
   "cell_type": "code",
   "execution_count": null,
   "id": "82c24448",
   "metadata": {
    "papermill": {
     "duration": 0.534098,
     "end_time": "2023-07-14T09:56:49.064272",
     "exception": false,
     "start_time": "2023-07-14T09:56:48.530174",
     "status": "completed"
    },
    "tags": []
   },
   "outputs": [],
   "source": [
    "monster_type_colors = {\n",
    "    \"No Effect\": colors_dict[\"Normal Monster\"],\n",
    "    \"Effect\": [colors_dict[i] for i in effect.index],\n",
    "}\n",
    "effect.plot.bar(\n",
    "    figsize=(18, 6),\n",
    "    stacked=True,\n",
    "    grid=True,\n",
    "    rot=0,\n",
    "    legend=True,\n",
    "    color=monster_type_colors,\n",
    ")\n",
    "# plt.yscale('log')\n",
    "plt.show()"
   ]
  },
  {
   "cell_type": "markdown",
   "id": "69d8824e",
   "metadata": {
    "papermill": {
     "duration": 0.076221,
     "end_time": "2023-07-14T09:56:49.207206",
     "exception": false,
     "start_time": "2023-07-14T09:56:49.130985",
     "status": "completed"
    },
    "tags": []
   },
   "source": [
    "Obs: Normal monster can have effect if it is pendulum"
   ]
  },
  {
   "cell_type": "markdown",
   "id": "1da2968f",
   "metadata": {
    "papermill": {
     "duration": 0.068294,
     "end_time": "2023-07-14T09:56:49.343735",
     "exception": false,
     "start_time": "2023-07-14T09:56:49.275441",
     "status": "completed"
    },
    "tags": []
   },
   "source": [
    "#### Is pendulum discrimination"
   ]
  },
  {
   "cell_type": "code",
   "execution_count": null,
   "id": "c18ac7a6",
   "metadata": {
    "papermill": {
     "duration": 0.099095,
     "end_time": "2023-07-14T09:56:49.510343",
     "exception": false,
     "start_time": "2023-07-14T09:56:49.411248",
     "status": "completed"
    },
    "tags": []
   },
   "outputs": [],
   "source": [
    "pendulum = pd.crosstab(\n",
    "    monster_df[\"Primary type\"],\n",
    "    pd.isna(monster_df[\"Pendulum Scale\"]),\n",
    "    rownames=[\"Primary type\"],\n",
    "    colnames=[\"Is Pendulum\"],\n",
    ").rename(columns={True: \"Not Pendulum\", False: \"Pendulum\"})\n",
    "pendulum"
   ]
  },
  {
   "cell_type": "code",
   "execution_count": null,
   "id": "fd0ff75c",
   "metadata": {
    "papermill": {
     "duration": 0.428576,
     "end_time": "2023-07-14T09:56:50.009325",
     "exception": false,
     "start_time": "2023-07-14T09:56:49.580749",
     "status": "completed"
    },
    "tags": []
   },
   "outputs": [],
   "source": [
    "monster_type_colors_b = {\n",
    "    \"Pendulum\": colors_dict[\"Pendulum Monster\"],\n",
    "    \"Not Pendulum\": [colors_dict[i] for i in pendulum.index],\n",
    "}\n",
    "pendulum.plot.bar(\n",
    "    figsize=(18, 6),\n",
    "    stacked=True,\n",
    "    grid=True,\n",
    "    rot=0,\n",
    "    color=monster_type_colors_b,\n",
    "    legend=True,\n",
    "    title=\"Primary types - Is pendulum\",\n",
    ")\n",
    "plt.show()"
   ]
  },
  {
   "cell_type": "markdown",
   "id": "a6a4f4f5",
   "metadata": {
    "papermill": {
     "duration": 0.067717,
     "end_time": "2023-07-14T09:56:50.145213",
     "exception": false,
     "start_time": "2023-07-14T09:56:50.077496",
     "status": "completed"
    },
    "tags": []
   },
   "source": [
    "#### By attribute"
   ]
  },
  {
   "cell_type": "code",
   "execution_count": null,
   "id": "9c162519",
   "metadata": {
    "papermill": {
     "duration": 0.110334,
     "end_time": "2023-07-14T09:56:50.324339",
     "exception": false,
     "start_time": "2023-07-14T09:56:50.214005",
     "status": "completed"
    },
    "tags": []
   },
   "outputs": [],
   "source": [
    "primmary_crosstab = pd.crosstab(cards_df[\"Primary type\"], cards_df[\"Attribute\"])\n",
    "primmary_crosstab"
   ]
  },
  {
   "cell_type": "code",
   "execution_count": null,
   "id": "a0114f45",
   "metadata": {
    "papermill": {
     "duration": 1.053691,
     "end_time": "2023-07-14T09:56:51.448382",
     "exception": false,
     "start_time": "2023-07-14T09:56:50.394691",
     "status": "completed"
    },
    "tags": []
   },
   "outputs": [],
   "source": [
    "plt.figure(figsize=(16, 10))\n",
    "sns.heatmap(\n",
    "    primmary_crosstab.T,\n",
    "    annot=True,\n",
    "    fmt=\"g\",\n",
    "    cmap=\"viridis\",\n",
    "    square=True,\n",
    "    norm=mc.LogNorm(),\n",
    ")\n",
    "plt.show()"
   ]
  },
  {
   "cell_type": "markdown",
   "id": "0c70885e",
   "metadata": {
    "papermill": {
     "duration": 0.07321,
     "end_time": "2023-07-14T09:56:51.591876",
     "exception": false,
     "start_time": "2023-07-14T09:56:51.518666",
     "status": "completed"
    },
    "tags": []
   },
   "source": [
    "### Secondary types"
   ]
  },
  {
   "cell_type": "code",
   "execution_count": null,
   "id": "ee184462",
   "metadata": {
    "papermill": {
     "duration": 0.187219,
     "end_time": "2023-07-14T09:56:51.848968",
     "exception": false,
     "start_time": "2023-07-14T09:56:51.661749",
     "status": "completed"
    },
    "tags": []
   },
   "outputs": [],
   "source": [
    "exploded_secondary_type = monster_df.explode(\"Secondary type\")\n",
    "print(\n",
    "    \"Total number of secondary types:\",\n",
    "    exploded_secondary_type[\"Secondary type\"].nunique(),\n",
    ")"
   ]
  },
  {
   "cell_type": "code",
   "execution_count": null,
   "id": "125f438e",
   "metadata": {
    "papermill": {
     "duration": 0.155679,
     "end_time": "2023-07-14T09:56:52.079445",
     "exception": false,
     "start_time": "2023-07-14T09:56:51.923766",
     "status": "completed"
    },
    "tags": []
   },
   "outputs": [],
   "source": [
    "exploded_secondary_type.drop(\n",
    "    columns=[\"Card type\", \"Link\", \"Link Arrows\", \"Page name\", \"Page URL\"]\n",
    ").groupby(\"Secondary type\").nunique()"
   ]
  },
  {
   "cell_type": "code",
   "execution_count": null,
   "id": "a4fec827",
   "metadata": {
    "papermill": {
     "duration": 0.463066,
     "end_time": "2023-07-14T09:56:52.615021",
     "exception": false,
     "start_time": "2023-07-14T09:56:52.151955",
     "status": "completed"
    },
    "tags": []
   },
   "outputs": [],
   "source": [
    "secondary_type_colors = colors_dict[\"Effect Monster\"]\n",
    "exploded_secondary_type[\"Secondary type\"].value_counts().plot.bar(\n",
    "    figsize=(18, 6),\n",
    "    stacked=True,\n",
    "    grid=True,\n",
    "    rot=0,\n",
    "    color=secondary_type_colors,\n",
    "    legend=False,\n",
    "    title=\"Secondary type\",\n",
    ")\n",
    "plt.show()"
   ]
  },
  {
   "cell_type": "markdown",
   "id": "0420679a",
   "metadata": {
    "papermill": {
     "duration": 0.071668,
     "end_time": "2023-07-14T09:56:52.757843",
     "exception": false,
     "start_time": "2023-07-14T09:56:52.686175",
     "status": "completed"
    },
    "tags": []
   },
   "source": [
    "#### By attribute"
   ]
  },
  {
   "cell_type": "code",
   "execution_count": null,
   "id": "085225bb",
   "metadata": {
    "papermill": {
     "duration": 0.106929,
     "end_time": "2023-07-14T09:56:52.936047",
     "exception": false,
     "start_time": "2023-07-14T09:56:52.829118",
     "status": "completed"
    },
    "tags": []
   },
   "outputs": [],
   "source": [
    "secondary_crosstab = pd.crosstab(\n",
    "    exploded_secondary_type[\"Secondary type\"], exploded_secondary_type[\"Attribute\"]\n",
    ")\n",
    "secondary_crosstab"
   ]
  },
  {
   "cell_type": "code",
   "execution_count": null,
   "id": "b69fe297",
   "metadata": {
    "papermill": {
     "duration": 0.480505,
     "end_time": "2023-07-14T09:56:53.488085",
     "exception": false,
     "start_time": "2023-07-14T09:56:53.007580",
     "status": "completed"
    },
    "tags": []
   },
   "outputs": [],
   "source": [
    "plt.figure(figsize=(8, 6))\n",
    "sns.heatmap(\n",
    "    secondary_crosstab[secondary_crosstab > 0],\n",
    "    annot=True,\n",
    "    fmt=\"g\",\n",
    "    cmap=\"viridis\",\n",
    "    square=True,\n",
    ")\n",
    "plt.show()"
   ]
  },
  {
   "cell_type": "markdown",
   "id": "30b035c2",
   "metadata": {
    "papermill": {
     "duration": 0.077395,
     "end_time": "2023-07-14T09:56:53.637939",
     "exception": false,
     "start_time": "2023-07-14T09:56:53.560544",
     "status": "completed"
    },
    "tags": []
   },
   "source": [
    "#### By secondary type"
   ]
  },
  {
   "cell_type": "code",
   "execution_count": null,
   "id": "c8f08039",
   "metadata": {
    "papermill": {
     "duration": 0.140475,
     "end_time": "2023-07-14T09:56:53.852012",
     "exception": false,
     "start_time": "2023-07-14T09:56:53.711537",
     "status": "completed"
    },
    "tags": []
   },
   "outputs": [],
   "source": [
    "secondary_crosstab_b = pd.crosstab(\n",
    "    exploded_secondary_type[\"Primary type\"],\n",
    "    exploded_secondary_type[\"Secondary type\"],\n",
    "    margins=True,\n",
    ")\n",
    "secondary_crosstab_b"
   ]
  },
  {
   "cell_type": "code",
   "execution_count": null,
   "id": "4749ace2",
   "metadata": {
    "papermill": {
     "duration": 0.765067,
     "end_time": "2023-07-14T09:56:54.694399",
     "exception": false,
     "start_time": "2023-07-14T09:56:53.929332",
     "status": "completed"
    },
    "tags": []
   },
   "outputs": [],
   "source": [
    "plt.figure(figsize=(10, 7))\n",
    "sns.heatmap(\n",
    "    secondary_crosstab_b,\n",
    "    annot=True,\n",
    "    fmt=\"g\",\n",
    "    cmap=\"viridis\",\n",
    "    square=True,\n",
    "    norm=mc.LogNorm(),\n",
    ")\n",
    "plt.show()"
   ]
  },
  {
   "cell_type": "markdown",
   "id": "9682c65a",
   "metadata": {
    "papermill": {
     "duration": 0.075894,
     "end_time": "2023-07-14T09:56:54.844514",
     "exception": false,
     "start_time": "2023-07-14T09:56:54.768620",
     "status": "completed"
    },
    "tags": []
   },
   "source": [
    "### Monster types"
   ]
  },
  {
   "cell_type": "code",
   "execution_count": null,
   "id": "dab77100",
   "metadata": {
    "papermill": {
     "duration": 0.090565,
     "end_time": "2023-07-14T09:56:55.010154",
     "exception": false,
     "start_time": "2023-07-14T09:56:54.919589",
     "status": "completed"
    },
    "tags": []
   },
   "outputs": [],
   "source": [
    "print(\"Total number of monster types:\", monster_df[\"Monster type\"].nunique())"
   ]
  },
  {
   "cell_type": "code",
   "execution_count": null,
   "id": "02f5b750",
   "metadata": {
    "papermill": {
     "duration": 0.180109,
     "end_time": "2023-07-14T09:56:55.263985",
     "exception": false,
     "start_time": "2023-07-14T09:56:55.083876",
     "status": "completed"
    },
    "tags": []
   },
   "outputs": [],
   "source": [
    "monster_df.drop(columns=[\"Card type\", \"Page name\", \"Page URL\"]).groupby(\n",
    "    \"Monster type\"\n",
    ").nunique()"
   ]
  },
  {
   "cell_type": "code",
   "execution_count": null,
   "id": "75111774",
   "metadata": {
    "papermill": {
     "duration": 0.637798,
     "end_time": "2023-07-14T09:56:55.977031",
     "exception": false,
     "start_time": "2023-07-14T09:56:55.339233",
     "status": "completed"
    },
    "tags": []
   },
   "outputs": [],
   "source": [
    "monster_type_colors = colors_dict[\"Monster Card\"]\n",
    "monster_df[\"Monster type\"].value_counts().plot.bar(\n",
    "    figsize=(18, 6), grid=True, rot=45, color=monster_type_colors, title=\"Monster type\"\n",
    ")\n",
    "plt.show()"
   ]
  },
  {
   "cell_type": "markdown",
   "id": "32d282b7",
   "metadata": {
    "papermill": {
     "duration": 0.076785,
     "end_time": "2023-07-14T09:56:56.136325",
     "exception": false,
     "start_time": "2023-07-14T09:56:56.059540",
     "status": "completed"
    },
    "tags": []
   },
   "source": [
    "#### By Attribute"
   ]
  },
  {
   "cell_type": "code",
   "execution_count": null,
   "id": "23d29373",
   "metadata": {
    "papermill": {
     "duration": 0.133916,
     "end_time": "2023-07-14T09:56:56.347887",
     "exception": false,
     "start_time": "2023-07-14T09:56:56.213971",
     "status": "completed"
    },
    "tags": []
   },
   "outputs": [],
   "source": [
    "monster_crosstab = pd.crosstab(cards_df[\"Monster type\"], cards_df[\"Attribute\"])\n",
    "monster_crosstab"
   ]
  },
  {
   "cell_type": "code",
   "execution_count": null,
   "id": "fd9ca22d",
   "metadata": {
    "papermill": {
     "duration": 1.162843,
     "end_time": "2023-07-14T09:56:57.589179",
     "exception": false,
     "start_time": "2023-07-14T09:56:56.426336",
     "status": "completed"
    },
    "tags": []
   },
   "outputs": [],
   "source": [
    "plt.figure(figsize=(20, 5))\n",
    "sns.heatmap(\n",
    "    monster_crosstab[monster_crosstab > 0].T,\n",
    "    annot=True,\n",
    "    fmt=\"g\",\n",
    "    cmap=\"viridis\",\n",
    "    square=True,\n",
    "    norm=mc.LogNorm(),\n",
    ")\n",
    "plt.show()"
   ]
  },
  {
   "cell_type": "markdown",
   "id": "4daa9957",
   "metadata": {
    "papermill": {
     "duration": 0.106541,
     "end_time": "2023-07-14T09:56:57.776722",
     "exception": false,
     "start_time": "2023-07-14T09:56:57.670181",
     "status": "completed"
    },
    "tags": []
   },
   "source": [
    "#### By primary type"
   ]
  },
  {
   "cell_type": "code",
   "execution_count": null,
   "id": "0f5d0eda",
   "metadata": {
    "papermill": {
     "duration": 0.137153,
     "end_time": "2023-07-14T09:56:57.993159",
     "exception": false,
     "start_time": "2023-07-14T09:56:57.856006",
     "status": "completed"
    },
    "tags": []
   },
   "outputs": [],
   "source": [
    "monster_crosstab_b = pd.crosstab(\n",
    "    cards_df[\"Monster type\"], cards_df[\"Primary type\"], dropna=False\n",
    ")\n",
    "monster_crosstab_b"
   ]
  },
  {
   "cell_type": "code",
   "execution_count": null,
   "id": "5f3b531c",
   "metadata": {
    "papermill": {
     "duration": 1.386196,
     "end_time": "2023-07-14T09:56:59.459951",
     "exception": false,
     "start_time": "2023-07-14T09:56:58.073755",
     "status": "completed"
    },
    "tags": []
   },
   "outputs": [],
   "source": [
    "plt.figure(figsize=(20, 5))\n",
    "sns.heatmap(\n",
    "    monster_crosstab_b[monster_crosstab_b > 0].T,\n",
    "    annot=True,\n",
    "    fmt=\"g\",\n",
    "    cmap=\"viridis\",\n",
    "    square=True,\n",
    "    norm=mc.LogNorm(),\n",
    ")\n",
    "plt.show()"
   ]
  },
  {
   "cell_type": "markdown",
   "id": "9056b880",
   "metadata": {
    "papermill": {
     "duration": 0.081944,
     "end_time": "2023-07-14T09:56:59.625148",
     "exception": false,
     "start_time": "2023-07-14T09:56:59.543204",
     "status": "completed"
    },
    "tags": []
   },
   "source": [
    "#### By secondary type"
   ]
  },
  {
   "cell_type": "code",
   "execution_count": null,
   "id": "cbe5bef6",
   "metadata": {
    "papermill": {
     "duration": 0.125484,
     "end_time": "2023-07-14T09:56:59.832245",
     "exception": false,
     "start_time": "2023-07-14T09:56:59.706761",
     "status": "completed"
    },
    "tags": []
   },
   "outputs": [],
   "source": [
    "monster_crosstab_c = pd.crosstab(\n",
    "    exploded_secondary_type[\"Monster type\"],\n",
    "    exploded_secondary_type[\"Secondary type\"],\n",
    "    dropna=False,\n",
    ")\n",
    "monster_crosstab_c"
   ]
  },
  {
   "cell_type": "code",
   "execution_count": null,
   "id": "3712cc0e",
   "metadata": {
    "papermill": {
     "duration": 0.95443,
     "end_time": "2023-07-14T09:57:00.870902",
     "exception": false,
     "start_time": "2023-07-14T09:56:59.916472",
     "status": "completed"
    },
    "tags": []
   },
   "outputs": [],
   "source": [
    "plt.figure(figsize=(20, 5))\n",
    "sns.heatmap(\n",
    "    monster_crosstab_c[monster_crosstab_c > 0].T,\n",
    "    annot=True,\n",
    "    fmt=\"g\",\n",
    "    cmap=\"viridis\",\n",
    "    square=True,\n",
    "    norm=mc.LogNorm(),\n",
    ")\n",
    "plt.show()"
   ]
  },
  {
   "cell_type": "markdown",
   "id": "aaf6f5d6",
   "metadata": {
    "papermill": {
     "duration": 0.089629,
     "end_time": "2023-07-14T09:57:01.049347",
     "exception": false,
     "start_time": "2023-07-14T09:57:00.959718",
     "status": "completed"
    },
    "tags": []
   },
   "source": [
    "### Effect type"
   ]
  },
  {
   "cell_type": "code",
   "execution_count": null,
   "id": "b44949a6",
   "metadata": {
    "papermill": {
     "duration": 0.292767,
     "end_time": "2023-07-14T09:57:01.453749",
     "exception": false,
     "start_time": "2023-07-14T09:57:01.160982",
     "status": "completed"
    },
    "tags": []
   },
   "outputs": [],
   "source": [
    "print(\"Total number of effect types:\", monster_df[\"Effect type\"].explode().nunique())"
   ]
  },
  {
   "cell_type": "code",
   "execution_count": null,
   "id": "c4e48718",
   "metadata": {
    "papermill": {
     "duration": 0.423339,
     "end_time": "2023-07-14T09:57:02.012214",
     "exception": false,
     "start_time": "2023-07-14T09:57:01.588875",
     "status": "completed"
    },
    "tags": []
   },
   "outputs": [],
   "source": [
    "monster_df[monster_df[\"Effect type\"].notna()].drop(\n",
    "    columns=[\"Card type\", \"Page name\", \"Page URL\"]\n",
    ").explode(\"Effect type\").groupby(\"Effect type\").nunique()"
   ]
  },
  {
   "cell_type": "code",
   "execution_count": null,
   "id": "ff912d52",
   "metadata": {
    "papermill": {
     "duration": 1.020964,
     "end_time": "2023-07-14T09:57:03.145648",
     "exception": false,
     "start_time": "2023-07-14T09:57:02.124684",
     "status": "completed"
    },
    "tags": []
   },
   "outputs": [],
   "source": [
    "monster_effect_colors = colors_dict[\"Effect Monster\"]\n",
    "monster_df[\"Effect type\"].explode(\"Effect type\").value_counts().plot.bar(\n",
    "    figsize=(18, 6), grid=True, color=monster_effect_colors, title=\"Effect type\"\n",
    ")\n",
    "# plt.yscale('log')\n",
    "plt.show()"
   ]
  },
  {
   "cell_type": "markdown",
   "id": "371f2c74",
   "metadata": {
    "papermill": {
     "duration": 0.844136,
     "end_time": "2023-07-14T09:57:04.177461",
     "exception": false,
     "start_time": "2023-07-14T09:57:03.333325",
     "status": "completed"
    },
    "tags": []
   },
   "source": [
    "### ATK"
   ]
  },
  {
   "cell_type": "code",
   "execution_count": null,
   "id": "1b5db865",
   "metadata": {
    "papermill": {
     "duration": 0.214142,
     "end_time": "2023-07-14T09:57:04.559803",
     "exception": false,
     "start_time": "2023-07-14T09:57:04.345661",
     "status": "completed"
    },
    "tags": []
   },
   "outputs": [],
   "source": [
    "print(\"Total number of ATK values:\", monster_df[\"ATK\"].nunique())"
   ]
  },
  {
   "cell_type": "code",
   "execution_count": null,
   "id": "16b9aa14",
   "metadata": {
    "papermill": {
     "duration": 0.329941,
     "end_time": "2023-07-14T09:57:05.048821",
     "exception": false,
     "start_time": "2023-07-14T09:57:04.718880",
     "status": "completed"
    },
    "tags": []
   },
   "outputs": [],
   "source": [
    "monster_df.drop(columns=[\"Card type\", \"Page name\", \"Page URL\"]).groupby(\n",
    "    \"ATK\"\n",
    ").nunique().sort_index(key=lambda x: pd.to_numeric(x, errors=\"coerce\"))"
   ]
  },
  {
   "cell_type": "code",
   "execution_count": null,
   "id": "3b1b2e1d",
   "metadata": {
    "papermill": {
     "duration": 1.527125,
     "end_time": "2023-07-14T09:57:06.704745",
     "exception": false,
     "start_time": "2023-07-14T09:57:05.177620",
     "status": "completed"
    },
    "tags": []
   },
   "outputs": [],
   "source": [
    "atk_colors = colors_dict[\"Monster Card\"]\n",
    "monster_df[\"ATK\"].value_counts().sort_index(\n",
    "    key=lambda x: pd.to_numeric(x, errors=\"coerce\")\n",
    ").plot.bar(figsize=(18, 6), grid=True, color=atk_colors, title=\"ATK\")\n",
    "plt.show()"
   ]
  },
  {
   "cell_type": "markdown",
   "id": "cda8b288",
   "metadata": {
    "papermill": {
     "duration": 0.212542,
     "end_time": "2023-07-14T09:57:07.019855",
     "exception": false,
     "start_time": "2023-07-14T09:57:06.807313",
     "status": "completed"
    },
    "tags": []
   },
   "source": [
    "### DEF"
   ]
  },
  {
   "cell_type": "code",
   "execution_count": null,
   "id": "2aa0ba61",
   "metadata": {
    "papermill": {
     "duration": 0.212879,
     "end_time": "2023-07-14T09:57:07.327244",
     "exception": false,
     "start_time": "2023-07-14T09:57:07.114365",
     "status": "completed"
    },
    "tags": []
   },
   "outputs": [],
   "source": [
    "print(\"Total number of DEF values:\", monster_df[\"DEF\"].nunique())"
   ]
  },
  {
   "cell_type": "code",
   "execution_count": null,
   "id": "54e9d56a",
   "metadata": {
    "papermill": {
     "duration": 0.289988,
     "end_time": "2023-07-14T09:57:07.750992",
     "exception": false,
     "start_time": "2023-07-14T09:57:07.461004",
     "status": "completed"
    },
    "tags": []
   },
   "outputs": [],
   "source": [
    "monster_df.drop(columns=[\"Card type\", \"Page name\", \"Page URL\"]).groupby(\n",
    "    \"DEF\"\n",
    ").nunique().sort_index(key=lambda x: pd.to_numeric(x, errors=\"coerce\"))"
   ]
  },
  {
   "cell_type": "code",
   "execution_count": null,
   "id": "10aeff48",
   "metadata": {
    "papermill": {
     "duration": 1.540057,
     "end_time": "2023-07-14T09:57:10.392961",
     "exception": false,
     "start_time": "2023-07-14T09:57:08.852904",
     "status": "completed"
    },
    "tags": []
   },
   "outputs": [],
   "source": [
    "def_colors = colors_dict[\"Monster Card\"]\n",
    "monster_df[\"DEF\"].value_counts().sort_index(\n",
    "    key=lambda x: pd.to_numeric(x, errors=\"coerce\")\n",
    ").plot.bar(figsize=(18, 6), grid=True, color=def_colors, title=\"DEF\")\n",
    "plt.show()"
   ]
  },
  {
   "cell_type": "markdown",
   "id": "4f26bf6d",
   "metadata": {
    "papermill": {
     "duration": 0.184964,
     "end_time": "2023-07-14T09:57:10.669249",
     "exception": false,
     "start_time": "2023-07-14T09:57:10.484285",
     "status": "completed"
    },
    "tags": []
   },
   "source": [
    "### Level/Rank"
   ]
  },
  {
   "cell_type": "code",
   "execution_count": null,
   "id": "f5543138",
   "metadata": {
    "papermill": {
     "duration": 0.392248,
     "end_time": "2023-07-14T09:57:11.245387",
     "exception": false,
     "start_time": "2023-07-14T09:57:10.853139",
     "status": "completed"
    },
    "tags": []
   },
   "outputs": [],
   "source": [
    "monster_df.drop(\n",
    "    columns=[\"Card type\", \"Link\", \"Link Arrows\", \"Page name\", \"Page URL\"]\n",
    ").groupby(\"Level/Rank\").nunique().sort_index(\n",
    "    key=lambda x: pd.to_numeric(x, errors=\"coerce\")\n",
    ")"
   ]
  },
  {
   "cell_type": "code",
   "execution_count": null,
   "id": "31539bdc",
   "metadata": {
    "papermill": {
     "duration": 0.397302,
     "end_time": "2023-07-14T09:57:11.739225",
     "exception": false,
     "start_time": "2023-07-14T09:57:11.341923",
     "status": "completed"
    },
    "tags": []
   },
   "outputs": [],
   "source": [
    "stars_colors = colors_dict[\"Level\"]\n",
    "monster_df[\"Level/Rank\"].value_counts().sort_index(\n",
    "    key=lambda x: pd.to_numeric(x, errors=\"coerce\")\n",
    ").plot.bar(figsize=(18, 6), grid=True, rot=0, color=stars_colors, title=\"Level/Rank\")\n",
    "plt.show()"
   ]
  },
  {
   "cell_type": "markdown",
   "id": "6a08e2b8",
   "metadata": {
    "papermill": {
     "duration": 0.089361,
     "end_time": "2023-07-14T09:57:11.922246",
     "exception": false,
     "start_time": "2023-07-14T09:57:11.832885",
     "status": "completed"
    },
    "tags": []
   },
   "source": [
    "#### ATK statistics"
   ]
  },
  {
   "cell_type": "code",
   "execution_count": null,
   "id": "06dc9107",
   "metadata": {
    "papermill": {
     "duration": 0.198226,
     "end_time": "2023-07-14T09:57:12.210141",
     "exception": false,
     "start_time": "2023-07-14T09:57:12.011915",
     "status": "completed"
    },
    "tags": []
   },
   "outputs": [],
   "source": [
    "monster_df[[\"Level/Rank\", \"ATK\"]].apply(pd.to_numeric, errors=\"coerce\").dropna().astype(\n",
    "    int\n",
    ").groupby(\"Level/Rank\").describe()"
   ]
  },
  {
   "cell_type": "markdown",
   "id": "b8a04916",
   "metadata": {
    "papermill": {
     "duration": 0.08962,
     "end_time": "2023-07-14T09:57:12.391752",
     "exception": false,
     "start_time": "2023-07-14T09:57:12.302132",
     "status": "completed"
    },
    "tags": []
   },
   "source": [
    "#### DEF statistics"
   ]
  },
  {
   "cell_type": "code",
   "execution_count": null,
   "id": "cc005e78",
   "metadata": {
    "papermill": {
     "duration": 0.308172,
     "end_time": "2023-07-14T09:57:12.792527",
     "exception": false,
     "start_time": "2023-07-14T09:57:12.484355",
     "status": "completed"
    },
    "tags": []
   },
   "outputs": [],
   "source": [
    "monster_df[[\"Level/Rank\", \"DEF\"]].apply(pd.to_numeric, errors=\"coerce\").dropna().astype(\n",
    "    int\n",
    ").groupby(\"Level/Rank\").describe()"
   ]
  },
  {
   "cell_type": "markdown",
   "id": "4029a29d",
   "metadata": {
    "papermill": {
     "duration": 0.100677,
     "end_time": "2023-07-14T09:57:12.988641",
     "exception": false,
     "start_time": "2023-07-14T09:57:12.887964",
     "status": "completed"
    },
    "tags": []
   },
   "source": [
    "### Pendulum scale"
   ]
  },
  {
   "cell_type": "code",
   "execution_count": null,
   "id": "9db07376",
   "metadata": {
    "papermill": {
     "duration": 0.224974,
     "end_time": "2023-07-14T09:57:13.303912",
     "exception": false,
     "start_time": "2023-07-14T09:57:13.078938",
     "status": "completed"
    },
    "tags": []
   },
   "outputs": [],
   "source": [
    "monster_df.drop(\n",
    "    columns=[\"Card type\", \"Link\", \"Link Arrows\", \"Page name\", \"Page URL\"]\n",
    ").groupby(\"Pendulum Scale\").nunique().sort_index(\n",
    "    key=lambda x: pd.to_numeric(x, errors=\"coerce\")\n",
    ")"
   ]
  },
  {
   "cell_type": "code",
   "execution_count": null,
   "id": "331eba0b",
   "metadata": {
    "papermill": {
     "duration": 0.522506,
     "end_time": "2023-07-14T09:57:13.921562",
     "exception": false,
     "start_time": "2023-07-14T09:57:13.399056",
     "status": "completed"
    },
    "tags": []
   },
   "outputs": [],
   "source": [
    "scales_colors = colors_dict[\"Pendulum Monster\"]\n",
    "monster_df[\"Pendulum Scale\"].value_counts().sort_index(\n",
    "    key=lambda x: pd.to_numeric(x, errors=\"coerce\")\n",
    ").plot.bar(\n",
    "    figsize=(18, 6), grid=True, rot=0, color=scales_colors, title=\"Pendulum scale\"\n",
    ")\n",
    "plt.show()"
   ]
  },
  {
   "cell_type": "markdown",
   "id": "c4cee785",
   "metadata": {
    "papermill": {
     "duration": 0.092192,
     "end_time": "2023-07-14T09:57:14.110754",
     "exception": false,
     "start_time": "2023-07-14T09:57:14.018562",
     "status": "completed"
    },
    "tags": []
   },
   "source": [
    "#### ATK statistics"
   ]
  },
  {
   "cell_type": "code",
   "execution_count": null,
   "id": "75427d69",
   "metadata": {
    "papermill": {
     "duration": 0.197357,
     "end_time": "2023-07-14T09:57:14.400489",
     "exception": false,
     "start_time": "2023-07-14T09:57:14.203132",
     "status": "completed"
    },
    "tags": []
   },
   "outputs": [],
   "source": [
    "monster_df[[\"Pendulum Scale\", \"ATK\"]].apply(\n",
    "    pd.to_numeric, errors=\"coerce\"\n",
    ").dropna().astype(int).groupby(\"Pendulum Scale\").describe()"
   ]
  },
  {
   "cell_type": "markdown",
   "id": "3ee4da76",
   "metadata": {
    "papermill": {
     "duration": 0.287331,
     "end_time": "2023-07-14T09:57:14.781424",
     "exception": false,
     "start_time": "2023-07-14T09:57:14.494093",
     "status": "completed"
    },
    "tags": []
   },
   "source": [
    "#### DEF statistics"
   ]
  },
  {
   "cell_type": "code",
   "execution_count": null,
   "id": "c474abd4",
   "metadata": {
    "papermill": {
     "duration": 0.199969,
     "end_time": "2023-07-14T09:57:15.077998",
     "exception": false,
     "start_time": "2023-07-14T09:57:14.878029",
     "status": "completed"
    },
    "tags": []
   },
   "outputs": [],
   "source": [
    "monster_df[[\"Pendulum Scale\", \"DEF\"]].apply(\n",
    "    pd.to_numeric, errors=\"coerce\"\n",
    ").dropna().astype(int).groupby(\"Pendulum Scale\").describe()"
   ]
  },
  {
   "cell_type": "markdown",
   "id": "87d81ad5",
   "metadata": {
    "papermill": {
     "duration": 0.123249,
     "end_time": "2023-07-14T09:57:15.300911",
     "exception": false,
     "start_time": "2023-07-14T09:57:15.177662",
     "status": "completed"
    },
    "tags": []
   },
   "source": [
    "#### Level/Rank statistics"
   ]
  },
  {
   "cell_type": "code",
   "execution_count": null,
   "id": "027c9b3e",
   "metadata": {
    "papermill": {
     "duration": 0.248819,
     "end_time": "2023-07-14T09:57:15.645500",
     "exception": false,
     "start_time": "2023-07-14T09:57:15.396681",
     "status": "completed"
    },
    "tags": []
   },
   "outputs": [],
   "source": [
    "monster_df[[\"Pendulum Scale\", \"Level/Rank\"]].apply(\n",
    "    pd.to_numeric, errors=\"coerce\"\n",
    ").dropna().astype(int).groupby(\"Pendulum Scale\").describe()"
   ]
  },
  {
   "cell_type": "markdown",
   "id": "93f3aba0",
   "metadata": {
    "papermill": {
     "duration": 0.096366,
     "end_time": "2023-07-14T09:57:15.836114",
     "exception": false,
     "start_time": "2023-07-14T09:57:15.739748",
     "status": "completed"
    },
    "tags": []
   },
   "source": [
    "### Link"
   ]
  },
  {
   "cell_type": "code",
   "execution_count": null,
   "id": "3ba56226",
   "metadata": {
    "papermill": {
     "duration": 0.164949,
     "end_time": "2023-07-14T09:57:16.095621",
     "exception": false,
     "start_time": "2023-07-14T09:57:15.930672",
     "status": "completed"
    },
    "tags": []
   },
   "outputs": [],
   "source": [
    "monster_df.drop(\n",
    "    columns=[\n",
    "        \"Card type\",\n",
    "        \"Primary type\",\n",
    "        \"Secondary type\",\n",
    "        \"Level/Rank\",\n",
    "        \"DEF\",\n",
    "        \"Pendulum Scale\",\n",
    "        \"Page name\",\n",
    "        \"Page URL\",\n",
    "    ]\n",
    ").groupby(\"Link\").nunique().sort_index(key=lambda x: pd.to_numeric(x, errors=\"coerce\"))"
   ]
  },
  {
   "cell_type": "code",
   "execution_count": null,
   "id": "3afbb00a",
   "metadata": {
    "papermill": {
     "duration": 0.809384,
     "end_time": "2023-07-14T09:57:16.999020",
     "exception": false,
     "start_time": "2023-07-14T09:57:16.189636",
     "status": "completed"
    },
    "tags": []
   },
   "outputs": [],
   "source": [
    "link_colors = colors_dict[\"Link Monster\"]\n",
    "monster_df[\"Link\"].value_counts().sort_index(\n",
    "    key=lambda x: pd.to_numeric(x, errors=\"coerce\")\n",
    ").plot.bar(figsize=(18, 6), grid=True, rot=0, color=link_colors, title=\"Link\")\n",
    "plt.show()"
   ]
  },
  {
   "cell_type": "markdown",
   "id": "5f20abde",
   "metadata": {
    "papermill": {
     "duration": 0.118528,
     "end_time": "2023-07-14T09:57:17.214627",
     "exception": false,
     "start_time": "2023-07-14T09:57:17.096099",
     "status": "completed"
    },
    "tags": []
   },
   "source": [
    "#### ATK statistics"
   ]
  },
  {
   "cell_type": "code",
   "execution_count": null,
   "id": "c80d9372",
   "metadata": {
    "papermill": {
     "duration": 0.629582,
     "end_time": "2023-07-14T09:57:18.192817",
     "exception": false,
     "start_time": "2023-07-14T09:57:17.563235",
     "status": "completed"
    },
    "tags": []
   },
   "outputs": [],
   "source": [
    "monster_df[[\"Link\", \"ATK\"]].apply(pd.to_numeric, errors=\"coerce\").dropna().astype(\n",
    "    int\n",
    ").groupby(\"Link\").describe()"
   ]
  },
  {
   "cell_type": "markdown",
   "id": "f585a876",
   "metadata": {
    "papermill": {
     "duration": 0.368083,
     "end_time": "2023-07-14T09:57:18.954749",
     "exception": false,
     "start_time": "2023-07-14T09:57:18.586666",
     "status": "completed"
    },
    "tags": []
   },
   "source": [
    "### Link Arrows"
   ]
  },
  {
   "cell_type": "markdown",
   "id": "b1373514",
   "metadata": {
    "papermill": {
     "duration": 0.107756,
     "end_time": "2023-07-14T09:57:19.181657",
     "exception": false,
     "start_time": "2023-07-14T09:57:19.073901",
     "status": "completed"
    },
    "tags": []
   },
   "source": [
    "#### By combination"
   ]
  },
  {
   "cell_type": "code",
   "execution_count": null,
   "id": "1130304f",
   "metadata": {
    "papermill": {
     "duration": 0.293618,
     "end_time": "2023-07-14T09:57:19.945969",
     "exception": false,
     "start_time": "2023-07-14T09:57:19.652351",
     "status": "completed"
    },
    "tags": []
   },
   "outputs": [],
   "source": [
    "print(\"Total number of link arrow combinations:\", monster_df[\"Link Arrows\"].nunique())"
   ]
  },
  {
   "cell_type": "code",
   "execution_count": null,
   "id": "7acfc7a1",
   "metadata": {
    "papermill": {
     "duration": 0.176038,
     "end_time": "2023-07-14T09:57:20.668591",
     "exception": false,
     "start_time": "2023-07-14T09:57:20.492553",
     "status": "completed"
    },
    "tags": []
   },
   "outputs": [],
   "source": [
    "monster_df.drop(\n",
    "    columns=[\n",
    "        \"Card type\",\n",
    "        \"Primary type\",\n",
    "        \"Level/Rank\",\n",
    "        \"Pendulum Scale\",\n",
    "        \"Link\",\n",
    "        \"Secondary type\",\n",
    "        \"DEF\",\n",
    "        \"Page name\",\n",
    "        \"Page URL\",\n",
    "    ]\n",
    ").groupby(\"Link Arrows\").nunique()"
   ]
  },
  {
   "cell_type": "code",
   "execution_count": null,
   "id": "66c65c93",
   "metadata": {
    "papermill": {
     "duration": 1.10912,
     "end_time": "2023-07-14T09:57:22.073498",
     "exception": false,
     "start_time": "2023-07-14T09:57:20.964378",
     "status": "completed"
    },
    "tags": []
   },
   "outputs": [],
   "source": [
    "arrows_colors = colors_dict[\"Link Monster\"]\n",
    "monster_df[\"Link Arrows\"].value_counts().plot.barh(\n",
    "    figsize=(10, 20), grid=True, color=arrows_colors, title=\"Link arrows combinations\"\n",
    ")\n",
    "plt.show()"
   ]
  },
  {
   "cell_type": "markdown",
   "id": "aa520eaf",
   "metadata": {
    "papermill": {
     "duration": 0.185949,
     "end_time": "2023-07-14T09:57:22.356105",
     "exception": false,
     "start_time": "2023-07-14T09:57:22.170156",
     "status": "completed"
    },
    "tags": []
   },
   "source": [
    "#### By unique"
   ]
  },
  {
   "cell_type": "code",
   "execution_count": null,
   "id": "85cda4e5",
   "metadata": {
    "papermill": {
     "duration": 0.150814,
     "end_time": "2023-07-14T09:57:23.022440",
     "exception": false,
     "start_time": "2023-07-14T09:57:22.871626",
     "status": "completed"
    },
    "tags": []
   },
   "outputs": [],
   "source": [
    "monster_df[monster_df[\"Link Arrows\"].notna()].drop(\n",
    "    columns=[\n",
    "        \"Card type\",\n",
    "        \"Primary type\",\n",
    "        \"Level/Rank\",\n",
    "        \"Pendulum Scale\",\n",
    "        \"Secondary type\",\n",
    "        \"DEF\",\n",
    "        \"Page name\",\n",
    "        \"Page URL\",\n",
    "    ]\n",
    ").explode(\"Link Arrows\").groupby(\"Link Arrows\").nunique()"
   ]
  },
  {
   "cell_type": "code",
   "execution_count": null,
   "id": "c3161d6e",
   "metadata": {
    "papermill": {
     "duration": 2.188943,
     "end_time": "2023-07-14T09:57:25.391444",
     "exception": false,
     "start_time": "2023-07-14T09:57:23.202501",
     "status": "completed"
    },
    "tags": []
   },
   "outputs": [],
   "source": [
    "arrow_plot(monster_df[\"Link Arrows\"].explode(\"Link Arrows\"))"
   ]
  },
  {
   "cell_type": "markdown",
   "id": "e36f6792",
   "metadata": {
    "papermill": {
     "duration": 0.660657,
     "end_time": "2023-07-14T09:57:26.154875",
     "exception": false,
     "start_time": "2023-07-14T09:57:25.494218",
     "status": "completed"
    },
    "tags": []
   },
   "source": [
    "#### By link"
   ]
  },
  {
   "cell_type": "code",
   "execution_count": null,
   "id": "8a6b3372",
   "metadata": {
    "papermill": {
     "duration": 0.218468,
     "end_time": "2023-07-14T09:57:26.473404",
     "exception": false,
     "start_time": "2023-07-14T09:57:26.254936",
     "status": "completed"
    },
    "tags": []
   },
   "outputs": [],
   "source": [
    "arrow_per_link = monster_df[[\"Link Arrows\", \"Link\"]].explode(\"Link Arrows\").dropna()\n",
    "arrow_crosstab = pd.crosstab(arrow_per_link[\"Link Arrows\"], arrow_per_link[\"Link\"])\n",
    "arrow_crosstab"
   ]
  },
  {
   "cell_type": "code",
   "execution_count": null,
   "id": "a22dab12",
   "metadata": {
    "papermill": {
     "duration": 0.702486,
     "end_time": "2023-07-14T09:57:27.277955",
     "exception": false,
     "start_time": "2023-07-14T09:57:26.575469",
     "status": "completed"
    },
    "tags": []
   },
   "outputs": [],
   "source": [
    "plt.figure(figsize=(10, 6))\n",
    "sns.heatmap(\n",
    "    arrow_crosstab[arrow_crosstab > 0].T,\n",
    "    annot=True,\n",
    "    fmt=\"g\",\n",
    "    cmap=\"viridis\",\n",
    "    square=True,\n",
    "    norm=mc.LogNorm(),\n",
    ")\n",
    "plt.show()"
   ]
  },
  {
   "cell_type": "markdown",
   "id": "bb0bbf58",
   "metadata": {
    "papermill": {
     "duration": 0.104187,
     "end_time": "2023-07-14T09:57:27.485199",
     "exception": false,
     "start_time": "2023-07-14T09:57:27.381012",
     "status": "completed"
    },
    "tags": []
   },
   "source": [
    "## Spell & Trap"
   ]
  },
  {
   "cell_type": "markdown",
   "id": "f47b1472",
   "metadata": {
    "papermill": {
     "duration": 0.664286,
     "end_time": "2023-07-14T09:57:28.265140",
     "exception": false,
     "start_time": "2023-07-14T09:57:27.600854",
     "status": "completed"
    },
    "tags": []
   },
   "source": [
    "### Properties"
   ]
  },
  {
   "cell_type": "code",
   "execution_count": null,
   "id": "fdd7cb44",
   "metadata": {
    "papermill": {
     "duration": 0.317597,
     "end_time": "2023-07-14T09:57:28.688859",
     "exception": false,
     "start_time": "2023-07-14T09:57:28.371262",
     "status": "completed"
    },
    "tags": []
   },
   "outputs": [],
   "source": [
    "print(\"Total number of properties:\", st_df[\"Property\"].nunique())"
   ]
  },
  {
   "cell_type": "code",
   "execution_count": null,
   "id": "52c0aa20",
   "metadata": {
    "papermill": {
     "duration": 0.147681,
     "end_time": "2023-07-14T09:57:28.946622",
     "exception": false,
     "start_time": "2023-07-14T09:57:28.798941",
     "status": "completed"
    },
    "tags": []
   },
   "outputs": [],
   "source": [
    "st_df.drop(columns=[\"Card type\", \"Page name\", \"Page URL\"]).groupby(\"Property\").nunique()"
   ]
  },
  {
   "cell_type": "code",
   "execution_count": null,
   "id": "cd537db7",
   "metadata": {
    "papermill": {
     "duration": 0.59826,
     "end_time": "2023-07-14T09:57:29.652715",
     "exception": false,
     "start_time": "2023-07-14T09:57:29.054455",
     "status": "completed"
    },
    "tags": []
   },
   "outputs": [],
   "source": [
    "st_colors = [\n",
    "    colors_dict[i]\n",
    "    for i in cards_df[[\"Card type\", \"Property\"]]\n",
    "    .value_counts()\n",
    "    .index.get_level_values(0)\n",
    "]\n",
    "st_df[\"Property\"].value_counts().plot.bar(\n",
    "    figsize=(18, 6), grid=True, rot=45, color=st_colors, title=\"Property\"\n",
    ")\n",
    "plt.show()"
   ]
  },
  {
   "cell_type": "markdown",
   "id": "eab733b7",
   "metadata": {
    "jp-MarkdownHeadingCollapsed": true,
    "papermill": {
     "duration": 0.575646,
     "end_time": "2023-07-14T09:57:30.333294",
     "exception": false,
     "start_time": "2023-07-14T09:57:29.757648",
     "status": "completed"
    },
    "tags": []
   },
   "source": [
    "### Effect type"
   ]
  },
  {
   "cell_type": "code",
   "execution_count": null,
   "id": "f955ec1d",
   "metadata": {
    "papermill": {
     "duration": 0.131089,
     "end_time": "2023-07-14T09:57:30.566492",
     "exception": false,
     "start_time": "2023-07-14T09:57:30.435403",
     "status": "completed"
    },
    "tags": []
   },
   "outputs": [],
   "source": [
    "print(\"Total number of effect types:\", st_df[\"Effect type\"].explode().nunique())"
   ]
  },
  {
   "cell_type": "code",
   "execution_count": null,
   "id": "9e0f62a2",
   "metadata": {
    "papermill": {
     "duration": 0.223389,
     "end_time": "2023-07-14T09:57:30.898194",
     "exception": false,
     "start_time": "2023-07-14T09:57:30.674805",
     "status": "completed"
    },
    "tags": []
   },
   "outputs": [],
   "source": [
    "st_df.explode(\"Effect type\").groupby(\"Effect type\").nunique()"
   ]
  },
  {
   "cell_type": "markdown",
   "id": "64868037",
   "metadata": {
    "papermill": {
     "duration": 0.102948,
     "end_time": "2023-07-14T09:57:31.109003",
     "exception": false,
     "start_time": "2023-07-14T09:57:31.006055",
     "status": "completed"
    },
    "tags": []
   },
   "source": [
    "#### Spell & Trap discrimination"
   ]
  },
  {
   "cell_type": "code",
   "execution_count": null,
   "id": "75843f9d",
   "metadata": {
    "papermill": {
     "duration": 0.149564,
     "end_time": "2023-07-14T09:57:31.361578",
     "exception": false,
     "start_time": "2023-07-14T09:57:31.212014",
     "status": "completed"
    },
    "tags": []
   },
   "outputs": [],
   "source": [
    "st_diff = (\n",
    "    st_df[[\"Card type\", \"Effect type\"]]\n",
    "    .explode(\"Effect type\")\n",
    "    .value_counts()\n",
    "    .unstack(0)\n",
    "    .fillna(0)\n",
    "    .astype(int)\n",
    ")\n",
    "st_diff"
   ]
  },
  {
   "cell_type": "code",
   "execution_count": null,
   "id": "373757a0",
   "metadata": {
    "papermill": {
     "duration": 0.641564,
     "end_time": "2023-07-14T09:57:32.107879",
     "exception": false,
     "start_time": "2023-07-14T09:57:31.466315",
     "status": "completed"
    },
    "tags": []
   },
   "outputs": [],
   "source": [
    "st_diff_colors = {\n",
    "    \"Spell Card\": colors_dict[\"Spell Card\"],\n",
    "    \"Trap Card\": colors_dict[\"Trap Card\"],\n",
    "}\n",
    "st_diff.plot.bar(figsize=(18, 6), stacked=True, grid=True, rot=45, color=st_diff_colors)\n",
    "plt.show()"
   ]
  },
  {
   "cell_type": "markdown",
   "id": "0013b7c7",
   "metadata": {
    "papermill": {
     "duration": 0.105114,
     "end_time": "2023-07-14T09:57:32.323158",
     "exception": false,
     "start_time": "2023-07-14T09:57:32.218044",
     "status": "completed"
    },
    "tags": []
   },
   "source": [
    "## Archseries"
   ]
  },
  {
   "cell_type": "code",
   "execution_count": null,
   "id": "ce1470dc",
   "metadata": {
    "papermill": {
     "duration": 0.24262,
     "end_time": "2023-07-14T09:57:32.672735",
     "exception": false,
     "start_time": "2023-07-14T09:57:32.430115",
     "status": "completed"
    },
    "tags": []
   },
   "outputs": [],
   "source": [
    "exploded_archseries = cards_df.explode(\"Archseries\")\n",
    "print(\"Total number of Archseries:\", exploded_archseries[\"Archseries\"].nunique())"
   ]
  },
  {
   "cell_type": "code",
   "execution_count": null,
   "id": "f31c5b8c",
   "metadata": {
    "papermill": {
     "duration": 0.316119,
     "end_time": "2023-07-14T09:57:33.095938",
     "exception": false,
     "start_time": "2023-07-14T09:57:32.779819",
     "status": "completed"
    },
    "tags": []
   },
   "outputs": [],
   "source": [
    "exploded_archseries.groupby(\"Archseries\").nunique()"
   ]
  },
  {
   "cell_type": "code",
   "execution_count": null,
   "id": "00c9f321",
   "metadata": {
    "papermill": {
     "duration": 11.084878,
     "end_time": "2023-07-14T09:57:44.286269",
     "exception": false,
     "start_time": "2023-07-14T09:57:33.201391",
     "status": "completed"
    },
    "tags": []
   },
   "outputs": [],
   "source": [
    "exploded_archseries[\"Archseries\"].value_counts().plot.barh(\n",
    "    figsize=(10, 200), grid=True, title=\"Archtypes/Series\"\n",
    ")\n",
    "plt.show()"
   ]
  },
  {
   "cell_type": "markdown",
   "id": "cf3bf55f",
   "metadata": {
    "jp-MarkdownHeadingCollapsed": true,
    "papermill": {
     "duration": 0.135035,
     "end_time": "2023-07-14T09:57:44.560767",
     "exception": false,
     "start_time": "2023-07-14T09:57:44.425732",
     "status": "completed"
    },
    "tags": []
   },
   "source": [
    "### By card type"
   ]
  },
  {
   "cell_type": "code",
   "execution_count": null,
   "id": "fbf65c3c",
   "metadata": {
    "papermill": {
     "duration": 0.335758,
     "end_time": "2023-07-14T09:57:45.033752",
     "exception": false,
     "start_time": "2023-07-14T09:57:44.697994",
     "status": "completed"
    },
    "tags": []
   },
   "outputs": [],
   "source": [
    "archseries_crosstab = pd.crosstab(\n",
    "    exploded_archseries[\"Archseries\"], exploded_archseries[\"Card type\"], margins=True\n",
    ")\n",
    "archseries_crosstab"
   ]
  },
  {
   "cell_type": "markdown",
   "id": "960ea110",
   "metadata": {
    "papermill": {
     "duration": 0.134741,
     "end_time": "2023-07-14T09:57:45.305201",
     "exception": false,
     "start_time": "2023-07-14T09:57:45.170460",
     "status": "completed"
    },
    "tags": []
   },
   "source": [
    "### By primary type"
   ]
  },
  {
   "cell_type": "code",
   "execution_count": null,
   "id": "2c3671f0",
   "metadata": {
    "papermill": {
     "duration": 0.302527,
     "end_time": "2023-07-14T09:57:45.743005",
     "exception": false,
     "start_time": "2023-07-14T09:57:45.440478",
     "status": "completed"
    },
    "tags": []
   },
   "outputs": [],
   "source": [
    "archseries_crosstab_b = pd.crosstab(\n",
    "    exploded_archseries[\"Archseries\"], exploded_archseries[\"Primary type\"], margins=True\n",
    ")\n",
    "archseries_crosstab_b"
   ]
  },
  {
   "cell_type": "markdown",
   "id": "6de5fdac",
   "metadata": {
    "papermill": {
     "duration": 0.136766,
     "end_time": "2023-07-14T09:57:46.016148",
     "exception": false,
     "start_time": "2023-07-14T09:57:45.879382",
     "status": "completed"
    },
    "tags": []
   },
   "source": [
    "\n",
    "\n",
    "### By secondary type"
   ]
  },
  {
   "cell_type": "code",
   "execution_count": null,
   "id": "966a00dd",
   "metadata": {
    "papermill": {
     "duration": 0.258866,
     "end_time": "2023-07-14T09:57:46.416507",
     "exception": false,
     "start_time": "2023-07-14T09:57:46.157641",
     "status": "completed"
    },
    "tags": []
   },
   "outputs": [],
   "source": [
    "exploded_archseries_secondary_type = exploded_archseries[\n",
    "    [\"Archseries\", \"Secondary type\"]\n",
    "].explode(\"Secondary type\")\n",
    "archseries_crosstab_c = pd.crosstab(\n",
    "    exploded_archseries_secondary_type[\"Archseries\"],\n",
    "    exploded_archseries_secondary_type[\"Secondary type\"],\n",
    "    margins=True,\n",
    ")\n",
    "archseries_crosstab_c"
   ]
  },
  {
   "cell_type": "markdown",
   "id": "a881d945",
   "metadata": {
    "papermill": {
     "duration": 0.136412,
     "end_time": "2023-07-14T09:57:46.692874",
     "exception": false,
     "start_time": "2023-07-14T09:57:46.556462",
     "status": "completed"
    },
    "tags": []
   },
   "source": [
    "### By monster type"
   ]
  },
  {
   "cell_type": "code",
   "execution_count": null,
   "id": "d99ee9e1",
   "metadata": {
    "papermill": {
     "duration": 0.350624,
     "end_time": "2023-07-14T09:57:47.179958",
     "exception": false,
     "start_time": "2023-07-14T09:57:46.829334",
     "status": "completed"
    },
    "tags": []
   },
   "outputs": [],
   "source": [
    "archseries_crosstab_d = pd.crosstab(\n",
    "    exploded_archseries[\"Archseries\"], exploded_archseries[\"Monster type\"], margins=True\n",
    ")\n",
    "archseries_crosstab_d"
   ]
  },
  {
   "cell_type": "markdown",
   "id": "f97ab388",
   "metadata": {
    "papermill": {
     "duration": 0.138804,
     "end_time": "2023-07-14T09:57:47.457373",
     "exception": false,
     "start_time": "2023-07-14T09:57:47.318569",
     "status": "completed"
    },
    "tags": []
   },
   "source": [
    "### By property"
   ]
  },
  {
   "cell_type": "code",
   "execution_count": null,
   "id": "fbbb1ccc",
   "metadata": {
    "papermill": {
     "duration": 0.745829,
     "end_time": "2023-07-14T09:57:48.401914",
     "exception": false,
     "start_time": "2023-07-14T09:57:47.656085",
     "status": "completed"
    },
    "tags": []
   },
   "outputs": [],
   "source": [
    "archseries_crosstab_e = pd.crosstab(\n",
    "    exploded_archseries[\"Archseries\"], exploded_archseries[\"Property\"], margins=True\n",
    ")\n",
    "archseries_crosstab_e"
   ]
  },
  {
   "cell_type": "markdown",
   "id": "554f6e74",
   "metadata": {
    "papermill": {
     "duration": 0.209235,
     "end_time": "2023-07-14T09:57:48.923156",
     "exception": false,
     "start_time": "2023-07-14T09:57:48.713921",
     "status": "completed"
    },
    "tags": []
   },
   "source": [
    "## Artworks"
   ]
  },
  {
   "cell_type": "code",
   "execution_count": null,
   "id": "2224e061",
   "metadata": {
    "papermill": {
     "duration": 0.1658,
     "end_time": "2023-07-14T09:57:49.229102",
     "exception": false,
     "start_time": "2023-07-14T09:57:49.063302",
     "status": "completed"
    },
    "tags": []
   },
   "outputs": [],
   "source": [
    "print(\n",
    "    \"Total number of cards with edited or alternate artworks:\",\n",
    "    cards_df[\"Artwork\"].count(),\n",
    ")"
   ]
  },
  {
   "cell_type": "code",
   "execution_count": null,
   "id": "f7492a67",
   "metadata": {
    "papermill": {
     "duration": 0.174351,
     "end_time": "2023-07-14T09:57:49.544401",
     "exception": false,
     "start_time": "2023-07-14T09:57:49.370050",
     "status": "completed"
    },
    "tags": []
   },
   "outputs": [],
   "source": [
    "cards_df[[\"Name\", \"Password\", \"TCG status\", \"OCG status\", \"Artwork\"]][\n",
    "    cards_df[\"Artwork\"].notna()\n",
    "]"
   ]
  },
  {
   "cell_type": "code",
   "execution_count": null,
   "id": "fa1ea6aa",
   "metadata": {
    "papermill": {
     "duration": 0.44914,
     "end_time": "2023-07-14T09:57:50.168018",
     "exception": false,
     "start_time": "2023-07-14T09:57:49.718878",
     "status": "completed"
    },
    "tags": []
   },
   "outputs": [],
   "source": [
    "artwork_value_counts = cards_df[\"Artwork\"].value_counts()\n",
    "plt.figure(figsize=(20, 8))\n",
    "plt.title(\"Artworks\")\n",
    "venn2(\n",
    "    subsets=(\n",
    "        artwork_value_counts[(\"Alternate\",)],\n",
    "        artwork_value_counts[(\"Edited\",)],\n",
    "        artwork_value_counts[(\"Alternate\", \"Edited\")],\n",
    "    ),\n",
    "    set_labels=(\"Alternate artwork\", \"Edited artwork\"),\n",
    ")\n",
    "plt.show()"
   ]
  },
  {
   "cell_type": "markdown",
   "id": "e49df5df",
   "metadata": {
    "papermill": {
     "duration": 0.138059,
     "end_time": "2023-07-14T09:57:50.453114",
     "exception": false,
     "start_time": "2023-07-14T09:57:50.315055",
     "status": "completed"
    },
    "tags": []
   },
   "source": [
    "### By card type"
   ]
  },
  {
   "cell_type": "code",
   "execution_count": null,
   "id": "1b14c224",
   "metadata": {
    "papermill": {
     "duration": 0.175937,
     "end_time": "2023-07-14T09:57:51.083633",
     "exception": false,
     "start_time": "2023-07-14T09:57:50.907696",
     "status": "completed"
    },
    "tags": []
   },
   "outputs": [],
   "source": [
    "artwork_crosstab = pd.crosstab(cards_df[\"Artwork\"], cards_df[\"Card type\"])\n",
    "artwork_crosstab"
   ]
  },
  {
   "cell_type": "markdown",
   "id": "81afa2df",
   "metadata": {
    "papermill": {
     "duration": 0.138918,
     "end_time": "2023-07-14T09:57:51.361276",
     "exception": false,
     "start_time": "2023-07-14T09:57:51.222358",
     "status": "completed"
    },
    "tags": []
   },
   "source": [
    "### By primary type"
   ]
  },
  {
   "cell_type": "code",
   "execution_count": null,
   "id": "55081aa0",
   "metadata": {
    "papermill": {
     "duration": 0.178837,
     "end_time": "2023-07-14T09:57:51.679774",
     "exception": false,
     "start_time": "2023-07-14T09:57:51.500937",
     "status": "completed"
    },
    "tags": []
   },
   "outputs": [],
   "source": [
    "artwork_crosstab_b = pd.crosstab(cards_df[\"Artwork\"], cards_df[\"Primary type\"])\n",
    "artwork_crosstab_b"
   ]
  },
  {
   "cell_type": "markdown",
   "id": "14a90117",
   "metadata": {
    "papermill": {
     "duration": 0.143331,
     "end_time": "2023-07-14T09:57:51.970393",
     "exception": false,
     "start_time": "2023-07-14T09:57:51.827062",
     "status": "completed"
    },
    "tags": []
   },
   "source": [
    "More granularity is unnecessary"
   ]
  },
  {
   "cell_type": "markdown",
   "id": "5210d61b",
   "metadata": {
    "papermill": {
     "duration": 0.142239,
     "end_time": "2023-07-14T09:57:52.254120",
     "exception": false,
     "start_time": "2023-07-14T09:57:52.111881",
     "status": "completed"
    },
    "tags": []
   },
   "source": [
    "## Errata"
   ]
  },
  {
   "cell_type": "code",
   "execution_count": null,
   "id": "09b33100",
   "metadata": {
    "papermill": {
     "duration": 0.159296,
     "end_time": "2023-07-14T09:57:52.555142",
     "exception": false,
     "start_time": "2023-07-14T09:57:52.395846",
     "status": "completed"
    },
    "tags": []
   },
   "outputs": [],
   "source": [
    "print(\"Total number of cards with errata:\", cards_df[\"Errata\"].count())"
   ]
  },
  {
   "cell_type": "code",
   "execution_count": null,
   "id": "40462eee",
   "metadata": {
    "papermill": {
     "duration": 0.178352,
     "end_time": "2023-07-14T09:57:52.875682",
     "exception": false,
     "start_time": "2023-07-14T09:57:52.697330",
     "status": "completed"
    },
    "tags": []
   },
   "outputs": [],
   "source": [
    "cards_df[[\"Name\", \"Password\", \"TCG status\", \"OCG status\", \"Errata\"]][\n",
    "    cards_df[\"Errata\"].notna()\n",
    "]"
   ]
  },
  {
   "cell_type": "code",
   "execution_count": null,
   "id": "9f7d97c2-8569-45b7-baba-01f33e56212b",
   "metadata": {
    "papermill": {
     "duration": 0.272303,
     "end_time": "2023-07-14T09:57:53.290181",
     "exception": false,
     "start_time": "2023-07-14T09:57:53.017878",
     "status": "completed"
    },
    "tags": []
   },
   "outputs": [],
   "source": [
    "errata_counts = (\n",
    "    cards_df.groupby(\"Errata\").nunique().sort_values(\"Name\", ascending=False)\n",
    ")\n",
    "errata_counts"
   ]
  },
  {
   "cell_type": "code",
   "execution_count": null,
   "id": "60843a4f",
   "metadata": {
    "papermill": {
     "duration": 0.311158,
     "end_time": "2023-07-14T09:57:53.747080",
     "exception": false,
     "start_time": "2023-07-14T09:57:53.435922",
     "status": "completed"
    },
    "tags": []
   },
   "outputs": [],
   "source": [
    "plt.figure(figsize=(20, 8))\n",
    "plt.title(\"Errata\")\n",
    "sorted_errata_name_counts = (\n",
    "    errata_counts[\"Name\"]\n",
    "    .drop((\"Any\",))\n",
    "    .sort_index(key=lambda x: [(len(i), i) for i in x])\n",
    ")\n",
    "venn2(\n",
    "    subsets=sorted_errata_name_counts,\n",
    "    set_labels=sorted_errata_name_counts.index[:-1].str[0],\n",
    ")\n",
    "plt.show()"
   ]
  },
  {
   "cell_type": "markdown",
   "id": "a3703983",
   "metadata": {
    "papermill": {
     "duration": 0.150389,
     "end_time": "2023-07-14T09:57:54.039810",
     "exception": false,
     "start_time": "2023-07-14T09:57:53.889421",
     "status": "completed"
    },
    "tags": []
   },
   "source": [
    "### By card type"
   ]
  },
  {
   "cell_type": "code",
   "execution_count": null,
   "id": "fb103c29",
   "metadata": {
    "papermill": {
     "duration": 0.182132,
     "end_time": "2023-07-14T09:57:54.366296",
     "exception": false,
     "start_time": "2023-07-14T09:57:54.184164",
     "status": "completed"
    },
    "tags": []
   },
   "outputs": [],
   "source": [
    "errata_crosstab = pd.crosstab(cards_df[\"Errata\"], cards_df[\"Card type\"])\n",
    "errata_crosstab.sort_values(by=errata_crosstab.columns.tolist(), ascending=False)"
   ]
  },
  {
   "cell_type": "markdown",
   "id": "36d241f1",
   "metadata": {
    "papermill": {
     "duration": 0.142888,
     "end_time": "2023-07-14T09:57:54.654553",
     "exception": false,
     "start_time": "2023-07-14T09:57:54.511665",
     "status": "completed"
    },
    "tags": []
   },
   "source": [
    "### By primary type"
   ]
  },
  {
   "cell_type": "code",
   "execution_count": null,
   "id": "5b90628d",
   "metadata": {
    "papermill": {
     "duration": 0.18355,
     "end_time": "2023-07-14T09:57:54.982143",
     "exception": false,
     "start_time": "2023-07-14T09:57:54.798593",
     "status": "completed"
    },
    "tags": []
   },
   "outputs": [],
   "source": [
    "errata_crosstab_b = pd.crosstab(cards_df[\"Errata\"], cards_df[\"Primary type\"])\n",
    "errata_crosstab_b.sort_values(by=errata_crosstab_b.columns.tolist(), ascending=False)"
   ]
  },
  {
   "cell_type": "markdown",
   "id": "0029e1ca",
   "metadata": {
    "papermill": {
     "duration": 0.147334,
     "end_time": "2023-07-14T09:57:55.286375",
     "exception": false,
     "start_time": "2023-07-14T09:57:55.139041",
     "status": "completed"
    },
    "tags": []
   },
   "source": [
    "More granularity is unnecessary"
   ]
  },
  {
   "cell_type": "markdown",
   "id": "35d88dda",
   "metadata": {
    "papermill": {
     "duration": 0.278739,
     "end_time": "2023-07-14T09:57:55.714540",
     "exception": false,
     "start_time": "2023-07-14T09:57:55.435801",
     "status": "completed"
    },
    "tags": []
   },
   "source": [
    "### By artwork"
   ]
  },
  {
   "cell_type": "code",
   "execution_count": null,
   "id": "0057def3",
   "metadata": {
    "papermill": {
     "duration": 0.209268,
     "end_time": "2023-07-14T09:57:56.205726",
     "exception": false,
     "start_time": "2023-07-14T09:57:55.996458",
     "status": "completed"
    },
    "tags": []
   },
   "outputs": [],
   "source": [
    "errata_crosstab_c = pd.crosstab(cards_df[\"Artwork\"], cards_df[\"Errata\"])\n",
    "errata_crosstab_c.sort_values(by=errata_crosstab_c.columns.tolist(), ascending=False)"
   ]
  },
  {
   "cell_type": "markdown",
   "id": "edef3194",
   "metadata": {
    "papermill": {
     "duration": 0.156898,
     "end_time": "2023-07-14T09:57:56.506212",
     "exception": false,
     "start_time": "2023-07-14T09:57:56.349314",
     "status": "completed"
    },
    "tags": []
   },
   "source": [
    "## TCG & OCG status"
   ]
  },
  {
   "cell_type": "markdown",
   "id": "3e7505cd",
   "metadata": {
    "papermill": {
     "duration": 0.145499,
     "end_time": "2023-07-14T09:57:56.799696",
     "exception": false,
     "start_time": "2023-07-14T09:57:56.654197",
     "status": "completed"
    },
    "tags": []
   },
   "source": [
    "### TGC status"
   ]
  },
  {
   "cell_type": "code",
   "execution_count": null,
   "id": "88b93fca",
   "metadata": {
    "papermill": {
     "duration": 0.161522,
     "end_time": "2023-07-14T09:57:57.111039",
     "exception": false,
     "start_time": "2023-07-14T09:57:56.949517",
     "status": "completed"
    },
    "tags": []
   },
   "outputs": [],
   "source": [
    "print(\"Total number of TCG status:\", cards_df[\"TCG status\"].nunique())"
   ]
  },
  {
   "cell_type": "code",
   "execution_count": null,
   "id": "2c69bec0",
   "metadata": {
    "papermill": {
     "duration": 0.287455,
     "end_time": "2023-07-14T09:57:57.544666",
     "exception": false,
     "start_time": "2023-07-14T09:57:57.257211",
     "status": "completed"
    },
    "tags": []
   },
   "outputs": [],
   "source": [
    "cards_df.drop(columns=[\"Page name\", \"Page URL\"]).groupby(\n",
    "    \"TCG status\", dropna=False\n",
    ").nunique()"
   ]
  },
  {
   "cell_type": "code",
   "execution_count": null,
   "id": "add82403",
   "metadata": {
    "papermill": {
     "duration": 0.760411,
     "end_time": "2023-07-14T09:57:58.449698",
     "exception": false,
     "start_time": "2023-07-14T09:57:57.689287",
     "status": "completed"
    },
    "tags": []
   },
   "outputs": [],
   "source": [
    "cards_df[\"TCG status\"].value_counts(dropna=False).plot.bar(\n",
    "    figsize=(18, 6), logy=True, grid=True, rot=45, title=\"TCG status\"\n",
    ")\n",
    "plt.show()"
   ]
  },
  {
   "cell_type": "markdown",
   "id": "f6b985a0",
   "metadata": {
    "papermill": {
     "duration": 0.150402,
     "end_time": "2023-07-14T09:57:58.750057",
     "exception": false,
     "start_time": "2023-07-14T09:57:58.599655",
     "status": "completed"
    },
    "tags": []
   },
   "source": [
    "#### By card type"
   ]
  },
  {
   "cell_type": "code",
   "execution_count": null,
   "id": "12c444ed",
   "metadata": {
    "papermill": {
     "duration": 0.192167,
     "end_time": "2023-07-14T09:57:59.089554",
     "exception": false,
     "start_time": "2023-07-14T09:57:58.897387",
     "status": "completed"
    },
    "tags": []
   },
   "outputs": [],
   "source": [
    "# Remove unlimited\n",
    "tcg_crosstab = pd.crosstab(cards_df[\"Card type\"], cards_df[\"TCG status\"]).drop(\n",
    "    [\"Unlimited\"], axis=1\n",
    ")\n",
    "tcg_crosstab"
   ]
  },
  {
   "cell_type": "code",
   "execution_count": null,
   "id": "8648b51e",
   "metadata": {
    "papermill": {
     "duration": 0.607684,
     "end_time": "2023-07-14T09:57:59.848451",
     "exception": false,
     "start_time": "2023-07-14T09:57:59.240767",
     "status": "completed"
    },
    "tags": []
   },
   "outputs": [],
   "source": [
    "plt.figure(figsize=(12, 6))\n",
    "sns.heatmap(\n",
    "    tcg_crosstab[tcg_crosstab > 0],\n",
    "    annot=True,\n",
    "    fmt=\"g\",\n",
    "    cmap=\"viridis\",\n",
    "    norm=mc.LogNorm(),\n",
    ")\n",
    "plt.show()"
   ]
  },
  {
   "cell_type": "markdown",
   "id": "521f367b",
   "metadata": {
    "papermill": {
     "duration": 0.145254,
     "end_time": "2023-07-14T09:58:00.139141",
     "exception": false,
     "start_time": "2023-07-14T09:57:59.993887",
     "status": "completed"
    },
    "tags": []
   },
   "source": [
    "#### By monster type"
   ]
  },
  {
   "cell_type": "code",
   "execution_count": null,
   "id": "bb73564f",
   "metadata": {
    "papermill": {
     "duration": 0.210944,
     "end_time": "2023-07-14T09:58:00.542795",
     "exception": false,
     "start_time": "2023-07-14T09:58:00.331851",
     "status": "completed"
    },
    "tags": []
   },
   "outputs": [],
   "source": [
    "# Remove unlimited\n",
    "tcg_crosstab_b = pd.crosstab(cards_df[\"Monster type\"], cards_df[\"TCG status\"]).drop(\n",
    "    [\"Unlimited\"], axis=1\n",
    ")\n",
    "tcg_crosstab_b"
   ]
  },
  {
   "cell_type": "code",
   "execution_count": null,
   "id": "dd5e826c",
   "metadata": {
    "papermill": {
     "duration": 0.985391,
     "end_time": "2023-07-14T09:58:01.741057",
     "exception": false,
     "start_time": "2023-07-14T09:58:00.755666",
     "status": "completed"
    },
    "tags": []
   },
   "outputs": [],
   "source": [
    "plt.figure(figsize=(20, 5))\n",
    "sns.heatmap(\n",
    "    tcg_crosstab_b[tcg_crosstab_b > 0].T,\n",
    "    annot=True,\n",
    "    fmt=\"g\",\n",
    "    cmap=\"viridis\",\n",
    "    square=True,\n",
    ")\n",
    "plt.show()"
   ]
  },
  {
   "cell_type": "markdown",
   "id": "b0e7d771",
   "metadata": {
    "papermill": {
     "duration": 0.269889,
     "end_time": "2023-07-14T09:58:02.215212",
     "exception": false,
     "start_time": "2023-07-14T09:58:01.945323",
     "status": "completed"
    },
    "tags": []
   },
   "source": [
    "#### By archseries"
   ]
  },
  {
   "cell_type": "code",
   "execution_count": null,
   "id": "05fc1f77",
   "metadata": {
    "papermill": {
     "duration": 0.238342,
     "end_time": "2023-07-14T09:58:02.601684",
     "exception": false,
     "start_time": "2023-07-14T09:58:02.363342",
     "status": "completed"
    },
    "tags": []
   },
   "outputs": [],
   "source": [
    "# Remove unlimited\n",
    "tcg_crosstab_c = pd.crosstab(\n",
    "    exploded_archseries[\"Archseries\"].where(\n",
    "        exploded_archseries[\"OCG status\"] != \"Unlimited\"\n",
    "    ),\n",
    "    exploded_archseries[\"TCG status\"],\n",
    "    margins=True,\n",
    ")\n",
    "tcg_crosstab_c"
   ]
  },
  {
   "cell_type": "markdown",
   "id": "af202b20",
   "metadata": {
    "papermill": {
     "duration": 0.150133,
     "end_time": "2023-07-14T09:58:02.900421",
     "exception": false,
     "start_time": "2023-07-14T09:58:02.750288",
     "status": "completed"
    },
    "tags": []
   },
   "source": [
    "### OCG status"
   ]
  },
  {
   "cell_type": "code",
   "execution_count": null,
   "id": "0b01a31b",
   "metadata": {
    "papermill": {
     "duration": 0.17299,
     "end_time": "2023-07-14T09:58:03.221243",
     "exception": false,
     "start_time": "2023-07-14T09:58:03.048253",
     "status": "completed"
    },
    "tags": []
   },
   "outputs": [],
   "source": [
    "print(\"Total number of OCG status:\", cards_df[\"OCG status\"].nunique())"
   ]
  },
  {
   "cell_type": "code",
   "execution_count": null,
   "id": "13b7b5c8",
   "metadata": {
    "papermill": {
     "duration": 0.28514,
     "end_time": "2023-07-14T09:58:03.654716",
     "exception": false,
     "start_time": "2023-07-14T09:58:03.369576",
     "status": "completed"
    },
    "tags": []
   },
   "outputs": [],
   "source": [
    "cards_df.drop(columns=[\"Page name\", \"Page URL\"]).groupby(\n",
    "    \"OCG status\", dropna=False\n",
    ").nunique()"
   ]
  },
  {
   "cell_type": "code",
   "execution_count": null,
   "id": "baff20b2",
   "metadata": {
    "papermill": {
     "duration": 0.729622,
     "end_time": "2023-07-14T09:58:04.538417",
     "exception": false,
     "start_time": "2023-07-14T09:58:03.808795",
     "status": "completed"
    },
    "tags": []
   },
   "outputs": [],
   "source": [
    "cards_df[\"OCG status\"].value_counts(dropna=False).plot.bar(\n",
    "    figsize=(18, 6), logy=True, grid=True, rot=45, title=\"TCG status\"\n",
    ")\n",
    "plt.show()"
   ]
  },
  {
   "cell_type": "markdown",
   "id": "5c4bf980",
   "metadata": {
    "papermill": {
     "duration": 0.149122,
     "end_time": "2023-07-14T09:58:04.836547",
     "exception": false,
     "start_time": "2023-07-14T09:58:04.687425",
     "status": "completed"
    },
    "tags": []
   },
   "source": [
    "#### By card type"
   ]
  },
  {
   "cell_type": "code",
   "execution_count": null,
   "id": "4863280e",
   "metadata": {
    "papermill": {
     "duration": 0.193357,
     "end_time": "2023-07-14T09:58:05.179222",
     "exception": false,
     "start_time": "2023-07-14T09:58:04.985865",
     "status": "completed"
    },
    "tags": []
   },
   "outputs": [],
   "source": [
    "# Remove unlimited\n",
    "ocg_crosstab = pd.crosstab(cards_df[\"Card type\"], cards_df[\"OCG status\"]).drop(\n",
    "    [\"Unlimited\"], axis=1\n",
    ")\n",
    "ocg_crosstab"
   ]
  },
  {
   "cell_type": "code",
   "execution_count": null,
   "id": "e8489887",
   "metadata": {
    "papermill": {
     "duration": 0.475457,
     "end_time": "2023-07-14T09:58:05.804675",
     "exception": false,
     "start_time": "2023-07-14T09:58:05.329218",
     "status": "completed"
    },
    "tags": []
   },
   "outputs": [],
   "source": [
    "plt.figure(figsize=(12, 6))\n",
    "sns.heatmap(ocg_crosstab[ocg_crosstab > 0], annot=True, fmt=\"g\", cmap=\"viridis\")\n",
    "plt.show()"
   ]
  },
  {
   "cell_type": "markdown",
   "id": "32f682d2",
   "metadata": {
    "papermill": {
     "duration": 0.151872,
     "end_time": "2023-07-14T09:58:06.111430",
     "exception": false,
     "start_time": "2023-07-14T09:58:05.959558",
     "status": "completed"
    },
    "tags": []
   },
   "source": [
    "#### By monster type"
   ]
  },
  {
   "cell_type": "code",
   "execution_count": null,
   "id": "3dbadcb8",
   "metadata": {
    "papermill": {
     "duration": 0.212264,
     "end_time": "2023-07-14T09:58:06.476724",
     "exception": false,
     "start_time": "2023-07-14T09:58:06.264460",
     "status": "completed"
    },
    "tags": []
   },
   "outputs": [],
   "source": [
    "ocg_crosstab_b = pd.crosstab(cards_df[\"Monster type\"], cards_df[\"OCG status\"]).drop(\n",
    "    [\"Unlimited\"], axis=1\n",
    ")\n",
    "ocg_crosstab_b"
   ]
  },
  {
   "cell_type": "code",
   "execution_count": null,
   "id": "4743b0c1",
   "metadata": {
    "papermill": {
     "duration": 0.875916,
     "end_time": "2023-07-14T09:58:07.504547",
     "exception": false,
     "start_time": "2023-07-14T09:58:06.628631",
     "status": "completed"
    },
    "tags": []
   },
   "outputs": [],
   "source": [
    "plt.figure(figsize=(20, 5))\n",
    "sns.heatmap(\n",
    "    ocg_crosstab_b[ocg_crosstab_b > 0].T,\n",
    "    annot=True,\n",
    "    fmt=\"g\",\n",
    "    cmap=\"viridis\",\n",
    "    square=True,\n",
    ")\n",
    "plt.show()"
   ]
  },
  {
   "cell_type": "markdown",
   "id": "19d9067b",
   "metadata": {
    "papermill": {
     "duration": 1.029432,
     "end_time": "2023-07-14T09:58:08.768188",
     "exception": false,
     "start_time": "2023-07-14T09:58:07.738756",
     "status": "completed"
    },
    "tags": []
   },
   "source": [
    "#### By archseries"
   ]
  },
  {
   "cell_type": "code",
   "execution_count": null,
   "id": "d866a6e2",
   "metadata": {
    "papermill": {
     "duration": 0.244349,
     "end_time": "2023-07-14T09:58:09.262072",
     "exception": false,
     "start_time": "2023-07-14T09:58:09.017723",
     "status": "completed"
    },
    "tags": []
   },
   "outputs": [],
   "source": [
    "# Remove unlimited\n",
    "ocg_crosstab_c = pd.crosstab(\n",
    "    exploded_archseries[\"Archseries\"].where(\n",
    "        exploded_archseries[\"OCG status\"] != \"Unlimited\"\n",
    "    ),\n",
    "    exploded_archseries[\"OCG status\"],\n",
    "    margins=True,\n",
    ")\n",
    "ocg_crosstab_c"
   ]
  },
  {
   "cell_type": "markdown",
   "id": "c5b33198",
   "metadata": {
    "papermill": {
     "duration": 0.302509,
     "end_time": "2023-07-14T09:58:09.717049",
     "exception": false,
     "start_time": "2023-07-14T09:58:09.414540",
     "status": "completed"
    },
    "tags": []
   },
   "source": [
    "### TCG vs. OCG status"
   ]
  },
  {
   "cell_type": "code",
   "execution_count": null,
   "id": "14f2101b",
   "metadata": {
    "papermill": {
     "duration": 0.20042,
     "end_time": "2023-07-14T09:58:10.070368",
     "exception": false,
     "start_time": "2023-07-14T09:58:09.869948",
     "status": "completed"
    },
    "tags": []
   },
   "outputs": [],
   "source": [
    "cg_crosstab = pd.crosstab(\n",
    "    cards_df[\"OCG status\"], cards_df[\"TCG status\"], dropna=False, margins=False\n",
    ")\n",
    "cg_crosstab"
   ]
  },
  {
   "cell_type": "code",
   "execution_count": null,
   "id": "d10c5c81",
   "metadata": {
    "papermill": {
     "duration": 0.896779,
     "end_time": "2023-07-14T09:58:11.117964",
     "exception": false,
     "start_time": "2023-07-14T09:58:10.221185",
     "status": "completed"
    },
    "tags": []
   },
   "outputs": [],
   "source": [
    "plt.figure(figsize=(10, 8))\n",
    "sns.heatmap(\n",
    "    cg_crosstab[cg_crosstab > 0],\n",
    "    annot=True,\n",
    "    fmt=\"g\",\n",
    "    cmap=\"viridis\",\n",
    "    square=True,\n",
    "    norm=mc.LogNorm(),\n",
    ")\n",
    "plt.show()"
   ]
  },
  {
   "cell_type": "markdown",
   "id": "95d94158-0922-4085-b2c7-d7fa24f40038",
   "metadata": {
    "papermill": {
     "duration": 0.156571,
     "end_time": "2023-07-14T09:58:11.431174",
     "exception": false,
     "start_time": "2023-07-14T09:58:11.274603",
     "status": "completed"
    },
    "tags": []
   },
   "source": [
    "# Extras"
   ]
  },
  {
   "cell_type": "markdown",
   "id": "81de3001-152d-4f35-9978-b8f895a91cc1",
   "metadata": {
    "papermill": {
     "duration": 0.152829,
     "end_time": "2023-07-14T09:58:11.737291",
     "exception": false,
     "start_time": "2023-07-14T09:58:11.584462",
     "status": "completed"
    },
    "tags": []
   },
   "source": [
    "## Multiple secondary types"
   ]
  },
  {
   "cell_type": "code",
   "execution_count": null,
   "id": "7efee39e-a0b5-4636-bcd4-cb9c75e11888",
   "metadata": {
    "papermill": {
     "duration": 0.20609,
     "end_time": "2023-07-14T09:58:12.095529",
     "exception": false,
     "start_time": "2023-07-14T09:58:11.889439",
     "status": "completed"
    },
    "tags": []
   },
   "outputs": [],
   "source": [
    "cards_df.dropna(subset=\"Secondary type\", axis=0)[\n",
    "    [len(x) > 1 for x in cards_df[\"Secondary type\"].dropna()]\n",
    "]"
   ]
  },
  {
   "cell_type": "markdown",
   "id": "a1bdb3eb-7f83-49a8-92a2-a8a05e6253c7",
   "metadata": {
    "papermill": {
     "duration": 0.154257,
     "end_time": "2023-07-14T09:58:12.403209",
     "exception": false,
     "start_time": "2023-07-14T09:58:12.248952",
     "status": "completed"
    },
    "tags": []
   },
   "source": [
    "## Not yet released"
   ]
  },
  {
   "cell_type": "code",
   "execution_count": null,
   "id": "6ca6f265",
   "metadata": {
    "papermill": {
     "duration": 0.189152,
     "end_time": "2023-07-14T09:58:12.747592",
     "exception": false,
     "start_time": "2023-07-14T09:58:12.558440",
     "status": "completed"
    },
    "tags": []
   },
   "outputs": [],
   "source": [
    "cards_df.loc[cards_df[\"OCG status\"] == \"Not yet released\"].loc[\n",
    "    full_df[\"TCG status\"] == \"Not yet released\"\n",
    "]"
   ]
  },
  {
   "cell_type": "markdown",
   "id": "b53361a5-0528-4691-a8ca-c015e4802d9c",
   "metadata": {
    "papermill": {
     "duration": 0.15764,
     "end_time": "2023-07-14T09:58:13.063665",
     "exception": false,
     "start_time": "2023-07-14T09:58:12.906025",
     "status": "completed"
    },
    "tags": []
   },
   "source": [
    "## Counters and Tokens"
   ]
  },
  {
   "cell_type": "code",
   "execution_count": null,
   "id": "4022c3ca-bd45-4870-b233-7fdd5b1639a7",
   "metadata": {
    "papermill": {
     "duration": 0.203501,
     "end_time": "2023-07-14T09:58:13.423018",
     "exception": false,
     "start_time": "2023-07-14T09:58:13.219517",
     "status": "completed"
    },
    "tags": []
   },
   "outputs": [],
   "source": [
    "token_df.dropna(how=\"all\", axis=1)"
   ]
  },
  {
   "cell_type": "markdown",
   "id": "5a48e113-5c3f-48cd-a6a4-d1b779b8d834",
   "metadata": {
    "papermill": {
     "duration": 0.165033,
     "end_time": "2023-07-14T09:58:13.754054",
     "exception": false,
     "start_time": "2023-07-14T09:58:13.589021",
     "status": "completed"
    },
    "tags": []
   },
   "source": [
    "# Page name differs from card name"
   ]
  },
  {
   "cell_type": "code",
   "execution_count": null,
   "id": "4f3c09e4-ca0e-437b-82ed-7f1939b29886",
   "metadata": {
    "papermill": {
     "duration": 0.209789,
     "end_time": "2023-07-14T09:58:14.119943",
     "exception": false,
     "start_time": "2023-07-14T09:58:13.910154",
     "status": "completed"
    },
    "tags": []
   },
   "outputs": [],
   "source": [
    "full_df[full_df[\"Name\"] != full_df[\"Page name\"]]"
   ]
  },
  {
   "cell_type": "markdown",
   "id": "4058f0b9-3031-4daa-8a4a-2dddf8c74c07",
   "metadata": {
    "papermill": {
     "duration": 0.167003,
     "end_time": "2023-07-14T09:58:14.456621",
     "exception": false,
     "start_time": "2023-07-14T09:58:14.289618",
     "status": "completed"
    },
    "tags": []
   },
   "source": [
    "# Epilogue"
   ]
  },
  {
   "cell_type": "code",
   "execution_count": null,
   "id": "871cb3eb-a0fc-42e8-b516-6d524deba2fc",
   "metadata": {
    "papermill": {
     "duration": 0.414195,
     "end_time": "2023-07-14T09:58:15.037987",
     "exception": false,
     "start_time": "2023-07-14T09:58:14.623792",
     "status": "completed"
    },
    "tags": []
   },
   "outputs": [],
   "source": [
    "benchmark(\"cards\", timestamp)"
   ]
  },
  {
   "cell_type": "code",
   "execution_count": null,
   "id": "310f7d3e-ab76-4c5b-bf3d-f6898d559118",
   "metadata": {
    "papermill": {
     "duration": 0.170166,
     "end_time": "2023-07-14T09:58:15.363674",
     "exception": false,
     "start_time": "2023-07-14T09:58:15.193508",
     "status": "completed"
    },
    "tags": []
   },
   "outputs": [],
   "source": [
    "footer(timestamp)"
   ]
  },
  {
   "cell_type": "markdown",
   "id": "fade81da",
   "metadata": {
    "papermill": {
     "duration": 0.156246,
     "end_time": "2023-07-14T09:58:15.677070",
     "exception": false,
     "start_time": "2023-07-14T09:58:15.520824",
     "status": "completed"
    },
    "tags": []
   },
   "source": [
    "## HTML export"
   ]
  },
  {
   "cell_type": "code",
   "execution_count": null,
   "id": "6715b83e-9a4e-423c-81b9-33a81603acd4",
   "metadata": {
    "papermill": {
     "duration": 0.175438,
     "end_time": "2023-07-14T09:58:16.008627",
     "exception": false,
     "start_time": "2023-07-14T09:58:15.833189",
     "status": "completed"
    },
    "tags": []
   },
   "outputs": [],
   "source": [
    "# Save notebook on disck before generating HTML report\n",
    "save_notebook()"
   ]
  },
  {
   "cell_type": "code",
   "execution_count": null,
   "id": "de556e8b",
   "metadata": {
    "papermill": {
     "duration": 3.503935,
     "end_time": "2023-07-14T09:58:19.673032",
     "exception": false,
     "start_time": "2023-07-14T09:58:16.169097",
     "status": "completed"
    },
    "tags": []
   },
   "outputs": [],
   "source": [
    "! jupyter nbconvert Cards.ipynb --output-dir='../' --to=HTML --TagRemovePreprocessor.enabled=True --TagRemovePreprocessor.remove_cell_tags='exclude' --TemplateExporter.exclude_input=True --TemplateExporter.exclude_input_prompt=True --TemplateExporter.exclude_output_prompt=True"
   ]
  },
  {
   "cell_type": "markdown",
   "id": "641a7018-0f50-4ab6-b8f3-119a279cbc65",
   "metadata": {
    "papermill": {
     "duration": 0.156135,
     "end_time": "2023-07-14T09:58:19.986094",
     "exception": false,
     "start_time": "2023-07-14T09:58:19.829959",
     "status": "completed"
    },
    "tags": [
     "exclude"
    ]
   },
   "source": [
    "## Git"
   ]
  },
  {
   "cell_type": "code",
   "execution_count": null,
   "id": "cba1eb00-d9c2-491a-95b3-5ce0a0524d59",
   "metadata": {
    "papermill": {
     "duration": null,
     "end_time": null,
     "exception": false,
     "start_time": "2023-07-14T09:58:20.147547",
     "status": "running"
    },
    "tags": [
     "exclude"
    ]
   },
   "outputs": [],
   "source": [
    "! git add \"../*[Cc]ards*\""
   ]
  },
  {
   "cell_type": "code",
   "execution_count": null,
   "id": "6f1f8303-30c6-4aaa-b45e-f6d5f5ece30e",
   "metadata": {
    "papermill": {
     "duration": null,
     "end_time": null,
     "exception": null,
     "start_time": null,
     "status": "pending"
    },
    "tags": [
     "exclude"
    ]
   },
   "outputs": [],
   "source": [
    "! git commit -m {\"'Cards update-\" + timestamp.isoformat() + \"'\"}"
   ]
  }
 ],
 "metadata": {
  "kernelspec": {
   "display_name": "Python 3 (ipykernel)",
   "language": "python",
   "name": "python3"
  },
  "language_info": {
   "codemirror_mode": {
    "name": "ipython",
    "version": 3
   },
   "file_extension": ".py",
   "mimetype": "text/x-python",
   "name": "python",
   "nbconvert_exporter": "python",
   "pygments_lexer": "ipython3",
   "version": "3.10.12"
  },
  "papermill": {
   "default_parameters": {},
   "duration": null,
   "end_time": null,
   "environment_variables": {},
   "exception": null,
   "input_path": "Cards.ipynb",
   "output_path": "Cards.ipynb",
   "parameters": {},
   "start_time": "2023-07-14T09:55:05.088944",
   "version": "2.4.0"
  },
  "toc": {
   "base_numbering": 1,
   "nav_menu": {
    "height": "599px",
    "width": "228px"
   },
   "number_sections": true,
   "sideBar": true,
   "skip_h1_title": false,
   "title_cell": "Table of Contents",
   "title_sidebar": "Contents",
   "toc_cell": true,
   "toc_position": {
    "height": "calc(100% - 180px)",
    "left": "10px",
    "top": "150px",
    "width": "353px"
   },
   "toc_section_display": true,
   "toc_window_display": true
  },
  "toc-autonumbering": false,
  "toc-showcode": false,
  "toc-showmarkdowntxt": false
 },
 "nbformat": 4,
 "nbformat_minor": 5
}
