{
 "cells": [
  {
   "cell_type": "code",
   "execution_count": null,
   "id": "82c61f6c-3c7a-4460-b466-9c521973fa5d",
   "metadata": {
    "papermill": {
     "duration": 2.66877,
     "end_time": "2023-12-04T15:44:44.949961",
     "exception": false,
     "start_time": "2023-12-04T15:44:42.281191",
     "status": "completed"
    },
    "tags": []
   },
   "outputs": [],
   "source": [
    "from yugiquery import *\n",
    "\n",
    "init_notebook_mode(all_interactive=True)\n",
    "\n",
    "header(\"Cards\")"
   ]
  },
  {
   "cell_type": "markdown",
   "id": "48cd2c04-37eb-408f-86ee-17e204a2cea9",
   "metadata": {
    "papermill": {
     "duration": 0.063276,
     "end_time": "2023-12-04T15:44:45.077347",
     "exception": false,
     "start_time": "2023-12-04T15:44:45.014071",
     "status": "completed"
    },
    "tags": []
   },
   "source": [
    "---"
   ]
  },
  {
   "cell_type": "markdown",
   "id": "6e66c226",
   "metadata": {
    "papermill": {
     "duration": 0.063814,
     "end_time": "2023-12-04T15:44:45.206012",
     "exception": false,
     "start_time": "2023-12-04T15:44:45.142198",
     "status": "completed"
    },
    "tags": [],
    "toc": true
   },
   "source": [
    "Table of Contents\n",
    "=================\n",
    "\n",
    "*   [1  Data aquisition](#Data-aquisition)\n",
    "    *   [1.1  Fetch online data](#Fetch-online-data)\n",
    "    *   [1.2  Merge data](#Merge-data)\n",
    "*   [2  Check changes](#Check-changes)\n",
    "    *   [2.1  Load previous data](#Load-previous-data)\n",
    "    *   [2.2  Generate changelog](#Generate-changelog)\n",
    "    *   [2.3  Save data](#Save-data)\n",
    "*   [3  Data visualization](#Data-visualization)\n",
    "    *   [3.1  Full data](#Full-data)\n",
    "    *   [3.2  Card types](#Card-types)\n",
    "    *   [3.3  Monsters](#Monsters)\n",
    "        *   [3.3.1  Attributes](#Attributes)\n",
    "        *   [3.3.2  Primary types](#Primary-types)\n",
    "            *   [3.3.2.1  Has effect discrimination](#Has-effect-discrimination)\n",
    "            *   [3.3.2.2  Is pendulum discrimination](#Is-pendulum-discrimination)\n",
    "            *   [3.3.2.3  By attribute](#By-attribute)\n",
    "        *   [3.3.3  Secondary types](#Secondary-types)\n",
    "            *   [3.3.3.1  By attribute](#By-attribute)\n",
    "            *   [3.3.3.2  By secondary type](#By-secondary-type)\n",
    "        *   [3.3.4  Monster types](#Monster-types)\n",
    "            *   [3.3.4.1  By Attribute](#By-Attribute)\n",
    "            *   [3.3.4.2  By primary type](#By-primary-type)\n",
    "            *   [3.3.4.3  By secondary type](#By-secondary-type)\n",
    "        *   [3.3.5  ATK](#ATK)\n",
    "        *   [3.3.6  DEF](#DEF)\n",
    "        *   [3.3.7  Level/Rank](#Level/Rank)\n",
    "            *   [3.3.7.1  ATK statistics](#ATK-statistics)\n",
    "            *   [3.3.7.2  DEF statistics](#DEF-statistics)\n",
    "        *   [3.3.8  Pendulum scale](#Pendulum-scale)\n",
    "            *   [3.3.8.1  ATK statistics](#ATK-statistics)\n",
    "            *   [3.3.8.2  DEF statistics](#DEF-statistics)\n",
    "            *   [3.3.8.3  Level/Rank statistics](#Level/Rank-statistics)\n",
    "        *   [3.3.9  Link](#Link)\n",
    "            *   [3.3.9.1  ATK statistics](#ATK-statistics)\n",
    "        *   [3.3.10  Link Arrows](#Link-Arrows)\n",
    "            *   [3.3.10.1  By combination](#By-combination)\n",
    "            *   [3.3.10.2  By unique](#By-unique)\n",
    "            *   [3.3.10.3  By link](#By-link)\n",
    "    *   [3.4  Spell & Trap](#Spell-&-Trap)\n",
    "        *   [3.4.1  Properties](#Properties)\n",
    "    *   [3.5  Effect type](#Effect-type)\n",
    "        *   [3.5.1  Card type discrimination](#Card-type-discrimination)\n",
    "    *   [3.6  Archseries](#Archseries)\n",
    "        *   [3.6.1  By card type](#By-card-type)\n",
    "        *   [3.6.2  By primary type](#By-primary-type)\n",
    "        *   [3.6.3  By secondary type](#By-secondary-type)\n",
    "        *   [3.6.4  By monster type](#By-monster-type)\n",
    "        *   [3.6.5  By property](#By-property)\n",
    "    *   [3.7  Artworks](#Artworks)\n",
    "        *   [3.7.1  By card type](#By-card-type)\n",
    "        *   [3.7.2  By primary type](#By-primary-type)\n",
    "    *   [3.8  Errata](#Errata)\n",
    "        *   [3.8.1  By card type](#By-card-type)\n",
    "        *   [3.8.2  By primary type](#By-primary-type)\n",
    "        *   [3.8.3  By artwork](#By-artwork)\n",
    "    *   [3.9  TCG & OCG status](#TCG-&-OCG-status)\n",
    "        *   [3.9.1  TGC status](#TGC-status)\n",
    "            *   [3.9.1.1  By card type](#By-card-type)\n",
    "            *   [3.9.1.2  By monster type](#By-monster-type)\n",
    "            *   [3.9.1.3  By archseries](#By-archseries)\n",
    "        *   [3.9.2  OCG status](#OCG-status)\n",
    "            *   [3.9.2.1  By card type](#By-card-type)\n",
    "            *   [3.9.2.2  By monster type](#By-monster-type)\n",
    "            *   [3.9.2.3  By archseries](#By-archseries)\n",
    "        *   [3.9.3  TCG vs. OCG status](#TCG-vs.-OCG-status)\n",
    "*   [4  Extras](#Extras)\n",
    "    *   [4.1 Multiple secondary types](#Multiple-secondary-types)\n",
    "    *   [4.2 Not yet released](#Not-yet-released)\n",
    "    *   [4.3 Counters and Tokens](#Counters-and-Tokens)\n",
    "*   [5  Epilogue](#Epilogue)\n",
    "    *   [5.1  HTML export](#HTML-export)\n",
    "<!-- *   [5.2  Git](#Git) -->"
   ]
  },
  {
   "cell_type": "markdown",
   "id": "b60fae74",
   "metadata": {
    "papermill": {
     "duration": 0.06413,
     "end_time": "2023-12-04T15:44:45.339441",
     "exception": false,
     "start_time": "2023-12-04T15:44:45.275311",
     "status": "completed"
    },
    "tags": []
   },
   "source": [
    "# Data aquisition"
   ]
  },
  {
   "cell_type": "markdown",
   "id": "699f2460",
   "metadata": {
    "papermill": {
     "duration": 0.062385,
     "end_time": "2023-12-04T15:44:45.465447",
     "exception": false,
     "start_time": "2023-12-04T15:44:45.403062",
     "status": "completed"
    },
    "tags": []
   },
   "source": [
    "## Fetch online data"
   ]
  },
  {
   "cell_type": "code",
   "execution_count": null,
   "id": "135ab538",
   "metadata": {
    "papermill": {
     "duration": 0.07249,
     "end_time": "2023-12-04T15:44:45.603052",
     "exception": false,
     "start_time": "2023-12-04T15:44:45.530562",
     "status": "completed"
    },
    "tags": []
   },
   "outputs": [],
   "source": [
    "# Timestamp\n",
    "timestamp = arrow.utcnow()"
   ]
  },
  {
   "cell_type": "code",
   "execution_count": null,
   "id": "a5ac8487-bb9d-472c-857a-409b7eed3e2c",
   "metadata": {
    "papermill": {
     "duration": 64.969036,
     "end_time": "2023-12-04T15:45:50.640333",
     "exception": false,
     "start_time": "2023-12-04T15:44:45.671297",
     "status": "completed"
    },
    "tags": []
   },
   "outputs": [],
   "source": [
    "# Fetch Monster\n",
    "monster_df = fetch_monster()"
   ]
  },
  {
   "cell_type": "code",
   "execution_count": null,
   "id": "f62e94af-db1f-4ba5-9a7c-979b919625f3",
   "metadata": {
    "papermill": {
     "duration": 26.212919,
     "end_time": "2023-12-04T15:46:16.952412",
     "exception": false,
     "start_time": "2023-12-04T15:45:50.739493",
     "status": "completed"
    },
    "tags": []
   },
   "outputs": [],
   "source": [
    "# Fetch Spell\n",
    "spell_df = fetch_st(st=\"Spell\")\n",
    "\n",
    "# Fetch Trap\n",
    "trap_df = fetch_st(st=\"Trap\")"
   ]
  },
  {
   "cell_type": "code",
   "execution_count": null,
   "id": "913baa55-a117-4794-9b0c-9839cce927df",
   "metadata": {
    "papermill": {
     "duration": 4.775129,
     "end_time": "2023-12-04T15:46:21.830649",
     "exception": false,
     "start_time": "2023-12-04T15:46:17.055520",
     "status": "completed"
    },
    "tags": []
   },
   "outputs": [],
   "source": [
    "# Fetch Token\n",
    "token_df = fetch_token()\n",
    "\n",
    "# Fetch Counter\n",
    "counter_df = fetch_counter()\n",
    "\n",
    "# Fetch errata\n",
    "errata_df = fetch_errata()"
   ]
  },
  {
   "cell_type": "markdown",
   "id": "ffe04a8e-544d-4e73-947d-de6d5615bca3",
   "metadata": {
    "papermill": {
     "duration": 0.067207,
     "end_time": "2023-12-04T15:46:21.995592",
     "exception": false,
     "start_time": "2023-12-04T15:46:21.928385",
     "status": "completed"
    },
    "tags": []
   },
   "source": [
    "## Merge data"
   ]
  },
  {
   "cell_type": "code",
   "execution_count": null,
   "id": "3669c6ff-2f6a-4a09-b80c-0cf361caf929",
   "metadata": {
    "papermill": {
     "duration": 0.865428,
     "end_time": "2023-12-04T15:46:22.931311",
     "exception": false,
     "start_time": "2023-12-04T15:46:22.065883",
     "status": "completed"
    },
    "tags": []
   },
   "outputs": [],
   "source": [
    "# Merge errata\n",
    "monster_df = merge_errata(monster_df, errata_df)\n",
    "spell_df = merge_errata(spell_df, errata_df)\n",
    "trap_df = merge_errata(trap_df, errata_df)\n",
    "token_df = merge_errata(token_df, errata_df)\n",
    "counter_df = merge_errata(counter_df, errata_df)\n",
    "\n",
    "# Add counters to tokens data frame\n",
    "token_df = (\n",
    "    pd.concat([token_df, counter_df], ignore_index=True, axis=0)\n",
    "    .drop_duplicates()\n",
    "    .sort_values(\"Name\", ignore_index=True)\n",
    ")\n",
    "\n",
    "# Create combined spell and trap data frame\n",
    "st_df = pd.concat([spell_df, trap_df], ignore_index=True, axis=0).sort_values(\n",
    "    \"Name\", ignore_index=True\n",
    ")\n",
    "\n",
    "# Create combined monster, spell and trap data frames\n",
    "cards_df = pd.concat([st_df, monster_df], ignore_index=True, axis=0).sort_values(\n",
    "    \"Name\", ignore_index=True\n",
    ")\n",
    "\n",
    "# Create combined data frames with full data\n",
    "full_df = pd.concat([cards_df, token_df], ignore_index=True, axis=0).sort_values(\n",
    "    \"Name\", ignore_index=True\n",
    ")\n",
    "\n",
    "print(\"Data merged\")"
   ]
  },
  {
   "cell_type": "markdown",
   "id": "9ff0cf51",
   "metadata": {
    "papermill": {
     "duration": 0.067385,
     "end_time": "2023-12-04T15:46:23.071702",
     "exception": false,
     "start_time": "2023-12-04T15:46:23.004317",
     "status": "completed"
    },
    "tags": []
   },
   "source": [
    "# Check changes"
   ]
  },
  {
   "cell_type": "markdown",
   "id": "233e965d",
   "metadata": {
    "papermill": {
     "duration": 0.08641,
     "end_time": "2023-12-04T15:46:23.283909",
     "exception": false,
     "start_time": "2023-12-04T15:46:23.197499",
     "status": "completed"
    },
    "tags": []
   },
   "source": [
    "## Load previous data"
   ]
  },
  {
   "cell_type": "code",
   "execution_count": null,
   "id": "fb7dc6f8",
   "metadata": {
    "papermill": {
     "duration": 0.93835,
     "end_time": "2023-12-04T15:46:24.293872",
     "exception": false,
     "start_time": "2023-12-04T15:46:23.355522",
     "status": "completed"
    },
    "tags": []
   },
   "outputs": [],
   "source": [
    "# Get latest file if exist\n",
    "tuple_cols = [\n",
    "    \"Effect type\",\n",
    "    \"Secondary type\",\n",
    "    \"Link Arrows\",\n",
    "    \"Archseries\",\n",
    "    \"Artwork\",\n",
    "    \"Errata\",\n",
    "]\n",
    "previous_df, previous_ts = load_corrected_latest(\"cards\", tuple_cols)\n",
    "\n",
    "if previous_df is not None:\n",
    "    previous_df = previous_df.astype(\n",
    "        full_df[previous_df.columns.intersection(full_df.columns)].dtypes.to_dict()\n",
    "    )"
   ]
  },
  {
   "cell_type": "markdown",
   "id": "96ce5451",
   "metadata": {
    "papermill": {
     "duration": 0.071657,
     "end_time": "2023-12-04T15:46:24.462970",
     "exception": false,
     "start_time": "2023-12-04T15:46:24.391313",
     "status": "completed"
    },
    "tags": []
   },
   "source": [
    "## Generate changelog"
   ]
  },
  {
   "cell_type": "code",
   "execution_count": null,
   "id": "2fcca8f1",
   "metadata": {
    "papermill": {
     "duration": 0.377064,
     "end_time": "2023-12-04T15:46:24.911690",
     "exception": false,
     "start_time": "2023-12-04T15:46:24.534626",
     "status": "completed"
    },
    "tags": []
   },
   "outputs": [],
   "source": [
    "if previous_df is None:\n",
    "    changelog = None\n",
    "    print(\"Skipped\")\n",
    "else:\n",
    "    changelog = generate_changelog(previous_df, full_df, col=\"Name\")\n",
    "    if not changelog.empty:\n",
    "        display(changelog)\n",
    "        changelog.to_csv(\n",
    "            f'../data/{make_filename(report = \"cards\", timestamp = timestamp, previous_timestamp = previous_ts)}',\n",
    "            index=True,\n",
    "        )\n",
    "        print(\"Changelog saved\")"
   ]
  },
  {
   "cell_type": "markdown",
   "id": "9b15f8ec",
   "metadata": {
    "papermill": {
     "duration": 0.07354,
     "end_time": "2023-12-04T15:46:25.061721",
     "exception": false,
     "start_time": "2023-12-04T15:46:24.988181",
     "status": "completed"
    },
    "tags": []
   },
   "source": [
    "## Save data"
   ]
  },
  {
   "cell_type": "code",
   "execution_count": null,
   "id": "01e9eb77",
   "metadata": {
    "papermill": {
     "duration": 0.785835,
     "end_time": "2023-12-04T15:46:25.922187",
     "exception": false,
     "start_time": "2023-12-04T15:46:25.136352",
     "status": "completed"
    },
    "tags": []
   },
   "outputs": [],
   "source": [
    "if changelog is not None and changelog.empty:\n",
    "    print(\"No changes. New data not saved\")\n",
    "else:\n",
    "    full_df.to_csv(\n",
    "        f'../data/{make_filename(report = \"cards\", timestamp = timestamp)}', index=False\n",
    "    )\n",
    "    print(\"Data saved\")"
   ]
  },
  {
   "cell_type": "markdown",
   "id": "c0ae1017",
   "metadata": {
    "papermill": {
     "duration": 0.07153,
     "end_time": "2023-12-04T15:46:26.093384",
     "exception": false,
     "start_time": "2023-12-04T15:46:26.021854",
     "status": "completed"
    },
    "tags": []
   },
   "source": [
    "# Data visualization"
   ]
  },
  {
   "cell_type": "markdown",
   "id": "5ad091af",
   "metadata": {
    "papermill": {
     "duration": 0.071313,
     "end_time": "2023-12-04T15:46:26.235409",
     "exception": false,
     "start_time": "2023-12-04T15:46:26.164096",
     "status": "completed"
    },
    "tags": []
   },
   "source": [
    "## Full data"
   ]
  },
  {
   "cell_type": "code",
   "execution_count": null,
   "id": "fb024043",
   "metadata": {
    "papermill": {
     "duration": 0.257298,
     "end_time": "2023-12-04T15:46:26.575510",
     "exception": false,
     "start_time": "2023-12-04T15:46:26.318212",
     "status": "completed"
    },
    "tags": []
   },
   "outputs": [],
   "source": [
    "full_df"
   ]
  },
  {
   "cell_type": "markdown",
   "id": "da99ccde-ca38-4d81-8661-6f8514f689d7",
   "metadata": {
    "papermill": {
     "duration": 0.070904,
     "end_time": "2023-12-04T15:46:26.723964",
     "exception": false,
     "start_time": "2023-12-04T15:46:26.653060",
     "status": "completed"
    },
    "tags": []
   },
   "source": [
    "Full data available to download [here](../data)"
   ]
  },
  {
   "cell_type": "markdown",
   "id": "8a8cb7cd",
   "metadata": {
    "papermill": {
     "duration": 0.073553,
     "end_time": "2023-12-04T15:46:26.867217",
     "exception": false,
     "start_time": "2023-12-04T15:46:26.793664",
     "status": "completed"
    },
    "tags": []
   },
   "source": [
    "## Card types"
   ]
  },
  {
   "cell_type": "code",
   "execution_count": null,
   "id": "a4ec32e1",
   "metadata": {
    "papermill": {
     "duration": 0.09387,
     "end_time": "2023-12-04T15:46:27.038481",
     "exception": false,
     "start_time": "2023-12-04T15:46:26.944611",
     "status": "completed"
    },
    "tags": []
   },
   "outputs": [],
   "source": [
    "print(\"Total number of card types:\", cards_df[\"Card type\"].nunique())"
   ]
  },
  {
   "cell_type": "code",
   "execution_count": null,
   "id": "120a72dc",
   "metadata": {
    "papermill": {
     "duration": 0.365561,
     "end_time": "2023-12-04T15:46:27.482246",
     "exception": false,
     "start_time": "2023-12-04T15:46:27.116685",
     "status": "completed"
    },
    "tags": []
   },
   "outputs": [],
   "source": [
    "card_type_colors = [colors_dict[i] for i in full_df[\"Card type\"].unique()]\n",
    "cards_df[\"Card type\"].value_counts().plot.bar(\n",
    "    figsize=(18, 6), grid=True, rot=0, color=card_type_colors\n",
    ")\n",
    "plt.show()"
   ]
  },
  {
   "cell_type": "markdown",
   "id": "fa1ed03c",
   "metadata": {
    "papermill": {
     "duration": 0.071833,
     "end_time": "2023-12-04T15:46:27.660299",
     "exception": false,
     "start_time": "2023-12-04T15:46:27.588466",
     "status": "completed"
    },
    "tags": []
   },
   "source": [
    "## Monsters"
   ]
  },
  {
   "cell_type": "markdown",
   "id": "66c5f658",
   "metadata": {
    "papermill": {
     "duration": 0.074412,
     "end_time": "2023-12-04T15:46:27.807604",
     "exception": false,
     "start_time": "2023-12-04T15:46:27.733192",
     "status": "completed"
    },
    "tags": []
   },
   "source": [
    "### Attributes"
   ]
  },
  {
   "cell_type": "code",
   "execution_count": null,
   "id": "aa4e6a26",
   "metadata": {
    "papermill": {
     "duration": 0.093107,
     "end_time": "2023-12-04T15:46:27.980289",
     "exception": false,
     "start_time": "2023-12-04T15:46:27.887182",
     "status": "completed"
    },
    "tags": []
   },
   "outputs": [],
   "source": [
    "print(\"Total number of attributes:\", monster_df[\"Attribute\"].nunique())"
   ]
  },
  {
   "cell_type": "code",
   "execution_count": null,
   "id": "ea26720e",
   "metadata": {
    "papermill": {
     "duration": 0.17771,
     "end_time": "2023-12-04T15:46:28.237718",
     "exception": false,
     "start_time": "2023-12-04T15:46:28.060008",
     "status": "completed"
    },
    "tags": []
   },
   "outputs": [],
   "source": [
    "monster_df.drop(columns=[\"Card type\", \"Page name\", \"Page URL\"]).groupby(\n",
    "    \"Attribute\"\n",
    ").nunique()"
   ]
  },
  {
   "cell_type": "code",
   "execution_count": null,
   "id": "c4ff5f74",
   "metadata": {
    "papermill": {
     "duration": 0.39166,
     "end_time": "2023-12-04T15:46:28.704839",
     "exception": false,
     "start_time": "2023-12-04T15:46:28.313179",
     "status": "completed"
    },
    "tags": []
   },
   "outputs": [],
   "source": [
    "attribute_colors = [colors_dict[i] for i in monster_df[\"Attribute\"].unique()]\n",
    "monster_df[\"Attribute\"].value_counts().plot.bar(\n",
    "    figsize=(18, 6), grid=True, rot=0, color=attribute_colors\n",
    ")\n",
    "plt.show()"
   ]
  },
  {
   "cell_type": "markdown",
   "id": "d0d71936",
   "metadata": {
    "papermill": {
     "duration": 0.072325,
     "end_time": "2023-12-04T15:46:28.932397",
     "exception": false,
     "start_time": "2023-12-04T15:46:28.860072",
     "status": "completed"
    },
    "tags": []
   },
   "source": [
    "### Primary types"
   ]
  },
  {
   "cell_type": "code",
   "execution_count": null,
   "id": "26e45412",
   "metadata": {
    "papermill": {
     "duration": 0.180779,
     "end_time": "2023-12-04T15:46:29.355043",
     "exception": false,
     "start_time": "2023-12-04T15:46:29.174264",
     "status": "completed"
    },
    "tags": []
   },
   "outputs": [],
   "source": [
    "print(\"Total number of primary types:\", monster_df[\"Primary type\"].nunique())"
   ]
  },
  {
   "cell_type": "code",
   "execution_count": null,
   "id": "c7e4c6b0",
   "metadata": {
    "papermill": {
     "duration": 0.211471,
     "end_time": "2023-12-04T15:46:29.653863",
     "exception": false,
     "start_time": "2023-12-04T15:46:29.442392",
     "status": "completed"
    },
    "tags": []
   },
   "outputs": [],
   "source": [
    "monster_df.drop(columns=[\"Card type\", \"Page name\", \"Page URL\"]).groupby(\n",
    "    \"Primary type\"\n",
    ").nunique()"
   ]
  },
  {
   "cell_type": "markdown",
   "id": "d41d8e4a",
   "metadata": {
    "papermill": {
     "duration": 0.12162,
     "end_time": "2023-12-04T15:46:29.859912",
     "exception": false,
     "start_time": "2023-12-04T15:46:29.738292",
     "status": "completed"
    },
    "tags": []
   },
   "source": [
    "#### Has effect discrimination"
   ]
  },
  {
   "cell_type": "code",
   "execution_count": null,
   "id": "c14a59a2-0a34-4a99-a232-b04231647db5",
   "metadata": {
    "papermill": {
     "duration": 0.326807,
     "end_time": "2023-12-04T15:46:30.301499",
     "exception": false,
     "start_time": "2023-12-04T15:46:29.974692",
     "status": "completed"
    },
    "tags": []
   },
   "outputs": [],
   "source": [
    "effect = pd.crosstab(\n",
    "    monster_df[\"Primary type\"],\n",
    "    pd.isna(monster_df[\"Effect type\"]),\n",
    "    rownames=[\"Primary type\"],\n",
    "    colnames=[\"Has effect\"],\n",
    ").rename(columns={True: \"No Effect\", False: \"Effect\"})\n",
    "effect"
   ]
  },
  {
   "cell_type": "code",
   "execution_count": null,
   "id": "82c24448",
   "metadata": {
    "papermill": {
     "duration": 0.386946,
     "end_time": "2023-12-04T15:46:30.784990",
     "exception": false,
     "start_time": "2023-12-04T15:46:30.398044",
     "status": "completed"
    },
    "tags": []
   },
   "outputs": [],
   "source": [
    "monster_type_colors = {\n",
    "    \"No Effect\": colors_dict[\"Normal Monster\"],\n",
    "    \"Effect\": [colors_dict[i] for i in effect.index],\n",
    "}\n",
    "effect.plot.bar(\n",
    "    figsize=(18, 6),\n",
    "    stacked=True,\n",
    "    grid=True,\n",
    "    rot=0,\n",
    "    legend=True,\n",
    "    color=monster_type_colors,\n",
    ")\n",
    "# plt.yscale('log')\n",
    "plt.show()"
   ]
  },
  {
   "cell_type": "markdown",
   "id": "69d8824e",
   "metadata": {
    "papermill": {
     "duration": 0.085381,
     "end_time": "2023-12-04T15:46:30.983026",
     "exception": false,
     "start_time": "2023-12-04T15:46:30.897645",
     "status": "completed"
    },
    "tags": []
   },
   "source": [
    "Obs: Normal monster can have effect if it is pendulum"
   ]
  },
  {
   "cell_type": "markdown",
   "id": "1da2968f",
   "metadata": {
    "papermill": {
     "duration": 0.078801,
     "end_time": "2023-12-04T15:46:31.146844",
     "exception": false,
     "start_time": "2023-12-04T15:46:31.068043",
     "status": "completed"
    },
    "tags": []
   },
   "source": [
    "#### Is pendulum discrimination"
   ]
  },
  {
   "cell_type": "code",
   "execution_count": null,
   "id": "c18ac7a6",
   "metadata": {
    "papermill": {
     "duration": 0.10735,
     "end_time": "2023-12-04T15:46:31.334289",
     "exception": false,
     "start_time": "2023-12-04T15:46:31.226939",
     "status": "completed"
    },
    "tags": []
   },
   "outputs": [],
   "source": [
    "pendulum = pd.crosstab(\n",
    "    monster_df[\"Primary type\"],\n",
    "    pd.isna(monster_df[\"Pendulum Scale\"]),\n",
    "    rownames=[\"Primary type\"],\n",
    "    colnames=[\"Is Pendulum\"],\n",
    ").rename(columns={True: \"Not Pendulum\", False: \"Pendulum\"})\n",
    "pendulum"
   ]
  },
  {
   "cell_type": "code",
   "execution_count": null,
   "id": "fd0ff75c",
   "metadata": {
    "papermill": {
     "duration": 0.39728,
     "end_time": "2023-12-04T15:46:31.811406",
     "exception": false,
     "start_time": "2023-12-04T15:46:31.414126",
     "status": "completed"
    },
    "tags": []
   },
   "outputs": [],
   "source": [
    "monster_type_colors_b = {\n",
    "    \"Pendulum\": colors_dict[\"Pendulum Monster\"],\n",
    "    \"Not Pendulum\": [colors_dict[i] for i in pendulum.index],\n",
    "}\n",
    "pendulum.plot.bar(\n",
    "    figsize=(18, 6),\n",
    "    stacked=True,\n",
    "    grid=True,\n",
    "    rot=0,\n",
    "    color=monster_type_colors_b,\n",
    "    legend=True,\n",
    "    title=\"Primary types - Is pendulum\",\n",
    ")\n",
    "plt.show()"
   ]
  },
  {
   "cell_type": "markdown",
   "id": "a6a4f4f5",
   "metadata": {
    "papermill": {
     "duration": 0.076539,
     "end_time": "2023-12-04T15:46:31.995855",
     "exception": false,
     "start_time": "2023-12-04T15:46:31.919316",
     "status": "completed"
    },
    "tags": []
   },
   "source": [
    "#### By attribute"
   ]
  },
  {
   "cell_type": "code",
   "execution_count": null,
   "id": "9c162519",
   "metadata": {
    "papermill": {
     "duration": 0.141105,
     "end_time": "2023-12-04T15:46:32.227700",
     "exception": false,
     "start_time": "2023-12-04T15:46:32.086595",
     "status": "completed"
    },
    "tags": []
   },
   "outputs": [],
   "source": [
    "primmary_crosstab = pd.crosstab(cards_df[\"Primary type\"], cards_df[\"Attribute\"])\n",
    "primmary_crosstab"
   ]
  },
  {
   "cell_type": "code",
   "execution_count": null,
   "id": "a0114f45",
   "metadata": {
    "papermill": {
     "duration": 1.148479,
     "end_time": "2023-12-04T15:46:33.458269",
     "exception": false,
     "start_time": "2023-12-04T15:46:32.309790",
     "status": "completed"
    },
    "tags": []
   },
   "outputs": [],
   "source": [
    "plt.figure(figsize=(16, 10))\n",
    "sns.heatmap(\n",
    "    primmary_crosstab.T,\n",
    "    annot=True,\n",
    "    fmt=\"g\",\n",
    "    cmap=\"viridis\",\n",
    "    square=True,\n",
    "    norm=mc.LogNorm(),\n",
    ")\n",
    "plt.show()"
   ]
  },
  {
   "cell_type": "markdown",
   "id": "0c70885e",
   "metadata": {
    "papermill": {
     "duration": 0.078557,
     "end_time": "2023-12-04T15:46:33.647694",
     "exception": false,
     "start_time": "2023-12-04T15:46:33.569137",
     "status": "completed"
    },
    "tags": []
   },
   "source": [
    "### Secondary types"
   ]
  },
  {
   "cell_type": "code",
   "execution_count": null,
   "id": "ee184462",
   "metadata": {
    "papermill": {
     "duration": 0.184716,
     "end_time": "2023-12-04T15:46:33.917134",
     "exception": false,
     "start_time": "2023-12-04T15:46:33.732418",
     "status": "completed"
    },
    "tags": []
   },
   "outputs": [],
   "source": [
    "exploded_secondary_type = monster_df.explode(\"Secondary type\")\n",
    "print(\n",
    "    \"Total number of secondary types:\",\n",
    "    exploded_secondary_type[\"Secondary type\"].nunique(),\n",
    ")"
   ]
  },
  {
   "cell_type": "code",
   "execution_count": null,
   "id": "125f438e",
   "metadata": {
    "papermill": {
     "duration": 0.168618,
     "end_time": "2023-12-04T15:46:34.274585",
     "exception": false,
     "start_time": "2023-12-04T15:46:34.105967",
     "status": "completed"
    },
    "tags": []
   },
   "outputs": [],
   "source": [
    "exploded_secondary_type.drop(\n",
    "    columns=[\"Card type\", \"Link\", \"Link Arrows\", \"Page name\", \"Page URL\"]\n",
    ").groupby(\"Secondary type\").nunique()"
   ]
  },
  {
   "cell_type": "code",
   "execution_count": null,
   "id": "a4fec827",
   "metadata": {
    "papermill": {
     "duration": 0.343478,
     "end_time": "2023-12-04T15:46:34.705797",
     "exception": false,
     "start_time": "2023-12-04T15:46:34.362319",
     "status": "completed"
    },
    "tags": []
   },
   "outputs": [],
   "source": [
    "secondary_type_colors = colors_dict[\"Effect Monster\"]\n",
    "exploded_secondary_type[\"Secondary type\"].value_counts().plot.bar(\n",
    "    figsize=(18, 6),\n",
    "    stacked=True,\n",
    "    grid=True,\n",
    "    rot=0,\n",
    "    color=secondary_type_colors,\n",
    "    legend=False,\n",
    ")\n",
    "plt.show()"
   ]
  },
  {
   "cell_type": "markdown",
   "id": "0420679a",
   "metadata": {
    "papermill": {
     "duration": 0.123896,
     "end_time": "2023-12-04T15:46:34.945641",
     "exception": false,
     "start_time": "2023-12-04T15:46:34.821745",
     "status": "completed"
    },
    "tags": []
   },
   "source": [
    "#### By attribute"
   ]
  },
  {
   "cell_type": "code",
   "execution_count": null,
   "id": "085225bb",
   "metadata": {
    "papermill": {
     "duration": 0.177366,
     "end_time": "2023-12-04T15:46:35.235395",
     "exception": false,
     "start_time": "2023-12-04T15:46:35.058029",
     "status": "completed"
    },
    "tags": []
   },
   "outputs": [],
   "source": [
    "secondary_crosstab = pd.crosstab(\n",
    "    exploded_secondary_type[\"Secondary type\"], exploded_secondary_type[\"Attribute\"]\n",
    ")\n",
    "secondary_crosstab"
   ]
  },
  {
   "cell_type": "code",
   "execution_count": null,
   "id": "b69fe297",
   "metadata": {
    "papermill": {
     "duration": 0.56671,
     "end_time": "2023-12-04T15:46:35.886384",
     "exception": false,
     "start_time": "2023-12-04T15:46:35.319674",
     "status": "completed"
    },
    "tags": []
   },
   "outputs": [],
   "source": [
    "plt.figure(figsize=(8, 6))\n",
    "sns.heatmap(\n",
    "    secondary_crosstab[secondary_crosstab > 0],\n",
    "    annot=True,\n",
    "    fmt=\"g\",\n",
    "    cmap=\"viridis\",\n",
    "    square=True,\n",
    ")\n",
    "plt.show()"
   ]
  },
  {
   "cell_type": "markdown",
   "id": "30b035c2",
   "metadata": {
    "papermill": {
     "duration": 0.37611,
     "end_time": "2023-12-04T15:46:36.374756",
     "exception": false,
     "start_time": "2023-12-04T15:46:35.998646",
     "status": "completed"
    },
    "tags": []
   },
   "source": [
    "#### By secondary type"
   ]
  },
  {
   "cell_type": "code",
   "execution_count": null,
   "id": "c8f08039",
   "metadata": {
    "papermill": {
     "duration": 0.138562,
     "end_time": "2023-12-04T15:46:36.609801",
     "exception": false,
     "start_time": "2023-12-04T15:46:36.471239",
     "status": "completed"
    },
    "tags": []
   },
   "outputs": [],
   "source": [
    "secondary_crosstab_b = pd.crosstab(\n",
    "    exploded_secondary_type[\"Primary type\"],\n",
    "    exploded_secondary_type[\"Secondary type\"],\n",
    "    margins=True,\n",
    ")\n",
    "secondary_crosstab_b"
   ]
  },
  {
   "cell_type": "code",
   "execution_count": null,
   "id": "4749ace2",
   "metadata": {
    "papermill": {
     "duration": 0.705098,
     "end_time": "2023-12-04T15:46:37.399300",
     "exception": false,
     "start_time": "2023-12-04T15:46:36.694202",
     "status": "completed"
    },
    "tags": []
   },
   "outputs": [],
   "source": [
    "plt.figure(figsize=(10, 7))\n",
    "sns.heatmap(\n",
    "    secondary_crosstab_b,\n",
    "    annot=True,\n",
    "    fmt=\"g\",\n",
    "    cmap=\"viridis\",\n",
    "    square=True,\n",
    "    norm=mc.LogNorm(),\n",
    ")\n",
    "plt.show()"
   ]
  },
  {
   "cell_type": "markdown",
   "id": "9682c65a",
   "metadata": {
    "papermill": {
     "duration": 0.079839,
     "end_time": "2023-12-04T15:46:37.590383",
     "exception": false,
     "start_time": "2023-12-04T15:46:37.510544",
     "status": "completed"
    },
    "tags": []
   },
   "source": [
    "### Monster types"
   ]
  },
  {
   "cell_type": "code",
   "execution_count": null,
   "id": "dab77100",
   "metadata": {
    "papermill": {
     "duration": 0.098346,
     "end_time": "2023-12-04T15:46:37.780279",
     "exception": false,
     "start_time": "2023-12-04T15:46:37.681933",
     "status": "completed"
    },
    "tags": []
   },
   "outputs": [],
   "source": [
    "print(\"Total number of monster types:\", monster_df[\"Monster type\"].nunique())"
   ]
  },
  {
   "cell_type": "code",
   "execution_count": null,
   "id": "02f5b750",
   "metadata": {
    "papermill": {
     "duration": 0.204201,
     "end_time": "2023-12-04T15:46:38.084505",
     "exception": false,
     "start_time": "2023-12-04T15:46:37.880304",
     "status": "completed"
    },
    "tags": []
   },
   "outputs": [],
   "source": [
    "monster_df.drop(columns=[\"Card type\", \"Page name\", \"Page URL\"]).groupby(\n",
    "    \"Monster type\"\n",
    ").nunique()"
   ]
  },
  {
   "cell_type": "code",
   "execution_count": null,
   "id": "75111774",
   "metadata": {
    "papermill": {
     "duration": 0.701448,
     "end_time": "2023-12-04T15:46:38.874047",
     "exception": false,
     "start_time": "2023-12-04T15:46:38.172599",
     "status": "completed"
    },
    "tags": []
   },
   "outputs": [],
   "source": [
    "monster_type_colors = colors_dict[\"Monster Card\"]\n",
    "monster_df[\"Monster type\"].value_counts().plot.bar(\n",
    "    figsize=(18, 6), grid=True, rot=45, color=monster_type_colors\n",
    ")\n",
    "plt.show()"
   ]
  },
  {
   "cell_type": "markdown",
   "id": "32d282b7",
   "metadata": {
    "papermill": {
     "duration": 0.090956,
     "end_time": "2023-12-04T15:46:39.104857",
     "exception": false,
     "start_time": "2023-12-04T15:46:39.013901",
     "status": "completed"
    },
    "tags": []
   },
   "source": [
    "#### By Attribute"
   ]
  },
  {
   "cell_type": "code",
   "execution_count": null,
   "id": "23d29373",
   "metadata": {
    "papermill": {
     "duration": 0.130927,
     "end_time": "2023-12-04T15:46:39.329786",
     "exception": false,
     "start_time": "2023-12-04T15:46:39.198859",
     "status": "completed"
    },
    "tags": []
   },
   "outputs": [],
   "source": [
    "monster_crosstab = pd.crosstab(cards_df[\"Monster type\"], cards_df[\"Attribute\"])\n",
    "monster_crosstab"
   ]
  },
  {
   "cell_type": "code",
   "execution_count": null,
   "id": "fd9ca22d",
   "metadata": {
    "papermill": {
     "duration": 1.066977,
     "end_time": "2023-12-04T15:46:40.488156",
     "exception": false,
     "start_time": "2023-12-04T15:46:39.421179",
     "status": "completed"
    },
    "tags": []
   },
   "outputs": [],
   "source": [
    "plt.figure(figsize=(20, 5))\n",
    "sns.heatmap(\n",
    "    monster_crosstab[monster_crosstab > 0].T,\n",
    "    annot=True,\n",
    "    fmt=\"g\",\n",
    "    cmap=\"viridis\",\n",
    "    square=True,\n",
    "    norm=mc.LogNorm(),\n",
    ")\n",
    "plt.show()"
   ]
  },
  {
   "cell_type": "markdown",
   "id": "4daa9957",
   "metadata": {
    "papermill": {
     "duration": 0.083864,
     "end_time": "2023-12-04T15:46:40.692837",
     "exception": false,
     "start_time": "2023-12-04T15:46:40.608973",
     "status": "completed"
    },
    "tags": []
   },
   "source": [
    "#### By primary type"
   ]
  },
  {
   "cell_type": "code",
   "execution_count": null,
   "id": "0f5d0eda",
   "metadata": {
    "papermill": {
     "duration": 0.146767,
     "end_time": "2023-12-04T15:46:40.931183",
     "exception": false,
     "start_time": "2023-12-04T15:46:40.784416",
     "status": "completed"
    },
    "tags": []
   },
   "outputs": [],
   "source": [
    "monster_crosstab_b = pd.crosstab(\n",
    "    cards_df[\"Monster type\"], cards_df[\"Primary type\"], dropna=False\n",
    ")\n",
    "monster_crosstab_b"
   ]
  },
  {
   "cell_type": "code",
   "execution_count": null,
   "id": "5f3b531c",
   "metadata": {
    "papermill": {
     "duration": 1.486928,
     "end_time": "2023-12-04T15:46:42.509838",
     "exception": false,
     "start_time": "2023-12-04T15:46:41.022910",
     "status": "completed"
    },
    "tags": []
   },
   "outputs": [],
   "source": [
    "plt.figure(figsize=(20, 5))\n",
    "sns.heatmap(\n",
    "    monster_crosstab_b[monster_crosstab_b > 0].T,\n",
    "    annot=True,\n",
    "    fmt=\"g\",\n",
    "    cmap=\"viridis\",\n",
    "    square=True,\n",
    "    norm=mc.LogNorm(),\n",
    ")\n",
    "plt.show()"
   ]
  },
  {
   "cell_type": "markdown",
   "id": "9056b880",
   "metadata": {
    "papermill": {
     "duration": 0.088063,
     "end_time": "2023-12-04T15:46:42.700542",
     "exception": false,
     "start_time": "2023-12-04T15:46:42.612479",
     "status": "completed"
    },
    "tags": []
   },
   "source": [
    "#### By secondary type"
   ]
  },
  {
   "cell_type": "code",
   "execution_count": null,
   "id": "cbe5bef6",
   "metadata": {
    "papermill": {
     "duration": 0.16291,
     "end_time": "2023-12-04T15:46:42.956002",
     "exception": false,
     "start_time": "2023-12-04T15:46:42.793092",
     "status": "completed"
    },
    "tags": []
   },
   "outputs": [],
   "source": [
    "monster_crosstab_c = pd.crosstab(\n",
    "    exploded_secondary_type[\"Monster type\"],\n",
    "    exploded_secondary_type[\"Secondary type\"],\n",
    "    dropna=False,\n",
    ")\n",
    "monster_crosstab_c"
   ]
  },
  {
   "cell_type": "code",
   "execution_count": null,
   "id": "3712cc0e",
   "metadata": {
    "papermill": {
     "duration": 1.102182,
     "end_time": "2023-12-04T15:46:44.295773",
     "exception": false,
     "start_time": "2023-12-04T15:46:43.193591",
     "status": "completed"
    },
    "tags": []
   },
   "outputs": [],
   "source": [
    "plt.figure(figsize=(20, 5))\n",
    "sns.heatmap(\n",
    "    monster_crosstab_c[monster_crosstab_c > 0].T,\n",
    "    annot=True,\n",
    "    fmt=\"g\",\n",
    "    cmap=\"viridis\",\n",
    "    square=True,\n",
    "    norm=mc.LogNorm(),\n",
    ")\n",
    "plt.show()"
   ]
  },
  {
   "cell_type": "markdown",
   "id": "371f2c74",
   "metadata": {
    "papermill": {
     "duration": 0.092124,
     "end_time": "2023-12-04T15:46:46.026349",
     "exception": false,
     "start_time": "2023-12-04T15:46:45.934225",
     "status": "completed"
    },
    "tags": []
   },
   "source": [
    "### ATK"
   ]
  },
  {
   "cell_type": "code",
   "execution_count": null,
   "id": "1b5db865",
   "metadata": {
    "papermill": {
     "duration": 0.118168,
     "end_time": "2023-12-04T15:46:46.248320",
     "exception": false,
     "start_time": "2023-12-04T15:46:46.130152",
     "status": "completed"
    },
    "tags": []
   },
   "outputs": [],
   "source": [
    "print(\"Total number of ATK values:\", monster_df[\"ATK\"].nunique())"
   ]
  },
  {
   "cell_type": "code",
   "execution_count": null,
   "id": "16b9aa14",
   "metadata": {
    "papermill": {
     "duration": 0.208889,
     "end_time": "2023-12-04T15:46:46.554095",
     "exception": false,
     "start_time": "2023-12-04T15:46:46.345206",
     "status": "completed"
    },
    "tags": []
   },
   "outputs": [],
   "source": [
    "monster_df.drop(columns=[\"Card type\", \"Page name\", \"Page URL\"]).groupby(\n",
    "    \"ATK\"\n",
    ").nunique().sort_index(key=lambda x: pd.to_numeric(x, errors=\"coerce\"))"
   ]
  },
  {
   "cell_type": "code",
   "execution_count": null,
   "id": "3b1b2e1d",
   "metadata": {
    "papermill": {
     "duration": 0.999517,
     "end_time": "2023-12-04T15:46:47.654938",
     "exception": false,
     "start_time": "2023-12-04T15:46:46.655421",
     "status": "completed"
    },
    "tags": []
   },
   "outputs": [],
   "source": [
    "atk_colors = colors_dict[\"Monster Card\"]\n",
    "monster_df[\"ATK\"].value_counts().sort_index(\n",
    "    key=lambda x: pd.to_numeric(x, errors=\"coerce\")\n",
    ").plot.bar(figsize=(18, 6), grid=True, color=atk_colors)\n",
    "plt.show()"
   ]
  },
  {
   "cell_type": "markdown",
   "id": "cda8b288",
   "metadata": {
    "papermill": {
     "duration": 0.091302,
     "end_time": "2023-12-04T15:46:47.884739",
     "exception": false,
     "start_time": "2023-12-04T15:46:47.793437",
     "status": "completed"
    },
    "tags": []
   },
   "source": [
    "### DEF"
   ]
  },
  {
   "cell_type": "code",
   "execution_count": null,
   "id": "2aa0ba61",
   "metadata": {
    "papermill": {
     "duration": 0.391416,
     "end_time": "2023-12-04T15:46:48.382950",
     "exception": false,
     "start_time": "2023-12-04T15:46:47.991534",
     "status": "completed"
    },
    "tags": []
   },
   "outputs": [],
   "source": [
    "print(\"Total number of DEF values:\", monster_df[\"DEF\"].nunique())"
   ]
  },
  {
   "cell_type": "code",
   "execution_count": null,
   "id": "54e9d56a",
   "metadata": {
    "papermill": {
     "duration": 0.209406,
     "end_time": "2023-12-04T15:46:48.695656",
     "exception": false,
     "start_time": "2023-12-04T15:46:48.486250",
     "status": "completed"
    },
    "tags": []
   },
   "outputs": [],
   "source": [
    "monster_df.drop(columns=[\"Card type\", \"Page name\", \"Page URL\"]).groupby(\n",
    "    \"DEF\"\n",
    ").nunique().sort_index(key=lambda x: pd.to_numeric(x, errors=\"coerce\"))"
   ]
  },
  {
   "cell_type": "code",
   "execution_count": null,
   "id": "10aeff48",
   "metadata": {
    "papermill": {
     "duration": 1.163212,
     "end_time": "2023-12-04T15:46:49.964649",
     "exception": false,
     "start_time": "2023-12-04T15:46:48.801437",
     "status": "completed"
    },
    "tags": []
   },
   "outputs": [],
   "source": [
    "def_colors = colors_dict[\"Monster Card\"]\n",
    "monster_df[\"DEF\"].value_counts().sort_index(\n",
    "    key=lambda x: pd.to_numeric(x, errors=\"coerce\")\n",
    ").plot.bar(figsize=(18, 6), grid=True, color=def_colors)\n",
    "plt.show()"
   ]
  },
  {
   "cell_type": "markdown",
   "id": "4f26bf6d",
   "metadata": {
    "papermill": {
     "duration": 0.093727,
     "end_time": "2023-12-04T15:46:50.187008",
     "exception": false,
     "start_time": "2023-12-04T15:46:50.093281",
     "status": "completed"
    },
    "tags": []
   },
   "source": [
    "### Level/Rank"
   ]
  },
  {
   "cell_type": "code",
   "execution_count": null,
   "id": "f5543138",
   "metadata": {
    "papermill": {
     "duration": 0.218493,
     "end_time": "2023-12-04T15:46:50.508589",
     "exception": false,
     "start_time": "2023-12-04T15:46:50.290096",
     "status": "completed"
    },
    "tags": []
   },
   "outputs": [],
   "source": [
    "monster_df.drop(\n",
    "    columns=[\"Card type\", \"Link\", \"Link Arrows\", \"Page name\", \"Page URL\"]\n",
    ").groupby(\"Level/Rank\").nunique().sort_index(\n",
    "    key=lambda x: pd.to_numeric(x, errors=\"coerce\")\n",
    ")"
   ]
  },
  {
   "cell_type": "code",
   "execution_count": null,
   "id": "31539bdc",
   "metadata": {
    "papermill": {
     "duration": 0.485102,
     "end_time": "2023-12-04T15:46:51.099295",
     "exception": false,
     "start_time": "2023-12-04T15:46:50.614193",
     "status": "completed"
    },
    "tags": []
   },
   "outputs": [],
   "source": [
    "stars_colors = colors_dict[\"Level\"]\n",
    "monster_df[\"Level/Rank\"].value_counts().sort_index(\n",
    "    key=lambda x: pd.to_numeric(x, errors=\"coerce\")\n",
    ").plot.bar(figsize=(18, 6), grid=True, rot=0, color=stars_colors)\n",
    "plt.show()"
   ]
  },
  {
   "cell_type": "markdown",
   "id": "6a08e2b8",
   "metadata": {
    "papermill": {
     "duration": 0.094947,
     "end_time": "2023-12-04T15:46:51.304278",
     "exception": false,
     "start_time": "2023-12-04T15:46:51.209331",
     "status": "completed"
    },
    "tags": []
   },
   "source": [
    "#### ATK statistics"
   ]
  },
  {
   "cell_type": "code",
   "execution_count": null,
   "id": "06dc9107",
   "metadata": {
    "papermill": {
     "duration": 0.208463,
     "end_time": "2023-12-04T15:46:51.612617",
     "exception": false,
     "start_time": "2023-12-04T15:46:51.404154",
     "status": "completed"
    },
    "tags": []
   },
   "outputs": [],
   "source": [
    "monster_df[[\"Level/Rank\", \"ATK\"]].apply(pd.to_numeric, errors=\"coerce\").dropna().astype(\n",
    "    int\n",
    ").groupby(\"Level/Rank\").describe().round(1)"
   ]
  },
  {
   "cell_type": "markdown",
   "id": "b8a04916",
   "metadata": {
    "papermill": {
     "duration": 0.105274,
     "end_time": "2023-12-04T15:46:51.828673",
     "exception": false,
     "start_time": "2023-12-04T15:46:51.723399",
     "status": "completed"
    },
    "tags": []
   },
   "source": [
    "#### DEF statistics"
   ]
  },
  {
   "cell_type": "code",
   "execution_count": null,
   "id": "cc005e78",
   "metadata": {
    "papermill": {
     "duration": 0.202546,
     "end_time": "2023-12-04T15:46:52.135902",
     "exception": false,
     "start_time": "2023-12-04T15:46:51.933356",
     "status": "completed"
    },
    "tags": []
   },
   "outputs": [],
   "source": [
    "monster_df[[\"Level/Rank\", \"DEF\"]].apply(pd.to_numeric, errors=\"coerce\").dropna().astype(\n",
    "    int\n",
    ").groupby(\"Level/Rank\").describe().round(1)"
   ]
  },
  {
   "cell_type": "markdown",
   "id": "4029a29d",
   "metadata": {
    "papermill": {
     "duration": 0.096126,
     "end_time": "2023-12-04T15:46:52.331370",
     "exception": false,
     "start_time": "2023-12-04T15:46:52.235244",
     "status": "completed"
    },
    "tags": []
   },
   "source": [
    "### Pendulum scale"
   ]
  },
  {
   "cell_type": "code",
   "execution_count": null,
   "id": "9db07376",
   "metadata": {
    "papermill": {
     "duration": 0.202621,
     "end_time": "2023-12-04T15:46:52.649206",
     "exception": false,
     "start_time": "2023-12-04T15:46:52.446585",
     "status": "completed"
    },
    "tags": []
   },
   "outputs": [],
   "source": [
    "monster_df.drop(\n",
    "    columns=[\"Card type\", \"Link\", \"Link Arrows\", \"Page name\", \"Page URL\"]\n",
    ").groupby(\"Pendulum Scale\").nunique().sort_index(\n",
    "    key=lambda x: pd.to_numeric(x, errors=\"coerce\")\n",
    ")"
   ]
  },
  {
   "cell_type": "code",
   "execution_count": null,
   "id": "331eba0b",
   "metadata": {
    "papermill": {
     "duration": 0.548143,
     "end_time": "2023-12-04T15:46:53.317457",
     "exception": false,
     "start_time": "2023-12-04T15:46:52.769314",
     "status": "completed"
    },
    "tags": []
   },
   "outputs": [],
   "source": [
    "scales_colors = colors_dict[\"Pendulum Monster\"]\n",
    "monster_df[\"Pendulum Scale\"].value_counts().sort_index(\n",
    "    key=lambda x: pd.to_numeric(x, errors=\"coerce\")\n",
    ").plot.bar(figsize=(18, 6), grid=True, rot=0, color=scales_colors)\n",
    "plt.show()"
   ]
  },
  {
   "cell_type": "markdown",
   "id": "c4cee785",
   "metadata": {
    "papermill": {
     "duration": 0.171643,
     "end_time": "2023-12-04T15:46:53.713491",
     "exception": false,
     "start_time": "2023-12-04T15:46:53.541848",
     "status": "completed"
    },
    "tags": []
   },
   "source": [
    "#### ATK statistics"
   ]
  },
  {
   "cell_type": "code",
   "execution_count": null,
   "id": "75427d69",
   "metadata": {
    "papermill": {
     "duration": 0.188642,
     "end_time": "2023-12-04T15:46:54.044500",
     "exception": false,
     "start_time": "2023-12-04T15:46:53.855858",
     "status": "completed"
    },
    "tags": []
   },
   "outputs": [],
   "source": [
    "monster_df[[\"Pendulum Scale\", \"ATK\"]].apply(\n",
    "    pd.to_numeric, errors=\"coerce\"\n",
    ").dropna().astype(int).groupby(\"Pendulum Scale\").describe().round(1)"
   ]
  },
  {
   "cell_type": "markdown",
   "id": "3ee4da76",
   "metadata": {
    "papermill": {
     "duration": 0.115467,
     "end_time": "2023-12-04T15:46:54.291641",
     "exception": false,
     "start_time": "2023-12-04T15:46:54.176174",
     "status": "completed"
    },
    "tags": []
   },
   "source": [
    "#### DEF statistics"
   ]
  },
  {
   "cell_type": "code",
   "execution_count": null,
   "id": "c474abd4",
   "metadata": {
    "papermill": {
     "duration": 0.195269,
     "end_time": "2023-12-04T15:46:54.804536",
     "exception": false,
     "start_time": "2023-12-04T15:46:54.609267",
     "status": "completed"
    },
    "tags": []
   },
   "outputs": [],
   "source": [
    "monster_df[[\"Pendulum Scale\", \"DEF\"]].apply(\n",
    "    pd.to_numeric, errors=\"coerce\"\n",
    ").dropna().astype(int).groupby(\"Pendulum Scale\").describe().round(1)"
   ]
  },
  {
   "cell_type": "markdown",
   "id": "87d81ad5",
   "metadata": {
    "papermill": {
     "duration": 0.123537,
     "end_time": "2023-12-04T15:46:55.059406",
     "exception": false,
     "start_time": "2023-12-04T15:46:54.935869",
     "status": "completed"
    },
    "tags": []
   },
   "source": [
    "#### Level/Rank statistics"
   ]
  },
  {
   "cell_type": "code",
   "execution_count": null,
   "id": "027c9b3e",
   "metadata": {
    "papermill": {
     "duration": 0.18283,
     "end_time": "2023-12-04T15:46:55.352416",
     "exception": false,
     "start_time": "2023-12-04T15:46:55.169586",
     "status": "completed"
    },
    "tags": []
   },
   "outputs": [],
   "source": [
    "monster_df[[\"Pendulum Scale\", \"Level/Rank\"]].apply(\n",
    "    pd.to_numeric, errors=\"coerce\"\n",
    ").dropna().astype(int).groupby(\"Pendulum Scale\").describe().round(1)"
   ]
  },
  {
   "cell_type": "markdown",
   "id": "93f3aba0",
   "metadata": {
    "papermill": {
     "duration": 0.101782,
     "end_time": "2023-12-04T15:46:55.567214",
     "exception": false,
     "start_time": "2023-12-04T15:46:55.465432",
     "status": "completed"
    },
    "tags": []
   },
   "source": [
    "### Link"
   ]
  },
  {
   "cell_type": "code",
   "execution_count": null,
   "id": "3ba56226",
   "metadata": {
    "papermill": {
     "duration": 0.184768,
     "end_time": "2023-12-04T15:46:55.857375",
     "exception": false,
     "start_time": "2023-12-04T15:46:55.672607",
     "status": "completed"
    },
    "tags": []
   },
   "outputs": [],
   "source": [
    "monster_df.drop(\n",
    "    columns=[\n",
    "        \"Card type\",\n",
    "        \"Primary type\",\n",
    "        \"Secondary type\",\n",
    "        \"Level/Rank\",\n",
    "        \"DEF\",\n",
    "        \"Pendulum Scale\",\n",
    "        \"Page name\",\n",
    "        \"Page URL\",\n",
    "    ]\n",
    ").groupby(\"Link\").nunique().sort_index(key=lambda x: pd.to_numeric(x, errors=\"coerce\"))"
   ]
  },
  {
   "cell_type": "code",
   "execution_count": null,
   "id": "3afbb00a",
   "metadata": {
    "papermill": {
     "duration": 0.379899,
     "end_time": "2023-12-04T15:46:56.348036",
     "exception": false,
     "start_time": "2023-12-04T15:46:55.968137",
     "status": "completed"
    },
    "tags": []
   },
   "outputs": [],
   "source": [
    "link_colors = colors_dict[\"Link Monster\"]\n",
    "monster_df[\"Link\"].value_counts().sort_index(\n",
    "    key=lambda x: pd.to_numeric(x, errors=\"coerce\")\n",
    ").plot.bar(figsize=(18, 6), grid=True, rot=0, color=link_colors)\n",
    "plt.show()"
   ]
  },
  {
   "cell_type": "markdown",
   "id": "5f20abde",
   "metadata": {
    "papermill": {
     "duration": 0.098435,
     "end_time": "2023-12-04T15:46:56.579313",
     "exception": false,
     "start_time": "2023-12-04T15:46:56.480878",
     "status": "completed"
    },
    "tags": []
   },
   "source": [
    "#### ATK statistics"
   ]
  },
  {
   "cell_type": "code",
   "execution_count": null,
   "id": "c80d9372",
   "metadata": {
    "papermill": {
     "duration": 0.169583,
     "end_time": "2023-12-04T15:46:56.858115",
     "exception": false,
     "start_time": "2023-12-04T15:46:56.688532",
     "status": "completed"
    },
    "tags": []
   },
   "outputs": [],
   "source": [
    "monster_df[[\"Link\", \"ATK\"]].apply(pd.to_numeric, errors=\"coerce\").dropna().astype(\n",
    "    int\n",
    ").groupby(\"Link\").describe().round(1)"
   ]
  },
  {
   "cell_type": "markdown",
   "id": "f585a876",
   "metadata": {
    "papermill": {
     "duration": 0.109511,
     "end_time": "2023-12-04T15:46:57.077784",
     "exception": false,
     "start_time": "2023-12-04T15:46:56.968273",
     "status": "completed"
    },
    "tags": []
   },
   "source": [
    "### Link Arrows"
   ]
  },
  {
   "cell_type": "markdown",
   "id": "b1373514",
   "metadata": {
    "papermill": {
     "duration": 0.103368,
     "end_time": "2023-12-04T15:46:57.284988",
     "exception": false,
     "start_time": "2023-12-04T15:46:57.181620",
     "status": "completed"
    },
    "tags": []
   },
   "source": [
    "#### By combination"
   ]
  },
  {
   "cell_type": "code",
   "execution_count": null,
   "id": "1130304f",
   "metadata": {
    "papermill": {
     "duration": 0.124539,
     "end_time": "2023-12-04T15:46:57.524937",
     "exception": false,
     "start_time": "2023-12-04T15:46:57.400398",
     "status": "completed"
    },
    "tags": []
   },
   "outputs": [],
   "source": [
    "print(\"Total number of link arrow combinations:\", monster_df[\"Link Arrows\"].nunique())"
   ]
  },
  {
   "cell_type": "code",
   "execution_count": null,
   "id": "7acfc7a1",
   "metadata": {
    "papermill": {
     "duration": 0.195287,
     "end_time": "2023-12-04T15:46:57.838180",
     "exception": false,
     "start_time": "2023-12-04T15:46:57.642893",
     "status": "completed"
    },
    "tags": []
   },
   "outputs": [],
   "source": [
    "monster_df.drop(\n",
    "    columns=[\n",
    "        \"Card type\",\n",
    "        \"Primary type\",\n",
    "        \"Level/Rank\",\n",
    "        \"Pendulum Scale\",\n",
    "        \"Link\",\n",
    "        \"Secondary type\",\n",
    "        \"DEF\",\n",
    "        \"Page name\",\n",
    "        \"Page URL\",\n",
    "    ]\n",
    ").groupby(\"Link Arrows\").nunique()"
   ]
  },
  {
   "cell_type": "code",
   "execution_count": null,
   "id": "66c65c93",
   "metadata": {
    "papermill": {
     "duration": 1.187565,
     "end_time": "2023-12-04T15:46:59.136682",
     "exception": false,
     "start_time": "2023-12-04T15:46:57.949117",
     "status": "completed"
    },
    "tags": []
   },
   "outputs": [],
   "source": [
    "arrows_colors = colors_dict[\"Link Monster\"]\n",
    "monster_df[\"Link Arrows\"].value_counts().plot.barh(\n",
    "    figsize=(10, 20), grid=True, color=arrows_colors, title=\"Link arrows combinations\"\n",
    ")\n",
    "plt.show()"
   ]
  },
  {
   "cell_type": "markdown",
   "id": "aa520eaf",
   "metadata": {
    "papermill": {
     "duration": 0.102629,
     "end_time": "2023-12-04T15:46:59.440607",
     "exception": false,
     "start_time": "2023-12-04T15:46:59.337978",
     "status": "completed"
    },
    "tags": []
   },
   "source": [
    "#### By unique"
   ]
  },
  {
   "cell_type": "code",
   "execution_count": null,
   "id": "85cda4e5",
   "metadata": {
    "papermill": {
     "duration": 0.167098,
     "end_time": "2023-12-04T15:46:59.720603",
     "exception": false,
     "start_time": "2023-12-04T15:46:59.553505",
     "status": "completed"
    },
    "tags": []
   },
   "outputs": [],
   "source": [
    "monster_df[monster_df[\"Link Arrows\"].notna()].drop(\n",
    "    columns=[\n",
    "        \"Card type\",\n",
    "        \"Primary type\",\n",
    "        \"Level/Rank\",\n",
    "        \"Pendulum Scale\",\n",
    "        \"Secondary type\",\n",
    "        \"DEF\",\n",
    "        \"Page name\",\n",
    "        \"Page URL\",\n",
    "    ]\n",
    ").explode(\"Link Arrows\").groupby(\"Link Arrows\").nunique()"
   ]
  },
  {
   "cell_type": "code",
   "execution_count": null,
   "id": "c3161d6e",
   "metadata": {
    "papermill": {
     "duration": 1.417547,
     "end_time": "2023-12-04T15:47:01.250536",
     "exception": false,
     "start_time": "2023-12-04T15:46:59.832989",
     "status": "completed"
    },
    "tags": []
   },
   "outputs": [],
   "source": [
    "arrow_plot(monster_df[\"Link Arrows\"].explode(\"Link Arrows\"))"
   ]
  },
  {
   "cell_type": "markdown",
   "id": "e36f6792",
   "metadata": {
    "papermill": {
     "duration": 0.103766,
     "end_time": "2023-12-04T15:47:01.487315",
     "exception": false,
     "start_time": "2023-12-04T15:47:01.383549",
     "status": "completed"
    },
    "tags": []
   },
   "source": [
    "#### By link"
   ]
  },
  {
   "cell_type": "code",
   "execution_count": null,
   "id": "8a6b3372",
   "metadata": {
    "papermill": {
     "duration": 0.191304,
     "end_time": "2023-12-04T15:47:01.799691",
     "exception": false,
     "start_time": "2023-12-04T15:47:01.608387",
     "status": "completed"
    },
    "tags": []
   },
   "outputs": [],
   "source": [
    "arrow_per_link = monster_df[[\"Link Arrows\", \"Link\"]].explode(\"Link Arrows\").dropna()\n",
    "arrow_crosstab = pd.crosstab(arrow_per_link[\"Link Arrows\"], arrow_per_link[\"Link\"])\n",
    "arrow_crosstab"
   ]
  },
  {
   "cell_type": "code",
   "execution_count": null,
   "id": "a22dab12",
   "metadata": {
    "papermill": {
     "duration": 0.65487,
     "end_time": "2023-12-04T15:47:02.681315",
     "exception": false,
     "start_time": "2023-12-04T15:47:02.026445",
     "status": "completed"
    },
    "tags": []
   },
   "outputs": [],
   "source": [
    "plt.figure(figsize=(10, 6))\n",
    "sns.heatmap(\n",
    "    arrow_crosstab[arrow_crosstab > 0].T,\n",
    "    annot=True,\n",
    "    fmt=\"g\",\n",
    "    cmap=\"viridis\",\n",
    "    square=True,\n",
    "    norm=mc.LogNorm(),\n",
    ")\n",
    "plt.show()"
   ]
  },
  {
   "cell_type": "markdown",
   "id": "bb0bbf58",
   "metadata": {
    "papermill": {
     "duration": 0.104945,
     "end_time": "2023-12-04T15:47:02.912973",
     "exception": false,
     "start_time": "2023-12-04T15:47:02.808028",
     "status": "completed"
    },
    "tags": []
   },
   "source": [
    "## Spell & Trap"
   ]
  },
  {
   "cell_type": "markdown",
   "id": "f47b1472",
   "metadata": {
    "papermill": {
     "duration": 0.108835,
     "end_time": "2023-12-04T15:47:03.139312",
     "exception": false,
     "start_time": "2023-12-04T15:47:03.030477",
     "status": "completed"
    },
    "tags": []
   },
   "source": [
    "### Properties"
   ]
  },
  {
   "cell_type": "code",
   "execution_count": null,
   "id": "fdd7cb44",
   "metadata": {
    "papermill": {
     "duration": 0.121239,
     "end_time": "2023-12-04T15:47:03.372789",
     "exception": false,
     "start_time": "2023-12-04T15:47:03.251550",
     "status": "completed"
    },
    "tags": []
   },
   "outputs": [],
   "source": [
    "print(\"Total number of properties:\", st_df[\"Property\"].nunique())"
   ]
  },
  {
   "cell_type": "code",
   "execution_count": null,
   "id": "52c0aa20",
   "metadata": {
    "papermill": {
     "duration": 0.184655,
     "end_time": "2023-12-04T15:47:03.672977",
     "exception": false,
     "start_time": "2023-12-04T15:47:03.488322",
     "status": "completed"
    },
    "tags": []
   },
   "outputs": [],
   "source": [
    "st_df.drop(columns=[\"Card type\", \"Page name\", \"Page URL\"]).groupby(\"Property\").nunique()"
   ]
  },
  {
   "cell_type": "code",
   "execution_count": null,
   "id": "cd537db7",
   "metadata": {
    "papermill": {
     "duration": 0.434558,
     "end_time": "2023-12-04T15:47:04.250828",
     "exception": false,
     "start_time": "2023-12-04T15:47:03.816270",
     "status": "completed"
    },
    "tags": []
   },
   "outputs": [],
   "source": [
    "st_colors = [\n",
    "    colors_dict[i]\n",
    "    for i in cards_df[[\"Card type\", \"Property\"]]\n",
    "    .value_counts()\n",
    "    .index.get_level_values(0)\n",
    "]\n",
    "st_df[\"Property\"].value_counts().plot.bar(\n",
    "    figsize=(18, 6), grid=True, rot=45, color=st_colors\n",
    ")\n",
    "plt.show()"
   ]
  },
  {
   "cell_type": "markdown",
   "id": "eab733b7",
   "metadata": {
    "papermill": {
     "duration": 0.105349,
     "end_time": "2023-12-04T15:47:04.500491",
     "exception": false,
     "start_time": "2023-12-04T15:47:04.395142",
     "status": "completed"
    },
    "tags": []
   },
   "source": [
    "## Effect type"
   ]
  },
  {
   "cell_type": "code",
   "execution_count": null,
   "id": "f955ec1d",
   "metadata": {
    "papermill": {
     "duration": 0.13678,
     "end_time": "2023-12-04T15:47:04.761415",
     "exception": false,
     "start_time": "2023-12-04T15:47:04.624635",
     "status": "completed"
    },
    "tags": []
   },
   "outputs": [],
   "source": [
    "print(\"Total number of effect types:\", full_df[\"Effect type\"].explode().nunique())"
   ]
  },
  {
   "cell_type": "code",
   "execution_count": null,
   "id": "9e0f62a2",
   "metadata": {
    "papermill": {
     "duration": 0.242257,
     "end_time": "2023-12-04T15:47:05.119088",
     "exception": false,
     "start_time": "2023-12-04T15:47:04.876831",
     "status": "completed"
    },
    "tags": []
   },
   "outputs": [],
   "source": [
    "full_df.explode(\"Effect type\").groupby(\"Effect type\").nunique()"
   ]
  },
  {
   "cell_type": "markdown",
   "id": "64868037",
   "metadata": {
    "papermill": {
     "duration": 0.113659,
     "end_time": "2023-12-04T15:47:05.394121",
     "exception": false,
     "start_time": "2023-12-04T15:47:05.280462",
     "status": "completed"
    },
    "tags": []
   },
   "source": [
    "### Card type discrimination"
   ]
  },
  {
   "cell_type": "code",
   "execution_count": null,
   "id": "75843f9d",
   "metadata": {
    "papermill": {
     "duration": 0.17391,
     "end_time": "2023-12-04T15:47:05.684273",
     "exception": false,
     "start_time": "2023-12-04T15:47:05.510363",
     "status": "completed"
    },
    "tags": []
   },
   "outputs": [],
   "source": [
    "type_diff = (\n",
    "    full_df[[\"Card type\", \"Effect type\"]]\n",
    "    .explode(\"Effect type\")\n",
    "    .value_counts()\n",
    "    .unstack(0)\n",
    "    .fillna(0)\n",
    "    .astype(int)\n",
    ")\n",
    "type_diff"
   ]
  },
  {
   "cell_type": "code",
   "execution_count": null,
   "id": "373757a0",
   "metadata": {
    "papermill": {
     "duration": 0.51611,
     "end_time": "2023-12-04T15:47:06.317544",
     "exception": false,
     "start_time": "2023-12-04T15:47:05.801434",
     "status": "completed"
    },
    "tags": []
   },
   "outputs": [],
   "source": [
    "type_diff_colors = {type: colors_dict[type] for type in full_df[\"Card type\"].unique()}\n",
    "type_diff.plot.bar(\n",
    "    figsize=(18, 6), stacked=True, grid=True, rot=45, color=type_diff_colors\n",
    ")\n",
    "plt.show()"
   ]
  },
  {
   "cell_type": "markdown",
   "id": "0013b7c7",
   "metadata": {
    "papermill": {
     "duration": 0.111449,
     "end_time": "2023-12-04T15:47:06.612115",
     "exception": false,
     "start_time": "2023-12-04T15:47:06.500666",
     "status": "completed"
    },
    "tags": []
   },
   "source": [
    "## Archseries"
   ]
  },
  {
   "cell_type": "code",
   "execution_count": null,
   "id": "ce1470dc",
   "metadata": {
    "papermill": {
     "duration": 0.246182,
     "end_time": "2023-12-04T15:47:06.991247",
     "exception": false,
     "start_time": "2023-12-04T15:47:06.745065",
     "status": "completed"
    },
    "tags": []
   },
   "outputs": [],
   "source": [
    "exploded_archseries = cards_df.explode(\"Archseries\")\n",
    "print(\"Total number of Archseries:\", exploded_archseries[\"Archseries\"].nunique())"
   ]
  },
  {
   "cell_type": "code",
   "execution_count": null,
   "id": "f31c5b8c",
   "metadata": {
    "papermill": {
     "duration": 0.322809,
     "end_time": "2023-12-04T15:47:07.511961",
     "exception": false,
     "start_time": "2023-12-04T15:47:07.189152",
     "status": "completed"
    },
    "tags": []
   },
   "outputs": [],
   "source": [
    "exploded_archseries.groupby(\"Archseries\").nunique()"
   ]
  },
  {
   "cell_type": "code",
   "execution_count": null,
   "id": "00c9f321",
   "metadata": {
    "papermill": {
     "duration": 10.030345,
     "end_time": "2023-12-04T15:47:17.682051",
     "exception": false,
     "start_time": "2023-12-04T15:47:07.651706",
     "status": "completed"
    },
    "tags": []
   },
   "outputs": [],
   "source": [
    "exploded_archseries[\"Archseries\"].value_counts().plot.barh(\n",
    "    figsize=(10, 200), grid=True, title=\"Archtypes/Series\"\n",
    ")\n",
    "plt.show()"
   ]
  },
  {
   "cell_type": "markdown",
   "id": "cf3bf55f",
   "metadata": {
    "papermill": {
     "duration": 0.139227,
     "end_time": "2023-12-04T15:47:17.996350",
     "exception": false,
     "start_time": "2023-12-04T15:47:17.857123",
     "status": "completed"
    },
    "tags": []
   },
   "source": [
    "### By card type"
   ]
  },
  {
   "cell_type": "code",
   "execution_count": null,
   "id": "fbf65c3c",
   "metadata": {
    "papermill": {
     "duration": 0.314749,
     "end_time": "2023-12-04T15:47:18.465910",
     "exception": false,
     "start_time": "2023-12-04T15:47:18.151161",
     "status": "completed"
    },
    "tags": []
   },
   "outputs": [],
   "source": [
    "archseries_crosstab = pd.crosstab(\n",
    "    exploded_archseries[\"Archseries\"], exploded_archseries[\"Card type\"], margins=True\n",
    ")\n",
    "archseries_crosstab"
   ]
  },
  {
   "cell_type": "markdown",
   "id": "960ea110",
   "metadata": {
    "papermill": {
     "duration": 0.521155,
     "end_time": "2023-12-04T15:47:19.176685",
     "exception": false,
     "start_time": "2023-12-04T15:47:18.655530",
     "status": "completed"
    },
    "tags": []
   },
   "source": [
    "### By primary type"
   ]
  },
  {
   "cell_type": "code",
   "execution_count": null,
   "id": "2c3671f0",
   "metadata": {
    "papermill": {
     "duration": 0.281694,
     "end_time": "2023-12-04T15:47:19.719463",
     "exception": false,
     "start_time": "2023-12-04T15:47:19.437769",
     "status": "completed"
    },
    "tags": []
   },
   "outputs": [],
   "source": [
    "archseries_crosstab_b = pd.crosstab(\n",
    "    exploded_archseries[\"Archseries\"], exploded_archseries[\"Primary type\"], margins=True\n",
    ")\n",
    "archseries_crosstab_b"
   ]
  },
  {
   "cell_type": "markdown",
   "id": "6de5fdac",
   "metadata": {
    "papermill": {
     "duration": 0.140602,
     "end_time": "2023-12-04T15:47:20.016539",
     "exception": false,
     "start_time": "2023-12-04T15:47:19.875937",
     "status": "completed"
    },
    "tags": []
   },
   "source": [
    "\n",
    "\n",
    "### By secondary type"
   ]
  },
  {
   "cell_type": "code",
   "execution_count": null,
   "id": "966a00dd",
   "metadata": {
    "papermill": {
     "duration": 0.265793,
     "end_time": "2023-12-04T15:47:20.443159",
     "exception": false,
     "start_time": "2023-12-04T15:47:20.177366",
     "status": "completed"
    },
    "tags": []
   },
   "outputs": [],
   "source": [
    "exploded_archseries_secondary_type = exploded_archseries[\n",
    "    [\"Archseries\", \"Secondary type\"]\n",
    "].explode(\"Secondary type\")\n",
    "archseries_crosstab_c = pd.crosstab(\n",
    "    exploded_archseries_secondary_type[\"Archseries\"],\n",
    "    exploded_archseries_secondary_type[\"Secondary type\"],\n",
    "    margins=True,\n",
    ")\n",
    "archseries_crosstab_c"
   ]
  },
  {
   "cell_type": "markdown",
   "id": "a881d945",
   "metadata": {
    "papermill": {
     "duration": 0.142693,
     "end_time": "2023-12-04T15:47:20.772973",
     "exception": false,
     "start_time": "2023-12-04T15:47:20.630280",
     "status": "completed"
    },
    "tags": []
   },
   "source": [
    "### By monster type"
   ]
  },
  {
   "cell_type": "code",
   "execution_count": null,
   "id": "d99ee9e1",
   "metadata": {
    "papermill": {
     "duration": 0.341591,
     "end_time": "2023-12-04T15:47:21.268488",
     "exception": false,
     "start_time": "2023-12-04T15:47:20.926897",
     "status": "completed"
    },
    "tags": []
   },
   "outputs": [],
   "source": [
    "archseries_crosstab_d = pd.crosstab(\n",
    "    exploded_archseries[\"Archseries\"], exploded_archseries[\"Monster type\"], margins=True\n",
    ")\n",
    "archseries_crosstab_d"
   ]
  },
  {
   "cell_type": "markdown",
   "id": "f97ab388",
   "metadata": {
    "papermill": {
     "duration": 0.143243,
     "end_time": "2023-12-04T15:47:21.576003",
     "exception": false,
     "start_time": "2023-12-04T15:47:21.432760",
     "status": "completed"
    },
    "tags": []
   },
   "source": [
    "### By property"
   ]
  },
  {
   "cell_type": "code",
   "execution_count": null,
   "id": "fbbb1ccc",
   "metadata": {
    "papermill": {
     "duration": 0.280021,
     "end_time": "2023-12-04T15:47:22.034299",
     "exception": false,
     "start_time": "2023-12-04T15:47:21.754278",
     "status": "completed"
    },
    "tags": []
   },
   "outputs": [],
   "source": [
    "archseries_crosstab_e = pd.crosstab(\n",
    "    exploded_archseries[\"Archseries\"], exploded_archseries[\"Property\"], margins=True\n",
    ")\n",
    "archseries_crosstab_e"
   ]
  },
  {
   "cell_type": "markdown",
   "id": "554f6e74",
   "metadata": {
    "papermill": {
     "duration": 0.14324,
     "end_time": "2023-12-04T15:47:22.353871",
     "exception": false,
     "start_time": "2023-12-04T15:47:22.210631",
     "status": "completed"
    },
    "tags": []
   },
   "source": [
    "## Artworks"
   ]
  },
  {
   "cell_type": "code",
   "execution_count": null,
   "id": "2224e061",
   "metadata": {
    "papermill": {
     "duration": 0.160522,
     "end_time": "2023-12-04T15:47:22.681301",
     "exception": false,
     "start_time": "2023-12-04T15:47:22.520779",
     "status": "completed"
    },
    "tags": []
   },
   "outputs": [],
   "source": [
    "print(\n",
    "    \"Total number of cards with edited or alternate artworks:\",\n",
    "    cards_df[\"Artwork\"].count(),\n",
    ")"
   ]
  },
  {
   "cell_type": "code",
   "execution_count": null,
   "id": "f7492a67",
   "metadata": {
    "papermill": {
     "duration": 0.290304,
     "end_time": "2023-12-04T15:47:23.126525",
     "exception": false,
     "start_time": "2023-12-04T15:47:22.836221",
     "status": "completed"
    },
    "tags": []
   },
   "outputs": [],
   "source": [
    "cards_df[[\"Name\", \"Password\", \"TCG status\", \"OCG status\", \"Artwork\"]][\n",
    "    cards_df[\"Artwork\"].notna()\n",
    "]"
   ]
  },
  {
   "cell_type": "code",
   "execution_count": null,
   "id": "fa1ea6aa",
   "metadata": {
    "papermill": {
     "duration": 0.290688,
     "end_time": "2023-12-04T15:47:23.606005",
     "exception": false,
     "start_time": "2023-12-04T15:47:23.315317",
     "status": "completed"
    },
    "tags": []
   },
   "outputs": [],
   "source": [
    "artwork_value_counts = cards_df[\"Artwork\"].value_counts()\n",
    "plt.figure(figsize=(20, 8))\n",
    "plt.title(\"Artworks\")\n",
    "venn2(\n",
    "    subsets=(\n",
    "        artwork_value_counts[(\"Alternate\",)],\n",
    "        artwork_value_counts[(\"Edited\",)],\n",
    "        artwork_value_counts[(\"Alternate\", \"Edited\")],\n",
    "    ),\n",
    "    set_labels=(\"Alternate artwork\", \"Edited artwork\"),\n",
    ")\n",
    "plt.show()"
   ]
  },
  {
   "cell_type": "markdown",
   "id": "e49df5df",
   "metadata": {
    "papermill": {
     "duration": 0.149124,
     "end_time": "2023-12-04T15:47:23.941322",
     "exception": false,
     "start_time": "2023-12-04T15:47:23.792198",
     "status": "completed"
    },
    "tags": []
   },
   "source": [
    "### By card type"
   ]
  },
  {
   "cell_type": "code",
   "execution_count": null,
   "id": "1b14c224",
   "metadata": {
    "papermill": {
     "duration": 0.309997,
     "end_time": "2023-12-04T15:47:24.752179",
     "exception": false,
     "start_time": "2023-12-04T15:47:24.442182",
     "status": "completed"
    },
    "tags": []
   },
   "outputs": [],
   "source": [
    "artwork_crosstab = pd.crosstab(cards_df[\"Artwork\"], cards_df[\"Card type\"])\n",
    "artwork_crosstab"
   ]
  },
  {
   "cell_type": "markdown",
   "id": "81afa2df",
   "metadata": {
    "papermill": {
     "duration": 0.15031,
     "end_time": "2023-12-04T15:47:25.081330",
     "exception": false,
     "start_time": "2023-12-04T15:47:24.931020",
     "status": "completed"
    },
    "tags": []
   },
   "source": [
    "### By primary type"
   ]
  },
  {
   "cell_type": "code",
   "execution_count": null,
   "id": "55081aa0",
   "metadata": {
    "papermill": {
     "duration": 0.184641,
     "end_time": "2023-12-04T15:47:25.438021",
     "exception": false,
     "start_time": "2023-12-04T15:47:25.253380",
     "status": "completed"
    },
    "tags": []
   },
   "outputs": [],
   "source": [
    "artwork_crosstab_b = pd.crosstab(cards_df[\"Artwork\"], cards_df[\"Primary type\"])\n",
    "artwork_crosstab_b"
   ]
  },
  {
   "cell_type": "markdown",
   "id": "14a90117",
   "metadata": {
    "papermill": {
     "duration": 0.147757,
     "end_time": "2023-12-04T15:47:25.746531",
     "exception": false,
     "start_time": "2023-12-04T15:47:25.598774",
     "status": "completed"
    },
    "tags": []
   },
   "source": [
    "More granularity is unnecessary"
   ]
  },
  {
   "cell_type": "markdown",
   "id": "5210d61b",
   "metadata": {
    "papermill": {
     "duration": 0.147776,
     "end_time": "2023-12-04T15:47:26.053229",
     "exception": false,
     "start_time": "2023-12-04T15:47:25.905453",
     "status": "completed"
    },
    "tags": []
   },
   "source": [
    "## Errata"
   ]
  },
  {
   "cell_type": "code",
   "execution_count": null,
   "id": "09b33100",
   "metadata": {
    "papermill": {
     "duration": 0.17064,
     "end_time": "2023-12-04T15:47:26.381729",
     "exception": false,
     "start_time": "2023-12-04T15:47:26.211089",
     "status": "completed"
    },
    "tags": []
   },
   "outputs": [],
   "source": [
    "print(\"Total number of cards with errata:\", cards_df[\"Errata\"].count())"
   ]
  },
  {
   "cell_type": "code",
   "execution_count": null,
   "id": "40462eee",
   "metadata": {
    "papermill": {
     "duration": 0.437268,
     "end_time": "2023-12-04T15:47:26.976046",
     "exception": false,
     "start_time": "2023-12-04T15:47:26.538778",
     "status": "completed"
    },
    "tags": []
   },
   "outputs": [],
   "source": [
    "cards_df[[\"Name\", \"Password\", \"TCG status\", \"OCG status\", \"Errata\"]][\n",
    "    cards_df[\"Errata\"].notna()\n",
    "]"
   ]
  },
  {
   "cell_type": "code",
   "execution_count": null,
   "id": "9f7d97c2-8569-45b7-baba-01f33e56212b",
   "metadata": {
    "papermill": {
     "duration": 0.31186,
     "end_time": "2023-12-04T15:47:27.453824",
     "exception": false,
     "start_time": "2023-12-04T15:47:27.141964",
     "status": "completed"
    },
    "tags": []
   },
   "outputs": [],
   "source": [
    "errata_counts = (\n",
    "    cards_df.groupby(\"Errata\").nunique().sort_values(\"Name\", ascending=False)\n",
    ")\n",
    "errata_counts"
   ]
  },
  {
   "cell_type": "code",
   "execution_count": null,
   "id": "60843a4f",
   "metadata": {
    "papermill": {
     "duration": 0.31122,
     "end_time": "2023-12-04T15:47:27.952095",
     "exception": false,
     "start_time": "2023-12-04T15:47:27.640875",
     "status": "completed"
    },
    "tags": []
   },
   "outputs": [],
   "source": [
    "plt.figure(figsize=(20, 8))\n",
    "plt.title(\"Errata\")\n",
    "sorted_errata_name_counts = (\n",
    "    errata_counts[\"Name\"]\n",
    "    .drop((\"Any\",))\n",
    "    .sort_index(key=lambda x: [(len(i), i) for i in x])\n",
    ")\n",
    "venn2(\n",
    "    subsets=sorted_errata_name_counts,\n",
    "    set_labels=sorted_errata_name_counts.index[:-1].str[0],\n",
    ")\n",
    "plt.show()"
   ]
  },
  {
   "cell_type": "markdown",
   "id": "a3703983",
   "metadata": {
    "papermill": {
     "duration": 0.149681,
     "end_time": "2023-12-04T15:47:28.287301",
     "exception": false,
     "start_time": "2023-12-04T15:47:28.137620",
     "status": "completed"
    },
    "tags": []
   },
   "source": [
    "### By card type"
   ]
  },
  {
   "cell_type": "code",
   "execution_count": null,
   "id": "fb103c29",
   "metadata": {
    "papermill": {
     "duration": 0.197182,
     "end_time": "2023-12-04T15:47:28.658212",
     "exception": false,
     "start_time": "2023-12-04T15:47:28.461030",
     "status": "completed"
    },
    "tags": []
   },
   "outputs": [],
   "source": [
    "errata_crosstab = pd.crosstab(cards_df[\"Errata\"], cards_df[\"Card type\"])\n",
    "errata_crosstab.sort_values(by=errata_crosstab.columns.tolist(), ascending=False)"
   ]
  },
  {
   "cell_type": "markdown",
   "id": "36d241f1",
   "metadata": {
    "papermill": {
     "duration": 0.173092,
     "end_time": "2023-12-04T15:47:29.021303",
     "exception": false,
     "start_time": "2023-12-04T15:47:28.848211",
     "status": "completed"
    },
    "tags": []
   },
   "source": [
    "### By primary type"
   ]
  },
  {
   "cell_type": "code",
   "execution_count": null,
   "id": "5b90628d",
   "metadata": {
    "papermill": {
     "duration": 0.192112,
     "end_time": "2023-12-04T15:47:29.487659",
     "exception": false,
     "start_time": "2023-12-04T15:47:29.295547",
     "status": "completed"
    },
    "tags": []
   },
   "outputs": [],
   "source": [
    "errata_crosstab_b = pd.crosstab(cards_df[\"Errata\"], cards_df[\"Primary type\"])\n",
    "errata_crosstab_b.sort_values(by=errata_crosstab_b.columns.tolist(), ascending=False)"
   ]
  },
  {
   "cell_type": "markdown",
   "id": "0029e1ca",
   "metadata": {
    "papermill": {
     "duration": 0.155143,
     "end_time": "2023-12-04T15:47:29.843684",
     "exception": false,
     "start_time": "2023-12-04T15:47:29.688541",
     "status": "completed"
    },
    "tags": []
   },
   "source": [
    "More granularity is unnecessary"
   ]
  },
  {
   "cell_type": "markdown",
   "id": "35d88dda",
   "metadata": {
    "papermill": {
     "duration": 0.36699,
     "end_time": "2023-12-04T15:47:30.395448",
     "exception": false,
     "start_time": "2023-12-04T15:47:30.028458",
     "status": "completed"
    },
    "tags": []
   },
   "source": [
    "### By artwork"
   ]
  },
  {
   "cell_type": "code",
   "execution_count": null,
   "id": "0057def3",
   "metadata": {
    "papermill": {
     "duration": 0.212769,
     "end_time": "2023-12-04T15:47:30.826154",
     "exception": false,
     "start_time": "2023-12-04T15:47:30.613385",
     "status": "completed"
    },
    "tags": []
   },
   "outputs": [],
   "source": [
    "errata_crosstab_c = pd.crosstab(cards_df[\"Artwork\"], cards_df[\"Errata\"])\n",
    "errata_crosstab_c.sort_values(by=errata_crosstab_c.columns.tolist(), ascending=False)"
   ]
  },
  {
   "cell_type": "markdown",
   "id": "edef3194",
   "metadata": {
    "papermill": {
     "duration": 0.39526,
     "end_time": "2023-12-04T15:47:31.409523",
     "exception": false,
     "start_time": "2023-12-04T15:47:31.014263",
     "status": "completed"
    },
    "tags": []
   },
   "source": [
    "## TCG & OCG status"
   ]
  },
  {
   "cell_type": "markdown",
   "id": "3e7505cd",
   "metadata": {
    "papermill": {
     "duration": 0.158153,
     "end_time": "2023-12-04T15:47:31.756665",
     "exception": false,
     "start_time": "2023-12-04T15:47:31.598512",
     "status": "completed"
    },
    "tags": []
   },
   "source": [
    "### TGC status"
   ]
  },
  {
   "cell_type": "code",
   "execution_count": null,
   "id": "88b93fca",
   "metadata": {
    "papermill": {
     "duration": 0.169231,
     "end_time": "2023-12-04T15:47:32.097232",
     "exception": false,
     "start_time": "2023-12-04T15:47:31.928001",
     "status": "completed"
    },
    "tags": []
   },
   "outputs": [],
   "source": [
    "print(\"Total number of TCG status:\", cards_df[\"TCG status\"].nunique())"
   ]
  },
  {
   "cell_type": "code",
   "execution_count": null,
   "id": "2c69bec0",
   "metadata": {
    "papermill": {
     "duration": 0.293454,
     "end_time": "2023-12-04T15:47:32.560808",
     "exception": false,
     "start_time": "2023-12-04T15:47:32.267354",
     "status": "completed"
    },
    "tags": []
   },
   "outputs": [],
   "source": [
    "cards_df.drop(columns=[\"Page name\", \"Page URL\"]).groupby(\n",
    "    \"TCG status\", dropna=False\n",
    ").nunique()"
   ]
  },
  {
   "cell_type": "code",
   "execution_count": null,
   "id": "add82403",
   "metadata": {
    "papermill": {
     "duration": 0.759329,
     "end_time": "2023-12-04T15:47:33.501005",
     "exception": false,
     "start_time": "2023-12-04T15:47:32.741676",
     "status": "completed"
    },
    "tags": []
   },
   "outputs": [],
   "source": [
    "cards_df[\"TCG status\"].value_counts(dropna=False).plot.bar(\n",
    "    figsize=(18, 6), logy=True, grid=True, rot=45\n",
    ")\n",
    "plt.show()"
   ]
  },
  {
   "cell_type": "markdown",
   "id": "f6b985a0",
   "metadata": {
    "papermill": {
     "duration": 0.159807,
     "end_time": "2023-12-04T15:47:33.849038",
     "exception": false,
     "start_time": "2023-12-04T15:47:33.689231",
     "status": "completed"
    },
    "tags": []
   },
   "source": [
    "#### By card type"
   ]
  },
  {
   "cell_type": "code",
   "execution_count": null,
   "id": "12c444ed",
   "metadata": {
    "papermill": {
     "duration": 0.195538,
     "end_time": "2023-12-04T15:47:34.217702",
     "exception": false,
     "start_time": "2023-12-04T15:47:34.022164",
     "status": "completed"
    },
    "tags": []
   },
   "outputs": [],
   "source": [
    "# Remove unlimited\n",
    "tcg_crosstab = pd.crosstab(cards_df[\"Card type\"], cards_df[\"TCG status\"]).drop(\n",
    "    [\"Unlimited\"], axis=1\n",
    ")\n",
    "tcg_crosstab"
   ]
  },
  {
   "cell_type": "code",
   "execution_count": null,
   "id": "8648b51e",
   "metadata": {
    "papermill": {
     "duration": 0.57199,
     "end_time": "2023-12-04T15:47:34.963744",
     "exception": false,
     "start_time": "2023-12-04T15:47:34.391754",
     "status": "completed"
    },
    "tags": []
   },
   "outputs": [],
   "source": [
    "plt.figure(figsize=(12, 6))\n",
    "sns.heatmap(\n",
    "    tcg_crosstab[tcg_crosstab > 0],\n",
    "    annot=True,\n",
    "    fmt=\"g\",\n",
    "    cmap=\"viridis\",\n",
    "    norm=mc.LogNorm(),\n",
    ")\n",
    "plt.show()"
   ]
  },
  {
   "cell_type": "markdown",
   "id": "521f367b",
   "metadata": {
    "papermill": {
     "duration": 0.159156,
     "end_time": "2023-12-04T15:47:35.337567",
     "exception": false,
     "start_time": "2023-12-04T15:47:35.178411",
     "status": "completed"
    },
    "tags": []
   },
   "source": [
    "#### By monster type"
   ]
  },
  {
   "cell_type": "code",
   "execution_count": null,
   "id": "bb73564f",
   "metadata": {
    "papermill": {
     "duration": 0.202355,
     "end_time": "2023-12-04T15:47:35.727244",
     "exception": false,
     "start_time": "2023-12-04T15:47:35.524889",
     "status": "completed"
    },
    "tags": []
   },
   "outputs": [],
   "source": [
    "# Remove unlimited\n",
    "tcg_crosstab_b = pd.crosstab(cards_df[\"Monster type\"], cards_df[\"TCG status\"]).drop(\n",
    "    [\"Unlimited\"], axis=1\n",
    ")\n",
    "tcg_crosstab_b"
   ]
  },
  {
   "cell_type": "code",
   "execution_count": null,
   "id": "dd5e826c",
   "metadata": {
    "papermill": {
     "duration": 1.031321,
     "end_time": "2023-12-04T15:47:36.945591",
     "exception": false,
     "start_time": "2023-12-04T15:47:35.914270",
     "status": "completed"
    },
    "tags": []
   },
   "outputs": [],
   "source": [
    "plt.figure(figsize=(20, 5))\n",
    "sns.heatmap(\n",
    "    tcg_crosstab_b[tcg_crosstab_b > 0].T,\n",
    "    annot=True,\n",
    "    fmt=\"g\",\n",
    "    cmap=\"viridis\",\n",
    "    square=True,\n",
    ")\n",
    "plt.show()"
   ]
  },
  {
   "cell_type": "markdown",
   "id": "b0e7d771",
   "metadata": {
    "papermill": {
     "duration": 0.303242,
     "end_time": "2023-12-04T15:47:37.432676",
     "exception": false,
     "start_time": "2023-12-04T15:47:37.129434",
     "status": "completed"
    },
    "tags": []
   },
   "source": [
    "#### By archseries"
   ]
  },
  {
   "cell_type": "code",
   "execution_count": null,
   "id": "05fc1f77",
   "metadata": {
    "papermill": {
     "duration": 0.234063,
     "end_time": "2023-12-04T15:47:37.849190",
     "exception": false,
     "start_time": "2023-12-04T15:47:37.615127",
     "status": "completed"
    },
    "tags": []
   },
   "outputs": [],
   "source": [
    "# Remove unlimited\n",
    "tcg_crosstab_c = pd.crosstab(\n",
    "    exploded_archseries[\"Archseries\"].where(\n",
    "        exploded_archseries[\"OCG status\"] != \"Unlimited\"\n",
    "    ),\n",
    "    exploded_archseries[\"TCG status\"],\n",
    "    margins=True,\n",
    ")\n",
    "tcg_crosstab_c"
   ]
  },
  {
   "cell_type": "markdown",
   "id": "af202b20",
   "metadata": {
    "papermill": {
     "duration": 0.159223,
     "end_time": "2023-12-04T15:47:38.199942",
     "exception": false,
     "start_time": "2023-12-04T15:47:38.040719",
     "status": "completed"
    },
    "tags": []
   },
   "source": [
    "### OCG status"
   ]
  },
  {
   "cell_type": "code",
   "execution_count": null,
   "id": "0b01a31b",
   "metadata": {
    "papermill": {
     "duration": 0.177811,
     "end_time": "2023-12-04T15:47:38.565700",
     "exception": false,
     "start_time": "2023-12-04T15:47:38.387889",
     "status": "completed"
    },
    "tags": []
   },
   "outputs": [],
   "source": [
    "print(\"Total number of OCG status:\", cards_df[\"OCG status\"].nunique())"
   ]
  },
  {
   "cell_type": "code",
   "execution_count": null,
   "id": "13b7b5c8",
   "metadata": {
    "papermill": {
     "duration": 0.323846,
     "end_time": "2023-12-04T15:47:39.082984",
     "exception": false,
     "start_time": "2023-12-04T15:47:38.759138",
     "status": "completed"
    },
    "tags": []
   },
   "outputs": [],
   "source": [
    "cards_df.drop(columns=[\"Page name\", \"Page URL\"]).groupby(\n",
    "    \"OCG status\", dropna=False\n",
    ").nunique()"
   ]
  },
  {
   "cell_type": "code",
   "execution_count": null,
   "id": "baff20b2",
   "metadata": {
    "papermill": {
     "duration": 0.714169,
     "end_time": "2023-12-04T15:47:40.017703",
     "exception": false,
     "start_time": "2023-12-04T15:47:39.303534",
     "status": "completed"
    },
    "tags": []
   },
   "outputs": [],
   "source": [
    "cards_df[\"OCG status\"].value_counts(dropna=False).plot.bar(\n",
    "    figsize=(18, 6), logy=True, grid=True, rot=45\n",
    ")\n",
    "plt.show()"
   ]
  },
  {
   "cell_type": "markdown",
   "id": "5c4bf980",
   "metadata": {
    "papermill": {
     "duration": 0.161988,
     "end_time": "2023-12-04T15:47:40.372081",
     "exception": false,
     "start_time": "2023-12-04T15:47:40.210093",
     "status": "completed"
    },
    "tags": []
   },
   "source": [
    "#### By card type"
   ]
  },
  {
   "cell_type": "code",
   "execution_count": null,
   "id": "4863280e",
   "metadata": {
    "papermill": {
     "duration": 0.203154,
     "end_time": "2023-12-04T15:47:40.766273",
     "exception": false,
     "start_time": "2023-12-04T15:47:40.563119",
     "status": "completed"
    },
    "tags": []
   },
   "outputs": [],
   "source": [
    "# Remove unlimited\n",
    "ocg_crosstab = pd.crosstab(cards_df[\"Card type\"], cards_df[\"OCG status\"]).drop(\n",
    "    [\"Unlimited\"], axis=1\n",
    ")\n",
    "ocg_crosstab"
   ]
  },
  {
   "cell_type": "code",
   "execution_count": null,
   "id": "e8489887",
   "metadata": {
    "papermill": {
     "duration": 0.522394,
     "end_time": "2023-12-04T15:47:41.484695",
     "exception": false,
     "start_time": "2023-12-04T15:47:40.962301",
     "status": "completed"
    },
    "tags": []
   },
   "outputs": [],
   "source": [
    "plt.figure(figsize=(12, 6))\n",
    "sns.heatmap(ocg_crosstab[ocg_crosstab > 0], annot=True, fmt=\"g\", cmap=\"viridis\")\n",
    "plt.show()"
   ]
  },
  {
   "cell_type": "markdown",
   "id": "32f682d2",
   "metadata": {
    "papermill": {
     "duration": 0.1683,
     "end_time": "2023-12-04T15:47:41.839470",
     "exception": false,
     "start_time": "2023-12-04T15:47:41.671170",
     "status": "completed"
    },
    "tags": []
   },
   "source": [
    "#### By monster type"
   ]
  },
  {
   "cell_type": "code",
   "execution_count": null,
   "id": "3dbadcb8",
   "metadata": {
    "papermill": {
     "duration": 0.202634,
     "end_time": "2023-12-04T15:47:42.235020",
     "exception": false,
     "start_time": "2023-12-04T15:47:42.032386",
     "status": "completed"
    },
    "tags": []
   },
   "outputs": [],
   "source": [
    "ocg_crosstab_b = pd.crosstab(cards_df[\"Monster type\"], cards_df[\"OCG status\"]).drop(\n",
    "    [\"Unlimited\"], axis=1\n",
    ")\n",
    "ocg_crosstab_b"
   ]
  },
  {
   "cell_type": "code",
   "execution_count": null,
   "id": "4743b0c1",
   "metadata": {
    "papermill": {
     "duration": 0.865688,
     "end_time": "2023-12-04T15:47:43.269769",
     "exception": false,
     "start_time": "2023-12-04T15:47:42.404081",
     "status": "completed"
    },
    "tags": []
   },
   "outputs": [],
   "source": [
    "plt.figure(figsize=(20, 5))\n",
    "sns.heatmap(\n",
    "    ocg_crosstab_b[ocg_crosstab_b > 0].T,\n",
    "    annot=True,\n",
    "    fmt=\"g\",\n",
    "    cmap=\"viridis\",\n",
    "    square=True,\n",
    ")\n",
    "plt.show()"
   ]
  },
  {
   "cell_type": "markdown",
   "id": "19d9067b",
   "metadata": {
    "papermill": {
     "duration": 0.277018,
     "end_time": "2023-12-04T15:47:43.724449",
     "exception": false,
     "start_time": "2023-12-04T15:47:43.447431",
     "status": "completed"
    },
    "tags": []
   },
   "source": [
    "#### By archseries"
   ]
  },
  {
   "cell_type": "code",
   "execution_count": null,
   "id": "d866a6e2",
   "metadata": {
    "papermill": {
     "duration": 0.276812,
     "end_time": "2023-12-04T15:47:44.435923",
     "exception": false,
     "start_time": "2023-12-04T15:47:44.159111",
     "status": "completed"
    },
    "tags": []
   },
   "outputs": [],
   "source": [
    "# Remove unlimited\n",
    "ocg_crosstab_c = pd.crosstab(\n",
    "    exploded_archseries[\"Archseries\"].where(\n",
    "        exploded_archseries[\"OCG status\"] != \"Unlimited\"\n",
    "    ),\n",
    "    exploded_archseries[\"OCG status\"],\n",
    "    margins=True,\n",
    ")\n",
    "ocg_crosstab_c"
   ]
  },
  {
   "cell_type": "markdown",
   "id": "c5b33198",
   "metadata": {
    "papermill": {
     "duration": 0.167196,
     "end_time": "2023-12-04T15:47:44.793952",
     "exception": false,
     "start_time": "2023-12-04T15:47:44.626756",
     "status": "completed"
    },
    "tags": []
   },
   "source": [
    "### TCG vs. OCG status"
   ]
  },
  {
   "cell_type": "code",
   "execution_count": null,
   "id": "14f2101b",
   "metadata": {
    "papermill": {
     "duration": 0.210368,
     "end_time": "2023-12-04T15:47:45.202870",
     "exception": false,
     "start_time": "2023-12-04T15:47:44.992502",
     "status": "completed"
    },
    "tags": []
   },
   "outputs": [],
   "source": [
    "cg_crosstab = pd.crosstab(\n",
    "    cards_df[\"OCG status\"], cards_df[\"TCG status\"], dropna=False, margins=False\n",
    ")\n",
    "cg_crosstab"
   ]
  },
  {
   "cell_type": "code",
   "execution_count": null,
   "id": "d10c5c81",
   "metadata": {
    "papermill": {
     "duration": 0.806324,
     "end_time": "2023-12-04T15:47:46.201316",
     "exception": false,
     "start_time": "2023-12-04T15:47:45.394992",
     "status": "completed"
    },
    "tags": []
   },
   "outputs": [],
   "source": [
    "plt.figure(figsize=(10, 8))\n",
    "sns.heatmap(\n",
    "    cg_crosstab[cg_crosstab > 0],\n",
    "    annot=True,\n",
    "    fmt=\"g\",\n",
    "    cmap=\"viridis\",\n",
    "    square=True,\n",
    "    norm=mc.LogNorm(),\n",
    ")\n",
    "plt.show()"
   ]
  },
  {
   "cell_type": "markdown",
   "id": "95d94158-0922-4085-b2c7-d7fa24f40038",
   "metadata": {
    "papermill": {
     "duration": 0.167969,
     "end_time": "2023-12-04T15:47:46.555695",
     "exception": false,
     "start_time": "2023-12-04T15:47:46.387726",
     "status": "completed"
    },
    "tags": []
   },
   "source": [
    "# Extras"
   ]
  },
  {
   "cell_type": "markdown",
   "id": "81de3001-152d-4f35-9978-b8f895a91cc1",
   "metadata": {
    "papermill": {
     "duration": 0.161986,
     "end_time": "2023-12-04T15:47:46.904142",
     "exception": false,
     "start_time": "2023-12-04T15:47:46.742156",
     "status": "completed"
    },
    "tags": []
   },
   "source": [
    "## Multiple secondary types"
   ]
  },
  {
   "cell_type": "code",
   "execution_count": null,
   "id": "7efee39e-a0b5-4636-bcd4-cb9c75e11888",
   "metadata": {
    "papermill": {
     "duration": 0.225424,
     "end_time": "2023-12-04T15:47:47.312511",
     "exception": false,
     "start_time": "2023-12-04T15:47:47.087087",
     "status": "completed"
    },
    "tags": []
   },
   "outputs": [],
   "source": [
    "cards_df.dropna(subset=\"Secondary type\", axis=0)[\n",
    "    [len(x) > 1 for x in cards_df[\"Secondary type\"].dropna()]\n",
    "]"
   ]
  },
  {
   "cell_type": "markdown",
   "id": "a1bdb3eb-7f83-49a8-92a2-a8a05e6253c7",
   "metadata": {
    "papermill": {
     "duration": 0.1634,
     "end_time": "2023-12-04T15:47:47.652588",
     "exception": false,
     "start_time": "2023-12-04T15:47:47.489188",
     "status": "completed"
    },
    "tags": []
   },
   "source": [
    "## Not yet released"
   ]
  },
  {
   "cell_type": "code",
   "execution_count": null,
   "id": "6ca6f265",
   "metadata": {
    "papermill": {
     "duration": 0.206969,
     "end_time": "2023-12-04T15:47:48.053059",
     "exception": false,
     "start_time": "2023-12-04T15:47:47.846090",
     "status": "completed"
    },
    "tags": []
   },
   "outputs": [],
   "source": [
    "cards_df.loc[cards_df[\"OCG status\"] == \"Not yet released\"].loc[\n",
    "    full_df[\"TCG status\"] == \"Not yet released\"\n",
    "]"
   ]
  },
  {
   "cell_type": "markdown",
   "id": "b53361a5-0528-4691-a8ca-c015e4802d9c",
   "metadata": {
    "papermill": {
     "duration": 0.16615,
     "end_time": "2023-12-04T15:47:48.410050",
     "exception": false,
     "start_time": "2023-12-04T15:47:48.243900",
     "status": "completed"
    },
    "tags": []
   },
   "source": [
    "## Counters and Tokens"
   ]
  },
  {
   "cell_type": "code",
   "execution_count": null,
   "id": "4022c3ca-bd45-4870-b233-7fdd5b1639a7",
   "metadata": {
    "papermill": {
     "duration": 0.250375,
     "end_time": "2023-12-04T15:47:48.862577",
     "exception": false,
     "start_time": "2023-12-04T15:47:48.612202",
     "status": "completed"
    },
    "tags": []
   },
   "outputs": [],
   "source": [
    "token_df.dropna(how=\"all\", axis=1)"
   ]
  },
  {
   "cell_type": "markdown",
   "id": "5a48e113-5c3f-48cd-a6a4-d1b779b8d834",
   "metadata": {
    "papermill": {
     "duration": 0.273358,
     "end_time": "2023-12-04T15:47:49.352408",
     "exception": false,
     "start_time": "2023-12-04T15:47:49.079050",
     "status": "completed"
    },
    "tags": []
   },
   "source": [
    "# Page name differs from card name"
   ]
  },
  {
   "cell_type": "code",
   "execution_count": null,
   "id": "4f3c09e4-ca0e-437b-82ed-7f1939b29886",
   "metadata": {
    "papermill": {
     "duration": 0.355657,
     "end_time": "2023-12-04T15:47:49.926254",
     "exception": false,
     "start_time": "2023-12-04T15:47:49.570597",
     "status": "completed"
    },
    "tags": []
   },
   "outputs": [],
   "source": [
    "full_df[full_df[\"Name\"] != full_df[\"Page name\"]]"
   ]
  },
  {
   "cell_type": "markdown",
   "id": "4058f0b9-3031-4daa-8a4a-2dddf8c74c07",
   "metadata": {
    "papermill": {
     "duration": 0.161251,
     "end_time": "2023-12-04T15:47:50.292018",
     "exception": false,
     "start_time": "2023-12-04T15:47:50.130767",
     "status": "completed"
    },
    "tags": []
   },
   "source": [
    "# Epilogue"
   ]
  },
  {
   "cell_type": "code",
   "execution_count": null,
   "id": "871cb3eb-a0fc-42e8-b516-6d524deba2fc",
   "metadata": {
    "papermill": {
     "duration": 0.322013,
     "end_time": "2023-12-04T15:47:50.812342",
     "exception": false,
     "start_time": "2023-12-04T15:47:50.490329",
     "status": "completed"
    },
    "tags": []
   },
   "outputs": [],
   "source": [
    "benchmark(report=\"cards\", timestamp=timestamp)"
   ]
  },
  {
   "cell_type": "code",
   "execution_count": null,
   "id": "310f7d3e-ab76-4c5b-bf3d-f6898d559118",
   "metadata": {
    "papermill": {
     "duration": 0.173564,
     "end_time": "2023-12-04T15:47:51.210199",
     "exception": false,
     "start_time": "2023-12-04T15:47:51.036635",
     "status": "completed"
    },
    "tags": []
   },
   "outputs": [],
   "source": [
    "footer(timestamp)"
   ]
  },
  {
   "cell_type": "markdown",
   "id": "fade81da",
   "metadata": {
    "papermill": {
     "duration": 0.168509,
     "end_time": "2023-12-04T15:47:51.558819",
     "exception": false,
     "start_time": "2023-12-04T15:47:51.390310",
     "status": "completed"
    },
    "tags": []
   },
   "source": [
    "## HTML export"
   ]
  },
  {
   "cell_type": "code",
   "execution_count": null,
   "id": "6715b83e-9a4e-423c-81b9-33a81603acd4",
   "metadata": {
    "papermill": {
     "duration": 0.183886,
     "end_time": "2023-12-04T15:47:51.967730",
     "exception": false,
     "start_time": "2023-12-04T15:47:51.783844",
     "status": "completed"
    },
    "tags": []
   },
   "outputs": [],
   "source": [
    "# Save notebook on disck before generating HTML report\n",
    "save_notebook()"
   ]
  },
  {
   "cell_type": "code",
   "execution_count": null,
   "id": "de556e8b",
   "metadata": {
    "papermill": {
     "duration": 3.980844,
     "end_time": "2023-12-04T15:47:56.147494",
     "exception": false,
     "start_time": "2023-12-04T15:47:52.166650",
     "status": "completed"
    },
    "tags": []
   },
   "outputs": [],
   "source": [
    "! jupyter nbconvert Cards.ipynb --output-dir='../' --to=HTML --TagRemovePreprocessor.enabled=True --TagRemovePreprocessor.remove_cell_tags='exclude' --TemplateExporter.exclude_input=True --TemplateExporter.exclude_input_prompt=True --TemplateExporter.exclude_output_prompt=True"
   ]
  },
  {
   "cell_type": "markdown",
   "id": "641a7018-0f50-4ab6-b8f3-119a279cbc65",
   "metadata": {
    "papermill": {
     "duration": 0.167778,
     "end_time": "2023-12-04T15:47:56.499248",
     "exception": false,
     "start_time": "2023-12-04T15:47:56.331470",
     "status": "completed"
    },
    "tags": [
     "exclude"
    ]
   },
   "source": [
    "## Git"
   ]
  },
  {
   "cell_type": "code",
   "execution_count": null,
   "id": "379bc753-0b35-4b04-8cf4-13b99168a3ea",
   "metadata": {
    "papermill": {
     "duration": 1.397928,
     "end_time": "2023-12-04T15:47:58.094378",
     "exception": false,
     "start_time": "2023-12-04T15:47:56.696450",
     "status": "completed"
    },
    "tags": []
   },
   "outputs": [],
   "source": [
    "commit(\"*[Cc]ards*\", f\"Cards update - {timestamp.isoformat()}\")"
   ]
  }
 ],
 "metadata": {
  "kernelspec": {
   "display_name": "Python 3 (ipykernel)",
   "language": "python",
   "name": "python3"
  },
  "language_info": {
   "codemirror_mode": {
    "name": "ipython",
    "version": 3
   },
   "file_extension": ".py",
   "mimetype": "text/x-python",
   "name": "python",
   "nbconvert_exporter": "python",
   "pygments_lexer": "ipython3",
   "version": "3.11.6"
  },
  "papermill": {
   "default_parameters": {},
   "duration": 199.445535,
   "end_time": "2023-12-04T15:48:00.508588",
   "environment_variables": {},
   "exception": null,
   "input_path": "Cards.ipynb",
   "output_path": "Cards.ipynb",
   "parameters": {},
   "start_time": "2023-12-04T15:44:41.063053",
   "version": "2.4.0"
  },
  "toc": {
   "base_numbering": 1,
   "nav_menu": {
    "height": "599px",
    "width": "228px"
   },
   "number_sections": true,
   "sideBar": true,
   "skip_h1_title": false,
   "title_cell": "Table of Contents",
   "title_sidebar": "Contents",
   "toc_cell": true,
   "toc_position": {
    "height": "calc(100% - 180px)",
    "left": "10px",
    "top": "150px",
    "width": "353px"
   },
   "toc_section_display": true,
   "toc_window_display": true
  },
  "toc-autonumbering": false,
  "toc-showcode": false,
  "toc-showmarkdowntxt": false
 },
 "nbformat": 4,
 "nbformat_minor": 5
}
