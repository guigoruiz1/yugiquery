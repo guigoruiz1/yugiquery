{
 "cells": [
  {
   "cell_type": "code",
   "execution_count": null,
   "id": "82c61f6c-3c7a-4460-b466-9c521973fa5d",
   "metadata": {
    "papermill": {
     "duration": 13.417876,
     "end_time": "2023-02-17T12:17:12.785578",
     "exception": false,
     "start_time": "2023-02-17T12:16:59.367702",
     "status": "completed"
    },
    "tags": []
   },
   "outputs": [],
   "source": [
    "from yugiquery import *\n",
    "header('Cards')"
   ]
  },
  {
   "cell_type": "markdown",
   "id": "48cd2c04-37eb-408f-86ee-17e204a2cea9",
   "metadata": {
    "papermill": {
     "duration": 0.048281,
     "end_time": "2023-02-17T12:17:12.887545",
     "exception": false,
     "start_time": "2023-02-17T12:17:12.839264",
     "status": "completed"
    },
    "tags": []
   },
   "source": [
    "---"
   ]
  },
  {
   "cell_type": "markdown",
   "id": "6e66c226",
   "metadata": {
    "papermill": {
     "duration": 0.046578,
     "end_time": "2023-02-17T12:17:12.980964",
     "exception": false,
     "start_time": "2023-02-17T12:17:12.934386",
     "status": "completed"
    },
    "tags": [],
    "toc": true
   },
   "source": [
    "Table of Contents\n",
    "=================\n",
    "\n",
    "*   [1  Data aquisition](#Data-aquisition)\n",
    "    *   [1.1  Fetch online data](#Fetch-online-data)\n",
    "    *   [1.2  Merge data](#Merge-data)\n",
    "    *   [1.3  Save data](#Save-data)\n",
    "*   [3  Check changes](#Check-changes)\n",
    "    *   [3.1  Load previous data](#Load-previous-data)\n",
    "    *   [3.2  Generate changelog](#Generate-changelog)\n",
    "*   [4  Data visualization](#Data-visualization)\n",
    "    *   [4.1  Full data](#Full-data)\n",
    "    *   [4.2  Card types](#Card-types)\n",
    "    *   [4.3  Monsters](#Monsters)\n",
    "        *   [4.3.1  Attributes](#Attributes)\n",
    "        *   [4.3.2  Primary types](#Primary-types)\n",
    "            *   [4.3.2.1  Has effect discrimination](#Has-effect-discrimination)\n",
    "            *   [4.3.2.2  Is pendulum discrimination](#Is-pendulum-discrimination)\n",
    "            *   [4.3.2.3  By attribute](#By-attribute)\n",
    "        *   [4.3.3  Secondary types](#Secondary-types)\n",
    "            *   [4.3.3.1  By attribute](#By-attribute)\n",
    "            *   [4.3.3.2  By secondary type](#By-secondary-type)\n",
    "        *   [4.3.4  Monster types](#Monster-types)\n",
    "            *   [4.3.4.1  By Attribute](#By-Attribute)\n",
    "            *   [4.3.4.2  By primary type](#By-primary-type)\n",
    "            *   [4.3.4.3  By secondary type](#By-secondary-type)\n",
    "        *   [4.3.5  Effect type](#Effect-type)\n",
    "        *   [4.3.6  ATK](#ATK)\n",
    "        *   [4.3.7  DEF](#DEF)\n",
    "        *   [4.3.8  Level/Rank](#Level/Rank)\n",
    "            *   [4.3.8.1  ATK statistics](#ATK-statistics)\n",
    "            *   [4.3.8.2  DEF statistics](#DEF-statistics)\n",
    "        *   [4.3.9  Pendulum scale](#Pendulum-scale)\n",
    "            *   [4.3.9.1  ATK statistics](#ATK-statistics)\n",
    "            *   [4.3.9.2  DEF statistics](#DEF-statistics)\n",
    "            *   [4.3.9.3  Level/Rank statistics](#Level/Rank-statistics)\n",
    "        *   [4.3.10  Link](#Link)\n",
    "            *   [4.3.10.1  ATK statistics](#ATK-statistics)\n",
    "        *   [4.3.11  Link Arrows](#Link-Arrows)\n",
    "            *   [4.3.11.1  By combination](#By-combination)\n",
    "            *   [4.3.11.2  By unique](#By-unique)\n",
    "            *   [4.3.11.3  By link](#By-link)\n",
    "    *   [4.4  Spell & Trap](#Spell-&-Trap)\n",
    "        *   [4.4.1  Properties](#Properties)\n",
    "        *   [4.4.2  Effect type](#Effect-type)\n",
    "            *   [4.4.2.1  Spell & Trap discrimination](#Spell-&-Trap-discrimination)\n",
    "    *   [4.5  Archseries](#Archseries)\n",
    "        *   [4.5.1  By card type](#By-card-type)\n",
    "        *   [4.5.2  By primary type](#By-primary-type)\n",
    "        *   [4.5.3  By secondary type](#By-secondary-type)\n",
    "        *   [4.5.4  By monster type](#By-monster-type)\n",
    "        *   [4.5.5  By property](#By-property)\n",
    "    *   [4.6  Artworks](#Artworks)\n",
    "        *   [4.6.1  By card type](#By-card-type)\n",
    "        *   [4.6.2  By primary type](#By-primary-type)\n",
    "    *   [4.7  Errata](#Errata)\n",
    "        *   [4.7.1  By card type](#By-card-type)\n",
    "        *   [4.7.2  By primary type](#By-primary-type)\n",
    "        *   [4.7.3  By artwork](#By-artwork)\n",
    "    *   [4.8  TCG & OCG status](#TCG-&-OCG-status)\n",
    "        *   [4.8.1  TGC status](#TGC-status)\n",
    "            *   [4.8.1.1  By card type](#By-card-type)\n",
    "            *   [4.8.1.2  By monster type](#By-monster-type)\n",
    "            *   [4.8.1.3  By archseries](#By-archseries)\n",
    "        *   [4.8.2  OCG status](#OCG-status)\n",
    "            *   [4.8.2.1  By card type](#By-card-type)\n",
    "            *   [4.8.2.2  By monster type](#By-monster-type)\n",
    "            *   [4.8.2.3  By archseries](#By-archseries)\n",
    "        *   [4.8.3  TCG vs. OCG status](#TCG-vs.-OCG-status)\n",
    "*   [5  Extras](#Extras)\n",
    "    *   [5.1 Multiple secondary types](#Multiple-secondary-types)\n",
    "    *   [5.2 Not yet released](#Not-yet-released)\n",
    "    *   [5.3 Counters and Tokens](#Counters-and-Tokens)\n",
    "*   [6  Epilogue](#Epilogue)\n",
    "    *   [6.1  HTML export](#HTML-export)\n",
    "<!-- *   [6.2  Git](#Git) -->"
   ]
  },
  {
   "cell_type": "markdown",
   "id": "b60fae74",
   "metadata": {
    "papermill": {
     "duration": 0.049263,
     "end_time": "2023-02-17T12:17:13.077800",
     "exception": false,
     "start_time": "2023-02-17T12:17:13.028537",
     "status": "completed"
    },
    "tags": []
   },
   "source": [
    "# Data aquisition"
   ]
  },
  {
   "cell_type": "markdown",
   "id": "699f2460",
   "metadata": {
    "papermill": {
     "duration": 0.046257,
     "end_time": "2023-02-17T12:17:13.172442",
     "exception": false,
     "start_time": "2023-02-17T12:17:13.126185",
     "status": "completed"
    },
    "tags": []
   },
   "source": [
    "## Fetch online data"
   ]
  },
  {
   "cell_type": "code",
   "execution_count": null,
   "id": "135ab538",
   "metadata": {
    "papermill": {
     "duration": 0.054772,
     "end_time": "2023-02-17T12:17:13.274771",
     "exception": false,
     "start_time": "2023-02-17T12:17:13.219999",
     "status": "completed"
    },
    "tags": []
   },
   "outputs": [],
   "source": [
    "# Timestamp\n",
    "timestamp = pd.Timestamp.now()"
   ]
  },
  {
   "cell_type": "code",
   "execution_count": null,
   "id": "a5ac8487-bb9d-472c-857a-409b7eed3e2c",
   "metadata": {
    "papermill": {
     "duration": 142.804472,
     "end_time": "2023-02-17T12:19:36.125196",
     "exception": false,
     "start_time": "2023-02-17T12:17:13.320724",
     "status": "completed"
    },
    "tags": []
   },
   "outputs": [],
   "source": [
    "# Fetch Monster\n",
    "monster_df = fetch_monster()"
   ]
  },
  {
   "cell_type": "code",
   "execution_count": null,
   "id": "f62e94af-db1f-4ba5-9a7c-979b919625f3",
   "metadata": {
    "papermill": {
     "duration": 64.049406,
     "end_time": "2023-02-17T12:20:40.231128",
     "exception": false,
     "start_time": "2023-02-17T12:19:36.181722",
     "status": "completed"
    },
    "tags": []
   },
   "outputs": [],
   "source": [
    "# Fetch Spell\n",
    "spell_df = fetch_st(st='Spell')\n",
    "\n",
    "# Fetch Trap\n",
    "trap_df = fetch_st(st='Trap')"
   ]
  },
  {
   "cell_type": "code",
   "execution_count": null,
   "id": "913baa55-a117-4794-9b0c-9839cce927df",
   "metadata": {
    "papermill": {
     "duration": 15.166706,
     "end_time": "2023-02-17T12:20:55.451674",
     "exception": false,
     "start_time": "2023-02-17T12:20:40.284968",
     "status": "completed"
    },
    "tags": []
   },
   "outputs": [],
   "source": [
    "# Fetch Counter\n",
    "counter_df = fetch_counter()\n",
    "\n",
    "# Fetch errata\n",
    "errata_df = fetch_errata()"
   ]
  },
  {
   "cell_type": "markdown",
   "id": "ffe04a8e-544d-4e73-947d-de6d5615bca3",
   "metadata": {
    "papermill": {
     "duration": 0.187501,
     "end_time": "2023-02-17T12:20:55.694685",
     "exception": false,
     "start_time": "2023-02-17T12:20:55.507184",
     "status": "completed"
    },
    "tags": []
   },
   "source": [
    "## Merge data"
   ]
  },
  {
   "cell_type": "code",
   "execution_count": null,
   "id": "3669c6ff-2f6a-4a09-b80c-0cf361caf929",
   "metadata": {
    "papermill": {
     "duration": 0.321973,
     "end_time": "2023-02-17T12:20:56.079537",
     "exception": false,
     "start_time": "2023-02-17T12:20:55.757564",
     "status": "completed"
    },
    "tags": []
   },
   "outputs": [],
   "source": [
    "# Merge errata\n",
    "monster_with_token_df = merge_errata(monster_df, errata_df, drop=True)\n",
    "spell_df = merge_errata(spell_df, errata_df, drop=True)\n",
    "trap_df = merge_errata(trap_df, errata_df, drop=True)\n",
    "counter_df = merge_errata(counter_df, errata_df, drop=True)\n",
    "\n",
    "# Separate tokens from monsters\n",
    "token_df = monster_with_token_df[monster_with_token_df['Primary type']=='Monster Token']\n",
    "monster_df = monster_with_token_df[monster_with_token_df['Primary type']!='Monster Token']\n",
    "\n",
    "# Add tokens to counters data frame\n",
    "counter_df = pd.concat([counter_df, token_df], ignore_index=True, axis=0).sort_values('Name').reset_index(drop=True)\n",
    "\n",
    "# Create combined spell and trap data frame\n",
    "st_df = pd.concat([spell_df, trap_df], ignore_index=True, axis=0).sort_values('Name').reset_index(drop=True)\n",
    "\n",
    "# Create combined monster, spell and trap data frames\n",
    "cards_df = pd.concat([st_df, monster_df], ignore_index=True, axis=0).sort_values('Name').reset_index(drop=True)\n",
    "\n",
    "# Create combined data frames with full data\n",
    "full_df = pd.concat([cards_df, counter_df], ignore_index=True, axis=0).sort_values('Name').reset_index(drop=True)\n",
    "\n",
    "print('Data merged')"
   ]
  },
  {
   "cell_type": "markdown",
   "id": "9b15f8ec",
   "metadata": {
    "papermill": {
     "duration": 0.078548,
     "end_time": "2023-02-17T12:20:56.210130",
     "exception": false,
     "start_time": "2023-02-17T12:20:56.131582",
     "status": "completed"
    },
    "tags": []
   },
   "source": [
    "## Save data"
   ]
  },
  {
   "cell_type": "code",
   "execution_count": null,
   "id": "01e9eb77",
   "metadata": {
    "papermill": {
     "duration": 0.481694,
     "end_time": "2023-02-17T12:20:56.762971",
     "exception": false,
     "start_time": "2023-02-17T12:20:56.281277",
     "status": "completed"
    },
    "tags": []
   },
   "outputs": [],
   "source": [
    "full_df.to_csv(f'../data/all_cards_{timestamp.isoformat(timespec=\"minutes\")}.csv', index = False)\n",
    "print('Data saved')"
   ]
  },
  {
   "cell_type": "markdown",
   "id": "9ff0cf51",
   "metadata": {
    "papermill": {
     "duration": 0.129245,
     "end_time": "2023-02-17T12:20:57.093807",
     "exception": false,
     "start_time": "2023-02-17T12:20:56.964562",
     "status": "completed"
    },
    "tags": []
   },
   "source": [
    "# Check changes"
   ]
  },
  {
   "cell_type": "markdown",
   "id": "233e965d",
   "metadata": {
    "papermill": {
     "duration": 0.068929,
     "end_time": "2023-02-17T12:20:57.218725",
     "exception": false,
     "start_time": "2023-02-17T12:20:57.149796",
     "status": "completed"
    },
    "tags": []
   },
   "source": [
    "## Load previous data"
   ]
  },
  {
   "cell_type": "code",
   "execution_count": null,
   "id": "fb7dc6f8",
   "metadata": {
    "papermill": {
     "duration": 0.867164,
     "end_time": "2023-02-17T12:20:58.199605",
     "exception": false,
     "start_time": "2023-02-17T12:20:57.332441",
     "status": "completed"
    },
    "tags": []
   },
   "outputs": [],
   "source": [
    "# Get list of files\n",
    "files_list = sorted(glob.glob('../data/all_cards_*.csv'), key=os.path.getctime, reverse=True)\n",
    "# Get second newest file if exist\n",
    "if len(files_list)>1:\n",
    "    # Load csv avoiding converting \"NA\" to NaN\n",
    "    previous_df = pd.read_csv(files_list[1], dtype=object, keep_default_na=False, na_values=[''])\n",
    "    # Correct tuples\n",
    "    previous_df['Primary type'] = previous_df['Secondary type'].dropna().apply(literal_eval)\n",
    "    previous_df['Effect type'] = previous_df['Effect type'].dropna().apply(literal_eval)\n",
    "    previous_df['Link Arrows'] = previous_df['Link Arrows'].dropna().apply(literal_eval)\n",
    "    previous_df['Archseries'] = previous_df['Archseries'].dropna().apply(literal_eval)\n",
    "    previous_df['Artwork'] = previous_df['Artwork'].dropna().apply(literal_eval)\n",
    "    previous_df['Errata'] = previous_df['Errata'].dropna().apply(literal_eval)\n",
    "    # Force dtypes to match current df\n",
    "    previous_df = previous_df.astype(full_df[previous_df.columns].dtypes.to_dict())\n",
    "    previous_ts = pd.to_datetime(os.path.basename(files_list[1]).split('_')[-1].rstrip('.csv'))\n",
    "    print('File loaded')\n",
    "else:\n",
    "    previous_df = None\n",
    "    print('No older files')"
   ]
  },
  {
   "cell_type": "markdown",
   "id": "96ce5451",
   "metadata": {
    "papermill": {
     "duration": 0.060383,
     "end_time": "2023-02-17T12:20:58.308714",
     "exception": false,
     "start_time": "2023-02-17T12:20:58.248331",
     "status": "completed"
    },
    "tags": []
   },
   "source": [
    "## Generate changelog"
   ]
  },
  {
   "cell_type": "code",
   "execution_count": null,
   "id": "2fcca8f1",
   "metadata": {
    "papermill": {
     "duration": 0.953295,
     "end_time": "2023-02-17T12:20:59.316885",
     "exception": false,
     "start_time": "2023-02-17T12:20:58.363590",
     "status": "completed"
    },
    "tags": []
   },
   "outputs": [],
   "source": [
    "if previous_df is None:\n",
    "    print('Skipped')\n",
    "else:\n",
    "    changelog = generate_changelog(previous_df, full_df, col = 'Name')\n",
    "    if not changelog.empty:\n",
    "        display(changelog)\n",
    "        changelog.to_csv(f'../data/cards_changelog_{timestamp.isoformat(timespec=\"minutes\")}_{previous_ts.isoformat(timespec=\"minutes\")}.csv', index = True)\n",
    "        print('Changelog saved')"
   ]
  },
  {
   "cell_type": "markdown",
   "id": "c0ae1017",
   "metadata": {
    "papermill": {
     "duration": 0.162787,
     "end_time": "2023-02-17T12:20:59.533031",
     "exception": false,
     "start_time": "2023-02-17T12:20:59.370244",
     "status": "completed"
    },
    "tags": []
   },
   "source": [
    "# Data visualization"
   ]
  },
  {
   "cell_type": "markdown",
   "id": "5ad091af",
   "metadata": {
    "papermill": {
     "duration": 0.05845,
     "end_time": "2023-02-17T12:20:59.651691",
     "exception": false,
     "start_time": "2023-02-17T12:20:59.593241",
     "status": "completed"
    },
    "tags": []
   },
   "source": [
    "## Full data"
   ]
  },
  {
   "cell_type": "code",
   "execution_count": null,
   "id": "fb024043",
   "metadata": {
    "papermill": {
     "duration": 0.096535,
     "end_time": "2023-02-17T12:20:59.800742",
     "exception": false,
     "start_time": "2023-02-17T12:20:59.704207",
     "status": "completed"
    },
    "tags": []
   },
   "outputs": [],
   "source": [
    "full_df"
   ]
  },
  {
   "cell_type": "markdown",
   "id": "da99ccde-ca38-4d81-8661-6f8514f689d7",
   "metadata": {
    "papermill": {
     "duration": 0.053045,
     "end_time": "2023-02-17T12:20:59.907231",
     "exception": false,
     "start_time": "2023-02-17T12:20:59.854186",
     "status": "completed"
    },
    "tags": []
   },
   "source": [
    "Full data available to download [here](../data)"
   ]
  },
  {
   "cell_type": "markdown",
   "id": "8a8cb7cd",
   "metadata": {
    "papermill": {
     "duration": 0.053574,
     "end_time": "2023-02-17T12:21:00.014237",
     "exception": false,
     "start_time": "2023-02-17T12:20:59.960663",
     "status": "completed"
    },
    "tags": []
   },
   "source": [
    "## Card types"
   ]
  },
  {
   "cell_type": "code",
   "execution_count": null,
   "id": "a4ec32e1",
   "metadata": {
    "papermill": {
     "duration": 0.183375,
     "end_time": "2023-02-17T12:21:00.251737",
     "exception": false,
     "start_time": "2023-02-17T12:21:00.068362",
     "status": "completed"
    },
    "tags": []
   },
   "outputs": [],
   "source": [
    "cards_df.groupby('Card type').nunique()"
   ]
  },
  {
   "cell_type": "code",
   "execution_count": null,
   "id": "120a72dc",
   "metadata": {
    "papermill": {
     "duration": 1.65141,
     "end_time": "2023-02-17T12:21:01.959832",
     "exception": false,
     "start_time": "2023-02-17T12:21:00.308422",
     "status": "completed"
    },
    "tags": []
   },
   "outputs": [],
   "source": [
    "card_type_colors = [colors_dict[i] for i in full_df['Card type'].value_counts().index]\n",
    "cards_df['Card type'].value_counts().plot.bar(figsize = (18,6), grid = True, rot=0, color = card_type_colors, title = 'Card type')\n",
    "plt.show()"
   ]
  },
  {
   "cell_type": "markdown",
   "id": "fa1ed03c",
   "metadata": {
    "papermill": {
     "duration": 0.049435,
     "end_time": "2023-02-17T12:21:02.067492",
     "exception": false,
     "start_time": "2023-02-17T12:21:02.018057",
     "status": "completed"
    },
    "tags": []
   },
   "source": [
    "## Monsters"
   ]
  },
  {
   "cell_type": "markdown",
   "id": "66c5f658",
   "metadata": {
    "papermill": {
     "duration": 0.051334,
     "end_time": "2023-02-17T12:21:02.170125",
     "exception": false,
     "start_time": "2023-02-17T12:21:02.118791",
     "status": "completed"
    },
    "tags": []
   },
   "source": [
    "### Attributes"
   ]
  },
  {
   "cell_type": "code",
   "execution_count": null,
   "id": "aa4e6a26",
   "metadata": {
    "papermill": {
     "duration": 0.064621,
     "end_time": "2023-02-17T12:21:02.285249",
     "exception": false,
     "start_time": "2023-02-17T12:21:02.220628",
     "status": "completed"
    },
    "tags": []
   },
   "outputs": [],
   "source": [
    "print('Total number of attributes:', monster_df['Attribute'].nunique())"
   ]
  },
  {
   "cell_type": "code",
   "execution_count": null,
   "id": "ea26720e",
   "metadata": {
    "papermill": {
     "duration": 0.141012,
     "end_time": "2023-02-17T12:21:02.477434",
     "exception": false,
     "start_time": "2023-02-17T12:21:02.336422",
     "status": "completed"
    },
    "tags": []
   },
   "outputs": [],
   "source": [
    "monster_df.drop(columns=['Card type']).groupby('Attribute').nunique()"
   ]
  },
  {
   "cell_type": "code",
   "execution_count": null,
   "id": "c4ff5f74",
   "metadata": {
    "papermill": {
     "duration": 0.400772,
     "end_time": "2023-02-17T12:21:02.935566",
     "exception": false,
     "start_time": "2023-02-17T12:21:02.534794",
     "status": "completed"
    },
    "tags": []
   },
   "outputs": [],
   "source": [
    "attribute_colors = [colors_dict[i] for i in monster_df['Attribute'].value_counts().index]\n",
    "monster_df['Attribute'].value_counts().plot.bar(figsize = (18,6), grid = True, rot=0, color = attribute_colors, title = 'Attribute')\n",
    "plt.show()"
   ]
  },
  {
   "cell_type": "markdown",
   "id": "d0d71936",
   "metadata": {
    "papermill": {
     "duration": 0.162149,
     "end_time": "2023-02-17T12:21:03.153432",
     "exception": false,
     "start_time": "2023-02-17T12:21:02.991283",
     "status": "completed"
    },
    "tags": []
   },
   "source": [
    "### Primary types"
   ]
  },
  {
   "cell_type": "code",
   "execution_count": null,
   "id": "26e45412",
   "metadata": {
    "papermill": {
     "duration": 0.064107,
     "end_time": "2023-02-17T12:21:03.277831",
     "exception": false,
     "start_time": "2023-02-17T12:21:03.213724",
     "status": "completed"
    },
    "tags": []
   },
   "outputs": [],
   "source": [
    "print('Total number of primary types:', monster_df['Primary type'].nunique())"
   ]
  },
  {
   "cell_type": "code",
   "execution_count": null,
   "id": "c7e4c6b0",
   "metadata": {
    "papermill": {
     "duration": 0.158198,
     "end_time": "2023-02-17T12:21:03.492679",
     "exception": false,
     "start_time": "2023-02-17T12:21:03.334481",
     "status": "completed"
    },
    "tags": []
   },
   "outputs": [],
   "source": [
    "monster_df.drop(columns=['Card type']).groupby('Primary type').nunique()"
   ]
  },
  {
   "cell_type": "markdown",
   "id": "d41d8e4a",
   "metadata": {
    "papermill": {
     "duration": 0.053746,
     "end_time": "2023-02-17T12:21:03.606605",
     "exception": false,
     "start_time": "2023-02-17T12:21:03.552859",
     "status": "completed"
    },
    "tags": []
   },
   "source": [
    "#### Has effect discrimination"
   ]
  },
  {
   "cell_type": "code",
   "execution_count": null,
   "id": "56a59624",
   "metadata": {
    "papermill": {
     "duration": 0.081349,
     "end_time": "2023-02-17T12:21:03.740913",
     "exception": false,
     "start_time": "2023-02-17T12:21:03.659564",
     "status": "completed"
    },
    "tags": []
   },
   "outputs": [],
   "source": [
    "has_effect = monster_df['Primary type'].where(monster_df['Effect type'].notna()).value_counts().rename('Effect')\n",
    "no_effect = monster_df['Primary type'].where(monster_df['Effect type'].isna()).value_counts().rename('No Effect')\n",
    "effect = pd.concat([has_effect,no_effect], axis=1).fillna(0).astype(int)\n",
    "effect"
   ]
  },
  {
   "cell_type": "code",
   "execution_count": null,
   "id": "82c24448",
   "metadata": {
    "papermill": {
     "duration": 0.391882,
     "end_time": "2023-02-17T12:21:04.189459",
     "exception": false,
     "start_time": "2023-02-17T12:21:03.797577",
     "status": "completed"
    },
    "tags": []
   },
   "outputs": [],
   "source": [
    "monster_type_colors = {'No Effect': colors_dict['Normal Monster'], 'Effect': [colors_dict[i] for i in effect.index]}\n",
    "effect.plot.bar(figsize = (18,6), stacked = True, grid = True, rot=0,  legend=True, color = monster_type_colors, title = 'Primary types - Has effect')\n",
    "# plt.yscale('log')\n",
    "plt.show()"
   ]
  },
  {
   "cell_type": "markdown",
   "id": "69d8824e",
   "metadata": {
    "papermill": {
     "duration": 0.090042,
     "end_time": "2023-02-17T12:21:04.338673",
     "exception": false,
     "start_time": "2023-02-17T12:21:04.248631",
     "status": "completed"
    },
    "tags": []
   },
   "source": [
    "Obs: Normal monster can have effect if it is pendulum"
   ]
  },
  {
   "cell_type": "markdown",
   "id": "1da2968f",
   "metadata": {
    "papermill": {
     "duration": 0.053314,
     "end_time": "2023-02-17T12:21:04.446848",
     "exception": false,
     "start_time": "2023-02-17T12:21:04.393534",
     "status": "completed"
    },
    "tags": []
   },
   "source": [
    "#### Is pendulum discrimination"
   ]
  },
  {
   "cell_type": "code",
   "execution_count": null,
   "id": "c18ac7a6",
   "metadata": {
    "papermill": {
     "duration": 0.078355,
     "end_time": "2023-02-17T12:21:04.579740",
     "exception": false,
     "start_time": "2023-02-17T12:21:04.501385",
     "status": "completed"
    },
    "tags": []
   },
   "outputs": [],
   "source": [
    "not_pendulum = monster_df['Primary type'].where(monster_df['Pendulum Scale'].isna()).value_counts().rename('Not Pendulum')\n",
    "is_pendulum = monster_df['Primary type'].where(monster_df['Pendulum Scale'].notna()).value_counts().rename('Pendulum')\n",
    "pendulum = pd.concat([not_pendulum,is_pendulum], axis=1).fillna(0).astype(int)\n",
    "pendulum"
   ]
  },
  {
   "cell_type": "code",
   "execution_count": null,
   "id": "fd0ff75c",
   "metadata": {
    "papermill": {
     "duration": 0.387626,
     "end_time": "2023-02-17T12:21:05.025466",
     "exception": false,
     "start_time": "2023-02-17T12:21:04.637840",
     "status": "completed"
    },
    "tags": []
   },
   "outputs": [],
   "source": [
    "monster_type_colors_b = {'Pendulum': colors_dict['Pendulum Monster'], 'Not Pendulum': [colors_dict[i] for i in pendulum.index]}\n",
    "pendulum.plot.bar(figsize = (18,6), stacked = True, grid = True, rot=0, color = monster_type_colors_b, legend=True, title = 'Primary types - Is pendulum')\n",
    "plt.show()"
   ]
  },
  {
   "cell_type": "markdown",
   "id": "a6a4f4f5",
   "metadata": {
    "papermill": {
     "duration": 0.093299,
     "end_time": "2023-02-17T12:21:05.182072",
     "exception": false,
     "start_time": "2023-02-17T12:21:05.088773",
     "status": "completed"
    },
    "tags": []
   },
   "source": [
    "#### By attribute"
   ]
  },
  {
   "cell_type": "code",
   "execution_count": null,
   "id": "9c162519",
   "metadata": {
    "papermill": {
     "duration": 0.18835,
     "end_time": "2023-02-17T12:21:05.425409",
     "exception": false,
     "start_time": "2023-02-17T12:21:05.237059",
     "status": "completed"
    },
    "tags": []
   },
   "outputs": [],
   "source": [
    "primmary_crosstab = pd.crosstab(cards_df['Primary type'],cards_df['Attribute'])\n",
    "primmary_crosstab"
   ]
  },
  {
   "cell_type": "code",
   "execution_count": null,
   "id": "a0114f45",
   "metadata": {
    "papermill": {
     "duration": 1.210288,
     "end_time": "2023-02-17T12:21:06.699155",
     "exception": false,
     "start_time": "2023-02-17T12:21:05.488867",
     "status": "completed"
    },
    "tags": []
   },
   "outputs": [],
   "source": [
    "plt.figure(figsize = (16,10))\n",
    "sns.heatmap(primmary_crosstab.T, annot=True, fmt=\"g\", cmap='viridis', square=True, norm=mc.LogNorm())\n",
    "plt.show()"
   ]
  },
  {
   "cell_type": "markdown",
   "id": "0c70885e",
   "metadata": {
    "papermill": {
     "duration": 0.090897,
     "end_time": "2023-02-17T12:21:06.846168",
     "exception": false,
     "start_time": "2023-02-17T12:21:06.755271",
     "status": "completed"
    },
    "tags": []
   },
   "source": [
    "### Secondary types"
   ]
  },
  {
   "cell_type": "code",
   "execution_count": null,
   "id": "ee184462",
   "metadata": {
    "papermill": {
     "duration": 0.139354,
     "end_time": "2023-02-17T12:21:07.047923",
     "exception": false,
     "start_time": "2023-02-17T12:21:06.908569",
     "status": "completed"
    },
    "tags": []
   },
   "outputs": [],
   "source": [
    "exploded_secondary_type = monster_df.explode('Secondary type')\n",
    "print('Total number of secondary types:', exploded_secondary_type['Secondary type'].nunique())"
   ]
  },
  {
   "cell_type": "code",
   "execution_count": null,
   "id": "125f438e",
   "metadata": {
    "papermill": {
     "duration": 0.154007,
     "end_time": "2023-02-17T12:21:07.262756",
     "exception": false,
     "start_time": "2023-02-17T12:21:07.108749",
     "status": "completed"
    },
    "tags": []
   },
   "outputs": [],
   "source": [
    "exploded_secondary_type.drop(columns=['Card type', 'Link', 'Link Arrows']).groupby('Secondary type').nunique()"
   ]
  },
  {
   "cell_type": "code",
   "execution_count": null,
   "id": "a4fec827",
   "metadata": {
    "papermill": {
     "duration": 0.360483,
     "end_time": "2023-02-17T12:21:07.686939",
     "exception": false,
     "start_time": "2023-02-17T12:21:07.326456",
     "status": "completed"
    },
    "tags": []
   },
   "outputs": [],
   "source": [
    "secondary_type_colors = colors_dict['Effect Monster']\n",
    "exploded_secondary_type['Secondary type'].value_counts().plot.bar(figsize = (18,6), stacked = True, grid = True, rot=0, color = secondary_type_colors, legend=False, title = 'Secondary type')\n",
    "plt.show()"
   ]
  },
  {
   "cell_type": "markdown",
   "id": "0420679a",
   "metadata": {
    "papermill": {
     "duration": 0.061793,
     "end_time": "2023-02-17T12:21:07.809235",
     "exception": false,
     "start_time": "2023-02-17T12:21:07.747442",
     "status": "completed"
    },
    "tags": []
   },
   "source": [
    "#### By attribute"
   ]
  },
  {
   "cell_type": "code",
   "execution_count": null,
   "id": "085225bb",
   "metadata": {
    "papermill": {
     "duration": 0.096722,
     "end_time": "2023-02-17T12:21:07.967555",
     "exception": false,
     "start_time": "2023-02-17T12:21:07.870833",
     "status": "completed"
    },
    "tags": []
   },
   "outputs": [],
   "source": [
    "secondary_crosstab = pd.crosstab(exploded_secondary_type['Secondary type'],exploded_secondary_type['Attribute'])\n",
    "secondary_crosstab"
   ]
  },
  {
   "cell_type": "code",
   "execution_count": null,
   "id": "b69fe297",
   "metadata": {
    "papermill": {
     "duration": 0.534222,
     "end_time": "2023-02-17T12:21:08.560976",
     "exception": false,
     "start_time": "2023-02-17T12:21:08.026754",
     "status": "completed"
    },
    "tags": []
   },
   "outputs": [],
   "source": [
    "plt.figure(figsize = (8,6))\n",
    "sns.heatmap(secondary_crosstab[secondary_crosstab>0], annot=True, fmt=\"g\", cmap='viridis', square=True)\n",
    "plt.show()"
   ]
  },
  {
   "cell_type": "markdown",
   "id": "30b035c2",
   "metadata": {
    "papermill": {
     "duration": 0.123553,
     "end_time": "2023-02-17T12:21:08.742438",
     "exception": false,
     "start_time": "2023-02-17T12:21:08.618885",
     "status": "completed"
    },
    "tags": []
   },
   "source": [
    "#### By secondary type"
   ]
  },
  {
   "cell_type": "code",
   "execution_count": null,
   "id": "c8f08039",
   "metadata": {
    "papermill": {
     "duration": 0.133733,
     "end_time": "2023-02-17T12:21:08.936729",
     "exception": false,
     "start_time": "2023-02-17T12:21:08.802996",
     "status": "completed"
    },
    "tags": []
   },
   "outputs": [],
   "source": [
    "secondary_crosstab_b = pd.crosstab(exploded_secondary_type['Primary type'],exploded_secondary_type['Secondary type'], margins = True)\n",
    "secondary_crosstab_b"
   ]
  },
  {
   "cell_type": "code",
   "execution_count": null,
   "id": "4749ace2",
   "metadata": {
    "papermill": {
     "duration": 0.722866,
     "end_time": "2023-02-17T12:21:09.726454",
     "exception": false,
     "start_time": "2023-02-17T12:21:09.003588",
     "status": "completed"
    },
    "tags": []
   },
   "outputs": [],
   "source": [
    "plt.figure(figsize = (10,7))\n",
    "sns.heatmap(secondary_crosstab_b, annot=True, fmt=\"g\", cmap='viridis', square=True, norm=mc.LogNorm())\n",
    "plt.show()"
   ]
  },
  {
   "cell_type": "markdown",
   "id": "9682c65a",
   "metadata": {
    "papermill": {
     "duration": 0.059541,
     "end_time": "2023-02-17T12:21:09.845961",
     "exception": false,
     "start_time": "2023-02-17T12:21:09.786420",
     "status": "completed"
    },
    "tags": []
   },
   "source": [
    "### Monster types"
   ]
  },
  {
   "cell_type": "code",
   "execution_count": null,
   "id": "dab77100",
   "metadata": {
    "papermill": {
     "duration": 0.071952,
     "end_time": "2023-02-17T12:21:09.976918",
     "exception": false,
     "start_time": "2023-02-17T12:21:09.904966",
     "status": "completed"
    },
    "tags": []
   },
   "outputs": [],
   "source": [
    "print('Total number of monster types:', monster_df['Monster type'].nunique())"
   ]
  },
  {
   "cell_type": "code",
   "execution_count": null,
   "id": "02f5b750",
   "metadata": {
    "papermill": {
     "duration": 0.159291,
     "end_time": "2023-02-17T12:21:10.195381",
     "exception": false,
     "start_time": "2023-02-17T12:21:10.036090",
     "status": "completed"
    },
    "tags": []
   },
   "outputs": [],
   "source": [
    "monster_df.drop(columns=['Card type']).groupby('Monster type').nunique()"
   ]
  },
  {
   "cell_type": "code",
   "execution_count": null,
   "id": "75111774",
   "metadata": {
    "papermill": {
     "duration": 0.53333,
     "end_time": "2023-02-17T12:21:10.792297",
     "exception": false,
     "start_time": "2023-02-17T12:21:10.258967",
     "status": "completed"
    },
    "tags": []
   },
   "outputs": [],
   "source": [
    "monster_type_colors = colors_dict['Monster Card']\n",
    "monster_df['Monster type'].value_counts().plot.bar(figsize = (18,6), grid = True, rot=45, color = monster_type_colors, title = 'Monster type')\n",
    "plt.show()"
   ]
  },
  {
   "cell_type": "markdown",
   "id": "32d282b7",
   "metadata": {
    "papermill": {
     "duration": 0.060895,
     "end_time": "2023-02-17T12:21:10.915335",
     "exception": false,
     "start_time": "2023-02-17T12:21:10.854440",
     "status": "completed"
    },
    "tags": []
   },
   "source": [
    "#### By Attribute"
   ]
  },
  {
   "cell_type": "code",
   "execution_count": null,
   "id": "23d29373",
   "metadata": {
    "papermill": {
     "duration": 0.108544,
     "end_time": "2023-02-17T12:21:11.092826",
     "exception": false,
     "start_time": "2023-02-17T12:21:10.984282",
     "status": "completed"
    },
    "tags": []
   },
   "outputs": [],
   "source": [
    "monster_crosstab = pd.crosstab(cards_df['Monster type'],cards_df['Attribute'], dropna=False)\n",
    "monster_crosstab"
   ]
  },
  {
   "cell_type": "code",
   "execution_count": null,
   "id": "fd9ca22d",
   "metadata": {
    "papermill": {
     "duration": 1.398818,
     "end_time": "2023-02-17T12:21:12.557447",
     "exception": false,
     "start_time": "2023-02-17T12:21:11.158629",
     "status": "completed"
    },
    "tags": []
   },
   "outputs": [],
   "source": [
    "plt.figure(figsize = (20,5))\n",
    "sns.heatmap(monster_crosstab[monster_crosstab>0].T, annot=True, fmt=\"g\", cmap='viridis', square=True, norm=mc.LogNorm())\n",
    "plt.show()"
   ]
  },
  {
   "cell_type": "markdown",
   "id": "4daa9957",
   "metadata": {
    "papermill": {
     "duration": 0.064316,
     "end_time": "2023-02-17T12:21:12.686426",
     "exception": false,
     "start_time": "2023-02-17T12:21:12.622110",
     "status": "completed"
    },
    "tags": []
   },
   "source": [
    "#### By primary type"
   ]
  },
  {
   "cell_type": "code",
   "execution_count": null,
   "id": "0f5d0eda",
   "metadata": {
    "papermill": {
     "duration": 0.113794,
     "end_time": "2023-02-17T12:21:12.864341",
     "exception": false,
     "start_time": "2023-02-17T12:21:12.750547",
     "status": "completed"
    },
    "tags": []
   },
   "outputs": [],
   "source": [
    "monster_crosstab_b = pd.crosstab(cards_df['Monster type'],cards_df['Primary type'], dropna=False)\n",
    "monster_crosstab_b"
   ]
  },
  {
   "cell_type": "code",
   "execution_count": null,
   "id": "5f3b531c",
   "metadata": {
    "papermill": {
     "duration": 1.176053,
     "end_time": "2023-02-17T12:21:14.105314",
     "exception": false,
     "start_time": "2023-02-17T12:21:12.929261",
     "status": "completed"
    },
    "tags": []
   },
   "outputs": [],
   "source": [
    "plt.figure(figsize = (20,5))\n",
    "sns.heatmap(monster_crosstab_b[monster_crosstab_b>0].T, annot=True, fmt=\"g\", cmap='viridis', square=True, norm = mc.LogNorm())\n",
    "plt.show()"
   ]
  },
  {
   "cell_type": "markdown",
   "id": "9056b880",
   "metadata": {
    "papermill": {
     "duration": 0.329089,
     "end_time": "2023-02-17T12:21:14.503974",
     "exception": false,
     "start_time": "2023-02-17T12:21:14.174885",
     "status": "completed"
    },
    "tags": []
   },
   "source": [
    "#### By secondary type"
   ]
  },
  {
   "cell_type": "code",
   "execution_count": null,
   "id": "cbe5bef6",
   "metadata": {
    "papermill": {
     "duration": 0.114998,
     "end_time": "2023-02-17T12:21:14.693002",
     "exception": false,
     "start_time": "2023-02-17T12:21:14.578004",
     "status": "completed"
    },
    "tags": []
   },
   "outputs": [],
   "source": [
    "monster_crosstab_c = pd.crosstab(exploded_secondary_type['Monster type'],exploded_secondary_type['Secondary type'], dropna=False)\n",
    "monster_crosstab_c"
   ]
  },
  {
   "cell_type": "code",
   "execution_count": null,
   "id": "3712cc0e",
   "metadata": {
    "papermill": {
     "duration": 0.938154,
     "end_time": "2023-02-17T12:21:15.701397",
     "exception": false,
     "start_time": "2023-02-17T12:21:14.763243",
     "status": "completed"
    },
    "tags": []
   },
   "outputs": [],
   "source": [
    "plt.figure(figsize = (20,5))\n",
    "sns.heatmap(monster_crosstab_c[monster_crosstab_c>0].T, annot=True, fmt=\"g\", cmap='viridis', square=True, norm = mc.LogNorm())\n",
    "plt.show()"
   ]
  },
  {
   "cell_type": "markdown",
   "id": "aaf6f5d6",
   "metadata": {
    "papermill": {
     "duration": 0.071852,
     "end_time": "2023-02-17T12:21:15.843312",
     "exception": false,
     "start_time": "2023-02-17T12:21:15.771460",
     "status": "completed"
    },
    "tags": []
   },
   "source": [
    "### Effect type"
   ]
  },
  {
   "cell_type": "code",
   "execution_count": null,
   "id": "b44949a6",
   "metadata": {
    "papermill": {
     "duration": 0.103008,
     "end_time": "2023-02-17T12:21:16.016186",
     "exception": false,
     "start_time": "2023-02-17T12:21:15.913178",
     "status": "completed"
    },
    "tags": []
   },
   "outputs": [],
   "source": [
    "print('Total number of effect types:', monster_df['Effect type'].explode().nunique())"
   ]
  },
  {
   "cell_type": "code",
   "execution_count": null,
   "id": "c4e48718",
   "metadata": {
    "papermill": {
     "duration": 0.29762,
     "end_time": "2023-02-17T12:21:16.383673",
     "exception": false,
     "start_time": "2023-02-17T12:21:16.086053",
     "status": "completed"
    },
    "tags": []
   },
   "outputs": [],
   "source": [
    "monster_df[monster_df['Effect type'].notna()].drop(columns=['Card type']).explode('Effect type').groupby('Effect type').nunique()"
   ]
  },
  {
   "cell_type": "code",
   "execution_count": null,
   "id": "ff912d52",
   "metadata": {
    "papermill": {
     "duration": 0.458894,
     "end_time": "2023-02-17T12:21:16.919934",
     "exception": false,
     "start_time": "2023-02-17T12:21:16.461040",
     "status": "completed"
    },
    "tags": []
   },
   "outputs": [],
   "source": [
    "monster_effect_colors = colors_dict['Effect Monster']\n",
    "monster_df['Effect type'].explode('Effect type').value_counts().plot.bar(figsize = (18,6), grid = True, color = monster_effect_colors, title='Effect type')\n",
    "# plt.yscale('log')\n",
    "plt.show()"
   ]
  },
  {
   "cell_type": "markdown",
   "id": "371f2c74",
   "metadata": {
    "papermill": {
     "duration": 0.071237,
     "end_time": "2023-02-17T12:21:17.062762",
     "exception": false,
     "start_time": "2023-02-17T12:21:16.991525",
     "status": "completed"
    },
    "tags": []
   },
   "source": [
    "### ATK"
   ]
  },
  {
   "cell_type": "code",
   "execution_count": null,
   "id": "1b5db865",
   "metadata": {
    "papermill": {
     "duration": 0.083915,
     "end_time": "2023-02-17T12:21:17.218783",
     "exception": false,
     "start_time": "2023-02-17T12:21:17.134868",
     "status": "completed"
    },
    "tags": []
   },
   "outputs": [],
   "source": [
    "print('Total number of ATK values:', monster_df['ATK'].nunique())"
   ]
  },
  {
   "cell_type": "code",
   "execution_count": null,
   "id": "16b9aa14",
   "metadata": {
    "papermill": {
     "duration": 0.173682,
     "end_time": "2023-02-17T12:21:17.465142",
     "exception": false,
     "start_time": "2023-02-17T12:21:17.291460",
     "status": "completed"
    },
    "tags": []
   },
   "outputs": [],
   "source": [
    "monster_df.drop(columns=['Card type']).groupby('ATK').nunique().sort_index(key=lambda x: pd.to_numeric(x, errors = 'coerce'))"
   ]
  },
  {
   "cell_type": "code",
   "execution_count": null,
   "id": "3b1b2e1d",
   "metadata": {
    "papermill": {
     "duration": 1.118373,
     "end_time": "2023-02-17T12:21:18.656570",
     "exception": false,
     "start_time": "2023-02-17T12:21:17.538197",
     "status": "completed"
    },
    "tags": []
   },
   "outputs": [],
   "source": [
    "atk_colors = colors_dict['Monster Card']\n",
    "monster_df['DEF'].value_counts().sort_index(key=lambda x: pd.to_numeric(x, errors = 'coerce')).plot.bar(figsize = (18,6), grid = True, color = atk_colors, title = 'ATK')\n",
    "plt.show()"
   ]
  },
  {
   "cell_type": "markdown",
   "id": "cda8b288",
   "metadata": {
    "papermill": {
     "duration": 0.073254,
     "end_time": "2023-02-17T12:21:18.810703",
     "exception": false,
     "start_time": "2023-02-17T12:21:18.737449",
     "status": "completed"
    },
    "tags": []
   },
   "source": [
    "### DEF"
   ]
  },
  {
   "cell_type": "code",
   "execution_count": null,
   "id": "2aa0ba61",
   "metadata": {
    "papermill": {
     "duration": 0.087298,
     "end_time": "2023-02-17T12:21:18.974803",
     "exception": false,
     "start_time": "2023-02-17T12:21:18.887505",
     "status": "completed"
    },
    "tags": []
   },
   "outputs": [],
   "source": [
    "print('Total number of DEF values:', monster_df['DEF'].nunique())"
   ]
  },
  {
   "cell_type": "code",
   "execution_count": null,
   "id": "54e9d56a",
   "metadata": {
    "papermill": {
     "duration": 0.179941,
     "end_time": "2023-02-17T12:21:19.228864",
     "exception": false,
     "start_time": "2023-02-17T12:21:19.048923",
     "status": "completed"
    },
    "tags": []
   },
   "outputs": [],
   "source": [
    "monster_df.drop(columns=['Card type']).groupby('DEF').nunique().sort_index(key=lambda x: pd.to_numeric(x, errors = 'coerce'))"
   ]
  },
  {
   "cell_type": "code",
   "execution_count": null,
   "id": "10aeff48",
   "metadata": {
    "papermill": {
     "duration": 0.975054,
     "end_time": "2023-02-17T12:21:20.280910",
     "exception": false,
     "start_time": "2023-02-17T12:21:19.305856",
     "status": "completed"
    },
    "tags": []
   },
   "outputs": [],
   "source": [
    "def_colors = colors_dict['Monster Card']\n",
    "monster_df['DEF'].value_counts().sort_index(key=lambda x: pd.to_numeric(x, errors = 'coerce')).plot.bar(figsize = (18,6), grid = True, color = def_colors, title = 'DEF')\n",
    "plt.show()"
   ]
  },
  {
   "cell_type": "markdown",
   "id": "4f26bf6d",
   "metadata": {
    "papermill": {
     "duration": 0.074686,
     "end_time": "2023-02-17T12:21:20.439358",
     "exception": false,
     "start_time": "2023-02-17T12:21:20.364672",
     "status": "completed"
    },
    "tags": []
   },
   "source": [
    "### Level/Rank"
   ]
  },
  {
   "cell_type": "code",
   "execution_count": null,
   "id": "f5543138",
   "metadata": {
    "papermill": {
     "duration": 0.169014,
     "end_time": "2023-02-17T12:21:20.684518",
     "exception": false,
     "start_time": "2023-02-17T12:21:20.515504",
     "status": "completed"
    },
    "tags": []
   },
   "outputs": [],
   "source": [
    "monster_df.drop(columns=['Card type', 'Link', 'Link Arrows']).groupby('Level/Rank').nunique().sort_index(key=lambda x: pd.to_numeric(x, errors = 'coerce'))"
   ]
  },
  {
   "cell_type": "code",
   "execution_count": null,
   "id": "31539bdc",
   "metadata": {
    "papermill": {
     "duration": 0.386285,
     "end_time": "2023-02-17T12:21:21.146485",
     "exception": false,
     "start_time": "2023-02-17T12:21:20.760200",
     "status": "completed"
    },
    "tags": []
   },
   "outputs": [],
   "source": [
    "stars_colors = colors_dict['Level']\n",
    "monster_df['Level/Rank'].value_counts().sort_index(key=lambda x: pd.to_numeric(x, errors = 'coerce')).plot.bar(figsize = (18,6), grid = True, rot=0, color= stars_colors, title = 'Level/Rank')\n",
    "plt.show()"
   ]
  },
  {
   "cell_type": "markdown",
   "id": "6a08e2b8",
   "metadata": {
    "papermill": {
     "duration": 0.090391,
     "end_time": "2023-02-17T12:21:21.315981",
     "exception": false,
     "start_time": "2023-02-17T12:21:21.225590",
     "status": "completed"
    },
    "tags": []
   },
   "source": [
    "#### ATK statistics"
   ]
  },
  {
   "cell_type": "code",
   "execution_count": null,
   "id": "06dc9107",
   "metadata": {
    "papermill": {
     "duration": 0.404502,
     "end_time": "2023-02-17T12:21:21.809294",
     "exception": false,
     "start_time": "2023-02-17T12:21:21.404792",
     "status": "completed"
    },
    "tags": []
   },
   "outputs": [],
   "source": [
    "monster_df[['Level/Rank','ATK']].apply(pd.to_numeric, errors = 'coerce').dropna().astype(int).groupby('Level/Rank').describe()"
   ]
  },
  {
   "cell_type": "markdown",
   "id": "b8a04916",
   "metadata": {
    "papermill": {
     "duration": 0.08059,
     "end_time": "2023-02-17T12:21:22.050725",
     "exception": false,
     "start_time": "2023-02-17T12:21:21.970135",
     "status": "completed"
    },
    "tags": []
   },
   "source": [
    "#### DEF statistics"
   ]
  },
  {
   "cell_type": "code",
   "execution_count": null,
   "id": "cc005e78",
   "metadata": {
    "papermill": {
     "duration": 0.170857,
     "end_time": "2023-02-17T12:21:22.299984",
     "exception": false,
     "start_time": "2023-02-17T12:21:22.129127",
     "status": "completed"
    },
    "tags": []
   },
   "outputs": [],
   "source": [
    "monster_df[['Level/Rank','DEF']].apply(pd.to_numeric, errors = 'coerce').dropna().astype(int).groupby('Level/Rank').describe()"
   ]
  },
  {
   "cell_type": "markdown",
   "id": "4029a29d",
   "metadata": {
    "papermill": {
     "duration": 0.076901,
     "end_time": "2023-02-17T12:21:22.454612",
     "exception": false,
     "start_time": "2023-02-17T12:21:22.377711",
     "status": "completed"
    },
    "tags": []
   },
   "source": [
    "### Pendulum scale"
   ]
  },
  {
   "cell_type": "code",
   "execution_count": null,
   "id": "9db07376",
   "metadata": {
    "papermill": {
     "duration": 0.16573,
     "end_time": "2023-02-17T12:21:22.696963",
     "exception": false,
     "start_time": "2023-02-17T12:21:22.531233",
     "status": "completed"
    },
    "tags": []
   },
   "outputs": [],
   "source": [
    "monster_df.drop(columns=['Card type', 'Link', 'Link Arrows']).groupby('Pendulum Scale').nunique().sort_index(key=lambda x: pd.to_numeric(x, errors = 'coerce'))"
   ]
  },
  {
   "cell_type": "code",
   "execution_count": null,
   "id": "331eba0b",
   "metadata": {
    "papermill": {
     "duration": 0.412975,
     "end_time": "2023-02-17T12:21:23.187439",
     "exception": false,
     "start_time": "2023-02-17T12:21:22.774464",
     "status": "completed"
    },
    "tags": []
   },
   "outputs": [],
   "source": [
    "scales_colors = colors_dict['Pendulum Monster']\n",
    "monster_df['Pendulum Scale'].value_counts().sort_index(key=lambda x: pd.to_numeric(x, errors = 'coerce')).plot.bar(figsize = (18,6), grid = True, rot=0, color = scales_colors, title = 'Pendulum scale')\n",
    "plt.show()"
   ]
  },
  {
   "cell_type": "markdown",
   "id": "c4cee785",
   "metadata": {
    "papermill": {
     "duration": 0.10244,
     "end_time": "2023-02-17T12:21:23.368829",
     "exception": false,
     "start_time": "2023-02-17T12:21:23.266389",
     "status": "completed"
    },
    "tags": []
   },
   "source": [
    "#### ATK statistics"
   ]
  },
  {
   "cell_type": "code",
   "execution_count": null,
   "id": "75427d69",
   "metadata": {
    "papermill": {
     "duration": 0.176753,
     "end_time": "2023-02-17T12:21:23.635936",
     "exception": false,
     "start_time": "2023-02-17T12:21:23.459183",
     "status": "completed"
    },
    "tags": []
   },
   "outputs": [],
   "source": [
    "monster_df[['Pendulum Scale','ATK']].apply(pd.to_numeric, errors = 'coerce').dropna().astype(int).groupby('Pendulum Scale').describe()"
   ]
  },
  {
   "cell_type": "markdown",
   "id": "3ee4da76",
   "metadata": {
    "papermill": {
     "duration": 0.077999,
     "end_time": "2023-02-17T12:21:23.793510",
     "exception": false,
     "start_time": "2023-02-17T12:21:23.715511",
     "status": "completed"
    },
    "tags": []
   },
   "source": [
    "#### DEF statistics"
   ]
  },
  {
   "cell_type": "code",
   "execution_count": null,
   "id": "c474abd4",
   "metadata": {
    "papermill": {
     "duration": 0.16927,
     "end_time": "2023-02-17T12:21:24.041528",
     "exception": false,
     "start_time": "2023-02-17T12:21:23.872258",
     "status": "completed"
    },
    "tags": []
   },
   "outputs": [],
   "source": [
    "monster_df[['Pendulum Scale','DEF']].apply(pd.to_numeric, errors = 'coerce').dropna().astype(int).groupby('Pendulum Scale').describe()"
   ]
  },
  {
   "cell_type": "markdown",
   "id": "87d81ad5",
   "metadata": {
    "papermill": {
     "duration": 0.079128,
     "end_time": "2023-02-17T12:21:24.199568",
     "exception": false,
     "start_time": "2023-02-17T12:21:24.120440",
     "status": "completed"
    },
    "tags": []
   },
   "source": [
    "#### Level/Rank statistics"
   ]
  },
  {
   "cell_type": "code",
   "execution_count": null,
   "id": "027c9b3e",
   "metadata": {
    "papermill": {
     "duration": 0.168075,
     "end_time": "2023-02-17T12:21:24.446696",
     "exception": false,
     "start_time": "2023-02-17T12:21:24.278621",
     "status": "completed"
    },
    "tags": []
   },
   "outputs": [],
   "source": [
    "monster_df[['Pendulum Scale','Level/Rank']].apply(pd.to_numeric, errors = 'coerce').dropna().astype(int).groupby('Pendulum Scale').describe()"
   ]
  },
  {
   "cell_type": "markdown",
   "id": "93f3aba0",
   "metadata": {
    "papermill": {
     "duration": 0.078952,
     "end_time": "2023-02-17T12:21:24.606189",
     "exception": false,
     "start_time": "2023-02-17T12:21:24.527237",
     "status": "completed"
    },
    "tags": []
   },
   "source": [
    "### Link"
   ]
  },
  {
   "cell_type": "code",
   "execution_count": null,
   "id": "3ba56226",
   "metadata": {
    "papermill": {
     "duration": 0.155307,
     "end_time": "2023-02-17T12:21:24.841250",
     "exception": false,
     "start_time": "2023-02-17T12:21:24.685943",
     "status": "completed"
    },
    "tags": []
   },
   "outputs": [],
   "source": [
    "monster_df.drop(columns=['Card type', 'Primary type', 'Secondary type','Level/Rank','DEF','Pendulum Scale']).groupby('Link').nunique().sort_index(key=lambda x: pd.to_numeric(x, errors = 'coerce'))"
   ]
  },
  {
   "cell_type": "code",
   "execution_count": null,
   "id": "3afbb00a",
   "metadata": {
    "papermill": {
     "duration": 0.371017,
     "end_time": "2023-02-17T12:21:25.292304",
     "exception": false,
     "start_time": "2023-02-17T12:21:24.921287",
     "status": "completed"
    },
    "tags": []
   },
   "outputs": [],
   "source": [
    "link_colors = colors_dict['Link Monster']\n",
    "monster_df['Link'].value_counts().sort_index(key=lambda x: pd.to_numeric(x, errors = 'coerce')).plot.bar(figsize = (18,6), grid = True, rot=0, color = link_colors, title='Link')\n",
    "plt.show()"
   ]
  },
  {
   "cell_type": "markdown",
   "id": "5f20abde",
   "metadata": {
    "papermill": {
     "duration": 0.084027,
     "end_time": "2023-02-17T12:21:25.465905",
     "exception": false,
     "start_time": "2023-02-17T12:21:25.381878",
     "status": "completed"
    },
    "tags": []
   },
   "source": [
    "#### ATK statistics"
   ]
  },
  {
   "cell_type": "code",
   "execution_count": null,
   "id": "c80d9372",
   "metadata": {
    "papermill": {
     "duration": 0.281667,
     "end_time": "2023-02-17T12:21:26.053827",
     "exception": false,
     "start_time": "2023-02-17T12:21:25.772160",
     "status": "completed"
    },
    "tags": []
   },
   "outputs": [],
   "source": [
    "monster_df[['Link','ATK']].apply(pd.to_numeric, errors = 'coerce').dropna().astype(int).groupby('Link').describe()"
   ]
  },
  {
   "cell_type": "markdown",
   "id": "f585a876",
   "metadata": {
    "papermill": {
     "duration": 0.081733,
     "end_time": "2023-02-17T12:21:26.215611",
     "exception": false,
     "start_time": "2023-02-17T12:21:26.133878",
     "status": "completed"
    },
    "tags": []
   },
   "source": [
    "### Link Arrows"
   ]
  },
  {
   "cell_type": "markdown",
   "id": "b1373514",
   "metadata": {
    "papermill": {
     "duration": 0.079823,
     "end_time": "2023-02-17T12:21:26.376379",
     "exception": false,
     "start_time": "2023-02-17T12:21:26.296556",
     "status": "completed"
    },
    "tags": []
   },
   "source": [
    "#### By combination"
   ]
  },
  {
   "cell_type": "code",
   "execution_count": null,
   "id": "1130304f",
   "metadata": {
    "papermill": {
     "duration": 0.096237,
     "end_time": "2023-02-17T12:21:26.553723",
     "exception": false,
     "start_time": "2023-02-17T12:21:26.457486",
     "status": "completed"
    },
    "tags": []
   },
   "outputs": [],
   "source": [
    "print('Total number of link arrow combinations:', monster_df['Link Arrows'].nunique())"
   ]
  },
  {
   "cell_type": "code",
   "execution_count": null,
   "id": "7acfc7a1",
   "metadata": {
    "papermill": {
     "duration": 0.161421,
     "end_time": "2023-02-17T12:21:26.796696",
     "exception": false,
     "start_time": "2023-02-17T12:21:26.635275",
     "status": "completed"
    },
    "tags": []
   },
   "outputs": [],
   "source": [
    "monster_df.drop(columns=['Card type', 'Primary type', 'Level/Rank', 'Pendulum Scale', 'Link', 'Secondary type', 'DEF']).groupby('Link Arrows').nunique()"
   ]
  },
  {
   "cell_type": "code",
   "execution_count": null,
   "id": "66c65c93",
   "metadata": {
    "papermill": {
     "duration": 1.126701,
     "end_time": "2023-02-17T12:21:28.011545",
     "exception": false,
     "start_time": "2023-02-17T12:21:26.884844",
     "status": "completed"
    },
    "tags": []
   },
   "outputs": [],
   "source": [
    "arrows_colors = colors_dict['Link Monster']\n",
    "monster_df['Link Arrows'].value_counts().plot.barh(figsize = (10,20), grid = True, color = arrows_colors, title = 'Link arrows combinations')\n",
    "plt.show()"
   ]
  },
  {
   "cell_type": "markdown",
   "id": "aa520eaf",
   "metadata": {
    "papermill": {
     "duration": 0.083474,
     "end_time": "2023-02-17T12:21:28.177975",
     "exception": false,
     "start_time": "2023-02-17T12:21:28.094501",
     "status": "completed"
    },
    "tags": []
   },
   "source": [
    "#### By unique"
   ]
  },
  {
   "cell_type": "code",
   "execution_count": null,
   "id": "85cda4e5",
   "metadata": {
    "papermill": {
     "duration": 0.128216,
     "end_time": "2023-02-17T12:21:28.390051",
     "exception": false,
     "start_time": "2023-02-17T12:21:28.261835",
     "status": "completed"
    },
    "tags": []
   },
   "outputs": [],
   "source": [
    "monster_df[monster_df['Link Arrows'].notna()].drop(columns=['Card type', 'Primary type', 'Level/Rank', 'Pendulum Scale', 'Secondary type', 'DEF']).explode('Link Arrows').groupby('Link Arrows').nunique()"
   ]
  },
  {
   "cell_type": "code",
   "execution_count": null,
   "id": "c3161d6e",
   "metadata": {
    "papermill": {
     "duration": 0.379142,
     "end_time": "2023-02-17T12:21:28.854089",
     "exception": false,
     "start_time": "2023-02-17T12:21:28.474947",
     "status": "completed"
    },
    "tags": []
   },
   "outputs": [],
   "source": [
    "arrows_colors_b = colors_dict['Link Monster']\n",
    "monster_df['Link Arrows'].explode('Link Arrows').value_counts().plot.bar(figsize = (18,6), grid = True, color = arrows_colors_b, title = 'Link arrows')\n",
    "plt.show()"
   ]
  },
  {
   "cell_type": "markdown",
   "id": "e36f6792",
   "metadata": {
    "papermill": {
     "duration": 0.084146,
     "end_time": "2023-02-17T12:21:29.021853",
     "exception": false,
     "start_time": "2023-02-17T12:21:28.937707",
     "status": "completed"
    },
    "tags": []
   },
   "source": [
    "#### By link"
   ]
  },
  {
   "cell_type": "code",
   "execution_count": null,
   "id": "8a6b3372",
   "metadata": {
    "papermill": {
     "duration": 0.137235,
     "end_time": "2023-02-17T12:21:29.243584",
     "exception": false,
     "start_time": "2023-02-17T12:21:29.106349",
     "status": "completed"
    },
    "tags": []
   },
   "outputs": [],
   "source": [
    "arrow_per_link = monster_df[['Link Arrows','Link']].explode('Link Arrows').dropna()\n",
    "arrow_crosstab = pd.crosstab(arrow_per_link['Link Arrows'],arrow_per_link['Link'])\n",
    "arrow_crosstab"
   ]
  },
  {
   "cell_type": "code",
   "execution_count": null,
   "id": "a22dab12",
   "metadata": {
    "papermill": {
     "duration": 0.836907,
     "end_time": "2023-02-17T12:21:30.174861",
     "exception": false,
     "start_time": "2023-02-17T12:21:29.337954",
     "status": "completed"
    },
    "tags": []
   },
   "outputs": [],
   "source": [
    "plt.figure(figsize = (10,6))\n",
    "sns.heatmap(arrow_crosstab[arrow_crosstab>0].T, annot=True, fmt=\"g\", cmap='viridis', square=True, norm=mc.LogNorm())\n",
    "plt.show()"
   ]
  },
  {
   "cell_type": "markdown",
   "id": "bb0bbf58",
   "metadata": {
    "papermill": {
     "duration": 0.091458,
     "end_time": "2023-02-17T12:21:30.352867",
     "exception": false,
     "start_time": "2023-02-17T12:21:30.261409",
     "status": "completed"
    },
    "tags": []
   },
   "source": [
    "## Spell & Trap"
   ]
  },
  {
   "cell_type": "markdown",
   "id": "f47b1472",
   "metadata": {
    "papermill": {
     "duration": 0.085465,
     "end_time": "2023-02-17T12:21:30.525403",
     "exception": false,
     "start_time": "2023-02-17T12:21:30.439938",
     "status": "completed"
    },
    "tags": []
   },
   "source": [
    "### Properties"
   ]
  },
  {
   "cell_type": "code",
   "execution_count": null,
   "id": "fdd7cb44",
   "metadata": {
    "papermill": {
     "duration": 0.096829,
     "end_time": "2023-02-17T12:21:30.708243",
     "exception": false,
     "start_time": "2023-02-17T12:21:30.611414",
     "status": "completed"
    },
    "tags": []
   },
   "outputs": [],
   "source": [
    "print('Total number of properties:', st_df['Property'].nunique())"
   ]
  },
  {
   "cell_type": "code",
   "execution_count": null,
   "id": "52c0aa20",
   "metadata": {
    "papermill": {
     "duration": 0.133148,
     "end_time": "2023-02-17T12:21:30.926612",
     "exception": false,
     "start_time": "2023-02-17T12:21:30.793464",
     "status": "completed"
    },
    "tags": []
   },
   "outputs": [],
   "source": [
    "st_df.drop(columns=['Card type']).groupby('Property').nunique()"
   ]
  },
  {
   "cell_type": "code",
   "execution_count": null,
   "id": "cd537db7",
   "metadata": {
    "papermill": {
     "duration": 0.500057,
     "end_time": "2023-02-17T12:21:31.523254",
     "exception": false,
     "start_time": "2023-02-17T12:21:31.023197",
     "status": "completed"
    },
    "tags": []
   },
   "outputs": [],
   "source": [
    "st_colors = [colors_dict[i] for i in cards_df[['Card type','Property']].value_counts().index.get_level_values(0)]\n",
    "st_df['Property'].value_counts().plot.bar(figsize = (18,6), grid = True, rot=45, color = st_colors, title = 'Property')\n",
    "plt.show()"
   ]
  },
  {
   "cell_type": "markdown",
   "id": "eab733b7",
   "metadata": {
    "papermill": {
     "duration": 0.314281,
     "end_time": "2023-02-17T12:21:31.942782",
     "exception": false,
     "start_time": "2023-02-17T12:21:31.628501",
     "status": "completed"
    },
    "tags": []
   },
   "source": [
    "### Effect type"
   ]
  },
  {
   "cell_type": "code",
   "execution_count": null,
   "id": "f955ec1d",
   "metadata": {
    "papermill": {
     "duration": 0.110425,
     "end_time": "2023-02-17T12:21:32.141110",
     "exception": false,
     "start_time": "2023-02-17T12:21:32.030685",
     "status": "completed"
    },
    "tags": []
   },
   "outputs": [],
   "source": [
    "print('Total number of effect types:', st_df['Effect type'].explode().nunique())"
   ]
  },
  {
   "cell_type": "code",
   "execution_count": null,
   "id": "9e0f62a2",
   "metadata": {
    "papermill": {
     "duration": 0.183637,
     "end_time": "2023-02-17T12:21:32.412993",
     "exception": false,
     "start_time": "2023-02-17T12:21:32.229356",
     "status": "completed"
    },
    "tags": []
   },
   "outputs": [],
   "source": [
    "st_df.explode('Effect type').groupby('Effect type').nunique()"
   ]
  },
  {
   "cell_type": "markdown",
   "id": "64868037",
   "metadata": {
    "papermill": {
     "duration": 0.087939,
     "end_time": "2023-02-17T12:21:32.589019",
     "exception": false,
     "start_time": "2023-02-17T12:21:32.501080",
     "status": "completed"
    },
    "tags": []
   },
   "source": [
    "#### Spell & Trap discrimination"
   ]
  },
  {
   "cell_type": "code",
   "execution_count": null,
   "id": "75843f9d",
   "metadata": {
    "papermill": {
     "duration": 0.120275,
     "end_time": "2023-02-17T12:21:32.804867",
     "exception": false,
     "start_time": "2023-02-17T12:21:32.684592",
     "status": "completed"
    },
    "tags": []
   },
   "outputs": [],
   "source": [
    "spell = spell_df['Effect type'].explode('Effect type').value_counts().rename('Spell Card')\n",
    "trap = trap_df['Effect type'].explode('Effect type').value_counts().rename('Trap Card')\n",
    "st_diff = pd.concat([spell, trap], axis = 1).fillna(0).astype(int)\n",
    "st_diff"
   ]
  },
  {
   "cell_type": "code",
   "execution_count": null,
   "id": "373757a0",
   "metadata": {
    "papermill": {
     "duration": 0.532202,
     "end_time": "2023-02-17T12:21:33.429062",
     "exception": false,
     "start_time": "2023-02-17T12:21:32.896860",
     "status": "completed"
    },
    "tags": []
   },
   "outputs": [],
   "source": [
    "st_diff_colors = {'Spell Card': colors_dict['Spell Card'], 'Trap Card': colors_dict['Trap Card']}\n",
    "st_diff.plot.bar(figsize = (18,6), stacked = True, grid = True, rot=45, color = st_diff_colors, title = 'Effect type')\n",
    "plt.show()"
   ]
  },
  {
   "cell_type": "markdown",
   "id": "0013b7c7",
   "metadata": {
    "papermill": {
     "duration": 0.453479,
     "end_time": "2023-02-17T12:21:33.971495",
     "exception": false,
     "start_time": "2023-02-17T12:21:33.518016",
     "status": "completed"
    },
    "tags": []
   },
   "source": [
    "## Archseries"
   ]
  },
  {
   "cell_type": "code",
   "execution_count": null,
   "id": "ce1470dc",
   "metadata": {
    "papermill": {
     "duration": 0.211022,
     "end_time": "2023-02-17T12:21:34.273993",
     "exception": false,
     "start_time": "2023-02-17T12:21:34.062971",
     "status": "completed"
    },
    "tags": []
   },
   "outputs": [],
   "source": [
    "exploded_archseries = cards_df.explode('Archseries')\n",
    "print('Total number of Archseries:', exploded_archseries['Archseries'].nunique())"
   ]
  },
  {
   "cell_type": "code",
   "execution_count": null,
   "id": "f31c5b8c",
   "metadata": {
    "papermill": {
     "duration": 0.233937,
     "end_time": "2023-02-17T12:21:34.597975",
     "exception": false,
     "start_time": "2023-02-17T12:21:34.364038",
     "status": "completed"
    },
    "tags": []
   },
   "outputs": [],
   "source": [
    "exploded_archseries.groupby('Archseries').nunique()"
   ]
  },
  {
   "cell_type": "code",
   "execution_count": null,
   "id": "00c9f321",
   "metadata": {
    "papermill": {
     "duration": 10.522184,
     "end_time": "2023-02-17T12:21:45.218653",
     "exception": false,
     "start_time": "2023-02-17T12:21:34.696469",
     "status": "completed"
    },
    "tags": []
   },
   "outputs": [],
   "source": [
    "exploded_archseries['Archseries'].value_counts().plot.barh(figsize = (10,200), grid = True, title = 'Archtypes/Series')\n",
    "plt.show()"
   ]
  },
  {
   "cell_type": "markdown",
   "id": "cf3bf55f",
   "metadata": {
    "papermill": {
     "duration": 0.125902,
     "end_time": "2023-02-17T12:21:45.469774",
     "exception": false,
     "start_time": "2023-02-17T12:21:45.343872",
     "status": "completed"
    },
    "tags": []
   },
   "source": [
    "### By card type"
   ]
  },
  {
   "cell_type": "code",
   "execution_count": null,
   "id": "fbf65c3c",
   "metadata": {
    "papermill": {
     "duration": 0.363887,
     "end_time": "2023-02-17T12:21:45.957455",
     "exception": false,
     "start_time": "2023-02-17T12:21:45.593568",
     "status": "completed"
    },
    "tags": []
   },
   "outputs": [],
   "source": [
    "archseries_crosstab = pd.crosstab(exploded_archseries['Archseries'],exploded_archseries['Card type'], margins = True)\n",
    "archseries_crosstab"
   ]
  },
  {
   "cell_type": "markdown",
   "id": "960ea110",
   "metadata": {
    "papermill": {
     "duration": 0.125728,
     "end_time": "2023-02-17T12:21:46.209182",
     "exception": false,
     "start_time": "2023-02-17T12:21:46.083454",
     "status": "completed"
    },
    "tags": []
   },
   "source": [
    "### By primary type"
   ]
  },
  {
   "cell_type": "code",
   "execution_count": null,
   "id": "2c3671f0",
   "metadata": {
    "papermill": {
     "duration": 0.28726,
     "end_time": "2023-02-17T12:21:46.622216",
     "exception": false,
     "start_time": "2023-02-17T12:21:46.334956",
     "status": "completed"
    },
    "tags": []
   },
   "outputs": [],
   "source": [
    "archseries_crosstab_b = pd.crosstab(exploded_archseries['Archseries'],exploded_archseries['Primary type'], margins = True)\n",
    "archseries_crosstab_b"
   ]
  },
  {
   "cell_type": "markdown",
   "id": "6de5fdac",
   "metadata": {
    "papermill": {
     "duration": 0.184699,
     "end_time": "2023-02-17T12:21:46.940668",
     "exception": false,
     "start_time": "2023-02-17T12:21:46.755969",
     "status": "completed"
    },
    "tags": []
   },
   "source": [
    "\n",
    "\n",
    "### By secondary type"
   ]
  },
  {
   "cell_type": "code",
   "execution_count": null,
   "id": "966a00dd",
   "metadata": {
    "papermill": {
     "duration": 0.245445,
     "end_time": "2023-02-17T12:21:47.316167",
     "exception": false,
     "start_time": "2023-02-17T12:21:47.070722",
     "status": "completed"
    },
    "tags": []
   },
   "outputs": [],
   "source": [
    "exploded_archseries_secondary_type = exploded_archseries[['Archseries', 'Secondary type']].explode('Secondary type')\n",
    "archseries_crosstab_c = pd.crosstab(exploded_archseries_secondary_type['Archseries'],exploded_archseries_secondary_type['Secondary type'], margins = True)\n",
    "archseries_crosstab_c"
   ]
  },
  {
   "cell_type": "markdown",
   "id": "a881d945",
   "metadata": {
    "papermill": {
     "duration": 0.126431,
     "end_time": "2023-02-17T12:21:47.569374",
     "exception": false,
     "start_time": "2023-02-17T12:21:47.442943",
     "status": "completed"
    },
    "tags": []
   },
   "source": [
    "### By monster type"
   ]
  },
  {
   "cell_type": "code",
   "execution_count": null,
   "id": "d99ee9e1",
   "metadata": {
    "papermill": {
     "duration": 0.348736,
     "end_time": "2023-02-17T12:21:48.043715",
     "exception": false,
     "start_time": "2023-02-17T12:21:47.694979",
     "status": "completed"
    },
    "tags": []
   },
   "outputs": [],
   "source": [
    "archseries_crosstab_d = pd.crosstab(exploded_archseries['Archseries'],exploded_archseries['Monster type'], margins = True)\n",
    "archseries_crosstab_d"
   ]
  },
  {
   "cell_type": "markdown",
   "id": "f97ab388",
   "metadata": {
    "papermill": {
     "duration": 0.239358,
     "end_time": "2023-02-17T12:21:48.524568",
     "exception": false,
     "start_time": "2023-02-17T12:21:48.285210",
     "status": "completed"
    },
    "tags": []
   },
   "source": [
    "### By property"
   ]
  },
  {
   "cell_type": "code",
   "execution_count": null,
   "id": "fbbb1ccc",
   "metadata": {
    "papermill": {
     "duration": 0.27234,
     "end_time": "2023-02-17T12:21:48.930801",
     "exception": false,
     "start_time": "2023-02-17T12:21:48.658461",
     "status": "completed"
    },
    "tags": []
   },
   "outputs": [],
   "source": [
    "archseries_crosstab_e = pd.crosstab(exploded_archseries['Archseries'],exploded_archseries['Property'], margins = True)\n",
    "archseries_crosstab_e"
   ]
  },
  {
   "cell_type": "markdown",
   "id": "554f6e74",
   "metadata": {
    "papermill": {
     "duration": 0.127671,
     "end_time": "2023-02-17T12:21:49.187274",
     "exception": false,
     "start_time": "2023-02-17T12:21:49.059603",
     "status": "completed"
    },
    "tags": []
   },
   "source": [
    "## Artworks"
   ]
  },
  {
   "cell_type": "code",
   "execution_count": null,
   "id": "2224e061",
   "metadata": {
    "papermill": {
     "duration": 0.138962,
     "end_time": "2023-02-17T12:21:49.453907",
     "exception": false,
     "start_time": "2023-02-17T12:21:49.314945",
     "status": "completed"
    },
    "tags": []
   },
   "outputs": [],
   "source": [
    "print('Total number of cards with edited or alternate artworks:', cards_df['Artwork'].count())"
   ]
  },
  {
   "cell_type": "code",
   "execution_count": null,
   "id": "f7492a67",
   "metadata": {
    "papermill": {
     "duration": 0.158906,
     "end_time": "2023-02-17T12:21:49.741098",
     "exception": false,
     "start_time": "2023-02-17T12:21:49.582192",
     "status": "completed"
    },
    "tags": []
   },
   "outputs": [],
   "source": [
    "cards_df[['Name','Password','TCG status','OCG status','Artwork']][cards_df['Artwork'].notna()]"
   ]
  },
  {
   "cell_type": "code",
   "execution_count": null,
   "id": "fa1ea6aa",
   "metadata": {
    "papermill": {
     "duration": 0.344894,
     "end_time": "2023-02-17T12:21:50.214117",
     "exception": false,
     "start_time": "2023-02-17T12:21:49.869223",
     "status": "completed"
    },
    "tags": []
   },
   "outputs": [],
   "source": [
    "artwork_value_counts = cards_df['Artwork'].value_counts()\n",
    "plt.figure(figsize=(20,8))\n",
    "plt.title('Artworks')\n",
    "venn2(subsets = (artwork_value_counts[('Alternate',)], artwork_value_counts[('Edited',)],artwork_value_counts[('Alternate','Edited')]), set_labels = ('Alternate artwork', 'Edited artwork'))\n",
    "plt.show()"
   ]
  },
  {
   "cell_type": "markdown",
   "id": "e49df5df",
   "metadata": {
    "papermill": {
     "duration": 0.127732,
     "end_time": "2023-02-17T12:21:50.477043",
     "exception": false,
     "start_time": "2023-02-17T12:21:50.349311",
     "status": "completed"
    },
    "tags": []
   },
   "source": [
    "### By card type"
   ]
  },
  {
   "cell_type": "code",
   "execution_count": null,
   "id": "1b14c224",
   "metadata": {
    "papermill": {
     "duration": 0.172443,
     "end_time": "2023-02-17T12:21:50.782407",
     "exception": false,
     "start_time": "2023-02-17T12:21:50.609964",
     "status": "completed"
    },
    "tags": []
   },
   "outputs": [],
   "source": [
    "artwork_crosstab = pd.crosstab(cards_df['Artwork'], cards_df['Card type'])\n",
    "artwork_crosstab"
   ]
  },
  {
   "cell_type": "markdown",
   "id": "81afa2df",
   "metadata": {
    "papermill": {
     "duration": 0.129186,
     "end_time": "2023-02-17T12:21:51.041030",
     "exception": false,
     "start_time": "2023-02-17T12:21:50.911844",
     "status": "completed"
    },
    "tags": []
   },
   "source": [
    "### By primary type"
   ]
  },
  {
   "cell_type": "code",
   "execution_count": null,
   "id": "55081aa0",
   "metadata": {
    "papermill": {
     "duration": 0.368165,
     "end_time": "2023-02-17T12:21:51.544749",
     "exception": false,
     "start_time": "2023-02-17T12:21:51.176584",
     "status": "completed"
    },
    "tags": []
   },
   "outputs": [],
   "source": [
    "artwork_crosstab_b = pd.crosstab(cards_df['Artwork'], cards_df['Primary type'])\n",
    "artwork_crosstab_b"
   ]
  },
  {
   "cell_type": "markdown",
   "id": "14a90117",
   "metadata": {
    "papermill": {
     "duration": 0.128525,
     "end_time": "2023-02-17T12:21:51.815861",
     "exception": false,
     "start_time": "2023-02-17T12:21:51.687336",
     "status": "completed"
    },
    "tags": []
   },
   "source": [
    "More granularity is unnecessary"
   ]
  },
  {
   "cell_type": "markdown",
   "id": "5210d61b",
   "metadata": {
    "papermill": {
     "duration": 0.131268,
     "end_time": "2023-02-17T12:21:52.084590",
     "exception": false,
     "start_time": "2023-02-17T12:21:51.953322",
     "status": "completed"
    },
    "tags": []
   },
   "source": [
    "## Errata"
   ]
  },
  {
   "cell_type": "code",
   "execution_count": null,
   "id": "09b33100",
   "metadata": {
    "papermill": {
     "duration": 0.142676,
     "end_time": "2023-02-17T12:21:52.358547",
     "exception": false,
     "start_time": "2023-02-17T12:21:52.215871",
     "status": "completed"
    },
    "tags": []
   },
   "outputs": [],
   "source": [
    "print('Total number of cards with name or type errata:', cards_df['Errata'].count())"
   ]
  },
  {
   "cell_type": "code",
   "execution_count": null,
   "id": "40462eee",
   "metadata": {
    "papermill": {
     "duration": 0.163508,
     "end_time": "2023-02-17T12:21:52.651051",
     "exception": false,
     "start_time": "2023-02-17T12:21:52.487543",
     "status": "completed"
    },
    "tags": []
   },
   "outputs": [],
   "source": [
    "cards_df[['Name','Password','TCG status','OCG status','Errata']][cards_df['Errata'].notna()]"
   ]
  },
  {
   "cell_type": "code",
   "execution_count": null,
   "id": "60843a4f",
   "metadata": {
    "papermill": {
     "duration": 0.297477,
     "end_time": "2023-02-17T12:21:53.080534",
     "exception": false,
     "start_time": "2023-02-17T12:21:52.783057",
     "status": "completed"
    },
    "tags": []
   },
   "outputs": [],
   "source": [
    "errata_value_counts = cards_df['Errata'].value_counts()\n",
    "plt.figure(figsize=(20,8))\n",
    "plt.title('Errata')\n",
    "venn2(subsets = (errata_value_counts[('Name',)], errata_value_counts[('Type',)],errata_value_counts[('Name','Type')]), set_labels = ('Name Errata', 'Type errata'))\n",
    "plt.show()"
   ]
  },
  {
   "cell_type": "markdown",
   "id": "a3703983",
   "metadata": {
    "papermill": {
     "duration": 0.130412,
     "end_time": "2023-02-17T12:21:53.342454",
     "exception": false,
     "start_time": "2023-02-17T12:21:53.212042",
     "status": "completed"
    },
    "tags": []
   },
   "source": [
    "### By card type"
   ]
  },
  {
   "cell_type": "code",
   "execution_count": null,
   "id": "fb103c29",
   "metadata": {
    "papermill": {
     "duration": 0.191474,
     "end_time": "2023-02-17T12:21:53.673250",
     "exception": false,
     "start_time": "2023-02-17T12:21:53.481776",
     "status": "completed"
    },
    "tags": []
   },
   "outputs": [],
   "source": [
    "errata_crosstab = pd.crosstab(cards_df['Errata'], cards_df['Card type'])\n",
    "errata_crosstab"
   ]
  },
  {
   "cell_type": "markdown",
   "id": "36d241f1",
   "metadata": {
    "papermill": {
     "duration": 0.131657,
     "end_time": "2023-02-17T12:21:53.937660",
     "exception": false,
     "start_time": "2023-02-17T12:21:53.806003",
     "status": "completed"
    },
    "tags": []
   },
   "source": [
    "### By primary type"
   ]
  },
  {
   "cell_type": "code",
   "execution_count": null,
   "id": "5b90628d",
   "metadata": {
    "papermill": {
     "duration": 0.17092,
     "end_time": "2023-02-17T12:21:54.347289",
     "exception": false,
     "start_time": "2023-02-17T12:21:54.176369",
     "status": "completed"
    },
    "tags": []
   },
   "outputs": [],
   "source": [
    "errata_crosstab_b = pd.crosstab(cards_df['Errata'], cards_df['Primary type'])\n",
    "errata_crosstab_b"
   ]
  },
  {
   "cell_type": "markdown",
   "id": "0029e1ca",
   "metadata": {
    "papermill": {
     "duration": 0.132612,
     "end_time": "2023-02-17T12:21:54.610725",
     "exception": false,
     "start_time": "2023-02-17T12:21:54.478113",
     "status": "completed"
    },
    "tags": []
   },
   "source": [
    "More granularity is unnecessary"
   ]
  },
  {
   "cell_type": "markdown",
   "id": "35d88dda",
   "metadata": {
    "papermill": {
     "duration": 0.130386,
     "end_time": "2023-02-17T12:21:54.872824",
     "exception": false,
     "start_time": "2023-02-17T12:21:54.742438",
     "status": "completed"
    },
    "tags": []
   },
   "source": [
    "### By artwork"
   ]
  },
  {
   "cell_type": "code",
   "execution_count": null,
   "id": "0057def3",
   "metadata": {
    "papermill": {
     "duration": 0.168601,
     "end_time": "2023-02-17T12:21:55.178192",
     "exception": false,
     "start_time": "2023-02-17T12:21:55.009591",
     "status": "completed"
    },
    "tags": []
   },
   "outputs": [],
   "source": [
    "errata_crosstab_c = pd.crosstab(cards_df['Artwork'], cards_df['Errata'])\n",
    "errata_crosstab_c"
   ]
  },
  {
   "cell_type": "markdown",
   "id": "edef3194",
   "metadata": {
    "papermill": {
     "duration": 0.131534,
     "end_time": "2023-02-17T12:21:55.440680",
     "exception": false,
     "start_time": "2023-02-17T12:21:55.309146",
     "status": "completed"
    },
    "tags": []
   },
   "source": [
    "## TCG & OCG status"
   ]
  },
  {
   "cell_type": "markdown",
   "id": "3e7505cd",
   "metadata": {
    "papermill": {
     "duration": 0.130835,
     "end_time": "2023-02-17T12:21:55.704050",
     "exception": false,
     "start_time": "2023-02-17T12:21:55.573215",
     "status": "completed"
    },
    "tags": []
   },
   "source": [
    "### TGC status"
   ]
  },
  {
   "cell_type": "code",
   "execution_count": null,
   "id": "88b93fca",
   "metadata": {
    "papermill": {
     "duration": 0.146858,
     "end_time": "2023-02-17T12:21:55.981917",
     "exception": false,
     "start_time": "2023-02-17T12:21:55.835059",
     "status": "completed"
    },
    "tags": []
   },
   "outputs": [],
   "source": [
    "print('Total number of TCG status:', cards_df['TCG status'].nunique())"
   ]
  },
  {
   "cell_type": "code",
   "execution_count": null,
   "id": "2c69bec0",
   "metadata": {
    "papermill": {
     "duration": 0.256387,
     "end_time": "2023-02-17T12:21:56.369177",
     "exception": false,
     "start_time": "2023-02-17T12:21:56.112790",
     "status": "completed"
    },
    "tags": []
   },
   "outputs": [],
   "source": [
    "cards_df.groupby('TCG status', dropna=False).nunique()"
   ]
  },
  {
   "cell_type": "code",
   "execution_count": null,
   "id": "add82403",
   "metadata": {
    "papermill": {
     "duration": 0.740515,
     "end_time": "2023-02-17T12:21:57.245063",
     "exception": false,
     "start_time": "2023-02-17T12:21:56.504548",
     "status": "completed"
    },
    "tags": []
   },
   "outputs": [],
   "source": [
    "cards_df['TCG status'].value_counts(dropna = False).plot.bar(figsize = (18,6), logy=True, grid = True, rot=45, title = 'TCG status')\n",
    "plt.show()"
   ]
  },
  {
   "cell_type": "markdown",
   "id": "f6b985a0",
   "metadata": {
    "papermill": {
     "duration": 0.137002,
     "end_time": "2023-02-17T12:21:57.522243",
     "exception": false,
     "start_time": "2023-02-17T12:21:57.385241",
     "status": "completed"
    },
    "tags": []
   },
   "source": [
    "#### By card type"
   ]
  },
  {
   "cell_type": "code",
   "execution_count": null,
   "id": "12c444ed",
   "metadata": {
    "papermill": {
     "duration": 0.17459,
     "end_time": "2023-02-17T12:21:57.832258",
     "exception": false,
     "start_time": "2023-02-17T12:21:57.657668",
     "status": "completed"
    },
    "tags": []
   },
   "outputs": [],
   "source": [
    "# Remove unlimited\n",
    "tcg_crosstab = pd.crosstab(cards_df['Card type'], cards_df['TCG status']).drop(['Unlimited'], axis=1)\n",
    "tcg_crosstab"
   ]
  },
  {
   "cell_type": "code",
   "execution_count": null,
   "id": "8648b51e",
   "metadata": {
    "papermill": {
     "duration": 0.598858,
     "end_time": "2023-02-17T12:21:58.564255",
     "exception": false,
     "start_time": "2023-02-17T12:21:57.965397",
     "status": "completed"
    },
    "tags": []
   },
   "outputs": [],
   "source": [
    "plt.figure(figsize = (12,6))\n",
    "sns.heatmap(tcg_crosstab[tcg_crosstab>0], annot=True, fmt=\"g\", cmap='viridis', norm=mc.LogNorm())\n",
    "plt.show()"
   ]
  },
  {
   "cell_type": "markdown",
   "id": "521f367b",
   "metadata": {
    "papermill": {
     "duration": 0.133123,
     "end_time": "2023-02-17T12:21:58.831329",
     "exception": false,
     "start_time": "2023-02-17T12:21:58.698206",
     "status": "completed"
    },
    "tags": []
   },
   "source": [
    "#### By monster type"
   ]
  },
  {
   "cell_type": "code",
   "execution_count": null,
   "id": "bb73564f",
   "metadata": {
    "papermill": {
     "duration": 0.182602,
     "end_time": "2023-02-17T12:21:59.147442",
     "exception": false,
     "start_time": "2023-02-17T12:21:58.964840",
     "status": "completed"
    },
    "tags": []
   },
   "outputs": [],
   "source": [
    "# Remove unlimited\n",
    "tcg_crosstab_b = pd.crosstab(cards_df['Monster type'], cards_df['TCG status']).drop(['Unlimited'], axis=1)\n",
    "tcg_crosstab_b"
   ]
  },
  {
   "cell_type": "code",
   "execution_count": null,
   "id": "dd5e826c",
   "metadata": {
    "papermill": {
     "duration": 0.791972,
     "end_time": "2023-02-17T12:22:00.080023",
     "exception": false,
     "start_time": "2023-02-17T12:21:59.288051",
     "status": "completed"
    },
    "tags": []
   },
   "outputs": [],
   "source": [
    "plt.figure(figsize = (20,5))\n",
    "sns.heatmap(tcg_crosstab_b[tcg_crosstab_b>0].T, annot=True, fmt=\"g\", cmap='viridis', square = True)\n",
    "plt.show()"
   ]
  },
  {
   "cell_type": "markdown",
   "id": "b0e7d771",
   "metadata": {
    "papermill": {
     "duration": 0.309593,
     "end_time": "2023-02-17T12:22:00.528606",
     "exception": false,
     "start_time": "2023-02-17T12:22:00.219013",
     "status": "completed"
    },
    "tags": []
   },
   "source": [
    "#### By archseries"
   ]
  },
  {
   "cell_type": "code",
   "execution_count": null,
   "id": "05fc1f77",
   "metadata": {
    "papermill": {
     "duration": 0.224476,
     "end_time": "2023-02-17T12:22:00.890439",
     "exception": false,
     "start_time": "2023-02-17T12:22:00.665963",
     "status": "completed"
    },
    "tags": []
   },
   "outputs": [],
   "source": [
    "# Remove unlimited\n",
    "tcg_crosstab_c = pd.crosstab(exploded_archseries['Archseries'].where(exploded_archseries['OCG status']!='Unlimited'), exploded_archseries['TCG status'], margins = True)\n",
    "tcg_crosstab_c"
   ]
  },
  {
   "cell_type": "markdown",
   "id": "af202b20",
   "metadata": {
    "papermill": {
     "duration": 0.392977,
     "end_time": "2023-02-17T12:22:01.421260",
     "exception": false,
     "start_time": "2023-02-17T12:22:01.028283",
     "status": "completed"
    },
    "tags": []
   },
   "source": [
    "### OCG status"
   ]
  },
  {
   "cell_type": "code",
   "execution_count": null,
   "id": "0b01a31b",
   "metadata": {
    "papermill": {
     "duration": 0.150626,
     "end_time": "2023-02-17T12:22:01.721367",
     "exception": false,
     "start_time": "2023-02-17T12:22:01.570741",
     "status": "completed"
    },
    "tags": []
   },
   "outputs": [],
   "source": [
    "print('Total number of OCG status:', cards_df['OCG status'].nunique())"
   ]
  },
  {
   "cell_type": "code",
   "execution_count": null,
   "id": "13b7b5c8",
   "metadata": {
    "papermill": {
     "duration": 0.265043,
     "end_time": "2023-02-17T12:22:02.129418",
     "exception": false,
     "start_time": "2023-02-17T12:22:01.864375",
     "status": "completed"
    },
    "tags": []
   },
   "outputs": [],
   "source": [
    "cards_df.groupby('OCG status', dropna=False).nunique()"
   ]
  },
  {
   "cell_type": "code",
   "execution_count": null,
   "id": "baff20b2",
   "metadata": {
    "papermill": {
     "duration": 0.709821,
     "end_time": "2023-02-17T12:22:02.976198",
     "exception": false,
     "start_time": "2023-02-17T12:22:02.266377",
     "status": "completed"
    },
    "tags": []
   },
   "outputs": [],
   "source": [
    "cards_df['OCG status'].value_counts(dropna = False).plot.bar(figsize = (18,6), logy=True, grid = True, rot=45, title = 'TCG status')\n",
    "plt.show()"
   ]
  },
  {
   "cell_type": "markdown",
   "id": "5c4bf980",
   "metadata": {
    "papermill": {
     "duration": 0.138067,
     "end_time": "2023-02-17T12:22:03.251277",
     "exception": false,
     "start_time": "2023-02-17T12:22:03.113210",
     "status": "completed"
    },
    "tags": []
   },
   "source": [
    "#### By card type"
   ]
  },
  {
   "cell_type": "code",
   "execution_count": null,
   "id": "4863280e",
   "metadata": {
    "papermill": {
     "duration": 0.181618,
     "end_time": "2023-02-17T12:22:03.571498",
     "exception": false,
     "start_time": "2023-02-17T12:22:03.389880",
     "status": "completed"
    },
    "tags": []
   },
   "outputs": [],
   "source": [
    "# Remove unlimited\n",
    "ocg_crosstab = pd.crosstab(cards_df['Card type'], cards_df['OCG status']).drop(['Unlimited'], axis=1)\n",
    "ocg_crosstab"
   ]
  },
  {
   "cell_type": "code",
   "execution_count": null,
   "id": "e8489887",
   "metadata": {
    "papermill": {
     "duration": 0.473541,
     "end_time": "2023-02-17T12:22:04.190313",
     "exception": false,
     "start_time": "2023-02-17T12:22:03.716772",
     "status": "completed"
    },
    "tags": []
   },
   "outputs": [],
   "source": [
    "plt.figure(figsize = (12,6))\n",
    "sns.heatmap(ocg_crosstab[ocg_crosstab>0], annot=True, fmt=\"g\", cmap='viridis')\n",
    "plt.show()"
   ]
  },
  {
   "cell_type": "markdown",
   "id": "32f682d2",
   "metadata": {
    "papermill": {
     "duration": 0.138504,
     "end_time": "2023-02-17T12:22:04.467644",
     "exception": false,
     "start_time": "2023-02-17T12:22:04.329140",
     "status": "completed"
    },
    "tags": []
   },
   "source": [
    "#### By monster type"
   ]
  },
  {
   "cell_type": "code",
   "execution_count": null,
   "id": "3dbadcb8",
   "metadata": {
    "papermill": {
     "duration": 0.184243,
     "end_time": "2023-02-17T12:22:04.789944",
     "exception": false,
     "start_time": "2023-02-17T12:22:04.605701",
     "status": "completed"
    },
    "tags": []
   },
   "outputs": [],
   "source": [
    "ocg_crosstab_b = pd.crosstab(cards_df['Monster type'], cards_df['OCG status']).drop(['Unlimited'], axis=1)\n",
    "ocg_crosstab_b"
   ]
  },
  {
   "cell_type": "code",
   "execution_count": null,
   "id": "4743b0c1",
   "metadata": {
    "papermill": {
     "duration": 0.818538,
     "end_time": "2023-02-17T12:22:05.748135",
     "exception": false,
     "start_time": "2023-02-17T12:22:04.929597",
     "status": "completed"
    },
    "tags": []
   },
   "outputs": [],
   "source": [
    "plt.figure(figsize = (20,5))\n",
    "sns.heatmap(ocg_crosstab_b[ocg_crosstab_b>0].T, annot=True, fmt=\"g\", cmap='viridis', square = True)\n",
    "plt.show()"
   ]
  },
  {
   "cell_type": "markdown",
   "id": "19d9067b",
   "metadata": {
    "papermill": {
     "duration": 0.143259,
     "end_time": "2023-02-17T12:22:06.039275",
     "exception": false,
     "start_time": "2023-02-17T12:22:05.896016",
     "status": "completed"
    },
    "tags": []
   },
   "source": [
    "#### By archseries"
   ]
  },
  {
   "cell_type": "code",
   "execution_count": null,
   "id": "d866a6e2",
   "metadata": {
    "papermill": {
     "duration": 0.232065,
     "end_time": "2023-02-17T12:22:06.413694",
     "exception": false,
     "start_time": "2023-02-17T12:22:06.181629",
     "status": "completed"
    },
    "tags": []
   },
   "outputs": [],
   "source": [
    "# Remove unlimited\n",
    "ocg_crosstab_c = pd.crosstab(exploded_archseries['Archseries'].where(exploded_archseries['OCG status']!='Unlimited'), exploded_archseries['OCG status'], margins = True)\n",
    "ocg_crosstab_c"
   ]
  },
  {
   "cell_type": "markdown",
   "id": "c5b33198",
   "metadata": {
    "papermill": {
     "duration": 0.141094,
     "end_time": "2023-02-17T12:22:06.699255",
     "exception": false,
     "start_time": "2023-02-17T12:22:06.558161",
     "status": "completed"
    },
    "tags": []
   },
   "source": [
    "### TCG vs. OCG status"
   ]
  },
  {
   "cell_type": "code",
   "execution_count": null,
   "id": "14f2101b",
   "metadata": {
    "papermill": {
     "duration": 0.182868,
     "end_time": "2023-02-17T12:22:07.024587",
     "exception": false,
     "start_time": "2023-02-17T12:22:06.841719",
     "status": "completed"
    },
    "tags": []
   },
   "outputs": [],
   "source": [
    "cg_crosstab = pd.crosstab(cards_df['OCG status'],cards_df['TCG status'], dropna=False, margins = False)\n",
    "cg_crosstab"
   ]
  },
  {
   "cell_type": "code",
   "execution_count": null,
   "id": "d10c5c81",
   "metadata": {
    "papermill": {
     "duration": 1.130958,
     "end_time": "2023-02-17T12:22:08.297702",
     "exception": false,
     "start_time": "2023-02-17T12:22:07.166744",
     "status": "completed"
    },
    "tags": []
   },
   "outputs": [],
   "source": [
    "plt.figure(figsize = (10,8))\n",
    "sns.heatmap(cg_crosstab[cg_crosstab>0], annot=True, fmt=\"g\", cmap='viridis', square=True, norm=mc.LogNorm())\n",
    "plt.show()"
   ]
  },
  {
   "cell_type": "markdown",
   "id": "95d94158-0922-4085-b2c7-d7fa24f40038",
   "metadata": {
    "papermill": {
     "duration": 0.146088,
     "end_time": "2023-02-17T12:22:08.597117",
     "exception": false,
     "start_time": "2023-02-17T12:22:08.451029",
     "status": "completed"
    },
    "tags": []
   },
   "source": [
    "# Extras"
   ]
  },
  {
   "cell_type": "markdown",
   "id": "81de3001-152d-4f35-9978-b8f895a91cc1",
   "metadata": {
    "papermill": {
     "duration": 0.141063,
     "end_time": "2023-02-17T12:22:08.879988",
     "exception": false,
     "start_time": "2023-02-17T12:22:08.738925",
     "status": "completed"
    },
    "tags": []
   },
   "source": [
    "## Multiple secondary types"
   ]
  },
  {
   "cell_type": "code",
   "execution_count": null,
   "id": "7efee39e-a0b5-4636-bcd4-cb9c75e11888",
   "metadata": {
    "papermill": {
     "duration": 0.183853,
     "end_time": "2023-02-17T12:22:09.205216",
     "exception": false,
     "start_time": "2023-02-17T12:22:09.021363",
     "status": "completed"
    },
    "tags": []
   },
   "outputs": [],
   "source": [
    "cards_df.dropna(subset='Secondary type', axis=0)[[len(x)>1 for x in cards_df['Secondary type'].dropna()]]"
   ]
  },
  {
   "cell_type": "markdown",
   "id": "a1bdb3eb-7f83-49a8-92a2-a8a05e6253c7",
   "metadata": {
    "papermill": {
     "duration": 0.143943,
     "end_time": "2023-02-17T12:22:09.494158",
     "exception": false,
     "start_time": "2023-02-17T12:22:09.350215",
     "status": "completed"
    },
    "tags": []
   },
   "source": [
    "## Not yet released"
   ]
  },
  {
   "cell_type": "code",
   "execution_count": null,
   "id": "6ca6f265",
   "metadata": {
    "papermill": {
     "duration": 0.17307,
     "end_time": "2023-02-17T12:22:09.809416",
     "exception": false,
     "start_time": "2023-02-17T12:22:09.636346",
     "status": "completed"
    },
    "tags": []
   },
   "outputs": [],
   "source": [
    "cards_df.loc[cards_df['OCG status'] == 'Not yet released'].loc[full_df['TCG status'] == 'Not yet released']"
   ]
  },
  {
   "cell_type": "markdown",
   "id": "b53361a5-0528-4691-a8ca-c015e4802d9c",
   "metadata": {
    "papermill": {
     "duration": 0.146152,
     "end_time": "2023-02-17T12:22:10.104339",
     "exception": false,
     "start_time": "2023-02-17T12:22:09.958187",
     "status": "completed"
    },
    "tags": []
   },
   "source": [
    "## Counters and Tokens"
   ]
  },
  {
   "cell_type": "code",
   "execution_count": null,
   "id": "4022c3ca-bd45-4870-b233-7fdd5b1639a7",
   "metadata": {
    "papermill": {
     "duration": 0.207727,
     "end_time": "2023-02-17T12:22:10.455137",
     "exception": false,
     "start_time": "2023-02-17T12:22:10.247410",
     "status": "completed"
    },
    "tags": []
   },
   "outputs": [],
   "source": [
    "counter_df.dropna(how='all',axis=1)"
   ]
  },
  {
   "cell_type": "markdown",
   "id": "4058f0b9-3031-4daa-8a4a-2dddf8c74c07",
   "metadata": {
    "papermill": {
     "duration": 0.149349,
     "end_time": "2023-02-17T12:22:10.748770",
     "exception": false,
     "start_time": "2023-02-17T12:22:10.599421",
     "status": "completed"
    },
    "tags": []
   },
   "source": [
    "# Epilogue"
   ]
  },
  {
   "cell_type": "code",
   "execution_count": null,
   "id": "310f7d3e-ab76-4c5b-bf3d-f6898d559118",
   "metadata": {
    "papermill": {
     "duration": 0.164575,
     "end_time": "2023-02-17T12:22:11.058293",
     "exception": false,
     "start_time": "2023-02-17T12:22:10.893718",
     "status": "completed"
    },
    "tags": []
   },
   "outputs": [],
   "source": [
    "footer()"
   ]
  },
  {
   "cell_type": "markdown",
   "id": "fade81da",
   "metadata": {
    "papermill": {
     "duration": 0.187665,
     "end_time": "2023-02-17T12:22:11.451188",
     "exception": false,
     "start_time": "2023-02-17T12:22:11.263523",
     "status": "completed"
    },
    "tags": []
   },
   "source": [
    "## HTML export"
   ]
  },
  {
   "cell_type": "code",
   "execution_count": null,
   "id": "6715b83e-9a4e-423c-81b9-33a81603acd4",
   "metadata": {
    "papermill": {
     "duration": 0.255046,
     "end_time": "2023-02-17T12:22:11.963973",
     "exception": false,
     "start_time": "2023-02-17T12:22:11.708927",
     "status": "completed"
    },
    "tags": []
   },
   "outputs": [],
   "source": [
    "# Save notebook on disck before generating HTML report\n",
    "save_notebook()"
   ]
  },
  {
   "cell_type": "code",
   "execution_count": null,
   "id": "de556e8b",
   "metadata": {
    "papermill": {
     "duration": 5.039027,
     "end_time": "2023-02-17T12:22:17.149278",
     "exception": false,
     "start_time": "2023-02-17T12:22:12.110251",
     "status": "completed"
    },
    "tags": []
   },
   "outputs": [],
   "source": [
    "! jupyter nbconvert Cards.ipynb --output-dir='../' --to=HTML --TagRemovePreprocessor.enabled=True --TagRemovePreprocessor.remove_cell_tags='exclude' --TemplateExporter.exclude_input=True --TemplateExporter.exclude_input_prompt=True --TemplateExporter.exclude_output_prompt=True"
   ]
  },
  {
   "cell_type": "markdown",
   "id": "641a7018-0f50-4ab6-b8f3-119a279cbc65",
   "metadata": {
    "papermill": {
     "duration": 0.146214,
     "end_time": "2023-02-17T12:22:17.442010",
     "exception": false,
     "start_time": "2023-02-17T12:22:17.295796",
     "status": "completed"
    },
    "tags": [
     "exclude"
    ]
   },
   "source": [
    "## Git"
   ]
  },
  {
   "cell_type": "code",
   "execution_count": null,
   "id": "cba1eb00-d9c2-491a-95b3-5ce0a0524d59",
   "metadata": {
    "papermill": {
     "duration": 1.281968,
     "end_time": "2023-02-17T12:22:18.869089",
     "exception": false,
     "start_time": "2023-02-17T12:22:17.587121",
     "status": "completed"
    },
    "tags": [
     "exclude"
    ]
   },
   "outputs": [],
   "source": [
    "! git add \"../*[Cc]ards*\""
   ]
  },
  {
   "cell_type": "code",
   "execution_count": null,
   "id": "6f1f8303-30c6-4aaa-b45e-f6d5f5ece30e",
   "metadata": {
    "papermill": {
     "duration": 1.933619,
     "end_time": "2023-02-17T12:22:20.949029",
     "exception": false,
     "start_time": "2023-02-17T12:22:19.015410",
     "status": "completed"
    },
    "tags": [
     "exclude"
    ]
   },
   "outputs": [],
   "source": [
    "! git commit -m {\"'Cards update-\" + timestamp.isoformat() + \"'\"}"
   ]
  }
 ],
 "metadata": {
  "kernelspec": {
   "display_name": "Python 3 (ipykernel)",
   "language": "python",
   "name": "python3"
  },
  "language_info": {
   "codemirror_mode": {
    "name": "ipython",
    "version": 3
   },
   "file_extension": ".py",
   "mimetype": "text/x-python",
   "name": "python",
   "nbconvert_exporter": "python",
   "pygments_lexer": "ipython3",
   "version": "3.10.8"
  },
  "papermill": {
   "default_parameters": {},
   "duration": 333.0591,
   "end_time": "2023-02-17T12:22:22.026352",
   "environment_variables": {},
   "exception": null,
   "input_path": "Cards.ipynb",
   "output_path": "Cards.ipynb",
   "parameters": {},
   "start_time": "2023-02-17T12:16:48.967252",
   "version": "2.4.0"
  },
  "toc": {
   "base_numbering": 1,
   "nav_menu": {
    "height": "599px",
    "width": "228px"
   },
   "number_sections": true,
   "sideBar": true,
   "skip_h1_title": false,
   "title_cell": "Table of Contents",
   "title_sidebar": "Contents",
   "toc_cell": true,
   "toc_position": {
    "height": "calc(100% - 180px)",
    "left": "10px",
    "top": "150px",
    "width": "353px"
   },
   "toc_section_display": true,
   "toc_window_display": true
  },
  "toc-autonumbering": false,
  "toc-showcode": false,
  "toc-showmarkdowntxt": false
 },
 "nbformat": 4,
 "nbformat_minor": 5
}
