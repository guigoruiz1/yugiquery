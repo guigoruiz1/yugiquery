{
 "cells": [
  {
   "cell_type": "code",
   "execution_count": null,
   "id": "a570071f-ec8c-496c-9960-2b4af3137f44",
   "metadata": {
    "papermill": {
     "duration": 2.09293,
     "end_time": "2023-03-01T19:01:26.519202",
     "exception": false,
     "start_time": "2023-03-01T19:01:24.426272",
     "status": "completed"
    },
    "tags": []
   },
   "outputs": [],
   "source": [
    "from yugiquery import *\n",
    "header('Timeline')"
   ]
  },
  {
   "cell_type": "markdown",
   "id": "d531326c-b92f-4c04-a301-83434217fa65",
   "metadata": {
    "papermill": {
     "duration": 0.058706,
     "end_time": "2023-03-01T19:01:26.594131",
     "exception": false,
     "start_time": "2023-03-01T19:01:26.535425",
     "status": "completed"
    },
    "tags": []
   },
   "source": [
    "---"
   ]
  },
  {
   "cell_type": "markdown",
   "id": "98c3721e",
   "metadata": {
    "papermill": {
     "duration": 0.015707,
     "end_time": "2023-03-01T19:01:26.626044",
     "exception": false,
     "start_time": "2023-03-01T19:01:26.610337",
     "status": "completed"
    },
    "tags": [],
    "toc": true
   },
   "source": [
    "Table of Contents\n",
    "=================\n",
    "\n",
    "*   [1  Data preparation](#Data-preparation)\n",
    "    *   [1.1  Load data](#Load-data)\n",
    "    *   [1.2  Format data](#Format-data)\n",
    "    *   [1.3  Merge data](#Merge-data)\n",
    "*   [4  Data visualization](#Data-visualization)\n",
    "    *   [4.1  First releases](#First-releases)\n",
    "        *   [4.1.1  By region](#By-region)\n",
    "    *   [4.1  Last releases](#Last-releases)\n",
    "        *   [4.1.1  By region](#By-region)\n",
    "    *   [4.2  All Releases](#All-Releases)\n",
    "        *   [4.2.1  By card type](#By-card-type)\n",
    "        *   [4.2.2  By primary type](#By-primary-type)\n",
    "        *   [4.2.3  By secondary type](#By-secondary-type)\n",
    "        *   [4.2.4  By attribute](#By-attribute)\n",
    "        *   [4.2.5  By monster type](#By-monster-type)\n",
    "        *   [4.2.6  By Level/Rank](#By-Level/Rank)\n",
    "        *   [4.2.7  By ATK](#By-ATK)\n",
    "        *   [4.2.8  By DEF](#By-DEF)\n",
    "        *   [4.2.9  By pendulum scale](#By-pendulum-scale)\n",
    "        *   [4.2.10  By link](#By-link)\n",
    "*   [5  Debug](#Debug)\n",
    "    *   [5.1  Merge failed](#Merge-failed)\n",
    "*   [6  Epilogue](#Epilogue)\n",
    "    *   [6.1  HTML export](#HTML-export)\n",
    "<!-- *   [6.2  Git](#Git) -->"
   ]
  },
  {
   "cell_type": "markdown",
   "id": "98e5146f-5f48-426c-b7be-07b64cd429e4",
   "metadata": {
    "papermill": {
     "duration": 0.016039,
     "end_time": "2023-03-01T19:01:26.658119",
     "exception": false,
     "start_time": "2023-03-01T19:01:26.642080",
     "status": "completed"
    },
    "tags": []
   },
   "source": [
    "# Data preparation"
   ]
  },
  {
   "cell_type": "markdown",
   "id": "df92295d-d124-4eea-ba54-a691fddf3d5c",
   "metadata": {
    "papermill": {
     "duration": 0.014999,
     "end_time": "2023-03-01T19:01:26.689107",
     "exception": false,
     "start_time": "2023-03-01T19:01:26.674108",
     "status": "completed"
    },
    "tags": []
   },
   "source": [
    "## Load data"
   ]
  },
  {
   "cell_type": "code",
   "execution_count": null,
   "id": "fe78d6ac-18e0-49d6-bdbf-43f9c11b15a0",
   "metadata": {
    "papermill": {
     "duration": 0.080384,
     "end_time": "2023-03-01T19:01:26.785210",
     "exception": false,
     "start_time": "2023-03-01T19:01:26.704826",
     "status": "completed"
    },
    "tags": []
   },
   "outputs": [],
   "source": [
    "# Load list of important dates\n",
    "with open('../assets/dates.json','r') as f:\n",
    "    dates_json = json.load(f)\n",
    "    anime_df = pd.DataFrame(dates_json['anime']['series']).set_index('title').applymap(pd.to_datetime, dayfirst=True)\n",
    "    rules_df = pd.DataFrame(dates_json['rules']).set_index('title').applymap(pd.to_datetime, dayfirst=True).iloc[2:] # Ignore old rules"
   ]
  },
  {
   "cell_type": "code",
   "execution_count": null,
   "id": "69b9995b-436e-4552-86d6-6dd4fabff8d0",
   "metadata": {
    "papermill": {
     "duration": 7.418099,
     "end_time": "2023-03-01T19:01:34.219612",
     "exception": false,
     "start_time": "2023-03-01T19:01:26.801513",
     "status": "completed"
    },
    "tags": []
   },
   "outputs": [],
   "source": [
    "# Get list of files\n",
    "all_cards_files = sorted(glob.glob('../data/all_cards_*.csv'), key=os.path.getctime, reverse=True)\n",
    "all_speed_files = sorted(glob.glob('../data/all_speed_*.csv'), key=os.path.getctime, reverse=True)\n",
    "set_lists_files = sorted(glob.glob('../data/all_sets_*.csv'), key=os.path.getctime, reverse=True)\n",
    "\n",
    "# Tuple columns\n",
    "tuple_cols = ['Secondary type', 'Effect type', 'Link Arrows', 'Archseries', 'Artwork', 'Errata', 'Rarity', 'Cover card']\n",
    "\n",
    "# Get newest file if exist\n",
    "if all_cards_files:\n",
    "    all_cards_df = pd.read_csv(all_cards_files[0], dtype=object)\n",
    "    # Correct tuples\n",
    "    for col in tuple_cols:\n",
    "        if col in all_cards_df:\n",
    "            all_cards_df[col] = all_cards_df[col].dropna().apply(literal_eval)\n",
    "\n",
    "    print('Cards file loaded')\n",
    "else:\n",
    "    all_cards_df = None\n",
    "    print('No cards files')\n",
    "    \n",
    "if all_speed_files:\n",
    "    all_speed_df = pd.read_csv(all_speed_files[0], dtype=object)\n",
    "    # Correct tuples\n",
    "    for col in tuple_cols:\n",
    "        if col in all_speed_df:\n",
    "            all_speed_df[col] = all_speed_df[col].dropna().apply(literal_eval)\n",
    "\n",
    "    print('Speed duel cards file loaded')\n",
    "else:\n",
    "    all_cards_df = None\n",
    "    print('No speed duel files')\n",
    "    \n",
    "if set_lists_files:\n",
    "    set_lists_df = pd.read_csv(set_lists_files[0], dtype=object)\n",
    "    # Correct tuples\n",
    "    for col in tuple_cols:\n",
    "        if col in set_lists_df:\n",
    "            set_lists_df[col] = set_lists_df[col].dropna().apply(literal_eval)\n",
    "\n",
    "    print('Sets file loaded')\n",
    "else:\n",
    "    set_lists_df = None\n",
    "    print('No set lists files')"
   ]
  },
  {
   "cell_type": "markdown",
   "id": "b05d12f3-69b3-4fb8-9d38-00a4220faed6",
   "metadata": {
    "papermill": {
     "duration": 0.050342,
     "end_time": "2023-03-01T19:01:34.290392",
     "exception": false,
     "start_time": "2023-03-01T19:01:34.240050",
     "status": "completed"
    },
    "tags": []
   },
   "source": [
    "## Format data"
   ]
  },
  {
   "cell_type": "code",
   "execution_count": null,
   "id": "408e1580-2904-4d6b-83f3-6be83500fb78",
   "metadata": {
    "papermill": {
     "duration": 0.233123,
     "end_time": "2023-03-01T19:01:34.540891",
     "exception": false,
     "start_time": "2023-03-01T19:01:34.307768",
     "status": "completed"
    },
    "tags": []
   },
   "outputs": [],
   "source": [
    "df_list = [all_cards_df, all_speed_df, set_lists_df]\n",
    "if all(item is not None for item in df_list):\n",
    "    for df in df_list:\n",
    "        df['index'] = df['Name'].str.lower()\n",
    "        df['Modification date'] = pd.to_datetime(df['Modification date'])\n",
    "\n",
    "    set_lists_df['Release'] = pd.to_datetime(set_lists_df['Release'])\n",
    "    \n",
    "else:\n",
    "    raise SystemExit(\"Not enough files to proceed. Aborting!\")"
   ]
  },
  {
   "cell_type": "markdown",
   "id": "e976bec2-3c0d-40d0-9a2e-6c1bb6b38059",
   "metadata": {
    "papermill": {
     "duration": 0.103199,
     "end_time": "2023-03-01T19:01:34.661265",
     "exception": false,
     "start_time": "2023-03-01T19:01:34.558066",
     "status": "completed"
    },
    "tags": []
   },
   "source": [
    "## Merge data"
   ]
  },
  {
   "cell_type": "code",
   "execution_count": null,
   "id": "28678f0f-8a83-46c9-864a-37c70e3c39a0",
   "metadata": {
    "papermill": {
     "duration": 2.586765,
     "end_time": "2023-03-01T19:01:37.265515",
     "exception": false,
     "start_time": "2023-03-01T19:01:34.678750",
     "status": "completed"
    },
    "tags": []
   },
   "outputs": [],
   "source": [
    "full_df = pd.concat([all_cards_df, all_speed_df]).drop_duplicates(ignore_index=True)\n",
    "full_df = full_df.merge(set_lists_df, indicator = True, how='outer', on='index')\n",
    "full_df = full_df.convert_dtypes()\n",
    "full_df['Modification date'] = full_df[['Modification date_x','Modification date_y']].max(axis=1)\n",
    "full_df['Name'] = full_df['Name_x'].fillna(full_df['Name_y'])\n",
    "full_df.drop(['index', 'Name_x', 'Name_y', 'Modification date_x', 'Modification date_y'], axis=1, inplace = True)\n",
    "full_df.rename(columns={'Page URL_x': 'Card page URL', 'Page URL_y': 'Set page URL'}, inplace=True)\n",
    "full_df = full_df[np.append(full_df.columns[-1:],full_df.columns[:-1])]"
   ]
  },
  {
   "cell_type": "markdown",
   "id": "f7c5cdf1-3f40-4d35-83b8-690933ba52a3",
   "metadata": {
    "papermill": {
     "duration": 0.123812,
     "end_time": "2023-03-01T19:01:37.409685",
     "exception": false,
     "start_time": "2023-03-01T19:01:37.285873",
     "status": "completed"
    },
    "tags": []
   },
   "source": [
    "# Data visualization"
   ]
  },
  {
   "cell_type": "code",
   "execution_count": null,
   "id": "10cbbdb2-ecd3-4a9e-a804-b9186febc279",
   "metadata": {
    "papermill": {
     "duration": 0.104156,
     "end_time": "2023-03-01T19:01:37.531284",
     "exception": false,
     "start_time": "2023-03-01T19:01:37.427128",
     "status": "completed"
    },
    "tags": []
   },
   "outputs": [],
   "source": [
    "full_df"
   ]
  },
  {
   "cell_type": "markdown",
   "id": "717be58b-4909-4892-ae15-844b7cb7b58c",
   "metadata": {
    "papermill": {
     "duration": 0.018186,
     "end_time": "2023-03-01T19:01:37.567678",
     "exception": false,
     "start_time": "2023-03-01T19:01:37.549492",
     "status": "completed"
    },
    "tags": []
   },
   "source": [
    "## First releases"
   ]
  },
  {
   "cell_type": "markdown",
   "id": "4905c1fd-7e61-4bbb-9c82-953a9a4fd78f",
   "metadata": {
    "papermill": {
     "duration": 0.01734,
     "end_time": "2023-03-01T19:01:37.603095",
     "exception": false,
     "start_time": "2023-03-01T19:01:37.585755",
     "status": "completed"
    },
    "tags": []
   },
   "source": [
    "Obs: Only the first release of an individual card name"
   ]
  },
  {
   "cell_type": "code",
   "execution_count": null,
   "id": "51839140-77f4-4da6-bba6-f55d9a31c7f6",
   "metadata": {
    "papermill": {
     "duration": 2.50296,
     "end_time": "2023-03-01T19:01:40.124399",
     "exception": false,
     "start_time": "2023-03-01T19:01:37.621439",
     "status": "completed"
    },
    "tags": []
   },
   "outputs": [],
   "source": [
    "first_release=full_df[full_df['Release'].notna()].groupby('Name')['Release'].agg(['min','idxmin'])\n",
    "first_release"
   ]
  },
  {
   "cell_type": "code",
   "execution_count": null,
   "id": "6a1f1af8-a056-4045-bbaf-ea422db3d0a4",
   "metadata": {
    "papermill": {
     "duration": 2.230412,
     "end_time": "2023-03-01T19:01:42.378586",
     "exception": false,
     "start_time": "2023-03-01T19:01:40.148174",
     "status": "completed"
    },
    "tags": []
   },
   "outputs": [],
   "source": [
    "first_release_count = first_release['min'].sort_values().value_counts(sort=False).to_frame(name='All cards')\n",
    "first_release_count.index.name = 'First Release'\n",
    "rate_plot(first_release_count, bg=anime_df, vlines = rules_df['begin'])\n"
   ]
  },
  {
   "cell_type": "markdown",
   "id": "b90d74bd-ac81-4289-a2e0-9e49bddfa6c4",
   "metadata": {
    "papermill": {
     "duration": 0.055617,
     "end_time": "2023-03-01T19:01:42.460110",
     "exception": false,
     "start_time": "2023-03-01T19:01:42.404493",
     "status": "completed"
    },
    "tags": []
   },
   "source": [
    "### By region"
   ]
  },
  {
   "cell_type": "code",
   "execution_count": null,
   "id": "d39f5310-38c4-41a7-94d7-6f8355a0d1f9",
   "metadata": {
    "papermill": {
     "duration": 15.359545,
     "end_time": "2023-03-01T19:01:57.844438",
     "exception": false,
     "start_time": "2023-03-01T19:01:42.484893",
     "status": "completed"
    },
    "tags": []
   },
   "outputs": [],
   "source": [
    "first_release_region=full_df[full_df['Release'].notna()].groupby(['Region','Name'])['Release'].agg(['min','idxmin'])\n",
    "first_release_region"
   ]
  },
  {
   "cell_type": "code",
   "execution_count": null,
   "id": "9d7c4e83-fa20-487f-b8ff-51552ac28e7b",
   "metadata": {
    "papermill": {
     "duration": 31.354449,
     "end_time": "2023-03-01T19:02:29.224869",
     "exception": false,
     "start_time": "2023-03-01T19:01:57.870420",
     "status": "completed"
    },
    "tags": []
   },
   "outputs": [],
   "source": [
    "first_release_region_count = first_release_region['min'].sort_values().groupby(['Region']).value_counts(sort=False).unstack(0).fillna(0).round(0)\n",
    "first_release_region_count.index.name = 'Release'\n",
    "rate_subplots(first_release_region_count, title = 'First Release', bg=anime_df, vlines = rules_df['begin'])"
   ]
  },
  {
   "cell_type": "markdown",
   "id": "68ed7e48-cdd1-49e5-996d-771b0aa476b2",
   "metadata": {
    "papermill": {
     "duration": 0.068778,
     "end_time": "2023-03-01T19:02:29.379244",
     "exception": false,
     "start_time": "2023-03-01T19:02:29.310466",
     "status": "completed"
    },
    "tags": []
   },
   "source": [
    "## Last releases"
   ]
  },
  {
   "cell_type": "markdown",
   "id": "1adfdf14-386c-4766-ab1e-634c69028b09",
   "metadata": {
    "papermill": {
     "duration": 0.068941,
     "end_time": "2023-03-01T19:02:29.631185",
     "exception": false,
     "start_time": "2023-03-01T19:02:29.562244",
     "status": "completed"
    },
    "tags": []
   },
   "source": [
    "Obs: Only the last release of an individual card name"
   ]
  },
  {
   "cell_type": "code",
   "execution_count": null,
   "id": "4ed37661-d2b2-4427-bbea-39e2764810c0",
   "metadata": {
    "papermill": {
     "duration": 2.638432,
     "end_time": "2023-03-01T19:02:32.340460",
     "exception": false,
     "start_time": "2023-03-01T19:02:29.702028",
     "status": "completed"
    },
    "tags": []
   },
   "outputs": [],
   "source": [
    "last_release=full_df[full_df['Release'].notna()].groupby('Name')['Release'].agg(['max','idxmax'])\n",
    "last_release"
   ]
  },
  {
   "cell_type": "code",
   "execution_count": null,
   "id": "82e7e343-9ec4-4ff8-b8e9-59af5100ee79",
   "metadata": {
    "papermill": {
     "duration": 2.04973,
     "end_time": "2023-03-01T19:02:34.463055",
     "exception": false,
     "start_time": "2023-03-01T19:02:32.413325",
     "status": "completed"
    },
    "tags": []
   },
   "outputs": [],
   "source": [
    "last_release_count = last_release['max'].sort_values().value_counts(sort=False).to_frame(name='All cards')\n",
    "last_release_count.index.name = 'Last Release'\n",
    "rate_plot(last_release_count, bg=anime_df, vlines = rules_df['begin'])"
   ]
  },
  {
   "cell_type": "markdown",
   "id": "df0f880e-2a39-42fd-8ad4-6eda067f4476",
   "metadata": {
    "papermill": {
     "duration": 0.080398,
     "end_time": "2023-03-01T19:02:34.617938",
     "exception": false,
     "start_time": "2023-03-01T19:02:34.537540",
     "status": "completed"
    },
    "tags": []
   },
   "source": [
    "### By region"
   ]
  },
  {
   "cell_type": "code",
   "execution_count": null,
   "id": "c9d718d3-37a0-4ef3-9d5b-fceba8bb60dd",
   "metadata": {
    "papermill": {
     "duration": 15.661792,
     "end_time": "2023-03-01T19:02:50.353708",
     "exception": false,
     "start_time": "2023-03-01T19:02:34.691916",
     "status": "completed"
    },
    "tags": []
   },
   "outputs": [],
   "source": [
    "last_release_region=full_df[full_df['Release'].notna()].groupby(['Region','Name'])['Release'].agg(['max','idxmax'])\n",
    "last_release_region"
   ]
  },
  {
   "cell_type": "code",
   "execution_count": null,
   "id": "0a708d8b-781e-412a-ae3e-7a89c029065d",
   "metadata": {
    "papermill": {
     "duration": 31.594801,
     "end_time": "2023-03-01T19:03:22.022368",
     "exception": false,
     "start_time": "2023-03-01T19:02:50.427567",
     "status": "completed"
    },
    "tags": []
   },
   "outputs": [],
   "source": [
    "last_release_region_count = last_release_region['max'].sort_values().groupby(['Region']).value_counts(sort=False).unstack(0).fillna(0).round(0)\n",
    "last_release_region_count.index.name = 'Release'\n",
    "rate_subplots(last_release_region_count, title = 'Last Release', bg=anime_df, vlines = rules_df['begin'])"
   ]
  },
  {
   "cell_type": "markdown",
   "id": "811538f6-77b2-4736-8feb-022abeddeb5c",
   "metadata": {
    "papermill": {
     "duration": 0.113694,
     "end_time": "2023-03-01T19:03:22.254834",
     "exception": false,
     "start_time": "2023-03-01T19:03:22.141140",
     "status": "completed"
    },
    "tags": []
   },
   "source": [
    "## All Releases"
   ]
  },
  {
   "cell_type": "markdown",
   "id": "010ccac6-74c5-46dd-9b23-7a0a3fd5a1c1",
   "metadata": {
    "papermill": {
     "duration": 0.113943,
     "end_time": "2023-03-01T19:03:22.484434",
     "exception": false,
     "start_time": "2023-03-01T19:03:22.370491",
     "status": "completed"
    },
    "tags": []
   },
   "source": [
    "Obs: All releases includes reprints"
   ]
  },
  {
   "cell_type": "markdown",
   "id": "0a191a3e-66bb-450e-9b37-f1ebb15c3d7e",
   "metadata": {
    "papermill": {
     "duration": 0.354908,
     "end_time": "2023-03-01T19:03:22.955800",
     "exception": false,
     "start_time": "2023-03-01T19:03:22.600892",
     "status": "completed"
    },
    "tags": []
   },
   "source": [
    "### By card type"
   ]
  },
  {
   "cell_type": "code",
   "execution_count": null,
   "id": "0621222f-c793-4206-8344-eaac4c55a75c",
   "metadata": {
    "papermill": {
     "duration": 0.341931,
     "end_time": "2023-03-01T19:03:23.416046",
     "exception": false,
     "start_time": "2023-03-01T19:03:23.074115",
     "status": "completed"
    },
    "tags": []
   },
   "outputs": [],
   "source": [
    "# All releases, includes reprints - Double check\n",
    "release_card_type = full_df.groupby(['Card type','Release'])['Name'].nunique().unstack(0).sort_index().fillna(0).astype(int)\n",
    "release_card_type.groupby(release_card_type.index.strftime('%Y')).sum().T"
   ]
  },
  {
   "cell_type": "code",
   "execution_count": null,
   "id": "9f4d9303-cd23-41ed-b618-15b2458a8361",
   "metadata": {
    "papermill": {
     "duration": 0.12843,
     "end_time": "2023-03-01T19:03:23.659784",
     "exception": false,
     "start_time": "2023-03-01T19:03:23.531354",
     "status": "completed"
    },
    "tags": []
   },
   "outputs": [],
   "source": [
    "# card_type_colors = [colors_dict[col] for col in release_card_type.columns]\n",
    "# rate_subplots(release_card_type, colors=card_type_colors, bg=anime_df, vlines = rules_df['begin'])"
   ]
  },
  {
   "cell_type": "code",
   "execution_count": null,
   "id": "b8fe7da4-23e5-490a-992a-f5837f3dc216",
   "metadata": {
    "papermill": {
     "duration": 2.034605,
     "end_time": "2023-03-01T19:03:25.813522",
     "exception": false,
     "start_time": "2023-03-01T19:03:23.778917",
     "status": "completed"
    },
    "tags": []
   },
   "outputs": [],
   "source": [
    "card_type_colors = [colors_dict[col] for col in release_card_type.columns]\n",
    "rate_plot(release_card_type, colors=card_type_colors, bg=anime_df, vlines = rules_df['begin'])"
   ]
  },
  {
   "cell_type": "markdown",
   "id": "bd7a3a56-f0ba-4f3a-acab-d6edadd57b9e",
   "metadata": {
    "papermill": {
     "duration": 0.119581,
     "end_time": "2023-03-01T19:03:26.052307",
     "exception": false,
     "start_time": "2023-03-01T19:03:25.932726",
     "status": "completed"
    },
    "tags": []
   },
   "source": [
    "### By primary type"
   ]
  },
  {
   "cell_type": "code",
   "execution_count": null,
   "id": "e2da2a9b-df09-4b05-9d52-564e81b1787f",
   "metadata": {
    "papermill": {
     "duration": 0.328927,
     "end_time": "2023-03-01T19:03:26.499311",
     "exception": false,
     "start_time": "2023-03-01T19:03:26.170384",
     "status": "completed"
    },
    "tags": []
   },
   "outputs": [],
   "source": [
    "# All releases, includes reprints - Double check\n",
    "# Sort properly\n",
    "release_primary_type = full_df.groupby(['Primary type','Release'])['Name'].nunique().unstack(0).sort_index().fillna(0).astype(int)\n",
    "release_primary_type.groupby(release_primary_type.index.strftime('%Y')).sum().T"
   ]
  },
  {
   "cell_type": "code",
   "execution_count": null,
   "id": "aaba4ece-1001-48c2-b026-c77dd949b216",
   "metadata": {
    "papermill": {
     "duration": 0.165632,
     "end_time": "2023-03-01T19:03:26.783670",
     "exception": false,
     "start_time": "2023-03-01T19:03:26.618038",
     "status": "completed"
    },
    "tags": []
   },
   "outputs": [],
   "source": [
    "# primary_type_colors = [colors_dict[col] for col in release_primary_type.columns]\n",
    "# rate_subplots(release_primary_type, colors=primary_type_colors, bg=anime_df, vlines=rules_df['begin'])"
   ]
  },
  {
   "cell_type": "code",
   "execution_count": null,
   "id": "0986f91b-b91d-47b2-9d9a-3c0e51127d1b",
   "metadata": {
    "papermill": {
     "duration": 2.674938,
     "end_time": "2023-03-01T19:03:29.582473",
     "exception": false,
     "start_time": "2023-03-01T19:03:26.907535",
     "status": "completed"
    },
    "tags": []
   },
   "outputs": [],
   "source": [
    "primary_type_colors = [colors_dict[col] for col in release_primary_type.columns]\n",
    "rate_plot(release_primary_type, colors=primary_type_colors, bg=anime_df, vlines = rules_df['begin'])"
   ]
  },
  {
   "cell_type": "markdown",
   "id": "61ca539a-6816-4937-bbd6-6ec7b053fbc6",
   "metadata": {
    "papermill": {
     "duration": 0.154835,
     "end_time": "2023-03-01T19:03:29.860929",
     "exception": false,
     "start_time": "2023-03-01T19:03:29.706094",
     "status": "completed"
    },
    "tags": []
   },
   "source": [
    "### By secondary type"
   ]
  },
  {
   "cell_type": "code",
   "execution_count": null,
   "id": "9b3e4e1f-e27a-4c16-98f0-5811faf48122",
   "metadata": {
    "papermill": {
     "duration": 0.2807,
     "end_time": "2023-03-01T19:03:30.265695",
     "exception": false,
     "start_time": "2023-03-01T19:03:29.984995",
     "status": "completed"
    },
    "tags": []
   },
   "outputs": [],
   "source": [
    "# All releases, includes reprints - Double check\n",
    "# Sort properly\n",
    "release_secondary_type = full_df.groupby(['Secondary type','Release'])['Name'].nunique().unstack(0).sort_index().fillna(0).astype(int)\n",
    "release_secondary_type.groupby(release_secondary_type.index.strftime('%Y')).sum().T"
   ]
  },
  {
   "cell_type": "code",
   "execution_count": null,
   "id": "1a4f55ff-21bc-4b94-89df-3ddf3a906cd5",
   "metadata": {
    "papermill": {
     "duration": 0.134727,
     "end_time": "2023-03-01T19:03:30.524769",
     "exception": false,
     "start_time": "2023-03-01T19:03:30.390042",
     "status": "completed"
    },
    "tags": []
   },
   "outputs": [],
   "source": [
    "# rate_subplots(release_secondary_type, bg=anime_df, vlines = rules_df['begin'])"
   ]
  },
  {
   "cell_type": "code",
   "execution_count": null,
   "id": "83fcc4ac-1866-42a2-9e11-2bb2df518b04",
   "metadata": {
    "papermill": {
     "duration": 2.023693,
     "end_time": "2023-03-01T19:03:32.677534",
     "exception": false,
     "start_time": "2023-03-01T19:03:30.653841",
     "status": "completed"
    },
    "tags": []
   },
   "outputs": [],
   "source": [
    "rate_plot(release_secondary_type, bg=anime_df, vlines = rules_df['begin'])"
   ]
  },
  {
   "cell_type": "markdown",
   "id": "426d9713-0e0c-4af3-9e5f-5ed3e5e5a0c1",
   "metadata": {
    "papermill": {
     "duration": 0.160386,
     "end_time": "2023-03-01T19:03:32.967419",
     "exception": false,
     "start_time": "2023-03-01T19:03:32.807033",
     "status": "completed"
    },
    "tags": []
   },
   "source": [
    "### By attribute"
   ]
  },
  {
   "cell_type": "code",
   "execution_count": null,
   "id": "3bb3fed2-3036-4194-8c87-620f0a237f5a",
   "metadata": {
    "papermill": {
     "duration": 0.330091,
     "end_time": "2023-03-01T19:03:33.426768",
     "exception": false,
     "start_time": "2023-03-01T19:03:33.096677",
     "status": "completed"
    },
    "tags": []
   },
   "outputs": [],
   "source": [
    "# All releases, includes reprints - Double check\n",
    "# Sort properly\n",
    "release_attribute = full_df.groupby(['Attribute','Release'])['Name'].nunique().unstack(0).sort_index().fillna(0).astype(int)\n",
    "release_attribute.groupby(release_attribute.index.strftime('%Y')).sum().T"
   ]
  },
  {
   "cell_type": "code",
   "execution_count": null,
   "id": "09cd937c-137c-4eea-ae08-7a110e00b4c9",
   "metadata": {
    "papermill": {
     "duration": 0.143377,
     "end_time": "2023-03-01T19:03:33.702693",
     "exception": false,
     "start_time": "2023-03-01T19:03:33.559316",
     "status": "completed"
    },
    "tags": []
   },
   "outputs": [],
   "source": [
    "# attribute_colors = [colors_dict[col] for col in release_attribute.columns]\n",
    "# rate_subplots(release_attribute, colors=attribute_colors, bg=anime_df, vlines = rules_df['begin'])"
   ]
  },
  {
   "cell_type": "code",
   "execution_count": null,
   "id": "967d93eb-03ef-4feb-8a8c-3ee7a9f10b24",
   "metadata": {
    "papermill": {
     "duration": 2.357677,
     "end_time": "2023-03-01T19:03:36.188495",
     "exception": false,
     "start_time": "2023-03-01T19:03:33.830818",
     "status": "completed"
    },
    "tags": []
   },
   "outputs": [],
   "source": [
    "attribute_colors = [colors_dict[col] for col in release_attribute.columns]\n",
    "rate_plot(release_attribute, colors = attribute_colors, bg=anime_df, vlines = rules_df['begin'], cumsum=True)"
   ]
  },
  {
   "cell_type": "markdown",
   "id": "5eb10e4e-fddb-4e03-9766-444c9b4a69ed",
   "metadata": {
    "papermill": {
     "duration": 0.133579,
     "end_time": "2023-03-01T19:03:36.455798",
     "exception": false,
     "start_time": "2023-03-01T19:03:36.322219",
     "status": "completed"
    },
    "tags": []
   },
   "source": [
    "### By monster type"
   ]
  },
  {
   "cell_type": "code",
   "execution_count": null,
   "id": "99f3ca8c-0a4b-4082-b8d0-051267460320",
   "metadata": {
    "papermill": {
     "duration": 0.347337,
     "end_time": "2023-03-01T19:03:36.942572",
     "exception": false,
     "start_time": "2023-03-01T19:03:36.595235",
     "status": "completed"
    },
    "tags": []
   },
   "outputs": [],
   "source": [
    "# All releases, includes reprints - Double check\n",
    "# Sort properly\n",
    "release_monster_type = full_df.groupby(['Monster type','Release'])['Name'].nunique().unstack(0).sort_index().fillna(0).astype(int)\n",
    "release_monster_type.groupby(release_monster_type.index.strftime('%Y')).sum().T"
   ]
  },
  {
   "cell_type": "code",
   "execution_count": null,
   "id": "83ec20a7-eb56-485e-9282-5dcc6ee89cf5",
   "metadata": {
    "papermill": {
     "duration": 53.653772,
     "end_time": "2023-03-01T19:04:30.731097",
     "exception": false,
     "start_time": "2023-03-01T19:03:37.077325",
     "status": "completed"
    },
    "tags": []
   },
   "outputs": [],
   "source": [
    "rate_subplots(release_monster_type, bg=anime_df, vlines = rules_df['begin'])"
   ]
  },
  {
   "cell_type": "markdown",
   "id": "ccd8df1f-8f20-4d07-855c-1b78f29d9e4a",
   "metadata": {
    "papermill": {
     "duration": 0.332157,
     "end_time": "2023-03-01T19:04:31.288897",
     "exception": false,
     "start_time": "2023-03-01T19:04:30.956740",
     "status": "completed"
    },
    "tags": []
   },
   "source": [
    "### By Level/Rank"
   ]
  },
  {
   "cell_type": "code",
   "execution_count": null,
   "id": "12f31058-751b-4110-8d78-d0917ab140da",
   "metadata": {
    "papermill": {
     "duration": 0.242384,
     "end_time": "2023-03-01T19:04:31.760295",
     "exception": false,
     "start_time": "2023-03-01T19:04:31.517911",
     "status": "completed"
    },
    "tags": []
   },
   "outputs": [],
   "source": [
    "# Testing\n",
    "def boxplot(df):\n",
    "    col = df.columns[0]\n",
    "    df['Year'] = df.index.strftime('%Y')\n",
    "    df.dropna(inplace=True)\n",
    "\n",
    "    ax = df.boxplot(by='Year', figsize=(16,10))\n",
    "\n",
    "    mean = df.groupby('Year').mean()\n",
    "\n",
    "    ax.plot(list(range(1,len(mean.index)+1)), mean.values, c='r', ls='--', alpha=0.5)\n",
    "    \n",
    "    ticks = np.arange(0,df[col].max()+1,1)\n",
    "    if len(ticks)>15:\n",
    "        ax.yaxis.set_major_locator(MaxNLocator(11, integer=True))\n",
    "        ax.yaxis.set_minor_locator(AutoMinorLocator())\n",
    "    else:\n",
    "        ax.yaxis.set_major_locator(FixedLocator(ticks))\n",
    "        \n",
    "    # ax.set_ylim([0,5000])\n",
    "    plt.tight_layout()\n",
    "    plt.show()"
   ]
  },
  {
   "cell_type": "code",
   "execution_count": null,
   "id": "f5514a52-9dad-4eaa-9f49-1d99ee02e94d",
   "metadata": {
    "papermill": {
     "duration": 3.016126,
     "end_time": "2023-03-01T19:04:35.001349",
     "exception": false,
     "start_time": "2023-03-01T19:04:31.985223",
     "status": "completed"
    },
    "tags": []
   },
   "outputs": [],
   "source": [
    "level_box = pd.to_numeric(full_df.set_index('Release')['Level/Rank'], errors='coerce').to_frame().sort_index().dropna()\n",
    "boxplot(level_box)"
   ]
  },
  {
   "cell_type": "markdown",
   "id": "d5f37c9c-60ea-4d1a-98a1-566c71a888f4",
   "metadata": {
    "papermill": {
     "duration": 0.2273,
     "end_time": "2023-03-01T19:04:35.473303",
     "exception": false,
     "start_time": "2023-03-01T19:04:35.246003",
     "status": "completed"
    },
    "tags": []
   },
   "source": [
    "### By ATK"
   ]
  },
  {
   "cell_type": "code",
   "execution_count": null,
   "id": "a9943fd3-81e3-4718-b02b-7a1c47d52590",
   "metadata": {
    "papermill": {
     "duration": 3.162044,
     "end_time": "2023-03-01T19:04:38.861182",
     "exception": false,
     "start_time": "2023-03-01T19:04:35.699138",
     "status": "completed"
    },
    "tags": []
   },
   "outputs": [],
   "source": [
    "atk_box = pd.to_numeric(full_df.set_index('Release')['ATK'], errors='coerce').to_frame().sort_index().dropna()\n",
    "boxplot(atk_box)"
   ]
  },
  {
   "cell_type": "markdown",
   "id": "d1182406-c948-4f81-bcac-db2d4b7a912d",
   "metadata": {
    "papermill": {
     "duration": 0.227023,
     "end_time": "2023-03-01T19:04:39.382900",
     "exception": false,
     "start_time": "2023-03-01T19:04:39.155877",
     "status": "completed"
    },
    "tags": []
   },
   "source": [
    "### By DEF"
   ]
  },
  {
   "cell_type": "code",
   "execution_count": null,
   "id": "54cfccd2-f677-4ab8-81c0-e794a1015872",
   "metadata": {
    "papermill": {
     "duration": 3.130999,
     "end_time": "2023-03-01T19:04:42.740943",
     "exception": false,
     "start_time": "2023-03-01T19:04:39.609944",
     "status": "completed"
    },
    "tags": []
   },
   "outputs": [],
   "source": [
    "def_box = pd.to_numeric(full_df.set_index('Release')['DEF'], errors='coerce').to_frame().sort_index().dropna()\n",
    "boxplot(def_box)"
   ]
  },
  {
   "cell_type": "markdown",
   "id": "1d8dd39e-5075-49c7-9ea8-a6255f1684e9",
   "metadata": {
    "papermill": {
     "duration": 0.429749,
     "end_time": "2023-03-01T19:04:43.406077",
     "exception": false,
     "start_time": "2023-03-01T19:04:42.976328",
     "status": "completed"
    },
    "tags": []
   },
   "source": [
    "### By pendulum scale"
   ]
  },
  {
   "cell_type": "code",
   "execution_count": null,
   "id": "29c1d59e-ba6c-4138-89d2-c8eb9d563f2e",
   "metadata": {
    "papermill": {
     "duration": 1.378974,
     "end_time": "2023-03-01T19:04:45.016215",
     "exception": false,
     "start_time": "2023-03-01T19:04:43.637241",
     "status": "completed"
    },
    "tags": []
   },
   "outputs": [],
   "source": [
    "pendulum_box = pd.to_numeric(full_df.set_index('Release')['Pendulum Scale'], errors='coerce').to_frame().sort_index().dropna()\n",
    "boxplot(pendulum_box)"
   ]
  },
  {
   "cell_type": "markdown",
   "id": "75b2d1e5-5cd5-4bee-8f29-2d3e63bb777d",
   "metadata": {
    "papermill": {
     "duration": 0.23423,
     "end_time": "2023-03-01T19:04:45.604419",
     "exception": false,
     "start_time": "2023-03-01T19:04:45.370189",
     "status": "completed"
    },
    "tags": []
   },
   "source": [
    "### By link"
   ]
  },
  {
   "cell_type": "code",
   "execution_count": null,
   "id": "8971fc23-7364-43a9-b65d-d5c3dc138205",
   "metadata": {
    "papermill": {
     "duration": 1.231083,
     "end_time": "2023-03-01T19:04:47.069650",
     "exception": false,
     "start_time": "2023-03-01T19:04:45.838567",
     "status": "completed"
    },
    "tags": []
   },
   "outputs": [],
   "source": [
    "link_box = pd.to_numeric(full_df.set_index('Release')['Link'], errors='coerce').to_frame().sort_index().dropna()\n",
    "boxplot(link_box)"
   ]
  },
  {
   "cell_type": "markdown",
   "id": "4951f8e7-5726-4a0d-95fd-e124ecfc0122",
   "metadata": {
    "papermill": {
     "duration": 0.279731,
     "end_time": "2023-03-01T19:04:47.643115",
     "exception": false,
     "start_time": "2023-03-01T19:04:47.363384",
     "status": "completed"
    },
    "tags": []
   },
   "source": [
    "# Debug"
   ]
  },
  {
   "cell_type": "markdown",
   "id": "f3578857-ba88-49fe-9d8f-9b72c8815d69",
   "metadata": {
    "papermill": {
     "duration": 0.230417,
     "end_time": "2023-03-01T19:04:48.104544",
     "exception": false,
     "start_time": "2023-03-01T19:04:47.874127",
     "status": "completed"
    },
    "tags": []
   },
   "source": [
    "## Merge failed"
   ]
  },
  {
   "cell_type": "code",
   "execution_count": null,
   "id": "874cff22-4a2d-4fec-9657-b0380fc25bb4",
   "metadata": {
    "papermill": {
     "duration": 0.251546,
     "end_time": "2023-03-01T19:04:48.644081",
     "exception": false,
     "start_time": "2023-03-01T19:04:48.392535",
     "status": "completed"
    },
    "tags": []
   },
   "outputs": [],
   "source": [
    "full_df['_merge'].value_counts()"
   ]
  },
  {
   "cell_type": "code",
   "execution_count": null,
   "id": "aa5a365e-f53d-4302-b44d-b23cc8dbc923",
   "metadata": {
    "papermill": {
     "duration": 2.222276,
     "end_time": "2023-03-01T19:04:51.102292",
     "exception": false,
     "start_time": "2023-03-01T19:04:48.880016",
     "status": "completed"
    },
    "tags": []
   },
   "outputs": [],
   "source": [
    "full_df.where(full_df['_merge']=='right_only').dropna(axis=0,how='all')"
   ]
  },
  {
   "cell_type": "code",
   "execution_count": null,
   "id": "eead37fd-fd5f-41bf-bbce-e6f3a8915b41",
   "metadata": {
    "papermill": {
     "duration": 2.100309,
     "end_time": "2023-03-01T19:04:53.498474",
     "exception": false,
     "start_time": "2023-03-01T19:04:51.398165",
     "status": "completed"
    },
    "tags": []
   },
   "outputs": [],
   "source": [
    "full_df.where(full_df['_merge']=='left_only').dropna(axis=0,how='all')"
   ]
  },
  {
   "cell_type": "markdown",
   "id": "9cdbfc4e-71d0-41e4-a421-73bf3a98e734",
   "metadata": {
    "papermill": {
     "duration": 0.537144,
     "end_time": "2023-03-01T19:04:54.274724",
     "exception": false,
     "start_time": "2023-03-01T19:04:53.737580",
     "status": "completed"
    },
    "tags": []
   },
   "source": [
    " # Epilogue"
   ]
  },
  {
   "cell_type": "code",
   "execution_count": null,
   "id": "479dc549-52ce-4e36-b0a5-ff555459ea23",
   "metadata": {
    "papermill": {
     "duration": 0.250558,
     "end_time": "2023-03-01T19:04:54.760116",
     "exception": false,
     "start_time": "2023-03-01T19:04:54.509558",
     "status": "completed"
    },
    "tags": []
   },
   "outputs": [],
   "source": [
    "footer()"
   ]
  },
  {
   "cell_type": "markdown",
   "id": "009d91f5-e119-43bb-95f6-486837be7a7e",
   "metadata": {
    "papermill": {
     "duration": 0.273032,
     "end_time": "2023-03-01T19:04:55.271928",
     "exception": false,
     "start_time": "2023-03-01T19:04:54.998896",
     "status": "completed"
    },
    "tags": []
   },
   "source": [
    "## HTML export"
   ]
  },
  {
   "cell_type": "code",
   "execution_count": null,
   "id": "223a8a40-b2d8-4296-b9c2-43a38d30607b",
   "metadata": {
    "papermill": {
     "duration": 0.253937,
     "end_time": "2023-03-01T19:04:55.764735",
     "exception": false,
     "start_time": "2023-03-01T19:04:55.510798",
     "status": "completed"
    },
    "tags": []
   },
   "outputs": [],
   "source": [
    "# May need to sleep for a few seconds after saving\n",
    "save_notebook()"
   ]
  },
  {
   "cell_type": "code",
   "execution_count": null,
   "id": "b6a35c5d-b424-4820-8d26-8be29b50c546",
   "metadata": {
    "papermill": {
     "duration": 3.297839,
     "end_time": "2023-03-01T19:04:59.296782",
     "exception": false,
     "start_time": "2023-03-01T19:04:55.998943",
     "status": "completed"
    },
    "tags": []
   },
   "outputs": [],
   "source": [
    "! jupyter nbconvert Timeline.ipynb --output-dir='../' --to=HTML --TagRemovePreprocessor.enabled=True --TagRemovePreprocessor.remove_cell_tags='exclude' --TemplateExporter.exclude_input=True --TemplateExporter.exclude_input_prompt=True --TemplateExporter.exclude_output_prompt=True"
   ]
  },
  {
   "cell_type": "markdown",
   "id": "82ca05e5-839d-4742-ba86-ac0c8f14c5b8",
   "metadata": {
    "papermill": {
     "duration": 0.272841,
     "end_time": "2023-03-01T19:04:59.809582",
     "exception": false,
     "start_time": "2023-03-01T19:04:59.536741",
     "status": "completed"
    },
    "tags": [
     "exclude"
    ]
   },
   "source": [
    "## Git"
   ]
  },
  {
   "cell_type": "code",
   "execution_count": null,
   "id": "cba1eb00-d9c2-491a-95b3-5ce0a0524d59",
   "metadata": {
    "papermill": {
     "duration": 2.634587,
     "end_time": "2023-03-01T19:05:02.681113",
     "exception": false,
     "start_time": "2023-03-01T19:05:00.046526",
     "status": "completed"
    },
    "tags": [
     "exclude"
    ]
   },
   "outputs": [],
   "source": [
    "! git add \"../*[Tt]imeline*\""
   ]
  },
  {
   "cell_type": "code",
   "execution_count": null,
   "id": "6f1f8303-30c6-4aaa-b45e-f6d5f5ece30e",
   "metadata": {
    "papermill": {
     "duration": 1.649813,
     "end_time": "2023-03-01T19:05:04.568087",
     "exception": false,
     "start_time": "2023-03-01T19:05:02.918274",
     "status": "completed"
    },
    "tags": [
     "exclude"
    ]
   },
   "outputs": [],
   "source": [
    "! git commit -m {\"'Timeline update-\" + pd.Timestamp.now().isoformat()+\"'\"}"
   ]
  }
 ],
 "metadata": {
  "kernelspec": {
   "display_name": "Python 3 (ipykernel)",
   "language": "python",
   "name": "python3"
  },
  "language_info": {
   "codemirror_mode": {
    "name": "ipython",
    "version": 3
   },
   "file_extension": ".py",
   "mimetype": "text/x-python",
   "name": "python",
   "nbconvert_exporter": "python",
   "pygments_lexer": "ipython3",
   "version": "3.10.8"
  },
  "papermill": {
   "default_parameters": {},
   "duration": 223.50106,
   "end_time": "2023-03-01T19:05:06.835467",
   "environment_variables": {},
   "exception": null,
   "input_path": "Timeline.ipynb",
   "output_path": "Timeline.ipynb",
   "parameters": {},
   "start_time": "2023-03-01T19:01:23.334407",
   "version": "2.4.0"
  },
  "toc": {
   "base_numbering": 1,
   "nav_menu": {},
   "number_sections": true,
   "sideBar": true,
   "skip_h1_title": false,
   "title_cell": "Table of Contents",
   "title_sidebar": "Contents",
   "toc_cell": true,
   "toc_position": {},
   "toc_section_display": true,
   "toc_window_display": true
  }
 },
 "nbformat": 4,
 "nbformat_minor": 5
}
