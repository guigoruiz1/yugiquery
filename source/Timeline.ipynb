{
 "cells": [
  {
   "cell_type": "code",
   "execution_count": null,
   "id": "a570071f-ec8c-496c-9960-2b4af3137f44",
   "metadata": {
    "papermill": {
     "duration": 2.097847,
     "end_time": "2023-02-21T16:46:31.032188",
     "exception": false,
     "start_time": "2023-02-21T16:46:28.934341",
     "status": "completed"
    },
    "tags": []
   },
   "outputs": [],
   "source": [
    "from yugiquery import *\n",
    "header('Timeline')"
   ]
  },
  {
   "cell_type": "markdown",
   "id": "d531326c-b92f-4c04-a301-83434217fa65",
   "metadata": {
    "papermill": {
     "duration": 0.046887,
     "end_time": "2023-02-21T16:46:31.098060",
     "exception": false,
     "start_time": "2023-02-21T16:46:31.051173",
     "status": "completed"
    },
    "tags": []
   },
   "source": [
    "---"
   ]
  },
  {
   "cell_type": "markdown",
   "id": "98c3721e",
   "metadata": {
    "papermill": {
     "duration": 0.016709,
     "end_time": "2023-02-21T16:46:31.134561",
     "exception": false,
     "start_time": "2023-02-21T16:46:31.117852",
     "status": "completed"
    },
    "tags": [],
    "toc": true
   },
   "source": [
    "Table of Contents\n",
    "=================\n",
    "\n",
    "*   [1  Data preparation](#Data-preparation)\n",
    "    *   [1.1  Load data](#Load-data)\n",
    "    *   [1.2  Format data](#Format-data)\n",
    "    *   [1.3  Merge data](#Merge-data)\n",
    "*   [4  Data visualization](#Data-visualization)\n",
    "    *   [4.1  First releases](#First-releases)\n",
    "        *   [4.1.1  By region](#By-region)\n",
    "    *   [4.1  Last releases](#Last-releases)\n",
    "        *   [4.1.1  By region](#By-region)\n",
    "    *   [4.2  All Releases](#All-Releases)\n",
    "        *   [4.2.1  By card type](#By-card-type)\n",
    "        *   [4.2.2  By primary type](#By-primary-type)\n",
    "        *   [4.2.3  By secondary type](#By-secondary-type)\n",
    "        *   [4.2.4  By attribute](#By-attribute)\n",
    "        *   [4.2.5  By monster type](#By-monster-type)\n",
    "        *   [4.2.6  By Level/Rank](#By-Level/Rank)\n",
    "        *   [4.2.7  By ATK](#By-ATK)\n",
    "        *   [4.2.8  By DEF](#By-DEF)\n",
    "        *   [4.2.9  By pendulum scale](#By-pendulum-scale)\n",
    "        *   [4.2.10  By link](#By-link)\n",
    "*   [5  Debug](#Debug)\n",
    "    *   [5.1  Merge failed](#Merge-failed)\n",
    "*   [6  Epilogue](#Epilogue)\n",
    "    *   [6.1  HTML export](#HTML-export)\n",
    "<!-- *   [6.2  Git](#Git) -->"
   ]
  },
  {
   "cell_type": "markdown",
   "id": "98e5146f-5f48-426c-b7be-07b64cd429e4",
   "metadata": {
    "papermill": {
     "duration": 0.017587,
     "end_time": "2023-02-21T16:46:31.170739",
     "exception": false,
     "start_time": "2023-02-21T16:46:31.153152",
     "status": "completed"
    },
    "tags": []
   },
   "source": [
    "# Data preparation"
   ]
  },
  {
   "cell_type": "markdown",
   "id": "df92295d-d124-4eea-ba54-a691fddf3d5c",
   "metadata": {
    "papermill": {
     "duration": 0.016996,
     "end_time": "2023-02-21T16:46:31.208997",
     "exception": false,
     "start_time": "2023-02-21T16:46:31.192001",
     "status": "completed"
    },
    "tags": []
   },
   "source": [
    "## Load data"
   ]
  },
  {
   "cell_type": "code",
   "execution_count": null,
   "id": "fe78d6ac-18e0-49d6-bdbf-43f9c11b15a0",
   "metadata": {
    "papermill": {
     "duration": 0.09308,
     "end_time": "2023-02-21T16:46:31.318297",
     "exception": false,
     "start_time": "2023-02-21T16:46:31.225217",
     "status": "completed"
    },
    "tags": []
   },
   "outputs": [],
   "source": [
    "# Load list of important dates\n",
    "with open('../assets/dates.json','r') as f:\n",
    "    dates_json = json.load(f)\n",
    "    anime_df = pd.DataFrame(dates_json['anime']['series']).T.applymap(pd.to_datetime, dayfirst=True)\n",
    "    rules_df = pd.DataFrame(dates_json['rules']).T.applymap(pd.to_datetime, dayfirst=True).iloc[2:] # Ignore old rules"
   ]
  },
  {
   "cell_type": "code",
   "execution_count": null,
   "id": "69b9995b-436e-4552-86d6-6dd4fabff8d0",
   "metadata": {
    "papermill": {
     "duration": 7.4541,
     "end_time": "2023-02-21T16:46:38.789164",
     "exception": false,
     "start_time": "2023-02-21T16:46:31.335064",
     "status": "completed"
    },
    "tags": []
   },
   "outputs": [],
   "source": [
    "# Get list of files\n",
    "all_cards_files = sorted(glob.glob('../data/all_cards_*.csv'), key=os.path.getctime, reverse=True)\n",
    "all_speed_files = sorted(glob.glob('../data/all_speed_*.csv'), key=os.path.getctime, reverse=True)\n",
    "set_lists_files = sorted(glob.glob('../data/all_sets_*.csv'), key=os.path.getctime, reverse=True)\n",
    "# Get newest file if exist\n",
    "if len(all_cards_files)>0:\n",
    "    all_cards_df = pd.read_csv(all_cards_files[0], dtype=object)\n",
    "    # Correct tuples\n",
    "    all_cards_df['Secondary type'] = all_cards_df['Secondary type'].dropna().apply(literal_eval)\n",
    "    all_cards_df['Effect type'] = all_cards_df['Effect type'].dropna().apply(literal_eval)\n",
    "    all_cards_df['Link Arrows'] = all_cards_df['Link Arrows'].dropna().apply(literal_eval)\n",
    "    all_cards_df['Archseries'] = all_cards_df['Archseries'].dropna().apply(literal_eval)\n",
    "    all_cards_df['Artwork'] = all_cards_df['Artwork'].dropna().apply(literal_eval)\n",
    "    all_cards_df['Errata'] = all_cards_df['Errata'].dropna().apply(literal_eval)\n",
    "    print('Cards file loaded')\n",
    "else:\n",
    "    all_cards_df = None\n",
    "    print('No cards files')\n",
    "    \n",
    "if len(all_speed_files)>0:\n",
    "    all_speed_df = pd.read_csv(all_speed_files[0], dtype=object)\n",
    "    # Correct tuples\n",
    "    all_speed_df['Secondary type'] = all_speed_df['Secondary type'].dropna().apply(literal_eval)\n",
    "    all_speed_df['Effect type'] = all_speed_df['Effect type'].dropna().apply(literal_eval)\n",
    "    all_speed_df['Archseries'] = all_speed_df['Archseries'].dropna().apply(literal_eval)\n",
    "    all_speed_df['Artwork'] = all_speed_df['Artwork'].dropna().apply(literal_eval)\n",
    "    # all_speed_df['Errata'] = all_speed_df['Errata'].dropna().apply(literal_eval)\n",
    "    print('Speed duel cards file loaded')\n",
    "else:\n",
    "    all_cards_df = None\n",
    "    print('No speed duel files')\n",
    "    \n",
    "if len(set_lists_files)>0:\n",
    "    set_lists_df = pd.read_csv(set_lists_files[0], dtype=object)\n",
    "    # Correct tuples\n",
    "    set_lists_df['Rarity'] = set_lists_df['Rarity'].dropna().apply(literal_eval)\n",
    "    set_lists_df['Cover card'] = set_lists_df['Cover card'].dropna().apply(literal_eval)\n",
    "    print('Sets file loaded')\n",
    "else:\n",
    "    set_lists_df = None\n",
    "    print('No set lists files')"
   ]
  },
  {
   "cell_type": "markdown",
   "id": "b05d12f3-69b3-4fb8-9d38-00a4220faed6",
   "metadata": {
    "papermill": {
     "duration": 0.083542,
     "end_time": "2023-02-21T16:46:38.889304",
     "exception": false,
     "start_time": "2023-02-21T16:46:38.805762",
     "status": "completed"
    },
    "tags": []
   },
   "source": [
    "## Format data"
   ]
  },
  {
   "cell_type": "code",
   "execution_count": null,
   "id": "408e1580-2904-4d6b-83f3-6be83500fb78",
   "metadata": {
    "papermill": {
     "duration": 0.315611,
     "end_time": "2023-02-21T16:46:39.407919",
     "exception": false,
     "start_time": "2023-02-21T16:46:39.092308",
     "status": "completed"
    },
    "tags": []
   },
   "outputs": [],
   "source": [
    "if all_cards_df is not None and all_speed_df is not None and set_lists_df is not None:\n",
    "    all_cards_df['index'] = all_cards_df['Name'].str.lower()\n",
    "    all_speed_df['index'] = all_speed_df['Name'].str.lower()\n",
    "    set_lists_df['index'] = set_lists_df['Name'].str.lower()\n",
    "    all_cards_df['Modification date'] = pd.to_datetime(all_cards_df['Modification date'])\n",
    "    all_speed_df['Modification date'] = pd.to_datetime(all_speed_df['Modification date'])\n",
    "    set_lists_df['Modification date'] = pd.to_datetime(set_lists_df['Modification date'])\n",
    "    set_lists_df['Release'] = pd.to_datetime(set_lists_df['Release'])\n",
    "    \n",
    "else:\n",
    "    raise SystemExit(\"Not enough files to proceed. Aborting!\")"
   ]
  },
  {
   "cell_type": "markdown",
   "id": "e976bec2-3c0d-40d0-9a2e-6c1bb6b38059",
   "metadata": {
    "papermill": {
     "duration": 0.113739,
     "end_time": "2023-02-21T16:46:39.804899",
     "exception": false,
     "start_time": "2023-02-21T16:46:39.691160",
     "status": "completed"
    },
    "tags": []
   },
   "source": [
    "## Merge data"
   ]
  },
  {
   "cell_type": "code",
   "execution_count": null,
   "id": "28678f0f-8a83-46c9-864a-37c70e3c39a0",
   "metadata": {
    "papermill": {
     "duration": 2.580612,
     "end_time": "2023-02-21T16:46:42.454931",
     "exception": false,
     "start_time": "2023-02-21T16:46:39.874319",
     "status": "completed"
    },
    "tags": []
   },
   "outputs": [],
   "source": [
    "full_df = pd.concat([all_cards_df, all_speed_df]).drop_duplicates(ignore_index=True)\n",
    "full_df = full_df.merge(set_lists_df, indicator = True, how='outer', on='index')\n",
    "full_df = full_df.convert_dtypes()\n",
    "full_df['Modification date'] = full_df[['Modification date_x','Modification date_y']].max(axis=1)\n",
    "full_df['Name'] = full_df['Name_x'].fillna(full_df['Name_y'])\n",
    "full_df.drop(['index', 'Name_x', 'Name_y', 'Modification date_x', 'Modification date_y'], axis=1, inplace = True)\n",
    "full_df.rename(columns={'Page URL_x': 'Card page URL', 'Page URL_y': 'Set page URL'}, inplace=True)\n",
    "full_df = full_df[np.append(full_df.columns[-1:],full_df.columns[:-1])]"
   ]
  },
  {
   "cell_type": "markdown",
   "id": "f7c5cdf1-3f40-4d35-83b8-690933ba52a3",
   "metadata": {
    "papermill": {
     "duration": 0.18265,
     "end_time": "2023-02-21T16:46:42.654618",
     "exception": false,
     "start_time": "2023-02-21T16:46:42.471968",
     "status": "completed"
    },
    "tags": []
   },
   "source": [
    "# Data visualization"
   ]
  },
  {
   "cell_type": "code",
   "execution_count": null,
   "id": "10cbbdb2-ecd3-4a9e-a804-b9186febc279",
   "metadata": {
    "papermill": {
     "duration": 0.261561,
     "end_time": "2023-02-21T16:46:43.033971",
     "exception": false,
     "start_time": "2023-02-21T16:46:42.772410",
     "status": "completed"
    },
    "tags": []
   },
   "outputs": [],
   "source": [
    "full_df"
   ]
  },
  {
   "cell_type": "markdown",
   "id": "717be58b-4909-4892-ae15-844b7cb7b58c",
   "metadata": {
    "papermill": {
     "duration": 0.017971,
     "end_time": "2023-02-21T16:46:43.159067",
     "exception": false,
     "start_time": "2023-02-21T16:46:43.141096",
     "status": "completed"
    },
    "tags": []
   },
   "source": [
    "## First releases"
   ]
  },
  {
   "cell_type": "markdown",
   "id": "4905c1fd-7e61-4bbb-9c82-953a9a4fd78f",
   "metadata": {
    "papermill": {
     "duration": 0.018405,
     "end_time": "2023-02-21T16:46:43.220412",
     "exception": false,
     "start_time": "2023-02-21T16:46:43.202007",
     "status": "completed"
    },
    "tags": []
   },
   "source": [
    "Obs: Only the first release of an individual card name"
   ]
  },
  {
   "cell_type": "code",
   "execution_count": null,
   "id": "51839140-77f4-4da6-bba6-f55d9a31c7f6",
   "metadata": {
    "papermill": {
     "duration": 2.577444,
     "end_time": "2023-02-21T16:46:45.844383",
     "exception": false,
     "start_time": "2023-02-21T16:46:43.266939",
     "status": "completed"
    },
    "tags": []
   },
   "outputs": [],
   "source": [
    "first_release=full_df[full_df['Release'].notna()].groupby('Name')['Release'].agg(['min','idxmin'])\n",
    "first_release"
   ]
  },
  {
   "cell_type": "code",
   "execution_count": null,
   "id": "6a1f1af8-a056-4045-bbaf-ea422db3d0a4",
   "metadata": {
    "papermill": {
     "duration": 2.324039,
     "end_time": "2023-02-21T16:46:48.190167",
     "exception": false,
     "start_time": "2023-02-21T16:46:45.866128",
     "status": "completed"
    },
    "tags": []
   },
   "outputs": [],
   "source": [
    "first_release_count = first_release['min'].sort_values().value_counts(sort=False).to_frame(name='All cards')\n",
    "first_release_count.index.name = 'First Release'\n",
    "rate_plot(first_release_count, bg=anime_df, vlines = rules_df['begin'])\n"
   ]
  },
  {
   "cell_type": "markdown",
   "id": "b90d74bd-ac81-4289-a2e0-9e49bddfa6c4",
   "metadata": {
    "papermill": {
     "duration": 0.057662,
     "end_time": "2023-02-21T16:46:48.274453",
     "exception": false,
     "start_time": "2023-02-21T16:46:48.216791",
     "status": "completed"
    },
    "tags": []
   },
   "source": [
    "### By region"
   ]
  },
  {
   "cell_type": "code",
   "execution_count": null,
   "id": "d39f5310-38c4-41a7-94d7-6f8355a0d1f9",
   "metadata": {
    "papermill": {
     "duration": 15.336547,
     "end_time": "2023-02-21T16:47:03.641348",
     "exception": false,
     "start_time": "2023-02-21T16:46:48.304801",
     "status": "completed"
    },
    "tags": []
   },
   "outputs": [],
   "source": [
    "first_release_region=full_df[full_df['Release'].notna()].groupby(['Region','Name'])['Release'].agg(['min','idxmin'])\n",
    "first_release_region"
   ]
  },
  {
   "cell_type": "code",
   "execution_count": null,
   "id": "9d7c4e83-fa20-487f-b8ff-51552ac28e7b",
   "metadata": {
    "papermill": {
     "duration": 33.349723,
     "end_time": "2023-02-21T16:47:37.020445",
     "exception": false,
     "start_time": "2023-02-21T16:47:03.670722",
     "status": "completed"
    },
    "tags": []
   },
   "outputs": [],
   "source": [
    "first_release_region_count = first_release_region['min'].sort_values().groupby(['Region']).value_counts(sort=False).unstack(0).fillna(0).round(0)\n",
    "first_release_region_count.index.name = 'Release'\n",
    "rate_subplots(first_release_region_count, title = 'First Release', bg=anime_df, vlines = rules_df['begin'])"
   ]
  },
  {
   "cell_type": "markdown",
   "id": "68ed7e48-cdd1-49e5-996d-771b0aa476b2",
   "metadata": {
    "papermill": {
     "duration": 0.071839,
     "end_time": "2023-02-21T16:47:37.164396",
     "exception": false,
     "start_time": "2023-02-21T16:47:37.092557",
     "status": "completed"
    },
    "tags": []
   },
   "source": [
    "## Last releases"
   ]
  },
  {
   "cell_type": "markdown",
   "id": "1adfdf14-386c-4766-ab1e-634c69028b09",
   "metadata": {
    "papermill": {
     "duration": 0.070899,
     "end_time": "2023-02-21T16:47:37.308654",
     "exception": false,
     "start_time": "2023-02-21T16:47:37.237755",
     "status": "completed"
    },
    "tags": []
   },
   "source": [
    "Obs: Only the last release of an individual card name"
   ]
  },
  {
   "cell_type": "code",
   "execution_count": null,
   "id": "4ed37661-d2b2-4427-bbea-39e2764810c0",
   "metadata": {
    "papermill": {
     "duration": 2.587594,
     "end_time": "2023-02-21T16:47:39.969006",
     "exception": false,
     "start_time": "2023-02-21T16:47:37.381412",
     "status": "completed"
    },
    "tags": []
   },
   "outputs": [],
   "source": [
    "last_release=full_df[full_df['Release'].notna()].groupby('Name')['Release'].agg(['max','idxmax'])\n",
    "last_release"
   ]
  },
  {
   "cell_type": "code",
   "execution_count": null,
   "id": "82e7e343-9ec4-4ff8-b8e9-59af5100ee79",
   "metadata": {
    "papermill": {
     "duration": 2.129212,
     "end_time": "2023-02-21T16:47:42.168401",
     "exception": false,
     "start_time": "2023-02-21T16:47:40.039189",
     "status": "completed"
    },
    "tags": []
   },
   "outputs": [],
   "source": [
    "last_release_count = last_release['max'].sort_values().value_counts(sort=False).to_frame(name='All cards')\n",
    "last_release_count.index.name = 'Last Release'\n",
    "rate_plot(last_release_count, bg=anime_df, vlines = rules_df['begin'])"
   ]
  },
  {
   "cell_type": "markdown",
   "id": "df0f880e-2a39-42fd-8ad4-6eda067f4476",
   "metadata": {
    "papermill": {
     "duration": 0.116611,
     "end_time": "2023-02-21T16:47:42.360565",
     "exception": false,
     "start_time": "2023-02-21T16:47:42.243954",
     "status": "completed"
    },
    "tags": []
   },
   "source": [
    "### By region"
   ]
  },
  {
   "cell_type": "code",
   "execution_count": null,
   "id": "c9d718d3-37a0-4ef3-9d5b-fceba8bb60dd",
   "metadata": {
    "papermill": {
     "duration": 15.94117,
     "end_time": "2023-02-21T16:47:58.376668",
     "exception": false,
     "start_time": "2023-02-21T16:47:42.435498",
     "status": "completed"
    },
    "tags": []
   },
   "outputs": [],
   "source": [
    "last_release_region=full_df[full_df['Release'].notna()].groupby(['Region','Name'])['Release'].agg(['max','idxmax'])\n",
    "last_release_region"
   ]
  },
  {
   "cell_type": "code",
   "execution_count": null,
   "id": "0a708d8b-781e-412a-ae3e-7a89c029065d",
   "metadata": {
    "papermill": {
     "duration": 32.447795,
     "end_time": "2023-02-21T16:48:30.899128",
     "exception": false,
     "start_time": "2023-02-21T16:47:58.451333",
     "status": "completed"
    },
    "tags": []
   },
   "outputs": [],
   "source": [
    "last_release_region_count = last_release_region['max'].sort_values().groupby(['Region']).value_counts(sort=False).unstack(0).fillna(0).round(0)\n",
    "last_release_region_count.index.name = 'Release'\n",
    "rate_subplots(last_release_region_count, title = 'Last Release', bg=anime_df, vlines = rules_df['begin'])"
   ]
  },
  {
   "cell_type": "markdown",
   "id": "811538f6-77b2-4736-8feb-022abeddeb5c",
   "metadata": {
    "papermill": {
     "duration": 0.230345,
     "end_time": "2023-02-21T16:48:31.248676",
     "exception": false,
     "start_time": "2023-02-21T16:48:31.018331",
     "status": "completed"
    },
    "tags": []
   },
   "source": [
    "## All Releases"
   ]
  },
  {
   "cell_type": "markdown",
   "id": "010ccac6-74c5-46dd-9b23-7a0a3fd5a1c1",
   "metadata": {
    "papermill": {
     "duration": 0.125292,
     "end_time": "2023-02-21T16:48:31.577074",
     "exception": false,
     "start_time": "2023-02-21T16:48:31.451782",
     "status": "completed"
    },
    "tags": []
   },
   "source": [
    "Obs: All releases includes reprints"
   ]
  },
  {
   "cell_type": "markdown",
   "id": "0a191a3e-66bb-450e-9b37-f1ebb15c3d7e",
   "metadata": {
    "papermill": {
     "duration": 0.115531,
     "end_time": "2023-02-21T16:48:31.816562",
     "exception": false,
     "start_time": "2023-02-21T16:48:31.701031",
     "status": "completed"
    },
    "tags": []
   },
   "source": [
    "### By card type"
   ]
  },
  {
   "cell_type": "code",
   "execution_count": null,
   "id": "0621222f-c793-4206-8344-eaac4c55a75c",
   "metadata": {
    "papermill": {
     "duration": 0.359247,
     "end_time": "2023-02-21T16:48:32.294864",
     "exception": false,
     "start_time": "2023-02-21T16:48:31.935617",
     "status": "completed"
    },
    "tags": []
   },
   "outputs": [],
   "source": [
    "# All releases, includes reprints - Double check\n",
    "release_card_type = full_df.groupby(['Card type','Release'])['Name'].nunique().unstack(0).sort_index().fillna(0).astype(int)\n",
    "release_card_type.groupby(release_card_type.index.strftime('%Y')).sum().T"
   ]
  },
  {
   "cell_type": "code",
   "execution_count": null,
   "id": "9f4d9303-cd23-41ed-b618-15b2458a8361",
   "metadata": {
    "papermill": {
     "duration": 0.150769,
     "end_time": "2023-02-21T16:48:32.561497",
     "exception": false,
     "start_time": "2023-02-21T16:48:32.410728",
     "status": "completed"
    },
    "tags": []
   },
   "outputs": [],
   "source": [
    "# card_type_colors = [colors_dict[col] for col in release_card_type.columns]\n",
    "# rate_subplots(release_card_type, colors=card_type_colors, bg=anime_df, vlines = rules_df['begin'])"
   ]
  },
  {
   "cell_type": "code",
   "execution_count": null,
   "id": "b8fe7da4-23e5-490a-992a-f5837f3dc216",
   "metadata": {
    "papermill": {
     "duration": 2.289135,
     "end_time": "2023-02-21T16:48:34.970931",
     "exception": false,
     "start_time": "2023-02-21T16:48:32.681796",
     "status": "completed"
    },
    "tags": []
   },
   "outputs": [],
   "source": [
    "card_type_colors = [colors_dict[col] for col in release_card_type.columns]\n",
    "rate_plot(release_card_type, colors=card_type_colors, bg=anime_df, vlines = rules_df['begin'])"
   ]
  },
  {
   "cell_type": "markdown",
   "id": "bd7a3a56-f0ba-4f3a-acab-d6edadd57b9e",
   "metadata": {
    "papermill": {
     "duration": 0.119982,
     "end_time": "2023-02-21T16:48:35.214966",
     "exception": false,
     "start_time": "2023-02-21T16:48:35.094984",
     "status": "completed"
    },
    "tags": []
   },
   "source": [
    "### By primary type"
   ]
  },
  {
   "cell_type": "code",
   "execution_count": null,
   "id": "e2da2a9b-df09-4b05-9d52-564e81b1787f",
   "metadata": {
    "papermill": {
     "duration": 0.332578,
     "end_time": "2023-02-21T16:48:35.670974",
     "exception": false,
     "start_time": "2023-02-21T16:48:35.338396",
     "status": "completed"
    },
    "tags": []
   },
   "outputs": [],
   "source": [
    "# All releases, includes reprints - Double check\n",
    "# Sort properly\n",
    "release_primary_type = full_df.groupby(['Primary type','Release'])['Name'].nunique().unstack(0).sort_index().fillna(0).astype(int)\n",
    "release_primary_type.groupby(release_primary_type.index.strftime('%Y')).sum().T"
   ]
  },
  {
   "cell_type": "code",
   "execution_count": null,
   "id": "aaba4ece-1001-48c2-b026-c77dd949b216",
   "metadata": {
    "papermill": {
     "duration": 0.133715,
     "end_time": "2023-02-21T16:48:35.931130",
     "exception": false,
     "start_time": "2023-02-21T16:48:35.797415",
     "status": "completed"
    },
    "tags": []
   },
   "outputs": [],
   "source": [
    "# primary_type_colors = [colors_dict[col] for col in release_primary_type.columns]\n",
    "# rate_subplots(release_primary_type, colors=primary_type_colors, bg=anime_df, vlines=rules_df['begin'])"
   ]
  },
  {
   "cell_type": "code",
   "execution_count": null,
   "id": "0986f91b-b91d-47b2-9d9a-3c0e51127d1b",
   "metadata": {
    "papermill": {
     "duration": 2.81568,
     "end_time": "2023-02-21T16:48:38.866632",
     "exception": false,
     "start_time": "2023-02-21T16:48:36.050952",
     "status": "completed"
    },
    "tags": []
   },
   "outputs": [],
   "source": [
    "primary_type_colors = [colors_dict[col] for col in release_primary_type.columns]\n",
    "rate_plot(release_primary_type, colors=primary_type_colors, bg=anime_df, vlines = rules_df['begin'])"
   ]
  },
  {
   "cell_type": "markdown",
   "id": "61ca539a-6816-4937-bbd6-6ec7b053fbc6",
   "metadata": {
    "papermill": {
     "duration": 0.217991,
     "end_time": "2023-02-21T16:48:39.208782",
     "exception": false,
     "start_time": "2023-02-21T16:48:38.990791",
     "status": "completed"
    },
    "tags": []
   },
   "source": [
    "### By secondary type"
   ]
  },
  {
   "cell_type": "code",
   "execution_count": null,
   "id": "9b3e4e1f-e27a-4c16-98f0-5811faf48122",
   "metadata": {
    "papermill": {
     "duration": 0.295605,
     "end_time": "2023-02-21T16:48:39.629897",
     "exception": false,
     "start_time": "2023-02-21T16:48:39.334292",
     "status": "completed"
    },
    "tags": []
   },
   "outputs": [],
   "source": [
    "# All releases, includes reprints - Double check\n",
    "# Sort properly\n",
    "release_secondary_type = full_df.groupby(['Secondary type','Release'])['Name'].nunique().unstack(0).sort_index().fillna(0).astype(int)\n",
    "release_secondary_type.groupby(release_secondary_type.index.strftime('%Y')).sum().T"
   ]
  },
  {
   "cell_type": "code",
   "execution_count": null,
   "id": "1a4f55ff-21bc-4b94-89df-3ddf3a906cd5",
   "metadata": {
    "papermill": {
     "duration": 0.148137,
     "end_time": "2023-02-21T16:48:39.917710",
     "exception": false,
     "start_time": "2023-02-21T16:48:39.769573",
     "status": "completed"
    },
    "tags": []
   },
   "outputs": [],
   "source": [
    "# rate_subplots(release_secondary_type, bg=anime_df, vlines = rules_df['begin'])"
   ]
  },
  {
   "cell_type": "code",
   "execution_count": null,
   "id": "83fcc4ac-1866-42a2-9e11-2bb2df518b04",
   "metadata": {
    "papermill": {
     "duration": 2.086177,
     "end_time": "2023-02-21T16:48:42.132308",
     "exception": false,
     "start_time": "2023-02-21T16:48:40.046131",
     "status": "completed"
    },
    "tags": []
   },
   "outputs": [],
   "source": [
    "rate_plot(release_secondary_type, bg=anime_df, vlines = rules_df['begin'])"
   ]
  },
  {
   "cell_type": "markdown",
   "id": "426d9713-0e0c-4af3-9e5f-5ed3e5e5a0c1",
   "metadata": {
    "papermill": {
     "duration": 0.147606,
     "end_time": "2023-02-21T16:48:42.408368",
     "exception": false,
     "start_time": "2023-02-21T16:48:42.260762",
     "status": "completed"
    },
    "tags": []
   },
   "source": [
    "### By attribute"
   ]
  },
  {
   "cell_type": "code",
   "execution_count": null,
   "id": "3bb3fed2-3036-4194-8c87-620f0a237f5a",
   "metadata": {
    "papermill": {
     "duration": 0.372819,
     "end_time": "2023-02-21T16:48:42.920276",
     "exception": false,
     "start_time": "2023-02-21T16:48:42.547457",
     "status": "completed"
    },
    "tags": []
   },
   "outputs": [],
   "source": [
    "# All releases, includes reprints - Double check\n",
    "# Sort properly\n",
    "release_attribute = full_df.groupby(['Attribute','Release'])['Name'].nunique().unstack(0).sort_index().fillna(0).astype(int)\n",
    "release_attribute.groupby(release_attribute.index.strftime('%Y')).sum().T"
   ]
  },
  {
   "cell_type": "code",
   "execution_count": null,
   "id": "09cd937c-137c-4eea-ae08-7a110e00b4c9",
   "metadata": {
    "papermill": {
     "duration": 0.147679,
     "end_time": "2023-02-21T16:48:43.197318",
     "exception": false,
     "start_time": "2023-02-21T16:48:43.049639",
     "status": "completed"
    },
    "tags": []
   },
   "outputs": [],
   "source": [
    "# attribute_colors = [colors_dict[col] for col in release_attribute.columns]\n",
    "# rate_subplots(release_attribute, colors=attribute_colors, bg=anime_df, vlines = rules_df['begin'])"
   ]
  },
  {
   "cell_type": "code",
   "execution_count": null,
   "id": "967d93eb-03ef-4feb-8a8c-3ee7a9f10b24",
   "metadata": {
    "papermill": {
     "duration": 2.450578,
     "end_time": "2023-02-21T16:48:45.778479",
     "exception": false,
     "start_time": "2023-02-21T16:48:43.327901",
     "status": "completed"
    },
    "tags": []
   },
   "outputs": [],
   "source": [
    "attribute_colors = [colors_dict[col] for col in release_attribute.columns]\n",
    "rate_plot(release_attribute, colors = attribute_colors, bg=anime_df, vlines = rules_df['begin'], cumsum=True)"
   ]
  },
  {
   "cell_type": "markdown",
   "id": "5eb10e4e-fddb-4e03-9766-444c9b4a69ed",
   "metadata": {
    "papermill": {
     "duration": 0.138043,
     "end_time": "2023-02-21T16:48:46.058172",
     "exception": false,
     "start_time": "2023-02-21T16:48:45.920129",
     "status": "completed"
    },
    "tags": []
   },
   "source": [
    "### By monster type"
   ]
  },
  {
   "cell_type": "code",
   "execution_count": null,
   "id": "99f3ca8c-0a4b-4082-b8d0-051267460320",
   "metadata": {
    "papermill": {
     "duration": 0.35977,
     "end_time": "2023-02-21T16:48:46.555353",
     "exception": false,
     "start_time": "2023-02-21T16:48:46.195583",
     "status": "completed"
    },
    "tags": []
   },
   "outputs": [],
   "source": [
    "# All releases, includes reprints - Double check\n",
    "# Sort properly\n",
    "release_monster_type = full_df.groupby(['Monster type','Release'])['Name'].nunique().unstack(0).sort_index().fillna(0).astype(int)\n",
    "release_monster_type.groupby(release_monster_type.index.strftime('%Y')).sum().T"
   ]
  },
  {
   "cell_type": "code",
   "execution_count": null,
   "id": "83ec20a7-eb56-485e-9282-5dcc6ee89cf5",
   "metadata": {
    "papermill": {
     "duration": 55.393807,
     "end_time": "2023-02-21T16:49:42.131416",
     "exception": false,
     "start_time": "2023-02-21T16:48:46.737609",
     "status": "completed"
    },
    "tags": []
   },
   "outputs": [],
   "source": [
    "rate_subplots(release_monster_type, bg=anime_df, vlines = rules_df['begin'])"
   ]
  },
  {
   "cell_type": "markdown",
   "id": "ccd8df1f-8f20-4d07-855c-1b78f29d9e4a",
   "metadata": {
    "papermill": {
     "duration": 0.471196,
     "end_time": "2023-02-21T16:49:43.857986",
     "exception": false,
     "start_time": "2023-02-21T16:49:43.386790",
     "status": "completed"
    },
    "tags": []
   },
   "source": [
    "### By Level/Rank"
   ]
  },
  {
   "cell_type": "code",
   "execution_count": null,
   "id": "12f31058-751b-4110-8d78-d0917ab140da",
   "metadata": {
    "papermill": {
     "duration": 0.451161,
     "end_time": "2023-02-21T16:49:44.804836",
     "exception": false,
     "start_time": "2023-02-21T16:49:44.353675",
     "status": "completed"
    },
    "tags": []
   },
   "outputs": [],
   "source": [
    "# Testing\n",
    "def boxplot(df):\n",
    "    col = df.columns[0]\n",
    "    df['Year'] = df.index.strftime('%Y')\n",
    "    df.dropna(inplace=True)\n",
    "\n",
    "    ax = df.boxplot(by='Year', figsize=(16,10))\n",
    "\n",
    "    mean = df.groupby('Year').mean()\n",
    "\n",
    "    ax.plot(list(range(1,len(mean.index)+1)), mean.values, c='r', ls='--', alpha=0.5)\n",
    "    \n",
    "    ticks = np.arange(0,df[col].max()+1,1)\n",
    "    if len(ticks)>15:\n",
    "        ax.yaxis.set_major_locator(MaxNLocator(11, integer=True))\n",
    "        ax.yaxis.set_minor_locator(AutoMinorLocator())\n",
    "    else:\n",
    "        ax.yaxis.set_major_locator(FixedLocator(ticks))\n",
    "        \n",
    "    # ax.set_ylim([0,5000])\n",
    "    plt.tight_layout()\n",
    "    plt.show()"
   ]
  },
  {
   "cell_type": "code",
   "execution_count": null,
   "id": "f5514a52-9dad-4eaa-9f49-1d99ee02e94d",
   "metadata": {
    "papermill": {
     "duration": 3.141904,
     "end_time": "2023-02-21T16:49:48.176873",
     "exception": false,
     "start_time": "2023-02-21T16:49:45.034969",
     "status": "completed"
    },
    "tags": []
   },
   "outputs": [],
   "source": [
    "level_box = pd.to_numeric(full_df.set_index('Release')['Level/Rank'], errors='coerce').to_frame().sort_index().dropna()\n",
    "boxplot(level_box)"
   ]
  },
  {
   "cell_type": "markdown",
   "id": "d5f37c9c-60ea-4d1a-98a1-566c71a888f4",
   "metadata": {
    "papermill": {
     "duration": 0.233234,
     "end_time": "2023-02-21T16:49:48.703838",
     "exception": false,
     "start_time": "2023-02-21T16:49:48.470604",
     "status": "completed"
    },
    "tags": []
   },
   "source": [
    "### By ATK"
   ]
  },
  {
   "cell_type": "code",
   "execution_count": null,
   "id": "a9943fd3-81e3-4718-b02b-7a1c47d52590",
   "metadata": {
    "papermill": {
     "duration": 3.292958,
     "end_time": "2023-02-21T16:49:52.223620",
     "exception": false,
     "start_time": "2023-02-21T16:49:48.930662",
     "status": "completed"
    },
    "tags": []
   },
   "outputs": [],
   "source": [
    "atk_box = pd.to_numeric(full_df.set_index('Release')['ATK'], errors='coerce').to_frame().sort_index().dropna()\n",
    "boxplot(atk_box)"
   ]
  },
  {
   "cell_type": "markdown",
   "id": "d1182406-c948-4f81-bcac-db2d4b7a912d",
   "metadata": {
    "papermill": {
     "duration": 0.268686,
     "end_time": "2023-02-21T16:49:52.732920",
     "exception": false,
     "start_time": "2023-02-21T16:49:52.464234",
     "status": "completed"
    },
    "tags": []
   },
   "source": [
    "### By DEF"
   ]
  },
  {
   "cell_type": "code",
   "execution_count": null,
   "id": "54cfccd2-f677-4ab8-81c0-e794a1015872",
   "metadata": {
    "papermill": {
     "duration": 3.213309,
     "end_time": "2023-02-21T16:49:56.214271",
     "exception": false,
     "start_time": "2023-02-21T16:49:53.000962",
     "status": "completed"
    },
    "tags": []
   },
   "outputs": [],
   "source": [
    "def_box = pd.to_numeric(full_df.set_index('Release')['DEF'], errors='coerce').to_frame().sort_index().dropna()\n",
    "boxplot(def_box)"
   ]
  },
  {
   "cell_type": "markdown",
   "id": "1d8dd39e-5075-49c7-9ea8-a6255f1684e9",
   "metadata": {
    "papermill": {
     "duration": 0.234156,
     "end_time": "2023-02-21T16:49:56.750895",
     "exception": false,
     "start_time": "2023-02-21T16:49:56.516739",
     "status": "completed"
    },
    "tags": []
   },
   "source": [
    "### By pendulum scale"
   ]
  },
  {
   "cell_type": "code",
   "execution_count": null,
   "id": "29c1d59e-ba6c-4138-89d2-c8eb9d563f2e",
   "metadata": {
    "papermill": {
     "duration": 1.532927,
     "end_time": "2023-02-21T16:49:58.523579",
     "exception": false,
     "start_time": "2023-02-21T16:49:56.990652",
     "status": "completed"
    },
    "tags": []
   },
   "outputs": [],
   "source": [
    "pendulum_box = pd.to_numeric(full_df.set_index('Release')['Pendulum Scale'], errors='coerce').to_frame().sort_index().dropna()\n",
    "boxplot(pendulum_box)"
   ]
  },
  {
   "cell_type": "markdown",
   "id": "75b2d1e5-5cd5-4bee-8f29-2d3e63bb777d",
   "metadata": {
    "papermill": {
     "duration": 0.234631,
     "end_time": "2023-02-21T16:49:59.059783",
     "exception": false,
     "start_time": "2023-02-21T16:49:58.825152",
     "status": "completed"
    },
    "tags": []
   },
   "source": [
    "### By link"
   ]
  },
  {
   "cell_type": "code",
   "execution_count": null,
   "id": "8971fc23-7364-43a9-b65d-d5c3dc138205",
   "metadata": {
    "papermill": {
     "duration": 1.263077,
     "end_time": "2023-02-21T16:50:00.629675",
     "exception": false,
     "start_time": "2023-02-21T16:49:59.366598",
     "status": "completed"
    },
    "tags": []
   },
   "outputs": [],
   "source": [
    "link_box = pd.to_numeric(full_df.set_index('Release')['Link'], errors='coerce').to_frame().sort_index().dropna()\n",
    "boxplot(link_box)"
   ]
  },
  {
   "cell_type": "markdown",
   "id": "4951f8e7-5726-4a0d-95fd-e124ecfc0122",
   "metadata": {
    "papermill": {
     "duration": 0.544086,
     "end_time": "2023-02-21T16:50:01.428993",
     "exception": false,
     "start_time": "2023-02-21T16:50:00.884907",
     "status": "completed"
    },
    "tags": []
   },
   "source": [
    "# Debug"
   ]
  },
  {
   "cell_type": "markdown",
   "id": "f3578857-ba88-49fe-9d8f-9b72c8815d69",
   "metadata": {
    "papermill": {
     "duration": 0.447666,
     "end_time": "2023-02-21T16:50:02.499179",
     "exception": false,
     "start_time": "2023-02-21T16:50:02.051513",
     "status": "completed"
    },
    "tags": []
   },
   "source": [
    "## Merge failed"
   ]
  },
  {
   "cell_type": "code",
   "execution_count": null,
   "id": "874cff22-4a2d-4fec-9657-b0380fc25bb4",
   "metadata": {
    "papermill": {
     "duration": 0.81613,
     "end_time": "2023-02-21T16:50:03.778661",
     "exception": false,
     "start_time": "2023-02-21T16:50:02.962531",
     "status": "completed"
    },
    "tags": []
   },
   "outputs": [],
   "source": [
    "full_df['_merge'].value_counts()"
   ]
  },
  {
   "cell_type": "code",
   "execution_count": null,
   "id": "aa5a365e-f53d-4302-b44d-b23cc8dbc923",
   "metadata": {
    "papermill": {
     "duration": 2.662823,
     "end_time": "2023-02-21T16:50:06.710709",
     "exception": false,
     "start_time": "2023-02-21T16:50:04.047886",
     "status": "completed"
    },
    "tags": []
   },
   "outputs": [],
   "source": [
    "full_df.where(full_df['_merge']=='right_only').dropna(axis=0,how='all')"
   ]
  },
  {
   "cell_type": "code",
   "execution_count": null,
   "id": "eead37fd-fd5f-41bf-bbce-e6f3a8915b41",
   "metadata": {
    "papermill": {
     "duration": 2.457485,
     "end_time": "2023-02-21T16:50:09.490119",
     "exception": false,
     "start_time": "2023-02-21T16:50:07.032634",
     "status": "completed"
    },
    "tags": []
   },
   "outputs": [],
   "source": [
    "full_df.where(full_df['_merge']=='left_only').dropna(axis=0,how='all')"
   ]
  },
  {
   "cell_type": "markdown",
   "id": "9cdbfc4e-71d0-41e4-a421-73bf3a98e734",
   "metadata": {
    "papermill": {
     "duration": 0.269649,
     "end_time": "2023-02-21T16:50:10.021164",
     "exception": false,
     "start_time": "2023-02-21T16:50:09.751515",
     "status": "completed"
    },
    "tags": []
   },
   "source": [
    " # Epilogue"
   ]
  },
  {
   "cell_type": "code",
   "execution_count": null,
   "id": "479dc549-52ce-4e36-b0a5-ff555459ea23",
   "metadata": {
    "papermill": {
     "duration": 0.307381,
     "end_time": "2023-02-21T16:50:10.676409",
     "exception": false,
     "start_time": "2023-02-21T16:50:10.369028",
     "status": "completed"
    },
    "tags": []
   },
   "outputs": [],
   "source": [
    "footer()"
   ]
  },
  {
   "cell_type": "markdown",
   "id": "009d91f5-e119-43bb-95f6-486837be7a7e",
   "metadata": {
    "papermill": {
     "duration": 0.387911,
     "end_time": "2023-02-21T16:50:11.343773",
     "exception": false,
     "start_time": "2023-02-21T16:50:10.955862",
     "status": "completed"
    },
    "tags": []
   },
   "source": [
    "## HTML export"
   ]
  },
  {
   "cell_type": "code",
   "execution_count": null,
   "id": "223a8a40-b2d8-4296-b9c2-43a38d30607b",
   "metadata": {
    "papermill": {
     "duration": 0.271279,
     "end_time": "2023-02-21T16:50:11.881723",
     "exception": false,
     "start_time": "2023-02-21T16:50:11.610444",
     "status": "completed"
    },
    "tags": []
   },
   "outputs": [],
   "source": [
    "# May need to sleep for a few seconds after saving\n",
    "save_notebook()"
   ]
  },
  {
   "cell_type": "code",
   "execution_count": null,
   "id": "b6a35c5d-b424-4820-8d26-8be29b50c546",
   "metadata": {
    "papermill": {
     "duration": 8.406021,
     "end_time": "2023-02-21T16:50:20.585296",
     "exception": false,
     "start_time": "2023-02-21T16:50:12.179275",
     "status": "completed"
    },
    "tags": []
   },
   "outputs": [],
   "source": [
    "! jupyter nbconvert Timeline.ipynb --output-dir='../' --to=HTML --TagRemovePreprocessor.enabled=True --TagRemovePreprocessor.remove_cell_tags='exclude' --TemplateExporter.exclude_input=True --TemplateExporter.exclude_input_prompt=True --TemplateExporter.exclude_output_prompt=True"
   ]
  },
  {
   "cell_type": "markdown",
   "id": "82ca05e5-839d-4742-ba86-ac0c8f14c5b8",
   "metadata": {
    "papermill": {
     "duration": 0.250601,
     "end_time": "2023-02-21T16:50:21.100929",
     "exception": false,
     "start_time": "2023-02-21T16:50:20.850328",
     "status": "completed"
    },
    "tags": [
     "exclude"
    ]
   },
   "source": [
    "## Git"
   ]
  },
  {
   "cell_type": "code",
   "execution_count": null,
   "id": "cba1eb00-d9c2-491a-95b3-5ce0a0524d59",
   "metadata": {
    "papermill": {
     "duration": 2.719185,
     "end_time": "2023-02-21T16:50:24.074182",
     "exception": false,
     "start_time": "2023-02-21T16:50:21.354997",
     "status": "completed"
    },
    "tags": [
     "exclude"
    ]
   },
   "outputs": [],
   "source": [
    "! git add \"../*[Tt]imeline*\""
   ]
  },
  {
   "cell_type": "code",
   "execution_count": null,
   "id": "6f1f8303-30c6-4aaa-b45e-f6d5f5ece30e",
   "metadata": {
    "papermill": {
     "duration": 2.182706,
     "end_time": "2023-02-21T16:50:26.503172",
     "exception": false,
     "start_time": "2023-02-21T16:50:24.320466",
     "status": "completed"
    },
    "tags": [
     "exclude"
    ]
   },
   "outputs": [],
   "source": [
    "! git commit -m {\"'Timeline update-\" + pd.Timestamp.now().strftime(\"%d%m%Y\")+\"'\"}"
   ]
  }
 ],
 "metadata": {
  "kernelspec": {
   "display_name": "Python 3 (ipykernel)",
   "language": "python",
   "name": "python3"
  },
  "language_info": {
   "codemirror_mode": {
    "name": "ipython",
    "version": 3
   },
   "file_extension": ".py",
   "mimetype": "text/x-python",
   "name": "python",
   "nbconvert_exporter": "python",
   "pygments_lexer": "ipython3",
   "version": "3.10.8"
  },
  "papermill": {
   "default_parameters": {},
   "duration": 242.699391,
   "end_time": "2023-02-21T16:50:30.319300",
   "environment_variables": {},
   "exception": null,
   "input_path": "Timeline.ipynb",
   "output_path": "Timeline.ipynb",
   "parameters": {},
   "start_time": "2023-02-21T16:46:27.619909",
   "version": "2.4.0"
  },
  "toc": {
   "base_numbering": 1,
   "nav_menu": {},
   "number_sections": true,
   "sideBar": true,
   "skip_h1_title": false,
   "title_cell": "Table of Contents",
   "title_sidebar": "Contents",
   "toc_cell": true,
   "toc_position": {},
   "toc_section_display": true,
   "toc_window_display": true
  }
 },
 "nbformat": 4,
 "nbformat_minor": 5
}
