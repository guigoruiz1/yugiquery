{
 "cells": [
  {
   "cell_type": "code",
   "execution_count": null,
   "id": "a570071f-ec8c-496c-9960-2b4af3137f44",
   "metadata": {
    "papermill": {
     "duration": 2.331216,
     "end_time": "2023-12-03T18:29:21.735935",
     "exception": false,
     "start_time": "2023-12-03T18:29:19.404719",
     "status": "completed"
    },
    "tags": []
   },
   "outputs": [],
   "source": [
    "from yugiquery import *\n",
    "\n",
    "init_notebook_mode(all_interactive=True)\n",
    "\n",
    "header(\"Timeline\")"
   ]
  },
  {
   "cell_type": "markdown",
   "id": "d531326c-b92f-4c04-a301-83434217fa65",
   "metadata": {
    "papermill": {
     "duration": 0.07284,
     "end_time": "2023-12-03T18:29:21.837567",
     "exception": false,
     "start_time": "2023-12-03T18:29:21.764727",
     "status": "completed"
    },
    "tags": []
   },
   "source": [
    "---"
   ]
  },
  {
   "cell_type": "markdown",
   "id": "98c3721e",
   "metadata": {
    "papermill": {
     "duration": 0.029206,
     "end_time": "2023-12-03T18:29:21.896689",
     "exception": false,
     "start_time": "2023-12-03T18:29:21.867483",
     "status": "completed"
    },
    "tags": [],
    "toc": true
   },
   "source": [
    "Table of Contents\n",
    "=================\n",
    "\n",
    "*   [1  Data preparation](#Data-preparation)\n",
    "    *   [1.1  Load data](#Load-data)\n",
    "    *   [1.2  Format data](#Format-data)\n",
    "    *   [1.3  Merge data](#Merge-data)\n",
    "*   [4  Data visualization](#Data-visualization)\n",
    "    *   [4.1  First releases](#First-releases)\n",
    "        *   [4.1.1  By region](#By-region)\n",
    "    *   [4.1  Last releases](#Last-releases)\n",
    "        *   [4.1.1  By region](#By-region)\n",
    "    *   [4.2  All Releases](#All-Releases)\n",
    "        *   [4.2.1  By card type](#By-card-type)\n",
    "        *   [4.2.2  By primary type](#By-primary-type)\n",
    "        *   [4.2.3  By secondary type](#By-secondary-type)\n",
    "        *   [4.2.4  By attribute](#By-attribute)\n",
    "        *   [4.2.5  By monster type](#By-monster-type)\n",
    "        *   [4.2.6  By Level/Rank](#By-Level/Rank)\n",
    "        *   [4.2.7  By ATK](#By-ATK)\n",
    "        *   [4.2.8  By DEF](#By-DEF)\n",
    "        *   [4.2.9  By pendulum scale](#By-pendulum-scale)\n",
    "        *   [4.2.10  By link](#By-link)\n",
    "*   [5  Debug](#Debug)\n",
    "    *   [5.1  Merge failed](#Merge-failed)\n",
    "*   [6  Epilogue](#Epilogue)\n",
    "    *   [6.1  HTML export](#HTML-export)\n",
    "<!-- *   [6.2  Git](#Git) -->"
   ]
  },
  {
   "cell_type": "markdown",
   "id": "98e5146f-5f48-426c-b7be-07b64cd429e4",
   "metadata": {
    "papermill": {
     "duration": 0.029472,
     "end_time": "2023-12-03T18:29:21.962221",
     "exception": false,
     "start_time": "2023-12-03T18:29:21.932749",
     "status": "completed"
    },
    "tags": []
   },
   "source": [
    "# Data preparation"
   ]
  },
  {
   "cell_type": "code",
   "execution_count": null,
   "id": "aab57572-4f30-462c-b756-f1f13db30edc",
   "metadata": {
    "papermill": {
     "duration": 0.037695,
     "end_time": "2023-12-03T18:29:22.030874",
     "exception": false,
     "start_time": "2023-12-03T18:29:21.993179",
     "status": "completed"
    },
    "tags": []
   },
   "outputs": [],
   "source": [
    "timestamp = arrow.utcnow()"
   ]
  },
  {
   "cell_type": "markdown",
   "id": "df92295d-d124-4eea-ba54-a691fddf3d5c",
   "metadata": {
    "papermill": {
     "duration": 0.029002,
     "end_time": "2023-12-03T18:29:22.092763",
     "exception": false,
     "start_time": "2023-12-03T18:29:22.063761",
     "status": "completed"
    },
    "tags": []
   },
   "source": [
    "## Load data"
   ]
  },
  {
   "cell_type": "code",
   "execution_count": null,
   "id": "fe78d6ac-18e0-49d6-bdbf-43f9c11b15a0",
   "metadata": {
    "papermill": {
     "duration": 0.086233,
     "end_time": "2023-12-03T18:29:22.208932",
     "exception": false,
     "start_time": "2023-12-03T18:29:22.122699",
     "status": "completed"
    },
    "tags": []
   },
   "outputs": [],
   "source": [
    "# Load list of important dates\n",
    "with open(\"../assets/dates.json\", \"r\") as f:\n",
    "    dates_json = json.load(f)\n",
    "    anime_df = (\n",
    "        pd.DataFrame(dates_json[\"anime\"][\"series\"])\n",
    "        .set_index(\"title\")\n",
    "        .map(pd.to_datetime, dayfirst=True)\n",
    "    )\n",
    "    rules_df = (\n",
    "        pd.DataFrame(dates_json[\"rules\"])\n",
    "        .set_index(\"title\")\n",
    "        .map(pd.to_datetime, dayfirst=True)\n",
    "        .iloc[2:]\n",
    "    )  # Ignore old rules"
   ]
  },
  {
   "cell_type": "code",
   "execution_count": null,
   "id": "69b9995b-436e-4552-86d6-6dd4fabff8d0",
   "metadata": {
    "papermill": {
     "duration": 9.458222,
     "end_time": "2023-12-03T18:29:31.696929",
     "exception": false,
     "start_time": "2023-12-03T18:29:22.238707",
     "status": "completed"
    },
    "tags": []
   },
   "outputs": [],
   "source": [
    "# Get list of files\n",
    "all_cards_files = sorted(\n",
    "    glob.glob(\"../data/all_cards_*.bz2\"), key=os.path.getctime, reverse=True\n",
    ")\n",
    "all_speed_files = sorted(\n",
    "    glob.glob(\"../data/all_speed_*.bz2\"), key=os.path.getctime, reverse=True\n",
    ")\n",
    "set_lists_files = sorted(\n",
    "    glob.glob(\"../data/all_sets_*.bz2\"), key=os.path.getctime, reverse=True\n",
    ")\n",
    "\n",
    "# Tuple columns\n",
    "tuple_cols = [\n",
    "    \"Secondary type\",\n",
    "    \"Effect type\",\n",
    "    \"Link Arrows\",\n",
    "    \"Archseries\",\n",
    "    \"Artwork\",\n",
    "    \"Errata\",\n",
    "    \"Rarity\",\n",
    "    \"Cover card\",\n",
    "]\n",
    "\n",
    "# Get newest file if exist\n",
    "if all_cards_files:\n",
    "    all_cards_df = pd.read_csv(all_cards_files[0], dtype=object)\n",
    "    # Correct tuples\n",
    "    for col in tuple_cols:\n",
    "        if col in all_cards_df:\n",
    "            all_cards_df[col] = all_cards_df[col].dropna().apply(literal_eval)\n",
    "\n",
    "    print(\"Cards file loaded\")\n",
    "else:\n",
    "    all_cards_df = None\n",
    "    print(\"No cards files\")\n",
    "\n",
    "if all_speed_files:\n",
    "    all_speed_df = pd.read_csv(all_speed_files[0], dtype=object)\n",
    "    # Correct tuples\n",
    "    for col in tuple_cols:\n",
    "        if col in all_speed_df:\n",
    "            all_speed_df[col] = all_speed_df[col].dropna().apply(literal_eval)\n",
    "\n",
    "    print(\"Speed duel cards file loaded\")\n",
    "else:\n",
    "    all_cards_df = None\n",
    "    print(\"No speed duel files\")\n",
    "\n",
    "if set_lists_files:\n",
    "    set_lists_df = pd.read_csv(set_lists_files[0], dtype=object)\n",
    "    # Correct tuples\n",
    "    for col in tuple_cols:\n",
    "        if col in set_lists_df:\n",
    "            set_lists_df[col] = set_lists_df[col].dropna().apply(literal_eval)\n",
    "\n",
    "    print(\"Sets file loaded\")\n",
    "else:\n",
    "    set_lists_df = None\n",
    "    print(\"No set lists files\")"
   ]
  },
  {
   "cell_type": "markdown",
   "id": "b05d12f3-69b3-4fb8-9d38-00a4220faed6",
   "metadata": {
    "papermill": {
     "duration": 0.029483,
     "end_time": "2023-12-03T18:29:31.755745",
     "exception": false,
     "start_time": "2023-12-03T18:29:31.726262",
     "status": "completed"
    },
    "tags": []
   },
   "source": [
    "## Format data"
   ]
  },
  {
   "cell_type": "code",
   "execution_count": null,
   "id": "408e1580-2904-4d6b-83f3-6be83500fb78",
   "metadata": {
    "papermill": {
     "duration": 0.362613,
     "end_time": "2023-12-03T18:29:32.152106",
     "exception": false,
     "start_time": "2023-12-03T18:29:31.789493",
     "status": "completed"
    },
    "tags": []
   },
   "outputs": [],
   "source": [
    "df_list = [all_cards_df, all_speed_df, set_lists_df]\n",
    "if all(item is not None for item in df_list):\n",
    "    for df in df_list:\n",
    "        df[\"index\"] = df[\"Name\"].str.lower().str.replace(\"#\", \"\")\n",
    "        df[\"Modification date\"] = pd.to_datetime(df[\"Modification date\"])\n",
    "\n",
    "    set_lists_df[\"Release\"] = pd.to_datetime(set_lists_df[\"Release\"])\n",
    "\n",
    "else:\n",
    "    raise SystemExit(\"Not enough files to proceed. Aborting!\")"
   ]
  },
  {
   "cell_type": "markdown",
   "id": "e976bec2-3c0d-40d0-9a2e-6c1bb6b38059",
   "metadata": {
    "papermill": {
     "duration": 0.052053,
     "end_time": "2023-12-03T18:29:32.239508",
     "exception": false,
     "start_time": "2023-12-03T18:29:32.187455",
     "status": "completed"
    },
    "tags": []
   },
   "source": [
    "## Merge data"
   ]
  },
  {
   "cell_type": "code",
   "execution_count": null,
   "id": "6c1545b5-1ae1-4ae6-be8f-0e8eaac93080",
   "metadata": {
    "papermill": {
     "duration": 2.918561,
     "end_time": "2023-12-03T18:29:35.188621",
     "exception": false,
     "start_time": "2023-12-03T18:29:32.270060",
     "status": "completed"
    },
    "tags": []
   },
   "outputs": [],
   "source": [
    "full_df = pd.concat([all_cards_df, all_speed_df]).drop_duplicates(ignore_index=True)\n",
    "full_df = full_df.merge(set_lists_df, how=\"inner\", on=\"index\")\n",
    "full_df = full_df.convert_dtypes()\n",
    "full_df[\"Modification date\"] = full_df[\n",
    "    [\"Modification date_x\", \"Modification date_y\"]\n",
    "].max(axis=1)\n",
    "full_df[\"Name\"] = full_df[\"Name_x\"].fillna(full_df[\"Name_y\"])\n",
    "full_df.drop(\n",
    "    [\"index\", \"Name_x\", \"Name_y\", \"Modification date_x\", \"Modification date_y\"],\n",
    "    axis=1,\n",
    "    inplace=True,\n",
    ")\n",
    "full_df.rename(\n",
    "    columns={\"Page URL_x\": \"Card page URL\", \"Page URL_y\": \"Set page URL\"}, inplace=True\n",
    ")\n",
    "full_df = full_df[np.append(full_df.columns[-1:], full_df.columns[:-1])]"
   ]
  },
  {
   "cell_type": "markdown",
   "id": "f7c5cdf1-3f40-4d35-83b8-690933ba52a3",
   "metadata": {
    "papermill": {
     "duration": 0.063622,
     "end_time": "2023-12-03T18:29:35.293163",
     "exception": false,
     "start_time": "2023-12-03T18:29:35.229541",
     "status": "completed"
    },
    "tags": []
   },
   "source": [
    "# Data visualization"
   ]
  },
  {
   "cell_type": "code",
   "execution_count": null,
   "id": "10cbbdb2-ecd3-4a9e-a804-b9186febc279",
   "metadata": {
    "papermill": {
     "duration": 0.20712,
     "end_time": "2023-12-03T18:29:35.533576",
     "exception": false,
     "start_time": "2023-12-03T18:29:35.326456",
     "status": "completed"
    },
    "tags": []
   },
   "outputs": [],
   "source": [
    "full_df"
   ]
  },
  {
   "cell_type": "markdown",
   "id": "717be58b-4909-4892-ae15-844b7cb7b58c",
   "metadata": {
    "jp-MarkdownHeadingCollapsed": true,
    "papermill": {
     "duration": 0.158247,
     "end_time": "2023-12-03T18:29:35.727530",
     "exception": false,
     "start_time": "2023-12-03T18:29:35.569283",
     "status": "completed"
    },
    "tags": []
   },
   "source": [
    "## First releases"
   ]
  },
  {
   "cell_type": "markdown",
   "id": "4905c1fd-7e61-4bbb-9c82-953a9a4fd78f",
   "metadata": {
    "papermill": {
     "duration": 0.03388,
     "end_time": "2023-12-03T18:29:35.797875",
     "exception": false,
     "start_time": "2023-12-03T18:29:35.763995",
     "status": "completed"
    },
    "tags": []
   },
   "source": [
    "Obs: Only the first release of an individual card name"
   ]
  },
  {
   "cell_type": "code",
   "execution_count": null,
   "id": "51839140-77f4-4da6-bba6-f55d9a31c7f6",
   "metadata": {
    "papermill": {
     "duration": 0.690169,
     "end_time": "2023-12-03T18:29:36.521863",
     "exception": false,
     "start_time": "2023-12-03T18:29:35.831694",
     "status": "completed"
    },
    "tags": []
   },
   "outputs": [],
   "source": [
    "first_release = (\n",
    "    full_df[full_df[\"Release\"].notna()].groupby(\"Name\")[\"Release\"].agg(\"min\")\n",
    ")\n",
    "first_release.to_frame(name=\"First release\")"
   ]
  },
  {
   "cell_type": "code",
   "execution_count": null,
   "id": "6a1f1af8-a056-4045-bbaf-ea422db3d0a4",
   "metadata": {
    "papermill": {
     "duration": 2.654262,
     "end_time": "2023-12-03T18:29:39.219166",
     "exception": false,
     "start_time": "2023-12-03T18:29:36.564904",
     "status": "completed"
    },
    "tags": []
   },
   "outputs": [],
   "source": [
    "first_release_count = (\n",
    "    first_release.sort_values().value_counts(sort=False).to_frame(name=\"All cards\")\n",
    ")\n",
    "first_release_count.index.name = \"First Release\"\n",
    "rate_plot(first_release_count, bg=anime_df, vlines=rules_df[\"begin\"])"
   ]
  },
  {
   "cell_type": "markdown",
   "id": "b90d74bd-ac81-4289-a2e0-9e49bddfa6c4",
   "metadata": {
    "papermill": {
     "duration": 0.042629,
     "end_time": "2023-12-03T18:29:39.309887",
     "exception": false,
     "start_time": "2023-12-03T18:29:39.267258",
     "status": "completed"
    },
    "tags": []
   },
   "source": [
    "### By region"
   ]
  },
  {
   "cell_type": "code",
   "execution_count": null,
   "id": "d39f5310-38c4-41a7-94d7-6f8355a0d1f9",
   "metadata": {
    "papermill": {
     "duration": 0.812991,
     "end_time": "2023-12-03T18:29:40.164782",
     "exception": false,
     "start_time": "2023-12-03T18:29:39.351791",
     "status": "completed"
    },
    "tags": []
   },
   "outputs": [],
   "source": [
    "first_release_region = (\n",
    "    full_df[full_df[\"Release\"].notna()]\n",
    "    .groupby([\"Region\", \"Name\"])[\"Release\"]\n",
    "    .agg(\"min\")\n",
    ")\n",
    "first_release_region.to_frame(name=\"First release\")"
   ]
  },
  {
   "cell_type": "code",
   "execution_count": null,
   "id": "9d7c4e83-fa20-487f-b8ff-51552ac28e7b",
   "metadata": {
    "papermill": {
     "duration": 38.314969,
     "end_time": "2023-12-03T18:30:18.532970",
     "exception": false,
     "start_time": "2023-12-03T18:29:40.218001",
     "status": "completed"
    },
    "tags": []
   },
   "outputs": [],
   "source": [
    "first_release_region_count = (\n",
    "    first_release_region.sort_values()\n",
    "    .groupby([\"Region\"])\n",
    "    .value_counts(sort=False)\n",
    "    .unstack(0)\n",
    "    .fillna(0)\n",
    "    .round(0)\n",
    ")\n",
    "first_release_region_count.index.name = \"Release\"\n",
    "rate_subplots(\n",
    "    first_release_region_count,\n",
    "    title=\"First Release\",\n",
    "    bg=anime_df,\n",
    "    vlines=rules_df[\"begin\"],\n",
    ")"
   ]
  },
  {
   "cell_type": "markdown",
   "id": "68ed7e48-cdd1-49e5-996d-771b0aa476b2",
   "metadata": {
    "jp-MarkdownHeadingCollapsed": true,
    "papermill": {
     "duration": 0.088174,
     "end_time": "2023-12-03T18:30:18.774926",
     "exception": false,
     "start_time": "2023-12-03T18:30:18.686752",
     "status": "completed"
    },
    "tags": []
   },
   "source": [
    "## Last releases"
   ]
  },
  {
   "cell_type": "markdown",
   "id": "1adfdf14-386c-4766-ab1e-634c69028b09",
   "metadata": {
    "papermill": {
     "duration": 0.336515,
     "end_time": "2023-12-03T18:30:19.218193",
     "exception": false,
     "start_time": "2023-12-03T18:30:18.881678",
     "status": "completed"
    },
    "tags": []
   },
   "source": [
    "Obs: Only the last release of an individual card name"
   ]
  },
  {
   "cell_type": "code",
   "execution_count": null,
   "id": "4ed37661-d2b2-4427-bbea-39e2764810c0",
   "metadata": {
    "papermill": {
     "duration": 1.347105,
     "end_time": "2023-12-03T18:30:20.730676",
     "exception": false,
     "start_time": "2023-12-03T18:30:19.383571",
     "status": "completed"
    },
    "tags": []
   },
   "outputs": [],
   "source": [
    "last_release = full_df[full_df[\"Release\"].notna()].groupby(\"Name\")[\"Release\"].agg(\"max\")\n",
    "last_release.to_frame(name=\"Last release\")"
   ]
  },
  {
   "cell_type": "code",
   "execution_count": null,
   "id": "82e7e343-9ec4-4ff8-b8e9-59af5100ee79",
   "metadata": {
    "papermill": {
     "duration": 2.698348,
     "end_time": "2023-12-03T18:30:23.522897",
     "exception": false,
     "start_time": "2023-12-03T18:30:20.824549",
     "status": "completed"
    },
    "tags": []
   },
   "outputs": [],
   "source": [
    "last_release_count = (\n",
    "    last_release.sort_values().value_counts(sort=False).to_frame(name=\"All cards\")\n",
    ")\n",
    "last_release_count.index.name = \"Last Release\"\n",
    "rate_plot(last_release_count, bg=anime_df, vlines=rules_df[\"begin\"])"
   ]
  },
  {
   "cell_type": "markdown",
   "id": "df0f880e-2a39-42fd-8ad4-6eda067f4476",
   "metadata": {
    "papermill": {
     "duration": 0.13516,
     "end_time": "2023-12-03T18:30:23.758697",
     "exception": false,
     "start_time": "2023-12-03T18:30:23.623537",
     "status": "completed"
    },
    "tags": []
   },
   "source": [
    "### By region"
   ]
  },
  {
   "cell_type": "code",
   "execution_count": null,
   "id": "c9d718d3-37a0-4ef3-9d5b-fceba8bb60dd",
   "metadata": {
    "papermill": {
     "duration": 0.870765,
     "end_time": "2023-12-03T18:30:24.723996",
     "exception": false,
     "start_time": "2023-12-03T18:30:23.853231",
     "status": "completed"
    },
    "tags": []
   },
   "outputs": [],
   "source": [
    "last_release_region = (\n",
    "    full_df[full_df[\"Release\"].notna()]\n",
    "    .groupby([\"Region\", \"Name\"])[\"Release\"]\n",
    "    .agg(\"max\")\n",
    ")\n",
    "last_release_region.to_frame(name=\"Last release\")"
   ]
  },
  {
   "cell_type": "code",
   "execution_count": null,
   "id": "0a708d8b-781e-412a-ae3e-7a89c029065d",
   "metadata": {
    "papermill": {
     "duration": 37.69636,
     "end_time": "2023-12-03T18:31:02.563122",
     "exception": false,
     "start_time": "2023-12-03T18:30:24.866762",
     "status": "completed"
    },
    "tags": []
   },
   "outputs": [],
   "source": [
    "last_release_region_count = (\n",
    "    last_release_region.sort_values()\n",
    "    .groupby([\"Region\"])\n",
    "    .value_counts(sort=False)\n",
    "    .unstack(0)\n",
    "    .fillna(0)\n",
    "    .round(0)\n",
    ")\n",
    "last_release_region_count.index.name = \"Release\"\n",
    "rate_subplots(\n",
    "    last_release_region_count,\n",
    "    title=\"Last Release\",\n",
    "    bg=anime_df,\n",
    "    vlines=rules_df[\"begin\"],\n",
    ")"
   ]
  },
  {
   "cell_type": "markdown",
   "id": "811538f6-77b2-4736-8feb-022abeddeb5c",
   "metadata": {
    "papermill": {
     "duration": 0.124236,
     "end_time": "2023-12-03T18:31:02.819271",
     "exception": false,
     "start_time": "2023-12-03T18:31:02.695035",
     "status": "completed"
    },
    "tags": []
   },
   "source": [
    "## All Releases"
   ]
  },
  {
   "cell_type": "markdown",
   "id": "010ccac6-74c5-46dd-9b23-7a0a3fd5a1c1",
   "metadata": {
    "papermill": {
     "duration": 0.126774,
     "end_time": "2023-12-03T18:31:03.080564",
     "exception": false,
     "start_time": "2023-12-03T18:31:02.953790",
     "status": "completed"
    },
    "tags": []
   },
   "source": [
    "Obs: All releases includes reprints"
   ]
  },
  {
   "cell_type": "code",
   "execution_count": null,
   "id": "41e15306-2ffd-4d6e-b5c5-5f7ccd01618f",
   "metadata": {
    "papermill": {
     "duration": 2.622977,
     "end_time": "2023-12-03T18:31:05.830176",
     "exception": false,
     "start_time": "2023-12-03T18:31:03.207199",
     "status": "completed"
    },
    "tags": []
   },
   "outputs": [],
   "source": [
    "all_releases = (\n",
    "    full_df[\"Release\"][full_df[\"Release\"].notna()]\n",
    "    .value_counts()\n",
    "    .sort_index()\n",
    "    .to_frame()\n",
    ")\n",
    "all_releases.index.name = \"All releases\"\n",
    "rate_plot(all_releases, bg=anime_df, vlines=rules_df[\"begin\"])"
   ]
  },
  {
   "cell_type": "markdown",
   "id": "0a191a3e-66bb-450e-9b37-f1ebb15c3d7e",
   "metadata": {
    "papermill": {
     "duration": 0.131636,
     "end_time": "2023-12-03T18:31:06.098048",
     "exception": false,
     "start_time": "2023-12-03T18:31:05.966412",
     "status": "completed"
    },
    "tags": []
   },
   "source": [
    "### By card type"
   ]
  },
  {
   "cell_type": "code",
   "execution_count": null,
   "id": "0621222f-c793-4206-8344-eaac4c55a75c",
   "metadata": {
    "papermill": {
     "duration": 0.364504,
     "end_time": "2023-12-03T18:31:06.597713",
     "exception": false,
     "start_time": "2023-12-03T18:31:06.233209",
     "status": "completed"
    },
    "tags": []
   },
   "outputs": [],
   "source": [
    "# All releases, includes reprints - Double check\n",
    "release_card_type = (\n",
    "    full_df.groupby([\"Card type\", \"Release\"])[\"Name\"]\n",
    "    .nunique()\n",
    "    .unstack(0)\n",
    "    .sort_index()\n",
    "    .fillna(0)\n",
    "    .astype(int)\n",
    ")\n",
    "release_card_type.groupby(release_card_type.index.strftime(\"%Y\")).sum().T"
   ]
  },
  {
   "cell_type": "code",
   "execution_count": null,
   "id": "b8fe7da4-23e5-490a-992a-f5837f3dc216",
   "metadata": {
    "papermill": {
     "duration": 2.420032,
     "end_time": "2023-12-03T18:31:09.154074",
     "exception": false,
     "start_time": "2023-12-03T18:31:06.734042",
     "status": "completed"
    },
    "tags": []
   },
   "outputs": [],
   "source": [
    "card_type_colors = [colors_dict[col] for col in release_card_type.columns]\n",
    "rate_plot(\n",
    "    release_card_type, colors=card_type_colors, bg=anime_df, vlines=rules_df[\"begin\"]\n",
    ")"
   ]
  },
  {
   "cell_type": "markdown",
   "id": "bd7a3a56-f0ba-4f3a-acab-d6edadd57b9e",
   "metadata": {
    "papermill": {
     "duration": 0.136653,
     "end_time": "2023-12-03T18:31:09.427629",
     "exception": false,
     "start_time": "2023-12-03T18:31:09.290976",
     "status": "completed"
    },
    "tags": []
   },
   "source": [
    "### By primary type"
   ]
  },
  {
   "cell_type": "code",
   "execution_count": null,
   "id": "e2da2a9b-df09-4b05-9d52-564e81b1787f",
   "metadata": {
    "papermill": {
     "duration": 0.342859,
     "end_time": "2023-12-03T18:31:09.920211",
     "exception": false,
     "start_time": "2023-12-03T18:31:09.577352",
     "status": "completed"
    },
    "tags": []
   },
   "outputs": [],
   "source": [
    "# All releases, includes reprints - Double check\n",
    "# Sort properly\n",
    "release_primary_type = (\n",
    "    full_df.groupby([\"Primary type\", \"Release\"])[\"Name\"]\n",
    "    .nunique()\n",
    "    .unstack(0)\n",
    "    .sort_index()\n",
    "    .fillna(0)\n",
    "    .astype(int)\n",
    ")\n",
    "release_primary_type.groupby(release_primary_type.index.strftime(\"%Y\")).sum().T"
   ]
  },
  {
   "cell_type": "code",
   "execution_count": null,
   "id": "0986f91b-b91d-47b2-9d9a-3c0e51127d1b",
   "metadata": {
    "papermill": {
     "duration": 2.60909,
     "end_time": "2023-12-03T18:31:12.664374",
     "exception": false,
     "start_time": "2023-12-03T18:31:10.055284",
     "status": "completed"
    },
    "tags": []
   },
   "outputs": [],
   "source": [
    "primary_type_colors = [colors_dict[col] for col in release_primary_type.columns]\n",
    "rate_plot(\n",
    "    release_primary_type,\n",
    "    colors=primary_type_colors,\n",
    "    bg=anime_df,\n",
    "    vlines=rules_df[\"begin\"],\n",
    ")"
   ]
  },
  {
   "cell_type": "markdown",
   "id": "61ca539a-6816-4937-bbd6-6ec7b053fbc6",
   "metadata": {
    "papermill": {
     "duration": 0.135605,
     "end_time": "2023-12-03T18:31:13.004358",
     "exception": false,
     "start_time": "2023-12-03T18:31:12.868753",
     "status": "completed"
    },
    "tags": []
   },
   "source": [
    "### By secondary type"
   ]
  },
  {
   "cell_type": "code",
   "execution_count": null,
   "id": "9b3e4e1f-e27a-4c16-98f0-5811faf48122",
   "metadata": {
    "papermill": {
     "duration": 3.465134,
     "end_time": "2023-12-03T18:31:16.612422",
     "exception": false,
     "start_time": "2023-12-03T18:31:13.147288",
     "status": "completed"
    },
    "tags": []
   },
   "outputs": [],
   "source": [
    "# All releases, includes reprints - Double check\n",
    "# Sort properly\n",
    "release_secondary_type = (\n",
    "    full_df.explode(\"Secondary type\")\n",
    "    .groupby([\"Secondary type\", \"Release\"])[\"Name\"]\n",
    "    .nunique()\n",
    "    .unstack(0)\n",
    "    .sort_index()\n",
    "    .fillna(0)\n",
    "    .astype(int)\n",
    ")\n",
    "release_secondary_type.groupby(release_secondary_type.index.strftime(\"%Y\")).sum().T"
   ]
  },
  {
   "cell_type": "code",
   "execution_count": null,
   "id": "83fcc4ac-1866-42a2-9e11-2bb2df518b04",
   "metadata": {
    "papermill": {
     "duration": 2.572162,
     "end_time": "2023-12-03T18:31:19.395140",
     "exception": false,
     "start_time": "2023-12-03T18:31:16.822978",
     "status": "completed"
    },
    "tags": []
   },
   "outputs": [],
   "source": [
    "rate_plot(release_secondary_type, bg=anime_df, vlines=rules_df[\"begin\"])"
   ]
  },
  {
   "cell_type": "markdown",
   "id": "426d9713-0e0c-4af3-9e5f-5ed3e5e5a0c1",
   "metadata": {
    "papermill": {
     "duration": 0.138735,
     "end_time": "2023-12-03T18:31:19.752311",
     "exception": false,
     "start_time": "2023-12-03T18:31:19.613576",
     "status": "completed"
    },
    "tags": []
   },
   "source": [
    "### By attribute"
   ]
  },
  {
   "cell_type": "code",
   "execution_count": null,
   "id": "3bb3fed2-3036-4194-8c87-620f0a237f5a",
   "metadata": {
    "papermill": {
     "duration": 0.353317,
     "end_time": "2023-12-03T18:31:20.251918",
     "exception": false,
     "start_time": "2023-12-03T18:31:19.898601",
     "status": "completed"
    },
    "tags": []
   },
   "outputs": [],
   "source": [
    "# All releases, includes reprints - Double check\n",
    "# Sort properly\n",
    "release_attribute = (\n",
    "    full_df.groupby([\"Attribute\", \"Release\"])[\"Name\"]\n",
    "    .nunique()\n",
    "    .unstack(0)\n",
    "    .sort_index()\n",
    "    .fillna(0)\n",
    "    .astype(int)\n",
    ")\n",
    "release_attribute.groupby(release_attribute.index.strftime(\"%Y\")).sum().T"
   ]
  },
  {
   "cell_type": "code",
   "execution_count": null,
   "id": "967d93eb-03ef-4feb-8a8c-3ee7a9f10b24",
   "metadata": {
    "papermill": {
     "duration": 3.198621,
     "end_time": "2023-12-03T18:31:23.685341",
     "exception": false,
     "start_time": "2023-12-03T18:31:20.486720",
     "status": "completed"
    },
    "tags": []
   },
   "outputs": [],
   "source": [
    "attribute_colors = [colors_dict[col] for col in release_attribute.columns]\n",
    "rate_plot(\n",
    "    release_attribute,\n",
    "    colors=attribute_colors,\n",
    "    bg=anime_df,\n",
    "    vlines=rules_df[\"begin\"],\n",
    "    cumsum=True,\n",
    ")"
   ]
  },
  {
   "cell_type": "markdown",
   "id": "5eb10e4e-fddb-4e03-9766-444c9b4a69ed",
   "metadata": {
    "papermill": {
     "duration": 0.14459,
     "end_time": "2023-12-03T18:31:23.979144",
     "exception": false,
     "start_time": "2023-12-03T18:31:23.834554",
     "status": "completed"
    },
    "tags": []
   },
   "source": [
    "### By monster type"
   ]
  },
  {
   "cell_type": "code",
   "execution_count": null,
   "id": "99f3ca8c-0a4b-4082-b8d0-051267460320",
   "metadata": {
    "papermill": {
     "duration": 0.367749,
     "end_time": "2023-12-03T18:31:24.494875",
     "exception": false,
     "start_time": "2023-12-03T18:31:24.127126",
     "status": "completed"
    },
    "tags": []
   },
   "outputs": [],
   "source": [
    "# All releases, includes reprints - Double check\n",
    "# Sort properly\n",
    "release_monster_type = (\n",
    "    full_df.groupby([\"Monster type\", \"Release\"])[\"Name\"]\n",
    "    .nunique()\n",
    "    .unstack(0)\n",
    "    .sort_index()\n",
    "    .fillna(0)\n",
    "    .astype(int)\n",
    ")\n",
    "release_monster_type.groupby(release_monster_type.index.strftime(\"%Y\")).sum().T"
   ]
  },
  {
   "cell_type": "code",
   "execution_count": null,
   "id": "83ec20a7-eb56-485e-9282-5dcc6ee89cf5",
   "metadata": {
    "papermill": {
     "duration": 71.733951,
     "end_time": "2023-12-03T18:32:36.435172",
     "exception": false,
     "start_time": "2023-12-03T18:31:24.701221",
     "status": "completed"
    },
    "tags": []
   },
   "outputs": [],
   "source": [
    "rate_subplots(release_monster_type, bg=anime_df, vlines=rules_df[\"begin\"])"
   ]
  },
  {
   "cell_type": "markdown",
   "id": "ccd8df1f-8f20-4d07-855c-1b78f29d9e4a",
   "metadata": {
    "papermill": {
     "duration": 0.225297,
     "end_time": "2023-12-03T18:32:36.888263",
     "exception": false,
     "start_time": "2023-12-03T18:32:36.662966",
     "status": "completed"
    },
    "tags": []
   },
   "source": [
    "### By Level/Rank"
   ]
  },
  {
   "cell_type": "code",
   "execution_count": null,
   "id": "35f4e012-fc2c-4fdf-bf83-dff4807a6b36",
   "metadata": {
    "papermill": {
     "duration": 8.732162,
     "end_time": "2023-12-03T18:32:45.849835",
     "exception": false,
     "start_time": "2023-12-03T18:32:37.117673",
     "status": "completed"
    },
    "tags": []
   },
   "outputs": [],
   "source": [
    "boxplot(full_df[[\"Release\", \"Level/Rank\"]], color=colors_dict[\"Level\"], notch=True)"
   ]
  },
  {
   "cell_type": "markdown",
   "id": "d5f37c9c-60ea-4d1a-98a1-566c71a888f4",
   "metadata": {
    "papermill": {
     "duration": 0.221326,
     "end_time": "2023-12-03T18:32:46.358350",
     "exception": false,
     "start_time": "2023-12-03T18:32:46.137024",
     "status": "completed"
    },
    "tags": []
   },
   "source": [
    "### By ATK"
   ]
  },
  {
   "cell_type": "code",
   "execution_count": null,
   "id": "a9943fd3-81e3-4718-b02b-7a1c47d52590",
   "metadata": {
    "papermill": {
     "duration": 8.23916,
     "end_time": "2023-12-03T18:32:54.830949",
     "exception": false,
     "start_time": "2023-12-03T18:32:46.591789",
     "status": "completed"
    },
    "tags": []
   },
   "outputs": [],
   "source": [
    "boxplot(full_df[[\"Release\", \"ATK\"]], color=colors_dict[\"Effect Monster\"], notch=True)"
   ]
  },
  {
   "cell_type": "markdown",
   "id": "d1182406-c948-4f81-bcac-db2d4b7a912d",
   "metadata": {
    "papermill": {
     "duration": 0.243926,
     "end_time": "2023-12-03T18:32:55.304416",
     "exception": false,
     "start_time": "2023-12-03T18:32:55.060490",
     "status": "completed"
    },
    "tags": []
   },
   "source": [
    "### By DEF"
   ]
  },
  {
   "cell_type": "code",
   "execution_count": null,
   "id": "54cfccd2-f677-4ab8-81c0-e794a1015872",
   "metadata": {
    "papermill": {
     "duration": 8.056174,
     "end_time": "2023-12-03T18:33:03.589940",
     "exception": false,
     "start_time": "2023-12-03T18:32:55.533766",
     "status": "completed"
    },
    "tags": []
   },
   "outputs": [],
   "source": [
    "boxplot(full_df[[\"Release\", \"DEF\"]], color=colors_dict[\"Effect Monster\"], notch=True)"
   ]
  },
  {
   "cell_type": "markdown",
   "id": "1d8dd39e-5075-49c7-9ea8-a6255f1684e9",
   "metadata": {
    "papermill": {
     "duration": 0.270844,
     "end_time": "2023-12-03T18:33:04.093308",
     "exception": false,
     "start_time": "2023-12-03T18:33:03.822464",
     "status": "completed"
    },
    "tags": []
   },
   "source": [
    "### By pendulum scale"
   ]
  },
  {
   "cell_type": "code",
   "execution_count": null,
   "id": "29c1d59e-ba6c-4138-89d2-c8eb9d563f2e",
   "metadata": {
    "papermill": {
     "duration": 0.945663,
     "end_time": "2023-12-03T18:33:05.269454",
     "exception": false,
     "start_time": "2023-12-03T18:33:04.323791",
     "status": "completed"
    },
    "tags": []
   },
   "outputs": [],
   "source": [
    "boxplot(\n",
    "    full_df[[\"Release\", \"Pendulum Scale\"]],\n",
    "    color=colors_dict[\"Pendulum Monster\"],\n",
    "    notch=True,\n",
    ")"
   ]
  },
  {
   "cell_type": "markdown",
   "id": "75b2d1e5-5cd5-4bee-8f29-2d3e63bb777d",
   "metadata": {
    "papermill": {
     "duration": 0.227312,
     "end_time": "2023-12-03T18:33:05.801130",
     "exception": false,
     "start_time": "2023-12-03T18:33:05.573818",
     "status": "completed"
    },
    "tags": []
   },
   "source": [
    "### By link"
   ]
  },
  {
   "cell_type": "code",
   "execution_count": null,
   "id": "8971fc23-7364-43a9-b65d-d5c3dc138205",
   "metadata": {
    "papermill": {
     "duration": 0.884413,
     "end_time": "2023-12-03T18:33:06.919843",
     "exception": false,
     "start_time": "2023-12-03T18:33:06.035430",
     "status": "completed"
    },
    "tags": []
   },
   "outputs": [],
   "source": [
    "boxplot(full_df[[\"Release\", \"Link\"]], color=colors_dict[\"Link Monster\"])"
   ]
  },
  {
   "cell_type": "markdown",
   "id": "4951f8e7-5726-4a0d-95fd-e124ecfc0122",
   "metadata": {
    "papermill": {
     "duration": 0.227933,
     "end_time": "2023-12-03T18:33:07.382791",
     "exception": false,
     "start_time": "2023-12-03T18:33:07.154858",
     "status": "completed"
    },
    "tags": []
   },
   "source": [
    "# Debug"
   ]
  },
  {
   "cell_type": "markdown",
   "id": "53c24421-dc1e-4386-96b4-4bd9c23eeecd",
   "metadata": {
    "papermill": {
     "duration": 0.224253,
     "end_time": "2023-12-03T18:33:07.839709",
     "exception": false,
     "start_time": "2023-12-03T18:33:07.615456",
     "status": "completed"
    },
    "tags": []
   },
   "source": [
    "## Merge failed"
   ]
  },
  {
   "cell_type": "code",
   "execution_count": null,
   "id": "b609be14-100d-42b3-ab57-335afa834b6e",
   "metadata": {
    "papermill": {
     "duration": 0.307598,
     "end_time": "2023-12-03T18:33:08.397454",
     "exception": false,
     "start_time": "2023-12-03T18:33:08.089856",
     "status": "completed"
    },
    "tags": []
   },
   "outputs": [],
   "source": [
    "all_cards_df.where(~all_cards_df[\"Name\"].isin(full_df[\"Name\"])).dropna(how=\"all\")"
   ]
  },
  {
   "cell_type": "code",
   "execution_count": null,
   "id": "aecfb79b-d289-4b85-a997-3582fba70e09",
   "metadata": {
    "papermill": {
     "duration": 0.902248,
     "end_time": "2023-12-03T18:33:09.570561",
     "exception": false,
     "start_time": "2023-12-03T18:33:08.668313",
     "status": "completed"
    },
    "tags": []
   },
   "outputs": [],
   "source": [
    "set_lists_df.where(\n",
    "    (~set_lists_df[\"Card number\"].isin(full_df[\"Card number\"]))\n",
    "    & (~set_lists_df[\"Card number\"].dropna().str.startswith(\"RD/\"))\n",
    ").dropna(how=\"all\")"
   ]
  },
  {
   "cell_type": "markdown",
   "id": "9cdbfc4e-71d0-41e4-a421-73bf3a98e734",
   "metadata": {
    "papermill": {
     "duration": 0.231605,
     "end_time": "2023-12-03T18:33:10.109983",
     "exception": false,
     "start_time": "2023-12-03T18:33:09.878378",
     "status": "completed"
    },
    "tags": []
   },
   "source": [
    " # Epilogue"
   ]
  },
  {
   "cell_type": "code",
   "execution_count": null,
   "id": "56a507f9-1007-4a67-9bc8-bd11010b20ae",
   "metadata": {
    "papermill": {
     "duration": 0.479625,
     "end_time": "2023-12-03T18:33:10.828838",
     "exception": false,
     "start_time": "2023-12-03T18:33:10.349213",
     "status": "completed"
    },
    "tags": []
   },
   "outputs": [],
   "source": [
    "benchmark(report=\"timeline\", timestamp=timestamp)"
   ]
  },
  {
   "cell_type": "code",
   "execution_count": null,
   "id": "479dc549-52ce-4e36-b0a5-ff555459ea23",
   "metadata": {
    "papermill": {
     "duration": 0.257408,
     "end_time": "2023-12-03T18:33:11.358329",
     "exception": false,
     "start_time": "2023-12-03T18:33:11.100921",
     "status": "completed"
    },
    "tags": []
   },
   "outputs": [],
   "source": [
    "footer()"
   ]
  },
  {
   "cell_type": "markdown",
   "id": "009d91f5-e119-43bb-95f6-486837be7a7e",
   "metadata": {
    "papermill": {
     "duration": 0.230407,
     "end_time": "2023-12-03T18:33:11.827124",
     "exception": false,
     "start_time": "2023-12-03T18:33:11.596717",
     "status": "completed"
    },
    "tags": []
   },
   "source": [
    "## HTML export"
   ]
  },
  {
   "cell_type": "code",
   "execution_count": null,
   "id": "223a8a40-b2d8-4296-b9c2-43a38d30607b",
   "metadata": {
    "papermill": {
     "duration": 0.252601,
     "end_time": "2023-12-03T18:33:12.321541",
     "exception": false,
     "start_time": "2023-12-03T18:33:12.068940",
     "status": "completed"
    },
    "tags": []
   },
   "outputs": [],
   "source": [
    "# May need to sleep for a few seconds after saving\n",
    "save_notebook()"
   ]
  },
  {
   "cell_type": "code",
   "execution_count": null,
   "id": "b6a35c5d-b424-4820-8d26-8be29b50c546",
   "metadata": {
    "papermill": {
     "duration": 3.808533,
     "end_time": "2023-12-03T18:33:16.366922",
     "exception": false,
     "start_time": "2023-12-03T18:33:12.558389",
     "status": "completed"
    },
    "tags": []
   },
   "outputs": [],
   "source": [
    "! jupyter nbconvert Timeline.ipynb --output-dir='../' --to=HTML --TagRemovePreprocessor.enabled=True --TagRemovePreprocessor.remove_cell_tags='exclude' --TemplateExporter.exclude_input=True --TemplateExporter.exclude_input_prompt=True --TemplateExporter.exclude_output_prompt=True"
   ]
  },
  {
   "cell_type": "markdown",
   "id": "82ca05e5-839d-4742-ba86-ac0c8f14c5b8",
   "metadata": {
    "papermill": {
     "duration": 0.239011,
     "end_time": "2023-12-03T18:33:16.888917",
     "exception": false,
     "start_time": "2023-12-03T18:33:16.649906",
     "status": "completed"
    },
    "tags": [
     "exclude"
    ]
   },
   "source": [
    "## Git"
   ]
  },
  {
   "cell_type": "code",
   "execution_count": null,
   "id": "818b4d7f-2fea-4fe5-bd77-bb884f5bbaf0",
   "metadata": {},
   "outputs": [],
   "source": [
    "commit(\"../*[Tt]imeline*\", f\"Timeline update - {timestamp.isoformat()}\")"
   ]
  }
 ],
 "metadata": {
  "kernelspec": {
   "display_name": "Python 3 (ipykernel)",
   "language": "python",
   "name": "python3"
  },
  "language_info": {
   "codemirror_mode": {
    "name": "ipython",
    "version": 3
   },
   "file_extension": ".py",
   "mimetype": "text/x-python",
   "name": "python",
   "nbconvert_exporter": "python",
   "pygments_lexer": "ipython3",
   "version": "3.11.6"
  },
  "papermill": {
   "default_parameters": {},
   "duration": 244.306488,
   "end_time": "2023-12-03T18:33:22.713552",
   "environment_variables": {},
   "exception": null,
   "input_path": "Timeline.ipynb",
   "output_path": "Timeline.ipynb",
   "parameters": {},
   "start_time": "2023-12-03T18:29:18.407064",
   "version": "2.4.0"
  },
  "toc": {
   "base_numbering": 1,
   "nav_menu": {},
   "number_sections": true,
   "sideBar": true,
   "skip_h1_title": false,
   "title_cell": "Table of Contents",
   "title_sidebar": "Contents",
   "toc_cell": true,
   "toc_position": {},
   "toc_section_display": true,
   "toc_window_display": true
  }
 },
 "nbformat": 4,
 "nbformat_minor": 5
}
