{
 "cells": [
  {
   "cell_type": "code",
   "execution_count": null,
   "id": "a570071f-ec8c-496c-9960-2b4af3137f44",
   "metadata": {
    "papermill": {
     "duration": 2.254782,
     "end_time": "2024-01-08T15:53:19.531758",
     "exception": false,
     "start_time": "2024-01-08T15:53:17.276976",
     "status": "completed"
    },
    "tags": []
   },
   "outputs": [],
   "source": [
    "from yugiquery import *\n",
    "\n",
    "init_notebook_mode(all_interactive=True)\n",
    "\n",
    "header(\"Timeline\")"
   ]
  },
  {
   "cell_type": "markdown",
   "id": "d531326c-b92f-4c04-a301-83434217fa65",
   "metadata": {
    "papermill": {
     "duration": 0.056475,
     "end_time": "2024-01-08T15:53:19.614800",
     "exception": false,
     "start_time": "2024-01-08T15:53:19.558325",
     "status": "completed"
    },
    "tags": []
   },
   "source": [
    "---"
   ]
  },
  {
   "cell_type": "markdown",
   "id": "98c3721e",
   "metadata": {
    "papermill": {
     "duration": 0.026776,
     "end_time": "2024-01-08T15:53:19.667168",
     "exception": false,
     "start_time": "2024-01-08T15:53:19.640392",
     "status": "completed"
    },
    "tags": [],
    "toc": true
   },
   "source": [
    "Table of Contents <a class=\"jp-toc-ignore\"></a>\n",
    "=================\n",
    "\n",
    "*   [1  Data preparation](#Data-preparation)\n",
    "    *   [1.1  Load data](#Load-data)\n",
    "    *   [1.2  Format data](#Format-data)\n",
    "    *   [1.3  Merge data](#Merge-data)\n",
    "*   [4  Data visualization](#Data-visualization)\n",
    "    *   [4.1  First releases](#First-releases)\n",
    "        *   [4.1.1  By region](#By-region)\n",
    "    *   [4.1  Last releases](#Last-releases)\n",
    "        *   [4.1.1  By region](#By-region)\n",
    "    *   [4.2  All Releases](#All-Releases)\n",
    "        *   [4.2.1  By card type](#By-card-type)\n",
    "        *   [4.2.2  By primary type](#By-primary-type)\n",
    "        *   [4.2.3  By secondary type](#By-secondary-type)\n",
    "        *   [4.2.4  By attribute](#By-attribute)\n",
    "        *   [4.2.5  By monster type](#By-monster-type)\n",
    "        *   [4.2.6  By Level/Rank](#By-Level/Rank)\n",
    "        *   [4.2.7  By ATK](#By-ATK)\n",
    "        *   [4.2.8  By DEF](#By-DEF)\n",
    "        *   [4.2.9  By pendulum scale](#By-pendulum-scale)\n",
    "        *   [4.2.10  By link](#By-link)\n",
    "*   [5  Debug](#Debug)\n",
    "    *   [5.1  Merge failed](#Merge-failed)\n",
    "*   [6  Epilogue](#Epilogue)\n",
    "    *   [6.1  HTML export](#HTML-export)\n",
    "<!-- *   [6.2  Git](#Git) -->"
   ]
  },
  {
   "cell_type": "markdown",
   "id": "98e5146f-5f48-426c-b7be-07b64cd429e4",
   "metadata": {
    "papermill": {
     "duration": 0.026638,
     "end_time": "2024-01-08T15:53:19.734159",
     "exception": false,
     "start_time": "2024-01-08T15:53:19.707521",
     "status": "completed"
    },
    "tags": []
   },
   "source": [
    "# Data preparation"
   ]
  },
  {
   "cell_type": "code",
   "execution_count": null,
   "id": "aab57572-4f30-462c-b756-f1f13db30edc",
   "metadata": {
    "papermill": {
     "duration": 0.035797,
     "end_time": "2024-01-08T15:53:19.796984",
     "exception": false,
     "start_time": "2024-01-08T15:53:19.761187",
     "status": "completed"
    },
    "tags": []
   },
   "outputs": [],
   "source": [
    "timestamp = arrow.utcnow()"
   ]
  },
  {
   "cell_type": "markdown",
   "id": "df92295d-d124-4eea-ba54-a691fddf3d5c",
   "metadata": {
    "papermill": {
     "duration": 0.026082,
     "end_time": "2024-01-08T15:53:19.851580",
     "exception": false,
     "start_time": "2024-01-08T15:53:19.825498",
     "status": "completed"
    },
    "tags": []
   },
   "source": [
    "## Load data"
   ]
  },
  {
   "cell_type": "code",
   "execution_count": null,
   "id": "fe78d6ac-18e0-49d6-bdbf-43f9c11b15a0",
   "metadata": {
    "papermill": {
     "duration": 0.057709,
     "end_time": "2024-01-08T15:53:19.935357",
     "exception": false,
     "start_time": "2024-01-08T15:53:19.877648",
     "status": "completed"
    },
    "tags": []
   },
   "outputs": [],
   "source": [
    "# Load list of important dates\n",
    "with open(\"../assets/json/dates.json\", \"r\") as f:\n",
    "    dates_json = json.load(f)\n",
    "    anime_df = (\n",
    "        pd.DataFrame(dates_json[\"anime\"][\"series\"])\n",
    "        .set_index(\"title\")\n",
    "        .map(pd.to_datetime, dayfirst=True)\n",
    "    )\n",
    "    rules_df = (\n",
    "        pd.DataFrame(dates_json[\"rules\"])\n",
    "        .set_index(\"title\")\n",
    "        .map(pd.to_datetime, dayfirst=True)\n",
    "        .iloc[2:]\n",
    "    )  # Ignore old rules"
   ]
  },
  {
   "cell_type": "code",
   "execution_count": null,
   "id": "69b9995b-436e-4552-86d6-6dd4fabff8d0",
   "metadata": {
    "papermill": {
     "duration": 9.436736,
     "end_time": "2024-01-08T15:53:29.401669",
     "exception": false,
     "start_time": "2024-01-08T15:53:19.964933",
     "status": "completed"
    },
    "tags": []
   },
   "outputs": [],
   "source": [
    "# Get latest file if exist\n",
    "tuple_cols = [\n",
    "    \"Secondary type\",\n",
    "    \"Effect type\",\n",
    "    \"Link Arrows\",\n",
    "    \"Archseries\",\n",
    "    \"Artwork\",\n",
    "    \"Errata\",\n",
    "    \"Rarity\",\n",
    "    \"Cover card\",\n",
    "]\n",
    "\n",
    "all_cards_df, _ = load_corrected_latest(\"cards\", tuple_cols)\n",
    "all_speed_df, _ = load_corrected_latest(\"speed\", tuple_cols)\n",
    "set_lists_df, _ = load_corrected_latest(\"sets\", tuple_cols)"
   ]
  },
  {
   "cell_type": "markdown",
   "id": "b05d12f3-69b3-4fb8-9d38-00a4220faed6",
   "metadata": {
    "papermill": {
     "duration": 0.062164,
     "end_time": "2024-01-08T15:53:29.491032",
     "exception": false,
     "start_time": "2024-01-08T15:53:29.428868",
     "status": "completed"
    },
    "tags": []
   },
   "source": [
    "## Format data"
   ]
  },
  {
   "cell_type": "code",
   "execution_count": null,
   "id": "408e1580-2904-4d6b-83f3-6be83500fb78",
   "metadata": {
    "papermill": {
     "duration": 0.206451,
     "end_time": "2024-01-08T15:53:29.730769",
     "exception": false,
     "start_time": "2024-01-08T15:53:29.524318",
     "status": "completed"
    },
    "tags": []
   },
   "outputs": [],
   "source": [
    "df_list = [all_cards_df, all_speed_df, set_lists_df]\n",
    "if all(item is not None for item in df_list):\n",
    "    for df in df_list:\n",
    "        df[\"index\"] = df[\"Name\"].str.lower().str.replace(\"#\", \"\")\n",
    "\n",
    "else:\n",
    "    raise SystemExit(\"Not enough files to proceed. Aborting!\")"
   ]
  },
  {
   "cell_type": "markdown",
   "id": "e976bec2-3c0d-40d0-9a2e-6c1bb6b38059",
   "metadata": {
    "papermill": {
     "duration": 0.105186,
     "end_time": "2024-01-08T15:53:29.862437",
     "exception": false,
     "start_time": "2024-01-08T15:53:29.757251",
     "status": "completed"
    },
    "tags": []
   },
   "source": [
    "## Merge data"
   ]
  },
  {
   "cell_type": "code",
   "execution_count": null,
   "id": "6c1545b5-1ae1-4ae6-be8f-0e8eaac93080",
   "metadata": {
    "papermill": {
     "duration": 3.313078,
     "end_time": "2024-01-08T15:53:33.208375",
     "exception": false,
     "start_time": "2024-01-08T15:53:29.895297",
     "status": "completed"
    },
    "tags": []
   },
   "outputs": [],
   "source": [
    "full_df = pd.concat([all_cards_df, all_speed_df]).drop_duplicates(ignore_index=True)\n",
    "full_df = full_df.merge(set_lists_df, how=\"inner\", on=\"index\")\n",
    "full_df = full_df.convert_dtypes()\n",
    "full_df[\"Modification date\"] = full_df[\n",
    "    [\"Modification date_x\", \"Modification date_y\"]\n",
    "].max(axis=1)\n",
    "full_df[\"Name\"] = full_df[\"Name_x\"].fillna(full_df[\"Name_y\"])\n",
    "full_df.drop(\n",
    "    [\"index\", \"Name_x\", \"Name_y\", \"Modification date_x\", \"Modification date_y\"],\n",
    "    axis=1,\n",
    "    inplace=True,\n",
    ")\n",
    "full_df.rename(\n",
    "    columns={\"Page URL_x\": \"Card page URL\", \"Page URL_y\": \"Set page URL\"}, inplace=True\n",
    ")\n",
    "full_df = full_df[np.append(full_df.columns[-1:], full_df.columns[:-1])]"
   ]
  },
  {
   "cell_type": "markdown",
   "id": "f7c5cdf1-3f40-4d35-83b8-690933ba52a3",
   "metadata": {
    "papermill": {
     "duration": 0.094127,
     "end_time": "2024-01-08T15:53:33.335479",
     "exception": false,
     "start_time": "2024-01-08T15:53:33.241352",
     "status": "completed"
    },
    "tags": []
   },
   "source": [
    "# Data visualization"
   ]
  },
  {
   "cell_type": "code",
   "execution_count": null,
   "id": "10cbbdb2-ecd3-4a9e-a804-b9186febc279",
   "metadata": {
    "papermill": {
     "duration": 0.257408,
     "end_time": "2024-01-08T15:53:33.875607",
     "exception": false,
     "start_time": "2024-01-08T15:53:33.618199",
     "status": "completed"
    },
    "tags": []
   },
   "outputs": [],
   "source": [
    "full_df"
   ]
  },
  {
   "cell_type": "markdown",
   "id": "717be58b-4909-4892-ae15-844b7cb7b58c",
   "metadata": {
    "jp-MarkdownHeadingCollapsed": true,
    "papermill": {
     "duration": 0.273331,
     "end_time": "2024-01-08T15:53:34.184921",
     "exception": false,
     "start_time": "2024-01-08T15:53:33.911590",
     "status": "completed"
    },
    "tags": []
   },
   "source": [
    "## First releases"
   ]
  },
  {
   "cell_type": "markdown",
   "id": "4905c1fd-7e61-4bbb-9c82-953a9a4fd78f",
   "metadata": {
    "papermill": {
     "duration": 0.030079,
     "end_time": "2024-01-08T15:53:34.247585",
     "exception": false,
     "start_time": "2024-01-08T15:53:34.217506",
     "status": "completed"
    },
    "tags": []
   },
   "source": [
    "Obs: Only the first release of an individual card name"
   ]
  },
  {
   "cell_type": "code",
   "execution_count": null,
   "id": "51839140-77f4-4da6-bba6-f55d9a31c7f6",
   "metadata": {
    "papermill": {
     "duration": 0.712979,
     "end_time": "2024-01-08T15:53:34.994303",
     "exception": false,
     "start_time": "2024-01-08T15:53:34.281324",
     "status": "completed"
    },
    "tags": []
   },
   "outputs": [],
   "source": [
    "first_release = (\n",
    "    full_df[full_df[\"Release\"].notna()].groupby(\"Name\")[\"Release\"].agg(\"min\")\n",
    ")\n",
    "first_release.to_frame(name=\"First release\")"
   ]
  },
  {
   "cell_type": "code",
   "execution_count": null,
   "id": "6a1f1af8-a056-4045-bbaf-ea422db3d0a4",
   "metadata": {
    "papermill": {
     "duration": 2.616264,
     "end_time": "2024-01-08T15:53:37.650785",
     "exception": false,
     "start_time": "2024-01-08T15:53:35.034521",
     "status": "completed"
    },
    "tags": []
   },
   "outputs": [],
   "source": [
    "first_release_count = (\n",
    "    first_release.sort_values().value_counts(sort=False).to_frame(name=\"All cards\")\n",
    ")\n",
    "first_release_count.index.name = \"First Release\"\n",
    "rate_plot(first_release_count, bg=anime_df, vlines=rules_df[\"begin\"])"
   ]
  },
  {
   "cell_type": "markdown",
   "id": "b90d74bd-ac81-4289-a2e0-9e49bddfa6c4",
   "metadata": {
    "papermill": {
     "duration": 0.112204,
     "end_time": "2024-01-08T15:53:37.805896",
     "exception": false,
     "start_time": "2024-01-08T15:53:37.693692",
     "status": "completed"
    },
    "tags": []
   },
   "source": [
    "### By region"
   ]
  },
  {
   "cell_type": "code",
   "execution_count": null,
   "id": "d39f5310-38c4-41a7-94d7-6f8355a0d1f9",
   "metadata": {
    "papermill": {
     "duration": 0.908093,
     "end_time": "2024-01-08T15:53:38.763001",
     "exception": false,
     "start_time": "2024-01-08T15:53:37.854908",
     "status": "completed"
    },
    "tags": []
   },
   "outputs": [],
   "source": [
    "first_release_region = (\n",
    "    full_df[full_df[\"Release\"].notna()]\n",
    "    .groupby([\"Region\", \"Name\"])[\"Release\"]\n",
    "    .agg(\"min\")\n",
    ")\n",
    "first_release_region.to_frame(name=\"First release\")"
   ]
  },
  {
   "cell_type": "code",
   "execution_count": null,
   "id": "9d7c4e83-fa20-487f-b8ff-51552ac28e7b",
   "metadata": {
    "papermill": {
     "duration": 37.262911,
     "end_time": "2024-01-08T15:54:16.113094",
     "exception": false,
     "start_time": "2024-01-08T15:53:38.850183",
     "status": "completed"
    },
    "tags": []
   },
   "outputs": [],
   "source": [
    "first_release_region_count = (\n",
    "    first_release_region.sort_values()\n",
    "    .groupby([\"Region\"])\n",
    "    .value_counts(sort=False)\n",
    "    .unstack(0)\n",
    "    .fillna(0)\n",
    "    .round(0)\n",
    ")\n",
    "first_release_region_count.index.name = \"Release\"\n",
    "rate_subplots(\n",
    "    first_release_region_count,\n",
    "    title=\"First Release\",\n",
    "    bg=anime_df,\n",
    "    vlines=rules_df[\"begin\"],\n",
    ")"
   ]
  },
  {
   "cell_type": "markdown",
   "id": "68ed7e48-cdd1-49e5-996d-771b0aa476b2",
   "metadata": {
    "jp-MarkdownHeadingCollapsed": true,
    "papermill": {
     "duration": 0.127807,
     "end_time": "2024-01-08T15:54:16.354358",
     "exception": false,
     "start_time": "2024-01-08T15:54:16.226551",
     "status": "completed"
    },
    "tags": []
   },
   "source": [
    "## Last releases"
   ]
  },
  {
   "cell_type": "markdown",
   "id": "1adfdf14-386c-4766-ab1e-634c69028b09",
   "metadata": {
    "papermill": {
     "duration": 0.087668,
     "end_time": "2024-01-08T15:54:16.530070",
     "exception": false,
     "start_time": "2024-01-08T15:54:16.442402",
     "status": "completed"
    },
    "tags": []
   },
   "source": [
    "Obs: Only the last release of an individual card name"
   ]
  },
  {
   "cell_type": "code",
   "execution_count": null,
   "id": "4ed37661-d2b2-4427-bbea-39e2764810c0",
   "metadata": {
    "papermill": {
     "duration": 0.774832,
     "end_time": "2024-01-08T15:54:17.389434",
     "exception": false,
     "start_time": "2024-01-08T15:54:16.614602",
     "status": "completed"
    },
    "tags": []
   },
   "outputs": [],
   "source": [
    "last_release = full_df[full_df[\"Release\"].notna()].groupby(\"Name\")[\"Release\"].agg(\"max\")\n",
    "last_release.to_frame(name=\"Last release\")"
   ]
  },
  {
   "cell_type": "code",
   "execution_count": null,
   "id": "82e7e343-9ec4-4ff8-b8e9-59af5100ee79",
   "metadata": {
    "papermill": {
     "duration": 3.141516,
     "end_time": "2024-01-08T15:54:20.630659",
     "exception": false,
     "start_time": "2024-01-08T15:54:17.489143",
     "status": "completed"
    },
    "tags": []
   },
   "outputs": [],
   "source": [
    "last_release_count = (\n",
    "    last_release.sort_values().value_counts(sort=False).to_frame(name=\"All cards\")\n",
    ")\n",
    "last_release_count.index.name = \"Last Release\"\n",
    "rate_plot(last_release_count, bg=anime_df, vlines=rules_df[\"begin\"])"
   ]
  },
  {
   "cell_type": "markdown",
   "id": "df0f880e-2a39-42fd-8ad4-6eda067f4476",
   "metadata": {
    "papermill": {
     "duration": 0.460388,
     "end_time": "2024-01-08T15:54:21.198577",
     "exception": false,
     "start_time": "2024-01-08T15:54:20.738189",
     "status": "completed"
    },
    "tags": []
   },
   "source": [
    "### By region"
   ]
  },
  {
   "cell_type": "code",
   "execution_count": null,
   "id": "c9d718d3-37a0-4ef3-9d5b-fceba8bb60dd",
   "metadata": {
    "papermill": {
     "duration": 0.938092,
     "end_time": "2024-01-08T15:54:22.445299",
     "exception": false,
     "start_time": "2024-01-08T15:54:21.507207",
     "status": "completed"
    },
    "tags": []
   },
   "outputs": [],
   "source": [
    "last_release_region = (\n",
    "    full_df[full_df[\"Release\"].notna()]\n",
    "    .groupby([\"Region\", \"Name\"])[\"Release\"]\n",
    "    .agg(\"max\")\n",
    ")\n",
    "last_release_region.to_frame(name=\"Last release\")"
   ]
  },
  {
   "cell_type": "code",
   "execution_count": null,
   "id": "0a708d8b-781e-412a-ae3e-7a89c029065d",
   "metadata": {
    "papermill": {
     "duration": 38.014252,
     "end_time": "2024-01-08T15:55:00.565951",
     "exception": false,
     "start_time": "2024-01-08T15:54:22.551699",
     "status": "completed"
    },
    "tags": []
   },
   "outputs": [],
   "source": [
    "last_release_region_count = (\n",
    "    last_release_region.sort_values()\n",
    "    .groupby([\"Region\"])\n",
    "    .value_counts(sort=False)\n",
    "    .unstack(0)\n",
    "    .fillna(0)\n",
    "    .round(0)\n",
    ")\n",
    "last_release_region_count.index.name = \"Release\"\n",
    "rate_subplots(\n",
    "    last_release_region_count,\n",
    "    title=\"Last Release\",\n",
    "    bg=anime_df,\n",
    "    vlines=rules_df[\"begin\"],\n",
    ")"
   ]
  },
  {
   "cell_type": "markdown",
   "id": "811538f6-77b2-4736-8feb-022abeddeb5c",
   "metadata": {
    "papermill": {
     "duration": 0.701938,
     "end_time": "2024-01-08T15:55:01.444193",
     "exception": false,
     "start_time": "2024-01-08T15:55:00.742255",
     "status": "completed"
    },
    "tags": []
   },
   "source": [
    "## All Releases"
   ]
  },
  {
   "cell_type": "markdown",
   "id": "010ccac6-74c5-46dd-9b23-7a0a3fd5a1c1",
   "metadata": {
    "papermill": {
     "duration": 0.15095,
     "end_time": "2024-01-08T15:55:01.730894",
     "exception": false,
     "start_time": "2024-01-08T15:55:01.579944",
     "status": "completed"
    },
    "tags": []
   },
   "source": [
    "Obs: All releases includes reprints"
   ]
  },
  {
   "cell_type": "code",
   "execution_count": null,
   "id": "41e15306-2ffd-4d6e-b5c5-5f7ccd01618f",
   "metadata": {
    "papermill": {
     "duration": 3.23038,
     "end_time": "2024-01-08T15:55:05.094048",
     "exception": false,
     "start_time": "2024-01-08T15:55:01.863668",
     "status": "completed"
    },
    "tags": []
   },
   "outputs": [],
   "source": [
    "all_releases = (\n",
    "    full_df[\"Release\"][full_df[\"Release\"].notna()]\n",
    "    .value_counts()\n",
    "    .sort_index()\n",
    "    .to_frame()\n",
    ")\n",
    "all_releases.index.name = \"All releases\"\n",
    "rate_plot(all_releases, bg=anime_df, vlines=rules_df[\"begin\"])"
   ]
  },
  {
   "cell_type": "markdown",
   "id": "0a191a3e-66bb-450e-9b37-f1ebb15c3d7e",
   "metadata": {
    "papermill": {
     "duration": 0.514134,
     "end_time": "2024-01-08T15:55:05.748411",
     "exception": false,
     "start_time": "2024-01-08T15:55:05.234277",
     "status": "completed"
    },
    "tags": []
   },
   "source": [
    "### By card type"
   ]
  },
  {
   "cell_type": "code",
   "execution_count": null,
   "id": "0621222f-c793-4206-8344-eaac4c55a75c",
   "metadata": {
    "papermill": {
     "duration": 0.412775,
     "end_time": "2024-01-08T15:55:06.438200",
     "exception": false,
     "start_time": "2024-01-08T15:55:06.025425",
     "status": "completed"
    },
    "tags": []
   },
   "outputs": [],
   "source": [
    "# All releases, includes reprints - Double check\n",
    "release_card_type = (\n",
    "    full_df.groupby([\"Card type\", \"Release\"])[\"Name\"]\n",
    "    .nunique()\n",
    "    .unstack(0)\n",
    "    .sort_index()\n",
    "    .fillna(0)\n",
    "    .astype(int)\n",
    ")\n",
    "release_card_type.groupby(release_card_type.index.strftime(\"%Y\")).sum().T"
   ]
  },
  {
   "cell_type": "code",
   "execution_count": null,
   "id": "b8fe7da4-23e5-490a-992a-f5837f3dc216",
   "metadata": {
    "papermill": {
     "duration": 2.938812,
     "end_time": "2024-01-08T15:55:09.664642",
     "exception": false,
     "start_time": "2024-01-08T15:55:06.725830",
     "status": "completed"
    },
    "tags": []
   },
   "outputs": [],
   "source": [
    "card_type_colors = [colors_dict[col] for col in release_card_type.columns]\n",
    "rate_plot(\n",
    "    release_card_type, colors=card_type_colors, bg=anime_df, vlines=rules_df[\"begin\"]\n",
    ")"
   ]
  },
  {
   "cell_type": "markdown",
   "id": "bd7a3a56-f0ba-4f3a-acab-d6edadd57b9e",
   "metadata": {
    "papermill": {
     "duration": 0.243199,
     "end_time": "2024-01-08T15:55:10.052962",
     "exception": false,
     "start_time": "2024-01-08T15:55:09.809763",
     "status": "completed"
    },
    "tags": []
   },
   "source": [
    "### By primary type"
   ]
  },
  {
   "cell_type": "code",
   "execution_count": null,
   "id": "e2da2a9b-df09-4b05-9d52-564e81b1787f",
   "metadata": {
    "papermill": {
     "duration": 0.61495,
     "end_time": "2024-01-08T15:55:10.995011",
     "exception": false,
     "start_time": "2024-01-08T15:55:10.380061",
     "status": "completed"
    },
    "tags": []
   },
   "outputs": [],
   "source": [
    "# All releases, includes reprints - Double check\n",
    "# Sort properly\n",
    "release_primary_type = (\n",
    "    full_df.groupby([\"Primary type\", \"Release\"])[\"Name\"]\n",
    "    .nunique()\n",
    "    .unstack(0)\n",
    "    .sort_index()\n",
    "    .fillna(0)\n",
    "    .astype(int)\n",
    ")\n",
    "release_primary_type.groupby(release_primary_type.index.strftime(\"%Y\")).sum().T"
   ]
  },
  {
   "cell_type": "code",
   "execution_count": null,
   "id": "0986f91b-b91d-47b2-9d9a-3c0e51127d1b",
   "metadata": {
    "papermill": {
     "duration": 2.470728,
     "end_time": "2024-01-08T15:55:13.619898",
     "exception": false,
     "start_time": "2024-01-08T15:55:11.149170",
     "status": "completed"
    },
    "tags": []
   },
   "outputs": [],
   "source": [
    "primary_type_colors = [colors_dict[col] for col in release_primary_type.columns]\n",
    "rate_plot(\n",
    "    release_primary_type,\n",
    "    colors=primary_type_colors,\n",
    "    bg=anime_df,\n",
    "    vlines=rules_df[\"begin\"],\n",
    ")"
   ]
  },
  {
   "cell_type": "markdown",
   "id": "61ca539a-6816-4937-bbd6-6ec7b053fbc6",
   "metadata": {
    "papermill": {
     "duration": 0.214773,
     "end_time": "2024-01-08T15:55:14.063377",
     "exception": false,
     "start_time": "2024-01-08T15:55:13.848604",
     "status": "completed"
    },
    "tags": []
   },
   "source": [
    "### By secondary type"
   ]
  },
  {
   "cell_type": "code",
   "execution_count": null,
   "id": "9b3e4e1f-e27a-4c16-98f0-5811faf48122",
   "metadata": {
    "papermill": {
     "duration": 3.735186,
     "end_time": "2024-01-08T15:55:17.947482",
     "exception": false,
     "start_time": "2024-01-08T15:55:14.212296",
     "status": "completed"
    },
    "tags": []
   },
   "outputs": [],
   "source": [
    "# All releases, includes reprints - Double check\n",
    "# Sort properly\n",
    "release_secondary_type = (\n",
    "    full_df.explode(\"Secondary type\")\n",
    "    .groupby([\"Secondary type\", \"Release\"])[\"Name\"]\n",
    "    .nunique()\n",
    "    .unstack(0)\n",
    "    .sort_index()\n",
    "    .fillna(0)\n",
    "    .astype(int)\n",
    ")\n",
    "release_secondary_type.groupby(release_secondary_type.index.strftime(\"%Y\")).sum().T"
   ]
  },
  {
   "cell_type": "code",
   "execution_count": null,
   "id": "83fcc4ac-1866-42a2-9e11-2bb2df518b04",
   "metadata": {
    "papermill": {
     "duration": 2.621324,
     "end_time": "2024-01-08T15:55:20.786102",
     "exception": false,
     "start_time": "2024-01-08T15:55:18.164778",
     "status": "completed"
    },
    "tags": []
   },
   "outputs": [],
   "source": [
    "rate_plot(release_secondary_type, bg=anime_df, vlines=rules_df[\"begin\"])"
   ]
  },
  {
   "cell_type": "markdown",
   "id": "426d9713-0e0c-4af3-9e5f-5ed3e5e5a0c1",
   "metadata": {
    "papermill": {
     "duration": 0.175631,
     "end_time": "2024-01-08T15:55:21.134938",
     "exception": false,
     "start_time": "2024-01-08T15:55:20.959307",
     "status": "completed"
    },
    "tags": []
   },
   "source": [
    "### By attribute"
   ]
  },
  {
   "cell_type": "code",
   "execution_count": null,
   "id": "3bb3fed2-3036-4194-8c87-620f0a237f5a",
   "metadata": {
    "papermill": {
     "duration": 0.362117,
     "end_time": "2024-01-08T15:55:21.646848",
     "exception": false,
     "start_time": "2024-01-08T15:55:21.284731",
     "status": "completed"
    },
    "tags": []
   },
   "outputs": [],
   "source": [
    "# All releases, includes reprints - Double check\n",
    "# Sort properly\n",
    "release_attribute = (\n",
    "    full_df.groupby([\"Attribute\", \"Release\"])[\"Name\"]\n",
    "    .nunique()\n",
    "    .unstack(0)\n",
    "    .sort_index()\n",
    "    .fillna(0)\n",
    "    .astype(int)\n",
    ")\n",
    "release_attribute.groupby(release_attribute.index.strftime(\"%Y\")).sum().T"
   ]
  },
  {
   "cell_type": "code",
   "execution_count": null,
   "id": "967d93eb-03ef-4feb-8a8c-3ee7a9f10b24",
   "metadata": {
    "papermill": {
     "duration": 2.905372,
     "end_time": "2024-01-08T15:55:24.705861",
     "exception": false,
     "start_time": "2024-01-08T15:55:21.800489",
     "status": "completed"
    },
    "tags": []
   },
   "outputs": [],
   "source": [
    "attribute_colors = [colors_dict[col] for col in release_attribute.columns]\n",
    "rate_plot(\n",
    "    release_attribute,\n",
    "    colors=attribute_colors,\n",
    "    bg=anime_df,\n",
    "    vlines=rules_df[\"begin\"],\n",
    "    cumsum=True,\n",
    ")"
   ]
  },
  {
   "cell_type": "markdown",
   "id": "5eb10e4e-fddb-4e03-9766-444c9b4a69ed",
   "metadata": {
    "papermill": {
     "duration": 0.142022,
     "end_time": "2024-01-08T15:55:25.051968",
     "exception": false,
     "start_time": "2024-01-08T15:55:24.909946",
     "status": "completed"
    },
    "tags": []
   },
   "source": [
    "### By monster type"
   ]
  },
  {
   "cell_type": "code",
   "execution_count": null,
   "id": "99f3ca8c-0a4b-4082-b8d0-051267460320",
   "metadata": {
    "papermill": {
     "duration": 0.36385,
     "end_time": "2024-01-08T15:55:25.565586",
     "exception": false,
     "start_time": "2024-01-08T15:55:25.201736",
     "status": "completed"
    },
    "tags": []
   },
   "outputs": [],
   "source": [
    "# All releases, includes reprints - Double check\n",
    "# Sort properly\n",
    "release_monster_type = (\n",
    "    full_df.groupby([\"Monster type\", \"Release\"])[\"Name\"]\n",
    "    .nunique()\n",
    "    .unstack(0)\n",
    "    .sort_index()\n",
    "    .fillna(0)\n",
    "    .astype(int)\n",
    ")\n",
    "release_monster_type.groupby(release_monster_type.index.strftime(\"%Y\")).sum().T"
   ]
  },
  {
   "cell_type": "code",
   "execution_count": null,
   "id": "83ec20a7-eb56-485e-9282-5dcc6ee89cf5",
   "metadata": {
    "papermill": {
     "duration": 72.180066,
     "end_time": "2024-01-08T15:56:38.048127",
     "exception": false,
     "start_time": "2024-01-08T15:55:25.868061",
     "status": "completed"
    },
    "tags": []
   },
   "outputs": [],
   "source": [
    "rate_subplots(release_monster_type, bg=anime_df, vlines=rules_df[\"begin\"])"
   ]
  },
  {
   "cell_type": "markdown",
   "id": "ccd8df1f-8f20-4d07-855c-1b78f29d9e4a",
   "metadata": {
    "papermill": {
     "duration": 0.22316,
     "end_time": "2024-01-08T15:56:38.537676",
     "exception": false,
     "start_time": "2024-01-08T15:56:38.314516",
     "status": "completed"
    },
    "tags": []
   },
   "source": [
    "### By Level/Rank"
   ]
  },
  {
   "cell_type": "code",
   "execution_count": null,
   "id": "35f4e012-fc2c-4fdf-bf83-dff4807a6b36",
   "metadata": {
    "papermill": {
     "duration": 8.96071,
     "end_time": "2024-01-08T15:56:47.728535",
     "exception": false,
     "start_time": "2024-01-08T15:56:38.767825",
     "status": "completed"
    },
    "tags": []
   },
   "outputs": [],
   "source": [
    "boxplot(full_df[[\"Release\", \"Level/Rank\"]], color=colors_dict[\"Level\"], notch=True)"
   ]
  },
  {
   "cell_type": "markdown",
   "id": "d5f37c9c-60ea-4d1a-98a1-566c71a888f4",
   "metadata": {
    "papermill": {
     "duration": 0.25526,
     "end_time": "2024-01-08T15:56:48.282577",
     "exception": false,
     "start_time": "2024-01-08T15:56:48.027317",
     "status": "completed"
    },
    "tags": []
   },
   "source": [
    "### By ATK"
   ]
  },
  {
   "cell_type": "code",
   "execution_count": null,
   "id": "a9943fd3-81e3-4718-b02b-7a1c47d52590",
   "metadata": {
    "papermill": {
     "duration": 8.242944,
     "end_time": "2024-01-08T15:56:56.754871",
     "exception": false,
     "start_time": "2024-01-08T15:56:48.511927",
     "status": "completed"
    },
    "tags": []
   },
   "outputs": [],
   "source": [
    "boxplot(full_df[[\"Release\", \"ATK\"]], color=colors_dict[\"Effect Monster\"], notch=True)"
   ]
  },
  {
   "cell_type": "markdown",
   "id": "d1182406-c948-4f81-bcac-db2d4b7a912d",
   "metadata": {
    "papermill": {
     "duration": 0.301653,
     "end_time": "2024-01-08T15:56:57.296560",
     "exception": false,
     "start_time": "2024-01-08T15:56:56.994907",
     "status": "completed"
    },
    "tags": []
   },
   "source": [
    "### By DEF"
   ]
  },
  {
   "cell_type": "code",
   "execution_count": null,
   "id": "54cfccd2-f677-4ab8-81c0-e794a1015872",
   "metadata": {
    "papermill": {
     "duration": 8.446551,
     "end_time": "2024-01-08T15:57:05.978484",
     "exception": false,
     "start_time": "2024-01-08T15:56:57.531933",
     "status": "completed"
    },
    "tags": []
   },
   "outputs": [],
   "source": [
    "boxplot(full_df[[\"Release\", \"DEF\"]], color=colors_dict[\"Effect Monster\"], notch=True)"
   ]
  },
  {
   "cell_type": "markdown",
   "id": "1d8dd39e-5075-49c7-9ea8-a6255f1684e9",
   "metadata": {
    "papermill": {
     "duration": 0.222157,
     "end_time": "2024-01-08T15:57:06.507331",
     "exception": false,
     "start_time": "2024-01-08T15:57:06.285174",
     "status": "completed"
    },
    "tags": []
   },
   "source": [
    "### By pendulum scale"
   ]
  },
  {
   "cell_type": "code",
   "execution_count": null,
   "id": "29c1d59e-ba6c-4138-89d2-c8eb9d563f2e",
   "metadata": {
    "papermill": {
     "duration": 1.220289,
     "end_time": "2024-01-08T15:57:08.291532",
     "exception": false,
     "start_time": "2024-01-08T15:57:07.071243",
     "status": "completed"
    },
    "tags": []
   },
   "outputs": [],
   "source": [
    "boxplot(\n",
    "    full_df[[\"Release\", \"Pendulum Scale\"]],\n",
    "    color=colors_dict[\"Pendulum Monster\"],\n",
    "    notch=True,\n",
    ")"
   ]
  },
  {
   "cell_type": "markdown",
   "id": "75b2d1e5-5cd5-4bee-8f29-2d3e63bb777d",
   "metadata": {
    "papermill": {
     "duration": 0.235382,
     "end_time": "2024-01-08T15:57:08.962134",
     "exception": false,
     "start_time": "2024-01-08T15:57:08.726752",
     "status": "completed"
    },
    "tags": []
   },
   "source": [
    "### By link"
   ]
  },
  {
   "cell_type": "code",
   "execution_count": null,
   "id": "8971fc23-7364-43a9-b65d-d5c3dc138205",
   "metadata": {
    "papermill": {
     "duration": 1.017473,
     "end_time": "2024-01-08T15:57:10.293242",
     "exception": false,
     "start_time": "2024-01-08T15:57:09.275769",
     "status": "completed"
    },
    "tags": []
   },
   "outputs": [],
   "source": [
    "boxplot(full_df[[\"Release\", \"Link\"]], color=colors_dict[\"Link Monster\"])"
   ]
  },
  {
   "cell_type": "markdown",
   "id": "4951f8e7-5726-4a0d-95fd-e124ecfc0122",
   "metadata": {
    "papermill": {
     "duration": 0.822719,
     "end_time": "2024-01-08T15:57:11.353269",
     "exception": false,
     "start_time": "2024-01-08T15:57:10.530550",
     "status": "completed"
    },
    "tags": []
   },
   "source": [
    "# Debug"
   ]
  },
  {
   "cell_type": "markdown",
   "id": "53c24421-dc1e-4386-96b4-4bd9c23eeecd",
   "metadata": {
    "papermill": {
     "duration": 0.247518,
     "end_time": "2024-01-08T15:57:11.969859",
     "exception": false,
     "start_time": "2024-01-08T15:57:11.722341",
     "status": "completed"
    },
    "tags": []
   },
   "source": [
    "## Merge failed"
   ]
  },
  {
   "cell_type": "code",
   "execution_count": null,
   "id": "b609be14-100d-42b3-ab57-335afa834b6e",
   "metadata": {
    "papermill": {
     "duration": 0.318834,
     "end_time": "2024-01-08T15:57:12.554277",
     "exception": false,
     "start_time": "2024-01-08T15:57:12.235443",
     "status": "completed"
    },
    "tags": []
   },
   "outputs": [],
   "source": [
    "all_cards_df.where(~all_cards_df[\"Name\"].isin(full_df[\"Name\"])).dropna(how=\"all\")"
   ]
  },
  {
   "cell_type": "code",
   "execution_count": null,
   "id": "aecfb79b-d289-4b85-a997-3582fba70e09",
   "metadata": {
    "papermill": {
     "duration": 0.897546,
     "end_time": "2024-01-08T15:57:13.719293",
     "exception": false,
     "start_time": "2024-01-08T15:57:12.821747",
     "status": "completed"
    },
    "tags": []
   },
   "outputs": [],
   "source": [
    "set_lists_df.where(\n",
    "    (~set_lists_df[\"Card number\"].isin(full_df[\"Card number\"]))\n",
    "    & (~set_lists_df[\"Card number\"].dropna().str.startswith(\"RD/\"))\n",
    ").dropna(how=\"all\")"
   ]
  },
  {
   "cell_type": "markdown",
   "id": "9cdbfc4e-71d0-41e4-a421-73bf3a98e734",
   "metadata": {
    "papermill": {
     "duration": 0.264176,
     "end_time": "2024-01-08T15:57:14.300741",
     "exception": false,
     "start_time": "2024-01-08T15:57:14.036565",
     "status": "completed"
    },
    "tags": []
   },
   "source": [
    " # Epilogue"
   ]
  },
  {
   "cell_type": "code",
   "execution_count": null,
   "id": "56a507f9-1007-4a67-9bc8-bd11010b20ae",
   "metadata": {
    "papermill": {
     "duration": 0.432861,
     "end_time": "2024-01-08T15:57:14.972888",
     "exception": false,
     "start_time": "2024-01-08T15:57:14.540027",
     "status": "completed"
    },
    "tags": []
   },
   "outputs": [],
   "source": [
    "benchmark(report=\"timeline\", timestamp=timestamp)"
   ]
  },
  {
   "cell_type": "code",
   "execution_count": null,
   "id": "479dc549-52ce-4e36-b0a5-ff555459ea23",
   "metadata": {
    "papermill": {
     "duration": 0.243653,
     "end_time": "2024-01-08T15:57:15.473034",
     "exception": false,
     "start_time": "2024-01-08T15:57:15.229381",
     "status": "completed"
    },
    "tags": []
   },
   "outputs": [],
   "source": [
    "footer()"
   ]
  },
  {
   "cell_type": "markdown",
   "id": "009d91f5-e119-43bb-95f6-486837be7a7e",
   "metadata": {
    "papermill": {
     "duration": 0.237407,
     "end_time": "2024-01-08T15:57:15.951082",
     "exception": false,
     "start_time": "2024-01-08T15:57:15.713675",
     "status": "completed"
    },
    "tags": []
   },
   "source": [
    "## HTML export"
   ]
  },
  {
   "cell_type": "code",
   "execution_count": null,
   "id": "223a8a40-b2d8-4296-b9c2-43a38d30607b",
   "metadata": {
    "papermill": {
     "duration": 0.24735,
     "end_time": "2024-01-08T15:57:16.471570",
     "exception": false,
     "start_time": "2024-01-08T15:57:16.224220",
     "status": "completed"
    },
    "tags": []
   },
   "outputs": [],
   "source": [
    "# May need to sleep for a few seconds after saving\n",
    "save_notebook()"
   ]
  },
  {
   "cell_type": "code",
   "execution_count": null,
   "id": "b6a35c5d-b424-4820-8d26-8be29b50c546",
   "metadata": {
    "papermill": {
     "duration": 4.436235,
     "end_time": "2024-01-08T15:57:21.146388",
     "exception": false,
     "start_time": "2024-01-08T15:57:16.710153",
     "status": "completed"
    },
    "tags": []
   },
   "outputs": [],
   "source": [
    "! jupyter nbconvert Timeline.ipynb --output-dir='../' --to=HTML --template=labdynamic --no-input"
   ]
  },
  {
   "cell_type": "markdown",
   "id": "82ca05e5-839d-4742-ba86-ac0c8f14c5b8",
   "metadata": {
    "papermill": {
     "duration": 0.231334,
     "end_time": "2024-01-08T15:57:21.613518",
     "exception": false,
     "start_time": "2024-01-08T15:57:21.382184",
     "status": "completed"
    },
    "tags": [
     "exclude"
    ]
   },
   "source": [
    "## Git"
   ]
  },
  {
   "cell_type": "code",
   "execution_count": null,
   "id": "818b4d7f-2fea-4fe5-bd77-bb884f5bbaf0",
   "metadata": {
    "papermill": {
     "duration": null,
     "end_time": null,
     "exception": false,
     "start_time": "2024-01-08T15:57:21.850784",
     "status": "running"
    },
    "tags": []
   },
   "outputs": [],
   "source": [
    "commit(\"*[Tt]imeline*\", f\"Timeline update - {timestamp.isoformat()}\")"
   ]
  }
 ],
 "metadata": {
  "kernelspec": {
   "display_name": "Python 3 (ipykernel)",
   "language": "python",
   "name": "python3"
  },
  "language_info": {
   "codemirror_mode": {
    "name": "ipython",
    "version": 3
   },
   "file_extension": ".py",
   "mimetype": "text/x-python",
   "name": "python",
   "nbconvert_exporter": "python",
   "pygments_lexer": "ipython3",
   "version": "3.11.6"
  },
  "papermill": {
   "default_parameters": {},
   "duration": null,
   "end_time": null,
   "environment_variables": {},
   "exception": null,
   "input_path": "Timeline.ipynb",
   "output_path": "Timeline.ipynb",
   "parameters": {},
   "start_time": "2024-01-08T15:53:16.173852",
   "version": "2.4.0"
  },
  "toc": {
   "base_numbering": 1,
   "nav_menu": {},
   "number_sections": true,
   "sideBar": true,
   "skip_h1_title": false,
   "title_cell": "Table of Contents",
   "title_sidebar": "Contents",
   "toc_cell": true,
   "toc_position": {},
   "toc_section_display": true,
   "toc_window_display": true
  }
 },
 "nbformat": 4,
 "nbformat_minor": 5
}
