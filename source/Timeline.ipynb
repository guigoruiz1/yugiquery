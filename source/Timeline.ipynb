{
 "cells": [
  {
   "cell_type": "code",
   "execution_count": null,
   "id": "a570071f-ec8c-496c-9960-2b4af3137f44",
   "metadata": {
    "papermill": {
     "duration": 2.400098,
     "end_time": "2024-01-01T05:18:53.250820",
     "exception": false,
     "start_time": "2024-01-01T05:18:50.850722",
     "status": "completed"
    },
    "tags": []
   },
   "outputs": [],
   "source": [
    "from yugiquery import *\n",
    "\n",
    "init_notebook_mode(all_interactive=True)\n",
    "\n",
    "header(\"Timeline\")"
   ]
  },
  {
   "cell_type": "markdown",
   "id": "d531326c-b92f-4c04-a301-83434217fa65",
   "metadata": {
    "papermill": {
     "duration": 0.026362,
     "end_time": "2024-01-01T05:18:53.320491",
     "exception": false,
     "start_time": "2024-01-01T05:18:53.294129",
     "status": "completed"
    },
    "tags": []
   },
   "source": [
    "---"
   ]
  },
  {
   "cell_type": "markdown",
   "id": "98c3721e",
   "metadata": {
    "papermill": {
     "duration": 0.079216,
     "end_time": "2024-01-01T05:18:53.443379",
     "exception": false,
     "start_time": "2024-01-01T05:18:53.364163",
     "status": "completed"
    },
    "tags": [],
    "toc": true
   },
   "source": [
    "Table of Contents <a class=\"jp-toc-ignore\"></a>\n",
    "=================\n",
    "\n",
    "*   [1  Data preparation](#Data-preparation)\n",
    "    *   [1.1  Load data](#Load-data)\n",
    "    *   [1.2  Format data](#Format-data)\n",
    "    *   [1.3  Merge data](#Merge-data)\n",
    "*   [4  Data visualization](#Data-visualization)\n",
    "    *   [4.1  First releases](#First-releases)\n",
    "        *   [4.1.1  By region](#By-region)\n",
    "    *   [4.1  Last releases](#Last-releases)\n",
    "        *   [4.1.1  By region](#By-region)\n",
    "    *   [4.2  All Releases](#All-Releases)\n",
    "        *   [4.2.1  By card type](#By-card-type)\n",
    "        *   [4.2.2  By primary type](#By-primary-type)\n",
    "        *   [4.2.3  By secondary type](#By-secondary-type)\n",
    "        *   [4.2.4  By attribute](#By-attribute)\n",
    "        *   [4.2.5  By monster type](#By-monster-type)\n",
    "        *   [4.2.6  By Level/Rank](#By-Level/Rank)\n",
    "        *   [4.2.7  By ATK](#By-ATK)\n",
    "        *   [4.2.8  By DEF](#By-DEF)\n",
    "        *   [4.2.9  By pendulum scale](#By-pendulum-scale)\n",
    "        *   [4.2.10  By link](#By-link)\n",
    "*   [5  Debug](#Debug)\n",
    "    *   [5.1  Merge failed](#Merge-failed)\n",
    "*   [6  Epilogue](#Epilogue)\n",
    "    *   [6.1  HTML export](#HTML-export)\n",
    "<!-- *   [6.2  Git](#Git) -->"
   ]
  },
  {
   "cell_type": "markdown",
   "id": "98e5146f-5f48-426c-b7be-07b64cd429e4",
   "metadata": {
    "papermill": {
     "duration": 0.102039,
     "end_time": "2024-01-01T05:18:53.717024",
     "exception": false,
     "start_time": "2024-01-01T05:18:53.614985",
     "status": "completed"
    },
    "tags": []
   },
   "source": [
    "# Data preparation"
   ]
  },
  {
   "cell_type": "code",
   "execution_count": null,
   "id": "aab57572-4f30-462c-b756-f1f13db30edc",
   "metadata": {
    "papermill": {
     "duration": 0.05202,
     "end_time": "2024-01-01T05:18:53.841988",
     "exception": false,
     "start_time": "2024-01-01T05:18:53.789968",
     "status": "completed"
    },
    "tags": []
   },
   "outputs": [],
   "source": [
    "timestamp = arrow.utcnow()"
   ]
  },
  {
   "cell_type": "markdown",
   "id": "df92295d-d124-4eea-ba54-a691fddf3d5c",
   "metadata": {
    "papermill": {
     "duration": 0.740031,
     "end_time": "2024-01-01T05:18:54.616434",
     "exception": false,
     "start_time": "2024-01-01T05:18:53.876403",
     "status": "completed"
    },
    "tags": []
   },
   "source": [
    "## Load data"
   ]
  },
  {
   "cell_type": "code",
   "execution_count": null,
   "id": "fe78d6ac-18e0-49d6-bdbf-43f9c11b15a0",
   "metadata": {
    "papermill": {
     "duration": 0.276038,
     "end_time": "2024-01-01T05:18:54.918938",
     "exception": false,
     "start_time": "2024-01-01T05:18:54.642900",
     "status": "completed"
    },
    "tags": []
   },
   "outputs": [],
   "source": [
    "# Load list of important dates\n",
    "with open(\"../assets/json/dates.json\", \"r\") as f:\n",
    "    dates_json = json.load(f)\n",
    "    anime_df = (\n",
    "        pd.DataFrame(dates_json[\"anime\"][\"series\"])\n",
    "        .set_index(\"title\")\n",
    "        .map(pd.to_datetime, dayfirst=True)\n",
    "    )\n",
    "    rules_df = (\n",
    "        pd.DataFrame(dates_json[\"rules\"])\n",
    "        .set_index(\"title\")\n",
    "        .map(pd.to_datetime, dayfirst=True)\n",
    "        .iloc[2:]\n",
    "    )  # Ignore old rules"
   ]
  },
  {
   "cell_type": "code",
   "execution_count": null,
   "id": "69b9995b-436e-4552-86d6-6dd4fabff8d0",
   "metadata": {
    "papermill": {
     "duration": 9.694963,
     "end_time": "2024-01-01T05:19:04.646280",
     "exception": false,
     "start_time": "2024-01-01T05:18:54.951317",
     "status": "completed"
    },
    "tags": []
   },
   "outputs": [],
   "source": [
    "# Get latest file if exist\n",
    "tuple_cols = [\n",
    "    \"Secondary type\",\n",
    "    \"Effect type\",\n",
    "    \"Link Arrows\",\n",
    "    \"Archseries\",\n",
    "    \"Artwork\",\n",
    "    \"Errata\",\n",
    "    \"Rarity\",\n",
    "    \"Cover card\",\n",
    "]\n",
    "\n",
    "all_cards_df, _ = load_corrected_latest(\"cards\", tuple_cols)\n",
    "all_speed_df, _ = load_corrected_latest(\"speed\", tuple_cols)\n",
    "set_lists_df, _ = load_corrected_latest(\"sets\", tuple_cols)"
   ]
  },
  {
   "cell_type": "markdown",
   "id": "b05d12f3-69b3-4fb8-9d38-00a4220faed6",
   "metadata": {
    "papermill": {
     "duration": 0.071253,
     "end_time": "2024-01-01T05:19:04.749874",
     "exception": false,
     "start_time": "2024-01-01T05:19:04.678621",
     "status": "completed"
    },
    "tags": []
   },
   "source": [
    "## Format data"
   ]
  },
  {
   "cell_type": "code",
   "execution_count": null,
   "id": "408e1580-2904-4d6b-83f3-6be83500fb78",
   "metadata": {
    "papermill": {
     "duration": 0.201927,
     "end_time": "2024-01-01T05:19:04.982199",
     "exception": false,
     "start_time": "2024-01-01T05:19:04.780272",
     "status": "completed"
    },
    "tags": []
   },
   "outputs": [],
   "source": [
    "df_list = [all_cards_df, all_speed_df, set_lists_df]\n",
    "if all(item is not None for item in df_list):\n",
    "    for df in df_list:\n",
    "        df[\"index\"] = df[\"Name\"].str.lower().str.replace(\"#\", \"\")\n",
    "\n",
    "else:\n",
    "    raise SystemExit(\"Not enough files to proceed. Aborting!\")"
   ]
  },
  {
   "cell_type": "markdown",
   "id": "e976bec2-3c0d-40d0-9a2e-6c1bb6b38059",
   "metadata": {
    "papermill": {
     "duration": 0.179229,
     "end_time": "2024-01-01T05:19:05.191732",
     "exception": false,
     "start_time": "2024-01-01T05:19:05.012503",
     "status": "completed"
    },
    "tags": []
   },
   "source": [
    "## Merge data"
   ]
  },
  {
   "cell_type": "code",
   "execution_count": null,
   "id": "6c1545b5-1ae1-4ae6-be8f-0e8eaac93080",
   "metadata": {
    "papermill": {
     "duration": 3.134606,
     "end_time": "2024-01-01T05:19:08.358306",
     "exception": false,
     "start_time": "2024-01-01T05:19:05.223700",
     "status": "completed"
    },
    "tags": []
   },
   "outputs": [],
   "source": [
    "full_df = pd.concat([all_cards_df, all_speed_df]).drop_duplicates(ignore_index=True)\n",
    "full_df = full_df.merge(set_lists_df, how=\"inner\", on=\"index\")\n",
    "full_df = full_df.convert_dtypes()\n",
    "full_df[\"Modification date\"] = full_df[\n",
    "    [\"Modification date_x\", \"Modification date_y\"]\n",
    "].max(axis=1)\n",
    "full_df[\"Name\"] = full_df[\"Name_x\"].fillna(full_df[\"Name_y\"])\n",
    "full_df.drop(\n",
    "    [\"index\", \"Name_x\", \"Name_y\", \"Modification date_x\", \"Modification date_y\"],\n",
    "    axis=1,\n",
    "    inplace=True,\n",
    ")\n",
    "full_df.rename(\n",
    "    columns={\"Page URL_x\": \"Card page URL\", \"Page URL_y\": \"Set page URL\"}, inplace=True\n",
    ")\n",
    "full_df = full_df[np.append(full_df.columns[-1:], full_df.columns[:-1])]"
   ]
  },
  {
   "cell_type": "markdown",
   "id": "f7c5cdf1-3f40-4d35-83b8-690933ba52a3",
   "metadata": {
    "papermill": {
     "duration": 0.065184,
     "end_time": "2024-01-01T05:19:08.455173",
     "exception": false,
     "start_time": "2024-01-01T05:19:08.389989",
     "status": "completed"
    },
    "tags": []
   },
   "source": [
    "# Data visualization"
   ]
  },
  {
   "cell_type": "code",
   "execution_count": null,
   "id": "10cbbdb2-ecd3-4a9e-a804-b9186febc279",
   "metadata": {
    "papermill": {
     "duration": 0.2042,
     "end_time": "2024-01-01T05:19:08.685983",
     "exception": false,
     "start_time": "2024-01-01T05:19:08.481783",
     "status": "completed"
    },
    "tags": []
   },
   "outputs": [],
   "source": [
    "full_df"
   ]
  },
  {
   "cell_type": "markdown",
   "id": "717be58b-4909-4892-ae15-844b7cb7b58c",
   "metadata": {
    "jp-MarkdownHeadingCollapsed": true,
    "papermill": {
     "duration": 0.084114,
     "end_time": "2024-01-01T05:19:08.806353",
     "exception": false,
     "start_time": "2024-01-01T05:19:08.722239",
     "status": "completed"
    },
    "tags": []
   },
   "source": [
    "## First releases"
   ]
  },
  {
   "cell_type": "markdown",
   "id": "4905c1fd-7e61-4bbb-9c82-953a9a4fd78f",
   "metadata": {
    "papermill": {
     "duration": 0.030064,
     "end_time": "2024-01-01T05:19:08.869758",
     "exception": false,
     "start_time": "2024-01-01T05:19:08.839694",
     "status": "completed"
    },
    "tags": []
   },
   "source": [
    "Obs: Only the first release of an individual card name"
   ]
  },
  {
   "cell_type": "code",
   "execution_count": null,
   "id": "51839140-77f4-4da6-bba6-f55d9a31c7f6",
   "metadata": {
    "papermill": {
     "duration": 0.841842,
     "end_time": "2024-01-01T05:19:09.742372",
     "exception": false,
     "start_time": "2024-01-01T05:19:08.900530",
     "status": "completed"
    },
    "tags": []
   },
   "outputs": [],
   "source": [
    "first_release = (\n",
    "    full_df[full_df[\"Release\"].notna()].groupby(\"Name\")[\"Release\"].agg(\"min\")\n",
    ")\n",
    "first_release.to_frame(name=\"First release\")"
   ]
  },
  {
   "cell_type": "code",
   "execution_count": null,
   "id": "6a1f1af8-a056-4045-bbaf-ea422db3d0a4",
   "metadata": {
    "papermill": {
     "duration": 2.699768,
     "end_time": "2024-01-01T05:19:12.482667",
     "exception": false,
     "start_time": "2024-01-01T05:19:09.782899",
     "status": "completed"
    },
    "tags": []
   },
   "outputs": [],
   "source": [
    "first_release_count = (\n",
    "    first_release.sort_values().value_counts(sort=False).to_frame(name=\"All cards\")\n",
    ")\n",
    "first_release_count.index.name = \"First Release\"\n",
    "rate_plot(first_release_count, bg=anime_df, vlines=rules_df[\"begin\"])"
   ]
  },
  {
   "cell_type": "markdown",
   "id": "b90d74bd-ac81-4289-a2e0-9e49bddfa6c4",
   "metadata": {
    "papermill": {
     "duration": 0.073245,
     "end_time": "2024-01-01T05:19:12.601215",
     "exception": false,
     "start_time": "2024-01-01T05:19:12.527970",
     "status": "completed"
    },
    "tags": []
   },
   "source": [
    "### By region"
   ]
  },
  {
   "cell_type": "code",
   "execution_count": null,
   "id": "d39f5310-38c4-41a7-94d7-6f8355a0d1f9",
   "metadata": {
    "papermill": {
     "duration": 0.975204,
     "end_time": "2024-01-01T05:19:13.623276",
     "exception": false,
     "start_time": "2024-01-01T05:19:12.648072",
     "status": "completed"
    },
    "tags": []
   },
   "outputs": [],
   "source": [
    "first_release_region = (\n",
    "    full_df[full_df[\"Release\"].notna()]\n",
    "    .groupby([\"Region\", \"Name\"])[\"Release\"]\n",
    "    .agg(\"min\")\n",
    ")\n",
    "first_release_region.to_frame(name=\"First release\")"
   ]
  },
  {
   "cell_type": "code",
   "execution_count": null,
   "id": "9d7c4e83-fa20-487f-b8ff-51552ac28e7b",
   "metadata": {
    "papermill": {
     "duration": 38.016837,
     "end_time": "2024-01-01T05:19:51.694267",
     "exception": false,
     "start_time": "2024-01-01T05:19:13.677430",
     "status": "completed"
    },
    "tags": []
   },
   "outputs": [],
   "source": [
    "first_release_region_count = (\n",
    "    first_release_region.sort_values()\n",
    "    .groupby([\"Region\"])\n",
    "    .value_counts(sort=False)\n",
    "    .unstack(0)\n",
    "    .fillna(0)\n",
    "    .round(0)\n",
    ")\n",
    "first_release_region_count.index.name = \"Release\"\n",
    "rate_subplots(\n",
    "    first_release_region_count,\n",
    "    title=\"First Release\",\n",
    "    bg=anime_df,\n",
    "    vlines=rules_df[\"begin\"],\n",
    ")"
   ]
  },
  {
   "cell_type": "markdown",
   "id": "68ed7e48-cdd1-49e5-996d-771b0aa476b2",
   "metadata": {
    "jp-MarkdownHeadingCollapsed": true,
    "papermill": {
     "duration": 0.078723,
     "end_time": "2024-01-01T05:19:51.927303",
     "exception": false,
     "start_time": "2024-01-01T05:19:51.848580",
     "status": "completed"
    },
    "tags": []
   },
   "source": [
    "## Last releases"
   ]
  },
  {
   "cell_type": "markdown",
   "id": "1adfdf14-386c-4766-ab1e-634c69028b09",
   "metadata": {
    "papermill": {
     "duration": 0.140637,
     "end_time": "2024-01-01T05:19:52.201888",
     "exception": false,
     "start_time": "2024-01-01T05:19:52.061251",
     "status": "completed"
    },
    "tags": []
   },
   "source": [
    "Obs: Only the last release of an individual card name"
   ]
  },
  {
   "cell_type": "code",
   "execution_count": null,
   "id": "4ed37661-d2b2-4427-bbea-39e2764810c0",
   "metadata": {
    "papermill": {
     "duration": 0.928633,
     "end_time": "2024-01-01T05:19:53.223883",
     "exception": false,
     "start_time": "2024-01-01T05:19:52.295250",
     "status": "completed"
    },
    "tags": []
   },
   "outputs": [],
   "source": [
    "last_release = full_df[full_df[\"Release\"].notna()].groupby(\"Name\")[\"Release\"].agg(\"max\")\n",
    "last_release.to_frame(name=\"Last release\")"
   ]
  },
  {
   "cell_type": "code",
   "execution_count": null,
   "id": "82e7e343-9ec4-4ff8-b8e9-59af5100ee79",
   "metadata": {
    "papermill": {
     "duration": 2.559526,
     "end_time": "2024-01-01T05:19:55.874548",
     "exception": false,
     "start_time": "2024-01-01T05:19:53.315022",
     "status": "completed"
    },
    "tags": []
   },
   "outputs": [],
   "source": [
    "last_release_count = (\n",
    "    last_release.sort_values().value_counts(sort=False).to_frame(name=\"All cards\")\n",
    ")\n",
    "last_release_count.index.name = \"Last Release\"\n",
    "rate_plot(last_release_count, bg=anime_df, vlines=rules_df[\"begin\"])"
   ]
  },
  {
   "cell_type": "markdown",
   "id": "df0f880e-2a39-42fd-8ad4-6eda067f4476",
   "metadata": {
    "papermill": {
     "duration": 0.090171,
     "end_time": "2024-01-01T05:19:56.057501",
     "exception": false,
     "start_time": "2024-01-01T05:19:55.967330",
     "status": "completed"
    },
    "tags": []
   },
   "source": [
    "### By region"
   ]
  },
  {
   "cell_type": "code",
   "execution_count": null,
   "id": "c9d718d3-37a0-4ef3-9d5b-fceba8bb60dd",
   "metadata": {
    "papermill": {
     "duration": 0.924394,
     "end_time": "2024-01-01T05:19:57.076432",
     "exception": false,
     "start_time": "2024-01-01T05:19:56.152038",
     "status": "completed"
    },
    "tags": []
   },
   "outputs": [],
   "source": [
    "last_release_region = (\n",
    "    full_df[full_df[\"Release\"].notna()]\n",
    "    .groupby([\"Region\", \"Name\"])[\"Release\"]\n",
    "    .agg(\"max\")\n",
    ")\n",
    "last_release_region.to_frame(name=\"Last release\")"
   ]
  },
  {
   "cell_type": "code",
   "execution_count": null,
   "id": "0a708d8b-781e-412a-ae3e-7a89c029065d",
   "metadata": {
    "papermill": {
     "duration": 40.577895,
     "end_time": "2024-01-01T05:20:37.754159",
     "exception": false,
     "start_time": "2024-01-01T05:19:57.176264",
     "status": "completed"
    },
    "tags": []
   },
   "outputs": [],
   "source": [
    "last_release_region_count = (\n",
    "    last_release_region.sort_values()\n",
    "    .groupby([\"Region\"])\n",
    "    .value_counts(sort=False)\n",
    "    .unstack(0)\n",
    "    .fillna(0)\n",
    "    .round(0)\n",
    ")\n",
    "last_release_region_count.index.name = \"Release\"\n",
    "rate_subplots(\n",
    "    last_release_region_count,\n",
    "    title=\"Last Release\",\n",
    "    bg=anime_df,\n",
    "    vlines=rules_df[\"begin\"],\n",
    ")"
   ]
  },
  {
   "cell_type": "markdown",
   "id": "811538f6-77b2-4736-8feb-022abeddeb5c",
   "metadata": {
    "papermill": {
     "duration": 0.125397,
     "end_time": "2024-01-01T05:20:38.021506",
     "exception": false,
     "start_time": "2024-01-01T05:20:37.896109",
     "status": "completed"
    },
    "tags": []
   },
   "source": [
    "## All Releases"
   ]
  },
  {
   "cell_type": "markdown",
   "id": "010ccac6-74c5-46dd-9b23-7a0a3fd5a1c1",
   "metadata": {
    "papermill": {
     "duration": 0.12823,
     "end_time": "2024-01-01T05:20:38.298975",
     "exception": false,
     "start_time": "2024-01-01T05:20:38.170745",
     "status": "completed"
    },
    "tags": []
   },
   "source": [
    "Obs: All releases includes reprints"
   ]
  },
  {
   "cell_type": "code",
   "execution_count": null,
   "id": "41e15306-2ffd-4d6e-b5c5-5f7ccd01618f",
   "metadata": {
    "papermill": {
     "duration": 2.660537,
     "end_time": "2024-01-01T05:20:41.086654",
     "exception": false,
     "start_time": "2024-01-01T05:20:38.426117",
     "status": "completed"
    },
    "tags": []
   },
   "outputs": [],
   "source": [
    "all_releases = (\n",
    "    full_df[\"Release\"][full_df[\"Release\"].notna()]\n",
    "    .value_counts()\n",
    "    .sort_index()\n",
    "    .to_frame()\n",
    ")\n",
    "all_releases.index.name = \"All releases\"\n",
    "rate_plot(all_releases, bg=anime_df, vlines=rules_df[\"begin\"])"
   ]
  },
  {
   "cell_type": "markdown",
   "id": "0a191a3e-66bb-450e-9b37-f1ebb15c3d7e",
   "metadata": {
    "papermill": {
     "duration": 0.146285,
     "end_time": "2024-01-01T05:20:41.369261",
     "exception": false,
     "start_time": "2024-01-01T05:20:41.222976",
     "status": "completed"
    },
    "tags": []
   },
   "source": [
    "### By card type"
   ]
  },
  {
   "cell_type": "code",
   "execution_count": null,
   "id": "0621222f-c793-4206-8344-eaac4c55a75c",
   "metadata": {
    "papermill": {
     "duration": 0.381588,
     "end_time": "2024-01-01T05:20:41.882767",
     "exception": false,
     "start_time": "2024-01-01T05:20:41.501179",
     "status": "completed"
    },
    "tags": []
   },
   "outputs": [],
   "source": [
    "# All releases, includes reprints - Double check\n",
    "release_card_type = (\n",
    "    full_df.groupby([\"Card type\", \"Release\"])[\"Name\"]\n",
    "    .nunique()\n",
    "    .unstack(0)\n",
    "    .sort_index()\n",
    "    .fillna(0)\n",
    "    .astype(int)\n",
    ")\n",
    "release_card_type.groupby(release_card_type.index.strftime(\"%Y\")).sum().T"
   ]
  },
  {
   "cell_type": "code",
   "execution_count": null,
   "id": "b8fe7da4-23e5-490a-992a-f5837f3dc216",
   "metadata": {
    "papermill": {
     "duration": 3.401934,
     "end_time": "2024-01-01T05:20:45.418644",
     "exception": false,
     "start_time": "2024-01-01T05:20:42.016710",
     "status": "completed"
    },
    "tags": []
   },
   "outputs": [],
   "source": [
    "card_type_colors = [colors_dict[col] for col in release_card_type.columns]\n",
    "rate_plot(\n",
    "    release_card_type, colors=card_type_colors, bg=anime_df, vlines=rules_df[\"begin\"]\n",
    ")"
   ]
  },
  {
   "cell_type": "markdown",
   "id": "bd7a3a56-f0ba-4f3a-acab-d6edadd57b9e",
   "metadata": {
    "papermill": {
     "duration": 0.135463,
     "end_time": "2024-01-01T05:20:45.690851",
     "exception": false,
     "start_time": "2024-01-01T05:20:45.555388",
     "status": "completed"
    },
    "tags": []
   },
   "source": [
    "### By primary type"
   ]
  },
  {
   "cell_type": "code",
   "execution_count": null,
   "id": "e2da2a9b-df09-4b05-9d52-564e81b1787f",
   "metadata": {
    "papermill": {
     "duration": 0.904844,
     "end_time": "2024-01-01T05:20:46.746415",
     "exception": false,
     "start_time": "2024-01-01T05:20:45.841571",
     "status": "completed"
    },
    "tags": []
   },
   "outputs": [],
   "source": [
    "# All releases, includes reprints - Double check\n",
    "# Sort properly\n",
    "release_primary_type = (\n",
    "    full_df.groupby([\"Primary type\", \"Release\"])[\"Name\"]\n",
    "    .nunique()\n",
    "    .unstack(0)\n",
    "    .sort_index()\n",
    "    .fillna(0)\n",
    "    .astype(int)\n",
    ")\n",
    "release_primary_type.groupby(release_primary_type.index.strftime(\"%Y\")).sum().T"
   ]
  },
  {
   "cell_type": "code",
   "execution_count": null,
   "id": "0986f91b-b91d-47b2-9d9a-3c0e51127d1b",
   "metadata": {
    "papermill": {
     "duration": 2.667398,
     "end_time": "2024-01-01T05:20:49.554429",
     "exception": false,
     "start_time": "2024-01-01T05:20:46.887031",
     "status": "completed"
    },
    "tags": []
   },
   "outputs": [],
   "source": [
    "primary_type_colors = [colors_dict[col] for col in release_primary_type.columns]\n",
    "rate_plot(\n",
    "    release_primary_type,\n",
    "    colors=primary_type_colors,\n",
    "    bg=anime_df,\n",
    "    vlines=rules_df[\"begin\"],\n",
    ")"
   ]
  },
  {
   "cell_type": "markdown",
   "id": "61ca539a-6816-4937-bbd6-6ec7b053fbc6",
   "metadata": {
    "papermill": {
     "duration": 0.131897,
     "end_time": "2024-01-01T05:20:49.893115",
     "exception": false,
     "start_time": "2024-01-01T05:20:49.761218",
     "status": "completed"
    },
    "tags": []
   },
   "source": [
    "### By secondary type"
   ]
  },
  {
   "cell_type": "code",
   "execution_count": null,
   "id": "9b3e4e1f-e27a-4c16-98f0-5811faf48122",
   "metadata": {
    "papermill": {
     "duration": 3.888583,
     "end_time": "2024-01-01T05:20:53.932982",
     "exception": false,
     "start_time": "2024-01-01T05:20:50.044399",
     "status": "completed"
    },
    "tags": []
   },
   "outputs": [],
   "source": [
    "# All releases, includes reprints - Double check\n",
    "# Sort properly\n",
    "release_secondary_type = (\n",
    "    full_df.explode(\"Secondary type\")\n",
    "    .groupby([\"Secondary type\", \"Release\"])[\"Name\"]\n",
    "    .nunique()\n",
    "    .unstack(0)\n",
    "    .sort_index()\n",
    "    .fillna(0)\n",
    "    .astype(int)\n",
    ")\n",
    "release_secondary_type.groupby(release_secondary_type.index.strftime(\"%Y\")).sum().T"
   ]
  },
  {
   "cell_type": "code",
   "execution_count": null,
   "id": "83fcc4ac-1866-42a2-9e11-2bb2df518b04",
   "metadata": {
    "papermill": {
     "duration": 2.661364,
     "end_time": "2024-01-01T05:20:56.781384",
     "exception": false,
     "start_time": "2024-01-01T05:20:54.120020",
     "status": "completed"
    },
    "tags": []
   },
   "outputs": [],
   "source": [
    "rate_plot(release_secondary_type, bg=anime_df, vlines=rules_df[\"begin\"])"
   ]
  },
  {
   "cell_type": "markdown",
   "id": "426d9713-0e0c-4af3-9e5f-5ed3e5e5a0c1",
   "metadata": {
    "papermill": {
     "duration": 0.13667,
     "end_time": "2024-01-01T05:20:57.144688",
     "exception": false,
     "start_time": "2024-01-01T05:20:57.008018",
     "status": "completed"
    },
    "tags": []
   },
   "source": [
    "### By attribute"
   ]
  },
  {
   "cell_type": "code",
   "execution_count": null,
   "id": "3bb3fed2-3036-4194-8c87-620f0a237f5a",
   "metadata": {
    "papermill": {
     "duration": 0.347142,
     "end_time": "2024-01-01T05:20:57.636100",
     "exception": false,
     "start_time": "2024-01-01T05:20:57.288958",
     "status": "completed"
    },
    "tags": []
   },
   "outputs": [],
   "source": [
    "# All releases, includes reprints - Double check\n",
    "# Sort properly\n",
    "release_attribute = (\n",
    "    full_df.groupby([\"Attribute\", \"Release\"])[\"Name\"]\n",
    "    .nunique()\n",
    "    .unstack(0)\n",
    "    .sort_index()\n",
    "    .fillna(0)\n",
    "    .astype(int)\n",
    ")\n",
    "release_attribute.groupby(release_attribute.index.strftime(\"%Y\")).sum().T"
   ]
  },
  {
   "cell_type": "code",
   "execution_count": null,
   "id": "967d93eb-03ef-4feb-8a8c-3ee7a9f10b24",
   "metadata": {
    "papermill": {
     "duration": 2.865423,
     "end_time": "2024-01-01T05:21:00.655993",
     "exception": false,
     "start_time": "2024-01-01T05:20:57.790570",
     "status": "completed"
    },
    "tags": []
   },
   "outputs": [],
   "source": [
    "attribute_colors = [colors_dict[col] for col in release_attribute.columns]\n",
    "rate_plot(\n",
    "    release_attribute,\n",
    "    colors=attribute_colors,\n",
    "    bg=anime_df,\n",
    "    vlines=rules_df[\"begin\"],\n",
    "    cumsum=True,\n",
    ")"
   ]
  },
  {
   "cell_type": "markdown",
   "id": "5eb10e4e-fddb-4e03-9766-444c9b4a69ed",
   "metadata": {
    "papermill": {
     "duration": 0.138869,
     "end_time": "2024-01-01T05:21:00.972803",
     "exception": false,
     "start_time": "2024-01-01T05:21:00.833934",
     "status": "completed"
    },
    "tags": []
   },
   "source": [
    "### By monster type"
   ]
  },
  {
   "cell_type": "code",
   "execution_count": null,
   "id": "99f3ca8c-0a4b-4082-b8d0-051267460320",
   "metadata": {
    "papermill": {
     "duration": 0.368218,
     "end_time": "2024-01-01T05:21:01.490037",
     "exception": false,
     "start_time": "2024-01-01T05:21:01.121819",
     "status": "completed"
    },
    "tags": []
   },
   "outputs": [],
   "source": [
    "# All releases, includes reprints - Double check\n",
    "# Sort properly\n",
    "release_monster_type = (\n",
    "    full_df.groupby([\"Monster type\", \"Release\"])[\"Name\"]\n",
    "    .nunique()\n",
    "    .unstack(0)\n",
    "    .sort_index()\n",
    "    .fillna(0)\n",
    "    .astype(int)\n",
    ")\n",
    "release_monster_type.groupby(release_monster_type.index.strftime(\"%Y\")).sum().T"
   ]
  },
  {
   "cell_type": "code",
   "execution_count": null,
   "id": "83ec20a7-eb56-485e-9282-5dcc6ee89cf5",
   "metadata": {
    "papermill": {
     "duration": 72.462237,
     "end_time": "2024-01-01T05:22:14.284129",
     "exception": false,
     "start_time": "2024-01-01T05:21:01.821892",
     "status": "completed"
    },
    "tags": []
   },
   "outputs": [],
   "source": [
    "rate_subplots(release_monster_type, bg=anime_df, vlines=rules_df[\"begin\"])"
   ]
  },
  {
   "cell_type": "markdown",
   "id": "ccd8df1f-8f20-4d07-855c-1b78f29d9e4a",
   "metadata": {
    "papermill": {
     "duration": 0.225495,
     "end_time": "2024-01-01T05:22:14.741721",
     "exception": false,
     "start_time": "2024-01-01T05:22:14.516226",
     "status": "completed"
    },
    "tags": []
   },
   "source": [
    "### By Level/Rank"
   ]
  },
  {
   "cell_type": "code",
   "execution_count": null,
   "id": "35f4e012-fc2c-4fdf-bf83-dff4807a6b36",
   "metadata": {
    "papermill": {
     "duration": 9.124416,
     "end_time": "2024-01-01T05:22:24.135378",
     "exception": false,
     "start_time": "2024-01-01T05:22:15.010962",
     "status": "completed"
    },
    "tags": []
   },
   "outputs": [],
   "source": [
    "boxplot(full_df[[\"Release\", \"Level/Rank\"]], color=colors_dict[\"Level\"], notch=True)"
   ]
  },
  {
   "cell_type": "markdown",
   "id": "d5f37c9c-60ea-4d1a-98a1-566c71a888f4",
   "metadata": {
    "papermill": {
     "duration": 0.225435,
     "end_time": "2024-01-01T05:22:24.647304",
     "exception": false,
     "start_time": "2024-01-01T05:22:24.421869",
     "status": "completed"
    },
    "tags": []
   },
   "source": [
    "### By ATK"
   ]
  },
  {
   "cell_type": "code",
   "execution_count": null,
   "id": "a9943fd3-81e3-4718-b02b-7a1c47d52590",
   "metadata": {
    "papermill": {
     "duration": 8.578754,
     "end_time": "2024-01-01T05:22:33.474431",
     "exception": false,
     "start_time": "2024-01-01T05:22:24.895677",
     "status": "completed"
    },
    "tags": []
   },
   "outputs": [],
   "source": [
    "boxplot(full_df[[\"Release\", \"ATK\"]], color=colors_dict[\"Effect Monster\"], notch=True)"
   ]
  },
  {
   "cell_type": "markdown",
   "id": "d1182406-c948-4f81-bcac-db2d4b7a912d",
   "metadata": {
    "papermill": {
     "duration": 0.228864,
     "end_time": "2024-01-01T05:22:33.995705",
     "exception": false,
     "start_time": "2024-01-01T05:22:33.766841",
     "status": "completed"
    },
    "tags": []
   },
   "source": [
    "### By DEF"
   ]
  },
  {
   "cell_type": "code",
   "execution_count": null,
   "id": "54cfccd2-f677-4ab8-81c0-e794a1015872",
   "metadata": {
    "papermill": {
     "duration": 8.203063,
     "end_time": "2024-01-01T05:22:42.530582",
     "exception": false,
     "start_time": "2024-01-01T05:22:34.327519",
     "status": "completed"
    },
    "tags": []
   },
   "outputs": [],
   "source": [
    "boxplot(full_df[[\"Release\", \"DEF\"]], color=colors_dict[\"Effect Monster\"], notch=True)"
   ]
  },
  {
   "cell_type": "markdown",
   "id": "1d8dd39e-5075-49c7-9ea8-a6255f1684e9",
   "metadata": {
    "papermill": {
     "duration": 0.242424,
     "end_time": "2024-01-01T05:22:43.162586",
     "exception": false,
     "start_time": "2024-01-01T05:22:42.920162",
     "status": "completed"
    },
    "tags": []
   },
   "source": [
    "### By pendulum scale"
   ]
  },
  {
   "cell_type": "code",
   "execution_count": null,
   "id": "29c1d59e-ba6c-4138-89d2-c8eb9d563f2e",
   "metadata": {
    "papermill": {
     "duration": 0.988849,
     "end_time": "2024-01-01T05:22:44.409244",
     "exception": false,
     "start_time": "2024-01-01T05:22:43.420395",
     "status": "completed"
    },
    "tags": []
   },
   "outputs": [],
   "source": [
    "boxplot(\n",
    "    full_df[[\"Release\", \"Pendulum Scale\"]],\n",
    "    color=colors_dict[\"Pendulum Monster\"],\n",
    "    notch=True,\n",
    ")"
   ]
  },
  {
   "cell_type": "markdown",
   "id": "75b2d1e5-5cd5-4bee-8f29-2d3e63bb777d",
   "metadata": {
    "papermill": {
     "duration": 0.228146,
     "end_time": "2024-01-01T05:22:44.938687",
     "exception": false,
     "start_time": "2024-01-01T05:22:44.710541",
     "status": "completed"
    },
    "tags": []
   },
   "source": [
    "### By link"
   ]
  },
  {
   "cell_type": "code",
   "execution_count": null,
   "id": "8971fc23-7364-43a9-b65d-d5c3dc138205",
   "metadata": {
    "papermill": {
     "duration": 0.810113,
     "end_time": "2024-01-01T05:22:45.987651",
     "exception": false,
     "start_time": "2024-01-01T05:22:45.177538",
     "status": "completed"
    },
    "tags": []
   },
   "outputs": [],
   "source": [
    "boxplot(full_df[[\"Release\", \"Link\"]], color=colors_dict[\"Link Monster\"])"
   ]
  },
  {
   "cell_type": "markdown",
   "id": "4951f8e7-5726-4a0d-95fd-e124ecfc0122",
   "metadata": {
    "papermill": {
     "duration": 0.252171,
     "end_time": "2024-01-01T05:22:46.600251",
     "exception": false,
     "start_time": "2024-01-01T05:22:46.348080",
     "status": "completed"
    },
    "tags": []
   },
   "source": [
    "# Debug"
   ]
  },
  {
   "cell_type": "markdown",
   "id": "53c24421-dc1e-4386-96b4-4bd9c23eeecd",
   "metadata": {
    "papermill": {
     "duration": 0.224756,
     "end_time": "2024-01-01T05:22:47.057854",
     "exception": false,
     "start_time": "2024-01-01T05:22:46.833098",
     "status": "completed"
    },
    "tags": []
   },
   "source": [
    "## Merge failed"
   ]
  },
  {
   "cell_type": "code",
   "execution_count": null,
   "id": "b609be14-100d-42b3-ab57-335afa834b6e",
   "metadata": {
    "papermill": {
     "duration": 0.333777,
     "end_time": "2024-01-01T05:22:47.634057",
     "exception": false,
     "start_time": "2024-01-01T05:22:47.300280",
     "status": "completed"
    },
    "tags": []
   },
   "outputs": [],
   "source": [
    "all_cards_df.where(~all_cards_df[\"Name\"].isin(full_df[\"Name\"])).dropna(how=\"all\")"
   ]
  },
  {
   "cell_type": "code",
   "execution_count": null,
   "id": "aecfb79b-d289-4b85-a997-3582fba70e09",
   "metadata": {
    "papermill": {
     "duration": 1.137815,
     "end_time": "2024-01-01T05:22:49.068868",
     "exception": false,
     "start_time": "2024-01-01T05:22:47.931053",
     "status": "completed"
    },
    "tags": []
   },
   "outputs": [],
   "source": [
    "set_lists_df.where(\n",
    "    (~set_lists_df[\"Card number\"].isin(full_df[\"Card number\"]))\n",
    "    & (~set_lists_df[\"Card number\"].dropna().str.startswith(\"RD/\"))\n",
    ").dropna(how=\"all\")"
   ]
  },
  {
   "cell_type": "markdown",
   "id": "9cdbfc4e-71d0-41e4-a421-73bf3a98e734",
   "metadata": {
    "papermill": {
     "duration": 0.268611,
     "end_time": "2024-01-01T05:22:49.574235",
     "exception": false,
     "start_time": "2024-01-01T05:22:49.305624",
     "status": "completed"
    },
    "tags": []
   },
   "source": [
    " # Epilogue"
   ]
  },
  {
   "cell_type": "code",
   "execution_count": null,
   "id": "56a507f9-1007-4a67-9bc8-bd11010b20ae",
   "metadata": {
    "papermill": {
     "duration": 0.647887,
     "end_time": "2024-01-01T05:22:50.465941",
     "exception": false,
     "start_time": "2024-01-01T05:22:49.818054",
     "status": "completed"
    },
    "tags": []
   },
   "outputs": [],
   "source": [
    "benchmark(report=\"timeline\", timestamp=timestamp)"
   ]
  },
  {
   "cell_type": "code",
   "execution_count": null,
   "id": "479dc549-52ce-4e36-b0a5-ff555459ea23",
   "metadata": {
    "papermill": {
     "duration": 0.245951,
     "end_time": "2024-01-01T05:22:50.999847",
     "exception": false,
     "start_time": "2024-01-01T05:22:50.753896",
     "status": "completed"
    },
    "tags": []
   },
   "outputs": [],
   "source": [
    "footer()"
   ]
  },
  {
   "cell_type": "markdown",
   "id": "009d91f5-e119-43bb-95f6-486837be7a7e",
   "metadata": {
    "papermill": {
     "duration": 0.234148,
     "end_time": "2024-01-01T05:22:51.473664",
     "exception": false,
     "start_time": "2024-01-01T05:22:51.239516",
     "status": "completed"
    },
    "tags": []
   },
   "source": [
    "## HTML export"
   ]
  },
  {
   "cell_type": "code",
   "execution_count": null,
   "id": "223a8a40-b2d8-4296-b9c2-43a38d30607b",
   "metadata": {
    "papermill": {
     "duration": 0.249935,
     "end_time": "2024-01-01T05:22:51.962625",
     "exception": false,
     "start_time": "2024-01-01T05:22:51.712690",
     "status": "completed"
    },
    "tags": []
   },
   "outputs": [],
   "source": [
    "# May need to sleep for a few seconds after saving\n",
    "save_notebook()"
   ]
  },
  {
   "cell_type": "code",
   "execution_count": null,
   "id": "b6a35c5d-b424-4820-8d26-8be29b50c546",
   "metadata": {
    "papermill": {
     "duration": 4.390455,
     "end_time": "2024-01-01T05:22:56.618483",
     "exception": false,
     "start_time": "2024-01-01T05:22:52.228028",
     "status": "completed"
    },
    "tags": []
   },
   "outputs": [],
   "source": [
    "! jupyter nbconvert Timeline.ipynb --output-dir='../' --to=HTML --template=labdynamic --no-input"
   ]
  },
  {
   "cell_type": "markdown",
   "id": "82ca05e5-839d-4742-ba86-ac0c8f14c5b8",
   "metadata": {
    "papermill": {
     "duration": 0.233569,
     "end_time": "2024-01-01T05:22:57.150154",
     "exception": false,
     "start_time": "2024-01-01T05:22:56.916585",
     "status": "completed"
    },
    "tags": [
     "exclude"
    ]
   },
   "source": [
    "## Git"
   ]
  },
  {
   "cell_type": "code",
   "execution_count": null,
   "id": "818b4d7f-2fea-4fe5-bd77-bb884f5bbaf0",
   "metadata": {
    "papermill": {
     "duration": 2.513803,
     "end_time": "2024-01-01T05:22:59.899859",
     "exception": false,
     "start_time": "2024-01-01T05:22:57.386056",
     "status": "completed"
    },
    "tags": []
   },
   "outputs": [],
   "source": [
    "commit(\"*[Tt]imeline*\", f\"Timeline update - {timestamp.isoformat()}\")"
   ]
  }
 ],
 "metadata": {
  "kernelspec": {
   "display_name": "Python 3 (ipykernel)",
   "language": "python",
   "name": "python3"
  },
  "language_info": {
   "codemirror_mode": {
    "name": "ipython",
    "version": 3
   },
   "file_extension": ".py",
   "mimetype": "text/x-python",
   "name": "python",
   "nbconvert_exporter": "python",
   "pygments_lexer": "ipython3",
   "version": "3.11.6"
  },
  "papermill": {
   "default_parameters": {},
   "duration": 252.679775,
   "end_time": "2024-01-01T05:23:02.572757",
   "environment_variables": {},
   "exception": null,
   "input_path": "Timeline.ipynb",
   "output_path": "Timeline.ipynb",
   "parameters": {},
   "start_time": "2024-01-01T05:18:49.892982",
   "version": "2.4.0"
  },
  "toc": {
   "base_numbering": 1,
   "nav_menu": {},
   "number_sections": true,
   "sideBar": true,
   "skip_h1_title": false,
   "title_cell": "Table of Contents",
   "title_sidebar": "Contents",
   "toc_cell": true,
   "toc_position": {},
   "toc_section_display": true,
   "toc_window_display": true
  }
 },
 "nbformat": 4,
 "nbformat_minor": 5
}
