{
 "cells": [
  {
   "cell_type": "code",
   "execution_count": null,
   "id": "a570071f-ec8c-496c-9960-2b4af3137f44",
   "metadata": {
    "papermill": {
     "duration": 2.322344,
     "end_time": "2023-03-01T00:50:13.660948",
     "exception": false,
     "start_time": "2023-03-01T00:50:11.338604",
     "status": "completed"
    },
    "tags": []
   },
   "outputs": [],
   "source": [
    "from yugiquery import *\n",
    "header('Timeline')"
   ]
  },
  {
   "cell_type": "markdown",
   "id": "d531326c-b92f-4c04-a301-83434217fa65",
   "metadata": {
    "papermill": {
     "duration": 0.154078,
     "end_time": "2023-03-01T00:50:13.831633",
     "exception": false,
     "start_time": "2023-03-01T00:50:13.677555",
     "status": "completed"
    },
    "tags": []
   },
   "source": [
    "---"
   ]
  },
  {
   "cell_type": "markdown",
   "id": "98c3721e",
   "metadata": {
    "papermill": {
     "duration": 0.019674,
     "end_time": "2023-03-01T00:50:13.871791",
     "exception": false,
     "start_time": "2023-03-01T00:50:13.852117",
     "status": "completed"
    },
    "tags": [],
    "toc": true
   },
   "source": [
    "Table of Contents\n",
    "=================\n",
    "\n",
    "*   [1  Data preparation](#Data-preparation)\n",
    "    *   [1.1  Load data](#Load-data)\n",
    "    *   [1.2  Format data](#Format-data)\n",
    "    *   [1.3  Merge data](#Merge-data)\n",
    "*   [4  Data visualization](#Data-visualization)\n",
    "    *   [4.1  First releases](#First-releases)\n",
    "        *   [4.1.1  By region](#By-region)\n",
    "    *   [4.1  Last releases](#Last-releases)\n",
    "        *   [4.1.1  By region](#By-region)\n",
    "    *   [4.2  All Releases](#All-Releases)\n",
    "        *   [4.2.1  By card type](#By-card-type)\n",
    "        *   [4.2.2  By primary type](#By-primary-type)\n",
    "        *   [4.2.3  By secondary type](#By-secondary-type)\n",
    "        *   [4.2.4  By attribute](#By-attribute)\n",
    "        *   [4.2.5  By monster type](#By-monster-type)\n",
    "        *   [4.2.6  By Level/Rank](#By-Level/Rank)\n",
    "        *   [4.2.7  By ATK](#By-ATK)\n",
    "        *   [4.2.8  By DEF](#By-DEF)\n",
    "        *   [4.2.9  By pendulum scale](#By-pendulum-scale)\n",
    "        *   [4.2.10  By link](#By-link)\n",
    "*   [5  Debug](#Debug)\n",
    "    *   [5.1  Merge failed](#Merge-failed)\n",
    "*   [6  Epilogue](#Epilogue)\n",
    "    *   [6.1  HTML export](#HTML-export)\n",
    "<!-- *   [6.2  Git](#Git) -->"
   ]
  },
  {
   "cell_type": "markdown",
   "id": "98e5146f-5f48-426c-b7be-07b64cd429e4",
   "metadata": {
    "papermill": {
     "duration": 0.02001,
     "end_time": "2023-03-01T00:50:13.911715",
     "exception": false,
     "start_time": "2023-03-01T00:50:13.891705",
     "status": "completed"
    },
    "tags": []
   },
   "source": [
    "# Data preparation"
   ]
  },
  {
   "cell_type": "markdown",
   "id": "df92295d-d124-4eea-ba54-a691fddf3d5c",
   "metadata": {
    "papermill": {
     "duration": 0.019293,
     "end_time": "2023-03-01T00:50:13.951415",
     "exception": false,
     "start_time": "2023-03-01T00:50:13.932122",
     "status": "completed"
    },
    "tags": []
   },
   "source": [
    "## Load data"
   ]
  },
  {
   "cell_type": "code",
   "execution_count": null,
   "id": "fe78d6ac-18e0-49d6-bdbf-43f9c11b15a0",
   "metadata": {
    "papermill": {
     "duration": 0.062448,
     "end_time": "2023-03-01T00:50:14.033700",
     "exception": false,
     "start_time": "2023-03-01T00:50:13.971252",
     "status": "completed"
    },
    "tags": []
   },
   "outputs": [],
   "source": [
    "# Load list of important dates\n",
    "with open('../assets/dates.json','r') as f:\n",
    "    dates_json = json.load(f)\n",
    "    anime_df = pd.DataFrame(dates_json['anime']['series']).set_index('title').applymap(pd.to_datetime, dayfirst=True)\n",
    "    rules_df = pd.DataFrame(dates_json['rules']).set_index('title').applymap(pd.to_datetime, dayfirst=True).iloc[2:] # Ignore old rules"
   ]
  },
  {
   "cell_type": "code",
   "execution_count": null,
   "id": "69b9995b-436e-4552-86d6-6dd4fabff8d0",
   "metadata": {
    "papermill": {
     "duration": 8.55969,
     "end_time": "2023-03-01T00:50:22.609999",
     "exception": false,
     "start_time": "2023-03-01T00:50:14.050309",
     "status": "completed"
    },
    "tags": []
   },
   "outputs": [],
   "source": [
    "# Get list of files\n",
    "all_cards_files = sorted(glob.glob('../data/all_cards_*.csv'), key=os.path.getctime, reverse=True)\n",
    "all_speed_files = sorted(glob.glob('../data/all_speed_*.csv'), key=os.path.getctime, reverse=True)\n",
    "set_lists_files = sorted(glob.glob('../data/all_sets_*.csv'), key=os.path.getctime, reverse=True)\n",
    "\n",
    "# Tuple columns\n",
    "tuple_cols = ['Secondary type', 'Effect type', 'Link Arrows', 'Archseries', 'Artwork', 'Errata', 'Rarity', 'Cover card']\n",
    "\n",
    "# Get newest file if exist\n",
    "if all_cards_files:\n",
    "    all_cards_df = pd.read_csv(all_cards_files[0], dtype=object)\n",
    "    # Correct tuples\n",
    "    for col in tuple_cols:\n",
    "        if col in all_cards_df:\n",
    "            all_cards_df[col] = all_cards_df[col].dropna().apply(literal_eval)\n",
    "\n",
    "    print('Cards file loaded')\n",
    "else:\n",
    "    all_cards_df = None\n",
    "    print('No cards files')\n",
    "    \n",
    "if all_speed_files:\n",
    "    all_speed_df = pd.read_csv(all_speed_files[0], dtype=object)\n",
    "    # Correct tuples\n",
    "    for col in tuple_cols:\n",
    "        if col in all_speed_df:\n",
    "            all_speed_df[col] = all_speed_df[col].dropna().apply(literal_eval)\n",
    "\n",
    "    print('Speed duel cards file loaded')\n",
    "else:\n",
    "    all_cards_df = None\n",
    "    print('No speed duel files')\n",
    "    \n",
    "if set_lists_files:\n",
    "    set_lists_df = pd.read_csv(set_lists_files[0], dtype=object)\n",
    "    # Correct tuples\n",
    "    for col in tuple_cols:\n",
    "        if col in set_lists_df:\n",
    "            set_lists_df[col] = set_lists_df[col].dropna().apply(literal_eval)\n",
    "\n",
    "    print('Sets file loaded')\n",
    "else:\n",
    "    set_lists_df = None\n",
    "    print('No set lists files')"
   ]
  },
  {
   "cell_type": "markdown",
   "id": "b05d12f3-69b3-4fb8-9d38-00a4220faed6",
   "metadata": {
    "papermill": {
     "duration": 0.047144,
     "end_time": "2023-03-01T00:50:22.677130",
     "exception": false,
     "start_time": "2023-03-01T00:50:22.629986",
     "status": "completed"
    },
    "tags": []
   },
   "source": [
    "## Format data"
   ]
  },
  {
   "cell_type": "code",
   "execution_count": null,
   "id": "408e1580-2904-4d6b-83f3-6be83500fb78",
   "metadata": {
    "papermill": {
     "duration": 0.239724,
     "end_time": "2023-03-01T00:50:22.936933",
     "exception": false,
     "start_time": "2023-03-01T00:50:22.697209",
     "status": "completed"
    },
    "tags": []
   },
   "outputs": [],
   "source": [
    "df_list = [all_cards_df, all_speed_df, set_lists_df]\n",
    "if all(item is not None for item in df_list):\n",
    "    for df in df_list:\n",
    "        df['index'] = df['Name'].str.lower()\n",
    "        df['Modification date'] = pd.to_datetime(df['Modification date'])\n",
    "\n",
    "    set_lists_df['Release'] = pd.to_datetime(set_lists_df['Release'])\n",
    "    \n",
    "else:\n",
    "    raise SystemExit(\"Not enough files to proceed. Aborting!\")"
   ]
  },
  {
   "cell_type": "markdown",
   "id": "e976bec2-3c0d-40d0-9a2e-6c1bb6b38059",
   "metadata": {
    "papermill": {
     "duration": 0.085073,
     "end_time": "2023-03-01T00:50:23.043061",
     "exception": false,
     "start_time": "2023-03-01T00:50:22.957988",
     "status": "completed"
    },
    "tags": []
   },
   "source": [
    "## Merge data"
   ]
  },
  {
   "cell_type": "code",
   "execution_count": null,
   "id": "28678f0f-8a83-46c9-864a-37c70e3c39a0",
   "metadata": {
    "papermill": {
     "duration": 2.949774,
     "end_time": "2023-03-01T00:50:26.015739",
     "exception": false,
     "start_time": "2023-03-01T00:50:23.065965",
     "status": "completed"
    },
    "tags": []
   },
   "outputs": [],
   "source": [
    "full_df = pd.concat([all_cards_df, all_speed_df]).drop_duplicates(ignore_index=True)\n",
    "full_df = full_df.merge(set_lists_df, indicator = True, how='outer', on='index')\n",
    "full_df = full_df.convert_dtypes()\n",
    "full_df['Modification date'] = full_df[['Modification date_x','Modification date_y']].max(axis=1)\n",
    "full_df['Name'] = full_df['Name_x'].fillna(full_df['Name_y'])\n",
    "full_df.drop(['index', 'Name_x', 'Name_y', 'Modification date_x', 'Modification date_y'], axis=1, inplace = True)\n",
    "full_df.rename(columns={'Page URL_x': 'Card page URL', 'Page URL_y': 'Set page URL'}, inplace=True)\n",
    "full_df = full_df[np.append(full_df.columns[-1:],full_df.columns[:-1])]"
   ]
  },
  {
   "cell_type": "markdown",
   "id": "f7c5cdf1-3f40-4d35-83b8-690933ba52a3",
   "metadata": {
    "papermill": {
     "duration": 0.063278,
     "end_time": "2023-03-01T00:50:26.100692",
     "exception": false,
     "start_time": "2023-03-01T00:50:26.037414",
     "status": "completed"
    },
    "tags": []
   },
   "source": [
    "# Data visualization"
   ]
  },
  {
   "cell_type": "code",
   "execution_count": null,
   "id": "10cbbdb2-ecd3-4a9e-a804-b9186febc279",
   "metadata": {
    "papermill": {
     "duration": 0.131452,
     "end_time": "2023-03-01T00:50:26.253074",
     "exception": false,
     "start_time": "2023-03-01T00:50:26.121622",
     "status": "completed"
    },
    "tags": []
   },
   "outputs": [],
   "source": [
    "full_df"
   ]
  },
  {
   "cell_type": "markdown",
   "id": "717be58b-4909-4892-ae15-844b7cb7b58c",
   "metadata": {
    "papermill": {
     "duration": 0.021469,
     "end_time": "2023-03-01T00:50:26.296047",
     "exception": false,
     "start_time": "2023-03-01T00:50:26.274578",
     "status": "completed"
    },
    "tags": []
   },
   "source": [
    "## First releases"
   ]
  },
  {
   "cell_type": "markdown",
   "id": "4905c1fd-7e61-4bbb-9c82-953a9a4fd78f",
   "metadata": {
    "papermill": {
     "duration": 0.044522,
     "end_time": "2023-03-01T00:50:26.362579",
     "exception": false,
     "start_time": "2023-03-01T00:50:26.318057",
     "status": "completed"
    },
    "tags": []
   },
   "source": [
    "Obs: Only the first release of an individual card name"
   ]
  },
  {
   "cell_type": "code",
   "execution_count": null,
   "id": "51839140-77f4-4da6-bba6-f55d9a31c7f6",
   "metadata": {
    "papermill": {
     "duration": 3.164531,
     "end_time": "2023-03-01T00:50:29.551166",
     "exception": false,
     "start_time": "2023-03-01T00:50:26.386635",
     "status": "completed"
    },
    "tags": []
   },
   "outputs": [],
   "source": [
    "first_release=full_df[full_df['Release'].notna()].groupby('Name')['Release'].agg(['min','idxmin'])\n",
    "first_release"
   ]
  },
  {
   "cell_type": "code",
   "execution_count": null,
   "id": "6a1f1af8-a056-4045-bbaf-ea422db3d0a4",
   "metadata": {
    "papermill": {
     "duration": 2.281333,
     "end_time": "2023-03-01T00:50:31.851750",
     "exception": false,
     "start_time": "2023-03-01T00:50:29.570417",
     "status": "completed"
    },
    "tags": []
   },
   "outputs": [],
   "source": [
    "first_release_count = first_release['min'].sort_values().value_counts(sort=False).to_frame(name='All cards')\n",
    "first_release_count.index.name = 'First Release'\n",
    "rate_plot(first_release_count, bg=anime_df, vlines = rules_df['begin'])\n"
   ]
  },
  {
   "cell_type": "markdown",
   "id": "b90d74bd-ac81-4289-a2e0-9e49bddfa6c4",
   "metadata": {
    "papermill": {
     "duration": 0.050917,
     "end_time": "2023-03-01T00:50:31.933848",
     "exception": false,
     "start_time": "2023-03-01T00:50:31.882931",
     "status": "completed"
    },
    "tags": []
   },
   "source": [
    "### By region"
   ]
  },
  {
   "cell_type": "code",
   "execution_count": null,
   "id": "d39f5310-38c4-41a7-94d7-6f8355a0d1f9",
   "metadata": {
    "papermill": {
     "duration": 15.718451,
     "end_time": "2023-03-01T00:50:47.676593",
     "exception": false,
     "start_time": "2023-03-01T00:50:31.958142",
     "status": "completed"
    },
    "tags": []
   },
   "outputs": [],
   "source": [
    "first_release_region=full_df[full_df['Release'].notna()].groupby(['Region','Name'])['Release'].agg(['min','idxmin'])\n",
    "first_release_region"
   ]
  },
  {
   "cell_type": "code",
   "execution_count": null,
   "id": "9d7c4e83-fa20-487f-b8ff-51552ac28e7b",
   "metadata": {
    "papermill": {
     "duration": 33.815902,
     "end_time": "2023-03-01T00:51:21.524718",
     "exception": false,
     "start_time": "2023-03-01T00:50:47.708816",
     "status": "completed"
    },
    "tags": []
   },
   "outputs": [],
   "source": [
    "first_release_region_count = first_release_region['min'].sort_values().groupby(['Region']).value_counts(sort=False).unstack(0).fillna(0).round(0)\n",
    "first_release_region_count.index.name = 'Release'\n",
    "rate_subplots(first_release_region_count, title = 'First Release', bg=anime_df, vlines = rules_df['begin'])"
   ]
  },
  {
   "cell_type": "markdown",
   "id": "68ed7e48-cdd1-49e5-996d-771b0aa476b2",
   "metadata": {
    "papermill": {
     "duration": 0.070882,
     "end_time": "2023-03-01T00:51:21.668680",
     "exception": false,
     "start_time": "2023-03-01T00:51:21.597798",
     "status": "completed"
    },
    "tags": []
   },
   "source": [
    "## Last releases"
   ]
  },
  {
   "cell_type": "markdown",
   "id": "1adfdf14-386c-4766-ab1e-634c69028b09",
   "metadata": {
    "papermill": {
     "duration": 0.070495,
     "end_time": "2023-03-01T00:51:21.807917",
     "exception": false,
     "start_time": "2023-03-01T00:51:21.737422",
     "status": "completed"
    },
    "tags": []
   },
   "source": [
    "Obs: Only the last release of an individual card name"
   ]
  },
  {
   "cell_type": "code",
   "execution_count": null,
   "id": "4ed37661-d2b2-4427-bbea-39e2764810c0",
   "metadata": {
    "papermill": {
     "duration": 2.697598,
     "end_time": "2023-03-01T00:51:24.575223",
     "exception": false,
     "start_time": "2023-03-01T00:51:21.877625",
     "status": "completed"
    },
    "tags": []
   },
   "outputs": [],
   "source": [
    "last_release=full_df[full_df['Release'].notna()].groupby('Name')['Release'].agg(['max','idxmax'])\n",
    "last_release"
   ]
  },
  {
   "cell_type": "code",
   "execution_count": null,
   "id": "82e7e343-9ec4-4ff8-b8e9-59af5100ee79",
   "metadata": {
    "papermill": {
     "duration": 2.438735,
     "end_time": "2023-03-01T00:51:27.090014",
     "exception": false,
     "start_time": "2023-03-01T00:51:24.651279",
     "status": "completed"
    },
    "tags": []
   },
   "outputs": [],
   "source": [
    "last_release_count = last_release['max'].sort_values().value_counts(sort=False).to_frame(name='All cards')\n",
    "last_release_count.index.name = 'Last Release'\n",
    "rate_plot(last_release_count, bg=anime_df, vlines = rules_df['begin'])"
   ]
  },
  {
   "cell_type": "markdown",
   "id": "df0f880e-2a39-42fd-8ad4-6eda067f4476",
   "metadata": {
    "papermill": {
     "duration": 0.086733,
     "end_time": "2023-03-01T00:51:27.249482",
     "exception": false,
     "start_time": "2023-03-01T00:51:27.162749",
     "status": "completed"
    },
    "tags": []
   },
   "source": [
    "### By region"
   ]
  },
  {
   "cell_type": "code",
   "execution_count": null,
   "id": "c9d718d3-37a0-4ef3-9d5b-fceba8bb60dd",
   "metadata": {
    "papermill": {
     "duration": 15.877127,
     "end_time": "2023-03-01T00:51:43.201964",
     "exception": false,
     "start_time": "2023-03-01T00:51:27.324837",
     "status": "completed"
    },
    "tags": []
   },
   "outputs": [],
   "source": [
    "last_release_region=full_df[full_df['Release'].notna()].groupby(['Region','Name'])['Release'].agg(['max','idxmax'])\n",
    "last_release_region"
   ]
  },
  {
   "cell_type": "code",
   "execution_count": null,
   "id": "0a708d8b-781e-412a-ae3e-7a89c029065d",
   "metadata": {
    "papermill": {
     "duration": 32.64074,
     "end_time": "2023-03-01T00:52:15.919659",
     "exception": false,
     "start_time": "2023-03-01T00:51:43.278919",
     "status": "completed"
    },
    "tags": []
   },
   "outputs": [],
   "source": [
    "last_release_region_count = last_release_region['max'].sort_values().groupby(['Region']).value_counts(sort=False).unstack(0).fillna(0).round(0)\n",
    "last_release_region_count.index.name = 'Release'\n",
    "rate_subplots(last_release_region_count, title = 'Last Release', bg=anime_df, vlines = rules_df['begin'])"
   ]
  },
  {
   "cell_type": "markdown",
   "id": "811538f6-77b2-4736-8feb-022abeddeb5c",
   "metadata": {
    "papermill": {
     "duration": 0.483194,
     "end_time": "2023-03-01T00:52:16.516811",
     "exception": false,
     "start_time": "2023-03-01T00:52:16.033617",
     "status": "completed"
    },
    "tags": []
   },
   "source": [
    "## All Releases"
   ]
  },
  {
   "cell_type": "markdown",
   "id": "010ccac6-74c5-46dd-9b23-7a0a3fd5a1c1",
   "metadata": {
    "papermill": {
     "duration": 0.133504,
     "end_time": "2023-03-01T00:52:16.926818",
     "exception": false,
     "start_time": "2023-03-01T00:52:16.793314",
     "status": "completed"
    },
    "tags": []
   },
   "source": [
    "Obs: All releases includes reprints"
   ]
  },
  {
   "cell_type": "markdown",
   "id": "0a191a3e-66bb-450e-9b37-f1ebb15c3d7e",
   "metadata": {
    "papermill": {
     "duration": 0.115409,
     "end_time": "2023-03-01T00:52:17.267796",
     "exception": false,
     "start_time": "2023-03-01T00:52:17.152387",
     "status": "completed"
    },
    "tags": []
   },
   "source": [
    "### By card type"
   ]
  },
  {
   "cell_type": "code",
   "execution_count": null,
   "id": "0621222f-c793-4206-8344-eaac4c55a75c",
   "metadata": {
    "papermill": {
     "duration": 0.353019,
     "end_time": "2023-03-01T00:52:17.737790",
     "exception": false,
     "start_time": "2023-03-01T00:52:17.384771",
     "status": "completed"
    },
    "tags": []
   },
   "outputs": [],
   "source": [
    "# All releases, includes reprints - Double check\n",
    "release_card_type = full_df.groupby(['Card type','Release'])['Name'].nunique().unstack(0).sort_index().fillna(0).astype(int)\n",
    "release_card_type.groupby(release_card_type.index.strftime('%Y')).sum().T"
   ]
  },
  {
   "cell_type": "code",
   "execution_count": null,
   "id": "9f4d9303-cd23-41ed-b618-15b2458a8361",
   "metadata": {
    "papermill": {
     "duration": 0.128629,
     "end_time": "2023-03-01T00:52:17.984938",
     "exception": false,
     "start_time": "2023-03-01T00:52:17.856309",
     "status": "completed"
    },
    "tags": []
   },
   "outputs": [],
   "source": [
    "# card_type_colors = [colors_dict[col] for col in release_card_type.columns]\n",
    "# rate_subplots(release_card_type, colors=card_type_colors, bg=anime_df, vlines = rules_df['begin'])"
   ]
  },
  {
   "cell_type": "code",
   "execution_count": null,
   "id": "b8fe7da4-23e5-490a-992a-f5837f3dc216",
   "metadata": {
    "papermill": {
     "duration": 2.082872,
     "end_time": "2023-03-01T00:52:20.182722",
     "exception": false,
     "start_time": "2023-03-01T00:52:18.099850",
     "status": "completed"
    },
    "tags": []
   },
   "outputs": [],
   "source": [
    "card_type_colors = [colors_dict[col] for col in release_card_type.columns]\n",
    "rate_plot(release_card_type, colors=card_type_colors, bg=anime_df, vlines = rules_df['begin'])"
   ]
  },
  {
   "cell_type": "markdown",
   "id": "bd7a3a56-f0ba-4f3a-acab-d6edadd57b9e",
   "metadata": {
    "papermill": {
     "duration": 0.181635,
     "end_time": "2023-03-01T00:52:20.484578",
     "exception": false,
     "start_time": "2023-03-01T00:52:20.302943",
     "status": "completed"
    },
    "tags": []
   },
   "source": [
    "### By primary type"
   ]
  },
  {
   "cell_type": "code",
   "execution_count": null,
   "id": "e2da2a9b-df09-4b05-9d52-564e81b1787f",
   "metadata": {
    "papermill": {
     "duration": 0.332469,
     "end_time": "2023-03-01T00:52:20.938565",
     "exception": false,
     "start_time": "2023-03-01T00:52:20.606096",
     "status": "completed"
    },
    "tags": []
   },
   "outputs": [],
   "source": [
    "# All releases, includes reprints - Double check\n",
    "# Sort properly\n",
    "release_primary_type = full_df.groupby(['Primary type','Release'])['Name'].nunique().unstack(0).sort_index().fillna(0).astype(int)\n",
    "release_primary_type.groupby(release_primary_type.index.strftime('%Y')).sum().T"
   ]
  },
  {
   "cell_type": "code",
   "execution_count": null,
   "id": "aaba4ece-1001-48c2-b026-c77dd949b216",
   "metadata": {
    "papermill": {
     "duration": 0.127982,
     "end_time": "2023-03-01T00:52:21.184988",
     "exception": false,
     "start_time": "2023-03-01T00:52:21.057006",
     "status": "completed"
    },
    "tags": []
   },
   "outputs": [],
   "source": [
    "# primary_type_colors = [colors_dict[col] for col in release_primary_type.columns]\n",
    "# rate_subplots(release_primary_type, colors=primary_type_colors, bg=anime_df, vlines=rules_df['begin'])"
   ]
  },
  {
   "cell_type": "code",
   "execution_count": null,
   "id": "0986f91b-b91d-47b2-9d9a-3c0e51127d1b",
   "metadata": {
    "papermill": {
     "duration": 2.746284,
     "end_time": "2023-03-01T00:52:24.049681",
     "exception": false,
     "start_time": "2023-03-01T00:52:21.303397",
     "status": "completed"
    },
    "tags": []
   },
   "outputs": [],
   "source": [
    "primary_type_colors = [colors_dict[col] for col in release_primary_type.columns]\n",
    "rate_plot(release_primary_type, colors=primary_type_colors, bg=anime_df, vlines = rules_df['begin'])"
   ]
  },
  {
   "cell_type": "markdown",
   "id": "61ca539a-6816-4937-bbd6-6ec7b053fbc6",
   "metadata": {
    "papermill": {
     "duration": 0.12707,
     "end_time": "2023-03-01T00:52:24.306992",
     "exception": false,
     "start_time": "2023-03-01T00:52:24.179922",
     "status": "completed"
    },
    "tags": []
   },
   "source": [
    "### By secondary type"
   ]
  },
  {
   "cell_type": "code",
   "execution_count": null,
   "id": "9b3e4e1f-e27a-4c16-98f0-5811faf48122",
   "metadata": {
    "papermill": {
     "duration": 0.290861,
     "end_time": "2023-03-01T00:52:24.722890",
     "exception": false,
     "start_time": "2023-03-01T00:52:24.432029",
     "status": "completed"
    },
    "tags": []
   },
   "outputs": [],
   "source": [
    "# All releases, includes reprints - Double check\n",
    "# Sort properly\n",
    "release_secondary_type = full_df.groupby(['Secondary type','Release'])['Name'].nunique().unstack(0).sort_index().fillna(0).astype(int)\n",
    "release_secondary_type.groupby(release_secondary_type.index.strftime('%Y')).sum().T"
   ]
  },
  {
   "cell_type": "code",
   "execution_count": null,
   "id": "1a4f55ff-21bc-4b94-89df-3ddf3a906cd5",
   "metadata": {
    "papermill": {
     "duration": 0.153805,
     "end_time": "2023-03-01T00:52:25.004701",
     "exception": false,
     "start_time": "2023-03-01T00:52:24.850896",
     "status": "completed"
    },
    "tags": []
   },
   "outputs": [],
   "source": [
    "# rate_subplots(release_secondary_type, bg=anime_df, vlines = rules_df['begin'])"
   ]
  },
  {
   "cell_type": "code",
   "execution_count": null,
   "id": "83fcc4ac-1866-42a2-9e11-2bb2df518b04",
   "metadata": {
    "papermill": {
     "duration": 2.094329,
     "end_time": "2023-03-01T00:52:27.233902",
     "exception": false,
     "start_time": "2023-03-01T00:52:25.139573",
     "status": "completed"
    },
    "tags": []
   },
   "outputs": [],
   "source": [
    "rate_plot(release_secondary_type, bg=anime_df, vlines = rules_df['begin'])"
   ]
  },
  {
   "cell_type": "markdown",
   "id": "426d9713-0e0c-4af3-9e5f-5ed3e5e5a0c1",
   "metadata": {
    "papermill": {
     "duration": 0.350537,
     "end_time": "2023-03-01T00:52:27.714961",
     "exception": false,
     "start_time": "2023-03-01T00:52:27.364424",
     "status": "completed"
    },
    "tags": []
   },
   "source": [
    "### By attribute"
   ]
  },
  {
   "cell_type": "code",
   "execution_count": null,
   "id": "3bb3fed2-3036-4194-8c87-620f0a237f5a",
   "metadata": {
    "papermill": {
     "duration": 0.339145,
     "end_time": "2023-03-01T00:52:28.184501",
     "exception": false,
     "start_time": "2023-03-01T00:52:27.845356",
     "status": "completed"
    },
    "tags": []
   },
   "outputs": [],
   "source": [
    "# All releases, includes reprints - Double check\n",
    "# Sort properly\n",
    "release_attribute = full_df.groupby(['Attribute','Release'])['Name'].nunique().unstack(0).sort_index().fillna(0).astype(int)\n",
    "release_attribute.groupby(release_attribute.index.strftime('%Y')).sum().T"
   ]
  },
  {
   "cell_type": "code",
   "execution_count": null,
   "id": "09cd937c-137c-4eea-ae08-7a110e00b4c9",
   "metadata": {
    "papermill": {
     "duration": 0.165991,
     "end_time": "2023-03-01T00:52:28.481132",
     "exception": false,
     "start_time": "2023-03-01T00:52:28.315141",
     "status": "completed"
    },
    "tags": []
   },
   "outputs": [],
   "source": [
    "# attribute_colors = [colors_dict[col] for col in release_attribute.columns]\n",
    "# rate_subplots(release_attribute, colors=attribute_colors, bg=anime_df, vlines = rules_df['begin'])"
   ]
  },
  {
   "cell_type": "code",
   "execution_count": null,
   "id": "967d93eb-03ef-4feb-8a8c-3ee7a9f10b24",
   "metadata": {
    "papermill": {
     "duration": 2.358324,
     "end_time": "2023-03-01T00:52:30.973300",
     "exception": false,
     "start_time": "2023-03-01T00:52:28.614976",
     "status": "completed"
    },
    "tags": []
   },
   "outputs": [],
   "source": [
    "attribute_colors = [colors_dict[col] for col in release_attribute.columns]\n",
    "rate_plot(release_attribute, colors = attribute_colors, bg=anime_df, vlines = rules_df['begin'], cumsum=True)"
   ]
  },
  {
   "cell_type": "markdown",
   "id": "5eb10e4e-fddb-4e03-9766-444c9b4a69ed",
   "metadata": {
    "papermill": {
     "duration": 0.132613,
     "end_time": "2023-03-01T00:52:31.242008",
     "exception": false,
     "start_time": "2023-03-01T00:52:31.109395",
     "status": "completed"
    },
    "tags": []
   },
   "source": [
    "### By monster type"
   ]
  },
  {
   "cell_type": "code",
   "execution_count": null,
   "id": "99f3ca8c-0a4b-4082-b8d0-051267460320",
   "metadata": {
    "papermill": {
     "duration": 0.344834,
     "end_time": "2023-03-01T00:52:31.718825",
     "exception": false,
     "start_time": "2023-03-01T00:52:31.373991",
     "status": "completed"
    },
    "tags": []
   },
   "outputs": [],
   "source": [
    "# All releases, includes reprints - Double check\n",
    "# Sort properly\n",
    "release_monster_type = full_df.groupby(['Monster type','Release'])['Name'].nunique().unstack(0).sort_index().fillna(0).astype(int)\n",
    "release_monster_type.groupby(release_monster_type.index.strftime('%Y')).sum().T"
   ]
  },
  {
   "cell_type": "code",
   "execution_count": null,
   "id": "83ec20a7-eb56-485e-9282-5dcc6ee89cf5",
   "metadata": {
    "papermill": {
     "duration": 55.071032,
     "end_time": "2023-03-01T00:53:26.923828",
     "exception": false,
     "start_time": "2023-03-01T00:52:31.852796",
     "status": "completed"
    },
    "tags": []
   },
   "outputs": [],
   "source": [
    "rate_subplots(release_monster_type, bg=anime_df, vlines = rules_df['begin'])"
   ]
  },
  {
   "cell_type": "markdown",
   "id": "ccd8df1f-8f20-4d07-855c-1b78f29d9e4a",
   "metadata": {
    "papermill": {
     "duration": 0.227913,
     "end_time": "2023-03-01T00:53:27.379408",
     "exception": false,
     "start_time": "2023-03-01T00:53:27.151495",
     "status": "completed"
    },
    "tags": []
   },
   "source": [
    "### By Level/Rank"
   ]
  },
  {
   "cell_type": "code",
   "execution_count": null,
   "id": "12f31058-751b-4110-8d78-d0917ab140da",
   "metadata": {
    "papermill": {
     "duration": 0.246779,
     "end_time": "2023-03-01T00:53:27.853836",
     "exception": false,
     "start_time": "2023-03-01T00:53:27.607057",
     "status": "completed"
    },
    "tags": []
   },
   "outputs": [],
   "source": [
    "# Testing\n",
    "def boxplot(df):\n",
    "    col = df.columns[0]\n",
    "    df['Year'] = df.index.strftime('%Y')\n",
    "    df.dropna(inplace=True)\n",
    "\n",
    "    ax = df.boxplot(by='Year', figsize=(16,10))\n",
    "\n",
    "    mean = df.groupby('Year').mean()\n",
    "\n",
    "    ax.plot(list(range(1,len(mean.index)+1)), mean.values, c='r', ls='--', alpha=0.5)\n",
    "    \n",
    "    ticks = np.arange(0,df[col].max()+1,1)\n",
    "    if len(ticks)>15:\n",
    "        ax.yaxis.set_major_locator(MaxNLocator(11, integer=True))\n",
    "        ax.yaxis.set_minor_locator(AutoMinorLocator())\n",
    "    else:\n",
    "        ax.yaxis.set_major_locator(FixedLocator(ticks))\n",
    "        \n",
    "    # ax.set_ylim([0,5000])\n",
    "    plt.tight_layout()\n",
    "    plt.show()"
   ]
  },
  {
   "cell_type": "code",
   "execution_count": null,
   "id": "f5514a52-9dad-4eaa-9f49-1d99ee02e94d",
   "metadata": {
    "papermill": {
     "duration": 3.211876,
     "end_time": "2023-03-01T00:53:31.290561",
     "exception": false,
     "start_time": "2023-03-01T00:53:28.078685",
     "status": "completed"
    },
    "tags": []
   },
   "outputs": [],
   "source": [
    "level_box = pd.to_numeric(full_df.set_index('Release')['Level/Rank'], errors='coerce').to_frame().sort_index().dropna()\n",
    "boxplot(level_box)"
   ]
  },
  {
   "cell_type": "markdown",
   "id": "d5f37c9c-60ea-4d1a-98a1-566c71a888f4",
   "metadata": {
    "papermill": {
     "duration": 0.229269,
     "end_time": "2023-03-01T00:53:31.789408",
     "exception": false,
     "start_time": "2023-03-01T00:53:31.560139",
     "status": "completed"
    },
    "tags": []
   },
   "source": [
    "### By ATK"
   ]
  },
  {
   "cell_type": "code",
   "execution_count": null,
   "id": "a9943fd3-81e3-4718-b02b-7a1c47d52590",
   "metadata": {
    "papermill": {
     "duration": 3.771199,
     "end_time": "2023-03-01T00:53:35.786173",
     "exception": false,
     "start_time": "2023-03-01T00:53:32.014974",
     "status": "completed"
    },
    "tags": []
   },
   "outputs": [],
   "source": [
    "atk_box = pd.to_numeric(full_df.set_index('Release')['ATK'], errors='coerce').to_frame().sort_index().dropna()\n",
    "boxplot(atk_box)"
   ]
  },
  {
   "cell_type": "markdown",
   "id": "d1182406-c948-4f81-bcac-db2d4b7a912d",
   "metadata": {
    "papermill": {
     "duration": 0.23566,
     "end_time": "2023-03-01T00:53:36.263399",
     "exception": false,
     "start_time": "2023-03-01T00:53:36.027739",
     "status": "completed"
    },
    "tags": []
   },
   "source": [
    "### By DEF"
   ]
  },
  {
   "cell_type": "code",
   "execution_count": null,
   "id": "54cfccd2-f677-4ab8-81c0-e794a1015872",
   "metadata": {
    "papermill": {
     "duration": 3.840416,
     "end_time": "2023-03-01T00:53:40.675994",
     "exception": false,
     "start_time": "2023-03-01T00:53:36.835578",
     "status": "completed"
    },
    "tags": []
   },
   "outputs": [],
   "source": [
    "def_box = pd.to_numeric(full_df.set_index('Release')['DEF'], errors='coerce').to_frame().sort_index().dropna()\n",
    "boxplot(def_box)"
   ]
  },
  {
   "cell_type": "markdown",
   "id": "1d8dd39e-5075-49c7-9ea8-a6255f1684e9",
   "metadata": {
    "papermill": {
     "duration": 0.351764,
     "end_time": "2023-03-01T00:53:41.256203",
     "exception": false,
     "start_time": "2023-03-01T00:53:40.904439",
     "status": "completed"
    },
    "tags": []
   },
   "source": [
    "### By pendulum scale"
   ]
  },
  {
   "cell_type": "code",
   "execution_count": null,
   "id": "29c1d59e-ba6c-4138-89d2-c8eb9d563f2e",
   "metadata": {
    "papermill": {
     "duration": 1.611731,
     "end_time": "2023-03-01T00:53:43.096071",
     "exception": false,
     "start_time": "2023-03-01T00:53:41.484340",
     "status": "completed"
    },
    "tags": []
   },
   "outputs": [],
   "source": [
    "pendulum_box = pd.to_numeric(full_df.set_index('Release')['Pendulum Scale'], errors='coerce').to_frame().sort_index().dropna()\n",
    "boxplot(pendulum_box)"
   ]
  },
  {
   "cell_type": "markdown",
   "id": "75b2d1e5-5cd5-4bee-8f29-2d3e63bb777d",
   "metadata": {
    "papermill": {
     "duration": 0.23131,
     "end_time": "2023-03-01T00:53:43.611290",
     "exception": false,
     "start_time": "2023-03-01T00:53:43.379980",
     "status": "completed"
    },
    "tags": []
   },
   "source": [
    "### By link"
   ]
  },
  {
   "cell_type": "code",
   "execution_count": null,
   "id": "8971fc23-7364-43a9-b65d-d5c3dc138205",
   "metadata": {
    "papermill": {
     "duration": 1.274975,
     "end_time": "2023-03-01T00:53:45.122465",
     "exception": false,
     "start_time": "2023-03-01T00:53:43.847490",
     "status": "completed"
    },
    "tags": []
   },
   "outputs": [],
   "source": [
    "link_box = pd.to_numeric(full_df.set_index('Release')['Link'], errors='coerce').to_frame().sort_index().dropna()\n",
    "boxplot(link_box)"
   ]
  },
  {
   "cell_type": "markdown",
   "id": "4951f8e7-5726-4a0d-95fd-e124ecfc0122",
   "metadata": {
    "papermill": {
     "duration": 0.317387,
     "end_time": "2023-03-01T00:53:45.701711",
     "exception": false,
     "start_time": "2023-03-01T00:53:45.384324",
     "status": "completed"
    },
    "tags": []
   },
   "source": [
    "# Debug"
   ]
  },
  {
   "cell_type": "markdown",
   "id": "f3578857-ba88-49fe-9d8f-9b72c8815d69",
   "metadata": {
    "papermill": {
     "duration": 0.235922,
     "end_time": "2023-03-01T00:53:46.178801",
     "exception": false,
     "start_time": "2023-03-01T00:53:45.942879",
     "status": "completed"
    },
    "tags": []
   },
   "source": [
    "## Merge failed"
   ]
  },
  {
   "cell_type": "code",
   "execution_count": null,
   "id": "874cff22-4a2d-4fec-9657-b0380fc25bb4",
   "metadata": {
    "papermill": {
     "duration": 0.283904,
     "end_time": "2023-03-01T00:53:46.698966",
     "exception": false,
     "start_time": "2023-03-01T00:53:46.415062",
     "status": "completed"
    },
    "tags": []
   },
   "outputs": [],
   "source": [
    "full_df['_merge'].value_counts()"
   ]
  },
  {
   "cell_type": "code",
   "execution_count": null,
   "id": "aa5a365e-f53d-4302-b44d-b23cc8dbc923",
   "metadata": {
    "papermill": {
     "duration": 2.192104,
     "end_time": "2023-03-01T00:53:49.129628",
     "exception": false,
     "start_time": "2023-03-01T00:53:46.937524",
     "status": "completed"
    },
    "tags": []
   },
   "outputs": [],
   "source": [
    "full_df.where(full_df['_merge']=='right_only').dropna(axis=0,how='all')"
   ]
  },
  {
   "cell_type": "code",
   "execution_count": null,
   "id": "eead37fd-fd5f-41bf-bbce-e6f3a8915b41",
   "metadata": {
    "papermill": {
     "duration": 2.107931,
     "end_time": "2023-03-01T00:53:51.556605",
     "exception": false,
     "start_time": "2023-03-01T00:53:49.448674",
     "status": "completed"
    },
    "tags": []
   },
   "outputs": [],
   "source": [
    "full_df.where(full_df['_merge']=='left_only').dropna(axis=0,how='all')"
   ]
  },
  {
   "cell_type": "markdown",
   "id": "9cdbfc4e-71d0-41e4-a421-73bf3a98e734",
   "metadata": {
    "papermill": {
     "duration": 0.236964,
     "end_time": "2023-03-01T00:53:52.075435",
     "exception": false,
     "start_time": "2023-03-01T00:53:51.838471",
     "status": "completed"
    },
    "tags": []
   },
   "source": [
    " # Epilogue"
   ]
  },
  {
   "cell_type": "code",
   "execution_count": null,
   "id": "479dc549-52ce-4e36-b0a5-ff555459ea23",
   "metadata": {
    "papermill": {
     "duration": 0.248849,
     "end_time": "2023-03-01T00:53:52.626987",
     "exception": false,
     "start_time": "2023-03-01T00:53:52.378138",
     "status": "completed"
    },
    "tags": []
   },
   "outputs": [],
   "source": [
    "footer()"
   ]
  },
  {
   "cell_type": "markdown",
   "id": "009d91f5-e119-43bb-95f6-486837be7a7e",
   "metadata": {
    "papermill": {
     "duration": 0.491531,
     "end_time": "2023-03-01T00:53:53.413598",
     "exception": false,
     "start_time": "2023-03-01T00:53:52.922067",
     "status": "completed"
    },
    "tags": []
   },
   "source": [
    "## HTML export"
   ]
  },
  {
   "cell_type": "code",
   "execution_count": null,
   "id": "223a8a40-b2d8-4296-b9c2-43a38d30607b",
   "metadata": {
    "papermill": {
     "duration": 0.254583,
     "end_time": "2023-03-01T00:53:54.149879",
     "exception": false,
     "start_time": "2023-03-01T00:53:53.895296",
     "status": "completed"
    },
    "tags": []
   },
   "outputs": [],
   "source": [
    "# May need to sleep for a few seconds after saving\n",
    "save_notebook()"
   ]
  },
  {
   "cell_type": "code",
   "execution_count": null,
   "id": "b6a35c5d-b424-4820-8d26-8be29b50c546",
   "metadata": {
    "papermill": {
     "duration": 7.881942,
     "end_time": "2023-03-01T00:54:02.271314",
     "exception": false,
     "start_time": "2023-03-01T00:53:54.389372",
     "status": "completed"
    },
    "tags": []
   },
   "outputs": [],
   "source": [
    "! jupyter nbconvert Timeline.ipynb --output-dir='../' --to=HTML --TagRemovePreprocessor.enabled=True --TagRemovePreprocessor.remove_cell_tags='exclude' --TemplateExporter.exclude_input=True --TemplateExporter.exclude_input_prompt=True --TemplateExporter.exclude_output_prompt=True"
   ]
  },
  {
   "cell_type": "markdown",
   "id": "82ca05e5-839d-4742-ba86-ac0c8f14c5b8",
   "metadata": {
    "papermill": {
     "duration": 0.239522,
     "end_time": "2023-03-01T00:54:02.765035",
     "exception": false,
     "start_time": "2023-03-01T00:54:02.525513",
     "status": "completed"
    },
    "tags": [
     "exclude"
    ]
   },
   "source": [
    "## Git"
   ]
  },
  {
   "cell_type": "code",
   "execution_count": null,
   "id": "cba1eb00-d9c2-491a-95b3-5ce0a0524d59",
   "metadata": {
    "papermill": {
     "duration": 2.486475,
     "end_time": "2023-03-01T00:54:05.526077",
     "exception": false,
     "start_time": "2023-03-01T00:54:03.039602",
     "status": "completed"
    },
    "tags": [
     "exclude"
    ]
   },
   "outputs": [],
   "source": [
    "! git add \"../*[Tt]imeline*\""
   ]
  },
  {
   "cell_type": "code",
   "execution_count": null,
   "id": "6f1f8303-30c6-4aaa-b45e-f6d5f5ece30e",
   "metadata": {
    "papermill": {
     "duration": 1.922274,
     "end_time": "2023-03-01T00:54:07.786275",
     "exception": false,
     "start_time": "2023-03-01T00:54:05.864001",
     "status": "completed"
    },
    "tags": [
     "exclude"
    ]
   },
   "outputs": [],
   "source": [
    "! git commit -m {\"'Timeline update-\" + pd.Timestamp.now().strftime(\"%d%m%Y\")+\"'\"}"
   ]
  }
 ],
 "metadata": {
  "kernelspec": {
   "display_name": "Python 3 (ipykernel)",
   "language": "python",
   "name": "python3"
  },
  "language_info": {
   "codemirror_mode": {
    "name": "ipython",
    "version": 3
   },
   "file_extension": ".py",
   "mimetype": "text/x-python",
   "name": "python",
   "nbconvert_exporter": "python",
   "pygments_lexer": "ipython3",
   "version": "3.10.8"
  },
  "papermill": {
   "default_parameters": {},
   "duration": 240.653663,
   "end_time": "2023-03-01T00:54:10.654076",
   "environment_variables": {},
   "exception": null,
   "input_path": "Timeline.ipynb",
   "output_path": "Timeline.ipynb",
   "parameters": {},
   "start_time": "2023-03-01T00:50:10.000413",
   "version": "2.4.0"
  },
  "toc": {
   "base_numbering": 1,
   "nav_menu": {},
   "number_sections": true,
   "sideBar": true,
   "skip_h1_title": false,
   "title_cell": "Table of Contents",
   "title_sidebar": "Contents",
   "toc_cell": true,
   "toc_position": {},
   "toc_section_display": true,
   "toc_window_display": true
  }
 },
 "nbformat": 4,
 "nbformat_minor": 5
}
