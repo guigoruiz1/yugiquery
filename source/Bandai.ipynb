{
 "cells": [
  {
   "cell_type": "code",
   "execution_count": 1,
   "id": "9903a324-2402-461a-b8b3-9dec09caceb4",
   "metadata": {
    "execution": {
     "iopub.execute_input": "2023-05-18T12:24:06.401872Z",
     "iopub.status.busy": "2023-05-18T12:24:06.401431Z",
     "iopub.status.idle": "2023-05-18T12:24:10.028545Z",
     "shell.execute_reply": "2023-05-18T12:24:10.027267Z"
    },
    "papermill": {
     "duration": 3.646216,
     "end_time": "2023-05-18T12:24:10.030939",
     "exception": false,
     "start_time": "2023-05-18T12:24:06.384723",
     "status": "completed"
    },
    "tags": []
   },
   "outputs": [
    {
     "data": {
      "text/markdown": [
       "<div align='center'>\n",
       "    <br>\n",
       "    <!-- Pre Style needed to fix HTML formatting -->\n",
       "    <pre style=\"line-height: var(--jp-code-line-height); font-family: var(--jp-code-font-family)\">\n",
       "    ██    ██ ██    ██  ██████  ██  ██████  ██    ██ ███████ ██████  ██    ██ \n",
       "     ██  ██  ██    ██ ██       ██ ██    ██ ██    ██ ██      ██   ██  ██  ██  \n",
       "      ████   ██    ██ ██   ███ ██ ██    ██ ██    ██ █████   ██████    ████   \n",
       "       ██    ██    ██ ██    ██ ██ ██ ▄▄ ██ ██    ██ ██      ██   ██    ██    \n",
       "       ██     ██████   ██████  ██  ██████   ██████  ███████ ██   ██    ██    \n",
       "                                      ▀▀                                     \n",
       "    </pre>\n",
       "</div>\n",
       "<div align='right'>\n",
       "    Bandai - Execution started 18/05/2023 12:24 UTC <br>\n",
       "    By <b>Guilherme Ruiz</b>\n",
       "</div>"
      ],
      "text/plain": [
       "<IPython.core.display.Markdown object>"
      ]
     },
     "execution_count": 1,
     "metadata": {},
     "output_type": "execute_result"
    }
   ],
   "source": [
    "from yugiquery import *\n",
    "\n",
    "header(\"Bandai\")"
   ]
  },
  {
   "cell_type": "markdown",
   "id": "9445cada-ce7a-4d46-a3e8-742439319435",
   "metadata": {
    "papermill": {
     "duration": 0.052473,
     "end_time": "2023-05-18T12:24:10.103822",
     "exception": false,
     "start_time": "2023-05-18T12:24:10.051349",
     "status": "completed"
    },
    "tags": []
   },
   "source": [
    "---"
   ]
  },
  {
   "cell_type": "markdown",
   "id": "ddf5afac-0c61-47d8-a0ad-f441a705eb88",
   "metadata": {
    "papermill": {
     "duration": 0.01384,
     "end_time": "2023-05-18T12:24:10.243255",
     "exception": false,
     "start_time": "2023-05-18T12:24:10.229415",
     "status": "completed"
    },
    "tags": []
   },
   "source": [
    "# Data aquisition"
   ]
  },
  {
   "cell_type": "markdown",
   "id": "cc75b862-8058-4db2-9499-446fd0d3042e",
   "metadata": {
    "papermill": {
     "duration": 0.014208,
     "end_time": "2023-05-18T12:24:10.271893",
     "exception": false,
     "start_time": "2023-05-18T12:24:10.257685",
     "status": "completed"
    },
    "tags": []
   },
   "source": [
    "## Fetch online data"
   ]
  },
  {
   "cell_type": "code",
   "execution_count": 2,
   "id": "9df14404-b603-4f17-b66e-5766bed0175b",
   "metadata": {
    "execution": {
     "iopub.execute_input": "2023-05-18T12:24:10.302855Z",
     "iopub.status.busy": "2023-05-18T12:24:10.301555Z",
     "iopub.status.idle": "2023-05-18T12:24:10.307268Z",
     "shell.execute_reply": "2023-05-18T12:24:10.306266Z"
    },
    "papermill": {
     "duration": 0.023664,
     "end_time": "2023-05-18T12:24:10.309660",
     "exception": false,
     "start_time": "2023-05-18T12:24:10.285996",
     "status": "completed"
    },
    "tags": []
   },
   "outputs": [],
   "source": [
    "timestamp = pd.Timestamp.now()"
   ]
  },
  {
   "cell_type": "code",
   "execution_count": 3,
   "id": "e29ba8f9-c3ad-4353-af35-9183e22a314b",
   "metadata": {
    "execution": {
     "iopub.execute_input": "2023-05-18T12:24:10.340179Z",
     "iopub.status.busy": "2023-05-18T12:24:10.339143Z",
     "iopub.status.idle": "2023-05-18T12:24:11.026692Z",
     "shell.execute_reply": "2023-05-18T12:24:11.025092Z"
    },
    "papermill": {
     "duration": 0.705477,
     "end_time": "2023-05-18T12:24:11.029183",
     "exception": false,
     "start_time": "2023-05-18T12:24:10.323706",
     "status": "completed"
    },
    "tags": []
   },
   "outputs": [
    {
     "name": "stdout",
     "output_type": "stream",
     "text": [
      "Downloading bandai cards"
     ]
    },
    {
     "name": "stdout",
     "output_type": "stream",
     "text": [
      "\n"
     ]
    },
    {
     "name": "stdout",
     "output_type": "stream",
     "text": [
      "120 results\n"
     ]
    },
    {
     "name": "stdout",
     "output_type": "stream",
     "text": [
      "\n"
     ]
    }
   ],
   "source": [
    "bandai_df = fetch_bandai()"
   ]
  },
  {
   "cell_type": "markdown",
   "id": "ae8c018f-312e-4582-b1ab-af7d06e3e9d1",
   "metadata": {
    "papermill": {
     "duration": 0.058021,
     "end_time": "2023-05-18T12:24:11.103599",
     "exception": false,
     "start_time": "2023-05-18T12:24:11.045578",
     "status": "completed"
    },
    "tags": []
   },
   "source": [
    "# Check changes"
   ]
  },
  {
   "cell_type": "markdown",
   "id": "6f3d5394-1deb-4877-8e8c-d3b4c389df86",
   "metadata": {
    "papermill": {
     "duration": 0.014269,
     "end_time": "2023-05-18T12:24:11.132662",
     "exception": false,
     "start_time": "2023-05-18T12:24:11.118393",
     "status": "completed"
    },
    "tags": []
   },
   "source": [
    "## Load previous data"
   ]
  },
  {
   "cell_type": "code",
   "execution_count": 4,
   "id": "b2004432-65fb-4341-bfe5-a04ad2147553",
   "metadata": {
    "execution": {
     "iopub.execute_input": "2023-05-18T12:24:11.165943Z",
     "iopub.status.busy": "2023-05-18T12:24:11.164801Z",
     "iopub.status.idle": "2023-05-18T12:24:11.224657Z",
     "shell.execute_reply": "2023-05-18T12:24:11.223776Z"
    },
    "papermill": {
     "duration": 0.079619,
     "end_time": "2023-05-18T12:24:11.227980",
     "exception": false,
     "start_time": "2023-05-18T12:24:11.148361",
     "status": "completed"
    },
    "tags": []
   },
   "outputs": [
    {
     "name": "stdout",
     "output_type": "stream",
     "text": [
      "File loaded"
     ]
    },
    {
     "name": "stdout",
     "output_type": "stream",
     "text": [
      "\n"
     ]
    }
   ],
   "source": [
    "# Get list of files\n",
    "files_list = sorted(\n",
    "    glob.glob(\"../data/all_bandai_*.csv\"), key=os.path.getctime, reverse=True\n",
    ")\n",
    "# Get second newest file if exist\n",
    "if files_list:\n",
    "    latest_file = files_list[0]\n",
    "    # Load csv avoiding converting \"NA\" to NaN\n",
    "    previous_df = pd.read_csv(\n",
    "        latest_file, dtype=object, keep_default_na=False, na_values=[\"\"]\n",
    "    )\n",
    "    # Force dtypes to match current df\n",
    "    previous_df = previous_df.astype(\n",
    "        bandai_df[previous_df.columns.intersection(bandai_df.columns)].dtypes.to_dict()\n",
    "    )\n",
    "    previous_ts = pd.to_datetime(\n",
    "        os.path.basename(latest_file).split(\"_\")[-1].rstrip(\".csv\")\n",
    "    )\n",
    "    print(\"File loaded\")\n",
    "else:\n",
    "    previous_df = None\n",
    "    print(\"No older files\")"
   ]
  },
  {
   "cell_type": "markdown",
   "id": "96111a58-528d-4a95-94dc-2c8772fc8f81",
   "metadata": {
    "papermill": {
     "duration": 0.045527,
     "end_time": "2023-05-18T12:24:11.288012",
     "exception": false,
     "start_time": "2023-05-18T12:24:11.242485",
     "status": "completed"
    },
    "tags": []
   },
   "source": [
    "## Generate changelog"
   ]
  },
  {
   "cell_type": "code",
   "execution_count": 5,
   "id": "2022a407-d6c2-4ff0-8d8f-e8431901d436",
   "metadata": {
    "execution": {
     "iopub.execute_input": "2023-05-18T12:24:11.320499Z",
     "iopub.status.busy": "2023-05-18T12:24:11.319302Z",
     "iopub.status.idle": "2023-05-18T12:24:11.372476Z",
     "shell.execute_reply": "2023-05-18T12:24:11.371550Z"
    },
    "papermill": {
     "duration": 0.072822,
     "end_time": "2023-05-18T12:24:11.375844",
     "exception": false,
     "start_time": "2023-05-18T12:24:11.303022",
     "status": "completed"
    },
    "tags": []
   },
   "outputs": [
    {
     "name": "stdout",
     "output_type": "stream",
     "text": [
      "No changes"
     ]
    },
    {
     "name": "stdout",
     "output_type": "stream",
     "text": [
      "\n"
     ]
    }
   ],
   "source": [
    "if previous_df is None:\n",
    "    changelog = None\n",
    "    print(\"Skipped\")\n",
    "else:\n",
    "    changelog = generate_changelog(previous_df, bandai_df, col=\"Name\")\n",
    "    if not changelog.empty:\n",
    "        display(changelog)\n",
    "        changelog.to_csv(\n",
    "            f'../data/bandai_changelog_{previous_ts.isoformat(timespec=\"minutes\")}_{timestamp.isoformat(timespec=\"minutes\")}.csv',\n",
    "            index=True,\n",
    "        )\n",
    "        print(\"Changelog saved\")"
   ]
  },
  {
   "cell_type": "markdown",
   "id": "c50bdfb0-a6d1-43d7-8c96-f9145e053946",
   "metadata": {
    "papermill": {
     "duration": 0.015057,
     "end_time": "2023-05-18T12:24:11.405634",
     "exception": false,
     "start_time": "2023-05-18T12:24:11.390577",
     "status": "completed"
    },
    "tags": []
   },
   "source": [
    "## Save data"
   ]
  },
  {
   "cell_type": "code",
   "execution_count": 6,
   "id": "c3aadd59-2d67-4c2a-81a4-3543bdbeb2f5",
   "metadata": {
    "execution": {
     "iopub.execute_input": "2023-05-18T12:24:11.439404Z",
     "iopub.status.busy": "2023-05-18T12:24:11.438434Z",
     "iopub.status.idle": "2023-05-18T12:24:11.447226Z",
     "shell.execute_reply": "2023-05-18T12:24:11.446249Z"
    },
    "papermill": {
     "duration": 0.028943,
     "end_time": "2023-05-18T12:24:11.449688",
     "exception": false,
     "start_time": "2023-05-18T12:24:11.420745",
     "status": "completed"
    },
    "tags": []
   },
   "outputs": [
    {
     "name": "stdout",
     "output_type": "stream",
     "text": [
      "No changes. New data not saved"
     ]
    },
    {
     "name": "stdout",
     "output_type": "stream",
     "text": [
      "\n"
     ]
    }
   ],
   "source": [
    "if changelog is not None and changelog.empty:\n",
    "    print(\"No changes. New data not saved\")\n",
    "else:\n",
    "    bandai_df.to_csv(\n",
    "        f'../data/all_bandai_{timestamp.isoformat(timespec=\"minutes\")}.csv', index=False\n",
    "    )\n",
    "    print(\"Data saved\")"
   ]
  },
  {
   "cell_type": "markdown",
   "id": "c64d414c-93b3-4464-b985-40bf135ddb1a",
   "metadata": {
    "papermill": {
     "duration": 0.014786,
     "end_time": "2023-05-18T12:24:11.479483",
     "exception": false,
     "start_time": "2023-05-18T12:24:11.464697",
     "status": "completed"
    },
    "tags": []
   },
   "source": [
    "# Data visualization"
   ]
  },
  {
   "cell_type": "code",
   "execution_count": 7,
   "id": "56b6402a-ade8-44fc-9e6d-c46b54e6bd6f",
   "metadata": {
    "execution": {
     "iopub.execute_input": "2023-05-18T12:24:11.511592Z",
     "iopub.status.busy": "2023-05-18T12:24:11.510541Z",
     "iopub.status.idle": "2023-05-18T12:24:11.563184Z",
     "shell.execute_reply": "2023-05-18T12:24:11.562256Z"
    },
    "papermill": {
     "duration": 0.071055,
     "end_time": "2023-05-18T12:24:11.565265",
     "exception": false,
     "start_time": "2023-05-18T12:24:11.494210",
     "status": "completed"
    },
    "tags": []
   },
   "outputs": [
    {
     "data": {
      "text/html": [
       "<div>\n",
       "<style scoped>\n",
       "    .dataframe tbody tr th:only-of-type {\n",
       "        vertical-align: middle;\n",
       "    }\n",
       "\n",
       "    .dataframe tbody tr th {\n",
       "        vertical-align: top;\n",
       "    }\n",
       "\n",
       "    .dataframe thead th {\n",
       "        text-align: right;\n",
       "    }\n",
       "</style>\n",
       "<table border=\"1\" class=\"dataframe\">\n",
       "  <thead>\n",
       "    <tr style=\"text-align: right;\">\n",
       "      <th></th>\n",
       "      <th>Name</th>\n",
       "      <th>Card type</th>\n",
       "      <th>Monster type</th>\n",
       "      <th>DEF</th>\n",
       "      <th>Set</th>\n",
       "      <th>Card number</th>\n",
       "      <th>Ability</th>\n",
       "      <th>Rule</th>\n",
       "      <th>ATK</th>\n",
       "      <th>Level</th>\n",
       "      <th>Page name</th>\n",
       "      <th>Page URL</th>\n",
       "      <th>Modification date</th>\n",
       "    </tr>\n",
       "  </thead>\n",
       "  <tbody>\n",
       "    <tr>\n",
       "      <th>0</th>\n",
       "      <td>Aphrodite</td>\n",
       "      <td>Monster Card</td>\n",
       "      <td>White Magic</td>\n",
       "      <td>2300</td>\n",
       "      <td>Yu-Gi-Oh! Bandai OCG: 1st Generation</td>\n",
       "      <td>22</td>\n",
       "      <td>NaN</td>\n",
       "      <td>4</td>\n",
       "      <td>1000</td>\n",
       "      <td>5</td>\n",
       "      <td>Aphrodite</td>\n",
       "      <td>https://yugipedia.com/wiki/Aphrodite</td>\n",
       "      <td>2016-04-26 16:18:32</td>\n",
       "    </tr>\n",
       "    <tr>\n",
       "      <th>1</th>\n",
       "      <td>Armored Basic Insect with Laser Cannon</td>\n",
       "      <td>Monster Card</td>\n",
       "      <td>Insect</td>\n",
       "      <td>1300</td>\n",
       "      <td>Yu-Gi-Oh! Bandai OCG: 1st Generation</td>\n",
       "      <td>17</td>\n",
       "      <td>NaN</td>\n",
       "      <td>8</td>\n",
       "      <td>2400</td>\n",
       "      <td>6</td>\n",
       "      <td>Armored Basic Insect with Laser Cannon</td>\n",
       "      <td>https://yugipedia.com/wiki/Armored_Basic_Insec...</td>\n",
       "      <td>2014-01-09 01:32:00</td>\n",
       "    </tr>\n",
       "    <tr>\n",
       "      <th>2</th>\n",
       "      <td>Armored Lizard</td>\n",
       "      <td>Monster Card</td>\n",
       "      <td>Beast-Warrior</td>\n",
       "      <td>2000</td>\n",
       "      <td>Yu-Gi-Oh! Bandai OCG: 2nd Generation</td>\n",
       "      <td>73</td>\n",
       "      <td>NaN</td>\n",
       "      <td>6</td>\n",
       "      <td>1800</td>\n",
       "      <td>5</td>\n",
       "      <td>Armored Lizard (Bandai)</td>\n",
       "      <td>https://yugipedia.com/wiki/Armored_Lizard_(Ban...</td>\n",
       "      <td>2019-02-03 17:07:39</td>\n",
       "    </tr>\n",
       "    <tr>\n",
       "      <th>3</th>\n",
       "      <td>Armored Zombie</td>\n",
       "      <td>Monster Card</td>\n",
       "      <td>Fiend</td>\n",
       "      <td>0</td>\n",
       "      <td>Yu-Gi-Oh! Bandai OCG: 2nd Generation</td>\n",
       "      <td>80</td>\n",
       "      <td>NaN</td>\n",
       "      <td>11</td>\n",
       "      <td>2400</td>\n",
       "      <td>4</td>\n",
       "      <td>Armored Zombie (Bandai)</td>\n",
       "      <td>https://yugipedia.com/wiki/Armored_Zombie_(Ban...</td>\n",
       "      <td>2016-04-26 16:23:30</td>\n",
       "    </tr>\n",
       "    <tr>\n",
       "      <th>4</th>\n",
       "      <td>Axe Raider</td>\n",
       "      <td>Monster Card</td>\n",
       "      <td>Warrior</td>\n",
       "      <td>1500</td>\n",
       "      <td>Yu-Gi-Oh! Bandai OCG: 2nd Generation</td>\n",
       "      <td>60</td>\n",
       "      <td>NaN</td>\n",
       "      <td>7</td>\n",
       "      <td>2300</td>\n",
       "      <td>6</td>\n",
       "      <td>Axe Raider (Bandai)</td>\n",
       "      <td>https://yugipedia.com/wiki/Axe_Raider_(Bandai)</td>\n",
       "      <td>2019-02-03 16:26:18</td>\n",
       "    </tr>\n",
       "    <tr>\n",
       "      <th>...</th>\n",
       "      <td>...</td>\n",
       "      <td>...</td>\n",
       "      <td>...</td>\n",
       "      <td>...</td>\n",
       "      <td>...</td>\n",
       "      <td>...</td>\n",
       "      <td>...</td>\n",
       "      <td>...</td>\n",
       "      <td>...</td>\n",
       "      <td>...</td>\n",
       "      <td>...</td>\n",
       "      <td>...</td>\n",
       "      <td>...</td>\n",
       "    </tr>\n",
       "    <tr>\n",
       "      <th>115</th>\n",
       "      <td>The Wicked Worm Beast</td>\n",
       "      <td>Monster Card</td>\n",
       "      <td>Fiend</td>\n",
       "      <td>600</td>\n",
       "      <td>Yu-Gi-Oh! Bandai OCG: 3rd Generation</td>\n",
       "      <td>94</td>\n",
       "      <td>NaN</td>\n",
       "      <td>5</td>\n",
       "      <td>2400</td>\n",
       "      <td>5</td>\n",
       "      <td>The Wicked Worm Beast (Bandai)</td>\n",
       "      <td>https://yugipedia.com/wiki/The_Wicked_Worm_Bea...</td>\n",
       "      <td>2019-02-04 16:11:42</td>\n",
       "    </tr>\n",
       "    <tr>\n",
       "      <th>116</th>\n",
       "      <td>Winged Dragon, Guardian of the Fortress #1</td>\n",
       "      <td>Monster Card</td>\n",
       "      <td>Dragon</td>\n",
       "      <td>1600</td>\n",
       "      <td>Yu-Gi-Oh! Bandai OCG: 1st Generation</td>\n",
       "      <td>23</td>\n",
       "      <td>NaN</td>\n",
       "      <td>5</td>\n",
       "      <td>1700</td>\n",
       "      <td>4</td>\n",
       "      <td>Winged Dragon, Guardian of the Fortress 1 (Ban...</td>\n",
       "      <td>https://yugipedia.com/wiki/Winged_Dragon,_Guar...</td>\n",
       "      <td>2019-10-14 02:30:42</td>\n",
       "    </tr>\n",
       "    <tr>\n",
       "      <th>117</th>\n",
       "      <td>Yellow Hecate</td>\n",
       "      <td>Monster Card</td>\n",
       "      <td>Black Magic</td>\n",
       "      <td>1500</td>\n",
       "      <td>Yu-Gi-Oh! Bandai OCG: 3rd Generation</td>\n",
       "      <td>98</td>\n",
       "      <td>NaN</td>\n",
       "      <td>NaN</td>\n",
       "      <td>1500</td>\n",
       "      <td>4</td>\n",
       "      <td>Yellow Hecate</td>\n",
       "      <td>https://yugipedia.com/wiki/Yellow_Hecate</td>\n",
       "      <td>2019-02-04 16:18:11</td>\n",
       "    </tr>\n",
       "    <tr>\n",
       "      <th>118</th>\n",
       "      <td>Yugi Muto</td>\n",
       "      <td>Character Card</td>\n",
       "      <td>NaN</td>\n",
       "      <td>NaN</td>\n",
       "      <td>Yu-Gi-Oh! Bandai OCG: 1st Generation</td>\n",
       "      <td>1</td>\n",
       "      <td>Look Ahead</td>\n",
       "      <td>1</td>\n",
       "      <td>NaN</td>\n",
       "      <td>6</td>\n",
       "      <td>Yugi Muto (Bandai)</td>\n",
       "      <td>https://yugipedia.com/wiki/Yugi_Muto_(Bandai)</td>\n",
       "      <td>2019-02-06 02:35:41</td>\n",
       "    </tr>\n",
       "    <tr>\n",
       "      <th>119</th>\n",
       "      <td>Yugi Muto</td>\n",
       "      <td>Character Card</td>\n",
       "      <td>NaN</td>\n",
       "      <td>NaN</td>\n",
       "      <td>Yu-Gi-Oh! Bandai OCG: 1st Generation</td>\n",
       "      <td>2</td>\n",
       "      <td>Shadow Game</td>\n",
       "      <td>2</td>\n",
       "      <td>NaN</td>\n",
       "      <td>8</td>\n",
       "      <td>Yugi Muto (Yami Bandai)</td>\n",
       "      <td>https://yugipedia.com/wiki/Yugi_Muto_(Yami_Ban...</td>\n",
       "      <td>2023-03-13 04:21:03</td>\n",
       "    </tr>\n",
       "  </tbody>\n",
       "</table>\n",
       "<p>120 rows × 13 columns</p>\n",
       "</div>"
      ],
      "text/plain": [
       "                                           Name       Card type  \\\n",
       "0                                     Aphrodite    Monster Card   \n",
       "1        Armored Basic Insect with Laser Cannon    Monster Card   \n",
       "2                                Armored Lizard    Monster Card   \n",
       "3                                Armored Zombie    Monster Card   \n",
       "4                                    Axe Raider    Monster Card   \n",
       "..                                          ...             ...   \n",
       "115                       The Wicked Worm Beast    Monster Card   \n",
       "116  Winged Dragon, Guardian of the Fortress #1    Monster Card   \n",
       "117                               Yellow Hecate    Monster Card   \n",
       "118                                   Yugi Muto  Character Card   \n",
       "119                                   Yugi Muto  Character Card   \n",
       "\n",
       "      Monster type   DEF                                   Set Card number  \\\n",
       "0      White Magic  2300  Yu-Gi-Oh! Bandai OCG: 1st Generation          22   \n",
       "1           Insect  1300  Yu-Gi-Oh! Bandai OCG: 1st Generation          17   \n",
       "2    Beast-Warrior  2000  Yu-Gi-Oh! Bandai OCG: 2nd Generation          73   \n",
       "3            Fiend     0  Yu-Gi-Oh! Bandai OCG: 2nd Generation          80   \n",
       "4          Warrior  1500  Yu-Gi-Oh! Bandai OCG: 2nd Generation          60   \n",
       "..             ...   ...                                   ...         ...   \n",
       "115          Fiend   600  Yu-Gi-Oh! Bandai OCG: 3rd Generation          94   \n",
       "116         Dragon  1600  Yu-Gi-Oh! Bandai OCG: 1st Generation          23   \n",
       "117    Black Magic  1500  Yu-Gi-Oh! Bandai OCG: 3rd Generation          98   \n",
       "118            NaN   NaN  Yu-Gi-Oh! Bandai OCG: 1st Generation           1   \n",
       "119            NaN   NaN  Yu-Gi-Oh! Bandai OCG: 1st Generation           2   \n",
       "\n",
       "         Ability Rule   ATK Level  \\\n",
       "0            NaN    4  1000     5   \n",
       "1            NaN    8  2400     6   \n",
       "2            NaN    6  1800     5   \n",
       "3            NaN   11  2400     4   \n",
       "4            NaN    7  2300     6   \n",
       "..           ...  ...   ...   ...   \n",
       "115          NaN    5  2400     5   \n",
       "116          NaN    5  1700     4   \n",
       "117          NaN  NaN  1500     4   \n",
       "118   Look Ahead    1   NaN     6   \n",
       "119  Shadow Game    2   NaN     8   \n",
       "\n",
       "                                             Page name  \\\n",
       "0                                            Aphrodite   \n",
       "1               Armored Basic Insect with Laser Cannon   \n",
       "2                              Armored Lizard (Bandai)   \n",
       "3                              Armored Zombie (Bandai)   \n",
       "4                                  Axe Raider (Bandai)   \n",
       "..                                                 ...   \n",
       "115                     The Wicked Worm Beast (Bandai)   \n",
       "116  Winged Dragon, Guardian of the Fortress 1 (Ban...   \n",
       "117                                      Yellow Hecate   \n",
       "118                                 Yugi Muto (Bandai)   \n",
       "119                            Yugi Muto (Yami Bandai)   \n",
       "\n",
       "                                              Page URL   Modification date  \n",
       "0                 https://yugipedia.com/wiki/Aphrodite 2016-04-26 16:18:32  \n",
       "1    https://yugipedia.com/wiki/Armored_Basic_Insec... 2014-01-09 01:32:00  \n",
       "2    https://yugipedia.com/wiki/Armored_Lizard_(Ban... 2019-02-03 17:07:39  \n",
       "3    https://yugipedia.com/wiki/Armored_Zombie_(Ban... 2016-04-26 16:23:30  \n",
       "4       https://yugipedia.com/wiki/Axe_Raider_(Bandai) 2019-02-03 16:26:18  \n",
       "..                                                 ...                 ...  \n",
       "115  https://yugipedia.com/wiki/The_Wicked_Worm_Bea... 2019-02-04 16:11:42  \n",
       "116  https://yugipedia.com/wiki/Winged_Dragon,_Guar... 2019-10-14 02:30:42  \n",
       "117           https://yugipedia.com/wiki/Yellow_Hecate 2019-02-04 16:18:11  \n",
       "118      https://yugipedia.com/wiki/Yugi_Muto_(Bandai) 2019-02-06 02:35:41  \n",
       "119  https://yugipedia.com/wiki/Yugi_Muto_(Yami_Ban... 2023-03-13 04:21:03  \n",
       "\n",
       "[120 rows x 13 columns]"
      ]
     },
     "execution_count": 7,
     "metadata": {},
     "output_type": "execute_result"
    }
   ],
   "source": [
    "bandai_df"
   ]
  },
  {
   "cell_type": "markdown",
   "id": "f31c671e-6e38-4f7c-b2e2-40a434e444d1",
   "metadata": {
    "papermill": {
     "duration": 0.015347,
     "end_time": "2023-05-18T12:24:11.599501",
     "exception": false,
     "start_time": "2023-05-18T12:24:11.584154",
     "status": "completed"
    },
    "tags": []
   },
   "source": [
    "## Card type"
   ]
  },
  {
   "cell_type": "code",
   "execution_count": 8,
   "id": "1403be1f-b22b-47a1-854c-8258ba7bde97",
   "metadata": {
    "execution": {
     "iopub.execute_input": "2023-05-18T12:24:11.632734Z",
     "iopub.status.busy": "2023-05-18T12:24:11.631781Z",
     "iopub.status.idle": "2023-05-18T12:24:11.640645Z",
     "shell.execute_reply": "2023-05-18T12:24:11.639714Z"
    },
    "papermill": {
     "duration": 0.027987,
     "end_time": "2023-05-18T12:24:11.643041",
     "exception": false,
     "start_time": "2023-05-18T12:24:11.615054",
     "status": "completed"
    },
    "tags": []
   },
   "outputs": [
    {
     "name": "stdout",
     "output_type": "stream",
     "text": [
      "Total number of card types:"
     ]
    },
    {
     "name": "stdout",
     "output_type": "stream",
     "text": [
      " "
     ]
    },
    {
     "name": "stdout",
     "output_type": "stream",
     "text": [
      "5"
     ]
    },
    {
     "name": "stdout",
     "output_type": "stream",
     "text": [
      "\n"
     ]
    }
   ],
   "source": [
    "print(\"Total number of card types:\", bandai_df[\"Card type\"].nunique())"
   ]
  },
  {
   "cell_type": "code",
   "execution_count": 9,
   "id": "d2f71e96-730c-4b69-afdb-3c0e128caae2",
   "metadata": {
    "execution": {
     "iopub.execute_input": "2023-05-18T12:24:11.676383Z",
     "iopub.status.busy": "2023-05-18T12:24:11.675830Z",
     "iopub.status.idle": "2023-05-18T12:24:12.496721Z",
     "shell.execute_reply": "2023-05-18T12:24:12.495627Z"
    },
    "papermill": {
     "duration": 0.840176,
     "end_time": "2023-05-18T12:24:12.499114",
     "exception": false,
     "start_time": "2023-05-18T12:24:11.658938",
     "status": "completed"
    },
    "tags": []
   },
   "outputs": [
    {
     "data": {
      "image/png": "[encoded data removed]",
      "text/plain": [
       "<Figure size 1800x600 with 1 Axes>"
      ]
     },
     "metadata": {},
     "output_type": "display_data"
    }
   ],
   "source": [
    "card_type_colors = [colors_dict[i] for i in bandai_df[\"Card type\"].value_counts().index]\n",
    "bandai_df[\"Card type\"].value_counts().plot.bar(\n",
    "    figsize=(18, 6), grid=True, rot=0, color=card_type_colors, title=\"Card type\"\n",
    ")\n",
    "plt.show()"
   ]
  },
  {
   "cell_type": "markdown",
   "id": "00c6b243-67ad-42c5-9189-4d2d33c5372c",
   "metadata": {
    "papermill": {
     "duration": 0.061203,
     "end_time": "2023-05-18T12:24:12.576817",
     "exception": false,
     "start_time": "2023-05-18T12:24:12.515614",
     "status": "completed"
    },
    "tags": []
   },
   "source": [
    "## ATK"
   ]
  },
  {
   "cell_type": "code",
   "execution_count": 10,
   "id": "1b5db865",
   "metadata": {
    "execution": {
     "iopub.execute_input": "2023-05-18T12:24:12.611839Z",
     "iopub.status.busy": "2023-05-18T12:24:12.611193Z",
     "iopub.status.idle": "2023-05-18T12:24:12.619833Z",
     "shell.execute_reply": "2023-05-18T12:24:12.618834Z"
    },
    "papermill": {
     "duration": 0.029981,
     "end_time": "2023-05-18T12:24:12.623379",
     "exception": false,
     "start_time": "2023-05-18T12:24:12.593398",
     "status": "completed"
    },
    "tags": []
   },
   "outputs": [
    {
     "name": "stdout",
     "output_type": "stream",
     "text": [
      "Total number of ATK values:"
     ]
    },
    {
     "name": "stdout",
     "output_type": "stream",
     "text": [
      " "
     ]
    },
    {
     "name": "stdout",
     "output_type": "stream",
     "text": [
      "27"
     ]
    },
    {
     "name": "stdout",
     "output_type": "stream",
     "text": [
      "\n"
     ]
    }
   ],
   "source": [
    "print(\"Total number of ATK values:\", bandai_df[\"ATK\"].nunique())"
   ]
  },
  {
   "cell_type": "code",
   "execution_count": 11,
   "id": "16b9aa14",
   "metadata": {
    "execution": {
     "iopub.execute_input": "2023-05-18T12:24:12.659806Z",
     "iopub.status.busy": "2023-05-18T12:24:12.659066Z",
     "iopub.status.idle": "2023-05-18T12:24:12.687383Z",
     "shell.execute_reply": "2023-05-18T12:24:12.686462Z"
    },
    "papermill": {
     "duration": 0.049097,
     "end_time": "2023-05-18T12:24:12.689568",
     "exception": false,
     "start_time": "2023-05-18T12:24:12.640471",
     "status": "completed"
    },
    "tags": []
   },
   "outputs": [
    {
     "data": {
      "text/html": [
       "<div>\n",
       "<style scoped>\n",
       "    .dataframe tbody tr th:only-of-type {\n",
       "        vertical-align: middle;\n",
       "    }\n",
       "\n",
       "    .dataframe tbody tr th {\n",
       "        vertical-align: top;\n",
       "    }\n",
       "\n",
       "    .dataframe thead th {\n",
       "        text-align: right;\n",
       "    }\n",
       "</style>\n",
       "<table border=\"1\" class=\"dataframe\">\n",
       "  <thead>\n",
       "    <tr style=\"text-align: right;\">\n",
       "      <th></th>\n",
       "      <th>Name</th>\n",
       "      <th>Monster type</th>\n",
       "      <th>DEF</th>\n",
       "      <th>Set</th>\n",
       "      <th>Card number</th>\n",
       "      <th>Ability</th>\n",
       "      <th>Rule</th>\n",
       "      <th>Level</th>\n",
       "      <th>Modification date</th>\n",
       "    </tr>\n",
       "    <tr>\n",
       "      <th>ATK</th>\n",
       "      <th></th>\n",
       "      <th></th>\n",
       "      <th></th>\n",
       "      <th></th>\n",
       "      <th></th>\n",
       "      <th></th>\n",
       "      <th></th>\n",
       "      <th></th>\n",
       "      <th></th>\n",
       "    </tr>\n",
       "  </thead>\n",
       "  <tbody>\n",
       "    <tr>\n",
       "      <th>100</th>\n",
       "      <td>1</td>\n",
       "      <td>1</td>\n",
       "      <td>1</td>\n",
       "      <td>1</td>\n",
       "      <td>1</td>\n",
       "      <td>0</td>\n",
       "      <td>0</td>\n",
       "      <td>1</td>\n",
       "      <td>1</td>\n",
       "    </tr>\n",
       "    <tr>\n",
       "      <th>200</th>\n",
       "      <td>5</td>\n",
       "      <td>1</td>\n",
       "      <td>2</td>\n",
       "      <td>2</td>\n",
       "      <td>5</td>\n",
       "      <td>0</td>\n",
       "      <td>0</td>\n",
       "      <td>2</td>\n",
       "      <td>5</td>\n",
       "    </tr>\n",
       "    <tr>\n",
       "      <th>400</th>\n",
       "      <td>1</td>\n",
       "      <td>1</td>\n",
       "      <td>1</td>\n",
       "      <td>1</td>\n",
       "      <td>1</td>\n",
       "      <td>0</td>\n",
       "      <td>0</td>\n",
       "      <td>1</td>\n",
       "      <td>1</td>\n",
       "    </tr>\n",
       "    <tr>\n",
       "      <th>500</th>\n",
       "      <td>2</td>\n",
       "      <td>2</td>\n",
       "      <td>2</td>\n",
       "      <td>2</td>\n",
       "      <td>2</td>\n",
       "      <td>0</td>\n",
       "      <td>2</td>\n",
       "      <td>1</td>\n",
       "      <td>2</td>\n",
       "    </tr>\n",
       "    <tr>\n",
       "      <th>600</th>\n",
       "      <td>2</td>\n",
       "      <td>2</td>\n",
       "      <td>2</td>\n",
       "      <td>1</td>\n",
       "      <td>2</td>\n",
       "      <td>0</td>\n",
       "      <td>2</td>\n",
       "      <td>2</td>\n",
       "      <td>2</td>\n",
       "    </tr>\n",
       "    <tr>\n",
       "      <th>800</th>\n",
       "      <td>3</td>\n",
       "      <td>3</td>\n",
       "      <td>3</td>\n",
       "      <td>3</td>\n",
       "      <td>3</td>\n",
       "      <td>0</td>\n",
       "      <td>2</td>\n",
       "      <td>2</td>\n",
       "      <td>3</td>\n",
       "    </tr>\n",
       "    <tr>\n",
       "      <th>900</th>\n",
       "      <td>1</td>\n",
       "      <td>1</td>\n",
       "      <td>1</td>\n",
       "      <td>1</td>\n",
       "      <td>1</td>\n",
       "      <td>0</td>\n",
       "      <td>1</td>\n",
       "      <td>1</td>\n",
       "      <td>1</td>\n",
       "    </tr>\n",
       "    <tr>\n",
       "      <th>1000</th>\n",
       "      <td>3</td>\n",
       "      <td>2</td>\n",
       "      <td>3</td>\n",
       "      <td>2</td>\n",
       "      <td>3</td>\n",
       "      <td>0</td>\n",
       "      <td>2</td>\n",
       "      <td>2</td>\n",
       "      <td>3</td>\n",
       "    </tr>\n",
       "    <tr>\n",
       "      <th>1200</th>\n",
       "      <td>2</td>\n",
       "      <td>2</td>\n",
       "      <td>2</td>\n",
       "      <td>2</td>\n",
       "      <td>2</td>\n",
       "      <td>0</td>\n",
       "      <td>2</td>\n",
       "      <td>2</td>\n",
       "      <td>2</td>\n",
       "    </tr>\n",
       "    <tr>\n",
       "      <th>1300</th>\n",
       "      <td>2</td>\n",
       "      <td>2</td>\n",
       "      <td>2</td>\n",
       "      <td>2</td>\n",
       "      <td>2</td>\n",
       "      <td>0</td>\n",
       "      <td>2</td>\n",
       "      <td>2</td>\n",
       "      <td>2</td>\n",
       "    </tr>\n",
       "    <tr>\n",
       "      <th>1400</th>\n",
       "      <td>2</td>\n",
       "      <td>2</td>\n",
       "      <td>2</td>\n",
       "      <td>2</td>\n",
       "      <td>2</td>\n",
       "      <td>0</td>\n",
       "      <td>2</td>\n",
       "      <td>2</td>\n",
       "      <td>2</td>\n",
       "    </tr>\n",
       "    <tr>\n",
       "      <th>1500</th>\n",
       "      <td>10</td>\n",
       "      <td>6</td>\n",
       "      <td>6</td>\n",
       "      <td>2</td>\n",
       "      <td>10</td>\n",
       "      <td>0</td>\n",
       "      <td>6</td>\n",
       "      <td>4</td>\n",
       "      <td>10</td>\n",
       "    </tr>\n",
       "    <tr>\n",
       "      <th>1600</th>\n",
       "      <td>2</td>\n",
       "      <td>1</td>\n",
       "      <td>2</td>\n",
       "      <td>1</td>\n",
       "      <td>2</td>\n",
       "      <td>0</td>\n",
       "      <td>1</td>\n",
       "      <td>2</td>\n",
       "      <td>2</td>\n",
       "    </tr>\n",
       "    <tr>\n",
       "      <th>1700</th>\n",
       "      <td>1</td>\n",
       "      <td>1</td>\n",
       "      <td>1</td>\n",
       "      <td>1</td>\n",
       "      <td>1</td>\n",
       "      <td>0</td>\n",
       "      <td>1</td>\n",
       "      <td>1</td>\n",
       "      <td>1</td>\n",
       "    </tr>\n",
       "    <tr>\n",
       "      <th>1800</th>\n",
       "      <td>10</td>\n",
       "      <td>6</td>\n",
       "      <td>5</td>\n",
       "      <td>3</td>\n",
       "      <td>10</td>\n",
       "      <td>0</td>\n",
       "      <td>5</td>\n",
       "      <td>5</td>\n",
       "      <td>10</td>\n",
       "    </tr>\n",
       "    <tr>\n",
       "      <th>1900</th>\n",
       "      <td>1</td>\n",
       "      <td>1</td>\n",
       "      <td>1</td>\n",
       "      <td>1</td>\n",
       "      <td>1</td>\n",
       "      <td>0</td>\n",
       "      <td>1</td>\n",
       "      <td>1</td>\n",
       "      <td>1</td>\n",
       "    </tr>\n",
       "    <tr>\n",
       "      <th>2000</th>\n",
       "      <td>10</td>\n",
       "      <td>6</td>\n",
       "      <td>8</td>\n",
       "      <td>3</td>\n",
       "      <td>10</td>\n",
       "      <td>0</td>\n",
       "      <td>7</td>\n",
       "      <td>3</td>\n",
       "      <td>10</td>\n",
       "    </tr>\n",
       "    <tr>\n",
       "      <th>2100</th>\n",
       "      <td>4</td>\n",
       "      <td>3</td>\n",
       "      <td>3</td>\n",
       "      <td>2</td>\n",
       "      <td>4</td>\n",
       "      <td>0</td>\n",
       "      <td>3</td>\n",
       "      <td>2</td>\n",
       "      <td>4</td>\n",
       "    </tr>\n",
       "    <tr>\n",
       "      <th>2200</th>\n",
       "      <td>2</td>\n",
       "      <td>2</td>\n",
       "      <td>2</td>\n",
       "      <td>1</td>\n",
       "      <td>2</td>\n",
       "      <td>0</td>\n",
       "      <td>2</td>\n",
       "      <td>2</td>\n",
       "      <td>2</td>\n",
       "    </tr>\n",
       "    <tr>\n",
       "      <th>2300</th>\n",
       "      <td>8</td>\n",
       "      <td>5</td>\n",
       "      <td>6</td>\n",
       "      <td>3</td>\n",
       "      <td>8</td>\n",
       "      <td>0</td>\n",
       "      <td>6</td>\n",
       "      <td>2</td>\n",
       "      <td>8</td>\n",
       "    </tr>\n",
       "    <tr>\n",
       "      <th>2400</th>\n",
       "      <td>9</td>\n",
       "      <td>5</td>\n",
       "      <td>9</td>\n",
       "      <td>3</td>\n",
       "      <td>9</td>\n",
       "      <td>0</td>\n",
       "      <td>6</td>\n",
       "      <td>4</td>\n",
       "      <td>9</td>\n",
       "    </tr>\n",
       "    <tr>\n",
       "      <th>2500</th>\n",
       "      <td>5</td>\n",
       "      <td>4</td>\n",
       "      <td>5</td>\n",
       "      <td>2</td>\n",
       "      <td>5</td>\n",
       "      <td>0</td>\n",
       "      <td>4</td>\n",
       "      <td>3</td>\n",
       "      <td>5</td>\n",
       "    </tr>\n",
       "    <tr>\n",
       "      <th>2600</th>\n",
       "      <td>4</td>\n",
       "      <td>4</td>\n",
       "      <td>4</td>\n",
       "      <td>2</td>\n",
       "      <td>4</td>\n",
       "      <td>0</td>\n",
       "      <td>3</td>\n",
       "      <td>2</td>\n",
       "      <td>4</td>\n",
       "    </tr>\n",
       "    <tr>\n",
       "      <th>3000</th>\n",
       "      <td>1</td>\n",
       "      <td>1</td>\n",
       "      <td>1</td>\n",
       "      <td>2</td>\n",
       "      <td>2</td>\n",
       "      <td>0</td>\n",
       "      <td>1</td>\n",
       "      <td>1</td>\n",
       "      <td>2</td>\n",
       "    </tr>\n",
       "    <tr>\n",
       "      <th>3200</th>\n",
       "      <td>1</td>\n",
       "      <td>1</td>\n",
       "      <td>1</td>\n",
       "      <td>1</td>\n",
       "      <td>1</td>\n",
       "      <td>0</td>\n",
       "      <td>0</td>\n",
       "      <td>1</td>\n",
       "      <td>1</td>\n",
       "    </tr>\n",
       "    <tr>\n",
       "      <th>3500</th>\n",
       "      <td>1</td>\n",
       "      <td>1</td>\n",
       "      <td>1</td>\n",
       "      <td>1</td>\n",
       "      <td>1</td>\n",
       "      <td>0</td>\n",
       "      <td>0</td>\n",
       "      <td>1</td>\n",
       "      <td>1</td>\n",
       "    </tr>\n",
       "    <tr>\n",
       "      <th>4500</th>\n",
       "      <td>1</td>\n",
       "      <td>1</td>\n",
       "      <td>1</td>\n",
       "      <td>1</td>\n",
       "      <td>0</td>\n",
       "      <td>0</td>\n",
       "      <td>0</td>\n",
       "      <td>1</td>\n",
       "      <td>1</td>\n",
       "    </tr>\n",
       "  </tbody>\n",
       "</table>\n",
       "</div>"
      ],
      "text/plain": [
       "      Name  Monster type  DEF  Set  Card number  Ability  Rule  Level  \\\n",
       "ATK                                                                     \n",
       "100      1             1    1    1            1        0     0      1   \n",
       "200      5             1    2    2            5        0     0      2   \n",
       "400      1             1    1    1            1        0     0      1   \n",
       "500      2             2    2    2            2        0     2      1   \n",
       "600      2             2    2    1            2        0     2      2   \n",
       "800      3             3    3    3            3        0     2      2   \n",
       "900      1             1    1    1            1        0     1      1   \n",
       "1000     3             2    3    2            3        0     2      2   \n",
       "1200     2             2    2    2            2        0     2      2   \n",
       "1300     2             2    2    2            2        0     2      2   \n",
       "1400     2             2    2    2            2        0     2      2   \n",
       "1500    10             6    6    2           10        0     6      4   \n",
       "1600     2             1    2    1            2        0     1      2   \n",
       "1700     1             1    1    1            1        0     1      1   \n",
       "1800    10             6    5    3           10        0     5      5   \n",
       "1900     1             1    1    1            1        0     1      1   \n",
       "2000    10             6    8    3           10        0     7      3   \n",
       "2100     4             3    3    2            4        0     3      2   \n",
       "2200     2             2    2    1            2        0     2      2   \n",
       "2300     8             5    6    3            8        0     6      2   \n",
       "2400     9             5    9    3            9        0     6      4   \n",
       "2500     5             4    5    2            5        0     4      3   \n",
       "2600     4             4    4    2            4        0     3      2   \n",
       "3000     1             1    1    2            2        0     1      1   \n",
       "3200     1             1    1    1            1        0     0      1   \n",
       "3500     1             1    1    1            1        0     0      1   \n",
       "4500     1             1    1    1            0        0     0      1   \n",
       "\n",
       "      Modification date  \n",
       "ATK                      \n",
       "100                   1  \n",
       "200                   5  \n",
       "400                   1  \n",
       "500                   2  \n",
       "600                   2  \n",
       "800                   3  \n",
       "900                   1  \n",
       "1000                  3  \n",
       "1200                  2  \n",
       "1300                  2  \n",
       "1400                  2  \n",
       "1500                 10  \n",
       "1600                  2  \n",
       "1700                  1  \n",
       "1800                 10  \n",
       "1900                  1  \n",
       "2000                 10  \n",
       "2100                  4  \n",
       "2200                  2  \n",
       "2300                  8  \n",
       "2400                  9  \n",
       "2500                  5  \n",
       "2600                  4  \n",
       "3000                  2  \n",
       "3200                  1  \n",
       "3500                  1  \n",
       "4500                  1  "
      ]
     },
     "execution_count": 11,
     "metadata": {},
     "output_type": "execute_result"
    }
   ],
   "source": [
    "bandai_df.drop(columns=[\"Card type\", \"Page name\", \"Page URL\"]).groupby(\n",
    "    \"ATK\"\n",
    ").nunique().sort_index(key=lambda x: pd.to_numeric(x, errors=\"coerce\"))"
   ]
  },
  {
   "cell_type": "code",
   "execution_count": 12,
   "id": "3b1b2e1d",
   "metadata": {
    "execution": {
     "iopub.execute_input": "2023-05-18T12:24:12.726862Z",
     "iopub.status.busy": "2023-05-18T12:24:12.725714Z",
     "iopub.status.idle": "2023-05-18T12:24:13.270697Z",
     "shell.execute_reply": "2023-05-18T12:24:13.269389Z"
    },
    "papermill": {
     "duration": 0.566016,
     "end_time": "2023-05-18T12:24:13.273111",
     "exception": false,
     "start_time": "2023-05-18T12:24:12.707095",
     "status": "completed"
    },
    "tags": []
   },
   "outputs": [
    {
     "data": {
      "image/png": "[encoded data removed]",
      "text/plain": [
       "<Figure size 1800x600 with 1 Axes>"
      ]
     },
     "metadata": {},
     "output_type": "display_data"
    }
   ],
   "source": [
    "atk_colors = colors_dict[\"Monster Card\"]\n",
    "bandai_df[\"ATK\"].value_counts().sort_index(\n",
    "    key=lambda x: pd.to_numeric(x, errors=\"coerce\")\n",
    ").plot.bar(figsize=(18, 6), grid=True, color=atk_colors, title=\"ATK\")\n",
    "plt.show()"
   ]
  },
  {
   "cell_type": "markdown",
   "id": "8c7f10ac-6c4e-42fe-be55-c2ea61abb7ae",
   "metadata": {
    "papermill": {
     "duration": 0.060655,
     "end_time": "2023-05-18T12:24:13.352231",
     "exception": false,
     "start_time": "2023-05-18T12:24:13.291576",
     "status": "completed"
    },
    "tags": []
   },
   "source": [
    "## DEF"
   ]
  },
  {
   "cell_type": "code",
   "execution_count": 13,
   "id": "2aa0ba61",
   "metadata": {
    "execution": {
     "iopub.execute_input": "2023-05-18T12:24:13.390927Z",
     "iopub.status.busy": "2023-05-18T12:24:13.389961Z",
     "iopub.status.idle": "2023-05-18T12:24:13.402454Z",
     "shell.execute_reply": "2023-05-18T12:24:13.401388Z"
    },
    "papermill": {
     "duration": 0.03503,
     "end_time": "2023-05-18T12:24:13.405471",
     "exception": false,
     "start_time": "2023-05-18T12:24:13.370441",
     "status": "completed"
    },
    "tags": []
   },
   "outputs": [
    {
     "name": "stdout",
     "output_type": "stream",
     "text": [
      "Total number of DEF values:"
     ]
    },
    {
     "name": "stdout",
     "output_type": "stream",
     "text": [
      " "
     ]
    },
    {
     "name": "stdout",
     "output_type": "stream",
     "text": [
      "27"
     ]
    },
    {
     "name": "stdout",
     "output_type": "stream",
     "text": [
      "\n"
     ]
    }
   ],
   "source": [
    "print(\"Total number of DEF values:\", bandai_df[\"DEF\"].nunique())"
   ]
  },
  {
   "cell_type": "code",
   "execution_count": 14,
   "id": "54e9d56a",
   "metadata": {
    "execution": {
     "iopub.execute_input": "2023-05-18T12:24:13.450245Z",
     "iopub.status.busy": "2023-05-18T12:24:13.449196Z",
     "iopub.status.idle": "2023-05-18T12:24:13.476565Z",
     "shell.execute_reply": "2023-05-18T12:24:13.475621Z"
    },
    "papermill": {
     "duration": 0.04947,
     "end_time": "2023-05-18T12:24:13.478783",
     "exception": false,
     "start_time": "2023-05-18T12:24:13.429313",
     "status": "completed"
    },
    "tags": []
   },
   "outputs": [
    {
     "data": {
      "text/html": [
       "<div>\n",
       "<style scoped>\n",
       "    .dataframe tbody tr th:only-of-type {\n",
       "        vertical-align: middle;\n",
       "    }\n",
       "\n",
       "    .dataframe tbody tr th {\n",
       "        vertical-align: top;\n",
       "    }\n",
       "\n",
       "    .dataframe thead th {\n",
       "        text-align: right;\n",
       "    }\n",
       "</style>\n",
       "<table border=\"1\" class=\"dataframe\">\n",
       "  <thead>\n",
       "    <tr style=\"text-align: right;\">\n",
       "      <th></th>\n",
       "      <th>Name</th>\n",
       "      <th>Monster type</th>\n",
       "      <th>Set</th>\n",
       "      <th>Card number</th>\n",
       "      <th>Ability</th>\n",
       "      <th>Rule</th>\n",
       "      <th>ATK</th>\n",
       "      <th>Level</th>\n",
       "      <th>Modification date</th>\n",
       "    </tr>\n",
       "    <tr>\n",
       "      <th>DEF</th>\n",
       "      <th></th>\n",
       "      <th></th>\n",
       "      <th></th>\n",
       "      <th></th>\n",
       "      <th></th>\n",
       "      <th></th>\n",
       "      <th></th>\n",
       "      <th></th>\n",
       "      <th></th>\n",
       "    </tr>\n",
       "  </thead>\n",
       "  <tbody>\n",
       "    <tr>\n",
       "      <th>0</th>\n",
       "      <td>2</td>\n",
       "      <td>1</td>\n",
       "      <td>1</td>\n",
       "      <td>2</td>\n",
       "      <td>0</td>\n",
       "      <td>2</td>\n",
       "      <td>2</td>\n",
       "      <td>2</td>\n",
       "      <td>2</td>\n",
       "    </tr>\n",
       "    <tr>\n",
       "      <th>200</th>\n",
       "      <td>1</td>\n",
       "      <td>1</td>\n",
       "      <td>1</td>\n",
       "      <td>1</td>\n",
       "      <td>0</td>\n",
       "      <td>0</td>\n",
       "      <td>1</td>\n",
       "      <td>1</td>\n",
       "      <td>1</td>\n",
       "    </tr>\n",
       "    <tr>\n",
       "      <th>300</th>\n",
       "      <td>5</td>\n",
       "      <td>1</td>\n",
       "      <td>3</td>\n",
       "      <td>5</td>\n",
       "      <td>0</td>\n",
       "      <td>1</td>\n",
       "      <td>2</td>\n",
       "      <td>2</td>\n",
       "      <td>5</td>\n",
       "    </tr>\n",
       "    <tr>\n",
       "      <th>400</th>\n",
       "      <td>3</td>\n",
       "      <td>3</td>\n",
       "      <td>2</td>\n",
       "      <td>3</td>\n",
       "      <td>0</td>\n",
       "      <td>2</td>\n",
       "      <td>3</td>\n",
       "      <td>3</td>\n",
       "      <td>3</td>\n",
       "    </tr>\n",
       "    <tr>\n",
       "      <th>500</th>\n",
       "      <td>1</td>\n",
       "      <td>1</td>\n",
       "      <td>1</td>\n",
       "      <td>1</td>\n",
       "      <td>0</td>\n",
       "      <td>1</td>\n",
       "      <td>1</td>\n",
       "      <td>1</td>\n",
       "      <td>1</td>\n",
       "    </tr>\n",
       "    <tr>\n",
       "      <th>600</th>\n",
       "      <td>5</td>\n",
       "      <td>4</td>\n",
       "      <td>3</td>\n",
       "      <td>5</td>\n",
       "      <td>0</td>\n",
       "      <td>4</td>\n",
       "      <td>5</td>\n",
       "      <td>3</td>\n",
       "      <td>5</td>\n",
       "    </tr>\n",
       "    <tr>\n",
       "      <th>700</th>\n",
       "      <td>4</td>\n",
       "      <td>2</td>\n",
       "      <td>2</td>\n",
       "      <td>4</td>\n",
       "      <td>0</td>\n",
       "      <td>2</td>\n",
       "      <td>2</td>\n",
       "      <td>2</td>\n",
       "      <td>4</td>\n",
       "    </tr>\n",
       "    <tr>\n",
       "      <th>800</th>\n",
       "      <td>3</td>\n",
       "      <td>3</td>\n",
       "      <td>2</td>\n",
       "      <td>3</td>\n",
       "      <td>0</td>\n",
       "      <td>3</td>\n",
       "      <td>2</td>\n",
       "      <td>3</td>\n",
       "      <td>3</td>\n",
       "    </tr>\n",
       "    <tr>\n",
       "      <th>900</th>\n",
       "      <td>2</td>\n",
       "      <td>2</td>\n",
       "      <td>2</td>\n",
       "      <td>2</td>\n",
       "      <td>0</td>\n",
       "      <td>1</td>\n",
       "      <td>2</td>\n",
       "      <td>2</td>\n",
       "      <td>2</td>\n",
       "    </tr>\n",
       "    <tr>\n",
       "      <th>1000</th>\n",
       "      <td>4</td>\n",
       "      <td>2</td>\n",
       "      <td>2</td>\n",
       "      <td>4</td>\n",
       "      <td>0</td>\n",
       "      <td>3</td>\n",
       "      <td>4</td>\n",
       "      <td>4</td>\n",
       "      <td>4</td>\n",
       "    </tr>\n",
       "    <tr>\n",
       "      <th>1300</th>\n",
       "      <td>3</td>\n",
       "      <td>3</td>\n",
       "      <td>2</td>\n",
       "      <td>3</td>\n",
       "      <td>0</td>\n",
       "      <td>2</td>\n",
       "      <td>3</td>\n",
       "      <td>2</td>\n",
       "      <td>3</td>\n",
       "    </tr>\n",
       "    <tr>\n",
       "      <th>1400</th>\n",
       "      <td>2</td>\n",
       "      <td>1</td>\n",
       "      <td>1</td>\n",
       "      <td>2</td>\n",
       "      <td>0</td>\n",
       "      <td>2</td>\n",
       "      <td>1</td>\n",
       "      <td>1</td>\n",
       "      <td>2</td>\n",
       "    </tr>\n",
       "    <tr>\n",
       "      <th>1500</th>\n",
       "      <td>8</td>\n",
       "      <td>4</td>\n",
       "      <td>2</td>\n",
       "      <td>8</td>\n",
       "      <td>0</td>\n",
       "      <td>4</td>\n",
       "      <td>3</td>\n",
       "      <td>3</td>\n",
       "      <td>8</td>\n",
       "    </tr>\n",
       "    <tr>\n",
       "      <th>1600</th>\n",
       "      <td>6</td>\n",
       "      <td>4</td>\n",
       "      <td>2</td>\n",
       "      <td>6</td>\n",
       "      <td>0</td>\n",
       "      <td>6</td>\n",
       "      <td>5</td>\n",
       "      <td>4</td>\n",
       "      <td>6</td>\n",
       "    </tr>\n",
       "    <tr>\n",
       "      <th>1700</th>\n",
       "      <td>1</td>\n",
       "      <td>1</td>\n",
       "      <td>1</td>\n",
       "      <td>1</td>\n",
       "      <td>0</td>\n",
       "      <td>1</td>\n",
       "      <td>1</td>\n",
       "      <td>1</td>\n",
       "      <td>1</td>\n",
       "    </tr>\n",
       "    <tr>\n",
       "      <th>1800</th>\n",
       "      <td>3</td>\n",
       "      <td>3</td>\n",
       "      <td>2</td>\n",
       "      <td>3</td>\n",
       "      <td>0</td>\n",
       "      <td>3</td>\n",
       "      <td>3</td>\n",
       "      <td>3</td>\n",
       "      <td>3</td>\n",
       "    </tr>\n",
       "    <tr>\n",
       "      <th>1900</th>\n",
       "      <td>2</td>\n",
       "      <td>2</td>\n",
       "      <td>2</td>\n",
       "      <td>2</td>\n",
       "      <td>0</td>\n",
       "      <td>2</td>\n",
       "      <td>2</td>\n",
       "      <td>2</td>\n",
       "      <td>2</td>\n",
       "    </tr>\n",
       "    <tr>\n",
       "      <th>2000</th>\n",
       "      <td>10</td>\n",
       "      <td>7</td>\n",
       "      <td>3</td>\n",
       "      <td>10</td>\n",
       "      <td>0</td>\n",
       "      <td>6</td>\n",
       "      <td>6</td>\n",
       "      <td>4</td>\n",
       "      <td>10</td>\n",
       "    </tr>\n",
       "    <tr>\n",
       "      <th>2100</th>\n",
       "      <td>4</td>\n",
       "      <td>2</td>\n",
       "      <td>2</td>\n",
       "      <td>4</td>\n",
       "      <td>0</td>\n",
       "      <td>4</td>\n",
       "      <td>4</td>\n",
       "      <td>2</td>\n",
       "      <td>4</td>\n",
       "    </tr>\n",
       "    <tr>\n",
       "      <th>2200</th>\n",
       "      <td>7</td>\n",
       "      <td>4</td>\n",
       "      <td>3</td>\n",
       "      <td>7</td>\n",
       "      <td>0</td>\n",
       "      <td>3</td>\n",
       "      <td>7</td>\n",
       "      <td>3</td>\n",
       "      <td>7</td>\n",
       "    </tr>\n",
       "    <tr>\n",
       "      <th>2300</th>\n",
       "      <td>5</td>\n",
       "      <td>4</td>\n",
       "      <td>2</td>\n",
       "      <td>5</td>\n",
       "      <td>0</td>\n",
       "      <td>4</td>\n",
       "      <td>5</td>\n",
       "      <td>3</td>\n",
       "      <td>5</td>\n",
       "    </tr>\n",
       "    <tr>\n",
       "      <th>2400</th>\n",
       "      <td>4</td>\n",
       "      <td>4</td>\n",
       "      <td>2</td>\n",
       "      <td>4</td>\n",
       "      <td>0</td>\n",
       "      <td>3</td>\n",
       "      <td>4</td>\n",
       "      <td>3</td>\n",
       "      <td>4</td>\n",
       "    </tr>\n",
       "    <tr>\n",
       "      <th>2500</th>\n",
       "      <td>4</td>\n",
       "      <td>3</td>\n",
       "      <td>2</td>\n",
       "      <td>5</td>\n",
       "      <td>0</td>\n",
       "      <td>4</td>\n",
       "      <td>4</td>\n",
       "      <td>4</td>\n",
       "      <td>5</td>\n",
       "    </tr>\n",
       "    <tr>\n",
       "      <th>2600</th>\n",
       "      <td>2</td>\n",
       "      <td>2</td>\n",
       "      <td>2</td>\n",
       "      <td>2</td>\n",
       "      <td>0</td>\n",
       "      <td>1</td>\n",
       "      <td>2</td>\n",
       "      <td>1</td>\n",
       "      <td>2</td>\n",
       "    </tr>\n",
       "    <tr>\n",
       "      <th>2800</th>\n",
       "      <td>1</td>\n",
       "      <td>1</td>\n",
       "      <td>1</td>\n",
       "      <td>1</td>\n",
       "      <td>0</td>\n",
       "      <td>1</td>\n",
       "      <td>1</td>\n",
       "      <td>1</td>\n",
       "      <td>1</td>\n",
       "    </tr>\n",
       "    <tr>\n",
       "      <th>3000</th>\n",
       "      <td>1</td>\n",
       "      <td>1</td>\n",
       "      <td>1</td>\n",
       "      <td>0</td>\n",
       "      <td>0</td>\n",
       "      <td>0</td>\n",
       "      <td>1</td>\n",
       "      <td>1</td>\n",
       "      <td>1</td>\n",
       "    </tr>\n",
       "    <tr>\n",
       "      <th>3500</th>\n",
       "      <td>1</td>\n",
       "      <td>1</td>\n",
       "      <td>1</td>\n",
       "      <td>1</td>\n",
       "      <td>0</td>\n",
       "      <td>0</td>\n",
       "      <td>1</td>\n",
       "      <td>1</td>\n",
       "      <td>1</td>\n",
       "    </tr>\n",
       "  </tbody>\n",
       "</table>\n",
       "</div>"
      ],
      "text/plain": [
       "      Name  Monster type  Set  Card number  Ability  Rule  ATK  Level  \\\n",
       "DEF                                                                     \n",
       "0        2             1    1            2        0     2    2      2   \n",
       "200      1             1    1            1        0     0    1      1   \n",
       "300      5             1    3            5        0     1    2      2   \n",
       "400      3             3    2            3        0     2    3      3   \n",
       "500      1             1    1            1        0     1    1      1   \n",
       "600      5             4    3            5        0     4    5      3   \n",
       "700      4             2    2            4        0     2    2      2   \n",
       "800      3             3    2            3        0     3    2      3   \n",
       "900      2             2    2            2        0     1    2      2   \n",
       "1000     4             2    2            4        0     3    4      4   \n",
       "1300     3             3    2            3        0     2    3      2   \n",
       "1400     2             1    1            2        0     2    1      1   \n",
       "1500     8             4    2            8        0     4    3      3   \n",
       "1600     6             4    2            6        0     6    5      4   \n",
       "1700     1             1    1            1        0     1    1      1   \n",
       "1800     3             3    2            3        0     3    3      3   \n",
       "1900     2             2    2            2        0     2    2      2   \n",
       "2000    10             7    3           10        0     6    6      4   \n",
       "2100     4             2    2            4        0     4    4      2   \n",
       "2200     7             4    3            7        0     3    7      3   \n",
       "2300     5             4    2            5        0     4    5      3   \n",
       "2400     4             4    2            4        0     3    4      3   \n",
       "2500     4             3    2            5        0     4    4      4   \n",
       "2600     2             2    2            2        0     1    2      1   \n",
       "2800     1             1    1            1        0     1    1      1   \n",
       "3000     1             1    1            0        0     0    1      1   \n",
       "3500     1             1    1            1        0     0    1      1   \n",
       "\n",
       "      Modification date  \n",
       "DEF                      \n",
       "0                     2  \n",
       "200                   1  \n",
       "300                   5  \n",
       "400                   3  \n",
       "500                   1  \n",
       "600                   5  \n",
       "700                   4  \n",
       "800                   3  \n",
       "900                   2  \n",
       "1000                  4  \n",
       "1300                  3  \n",
       "1400                  2  \n",
       "1500                  8  \n",
       "1600                  6  \n",
       "1700                  1  \n",
       "1800                  3  \n",
       "1900                  2  \n",
       "2000                 10  \n",
       "2100                  4  \n",
       "2200                  7  \n",
       "2300                  5  \n",
       "2400                  4  \n",
       "2500                  5  \n",
       "2600                  2  \n",
       "2800                  1  \n",
       "3000                  1  \n",
       "3500                  1  "
      ]
     },
     "execution_count": 14,
     "metadata": {},
     "output_type": "execute_result"
    }
   ],
   "source": [
    "bandai_df.drop(columns=[\"Card type\", \"Page name\", \"Page URL\"]).groupby(\n",
    "    \"DEF\"\n",
    ").nunique().sort_index(key=lambda x: pd.to_numeric(x, errors=\"coerce\"))"
   ]
  },
  {
   "cell_type": "code",
   "execution_count": 15,
   "id": "10aeff48",
   "metadata": {
    "execution": {
     "iopub.execute_input": "2023-05-18T12:24:13.518958Z",
     "iopub.status.busy": "2023-05-18T12:24:13.518231Z",
     "iopub.status.idle": "2023-05-18T12:24:13.952008Z",
     "shell.execute_reply": "2023-05-18T12:24:13.950753Z"
    },
    "papermill": {
     "duration": 0.456925,
     "end_time": "2023-05-18T12:24:13.954601",
     "exception": false,
     "start_time": "2023-05-18T12:24:13.497676",
     "status": "completed"
    },
    "tags": []
   },
   "outputs": [
    {
     "data": {
      "image/png": "[encoded data removed]",
      "text/plain": [
       "<Figure size 1800x600 with 1 Axes>"
      ]
     },
     "metadata": {},
     "output_type": "display_data"
    }
   ],
   "source": [
    "def_colors = colors_dict[\"Monster Card\"]\n",
    "bandai_df[\"DEF\"].value_counts().sort_index(\n",
    "    key=lambda x: pd.to_numeric(x, errors=\"coerce\")\n",
    ").plot.bar(figsize=(18, 6), grid=True, color=def_colors, title=\"DEF\")\n",
    "plt.show()"
   ]
  },
  {
   "cell_type": "markdown",
   "id": "02b9970b-696d-4ef0-b01d-0385e6c53575",
   "metadata": {
    "papermill": {
     "duration": 0.019724,
     "end_time": "2023-05-18T12:24:13.994577",
     "exception": false,
     "start_time": "2023-05-18T12:24:13.974853",
     "status": "completed"
    },
    "tags": []
   },
   "source": [
    "## Level"
   ]
  },
  {
   "cell_type": "code",
   "execution_count": 16,
   "id": "f5543138",
   "metadata": {
    "execution": {
     "iopub.execute_input": "2023-05-18T12:24:14.036282Z",
     "iopub.status.busy": "2023-05-18T12:24:14.035700Z",
     "iopub.status.idle": "2023-05-18T12:24:14.059764Z",
     "shell.execute_reply": "2023-05-18T12:24:14.058856Z"
    },
    "papermill": {
     "duration": 0.048084,
     "end_time": "2023-05-18T12:24:14.062484",
     "exception": false,
     "start_time": "2023-05-18T12:24:14.014400",
     "status": "completed"
    },
    "tags": []
   },
   "outputs": [
    {
     "data": {
      "text/html": [
       "<div>\n",
       "<style scoped>\n",
       "    .dataframe tbody tr th:only-of-type {\n",
       "        vertical-align: middle;\n",
       "    }\n",
       "\n",
       "    .dataframe tbody tr th {\n",
       "        vertical-align: top;\n",
       "    }\n",
       "\n",
       "    .dataframe thead th {\n",
       "        text-align: right;\n",
       "    }\n",
       "</style>\n",
       "<table border=\"1\" class=\"dataframe\">\n",
       "  <thead>\n",
       "    <tr style=\"text-align: right;\">\n",
       "      <th></th>\n",
       "      <th>Name</th>\n",
       "      <th>Monster type</th>\n",
       "      <th>DEF</th>\n",
       "      <th>Set</th>\n",
       "      <th>Card number</th>\n",
       "      <th>Ability</th>\n",
       "      <th>Rule</th>\n",
       "      <th>ATK</th>\n",
       "      <th>Modification date</th>\n",
       "    </tr>\n",
       "    <tr>\n",
       "      <th>Level</th>\n",
       "      <th></th>\n",
       "      <th></th>\n",
       "      <th></th>\n",
       "      <th></th>\n",
       "      <th></th>\n",
       "      <th></th>\n",
       "      <th></th>\n",
       "      <th></th>\n",
       "      <th></th>\n",
       "    </tr>\n",
       "  </thead>\n",
       "  <tbody>\n",
       "    <tr>\n",
       "      <th>1</th>\n",
       "      <td>5</td>\n",
       "      <td>1</td>\n",
       "      <td>2</td>\n",
       "      <td>2</td>\n",
       "      <td>5</td>\n",
       "      <td>0</td>\n",
       "      <td>1</td>\n",
       "      <td>2</td>\n",
       "      <td>5</td>\n",
       "    </tr>\n",
       "    <tr>\n",
       "      <th>2</th>\n",
       "      <td>4</td>\n",
       "      <td>3</td>\n",
       "      <td>4</td>\n",
       "      <td>3</td>\n",
       "      <td>4</td>\n",
       "      <td>0</td>\n",
       "      <td>2</td>\n",
       "      <td>3</td>\n",
       "      <td>4</td>\n",
       "    </tr>\n",
       "    <tr>\n",
       "      <th>3</th>\n",
       "      <td>3</td>\n",
       "      <td>2</td>\n",
       "      <td>3</td>\n",
       "      <td>2</td>\n",
       "      <td>3</td>\n",
       "      <td>0</td>\n",
       "      <td>3</td>\n",
       "      <td>3</td>\n",
       "      <td>3</td>\n",
       "    </tr>\n",
       "    <tr>\n",
       "      <th>4</th>\n",
       "      <td>17</td>\n",
       "      <td>8</td>\n",
       "      <td>10</td>\n",
       "      <td>3</td>\n",
       "      <td>17</td>\n",
       "      <td>2</td>\n",
       "      <td>10</td>\n",
       "      <td>9</td>\n",
       "      <td>17</td>\n",
       "    </tr>\n",
       "    <tr>\n",
       "      <th>5</th>\n",
       "      <td>34</td>\n",
       "      <td>10</td>\n",
       "      <td>17</td>\n",
       "      <td>3</td>\n",
       "      <td>34</td>\n",
       "      <td>1</td>\n",
       "      <td>13</td>\n",
       "      <td>15</td>\n",
       "      <td>34</td>\n",
       "    </tr>\n",
       "    <tr>\n",
       "      <th>6</th>\n",
       "      <td>23</td>\n",
       "      <td>10</td>\n",
       "      <td>15</td>\n",
       "      <td>3</td>\n",
       "      <td>23</td>\n",
       "      <td>2</td>\n",
       "      <td>9</td>\n",
       "      <td>12</td>\n",
       "      <td>23</td>\n",
       "    </tr>\n",
       "    <tr>\n",
       "      <th>7</th>\n",
       "      <td>10</td>\n",
       "      <td>6</td>\n",
       "      <td>7</td>\n",
       "      <td>2</td>\n",
       "      <td>10</td>\n",
       "      <td>1</td>\n",
       "      <td>6</td>\n",
       "      <td>5</td>\n",
       "      <td>10</td>\n",
       "    </tr>\n",
       "    <tr>\n",
       "      <th>8</th>\n",
       "      <td>5</td>\n",
       "      <td>1</td>\n",
       "      <td>4</td>\n",
       "      <td>3</td>\n",
       "      <td>6</td>\n",
       "      <td>1</td>\n",
       "      <td>2</td>\n",
       "      <td>4</td>\n",
       "      <td>7</td>\n",
       "    </tr>\n",
       "  </tbody>\n",
       "</table>\n",
       "</div>"
      ],
      "text/plain": [
       "       Name  Monster type  DEF  Set  Card number  Ability  Rule  ATK  \\\n",
       "Level                                                                  \n",
       "1         5             1    2    2            5        0     1    2   \n",
       "2         4             3    4    3            4        0     2    3   \n",
       "3         3             2    3    2            3        0     3    3   \n",
       "4        17             8   10    3           17        2    10    9   \n",
       "5        34            10   17    3           34        1    13   15   \n",
       "6        23            10   15    3           23        2     9   12   \n",
       "7        10             6    7    2           10        1     6    5   \n",
       "8         5             1    4    3            6        1     2    4   \n",
       "\n",
       "       Modification date  \n",
       "Level                     \n",
       "1                      5  \n",
       "2                      4  \n",
       "3                      3  \n",
       "4                     17  \n",
       "5                     34  \n",
       "6                     23  \n",
       "7                     10  \n",
       "8                      7  "
      ]
     },
     "execution_count": 16,
     "metadata": {},
     "output_type": "execute_result"
    }
   ],
   "source": [
    "bandai_df.drop(columns=[\"Card type\", \"Page name\", \"Page URL\"]).groupby(\n",
    "    \"Level\"\n",
    ").nunique().sort_index(key=lambda x: pd.to_numeric(x, errors=\"coerce\"))"
   ]
  },
  {
   "cell_type": "code",
   "execution_count": 17,
   "id": "31539bdc",
   "metadata": {
    "execution": {
     "iopub.execute_input": "2023-05-18T12:24:14.105809Z",
     "iopub.status.busy": "2023-05-18T12:24:14.104641Z",
     "iopub.status.idle": "2023-05-18T12:24:14.390726Z",
     "shell.execute_reply": "2023-05-18T12:24:14.389651Z"
    },
    "papermill": {
     "duration": 0.310152,
     "end_time": "2023-05-18T12:24:14.392941",
     "exception": false,
     "start_time": "2023-05-18T12:24:14.082789",
     "status": "completed"
    },
    "tags": []
   },
   "outputs": [
    {
     "data": {
      "image/png": "[encoded data removed]",
      "text/plain": [
       "<Figure size 1800x600 with 1 Axes>"
      ]
     },
     "metadata": {},
     "output_type": "display_data"
    }
   ],
   "source": [
    "level_colors = colors_dict[\"Level\"]\n",
    "bandai_df[\"Level\"].value_counts().sort_index(\n",
    "    key=lambda x: pd.to_numeric(x, errors=\"coerce\")\n",
    ").plot.bar(figsize=(18, 6), grid=True, rot=0, color=level_colors, title=\"Level/Rank\")\n",
    "plt.show()"
   ]
  },
  {
   "cell_type": "markdown",
   "id": "071ce72d-178c-4ff3-9e4a-25f2568db91b",
   "metadata": {
    "papermill": {
     "duration": 0.16295,
     "end_time": "2023-05-18T12:24:14.576228",
     "exception": false,
     "start_time": "2023-05-18T12:24:14.413278",
     "status": "completed"
    },
    "tags": []
   },
   "source": [
    "### ATK statistics"
   ]
  },
  {
   "cell_type": "code",
   "execution_count": 18,
   "id": "06dc9107",
   "metadata": {
    "execution": {
     "iopub.execute_input": "2023-05-18T12:24:14.621264Z",
     "iopub.status.busy": "2023-05-18T12:24:14.620171Z",
     "iopub.status.idle": "2023-05-18T12:24:14.691851Z",
     "shell.execute_reply": "2023-05-18T12:24:14.690906Z"
    },
    "papermill": {
     "duration": 0.096191,
     "end_time": "2023-05-18T12:24:14.694206",
     "exception": false,
     "start_time": "2023-05-18T12:24:14.598015",
     "status": "completed"
    },
    "tags": []
   },
   "outputs": [
    {
     "data": {
      "text/html": [
       "<div>\n",
       "<style scoped>\n",
       "    .dataframe tbody tr th:only-of-type {\n",
       "        vertical-align: middle;\n",
       "    }\n",
       "\n",
       "    .dataframe tbody tr th {\n",
       "        vertical-align: top;\n",
       "    }\n",
       "\n",
       "    .dataframe thead tr th {\n",
       "        text-align: left;\n",
       "    }\n",
       "\n",
       "    .dataframe thead tr:last-of-type th {\n",
       "        text-align: right;\n",
       "    }\n",
       "</style>\n",
       "<table border=\"1\" class=\"dataframe\">\n",
       "  <thead>\n",
       "    <tr>\n",
       "      <th></th>\n",
       "      <th colspan=\"8\" halign=\"left\">ATK</th>\n",
       "    </tr>\n",
       "    <tr>\n",
       "      <th></th>\n",
       "      <th>count</th>\n",
       "      <th>mean</th>\n",
       "      <th>std</th>\n",
       "      <th>min</th>\n",
       "      <th>25%</th>\n",
       "      <th>50%</th>\n",
       "      <th>75%</th>\n",
       "      <th>max</th>\n",
       "    </tr>\n",
       "    <tr>\n",
       "      <th>Level</th>\n",
       "      <th></th>\n",
       "      <th></th>\n",
       "      <th></th>\n",
       "      <th></th>\n",
       "      <th></th>\n",
       "      <th></th>\n",
       "      <th></th>\n",
       "      <th></th>\n",
       "    </tr>\n",
       "  </thead>\n",
       "  <tbody>\n",
       "    <tr>\n",
       "      <th>1</th>\n",
       "      <td>5.0</td>\n",
       "      <td>280.000000</td>\n",
       "      <td>178.885438</td>\n",
       "      <td>200.0</td>\n",
       "      <td>200.0</td>\n",
       "      <td>200.0</td>\n",
       "      <td>200.0</td>\n",
       "      <td>600.0</td>\n",
       "    </tr>\n",
       "    <tr>\n",
       "      <th>2</th>\n",
       "      <td>4.0</td>\n",
       "      <td>325.000000</td>\n",
       "      <td>206.155281</td>\n",
       "      <td>100.0</td>\n",
       "      <td>175.0</td>\n",
       "      <td>350.0</td>\n",
       "      <td>500.0</td>\n",
       "      <td>500.0</td>\n",
       "    </tr>\n",
       "    <tr>\n",
       "      <th>3</th>\n",
       "      <td>3.0</td>\n",
       "      <td>1366.666667</td>\n",
       "      <td>513.160144</td>\n",
       "      <td>800.0</td>\n",
       "      <td>1150.0</td>\n",
       "      <td>1500.0</td>\n",
       "      <td>1650.0</td>\n",
       "      <td>1800.0</td>\n",
       "    </tr>\n",
       "    <tr>\n",
       "      <th>4</th>\n",
       "      <td>15.0</td>\n",
       "      <td>1626.666667</td>\n",
       "      <td>400.832467</td>\n",
       "      <td>600.0</td>\n",
       "      <td>1500.0</td>\n",
       "      <td>1600.0</td>\n",
       "      <td>1800.0</td>\n",
       "      <td>2400.0</td>\n",
       "    </tr>\n",
       "    <tr>\n",
       "      <th>5</th>\n",
       "      <td>33.0</td>\n",
       "      <td>1742.424242</td>\n",
       "      <td>559.033934</td>\n",
       "      <td>400.0</td>\n",
       "      <td>1400.0</td>\n",
       "      <td>2000.0</td>\n",
       "      <td>2100.0</td>\n",
       "      <td>2500.0</td>\n",
       "    </tr>\n",
       "    <tr>\n",
       "      <th>6</th>\n",
       "      <td>21.0</td>\n",
       "      <td>2104.761905</td>\n",
       "      <td>380.100237</td>\n",
       "      <td>1200.0</td>\n",
       "      <td>1900.0</td>\n",
       "      <td>2300.0</td>\n",
       "      <td>2300.0</td>\n",
       "      <td>2600.0</td>\n",
       "    </tr>\n",
       "    <tr>\n",
       "      <th>7</th>\n",
       "      <td>9.0</td>\n",
       "      <td>2511.111111</td>\n",
       "      <td>358.623913</td>\n",
       "      <td>1800.0</td>\n",
       "      <td>2400.0</td>\n",
       "      <td>2500.0</td>\n",
       "      <td>2600.0</td>\n",
       "      <td>3200.0</td>\n",
       "    </tr>\n",
       "    <tr>\n",
       "      <th>8</th>\n",
       "      <td>5.0</td>\n",
       "      <td>3000.000000</td>\n",
       "      <td>1274.754878</td>\n",
       "      <td>1000.0</td>\n",
       "      <td>3000.0</td>\n",
       "      <td>3000.0</td>\n",
       "      <td>3500.0</td>\n",
       "      <td>4500.0</td>\n",
       "    </tr>\n",
       "  </tbody>\n",
       "</table>\n",
       "</div>"
      ],
      "text/plain": [
       "        ATK                                                                  \n",
       "      count         mean          std     min     25%     50%     75%     max\n",
       "Level                                                                        \n",
       "1       5.0   280.000000   178.885438   200.0   200.0   200.0   200.0   600.0\n",
       "2       4.0   325.000000   206.155281   100.0   175.0   350.0   500.0   500.0\n",
       "3       3.0  1366.666667   513.160144   800.0  1150.0  1500.0  1650.0  1800.0\n",
       "4      15.0  1626.666667   400.832467   600.0  1500.0  1600.0  1800.0  2400.0\n",
       "5      33.0  1742.424242   559.033934   400.0  1400.0  2000.0  2100.0  2500.0\n",
       "6      21.0  2104.761905   380.100237  1200.0  1900.0  2300.0  2300.0  2600.0\n",
       "7       9.0  2511.111111   358.623913  1800.0  2400.0  2500.0  2600.0  3200.0\n",
       "8       5.0  3000.000000  1274.754878  1000.0  3000.0  3000.0  3500.0  4500.0"
      ]
     },
     "execution_count": 18,
     "metadata": {},
     "output_type": "execute_result"
    }
   ],
   "source": [
    "bandai_df[[\"Level\", \"ATK\"]].apply(pd.to_numeric, errors=\"coerce\").dropna().astype(\n",
    "    int\n",
    ").groupby(\"Level\").describe()"
   ]
  },
  {
   "cell_type": "markdown",
   "id": "3d9b3073-cb28-48c0-94c3-17e6932f0903",
   "metadata": {
    "papermill": {
     "duration": 0.021585,
     "end_time": "2023-05-18T12:24:14.736839",
     "exception": false,
     "start_time": "2023-05-18T12:24:14.715254",
     "status": "completed"
    },
    "tags": []
   },
   "source": [
    "### DEF statistics"
   ]
  },
  {
   "cell_type": "code",
   "execution_count": 19,
   "id": "cc005e78",
   "metadata": {
    "execution": {
     "iopub.execute_input": "2023-05-18T12:24:14.780044Z",
     "iopub.status.busy": "2023-05-18T12:24:14.779313Z",
     "iopub.status.idle": "2023-05-18T12:24:14.843923Z",
     "shell.execute_reply": "2023-05-18T12:24:14.842827Z"
    },
    "papermill": {
     "duration": 0.08896,
     "end_time": "2023-05-18T12:24:14.846277",
     "exception": false,
     "start_time": "2023-05-18T12:24:14.757317",
     "status": "completed"
    },
    "tags": []
   },
   "outputs": [
    {
     "data": {
      "text/html": [
       "<div>\n",
       "<style scoped>\n",
       "    .dataframe tbody tr th:only-of-type {\n",
       "        vertical-align: middle;\n",
       "    }\n",
       "\n",
       "    .dataframe tbody tr th {\n",
       "        vertical-align: top;\n",
       "    }\n",
       "\n",
       "    .dataframe thead tr th {\n",
       "        text-align: left;\n",
       "    }\n",
       "\n",
       "    .dataframe thead tr:last-of-type th {\n",
       "        text-align: right;\n",
       "    }\n",
       "</style>\n",
       "<table border=\"1\" class=\"dataframe\">\n",
       "  <thead>\n",
       "    <tr>\n",
       "      <th></th>\n",
       "      <th colspan=\"8\" halign=\"left\">DEF</th>\n",
       "    </tr>\n",
       "    <tr>\n",
       "      <th></th>\n",
       "      <th>count</th>\n",
       "      <th>mean</th>\n",
       "      <th>std</th>\n",
       "      <th>min</th>\n",
       "      <th>25%</th>\n",
       "      <th>50%</th>\n",
       "      <th>75%</th>\n",
       "      <th>max</th>\n",
       "    </tr>\n",
       "    <tr>\n",
       "      <th>Level</th>\n",
       "      <th></th>\n",
       "      <th></th>\n",
       "      <th></th>\n",
       "      <th></th>\n",
       "      <th></th>\n",
       "      <th></th>\n",
       "      <th></th>\n",
       "      <th></th>\n",
       "    </tr>\n",
       "  </thead>\n",
       "  <tbody>\n",
       "    <tr>\n",
       "      <th>1</th>\n",
       "      <td>5.0</td>\n",
       "      <td>320.000000</td>\n",
       "      <td>44.721360</td>\n",
       "      <td>300.0</td>\n",
       "      <td>300.0</td>\n",
       "      <td>300.0</td>\n",
       "      <td>300.0</td>\n",
       "      <td>400.0</td>\n",
       "    </tr>\n",
       "    <tr>\n",
       "      <th>2</th>\n",
       "      <td>4.0</td>\n",
       "      <td>475.000000</td>\n",
       "      <td>359.397644</td>\n",
       "      <td>200.0</td>\n",
       "      <td>275.0</td>\n",
       "      <td>350.0</td>\n",
       "      <td>550.0</td>\n",
       "      <td>1000.0</td>\n",
       "    </tr>\n",
       "    <tr>\n",
       "      <th>3</th>\n",
       "      <td>3.0</td>\n",
       "      <td>466.666667</td>\n",
       "      <td>416.333200</td>\n",
       "      <td>0.0</td>\n",
       "      <td>300.0</td>\n",
       "      <td>600.0</td>\n",
       "      <td>700.0</td>\n",
       "      <td>800.0</td>\n",
       "    </tr>\n",
       "    <tr>\n",
       "      <th>4</th>\n",
       "      <td>15.0</td>\n",
       "      <td>1073.333333</td>\n",
       "      <td>582.441495</td>\n",
       "      <td>0.0</td>\n",
       "      <td>700.0</td>\n",
       "      <td>900.0</td>\n",
       "      <td>1500.0</td>\n",
       "      <td>2200.0</td>\n",
       "    </tr>\n",
       "    <tr>\n",
       "      <th>5</th>\n",
       "      <td>33.0</td>\n",
       "      <td>1663.636364</td>\n",
       "      <td>601.985352</td>\n",
       "      <td>400.0</td>\n",
       "      <td>1400.0</td>\n",
       "      <td>1900.0</td>\n",
       "      <td>2100.0</td>\n",
       "      <td>2500.0</td>\n",
       "    </tr>\n",
       "    <tr>\n",
       "      <th>6</th>\n",
       "      <td>21.0</td>\n",
       "      <td>1990.476190</td>\n",
       "      <td>611.477524</td>\n",
       "      <td>900.0</td>\n",
       "      <td>1500.0</td>\n",
       "      <td>2100.0</td>\n",
       "      <td>2300.0</td>\n",
       "      <td>3500.0</td>\n",
       "    </tr>\n",
       "    <tr>\n",
       "      <th>7</th>\n",
       "      <td>9.0</td>\n",
       "      <td>2200.000000</td>\n",
       "      <td>364.005494</td>\n",
       "      <td>1600.0</td>\n",
       "      <td>2000.0</td>\n",
       "      <td>2300.0</td>\n",
       "      <td>2500.0</td>\n",
       "      <td>2600.0</td>\n",
       "    </tr>\n",
       "    <tr>\n",
       "      <th>8</th>\n",
       "      <td>5.0</td>\n",
       "      <td>2200.000000</td>\n",
       "      <td>758.287544</td>\n",
       "      <td>1000.0</td>\n",
       "      <td>2000.0</td>\n",
       "      <td>2500.0</td>\n",
       "      <td>2500.0</td>\n",
       "      <td>3000.0</td>\n",
       "    </tr>\n",
       "  </tbody>\n",
       "</table>\n",
       "</div>"
      ],
      "text/plain": [
       "        DEF                                                                 \n",
       "      count         mean         std     min     25%     50%     75%     max\n",
       "Level                                                                       \n",
       "1       5.0   320.000000   44.721360   300.0   300.0   300.0   300.0   400.0\n",
       "2       4.0   475.000000  359.397644   200.0   275.0   350.0   550.0  1000.0\n",
       "3       3.0   466.666667  416.333200     0.0   300.0   600.0   700.0   800.0\n",
       "4      15.0  1073.333333  582.441495     0.0   700.0   900.0  1500.0  2200.0\n",
       "5      33.0  1663.636364  601.985352   400.0  1400.0  1900.0  2100.0  2500.0\n",
       "6      21.0  1990.476190  611.477524   900.0  1500.0  2100.0  2300.0  3500.0\n",
       "7       9.0  2200.000000  364.005494  1600.0  2000.0  2300.0  2500.0  2600.0\n",
       "8       5.0  2200.000000  758.287544  1000.0  2000.0  2500.0  2500.0  3000.0"
      ]
     },
     "execution_count": 19,
     "metadata": {},
     "output_type": "execute_result"
    }
   ],
   "source": [
    "bandai_df[[\"Level\", \"DEF\"]].apply(pd.to_numeric, errors=\"coerce\").dropna().astype(\n",
    "    int\n",
    ").groupby(\"Level\").describe()"
   ]
  },
  {
   "cell_type": "markdown",
   "id": "f8a1f602-3981-413c-bc35-dadb1da03979",
   "metadata": {
    "papermill": {
     "duration": 0.020996,
     "end_time": "2023-05-18T12:24:14.888701",
     "exception": false,
     "start_time": "2023-05-18T12:24:14.867705",
     "status": "completed"
    },
    "tags": []
   },
   "source": [
    "## Monster type"
   ]
  },
  {
   "cell_type": "code",
   "execution_count": 20,
   "id": "dab77100",
   "metadata": {
    "execution": {
     "iopub.execute_input": "2023-05-18T12:24:14.932339Z",
     "iopub.status.busy": "2023-05-18T12:24:14.931800Z",
     "iopub.status.idle": "2023-05-18T12:24:14.940261Z",
     "shell.execute_reply": "2023-05-18T12:24:14.939351Z"
    },
    "papermill": {
     "duration": 0.036843,
     "end_time": "2023-05-18T12:24:14.946353",
     "exception": false,
     "start_time": "2023-05-18T12:24:14.909510",
     "status": "completed"
    },
    "tags": []
   },
   "outputs": [
    {
     "name": "stdout",
     "output_type": "stream",
     "text": [
      "Total number of monster types:"
     ]
    },
    {
     "name": "stdout",
     "output_type": "stream",
     "text": [
      " "
     ]
    },
    {
     "name": "stdout",
     "output_type": "stream",
     "text": [
      "15"
     ]
    },
    {
     "name": "stdout",
     "output_type": "stream",
     "text": [
      "\n"
     ]
    }
   ],
   "source": [
    "print(\"Total number of monster types:\", bandai_df[\"Monster type\"].nunique())"
   ]
  },
  {
   "cell_type": "code",
   "execution_count": 21,
   "id": "02f5b750",
   "metadata": {
    "execution": {
     "iopub.execute_input": "2023-05-18T12:24:15.017466Z",
     "iopub.status.busy": "2023-05-18T12:24:15.016167Z",
     "iopub.status.idle": "2023-05-18T12:24:15.040958Z",
     "shell.execute_reply": "2023-05-18T12:24:15.040031Z"
    },
    "papermill": {
     "duration": 0.072387,
     "end_time": "2023-05-18T12:24:15.043837",
     "exception": false,
     "start_time": "2023-05-18T12:24:14.971450",
     "status": "completed"
    },
    "tags": []
   },
   "outputs": [
    {
     "data": {
      "text/html": [
       "<div>\n",
       "<style scoped>\n",
       "    .dataframe tbody tr th:only-of-type {\n",
       "        vertical-align: middle;\n",
       "    }\n",
       "\n",
       "    .dataframe tbody tr th {\n",
       "        vertical-align: top;\n",
       "    }\n",
       "\n",
       "    .dataframe thead th {\n",
       "        text-align: right;\n",
       "    }\n",
       "</style>\n",
       "<table border=\"1\" class=\"dataframe\">\n",
       "  <thead>\n",
       "    <tr style=\"text-align: right;\">\n",
       "      <th></th>\n",
       "      <th>Name</th>\n",
       "      <th>DEF</th>\n",
       "      <th>Set</th>\n",
       "      <th>Card number</th>\n",
       "      <th>Ability</th>\n",
       "      <th>Rule</th>\n",
       "      <th>ATK</th>\n",
       "      <th>Level</th>\n",
       "      <th>Modification date</th>\n",
       "    </tr>\n",
       "    <tr>\n",
       "      <th>Monster type</th>\n",
       "      <th></th>\n",
       "      <th></th>\n",
       "      <th></th>\n",
       "      <th></th>\n",
       "      <th></th>\n",
       "      <th></th>\n",
       "      <th></th>\n",
       "      <th></th>\n",
       "      <th></th>\n",
       "    </tr>\n",
       "  </thead>\n",
       "  <tbody>\n",
       "    <tr>\n",
       "      <th>Beast</th>\n",
       "      <td>4</td>\n",
       "      <td>4</td>\n",
       "      <td>3</td>\n",
       "      <td>4</td>\n",
       "      <td>0</td>\n",
       "      <td>2</td>\n",
       "      <td>2</td>\n",
       "      <td>3</td>\n",
       "      <td>4</td>\n",
       "    </tr>\n",
       "    <tr>\n",
       "      <th>Beast-Warrior</th>\n",
       "      <td>5</td>\n",
       "      <td>4</td>\n",
       "      <td>2</td>\n",
       "      <td>5</td>\n",
       "      <td>0</td>\n",
       "      <td>4</td>\n",
       "      <td>5</td>\n",
       "      <td>3</td>\n",
       "      <td>5</td>\n",
       "    </tr>\n",
       "    <tr>\n",
       "      <th>Black Magic</th>\n",
       "      <td>12</td>\n",
       "      <td>7</td>\n",
       "      <td>4</td>\n",
       "      <td>11</td>\n",
       "      <td>0</td>\n",
       "      <td>3</td>\n",
       "      <td>7</td>\n",
       "      <td>4</td>\n",
       "      <td>12</td>\n",
       "    </tr>\n",
       "    <tr>\n",
       "      <th>Dinosaur</th>\n",
       "      <td>5</td>\n",
       "      <td>5</td>\n",
       "      <td>3</td>\n",
       "      <td>5</td>\n",
       "      <td>0</td>\n",
       "      <td>4</td>\n",
       "      <td>5</td>\n",
       "      <td>2</td>\n",
       "      <td>5</td>\n",
       "    </tr>\n",
       "    <tr>\n",
       "      <th>Dragon</th>\n",
       "      <td>11</td>\n",
       "      <td>8</td>\n",
       "      <td>3</td>\n",
       "      <td>12</td>\n",
       "      <td>0</td>\n",
       "      <td>7</td>\n",
       "      <td>8</td>\n",
       "      <td>5</td>\n",
       "      <td>13</td>\n",
       "    </tr>\n",
       "    <tr>\n",
       "      <th>Dragon Magic</th>\n",
       "      <td>1</td>\n",
       "      <td>1</td>\n",
       "      <td>1</td>\n",
       "      <td>1</td>\n",
       "      <td>0</td>\n",
       "      <td>1</td>\n",
       "      <td>1</td>\n",
       "      <td>1</td>\n",
       "      <td>1</td>\n",
       "    </tr>\n",
       "    <tr>\n",
       "      <th>Fiend</th>\n",
       "      <td>18</td>\n",
       "      <td>12</td>\n",
       "      <td>3</td>\n",
       "      <td>18</td>\n",
       "      <td>0</td>\n",
       "      <td>8</td>\n",
       "      <td>12</td>\n",
       "      <td>6</td>\n",
       "      <td>18</td>\n",
       "    </tr>\n",
       "    <tr>\n",
       "      <th>Illusion</th>\n",
       "      <td>2</td>\n",
       "      <td>2</td>\n",
       "      <td>2</td>\n",
       "      <td>2</td>\n",
       "      <td>0</td>\n",
       "      <td>0</td>\n",
       "      <td>2</td>\n",
       "      <td>1</td>\n",
       "      <td>2</td>\n",
       "    </tr>\n",
       "    <tr>\n",
       "      <th>Insect</th>\n",
       "      <td>7</td>\n",
       "      <td>5</td>\n",
       "      <td>3</td>\n",
       "      <td>7</td>\n",
       "      <td>0</td>\n",
       "      <td>6</td>\n",
       "      <td>7</td>\n",
       "      <td>6</td>\n",
       "      <td>7</td>\n",
       "    </tr>\n",
       "    <tr>\n",
       "      <th>Sea Beast</th>\n",
       "      <td>2</td>\n",
       "      <td>2</td>\n",
       "      <td>1</td>\n",
       "      <td>2</td>\n",
       "      <td>0</td>\n",
       "      <td>1</td>\n",
       "      <td>2</td>\n",
       "      <td>1</td>\n",
       "      <td>2</td>\n",
       "    </tr>\n",
       "    <tr>\n",
       "      <th>Sea Serpent</th>\n",
       "      <td>1</td>\n",
       "      <td>1</td>\n",
       "      <td>1</td>\n",
       "      <td>1</td>\n",
       "      <td>0</td>\n",
       "      <td>1</td>\n",
       "      <td>1</td>\n",
       "      <td>1</td>\n",
       "      <td>1</td>\n",
       "    </tr>\n",
       "    <tr>\n",
       "      <th>Thunder</th>\n",
       "      <td>1</td>\n",
       "      <td>1</td>\n",
       "      <td>1</td>\n",
       "      <td>1</td>\n",
       "      <td>0</td>\n",
       "      <td>1</td>\n",
       "      <td>1</td>\n",
       "      <td>1</td>\n",
       "      <td>1</td>\n",
       "    </tr>\n",
       "    <tr>\n",
       "      <th>Warrior</th>\n",
       "      <td>12</td>\n",
       "      <td>10</td>\n",
       "      <td>3</td>\n",
       "      <td>12</td>\n",
       "      <td>0</td>\n",
       "      <td>8</td>\n",
       "      <td>7</td>\n",
       "      <td>3</td>\n",
       "      <td>12</td>\n",
       "    </tr>\n",
       "    <tr>\n",
       "      <th>White Magic</th>\n",
       "      <td>6</td>\n",
       "      <td>4</td>\n",
       "      <td>3</td>\n",
       "      <td>6</td>\n",
       "      <td>0</td>\n",
       "      <td>4</td>\n",
       "      <td>6</td>\n",
       "      <td>3</td>\n",
       "      <td>6</td>\n",
       "    </tr>\n",
       "    <tr>\n",
       "      <th>Winged Beast</th>\n",
       "      <td>3</td>\n",
       "      <td>1</td>\n",
       "      <td>2</td>\n",
       "      <td>3</td>\n",
       "      <td>0</td>\n",
       "      <td>1</td>\n",
       "      <td>1</td>\n",
       "      <td>1</td>\n",
       "      <td>3</td>\n",
       "    </tr>\n",
       "  </tbody>\n",
       "</table>\n",
       "</div>"
      ],
      "text/plain": [
       "               Name  DEF  Set  Card number  Ability  Rule  ATK  Level  \\\n",
       "Monster type                                                            \n",
       "Beast             4    4    3            4        0     2    2      3   \n",
       "Beast-Warrior     5    4    2            5        0     4    5      3   \n",
       "Black Magic      12    7    4           11        0     3    7      4   \n",
       "Dinosaur          5    5    3            5        0     4    5      2   \n",
       "Dragon           11    8    3           12        0     7    8      5   \n",
       "Dragon Magic      1    1    1            1        0     1    1      1   \n",
       "Fiend            18   12    3           18        0     8   12      6   \n",
       "Illusion          2    2    2            2        0     0    2      1   \n",
       "Insect            7    5    3            7        0     6    7      6   \n",
       "Sea Beast         2    2    1            2        0     1    2      1   \n",
       "Sea Serpent       1    1    1            1        0     1    1      1   \n",
       "Thunder           1    1    1            1        0     1    1      1   \n",
       "Warrior          12   10    3           12        0     8    7      3   \n",
       "White Magic       6    4    3            6        0     4    6      3   \n",
       "Winged Beast      3    1    2            3        0     1    1      1   \n",
       "\n",
       "               Modification date  \n",
       "Monster type                      \n",
       "Beast                          4  \n",
       "Beast-Warrior                  5  \n",
       "Black Magic                   12  \n",
       "Dinosaur                       5  \n",
       "Dragon                        13  \n",
       "Dragon Magic                   1  \n",
       "Fiend                         18  \n",
       "Illusion                       2  \n",
       "Insect                         7  \n",
       "Sea Beast                      2  \n",
       "Sea Serpent                    1  \n",
       "Thunder                        1  \n",
       "Warrior                       12  \n",
       "White Magic                    6  \n",
       "Winged Beast                   3  "
      ]
     },
     "execution_count": 21,
     "metadata": {},
     "output_type": "execute_result"
    }
   ],
   "source": [
    "bandai_df.drop(columns=[\"Card type\", \"Page name\", \"Page URL\"]).groupby(\n",
    "    \"Monster type\"\n",
    ").nunique()"
   ]
  },
  {
   "cell_type": "code",
   "execution_count": 22,
   "id": "75111774",
   "metadata": {
    "execution": {
     "iopub.execute_input": "2023-05-18T12:24:15.141476Z",
     "iopub.status.busy": "2023-05-18T12:24:15.140296Z",
     "iopub.status.idle": "2023-05-18T12:24:15.517576Z",
     "shell.execute_reply": "2023-05-18T12:24:15.516493Z"
    },
    "papermill": {
     "duration": 0.45391,
     "end_time": "2023-05-18T12:24:15.519884",
     "exception": false,
     "start_time": "2023-05-18T12:24:15.065974",
     "status": "completed"
    },
    "tags": []
   },
   "outputs": [
    {
     "data": {
      "image/png": "[encoded data removed]",
      "text/plain": [
       "<Figure size 1800x600 with 1 Axes>"
      ]
     },
     "metadata": {},
     "output_type": "display_data"
    }
   ],
   "source": [
    "monster_type_colors = colors_dict[\"Monster Card\"]\n",
    "bandai_df[\"Monster type\"].value_counts().plot.bar(\n",
    "    figsize=(18, 6), grid=True, rot=45, color=monster_type_colors, title=\"Monster type\"\n",
    ")\n",
    "plt.show()"
   ]
  },
  {
   "cell_type": "markdown",
   "id": "eaf337f6-5f57-4f12-9ed9-56ee60684221",
   "metadata": {
    "papermill": {
     "duration": 0.022927,
     "end_time": "2023-05-18T12:24:15.566034",
     "exception": false,
     "start_time": "2023-05-18T12:24:15.543107",
     "status": "completed"
    },
    "tags": []
   },
   "source": [
    "## Set"
   ]
  },
  {
   "cell_type": "code",
   "execution_count": 23,
   "id": "8235e37d-9495-4cdd-9935-47c991543663",
   "metadata": {
    "execution": {
     "iopub.execute_input": "2023-05-18T12:24:15.614411Z",
     "iopub.status.busy": "2023-05-18T12:24:15.613243Z",
     "iopub.status.idle": "2023-05-18T12:24:15.622395Z",
     "shell.execute_reply": "2023-05-18T12:24:15.621444Z"
    },
    "papermill": {
     "duration": 0.037002,
     "end_time": "2023-05-18T12:24:15.625699",
     "exception": false,
     "start_time": "2023-05-18T12:24:15.588697",
     "status": "completed"
    },
    "tags": []
   },
   "outputs": [
    {
     "name": "stdout",
     "output_type": "stream",
     "text": [
      "Total number of sets:"
     ]
    },
    {
     "name": "stdout",
     "output_type": "stream",
     "text": [
      " "
     ]
    },
    {
     "name": "stdout",
     "output_type": "stream",
     "text": [
      "4"
     ]
    },
    {
     "name": "stdout",
     "output_type": "stream",
     "text": [
      "\n"
     ]
    }
   ],
   "source": [
    "print(\"Total number of sets:\", bandai_df[\"Set\"].nunique())"
   ]
  },
  {
   "cell_type": "code",
   "execution_count": 24,
   "id": "5ea867ee-c5e5-48ed-84d4-9c66b205f185",
   "metadata": {
    "execution": {
     "iopub.execute_input": "2023-05-18T12:24:15.675846Z",
     "iopub.status.busy": "2023-05-18T12:24:15.675007Z",
     "iopub.status.idle": "2023-05-18T12:24:15.698731Z",
     "shell.execute_reply": "2023-05-18T12:24:15.697787Z"
    },
    "papermill": {
     "duration": 0.052352,
     "end_time": "2023-05-18T12:24:15.701575",
     "exception": false,
     "start_time": "2023-05-18T12:24:15.649223",
     "status": "completed"
    },
    "tags": []
   },
   "outputs": [
    {
     "data": {
      "text/html": [
       "<div>\n",
       "<style scoped>\n",
       "    .dataframe tbody tr th:only-of-type {\n",
       "        vertical-align: middle;\n",
       "    }\n",
       "\n",
       "    .dataframe tbody tr th {\n",
       "        vertical-align: top;\n",
       "    }\n",
       "\n",
       "    .dataframe thead th {\n",
       "        text-align: right;\n",
       "    }\n",
       "</style>\n",
       "<table border=\"1\" class=\"dataframe\">\n",
       "  <thead>\n",
       "    <tr style=\"text-align: right;\">\n",
       "      <th></th>\n",
       "      <th>Name</th>\n",
       "      <th>Card type</th>\n",
       "      <th>Monster type</th>\n",
       "      <th>DEF</th>\n",
       "      <th>Card number</th>\n",
       "      <th>Ability</th>\n",
       "      <th>Rule</th>\n",
       "      <th>ATK</th>\n",
       "      <th>Level</th>\n",
       "      <th>Modification date</th>\n",
       "    </tr>\n",
       "    <tr>\n",
       "      <th>Set</th>\n",
       "      <th></th>\n",
       "      <th></th>\n",
       "      <th></th>\n",
       "      <th></th>\n",
       "      <th></th>\n",
       "      <th></th>\n",
       "      <th></th>\n",
       "      <th></th>\n",
       "      <th></th>\n",
       "      <th></th>\n",
       "    </tr>\n",
       "  </thead>\n",
       "  <tbody>\n",
       "    <tr>\n",
       "      <th>Yu-Gi-Oh! Bandai OCG: 1st Generation</th>\n",
       "      <td>40</td>\n",
       "      <td>2</td>\n",
       "      <td>12</td>\n",
       "      <td>18</td>\n",
       "      <td>41</td>\n",
       "      <td>8</td>\n",
       "      <td>9</td>\n",
       "      <td>18</td>\n",
       "      <td>7</td>\n",
       "      <td>41</td>\n",
       "    </tr>\n",
       "    <tr>\n",
       "      <th>Yu-Gi-Oh! Bandai OCG: 2nd Generation</th>\n",
       "      <td>48</td>\n",
       "      <td>4</td>\n",
       "      <td>13</td>\n",
       "      <td>21</td>\n",
       "      <td>48</td>\n",
       "      <td>0</td>\n",
       "      <td>13</td>\n",
       "      <td>19</td>\n",
       "      <td>7</td>\n",
       "      <td>48</td>\n",
       "    </tr>\n",
       "    <tr>\n",
       "      <th>Yu-Gi-Oh! Bandai OCG: 3rd Generation</th>\n",
       "      <td>26</td>\n",
       "      <td>2</td>\n",
       "      <td>8</td>\n",
       "      <td>10</td>\n",
       "      <td>26</td>\n",
       "      <td>0</td>\n",
       "      <td>13</td>\n",
       "      <td>10</td>\n",
       "      <td>6</td>\n",
       "      <td>26</td>\n",
       "    </tr>\n",
       "    <tr>\n",
       "      <th>Yu-Gi-Oh! Bandai OCG: Promotional Cards</th>\n",
       "      <td>5</td>\n",
       "      <td>3</td>\n",
       "      <td>2</td>\n",
       "      <td>1</td>\n",
       "      <td>0</td>\n",
       "      <td>0</td>\n",
       "      <td>0</td>\n",
       "      <td>1</td>\n",
       "      <td>1</td>\n",
       "      <td>5</td>\n",
       "    </tr>\n",
       "  </tbody>\n",
       "</table>\n",
       "</div>"
      ],
      "text/plain": [
       "                                         Name  Card type  Monster type  DEF  \\\n",
       "Set                                                                           \n",
       "Yu-Gi-Oh! Bandai OCG: 1st Generation       40          2            12   18   \n",
       "Yu-Gi-Oh! Bandai OCG: 2nd Generation       48          4            13   21   \n",
       "Yu-Gi-Oh! Bandai OCG: 3rd Generation       26          2             8   10   \n",
       "Yu-Gi-Oh! Bandai OCG: Promotional Cards     5          3             2    1   \n",
       "\n",
       "                                         Card number  Ability  Rule  ATK  \\\n",
       "Set                                                                        \n",
       "Yu-Gi-Oh! Bandai OCG: 1st Generation              41        8     9   18   \n",
       "Yu-Gi-Oh! Bandai OCG: 2nd Generation              48        0    13   19   \n",
       "Yu-Gi-Oh! Bandai OCG: 3rd Generation              26        0    13   10   \n",
       "Yu-Gi-Oh! Bandai OCG: Promotional Cards            0        0     0    1   \n",
       "\n",
       "                                         Level  Modification date  \n",
       "Set                                                                \n",
       "Yu-Gi-Oh! Bandai OCG: 1st Generation         7                 41  \n",
       "Yu-Gi-Oh! Bandai OCG: 2nd Generation         7                 48  \n",
       "Yu-Gi-Oh! Bandai OCG: 3rd Generation         6                 26  \n",
       "Yu-Gi-Oh! Bandai OCG: Promotional Cards      1                  5  "
      ]
     },
     "execution_count": 24,
     "metadata": {},
     "output_type": "execute_result"
    }
   ],
   "source": [
    "bandai_df.drop(columns=[\"Page name\", \"Page URL\"]).groupby(\"Set\").nunique()"
   ]
  },
  {
   "cell_type": "markdown",
   "id": "1b6f5f73-c9cd-483c-96da-54174938da5a",
   "metadata": {
    "papermill": {
     "duration": 0.023284,
     "end_time": "2023-05-18T12:24:15.748424",
     "exception": false,
     "start_time": "2023-05-18T12:24:15.725140",
     "status": "completed"
    },
    "tags": []
   },
   "source": [
    "# Epilogue"
   ]
  },
  {
   "cell_type": "code",
   "execution_count": 25,
   "id": "9ebe9200-4e74-4db0-8f10-d7b258b9ef7c",
   "metadata": {
    "execution": {
     "iopub.execute_input": "2023-05-18T12:24:15.798819Z",
     "iopub.status.busy": "2023-05-18T12:24:15.798079Z",
     "iopub.status.idle": "2023-05-18T12:24:16.322663Z",
     "shell.execute_reply": "2023-05-18T12:24:16.321286Z"
    },
    "papermill": {
     "duration": 0.553132,
     "end_time": "2023-05-18T12:24:16.325705",
     "exception": false,
     "start_time": "2023-05-18T12:24:15.772573",
     "status": "completed"
    },
    "tags": []
   },
   "outputs": [],
   "source": [
    "benchmark(\"bandai\", timestamp)"
   ]
  },
  {
   "cell_type": "code",
   "execution_count": 26,
   "id": "eae8bd03-02f4-486d-9ae0-ddc7227985f2",
   "metadata": {
    "execution": {
     "iopub.execute_input": "2023-05-18T12:24:16.377217Z",
     "iopub.status.busy": "2023-05-18T12:24:16.376605Z",
     "iopub.status.idle": "2023-05-18T12:24:16.384898Z",
     "shell.execute_reply": "2023-05-18T12:24:16.383646Z"
    },
    "papermill": {
     "duration": 0.038359,
     "end_time": "2023-05-18T12:24:16.388253",
     "exception": false,
     "start_time": "2023-05-18T12:24:16.349894",
     "status": "completed"
    },
    "tags": []
   },
   "outputs": [
    {
     "data": {
      "text/markdown": [
       "<div align='right'>\n",
       "    Execution completed 18/05/2023 12:24 UTC\n",
       "</div>"
      ],
      "text/plain": [
       "<IPython.core.display.Markdown object>"
      ]
     },
     "execution_count": 26,
     "metadata": {},
     "output_type": "execute_result"
    }
   ],
   "source": [
    "footer()"
   ]
  },
  {
   "cell_type": "markdown",
   "id": "f8ddd2ba-01d3-4b5d-901a-62ea4f793309",
   "metadata": {
    "papermill": {
     "duration": 0.026462,
     "end_time": "2023-05-18T12:24:16.438812",
     "exception": false,
     "start_time": "2023-05-18T12:24:16.412350",
     "status": "completed"
    },
    "tags": []
   },
   "source": [
    "## HTML export"
   ]
  },
  {
   "cell_type": "code",
   "execution_count": 27,
   "id": "1f2182a7-7cc8-4959-8af5-ba7ea26439a7",
   "metadata": {
    "execution": {
     "iopub.execute_input": "2023-05-18T12:24:16.489919Z",
     "iopub.status.busy": "2023-05-18T12:24:16.488840Z",
     "iopub.status.idle": "2023-05-18T12:24:16.500238Z",
     "shell.execute_reply": "2023-05-18T12:24:16.499327Z"
    },
    "papermill": {
     "duration": 0.041583,
     "end_time": "2023-05-18T12:24:16.504269",
     "exception": false,
     "start_time": "2023-05-18T12:24:16.462686",
     "status": "completed"
    },
    "tags": []
   },
   "outputs": [
    {
     "name": "stdout",
     "output_type": "stream",
     "text": [
      "Notebook saved to disk"
     ]
    },
    {
     "name": "stdout",
     "output_type": "stream",
     "text": [
      "\n"
     ]
    }
   ],
   "source": [
    "# Save notebook on disck before generating HTML report\n",
    "save_notebook()"
   ]
  },
  {
   "cell_type": "code",
   "execution_count": 28,
   "id": "d7137575-20bb-4fb2-b32e-0d9de2d1cba7",
   "metadata": {
    "execution": {
     "iopub.execute_input": "2023-05-18T12:24:16.560886Z",
     "iopub.status.busy": "2023-05-18T12:24:16.560189Z",
     "iopub.status.idle": "2023-05-18T12:24:22.172328Z",
     "shell.execute_reply": "2023-05-18T12:24:22.170854Z"
    },
    "papermill": {
     "duration": 5.640659,
     "end_time": "2023-05-18T12:24:22.175006",
     "exception": false,
     "start_time": "2023-05-18T12:24:16.534347",
     "status": "completed"
    },
    "tags": []
   },
   "outputs": [
    {
     "name": "stdout",
     "output_type": "stream",
     "text": [
      "WARNING: Insecure writes have been enabled via environment variable 'JUPYTER_ALLOW_INSECURE_WRITES'! If this is not intended, remove the variable or set its value to 'False'.\r\n"
     ]
    },
    {
     "name": "stdout",
     "output_type": "stream",
     "text": [
      "[NbConvertApp] Converting notebook Bandai.ipynb to HTML\r\n"
     ]
    },
    {
     "name": "stdout",
     "output_type": "stream",
     "text": [
      "[NbConvertApp] Writing 780787 bytes to ../Bandai.html\r\n"
     ]
    }
   ],
   "source": [
    "! jupyter nbconvert Bandai.ipynb --output-dir='../' --to=HTML --TagRemovePreprocessor.enabled=True --TagRemovePreprocessor.remove_cell_tags='exclude' --TemplateExporter.exclude_input=True --TemplateExporter.exclude_input_prompt=True --TemplateExporter.exclude_output_prompt=True"
   ]
  },
  {
   "cell_type": "markdown",
   "id": "a28db6c7-1f12-497c-adc6-660f199e3369",
   "metadata": {
    "papermill": {
     "duration": 0.157287,
     "end_time": "2023-05-18T12:24:22.356539",
     "exception": false,
     "start_time": "2023-05-18T12:24:22.199252",
     "status": "completed"
    },
    "tags": [
     "exclude"
    ]
   },
   "source": [
    "## Git"
   ]
  },
  {
   "cell_type": "code",
   "execution_count": null,
   "id": "0883fa53-b0b8-4ce2-ac96-559df31c9c58",
   "metadata": {
    "execution": {
     "iopub.execute_input": "2023-05-08T21:17:32.560857Z",
     "iopub.status.busy": "2023-05-08T21:17:32.559740Z",
     "iopub.status.idle": "2023-05-08T21:17:32.880153Z",
     "shell.execute_reply": "2023-05-08T21:17:32.878943Z"
    },
    "papermill": {
     "duration": null,
     "end_time": null,
     "exception": false,
     "start_time": "2023-05-18T12:24:22.381779",
     "status": "running"
    },
    "tags": [
     "exclude"
    ]
   },
   "outputs": [],
   "source": [
    "! git add \"../*[Bb]andai*\""
   ]
  },
  {
   "cell_type": "code",
   "execution_count": null,
   "id": "3322a6a5-a048-42f3-a1ac-3124c0353599",
   "metadata": {
    "execution": {
     "iopub.execute_input": "2023-05-08T21:17:32.934259Z",
     "iopub.status.busy": "2023-05-08T21:17:32.933138Z",
     "iopub.status.idle": "2023-05-08T21:17:33.381444Z",
     "shell.execute_reply": "2023-05-08T21:17:33.379680Z"
    },
    "papermill": {
     "duration": null,
     "end_time": null,
     "exception": null,
     "start_time": null,
     "status": "pending"
    },
    "tags": [
     "exclude"
    ]
   },
   "outputs": [],
   "source": [
    "! git commit -m {\"'Bandai update-\" + timestamp.isoformat() + \"'\"}"
   ]
  }
 ],
 "metadata": {
  "kernelspec": {
   "display_name": "Python 3 (ipykernel)",
   "language": "python",
   "name": "python3"
  },
  "language_info": {
   "codemirror_mode": {
    "name": "ipython",
    "version": 3
   },
   "file_extension": ".py",
   "mimetype": "text/x-python",
   "name": "python",
   "nbconvert_exporter": "python",
   "pygments_lexer": "ipython3",
   "version": "3.10.8"
  },
  "papermill": {
   "default_parameters": {},
   "duration": null,
   "end_time": null,
   "environment_variables": {},
   "exception": null,
   "input_path": "Bandai.ipynb",
   "output_path": "Bandai.ipynb",
   "parameters": {},
   "start_time": "2023-05-18T12:24:03.834067",
   "version": "2.4.0"
  },
  "widgets": {
   "application/vnd.jupyter.widget-state+json": {
    "state": {
     "3996eb03b0874dcda5193c26fa6d0a53": {
      "model_module": "ipylab",
      "model_module_version": "^0.6.0",
      "model_name": "CommandRegistryModel",
      "state": {
       "_command_list": [],
       "_commands": [],
       "_model_module": "ipylab",
       "_model_module_version": "^0.6.0",
       "_model_name": "CommandRegistryModel",
       "_view_count": null,
       "_view_module": null,
       "_view_module_version": "",
       "_view_name": null
      }
     },
     "3f2364be5c4047aea0e73ed2d71f6715": {
      "model_module": "ipylab",
      "model_module_version": "^0.6.0",
      "model_name": "SessionManagerModel",
      "state": {
       "_model_module": "ipylab",
       "_model_module_version": "^0.6.0",
       "_model_name": "SessionManagerModel",
       "_view_count": null,
       "_view_module": null,
       "_view_module_version": "",
       "_view_name": null,
       "current_session": {},
       "sessions": []
      }
     },
     "3f83d1d6e07d4887b89b91d149bb9380": {
      "model_module": "ipylab",
      "model_module_version": "^0.6.0",
      "model_name": "JupyterFrontEndModel",
      "state": {
       "_model_module": "ipylab",
       "_model_module_version": "^0.6.0",
       "_model_name": "JupyterFrontEndModel",
       "_view_count": null,
       "_view_module": null,
       "_view_module_version": "",
       "_view_name": null,
       "commands": "IPY_MODEL_3996eb03b0874dcda5193c26fa6d0a53",
       "sessions": "IPY_MODEL_3f2364be5c4047aea0e73ed2d71f6715",
       "shell": "IPY_MODEL_47714885dbad4859a49d014ab787cb5b",
       "version": ""
      }
     },
     "4642c4f84c62484b8a959da97ce20d84": {
      "model_module": "@jupyter-widgets/output",
      "model_module_version": "1.0.0",
      "model_name": "OutputModel",
      "state": {
       "_dom_classes": [],
       "_model_module": "@jupyter-widgets/output",
       "_model_module_version": "1.0.0",
       "_model_name": "OutputModel",
       "_view_count": null,
       "_view_module": "@jupyter-widgets/output",
       "_view_module_version": "1.0.0",
       "_view_name": "OutputView",
       "layout": "IPY_MODEL_79c388af85c84a29871ba900b0a9a613",
       "msg_id": "",
       "outputs": [],
       "tabbable": null,
       "tooltip": null
      }
     },
     "47714885dbad4859a49d014ab787cb5b": {
      "model_module": "ipylab",
      "model_module_version": "^0.6.0",
      "model_name": "ShellModel",
      "state": {
       "_model_module": "ipylab",
       "_model_module_version": "^0.6.0",
       "_model_name": "ShellModel",
       "_view_count": null,
       "_view_module": null,
       "_view_module_version": "",
       "_view_name": null,
       "_widgets": []
      }
     },
     "79c388af85c84a29871ba900b0a9a613": {
      "model_module": "@jupyter-widgets/base",
      "model_module_version": "2.0.0",
      "model_name": "LayoutModel",
      "state": {
       "_model_module": "@jupyter-widgets/base",
       "_model_module_version": "2.0.0",
       "_model_name": "LayoutModel",
       "_view_count": null,
       "_view_module": "@jupyter-widgets/base",
       "_view_module_version": "2.0.0",
       "_view_name": "LayoutView",
       "align_content": null,
       "align_items": null,
       "align_self": null,
       "border_bottom": null,
       "border_left": null,
       "border_right": null,
       "border_top": null,
       "bottom": null,
       "display": null,
       "flex": null,
       "flex_flow": null,
       "grid_area": null,
       "grid_auto_columns": null,
       "grid_auto_flow": null,
       "grid_auto_rows": null,
       "grid_column": null,
       "grid_gap": null,
       "grid_row": null,
       "grid_template_areas": null,
       "grid_template_columns": null,
       "grid_template_rows": null,
       "height": null,
       "justify_content": null,
       "justify_items": null,
       "left": null,
       "margin": null,
       "max_height": null,
       "max_width": null,
       "min_height": null,
       "min_width": null,
       "object_fit": null,
       "object_position": null,
       "order": null,
       "overflow": null,
       "padding": null,
       "right": null,
       "top": null,
       "visibility": null,
       "width": null
      }
     }
    },
    "version_major": 2,
    "version_minor": 0
   }
  }
 },
 "nbformat": 4,
 "nbformat_minor": 5
}