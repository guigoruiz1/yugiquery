{
 "cells": [
  {
   "cell_type": "code",
   "execution_count": 1,
   "id": "9903a324-2402-461a-b8b3-9dec09caceb4",
   "metadata": {
    "execution": {
     "iopub.execute_input": "2023-02-20T18:20:59.175417Z",
     "iopub.status.busy": "2023-02-20T18:20:59.175008Z",
     "iopub.status.idle": "2023-02-20T18:21:10.474754Z",
     "shell.execute_reply": "2023-02-20T18:21:10.473629Z"
    },
    "papermill": {
     "duration": 11.312589,
     "end_time": "2023-02-20T18:21:10.477680",
     "exception": false,
     "start_time": "2023-02-20T18:20:59.165091",
     "status": "completed"
    },
    "tags": []
   },
   "outputs": [
    {
     "data": {
      "text/markdown": [
       "<div align='center'>\n",
       "    <br>\n",
       "    <!-- Pre Style needed to fix HTML formatting -->\n",
       "    <pre style=\"line-height: var(--jp-code-line-height); font-family: var(--jp-code-font-family)\">\n",
       "    ██    ██ ██    ██  ██████  ██  ██████  ██    ██ ███████ ██████  ██    ██ \n",
       "     ██  ██  ██    ██ ██       ██ ██    ██ ██    ██ ██      ██   ██  ██  ██  \n",
       "      ████   ██    ██ ██   ███ ██ ██    ██ ██    ██ █████   ██████    ████   \n",
       "       ██    ██    ██ ██    ██ ██ ██ ▄▄ ██ ██    ██ ██      ██   ██    ██    \n",
       "       ██     ██████   ██████  ██  ██████   ██████  ███████ ██   ██    ██    \n",
       "                                      ▀▀                                     \n",
       "    </pre>\n",
       "</div>\n",
       "<div align='right'>\n",
       "    Bandai - Execution started 20/02/2023 18:21 UTC <br>\n",
       "    By <b>Guilherme Ruiz</b>\n",
       "</div>"
      ],
      "text/plain": [
       "<IPython.core.display.Markdown object>"
      ]
     },
     "execution_count": 1,
     "metadata": {},
     "output_type": "execute_result"
    }
   ],
   "source": [
    "from yugiquery import *\n",
    "header('Bandai')"
   ]
  },
  {
   "cell_type": "markdown",
   "id": "9445cada-ce7a-4d46-a3e8-742439319435",
   "metadata": {
    "papermill": {
     "duration": 0.063384,
     "end_time": "2023-02-20T18:21:10.555492",
     "exception": false,
     "start_time": "2023-02-20T18:21:10.492108",
     "status": "completed"
    },
    "tags": []
   },
   "source": [
    "---"
   ]
  },
  {
   "cell_type": "markdown",
   "id": "ddf5afac-0c61-47d8-a0ad-f441a705eb88",
   "metadata": {
    "papermill": {
     "duration": 0.013322,
     "end_time": "2023-02-20T18:21:10.579378",
     "exception": false,
     "start_time": "2023-02-20T18:21:10.566056",
     "status": "completed"
    },
    "tags": []
   },
   "source": [
    "# Data aquisition"
   ]
  },
  {
   "cell_type": "markdown",
   "id": "cc75b862-8058-4db2-9499-446fd0d3042e",
   "metadata": {
    "papermill": {
     "duration": 0.010199,
     "end_time": "2023-02-20T18:21:10.603036",
     "exception": false,
     "start_time": "2023-02-20T18:21:10.592837",
     "status": "completed"
    },
    "tags": []
   },
   "source": [
    "## Fetch online data"
   ]
  },
  {
   "cell_type": "code",
   "execution_count": 2,
   "id": "9df14404-b603-4f17-b66e-5766bed0175b",
   "metadata": {
    "execution": {
     "iopub.execute_input": "2023-02-20T18:21:10.638165Z",
     "iopub.status.busy": "2023-02-20T18:21:10.637018Z",
     "iopub.status.idle": "2023-02-20T18:21:10.644538Z",
     "shell.execute_reply": "2023-02-20T18:21:10.643506Z"
    },
    "papermill": {
     "duration": 0.033484,
     "end_time": "2023-02-20T18:21:10.647716",
     "exception": false,
     "start_time": "2023-02-20T18:21:10.614232",
     "status": "completed"
    },
    "tags": []
   },
   "outputs": [],
   "source": [
    "timestamp = pd.Timestamp.now()"
   ]
  },
  {
   "cell_type": "code",
   "execution_count": 3,
   "id": "e29ba8f9-c3ad-4353-af35-9183e22a314b",
   "metadata": {
    "execution": {
     "iopub.execute_input": "2023-02-20T18:21:10.667276Z",
     "iopub.status.busy": "2023-02-20T18:21:10.666541Z",
     "iopub.status.idle": "2023-02-20T18:21:12.346385Z",
     "shell.execute_reply": "2023-02-20T18:21:12.345333Z"
    },
    "papermill": {
     "duration": 1.691846,
     "end_time": "2023-02-20T18:21:12.348915",
     "exception": false,
     "start_time": "2023-02-20T18:21:10.657069",
     "status": "completed"
    },
    "tags": []
   },
   "outputs": [],
   "source": [
    "bandai_df = fetch_bandai()"
   ]
  },
  {
   "cell_type": "markdown",
   "id": "ae8c018f-312e-4582-b1ab-af7d06e3e9d1",
   "metadata": {
    "papermill": {
     "duration": 0.02844,
     "end_time": "2023-02-20T18:21:12.391778",
     "exception": false,
     "start_time": "2023-02-20T18:21:12.363338",
     "status": "completed"
    },
    "tags": []
   },
   "source": [
    "# Check changes"
   ]
  },
  {
   "cell_type": "markdown",
   "id": "6f3d5394-1deb-4877-8e8c-d3b4c389df86",
   "metadata": {
    "papermill": {
     "duration": 0.007388,
     "end_time": "2023-02-20T18:21:12.406963",
     "exception": false,
     "start_time": "2023-02-20T18:21:12.399575",
     "status": "completed"
    },
    "tags": []
   },
   "source": [
    "## Load previous data"
   ]
  },
  {
   "cell_type": "code",
   "execution_count": 4,
   "id": "b2004432-65fb-4341-bfe5-a04ad2147553",
   "metadata": {
    "execution": {
     "iopub.execute_input": "2023-02-20T18:21:12.424320Z",
     "iopub.status.busy": "2023-02-20T18:21:12.423317Z",
     "iopub.status.idle": "2023-02-20T18:21:12.511605Z",
     "shell.execute_reply": "2023-02-20T18:21:12.510659Z"
    },
    "papermill": {
     "duration": 0.099615,
     "end_time": "2023-02-20T18:21:12.514113",
     "exception": false,
     "start_time": "2023-02-20T18:21:12.414498",
     "status": "completed"
    },
    "tags": []
   },
   "outputs": [
    {
     "name": "stdout",
     "output_type": "stream",
     "text": [
      "File loaded\n"
     ]
    }
   ],
   "source": [
    "# Get list of files\n",
    "files_list = sorted(glob.glob('../data/all_bandai_*.csv'), key=os.path.getctime, reverse=True)\n",
    "# Get second newest file if exist\n",
    "if files_list:\n",
    "    # Load csv avoiding converting \"NA\" to NaN\n",
    "    previous_df = pd.read_csv(files_list[0], dtype=object, keep_default_na=False, na_values=[''])\n",
    "    # Force dtypes to match current df\n",
    "    previous_df = previous_df.astype(bandai_df[previous_df.columns.intersection(bandai_df.columns)].dtypes.to_dict())\n",
    "    previous_ts = pd.to_datetime(os.path.basename(files_list[0]).split('_')[-1].rstrip('.csv'))\n",
    "    print('File loaded')\n",
    "else:\n",
    "    previous_df = None\n",
    "    print('No older files')"
   ]
  },
  {
   "cell_type": "markdown",
   "id": "96111a58-528d-4a95-94dc-2c8772fc8f81",
   "metadata": {
    "papermill": {
     "duration": 0.008204,
     "end_time": "2023-02-20T18:21:12.530310",
     "exception": false,
     "start_time": "2023-02-20T18:21:12.522106",
     "status": "completed"
    },
    "tags": []
   },
   "source": [
    "## Generate changelog"
   ]
  },
  {
   "cell_type": "code",
   "execution_count": 5,
   "id": "2022a407-d6c2-4ff0-8d8f-e8431901d436",
   "metadata": {
    "execution": {
     "iopub.execute_input": "2023-02-20T18:21:12.549787Z",
     "iopub.status.busy": "2023-02-20T18:21:12.549116Z",
     "iopub.status.idle": "2023-02-20T18:21:12.581945Z",
     "shell.execute_reply": "2023-02-20T18:21:12.581056Z"
    },
    "papermill": {
     "duration": 0.046117,
     "end_time": "2023-02-20T18:21:12.584546",
     "exception": false,
     "start_time": "2023-02-20T18:21:12.538429",
     "status": "completed"
    },
    "tags": []
   },
   "outputs": [
    {
     "name": "stdout",
     "output_type": "stream",
     "text": [
      "No changes\n"
     ]
    }
   ],
   "source": [
    "if previous_df is None:\n",
    "    changelog=None\n",
    "    print('Skipped')\n",
    "else:\n",
    "    changelog = generate_changelog(previous_df, bandai_df, col = 'Name')\n",
    "    if not changelog.empty:\n",
    "        display(changelog)\n",
    "        changelog.to_csv(f'../data/bandai_changelog_{timestamp.isoformat(timespec=\"minutes\")}_{previous_ts.isoformat(timespec=\"minutes\")}.csv', index = True)\n",
    "        print('Changelog saved')"
   ]
  },
  {
   "cell_type": "markdown",
   "id": "c50bdfb0-a6d1-43d7-8c96-f9145e053946",
   "metadata": {
    "papermill": {
     "duration": 0.007881,
     "end_time": "2023-02-20T18:21:12.600250",
     "exception": false,
     "start_time": "2023-02-20T18:21:12.592369",
     "status": "completed"
    },
    "tags": []
   },
   "source": [
    "## Save data"
   ]
  },
  {
   "cell_type": "code",
   "execution_count": 6,
   "id": "c3aadd59-2d67-4c2a-81a4-3543bdbeb2f5",
   "metadata": {
    "execution": {
     "iopub.execute_input": "2023-02-20T18:21:12.620703Z",
     "iopub.status.busy": "2023-02-20T18:21:12.619681Z",
     "iopub.status.idle": "2023-02-20T18:21:12.627227Z",
     "shell.execute_reply": "2023-02-20T18:21:12.625999Z"
    },
    "papermill": {
     "duration": 0.019406,
     "end_time": "2023-02-20T18:21:12.629692",
     "exception": false,
     "start_time": "2023-02-20T18:21:12.610286",
     "status": "completed"
    },
    "tags": []
   },
   "outputs": [
    {
     "name": "stdout",
     "output_type": "stream",
     "text": [
      "No changes. New data not saved\n"
     ]
    }
   ],
   "source": [
    "if changelog is not None and changelog.empty:\n",
    "    print('No changes. New data not saved')\n",
    "else:\n",
    "    bandai_df.to_csv(f'../data/all_bandai_{timestamp.isoformat(timespec=\"minutes\")}.csv', index=False)\n",
    "    print('Data saved')"
   ]
  },
  {
   "cell_type": "markdown",
   "id": "c64d414c-93b3-4464-b985-40bf135ddb1a",
   "metadata": {
    "papermill": {
     "duration": 0.00827,
     "end_time": "2023-02-20T18:21:12.646467",
     "exception": false,
     "start_time": "2023-02-20T18:21:12.638197",
     "status": "completed"
    },
    "tags": []
   },
   "source": [
    "# Data visualization"
   ]
  },
  {
   "cell_type": "code",
   "execution_count": 7,
   "id": "ca488153-6f4e-40ac-a4d1-7f7da4259c39",
   "metadata": {
    "execution": {
     "iopub.execute_input": "2023-02-20T18:21:12.664927Z",
     "iopub.status.busy": "2023-02-20T18:21:12.664389Z",
     "iopub.status.idle": "2023-02-20T18:21:12.723511Z",
     "shell.execute_reply": "2023-02-20T18:21:12.722449Z"
    },
    "papermill": {
     "duration": 0.071043,
     "end_time": "2023-02-20T18:21:12.725810",
     "exception": false,
     "start_time": "2023-02-20T18:21:12.654767",
     "status": "completed"
    },
    "tags": []
   },
   "outputs": [
    {
     "data": {
      "text/html": [
       "<div>\n",
       "<style scoped>\n",
       "    .dataframe tbody tr th:only-of-type {\n",
       "        vertical-align: middle;\n",
       "    }\n",
       "\n",
       "    .dataframe tbody tr th {\n",
       "        vertical-align: top;\n",
       "    }\n",
       "\n",
       "    .dataframe thead th {\n",
       "        text-align: right;\n",
       "    }\n",
       "</style>\n",
       "<table border=\"1\" class=\"dataframe\">\n",
       "  <thead>\n",
       "    <tr style=\"text-align: right;\">\n",
       "      <th></th>\n",
       "      <th>Name</th>\n",
       "      <th>Card type</th>\n",
       "      <th>Monster type</th>\n",
       "      <th>DEF</th>\n",
       "      <th>Set</th>\n",
       "      <th>Card number</th>\n",
       "      <th>Ability</th>\n",
       "      <th>Rule</th>\n",
       "      <th>ATK</th>\n",
       "      <th>Level</th>\n",
       "      <th>Page name</th>\n",
       "      <th>Page URL</th>\n",
       "    </tr>\n",
       "  </thead>\n",
       "  <tbody>\n",
       "    <tr>\n",
       "      <th>0</th>\n",
       "      <td>Aphrodite</td>\n",
       "      <td>Monster Card</td>\n",
       "      <td>White Magic</td>\n",
       "      <td>2300</td>\n",
       "      <td>Yu-Gi-Oh! Bandai OCG: 1st Generation</td>\n",
       "      <td>22</td>\n",
       "      <td>NaN</td>\n",
       "      <td>4</td>\n",
       "      <td>1000</td>\n",
       "      <td>5</td>\n",
       "      <td>Aphrodite</td>\n",
       "      <td>https://yugipedia.com/wiki/Aphrodite</td>\n",
       "    </tr>\n",
       "    <tr>\n",
       "      <th>1</th>\n",
       "      <td>Armored Basic Insect with Laser Cannon</td>\n",
       "      <td>Monster Card</td>\n",
       "      <td>Insect</td>\n",
       "      <td>1300</td>\n",
       "      <td>Yu-Gi-Oh! Bandai OCG: 1st Generation</td>\n",
       "      <td>17</td>\n",
       "      <td>NaN</td>\n",
       "      <td>8</td>\n",
       "      <td>2400</td>\n",
       "      <td>6</td>\n",
       "      <td>Armored Basic Insect with Laser Cannon</td>\n",
       "      <td>https://yugipedia.com/wiki/Armored_Basic_Insec...</td>\n",
       "    </tr>\n",
       "    <tr>\n",
       "      <th>2</th>\n",
       "      <td>Armored Lizard</td>\n",
       "      <td>Monster Card</td>\n",
       "      <td>Beast-Warrior</td>\n",
       "      <td>2000</td>\n",
       "      <td>Yu-Gi-Oh! Bandai OCG: 2nd Generation</td>\n",
       "      <td>73</td>\n",
       "      <td>NaN</td>\n",
       "      <td>6</td>\n",
       "      <td>1800</td>\n",
       "      <td>5</td>\n",
       "      <td>Armored Lizard (Bandai)</td>\n",
       "      <td>https://yugipedia.com/wiki/Armored_Lizard_(Ban...</td>\n",
       "    </tr>\n",
       "    <tr>\n",
       "      <th>3</th>\n",
       "      <td>Armored Zombie</td>\n",
       "      <td>Monster Card</td>\n",
       "      <td>Fiend</td>\n",
       "      <td>0</td>\n",
       "      <td>Yu-Gi-Oh! Bandai OCG: 2nd Generation</td>\n",
       "      <td>80</td>\n",
       "      <td>NaN</td>\n",
       "      <td>11</td>\n",
       "      <td>2400</td>\n",
       "      <td>4</td>\n",
       "      <td>Armored Zombie (Bandai)</td>\n",
       "      <td>https://yugipedia.com/wiki/Armored_Zombie_(Ban...</td>\n",
       "    </tr>\n",
       "    <tr>\n",
       "      <th>4</th>\n",
       "      <td>Axe Raider</td>\n",
       "      <td>Monster Card</td>\n",
       "      <td>Warrior</td>\n",
       "      <td>1500</td>\n",
       "      <td>Yu-Gi-Oh! Bandai OCG: 2nd Generation</td>\n",
       "      <td>60</td>\n",
       "      <td>NaN</td>\n",
       "      <td>7</td>\n",
       "      <td>2300</td>\n",
       "      <td>6</td>\n",
       "      <td>Axe Raider (Bandai)</td>\n",
       "      <td>https://yugipedia.com/wiki/Axe_Raider_(Bandai)</td>\n",
       "    </tr>\n",
       "    <tr>\n",
       "      <th>...</th>\n",
       "      <td>...</td>\n",
       "      <td>...</td>\n",
       "      <td>...</td>\n",
       "      <td>...</td>\n",
       "      <td>...</td>\n",
       "      <td>...</td>\n",
       "      <td>...</td>\n",
       "      <td>...</td>\n",
       "      <td>...</td>\n",
       "      <td>...</td>\n",
       "      <td>...</td>\n",
       "      <td>...</td>\n",
       "    </tr>\n",
       "    <tr>\n",
       "      <th>115</th>\n",
       "      <td>The Wicked Worm Beast</td>\n",
       "      <td>Monster Card</td>\n",
       "      <td>Fiend</td>\n",
       "      <td>600</td>\n",
       "      <td>Yu-Gi-Oh! Bandai OCG: 3rd Generation</td>\n",
       "      <td>94</td>\n",
       "      <td>NaN</td>\n",
       "      <td>5</td>\n",
       "      <td>2400</td>\n",
       "      <td>5</td>\n",
       "      <td>The Wicked Worm Beast (Bandai)</td>\n",
       "      <td>https://yugipedia.com/wiki/The_Wicked_Worm_Bea...</td>\n",
       "    </tr>\n",
       "    <tr>\n",
       "      <th>116</th>\n",
       "      <td>Winged Dragon, Guardian of the Fortress #1</td>\n",
       "      <td>Monster Card</td>\n",
       "      <td>Dragon</td>\n",
       "      <td>1600</td>\n",
       "      <td>Yu-Gi-Oh! Bandai OCG: 1st Generation</td>\n",
       "      <td>23</td>\n",
       "      <td>NaN</td>\n",
       "      <td>5</td>\n",
       "      <td>1700</td>\n",
       "      <td>4</td>\n",
       "      <td>Winged Dragon, Guardian of the Fortress 1 (Ban...</td>\n",
       "      <td>https://yugipedia.com/wiki/Winged_Dragon,_Guar...</td>\n",
       "    </tr>\n",
       "    <tr>\n",
       "      <th>117</th>\n",
       "      <td>Yellow Hecate</td>\n",
       "      <td>Monster Card</td>\n",
       "      <td>Black Magic</td>\n",
       "      <td>1500</td>\n",
       "      <td>Yu-Gi-Oh! Bandai OCG: 3rd Generation</td>\n",
       "      <td>98</td>\n",
       "      <td>NaN</td>\n",
       "      <td>NaN</td>\n",
       "      <td>1500</td>\n",
       "      <td>4</td>\n",
       "      <td>Yellow Hecate</td>\n",
       "      <td>https://yugipedia.com/wiki/Yellow_Hecate</td>\n",
       "    </tr>\n",
       "    <tr>\n",
       "      <th>118</th>\n",
       "      <td>Yugi Muto</td>\n",
       "      <td>Character Card</td>\n",
       "      <td>NaN</td>\n",
       "      <td>NaN</td>\n",
       "      <td>Yu-Gi-Oh! Bandai OCG: 1st Generation</td>\n",
       "      <td>1</td>\n",
       "      <td>Look Ahead</td>\n",
       "      <td>1</td>\n",
       "      <td>NaN</td>\n",
       "      <td>6</td>\n",
       "      <td>Yugi Muto (Bandai)</td>\n",
       "      <td>https://yugipedia.com/wiki/Yugi_Muto_(Bandai)</td>\n",
       "    </tr>\n",
       "    <tr>\n",
       "      <th>119</th>\n",
       "      <td>Yugi Muto</td>\n",
       "      <td>Character Card</td>\n",
       "      <td>NaN</td>\n",
       "      <td>NaN</td>\n",
       "      <td>Yu-Gi-Oh! Bandai OCG: 1st Generation</td>\n",
       "      <td>2</td>\n",
       "      <td>Shadow Game</td>\n",
       "      <td>2</td>\n",
       "      <td>NaN</td>\n",
       "      <td>8</td>\n",
       "      <td>Yugi Muto (Yami Bandai)</td>\n",
       "      <td>https://yugipedia.com/wiki/Yugi_Muto_(Yami_Ban...</td>\n",
       "    </tr>\n",
       "  </tbody>\n",
       "</table>\n",
       "<p>120 rows × 12 columns</p>\n",
       "</div>"
      ],
      "text/plain": [
       "                                           Name       Card type  \\\n",
       "0                                     Aphrodite    Monster Card   \n",
       "1        Armored Basic Insect with Laser Cannon    Monster Card   \n",
       "2                                Armored Lizard    Monster Card   \n",
       "3                                Armored Zombie    Monster Card   \n",
       "4                                    Axe Raider    Monster Card   \n",
       "..                                          ...             ...   \n",
       "115                       The Wicked Worm Beast    Monster Card   \n",
       "116  Winged Dragon, Guardian of the Fortress #1    Monster Card   \n",
       "117                               Yellow Hecate    Monster Card   \n",
       "118                                   Yugi Muto  Character Card   \n",
       "119                                   Yugi Muto  Character Card   \n",
       "\n",
       "      Monster type   DEF                                   Set Card number  \\\n",
       "0      White Magic  2300  Yu-Gi-Oh! Bandai OCG: 1st Generation          22   \n",
       "1           Insect  1300  Yu-Gi-Oh! Bandai OCG: 1st Generation          17   \n",
       "2    Beast-Warrior  2000  Yu-Gi-Oh! Bandai OCG: 2nd Generation          73   \n",
       "3            Fiend     0  Yu-Gi-Oh! Bandai OCG: 2nd Generation          80   \n",
       "4          Warrior  1500  Yu-Gi-Oh! Bandai OCG: 2nd Generation          60   \n",
       "..             ...   ...                                   ...         ...   \n",
       "115          Fiend   600  Yu-Gi-Oh! Bandai OCG: 3rd Generation          94   \n",
       "116         Dragon  1600  Yu-Gi-Oh! Bandai OCG: 1st Generation          23   \n",
       "117    Black Magic  1500  Yu-Gi-Oh! Bandai OCG: 3rd Generation          98   \n",
       "118            NaN   NaN  Yu-Gi-Oh! Bandai OCG: 1st Generation           1   \n",
       "119            NaN   NaN  Yu-Gi-Oh! Bandai OCG: 1st Generation           2   \n",
       "\n",
       "         Ability Rule   ATK Level  \\\n",
       "0            NaN    4  1000     5   \n",
       "1            NaN    8  2400     6   \n",
       "2            NaN    6  1800     5   \n",
       "3            NaN   11  2400     4   \n",
       "4            NaN    7  2300     6   \n",
       "..           ...  ...   ...   ...   \n",
       "115          NaN    5  2400     5   \n",
       "116          NaN    5  1700     4   \n",
       "117          NaN  NaN  1500     4   \n",
       "118   Look Ahead    1   NaN     6   \n",
       "119  Shadow Game    2   NaN     8   \n",
       "\n",
       "                                             Page name  \\\n",
       "0                                            Aphrodite   \n",
       "1               Armored Basic Insect with Laser Cannon   \n",
       "2                              Armored Lizard (Bandai)   \n",
       "3                              Armored Zombie (Bandai)   \n",
       "4                                  Axe Raider (Bandai)   \n",
       "..                                                 ...   \n",
       "115                     The Wicked Worm Beast (Bandai)   \n",
       "116  Winged Dragon, Guardian of the Fortress 1 (Ban...   \n",
       "117                                      Yellow Hecate   \n",
       "118                                 Yugi Muto (Bandai)   \n",
       "119                            Yugi Muto (Yami Bandai)   \n",
       "\n",
       "                                              Page URL  \n",
       "0                 https://yugipedia.com/wiki/Aphrodite  \n",
       "1    https://yugipedia.com/wiki/Armored_Basic_Insec...  \n",
       "2    https://yugipedia.com/wiki/Armored_Lizard_(Ban...  \n",
       "3    https://yugipedia.com/wiki/Armored_Zombie_(Ban...  \n",
       "4       https://yugipedia.com/wiki/Axe_Raider_(Bandai)  \n",
       "..                                                 ...  \n",
       "115  https://yugipedia.com/wiki/The_Wicked_Worm_Bea...  \n",
       "116  https://yugipedia.com/wiki/Winged_Dragon,_Guar...  \n",
       "117           https://yugipedia.com/wiki/Yellow_Hecate  \n",
       "118      https://yugipedia.com/wiki/Yugi_Muto_(Bandai)  \n",
       "119  https://yugipedia.com/wiki/Yugi_Muto_(Yami_Ban...  \n",
       "\n",
       "[120 rows x 12 columns]"
      ]
     },
     "execution_count": 7,
     "metadata": {},
     "output_type": "execute_result"
    }
   ],
   "source": [
    "bandai_df"
   ]
  },
  {
   "cell_type": "markdown",
   "id": "1b6f5f73-c9cd-483c-96da-54174938da5a",
   "metadata": {
    "papermill": {
     "duration": 0.008149,
     "end_time": "2023-02-20T18:21:12.742456",
     "exception": false,
     "start_time": "2023-02-20T18:21:12.734307",
     "status": "completed"
    },
    "tags": []
   },
   "source": [
    "# Epilogue"
   ]
  },
  {
   "cell_type": "code",
   "execution_count": 8,
   "id": "9ebe9200-4e74-4db0-8f10-d7b258b9ef7c",
   "metadata": {
    "execution": {
     "iopub.execute_input": "2023-02-20T18:21:12.762258Z",
     "iopub.status.busy": "2023-02-20T18:21:12.761306Z",
     "iopub.status.idle": "2023-02-20T18:21:12.772710Z",
     "shell.execute_reply": "2023-02-20T18:21:12.771767Z"
    },
    "papermill": {
     "duration": 0.024126,
     "end_time": "2023-02-20T18:21:12.775248",
     "exception": false,
     "start_time": "2023-02-20T18:21:12.751122",
     "status": "completed"
    },
    "tags": []
   },
   "outputs": [],
   "source": [
    "benchmark('bandai',timestamp)"
   ]
  },
  {
   "cell_type": "code",
   "execution_count": 9,
   "id": "eae8bd03-02f4-486d-9ae0-ddc7227985f2",
   "metadata": {
    "execution": {
     "iopub.execute_input": "2023-02-20T18:21:12.794481Z",
     "iopub.status.busy": "2023-02-20T18:21:12.793566Z",
     "iopub.status.idle": "2023-02-20T18:21:12.800635Z",
     "shell.execute_reply": "2023-02-20T18:21:12.799561Z"
    },
    "papermill": {
     "duration": 0.019131,
     "end_time": "2023-02-20T18:21:12.803000",
     "exception": false,
     "start_time": "2023-02-20T18:21:12.783869",
     "status": "completed"
    },
    "tags": []
   },
   "outputs": [
    {
     "data": {
      "text/markdown": [
       "<div align='right'>\n",
       "    Execution completed 20/02/2023 18:21 UTC\n",
       "</div>"
      ],
      "text/plain": [
       "<IPython.core.display.Markdown object>"
      ]
     },
     "execution_count": 9,
     "metadata": {},
     "output_type": "execute_result"
    }
   ],
   "source": [
    "footer()"
   ]
  },
  {
   "cell_type": "markdown",
   "id": "f8ddd2ba-01d3-4b5d-901a-62ea4f793309",
   "metadata": {
    "papermill": {
     "duration": 0.008608,
     "end_time": "2023-02-20T18:21:12.820494",
     "exception": false,
     "start_time": "2023-02-20T18:21:12.811886",
     "status": "completed"
    },
    "tags": []
   },
   "source": [
    "## HTML export"
   ]
  },
  {
   "cell_type": "code",
   "execution_count": 10,
   "id": "1f2182a7-7cc8-4959-8af5-ba7ea26439a7",
   "metadata": {
    "execution": {
     "iopub.execute_input": "2023-02-20T18:21:12.839822Z",
     "iopub.status.busy": "2023-02-20T18:21:12.838972Z",
     "iopub.status.idle": "2023-02-20T18:21:12.848184Z",
     "shell.execute_reply": "2023-02-20T18:21:12.847279Z"
    },
    "papermill": {
     "duration": 0.024079,
     "end_time": "2023-02-20T18:21:12.853140",
     "exception": false,
     "start_time": "2023-02-20T18:21:12.829061",
     "status": "completed"
    },
    "tags": []
   },
   "outputs": [
    {
     "name": "stdout",
     "output_type": "stream",
     "text": [
      "Notebook saved to disk\n"
     ]
    }
   ],
   "source": [
    "# Save notebook on disck before generating HTML report\n",
    "save_notebook()"
   ]
  },
  {
   "cell_type": "code",
   "execution_count": 11,
   "id": "d7137575-20bb-4fb2-b32e-0d9de2d1cba7",
   "metadata": {
    "execution": {
     "iopub.execute_input": "2023-02-20T18:21:12.873918Z",
     "iopub.status.busy": "2023-02-20T18:21:12.872981Z",
     "iopub.status.idle": "2023-02-20T18:21:18.458384Z",
     "shell.execute_reply": "2023-02-20T18:21:18.456828Z"
    },
    "papermill": {
     "duration": 5.598762,
     "end_time": "2023-02-20T18:21:18.461124",
     "exception": false,
     "start_time": "2023-02-20T18:21:12.862362",
     "status": "completed"
    },
    "tags": []
   },
   "outputs": [
    {
     "name": "stdout",
     "output_type": "stream",
     "text": [
      "WARNING: Insecure writes have been enabled via environment variable 'JUPYTER_ALLOW_INSECURE_WRITES'! If this is not intended, remove the variable or set its value to 'False'.\r\n"
     ]
    },
    {
     "name": "stdout",
     "output_type": "stream",
     "text": [
      "[NbConvertApp] Converting notebook Bandai.ipynb to HTML\r\n"
     ]
    },
    {
     "name": "stdout",
     "output_type": "stream",
     "text": [
      "[NbConvertApp] Writing 590112 bytes to ../Bandai.html\r\n"
     ]
    }
   ],
   "source": [
    "! jupyter nbconvert Bandai.ipynb --output-dir='../' --to=HTML --TagRemovePreprocessor.enabled=True --TagRemovePreprocessor.remove_cell_tags='exclude' --TemplateExporter.exclude_input=True --TemplateExporter.exclude_input_prompt=True --TemplateExporter.exclude_output_prompt=True"
   ]
  },
  {
   "cell_type": "markdown",
   "id": "a28db6c7-1f12-497c-adc6-660f199e3369",
   "metadata": {
    "papermill": {
     "duration": 0.037688,
     "end_time": "2023-02-20T18:21:18.512608",
     "exception": false,
     "start_time": "2023-02-20T18:21:18.474920",
     "status": "completed"
    },
    "tags": [
     "exclude"
    ]
   },
   "source": [
    "## Git"
   ]
  },
  {
   "cell_type": "code",
   "execution_count": null,
   "id": "0883fa53-b0b8-4ce2-ac96-559df31c9c58",
   "metadata": {
    "execution": {
     "iopub.execute_input": "2023-02-20T16:24:48.256010Z",
     "iopub.status.busy": "2023-02-20T16:24:48.255419Z",
     "iopub.status.idle": "2023-02-20T16:24:48.867332Z",
     "shell.execute_reply": "2023-02-20T16:24:48.865372Z"
    },
    "papermill": {
     "duration": null,
     "end_time": null,
     "exception": false,
     "start_time": "2023-02-20T18:21:18.522187",
     "status": "running"
    },
    "tags": [
     "exclude"
    ]
   },
   "outputs": [],
   "source": [
    "! git add \"../*[Bb]andai*\""
   ]
  },
  {
   "cell_type": "code",
   "execution_count": null,
   "id": "3322a6a5-a048-42f3-a1ac-3124c0353599",
   "metadata": {
    "execution": {
     "iopub.execute_input": "2023-02-20T16:24:48.889975Z",
     "iopub.status.busy": "2023-02-20T16:24:48.888860Z",
     "iopub.status.idle": "2023-02-20T16:24:49.859359Z",
     "shell.execute_reply": "2023-02-20T16:24:49.857747Z"
    },
    "papermill": {
     "duration": null,
     "end_time": null,
     "exception": null,
     "start_time": null,
     "status": "pending"
    },
    "tags": [
     "exclude"
    ]
   },
   "outputs": [],
   "source": [
    "! git commit -m {\"'Bandai update-\" + timestamp.isoformat() + \"'\"}"
   ]
  }
 ],
 "metadata": {
  "kernelspec": {
   "display_name": "Python 3 (ipykernel)",
   "language": "python",
   "name": "python3"
  },
  "language_info": {
   "codemirror_mode": {
    "name": "ipython",
    "version": 3
   },
   "file_extension": ".py",
   "mimetype": "text/x-python",
   "name": "python",
   "nbconvert_exporter": "python",
   "pygments_lexer": "ipython3",
   "version": "3.10.8"
  },
  "papermill": {
   "default_parameters": {},
   "duration": null,
   "end_time": null,
   "environment_variables": {},
   "exception": null,
   "input_path": "Bandai.ipynb",
   "output_path": "Bandai.ipynb",
   "parameters": {},
   "start_time": "2023-02-20T18:20:54.502718",
   "version": "2.4.0"
  },
  "widgets": {
   "application/vnd.jupyter.widget-state+json": {
    "state": {
     "15057bb3b6844900a928093391bc171d": {
      "model_module": "ipylab",
      "model_module_version": "^0.6.0",
      "model_name": "SessionManagerModel",
      "state": {
       "_model_module": "ipylab",
       "_model_module_version": "^0.6.0",
       "_model_name": "SessionManagerModel",
       "_view_count": null,
       "_view_module": null,
       "_view_module_version": "",
       "_view_name": null,
       "current_session": {},
       "sessions": []
      }
     },
     "2b82e03e13ad4d7fa83aff8569ecff06": {
      "model_module": "ipylab",
      "model_module_version": "^0.6.0",
      "model_name": "CommandRegistryModel",
      "state": {
       "_command_list": [],
       "_commands": [],
       "_model_module": "ipylab",
       "_model_module_version": "^0.6.0",
       "_model_name": "CommandRegistryModel",
       "_view_count": null,
       "_view_module": null,
       "_view_module_version": "",
       "_view_name": null
      }
     },
     "6ad36688f7614c2f9c51ec1522142fc1": {
      "model_module": "ipylab",
      "model_module_version": "^0.6.0",
      "model_name": "ShellModel",
      "state": {
       "_model_module": "ipylab",
       "_model_module_version": "^0.6.0",
       "_model_name": "ShellModel",
       "_view_count": null,
       "_view_module": null,
       "_view_module_version": "",
       "_view_name": null,
       "_widgets": []
      }
     },
     "a06fc4ab47e94bdc952602f00f2435ac": {
      "model_module": "ipylab",
      "model_module_version": "^0.6.0",
      "model_name": "JupyterFrontEndModel",
      "state": {
       "_model_module": "ipylab",
       "_model_module_version": "^0.6.0",
       "_model_name": "JupyterFrontEndModel",
       "_view_count": null,
       "_view_module": null,
       "_view_module_version": "",
       "_view_name": null,
       "commands": "IPY_MODEL_2b82e03e13ad4d7fa83aff8569ecff06",
       "sessions": "IPY_MODEL_15057bb3b6844900a928093391bc171d",
       "shell": "IPY_MODEL_6ad36688f7614c2f9c51ec1522142fc1",
       "version": ""
      }
     }
    },
    "version_major": 2,
    "version_minor": 0
   }
  }
 },
 "nbformat": 4,
 "nbformat_minor": 5
}