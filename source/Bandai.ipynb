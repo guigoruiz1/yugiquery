{
 "cells": [
  {
   "cell_type": "code",
   "execution_count": null,
   "id": "9903a324-2402-461a-b8b3-9dec09caceb4",
   "metadata": {
    "papermill": {
     "duration": 2.308182,
     "end_time": "2023-02-22T20:17:14.510895",
     "exception": false,
     "start_time": "2023-02-22T20:17:12.202713",
     "status": "completed"
    },
    "tags": []
   },
   "outputs": [],
   "source": [
    "from yugiquery import *\n",
    "header('Bandai')"
   ]
  },
  {
   "cell_type": "markdown",
   "id": "9445cada-ce7a-4d46-a3e8-742439319435",
   "metadata": {
    "papermill": {
     "duration": 0.009739,
     "end_time": "2023-02-22T20:17:14.536967",
     "exception": false,
     "start_time": "2023-02-22T20:17:14.527228",
     "status": "completed"
    },
    "tags": []
   },
   "source": [
    "---"
   ]
  },
  {
   "cell_type": "markdown",
   "id": "ddf5afac-0c61-47d8-a0ad-f441a705eb88",
   "metadata": {
    "papermill": {
     "duration": 0.010395,
     "end_time": "2023-02-22T20:17:14.557966",
     "exception": false,
     "start_time": "2023-02-22T20:17:14.547571",
     "status": "completed"
    },
    "tags": []
   },
   "source": [
    "# Data aquisition"
   ]
  },
  {
   "cell_type": "markdown",
   "id": "cc75b862-8058-4db2-9499-446fd0d3042e",
   "metadata": {
    "papermill": {
     "duration": 0.009794,
     "end_time": "2023-02-22T20:17:14.578182",
     "exception": false,
     "start_time": "2023-02-22T20:17:14.568388",
     "status": "completed"
    },
    "tags": []
   },
   "source": [
    "## Fetch online data"
   ]
  },
  {
   "cell_type": "code",
   "execution_count": null,
   "id": "9df14404-b603-4f17-b66e-5766bed0175b",
   "metadata": {
    "papermill": {
     "duration": 0.020017,
     "end_time": "2023-02-22T20:17:14.608243",
     "exception": false,
     "start_time": "2023-02-22T20:17:14.588226",
     "status": "completed"
    },
    "tags": []
   },
   "outputs": [],
   "source": [
    "timestamp = pd.Timestamp.now()"
   ]
  },
  {
   "cell_type": "code",
   "execution_count": null,
   "id": "e29ba8f9-c3ad-4353-af35-9183e22a314b",
   "metadata": {
    "papermill": {
     "duration": 0.86698,
     "end_time": "2023-02-22T20:17:15.485518",
     "exception": false,
     "start_time": "2023-02-22T20:17:14.618538",
     "status": "completed"
    },
    "tags": []
   },
   "outputs": [],
   "source": [
    "bandai_df = fetch_bandai()"
   ]
  },
  {
   "cell_type": "markdown",
   "id": "ae8c018f-312e-4582-b1ab-af7d06e3e9d1",
   "metadata": {
    "papermill": {
     "duration": 0.093185,
     "end_time": "2023-02-22T20:17:15.589774",
     "exception": false,
     "start_time": "2023-02-22T20:17:15.496589",
     "status": "completed"
    },
    "tags": []
   },
   "source": [
    "# Check changes"
   ]
  },
  {
   "cell_type": "markdown",
   "id": "6f3d5394-1deb-4877-8e8c-d3b4c389df86",
   "metadata": {
    "papermill": {
     "duration": 0.009966,
     "end_time": "2023-02-22T20:17:15.610687",
     "exception": false,
     "start_time": "2023-02-22T20:17:15.600721",
     "status": "completed"
    },
    "tags": []
   },
   "source": [
    "## Load previous data"
   ]
  },
  {
   "cell_type": "code",
   "execution_count": null,
   "id": "b2004432-65fb-4341-bfe5-a04ad2147553",
   "metadata": {
    "papermill": {
     "duration": 0.10473,
     "end_time": "2023-02-22T20:17:15.726150",
     "exception": false,
     "start_time": "2023-02-22T20:17:15.621420",
     "status": "completed"
    },
    "tags": []
   },
   "outputs": [],
   "source": [
    "# Get list of files\n",
    "files_list = sorted(glob.glob('../data/all_bandai_*.csv'), key=os.path.getctime, reverse=True)\n",
    "# Get second newest file if exist\n",
    "if files_list:\n",
    "    # Load csv avoiding converting \"NA\" to NaN\n",
    "    previous_df = pd.read_csv(files_list[0], dtype=object, keep_default_na=False, na_values=[''])\n",
    "    # Force dtypes to match current df\n",
    "    previous_df = previous_df.astype(bandai_df[previous_df.columns.intersection(bandai_df.columns)].dtypes.to_dict())\n",
    "    previous_ts = pd.to_datetime(os.path.basename(files_list[0]).split('_')[-1].rstrip('.csv'))\n",
    "    print('File loaded')\n",
    "else:\n",
    "    previous_df = None\n",
    "    print('No older files')"
   ]
  },
  {
   "cell_type": "markdown",
   "id": "96111a58-528d-4a95-94dc-2c8772fc8f81",
   "metadata": {
    "papermill": {
     "duration": 0.01023,
     "end_time": "2023-02-22T20:17:15.747305",
     "exception": false,
     "start_time": "2023-02-22T20:17:15.737075",
     "status": "completed"
    },
    "tags": []
   },
   "source": [
    "## Generate changelog"
   ]
  },
  {
   "cell_type": "code",
   "execution_count": null,
   "id": "2022a407-d6c2-4ff0-8d8f-e8431901d436",
   "metadata": {
    "papermill": {
     "duration": 0.061588,
     "end_time": "2023-02-22T20:17:15.819236",
     "exception": false,
     "start_time": "2023-02-22T20:17:15.757648",
     "status": "completed"
    },
    "tags": []
   },
   "outputs": [],
   "source": [
    "if previous_df is None:\n",
    "    changelog=None\n",
    "    print('Skipped')\n",
    "else:\n",
    "    changelog = generate_changelog(previous_df, bandai_df, col = 'Name')\n",
    "    if not changelog.empty:\n",
    "        display(changelog)\n",
    "        changelog.to_csv(f'../data/bandai_changelog_{timestamp.isoformat(timespec=\"minutes\")}_{previous_ts.isoformat(timespec=\"minutes\")}.csv', index = True)\n",
    "        print('Changelog saved')"
   ]
  },
  {
   "cell_type": "markdown",
   "id": "c50bdfb0-a6d1-43d7-8c96-f9145e053946",
   "metadata": {
    "papermill": {
     "duration": 0.010133,
     "end_time": "2023-02-22T20:17:15.840109",
     "exception": false,
     "start_time": "2023-02-22T20:17:15.829976",
     "status": "completed"
    },
    "tags": []
   },
   "source": [
    "## Save data"
   ]
  },
  {
   "cell_type": "code",
   "execution_count": null,
   "id": "c3aadd59-2d67-4c2a-81a4-3543bdbeb2f5",
   "metadata": {
    "papermill": {
     "duration": 0.01977,
     "end_time": "2023-02-22T20:17:15.870715",
     "exception": false,
     "start_time": "2023-02-22T20:17:15.850945",
     "status": "completed"
    },
    "tags": []
   },
   "outputs": [],
   "source": [
    "if changelog is not None and changelog.empty:\n",
    "    print('No changes. New data not saved')\n",
    "else:\n",
    "    bandai_df.to_csv(f'../data/all_bandai_{timestamp.isoformat(timespec=\"minutes\")}.csv', index=False)\n",
    "    print('Data saved')"
   ]
  },
  {
   "cell_type": "markdown",
   "id": "c64d414c-93b3-4464-b985-40bf135ddb1a",
   "metadata": {
    "papermill": {
     "duration": 0.010671,
     "end_time": "2023-02-22T20:17:15.892379",
     "exception": false,
     "start_time": "2023-02-22T20:17:15.881708",
     "status": "completed"
    },
    "tags": []
   },
   "source": [
    "# Data visualization"
   ]
  },
  {
   "cell_type": "code",
   "execution_count": null,
   "id": "56b6402a-ade8-44fc-9e6d-c46b54e6bd6f",
   "metadata": {
    "papermill": {
     "duration": 0.058145,
     "end_time": "2023-02-22T20:17:15.961077",
     "exception": false,
     "start_time": "2023-02-22T20:17:15.902932",
     "status": "completed"
    },
    "tags": []
   },
   "outputs": [],
   "source": [
    "bandai_df"
   ]
  },
  {
   "cell_type": "markdown",
   "id": "f31c671e-6e38-4f7c-b2e2-40a434e444d1",
   "metadata": {
    "papermill": {
     "duration": 0.011007,
     "end_time": "2023-02-22T20:17:15.983981",
     "exception": false,
     "start_time": "2023-02-22T20:17:15.972974",
     "status": "completed"
    },
    "tags": []
   },
   "source": [
    "## Card type"
   ]
  },
  {
   "cell_type": "code",
   "execution_count": null,
   "id": "20ef81f9-2614-4151-b599-ba802a7b4530",
   "metadata": {
    "papermill": {
     "duration": 0.022271,
     "end_time": "2023-02-22T20:17:16.017523",
     "exception": false,
     "start_time": "2023-02-22T20:17:15.995252",
     "status": "completed"
    },
    "tags": []
   },
   "outputs": [],
   "source": [
    "bandai_df['Card type'].nunique()"
   ]
  },
  {
   "cell_type": "markdown",
   "id": "00c6b243-67ad-42c5-9189-4d2d33c5372c",
   "metadata": {
    "papermill": {
     "duration": 0.013025,
     "end_time": "2023-02-22T20:17:16.046431",
     "exception": false,
     "start_time": "2023-02-22T20:17:16.033406",
     "status": "completed"
    },
    "tags": []
   },
   "source": [
    "## ATK"
   ]
  },
  {
   "cell_type": "code",
   "execution_count": null,
   "id": "ee21be78-369b-4022-9d9b-2cfc4dee5724",
   "metadata": {
    "papermill": {
     "duration": 0.038622,
     "end_time": "2023-02-22T20:17:16.096709",
     "exception": false,
     "start_time": "2023-02-22T20:17:16.058087",
     "status": "completed"
    },
    "tags": []
   },
   "outputs": [],
   "source": [
    "bandai_df['ATK'].value_counts()"
   ]
  },
  {
   "cell_type": "code",
   "execution_count": null,
   "id": "418c7a17-237f-4390-82d9-a37130bea190",
   "metadata": {
    "papermill": {
     "duration": 0.024731,
     "end_time": "2023-02-22T20:17:16.134361",
     "exception": false,
     "start_time": "2023-02-22T20:17:16.109630",
     "status": "completed"
    },
    "tags": []
   },
   "outputs": [],
   "source": [
    "bandai_df['ATK'].value_counts()"
   ]
  },
  {
   "cell_type": "markdown",
   "id": "f3a64016-d755-44e4-af52-7b26e2069e3f",
   "metadata": {
    "papermill": {
     "duration": 0.011566,
     "end_time": "2023-02-22T20:17:16.157967",
     "exception": false,
     "start_time": "2023-02-22T20:17:16.146401",
     "status": "completed"
    },
    "tags": []
   },
   "source": [
    "## DEF"
   ]
  },
  {
   "cell_type": "code",
   "execution_count": null,
   "id": "8e74d069-81b3-4ead-a7f6-57c220dd77e6",
   "metadata": {
    "papermill": {
     "duration": 0.025047,
     "end_time": "2023-02-22T20:17:16.194937",
     "exception": false,
     "start_time": "2023-02-22T20:17:16.169890",
     "status": "completed"
    },
    "tags": []
   },
   "outputs": [],
   "source": [
    "bandai_df['DEF'].value_counts()"
   ]
  },
  {
   "cell_type": "code",
   "execution_count": null,
   "id": "8ceca51c-07fe-4285-ac5a-6f8c35cde7bd",
   "metadata": {
    "papermill": {
     "duration": 0.025905,
     "end_time": "2023-02-22T20:17:16.233221",
     "exception": false,
     "start_time": "2023-02-22T20:17:16.207316",
     "status": "completed"
    },
    "tags": []
   },
   "outputs": [],
   "source": [
    "bandai_df['DEF'].value_counts()"
   ]
  },
  {
   "cell_type": "code",
   "execution_count": null,
   "id": "d0886dbe-4bf9-4f27-9438-7f6098c1cf25",
   "metadata": {
    "papermill": {
     "duration": 0.078083,
     "end_time": "2023-02-22T20:17:16.325992",
     "exception": false,
     "start_time": "2023-02-22T20:17:16.247909",
     "status": "completed"
    },
    "tags": []
   },
   "outputs": [],
   "source": [
    "pd.crosstab(bandai_df['DEF'],bandai_df['ATK'])"
   ]
  },
  {
   "cell_type": "code",
   "execution_count": null,
   "id": "5b7e2e2a-6ade-4ace-8b10-d0a26fdd0d44",
   "metadata": {
    "papermill": {
     "duration": 0.0272,
     "end_time": "2023-02-22T20:17:16.367065",
     "exception": false,
     "start_time": "2023-02-22T20:17:16.339865",
     "status": "completed"
    },
    "tags": []
   },
   "outputs": [],
   "source": [
    "pd.to_numeric(bandai_df['ATK'].dropna(), errors = 'ignore').astype(int)"
   ]
  },
  {
   "cell_type": "markdown",
   "id": "02b9970b-696d-4ef0-b01d-0385e6c53575",
   "metadata": {
    "papermill": {
     "duration": 0.013664,
     "end_time": "2023-02-22T20:17:16.395220",
     "exception": false,
     "start_time": "2023-02-22T20:17:16.381556",
     "status": "completed"
    },
    "tags": []
   },
   "source": [
    "## Level"
   ]
  },
  {
   "cell_type": "code",
   "execution_count": null,
   "id": "96b94d81-b347-4b6d-bab9-263abee67b3b",
   "metadata": {
    "papermill": {
     "duration": 0.024925,
     "end_time": "2023-02-22T20:17:16.434418",
     "exception": false,
     "start_time": "2023-02-22T20:17:16.409493",
     "status": "completed"
    },
    "tags": []
   },
   "outputs": [],
   "source": [
    "bandai_df['Level'].nunique()"
   ]
  },
  {
   "cell_type": "code",
   "execution_count": null,
   "id": "305a6171-165e-4cd1-93d1-65917275ccb6",
   "metadata": {
    "papermill": {
     "duration": 0.027635,
     "end_time": "2023-02-22T20:17:16.476161",
     "exception": false,
     "start_time": "2023-02-22T20:17:16.448526",
     "status": "completed"
    },
    "tags": []
   },
   "outputs": [],
   "source": [
    "bandai_df['Level'].value_counts()"
   ]
  },
  {
   "cell_type": "markdown",
   "id": "3c277a51-155c-45af-af9c-12f51a97c224",
   "metadata": {
    "papermill": {
     "duration": 0.014019,
     "end_time": "2023-02-22T20:17:16.504620",
     "exception": false,
     "start_time": "2023-02-22T20:17:16.490601",
     "status": "completed"
    },
    "tags": []
   },
   "source": [
    "### By ATK"
   ]
  },
  {
   "cell_type": "code",
   "execution_count": null,
   "id": "ac7899b5-2278-46dd-9ff2-bb2cbdccf2c6",
   "metadata": {
    "papermill": {
     "duration": 0.103261,
     "end_time": "2023-02-22T20:17:16.622490",
     "exception": false,
     "start_time": "2023-02-22T20:17:16.519229",
     "status": "completed"
    },
    "tags": []
   },
   "outputs": [],
   "source": [
    "pd.crosstab(bandai_df['Level'],bandai_df['ATK'])"
   ]
  },
  {
   "cell_type": "markdown",
   "id": "f432342f-5730-48c9-bb6a-fca71cbc9a20",
   "metadata": {
    "papermill": {
     "duration": 0.035633,
     "end_time": "2023-02-22T20:17:16.674305",
     "exception": false,
     "start_time": "2023-02-22T20:17:16.638672",
     "status": "completed"
    },
    "tags": []
   },
   "source": [
    "### By DEF"
   ]
  },
  {
   "cell_type": "code",
   "execution_count": null,
   "id": "52ebe50e-ff8a-45c7-a88f-cd27834fe1e8",
   "metadata": {
    "papermill": {
     "duration": 0.060238,
     "end_time": "2023-02-22T20:17:16.749800",
     "exception": false,
     "start_time": "2023-02-22T20:17:16.689562",
     "status": "completed"
    },
    "tags": []
   },
   "outputs": [],
   "source": [
    "pd.crosstab(bandai_df['Level'],bandai_df['DEF'])"
   ]
  },
  {
   "cell_type": "markdown",
   "id": "f8a1f602-3981-413c-bc35-dadb1da03979",
   "metadata": {
    "papermill": {
     "duration": 0.015492,
     "end_time": "2023-02-22T20:17:16.781242",
     "exception": false,
     "start_time": "2023-02-22T20:17:16.765750",
     "status": "completed"
    },
    "tags": []
   },
   "source": [
    "## Monster type"
   ]
  },
  {
   "cell_type": "code",
   "execution_count": null,
   "id": "e71d220b-0843-40dc-b0e0-4bf57bf6aef2",
   "metadata": {
    "papermill": {
     "duration": 0.026436,
     "end_time": "2023-02-22T20:17:16.823237",
     "exception": false,
     "start_time": "2023-02-22T20:17:16.796801",
     "status": "completed"
    },
    "tags": []
   },
   "outputs": [],
   "source": [
    "bandai_df['Monster type'].nunique()"
   ]
  },
  {
   "cell_type": "code",
   "execution_count": null,
   "id": "4442a4b2-f82e-4624-947f-48e3e0e90763",
   "metadata": {
    "papermill": {
     "duration": 0.028478,
     "end_time": "2023-02-22T20:17:16.867488",
     "exception": false,
     "start_time": "2023-02-22T20:17:16.839010",
     "status": "completed"
    },
    "tags": []
   },
   "outputs": [],
   "source": [
    "bandai_df['Monster type'].value_counts()"
   ]
  },
  {
   "cell_type": "markdown",
   "id": "1b6f5f73-c9cd-483c-96da-54174938da5a",
   "metadata": {
    "papermill": {
     "duration": 0.016082,
     "end_time": "2023-02-22T20:17:16.900497",
     "exception": false,
     "start_time": "2023-02-22T20:17:16.884415",
     "status": "completed"
    },
    "tags": []
   },
   "source": [
    "# Epilogue"
   ]
  },
  {
   "cell_type": "code",
   "execution_count": null,
   "id": "9ebe9200-4e74-4db0-8f10-d7b258b9ef7c",
   "metadata": {
    "papermill": {
     "duration": 0.025839,
     "end_time": "2023-02-22T20:17:16.945517",
     "exception": false,
     "start_time": "2023-02-22T20:17:16.919678",
     "status": "completed"
    },
    "tags": []
   },
   "outputs": [],
   "source": [
    "benchmark('bandai',timestamp)"
   ]
  },
  {
   "cell_type": "code",
   "execution_count": null,
   "id": "eae8bd03-02f4-486d-9ae0-ddc7227985f2",
   "metadata": {
    "papermill": {
     "duration": 0.026833,
     "end_time": "2023-02-22T20:17:16.988962",
     "exception": false,
     "start_time": "2023-02-22T20:17:16.962129",
     "status": "completed"
    },
    "tags": []
   },
   "outputs": [],
   "source": [
    "footer()"
   ]
  },
  {
   "cell_type": "markdown",
   "id": "f8ddd2ba-01d3-4b5d-901a-62ea4f793309",
   "metadata": {
    "papermill": {
     "duration": 0.016354,
     "end_time": "2023-02-22T20:17:17.022281",
     "exception": false,
     "start_time": "2023-02-22T20:17:17.005927",
     "status": "completed"
    },
    "tags": []
   },
   "source": [
    "## HTML export"
   ]
  },
  {
   "cell_type": "code",
   "execution_count": null,
   "id": "1f2182a7-7cc8-4959-8af5-ba7ea26439a7",
   "metadata": {
    "papermill": {
     "duration": 0.031527,
     "end_time": "2023-02-22T20:17:17.070120",
     "exception": false,
     "start_time": "2023-02-22T20:17:17.038593",
     "status": "completed"
    },
    "tags": []
   },
   "outputs": [],
   "source": [
    "# Save notebook on disck before generating HTML report\n",
    "save_notebook()"
   ]
  },
  {
   "cell_type": "code",
   "execution_count": null,
   "id": "d7137575-20bb-4fb2-b32e-0d9de2d1cba7",
   "metadata": {
    "papermill": {
     "duration": 4.121785,
     "end_time": "2023-02-22T20:17:21.208472",
     "exception": false,
     "start_time": "2023-02-22T20:17:17.086687",
     "status": "completed"
    },
    "tags": []
   },
   "outputs": [],
   "source": [
    "! jupyter nbconvert Bandai.ipynb --output-dir='../' --to=HTML --TagRemovePreprocessor.enabled=True --TagRemovePreprocessor.remove_cell_tags='exclude' --TemplateExporter.exclude_input=True --TemplateExporter.exclude_input_prompt=True --TemplateExporter.exclude_output_prompt=True"
   ]
  },
  {
   "cell_type": "markdown",
   "id": "a28db6c7-1f12-497c-adc6-660f199e3369",
   "metadata": {
    "papermill": {
     "duration": 0.018074,
     "end_time": "2023-02-22T20:17:21.259528",
     "exception": false,
     "start_time": "2023-02-22T20:17:21.241454",
     "status": "completed"
    },
    "tags": [
     "exclude"
    ]
   },
   "source": [
    "## Git"
   ]
  },
  {
   "cell_type": "code",
   "execution_count": null,
   "id": "0883fa53-b0b8-4ce2-ac96-559df31c9c58",
   "metadata": {
    "papermill": {
     "duration": 0.452929,
     "end_time": "2023-02-22T20:17:21.729373",
     "exception": false,
     "start_time": "2023-02-22T20:17:21.276444",
     "status": "completed"
    },
    "tags": [
     "exclude"
    ]
   },
   "outputs": [],
   "source": [
    "! git add \"../*[Bb]andai*\""
   ]
  },
  {
   "cell_type": "code",
   "execution_count": null,
   "id": "3322a6a5-a048-42f3-a1ac-3124c0353599",
   "metadata": {
    "papermill": {
     "duration": 0.796415,
     "end_time": "2023-02-22T20:17:22.543519",
     "exception": false,
     "start_time": "2023-02-22T20:17:21.747104",
     "status": "completed"
    },
    "tags": [
     "exclude"
    ]
   },
   "outputs": [],
   "source": [
    "! git commit -m {\"'Bandai update-\" + timestamp.isoformat() + \"'\"}"
   ]
  }
 ],
 "metadata": {
  "kernelspec": {
   "display_name": "Python 3 (ipykernel)",
   "language": "python",
   "name": "python3"
  },
  "language_info": {
   "codemirror_mode": {
    "name": "ipython",
    "version": 3
   },
   "file_extension": ".py",
   "mimetype": "text/x-python",
   "name": "python",
   "nbconvert_exporter": "python",
   "pygments_lexer": "ipython3",
   "version": "3.10.8"
  },
  "papermill": {
   "default_parameters": {},
   "duration": 13.000631,
   "end_time": "2023-02-22T20:17:23.409580",
   "environment_variables": {},
   "exception": null,
   "input_path": "Bandai.ipynb",
   "output_path": "Bandai.ipynb",
   "parameters": {},
   "start_time": "2023-02-22T20:17:10.408949",
   "version": "2.4.0"
  }
 },
 "nbformat": 4,
 "nbformat_minor": 5
}
