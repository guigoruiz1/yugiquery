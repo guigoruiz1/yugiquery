{
 "cells": [
  {
   "cell_type": "code",
   "execution_count": null,
   "id": "9903a324-2402-461a-b8b3-9dec09caceb4",
   "metadata": {
    "papermill": {
     "duration": 2.432571,
     "end_time": "2023-12-04T15:44:28.278271",
     "exception": false,
     "start_time": "2023-12-04T15:44:25.845700",
     "status": "completed"
    },
    "tags": []
   },
   "outputs": [],
   "source": [
    "from yugiquery import *\n",
    "\n",
    "init_notebook_mode(all_interactive=True)\n",
    "\n",
    "header(\"Bandai\")"
   ]
  },
  {
   "cell_type": "markdown",
   "id": "9445cada-ce7a-4d46-a3e8-742439319435",
   "metadata": {
    "papermill": {
     "duration": 0.063757,
     "end_time": "2023-12-04T15:44:28.375079",
     "exception": false,
     "start_time": "2023-12-04T15:44:28.311322",
     "status": "completed"
    },
    "tags": []
   },
   "source": [
    "---"
   ]
  },
  {
   "cell_type": "markdown",
   "id": "ddf5afac-0c61-47d8-a0ad-f441a705eb88",
   "metadata": {
    "papermill": {
     "duration": 0.022687,
     "end_time": "2023-12-04T15:44:28.420659",
     "exception": false,
     "start_time": "2023-12-04T15:44:28.397972",
     "status": "completed"
    },
    "tags": []
   },
   "source": [
    "# Data aquisition"
   ]
  },
  {
   "cell_type": "markdown",
   "id": "cc75b862-8058-4db2-9499-446fd0d3042e",
   "metadata": {
    "papermill": {
     "duration": 0.022702,
     "end_time": "2023-12-04T15:44:28.470741",
     "exception": false,
     "start_time": "2023-12-04T15:44:28.448039",
     "status": "completed"
    },
    "tags": []
   },
   "source": [
    "## Fetch online data"
   ]
  },
  {
   "cell_type": "code",
   "execution_count": null,
   "id": "9df14404-b603-4f17-b66e-5766bed0175b",
   "metadata": {
    "editable": true,
    "papermill": {
     "duration": 0.03256,
     "end_time": "2023-12-04T15:44:28.525990",
     "exception": false,
     "start_time": "2023-12-04T15:44:28.493430",
     "status": "completed"
    },
    "slideshow": {
     "slide_type": ""
    },
    "tags": []
   },
   "outputs": [],
   "source": [
    "timestamp = arrow.utcnow()"
   ]
  },
  {
   "cell_type": "code",
   "execution_count": null,
   "id": "e29ba8f9-c3ad-4353-af35-9183e22a314b",
   "metadata": {
    "editable": true,
    "papermill": {
     "duration": 1.148979,
     "end_time": "2023-12-04T15:44:29.702683",
     "exception": false,
     "start_time": "2023-12-04T15:44:28.553704",
     "status": "completed"
    },
    "slideshow": {
     "slide_type": ""
    },
    "tags": []
   },
   "outputs": [],
   "source": [
    "bandai_df = fetch_bandai()"
   ]
  },
  {
   "cell_type": "markdown",
   "id": "ae8c018f-312e-4582-b1ab-af7d06e3e9d1",
   "metadata": {
    "papermill": {
     "duration": 0.023486,
     "end_time": "2023-12-04T15:44:29.750055",
     "exception": false,
     "start_time": "2023-12-04T15:44:29.726569",
     "status": "completed"
    },
    "tags": []
   },
   "source": [
    "# Check changes"
   ]
  },
  {
   "cell_type": "markdown",
   "id": "6f3d5394-1deb-4877-8e8c-d3b4c389df86",
   "metadata": {
    "papermill": {
     "duration": 0.047087,
     "end_time": "2023-12-04T15:44:29.851091",
     "exception": false,
     "start_time": "2023-12-04T15:44:29.804004",
     "status": "completed"
    },
    "tags": []
   },
   "source": [
    "## Load previous data"
   ]
  },
  {
   "cell_type": "code",
   "execution_count": null,
   "id": "8144b798-14d4-4201-8e9d-afeffc0cda45",
   "metadata": {
    "papermill": {
     "duration": 0.051086,
     "end_time": "2023-12-04T15:44:29.930524",
     "exception": false,
     "start_time": "2023-12-04T15:44:29.879438",
     "status": "completed"
    },
    "tags": []
   },
   "outputs": [],
   "source": [
    "# Get latest file if exist\n",
    "previous_df, previous_ts = load_corrected_latest(\"bandai\")\n",
    "\n",
    "if previous_df is not None:\n",
    "    previous_df = previous_df.astype(\n",
    "        bandai_df[previous_df.columns.intersection(bandai_df.columns)].dtypes.to_dict()\n",
    "    )"
   ]
  },
  {
   "cell_type": "markdown",
   "id": "96111a58-528d-4a95-94dc-2c8772fc8f81",
   "metadata": {
    "papermill": {
     "duration": 0.023775,
     "end_time": "2023-12-04T15:44:29.978483",
     "exception": false,
     "start_time": "2023-12-04T15:44:29.954708",
     "status": "completed"
    },
    "tags": []
   },
   "source": [
    "## Generate changelog"
   ]
  },
  {
   "cell_type": "code",
   "execution_count": null,
   "id": "2022a407-d6c2-4ff0-8d8f-e8431901d436",
   "metadata": {
    "papermill": {
     "duration": 0.094872,
     "end_time": "2023-12-04T15:44:30.103890",
     "exception": false,
     "start_time": "2023-12-04T15:44:30.009018",
     "status": "completed"
    },
    "tags": []
   },
   "outputs": [],
   "source": [
    "if previous_df is None:\n",
    "    changelog = None\n",
    "    print(\"Skipped\")\n",
    "else:\n",
    "    changelog = generate_changelog(previous_df, bandai_df, col=\"Name\")\n",
    "    if not changelog.empty:\n",
    "        display(changelog)\n",
    "        changelog.to_csv(\n",
    "            f'../data/{make_filename(report = \"bandai\", timestamp = timestamp, previous_timestamp = previous_ts)}',\n",
    "            index=True,\n",
    "        )\n",
    "        print(\"Changelog saved\")"
   ]
  },
  {
   "cell_type": "markdown",
   "id": "c50bdfb0-a6d1-43d7-8c96-f9145e053946",
   "metadata": {
    "papermill": {
     "duration": 0.026678,
     "end_time": "2023-12-04T15:44:30.170552",
     "exception": false,
     "start_time": "2023-12-04T15:44:30.143874",
     "status": "completed"
    },
    "tags": []
   },
   "source": [
    "## Save data"
   ]
  },
  {
   "cell_type": "code",
   "execution_count": null,
   "id": "c3aadd59-2d67-4c2a-81a4-3543bdbeb2f5",
   "metadata": {
    "papermill": {
     "duration": 0.049634,
     "end_time": "2023-12-04T15:44:30.257295",
     "exception": false,
     "start_time": "2023-12-04T15:44:30.207661",
     "status": "completed"
    },
    "tags": []
   },
   "outputs": [],
   "source": [
    "if changelog is not None and changelog.empty:\n",
    "    print(\"No changes. New data not saved\")\n",
    "else:\n",
    "    bandai_df.to_csv(\n",
    "        f'../data/{make_filename(report = \"bandai\", timestamp=timestamp)}', index=False\n",
    "    )\n",
    "    print(\"Data saved\")"
   ]
  },
  {
   "cell_type": "markdown",
   "id": "c64d414c-93b3-4464-b985-40bf135ddb1a",
   "metadata": {
    "papermill": {
     "duration": 0.02981,
     "end_time": "2023-12-04T15:44:30.314682",
     "exception": false,
     "start_time": "2023-12-04T15:44:30.284872",
     "status": "completed"
    },
    "tags": []
   },
   "source": [
    "# Data visualization"
   ]
  },
  {
   "cell_type": "code",
   "execution_count": null,
   "id": "56b6402a-ade8-44fc-9e6d-c46b54e6bd6f",
   "metadata": {
    "papermill": {
     "duration": 0.087788,
     "end_time": "2023-12-04T15:44:30.448375",
     "exception": false,
     "start_time": "2023-12-04T15:44:30.360587",
     "status": "completed"
    },
    "tags": []
   },
   "outputs": [],
   "source": [
    "bandai_df"
   ]
  },
  {
   "cell_type": "markdown",
   "id": "f31c671e-6e38-4f7c-b2e2-40a434e444d1",
   "metadata": {
    "papermill": {
     "duration": 0.320084,
     "end_time": "2023-12-04T15:44:30.800058",
     "exception": false,
     "start_time": "2023-12-04T15:44:30.479974",
     "status": "completed"
    },
    "tags": []
   },
   "source": [
    "## Card type"
   ]
  },
  {
   "cell_type": "code",
   "execution_count": null,
   "id": "1403be1f-b22b-47a1-854c-8258ba7bde97",
   "metadata": {
    "papermill": {
     "duration": 0.042622,
     "end_time": "2023-12-04T15:44:30.877495",
     "exception": false,
     "start_time": "2023-12-04T15:44:30.834873",
     "status": "completed"
    },
    "tags": []
   },
   "outputs": [],
   "source": [
    "print(\"Total number of card types:\", bandai_df[\"Card type\"].nunique())"
   ]
  },
  {
   "cell_type": "code",
   "execution_count": null,
   "id": "d2f71e96-730c-4b69-afdb-3c0e128caae2",
   "metadata": {
    "papermill": {
     "duration": 0.292098,
     "end_time": "2023-12-04T15:44:31.196944",
     "exception": false,
     "start_time": "2023-12-04T15:44:30.904846",
     "status": "completed"
    },
    "tags": []
   },
   "outputs": [],
   "source": [
    "card_type_colors = [colors_dict[i] for i in bandai_df[\"Card type\"].value_counts().index]\n",
    "bandai_df[\"Card type\"].value_counts().plot.bar(\n",
    "    figsize=(18, 6), grid=True, rot=0, color=card_type_colors\n",
    ")\n",
    "plt.show()"
   ]
  },
  {
   "cell_type": "markdown",
   "id": "00c6b243-67ad-42c5-9189-4d2d33c5372c",
   "metadata": {
    "papermill": {
     "duration": 0.059024,
     "end_time": "2023-12-04T15:44:31.290328",
     "exception": false,
     "start_time": "2023-12-04T15:44:31.231304",
     "status": "completed"
    },
    "tags": []
   },
   "source": [
    "## ATK"
   ]
  },
  {
   "cell_type": "code",
   "execution_count": null,
   "id": "1b5db865",
   "metadata": {
    "papermill": {
     "duration": 0.041879,
     "end_time": "2023-12-04T15:44:31.359820",
     "exception": false,
     "start_time": "2023-12-04T15:44:31.317941",
     "status": "completed"
    },
    "tags": []
   },
   "outputs": [],
   "source": [
    "print(\"Total number of ATK values:\", bandai_df[\"ATK\"].nunique())"
   ]
  },
  {
   "cell_type": "code",
   "execution_count": null,
   "id": "16b9aa14",
   "metadata": {
    "papermill": {
     "duration": 0.066137,
     "end_time": "2023-12-04T15:44:31.457613",
     "exception": false,
     "start_time": "2023-12-04T15:44:31.391476",
     "status": "completed"
    },
    "tags": []
   },
   "outputs": [],
   "source": [
    "bandai_df.drop(columns=[\"Card type\", \"Page name\", \"Page URL\"]).groupby(\n",
    "    \"ATK\"\n",
    ").nunique().sort_index(key=lambda x: pd.to_numeric(x, errors=\"coerce\"))"
   ]
  },
  {
   "cell_type": "code",
   "execution_count": null,
   "id": "3b1b2e1d",
   "metadata": {
    "papermill": {
     "duration": 0.456767,
     "end_time": "2023-12-04T15:44:31.942676",
     "exception": false,
     "start_time": "2023-12-04T15:44:31.485909",
     "status": "completed"
    },
    "tags": []
   },
   "outputs": [],
   "source": [
    "atk_colors = colors_dict[\"Monster Card\"]\n",
    "bandai_df[\"ATK\"].value_counts().sort_index(\n",
    "    key=lambda x: pd.to_numeric(x, errors=\"coerce\")\n",
    ").plot.bar(figsize=(18, 6), grid=True, color=atk_colors)\n",
    "plt.show()"
   ]
  },
  {
   "cell_type": "markdown",
   "id": "8c7f10ac-6c4e-42fe-be55-c2ea61abb7ae",
   "metadata": {
    "papermill": {
     "duration": 0.066313,
     "end_time": "2023-12-04T15:44:32.058244",
     "exception": false,
     "start_time": "2023-12-04T15:44:31.991931",
     "status": "completed"
    },
    "tags": []
   },
   "source": [
    "## DEF"
   ]
  },
  {
   "cell_type": "code",
   "execution_count": null,
   "id": "2aa0ba61",
   "metadata": {
    "papermill": {
     "duration": 0.041653,
     "end_time": "2023-12-04T15:44:32.132823",
     "exception": false,
     "start_time": "2023-12-04T15:44:32.091170",
     "status": "completed"
    },
    "tags": []
   },
   "outputs": [],
   "source": [
    "print(\"Total number of DEF values:\", bandai_df[\"DEF\"].nunique())"
   ]
  },
  {
   "cell_type": "code",
   "execution_count": null,
   "id": "54e9d56a",
   "metadata": {
    "papermill": {
     "duration": 0.076243,
     "end_time": "2023-12-04T15:44:32.237387",
     "exception": false,
     "start_time": "2023-12-04T15:44:32.161144",
     "status": "completed"
    },
    "tags": []
   },
   "outputs": [],
   "source": [
    "bandai_df.drop(columns=[\"Card type\", \"Page name\", \"Page URL\"]).groupby(\n",
    "    \"DEF\"\n",
    ").nunique().sort_index(key=lambda x: pd.to_numeric(x, errors=\"coerce\"))"
   ]
  },
  {
   "cell_type": "code",
   "execution_count": null,
   "id": "10aeff48",
   "metadata": {
    "papermill": {
     "duration": 0.474446,
     "end_time": "2023-12-04T15:44:32.755856",
     "exception": false,
     "start_time": "2023-12-04T15:44:32.281410",
     "status": "completed"
    },
    "tags": []
   },
   "outputs": [],
   "source": [
    "def_colors = colors_dict[\"Monster Card\"]\n",
    "bandai_df[\"DEF\"].value_counts().sort_index(\n",
    "    key=lambda x: pd.to_numeric(x, errors=\"coerce\")\n",
    ").plot.bar(figsize=(18, 6), grid=True, color=def_colors)\n",
    "plt.show()"
   ]
  },
  {
   "cell_type": "markdown",
   "id": "02b9970b-696d-4ef0-b01d-0385e6c53575",
   "metadata": {
    "papermill": {
     "duration": 0.069778,
     "end_time": "2023-12-04T15:44:32.861626",
     "exception": false,
     "start_time": "2023-12-04T15:44:32.791848",
     "status": "completed"
    },
    "tags": []
   },
   "source": [
    "## Level"
   ]
  },
  {
   "cell_type": "code",
   "execution_count": null,
   "id": "f5543138",
   "metadata": {
    "papermill": {
     "duration": 0.065699,
     "end_time": "2023-12-04T15:44:32.965336",
     "exception": false,
     "start_time": "2023-12-04T15:44:32.899637",
     "status": "completed"
    },
    "tags": []
   },
   "outputs": [],
   "source": [
    "bandai_df.drop(columns=[\"Card type\", \"Page name\", \"Page URL\"]).groupby(\n",
    "    \"Level\"\n",
    ").nunique().sort_index(key=lambda x: pd.to_numeric(x, errors=\"coerce\"))"
   ]
  },
  {
   "cell_type": "code",
   "execution_count": null,
   "id": "31539bdc",
   "metadata": {
    "papermill": {
     "duration": 0.351859,
     "end_time": "2023-12-04T15:44:33.353457",
     "exception": false,
     "start_time": "2023-12-04T15:44:33.001598",
     "status": "completed"
    },
    "tags": []
   },
   "outputs": [],
   "source": [
    "level_colors = colors_dict[\"Level\"]\n",
    "bandai_df[\"Level\"].value_counts().sort_index(\n",
    "    key=lambda x: pd.to_numeric(x, errors=\"coerce\")\n",
    ").plot.bar(figsize=(18, 6), grid=True, rot=0, color=level_colors)\n",
    "plt.show()"
   ]
  },
  {
   "cell_type": "markdown",
   "id": "071ce72d-178c-4ff3-9e4a-25f2568db91b",
   "metadata": {
    "papermill": {
     "duration": 0.224539,
     "end_time": "2023-12-04T15:44:33.635205",
     "exception": false,
     "start_time": "2023-12-04T15:44:33.410666",
     "status": "completed"
    },
    "tags": []
   },
   "source": [
    "### ATK statistics"
   ]
  },
  {
   "cell_type": "code",
   "execution_count": null,
   "id": "06dc9107",
   "metadata": {
    "papermill": {
     "duration": 0.127252,
     "end_time": "2023-12-04T15:44:33.805421",
     "exception": false,
     "start_time": "2023-12-04T15:44:33.678169",
     "status": "completed"
    },
    "tags": []
   },
   "outputs": [],
   "source": [
    "bandai_df[[\"Level\", \"ATK\"]].apply(pd.to_numeric, errors=\"coerce\").dropna().astype(\n",
    "    int\n",
    ").groupby(\"Level\").describe().round(1)"
   ]
  },
  {
   "cell_type": "markdown",
   "id": "3d9b3073-cb28-48c0-94c3-17e6932f0903",
   "metadata": {
    "papermill": {
     "duration": 0.06444,
     "end_time": "2023-12-04T15:44:33.905429",
     "exception": false,
     "start_time": "2023-12-04T15:44:33.840989",
     "status": "completed"
    },
    "tags": []
   },
   "source": [
    "### DEF statistics"
   ]
  },
  {
   "cell_type": "code",
   "execution_count": null,
   "id": "cc005e78",
   "metadata": {
    "papermill": {
     "duration": 0.105854,
     "end_time": "2023-12-04T15:44:34.051659",
     "exception": false,
     "start_time": "2023-12-04T15:44:33.945805",
     "status": "completed"
    },
    "tags": []
   },
   "outputs": [],
   "source": [
    "bandai_df[[\"Level\", \"DEF\"]].apply(pd.to_numeric, errors=\"coerce\").dropna().astype(\n",
    "    int\n",
    ").groupby(\"Level\").describe().round(1)"
   ]
  },
  {
   "cell_type": "markdown",
   "id": "f8a1f602-3981-413c-bc35-dadb1da03979",
   "metadata": {
    "papermill": {
     "duration": 0.031233,
     "end_time": "2023-12-04T15:44:34.118310",
     "exception": false,
     "start_time": "2023-12-04T15:44:34.087077",
     "status": "completed"
    },
    "tags": []
   },
   "source": [
    "## Monster type"
   ]
  },
  {
   "cell_type": "code",
   "execution_count": null,
   "id": "dab77100",
   "metadata": {
    "papermill": {
     "duration": 0.047121,
     "end_time": "2023-12-04T15:44:34.197861",
     "exception": false,
     "start_time": "2023-12-04T15:44:34.150740",
     "status": "completed"
    },
    "tags": []
   },
   "outputs": [],
   "source": [
    "print(\"Total number of monster types:\", bandai_df[\"Monster type\"].nunique())"
   ]
  },
  {
   "cell_type": "code",
   "execution_count": null,
   "id": "02f5b750",
   "metadata": {
    "papermill": {
     "duration": 0.084359,
     "end_time": "2023-12-04T15:44:34.317628",
     "exception": false,
     "start_time": "2023-12-04T15:44:34.233269",
     "status": "completed"
    },
    "tags": []
   },
   "outputs": [],
   "source": [
    "bandai_df.drop(columns=[\"Card type\", \"Page name\", \"Page URL\"]).groupby(\n",
    "    \"Monster type\"\n",
    ").nunique()"
   ]
  },
  {
   "cell_type": "code",
   "execution_count": null,
   "id": "75111774",
   "metadata": {
    "papermill": {
     "duration": 0.442241,
     "end_time": "2023-12-04T15:44:34.801388",
     "exception": false,
     "start_time": "2023-12-04T15:44:34.359147",
     "status": "completed"
    },
    "tags": []
   },
   "outputs": [],
   "source": [
    "monster_type_colors = colors_dict[\"Monster Card\"]\n",
    "bandai_df[\"Monster type\"].value_counts().plot.bar(\n",
    "    figsize=(18, 6), grid=True, rot=45, color=monster_type_colors\n",
    ")\n",
    "plt.show()"
   ]
  },
  {
   "cell_type": "markdown",
   "id": "eaf337f6-5f57-4f12-9ed9-56ee60684221",
   "metadata": {
    "papermill": {
     "duration": 0.191456,
     "end_time": "2023-12-04T15:44:35.037219",
     "exception": false,
     "start_time": "2023-12-04T15:44:34.845763",
     "status": "completed"
    },
    "tags": []
   },
   "source": [
    "## Set"
   ]
  },
  {
   "cell_type": "code",
   "execution_count": null,
   "id": "8235e37d-9495-4cdd-9935-47c991543663",
   "metadata": {
    "papermill": {
     "duration": 0.081217,
     "end_time": "2023-12-04T15:44:35.210647",
     "exception": false,
     "start_time": "2023-12-04T15:44:35.129430",
     "status": "completed"
    },
    "tags": []
   },
   "outputs": [],
   "source": [
    "print(\"Total number of sets:\", bandai_df[\"Set\"].nunique())"
   ]
  },
  {
   "cell_type": "code",
   "execution_count": null,
   "id": "5ea867ee-c5e5-48ed-84d4-9c66b205f185",
   "metadata": {
    "papermill": {
     "duration": 0.068126,
     "end_time": "2023-12-04T15:44:35.322451",
     "exception": false,
     "start_time": "2023-12-04T15:44:35.254325",
     "status": "completed"
    },
    "tags": []
   },
   "outputs": [],
   "source": [
    "bandai_df.drop(columns=[\"Page name\", \"Page URL\"]).groupby(\"Set\").nunique()"
   ]
  },
  {
   "cell_type": "markdown",
   "id": "1b6f5f73-c9cd-483c-96da-54174938da5a",
   "metadata": {
    "papermill": {
     "duration": 0.034978,
     "end_time": "2023-12-04T15:44:35.395828",
     "exception": false,
     "start_time": "2023-12-04T15:44:35.360850",
     "status": "completed"
    },
    "tags": []
   },
   "source": [
    "# Epilogue"
   ]
  },
  {
   "cell_type": "code",
   "execution_count": null,
   "id": "9ebe9200-4e74-4db0-8f10-d7b258b9ef7c",
   "metadata": {
    "papermill": {
     "duration": 0.107822,
     "end_time": "2023-12-04T15:44:35.542632",
     "exception": false,
     "start_time": "2023-12-04T15:44:35.434810",
     "status": "completed"
    },
    "tags": []
   },
   "outputs": [],
   "source": [
    "benchmark(report=\"bandai\", timestamp=timestamp)"
   ]
  },
  {
   "cell_type": "code",
   "execution_count": null,
   "id": "eae8bd03-02f4-486d-9ae0-ddc7227985f2",
   "metadata": {
    "papermill": {
     "duration": 0.044085,
     "end_time": "2023-12-04T15:44:35.625798",
     "exception": false,
     "start_time": "2023-12-04T15:44:35.581713",
     "status": "completed"
    },
    "tags": []
   },
   "outputs": [],
   "source": [
    "footer()"
   ]
  },
  {
   "cell_type": "markdown",
   "id": "f8ddd2ba-01d3-4b5d-901a-62ea4f793309",
   "metadata": {
    "papermill": {
     "duration": 0.039597,
     "end_time": "2023-12-04T15:44:35.699861",
     "exception": false,
     "start_time": "2023-12-04T15:44:35.660264",
     "status": "completed"
    },
    "tags": []
   },
   "source": [
    "## HTML export"
   ]
  },
  {
   "cell_type": "code",
   "execution_count": null,
   "id": "1f2182a7-7cc8-4959-8af5-ba7ea26439a7",
   "metadata": {
    "papermill": {
     "duration": 0.05377,
     "end_time": "2023-12-04T15:44:35.792474",
     "exception": false,
     "start_time": "2023-12-04T15:44:35.738704",
     "status": "completed"
    },
    "tags": []
   },
   "outputs": [],
   "source": [
    "# Save notebook on disck before generating HTML report\n",
    "save_notebook()"
   ]
  },
  {
   "cell_type": "code",
   "execution_count": null,
   "id": "d7137575-20bb-4fb2-b32e-0d9de2d1cba7",
   "metadata": {
    "papermill": {
     "duration": 2.902164,
     "end_time": "2023-12-04T15:44:38.743113",
     "exception": false,
     "start_time": "2023-12-04T15:44:35.840949",
     "status": "completed"
    },
    "tags": []
   },
   "outputs": [],
   "source": [
    "! jupyter nbconvert Bandai.ipynb --output-dir='../' --to=HTML --TagRemovePreprocessor.enabled=True --TagRemovePreprocessor.remove_cell_tags='exclude' --TemplateExporter.exclude_input=True --TemplateExporter.exclude_input_prompt=True --TemplateExporter.exclude_output_prompt=True"
   ]
  },
  {
   "cell_type": "markdown",
   "id": "a28db6c7-1f12-497c-adc6-660f199e3369",
   "metadata": {
    "papermill": {
     "duration": 0.055377,
     "end_time": "2023-12-04T15:44:38.844098",
     "exception": false,
     "start_time": "2023-12-04T15:44:38.788721",
     "status": "completed"
    },
    "tags": [
     "exclude"
    ]
   },
   "source": [
    "## Git"
   ]
  },
  {
   "cell_type": "code",
   "execution_count": null,
   "id": "9b33616a-71a1-4adf-a40b-5a5b425ffadf",
   "metadata": {
    "papermill": {
     "duration": 0.725009,
     "end_time": "2023-12-04T15:44:39.606629",
     "exception": false,
     "start_time": "2023-12-04T15:44:38.881620",
     "status": "completed"
    },
    "tags": []
   },
   "outputs": [],
   "source": [
    "commit(\"*[Bb]andai*\", f\"Bandai update - {timestamp.isoformat()}\")"
   ]
  }
 ],
 "metadata": {
  "kernelspec": {
   "display_name": "Python 3 (ipykernel)",
   "language": "python",
   "name": "python3"
  },
  "language_info": {
   "codemirror_mode": {
    "name": "ipython",
    "version": 3
   },
   "file_extension": ".py",
   "mimetype": "text/x-python",
   "name": "python",
   "nbconvert_exporter": "python",
   "pygments_lexer": "ipython3",
   "version": "3.11.6"
  },
  "papermill": {
   "default_parameters": {},
   "duration": 16.013743,
   "end_time": "2023-12-04T15:44:40.676420",
   "environment_variables": {},
   "exception": null,
   "input_path": "Bandai.ipynb",
   "output_path": "Bandai.ipynb",
   "parameters": {},
   "start_time": "2023-12-04T15:44:24.662677",
   "version": "2.4.0"
  }
 },
 "nbformat": 4,
 "nbformat_minor": 5
}
