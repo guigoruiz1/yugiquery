{
 "cells": [
  {
   "cell_type": "code",
   "execution_count": 1,
   "id": "9903a324-2402-461a-b8b3-9dec09caceb4",
   "metadata": {
    "execution": {
     "iopub.execute_input": "2023-02-27T21:18:37.442653Z",
     "iopub.status.busy": "2023-02-27T21:18:37.441944Z",
     "iopub.status.idle": "2023-02-27T21:18:39.684764Z",
     "shell.execute_reply": "2023-02-27T21:18:39.683779Z"
    },
    "papermill": {
     "duration": 2.259001,
     "end_time": "2023-02-27T21:18:39.687767",
     "exception": false,
     "start_time": "2023-02-27T21:18:37.428766",
     "status": "completed"
    },
    "tags": []
   },
   "outputs": [
    {
     "data": {
      "text/markdown": [
       "<div align='center'>\n",
       "    <br>\n",
       "    <!-- Pre Style needed to fix HTML formatting -->\n",
       "    <pre style=\"line-height: var(--jp-code-line-height); font-family: var(--jp-code-font-family)\">\n",
       "    ██    ██ ██    ██  ██████  ██  ██████  ██    ██ ███████ ██████  ██    ██ \n",
       "     ██  ██  ██    ██ ██       ██ ██    ██ ██    ██ ██      ██   ██  ██  ██  \n",
       "      ████   ██    ██ ██   ███ ██ ██    ██ ██    ██ █████   ██████    ████   \n",
       "       ██    ██    ██ ██    ██ ██ ██ ▄▄ ██ ██    ██ ██      ██   ██    ██    \n",
       "       ██     ██████   ██████  ██  ██████   ██████  ███████ ██   ██    ██    \n",
       "                                      ▀▀                                     \n",
       "    </pre>\n",
       "</div>\n",
       "<div align='right'>\n",
       "    Bandai - Execution started 27/02/2023 21:18 UTC <br>\n",
       "    By <b>Guilherme Ruiz</b>\n",
       "</div>"
      ],
      "text/plain": [
       "<IPython.core.display.Markdown object>"
      ]
     },
     "execution_count": 1,
     "metadata": {},
     "output_type": "execute_result"
    }
   ],
   "source": [
    "from yugiquery import *\n",
    "header('Bandai')"
   ]
  },
  {
   "cell_type": "markdown",
   "id": "9445cada-ce7a-4d46-a3e8-742439319435",
   "metadata": {
    "papermill": {
     "duration": 0.02043,
     "end_time": "2023-02-27T21:18:39.724106",
     "exception": false,
     "start_time": "2023-02-27T21:18:39.703676",
     "status": "completed"
    },
    "tags": []
   },
   "source": [
    "---"
   ]
  },
  {
   "cell_type": "markdown",
   "id": "ddf5afac-0c61-47d8-a0ad-f441a705eb88",
   "metadata": {
    "papermill": {
     "duration": 0.037733,
     "end_time": "2023-02-27T21:18:39.772891",
     "exception": false,
     "start_time": "2023-02-27T21:18:39.735158",
     "status": "completed"
    },
    "tags": []
   },
   "source": [
    "# Data aquisition"
   ]
  },
  {
   "cell_type": "markdown",
   "id": "cc75b862-8058-4db2-9499-446fd0d3042e",
   "metadata": {
    "papermill": {
     "duration": 0.032544,
     "end_time": "2023-02-27T21:18:39.950483",
     "exception": false,
     "start_time": "2023-02-27T21:18:39.917939",
     "status": "completed"
    },
    "tags": []
   },
   "source": [
    "## Fetch online data"
   ]
  },
  {
   "cell_type": "code",
   "execution_count": 2,
   "id": "9df14404-b603-4f17-b66e-5766bed0175b",
   "metadata": {
    "execution": {
     "iopub.execute_input": "2023-02-27T21:18:40.251596Z",
     "iopub.status.busy": "2023-02-27T21:18:40.250341Z",
     "iopub.status.idle": "2023-02-27T21:18:40.257909Z",
     "shell.execute_reply": "2023-02-27T21:18:40.255297Z"
    },
    "papermill": {
     "duration": 0.287907,
     "end_time": "2023-02-27T21:18:40.260451",
     "exception": false,
     "start_time": "2023-02-27T21:18:39.972544",
     "status": "completed"
    },
    "tags": []
   },
   "outputs": [],
   "source": [
    "timestamp = pd.Timestamp.now()"
   ]
  },
  {
   "cell_type": "code",
   "execution_count": 3,
   "id": "e29ba8f9-c3ad-4353-af35-9183e22a314b",
   "metadata": {
    "execution": {
     "iopub.execute_input": "2023-02-27T21:18:40.448515Z",
     "iopub.status.busy": "2023-02-27T21:18:40.447948Z",
     "iopub.status.idle": "2023-02-27T21:18:41.374672Z",
     "shell.execute_reply": "2023-02-27T21:18:41.373704Z"
    },
    "papermill": {
     "duration": 0.98696,
     "end_time": "2023-02-27T21:18:41.377030",
     "exception": false,
     "start_time": "2023-02-27T21:18:40.390070",
     "status": "completed"
    },
    "tags": []
   },
   "outputs": [
    {
     "name": "stdout",
     "output_type": "stream",
     "text": [
      "Downloading bandai cards"
     ]
    },
    {
     "name": "stdout",
     "output_type": "stream",
     "text": [
      "\n"
     ]
    },
    {
     "name": "stdout",
     "output_type": "stream",
     "text": [
      "120 results\n"
     ]
    },
    {
     "name": "stdout",
     "output_type": "stream",
     "text": [
      "\n"
     ]
    }
   ],
   "source": [
    "bandai_df = fetch_bandai()"
   ]
  },
  {
   "cell_type": "markdown",
   "id": "ae8c018f-312e-4582-b1ab-af7d06e3e9d1",
   "metadata": {
    "papermill": {
     "duration": 0.056892,
     "end_time": "2023-02-27T21:18:41.449075",
     "exception": false,
     "start_time": "2023-02-27T21:18:41.392183",
     "status": "completed"
    },
    "tags": []
   },
   "source": [
    "# Check changes"
   ]
  },
  {
   "cell_type": "markdown",
   "id": "6f3d5394-1deb-4877-8e8c-d3b4c389df86",
   "metadata": {
    "papermill": {
     "duration": 0.023774,
     "end_time": "2023-02-27T21:18:41.484928",
     "exception": false,
     "start_time": "2023-02-27T21:18:41.461154",
     "status": "completed"
    },
    "tags": []
   },
   "source": [
    "## Load previous data"
   ]
  },
  {
   "cell_type": "code",
   "execution_count": 4,
   "id": "b2004432-65fb-4341-bfe5-a04ad2147553",
   "metadata": {
    "execution": {
     "iopub.execute_input": "2023-02-27T21:18:41.511816Z",
     "iopub.status.busy": "2023-02-27T21:18:41.510772Z",
     "iopub.status.idle": "2023-02-27T21:18:41.645010Z",
     "shell.execute_reply": "2023-02-27T21:18:41.644042Z"
    },
    "papermill": {
     "duration": 0.149567,
     "end_time": "2023-02-27T21:18:41.647255",
     "exception": false,
     "start_time": "2023-02-27T21:18:41.497688",
     "status": "completed"
    },
    "tags": []
   },
   "outputs": [
    {
     "name": "stdout",
     "output_type": "stream",
     "text": [
      "File loaded"
     ]
    },
    {
     "name": "stdout",
     "output_type": "stream",
     "text": [
      "\n"
     ]
    }
   ],
   "source": [
    "# Get list of files\n",
    "files_list = sorted(glob.glob('../data/all_bandai_*.csv'), key=os.path.getctime, reverse=True)\n",
    "# Get second newest file if exist\n",
    "if files_list:\n",
    "    latest_file = files_list[0]\n",
    "    # Load csv avoiding converting \"NA\" to NaN\n",
    "    previous_df = pd.read_csv(latest_file, dtype=object, keep_default_na=False, na_values=[''])\n",
    "    # Force dtypes to match current df\n",
    "    previous_df = previous_df.astype(bandai_df[previous_df.columns.intersection(bandai_df.columns)].dtypes.to_dict())\n",
    "    previous_ts = pd.to_datetime(os.path.basename(latest_file).split('_')[-1].rstrip('.csv'))\n",
    "    print('File loaded')\n",
    "else:\n",
    "    previous_df = None\n",
    "    print('No older files')"
   ]
  },
  {
   "cell_type": "markdown",
   "id": "96111a58-528d-4a95-94dc-2c8772fc8f81",
   "metadata": {
    "papermill": {
     "duration": 0.013032,
     "end_time": "2023-02-27T21:18:41.675534",
     "exception": false,
     "start_time": "2023-02-27T21:18:41.662502",
     "status": "completed"
    },
    "tags": []
   },
   "source": [
    "## Generate changelog"
   ]
  },
  {
   "cell_type": "code",
   "execution_count": 5,
   "id": "2022a407-d6c2-4ff0-8d8f-e8431901d436",
   "metadata": {
    "execution": {
     "iopub.execute_input": "2023-02-27T21:18:41.718803Z",
     "iopub.status.busy": "2023-02-27T21:18:41.718274Z",
     "iopub.status.idle": "2023-02-27T21:18:41.755069Z",
     "shell.execute_reply": "2023-02-27T21:18:41.754135Z"
    },
    "papermill": {
     "duration": 0.054232,
     "end_time": "2023-02-27T21:18:41.759056",
     "exception": false,
     "start_time": "2023-02-27T21:18:41.704824",
     "status": "completed"
    },
    "tags": []
   },
   "outputs": [
    {
     "name": "stdout",
     "output_type": "stream",
     "text": [
      "No changes"
     ]
    },
    {
     "name": "stdout",
     "output_type": "stream",
     "text": [
      "\n"
     ]
    }
   ],
   "source": [
    "if previous_df is None:\n",
    "    changelog=None\n",
    "    print('Skipped')\n",
    "else:\n",
    "    changelog = generate_changelog(previous_df, bandai_df, col = 'Name')\n",
    "    if not changelog.empty:\n",
    "        display(changelog)\n",
    "        changelog.to_csv(f'../data/bandai_changelog_{previous_ts.isoformat(timespec=\"minutes\")}_{timestamp.isoformat(timespec=\"minutes\")}.csv', index = True)\n",
    "        print('Changelog saved')"
   ]
  },
  {
   "cell_type": "markdown",
   "id": "c50bdfb0-a6d1-43d7-8c96-f9145e053946",
   "metadata": {
    "papermill": {
     "duration": 0.012357,
     "end_time": "2023-02-27T21:18:41.783669",
     "exception": false,
     "start_time": "2023-02-27T21:18:41.771312",
     "status": "completed"
    },
    "tags": []
   },
   "source": [
    "## Save data"
   ]
  },
  {
   "cell_type": "code",
   "execution_count": 6,
   "id": "c3aadd59-2d67-4c2a-81a4-3543bdbeb2f5",
   "metadata": {
    "execution": {
     "iopub.execute_input": "2023-02-27T21:18:41.834289Z",
     "iopub.status.busy": "2023-02-27T21:18:41.833388Z",
     "iopub.status.idle": "2023-02-27T21:18:41.841222Z",
     "shell.execute_reply": "2023-02-27T21:18:41.840050Z"
    },
    "papermill": {
     "duration": 0.032155,
     "end_time": "2023-02-27T21:18:41.843842",
     "exception": false,
     "start_time": "2023-02-27T21:18:41.811687",
     "status": "completed"
    },
    "tags": []
   },
   "outputs": [
    {
     "name": "stdout",
     "output_type": "stream",
     "text": [
      "No changes. New data not saved"
     ]
    },
    {
     "name": "stdout",
     "output_type": "stream",
     "text": [
      "\n"
     ]
    }
   ],
   "source": [
    "if changelog is not None and changelog.empty:\n",
    "    print('No changes. New data not saved')\n",
    "else:\n",
    "    bandai_df.to_csv(f'../data/all_bandai_{timestamp.isoformat(timespec=\"minutes\")}.csv', index=False)\n",
    "    print('Data saved')"
   ]
  },
  {
   "cell_type": "markdown",
   "id": "c64d414c-93b3-4464-b985-40bf135ddb1a",
   "metadata": {
    "papermill": {
     "duration": 0.012273,
     "end_time": "2023-02-27T21:18:41.868789",
     "exception": false,
     "start_time": "2023-02-27T21:18:41.856516",
     "status": "completed"
    },
    "tags": []
   },
   "source": [
    "# Data visualization"
   ]
  },
  {
   "cell_type": "code",
   "execution_count": 7,
   "id": "56b6402a-ade8-44fc-9e6d-c46b54e6bd6f",
   "metadata": {
    "execution": {
     "iopub.execute_input": "2023-02-27T21:18:41.897307Z",
     "iopub.status.busy": "2023-02-27T21:18:41.895087Z",
     "iopub.status.idle": "2023-02-27T21:18:41.943965Z",
     "shell.execute_reply": "2023-02-27T21:18:41.942957Z"
    },
    "papermill": {
     "duration": 0.065156,
     "end_time": "2023-02-27T21:18:41.946640",
     "exception": false,
     "start_time": "2023-02-27T21:18:41.881484",
     "status": "completed"
    },
    "tags": []
   },
   "outputs": [
    {
     "data": {
      "text/html": [
       "<div>\n",
       "<style scoped>\n",
       "    .dataframe tbody tr th:only-of-type {\n",
       "        vertical-align: middle;\n",
       "    }\n",
       "\n",
       "    .dataframe tbody tr th {\n",
       "        vertical-align: top;\n",
       "    }\n",
       "\n",
       "    .dataframe thead th {\n",
       "        text-align: right;\n",
       "    }\n",
       "</style>\n",
       "<table border=\"1\" class=\"dataframe\">\n",
       "  <thead>\n",
       "    <tr style=\"text-align: right;\">\n",
       "      <th></th>\n",
       "      <th>Name</th>\n",
       "      <th>Card type</th>\n",
       "      <th>Monster type</th>\n",
       "      <th>DEF</th>\n",
       "      <th>Set</th>\n",
       "      <th>Card number</th>\n",
       "      <th>Ability</th>\n",
       "      <th>Rule</th>\n",
       "      <th>ATK</th>\n",
       "      <th>Level</th>\n",
       "      <th>Page name</th>\n",
       "      <th>Page URL</th>\n",
       "    </tr>\n",
       "  </thead>\n",
       "  <tbody>\n",
       "    <tr>\n",
       "      <th>0</th>\n",
       "      <td>Aphrodite</td>\n",
       "      <td>Monster Card</td>\n",
       "      <td>White Magic</td>\n",
       "      <td>2300</td>\n",
       "      <td>Yu-Gi-Oh! Bandai OCG: 1st Generation</td>\n",
       "      <td>22</td>\n",
       "      <td>NaN</td>\n",
       "      <td>4</td>\n",
       "      <td>1000</td>\n",
       "      <td>5</td>\n",
       "      <td>Aphrodite</td>\n",
       "      <td>https://yugipedia.com/wiki/Aphrodite</td>\n",
       "    </tr>\n",
       "    <tr>\n",
       "      <th>1</th>\n",
       "      <td>Armored Basic Insect with Laser Cannon</td>\n",
       "      <td>Monster Card</td>\n",
       "      <td>Insect</td>\n",
       "      <td>1300</td>\n",
       "      <td>Yu-Gi-Oh! Bandai OCG: 1st Generation</td>\n",
       "      <td>17</td>\n",
       "      <td>NaN</td>\n",
       "      <td>8</td>\n",
       "      <td>2400</td>\n",
       "      <td>6</td>\n",
       "      <td>Armored Basic Insect with Laser Cannon</td>\n",
       "      <td>https://yugipedia.com/wiki/Armored_Basic_Insec...</td>\n",
       "    </tr>\n",
       "    <tr>\n",
       "      <th>2</th>\n",
       "      <td>Armored Lizard</td>\n",
       "      <td>Monster Card</td>\n",
       "      <td>Beast-Warrior</td>\n",
       "      <td>2000</td>\n",
       "      <td>Yu-Gi-Oh! Bandai OCG: 2nd Generation</td>\n",
       "      <td>73</td>\n",
       "      <td>NaN</td>\n",
       "      <td>6</td>\n",
       "      <td>1800</td>\n",
       "      <td>5</td>\n",
       "      <td>Armored Lizard (Bandai)</td>\n",
       "      <td>https://yugipedia.com/wiki/Armored_Lizard_(Ban...</td>\n",
       "    </tr>\n",
       "    <tr>\n",
       "      <th>3</th>\n",
       "      <td>Armored Zombie</td>\n",
       "      <td>Monster Card</td>\n",
       "      <td>Fiend</td>\n",
       "      <td>0</td>\n",
       "      <td>Yu-Gi-Oh! Bandai OCG: 2nd Generation</td>\n",
       "      <td>80</td>\n",
       "      <td>NaN</td>\n",
       "      <td>11</td>\n",
       "      <td>2400</td>\n",
       "      <td>4</td>\n",
       "      <td>Armored Zombie (Bandai)</td>\n",
       "      <td>https://yugipedia.com/wiki/Armored_Zombie_(Ban...</td>\n",
       "    </tr>\n",
       "    <tr>\n",
       "      <th>4</th>\n",
       "      <td>Axe Raider</td>\n",
       "      <td>Monster Card</td>\n",
       "      <td>Warrior</td>\n",
       "      <td>1500</td>\n",
       "      <td>Yu-Gi-Oh! Bandai OCG: 2nd Generation</td>\n",
       "      <td>60</td>\n",
       "      <td>NaN</td>\n",
       "      <td>7</td>\n",
       "      <td>2300</td>\n",
       "      <td>6</td>\n",
       "      <td>Axe Raider (Bandai)</td>\n",
       "      <td>https://yugipedia.com/wiki/Axe_Raider_(Bandai)</td>\n",
       "    </tr>\n",
       "    <tr>\n",
       "      <th>...</th>\n",
       "      <td>...</td>\n",
       "      <td>...</td>\n",
       "      <td>...</td>\n",
       "      <td>...</td>\n",
       "      <td>...</td>\n",
       "      <td>...</td>\n",
       "      <td>...</td>\n",
       "      <td>...</td>\n",
       "      <td>...</td>\n",
       "      <td>...</td>\n",
       "      <td>...</td>\n",
       "      <td>...</td>\n",
       "    </tr>\n",
       "    <tr>\n",
       "      <th>115</th>\n",
       "      <td>The Wicked Worm Beast</td>\n",
       "      <td>Monster Card</td>\n",
       "      <td>Fiend</td>\n",
       "      <td>600</td>\n",
       "      <td>Yu-Gi-Oh! Bandai OCG: 3rd Generation</td>\n",
       "      <td>94</td>\n",
       "      <td>NaN</td>\n",
       "      <td>5</td>\n",
       "      <td>2400</td>\n",
       "      <td>5</td>\n",
       "      <td>The Wicked Worm Beast (Bandai)</td>\n",
       "      <td>https://yugipedia.com/wiki/The_Wicked_Worm_Bea...</td>\n",
       "    </tr>\n",
       "    <tr>\n",
       "      <th>116</th>\n",
       "      <td>Winged Dragon, Guardian of the Fortress #1</td>\n",
       "      <td>Monster Card</td>\n",
       "      <td>Dragon</td>\n",
       "      <td>1600</td>\n",
       "      <td>Yu-Gi-Oh! Bandai OCG: 1st Generation</td>\n",
       "      <td>23</td>\n",
       "      <td>NaN</td>\n",
       "      <td>5</td>\n",
       "      <td>1700</td>\n",
       "      <td>4</td>\n",
       "      <td>Winged Dragon, Guardian of the Fortress 1 (Ban...</td>\n",
       "      <td>https://yugipedia.com/wiki/Winged_Dragon,_Guar...</td>\n",
       "    </tr>\n",
       "    <tr>\n",
       "      <th>117</th>\n",
       "      <td>Yellow Hecate</td>\n",
       "      <td>Monster Card</td>\n",
       "      <td>Black Magic</td>\n",
       "      <td>1500</td>\n",
       "      <td>Yu-Gi-Oh! Bandai OCG: 3rd Generation</td>\n",
       "      <td>98</td>\n",
       "      <td>NaN</td>\n",
       "      <td>NaN</td>\n",
       "      <td>1500</td>\n",
       "      <td>4</td>\n",
       "      <td>Yellow Hecate</td>\n",
       "      <td>https://yugipedia.com/wiki/Yellow_Hecate</td>\n",
       "    </tr>\n",
       "    <tr>\n",
       "      <th>118</th>\n",
       "      <td>Yugi Muto</td>\n",
       "      <td>Character Card</td>\n",
       "      <td>NaN</td>\n",
       "      <td>NaN</td>\n",
       "      <td>Yu-Gi-Oh! Bandai OCG: 1st Generation</td>\n",
       "      <td>1</td>\n",
       "      <td>Look Ahead</td>\n",
       "      <td>1</td>\n",
       "      <td>NaN</td>\n",
       "      <td>6</td>\n",
       "      <td>Yugi Muto (Bandai)</td>\n",
       "      <td>https://yugipedia.com/wiki/Yugi_Muto_(Bandai)</td>\n",
       "    </tr>\n",
       "    <tr>\n",
       "      <th>119</th>\n",
       "      <td>Yugi Muto</td>\n",
       "      <td>Character Card</td>\n",
       "      <td>NaN</td>\n",
       "      <td>NaN</td>\n",
       "      <td>Yu-Gi-Oh! Bandai OCG: 1st Generation</td>\n",
       "      <td>2</td>\n",
       "      <td>Shadow Game</td>\n",
       "      <td>2</td>\n",
       "      <td>NaN</td>\n",
       "      <td>8</td>\n",
       "      <td>Yugi Muto (Yami Bandai)</td>\n",
       "      <td>https://yugipedia.com/wiki/Yugi_Muto_(Yami_Ban...</td>\n",
       "    </tr>\n",
       "  </tbody>\n",
       "</table>\n",
       "<p>120 rows × 12 columns</p>\n",
       "</div>"
      ],
      "text/plain": [
       "                                           Name       Card type  \\\n",
       "0                                     Aphrodite    Monster Card   \n",
       "1        Armored Basic Insect with Laser Cannon    Monster Card   \n",
       "2                                Armored Lizard    Monster Card   \n",
       "3                                Armored Zombie    Monster Card   \n",
       "4                                    Axe Raider    Monster Card   \n",
       "..                                          ...             ...   \n",
       "115                       The Wicked Worm Beast    Monster Card   \n",
       "116  Winged Dragon, Guardian of the Fortress #1    Monster Card   \n",
       "117                               Yellow Hecate    Monster Card   \n",
       "118                                   Yugi Muto  Character Card   \n",
       "119                                   Yugi Muto  Character Card   \n",
       "\n",
       "      Monster type   DEF                                   Set Card number  \\\n",
       "0      White Magic  2300  Yu-Gi-Oh! Bandai OCG: 1st Generation          22   \n",
       "1           Insect  1300  Yu-Gi-Oh! Bandai OCG: 1st Generation          17   \n",
       "2    Beast-Warrior  2000  Yu-Gi-Oh! Bandai OCG: 2nd Generation          73   \n",
       "3            Fiend     0  Yu-Gi-Oh! Bandai OCG: 2nd Generation          80   \n",
       "4          Warrior  1500  Yu-Gi-Oh! Bandai OCG: 2nd Generation          60   \n",
       "..             ...   ...                                   ...         ...   \n",
       "115          Fiend   600  Yu-Gi-Oh! Bandai OCG: 3rd Generation          94   \n",
       "116         Dragon  1600  Yu-Gi-Oh! Bandai OCG: 1st Generation          23   \n",
       "117    Black Magic  1500  Yu-Gi-Oh! Bandai OCG: 3rd Generation          98   \n",
       "118            NaN   NaN  Yu-Gi-Oh! Bandai OCG: 1st Generation           1   \n",
       "119            NaN   NaN  Yu-Gi-Oh! Bandai OCG: 1st Generation           2   \n",
       "\n",
       "         Ability Rule   ATK Level  \\\n",
       "0            NaN    4  1000     5   \n",
       "1            NaN    8  2400     6   \n",
       "2            NaN    6  1800     5   \n",
       "3            NaN   11  2400     4   \n",
       "4            NaN    7  2300     6   \n",
       "..           ...  ...   ...   ...   \n",
       "115          NaN    5  2400     5   \n",
       "116          NaN    5  1700     4   \n",
       "117          NaN  NaN  1500     4   \n",
       "118   Look Ahead    1   NaN     6   \n",
       "119  Shadow Game    2   NaN     8   \n",
       "\n",
       "                                             Page name  \\\n",
       "0                                            Aphrodite   \n",
       "1               Armored Basic Insect with Laser Cannon   \n",
       "2                              Armored Lizard (Bandai)   \n",
       "3                              Armored Zombie (Bandai)   \n",
       "4                                  Axe Raider (Bandai)   \n",
       "..                                                 ...   \n",
       "115                     The Wicked Worm Beast (Bandai)   \n",
       "116  Winged Dragon, Guardian of the Fortress 1 (Ban...   \n",
       "117                                      Yellow Hecate   \n",
       "118                                 Yugi Muto (Bandai)   \n",
       "119                            Yugi Muto (Yami Bandai)   \n",
       "\n",
       "                                              Page URL  \n",
       "0                 https://yugipedia.com/wiki/Aphrodite  \n",
       "1    https://yugipedia.com/wiki/Armored_Basic_Insec...  \n",
       "2    https://yugipedia.com/wiki/Armored_Lizard_(Ban...  \n",
       "3    https://yugipedia.com/wiki/Armored_Zombie_(Ban...  \n",
       "4       https://yugipedia.com/wiki/Axe_Raider_(Bandai)  \n",
       "..                                                 ...  \n",
       "115  https://yugipedia.com/wiki/The_Wicked_Worm_Bea...  \n",
       "116  https://yugipedia.com/wiki/Winged_Dragon,_Guar...  \n",
       "117           https://yugipedia.com/wiki/Yellow_Hecate  \n",
       "118      https://yugipedia.com/wiki/Yugi_Muto_(Bandai)  \n",
       "119  https://yugipedia.com/wiki/Yugi_Muto_(Yami_Ban...  \n",
       "\n",
       "[120 rows x 12 columns]"
      ]
     },
     "execution_count": 7,
     "metadata": {},
     "output_type": "execute_result"
    }
   ],
   "source": [
    "bandai_df"
   ]
  },
  {
   "cell_type": "markdown",
   "id": "f31c671e-6e38-4f7c-b2e2-40a434e444d1",
   "metadata": {
    "papermill": {
     "duration": 0.012761,
     "end_time": "2023-02-27T21:18:41.972342",
     "exception": false,
     "start_time": "2023-02-27T21:18:41.959581",
     "status": "completed"
    },
    "tags": []
   },
   "source": [
    "## Card type"
   ]
  },
  {
   "cell_type": "code",
   "execution_count": 8,
   "id": "1403be1f-b22b-47a1-854c-8258ba7bde97",
   "metadata": {
    "execution": {
     "iopub.execute_input": "2023-02-27T21:18:42.015191Z",
     "iopub.status.busy": "2023-02-27T21:18:42.013934Z",
     "iopub.status.idle": "2023-02-27T21:18:42.022891Z",
     "shell.execute_reply": "2023-02-27T21:18:42.022000Z"
    },
    "papermill": {
     "duration": 0.028727,
     "end_time": "2023-02-27T21:18:42.024943",
     "exception": false,
     "start_time": "2023-02-27T21:18:41.996216",
     "status": "completed"
    },
    "tags": []
   },
   "outputs": [
    {
     "name": "stdout",
     "output_type": "stream",
     "text": [
      "Total number of card types:"
     ]
    },
    {
     "name": "stdout",
     "output_type": "stream",
     "text": [
      " "
     ]
    },
    {
     "name": "stdout",
     "output_type": "stream",
     "text": [
      "5"
     ]
    },
    {
     "name": "stdout",
     "output_type": "stream",
     "text": [
      "\n"
     ]
    }
   ],
   "source": [
    "print('Total number of card types:', bandai_df['Card type'].nunique())"
   ]
  },
  {
   "cell_type": "code",
   "execution_count": 9,
   "id": "d2f71e96-730c-4b69-afdb-3c0e128caae2",
   "metadata": {
    "execution": {
     "iopub.execute_input": "2023-02-27T21:18:42.076544Z",
     "iopub.status.busy": "2023-02-27T21:18:42.075788Z",
     "iopub.status.idle": "2023-02-27T21:18:42.497511Z",
     "shell.execute_reply": "2023-02-27T21:18:42.496454Z"
    },
    "papermill": {
     "duration": 0.461255,
     "end_time": "2023-02-27T21:18:42.499773",
     "exception": false,
     "start_time": "2023-02-27T21:18:42.038518",
     "status": "completed"
    },
    "tags": []
   },
   "outputs": [
    {
     "data": {
      "image/png": "[encoded data removed]",
      "text/plain": [
       "<Figure size 1800x600 with 1 Axes>"
      ]
     },
     "metadata": {},
     "output_type": "display_data"
    }
   ],
   "source": [
    "card_type_colors = [colors_dict[i] for i in bandai_df['Card type'].value_counts().index]\n",
    "bandai_df['Card type'].value_counts().plot.bar(figsize = (18,6), grid = True, rot=0, color = card_type_colors, title = 'Card type')\n",
    "plt.show()"
   ]
  },
  {
   "cell_type": "markdown",
   "id": "00c6b243-67ad-42c5-9189-4d2d33c5372c",
   "metadata": {
    "papermill": {
     "duration": 0.068078,
     "end_time": "2023-02-27T21:18:42.583066",
     "exception": false,
     "start_time": "2023-02-27T21:18:42.514988",
     "status": "completed"
    },
    "tags": []
   },
   "source": [
    "## ATK"
   ]
  },
  {
   "cell_type": "code",
   "execution_count": 10,
   "id": "1b5db865",
   "metadata": {
    "execution": {
     "iopub.execute_input": "2023-02-27T21:18:42.613721Z",
     "iopub.status.busy": "2023-02-27T21:18:42.613191Z",
     "iopub.status.idle": "2023-02-27T21:18:42.624783Z",
     "shell.execute_reply": "2023-02-27T21:18:42.623901Z"
    },
    "papermill": {
     "duration": 0.030372,
     "end_time": "2023-02-27T21:18:42.627726",
     "exception": false,
     "start_time": "2023-02-27T21:18:42.597354",
     "status": "completed"
    },
    "tags": []
   },
   "outputs": [
    {
     "name": "stdout",
     "output_type": "stream",
     "text": [
      "Total number of ATK values:"
     ]
    },
    {
     "name": "stdout",
     "output_type": "stream",
     "text": [
      " "
     ]
    },
    {
     "name": "stdout",
     "output_type": "stream",
     "text": [
      "27"
     ]
    },
    {
     "name": "stdout",
     "output_type": "stream",
     "text": [
      "\n"
     ]
    }
   ],
   "source": [
    "print('Total number of ATK values:', bandai_df['ATK'].nunique())"
   ]
  },
  {
   "cell_type": "code",
   "execution_count": 11,
   "id": "16b9aa14",
   "metadata": {
    "execution": {
     "iopub.execute_input": "2023-02-27T21:18:42.689509Z",
     "iopub.status.busy": "2023-02-27T21:18:42.688804Z",
     "iopub.status.idle": "2023-02-27T21:18:42.717547Z",
     "shell.execute_reply": "2023-02-27T21:18:42.715611Z"
    },
    "papermill": {
     "duration": 0.075855,
     "end_time": "2023-02-27T21:18:42.719781",
     "exception": false,
     "start_time": "2023-02-27T21:18:42.643926",
     "status": "completed"
    },
    "tags": []
   },
   "outputs": [
    {
     "data": {
      "text/html": [
       "<div>\n",
       "<style scoped>\n",
       "    .dataframe tbody tr th:only-of-type {\n",
       "        vertical-align: middle;\n",
       "    }\n",
       "\n",
       "    .dataframe tbody tr th {\n",
       "        vertical-align: top;\n",
       "    }\n",
       "\n",
       "    .dataframe thead th {\n",
       "        text-align: right;\n",
       "    }\n",
       "</style>\n",
       "<table border=\"1\" class=\"dataframe\">\n",
       "  <thead>\n",
       "    <tr style=\"text-align: right;\">\n",
       "      <th></th>\n",
       "      <th>Name</th>\n",
       "      <th>Monster type</th>\n",
       "      <th>DEF</th>\n",
       "      <th>Set</th>\n",
       "      <th>Card number</th>\n",
       "      <th>Ability</th>\n",
       "      <th>Rule</th>\n",
       "      <th>Level</th>\n",
       "    </tr>\n",
       "    <tr>\n",
       "      <th>ATK</th>\n",
       "      <th></th>\n",
       "      <th></th>\n",
       "      <th></th>\n",
       "      <th></th>\n",
       "      <th></th>\n",
       "      <th></th>\n",
       "      <th></th>\n",
       "      <th></th>\n",
       "    </tr>\n",
       "  </thead>\n",
       "  <tbody>\n",
       "    <tr>\n",
       "      <th>100</th>\n",
       "      <td>1</td>\n",
       "      <td>1</td>\n",
       "      <td>1</td>\n",
       "      <td>1</td>\n",
       "      <td>1</td>\n",
       "      <td>0</td>\n",
       "      <td>0</td>\n",
       "      <td>1</td>\n",
       "    </tr>\n",
       "    <tr>\n",
       "      <th>200</th>\n",
       "      <td>5</td>\n",
       "      <td>1</td>\n",
       "      <td>2</td>\n",
       "      <td>2</td>\n",
       "      <td>5</td>\n",
       "      <td>0</td>\n",
       "      <td>0</td>\n",
       "      <td>2</td>\n",
       "    </tr>\n",
       "    <tr>\n",
       "      <th>400</th>\n",
       "      <td>1</td>\n",
       "      <td>1</td>\n",
       "      <td>1</td>\n",
       "      <td>1</td>\n",
       "      <td>1</td>\n",
       "      <td>0</td>\n",
       "      <td>0</td>\n",
       "      <td>1</td>\n",
       "    </tr>\n",
       "    <tr>\n",
       "      <th>500</th>\n",
       "      <td>2</td>\n",
       "      <td>2</td>\n",
       "      <td>2</td>\n",
       "      <td>2</td>\n",
       "      <td>2</td>\n",
       "      <td>0</td>\n",
       "      <td>2</td>\n",
       "      <td>1</td>\n",
       "    </tr>\n",
       "    <tr>\n",
       "      <th>600</th>\n",
       "      <td>2</td>\n",
       "      <td>2</td>\n",
       "      <td>2</td>\n",
       "      <td>1</td>\n",
       "      <td>2</td>\n",
       "      <td>0</td>\n",
       "      <td>2</td>\n",
       "      <td>2</td>\n",
       "    </tr>\n",
       "    <tr>\n",
       "      <th>800</th>\n",
       "      <td>3</td>\n",
       "      <td>3</td>\n",
       "      <td>3</td>\n",
       "      <td>3</td>\n",
       "      <td>3</td>\n",
       "      <td>0</td>\n",
       "      <td>2</td>\n",
       "      <td>2</td>\n",
       "    </tr>\n",
       "    <tr>\n",
       "      <th>900</th>\n",
       "      <td>1</td>\n",
       "      <td>1</td>\n",
       "      <td>1</td>\n",
       "      <td>1</td>\n",
       "      <td>1</td>\n",
       "      <td>0</td>\n",
       "      <td>1</td>\n",
       "      <td>1</td>\n",
       "    </tr>\n",
       "    <tr>\n",
       "      <th>1000</th>\n",
       "      <td>3</td>\n",
       "      <td>2</td>\n",
       "      <td>3</td>\n",
       "      <td>2</td>\n",
       "      <td>3</td>\n",
       "      <td>0</td>\n",
       "      <td>2</td>\n",
       "      <td>2</td>\n",
       "    </tr>\n",
       "    <tr>\n",
       "      <th>1200</th>\n",
       "      <td>2</td>\n",
       "      <td>2</td>\n",
       "      <td>2</td>\n",
       "      <td>2</td>\n",
       "      <td>2</td>\n",
       "      <td>0</td>\n",
       "      <td>2</td>\n",
       "      <td>2</td>\n",
       "    </tr>\n",
       "    <tr>\n",
       "      <th>1300</th>\n",
       "      <td>2</td>\n",
       "      <td>2</td>\n",
       "      <td>2</td>\n",
       "      <td>2</td>\n",
       "      <td>2</td>\n",
       "      <td>0</td>\n",
       "      <td>2</td>\n",
       "      <td>2</td>\n",
       "    </tr>\n",
       "    <tr>\n",
       "      <th>1400</th>\n",
       "      <td>2</td>\n",
       "      <td>2</td>\n",
       "      <td>2</td>\n",
       "      <td>2</td>\n",
       "      <td>2</td>\n",
       "      <td>0</td>\n",
       "      <td>2</td>\n",
       "      <td>2</td>\n",
       "    </tr>\n",
       "    <tr>\n",
       "      <th>1500</th>\n",
       "      <td>10</td>\n",
       "      <td>6</td>\n",
       "      <td>6</td>\n",
       "      <td>2</td>\n",
       "      <td>10</td>\n",
       "      <td>0</td>\n",
       "      <td>6</td>\n",
       "      <td>4</td>\n",
       "    </tr>\n",
       "    <tr>\n",
       "      <th>1600</th>\n",
       "      <td>2</td>\n",
       "      <td>1</td>\n",
       "      <td>2</td>\n",
       "      <td>1</td>\n",
       "      <td>2</td>\n",
       "      <td>0</td>\n",
       "      <td>1</td>\n",
       "      <td>2</td>\n",
       "    </tr>\n",
       "    <tr>\n",
       "      <th>1700</th>\n",
       "      <td>1</td>\n",
       "      <td>1</td>\n",
       "      <td>1</td>\n",
       "      <td>1</td>\n",
       "      <td>1</td>\n",
       "      <td>0</td>\n",
       "      <td>1</td>\n",
       "      <td>1</td>\n",
       "    </tr>\n",
       "    <tr>\n",
       "      <th>1800</th>\n",
       "      <td>10</td>\n",
       "      <td>6</td>\n",
       "      <td>5</td>\n",
       "      <td>3</td>\n",
       "      <td>10</td>\n",
       "      <td>0</td>\n",
       "      <td>5</td>\n",
       "      <td>5</td>\n",
       "    </tr>\n",
       "    <tr>\n",
       "      <th>1900</th>\n",
       "      <td>1</td>\n",
       "      <td>1</td>\n",
       "      <td>1</td>\n",
       "      <td>1</td>\n",
       "      <td>1</td>\n",
       "      <td>0</td>\n",
       "      <td>1</td>\n",
       "      <td>1</td>\n",
       "    </tr>\n",
       "    <tr>\n",
       "      <th>2000</th>\n",
       "      <td>10</td>\n",
       "      <td>6</td>\n",
       "      <td>8</td>\n",
       "      <td>3</td>\n",
       "      <td>10</td>\n",
       "      <td>0</td>\n",
       "      <td>7</td>\n",
       "      <td>3</td>\n",
       "    </tr>\n",
       "    <tr>\n",
       "      <th>2100</th>\n",
       "      <td>4</td>\n",
       "      <td>3</td>\n",
       "      <td>3</td>\n",
       "      <td>2</td>\n",
       "      <td>4</td>\n",
       "      <td>0</td>\n",
       "      <td>3</td>\n",
       "      <td>2</td>\n",
       "    </tr>\n",
       "    <tr>\n",
       "      <th>2200</th>\n",
       "      <td>2</td>\n",
       "      <td>2</td>\n",
       "      <td>2</td>\n",
       "      <td>1</td>\n",
       "      <td>2</td>\n",
       "      <td>0</td>\n",
       "      <td>2</td>\n",
       "      <td>2</td>\n",
       "    </tr>\n",
       "    <tr>\n",
       "      <th>2300</th>\n",
       "      <td>8</td>\n",
       "      <td>5</td>\n",
       "      <td>6</td>\n",
       "      <td>3</td>\n",
       "      <td>8</td>\n",
       "      <td>0</td>\n",
       "      <td>6</td>\n",
       "      <td>2</td>\n",
       "    </tr>\n",
       "    <tr>\n",
       "      <th>2400</th>\n",
       "      <td>9</td>\n",
       "      <td>5</td>\n",
       "      <td>8</td>\n",
       "      <td>3</td>\n",
       "      <td>9</td>\n",
       "      <td>0</td>\n",
       "      <td>6</td>\n",
       "      <td>4</td>\n",
       "    </tr>\n",
       "    <tr>\n",
       "      <th>2500</th>\n",
       "      <td>5</td>\n",
       "      <td>4</td>\n",
       "      <td>5</td>\n",
       "      <td>2</td>\n",
       "      <td>5</td>\n",
       "      <td>0</td>\n",
       "      <td>4</td>\n",
       "      <td>3</td>\n",
       "    </tr>\n",
       "    <tr>\n",
       "      <th>2600</th>\n",
       "      <td>4</td>\n",
       "      <td>4</td>\n",
       "      <td>4</td>\n",
       "      <td>2</td>\n",
       "      <td>4</td>\n",
       "      <td>0</td>\n",
       "      <td>3</td>\n",
       "      <td>2</td>\n",
       "    </tr>\n",
       "    <tr>\n",
       "      <th>3000</th>\n",
       "      <td>1</td>\n",
       "      <td>1</td>\n",
       "      <td>1</td>\n",
       "      <td>2</td>\n",
       "      <td>2</td>\n",
       "      <td>0</td>\n",
       "      <td>1</td>\n",
       "      <td>1</td>\n",
       "    </tr>\n",
       "    <tr>\n",
       "      <th>3200</th>\n",
       "      <td>1</td>\n",
       "      <td>1</td>\n",
       "      <td>1</td>\n",
       "      <td>1</td>\n",
       "      <td>1</td>\n",
       "      <td>0</td>\n",
       "      <td>0</td>\n",
       "      <td>1</td>\n",
       "    </tr>\n",
       "    <tr>\n",
       "      <th>3500</th>\n",
       "      <td>1</td>\n",
       "      <td>1</td>\n",
       "      <td>1</td>\n",
       "      <td>1</td>\n",
       "      <td>1</td>\n",
       "      <td>0</td>\n",
       "      <td>0</td>\n",
       "      <td>1</td>\n",
       "    </tr>\n",
       "    <tr>\n",
       "      <th>4500</th>\n",
       "      <td>1</td>\n",
       "      <td>1</td>\n",
       "      <td>1</td>\n",
       "      <td>1</td>\n",
       "      <td>0</td>\n",
       "      <td>0</td>\n",
       "      <td>0</td>\n",
       "      <td>1</td>\n",
       "    </tr>\n",
       "  </tbody>\n",
       "</table>\n",
       "</div>"
      ],
      "text/plain": [
       "      Name  Monster type  DEF  Set  Card number  Ability  Rule  Level\n",
       "ATK                                                                  \n",
       "100      1             1    1    1            1        0     0      1\n",
       "200      5             1    2    2            5        0     0      2\n",
       "400      1             1    1    1            1        0     0      1\n",
       "500      2             2    2    2            2        0     2      1\n",
       "600      2             2    2    1            2        0     2      2\n",
       "800      3             3    3    3            3        0     2      2\n",
       "900      1             1    1    1            1        0     1      1\n",
       "1000     3             2    3    2            3        0     2      2\n",
       "1200     2             2    2    2            2        0     2      2\n",
       "1300     2             2    2    2            2        0     2      2\n",
       "1400     2             2    2    2            2        0     2      2\n",
       "1500    10             6    6    2           10        0     6      4\n",
       "1600     2             1    2    1            2        0     1      2\n",
       "1700     1             1    1    1            1        0     1      1\n",
       "1800    10             6    5    3           10        0     5      5\n",
       "1900     1             1    1    1            1        0     1      1\n",
       "2000    10             6    8    3           10        0     7      3\n",
       "2100     4             3    3    2            4        0     3      2\n",
       "2200     2             2    2    1            2        0     2      2\n",
       "2300     8             5    6    3            8        0     6      2\n",
       "2400     9             5    8    3            9        0     6      4\n",
       "2500     5             4    5    2            5        0     4      3\n",
       "2600     4             4    4    2            4        0     3      2\n",
       "3000     1             1    1    2            2        0     1      1\n",
       "3200     1             1    1    1            1        0     0      1\n",
       "3500     1             1    1    1            1        0     0      1\n",
       "4500     1             1    1    1            0        0     0      1"
      ]
     },
     "execution_count": 11,
     "metadata": {},
     "output_type": "execute_result"
    }
   ],
   "source": [
    "bandai_df.drop(columns=['Card type', 'Page name', 'Page URL']).groupby('ATK').nunique().sort_index(key=lambda x: pd.to_numeric(x, errors = 'coerce'))"
   ]
  },
  {
   "cell_type": "code",
   "execution_count": 12,
   "id": "3b1b2e1d",
   "metadata": {
    "execution": {
     "iopub.execute_input": "2023-02-27T21:18:42.752208Z",
     "iopub.status.busy": "2023-02-27T21:18:42.751349Z",
     "iopub.status.idle": "2023-02-27T21:18:43.224855Z",
     "shell.execute_reply": "2023-02-27T21:18:43.223897Z"
    },
    "papermill": {
     "duration": 0.492807,
     "end_time": "2023-02-27T21:18:43.227833",
     "exception": false,
     "start_time": "2023-02-27T21:18:42.735026",
     "status": "completed"
    },
    "tags": []
   },
   "outputs": [
    {
     "data": {
      "image/png": "[encoded data removed]",
      "text/plain": [
       "<Figure size 1800x600 with 1 Axes>"
      ]
     },
     "metadata": {},
     "output_type": "display_data"
    }
   ],
   "source": [
    "atk_colors = colors_dict['Monster Card']\n",
    "bandai_df['ATK'].value_counts().sort_index(key=lambda x: pd.to_numeric(x, errors = 'coerce')).plot.bar(figsize = (18,6), grid = True, color = atk_colors, title = 'ATK')\n",
    "plt.show()"
   ]
  },
  {
   "cell_type": "markdown",
   "id": "8c7f10ac-6c4e-42fe-be55-c2ea61abb7ae",
   "metadata": {
    "papermill": {
     "duration": 0.137772,
     "end_time": "2023-02-27T21:18:43.388010",
     "exception": false,
     "start_time": "2023-02-27T21:18:43.250238",
     "status": "completed"
    },
    "tags": []
   },
   "source": [
    "## DEF"
   ]
  },
  {
   "cell_type": "code",
   "execution_count": 13,
   "id": "2aa0ba61",
   "metadata": {
    "execution": {
     "iopub.execute_input": "2023-02-27T21:18:43.806701Z",
     "iopub.status.busy": "2023-02-27T21:18:43.805628Z",
     "iopub.status.idle": "2023-02-27T21:18:43.815601Z",
     "shell.execute_reply": "2023-02-27T21:18:43.814307Z"
    },
    "papermill": {
     "duration": 0.115492,
     "end_time": "2023-02-27T21:18:43.821337",
     "exception": false,
     "start_time": "2023-02-27T21:18:43.705845",
     "status": "completed"
    },
    "tags": []
   },
   "outputs": [
    {
     "name": "stdout",
     "output_type": "stream",
     "text": [
      "Total number of DEF values:"
     ]
    },
    {
     "name": "stdout",
     "output_type": "stream",
     "text": [
      " "
     ]
    },
    {
     "name": "stdout",
     "output_type": "stream",
     "text": [
      "27"
     ]
    },
    {
     "name": "stdout",
     "output_type": "stream",
     "text": [
      "\n"
     ]
    }
   ],
   "source": [
    "print('Total number of DEF values:', bandai_df['DEF'].nunique())"
   ]
  },
  {
   "cell_type": "code",
   "execution_count": 14,
   "id": "54e9d56a",
   "metadata": {
    "execution": {
     "iopub.execute_input": "2023-02-27T21:18:43.857914Z",
     "iopub.status.busy": "2023-02-27T21:18:43.857332Z",
     "iopub.status.idle": "2023-02-27T21:18:43.884861Z",
     "shell.execute_reply": "2023-02-27T21:18:43.883921Z"
    },
    "papermill": {
     "duration": 0.049172,
     "end_time": "2023-02-27T21:18:43.887781",
     "exception": false,
     "start_time": "2023-02-27T21:18:43.838609",
     "status": "completed"
    },
    "tags": []
   },
   "outputs": [
    {
     "data": {
      "text/html": [
       "<div>\n",
       "<style scoped>\n",
       "    .dataframe tbody tr th:only-of-type {\n",
       "        vertical-align: middle;\n",
       "    }\n",
       "\n",
       "    .dataframe tbody tr th {\n",
       "        vertical-align: top;\n",
       "    }\n",
       "\n",
       "    .dataframe thead th {\n",
       "        text-align: right;\n",
       "    }\n",
       "</style>\n",
       "<table border=\"1\" class=\"dataframe\">\n",
       "  <thead>\n",
       "    <tr style=\"text-align: right;\">\n",
       "      <th></th>\n",
       "      <th>Name</th>\n",
       "      <th>Monster type</th>\n",
       "      <th>Set</th>\n",
       "      <th>Card number</th>\n",
       "      <th>Ability</th>\n",
       "      <th>Rule</th>\n",
       "      <th>ATK</th>\n",
       "      <th>Level</th>\n",
       "    </tr>\n",
       "    <tr>\n",
       "      <th>DEF</th>\n",
       "      <th></th>\n",
       "      <th></th>\n",
       "      <th></th>\n",
       "      <th></th>\n",
       "      <th></th>\n",
       "      <th></th>\n",
       "      <th></th>\n",
       "      <th></th>\n",
       "    </tr>\n",
       "  </thead>\n",
       "  <tbody>\n",
       "    <tr>\n",
       "      <th>0</th>\n",
       "      <td>2</td>\n",
       "      <td>1</td>\n",
       "      <td>1</td>\n",
       "      <td>2</td>\n",
       "      <td>0</td>\n",
       "      <td>2</td>\n",
       "      <td>2</td>\n",
       "      <td>2</td>\n",
       "    </tr>\n",
       "    <tr>\n",
       "      <th>200</th>\n",
       "      <td>1</td>\n",
       "      <td>1</td>\n",
       "      <td>1</td>\n",
       "      <td>1</td>\n",
       "      <td>0</td>\n",
       "      <td>0</td>\n",
       "      <td>1</td>\n",
       "      <td>1</td>\n",
       "    </tr>\n",
       "    <tr>\n",
       "      <th>300</th>\n",
       "      <td>5</td>\n",
       "      <td>1</td>\n",
       "      <td>3</td>\n",
       "      <td>5</td>\n",
       "      <td>0</td>\n",
       "      <td>1</td>\n",
       "      <td>2</td>\n",
       "      <td>2</td>\n",
       "    </tr>\n",
       "    <tr>\n",
       "      <th>400</th>\n",
       "      <td>3</td>\n",
       "      <td>3</td>\n",
       "      <td>2</td>\n",
       "      <td>3</td>\n",
       "      <td>0</td>\n",
       "      <td>2</td>\n",
       "      <td>3</td>\n",
       "      <td>3</td>\n",
       "    </tr>\n",
       "    <tr>\n",
       "      <th>500</th>\n",
       "      <td>1</td>\n",
       "      <td>1</td>\n",
       "      <td>1</td>\n",
       "      <td>1</td>\n",
       "      <td>0</td>\n",
       "      <td>1</td>\n",
       "      <td>1</td>\n",
       "      <td>1</td>\n",
       "    </tr>\n",
       "    <tr>\n",
       "      <th>600</th>\n",
       "      <td>5</td>\n",
       "      <td>4</td>\n",
       "      <td>3</td>\n",
       "      <td>5</td>\n",
       "      <td>0</td>\n",
       "      <td>4</td>\n",
       "      <td>5</td>\n",
       "      <td>3</td>\n",
       "    </tr>\n",
       "    <tr>\n",
       "      <th>700</th>\n",
       "      <td>4</td>\n",
       "      <td>2</td>\n",
       "      <td>2</td>\n",
       "      <td>4</td>\n",
       "      <td>0</td>\n",
       "      <td>2</td>\n",
       "      <td>2</td>\n",
       "      <td>2</td>\n",
       "    </tr>\n",
       "    <tr>\n",
       "      <th>800</th>\n",
       "      <td>3</td>\n",
       "      <td>3</td>\n",
       "      <td>2</td>\n",
       "      <td>3</td>\n",
       "      <td>0</td>\n",
       "      <td>3</td>\n",
       "      <td>2</td>\n",
       "      <td>3</td>\n",
       "    </tr>\n",
       "    <tr>\n",
       "      <th>900</th>\n",
       "      <td>2</td>\n",
       "      <td>2</td>\n",
       "      <td>2</td>\n",
       "      <td>2</td>\n",
       "      <td>0</td>\n",
       "      <td>1</td>\n",
       "      <td>2</td>\n",
       "      <td>2</td>\n",
       "    </tr>\n",
       "    <tr>\n",
       "      <th>1000</th>\n",
       "      <td>4</td>\n",
       "      <td>2</td>\n",
       "      <td>2</td>\n",
       "      <td>4</td>\n",
       "      <td>0</td>\n",
       "      <td>3</td>\n",
       "      <td>4</td>\n",
       "      <td>4</td>\n",
       "    </tr>\n",
       "    <tr>\n",
       "      <th>1300</th>\n",
       "      <td>3</td>\n",
       "      <td>3</td>\n",
       "      <td>2</td>\n",
       "      <td>3</td>\n",
       "      <td>0</td>\n",
       "      <td>2</td>\n",
       "      <td>3</td>\n",
       "      <td>2</td>\n",
       "    </tr>\n",
       "    <tr>\n",
       "      <th>1400</th>\n",
       "      <td>2</td>\n",
       "      <td>1</td>\n",
       "      <td>1</td>\n",
       "      <td>2</td>\n",
       "      <td>0</td>\n",
       "      <td>2</td>\n",
       "      <td>1</td>\n",
       "      <td>1</td>\n",
       "    </tr>\n",
       "    <tr>\n",
       "      <th>1500</th>\n",
       "      <td>8</td>\n",
       "      <td>4</td>\n",
       "      <td>2</td>\n",
       "      <td>8</td>\n",
       "      <td>0</td>\n",
       "      <td>4</td>\n",
       "      <td>3</td>\n",
       "      <td>3</td>\n",
       "    </tr>\n",
       "    <tr>\n",
       "      <th>1600</th>\n",
       "      <td>6</td>\n",
       "      <td>4</td>\n",
       "      <td>2</td>\n",
       "      <td>6</td>\n",
       "      <td>0</td>\n",
       "      <td>6</td>\n",
       "      <td>5</td>\n",
       "      <td>4</td>\n",
       "    </tr>\n",
       "    <tr>\n",
       "      <th>1700</th>\n",
       "      <td>1</td>\n",
       "      <td>1</td>\n",
       "      <td>1</td>\n",
       "      <td>1</td>\n",
       "      <td>0</td>\n",
       "      <td>1</td>\n",
       "      <td>1</td>\n",
       "      <td>1</td>\n",
       "    </tr>\n",
       "    <tr>\n",
       "      <th>1800</th>\n",
       "      <td>3</td>\n",
       "      <td>3</td>\n",
       "      <td>2</td>\n",
       "      <td>3</td>\n",
       "      <td>0</td>\n",
       "      <td>3</td>\n",
       "      <td>3</td>\n",
       "      <td>3</td>\n",
       "    </tr>\n",
       "    <tr>\n",
       "      <th>1900</th>\n",
       "      <td>2</td>\n",
       "      <td>2</td>\n",
       "      <td>2</td>\n",
       "      <td>2</td>\n",
       "      <td>0</td>\n",
       "      <td>2</td>\n",
       "      <td>2</td>\n",
       "      <td>2</td>\n",
       "    </tr>\n",
       "    <tr>\n",
       "      <th>2000</th>\n",
       "      <td>9</td>\n",
       "      <td>7</td>\n",
       "      <td>3</td>\n",
       "      <td>9</td>\n",
       "      <td>0</td>\n",
       "      <td>6</td>\n",
       "      <td>5</td>\n",
       "      <td>4</td>\n",
       "    </tr>\n",
       "    <tr>\n",
       "      <th>2100</th>\n",
       "      <td>4</td>\n",
       "      <td>2</td>\n",
       "      <td>2</td>\n",
       "      <td>4</td>\n",
       "      <td>0</td>\n",
       "      <td>4</td>\n",
       "      <td>4</td>\n",
       "      <td>2</td>\n",
       "    </tr>\n",
       "    <tr>\n",
       "      <th>2200</th>\n",
       "      <td>7</td>\n",
       "      <td>4</td>\n",
       "      <td>3</td>\n",
       "      <td>7</td>\n",
       "      <td>0</td>\n",
       "      <td>3</td>\n",
       "      <td>7</td>\n",
       "      <td>3</td>\n",
       "    </tr>\n",
       "    <tr>\n",
       "      <th>2300</th>\n",
       "      <td>5</td>\n",
       "      <td>4</td>\n",
       "      <td>2</td>\n",
       "      <td>5</td>\n",
       "      <td>0</td>\n",
       "      <td>4</td>\n",
       "      <td>5</td>\n",
       "      <td>3</td>\n",
       "    </tr>\n",
       "    <tr>\n",
       "      <th>2400</th>\n",
       "      <td>5</td>\n",
       "      <td>5</td>\n",
       "      <td>2</td>\n",
       "      <td>5</td>\n",
       "      <td>0</td>\n",
       "      <td>3</td>\n",
       "      <td>4</td>\n",
       "      <td>3</td>\n",
       "    </tr>\n",
       "    <tr>\n",
       "      <th>2500</th>\n",
       "      <td>4</td>\n",
       "      <td>3</td>\n",
       "      <td>2</td>\n",
       "      <td>5</td>\n",
       "      <td>0</td>\n",
       "      <td>4</td>\n",
       "      <td>4</td>\n",
       "      <td>4</td>\n",
       "    </tr>\n",
       "    <tr>\n",
       "      <th>2600</th>\n",
       "      <td>2</td>\n",
       "      <td>2</td>\n",
       "      <td>2</td>\n",
       "      <td>2</td>\n",
       "      <td>0</td>\n",
       "      <td>1</td>\n",
       "      <td>2</td>\n",
       "      <td>1</td>\n",
       "    </tr>\n",
       "    <tr>\n",
       "      <th>2800</th>\n",
       "      <td>1</td>\n",
       "      <td>1</td>\n",
       "      <td>1</td>\n",
       "      <td>1</td>\n",
       "      <td>0</td>\n",
       "      <td>1</td>\n",
       "      <td>1</td>\n",
       "      <td>1</td>\n",
       "    </tr>\n",
       "    <tr>\n",
       "      <th>3000</th>\n",
       "      <td>1</td>\n",
       "      <td>1</td>\n",
       "      <td>1</td>\n",
       "      <td>0</td>\n",
       "      <td>0</td>\n",
       "      <td>0</td>\n",
       "      <td>1</td>\n",
       "      <td>1</td>\n",
       "    </tr>\n",
       "    <tr>\n",
       "      <th>3500</th>\n",
       "      <td>1</td>\n",
       "      <td>1</td>\n",
       "      <td>1</td>\n",
       "      <td>1</td>\n",
       "      <td>0</td>\n",
       "      <td>0</td>\n",
       "      <td>1</td>\n",
       "      <td>1</td>\n",
       "    </tr>\n",
       "  </tbody>\n",
       "</table>\n",
       "</div>"
      ],
      "text/plain": [
       "      Name  Monster type  Set  Card number  Ability  Rule  ATK  Level\n",
       "DEF                                                                  \n",
       "0        2             1    1            2        0     2    2      2\n",
       "200      1             1    1            1        0     0    1      1\n",
       "300      5             1    3            5        0     1    2      2\n",
       "400      3             3    2            3        0     2    3      3\n",
       "500      1             1    1            1        0     1    1      1\n",
       "600      5             4    3            5        0     4    5      3\n",
       "700      4             2    2            4        0     2    2      2\n",
       "800      3             3    2            3        0     3    2      3\n",
       "900      2             2    2            2        0     1    2      2\n",
       "1000     4             2    2            4        0     3    4      4\n",
       "1300     3             3    2            3        0     2    3      2\n",
       "1400     2             1    1            2        0     2    1      1\n",
       "1500     8             4    2            8        0     4    3      3\n",
       "1600     6             4    2            6        0     6    5      4\n",
       "1700     1             1    1            1        0     1    1      1\n",
       "1800     3             3    2            3        0     3    3      3\n",
       "1900     2             2    2            2        0     2    2      2\n",
       "2000     9             7    3            9        0     6    5      4\n",
       "2100     4             2    2            4        0     4    4      2\n",
       "2200     7             4    3            7        0     3    7      3\n",
       "2300     5             4    2            5        0     4    5      3\n",
       "2400     5             5    2            5        0     3    4      3\n",
       "2500     4             3    2            5        0     4    4      4\n",
       "2600     2             2    2            2        0     1    2      1\n",
       "2800     1             1    1            1        0     1    1      1\n",
       "3000     1             1    1            0        0     0    1      1\n",
       "3500     1             1    1            1        0     0    1      1"
      ]
     },
     "execution_count": 14,
     "metadata": {},
     "output_type": "execute_result"
    }
   ],
   "source": [
    "bandai_df.drop(columns=['Card type', 'Page name', 'Page URL']).groupby('DEF').nunique().sort_index(key=lambda x: pd.to_numeric(x, errors = 'coerce'))"
   ]
  },
  {
   "cell_type": "code",
   "execution_count": 15,
   "id": "10aeff48",
   "metadata": {
    "execution": {
     "iopub.execute_input": "2023-02-27T21:18:43.926840Z",
     "iopub.status.busy": "2023-02-27T21:18:43.925893Z",
     "iopub.status.idle": "2023-02-27T21:18:44.503610Z",
     "shell.execute_reply": "2023-02-27T21:18:44.502045Z"
    },
    "papermill": {
     "duration": 0.600489,
     "end_time": "2023-02-27T21:18:44.506248",
     "exception": false,
     "start_time": "2023-02-27T21:18:43.905759",
     "status": "completed"
    },
    "tags": []
   },
   "outputs": [
    {
     "data": {
      "image/png": "[encoded data removed]",
      "text/plain": [
       "<Figure size 1800x600 with 1 Axes>"
      ]
     },
     "metadata": {},
     "output_type": "display_data"
    }
   ],
   "source": [
    "def_colors = colors_dict['Monster Card']\n",
    "bandai_df['DEF'].value_counts().sort_index(key=lambda x: pd.to_numeric(x, errors = 'coerce')).plot.bar(figsize = (18,6), grid = True, color = def_colors, title = 'DEF')\n",
    "plt.show()"
   ]
  },
  {
   "cell_type": "markdown",
   "id": "02b9970b-696d-4ef0-b01d-0385e6c53575",
   "metadata": {
    "papermill": {
     "duration": 0.233519,
     "end_time": "2023-02-27T21:18:44.757548",
     "exception": false,
     "start_time": "2023-02-27T21:18:44.524029",
     "status": "completed"
    },
    "tags": []
   },
   "source": [
    "## Level"
   ]
  },
  {
   "cell_type": "code",
   "execution_count": 16,
   "id": "f5543138",
   "metadata": {
    "execution": {
     "iopub.execute_input": "2023-02-27T21:18:44.913584Z",
     "iopub.status.busy": "2023-02-27T21:18:44.913168Z",
     "iopub.status.idle": "2023-02-27T21:18:44.940357Z",
     "shell.execute_reply": "2023-02-27T21:18:44.939087Z"
    },
    "papermill": {
     "duration": 0.169199,
     "end_time": "2023-02-27T21:18:44.944433",
     "exception": false,
     "start_time": "2023-02-27T21:18:44.775234",
     "status": "completed"
    },
    "tags": []
   },
   "outputs": [
    {
     "data": {
      "text/html": [
       "<div>\n",
       "<style scoped>\n",
       "    .dataframe tbody tr th:only-of-type {\n",
       "        vertical-align: middle;\n",
       "    }\n",
       "\n",
       "    .dataframe tbody tr th {\n",
       "        vertical-align: top;\n",
       "    }\n",
       "\n",
       "    .dataframe thead th {\n",
       "        text-align: right;\n",
       "    }\n",
       "</style>\n",
       "<table border=\"1\" class=\"dataframe\">\n",
       "  <thead>\n",
       "    <tr style=\"text-align: right;\">\n",
       "      <th></th>\n",
       "      <th>Name</th>\n",
       "      <th>Monster type</th>\n",
       "      <th>DEF</th>\n",
       "      <th>Set</th>\n",
       "      <th>Card number</th>\n",
       "      <th>Ability</th>\n",
       "      <th>Rule</th>\n",
       "      <th>ATK</th>\n",
       "    </tr>\n",
       "    <tr>\n",
       "      <th>Level</th>\n",
       "      <th></th>\n",
       "      <th></th>\n",
       "      <th></th>\n",
       "      <th></th>\n",
       "      <th></th>\n",
       "      <th></th>\n",
       "      <th></th>\n",
       "      <th></th>\n",
       "    </tr>\n",
       "  </thead>\n",
       "  <tbody>\n",
       "    <tr>\n",
       "      <th>1</th>\n",
       "      <td>5</td>\n",
       "      <td>1</td>\n",
       "      <td>2</td>\n",
       "      <td>2</td>\n",
       "      <td>5</td>\n",
       "      <td>0</td>\n",
       "      <td>1</td>\n",
       "      <td>2</td>\n",
       "    </tr>\n",
       "    <tr>\n",
       "      <th>2</th>\n",
       "      <td>4</td>\n",
       "      <td>3</td>\n",
       "      <td>4</td>\n",
       "      <td>3</td>\n",
       "      <td>4</td>\n",
       "      <td>0</td>\n",
       "      <td>2</td>\n",
       "      <td>3</td>\n",
       "    </tr>\n",
       "    <tr>\n",
       "      <th>3</th>\n",
       "      <td>3</td>\n",
       "      <td>2</td>\n",
       "      <td>3</td>\n",
       "      <td>2</td>\n",
       "      <td>3</td>\n",
       "      <td>0</td>\n",
       "      <td>3</td>\n",
       "      <td>3</td>\n",
       "    </tr>\n",
       "    <tr>\n",
       "      <th>4</th>\n",
       "      <td>17</td>\n",
       "      <td>8</td>\n",
       "      <td>10</td>\n",
       "      <td>3</td>\n",
       "      <td>17</td>\n",
       "      <td>2</td>\n",
       "      <td>10</td>\n",
       "      <td>9</td>\n",
       "    </tr>\n",
       "    <tr>\n",
       "      <th>5</th>\n",
       "      <td>34</td>\n",
       "      <td>10</td>\n",
       "      <td>17</td>\n",
       "      <td>3</td>\n",
       "      <td>34</td>\n",
       "      <td>1</td>\n",
       "      <td>13</td>\n",
       "      <td>15</td>\n",
       "    </tr>\n",
       "    <tr>\n",
       "      <th>6</th>\n",
       "      <td>23</td>\n",
       "      <td>10</td>\n",
       "      <td>15</td>\n",
       "      <td>3</td>\n",
       "      <td>23</td>\n",
       "      <td>2</td>\n",
       "      <td>9</td>\n",
       "      <td>12</td>\n",
       "    </tr>\n",
       "    <tr>\n",
       "      <th>7</th>\n",
       "      <td>10</td>\n",
       "      <td>6</td>\n",
       "      <td>7</td>\n",
       "      <td>2</td>\n",
       "      <td>10</td>\n",
       "      <td>1</td>\n",
       "      <td>6</td>\n",
       "      <td>5</td>\n",
       "    </tr>\n",
       "    <tr>\n",
       "      <th>8</th>\n",
       "      <td>5</td>\n",
       "      <td>1</td>\n",
       "      <td>4</td>\n",
       "      <td>3</td>\n",
       "      <td>6</td>\n",
       "      <td>1</td>\n",
       "      <td>2</td>\n",
       "      <td>4</td>\n",
       "    </tr>\n",
       "  </tbody>\n",
       "</table>\n",
       "</div>"
      ],
      "text/plain": [
       "       Name  Monster type  DEF  Set  Card number  Ability  Rule  ATK\n",
       "Level                                                               \n",
       "1         5             1    2    2            5        0     1    2\n",
       "2         4             3    4    3            4        0     2    3\n",
       "3         3             2    3    2            3        0     3    3\n",
       "4        17             8   10    3           17        2    10    9\n",
       "5        34            10   17    3           34        1    13   15\n",
       "6        23            10   15    3           23        2     9   12\n",
       "7        10             6    7    2           10        1     6    5\n",
       "8         5             1    4    3            6        1     2    4"
      ]
     },
     "execution_count": 16,
     "metadata": {},
     "output_type": "execute_result"
    }
   ],
   "source": [
    "bandai_df.drop(columns=['Card type', 'Page name', 'Page URL']).groupby('Level').nunique().sort_index(key=lambda x: pd.to_numeric(x, errors = 'coerce'))"
   ]
  },
  {
   "cell_type": "code",
   "execution_count": 17,
   "id": "31539bdc",
   "metadata": {
    "execution": {
     "iopub.execute_input": "2023-02-27T21:18:45.035806Z",
     "iopub.status.busy": "2023-02-27T21:18:45.035325Z",
     "iopub.status.idle": "2023-02-27T21:18:45.319974Z",
     "shell.execute_reply": "2023-02-27T21:18:45.318850Z"
    },
    "papermill": {
     "duration": 0.306814,
     "end_time": "2023-02-27T21:18:45.322404",
     "exception": false,
     "start_time": "2023-02-27T21:18:45.015590",
     "status": "completed"
    },
    "tags": []
   },
   "outputs": [
    {
     "data": {
      "image/png": "[encoded data removed]",
      "text/plain": [
       "<Figure size 1800x600 with 1 Axes>"
      ]
     },
     "metadata": {},
     "output_type": "display_data"
    }
   ],
   "source": [
    "level_colors = colors_dict['Level']\n",
    "bandai_df['Level'].value_counts().sort_index(key=lambda x: pd.to_numeric(x, errors = 'coerce')).plot.bar(figsize = (18,6), grid = True, rot=0, color= level_colors, title = 'Level/Rank')\n",
    "plt.show()"
   ]
  },
  {
   "cell_type": "markdown",
   "id": "071ce72d-178c-4ff3-9e4a-25f2568db91b",
   "metadata": {
    "papermill": {
     "duration": 0.01815,
     "end_time": "2023-02-27T21:18:45.359090",
     "exception": false,
     "start_time": "2023-02-27T21:18:45.340940",
     "status": "completed"
    },
    "tags": []
   },
   "source": [
    "### ATK statistics"
   ]
  },
  {
   "cell_type": "code",
   "execution_count": 18,
   "id": "06dc9107",
   "metadata": {
    "execution": {
     "iopub.execute_input": "2023-02-27T21:18:45.402124Z",
     "iopub.status.busy": "2023-02-27T21:18:45.401634Z",
     "iopub.status.idle": "2023-02-27T21:18:45.494476Z",
     "shell.execute_reply": "2023-02-27T21:18:45.491467Z"
    },
    "papermill": {
     "duration": 0.117225,
     "end_time": "2023-02-27T21:18:45.497935",
     "exception": false,
     "start_time": "2023-02-27T21:18:45.380710",
     "status": "completed"
    },
    "tags": []
   },
   "outputs": [
    {
     "data": {
      "text/html": [
       "<div>\n",
       "<style scoped>\n",
       "    .dataframe tbody tr th:only-of-type {\n",
       "        vertical-align: middle;\n",
       "    }\n",
       "\n",
       "    .dataframe tbody tr th {\n",
       "        vertical-align: top;\n",
       "    }\n",
       "\n",
       "    .dataframe thead tr th {\n",
       "        text-align: left;\n",
       "    }\n",
       "\n",
       "    .dataframe thead tr:last-of-type th {\n",
       "        text-align: right;\n",
       "    }\n",
       "</style>\n",
       "<table border=\"1\" class=\"dataframe\">\n",
       "  <thead>\n",
       "    <tr>\n",
       "      <th></th>\n",
       "      <th colspan=\"8\" halign=\"left\">ATK</th>\n",
       "    </tr>\n",
       "    <tr>\n",
       "      <th></th>\n",
       "      <th>count</th>\n",
       "      <th>mean</th>\n",
       "      <th>std</th>\n",
       "      <th>min</th>\n",
       "      <th>25%</th>\n",
       "      <th>50%</th>\n",
       "      <th>75%</th>\n",
       "      <th>max</th>\n",
       "    </tr>\n",
       "    <tr>\n",
       "      <th>Level</th>\n",
       "      <th></th>\n",
       "      <th></th>\n",
       "      <th></th>\n",
       "      <th></th>\n",
       "      <th></th>\n",
       "      <th></th>\n",
       "      <th></th>\n",
       "      <th></th>\n",
       "    </tr>\n",
       "  </thead>\n",
       "  <tbody>\n",
       "    <tr>\n",
       "      <th>1</th>\n",
       "      <td>5.0</td>\n",
       "      <td>280.000000</td>\n",
       "      <td>178.885438</td>\n",
       "      <td>200.0</td>\n",
       "      <td>200.0</td>\n",
       "      <td>200.0</td>\n",
       "      <td>200.0</td>\n",
       "      <td>600.0</td>\n",
       "    </tr>\n",
       "    <tr>\n",
       "      <th>2</th>\n",
       "      <td>4.0</td>\n",
       "      <td>325.000000</td>\n",
       "      <td>206.155281</td>\n",
       "      <td>100.0</td>\n",
       "      <td>175.0</td>\n",
       "      <td>350.0</td>\n",
       "      <td>500.0</td>\n",
       "      <td>500.0</td>\n",
       "    </tr>\n",
       "    <tr>\n",
       "      <th>3</th>\n",
       "      <td>3.0</td>\n",
       "      <td>1366.666667</td>\n",
       "      <td>513.160144</td>\n",
       "      <td>800.0</td>\n",
       "      <td>1150.0</td>\n",
       "      <td>1500.0</td>\n",
       "      <td>1650.0</td>\n",
       "      <td>1800.0</td>\n",
       "    </tr>\n",
       "    <tr>\n",
       "      <th>4</th>\n",
       "      <td>15.0</td>\n",
       "      <td>1626.666667</td>\n",
       "      <td>400.832467</td>\n",
       "      <td>600.0</td>\n",
       "      <td>1500.0</td>\n",
       "      <td>1600.0</td>\n",
       "      <td>1800.0</td>\n",
       "      <td>2400.0</td>\n",
       "    </tr>\n",
       "    <tr>\n",
       "      <th>5</th>\n",
       "      <td>33.0</td>\n",
       "      <td>1742.424242</td>\n",
       "      <td>559.033934</td>\n",
       "      <td>400.0</td>\n",
       "      <td>1400.0</td>\n",
       "      <td>2000.0</td>\n",
       "      <td>2100.0</td>\n",
       "      <td>2500.0</td>\n",
       "    </tr>\n",
       "    <tr>\n",
       "      <th>6</th>\n",
       "      <td>21.0</td>\n",
       "      <td>2104.761905</td>\n",
       "      <td>380.100237</td>\n",
       "      <td>1200.0</td>\n",
       "      <td>1900.0</td>\n",
       "      <td>2300.0</td>\n",
       "      <td>2300.0</td>\n",
       "      <td>2600.0</td>\n",
       "    </tr>\n",
       "    <tr>\n",
       "      <th>7</th>\n",
       "      <td>9.0</td>\n",
       "      <td>2511.111111</td>\n",
       "      <td>358.623913</td>\n",
       "      <td>1800.0</td>\n",
       "      <td>2400.0</td>\n",
       "      <td>2500.0</td>\n",
       "      <td>2600.0</td>\n",
       "      <td>3200.0</td>\n",
       "    </tr>\n",
       "    <tr>\n",
       "      <th>8</th>\n",
       "      <td>5.0</td>\n",
       "      <td>3000.000000</td>\n",
       "      <td>1274.754878</td>\n",
       "      <td>1000.0</td>\n",
       "      <td>3000.0</td>\n",
       "      <td>3000.0</td>\n",
       "      <td>3500.0</td>\n",
       "      <td>4500.0</td>\n",
       "    </tr>\n",
       "  </tbody>\n",
       "</table>\n",
       "</div>"
      ],
      "text/plain": [
       "        ATK                                                                  \n",
       "      count         mean          std     min     25%     50%     75%     max\n",
       "Level                                                                        \n",
       "1       5.0   280.000000   178.885438   200.0   200.0   200.0   200.0   600.0\n",
       "2       4.0   325.000000   206.155281   100.0   175.0   350.0   500.0   500.0\n",
       "3       3.0  1366.666667   513.160144   800.0  1150.0  1500.0  1650.0  1800.0\n",
       "4      15.0  1626.666667   400.832467   600.0  1500.0  1600.0  1800.0  2400.0\n",
       "5      33.0  1742.424242   559.033934   400.0  1400.0  2000.0  2100.0  2500.0\n",
       "6      21.0  2104.761905   380.100237  1200.0  1900.0  2300.0  2300.0  2600.0\n",
       "7       9.0  2511.111111   358.623913  1800.0  2400.0  2500.0  2600.0  3200.0\n",
       "8       5.0  3000.000000  1274.754878  1000.0  3000.0  3000.0  3500.0  4500.0"
      ]
     },
     "execution_count": 18,
     "metadata": {},
     "output_type": "execute_result"
    }
   ],
   "source": [
    "bandai_df[['Level','ATK']].apply(pd.to_numeric, errors = 'coerce').dropna().astype(int).groupby('Level').describe()"
   ]
  },
  {
   "cell_type": "markdown",
   "id": "3d9b3073-cb28-48c0-94c3-17e6932f0903",
   "metadata": {
    "papermill": {
     "duration": 0.020076,
     "end_time": "2023-02-27T21:18:45.537582",
     "exception": false,
     "start_time": "2023-02-27T21:18:45.517506",
     "status": "completed"
    },
    "tags": []
   },
   "source": [
    "### DEF statistics"
   ]
  },
  {
   "cell_type": "code",
   "execution_count": 19,
   "id": "cc005e78",
   "metadata": {
    "execution": {
     "iopub.execute_input": "2023-02-27T21:18:45.584394Z",
     "iopub.status.busy": "2023-02-27T21:18:45.583958Z",
     "iopub.status.idle": "2023-02-27T21:18:45.646684Z",
     "shell.execute_reply": "2023-02-27T21:18:45.645782Z"
    },
    "papermill": {
     "duration": 0.085584,
     "end_time": "2023-02-27T21:18:45.649067",
     "exception": false,
     "start_time": "2023-02-27T21:18:45.563483",
     "status": "completed"
    },
    "tags": []
   },
   "outputs": [
    {
     "data": {
      "text/html": [
       "<div>\n",
       "<style scoped>\n",
       "    .dataframe tbody tr th:only-of-type {\n",
       "        vertical-align: middle;\n",
       "    }\n",
       "\n",
       "    .dataframe tbody tr th {\n",
       "        vertical-align: top;\n",
       "    }\n",
       "\n",
       "    .dataframe thead tr th {\n",
       "        text-align: left;\n",
       "    }\n",
       "\n",
       "    .dataframe thead tr:last-of-type th {\n",
       "        text-align: right;\n",
       "    }\n",
       "</style>\n",
       "<table border=\"1\" class=\"dataframe\">\n",
       "  <thead>\n",
       "    <tr>\n",
       "      <th></th>\n",
       "      <th colspan=\"8\" halign=\"left\">DEF</th>\n",
       "    </tr>\n",
       "    <tr>\n",
       "      <th></th>\n",
       "      <th>count</th>\n",
       "      <th>mean</th>\n",
       "      <th>std</th>\n",
       "      <th>min</th>\n",
       "      <th>25%</th>\n",
       "      <th>50%</th>\n",
       "      <th>75%</th>\n",
       "      <th>max</th>\n",
       "    </tr>\n",
       "    <tr>\n",
       "      <th>Level</th>\n",
       "      <th></th>\n",
       "      <th></th>\n",
       "      <th></th>\n",
       "      <th></th>\n",
       "      <th></th>\n",
       "      <th></th>\n",
       "      <th></th>\n",
       "      <th></th>\n",
       "    </tr>\n",
       "  </thead>\n",
       "  <tbody>\n",
       "    <tr>\n",
       "      <th>1</th>\n",
       "      <td>5.0</td>\n",
       "      <td>320.000000</td>\n",
       "      <td>44.721360</td>\n",
       "      <td>300.0</td>\n",
       "      <td>300.0</td>\n",
       "      <td>300.0</td>\n",
       "      <td>300.0</td>\n",
       "      <td>400.0</td>\n",
       "    </tr>\n",
       "    <tr>\n",
       "      <th>2</th>\n",
       "      <td>4.0</td>\n",
       "      <td>475.000000</td>\n",
       "      <td>359.397644</td>\n",
       "      <td>200.0</td>\n",
       "      <td>275.0</td>\n",
       "      <td>350.0</td>\n",
       "      <td>550.0</td>\n",
       "      <td>1000.0</td>\n",
       "    </tr>\n",
       "    <tr>\n",
       "      <th>3</th>\n",
       "      <td>3.0</td>\n",
       "      <td>466.666667</td>\n",
       "      <td>416.333200</td>\n",
       "      <td>0.0</td>\n",
       "      <td>300.0</td>\n",
       "      <td>600.0</td>\n",
       "      <td>700.0</td>\n",
       "      <td>800.0</td>\n",
       "    </tr>\n",
       "    <tr>\n",
       "      <th>4</th>\n",
       "      <td>15.0</td>\n",
       "      <td>1073.333333</td>\n",
       "      <td>582.441495</td>\n",
       "      <td>0.0</td>\n",
       "      <td>700.0</td>\n",
       "      <td>900.0</td>\n",
       "      <td>1500.0</td>\n",
       "      <td>2200.0</td>\n",
       "    </tr>\n",
       "    <tr>\n",
       "      <th>5</th>\n",
       "      <td>33.0</td>\n",
       "      <td>1663.636364</td>\n",
       "      <td>601.985352</td>\n",
       "      <td>400.0</td>\n",
       "      <td>1400.0</td>\n",
       "      <td>1900.0</td>\n",
       "      <td>2100.0</td>\n",
       "      <td>2500.0</td>\n",
       "    </tr>\n",
       "    <tr>\n",
       "      <th>6</th>\n",
       "      <td>21.0</td>\n",
       "      <td>1990.476190</td>\n",
       "      <td>611.477524</td>\n",
       "      <td>900.0</td>\n",
       "      <td>1500.0</td>\n",
       "      <td>2100.0</td>\n",
       "      <td>2300.0</td>\n",
       "      <td>3500.0</td>\n",
       "    </tr>\n",
       "    <tr>\n",
       "      <th>7</th>\n",
       "      <td>9.0</td>\n",
       "      <td>2244.444444</td>\n",
       "      <td>360.940130</td>\n",
       "      <td>1600.0</td>\n",
       "      <td>2000.0</td>\n",
       "      <td>2400.0</td>\n",
       "      <td>2500.0</td>\n",
       "      <td>2600.0</td>\n",
       "    </tr>\n",
       "    <tr>\n",
       "      <th>8</th>\n",
       "      <td>5.0</td>\n",
       "      <td>2200.000000</td>\n",
       "      <td>758.287544</td>\n",
       "      <td>1000.0</td>\n",
       "      <td>2000.0</td>\n",
       "      <td>2500.0</td>\n",
       "      <td>2500.0</td>\n",
       "      <td>3000.0</td>\n",
       "    </tr>\n",
       "  </tbody>\n",
       "</table>\n",
       "</div>"
      ],
      "text/plain": [
       "        DEF                                                                 \n",
       "      count         mean         std     min     25%     50%     75%     max\n",
       "Level                                                                       \n",
       "1       5.0   320.000000   44.721360   300.0   300.0   300.0   300.0   400.0\n",
       "2       4.0   475.000000  359.397644   200.0   275.0   350.0   550.0  1000.0\n",
       "3       3.0   466.666667  416.333200     0.0   300.0   600.0   700.0   800.0\n",
       "4      15.0  1073.333333  582.441495     0.0   700.0   900.0  1500.0  2200.0\n",
       "5      33.0  1663.636364  601.985352   400.0  1400.0  1900.0  2100.0  2500.0\n",
       "6      21.0  1990.476190  611.477524   900.0  1500.0  2100.0  2300.0  3500.0\n",
       "7       9.0  2244.444444  360.940130  1600.0  2000.0  2400.0  2500.0  2600.0\n",
       "8       5.0  2200.000000  758.287544  1000.0  2000.0  2500.0  2500.0  3000.0"
      ]
     },
     "execution_count": 19,
     "metadata": {},
     "output_type": "execute_result"
    }
   ],
   "source": [
    "bandai_df[['Level','DEF']].apply(pd.to_numeric, errors = 'coerce').dropna().astype(int).groupby('Level').describe()"
   ]
  },
  {
   "cell_type": "markdown",
   "id": "f8a1f602-3981-413c-bc35-dadb1da03979",
   "metadata": {
    "papermill": {
     "duration": 0.018775,
     "end_time": "2023-02-27T21:18:45.688431",
     "exception": false,
     "start_time": "2023-02-27T21:18:45.669656",
     "status": "completed"
    },
    "tags": []
   },
   "source": [
    "## Monster type"
   ]
  },
  {
   "cell_type": "code",
   "execution_count": 20,
   "id": "dab77100",
   "metadata": {
    "execution": {
     "iopub.execute_input": "2023-02-27T21:18:45.732557Z",
     "iopub.status.busy": "2023-02-27T21:18:45.731471Z",
     "iopub.status.idle": "2023-02-27T21:18:45.746596Z",
     "shell.execute_reply": "2023-02-27T21:18:45.745634Z"
    },
    "papermill": {
     "duration": 0.038696,
     "end_time": "2023-02-27T21:18:45.749497",
     "exception": false,
     "start_time": "2023-02-27T21:18:45.710801",
     "status": "completed"
    },
    "tags": []
   },
   "outputs": [
    {
     "name": "stdout",
     "output_type": "stream",
     "text": [
      "Total number of monster types:"
     ]
    },
    {
     "name": "stdout",
     "output_type": "stream",
     "text": [
      " "
     ]
    },
    {
     "name": "stdout",
     "output_type": "stream",
     "text": [
      "15"
     ]
    },
    {
     "name": "stdout",
     "output_type": "stream",
     "text": [
      "\n"
     ]
    }
   ],
   "source": [
    "print('Total number of monster types:', bandai_df['Monster type'].nunique())"
   ]
  },
  {
   "cell_type": "code",
   "execution_count": 21,
   "id": "02f5b750",
   "metadata": {
    "execution": {
     "iopub.execute_input": "2023-02-27T21:18:45.794468Z",
     "iopub.status.busy": "2023-02-27T21:18:45.793755Z",
     "iopub.status.idle": "2023-02-27T21:18:45.819609Z",
     "shell.execute_reply": "2023-02-27T21:18:45.818640Z"
    },
    "papermill": {
     "duration": 0.051798,
     "end_time": "2023-02-27T21:18:45.821801",
     "exception": false,
     "start_time": "2023-02-27T21:18:45.770003",
     "status": "completed"
    },
    "tags": []
   },
   "outputs": [
    {
     "data": {
      "text/html": [
       "<div>\n",
       "<style scoped>\n",
       "    .dataframe tbody tr th:only-of-type {\n",
       "        vertical-align: middle;\n",
       "    }\n",
       "\n",
       "    .dataframe tbody tr th {\n",
       "        vertical-align: top;\n",
       "    }\n",
       "\n",
       "    .dataframe thead th {\n",
       "        text-align: right;\n",
       "    }\n",
       "</style>\n",
       "<table border=\"1\" class=\"dataframe\">\n",
       "  <thead>\n",
       "    <tr style=\"text-align: right;\">\n",
       "      <th></th>\n",
       "      <th>Name</th>\n",
       "      <th>DEF</th>\n",
       "      <th>Set</th>\n",
       "      <th>Card number</th>\n",
       "      <th>Ability</th>\n",
       "      <th>Rule</th>\n",
       "      <th>ATK</th>\n",
       "      <th>Level</th>\n",
       "    </tr>\n",
       "    <tr>\n",
       "      <th>Monster type</th>\n",
       "      <th></th>\n",
       "      <th></th>\n",
       "      <th></th>\n",
       "      <th></th>\n",
       "      <th></th>\n",
       "      <th></th>\n",
       "      <th></th>\n",
       "      <th></th>\n",
       "    </tr>\n",
       "  </thead>\n",
       "  <tbody>\n",
       "    <tr>\n",
       "      <th>Beast</th>\n",
       "      <td>4</td>\n",
       "      <td>4</td>\n",
       "      <td>3</td>\n",
       "      <td>4</td>\n",
       "      <td>0</td>\n",
       "      <td>2</td>\n",
       "      <td>2</td>\n",
       "      <td>3</td>\n",
       "    </tr>\n",
       "    <tr>\n",
       "      <th>Beast-Warrior</th>\n",
       "      <td>5</td>\n",
       "      <td>4</td>\n",
       "      <td>2</td>\n",
       "      <td>5</td>\n",
       "      <td>0</td>\n",
       "      <td>4</td>\n",
       "      <td>5</td>\n",
       "      <td>3</td>\n",
       "    </tr>\n",
       "    <tr>\n",
       "      <th>Black Magic</th>\n",
       "      <td>12</td>\n",
       "      <td>7</td>\n",
       "      <td>4</td>\n",
       "      <td>11</td>\n",
       "      <td>0</td>\n",
       "      <td>3</td>\n",
       "      <td>7</td>\n",
       "      <td>4</td>\n",
       "    </tr>\n",
       "    <tr>\n",
       "      <th>Dinosaur</th>\n",
       "      <td>5</td>\n",
       "      <td>5</td>\n",
       "      <td>3</td>\n",
       "      <td>5</td>\n",
       "      <td>0</td>\n",
       "      <td>4</td>\n",
       "      <td>5</td>\n",
       "      <td>2</td>\n",
       "    </tr>\n",
       "    <tr>\n",
       "      <th>Dragon</th>\n",
       "      <td>11</td>\n",
       "      <td>9</td>\n",
       "      <td>3</td>\n",
       "      <td>12</td>\n",
       "      <td>0</td>\n",
       "      <td>7</td>\n",
       "      <td>8</td>\n",
       "      <td>5</td>\n",
       "    </tr>\n",
       "    <tr>\n",
       "      <th>Dragon Magic</th>\n",
       "      <td>1</td>\n",
       "      <td>1</td>\n",
       "      <td>1</td>\n",
       "      <td>1</td>\n",
       "      <td>0</td>\n",
       "      <td>1</td>\n",
       "      <td>1</td>\n",
       "      <td>1</td>\n",
       "    </tr>\n",
       "    <tr>\n",
       "      <th>Fiend</th>\n",
       "      <td>18</td>\n",
       "      <td>12</td>\n",
       "      <td>3</td>\n",
       "      <td>18</td>\n",
       "      <td>0</td>\n",
       "      <td>8</td>\n",
       "      <td>12</td>\n",
       "      <td>6</td>\n",
       "    </tr>\n",
       "    <tr>\n",
       "      <th>Illusion Magic</th>\n",
       "      <td>2</td>\n",
       "      <td>2</td>\n",
       "      <td>2</td>\n",
       "      <td>2</td>\n",
       "      <td>0</td>\n",
       "      <td>0</td>\n",
       "      <td>2</td>\n",
       "      <td>1</td>\n",
       "    </tr>\n",
       "    <tr>\n",
       "      <th>Insect</th>\n",
       "      <td>7</td>\n",
       "      <td>5</td>\n",
       "      <td>3</td>\n",
       "      <td>7</td>\n",
       "      <td>0</td>\n",
       "      <td>6</td>\n",
       "      <td>7</td>\n",
       "      <td>6</td>\n",
       "    </tr>\n",
       "    <tr>\n",
       "      <th>Sea Beast</th>\n",
       "      <td>2</td>\n",
       "      <td>2</td>\n",
       "      <td>1</td>\n",
       "      <td>2</td>\n",
       "      <td>0</td>\n",
       "      <td>1</td>\n",
       "      <td>2</td>\n",
       "      <td>1</td>\n",
       "    </tr>\n",
       "    <tr>\n",
       "      <th>Sea Serpent</th>\n",
       "      <td>1</td>\n",
       "      <td>1</td>\n",
       "      <td>1</td>\n",
       "      <td>1</td>\n",
       "      <td>0</td>\n",
       "      <td>1</td>\n",
       "      <td>1</td>\n",
       "      <td>1</td>\n",
       "    </tr>\n",
       "    <tr>\n",
       "      <th>Thunder</th>\n",
       "      <td>1</td>\n",
       "      <td>1</td>\n",
       "      <td>1</td>\n",
       "      <td>1</td>\n",
       "      <td>0</td>\n",
       "      <td>1</td>\n",
       "      <td>1</td>\n",
       "      <td>1</td>\n",
       "    </tr>\n",
       "    <tr>\n",
       "      <th>Warrior</th>\n",
       "      <td>12</td>\n",
       "      <td>10</td>\n",
       "      <td>3</td>\n",
       "      <td>12</td>\n",
       "      <td>0</td>\n",
       "      <td>8</td>\n",
       "      <td>7</td>\n",
       "      <td>3</td>\n",
       "    </tr>\n",
       "    <tr>\n",
       "      <th>White Magic</th>\n",
       "      <td>6</td>\n",
       "      <td>4</td>\n",
       "      <td>3</td>\n",
       "      <td>6</td>\n",
       "      <td>0</td>\n",
       "      <td>4</td>\n",
       "      <td>6</td>\n",
       "      <td>3</td>\n",
       "    </tr>\n",
       "    <tr>\n",
       "      <th>Winged Beast</th>\n",
       "      <td>3</td>\n",
       "      <td>1</td>\n",
       "      <td>2</td>\n",
       "      <td>3</td>\n",
       "      <td>0</td>\n",
       "      <td>1</td>\n",
       "      <td>1</td>\n",
       "      <td>1</td>\n",
       "    </tr>\n",
       "  </tbody>\n",
       "</table>\n",
       "</div>"
      ],
      "text/plain": [
       "                 Name  DEF  Set  Card number  Ability  Rule  ATK  Level\n",
       "Monster type                                                           \n",
       "Beast               4    4    3            4        0     2    2      3\n",
       "Beast-Warrior       5    4    2            5        0     4    5      3\n",
       "Black Magic        12    7    4           11        0     3    7      4\n",
       "Dinosaur            5    5    3            5        0     4    5      2\n",
       "Dragon             11    9    3           12        0     7    8      5\n",
       "Dragon Magic        1    1    1            1        0     1    1      1\n",
       "Fiend              18   12    3           18        0     8   12      6\n",
       "Illusion Magic      2    2    2            2        0     0    2      1\n",
       "Insect              7    5    3            7        0     6    7      6\n",
       "Sea Beast           2    2    1            2        0     1    2      1\n",
       "Sea Serpent         1    1    1            1        0     1    1      1\n",
       "Thunder             1    1    1            1        0     1    1      1\n",
       "Warrior            12   10    3           12        0     8    7      3\n",
       "White Magic         6    4    3            6        0     4    6      3\n",
       "Winged Beast        3    1    2            3        0     1    1      1"
      ]
     },
     "execution_count": 21,
     "metadata": {},
     "output_type": "execute_result"
    }
   ],
   "source": [
    "bandai_df.drop(columns=['Card type', 'Page name', 'Page URL']).groupby('Monster type').nunique()"
   ]
  },
  {
   "cell_type": "code",
   "execution_count": 22,
   "id": "75111774",
   "metadata": {
    "execution": {
     "iopub.execute_input": "2023-02-27T21:18:45.863719Z",
     "iopub.status.busy": "2023-02-27T21:18:45.863180Z",
     "iopub.status.idle": "2023-02-27T21:18:46.246099Z",
     "shell.execute_reply": "2023-02-27T21:18:46.244812Z"
    },
    "papermill": {
     "duration": 0.406716,
     "end_time": "2023-02-27T21:18:46.248388",
     "exception": false,
     "start_time": "2023-02-27T21:18:45.841672",
     "status": "completed"
    },
    "tags": []
   },
   "outputs": [
    {
     "data": {
      "image/png": "[encoded data removed]",
      "text/plain": [
       "<Figure size 1800x600 with 1 Axes>"
      ]
     },
     "metadata": {},
     "output_type": "display_data"
    }
   ],
   "source": [
    "monster_type_colors = colors_dict['Monster Card']\n",
    "bandai_df['Monster type'].value_counts().plot.bar(figsize = (18,6), grid = True, rot=45, color = monster_type_colors, title = 'Monster type')\n",
    "plt.show()"
   ]
  },
  {
   "cell_type": "markdown",
   "id": "eaf337f6-5f57-4f12-9ed9-56ee60684221",
   "metadata": {
    "papermill": {
     "duration": 0.063913,
     "end_time": "2023-02-27T21:18:46.334068",
     "exception": false,
     "start_time": "2023-02-27T21:18:46.270155",
     "status": "completed"
    },
    "tags": []
   },
   "source": [
    "## Set"
   ]
  },
  {
   "cell_type": "code",
   "execution_count": 23,
   "id": "8235e37d-9495-4cdd-9935-47c991543663",
   "metadata": {
    "execution": {
     "iopub.execute_input": "2023-02-27T21:18:46.389015Z",
     "iopub.status.busy": "2023-02-27T21:18:46.388503Z",
     "iopub.status.idle": "2023-02-27T21:18:46.401320Z",
     "shell.execute_reply": "2023-02-27T21:18:46.400077Z"
    },
    "papermill": {
     "duration": 0.048545,
     "end_time": "2023-02-27T21:18:46.403892",
     "exception": false,
     "start_time": "2023-02-27T21:18:46.355347",
     "status": "completed"
    },
    "tags": []
   },
   "outputs": [
    {
     "name": "stdout",
     "output_type": "stream",
     "text": [
      "Total number of sets:"
     ]
    },
    {
     "name": "stdout",
     "output_type": "stream",
     "text": [
      " "
     ]
    },
    {
     "name": "stdout",
     "output_type": "stream",
     "text": [
      "4"
     ]
    },
    {
     "name": "stdout",
     "output_type": "stream",
     "text": [
      "\n"
     ]
    }
   ],
   "source": [
    "print('Total number of sets:', bandai_df['Set'].nunique())"
   ]
  },
  {
   "cell_type": "code",
   "execution_count": 24,
   "id": "5ea867ee-c5e5-48ed-84d4-9c66b205f185",
   "metadata": {
    "execution": {
     "iopub.execute_input": "2023-02-27T21:18:46.449005Z",
     "iopub.status.busy": "2023-02-27T21:18:46.448540Z",
     "iopub.status.idle": "2023-02-27T21:18:46.470414Z",
     "shell.execute_reply": "2023-02-27T21:18:46.469437Z"
    },
    "papermill": {
     "duration": 0.047643,
     "end_time": "2023-02-27T21:18:46.473310",
     "exception": false,
     "start_time": "2023-02-27T21:18:46.425667",
     "status": "completed"
    },
    "tags": []
   },
   "outputs": [
    {
     "data": {
      "text/html": [
       "<div>\n",
       "<style scoped>\n",
       "    .dataframe tbody tr th:only-of-type {\n",
       "        vertical-align: middle;\n",
       "    }\n",
       "\n",
       "    .dataframe tbody tr th {\n",
       "        vertical-align: top;\n",
       "    }\n",
       "\n",
       "    .dataframe thead th {\n",
       "        text-align: right;\n",
       "    }\n",
       "</style>\n",
       "<table border=\"1\" class=\"dataframe\">\n",
       "  <thead>\n",
       "    <tr style=\"text-align: right;\">\n",
       "      <th></th>\n",
       "      <th>Name</th>\n",
       "      <th>Card type</th>\n",
       "      <th>Monster type</th>\n",
       "      <th>DEF</th>\n",
       "      <th>Card number</th>\n",
       "      <th>Ability</th>\n",
       "      <th>Rule</th>\n",
       "      <th>ATK</th>\n",
       "      <th>Level</th>\n",
       "    </tr>\n",
       "    <tr>\n",
       "      <th>Set</th>\n",
       "      <th></th>\n",
       "      <th></th>\n",
       "      <th></th>\n",
       "      <th></th>\n",
       "      <th></th>\n",
       "      <th></th>\n",
       "      <th></th>\n",
       "      <th></th>\n",
       "      <th></th>\n",
       "    </tr>\n",
       "  </thead>\n",
       "  <tbody>\n",
       "    <tr>\n",
       "      <th>Yu-Gi-Oh! Bandai OCG: 1st Generation</th>\n",
       "      <td>40</td>\n",
       "      <td>2</td>\n",
       "      <td>12</td>\n",
       "      <td>18</td>\n",
       "      <td>41</td>\n",
       "      <td>8</td>\n",
       "      <td>9</td>\n",
       "      <td>18</td>\n",
       "      <td>7</td>\n",
       "    </tr>\n",
       "    <tr>\n",
       "      <th>Yu-Gi-Oh! Bandai OCG: 2nd Generation</th>\n",
       "      <td>48</td>\n",
       "      <td>4</td>\n",
       "      <td>13</td>\n",
       "      <td>21</td>\n",
       "      <td>48</td>\n",
       "      <td>0</td>\n",
       "      <td>13</td>\n",
       "      <td>19</td>\n",
       "      <td>7</td>\n",
       "    </tr>\n",
       "    <tr>\n",
       "      <th>Yu-Gi-Oh! Bandai OCG: 3rd Generation</th>\n",
       "      <td>26</td>\n",
       "      <td>2</td>\n",
       "      <td>8</td>\n",
       "      <td>10</td>\n",
       "      <td>26</td>\n",
       "      <td>0</td>\n",
       "      <td>13</td>\n",
       "      <td>10</td>\n",
       "      <td>6</td>\n",
       "    </tr>\n",
       "    <tr>\n",
       "      <th>Yu-Gi-Oh! Bandai OCG: Promotional Cards</th>\n",
       "      <td>5</td>\n",
       "      <td>3</td>\n",
       "      <td>2</td>\n",
       "      <td>1</td>\n",
       "      <td>0</td>\n",
       "      <td>0</td>\n",
       "      <td>0</td>\n",
       "      <td>1</td>\n",
       "      <td>1</td>\n",
       "    </tr>\n",
       "  </tbody>\n",
       "</table>\n",
       "</div>"
      ],
      "text/plain": [
       "                                         Name  Card type  Monster type  DEF  \\\n",
       "Set                                                                           \n",
       "Yu-Gi-Oh! Bandai OCG: 1st Generation       40          2            12   18   \n",
       "Yu-Gi-Oh! Bandai OCG: 2nd Generation       48          4            13   21   \n",
       "Yu-Gi-Oh! Bandai OCG: 3rd Generation       26          2             8   10   \n",
       "Yu-Gi-Oh! Bandai OCG: Promotional Cards     5          3             2    1   \n",
       "\n",
       "                                         Card number  Ability  Rule  ATK  \\\n",
       "Set                                                                        \n",
       "Yu-Gi-Oh! Bandai OCG: 1st Generation              41        8     9   18   \n",
       "Yu-Gi-Oh! Bandai OCG: 2nd Generation              48        0    13   19   \n",
       "Yu-Gi-Oh! Bandai OCG: 3rd Generation              26        0    13   10   \n",
       "Yu-Gi-Oh! Bandai OCG: Promotional Cards            0        0     0    1   \n",
       "\n",
       "                                         Level  \n",
       "Set                                             \n",
       "Yu-Gi-Oh! Bandai OCG: 1st Generation         7  \n",
       "Yu-Gi-Oh! Bandai OCG: 2nd Generation         7  \n",
       "Yu-Gi-Oh! Bandai OCG: 3rd Generation         6  \n",
       "Yu-Gi-Oh! Bandai OCG: Promotional Cards      1  "
      ]
     },
     "execution_count": 24,
     "metadata": {},
     "output_type": "execute_result"
    }
   ],
   "source": [
    "bandai_df.drop(columns=['Page name', 'Page URL']).groupby('Set').nunique()"
   ]
  },
  {
   "cell_type": "markdown",
   "id": "1b6f5f73-c9cd-483c-96da-54174938da5a",
   "metadata": {
    "papermill": {
     "duration": 0.021542,
     "end_time": "2023-02-27T21:18:46.516538",
     "exception": false,
     "start_time": "2023-02-27T21:18:46.494996",
     "status": "completed"
    },
    "tags": []
   },
   "source": [
    "# Epilogue"
   ]
  },
  {
   "cell_type": "code",
   "execution_count": 25,
   "id": "9ebe9200-4e74-4db0-8f10-d7b258b9ef7c",
   "metadata": {
    "execution": {
     "iopub.execute_input": "2023-02-27T21:18:46.564810Z",
     "iopub.status.busy": "2023-02-27T21:18:46.562628Z",
     "iopub.status.idle": "2023-02-27T21:18:46.572213Z",
     "shell.execute_reply": "2023-02-27T21:18:46.570822Z"
    },
    "papermill": {
     "duration": 0.035944,
     "end_time": "2023-02-27T21:18:46.575171",
     "exception": false,
     "start_time": "2023-02-27T21:18:46.539227",
     "status": "completed"
    },
    "tags": []
   },
   "outputs": [],
   "source": [
    "benchmark('bandai',timestamp)"
   ]
  },
  {
   "cell_type": "code",
   "execution_count": 26,
   "id": "eae8bd03-02f4-486d-9ae0-ddc7227985f2",
   "metadata": {
    "execution": {
     "iopub.execute_input": "2023-02-27T21:18:46.621581Z",
     "iopub.status.busy": "2023-02-27T21:18:46.621125Z",
     "iopub.status.idle": "2023-02-27T21:18:46.627504Z",
     "shell.execute_reply": "2023-02-27T21:18:46.626623Z"
    },
    "papermill": {
     "duration": 0.033899,
     "end_time": "2023-02-27T21:18:46.630937",
     "exception": false,
     "start_time": "2023-02-27T21:18:46.597038",
     "status": "completed"
    },
    "tags": []
   },
   "outputs": [
    {
     "data": {
      "text/markdown": [
       "<div align='right'>\n",
       "    Execution completed 27/02/2023 21:18 UTC\n",
       "</div>"
      ],
      "text/plain": [
       "<IPython.core.display.Markdown object>"
      ]
     },
     "execution_count": 26,
     "metadata": {},
     "output_type": "execute_result"
    }
   ],
   "source": [
    "footer()"
   ]
  },
  {
   "cell_type": "markdown",
   "id": "f8ddd2ba-01d3-4b5d-901a-62ea4f793309",
   "metadata": {
    "papermill": {
     "duration": 0.022329,
     "end_time": "2023-02-27T21:18:46.677412",
     "exception": false,
     "start_time": "2023-02-27T21:18:46.655083",
     "status": "completed"
    },
    "tags": []
   },
   "source": [
    "## HTML export"
   ]
  },
  {
   "cell_type": "code",
   "execution_count": 27,
   "id": "1f2182a7-7cc8-4959-8af5-ba7ea26439a7",
   "metadata": {
    "execution": {
     "iopub.execute_input": "2023-02-27T21:18:46.730415Z",
     "iopub.status.busy": "2023-02-27T21:18:46.728513Z",
     "iopub.status.idle": "2023-02-27T21:18:46.746282Z",
     "shell.execute_reply": "2023-02-27T21:18:46.745417Z"
    },
    "papermill": {
     "duration": 0.048729,
     "end_time": "2023-02-27T21:18:46.748446",
     "exception": false,
     "start_time": "2023-02-27T21:18:46.699717",
     "status": "completed"
    },
    "tags": []
   },
   "outputs": [
    {
     "name": "stdout",
     "output_type": "stream",
     "text": [
      "Notebook saved to disk"
     ]
    },
    {
     "name": "stdout",
     "output_type": "stream",
     "text": [
      "\n"
     ]
    }
   ],
   "source": [
    "# Save notebook on disck before generating HTML report\n",
    "save_notebook()"
   ]
  },
  {
   "cell_type": "code",
   "execution_count": 28,
   "id": "d7137575-20bb-4fb2-b32e-0d9de2d1cba7",
   "metadata": {
    "execution": {
     "iopub.execute_input": "2023-02-27T21:18:46.804118Z",
     "iopub.status.busy": "2023-02-27T21:18:46.803647Z",
     "iopub.status.idle": "2023-02-27T21:18:50.621413Z",
     "shell.execute_reply": "2023-02-27T21:18:50.620272Z"
    },
    "papermill": {
     "duration": 3.852016,
     "end_time": "2023-02-27T21:18:50.624131",
     "exception": false,
     "start_time": "2023-02-27T21:18:46.772115",
     "status": "completed"
    },
    "tags": []
   },
   "outputs": [
    {
     "name": "stdout",
     "output_type": "stream",
     "text": [
      "WARNING: Insecure writes have been enabled via environment variable 'JUPYTER_ALLOW_INSECURE_WRITES'! If this is not intended, remove the variable or set its value to 'False'.\r\n"
     ]
    },
    {
     "name": "stdout",
     "output_type": "stream",
     "text": [
      "[NbConvertApp] Converting notebook Bandai.ipynb to HTML\r\n"
     ]
    },
    {
     "name": "stdout",
     "output_type": "stream",
     "text": [
      "[NbConvertApp] Writing 775116 bytes to ../Bandai.html\r\n"
     ]
    }
   ],
   "source": [
    "! jupyter nbconvert Bandai.ipynb --output-dir='../' --to=HTML --TagRemovePreprocessor.enabled=True --TagRemovePreprocessor.remove_cell_tags='exclude' --TemplateExporter.exclude_input=True --TemplateExporter.exclude_input_prompt=True --TemplateExporter.exclude_output_prompt=True"
   ]
  },
  {
   "cell_type": "markdown",
   "id": "a28db6c7-1f12-497c-adc6-660f199e3369",
   "metadata": {
    "papermill": {
     "duration": 0.023904,
     "end_time": "2023-02-27T21:18:50.675398",
     "exception": false,
     "start_time": "2023-02-27T21:18:50.651494",
     "status": "completed"
    },
    "tags": [
     "exclude"
    ]
   },
   "source": [
    "## Git"
   ]
  },
  {
   "cell_type": "code",
   "execution_count": null,
   "id": "0883fa53-b0b8-4ce2-ac96-559df31c9c58",
   "metadata": {
    "papermill": {
     "duration": null,
     "end_time": null,
     "exception": false,
     "start_time": "2023-02-27T21:18:50.700481",
     "status": "running"
    },
    "tags": [
     "exclude"
    ]
   },
   "outputs": [],
   "source": [
    "! git add \"../*[Bb]andai*\""
   ]
  },
  {
   "cell_type": "code",
   "execution_count": null,
   "id": "3322a6a5-a048-42f3-a1ac-3124c0353599",
   "metadata": {
    "papermill": {
     "duration": null,
     "end_time": null,
     "exception": null,
     "start_time": null,
     "status": "pending"
    },
    "tags": [
     "exclude"
    ]
   },
   "outputs": [],
   "source": [
    "! git commit -m {\"'Bandai update-\" + timestamp.isoformat() + \"'\"}"
   ]
  }
 ],
 "metadata": {
  "kernelspec": {
   "display_name": "Python 3 (ipykernel)",
   "language": "python",
   "name": "python3"
  },
  "language_info": {
   "codemirror_mode": {
    "name": "ipython",
    "version": 3
   },
   "file_extension": ".py",
   "mimetype": "text/x-python",
   "name": "python",
   "nbconvert_exporter": "python",
   "pygments_lexer": "ipython3",
   "version": "3.10.8"
  },
  "papermill": {
   "default_parameters": {},
   "duration": null,
   "end_time": null,
   "environment_variables": {},
   "exception": null,
   "input_path": "Bandai.ipynb",
   "output_path": "Bandai.ipynb",
   "parameters": {},
   "start_time": "2023-02-27T21:18:33.642399",
   "version": "2.4.0"
  }
 },
 "nbformat": 4,
 "nbformat_minor": 5
}