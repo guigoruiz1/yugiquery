{
 "cells": [
  {
   "cell_type": "code",
   "execution_count": 1,
   "id": "9903a324-2402-461a-b8b3-9dec09caceb4",
   "metadata": {
    "papermill": {
     "duration": 2.815462,
     "end_time": "2023-11-01T21:47:07.950521",
     "exception": false,
     "start_time": "2023-11-01T21:47:05.135059",
     "status": "completed"
    },
    "tags": []
   },
   "outputs": [
    {
     "data": {
      "text/markdown": [
       "<div align='center'>\n",
       "    <br>\n",
       "    <!-- Pre Style needed to fix HTML formatting -->\n",
       "    <pre style=\"line-height: var(--jp-code-line-height); font-family: var(--jp-code-font-family)\">\n",
       "    ██    ██ ██    ██  ██████  ██  ██████  ██    ██ ███████ ██████  ██    ██ \n",
       "     ██  ██  ██    ██ ██       ██ ██    ██ ██    ██ ██      ██   ██  ██  ██  \n",
       "      ████   ██    ██ ██   ███ ██ ██    ██ ██    ██ █████   ██████    ████   \n",
       "       ██    ██    ██ ██    ██ ██ ██ ▄▄ ██ ██    ██ ██      ██   ██    ██    \n",
       "       ██     ██████   ██████  ██  ██████   ██████  ███████ ██   ██    ██    \n",
       "                                      ▀▀                                     \n",
       "    </pre>\n",
       "</div>\n",
       "<div align='right'>\n",
       "    Bandai - Execution started 01/11/2023 21:49 UTC <br>\n",
       "    By <b>Guilherme Ruiz</b>\n",
       "</div>"
      ],
      "text/plain": [
       "<IPython.core.display.Markdown object>"
      ]
     },
     "execution_count": 1,
     "metadata": {},
     "output_type": "execute_result"
    }
   ],
   "source": [
    "from yugiquery import *\n",
    "\n",
    "header(\"Bandai\")"
   ]
  },
  {
   "cell_type": "markdown",
   "id": "9445cada-ce7a-4d46-a3e8-742439319435",
   "metadata": {
    "papermill": {
     "duration": 0.093172,
     "end_time": "2023-11-01T21:47:08.059454",
     "exception": false,
     "start_time": "2023-11-01T21:47:07.966282",
     "status": "completed"
    },
    "tags": []
   },
   "source": [
    "---"
   ]
  },
  {
   "cell_type": "markdown",
   "id": "ddf5afac-0c61-47d8-a0ad-f441a705eb88",
   "metadata": {
    "papermill": {
     "duration": 0.16289,
     "end_time": "2023-11-01T21:47:08.259346",
     "exception": false,
     "start_time": "2023-11-01T21:47:08.096456",
     "status": "completed"
    },
    "tags": []
   },
   "source": [
    "# Data aquisition"
   ]
  },
  {
   "cell_type": "markdown",
   "id": "cc75b862-8058-4db2-9499-446fd0d3042e",
   "metadata": {
    "papermill": {
     "duration": 0.014548,
     "end_time": "2023-11-01T21:47:08.297444",
     "exception": false,
     "start_time": "2023-11-01T21:47:08.282896",
     "status": "completed"
    },
    "tags": []
   },
   "source": [
    "## Fetch online data"
   ]
  },
  {
   "cell_type": "code",
   "execution_count": 2,
   "id": "9df14404-b603-4f17-b66e-5766bed0175b",
   "metadata": {
    "execution": {
     "iopub.execute_input": "2023-11-01T21:47:08.347508Z",
     "iopub.status.busy": "2023-11-01T21:47:08.346358Z",
     "iopub.status.idle": "2023-11-01T21:47:08.351366Z",
     "shell.execute_reply": "2023-11-01T21:47:08.350483Z"
    },
    "papermill": {
     "duration": 0.031992,
     "end_time": "2023-11-01T21:47:08.354137",
     "exception": false,
     "start_time": "2023-11-01T21:47:08.322145",
     "status": "completed"
    },
    "tags": []
   },
   "outputs": [],
   "source": [
    "timestamp = pd.Timestamp.now()"
   ]
  },
  {
   "cell_type": "code",
   "execution_count": 2,
   "id": "e29ba8f9-c3ad-4353-af35-9183e22a314b",
   "metadata": {
    "papermill": {
     "duration": 0.911543,
     "end_time": "2023-11-01T21:47:09.278678",
     "exception": false,
     "start_time": "2023-11-01T21:47:08.367135",
     "status": "completed"
    },
    "tags": []
   },
   "outputs": [
    {
     "name": "stdout",
     "output_type": "stream",
     "text": [
      "Downloading bandai cards\n"
     ]
    },
    {
     "data": {
      "application/vnd.jupyter.widget-view+json": {
       "model_id": "",
       "version_major": 2,
       "version_minor": 0
      },
      "text/plain": [
       "Output()"
      ]
     },
     "metadata": {},
     "output_type": "display_data"
    },
    {
     "name": "stderr",
     "output_type": "stream",
     "text": [
      "/home/jovyan/yugiquery/source/yugiquery.py:509: FutureWarning: DataFrame.applymap has been deprecated. Use DataFrame.map instead.\n",
      "  extracted_cols = input_df[col_matches].applymap(\n",
      "/home/jovyan/yugiquery/source/yugiquery.py:509: FutureWarning: DataFrame.applymap has been deprecated. Use DataFrame.map instead.\n",
      "  extracted_cols = input_df[col_matches].applymap(\n",
      "/home/jovyan/yugiquery/source/yugiquery.py:536: FutureWarning: DataFrame.applymap has been deprecated. Use DataFrame.map instead.\n",
      "  input_df.filter(like=\" date\").applymap(\n"
     ]
    },
    {
     "name": "stdout",
     "output_type": "stream",
     "text": [
      "120 results\n",
      "\n",
      "Error in callback <function Halo.__init__.<locals>.clean_up at 0x7fd91a56a660> (for post_run_cell), with arguments args (<ExecutionResult object at 7fd8caa8b710, execution_count=2 error_before_exec=None error_in_exec=None info=<ExecutionInfo object at 7fd8caa8b550, raw_cell=\"bandai_df = fetch_bandai()\" store_history=True silent=False shell_futures=True cell_id=e29ba8f9-c3ad-4353-af35-9183e22a314b> result=None>,),kwargs {}:\n"
     ]
    },
    {
     "ename": "TypeError",
     "evalue": "Halo.__init__.<locals>.clean_up() takes 0 positional arguments but 1 was given",
     "output_type": "error",
     "traceback": [
      "\u001b[0;31m---------------------------------------------------------------------------\u001b[0m",
      "\u001b[0;31mTypeError\u001b[0m                                 Traceback (most recent call last)",
      "\u001b[0;31mTypeError\u001b[0m: Halo.__init__.<locals>.clean_up() takes 0 positional arguments but 1 was given"
     ]
    },
    {
     "name": "stdout",
     "output_type": "stream",
     "text": [
      "\n"
     ]
    },
    {
     "name": "stdout",
     "output_type": "stream",
     "text": [
      "Error in callback <function Halo.__init__.<locals>.clean_up at 0x7fd14ad71f80> (for post_run_cell), with arguments args (<ExecutionResult object at 7fd0ffac7190, execution_count=3 error_before_exec=None error_in_exec=None info=<ExecutionInfo object at 7fd14ad89f50, raw_cell=\"bandai_df = fetch_bandai()\" store_history=True silent=False shell_futures=True cell_id=None> result=None>,),kwargs {}:"
     ]
    },
    {
     "name": "stdout",
     "output_type": "stream",
     "text": [
      "\n"
     ]
    },
    {
     "ename": "TypeError",
     "evalue": "Halo.__init__.<locals>.clean_up() takes 0 positional arguments but 1 was given",
     "output_type": "error",
     "traceback": [
      "\u001b[0;31m---------------------------------------------------------------------------\u001b[0m",
      "\u001b[0;31mTypeError\u001b[0m                                 Traceback (most recent call last)",
      "\u001b[0;31mTypeError\u001b[0m: Halo.__init__.<locals>.clean_up() takes 0 positional arguments but 1 was given"
     ]
    }
   ],
   "source": [
    "bandai_df = fetch_bandai()"
   ]
  },
  {
   "cell_type": "markdown",
   "id": "ae8c018f-312e-4582-b1ab-af7d06e3e9d1",
   "metadata": {
    "papermill": {
     "duration": 0.198335,
     "end_time": "2023-11-01T21:47:09.492805",
     "exception": false,
     "start_time": "2023-11-01T21:47:09.294470",
     "status": "completed"
    },
    "tags": []
   },
   "source": [
    "# Check changes"
   ]
  },
  {
   "cell_type": "markdown",
   "id": "6f3d5394-1deb-4877-8e8c-d3b4c389df86",
   "metadata": {
    "papermill": {
     "duration": 0.014343,
     "end_time": "2023-11-01T21:47:09.522481",
     "exception": false,
     "start_time": "2023-11-01T21:47:09.508138",
     "status": "completed"
    },
    "tags": []
   },
   "source": [
    "## Load previous data"
   ]
  },
  {
   "cell_type": "code",
   "execution_count": 4,
   "id": "8144b798-14d4-4201-8e9d-afeffc0cda45",
   "metadata": {
    "execution": {
     "iopub.execute_input": "2023-11-01T21:47:09.614555Z",
     "iopub.status.busy": "2023-11-01T21:47:09.613585Z",
     "iopub.status.idle": "2023-11-01T21:47:09.690070Z",
     "shell.execute_reply": "2023-11-01T21:47:09.689328Z"
    },
    "papermill": {
     "duration": 0.094228,
     "end_time": "2023-11-01T21:47:09.691901",
     "exception": false,
     "start_time": "2023-11-01T21:47:09.597673",
     "status": "completed"
    },
    "tags": []
   },
   "outputs": [
    {
     "name": "stdout",
     "output_type": "stream",
     "text": [
      "File loaded"
     ]
    },
    {
     "name": "stdout",
     "output_type": "stream",
     "text": [
      "\n"
     ]
    },
    {
     "name": "stdout",
     "output_type": "stream",
     "text": [
      "Error in callback <function Halo.__init__.<locals>.clean_up at 0x7fd14ad71f80> (for post_run_cell), with arguments args (<ExecutionResult object at 7fd0ffaed0d0, execution_count=4 error_before_exec=None error_in_exec=None info=<ExecutionInfo object at 7fd14ad8a010, raw_cell=\"## Get list of files\n",
      "files_list = sorted(\n",
      "    glob..\" store_history=True silent=False shell_futures=True cell_id=None> result=None>,),kwargs {}:"
     ]
    },
    {
     "name": "stdout",
     "output_type": "stream",
     "text": [
      "\n"
     ]
    },
    {
     "ename": "TypeError",
     "evalue": "Halo.__init__.<locals>.clean_up() takes 0 positional arguments but 1 was given",
     "output_type": "error",
     "traceback": [
      "\u001b[0;31m---------------------------------------------------------------------------\u001b[0m",
      "\u001b[0;31mTypeError\u001b[0m                                 Traceback (most recent call last)",
      "\u001b[0;31mTypeError\u001b[0m: Halo.__init__.<locals>.clean_up() takes 0 positional arguments but 1 was given"
     ]
    }
   ],
   "source": [
    "## Get list of files\n",
    "files_list = sorted(\n",
    "    glob.glob(\"../data/all_bandai_*.bz2\"), key=os.path.getctime, reverse=True\n",
    ")\n",
    "# Get second newest file if exist\n",
    "if files_list:\n",
    "    latest_file = files_list[0]\n",
    "    # Load csv avoiding converting \"NA\" to NaN\n",
    "    previous_df = pd.read_csv(\n",
    "        latest_file, dtype=object, keep_default_na=False, na_values=[\"\"]\n",
    "    )\n",
    "    # Force dtypes to match current df\n",
    "    previous_df = previous_df.astype(\n",
    "        bandai_df[previous_df.columns.intersection(bandai_df.columns)].dtypes.to_dict()\n",
    "    )\n",
    "    previous_ts = pd.to_datetime(\n",
    "        os.path.basename(latest_file).split(\"_\")[-1].rstrip(\".bz2\")\n",
    "    )\n",
    "    print(\"File loaded\")\n",
    "else:\n",
    "    previous_df = None\n",
    "    print(\"No older files\")"
   ]
  },
  {
   "cell_type": "markdown",
   "id": "96111a58-528d-4a95-94dc-2c8772fc8f81",
   "metadata": {
    "papermill": {
     "duration": 0.014897,
     "end_time": "2023-11-01T21:47:09.722877",
     "exception": false,
     "start_time": "2023-11-01T21:47:09.707980",
     "status": "completed"
    },
    "tags": []
   },
   "source": [
    "## Generate changelog"
   ]
  },
  {
   "cell_type": "code",
   "execution_count": 5,
   "id": "2022a407-d6c2-4ff0-8d8f-e8431901d436",
   "metadata": {
    "execution": {
     "iopub.execute_input": "2023-11-01T21:47:09.754272Z",
     "iopub.status.busy": "2023-11-01T21:47:09.753420Z",
     "iopub.status.idle": "2023-11-01T21:47:09.796237Z",
     "shell.execute_reply": "2023-11-01T21:47:09.795468Z"
    },
    "papermill": {
     "duration": 0.060588,
     "end_time": "2023-11-01T21:47:09.798173",
     "exception": false,
     "start_time": "2023-11-01T21:47:09.737585",
     "status": "completed"
    },
    "tags": []
   },
   "outputs": [
    {
     "name": "stdout",
     "output_type": "stream",
     "text": [
      "No changes"
     ]
    },
    {
     "name": "stdout",
     "output_type": "stream",
     "text": [
      "\n"
     ]
    },
    {
     "name": "stdout",
     "output_type": "stream",
     "text": [
      "Error in callback <function Halo.__init__.<locals>.clean_up at 0x7fd14ad71f80> (for post_run_cell), with arguments args (<ExecutionResult object at 7fd0ffaefc90, execution_count=5 error_before_exec=None error_in_exec=None info=<ExecutionInfo object at 7fd14daf0c10, raw_cell=\"if previous_df is None:\n",
      "    changelog = None\n",
      "    p..\" store_history=True silent=False shell_futures=True cell_id=None> result=None>,),kwargs {}:"
     ]
    },
    {
     "name": "stdout",
     "output_type": "stream",
     "text": [
      "\n"
     ]
    },
    {
     "ename": "TypeError",
     "evalue": "Halo.__init__.<locals>.clean_up() takes 0 positional arguments but 1 was given",
     "output_type": "error",
     "traceback": [
      "\u001b[0;31m---------------------------------------------------------------------------\u001b[0m",
      "\u001b[0;31mTypeError\u001b[0m                                 Traceback (most recent call last)",
      "\u001b[0;31mTypeError\u001b[0m: Halo.__init__.<locals>.clean_up() takes 0 positional arguments but 1 was given"
     ]
    }
   ],
   "source": [
    "if previous_df is None:\n",
    "    changelog = None\n",
    "    print(\"Skipped\")\n",
    "else:\n",
    "    changelog = generate_changelog(previous_df, bandai_df, col=\"Name\")\n",
    "    if not changelog.empty:\n",
    "        display(changelog)\n",
    "        changelog.to_csv(\n",
    "            f'../data/bandai_changelog_{previous_ts.isoformat(timespec=\"minutes\")}_{timestamp.isoformat(timespec=\"minutes\")}.bz2',\n",
    "            index=True,\n",
    "        )\n",
    "        print(\"Changelog saved\")"
   ]
  },
  {
   "cell_type": "markdown",
   "id": "c50bdfb0-a6d1-43d7-8c96-f9145e053946",
   "metadata": {
    "papermill": {
     "duration": 0.015347,
     "end_time": "2023-11-01T21:47:09.829826",
     "exception": false,
     "start_time": "2023-11-01T21:47:09.814479",
     "status": "completed"
    },
    "tags": []
   },
   "source": [
    "## Save data"
   ]
  },
  {
   "cell_type": "code",
   "execution_count": 6,
   "id": "c3aadd59-2d67-4c2a-81a4-3543bdbeb2f5",
   "metadata": {
    "execution": {
     "iopub.execute_input": "2023-11-01T21:47:09.863089Z",
     "iopub.status.busy": "2023-11-01T21:47:09.862131Z",
     "iopub.status.idle": "2023-11-01T21:47:09.878833Z",
     "shell.execute_reply": "2023-11-01T21:47:09.877885Z"
    },
    "papermill": {
     "duration": 0.035045,
     "end_time": "2023-11-01T21:47:09.880657",
     "exception": false,
     "start_time": "2023-11-01T21:47:09.845612",
     "status": "completed"
    },
    "tags": []
   },
   "outputs": [
    {
     "name": "stdout",
     "output_type": "stream",
     "text": [
      "No changes. New data not saved"
     ]
    },
    {
     "name": "stdout",
     "output_type": "stream",
     "text": [
      "\n"
     ]
    },
    {
     "name": "stdout",
     "output_type": "stream",
     "text": [
      "Error in callback <function Halo.__init__.<locals>.clean_up at 0x7fd14ad71f80> (for post_run_cell), with arguments args (<ExecutionResult object at 7fd0ff9375d0, execution_count=6 error_before_exec=None error_in_exec=None info=<ExecutionInfo object at 7fd14ad2ce10, raw_cell=\"if changelog is not None and changelog.empty:\n",
      "    ..\" store_history=True silent=False shell_futures=True cell_id=None> result=None>,),kwargs {}:"
     ]
    },
    {
     "name": "stdout",
     "output_type": "stream",
     "text": [
      "\n"
     ]
    },
    {
     "ename": "TypeError",
     "evalue": "Halo.__init__.<locals>.clean_up() takes 0 positional arguments but 1 was given",
     "output_type": "error",
     "traceback": [
      "\u001b[0;31m---------------------------------------------------------------------------\u001b[0m",
      "\u001b[0;31mTypeError\u001b[0m                                 Traceback (most recent call last)",
      "\u001b[0;31mTypeError\u001b[0m: Halo.__init__.<locals>.clean_up() takes 0 positional arguments but 1 was given"
     ]
    }
   ],
   "source": [
    "if changelog is not None and changelog.empty:\n",
    "    print(\"No changes. New data not saved\")\n",
    "else:\n",
    "    bandai_df.to_csv(\n",
    "        f'../data/all_bandai_{timestamp.isoformat(timespec=\"minutes\")}.bz2', index=False\n",
    "    )\n",
    "    print(\"Data saved\")"
   ]
  },
  {
   "cell_type": "markdown",
   "id": "c64d414c-93b3-4464-b985-40bf135ddb1a",
   "metadata": {
    "papermill": {
     "duration": 0.015665,
     "end_time": "2023-11-01T21:47:09.912394",
     "exception": false,
     "start_time": "2023-11-01T21:47:09.896729",
     "status": "completed"
    },
    "tags": []
   },
   "source": [
    "# Data visualization"
   ]
  },
  {
   "cell_type": "code",
   "execution_count": 7,
   "id": "56b6402a-ade8-44fc-9e6d-c46b54e6bd6f",
   "metadata": {
    "execution": {
     "iopub.execute_input": "2023-11-01T21:47:09.947371Z",
     "iopub.status.busy": "2023-11-01T21:47:09.946874Z",
     "iopub.status.idle": "2023-11-01T21:47:10.022599Z",
     "shell.execute_reply": "2023-11-01T21:47:10.021684Z"
    },
    "papermill": {
     "duration": 0.095054,
     "end_time": "2023-11-01T21:47:10.024435",
     "exception": false,
     "start_time": "2023-11-01T21:47:09.929381",
     "status": "completed"
    },
    "tags": []
   },
   "outputs": [
    {
     "data": {
      "text/html": [
       "<div>\n",
       "<style scoped>\n",
       "    .dataframe tbody tr th:only-of-type {\n",
       "        vertical-align: middle;\n",
       "    }\n",
       "\n",
       "    .dataframe tbody tr th {\n",
       "        vertical-align: top;\n",
       "    }\n",
       "\n",
       "    .dataframe thead th {\n",
       "        text-align: right;\n",
       "    }\n",
       "</style>\n",
       "<table border=\"1\" class=\"dataframe\">\n",
       "  <thead>\n",
       "    <tr style=\"text-align: right;\">\n",
       "      <th></th>\n",
       "      <th>Name</th>\n",
       "      <th>Card type</th>\n",
       "      <th>Monster type</th>\n",
       "      <th>DEF</th>\n",
       "      <th>Set</th>\n",
       "      <th>Card number</th>\n",
       "      <th>Ability</th>\n",
       "      <th>Rule</th>\n",
       "      <th>ATK</th>\n",
       "      <th>Level</th>\n",
       "      <th>Page name</th>\n",
       "      <th>Page URL</th>\n",
       "      <th>Modification date</th>\n",
       "    </tr>\n",
       "  </thead>\n",
       "  <tbody>\n",
       "    <tr>\n",
       "      <th>0</th>\n",
       "      <td>Aphrodite</td>\n",
       "      <td>Monster Card</td>\n",
       "      <td>White Magic</td>\n",
       "      <td>2300</td>\n",
       "      <td>Yu-Gi-Oh! Bandai OCG: 1st Generation</td>\n",
       "      <td>22</td>\n",
       "      <td>NaN</td>\n",
       "      <td>4</td>\n",
       "      <td>1000</td>\n",
       "      <td>5</td>\n",
       "      <td>Aphrodite</td>\n",
       "      <td>https://yugipedia.com/wiki/Aphrodite</td>\n",
       "      <td>2016-04-26 16:18:32</td>\n",
       "    </tr>\n",
       "    <tr>\n",
       "      <th>1</th>\n",
       "      <td>Armored Basic Insect with Laser Cannon</td>\n",
       "      <td>Monster Card</td>\n",
       "      <td>Insect</td>\n",
       "      <td>1300</td>\n",
       "      <td>Yu-Gi-Oh! Bandai OCG: 1st Generation</td>\n",
       "      <td>17</td>\n",
       "      <td>NaN</td>\n",
       "      <td>8</td>\n",
       "      <td>2400</td>\n",
       "      <td>6</td>\n",
       "      <td>Armored Basic Insect with Laser Cannon</td>\n",
       "      <td>https://yugipedia.com/wiki/Armored_Basic_Insec...</td>\n",
       "      <td>2014-01-09 01:32:00</td>\n",
       "    </tr>\n",
       "    <tr>\n",
       "      <th>2</th>\n",
       "      <td>Armored Lizard</td>\n",
       "      <td>Monster Card</td>\n",
       "      <td>Beast-Warrior</td>\n",
       "      <td>2000</td>\n",
       "      <td>Yu-Gi-Oh! Bandai OCG: 2nd Generation</td>\n",
       "      <td>73</td>\n",
       "      <td>NaN</td>\n",
       "      <td>6</td>\n",
       "      <td>1800</td>\n",
       "      <td>5</td>\n",
       "      <td>Armored Lizard (Bandai)</td>\n",
       "      <td>https://yugipedia.com/wiki/Armored_Lizard_(Ban...</td>\n",
       "      <td>2019-02-03 17:07:39</td>\n",
       "    </tr>\n",
       "    <tr>\n",
       "      <th>3</th>\n",
       "      <td>Armored Zombie</td>\n",
       "      <td>Monster Card</td>\n",
       "      <td>Fiend</td>\n",
       "      <td>0</td>\n",
       "      <td>Yu-Gi-Oh! Bandai OCG: 2nd Generation</td>\n",
       "      <td>80</td>\n",
       "      <td>NaN</td>\n",
       "      <td>11</td>\n",
       "      <td>2400</td>\n",
       "      <td>4</td>\n",
       "      <td>Armored Zombie (Bandai)</td>\n",
       "      <td>https://yugipedia.com/wiki/Armored_Zombie_(Ban...</td>\n",
       "      <td>2016-04-26 16:23:30</td>\n",
       "    </tr>\n",
       "    <tr>\n",
       "      <th>4</th>\n",
       "      <td>Axe Raider</td>\n",
       "      <td>Monster Card</td>\n",
       "      <td>Warrior</td>\n",
       "      <td>1500</td>\n",
       "      <td>Yu-Gi-Oh! Bandai OCG: 2nd Generation</td>\n",
       "      <td>60</td>\n",
       "      <td>NaN</td>\n",
       "      <td>7</td>\n",
       "      <td>2300</td>\n",
       "      <td>6</td>\n",
       "      <td>Axe Raider (Bandai)</td>\n",
       "      <td>https://yugipedia.com/wiki/Axe_Raider_(Bandai)</td>\n",
       "      <td>2019-02-03 16:26:18</td>\n",
       "    </tr>\n",
       "    <tr>\n",
       "      <th>...</th>\n",
       "      <td>...</td>\n",
       "      <td>...</td>\n",
       "      <td>...</td>\n",
       "      <td>...</td>\n",
       "      <td>...</td>\n",
       "      <td>...</td>\n",
       "      <td>...</td>\n",
       "      <td>...</td>\n",
       "      <td>...</td>\n",
       "      <td>...</td>\n",
       "      <td>...</td>\n",
       "      <td>...</td>\n",
       "      <td>...</td>\n",
       "    </tr>\n",
       "    <tr>\n",
       "      <th>115</th>\n",
       "      <td>The Wicked Worm Beast</td>\n",
       "      <td>Monster Card</td>\n",
       "      <td>Fiend</td>\n",
       "      <td>600</td>\n",
       "      <td>Yu-Gi-Oh! Bandai OCG: 3rd Generation</td>\n",
       "      <td>94</td>\n",
       "      <td>NaN</td>\n",
       "      <td>5</td>\n",
       "      <td>2400</td>\n",
       "      <td>5</td>\n",
       "      <td>The Wicked Worm Beast (Bandai)</td>\n",
       "      <td>https://yugipedia.com/wiki/The_Wicked_Worm_Bea...</td>\n",
       "      <td>2019-02-04 16:11:42</td>\n",
       "    </tr>\n",
       "    <tr>\n",
       "      <th>116</th>\n",
       "      <td>Winged Dragon, Guardian of the Fortress #1</td>\n",
       "      <td>Monster Card</td>\n",
       "      <td>Dragon</td>\n",
       "      <td>1600</td>\n",
       "      <td>Yu-Gi-Oh! Bandai OCG: 1st Generation</td>\n",
       "      <td>23</td>\n",
       "      <td>NaN</td>\n",
       "      <td>5</td>\n",
       "      <td>1700</td>\n",
       "      <td>4</td>\n",
       "      <td>Winged Dragon, Guardian of the Fortress 1 (Ban...</td>\n",
       "      <td>https://yugipedia.com/wiki/Winged_Dragon,_Guar...</td>\n",
       "      <td>2019-10-14 02:30:42</td>\n",
       "    </tr>\n",
       "    <tr>\n",
       "      <th>117</th>\n",
       "      <td>Yellow Hecate</td>\n",
       "      <td>Monster Card</td>\n",
       "      <td>Black Magic</td>\n",
       "      <td>1500</td>\n",
       "      <td>Yu-Gi-Oh! Bandai OCG: 3rd Generation</td>\n",
       "      <td>98</td>\n",
       "      <td>NaN</td>\n",
       "      <td>NaN</td>\n",
       "      <td>1500</td>\n",
       "      <td>4</td>\n",
       "      <td>Yellow Hecate</td>\n",
       "      <td>https://yugipedia.com/wiki/Yellow_Hecate</td>\n",
       "      <td>2019-02-04 16:18:11</td>\n",
       "    </tr>\n",
       "    <tr>\n",
       "      <th>118</th>\n",
       "      <td>Yugi Muto</td>\n",
       "      <td>Character Card</td>\n",
       "      <td>NaN</td>\n",
       "      <td>NaN</td>\n",
       "      <td>Yu-Gi-Oh! Bandai OCG: 1st Generation</td>\n",
       "      <td>1</td>\n",
       "      <td>Look Ahead</td>\n",
       "      <td>1</td>\n",
       "      <td>NaN</td>\n",
       "      <td>6</td>\n",
       "      <td>Yugi Muto (Bandai)</td>\n",
       "      <td>https://yugipedia.com/wiki/Yugi_Muto_(Bandai)</td>\n",
       "      <td>2019-02-06 02:35:41</td>\n",
       "    </tr>\n",
       "    <tr>\n",
       "      <th>119</th>\n",
       "      <td>Yugi Muto</td>\n",
       "      <td>Character Card</td>\n",
       "      <td>NaN</td>\n",
       "      <td>NaN</td>\n",
       "      <td>Yu-Gi-Oh! Bandai OCG: 1st Generation</td>\n",
       "      <td>2</td>\n",
       "      <td>Shadow Game</td>\n",
       "      <td>2</td>\n",
       "      <td>NaN</td>\n",
       "      <td>8</td>\n",
       "      <td>Yugi Muto (Yami Bandai)</td>\n",
       "      <td>https://yugipedia.com/wiki/Yugi_Muto_(Yami_Ban...</td>\n",
       "      <td>2023-03-13 04:21:03</td>\n",
       "    </tr>\n",
       "  </tbody>\n",
       "</table>\n",
       "<p>120 rows × 13 columns</p>\n",
       "</div>"
      ],
      "text/plain": [
       "                                           Name       Card type  \\\n",
       "0                                     Aphrodite    Monster Card   \n",
       "1        Armored Basic Insect with Laser Cannon    Monster Card   \n",
       "2                                Armored Lizard    Monster Card   \n",
       "3                                Armored Zombie    Monster Card   \n",
       "4                                    Axe Raider    Monster Card   \n",
       "..                                          ...             ...   \n",
       "115                       The Wicked Worm Beast    Monster Card   \n",
       "116  Winged Dragon, Guardian of the Fortress #1    Monster Card   \n",
       "117                               Yellow Hecate    Monster Card   \n",
       "118                                   Yugi Muto  Character Card   \n",
       "119                                   Yugi Muto  Character Card   \n",
       "\n",
       "      Monster type   DEF                                   Set Card number  \\\n",
       "0      White Magic  2300  Yu-Gi-Oh! Bandai OCG: 1st Generation          22   \n",
       "1           Insect  1300  Yu-Gi-Oh! Bandai OCG: 1st Generation          17   \n",
       "2    Beast-Warrior  2000  Yu-Gi-Oh! Bandai OCG: 2nd Generation          73   \n",
       "3            Fiend     0  Yu-Gi-Oh! Bandai OCG: 2nd Generation          80   \n",
       "4          Warrior  1500  Yu-Gi-Oh! Bandai OCG: 2nd Generation          60   \n",
       "..             ...   ...                                   ...         ...   \n",
       "115          Fiend   600  Yu-Gi-Oh! Bandai OCG: 3rd Generation          94   \n",
       "116         Dragon  1600  Yu-Gi-Oh! Bandai OCG: 1st Generation          23   \n",
       "117    Black Magic  1500  Yu-Gi-Oh! Bandai OCG: 3rd Generation          98   \n",
       "118            NaN   NaN  Yu-Gi-Oh! Bandai OCG: 1st Generation           1   \n",
       "119            NaN   NaN  Yu-Gi-Oh! Bandai OCG: 1st Generation           2   \n",
       "\n",
       "         Ability Rule   ATK Level  \\\n",
       "0            NaN    4  1000     5   \n",
       "1            NaN    8  2400     6   \n",
       "2            NaN    6  1800     5   \n",
       "3            NaN   11  2400     4   \n",
       "4            NaN    7  2300     6   \n",
       "..           ...  ...   ...   ...   \n",
       "115          NaN    5  2400     5   \n",
       "116          NaN    5  1700     4   \n",
       "117          NaN  NaN  1500     4   \n",
       "118   Look Ahead    1   NaN     6   \n",
       "119  Shadow Game    2   NaN     8   \n",
       "\n",
       "                                             Page name  \\\n",
       "0                                            Aphrodite   \n",
       "1               Armored Basic Insect with Laser Cannon   \n",
       "2                              Armored Lizard (Bandai)   \n",
       "3                              Armored Zombie (Bandai)   \n",
       "4                                  Axe Raider (Bandai)   \n",
       "..                                                 ...   \n",
       "115                     The Wicked Worm Beast (Bandai)   \n",
       "116  Winged Dragon, Guardian of the Fortress 1 (Ban...   \n",
       "117                                      Yellow Hecate   \n",
       "118                                 Yugi Muto (Bandai)   \n",
       "119                            Yugi Muto (Yami Bandai)   \n",
       "\n",
       "                                              Page URL   Modification date  \n",
       "0                 https://yugipedia.com/wiki/Aphrodite 2016-04-26 16:18:32  \n",
       "1    https://yugipedia.com/wiki/Armored_Basic_Insec... 2014-01-09 01:32:00  \n",
       "2    https://yugipedia.com/wiki/Armored_Lizard_(Ban... 2019-02-03 17:07:39  \n",
       "3    https://yugipedia.com/wiki/Armored_Zombie_(Ban... 2016-04-26 16:23:30  \n",
       "4       https://yugipedia.com/wiki/Axe_Raider_(Bandai) 2019-02-03 16:26:18  \n",
       "..                                                 ...                 ...  \n",
       "115  https://yugipedia.com/wiki/The_Wicked_Worm_Bea... 2019-02-04 16:11:42  \n",
       "116  https://yugipedia.com/wiki/Winged_Dragon,_Guar... 2019-10-14 02:30:42  \n",
       "117           https://yugipedia.com/wiki/Yellow_Hecate 2019-02-04 16:18:11  \n",
       "118      https://yugipedia.com/wiki/Yugi_Muto_(Bandai) 2019-02-06 02:35:41  \n",
       "119  https://yugipedia.com/wiki/Yugi_Muto_(Yami_Ban... 2023-03-13 04:21:03  \n",
       "\n",
       "[120 rows x 13 columns]"
      ]
     },
     "execution_count": 7,
     "metadata": {},
     "output_type": "execute_result"
    },
    {
     "name": "stdout",
     "output_type": "stream",
     "text": [
      "Error in callback <function Halo.__init__.<locals>.clean_up at 0x7fd14ad71f80> (for post_run_cell), with arguments args (<ExecutionResult object at 7fd0ffac7050, execution_count=7 error_before_exec=None error_in_exec=None info=<ExecutionInfo object at 7fd0ffd4ced0, raw_cell=\"bandai_df\" store_history=True silent=False shell_futures=True cell_id=None> result=                                           Name       Card type  \\\n",
      "0                                     Aphrodite    Monster Card   \n",
      "1        Armored Basic Insect with Laser Cannon    Monster Card   \n",
      "2                                Armored Lizard    Monster Card   \n",
      "3                                Armored Zombie    Monster Card   \n",
      "4                                    Axe Raider    Monster Card   \n",
      "..                                          ...             ...   \n",
      "115                       The Wicked Worm Beast    Monster Card   \n",
      "116  Winged Dragon, Guardian of the Fortress #1    Monster Card   \n",
      "117                               Yellow Hecate    Monster Card   \n",
      "118                                   Yugi Muto  Character Card   \n",
      "119                                   Yugi Muto  Character Card   \n",
      "\n",
      "      Monster type   DEF                                   Set Card number  \\\n",
      "0      White Magic  2300  Yu-Gi-Oh! Bandai OCG: 1st Generation          22   \n",
      "1           Insect  1300  Yu-Gi-Oh! Bandai OCG: 1st Generation          17   \n",
      "2    Beast-Warrior  2000  Yu-Gi-Oh! Bandai OCG: 2nd Generation          73   \n",
      "3            Fiend     0  Yu-Gi-Oh! Bandai OCG: 2nd Generation          80   \n",
      "4          Warrior  1500  Yu-Gi-Oh! Bandai OCG: 2nd Generation          60   \n",
      "..             ...   ...                                   ...         ...   \n",
      "115          Fiend   600  Yu-Gi-Oh! Bandai OCG: 3rd Generation          94   \n",
      "116         Dragon  1600  Yu-Gi-Oh! Bandai OCG: 1st Generation          23   \n",
      "117    Black Magic  1500  Yu-Gi-Oh! Bandai OCG: 3rd Generation          98   \n",
      "118            NaN   NaN  Yu-Gi-Oh! Bandai OCG: 1st Generation           1   \n",
      "119            NaN   NaN  Yu-Gi-Oh! Bandai OCG: 1st Generation           2   \n",
      "\n",
      "         Ability Rule   ATK Level  \\\n",
      "0            NaN    4  1000     5   \n",
      "1            NaN    8  2400     6   \n",
      "2            NaN    6  1800     5   \n",
      "3            NaN   11  2400     4   \n",
      "4            NaN    7  2300     6   \n",
      "..           ...  ...   ...   ...   \n",
      "115          NaN    5  2400     5   \n",
      "116          NaN    5  1700     4   \n",
      "117          NaN  NaN  1500     4   \n",
      "118   Look Ahead    1   NaN     6   \n",
      "119  Shadow Game    2   NaN     8   \n",
      "\n",
      "                                             Page name  \\\n",
      "0                                            Aphrodite   \n",
      "1               Armored Basic Insect with Laser Cannon   \n",
      "2                              Armored Lizard (Bandai)   \n",
      "3                              Armored Zombie (Bandai)   \n",
      "4                                  Axe Raider (Bandai)   \n",
      "..                                                 ...   \n",
      "115                     The Wicked Worm Beast (Bandai)   \n",
      "116  Winged Dragon, Guardian of the Fortress 1 (Ban...   \n",
      "117                                      Yellow Hecate   \n",
      "118                                 Yugi Muto (Bandai)   \n",
      "119                            Yugi Muto (Yami Bandai)   \n",
      "\n",
      "                                              Page URL   Modification date  \n",
      "0                 https://yugipedia.com/wiki/Aphrodite 2016-04-26 16:18:32  \n",
      "1    https://yugipedia.com/wiki/Armored_Basic_Insec... 2014-01-09 01:32:00  \n",
      "2    https://yugipedia.com/wiki/Armored_Lizard_(Ban... 2019-02-03 17:07:39  \n",
      "3    https://yugipedia.com/wiki/Armored_Zombie_(Ban... 2016-04-26 16:23:30  \n",
      "4       https://yugipedia.com/wiki/Axe_Raider_(Bandai) 2019-02-03 16:26:18  \n",
      "..                                                 ...                 ...  \n",
      "115  https://yugipedia.com/wiki/The_Wicked_Worm_Bea... 2019-02-04 16:11:42  \n",
      "116  https://yugipedia.com/wiki/Winged_Dragon,_Guar... 2019-10-14 02:30:42  \n",
      "117           https://yugipedia.com/wiki/Yellow_Hecate 2019-02-04 16:18:11  \n",
      "118      https://yugipedia.com/wiki/Yugi_Muto_(Bandai) 2019-02-06 02:35:41  \n",
      "119  https://yugipedia.com/wiki/Yugi_Muto_(Yami_Ban... 2023-03-13 04:21:03  \n",
      "\n",
      "[120 rows x 13 columns]>,),kwargs {}:"
     ]
    },
    {
     "name": "stdout",
     "output_type": "stream",
     "text": [
      "\n"
     ]
    },
    {
     "ename": "TypeError",
     "evalue": "Halo.__init__.<locals>.clean_up() takes 0 positional arguments but 1 was given",
     "output_type": "error",
     "traceback": [
      "\u001b[0;31m---------------------------------------------------------------------------\u001b[0m",
      "\u001b[0;31mTypeError\u001b[0m                                 Traceback (most recent call last)",
      "\u001b[0;31mTypeError\u001b[0m: Halo.__init__.<locals>.clean_up() takes 0 positional arguments but 1 was given"
     ]
    }
   ],
   "source": [
    "bandai_df"
   ]
  },
  {
   "cell_type": "markdown",
   "id": "f31c671e-6e38-4f7c-b2e2-40a434e444d1",
   "metadata": {
    "papermill": {
     "duration": 0.016572,
     "end_time": "2023-11-01T21:47:10.058292",
     "exception": false,
     "start_time": "2023-11-01T21:47:10.041720",
     "status": "completed"
    },
    "tags": []
   },
   "source": [
    "## Card type"
   ]
  },
  {
   "cell_type": "code",
   "execution_count": 8,
   "id": "1403be1f-b22b-47a1-854c-8258ba7bde97",
   "metadata": {
    "execution": {
     "iopub.execute_input": "2023-11-01T21:47:10.095200Z",
     "iopub.status.busy": "2023-11-01T21:47:10.094455Z",
     "iopub.status.idle": "2023-11-01T21:47:10.115233Z",
     "shell.execute_reply": "2023-11-01T21:47:10.114361Z"
    },
    "papermill": {
     "duration": 0.040986,
     "end_time": "2023-11-01T21:47:10.116918",
     "exception": false,
     "start_time": "2023-11-01T21:47:10.075932",
     "status": "completed"
    },
    "tags": []
   },
   "outputs": [
    {
     "name": "stdout",
     "output_type": "stream",
     "text": [
      "Total number of card types:"
     ]
    },
    {
     "name": "stdout",
     "output_type": "stream",
     "text": [
      " "
     ]
    },
    {
     "name": "stdout",
     "output_type": "stream",
     "text": [
      "5"
     ]
    },
    {
     "name": "stdout",
     "output_type": "stream",
     "text": [
      "\n"
     ]
    },
    {
     "name": "stdout",
     "output_type": "stream",
     "text": [
      "Error in callback <function Halo.__init__.<locals>.clean_up at 0x7fd14ad71f80> (for post_run_cell), with arguments args (<ExecutionResult object at 7fd0ff937150, execution_count=8 error_before_exec=None error_in_exec=None info=<ExecutionInfo object at 7fd14b237ad0, raw_cell=\"print(\"Total number of card types:\", bandai_df[\"Ca..\" store_history=True silent=False shell_futures=True cell_id=None> result=None>,),kwargs {}:"
     ]
    },
    {
     "name": "stdout",
     "output_type": "stream",
     "text": [
      "\n"
     ]
    },
    {
     "ename": "TypeError",
     "evalue": "Halo.__init__.<locals>.clean_up() takes 0 positional arguments but 1 was given",
     "output_type": "error",
     "traceback": [
      "\u001b[0;31m---------------------------------------------------------------------------\u001b[0m",
      "\u001b[0;31mTypeError\u001b[0m                                 Traceback (most recent call last)",
      "\u001b[0;31mTypeError\u001b[0m: Halo.__init__.<locals>.clean_up() takes 0 positional arguments but 1 was given"
     ]
    }
   ],
   "source": [
    "print(\"Total number of card types:\", bandai_df[\"Card type\"].nunique())"
   ]
  },
  {
   "cell_type": "code",
   "execution_count": 9,
   "id": "d2f71e96-730c-4b69-afdb-3c0e128caae2",
   "metadata": {
    "execution": {
     "iopub.execute_input": "2023-11-01T21:47:10.154054Z",
     "iopub.status.busy": "2023-11-01T21:47:10.153171Z",
     "iopub.status.idle": "2023-11-01T21:47:10.820463Z",
     "shell.execute_reply": "2023-11-01T21:47:10.819653Z"
    },
    "papermill": {
     "duration": 0.687612,
     "end_time": "2023-11-01T21:47:10.822257",
     "exception": false,
     "start_time": "2023-11-01T21:47:10.134645",
     "status": "completed"
    },
    "tags": []
   },
   "outputs": [
    {
     "data": {
      "image/png": "[encoded data removed]",
      "text/plain": [
       "<Figure size 1800x600 with 1 Axes>"
      ]
     },
     "metadata": {},
     "output_type": "display_data"
    },
    {
     "name": "stdout",
     "output_type": "stream",
     "text": [
      "Error in callback <function Halo.__init__.<locals>.clean_up at 0x7fd14ad71f80> (for post_run_cell), with arguments args (<ExecutionResult object at 7fd0ff937790, execution_count=9 error_before_exec=None error_in_exec=None info=<ExecutionInfo object at 7fd0ffd4ced0, raw_cell=\"card_type_colors = [colors_dict[i] for i in bandai..\" store_history=True silent=False shell_futures=True cell_id=None> result=None>,),kwargs {}:"
     ]
    },
    {
     "name": "stdout",
     "output_type": "stream",
     "text": [
      "\n"
     ]
    },
    {
     "ename": "TypeError",
     "evalue": "Halo.__init__.<locals>.clean_up() takes 0 positional arguments but 1 was given",
     "output_type": "error",
     "traceback": [
      "\u001b[0;31m---------------------------------------------------------------------------\u001b[0m",
      "\u001b[0;31mTypeError\u001b[0m                                 Traceback (most recent call last)",
      "\u001b[0;31mTypeError\u001b[0m: Halo.__init__.<locals>.clean_up() takes 0 positional arguments but 1 was given"
     ]
    }
   ],
   "source": [
    "card_type_colors = [colors_dict[i] for i in bandai_df[\"Card type\"].value_counts().index]\n",
    "bandai_df[\"Card type\"].value_counts().plot.bar(\n",
    "    figsize=(18, 6), grid=True, rot=0, color=card_type_colors, title=\"Card type\"\n",
    ")\n",
    "plt.show()"
   ]
  },
  {
   "cell_type": "markdown",
   "id": "00c6b243-67ad-42c5-9189-4d2d33c5372c",
   "metadata": {
    "papermill": {
     "duration": 0.057299,
     "end_time": "2023-11-01T21:47:10.898823",
     "exception": false,
     "start_time": "2023-11-01T21:47:10.841524",
     "status": "completed"
    },
    "tags": []
   },
   "source": [
    "## ATK"
   ]
  },
  {
   "cell_type": "code",
   "execution_count": 10,
   "id": "1b5db865",
   "metadata": {
    "execution": {
     "iopub.execute_input": "2023-11-01T21:47:10.937406Z",
     "iopub.status.busy": "2023-11-01T21:47:10.936971Z",
     "iopub.status.idle": "2023-11-01T21:47:10.953301Z",
     "shell.execute_reply": "2023-11-01T21:47:10.952357Z"
    },
    "papermill": {
     "duration": 0.037664,
     "end_time": "2023-11-01T21:47:10.955050",
     "exception": false,
     "start_time": "2023-11-01T21:47:10.917386",
     "status": "completed"
    },
    "tags": []
   },
   "outputs": [
    {
     "name": "stdout",
     "output_type": "stream",
     "text": [
      "Total number of ATK values:"
     ]
    },
    {
     "name": "stdout",
     "output_type": "stream",
     "text": [
      " "
     ]
    },
    {
     "name": "stdout",
     "output_type": "stream",
     "text": [
      "27"
     ]
    },
    {
     "name": "stdout",
     "output_type": "stream",
     "text": [
      "\n"
     ]
    },
    {
     "name": "stdout",
     "output_type": "stream",
     "text": [
      "Error in callback <function Halo.__init__.<locals>.clean_up at 0x7fd14ad71f80> (for post_run_cell), with arguments args (<ExecutionResult object at 7fd0ff87fa50, execution_count=10 error_before_exec=None error_in_exec=None info=<ExecutionInfo object at 7fd14b237ad0, raw_cell=\"print(\"Total number of ATK values:\", bandai_df[\"AT..\" store_history=True silent=False shell_futures=True cell_id=None> result=None>,),kwargs {}:"
     ]
    },
    {
     "name": "stdout",
     "output_type": "stream",
     "text": [
      "\n"
     ]
    },
    {
     "ename": "TypeError",
     "evalue": "Halo.__init__.<locals>.clean_up() takes 0 positional arguments but 1 was given",
     "output_type": "error",
     "traceback": [
      "\u001b[0;31m---------------------------------------------------------------------------\u001b[0m",
      "\u001b[0;31mTypeError\u001b[0m                                 Traceback (most recent call last)",
      "\u001b[0;31mTypeError\u001b[0m: Halo.__init__.<locals>.clean_up() takes 0 positional arguments but 1 was given"
     ]
    }
   ],
   "source": [
    "print(\"Total number of ATK values:\", bandai_df[\"ATK\"].nunique())"
   ]
  },
  {
   "cell_type": "code",
   "execution_count": 11,
   "id": "16b9aa14",
   "metadata": {
    "execution": {
     "iopub.execute_input": "2023-11-01T21:47:10.996757Z",
     "iopub.status.busy": "2023-11-01T21:47:10.996375Z",
     "iopub.status.idle": "2023-11-01T21:47:11.043605Z",
     "shell.execute_reply": "2023-11-01T21:47:11.042729Z"
    },
    "papermill": {
     "duration": 0.070042,
     "end_time": "2023-11-01T21:47:11.045684",
     "exception": false,
     "start_time": "2023-11-01T21:47:10.975642",
     "status": "completed"
    },
    "tags": []
   },
   "outputs": [
    {
     "data": {
      "text/html": [
       "<div>\n",
       "<style scoped>\n",
       "    .dataframe tbody tr th:only-of-type {\n",
       "        vertical-align: middle;\n",
       "    }\n",
       "\n",
       "    .dataframe tbody tr th {\n",
       "        vertical-align: top;\n",
       "    }\n",
       "\n",
       "    .dataframe thead th {\n",
       "        text-align: right;\n",
       "    }\n",
       "</style>\n",
       "<table border=\"1\" class=\"dataframe\">\n",
       "  <thead>\n",
       "    <tr style=\"text-align: right;\">\n",
       "      <th></th>\n",
       "      <th>Name</th>\n",
       "      <th>Monster type</th>\n",
       "      <th>DEF</th>\n",
       "      <th>Set</th>\n",
       "      <th>Card number</th>\n",
       "      <th>Ability</th>\n",
       "      <th>Rule</th>\n",
       "      <th>Level</th>\n",
       "      <th>Modification date</th>\n",
       "    </tr>\n",
       "    <tr>\n",
       "      <th>ATK</th>\n",
       "      <th></th>\n",
       "      <th></th>\n",
       "      <th></th>\n",
       "      <th></th>\n",
       "      <th></th>\n",
       "      <th></th>\n",
       "      <th></th>\n",
       "      <th></th>\n",
       "      <th></th>\n",
       "    </tr>\n",
       "  </thead>\n",
       "  <tbody>\n",
       "    <tr>\n",
       "      <th>100</th>\n",
       "      <td>1</td>\n",
       "      <td>1</td>\n",
       "      <td>1</td>\n",
       "      <td>1</td>\n",
       "      <td>1</td>\n",
       "      <td>0</td>\n",
       "      <td>0</td>\n",
       "      <td>1</td>\n",
       "      <td>1</td>\n",
       "    </tr>\n",
       "    <tr>\n",
       "      <th>200</th>\n",
       "      <td>5</td>\n",
       "      <td>1</td>\n",
       "      <td>2</td>\n",
       "      <td>2</td>\n",
       "      <td>5</td>\n",
       "      <td>0</td>\n",
       "      <td>0</td>\n",
       "      <td>2</td>\n",
       "      <td>5</td>\n",
       "    </tr>\n",
       "    <tr>\n",
       "      <th>400</th>\n",
       "      <td>1</td>\n",
       "      <td>1</td>\n",
       "      <td>1</td>\n",
       "      <td>1</td>\n",
       "      <td>1</td>\n",
       "      <td>0</td>\n",
       "      <td>0</td>\n",
       "      <td>1</td>\n",
       "      <td>1</td>\n",
       "    </tr>\n",
       "    <tr>\n",
       "      <th>500</th>\n",
       "      <td>2</td>\n",
       "      <td>2</td>\n",
       "      <td>2</td>\n",
       "      <td>2</td>\n",
       "      <td>2</td>\n",
       "      <td>0</td>\n",
       "      <td>2</td>\n",
       "      <td>1</td>\n",
       "      <td>2</td>\n",
       "    </tr>\n",
       "    <tr>\n",
       "      <th>600</th>\n",
       "      <td>2</td>\n",
       "      <td>2</td>\n",
       "      <td>2</td>\n",
       "      <td>1</td>\n",
       "      <td>2</td>\n",
       "      <td>0</td>\n",
       "      <td>2</td>\n",
       "      <td>2</td>\n",
       "      <td>2</td>\n",
       "    </tr>\n",
       "    <tr>\n",
       "      <th>800</th>\n",
       "      <td>3</td>\n",
       "      <td>3</td>\n",
       "      <td>3</td>\n",
       "      <td>3</td>\n",
       "      <td>3</td>\n",
       "      <td>0</td>\n",
       "      <td>2</td>\n",
       "      <td>2</td>\n",
       "      <td>3</td>\n",
       "    </tr>\n",
       "    <tr>\n",
       "      <th>900</th>\n",
       "      <td>1</td>\n",
       "      <td>1</td>\n",
       "      <td>1</td>\n",
       "      <td>1</td>\n",
       "      <td>1</td>\n",
       "      <td>0</td>\n",
       "      <td>1</td>\n",
       "      <td>1</td>\n",
       "      <td>1</td>\n",
       "    </tr>\n",
       "    <tr>\n",
       "      <th>1000</th>\n",
       "      <td>3</td>\n",
       "      <td>2</td>\n",
       "      <td>3</td>\n",
       "      <td>2</td>\n",
       "      <td>3</td>\n",
       "      <td>0</td>\n",
       "      <td>2</td>\n",
       "      <td>2</td>\n",
       "      <td>3</td>\n",
       "    </tr>\n",
       "    <tr>\n",
       "      <th>1200</th>\n",
       "      <td>2</td>\n",
       "      <td>2</td>\n",
       "      <td>2</td>\n",
       "      <td>2</td>\n",
       "      <td>2</td>\n",
       "      <td>0</td>\n",
       "      <td>2</td>\n",
       "      <td>2</td>\n",
       "      <td>2</td>\n",
       "    </tr>\n",
       "    <tr>\n",
       "      <th>1300</th>\n",
       "      <td>2</td>\n",
       "      <td>2</td>\n",
       "      <td>2</td>\n",
       "      <td>2</td>\n",
       "      <td>2</td>\n",
       "      <td>0</td>\n",
       "      <td>2</td>\n",
       "      <td>2</td>\n",
       "      <td>2</td>\n",
       "    </tr>\n",
       "    <tr>\n",
       "      <th>1400</th>\n",
       "      <td>2</td>\n",
       "      <td>2</td>\n",
       "      <td>2</td>\n",
       "      <td>2</td>\n",
       "      <td>2</td>\n",
       "      <td>0</td>\n",
       "      <td>2</td>\n",
       "      <td>2</td>\n",
       "      <td>2</td>\n",
       "    </tr>\n",
       "    <tr>\n",
       "      <th>1500</th>\n",
       "      <td>10</td>\n",
       "      <td>6</td>\n",
       "      <td>6</td>\n",
       "      <td>2</td>\n",
       "      <td>10</td>\n",
       "      <td>0</td>\n",
       "      <td>6</td>\n",
       "      <td>4</td>\n",
       "      <td>10</td>\n",
       "    </tr>\n",
       "    <tr>\n",
       "      <th>1600</th>\n",
       "      <td>2</td>\n",
       "      <td>1</td>\n",
       "      <td>2</td>\n",
       "      <td>1</td>\n",
       "      <td>2</td>\n",
       "      <td>0</td>\n",
       "      <td>1</td>\n",
       "      <td>2</td>\n",
       "      <td>2</td>\n",
       "    </tr>\n",
       "    <tr>\n",
       "      <th>1700</th>\n",
       "      <td>1</td>\n",
       "      <td>1</td>\n",
       "      <td>1</td>\n",
       "      <td>1</td>\n",
       "      <td>1</td>\n",
       "      <td>0</td>\n",
       "      <td>1</td>\n",
       "      <td>1</td>\n",
       "      <td>1</td>\n",
       "    </tr>\n",
       "    <tr>\n",
       "      <th>1800</th>\n",
       "      <td>10</td>\n",
       "      <td>6</td>\n",
       "      <td>5</td>\n",
       "      <td>3</td>\n",
       "      <td>10</td>\n",
       "      <td>0</td>\n",
       "      <td>5</td>\n",
       "      <td>5</td>\n",
       "      <td>10</td>\n",
       "    </tr>\n",
       "    <tr>\n",
       "      <th>1900</th>\n",
       "      <td>1</td>\n",
       "      <td>1</td>\n",
       "      <td>1</td>\n",
       "      <td>1</td>\n",
       "      <td>1</td>\n",
       "      <td>0</td>\n",
       "      <td>1</td>\n",
       "      <td>1</td>\n",
       "      <td>1</td>\n",
       "    </tr>\n",
       "    <tr>\n",
       "      <th>2000</th>\n",
       "      <td>10</td>\n",
       "      <td>6</td>\n",
       "      <td>8</td>\n",
       "      <td>3</td>\n",
       "      <td>10</td>\n",
       "      <td>0</td>\n",
       "      <td>7</td>\n",
       "      <td>3</td>\n",
       "      <td>10</td>\n",
       "    </tr>\n",
       "    <tr>\n",
       "      <th>2100</th>\n",
       "      <td>4</td>\n",
       "      <td>3</td>\n",
       "      <td>3</td>\n",
       "      <td>2</td>\n",
       "      <td>4</td>\n",
       "      <td>0</td>\n",
       "      <td>3</td>\n",
       "      <td>2</td>\n",
       "      <td>4</td>\n",
       "    </tr>\n",
       "    <tr>\n",
       "      <th>2200</th>\n",
       "      <td>2</td>\n",
       "      <td>2</td>\n",
       "      <td>2</td>\n",
       "      <td>1</td>\n",
       "      <td>2</td>\n",
       "      <td>0</td>\n",
       "      <td>2</td>\n",
       "      <td>2</td>\n",
       "      <td>2</td>\n",
       "    </tr>\n",
       "    <tr>\n",
       "      <th>2300</th>\n",
       "      <td>8</td>\n",
       "      <td>5</td>\n",
       "      <td>6</td>\n",
       "      <td>3</td>\n",
       "      <td>8</td>\n",
       "      <td>0</td>\n",
       "      <td>6</td>\n",
       "      <td>2</td>\n",
       "      <td>8</td>\n",
       "    </tr>\n",
       "    <tr>\n",
       "      <th>2400</th>\n",
       "      <td>9</td>\n",
       "      <td>5</td>\n",
       "      <td>9</td>\n",
       "      <td>3</td>\n",
       "      <td>9</td>\n",
       "      <td>0</td>\n",
       "      <td>6</td>\n",
       "      <td>4</td>\n",
       "      <td>9</td>\n",
       "    </tr>\n",
       "    <tr>\n",
       "      <th>2500</th>\n",
       "      <td>5</td>\n",
       "      <td>4</td>\n",
       "      <td>5</td>\n",
       "      <td>2</td>\n",
       "      <td>5</td>\n",
       "      <td>0</td>\n",
       "      <td>4</td>\n",
       "      <td>3</td>\n",
       "      <td>5</td>\n",
       "    </tr>\n",
       "    <tr>\n",
       "      <th>2600</th>\n",
       "      <td>4</td>\n",
       "      <td>4</td>\n",
       "      <td>4</td>\n",
       "      <td>2</td>\n",
       "      <td>4</td>\n",
       "      <td>0</td>\n",
       "      <td>3</td>\n",
       "      <td>2</td>\n",
       "      <td>4</td>\n",
       "    </tr>\n",
       "    <tr>\n",
       "      <th>3000</th>\n",
       "      <td>1</td>\n",
       "      <td>1</td>\n",
       "      <td>1</td>\n",
       "      <td>2</td>\n",
       "      <td>2</td>\n",
       "      <td>0</td>\n",
       "      <td>1</td>\n",
       "      <td>1</td>\n",
       "      <td>2</td>\n",
       "    </tr>\n",
       "    <tr>\n",
       "      <th>3200</th>\n",
       "      <td>1</td>\n",
       "      <td>1</td>\n",
       "      <td>1</td>\n",
       "      <td>1</td>\n",
       "      <td>1</td>\n",
       "      <td>0</td>\n",
       "      <td>0</td>\n",
       "      <td>1</td>\n",
       "      <td>1</td>\n",
       "    </tr>\n",
       "    <tr>\n",
       "      <th>3500</th>\n",
       "      <td>1</td>\n",
       "      <td>1</td>\n",
       "      <td>1</td>\n",
       "      <td>1</td>\n",
       "      <td>1</td>\n",
       "      <td>0</td>\n",
       "      <td>0</td>\n",
       "      <td>1</td>\n",
       "      <td>1</td>\n",
       "    </tr>\n",
       "    <tr>\n",
       "      <th>4500</th>\n",
       "      <td>1</td>\n",
       "      <td>1</td>\n",
       "      <td>1</td>\n",
       "      <td>1</td>\n",
       "      <td>0</td>\n",
       "      <td>0</td>\n",
       "      <td>0</td>\n",
       "      <td>1</td>\n",
       "      <td>1</td>\n",
       "    </tr>\n",
       "  </tbody>\n",
       "</table>\n",
       "</div>"
      ],
      "text/plain": [
       "      Name  Monster type  DEF  Set  Card number  Ability  Rule  Level  \\\n",
       "ATK                                                                     \n",
       "100      1             1    1    1            1        0     0      1   \n",
       "200      5             1    2    2            5        0     0      2   \n",
       "400      1             1    1    1            1        0     0      1   \n",
       "500      2             2    2    2            2        0     2      1   \n",
       "600      2             2    2    1            2        0     2      2   \n",
       "800      3             3    3    3            3        0     2      2   \n",
       "900      1             1    1    1            1        0     1      1   \n",
       "1000     3             2    3    2            3        0     2      2   \n",
       "1200     2             2    2    2            2        0     2      2   \n",
       "1300     2             2    2    2            2        0     2      2   \n",
       "1400     2             2    2    2            2        0     2      2   \n",
       "1500    10             6    6    2           10        0     6      4   \n",
       "1600     2             1    2    1            2        0     1      2   \n",
       "1700     1             1    1    1            1        0     1      1   \n",
       "1800    10             6    5    3           10        0     5      5   \n",
       "1900     1             1    1    1            1        0     1      1   \n",
       "2000    10             6    8    3           10        0     7      3   \n",
       "2100     4             3    3    2            4        0     3      2   \n",
       "2200     2             2    2    1            2        0     2      2   \n",
       "2300     8             5    6    3            8        0     6      2   \n",
       "2400     9             5    9    3            9        0     6      4   \n",
       "2500     5             4    5    2            5        0     4      3   \n",
       "2600     4             4    4    2            4        0     3      2   \n",
       "3000     1             1    1    2            2        0     1      1   \n",
       "3200     1             1    1    1            1        0     0      1   \n",
       "3500     1             1    1    1            1        0     0      1   \n",
       "4500     1             1    1    1            0        0     0      1   \n",
       "\n",
       "      Modification date  \n",
       "ATK                      \n",
       "100                   1  \n",
       "200                   5  \n",
       "400                   1  \n",
       "500                   2  \n",
       "600                   2  \n",
       "800                   3  \n",
       "900                   1  \n",
       "1000                  3  \n",
       "1200                  2  \n",
       "1300                  2  \n",
       "1400                  2  \n",
       "1500                 10  \n",
       "1600                  2  \n",
       "1700                  1  \n",
       "1800                 10  \n",
       "1900                  1  \n",
       "2000                 10  \n",
       "2100                  4  \n",
       "2200                  2  \n",
       "2300                  8  \n",
       "2400                  9  \n",
       "2500                  5  \n",
       "2600                  4  \n",
       "3000                  2  \n",
       "3200                  1  \n",
       "3500                  1  \n",
       "4500                  1  "
      ]
     },
     "execution_count": 11,
     "metadata": {},
     "output_type": "execute_result"
    },
    {
     "name": "stdout",
     "output_type": "stream",
     "text": [
      "Error in callback <function Halo.__init__.<locals>.clean_up at 0x7fd14ad71f80> (for post_run_cell), with arguments args (<ExecutionResult object at 7fd0ff87fb90, execution_count=11 error_before_exec=None error_in_exec=None info=<ExecutionInfo object at 7fd0ff8d58d0, raw_cell=\"bandai_df.drop(columns=[\"Card type\", \"Page name\", ..\" store_history=True silent=False shell_futures=True cell_id=None> result=      Name  Monster type  DEF  Set  Card number  Ability  Rule  Level  \\\n",
      "ATK                                                                     \n",
      "100      1             1    1    1            1        0     0      1   \n",
      "200      5             1    2    2            5        0     0      2   \n",
      "400      1             1    1    1            1        0     0      1   \n",
      "500      2             2    2    2            2        0     2      1   \n",
      "600      2             2    2    1            2        0     2      2   \n",
      "800      3             3    3    3            3        0     2      2   \n",
      "900      1             1    1    1            1        0     1      1   \n",
      "1000     3             2    3    2            3        0     2      2   \n",
      "1200     2             2    2    2            2        0     2      2   \n",
      "1300     2             2    2    2            2        0     2      2   \n",
      "1400     2             2    2    2            2        0     2      2   \n",
      "1500    10             6    6    2           10        0     6      4   \n",
      "1600     2             1    2    1            2        0     1      2   \n",
      "1700     1             1    1    1            1        0     1      1   \n",
      "1800    10             6    5    3           10        0     5      5   \n",
      "1900     1             1    1    1            1        0     1      1   \n",
      "2000    10             6    8    3           10        0     7      3   \n",
      "2100     4             3    3    2            4        0     3      2   \n",
      "2200     2             2    2    1            2        0     2      2   \n",
      "2300     8             5    6    3            8        0     6      2   \n",
      "2400     9             5    9    3            9        0     6      4   \n",
      "2500     5             4    5    2            5        0     4      3   \n",
      "2600     4             4    4    2            4        0     3      2   \n",
      "3000     1             1    1    2            2        0     1      1   \n",
      "3200     1             1    1    1            1        0     0      1   \n",
      "3500     1             1    1    1            1        0     0      1   \n",
      "4500     1             1    1    1            0        0     0      1   \n",
      "\n",
      "      Modification date  \n",
      "ATK                      \n",
      "100                   1  \n",
      "200                   5  \n",
      "400                   1  \n",
      "500                   2  \n",
      "600                   2  \n",
      "800                   3  \n",
      "900                   1  \n",
      "1000                  3  \n",
      "1200                  2  \n",
      "1300                  2  \n",
      "1400                  2  \n",
      "1500                 10  \n",
      "1600                  2  \n",
      "1700                  1  \n",
      "1800                 10  \n",
      "1900                  1  \n",
      "2000                 10  \n",
      "2100                  4  \n",
      "2200                  2  \n",
      "2300                  8  \n",
      "2400                  9  \n",
      "2500                  5  \n",
      "2600                  4  \n",
      "3000                  2  \n",
      "3200                  1  \n",
      "3500                  1  \n",
      "4500                  1  >,),kwargs {}:"
     ]
    },
    {
     "name": "stdout",
     "output_type": "stream",
     "text": [
      "\n"
     ]
    },
    {
     "ename": "TypeError",
     "evalue": "Halo.__init__.<locals>.clean_up() takes 0 positional arguments but 1 was given",
     "output_type": "error",
     "traceback": [
      "\u001b[0;31m---------------------------------------------------------------------------\u001b[0m",
      "\u001b[0;31mTypeError\u001b[0m                                 Traceback (most recent call last)",
      "\u001b[0;31mTypeError\u001b[0m: Halo.__init__.<locals>.clean_up() takes 0 positional arguments but 1 was given"
     ]
    }
   ],
   "source": [
    "bandai_df.drop(columns=[\"Card type\", \"Page name\", \"Page URL\"]).groupby(\n",
    "    \"ATK\"\n",
    ").nunique().sort_index(key=lambda x: pd.to_numeric(x, errors=\"coerce\"))"
   ]
  },
  {
   "cell_type": "code",
   "execution_count": 12,
   "id": "3b1b2e1d",
   "metadata": {
    "execution": {
     "iopub.execute_input": "2023-11-01T21:47:11.091741Z",
     "iopub.status.busy": "2023-11-01T21:47:11.091344Z",
     "iopub.status.idle": "2023-11-01T21:47:11.508239Z",
     "shell.execute_reply": "2023-11-01T21:47:11.507374Z"
    },
    "papermill": {
     "duration": 0.444034,
     "end_time": "2023-11-01T21:47:11.510112",
     "exception": false,
     "start_time": "2023-11-01T21:47:11.066078",
     "status": "completed"
    },
    "tags": []
   },
   "outputs": [
    {
     "data": {
      "image/png": "[encoded data removed]",
      "text/plain": [
       "<Figure size 1800x600 with 1 Axes>"
      ]
     },
     "metadata": {},
     "output_type": "display_data"
    },
    {
     "name": "stdout",
     "output_type": "stream",
     "text": [
      "Error in callback <function Halo.__init__.<locals>.clean_up at 0x7fd14ad71f80> (for post_run_cell), with arguments args (<ExecutionResult object at 7fd0ff910c50, execution_count=12 error_before_exec=None error_in_exec=None info=<ExecutionInfo object at 7fd14b237ad0, raw_cell=\"atk_colors = colors_dict[\"Monster Card\"]\n",
      "bandai_df..\" store_history=True silent=False shell_futures=True cell_id=None> result=None>,),kwargs {}:"
     ]
    },
    {
     "name": "stdout",
     "output_type": "stream",
     "text": [
      "\n"
     ]
    },
    {
     "ename": "TypeError",
     "evalue": "Halo.__init__.<locals>.clean_up() takes 0 positional arguments but 1 was given",
     "output_type": "error",
     "traceback": [
      "\u001b[0;31m---------------------------------------------------------------------------\u001b[0m",
      "\u001b[0;31mTypeError\u001b[0m                                 Traceback (most recent call last)",
      "\u001b[0;31mTypeError\u001b[0m: Halo.__init__.<locals>.clean_up() takes 0 positional arguments but 1 was given"
     ]
    }
   ],
   "source": [
    "atk_colors = colors_dict[\"Monster Card\"]\n",
    "bandai_df[\"ATK\"].value_counts().sort_index(\n",
    "    key=lambda x: pd.to_numeric(x, errors=\"coerce\")\n",
    ").plot.bar(figsize=(18, 6), grid=True, color=atk_colors, title=\"ATK\")\n",
    "plt.show()"
   ]
  },
  {
   "cell_type": "markdown",
   "id": "8c7f10ac-6c4e-42fe-be55-c2ea61abb7ae",
   "metadata": {
    "papermill": {
     "duration": 0.088699,
     "end_time": "2023-11-01T21:47:11.621878",
     "exception": false,
     "start_time": "2023-11-01T21:47:11.533179",
     "status": "completed"
    },
    "tags": []
   },
   "source": [
    "## DEF"
   ]
  },
  {
   "cell_type": "code",
   "execution_count": 13,
   "id": "2aa0ba61",
   "metadata": {
    "execution": {
     "iopub.execute_input": "2023-11-01T21:47:11.666505Z",
     "iopub.status.busy": "2023-11-01T21:47:11.666074Z",
     "iopub.status.idle": "2023-11-01T21:47:11.681446Z",
     "shell.execute_reply": "2023-11-01T21:47:11.680665Z"
    },
    "papermill": {
     "duration": 0.039591,
     "end_time": "2023-11-01T21:47:11.683116",
     "exception": false,
     "start_time": "2023-11-01T21:47:11.643525",
     "status": "completed"
    },
    "tags": []
   },
   "outputs": [
    {
     "name": "stdout",
     "output_type": "stream",
     "text": [
      "Total number of DEF values:"
     ]
    },
    {
     "name": "stdout",
     "output_type": "stream",
     "text": [
      " "
     ]
    },
    {
     "name": "stdout",
     "output_type": "stream",
     "text": [
      "27"
     ]
    },
    {
     "name": "stdout",
     "output_type": "stream",
     "text": [
      "\n"
     ]
    },
    {
     "name": "stdout",
     "output_type": "stream",
     "text": [
      "Error in callback <function Halo.__init__.<locals>.clean_up at 0x7fd14ad71f80> (for post_run_cell), with arguments args (<ExecutionResult object at 7fd0fd6e4090, execution_count=13 error_before_exec=None error_in_exec=None info=<ExecutionInfo object at 7fd0fd703a10, raw_cell=\"print(\"Total number of DEF values:\", bandai_df[\"DE..\" store_history=True silent=False shell_futures=True cell_id=None> result=None>,),kwargs {}:"
     ]
    },
    {
     "name": "stdout",
     "output_type": "stream",
     "text": [
      "\n"
     ]
    },
    {
     "ename": "TypeError",
     "evalue": "Halo.__init__.<locals>.clean_up() takes 0 positional arguments but 1 was given",
     "output_type": "error",
     "traceback": [
      "\u001b[0;31m---------------------------------------------------------------------------\u001b[0m",
      "\u001b[0;31mTypeError\u001b[0m                                 Traceback (most recent call last)",
      "\u001b[0;31mTypeError\u001b[0m: Halo.__init__.<locals>.clean_up() takes 0 positional arguments but 1 was given"
     ]
    }
   ],
   "source": [
    "print(\"Total number of DEF values:\", bandai_df[\"DEF\"].nunique())"
   ]
  },
  {
   "cell_type": "code",
   "execution_count": 14,
   "id": "54e9d56a",
   "metadata": {
    "execution": {
     "iopub.execute_input": "2023-11-01T21:47:11.728569Z",
     "iopub.status.busy": "2023-11-01T21:47:11.727865Z",
     "iopub.status.idle": "2023-11-01T21:47:11.762426Z",
     "shell.execute_reply": "2023-11-01T21:47:11.761635Z"
    },
    "papermill": {
     "duration": 0.059347,
     "end_time": "2023-11-01T21:47:11.764233",
     "exception": false,
     "start_time": "2023-11-01T21:47:11.704886",
     "status": "completed"
    },
    "tags": []
   },
   "outputs": [
    {
     "data": {
      "text/html": [
       "<div>\n",
       "<style scoped>\n",
       "    .dataframe tbody tr th:only-of-type {\n",
       "        vertical-align: middle;\n",
       "    }\n",
       "\n",
       "    .dataframe tbody tr th {\n",
       "        vertical-align: top;\n",
       "    }\n",
       "\n",
       "    .dataframe thead th {\n",
       "        text-align: right;\n",
       "    }\n",
       "</style>\n",
       "<table border=\"1\" class=\"dataframe\">\n",
       "  <thead>\n",
       "    <tr style=\"text-align: right;\">\n",
       "      <th></th>\n",
       "      <th>Name</th>\n",
       "      <th>Monster type</th>\n",
       "      <th>Set</th>\n",
       "      <th>Card number</th>\n",
       "      <th>Ability</th>\n",
       "      <th>Rule</th>\n",
       "      <th>ATK</th>\n",
       "      <th>Level</th>\n",
       "      <th>Modification date</th>\n",
       "    </tr>\n",
       "    <tr>\n",
       "      <th>DEF</th>\n",
       "      <th></th>\n",
       "      <th></th>\n",
       "      <th></th>\n",
       "      <th></th>\n",
       "      <th></th>\n",
       "      <th></th>\n",
       "      <th></th>\n",
       "      <th></th>\n",
       "      <th></th>\n",
       "    </tr>\n",
       "  </thead>\n",
       "  <tbody>\n",
       "    <tr>\n",
       "      <th>0</th>\n",
       "      <td>2</td>\n",
       "      <td>1</td>\n",
       "      <td>1</td>\n",
       "      <td>2</td>\n",
       "      <td>0</td>\n",
       "      <td>2</td>\n",
       "      <td>2</td>\n",
       "      <td>2</td>\n",
       "      <td>2</td>\n",
       "    </tr>\n",
       "    <tr>\n",
       "      <th>200</th>\n",
       "      <td>1</td>\n",
       "      <td>1</td>\n",
       "      <td>1</td>\n",
       "      <td>1</td>\n",
       "      <td>0</td>\n",
       "      <td>0</td>\n",
       "      <td>1</td>\n",
       "      <td>1</td>\n",
       "      <td>1</td>\n",
       "    </tr>\n",
       "    <tr>\n",
       "      <th>300</th>\n",
       "      <td>5</td>\n",
       "      <td>1</td>\n",
       "      <td>3</td>\n",
       "      <td>5</td>\n",
       "      <td>0</td>\n",
       "      <td>1</td>\n",
       "      <td>2</td>\n",
       "      <td>2</td>\n",
       "      <td>5</td>\n",
       "    </tr>\n",
       "    <tr>\n",
       "      <th>400</th>\n",
       "      <td>3</td>\n",
       "      <td>3</td>\n",
       "      <td>2</td>\n",
       "      <td>3</td>\n",
       "      <td>0</td>\n",
       "      <td>2</td>\n",
       "      <td>3</td>\n",
       "      <td>3</td>\n",
       "      <td>3</td>\n",
       "    </tr>\n",
       "    <tr>\n",
       "      <th>500</th>\n",
       "      <td>1</td>\n",
       "      <td>1</td>\n",
       "      <td>1</td>\n",
       "      <td>1</td>\n",
       "      <td>0</td>\n",
       "      <td>1</td>\n",
       "      <td>1</td>\n",
       "      <td>1</td>\n",
       "      <td>1</td>\n",
       "    </tr>\n",
       "    <tr>\n",
       "      <th>600</th>\n",
       "      <td>5</td>\n",
       "      <td>5</td>\n",
       "      <td>3</td>\n",
       "      <td>5</td>\n",
       "      <td>0</td>\n",
       "      <td>4</td>\n",
       "      <td>5</td>\n",
       "      <td>3</td>\n",
       "      <td>5</td>\n",
       "    </tr>\n",
       "    <tr>\n",
       "      <th>700</th>\n",
       "      <td>4</td>\n",
       "      <td>2</td>\n",
       "      <td>2</td>\n",
       "      <td>4</td>\n",
       "      <td>0</td>\n",
       "      <td>2</td>\n",
       "      <td>2</td>\n",
       "      <td>2</td>\n",
       "      <td>4</td>\n",
       "    </tr>\n",
       "    <tr>\n",
       "      <th>800</th>\n",
       "      <td>3</td>\n",
       "      <td>3</td>\n",
       "      <td>2</td>\n",
       "      <td>3</td>\n",
       "      <td>0</td>\n",
       "      <td>3</td>\n",
       "      <td>2</td>\n",
       "      <td>3</td>\n",
       "      <td>3</td>\n",
       "    </tr>\n",
       "    <tr>\n",
       "      <th>900</th>\n",
       "      <td>2</td>\n",
       "      <td>2</td>\n",
       "      <td>2</td>\n",
       "      <td>2</td>\n",
       "      <td>0</td>\n",
       "      <td>1</td>\n",
       "      <td>2</td>\n",
       "      <td>2</td>\n",
       "      <td>2</td>\n",
       "    </tr>\n",
       "    <tr>\n",
       "      <th>1000</th>\n",
       "      <td>4</td>\n",
       "      <td>2</td>\n",
       "      <td>2</td>\n",
       "      <td>4</td>\n",
       "      <td>0</td>\n",
       "      <td>3</td>\n",
       "      <td>4</td>\n",
       "      <td>4</td>\n",
       "      <td>4</td>\n",
       "    </tr>\n",
       "    <tr>\n",
       "      <th>1300</th>\n",
       "      <td>3</td>\n",
       "      <td>3</td>\n",
       "      <td>2</td>\n",
       "      <td>3</td>\n",
       "      <td>0</td>\n",
       "      <td>2</td>\n",
       "      <td>3</td>\n",
       "      <td>2</td>\n",
       "      <td>3</td>\n",
       "    </tr>\n",
       "    <tr>\n",
       "      <th>1400</th>\n",
       "      <td>2</td>\n",
       "      <td>1</td>\n",
       "      <td>1</td>\n",
       "      <td>2</td>\n",
       "      <td>0</td>\n",
       "      <td>2</td>\n",
       "      <td>1</td>\n",
       "      <td>1</td>\n",
       "      <td>2</td>\n",
       "    </tr>\n",
       "    <tr>\n",
       "      <th>1500</th>\n",
       "      <td>8</td>\n",
       "      <td>4</td>\n",
       "      <td>2</td>\n",
       "      <td>8</td>\n",
       "      <td>0</td>\n",
       "      <td>4</td>\n",
       "      <td>3</td>\n",
       "      <td>3</td>\n",
       "      <td>8</td>\n",
       "    </tr>\n",
       "    <tr>\n",
       "      <th>1600</th>\n",
       "      <td>6</td>\n",
       "      <td>4</td>\n",
       "      <td>2</td>\n",
       "      <td>6</td>\n",
       "      <td>0</td>\n",
       "      <td>6</td>\n",
       "      <td>5</td>\n",
       "      <td>4</td>\n",
       "      <td>6</td>\n",
       "    </tr>\n",
       "    <tr>\n",
       "      <th>1700</th>\n",
       "      <td>1</td>\n",
       "      <td>1</td>\n",
       "      <td>1</td>\n",
       "      <td>1</td>\n",
       "      <td>0</td>\n",
       "      <td>1</td>\n",
       "      <td>1</td>\n",
       "      <td>1</td>\n",
       "      <td>1</td>\n",
       "    </tr>\n",
       "    <tr>\n",
       "      <th>1800</th>\n",
       "      <td>3</td>\n",
       "      <td>3</td>\n",
       "      <td>2</td>\n",
       "      <td>3</td>\n",
       "      <td>0</td>\n",
       "      <td>3</td>\n",
       "      <td>3</td>\n",
       "      <td>3</td>\n",
       "      <td>3</td>\n",
       "    </tr>\n",
       "    <tr>\n",
       "      <th>1900</th>\n",
       "      <td>2</td>\n",
       "      <td>2</td>\n",
       "      <td>2</td>\n",
       "      <td>2</td>\n",
       "      <td>0</td>\n",
       "      <td>2</td>\n",
       "      <td>2</td>\n",
       "      <td>2</td>\n",
       "      <td>2</td>\n",
       "    </tr>\n",
       "    <tr>\n",
       "      <th>2000</th>\n",
       "      <td>10</td>\n",
       "      <td>7</td>\n",
       "      <td>3</td>\n",
       "      <td>10</td>\n",
       "      <td>0</td>\n",
       "      <td>6</td>\n",
       "      <td>6</td>\n",
       "      <td>4</td>\n",
       "      <td>10</td>\n",
       "    </tr>\n",
       "    <tr>\n",
       "      <th>2100</th>\n",
       "      <td>4</td>\n",
       "      <td>2</td>\n",
       "      <td>2</td>\n",
       "      <td>4</td>\n",
       "      <td>0</td>\n",
       "      <td>4</td>\n",
       "      <td>4</td>\n",
       "      <td>2</td>\n",
       "      <td>4</td>\n",
       "    </tr>\n",
       "    <tr>\n",
       "      <th>2200</th>\n",
       "      <td>7</td>\n",
       "      <td>4</td>\n",
       "      <td>3</td>\n",
       "      <td>7</td>\n",
       "      <td>0</td>\n",
       "      <td>3</td>\n",
       "      <td>7</td>\n",
       "      <td>3</td>\n",
       "      <td>7</td>\n",
       "    </tr>\n",
       "    <tr>\n",
       "      <th>2300</th>\n",
       "      <td>5</td>\n",
       "      <td>4</td>\n",
       "      <td>2</td>\n",
       "      <td>5</td>\n",
       "      <td>0</td>\n",
       "      <td>4</td>\n",
       "      <td>5</td>\n",
       "      <td>3</td>\n",
       "      <td>5</td>\n",
       "    </tr>\n",
       "    <tr>\n",
       "      <th>2400</th>\n",
       "      <td>4</td>\n",
       "      <td>4</td>\n",
       "      <td>2</td>\n",
       "      <td>4</td>\n",
       "      <td>0</td>\n",
       "      <td>3</td>\n",
       "      <td>4</td>\n",
       "      <td>3</td>\n",
       "      <td>4</td>\n",
       "    </tr>\n",
       "    <tr>\n",
       "      <th>2500</th>\n",
       "      <td>4</td>\n",
       "      <td>3</td>\n",
       "      <td>2</td>\n",
       "      <td>5</td>\n",
       "      <td>0</td>\n",
       "      <td>4</td>\n",
       "      <td>4</td>\n",
       "      <td>4</td>\n",
       "      <td>5</td>\n",
       "    </tr>\n",
       "    <tr>\n",
       "      <th>2600</th>\n",
       "      <td>2</td>\n",
       "      <td>2</td>\n",
       "      <td>2</td>\n",
       "      <td>2</td>\n",
       "      <td>0</td>\n",
       "      <td>1</td>\n",
       "      <td>2</td>\n",
       "      <td>1</td>\n",
       "      <td>2</td>\n",
       "    </tr>\n",
       "    <tr>\n",
       "      <th>2800</th>\n",
       "      <td>1</td>\n",
       "      <td>1</td>\n",
       "      <td>1</td>\n",
       "      <td>1</td>\n",
       "      <td>0</td>\n",
       "      <td>1</td>\n",
       "      <td>1</td>\n",
       "      <td>1</td>\n",
       "      <td>1</td>\n",
       "    </tr>\n",
       "    <tr>\n",
       "      <th>3000</th>\n",
       "      <td>1</td>\n",
       "      <td>1</td>\n",
       "      <td>1</td>\n",
       "      <td>0</td>\n",
       "      <td>0</td>\n",
       "      <td>0</td>\n",
       "      <td>1</td>\n",
       "      <td>1</td>\n",
       "      <td>1</td>\n",
       "    </tr>\n",
       "    <tr>\n",
       "      <th>3500</th>\n",
       "      <td>1</td>\n",
       "      <td>1</td>\n",
       "      <td>1</td>\n",
       "      <td>1</td>\n",
       "      <td>0</td>\n",
       "      <td>0</td>\n",
       "      <td>1</td>\n",
       "      <td>1</td>\n",
       "      <td>1</td>\n",
       "    </tr>\n",
       "  </tbody>\n",
       "</table>\n",
       "</div>"
      ],
      "text/plain": [
       "      Name  Monster type  Set  Card number  Ability  Rule  ATK  Level  \\\n",
       "DEF                                                                     \n",
       "0        2             1    1            2        0     2    2      2   \n",
       "200      1             1    1            1        0     0    1      1   \n",
       "300      5             1    3            5        0     1    2      2   \n",
       "400      3             3    2            3        0     2    3      3   \n",
       "500      1             1    1            1        0     1    1      1   \n",
       "600      5             5    3            5        0     4    5      3   \n",
       "700      4             2    2            4        0     2    2      2   \n",
       "800      3             3    2            3        0     3    2      3   \n",
       "900      2             2    2            2        0     1    2      2   \n",
       "1000     4             2    2            4        0     3    4      4   \n",
       "1300     3             3    2            3        0     2    3      2   \n",
       "1400     2             1    1            2        0     2    1      1   \n",
       "1500     8             4    2            8        0     4    3      3   \n",
       "1600     6             4    2            6        0     6    5      4   \n",
       "1700     1             1    1            1        0     1    1      1   \n",
       "1800     3             3    2            3        0     3    3      3   \n",
       "1900     2             2    2            2        0     2    2      2   \n",
       "2000    10             7    3           10        0     6    6      4   \n",
       "2100     4             2    2            4        0     4    4      2   \n",
       "2200     7             4    3            7        0     3    7      3   \n",
       "2300     5             4    2            5        0     4    5      3   \n",
       "2400     4             4    2            4        0     3    4      3   \n",
       "2500     4             3    2            5        0     4    4      4   \n",
       "2600     2             2    2            2        0     1    2      1   \n",
       "2800     1             1    1            1        0     1    1      1   \n",
       "3000     1             1    1            0        0     0    1      1   \n",
       "3500     1             1    1            1        0     0    1      1   \n",
       "\n",
       "      Modification date  \n",
       "DEF                      \n",
       "0                     2  \n",
       "200                   1  \n",
       "300                   5  \n",
       "400                   3  \n",
       "500                   1  \n",
       "600                   5  \n",
       "700                   4  \n",
       "800                   3  \n",
       "900                   2  \n",
       "1000                  4  \n",
       "1300                  3  \n",
       "1400                  2  \n",
       "1500                  8  \n",
       "1600                  6  \n",
       "1700                  1  \n",
       "1800                  3  \n",
       "1900                  2  \n",
       "2000                 10  \n",
       "2100                  4  \n",
       "2200                  7  \n",
       "2300                  5  \n",
       "2400                  4  \n",
       "2500                  5  \n",
       "2600                  2  \n",
       "2800                  1  \n",
       "3000                  1  \n",
       "3500                  1  "
      ]
     },
     "execution_count": 14,
     "metadata": {},
     "output_type": "execute_result"
    },
    {
     "name": "stdout",
     "output_type": "stream",
     "text": [
      "Error in callback <function Halo.__init__.<locals>.clean_up at 0x7fd14ad71f80> (for post_run_cell), with arguments args (<ExecutionResult object at 7fd0ffb050d0, execution_count=14 error_before_exec=None error_in_exec=None info=<ExecutionInfo object at 7fd0fd74c150, raw_cell=\"bandai_df.drop(columns=[\"Card type\", \"Page name\", ..\" store_history=True silent=False shell_futures=True cell_id=None> result=      Name  Monster type  Set  Card number  Ability  Rule  ATK  Level  \\\n",
      "DEF                                                                     \n",
      "0        2             1    1            2        0     2    2      2   \n",
      "200      1             1    1            1        0     0    1      1   \n",
      "300      5             1    3            5        0     1    2      2   \n",
      "400      3             3    2            3        0     2    3      3   \n",
      "500      1             1    1            1        0     1    1      1   \n",
      "600      5             5    3            5        0     4    5      3   \n",
      "700      4             2    2            4        0     2    2      2   \n",
      "800      3             3    2            3        0     3    2      3   \n",
      "900      2             2    2            2        0     1    2      2   \n",
      "1000     4             2    2            4        0     3    4      4   \n",
      "1300     3             3    2            3        0     2    3      2   \n",
      "1400     2             1    1            2        0     2    1      1   \n",
      "1500     8             4    2            8        0     4    3      3   \n",
      "1600     6             4    2            6        0     6    5      4   \n",
      "1700     1             1    1            1        0     1    1      1   \n",
      "1800     3             3    2            3        0     3    3      3   \n",
      "1900     2             2    2            2        0     2    2      2   \n",
      "2000    10             7    3           10        0     6    6      4   \n",
      "2100     4             2    2            4        0     4    4      2   \n",
      "2200     7             4    3            7        0     3    7      3   \n",
      "2300     5             4    2            5        0     4    5      3   \n",
      "2400     4             4    2            4        0     3    4      3   \n",
      "2500     4             3    2            5        0     4    4      4   \n",
      "2600     2             2    2            2        0     1    2      1   \n",
      "2800     1             1    1            1        0     1    1      1   \n",
      "3000     1             1    1            0        0     0    1      1   \n",
      "3500     1             1    1            1        0     0    1      1   \n",
      "\n",
      "      Modification date  \n",
      "DEF                      \n",
      "0                     2  \n",
      "200                   1  \n",
      "300                   5  \n",
      "400                   3  \n",
      "500                   1  \n",
      "600                   5  \n",
      "700                   4  \n",
      "800                   3  \n",
      "900                   2  \n",
      "1000                  4  \n",
      "1300                  3  \n",
      "1400                  2  \n",
      "1500                  8  \n",
      "1600                  6  \n",
      "1700                  1  \n",
      "1800                  3  \n",
      "1900                  2  \n",
      "2000                 10  \n",
      "2100                  4  \n",
      "2200                  7  \n",
      "2300                  5  \n",
      "2400                  4  \n",
      "2500                  5  \n",
      "2600                  2  \n",
      "2800                  1  \n",
      "3000                  1  \n",
      "3500                  1  >,),kwargs {}:"
     ]
    },
    {
     "name": "stdout",
     "output_type": "stream",
     "text": [
      "\n"
     ]
    },
    {
     "ename": "TypeError",
     "evalue": "Halo.__init__.<locals>.clean_up() takes 0 positional arguments but 1 was given",
     "output_type": "error",
     "traceback": [
      "\u001b[0;31m---------------------------------------------------------------------------\u001b[0m",
      "\u001b[0;31mTypeError\u001b[0m                                 Traceback (most recent call last)",
      "\u001b[0;31mTypeError\u001b[0m: Halo.__init__.<locals>.clean_up() takes 0 positional arguments but 1 was given"
     ]
    }
   ],
   "source": [
    "bandai_df.drop(columns=[\"Card type\", \"Page name\", \"Page URL\"]).groupby(\n",
    "    \"DEF\"\n",
    ").nunique().sort_index(key=lambda x: pd.to_numeric(x, errors=\"coerce\"))"
   ]
  },
  {
   "cell_type": "code",
   "execution_count": 15,
   "id": "10aeff48",
   "metadata": {
    "execution": {
     "iopub.execute_input": "2023-11-01T21:47:11.812600Z",
     "iopub.status.busy": "2023-11-01T21:47:11.811750Z",
     "iopub.status.idle": "2023-11-01T21:47:12.224732Z",
     "shell.execute_reply": "2023-11-01T21:47:12.223921Z"
    },
    "papermill": {
     "duration": 0.439178,
     "end_time": "2023-11-01T21:47:12.226715",
     "exception": false,
     "start_time": "2023-11-01T21:47:11.787537",
     "status": "completed"
    },
    "tags": []
   },
   "outputs": [
    {
     "data": {
      "image/png": "[encoded data removed]",
      "text/plain": [
       "<Figure size 1800x600 with 1 Axes>"
      ]
     },
     "metadata": {},
     "output_type": "display_data"
    },
    {
     "name": "stdout",
     "output_type": "stream",
     "text": [
      "Error in callback <function Halo.__init__.<locals>.clean_up at 0x7fd14ad71f80> (for post_run_cell), with arguments args (<ExecutionResult object at 7fd0ff8ffc10, execution_count=15 error_before_exec=None error_in_exec=None info=<ExecutionInfo object at 7fd0fd6f3290, raw_cell=\"def_colors = colors_dict[\"Monster Card\"]\n",
      "bandai_df..\" store_history=True silent=False shell_futures=True cell_id=None> result=None>,),kwargs {}:"
     ]
    },
    {
     "name": "stdout",
     "output_type": "stream",
     "text": [
      "\n"
     ]
    },
    {
     "ename": "TypeError",
     "evalue": "Halo.__init__.<locals>.clean_up() takes 0 positional arguments but 1 was given",
     "output_type": "error",
     "traceback": [
      "\u001b[0;31m---------------------------------------------------------------------------\u001b[0m",
      "\u001b[0;31mTypeError\u001b[0m                                 Traceback (most recent call last)",
      "\u001b[0;31mTypeError\u001b[0m: Halo.__init__.<locals>.clean_up() takes 0 positional arguments but 1 was given"
     ]
    }
   ],
   "source": [
    "def_colors = colors_dict[\"Monster Card\"]\n",
    "bandai_df[\"DEF\"].value_counts().sort_index(\n",
    "    key=lambda x: pd.to_numeric(x, errors=\"coerce\")\n",
    ").plot.bar(figsize=(18, 6), grid=True, color=def_colors, title=\"DEF\")\n",
    "plt.show()"
   ]
  },
  {
   "cell_type": "markdown",
   "id": "02b9970b-696d-4ef0-b01d-0385e6c53575",
   "metadata": {
    "papermill": {
     "duration": 0.177134,
     "end_time": "2023-11-01T21:47:12.427096",
     "exception": false,
     "start_time": "2023-11-01T21:47:12.249962",
     "status": "completed"
    },
    "tags": []
   },
   "source": [
    "## Level"
   ]
  },
  {
   "cell_type": "code",
   "execution_count": 16,
   "id": "f5543138",
   "metadata": {
    "execution": {
     "iopub.execute_input": "2023-11-01T21:47:12.479582Z",
     "iopub.status.busy": "2023-11-01T21:47:12.479100Z",
     "iopub.status.idle": "2023-11-01T21:47:12.525360Z",
     "shell.execute_reply": "2023-11-01T21:47:12.524172Z"
    },
    "papermill": {
     "duration": 0.075518,
     "end_time": "2023-11-01T21:47:12.527697",
     "exception": false,
     "start_time": "2023-11-01T21:47:12.452179",
     "status": "completed"
    },
    "tags": []
   },
   "outputs": [
    {
     "data": {
      "text/html": [
       "<div>\n",
       "<style scoped>\n",
       "    .dataframe tbody tr th:only-of-type {\n",
       "        vertical-align: middle;\n",
       "    }\n",
       "\n",
       "    .dataframe tbody tr th {\n",
       "        vertical-align: top;\n",
       "    }\n",
       "\n",
       "    .dataframe thead th {\n",
       "        text-align: right;\n",
       "    }\n",
       "</style>\n",
       "<table border=\"1\" class=\"dataframe\">\n",
       "  <thead>\n",
       "    <tr style=\"text-align: right;\">\n",
       "      <th></th>\n",
       "      <th>Name</th>\n",
       "      <th>Monster type</th>\n",
       "      <th>DEF</th>\n",
       "      <th>Set</th>\n",
       "      <th>Card number</th>\n",
       "      <th>Ability</th>\n",
       "      <th>Rule</th>\n",
       "      <th>ATK</th>\n",
       "      <th>Modification date</th>\n",
       "    </tr>\n",
       "    <tr>\n",
       "      <th>Level</th>\n",
       "      <th></th>\n",
       "      <th></th>\n",
       "      <th></th>\n",
       "      <th></th>\n",
       "      <th></th>\n",
       "      <th></th>\n",
       "      <th></th>\n",
       "      <th></th>\n",
       "      <th></th>\n",
       "    </tr>\n",
       "  </thead>\n",
       "  <tbody>\n",
       "    <tr>\n",
       "      <th>1</th>\n",
       "      <td>5</td>\n",
       "      <td>1</td>\n",
       "      <td>2</td>\n",
       "      <td>2</td>\n",
       "      <td>5</td>\n",
       "      <td>0</td>\n",
       "      <td>1</td>\n",
       "      <td>2</td>\n",
       "      <td>5</td>\n",
       "    </tr>\n",
       "    <tr>\n",
       "      <th>2</th>\n",
       "      <td>4</td>\n",
       "      <td>3</td>\n",
       "      <td>4</td>\n",
       "      <td>3</td>\n",
       "      <td>4</td>\n",
       "      <td>0</td>\n",
       "      <td>2</td>\n",
       "      <td>3</td>\n",
       "      <td>4</td>\n",
       "    </tr>\n",
       "    <tr>\n",
       "      <th>3</th>\n",
       "      <td>3</td>\n",
       "      <td>3</td>\n",
       "      <td>3</td>\n",
       "      <td>2</td>\n",
       "      <td>3</td>\n",
       "      <td>0</td>\n",
       "      <td>3</td>\n",
       "      <td>3</td>\n",
       "      <td>3</td>\n",
       "    </tr>\n",
       "    <tr>\n",
       "      <th>4</th>\n",
       "      <td>17</td>\n",
       "      <td>8</td>\n",
       "      <td>10</td>\n",
       "      <td>3</td>\n",
       "      <td>17</td>\n",
       "      <td>2</td>\n",
       "      <td>10</td>\n",
       "      <td>9</td>\n",
       "      <td>17</td>\n",
       "    </tr>\n",
       "    <tr>\n",
       "      <th>5</th>\n",
       "      <td>34</td>\n",
       "      <td>10</td>\n",
       "      <td>17</td>\n",
       "      <td>3</td>\n",
       "      <td>34</td>\n",
       "      <td>1</td>\n",
       "      <td>13</td>\n",
       "      <td>15</td>\n",
       "      <td>34</td>\n",
       "    </tr>\n",
       "    <tr>\n",
       "      <th>6</th>\n",
       "      <td>23</td>\n",
       "      <td>10</td>\n",
       "      <td>15</td>\n",
       "      <td>3</td>\n",
       "      <td>23</td>\n",
       "      <td>2</td>\n",
       "      <td>9</td>\n",
       "      <td>12</td>\n",
       "      <td>23</td>\n",
       "    </tr>\n",
       "    <tr>\n",
       "      <th>7</th>\n",
       "      <td>10</td>\n",
       "      <td>6</td>\n",
       "      <td>7</td>\n",
       "      <td>2</td>\n",
       "      <td>10</td>\n",
       "      <td>1</td>\n",
       "      <td>6</td>\n",
       "      <td>5</td>\n",
       "      <td>10</td>\n",
       "    </tr>\n",
       "    <tr>\n",
       "      <th>8</th>\n",
       "      <td>5</td>\n",
       "      <td>1</td>\n",
       "      <td>4</td>\n",
       "      <td>3</td>\n",
       "      <td>6</td>\n",
       "      <td>1</td>\n",
       "      <td>2</td>\n",
       "      <td>4</td>\n",
       "      <td>7</td>\n",
       "    </tr>\n",
       "  </tbody>\n",
       "</table>\n",
       "</div>"
      ],
      "text/plain": [
       "       Name  Monster type  DEF  Set  Card number  Ability  Rule  ATK  \\\n",
       "Level                                                                  \n",
       "1         5             1    2    2            5        0     1    2   \n",
       "2         4             3    4    3            4        0     2    3   \n",
       "3         3             3    3    2            3        0     3    3   \n",
       "4        17             8   10    3           17        2    10    9   \n",
       "5        34            10   17    3           34        1    13   15   \n",
       "6        23            10   15    3           23        2     9   12   \n",
       "7        10             6    7    2           10        1     6    5   \n",
       "8         5             1    4    3            6        1     2    4   \n",
       "\n",
       "       Modification date  \n",
       "Level                     \n",
       "1                      5  \n",
       "2                      4  \n",
       "3                      3  \n",
       "4                     17  \n",
       "5                     34  \n",
       "6                     23  \n",
       "7                     10  \n",
       "8                      7  "
      ]
     },
     "execution_count": 16,
     "metadata": {},
     "output_type": "execute_result"
    },
    {
     "name": "stdout",
     "output_type": "stream",
     "text": [
      "Error in callback <function Halo.__init__.<locals>.clean_up at 0x7fd14ad71f80> (for post_run_cell), with arguments args (<ExecutionResult object at 7fd0fd701e90, execution_count=16 error_before_exec=None error_in_exec=None info=<ExecutionInfo object at 7fd0fd624290, raw_cell=\"bandai_df.drop(columns=[\"Card type\", \"Page name\", ..\" store_history=True silent=False shell_futures=True cell_id=None> result=       Name  Monster type  DEF  Set  Card number  Ability  Rule  ATK  \\\n",
      "Level                                                                  \n",
      "1         5             1    2    2            5        0     1    2   \n",
      "2         4             3    4    3            4        0     2    3   \n",
      "3         3             3    3    2            3        0     3    3   \n",
      "4        17             8   10    3           17        2    10    9   \n",
      "5        34            10   17    3           34        1    13   15   \n",
      "6        23            10   15    3           23        2     9   12   \n",
      "7        10             6    7    2           10        1     6    5   \n",
      "8         5             1    4    3            6        1     2    4   \n",
      "\n",
      "       Modification date  \n",
      "Level                     \n",
      "1                      5  \n",
      "2                      4  \n",
      "3                      3  \n",
      "4                     17  \n",
      "5                     34  \n",
      "6                     23  \n",
      "7                     10  \n",
      "8                      7  >,),kwargs {}:"
     ]
    },
    {
     "name": "stdout",
     "output_type": "stream",
     "text": [
      "\n"
     ]
    },
    {
     "ename": "TypeError",
     "evalue": "Halo.__init__.<locals>.clean_up() takes 0 positional arguments but 1 was given",
     "output_type": "error",
     "traceback": [
      "\u001b[0;31m---------------------------------------------------------------------------\u001b[0m",
      "\u001b[0;31mTypeError\u001b[0m                                 Traceback (most recent call last)",
      "\u001b[0;31mTypeError\u001b[0m: Halo.__init__.<locals>.clean_up() takes 0 positional arguments but 1 was given"
     ]
    }
   ],
   "source": [
    "bandai_df.drop(columns=[\"Card type\", \"Page name\", \"Page URL\"]).groupby(\n",
    "    \"Level\"\n",
    ").nunique().sort_index(key=lambda x: pd.to_numeric(x, errors=\"coerce\"))"
   ]
  },
  {
   "cell_type": "code",
   "execution_count": 17,
   "id": "31539bdc",
   "metadata": {
    "execution": {
     "iopub.execute_input": "2023-11-01T21:47:12.580021Z",
     "iopub.status.busy": "2023-11-01T21:47:12.579632Z",
     "iopub.status.idle": "2023-11-01T21:47:12.862329Z",
     "shell.execute_reply": "2023-11-01T21:47:12.861548Z"
    },
    "papermill": {
     "duration": 0.310351,
     "end_time": "2023-11-01T21:47:12.863991",
     "exception": false,
     "start_time": "2023-11-01T21:47:12.553640",
     "status": "completed"
    },
    "tags": []
   },
   "outputs": [
    {
     "data": {
      "image/png": "[encoded data removed]",
      "text/plain": [
       "<Figure size 1800x600 with 1 Axes>"
      ]
     },
     "metadata": {},
     "output_type": "display_data"
    },
    {
     "name": "stdout",
     "output_type": "stream",
     "text": [
      "Error in callback <function Halo.__init__.<locals>.clean_up at 0x7fd14ad71f80> (for post_run_cell), with arguments args (<ExecutionResult object at 7fd0fd7a3a90, execution_count=17 error_before_exec=None error_in_exec=None info=<ExecutionInfo object at 7fd0ffac7810, raw_cell=\"level_colors = colors_dict[\"Level\"]\n",
      "bandai_df[\"Lev..\" store_history=True silent=False shell_futures=True cell_id=None> result=None>,),kwargs {}:"
     ]
    },
    {
     "name": "stdout",
     "output_type": "stream",
     "text": [
      "\n"
     ]
    },
    {
     "ename": "TypeError",
     "evalue": "Halo.__init__.<locals>.clean_up() takes 0 positional arguments but 1 was given",
     "output_type": "error",
     "traceback": [
      "\u001b[0;31m---------------------------------------------------------------------------\u001b[0m",
      "\u001b[0;31mTypeError\u001b[0m                                 Traceback (most recent call last)",
      "\u001b[0;31mTypeError\u001b[0m: Halo.__init__.<locals>.clean_up() takes 0 positional arguments but 1 was given"
     ]
    }
   ],
   "source": [
    "level_colors = colors_dict[\"Level\"]\n",
    "bandai_df[\"Level\"].value_counts().sort_index(\n",
    "    key=lambda x: pd.to_numeric(x, errors=\"coerce\")\n",
    ").plot.bar(figsize=(18, 6), grid=True, rot=0, color=level_colors, title=\"Level/Rank\")\n",
    "plt.show()"
   ]
  },
  {
   "cell_type": "markdown",
   "id": "071ce72d-178c-4ff3-9e4a-25f2568db91b",
   "metadata": {
    "papermill": {
     "duration": 0.028434,
     "end_time": "2023-11-01T21:47:12.923680",
     "exception": false,
     "start_time": "2023-11-01T21:47:12.895246",
     "status": "completed"
    },
    "tags": []
   },
   "source": [
    "### ATK statistics"
   ]
  },
  {
   "cell_type": "code",
   "execution_count": 18,
   "id": "06dc9107",
   "metadata": {
    "execution": {
     "iopub.execute_input": "2023-11-01T21:47:12.975809Z",
     "iopub.status.busy": "2023-11-01T21:47:12.975373Z",
     "iopub.status.idle": "2023-11-01T21:47:13.066275Z",
     "shell.execute_reply": "2023-11-01T21:47:13.065398Z"
    },
    "papermill": {
     "duration": 0.119169,
     "end_time": "2023-11-01T21:47:13.068073",
     "exception": false,
     "start_time": "2023-11-01T21:47:12.948904",
     "status": "completed"
    },
    "tags": []
   },
   "outputs": [
    {
     "data": {
      "text/html": [
       "<div>\n",
       "<style scoped>\n",
       "    .dataframe tbody tr th:only-of-type {\n",
       "        vertical-align: middle;\n",
       "    }\n",
       "\n",
       "    .dataframe tbody tr th {\n",
       "        vertical-align: top;\n",
       "    }\n",
       "\n",
       "    .dataframe thead tr th {\n",
       "        text-align: left;\n",
       "    }\n",
       "\n",
       "    .dataframe thead tr:last-of-type th {\n",
       "        text-align: right;\n",
       "    }\n",
       "</style>\n",
       "<table border=\"1\" class=\"dataframe\">\n",
       "  <thead>\n",
       "    <tr>\n",
       "      <th></th>\n",
       "      <th colspan=\"8\" halign=\"left\">ATK</th>\n",
       "    </tr>\n",
       "    <tr>\n",
       "      <th></th>\n",
       "      <th>count</th>\n",
       "      <th>mean</th>\n",
       "      <th>std</th>\n",
       "      <th>min</th>\n",
       "      <th>25%</th>\n",
       "      <th>50%</th>\n",
       "      <th>75%</th>\n",
       "      <th>max</th>\n",
       "    </tr>\n",
       "    <tr>\n",
       "      <th>Level</th>\n",
       "      <th></th>\n",
       "      <th></th>\n",
       "      <th></th>\n",
       "      <th></th>\n",
       "      <th></th>\n",
       "      <th></th>\n",
       "      <th></th>\n",
       "      <th></th>\n",
       "    </tr>\n",
       "  </thead>\n",
       "  <tbody>\n",
       "    <tr>\n",
       "      <th>1</th>\n",
       "      <td>5.0</td>\n",
       "      <td>280.000000</td>\n",
       "      <td>178.885438</td>\n",
       "      <td>200.0</td>\n",
       "      <td>200.0</td>\n",
       "      <td>200.0</td>\n",
       "      <td>200.0</td>\n",
       "      <td>600.0</td>\n",
       "    </tr>\n",
       "    <tr>\n",
       "      <th>2</th>\n",
       "      <td>4.0</td>\n",
       "      <td>325.000000</td>\n",
       "      <td>206.155281</td>\n",
       "      <td>100.0</td>\n",
       "      <td>175.0</td>\n",
       "      <td>350.0</td>\n",
       "      <td>500.0</td>\n",
       "      <td>500.0</td>\n",
       "    </tr>\n",
       "    <tr>\n",
       "      <th>3</th>\n",
       "      <td>3.0</td>\n",
       "      <td>1366.666667</td>\n",
       "      <td>513.160144</td>\n",
       "      <td>800.0</td>\n",
       "      <td>1150.0</td>\n",
       "      <td>1500.0</td>\n",
       "      <td>1650.0</td>\n",
       "      <td>1800.0</td>\n",
       "    </tr>\n",
       "    <tr>\n",
       "      <th>4</th>\n",
       "      <td>15.0</td>\n",
       "      <td>1626.666667</td>\n",
       "      <td>400.832467</td>\n",
       "      <td>600.0</td>\n",
       "      <td>1500.0</td>\n",
       "      <td>1600.0</td>\n",
       "      <td>1800.0</td>\n",
       "      <td>2400.0</td>\n",
       "    </tr>\n",
       "    <tr>\n",
       "      <th>5</th>\n",
       "      <td>33.0</td>\n",
       "      <td>1742.424242</td>\n",
       "      <td>559.033934</td>\n",
       "      <td>400.0</td>\n",
       "      <td>1400.0</td>\n",
       "      <td>2000.0</td>\n",
       "      <td>2100.0</td>\n",
       "      <td>2500.0</td>\n",
       "    </tr>\n",
       "    <tr>\n",
       "      <th>6</th>\n",
       "      <td>21.0</td>\n",
       "      <td>2104.761905</td>\n",
       "      <td>380.100237</td>\n",
       "      <td>1200.0</td>\n",
       "      <td>1900.0</td>\n",
       "      <td>2300.0</td>\n",
       "      <td>2300.0</td>\n",
       "      <td>2600.0</td>\n",
       "    </tr>\n",
       "    <tr>\n",
       "      <th>7</th>\n",
       "      <td>9.0</td>\n",
       "      <td>2511.111111</td>\n",
       "      <td>358.623913</td>\n",
       "      <td>1800.0</td>\n",
       "      <td>2400.0</td>\n",
       "      <td>2500.0</td>\n",
       "      <td>2600.0</td>\n",
       "      <td>3200.0</td>\n",
       "    </tr>\n",
       "    <tr>\n",
       "      <th>8</th>\n",
       "      <td>5.0</td>\n",
       "      <td>3000.000000</td>\n",
       "      <td>1274.754878</td>\n",
       "      <td>1000.0</td>\n",
       "      <td>3000.0</td>\n",
       "      <td>3000.0</td>\n",
       "      <td>3500.0</td>\n",
       "      <td>4500.0</td>\n",
       "    </tr>\n",
       "  </tbody>\n",
       "</table>\n",
       "</div>"
      ],
      "text/plain": [
       "        ATK                                                                  \n",
       "      count         mean          std     min     25%     50%     75%     max\n",
       "Level                                                                        \n",
       "1       5.0   280.000000   178.885438   200.0   200.0   200.0   200.0   600.0\n",
       "2       4.0   325.000000   206.155281   100.0   175.0   350.0   500.0   500.0\n",
       "3       3.0  1366.666667   513.160144   800.0  1150.0  1500.0  1650.0  1800.0\n",
       "4      15.0  1626.666667   400.832467   600.0  1500.0  1600.0  1800.0  2400.0\n",
       "5      33.0  1742.424242   559.033934   400.0  1400.0  2000.0  2100.0  2500.0\n",
       "6      21.0  2104.761905   380.100237  1200.0  1900.0  2300.0  2300.0  2600.0\n",
       "7       9.0  2511.111111   358.623913  1800.0  2400.0  2500.0  2600.0  3200.0\n",
       "8       5.0  3000.000000  1274.754878  1000.0  3000.0  3000.0  3500.0  4500.0"
      ]
     },
     "execution_count": 18,
     "metadata": {},
     "output_type": "execute_result"
    },
    {
     "name": "stdout",
     "output_type": "stream",
     "text": [
      "Error in callback <function Halo.__init__.<locals>.clean_up at 0x7fd14ad71f80> (for post_run_cell), with arguments args (<ExecutionResult object at 7fd0fd663850, execution_count=18 error_before_exec=None error_in_exec=None info=<ExecutionInfo object at 7fd0fd6b4090, raw_cell=\"bandai_df[[\"Level\", \"ATK\"]].apply(pd.to_numeric, e..\" store_history=True silent=False shell_futures=True cell_id=None> result=        ATK                                                                  \n",
      "      count         mean          std     min     25%     50%     75%     max\n",
      "Level                                                                        \n",
      "1       5.0   280.000000   178.885438   200.0   200.0   200.0   200.0   600.0\n",
      "2       4.0   325.000000   206.155281   100.0   175.0   350.0   500.0   500.0\n",
      "3       3.0  1366.666667   513.160144   800.0  1150.0  1500.0  1650.0  1800.0\n",
      "4      15.0  1626.666667   400.832467   600.0  1500.0  1600.0  1800.0  2400.0\n",
      "5      33.0  1742.424242   559.033934   400.0  1400.0  2000.0  2100.0  2500.0\n",
      "6      21.0  2104.761905   380.100237  1200.0  1900.0  2300.0  2300.0  2600.0\n",
      "7       9.0  2511.111111   358.623913  1800.0  2400.0  2500.0  2600.0  3200.0\n",
      "8       5.0  3000.000000  1274.754878  1000.0  3000.0  3000.0  3500.0  4500.0>,),kwargs {}:"
     ]
    },
    {
     "name": "stdout",
     "output_type": "stream",
     "text": [
      "\n"
     ]
    },
    {
     "ename": "TypeError",
     "evalue": "Halo.__init__.<locals>.clean_up() takes 0 positional arguments but 1 was given",
     "output_type": "error",
     "traceback": [
      "\u001b[0;31m---------------------------------------------------------------------------\u001b[0m",
      "\u001b[0;31mTypeError\u001b[0m                                 Traceback (most recent call last)",
      "\u001b[0;31mTypeError\u001b[0m: Halo.__init__.<locals>.clean_up() takes 0 positional arguments but 1 was given"
     ]
    }
   ],
   "source": [
    "bandai_df[[\"Level\", \"ATK\"]].apply(pd.to_numeric, errors=\"coerce\").dropna().astype(\n",
    "    int\n",
    ").groupby(\"Level\").describe()"
   ]
  },
  {
   "cell_type": "markdown",
   "id": "3d9b3073-cb28-48c0-94c3-17e6932f0903",
   "metadata": {
    "papermill": {
     "duration": 0.025857,
     "end_time": "2023-11-01T21:47:13.120736",
     "exception": false,
     "start_time": "2023-11-01T21:47:13.094879",
     "status": "completed"
    },
    "tags": []
   },
   "source": [
    "### DEF statistics"
   ]
  },
  {
   "cell_type": "code",
   "execution_count": 19,
   "id": "cc005e78",
   "metadata": {
    "execution": {
     "iopub.execute_input": "2023-11-01T21:47:13.173251Z",
     "iopub.status.busy": "2023-11-01T21:47:13.172763Z",
     "iopub.status.idle": "2023-11-01T21:47:13.241455Z",
     "shell.execute_reply": "2023-11-01T21:47:13.240592Z"
    },
    "papermill": {
     "duration": 0.098077,
     "end_time": "2023-11-01T21:47:13.244260",
     "exception": false,
     "start_time": "2023-11-01T21:47:13.146183",
     "status": "completed"
    },
    "tags": []
   },
   "outputs": [
    {
     "data": {
      "text/html": [
       "<div>\n",
       "<style scoped>\n",
       "    .dataframe tbody tr th:only-of-type {\n",
       "        vertical-align: middle;\n",
       "    }\n",
       "\n",
       "    .dataframe tbody tr th {\n",
       "        vertical-align: top;\n",
       "    }\n",
       "\n",
       "    .dataframe thead tr th {\n",
       "        text-align: left;\n",
       "    }\n",
       "\n",
       "    .dataframe thead tr:last-of-type th {\n",
       "        text-align: right;\n",
       "    }\n",
       "</style>\n",
       "<table border=\"1\" class=\"dataframe\">\n",
       "  <thead>\n",
       "    <tr>\n",
       "      <th></th>\n",
       "      <th colspan=\"8\" halign=\"left\">DEF</th>\n",
       "    </tr>\n",
       "    <tr>\n",
       "      <th></th>\n",
       "      <th>count</th>\n",
       "      <th>mean</th>\n",
       "      <th>std</th>\n",
       "      <th>min</th>\n",
       "      <th>25%</th>\n",
       "      <th>50%</th>\n",
       "      <th>75%</th>\n",
       "      <th>max</th>\n",
       "    </tr>\n",
       "    <tr>\n",
       "      <th>Level</th>\n",
       "      <th></th>\n",
       "      <th></th>\n",
       "      <th></th>\n",
       "      <th></th>\n",
       "      <th></th>\n",
       "      <th></th>\n",
       "      <th></th>\n",
       "      <th></th>\n",
       "    </tr>\n",
       "  </thead>\n",
       "  <tbody>\n",
       "    <tr>\n",
       "      <th>1</th>\n",
       "      <td>5.0</td>\n",
       "      <td>320.000000</td>\n",
       "      <td>44.721360</td>\n",
       "      <td>300.0</td>\n",
       "      <td>300.0</td>\n",
       "      <td>300.0</td>\n",
       "      <td>300.0</td>\n",
       "      <td>400.0</td>\n",
       "    </tr>\n",
       "    <tr>\n",
       "      <th>2</th>\n",
       "      <td>4.0</td>\n",
       "      <td>475.000000</td>\n",
       "      <td>359.397644</td>\n",
       "      <td>200.0</td>\n",
       "      <td>275.0</td>\n",
       "      <td>350.0</td>\n",
       "      <td>550.0</td>\n",
       "      <td>1000.0</td>\n",
       "    </tr>\n",
       "    <tr>\n",
       "      <th>3</th>\n",
       "      <td>3.0</td>\n",
       "      <td>466.666667</td>\n",
       "      <td>416.333200</td>\n",
       "      <td>0.0</td>\n",
       "      <td>300.0</td>\n",
       "      <td>600.0</td>\n",
       "      <td>700.0</td>\n",
       "      <td>800.0</td>\n",
       "    </tr>\n",
       "    <tr>\n",
       "      <th>4</th>\n",
       "      <td>15.0</td>\n",
       "      <td>1073.333333</td>\n",
       "      <td>582.441495</td>\n",
       "      <td>0.0</td>\n",
       "      <td>700.0</td>\n",
       "      <td>900.0</td>\n",
       "      <td>1500.0</td>\n",
       "      <td>2200.0</td>\n",
       "    </tr>\n",
       "    <tr>\n",
       "      <th>5</th>\n",
       "      <td>33.0</td>\n",
       "      <td>1663.636364</td>\n",
       "      <td>601.985352</td>\n",
       "      <td>400.0</td>\n",
       "      <td>1400.0</td>\n",
       "      <td>1900.0</td>\n",
       "      <td>2100.0</td>\n",
       "      <td>2500.0</td>\n",
       "    </tr>\n",
       "    <tr>\n",
       "      <th>6</th>\n",
       "      <td>21.0</td>\n",
       "      <td>1990.476190</td>\n",
       "      <td>611.477524</td>\n",
       "      <td>900.0</td>\n",
       "      <td>1500.0</td>\n",
       "      <td>2100.0</td>\n",
       "      <td>2300.0</td>\n",
       "      <td>3500.0</td>\n",
       "    </tr>\n",
       "    <tr>\n",
       "      <th>7</th>\n",
       "      <td>9.0</td>\n",
       "      <td>2200.000000</td>\n",
       "      <td>364.005494</td>\n",
       "      <td>1600.0</td>\n",
       "      <td>2000.0</td>\n",
       "      <td>2300.0</td>\n",
       "      <td>2500.0</td>\n",
       "      <td>2600.0</td>\n",
       "    </tr>\n",
       "    <tr>\n",
       "      <th>8</th>\n",
       "      <td>5.0</td>\n",
       "      <td>2200.000000</td>\n",
       "      <td>758.287544</td>\n",
       "      <td>1000.0</td>\n",
       "      <td>2000.0</td>\n",
       "      <td>2500.0</td>\n",
       "      <td>2500.0</td>\n",
       "      <td>3000.0</td>\n",
       "    </tr>\n",
       "  </tbody>\n",
       "</table>\n",
       "</div>"
      ],
      "text/plain": [
       "        DEF                                                                 \n",
       "      count         mean         std     min     25%     50%     75%     max\n",
       "Level                                                                       \n",
       "1       5.0   320.000000   44.721360   300.0   300.0   300.0   300.0   400.0\n",
       "2       4.0   475.000000  359.397644   200.0   275.0   350.0   550.0  1000.0\n",
       "3       3.0   466.666667  416.333200     0.0   300.0   600.0   700.0   800.0\n",
       "4      15.0  1073.333333  582.441495     0.0   700.0   900.0  1500.0  2200.0\n",
       "5      33.0  1663.636364  601.985352   400.0  1400.0  1900.0  2100.0  2500.0\n",
       "6      21.0  1990.476190  611.477524   900.0  1500.0  2100.0  2300.0  3500.0\n",
       "7       9.0  2200.000000  364.005494  1600.0  2000.0  2300.0  2500.0  2600.0\n",
       "8       5.0  2200.000000  758.287544  1000.0  2000.0  2500.0  2500.0  3000.0"
      ]
     },
     "execution_count": 19,
     "metadata": {},
     "output_type": "execute_result"
    },
    {
     "name": "stdout",
     "output_type": "stream",
     "text": [
      "Error in callback <function Halo.__init__.<locals>.clean_up at 0x7fd14ad71f80> (for post_run_cell), with arguments args (<ExecutionResult object at 7fd0fd6af110, execution_count=19 error_before_exec=None error_in_exec=None info=<ExecutionInfo object at 7fd0fd646490, raw_cell=\"bandai_df[[\"Level\", \"DEF\"]].apply(pd.to_numeric, e..\" store_history=True silent=False shell_futures=True cell_id=None> result=        DEF                                                                 \n",
      "      count         mean         std     min     25%     50%     75%     max\n",
      "Level                                                                       \n",
      "1       5.0   320.000000   44.721360   300.0   300.0   300.0   300.0   400.0\n",
      "2       4.0   475.000000  359.397644   200.0   275.0   350.0   550.0  1000.0\n",
      "3       3.0   466.666667  416.333200     0.0   300.0   600.0   700.0   800.0\n",
      "4      15.0  1073.333333  582.441495     0.0   700.0   900.0  1500.0  2200.0\n",
      "5      33.0  1663.636364  601.985352   400.0  1400.0  1900.0  2100.0  2500.0\n",
      "6      21.0  1990.476190  611.477524   900.0  1500.0  2100.0  2300.0  3500.0\n",
      "7       9.0  2200.000000  364.005494  1600.0  2000.0  2300.0  2500.0  2600.0\n",
      "8       5.0  2200.000000  758.287544  1000.0  2000.0  2500.0  2500.0  3000.0>,),kwargs {}:"
     ]
    },
    {
     "name": "stdout",
     "output_type": "stream",
     "text": [
      "\n"
     ]
    },
    {
     "ename": "TypeError",
     "evalue": "Halo.__init__.<locals>.clean_up() takes 0 positional arguments but 1 was given",
     "output_type": "error",
     "traceback": [
      "\u001b[0;31m---------------------------------------------------------------------------\u001b[0m",
      "\u001b[0;31mTypeError\u001b[0m                                 Traceback (most recent call last)",
      "\u001b[0;31mTypeError\u001b[0m: Halo.__init__.<locals>.clean_up() takes 0 positional arguments but 1 was given"
     ]
    }
   ],
   "source": [
    "bandai_df[[\"Level\", \"DEF\"]].apply(pd.to_numeric, errors=\"coerce\").dropna().astype(\n",
    "    int\n",
    ").groupby(\"Level\").describe()"
   ]
  },
  {
   "cell_type": "markdown",
   "id": "f8a1f602-3981-413c-bc35-dadb1da03979",
   "metadata": {
    "papermill": {
     "duration": 0.027045,
     "end_time": "2023-11-01T21:47:13.298967",
     "exception": false,
     "start_time": "2023-11-01T21:47:13.271922",
     "status": "completed"
    },
    "tags": []
   },
   "source": [
    "## Monster type"
   ]
  },
  {
   "cell_type": "code",
   "execution_count": 20,
   "id": "dab77100",
   "metadata": {
    "execution": {
     "iopub.execute_input": "2023-11-01T21:47:13.354170Z",
     "iopub.status.busy": "2023-11-01T21:47:13.353687Z",
     "iopub.status.idle": "2023-11-01T21:47:13.372008Z",
     "shell.execute_reply": "2023-11-01T21:47:13.371233Z"
    },
    "papermill": {
     "duration": 0.048691,
     "end_time": "2023-11-01T21:47:13.373871",
     "exception": false,
     "start_time": "2023-11-01T21:47:13.325180",
     "status": "completed"
    },
    "tags": []
   },
   "outputs": [
    {
     "name": "stdout",
     "output_type": "stream",
     "text": [
      "Total number of monster types:"
     ]
    },
    {
     "name": "stdout",
     "output_type": "stream",
     "text": [
      " "
     ]
    },
    {
     "name": "stdout",
     "output_type": "stream",
     "text": [
      "16"
     ]
    },
    {
     "name": "stdout",
     "output_type": "stream",
     "text": [
      "\n"
     ]
    },
    {
     "name": "stdout",
     "output_type": "stream",
     "text": [
      "Error in callback <function Halo.__init__.<locals>.clean_up at 0x7fd14ad71f80> (for post_run_cell), with arguments args (<ExecutionResult object at 7fd0fd5ec290, execution_count=20 error_before_exec=None error_in_exec=None info=<ExecutionInfo object at 7fd0fd628ad0, raw_cell=\"print(\"Total number of monster types:\", bandai_df[..\" store_history=True silent=False shell_futures=True cell_id=None> result=None>,),kwargs {}:"
     ]
    },
    {
     "name": "stdout",
     "output_type": "stream",
     "text": [
      "\n"
     ]
    },
    {
     "ename": "TypeError",
     "evalue": "Halo.__init__.<locals>.clean_up() takes 0 positional arguments but 1 was given",
     "output_type": "error",
     "traceback": [
      "\u001b[0;31m---------------------------------------------------------------------------\u001b[0m",
      "\u001b[0;31mTypeError\u001b[0m                                 Traceback (most recent call last)",
      "\u001b[0;31mTypeError\u001b[0m: Halo.__init__.<locals>.clean_up() takes 0 positional arguments but 1 was given"
     ]
    }
   ],
   "source": [
    "print(\"Total number of monster types:\", bandai_df[\"Monster type\"].nunique())"
   ]
  },
  {
   "cell_type": "code",
   "execution_count": 21,
   "id": "02f5b750",
   "metadata": {
    "execution": {
     "iopub.execute_input": "2023-11-01T21:47:13.431063Z",
     "iopub.status.busy": "2023-11-01T21:47:13.430609Z",
     "iopub.status.idle": "2023-11-01T21:47:13.460763Z",
     "shell.execute_reply": "2023-11-01T21:47:13.459994Z"
    },
    "papermill": {
     "duration": 0.061103,
     "end_time": "2023-11-01T21:47:13.462543",
     "exception": false,
     "start_time": "2023-11-01T21:47:13.401440",
     "status": "completed"
    },
    "tags": []
   },
   "outputs": [
    {
     "data": {
      "text/html": [
       "<div>\n",
       "<style scoped>\n",
       "    .dataframe tbody tr th:only-of-type {\n",
       "        vertical-align: middle;\n",
       "    }\n",
       "\n",
       "    .dataframe tbody tr th {\n",
       "        vertical-align: top;\n",
       "    }\n",
       "\n",
       "    .dataframe thead th {\n",
       "        text-align: right;\n",
       "    }\n",
       "</style>\n",
       "<table border=\"1\" class=\"dataframe\">\n",
       "  <thead>\n",
       "    <tr style=\"text-align: right;\">\n",
       "      <th></th>\n",
       "      <th>Name</th>\n",
       "      <th>DEF</th>\n",
       "      <th>Set</th>\n",
       "      <th>Card number</th>\n",
       "      <th>Ability</th>\n",
       "      <th>Rule</th>\n",
       "      <th>ATK</th>\n",
       "      <th>Level</th>\n",
       "      <th>Modification date</th>\n",
       "    </tr>\n",
       "    <tr>\n",
       "      <th>Monster type</th>\n",
       "      <th></th>\n",
       "      <th></th>\n",
       "      <th></th>\n",
       "      <th></th>\n",
       "      <th></th>\n",
       "      <th></th>\n",
       "      <th></th>\n",
       "      <th></th>\n",
       "      <th></th>\n",
       "    </tr>\n",
       "  </thead>\n",
       "  <tbody>\n",
       "    <tr>\n",
       "      <th>Beast</th>\n",
       "      <td>4</td>\n",
       "      <td>4</td>\n",
       "      <td>3</td>\n",
       "      <td>4</td>\n",
       "      <td>0</td>\n",
       "      <td>2</td>\n",
       "      <td>2</td>\n",
       "      <td>3</td>\n",
       "      <td>4</td>\n",
       "    </tr>\n",
       "    <tr>\n",
       "      <th>Beast-Warrior</th>\n",
       "      <td>5</td>\n",
       "      <td>4</td>\n",
       "      <td>2</td>\n",
       "      <td>5</td>\n",
       "      <td>0</td>\n",
       "      <td>4</td>\n",
       "      <td>5</td>\n",
       "      <td>3</td>\n",
       "      <td>5</td>\n",
       "    </tr>\n",
       "    <tr>\n",
       "      <th>Black Magic</th>\n",
       "      <td>12</td>\n",
       "      <td>7</td>\n",
       "      <td>4</td>\n",
       "      <td>11</td>\n",
       "      <td>0</td>\n",
       "      <td>3</td>\n",
       "      <td>7</td>\n",
       "      <td>4</td>\n",
       "      <td>12</td>\n",
       "    </tr>\n",
       "    <tr>\n",
       "      <th>Dinosaur</th>\n",
       "      <td>5</td>\n",
       "      <td>5</td>\n",
       "      <td>3</td>\n",
       "      <td>5</td>\n",
       "      <td>0</td>\n",
       "      <td>4</td>\n",
       "      <td>5</td>\n",
       "      <td>2</td>\n",
       "      <td>5</td>\n",
       "    </tr>\n",
       "    <tr>\n",
       "      <th>Dragon</th>\n",
       "      <td>11</td>\n",
       "      <td>8</td>\n",
       "      <td>3</td>\n",
       "      <td>12</td>\n",
       "      <td>0</td>\n",
       "      <td>7</td>\n",
       "      <td>8</td>\n",
       "      <td>5</td>\n",
       "      <td>13</td>\n",
       "    </tr>\n",
       "    <tr>\n",
       "      <th>Dragon Magic</th>\n",
       "      <td>1</td>\n",
       "      <td>1</td>\n",
       "      <td>1</td>\n",
       "      <td>1</td>\n",
       "      <td>0</td>\n",
       "      <td>1</td>\n",
       "      <td>1</td>\n",
       "      <td>1</td>\n",
       "      <td>1</td>\n",
       "    </tr>\n",
       "    <tr>\n",
       "      <th>Electroid</th>\n",
       "      <td>1</td>\n",
       "      <td>1</td>\n",
       "      <td>1</td>\n",
       "      <td>1</td>\n",
       "      <td>0</td>\n",
       "      <td>1</td>\n",
       "      <td>1</td>\n",
       "      <td>1</td>\n",
       "      <td>1</td>\n",
       "    </tr>\n",
       "    <tr>\n",
       "      <th>Fiend</th>\n",
       "      <td>17</td>\n",
       "      <td>12</td>\n",
       "      <td>3</td>\n",
       "      <td>17</td>\n",
       "      <td>0</td>\n",
       "      <td>8</td>\n",
       "      <td>11</td>\n",
       "      <td>6</td>\n",
       "      <td>17</td>\n",
       "    </tr>\n",
       "    <tr>\n",
       "      <th>Illusion</th>\n",
       "      <td>2</td>\n",
       "      <td>2</td>\n",
       "      <td>2</td>\n",
       "      <td>2</td>\n",
       "      <td>0</td>\n",
       "      <td>0</td>\n",
       "      <td>2</td>\n",
       "      <td>1</td>\n",
       "      <td>2</td>\n",
       "    </tr>\n",
       "    <tr>\n",
       "      <th>Insect</th>\n",
       "      <td>7</td>\n",
       "      <td>5</td>\n",
       "      <td>3</td>\n",
       "      <td>7</td>\n",
       "      <td>0</td>\n",
       "      <td>6</td>\n",
       "      <td>7</td>\n",
       "      <td>6</td>\n",
       "      <td>7</td>\n",
       "    </tr>\n",
       "    <tr>\n",
       "      <th>Plantfolk</th>\n",
       "      <td>1</td>\n",
       "      <td>1</td>\n",
       "      <td>1</td>\n",
       "      <td>1</td>\n",
       "      <td>0</td>\n",
       "      <td>1</td>\n",
       "      <td>1</td>\n",
       "      <td>1</td>\n",
       "      <td>1</td>\n",
       "    </tr>\n",
       "    <tr>\n",
       "      <th>Sea Beast</th>\n",
       "      <td>2</td>\n",
       "      <td>2</td>\n",
       "      <td>1</td>\n",
       "      <td>2</td>\n",
       "      <td>0</td>\n",
       "      <td>1</td>\n",
       "      <td>2</td>\n",
       "      <td>1</td>\n",
       "      <td>2</td>\n",
       "    </tr>\n",
       "    <tr>\n",
       "      <th>Sea Serpent</th>\n",
       "      <td>1</td>\n",
       "      <td>1</td>\n",
       "      <td>1</td>\n",
       "      <td>1</td>\n",
       "      <td>0</td>\n",
       "      <td>1</td>\n",
       "      <td>1</td>\n",
       "      <td>1</td>\n",
       "      <td>1</td>\n",
       "    </tr>\n",
       "    <tr>\n",
       "      <th>Warrior</th>\n",
       "      <td>12</td>\n",
       "      <td>10</td>\n",
       "      <td>3</td>\n",
       "      <td>12</td>\n",
       "      <td>0</td>\n",
       "      <td>8</td>\n",
       "      <td>7</td>\n",
       "      <td>3</td>\n",
       "      <td>12</td>\n",
       "    </tr>\n",
       "    <tr>\n",
       "      <th>White Magic</th>\n",
       "      <td>6</td>\n",
       "      <td>4</td>\n",
       "      <td>3</td>\n",
       "      <td>6</td>\n",
       "      <td>0</td>\n",
       "      <td>4</td>\n",
       "      <td>6</td>\n",
       "      <td>3</td>\n",
       "      <td>6</td>\n",
       "    </tr>\n",
       "    <tr>\n",
       "      <th>Winged Beast</th>\n",
       "      <td>3</td>\n",
       "      <td>1</td>\n",
       "      <td>2</td>\n",
       "      <td>3</td>\n",
       "      <td>0</td>\n",
       "      <td>1</td>\n",
       "      <td>1</td>\n",
       "      <td>1</td>\n",
       "      <td>3</td>\n",
       "    </tr>\n",
       "  </tbody>\n",
       "</table>\n",
       "</div>"
      ],
      "text/plain": [
       "               Name  DEF  Set  Card number  Ability  Rule  ATK  Level  \\\n",
       "Monster type                                                            \n",
       "Beast             4    4    3            4        0     2    2      3   \n",
       "Beast-Warrior     5    4    2            5        0     4    5      3   \n",
       "Black Magic      12    7    4           11        0     3    7      4   \n",
       "Dinosaur          5    5    3            5        0     4    5      2   \n",
       "Dragon           11    8    3           12        0     7    8      5   \n",
       "Dragon Magic      1    1    1            1        0     1    1      1   \n",
       "Electroid         1    1    1            1        0     1    1      1   \n",
       "Fiend            17   12    3           17        0     8   11      6   \n",
       "Illusion          2    2    2            2        0     0    2      1   \n",
       "Insect            7    5    3            7        0     6    7      6   \n",
       "Plantfolk         1    1    1            1        0     1    1      1   \n",
       "Sea Beast         2    2    1            2        0     1    2      1   \n",
       "Sea Serpent       1    1    1            1        0     1    1      1   \n",
       "Warrior          12   10    3           12        0     8    7      3   \n",
       "White Magic       6    4    3            6        0     4    6      3   \n",
       "Winged Beast      3    1    2            3        0     1    1      1   \n",
       "\n",
       "               Modification date  \n",
       "Monster type                      \n",
       "Beast                          4  \n",
       "Beast-Warrior                  5  \n",
       "Black Magic                   12  \n",
       "Dinosaur                       5  \n",
       "Dragon                        13  \n",
       "Dragon Magic                   1  \n",
       "Electroid                      1  \n",
       "Fiend                         17  \n",
       "Illusion                       2  \n",
       "Insect                         7  \n",
       "Plantfolk                      1  \n",
       "Sea Beast                      2  \n",
       "Sea Serpent                    1  \n",
       "Warrior                       12  \n",
       "White Magic                    6  \n",
       "Winged Beast                   3  "
      ]
     },
     "execution_count": 21,
     "metadata": {},
     "output_type": "execute_result"
    },
    {
     "name": "stdout",
     "output_type": "stream",
     "text": [
      "Error in callback <function Halo.__init__.<locals>.clean_up at 0x7fd14ad71f80> (for post_run_cell), with arguments args (<ExecutionResult object at 7fd0fd775590, execution_count=21 error_before_exec=None error_in_exec=None info=<ExecutionInfo object at 7fd0fd659690, raw_cell=\"bandai_df.drop(columns=[\"Card type\", \"Page name\", ..\" store_history=True silent=False shell_futures=True cell_id=None> result=               Name  DEF  Set  Card number  Ability  Rule  ATK  Level  \\\n",
      "Monster type                                                            \n",
      "Beast             4    4    3            4        0     2    2      3   \n",
      "Beast-Warrior     5    4    2            5        0     4    5      3   \n",
      "Black Magic      12    7    4           11        0     3    7      4   \n",
      "Dinosaur          5    5    3            5        0     4    5      2   \n",
      "Dragon           11    8    3           12        0     7    8      5   \n",
      "Dragon Magic      1    1    1            1        0     1    1      1   \n",
      "Electroid         1    1    1            1        0     1    1      1   \n",
      "Fiend            17   12    3           17        0     8   11      6   \n",
      "Illusion          2    2    2            2        0     0    2      1   \n",
      "Insect            7    5    3            7        0     6    7      6   \n",
      "Plantfolk         1    1    1            1        0     1    1      1   \n",
      "Sea Beast         2    2    1            2        0     1    2      1   \n",
      "Sea Serpent       1    1    1            1        0     1    1      1   \n",
      "Warrior          12   10    3           12        0     8    7      3   \n",
      "White Magic       6    4    3            6        0     4    6      3   \n",
      "Winged Beast      3    1    2            3        0     1    1      1   \n",
      "\n",
      "               Modification date  \n",
      "Monster type                      \n",
      "Beast                          4  \n",
      "Beast-Warrior                  5  \n",
      "Black Magic                   12  \n",
      "Dinosaur                       5  \n",
      "Dragon                        13  \n",
      "Dragon Magic                   1  \n",
      "Electroid                      1  \n",
      "Fiend                         17  \n",
      "Illusion                       2  \n",
      "Insect                         7  \n",
      "Plantfolk                      1  \n",
      "Sea Beast                      2  \n",
      "Sea Serpent                    1  \n",
      "Warrior                       12  \n",
      "White Magic                    6  \n",
      "Winged Beast                   3  >,),kwargs {}:"
     ]
    },
    {
     "name": "stdout",
     "output_type": "stream",
     "text": [
      "\n"
     ]
    },
    {
     "ename": "TypeError",
     "evalue": "Halo.__init__.<locals>.clean_up() takes 0 positional arguments but 1 was given",
     "output_type": "error",
     "traceback": [
      "\u001b[0;31m---------------------------------------------------------------------------\u001b[0m",
      "\u001b[0;31mTypeError\u001b[0m                                 Traceback (most recent call last)",
      "\u001b[0;31mTypeError\u001b[0m: Halo.__init__.<locals>.clean_up() takes 0 positional arguments but 1 was given"
     ]
    }
   ],
   "source": [
    "bandai_df.drop(columns=[\"Card type\", \"Page name\", \"Page URL\"]).groupby(\n",
    "    \"Monster type\"\n",
    ").nunique()"
   ]
  },
  {
   "cell_type": "code",
   "execution_count": 22,
   "id": "75111774",
   "metadata": {
    "execution": {
     "iopub.execute_input": "2023-11-01T21:47:13.520240Z",
     "iopub.status.busy": "2023-11-01T21:47:13.519366Z",
     "iopub.status.idle": "2023-11-01T21:47:13.895362Z",
     "shell.execute_reply": "2023-11-01T21:47:13.894419Z"
    },
    "papermill": {
     "duration": 0.407048,
     "end_time": "2023-11-01T21:47:13.897102",
     "exception": false,
     "start_time": "2023-11-01T21:47:13.490054",
     "status": "completed"
    },
    "tags": []
   },
   "outputs": [
    {
     "data": {
      "image/png": "[encoded data removed]",
      "text/plain": [
       "<Figure size 1800x600 with 1 Axes>"
      ]
     },
     "metadata": {},
     "output_type": "display_data"
    },
    {
     "name": "stdout",
     "output_type": "stream",
     "text": [
      "Error in callback <function Halo.__init__.<locals>.clean_up at 0x7fd14ad71f80> (for post_run_cell), with arguments args (<ExecutionResult object at 7fd0fd4ec0d0, execution_count=22 error_before_exec=None error_in_exec=None info=<ExecutionInfo object at 7fd0fd5ec290, raw_cell=\"monster_type_colors = colors_dict[\"Monster Card\"]\n",
      "..\" store_history=True silent=False shell_futures=True cell_id=None> result=None>,),kwargs {}:"
     ]
    },
    {
     "name": "stdout",
     "output_type": "stream",
     "text": [
      "\n"
     ]
    },
    {
     "ename": "TypeError",
     "evalue": "Halo.__init__.<locals>.clean_up() takes 0 positional arguments but 1 was given",
     "output_type": "error",
     "traceback": [
      "\u001b[0;31m---------------------------------------------------------------------------\u001b[0m",
      "\u001b[0;31mTypeError\u001b[0m                                 Traceback (most recent call last)",
      "\u001b[0;31mTypeError\u001b[0m: Halo.__init__.<locals>.clean_up() takes 0 positional arguments but 1 was given"
     ]
    }
   ],
   "source": [
    "monster_type_colors = colors_dict[\"Monster Card\"]\n",
    "bandai_df[\"Monster type\"].value_counts().plot.bar(\n",
    "    figsize=(18, 6), grid=True, rot=45, color=monster_type_colors, title=\"Monster type\"\n",
    ")\n",
    "plt.show()"
   ]
  },
  {
   "cell_type": "markdown",
   "id": "eaf337f6-5f57-4f12-9ed9-56ee60684221",
   "metadata": {
    "papermill": {
     "duration": 0.032665,
     "end_time": "2023-11-01T21:47:13.959608",
     "exception": false,
     "start_time": "2023-11-01T21:47:13.926943",
     "status": "completed"
    },
    "tags": []
   },
   "source": [
    "## Set"
   ]
  },
  {
   "cell_type": "code",
   "execution_count": 23,
   "id": "8235e37d-9495-4cdd-9935-47c991543663",
   "metadata": {
    "execution": {
     "iopub.execute_input": "2023-11-01T21:47:14.040798Z",
     "iopub.status.busy": "2023-11-01T21:47:14.040426Z",
     "iopub.status.idle": "2023-11-01T21:47:14.064024Z",
     "shell.execute_reply": "2023-11-01T21:47:14.063147Z"
    },
    "papermill": {
     "duration": 0.075519,
     "end_time": "2023-11-01T21:47:14.065830",
     "exception": false,
     "start_time": "2023-11-01T21:47:13.990311",
     "status": "completed"
    },
    "tags": []
   },
   "outputs": [
    {
     "name": "stdout",
     "output_type": "stream",
     "text": [
      "Total number of sets:"
     ]
    },
    {
     "name": "stdout",
     "output_type": "stream",
     "text": [
      " "
     ]
    },
    {
     "name": "stdout",
     "output_type": "stream",
     "text": [
      "4"
     ]
    },
    {
     "name": "stdout",
     "output_type": "stream",
     "text": [
      "\n"
     ]
    },
    {
     "name": "stdout",
     "output_type": "stream",
     "text": [
      "Error in callback <function Halo.__init__.<locals>.clean_up at 0x7fd14ad71f80> (for post_run_cell), with arguments args (<ExecutionResult object at 7fd0fd75b890, execution_count=23 error_before_exec=None error_in_exec=None info=<ExecutionInfo object at 7fd0fd644290, raw_cell=\"print(\"Total number of sets:\", bandai_df[\"Set\"].nu..\" store_history=True silent=False shell_futures=True cell_id=None> result=None>,),kwargs {}:"
     ]
    },
    {
     "name": "stdout",
     "output_type": "stream",
     "text": [
      "\n"
     ]
    },
    {
     "ename": "TypeError",
     "evalue": "Halo.__init__.<locals>.clean_up() takes 0 positional arguments but 1 was given",
     "output_type": "error",
     "traceback": [
      "\u001b[0;31m---------------------------------------------------------------------------\u001b[0m",
      "\u001b[0;31mTypeError\u001b[0m                                 Traceback (most recent call last)",
      "\u001b[0;31mTypeError\u001b[0m: Halo.__init__.<locals>.clean_up() takes 0 positional arguments but 1 was given"
     ]
    }
   ],
   "source": [
    "print(\"Total number of sets:\", bandai_df[\"Set\"].nunique())"
   ]
  },
  {
   "cell_type": "code",
   "execution_count": 24,
   "id": "5ea867ee-c5e5-48ed-84d4-9c66b205f185",
   "metadata": {
    "execution": {
     "iopub.execute_input": "2023-11-01T21:47:14.138812Z",
     "iopub.status.busy": "2023-11-01T21:47:14.138000Z",
     "iopub.status.idle": "2023-11-01T21:47:14.179275Z",
     "shell.execute_reply": "2023-11-01T21:47:14.178398Z"
    },
    "papermill": {
     "duration": 0.076323,
     "end_time": "2023-11-01T21:47:14.181550",
     "exception": false,
     "start_time": "2023-11-01T21:47:14.105227",
     "status": "completed"
    },
    "tags": []
   },
   "outputs": [
    {
     "data": {
      "text/html": [
       "<div>\n",
       "<style scoped>\n",
       "    .dataframe tbody tr th:only-of-type {\n",
       "        vertical-align: middle;\n",
       "    }\n",
       "\n",
       "    .dataframe tbody tr th {\n",
       "        vertical-align: top;\n",
       "    }\n",
       "\n",
       "    .dataframe thead th {\n",
       "        text-align: right;\n",
       "    }\n",
       "</style>\n",
       "<table border=\"1\" class=\"dataframe\">\n",
       "  <thead>\n",
       "    <tr style=\"text-align: right;\">\n",
       "      <th></th>\n",
       "      <th>Name</th>\n",
       "      <th>Card type</th>\n",
       "      <th>Monster type</th>\n",
       "      <th>DEF</th>\n",
       "      <th>Card number</th>\n",
       "      <th>Ability</th>\n",
       "      <th>Rule</th>\n",
       "      <th>ATK</th>\n",
       "      <th>Level</th>\n",
       "      <th>Modification date</th>\n",
       "    </tr>\n",
       "    <tr>\n",
       "      <th>Set</th>\n",
       "      <th></th>\n",
       "      <th></th>\n",
       "      <th></th>\n",
       "      <th></th>\n",
       "      <th></th>\n",
       "      <th></th>\n",
       "      <th></th>\n",
       "      <th></th>\n",
       "      <th></th>\n",
       "      <th></th>\n",
       "    </tr>\n",
       "  </thead>\n",
       "  <tbody>\n",
       "    <tr>\n",
       "      <th>Yu-Gi-Oh! Bandai OCG: 1st Generation</th>\n",
       "      <td>40</td>\n",
       "      <td>2</td>\n",
       "      <td>12</td>\n",
       "      <td>18</td>\n",
       "      <td>41</td>\n",
       "      <td>8</td>\n",
       "      <td>9</td>\n",
       "      <td>18</td>\n",
       "      <td>7</td>\n",
       "      <td>41</td>\n",
       "    </tr>\n",
       "    <tr>\n",
       "      <th>Yu-Gi-Oh! Bandai OCG: 2nd Generation</th>\n",
       "      <td>48</td>\n",
       "      <td>4</td>\n",
       "      <td>13</td>\n",
       "      <td>21</td>\n",
       "      <td>48</td>\n",
       "      <td>0</td>\n",
       "      <td>13</td>\n",
       "      <td>19</td>\n",
       "      <td>7</td>\n",
       "      <td>48</td>\n",
       "    </tr>\n",
       "    <tr>\n",
       "      <th>Yu-Gi-Oh! Bandai OCG: 3rd Generation</th>\n",
       "      <td>26</td>\n",
       "      <td>2</td>\n",
       "      <td>9</td>\n",
       "      <td>10</td>\n",
       "      <td>26</td>\n",
       "      <td>0</td>\n",
       "      <td>13</td>\n",
       "      <td>10</td>\n",
       "      <td>6</td>\n",
       "      <td>26</td>\n",
       "    </tr>\n",
       "    <tr>\n",
       "      <th>Yu-Gi-Oh! Bandai OCG: Promotional Cards</th>\n",
       "      <td>5</td>\n",
       "      <td>3</td>\n",
       "      <td>2</td>\n",
       "      <td>1</td>\n",
       "      <td>0</td>\n",
       "      <td>0</td>\n",
       "      <td>0</td>\n",
       "      <td>1</td>\n",
       "      <td>1</td>\n",
       "      <td>5</td>\n",
       "    </tr>\n",
       "  </tbody>\n",
       "</table>\n",
       "</div>"
      ],
      "text/plain": [
       "                                         Name  Card type  Monster type  DEF  \\\n",
       "Set                                                                           \n",
       "Yu-Gi-Oh! Bandai OCG: 1st Generation       40          2            12   18   \n",
       "Yu-Gi-Oh! Bandai OCG: 2nd Generation       48          4            13   21   \n",
       "Yu-Gi-Oh! Bandai OCG: 3rd Generation       26          2             9   10   \n",
       "Yu-Gi-Oh! Bandai OCG: Promotional Cards     5          3             2    1   \n",
       "\n",
       "                                         Card number  Ability  Rule  ATK  \\\n",
       "Set                                                                        \n",
       "Yu-Gi-Oh! Bandai OCG: 1st Generation              41        8     9   18   \n",
       "Yu-Gi-Oh! Bandai OCG: 2nd Generation              48        0    13   19   \n",
       "Yu-Gi-Oh! Bandai OCG: 3rd Generation              26        0    13   10   \n",
       "Yu-Gi-Oh! Bandai OCG: Promotional Cards            0        0     0    1   \n",
       "\n",
       "                                         Level  Modification date  \n",
       "Set                                                                \n",
       "Yu-Gi-Oh! Bandai OCG: 1st Generation         7                 41  \n",
       "Yu-Gi-Oh! Bandai OCG: 2nd Generation         7                 48  \n",
       "Yu-Gi-Oh! Bandai OCG: 3rd Generation         6                 26  \n",
       "Yu-Gi-Oh! Bandai OCG: Promotional Cards      1                  5  "
      ]
     },
     "execution_count": 24,
     "metadata": {},
     "output_type": "execute_result"
    },
    {
     "name": "stdout",
     "output_type": "stream",
     "text": [
      "Error in callback <function Halo.__init__.<locals>.clean_up at 0x7fd14ad71f80> (for post_run_cell), with arguments args (<ExecutionResult object at 7fd0ff8c12d0, execution_count=24 error_before_exec=None error_in_exec=None info=<ExecutionInfo object at 7fd0ff937190, raw_cell=\"bandai_df.drop(columns=[\"Page name\", \"Page URL\"])...\" store_history=True silent=False shell_futures=True cell_id=None> result=                                         Name  Card type  Monster type  DEF  \\\n",
      "Set                                                                           \n",
      "Yu-Gi-Oh! Bandai OCG: 1st Generation       40          2            12   18   \n",
      "Yu-Gi-Oh! Bandai OCG: 2nd Generation       48          4            13   21   \n",
      "Yu-Gi-Oh! Bandai OCG: 3rd Generation       26          2             9   10   \n",
      "Yu-Gi-Oh! Bandai OCG: Promotional Cards     5          3             2    1   \n",
      "\n",
      "                                         Card number  Ability  Rule  ATK  \\\n",
      "Set                                                                        \n",
      "Yu-Gi-Oh! Bandai OCG: 1st Generation              41        8     9   18   \n",
      "Yu-Gi-Oh! Bandai OCG: 2nd Generation              48        0    13   19   \n",
      "Yu-Gi-Oh! Bandai OCG: 3rd Generation              26        0    13   10   \n",
      "Yu-Gi-Oh! Bandai OCG: Promotional Cards            0        0     0    1   \n",
      "\n",
      "                                         Level  Modification date  \n",
      "Set                                                                \n",
      "Yu-Gi-Oh! Bandai OCG: 1st Generation         7                 41  \n",
      "Yu-Gi-Oh! Bandai OCG: 2nd Generation         7                 48  \n",
      "Yu-Gi-Oh! Bandai OCG: 3rd Generation         6                 26  \n",
      "Yu-Gi-Oh! Bandai OCG: Promotional Cards      1                  5  >,),kwargs {}:"
     ]
    },
    {
     "name": "stdout",
     "output_type": "stream",
     "text": [
      "\n"
     ]
    },
    {
     "ename": "TypeError",
     "evalue": "Halo.__init__.<locals>.clean_up() takes 0 positional arguments but 1 was given",
     "output_type": "error",
     "traceback": [
      "\u001b[0;31m---------------------------------------------------------------------------\u001b[0m",
      "\u001b[0;31mTypeError\u001b[0m                                 Traceback (most recent call last)",
      "\u001b[0;31mTypeError\u001b[0m: Halo.__init__.<locals>.clean_up() takes 0 positional arguments but 1 was given"
     ]
    }
   ],
   "source": [
    "bandai_df.drop(columns=[\"Page name\", \"Page URL\"]).groupby(\"Set\").nunique()"
   ]
  },
  {
   "cell_type": "markdown",
   "id": "1b6f5f73-c9cd-483c-96da-54174938da5a",
   "metadata": {
    "papermill": {
     "duration": 0.038141,
     "end_time": "2023-11-01T21:47:14.254417",
     "exception": false,
     "start_time": "2023-11-01T21:47:14.216276",
     "status": "completed"
    },
    "tags": []
   },
   "source": [
    "# Epilogue"
   ]
  },
  {
   "cell_type": "code",
   "execution_count": 25,
   "id": "9ebe9200-4e74-4db0-8f10-d7b258b9ef7c",
   "metadata": {
    "execution": {
     "iopub.execute_input": "2023-11-01T21:47:14.320071Z",
     "iopub.status.busy": "2023-11-01T21:47:14.319128Z",
     "iopub.status.idle": "2023-11-01T21:47:15.781820Z",
     "shell.execute_reply": "2023-11-01T21:47:15.781002Z"
    },
    "papermill": {
     "duration": 1.496512,
     "end_time": "2023-11-01T21:47:15.783599",
     "exception": false,
     "start_time": "2023-11-01T21:47:14.287087",
     "status": "completed"
    },
    "tags": []
   },
   "outputs": [
    {
     "name": "stdout",
     "output_type": "stream",
     "text": [
      "Error in callback <function Halo.__init__.<locals>.clean_up at 0x7fd14ad71f80> (for post_run_cell), with arguments args (<ExecutionResult object at 7fd0fd53be90, execution_count=25 error_before_exec=None error_in_exec=None info=<ExecutionInfo object at 7fd0fd75b890, raw_cell=\"benchmark(\"bandai\", timestamp)\" store_history=True silent=False shell_futures=True cell_id=None> result=None>,),kwargs {}:"
     ]
    },
    {
     "name": "stdout",
     "output_type": "stream",
     "text": [
      "\n"
     ]
    },
    {
     "ename": "TypeError",
     "evalue": "Halo.__init__.<locals>.clean_up() takes 0 positional arguments but 1 was given",
     "output_type": "error",
     "traceback": [
      "\u001b[0;31m---------------------------------------------------------------------------\u001b[0m",
      "\u001b[0;31mTypeError\u001b[0m                                 Traceback (most recent call last)",
      "\u001b[0;31mTypeError\u001b[0m: Halo.__init__.<locals>.clean_up() takes 0 positional arguments but 1 was given"
     ]
    }
   ],
   "source": [
    "benchmark(\"bandai\", timestamp)"
   ]
  },
  {
   "cell_type": "code",
   "execution_count": 26,
   "id": "eae8bd03-02f4-486d-9ae0-ddc7227985f2",
   "metadata": {
    "execution": {
     "iopub.execute_input": "2023-11-01T21:47:15.959750Z",
     "iopub.status.busy": "2023-11-01T21:47:15.958707Z",
     "iopub.status.idle": "2023-11-01T21:47:15.971438Z",
     "shell.execute_reply": "2023-11-01T21:47:15.970689Z"
    },
    "papermill": {
     "duration": 0.154409,
     "end_time": "2023-11-01T21:47:15.973183",
     "exception": false,
     "start_time": "2023-11-01T21:47:15.818774",
     "status": "completed"
    },
    "tags": []
   },
   "outputs": [
    {
     "data": {
      "text/markdown": [
       "<div align='right'>\n",
       "    Execution completed 01/11/2023 21:47 UTC\n",
       "</div>"
      ],
      "text/plain": [
       "<IPython.core.display.Markdown object>"
      ]
     },
     "execution_count": 26,
     "metadata": {},
     "output_type": "execute_result"
    },
    {
     "name": "stdout",
     "output_type": "stream",
     "text": [
      "Error in callback <function Halo.__init__.<locals>.clean_up at 0x7fd14ad71f80> (for post_run_cell), with arguments args (<ExecutionResult object at 7fd0fd53b310, execution_count=26 error_before_exec=None error_in_exec=None info=<ExecutionInfo object at 7fd0ff8c12d0, raw_cell=\"footer()\" store_history=True silent=False shell_futures=True cell_id=None> result=<IPython.core.display.Markdown object>>,),kwargs {}:"
     ]
    },
    {
     "name": "stdout",
     "output_type": "stream",
     "text": [
      "\n"
     ]
    },
    {
     "ename": "TypeError",
     "evalue": "Halo.__init__.<locals>.clean_up() takes 0 positional arguments but 1 was given",
     "output_type": "error",
     "traceback": [
      "\u001b[0;31m---------------------------------------------------------------------------\u001b[0m",
      "\u001b[0;31mTypeError\u001b[0m                                 Traceback (most recent call last)",
      "\u001b[0;31mTypeError\u001b[0m: Halo.__init__.<locals>.clean_up() takes 0 positional arguments but 1 was given"
     ]
    }
   ],
   "source": [
    "footer()"
   ]
  },
  {
   "cell_type": "markdown",
   "id": "f8ddd2ba-01d3-4b5d-901a-62ea4f793309",
   "metadata": {
    "papermill": {
     "duration": 0.031517,
     "end_time": "2023-11-01T21:47:16.037779",
     "exception": false,
     "start_time": "2023-11-01T21:47:16.006262",
     "status": "completed"
    },
    "tags": []
   },
   "source": [
    "## HTML export"
   ]
  },
  {
   "cell_type": "code",
   "execution_count": 27,
   "id": "1f2182a7-7cc8-4959-8af5-ba7ea26439a7",
   "metadata": {
    "execution": {
     "iopub.execute_input": "2023-11-01T21:47:16.101976Z",
     "iopub.status.busy": "2023-11-01T21:47:16.101505Z",
     "iopub.status.idle": "2023-11-01T21:47:16.119290Z",
     "shell.execute_reply": "2023-11-01T21:47:16.118304Z"
    },
    "papermill": {
     "duration": 0.052282,
     "end_time": "2023-11-01T21:47:16.121117",
     "exception": false,
     "start_time": "2023-11-01T21:47:16.068835",
     "status": "completed"
    },
    "tags": []
   },
   "outputs": [
    {
     "name": "stdout",
     "output_type": "stream",
     "text": [
      "Notebook saved to disk"
     ]
    },
    {
     "name": "stdout",
     "output_type": "stream",
     "text": [
      "\n"
     ]
    },
    {
     "name": "stdout",
     "output_type": "stream",
     "text": [
      "Error in callback <function Halo.__init__.<locals>.clean_up at 0x7fd14ad71f80> (for post_run_cell), with arguments args (<ExecutionResult object at 7fd0fd54fdd0, execution_count=27 error_before_exec=None error_in_exec=None info=<ExecutionInfo object at 7fd0fd617910, raw_cell=\"# Save notebook on disck before generating HTML re..\" store_history=True silent=False shell_futures=True cell_id=None> result=None>,),kwargs {}:"
     ]
    },
    {
     "name": "stdout",
     "output_type": "stream",
     "text": [
      "\n"
     ]
    },
    {
     "ename": "TypeError",
     "evalue": "Halo.__init__.<locals>.clean_up() takes 0 positional arguments but 1 was given",
     "output_type": "error",
     "traceback": [
      "\u001b[0;31m---------------------------------------------------------------------------\u001b[0m",
      "\u001b[0;31mTypeError\u001b[0m                                 Traceback (most recent call last)",
      "\u001b[0;31mTypeError\u001b[0m: Halo.__init__.<locals>.clean_up() takes 0 positional arguments but 1 was given"
     ]
    }
   ],
   "source": [
    "# Save notebook on disck before generating HTML report\n",
    "save_notebook()"
   ]
  },
  {
   "cell_type": "code",
   "execution_count": 28,
   "id": "d7137575-20bb-4fb2-b32e-0d9de2d1cba7",
   "metadata": {
    "execution": {
     "iopub.execute_input": "2023-11-01T21:47:16.187258Z",
     "iopub.status.busy": "2023-11-01T21:47:16.186621Z",
     "iopub.status.idle": "2023-11-01T21:47:20.644699Z",
     "shell.execute_reply": "2023-11-01T21:47:20.643769Z"
    },
    "papermill": {
     "duration": 4.493598,
     "end_time": "2023-11-01T21:47:20.646755",
     "exception": false,
     "start_time": "2023-11-01T21:47:16.153157",
     "status": "completed"
    },
    "tags": []
   },
   "outputs": [
    {
     "name": "stdout",
     "output_type": "stream",
     "text": [
      "WARNING: Insecure writes have been enabled via environment variable 'JUPYTER_ALLOW_INSECURE_WRITES'! If this is not intended, remove the variable or set its value to 'False'.\r\n",
      "[NbConvertApp] Converting notebook Bandai.ipynb to HTML\r\n"
     ]
    },
    {
     "name": "stdout",
     "output_type": "stream",
     "text": [
      "[NbConvertApp] WARNING | Alternative text is missing on 5 image(s).\r\n"
     ]
    },
    {
     "name": "stdout",
     "output_type": "stream",
     "text": [
      "[NbConvertApp] Writing 519448 bytes to ../Bandai.html\r\n"
     ]
    },
    {
     "name": "stdout",
     "output_type": "stream",
     "text": [
      "Error in callback <function Halo.__init__.<locals>.clean_up at 0x7fd14ad71f80> (for post_run_cell), with arguments args (<ExecutionResult object at 7fd0fd62b610, execution_count=28 error_before_exec=None error_in_exec=None info=<ExecutionInfo object at 7fd0fd627210, raw_cell=\"! jupyter nbconvert Bandai.ipynb --output-dir='../..\" store_history=True silent=False shell_futures=True cell_id=None> result=None>,),kwargs {}:"
     ]
    },
    {
     "name": "stdout",
     "output_type": "stream",
     "text": [
      "\n"
     ]
    },
    {
     "ename": "TypeError",
     "evalue": "Halo.__init__.<locals>.clean_up() takes 0 positional arguments but 1 was given",
     "output_type": "error",
     "traceback": [
      "\u001b[0;31m---------------------------------------------------------------------------\u001b[0m",
      "\u001b[0;31mTypeError\u001b[0m                                 Traceback (most recent call last)",
      "\u001b[0;31mTypeError\u001b[0m: Halo.__init__.<locals>.clean_up() takes 0 positional arguments but 1 was given"
     ]
    }
   ],
   "source": [
    "! jupyter nbconvert Bandai.ipynb --output-dir='../' --to=HTML --TagRemovePreprocessor.enabled=True --TagRemovePreprocessor.remove_cell_tags='exclude' --TemplateExporter.exclude_input=True --TemplateExporter.exclude_input_prompt=True --TemplateExporter.exclude_output_prompt=True"
   ]
  },
  {
   "cell_type": "markdown",
   "id": "a28db6c7-1f12-497c-adc6-660f199e3369",
   "metadata": {
    "papermill": {
     "duration": 0.084646,
     "end_time": "2023-11-01T21:47:20.765520",
     "exception": false,
     "start_time": "2023-11-01T21:47:20.680874",
     "status": "completed"
    },
    "tags": [
     "exclude"
    ]
   },
   "source": [
    "## Git"
   ]
  },
  {
   "cell_type": "code",
   "execution_count": 29,
   "id": "0883fa53-b0b8-4ce2-ac96-559df31c9c58",
   "metadata": {
    "execution": {
     "iopub.execute_input": "2023-11-01T21:47:20.855393Z",
     "iopub.status.busy": "2023-11-01T21:47:20.851518Z",
     "iopub.status.idle": "2023-11-01T21:47:21.191931Z",
     "shell.execute_reply": "2023-11-01T21:47:21.191025Z"
    },
    "papermill": {
     "duration": 0.395,
     "end_time": "2023-11-01T21:47:21.193853",
     "exception": false,
     "start_time": "2023-11-01T21:47:20.798853",
     "status": "completed"
    },
    "tags": [
     "exclude"
    ]
   },
   "outputs": [
    {
     "name": "stdout",
     "output_type": "stream",
     "text": [
      "\"/opt/conda/envs/py310/bin/python3.10\" -m nbstripout: 1: /opt/conda/envs/py310/bin/python3.10: not found\r\n",
      "error: external filter '\"/opt/conda/envs/py310/bin/python3.10\" -m nbstripout' failed 127\r\n",
      "error: external filter '\"/opt/conda/envs/py310/bin/python3.10\" -m nbstripout' failed\r\n"
     ]
    },
    {
     "name": "stdout",
     "output_type": "stream",
     "text": [
      "Error in callback <function Halo.__init__.<locals>.clean_up at 0x7fd14ad71f80> (for post_run_cell), with arguments args (<ExecutionResult object at 7fd0fd6c8dd0, execution_count=29 error_before_exec=None error_in_exec=None info=<ExecutionInfo object at 7fd0fd4fac90, raw_cell=\"! git add \"../*[Bb]andai*\"\" store_history=True silent=False shell_futures=True cell_id=None> result=None>,),kwargs {}:"
     ]
    },
    {
     "name": "stdout",
     "output_type": "stream",
     "text": [
      "\n"
     ]
    },
    {
     "ename": "TypeError",
     "evalue": "Halo.__init__.<locals>.clean_up() takes 0 positional arguments but 1 was given",
     "output_type": "error",
     "traceback": [
      "\u001b[0;31m---------------------------------------------------------------------------\u001b[0m",
      "\u001b[0;31mTypeError\u001b[0m                                 Traceback (most recent call last)",
      "\u001b[0;31mTypeError\u001b[0m: Halo.__init__.<locals>.clean_up() takes 0 positional arguments but 1 was given"
     ]
    }
   ],
   "source": [
    "! git add \"../*[Bb]andai*\""
   ]
  },
  {
   "cell_type": "markdown",
   "id": "5f9d43f5",
   "metadata": {
    "tags": [
     "papermill-error-cell-tag"
    ]
   },
   "source": [
    "<span id=\"papermill-error-cell\" style=\"color:red; font-family:Helvetica Neue, Helvetica, Arial, sans-serif; font-size:2em;\">Execution using papermill encountered an exception here and stopped:</span>"
   ]
  },
  {
   "cell_type": "code",
   "execution_count": 30,
   "id": "3322a6a5-a048-42f3-a1ac-3124c0353599",
   "metadata": {
    "execution": {
     "iopub.execute_input": "2023-11-01T21:47:21.263214Z",
     "iopub.status.busy": "2023-11-01T21:47:21.262172Z",
     "iopub.status.idle": "2023-11-01T21:47:21.737272Z",
     "shell.execute_reply": "2023-11-01T21:47:21.736364Z"
    },
    "papermill": {
     "duration": 0.5117,
     "end_time": "2023-11-01T21:47:21.739042",
     "exception": false,
     "start_time": "2023-11-01T21:47:21.227342",
     "status": "completed"
    },
    "tags": [
     "exclude"
    ]
   },
   "outputs": [
    {
     "name": "stdout",
     "output_type": "stream",
     "text": [
      "[main 0413a9e] Bandai update-2023-11-01T21:47:08.348897\r\n",
      " 2 files changed, 4631 insertions(+), 385 deletions(-)\r\n"
     ]
    },
    {
     "name": "stdout",
     "output_type": "stream",
     "text": [
      "Error in callback <function Halo.__init__.<locals>.clean_up at 0x7fd14ad71f80> (for post_run_cell), with arguments args (<ExecutionResult object at 7fd0fd52eb90, execution_count=30 error_before_exec=None error_in_exec=None info=<ExecutionInfo object at 7fd0fd627210, raw_cell=\"! git commit -m {\"'Bandai update-\" + timestamp.iso..\" store_history=True silent=False shell_futures=True cell_id=None> result=None>,),kwargs {}:"
     ]
    },
    {
     "name": "stdout",
     "output_type": "stream",
     "text": [
      "\n"
     ]
    },
    {
     "ename": "TypeError",
     "evalue": "Halo.__init__.<locals>.clean_up() takes 0 positional arguments but 1 was given",
     "output_type": "error",
     "traceback": [
      "\u001b[0;31m---------------------------------------------------------------------------\u001b[0m",
      "\u001b[0;31mTypeError\u001b[0m                                 Traceback (most recent call last)",
      "\u001b[0;31mTypeError\u001b[0m: Halo.__init__.<locals>.clean_up() takes 0 positional arguments but 1 was given"
     ]
    }
   ],
   "source": [
    "! git commit -m {\"'Bandai update-\" + timestamp.isoformat() + \"'\"}"
   ]
  }
 ],
 "metadata": {
  "kernelspec": {
   "display_name": "Python 3 (ipykernel)",
   "language": "python",
   "name": "python3"
  },
  "language_info": {
   "codemirror_mode": {
    "name": "ipython",
    "version": 3
   },
   "file_extension": ".py",
   "mimetype": "text/x-python",
   "name": "python",
   "nbconvert_exporter": "python",
   "pygments_lexer": "ipython3",
   "version": "3.11.6"
  },
  "papermill": {
   "default_parameters": {},
   "duration": 19.524977,
   "end_time": "2023-11-01T21:47:22.696922",
   "environment_variables": {},
   "exception": null,
   "input_path": "Bandai.ipynb",
   "output_path": "Bandai.ipynb",
   "parameters": {},
   "start_time": "2023-11-01T21:47:03.171945",
   "version": "2.4.0"
  },
  "widgets": {
   "application/vnd.jupyter.widget-state+json": {
    "state": {
     "004afb6595c545fdbe7757efb2e806c9": {
      "model_module": "ipylab",
      "model_module_version": "^1.0.0",
      "model_name": "CommandRegistryModel",
      "state": {
       "_command_list": [],
       "_commands": [],
       "_model_module": "ipylab",
       "_model_module_version": "^1.0.0",
       "_model_name": "CommandRegistryModel",
       "_view_count": null,
       "_view_module": null,
       "_view_module_version": "",
       "_view_name": null
      }
     },
     "0b7ecede555f4d2480be9f115232ebd5": {
      "model_module": "@jupyter-widgets/output",
      "model_module_version": "1.0.0",
      "model_name": "OutputModel",
      "state": {
       "_dom_classes": [],
       "_model_module": "@jupyter-widgets/output",
       "_model_module_version": "1.0.0",
       "_model_name": "OutputModel",
       "_view_count": null,
       "_view_module": "@jupyter-widgets/output",
       "_view_module_version": "1.0.0",
       "_view_name": "OutputView",
       "layout": "IPY_MODEL_0d0889c8751c4bb3be28a7783ed7a90a",
       "msg_id": "",
       "outputs": [],
       "tabbable": null,
       "tooltip": null
      }
     },
     "0d0889c8751c4bb3be28a7783ed7a90a": {
      "model_module": "@jupyter-widgets/base",
      "model_module_version": "2.0.0",
      "model_name": "LayoutModel",
      "state": {
       "_model_module": "@jupyter-widgets/base",
       "_model_module_version": "2.0.0",
       "_model_name": "LayoutModel",
       "_view_count": null,
       "_view_module": "@jupyter-widgets/base",
       "_view_module_version": "2.0.0",
       "_view_name": "LayoutView",
       "align_content": null,
       "align_items": null,
       "align_self": null,
       "border_bottom": null,
       "border_left": null,
       "border_right": null,
       "border_top": null,
       "bottom": null,
       "display": null,
       "flex": null,
       "flex_flow": null,
       "grid_area": null,
       "grid_auto_columns": null,
       "grid_auto_flow": null,
       "grid_auto_rows": null,
       "grid_column": null,
       "grid_gap": null,
       "grid_row": null,
       "grid_template_areas": null,
       "grid_template_columns": null,
       "grid_template_rows": null,
       "height": null,
       "justify_content": null,
       "justify_items": null,
       "left": null,
       "margin": null,
       "max_height": null,
       "max_width": null,
       "min_height": null,
       "min_width": null,
       "object_fit": null,
       "object_position": null,
       "order": null,
       "overflow": null,
       "padding": null,
       "right": null,
       "top": null,
       "visibility": null,
       "width": null
      }
     },
     "212f0549318441e4ada130911e51b517": {
      "model_module": "ipylab",
      "model_module_version": "^1.0.0",
      "model_name": "JupyterFrontEndModel",
      "state": {
       "_model_module": "ipylab",
       "_model_module_version": "^1.0.0",
       "_model_name": "JupyterFrontEndModel",
       "_view_count": null,
       "_view_module": null,
       "_view_module_version": "",
       "_view_name": null,
       "commands": "IPY_MODEL_004afb6595c545fdbe7757efb2e806c9",
       "sessions": "IPY_MODEL_9abfd914c6b44ba0896570dfff48a99a",
       "shell": "IPY_MODEL_6245250edaed4aa1aa90c636a17c628e",
       "version": ""
      }
     },
     "6245250edaed4aa1aa90c636a17c628e": {
      "model_module": "ipylab",
      "model_module_version": "^1.0.0",
      "model_name": "ShellModel",
      "state": {
       "_model_module": "ipylab",
       "_model_module_version": "^1.0.0",
       "_model_name": "ShellModel",
       "_view_count": null,
       "_view_module": null,
       "_view_module_version": "",
       "_view_name": null,
       "_widgets": []
      }
     },
     "9abfd914c6b44ba0896570dfff48a99a": {
      "model_module": "ipylab",
      "model_module_version": "^1.0.0",
      "model_name": "SessionManagerModel",
      "state": {
       "_model_module": "ipylab",
       "_model_module_version": "^1.0.0",
       "_model_name": "SessionManagerModel",
       "_view_count": null,
       "_view_module": null,
       "_view_module_version": "",
       "_view_name": null,
       "current_session": {},
       "sessions": []
      }
     }
    },
    "version_major": 2,
    "version_minor": 0
   }
  }
 },
 "nbformat": 4,
 "nbformat_minor": 5
}
