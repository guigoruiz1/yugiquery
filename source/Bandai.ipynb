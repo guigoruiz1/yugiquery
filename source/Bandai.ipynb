{
 "cells": [
  {
   "cell_type": "code",
   "execution_count": null,
   "id": "9903a324-2402-461a-b8b3-9dec09caceb4",
   "metadata": {
    "papermill": {
     "duration": 9.457421,
     "end_time": "2024-01-01T05:01:19.336259",
     "exception": false,
     "start_time": "2024-01-01T05:01:09.878838",
     "status": "completed"
    },
    "tags": []
   },
   "outputs": [],
   "source": [
    "from yugiquery import *\n",
    "\n",
    "init_notebook_mode(all_interactive=True)\n",
    "\n",
    "header(\"Bandai\")"
   ]
  },
  {
   "cell_type": "markdown",
   "id": "9445cada-ce7a-4d46-a3e8-742439319435",
   "metadata": {
    "papermill": {
     "duration": 0.076541,
     "end_time": "2024-01-01T05:01:19.440655",
     "exception": false,
     "start_time": "2024-01-01T05:01:19.364114",
     "status": "completed"
    },
    "tags": []
   },
   "source": [
    "---"
   ]
  },
  {
   "cell_type": "markdown",
   "id": "e61188c8-73f1-48e5-a165-8fcc66d30f47",
   "metadata": {
    "papermill": {
     "duration": 0.023002,
     "end_time": "2024-01-01T05:01:19.490205",
     "exception": false,
     "start_time": "2024-01-01T05:01:19.467203",
     "status": "completed"
    },
    "tags": []
   },
   "source": [
    "Table of Contents <a class=\"jp-toc-ignore\"></a>\n",
    "=================\n",
    "\n",
    "*   [1  Data aquisition](#Data-aquisition)\n",
    "    *   [1.1  Fetch online data](#Fetch-online-data)\n",
    "*   [2  Check changes](#Check-changes)\n",
    "    *   [2.1  Load previous data](#Load-previous-data)\n",
    "    *   [2.2  Generate changelog](#Generate-changelog)\n",
    "    *   [2.3  Save data](#Save-data)\n",
    "*   [3  Data visualization](#Data-visualization)\n",
    "    *   [3.1  Card type](#Card-type)\n",
    "    *   [3.2  ATK](#ATK)\n",
    "    *   [3.3  DEF](#DEF)\n",
    "    *   [3.4  Level](#Level)\n",
    "        *   [3.4.1  ATK statistics](#ATK-statistics)\n",
    "        *   [3.4.2  DEF statistics](#DEF-statistics)\n",
    "        *   [3.4.3  Level](#Level)\n",
    "    *   [3.5  Monster type](#Monster-type)\n",
    "    *   [3.6  Set](#Set)\n",
    "*   [4  Epilogue](#Epilogue)\n",
    "    *   [4.1  HTML export](#HTML-export)\n",
    "<!--     *   [4.2  Git](#Git) -->"
   ]
  },
  {
   "cell_type": "markdown",
   "id": "ddf5afac-0c61-47d8-a0ad-f441a705eb88",
   "metadata": {
    "papermill": {
     "duration": 0.022643,
     "end_time": "2024-01-01T05:01:19.535731",
     "exception": false,
     "start_time": "2024-01-01T05:01:19.513088",
     "status": "completed"
    },
    "tags": []
   },
   "source": [
    "# Data aquisition"
   ]
  },
  {
   "cell_type": "markdown",
   "id": "cc75b862-8058-4db2-9499-446fd0d3042e",
   "metadata": {
    "jp-MarkdownHeadingCollapsed": true,
    "papermill": {
     "duration": 0.022997,
     "end_time": "2024-01-01T05:01:19.581667",
     "exception": false,
     "start_time": "2024-01-01T05:01:19.558670",
     "status": "completed"
    },
    "tags": []
   },
   "source": [
    "## Fetch online data"
   ]
  },
  {
   "cell_type": "code",
   "execution_count": null,
   "id": "9df14404-b603-4f17-b66e-5766bed0175b",
   "metadata": {
    "editable": true,
    "papermill": {
     "duration": 0.031099,
     "end_time": "2024-01-01T05:01:19.636481",
     "exception": false,
     "start_time": "2024-01-01T05:01:19.605382",
     "status": "completed"
    },
    "slideshow": {
     "slide_type": ""
    },
    "tags": []
   },
   "outputs": [],
   "source": [
    "timestamp = arrow.utcnow()"
   ]
  },
  {
   "cell_type": "code",
   "execution_count": null,
   "id": "e29ba8f9-c3ad-4353-af35-9183e22a314b",
   "metadata": {
    "editable": true,
    "papermill": {
     "duration": 1.039963,
     "end_time": "2024-01-01T05:01:20.699951",
     "exception": false,
     "start_time": "2024-01-01T05:01:19.659988",
     "status": "completed"
    },
    "slideshow": {
     "slide_type": ""
    },
    "tags": []
   },
   "outputs": [],
   "source": [
    "bandai_df = fetch_bandai()"
   ]
  },
  {
   "cell_type": "markdown",
   "id": "ae8c018f-312e-4582-b1ab-af7d06e3e9d1",
   "metadata": {
    "jp-MarkdownHeadingCollapsed": true,
    "papermill": {
     "duration": 0.076523,
     "end_time": "2024-01-01T05:01:20.815183",
     "exception": false,
     "start_time": "2024-01-01T05:01:20.738660",
     "status": "completed"
    },
    "tags": []
   },
   "source": [
    "# Check changes"
   ]
  },
  {
   "cell_type": "markdown",
   "id": "6f3d5394-1deb-4877-8e8c-d3b4c389df86",
   "metadata": {
    "papermill": {
     "duration": 0.024294,
     "end_time": "2024-01-01T05:01:20.866311",
     "exception": false,
     "start_time": "2024-01-01T05:01:20.842017",
     "status": "completed"
    },
    "tags": []
   },
   "source": [
    "## Load previous data"
   ]
  },
  {
   "cell_type": "code",
   "execution_count": null,
   "id": "8144b798-14d4-4201-8e9d-afeffc0cda45",
   "metadata": {
    "papermill": {
     "duration": 0.141383,
     "end_time": "2024-01-01T05:01:21.035714",
     "exception": false,
     "start_time": "2024-01-01T05:01:20.894331",
     "status": "completed"
    },
    "tags": []
   },
   "outputs": [],
   "source": [
    "# Get latest file if exist\n",
    "previous_df, previous_ts = load_corrected_latest(\"bandai\")\n",
    "\n",
    "if previous_df is not None:\n",
    "    previous_df = previous_df.astype(\n",
    "        bandai_df[previous_df.columns.intersection(bandai_df.columns)].dtypes.to_dict()\n",
    "    )"
   ]
  },
  {
   "cell_type": "markdown",
   "id": "96111a58-528d-4a95-94dc-2c8772fc8f81",
   "metadata": {
    "papermill": {
     "duration": 0.096835,
     "end_time": "2024-01-01T05:01:21.170816",
     "exception": false,
     "start_time": "2024-01-01T05:01:21.073981",
     "status": "completed"
    },
    "tags": []
   },
   "source": [
    "## Generate changelog"
   ]
  },
  {
   "cell_type": "code",
   "execution_count": null,
   "id": "2022a407-d6c2-4ff0-8d8f-e8431901d436",
   "metadata": {
    "papermill": {
     "duration": 0.135788,
     "end_time": "2024-01-01T05:01:21.457872",
     "exception": false,
     "start_time": "2024-01-01T05:01:21.322084",
     "status": "completed"
    },
    "tags": []
   },
   "outputs": [],
   "source": [
    "if previous_df is None:\n",
    "    changelog = None\n",
    "    print(\"Skipped\")\n",
    "else:\n",
    "    changelog = generate_changelog(previous_df, bandai_df, col=\"Name\")\n",
    "    if not changelog.empty:\n",
    "        display(changelog)\n",
    "        changelog.to_csv(\n",
    "            f'../data/{make_filename(report = \"bandai\", timestamp = timestamp, previous_timestamp = previous_ts)}',\n",
    "            index=True,\n",
    "        )\n",
    "        print(\"Changelog saved\")"
   ]
  },
  {
   "cell_type": "markdown",
   "id": "c50bdfb0-a6d1-43d7-8c96-f9145e053946",
   "metadata": {
    "papermill": {
     "duration": 0.023655,
     "end_time": "2024-01-01T05:01:21.509667",
     "exception": false,
     "start_time": "2024-01-01T05:01:21.486012",
     "status": "completed"
    },
    "tags": []
   },
   "source": [
    "## Save data"
   ]
  },
  {
   "cell_type": "code",
   "execution_count": null,
   "id": "c3aadd59-2d67-4c2a-81a4-3543bdbeb2f5",
   "metadata": {
    "papermill": {
     "duration": 0.035456,
     "end_time": "2024-01-01T05:01:21.568672",
     "exception": false,
     "start_time": "2024-01-01T05:01:21.533216",
     "status": "completed"
    },
    "tags": []
   },
   "outputs": [],
   "source": [
    "if changelog is not None and changelog.empty:\n",
    "    print(\"No changes. New data not saved\")\n",
    "else:\n",
    "    bandai_df.to_csv(\n",
    "        f'../data/{make_filename(report = \"bandai\", timestamp=timestamp)}', index=False\n",
    "    )\n",
    "    print(\"Data saved\")"
   ]
  },
  {
   "cell_type": "markdown",
   "id": "c64d414c-93b3-4464-b985-40bf135ddb1a",
   "metadata": {
    "papermill": {
     "duration": 0.024692,
     "end_time": "2024-01-01T05:01:21.621438",
     "exception": false,
     "start_time": "2024-01-01T05:01:21.596746",
     "status": "completed"
    },
    "tags": []
   },
   "source": [
    "# Data visualization"
   ]
  },
  {
   "cell_type": "code",
   "execution_count": null,
   "id": "56b6402a-ade8-44fc-9e6d-c46b54e6bd6f",
   "metadata": {
    "papermill": {
     "duration": 0.073186,
     "end_time": "2024-01-01T05:01:21.718057",
     "exception": false,
     "start_time": "2024-01-01T05:01:21.644871",
     "status": "completed"
    },
    "tags": []
   },
   "outputs": [],
   "source": [
    "bandai_df"
   ]
  },
  {
   "cell_type": "markdown",
   "id": "f31c671e-6e38-4f7c-b2e2-40a434e444d1",
   "metadata": {
    "jp-MarkdownHeadingCollapsed": true,
    "papermill": {
     "duration": 0.060327,
     "end_time": "2024-01-01T05:01:21.807185",
     "exception": false,
     "start_time": "2024-01-01T05:01:21.746858",
     "status": "completed"
    },
    "tags": []
   },
   "source": [
    "## Card type"
   ]
  },
  {
   "cell_type": "code",
   "execution_count": null,
   "id": "1403be1f-b22b-47a1-854c-8258ba7bde97",
   "metadata": {
    "papermill": {
     "duration": 0.037562,
     "end_time": "2024-01-01T05:01:21.870133",
     "exception": false,
     "start_time": "2024-01-01T05:01:21.832571",
     "status": "completed"
    },
    "tags": []
   },
   "outputs": [],
   "source": [
    "print(\"Total number of card types:\", bandai_df[\"Card type\"].nunique())"
   ]
  },
  {
   "cell_type": "code",
   "execution_count": null,
   "id": "d2f71e96-730c-4b69-afdb-3c0e128caae2",
   "metadata": {
    "papermill": {
     "duration": 1.097043,
     "end_time": "2024-01-01T05:01:22.996501",
     "exception": false,
     "start_time": "2024-01-01T05:01:21.899458",
     "status": "completed"
    },
    "tags": []
   },
   "outputs": [],
   "source": [
    "card_type_colors = [colors_dict[i] for i in bandai_df[\"Card type\"].value_counts().index]\n",
    "bandai_df[\"Card type\"].value_counts().plot.bar(\n",
    "    figsize=(18, 6), grid=True, rot=0, color=card_type_colors\n",
    ")\n",
    "plt.show()"
   ]
  },
  {
   "cell_type": "markdown",
   "id": "00c6b243-67ad-42c5-9189-4d2d33c5372c",
   "metadata": {
    "jp-MarkdownHeadingCollapsed": true,
    "papermill": {
     "duration": 0.061167,
     "end_time": "2024-01-01T05:01:23.083217",
     "exception": false,
     "start_time": "2024-01-01T05:01:23.022050",
     "status": "completed"
    },
    "tags": []
   },
   "source": [
    "## ATK"
   ]
  },
  {
   "cell_type": "code",
   "execution_count": null,
   "id": "1b5db865",
   "metadata": {
    "papermill": {
     "duration": 0.080038,
     "end_time": "2024-01-01T05:01:23.209521",
     "exception": false,
     "start_time": "2024-01-01T05:01:23.129483",
     "status": "completed"
    },
    "tags": []
   },
   "outputs": [],
   "source": [
    "print(\"Total number of ATK values:\", bandai_df[\"ATK\"].nunique())"
   ]
  },
  {
   "cell_type": "code",
   "execution_count": null,
   "id": "16b9aa14",
   "metadata": {
    "papermill": {
     "duration": 0.068057,
     "end_time": "2024-01-01T05:01:23.308274",
     "exception": false,
     "start_time": "2024-01-01T05:01:23.240217",
     "status": "completed"
    },
    "tags": []
   },
   "outputs": [],
   "source": [
    "bandai_df.drop(columns=[\"Card type\", \"Page name\", \"Page URL\"]).groupby(\n",
    "    \"ATK\"\n",
    ").nunique().sort_index(key=lambda x: pd.to_numeric(x, errors=\"coerce\"))"
   ]
  },
  {
   "cell_type": "code",
   "execution_count": null,
   "id": "3b1b2e1d",
   "metadata": {
    "papermill": {
     "duration": 0.52074,
     "end_time": "2024-01-01T05:01:23.856822",
     "exception": false,
     "start_time": "2024-01-01T05:01:23.336082",
     "status": "completed"
    },
    "tags": []
   },
   "outputs": [],
   "source": [
    "atk_colors = colors_dict[\"Monster Card\"]\n",
    "bandai_df[\"ATK\"].value_counts().sort_index(\n",
    "    key=lambda x: pd.to_numeric(x, errors=\"coerce\")\n",
    ").plot.bar(figsize=(18, 6), grid=True, color=atk_colors)\n",
    "plt.show()"
   ]
  },
  {
   "cell_type": "markdown",
   "id": "8c7f10ac-6c4e-42fe-be55-c2ea61abb7ae",
   "metadata": {
    "jp-MarkdownHeadingCollapsed": true,
    "papermill": {
     "duration": 0.0282,
     "end_time": "2024-01-01T05:01:23.917888",
     "exception": false,
     "start_time": "2024-01-01T05:01:23.889688",
     "status": "completed"
    },
    "tags": []
   },
   "source": [
    "## DEF"
   ]
  },
  {
   "cell_type": "code",
   "execution_count": null,
   "id": "2aa0ba61",
   "metadata": {
    "papermill": {
     "duration": 0.042585,
     "end_time": "2024-01-01T05:01:23.987354",
     "exception": false,
     "start_time": "2024-01-01T05:01:23.944769",
     "status": "completed"
    },
    "tags": []
   },
   "outputs": [],
   "source": [
    "print(\"Total number of DEF values:\", bandai_df[\"DEF\"].nunique())"
   ]
  },
  {
   "cell_type": "code",
   "execution_count": null,
   "id": "54e9d56a",
   "metadata": {
    "papermill": {
     "duration": 0.061088,
     "end_time": "2024-01-01T05:01:24.079769",
     "exception": false,
     "start_time": "2024-01-01T05:01:24.018681",
     "status": "completed"
    },
    "tags": []
   },
   "outputs": [],
   "source": [
    "bandai_df.drop(columns=[\"Card type\", \"Page name\", \"Page URL\"]).groupby(\n",
    "    \"DEF\"\n",
    ").nunique().sort_index(key=lambda x: pd.to_numeric(x, errors=\"coerce\"))"
   ]
  },
  {
   "cell_type": "code",
   "execution_count": null,
   "id": "10aeff48",
   "metadata": {
    "papermill": {
     "duration": 0.395825,
     "end_time": "2024-01-01T05:01:24.503434",
     "exception": false,
     "start_time": "2024-01-01T05:01:24.107609",
     "status": "completed"
    },
    "tags": []
   },
   "outputs": [],
   "source": [
    "def_colors = colors_dict[\"Monster Card\"]\n",
    "bandai_df[\"DEF\"].value_counts().sort_index(\n",
    "    key=lambda x: pd.to_numeric(x, errors=\"coerce\")\n",
    ").plot.bar(figsize=(18, 6), grid=True, color=def_colors)\n",
    "plt.show()"
   ]
  },
  {
   "cell_type": "markdown",
   "id": "02b9970b-696d-4ef0-b01d-0385e6c53575",
   "metadata": {
    "jp-MarkdownHeadingCollapsed": true,
    "papermill": {
     "duration": 0.072109,
     "end_time": "2024-01-01T05:01:24.608582",
     "exception": false,
     "start_time": "2024-01-01T05:01:24.536473",
     "status": "completed"
    },
    "tags": []
   },
   "source": [
    "## Level"
   ]
  },
  {
   "cell_type": "code",
   "execution_count": null,
   "id": "f5543138",
   "metadata": {
    "papermill": {
     "duration": 0.060921,
     "end_time": "2024-01-01T05:01:24.701089",
     "exception": false,
     "start_time": "2024-01-01T05:01:24.640168",
     "status": "completed"
    },
    "tags": []
   },
   "outputs": [],
   "source": [
    "bandai_df.drop(columns=[\"Card type\", \"Page name\", \"Page URL\"]).groupby(\n",
    "    \"Level\"\n",
    ").nunique().sort_index(key=lambda x: pd.to_numeric(x, errors=\"coerce\"))"
   ]
  },
  {
   "cell_type": "code",
   "execution_count": null,
   "id": "31539bdc",
   "metadata": {
    "papermill": {
     "duration": 0.260334,
     "end_time": "2024-01-01T05:01:24.990187",
     "exception": false,
     "start_time": "2024-01-01T05:01:24.729853",
     "status": "completed"
    },
    "tags": []
   },
   "outputs": [],
   "source": [
    "level_colors = colors_dict[\"Level\"]\n",
    "bandai_df[\"Level\"].value_counts().sort_index(\n",
    "    key=lambda x: pd.to_numeric(x, errors=\"coerce\")\n",
    ").plot.bar(figsize=(18, 6), grid=True, rot=0, color=level_colors)\n",
    "plt.show()"
   ]
  },
  {
   "cell_type": "markdown",
   "id": "071ce72d-178c-4ff3-9e4a-25f2568db91b",
   "metadata": {
    "papermill": {
     "duration": 0.034072,
     "end_time": "2024-01-01T05:01:25.060271",
     "exception": false,
     "start_time": "2024-01-01T05:01:25.026199",
     "status": "completed"
    },
    "tags": []
   },
   "source": [
    "### ATK statistics"
   ]
  },
  {
   "cell_type": "code",
   "execution_count": null,
   "id": "06dc9107",
   "metadata": {
    "papermill": {
     "duration": 0.093688,
     "end_time": "2024-01-01T05:01:25.185153",
     "exception": false,
     "start_time": "2024-01-01T05:01:25.091465",
     "status": "completed"
    },
    "tags": []
   },
   "outputs": [],
   "source": [
    "bandai_df[[\"Level\", \"ATK\"]].apply(pd.to_numeric, errors=\"coerce\").dropna().astype(\n",
    "    int\n",
    ").groupby(\"Level\").describe().round(1)"
   ]
  },
  {
   "cell_type": "markdown",
   "id": "3d9b3073-cb28-48c0-94c3-17e6932f0903",
   "metadata": {
    "papermill": {
     "duration": 0.070826,
     "end_time": "2024-01-01T05:01:25.289086",
     "exception": false,
     "start_time": "2024-01-01T05:01:25.218260",
     "status": "completed"
    },
    "tags": []
   },
   "source": [
    "### DEF statistics"
   ]
  },
  {
   "cell_type": "code",
   "execution_count": null,
   "id": "cc005e78",
   "metadata": {
    "papermill": {
     "duration": 0.095903,
     "end_time": "2024-01-01T05:01:25.418418",
     "exception": false,
     "start_time": "2024-01-01T05:01:25.322515",
     "status": "completed"
    },
    "tags": []
   },
   "outputs": [],
   "source": [
    "bandai_df[[\"Level\", \"DEF\"]].apply(pd.to_numeric, errors=\"coerce\").dropna().astype(\n",
    "    int\n",
    ").groupby(\"Level\").describe().round(1)"
   ]
  },
  {
   "cell_type": "markdown",
   "id": "f8a1f602-3981-413c-bc35-dadb1da03979",
   "metadata": {
    "papermill": {
     "duration": 0.030313,
     "end_time": "2024-01-01T05:01:25.480508",
     "exception": false,
     "start_time": "2024-01-01T05:01:25.450195",
     "status": "completed"
    },
    "tags": []
   },
   "source": [
    "## Monster type"
   ]
  },
  {
   "cell_type": "code",
   "execution_count": null,
   "id": "dab77100",
   "metadata": {
    "papermill": {
     "duration": 0.051738,
     "end_time": "2024-01-01T05:01:25.562567",
     "exception": false,
     "start_time": "2024-01-01T05:01:25.510829",
     "status": "completed"
    },
    "tags": []
   },
   "outputs": [],
   "source": [
    "print(\"Total number of monster types:\", bandai_df[\"Monster type\"].nunique())"
   ]
  },
  {
   "cell_type": "code",
   "execution_count": null,
   "id": "02f5b750",
   "metadata": {
    "papermill": {
     "duration": 0.067804,
     "end_time": "2024-01-01T05:01:25.674815",
     "exception": false,
     "start_time": "2024-01-01T05:01:25.607011",
     "status": "completed"
    },
    "tags": []
   },
   "outputs": [],
   "source": [
    "bandai_df.drop(columns=[\"Card type\", \"Page name\", \"Page URL\"]).groupby(\n",
    "    \"Monster type\"\n",
    ").nunique()"
   ]
  },
  {
   "cell_type": "code",
   "execution_count": null,
   "id": "75111774",
   "metadata": {
    "papermill": {
     "duration": 0.517119,
     "end_time": "2024-01-01T05:01:26.223085",
     "exception": false,
     "start_time": "2024-01-01T05:01:25.705966",
     "status": "completed"
    },
    "tags": []
   },
   "outputs": [],
   "source": [
    "monster_type_colors = colors_dict[\"Monster Card\"]\n",
    "bandai_df[\"Monster type\"].value_counts().plot.bar(\n",
    "    figsize=(18, 6), grid=True, rot=45, color=monster_type_colors\n",
    ")\n",
    "plt.show()"
   ]
  },
  {
   "cell_type": "markdown",
   "id": "eaf337f6-5f57-4f12-9ed9-56ee60684221",
   "metadata": {
    "papermill": {
     "duration": 0.10737,
     "end_time": "2024-01-01T05:01:26.367403",
     "exception": false,
     "start_time": "2024-01-01T05:01:26.260033",
     "status": "completed"
    },
    "tags": []
   },
   "source": [
    "## Set"
   ]
  },
  {
   "cell_type": "code",
   "execution_count": null,
   "id": "8235e37d-9495-4cdd-9935-47c991543663",
   "metadata": {
    "papermill": {
     "duration": 0.057127,
     "end_time": "2024-01-01T05:01:26.461650",
     "exception": false,
     "start_time": "2024-01-01T05:01:26.404523",
     "status": "completed"
    },
    "tags": []
   },
   "outputs": [],
   "source": [
    "print(\"Total number of sets:\", bandai_df[\"Set\"].nunique())"
   ]
  },
  {
   "cell_type": "code",
   "execution_count": null,
   "id": "5ea867ee-c5e5-48ed-84d4-9c66b205f185",
   "metadata": {
    "papermill": {
     "duration": 0.100612,
     "end_time": "2024-01-01T05:01:26.599304",
     "exception": false,
     "start_time": "2024-01-01T05:01:26.498692",
     "status": "completed"
    },
    "tags": []
   },
   "outputs": [],
   "source": [
    "bandai_df.drop(columns=[\"Page name\", \"Page URL\"]).groupby(\"Set\").nunique()"
   ]
  },
  {
   "cell_type": "markdown",
   "id": "1b6f5f73-c9cd-483c-96da-54174938da5a",
   "metadata": {
    "papermill": {
     "duration": 0.034652,
     "end_time": "2024-01-01T05:01:26.671139",
     "exception": false,
     "start_time": "2024-01-01T05:01:26.636487",
     "status": "completed"
    },
    "tags": []
   },
   "source": [
    "# Epilogue"
   ]
  },
  {
   "cell_type": "code",
   "execution_count": null,
   "id": "9ebe9200-4e74-4db0-8f10-d7b258b9ef7c",
   "metadata": {
    "papermill": {
     "duration": 4.837537,
     "end_time": "2024-01-01T05:01:31.544013",
     "exception": false,
     "start_time": "2024-01-01T05:01:26.706476",
     "status": "completed"
    },
    "tags": []
   },
   "outputs": [],
   "source": [
    "benchmark(report=\"bandai\", timestamp=timestamp)"
   ]
  },
  {
   "cell_type": "code",
   "execution_count": null,
   "id": "eae8bd03-02f4-486d-9ae0-ddc7227985f2",
   "metadata": {
    "papermill": {
     "duration": 0.101632,
     "end_time": "2024-01-01T05:01:31.959083",
     "exception": false,
     "start_time": "2024-01-01T05:01:31.857451",
     "status": "completed"
    },
    "tags": []
   },
   "outputs": [],
   "source": [
    "footer()"
   ]
  },
  {
   "cell_type": "markdown",
   "id": "f8ddd2ba-01d3-4b5d-901a-62ea4f793309",
   "metadata": {
    "papermill": {
     "duration": 0.043322,
     "end_time": "2024-01-01T05:01:32.041472",
     "exception": false,
     "start_time": "2024-01-01T05:01:31.998150",
     "status": "completed"
    },
    "tags": []
   },
   "source": [
    "## HTML export"
   ]
  },
  {
   "cell_type": "code",
   "execution_count": null,
   "id": "1f2182a7-7cc8-4959-8af5-ba7ea26439a7",
   "metadata": {
    "papermill": {
     "duration": 0.047674,
     "end_time": "2024-01-01T05:01:32.123608",
     "exception": false,
     "start_time": "2024-01-01T05:01:32.075934",
     "status": "completed"
    },
    "tags": []
   },
   "outputs": [],
   "source": [
    "# Save notebook on disck before generating HTML report\n",
    "save_notebook()"
   ]
  },
  {
   "cell_type": "code",
   "execution_count": null,
   "id": "d7137575-20bb-4fb2-b32e-0d9de2d1cba7",
   "metadata": {
    "papermill": {
     "duration": 5.735989,
     "end_time": "2024-01-01T05:01:37.895642",
     "exception": false,
     "start_time": "2024-01-01T05:01:32.159653",
     "status": "completed"
    },
    "tags": []
   },
   "outputs": [],
   "source": [
    "! jupyter nbconvert Bandai.ipynb --output-dir='../' --to=HTML --template=labdynamic --no-input"
   ]
  },
  {
   "cell_type": "markdown",
   "id": "a28db6c7-1f12-497c-adc6-660f199e3369",
   "metadata": {
    "papermill": {
     "duration": 0.035176,
     "end_time": "2024-01-01T05:01:37.971935",
     "exception": false,
     "start_time": "2024-01-01T05:01:37.936759",
     "status": "completed"
    },
    "tags": [
     "exclude"
    ]
   },
   "source": [
    "## Git"
   ]
  },
  {
   "cell_type": "code",
   "execution_count": null,
   "id": "9b33616a-71a1-4adf-a40b-5a5b425ffadf",
   "metadata": {
    "papermill": {
     "duration": 3.643775,
     "end_time": "2024-01-01T05:01:41.650624",
     "exception": false,
     "start_time": "2024-01-01T05:01:38.006849",
     "status": "completed"
    },
    "tags": []
   },
   "outputs": [],
   "source": [
    "commit(\"*[Bb]andai*\", f\"Bandai update - {timestamp.isoformat()}\")"
   ]
  }
 ],
 "metadata": {
  "kernelspec": {
   "display_name": "Python 3 (ipykernel)",
   "language": "python",
   "name": "python3"
  },
  "language_info": {
   "codemirror_mode": {
    "name": "ipython",
    "version": 3
   },
   "file_extension": ".py",
   "mimetype": "text/x-python",
   "name": "python",
   "nbconvert_exporter": "python",
   "pygments_lexer": "ipython3",
   "version": "3.11.6"
  },
  "papermill": {
   "default_parameters": {},
   "duration": 38.03958,
   "end_time": "2024-01-01T05:01:44.350551",
   "environment_variables": {},
   "exception": null,
   "input_path": "Bandai.ipynb",
   "output_path": "Bandai.ipynb",
   "parameters": {},
   "start_time": "2024-01-01T05:01:06.310971",
   "version": "2.4.0"
  }
 },
 "nbformat": 4,
 "nbformat_minor": 5
}
