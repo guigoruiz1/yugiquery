{
 "cells": [
  {
   "cell_type": "code",
   "execution_count": null,
   "id": "9903a324-2402-461a-b8b3-9dec09caceb4",
   "metadata": {
    "papermill": {
     "duration": 5.699164,
     "end_time": "2023-02-21T16:05:15.329629",
     "exception": false,
     "start_time": "2023-02-21T16:05:09.630465",
     "status": "completed"
    },
    "tags": []
   },
   "outputs": [],
   "source": [
    "from yugiquery import *\n",
    "header('Bandai')"
   ]
  },
  {
   "cell_type": "markdown",
   "id": "9445cada-ce7a-4d46-a3e8-742439319435",
   "metadata": {
    "papermill": {
     "duration": 0.050406,
     "end_time": "2023-02-21T16:05:15.394747",
     "exception": false,
     "start_time": "2023-02-21T16:05:15.344341",
     "status": "completed"
    },
    "tags": []
   },
   "source": [
    "---"
   ]
  },
  {
   "cell_type": "markdown",
   "id": "ddf5afac-0c61-47d8-a0ad-f441a705eb88",
   "metadata": {
    "papermill": {
     "duration": 0.010671,
     "end_time": "2023-02-21T16:05:15.443443",
     "exception": false,
     "start_time": "2023-02-21T16:05:15.432772",
     "status": "completed"
    },
    "tags": []
   },
   "source": [
    "# Data aquisition"
   ]
  },
  {
   "cell_type": "markdown",
   "id": "cc75b862-8058-4db2-9499-446fd0d3042e",
   "metadata": {
    "papermill": {
     "duration": 0.014826,
     "end_time": "2023-02-21T16:05:15.468737",
     "exception": false,
     "start_time": "2023-02-21T16:05:15.453911",
     "status": "completed"
    },
    "tags": []
   },
   "source": [
    "## Fetch online data"
   ]
  },
  {
   "cell_type": "code",
   "execution_count": null,
   "id": "9df14404-b603-4f17-b66e-5766bed0175b",
   "metadata": {
    "papermill": {
     "duration": 0.023146,
     "end_time": "2023-02-21T16:05:15.512897",
     "exception": false,
     "start_time": "2023-02-21T16:05:15.489751",
     "status": "completed"
    },
    "tags": []
   },
   "outputs": [],
   "source": [
    "timestamp = pd.Timestamp.now()"
   ]
  },
  {
   "cell_type": "code",
   "execution_count": null,
   "id": "e29ba8f9-c3ad-4353-af35-9183e22a314b",
   "metadata": {
    "papermill": {
     "duration": 2.66619,
     "end_time": "2023-02-21T16:05:18.189296",
     "exception": false,
     "start_time": "2023-02-21T16:05:15.523106",
     "status": "completed"
    },
    "tags": []
   },
   "outputs": [],
   "source": [
    "bandai_df = fetch_bandai()"
   ]
  },
  {
   "cell_type": "markdown",
   "id": "ae8c018f-312e-4582-b1ab-af7d06e3e9d1",
   "metadata": {
    "papermill": {
     "duration": 0.046444,
     "end_time": "2023-02-21T16:05:18.249022",
     "exception": false,
     "start_time": "2023-02-21T16:05:18.202578",
     "status": "completed"
    },
    "tags": []
   },
   "source": [
    "# Check changes"
   ]
  },
  {
   "cell_type": "markdown",
   "id": "6f3d5394-1deb-4877-8e8c-d3b4c389df86",
   "metadata": {
    "papermill": {
     "duration": 0.010842,
     "end_time": "2023-02-21T16:05:18.369075",
     "exception": false,
     "start_time": "2023-02-21T16:05:18.358233",
     "status": "completed"
    },
    "tags": []
   },
   "source": [
    "## Load previous data"
   ]
  },
  {
   "cell_type": "code",
   "execution_count": null,
   "id": "b2004432-65fb-4341-bfe5-a04ad2147553",
   "metadata": {
    "papermill": {
     "duration": 0.029703,
     "end_time": "2023-02-21T16:05:18.423461",
     "exception": false,
     "start_time": "2023-02-21T16:05:18.393758",
     "status": "completed"
    },
    "tags": []
   },
   "outputs": [],
   "source": [
    "# Get list of files\n",
    "files_list = sorted(glob.glob('../data/all_bandai_*.csv'), key=os.path.getctime, reverse=True)\n",
    "# Get second newest file if exist\n",
    "if files_list:\n",
    "    # Load csv avoiding converting \"NA\" to NaN\n",
    "    previous_df = pd.read_csv(files_list[0], dtype=object, keep_default_na=False, na_values=[''])\n",
    "    # Force dtypes to match current df\n",
    "    previous_df = previous_df.astype(bandai_df[previous_df.columns.intersection(bandai_df.columns)].dtypes.to_dict())\n",
    "    previous_ts = pd.to_datetime(os.path.basename(files_list[0]).split('_')[-1].rstrip('.csv'))\n",
    "    print('File loaded')\n",
    "else:\n",
    "    previous_df = None\n",
    "    print('No older files')"
   ]
  },
  {
   "cell_type": "markdown",
   "id": "96111a58-528d-4a95-94dc-2c8772fc8f81",
   "metadata": {
    "papermill": {
     "duration": 0.010411,
     "end_time": "2023-02-21T16:05:18.444445",
     "exception": false,
     "start_time": "2023-02-21T16:05:18.434034",
     "status": "completed"
    },
    "tags": []
   },
   "source": [
    "## Generate changelog"
   ]
  },
  {
   "cell_type": "code",
   "execution_count": null,
   "id": "2022a407-d6c2-4ff0-8d8f-e8431901d436",
   "metadata": {
    "papermill": {
     "duration": 0.022416,
     "end_time": "2023-02-21T16:05:18.477316",
     "exception": false,
     "start_time": "2023-02-21T16:05:18.454900",
     "status": "completed"
    },
    "tags": []
   },
   "outputs": [],
   "source": [
    "if previous_df is None:\n",
    "    changelog=None\n",
    "    print('Skipped')\n",
    "else:\n",
    "    changelog = generate_changelog(previous_df, bandai_df, col = 'Name')\n",
    "    if not changelog.empty:\n",
    "        display(changelog)\n",
    "        changelog.to_csv(f'../data/bandai_changelog_{timestamp.isoformat(timespec=\"minutes\")}_{previous_ts.isoformat(timespec=\"minutes\")}.csv', index = True)\n",
    "        print('Changelog saved')"
   ]
  },
  {
   "cell_type": "markdown",
   "id": "c50bdfb0-a6d1-43d7-8c96-f9145e053946",
   "metadata": {
    "papermill": {
     "duration": 0.012121,
     "end_time": "2023-02-21T16:05:18.501258",
     "exception": false,
     "start_time": "2023-02-21T16:05:18.489137",
     "status": "completed"
    },
    "tags": []
   },
   "source": [
    "## Save data"
   ]
  },
  {
   "cell_type": "code",
   "execution_count": null,
   "id": "c3aadd59-2d67-4c2a-81a4-3543bdbeb2f5",
   "metadata": {
    "papermill": {
     "duration": 0.057184,
     "end_time": "2023-02-21T16:05:18.570971",
     "exception": false,
     "start_time": "2023-02-21T16:05:18.513787",
     "status": "completed"
    },
    "tags": []
   },
   "outputs": [],
   "source": [
    "if changelog is not None and changelog.empty:\n",
    "    print('No changes. New data not saved')\n",
    "else:\n",
    "    bandai_df.to_csv(f'../data/all_bandai_{timestamp.isoformat(timespec=\"minutes\")}.csv', index=False)\n",
    "    print('Data saved')"
   ]
  },
  {
   "cell_type": "markdown",
   "id": "c64d414c-93b3-4464-b985-40bf135ddb1a",
   "metadata": {
    "papermill": {
     "duration": 0.011319,
     "end_time": "2023-02-21T16:05:18.593281",
     "exception": false,
     "start_time": "2023-02-21T16:05:18.581962",
     "status": "completed"
    },
    "tags": []
   },
   "source": [
    "# Data visualization"
   ]
  },
  {
   "cell_type": "code",
   "execution_count": null,
   "id": "56b6402a-ade8-44fc-9e6d-c46b54e6bd6f",
   "metadata": {
    "papermill": {
     "duration": 0.065655,
     "end_time": "2023-02-21T16:05:18.670911",
     "exception": false,
     "start_time": "2023-02-21T16:05:18.605256",
     "status": "completed"
    },
    "tags": []
   },
   "outputs": [],
   "source": [
    "bandai_df"
   ]
  },
  {
   "cell_type": "markdown",
   "id": "f31c671e-6e38-4f7c-b2e2-40a434e444d1",
   "metadata": {
    "papermill": {
     "duration": 0.013542,
     "end_time": "2023-02-21T16:05:18.696519",
     "exception": false,
     "start_time": "2023-02-21T16:05:18.682977",
     "status": "completed"
    },
    "tags": []
   },
   "source": [
    "## Card type"
   ]
  },
  {
   "cell_type": "code",
   "execution_count": null,
   "id": "20ef81f9-2614-4151-b599-ba802a7b4530",
   "metadata": {
    "papermill": {
     "duration": 0.038087,
     "end_time": "2023-02-21T16:05:18.746520",
     "exception": false,
     "start_time": "2023-02-21T16:05:18.708433",
     "status": "completed"
    },
    "tags": []
   },
   "outputs": [],
   "source": [
    "bandai_df['Card type'].nunique()"
   ]
  },
  {
   "cell_type": "markdown",
   "id": "00c6b243-67ad-42c5-9189-4d2d33c5372c",
   "metadata": {
    "papermill": {
     "duration": 0.013685,
     "end_time": "2023-02-21T16:05:18.774122",
     "exception": false,
     "start_time": "2023-02-21T16:05:18.760437",
     "status": "completed"
    },
    "tags": []
   },
   "source": [
    "## ATK"
   ]
  },
  {
   "cell_type": "code",
   "execution_count": null,
   "id": "ee21be78-369b-4022-9d9b-2cfc4dee5724",
   "metadata": {
    "papermill": {
     "duration": 0.03406,
     "end_time": "2023-02-21T16:05:18.820644",
     "exception": false,
     "start_time": "2023-02-21T16:05:18.786584",
     "status": "completed"
    },
    "tags": []
   },
   "outputs": [],
   "source": [
    "bandai_df['ATK'].value_counts()"
   ]
  },
  {
   "cell_type": "code",
   "execution_count": null,
   "id": "418c7a17-237f-4390-82d9-a37130bea190",
   "metadata": {
    "papermill": {
     "duration": 0.026026,
     "end_time": "2023-02-21T16:05:18.859711",
     "exception": false,
     "start_time": "2023-02-21T16:05:18.833685",
     "status": "completed"
    },
    "tags": []
   },
   "outputs": [],
   "source": [
    "bandai_df['ATK'].value_counts()"
   ]
  },
  {
   "cell_type": "markdown",
   "id": "f3a64016-d755-44e4-af52-7b26e2069e3f",
   "metadata": {
    "papermill": {
     "duration": 0.012268,
     "end_time": "2023-02-21T16:05:18.885108",
     "exception": false,
     "start_time": "2023-02-21T16:05:18.872840",
     "status": "completed"
    },
    "tags": []
   },
   "source": [
    "## DEF"
   ]
  },
  {
   "cell_type": "code",
   "execution_count": null,
   "id": "8e74d069-81b3-4ead-a7f6-57c220dd77e6",
   "metadata": {
    "papermill": {
     "duration": 0.03404,
     "end_time": "2023-02-21T16:05:18.934316",
     "exception": false,
     "start_time": "2023-02-21T16:05:18.900276",
     "status": "completed"
    },
    "tags": []
   },
   "outputs": [],
   "source": [
    "bandai_df['DEF'].value_counts()"
   ]
  },
  {
   "cell_type": "code",
   "execution_count": null,
   "id": "8ceca51c-07fe-4285-ac5a-6f8c35cde7bd",
   "metadata": {
    "papermill": {
     "duration": 0.037178,
     "end_time": "2023-02-21T16:05:18.988567",
     "exception": false,
     "start_time": "2023-02-21T16:05:18.951389",
     "status": "completed"
    },
    "tags": []
   },
   "outputs": [],
   "source": [
    "bandai_df['DEF'].value_counts()"
   ]
  },
  {
   "cell_type": "code",
   "execution_count": null,
   "id": "d0886dbe-4bf9-4f27-9438-7f6098c1cf25",
   "metadata": {
    "papermill": {
     "duration": 0.263911,
     "end_time": "2023-02-21T16:05:19.265409",
     "exception": false,
     "start_time": "2023-02-21T16:05:19.001498",
     "status": "completed"
    },
    "tags": []
   },
   "outputs": [],
   "source": [
    "pd.crosstab(bandai_df['DEF'],bandai_df['ATK'])"
   ]
  },
  {
   "cell_type": "code",
   "execution_count": null,
   "id": "5b7e2e2a-6ade-4ace-8b10-d0a26fdd0d44",
   "metadata": {
    "papermill": {
     "duration": 0.056327,
     "end_time": "2023-02-21T16:05:19.335909",
     "exception": false,
     "start_time": "2023-02-21T16:05:19.279582",
     "status": "completed"
    },
    "tags": []
   },
   "outputs": [],
   "source": [
    "pd.to_numeric(bandai_df['ATK'].dropna(), errors = 'ignore').astype(int)"
   ]
  },
  {
   "cell_type": "markdown",
   "id": "02b9970b-696d-4ef0-b01d-0385e6c53575",
   "metadata": {
    "papermill": {
     "duration": 0.07166,
     "end_time": "2023-02-21T16:05:19.657122",
     "exception": false,
     "start_time": "2023-02-21T16:05:19.585462",
     "status": "completed"
    },
    "tags": []
   },
   "source": [
    "## Level"
   ]
  },
  {
   "cell_type": "code",
   "execution_count": null,
   "id": "96b94d81-b347-4b6d-bab9-263abee67b3b",
   "metadata": {
    "papermill": {
     "duration": 0.026947,
     "end_time": "2023-02-21T16:05:19.713995",
     "exception": false,
     "start_time": "2023-02-21T16:05:19.687048",
     "status": "completed"
    },
    "tags": []
   },
   "outputs": [],
   "source": [
    "bandai_df['Level'].nunique()"
   ]
  },
  {
   "cell_type": "code",
   "execution_count": null,
   "id": "305a6171-165e-4cd1-93d1-65917275ccb6",
   "metadata": {
    "papermill": {
     "duration": 0.029269,
     "end_time": "2023-02-21T16:05:19.772365",
     "exception": false,
     "start_time": "2023-02-21T16:05:19.743096",
     "status": "completed"
    },
    "tags": []
   },
   "outputs": [],
   "source": [
    "bandai_df['Level'].value_counts()"
   ]
  },
  {
   "cell_type": "markdown",
   "id": "3c277a51-155c-45af-af9c-12f51a97c224",
   "metadata": {
    "papermill": {
     "duration": 0.014768,
     "end_time": "2023-02-21T16:05:19.802239",
     "exception": false,
     "start_time": "2023-02-21T16:05:19.787471",
     "status": "completed"
    },
    "tags": []
   },
   "source": [
    "### By ATK"
   ]
  },
  {
   "cell_type": "code",
   "execution_count": null,
   "id": "ac7899b5-2278-46dd-9ff2-bb2cbdccf2c6",
   "metadata": {
    "papermill": {
     "duration": 0.06001,
     "end_time": "2023-02-21T16:05:19.876962",
     "exception": false,
     "start_time": "2023-02-21T16:05:19.816952",
     "status": "completed"
    },
    "tags": []
   },
   "outputs": [],
   "source": [
    "pd.crosstab(bandai_df['Level'],bandai_df['ATK'])"
   ]
  },
  {
   "cell_type": "markdown",
   "id": "f432342f-5730-48c9-bb6a-fca71cbc9a20",
   "metadata": {
    "papermill": {
     "duration": 0.016739,
     "end_time": "2023-02-21T16:05:19.909605",
     "exception": false,
     "start_time": "2023-02-21T16:05:19.892866",
     "status": "completed"
    },
    "tags": []
   },
   "source": [
    "### By DEF"
   ]
  },
  {
   "cell_type": "code",
   "execution_count": null,
   "id": "52ebe50e-ff8a-45c7-a88f-cd27834fe1e8",
   "metadata": {
    "papermill": {
     "duration": 0.067897,
     "end_time": "2023-02-21T16:05:19.994184",
     "exception": false,
     "start_time": "2023-02-21T16:05:19.926287",
     "status": "completed"
    },
    "tags": []
   },
   "outputs": [],
   "source": [
    "pd.crosstab(bandai_df['Level'],bandai_df['DEF'])"
   ]
  },
  {
   "cell_type": "markdown",
   "id": "f8a1f602-3981-413c-bc35-dadb1da03979",
   "metadata": {
    "papermill": {
     "duration": 0.030468,
     "end_time": "2023-02-21T16:05:20.042689",
     "exception": false,
     "start_time": "2023-02-21T16:05:20.012221",
     "status": "completed"
    },
    "tags": []
   },
   "source": [
    "## Monster type"
   ]
  },
  {
   "cell_type": "code",
   "execution_count": null,
   "id": "e71d220b-0843-40dc-b0e0-4bf57bf6aef2",
   "metadata": {
    "papermill": {
     "duration": 0.030802,
     "end_time": "2023-02-21T16:05:20.090704",
     "exception": false,
     "start_time": "2023-02-21T16:05:20.059902",
     "status": "completed"
    },
    "tags": []
   },
   "outputs": [],
   "source": [
    "bandai_df['Monster type'].nunique()"
   ]
  },
  {
   "cell_type": "code",
   "execution_count": null,
   "id": "4442a4b2-f82e-4624-947f-48e3e0e90763",
   "metadata": {
    "papermill": {
     "duration": 0.031387,
     "end_time": "2023-02-21T16:05:20.138977",
     "exception": false,
     "start_time": "2023-02-21T16:05:20.107590",
     "status": "completed"
    },
    "tags": []
   },
   "outputs": [],
   "source": [
    "bandai_df['Monster type'].value_counts()"
   ]
  },
  {
   "cell_type": "markdown",
   "id": "1b6f5f73-c9cd-483c-96da-54174938da5a",
   "metadata": {
    "papermill": {
     "duration": 0.01751,
     "end_time": "2023-02-21T16:05:20.173428",
     "exception": false,
     "start_time": "2023-02-21T16:05:20.155918",
     "status": "completed"
    },
    "tags": []
   },
   "source": [
    "# Epilogue"
   ]
  },
  {
   "cell_type": "code",
   "execution_count": null,
   "id": "9ebe9200-4e74-4db0-8f10-d7b258b9ef7c",
   "metadata": {
    "papermill": {
     "duration": 0.029308,
     "end_time": "2023-02-21T16:05:20.220518",
     "exception": false,
     "start_time": "2023-02-21T16:05:20.191210",
     "status": "completed"
    },
    "tags": []
   },
   "outputs": [],
   "source": [
    "benchmark('bandai',timestamp)"
   ]
  },
  {
   "cell_type": "code",
   "execution_count": null,
   "id": "eae8bd03-02f4-486d-9ae0-ddc7227985f2",
   "metadata": {
    "papermill": {
     "duration": 0.028002,
     "end_time": "2023-02-21T16:05:20.265139",
     "exception": false,
     "start_time": "2023-02-21T16:05:20.237137",
     "status": "completed"
    },
    "tags": []
   },
   "outputs": [],
   "source": [
    "footer()"
   ]
  },
  {
   "cell_type": "markdown",
   "id": "f8ddd2ba-01d3-4b5d-901a-62ea4f793309",
   "metadata": {
    "papermill": {
     "duration": 0.020666,
     "end_time": "2023-02-21T16:05:20.303590",
     "exception": false,
     "start_time": "2023-02-21T16:05:20.282924",
     "status": "completed"
    },
    "tags": []
   },
   "source": [
    "## HTML export"
   ]
  },
  {
   "cell_type": "code",
   "execution_count": null,
   "id": "1f2182a7-7cc8-4959-8af5-ba7ea26439a7",
   "metadata": {
    "papermill": {
     "duration": 0.033212,
     "end_time": "2023-02-21T16:05:20.354338",
     "exception": false,
     "start_time": "2023-02-21T16:05:20.321126",
     "status": "completed"
    },
    "tags": []
   },
   "outputs": [],
   "source": [
    "# Save notebook on disck before generating HTML report\n",
    "save_notebook()"
   ]
  },
  {
   "cell_type": "code",
   "execution_count": null,
   "id": "d7137575-20bb-4fb2-b32e-0d9de2d1cba7",
   "metadata": {
    "papermill": {
     "duration": 5.559234,
     "end_time": "2023-02-21T16:05:25.931329",
     "exception": false,
     "start_time": "2023-02-21T16:05:20.372095",
     "status": "completed"
    },
    "tags": []
   },
   "outputs": [],
   "source": [
    "! jupyter nbconvert Bandai.ipynb --output-dir='../' --to=HTML --TagRemovePreprocessor.enabled=True --TagRemovePreprocessor.remove_cell_tags='exclude' --TemplateExporter.exclude_input=True --TemplateExporter.exclude_input_prompt=True --TemplateExporter.exclude_output_prompt=True"
   ]
  },
  {
   "cell_type": "markdown",
   "id": "a28db6c7-1f12-497c-adc6-660f199e3369",
   "metadata": {
    "papermill": {
     "duration": 0.041122,
     "end_time": "2023-02-21T16:05:25.993062",
     "exception": false,
     "start_time": "2023-02-21T16:05:25.951940",
     "status": "completed"
    },
    "tags": [
     "exclude"
    ]
   },
   "source": [
    "## Git"
   ]
  },
  {
   "cell_type": "code",
   "execution_count": null,
   "id": "0883fa53-b0b8-4ce2-ac96-559df31c9c58",
   "metadata": {
    "papermill": {
     "duration": 0.685962,
     "end_time": "2023-02-21T16:05:26.728401",
     "exception": false,
     "start_time": "2023-02-21T16:05:26.042439",
     "status": "completed"
    },
    "tags": [
     "exclude"
    ]
   },
   "outputs": [],
   "source": [
    "! git add \"../*[Bb]andai*\""
   ]
  },
  {
   "cell_type": "code",
   "execution_count": null,
   "id": "3322a6a5-a048-42f3-a1ac-3124c0353599",
   "metadata": {
    "papermill": {
     "duration": 1.71192,
     "end_time": "2023-02-21T16:05:28.458013",
     "exception": false,
     "start_time": "2023-02-21T16:05:26.746093",
     "status": "completed"
    },
    "tags": [
     "exclude"
    ]
   },
   "outputs": [],
   "source": [
    "! git commit -m {\"'Bandai update-\" + timestamp.isoformat() + \"'\"}"
   ]
  }
 ],
 "metadata": {
  "kernelspec": {
   "display_name": "Python 3 (ipykernel)",
   "language": "python",
   "name": "python3"
  },
  "language_info": {
   "codemirror_mode": {
    "name": "ipython",
    "version": 3
   },
   "file_extension": ".py",
   "mimetype": "text/x-python",
   "name": "python",
   "nbconvert_exporter": "python",
   "pygments_lexer": "ipython3",
   "version": "3.10.8"
  },
  "papermill": {
   "default_parameters": {},
   "duration": 23.299005,
   "end_time": "2023-02-21T16:05:31.397281",
   "environment_variables": {},
   "exception": null,
   "input_path": "Bandai.ipynb",
   "output_path": "Bandai.ipynb",
   "parameters": {},
   "start_time": "2023-02-21T16:05:08.098276",
   "version": "2.4.0"
  }
 },
 "nbformat": 4,
 "nbformat_minor": 5
}
