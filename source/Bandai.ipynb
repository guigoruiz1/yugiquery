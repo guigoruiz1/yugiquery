{
 "cells": [
  {
   "cell_type": "code",
   "execution_count": 1,
   "id": "9903a324-2402-461a-b8b3-9dec09caceb4",
   "metadata": {
    "execution": {
     "iopub.execute_input": "2023-05-01T22:22:00.386916Z",
     "iopub.status.busy": "2023-05-01T22:22:00.386159Z",
     "iopub.status.idle": "2023-05-01T22:22:15.261085Z",
     "shell.execute_reply": "2023-05-01T22:22:15.259946Z"
    },
    "papermill": {
     "duration": 14.891274,
     "end_time": "2023-05-01T22:22:15.263995",
     "exception": false,
     "start_time": "2023-05-01T22:22:00.372721",
     "status": "completed"
    },
    "tags": []
   },
   "outputs": [
    {
     "data": {
      "text/markdown": [
       "<div align='center'>\n",
       "    <br>\n",
       "    <!-- Pre Style needed to fix HTML formatting -->\n",
       "    <pre style=\"line-height: var(--jp-code-line-height); font-family: var(--jp-code-font-family)\">\n",
       "    ██    ██ ██    ██  ██████  ██  ██████  ██    ██ ███████ ██████  ██    ██ \n",
       "     ██  ██  ██    ██ ██       ██ ██    ██ ██    ██ ██      ██   ██  ██  ██  \n",
       "      ████   ██    ██ ██   ███ ██ ██    ██ ██    ██ █████   ██████    ████   \n",
       "       ██    ██    ██ ██    ██ ██ ██ ▄▄ ██ ██    ██ ██      ██   ██    ██    \n",
       "       ██     ██████   ██████  ██  ██████   ██████  ███████ ██   ██    ██    \n",
       "                                      ▀▀                                     \n",
       "    </pre>\n",
       "</div>\n",
       "<div align='right'>\n",
       "    Bandai - Execution started 01/05/2023 22:22 UTC <br>\n",
       "    By <b>Guilherme Ruiz</b>\n",
       "</div>"
      ],
      "text/plain": [
       "<IPython.core.display.Markdown object>"
      ]
     },
     "execution_count": 1,
     "metadata": {},
     "output_type": "execute_result"
    }
   ],
   "source": [
    "from yugiquery import *\n",
    "\n",
    "header(\"Bandai\")"
   ]
  },
  {
   "cell_type": "markdown",
   "id": "9445cada-ce7a-4d46-a3e8-742439319435",
   "metadata": {
    "papermill": {
     "duration": 0.127697,
     "end_time": "2023-05-01T22:22:15.408519",
     "exception": false,
     "start_time": "2023-05-01T22:22:15.280822",
     "status": "completed"
    },
    "tags": []
   },
   "source": [
    "---"
   ]
  },
  {
   "cell_type": "markdown",
   "id": "ddf5afac-0c61-47d8-a0ad-f441a705eb88",
   "metadata": {
    "papermill": {
     "duration": 0.038624,
     "end_time": "2023-05-01T22:22:15.458807",
     "exception": false,
     "start_time": "2023-05-01T22:22:15.420183",
     "status": "completed"
    },
    "tags": []
   },
   "source": [
    "# Data aquisition"
   ]
  },
  {
   "cell_type": "markdown",
   "id": "cc75b862-8058-4db2-9499-446fd0d3042e",
   "metadata": {
    "papermill": {
     "duration": 0.011217,
     "end_time": "2023-05-01T22:22:15.481079",
     "exception": false,
     "start_time": "2023-05-01T22:22:15.469862",
     "status": "completed"
    },
    "tags": []
   },
   "source": [
    "## Fetch online data"
   ]
  },
  {
   "cell_type": "code",
   "execution_count": 2,
   "id": "9df14404-b603-4f17-b66e-5766bed0175b",
   "metadata": {
    "execution": {
     "iopub.execute_input": "2023-05-01T22:22:15.507975Z",
     "iopub.status.busy": "2023-05-01T22:22:15.507009Z",
     "iopub.status.idle": "2023-05-01T22:22:15.512134Z",
     "shell.execute_reply": "2023-05-01T22:22:15.511235Z"
    },
    "papermill": {
     "duration": 0.01981,
     "end_time": "2023-05-01T22:22:15.514184",
     "exception": false,
     "start_time": "2023-05-01T22:22:15.494374",
     "status": "completed"
    },
    "tags": []
   },
   "outputs": [],
   "source": [
    "timestamp = pd.Timestamp.now()"
   ]
  },
  {
   "cell_type": "code",
   "execution_count": 3,
   "id": "e29ba8f9-c3ad-4353-af35-9183e22a314b",
   "metadata": {
    "execution": {
     "iopub.execute_input": "2023-05-01T22:22:15.540534Z",
     "iopub.status.busy": "2023-05-01T22:22:15.539971Z",
     "iopub.status.idle": "2023-05-01T22:22:16.085254Z",
     "shell.execute_reply": "2023-05-01T22:22:16.084198Z"
    },
    "papermill": {
     "duration": 0.559879,
     "end_time": "2023-05-01T22:22:16.087355",
     "exception": false,
     "start_time": "2023-05-01T22:22:15.527476",
     "status": "completed"
    },
    "tags": []
   },
   "outputs": [
    {
     "name": "stdout",
     "output_type": "stream",
     "text": [
      "Downloading bandai cards"
     ]
    },
    {
     "name": "stdout",
     "output_type": "stream",
     "text": [
      "\n"
     ]
    },
    {
     "name": "stdout",
     "output_type": "stream",
     "text": [
      "120 results\n"
     ]
    },
    {
     "name": "stdout",
     "output_type": "stream",
     "text": [
      "\n"
     ]
    }
   ],
   "source": [
    "bandai_df = fetch_bandai()"
   ]
  },
  {
   "cell_type": "markdown",
   "id": "ae8c018f-312e-4582-b1ab-af7d06e3e9d1",
   "metadata": {
    "papermill": {
     "duration": 0.068481,
     "end_time": "2023-05-01T22:22:16.167824",
     "exception": false,
     "start_time": "2023-05-01T22:22:16.099343",
     "status": "completed"
    },
    "tags": []
   },
   "source": [
    "# Check changes"
   ]
  },
  {
   "cell_type": "markdown",
   "id": "6f3d5394-1deb-4877-8e8c-d3b4c389df86",
   "metadata": {
    "papermill": {
     "duration": 0.012058,
     "end_time": "2023-05-01T22:22:16.193427",
     "exception": false,
     "start_time": "2023-05-01T22:22:16.181369",
     "status": "completed"
    },
    "tags": []
   },
   "source": [
    "## Load previous data"
   ]
  },
  {
   "cell_type": "code",
   "execution_count": 4,
   "id": "b2004432-65fb-4341-bfe5-a04ad2147553",
   "metadata": {
    "execution": {
     "iopub.execute_input": "2023-05-01T22:22:16.219633Z",
     "iopub.status.busy": "2023-05-01T22:22:16.218545Z",
     "iopub.status.idle": "2023-05-01T22:22:16.308939Z",
     "shell.execute_reply": "2023-05-01T22:22:16.308005Z"
    },
    "papermill": {
     "duration": 0.10596,
     "end_time": "2023-05-01T22:22:16.311284",
     "exception": false,
     "start_time": "2023-05-01T22:22:16.205324",
     "status": "completed"
    },
    "tags": []
   },
   "outputs": [
    {
     "name": "stdout",
     "output_type": "stream",
     "text": [
      "File loaded"
     ]
    },
    {
     "name": "stdout",
     "output_type": "stream",
     "text": [
      "\n"
     ]
    }
   ],
   "source": [
    "# Get list of files\n",
    "files_list = sorted(\n",
    "    glob.glob(\"../data/all_bandai_*.csv\"), key=os.path.getctime, reverse=True\n",
    ")\n",
    "# Get second newest file if exist\n",
    "if files_list:\n",
    "    latest_file = files_list[0]\n",
    "    # Load csv avoiding converting \"NA\" to NaN\n",
    "    previous_df = pd.read_csv(\n",
    "        latest_file, dtype=object, keep_default_na=False, na_values=[\"\"]\n",
    "    )\n",
    "    # Force dtypes to match current df\n",
    "    previous_df = previous_df.astype(\n",
    "        bandai_df[previous_df.columns.intersection(bandai_df.columns)].dtypes.to_dict()\n",
    "    )\n",
    "    previous_ts = pd.to_datetime(\n",
    "        os.path.basename(latest_file).split(\"_\")[-1].rstrip(\".csv\")\n",
    "    )\n",
    "    print(\"File loaded\")\n",
    "else:\n",
    "    previous_df = None\n",
    "    print(\"No older files\")"
   ]
  },
  {
   "cell_type": "markdown",
   "id": "96111a58-528d-4a95-94dc-2c8772fc8f81",
   "metadata": {
    "papermill": {
     "duration": 0.011659,
     "end_time": "2023-05-01T22:22:16.336503",
     "exception": false,
     "start_time": "2023-05-01T22:22:16.324844",
     "status": "completed"
    },
    "tags": []
   },
   "source": [
    "## Generate changelog"
   ]
  },
  {
   "cell_type": "code",
   "execution_count": 5,
   "id": "2022a407-d6c2-4ff0-8d8f-e8431901d436",
   "metadata": {
    "execution": {
     "iopub.execute_input": "2023-05-01T22:22:16.362909Z",
     "iopub.status.busy": "2023-05-01T22:22:16.362220Z",
     "iopub.status.idle": "2023-05-01T22:22:16.478976Z",
     "shell.execute_reply": "2023-05-01T22:22:16.478025Z"
    },
    "papermill": {
     "duration": 0.132012,
     "end_time": "2023-05-01T22:22:16.481122",
     "exception": false,
     "start_time": "2023-05-01T22:22:16.349110",
     "status": "completed"
    },
    "tags": []
   },
   "outputs": [
    {
     "data": {
      "text/html": [
       "<div>\n",
       "<style scoped>\n",
       "    .dataframe tbody tr th:only-of-type {\n",
       "        vertical-align: middle;\n",
       "    }\n",
       "\n",
       "    .dataframe tbody tr th {\n",
       "        vertical-align: top;\n",
       "    }\n",
       "\n",
       "    .dataframe thead th {\n",
       "        text-align: right;\n",
       "    }\n",
       "</style>\n",
       "<table border=\"1\" class=\"dataframe\">\n",
       "  <thead>\n",
       "    <tr style=\"text-align: right;\">\n",
       "      <th></th>\n",
       "      <th>Monster type</th>\n",
       "      <th>DEF</th>\n",
       "      <th>Rule</th>\n",
       "      <th>Modification date</th>\n",
       "      <th>Version</th>\n",
       "    </tr>\n",
       "    <tr>\n",
       "      <th>Name</th>\n",
       "      <th></th>\n",
       "      <th></th>\n",
       "      <th></th>\n",
       "      <th></th>\n",
       "      <th></th>\n",
       "    </tr>\n",
       "  </thead>\n",
       "  <tbody>\n",
       "    <tr>\n",
       "      <th>Dragon Capture Jar</th>\n",
       "      <td>Illusion Magic</td>\n",
       "      <td>200</td>\n",
       "      <td>NaN</td>\n",
       "      <td>NaT</td>\n",
       "      <td>Old</td>\n",
       "    </tr>\n",
       "    <tr>\n",
       "      <th>Dragon Capture Jar</th>\n",
       "      <td>Illusion</td>\n",
       "      <td>200</td>\n",
       "      <td>NaN</td>\n",
       "      <td>2023-05-01 18:18:16</td>\n",
       "      <td>New</td>\n",
       "    </tr>\n",
       "    <tr>\n",
       "      <th>Dragon Piper</th>\n",
       "      <td>Illusion Magic</td>\n",
       "      <td>400</td>\n",
       "      <td>NaN</td>\n",
       "      <td>NaT</td>\n",
       "      <td>Old</td>\n",
       "    </tr>\n",
       "    <tr>\n",
       "      <th>Dragon Piper</th>\n",
       "      <td>Illusion</td>\n",
       "      <td>400</td>\n",
       "      <td>NaN</td>\n",
       "      <td>2023-05-01 18:18:13</td>\n",
       "      <td>New</td>\n",
       "    </tr>\n",
       "    <tr>\n",
       "      <th>Metal Guardian</th>\n",
       "      <td>Warrior</td>\n",
       "      <td>2800</td>\n",
       "      <td>6</td>\n",
       "      <td>NaT</td>\n",
       "      <td>Old</td>\n",
       "    </tr>\n",
       "    <tr>\n",
       "      <th>Metal Guardian</th>\n",
       "      <td>Warrior</td>\n",
       "      <td>2800</td>\n",
       "      <td>5</td>\n",
       "      <td>2019-02-03 16:19:36</td>\n",
       "      <td>New</td>\n",
       "    </tr>\n",
       "    <tr>\n",
       "      <th>Red-Eyes Black Dragon</th>\n",
       "      <td>Dragon</td>\n",
       "      <td>2400</td>\n",
       "      <td>1</td>\n",
       "      <td>NaT</td>\n",
       "      <td>Old</td>\n",
       "    </tr>\n",
       "    <tr>\n",
       "      <th>Red-Eyes Black Dragon</th>\n",
       "      <td>Dragon</td>\n",
       "      <td>2000</td>\n",
       "      <td>1</td>\n",
       "      <td>2023-03-13 03:40:35</td>\n",
       "      <td>New</td>\n",
       "    </tr>\n",
       "  </tbody>\n",
       "</table>\n",
       "</div>"
      ],
      "text/plain": [
       "                          Monster type   DEF Rule   Modification date Version\n",
       "Name                                                                         \n",
       "Dragon Capture Jar     Illusion Magic    200  NaN                 NaT     Old\n",
       "Dragon Capture Jar            Illusion   200  NaN 2023-05-01 18:18:16     New\n",
       "Dragon Piper           Illusion Magic    400  NaN                 NaT     Old\n",
       "Dragon Piper                  Illusion   400  NaN 2023-05-01 18:18:13     New\n",
       "Metal Guardian                 Warrior  2800    6                 NaT     Old\n",
       "Metal Guardian                 Warrior  2800    5 2019-02-03 16:19:36     New\n",
       "Red-Eyes Black Dragon           Dragon  2400    1                 NaT     Old\n",
       "Red-Eyes Black Dragon           Dragon  2000    1 2023-03-13 03:40:35     New"
      ]
     },
     "metadata": {},
     "output_type": "display_data"
    },
    {
     "name": "stdout",
     "output_type": "stream",
     "text": [
      "Changelog saved"
     ]
    },
    {
     "name": "stdout",
     "output_type": "stream",
     "text": [
      "\n"
     ]
    }
   ],
   "source": [
    "if previous_df is None:\n",
    "    changelog = None\n",
    "    print(\"Skipped\")\n",
    "else:\n",
    "    changelog = generate_changelog(previous_df, bandai_df, col=\"Name\")\n",
    "    if not changelog.empty:\n",
    "        display(changelog)\n",
    "        changelog.to_csv(\n",
    "            f'../data/bandai_changelog_{previous_ts.isoformat(timespec=\"minutes\")}_{timestamp.isoformat(timespec=\"minutes\")}.csv',\n",
    "            index=True,\n",
    "        )\n",
    "        print(\"Changelog saved\")"
   ]
  },
  {
   "cell_type": "markdown",
   "id": "c50bdfb0-a6d1-43d7-8c96-f9145e053946",
   "metadata": {
    "papermill": {
     "duration": 0.012899,
     "end_time": "2023-05-01T22:22:16.507580",
     "exception": false,
     "start_time": "2023-05-01T22:22:16.494681",
     "status": "completed"
    },
    "tags": []
   },
   "source": [
    "## Save data"
   ]
  },
  {
   "cell_type": "code",
   "execution_count": 6,
   "id": "c3aadd59-2d67-4c2a-81a4-3543bdbeb2f5",
   "metadata": {
    "execution": {
     "iopub.execute_input": "2023-05-01T22:22:16.534057Z",
     "iopub.status.busy": "2023-05-01T22:22:16.533078Z",
     "iopub.status.idle": "2023-05-01T22:22:16.544226Z",
     "shell.execute_reply": "2023-05-01T22:22:16.543038Z"
    },
    "papermill": {
     "duration": 0.026471,
     "end_time": "2023-05-01T22:22:16.546267",
     "exception": false,
     "start_time": "2023-05-01T22:22:16.519796",
     "status": "completed"
    },
    "tags": []
   },
   "outputs": [
    {
     "name": "stdout",
     "output_type": "stream",
     "text": [
      "Data saved"
     ]
    },
    {
     "name": "stdout",
     "output_type": "stream",
     "text": [
      "\n"
     ]
    }
   ],
   "source": [
    "if changelog is not None and changelog.empty:\n",
    "    print(\"No changes. New data not saved\")\n",
    "else:\n",
    "    bandai_df.to_csv(\n",
    "        f'../data/all_bandai_{timestamp.isoformat(timespec=\"minutes\")}.csv', index=False\n",
    "    )\n",
    "    print(\"Data saved\")"
   ]
  },
  {
   "cell_type": "markdown",
   "id": "c64d414c-93b3-4464-b985-40bf135ddb1a",
   "metadata": {
    "papermill": {
     "duration": 0.011992,
     "end_time": "2023-05-01T22:22:16.570920",
     "exception": false,
     "start_time": "2023-05-01T22:22:16.558928",
     "status": "completed"
    },
    "tags": []
   },
   "source": [
    "# Data visualization"
   ]
  },
  {
   "cell_type": "code",
   "execution_count": 7,
   "id": "56b6402a-ade8-44fc-9e6d-c46b54e6bd6f",
   "metadata": {
    "execution": {
     "iopub.execute_input": "2023-05-01T22:22:16.597219Z",
     "iopub.status.busy": "2023-05-01T22:22:16.596633Z",
     "iopub.status.idle": "2023-05-01T22:22:16.620849Z",
     "shell.execute_reply": "2023-05-01T22:22:16.619904Z"
    },
    "papermill": {
     "duration": 0.041097,
     "end_time": "2023-05-01T22:22:16.624293",
     "exception": false,
     "start_time": "2023-05-01T22:22:16.583196",
     "status": "completed"
    },
    "tags": []
   },
   "outputs": [
    {
     "data": {
      "text/html": [
       "<div>\n",
       "<style scoped>\n",
       "    .dataframe tbody tr th:only-of-type {\n",
       "        vertical-align: middle;\n",
       "    }\n",
       "\n",
       "    .dataframe tbody tr th {\n",
       "        vertical-align: top;\n",
       "    }\n",
       "\n",
       "    .dataframe thead th {\n",
       "        text-align: right;\n",
       "    }\n",
       "</style>\n",
       "<table border=\"1\" class=\"dataframe\">\n",
       "  <thead>\n",
       "    <tr style=\"text-align: right;\">\n",
       "      <th></th>\n",
       "      <th>Name</th>\n",
       "      <th>Card type</th>\n",
       "      <th>Monster type</th>\n",
       "      <th>DEF</th>\n",
       "      <th>Set</th>\n",
       "      <th>Card number</th>\n",
       "      <th>Ability</th>\n",
       "      <th>Rule</th>\n",
       "      <th>ATK</th>\n",
       "      <th>Level</th>\n",
       "      <th>Page name</th>\n",
       "      <th>Page URL</th>\n",
       "      <th>Modification date</th>\n",
       "    </tr>\n",
       "  </thead>\n",
       "  <tbody>\n",
       "    <tr>\n",
       "      <th>0</th>\n",
       "      <td>Kojikocy</td>\n",
       "      <td>Monster Card</td>\n",
       "      <td>Warrior</td>\n",
       "      <td>1300</td>\n",
       "      <td>Yu-Gi-Oh! Bandai OCG: 2nd Generation</td>\n",
       "      <td>70</td>\n",
       "      <td>NaN</td>\n",
       "      <td>4</td>\n",
       "      <td>2100</td>\n",
       "      <td>5</td>\n",
       "      <td>Kojikocy (Bandai)</td>\n",
       "      <td>https://yugipedia.com/wiki/Kojikocy_(Bandai)</td>\n",
       "      <td>2019-02-03 16:40:41</td>\n",
       "    </tr>\n",
       "    <tr>\n",
       "      <th>1</th>\n",
       "      <td>Dragon Zombie</td>\n",
       "      <td>Monster Card</td>\n",
       "      <td>Fiend</td>\n",
       "      <td>400</td>\n",
       "      <td>Yu-Gi-Oh! Bandai OCG: 2nd Generation</td>\n",
       "      <td>65</td>\n",
       "      <td>NaN</td>\n",
       "      <td>12</td>\n",
       "      <td>2400</td>\n",
       "      <td>5</td>\n",
       "      <td>Dragon Zombie (Bandai)</td>\n",
       "      <td>https://yugipedia.com/wiki/Dragon_Zombie_(Bandai)</td>\n",
       "      <td>2016-04-26 16:59:22</td>\n",
       "    </tr>\n",
       "    <tr>\n",
       "      <th>2</th>\n",
       "      <td>Wattkid</td>\n",
       "      <td>Monster Card</td>\n",
       "      <td>Thunder</td>\n",
       "      <td>800</td>\n",
       "      <td>Yu-Gi-Oh! Bandai OCG: 2nd Generation</td>\n",
       "      <td>87</td>\n",
       "      <td>NaN</td>\n",
       "      <td>4</td>\n",
       "      <td>1500</td>\n",
       "      <td>3</td>\n",
       "      <td>Wattkid (Bandai)</td>\n",
       "      <td>https://yugipedia.com/wiki/Wattkid_(Bandai)</td>\n",
       "      <td>2019-02-03 17:26:55</td>\n",
       "    </tr>\n",
       "    <tr>\n",
       "      <th>3</th>\n",
       "      <td>Megamorph</td>\n",
       "      <td>Spell Card</td>\n",
       "      <td>NaN</td>\n",
       "      <td>NaN</td>\n",
       "      <td>Yu-Gi-Oh! Bandai OCG: 3rd Generation</td>\n",
       "      <td>91</td>\n",
       "      <td>NaN</td>\n",
       "      <td>NaN</td>\n",
       "      <td>NaN</td>\n",
       "      <td>NaN</td>\n",
       "      <td>Megamorph (Bandai)</td>\n",
       "      <td>https://yugipedia.com/wiki/Megamorph_(Bandai)</td>\n",
       "      <td>2015-04-05 03:56:57</td>\n",
       "    </tr>\n",
       "    <tr>\n",
       "      <th>4</th>\n",
       "      <td>Horn of the Unicorn</td>\n",
       "      <td>Equip Card</td>\n",
       "      <td>NaN</td>\n",
       "      <td>NaN</td>\n",
       "      <td>Yu-Gi-Oh! Bandai OCG: 2nd Generation</td>\n",
       "      <td>51</td>\n",
       "      <td>NaN</td>\n",
       "      <td>NaN</td>\n",
       "      <td>NaN</td>\n",
       "      <td>NaN</td>\n",
       "      <td>Horn of the Unicorn (Bandai)</td>\n",
       "      <td>https://yugipedia.com/wiki/Horn_of_the_Unicorn...</td>\n",
       "      <td>2019-02-03 16:09:34</td>\n",
       "    </tr>\n",
       "    <tr>\n",
       "      <th>...</th>\n",
       "      <td>...</td>\n",
       "      <td>...</td>\n",
       "      <td>...</td>\n",
       "      <td>...</td>\n",
       "      <td>...</td>\n",
       "      <td>...</td>\n",
       "      <td>...</td>\n",
       "      <td>...</td>\n",
       "      <td>...</td>\n",
       "      <td>...</td>\n",
       "      <td>...</td>\n",
       "      <td>...</td>\n",
       "      <td>...</td>\n",
       "    </tr>\n",
       "    <tr>\n",
       "      <th>115</th>\n",
       "      <td>Wicked Chain</td>\n",
       "      <td>Spell Card</td>\n",
       "      <td>NaN</td>\n",
       "      <td>NaN</td>\n",
       "      <td>Yu-Gi-Oh! Bandai OCG: Promotional Cards</td>\n",
       "      <td>NaN</td>\n",
       "      <td>NaN</td>\n",
       "      <td>NaN</td>\n",
       "      <td>NaN</td>\n",
       "      <td>NaN</td>\n",
       "      <td>Wicked Chain</td>\n",
       "      <td>https://yugipedia.com/wiki/Wicked_Chain</td>\n",
       "      <td>2019-02-03 19:21:04</td>\n",
       "    </tr>\n",
       "    <tr>\n",
       "      <th>116</th>\n",
       "      <td>The Wicked Worm Beast</td>\n",
       "      <td>Monster Card</td>\n",
       "      <td>Fiend</td>\n",
       "      <td>600</td>\n",
       "      <td>Yu-Gi-Oh! Bandai OCG: 3rd Generation</td>\n",
       "      <td>94</td>\n",
       "      <td>NaN</td>\n",
       "      <td>5</td>\n",
       "      <td>2400</td>\n",
       "      <td>5</td>\n",
       "      <td>The Wicked Worm Beast (Bandai)</td>\n",
       "      <td>https://yugipedia.com/wiki/The_Wicked_Worm_Bea...</td>\n",
       "      <td>2019-02-04 16:11:42</td>\n",
       "    </tr>\n",
       "    <tr>\n",
       "      <th>117</th>\n",
       "      <td>Yellow Hecate</td>\n",
       "      <td>Monster Card</td>\n",
       "      <td>Black Magic</td>\n",
       "      <td>1500</td>\n",
       "      <td>Yu-Gi-Oh! Bandai OCG: 3rd Generation</td>\n",
       "      <td>98</td>\n",
       "      <td>NaN</td>\n",
       "      <td>NaN</td>\n",
       "      <td>1500</td>\n",
       "      <td>4</td>\n",
       "      <td>Yellow Hecate</td>\n",
       "      <td>https://yugipedia.com/wiki/Yellow_Hecate</td>\n",
       "      <td>2019-02-04 16:18:11</td>\n",
       "    </tr>\n",
       "    <tr>\n",
       "      <th>118</th>\n",
       "      <td>Yugi Muto</td>\n",
       "      <td>Character Card</td>\n",
       "      <td>NaN</td>\n",
       "      <td>NaN</td>\n",
       "      <td>Yu-Gi-Oh! Bandai OCG: 1st Generation</td>\n",
       "      <td>1</td>\n",
       "      <td>Look Ahead</td>\n",
       "      <td>1</td>\n",
       "      <td>NaN</td>\n",
       "      <td>6</td>\n",
       "      <td>Yugi Muto (Bandai)</td>\n",
       "      <td>https://yugipedia.com/wiki/Yugi_Muto_(Bandai)</td>\n",
       "      <td>2019-02-06 02:35:41</td>\n",
       "    </tr>\n",
       "    <tr>\n",
       "      <th>119</th>\n",
       "      <td>Yugi Muto</td>\n",
       "      <td>Character Card</td>\n",
       "      <td>NaN</td>\n",
       "      <td>NaN</td>\n",
       "      <td>Yu-Gi-Oh! Bandai OCG: 1st Generation</td>\n",
       "      <td>2</td>\n",
       "      <td>Shadow Game</td>\n",
       "      <td>2</td>\n",
       "      <td>NaN</td>\n",
       "      <td>8</td>\n",
       "      <td>Yugi Muto (Yami Bandai)</td>\n",
       "      <td>https://yugipedia.com/wiki/Yugi_Muto_(Yami_Ban...</td>\n",
       "      <td>2023-03-13 04:21:03</td>\n",
       "    </tr>\n",
       "  </tbody>\n",
       "</table>\n",
       "<p>120 rows × 13 columns</p>\n",
       "</div>"
      ],
      "text/plain": [
       "                      Name       Card type Monster type   DEF  \\\n",
       "0                 Kojikocy    Monster Card      Warrior  1300   \n",
       "1            Dragon Zombie    Monster Card        Fiend   400   \n",
       "2                  Wattkid    Monster Card      Thunder   800   \n",
       "3                Megamorph      Spell Card          NaN   NaN   \n",
       "4      Horn of the Unicorn      Equip Card          NaN   NaN   \n",
       "..                     ...             ...          ...   ...   \n",
       "115           Wicked Chain      Spell Card          NaN   NaN   \n",
       "116  The Wicked Worm Beast    Monster Card        Fiend   600   \n",
       "117          Yellow Hecate    Monster Card  Black Magic  1500   \n",
       "118              Yugi Muto  Character Card          NaN   NaN   \n",
       "119              Yugi Muto  Character Card          NaN   NaN   \n",
       "\n",
       "                                         Set Card number      Ability Rule  \\\n",
       "0       Yu-Gi-Oh! Bandai OCG: 2nd Generation          70          NaN    4   \n",
       "1       Yu-Gi-Oh! Bandai OCG: 2nd Generation          65          NaN   12   \n",
       "2       Yu-Gi-Oh! Bandai OCG: 2nd Generation          87          NaN    4   \n",
       "3       Yu-Gi-Oh! Bandai OCG: 3rd Generation          91          NaN  NaN   \n",
       "4       Yu-Gi-Oh! Bandai OCG: 2nd Generation          51          NaN  NaN   \n",
       "..                                       ...         ...          ...  ...   \n",
       "115  Yu-Gi-Oh! Bandai OCG: Promotional Cards         NaN          NaN  NaN   \n",
       "116     Yu-Gi-Oh! Bandai OCG: 3rd Generation          94          NaN    5   \n",
       "117     Yu-Gi-Oh! Bandai OCG: 3rd Generation          98          NaN  NaN   \n",
       "118     Yu-Gi-Oh! Bandai OCG: 1st Generation           1   Look Ahead    1   \n",
       "119     Yu-Gi-Oh! Bandai OCG: 1st Generation           2  Shadow Game    2   \n",
       "\n",
       "      ATK Level                       Page name  \\\n",
       "0    2100     5               Kojikocy (Bandai)   \n",
       "1    2400     5          Dragon Zombie (Bandai)   \n",
       "2    1500     3                Wattkid (Bandai)   \n",
       "3     NaN   NaN              Megamorph (Bandai)   \n",
       "4     NaN   NaN    Horn of the Unicorn (Bandai)   \n",
       "..    ...   ...                             ...   \n",
       "115   NaN   NaN                    Wicked Chain   \n",
       "116  2400     5  The Wicked Worm Beast (Bandai)   \n",
       "117  1500     4                   Yellow Hecate   \n",
       "118   NaN     6              Yugi Muto (Bandai)   \n",
       "119   NaN     8         Yugi Muto (Yami Bandai)   \n",
       "\n",
       "                                              Page URL   Modification date  \n",
       "0         https://yugipedia.com/wiki/Kojikocy_(Bandai) 2019-02-03 16:40:41  \n",
       "1    https://yugipedia.com/wiki/Dragon_Zombie_(Bandai) 2016-04-26 16:59:22  \n",
       "2          https://yugipedia.com/wiki/Wattkid_(Bandai) 2019-02-03 17:26:55  \n",
       "3        https://yugipedia.com/wiki/Megamorph_(Bandai) 2015-04-05 03:56:57  \n",
       "4    https://yugipedia.com/wiki/Horn_of_the_Unicorn... 2019-02-03 16:09:34  \n",
       "..                                                 ...                 ...  \n",
       "115            https://yugipedia.com/wiki/Wicked_Chain 2019-02-03 19:21:04  \n",
       "116  https://yugipedia.com/wiki/The_Wicked_Worm_Bea... 2019-02-04 16:11:42  \n",
       "117           https://yugipedia.com/wiki/Yellow_Hecate 2019-02-04 16:18:11  \n",
       "118      https://yugipedia.com/wiki/Yugi_Muto_(Bandai) 2019-02-06 02:35:41  \n",
       "119  https://yugipedia.com/wiki/Yugi_Muto_(Yami_Ban... 2023-03-13 04:21:03  \n",
       "\n",
       "[120 rows x 13 columns]"
      ]
     },
     "execution_count": 7,
     "metadata": {},
     "output_type": "execute_result"
    }
   ],
   "source": [
    "bandai_df"
   ]
  },
  {
   "cell_type": "markdown",
   "id": "f31c671e-6e38-4f7c-b2e2-40a434e444d1",
   "metadata": {
    "papermill": {
     "duration": 0.01337,
     "end_time": "2023-05-01T22:22:16.652059",
     "exception": false,
     "start_time": "2023-05-01T22:22:16.638689",
     "status": "completed"
    },
    "tags": []
   },
   "source": [
    "## Card type"
   ]
  },
  {
   "cell_type": "code",
   "execution_count": 8,
   "id": "1403be1f-b22b-47a1-854c-8258ba7bde97",
   "metadata": {
    "execution": {
     "iopub.execute_input": "2023-05-01T22:22:16.680681Z",
     "iopub.status.busy": "2023-05-01T22:22:16.680168Z",
     "iopub.status.idle": "2023-05-01T22:22:16.688797Z",
     "shell.execute_reply": "2023-05-01T22:22:16.687895Z"
    },
    "papermill": {
     "duration": 0.026407,
     "end_time": "2023-05-01T22:22:16.691552",
     "exception": false,
     "start_time": "2023-05-01T22:22:16.665145",
     "status": "completed"
    },
    "tags": []
   },
   "outputs": [
    {
     "name": "stdout",
     "output_type": "stream",
     "text": [
      "Total number of card types:"
     ]
    },
    {
     "name": "stdout",
     "output_type": "stream",
     "text": [
      " "
     ]
    },
    {
     "name": "stdout",
     "output_type": "stream",
     "text": [
      "5"
     ]
    },
    {
     "name": "stdout",
     "output_type": "stream",
     "text": [
      "\n"
     ]
    }
   ],
   "source": [
    "print(\"Total number of card types:\", bandai_df[\"Card type\"].nunique())"
   ]
  },
  {
   "cell_type": "code",
   "execution_count": 9,
   "id": "d2f71e96-730c-4b69-afdb-3c0e128caae2",
   "metadata": {
    "execution": {
     "iopub.execute_input": "2023-05-01T22:22:16.721675Z",
     "iopub.status.busy": "2023-05-01T22:22:16.720732Z",
     "iopub.status.idle": "2023-05-01T22:22:17.237830Z",
     "shell.execute_reply": "2023-05-01T22:22:17.236924Z"
    },
    "papermill": {
     "duration": 0.534583,
     "end_time": "2023-05-01T22:22:17.239983",
     "exception": false,
     "start_time": "2023-05-01T22:22:16.705400",
     "status": "completed"
    },
    "tags": []
   },
   "outputs": [
    {
     "data": {
      "image/png": "[encoded data removed]",
      "text/plain": [
       "<Figure size 1800x600 with 1 Axes>"
      ]
     },
     "metadata": {},
     "output_type": "display_data"
    }
   ],
   "source": [
    "card_type_colors = [colors_dict[i] for i in bandai_df[\"Card type\"].value_counts().index]\n",
    "bandai_df[\"Card type\"].value_counts().plot.bar(\n",
    "    figsize=(18, 6), grid=True, rot=0, color=card_type_colors, title=\"Card type\"\n",
    ")\n",
    "plt.show()"
   ]
  },
  {
   "cell_type": "markdown",
   "id": "00c6b243-67ad-42c5-9189-4d2d33c5372c",
   "metadata": {
    "papermill": {
     "duration": 0.037352,
     "end_time": "2023-05-01T22:22:17.294997",
     "exception": false,
     "start_time": "2023-05-01T22:22:17.257645",
     "status": "completed"
    },
    "tags": []
   },
   "source": [
    "## ATK"
   ]
  },
  {
   "cell_type": "code",
   "execution_count": 10,
   "id": "1b5db865",
   "metadata": {
    "execution": {
     "iopub.execute_input": "2023-05-01T22:22:17.326874Z",
     "iopub.status.busy": "2023-05-01T22:22:17.326131Z",
     "iopub.status.idle": "2023-05-01T22:22:17.338732Z",
     "shell.execute_reply": "2023-05-01T22:22:17.337929Z"
    },
    "papermill": {
     "duration": 0.030394,
     "end_time": "2023-05-01T22:22:17.341010",
     "exception": false,
     "start_time": "2023-05-01T22:22:17.310616",
     "status": "completed"
    },
    "tags": []
   },
   "outputs": [
    {
     "name": "stdout",
     "output_type": "stream",
     "text": [
      "Total number of ATK values:"
     ]
    },
    {
     "name": "stdout",
     "output_type": "stream",
     "text": [
      " "
     ]
    },
    {
     "name": "stdout",
     "output_type": "stream",
     "text": [
      "27"
     ]
    },
    {
     "name": "stdout",
     "output_type": "stream",
     "text": [
      "\n"
     ]
    }
   ],
   "source": [
    "print(\"Total number of ATK values:\", bandai_df[\"ATK\"].nunique())"
   ]
  },
  {
   "cell_type": "code",
   "execution_count": 11,
   "id": "16b9aa14",
   "metadata": {
    "execution": {
     "iopub.execute_input": "2023-05-01T22:22:17.372030Z",
     "iopub.status.busy": "2023-05-01T22:22:17.371317Z",
     "iopub.status.idle": "2023-05-01T22:22:17.405628Z",
     "shell.execute_reply": "2023-05-01T22:22:17.404596Z"
    },
    "papermill": {
     "duration": 0.05248,
     "end_time": "2023-05-01T22:22:17.407972",
     "exception": false,
     "start_time": "2023-05-01T22:22:17.355492",
     "status": "completed"
    },
    "tags": []
   },
   "outputs": [
    {
     "data": {
      "text/html": [
       "<div>\n",
       "<style scoped>\n",
       "    .dataframe tbody tr th:only-of-type {\n",
       "        vertical-align: middle;\n",
       "    }\n",
       "\n",
       "    .dataframe tbody tr th {\n",
       "        vertical-align: top;\n",
       "    }\n",
       "\n",
       "    .dataframe thead th {\n",
       "        text-align: right;\n",
       "    }\n",
       "</style>\n",
       "<table border=\"1\" class=\"dataframe\">\n",
       "  <thead>\n",
       "    <tr style=\"text-align: right;\">\n",
       "      <th></th>\n",
       "      <th>Name</th>\n",
       "      <th>Monster type</th>\n",
       "      <th>DEF</th>\n",
       "      <th>Set</th>\n",
       "      <th>Card number</th>\n",
       "      <th>Ability</th>\n",
       "      <th>Rule</th>\n",
       "      <th>Level</th>\n",
       "      <th>Modification date</th>\n",
       "    </tr>\n",
       "    <tr>\n",
       "      <th>ATK</th>\n",
       "      <th></th>\n",
       "      <th></th>\n",
       "      <th></th>\n",
       "      <th></th>\n",
       "      <th></th>\n",
       "      <th></th>\n",
       "      <th></th>\n",
       "      <th></th>\n",
       "      <th></th>\n",
       "    </tr>\n",
       "  </thead>\n",
       "  <tbody>\n",
       "    <tr>\n",
       "      <th>100</th>\n",
       "      <td>1</td>\n",
       "      <td>1</td>\n",
       "      <td>1</td>\n",
       "      <td>1</td>\n",
       "      <td>1</td>\n",
       "      <td>0</td>\n",
       "      <td>0</td>\n",
       "      <td>1</td>\n",
       "      <td>1</td>\n",
       "    </tr>\n",
       "    <tr>\n",
       "      <th>200</th>\n",
       "      <td>5</td>\n",
       "      <td>1</td>\n",
       "      <td>2</td>\n",
       "      <td>2</td>\n",
       "      <td>5</td>\n",
       "      <td>0</td>\n",
       "      <td>0</td>\n",
       "      <td>2</td>\n",
       "      <td>5</td>\n",
       "    </tr>\n",
       "    <tr>\n",
       "      <th>400</th>\n",
       "      <td>1</td>\n",
       "      <td>1</td>\n",
       "      <td>1</td>\n",
       "      <td>1</td>\n",
       "      <td>1</td>\n",
       "      <td>0</td>\n",
       "      <td>0</td>\n",
       "      <td>1</td>\n",
       "      <td>1</td>\n",
       "    </tr>\n",
       "    <tr>\n",
       "      <th>500</th>\n",
       "      <td>2</td>\n",
       "      <td>2</td>\n",
       "      <td>2</td>\n",
       "      <td>2</td>\n",
       "      <td>2</td>\n",
       "      <td>0</td>\n",
       "      <td>2</td>\n",
       "      <td>1</td>\n",
       "      <td>2</td>\n",
       "    </tr>\n",
       "    <tr>\n",
       "      <th>600</th>\n",
       "      <td>2</td>\n",
       "      <td>2</td>\n",
       "      <td>2</td>\n",
       "      <td>1</td>\n",
       "      <td>2</td>\n",
       "      <td>0</td>\n",
       "      <td>2</td>\n",
       "      <td>2</td>\n",
       "      <td>2</td>\n",
       "    </tr>\n",
       "    <tr>\n",
       "      <th>800</th>\n",
       "      <td>3</td>\n",
       "      <td>3</td>\n",
       "      <td>3</td>\n",
       "      <td>3</td>\n",
       "      <td>3</td>\n",
       "      <td>0</td>\n",
       "      <td>2</td>\n",
       "      <td>2</td>\n",
       "      <td>3</td>\n",
       "    </tr>\n",
       "    <tr>\n",
       "      <th>900</th>\n",
       "      <td>1</td>\n",
       "      <td>1</td>\n",
       "      <td>1</td>\n",
       "      <td>1</td>\n",
       "      <td>1</td>\n",
       "      <td>0</td>\n",
       "      <td>1</td>\n",
       "      <td>1</td>\n",
       "      <td>1</td>\n",
       "    </tr>\n",
       "    <tr>\n",
       "      <th>1000</th>\n",
       "      <td>3</td>\n",
       "      <td>2</td>\n",
       "      <td>3</td>\n",
       "      <td>2</td>\n",
       "      <td>3</td>\n",
       "      <td>0</td>\n",
       "      <td>2</td>\n",
       "      <td>2</td>\n",
       "      <td>3</td>\n",
       "    </tr>\n",
       "    <tr>\n",
       "      <th>1200</th>\n",
       "      <td>2</td>\n",
       "      <td>2</td>\n",
       "      <td>2</td>\n",
       "      <td>2</td>\n",
       "      <td>2</td>\n",
       "      <td>0</td>\n",
       "      <td>2</td>\n",
       "      <td>2</td>\n",
       "      <td>2</td>\n",
       "    </tr>\n",
       "    <tr>\n",
       "      <th>1300</th>\n",
       "      <td>2</td>\n",
       "      <td>2</td>\n",
       "      <td>2</td>\n",
       "      <td>2</td>\n",
       "      <td>2</td>\n",
       "      <td>0</td>\n",
       "      <td>2</td>\n",
       "      <td>2</td>\n",
       "      <td>2</td>\n",
       "    </tr>\n",
       "    <tr>\n",
       "      <th>1400</th>\n",
       "      <td>2</td>\n",
       "      <td>2</td>\n",
       "      <td>2</td>\n",
       "      <td>2</td>\n",
       "      <td>2</td>\n",
       "      <td>0</td>\n",
       "      <td>2</td>\n",
       "      <td>2</td>\n",
       "      <td>2</td>\n",
       "    </tr>\n",
       "    <tr>\n",
       "      <th>1500</th>\n",
       "      <td>10</td>\n",
       "      <td>6</td>\n",
       "      <td>6</td>\n",
       "      <td>2</td>\n",
       "      <td>10</td>\n",
       "      <td>0</td>\n",
       "      <td>6</td>\n",
       "      <td>4</td>\n",
       "      <td>10</td>\n",
       "    </tr>\n",
       "    <tr>\n",
       "      <th>1600</th>\n",
       "      <td>2</td>\n",
       "      <td>1</td>\n",
       "      <td>2</td>\n",
       "      <td>1</td>\n",
       "      <td>2</td>\n",
       "      <td>0</td>\n",
       "      <td>1</td>\n",
       "      <td>2</td>\n",
       "      <td>2</td>\n",
       "    </tr>\n",
       "    <tr>\n",
       "      <th>1700</th>\n",
       "      <td>1</td>\n",
       "      <td>1</td>\n",
       "      <td>1</td>\n",
       "      <td>1</td>\n",
       "      <td>1</td>\n",
       "      <td>0</td>\n",
       "      <td>1</td>\n",
       "      <td>1</td>\n",
       "      <td>1</td>\n",
       "    </tr>\n",
       "    <tr>\n",
       "      <th>1800</th>\n",
       "      <td>10</td>\n",
       "      <td>6</td>\n",
       "      <td>5</td>\n",
       "      <td>3</td>\n",
       "      <td>10</td>\n",
       "      <td>0</td>\n",
       "      <td>5</td>\n",
       "      <td>5</td>\n",
       "      <td>10</td>\n",
       "    </tr>\n",
       "    <tr>\n",
       "      <th>1900</th>\n",
       "      <td>1</td>\n",
       "      <td>1</td>\n",
       "      <td>1</td>\n",
       "      <td>1</td>\n",
       "      <td>1</td>\n",
       "      <td>0</td>\n",
       "      <td>1</td>\n",
       "      <td>1</td>\n",
       "      <td>1</td>\n",
       "    </tr>\n",
       "    <tr>\n",
       "      <th>2000</th>\n",
       "      <td>10</td>\n",
       "      <td>6</td>\n",
       "      <td>8</td>\n",
       "      <td>3</td>\n",
       "      <td>10</td>\n",
       "      <td>0</td>\n",
       "      <td>7</td>\n",
       "      <td>3</td>\n",
       "      <td>10</td>\n",
       "    </tr>\n",
       "    <tr>\n",
       "      <th>2100</th>\n",
       "      <td>4</td>\n",
       "      <td>3</td>\n",
       "      <td>3</td>\n",
       "      <td>2</td>\n",
       "      <td>4</td>\n",
       "      <td>0</td>\n",
       "      <td>3</td>\n",
       "      <td>2</td>\n",
       "      <td>4</td>\n",
       "    </tr>\n",
       "    <tr>\n",
       "      <th>2200</th>\n",
       "      <td>2</td>\n",
       "      <td>2</td>\n",
       "      <td>2</td>\n",
       "      <td>1</td>\n",
       "      <td>2</td>\n",
       "      <td>0</td>\n",
       "      <td>2</td>\n",
       "      <td>2</td>\n",
       "      <td>2</td>\n",
       "    </tr>\n",
       "    <tr>\n",
       "      <th>2300</th>\n",
       "      <td>8</td>\n",
       "      <td>5</td>\n",
       "      <td>6</td>\n",
       "      <td>3</td>\n",
       "      <td>8</td>\n",
       "      <td>0</td>\n",
       "      <td>6</td>\n",
       "      <td>2</td>\n",
       "      <td>8</td>\n",
       "    </tr>\n",
       "    <tr>\n",
       "      <th>2400</th>\n",
       "      <td>9</td>\n",
       "      <td>5</td>\n",
       "      <td>9</td>\n",
       "      <td>3</td>\n",
       "      <td>9</td>\n",
       "      <td>0</td>\n",
       "      <td>6</td>\n",
       "      <td>4</td>\n",
       "      <td>9</td>\n",
       "    </tr>\n",
       "    <tr>\n",
       "      <th>2500</th>\n",
       "      <td>5</td>\n",
       "      <td>4</td>\n",
       "      <td>5</td>\n",
       "      <td>2</td>\n",
       "      <td>5</td>\n",
       "      <td>0</td>\n",
       "      <td>4</td>\n",
       "      <td>3</td>\n",
       "      <td>5</td>\n",
       "    </tr>\n",
       "    <tr>\n",
       "      <th>2600</th>\n",
       "      <td>4</td>\n",
       "      <td>4</td>\n",
       "      <td>4</td>\n",
       "      <td>2</td>\n",
       "      <td>4</td>\n",
       "      <td>0</td>\n",
       "      <td>3</td>\n",
       "      <td>2</td>\n",
       "      <td>4</td>\n",
       "    </tr>\n",
       "    <tr>\n",
       "      <th>3000</th>\n",
       "      <td>1</td>\n",
       "      <td>1</td>\n",
       "      <td>1</td>\n",
       "      <td>2</td>\n",
       "      <td>2</td>\n",
       "      <td>0</td>\n",
       "      <td>1</td>\n",
       "      <td>1</td>\n",
       "      <td>2</td>\n",
       "    </tr>\n",
       "    <tr>\n",
       "      <th>3200</th>\n",
       "      <td>1</td>\n",
       "      <td>1</td>\n",
       "      <td>1</td>\n",
       "      <td>1</td>\n",
       "      <td>1</td>\n",
       "      <td>0</td>\n",
       "      <td>0</td>\n",
       "      <td>1</td>\n",
       "      <td>1</td>\n",
       "    </tr>\n",
       "    <tr>\n",
       "      <th>3500</th>\n",
       "      <td>1</td>\n",
       "      <td>1</td>\n",
       "      <td>1</td>\n",
       "      <td>1</td>\n",
       "      <td>1</td>\n",
       "      <td>0</td>\n",
       "      <td>0</td>\n",
       "      <td>1</td>\n",
       "      <td>1</td>\n",
       "    </tr>\n",
       "    <tr>\n",
       "      <th>4500</th>\n",
       "      <td>1</td>\n",
       "      <td>1</td>\n",
       "      <td>1</td>\n",
       "      <td>1</td>\n",
       "      <td>0</td>\n",
       "      <td>0</td>\n",
       "      <td>0</td>\n",
       "      <td>1</td>\n",
       "      <td>1</td>\n",
       "    </tr>\n",
       "  </tbody>\n",
       "</table>\n",
       "</div>"
      ],
      "text/plain": [
       "      Name  Monster type  DEF  Set  Card number  Ability  Rule  Level  \\\n",
       "ATK                                                                     \n",
       "100      1             1    1    1            1        0     0      1   \n",
       "200      5             1    2    2            5        0     0      2   \n",
       "400      1             1    1    1            1        0     0      1   \n",
       "500      2             2    2    2            2        0     2      1   \n",
       "600      2             2    2    1            2        0     2      2   \n",
       "800      3             3    3    3            3        0     2      2   \n",
       "900      1             1    1    1            1        0     1      1   \n",
       "1000     3             2    3    2            3        0     2      2   \n",
       "1200     2             2    2    2            2        0     2      2   \n",
       "1300     2             2    2    2            2        0     2      2   \n",
       "1400     2             2    2    2            2        0     2      2   \n",
       "1500    10             6    6    2           10        0     6      4   \n",
       "1600     2             1    2    1            2        0     1      2   \n",
       "1700     1             1    1    1            1        0     1      1   \n",
       "1800    10             6    5    3           10        0     5      5   \n",
       "1900     1             1    1    1            1        0     1      1   \n",
       "2000    10             6    8    3           10        0     7      3   \n",
       "2100     4             3    3    2            4        0     3      2   \n",
       "2200     2             2    2    1            2        0     2      2   \n",
       "2300     8             5    6    3            8        0     6      2   \n",
       "2400     9             5    9    3            9        0     6      4   \n",
       "2500     5             4    5    2            5        0     4      3   \n",
       "2600     4             4    4    2            4        0     3      2   \n",
       "3000     1             1    1    2            2        0     1      1   \n",
       "3200     1             1    1    1            1        0     0      1   \n",
       "3500     1             1    1    1            1        0     0      1   \n",
       "4500     1             1    1    1            0        0     0      1   \n",
       "\n",
       "      Modification date  \n",
       "ATK                      \n",
       "100                   1  \n",
       "200                   5  \n",
       "400                   1  \n",
       "500                   2  \n",
       "600                   2  \n",
       "800                   3  \n",
       "900                   1  \n",
       "1000                  3  \n",
       "1200                  2  \n",
       "1300                  2  \n",
       "1400                  2  \n",
       "1500                 10  \n",
       "1600                  2  \n",
       "1700                  1  \n",
       "1800                 10  \n",
       "1900                  1  \n",
       "2000                 10  \n",
       "2100                  4  \n",
       "2200                  2  \n",
       "2300                  8  \n",
       "2400                  9  \n",
       "2500                  5  \n",
       "2600                  4  \n",
       "3000                  2  \n",
       "3200                  1  \n",
       "3500                  1  \n",
       "4500                  1  "
      ]
     },
     "execution_count": 11,
     "metadata": {},
     "output_type": "execute_result"
    }
   ],
   "source": [
    "bandai_df.drop(columns=[\"Card type\", \"Page name\", \"Page URL\"]).groupby(\n",
    "    \"ATK\"\n",
    ").nunique().sort_index(key=lambda x: pd.to_numeric(x, errors=\"coerce\"))"
   ]
  },
  {
   "cell_type": "code",
   "execution_count": 12,
   "id": "3b1b2e1d",
   "metadata": {
    "execution": {
     "iopub.execute_input": "2023-05-01T22:22:17.443418Z",
     "iopub.status.busy": "2023-05-01T22:22:17.442333Z",
     "iopub.status.idle": "2023-05-01T22:22:17.984238Z",
     "shell.execute_reply": "2023-05-01T22:22:17.983231Z"
    },
    "papermill": {
     "duration": 0.563236,
     "end_time": "2023-05-01T22:22:17.986616",
     "exception": false,
     "start_time": "2023-05-01T22:22:17.423380",
     "status": "completed"
    },
    "tags": []
   },
   "outputs": [
    {
     "data": {
      "image/png": "[encoded data removed]",
      "text/plain": [
       "<Figure size 1800x600 with 1 Axes>"
      ]
     },
     "metadata": {},
     "output_type": "display_data"
    }
   ],
   "source": [
    "atk_colors = colors_dict[\"Monster Card\"]\n",
    "bandai_df[\"ATK\"].value_counts().sort_index(\n",
    "    key=lambda x: pd.to_numeric(x, errors=\"coerce\")\n",
    ").plot.bar(figsize=(18, 6), grid=True, color=atk_colors, title=\"ATK\")\n",
    "plt.show()"
   ]
  },
  {
   "cell_type": "markdown",
   "id": "8c7f10ac-6c4e-42fe-be55-c2ea61abb7ae",
   "metadata": {
    "papermill": {
     "duration": 0.067302,
     "end_time": "2023-05-01T22:22:18.070930",
     "exception": false,
     "start_time": "2023-05-01T22:22:18.003628",
     "status": "completed"
    },
    "tags": []
   },
   "source": [
    "## DEF"
   ]
  },
  {
   "cell_type": "code",
   "execution_count": 13,
   "id": "2aa0ba61",
   "metadata": {
    "execution": {
     "iopub.execute_input": "2023-05-01T22:22:18.112990Z",
     "iopub.status.busy": "2023-05-01T22:22:18.112553Z",
     "iopub.status.idle": "2023-05-01T22:22:18.121276Z",
     "shell.execute_reply": "2023-05-01T22:22:18.120382Z"
    },
    "papermill": {
     "duration": 0.031987,
     "end_time": "2023-05-01T22:22:18.123962",
     "exception": false,
     "start_time": "2023-05-01T22:22:18.091975",
     "status": "completed"
    },
    "tags": []
   },
   "outputs": [
    {
     "name": "stdout",
     "output_type": "stream",
     "text": [
      "Total number of DEF values:"
     ]
    },
    {
     "name": "stdout",
     "output_type": "stream",
     "text": [
      " "
     ]
    },
    {
     "name": "stdout",
     "output_type": "stream",
     "text": [
      "27"
     ]
    },
    {
     "name": "stdout",
     "output_type": "stream",
     "text": [
      "\n"
     ]
    }
   ],
   "source": [
    "print(\"Total number of DEF values:\", bandai_df[\"DEF\"].nunique())"
   ]
  },
  {
   "cell_type": "code",
   "execution_count": 14,
   "id": "54e9d56a",
   "metadata": {
    "execution": {
     "iopub.execute_input": "2023-05-01T22:22:18.194645Z",
     "iopub.status.busy": "2023-05-01T22:22:18.193705Z",
     "iopub.status.idle": "2023-05-01T22:22:18.223804Z",
     "shell.execute_reply": "2023-05-01T22:22:18.222514Z"
    },
    "papermill": {
     "duration": 0.082064,
     "end_time": "2023-05-01T22:22:18.226215",
     "exception": false,
     "start_time": "2023-05-01T22:22:18.144151",
     "status": "completed"
    },
    "tags": []
   },
   "outputs": [
    {
     "data": {
      "text/html": [
       "<div>\n",
       "<style scoped>\n",
       "    .dataframe tbody tr th:only-of-type {\n",
       "        vertical-align: middle;\n",
       "    }\n",
       "\n",
       "    .dataframe tbody tr th {\n",
       "        vertical-align: top;\n",
       "    }\n",
       "\n",
       "    .dataframe thead th {\n",
       "        text-align: right;\n",
       "    }\n",
       "</style>\n",
       "<table border=\"1\" class=\"dataframe\">\n",
       "  <thead>\n",
       "    <tr style=\"text-align: right;\">\n",
       "      <th></th>\n",
       "      <th>Name</th>\n",
       "      <th>Monster type</th>\n",
       "      <th>Set</th>\n",
       "      <th>Card number</th>\n",
       "      <th>Ability</th>\n",
       "      <th>Rule</th>\n",
       "      <th>ATK</th>\n",
       "      <th>Level</th>\n",
       "      <th>Modification date</th>\n",
       "    </tr>\n",
       "    <tr>\n",
       "      <th>DEF</th>\n",
       "      <th></th>\n",
       "      <th></th>\n",
       "      <th></th>\n",
       "      <th></th>\n",
       "      <th></th>\n",
       "      <th></th>\n",
       "      <th></th>\n",
       "      <th></th>\n",
       "      <th></th>\n",
       "    </tr>\n",
       "  </thead>\n",
       "  <tbody>\n",
       "    <tr>\n",
       "      <th>0</th>\n",
       "      <td>2</td>\n",
       "      <td>1</td>\n",
       "      <td>1</td>\n",
       "      <td>2</td>\n",
       "      <td>0</td>\n",
       "      <td>2</td>\n",
       "      <td>2</td>\n",
       "      <td>2</td>\n",
       "      <td>2</td>\n",
       "    </tr>\n",
       "    <tr>\n",
       "      <th>200</th>\n",
       "      <td>1</td>\n",
       "      <td>1</td>\n",
       "      <td>1</td>\n",
       "      <td>1</td>\n",
       "      <td>0</td>\n",
       "      <td>0</td>\n",
       "      <td>1</td>\n",
       "      <td>1</td>\n",
       "      <td>1</td>\n",
       "    </tr>\n",
       "    <tr>\n",
       "      <th>300</th>\n",
       "      <td>5</td>\n",
       "      <td>1</td>\n",
       "      <td>3</td>\n",
       "      <td>5</td>\n",
       "      <td>0</td>\n",
       "      <td>1</td>\n",
       "      <td>2</td>\n",
       "      <td>2</td>\n",
       "      <td>5</td>\n",
       "    </tr>\n",
       "    <tr>\n",
       "      <th>400</th>\n",
       "      <td>3</td>\n",
       "      <td>3</td>\n",
       "      <td>2</td>\n",
       "      <td>3</td>\n",
       "      <td>0</td>\n",
       "      <td>2</td>\n",
       "      <td>3</td>\n",
       "      <td>3</td>\n",
       "      <td>3</td>\n",
       "    </tr>\n",
       "    <tr>\n",
       "      <th>500</th>\n",
       "      <td>1</td>\n",
       "      <td>1</td>\n",
       "      <td>1</td>\n",
       "      <td>1</td>\n",
       "      <td>0</td>\n",
       "      <td>1</td>\n",
       "      <td>1</td>\n",
       "      <td>1</td>\n",
       "      <td>1</td>\n",
       "    </tr>\n",
       "    <tr>\n",
       "      <th>600</th>\n",
       "      <td>5</td>\n",
       "      <td>4</td>\n",
       "      <td>3</td>\n",
       "      <td>5</td>\n",
       "      <td>0</td>\n",
       "      <td>4</td>\n",
       "      <td>5</td>\n",
       "      <td>3</td>\n",
       "      <td>5</td>\n",
       "    </tr>\n",
       "    <tr>\n",
       "      <th>700</th>\n",
       "      <td>4</td>\n",
       "      <td>2</td>\n",
       "      <td>2</td>\n",
       "      <td>4</td>\n",
       "      <td>0</td>\n",
       "      <td>2</td>\n",
       "      <td>2</td>\n",
       "      <td>2</td>\n",
       "      <td>4</td>\n",
       "    </tr>\n",
       "    <tr>\n",
       "      <th>800</th>\n",
       "      <td>3</td>\n",
       "      <td>3</td>\n",
       "      <td>2</td>\n",
       "      <td>3</td>\n",
       "      <td>0</td>\n",
       "      <td>3</td>\n",
       "      <td>2</td>\n",
       "      <td>3</td>\n",
       "      <td>3</td>\n",
       "    </tr>\n",
       "    <tr>\n",
       "      <th>900</th>\n",
       "      <td>2</td>\n",
       "      <td>2</td>\n",
       "      <td>2</td>\n",
       "      <td>2</td>\n",
       "      <td>0</td>\n",
       "      <td>1</td>\n",
       "      <td>2</td>\n",
       "      <td>2</td>\n",
       "      <td>2</td>\n",
       "    </tr>\n",
       "    <tr>\n",
       "      <th>1000</th>\n",
       "      <td>4</td>\n",
       "      <td>2</td>\n",
       "      <td>2</td>\n",
       "      <td>4</td>\n",
       "      <td>0</td>\n",
       "      <td>3</td>\n",
       "      <td>4</td>\n",
       "      <td>4</td>\n",
       "      <td>4</td>\n",
       "    </tr>\n",
       "    <tr>\n",
       "      <th>1300</th>\n",
       "      <td>3</td>\n",
       "      <td>3</td>\n",
       "      <td>2</td>\n",
       "      <td>3</td>\n",
       "      <td>0</td>\n",
       "      <td>2</td>\n",
       "      <td>3</td>\n",
       "      <td>2</td>\n",
       "      <td>3</td>\n",
       "    </tr>\n",
       "    <tr>\n",
       "      <th>1400</th>\n",
       "      <td>2</td>\n",
       "      <td>1</td>\n",
       "      <td>1</td>\n",
       "      <td>2</td>\n",
       "      <td>0</td>\n",
       "      <td>2</td>\n",
       "      <td>1</td>\n",
       "      <td>1</td>\n",
       "      <td>2</td>\n",
       "    </tr>\n",
       "    <tr>\n",
       "      <th>1500</th>\n",
       "      <td>8</td>\n",
       "      <td>4</td>\n",
       "      <td>2</td>\n",
       "      <td>8</td>\n",
       "      <td>0</td>\n",
       "      <td>4</td>\n",
       "      <td>3</td>\n",
       "      <td>3</td>\n",
       "      <td>8</td>\n",
       "    </tr>\n",
       "    <tr>\n",
       "      <th>1600</th>\n",
       "      <td>6</td>\n",
       "      <td>4</td>\n",
       "      <td>2</td>\n",
       "      <td>6</td>\n",
       "      <td>0</td>\n",
       "      <td>6</td>\n",
       "      <td>5</td>\n",
       "      <td>4</td>\n",
       "      <td>6</td>\n",
       "    </tr>\n",
       "    <tr>\n",
       "      <th>1700</th>\n",
       "      <td>1</td>\n",
       "      <td>1</td>\n",
       "      <td>1</td>\n",
       "      <td>1</td>\n",
       "      <td>0</td>\n",
       "      <td>1</td>\n",
       "      <td>1</td>\n",
       "      <td>1</td>\n",
       "      <td>1</td>\n",
       "    </tr>\n",
       "    <tr>\n",
       "      <th>1800</th>\n",
       "      <td>3</td>\n",
       "      <td>3</td>\n",
       "      <td>2</td>\n",
       "      <td>3</td>\n",
       "      <td>0</td>\n",
       "      <td>3</td>\n",
       "      <td>3</td>\n",
       "      <td>3</td>\n",
       "      <td>3</td>\n",
       "    </tr>\n",
       "    <tr>\n",
       "      <th>1900</th>\n",
       "      <td>2</td>\n",
       "      <td>2</td>\n",
       "      <td>2</td>\n",
       "      <td>2</td>\n",
       "      <td>0</td>\n",
       "      <td>2</td>\n",
       "      <td>2</td>\n",
       "      <td>2</td>\n",
       "      <td>2</td>\n",
       "    </tr>\n",
       "    <tr>\n",
       "      <th>2000</th>\n",
       "      <td>10</td>\n",
       "      <td>7</td>\n",
       "      <td>3</td>\n",
       "      <td>10</td>\n",
       "      <td>0</td>\n",
       "      <td>6</td>\n",
       "      <td>6</td>\n",
       "      <td>4</td>\n",
       "      <td>10</td>\n",
       "    </tr>\n",
       "    <tr>\n",
       "      <th>2100</th>\n",
       "      <td>4</td>\n",
       "      <td>2</td>\n",
       "      <td>2</td>\n",
       "      <td>4</td>\n",
       "      <td>0</td>\n",
       "      <td>4</td>\n",
       "      <td>4</td>\n",
       "      <td>2</td>\n",
       "      <td>4</td>\n",
       "    </tr>\n",
       "    <tr>\n",
       "      <th>2200</th>\n",
       "      <td>7</td>\n",
       "      <td>4</td>\n",
       "      <td>3</td>\n",
       "      <td>7</td>\n",
       "      <td>0</td>\n",
       "      <td>3</td>\n",
       "      <td>7</td>\n",
       "      <td>3</td>\n",
       "      <td>7</td>\n",
       "    </tr>\n",
       "    <tr>\n",
       "      <th>2300</th>\n",
       "      <td>5</td>\n",
       "      <td>4</td>\n",
       "      <td>2</td>\n",
       "      <td>5</td>\n",
       "      <td>0</td>\n",
       "      <td>4</td>\n",
       "      <td>5</td>\n",
       "      <td>3</td>\n",
       "      <td>5</td>\n",
       "    </tr>\n",
       "    <tr>\n",
       "      <th>2400</th>\n",
       "      <td>4</td>\n",
       "      <td>4</td>\n",
       "      <td>2</td>\n",
       "      <td>4</td>\n",
       "      <td>0</td>\n",
       "      <td>3</td>\n",
       "      <td>4</td>\n",
       "      <td>3</td>\n",
       "      <td>4</td>\n",
       "    </tr>\n",
       "    <tr>\n",
       "      <th>2500</th>\n",
       "      <td>4</td>\n",
       "      <td>3</td>\n",
       "      <td>2</td>\n",
       "      <td>5</td>\n",
       "      <td>0</td>\n",
       "      <td>4</td>\n",
       "      <td>4</td>\n",
       "      <td>4</td>\n",
       "      <td>5</td>\n",
       "    </tr>\n",
       "    <tr>\n",
       "      <th>2600</th>\n",
       "      <td>2</td>\n",
       "      <td>2</td>\n",
       "      <td>2</td>\n",
       "      <td>2</td>\n",
       "      <td>0</td>\n",
       "      <td>1</td>\n",
       "      <td>2</td>\n",
       "      <td>1</td>\n",
       "      <td>2</td>\n",
       "    </tr>\n",
       "    <tr>\n",
       "      <th>2800</th>\n",
       "      <td>1</td>\n",
       "      <td>1</td>\n",
       "      <td>1</td>\n",
       "      <td>1</td>\n",
       "      <td>0</td>\n",
       "      <td>1</td>\n",
       "      <td>1</td>\n",
       "      <td>1</td>\n",
       "      <td>1</td>\n",
       "    </tr>\n",
       "    <tr>\n",
       "      <th>3000</th>\n",
       "      <td>1</td>\n",
       "      <td>1</td>\n",
       "      <td>1</td>\n",
       "      <td>0</td>\n",
       "      <td>0</td>\n",
       "      <td>0</td>\n",
       "      <td>1</td>\n",
       "      <td>1</td>\n",
       "      <td>1</td>\n",
       "    </tr>\n",
       "    <tr>\n",
       "      <th>3500</th>\n",
       "      <td>1</td>\n",
       "      <td>1</td>\n",
       "      <td>1</td>\n",
       "      <td>1</td>\n",
       "      <td>0</td>\n",
       "      <td>0</td>\n",
       "      <td>1</td>\n",
       "      <td>1</td>\n",
       "      <td>1</td>\n",
       "    </tr>\n",
       "  </tbody>\n",
       "</table>\n",
       "</div>"
      ],
      "text/plain": [
       "      Name  Monster type  Set  Card number  Ability  Rule  ATK  Level  \\\n",
       "DEF                                                                     \n",
       "0        2             1    1            2        0     2    2      2   \n",
       "200      1             1    1            1        0     0    1      1   \n",
       "300      5             1    3            5        0     1    2      2   \n",
       "400      3             3    2            3        0     2    3      3   \n",
       "500      1             1    1            1        0     1    1      1   \n",
       "600      5             4    3            5        0     4    5      3   \n",
       "700      4             2    2            4        0     2    2      2   \n",
       "800      3             3    2            3        0     3    2      3   \n",
       "900      2             2    2            2        0     1    2      2   \n",
       "1000     4             2    2            4        0     3    4      4   \n",
       "1300     3             3    2            3        0     2    3      2   \n",
       "1400     2             1    1            2        0     2    1      1   \n",
       "1500     8             4    2            8        0     4    3      3   \n",
       "1600     6             4    2            6        0     6    5      4   \n",
       "1700     1             1    1            1        0     1    1      1   \n",
       "1800     3             3    2            3        0     3    3      3   \n",
       "1900     2             2    2            2        0     2    2      2   \n",
       "2000    10             7    3           10        0     6    6      4   \n",
       "2100     4             2    2            4        0     4    4      2   \n",
       "2200     7             4    3            7        0     3    7      3   \n",
       "2300     5             4    2            5        0     4    5      3   \n",
       "2400     4             4    2            4        0     3    4      3   \n",
       "2500     4             3    2            5        0     4    4      4   \n",
       "2600     2             2    2            2        0     1    2      1   \n",
       "2800     1             1    1            1        0     1    1      1   \n",
       "3000     1             1    1            0        0     0    1      1   \n",
       "3500     1             1    1            1        0     0    1      1   \n",
       "\n",
       "      Modification date  \n",
       "DEF                      \n",
       "0                     2  \n",
       "200                   1  \n",
       "300                   5  \n",
       "400                   3  \n",
       "500                   1  \n",
       "600                   5  \n",
       "700                   4  \n",
       "800                   3  \n",
       "900                   2  \n",
       "1000                  4  \n",
       "1300                  3  \n",
       "1400                  2  \n",
       "1500                  8  \n",
       "1600                  6  \n",
       "1700                  1  \n",
       "1800                  3  \n",
       "1900                  2  \n",
       "2000                 10  \n",
       "2100                  4  \n",
       "2200                  7  \n",
       "2300                  5  \n",
       "2400                  4  \n",
       "2500                  5  \n",
       "2600                  2  \n",
       "2800                  1  \n",
       "3000                  1  \n",
       "3500                  1  "
      ]
     },
     "execution_count": 14,
     "metadata": {},
     "output_type": "execute_result"
    }
   ],
   "source": [
    "bandai_df.drop(columns=[\"Card type\", \"Page name\", \"Page URL\"]).groupby(\n",
    "    \"DEF\"\n",
    ").nunique().sort_index(key=lambda x: pd.to_numeric(x, errors=\"coerce\"))"
   ]
  },
  {
   "cell_type": "code",
   "execution_count": 15,
   "id": "10aeff48",
   "metadata": {
    "execution": {
     "iopub.execute_input": "2023-05-01T22:22:18.268384Z",
     "iopub.status.busy": "2023-05-01T22:22:18.267948Z",
     "iopub.status.idle": "2023-05-01T22:22:18.739589Z",
     "shell.execute_reply": "2023-05-01T22:22:18.738368Z"
    },
    "papermill": {
     "duration": 0.498956,
     "end_time": "2023-05-01T22:22:18.745321",
     "exception": false,
     "start_time": "2023-05-01T22:22:18.246365",
     "status": "completed"
    },
    "tags": []
   },
   "outputs": [
    {
     "data": {
      "image/png": "[encoded data removed]",
      "text/plain": [
       "<Figure size 1800x600 with 1 Axes>"
      ]
     },
     "metadata": {},
     "output_type": "display_data"
    }
   ],
   "source": [
    "def_colors = colors_dict[\"Monster Card\"]\n",
    "bandai_df[\"DEF\"].value_counts().sort_index(\n",
    "    key=lambda x: pd.to_numeric(x, errors=\"coerce\")\n",
    ").plot.bar(figsize=(18, 6), grid=True, color=def_colors, title=\"DEF\")\n",
    "plt.show()"
   ]
  },
  {
   "cell_type": "markdown",
   "id": "02b9970b-696d-4ef0-b01d-0385e6c53575",
   "metadata": {
    "papermill": {
     "duration": 0.0218,
     "end_time": "2023-05-01T22:22:18.786266",
     "exception": false,
     "start_time": "2023-05-01T22:22:18.764466",
     "status": "completed"
    },
    "tags": []
   },
   "source": [
    "## Level"
   ]
  },
  {
   "cell_type": "code",
   "execution_count": 16,
   "id": "f5543138",
   "metadata": {
    "execution": {
     "iopub.execute_input": "2023-05-01T22:22:18.880961Z",
     "iopub.status.busy": "2023-05-01T22:22:18.880482Z",
     "iopub.status.idle": "2023-05-01T22:22:18.908265Z",
     "shell.execute_reply": "2023-05-01T22:22:18.907151Z"
    },
    "papermill": {
     "duration": 0.076971,
     "end_time": "2023-05-01T22:22:18.910556",
     "exception": false,
     "start_time": "2023-05-01T22:22:18.833585",
     "status": "completed"
    },
    "tags": []
   },
   "outputs": [
    {
     "data": {
      "text/html": [
       "<div>\n",
       "<style scoped>\n",
       "    .dataframe tbody tr th:only-of-type {\n",
       "        vertical-align: middle;\n",
       "    }\n",
       "\n",
       "    .dataframe tbody tr th {\n",
       "        vertical-align: top;\n",
       "    }\n",
       "\n",
       "    .dataframe thead th {\n",
       "        text-align: right;\n",
       "    }\n",
       "</style>\n",
       "<table border=\"1\" class=\"dataframe\">\n",
       "  <thead>\n",
       "    <tr style=\"text-align: right;\">\n",
       "      <th></th>\n",
       "      <th>Name</th>\n",
       "      <th>Monster type</th>\n",
       "      <th>DEF</th>\n",
       "      <th>Set</th>\n",
       "      <th>Card number</th>\n",
       "      <th>Ability</th>\n",
       "      <th>Rule</th>\n",
       "      <th>ATK</th>\n",
       "      <th>Modification date</th>\n",
       "    </tr>\n",
       "    <tr>\n",
       "      <th>Level</th>\n",
       "      <th></th>\n",
       "      <th></th>\n",
       "      <th></th>\n",
       "      <th></th>\n",
       "      <th></th>\n",
       "      <th></th>\n",
       "      <th></th>\n",
       "      <th></th>\n",
       "      <th></th>\n",
       "    </tr>\n",
       "  </thead>\n",
       "  <tbody>\n",
       "    <tr>\n",
       "      <th>1</th>\n",
       "      <td>5</td>\n",
       "      <td>1</td>\n",
       "      <td>2</td>\n",
       "      <td>2</td>\n",
       "      <td>5</td>\n",
       "      <td>0</td>\n",
       "      <td>1</td>\n",
       "      <td>2</td>\n",
       "      <td>5</td>\n",
       "    </tr>\n",
       "    <tr>\n",
       "      <th>2</th>\n",
       "      <td>4</td>\n",
       "      <td>3</td>\n",
       "      <td>4</td>\n",
       "      <td>3</td>\n",
       "      <td>4</td>\n",
       "      <td>0</td>\n",
       "      <td>2</td>\n",
       "      <td>3</td>\n",
       "      <td>4</td>\n",
       "    </tr>\n",
       "    <tr>\n",
       "      <th>3</th>\n",
       "      <td>3</td>\n",
       "      <td>2</td>\n",
       "      <td>3</td>\n",
       "      <td>2</td>\n",
       "      <td>3</td>\n",
       "      <td>0</td>\n",
       "      <td>3</td>\n",
       "      <td>3</td>\n",
       "      <td>3</td>\n",
       "    </tr>\n",
       "    <tr>\n",
       "      <th>4</th>\n",
       "      <td>17</td>\n",
       "      <td>8</td>\n",
       "      <td>10</td>\n",
       "      <td>3</td>\n",
       "      <td>17</td>\n",
       "      <td>2</td>\n",
       "      <td>10</td>\n",
       "      <td>9</td>\n",
       "      <td>17</td>\n",
       "    </tr>\n",
       "    <tr>\n",
       "      <th>5</th>\n",
       "      <td>34</td>\n",
       "      <td>10</td>\n",
       "      <td>17</td>\n",
       "      <td>3</td>\n",
       "      <td>34</td>\n",
       "      <td>1</td>\n",
       "      <td>13</td>\n",
       "      <td>15</td>\n",
       "      <td>34</td>\n",
       "    </tr>\n",
       "    <tr>\n",
       "      <th>6</th>\n",
       "      <td>23</td>\n",
       "      <td>10</td>\n",
       "      <td>15</td>\n",
       "      <td>3</td>\n",
       "      <td>23</td>\n",
       "      <td>2</td>\n",
       "      <td>10</td>\n",
       "      <td>12</td>\n",
       "      <td>23</td>\n",
       "    </tr>\n",
       "    <tr>\n",
       "      <th>7</th>\n",
       "      <td>10</td>\n",
       "      <td>6</td>\n",
       "      <td>7</td>\n",
       "      <td>2</td>\n",
       "      <td>10</td>\n",
       "      <td>1</td>\n",
       "      <td>6</td>\n",
       "      <td>5</td>\n",
       "      <td>10</td>\n",
       "    </tr>\n",
       "    <tr>\n",
       "      <th>8</th>\n",
       "      <td>5</td>\n",
       "      <td>1</td>\n",
       "      <td>4</td>\n",
       "      <td>3</td>\n",
       "      <td>6</td>\n",
       "      <td>1</td>\n",
       "      <td>2</td>\n",
       "      <td>4</td>\n",
       "      <td>7</td>\n",
       "    </tr>\n",
       "  </tbody>\n",
       "</table>\n",
       "</div>"
      ],
      "text/plain": [
       "       Name  Monster type  DEF  Set  Card number  Ability  Rule  ATK  \\\n",
       "Level                                                                  \n",
       "1         5             1    2    2            5        0     1    2   \n",
       "2         4             3    4    3            4        0     2    3   \n",
       "3         3             2    3    2            3        0     3    3   \n",
       "4        17             8   10    3           17        2    10    9   \n",
       "5        34            10   17    3           34        1    13   15   \n",
       "6        23            10   15    3           23        2    10   12   \n",
       "7        10             6    7    2           10        1     6    5   \n",
       "8         5             1    4    3            6        1     2    4   \n",
       "\n",
       "       Modification date  \n",
       "Level                     \n",
       "1                      5  \n",
       "2                      4  \n",
       "3                      3  \n",
       "4                     17  \n",
       "5                     34  \n",
       "6                     23  \n",
       "7                     10  \n",
       "8                      7  "
      ]
     },
     "execution_count": 16,
     "metadata": {},
     "output_type": "execute_result"
    }
   ],
   "source": [
    "bandai_df.drop(columns=[\"Card type\", \"Page name\", \"Page URL\"]).groupby(\n",
    "    \"Level\"\n",
    ").nunique().sort_index(key=lambda x: pd.to_numeric(x, errors=\"coerce\"))"
   ]
  },
  {
   "cell_type": "code",
   "execution_count": 17,
   "id": "31539bdc",
   "metadata": {
    "execution": {
     "iopub.execute_input": "2023-05-01T22:22:18.971601Z",
     "iopub.status.busy": "2023-05-01T22:22:18.970532Z",
     "iopub.status.idle": "2023-05-01T22:22:19.270641Z",
     "shell.execute_reply": "2023-05-01T22:22:19.269582Z"
    },
    "papermill": {
     "duration": 0.344088,
     "end_time": "2023-05-01T22:22:19.272871",
     "exception": false,
     "start_time": "2023-05-01T22:22:18.928783",
     "status": "completed"
    },
    "tags": []
   },
   "outputs": [
    {
     "data": {
      "image/png": "[encoded data removed]",
      "text/plain": [
       "<Figure size 1800x600 with 1 Axes>"
      ]
     },
     "metadata": {},
     "output_type": "display_data"
    }
   ],
   "source": [
    "level_colors = colors_dict[\"Level\"]\n",
    "bandai_df[\"Level\"].value_counts().sort_index(\n",
    "    key=lambda x: pd.to_numeric(x, errors=\"coerce\")\n",
    ").plot.bar(figsize=(18, 6), grid=True, rot=0, color=level_colors, title=\"Level/Rank\")\n",
    "plt.show()"
   ]
  },
  {
   "cell_type": "markdown",
   "id": "071ce72d-178c-4ff3-9e4a-25f2568db91b",
   "metadata": {
    "papermill": {
     "duration": 0.070826,
     "end_time": "2023-05-01T22:22:19.362648",
     "exception": false,
     "start_time": "2023-05-01T22:22:19.291822",
     "status": "completed"
    },
    "tags": []
   },
   "source": [
    "### ATK statistics"
   ]
  },
  {
   "cell_type": "code",
   "execution_count": 18,
   "id": "06dc9107",
   "metadata": {
    "execution": {
     "iopub.execute_input": "2023-05-01T22:22:19.424171Z",
     "iopub.status.busy": "2023-05-01T22:22:19.423383Z",
     "iopub.status.idle": "2023-05-01T22:22:19.501911Z",
     "shell.execute_reply": "2023-05-01T22:22:19.500973Z"
    },
    "papermill": {
     "duration": 0.123042,
     "end_time": "2023-05-01T22:22:19.504101",
     "exception": false,
     "start_time": "2023-05-01T22:22:19.381059",
     "status": "completed"
    },
    "tags": []
   },
   "outputs": [
    {
     "data": {
      "text/html": [
       "<div>\n",
       "<style scoped>\n",
       "    .dataframe tbody tr th:only-of-type {\n",
       "        vertical-align: middle;\n",
       "    }\n",
       "\n",
       "    .dataframe tbody tr th {\n",
       "        vertical-align: top;\n",
       "    }\n",
       "\n",
       "    .dataframe thead tr th {\n",
       "        text-align: left;\n",
       "    }\n",
       "\n",
       "    .dataframe thead tr:last-of-type th {\n",
       "        text-align: right;\n",
       "    }\n",
       "</style>\n",
       "<table border=\"1\" class=\"dataframe\">\n",
       "  <thead>\n",
       "    <tr>\n",
       "      <th></th>\n",
       "      <th colspan=\"8\" halign=\"left\">ATK</th>\n",
       "    </tr>\n",
       "    <tr>\n",
       "      <th></th>\n",
       "      <th>count</th>\n",
       "      <th>mean</th>\n",
       "      <th>std</th>\n",
       "      <th>min</th>\n",
       "      <th>25%</th>\n",
       "      <th>50%</th>\n",
       "      <th>75%</th>\n",
       "      <th>max</th>\n",
       "    </tr>\n",
       "    <tr>\n",
       "      <th>Level</th>\n",
       "      <th></th>\n",
       "      <th></th>\n",
       "      <th></th>\n",
       "      <th></th>\n",
       "      <th></th>\n",
       "      <th></th>\n",
       "      <th></th>\n",
       "      <th></th>\n",
       "    </tr>\n",
       "  </thead>\n",
       "  <tbody>\n",
       "    <tr>\n",
       "      <th>1</th>\n",
       "      <td>5.0</td>\n",
       "      <td>280.000000</td>\n",
       "      <td>178.885438</td>\n",
       "      <td>200.0</td>\n",
       "      <td>200.0</td>\n",
       "      <td>200.0</td>\n",
       "      <td>200.0</td>\n",
       "      <td>600.0</td>\n",
       "    </tr>\n",
       "    <tr>\n",
       "      <th>2</th>\n",
       "      <td>4.0</td>\n",
       "      <td>325.000000</td>\n",
       "      <td>206.155281</td>\n",
       "      <td>100.0</td>\n",
       "      <td>175.0</td>\n",
       "      <td>350.0</td>\n",
       "      <td>500.0</td>\n",
       "      <td>500.0</td>\n",
       "    </tr>\n",
       "    <tr>\n",
       "      <th>3</th>\n",
       "      <td>3.0</td>\n",
       "      <td>1366.666667</td>\n",
       "      <td>513.160144</td>\n",
       "      <td>800.0</td>\n",
       "      <td>1150.0</td>\n",
       "      <td>1500.0</td>\n",
       "      <td>1650.0</td>\n",
       "      <td>1800.0</td>\n",
       "    </tr>\n",
       "    <tr>\n",
       "      <th>4</th>\n",
       "      <td>15.0</td>\n",
       "      <td>1626.666667</td>\n",
       "      <td>400.832467</td>\n",
       "      <td>600.0</td>\n",
       "      <td>1500.0</td>\n",
       "      <td>1600.0</td>\n",
       "      <td>1800.0</td>\n",
       "      <td>2400.0</td>\n",
       "    </tr>\n",
       "    <tr>\n",
       "      <th>5</th>\n",
       "      <td>33.0</td>\n",
       "      <td>1742.424242</td>\n",
       "      <td>559.033934</td>\n",
       "      <td>400.0</td>\n",
       "      <td>1400.0</td>\n",
       "      <td>2000.0</td>\n",
       "      <td>2100.0</td>\n",
       "      <td>2500.0</td>\n",
       "    </tr>\n",
       "    <tr>\n",
       "      <th>6</th>\n",
       "      <td>21.0</td>\n",
       "      <td>2104.761905</td>\n",
       "      <td>380.100237</td>\n",
       "      <td>1200.0</td>\n",
       "      <td>1900.0</td>\n",
       "      <td>2300.0</td>\n",
       "      <td>2300.0</td>\n",
       "      <td>2600.0</td>\n",
       "    </tr>\n",
       "    <tr>\n",
       "      <th>7</th>\n",
       "      <td>9.0</td>\n",
       "      <td>2511.111111</td>\n",
       "      <td>358.623913</td>\n",
       "      <td>1800.0</td>\n",
       "      <td>2400.0</td>\n",
       "      <td>2500.0</td>\n",
       "      <td>2600.0</td>\n",
       "      <td>3200.0</td>\n",
       "    </tr>\n",
       "    <tr>\n",
       "      <th>8</th>\n",
       "      <td>5.0</td>\n",
       "      <td>3000.000000</td>\n",
       "      <td>1274.754878</td>\n",
       "      <td>1000.0</td>\n",
       "      <td>3000.0</td>\n",
       "      <td>3000.0</td>\n",
       "      <td>3500.0</td>\n",
       "      <td>4500.0</td>\n",
       "    </tr>\n",
       "  </tbody>\n",
       "</table>\n",
       "</div>"
      ],
      "text/plain": [
       "        ATK                                                                  \n",
       "      count         mean          std     min     25%     50%     75%     max\n",
       "Level                                                                        \n",
       "1       5.0   280.000000   178.885438   200.0   200.0   200.0   200.0   600.0\n",
       "2       4.0   325.000000   206.155281   100.0   175.0   350.0   500.0   500.0\n",
       "3       3.0  1366.666667   513.160144   800.0  1150.0  1500.0  1650.0  1800.0\n",
       "4      15.0  1626.666667   400.832467   600.0  1500.0  1600.0  1800.0  2400.0\n",
       "5      33.0  1742.424242   559.033934   400.0  1400.0  2000.0  2100.0  2500.0\n",
       "6      21.0  2104.761905   380.100237  1200.0  1900.0  2300.0  2300.0  2600.0\n",
       "7       9.0  2511.111111   358.623913  1800.0  2400.0  2500.0  2600.0  3200.0\n",
       "8       5.0  3000.000000  1274.754878  1000.0  3000.0  3000.0  3500.0  4500.0"
      ]
     },
     "execution_count": 18,
     "metadata": {},
     "output_type": "execute_result"
    }
   ],
   "source": [
    "bandai_df[[\"Level\", \"ATK\"]].apply(pd.to_numeric, errors=\"coerce\").dropna().astype(\n",
    "    int\n",
    ").groupby(\"Level\").describe()"
   ]
  },
  {
   "cell_type": "markdown",
   "id": "3d9b3073-cb28-48c0-94c3-17e6932f0903",
   "metadata": {
    "papermill": {
     "duration": 0.08029,
     "end_time": "2023-05-01T22:22:19.606400",
     "exception": false,
     "start_time": "2023-05-01T22:22:19.526110",
     "status": "completed"
    },
    "tags": []
   },
   "source": [
    "### DEF statistics"
   ]
  },
  {
   "cell_type": "code",
   "execution_count": 19,
   "id": "cc005e78",
   "metadata": {
    "execution": {
     "iopub.execute_input": "2023-05-01T22:22:19.648789Z",
     "iopub.status.busy": "2023-05-01T22:22:19.647633Z",
     "iopub.status.idle": "2023-05-01T22:22:19.705667Z",
     "shell.execute_reply": "2023-05-01T22:22:19.704403Z"
    },
    "papermill": {
     "duration": 0.081772,
     "end_time": "2023-05-01T22:22:19.708458",
     "exception": false,
     "start_time": "2023-05-01T22:22:19.626686",
     "status": "completed"
    },
    "tags": []
   },
   "outputs": [
    {
     "data": {
      "text/html": [
       "<div>\n",
       "<style scoped>\n",
       "    .dataframe tbody tr th:only-of-type {\n",
       "        vertical-align: middle;\n",
       "    }\n",
       "\n",
       "    .dataframe tbody tr th {\n",
       "        vertical-align: top;\n",
       "    }\n",
       "\n",
       "    .dataframe thead tr th {\n",
       "        text-align: left;\n",
       "    }\n",
       "\n",
       "    .dataframe thead tr:last-of-type th {\n",
       "        text-align: right;\n",
       "    }\n",
       "</style>\n",
       "<table border=\"1\" class=\"dataframe\">\n",
       "  <thead>\n",
       "    <tr>\n",
       "      <th></th>\n",
       "      <th colspan=\"8\" halign=\"left\">DEF</th>\n",
       "    </tr>\n",
       "    <tr>\n",
       "      <th></th>\n",
       "      <th>count</th>\n",
       "      <th>mean</th>\n",
       "      <th>std</th>\n",
       "      <th>min</th>\n",
       "      <th>25%</th>\n",
       "      <th>50%</th>\n",
       "      <th>75%</th>\n",
       "      <th>max</th>\n",
       "    </tr>\n",
       "    <tr>\n",
       "      <th>Level</th>\n",
       "      <th></th>\n",
       "      <th></th>\n",
       "      <th></th>\n",
       "      <th></th>\n",
       "      <th></th>\n",
       "      <th></th>\n",
       "      <th></th>\n",
       "      <th></th>\n",
       "    </tr>\n",
       "  </thead>\n",
       "  <tbody>\n",
       "    <tr>\n",
       "      <th>1</th>\n",
       "      <td>5.0</td>\n",
       "      <td>320.000000</td>\n",
       "      <td>44.721360</td>\n",
       "      <td>300.0</td>\n",
       "      <td>300.0</td>\n",
       "      <td>300.0</td>\n",
       "      <td>300.0</td>\n",
       "      <td>400.0</td>\n",
       "    </tr>\n",
       "    <tr>\n",
       "      <th>2</th>\n",
       "      <td>4.0</td>\n",
       "      <td>475.000000</td>\n",
       "      <td>359.397644</td>\n",
       "      <td>200.0</td>\n",
       "      <td>275.0</td>\n",
       "      <td>350.0</td>\n",
       "      <td>550.0</td>\n",
       "      <td>1000.0</td>\n",
       "    </tr>\n",
       "    <tr>\n",
       "      <th>3</th>\n",
       "      <td>3.0</td>\n",
       "      <td>466.666667</td>\n",
       "      <td>416.333200</td>\n",
       "      <td>0.0</td>\n",
       "      <td>300.0</td>\n",
       "      <td>600.0</td>\n",
       "      <td>700.0</td>\n",
       "      <td>800.0</td>\n",
       "    </tr>\n",
       "    <tr>\n",
       "      <th>4</th>\n",
       "      <td>15.0</td>\n",
       "      <td>1073.333333</td>\n",
       "      <td>582.441495</td>\n",
       "      <td>0.0</td>\n",
       "      <td>700.0</td>\n",
       "      <td>900.0</td>\n",
       "      <td>1500.0</td>\n",
       "      <td>2200.0</td>\n",
       "    </tr>\n",
       "    <tr>\n",
       "      <th>5</th>\n",
       "      <td>33.0</td>\n",
       "      <td>1663.636364</td>\n",
       "      <td>601.985352</td>\n",
       "      <td>400.0</td>\n",
       "      <td>1400.0</td>\n",
       "      <td>1900.0</td>\n",
       "      <td>2100.0</td>\n",
       "      <td>2500.0</td>\n",
       "    </tr>\n",
       "    <tr>\n",
       "      <th>6</th>\n",
       "      <td>21.0</td>\n",
       "      <td>1990.476190</td>\n",
       "      <td>611.477524</td>\n",
       "      <td>900.0</td>\n",
       "      <td>1500.0</td>\n",
       "      <td>2100.0</td>\n",
       "      <td>2300.0</td>\n",
       "      <td>3500.0</td>\n",
       "    </tr>\n",
       "    <tr>\n",
       "      <th>7</th>\n",
       "      <td>9.0</td>\n",
       "      <td>2200.000000</td>\n",
       "      <td>364.005494</td>\n",
       "      <td>1600.0</td>\n",
       "      <td>2000.0</td>\n",
       "      <td>2300.0</td>\n",
       "      <td>2500.0</td>\n",
       "      <td>2600.0</td>\n",
       "    </tr>\n",
       "    <tr>\n",
       "      <th>8</th>\n",
       "      <td>5.0</td>\n",
       "      <td>2200.000000</td>\n",
       "      <td>758.287544</td>\n",
       "      <td>1000.0</td>\n",
       "      <td>2000.0</td>\n",
       "      <td>2500.0</td>\n",
       "      <td>2500.0</td>\n",
       "      <td>3000.0</td>\n",
       "    </tr>\n",
       "  </tbody>\n",
       "</table>\n",
       "</div>"
      ],
      "text/plain": [
       "        DEF                                                                 \n",
       "      count         mean         std     min     25%     50%     75%     max\n",
       "Level                                                                       \n",
       "1       5.0   320.000000   44.721360   300.0   300.0   300.0   300.0   400.0\n",
       "2       4.0   475.000000  359.397644   200.0   275.0   350.0   550.0  1000.0\n",
       "3       3.0   466.666667  416.333200     0.0   300.0   600.0   700.0   800.0\n",
       "4      15.0  1073.333333  582.441495     0.0   700.0   900.0  1500.0  2200.0\n",
       "5      33.0  1663.636364  601.985352   400.0  1400.0  1900.0  2100.0  2500.0\n",
       "6      21.0  1990.476190  611.477524   900.0  1500.0  2100.0  2300.0  3500.0\n",
       "7       9.0  2200.000000  364.005494  1600.0  2000.0  2300.0  2500.0  2600.0\n",
       "8       5.0  2200.000000  758.287544  1000.0  2000.0  2500.0  2500.0  3000.0"
      ]
     },
     "execution_count": 19,
     "metadata": {},
     "output_type": "execute_result"
    }
   ],
   "source": [
    "bandai_df[[\"Level\", \"DEF\"]].apply(pd.to_numeric, errors=\"coerce\").dropna().astype(\n",
    "    int\n",
    ").groupby(\"Level\").describe()"
   ]
  },
  {
   "cell_type": "markdown",
   "id": "f8a1f602-3981-413c-bc35-dadb1da03979",
   "metadata": {
    "papermill": {
     "duration": 0.019613,
     "end_time": "2023-05-01T22:22:19.749292",
     "exception": false,
     "start_time": "2023-05-01T22:22:19.729679",
     "status": "completed"
    },
    "tags": []
   },
   "source": [
    "## Monster type"
   ]
  },
  {
   "cell_type": "code",
   "execution_count": 20,
   "id": "dab77100",
   "metadata": {
    "execution": {
     "iopub.execute_input": "2023-05-01T22:22:19.790703Z",
     "iopub.status.busy": "2023-05-01T22:22:19.789489Z",
     "iopub.status.idle": "2023-05-01T22:22:19.798912Z",
     "shell.execute_reply": "2023-05-01T22:22:19.798017Z"
    },
    "papermill": {
     "duration": 0.035556,
     "end_time": "2023-05-01T22:22:19.804351",
     "exception": false,
     "start_time": "2023-05-01T22:22:19.768795",
     "status": "completed"
    },
    "tags": []
   },
   "outputs": [
    {
     "name": "stdout",
     "output_type": "stream",
     "text": [
      "Total number of monster types:"
     ]
    },
    {
     "name": "stdout",
     "output_type": "stream",
     "text": [
      " "
     ]
    },
    {
     "name": "stdout",
     "output_type": "stream",
     "text": [
      "15"
     ]
    },
    {
     "name": "stdout",
     "output_type": "stream",
     "text": [
      "\n"
     ]
    }
   ],
   "source": [
    "print(\"Total number of monster types:\", bandai_df[\"Monster type\"].nunique())"
   ]
  },
  {
   "cell_type": "code",
   "execution_count": 21,
   "id": "02f5b750",
   "metadata": {
    "execution": {
     "iopub.execute_input": "2023-05-01T22:22:19.845813Z",
     "iopub.status.busy": "2023-05-01T22:22:19.844807Z",
     "iopub.status.idle": "2023-05-01T22:22:19.868791Z",
     "shell.execute_reply": "2023-05-01T22:22:19.867891Z"
    },
    "papermill": {
     "duration": 0.047602,
     "end_time": "2023-05-01T22:22:19.871560",
     "exception": false,
     "start_time": "2023-05-01T22:22:19.823958",
     "status": "completed"
    },
    "tags": []
   },
   "outputs": [
    {
     "data": {
      "text/html": [
       "<div>\n",
       "<style scoped>\n",
       "    .dataframe tbody tr th:only-of-type {\n",
       "        vertical-align: middle;\n",
       "    }\n",
       "\n",
       "    .dataframe tbody tr th {\n",
       "        vertical-align: top;\n",
       "    }\n",
       "\n",
       "    .dataframe thead th {\n",
       "        text-align: right;\n",
       "    }\n",
       "</style>\n",
       "<table border=\"1\" class=\"dataframe\">\n",
       "  <thead>\n",
       "    <tr style=\"text-align: right;\">\n",
       "      <th></th>\n",
       "      <th>Name</th>\n",
       "      <th>DEF</th>\n",
       "      <th>Set</th>\n",
       "      <th>Card number</th>\n",
       "      <th>Ability</th>\n",
       "      <th>Rule</th>\n",
       "      <th>ATK</th>\n",
       "      <th>Level</th>\n",
       "      <th>Modification date</th>\n",
       "    </tr>\n",
       "    <tr>\n",
       "      <th>Monster type</th>\n",
       "      <th></th>\n",
       "      <th></th>\n",
       "      <th></th>\n",
       "      <th></th>\n",
       "      <th></th>\n",
       "      <th></th>\n",
       "      <th></th>\n",
       "      <th></th>\n",
       "      <th></th>\n",
       "    </tr>\n",
       "  </thead>\n",
       "  <tbody>\n",
       "    <tr>\n",
       "      <th>Beast</th>\n",
       "      <td>4</td>\n",
       "      <td>4</td>\n",
       "      <td>3</td>\n",
       "      <td>4</td>\n",
       "      <td>0</td>\n",
       "      <td>2</td>\n",
       "      <td>2</td>\n",
       "      <td>3</td>\n",
       "      <td>4</td>\n",
       "    </tr>\n",
       "    <tr>\n",
       "      <th>Beast-Warrior</th>\n",
       "      <td>5</td>\n",
       "      <td>4</td>\n",
       "      <td>2</td>\n",
       "      <td>5</td>\n",
       "      <td>0</td>\n",
       "      <td>4</td>\n",
       "      <td>5</td>\n",
       "      <td>3</td>\n",
       "      <td>5</td>\n",
       "    </tr>\n",
       "    <tr>\n",
       "      <th>Black Magic</th>\n",
       "      <td>12</td>\n",
       "      <td>7</td>\n",
       "      <td>4</td>\n",
       "      <td>11</td>\n",
       "      <td>0</td>\n",
       "      <td>3</td>\n",
       "      <td>7</td>\n",
       "      <td>4</td>\n",
       "      <td>12</td>\n",
       "    </tr>\n",
       "    <tr>\n",
       "      <th>Dinosaur</th>\n",
       "      <td>5</td>\n",
       "      <td>5</td>\n",
       "      <td>3</td>\n",
       "      <td>5</td>\n",
       "      <td>0</td>\n",
       "      <td>4</td>\n",
       "      <td>5</td>\n",
       "      <td>2</td>\n",
       "      <td>5</td>\n",
       "    </tr>\n",
       "    <tr>\n",
       "      <th>Dragon</th>\n",
       "      <td>11</td>\n",
       "      <td>8</td>\n",
       "      <td>3</td>\n",
       "      <td>12</td>\n",
       "      <td>0</td>\n",
       "      <td>7</td>\n",
       "      <td>8</td>\n",
       "      <td>5</td>\n",
       "      <td>13</td>\n",
       "    </tr>\n",
       "    <tr>\n",
       "      <th>Dragon Magic</th>\n",
       "      <td>1</td>\n",
       "      <td>1</td>\n",
       "      <td>1</td>\n",
       "      <td>1</td>\n",
       "      <td>0</td>\n",
       "      <td>1</td>\n",
       "      <td>1</td>\n",
       "      <td>1</td>\n",
       "      <td>1</td>\n",
       "    </tr>\n",
       "    <tr>\n",
       "      <th>Fiend</th>\n",
       "      <td>18</td>\n",
       "      <td>12</td>\n",
       "      <td>3</td>\n",
       "      <td>18</td>\n",
       "      <td>0</td>\n",
       "      <td>8</td>\n",
       "      <td>12</td>\n",
       "      <td>6</td>\n",
       "      <td>18</td>\n",
       "    </tr>\n",
       "    <tr>\n",
       "      <th>Illusion</th>\n",
       "      <td>2</td>\n",
       "      <td>2</td>\n",
       "      <td>2</td>\n",
       "      <td>2</td>\n",
       "      <td>0</td>\n",
       "      <td>0</td>\n",
       "      <td>2</td>\n",
       "      <td>1</td>\n",
       "      <td>2</td>\n",
       "    </tr>\n",
       "    <tr>\n",
       "      <th>Insect</th>\n",
       "      <td>7</td>\n",
       "      <td>5</td>\n",
       "      <td>3</td>\n",
       "      <td>7</td>\n",
       "      <td>0</td>\n",
       "      <td>6</td>\n",
       "      <td>7</td>\n",
       "      <td>6</td>\n",
       "      <td>7</td>\n",
       "    </tr>\n",
       "    <tr>\n",
       "      <th>Sea Beast</th>\n",
       "      <td>2</td>\n",
       "      <td>2</td>\n",
       "      <td>1</td>\n",
       "      <td>2</td>\n",
       "      <td>0</td>\n",
       "      <td>1</td>\n",
       "      <td>2</td>\n",
       "      <td>1</td>\n",
       "      <td>2</td>\n",
       "    </tr>\n",
       "    <tr>\n",
       "      <th>Sea Serpent</th>\n",
       "      <td>1</td>\n",
       "      <td>1</td>\n",
       "      <td>1</td>\n",
       "      <td>1</td>\n",
       "      <td>0</td>\n",
       "      <td>1</td>\n",
       "      <td>1</td>\n",
       "      <td>1</td>\n",
       "      <td>1</td>\n",
       "    </tr>\n",
       "    <tr>\n",
       "      <th>Thunder</th>\n",
       "      <td>1</td>\n",
       "      <td>1</td>\n",
       "      <td>1</td>\n",
       "      <td>1</td>\n",
       "      <td>0</td>\n",
       "      <td>1</td>\n",
       "      <td>1</td>\n",
       "      <td>1</td>\n",
       "      <td>1</td>\n",
       "    </tr>\n",
       "    <tr>\n",
       "      <th>Warrior</th>\n",
       "      <td>12</td>\n",
       "      <td>10</td>\n",
       "      <td>3</td>\n",
       "      <td>12</td>\n",
       "      <td>0</td>\n",
       "      <td>9</td>\n",
       "      <td>7</td>\n",
       "      <td>3</td>\n",
       "      <td>12</td>\n",
       "    </tr>\n",
       "    <tr>\n",
       "      <th>White Magic</th>\n",
       "      <td>6</td>\n",
       "      <td>4</td>\n",
       "      <td>3</td>\n",
       "      <td>6</td>\n",
       "      <td>0</td>\n",
       "      <td>4</td>\n",
       "      <td>6</td>\n",
       "      <td>3</td>\n",
       "      <td>6</td>\n",
       "    </tr>\n",
       "    <tr>\n",
       "      <th>Winged Beast</th>\n",
       "      <td>3</td>\n",
       "      <td>1</td>\n",
       "      <td>2</td>\n",
       "      <td>3</td>\n",
       "      <td>0</td>\n",
       "      <td>1</td>\n",
       "      <td>1</td>\n",
       "      <td>1</td>\n",
       "      <td>3</td>\n",
       "    </tr>\n",
       "  </tbody>\n",
       "</table>\n",
       "</div>"
      ],
      "text/plain": [
       "               Name  DEF  Set  Card number  Ability  Rule  ATK  Level  \\\n",
       "Monster type                                                            \n",
       "Beast             4    4    3            4        0     2    2      3   \n",
       "Beast-Warrior     5    4    2            5        0     4    5      3   \n",
       "Black Magic      12    7    4           11        0     3    7      4   \n",
       "Dinosaur          5    5    3            5        0     4    5      2   \n",
       "Dragon           11    8    3           12        0     7    8      5   \n",
       "Dragon Magic      1    1    1            1        0     1    1      1   \n",
       "Fiend            18   12    3           18        0     8   12      6   \n",
       "Illusion          2    2    2            2        0     0    2      1   \n",
       "Insect            7    5    3            7        0     6    7      6   \n",
       "Sea Beast         2    2    1            2        0     1    2      1   \n",
       "Sea Serpent       1    1    1            1        0     1    1      1   \n",
       "Thunder           1    1    1            1        0     1    1      1   \n",
       "Warrior          12   10    3           12        0     9    7      3   \n",
       "White Magic       6    4    3            6        0     4    6      3   \n",
       "Winged Beast      3    1    2            3        0     1    1      1   \n",
       "\n",
       "               Modification date  \n",
       "Monster type                      \n",
       "Beast                          4  \n",
       "Beast-Warrior                  5  \n",
       "Black Magic                   12  \n",
       "Dinosaur                       5  \n",
       "Dragon                        13  \n",
       "Dragon Magic                   1  \n",
       "Fiend                         18  \n",
       "Illusion                       2  \n",
       "Insect                         7  \n",
       "Sea Beast                      2  \n",
       "Sea Serpent                    1  \n",
       "Thunder                        1  \n",
       "Warrior                       12  \n",
       "White Magic                    6  \n",
       "Winged Beast                   3  "
      ]
     },
     "execution_count": 21,
     "metadata": {},
     "output_type": "execute_result"
    }
   ],
   "source": [
    "bandai_df.drop(columns=[\"Card type\", \"Page name\", \"Page URL\"]).groupby(\n",
    "    \"Monster type\"\n",
    ").nunique()"
   ]
  },
  {
   "cell_type": "code",
   "execution_count": 22,
   "id": "75111774",
   "metadata": {
    "execution": {
     "iopub.execute_input": "2023-05-01T22:22:19.917617Z",
     "iopub.status.busy": "2023-05-01T22:22:19.916508Z",
     "iopub.status.idle": "2023-05-01T22:22:20.315508Z",
     "shell.execute_reply": "2023-05-01T22:22:20.313828Z"
    },
    "papermill": {
     "duration": 0.424206,
     "end_time": "2023-05-01T22:22:20.318391",
     "exception": false,
     "start_time": "2023-05-01T22:22:19.894185",
     "status": "completed"
    },
    "tags": []
   },
   "outputs": [
    {
     "data": {
      "image/png": "[encoded data removed]",
      "text/plain": [
       "<Figure size 1800x600 with 1 Axes>"
      ]
     },
     "metadata": {},
     "output_type": "display_data"
    }
   ],
   "source": [
    "monster_type_colors = colors_dict[\"Monster Card\"]\n",
    "bandai_df[\"Monster type\"].value_counts().plot.bar(\n",
    "    figsize=(18, 6), grid=True, rot=45, color=monster_type_colors, title=\"Monster type\"\n",
    ")\n",
    "plt.show()"
   ]
  },
  {
   "cell_type": "markdown",
   "id": "eaf337f6-5f57-4f12-9ed9-56ee60684221",
   "metadata": {
    "papermill": {
     "duration": 0.069016,
     "end_time": "2023-05-01T22:22:20.409498",
     "exception": false,
     "start_time": "2023-05-01T22:22:20.340482",
     "status": "completed"
    },
    "tags": []
   },
   "source": [
    "## Set"
   ]
  },
  {
   "cell_type": "code",
   "execution_count": 23,
   "id": "8235e37d-9495-4cdd-9935-47c991543663",
   "metadata": {
    "execution": {
     "iopub.execute_input": "2023-05-01T22:22:20.456299Z",
     "iopub.status.busy": "2023-05-01T22:22:20.455077Z",
     "iopub.status.idle": "2023-05-01T22:22:20.464157Z",
     "shell.execute_reply": "2023-05-01T22:22:20.463280Z"
    },
    "papermill": {
     "duration": 0.037077,
     "end_time": "2023-05-01T22:22:20.468911",
     "exception": false,
     "start_time": "2023-05-01T22:22:20.431834",
     "status": "completed"
    },
    "tags": []
   },
   "outputs": [
    {
     "name": "stdout",
     "output_type": "stream",
     "text": [
      "Total number of sets:"
     ]
    },
    {
     "name": "stdout",
     "output_type": "stream",
     "text": [
      " "
     ]
    },
    {
     "name": "stdout",
     "output_type": "stream",
     "text": [
      "4"
     ]
    },
    {
     "name": "stdout",
     "output_type": "stream",
     "text": [
      "\n"
     ]
    }
   ],
   "source": [
    "print(\"Total number of sets:\", bandai_df[\"Set\"].nunique())"
   ]
  },
  {
   "cell_type": "code",
   "execution_count": 24,
   "id": "5ea867ee-c5e5-48ed-84d4-9c66b205f185",
   "metadata": {
    "execution": {
     "iopub.execute_input": "2023-05-01T22:22:20.517441Z",
     "iopub.status.busy": "2023-05-01T22:22:20.516436Z",
     "iopub.status.idle": "2023-05-01T22:22:20.544185Z",
     "shell.execute_reply": "2023-05-01T22:22:20.543262Z"
    },
    "papermill": {
     "duration": 0.055329,
     "end_time": "2023-05-01T22:22:20.546371",
     "exception": false,
     "start_time": "2023-05-01T22:22:20.491042",
     "status": "completed"
    },
    "tags": []
   },
   "outputs": [
    {
     "data": {
      "text/html": [
       "<div>\n",
       "<style scoped>\n",
       "    .dataframe tbody tr th:only-of-type {\n",
       "        vertical-align: middle;\n",
       "    }\n",
       "\n",
       "    .dataframe tbody tr th {\n",
       "        vertical-align: top;\n",
       "    }\n",
       "\n",
       "    .dataframe thead th {\n",
       "        text-align: right;\n",
       "    }\n",
       "</style>\n",
       "<table border=\"1\" class=\"dataframe\">\n",
       "  <thead>\n",
       "    <tr style=\"text-align: right;\">\n",
       "      <th></th>\n",
       "      <th>Name</th>\n",
       "      <th>Card type</th>\n",
       "      <th>Monster type</th>\n",
       "      <th>DEF</th>\n",
       "      <th>Card number</th>\n",
       "      <th>Ability</th>\n",
       "      <th>Rule</th>\n",
       "      <th>ATK</th>\n",
       "      <th>Level</th>\n",
       "      <th>Modification date</th>\n",
       "    </tr>\n",
       "    <tr>\n",
       "      <th>Set</th>\n",
       "      <th></th>\n",
       "      <th></th>\n",
       "      <th></th>\n",
       "      <th></th>\n",
       "      <th></th>\n",
       "      <th></th>\n",
       "      <th></th>\n",
       "      <th></th>\n",
       "      <th></th>\n",
       "      <th></th>\n",
       "    </tr>\n",
       "  </thead>\n",
       "  <tbody>\n",
       "    <tr>\n",
       "      <th>Yu-Gi-Oh! Bandai OCG: 1st Generation</th>\n",
       "      <td>40</td>\n",
       "      <td>2</td>\n",
       "      <td>12</td>\n",
       "      <td>18</td>\n",
       "      <td>41</td>\n",
       "      <td>8</td>\n",
       "      <td>9</td>\n",
       "      <td>18</td>\n",
       "      <td>7</td>\n",
       "      <td>41</td>\n",
       "    </tr>\n",
       "    <tr>\n",
       "      <th>Yu-Gi-Oh! Bandai OCG: 2nd Generation</th>\n",
       "      <td>48</td>\n",
       "      <td>4</td>\n",
       "      <td>13</td>\n",
       "      <td>21</td>\n",
       "      <td>48</td>\n",
       "      <td>0</td>\n",
       "      <td>13</td>\n",
       "      <td>19</td>\n",
       "      <td>7</td>\n",
       "      <td>48</td>\n",
       "    </tr>\n",
       "    <tr>\n",
       "      <th>Yu-Gi-Oh! Bandai OCG: 3rd Generation</th>\n",
       "      <td>26</td>\n",
       "      <td>2</td>\n",
       "      <td>8</td>\n",
       "      <td>10</td>\n",
       "      <td>26</td>\n",
       "      <td>0</td>\n",
       "      <td>13</td>\n",
       "      <td>10</td>\n",
       "      <td>6</td>\n",
       "      <td>26</td>\n",
       "    </tr>\n",
       "    <tr>\n",
       "      <th>Yu-Gi-Oh! Bandai OCG: Promotional Cards</th>\n",
       "      <td>5</td>\n",
       "      <td>3</td>\n",
       "      <td>2</td>\n",
       "      <td>1</td>\n",
       "      <td>0</td>\n",
       "      <td>0</td>\n",
       "      <td>0</td>\n",
       "      <td>1</td>\n",
       "      <td>1</td>\n",
       "      <td>5</td>\n",
       "    </tr>\n",
       "  </tbody>\n",
       "</table>\n",
       "</div>"
      ],
      "text/plain": [
       "                                         Name  Card type  Monster type  DEF  \\\n",
       "Set                                                                           \n",
       "Yu-Gi-Oh! Bandai OCG: 1st Generation       40          2            12   18   \n",
       "Yu-Gi-Oh! Bandai OCG: 2nd Generation       48          4            13   21   \n",
       "Yu-Gi-Oh! Bandai OCG: 3rd Generation       26          2             8   10   \n",
       "Yu-Gi-Oh! Bandai OCG: Promotional Cards     5          3             2    1   \n",
       "\n",
       "                                         Card number  Ability  Rule  ATK  \\\n",
       "Set                                                                        \n",
       "Yu-Gi-Oh! Bandai OCG: 1st Generation              41        8     9   18   \n",
       "Yu-Gi-Oh! Bandai OCG: 2nd Generation              48        0    13   19   \n",
       "Yu-Gi-Oh! Bandai OCG: 3rd Generation              26        0    13   10   \n",
       "Yu-Gi-Oh! Bandai OCG: Promotional Cards            0        0     0    1   \n",
       "\n",
       "                                         Level  Modification date  \n",
       "Set                                                                \n",
       "Yu-Gi-Oh! Bandai OCG: 1st Generation         7                 41  \n",
       "Yu-Gi-Oh! Bandai OCG: 2nd Generation         7                 48  \n",
       "Yu-Gi-Oh! Bandai OCG: 3rd Generation         6                 26  \n",
       "Yu-Gi-Oh! Bandai OCG: Promotional Cards      1                  5  "
      ]
     },
     "execution_count": 24,
     "metadata": {},
     "output_type": "execute_result"
    }
   ],
   "source": [
    "bandai_df.drop(columns=[\"Page name\", \"Page URL\"]).groupby(\"Set\").nunique()"
   ]
  },
  {
   "cell_type": "markdown",
   "id": "1b6f5f73-c9cd-483c-96da-54174938da5a",
   "metadata": {
    "papermill": {
     "duration": 0.022449,
     "end_time": "2023-05-01T22:22:20.591547",
     "exception": false,
     "start_time": "2023-05-01T22:22:20.569098",
     "status": "completed"
    },
    "tags": []
   },
   "source": [
    "# Epilogue"
   ]
  },
  {
   "cell_type": "code",
   "execution_count": 25,
   "id": "9ebe9200-4e74-4db0-8f10-d7b258b9ef7c",
   "metadata": {
    "execution": {
     "iopub.execute_input": "2023-05-01T22:22:20.638909Z",
     "iopub.status.busy": "2023-05-01T22:22:20.637876Z",
     "iopub.status.idle": "2023-05-01T22:22:21.706630Z",
     "shell.execute_reply": "2023-05-01T22:22:21.705494Z"
    },
    "papermill": {
     "duration": 1.095445,
     "end_time": "2023-05-01T22:22:21.709122",
     "exception": false,
     "start_time": "2023-05-01T22:22:20.613677",
     "status": "completed"
    },
    "tags": []
   },
   "outputs": [],
   "source": [
    "benchmark(\"bandai\", timestamp)"
   ]
  },
  {
   "cell_type": "code",
   "execution_count": 26,
   "id": "eae8bd03-02f4-486d-9ae0-ddc7227985f2",
   "metadata": {
    "execution": {
     "iopub.execute_input": "2023-05-01T22:22:21.761621Z",
     "iopub.status.busy": "2023-05-01T22:22:21.760465Z",
     "iopub.status.idle": "2023-05-01T22:22:21.767879Z",
     "shell.execute_reply": "2023-05-01T22:22:21.766872Z"
    },
    "papermill": {
     "duration": 0.034187,
     "end_time": "2023-05-01T22:22:21.769997",
     "exception": false,
     "start_time": "2023-05-01T22:22:21.735810",
     "status": "completed"
    },
    "tags": []
   },
   "outputs": [
    {
     "data": {
      "text/markdown": [
       "<div align='right'>\n",
       "    Execution completed 01/05/2023 22:22 UTC\n",
       "</div>"
      ],
      "text/plain": [
       "<IPython.core.display.Markdown object>"
      ]
     },
     "execution_count": 26,
     "metadata": {},
     "output_type": "execute_result"
    }
   ],
   "source": [
    "footer()"
   ]
  },
  {
   "cell_type": "markdown",
   "id": "f8ddd2ba-01d3-4b5d-901a-62ea4f793309",
   "metadata": {
    "papermill": {
     "duration": 0.02223,
     "end_time": "2023-05-01T22:22:21.814410",
     "exception": false,
     "start_time": "2023-05-01T22:22:21.792180",
     "status": "completed"
    },
    "tags": []
   },
   "source": [
    "## HTML export"
   ]
  },
  {
   "cell_type": "code",
   "execution_count": 27,
   "id": "1f2182a7-7cc8-4959-8af5-ba7ea26439a7",
   "metadata": {
    "execution": {
     "iopub.execute_input": "2023-05-01T22:22:21.863524Z",
     "iopub.status.busy": "2023-05-01T22:22:21.862479Z",
     "iopub.status.idle": "2023-05-01T22:22:21.873638Z",
     "shell.execute_reply": "2023-05-01T22:22:21.872712Z"
    },
    "papermill": {
     "duration": 0.039267,
     "end_time": "2023-05-01T22:22:21.877320",
     "exception": false,
     "start_time": "2023-05-01T22:22:21.838053",
     "status": "completed"
    },
    "tags": []
   },
   "outputs": [
    {
     "name": "stdout",
     "output_type": "stream",
     "text": [
      "Notebook saved to disk"
     ]
    },
    {
     "name": "stdout",
     "output_type": "stream",
     "text": [
      "\n"
     ]
    }
   ],
   "source": [
    "# Save notebook on disck before generating HTML report\n",
    "save_notebook()"
   ]
  },
  {
   "cell_type": "code",
   "execution_count": 28,
   "id": "d7137575-20bb-4fb2-b32e-0d9de2d1cba7",
   "metadata": {
    "execution": {
     "iopub.execute_input": "2023-05-01T22:22:21.925550Z",
     "iopub.status.busy": "2023-05-01T22:22:21.924432Z",
     "iopub.status.idle": "2023-05-01T22:22:26.084210Z",
     "shell.execute_reply": "2023-05-01T22:22:26.083204Z"
    },
    "papermill": {
     "duration": 4.186339,
     "end_time": "2023-05-01T22:22:26.086760",
     "exception": false,
     "start_time": "2023-05-01T22:22:21.900421",
     "status": "completed"
    },
    "tags": []
   },
   "outputs": [
    {
     "name": "stdout",
     "output_type": "stream",
     "text": [
      "WARNING: Insecure writes have been enabled via environment variable 'JUPYTER_ALLOW_INSECURE_WRITES'! If this is not intended, remove the variable or set its value to 'False'.\r\n",
      "[NbConvertApp] Converting notebook Bandai.ipynb to HTML\r\n"
     ]
    },
    {
     "name": "stdout",
     "output_type": "stream",
     "text": [
      "[NbConvertApp] Writing 778415 bytes to ../Bandai.html\r\n"
     ]
    }
   ],
   "source": [
    "! jupyter nbconvert Bandai.ipynb --output-dir='../' --to=HTML --TagRemovePreprocessor.enabled=True --TagRemovePreprocessor.remove_cell_tags='exclude' --TemplateExporter.exclude_input=True --TemplateExporter.exclude_input_prompt=True --TemplateExporter.exclude_output_prompt=True"
   ]
  },
  {
   "cell_type": "markdown",
   "id": "a28db6c7-1f12-497c-adc6-660f199e3369",
   "metadata": {
    "papermill": {
     "duration": 0.260789,
     "end_time": "2023-05-01T22:22:26.372522",
     "exception": false,
     "start_time": "2023-05-01T22:22:26.111733",
     "status": "completed"
    },
    "tags": [
     "exclude"
    ]
   },
   "source": [
    "## Git"
   ]
  },
  {
   "cell_type": "code",
   "execution_count": null,
   "id": "0883fa53-b0b8-4ce2-ac96-559df31c9c58",
   "metadata": {
    "papermill": {
     "duration": null,
     "end_time": null,
     "exception": false,
     "start_time": "2023-05-01T22:22:26.449310",
     "status": "running"
    },
    "tags": [
     "exclude"
    ]
   },
   "outputs": [],
   "source": [
    "! git add \"../*[Bb]andai*\""
   ]
  },
  {
   "cell_type": "code",
   "execution_count": null,
   "id": "3322a6a5-a048-42f3-a1ac-3124c0353599",
   "metadata": {
    "papermill": {
     "duration": null,
     "end_time": null,
     "exception": null,
     "start_time": null,
     "status": "pending"
    },
    "tags": [
     "exclude"
    ]
   },
   "outputs": [],
   "source": [
    "! git commit -m {\"'Bandai update-\" + timestamp.isoformat() + \"'\"}"
   ]
  }
 ],
 "metadata": {
  "kernelspec": {
   "display_name": "Python 3 (ipykernel)",
   "language": "python",
   "name": "python3"
  },
  "language_info": {
   "codemirror_mode": {
    "name": "ipython",
    "version": 3
   },
   "file_extension": ".py",
   "mimetype": "text/x-python",
   "name": "python",
   "nbconvert_exporter": "python",
   "pygments_lexer": "ipython3",
   "version": "3.10.8"
  },
  "papermill": {
   "default_parameters": {},
   "duration": null,
   "end_time": null,
   "environment_variables": {},
   "exception": null,
   "input_path": "Bandai.ipynb",
   "output_path": "Bandai.ipynb",
   "parameters": {},
   "start_time": "2023-05-01T22:21:50.671856",
   "version": "2.4.0"
  }
 },
 "nbformat": 4,
 "nbformat_minor": 5
}