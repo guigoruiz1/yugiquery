{
 "cells": [
  {
   "cell_type": "code",
   "execution_count": 1,
   "id": "9903a324-2402-461a-b8b3-9dec09caceb4",
   "metadata": {
    "execution": {
     "iopub.execute_input": "2023-02-19T18:16:26.414093Z",
     "iopub.status.busy": "2023-02-19T18:16:26.413194Z",
     "iopub.status.idle": "2023-02-19T18:16:28.573102Z",
     "shell.execute_reply": "2023-02-19T18:16:28.572048Z"
    },
    "papermill": {
     "duration": 2.182022,
     "end_time": "2023-02-19T18:16:28.584476",
     "exception": false,
     "start_time": "2023-02-19T18:16:26.402454",
     "status": "completed"
    },
    "tags": []
   },
   "outputs": [
    {
     "data": {
      "text/markdown": [
       "<div align='center'>\n",
       "    <br>\n",
       "    <!-- Pre Style needed to fix HTML formatting -->\n",
       "    <pre style=\"line-height: var(--jp-code-line-height); font-family: var(--jp-code-font-family)\">\n",
       "    ██    ██ ██    ██  ██████  ██  ██████  ██    ██ ███████ ██████  ██    ██ \n",
       "     ██  ██  ██    ██ ██       ██ ██    ██ ██    ██ ██      ██   ██  ██  ██  \n",
       "      ████   ██    ██ ██   ███ ██ ██    ██ ██    ██ █████   ██████    ████   \n",
       "       ██    ██    ██ ██    ██ ██ ██ ▄▄ ██ ██    ██ ██      ██   ██    ██    \n",
       "       ██     ██████   ██████  ██  ██████   ██████  ███████ ██   ██    ██    \n",
       "                                      ▀▀                                     \n",
       "    </pre>\n",
       "</div>\n",
       "<div align='right'>\n",
       "    Bandai - Execution started 19/02/2023 18:16 UTC <br>\n",
       "    By <b>Guilherme Ruiz</b>\n",
       "</div>"
      ],
      "text/plain": [
       "<IPython.core.display.Markdown object>"
      ]
     },
     "execution_count": 1,
     "metadata": {},
     "output_type": "execute_result"
    }
   ],
   "source": [
    "from yugiquery import *\n",
    "header('Bandai')"
   ]
  },
  {
   "cell_type": "markdown",
   "id": "9445cada-ce7a-4d46-a3e8-742439319435",
   "metadata": {
    "papermill": {
     "duration": 0.031671,
     "end_time": "2023-02-19T18:16:28.633692",
     "exception": false,
     "start_time": "2023-02-19T18:16:28.602021",
     "status": "completed"
    },
    "tags": []
   },
   "source": [
    "---"
   ]
  },
  {
   "cell_type": "markdown",
   "id": "ddf5afac-0c61-47d8-a0ad-f441a705eb88",
   "metadata": {
    "papermill": {
     "duration": 0.006408,
     "end_time": "2023-02-19T18:16:28.648178",
     "exception": false,
     "start_time": "2023-02-19T18:16:28.641770",
     "status": "completed"
    },
    "tags": []
   },
   "source": [
    "# Data aquisition"
   ]
  },
  {
   "cell_type": "markdown",
   "id": "cc75b862-8058-4db2-9499-446fd0d3042e",
   "metadata": {
    "papermill": {
     "duration": 0.006074,
     "end_time": "2023-02-19T18:16:28.660621",
     "exception": false,
     "start_time": "2023-02-19T18:16:28.654547",
     "status": "completed"
    },
    "tags": []
   },
   "source": [
    "## Fetch online data"
   ]
  },
  {
   "cell_type": "code",
   "execution_count": 2,
   "id": "9df14404-b603-4f17-b66e-5766bed0175b",
   "metadata": {
    "execution": {
     "iopub.execute_input": "2023-02-19T18:16:28.676039Z",
     "iopub.status.busy": "2023-02-19T18:16:28.674813Z",
     "iopub.status.idle": "2023-02-19T18:16:28.679953Z",
     "shell.execute_reply": "2023-02-19T18:16:28.679005Z"
    },
    "papermill": {
     "duration": 0.014962,
     "end_time": "2023-02-19T18:16:28.681938",
     "exception": false,
     "start_time": "2023-02-19T18:16:28.666976",
     "status": "completed"
    },
    "tags": []
   },
   "outputs": [],
   "source": [
    "timestamp = pd.Timestamp.now()"
   ]
  },
  {
   "cell_type": "code",
   "execution_count": 3,
   "id": "14ef7acb-4a59-47c4-9a24-40af02accbbc",
   "metadata": {
    "execution": {
     "iopub.execute_input": "2023-02-19T18:16:28.697621Z",
     "iopub.status.busy": "2023-02-19T18:16:28.696596Z",
     "iopub.status.idle": "2023-02-19T18:16:29.500005Z",
     "shell.execute_reply": "2023-02-19T18:16:29.499030Z"
    },
    "papermill": {
     "duration": 0.813944,
     "end_time": "2023-02-19T18:16:29.502685",
     "exception": false,
     "start_time": "2023-02-19T18:16:28.688741",
     "status": "completed"
    },
    "tags": []
   },
   "outputs": [],
   "source": [
    "bandai_data = requests.get('https://yugipedia.com/api.php?action=ask&format=json&query=[[Medium::Bandai]]|?English%20name=Name|?Card%20type|?Type=Monster%20type|?Level|?ATK|?DEF|?Bandai%20rule=Rule|?Bandai%20number=Card%20number|?Sets=Set|?Rarity?|?Ability|limit=200', headers=http_headers)"
   ]
  },
  {
   "cell_type": "code",
   "execution_count": 4,
   "id": "e29ba8f9-c3ad-4353-af35-9183e22a314b",
   "metadata": {
    "execution": {
     "iopub.execute_input": "2023-02-19T18:16:29.565860Z",
     "iopub.status.busy": "2023-02-19T18:16:29.564568Z",
     "iopub.status.idle": "2023-02-19T18:16:29.611313Z",
     "shell.execute_reply": "2023-02-19T18:16:29.610118Z"
    },
    "papermill": {
     "duration": 0.057952,
     "end_time": "2023-02-19T18:16:29.613914",
     "exception": false,
     "start_time": "2023-02-19T18:16:29.555962",
     "status": "completed"
    },
    "tags": []
   },
   "outputs": [],
   "source": [
    "bandai_df = format_df(\n",
    "    extract_results(bandai_data)\n",
    ").drop('Page name', axis=1)"
   ]
  },
  {
   "cell_type": "markdown",
   "id": "ae8c018f-312e-4582-b1ab-af7d06e3e9d1",
   "metadata": {
    "papermill": {
     "duration": 0.149986,
     "end_time": "2023-02-19T18:16:29.770859",
     "exception": false,
     "start_time": "2023-02-19T18:16:29.620873",
     "status": "completed"
    },
    "tags": []
   },
   "source": [
    "# Check changes"
   ]
  },
  {
   "cell_type": "markdown",
   "id": "6f3d5394-1deb-4877-8e8c-d3b4c389df86",
   "metadata": {
    "papermill": {
     "duration": 0.006782,
     "end_time": "2023-02-19T18:16:29.860837",
     "exception": false,
     "start_time": "2023-02-19T18:16:29.854055",
     "status": "completed"
    },
    "tags": []
   },
   "source": [
    "## Load previous data"
   ]
  },
  {
   "cell_type": "code",
   "execution_count": 5,
   "id": "b2004432-65fb-4341-bfe5-a04ad2147553",
   "metadata": {
    "execution": {
     "iopub.execute_input": "2023-02-19T18:16:29.876906Z",
     "iopub.status.busy": "2023-02-19T18:16:29.876329Z",
     "iopub.status.idle": "2023-02-19T18:16:29.884905Z",
     "shell.execute_reply": "2023-02-19T18:16:29.883988Z"
    },
    "papermill": {
     "duration": 0.020722,
     "end_time": "2023-02-19T18:16:29.888201",
     "exception": false,
     "start_time": "2023-02-19T18:16:29.867479",
     "status": "completed"
    },
    "tags": []
   },
   "outputs": [
    {
     "name": "stdout",
     "output_type": "stream",
     "text": [
      "No older files\n"
     ]
    }
   ],
   "source": [
    "# Get list of files\n",
    "files_list = sorted(glob.glob('../data/all_bandai_*.csv'), key=os.path.getctime, reverse=True)\n",
    "# Get second newest file if exist\n",
    "if files_list:\n",
    "    # Load csv avoiding converting \"NA\" to NaN\n",
    "    previous_df = pd.read_csv(files_list[0], dtype=object, keep_default_na=False, na_values=[''])\n",
    "    # Force dtypes to match current df\n",
    "    previous_df = previous_df.astype(bandai_df[previous_df.columns].dtypes.to_dict())\n",
    "    previous_ts = pd.to_datetime(os.path.basename(files_list[0]).split('_')[-1].rstrip('.csv'))\n",
    "    print('File loaded')\n",
    "else:\n",
    "    previous_df = None\n",
    "    print('No older files')"
   ]
  },
  {
   "cell_type": "markdown",
   "id": "96111a58-528d-4a95-94dc-2c8772fc8f81",
   "metadata": {
    "papermill": {
     "duration": 0.00686,
     "end_time": "2023-02-19T18:16:29.902146",
     "exception": false,
     "start_time": "2023-02-19T18:16:29.895286",
     "status": "completed"
    },
    "tags": []
   },
   "source": [
    "## Generate changelog"
   ]
  },
  {
   "cell_type": "code",
   "execution_count": 6,
   "id": "2022a407-d6c2-4ff0-8d8f-e8431901d436",
   "metadata": {
    "execution": {
     "iopub.execute_input": "2023-02-19T18:16:29.917658Z",
     "iopub.status.busy": "2023-02-19T18:16:29.917109Z",
     "iopub.status.idle": "2023-02-19T18:16:29.923601Z",
     "shell.execute_reply": "2023-02-19T18:16:29.922650Z"
    },
    "papermill": {
     "duration": 0.016708,
     "end_time": "2023-02-19T18:16:29.925611",
     "exception": false,
     "start_time": "2023-02-19T18:16:29.908903",
     "status": "completed"
    },
    "tags": []
   },
   "outputs": [
    {
     "name": "stdout",
     "output_type": "stream",
     "text": [
      "Skipped\n"
     ]
    }
   ],
   "source": [
    "if previous_df is None:\n",
    "    changelog=None\n",
    "    print('Skipped')\n",
    "else:\n",
    "    changelog = generate_changelog(previous_df, bandai_df, col = 'Name')\n",
    "    if not changelog.empty:\n",
    "        display(changelog)\n",
    "        changelog.to_csv(f'../data/bandai_changelog_{timestamp.isoformat(timespec=\"minutes\")}_{previous_ts.isoformat(timespec=\"minutes\")}.csv', index = True)\n",
    "        print('Changelog saved')"
   ]
  },
  {
   "cell_type": "markdown",
   "id": "c50bdfb0-a6d1-43d7-8c96-f9145e053946",
   "metadata": {
    "papermill": {
     "duration": 0.00651,
     "end_time": "2023-02-19T18:16:29.939208",
     "exception": false,
     "start_time": "2023-02-19T18:16:29.932698",
     "status": "completed"
    },
    "tags": []
   },
   "source": [
    "## Save data"
   ]
  },
  {
   "cell_type": "code",
   "execution_count": 7,
   "id": "c3aadd59-2d67-4c2a-81a4-3543bdbeb2f5",
   "metadata": {
    "execution": {
     "iopub.execute_input": "2023-02-19T18:16:29.955723Z",
     "iopub.status.busy": "2023-02-19T18:16:29.954796Z",
     "iopub.status.idle": "2023-02-19T18:16:29.995831Z",
     "shell.execute_reply": "2023-02-19T18:16:29.994846Z"
    },
    "papermill": {
     "duration": 0.051891,
     "end_time": "2023-02-19T18:16:29.997900",
     "exception": false,
     "start_time": "2023-02-19T18:16:29.946009",
     "status": "completed"
    },
    "tags": []
   },
   "outputs": [
    {
     "name": "stdout",
     "output_type": "stream",
     "text": [
      "Data saved\n"
     ]
    }
   ],
   "source": [
    "if changelog is not None and changelog.empty:\n",
    "    print('No changes. New data not saved')\n",
    "else:\n",
    "    bandai_df.to_csv(f'../data/all_bandai_{timestamp.isoformat(timespec=\"minutes\")}.csv', index=False)\n",
    "    print('Data saved')"
   ]
  },
  {
   "cell_type": "markdown",
   "id": "c64d414c-93b3-4464-b985-40bf135ddb1a",
   "metadata": {
    "papermill": {
     "duration": 0.00732,
     "end_time": "2023-02-19T18:16:30.012909",
     "exception": false,
     "start_time": "2023-02-19T18:16:30.005589",
     "status": "completed"
    },
    "tags": []
   },
   "source": [
    "# Data visualization"
   ]
  },
  {
   "cell_type": "code",
   "execution_count": 8,
   "id": "ca488153-6f4e-40ac-a4d1-7f7da4259c39",
   "metadata": {
    "execution": {
     "iopub.execute_input": "2023-02-19T18:16:30.029923Z",
     "iopub.status.busy": "2023-02-19T18:16:30.028794Z",
     "iopub.status.idle": "2023-02-19T18:16:30.053982Z",
     "shell.execute_reply": "2023-02-19T18:16:30.053054Z"
    },
    "papermill": {
     "duration": 0.036051,
     "end_time": "2023-02-19T18:16:30.056181",
     "exception": false,
     "start_time": "2023-02-19T18:16:30.020130",
     "status": "completed"
    },
    "tags": []
   },
   "outputs": [
    {
     "data": {
      "text/html": [
       "<div>\n",
       "<style scoped>\n",
       "    .dataframe tbody tr th:only-of-type {\n",
       "        vertical-align: middle;\n",
       "    }\n",
       "\n",
       "    .dataframe tbody tr th {\n",
       "        vertical-align: top;\n",
       "    }\n",
       "\n",
       "    .dataframe thead th {\n",
       "        text-align: right;\n",
       "    }\n",
       "</style>\n",
       "<table border=\"1\" class=\"dataframe\">\n",
       "  <thead>\n",
       "    <tr style=\"text-align: right;\">\n",
       "      <th></th>\n",
       "      <th>Name</th>\n",
       "      <th>Card type</th>\n",
       "      <th>Monster type</th>\n",
       "      <th>DEF</th>\n",
       "      <th>Set</th>\n",
       "      <th>Card number</th>\n",
       "      <th>Ability</th>\n",
       "      <th>Rule</th>\n",
       "      <th>ATK</th>\n",
       "      <th>Level</th>\n",
       "      <th>Page URL</th>\n",
       "    </tr>\n",
       "  </thead>\n",
       "  <tbody>\n",
       "    <tr>\n",
       "      <th>Aphrodite</th>\n",
       "      <td>Aphrodite</td>\n",
       "      <td>Monster Card</td>\n",
       "      <td>White Magic</td>\n",
       "      <td>2300</td>\n",
       "      <td>Yu-Gi-Oh! Bandai OCG: 1st Generation</td>\n",
       "      <td>22</td>\n",
       "      <td>NaN</td>\n",
       "      <td>4</td>\n",
       "      <td>1000</td>\n",
       "      <td>5</td>\n",
       "      <td>https://yugipedia.com/wiki/Aphrodite</td>\n",
       "    </tr>\n",
       "    <tr>\n",
       "      <th>Armored Basic Insect with Laser Cannon</th>\n",
       "      <td>Armored Basic Insect with Laser Cannon</td>\n",
       "      <td>Monster Card</td>\n",
       "      <td>Insect</td>\n",
       "      <td>1300</td>\n",
       "      <td>Yu-Gi-Oh! Bandai OCG: 1st Generation</td>\n",
       "      <td>17</td>\n",
       "      <td>NaN</td>\n",
       "      <td>8</td>\n",
       "      <td>2400</td>\n",
       "      <td>6</td>\n",
       "      <td>https://yugipedia.com/wiki/Armored_Basic_Insec...</td>\n",
       "    </tr>\n",
       "    <tr>\n",
       "      <th>Armored Lizard (Bandai)</th>\n",
       "      <td>Armored Lizard</td>\n",
       "      <td>Monster Card</td>\n",
       "      <td>Beast-Warrior</td>\n",
       "      <td>2000</td>\n",
       "      <td>Yu-Gi-Oh! Bandai OCG: 2nd Generation</td>\n",
       "      <td>73</td>\n",
       "      <td>NaN</td>\n",
       "      <td>6</td>\n",
       "      <td>1800</td>\n",
       "      <td>5</td>\n",
       "      <td>https://yugipedia.com/wiki/Armored_Lizard_(Ban...</td>\n",
       "    </tr>\n",
       "    <tr>\n",
       "      <th>Armored Zombie (Bandai)</th>\n",
       "      <td>Armored Zombie</td>\n",
       "      <td>Monster Card</td>\n",
       "      <td>Fiend</td>\n",
       "      <td>0</td>\n",
       "      <td>Yu-Gi-Oh! Bandai OCG: 2nd Generation</td>\n",
       "      <td>80</td>\n",
       "      <td>NaN</td>\n",
       "      <td>11</td>\n",
       "      <td>2400</td>\n",
       "      <td>4</td>\n",
       "      <td>https://yugipedia.com/wiki/Armored_Zombie_(Ban...</td>\n",
       "    </tr>\n",
       "    <tr>\n",
       "      <th>Axe Raider (Bandai)</th>\n",
       "      <td>Axe Raider</td>\n",
       "      <td>Monster Card</td>\n",
       "      <td>Warrior</td>\n",
       "      <td>1500</td>\n",
       "      <td>Yu-Gi-Oh! Bandai OCG: 2nd Generation</td>\n",
       "      <td>60</td>\n",
       "      <td>NaN</td>\n",
       "      <td>7</td>\n",
       "      <td>2300</td>\n",
       "      <td>6</td>\n",
       "      <td>https://yugipedia.com/wiki/Axe_Raider_(Bandai)</td>\n",
       "    </tr>\n",
       "    <tr>\n",
       "      <th>...</th>\n",
       "      <td>...</td>\n",
       "      <td>...</td>\n",
       "      <td>...</td>\n",
       "      <td>...</td>\n",
       "      <td>...</td>\n",
       "      <td>...</td>\n",
       "      <td>...</td>\n",
       "      <td>...</td>\n",
       "      <td>...</td>\n",
       "      <td>...</td>\n",
       "      <td>...</td>\n",
       "    </tr>\n",
       "    <tr>\n",
       "      <th>The Wicked Worm Beast (Bandai)</th>\n",
       "      <td>The Wicked Worm Beast</td>\n",
       "      <td>Monster Card</td>\n",
       "      <td>Fiend</td>\n",
       "      <td>600</td>\n",
       "      <td>Yu-Gi-Oh! Bandai OCG: 3rd Generation</td>\n",
       "      <td>94</td>\n",
       "      <td>NaN</td>\n",
       "      <td>5</td>\n",
       "      <td>2400</td>\n",
       "      <td>5</td>\n",
       "      <td>https://yugipedia.com/wiki/The_Wicked_Worm_Bea...</td>\n",
       "    </tr>\n",
       "    <tr>\n",
       "      <th>Winged Dragon, Guardian of the Fortress 1 (Bandai)</th>\n",
       "      <td>Winged Dragon, Guardian of the Fortress #1</td>\n",
       "      <td>Monster Card</td>\n",
       "      <td>Dragon</td>\n",
       "      <td>1600</td>\n",
       "      <td>Yu-Gi-Oh! Bandai OCG: 1st Generation</td>\n",
       "      <td>23</td>\n",
       "      <td>NaN</td>\n",
       "      <td>5</td>\n",
       "      <td>1700</td>\n",
       "      <td>4</td>\n",
       "      <td>https://yugipedia.com/wiki/Winged_Dragon,_Guar...</td>\n",
       "    </tr>\n",
       "    <tr>\n",
       "      <th>Yellow Hecate</th>\n",
       "      <td>Yellow Hecate</td>\n",
       "      <td>Monster Card</td>\n",
       "      <td>Black Magic</td>\n",
       "      <td>1500</td>\n",
       "      <td>Yu-Gi-Oh! Bandai OCG: 3rd Generation</td>\n",
       "      <td>98</td>\n",
       "      <td>NaN</td>\n",
       "      <td>NaN</td>\n",
       "      <td>1500</td>\n",
       "      <td>4</td>\n",
       "      <td>https://yugipedia.com/wiki/Yellow_Hecate</td>\n",
       "    </tr>\n",
       "    <tr>\n",
       "      <th>Yugi Muto (Bandai)</th>\n",
       "      <td>Yugi Muto</td>\n",
       "      <td>Character Card</td>\n",
       "      <td>NaN</td>\n",
       "      <td>NaN</td>\n",
       "      <td>Yu-Gi-Oh! Bandai OCG: 1st Generation</td>\n",
       "      <td>1</td>\n",
       "      <td>Look Ahead</td>\n",
       "      <td>1</td>\n",
       "      <td>NaN</td>\n",
       "      <td>6</td>\n",
       "      <td>https://yugipedia.com/wiki/Yugi_Muto_(Bandai)</td>\n",
       "    </tr>\n",
       "    <tr>\n",
       "      <th>Yugi Muto (Yami Bandai)</th>\n",
       "      <td>Yugi Muto</td>\n",
       "      <td>Character Card</td>\n",
       "      <td>NaN</td>\n",
       "      <td>NaN</td>\n",
       "      <td>Yu-Gi-Oh! Bandai OCG: 1st Generation</td>\n",
       "      <td>2</td>\n",
       "      <td>Shadow Game</td>\n",
       "      <td>2</td>\n",
       "      <td>NaN</td>\n",
       "      <td>8</td>\n",
       "      <td>https://yugipedia.com/wiki/Yugi_Muto_(Yami_Ban...</td>\n",
       "    </tr>\n",
       "  </tbody>\n",
       "</table>\n",
       "<p>120 rows × 11 columns</p>\n",
       "</div>"
      ],
      "text/plain": [
       "                                                                                          Name  \\\n",
       "Aphrodite                                                                            Aphrodite   \n",
       "Armored Basic Insect with Laser Cannon                  Armored Basic Insect with Laser Cannon   \n",
       "Armored Lizard (Bandai)                                                         Armored Lizard   \n",
       "Armored Zombie (Bandai)                                                         Armored Zombie   \n",
       "Axe Raider (Bandai)                                                                 Axe Raider   \n",
       "...                                                                                        ...   \n",
       "The Wicked Worm Beast (Bandai)                                           The Wicked Worm Beast   \n",
       "Winged Dragon, Guardian of the Fortress 1 (Bandai)  Winged Dragon, Guardian of the Fortress #1   \n",
       "Yellow Hecate                                                                    Yellow Hecate   \n",
       "Yugi Muto (Bandai)                                                                   Yugi Muto   \n",
       "Yugi Muto (Yami Bandai)                                                              Yugi Muto   \n",
       "\n",
       "                                                         Card type  \\\n",
       "Aphrodite                                             Monster Card   \n",
       "Armored Basic Insect with Laser Cannon                Monster Card   \n",
       "Armored Lizard (Bandai)                               Monster Card   \n",
       "Armored Zombie (Bandai)                               Monster Card   \n",
       "Axe Raider (Bandai)                                   Monster Card   \n",
       "...                                                            ...   \n",
       "The Wicked Worm Beast (Bandai)                        Monster Card   \n",
       "Winged Dragon, Guardian of the Fortress 1 (Bandai)    Monster Card   \n",
       "Yellow Hecate                                         Monster Card   \n",
       "Yugi Muto (Bandai)                                  Character Card   \n",
       "Yugi Muto (Yami Bandai)                             Character Card   \n",
       "\n",
       "                                                     Monster type   DEF  \\\n",
       "Aphrodite                                             White Magic  2300   \n",
       "Armored Basic Insect with Laser Cannon                     Insect  1300   \n",
       "Armored Lizard (Bandai)                             Beast-Warrior  2000   \n",
       "Armored Zombie (Bandai)                                     Fiend     0   \n",
       "Axe Raider (Bandai)                                       Warrior  1500   \n",
       "...                                                           ...   ...   \n",
       "The Wicked Worm Beast (Bandai)                              Fiend   600   \n",
       "Winged Dragon, Guardian of the Fortress 1 (Bandai)         Dragon  1600   \n",
       "Yellow Hecate                                         Black Magic  1500   \n",
       "Yugi Muto (Bandai)                                            NaN   NaN   \n",
       "Yugi Muto (Yami Bandai)                                       NaN   NaN   \n",
       "\n",
       "                                                                                     Set  \\\n",
       "Aphrodite                                           Yu-Gi-Oh! Bandai OCG: 1st Generation   \n",
       "Armored Basic Insect with Laser Cannon              Yu-Gi-Oh! Bandai OCG: 1st Generation   \n",
       "Armored Lizard (Bandai)                             Yu-Gi-Oh! Bandai OCG: 2nd Generation   \n",
       "Armored Zombie (Bandai)                             Yu-Gi-Oh! Bandai OCG: 2nd Generation   \n",
       "Axe Raider (Bandai)                                 Yu-Gi-Oh! Bandai OCG: 2nd Generation   \n",
       "...                                                                                  ...   \n",
       "The Wicked Worm Beast (Bandai)                      Yu-Gi-Oh! Bandai OCG: 3rd Generation   \n",
       "Winged Dragon, Guardian of the Fortress 1 (Bandai)  Yu-Gi-Oh! Bandai OCG: 1st Generation   \n",
       "Yellow Hecate                                       Yu-Gi-Oh! Bandai OCG: 3rd Generation   \n",
       "Yugi Muto (Bandai)                                  Yu-Gi-Oh! Bandai OCG: 1st Generation   \n",
       "Yugi Muto (Yami Bandai)                             Yu-Gi-Oh! Bandai OCG: 1st Generation   \n",
       "\n",
       "                                                   Card number      Ability  \\\n",
       "Aphrodite                                                   22          NaN   \n",
       "Armored Basic Insect with Laser Cannon                      17          NaN   \n",
       "Armored Lizard (Bandai)                                     73          NaN   \n",
       "Armored Zombie (Bandai)                                     80          NaN   \n",
       "Axe Raider (Bandai)                                         60          NaN   \n",
       "...                                                        ...          ...   \n",
       "The Wicked Worm Beast (Bandai)                              94          NaN   \n",
       "Winged Dragon, Guardian of the Fortress 1 (Bandai)          23          NaN   \n",
       "Yellow Hecate                                               98          NaN   \n",
       "Yugi Muto (Bandai)                                           1   Look Ahead   \n",
       "Yugi Muto (Yami Bandai)                                      2  Shadow Game   \n",
       "\n",
       "                                                   Rule   ATK Level  \\\n",
       "Aphrodite                                             4  1000     5   \n",
       "Armored Basic Insect with Laser Cannon                8  2400     6   \n",
       "Armored Lizard (Bandai)                               6  1800     5   \n",
       "Armored Zombie (Bandai)                              11  2400     4   \n",
       "Axe Raider (Bandai)                                   7  2300     6   \n",
       "...                                                 ...   ...   ...   \n",
       "The Wicked Worm Beast (Bandai)                        5  2400     5   \n",
       "Winged Dragon, Guardian of the Fortress 1 (Bandai)    5  1700     4   \n",
       "Yellow Hecate                                       NaN  1500     4   \n",
       "Yugi Muto (Bandai)                                    1   NaN     6   \n",
       "Yugi Muto (Yami Bandai)                               2   NaN     8   \n",
       "\n",
       "                                                                                             Page URL  \n",
       "Aphrodite                                                        https://yugipedia.com/wiki/Aphrodite  \n",
       "Armored Basic Insect with Laser Cannon              https://yugipedia.com/wiki/Armored_Basic_Insec...  \n",
       "Armored Lizard (Bandai)                             https://yugipedia.com/wiki/Armored_Lizard_(Ban...  \n",
       "Armored Zombie (Bandai)                             https://yugipedia.com/wiki/Armored_Zombie_(Ban...  \n",
       "Axe Raider (Bandai)                                    https://yugipedia.com/wiki/Axe_Raider_(Bandai)  \n",
       "...                                                                                               ...  \n",
       "The Wicked Worm Beast (Bandai)                      https://yugipedia.com/wiki/The_Wicked_Worm_Bea...  \n",
       "Winged Dragon, Guardian of the Fortress 1 (Bandai)  https://yugipedia.com/wiki/Winged_Dragon,_Guar...  \n",
       "Yellow Hecate                                                https://yugipedia.com/wiki/Yellow_Hecate  \n",
       "Yugi Muto (Bandai)                                      https://yugipedia.com/wiki/Yugi_Muto_(Bandai)  \n",
       "Yugi Muto (Yami Bandai)                             https://yugipedia.com/wiki/Yugi_Muto_(Yami_Ban...  \n",
       "\n",
       "[120 rows x 11 columns]"
      ]
     },
     "execution_count": 8,
     "metadata": {},
     "output_type": "execute_result"
    }
   ],
   "source": [
    "bandai_df"
   ]
  },
  {
   "cell_type": "markdown",
   "id": "1b6f5f73-c9cd-483c-96da-54174938da5a",
   "metadata": {
    "papermill": {
     "duration": 0.007442,
     "end_time": "2023-02-19T18:16:30.071408",
     "exception": false,
     "start_time": "2023-02-19T18:16:30.063966",
     "status": "completed"
    },
    "tags": []
   },
   "source": [
    "# Epilogue"
   ]
  },
  {
   "cell_type": "code",
   "execution_count": 9,
   "id": "9ebe9200-4e74-4db0-8f10-d7b258b9ef7c",
   "metadata": {
    "execution": {
     "iopub.execute_input": "2023-02-19T18:16:30.088990Z",
     "iopub.status.busy": "2023-02-19T18:16:30.088293Z",
     "iopub.status.idle": "2023-02-19T18:16:30.096142Z",
     "shell.execute_reply": "2023-02-19T18:16:30.095166Z"
    },
    "papermill": {
     "duration": 0.0192,
     "end_time": "2023-02-19T18:16:30.098260",
     "exception": false,
     "start_time": "2023-02-19T18:16:30.079060",
     "status": "completed"
    },
    "tags": []
   },
   "outputs": [],
   "source": [
    "benchmark('bandai',timestamp)"
   ]
  },
  {
   "cell_type": "code",
   "execution_count": 10,
   "id": "eae8bd03-02f4-486d-9ae0-ddc7227985f2",
   "metadata": {
    "execution": {
     "iopub.execute_input": "2023-02-19T18:16:30.119867Z",
     "iopub.status.busy": "2023-02-19T18:16:30.119346Z",
     "iopub.status.idle": "2023-02-19T18:16:30.126095Z",
     "shell.execute_reply": "2023-02-19T18:16:30.125131Z"
    },
    "papermill": {
     "duration": 0.020465,
     "end_time": "2023-02-19T18:16:30.128369",
     "exception": false,
     "start_time": "2023-02-19T18:16:30.107904",
     "status": "completed"
    },
    "tags": []
   },
   "outputs": [
    {
     "data": {
      "text/markdown": [
       "<div align='right'>\n",
       "    Execution completed 19/02/2023 18:16 UTC\n",
       "</div>"
      ],
      "text/plain": [
       "<IPython.core.display.Markdown object>"
      ]
     },
     "execution_count": 10,
     "metadata": {},
     "output_type": "execute_result"
    }
   ],
   "source": [
    "footer()"
   ]
  },
  {
   "cell_type": "markdown",
   "id": "f8ddd2ba-01d3-4b5d-901a-62ea4f793309",
   "metadata": {
    "papermill": {
     "duration": 0.007596,
     "end_time": "2023-02-19T18:16:30.144098",
     "exception": false,
     "start_time": "2023-02-19T18:16:30.136502",
     "status": "completed"
    },
    "tags": []
   },
   "source": [
    "## HTML export"
   ]
  },
  {
   "cell_type": "code",
   "execution_count": 11,
   "id": "1f2182a7-7cc8-4959-8af5-ba7ea26439a7",
   "metadata": {
    "execution": {
     "iopub.execute_input": "2023-02-19T18:16:30.161936Z",
     "iopub.status.busy": "2023-02-19T18:16:30.161215Z",
     "iopub.status.idle": "2023-02-19T18:16:30.170487Z",
     "shell.execute_reply": "2023-02-19T18:16:30.169609Z"
    },
    "papermill": {
     "duration": 0.023285,
     "end_time": "2023-02-19T18:16:30.175083",
     "exception": false,
     "start_time": "2023-02-19T18:16:30.151798",
     "status": "completed"
    },
    "tags": []
   },
   "outputs": [
    {
     "name": "stdout",
     "output_type": "stream",
     "text": [
      "Notebook saved to disk\n"
     ]
    }
   ],
   "source": [
    "# Save notebook on disck before generating HTML report\n",
    "save_notebook()"
   ]
  },
  {
   "cell_type": "code",
   "execution_count": 12,
   "id": "d7137575-20bb-4fb2-b32e-0d9de2d1cba7",
   "metadata": {
    "execution": {
     "iopub.execute_input": "2023-02-19T18:16:30.194092Z",
     "iopub.status.busy": "2023-02-19T18:16:30.192878Z",
     "iopub.status.idle": "2023-02-19T18:16:33.309093Z",
     "shell.execute_reply": "2023-02-19T18:16:33.307903Z"
    },
    "papermill": {
     "duration": 3.129065,
     "end_time": "2023-02-19T18:16:33.312340",
     "exception": false,
     "start_time": "2023-02-19T18:16:30.183275",
     "status": "completed"
    },
    "tags": []
   },
   "outputs": [
    {
     "name": "stdout",
     "output_type": "stream",
     "text": [
      "WARNING: Insecure writes have been enabled via environment variable 'JUPYTER_ALLOW_INSECURE_WRITES'! If this is not intended, remove the variable or set its value to 'False'.\r\n"
     ]
    },
    {
     "name": "stdout",
     "output_type": "stream",
     "text": [
      "[NbConvertApp] Converting notebook Bandai.ipynb to HTML\r\n"
     ]
    },
    {
     "name": "stdout",
     "output_type": "stream",
     "text": [
      "[NbConvertApp] Writing 587357 bytes to ../Bandai.html\r\n"
     ]
    }
   ],
   "source": [
    "! jupyter nbconvert Bandai.ipynb --output-dir='../' --to=HTML --TagRemovePreprocessor.enabled=True --TagRemovePreprocessor.remove_cell_tags='exclude' --TemplateExporter.exclude_input=True --TemplateExporter.exclude_input_prompt=True --TemplateExporter.exclude_output_prompt=True"
   ]
  },
  {
   "cell_type": "markdown",
   "id": "a28db6c7-1f12-497c-adc6-660f199e3369",
   "metadata": {
    "papermill": {
     "duration": 0.053486,
     "end_time": "2023-02-19T18:16:33.389797",
     "exception": false,
     "start_time": "2023-02-19T18:16:33.336311",
     "status": "completed"
    },
    "tags": [
     "exclude"
    ]
   },
   "source": [
    "## Git"
   ]
  },
  {
   "cell_type": "code",
   "execution_count": null,
   "id": "0883fa53-b0b8-4ce2-ac96-559df31c9c58",
   "metadata": {
    "papermill": {
     "duration": null,
     "end_time": null,
     "exception": false,
     "start_time": "2023-02-19T18:16:33.399173",
     "status": "running"
    },
    "tags": [
     "exclude"
    ]
   },
   "outputs": [],
   "source": [
    "! git add \"../*[Bb]andai*\""
   ]
  },
  {
   "cell_type": "code",
   "execution_count": null,
   "id": "3322a6a5-a048-42f3-a1ac-3124c0353599",
   "metadata": {
    "papermill": {
     "duration": null,
     "end_time": null,
     "exception": null,
     "start_time": null,
     "status": "pending"
    },
    "tags": [
     "exclude"
    ]
   },
   "outputs": [],
   "source": [
    "! git commit -m {\"'Bandai update-\" + timestamp.isoformat() + \"'\"}"
   ]
  }
 ],
 "metadata": {
  "kernelspec": {
   "display_name": "Python 3 (ipykernel)",
   "language": "python",
   "name": "python3"
  },
  "language_info": {
   "codemirror_mode": {
    "name": "ipython",
    "version": 3
   },
   "file_extension": ".py",
   "mimetype": "text/x-python",
   "name": "python",
   "nbconvert_exporter": "python",
   "pygments_lexer": "ipython3",
   "version": "3.10.8"
  },
  "papermill": {
   "default_parameters": {},
   "duration": null,
   "end_time": null,
   "environment_variables": {},
   "exception": null,
   "input_path": "Bandai.ipynb",
   "output_path": "Bandai.ipynb",
   "parameters": {},
   "start_time": "2023-02-19T18:16:24.446755",
   "version": "2.4.0"
  }
 },
 "nbformat": 4,
 "nbformat_minor": 5
}