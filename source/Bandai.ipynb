{
 "cells": [
  {
   "cell_type": "code",
   "execution_count": null,
   "id": "9903a324-2402-461a-b8b3-9dec09caceb4",
   "metadata": {
    "papermill": {
     "duration": 2.474154,
     "end_time": "2023-02-26T20:48:32.367015",
     "exception": false,
     "start_time": "2023-02-26T20:48:29.892861",
     "status": "completed"
    },
    "tags": []
   },
   "outputs": [],
   "source": [
    "from yugiquery import *\n",
    "header('Bandai')"
   ]
  },
  {
   "cell_type": "markdown",
   "id": "9445cada-ce7a-4d46-a3e8-742439319435",
   "metadata": {
    "papermill": {
     "duration": 0.035407,
     "end_time": "2023-02-26T20:48:32.418065",
     "exception": false,
     "start_time": "2023-02-26T20:48:32.382658",
     "status": "completed"
    },
    "tags": []
   },
   "source": [
    "---"
   ]
  },
  {
   "cell_type": "markdown",
   "id": "ddf5afac-0c61-47d8-a0ad-f441a705eb88",
   "metadata": {
    "papermill": {
     "duration": 0.01108,
     "end_time": "2023-02-26T20:48:32.440507",
     "exception": false,
     "start_time": "2023-02-26T20:48:32.429427",
     "status": "completed"
    },
    "tags": []
   },
   "source": [
    "# Data aquisition"
   ]
  },
  {
   "cell_type": "markdown",
   "id": "cc75b862-8058-4db2-9499-446fd0d3042e",
   "metadata": {
    "papermill": {
     "duration": 0.012037,
     "end_time": "2023-02-26T20:48:32.465808",
     "exception": false,
     "start_time": "2023-02-26T20:48:32.453771",
     "status": "completed"
    },
    "tags": []
   },
   "source": [
    "## Fetch online data"
   ]
  },
  {
   "cell_type": "code",
   "execution_count": null,
   "id": "9df14404-b603-4f17-b66e-5766bed0175b",
   "metadata": {
    "papermill": {
     "duration": 0.023066,
     "end_time": "2023-02-26T20:48:32.500231",
     "exception": false,
     "start_time": "2023-02-26T20:48:32.477165",
     "status": "completed"
    },
    "tags": []
   },
   "outputs": [],
   "source": [
    "timestamp = pd.Timestamp.now()"
   ]
  },
  {
   "cell_type": "code",
   "execution_count": null,
   "id": "e29ba8f9-c3ad-4353-af35-9183e22a314b",
   "metadata": {
    "papermill": {
     "duration": 1.08694,
     "end_time": "2023-02-26T20:48:33.599625",
     "exception": false,
     "start_time": "2023-02-26T20:48:32.512685",
     "status": "completed"
    },
    "tags": []
   },
   "outputs": [],
   "source": [
    "bandai_df = fetch_bandai()"
   ]
  },
  {
   "cell_type": "markdown",
   "id": "ae8c018f-312e-4582-b1ab-af7d06e3e9d1",
   "metadata": {
    "papermill": {
     "duration": 0.072092,
     "end_time": "2023-02-26T20:48:33.684098",
     "exception": false,
     "start_time": "2023-02-26T20:48:33.612006",
     "status": "completed"
    },
    "tags": []
   },
   "source": [
    "# Check changes"
   ]
  },
  {
   "cell_type": "markdown",
   "id": "6f3d5394-1deb-4877-8e8c-d3b4c389df86",
   "metadata": {
    "papermill": {
     "duration": 0.011734,
     "end_time": "2023-02-26T20:48:33.709670",
     "exception": false,
     "start_time": "2023-02-26T20:48:33.697936",
     "status": "completed"
    },
    "tags": []
   },
   "source": [
    "## Load previous data"
   ]
  },
  {
   "cell_type": "code",
   "execution_count": null,
   "id": "b2004432-65fb-4341-bfe5-a04ad2147553",
   "metadata": {
    "papermill": {
     "duration": 0.105042,
     "end_time": "2023-02-26T20:48:33.826579",
     "exception": false,
     "start_time": "2023-02-26T20:48:33.721537",
     "status": "completed"
    },
    "tags": []
   },
   "outputs": [],
   "source": [
    "# Get list of files\n",
    "files_list = sorted(glob.glob('../data/all_bandai_*.csv'), key=os.path.getctime, reverse=True)\n",
    "# Get second newest file if exist\n",
    "if files_list:\n",
    "    latest_file = files_list[0]\n",
    "    # Load csv avoiding converting \"NA\" to NaN\n",
    "    previous_df = pd.read_csv(latest_file, dtype=object, keep_default_na=False, na_values=[''])\n",
    "    # Force dtypes to match current df\n",
    "    previous_df = previous_df.astype(bandai_df[previous_df.columns.intersection(bandai_df.columns)].dtypes.to_dict())\n",
    "    previous_ts = pd.to_datetime(os.path.basename(latest_file).split('_')[-1].rstrip('.csv'))\n",
    "    print('File loaded')\n",
    "else:\n",
    "    previous_df = None\n",
    "    print('No older files')"
   ]
  },
  {
   "cell_type": "markdown",
   "id": "96111a58-528d-4a95-94dc-2c8772fc8f81",
   "metadata": {
    "papermill": {
     "duration": 0.011853,
     "end_time": "2023-02-26T20:48:33.852525",
     "exception": false,
     "start_time": "2023-02-26T20:48:33.840672",
     "status": "completed"
    },
    "tags": []
   },
   "source": [
    "## Generate changelog"
   ]
  },
  {
   "cell_type": "code",
   "execution_count": null,
   "id": "2022a407-d6c2-4ff0-8d8f-e8431901d436",
   "metadata": {
    "papermill": {
     "duration": 0.058135,
     "end_time": "2023-02-26T20:48:33.922968",
     "exception": false,
     "start_time": "2023-02-26T20:48:33.864833",
     "status": "completed"
    },
    "tags": []
   },
   "outputs": [],
   "source": [
    "if previous_df is None:\n",
    "    changelog=None\n",
    "    print('Skipped')\n",
    "else:\n",
    "    changelog = generate_changelog(previous_df, bandai_df, col = 'Name')\n",
    "    if not changelog.empty:\n",
    "        display(changelog)\n",
    "        changelog.to_csv(f'../data/bandai_changelog_{previous_ts.isoformat(timespec=\"minutes\")}_{timestamp.isoformat(timespec=\"minutes\")}.csv', index = True)\n",
    "        print('Changelog saved')"
   ]
  },
  {
   "cell_type": "markdown",
   "id": "c50bdfb0-a6d1-43d7-8c96-f9145e053946",
   "metadata": {
    "papermill": {
     "duration": 0.012806,
     "end_time": "2023-02-26T20:48:33.953698",
     "exception": false,
     "start_time": "2023-02-26T20:48:33.940892",
     "status": "completed"
    },
    "tags": []
   },
   "source": [
    "## Save data"
   ]
  },
  {
   "cell_type": "code",
   "execution_count": null,
   "id": "c3aadd59-2d67-4c2a-81a4-3543bdbeb2f5",
   "metadata": {
    "papermill": {
     "duration": 0.025899,
     "end_time": "2023-02-26T20:48:33.992051",
     "exception": false,
     "start_time": "2023-02-26T20:48:33.966152",
     "status": "completed"
    },
    "tags": []
   },
   "outputs": [],
   "source": [
    "if changelog is not None and changelog.empty:\n",
    "    print('No changes. New data not saved')\n",
    "else:\n",
    "    bandai_df.to_csv(f'../data/all_bandai_{timestamp.isoformat(timespec=\"minutes\")}.csv', index=False)\n",
    "    print('Data saved')"
   ]
  },
  {
   "cell_type": "markdown",
   "id": "c64d414c-93b3-4464-b985-40bf135ddb1a",
   "metadata": {
    "papermill": {
     "duration": 0.012235,
     "end_time": "2023-02-26T20:48:34.016492",
     "exception": false,
     "start_time": "2023-02-26T20:48:34.004257",
     "status": "completed"
    },
    "tags": []
   },
   "source": [
    "# Data visualization"
   ]
  },
  {
   "cell_type": "code",
   "execution_count": null,
   "id": "56b6402a-ade8-44fc-9e6d-c46b54e6bd6f",
   "metadata": {
    "papermill": {
     "duration": 0.088124,
     "end_time": "2023-02-26T20:48:34.117099",
     "exception": false,
     "start_time": "2023-02-26T20:48:34.028975",
     "status": "completed"
    },
    "tags": []
   },
   "outputs": [],
   "source": [
    "bandai_df"
   ]
  },
  {
   "cell_type": "markdown",
   "id": "f31c671e-6e38-4f7c-b2e2-40a434e444d1",
   "metadata": {
    "papermill": {
     "duration": 0.012578,
     "end_time": "2023-02-26T20:48:34.143774",
     "exception": false,
     "start_time": "2023-02-26T20:48:34.131196",
     "status": "completed"
    },
    "tags": []
   },
   "source": [
    "## Card type"
   ]
  },
  {
   "cell_type": "code",
   "execution_count": null,
   "id": "1403be1f-b22b-47a1-854c-8258ba7bde97",
   "metadata": {
    "papermill": {
     "duration": 0.028506,
     "end_time": "2023-02-26T20:48:34.185045",
     "exception": false,
     "start_time": "2023-02-26T20:48:34.156539",
     "status": "completed"
    },
    "tags": []
   },
   "outputs": [],
   "source": [
    "print('Total number of card types:', bandai_df['Card type'].nunique())"
   ]
  },
  {
   "cell_type": "code",
   "execution_count": null,
   "id": "d2f71e96-730c-4b69-afdb-3c0e128caae2",
   "metadata": {
    "papermill": {
     "duration": 0.95479,
     "end_time": "2023-02-26T20:48:35.153322",
     "exception": false,
     "start_time": "2023-02-26T20:48:34.198532",
     "status": "completed"
    },
    "tags": []
   },
   "outputs": [],
   "source": [
    "card_type_colors = [colors_dict[i] for i in bandai_df['Card type'].value_counts().index]\n",
    "bandai_df['Card type'].value_counts().plot.bar(figsize = (18,6), grid = True, rot=0, color = card_type_colors, title = 'Card type')\n",
    "plt.show()"
   ]
  },
  {
   "cell_type": "markdown",
   "id": "00c6b243-67ad-42c5-9189-4d2d33c5372c",
   "metadata": {
    "papermill": {
     "duration": 0.013933,
     "end_time": "2023-02-26T20:48:35.182054",
     "exception": false,
     "start_time": "2023-02-26T20:48:35.168121",
     "status": "completed"
    },
    "tags": []
   },
   "source": [
    "## ATK"
   ]
  },
  {
   "cell_type": "code",
   "execution_count": null,
   "id": "1b5db865",
   "metadata": {
    "papermill": {
     "duration": 0.0297,
     "end_time": "2023-02-26T20:48:35.225707",
     "exception": false,
     "start_time": "2023-02-26T20:48:35.196007",
     "status": "completed"
    },
    "tags": []
   },
   "outputs": [],
   "source": [
    "print('Total number of ATK values:', bandai_df['ATK'].nunique())"
   ]
  },
  {
   "cell_type": "code",
   "execution_count": null,
   "id": "16b9aa14",
   "metadata": {
    "papermill": {
     "duration": 0.053541,
     "end_time": "2023-02-26T20:48:35.293696",
     "exception": false,
     "start_time": "2023-02-26T20:48:35.240155",
     "status": "completed"
    },
    "tags": []
   },
   "outputs": [],
   "source": [
    "bandai_df.drop(columns=['Card type', 'Page name', 'Page URL']).groupby('ATK').nunique().sort_index(key=lambda x: pd.to_numeric(x, errors = 'coerce'))"
   ]
  },
  {
   "cell_type": "code",
   "execution_count": null,
   "id": "3b1b2e1d",
   "metadata": {
    "papermill": {
     "duration": 0.466271,
     "end_time": "2023-02-26T20:48:35.776709",
     "exception": false,
     "start_time": "2023-02-26T20:48:35.310438",
     "status": "completed"
    },
    "tags": []
   },
   "outputs": [],
   "source": [
    "atk_colors = colors_dict['Monster Card']\n",
    "bandai_df['ATK'].value_counts().sort_index(key=lambda x: pd.to_numeric(x, errors = 'coerce')).plot.bar(figsize = (18,6), grid = True, color = atk_colors, title = 'ATK')\n",
    "plt.show()"
   ]
  },
  {
   "cell_type": "markdown",
   "id": "8c7f10ac-6c4e-42fe-be55-c2ea61abb7ae",
   "metadata": {
    "papermill": {
     "duration": 0.061858,
     "end_time": "2023-02-26T20:48:35.860269",
     "exception": false,
     "start_time": "2023-02-26T20:48:35.798411",
     "status": "completed"
    },
    "tags": []
   },
   "source": [
    "## DEF"
   ]
  },
  {
   "cell_type": "code",
   "execution_count": null,
   "id": "2aa0ba61",
   "metadata": {
    "papermill": {
     "duration": 0.032192,
     "end_time": "2023-02-26T20:48:35.909783",
     "exception": false,
     "start_time": "2023-02-26T20:48:35.877591",
     "status": "completed"
    },
    "tags": []
   },
   "outputs": [],
   "source": [
    "print('Total number of DEF values:', bandai_df['DEF'].nunique())"
   ]
  },
  {
   "cell_type": "code",
   "execution_count": null,
   "id": "54e9d56a",
   "metadata": {
    "papermill": {
     "duration": 0.057114,
     "end_time": "2023-02-26T20:48:35.982852",
     "exception": false,
     "start_time": "2023-02-26T20:48:35.925738",
     "status": "completed"
    },
    "tags": []
   },
   "outputs": [],
   "source": [
    "bandai_df.drop(columns=['Card type', 'Page name', 'Page URL']).groupby('DEF').nunique().sort_index(key=lambda x: pd.to_numeric(x, errors = 'coerce'))"
   ]
  },
  {
   "cell_type": "code",
   "execution_count": null,
   "id": "10aeff48",
   "metadata": {
    "papermill": {
     "duration": 0.440992,
     "end_time": "2023-02-26T20:48:36.441135",
     "exception": false,
     "start_time": "2023-02-26T20:48:36.000143",
     "status": "completed"
    },
    "tags": []
   },
   "outputs": [],
   "source": [
    "def_colors = colors_dict['Monster Card']\n",
    "bandai_df['DEF'].value_counts().sort_index(key=lambda x: pd.to_numeric(x, errors = 'coerce')).plot.bar(figsize = (18,6), grid = True, color = def_colors, title = 'DEF')\n",
    "plt.show()"
   ]
  },
  {
   "cell_type": "markdown",
   "id": "02b9970b-696d-4ef0-b01d-0385e6c53575",
   "metadata": {
    "papermill": {
     "duration": 0.06433,
     "end_time": "2023-02-26T20:48:36.522567",
     "exception": false,
     "start_time": "2023-02-26T20:48:36.458237",
     "status": "completed"
    },
    "tags": []
   },
   "source": [
    "## Level"
   ]
  },
  {
   "cell_type": "code",
   "execution_count": null,
   "id": "f5543138",
   "metadata": {
    "papermill": {
     "duration": 0.047338,
     "end_time": "2023-02-26T20:48:36.587988",
     "exception": false,
     "start_time": "2023-02-26T20:48:36.540650",
     "status": "completed"
    },
    "tags": []
   },
   "outputs": [],
   "source": [
    "bandai_df.drop(columns=['Card type', 'Page name', 'Page URL']).groupby('Level').nunique().sort_index(key=lambda x: pd.to_numeric(x, errors = 'coerce'))"
   ]
  },
  {
   "cell_type": "code",
   "execution_count": null,
   "id": "31539bdc",
   "metadata": {
    "papermill": {
     "duration": 0.422164,
     "end_time": "2023-02-26T20:48:37.027729",
     "exception": false,
     "start_time": "2023-02-26T20:48:36.605565",
     "status": "completed"
    },
    "tags": []
   },
   "outputs": [],
   "source": [
    "level_colors = colors_dict['Level']\n",
    "bandai_df['Level'].value_counts().sort_index(key=lambda x: pd.to_numeric(x, errors = 'coerce')).plot.bar(figsize = (18,6), grid = True, rot=0, color= level_colors, title = 'Level/Rank')\n",
    "plt.show()"
   ]
  },
  {
   "cell_type": "markdown",
   "id": "071ce72d-178c-4ff3-9e4a-25f2568db91b",
   "metadata": {
    "papermill": {
     "duration": 0.090089,
     "end_time": "2023-02-26T20:48:37.136430",
     "exception": false,
     "start_time": "2023-02-26T20:48:37.046341",
     "status": "completed"
    },
    "tags": []
   },
   "source": [
    "### ATK statistics"
   ]
  },
  {
   "cell_type": "code",
   "execution_count": null,
   "id": "06dc9107",
   "metadata": {
    "papermill": {
     "duration": 0.115594,
     "end_time": "2023-02-26T20:48:37.270525",
     "exception": false,
     "start_time": "2023-02-26T20:48:37.154931",
     "status": "completed"
    },
    "tags": []
   },
   "outputs": [],
   "source": [
    "bandai_df[['Level','ATK']].apply(pd.to_numeric, errors = 'coerce').dropna().astype(int).groupby('Level').describe()"
   ]
  },
  {
   "cell_type": "markdown",
   "id": "3d9b3073-cb28-48c0-94c3-17e6932f0903",
   "metadata": {
    "papermill": {
     "duration": 0.024046,
     "end_time": "2023-02-26T20:48:37.313777",
     "exception": false,
     "start_time": "2023-02-26T20:48:37.289731",
     "status": "completed"
    },
    "tags": []
   },
   "source": [
    "### DEF statistics"
   ]
  },
  {
   "cell_type": "code",
   "execution_count": null,
   "id": "cc005e78",
   "metadata": {
    "papermill": {
     "duration": 0.086481,
     "end_time": "2023-02-26T20:48:37.423657",
     "exception": false,
     "start_time": "2023-02-26T20:48:37.337176",
     "status": "completed"
    },
    "tags": []
   },
   "outputs": [],
   "source": [
    "bandai_df[['Level','DEF']].apply(pd.to_numeric, errors = 'coerce').dropna().astype(int).groupby('Level').describe()"
   ]
  },
  {
   "cell_type": "markdown",
   "id": "f8a1f602-3981-413c-bc35-dadb1da03979",
   "metadata": {
    "papermill": {
     "duration": 0.073212,
     "end_time": "2023-02-26T20:48:37.515852",
     "exception": false,
     "start_time": "2023-02-26T20:48:37.442640",
     "status": "completed"
    },
    "tags": []
   },
   "source": [
    "## Monster type"
   ]
  },
  {
   "cell_type": "code",
   "execution_count": null,
   "id": "dab77100",
   "metadata": {
    "papermill": {
     "duration": 0.03486,
     "end_time": "2023-02-26T20:48:37.572222",
     "exception": false,
     "start_time": "2023-02-26T20:48:37.537362",
     "status": "completed"
    },
    "tags": []
   },
   "outputs": [],
   "source": [
    "print('Total number of monster types:', bandai_df['Monster type'].nunique())"
   ]
  },
  {
   "cell_type": "code",
   "execution_count": null,
   "id": "02f5b750",
   "metadata": {
    "papermill": {
     "duration": 0.058084,
     "end_time": "2023-02-26T20:48:37.649896",
     "exception": false,
     "start_time": "2023-02-26T20:48:37.591812",
     "status": "completed"
    },
    "tags": []
   },
   "outputs": [],
   "source": [
    "bandai_df.drop(columns=['Card type', 'Page name', 'Page URL']).groupby('Monster type').nunique()"
   ]
  },
  {
   "cell_type": "code",
   "execution_count": null,
   "id": "75111774",
   "metadata": {
    "papermill": {
     "duration": 0.394161,
     "end_time": "2023-02-26T20:48:38.063418",
     "exception": false,
     "start_time": "2023-02-26T20:48:37.669257",
     "status": "completed"
    },
    "tags": []
   },
   "outputs": [],
   "source": [
    "monster_type_colors = colors_dict['Monster Card']\n",
    "bandai_df['Monster type'].value_counts().plot.bar(figsize = (18,6), grid = True, rot=45, color = monster_type_colors, title = 'Monster type')\n",
    "plt.show()"
   ]
  },
  {
   "cell_type": "markdown",
   "id": "eaf337f6-5f57-4f12-9ed9-56ee60684221",
   "metadata": {
    "papermill": {
     "duration": 0.033498,
     "end_time": "2023-02-26T20:48:38.120425",
     "exception": false,
     "start_time": "2023-02-26T20:48:38.086927",
     "status": "completed"
    },
    "tags": []
   },
   "source": [
    "## Set"
   ]
  },
  {
   "cell_type": "code",
   "execution_count": null,
   "id": "8235e37d-9495-4cdd-9935-47c991543663",
   "metadata": {
    "papermill": {
     "duration": 0.038368,
     "end_time": "2023-02-26T20:48:38.180448",
     "exception": false,
     "start_time": "2023-02-26T20:48:38.142080",
     "status": "completed"
    },
    "tags": []
   },
   "outputs": [],
   "source": [
    "print('Total number of sets:', bandai_df['Set'].nunique())"
   ]
  },
  {
   "cell_type": "code",
   "execution_count": null,
   "id": "5ea867ee-c5e5-48ed-84d4-9c66b205f185",
   "metadata": {
    "papermill": {
     "duration": 0.05539,
     "end_time": "2023-02-26T20:48:38.259017",
     "exception": false,
     "start_time": "2023-02-26T20:48:38.203627",
     "status": "completed"
    },
    "tags": []
   },
   "outputs": [],
   "source": [
    "bandai_df.drop(columns=['Page name', 'Page URL']).groupby('Set').nunique()"
   ]
  },
  {
   "cell_type": "markdown",
   "id": "1b6f5f73-c9cd-483c-96da-54174938da5a",
   "metadata": {
    "papermill": {
     "duration": 0.021341,
     "end_time": "2023-02-26T20:48:38.302541",
     "exception": false,
     "start_time": "2023-02-26T20:48:38.281200",
     "status": "completed"
    },
    "tags": []
   },
   "source": [
    "# Epilogue"
   ]
  },
  {
   "cell_type": "code",
   "execution_count": null,
   "id": "9ebe9200-4e74-4db0-8f10-d7b258b9ef7c",
   "metadata": {
    "papermill": {
     "duration": 0.14462,
     "end_time": "2023-02-26T20:48:38.469970",
     "exception": false,
     "start_time": "2023-02-26T20:48:38.325350",
     "status": "completed"
    },
    "tags": []
   },
   "outputs": [],
   "source": [
    "benchmark('bandai',timestamp)"
   ]
  },
  {
   "cell_type": "code",
   "execution_count": null,
   "id": "eae8bd03-02f4-486d-9ae0-ddc7227985f2",
   "metadata": {
    "papermill": {
     "duration": 0.156239,
     "end_time": "2023-02-26T20:48:38.649776",
     "exception": false,
     "start_time": "2023-02-26T20:48:38.493537",
     "status": "completed"
    },
    "tags": []
   },
   "outputs": [],
   "source": [
    "footer()"
   ]
  },
  {
   "cell_type": "markdown",
   "id": "f8ddd2ba-01d3-4b5d-901a-62ea4f793309",
   "metadata": {
    "papermill": {
     "duration": 0.022552,
     "end_time": "2023-02-26T20:48:38.720611",
     "exception": false,
     "start_time": "2023-02-26T20:48:38.698059",
     "status": "completed"
    },
    "tags": []
   },
   "source": [
    "## HTML export"
   ]
  },
  {
   "cell_type": "code",
   "execution_count": null,
   "id": "1f2182a7-7cc8-4959-8af5-ba7ea26439a7",
   "metadata": {
    "papermill": {
     "duration": 0.042262,
     "end_time": "2023-02-26T20:48:38.785996",
     "exception": false,
     "start_time": "2023-02-26T20:48:38.743734",
     "status": "completed"
    },
    "tags": []
   },
   "outputs": [],
   "source": [
    "# Save notebook on disck before generating HTML report\n",
    "save_notebook()"
   ]
  },
  {
   "cell_type": "code",
   "execution_count": null,
   "id": "d7137575-20bb-4fb2-b32e-0d9de2d1cba7",
   "metadata": {
    "papermill": {
     "duration": 4.112139,
     "end_time": "2023-02-26T20:48:42.921287",
     "exception": false,
     "start_time": "2023-02-26T20:48:38.809148",
     "status": "completed"
    },
    "tags": []
   },
   "outputs": [],
   "source": [
    "! jupyter nbconvert Bandai.ipynb --output-dir='../' --to=HTML --TagRemovePreprocessor.enabled=True --TagRemovePreprocessor.remove_cell_tags='exclude' --TemplateExporter.exclude_input=True --TemplateExporter.exclude_input_prompt=True --TemplateExporter.exclude_output_prompt=True"
   ]
  },
  {
   "cell_type": "markdown",
   "id": "a28db6c7-1f12-497c-adc6-660f199e3369",
   "metadata": {
    "papermill": {
     "duration": 0.039521,
     "end_time": "2023-02-26T20:48:42.986816",
     "exception": false,
     "start_time": "2023-02-26T20:48:42.947295",
     "status": "completed"
    },
    "tags": [
     "exclude"
    ]
   },
   "source": [
    "## Git"
   ]
  },
  {
   "cell_type": "code",
   "execution_count": null,
   "id": "0883fa53-b0b8-4ce2-ac96-559df31c9c58",
   "metadata": {
    "papermill": {
     "duration": 0.471874,
     "end_time": "2023-02-26T20:48:43.481692",
     "exception": false,
     "start_time": "2023-02-26T20:48:43.009818",
     "status": "completed"
    },
    "tags": [
     "exclude"
    ]
   },
   "outputs": [],
   "source": [
    "! git add \"../*[Bb]andai*\""
   ]
  },
  {
   "cell_type": "code",
   "execution_count": null,
   "id": "3322a6a5-a048-42f3-a1ac-3124c0353599",
   "metadata": {
    "papermill": {
     "duration": 1.427758,
     "end_time": "2023-02-26T20:48:44.933939",
     "exception": false,
     "start_time": "2023-02-26T20:48:43.506181",
     "status": "completed"
    },
    "tags": [
     "exclude"
    ]
   },
   "outputs": [],
   "source": [
    "! git commit -m {\"'Bandai update-\" + timestamp.isoformat() + \"'\"}"
   ]
  }
 ],
 "metadata": {
  "kernelspec": {
   "display_name": "Python 3 (ipykernel)",
   "language": "python",
   "name": "python3"
  },
  "language_info": {
   "codemirror_mode": {
    "name": "ipython",
    "version": 3
   },
   "file_extension": ".py",
   "mimetype": "text/x-python",
   "name": "python",
   "nbconvert_exporter": "python",
   "pygments_lexer": "ipython3",
   "version": "3.10.8"
  },
  "papermill": {
   "default_parameters": {},
   "duration": 18.289612,
   "end_time": "2023-02-26T20:48:45.798123",
   "environment_variables": {},
   "exception": null,
   "input_path": "Bandai.ipynb",
   "output_path": "Bandai.ipynb",
   "parameters": {},
   "start_time": "2023-02-26T20:48:27.508511",
   "version": "2.4.0"
  }
 },
 "nbformat": 4,
 "nbformat_minor": 5
}
