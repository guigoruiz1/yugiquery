{
 "cells": [
  {
   "cell_type": "code",
   "execution_count": null,
   "id": "9903a324-2402-461a-b8b3-9dec09caceb4",
   "metadata": {
    "papermill": {
     "duration": 4.322552,
     "end_time": "2023-12-24T20:42:49.017432",
     "exception": false,
     "start_time": "2023-12-24T20:42:44.694880",
     "status": "completed"
    },
    "tags": []
   },
   "outputs": [],
   "source": [
    "from yugiquery import *\n",
    "\n",
    "init_notebook_mode(all_interactive=True)\n",
    "\n",
    "header(\"Bandai\")"
   ]
  },
  {
   "cell_type": "markdown",
   "id": "9445cada-ce7a-4d46-a3e8-742439319435",
   "metadata": {
    "papermill": {
     "duration": 0.183643,
     "end_time": "2023-12-24T20:42:49.235846",
     "exception": false,
     "start_time": "2023-12-24T20:42:49.052203",
     "status": "completed"
    },
    "tags": []
   },
   "source": [
    "---"
   ]
  },
  {
   "cell_type": "markdown",
   "id": "e61188c8-73f1-48e5-a165-8fcc66d30f47",
   "metadata": {
    "papermill": {
     "duration": 0.150437,
     "end_time": "2023-12-24T20:42:49.696840",
     "exception": false,
     "start_time": "2023-12-24T20:42:49.546403",
     "status": "completed"
    },
    "tags": []
   },
   "source": [
    "Table of Contents <a class=\"jp-toc-ignore\"></a>\n",
    "=================\n",
    "\n",
    "*   [1  Data aquisition](#Data-aquisition)\n",
    "    *   [1.1  Fetch online data](#Fetch-online-data)\n",
    "*   [2  Check changes](#Check-changes)\n",
    "    *   [2.1  Load previous data](#Load-previous-data)\n",
    "    *   [2.2  Generate changelog](#Generate-changelog)\n",
    "    *   [2.3  Save data](#Save-data)\n",
    "*   [3  Data visualization](#Data-visualization)\n",
    "    *   [3.1  Card type](#Card-type)\n",
    "    *   [3.2  ATK](#ATK)\n",
    "    *   [3.3  DEF](#DEF)\n",
    "    *   [3.4  Level](#Level)\n",
    "        *   [3.4.1  ATK statistics](#ATK-statistics)\n",
    "        *   [3.4.2  DEF statistics](#DEF-statistics)\n",
    "        *   [3.4.3  Level](#Level)\n",
    "    *   [3.5  Monster type](#Monster-type)\n",
    "    *   [3.6  Set](#Set)\n",
    "*   [4  Epilogue](#Epilogue)\n",
    "    *   [4.1  HTML export](#HTML-export)\n",
    "<!--     *   [4.2  Git](#Git) -->"
   ]
  },
  {
   "cell_type": "markdown",
   "id": "ddf5afac-0c61-47d8-a0ad-f441a705eb88",
   "metadata": {
    "papermill": {
     "duration": 0.257221,
     "end_time": "2023-12-24T20:42:50.614133",
     "exception": false,
     "start_time": "2023-12-24T20:42:50.356912",
     "status": "completed"
    },
    "tags": []
   },
   "source": [
    "# Data aquisition"
   ]
  },
  {
   "cell_type": "markdown",
   "id": "cc75b862-8058-4db2-9499-446fd0d3042e",
   "metadata": {
    "jp-MarkdownHeadingCollapsed": true,
    "papermill": {
     "duration": 0.174939,
     "end_time": "2023-12-24T20:42:51.028445",
     "exception": false,
     "start_time": "2023-12-24T20:42:50.853506",
     "status": "completed"
    },
    "tags": []
   },
   "source": [
    "## Fetch online data"
   ]
  },
  {
   "cell_type": "code",
   "execution_count": null,
   "id": "9df14404-b603-4f17-b66e-5766bed0175b",
   "metadata": {
    "editable": true,
    "papermill": {
     "duration": 0.172165,
     "end_time": "2023-12-24T20:42:51.710259",
     "exception": false,
     "start_time": "2023-12-24T20:42:51.538094",
     "status": "completed"
    },
    "slideshow": {
     "slide_type": ""
    },
    "tags": []
   },
   "outputs": [],
   "source": [
    "timestamp = arrow.utcnow()"
   ]
  },
  {
   "cell_type": "code",
   "execution_count": null,
   "id": "e29ba8f9-c3ad-4353-af35-9183e22a314b",
   "metadata": {
    "editable": true,
    "papermill": {
     "duration": 1.380839,
     "end_time": "2023-12-24T20:42:53.217261",
     "exception": false,
     "start_time": "2023-12-24T20:42:51.836422",
     "status": "completed"
    },
    "slideshow": {
     "slide_type": ""
    },
    "tags": []
   },
   "outputs": [],
   "source": [
    "bandai_df = fetch_bandai()"
   ]
  },
  {
   "cell_type": "markdown",
   "id": "ae8c018f-312e-4582-b1ab-af7d06e3e9d1",
   "metadata": {
    "jp-MarkdownHeadingCollapsed": true,
    "papermill": {
     "duration": 0.229501,
     "end_time": "2023-12-24T20:42:53.489892",
     "exception": false,
     "start_time": "2023-12-24T20:42:53.260391",
     "status": "completed"
    },
    "tags": []
   },
   "source": [
    "# Check changes"
   ]
  },
  {
   "cell_type": "markdown",
   "id": "6f3d5394-1deb-4877-8e8c-d3b4c389df86",
   "metadata": {
    "papermill": {
     "duration": 0.149779,
     "end_time": "2023-12-24T20:42:54.010233",
     "exception": false,
     "start_time": "2023-12-24T20:42:53.860454",
     "status": "completed"
    },
    "tags": []
   },
   "source": [
    "## Load previous data"
   ]
  },
  {
   "cell_type": "code",
   "execution_count": null,
   "id": "8144b798-14d4-4201-8e9d-afeffc0cda45",
   "metadata": {
    "papermill": {
     "duration": 0.845911,
     "end_time": "2023-12-24T20:42:54.967253",
     "exception": false,
     "start_time": "2023-12-24T20:42:54.121342",
     "status": "completed"
    },
    "tags": []
   },
   "outputs": [],
   "source": [
    "# Get latest file if exist\n",
    "previous_df, previous_ts = load_corrected_latest(\"bandai\")\n",
    "\n",
    "if previous_df is not None:\n",
    "    previous_df = previous_df.astype(\n",
    "        bandai_df[previous_df.columns.intersection(bandai_df.columns)].dtypes.to_dict()\n",
    "    )"
   ]
  },
  {
   "cell_type": "markdown",
   "id": "96111a58-528d-4a95-94dc-2c8772fc8f81",
   "metadata": {
    "papermill": {
     "duration": 0.039446,
     "end_time": "2023-12-24T20:42:55.213424",
     "exception": false,
     "start_time": "2023-12-24T20:42:55.173978",
     "status": "completed"
    },
    "tags": []
   },
   "source": [
    "## Generate changelog"
   ]
  },
  {
   "cell_type": "code",
   "execution_count": null,
   "id": "2022a407-d6c2-4ff0-8d8f-e8431901d436",
   "metadata": {
    "papermill": {
     "duration": 0.119976,
     "end_time": "2023-12-24T20:42:55.647136",
     "exception": false,
     "start_time": "2023-12-24T20:42:55.527160",
     "status": "completed"
    },
    "tags": []
   },
   "outputs": [],
   "source": [
    "if previous_df is None:\n",
    "    changelog = None\n",
    "    print(\"Skipped\")\n",
    "else:\n",
    "    changelog = generate_changelog(previous_df, bandai_df, col=\"Name\")\n",
    "    if not changelog.empty:\n",
    "        display(changelog)\n",
    "        changelog.to_csv(\n",
    "            f'../data/{make_filename(report = \"bandai\", timestamp = timestamp, previous_timestamp = previous_ts)}',\n",
    "            index=True,\n",
    "        )\n",
    "        print(\"Changelog saved\")"
   ]
  },
  {
   "cell_type": "markdown",
   "id": "c50bdfb0-a6d1-43d7-8c96-f9145e053946",
   "metadata": {
    "papermill": {
     "duration": 0.173232,
     "end_time": "2023-12-24T20:42:56.034878",
     "exception": false,
     "start_time": "2023-12-24T20:42:55.861646",
     "status": "completed"
    },
    "tags": []
   },
   "source": [
    "## Save data"
   ]
  },
  {
   "cell_type": "code",
   "execution_count": null,
   "id": "c3aadd59-2d67-4c2a-81a4-3543bdbeb2f5",
   "metadata": {
    "papermill": {
     "duration": 0.337592,
     "end_time": "2023-12-24T20:42:56.441611",
     "exception": false,
     "start_time": "2023-12-24T20:42:56.104019",
     "status": "completed"
    },
    "tags": []
   },
   "outputs": [],
   "source": [
    "if changelog is not None and changelog.empty:\n",
    "    print(\"No changes. New data not saved\")\n",
    "else:\n",
    "    bandai_df.to_csv(\n",
    "        f'../data/{make_filename(report = \"bandai\", timestamp=timestamp)}', index=False\n",
    "    )\n",
    "    print(\"Data saved\")"
   ]
  },
  {
   "cell_type": "markdown",
   "id": "c64d414c-93b3-4464-b985-40bf135ddb1a",
   "metadata": {
    "papermill": {
     "duration": 0.09187,
     "end_time": "2023-12-24T20:42:56.587727",
     "exception": false,
     "start_time": "2023-12-24T20:42:56.495857",
     "status": "completed"
    },
    "tags": []
   },
   "source": [
    "# Data visualization"
   ]
  },
  {
   "cell_type": "code",
   "execution_count": null,
   "id": "56b6402a-ade8-44fc-9e6d-c46b54e6bd6f",
   "metadata": {
    "papermill": {
     "duration": 0.55935,
     "end_time": "2023-12-24T20:42:57.430909",
     "exception": false,
     "start_time": "2023-12-24T20:42:56.871559",
     "status": "completed"
    },
    "tags": []
   },
   "outputs": [],
   "source": [
    "bandai_df"
   ]
  },
  {
   "cell_type": "markdown",
   "id": "f31c671e-6e38-4f7c-b2e2-40a434e444d1",
   "metadata": {
    "jp-MarkdownHeadingCollapsed": true,
    "papermill": {
     "duration": 0.177821,
     "end_time": "2023-12-24T20:42:57.651121",
     "exception": false,
     "start_time": "2023-12-24T20:42:57.473300",
     "status": "completed"
    },
    "tags": []
   },
   "source": [
    "## Card type"
   ]
  },
  {
   "cell_type": "code",
   "execution_count": null,
   "id": "1403be1f-b22b-47a1-854c-8258ba7bde97",
   "metadata": {
    "papermill": {
     "duration": 0.744838,
     "end_time": "2023-12-24T20:42:58.450373",
     "exception": false,
     "start_time": "2023-12-24T20:42:57.705535",
     "status": "completed"
    },
    "tags": []
   },
   "outputs": [],
   "source": [
    "print(\"Total number of card types:\", bandai_df[\"Card type\"].nunique())"
   ]
  },
  {
   "cell_type": "code",
   "execution_count": null,
   "id": "d2f71e96-730c-4b69-afdb-3c0e128caae2",
   "metadata": {
    "papermill": {
     "duration": 1.604196,
     "end_time": "2023-12-24T20:43:00.230341",
     "exception": false,
     "start_time": "2023-12-24T20:42:58.626145",
     "status": "completed"
    },
    "tags": []
   },
   "outputs": [],
   "source": [
    "card_type_colors = [colors_dict[i] for i in bandai_df[\"Card type\"].value_counts().index]\n",
    "bandai_df[\"Card type\"].value_counts().plot.bar(\n",
    "    figsize=(18, 6), grid=True, rot=0, color=card_type_colors\n",
    ")\n",
    "plt.show()"
   ]
  },
  {
   "cell_type": "markdown",
   "id": "00c6b243-67ad-42c5-9189-4d2d33c5372c",
   "metadata": {
    "jp-MarkdownHeadingCollapsed": true,
    "papermill": {
     "duration": 0.404224,
     "end_time": "2023-12-24T20:43:00.730482",
     "exception": false,
     "start_time": "2023-12-24T20:43:00.326258",
     "status": "completed"
    },
    "tags": []
   },
   "source": [
    "## ATK"
   ]
  },
  {
   "cell_type": "code",
   "execution_count": null,
   "id": "1b5db865",
   "metadata": {
    "papermill": {
     "duration": 1.070875,
     "end_time": "2023-12-24T20:43:03.140579",
     "exception": false,
     "start_time": "2023-12-24T20:43:02.069704",
     "status": "completed"
    },
    "tags": []
   },
   "outputs": [],
   "source": [
    "print(\"Total number of ATK values:\", bandai_df[\"ATK\"].nunique())"
   ]
  },
  {
   "cell_type": "code",
   "execution_count": null,
   "id": "16b9aa14",
   "metadata": {
    "papermill": {
     "duration": 0.239382,
     "end_time": "2023-12-24T20:43:03.430700",
     "exception": false,
     "start_time": "2023-12-24T20:43:03.191318",
     "status": "completed"
    },
    "tags": []
   },
   "outputs": [],
   "source": [
    "bandai_df.drop(columns=[\"Card type\", \"Page name\", \"Page URL\"]).groupby(\n",
    "    \"ATK\"\n",
    ").nunique().sort_index(key=lambda x: pd.to_numeric(x, errors=\"coerce\"))"
   ]
  },
  {
   "cell_type": "code",
   "execution_count": null,
   "id": "3b1b2e1d",
   "metadata": {
    "papermill": {
     "duration": 0.468829,
     "end_time": "2023-12-24T20:43:04.299226",
     "exception": false,
     "start_time": "2023-12-24T20:43:03.830397",
     "status": "completed"
    },
    "tags": []
   },
   "outputs": [],
   "source": [
    "atk_colors = colors_dict[\"Monster Card\"]\n",
    "bandai_df[\"ATK\"].value_counts().sort_index(\n",
    "    key=lambda x: pd.to_numeric(x, errors=\"coerce\")\n",
    ").plot.bar(figsize=(18, 6), grid=True, color=atk_colors)\n",
    "plt.show()"
   ]
  },
  {
   "cell_type": "markdown",
   "id": "8c7f10ac-6c4e-42fe-be55-c2ea61abb7ae",
   "metadata": {
    "jp-MarkdownHeadingCollapsed": true,
    "papermill": {
     "duration": 0.45692,
     "end_time": "2023-12-24T20:43:04.825994",
     "exception": false,
     "start_time": "2023-12-24T20:43:04.369074",
     "status": "completed"
    },
    "tags": []
   },
   "source": [
    "## DEF"
   ]
  },
  {
   "cell_type": "code",
   "execution_count": null,
   "id": "2aa0ba61",
   "metadata": {
    "papermill": {
     "duration": 0.11178,
     "end_time": "2023-12-24T20:43:05.084697",
     "exception": false,
     "start_time": "2023-12-24T20:43:04.972917",
     "status": "completed"
    },
    "tags": []
   },
   "outputs": [],
   "source": [
    "print(\"Total number of DEF values:\", bandai_df[\"DEF\"].nunique())"
   ]
  },
  {
   "cell_type": "code",
   "execution_count": null,
   "id": "54e9d56a",
   "metadata": {
    "papermill": {
     "duration": 0.40418,
     "end_time": "2023-12-24T20:43:05.596436",
     "exception": false,
     "start_time": "2023-12-24T20:43:05.192256",
     "status": "completed"
    },
    "tags": []
   },
   "outputs": [],
   "source": [
    "bandai_df.drop(columns=[\"Card type\", \"Page name\", \"Page URL\"]).groupby(\n",
    "    \"DEF\"\n",
    ").nunique().sort_index(key=lambda x: pd.to_numeric(x, errors=\"coerce\"))"
   ]
  },
  {
   "cell_type": "code",
   "execution_count": null,
   "id": "10aeff48",
   "metadata": {
    "papermill": {
     "duration": 0.488187,
     "end_time": "2023-12-24T20:43:06.358399",
     "exception": false,
     "start_time": "2023-12-24T20:43:05.870212",
     "status": "completed"
    },
    "tags": []
   },
   "outputs": [],
   "source": [
    "def_colors = colors_dict[\"Monster Card\"]\n",
    "bandai_df[\"DEF\"].value_counts().sort_index(\n",
    "    key=lambda x: pd.to_numeric(x, errors=\"coerce\")\n",
    ").plot.bar(figsize=(18, 6), grid=True, color=def_colors)\n",
    "plt.show()"
   ]
  },
  {
   "cell_type": "markdown",
   "id": "02b9970b-696d-4ef0-b01d-0385e6c53575",
   "metadata": {
    "jp-MarkdownHeadingCollapsed": true,
    "papermill": {
     "duration": 0.446309,
     "end_time": "2023-12-24T20:43:06.842662",
     "exception": false,
     "start_time": "2023-12-24T20:43:06.396353",
     "status": "completed"
    },
    "tags": []
   },
   "source": [
    "## Level"
   ]
  },
  {
   "cell_type": "code",
   "execution_count": null,
   "id": "f5543138",
   "metadata": {
    "papermill": {
     "duration": 0.175632,
     "end_time": "2023-12-24T20:43:07.056835",
     "exception": false,
     "start_time": "2023-12-24T20:43:06.881203",
     "status": "completed"
    },
    "tags": []
   },
   "outputs": [],
   "source": [
    "bandai_df.drop(columns=[\"Card type\", \"Page name\", \"Page URL\"]).groupby(\n",
    "    \"Level\"\n",
    ").nunique().sort_index(key=lambda x: pd.to_numeric(x, errors=\"coerce\"))"
   ]
  },
  {
   "cell_type": "code",
   "execution_count": null,
   "id": "31539bdc",
   "metadata": {
    "papermill": {
     "duration": 0.379014,
     "end_time": "2023-12-24T20:43:07.680215",
     "exception": false,
     "start_time": "2023-12-24T20:43:07.301201",
     "status": "completed"
    },
    "tags": []
   },
   "outputs": [],
   "source": [
    "level_colors = colors_dict[\"Level\"]\n",
    "bandai_df[\"Level\"].value_counts().sort_index(\n",
    "    key=lambda x: pd.to_numeric(x, errors=\"coerce\")\n",
    ").plot.bar(figsize=(18, 6), grid=True, rot=0, color=level_colors)\n",
    "plt.show()"
   ]
  },
  {
   "cell_type": "markdown",
   "id": "071ce72d-178c-4ff3-9e4a-25f2568db91b",
   "metadata": {
    "papermill": {
     "duration": 0.228826,
     "end_time": "2023-12-24T20:43:08.349363",
     "exception": false,
     "start_time": "2023-12-24T20:43:08.120537",
     "status": "completed"
    },
    "tags": []
   },
   "source": [
    "### ATK statistics"
   ]
  },
  {
   "cell_type": "code",
   "execution_count": null,
   "id": "06dc9107",
   "metadata": {
    "papermill": {
     "duration": 0.44675,
     "end_time": "2023-12-24T20:43:08.966993",
     "exception": false,
     "start_time": "2023-12-24T20:43:08.520243",
     "status": "completed"
    },
    "tags": []
   },
   "outputs": [],
   "source": [
    "bandai_df[[\"Level\", \"ATK\"]].apply(pd.to_numeric, errors=\"coerce\").dropna().astype(\n",
    "    int\n",
    ").groupby(\"Level\").describe().round(1)"
   ]
  },
  {
   "cell_type": "markdown",
   "id": "3d9b3073-cb28-48c0-94c3-17e6932f0903",
   "metadata": {
    "papermill": {
     "duration": 0.139817,
     "end_time": "2023-12-24T20:43:09.251439",
     "exception": false,
     "start_time": "2023-12-24T20:43:09.111622",
     "status": "completed"
    },
    "tags": []
   },
   "source": [
    "### DEF statistics"
   ]
  },
  {
   "cell_type": "code",
   "execution_count": null,
   "id": "cc005e78",
   "metadata": {
    "papermill": {
     "duration": 0.129062,
     "end_time": "2023-12-24T20:43:09.693240",
     "exception": false,
     "start_time": "2023-12-24T20:43:09.564178",
     "status": "completed"
    },
    "tags": []
   },
   "outputs": [],
   "source": [
    "bandai_df[[\"Level\", \"DEF\"]].apply(pd.to_numeric, errors=\"coerce\").dropna().astype(\n",
    "    int\n",
    ").groupby(\"Level\").describe().round(1)"
   ]
  },
  {
   "cell_type": "markdown",
   "id": "f8a1f602-3981-413c-bc35-dadb1da03979",
   "metadata": {
    "papermill": {
     "duration": 0.140352,
     "end_time": "2023-12-24T20:43:09.881294",
     "exception": false,
     "start_time": "2023-12-24T20:43:09.740942",
     "status": "completed"
    },
    "tags": []
   },
   "source": [
    "## Monster type"
   ]
  },
  {
   "cell_type": "code",
   "execution_count": null,
   "id": "dab77100",
   "metadata": {
    "papermill": {
     "duration": 0.228018,
     "end_time": "2023-12-24T20:43:10.451265",
     "exception": false,
     "start_time": "2023-12-24T20:43:10.223247",
     "status": "completed"
    },
    "tags": []
   },
   "outputs": [],
   "source": [
    "print(\"Total number of monster types:\", bandai_df[\"Monster type\"].nunique())"
   ]
  },
  {
   "cell_type": "code",
   "execution_count": null,
   "id": "02f5b750",
   "metadata": {
    "papermill": {
     "duration": 0.323144,
     "end_time": "2023-12-24T20:43:10.845865",
     "exception": false,
     "start_time": "2023-12-24T20:43:10.522721",
     "status": "completed"
    },
    "tags": []
   },
   "outputs": [],
   "source": [
    "bandai_df.drop(columns=[\"Card type\", \"Page name\", \"Page URL\"]).groupby(\n",
    "    \"Monster type\"\n",
    ").nunique()"
   ]
  },
  {
   "cell_type": "code",
   "execution_count": null,
   "id": "75111774",
   "metadata": {
    "papermill": {
     "duration": 0.49526,
     "end_time": "2023-12-24T20:43:11.491705",
     "exception": false,
     "start_time": "2023-12-24T20:43:10.996445",
     "status": "completed"
    },
    "tags": []
   },
   "outputs": [],
   "source": [
    "monster_type_colors = colors_dict[\"Monster Card\"]\n",
    "bandai_df[\"Monster type\"].value_counts().plot.bar(\n",
    "    figsize=(18, 6), grid=True, rot=45, color=monster_type_colors\n",
    ")\n",
    "plt.show()"
   ]
  },
  {
   "cell_type": "markdown",
   "id": "eaf337f6-5f57-4f12-9ed9-56ee60684221",
   "metadata": {
    "papermill": {
     "duration": 0.261726,
     "end_time": "2023-12-24T20:43:11.812284",
     "exception": false,
     "start_time": "2023-12-24T20:43:11.550558",
     "status": "completed"
    },
    "tags": []
   },
   "source": [
    "## Set"
   ]
  },
  {
   "cell_type": "code",
   "execution_count": null,
   "id": "8235e37d-9495-4cdd-9935-47c991543663",
   "metadata": {
    "papermill": {
     "duration": 0.415157,
     "end_time": "2023-12-24T20:43:12.633747",
     "exception": false,
     "start_time": "2023-12-24T20:43:12.218590",
     "status": "completed"
    },
    "tags": []
   },
   "outputs": [],
   "source": [
    "print(\"Total number of sets:\", bandai_df[\"Set\"].nunique())"
   ]
  },
  {
   "cell_type": "code",
   "execution_count": null,
   "id": "5ea867ee-c5e5-48ed-84d4-9c66b205f185",
   "metadata": {
    "papermill": {
     "duration": 0.107265,
     "end_time": "2023-12-24T20:43:12.839573",
     "exception": false,
     "start_time": "2023-12-24T20:43:12.732308",
     "status": "completed"
    },
    "tags": []
   },
   "outputs": [],
   "source": [
    "bandai_df.drop(columns=[\"Page name\", \"Page URL\"]).groupby(\"Set\").nunique()"
   ]
  },
  {
   "cell_type": "markdown",
   "id": "1b6f5f73-c9cd-483c-96da-54174938da5a",
   "metadata": {
    "papermill": {
     "duration": 0.259851,
     "end_time": "2023-12-24T20:43:13.217308",
     "exception": false,
     "start_time": "2023-12-24T20:43:12.957457",
     "status": "completed"
    },
    "tags": []
   },
   "source": [
    "# Epilogue"
   ]
  },
  {
   "cell_type": "code",
   "execution_count": null,
   "id": "9ebe9200-4e74-4db0-8f10-d7b258b9ef7c",
   "metadata": {
    "papermill": {
     "duration": 0.283415,
     "end_time": "2023-12-24T20:43:13.543843",
     "exception": false,
     "start_time": "2023-12-24T20:43:13.260428",
     "status": "completed"
    },
    "tags": []
   },
   "outputs": [],
   "source": [
    "benchmark(report=\"bandai\", timestamp=timestamp)"
   ]
  },
  {
   "cell_type": "code",
   "execution_count": null,
   "id": "eae8bd03-02f4-486d-9ae0-ddc7227985f2",
   "metadata": {
    "papermill": {
     "duration": 0.067331,
     "end_time": "2023-12-24T20:43:13.653597",
     "exception": false,
     "start_time": "2023-12-24T20:43:13.586266",
     "status": "completed"
    },
    "tags": []
   },
   "outputs": [],
   "source": [
    "footer()"
   ]
  },
  {
   "cell_type": "markdown",
   "id": "f8ddd2ba-01d3-4b5d-901a-62ea4f793309",
   "metadata": {
    "papermill": {
     "duration": 0.098783,
     "end_time": "2023-12-24T20:43:14.012277",
     "exception": false,
     "start_time": "2023-12-24T20:43:13.913494",
     "status": "completed"
    },
    "tags": []
   },
   "source": [
    "## HTML export"
   ]
  },
  {
   "cell_type": "code",
   "execution_count": null,
   "id": "1f2182a7-7cc8-4959-8af5-ba7ea26439a7",
   "metadata": {
    "papermill": {
     "duration": 0.203079,
     "end_time": "2023-12-24T20:43:14.486102",
     "exception": false,
     "start_time": "2023-12-24T20:43:14.283023",
     "status": "completed"
    },
    "tags": []
   },
   "outputs": [],
   "source": [
    "# Save notebook on disck before generating HTML report\n",
    "save_notebook()"
   ]
  },
  {
   "cell_type": "code",
   "execution_count": null,
   "id": "d7137575-20bb-4fb2-b32e-0d9de2d1cba7",
   "metadata": {
    "papermill": {
     "duration": 8.592763,
     "end_time": "2023-12-24T20:43:23.161431",
     "exception": false,
     "start_time": "2023-12-24T20:43:14.568668",
     "status": "completed"
    },
    "tags": []
   },
   "outputs": [],
   "source": [
    "! jupyter nbconvert Bandai.ipynb --output-dir='../' --to=HTML --template=labdynamic --no-input"
   ]
  },
  {
   "cell_type": "markdown",
   "id": "a28db6c7-1f12-497c-adc6-660f199e3369",
   "metadata": {
    "papermill": {
     "duration": 0.252877,
     "end_time": "2023-12-24T20:43:23.617109",
     "exception": false,
     "start_time": "2023-12-24T20:43:23.364232",
     "status": "completed"
    },
    "tags": [
     "exclude"
    ]
   },
   "source": [
    "## Git"
   ]
  },
  {
   "cell_type": "code",
   "execution_count": null,
   "id": "9b33616a-71a1-4adf-a40b-5a5b425ffadf",
   "metadata": {
    "papermill": {
     "duration": null,
     "end_time": null,
     "exception": false,
     "start_time": "2023-12-24T20:43:23.932044",
     "status": "running"
    },
    "tags": []
   },
   "outputs": [],
   "source": [
    "commit(\"*[Bb]andai*\", f\"Bandai update - {timestamp.isoformat()}\")"
   ]
  }
 ],
 "metadata": {
  "kernelspec": {
   "display_name": "Python 3 (ipykernel)",
   "language": "python",
   "name": "python3"
  },
  "language_info": {
   "codemirror_mode": {
    "name": "ipython",
    "version": 3
   },
   "file_extension": ".py",
   "mimetype": "text/x-python",
   "name": "python",
   "nbconvert_exporter": "python",
   "pygments_lexer": "ipython3",
   "version": "3.11.6"
  },
  "papermill": {
   "default_parameters": {},
   "duration": null,
   "end_time": null,
   "environment_variables": {},
   "exception": null,
   "input_path": "/home/jovyan/yugiquery/source/Bandai.ipynb",
   "output_path": "/home/jovyan/yugiquery/source/Bandai.ipynb",
   "parameters": {},
   "start_time": "2023-12-24T20:42:41.520182",
   "version": "2.4.0"
  }
 },
 "nbformat": 4,
 "nbformat_minor": 5
}
