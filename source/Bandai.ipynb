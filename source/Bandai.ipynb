{
 "cells": [
  {
   "cell_type": "code",
   "execution_count": null,
   "id": "9903a324-2402-461a-b8b3-9dec09caceb4",
   "metadata": {
    "papermill": {
     "duration": 2.177673,
     "end_time": "2023-02-21T23:29:53.954530",
     "exception": false,
     "start_time": "2023-02-21T23:29:51.776857",
     "status": "completed"
    },
    "tags": []
   },
   "outputs": [],
   "source": [
    "from yugiquery import *\n",
    "header('Bandai')"
   ]
  },
  {
   "cell_type": "markdown",
   "id": "9445cada-ce7a-4d46-a3e8-742439319435",
   "metadata": {
    "papermill": {
     "duration": 0.010383,
     "end_time": "2023-02-21T23:29:53.980663",
     "exception": false,
     "start_time": "2023-02-21T23:29:53.970280",
     "status": "completed"
    },
    "tags": []
   },
   "source": [
    "---"
   ]
  },
  {
   "cell_type": "markdown",
   "id": "ddf5afac-0c61-47d8-a0ad-f441a705eb88",
   "metadata": {
    "papermill": {
     "duration": 0.00983,
     "end_time": "2023-02-21T23:29:54.001109",
     "exception": false,
     "start_time": "2023-02-21T23:29:53.991279",
     "status": "completed"
    },
    "tags": []
   },
   "source": [
    "# Data aquisition"
   ]
  },
  {
   "cell_type": "markdown",
   "id": "cc75b862-8058-4db2-9499-446fd0d3042e",
   "metadata": {
    "papermill": {
     "duration": 0.009755,
     "end_time": "2023-02-21T23:29:54.020797",
     "exception": false,
     "start_time": "2023-02-21T23:29:54.011042",
     "status": "completed"
    },
    "tags": []
   },
   "source": [
    "## Fetch online data"
   ]
  },
  {
   "cell_type": "code",
   "execution_count": null,
   "id": "9df14404-b603-4f17-b66e-5766bed0175b",
   "metadata": {
    "papermill": {
     "duration": 0.01993,
     "end_time": "2023-02-21T23:29:54.050545",
     "exception": false,
     "start_time": "2023-02-21T23:29:54.030615",
     "status": "completed"
    },
    "tags": []
   },
   "outputs": [],
   "source": [
    "timestamp = pd.Timestamp.now()"
   ]
  },
  {
   "cell_type": "code",
   "execution_count": null,
   "id": "e29ba8f9-c3ad-4353-af35-9183e22a314b",
   "metadata": {
    "papermill": {
     "duration": 1.031473,
     "end_time": "2023-02-21T23:29:55.092361",
     "exception": false,
     "start_time": "2023-02-21T23:29:54.060888",
     "status": "completed"
    },
    "tags": []
   },
   "outputs": [],
   "source": [
    "bandai_df = fetch_bandai()"
   ]
  },
  {
   "cell_type": "markdown",
   "id": "ae8c018f-312e-4582-b1ab-af7d06e3e9d1",
   "metadata": {
    "papermill": {
     "duration": 0.060834,
     "end_time": "2023-02-21T23:29:55.164423",
     "exception": false,
     "start_time": "2023-02-21T23:29:55.103589",
     "status": "completed"
    },
    "tags": []
   },
   "source": [
    "# Check changes"
   ]
  },
  {
   "cell_type": "markdown",
   "id": "6f3d5394-1deb-4877-8e8c-d3b4c389df86",
   "metadata": {
    "papermill": {
     "duration": 0.010292,
     "end_time": "2023-02-21T23:29:55.185456",
     "exception": false,
     "start_time": "2023-02-21T23:29:55.175164",
     "status": "completed"
    },
    "tags": []
   },
   "source": [
    "## Load previous data"
   ]
  },
  {
   "cell_type": "code",
   "execution_count": null,
   "id": "b2004432-65fb-4341-bfe5-a04ad2147553",
   "metadata": {
    "papermill": {
     "duration": 0.081733,
     "end_time": "2023-02-21T23:29:55.277501",
     "exception": false,
     "start_time": "2023-02-21T23:29:55.195768",
     "status": "completed"
    },
    "tags": []
   },
   "outputs": [],
   "source": [
    "# Get list of files\n",
    "files_list = sorted(glob.glob('../data/all_bandai_*.csv'), key=os.path.getctime, reverse=True)\n",
    "# Get second newest file if exist\n",
    "if files_list:\n",
    "    # Load csv avoiding converting \"NA\" to NaN\n",
    "    previous_df = pd.read_csv(files_list[0], dtype=object, keep_default_na=False, na_values=[''])\n",
    "    # Force dtypes to match current df\n",
    "    previous_df = previous_df.astype(bandai_df[previous_df.columns.intersection(bandai_df.columns)].dtypes.to_dict())\n",
    "    previous_ts = pd.to_datetime(os.path.basename(files_list[0]).split('_')[-1].rstrip('.csv'))\n",
    "    print('File loaded')\n",
    "else:\n",
    "    previous_df = None\n",
    "    print('No older files')"
   ]
  },
  {
   "cell_type": "markdown",
   "id": "96111a58-528d-4a95-94dc-2c8772fc8f81",
   "metadata": {
    "papermill": {
     "duration": 0.010458,
     "end_time": "2023-02-21T23:29:55.299422",
     "exception": false,
     "start_time": "2023-02-21T23:29:55.288964",
     "status": "completed"
    },
    "tags": []
   },
   "source": [
    "## Generate changelog"
   ]
  },
  {
   "cell_type": "code",
   "execution_count": null,
   "id": "2022a407-d6c2-4ff0-8d8f-e8431901d436",
   "metadata": {
    "papermill": {
     "duration": 0.050754,
     "end_time": "2023-02-21T23:29:55.360622",
     "exception": false,
     "start_time": "2023-02-21T23:29:55.309868",
     "status": "completed"
    },
    "tags": []
   },
   "outputs": [],
   "source": [
    "if previous_df is None:\n",
    "    changelog=None\n",
    "    print('Skipped')\n",
    "else:\n",
    "    changelog = generate_changelog(previous_df, bandai_df, col = 'Name')\n",
    "    if not changelog.empty:\n",
    "        display(changelog)\n",
    "        changelog.to_csv(f'../data/bandai_changelog_{timestamp.isoformat(timespec=\"minutes\")}_{previous_ts.isoformat(timespec=\"minutes\")}.csv', index = True)\n",
    "        print('Changelog saved')"
   ]
  },
  {
   "cell_type": "markdown",
   "id": "c50bdfb0-a6d1-43d7-8c96-f9145e053946",
   "metadata": {
    "papermill": {
     "duration": 0.010791,
     "end_time": "2023-02-21T23:29:55.382273",
     "exception": false,
     "start_time": "2023-02-21T23:29:55.371482",
     "status": "completed"
    },
    "tags": []
   },
   "source": [
    "## Save data"
   ]
  },
  {
   "cell_type": "code",
   "execution_count": null,
   "id": "c3aadd59-2d67-4c2a-81a4-3543bdbeb2f5",
   "metadata": {
    "papermill": {
     "duration": 0.020668,
     "end_time": "2023-02-21T23:29:55.414212",
     "exception": false,
     "start_time": "2023-02-21T23:29:55.393544",
     "status": "completed"
    },
    "tags": []
   },
   "outputs": [],
   "source": [
    "if changelog is not None and changelog.empty:\n",
    "    print('No changes. New data not saved')\n",
    "else:\n",
    "    bandai_df.to_csv(f'../data/all_bandai_{timestamp.isoformat(timespec=\"minutes\")}.csv', index=False)\n",
    "    print('Data saved')"
   ]
  },
  {
   "cell_type": "markdown",
   "id": "c64d414c-93b3-4464-b985-40bf135ddb1a",
   "metadata": {
    "papermill": {
     "duration": 0.010758,
     "end_time": "2023-02-21T23:29:55.436037",
     "exception": false,
     "start_time": "2023-02-21T23:29:55.425279",
     "status": "completed"
    },
    "tags": []
   },
   "source": [
    "# Data visualization"
   ]
  },
  {
   "cell_type": "code",
   "execution_count": null,
   "id": "56b6402a-ade8-44fc-9e6d-c46b54e6bd6f",
   "metadata": {
    "papermill": {
     "duration": 0.059436,
     "end_time": "2023-02-21T23:29:55.506399",
     "exception": false,
     "start_time": "2023-02-21T23:29:55.446963",
     "status": "completed"
    },
    "tags": []
   },
   "outputs": [],
   "source": [
    "bandai_df"
   ]
  },
  {
   "cell_type": "markdown",
   "id": "f31c671e-6e38-4f7c-b2e2-40a434e444d1",
   "metadata": {
    "papermill": {
     "duration": 0.011684,
     "end_time": "2023-02-21T23:29:55.535247",
     "exception": false,
     "start_time": "2023-02-21T23:29:55.523563",
     "status": "completed"
    },
    "tags": []
   },
   "source": [
    "## Card type"
   ]
  },
  {
   "cell_type": "code",
   "execution_count": null,
   "id": "20ef81f9-2614-4151-b599-ba802a7b4530",
   "metadata": {
    "papermill": {
     "duration": 0.022035,
     "end_time": "2023-02-21T23:29:55.569039",
     "exception": false,
     "start_time": "2023-02-21T23:29:55.547004",
     "status": "completed"
    },
    "tags": []
   },
   "outputs": [],
   "source": [
    "bandai_df['Card type'].nunique()"
   ]
  },
  {
   "cell_type": "markdown",
   "id": "00c6b243-67ad-42c5-9189-4d2d33c5372c",
   "metadata": {
    "papermill": {
     "duration": 0.011472,
     "end_time": "2023-02-21T23:29:55.592345",
     "exception": false,
     "start_time": "2023-02-21T23:29:55.580873",
     "status": "completed"
    },
    "tags": []
   },
   "source": [
    "## ATK"
   ]
  },
  {
   "cell_type": "code",
   "execution_count": null,
   "id": "ee21be78-369b-4022-9d9b-2cfc4dee5724",
   "metadata": {
    "papermill": {
     "duration": 0.024526,
     "end_time": "2023-02-21T23:29:55.628384",
     "exception": false,
     "start_time": "2023-02-21T23:29:55.603858",
     "status": "completed"
    },
    "tags": []
   },
   "outputs": [],
   "source": [
    "bandai_df['ATK'].value_counts()"
   ]
  },
  {
   "cell_type": "code",
   "execution_count": null,
   "id": "418c7a17-237f-4390-82d9-a37130bea190",
   "metadata": {
    "papermill": {
     "duration": 0.024626,
     "end_time": "2023-02-21T23:29:55.666009",
     "exception": false,
     "start_time": "2023-02-21T23:29:55.641383",
     "status": "completed"
    },
    "tags": []
   },
   "outputs": [],
   "source": [
    "bandai_df['ATK'].value_counts()"
   ]
  },
  {
   "cell_type": "markdown",
   "id": "f3a64016-d755-44e4-af52-7b26e2069e3f",
   "metadata": {
    "papermill": {
     "duration": 0.01187,
     "end_time": "2023-02-21T23:29:55.690335",
     "exception": false,
     "start_time": "2023-02-21T23:29:55.678465",
     "status": "completed"
    },
    "tags": []
   },
   "source": [
    "## DEF"
   ]
  },
  {
   "cell_type": "code",
   "execution_count": null,
   "id": "8e74d069-81b3-4ead-a7f6-57c220dd77e6",
   "metadata": {
    "papermill": {
     "duration": 0.025531,
     "end_time": "2023-02-21T23:29:55.728753",
     "exception": false,
     "start_time": "2023-02-21T23:29:55.703222",
     "status": "completed"
    },
    "tags": []
   },
   "outputs": [],
   "source": [
    "bandai_df['DEF'].value_counts()"
   ]
  },
  {
   "cell_type": "code",
   "execution_count": null,
   "id": "8ceca51c-07fe-4285-ac5a-6f8c35cde7bd",
   "metadata": {
    "papermill": {
     "duration": 0.026739,
     "end_time": "2023-02-21T23:29:55.769059",
     "exception": false,
     "start_time": "2023-02-21T23:29:55.742320",
     "status": "completed"
    },
    "tags": []
   },
   "outputs": [],
   "source": [
    "bandai_df['DEF'].value_counts()"
   ]
  },
  {
   "cell_type": "code",
   "execution_count": null,
   "id": "d0886dbe-4bf9-4f27-9438-7f6098c1cf25",
   "metadata": {
    "papermill": {
     "duration": 0.078318,
     "end_time": "2023-02-21T23:29:55.860361",
     "exception": false,
     "start_time": "2023-02-21T23:29:55.782043",
     "status": "completed"
    },
    "tags": []
   },
   "outputs": [],
   "source": [
    "pd.crosstab(bandai_df['DEF'],bandai_df['ATK'])"
   ]
  },
  {
   "cell_type": "code",
   "execution_count": null,
   "id": "5b7e2e2a-6ade-4ace-8b10-d0a26fdd0d44",
   "metadata": {
    "papermill": {
     "duration": 0.027352,
     "end_time": "2023-02-21T23:29:55.901953",
     "exception": false,
     "start_time": "2023-02-21T23:29:55.874601",
     "status": "completed"
    },
    "tags": []
   },
   "outputs": [],
   "source": [
    "pd.to_numeric(bandai_df['ATK'].dropna(), errors = 'ignore').astype(int)"
   ]
  },
  {
   "cell_type": "markdown",
   "id": "02b9970b-696d-4ef0-b01d-0385e6c53575",
   "metadata": {
    "papermill": {
     "duration": 0.014112,
     "end_time": "2023-02-21T23:29:55.930687",
     "exception": false,
     "start_time": "2023-02-21T23:29:55.916575",
     "status": "completed"
    },
    "tags": []
   },
   "source": [
    "## Level"
   ]
  },
  {
   "cell_type": "code",
   "execution_count": null,
   "id": "96b94d81-b347-4b6d-bab9-263abee67b3b",
   "metadata": {
    "papermill": {
     "duration": 0.024835,
     "end_time": "2023-02-21T23:29:55.969934",
     "exception": false,
     "start_time": "2023-02-21T23:29:55.945099",
     "status": "completed"
    },
    "tags": []
   },
   "outputs": [],
   "source": [
    "bandai_df['Level'].nunique()"
   ]
  },
  {
   "cell_type": "code",
   "execution_count": null,
   "id": "305a6171-165e-4cd1-93d1-65917275ccb6",
   "metadata": {
    "papermill": {
     "duration": 0.027208,
     "end_time": "2023-02-21T23:29:56.011888",
     "exception": false,
     "start_time": "2023-02-21T23:29:55.984680",
     "status": "completed"
    },
    "tags": []
   },
   "outputs": [],
   "source": [
    "bandai_df['Level'].value_counts()"
   ]
  },
  {
   "cell_type": "markdown",
   "id": "3c277a51-155c-45af-af9c-12f51a97c224",
   "metadata": {
    "papermill": {
     "duration": 0.014442,
     "end_time": "2023-02-21T23:29:56.041455",
     "exception": false,
     "start_time": "2023-02-21T23:29:56.027013",
     "status": "completed"
    },
    "tags": []
   },
   "source": [
    "### By ATK"
   ]
  },
  {
   "cell_type": "code",
   "execution_count": null,
   "id": "ac7899b5-2278-46dd-9ff2-bb2cbdccf2c6",
   "metadata": {
    "papermill": {
     "duration": 0.066754,
     "end_time": "2023-02-21T23:29:56.122883",
     "exception": false,
     "start_time": "2023-02-21T23:29:56.056129",
     "status": "completed"
    },
    "tags": []
   },
   "outputs": [],
   "source": [
    "pd.crosstab(bandai_df['Level'],bandai_df['ATK'])"
   ]
  },
  {
   "cell_type": "markdown",
   "id": "f432342f-5730-48c9-bb6a-fca71cbc9a20",
   "metadata": {
    "papermill": {
     "duration": 0.014956,
     "end_time": "2023-02-21T23:29:56.153194",
     "exception": false,
     "start_time": "2023-02-21T23:29:56.138238",
     "status": "completed"
    },
    "tags": []
   },
   "source": [
    "### By DEF"
   ]
  },
  {
   "cell_type": "code",
   "execution_count": null,
   "id": "52ebe50e-ff8a-45c7-a88f-cd27834fe1e8",
   "metadata": {
    "papermill": {
     "duration": 0.061029,
     "end_time": "2023-02-21T23:29:56.229829",
     "exception": false,
     "start_time": "2023-02-21T23:29:56.168800",
     "status": "completed"
    },
    "tags": []
   },
   "outputs": [],
   "source": [
    "pd.crosstab(bandai_df['Level'],bandai_df['DEF'])"
   ]
  },
  {
   "cell_type": "markdown",
   "id": "f8a1f602-3981-413c-bc35-dadb1da03979",
   "metadata": {
    "papermill": {
     "duration": 0.01558,
     "end_time": "2023-02-21T23:29:56.261161",
     "exception": false,
     "start_time": "2023-02-21T23:29:56.245581",
     "status": "completed"
    },
    "tags": []
   },
   "source": [
    "## Monster type"
   ]
  },
  {
   "cell_type": "code",
   "execution_count": null,
   "id": "e71d220b-0843-40dc-b0e0-4bf57bf6aef2",
   "metadata": {
    "papermill": {
     "duration": 0.026707,
     "end_time": "2023-02-21T23:29:56.303811",
     "exception": false,
     "start_time": "2023-02-21T23:29:56.277104",
     "status": "completed"
    },
    "tags": []
   },
   "outputs": [],
   "source": [
    "bandai_df['Monster type'].nunique()"
   ]
  },
  {
   "cell_type": "code",
   "execution_count": null,
   "id": "4442a4b2-f82e-4624-947f-48e3e0e90763",
   "metadata": {
    "papermill": {
     "duration": 0.030746,
     "end_time": "2023-02-21T23:29:56.350876",
     "exception": false,
     "start_time": "2023-02-21T23:29:56.320130",
     "status": "completed"
    },
    "tags": []
   },
   "outputs": [],
   "source": [
    "bandai_df['Monster type'].value_counts()"
   ]
  },
  {
   "cell_type": "markdown",
   "id": "1b6f5f73-c9cd-483c-96da-54174938da5a",
   "metadata": {
    "papermill": {
     "duration": 0.016965,
     "end_time": "2023-02-21T23:29:56.384183",
     "exception": false,
     "start_time": "2023-02-21T23:29:56.367218",
     "status": "completed"
    },
    "tags": []
   },
   "source": [
    "# Epilogue"
   ]
  },
  {
   "cell_type": "code",
   "execution_count": null,
   "id": "9ebe9200-4e74-4db0-8f10-d7b258b9ef7c",
   "metadata": {
    "papermill": {
     "duration": 0.053166,
     "end_time": "2023-02-21T23:29:56.470033",
     "exception": false,
     "start_time": "2023-02-21T23:29:56.416867",
     "status": "completed"
    },
    "tags": []
   },
   "outputs": [],
   "source": [
    "benchmark('bandai',timestamp)"
   ]
  },
  {
   "cell_type": "code",
   "execution_count": null,
   "id": "eae8bd03-02f4-486d-9ae0-ddc7227985f2",
   "metadata": {
    "papermill": {
     "duration": 0.027151,
     "end_time": "2023-02-21T23:29:56.516552",
     "exception": false,
     "start_time": "2023-02-21T23:29:56.489401",
     "status": "completed"
    },
    "tags": []
   },
   "outputs": [],
   "source": [
    "footer()"
   ]
  },
  {
   "cell_type": "markdown",
   "id": "f8ddd2ba-01d3-4b5d-901a-62ea4f793309",
   "metadata": {
    "papermill": {
     "duration": 0.016711,
     "end_time": "2023-02-21T23:29:56.549870",
     "exception": false,
     "start_time": "2023-02-21T23:29:56.533159",
     "status": "completed"
    },
    "tags": []
   },
   "source": [
    "## HTML export"
   ]
  },
  {
   "cell_type": "code",
   "execution_count": null,
   "id": "1f2182a7-7cc8-4959-8af5-ba7ea26439a7",
   "metadata": {
    "papermill": {
     "duration": 0.031092,
     "end_time": "2023-02-21T23:29:56.597576",
     "exception": false,
     "start_time": "2023-02-21T23:29:56.566484",
     "status": "completed"
    },
    "tags": []
   },
   "outputs": [],
   "source": [
    "# Save notebook on disck before generating HTML report\n",
    "save_notebook()"
   ]
  },
  {
   "cell_type": "code",
   "execution_count": null,
   "id": "d7137575-20bb-4fb2-b32e-0d9de2d1cba7",
   "metadata": {
    "papermill": {
     "duration": 2.720384,
     "end_time": "2023-02-21T23:29:59.335136",
     "exception": false,
     "start_time": "2023-02-21T23:29:56.614752",
     "status": "completed"
    },
    "tags": []
   },
   "outputs": [],
   "source": [
    "! jupyter nbconvert Bandai.ipynb --output-dir='../' --to=HTML --TagRemovePreprocessor.enabled=True --TagRemovePreprocessor.remove_cell_tags='exclude' --TemplateExporter.exclude_input=True --TemplateExporter.exclude_input_prompt=True --TemplateExporter.exclude_output_prompt=True"
   ]
  },
  {
   "cell_type": "markdown",
   "id": "a28db6c7-1f12-497c-adc6-660f199e3369",
   "metadata": {
    "papermill": {
     "duration": 0.016954,
     "end_time": "2023-02-21T23:29:59.374684",
     "exception": false,
     "start_time": "2023-02-21T23:29:59.357730",
     "status": "completed"
    },
    "tags": [
     "exclude"
    ]
   },
   "source": [
    "## Git"
   ]
  },
  {
   "cell_type": "code",
   "execution_count": null,
   "id": "0883fa53-b0b8-4ce2-ac96-559df31c9c58",
   "metadata": {
    "papermill": {
     "duration": 0.388954,
     "end_time": "2023-02-21T23:29:59.821111",
     "exception": false,
     "start_time": "2023-02-21T23:29:59.432157",
     "status": "completed"
    },
    "tags": [
     "exclude"
    ]
   },
   "outputs": [],
   "source": [
    "! git add \"../*[Bb]andai*\""
   ]
  },
  {
   "cell_type": "code",
   "execution_count": null,
   "id": "3322a6a5-a048-42f3-a1ac-3124c0353599",
   "metadata": {
    "papermill": {
     "duration": 3.063687,
     "end_time": "2023-02-21T23:30:02.902563",
     "exception": false,
     "start_time": "2023-02-21T23:29:59.838876",
     "status": "completed"
    },
    "tags": [
     "exclude"
    ]
   },
   "outputs": [],
   "source": [
    "! git commit -m {\"'Bandai update-\" + timestamp.isoformat() + \"'\"}"
   ]
  }
 ],
 "metadata": {
  "kernelspec": {
   "display_name": "Python 3 (ipykernel)",
   "language": "python",
   "name": "python3"
  },
  "language_info": {
   "codemirror_mode": {
    "name": "ipython",
    "version": 3
   },
   "file_extension": ".py",
   "mimetype": "text/x-python",
   "name": "python",
   "nbconvert_exporter": "python",
   "pygments_lexer": "ipython3",
   "version": "3.10.8"
  },
  "papermill": {
   "default_parameters": {},
   "duration": 13.879203,
   "end_time": "2023-02-21T23:30:04.156176",
   "environment_variables": {},
   "exception": null,
   "input_path": "Bandai.ipynb",
   "output_path": "Bandai.ipynb",
   "parameters": {},
   "start_time": "2023-02-21T23:29:50.276973",
   "version": "2.4.0"
  }
 },
 "nbformat": 4,
 "nbformat_minor": 5
}
