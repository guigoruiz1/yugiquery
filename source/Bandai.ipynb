{
 "cells": [
  {
   "cell_type": "code",
   "execution_count": null,
   "id": "9903a324-2402-461a-b8b3-9dec09caceb4",
   "metadata": {
    "papermill": {
     "duration": 2.060744,
     "end_time": "2023-02-21T19:56:21.196367",
     "exception": false,
     "start_time": "2023-02-21T19:56:19.135623",
     "status": "completed"
    },
    "tags": []
   },
   "outputs": [],
   "source": [
    "from yugiquery import *\n",
    "header('Bandai')"
   ]
  },
  {
   "cell_type": "markdown",
   "id": "9445cada-ce7a-4d46-a3e8-742439319435",
   "metadata": {
    "papermill": {
     "duration": 0.073445,
     "end_time": "2023-02-21T19:56:21.284785",
     "exception": false,
     "start_time": "2023-02-21T19:56:21.211340",
     "status": "completed"
    },
    "tags": []
   },
   "source": [
    "---"
   ]
  },
  {
   "cell_type": "markdown",
   "id": "ddf5afac-0c61-47d8-a0ad-f441a705eb88",
   "metadata": {
    "papermill": {
     "duration": 0.011167,
     "end_time": "2023-02-21T19:56:21.308068",
     "exception": false,
     "start_time": "2023-02-21T19:56:21.296901",
     "status": "completed"
    },
    "tags": []
   },
   "source": [
    "# Data aquisition"
   ]
  },
  {
   "cell_type": "markdown",
   "id": "cc75b862-8058-4db2-9499-446fd0d3042e",
   "metadata": {
    "papermill": {
     "duration": 0.012241,
     "end_time": "2023-02-21T19:56:21.332166",
     "exception": false,
     "start_time": "2023-02-21T19:56:21.319925",
     "status": "completed"
    },
    "tags": []
   },
   "source": [
    "## Fetch online data"
   ]
  },
  {
   "cell_type": "code",
   "execution_count": null,
   "id": "9df14404-b603-4f17-b66e-5766bed0175b",
   "metadata": {
    "papermill": {
     "duration": 0.020231,
     "end_time": "2023-02-21T19:56:21.363732",
     "exception": false,
     "start_time": "2023-02-21T19:56:21.343501",
     "status": "completed"
    },
    "tags": []
   },
   "outputs": [],
   "source": [
    "timestamp = pd.Timestamp.now()"
   ]
  },
  {
   "cell_type": "code",
   "execution_count": null,
   "id": "e29ba8f9-c3ad-4353-af35-9183e22a314b",
   "metadata": {
    "papermill": {
     "duration": 1.335101,
     "end_time": "2023-02-21T19:56:22.710843",
     "exception": false,
     "start_time": "2023-02-21T19:56:21.375742",
     "status": "completed"
    },
    "tags": []
   },
   "outputs": [],
   "source": [
    "bandai_df = fetch_bandai()"
   ]
  },
  {
   "cell_type": "markdown",
   "id": "ae8c018f-312e-4582-b1ab-af7d06e3e9d1",
   "metadata": {
    "papermill": {
     "duration": 0.053715,
     "end_time": "2023-02-21T19:56:22.779181",
     "exception": false,
     "start_time": "2023-02-21T19:56:22.725466",
     "status": "completed"
    },
    "tags": []
   },
   "source": [
    "# Check changes"
   ]
  },
  {
   "cell_type": "markdown",
   "id": "6f3d5394-1deb-4877-8e8c-d3b4c389df86",
   "metadata": {
    "papermill": {
     "duration": 0.011166,
     "end_time": "2023-02-21T19:56:22.802221",
     "exception": false,
     "start_time": "2023-02-21T19:56:22.791055",
     "status": "completed"
    },
    "tags": []
   },
   "source": [
    "## Load previous data"
   ]
  },
  {
   "cell_type": "code",
   "execution_count": null,
   "id": "b2004432-65fb-4341-bfe5-a04ad2147553",
   "metadata": {
    "papermill": {
     "duration": 0.034131,
     "end_time": "2023-02-21T19:56:22.847927",
     "exception": false,
     "start_time": "2023-02-21T19:56:22.813796",
     "status": "completed"
    },
    "tags": []
   },
   "outputs": [],
   "source": [
    "# Get list of files\n",
    "files_list = sorted(glob.glob('../data/all_bandai_*.csv'), key=os.path.getctime, reverse=True)\n",
    "# Get second newest file if exist\n",
    "if files_list:\n",
    "    # Load csv avoiding converting \"NA\" to NaN\n",
    "    previous_df = pd.read_csv(files_list[0], dtype=object, keep_default_na=False, na_values=[''])\n",
    "    # Force dtypes to match current df\n",
    "    previous_df = previous_df.astype(bandai_df[previous_df.columns.intersection(bandai_df.columns)].dtypes.to_dict())\n",
    "    previous_ts = pd.to_datetime(os.path.basename(files_list[0]).split('_')[-1].rstrip('.csv'))\n",
    "    print('File loaded')\n",
    "else:\n",
    "    previous_df = None\n",
    "    print('No older files')"
   ]
  },
  {
   "cell_type": "markdown",
   "id": "96111a58-528d-4a95-94dc-2c8772fc8f81",
   "metadata": {
    "papermill": {
     "duration": 0.011996,
     "end_time": "2023-02-21T19:56:22.871974",
     "exception": false,
     "start_time": "2023-02-21T19:56:22.859978",
     "status": "completed"
    },
    "tags": []
   },
   "source": [
    "## Generate changelog"
   ]
  },
  {
   "cell_type": "code",
   "execution_count": null,
   "id": "2022a407-d6c2-4ff0-8d8f-e8431901d436",
   "metadata": {
    "papermill": {
     "duration": 0.048309,
     "end_time": "2023-02-21T19:56:22.931840",
     "exception": false,
     "start_time": "2023-02-21T19:56:22.883531",
     "status": "completed"
    },
    "tags": []
   },
   "outputs": [],
   "source": [
    "if previous_df is None:\n",
    "    changelog=None\n",
    "    print('Skipped')\n",
    "else:\n",
    "    changelog = generate_changelog(previous_df, bandai_df, col = 'Name')\n",
    "    if not changelog.empty:\n",
    "        display(changelog)\n",
    "        changelog.to_csv(f'../data/bandai_changelog_{timestamp.isoformat(timespec=\"minutes\")}_{previous_ts.isoformat(timespec=\"minutes\")}.csv', index = True)\n",
    "        print('Changelog saved')"
   ]
  },
  {
   "cell_type": "markdown",
   "id": "c50bdfb0-a6d1-43d7-8c96-f9145e053946",
   "metadata": {
    "papermill": {
     "duration": 0.011267,
     "end_time": "2023-02-21T19:56:22.954826",
     "exception": false,
     "start_time": "2023-02-21T19:56:22.943559",
     "status": "completed"
    },
    "tags": []
   },
   "source": [
    "## Save data"
   ]
  },
  {
   "cell_type": "code",
   "execution_count": null,
   "id": "c3aadd59-2d67-4c2a-81a4-3543bdbeb2f5",
   "metadata": {
    "papermill": {
     "duration": 0.02338,
     "end_time": "2023-02-21T19:56:22.990314",
     "exception": false,
     "start_time": "2023-02-21T19:56:22.966934",
     "status": "completed"
    },
    "tags": []
   },
   "outputs": [],
   "source": [
    "if changelog is not None and changelog.empty:\n",
    "    print('No changes. New data not saved')\n",
    "else:\n",
    "    bandai_df.to_csv(f'../data/all_bandai_{timestamp.isoformat(timespec=\"minutes\")}.csv', index=False)\n",
    "    print('Data saved')"
   ]
  },
  {
   "cell_type": "markdown",
   "id": "c64d414c-93b3-4464-b985-40bf135ddb1a",
   "metadata": {
    "papermill": {
     "duration": 0.011401,
     "end_time": "2023-02-21T19:56:23.013538",
     "exception": false,
     "start_time": "2023-02-21T19:56:23.002137",
     "status": "completed"
    },
    "tags": []
   },
   "source": [
    "# Data visualization"
   ]
  },
  {
   "cell_type": "code",
   "execution_count": null,
   "id": "56b6402a-ade8-44fc-9e6d-c46b54e6bd6f",
   "metadata": {
    "papermill": {
     "duration": 0.040059,
     "end_time": "2023-02-21T19:56:23.065319",
     "exception": false,
     "start_time": "2023-02-21T19:56:23.025260",
     "status": "completed"
    },
    "tags": []
   },
   "outputs": [],
   "source": [
    "bandai_df"
   ]
  },
  {
   "cell_type": "markdown",
   "id": "f31c671e-6e38-4f7c-b2e2-40a434e444d1",
   "metadata": {
    "papermill": {
     "duration": 0.0124,
     "end_time": "2023-02-21T19:56:23.090700",
     "exception": false,
     "start_time": "2023-02-21T19:56:23.078300",
     "status": "completed"
    },
    "tags": []
   },
   "source": [
    "## Card type"
   ]
  },
  {
   "cell_type": "code",
   "execution_count": null,
   "id": "20ef81f9-2614-4151-b599-ba802a7b4530",
   "metadata": {
    "papermill": {
     "duration": 0.024901,
     "end_time": "2023-02-21T19:56:23.127989",
     "exception": false,
     "start_time": "2023-02-21T19:56:23.103088",
     "status": "completed"
    },
    "tags": []
   },
   "outputs": [],
   "source": [
    "bandai_df['Card type'].nunique()"
   ]
  },
  {
   "cell_type": "markdown",
   "id": "00c6b243-67ad-42c5-9189-4d2d33c5372c",
   "metadata": {
    "papermill": {
     "duration": 0.012288,
     "end_time": "2023-02-21T19:56:23.152671",
     "exception": false,
     "start_time": "2023-02-21T19:56:23.140383",
     "status": "completed"
    },
    "tags": []
   },
   "source": [
    "## ATK"
   ]
  },
  {
   "cell_type": "code",
   "execution_count": null,
   "id": "ee21be78-369b-4022-9d9b-2cfc4dee5724",
   "metadata": {
    "papermill": {
     "duration": 0.026087,
     "end_time": "2023-02-21T19:56:23.191177",
     "exception": false,
     "start_time": "2023-02-21T19:56:23.165090",
     "status": "completed"
    },
    "tags": []
   },
   "outputs": [],
   "source": [
    "bandai_df['ATK'].value_counts()"
   ]
  },
  {
   "cell_type": "code",
   "execution_count": null,
   "id": "418c7a17-237f-4390-82d9-a37130bea190",
   "metadata": {
    "papermill": {
     "duration": 0.029683,
     "end_time": "2023-02-21T19:56:23.235692",
     "exception": false,
     "start_time": "2023-02-21T19:56:23.206009",
     "status": "completed"
    },
    "tags": []
   },
   "outputs": [],
   "source": [
    "bandai_df['ATK'].value_counts()"
   ]
  },
  {
   "cell_type": "markdown",
   "id": "f3a64016-d755-44e4-af52-7b26e2069e3f",
   "metadata": {
    "papermill": {
     "duration": 0.023906,
     "end_time": "2023-02-21T19:56:23.274549",
     "exception": false,
     "start_time": "2023-02-21T19:56:23.250643",
     "status": "completed"
    },
    "tags": []
   },
   "source": [
    "## DEF"
   ]
  },
  {
   "cell_type": "code",
   "execution_count": null,
   "id": "8e74d069-81b3-4ead-a7f6-57c220dd77e6",
   "metadata": {
    "papermill": {
     "duration": 0.045985,
     "end_time": "2023-02-21T19:56:23.336912",
     "exception": false,
     "start_time": "2023-02-21T19:56:23.290927",
     "status": "completed"
    },
    "tags": []
   },
   "outputs": [],
   "source": [
    "bandai_df['DEF'].value_counts()"
   ]
  },
  {
   "cell_type": "code",
   "execution_count": null,
   "id": "8ceca51c-07fe-4285-ac5a-6f8c35cde7bd",
   "metadata": {
    "papermill": {
     "duration": 0.051032,
     "end_time": "2023-02-21T19:56:23.402886",
     "exception": false,
     "start_time": "2023-02-21T19:56:23.351854",
     "status": "completed"
    },
    "tags": []
   },
   "outputs": [],
   "source": [
    "bandai_df['DEF'].value_counts()"
   ]
  },
  {
   "cell_type": "code",
   "execution_count": null,
   "id": "d0886dbe-4bf9-4f27-9438-7f6098c1cf25",
   "metadata": {
    "papermill": {
     "duration": 0.08057,
     "end_time": "2023-02-21T19:56:23.510247",
     "exception": false,
     "start_time": "2023-02-21T19:56:23.429677",
     "status": "completed"
    },
    "tags": []
   },
   "outputs": [],
   "source": [
    "pd.crosstab(bandai_df['DEF'],bandai_df['ATK'])"
   ]
  },
  {
   "cell_type": "code",
   "execution_count": null,
   "id": "5b7e2e2a-6ade-4ace-8b10-d0a26fdd0d44",
   "metadata": {
    "papermill": {
     "duration": 0.033636,
     "end_time": "2023-02-21T19:56:23.558828",
     "exception": false,
     "start_time": "2023-02-21T19:56:23.525192",
     "status": "completed"
    },
    "tags": []
   },
   "outputs": [],
   "source": [
    "pd.to_numeric(bandai_df['ATK'].dropna(), errors = 'ignore').astype(int)"
   ]
  },
  {
   "cell_type": "markdown",
   "id": "02b9970b-696d-4ef0-b01d-0385e6c53575",
   "metadata": {
    "papermill": {
     "duration": 0.015261,
     "end_time": "2023-02-21T19:56:23.589145",
     "exception": false,
     "start_time": "2023-02-21T19:56:23.573884",
     "status": "completed"
    },
    "tags": []
   },
   "source": [
    "## Level"
   ]
  },
  {
   "cell_type": "code",
   "execution_count": null,
   "id": "96b94d81-b347-4b6d-bab9-263abee67b3b",
   "metadata": {
    "papermill": {
     "duration": 0.029801,
     "end_time": "2023-02-21T19:56:23.633997",
     "exception": false,
     "start_time": "2023-02-21T19:56:23.604196",
     "status": "completed"
    },
    "tags": []
   },
   "outputs": [],
   "source": [
    "bandai_df['Level'].nunique()"
   ]
  },
  {
   "cell_type": "code",
   "execution_count": null,
   "id": "305a6171-165e-4cd1-93d1-65917275ccb6",
   "metadata": {
    "papermill": {
     "duration": 0.032945,
     "end_time": "2023-02-21T19:56:23.682327",
     "exception": false,
     "start_time": "2023-02-21T19:56:23.649382",
     "status": "completed"
    },
    "tags": []
   },
   "outputs": [],
   "source": [
    "bandai_df['Level'].value_counts()"
   ]
  },
  {
   "cell_type": "markdown",
   "id": "3c277a51-155c-45af-af9c-12f51a97c224",
   "metadata": {
    "papermill": {
     "duration": 0.015188,
     "end_time": "2023-02-21T19:56:23.714647",
     "exception": false,
     "start_time": "2023-02-21T19:56:23.699459",
     "status": "completed"
    },
    "tags": []
   },
   "source": [
    "### By ATK"
   ]
  },
  {
   "cell_type": "code",
   "execution_count": null,
   "id": "ac7899b5-2278-46dd-9ff2-bb2cbdccf2c6",
   "metadata": {
    "papermill": {
     "duration": 0.087074,
     "end_time": "2023-02-21T19:56:23.817584",
     "exception": false,
     "start_time": "2023-02-21T19:56:23.730510",
     "status": "completed"
    },
    "tags": []
   },
   "outputs": [],
   "source": [
    "pd.crosstab(bandai_df['Level'],bandai_df['ATK'])"
   ]
  },
  {
   "cell_type": "markdown",
   "id": "f432342f-5730-48c9-bb6a-fca71cbc9a20",
   "metadata": {
    "papermill": {
     "duration": 0.01489,
     "end_time": "2023-02-21T19:56:23.847945",
     "exception": false,
     "start_time": "2023-02-21T19:56:23.833055",
     "status": "completed"
    },
    "tags": []
   },
   "source": [
    "### By DEF"
   ]
  },
  {
   "cell_type": "code",
   "execution_count": null,
   "id": "52ebe50e-ff8a-45c7-a88f-cd27834fe1e8",
   "metadata": {
    "papermill": {
     "duration": 0.064274,
     "end_time": "2023-02-21T19:56:23.929054",
     "exception": false,
     "start_time": "2023-02-21T19:56:23.864780",
     "status": "completed"
    },
    "tags": []
   },
   "outputs": [],
   "source": [
    "pd.crosstab(bandai_df['Level'],bandai_df['DEF'])"
   ]
  },
  {
   "cell_type": "markdown",
   "id": "f8a1f602-3981-413c-bc35-dadb1da03979",
   "metadata": {
    "papermill": {
     "duration": 0.015627,
     "end_time": "2023-02-21T19:56:23.960353",
     "exception": false,
     "start_time": "2023-02-21T19:56:23.944726",
     "status": "completed"
    },
    "tags": []
   },
   "source": [
    "## Monster type"
   ]
  },
  {
   "cell_type": "code",
   "execution_count": null,
   "id": "e71d220b-0843-40dc-b0e0-4bf57bf6aef2",
   "metadata": {
    "papermill": {
     "duration": 0.030334,
     "end_time": "2023-02-21T19:56:24.006461",
     "exception": false,
     "start_time": "2023-02-21T19:56:23.976127",
     "status": "completed"
    },
    "tags": []
   },
   "outputs": [],
   "source": [
    "bandai_df['Monster type'].nunique()"
   ]
  },
  {
   "cell_type": "code",
   "execution_count": null,
   "id": "4442a4b2-f82e-4624-947f-48e3e0e90763",
   "metadata": {
    "papermill": {
     "duration": 0.029416,
     "end_time": "2023-02-21T19:56:24.052191",
     "exception": false,
     "start_time": "2023-02-21T19:56:24.022775",
     "status": "completed"
    },
    "tags": []
   },
   "outputs": [],
   "source": [
    "bandai_df['Monster type'].value_counts()"
   ]
  },
  {
   "cell_type": "markdown",
   "id": "1b6f5f73-c9cd-483c-96da-54174938da5a",
   "metadata": {
    "papermill": {
     "duration": 0.016604,
     "end_time": "2023-02-21T19:56:24.084870",
     "exception": false,
     "start_time": "2023-02-21T19:56:24.068266",
     "status": "completed"
    },
    "tags": []
   },
   "source": [
    "# Epilogue"
   ]
  },
  {
   "cell_type": "code",
   "execution_count": null,
   "id": "9ebe9200-4e74-4db0-8f10-d7b258b9ef7c",
   "metadata": {
    "papermill": {
     "duration": 0.025528,
     "end_time": "2023-02-21T19:56:24.126964",
     "exception": false,
     "start_time": "2023-02-21T19:56:24.101436",
     "status": "completed"
    },
    "tags": []
   },
   "outputs": [],
   "source": [
    "benchmark('bandai',timestamp)"
   ]
  },
  {
   "cell_type": "code",
   "execution_count": null,
   "id": "eae8bd03-02f4-486d-9ae0-ddc7227985f2",
   "metadata": {
    "papermill": {
     "duration": 0.027325,
     "end_time": "2023-02-21T19:56:24.170924",
     "exception": false,
     "start_time": "2023-02-21T19:56:24.143599",
     "status": "completed"
    },
    "tags": []
   },
   "outputs": [],
   "source": [
    "footer()"
   ]
  },
  {
   "cell_type": "markdown",
   "id": "f8ddd2ba-01d3-4b5d-901a-62ea4f793309",
   "metadata": {
    "papermill": {
     "duration": 0.016131,
     "end_time": "2023-02-21T19:56:24.203704",
     "exception": false,
     "start_time": "2023-02-21T19:56:24.187573",
     "status": "completed"
    },
    "tags": []
   },
   "source": [
    "## HTML export"
   ]
  },
  {
   "cell_type": "code",
   "execution_count": null,
   "id": "1f2182a7-7cc8-4959-8af5-ba7ea26439a7",
   "metadata": {
    "papermill": {
     "duration": 0.030899,
     "end_time": "2023-02-21T19:56:24.251186",
     "exception": false,
     "start_time": "2023-02-21T19:56:24.220287",
     "status": "completed"
    },
    "tags": []
   },
   "outputs": [],
   "source": [
    "# Save notebook on disck before generating HTML report\n",
    "save_notebook()"
   ]
  },
  {
   "cell_type": "code",
   "execution_count": null,
   "id": "d7137575-20bb-4fb2-b32e-0d9de2d1cba7",
   "metadata": {
    "papermill": {
     "duration": 4.720708,
     "end_time": "2023-02-21T19:56:28.992181",
     "exception": false,
     "start_time": "2023-02-21T19:56:24.271473",
     "status": "completed"
    },
    "tags": []
   },
   "outputs": [],
   "source": [
    "! jupyter nbconvert Bandai.ipynb --output-dir='../' --to=HTML --TagRemovePreprocessor.enabled=True --TagRemovePreprocessor.remove_cell_tags='exclude' --TemplateExporter.exclude_input=True --TemplateExporter.exclude_input_prompt=True --TemplateExporter.exclude_output_prompt=True"
   ]
  },
  {
   "cell_type": "markdown",
   "id": "a28db6c7-1f12-497c-adc6-660f199e3369",
   "metadata": {
    "papermill": {
     "duration": 0.016951,
     "end_time": "2023-02-21T19:56:29.026299",
     "exception": false,
     "start_time": "2023-02-21T19:56:29.009348",
     "status": "completed"
    },
    "tags": [
     "exclude"
    ]
   },
   "source": [
    "## Git"
   ]
  },
  {
   "cell_type": "code",
   "execution_count": null,
   "id": "0883fa53-b0b8-4ce2-ac96-559df31c9c58",
   "metadata": {
    "papermill": {
     "duration": 1.232327,
     "end_time": "2023-02-21T19:56:30.275557",
     "exception": false,
     "start_time": "2023-02-21T19:56:29.043230",
     "status": "completed"
    },
    "tags": [
     "exclude"
    ]
   },
   "outputs": [],
   "source": [
    "! git add \"../*[Bb]andai*\""
   ]
  },
  {
   "cell_type": "code",
   "execution_count": null,
   "id": "3322a6a5-a048-42f3-a1ac-3124c0353599",
   "metadata": {
    "papermill": {
     "duration": 1.222816,
     "end_time": "2023-02-21T19:56:31.515932",
     "exception": false,
     "start_time": "2023-02-21T19:56:30.293116",
     "status": "completed"
    },
    "tags": [
     "exclude"
    ]
   },
   "outputs": [],
   "source": [
    "! git commit -m {\"'Bandai update-\" + timestamp.isoformat() + \"'\"}"
   ]
  }
 ],
 "metadata": {
  "kernelspec": {
   "display_name": "Python 3 (ipykernel)",
   "language": "python",
   "name": "python3"
  },
  "language_info": {
   "codemirror_mode": {
    "name": "ipython",
    "version": 3
   },
   "file_extension": ".py",
   "mimetype": "text/x-python",
   "name": "python",
   "nbconvert_exporter": "python",
   "pygments_lexer": "ipython3",
   "version": "3.10.8"
  },
  "papermill": {
   "default_parameters": {},
   "duration": 14.830306,
   "end_time": "2023-02-21T19:56:32.357062",
   "environment_variables": {},
   "exception": null,
   "input_path": "Bandai.ipynb",
   "output_path": "Bandai.ipynb",
   "parameters": {},
   "start_time": "2023-02-21T19:56:17.526756",
   "version": "2.4.0"
  }
 },
 "nbformat": 4,
 "nbformat_minor": 5
}
