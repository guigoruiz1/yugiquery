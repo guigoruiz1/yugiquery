{
 "cells": [
  {
   "cell_type": "code",
   "execution_count": null,
   "id": "9903a324-2402-461a-b8b3-9dec09caceb4",
   "metadata": {
    "papermill": {
     "duration": 2.369582,
     "end_time": "2023-11-26T16:36:21.375444",
     "exception": false,
     "start_time": "2023-11-26T16:36:19.005862",
     "status": "completed"
    },
    "tags": []
   },
   "outputs": [],
   "source": [
    "from yugiquery import *\n",
    "init_notebook_mode(all_interactive=True)\n",
    "\n",
    "header(\"Bandai\")"
   ]
  },
  {
   "cell_type": "markdown",
   "id": "9445cada-ce7a-4d46-a3e8-742439319435",
   "metadata": {
    "papermill": {
     "duration": 0.516397,
     "end_time": "2023-11-26T16:36:21.920972",
     "exception": false,
     "start_time": "2023-11-26T16:36:21.404575",
     "status": "completed"
    },
    "tags": []
   },
   "source": [
    "---"
   ]
  },
  {
   "cell_type": "markdown",
   "id": "ddf5afac-0c61-47d8-a0ad-f441a705eb88",
   "metadata": {
    "papermill": {
     "duration": 0.427088,
     "end_time": "2023-11-26T16:36:22.523586",
     "exception": false,
     "start_time": "2023-11-26T16:36:22.096498",
     "status": "completed"
    },
    "tags": []
   },
   "source": [
    "# Data aquisition"
   ]
  },
  {
   "cell_type": "markdown",
   "id": "cc75b862-8058-4db2-9499-446fd0d3042e",
   "metadata": {
    "papermill": {
     "duration": 0.666304,
     "end_time": "2023-11-26T16:36:23.241199",
     "exception": false,
     "start_time": "2023-11-26T16:36:22.574895",
     "status": "completed"
    },
    "tags": []
   },
   "source": [
    "## Fetch online data"
   ]
  },
  {
   "cell_type": "code",
   "execution_count": null,
   "id": "9df14404-b603-4f17-b66e-5766bed0175b",
   "metadata": {
    "editable": true,
    "papermill": {
     "duration": 0.975826,
     "end_time": "2023-11-26T16:36:24.785897",
     "exception": false,
     "start_time": "2023-11-26T16:36:23.810071",
     "status": "completed"
    },
    "slideshow": {
     "slide_type": ""
    },
    "tags": []
   },
   "outputs": [],
   "source": [
    "timestamp = pd.Timestamp.now()"
   ]
  },
  {
   "cell_type": "code",
   "execution_count": null,
   "id": "e29ba8f9-c3ad-4353-af35-9183e22a314b",
   "metadata": {
    "editable": true,
    "papermill": {
     "duration": 1.447837,
     "end_time": "2023-11-26T16:36:26.628563",
     "exception": false,
     "start_time": "2023-11-26T16:36:25.180726",
     "status": "completed"
    },
    "slideshow": {
     "slide_type": ""
    },
    "tags": []
   },
   "outputs": [],
   "source": [
    "bandai_df = fetch_bandai()"
   ]
  },
  {
   "cell_type": "markdown",
   "id": "ae8c018f-312e-4582-b1ab-af7d06e3e9d1",
   "metadata": {
    "papermill": {
     "duration": 0.303757,
     "end_time": "2023-11-26T16:36:26.960653",
     "exception": false,
     "start_time": "2023-11-26T16:36:26.656896",
     "status": "completed"
    },
    "tags": []
   },
   "source": [
    "# Check changes"
   ]
  },
  {
   "cell_type": "markdown",
   "id": "6f3d5394-1deb-4877-8e8c-d3b4c389df86",
   "metadata": {
    "papermill": {
     "duration": 0.634329,
     "end_time": "2023-11-26T16:36:28.018314",
     "exception": false,
     "start_time": "2023-11-26T16:36:27.383985",
     "status": "completed"
    },
    "tags": []
   },
   "source": [
    "## Load previous data"
   ]
  },
  {
   "cell_type": "code",
   "execution_count": null,
   "id": "8144b798-14d4-4201-8e9d-afeffc0cda45",
   "metadata": {
    "papermill": {
     "duration": 0.204002,
     "end_time": "2023-11-26T16:36:30.490721",
     "exception": false,
     "start_time": "2023-11-26T16:36:30.286719",
     "status": "completed"
    },
    "tags": []
   },
   "outputs": [],
   "source": [
    "## Get list of files\n",
    "files_list = sorted(\n",
    "    glob.glob(\"../data/all_bandai_*.bz2\"), key=os.path.getctime, reverse=True\n",
    ")\n",
    "# Get second newest file if exist\n",
    "if files_list:\n",
    "    latest_file = files_list[0]\n",
    "    # Load csv avoiding converting \"NA\" to NaN\n",
    "    previous_df = pd.read_csv(\n",
    "        latest_file, dtype=object, keep_default_na=False, na_values=[\"\"]\n",
    "    )\n",
    "    # Force dtypes to match current df\n",
    "    previous_df = previous_df.astype(\n",
    "        bandai_df[previous_df.columns.intersection(bandai_df.columns)].dtypes.to_dict()\n",
    "    )\n",
    "    previous_ts = pd.to_datetime(\n",
    "        os.path.basename(latest_file).split(\"_\")[-1].rstrip(\".bz2\")\n",
    "    )\n",
    "    print(\"File loaded\")\n",
    "else:\n",
    "    previous_df = None\n",
    "    print(\"No older files\")"
   ]
  },
  {
   "cell_type": "markdown",
   "id": "96111a58-528d-4a95-94dc-2c8772fc8f81",
   "metadata": {
    "papermill": {
     "duration": 0.487314,
     "end_time": "2023-11-26T16:36:31.256631",
     "exception": false,
     "start_time": "2023-11-26T16:36:30.769317",
     "status": "completed"
    },
    "tags": []
   },
   "source": [
    "## Generate changelog"
   ]
  },
  {
   "cell_type": "code",
   "execution_count": null,
   "id": "2022a407-d6c2-4ff0-8d8f-e8431901d436",
   "metadata": {
    "papermill": {
     "duration": 0.294686,
     "end_time": "2023-11-26T16:36:31.619414",
     "exception": false,
     "start_time": "2023-11-26T16:36:31.324728",
     "status": "completed"
    },
    "tags": []
   },
   "outputs": [],
   "source": [
    "if previous_df is None:\n",
    "    changelog = None\n",
    "    print(\"Skipped\")\n",
    "else:\n",
    "    changelog = generate_changelog(previous_df, bandai_df, col=\"Name\")\n",
    "    if not changelog.empty:\n",
    "        display(changelog)\n",
    "        changelog.to_csv(\n",
    "            f'../data/bandai_changelog_{previous_ts.isoformat(timespec=\"minutes\")}_{timestamp.isoformat(timespec=\"minutes\")}.bz2',\n",
    "            index=True,\n",
    "        )\n",
    "        print(\"Changelog saved\")"
   ]
  },
  {
   "cell_type": "markdown",
   "id": "c50bdfb0-a6d1-43d7-8c96-f9145e053946",
   "metadata": {
    "papermill": {
     "duration": 0.215691,
     "end_time": "2023-11-26T16:36:32.109711",
     "exception": false,
     "start_time": "2023-11-26T16:36:31.894020",
     "status": "completed"
    },
    "tags": []
   },
   "source": [
    "## Save data"
   ]
  },
  {
   "cell_type": "code",
   "execution_count": null,
   "id": "c3aadd59-2d67-4c2a-81a4-3543bdbeb2f5",
   "metadata": {
    "papermill": {
     "duration": 1.200307,
     "end_time": "2023-11-26T16:36:33.424244",
     "exception": false,
     "start_time": "2023-11-26T16:36:32.223937",
     "status": "completed"
    },
    "tags": []
   },
   "outputs": [],
   "source": [
    "if changelog is not None and changelog.empty:\n",
    "    print(\"No changes. New data not saved\")\n",
    "else:\n",
    "    bandai_df.to_csv(\n",
    "        f'../data/all_bandai_{timestamp.isoformat(timespec=\"minutes\")}.bz2', index=False\n",
    "    )\n",
    "    print(\"Data saved\")"
   ]
  },
  {
   "cell_type": "markdown",
   "id": "c64d414c-93b3-4464-b985-40bf135ddb1a",
   "metadata": {
    "papermill": {
     "duration": 0.687767,
     "end_time": "2023-11-26T16:36:34.303024",
     "exception": false,
     "start_time": "2023-11-26T16:36:33.615257",
     "status": "completed"
    },
    "tags": []
   },
   "source": [
    "# Data visualization"
   ]
  },
  {
   "cell_type": "code",
   "execution_count": null,
   "id": "56b6402a-ade8-44fc-9e6d-c46b54e6bd6f",
   "metadata": {
    "papermill": {
     "duration": 0.389271,
     "end_time": "2023-11-26T16:36:34.980807",
     "exception": false,
     "start_time": "2023-11-26T16:36:34.591536",
     "status": "completed"
    },
    "tags": []
   },
   "outputs": [],
   "source": [
    "bandai_df"
   ]
  },
  {
   "cell_type": "markdown",
   "id": "f31c671e-6e38-4f7c-b2e2-40a434e444d1",
   "metadata": {
    "papermill": {
     "duration": 0.302049,
     "end_time": "2023-11-26T16:36:35.578255",
     "exception": false,
     "start_time": "2023-11-26T16:36:35.276206",
     "status": "completed"
    },
    "tags": []
   },
   "source": [
    "## Card type"
   ]
  },
  {
   "cell_type": "code",
   "execution_count": null,
   "id": "1403be1f-b22b-47a1-854c-8258ba7bde97",
   "metadata": {
    "papermill": {
     "duration": 0.559938,
     "end_time": "2023-11-26T16:36:36.728303",
     "exception": false,
     "start_time": "2023-11-26T16:36:36.168365",
     "status": "completed"
    },
    "tags": []
   },
   "outputs": [],
   "source": [
    "print(\"Total number of card types:\", bandai_df[\"Card type\"].nunique())"
   ]
  },
  {
   "cell_type": "code",
   "execution_count": null,
   "id": "d2f71e96-730c-4b69-afdb-3c0e128caae2",
   "metadata": {
    "papermill": {
     "duration": 0.917891,
     "end_time": "2023-11-26T16:36:38.464813",
     "exception": false,
     "start_time": "2023-11-26T16:36:37.546922",
     "status": "completed"
    },
    "tags": []
   },
   "outputs": [],
   "source": [
    "card_type_colors = [colors_dict[i] for i in bandai_df[\"Card type\"].value_counts().index]\n",
    "bandai_df[\"Card type\"].value_counts().plot.bar(\n",
    "    figsize=(18, 6), grid=True, rot=0, color=card_type_colors, title=\"Card type\"\n",
    ")\n",
    "plt.show()"
   ]
  },
  {
   "cell_type": "markdown",
   "id": "00c6b243-67ad-42c5-9189-4d2d33c5372c",
   "metadata": {
    "papermill": {
     "duration": 0.330906,
     "end_time": "2023-11-26T16:36:39.465231",
     "exception": false,
     "start_time": "2023-11-26T16:36:39.134325",
     "status": "completed"
    },
    "tags": []
   },
   "source": [
    "## ATK"
   ]
  },
  {
   "cell_type": "code",
   "execution_count": null,
   "id": "1b5db865",
   "metadata": {
    "papermill": {
     "duration": 1.036129,
     "end_time": "2023-11-26T16:36:40.947374",
     "exception": false,
     "start_time": "2023-11-26T16:36:39.911245",
     "status": "completed"
    },
    "tags": []
   },
   "outputs": [],
   "source": [
    "print(\"Total number of ATK values:\", bandai_df[\"ATK\"].nunique())"
   ]
  },
  {
   "cell_type": "code",
   "execution_count": null,
   "id": "16b9aa14",
   "metadata": {
    "papermill": {
     "duration": 1.210792,
     "end_time": "2023-11-26T16:36:42.755504",
     "exception": false,
     "start_time": "2023-11-26T16:36:41.544712",
     "status": "completed"
    },
    "tags": []
   },
   "outputs": [],
   "source": [
    "bandai_df.drop(columns=[\"Card type\", \"Page name\", \"Page URL\"]).groupby(\n",
    "    \"ATK\"\n",
    ").nunique().sort_index(key=lambda x: pd.to_numeric(x, errors=\"coerce\"))"
   ]
  },
  {
   "cell_type": "code",
   "execution_count": null,
   "id": "3b1b2e1d",
   "metadata": {
    "papermill": {
     "duration": 0.82557,
     "end_time": "2023-11-26T16:36:43.724290",
     "exception": false,
     "start_time": "2023-11-26T16:36:42.898720",
     "status": "completed"
    },
    "tags": []
   },
   "outputs": [],
   "source": [
    "atk_colors = colors_dict[\"Monster Card\"]\n",
    "bandai_df[\"ATK\"].value_counts().sort_index(\n",
    "    key=lambda x: pd.to_numeric(x, errors=\"coerce\")\n",
    ").plot.bar(figsize=(18, 6), grid=True, color=atk_colors, title=\"ATK\")\n",
    "plt.show()"
   ]
  },
  {
   "cell_type": "markdown",
   "id": "8c7f10ac-6c4e-42fe-be55-c2ea61abb7ae",
   "metadata": {
    "papermill": {
     "duration": 1.268892,
     "end_time": "2023-11-26T16:36:45.027025",
     "exception": false,
     "start_time": "2023-11-26T16:36:43.758133",
     "status": "completed"
    },
    "tags": []
   },
   "source": [
    "## DEF"
   ]
  },
  {
   "cell_type": "code",
   "execution_count": null,
   "id": "2aa0ba61",
   "metadata": {
    "papermill": {
     "duration": 0.817454,
     "end_time": "2023-11-26T16:36:49.245143",
     "exception": false,
     "start_time": "2023-11-26T16:36:48.427689",
     "status": "completed"
    },
    "tags": []
   },
   "outputs": [],
   "source": [
    "print(\"Total number of DEF values:\", bandai_df[\"DEF\"].nunique())"
   ]
  },
  {
   "cell_type": "code",
   "execution_count": null,
   "id": "54e9d56a",
   "metadata": {
    "papermill": {
     "duration": 0.887967,
     "end_time": "2023-11-26T16:36:50.266073",
     "exception": false,
     "start_time": "2023-11-26T16:36:49.378106",
     "status": "completed"
    },
    "tags": []
   },
   "outputs": [],
   "source": [
    "bandai_df.drop(columns=[\"Card type\", \"Page name\", \"Page URL\"]).groupby(\n",
    "    \"DEF\"\n",
    ").nunique().sort_index(key=lambda x: pd.to_numeric(x, errors=\"coerce\"))"
   ]
  },
  {
   "cell_type": "code",
   "execution_count": null,
   "id": "10aeff48",
   "metadata": {
    "papermill": {
     "duration": 1.294759,
     "end_time": "2023-11-26T16:36:51.947074",
     "exception": false,
     "start_time": "2023-11-26T16:36:50.652315",
     "status": "completed"
    },
    "tags": []
   },
   "outputs": [],
   "source": [
    "def_colors = colors_dict[\"Monster Card\"]\n",
    "bandai_df[\"DEF\"].value_counts().sort_index(\n",
    "    key=lambda x: pd.to_numeric(x, errors=\"coerce\")\n",
    ").plot.bar(figsize=(18, 6), grid=True, color=def_colors, title=\"DEF\")\n",
    "plt.show()"
   ]
  },
  {
   "cell_type": "markdown",
   "id": "02b9970b-696d-4ef0-b01d-0385e6c53575",
   "metadata": {
    "papermill": {
     "duration": 0.660192,
     "end_time": "2023-11-26T16:36:53.117044",
     "exception": false,
     "start_time": "2023-11-26T16:36:52.456852",
     "status": "completed"
    },
    "tags": []
   },
   "source": [
    "## Level"
   ]
  },
  {
   "cell_type": "code",
   "execution_count": null,
   "id": "f5543138",
   "metadata": {
    "papermill": {
     "duration": 0.630518,
     "end_time": "2023-11-26T16:36:53.895616",
     "exception": false,
     "start_time": "2023-11-26T16:36:53.265098",
     "status": "completed"
    },
    "tags": []
   },
   "outputs": [],
   "source": [
    "bandai_df.drop(columns=[\"Card type\", \"Page name\", \"Page URL\"]).groupby(\n",
    "    \"Level\"\n",
    ").nunique().sort_index(key=lambda x: pd.to_numeric(x, errors=\"coerce\"))"
   ]
  },
  {
   "cell_type": "code",
   "execution_count": null,
   "id": "31539bdc",
   "metadata": {
    "papermill": {
     "duration": 0.465883,
     "end_time": "2023-11-26T16:36:55.397238",
     "exception": false,
     "start_time": "2023-11-26T16:36:54.931355",
     "status": "completed"
    },
    "tags": []
   },
   "outputs": [],
   "source": [
    "level_colors = colors_dict[\"Level\"]\n",
    "bandai_df[\"Level\"].value_counts().sort_index(\n",
    "    key=lambda x: pd.to_numeric(x, errors=\"coerce\")\n",
    ").plot.bar(figsize=(18, 6), grid=True, rot=0, color=level_colors, title=\"Level/Rank\")\n",
    "plt.show()"
   ]
  },
  {
   "cell_type": "markdown",
   "id": "071ce72d-178c-4ff3-9e4a-25f2568db91b",
   "metadata": {
    "papermill": {
     "duration": 0.156015,
     "end_time": "2023-11-26T16:36:55.588614",
     "exception": false,
     "start_time": "2023-11-26T16:36:55.432599",
     "status": "completed"
    },
    "tags": []
   },
   "source": [
    "### ATK statistics"
   ]
  },
  {
   "cell_type": "code",
   "execution_count": null,
   "id": "06dc9107",
   "metadata": {
    "papermill": {
     "duration": 0.498237,
     "end_time": "2023-11-26T16:36:56.286967",
     "exception": false,
     "start_time": "2023-11-26T16:36:55.788730",
     "status": "completed"
    },
    "tags": []
   },
   "outputs": [],
   "source": [
    "bandai_df[[\"Level\", \"ATK\"]].apply(pd.to_numeric, errors=\"coerce\").dropna().astype(\n",
    "    int\n",
    ").groupby(\"Level\").describe()"
   ]
  },
  {
   "cell_type": "markdown",
   "id": "3d9b3073-cb28-48c0-94c3-17e6932f0903",
   "metadata": {
    "papermill": {
     "duration": 0.6033,
     "end_time": "2023-11-26T16:36:57.025798",
     "exception": false,
     "start_time": "2023-11-26T16:36:56.422498",
     "status": "completed"
    },
    "tags": []
   },
   "source": [
    "### DEF statistics"
   ]
  },
  {
   "cell_type": "code",
   "execution_count": null,
   "id": "cc005e78",
   "metadata": {
    "papermill": {
     "duration": 0.859135,
     "end_time": "2023-11-26T16:36:58.180035",
     "exception": false,
     "start_time": "2023-11-26T16:36:57.320900",
     "status": "completed"
    },
    "tags": []
   },
   "outputs": [],
   "source": [
    "bandai_df[[\"Level\", \"DEF\"]].apply(pd.to_numeric, errors=\"coerce\").dropna().astype(\n",
    "    int\n",
    ").groupby(\"Level\").describe()"
   ]
  },
  {
   "cell_type": "markdown",
   "id": "f8a1f602-3981-413c-bc35-dadb1da03979",
   "metadata": {
    "papermill": {
     "duration": 1.008609,
     "end_time": "2023-11-26T16:37:00.263474",
     "exception": false,
     "start_time": "2023-11-26T16:36:59.254865",
     "status": "completed"
    },
    "tags": []
   },
   "source": [
    "## Monster type"
   ]
  },
  {
   "cell_type": "code",
   "execution_count": null,
   "id": "dab77100",
   "metadata": {
    "papermill": {
     "duration": 0.427489,
     "end_time": "2023-11-26T16:37:00.952727",
     "exception": false,
     "start_time": "2023-11-26T16:37:00.525238",
     "status": "completed"
    },
    "tags": []
   },
   "outputs": [],
   "source": [
    "print(\"Total number of monster types:\", bandai_df[\"Monster type\"].nunique())"
   ]
  },
  {
   "cell_type": "code",
   "execution_count": null,
   "id": "02f5b750",
   "metadata": {
    "papermill": {
     "duration": 0.672854,
     "end_time": "2023-11-26T16:37:02.690322",
     "exception": false,
     "start_time": "2023-11-26T16:37:02.017468",
     "status": "completed"
    },
    "tags": []
   },
   "outputs": [],
   "source": [
    "bandai_df.drop(columns=[\"Card type\", \"Page name\", \"Page URL\"]).groupby(\n",
    "    \"Monster type\"\n",
    ").nunique()"
   ]
  },
  {
   "cell_type": "code",
   "execution_count": null,
   "id": "75111774",
   "metadata": {
    "papermill": {
     "duration": 0.539244,
     "end_time": "2023-11-26T16:37:03.778915",
     "exception": false,
     "start_time": "2023-11-26T16:37:03.239671",
     "status": "completed"
    },
    "tags": []
   },
   "outputs": [],
   "source": [
    "monster_type_colors = colors_dict[\"Monster Card\"]\n",
    "bandai_df[\"Monster type\"].value_counts().plot.bar(\n",
    "    figsize=(18, 6), grid=True, rot=45, color=monster_type_colors, title=\"Monster type\"\n",
    ")\n",
    "plt.show()"
   ]
  },
  {
   "cell_type": "markdown",
   "id": "eaf337f6-5f57-4f12-9ed9-56ee60684221",
   "metadata": {
    "papermill": {
     "duration": 0.375339,
     "end_time": "2023-11-26T16:37:04.310641",
     "exception": false,
     "start_time": "2023-11-26T16:37:03.935302",
     "status": "completed"
    },
    "tags": []
   },
   "source": [
    "## Set"
   ]
  },
  {
   "cell_type": "code",
   "execution_count": null,
   "id": "8235e37d-9495-4cdd-9935-47c991543663",
   "metadata": {
    "papermill": {
     "duration": 0.209998,
     "end_time": "2023-11-26T16:37:04.887082",
     "exception": false,
     "start_time": "2023-11-26T16:37:04.677084",
     "status": "completed"
    },
    "tags": []
   },
   "outputs": [],
   "source": [
    "print(\"Total number of sets:\", bandai_df[\"Set\"].nunique())"
   ]
  },
  {
   "cell_type": "code",
   "execution_count": null,
   "id": "5ea867ee-c5e5-48ed-84d4-9c66b205f185",
   "metadata": {
    "papermill": {
     "duration": 0.246825,
     "end_time": "2023-11-26T16:37:05.408679",
     "exception": false,
     "start_time": "2023-11-26T16:37:05.161854",
     "status": "completed"
    },
    "tags": []
   },
   "outputs": [],
   "source": [
    "bandai_df.drop(columns=[\"Page name\", \"Page URL\"]).groupby(\"Set\").nunique()"
   ]
  },
  {
   "cell_type": "markdown",
   "id": "1b6f5f73-c9cd-483c-96da-54174938da5a",
   "metadata": {
    "papermill": {
     "duration": 0.640943,
     "end_time": "2023-11-26T16:37:08.595024",
     "exception": false,
     "start_time": "2023-11-26T16:37:07.954081",
     "status": "completed"
    },
    "tags": []
   },
   "source": [
    "# Epilogue"
   ]
  },
  {
   "cell_type": "code",
   "execution_count": null,
   "id": "9ebe9200-4e74-4db0-8f10-d7b258b9ef7c",
   "metadata": {
    "papermill": {
     "duration": 1.426534,
     "end_time": "2023-11-26T16:37:10.402031",
     "exception": false,
     "start_time": "2023-11-26T16:37:08.975497",
     "status": "completed"
    },
    "tags": []
   },
   "outputs": [],
   "source": [
    "benchmark(\"bandai\", timestamp)"
   ]
  },
  {
   "cell_type": "code",
   "execution_count": null,
   "id": "eae8bd03-02f4-486d-9ae0-ddc7227985f2",
   "metadata": {
    "papermill": {
     "duration": 0.304863,
     "end_time": "2023-11-26T16:37:10.745826",
     "exception": false,
     "start_time": "2023-11-26T16:37:10.440963",
     "status": "completed"
    },
    "tags": []
   },
   "outputs": [],
   "source": [
    "footer()"
   ]
  },
  {
   "cell_type": "markdown",
   "id": "f8ddd2ba-01d3-4b5d-901a-62ea4f793309",
   "metadata": {
    "papermill": {
     "duration": 0.432387,
     "end_time": "2023-11-26T16:37:11.454120",
     "exception": false,
     "start_time": "2023-11-26T16:37:11.021733",
     "status": "completed"
    },
    "tags": []
   },
   "source": [
    "## HTML export"
   ]
  },
  {
   "cell_type": "code",
   "execution_count": null,
   "id": "1f2182a7-7cc8-4959-8af5-ba7ea26439a7",
   "metadata": {
    "papermill": {
     "duration": 0.457921,
     "end_time": "2023-11-26T16:37:12.371249",
     "exception": false,
     "start_time": "2023-11-26T16:37:11.913328",
     "status": "completed"
    },
    "tags": []
   },
   "outputs": [],
   "source": [
    "# Save notebook on disck before generating HTML report\n",
    "save_notebook()"
   ]
  },
  {
   "cell_type": "code",
   "execution_count": null,
   "id": "d7137575-20bb-4fb2-b32e-0d9de2d1cba7",
   "metadata": {
    "papermill": {
     "duration": 3.32217,
     "end_time": "2023-11-26T16:37:17.053526",
     "exception": false,
     "start_time": "2023-11-26T16:37:13.731356",
     "status": "completed"
    },
    "tags": []
   },
   "outputs": [],
   "source": [
    "! jupyter nbconvert Bandai.ipynb --output-dir='../' --to=HTML --TagRemovePreprocessor.enabled=True --TagRemovePreprocessor.remove_cell_tags='exclude' --TemplateExporter.exclude_input=True --TemplateExporter.exclude_input_prompt=True --TemplateExporter.exclude_output_prompt=True"
   ]
  },
  {
   "cell_type": "markdown",
   "id": "a28db6c7-1f12-497c-adc6-660f199e3369",
   "metadata": {
    "papermill": {
     "duration": 0.854094,
     "end_time": "2023-11-26T16:37:17.946906",
     "exception": false,
     "start_time": "2023-11-26T16:37:17.092812",
     "status": "completed"
    },
    "tags": [
     "exclude"
    ]
   },
   "source": [
    "## Git"
   ]
  },
  {
   "cell_type": "code",
   "execution_count": null,
   "id": "0883fa53-b0b8-4ce2-ac96-559df31c9c58",
   "metadata": {
    "papermill": {
     "duration": null,
     "end_time": null,
     "exception": false,
     "start_time": "2023-11-26T16:37:18.141035",
     "status": "running"
    },
    "tags": [
     "exclude"
    ]
   },
   "outputs": [],
   "source": [
    "! git add \"../*[Bb]andai*\""
   ]
  },
  {
   "cell_type": "code",
   "execution_count": null,
   "id": "3322a6a5-a048-42f3-a1ac-3124c0353599",
   "metadata": {
    "papermill": {
     "duration": null,
     "end_time": null,
     "exception": null,
     "start_time": null,
     "status": "pending"
    },
    "tags": [
     "exclude"
    ]
   },
   "outputs": [],
   "source": [
    "! git commit -m {\"'Bandai update-\" + timestamp.isoformat() + \"'\"}"
   ]
  }
 ],
 "metadata": {
  "kernelspec": {
   "display_name": "Python 3 (ipykernel)",
   "language": "python",
   "name": "python3"
  },
  "language_info": {
   "codemirror_mode": {
    "name": "ipython",
    "version": 3
   },
   "file_extension": ".py",
   "mimetype": "text/x-python",
   "name": "python",
   "nbconvert_exporter": "python",
   "pygments_lexer": "ipython3",
   "version": "3.11.6"
  },
  "papermill": {
   "default_parameters": {},
   "duration": null,
   "end_time": null,
   "environment_variables": {},
   "exception": null,
   "input_path": "Bandai.ipynb",
   "output_path": "Bandai.ipynb",
   "parameters": {},
   "start_time": "2023-11-26T16:36:17.919811",
   "version": "2.4.0"
  }
 },
 "nbformat": 4,
 "nbformat_minor": 5
}
