{
 "cells": [
  {
   "cell_type": "code",
   "execution_count": 1,
   "id": "db3fea09-dd17-4d4f-9751-4db442584d19",
   "metadata": {},
   "outputs": [
    {
     "data": {
      "text/markdown": [
       "<div align='center'>\n",
       "    <br>\n",
       "    <!-- Pre Style needed to fix HTML formatting -->\n",
       "    <pre style=\"line-height: var(--jp-code-line-height); font-family: var(--jp-code-font-family)\">\n",
       "    ██    ██ ██    ██  ██████  ██  ██████  ██    ██ ███████ ██████  ██    ██ \n",
       "     ██  ██  ██    ██ ██       ██ ██    ██ ██    ██ ██      ██   ██  ██  ██  \n",
       "      ████   ██    ██ ██   ███ ██ ██    ██ ██    ██ █████   ██████    ████   \n",
       "       ██    ██    ██ ██    ██ ██ ██ ▄▄ ██ ██    ██ ██      ██   ██    ██    \n",
       "       ██     ██████   ██████  ██  ██████   ██████  ███████ ██   ██    ██    \n",
       "                                      ▀▀                                     \n",
       "    </pre>\n",
       "</div>\n",
       "<div align='right'>\n",
       "    Speed Duel - Execution started 11/02/2023 17:49 UTC <br>\n",
       "    By <b>Guilherme Ruiz</b>\n",
       "</div>"
      ],
      "text/plain": [
       "<IPython.core.display.Markdown object>"
      ]
     },
     "execution_count": 1,
     "metadata": {},
     "output_type": "execute_result"
    }
   ],
   "source": [
    "from yugiquery import *\n",
    "header('Speed Duel')"
   ]
  },
  {
   "cell_type": "markdown",
   "id": "f26c89c2-c447-43a2-997b-603775191de3",
   "metadata": {},
   "source": [
    "---"
   ]
  },
  {
   "cell_type": "code",
   "execution_count": 2,
   "id": "4cf61b44-a485-4af9-9465-b4eb2431a730",
   "metadata": {},
   "outputs": [
    {
     "name": "stdout",
     "output_type": "stream",
     "text": [
      "Downloading skill cards\n",
      "https://yugipedia.com/api.php?action=ask&format=json&query=[[Category:Skill%20Cards]]|?English%20name=Name|?Card%20type|?Archseries|?TCG%20status|?TCG%20Speed%20Duel%20status|?Modification%20date|limit%3D5000|offset=0|order%3Dasc\n",
      "Iteration 1: 105 results\n",
      "105 results\n",
      "\n"
     ]
    }
   ],
   "source": [
    "skill_df = fetch_skill()"
   ]
  },
  {
   "cell_type": "code",
   "execution_count": 3,
   "id": "5c7bf9e7-a47a-4df3-83e9-26551ea97b06",
   "metadata": {},
   "outputs": [
    {
     "data": {
      "text/html": [
       "<div>\n",
       "<style scoped>\n",
       "    .dataframe tbody tr th:only-of-type {\n",
       "        vertical-align: middle;\n",
       "    }\n",
       "\n",
       "    .dataframe tbody tr th {\n",
       "        vertical-align: top;\n",
       "    }\n",
       "\n",
       "    .dataframe thead th {\n",
       "        text-align: right;\n",
       "    }\n",
       "</style>\n",
       "<table border=\"1\" class=\"dataframe\">\n",
       "  <thead>\n",
       "    <tr style=\"text-align: right;\">\n",
       "      <th></th>\n",
       "      <th>Name</th>\n",
       "      <th>Card type</th>\n",
       "      <th>Archseries</th>\n",
       "      <th>TCG status</th>\n",
       "      <th>TCG Speed Duel status</th>\n",
       "      <th>Page name</th>\n",
       "      <th>Page URL</th>\n",
       "      <th>Modification date</th>\n",
       "    </tr>\n",
       "  </thead>\n",
       "  <tbody>\n",
       "    <tr>\n",
       "      <th>0</th>\n",
       "      <td>Ancient Fusion</td>\n",
       "      <td>Skill Card</td>\n",
       "      <td>(Fusion (archetype),)</td>\n",
       "      <td>Illegal</td>\n",
       "      <td>Legal</td>\n",
       "      <td>Ancient Fusion</td>\n",
       "      <td>https://yugipedia.com/wiki/Ancient_Fusion</td>\n",
       "      <td>2022-12-06 13:13:12</td>\n",
       "    </tr>\n",
       "    <tr>\n",
       "      <th>1</th>\n",
       "      <td>Armed and Ready!</td>\n",
       "      <td>Skill Card</td>\n",
       "      <td>NaN</td>\n",
       "      <td>Illegal</td>\n",
       "      <td>Legal</td>\n",
       "      <td>Armed and Ready!</td>\n",
       "      <td>https://yugipedia.com/wiki/Armed_and_Ready!</td>\n",
       "      <td>2022-09-01 17:48:53</td>\n",
       "    </tr>\n",
       "    <tr>\n",
       "      <th>2</th>\n",
       "      <td>Aroma Strategy</td>\n",
       "      <td>Skill Card</td>\n",
       "      <td>NaN</td>\n",
       "      <td>Illegal</td>\n",
       "      <td>Legal</td>\n",
       "      <td>Aroma Strategy</td>\n",
       "      <td>https://yugipedia.com/wiki/Aroma_Strategy</td>\n",
       "      <td>2023-01-02 10:39:59</td>\n",
       "    </tr>\n",
       "    <tr>\n",
       "      <th>3</th>\n",
       "      <td>Bandit</td>\n",
       "      <td>Skill Card</td>\n",
       "      <td>NaN</td>\n",
       "      <td>Illegal</td>\n",
       "      <td>Legal</td>\n",
       "      <td>Bandit</td>\n",
       "      <td>https://yugipedia.com/wiki/Bandit</td>\n",
       "      <td>2020-12-02 03:33:23</td>\n",
       "    </tr>\n",
       "    <tr>\n",
       "      <th>4</th>\n",
       "      <td>Beasts of Phantom</td>\n",
       "      <td>Skill Card</td>\n",
       "      <td>NaN</td>\n",
       "      <td>Illegal</td>\n",
       "      <td>Legal</td>\n",
       "      <td>Beasts of Phantom</td>\n",
       "      <td>https://yugipedia.com/wiki/Beasts_of_Phantom</td>\n",
       "      <td>2022-12-27 18:47:29</td>\n",
       "    </tr>\n",
       "    <tr>\n",
       "      <th>...</th>\n",
       "      <td>...</td>\n",
       "      <td>...</td>\n",
       "      <td>...</td>\n",
       "      <td>...</td>\n",
       "      <td>...</td>\n",
       "      <td>...</td>\n",
       "      <td>...</td>\n",
       "      <td>...</td>\n",
       "    </tr>\n",
       "    <tr>\n",
       "      <th>100</th>\n",
       "      <td>Union Combination</td>\n",
       "      <td>Skill Card</td>\n",
       "      <td>NaN</td>\n",
       "      <td>Illegal</td>\n",
       "      <td>Legal</td>\n",
       "      <td>Union Combination</td>\n",
       "      <td>https://yugipedia.com/wiki/Union_Combination</td>\n",
       "      <td>2023-02-09 12:07:11</td>\n",
       "    </tr>\n",
       "    <tr>\n",
       "      <th>101</th>\n",
       "      <td>Viral Infection</td>\n",
       "      <td>Skill Card</td>\n",
       "      <td>NaN</td>\n",
       "      <td>Illegal</td>\n",
       "      <td>Legal</td>\n",
       "      <td>Viral Infection</td>\n",
       "      <td>https://yugipedia.com/wiki/Viral_Infection</td>\n",
       "      <td>2020-05-29 17:27:57</td>\n",
       "    </tr>\n",
       "    <tr>\n",
       "      <th>102</th>\n",
       "      <td>Volcanic Cannon</td>\n",
       "      <td>Skill Card</td>\n",
       "      <td>(Volcanic,)</td>\n",
       "      <td>Illegal</td>\n",
       "      <td>Legal</td>\n",
       "      <td>Volcanic Cannon</td>\n",
       "      <td>https://yugipedia.com/wiki/Volcanic_Cannon</td>\n",
       "      <td>2022-09-01 17:16:50</td>\n",
       "    </tr>\n",
       "    <tr>\n",
       "      <th>103</th>\n",
       "      <td>The World's Greatest Fisherman</td>\n",
       "      <td>Skill Card</td>\n",
       "      <td>NaN</td>\n",
       "      <td>Illegal</td>\n",
       "      <td>Legal</td>\n",
       "      <td>The World's Greatest Fisherman</td>\n",
       "      <td>https://yugipedia.com/wiki/The_World%27s_Great...</td>\n",
       "      <td>2020-05-29 17:49:58</td>\n",
       "    </tr>\n",
       "    <tr>\n",
       "      <th>104</th>\n",
       "      <td>Zombie Master</td>\n",
       "      <td>Skill Card</td>\n",
       "      <td>NaN</td>\n",
       "      <td>Illegal</td>\n",
       "      <td>Legal</td>\n",
       "      <td>Zombie Master (Skill Card)</td>\n",
       "      <td>https://yugipedia.com/wiki/Zombie_Master_(Skil...</td>\n",
       "      <td>2022-12-27 15:38:32</td>\n",
       "    </tr>\n",
       "  </tbody>\n",
       "</table>\n",
       "<p>105 rows × 8 columns</p>\n",
       "</div>"
      ],
      "text/plain": [
       "                               Name   Card type             Archseries  \\\n",
       "0                    Ancient Fusion  Skill Card  (Fusion (archetype),)   \n",
       "1                  Armed and Ready!  Skill Card                    NaN   \n",
       "2                    Aroma Strategy  Skill Card                    NaN   \n",
       "3                            Bandit  Skill Card                    NaN   \n",
       "4                 Beasts of Phantom  Skill Card                    NaN   \n",
       "..                              ...         ...                    ...   \n",
       "100               Union Combination  Skill Card                    NaN   \n",
       "101                 Viral Infection  Skill Card                    NaN   \n",
       "102                 Volcanic Cannon  Skill Card            (Volcanic,)   \n",
       "103  The World's Greatest Fisherman  Skill Card                    NaN   \n",
       "104                   Zombie Master  Skill Card                    NaN   \n",
       "\n",
       "    TCG status TCG Speed Duel status                       Page name  \\\n",
       "0      Illegal                 Legal                  Ancient Fusion   \n",
       "1      Illegal                 Legal                Armed and Ready!   \n",
       "2      Illegal                 Legal                  Aroma Strategy   \n",
       "3      Illegal                 Legal                          Bandit   \n",
       "4      Illegal                 Legal               Beasts of Phantom   \n",
       "..         ...                   ...                             ...   \n",
       "100    Illegal                 Legal               Union Combination   \n",
       "101    Illegal                 Legal                 Viral Infection   \n",
       "102    Illegal                 Legal                 Volcanic Cannon   \n",
       "103    Illegal                 Legal  The World's Greatest Fisherman   \n",
       "104    Illegal                 Legal      Zombie Master (Skill Card)   \n",
       "\n",
       "                                              Page URL   Modification date  \n",
       "0            https://yugipedia.com/wiki/Ancient_Fusion 2022-12-06 13:13:12  \n",
       "1          https://yugipedia.com/wiki/Armed_and_Ready! 2022-09-01 17:48:53  \n",
       "2            https://yugipedia.com/wiki/Aroma_Strategy 2023-01-02 10:39:59  \n",
       "3                    https://yugipedia.com/wiki/Bandit 2020-12-02 03:33:23  \n",
       "4         https://yugipedia.com/wiki/Beasts_of_Phantom 2022-12-27 18:47:29  \n",
       "..                                                 ...                 ...  \n",
       "100       https://yugipedia.com/wiki/Union_Combination 2023-02-09 12:07:11  \n",
       "101         https://yugipedia.com/wiki/Viral_Infection 2020-05-29 17:27:57  \n",
       "102         https://yugipedia.com/wiki/Volcanic_Cannon 2022-09-01 17:16:50  \n",
       "103  https://yugipedia.com/wiki/The_World%27s_Great... 2020-05-29 17:49:58  \n",
       "104  https://yugipedia.com/wiki/Zombie_Master_(Skil... 2022-12-27 15:38:32  \n",
       "\n",
       "[105 rows x 8 columns]"
      ]
     },
     "execution_count": 3,
     "metadata": {},
     "output_type": "execute_result"
    }
   ],
   "source": [
    "skill_df"
   ]
  },
  {
   "cell_type": "code",
   "execution_count": 4,
   "id": "20534761-da7b-478a-a7cb-b8cdd434f77e",
   "metadata": {},
   "outputs": [
    {
     "data": {
      "text/markdown": [
       "<div align='right'>\n",
       "    Execution completed 11/02/2023 17:49 UTC\n",
       "</div>"
      ],
      "text/plain": [
       "<IPython.core.display.Markdown object>"
      ]
     },
     "execution_count": 4,
     "metadata": {},
     "output_type": "execute_result"
    }
   ],
   "source": [
    "footer()"
   ]
  },
  {
   "cell_type": "markdown",
   "id": "44415c04-18b0-4d1e-ac12-ec8e30bd08d8",
   "metadata": {
    "papermill": {
     "duration": null,
     "end_time": null,
     "exception": null,
     "start_time": null,
     "status": "pending"
    },
    "tags": []
   },
   "source": [
    "## HTML export"
   ]
  },
  {
   "cell_type": "code",
   "execution_count": null,
   "id": "00f871b4-5b9c-4092-b774-54aa01af999f",
   "metadata": {
    "papermill": {
     "duration": null,
     "end_time": null,
     "exception": null,
     "start_time": null,
     "status": "pending"
    },
    "tags": []
   },
   "outputs": [],
   "source": [
    "# Save notebook on disck before generating HTML report\n",
    "save_notebook()"
   ]
  },
  {
   "cell_type": "code",
   "execution_count": null,
   "id": "5ab72228-2db0-461d-8964-2ec516b619a7",
   "metadata": {
    "papermill": {
     "duration": null,
     "end_time": null,
     "exception": null,
     "start_time": null,
     "status": "pending"
    },
    "tags": []
   },
   "outputs": [],
   "source": [
    "! jupyter nbconvert Speed.ipynb --output-dir='../' --to=HTML --TagRemovePreprocessor.enabled=True --TagRemovePreprocessor.remove_cell_tags='exclude' --TemplateExporter.exclude_input=True --TemplateExporter.exclude_input_prompt=True --TemplateExporter.exclude_output_prompt=True"
   ]
  },
  {
   "cell_type": "markdown",
   "id": "167d76c1-a2fb-4635-9864-e7f515f7d059",
   "metadata": {
    "papermill": {
     "duration": null,
     "end_time": null,
     "exception": null,
     "start_time": null,
     "status": "pending"
    },
    "tags": [
     "exclude"
    ]
   },
   "source": [
    "## Git"
   ]
  },
  {
   "cell_type": "code",
   "execution_count": null,
   "id": "5861c149-66bb-4347-80ab-7483d9313dce",
   "metadata": {
    "papermill": {
     "duration": null,
     "end_time": null,
     "exception": null,
     "start_time": null,
     "status": "pending"
    },
    "tags": [
     "exclude"
    ]
   },
   "outputs": [],
   "source": [
    "! git add \"../*[Ss]peed*\""
   ]
  },
  {
   "cell_type": "code",
   "execution_count": null,
   "id": "dc0d112d-7937-4eba-a788-e8a134f8d5cf",
   "metadata": {
    "papermill": {
     "duration": null,
     "end_time": null,
     "exception": null,
     "start_time": null,
     "status": "pending"
    },
    "tags": [
     "exclude"
    ]
   },
   "outputs": [],
   "source": [
    "! git commit -m {\"'Speed duel update-\" + timestamp.isoformat() + \"'\"}"
   ]
  }
 ],
 "metadata": {
  "kernelspec": {
   "display_name": "Python 3 (ipykernel)",
   "language": "python",
   "name": "python3"
  },
  "language_info": {
   "codemirror_mode": {
    "name": "ipython",
    "version": 3
   },
   "file_extension": ".py",
   "mimetype": "text/x-python",
   "name": "python",
   "nbconvert_exporter": "python",
   "pygments_lexer": "ipython3",
   "version": "3.10.8"
  }
 },
 "nbformat": 4,
 "nbformat_minor": 5
}
