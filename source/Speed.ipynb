{
 "cells": [
  {
   "cell_type": "code",
   "execution_count": 1,
   "id": "db3fea09-dd17-4d4f-9751-4db442584d19",
   "metadata": {
    "execution": {
     "iopub.execute_input": "2023-02-12T00:18:30.517495Z",
     "iopub.status.busy": "2023-02-12T00:18:30.516780Z",
     "iopub.status.idle": "2023-02-12T00:18:40.834455Z",
     "shell.execute_reply": "2023-02-12T00:18:40.833507Z"
    },
    "papermill": {
     "duration": 10.325402,
     "end_time": "2023-02-12T00:18:40.836798",
     "exception": false,
     "start_time": "2023-02-12T00:18:30.511396",
     "status": "completed"
    },
    "tags": []
   },
   "outputs": [
    {
     "data": {
      "text/markdown": [
       "<div align='center'>\n",
       "    <br>\n",
       "    <!-- Pre Style needed to fix HTML formatting -->\n",
       "    <pre style=\"line-height: var(--jp-code-line-height); font-family: var(--jp-code-font-family)\">\n",
       "    ██    ██ ██    ██  ██████  ██  ██████  ██    ██ ███████ ██████  ██    ██ \n",
       "     ██  ██  ██    ██ ██       ██ ██    ██ ██    ██ ██      ██   ██  ██  ██  \n",
       "      ████   ██    ██ ██   ███ ██ ██    ██ ██    ██ █████   ██████    ████   \n",
       "       ██    ██    ██ ██    ██ ██ ██ ▄▄ ██ ██    ██ ██      ██   ██    ██    \n",
       "       ██     ██████   ██████  ██  ██████   ██████  ███████ ██   ██    ██    \n",
       "                                      ▀▀                                     \n",
       "    </pre>\n",
       "</div>\n",
       "<div align='right'>\n",
       "    Speed Duel - Execution started 12/02/2023 00:18 UTC <br>\n",
       "    By <b>Guilherme Ruiz</b>\n",
       "</div>"
      ],
      "text/plain": [
       "<IPython.core.display.Markdown object>"
      ]
     },
     "execution_count": 1,
     "metadata": {},
     "output_type": "execute_result"
    }
   ],
   "source": [
    "from yugiquery import *\n",
    "header('Speed Duel')"
   ]
  },
  {
   "cell_type": "markdown",
   "id": "f26c89c2-c447-43a2-997b-603775191de3",
   "metadata": {
    "papermill": {
     "duration": 0.051219,
     "end_time": "2023-02-12T00:18:40.895586",
     "exception": false,
     "start_time": "2023-02-12T00:18:40.844367",
     "status": "completed"
    },
    "tags": []
   },
   "source": [
    "---"
   ]
  },
  {
   "cell_type": "code",
   "execution_count": 2,
   "id": "4cf61b44-a485-4af9-9465-b4eb2431a730",
   "metadata": {
    "execution": {
     "iopub.execute_input": "2023-02-12T00:18:40.906066Z",
     "iopub.status.busy": "2023-02-12T00:18:40.904676Z",
     "iopub.status.idle": "2023-02-12T00:18:41.721010Z",
     "shell.execute_reply": "2023-02-12T00:18:41.719262Z"
    },
    "papermill": {
     "duration": 0.824732,
     "end_time": "2023-02-12T00:18:41.724219",
     "exception": false,
     "start_time": "2023-02-12T00:18:40.899487",
     "status": "completed"
    },
    "tags": []
   },
   "outputs": [
    {
     "name": "stdout",
     "output_type": "stream",
     "text": [
      "Downloading skill cards\n"
     ]
    },
    {
     "name": "stdout",
     "output_type": "stream",
     "text": [
      "105 results\n",
      "\n"
     ]
    }
   ],
   "source": [
    "skill_df = fetch_skill()"
   ]
  },
  {
   "cell_type": "code",
   "execution_count": 3,
   "id": "5c7bf9e7-a47a-4df3-83e9-26551ea97b06",
   "metadata": {
    "execution": {
     "iopub.execute_input": "2023-02-12T00:18:41.760162Z",
     "iopub.status.busy": "2023-02-12T00:18:41.759454Z",
     "iopub.status.idle": "2023-02-12T00:18:41.821279Z",
     "shell.execute_reply": "2023-02-12T00:18:41.818875Z"
    },
    "papermill": {
     "duration": 0.096228,
     "end_time": "2023-02-12T00:18:41.824776",
     "exception": false,
     "start_time": "2023-02-12T00:18:41.728548",
     "status": "completed"
    },
    "tags": []
   },
   "outputs": [
    {
     "data": {
      "text/html": [
       "<div>\n",
       "<style scoped>\n",
       "    .dataframe tbody tr th:only-of-type {\n",
       "        vertical-align: middle;\n",
       "    }\n",
       "\n",
       "    .dataframe tbody tr th {\n",
       "        vertical-align: top;\n",
       "    }\n",
       "\n",
       "    .dataframe thead th {\n",
       "        text-align: right;\n",
       "    }\n",
       "</style>\n",
       "<table border=\"1\" class=\"dataframe\">\n",
       "  <thead>\n",
       "    <tr style=\"text-align: right;\">\n",
       "      <th></th>\n",
       "      <th>Name</th>\n",
       "      <th>Card type</th>\n",
       "      <th>Property</th>\n",
       "      <th>Archseries</th>\n",
       "      <th>TCG status</th>\n",
       "      <th>TCG Speed Duel status</th>\n",
       "      <th>Page name</th>\n",
       "      <th>Page URL</th>\n",
       "      <th>Modification date</th>\n",
       "    </tr>\n",
       "  </thead>\n",
       "  <tbody>\n",
       "    <tr>\n",
       "      <th>0</th>\n",
       "      <td>Ancient Fusion</td>\n",
       "      <td>Skill Card</td>\n",
       "      <td>NaN</td>\n",
       "      <td>(Fusion (archetype),)</td>\n",
       "      <td>Illegal</td>\n",
       "      <td>Legal</td>\n",
       "      <td>Ancient Fusion</td>\n",
       "      <td>https://yugipedia.com/wiki/Ancient_Fusion</td>\n",
       "      <td>2022-12-06 13:13:12</td>\n",
       "    </tr>\n",
       "    <tr>\n",
       "      <th>1</th>\n",
       "      <td>Armed and Ready!</td>\n",
       "      <td>Skill Card</td>\n",
       "      <td>NaN</td>\n",
       "      <td>NaN</td>\n",
       "      <td>Illegal</td>\n",
       "      <td>Legal</td>\n",
       "      <td>Armed and Ready!</td>\n",
       "      <td>https://yugipedia.com/wiki/Armed_and_Ready!</td>\n",
       "      <td>2022-09-01 17:48:53</td>\n",
       "    </tr>\n",
       "    <tr>\n",
       "      <th>2</th>\n",
       "      <td>Aroma Strategy</td>\n",
       "      <td>Skill Card</td>\n",
       "      <td>NaN</td>\n",
       "      <td>NaN</td>\n",
       "      <td>Illegal</td>\n",
       "      <td>Legal</td>\n",
       "      <td>Aroma Strategy</td>\n",
       "      <td>https://yugipedia.com/wiki/Aroma_Strategy</td>\n",
       "      <td>2023-01-02 10:39:59</td>\n",
       "    </tr>\n",
       "    <tr>\n",
       "      <th>3</th>\n",
       "      <td>Bandit</td>\n",
       "      <td>Skill Card</td>\n",
       "      <td>NaN</td>\n",
       "      <td>NaN</td>\n",
       "      <td>Illegal</td>\n",
       "      <td>Legal</td>\n",
       "      <td>Bandit</td>\n",
       "      <td>https://yugipedia.com/wiki/Bandit</td>\n",
       "      <td>2020-12-02 03:33:23</td>\n",
       "    </tr>\n",
       "    <tr>\n",
       "      <th>4</th>\n",
       "      <td>Beasts of Phantom</td>\n",
       "      <td>Skill Card</td>\n",
       "      <td>NaN</td>\n",
       "      <td>NaN</td>\n",
       "      <td>Illegal</td>\n",
       "      <td>Legal</td>\n",
       "      <td>Beasts of Phantom</td>\n",
       "      <td>https://yugipedia.com/wiki/Beasts_of_Phantom</td>\n",
       "      <td>2022-12-27 18:47:29</td>\n",
       "    </tr>\n",
       "    <tr>\n",
       "      <th>...</th>\n",
       "      <td>...</td>\n",
       "      <td>...</td>\n",
       "      <td>...</td>\n",
       "      <td>...</td>\n",
       "      <td>...</td>\n",
       "      <td>...</td>\n",
       "      <td>...</td>\n",
       "      <td>...</td>\n",
       "      <td>...</td>\n",
       "    </tr>\n",
       "    <tr>\n",
       "      <th>100</th>\n",
       "      <td>Union Combination</td>\n",
       "      <td>Skill Card</td>\n",
       "      <td>NaN</td>\n",
       "      <td>NaN</td>\n",
       "      <td>Illegal</td>\n",
       "      <td>Legal</td>\n",
       "      <td>Union Combination</td>\n",
       "      <td>https://yugipedia.com/wiki/Union_Combination</td>\n",
       "      <td>2023-02-09 12:07:11</td>\n",
       "    </tr>\n",
       "    <tr>\n",
       "      <th>101</th>\n",
       "      <td>Viral Infection</td>\n",
       "      <td>Skill Card</td>\n",
       "      <td>NaN</td>\n",
       "      <td>NaN</td>\n",
       "      <td>Illegal</td>\n",
       "      <td>Legal</td>\n",
       "      <td>Viral Infection</td>\n",
       "      <td>https://yugipedia.com/wiki/Viral_Infection</td>\n",
       "      <td>2020-05-29 17:27:57</td>\n",
       "    </tr>\n",
       "    <tr>\n",
       "      <th>102</th>\n",
       "      <td>Volcanic Cannon</td>\n",
       "      <td>Skill Card</td>\n",
       "      <td>NaN</td>\n",
       "      <td>(Volcanic,)</td>\n",
       "      <td>Illegal</td>\n",
       "      <td>Legal</td>\n",
       "      <td>Volcanic Cannon</td>\n",
       "      <td>https://yugipedia.com/wiki/Volcanic_Cannon</td>\n",
       "      <td>2022-09-01 17:16:50</td>\n",
       "    </tr>\n",
       "    <tr>\n",
       "      <th>103</th>\n",
       "      <td>The World's Greatest Fisherman</td>\n",
       "      <td>Skill Card</td>\n",
       "      <td>NaN</td>\n",
       "      <td>NaN</td>\n",
       "      <td>Illegal</td>\n",
       "      <td>Legal</td>\n",
       "      <td>The World's Greatest Fisherman</td>\n",
       "      <td>https://yugipedia.com/wiki/The_World%27s_Great...</td>\n",
       "      <td>2020-05-29 17:49:58</td>\n",
       "    </tr>\n",
       "    <tr>\n",
       "      <th>104</th>\n",
       "      <td>Zombie Master</td>\n",
       "      <td>Skill Card</td>\n",
       "      <td>NaN</td>\n",
       "      <td>NaN</td>\n",
       "      <td>Illegal</td>\n",
       "      <td>Legal</td>\n",
       "      <td>Zombie Master (Skill Card)</td>\n",
       "      <td>https://yugipedia.com/wiki/Zombie_Master_(Skil...</td>\n",
       "      <td>2022-12-27 15:38:32</td>\n",
       "    </tr>\n",
       "  </tbody>\n",
       "</table>\n",
       "<p>105 rows × 9 columns</p>\n",
       "</div>"
      ],
      "text/plain": [
       "                               Name   Card type Property  \\\n",
       "0                    Ancient Fusion  Skill Card      NaN   \n",
       "1                  Armed and Ready!  Skill Card      NaN   \n",
       "2                    Aroma Strategy  Skill Card      NaN   \n",
       "3                            Bandit  Skill Card      NaN   \n",
       "4                 Beasts of Phantom  Skill Card      NaN   \n",
       "..                              ...         ...      ...   \n",
       "100               Union Combination  Skill Card      NaN   \n",
       "101                 Viral Infection  Skill Card      NaN   \n",
       "102                 Volcanic Cannon  Skill Card      NaN   \n",
       "103  The World's Greatest Fisherman  Skill Card      NaN   \n",
       "104                   Zombie Master  Skill Card      NaN   \n",
       "\n",
       "                Archseries TCG status TCG Speed Duel status  \\\n",
       "0    (Fusion (archetype),)    Illegal                 Legal   \n",
       "1                      NaN    Illegal                 Legal   \n",
       "2                      NaN    Illegal                 Legal   \n",
       "3                      NaN    Illegal                 Legal   \n",
       "4                      NaN    Illegal                 Legal   \n",
       "..                     ...        ...                   ...   \n",
       "100                    NaN    Illegal                 Legal   \n",
       "101                    NaN    Illegal                 Legal   \n",
       "102            (Volcanic,)    Illegal                 Legal   \n",
       "103                    NaN    Illegal                 Legal   \n",
       "104                    NaN    Illegal                 Legal   \n",
       "\n",
       "                          Page name  \\\n",
       "0                    Ancient Fusion   \n",
       "1                  Armed and Ready!   \n",
       "2                    Aroma Strategy   \n",
       "3                            Bandit   \n",
       "4                 Beasts of Phantom   \n",
       "..                              ...   \n",
       "100               Union Combination   \n",
       "101                 Viral Infection   \n",
       "102                 Volcanic Cannon   \n",
       "103  The World's Greatest Fisherman   \n",
       "104      Zombie Master (Skill Card)   \n",
       "\n",
       "                                              Page URL   Modification date  \n",
       "0            https://yugipedia.com/wiki/Ancient_Fusion 2022-12-06 13:13:12  \n",
       "1          https://yugipedia.com/wiki/Armed_and_Ready! 2022-09-01 17:48:53  \n",
       "2            https://yugipedia.com/wiki/Aroma_Strategy 2023-01-02 10:39:59  \n",
       "3                    https://yugipedia.com/wiki/Bandit 2020-12-02 03:33:23  \n",
       "4         https://yugipedia.com/wiki/Beasts_of_Phantom 2022-12-27 18:47:29  \n",
       "..                                                 ...                 ...  \n",
       "100       https://yugipedia.com/wiki/Union_Combination 2023-02-09 12:07:11  \n",
       "101         https://yugipedia.com/wiki/Viral_Infection 2020-05-29 17:27:57  \n",
       "102         https://yugipedia.com/wiki/Volcanic_Cannon 2022-09-01 17:16:50  \n",
       "103  https://yugipedia.com/wiki/The_World%27s_Great... 2020-05-29 17:49:58  \n",
       "104  https://yugipedia.com/wiki/Zombie_Master_(Skil... 2022-12-27 15:38:32  \n",
       "\n",
       "[105 rows x 9 columns]"
      ]
     },
     "execution_count": 3,
     "metadata": {},
     "output_type": "execute_result"
    }
   ],
   "source": [
    "skill_df"
   ]
  },
  {
   "cell_type": "code",
   "execution_count": 4,
   "id": "20534761-da7b-478a-a7cb-b8cdd434f77e",
   "metadata": {
    "execution": {
     "iopub.execute_input": "2023-02-12T00:18:41.837560Z",
     "iopub.status.busy": "2023-02-12T00:18:41.836924Z",
     "iopub.status.idle": "2023-02-12T00:18:41.843385Z",
     "shell.execute_reply": "2023-02-12T00:18:41.842477Z"
    },
    "papermill": {
     "duration": 0.016007,
     "end_time": "2023-02-12T00:18:41.846437",
     "exception": false,
     "start_time": "2023-02-12T00:18:41.830430",
     "status": "completed"
    },
    "tags": []
   },
   "outputs": [
    {
     "data": {
      "text/markdown": [
       "<div align='right'>\n",
       "    Execution completed 12/02/2023 00:18 UTC\n",
       "</div>"
      ],
      "text/plain": [
       "<IPython.core.display.Markdown object>"
      ]
     },
     "execution_count": 4,
     "metadata": {},
     "output_type": "execute_result"
    }
   ],
   "source": [
    "footer()"
   ]
  },
  {
   "cell_type": "markdown",
   "id": "44415c04-18b0-4d1e-ac12-ec8e30bd08d8",
   "metadata": {
    "papermill": {
     "duration": 0.004502,
     "end_time": "2023-02-12T00:18:41.855852",
     "exception": false,
     "start_time": "2023-02-12T00:18:41.851350",
     "status": "completed"
    },
    "tags": []
   },
   "source": [
    "## HTML export"
   ]
  },
  {
   "cell_type": "code",
   "execution_count": 5,
   "id": "00f871b4-5b9c-4092-b774-54aa01af999f",
   "metadata": {
    "execution": {
     "iopub.execute_input": "2023-02-12T00:18:41.867453Z",
     "iopub.status.busy": "2023-02-12T00:18:41.866597Z",
     "iopub.status.idle": "2023-02-12T00:18:41.876902Z",
     "shell.execute_reply": "2023-02-12T00:18:41.875999Z"
    },
    "papermill": {
     "duration": 0.019219,
     "end_time": "2023-02-12T00:18:41.879628",
     "exception": false,
     "start_time": "2023-02-12T00:18:41.860409",
     "status": "completed"
    },
    "tags": []
   },
   "outputs": [
    {
     "name": "stdout",
     "output_type": "stream",
     "text": [
      "Notebook saved to disk\n"
     ]
    }
   ],
   "source": [
    "# Save notebook on disck before generating HTML report\n",
    "save_notebook()"
   ]
  },
  {
   "cell_type": "code",
   "execution_count": 6,
   "id": "5ab72228-2db0-461d-8964-2ec516b619a7",
   "metadata": {
    "execution": {
     "iopub.execute_input": "2023-02-12T00:18:41.891702Z",
     "iopub.status.busy": "2023-02-12T00:18:41.891045Z",
     "iopub.status.idle": "2023-02-12T00:18:44.470743Z",
     "shell.execute_reply": "2023-02-12T00:18:44.469060Z"
    },
    "papermill": {
     "duration": 2.588807,
     "end_time": "2023-02-12T00:18:44.473486",
     "exception": false,
     "start_time": "2023-02-12T00:18:41.884679",
     "status": "completed"
    },
    "tags": []
   },
   "outputs": [
    {
     "name": "stdout",
     "output_type": "stream",
     "text": [
      "WARNING: Insecure writes have been enabled via environment variable 'JUPYTER_ALLOW_INSECURE_WRITES'! If this is not intended, remove the variable or set its value to 'False'.\r\n",
      "[NbConvertApp] Converting notebook Speed.ipynb to HTML\r\n"
     ]
    },
    {
     "name": "stdout",
     "output_type": "stream",
     "text": [
      "[NbConvertApp] Writing 581968 bytes to ../Speed.html\r\n"
     ]
    }
   ],
   "source": [
    "! jupyter nbconvert Speed.ipynb --output-dir='../' --to=HTML --TagRemovePreprocessor.enabled=True --TagRemovePreprocessor.remove_cell_tags='exclude' --TemplateExporter.exclude_input=True --TemplateExporter.exclude_input_prompt=True --TemplateExporter.exclude_output_prompt=True"
   ]
  },
  {
   "cell_type": "markdown",
   "id": "167d76c1-a2fb-4635-9864-e7f515f7d059",
   "metadata": {
    "papermill": {
     "duration": 0.072524,
     "end_time": "2023-02-12T00:18:44.555692",
     "exception": false,
     "start_time": "2023-02-12T00:18:44.483168",
     "status": "completed"
    },
    "tags": [
     "exclude"
    ]
   },
   "source": [
    "## Git"
   ]
  },
  {
   "cell_type": "code",
   "execution_count": null,
   "id": "5861c149-66bb-4347-80ab-7483d9313dce",
   "metadata": {
    "papermill": {
     "duration": null,
     "end_time": null,
     "exception": false,
     "start_time": "2023-02-12T00:18:44.579286",
     "status": "running"
    },
    "tags": [
     "exclude"
    ]
   },
   "outputs": [],
   "source": [
    "! git add \"../*[Ss]peed*\""
   ]
  },
  {
   "cell_type": "code",
   "execution_count": null,
   "id": "dc0d112d-7937-4eba-a788-e8a134f8d5cf",
   "metadata": {
    "papermill": {
     "duration": null,
     "end_time": null,
     "exception": null,
     "start_time": null,
     "status": "pending"
    },
    "tags": [
     "exclude"
    ]
   },
   "outputs": [],
   "source": [
    "! git commit -m {\"'Speed duel update-\" + timestamp.isoformat() + \"'\"}"
   ]
  }
 ],
 "metadata": {
  "kernelspec": {
   "display_name": "Python 3 (ipykernel)",
   "language": "python",
   "name": "python3"
  },
  "language_info": {
   "codemirror_mode": {
    "name": "ipython",
    "version": 3
   },
   "file_extension": ".py",
   "mimetype": "text/x-python",
   "name": "python",
   "nbconvert_exporter": "python",
   "pygments_lexer": "ipython3",
   "version": "3.10.8"
  },
  "papermill": {
   "default_parameters": {},
   "duration": null,
   "end_time": null,
   "environment_variables": {},
   "exception": null,
   "input_path": "Speed.ipynb",
   "output_path": "Speed.ipynb",
   "parameters": {},
   "start_time": "2023-02-12T00:18:25.705101",
   "version": "2.4.0"
  }
 },
 "nbformat": 4,
 "nbformat_minor": 5
}