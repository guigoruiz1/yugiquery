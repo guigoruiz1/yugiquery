{
 "cells": [
  {
   "cell_type": "code",
   "execution_count": null,
   "id": "db3fea09-dd17-4d4f-9751-4db442584d19",
   "metadata": {
    "papermill": {
     "duration": 15.071405,
     "end_time": "2023-02-21T19:14:27.514114",
     "exception": false,
     "start_time": "2023-02-21T19:14:12.442709",
     "status": "completed"
    },
    "tags": []
   },
   "outputs": [],
   "source": [
    "from yugiquery import *\n",
    "header('Speed Duel')"
   ]
  },
  {
   "cell_type": "markdown",
   "id": "f26c89c2-c447-43a2-997b-603775191de3",
   "metadata": {
    "papermill": {
     "duration": 0.153783,
     "end_time": "2023-02-21T19:14:27.684636",
     "exception": false,
     "start_time": "2023-02-21T19:14:27.530853",
     "status": "completed"
    },
    "tags": []
   },
   "source": [
    "---"
   ]
  },
  {
   "cell_type": "markdown",
   "id": "a938b6fe",
   "metadata": {
    "papermill": {
     "duration": 0.013963,
     "end_time": "2023-02-21T19:14:27.743215",
     "exception": false,
     "start_time": "2023-02-21T19:14:27.729252",
     "status": "completed"
    },
    "tags": []
   },
   "source": [
    "Table of Contents\n",
    "=================\n",
    "\n",
    "*   [1  Data aquisition](#Data-aquisition)\n",
    "    *   [1.1  Fetch online data](#Fetch-online-data)\n",
    "    *   [1.2  Merge data](#Merge-data)\n",
    "*   [2  Check changes](#Check-changes)\n",
    "    *   [2.1  Load previous data](#Load-previous-data)\n",
    "    *   [2.2  Generate changelog](#Generate-changelog)\n",
    "    *   [2.3  Save data](#Save-data)\n",
    "*   [3  Data visualization](#Data-visualization)\n",
    "    *   [3.1  Skill cards](#Skill-cards)\n",
    "        *   [3.1.1  Character](#Character)\n",
    "        *   [3.1.2  Property](#Property)\n",
    "    *   [3.2  Property](#Property)\n",
    "    *   [3.3  Archseries](#Archseries)\n",
    "    *   [3.4  TCG Speed Duel status](#TCG-Speed-Duel-status)\n",
    "        *   *   [3.4.0.1  By card type](#By-card-type)\n",
    "            *   [3.4.0.2  By monster type](#By-monster-type)\n",
    "            *   [3.4.0.3  By archseries](#By-archseries)\n",
    "        *   [3.4.1  TCG Speed Duel vs. TCG status](#TCG-Speed-Duel-vs.-TCG-status)\n",
    "*   [4  Epilogue](#Epilogue)\n",
    "    *   [4.1  HTML export](#HTML-export)\n",
    "<!--     *   [4.2  Git](#Git) -->"
   ]
  },
  {
   "cell_type": "markdown",
   "id": "952801c1-2126-4df2-ae95-e3f56fc801c1",
   "metadata": {
    "papermill": {
     "duration": 0.034431,
     "end_time": "2023-02-21T19:14:27.829299",
     "exception": false,
     "start_time": "2023-02-21T19:14:27.794868",
     "status": "completed"
    },
    "tags": []
   },
   "source": [
    "# Data aquisition"
   ]
  },
  {
   "cell_type": "markdown",
   "id": "99894266-9cec-4db3-bfe7-37572eed8dc6",
   "metadata": {
    "papermill": {
     "duration": 0.013869,
     "end_time": "2023-02-21T19:14:27.857406",
     "exception": false,
     "start_time": "2023-02-21T19:14:27.843537",
     "status": "completed"
    },
    "tags": []
   },
   "source": [
    "## Fetch online data"
   ]
  },
  {
   "cell_type": "code",
   "execution_count": null,
   "id": "10acd11f-8a8b-4650-a6aa-2b509d8ba596",
   "metadata": {
    "papermill": {
     "duration": 0.031872,
     "end_time": "2023-02-21T19:14:27.906873",
     "exception": false,
     "start_time": "2023-02-21T19:14:27.875001",
     "status": "completed"
    },
    "tags": []
   },
   "outputs": [],
   "source": [
    "# Timestamp\n",
    "timestamp = pd.Timestamp.now()"
   ]
  },
  {
   "cell_type": "code",
   "execution_count": null,
   "id": "4cf61b44-a485-4af9-9465-b4eb2431a730",
   "metadata": {
    "papermill": {
     "duration": 24.211181,
     "end_time": "2023-02-21T19:14:52.131872",
     "exception": false,
     "start_time": "2023-02-21T19:14:27.920691",
     "status": "completed"
    },
    "tags": []
   },
   "outputs": [],
   "source": [
    "# Fetch skill cards\n",
    "skill_df = fetch_skill()\n",
    "\n",
    "# Fetch deck cards\n",
    "speed_df = fetch_speed()"
   ]
  },
  {
   "cell_type": "markdown",
   "id": "5269bc32-88fc-4026-853b-a7b4015dd5c1",
   "metadata": {
    "jp-MarkdownHeadingCollapsed": true,
    "papermill": {
     "duration": 0.060563,
     "end_time": "2023-02-21T19:14:52.210475",
     "exception": false,
     "start_time": "2023-02-21T19:14:52.149912",
     "status": "completed"
    },
    "tags": []
   },
   "source": [
    "## Merge data"
   ]
  },
  {
   "cell_type": "code",
   "execution_count": null,
   "id": "13ccdd0c-f189-44f5-ab8b-c861098fd8ab",
   "metadata": {
    "papermill": {
     "duration": 0.034994,
     "end_time": "2023-02-21T19:14:52.259672",
     "exception": false,
     "start_time": "2023-02-21T19:14:52.224678",
     "status": "completed"
    },
    "tags": []
   },
   "outputs": [],
   "source": [
    "full_df = pd.concat([speed_df,skill_df], ignore_index=True, axis=0).sort_values('Name').reset_index(drop=True)\n",
    "print('Data merged')"
   ]
  },
  {
   "cell_type": "markdown",
   "id": "44e08025-ef2e-47d1-a77d-942a98c638eb",
   "metadata": {
    "papermill": {
     "duration": 0.014332,
     "end_time": "2023-02-21T19:14:52.314965",
     "exception": false,
     "start_time": "2023-02-21T19:14:52.300633",
     "status": "completed"
    },
    "tags": []
   },
   "source": [
    "# Check changes"
   ]
  },
  {
   "cell_type": "markdown",
   "id": "b4e572a4-6b11-46e8-96a8-dd7b88ff7ad4",
   "metadata": {
    "papermill": {
     "duration": 0.015651,
     "end_time": "2023-02-21T19:14:52.344873",
     "exception": false,
     "start_time": "2023-02-21T19:14:52.329222",
     "status": "completed"
    },
    "tags": []
   },
   "source": [
    "## Load previous data"
   ]
  },
  {
   "cell_type": "code",
   "execution_count": null,
   "id": "fb7dc6f8",
   "metadata": {
    "papermill": {
     "duration": 0.110918,
     "end_time": "2023-02-21T19:14:52.470001",
     "exception": false,
     "start_time": "2023-02-21T19:14:52.359083",
     "status": "completed"
    },
    "tags": []
   },
   "outputs": [],
   "source": [
    "# Get list of files\n",
    "files_list = sorted(glob.glob('../data/all_speed_*.csv'), key=os.path.getctime, reverse=True)\n",
    "# Get second newest file if exist\n",
    "if files_list:\n",
    "    # Load csv avoiding converting \"NA\" to NaN\n",
    "    previous_df = pd.read_csv(files_list[0], dtype=object, keep_default_na=False, na_values=[''])\n",
    "    # Correct tuples\n",
    "    previous_df['Secondary type'] = previous_df['Secondary type'].dropna().apply(literal_eval)\n",
    "    previous_df['Effect type'] = previous_df['Effect type'].dropna().apply(literal_eval)\n",
    "    previous_df['Archseries'] = previous_df['Archseries'].dropna().apply(literal_eval)\n",
    "    previous_df['Artwork'] = previous_df['Artwork'].dropna().apply(literal_eval)\n",
    "    # previous_df['Errata'] = previous_df['Errata'].dropna().apply(literal_eval)\n",
    "    # Force dtypes to match current df\n",
    "    previous_df = previous_df.astype(full_df[previous_df.columns.intersection(full_df.columns)].dtypes.to_dict())\n",
    "    previous_ts = pd.to_datetime(os.path.basename(files_list[0]).split('_')[-1].rstrip('.csv'))\n",
    "    print('File loaded')\n",
    "else:\n",
    "    previous_df = None\n",
    "    print('No older files')"
   ]
  },
  {
   "cell_type": "markdown",
   "id": "6c263bf7-641e-431d-b0ba-d6be001d2f16",
   "metadata": {
    "papermill": {
     "duration": 0.014055,
     "end_time": "2023-02-21T19:14:52.498461",
     "exception": false,
     "start_time": "2023-02-21T19:14:52.484406",
     "status": "completed"
    },
    "tags": []
   },
   "source": [
    "## Generate changelog"
   ]
  },
  {
   "cell_type": "code",
   "execution_count": null,
   "id": "2fcca8f1",
   "metadata": {
    "papermill": {
     "duration": 0.114181,
     "end_time": "2023-02-21T19:14:52.626585",
     "exception": false,
     "start_time": "2023-02-21T19:14:52.512404",
     "status": "completed"
    },
    "tags": []
   },
   "outputs": [],
   "source": [
    "if previous_df is None:\n",
    "    changelog = None\n",
    "    print('Skipped')\n",
    "else:\n",
    "    changelog = generate_changelog(previous_df, full_df, col = 'Name')\n",
    "    if not changelog.empty:\n",
    "        display(changelog)\n",
    "        changelog.to_csv(f'../data/speed_changelog_{timestamp.isoformat(timespec=\"minutes\")}_{previous_ts.isoformat(timespec=\"minutes\")}.csv', index = True)\n",
    "        print('Changelog saved')"
   ]
  },
  {
   "cell_type": "markdown",
   "id": "75bdae54-3ee6-4a50-abd1-a20b3397a24d",
   "metadata": {
    "papermill": {
     "duration": 0.014839,
     "end_time": "2023-02-21T19:14:52.656796",
     "exception": false,
     "start_time": "2023-02-21T19:14:52.641957",
     "status": "completed"
    },
    "tags": []
   },
   "source": [
    "## Save data"
   ]
  },
  {
   "cell_type": "code",
   "execution_count": null,
   "id": "7508d7a5-8398-4596-9079-64cf9ebd6e77",
   "metadata": {
    "papermill": {
     "duration": 0.024852,
     "end_time": "2023-02-21T19:14:52.696266",
     "exception": false,
     "start_time": "2023-02-21T19:14:52.671414",
     "status": "completed"
    },
    "tags": []
   },
   "outputs": [],
   "source": [
    "if changelog is not None and changelog.empty:\n",
    "    print('No changes. New data not saved')\n",
    "else:\n",
    "    full_df.to_csv(f'../data/all_speed_{timestamp.isoformat(timespec=\"minutes\")}.csv', index=False)\n",
    "    print('Data saved')"
   ]
  },
  {
   "cell_type": "markdown",
   "id": "f39835c2-7259-48b8-bf68-04624f16c8b6",
   "metadata": {
    "papermill": {
     "duration": 0.013903,
     "end_time": "2023-02-21T19:14:52.724343",
     "exception": false,
     "start_time": "2023-02-21T19:14:52.710440",
     "status": "completed"
    },
    "tags": []
   },
   "source": [
    "# Data visualization"
   ]
  },
  {
   "cell_type": "code",
   "execution_count": null,
   "id": "8ecc9568-d30c-452e-b5d4-d08390bc19ba",
   "metadata": {
    "papermill": {
     "duration": 0.073447,
     "end_time": "2023-02-21T19:14:52.811828",
     "exception": false,
     "start_time": "2023-02-21T19:14:52.738381",
     "status": "completed"
    },
    "tags": []
   },
   "outputs": [],
   "source": [
    "full_df"
   ]
  },
  {
   "cell_type": "markdown",
   "id": "1401bf85-e4a1-4e8d-b51a-208469d1ea0d",
   "metadata": {
    "jp-MarkdownHeadingCollapsed": true,
    "papermill": {
     "duration": 0.015547,
     "end_time": "2023-02-21T19:14:52.843345",
     "exception": false,
     "start_time": "2023-02-21T19:14:52.827798",
     "status": "completed"
    },
    "tags": []
   },
   "source": [
    "## Skill cards"
   ]
  },
  {
   "cell_type": "markdown",
   "id": "2d62bfc4-0967-4ebe-b39a-172eb34e4968",
   "metadata": {
    "papermill": {
     "duration": 0.017178,
     "end_time": "2023-02-21T19:14:52.875610",
     "exception": false,
     "start_time": "2023-02-21T19:14:52.858432",
     "status": "completed"
    },
    "tags": []
   },
   "source": [
    "### Character"
   ]
  },
  {
   "cell_type": "code",
   "execution_count": null,
   "id": "ce5700d6-335d-4c89-89e5-2144e16e6316",
   "metadata": {
    "papermill": {
     "duration": 0.02563,
     "end_time": "2023-02-21T19:14:52.916897",
     "exception": false,
     "start_time": "2023-02-21T19:14:52.891267",
     "status": "completed"
    },
    "tags": []
   },
   "outputs": [],
   "source": [
    "print('Total number of characters portrayed in skill cards:', skill_df['Character'].nunique())"
   ]
  },
  {
   "cell_type": "code",
   "execution_count": null,
   "id": "31c4c673-ff6a-4d8e-8092-639fd9430283",
   "metadata": {
    "papermill": {
     "duration": 0.046644,
     "end_time": "2023-02-21T19:14:52.979719",
     "exception": false,
     "start_time": "2023-02-21T19:14:52.933075",
     "status": "completed"
    },
    "tags": []
   },
   "outputs": [],
   "source": [
    "skill_df.drop('Card type', axis=1).sort_values('Character')"
   ]
  },
  {
   "cell_type": "code",
   "execution_count": null,
   "id": "8a9be7a8-acb8-4770-aaa4-353883c1169e",
   "metadata": {
    "papermill": {
     "duration": 1.205756,
     "end_time": "2023-02-21T19:14:54.201889",
     "exception": false,
     "start_time": "2023-02-21T19:14:52.996133",
     "status": "completed"
    },
    "tags": []
   },
   "outputs": [],
   "source": [
    "skill_color = colors_dict['Skill Card']\n",
    "skill_df['Character'].value_counts().plot.bar(figsize = (18,6), grid = True, rot=90, color = skill_color, title = 'Character')\n",
    "plt.show()"
   ]
  },
  {
   "cell_type": "markdown",
   "id": "da7bcd77-29bd-4c35-94b6-9c94a0347d74",
   "metadata": {
    "papermill": {
     "duration": 0.089035,
     "end_time": "2023-02-21T19:14:54.311916",
     "exception": false,
     "start_time": "2023-02-21T19:14:54.222881",
     "status": "completed"
    },
    "tags": []
   },
   "source": [
    "### Property"
   ]
  },
  {
   "cell_type": "code",
   "execution_count": null,
   "id": "4701e5ca-642c-4b94-833c-05c134517ea5",
   "metadata": {
    "papermill": {
     "duration": 0.031422,
     "end_time": "2023-02-21T19:14:54.361900",
     "exception": false,
     "start_time": "2023-02-21T19:14:54.330478",
     "status": "completed"
    },
    "tags": []
   },
   "outputs": [],
   "source": [
    "print('Total number of properties:', skill_df['Property'].nunique())"
   ]
  },
  {
   "cell_type": "code",
   "execution_count": null,
   "id": "68dc87e6-2e87-4afe-b3ff-d042ecfeba39",
   "metadata": {
    "papermill": {
     "duration": 0.047776,
     "end_time": "2023-02-21T19:14:54.427606",
     "exception": false,
     "start_time": "2023-02-21T19:14:54.379830",
     "status": "completed"
    },
    "tags": []
   },
   "outputs": [],
   "source": [
    "skill_df.groupby('Property').nunique()"
   ]
  },
  {
   "cell_type": "code",
   "execution_count": null,
   "id": "de5c00b6-aa1b-4161-9528-0ecb84fe1c95",
   "metadata": {
    "papermill": {
     "duration": 0.262814,
     "end_time": "2023-02-21T19:14:54.709054",
     "exception": false,
     "start_time": "2023-02-21T19:14:54.446240",
     "status": "completed"
    },
    "tags": []
   },
   "outputs": [],
   "source": [
    "skill_color = colors_dict['Skill Card']\n",
    "skill_df['Property'].value_counts().plot.bar(figsize = (18,6), grid = True, rot=0, color = skill_color, title = 'Property')\n",
    "plt.show()"
   ]
  },
  {
   "cell_type": "markdown",
   "id": "4aab5adb-de31-4735-9e3d-4aa976e11ece",
   "metadata": {
    "jp-MarkdownHeadingCollapsed": true,
    "papermill": {
     "duration": 0.021599,
     "end_time": "2023-02-21T19:14:54.749481",
     "exception": false,
     "start_time": "2023-02-21T19:14:54.727882",
     "status": "completed"
    },
    "tags": []
   },
   "source": [
    "## Property"
   ]
  },
  {
   "cell_type": "code",
   "execution_count": null,
   "id": "0cf82c89-7bc7-4f6c-914d-1a577cf7bc4d",
   "metadata": {
    "papermill": {
     "duration": 0.032882,
     "end_time": "2023-02-21T19:14:54.801942",
     "exception": false,
     "start_time": "2023-02-21T19:14:54.769060",
     "status": "completed"
    },
    "tags": []
   },
   "outputs": [],
   "source": [
    "print('Total number of properties:', full_df['Property'].nunique())"
   ]
  },
  {
   "cell_type": "code",
   "execution_count": null,
   "id": "efbb94e7-b9d0-4ddf-953e-b8964b398808",
   "metadata": {
    "papermill": {
     "duration": 0.0648,
     "end_time": "2023-02-21T19:14:54.886371",
     "exception": false,
     "start_time": "2023-02-21T19:14:54.821571",
     "status": "completed"
    },
    "tags": []
   },
   "outputs": [],
   "source": [
    "full_df.groupby('Property').nunique()"
   ]
  },
  {
   "cell_type": "code",
   "execution_count": null,
   "id": "3008e3c7-b0a9-46af-8ccf-e93cada9e07a",
   "metadata": {
    "papermill": {
     "duration": 0.414149,
     "end_time": "2023-02-21T19:14:55.320333",
     "exception": false,
     "start_time": "2023-02-21T19:14:54.906184",
     "status": "completed"
    },
    "tags": []
   },
   "outputs": [],
   "source": [
    "property_unstack = full_df.groupby('Property')['Card type'].value_counts().unstack()\n",
    "skill_st_colors = [colors_dict[i] for i in property_unstack.columns]\n",
    "property_unstack.plot.bar(figsize = (18,6), stacked=True, grid = True, rot=45, color = skill_st_colors)\n",
    "plt.show()"
   ]
  },
  {
   "cell_type": "markdown",
   "id": "554753ed-43a9-426f-aafa-3e9a56b6ecde",
   "metadata": {
    "jp-MarkdownHeadingCollapsed": true,
    "papermill": {
     "duration": 0.070496,
     "end_time": "2023-02-21T19:14:55.412250",
     "exception": false,
     "start_time": "2023-02-21T19:14:55.341754",
     "status": "completed"
    },
    "tags": []
   },
   "source": [
    "## Archseries"
   ]
  },
  {
   "cell_type": "code",
   "execution_count": null,
   "id": "87cc22b3-0682-46b6-9aa5-0982a5ef933a",
   "metadata": {
    "papermill": {
     "duration": 0.061794,
     "end_time": "2023-02-21T19:14:55.496473",
     "exception": false,
     "start_time": "2023-02-21T19:14:55.434679",
     "status": "completed"
    },
    "tags": []
   },
   "outputs": [],
   "source": [
    "exploded_archseries = full_df.explode('Archseries')\n",
    "print('Total number of Archseries:', exploded_archseries['Archseries'].nunique())"
   ]
  },
  {
   "cell_type": "code",
   "execution_count": null,
   "id": "3c4ec027-4f63-4b5d-aafe-f1b414a10fd8",
   "metadata": {
    "papermill": {
     "duration": 0.070035,
     "end_time": "2023-02-21T19:14:55.588111",
     "exception": false,
     "start_time": "2023-02-21T19:14:55.518076",
     "status": "completed"
    },
    "tags": []
   },
   "outputs": [],
   "source": [
    "exploded_archseries.groupby('Archseries').nunique()"
   ]
  },
  {
   "cell_type": "code",
   "execution_count": null,
   "id": "d4c79469-cf13-46a2-a30d-cbc24aa66a72",
   "metadata": {
    "papermill": {
     "duration": 2.346336,
     "end_time": "2023-02-21T19:14:57.957684",
     "exception": false,
     "start_time": "2023-02-21T19:14:55.611348",
     "status": "completed"
    },
    "tags": []
   },
   "outputs": [],
   "source": [
    "exploded_archseries['Archseries'].value_counts().plot.barh(figsize = (10,50), grid = True, title = 'Archtypes/Series')\n",
    "plt.show()"
   ]
  },
  {
   "cell_type": "markdown",
   "id": "edd6956f-bcb6-4883-8360-3affe25eb313",
   "metadata": {
    "papermill": {
     "duration": 0.041855,
     "end_time": "2023-02-21T19:14:58.033297",
     "exception": false,
     "start_time": "2023-02-21T19:14:57.991442",
     "status": "completed"
    },
    "tags": []
   },
   "source": [
    "## TCG Speed Duel status"
   ]
  },
  {
   "cell_type": "code",
   "execution_count": null,
   "id": "88b93fca",
   "metadata": {
    "papermill": {
     "duration": 0.044771,
     "end_time": "2023-02-21T19:14:58.109262",
     "exception": false,
     "start_time": "2023-02-21T19:14:58.064491",
     "status": "completed"
    },
    "tags": []
   },
   "outputs": [],
   "source": [
    "print('Total number of TCG Speed Duel status:', full_df['TCG status'].nunique())"
   ]
  },
  {
   "cell_type": "code",
   "execution_count": null,
   "id": "2c69bec0",
   "metadata": {
    "papermill": {
     "duration": 0.074105,
     "end_time": "2023-02-21T19:14:58.213695",
     "exception": false,
     "start_time": "2023-02-21T19:14:58.139590",
     "status": "completed"
    },
    "tags": []
   },
   "outputs": [],
   "source": [
    "full_df.groupby('TCG Speed Duel status', dropna=False).nunique()"
   ]
  },
  {
   "cell_type": "code",
   "execution_count": null,
   "id": "add82403",
   "metadata": {
    "papermill": {
     "duration": 0.692951,
     "end_time": "2023-02-21T19:14:58.938433",
     "exception": false,
     "start_time": "2023-02-21T19:14:58.245482",
     "status": "completed"
    },
    "tags": []
   },
   "outputs": [],
   "source": [
    "full_df['TCG Speed Duel status'].value_counts(dropna = False).plot.bar(figsize = (18,6), logy=True, grid = True, rot=45, title = 'TCG status')\n",
    "plt.show()"
   ]
  },
  {
   "cell_type": "markdown",
   "id": "30911bce-0ed7-44e4-8776-03c69f960a63",
   "metadata": {
    "papermill": {
     "duration": 0.090472,
     "end_time": "2023-02-21T19:14:59.060713",
     "exception": false,
     "start_time": "2023-02-21T19:14:58.970241",
     "status": "completed"
    },
    "tags": []
   },
   "source": [
    "#### By card type"
   ]
  },
  {
   "cell_type": "code",
   "execution_count": null,
   "id": "12c444ed",
   "metadata": {
    "papermill": {
     "duration": 0.06517,
     "end_time": "2023-02-21T19:14:59.203630",
     "exception": false,
     "start_time": "2023-02-21T19:14:59.138460",
     "status": "completed"
    },
    "tags": []
   },
   "outputs": [],
   "source": [
    "# Remove unlimited\n",
    "tcg_speed_crosstab = pd.crosstab(full_df['Card type'], full_df['TCG Speed Duel status'])\n",
    "tcg_speed_crosstab"
   ]
  },
  {
   "cell_type": "code",
   "execution_count": null,
   "id": "8648b51e",
   "metadata": {
    "papermill": {
     "duration": 0.670077,
     "end_time": "2023-02-21T19:14:59.905597",
     "exception": false,
     "start_time": "2023-02-21T19:14:59.235520",
     "status": "completed"
    },
    "tags": []
   },
   "outputs": [],
   "source": [
    "plt.figure(figsize = (12,6))\n",
    "sns.heatmap(tcg_speed_crosstab[tcg_speed_crosstab>0], annot=True, fmt=\"g\", cmap='viridis', norm=mc.LogNorm())\n",
    "plt.show()"
   ]
  },
  {
   "cell_type": "markdown",
   "id": "f112238b-877f-467f-aaba-5742f024c820",
   "metadata": {
    "papermill": {
     "duration": 0.033383,
     "end_time": "2023-02-21T19:14:59.975573",
     "exception": false,
     "start_time": "2023-02-21T19:14:59.942190",
     "status": "completed"
    },
    "tags": []
   },
   "source": [
    "#### By monster type"
   ]
  },
  {
   "cell_type": "code",
   "execution_count": null,
   "id": "bb73564f",
   "metadata": {
    "papermill": {
     "duration": 0.10352,
     "end_time": "2023-02-21T19:15:00.114886",
     "exception": false,
     "start_time": "2023-02-21T19:15:00.011366",
     "status": "completed"
    },
    "tags": []
   },
   "outputs": [],
   "source": [
    "# Remove unlimited\n",
    "tcg_speed_crosstab_b = pd.crosstab(full_df['Monster type'], full_df['TCG Speed Duel status'])\n",
    "tcg_speed_crosstab_b"
   ]
  },
  {
   "cell_type": "code",
   "execution_count": null,
   "id": "dd5e826c",
   "metadata": {
    "papermill": {
     "duration": 1.082988,
     "end_time": "2023-02-21T19:15:01.339520",
     "exception": false,
     "start_time": "2023-02-21T19:15:00.256532",
     "status": "completed"
    },
    "tags": []
   },
   "outputs": [],
   "source": [
    "plt.figure(figsize = (20,5))\n",
    "sns.heatmap(tcg_speed_crosstab_b[tcg_speed_crosstab_b>0].T, annot=True, fmt=\"g\", cmap='viridis', square = True)\n",
    "plt.show()"
   ]
  },
  {
   "cell_type": "markdown",
   "id": "1ee91dde-4e18-4ff5-8400-37cf77cfd2fd",
   "metadata": {
    "papermill": {
     "duration": 0.113482,
     "end_time": "2023-02-21T19:15:01.487247",
     "exception": false,
     "start_time": "2023-02-21T19:15:01.373765",
     "status": "completed"
    },
    "tags": []
   },
   "source": [
    "#### By archseries"
   ]
  },
  {
   "cell_type": "code",
   "execution_count": null,
   "id": "05fc1f77",
   "metadata": {
    "papermill": {
     "duration": 0.319089,
     "end_time": "2023-02-21T19:15:02.544787",
     "exception": false,
     "start_time": "2023-02-21T19:15:02.225698",
     "status": "completed"
    },
    "tags": []
   },
   "outputs": [],
   "source": [
    "# Remove unlimited\n",
    "tcg_crosstab_c = pd.crosstab(exploded_archseries['Archseries'], exploded_archseries['TCG Speed Duel status'], margins = True)\n",
    "tcg_crosstab_c"
   ]
  },
  {
   "cell_type": "markdown",
   "id": "45aa508f-2940-4f04-8c4a-7dd7b28b84b3",
   "metadata": {
    "papermill": {
     "duration": 0.053829,
     "end_time": "2023-02-21T19:15:02.638894",
     "exception": false,
     "start_time": "2023-02-21T19:15:02.585065",
     "status": "completed"
    },
    "tags": []
   },
   "source": [
    "### TCG Speed Duel vs. TCG status"
   ]
  },
  {
   "cell_type": "code",
   "execution_count": null,
   "id": "14f2101b",
   "metadata": {
    "papermill": {
     "duration": 0.129857,
     "end_time": "2023-02-21T19:15:02.940204",
     "exception": false,
     "start_time": "2023-02-21T19:15:02.810347",
     "status": "completed"
    },
    "tags": []
   },
   "outputs": [],
   "source": [
    "cg_crosstab = pd.crosstab(full_df['TCG status'],full_df['TCG Speed Duel status'], dropna=False, margins = False)\n",
    "cg_crosstab"
   ]
  },
  {
   "cell_type": "code",
   "execution_count": null,
   "id": "d10c5c81",
   "metadata": {
    "papermill": {
     "duration": 1.020236,
     "end_time": "2023-02-21T19:15:04.046547",
     "exception": false,
     "start_time": "2023-02-21T19:15:03.026311",
     "status": "completed"
    },
    "tags": []
   },
   "outputs": [],
   "source": [
    "plt.figure(figsize = (10,8))\n",
    "sns.heatmap(cg_crosstab[cg_crosstab>0], annot=True, fmt=\"g\", cmap='viridis', square=True, norm=mc.LogNorm())\n",
    "plt.show()"
   ]
  },
  {
   "cell_type": "markdown",
   "id": "de85b305-a301-4555-8446-ffe678453339",
   "metadata": {
    "papermill": {
     "duration": 0.107802,
     "end_time": "2023-02-21T19:15:04.192378",
     "exception": false,
     "start_time": "2023-02-21T19:15:04.084576",
     "status": "completed"
    },
    "tags": []
   },
   "source": [
    "# Epilogue"
   ]
  },
  {
   "cell_type": "code",
   "execution_count": null,
   "id": "b1f53a3b-6c36-4b2e-912c-2e15c6253baa",
   "metadata": {
    "papermill": {
     "duration": 0.336191,
     "end_time": "2023-02-21T19:15:04.639468",
     "exception": false,
     "start_time": "2023-02-21T19:15:04.303277",
     "status": "completed"
    },
    "tags": []
   },
   "outputs": [],
   "source": [
    "benchmark('speed',timestamp)"
   ]
  },
  {
   "cell_type": "code",
   "execution_count": null,
   "id": "20534761-da7b-478a-a7cb-b8cdd434f77e",
   "metadata": {
    "papermill": {
     "duration": 0.063053,
     "end_time": "2023-02-21T19:15:04.769020",
     "exception": false,
     "start_time": "2023-02-21T19:15:04.705967",
     "status": "completed"
    },
    "tags": []
   },
   "outputs": [],
   "source": [
    "footer()"
   ]
  },
  {
   "cell_type": "markdown",
   "id": "44415c04-18b0-4d1e-ac12-ec8e30bd08d8",
   "metadata": {
    "papermill": {
     "duration": 0.051746,
     "end_time": "2023-02-21T19:15:04.857921",
     "exception": false,
     "start_time": "2023-02-21T19:15:04.806175",
     "status": "completed"
    },
    "tags": []
   },
   "source": [
    "## HTML export"
   ]
  },
  {
   "cell_type": "code",
   "execution_count": null,
   "id": "00f871b4-5b9c-4092-b774-54aa01af999f",
   "metadata": {
    "papermill": {
     "duration": 0.103989,
     "end_time": "2023-02-21T19:15:05.000880",
     "exception": false,
     "start_time": "2023-02-21T19:15:04.896891",
     "status": "completed"
    },
    "tags": []
   },
   "outputs": [],
   "source": [
    "# Save notebook on disck before generating HTML report\n",
    "save_notebook()"
   ]
  },
  {
   "cell_type": "code",
   "execution_count": null,
   "id": "5ab72228-2db0-461d-8964-2ec516b619a7",
   "metadata": {
    "papermill": {
     "duration": 8.834238,
     "end_time": "2023-02-21T19:15:14.184658",
     "exception": false,
     "start_time": "2023-02-21T19:15:05.350420",
     "status": "completed"
    },
    "tags": []
   },
   "outputs": [],
   "source": [
    "! jupyter nbconvert Speed.ipynb --output-dir='../' --to=HTML --TagRemovePreprocessor.enabled=True --TagRemovePreprocessor.remove_cell_tags='exclude' --TemplateExporter.exclude_input=True --TemplateExporter.exclude_input_prompt=True --TemplateExporter.exclude_output_prompt=True"
   ]
  },
  {
   "cell_type": "markdown",
   "id": "167d76c1-a2fb-4635-9864-e7f515f7d059",
   "metadata": {
    "papermill": {
     "duration": 0.057949,
     "end_time": "2023-02-21T19:15:14.290347",
     "exception": false,
     "start_time": "2023-02-21T19:15:14.232398",
     "status": "completed"
    },
    "tags": [
     "exclude"
    ]
   },
   "source": [
    "## Git"
   ]
  },
  {
   "cell_type": "code",
   "execution_count": null,
   "id": "5861c149-66bb-4347-80ab-7483d9313dce",
   "metadata": {
    "papermill": {
     "duration": 0.589936,
     "end_time": "2023-02-21T19:15:15.608856",
     "exception": false,
     "start_time": "2023-02-21T19:15:15.018920",
     "status": "completed"
    },
    "tags": [
     "exclude"
    ]
   },
   "outputs": [],
   "source": [
    "! git add \"../*[Ss]peed*\""
   ]
  },
  {
   "cell_type": "code",
   "execution_count": null,
   "id": "dc0d112d-7937-4eba-a788-e8a134f8d5cf",
   "metadata": {
    "papermill": {
     "duration": 1.263083,
     "end_time": "2023-02-21T19:15:16.909590",
     "exception": false,
     "start_time": "2023-02-21T19:15:15.646507",
     "status": "completed"
    },
    "tags": [
     "exclude"
    ]
   },
   "outputs": [],
   "source": [
    "! git commit -m {\"'Speed duel update-\" + timestamp.isoformat() + \"'\"}"
   ]
  }
 ],
 "metadata": {
  "kernelspec": {
   "display_name": "Python 3 (ipykernel)",
   "language": "python",
   "name": "python3"
  },
  "language_info": {
   "codemirror_mode": {
    "name": "ipython",
    "version": 3
   },
   "file_extension": ".py",
   "mimetype": "text/x-python",
   "name": "python",
   "nbconvert_exporter": "python",
   "pygments_lexer": "ipython3",
   "version": "3.10.8"
  },
  "papermill": {
   "default_parameters": {},
   "duration": 71.417098,
   "end_time": "2023-02-21T19:15:17.780081",
   "environment_variables": {},
   "exception": null,
   "input_path": "Speed.ipynb",
   "output_path": "Speed.ipynb",
   "parameters": {},
   "start_time": "2023-02-21T19:14:06.362983",
   "version": "2.4.0"
  },
  "toc": {
   "base_numbering": 1,
   "nav_menu": {},
   "number_sections": true,
   "sideBar": true,
   "skip_h1_title": false,
   "title_cell": "Table of Contents",
   "title_sidebar": "Contents",
   "toc_cell": true,
   "toc_position": {},
   "toc_section_display": true,
   "toc_window_display": false
  }
 },
 "nbformat": 4,
 "nbformat_minor": 5
}
