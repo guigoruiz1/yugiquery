{
 "cells": [
  {
   "cell_type": "code",
   "execution_count": null,
   "id": "db3fea09-dd17-4d4f-9751-4db442584d19",
   "metadata": {
    "papermill": {
     "duration": 15.14647,
     "end_time": "2023-07-12T22:36:42.148898",
     "exception": false,
     "start_time": "2023-07-12T22:36:27.002428",
     "status": "completed"
    },
    "tags": []
   },
   "outputs": [],
   "source": [
    "from yugiquery import *\n",
    "\n",
    "header(\"Speed Duel\")"
   ]
  },
  {
   "cell_type": "markdown",
   "id": "f26c89c2-c447-43a2-997b-603775191de3",
   "metadata": {
    "papermill": {
     "duration": 0.019781,
     "end_time": "2023-07-12T22:36:42.189297",
     "exception": false,
     "start_time": "2023-07-12T22:36:42.169516",
     "status": "completed"
    },
    "tags": []
   },
   "source": [
    "---"
   ]
  },
  {
   "cell_type": "markdown",
   "id": "a938b6fe",
   "metadata": {
    "papermill": {
     "duration": 0.019749,
     "end_time": "2023-07-12T22:36:42.229281",
     "exception": false,
     "start_time": "2023-07-12T22:36:42.209532",
     "status": "completed"
    },
    "tags": []
   },
   "source": [
    "Table of Contents\n",
    "=================\n",
    "\n",
    "*   [1  Data aquisition](#Data-aquisition)\n",
    "    *   [1.1  Fetch online data](#Fetch-online-data)\n",
    "    *   [1.2  Merge data](#Merge-data)\n",
    "*   [2  Check changes](#Check-changes)\n",
    "    *   [2.1  Load previous data](#Load-previous-data)\n",
    "    *   [2.2  Generate changelog](#Generate-changelog)\n",
    "    *   [2.3  Save data](#Save-data)\n",
    "*   [3  Data visualization](#Data-visualization)\n",
    "    *   [3.1  Skill cards](#Skill-cards)\n",
    "        *   [3.1.1  Character](#Character)\n",
    "        *   [3.1.2  Property](#Property)\n",
    "    *   [3.2  Property](#Property)\n",
    "    *   [3.3  Archseries](#Archseries)\n",
    "    *   [3.4  TCG Speed Duel status](#TCG-Speed-Duel-status)\n",
    "        *   *   [3.4.0.1  By card type](#By-card-type)\n",
    "            *   [3.4.0.2  By monster type](#By-monster-type)\n",
    "            *   [3.4.0.3  By archseries](#By-archseries)\n",
    "        *   [3.4.1  TCG Speed Duel vs. TCG status](#TCG-Speed-Duel-vs.-TCG-status)\n",
    "*   [4  Epilogue](#Epilogue)\n",
    "    *   [4.1  HTML export](#HTML-export)\n",
    "<!--     *   [4.2  Git](#Git) -->"
   ]
  },
  {
   "cell_type": "markdown",
   "id": "952801c1-2126-4df2-ae95-e3f56fc801c1",
   "metadata": {
    "papermill": {
     "duration": 0.019975,
     "end_time": "2023-07-12T22:36:42.270423",
     "exception": false,
     "start_time": "2023-07-12T22:36:42.250448",
     "status": "completed"
    },
    "tags": []
   },
   "source": [
    "# Data aquisition"
   ]
  },
  {
   "cell_type": "markdown",
   "id": "99894266-9cec-4db3-bfe7-37572eed8dc6",
   "metadata": {
    "papermill": {
     "duration": 0.020694,
     "end_time": "2023-07-12T22:36:42.311563",
     "exception": false,
     "start_time": "2023-07-12T22:36:42.290869",
     "status": "completed"
    },
    "tags": []
   },
   "source": [
    "## Fetch online data"
   ]
  },
  {
   "cell_type": "code",
   "execution_count": null,
   "id": "10acd11f-8a8b-4650-a6aa-2b509d8ba596",
   "metadata": {
    "papermill": {
     "duration": 0.03169,
     "end_time": "2023-07-12T22:36:42.368556",
     "exception": false,
     "start_time": "2023-07-12T22:36:42.336866",
     "status": "completed"
    },
    "tags": []
   },
   "outputs": [],
   "source": [
    "# Timestamp\n",
    "timestamp = pd.Timestamp.now()"
   ]
  },
  {
   "cell_type": "code",
   "execution_count": null,
   "id": "4cf61b44-a485-4af9-9465-b4eb2431a730",
   "metadata": {
    "papermill": {
     "duration": 7.103681,
     "end_time": "2023-07-12T22:36:49.493229",
     "exception": false,
     "start_time": "2023-07-12T22:36:42.389548",
     "status": "completed"
    },
    "tags": []
   },
   "outputs": [],
   "source": [
    "# Fetch skill cards\n",
    "skill_df = fetch_skill()\n",
    "\n",
    "# Fetch deck cards\n",
    "speed_df = fetch_speed()"
   ]
  },
  {
   "cell_type": "markdown",
   "id": "5269bc32-88fc-4026-853b-a7b4015dd5c1",
   "metadata": {
    "papermill": {
     "duration": 0.064337,
     "end_time": "2023-07-12T22:36:49.584824",
     "exception": false,
     "start_time": "2023-07-12T22:36:49.520487",
     "status": "completed"
    },
    "tags": []
   },
   "source": [
    "## Merge data"
   ]
  },
  {
   "cell_type": "code",
   "execution_count": null,
   "id": "13ccdd0c-f189-44f5-ab8b-c861098fd8ab",
   "metadata": {
    "papermill": {
     "duration": 0.059232,
     "end_time": "2023-07-12T22:36:49.666962",
     "exception": false,
     "start_time": "2023-07-12T22:36:49.607730",
     "status": "completed"
    },
    "tags": []
   },
   "outputs": [],
   "source": [
    "full_df = (\n",
    "    pd.concat([speed_df, skill_df], ignore_index=True, axis=0)\n",
    "    .sort_values(\"Name\")\n",
    "    .reset_index(drop=True)\n",
    ")\n",
    "print(\"Data merged\")"
   ]
  },
  {
   "cell_type": "markdown",
   "id": "44e08025-ef2e-47d1-a77d-942a98c638eb",
   "metadata": {
    "papermill": {
     "duration": 0.021684,
     "end_time": "2023-07-12T22:36:49.713617",
     "exception": false,
     "start_time": "2023-07-12T22:36:49.691933",
     "status": "completed"
    },
    "tags": []
   },
   "source": [
    "# Check changes"
   ]
  },
  {
   "cell_type": "markdown",
   "id": "b4e572a4-6b11-46e8-96a8-dd7b88ff7ad4",
   "metadata": {
    "papermill": {
     "duration": 0.018722,
     "end_time": "2023-07-12T22:36:49.751535",
     "exception": false,
     "start_time": "2023-07-12T22:36:49.732813",
     "status": "completed"
    },
    "tags": []
   },
   "source": [
    "## Load previous data"
   ]
  },
  {
   "cell_type": "code",
   "execution_count": null,
   "id": "13615dd3-a9e6-40ea-89df-b3f1c489c727",
   "metadata": {
    "papermill": {
     "duration": 0.03366,
     "end_time": "2023-07-12T22:36:49.804387",
     "exception": false,
     "start_time": "2023-07-12T22:36:49.770727",
     "status": "completed"
    },
    "tags": []
   },
   "outputs": [],
   "source": [
    "## Get list of files\n",
    "files_list = sorted(\n",
    "    glob.glob(\"../data/all_speed_*.csv\"), key=os.path.getctime, reverse=True\n",
    ")\n",
    "# Get second newest file if exist\n",
    "if files_list:\n",
    "    latest_file = files_list[0]\n",
    "    # Load csv avoiding converting \"NA\" to NaN\n",
    "    previous_df = pd.read_csv(\n",
    "        latest_file, dtype=object, keep_default_na=False, na_values=[\"\"]\n",
    "    )\n",
    "    # Correct tuples\n",
    "    tuple_cols = [\"Secondary type\", \"Effect type\", \"Archseries\", \"Artwork\"]\n",
    "    for col in tuple_cols:\n",
    "        previous_df[col] = previous_df[col].dropna().apply(literal_eval)\n",
    "    # Force dtypes to match current df\n",
    "    previous_df = previous_df.astype(\n",
    "        full_df[previous_df.columns.intersection(full_df.columns)].dtypes.to_dict()\n",
    "    )\n",
    "    previous_ts = pd.to_datetime(\n",
    "        os.path.basename(latest_file).split(\"_\")[-1].split(\".csv\")[0]\n",
    "    )\n",
    "    print(\"File loaded\")\n",
    "else:\n",
    "    previous_df = None\n",
    "    print(\"No older files\")"
   ]
  },
  {
   "cell_type": "markdown",
   "id": "6c263bf7-641e-431d-b0ba-d6be001d2f16",
   "metadata": {
    "papermill": {
     "duration": 0.019734,
     "end_time": "2023-07-12T22:36:49.843425",
     "exception": false,
     "start_time": "2023-07-12T22:36:49.823691",
     "status": "completed"
    },
    "tags": []
   },
   "source": [
    "## Generate changelog"
   ]
  },
  {
   "cell_type": "code",
   "execution_count": null,
   "id": "2fcca8f1",
   "metadata": {
    "papermill": {
     "duration": 0.035086,
     "end_time": "2023-07-12T22:36:49.897489",
     "exception": false,
     "start_time": "2023-07-12T22:36:49.862403",
     "status": "completed"
    },
    "tags": []
   },
   "outputs": [],
   "source": [
    "if previous_df is None:\n",
    "    changelog = None\n",
    "    print(\"Skipped\")\n",
    "else:\n",
    "    changelog = generate_changelog(previous_df, full_df, col=\"Name\")\n",
    "    if not changelog.empty:\n",
    "        display(changelog)\n",
    "        changelog.to_csv(\n",
    "            f'../data/speed_changelog_{previous_ts.isoformat(timespec=\"minutes\")}_{timestamp.isoformat(timespec=\"minutes\")}.bz2',\n",
    "            index=True,\n",
    "        )\n",
    "        print(\"Changelog saved\")"
   ]
  },
  {
   "cell_type": "markdown",
   "id": "75bdae54-3ee6-4a50-abd1-a20b3397a24d",
   "metadata": {
    "papermill": {
     "duration": 0.019063,
     "end_time": "2023-07-12T22:36:49.936152",
     "exception": false,
     "start_time": "2023-07-12T22:36:49.917089",
     "status": "completed"
    },
    "tags": []
   },
   "source": [
    "## Save data"
   ]
  },
  {
   "cell_type": "code",
   "execution_count": null,
   "id": "7508d7a5-8398-4596-9079-64cf9ebd6e77",
   "metadata": {
    "papermill": {
     "duration": 0.118943,
     "end_time": "2023-07-12T22:36:50.074751",
     "exception": false,
     "start_time": "2023-07-12T22:36:49.955808",
     "status": "completed"
    },
    "tags": []
   },
   "outputs": [],
   "source": [
    "if changelog is not None and changelog.empty:\n",
    "    print(\"No changes. New data not saved\")\n",
    "else:\n",
    "    full_df.to_csv(\n",
    "        f'../data/all_speed_{timestamp.isoformat(timespec=\"minutes\")}.bz2', index=False\n",
    "    )\n",
    "    print(\"Data saved\")"
   ]
  },
  {
   "cell_type": "markdown",
   "id": "f39835c2-7259-48b8-bf68-04624f16c8b6",
   "metadata": {
    "papermill": {
     "duration": 0.024944,
     "end_time": "2023-07-12T22:36:50.124770",
     "exception": false,
     "start_time": "2023-07-12T22:36:50.099826",
     "status": "completed"
    },
    "tags": []
   },
   "source": [
    "# Data visualization"
   ]
  },
  {
   "cell_type": "code",
   "execution_count": null,
   "id": "8ecc9568-d30c-452e-b5d4-d08390bc19ba",
   "metadata": {
    "papermill": {
     "duration": 0.065132,
     "end_time": "2023-07-12T22:36:50.209682",
     "exception": false,
     "start_time": "2023-07-12T22:36:50.144550",
     "status": "completed"
    },
    "tags": []
   },
   "outputs": [],
   "source": [
    "full_df"
   ]
  },
  {
   "cell_type": "markdown",
   "id": "1401bf85-e4a1-4e8d-b51a-208469d1ea0d",
   "metadata": {
    "jp-MarkdownHeadingCollapsed": true,
    "papermill": {
     "duration": 0.020434,
     "end_time": "2023-07-12T22:36:50.250680",
     "exception": false,
     "start_time": "2023-07-12T22:36:50.230246",
     "status": "completed"
    },
    "tags": []
   },
   "source": [
    "## Skill cards"
   ]
  },
  {
   "cell_type": "markdown",
   "id": "2d62bfc4-0967-4ebe-b39a-172eb34e4968",
   "metadata": {
    "papermill": {
     "duration": 0.019763,
     "end_time": "2023-07-12T22:36:50.292773",
     "exception": false,
     "start_time": "2023-07-12T22:36:50.273010",
     "status": "completed"
    },
    "tags": []
   },
   "source": [
    "### Character"
   ]
  },
  {
   "cell_type": "code",
   "execution_count": null,
   "id": "ce5700d6-335d-4c89-89e5-2144e16e6316",
   "metadata": {
    "papermill": {
     "duration": 0.032893,
     "end_time": "2023-07-12T22:36:50.345673",
     "exception": false,
     "start_time": "2023-07-12T22:36:50.312780",
     "status": "completed"
    },
    "tags": []
   },
   "outputs": [],
   "source": [
    "print(\n",
    "    \"Total number of characters portrayed in skill cards:\",\n",
    "    skill_df[\"Character\"].nunique(),\n",
    ")"
   ]
  },
  {
   "cell_type": "code",
   "execution_count": null,
   "id": "31c4c673-ff6a-4d8e-8092-639fd9430283",
   "metadata": {
    "papermill": {
     "duration": 0.048565,
     "end_time": "2023-07-12T22:36:50.414792",
     "exception": false,
     "start_time": "2023-07-12T22:36:50.366227",
     "status": "completed"
    },
    "tags": []
   },
   "outputs": [],
   "source": [
    "skill_df.drop(\"Card type\", axis=1).sort_values(\"Character\")"
   ]
  },
  {
   "cell_type": "code",
   "execution_count": null,
   "id": "8a9be7a8-acb8-4770-aaa4-353883c1169e",
   "metadata": {
    "papermill": {
     "duration": 1.263587,
     "end_time": "2023-07-12T22:36:51.701722",
     "exception": false,
     "start_time": "2023-07-12T22:36:50.438135",
     "status": "completed"
    },
    "tags": []
   },
   "outputs": [],
   "source": [
    "skill_color = colors_dict[\"Skill Card\"]\n",
    "skill_df[\"Character\"].value_counts().plot.bar(\n",
    "    figsize=(18, 6), grid=True, rot=90, color=skill_color, title=\"Character\"\n",
    ")\n",
    "plt.show()"
   ]
  },
  {
   "cell_type": "markdown",
   "id": "da7bcd77-29bd-4c35-94b6-9c94a0347d74",
   "metadata": {
    "papermill": {
     "duration": 0.022365,
     "end_time": "2023-07-12T22:36:51.750798",
     "exception": false,
     "start_time": "2023-07-12T22:36:51.728433",
     "status": "completed"
    },
    "tags": []
   },
   "source": [
    "### Property"
   ]
  },
  {
   "cell_type": "code",
   "execution_count": null,
   "id": "4701e5ca-642c-4b94-833c-05c134517ea5",
   "metadata": {
    "papermill": {
     "duration": 0.051832,
     "end_time": "2023-07-12T22:36:51.825868",
     "exception": false,
     "start_time": "2023-07-12T22:36:51.774036",
     "status": "completed"
    },
    "tags": []
   },
   "outputs": [],
   "source": [
    "print(\"Total number of properties:\", skill_df[\"Property\"].nunique())"
   ]
  },
  {
   "cell_type": "code",
   "execution_count": null,
   "id": "68dc87e6-2e87-4afe-b3ff-d042ecfeba39",
   "metadata": {
    "papermill": {
     "duration": 0.108111,
     "end_time": "2023-07-12T22:36:51.959435",
     "exception": false,
     "start_time": "2023-07-12T22:36:51.851324",
     "status": "completed"
    },
    "tags": []
   },
   "outputs": [],
   "source": [
    "skill_df.groupby(\"Property\").nunique()"
   ]
  },
  {
   "cell_type": "code",
   "execution_count": null,
   "id": "de5c00b6-aa1b-4161-9528-0ecb84fe1c95",
   "metadata": {
    "papermill": {
     "duration": 0.261852,
     "end_time": "2023-07-12T22:36:52.247229",
     "exception": false,
     "start_time": "2023-07-12T22:36:51.985377",
     "status": "completed"
    },
    "tags": []
   },
   "outputs": [],
   "source": [
    "skill_color = colors_dict[\"Skill Card\"]\n",
    "skill_df[\"Property\"].value_counts().plot.bar(\n",
    "    figsize=(18, 6), grid=True, rot=0, color=skill_color, title=\"Property\"\n",
    ")\n",
    "plt.show()"
   ]
  },
  {
   "cell_type": "markdown",
   "id": "4aab5adb-de31-4735-9e3d-4aa976e11ece",
   "metadata": {
    "jp-MarkdownHeadingCollapsed": true,
    "papermill": {
     "duration": 0.084233,
     "end_time": "2023-07-12T22:36:52.356090",
     "exception": false,
     "start_time": "2023-07-12T22:36:52.271857",
     "status": "completed"
    },
    "tags": []
   },
   "source": [
    "## Property"
   ]
  },
  {
   "cell_type": "code",
   "execution_count": null,
   "id": "0cf82c89-7bc7-4f6c-914d-1a577cf7bc4d",
   "metadata": {
    "papermill": {
     "duration": 0.128811,
     "end_time": "2023-07-12T22:36:52.599200",
     "exception": false,
     "start_time": "2023-07-12T22:36:52.470389",
     "status": "completed"
    },
    "tags": []
   },
   "outputs": [],
   "source": [
    "print(\"Total number of properties:\", full_df[\"Property\"].nunique())"
   ]
  },
  {
   "cell_type": "code",
   "execution_count": null,
   "id": "efbb94e7-b9d0-4ddf-953e-b8964b398808",
   "metadata": {
    "papermill": {
     "duration": 0.13283,
     "end_time": "2023-07-12T22:36:53.092965",
     "exception": false,
     "start_time": "2023-07-12T22:36:52.960135",
     "status": "completed"
    },
    "tags": []
   },
   "outputs": [],
   "source": [
    "full_df.groupby(\"Property\").nunique()"
   ]
  },
  {
   "cell_type": "code",
   "execution_count": null,
   "id": "3008e3c7-b0a9-46af-8ccf-e93cada9e07a",
   "metadata": {
    "papermill": {
     "duration": 0.464218,
     "end_time": "2023-07-12T22:36:53.586532",
     "exception": false,
     "start_time": "2023-07-12T22:36:53.122314",
     "status": "completed"
    },
    "tags": []
   },
   "outputs": [],
   "source": [
    "property_unstack = full_df.groupby(\"Property\")[\"Card type\"].value_counts().unstack()\n",
    "skill_st_colors = [colors_dict[i] for i in property_unstack.columns]\n",
    "property_unstack.plot.bar(\n",
    "    figsize=(18, 6), stacked=True, grid=True, rot=45, color=skill_st_colors\n",
    ")\n",
    "plt.show()"
   ]
  },
  {
   "cell_type": "markdown",
   "id": "554753ed-43a9-426f-aafa-3e9a56b6ecde",
   "metadata": {
    "jp-MarkdownHeadingCollapsed": true,
    "papermill": {
     "duration": 0.058992,
     "end_time": "2023-07-12T22:36:53.680650",
     "exception": false,
     "start_time": "2023-07-12T22:36:53.621658",
     "status": "completed"
    },
    "tags": []
   },
   "source": [
    "## Archseries"
   ]
  },
  {
   "cell_type": "code",
   "execution_count": null,
   "id": "87cc22b3-0682-46b6-9aa5-0982a5ef933a",
   "metadata": {
    "papermill": {
     "duration": 0.126646,
     "end_time": "2023-07-12T22:36:53.838694",
     "exception": false,
     "start_time": "2023-07-12T22:36:53.712048",
     "status": "completed"
    },
    "tags": []
   },
   "outputs": [],
   "source": [
    "exploded_archseries = full_df.explode(\"Archseries\")\n",
    "print(\"Total number of Archseries:\", exploded_archseries[\"Archseries\"].nunique())"
   ]
  },
  {
   "cell_type": "code",
   "execution_count": null,
   "id": "3c4ec027-4f63-4b5d-aafe-f1b414a10fd8",
   "metadata": {
    "papermill": {
     "duration": 0.302495,
     "end_time": "2023-07-12T22:36:54.319343",
     "exception": false,
     "start_time": "2023-07-12T22:36:54.016848",
     "status": "completed"
    },
    "tags": []
   },
   "outputs": [],
   "source": [
    "exploded_archseries.groupby(\"Archseries\").nunique()"
   ]
  },
  {
   "cell_type": "code",
   "execution_count": null,
   "id": "d4c79469-cf13-46a2-a30d-cbc24aa66a72",
   "metadata": {
    "papermill": {
     "duration": 2.450584,
     "end_time": "2023-07-12T22:36:56.797221",
     "exception": false,
     "start_time": "2023-07-12T22:36:54.346637",
     "status": "completed"
    },
    "tags": []
   },
   "outputs": [],
   "source": [
    "exploded_archseries[\"Archseries\"].value_counts().plot.barh(\n",
    "    figsize=(10, 50), grid=True, title=\"Archtypes/Series\"\n",
    ")\n",
    "plt.show()"
   ]
  },
  {
   "cell_type": "markdown",
   "id": "edd6956f-bcb6-4883-8360-3affe25eb313",
   "metadata": {
    "papermill": {
     "duration": 0.06026,
     "end_time": "2023-07-12T22:36:56.893496",
     "exception": false,
     "start_time": "2023-07-12T22:36:56.833236",
     "status": "completed"
    },
    "tags": []
   },
   "source": [
    "## TCG Speed Duel status"
   ]
  },
  {
   "cell_type": "code",
   "execution_count": null,
   "id": "88b93fca",
   "metadata": {
    "papermill": {
     "duration": 0.051859,
     "end_time": "2023-07-12T22:36:56.981090",
     "exception": false,
     "start_time": "2023-07-12T22:36:56.929231",
     "status": "completed"
    },
    "tags": []
   },
   "outputs": [],
   "source": [
    "print(\n",
    "    \"Total number of TCG Speed Duel status:\", full_df[\"TCG Speed Duel status\"].nunique()\n",
    ")"
   ]
  },
  {
   "cell_type": "code",
   "execution_count": null,
   "id": "2c69bec0",
   "metadata": {
    "papermill": {
     "duration": 0.083316,
     "end_time": "2023-07-12T22:36:57.103356",
     "exception": false,
     "start_time": "2023-07-12T22:36:57.020040",
     "status": "completed"
    },
    "tags": []
   },
   "outputs": [],
   "source": [
    "full_df.groupby(\"TCG Speed Duel status\", dropna=False).nunique()"
   ]
  },
  {
   "cell_type": "code",
   "execution_count": null,
   "id": "add82403",
   "metadata": {
    "papermill": {
     "duration": 0.899326,
     "end_time": "2023-07-12T22:36:58.039030",
     "exception": false,
     "start_time": "2023-07-12T22:36:57.139704",
     "status": "completed"
    },
    "tags": []
   },
   "outputs": [],
   "source": [
    "full_df[\"TCG Speed Duel status\"].value_counts(dropna=False).plot.bar(\n",
    "    figsize=(18, 6), logy=True, grid=True, rot=45, title=\"TCG status\"\n",
    ")\n",
    "plt.show()"
   ]
  },
  {
   "cell_type": "markdown",
   "id": "30911bce-0ed7-44e4-8776-03c69f960a63",
   "metadata": {
    "papermill": {
     "duration": 0.072238,
     "end_time": "2023-07-12T22:36:58.147864",
     "exception": false,
     "start_time": "2023-07-12T22:36:58.075626",
     "status": "completed"
    },
    "tags": []
   },
   "source": [
    "#### By card type"
   ]
  },
  {
   "cell_type": "code",
   "execution_count": null,
   "id": "12c444ed",
   "metadata": {
    "papermill": {
     "duration": 0.070683,
     "end_time": "2023-07-12T22:36:58.256022",
     "exception": false,
     "start_time": "2023-07-12T22:36:58.185339",
     "status": "completed"
    },
    "tags": []
   },
   "outputs": [],
   "source": [
    "# Remove unlimited\n",
    "tcg_speed_crosstab = pd.crosstab(full_df[\"Card type\"], full_df[\"TCG Speed Duel status\"])\n",
    "tcg_speed_crosstab"
   ]
  },
  {
   "cell_type": "code",
   "execution_count": null,
   "id": "8648b51e",
   "metadata": {
    "papermill": {
     "duration": 0.673299,
     "end_time": "2023-07-12T22:36:58.966052",
     "exception": false,
     "start_time": "2023-07-12T22:36:58.292753",
     "status": "completed"
    },
    "tags": []
   },
   "outputs": [],
   "source": [
    "plt.figure(figsize=(12, 6))\n",
    "sns.heatmap(\n",
    "    tcg_speed_crosstab[tcg_speed_crosstab > 0],\n",
    "    annot=True,\n",
    "    fmt=\"g\",\n",
    "    cmap=\"viridis\",\n",
    "    norm=mc.LogNorm(),\n",
    ")\n",
    "plt.show()"
   ]
  },
  {
   "cell_type": "markdown",
   "id": "f112238b-877f-467f-aaba-5742f024c820",
   "metadata": {
    "papermill": {
     "duration": 0.061774,
     "end_time": "2023-07-12T22:36:59.071527",
     "exception": false,
     "start_time": "2023-07-12T22:36:59.009753",
     "status": "completed"
    },
    "tags": []
   },
   "source": [
    "#### By monster type"
   ]
  },
  {
   "cell_type": "code",
   "execution_count": null,
   "id": "bb73564f",
   "metadata": {
    "papermill": {
     "duration": 0.073717,
     "end_time": "2023-07-12T22:36:59.182403",
     "exception": false,
     "start_time": "2023-07-12T22:36:59.108686",
     "status": "completed"
    },
    "tags": []
   },
   "outputs": [],
   "source": [
    "# Remove unlimited\n",
    "tcg_speed_crosstab_b = pd.crosstab(\n",
    "    full_df[\"Monster type\"], full_df[\"TCG Speed Duel status\"]\n",
    ")\n",
    "tcg_speed_crosstab_b"
   ]
  },
  {
   "cell_type": "code",
   "execution_count": null,
   "id": "dd5e826c",
   "metadata": {
    "papermill": {
     "duration": 0.635885,
     "end_time": "2023-07-12T22:36:59.856241",
     "exception": false,
     "start_time": "2023-07-12T22:36:59.220356",
     "status": "completed"
    },
    "tags": []
   },
   "outputs": [],
   "source": [
    "plt.figure(figsize=(20, 5))\n",
    "sns.heatmap(\n",
    "    tcg_speed_crosstab_b[tcg_speed_crosstab_b > 0].T,\n",
    "    annot=True,\n",
    "    fmt=\"g\",\n",
    "    cmap=\"viridis\",\n",
    "    square=True,\n",
    ")\n",
    "plt.show()"
   ]
  },
  {
   "cell_type": "markdown",
   "id": "1ee91dde-4e18-4ff5-8400-37cf77cfd2fd",
   "metadata": {
    "papermill": {
     "duration": 0.578949,
     "end_time": "2023-07-12T22:37:00.473669",
     "exception": false,
     "start_time": "2023-07-12T22:36:59.894720",
     "status": "completed"
    },
    "tags": []
   },
   "source": [
    "#### By archseries"
   ]
  },
  {
   "cell_type": "code",
   "execution_count": null,
   "id": "05fc1f77",
   "metadata": {
    "papermill": {
     "duration": 0.111887,
     "end_time": "2023-07-12T22:37:00.790207",
     "exception": false,
     "start_time": "2023-07-12T22:37:00.678320",
     "status": "completed"
    },
    "tags": []
   },
   "outputs": [],
   "source": [
    "# Remove unlimited\n",
    "tcg_crosstab_c = pd.crosstab(\n",
    "    exploded_archseries[\"Archseries\"],\n",
    "    exploded_archseries[\"TCG Speed Duel status\"],\n",
    "    margins=True,\n",
    ")\n",
    "tcg_crosstab_c"
   ]
  },
  {
   "cell_type": "markdown",
   "id": "45aa508f-2940-4f04-8c4a-7dd7b28b84b3",
   "metadata": {
    "papermill": {
     "duration": 0.03943,
     "end_time": "2023-07-12T22:37:00.873566",
     "exception": false,
     "start_time": "2023-07-12T22:37:00.834136",
     "status": "completed"
    },
    "tags": []
   },
   "source": [
    "### TCG Speed Duel vs. TCG status"
   ]
  },
  {
   "cell_type": "code",
   "execution_count": null,
   "id": "14f2101b",
   "metadata": {
    "papermill": {
     "duration": 0.071393,
     "end_time": "2023-07-12T22:37:00.984386",
     "exception": false,
     "start_time": "2023-07-12T22:37:00.912993",
     "status": "completed"
    },
    "tags": []
   },
   "outputs": [],
   "source": [
    "cg_crosstab = pd.crosstab(\n",
    "    full_df[\"TCG status\"], full_df[\"TCG Speed Duel status\"], dropna=False, margins=False\n",
    ")\n",
    "cg_crosstab"
   ]
  },
  {
   "cell_type": "code",
   "execution_count": null,
   "id": "d10c5c81",
   "metadata": {
    "papermill": {
     "duration": 0.712065,
     "end_time": "2023-07-12T22:37:01.745398",
     "exception": false,
     "start_time": "2023-07-12T22:37:01.033333",
     "status": "completed"
    },
    "tags": []
   },
   "outputs": [],
   "source": [
    "plt.figure(figsize=(10, 8))\n",
    "sns.heatmap(\n",
    "    cg_crosstab[cg_crosstab > 0],\n",
    "    annot=True,\n",
    "    fmt=\"g\",\n",
    "    cmap=\"viridis\",\n",
    "    square=True,\n",
    "    norm=mc.LogNorm(),\n",
    ")\n",
    "plt.show()"
   ]
  },
  {
   "cell_type": "markdown",
   "id": "de85b305-a301-4555-8446-ffe678453339",
   "metadata": {
    "papermill": {
     "duration": 0.043212,
     "end_time": "2023-07-12T22:37:01.863841",
     "exception": false,
     "start_time": "2023-07-12T22:37:01.820629",
     "status": "completed"
    },
    "tags": []
   },
   "source": [
    "# Epilogue"
   ]
  },
  {
   "cell_type": "code",
   "execution_count": null,
   "id": "b1f53a3b-6c36-4b2e-912c-2e15c6253baa",
   "metadata": {
    "papermill": {
     "duration": 0.123817,
     "end_time": "2023-07-12T22:37:02.027953",
     "exception": false,
     "start_time": "2023-07-12T22:37:01.904136",
     "status": "completed"
    },
    "tags": []
   },
   "outputs": [],
   "source": [
    "benchmark(\"speed\", timestamp)"
   ]
  },
  {
   "cell_type": "code",
   "execution_count": null,
   "id": "20534761-da7b-478a-a7cb-b8cdd434f77e",
   "metadata": {
    "papermill": {
     "duration": 0.052345,
     "end_time": "2023-07-12T22:37:02.121201",
     "exception": false,
     "start_time": "2023-07-12T22:37:02.068856",
     "status": "completed"
    },
    "tags": []
   },
   "outputs": [],
   "source": [
    "footer()"
   ]
  },
  {
   "cell_type": "markdown",
   "id": "44415c04-18b0-4d1e-ac12-ec8e30bd08d8",
   "metadata": {
    "papermill": {
     "duration": 0.041117,
     "end_time": "2023-07-12T22:37:02.203146",
     "exception": false,
     "start_time": "2023-07-12T22:37:02.162029",
     "status": "completed"
    },
    "tags": []
   },
   "source": [
    "## HTML export"
   ]
  },
  {
   "cell_type": "code",
   "execution_count": null,
   "id": "00f871b4-5b9c-4092-b774-54aa01af999f",
   "metadata": {
    "papermill": {
     "duration": 0.058597,
     "end_time": "2023-07-12T22:37:02.302614",
     "exception": false,
     "start_time": "2023-07-12T22:37:02.244017",
     "status": "completed"
    },
    "tags": []
   },
   "outputs": [],
   "source": [
    "# Save notebook on disck before generating HTML report\n",
    "save_notebook()"
   ]
  },
  {
   "cell_type": "code",
   "execution_count": null,
   "id": "5ab72228-2db0-461d-8964-2ec516b619a7",
   "metadata": {
    "papermill": {
     "duration": 4.220108,
     "end_time": "2023-07-12T22:37:06.567415",
     "exception": false,
     "start_time": "2023-07-12T22:37:02.347307",
     "status": "completed"
    },
    "tags": []
   },
   "outputs": [],
   "source": [
    "! jupyter nbconvert Speed.ipynb --output-dir='../' --to=HTML --TagRemovePreprocessor.enabled=True --TagRemovePreprocessor.remove_cell_tags='exclude' --TemplateExporter.exclude_input=True --TemplateExporter.exclude_input_prompt=True --TemplateExporter.exclude_output_prompt=True"
   ]
  },
  {
   "cell_type": "markdown",
   "id": "167d76c1-a2fb-4635-9864-e7f515f7d059",
   "metadata": {
    "papermill": {
     "duration": 0.040948,
     "end_time": "2023-07-12T22:37:06.649555",
     "exception": false,
     "start_time": "2023-07-12T22:37:06.608607",
     "status": "completed"
    },
    "tags": [
     "exclude"
    ]
   },
   "source": [
    "## Git"
   ]
  },
  {
   "cell_type": "code",
   "execution_count": null,
   "id": "5861c149-66bb-4347-80ab-7483d9313dce",
   "metadata": {
    "papermill": {
     "duration": 0.519466,
     "end_time": "2023-07-12T22:37:07.209629",
     "exception": false,
     "start_time": "2023-07-12T22:37:06.690163",
     "status": "completed"
    },
    "tags": [
     "exclude"
    ]
   },
   "outputs": [],
   "source": [
    "! git add \"../*[Ss]peed*\""
   ]
  },
  {
   "cell_type": "code",
   "execution_count": null,
   "id": "dc0d112d-7937-4eba-a788-e8a134f8d5cf",
   "metadata": {
    "papermill": {
     "duration": 0.486884,
     "end_time": "2023-07-12T22:37:07.737559",
     "exception": false,
     "start_time": "2023-07-12T22:37:07.250675",
     "status": "completed"
    },
    "tags": [
     "exclude"
    ]
   },
   "outputs": [],
   "source": [
    "! git commit -m {\"'Speed duel update-\" + timestamp.isoformat() + \"'\"}"
   ]
  }
 ],
 "metadata": {
  "kernelspec": {
   "display_name": "Python 3 (ipykernel)",
   "language": "python",
   "name": "python3"
  },
  "language_info": {
   "codemirror_mode": {
    "name": "ipython",
    "version": 3
   },
   "file_extension": ".py",
   "mimetype": "text/x-python",
   "name": "python",
   "nbconvert_exporter": "python",
   "pygments_lexer": "ipython3",
   "version": "3.10.12"
  },
  "papermill": {
   "default_parameters": {},
   "duration": 50.860364,
   "end_time": "2023-07-12T22:37:08.604721",
   "environment_variables": {},
   "exception": null,
   "input_path": "Speed.ipynb",
   "output_path": "Speed.ipynb",
   "parameters": {},
   "start_time": "2023-07-12T22:36:17.744357",
   "version": "2.4.0"
  },
  "toc": {
   "base_numbering": 1,
   "nav_menu": {},
   "number_sections": true,
   "sideBar": true,
   "skip_h1_title": false,
   "title_cell": "Table of Contents",
   "title_sidebar": "Contents",
   "toc_cell": true,
   "toc_position": {},
   "toc_section_display": true,
   "toc_window_display": false
  }
 },
 "nbformat": 4,
 "nbformat_minor": 5
}
