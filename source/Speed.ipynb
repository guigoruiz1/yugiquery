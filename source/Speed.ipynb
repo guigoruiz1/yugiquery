{
 "cells": [
  {
   "cell_type": "code",
   "execution_count": 1,
   "id": "db3fea09-dd17-4d4f-9751-4db442584d19",
   "metadata": {},
   "outputs": [
    {
     "data": {
      "text/markdown": [
       "<div align='center'>\n",
       "    <br>\n",
       "    <!-- Pre Style needed to fix HTML formatting -->\n",
       "    <pre style=\"line-height: var(--jp-code-line-height); font-family: var(--jp-code-font-family)\">\n",
       "    ██    ██ ██    ██  ██████  ██  ██████  ██    ██ ███████ ██████  ██    ██ \n",
       "     ██  ██  ██    ██ ██       ██ ██    ██ ██    ██ ██      ██   ██  ██  ██  \n",
       "      ████   ██    ██ ██   ███ ██ ██    ██ ██    ██ █████   ██████    ████   \n",
       "       ██    ██    ██ ██    ██ ██ ██ ▄▄ ██ ██    ██ ██      ██   ██    ██    \n",
       "       ██     ██████   ██████  ██  ██████   ██████  ███████ ██   ██    ██    \n",
       "                                      ▀▀                                     \n",
       "    </pre>\n",
       "</div>\n",
       "<div align='right'>\n",
       "    Speed Duel - Execution started 15/02/2023 10:50 UTC <br>\n",
       "    By <b>Guilherme Ruiz</b>\n",
       "</div>"
      ],
      "text/plain": [
       "<IPython.core.display.Markdown object>"
      ]
     },
     "execution_count": 1,
     "metadata": {},
     "output_type": "execute_result"
    }
   ],
   "source": [
    "from yugiquery import *\n",
    "header('Speed Duel')"
   ]
  },
  {
   "cell_type": "markdown",
   "id": "f26c89c2-c447-43a2-997b-603775191de3",
   "metadata": {},
   "source": [
    "---"
   ]
  },
  {
   "cell_type": "markdown",
   "id": "952801c1-2126-4df2-ae95-e3f56fc801c1",
   "metadata": {},
   "source": [
    "# Data aquisition"
   ]
  },
  {
   "cell_type": "markdown",
   "id": "99894266-9cec-4db3-bfe7-37572eed8dc6",
   "metadata": {},
   "source": [
    "## Fetch online data"
   ]
  },
  {
   "cell_type": "code",
   "execution_count": 11,
   "id": "10acd11f-8a8b-4650-a6aa-2b509d8ba596",
   "metadata": {},
   "outputs": [],
   "source": [
    "# Timestamp\n",
    "timestamp = pd.Timestamp.now()"
   ]
  },
  {
   "cell_type": "code",
   "execution_count": 2,
   "id": "4cf61b44-a485-4af9-9465-b4eb2431a730",
   "metadata": {},
   "outputs": [
    {
     "name": "stdout",
     "output_type": "stream",
     "text": [
      "Downloading skill cards\n",
      "105 results\n",
      "\n"
     ]
    }
   ],
   "source": [
    "# Fetch skill cards\n",
    "skill_df = fetch_skill()\n",
    "\n",
    "# Fetch deck cards\n",
    "speed_df = fetch_speed()"
   ]
  },
  {
   "cell_type": "markdown",
   "id": "5269bc32-88fc-4026-853b-a7b4015dd5c1",
   "metadata": {},
   "source": [
    "## Merge data"
   ]
  },
  {
   "cell_type": "code",
   "execution_count": 13,
   "id": "13ccdd0c-f189-44f5-ab8b-c861098fd8ab",
   "metadata": {},
   "outputs": [
    {
     "data": {
      "text/html": [
       "<div>\n",
       "<style scoped>\n",
       "    .dataframe tbody tr th:only-of-type {\n",
       "        vertical-align: middle;\n",
       "    }\n",
       "\n",
       "    .dataframe tbody tr th {\n",
       "        vertical-align: top;\n",
       "    }\n",
       "\n",
       "    .dataframe thead th {\n",
       "        text-align: right;\n",
       "    }\n",
       "</style>\n",
       "<table border=\"1\" class=\"dataframe\">\n",
       "  <thead>\n",
       "    <tr style=\"text-align: right;\">\n",
       "      <th></th>\n",
       "      <th>Name</th>\n",
       "      <th>Password</th>\n",
       "      <th>Card type</th>\n",
       "      <th>Property</th>\n",
       "      <th>Primary type</th>\n",
       "      <th>Secondary type</th>\n",
       "      <th>Attribute</th>\n",
       "      <th>Monster type</th>\n",
       "      <th>Level/Rank</th>\n",
       "      <th>DEF</th>\n",
       "      <th>Effect type</th>\n",
       "      <th>Archseries</th>\n",
       "      <th>ATK</th>\n",
       "      <th>TCG status</th>\n",
       "      <th>OCG status</th>\n",
       "      <th>TCG Speed Duel status</th>\n",
       "      <th>Artwork</th>\n",
       "      <th>Page name</th>\n",
       "      <th>Page URL</th>\n",
       "      <th>Modification date</th>\n",
       "      <th>Character</th>\n",
       "    </tr>\n",
       "  </thead>\n",
       "  <tbody>\n",
       "    <tr>\n",
       "      <th>0</th>\n",
       "      <td>7 Completed</td>\n",
       "      <td>86198326</td>\n",
       "      <td>Spell Card</td>\n",
       "      <td>Equip Spell Card</td>\n",
       "      <td>NaN</td>\n",
       "      <td>NaN</td>\n",
       "      <td>NaN</td>\n",
       "      <td>NaN</td>\n",
       "      <td>NaN</td>\n",
       "      <td>NaN</td>\n",
       "      <td>(Condition, Continuous-like Effect)</td>\n",
       "      <td>NaN</td>\n",
       "      <td>NaN</td>\n",
       "      <td>Unlimited</td>\n",
       "      <td>Unlimited</td>\n",
       "      <td>Unlimited</td>\n",
       "      <td>NaN</td>\n",
       "      <td>7 Completed</td>\n",
       "      <td>https://yugipedia.com/wiki/7_Completed</td>\n",
       "      <td>2021-10-31 17:18:50</td>\n",
       "      <td>NaN</td>\n",
       "    </tr>\n",
       "    <tr>\n",
       "      <th>1</th>\n",
       "      <td>Absorbing Jar</td>\n",
       "      <td>03900605</td>\n",
       "      <td>Monster Card</td>\n",
       "      <td>NaN</td>\n",
       "      <td>Effect Monster</td>\n",
       "      <td>(Flip monster,)</td>\n",
       "      <td>EARTH</td>\n",
       "      <td>Rock</td>\n",
       "      <td>3</td>\n",
       "      <td>500</td>\n",
       "      <td>(Flip effect,)</td>\n",
       "      <td>(Jar,)</td>\n",
       "      <td>600</td>\n",
       "      <td>Unlimited</td>\n",
       "      <td>Unlimited</td>\n",
       "      <td>Unlimited</td>\n",
       "      <td>NaN</td>\n",
       "      <td>Absorbing Jar</td>\n",
       "      <td>https://yugipedia.com/wiki/Absorbing_Jar</td>\n",
       "      <td>2021-11-06 15:22:32</td>\n",
       "      <td>NaN</td>\n",
       "    </tr>\n",
       "    <tr>\n",
       "      <th>2</th>\n",
       "      <td>Acid Trap Hole</td>\n",
       "      <td>41356845</td>\n",
       "      <td>Trap Card</td>\n",
       "      <td>Normal Trap Card</td>\n",
       "      <td>NaN</td>\n",
       "      <td>NaN</td>\n",
       "      <td>NaN</td>\n",
       "      <td>NaN</td>\n",
       "      <td>NaN</td>\n",
       "      <td>NaN</td>\n",
       "      <td>(Effect,)</td>\n",
       "      <td>(Trap Hole (archetype),)</td>\n",
       "      <td>NaN</td>\n",
       "      <td>Unlimited</td>\n",
       "      <td>Unlimited</td>\n",
       "      <td>Unlimited</td>\n",
       "      <td>(Alternate,)</td>\n",
       "      <td>Acid Trap Hole</td>\n",
       "      <td>https://yugipedia.com/wiki/Acid_Trap_Hole</td>\n",
       "      <td>2023-01-20 13:48:24</td>\n",
       "      <td>NaN</td>\n",
       "    </tr>\n",
       "    <tr>\n",
       "      <th>3</th>\n",
       "      <td>Adhesion Trap Hole</td>\n",
       "      <td>62325062</td>\n",
       "      <td>Trap Card</td>\n",
       "      <td>Normal Trap Card</td>\n",
       "      <td>NaN</td>\n",
       "      <td>NaN</td>\n",
       "      <td>NaN</td>\n",
       "      <td>NaN</td>\n",
       "      <td>NaN</td>\n",
       "      <td>NaN</td>\n",
       "      <td>(Activation condition, Effect)</td>\n",
       "      <td>(Trap Hole (archetype),)</td>\n",
       "      <td>NaN</td>\n",
       "      <td>Unlimited</td>\n",
       "      <td>Unlimited</td>\n",
       "      <td>Unlimited</td>\n",
       "      <td>NaN</td>\n",
       "      <td>Adhesion Trap Hole</td>\n",
       "      <td>https://yugipedia.com/wiki/Adhesion_Trap_Hole</td>\n",
       "      <td>2022-08-27 15:04:42</td>\n",
       "      <td>NaN</td>\n",
       "    </tr>\n",
       "    <tr>\n",
       "      <th>4</th>\n",
       "      <td>Advanced Dark</td>\n",
       "      <td>12644061</td>\n",
       "      <td>Spell Card</td>\n",
       "      <td>Field Spell Card</td>\n",
       "      <td>NaN</td>\n",
       "      <td>NaN</td>\n",
       "      <td>NaN</td>\n",
       "      <td>NaN</td>\n",
       "      <td>NaN</td>\n",
       "      <td>NaN</td>\n",
       "      <td>(Continuous-like Effect, Trigger Effect)</td>\n",
       "      <td>NaN</td>\n",
       "      <td>NaN</td>\n",
       "      <td>Unlimited</td>\n",
       "      <td>Unlimited</td>\n",
       "      <td>Unlimited</td>\n",
       "      <td>NaN</td>\n",
       "      <td>Advanced Dark</td>\n",
       "      <td>https://yugipedia.com/wiki/Advanced_Dark</td>\n",
       "      <td>2022-12-01 14:56:47</td>\n",
       "      <td>NaN</td>\n",
       "    </tr>\n",
       "    <tr>\n",
       "      <th>...</th>\n",
       "      <td>...</td>\n",
       "      <td>...</td>\n",
       "      <td>...</td>\n",
       "      <td>...</td>\n",
       "      <td>...</td>\n",
       "      <td>...</td>\n",
       "      <td>...</td>\n",
       "      <td>...</td>\n",
       "      <td>...</td>\n",
       "      <td>...</td>\n",
       "      <td>...</td>\n",
       "      <td>...</td>\n",
       "      <td>...</td>\n",
       "      <td>...</td>\n",
       "      <td>...</td>\n",
       "      <td>...</td>\n",
       "      <td>...</td>\n",
       "      <td>...</td>\n",
       "      <td>...</td>\n",
       "      <td>...</td>\n",
       "      <td>...</td>\n",
       "    </tr>\n",
       "    <tr>\n",
       "      <th>992</th>\n",
       "      <td>Union Combination</td>\n",
       "      <td>NaN</td>\n",
       "      <td>Skill Card</td>\n",
       "      <td>NaN</td>\n",
       "      <td>NaN</td>\n",
       "      <td>NaN</td>\n",
       "      <td>NaN</td>\n",
       "      <td>NaN</td>\n",
       "      <td>NaN</td>\n",
       "      <td>NaN</td>\n",
       "      <td>NaN</td>\n",
       "      <td>NaN</td>\n",
       "      <td>NaN</td>\n",
       "      <td>Illegal</td>\n",
       "      <td>NaN</td>\n",
       "      <td>Legal</td>\n",
       "      <td>NaN</td>\n",
       "      <td>Union Combination</td>\n",
       "      <td>https://yugipedia.com/wiki/Union_Combination</td>\n",
       "      <td>2023-02-09 12:07:11</td>\n",
       "      <td>Seto Kaiba</td>\n",
       "    </tr>\n",
       "    <tr>\n",
       "      <th>993</th>\n",
       "      <td>Viral Infection</td>\n",
       "      <td>NaN</td>\n",
       "      <td>Skill Card</td>\n",
       "      <td>NaN</td>\n",
       "      <td>NaN</td>\n",
       "      <td>NaN</td>\n",
       "      <td>NaN</td>\n",
       "      <td>NaN</td>\n",
       "      <td>NaN</td>\n",
       "      <td>NaN</td>\n",
       "      <td>NaN</td>\n",
       "      <td>NaN</td>\n",
       "      <td>NaN</td>\n",
       "      <td>Illegal</td>\n",
       "      <td>NaN</td>\n",
       "      <td>Legal</td>\n",
       "      <td>NaN</td>\n",
       "      <td>Viral Infection</td>\n",
       "      <td>https://yugipedia.com/wiki/Viral_Infection</td>\n",
       "      <td>2020-05-29 17:27:57</td>\n",
       "      <td>Seto Kaiba</td>\n",
       "    </tr>\n",
       "    <tr>\n",
       "      <th>994</th>\n",
       "      <td>Volcanic Cannon</td>\n",
       "      <td>NaN</td>\n",
       "      <td>Skill Card</td>\n",
       "      <td>NaN</td>\n",
       "      <td>NaN</td>\n",
       "      <td>NaN</td>\n",
       "      <td>NaN</td>\n",
       "      <td>NaN</td>\n",
       "      <td>NaN</td>\n",
       "      <td>NaN</td>\n",
       "      <td>NaN</td>\n",
       "      <td>(Volcanic,)</td>\n",
       "      <td>NaN</td>\n",
       "      <td>Illegal</td>\n",
       "      <td>NaN</td>\n",
       "      <td>Legal</td>\n",
       "      <td>NaN</td>\n",
       "      <td>Volcanic Cannon</td>\n",
       "      <td>https://yugipedia.com/wiki/Volcanic_Cannon</td>\n",
       "      <td>2022-09-01 17:16:50</td>\n",
       "      <td>Axel Brodie</td>\n",
       "    </tr>\n",
       "    <tr>\n",
       "      <th>995</th>\n",
       "      <td>The World's Greatest Fisherman</td>\n",
       "      <td>NaN</td>\n",
       "      <td>Skill Card</td>\n",
       "      <td>NaN</td>\n",
       "      <td>NaN</td>\n",
       "      <td>NaN</td>\n",
       "      <td>NaN</td>\n",
       "      <td>NaN</td>\n",
       "      <td>NaN</td>\n",
       "      <td>NaN</td>\n",
       "      <td>NaN</td>\n",
       "      <td>NaN</td>\n",
       "      <td>NaN</td>\n",
       "      <td>Illegal</td>\n",
       "      <td>NaN</td>\n",
       "      <td>Legal</td>\n",
       "      <td>NaN</td>\n",
       "      <td>The World's Greatest Fisherman</td>\n",
       "      <td>https://yugipedia.com/wiki/The_World%27s_Great...</td>\n",
       "      <td>2020-05-29 17:49:58</td>\n",
       "      <td>Mako Tsunami</td>\n",
       "    </tr>\n",
       "    <tr>\n",
       "      <th>996</th>\n",
       "      <td>Zombie Master</td>\n",
       "      <td>NaN</td>\n",
       "      <td>Skill Card</td>\n",
       "      <td>NaN</td>\n",
       "      <td>NaN</td>\n",
       "      <td>NaN</td>\n",
       "      <td>NaN</td>\n",
       "      <td>NaN</td>\n",
       "      <td>NaN</td>\n",
       "      <td>NaN</td>\n",
       "      <td>NaN</td>\n",
       "      <td>NaN</td>\n",
       "      <td>NaN</td>\n",
       "      <td>Illegal</td>\n",
       "      <td>NaN</td>\n",
       "      <td>Legal</td>\n",
       "      <td>NaN</td>\n",
       "      <td>Zombie Master (Skill Card)</td>\n",
       "      <td>https://yugipedia.com/wiki/Zombie_Master_(Skil...</td>\n",
       "      <td>2022-12-27 15:38:32</td>\n",
       "      <td>Bonz</td>\n",
       "    </tr>\n",
       "  </tbody>\n",
       "</table>\n",
       "<p>997 rows × 21 columns</p>\n",
       "</div>"
      ],
      "text/plain": [
       "                               Name  Password     Card type          Property  \\\n",
       "0                       7 Completed  86198326    Spell Card  Equip Spell Card   \n",
       "1                     Absorbing Jar  03900605  Monster Card               NaN   \n",
       "2                    Acid Trap Hole  41356845     Trap Card  Normal Trap Card   \n",
       "3                Adhesion Trap Hole  62325062     Trap Card  Normal Trap Card   \n",
       "4                     Advanced Dark  12644061    Spell Card  Field Spell Card   \n",
       "..                              ...       ...           ...               ...   \n",
       "992               Union Combination       NaN    Skill Card               NaN   \n",
       "993                 Viral Infection       NaN    Skill Card               NaN   \n",
       "994                 Volcanic Cannon       NaN    Skill Card               NaN   \n",
       "995  The World's Greatest Fisherman       NaN    Skill Card               NaN   \n",
       "996                   Zombie Master       NaN    Skill Card               NaN   \n",
       "\n",
       "       Primary type   Secondary type Attribute Monster type Level/Rank  DEF  \\\n",
       "0               NaN              NaN       NaN          NaN        NaN  NaN   \n",
       "1    Effect Monster  (Flip monster,)     EARTH         Rock          3  500   \n",
       "2               NaN              NaN       NaN          NaN        NaN  NaN   \n",
       "3               NaN              NaN       NaN          NaN        NaN  NaN   \n",
       "4               NaN              NaN       NaN          NaN        NaN  NaN   \n",
       "..              ...              ...       ...          ...        ...  ...   \n",
       "992             NaN              NaN       NaN          NaN        NaN  NaN   \n",
       "993             NaN              NaN       NaN          NaN        NaN  NaN   \n",
       "994             NaN              NaN       NaN          NaN        NaN  NaN   \n",
       "995             NaN              NaN       NaN          NaN        NaN  NaN   \n",
       "996             NaN              NaN       NaN          NaN        NaN  NaN   \n",
       "\n",
       "                                  Effect type                Archseries  ATK  \\\n",
       "0         (Condition, Continuous-like Effect)                       NaN  NaN   \n",
       "1                              (Flip effect,)                    (Jar,)  600   \n",
       "2                                   (Effect,)  (Trap Hole (archetype),)  NaN   \n",
       "3              (Activation condition, Effect)  (Trap Hole (archetype),)  NaN   \n",
       "4    (Continuous-like Effect, Trigger Effect)                       NaN  NaN   \n",
       "..                                        ...                       ...  ...   \n",
       "992                                       NaN                       NaN  NaN   \n",
       "993                                       NaN                       NaN  NaN   \n",
       "994                                       NaN               (Volcanic,)  NaN   \n",
       "995                                       NaN                       NaN  NaN   \n",
       "996                                       NaN                       NaN  NaN   \n",
       "\n",
       "    TCG status OCG status TCG Speed Duel status       Artwork  \\\n",
       "0    Unlimited  Unlimited             Unlimited           NaN   \n",
       "1    Unlimited  Unlimited             Unlimited           NaN   \n",
       "2    Unlimited  Unlimited             Unlimited  (Alternate,)   \n",
       "3    Unlimited  Unlimited             Unlimited           NaN   \n",
       "4    Unlimited  Unlimited             Unlimited           NaN   \n",
       "..         ...        ...                   ...           ...   \n",
       "992    Illegal        NaN                 Legal           NaN   \n",
       "993    Illegal        NaN                 Legal           NaN   \n",
       "994    Illegal        NaN                 Legal           NaN   \n",
       "995    Illegal        NaN                 Legal           NaN   \n",
       "996    Illegal        NaN                 Legal           NaN   \n",
       "\n",
       "                          Page name  \\\n",
       "0                       7 Completed   \n",
       "1                     Absorbing Jar   \n",
       "2                    Acid Trap Hole   \n",
       "3                Adhesion Trap Hole   \n",
       "4                     Advanced Dark   \n",
       "..                              ...   \n",
       "992               Union Combination   \n",
       "993                 Viral Infection   \n",
       "994                 Volcanic Cannon   \n",
       "995  The World's Greatest Fisherman   \n",
       "996      Zombie Master (Skill Card)   \n",
       "\n",
       "                                              Page URL   Modification date  \\\n",
       "0               https://yugipedia.com/wiki/7_Completed 2021-10-31 17:18:50   \n",
       "1             https://yugipedia.com/wiki/Absorbing_Jar 2021-11-06 15:22:32   \n",
       "2            https://yugipedia.com/wiki/Acid_Trap_Hole 2023-01-20 13:48:24   \n",
       "3        https://yugipedia.com/wiki/Adhesion_Trap_Hole 2022-08-27 15:04:42   \n",
       "4             https://yugipedia.com/wiki/Advanced_Dark 2022-12-01 14:56:47   \n",
       "..                                                 ...                 ...   \n",
       "992       https://yugipedia.com/wiki/Union_Combination 2023-02-09 12:07:11   \n",
       "993         https://yugipedia.com/wiki/Viral_Infection 2020-05-29 17:27:57   \n",
       "994         https://yugipedia.com/wiki/Volcanic_Cannon 2022-09-01 17:16:50   \n",
       "995  https://yugipedia.com/wiki/The_World%27s_Great... 2020-05-29 17:49:58   \n",
       "996  https://yugipedia.com/wiki/Zombie_Master_(Skil... 2022-12-27 15:38:32   \n",
       "\n",
       "        Character  \n",
       "0             NaN  \n",
       "1             NaN  \n",
       "2             NaN  \n",
       "3             NaN  \n",
       "4             NaN  \n",
       "..            ...  \n",
       "992    Seto Kaiba  \n",
       "993    Seto Kaiba  \n",
       "994   Axel Brodie  \n",
       "995  Mako Tsunami  \n",
       "996          Bonz  \n",
       "\n",
       "[997 rows x 21 columns]"
      ]
     },
     "execution_count": 13,
     "metadata": {},
     "output_type": "execute_result"
    }
   ],
   "source": [
    "full_df = pd.concat([speed_df,skill_df], ignore_index=True, axis=0).sort_values('Name').reset_index(drop=True)\n",
    "print('Data merged')"
   ]
  },
  {
   "cell_type": "markdown",
   "id": "75bdae54-3ee6-4a50-abd1-a20b3397a24d",
   "metadata": {},
   "source": [
    "## Save data"
   ]
  },
  {
   "cell_type": "code",
   "execution_count": 17,
   "id": "7508d7a5-8398-4596-9079-64cf9ebd6e77",
   "metadata": {},
   "outputs": [],
   "source": [
    "full_df.to_csv(f'../data/all_speed_{timestamp.isoformat(timespec=\"minutes\")}.csv', index=False)\n",
    "print('Data saved')"
   ]
  },
  {
   "cell_type": "markdown",
   "id": "44e08025-ef2e-47d1-a77d-942a98c638eb",
   "metadata": {
    "papermill": {
     "duration": 0.045209,
     "end_time": "2023-02-08T20:03:51.646098",
     "exception": false,
     "start_time": "2023-02-08T20:03:51.600889",
     "status": "completed"
    },
    "tags": []
   },
   "source": [
    "# Check changes"
   ]
  },
  {
   "cell_type": "markdown",
   "id": "b4e572a4-6b11-46e8-96a8-dd7b88ff7ad4",
   "metadata": {
    "papermill": {
     "duration": 0.039656,
     "end_time": "2023-02-08T20:03:51.725966",
     "exception": false,
     "start_time": "2023-02-08T20:03:51.686310",
     "status": "completed"
    },
    "tags": []
   },
   "source": [
    "## Load previous data"
   ]
  },
  {
   "cell_type": "code",
   "execution_count": 18,
   "id": "fb7dc6f8",
   "metadata": {
    "papermill": {
     "duration": 0.625105,
     "end_time": "2023-02-08T20:03:52.392196",
     "exception": false,
     "start_time": "2023-02-08T20:03:51.767091",
     "status": "completed"
    },
    "tags": []
   },
   "outputs": [
    {
     "name": "stdout",
     "output_type": "stream",
     "text": [
      "No older files\n"
     ]
    }
   ],
   "source": [
    "# Get list of files\n",
    "files_list = sorted(glob.glob('../data/all_speed_*.csv'), key=os.path.getctime, reverse=True)\n",
    "# Get second newest file if exist\n",
    "if len(files_list)>1:\n",
    "    # Load csv avoiding converting \"NA\" to NaN\n",
    "    previous_df = pd.read_csv(files_list[1], dtype=object, keep_default_na=False, na_values=[''])\n",
    "    # Correct tuples\n",
    "    previous_df['Primary type'] = previous_df['Secondary type'].dropna().apply(literal_eval)\n",
    "    previous_df['Effect type'] = previous_df['Effect type'].dropna().apply(literal_eval)\n",
    "    previous_df['Link Arrows'] = previous_df['Link Arrows'].dropna().apply(literal_eval)\n",
    "    previous_df['Archseries'] = previous_df['Archseries'].dropna().apply(literal_eval)\n",
    "    previous_df['Artwork'] = previous_df['Artwork'].dropna().apply(literal_eval)\n",
    "    previous_df['Errata'] = previous_df['Errata'].dropna().apply(literal_eval)\n",
    "    # Force dtypes to match current df\n",
    "    previous_df = previous_df.astype(full_df[previous_df.columns].dtypes.to_dict())\n",
    "    previous_ts = pd.to_datetime(os.path.basename(files_list[1]).split('_')[-1].rstrip('.csv'))\n",
    "    print('File loaded')\n",
    "else:\n",
    "    previous_df = None\n",
    "    print('No older files')"
   ]
  },
  {
   "cell_type": "markdown",
   "id": "6c263bf7-641e-431d-b0ba-d6be001d2f16",
   "metadata": {
    "papermill": {
     "duration": 0.092973,
     "end_time": "2023-02-08T20:03:52.533137",
     "exception": false,
     "start_time": "2023-02-08T20:03:52.440164",
     "status": "completed"
    },
    "tags": []
   },
   "source": [
    "## Generate changelog"
   ]
  },
  {
   "cell_type": "code",
   "execution_count": null,
   "id": "2fcca8f1",
   "metadata": {
    "papermill": {
     "duration": 1.110294,
     "end_time": "2023-02-08T20:03:53.710107",
     "exception": false,
     "start_time": "2023-02-08T20:03:52.599813",
     "status": "completed"
    },
    "tags": []
   },
   "outputs": [],
   "source": [
    "if previous_df is None:\n",
    "    print('Skipped')\n",
    "else:\n",
    "    changelog = generate_changelog(previous_df, full_df, col = 'Name')\n",
    "    if not changelog.empty:\n",
    "        display(changelog)\n",
    "        changelog.to_csv(f'../data/speed_changelog_{timestamp.isoformat(timespec=\"minutes\")}_{previous_ts.isoformat(timespec=\"minutes\")}.csv', index = True)\n",
    "        print('Changelog saved')"
   ]
  },
  {
   "cell_type": "markdown",
   "id": "f39835c2-7259-48b8-bf68-04624f16c8b6",
   "metadata": {},
   "source": [
    "# Data visualization"
   ]
  },
  {
   "cell_type": "code",
   "execution_count": 14,
   "id": "8ecc9568-d30c-452e-b5d4-d08390bc19ba",
   "metadata": {},
   "outputs": [
    {
     "data": {
      "text/html": [
       "<div>\n",
       "<style scoped>\n",
       "    .dataframe tbody tr th:only-of-type {\n",
       "        vertical-align: middle;\n",
       "    }\n",
       "\n",
       "    .dataframe tbody tr th {\n",
       "        vertical-align: top;\n",
       "    }\n",
       "\n",
       "    .dataframe thead th {\n",
       "        text-align: right;\n",
       "    }\n",
       "</style>\n",
       "<table border=\"1\" class=\"dataframe\">\n",
       "  <thead>\n",
       "    <tr style=\"text-align: right;\">\n",
       "      <th></th>\n",
       "      <th>Name</th>\n",
       "      <th>Password</th>\n",
       "      <th>Card type</th>\n",
       "      <th>Property</th>\n",
       "      <th>Primary type</th>\n",
       "      <th>Secondary type</th>\n",
       "      <th>Attribute</th>\n",
       "      <th>Monster type</th>\n",
       "      <th>Level/Rank</th>\n",
       "      <th>DEF</th>\n",
       "      <th>Effect type</th>\n",
       "      <th>Archseries</th>\n",
       "      <th>ATK</th>\n",
       "      <th>TCG status</th>\n",
       "      <th>OCG status</th>\n",
       "      <th>TCG Speed Duel status</th>\n",
       "      <th>Artwork</th>\n",
       "      <th>Page name</th>\n",
       "      <th>Page URL</th>\n",
       "      <th>Modification date</th>\n",
       "      <th>Character</th>\n",
       "    </tr>\n",
       "  </thead>\n",
       "  <tbody>\n",
       "    <tr>\n",
       "      <th>0</th>\n",
       "      <td>7 Completed</td>\n",
       "      <td>86198326</td>\n",
       "      <td>Spell Card</td>\n",
       "      <td>Equip Spell Card</td>\n",
       "      <td>NaN</td>\n",
       "      <td>NaN</td>\n",
       "      <td>NaN</td>\n",
       "      <td>NaN</td>\n",
       "      <td>NaN</td>\n",
       "      <td>NaN</td>\n",
       "      <td>(Condition, Continuous-like Effect)</td>\n",
       "      <td>NaN</td>\n",
       "      <td>NaN</td>\n",
       "      <td>Unlimited</td>\n",
       "      <td>Unlimited</td>\n",
       "      <td>Unlimited</td>\n",
       "      <td>NaN</td>\n",
       "      <td>7 Completed</td>\n",
       "      <td>https://yugipedia.com/wiki/7_Completed</td>\n",
       "      <td>2021-10-31 17:18:50</td>\n",
       "      <td>NaN</td>\n",
       "    </tr>\n",
       "    <tr>\n",
       "      <th>1</th>\n",
       "      <td>Absorbing Jar</td>\n",
       "      <td>03900605</td>\n",
       "      <td>Monster Card</td>\n",
       "      <td>NaN</td>\n",
       "      <td>Effect Monster</td>\n",
       "      <td>(Flip monster,)</td>\n",
       "      <td>EARTH</td>\n",
       "      <td>Rock</td>\n",
       "      <td>3</td>\n",
       "      <td>500</td>\n",
       "      <td>(Flip effect,)</td>\n",
       "      <td>(Jar,)</td>\n",
       "      <td>600</td>\n",
       "      <td>Unlimited</td>\n",
       "      <td>Unlimited</td>\n",
       "      <td>Unlimited</td>\n",
       "      <td>NaN</td>\n",
       "      <td>Absorbing Jar</td>\n",
       "      <td>https://yugipedia.com/wiki/Absorbing_Jar</td>\n",
       "      <td>2021-11-06 15:22:32</td>\n",
       "      <td>NaN</td>\n",
       "    </tr>\n",
       "    <tr>\n",
       "      <th>2</th>\n",
       "      <td>Acid Trap Hole</td>\n",
       "      <td>41356845</td>\n",
       "      <td>Trap Card</td>\n",
       "      <td>Normal Trap Card</td>\n",
       "      <td>NaN</td>\n",
       "      <td>NaN</td>\n",
       "      <td>NaN</td>\n",
       "      <td>NaN</td>\n",
       "      <td>NaN</td>\n",
       "      <td>NaN</td>\n",
       "      <td>(Effect,)</td>\n",
       "      <td>(Trap Hole (archetype),)</td>\n",
       "      <td>NaN</td>\n",
       "      <td>Unlimited</td>\n",
       "      <td>Unlimited</td>\n",
       "      <td>Unlimited</td>\n",
       "      <td>(Alternate,)</td>\n",
       "      <td>Acid Trap Hole</td>\n",
       "      <td>https://yugipedia.com/wiki/Acid_Trap_Hole</td>\n",
       "      <td>2023-01-20 13:48:24</td>\n",
       "      <td>NaN</td>\n",
       "    </tr>\n",
       "    <tr>\n",
       "      <th>3</th>\n",
       "      <td>Adhesion Trap Hole</td>\n",
       "      <td>62325062</td>\n",
       "      <td>Trap Card</td>\n",
       "      <td>Normal Trap Card</td>\n",
       "      <td>NaN</td>\n",
       "      <td>NaN</td>\n",
       "      <td>NaN</td>\n",
       "      <td>NaN</td>\n",
       "      <td>NaN</td>\n",
       "      <td>NaN</td>\n",
       "      <td>(Activation condition, Effect)</td>\n",
       "      <td>(Trap Hole (archetype),)</td>\n",
       "      <td>NaN</td>\n",
       "      <td>Unlimited</td>\n",
       "      <td>Unlimited</td>\n",
       "      <td>Unlimited</td>\n",
       "      <td>NaN</td>\n",
       "      <td>Adhesion Trap Hole</td>\n",
       "      <td>https://yugipedia.com/wiki/Adhesion_Trap_Hole</td>\n",
       "      <td>2022-08-27 15:04:42</td>\n",
       "      <td>NaN</td>\n",
       "    </tr>\n",
       "    <tr>\n",
       "      <th>4</th>\n",
       "      <td>Advanced Dark</td>\n",
       "      <td>12644061</td>\n",
       "      <td>Spell Card</td>\n",
       "      <td>Field Spell Card</td>\n",
       "      <td>NaN</td>\n",
       "      <td>NaN</td>\n",
       "      <td>NaN</td>\n",
       "      <td>NaN</td>\n",
       "      <td>NaN</td>\n",
       "      <td>NaN</td>\n",
       "      <td>(Continuous-like Effect, Trigger Effect)</td>\n",
       "      <td>NaN</td>\n",
       "      <td>NaN</td>\n",
       "      <td>Unlimited</td>\n",
       "      <td>Unlimited</td>\n",
       "      <td>Unlimited</td>\n",
       "      <td>NaN</td>\n",
       "      <td>Advanced Dark</td>\n",
       "      <td>https://yugipedia.com/wiki/Advanced_Dark</td>\n",
       "      <td>2022-12-01 14:56:47</td>\n",
       "      <td>NaN</td>\n",
       "    </tr>\n",
       "    <tr>\n",
       "      <th>...</th>\n",
       "      <td>...</td>\n",
       "      <td>...</td>\n",
       "      <td>...</td>\n",
       "      <td>...</td>\n",
       "      <td>...</td>\n",
       "      <td>...</td>\n",
       "      <td>...</td>\n",
       "      <td>...</td>\n",
       "      <td>...</td>\n",
       "      <td>...</td>\n",
       "      <td>...</td>\n",
       "      <td>...</td>\n",
       "      <td>...</td>\n",
       "      <td>...</td>\n",
       "      <td>...</td>\n",
       "      <td>...</td>\n",
       "      <td>...</td>\n",
       "      <td>...</td>\n",
       "      <td>...</td>\n",
       "      <td>...</td>\n",
       "      <td>...</td>\n",
       "    </tr>\n",
       "    <tr>\n",
       "      <th>992</th>\n",
       "      <td>Union Combination</td>\n",
       "      <td>NaN</td>\n",
       "      <td>Skill Card</td>\n",
       "      <td>NaN</td>\n",
       "      <td>NaN</td>\n",
       "      <td>NaN</td>\n",
       "      <td>NaN</td>\n",
       "      <td>NaN</td>\n",
       "      <td>NaN</td>\n",
       "      <td>NaN</td>\n",
       "      <td>NaN</td>\n",
       "      <td>NaN</td>\n",
       "      <td>NaN</td>\n",
       "      <td>Illegal</td>\n",
       "      <td>NaN</td>\n",
       "      <td>Legal</td>\n",
       "      <td>NaN</td>\n",
       "      <td>Union Combination</td>\n",
       "      <td>https://yugipedia.com/wiki/Union_Combination</td>\n",
       "      <td>2023-02-09 12:07:11</td>\n",
       "      <td>Seto Kaiba</td>\n",
       "    </tr>\n",
       "    <tr>\n",
       "      <th>993</th>\n",
       "      <td>Viral Infection</td>\n",
       "      <td>NaN</td>\n",
       "      <td>Skill Card</td>\n",
       "      <td>NaN</td>\n",
       "      <td>NaN</td>\n",
       "      <td>NaN</td>\n",
       "      <td>NaN</td>\n",
       "      <td>NaN</td>\n",
       "      <td>NaN</td>\n",
       "      <td>NaN</td>\n",
       "      <td>NaN</td>\n",
       "      <td>NaN</td>\n",
       "      <td>NaN</td>\n",
       "      <td>Illegal</td>\n",
       "      <td>NaN</td>\n",
       "      <td>Legal</td>\n",
       "      <td>NaN</td>\n",
       "      <td>Viral Infection</td>\n",
       "      <td>https://yugipedia.com/wiki/Viral_Infection</td>\n",
       "      <td>2020-05-29 17:27:57</td>\n",
       "      <td>Seto Kaiba</td>\n",
       "    </tr>\n",
       "    <tr>\n",
       "      <th>994</th>\n",
       "      <td>Volcanic Cannon</td>\n",
       "      <td>NaN</td>\n",
       "      <td>Skill Card</td>\n",
       "      <td>NaN</td>\n",
       "      <td>NaN</td>\n",
       "      <td>NaN</td>\n",
       "      <td>NaN</td>\n",
       "      <td>NaN</td>\n",
       "      <td>NaN</td>\n",
       "      <td>NaN</td>\n",
       "      <td>NaN</td>\n",
       "      <td>(Volcanic,)</td>\n",
       "      <td>NaN</td>\n",
       "      <td>Illegal</td>\n",
       "      <td>NaN</td>\n",
       "      <td>Legal</td>\n",
       "      <td>NaN</td>\n",
       "      <td>Volcanic Cannon</td>\n",
       "      <td>https://yugipedia.com/wiki/Volcanic_Cannon</td>\n",
       "      <td>2022-09-01 17:16:50</td>\n",
       "      <td>Axel Brodie</td>\n",
       "    </tr>\n",
       "    <tr>\n",
       "      <th>995</th>\n",
       "      <td>The World's Greatest Fisherman</td>\n",
       "      <td>NaN</td>\n",
       "      <td>Skill Card</td>\n",
       "      <td>NaN</td>\n",
       "      <td>NaN</td>\n",
       "      <td>NaN</td>\n",
       "      <td>NaN</td>\n",
       "      <td>NaN</td>\n",
       "      <td>NaN</td>\n",
       "      <td>NaN</td>\n",
       "      <td>NaN</td>\n",
       "      <td>NaN</td>\n",
       "      <td>NaN</td>\n",
       "      <td>Illegal</td>\n",
       "      <td>NaN</td>\n",
       "      <td>Legal</td>\n",
       "      <td>NaN</td>\n",
       "      <td>The World's Greatest Fisherman</td>\n",
       "      <td>https://yugipedia.com/wiki/The_World%27s_Great...</td>\n",
       "      <td>2020-05-29 17:49:58</td>\n",
       "      <td>Mako Tsunami</td>\n",
       "    </tr>\n",
       "    <tr>\n",
       "      <th>996</th>\n",
       "      <td>Zombie Master</td>\n",
       "      <td>NaN</td>\n",
       "      <td>Skill Card</td>\n",
       "      <td>NaN</td>\n",
       "      <td>NaN</td>\n",
       "      <td>NaN</td>\n",
       "      <td>NaN</td>\n",
       "      <td>NaN</td>\n",
       "      <td>NaN</td>\n",
       "      <td>NaN</td>\n",
       "      <td>NaN</td>\n",
       "      <td>NaN</td>\n",
       "      <td>NaN</td>\n",
       "      <td>Illegal</td>\n",
       "      <td>NaN</td>\n",
       "      <td>Legal</td>\n",
       "      <td>NaN</td>\n",
       "      <td>Zombie Master (Skill Card)</td>\n",
       "      <td>https://yugipedia.com/wiki/Zombie_Master_(Skil...</td>\n",
       "      <td>2022-12-27 15:38:32</td>\n",
       "      <td>Bonz</td>\n",
       "    </tr>\n",
       "  </tbody>\n",
       "</table>\n",
       "<p>997 rows × 21 columns</p>\n",
       "</div>"
      ],
      "text/plain": [
       "                               Name  Password     Card type          Property  \\\n",
       "0                       7 Completed  86198326    Spell Card  Equip Spell Card   \n",
       "1                     Absorbing Jar  03900605  Monster Card               NaN   \n",
       "2                    Acid Trap Hole  41356845     Trap Card  Normal Trap Card   \n",
       "3                Adhesion Trap Hole  62325062     Trap Card  Normal Trap Card   \n",
       "4                     Advanced Dark  12644061    Spell Card  Field Spell Card   \n",
       "..                              ...       ...           ...               ...   \n",
       "992               Union Combination       NaN    Skill Card               NaN   \n",
       "993                 Viral Infection       NaN    Skill Card               NaN   \n",
       "994                 Volcanic Cannon       NaN    Skill Card               NaN   \n",
       "995  The World's Greatest Fisherman       NaN    Skill Card               NaN   \n",
       "996                   Zombie Master       NaN    Skill Card               NaN   \n",
       "\n",
       "       Primary type   Secondary type Attribute Monster type Level/Rank  DEF  \\\n",
       "0               NaN              NaN       NaN          NaN        NaN  NaN   \n",
       "1    Effect Monster  (Flip monster,)     EARTH         Rock          3  500   \n",
       "2               NaN              NaN       NaN          NaN        NaN  NaN   \n",
       "3               NaN              NaN       NaN          NaN        NaN  NaN   \n",
       "4               NaN              NaN       NaN          NaN        NaN  NaN   \n",
       "..              ...              ...       ...          ...        ...  ...   \n",
       "992             NaN              NaN       NaN          NaN        NaN  NaN   \n",
       "993             NaN              NaN       NaN          NaN        NaN  NaN   \n",
       "994             NaN              NaN       NaN          NaN        NaN  NaN   \n",
       "995             NaN              NaN       NaN          NaN        NaN  NaN   \n",
       "996             NaN              NaN       NaN          NaN        NaN  NaN   \n",
       "\n",
       "                                  Effect type                Archseries  ATK  \\\n",
       "0         (Condition, Continuous-like Effect)                       NaN  NaN   \n",
       "1                              (Flip effect,)                    (Jar,)  600   \n",
       "2                                   (Effect,)  (Trap Hole (archetype),)  NaN   \n",
       "3              (Activation condition, Effect)  (Trap Hole (archetype),)  NaN   \n",
       "4    (Continuous-like Effect, Trigger Effect)                       NaN  NaN   \n",
       "..                                        ...                       ...  ...   \n",
       "992                                       NaN                       NaN  NaN   \n",
       "993                                       NaN                       NaN  NaN   \n",
       "994                                       NaN               (Volcanic,)  NaN   \n",
       "995                                       NaN                       NaN  NaN   \n",
       "996                                       NaN                       NaN  NaN   \n",
       "\n",
       "    TCG status OCG status TCG Speed Duel status       Artwork  \\\n",
       "0    Unlimited  Unlimited             Unlimited           NaN   \n",
       "1    Unlimited  Unlimited             Unlimited           NaN   \n",
       "2    Unlimited  Unlimited             Unlimited  (Alternate,)   \n",
       "3    Unlimited  Unlimited             Unlimited           NaN   \n",
       "4    Unlimited  Unlimited             Unlimited           NaN   \n",
       "..         ...        ...                   ...           ...   \n",
       "992    Illegal        NaN                 Legal           NaN   \n",
       "993    Illegal        NaN                 Legal           NaN   \n",
       "994    Illegal        NaN                 Legal           NaN   \n",
       "995    Illegal        NaN                 Legal           NaN   \n",
       "996    Illegal        NaN                 Legal           NaN   \n",
       "\n",
       "                          Page name  \\\n",
       "0                       7 Completed   \n",
       "1                     Absorbing Jar   \n",
       "2                    Acid Trap Hole   \n",
       "3                Adhesion Trap Hole   \n",
       "4                     Advanced Dark   \n",
       "..                              ...   \n",
       "992               Union Combination   \n",
       "993                 Viral Infection   \n",
       "994                 Volcanic Cannon   \n",
       "995  The World's Greatest Fisherman   \n",
       "996      Zombie Master (Skill Card)   \n",
       "\n",
       "                                              Page URL   Modification date  \\\n",
       "0               https://yugipedia.com/wiki/7_Completed 2021-10-31 17:18:50   \n",
       "1             https://yugipedia.com/wiki/Absorbing_Jar 2021-11-06 15:22:32   \n",
       "2            https://yugipedia.com/wiki/Acid_Trap_Hole 2023-01-20 13:48:24   \n",
       "3        https://yugipedia.com/wiki/Adhesion_Trap_Hole 2022-08-27 15:04:42   \n",
       "4             https://yugipedia.com/wiki/Advanced_Dark 2022-12-01 14:56:47   \n",
       "..                                                 ...                 ...   \n",
       "992       https://yugipedia.com/wiki/Union_Combination 2023-02-09 12:07:11   \n",
       "993         https://yugipedia.com/wiki/Viral_Infection 2020-05-29 17:27:57   \n",
       "994         https://yugipedia.com/wiki/Volcanic_Cannon 2022-09-01 17:16:50   \n",
       "995  https://yugipedia.com/wiki/The_World%27s_Great... 2020-05-29 17:49:58   \n",
       "996  https://yugipedia.com/wiki/Zombie_Master_(Skil... 2022-12-27 15:38:32   \n",
       "\n",
       "        Character  \n",
       "0             NaN  \n",
       "1             NaN  \n",
       "2             NaN  \n",
       "3             NaN  \n",
       "4             NaN  \n",
       "..            ...  \n",
       "992    Seto Kaiba  \n",
       "993    Seto Kaiba  \n",
       "994   Axel Brodie  \n",
       "995  Mako Tsunami  \n",
       "996          Bonz  \n",
       "\n",
       "[997 rows x 21 columns]"
      ]
     },
     "execution_count": 14,
     "metadata": {},
     "output_type": "execute_result"
    }
   ],
   "source": [
    "full_df"
   ]
  },
  {
   "cell_type": "markdown",
   "id": "4aab5adb-de31-4735-9e3d-4aa976e11ece",
   "metadata": {},
   "source": [
    "## Property"
   ]
  },
  {
   "cell_type": "code",
   "execution_count": 6,
   "id": "22f1dd60-6967-4139-8f6d-8ddd122508b0",
   "metadata": {},
   "outputs": [
    {
     "data": {
      "text/plain": [
       "3"
      ]
     },
     "execution_count": 6,
     "metadata": {},
     "output_type": "execute_result"
    }
   ],
   "source": [
    "full_df['Property'].nunique()"
   ]
  },
  {
   "cell_type": "code",
   "execution_count": 5,
   "id": "3008e3c7-b0a9-46af-8ccf-e93cada9e07a",
   "metadata": {},
   "outputs": [
    {
     "data": {
      "text/plain": [
       "Field Spell Card         10\n",
       "Continuous Spell Card     2\n",
       "Continuous Trap Card      1\n",
       "Name: Property, dtype: int64"
      ]
     },
     "execution_count": 5,
     "metadata": {},
     "output_type": "execute_result"
    }
   ],
   "source": [
    "full_df['Property'].value_counts()"
   ]
  },
  {
   "cell_type": "markdown",
   "id": "554753ed-43a9-426f-aafa-3e9a56b6ecde",
   "metadata": {},
   "source": [
    "## Archseries"
   ]
  },
  {
   "cell_type": "code",
   "execution_count": 9,
   "id": "3c4ec027-4f63-4b5d-aafe-f1b414a10fd8",
   "metadata": {},
   "outputs": [
    {
     "data": {
      "text/plain": [
       "16"
      ]
     },
     "execution_count": 9,
     "metadata": {},
     "output_type": "execute_result"
    }
   ],
   "source": [
    "full_df['Archseries'].explode().nunique()"
   ]
  },
  {
   "cell_type": "code",
   "execution_count": 11,
   "id": "d4c79469-cf13-46a2-a30d-cbc24aa66a72",
   "metadata": {},
   "outputs": [
    {
     "data": {
      "text/plain": [
       "Fusion (archetype)               3\n",
       "Crystal                          2\n",
       "Cyber                            2\n",
       "HERO                             2\n",
       "Toon                             2\n",
       "roid                             2\n",
       "Guardian                         1\n",
       "Blaze Accelerator (archetype)    1\n",
       "Cyberdark                        1\n",
       "Duel winner                      1\n",
       "Harpie                           1\n",
       "Gravekeeper's                    1\n",
       "Ojama                            1\n",
       "Machine Angel                    1\n",
       "Signature move                   1\n",
       "Volcanic                         1\n",
       "Name: Archseries, dtype: int64"
      ]
     },
     "execution_count": 11,
     "metadata": {},
     "output_type": "execute_result"
    }
   ],
   "source": [
    "full_df['Archseries'].explode().value_counts()"
   ]
  },
  {
   "cell_type": "markdown",
   "id": "edd6956f-bcb6-4883-8360-3affe25eb313",
   "metadata": {},
   "source": [
    "## TCG Speed Duel status"
   ]
  },
  {
   "cell_type": "code",
   "execution_count": 13,
   "id": "ed36d03b-bd56-4d8d-8f0f-2fc473ea1e21",
   "metadata": {},
   "outputs": [
    {
     "data": {
      "text/plain": [
       "1"
      ]
     },
     "execution_count": 13,
     "metadata": {},
     "output_type": "execute_result"
    }
   ],
   "source": [
    "full_df['TCG Speed Duel status'].nunique()"
   ]
  },
  {
   "cell_type": "code",
   "execution_count": 12,
   "id": "2d30f094-b764-4912-a4d4-0cc23d12652e",
   "metadata": {},
   "outputs": [
    {
     "data": {
      "text/plain": [
       "Legal    103\n",
       "Name: TCG Speed Duel status, dtype: int64"
      ]
     },
     "execution_count": 12,
     "metadata": {},
     "output_type": "execute_result"
    }
   ],
   "source": [
    "full_df['TCG Speed Duel status'].value_counts()"
   ]
  },
  {
   "cell_type": "markdown",
   "id": "45aa508f-2940-4f04-8c4a-7dd7b28b84b3",
   "metadata": {},
   "source": [
    "## TCG status"
   ]
  },
  {
   "cell_type": "code",
   "execution_count": 14,
   "id": "308b2179-c671-4bbe-97e8-14401427a9a5",
   "metadata": {},
   "outputs": [
    {
     "data": {
      "text/plain": [
       "1"
      ]
     },
     "execution_count": 14,
     "metadata": {},
     "output_type": "execute_result"
    }
   ],
   "source": [
    "full_df['TCG status'].nunique()"
   ]
  },
  {
   "cell_type": "code",
   "execution_count": 15,
   "id": "7c6394e4-b284-4676-a302-0cfb10169682",
   "metadata": {},
   "outputs": [
    {
     "data": {
      "text/plain": [
       "Illegal    103\n",
       "Name: TCG status, dtype: int64"
      ]
     },
     "execution_count": 15,
     "metadata": {},
     "output_type": "execute_result"
    }
   ],
   "source": [
    "full_df['TCG status'].value_counts()"
   ]
  },
  {
   "cell_type": "markdown",
   "id": "2d62bfc4-0967-4ebe-b39a-172eb34e4968",
   "metadata": {},
   "source": [
    "## Character"
   ]
  },
  {
   "cell_type": "code",
   "execution_count": 7,
   "id": "ce5700d6-335d-4c89-89e5-2144e16e6316",
   "metadata": {},
   "outputs": [
    {
     "data": {
      "text/plain": [
       "36"
      ]
     },
     "execution_count": 7,
     "metadata": {},
     "output_type": "execute_result"
    }
   ],
   "source": [
    "skill_df['Character'].nunique()"
   ]
  },
  {
   "cell_type": "code",
   "execution_count": 8,
   "id": "8a9be7a8-acb8-4770-aaa4-353883c1169e",
   "metadata": {},
   "outputs": [
    {
     "data": {
      "text/plain": [
       "Yami Yugi              10\n",
       "Seto Kaiba              6\n",
       "Joey Wheeler            5\n",
       "Bonz                    5\n",
       "Maximillion Pegasus     5\n",
       "Ishizu Ishtar           5\n",
       "Jaden Yuki              4\n",
       "Rex Raptor              4\n",
       "Syrus Truesdale         4\n",
       "Bandit Keith            4\n",
       "Mai Valentine           4\n",
       "Mako Tsunami            4\n",
       "Paradox Brothers        3\n",
       "Bastion Misawa          3\n",
       "Weevil Underwood        3\n",
       "Yami Marik              3\n",
       "Aster Phoenix           2\n",
       "Espa Roba               2\n",
       "Yami Bakura             2\n",
       "Vellian Crowler         2\n",
       "Odion                   2\n",
       "Chazz Princeton         2\n",
       "Zane Truesdale          2\n",
       "Alexis Rhodes           2\n",
       "Jesse Anderson          2\n",
       "Axel Brodie             2\n",
       "Christine               1\n",
       "David                   1\n",
       "Tyranno Hassleberry     1\n",
       "Yubel                   1\n",
       "Chumley Huffington      1\n",
       "Andrew                  1\n",
       "Arkana                  1\n",
       "Téa Gardner             1\n",
       "Emma (Duel Links)       1\n",
       "Lumis and Umbra         1\n",
       "Name: Character, dtype: int64"
      ]
     },
     "execution_count": 8,
     "metadata": {},
     "output_type": "execute_result"
    }
   ],
   "source": [
    "skill_df['Character'].value_counts()"
   ]
  },
  {
   "cell_type": "code",
   "execution_count": 4,
   "id": "20534761-da7b-478a-a7cb-b8cdd434f77e",
   "metadata": {},
   "outputs": [
    {
     "data": {
      "text/markdown": [
       "<div align='right'>\n",
       "    Execution completed 11/02/2023 17:49 UTC\n",
       "</div>"
      ],
      "text/plain": [
       "<IPython.core.display.Markdown object>"
      ]
     },
     "execution_count": 4,
     "metadata": {},
     "output_type": "execute_result"
    }
   ],
   "source": [
    "footer()"
   ]
  },
  {
   "cell_type": "markdown",
   "id": "44415c04-18b0-4d1e-ac12-ec8e30bd08d8",
   "metadata": {
    "papermill": {
     "duration": null,
     "end_time": null,
     "exception": null,
     "start_time": null,
     "status": "pending"
    },
    "tags": []
   },
   "source": [
    "## HTML export"
   ]
  },
  {
   "cell_type": "code",
   "execution_count": null,
   "id": "00f871b4-5b9c-4092-b774-54aa01af999f",
   "metadata": {
    "papermill": {
     "duration": null,
     "end_time": null,
     "exception": null,
     "start_time": null,
     "status": "pending"
    },
    "tags": []
   },
   "outputs": [],
   "source": [
    "# Save notebook on disck before generating HTML report\n",
    "save_notebook()"
   ]
  },
  {
   "cell_type": "code",
   "execution_count": null,
   "id": "5ab72228-2db0-461d-8964-2ec516b619a7",
   "metadata": {
    "papermill": {
     "duration": null,
     "end_time": null,
     "exception": null,
     "start_time": null,
     "status": "pending"
    },
    "tags": []
   },
   "outputs": [],
   "source": [
    "! jupyter nbconvert Speed.ipynb --output-dir='../' --to=HTML --TagRemovePreprocessor.enabled=True --TagRemovePreprocessor.remove_cell_tags='exclude' --TemplateExporter.exclude_input=True --TemplateExporter.exclude_input_prompt=True --TemplateExporter.exclude_output_prompt=True"
   ]
  },
  {
   "cell_type": "markdown",
   "id": "167d76c1-a2fb-4635-9864-e7f515f7d059",
   "metadata": {
    "papermill": {
     "duration": null,
     "end_time": null,
     "exception": null,
     "start_time": null,
     "status": "pending"
    },
    "tags": [
     "exclude"
    ]
   },
   "source": [
    "## Git"
   ]
  },
  {
   "cell_type": "code",
   "execution_count": null,
   "id": "5861c149-66bb-4347-80ab-7483d9313dce",
   "metadata": {
    "papermill": {
     "duration": null,
     "end_time": null,
     "exception": null,
     "start_time": null,
     "status": "pending"
    },
    "tags": [
     "exclude"
    ]
   },
   "outputs": [],
   "source": [
    "! git add \"../*[Ss]peed*\""
   ]
  },
  {
   "cell_type": "code",
   "execution_count": null,
   "id": "dc0d112d-7937-4eba-a788-e8a134f8d5cf",
   "metadata": {
    "papermill": {
     "duration": null,
     "end_time": null,
     "exception": null,
     "start_time": null,
     "status": "pending"
    },
    "tags": [
     "exclude"
    ]
   },
   "outputs": [],
   "source": [
    "! git commit -m {\"'Speed duel update-\" + timestamp.isoformat() + \"'\"}"
   ]
  }
 ],
 "metadata": {
  "kernelspec": {
   "display_name": "Python 3 (ipykernel)",
   "language": "python",
   "name": "python3"
  },
  "language_info": {
   "codemirror_mode": {
    "name": "ipython",
    "version": 3
   },
   "file_extension": ".py",
   "mimetype": "text/x-python",
   "name": "python",
   "nbconvert_exporter": "python",
   "pygments_lexer": "ipython3",
   "version": "3.10.8"
  }
 },
 "nbformat": 4,
 "nbformat_minor": 5
}
