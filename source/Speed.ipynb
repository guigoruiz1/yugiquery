{
 "cells": [
  {
   "cell_type": "code",
   "execution_count": 1,
   "id": "db3fea09-dd17-4d4f-9751-4db442584d19",
   "metadata": {
    "execution": {
     "iopub.execute_input": "2023-02-16T17:52:34.629986Z",
     "iopub.status.busy": "2023-02-16T17:52:34.629272Z",
     "iopub.status.idle": "2023-02-16T17:52:47.433204Z",
     "shell.execute_reply": "2023-02-16T17:52:47.431933Z"
    },
    "papermill": {
     "duration": 12.817459,
     "end_time": "2023-02-16T17:52:47.435723",
     "exception": false,
     "start_time": "2023-02-16T17:52:34.618264",
     "status": "completed"
    },
    "tags": []
   },
   "outputs": [
    {
     "data": {
      "text/markdown": [
       "<div align='center'>\n",
       "    <br>\n",
       "    <!-- Pre Style needed to fix HTML formatting -->\n",
       "    <pre style=\"line-height: var(--jp-code-line-height); font-family: var(--jp-code-font-family)\">\n",
       "    ██    ██ ██    ██  ██████  ██  ██████  ██    ██ ███████ ██████  ██    ██ \n",
       "     ██  ██  ██    ██ ██       ██ ██    ██ ██    ██ ██      ██   ██  ██  ██  \n",
       "      ████   ██    ██ ██   ███ ██ ██    ██ ██    ██ █████   ██████    ████   \n",
       "       ██    ██    ██ ██    ██ ██ ██ ▄▄ ██ ██    ██ ██      ██   ██    ██    \n",
       "       ██     ██████   ██████  ██  ██████   ██████  ███████ ██   ██    ██    \n",
       "                                      ▀▀                                     \n",
       "    </pre>\n",
       "</div>\n",
       "<div align='right'>\n",
       "    Speed Duel - Execution started 16/02/2023 17:52 UTC <br>\n",
       "    By <b>Guilherme Ruiz</b>\n",
       "</div>"
      ],
      "text/plain": [
       "<IPython.core.display.Markdown object>"
      ]
     },
     "execution_count": 1,
     "metadata": {},
     "output_type": "execute_result"
    }
   ],
   "source": [
    "from yugiquery import *\n",
    "header('Speed Duel')"
   ]
  },
  {
   "cell_type": "markdown",
   "id": "f26c89c2-c447-43a2-997b-603775191de3",
   "metadata": {
    "papermill": {
     "duration": 0.031829,
     "end_time": "2023-02-16T17:52:47.477909",
     "exception": false,
     "start_time": "2023-02-16T17:52:47.446080",
     "status": "completed"
    },
    "tags": []
   },
   "source": [
    "---"
   ]
  },
  {
   "cell_type": "markdown",
   "id": "952801c1-2126-4df2-ae95-e3f56fc801c1",
   "metadata": {
    "papermill": {
     "duration": 0.009045,
     "end_time": "2023-02-16T17:52:47.496905",
     "exception": false,
     "start_time": "2023-02-16T17:52:47.487860",
     "status": "completed"
    },
    "tags": []
   },
   "source": [
    "# Data aquisition"
   ]
  },
  {
   "cell_type": "markdown",
   "id": "99894266-9cec-4db3-bfe7-37572eed8dc6",
   "metadata": {
    "papermill": {
     "duration": 0.009271,
     "end_time": "2023-02-16T17:52:47.516098",
     "exception": false,
     "start_time": "2023-02-16T17:52:47.506827",
     "status": "completed"
    },
    "tags": []
   },
   "source": [
    "## Fetch online data"
   ]
  },
  {
   "cell_type": "code",
   "execution_count": 2,
   "id": "10acd11f-8a8b-4650-a6aa-2b509d8ba596",
   "metadata": {
    "execution": {
     "iopub.execute_input": "2023-02-16T17:52:47.538446Z",
     "iopub.status.busy": "2023-02-16T17:52:47.537092Z",
     "iopub.status.idle": "2023-02-16T17:52:47.542866Z",
     "shell.execute_reply": "2023-02-16T17:52:47.541914Z"
    },
    "papermill": {
     "duration": 0.019686,
     "end_time": "2023-02-16T17:52:47.545547",
     "exception": false,
     "start_time": "2023-02-16T17:52:47.525861",
     "status": "completed"
    },
    "tags": []
   },
   "outputs": [],
   "source": [
    "# Timestamp\n",
    "timestamp = pd.Timestamp.now()"
   ]
  },
  {
   "cell_type": "code",
   "execution_count": 3,
   "id": "4cf61b44-a485-4af9-9465-b4eb2431a730",
   "metadata": {
    "execution": {
     "iopub.execute_input": "2023-02-16T17:52:47.569228Z",
     "iopub.status.busy": "2023-02-16T17:52:47.568479Z",
     "iopub.status.idle": "2023-02-16T17:52:56.436999Z",
     "shell.execute_reply": "2023-02-16T17:52:56.436103Z"
    },
    "papermill": {
     "duration": 8.883321,
     "end_time": "2023-02-16T17:52:56.439459",
     "exception": false,
     "start_time": "2023-02-16T17:52:47.556138",
     "status": "completed"
    },
    "tags": []
   },
   "outputs": [
    {
     "name": "stdout",
     "output_type": "stream",
     "text": [
      "Downloading skill cards\n"
     ]
    },
    {
     "name": "stdout",
     "output_type": "stream",
     "text": [
      "103 results\n",
      "\n",
      "Downloading Speed duel cards\n"
     ]
    },
    {
     "name": "stdout",
     "output_type": "stream",
     "text": [
      "893 results\n",
      "\n"
     ]
    }
   ],
   "source": [
    "# Fetch skill cards\n",
    "skill_df = fetch_skill()\n",
    "\n",
    "# Fetch deck cards\n",
    "speed_df = fetch_speed()"
   ]
  },
  {
   "cell_type": "markdown",
   "id": "5269bc32-88fc-4026-853b-a7b4015dd5c1",
   "metadata": {
    "papermill": {
     "duration": 0.072486,
     "end_time": "2023-02-16T17:52:56.526003",
     "exception": false,
     "start_time": "2023-02-16T17:52:56.453517",
     "status": "completed"
    },
    "tags": []
   },
   "source": [
    "## Merge data"
   ]
  },
  {
   "cell_type": "code",
   "execution_count": 4,
   "id": "13ccdd0c-f189-44f5-ab8b-c861098fd8ab",
   "metadata": {
    "execution": {
     "iopub.execute_input": "2023-02-16T17:52:56.586431Z",
     "iopub.status.busy": "2023-02-16T17:52:56.585507Z",
     "iopub.status.idle": "2023-02-16T17:52:56.606672Z",
     "shell.execute_reply": "2023-02-16T17:52:56.605653Z"
    },
    "papermill": {
     "duration": 0.072818,
     "end_time": "2023-02-16T17:52:56.609130",
     "exception": false,
     "start_time": "2023-02-16T17:52:56.536312",
     "status": "completed"
    },
    "tags": []
   },
   "outputs": [
    {
     "name": "stdout",
     "output_type": "stream",
     "text": [
      "Data merged\n"
     ]
    }
   ],
   "source": [
    "full_df = pd.concat([speed_df,skill_df], ignore_index=True, axis=0).sort_values('Name').reset_index(drop=True)\n",
    "print('Data merged')"
   ]
  },
  {
   "cell_type": "markdown",
   "id": "75bdae54-3ee6-4a50-abd1-a20b3397a24d",
   "metadata": {
    "papermill": {
     "duration": 0.400776,
     "end_time": "2023-02-16T17:52:57.094222",
     "exception": false,
     "start_time": "2023-02-16T17:52:56.693446",
     "status": "completed"
    },
    "tags": []
   },
   "source": [
    "## Save data"
   ]
  },
  {
   "cell_type": "code",
   "execution_count": 5,
   "id": "7508d7a5-8398-4596-9079-64cf9ebd6e77",
   "metadata": {
    "execution": {
     "iopub.execute_input": "2023-02-16T17:52:57.233926Z",
     "iopub.status.busy": "2023-02-16T17:52:57.233364Z",
     "iopub.status.idle": "2023-02-16T17:52:57.566280Z",
     "shell.execute_reply": "2023-02-16T17:52:57.565350Z"
    },
    "papermill": {
     "duration": 0.390355,
     "end_time": "2023-02-16T17:52:57.569027",
     "exception": false,
     "start_time": "2023-02-16T17:52:57.178672",
     "status": "completed"
    },
    "tags": []
   },
   "outputs": [
    {
     "name": "stdout",
     "output_type": "stream",
     "text": [
      "Data saved\n"
     ]
    }
   ],
   "source": [
    "full_df.to_csv(f'../data/all_speed_{timestamp.isoformat(timespec=\"minutes\")}.csv', index=False)\n",
    "print('Data saved')"
   ]
  },
  {
   "cell_type": "markdown",
   "id": "44e08025-ef2e-47d1-a77d-942a98c638eb",
   "metadata": {
    "papermill": {
     "duration": 0.014161,
     "end_time": "2023-02-16T17:52:57.593409",
     "exception": false,
     "start_time": "2023-02-16T17:52:57.579248",
     "status": "completed"
    },
    "tags": []
   },
   "source": [
    "# Check changes"
   ]
  },
  {
   "cell_type": "markdown",
   "id": "b4e572a4-6b11-46e8-96a8-dd7b88ff7ad4",
   "metadata": {
    "papermill": {
     "duration": 0.010583,
     "end_time": "2023-02-16T17:52:57.615481",
     "exception": false,
     "start_time": "2023-02-16T17:52:57.604898",
     "status": "completed"
    },
    "tags": []
   },
   "source": [
    "## Load previous data"
   ]
  },
  {
   "cell_type": "code",
   "execution_count": 6,
   "id": "fb7dc6f8",
   "metadata": {
    "execution": {
     "iopub.execute_input": "2023-02-16T17:52:57.637564Z",
     "iopub.status.busy": "2023-02-16T17:52:57.636876Z",
     "iopub.status.idle": "2023-02-16T17:52:57.647211Z",
     "shell.execute_reply": "2023-02-16T17:52:57.646299Z"
    },
    "papermill": {
     "duration": 0.024778,
     "end_time": "2023-02-16T17:52:57.650382",
     "exception": false,
     "start_time": "2023-02-16T17:52:57.625604",
     "status": "completed"
    },
    "tags": []
   },
   "outputs": [
    {
     "name": "stdout",
     "output_type": "stream",
     "text": [
      "No older files\n"
     ]
    }
   ],
   "source": [
    "# Get list of files\n",
    "files_list = sorted(glob.glob('../data/all_speed_*.csv'), key=os.path.getctime, reverse=True)\n",
    "# Get second newest file if exist\n",
    "if len(files_list)>1:\n",
    "    # Load csv avoiding converting \"NA\" to NaN\n",
    "    previous_df = pd.read_csv(files_list[1], dtype=object, keep_default_na=False, na_values=[''])\n",
    "    # Correct tuples\n",
    "    previous_df['Secondary type'] = previous_df['Secondary type'].dropna().apply(literal_eval)\n",
    "    previous_df['Effect type'] = previous_df['Effect type'].dropna().apply(literal_eval)\n",
    "    previous_df['Archseries'] = previous_df['Archseries'].dropna().apply(literal_eval)\n",
    "    previous_df['Artwork'] = previous_df['Artwork'].dropna().apply(literal_eval)\n",
    "    # previous_df['Errata'] = previous_df['Errata'].dropna().apply(literal_eval)\n",
    "    # Force dtypes to match current df\n",
    "    previous_df = previous_df.astype(full_df[previous_df.columns].dtypes.to_dict())\n",
    "    previous_ts = pd.to_datetime(os.path.basename(files_list[1]).split('_')[-1].rstrip('.csv'))\n",
    "    print('File loaded')\n",
    "else:\n",
    "    previous_df = None\n",
    "    print('No older files')"
   ]
  },
  {
   "cell_type": "markdown",
   "id": "6c263bf7-641e-431d-b0ba-d6be001d2f16",
   "metadata": {
    "papermill": {
     "duration": 0.016,
     "end_time": "2023-02-16T17:52:57.677177",
     "exception": false,
     "start_time": "2023-02-16T17:52:57.661177",
     "status": "completed"
    },
    "tags": []
   },
   "source": [
    "## Generate changelog"
   ]
  },
  {
   "cell_type": "code",
   "execution_count": 7,
   "id": "2fcca8f1",
   "metadata": {
    "execution": {
     "iopub.execute_input": "2023-02-16T17:52:57.702349Z",
     "iopub.status.busy": "2023-02-16T17:52:57.701700Z",
     "iopub.status.idle": "2023-02-16T17:52:57.711200Z",
     "shell.execute_reply": "2023-02-16T17:52:57.710087Z"
    },
    "papermill": {
     "duration": 0.025521,
     "end_time": "2023-02-16T17:52:57.713486",
     "exception": false,
     "start_time": "2023-02-16T17:52:57.687965",
     "status": "completed"
    },
    "tags": []
   },
   "outputs": [
    {
     "name": "stdout",
     "output_type": "stream",
     "text": [
      "Skipped\n"
     ]
    }
   ],
   "source": [
    "if previous_df is None:\n",
    "    print('Skipped')\n",
    "else:\n",
    "    changelog = generate_changelog(previous_df, full_df, col = 'Name')\n",
    "    if not changelog.empty:\n",
    "        display(changelog)\n",
    "        changelog.to_csv(f'../data/speed_changelog_{timestamp.isoformat(timespec=\"minutes\")}_{previous_ts.isoformat(timespec=\"minutes\")}.csv', index = True)\n",
    "        print('Changelog saved')"
   ]
  },
  {
   "cell_type": "markdown",
   "id": "f39835c2-7259-48b8-bf68-04624f16c8b6",
   "metadata": {
    "papermill": {
     "duration": 0.011042,
     "end_time": "2023-02-16T17:52:57.735984",
     "exception": false,
     "start_time": "2023-02-16T17:52:57.724942",
     "status": "completed"
    },
    "tags": []
   },
   "source": [
    "# Data visualization"
   ]
  },
  {
   "cell_type": "code",
   "execution_count": 8,
   "id": "8ecc9568-d30c-452e-b5d4-d08390bc19ba",
   "metadata": {
    "execution": {
     "iopub.execute_input": "2023-02-16T17:52:57.759934Z",
     "iopub.status.busy": "2023-02-16T17:52:57.759521Z",
     "iopub.status.idle": "2023-02-16T17:52:57.839688Z",
     "shell.execute_reply": "2023-02-16T17:52:57.838662Z"
    },
    "papermill": {
     "duration": 0.094944,
     "end_time": "2023-02-16T17:52:57.842151",
     "exception": false,
     "start_time": "2023-02-16T17:52:57.747207",
     "status": "completed"
    },
    "tags": []
   },
   "outputs": [
    {
     "data": {
      "text/html": [
       "<div>\n",
       "<style scoped>\n",
       "    .dataframe tbody tr th:only-of-type {\n",
       "        vertical-align: middle;\n",
       "    }\n",
       "\n",
       "    .dataframe tbody tr th {\n",
       "        vertical-align: top;\n",
       "    }\n",
       "\n",
       "    .dataframe thead th {\n",
       "        text-align: right;\n",
       "    }\n",
       "</style>\n",
       "<table border=\"1\" class=\"dataframe\">\n",
       "  <thead>\n",
       "    <tr style=\"text-align: right;\">\n",
       "      <th></th>\n",
       "      <th>Name</th>\n",
       "      <th>Password</th>\n",
       "      <th>Card type</th>\n",
       "      <th>Property</th>\n",
       "      <th>Archseries</th>\n",
       "      <th>Attribute</th>\n",
       "      <th>Primary type</th>\n",
       "      <th>Secondary type</th>\n",
       "      <th>Monster type</th>\n",
       "      <th>Effect type</th>\n",
       "      <th>Level/Rank</th>\n",
       "      <th>DEF</th>\n",
       "      <th>ATK</th>\n",
       "      <th>TCG status</th>\n",
       "      <th>OCG status</th>\n",
       "      <th>TCG Speed Duel status</th>\n",
       "      <th>Page name</th>\n",
       "      <th>Page URL</th>\n",
       "      <th>Artwork</th>\n",
       "      <th>Modification date</th>\n",
       "      <th>Character</th>\n",
       "    </tr>\n",
       "  </thead>\n",
       "  <tbody>\n",
       "    <tr>\n",
       "      <th>0</th>\n",
       "      <td>7 Completed</td>\n",
       "      <td>86198326</td>\n",
       "      <td>Spell Card</td>\n",
       "      <td>Equip Spell Card</td>\n",
       "      <td>NaN</td>\n",
       "      <td>NaN</td>\n",
       "      <td>NaN</td>\n",
       "      <td>NaN</td>\n",
       "      <td>NaN</td>\n",
       "      <td>(Condition, Continuous-like Effect)</td>\n",
       "      <td>NaN</td>\n",
       "      <td>NaN</td>\n",
       "      <td>NaN</td>\n",
       "      <td>Unlimited</td>\n",
       "      <td>Unlimited</td>\n",
       "      <td>Unlimited</td>\n",
       "      <td>7 Completed</td>\n",
       "      <td>https://yugipedia.com/wiki/7_Completed</td>\n",
       "      <td>NaN</td>\n",
       "      <td>2021-10-31 17:18:50</td>\n",
       "      <td>NaN</td>\n",
       "    </tr>\n",
       "    <tr>\n",
       "      <th>1</th>\n",
       "      <td>A Cat of Ill Omen</td>\n",
       "      <td>24140059</td>\n",
       "      <td>Monster Card</td>\n",
       "      <td>NaN</td>\n",
       "      <td>NaN</td>\n",
       "      <td>DARK</td>\n",
       "      <td>Effect Monster</td>\n",
       "      <td>(Flip monster,)</td>\n",
       "      <td>Beast</td>\n",
       "      <td>(Flip effect,)</td>\n",
       "      <td>2</td>\n",
       "      <td>300</td>\n",
       "      <td>500</td>\n",
       "      <td>Unlimited</td>\n",
       "      <td>Unlimited</td>\n",
       "      <td>Unlimited</td>\n",
       "      <td>A Cat of Ill Omen</td>\n",
       "      <td>https://yugipedia.com/wiki/A_Cat_of_Ill_Omen</td>\n",
       "      <td>NaN</td>\n",
       "      <td>2022-04-11 17:39:44</td>\n",
       "      <td>NaN</td>\n",
       "    </tr>\n",
       "    <tr>\n",
       "      <th>2</th>\n",
       "      <td>A Hero Emerges</td>\n",
       "      <td>21597117</td>\n",
       "      <td>Trap Card</td>\n",
       "      <td>Normal Trap Card</td>\n",
       "      <td>NaN</td>\n",
       "      <td>NaN</td>\n",
       "      <td>NaN</td>\n",
       "      <td>NaN</td>\n",
       "      <td>NaN</td>\n",
       "      <td>(Activation condition, Effect)</td>\n",
       "      <td>NaN</td>\n",
       "      <td>NaN</td>\n",
       "      <td>NaN</td>\n",
       "      <td>Unlimited</td>\n",
       "      <td>Unlimited</td>\n",
       "      <td>Unlimited</td>\n",
       "      <td>A Hero Emerges</td>\n",
       "      <td>https://yugipedia.com/wiki/A_Hero_Emerges</td>\n",
       "      <td>NaN</td>\n",
       "      <td>2022-03-21 20:21:26</td>\n",
       "      <td>NaN</td>\n",
       "    </tr>\n",
       "    <tr>\n",
       "      <th>3</th>\n",
       "      <td>A Hero Lives</td>\n",
       "      <td>08949584</td>\n",
       "      <td>Spell Card</td>\n",
       "      <td>Normal Spell Card</td>\n",
       "      <td>NaN</td>\n",
       "      <td>NaN</td>\n",
       "      <td>NaN</td>\n",
       "      <td>NaN</td>\n",
       "      <td>NaN</td>\n",
       "      <td>(Activation condition, Cost, Effect)</td>\n",
       "      <td>NaN</td>\n",
       "      <td>NaN</td>\n",
       "      <td>NaN</td>\n",
       "      <td>Unlimited</td>\n",
       "      <td>Unlimited</td>\n",
       "      <td>Unlimited</td>\n",
       "      <td>A Hero Lives</td>\n",
       "      <td>https://yugipedia.com/wiki/A_Hero_Lives</td>\n",
       "      <td>NaN</td>\n",
       "      <td>2022-11-02 12:48:15</td>\n",
       "      <td>NaN</td>\n",
       "    </tr>\n",
       "    <tr>\n",
       "      <th>4</th>\n",
       "      <td>A Legendary Ocean</td>\n",
       "      <td>00295517</td>\n",
       "      <td>Spell Card</td>\n",
       "      <td>Field Spell Card</td>\n",
       "      <td>(Umi (series),)</td>\n",
       "      <td>NaN</td>\n",
       "      <td>NaN</td>\n",
       "      <td>NaN</td>\n",
       "      <td>NaN</td>\n",
       "      <td>(Condition, Continuous-like Effect)</td>\n",
       "      <td>NaN</td>\n",
       "      <td>NaN</td>\n",
       "      <td>NaN</td>\n",
       "      <td>Unlimited</td>\n",
       "      <td>Unlimited</td>\n",
       "      <td>Unlimited</td>\n",
       "      <td>A Legendary Ocean</td>\n",
       "      <td>https://yugipedia.com/wiki/A_Legendary_Ocean</td>\n",
       "      <td>NaN</td>\n",
       "      <td>2022-11-04 14:25:19</td>\n",
       "      <td>NaN</td>\n",
       "    </tr>\n",
       "    <tr>\n",
       "      <th>...</th>\n",
       "      <td>...</td>\n",
       "      <td>...</td>\n",
       "      <td>...</td>\n",
       "      <td>...</td>\n",
       "      <td>...</td>\n",
       "      <td>...</td>\n",
       "      <td>...</td>\n",
       "      <td>...</td>\n",
       "      <td>...</td>\n",
       "      <td>...</td>\n",
       "      <td>...</td>\n",
       "      <td>...</td>\n",
       "      <td>...</td>\n",
       "      <td>...</td>\n",
       "      <td>...</td>\n",
       "      <td>...</td>\n",
       "      <td>...</td>\n",
       "      <td>...</td>\n",
       "      <td>...</td>\n",
       "      <td>...</td>\n",
       "      <td>...</td>\n",
       "    </tr>\n",
       "    <tr>\n",
       "      <th>991</th>\n",
       "      <td>Zoma the Spirit</td>\n",
       "      <td>79852326</td>\n",
       "      <td>Trap Card</td>\n",
       "      <td>Continuous Trap Card</td>\n",
       "      <td>(Trap Monster,)</td>\n",
       "      <td>NaN</td>\n",
       "      <td>NaN</td>\n",
       "      <td>NaN</td>\n",
       "      <td>NaN</td>\n",
       "      <td>(Effect, Trigger Effect)</td>\n",
       "      <td>NaN</td>\n",
       "      <td>NaN</td>\n",
       "      <td>NaN</td>\n",
       "      <td>Unlimited</td>\n",
       "      <td>Unlimited</td>\n",
       "      <td>Unlimited</td>\n",
       "      <td>Zoma the Spirit</td>\n",
       "      <td>https://yugipedia.com/wiki/Zoma_the_Spirit</td>\n",
       "      <td>NaN</td>\n",
       "      <td>2022-09-02 12:21:41</td>\n",
       "      <td>NaN</td>\n",
       "    </tr>\n",
       "    <tr>\n",
       "      <th>992</th>\n",
       "      <td>Zombie Master</td>\n",
       "      <td>NaN</td>\n",
       "      <td>Skill Card</td>\n",
       "      <td>NaN</td>\n",
       "      <td>NaN</td>\n",
       "      <td>NaN</td>\n",
       "      <td>NaN</td>\n",
       "      <td>NaN</td>\n",
       "      <td>NaN</td>\n",
       "      <td>NaN</td>\n",
       "      <td>NaN</td>\n",
       "      <td>NaN</td>\n",
       "      <td>NaN</td>\n",
       "      <td>Illegal</td>\n",
       "      <td>NaN</td>\n",
       "      <td>Legal</td>\n",
       "      <td>Zombie Master (Skill Card)</td>\n",
       "      <td>https://yugipedia.com/wiki/Zombie_Master_(Skil...</td>\n",
       "      <td>NaN</td>\n",
       "      <td>2022-12-27 15:38:32</td>\n",
       "      <td>Bonz</td>\n",
       "    </tr>\n",
       "    <tr>\n",
       "      <th>993</th>\n",
       "      <td>Zombie Tiger</td>\n",
       "      <td>47693640</td>\n",
       "      <td>Monster Card</td>\n",
       "      <td>NaN</td>\n",
       "      <td>NaN</td>\n",
       "      <td>EARTH</td>\n",
       "      <td>Effect Monster</td>\n",
       "      <td>(Union monster,)</td>\n",
       "      <td>Zombie</td>\n",
       "      <td>(Condition, Continuous-like Effect, Ignition E...</td>\n",
       "      <td>3</td>\n",
       "      <td>1600</td>\n",
       "      <td>1400</td>\n",
       "      <td>Unlimited</td>\n",
       "      <td>Unlimited</td>\n",
       "      <td>Unlimited</td>\n",
       "      <td>Zombie Tiger</td>\n",
       "      <td>https://yugipedia.com/wiki/Zombie_Tiger</td>\n",
       "      <td>NaN</td>\n",
       "      <td>2022-07-24 09:37:57</td>\n",
       "      <td>NaN</td>\n",
       "    </tr>\n",
       "    <tr>\n",
       "      <th>994</th>\n",
       "      <td>Zombina</td>\n",
       "      <td>81616639</td>\n",
       "      <td>Monster Card</td>\n",
       "      <td>NaN</td>\n",
       "      <td>NaN</td>\n",
       "      <td>EARTH</td>\n",
       "      <td>Effect Monster</td>\n",
       "      <td>NaN</td>\n",
       "      <td>Zombie</td>\n",
       "      <td>(Trigger Effect,)</td>\n",
       "      <td>4</td>\n",
       "      <td>1500</td>\n",
       "      <td>1400</td>\n",
       "      <td>Unlimited</td>\n",
       "      <td>Unlimited</td>\n",
       "      <td>Unlimited</td>\n",
       "      <td>Zombina</td>\n",
       "      <td>https://yugipedia.com/wiki/Zombina</td>\n",
       "      <td>NaN</td>\n",
       "      <td>2022-05-24 15:59:37</td>\n",
       "      <td>NaN</td>\n",
       "    </tr>\n",
       "    <tr>\n",
       "      <th>995</th>\n",
       "      <td>Zombyra the Dark</td>\n",
       "      <td>88472456</td>\n",
       "      <td>Monster Card</td>\n",
       "      <td>NaN</td>\n",
       "      <td>NaN</td>\n",
       "      <td>DARK</td>\n",
       "      <td>Effect Monster</td>\n",
       "      <td>NaN</td>\n",
       "      <td>Warrior</td>\n",
       "      <td>(Continuous Effect, Trigger Effect)</td>\n",
       "      <td>4</td>\n",
       "      <td>500</td>\n",
       "      <td>2100</td>\n",
       "      <td>Unlimited</td>\n",
       "      <td>Unlimited</td>\n",
       "      <td>Unlimited</td>\n",
       "      <td>Zombyra the Dark</td>\n",
       "      <td>https://yugipedia.com/wiki/Zombyra_the_Dark</td>\n",
       "      <td>(Edited,)</td>\n",
       "      <td>2021-07-30 07:39:30</td>\n",
       "      <td>NaN</td>\n",
       "    </tr>\n",
       "  </tbody>\n",
       "</table>\n",
       "<p>996 rows × 21 columns</p>\n",
       "</div>"
      ],
      "text/plain": [
       "                  Name  Password     Card type              Property  \\\n",
       "0          7 Completed  86198326    Spell Card      Equip Spell Card   \n",
       "1    A Cat of Ill Omen  24140059  Monster Card                   NaN   \n",
       "2       A Hero Emerges  21597117     Trap Card      Normal Trap Card   \n",
       "3         A Hero Lives  08949584    Spell Card     Normal Spell Card   \n",
       "4    A Legendary Ocean  00295517    Spell Card      Field Spell Card   \n",
       "..                 ...       ...           ...                   ...   \n",
       "991    Zoma the Spirit  79852326     Trap Card  Continuous Trap Card   \n",
       "992      Zombie Master       NaN    Skill Card                   NaN   \n",
       "993       Zombie Tiger  47693640  Monster Card                   NaN   \n",
       "994            Zombina  81616639  Monster Card                   NaN   \n",
       "995   Zombyra the Dark  88472456  Monster Card                   NaN   \n",
       "\n",
       "          Archseries Attribute    Primary type    Secondary type Monster type  \\\n",
       "0                NaN       NaN             NaN               NaN          NaN   \n",
       "1                NaN      DARK  Effect Monster   (Flip monster,)        Beast   \n",
       "2                NaN       NaN             NaN               NaN          NaN   \n",
       "3                NaN       NaN             NaN               NaN          NaN   \n",
       "4    (Umi (series),)       NaN             NaN               NaN          NaN   \n",
       "..               ...       ...             ...               ...          ...   \n",
       "991  (Trap Monster,)       NaN             NaN               NaN          NaN   \n",
       "992              NaN       NaN             NaN               NaN          NaN   \n",
       "993              NaN     EARTH  Effect Monster  (Union monster,)       Zombie   \n",
       "994              NaN     EARTH  Effect Monster               NaN       Zombie   \n",
       "995              NaN      DARK  Effect Monster               NaN      Warrior   \n",
       "\n",
       "                                           Effect type Level/Rank   DEF   ATK  \\\n",
       "0                  (Condition, Continuous-like Effect)        NaN   NaN   NaN   \n",
       "1                                       (Flip effect,)          2   300   500   \n",
       "2                       (Activation condition, Effect)        NaN   NaN   NaN   \n",
       "3                 (Activation condition, Cost, Effect)        NaN   NaN   NaN   \n",
       "4                  (Condition, Continuous-like Effect)        NaN   NaN   NaN   \n",
       "..                                                 ...        ...   ...   ...   \n",
       "991                           (Effect, Trigger Effect)        NaN   NaN   NaN   \n",
       "992                                                NaN        NaN   NaN   NaN   \n",
       "993  (Condition, Continuous-like Effect, Ignition E...          3  1600  1400   \n",
       "994                                  (Trigger Effect,)          4  1500  1400   \n",
       "995                (Continuous Effect, Trigger Effect)          4   500  2100   \n",
       "\n",
       "    TCG status OCG status TCG Speed Duel status                   Page name  \\\n",
       "0    Unlimited  Unlimited             Unlimited                 7 Completed   \n",
       "1    Unlimited  Unlimited             Unlimited           A Cat of Ill Omen   \n",
       "2    Unlimited  Unlimited             Unlimited              A Hero Emerges   \n",
       "3    Unlimited  Unlimited             Unlimited                A Hero Lives   \n",
       "4    Unlimited  Unlimited             Unlimited           A Legendary Ocean   \n",
       "..         ...        ...                   ...                         ...   \n",
       "991  Unlimited  Unlimited             Unlimited             Zoma the Spirit   \n",
       "992    Illegal        NaN                 Legal  Zombie Master (Skill Card)   \n",
       "993  Unlimited  Unlimited             Unlimited                Zombie Tiger   \n",
       "994  Unlimited  Unlimited             Unlimited                     Zombina   \n",
       "995  Unlimited  Unlimited             Unlimited            Zombyra the Dark   \n",
       "\n",
       "                                              Page URL    Artwork  \\\n",
       "0               https://yugipedia.com/wiki/7_Completed        NaN   \n",
       "1         https://yugipedia.com/wiki/A_Cat_of_Ill_Omen        NaN   \n",
       "2            https://yugipedia.com/wiki/A_Hero_Emerges        NaN   \n",
       "3              https://yugipedia.com/wiki/A_Hero_Lives        NaN   \n",
       "4         https://yugipedia.com/wiki/A_Legendary_Ocean        NaN   \n",
       "..                                                 ...        ...   \n",
       "991         https://yugipedia.com/wiki/Zoma_the_Spirit        NaN   \n",
       "992  https://yugipedia.com/wiki/Zombie_Master_(Skil...        NaN   \n",
       "993            https://yugipedia.com/wiki/Zombie_Tiger        NaN   \n",
       "994                 https://yugipedia.com/wiki/Zombina        NaN   \n",
       "995        https://yugipedia.com/wiki/Zombyra_the_Dark  (Edited,)   \n",
       "\n",
       "      Modification date Character  \n",
       "0   2021-10-31 17:18:50       NaN  \n",
       "1   2022-04-11 17:39:44       NaN  \n",
       "2   2022-03-21 20:21:26       NaN  \n",
       "3   2022-11-02 12:48:15       NaN  \n",
       "4   2022-11-04 14:25:19       NaN  \n",
       "..                  ...       ...  \n",
       "991 2022-09-02 12:21:41       NaN  \n",
       "992 2022-12-27 15:38:32      Bonz  \n",
       "993 2022-07-24 09:37:57       NaN  \n",
       "994 2022-05-24 15:59:37       NaN  \n",
       "995 2021-07-30 07:39:30       NaN  \n",
       "\n",
       "[996 rows x 21 columns]"
      ]
     },
     "execution_count": 8,
     "metadata": {},
     "output_type": "execute_result"
    }
   ],
   "source": [
    "full_df"
   ]
  },
  {
   "cell_type": "markdown",
   "id": "4aab5adb-de31-4735-9e3d-4aa976e11ece",
   "metadata": {
    "papermill": {
     "duration": 0.011418,
     "end_time": "2023-02-16T17:52:57.866285",
     "exception": false,
     "start_time": "2023-02-16T17:52:57.854867",
     "status": "completed"
    },
    "tags": []
   },
   "source": [
    "## Property"
   ]
  },
  {
   "cell_type": "code",
   "execution_count": 9,
   "id": "22f1dd60-6967-4139-8f6d-8ddd122508b0",
   "metadata": {
    "execution": {
     "iopub.execute_input": "2023-02-16T17:52:57.891408Z",
     "iopub.status.busy": "2023-02-16T17:52:57.890863Z",
     "iopub.status.idle": "2023-02-16T17:52:57.897887Z",
     "shell.execute_reply": "2023-02-16T17:52:57.897030Z"
    },
    "papermill": {
     "duration": 0.021906,
     "end_time": "2023-02-16T17:52:57.900057",
     "exception": false,
     "start_time": "2023-02-16T17:52:57.878151",
     "status": "completed"
    },
    "tags": []
   },
   "outputs": [
    {
     "data": {
      "text/plain": [
       "9"
      ]
     },
     "execution_count": 9,
     "metadata": {},
     "output_type": "execute_result"
    }
   ],
   "source": [
    "full_df['Property'].nunique()"
   ]
  },
  {
   "cell_type": "code",
   "execution_count": 10,
   "id": "3008e3c7-b0a9-46af-8ccf-e93cada9e07a",
   "metadata": {
    "execution": {
     "iopub.execute_input": "2023-02-16T17:52:57.925824Z",
     "iopub.status.busy": "2023-02-16T17:52:57.925056Z",
     "iopub.status.idle": "2023-02-16T17:52:57.933927Z",
     "shell.execute_reply": "2023-02-16T17:52:57.932990Z"
    },
    "papermill": {
     "duration": 0.025668,
     "end_time": "2023-02-16T17:52:57.937471",
     "exception": false,
     "start_time": "2023-02-16T17:52:57.911803",
     "status": "completed"
    },
    "tags": []
   },
   "outputs": [
    {
     "data": {
      "text/plain": [
       "Normal Spell Card        100\n",
       "Normal Trap Card          98\n",
       "Equip Spell Card          40\n",
       "Field Spell Card          30\n",
       "Continuous Trap Card      30\n",
       "Continuous Spell Card     29\n",
       "Quick-Play Spell Card     19\n",
       "Ritual Spell Card         11\n",
       "Counter Trap Card         11\n",
       "Name: Property, dtype: int64"
      ]
     },
     "execution_count": 10,
     "metadata": {},
     "output_type": "execute_result"
    }
   ],
   "source": [
    "full_df['Property'].value_counts()"
   ]
  },
  {
   "cell_type": "markdown",
   "id": "554753ed-43a9-426f-aafa-3e9a56b6ecde",
   "metadata": {
    "papermill": {
     "duration": 0.012245,
     "end_time": "2023-02-16T17:52:57.962816",
     "exception": false,
     "start_time": "2023-02-16T17:52:57.950571",
     "status": "completed"
    },
    "tags": []
   },
   "source": [
    "## Archseries"
   ]
  },
  {
   "cell_type": "code",
   "execution_count": 11,
   "id": "3c4ec027-4f63-4b5d-aafe-f1b414a10fd8",
   "metadata": {
    "execution": {
     "iopub.execute_input": "2023-02-16T17:52:57.993153Z",
     "iopub.status.busy": "2023-02-16T17:52:57.992549Z",
     "iopub.status.idle": "2023-02-16T17:52:58.006123Z",
     "shell.execute_reply": "2023-02-16T17:52:58.005198Z"
    },
    "papermill": {
     "duration": 0.029564,
     "end_time": "2023-02-16T17:52:58.008256",
     "exception": false,
     "start_time": "2023-02-16T17:52:57.978692",
     "status": "completed"
    },
    "tags": []
   },
   "outputs": [
    {
     "data": {
      "text/plain": [
       "151"
      ]
     },
     "execution_count": 11,
     "metadata": {},
     "output_type": "execute_result"
    }
   ],
   "source": [
    "full_df['Archseries'].explode().nunique()"
   ]
  },
  {
   "cell_type": "code",
   "execution_count": 12,
   "id": "d4c79469-cf13-46a2-a30d-cbc24aa66a72",
   "metadata": {
    "execution": {
     "iopub.execute_input": "2023-02-16T17:52:58.034152Z",
     "iopub.status.busy": "2023-02-16T17:52:58.033609Z",
     "iopub.status.idle": "2023-02-16T17:52:58.045407Z",
     "shell.execute_reply": "2023-02-16T17:52:58.044501Z"
    },
    "papermill": {
     "duration": 0.028746,
     "end_time": "2023-02-16T17:52:58.049169",
     "exception": false,
     "start_time": "2023-02-16T17:52:58.020423",
     "status": "completed"
    },
    "tags": []
   },
   "outputs": [
    {
     "data": {
      "text/plain": [
       "HERO                        34\n",
       "Cyber                       27\n",
       "roid                        23\n",
       "Elemental HERO              22\n",
       "Crystal                     19\n",
       "                            ..\n",
       "Foolish                      1\n",
       "Flame Swordsman (series)     1\n",
       "Fishborg                     1\n",
       "Fire Formation               1\n",
       "Worm                         1\n",
       "Name: Archseries, Length: 151, dtype: int64"
      ]
     },
     "execution_count": 12,
     "metadata": {},
     "output_type": "execute_result"
    }
   ],
   "source": [
    "full_df['Archseries'].explode().value_counts()"
   ]
  },
  {
   "cell_type": "markdown",
   "id": "edd6956f-bcb6-4883-8360-3affe25eb313",
   "metadata": {
    "papermill": {
     "duration": 0.012066,
     "end_time": "2023-02-16T17:52:58.073606",
     "exception": false,
     "start_time": "2023-02-16T17:52:58.061540",
     "status": "completed"
    },
    "tags": []
   },
   "source": [
    "## TCG Speed Duel status"
   ]
  },
  {
   "cell_type": "code",
   "execution_count": 13,
   "id": "ed36d03b-bd56-4d8d-8f0f-2fc473ea1e21",
   "metadata": {
    "execution": {
     "iopub.execute_input": "2023-02-16T17:52:58.101566Z",
     "iopub.status.busy": "2023-02-16T17:52:58.100603Z",
     "iopub.status.idle": "2023-02-16T17:52:58.107935Z",
     "shell.execute_reply": "2023-02-16T17:52:58.107008Z"
    },
    "papermill": {
     "duration": 0.024436,
     "end_time": "2023-02-16T17:52:58.110678",
     "exception": false,
     "start_time": "2023-02-16T17:52:58.086242",
     "status": "completed"
    },
    "tags": []
   },
   "outputs": [
    {
     "data": {
      "text/plain": [
       "3"
      ]
     },
     "execution_count": 13,
     "metadata": {},
     "output_type": "execute_result"
    }
   ],
   "source": [
    "full_df['TCG Speed Duel status'].nunique()"
   ]
  },
  {
   "cell_type": "code",
   "execution_count": 14,
   "id": "2d30f094-b764-4912-a4d4-0cc23d12652e",
   "metadata": {
    "execution": {
     "iopub.execute_input": "2023-02-16T17:52:58.138040Z",
     "iopub.status.busy": "2023-02-16T17:52:58.136844Z",
     "iopub.status.idle": "2023-02-16T17:52:58.146915Z",
     "shell.execute_reply": "2023-02-16T17:52:58.145727Z"
    },
    "papermill": {
     "duration": 0.026118,
     "end_time": "2023-02-16T17:52:58.149394",
     "exception": false,
     "start_time": "2023-02-16T17:52:58.123276",
     "status": "completed"
    },
    "tags": []
   },
   "outputs": [
    {
     "data": {
      "text/plain": [
       "Unlimited           884\n",
       "Legal               103\n",
       "Not yet released      9\n",
       "Name: TCG Speed Duel status, dtype: int64"
      ]
     },
     "execution_count": 14,
     "metadata": {},
     "output_type": "execute_result"
    }
   ],
   "source": [
    "full_df['TCG Speed Duel status'].value_counts()"
   ]
  },
  {
   "cell_type": "markdown",
   "id": "45aa508f-2940-4f04-8c4a-7dd7b28b84b3",
   "metadata": {
    "papermill": {
     "duration": 0.012388,
     "end_time": "2023-02-16T17:52:58.174448",
     "exception": false,
     "start_time": "2023-02-16T17:52:58.162060",
     "status": "completed"
    },
    "tags": []
   },
   "source": [
    "## TCG status"
   ]
  },
  {
   "cell_type": "code",
   "execution_count": 15,
   "id": "308b2179-c671-4bbe-97e8-14401427a9a5",
   "metadata": {
    "execution": {
     "iopub.execute_input": "2023-02-16T17:52:58.203124Z",
     "iopub.status.busy": "2023-02-16T17:52:58.202415Z",
     "iopub.status.idle": "2023-02-16T17:52:58.210221Z",
     "shell.execute_reply": "2023-02-16T17:52:58.209327Z"
    },
    "papermill": {
     "duration": 0.025066,
     "end_time": "2023-02-16T17:52:58.212467",
     "exception": false,
     "start_time": "2023-02-16T17:52:58.187401",
     "status": "completed"
    },
    "tags": []
   },
   "outputs": [
    {
     "data": {
      "text/plain": [
       "4"
      ]
     },
     "execution_count": 15,
     "metadata": {},
     "output_type": "execute_result"
    }
   ],
   "source": [
    "full_df['TCG status'].nunique()"
   ]
  },
  {
   "cell_type": "code",
   "execution_count": 16,
   "id": "7c6394e4-b284-4676-a302-0cfb10169682",
   "metadata": {
    "execution": {
     "iopub.execute_input": "2023-02-16T17:52:58.241926Z",
     "iopub.status.busy": "2023-02-16T17:52:58.241404Z",
     "iopub.status.idle": "2023-02-16T17:52:58.249987Z",
     "shell.execute_reply": "2023-02-16T17:52:58.249122Z"
    },
    "papermill": {
     "duration": 0.026412,
     "end_time": "2023-02-16T17:52:58.251958",
     "exception": false,
     "start_time": "2023-02-16T17:52:58.225546",
     "status": "completed"
    },
    "tags": []
   },
   "outputs": [
    {
     "data": {
      "text/plain": [
       "Unlimited       889\n",
       "Illegal         103\n",
       "Semi-Limited      2\n",
       "Limited           2\n",
       "Name: TCG status, dtype: int64"
      ]
     },
     "execution_count": 16,
     "metadata": {},
     "output_type": "execute_result"
    }
   ],
   "source": [
    "full_df['TCG status'].value_counts()"
   ]
  },
  {
   "cell_type": "markdown",
   "id": "2d62bfc4-0967-4ebe-b39a-172eb34e4968",
   "metadata": {
    "papermill": {
     "duration": 0.012537,
     "end_time": "2023-02-16T17:52:58.277667",
     "exception": false,
     "start_time": "2023-02-16T17:52:58.265130",
     "status": "completed"
    },
    "tags": []
   },
   "source": [
    "## Character"
   ]
  },
  {
   "cell_type": "code",
   "execution_count": 17,
   "id": "ce5700d6-335d-4c89-89e5-2144e16e6316",
   "metadata": {
    "execution": {
     "iopub.execute_input": "2023-02-16T17:52:58.307583Z",
     "iopub.status.busy": "2023-02-16T17:52:58.306551Z",
     "iopub.status.idle": "2023-02-16T17:52:58.313890Z",
     "shell.execute_reply": "2023-02-16T17:52:58.312898Z"
    },
    "papermill": {
     "duration": 0.024717,
     "end_time": "2023-02-16T17:52:58.316084",
     "exception": false,
     "start_time": "2023-02-16T17:52:58.291367",
     "status": "completed"
    },
    "tags": []
   },
   "outputs": [
    {
     "data": {
      "text/plain": [
       "36"
      ]
     },
     "execution_count": 17,
     "metadata": {},
     "output_type": "execute_result"
    }
   ],
   "source": [
    "skill_df['Character'].nunique()"
   ]
  },
  {
   "cell_type": "code",
   "execution_count": 18,
   "id": "8a9be7a8-acb8-4770-aaa4-353883c1169e",
   "metadata": {
    "execution": {
     "iopub.execute_input": "2023-02-16T17:52:58.345877Z",
     "iopub.status.busy": "2023-02-16T17:52:58.345202Z",
     "iopub.status.idle": "2023-02-16T17:52:58.354409Z",
     "shell.execute_reply": "2023-02-16T17:52:58.353521Z"
    },
    "papermill": {
     "duration": 0.026887,
     "end_time": "2023-02-16T17:52:58.356431",
     "exception": false,
     "start_time": "2023-02-16T17:52:58.329544",
     "status": "completed"
    },
    "tags": []
   },
   "outputs": [
    {
     "data": {
      "text/plain": [
       "Yami Yugi              10\n",
       "Seto Kaiba              6\n",
       "Joey Wheeler            5\n",
       "Bonz                    5\n",
       "Maximillion Pegasus     5\n",
       "Ishizu Ishtar           5\n",
       "Jaden Yuki              4\n",
       "Rex Raptor              4\n",
       "Syrus Truesdale         4\n",
       "Bandit Keith            4\n",
       "Mai Valentine           4\n",
       "Mako Tsunami            4\n",
       "Paradox Brothers        3\n",
       "Bastion Misawa          3\n",
       "Weevil Underwood        3\n",
       "Yami Marik              3\n",
       "Aster Phoenix           2\n",
       "Espa Roba               2\n",
       "Yami Bakura             2\n",
       "Vellian Crowler         2\n",
       "Odion                   2\n",
       "Chazz Princeton         2\n",
       "Zane Truesdale          2\n",
       "Alexis Rhodes           2\n",
       "Jesse Anderson          2\n",
       "Axel Brodie             2\n",
       "Christine               1\n",
       "David                   1\n",
       "Tyranno Hassleberry     1\n",
       "Yubel                   1\n",
       "Chumley Huffington      1\n",
       "Andrew                  1\n",
       "Arkana                  1\n",
       "Téa Gardner             1\n",
       "Emma (Duel Links)       1\n",
       "Lumis and Umbra         1\n",
       "Name: Character, dtype: int64"
      ]
     },
     "execution_count": 18,
     "metadata": {},
     "output_type": "execute_result"
    }
   ],
   "source": [
    "skill_df['Character'].value_counts()"
   ]
  },
  {
   "cell_type": "markdown",
   "id": "de85b305-a301-4555-8446-ffe678453339",
   "metadata": {
    "papermill": {
     "duration": 0.013714,
     "end_time": "2023-02-16T17:52:58.384374",
     "exception": false,
     "start_time": "2023-02-16T17:52:58.370660",
     "status": "completed"
    },
    "tags": []
   },
   "source": [
    "# Epilogue"
   ]
  },
  {
   "cell_type": "code",
   "execution_count": 19,
   "id": "20534761-da7b-478a-a7cb-b8cdd434f77e",
   "metadata": {
    "execution": {
     "iopub.execute_input": "2023-02-16T17:52:58.414949Z",
     "iopub.status.busy": "2023-02-16T17:52:58.413891Z",
     "iopub.status.idle": "2023-02-16T17:52:58.421117Z",
     "shell.execute_reply": "2023-02-16T17:52:58.420113Z"
    },
    "papermill": {
     "duration": 0.024502,
     "end_time": "2023-02-16T17:52:58.423372",
     "exception": false,
     "start_time": "2023-02-16T17:52:58.398870",
     "status": "completed"
    },
    "tags": []
   },
   "outputs": [
    {
     "data": {
      "text/markdown": [
       "<div align='right'>\n",
       "    Execution completed 16/02/2023 17:52 UTC\n",
       "</div>"
      ],
      "text/plain": [
       "<IPython.core.display.Markdown object>"
      ]
     },
     "execution_count": 19,
     "metadata": {},
     "output_type": "execute_result"
    }
   ],
   "source": [
    "footer()"
   ]
  },
  {
   "cell_type": "markdown",
   "id": "44415c04-18b0-4d1e-ac12-ec8e30bd08d8",
   "metadata": {
    "papermill": {
     "duration": 0.015182,
     "end_time": "2023-02-16T17:52:58.453006",
     "exception": false,
     "start_time": "2023-02-16T17:52:58.437824",
     "status": "completed"
    },
    "tags": []
   },
   "source": [
    "## HTML export"
   ]
  },
  {
   "cell_type": "code",
   "execution_count": 20,
   "id": "00f871b4-5b9c-4092-b774-54aa01af999f",
   "metadata": {
    "execution": {
     "iopub.execute_input": "2023-02-16T17:52:58.521527Z",
     "iopub.status.busy": "2023-02-16T17:52:58.521052Z",
     "iopub.status.idle": "2023-02-16T17:52:58.532447Z",
     "shell.execute_reply": "2023-02-16T17:52:58.531304Z"
    },
    "papermill": {
     "duration": 0.030613,
     "end_time": "2023-02-16T17:52:58.534708",
     "exception": false,
     "start_time": "2023-02-16T17:52:58.504095",
     "status": "completed"
    },
    "tags": []
   },
   "outputs": [
    {
     "name": "stdout",
     "output_type": "stream",
     "text": [
      "Notebook saved to disk\n"
     ]
    }
   ],
   "source": [
    "# Save notebook on disck before generating HTML report\n",
    "save_notebook()"
   ]
  },
  {
   "cell_type": "code",
   "execution_count": 21,
   "id": "5ab72228-2db0-461d-8964-2ec516b619a7",
   "metadata": {
    "execution": {
     "iopub.execute_input": "2023-02-16T17:52:58.568448Z",
     "iopub.status.busy": "2023-02-16T17:52:58.566025Z",
     "iopub.status.idle": "2023-02-16T17:53:04.549712Z",
     "shell.execute_reply": "2023-02-16T17:53:04.548570Z"
    },
    "papermill": {
     "duration": 6.002576,
     "end_time": "2023-02-16T17:53:04.552342",
     "exception": false,
     "start_time": "2023-02-16T17:52:58.549766",
     "status": "completed"
    },
    "tags": []
   },
   "outputs": [
    {
     "name": "stdout",
     "output_type": "stream",
     "text": [
      "WARNING: Insecure writes have been enabled via environment variable 'JUPYTER_ALLOW_INSECURE_WRITES'! If this is not intended, remove the variable or set its value to 'False'.\r\n"
     ]
    },
    {
     "name": "stdout",
     "output_type": "stream",
     "text": [
      "[NbConvertApp] Converting notebook Speed.ipynb to HTML\r\n"
     ]
    },
    {
     "name": "stdout",
     "output_type": "stream",
     "text": [
      "[NbConvertApp] Writing 599574 bytes to ../Speed.html\r\n"
     ]
    }
   ],
   "source": [
    "! jupyter nbconvert Speed.ipynb --output-dir='../' --to=HTML --TagRemovePreprocessor.enabled=True --TagRemovePreprocessor.remove_cell_tags='exclude' --TemplateExporter.exclude_input=True --TemplateExporter.exclude_input_prompt=True --TemplateExporter.exclude_output_prompt=True"
   ]
  },
  {
   "cell_type": "markdown",
   "id": "167d76c1-a2fb-4635-9864-e7f515f7d059",
   "metadata": {
    "papermill": {
     "duration": 0.065809,
     "end_time": "2023-02-16T17:53:04.635696",
     "exception": false,
     "start_time": "2023-02-16T17:53:04.569887",
     "status": "completed"
    },
    "tags": [
     "exclude"
    ]
   },
   "source": [
    "## Git"
   ]
  },
  {
   "cell_type": "code",
   "execution_count": null,
   "id": "5861c149-66bb-4347-80ab-7483d9313dce",
   "metadata": {
    "papermill": {
     "duration": null,
     "end_time": null,
     "exception": false,
     "start_time": "2023-02-16T17:53:04.650940",
     "status": "running"
    },
    "tags": [
     "exclude"
    ]
   },
   "outputs": [],
   "source": [
    "! git add \"../*[Ss]peed*\""
   ]
  },
  {
   "cell_type": "code",
   "execution_count": null,
   "id": "dc0d112d-7937-4eba-a788-e8a134f8d5cf",
   "metadata": {
    "papermill": {
     "duration": null,
     "end_time": null,
     "exception": null,
     "start_time": null,
     "status": "pending"
    },
    "tags": [
     "exclude"
    ]
   },
   "outputs": [],
   "source": [
    "! git commit -m {\"'Speed duel update-\" + timestamp.isoformat() + \"'\"}"
   ]
  }
 ],
 "metadata": {
  "kernelspec": {
   "display_name": "Python 3 (ipykernel)",
   "language": "python",
   "name": "python3"
  },
  "language_info": {
   "codemirror_mode": {
    "name": "ipython",
    "version": 3
   },
   "file_extension": ".py",
   "mimetype": "text/x-python",
   "name": "python",
   "nbconvert_exporter": "python",
   "pygments_lexer": "ipython3",
   "version": "3.10.8"
  },
  "papermill": {
   "default_parameters": {},
   "duration": null,
   "end_time": null,
   "environment_variables": {},
   "exception": null,
   "input_path": "Speed.ipynb",
   "output_path": "Speed.ipynb",
   "parameters": {},
   "start_time": "2023-02-16T17:52:24.135647",
   "version": "2.4.0"
  }
 },
 "nbformat": 4,
 "nbformat_minor": 5
}