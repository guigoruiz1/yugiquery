{
 "cells": [
  {
   "cell_type": "code",
   "execution_count": null,
   "id": "db3fea09-dd17-4d4f-9751-4db442584d19",
   "metadata": {
    "papermill": {
     "duration": 6.80373,
     "end_time": "2023-02-17T16:04:21.320561",
     "exception": false,
     "start_time": "2023-02-17T16:04:14.516831",
     "status": "completed"
    },
    "tags": []
   },
   "outputs": [],
   "source": [
    "from yugiquery import *\n",
    "header('Speed Duel')"
   ]
  },
  {
   "cell_type": "markdown",
   "id": "f26c89c2-c447-43a2-997b-603775191de3",
   "metadata": {
    "papermill": {
     "duration": 0.084721,
     "end_time": "2023-02-17T16:04:21.419266",
     "exception": false,
     "start_time": "2023-02-17T16:04:21.334545",
     "status": "completed"
    },
    "tags": []
   },
   "source": [
    "---"
   ]
  },
  {
   "cell_type": "markdown",
   "id": "952801c1-2126-4df2-ae95-e3f56fc801c1",
   "metadata": {
    "papermill": {
     "duration": 0.010027,
     "end_time": "2023-02-17T16:04:21.439338",
     "exception": false,
     "start_time": "2023-02-17T16:04:21.429311",
     "status": "completed"
    },
    "tags": []
   },
   "source": [
    "# Data aquisition"
   ]
  },
  {
   "cell_type": "markdown",
   "id": "99894266-9cec-4db3-bfe7-37572eed8dc6",
   "metadata": {
    "papermill": {
     "duration": 0.009915,
     "end_time": "2023-02-17T16:04:21.462914",
     "exception": false,
     "start_time": "2023-02-17T16:04:21.452999",
     "status": "completed"
    },
    "tags": []
   },
   "source": [
    "## Fetch online data"
   ]
  },
  {
   "cell_type": "code",
   "execution_count": null,
   "id": "10acd11f-8a8b-4650-a6aa-2b509d8ba596",
   "metadata": {
    "papermill": {
     "duration": 0.021679,
     "end_time": "2023-02-17T16:04:21.494855",
     "exception": false,
     "start_time": "2023-02-17T16:04:21.473176",
     "status": "completed"
    },
    "tags": []
   },
   "outputs": [],
   "source": [
    "# Timestamp\n",
    "timestamp = pd.Timestamp.now()"
   ]
  },
  {
   "cell_type": "code",
   "execution_count": null,
   "id": "4cf61b44-a485-4af9-9465-b4eb2431a730",
   "metadata": {
    "papermill": {
     "duration": 8.370414,
     "end_time": "2023-02-17T16:04:29.879704",
     "exception": false,
     "start_time": "2023-02-17T16:04:21.509290",
     "status": "completed"
    },
    "tags": []
   },
   "outputs": [],
   "source": [
    "# Fetch skill cards\n",
    "skill_df = fetch_skill()\n",
    "\n",
    "# Fetch deck cards\n",
    "speed_df = fetch_speed()"
   ]
  },
  {
   "cell_type": "markdown",
   "id": "5269bc32-88fc-4026-853b-a7b4015dd5c1",
   "metadata": {
    "papermill": {
     "duration": 0.033245,
     "end_time": "2023-02-17T16:04:29.928285",
     "exception": false,
     "start_time": "2023-02-17T16:04:29.895040",
     "status": "completed"
    },
    "tags": []
   },
   "source": [
    "## Merge data"
   ]
  },
  {
   "cell_type": "code",
   "execution_count": null,
   "id": "13ccdd0c-f189-44f5-ab8b-c861098fd8ab",
   "metadata": {
    "papermill": {
     "duration": 0.036468,
     "end_time": "2023-02-17T16:04:29.974793",
     "exception": false,
     "start_time": "2023-02-17T16:04:29.938325",
     "status": "completed"
    },
    "tags": []
   },
   "outputs": [],
   "source": [
    "full_df = pd.concat([speed_df,skill_df], ignore_index=True, axis=0).sort_values('Name').reset_index(drop=True)\n",
    "print('Data merged')"
   ]
  },
  {
   "cell_type": "markdown",
   "id": "75bdae54-3ee6-4a50-abd1-a20b3397a24d",
   "metadata": {
    "papermill": {
     "duration": 0.009557,
     "end_time": "2023-02-17T16:04:29.994522",
     "exception": false,
     "start_time": "2023-02-17T16:04:29.984965",
     "status": "completed"
    },
    "tags": []
   },
   "source": [
    "## Save data"
   ]
  },
  {
   "cell_type": "code",
   "execution_count": null,
   "id": "7508d7a5-8398-4596-9079-64cf9ebd6e77",
   "metadata": {
    "papermill": {
     "duration": 0.114727,
     "end_time": "2023-02-17T16:04:30.119887",
     "exception": false,
     "start_time": "2023-02-17T16:04:30.005160",
     "status": "completed"
    },
    "tags": []
   },
   "outputs": [],
   "source": [
    "full_df.to_csv(f'../data/all_speed_{timestamp.isoformat(timespec=\"minutes\")}.csv', index=False)\n",
    "print('Data saved')"
   ]
  },
  {
   "cell_type": "markdown",
   "id": "44e08025-ef2e-47d1-a77d-942a98c638eb",
   "metadata": {
    "papermill": {
     "duration": 0.010217,
     "end_time": "2023-02-17T16:04:30.142121",
     "exception": false,
     "start_time": "2023-02-17T16:04:30.131904",
     "status": "completed"
    },
    "tags": []
   },
   "source": [
    "# Check changes"
   ]
  },
  {
   "cell_type": "markdown",
   "id": "b4e572a4-6b11-46e8-96a8-dd7b88ff7ad4",
   "metadata": {
    "papermill": {
     "duration": 0.009929,
     "end_time": "2023-02-17T16:04:30.162292",
     "exception": false,
     "start_time": "2023-02-17T16:04:30.152363",
     "status": "completed"
    },
    "tags": []
   },
   "source": [
    "## Load previous data"
   ]
  },
  {
   "cell_type": "code",
   "execution_count": null,
   "id": "fb7dc6f8",
   "metadata": {
    "papermill": {
     "duration": 0.084624,
     "end_time": "2023-02-17T16:04:30.257287",
     "exception": false,
     "start_time": "2023-02-17T16:04:30.172663",
     "status": "completed"
    },
    "tags": []
   },
   "outputs": [],
   "source": [
    "# Get list of files\n",
    "files_list = sorted(glob.glob('../data/all_speed_*.csv'), key=os.path.getctime, reverse=True)\n",
    "# Get second newest file if exist\n",
    "if len(files_list)>1:\n",
    "    # Load csv avoiding converting \"NA\" to NaN\n",
    "    previous_df = pd.read_csv(files_list[1], dtype=object, keep_default_na=False, na_values=[''])\n",
    "    # Correct tuples\n",
    "    previous_df['Secondary type'] = previous_df['Secondary type'].dropna().apply(literal_eval)\n",
    "    previous_df['Effect type'] = previous_df['Effect type'].dropna().apply(literal_eval)\n",
    "    previous_df['Archseries'] = previous_df['Archseries'].dropna().apply(literal_eval)\n",
    "    previous_df['Artwork'] = previous_df['Artwork'].dropna().apply(literal_eval)\n",
    "    # previous_df['Errata'] = previous_df['Errata'].dropna().apply(literal_eval)\n",
    "    # Force dtypes to match current df\n",
    "    previous_df = previous_df.astype(full_df[previous_df.columns].dtypes.to_dict())\n",
    "    previous_ts = pd.to_datetime(os.path.basename(files_list[1]).split('_')[-1].rstrip('.csv'))\n",
    "    print('File loaded')\n",
    "else:\n",
    "    previous_df = None\n",
    "    print('No older files')"
   ]
  },
  {
   "cell_type": "markdown",
   "id": "6c263bf7-641e-431d-b0ba-d6be001d2f16",
   "metadata": {
    "papermill": {
     "duration": 0.010394,
     "end_time": "2023-02-17T16:04:30.278231",
     "exception": false,
     "start_time": "2023-02-17T16:04:30.267837",
     "status": "completed"
    },
    "tags": []
   },
   "source": [
    "## Generate changelog"
   ]
  },
  {
   "cell_type": "code",
   "execution_count": null,
   "id": "2fcca8f1",
   "metadata": {
    "papermill": {
     "duration": 0.091232,
     "end_time": "2023-02-17T16:04:30.379637",
     "exception": false,
     "start_time": "2023-02-17T16:04:30.288405",
     "status": "completed"
    },
    "tags": []
   },
   "outputs": [],
   "source": [
    "if previous_df is None:\n",
    "    print('Skipped')\n",
    "else:\n",
    "    changelog = generate_changelog(previous_df, full_df, col = 'Name')\n",
    "    if not changelog.empty:\n",
    "        display(changelog)\n",
    "        changelog.to_csv(f'../data/speed_changelog_{timestamp.isoformat(timespec=\"minutes\")}_{previous_ts.isoformat(timespec=\"minutes\")}.csv', index = True)\n",
    "        print('Changelog saved')"
   ]
  },
  {
   "cell_type": "markdown",
   "id": "f39835c2-7259-48b8-bf68-04624f16c8b6",
   "metadata": {
    "papermill": {
     "duration": 0.010693,
     "end_time": "2023-02-17T16:04:30.401230",
     "exception": false,
     "start_time": "2023-02-17T16:04:30.390537",
     "status": "completed"
    },
    "tags": []
   },
   "source": [
    "# Data visualization"
   ]
  },
  {
   "cell_type": "code",
   "execution_count": null,
   "id": "8ecc9568-d30c-452e-b5d4-d08390bc19ba",
   "metadata": {
    "papermill": {
     "duration": 0.130364,
     "end_time": "2023-02-17T16:04:30.542814",
     "exception": false,
     "start_time": "2023-02-17T16:04:30.412450",
     "status": "completed"
    },
    "tags": []
   },
   "outputs": [],
   "source": [
    "full_df"
   ]
  },
  {
   "cell_type": "markdown",
   "id": "4aab5adb-de31-4735-9e3d-4aa976e11ece",
   "metadata": {
    "papermill": {
     "duration": 0.011329,
     "end_time": "2023-02-17T16:04:30.567452",
     "exception": false,
     "start_time": "2023-02-17T16:04:30.556123",
     "status": "completed"
    },
    "tags": []
   },
   "source": [
    "## Property"
   ]
  },
  {
   "cell_type": "code",
   "execution_count": null,
   "id": "22f1dd60-6967-4139-8f6d-8ddd122508b0",
   "metadata": {
    "papermill": {
     "duration": 0.02307,
     "end_time": "2023-02-17T16:04:30.602092",
     "exception": false,
     "start_time": "2023-02-17T16:04:30.579022",
     "status": "completed"
    },
    "tags": []
   },
   "outputs": [],
   "source": [
    "full_df['Property'].nunique()"
   ]
  },
  {
   "cell_type": "code",
   "execution_count": null,
   "id": "3008e3c7-b0a9-46af-8ccf-e93cada9e07a",
   "metadata": {
    "papermill": {
     "duration": 0.025808,
     "end_time": "2023-02-17T16:04:30.639558",
     "exception": false,
     "start_time": "2023-02-17T16:04:30.613750",
     "status": "completed"
    },
    "tags": []
   },
   "outputs": [],
   "source": [
    "full_df['Property'].value_counts()"
   ]
  },
  {
   "cell_type": "markdown",
   "id": "554753ed-43a9-426f-aafa-3e9a56b6ecde",
   "metadata": {
    "papermill": {
     "duration": 0.011271,
     "end_time": "2023-02-17T16:04:30.662649",
     "exception": false,
     "start_time": "2023-02-17T16:04:30.651378",
     "status": "completed"
    },
    "tags": []
   },
   "source": [
    "## Archseries"
   ]
  },
  {
   "cell_type": "code",
   "execution_count": null,
   "id": "3c4ec027-4f63-4b5d-aafe-f1b414a10fd8",
   "metadata": {
    "papermill": {
     "duration": 0.02479,
     "end_time": "2023-02-17T16:04:30.699447",
     "exception": false,
     "start_time": "2023-02-17T16:04:30.674657",
     "status": "completed"
    },
    "tags": []
   },
   "outputs": [],
   "source": [
    "full_df['Archseries'].explode().nunique()"
   ]
  },
  {
   "cell_type": "code",
   "execution_count": null,
   "id": "d4c79469-cf13-46a2-a30d-cbc24aa66a72",
   "metadata": {
    "papermill": {
     "duration": 0.029987,
     "end_time": "2023-02-17T16:04:30.741778",
     "exception": false,
     "start_time": "2023-02-17T16:04:30.711791",
     "status": "completed"
    },
    "tags": []
   },
   "outputs": [],
   "source": [
    "full_df['Archseries'].explode().value_counts()"
   ]
  },
  {
   "cell_type": "markdown",
   "id": "edd6956f-bcb6-4883-8360-3affe25eb313",
   "metadata": {
    "papermill": {
     "duration": 0.01149,
     "end_time": "2023-02-17T16:04:30.765773",
     "exception": false,
     "start_time": "2023-02-17T16:04:30.754283",
     "status": "completed"
    },
    "tags": []
   },
   "source": [
    "## TCG Speed Duel status"
   ]
  },
  {
   "cell_type": "code",
   "execution_count": null,
   "id": "ed36d03b-bd56-4d8d-8f0f-2fc473ea1e21",
   "metadata": {
    "papermill": {
     "duration": 0.02538,
     "end_time": "2023-02-17T16:04:30.803579",
     "exception": false,
     "start_time": "2023-02-17T16:04:30.778199",
     "status": "completed"
    },
    "tags": []
   },
   "outputs": [],
   "source": [
    "full_df['TCG Speed Duel status'].nunique()"
   ]
  },
  {
   "cell_type": "code",
   "execution_count": null,
   "id": "2d30f094-b764-4912-a4d4-0cc23d12652e",
   "metadata": {
    "papermill": {
     "duration": 0.025473,
     "end_time": "2023-02-17T16:04:30.841623",
     "exception": false,
     "start_time": "2023-02-17T16:04:30.816150",
     "status": "completed"
    },
    "tags": []
   },
   "outputs": [],
   "source": [
    "full_df['TCG Speed Duel status'].value_counts()"
   ]
  },
  {
   "cell_type": "markdown",
   "id": "45aa508f-2940-4f04-8c4a-7dd7b28b84b3",
   "metadata": {
    "papermill": {
     "duration": 0.011997,
     "end_time": "2023-02-17T16:04:30.866290",
     "exception": false,
     "start_time": "2023-02-17T16:04:30.854293",
     "status": "completed"
    },
    "tags": []
   },
   "source": [
    "## TCG status"
   ]
  },
  {
   "cell_type": "code",
   "execution_count": null,
   "id": "308b2179-c671-4bbe-97e8-14401427a9a5",
   "metadata": {
    "papermill": {
     "duration": 0.02525,
     "end_time": "2023-02-17T16:04:30.904354",
     "exception": false,
     "start_time": "2023-02-17T16:04:30.879104",
     "status": "completed"
    },
    "tags": []
   },
   "outputs": [],
   "source": [
    "full_df['TCG status'].nunique()"
   ]
  },
  {
   "cell_type": "code",
   "execution_count": null,
   "id": "7c6394e4-b284-4676-a302-0cfb10169682",
   "metadata": {
    "papermill": {
     "duration": 0.034505,
     "end_time": "2023-02-17T16:04:30.951669",
     "exception": false,
     "start_time": "2023-02-17T16:04:30.917164",
     "status": "completed"
    },
    "tags": []
   },
   "outputs": [],
   "source": [
    "full_df['TCG status'].value_counts()"
   ]
  },
  {
   "cell_type": "markdown",
   "id": "2d62bfc4-0967-4ebe-b39a-172eb34e4968",
   "metadata": {
    "papermill": {
     "duration": 0.012767,
     "end_time": "2023-02-17T16:04:30.977629",
     "exception": false,
     "start_time": "2023-02-17T16:04:30.964862",
     "status": "completed"
    },
    "tags": []
   },
   "source": [
    "## Character"
   ]
  },
  {
   "cell_type": "code",
   "execution_count": null,
   "id": "ce5700d6-335d-4c89-89e5-2144e16e6316",
   "metadata": {
    "papermill": {
     "duration": 0.023991,
     "end_time": "2023-02-17T16:04:31.014829",
     "exception": false,
     "start_time": "2023-02-17T16:04:30.990838",
     "status": "completed"
    },
    "tags": []
   },
   "outputs": [],
   "source": [
    "skill_df['Character'].nunique()"
   ]
  },
  {
   "cell_type": "code",
   "execution_count": null,
   "id": "8a9be7a8-acb8-4770-aaa4-353883c1169e",
   "metadata": {
    "papermill": {
     "duration": 0.038737,
     "end_time": "2023-02-17T16:04:31.066884",
     "exception": false,
     "start_time": "2023-02-17T16:04:31.028147",
     "status": "completed"
    },
    "tags": []
   },
   "outputs": [],
   "source": [
    "skill_df['Character'].value_counts()"
   ]
  },
  {
   "cell_type": "markdown",
   "id": "de85b305-a301-4555-8446-ffe678453339",
   "metadata": {
    "papermill": {
     "duration": 0.015515,
     "end_time": "2023-02-17T16:04:31.096038",
     "exception": false,
     "start_time": "2023-02-17T16:04:31.080523",
     "status": "completed"
    },
    "tags": []
   },
   "source": [
    "# Epilogue"
   ]
  },
  {
   "cell_type": "code",
   "execution_count": null,
   "id": "20534761-da7b-478a-a7cb-b8cdd434f77e",
   "metadata": {
    "papermill": {
     "duration": 0.025105,
     "end_time": "2023-02-17T16:04:31.135390",
     "exception": false,
     "start_time": "2023-02-17T16:04:31.110285",
     "status": "completed"
    },
    "tags": []
   },
   "outputs": [],
   "source": [
    "footer()"
   ]
  },
  {
   "cell_type": "markdown",
   "id": "44415c04-18b0-4d1e-ac12-ec8e30bd08d8",
   "metadata": {
    "papermill": {
     "duration": 0.013425,
     "end_time": "2023-02-17T16:04:31.162605",
     "exception": false,
     "start_time": "2023-02-17T16:04:31.149180",
     "status": "completed"
    },
    "tags": []
   },
   "source": [
    "## HTML export"
   ]
  },
  {
   "cell_type": "code",
   "execution_count": null,
   "id": "00f871b4-5b9c-4092-b774-54aa01af999f",
   "metadata": {
    "papermill": {
     "duration": 0.040245,
     "end_time": "2023-02-17T16:04:31.216963",
     "exception": false,
     "start_time": "2023-02-17T16:04:31.176718",
     "status": "completed"
    },
    "tags": []
   },
   "outputs": [],
   "source": [
    "# Save notebook on disck before generating HTML report\n",
    "save_notebook()"
   ]
  },
  {
   "cell_type": "code",
   "execution_count": null,
   "id": "5ab72228-2db0-461d-8964-2ec516b619a7",
   "metadata": {
    "papermill": {
     "duration": 2.674494,
     "end_time": "2023-02-17T16:04:33.915796",
     "exception": false,
     "start_time": "2023-02-17T16:04:31.241302",
     "status": "completed"
    },
    "tags": []
   },
   "outputs": [],
   "source": [
    "! jupyter nbconvert Speed.ipynb --output-dir='../' --to=HTML --TagRemovePreprocessor.enabled=True --TagRemovePreprocessor.remove_cell_tags='exclude' --TemplateExporter.exclude_input=True --TemplateExporter.exclude_input_prompt=True --TemplateExporter.exclude_output_prompt=True"
   ]
  },
  {
   "cell_type": "markdown",
   "id": "167d76c1-a2fb-4635-9864-e7f515f7d059",
   "metadata": {
    "papermill": {
     "duration": 0.016884,
     "end_time": "2023-02-17T16:04:33.959118",
     "exception": false,
     "start_time": "2023-02-17T16:04:33.942234",
     "status": "completed"
    },
    "tags": [
     "exclude"
    ]
   },
   "source": [
    "## Git"
   ]
  },
  {
   "cell_type": "code",
   "execution_count": null,
   "id": "5861c149-66bb-4347-80ab-7483d9313dce",
   "metadata": {
    "papermill": {
     "duration": 0.619131,
     "end_time": "2023-02-17T16:04:34.605131",
     "exception": false,
     "start_time": "2023-02-17T16:04:33.986000",
     "status": "completed"
    },
    "tags": [
     "exclude"
    ]
   },
   "outputs": [],
   "source": [
    "! git add \"../*[Ss]peed*\""
   ]
  },
  {
   "cell_type": "code",
   "execution_count": null,
   "id": "dc0d112d-7937-4eba-a788-e8a134f8d5cf",
   "metadata": {
    "papermill": {
     "duration": 0.694381,
     "end_time": "2023-02-17T16:04:35.316620",
     "exception": false,
     "start_time": "2023-02-17T16:04:34.622239",
     "status": "completed"
    },
    "tags": [
     "exclude"
    ]
   },
   "outputs": [],
   "source": [
    "! git commit -m {\"'Speed duel update-\" + timestamp.isoformat() + \"'\"}"
   ]
  }
 ],
 "metadata": {
  "kernelspec": {
   "display_name": "Python 3 (ipykernel)",
   "language": "python",
   "name": "python3"
  },
  "language_info": {
   "codemirror_mode": {
    "name": "ipython",
    "version": 3
   },
   "file_extension": ".py",
   "mimetype": "text/x-python",
   "name": "python",
   "nbconvert_exporter": "python",
   "pygments_lexer": "ipython3",
   "version": "3.10.8"
  },
  "papermill": {
   "default_parameters": {},
   "duration": 25.019542,
   "end_time": "2023-02-17T16:04:36.158448",
   "environment_variables": {},
   "exception": null,
   "input_path": "Speed.ipynb",
   "output_path": "Speed.ipynb",
   "parameters": {},
   "start_time": "2023-02-17T16:04:11.138906",
   "version": "2.4.0"
  }
 },
 "nbformat": 4,
 "nbformat_minor": 5
}
