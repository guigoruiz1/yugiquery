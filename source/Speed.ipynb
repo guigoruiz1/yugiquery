{
 "cells": [
  {
   "cell_type": "code",
   "execution_count": null,
   "id": "db3fea09-dd17-4d4f-9751-4db442584d19",
   "metadata": {
    "papermill": {
     "duration": 12.760839,
     "end_time": "2023-02-28T16:07:30.777753",
     "exception": false,
     "start_time": "2023-02-28T16:07:18.016914",
     "status": "completed"
    },
    "tags": []
   },
   "outputs": [],
   "source": [
    "from yugiquery import *\n",
    "header('Speed Duel')"
   ]
  },
  {
   "cell_type": "markdown",
   "id": "f26c89c2-c447-43a2-997b-603775191de3",
   "metadata": {
    "papermill": {
     "duration": 0.033439,
     "end_time": "2023-02-28T16:07:30.828822",
     "exception": false,
     "start_time": "2023-02-28T16:07:30.795383",
     "status": "completed"
    },
    "tags": []
   },
   "source": [
    "---"
   ]
  },
  {
   "cell_type": "markdown",
   "id": "a938b6fe",
   "metadata": {
    "papermill": {
     "duration": 0.013363,
     "end_time": "2023-02-28T16:07:30.855557",
     "exception": false,
     "start_time": "2023-02-28T16:07:30.842194",
     "status": "completed"
    },
    "tags": []
   },
   "source": [
    "Table of Contents\n",
    "=================\n",
    "\n",
    "*   [1  Data aquisition](#Data-aquisition)\n",
    "    *   [1.1  Fetch online data](#Fetch-online-data)\n",
    "    *   [1.2  Merge data](#Merge-data)\n",
    "*   [2  Check changes](#Check-changes)\n",
    "    *   [2.1  Load previous data](#Load-previous-data)\n",
    "    *   [2.2  Generate changelog](#Generate-changelog)\n",
    "    *   [2.3  Save data](#Save-data)\n",
    "*   [3  Data visualization](#Data-visualization)\n",
    "    *   [3.1  Skill cards](#Skill-cards)\n",
    "        *   [3.1.1  Character](#Character)\n",
    "        *   [3.1.2  Property](#Property)\n",
    "    *   [3.2  Property](#Property)\n",
    "    *   [3.3  Archseries](#Archseries)\n",
    "    *   [3.4  TCG Speed Duel status](#TCG-Speed-Duel-status)\n",
    "        *   *   [3.4.0.1  By card type](#By-card-type)\n",
    "            *   [3.4.0.2  By monster type](#By-monster-type)\n",
    "            *   [3.4.0.3  By archseries](#By-archseries)\n",
    "        *   [3.4.1  TCG Speed Duel vs. TCG status](#TCG-Speed-Duel-vs.-TCG-status)\n",
    "*   [4  Epilogue](#Epilogue)\n",
    "    *   [4.1  HTML export](#HTML-export)\n",
    "<!--     *   [4.2  Git](#Git) -->"
   ]
  },
  {
   "cell_type": "markdown",
   "id": "952801c1-2126-4df2-ae95-e3f56fc801c1",
   "metadata": {
    "papermill": {
     "duration": 0.012865,
     "end_time": "2023-02-28T16:07:30.881448",
     "exception": false,
     "start_time": "2023-02-28T16:07:30.868583",
     "status": "completed"
    },
    "tags": []
   },
   "source": [
    "# Data aquisition"
   ]
  },
  {
   "cell_type": "markdown",
   "id": "99894266-9cec-4db3-bfe7-37572eed8dc6",
   "metadata": {
    "papermill": {
     "duration": 0.012735,
     "end_time": "2023-02-28T16:07:30.907740",
     "exception": false,
     "start_time": "2023-02-28T16:07:30.895005",
     "status": "completed"
    },
    "tags": []
   },
   "source": [
    "## Fetch online data"
   ]
  },
  {
   "cell_type": "code",
   "execution_count": null,
   "id": "10acd11f-8a8b-4650-a6aa-2b509d8ba596",
   "metadata": {
    "papermill": {
     "duration": 0.022189,
     "end_time": "2023-02-28T16:07:30.943748",
     "exception": false,
     "start_time": "2023-02-28T16:07:30.921559",
     "status": "completed"
    },
    "tags": []
   },
   "outputs": [],
   "source": [
    "# Timestamp\n",
    "timestamp = pd.Timestamp.now()"
   ]
  },
  {
   "cell_type": "code",
   "execution_count": null,
   "id": "4cf61b44-a485-4af9-9465-b4eb2431a730",
   "metadata": {
    "papermill": {
     "duration": 19.536839,
     "end_time": "2023-02-28T16:07:50.494438",
     "exception": false,
     "start_time": "2023-02-28T16:07:30.957599",
     "status": "completed"
    },
    "tags": []
   },
   "outputs": [],
   "source": [
    "# Fetch skill cards\n",
    "skill_df = fetch_skill()\n",
    "\n",
    "# Fetch deck cards\n",
    "speed_df = fetch_speed()"
   ]
  },
  {
   "cell_type": "markdown",
   "id": "5269bc32-88fc-4026-853b-a7b4015dd5c1",
   "metadata": {
    "jp-MarkdownHeadingCollapsed": true,
    "papermill": {
     "duration": 0.042955,
     "end_time": "2023-02-28T16:07:50.555741",
     "exception": false,
     "start_time": "2023-02-28T16:07:50.512786",
     "status": "completed"
    },
    "tags": []
   },
   "source": [
    "## Merge data"
   ]
  },
  {
   "cell_type": "code",
   "execution_count": null,
   "id": "13ccdd0c-f189-44f5-ab8b-c861098fd8ab",
   "metadata": {
    "papermill": {
     "duration": 0.052859,
     "end_time": "2023-02-28T16:07:50.622972",
     "exception": false,
     "start_time": "2023-02-28T16:07:50.570113",
     "status": "completed"
    },
    "tags": []
   },
   "outputs": [],
   "source": [
    "full_df = pd.concat([speed_df,skill_df], ignore_index=True, axis=0).sort_values('Name').reset_index(drop=True)\n",
    "print('Data merged')"
   ]
  },
  {
   "cell_type": "markdown",
   "id": "44e08025-ef2e-47d1-a77d-942a98c638eb",
   "metadata": {
    "papermill": {
     "duration": 0.014591,
     "end_time": "2023-02-28T16:07:50.652286",
     "exception": false,
     "start_time": "2023-02-28T16:07:50.637695",
     "status": "completed"
    },
    "tags": []
   },
   "source": [
    "# Check changes"
   ]
  },
  {
   "cell_type": "markdown",
   "id": "b4e572a4-6b11-46e8-96a8-dd7b88ff7ad4",
   "metadata": {
    "papermill": {
     "duration": 0.015516,
     "end_time": "2023-02-28T16:07:50.772764",
     "exception": false,
     "start_time": "2023-02-28T16:07:50.757248",
     "status": "completed"
    },
    "tags": []
   },
   "source": [
    "## Load previous data"
   ]
  },
  {
   "cell_type": "code",
   "execution_count": null,
   "id": "fb7dc6f8",
   "metadata": {
    "papermill": {
     "duration": 0.239069,
     "end_time": "2023-02-28T16:07:51.327130",
     "exception": false,
     "start_time": "2023-02-28T16:07:51.088061",
     "status": "completed"
    },
    "tags": []
   },
   "outputs": [],
   "source": [
    "# Get list of files\n",
    "files_list = sorted(glob.glob('../data/all_speed_*.csv'), key=os.path.getctime, reverse=True)\n",
    "# Get second newest file if exist\n",
    "if files_list:\n",
    "    latest_file = files_list[0]\n",
    "    # Load csv avoiding converting \"NA\" to NaN\n",
    "    previous_df = pd.read_csv(latest_file, dtype=object, keep_default_na=False, na_values=[''])\n",
    "    # Correct tuples\n",
    "    tuple_cols = ['Secondary type', 'Effect type', 'Archseries', 'Artwork']\n",
    "    for col in tuple_cols:\n",
    "        previous_df[col] = previous_df[col].dropna().apply(literal_eval)\n",
    "    # Force dtypes to match current df\n",
    "    previous_df = previous_df.astype(full_df[previous_df.columns.intersection(full_df.columns)].dtypes.to_dict())\n",
    "    previous_ts = pd.to_datetime(os.path.basename(latest_file).split('_')[-1].split('.csv')[0])\n",
    "    print('File loaded')\n",
    "else:\n",
    "    previous_df = None\n",
    "    print('No older files')"
   ]
  },
  {
   "cell_type": "markdown",
   "id": "6c263bf7-641e-431d-b0ba-d6be001d2f16",
   "metadata": {
    "papermill": {
     "duration": 0.015189,
     "end_time": "2023-02-28T16:07:51.357374",
     "exception": false,
     "start_time": "2023-02-28T16:07:51.342185",
     "status": "completed"
    },
    "tags": []
   },
   "source": [
    "## Generate changelog"
   ]
  },
  {
   "cell_type": "code",
   "execution_count": null,
   "id": "2fcca8f1",
   "metadata": {
    "papermill": {
     "duration": 0.101412,
     "end_time": "2023-02-28T16:07:51.473391",
     "exception": false,
     "start_time": "2023-02-28T16:07:51.371979",
     "status": "completed"
    },
    "tags": []
   },
   "outputs": [],
   "source": [
    "if previous_df is None:\n",
    "    changelog = None\n",
    "    print('Skipped')\n",
    "else:\n",
    "    changelog = generate_changelog(previous_df, full_df, col = 'Name')\n",
    "    if not changelog.empty:\n",
    "        display(changelog)\n",
    "        changelog.to_csv(f'../data/speed_changelog_{previous_ts.isoformat(timespec=\"minutes\")}_{timestamp.isoformat(timespec=\"minutes\")}.csv', index = True)\n",
    "        print('Changelog saved')"
   ]
  },
  {
   "cell_type": "markdown",
   "id": "75bdae54-3ee6-4a50-abd1-a20b3397a24d",
   "metadata": {
    "papermill": {
     "duration": 0.131401,
     "end_time": "2023-02-28T16:07:51.620762",
     "exception": false,
     "start_time": "2023-02-28T16:07:51.489361",
     "status": "completed"
    },
    "tags": []
   },
   "source": [
    "## Save data"
   ]
  },
  {
   "cell_type": "code",
   "execution_count": null,
   "id": "7508d7a5-8398-4596-9079-64cf9ebd6e77",
   "metadata": {
    "papermill": {
     "duration": 0.027021,
     "end_time": "2023-02-28T16:07:51.697237",
     "exception": false,
     "start_time": "2023-02-28T16:07:51.670216",
     "status": "completed"
    },
    "tags": []
   },
   "outputs": [],
   "source": [
    "if changelog is not None and changelog.empty:\n",
    "    print('No changes. New data not saved')\n",
    "else:\n",
    "    full_df.to_csv(f'../data/all_speed_{timestamp.isoformat(timespec=\"minutes\")}.csv', index=False)\n",
    "    print('Data saved')"
   ]
  },
  {
   "cell_type": "markdown",
   "id": "f39835c2-7259-48b8-bf68-04624f16c8b6",
   "metadata": {
    "papermill": {
     "duration": 0.0149,
     "end_time": "2023-02-28T16:07:51.727645",
     "exception": false,
     "start_time": "2023-02-28T16:07:51.712745",
     "status": "completed"
    },
    "tags": []
   },
   "source": [
    "# Data visualization"
   ]
  },
  {
   "cell_type": "code",
   "execution_count": null,
   "id": "8ecc9568-d30c-452e-b5d4-d08390bc19ba",
   "metadata": {
    "papermill": {
     "duration": 0.083959,
     "end_time": "2023-02-28T16:07:51.826538",
     "exception": false,
     "start_time": "2023-02-28T16:07:51.742579",
     "status": "completed"
    },
    "tags": []
   },
   "outputs": [],
   "source": [
    "full_df"
   ]
  },
  {
   "cell_type": "markdown",
   "id": "1401bf85-e4a1-4e8d-b51a-208469d1ea0d",
   "metadata": {
    "jp-MarkdownHeadingCollapsed": true,
    "papermill": {
     "duration": 0.016164,
     "end_time": "2023-02-28T16:07:51.858927",
     "exception": false,
     "start_time": "2023-02-28T16:07:51.842763",
     "status": "completed"
    },
    "tags": []
   },
   "source": [
    "## Skill cards"
   ]
  },
  {
   "cell_type": "markdown",
   "id": "2d62bfc4-0967-4ebe-b39a-172eb34e4968",
   "metadata": {
    "papermill": {
     "duration": 0.015348,
     "end_time": "2023-02-28T16:07:51.890170",
     "exception": false,
     "start_time": "2023-02-28T16:07:51.874822",
     "status": "completed"
    },
    "tags": []
   },
   "source": [
    "### Character"
   ]
  },
  {
   "cell_type": "code",
   "execution_count": null,
   "id": "ce5700d6-335d-4c89-89e5-2144e16e6316",
   "metadata": {
    "papermill": {
     "duration": 0.029158,
     "end_time": "2023-02-28T16:07:51.935583",
     "exception": false,
     "start_time": "2023-02-28T16:07:51.906425",
     "status": "completed"
    },
    "tags": []
   },
   "outputs": [],
   "source": [
    "print('Total number of characters portrayed in skill cards:', skill_df['Character'].nunique())"
   ]
  },
  {
   "cell_type": "code",
   "execution_count": null,
   "id": "31c4c673-ff6a-4d8e-8092-639fd9430283",
   "metadata": {
    "papermill": {
     "duration": 0.04456,
     "end_time": "2023-02-28T16:07:51.997255",
     "exception": false,
     "start_time": "2023-02-28T16:07:51.952695",
     "status": "completed"
    },
    "tags": []
   },
   "outputs": [],
   "source": [
    "skill_df.drop('Card type', axis=1).sort_values('Character')"
   ]
  },
  {
   "cell_type": "code",
   "execution_count": null,
   "id": "8a9be7a8-acb8-4770-aaa4-353883c1169e",
   "metadata": {
    "papermill": {
     "duration": 0.847529,
     "end_time": "2023-02-28T16:07:52.864968",
     "exception": false,
     "start_time": "2023-02-28T16:07:52.017439",
     "status": "completed"
    },
    "tags": []
   },
   "outputs": [],
   "source": [
    "skill_color = colors_dict['Skill Card']\n",
    "skill_df['Character'].value_counts().plot.bar(figsize = (18,6), grid = True, rot=90, color = skill_color, title = 'Character')\n",
    "plt.show()"
   ]
  },
  {
   "cell_type": "markdown",
   "id": "da7bcd77-29bd-4c35-94b6-9c94a0347d74",
   "metadata": {
    "papermill": {
     "duration": 0.088489,
     "end_time": "2023-02-28T16:07:52.973148",
     "exception": false,
     "start_time": "2023-02-28T16:07:52.884659",
     "status": "completed"
    },
    "tags": []
   },
   "source": [
    "### Property"
   ]
  },
  {
   "cell_type": "code",
   "execution_count": null,
   "id": "4701e5ca-642c-4b94-833c-05c134517ea5",
   "metadata": {
    "papermill": {
     "duration": 0.034125,
     "end_time": "2023-02-28T16:07:53.027346",
     "exception": false,
     "start_time": "2023-02-28T16:07:52.993221",
     "status": "completed"
    },
    "tags": []
   },
   "outputs": [],
   "source": [
    "print('Total number of properties:', skill_df['Property'].nunique())"
   ]
  },
  {
   "cell_type": "code",
   "execution_count": null,
   "id": "68dc87e6-2e87-4afe-b3ff-d042ecfeba39",
   "metadata": {
    "papermill": {
     "duration": 0.047301,
     "end_time": "2023-02-28T16:07:53.094361",
     "exception": false,
     "start_time": "2023-02-28T16:07:53.047060",
     "status": "completed"
    },
    "tags": []
   },
   "outputs": [],
   "source": [
    "skill_df.groupby('Property').nunique()"
   ]
  },
  {
   "cell_type": "code",
   "execution_count": null,
   "id": "de5c00b6-aa1b-4161-9528-0ecb84fe1c95",
   "metadata": {
    "papermill": {
     "duration": 0.267258,
     "end_time": "2023-02-28T16:07:53.381147",
     "exception": false,
     "start_time": "2023-02-28T16:07:53.113889",
     "status": "completed"
    },
    "tags": []
   },
   "outputs": [],
   "source": [
    "skill_color = colors_dict['Skill Card']\n",
    "skill_df['Property'].value_counts().plot.bar(figsize = (18,6), grid = True, rot=0, color = skill_color, title = 'Property')\n",
    "plt.show()"
   ]
  },
  {
   "cell_type": "markdown",
   "id": "4aab5adb-de31-4735-9e3d-4aa976e11ece",
   "metadata": {
    "jp-MarkdownHeadingCollapsed": true,
    "papermill": {
     "duration": 0.041886,
     "end_time": "2023-02-28T16:07:53.443656",
     "exception": false,
     "start_time": "2023-02-28T16:07:53.401770",
     "status": "completed"
    },
    "tags": []
   },
   "source": [
    "## Property"
   ]
  },
  {
   "cell_type": "code",
   "execution_count": null,
   "id": "0cf82c89-7bc7-4f6c-914d-1a577cf7bc4d",
   "metadata": {
    "papermill": {
     "duration": 0.036064,
     "end_time": "2023-02-28T16:07:53.500357",
     "exception": false,
     "start_time": "2023-02-28T16:07:53.464293",
     "status": "completed"
    },
    "tags": []
   },
   "outputs": [],
   "source": [
    "print('Total number of properties:', full_df['Property'].nunique())"
   ]
  },
  {
   "cell_type": "code",
   "execution_count": null,
   "id": "efbb94e7-b9d0-4ddf-953e-b8964b398808",
   "metadata": {
    "papermill": {
     "duration": 0.064556,
     "end_time": "2023-02-28T16:07:53.589067",
     "exception": false,
     "start_time": "2023-02-28T16:07:53.524511",
     "status": "completed"
    },
    "tags": []
   },
   "outputs": [],
   "source": [
    "full_df.groupby('Property').nunique()"
   ]
  },
  {
   "cell_type": "code",
   "execution_count": null,
   "id": "3008e3c7-b0a9-46af-8ccf-e93cada9e07a",
   "metadata": {
    "papermill": {
     "duration": 0.406222,
     "end_time": "2023-02-28T16:07:54.015964",
     "exception": false,
     "start_time": "2023-02-28T16:07:53.609742",
     "status": "completed"
    },
    "tags": []
   },
   "outputs": [],
   "source": [
    "property_unstack = full_df.groupby('Property')['Card type'].value_counts().unstack()\n",
    "skill_st_colors = [colors_dict[i] for i in property_unstack.columns]\n",
    "property_unstack.plot.bar(figsize = (18,6), stacked=True, grid = True, rot=45, color = skill_st_colors)\n",
    "plt.show()"
   ]
  },
  {
   "cell_type": "markdown",
   "id": "554753ed-43a9-426f-aafa-3e9a56b6ecde",
   "metadata": {
    "jp-MarkdownHeadingCollapsed": true,
    "papermill": {
     "duration": 0.04899,
     "end_time": "2023-02-28T16:07:54.089766",
     "exception": false,
     "start_time": "2023-02-28T16:07:54.040776",
     "status": "completed"
    },
    "tags": []
   },
   "source": [
    "## Archseries"
   ]
  },
  {
   "cell_type": "code",
   "execution_count": null,
   "id": "87cc22b3-0682-46b6-9aa5-0982a5ef933a",
   "metadata": {
    "papermill": {
     "duration": 0.05469,
     "end_time": "2023-02-28T16:07:54.167130",
     "exception": false,
     "start_time": "2023-02-28T16:07:54.112440",
     "status": "completed"
    },
    "tags": []
   },
   "outputs": [],
   "source": [
    "exploded_archseries = full_df.explode('Archseries')\n",
    "print('Total number of Archseries:', exploded_archseries['Archseries'].nunique())"
   ]
  },
  {
   "cell_type": "code",
   "execution_count": null,
   "id": "3c4ec027-4f63-4b5d-aafe-f1b414a10fd8",
   "metadata": {
    "papermill": {
     "duration": 0.072799,
     "end_time": "2023-02-28T16:07:54.264770",
     "exception": false,
     "start_time": "2023-02-28T16:07:54.191971",
     "status": "completed"
    },
    "tags": []
   },
   "outputs": [],
   "source": [
    "exploded_archseries.groupby('Archseries').nunique()"
   ]
  },
  {
   "cell_type": "code",
   "execution_count": null,
   "id": "d4c79469-cf13-46a2-a30d-cbc24aa66a72",
   "metadata": {
    "papermill": {
     "duration": 2.412532,
     "end_time": "2023-02-28T16:07:56.701336",
     "exception": false,
     "start_time": "2023-02-28T16:07:54.288804",
     "status": "completed"
    },
    "tags": []
   },
   "outputs": [],
   "source": [
    "exploded_archseries['Archseries'].value_counts().plot.barh(figsize = (10,50), grid = True, title = 'Archtypes/Series')\n",
    "plt.show()"
   ]
  },
  {
   "cell_type": "markdown",
   "id": "edd6956f-bcb6-4883-8360-3affe25eb313",
   "metadata": {
    "papermill": {
     "duration": 0.032204,
     "end_time": "2023-02-28T16:07:56.768834",
     "exception": false,
     "start_time": "2023-02-28T16:07:56.736630",
     "status": "completed"
    },
    "tags": []
   },
   "source": [
    "## TCG Speed Duel status"
   ]
  },
  {
   "cell_type": "code",
   "execution_count": null,
   "id": "88b93fca",
   "metadata": {
    "papermill": {
     "duration": 0.045765,
     "end_time": "2023-02-28T16:07:56.846402",
     "exception": false,
     "start_time": "2023-02-28T16:07:56.800637",
     "status": "completed"
    },
    "tags": []
   },
   "outputs": [],
   "source": [
    "print('Total number of TCG Speed Duel status:', full_df['TCG status'].nunique())"
   ]
  },
  {
   "cell_type": "code",
   "execution_count": null,
   "id": "2c69bec0",
   "metadata": {
    "papermill": {
     "duration": 0.07845,
     "end_time": "2023-02-28T16:07:56.957891",
     "exception": false,
     "start_time": "2023-02-28T16:07:56.879441",
     "status": "completed"
    },
    "tags": []
   },
   "outputs": [],
   "source": [
    "full_df.groupby('TCG Speed Duel status', dropna=False).nunique()"
   ]
  },
  {
   "cell_type": "code",
   "execution_count": null,
   "id": "add82403",
   "metadata": {
    "papermill": {
     "duration": 0.764356,
     "end_time": "2023-02-28T16:07:57.755617",
     "exception": false,
     "start_time": "2023-02-28T16:07:56.991261",
     "status": "completed"
    },
    "tags": []
   },
   "outputs": [],
   "source": [
    "full_df['TCG Speed Duel status'].value_counts(dropna = False).plot.bar(figsize = (18,6), logy=True, grid = True, rot=45, title = 'TCG status')\n",
    "plt.show()"
   ]
  },
  {
   "cell_type": "markdown",
   "id": "30911bce-0ed7-44e4-8776-03c69f960a63",
   "metadata": {
    "papermill": {
     "duration": 0.072544,
     "end_time": "2023-02-28T16:07:57.864143",
     "exception": false,
     "start_time": "2023-02-28T16:07:57.791599",
     "status": "completed"
    },
    "tags": []
   },
   "source": [
    "#### By card type"
   ]
  },
  {
   "cell_type": "code",
   "execution_count": null,
   "id": "12c444ed",
   "metadata": {
    "papermill": {
     "duration": 0.066225,
     "end_time": "2023-02-28T16:07:57.965120",
     "exception": false,
     "start_time": "2023-02-28T16:07:57.898895",
     "status": "completed"
    },
    "tags": []
   },
   "outputs": [],
   "source": [
    "# Remove unlimited\n",
    "tcg_speed_crosstab = pd.crosstab(full_df['Card type'], full_df['TCG Speed Duel status'])\n",
    "tcg_speed_crosstab"
   ]
  },
  {
   "cell_type": "code",
   "execution_count": null,
   "id": "8648b51e",
   "metadata": {
    "papermill": {
     "duration": 0.519903,
     "end_time": "2023-02-28T16:07:58.519442",
     "exception": false,
     "start_time": "2023-02-28T16:07:57.999539",
     "status": "completed"
    },
    "tags": []
   },
   "outputs": [],
   "source": [
    "plt.figure(figsize = (12,6))\n",
    "sns.heatmap(tcg_speed_crosstab[tcg_speed_crosstab>0], annot=True, fmt=\"g\", cmap='viridis', norm=mc.LogNorm())\n",
    "plt.show()"
   ]
  },
  {
   "cell_type": "markdown",
   "id": "f112238b-877f-467f-aaba-5742f024c820",
   "metadata": {
    "papermill": {
     "duration": 0.067849,
     "end_time": "2023-02-28T16:07:58.626748",
     "exception": false,
     "start_time": "2023-02-28T16:07:58.558899",
     "status": "completed"
    },
    "tags": []
   },
   "source": [
    "#### By monster type"
   ]
  },
  {
   "cell_type": "code",
   "execution_count": null,
   "id": "bb73564f",
   "metadata": {
    "papermill": {
     "duration": 0.065359,
     "end_time": "2023-02-28T16:07:58.727842",
     "exception": false,
     "start_time": "2023-02-28T16:07:58.662483",
     "status": "completed"
    },
    "tags": []
   },
   "outputs": [],
   "source": [
    "# Remove unlimited\n",
    "tcg_speed_crosstab_b = pd.crosstab(full_df['Monster type'], full_df['TCG Speed Duel status'])\n",
    "tcg_speed_crosstab_b"
   ]
  },
  {
   "cell_type": "code",
   "execution_count": null,
   "id": "dd5e826c",
   "metadata": {
    "papermill": {
     "duration": 0.570473,
     "end_time": "2023-02-28T16:07:59.334630",
     "exception": false,
     "start_time": "2023-02-28T16:07:58.764157",
     "status": "completed"
    },
    "tags": []
   },
   "outputs": [],
   "source": [
    "plt.figure(figsize = (20,5))\n",
    "sns.heatmap(tcg_speed_crosstab_b[tcg_speed_crosstab_b>0].T, annot=True, fmt=\"g\", cmap='viridis', square = True)\n",
    "plt.show()"
   ]
  },
  {
   "cell_type": "markdown",
   "id": "1ee91dde-4e18-4ff5-8400-37cf77cfd2fd",
   "metadata": {
    "papermill": {
     "duration": 0.049084,
     "end_time": "2023-02-28T16:07:59.421003",
     "exception": false,
     "start_time": "2023-02-28T16:07:59.371919",
     "status": "completed"
    },
    "tags": []
   },
   "source": [
    "#### By archseries"
   ]
  },
  {
   "cell_type": "code",
   "execution_count": null,
   "id": "05fc1f77",
   "metadata": {
    "papermill": {
     "duration": 0.104291,
     "end_time": "2023-02-28T16:07:59.563092",
     "exception": false,
     "start_time": "2023-02-28T16:07:59.458801",
     "status": "completed"
    },
    "tags": []
   },
   "outputs": [],
   "source": [
    "# Remove unlimited\n",
    "tcg_crosstab_c = pd.crosstab(exploded_archseries['Archseries'], exploded_archseries['TCG Speed Duel status'], margins = True)\n",
    "tcg_crosstab_c"
   ]
  },
  {
   "cell_type": "markdown",
   "id": "45aa508f-2940-4f04-8c4a-7dd7b28b84b3",
   "metadata": {
    "papermill": {
     "duration": 0.03697,
     "end_time": "2023-02-28T16:07:59.637145",
     "exception": false,
     "start_time": "2023-02-28T16:07:59.600175",
     "status": "completed"
    },
    "tags": []
   },
   "source": [
    "### TCG Speed Duel vs. TCG status"
   ]
  },
  {
   "cell_type": "code",
   "execution_count": null,
   "id": "14f2101b",
   "metadata": {
    "papermill": {
     "duration": 0.063665,
     "end_time": "2023-02-28T16:07:59.738010",
     "exception": false,
     "start_time": "2023-02-28T16:07:59.674345",
     "status": "completed"
    },
    "tags": []
   },
   "outputs": [],
   "source": [
    "cg_crosstab = pd.crosstab(full_df['TCG status'],full_df['TCG Speed Duel status'], dropna=False, margins = False)\n",
    "cg_crosstab"
   ]
  },
  {
   "cell_type": "code",
   "execution_count": null,
   "id": "d10c5c81",
   "metadata": {
    "papermill": {
     "duration": 0.537247,
     "end_time": "2023-02-28T16:08:00.312762",
     "exception": false,
     "start_time": "2023-02-28T16:07:59.775515",
     "status": "completed"
    },
    "tags": []
   },
   "outputs": [],
   "source": [
    "plt.figure(figsize = (10,8))\n",
    "sns.heatmap(cg_crosstab[cg_crosstab>0], annot=True, fmt=\"g\", cmap='viridis', square=True, norm=mc.LogNorm())\n",
    "plt.show()"
   ]
  },
  {
   "cell_type": "markdown",
   "id": "de85b305-a301-4555-8446-ffe678453339",
   "metadata": {
    "papermill": {
     "duration": 0.069088,
     "end_time": "2023-02-28T16:08:00.424575",
     "exception": false,
     "start_time": "2023-02-28T16:08:00.355487",
     "status": "completed"
    },
    "tags": []
   },
   "source": [
    "# Epilogue"
   ]
  },
  {
   "cell_type": "code",
   "execution_count": null,
   "id": "b1f53a3b-6c36-4b2e-912c-2e15c6253baa",
   "metadata": {
    "papermill": {
     "duration": 0.481169,
     "end_time": "2023-02-28T16:08:01.018674",
     "exception": false,
     "start_time": "2023-02-28T16:08:00.537505",
     "status": "completed"
    },
    "tags": []
   },
   "outputs": [],
   "source": [
    "benchmark('speed',timestamp)"
   ]
  },
  {
   "cell_type": "code",
   "execution_count": null,
   "id": "20534761-da7b-478a-a7cb-b8cdd434f77e",
   "metadata": {
    "papermill": {
     "duration": 0.141451,
     "end_time": "2023-02-28T16:08:01.199302",
     "exception": false,
     "start_time": "2023-02-28T16:08:01.057851",
     "status": "completed"
    },
    "tags": []
   },
   "outputs": [],
   "source": [
    "footer()"
   ]
  },
  {
   "cell_type": "markdown",
   "id": "44415c04-18b0-4d1e-ac12-ec8e30bd08d8",
   "metadata": {
    "papermill": {
     "duration": 0.127059,
     "end_time": "2023-02-28T16:08:01.524580",
     "exception": false,
     "start_time": "2023-02-28T16:08:01.397521",
     "status": "completed"
    },
    "tags": []
   },
   "source": [
    "## HTML export"
   ]
  },
  {
   "cell_type": "code",
   "execution_count": null,
   "id": "00f871b4-5b9c-4092-b774-54aa01af999f",
   "metadata": {
    "papermill": {
     "duration": 0.055893,
     "end_time": "2023-02-28T16:08:01.654024",
     "exception": false,
     "start_time": "2023-02-28T16:08:01.598131",
     "status": "completed"
    },
    "tags": []
   },
   "outputs": [],
   "source": [
    "# Save notebook on disck before generating HTML report\n",
    "save_notebook()"
   ]
  },
  {
   "cell_type": "code",
   "execution_count": null,
   "id": "5ab72228-2db0-461d-8964-2ec516b619a7",
   "metadata": {
    "papermill": {
     "duration": 2.799047,
     "end_time": "2023-02-28T16:08:04.490798",
     "exception": false,
     "start_time": "2023-02-28T16:08:01.691751",
     "status": "completed"
    },
    "tags": []
   },
   "outputs": [],
   "source": [
    "! jupyter nbconvert Speed.ipynb --output-dir='../' --to=HTML --TagRemovePreprocessor.enabled=True --TagRemovePreprocessor.remove_cell_tags='exclude' --TemplateExporter.exclude_input=True --TemplateExporter.exclude_input_prompt=True --TemplateExporter.exclude_output_prompt=True"
   ]
  },
  {
   "cell_type": "markdown",
   "id": "167d76c1-a2fb-4635-9864-e7f515f7d059",
   "metadata": {
    "papermill": {
     "duration": 0.039496,
     "end_time": "2023-02-28T16:08:04.606897",
     "exception": false,
     "start_time": "2023-02-28T16:08:04.567401",
     "status": "completed"
    },
    "tags": [
     "exclude"
    ]
   },
   "source": [
    "## Git"
   ]
  },
  {
   "cell_type": "code",
   "execution_count": null,
   "id": "5861c149-66bb-4347-80ab-7483d9313dce",
   "metadata": {
    "papermill": {
     "duration": 0.433642,
     "end_time": "2023-02-28T16:08:05.079466",
     "exception": false,
     "start_time": "2023-02-28T16:08:04.645824",
     "status": "completed"
    },
    "tags": [
     "exclude"
    ]
   },
   "outputs": [],
   "source": [
    "! git add \"../*[Ss]peed*\""
   ]
  },
  {
   "cell_type": "code",
   "execution_count": null,
   "id": "dc0d112d-7937-4eba-a788-e8a134f8d5cf",
   "metadata": {
    "papermill": {
     "duration": 0.537752,
     "end_time": "2023-02-28T16:08:05.686412",
     "exception": false,
     "start_time": "2023-02-28T16:08:05.148660",
     "status": "completed"
    },
    "tags": [
     "exclude"
    ]
   },
   "outputs": [],
   "source": [
    "! git commit -m {\"'Speed duel update-\" + timestamp.isoformat() + \"'\"}"
   ]
  }
 ],
 "metadata": {
  "kernelspec": {
   "display_name": "Python 3 (ipykernel)",
   "language": "python",
   "name": "python3"
  },
  "language_info": {
   "codemirror_mode": {
    "name": "ipython",
    "version": 3
   },
   "file_extension": ".py",
   "mimetype": "text/x-python",
   "name": "python",
   "nbconvert_exporter": "python",
   "pygments_lexer": "ipython3",
   "version": "3.10.8"
  },
  "papermill": {
   "default_parameters": {},
   "duration": 52.901616,
   "end_time": "2023-02-28T16:08:06.651015",
   "environment_variables": {},
   "exception": null,
   "input_path": "Speed.ipynb",
   "output_path": "Speed.ipynb",
   "parameters": {},
   "start_time": "2023-02-28T16:07:13.749399",
   "version": "2.4.0"
  },
  "toc": {
   "base_numbering": 1,
   "nav_menu": {},
   "number_sections": true,
   "sideBar": true,
   "skip_h1_title": false,
   "title_cell": "Table of Contents",
   "title_sidebar": "Contents",
   "toc_cell": true,
   "toc_position": {},
   "toc_section_display": true,
   "toc_window_display": false
  }
 },
 "nbformat": 4,
 "nbformat_minor": 5
}
