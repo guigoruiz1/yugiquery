{
 "cells": [
  {
   "cell_type": "code",
   "execution_count": null,
   "id": "0e08a9ff",
   "metadata": {
    "papermill": {
     "duration": 2.042207,
     "end_time": "2023-02-22T22:28:46.145801",
     "exception": false,
     "start_time": "2023-02-22T22:28:44.103594",
     "status": "completed"
    },
    "tags": []
   },
   "outputs": [],
   "source": [
    "from yugiquery import *\n",
    "header('Sets')"
   ]
  },
  {
   "cell_type": "markdown",
   "id": "26f4e8e5-1d0b-408d-994f-9022eca9cd4a",
   "metadata": {
    "papermill": {
     "duration": 0.034306,
     "end_time": "2023-02-22T22:28:46.205981",
     "exception": false,
     "start_time": "2023-02-22T22:28:46.171675",
     "status": "completed"
    },
    "tags": []
   },
   "source": [
    "---"
   ]
  },
  {
   "cell_type": "markdown",
   "id": "e921ed99",
   "metadata": {
    "papermill": {
     "duration": 0.023852,
     "end_time": "2023-02-22T22:28:46.254536",
     "exception": false,
     "start_time": "2023-02-22T22:28:46.230684",
     "status": "completed"
    },
    "tags": [],
    "toc": true
   },
   "source": [
    "Table of Contents\n",
    "=================\n",
    "\n",
    "*   [1  Data aquisition](#Data-aquisition)\n",
    "    *   [1.1  Fetch set lists](#Fetch-set-lists)\n",
    "    *   [1.2  Fetch set properties](#Fetch-set-properties)\n",
    "    *   [1.3  Merge data](#Merge-data)\n",
    "    *   [1.4  Save data](#Save-data)\n",
    "*   [3  Check changes](#Check-changes)\n",
    "    *   [3.1  Load previous data](#Load-previous-data)\n",
    "    *   [3.2  Generate changelog](#Generate-changelog)\n",
    "*   [4  Data visualization](#Data-visualization)\n",
    "    *   [4.1  Full data](#Full-data)\n",
    "    *   [4.2  Set](#Set)\n",
    "    *   [4.3  Card number](#Card-number)\n",
    "    *   [4.4  Name](#Name)\n",
    "    *   [4.5  Rarity](#Rarity)\n",
    "        *   [4.5.1  By unique](#By-unique)\n",
    "        *   [4.5.2  By combination](#By-combination)\n",
    "    *   [4.6  Print](#Print)\n",
    "    *   [4.7  Quantity](#Quantity)\n",
    "    *   [4.8  Region](#Region)\n",
    "    *   [4.9  Cover card](#Cover-card)\n",
    "    *   [4.10  Series](#Series)\n",
    "    *   [4.11  Set type](#Set-type)\n",
    "    *   [4.12  Release](#Release)\n",
    "        *   [4.12.1  By year](#By-year)\n",
    "        *   [4.12.2  By month](#By-month)\n",
    "        *   [4.12.3  By day](#By-day)\n",
    "        *   [4.12.4  By region](#By-region)\n",
    "        *   [4.12.5  By series](#By-series)\n",
    "        *   [4.12.6  By set type](#By-set-type)\n",
    "*   [5  Debug](#Debug)\n",
    "    *   [5.1  Has nan name/number](#Has-nan-name/number)\n",
    "    *   [5.2  Has nan rarity](#Has-nan-rarity)\n",
    "    *   [5.3  Has quantity as print](#Has-quantity-as-print)\n",
    "    *   [5.4  Has nan release](#Has-nan-release)\n",
    "    *   [5.5  Has print as rarity](#Has-print-as-rarity)\n",
    "    *   [5.6  Merge failed](#Merge-failed)\n",
    "*   [6  Epilogue](#Epilogue)\n",
    "    *   [6.1  HTML export](#HTML-export)\n",
    "<!-- *   [6.2  Git](#Git) -->"
   ]
  },
  {
   "cell_type": "markdown",
   "id": "3bd10f43-bd00-4bbf-943f-060106ee5bd7",
   "metadata": {
    "papermill": {
     "duration": 0.023404,
     "end_time": "2023-02-22T22:28:46.301891",
     "exception": false,
     "start_time": "2023-02-22T22:28:46.278487",
     "status": "completed"
    },
    "tags": []
   },
   "source": [
    "# Data aquisition"
   ]
  },
  {
   "cell_type": "markdown",
   "id": "c8867ddf-d23c-4257-b143-527fda774898",
   "metadata": {
    "papermill": {
     "duration": 0.023497,
     "end_time": "2023-02-22T22:28:46.348979",
     "exception": false,
     "start_time": "2023-02-22T22:28:46.325482",
     "status": "completed"
    },
    "tags": []
   },
   "source": [
    "## Fetch set lists"
   ]
  },
  {
   "cell_type": "code",
   "execution_count": null,
   "id": "31a6fca2",
   "metadata": {
    "code_folding": [],
    "papermill": {
     "duration": 206.833351,
     "end_time": "2023-02-22T22:32:13.205843",
     "exception": false,
     "start_time": "2023-02-22T22:28:46.372492",
     "status": "completed"
    },
    "tags": []
   },
   "outputs": [],
   "source": [
    "# Timestamp\n",
    "timestamp = pd.Timestamp.now()\n",
    "\n",
    "all_set_lists_df = fetch_all_set_lists()"
   ]
  },
  {
   "cell_type": "markdown",
   "id": "a08bddea-ae28-41f6-b261-1f4c9590dd17",
   "metadata": {
    "papermill": {
     "duration": 0.033082,
     "end_time": "2023-02-22T22:32:13.264154",
     "exception": false,
     "start_time": "2023-02-22T22:32:13.231072",
     "status": "completed"
    },
    "tags": []
   },
   "source": [
    "## Fetch set properties"
   ]
  },
  {
   "cell_type": "code",
   "execution_count": null,
   "id": "973ad01a-4a08-4c06-a8e4-526c4a753acf",
   "metadata": {
    "papermill": {
     "duration": 97.46855,
     "end_time": "2023-02-22T22:33:50.766525",
     "exception": false,
     "start_time": "2023-02-22T22:32:13.297975",
     "status": "completed"
    },
    "tags": []
   },
   "outputs": [],
   "source": [
    "# List of sets to ask\n",
    "sets = all_set_lists_df['Set'].unique()\n",
    "set_info_df = fetch_set_info(sets)"
   ]
  },
  {
   "cell_type": "markdown",
   "id": "d22af094-2e54-4bf9-ae90-f68f298c0e81",
   "metadata": {
    "papermill": {
     "duration": 0.06118,
     "end_time": "2023-02-22T22:33:50.853490",
     "exception": false,
     "start_time": "2023-02-22T22:33:50.792310",
     "status": "completed"
    },
    "tags": []
   },
   "source": [
    "## Merge data"
   ]
  },
  {
   "cell_type": "code",
   "execution_count": null,
   "id": "2d0917a0-c765-4e1c-acfb-5a3e7a917056",
   "metadata": {
    "papermill": {
     "duration": 49.320863,
     "end_time": "2023-02-22T22:34:40.200104",
     "exception": false,
     "start_time": "2023-02-22T22:33:50.879241",
     "status": "completed"
    },
    "tags": []
   },
   "outputs": [],
   "source": [
    "# Add properties to set lists\n",
    "all_set_lists_df = merge_set_info(all_set_lists_df,set_info_df)"
   ]
  },
  {
   "cell_type": "markdown",
   "id": "39765c14-4a38-448e-a606-b8c505a42e82",
   "metadata": {
    "papermill": {
     "duration": 0.025142,
     "end_time": "2023-02-22T22:34:43.895034",
     "exception": false,
     "start_time": "2023-02-22T22:34:43.869892",
     "status": "completed"
    },
    "tags": []
   },
   "source": [
    "# Check changes"
   ]
  },
  {
   "cell_type": "markdown",
   "id": "bf52d5e1-e6f1-4a37-a815-6cee1e406d44",
   "metadata": {
    "papermill": {
     "duration": 0.024797,
     "end_time": "2023-02-22T22:34:43.948907",
     "exception": false,
     "start_time": "2023-02-22T22:34:43.924110",
     "status": "completed"
    },
    "tags": []
   },
   "source": [
    "## Load previous data"
   ]
  },
  {
   "cell_type": "code",
   "execution_count": null,
   "id": "6f7bd55f-5d6c-44e6-a2c8-ea7309d3bead",
   "metadata": {
    "papermill": {
     "duration": 7.425094,
     "end_time": "2023-02-22T22:34:51.400169",
     "exception": false,
     "start_time": "2023-02-22T22:34:43.975075",
     "status": "completed"
    },
    "tags": []
   },
   "outputs": [],
   "source": [
    "# Get list of files\n",
    "files_list = sorted(glob.glob('../data/all_sets_*.csv'), key=os.path.getctime, reverse=True)\n",
    "# Get second newest file if exist\n",
    "if files_list:\n",
    "    latest_file = files_list[0]\n",
    "    # Load csv avoiding converting \"NA\" to NaN and force dtypes to match current df\n",
    "    previous_df = pd.read_csv(latest_file, dtype=object, keep_default_na=False, na_values=[''])\n",
    "    # Correct tuples\n",
    "    tuple_cols = ['Rarity', 'Cover card']\n",
    "    for col in tuple_cols:\n",
    "        previous_df[col] = previous_df[col].dropna().apply(literal_eval)\n",
    "    # Force dtypes to match current df\n",
    "    previous_df = previous_df.astype(all_set_lists_df[previous_df.columns.intersection(all_set_lists_df.columns)].dtypes.to_dict())\n",
    "    previous_ts = pd.to_datetime(os.path.basename(latest_file).split('_')[-1].split('.csv')[0])\n",
    "    print('File loaded')\n",
    "else:\n",
    "    previous_df = None\n",
    "    print('No older files')"
   ]
  },
  {
   "cell_type": "markdown",
   "id": "78f52677-69c8-4996-acd4-8856a1237bd2",
   "metadata": {
    "papermill": {
     "duration": 0.071381,
     "end_time": "2023-02-22T22:34:51.497583",
     "exception": false,
     "start_time": "2023-02-22T22:34:51.426202",
     "status": "completed"
    },
    "tags": []
   },
   "source": [
    "## Generate changelog"
   ]
  },
  {
   "cell_type": "code",
   "execution_count": null,
   "id": "ca3c037d-4e90-46d6-abdc-5b262c0e2926",
   "metadata": {
    "papermill": {
     "duration": 2.366368,
     "end_time": "2023-02-22T22:34:53.890763",
     "exception": false,
     "start_time": "2023-02-22T22:34:51.524395",
     "status": "completed"
    },
    "tags": []
   },
   "outputs": [],
   "source": [
    "if previous_df is None:\n",
    "    changelog = None\n",
    "    print('Skipped')\n",
    "else:\n",
    "    changelog = generate_changelog(previous_df, all_set_lists_df.drop('_merge', axis=1), col = 'Card number')\n",
    "    if not changelog.empty:\n",
    "        display(changelog)\n",
    "        changelog.to_csv(f'../data/sets_changelog_{previous_ts.isoformat(timespec=\"minutes\")}_{timestamp.isoformat(timespec=\"minutes\")}.csv', index = True)\n",
    "        print('Changelog saved')"
   ]
  },
  {
   "cell_type": "markdown",
   "id": "7c12db27-650d-401d-be56-d981118585f8",
   "metadata": {
    "papermill": {
     "duration": 0.025698,
     "end_time": "2023-02-22T22:34:40.295704",
     "exception": false,
     "start_time": "2023-02-22T22:34:40.270006",
     "status": "completed"
    },
    "tags": []
   },
   "source": [
    "## Save data"
   ]
  },
  {
   "cell_type": "code",
   "execution_count": null,
   "id": "ab4ec21c-80ab-4282-ba86-f8653a49dfce",
   "metadata": {
    "papermill": {
     "duration": 3.521681,
     "end_time": "2023-02-22T22:34:43.843465",
     "exception": false,
     "start_time": "2023-02-22T22:34:40.321784",
     "status": "completed"
    },
    "tags": []
   },
   "outputs": [],
   "source": [
    "if changelog is not None and changelog.empty:\n",
    "    print('No changes. New data not saved')\n",
    "else:\n",
    "    all_set_lists_df.drop('_merge', axis=1).to_csv(f'../data/all_sets_{timestamp.isoformat(timespec=\"minutes\")}.csv', index = False)\n",
    "    print('Data saved')"
   ]
  },
  {
   "cell_type": "markdown",
   "id": "55e33fb0-39e9-421b-9cd3-5b2bf791f862",
   "metadata": {
    "papermill": {
     "duration": 0.041948,
     "end_time": "2023-02-22T22:34:53.958945",
     "exception": false,
     "start_time": "2023-02-22T22:34:53.916997",
     "status": "completed"
    },
    "tags": []
   },
   "source": [
    "# Data visualization"
   ]
  },
  {
   "cell_type": "markdown",
   "id": "b98cf64a-2d10-4bf2-b183-91551cb36db3",
   "metadata": {
    "papermill": {
     "duration": 0.026836,
     "end_time": "2023-02-22T22:34:54.028221",
     "exception": false,
     "start_time": "2023-02-22T22:34:54.001385",
     "status": "completed"
    },
    "tags": []
   },
   "source": [
    "## Full data"
   ]
  },
  {
   "cell_type": "code",
   "execution_count": null,
   "id": "6608021f-9057-4352-b182-0be3b87aad48",
   "metadata": {
    "papermill": {
     "duration": 0.068247,
     "end_time": "2023-02-22T22:34:54.123528",
     "exception": false,
     "start_time": "2023-02-22T22:34:54.055281",
     "status": "completed"
    },
    "tags": []
   },
   "outputs": [],
   "source": [
    "all_set_lists_df"
   ]
  },
  {
   "cell_type": "markdown",
   "id": "25b98b85-275c-4471-951d-d2e7710433e5",
   "metadata": {
    "papermill": {
     "duration": 0.026734,
     "end_time": "2023-02-22T22:34:54.177461",
     "exception": false,
     "start_time": "2023-02-22T22:34:54.150727",
     "status": "completed"
    },
    "tags": []
   },
   "source": [
    "Full data available [here](../data)"
   ]
  },
  {
   "cell_type": "markdown",
   "id": "f4a2b98c-b48b-42e1-a798-64e42b6619a4",
   "metadata": {
    "papermill": {
     "duration": 0.026817,
     "end_time": "2023-02-22T22:34:54.231465",
     "exception": false,
     "start_time": "2023-02-22T22:34:54.204648",
     "status": "completed"
    },
    "tags": []
   },
   "source": [
    "## Set"
   ]
  },
  {
   "cell_type": "code",
   "execution_count": null,
   "id": "a77a8dcc-ff14-4ddf-9b61-64c12e90378c",
   "metadata": {
    "papermill": {
     "duration": 0.070425,
     "end_time": "2023-02-22T22:34:54.328768",
     "exception": false,
     "start_time": "2023-02-22T22:34:54.258343",
     "status": "completed"
    },
    "tags": []
   },
   "outputs": [],
   "source": [
    "print('Total number of sets:', all_set_lists_df['Set'].nunique())"
   ]
  },
  {
   "cell_type": "code",
   "execution_count": null,
   "id": "e928e7d9-8eb3-442e-9c34-f35260faf008",
   "metadata": {
    "papermill": {
     "duration": 0.842705,
     "end_time": "2023-02-22T22:34:55.199306",
     "exception": false,
     "start_time": "2023-02-22T22:34:54.356601",
     "status": "completed"
    },
    "tags": []
   },
   "outputs": [],
   "source": [
    "all_set_lists_df.groupby('Set', dropna=False).nunique()"
   ]
  },
  {
   "cell_type": "code",
   "execution_count": null,
   "id": "ac2f53eb-6c6c-494c-90c9-5cc3eaf2ba31",
   "metadata": {
    "papermill": {
     "duration": 0.944894,
     "end_time": "2023-02-22T22:34:56.172156",
     "exception": false,
     "start_time": "2023-02-22T22:34:55.227262",
     "status": "completed"
    },
    "tags": []
   },
   "outputs": [],
   "source": [
    "all_set_lists_df.groupby('Set', dropna=False).nunique().describe()"
   ]
  },
  {
   "cell_type": "markdown",
   "id": "95df875c-fc95-4b4e-8a70-042bb3087a1f",
   "metadata": {
    "papermill": {
     "duration": 0.061817,
     "end_time": "2023-02-22T22:34:56.270906",
     "exception": false,
     "start_time": "2023-02-22T22:34:56.209089",
     "status": "completed"
    },
    "tags": []
   },
   "source": [
    "## Card number"
   ]
  },
  {
   "cell_type": "code",
   "execution_count": null,
   "id": "7a943862-a244-405a-b76d-b42e40f0331c",
   "metadata": {
    "papermill": {
     "duration": 0.270844,
     "end_time": "2023-02-22T22:34:56.744659",
     "exception": false,
     "start_time": "2023-02-22T22:34:56.473815",
     "status": "completed"
    },
    "tags": []
   },
   "outputs": [],
   "source": [
    "print('Total number of card numbers:', all_set_lists_df['Card number'].nunique())"
   ]
  },
  {
   "cell_type": "code",
   "execution_count": null,
   "id": "85b9f8df",
   "metadata": {
    "papermill": {
     "duration": 1.838447,
     "end_time": "2023-02-22T22:34:58.612367",
     "exception": false,
     "start_time": "2023-02-22T22:34:56.773920",
     "status": "completed"
    },
    "tags": []
   },
   "outputs": [],
   "source": [
    "all_set_lists_df.groupby('Card number', dropna=False).nunique()"
   ]
  },
  {
   "cell_type": "markdown",
   "id": "8a0cac8b-baa6-4b83-abee-889fd8a3c96e",
   "metadata": {
    "papermill": {
     "duration": 0.125363,
     "end_time": "2023-02-22T22:34:58.797259",
     "exception": false,
     "start_time": "2023-02-22T22:34:58.671896",
     "status": "completed"
    },
    "tags": []
   },
   "source": [
    "## Name"
   ]
  },
  {
   "cell_type": "code",
   "execution_count": null,
   "id": "70892c55-8542-4458-81c0-05143897ab68",
   "metadata": {
    "papermill": {
     "duration": 0.103858,
     "end_time": "2023-02-22T22:34:58.931230",
     "exception": false,
     "start_time": "2023-02-22T22:34:58.827372",
     "status": "completed"
    },
    "tags": []
   },
   "outputs": [],
   "source": [
    "print('Total number of card names:', all_set_lists_df['Name'].nunique())"
   ]
  },
  {
   "cell_type": "code",
   "execution_count": null,
   "id": "05e4eee4",
   "metadata": {
    "papermill": {
     "duration": 1.08146,
     "end_time": "2023-02-22T22:35:00.042649",
     "exception": false,
     "start_time": "2023-02-22T22:34:58.961189",
     "status": "completed"
    },
    "tags": []
   },
   "outputs": [],
   "source": [
    "all_set_lists_df.groupby('Name', dropna=False).nunique()"
   ]
  },
  {
   "cell_type": "code",
   "execution_count": null,
   "id": "829294db-e127-4bc2-bde4-333f4d45af5d",
   "metadata": {
    "papermill": {
     "duration": 1.137608,
     "end_time": "2023-02-22T22:35:01.211667",
     "exception": false,
     "start_time": "2023-02-22T22:35:00.074059",
     "status": "completed"
    },
    "tags": []
   },
   "outputs": [],
   "source": [
    "all_set_lists_df.groupby('Name', dropna=True).nunique().describe()"
   ]
  },
  {
   "cell_type": "markdown",
   "id": "dd7bf2b1-d469-4a3d-ad55-47dc7b9f202d",
   "metadata": {
    "papermill": {
     "duration": 0.039122,
     "end_time": "2023-02-22T22:35:01.537970",
     "exception": false,
     "start_time": "2023-02-22T22:35:01.498848",
     "status": "completed"
    },
    "tags": []
   },
   "source": [
    "## Rarity"
   ]
  },
  {
   "cell_type": "code",
   "execution_count": null,
   "id": "2b796fce-dcd1-4076-be70-25508a4adc14",
   "metadata": {
    "papermill": {
     "duration": 0.476209,
     "end_time": "2023-02-22T22:35:02.261576",
     "exception": false,
     "start_time": "2023-02-22T22:35:01.785367",
     "status": "completed"
    },
    "tags": []
   },
   "outputs": [],
   "source": [
    "print('Total number of rarities:', all_set_lists_df['Rarity'].explode().nunique())"
   ]
  },
  {
   "cell_type": "markdown",
   "id": "3897a616-0d08-40b9-b1bc-8f3ba248b5c2",
   "metadata": {
    "papermill": {
     "duration": 0.158353,
     "end_time": "2023-02-22T22:35:02.528351",
     "exception": false,
     "start_time": "2023-02-22T22:35:02.369998",
     "status": "completed"
    },
    "tags": []
   },
   "source": [
    "### By unique"
   ]
  },
  {
   "cell_type": "code",
   "execution_count": null,
   "id": "acc7d9ed-6877-4232-bdbd-ef1a7f4a829d",
   "metadata": {
    "papermill": {
     "duration": 2.196381,
     "end_time": "2023-02-22T22:35:04.793648",
     "exception": false,
     "start_time": "2023-02-22T22:35:02.597267",
     "status": "completed"
    },
    "tags": []
   },
   "outputs": [],
   "source": [
    "all_set_lists_df.explode('Rarity').groupby('Rarity', dropna = False).nunique()"
   ]
  },
  {
   "cell_type": "code",
   "execution_count": null,
   "id": "336a6f22-5e80-48e1-a22e-bb6fe61fcf01",
   "metadata": {
    "papermill": {
     "duration": 1.965431,
     "end_time": "2023-02-22T22:35:06.791456",
     "exception": false,
     "start_time": "2023-02-22T22:35:04.826025",
     "status": "completed"
    },
    "tags": []
   },
   "outputs": [],
   "source": [
    "all_set_lists_df['Rarity'].explode().value_counts().plot.barh(figsize = (10,20), grid=True)\n",
    "plt.xscale('log')\n",
    "plt.show()"
   ]
  },
  {
   "cell_type": "markdown",
   "id": "847e7fcb-4e95-4b81-b309-600aa04e6be7",
   "metadata": {
    "papermill": {
     "duration": 0.088718,
     "end_time": "2023-02-22T22:35:06.916149",
     "exception": false,
     "start_time": "2023-02-22T22:35:06.827431",
     "status": "completed"
    },
    "tags": []
   },
   "source": [
    "### By combination"
   ]
  },
  {
   "cell_type": "code",
   "execution_count": null,
   "id": "e4d79c33",
   "metadata": {
    "papermill": {
     "duration": 0.937957,
     "end_time": "2023-02-22T22:35:07.890628",
     "exception": false,
     "start_time": "2023-02-22T22:35:06.952671",
     "status": "completed"
    },
    "tags": []
   },
   "outputs": [],
   "source": [
    "all_set_lists_df.groupby('Rarity', dropna = False).nunique()"
   ]
  },
  {
   "cell_type": "code",
   "execution_count": null,
   "id": "5124c4f0-b00a-4a19-a174-bfa3a2915242",
   "metadata": {
    "papermill": {
     "duration": 3.803711,
     "end_time": "2023-02-22T22:35:11.736927",
     "exception": false,
     "start_time": "2023-02-22T22:35:07.933216",
     "status": "completed"
    },
    "tags": []
   },
   "outputs": [],
   "source": [
    "all_set_lists_df['Rarity'].value_counts().plot.barh(figsize = (10,40), grid=True)\n",
    "plt.xscale('log')\n",
    "plt.show()"
   ]
  },
  {
   "cell_type": "markdown",
   "id": "afae1f51-fd13-4a29-ae40-cd913524623c",
   "metadata": {
    "papermill": {
     "duration": 0.081937,
     "end_time": "2023-02-22T22:35:11.873225",
     "exception": false,
     "start_time": "2023-02-22T22:35:11.791288",
     "status": "completed"
    },
    "tags": []
   },
   "source": [
    "## Print"
   ]
  },
  {
   "cell_type": "code",
   "execution_count": null,
   "id": "254ba70a-9ee7-410e-9670-b10ce628b169",
   "metadata": {
    "papermill": {
     "duration": 0.161038,
     "end_time": "2023-02-22T22:35:12.088599",
     "exception": false,
     "start_time": "2023-02-22T22:35:11.927561",
     "status": "completed"
    },
    "tags": []
   },
   "outputs": [],
   "source": [
    "print('Total number of prints:', all_set_lists_df['Print'].nunique())"
   ]
  },
  {
   "cell_type": "code",
   "execution_count": null,
   "id": "3a576a96",
   "metadata": {
    "papermill": {
     "duration": 0.856346,
     "end_time": "2023-02-22T22:35:13.000082",
     "exception": false,
     "start_time": "2023-02-22T22:35:12.143736",
     "status": "completed"
    },
    "tags": []
   },
   "outputs": [],
   "source": [
    "all_set_lists_df.groupby('Print', dropna=False).nunique()"
   ]
  },
  {
   "cell_type": "code",
   "execution_count": null,
   "id": "1c369030-f5e8-4a48-a28c-0b878b9ff8ca",
   "metadata": {
    "papermill": {
     "duration": 0.921336,
     "end_time": "2023-02-22T22:35:13.977380",
     "exception": false,
     "start_time": "2023-02-22T22:35:13.056044",
     "status": "completed"
    },
    "tags": []
   },
   "outputs": [],
   "source": [
    "all_set_lists_df['Print'].value_counts().plot.bar(figsize = (18,6), grid=True, rot = 45)\n",
    "plt.yscale('log')\n",
    "plt.show()"
   ]
  },
  {
   "cell_type": "markdown",
   "id": "ff17d8cc-7842-41f4-95bc-061acd575426",
   "metadata": {
    "papermill": {
     "duration": 0.056089,
     "end_time": "2023-02-22T22:35:14.094559",
     "exception": false,
     "start_time": "2023-02-22T22:35:14.038470",
     "status": "completed"
    },
    "tags": []
   },
   "source": [
    "## Quantity"
   ]
  },
  {
   "cell_type": "code",
   "execution_count": null,
   "id": "5546c0c2-3c14-401a-96a0-8b6b182bc57a",
   "metadata": {
    "papermill": {
     "duration": 0.151476,
     "end_time": "2023-02-22T22:35:14.303625",
     "exception": false,
     "start_time": "2023-02-22T22:35:14.152149",
     "status": "completed"
    },
    "tags": []
   },
   "outputs": [],
   "source": [
    "print('Total number of quantities:', all_set_lists_df['Quantity'].nunique())"
   ]
  },
  {
   "cell_type": "code",
   "execution_count": null,
   "id": "0445fc65",
   "metadata": {
    "papermill": {
     "duration": 0.838723,
     "end_time": "2023-02-22T22:35:15.200212",
     "exception": false,
     "start_time": "2023-02-22T22:35:14.361489",
     "status": "completed"
    },
    "tags": []
   },
   "outputs": [],
   "source": [
    "all_set_lists_df.groupby('Quantity', dropna=False).nunique()"
   ]
  },
  {
   "cell_type": "markdown",
   "id": "cf8bed65-2680-4845-8258-d3eadd169f69",
   "metadata": {
    "papermill": {
     "duration": 0.075691,
     "end_time": "2023-02-22T22:35:15.335168",
     "exception": false,
     "start_time": "2023-02-22T22:35:15.259477",
     "status": "completed"
    },
    "tags": []
   },
   "source": [
    "## Region"
   ]
  },
  {
   "cell_type": "code",
   "execution_count": null,
   "id": "56ce1f02-4524-4584-885b-9d6e8121a76c",
   "metadata": {
    "papermill": {
     "duration": 0.094555,
     "end_time": "2023-02-22T22:35:15.489503",
     "exception": false,
     "start_time": "2023-02-22T22:35:15.394948",
     "status": "completed"
    },
    "tags": []
   },
   "outputs": [],
   "source": [
    "print('Total number of regions:', all_set_lists_df['Region'].nunique())"
   ]
  },
  {
   "cell_type": "code",
   "execution_count": null,
   "id": "af081e1d-a642-49e8-bce3-ccd035131c0b",
   "metadata": {
    "papermill": {
     "duration": 0.928117,
     "end_time": "2023-02-22T22:35:16.477197",
     "exception": false,
     "start_time": "2023-02-22T22:35:15.549080",
     "status": "completed"
    },
    "tags": []
   },
   "outputs": [],
   "source": [
    "all_set_lists_df.groupby('Region', dropna=False).nunique()"
   ]
  },
  {
   "cell_type": "code",
   "execution_count": null,
   "id": "8756dfb8-35fb-4c63-8c8b-097810d79e3c",
   "metadata": {
    "papermill": {
     "duration": 0.967353,
     "end_time": "2023-02-22T22:35:17.504955",
     "exception": false,
     "start_time": "2023-02-22T22:35:16.537602",
     "status": "completed"
    },
    "tags": []
   },
   "outputs": [],
   "source": [
    "all_set_lists_df.groupby('Region', dropna=False).nunique().describe()"
   ]
  },
  {
   "cell_type": "code",
   "execution_count": null,
   "id": "d0a1e8d7-26a7-4046-a14c-944f8871c05b",
   "metadata": {
    "papermill": {
     "duration": 0.407639,
     "end_time": "2023-02-22T22:35:17.973205",
     "exception": false,
     "start_time": "2023-02-22T22:35:17.565566",
     "status": "completed"
    },
    "tags": []
   },
   "outputs": [],
   "source": [
    "all_set_lists_df['Region'].value_counts().plot.bar(figsize = (18,6), grid=True, rot=0)\n",
    "plt.show()"
   ]
  },
  {
   "cell_type": "markdown",
   "id": "d14af727-aa5e-4326-8675-433d715c9aa8",
   "metadata": {
    "papermill": {
     "duration": 0.070515,
     "end_time": "2023-02-22T22:35:18.104302",
     "exception": false,
     "start_time": "2023-02-22T22:35:18.033787",
     "status": "completed"
    },
    "tags": []
   },
   "source": [
    "## Cover card"
   ]
  },
  {
   "cell_type": "code",
   "execution_count": null,
   "id": "4a30e731-507d-491e-99b7-b34fcbc4f20b",
   "metadata": {
    "papermill": {
     "duration": 0.41559,
     "end_time": "2023-02-22T22:35:18.587080",
     "exception": false,
     "start_time": "2023-02-22T22:35:18.171490",
     "status": "completed"
    },
    "tags": []
   },
   "outputs": [],
   "source": [
    "print('Total number of cover cards:', all_set_lists_df['Cover card'].explode('Cover card').nunique())"
   ]
  },
  {
   "cell_type": "code",
   "execution_count": null,
   "id": "6b7c3e7e-b70c-414a-a5ad-bd297771f1dd",
   "metadata": {
    "papermill": {
     "duration": 2.666008,
     "end_time": "2023-02-22T22:35:21.315362",
     "exception": false,
     "start_time": "2023-02-22T22:35:18.649354",
     "status": "completed"
    },
    "tags": []
   },
   "outputs": [],
   "source": [
    "all_set_lists_df.explode('Cover card').groupby('Cover card').nunique()"
   ]
  },
  {
   "cell_type": "code",
   "execution_count": null,
   "id": "294407de-9087-4e79-a7cb-a45366c212a1",
   "metadata": {
    "papermill": {
     "duration": 12.144352,
     "end_time": "2023-02-22T22:35:33.521243",
     "exception": false,
     "start_time": "2023-02-22T22:35:21.376891",
     "status": "completed"
    },
    "tags": []
   },
   "outputs": [],
   "source": [
    "all_set_lists_df['Cover card'].explode().value_counts().plot.barh(figsize = (10,180), grid=True)\n",
    "plt.show()"
   ]
  },
  {
   "cell_type": "markdown",
   "id": "4e958986-d855-4580-85ea-d417c6b358e9",
   "metadata": {
    "papermill": {
     "duration": 0.132692,
     "end_time": "2023-02-22T22:35:33.786180",
     "exception": false,
     "start_time": "2023-02-22T22:35:33.653488",
     "status": "completed"
    },
    "tags": []
   },
   "source": [
    "## Series"
   ]
  },
  {
   "cell_type": "code",
   "execution_count": null,
   "id": "e010b8bc-5ffd-4a6a-a2e4-307b0de3a4bb",
   "metadata": {
    "papermill": {
     "duration": 0.202935,
     "end_time": "2023-02-22T22:35:34.117342",
     "exception": false,
     "start_time": "2023-02-22T22:35:33.914407",
     "status": "completed"
    },
    "tags": []
   },
   "outputs": [],
   "source": [
    "print('Total number of series:', all_set_lists_df['Series'].nunique())"
   ]
  },
  {
   "cell_type": "code",
   "execution_count": null,
   "id": "a64f8d6c-d76f-4a7f-95a6-b3037fa91107",
   "metadata": {
    "papermill": {
     "duration": 0.939903,
     "end_time": "2023-02-22T22:35:35.189937",
     "exception": false,
     "start_time": "2023-02-22T22:35:34.250034",
     "status": "completed"
    },
    "tags": []
   },
   "outputs": [],
   "source": [
    "all_set_lists_df.groupby('Series').nunique()"
   ]
  },
  {
   "cell_type": "code",
   "execution_count": null,
   "id": "303f345a-508f-40a8-9eb1-9935115a8e6e",
   "metadata": {
    "papermill": {
     "duration": 1.110916,
     "end_time": "2023-02-22T22:35:36.431192",
     "exception": false,
     "start_time": "2023-02-22T22:35:35.320276",
     "status": "completed"
    },
    "tags": []
   },
   "outputs": [],
   "source": [
    "all_set_lists_df['Series'].value_counts().plot.barh(figsize = (10,15), grid=True)\n",
    "plt.show()"
   ]
  },
  {
   "cell_type": "markdown",
   "id": "b26530cf-f5e2-453f-a7ad-f516748ef16a",
   "metadata": {
    "jp-MarkdownHeadingCollapsed": true,
    "papermill": {
     "duration": 0.14902,
     "end_time": "2023-02-22T22:35:36.724959",
     "exception": false,
     "start_time": "2023-02-22T22:35:36.575939",
     "status": "completed"
    },
    "tags": []
   },
   "source": [
    "## Set type"
   ]
  },
  {
   "cell_type": "code",
   "execution_count": null,
   "id": "dd581283-b889-4572-ab89-0a2353f01ddd",
   "metadata": {
    "papermill": {
     "duration": 0.173099,
     "end_time": "2023-02-22T22:35:37.035889",
     "exception": false,
     "start_time": "2023-02-22T22:35:36.862790",
     "status": "completed"
    },
    "tags": []
   },
   "outputs": [],
   "source": [
    "print('Total number of set types:', all_set_lists_df['Set type'].nunique())"
   ]
  },
  {
   "cell_type": "code",
   "execution_count": null,
   "id": "2baa0c6a-baf5-4e4a-9bf2-2102295e876c",
   "metadata": {
    "papermill": {
     "duration": 0.956542,
     "end_time": "2023-02-22T22:35:38.127948",
     "exception": false,
     "start_time": "2023-02-22T22:35:37.171406",
     "status": "completed"
    },
    "tags": []
   },
   "outputs": [],
   "source": [
    "all_set_lists_df.groupby('Set type').nunique()"
   ]
  },
  {
   "cell_type": "code",
   "execution_count": null,
   "id": "b4465c2d-19c8-49a3-8c6a-eb6e16f7f711",
   "metadata": {
    "papermill": {
     "duration": 0.783048,
     "end_time": "2023-02-22T22:35:39.050527",
     "exception": false,
     "start_time": "2023-02-22T22:35:38.267479",
     "status": "completed"
    },
    "tags": []
   },
   "outputs": [],
   "source": [
    "set_info_df['Set type'].value_counts().plot.barh(figsize = (10,10), grid=True)\n",
    "plt.show()"
   ]
  },
  {
   "cell_type": "markdown",
   "id": "59ab414c-6e2a-4b71-9110-a62416d7e390",
   "metadata": {
    "papermill": {
     "duration": 0.140026,
     "end_time": "2023-02-22T22:35:39.334885",
     "exception": false,
     "start_time": "2023-02-22T22:35:39.194859",
     "status": "completed"
    },
    "tags": []
   },
   "source": [
    "## Release"
   ]
  },
  {
   "cell_type": "code",
   "execution_count": null,
   "id": "37648341-3420-4e9c-a3c4-e9e63b517c32",
   "metadata": {
    "papermill": {
     "duration": 0.16002,
     "end_time": "2023-02-22T22:35:39.634436",
     "exception": false,
     "start_time": "2023-02-22T22:35:39.474416",
     "status": "completed"
    },
    "tags": []
   },
   "outputs": [],
   "source": [
    "print('Total number of release dates:', all_set_lists_df['Release'].nunique())"
   ]
  },
  {
   "cell_type": "code",
   "execution_count": null,
   "id": "251efa78-66cd-492d-931a-74bf5008a31d",
   "metadata": {
    "papermill": {
     "duration": 1.018327,
     "end_time": "2023-02-22T22:35:40.796077",
     "exception": false,
     "start_time": "2023-02-22T22:35:39.777750",
     "status": "completed"
    },
    "tags": []
   },
   "outputs": [],
   "source": [
    "all_set_lists_df.groupby('Release', dropna=False).nunique()"
   ]
  },
  {
   "cell_type": "code",
   "execution_count": null,
   "id": "53dfbe7b-a712-4920-8ec7-1cb9c49f8930",
   "metadata": {
    "papermill": {
     "duration": 0.200602,
     "end_time": "2023-02-22T22:35:41.137883",
     "exception": false,
     "start_time": "2023-02-22T22:35:40.937281",
     "status": "completed"
    },
    "tags": []
   },
   "outputs": [],
   "source": [
    "set_by_release = pd.DataFrame(all_set_lists_df.groupby('Release', dropna=False)['Set'].nunique())"
   ]
  },
  {
   "cell_type": "markdown",
   "id": "00b59bc1-c809-4a3c-8fe5-c1efa509ea48",
   "metadata": {
    "papermill": {
     "duration": 0.141235,
     "end_time": "2023-02-22T22:35:41.431635",
     "exception": false,
     "start_time": "2023-02-22T22:35:41.290400",
     "status": "completed"
    },
    "tags": []
   },
   "source": [
    "### By year"
   ]
  },
  {
   "cell_type": "code",
   "execution_count": null,
   "id": "19c6c510-0e40-4c7b-b1b5-19869d5c296c",
   "metadata": {
    "papermill": {
     "duration": 1.196436,
     "end_time": "2023-02-22T22:35:42.825180",
     "exception": false,
     "start_time": "2023-02-22T22:35:41.628744",
     "status": "completed"
    },
    "tags": []
   },
   "outputs": [],
   "source": [
    "all_set_lists_df.drop('Modification date', axis=1).groupby('Release', dropna=False).nunique().groupby(set_by_release.index.strftime('%Y')).sum()"
   ]
  },
  {
   "cell_type": "code",
   "execution_count": null,
   "id": "fc6134ac-8c90-44e5-9461-9caccec72eca",
   "metadata": {
    "papermill": {
     "duration": 2.374574,
     "end_time": "2023-02-22T22:35:45.342705",
     "exception": false,
     "start_time": "2023-02-22T22:35:42.968131",
     "status": "completed"
    },
    "tags": []
   },
   "outputs": [],
   "source": [
    "rate_plot(set_by_release)"
   ]
  },
  {
   "cell_type": "markdown",
   "id": "1a453fb1-4971-4b2d-80d1-8cb4e9fe8d91",
   "metadata": {
    "papermill": {
     "duration": 0.145396,
     "end_time": "2023-02-22T22:35:45.640406",
     "exception": false,
     "start_time": "2023-02-22T22:35:45.495010",
     "status": "completed"
    },
    "tags": []
   },
   "source": [
    "### By month"
   ]
  },
  {
   "cell_type": "code",
   "execution_count": null,
   "id": "dc6517e9-0ab6-4a0a-b0ba-ffe6fa43855a",
   "metadata": {
    "papermill": {
     "duration": 0.496694,
     "end_time": "2023-02-22T22:35:46.285724",
     "exception": false,
     "start_time": "2023-02-22T22:35:45.789030",
     "status": "completed"
    },
    "tags": []
   },
   "outputs": [],
   "source": [
    "set_by_release.groupby(set_by_release.index.strftime('%B')).sum().sort_index(key=lambda x: pd.to_datetime(x, format='%B').month).plot.bar(figsize= (16,8), grid=True, xlabel = 'Release month', rot = 0)\n",
    "plt.show()"
   ]
  },
  {
   "cell_type": "code",
   "execution_count": null,
   "id": "36e2463e-83b1-418a-a5e4-fbda3b716f97",
   "metadata": {
    "papermill": {
     "duration": 1.035821,
     "end_time": "2023-02-22T22:35:47.472145",
     "exception": false,
     "start_time": "2023-02-22T22:35:46.436324",
     "status": "completed"
    },
    "tags": []
   },
   "outputs": [],
   "source": [
    "set_by_release.groupby(set_by_release.index.strftime('%d')).sum().plot.bar(figsize= (16,8), grid=True, xlabel = 'Release day of the month', rot = 0)\n",
    "plt.show()"
   ]
  },
  {
   "cell_type": "markdown",
   "id": "2b44c11e-6f63-48dd-9122-941068f50cc6",
   "metadata": {
    "papermill": {
     "duration": 0.145803,
     "end_time": "2023-02-22T22:35:47.765680",
     "exception": false,
     "start_time": "2023-02-22T22:35:47.619877",
     "status": "completed"
    },
    "tags": []
   },
   "source": [
    "### By day"
   ]
  },
  {
   "cell_type": "code",
   "execution_count": null,
   "id": "b33a17bb-8a47-41bf-977b-c4d89e81d814",
   "metadata": {
    "papermill": {
     "duration": 0.463807,
     "end_time": "2023-02-22T22:35:48.376212",
     "exception": false,
     "start_time": "2023-02-22T22:35:47.912405",
     "status": "completed"
    },
    "tags": []
   },
   "outputs": [],
   "source": [
    "set_by_release.groupby(set_by_release.index.dayofyear).sum().plot(figsize= (16,8), grid=True, xlabel = 'Release day of the year')\n",
    "plt.show()"
   ]
  },
  {
   "cell_type": "code",
   "execution_count": null,
   "id": "a40ee744-975c-42a8-9155-d8c0d0fbc209",
   "metadata": {
    "papermill": {
     "duration": 0.421884,
     "end_time": "2023-02-22T22:35:48.958180",
     "exception": false,
     "start_time": "2023-02-22T22:35:48.536296",
     "status": "completed"
    },
    "tags": []
   },
   "outputs": [],
   "source": [
    "set_by_release_wd = set_by_release.groupby(set_by_release.index.weekday).sum()\n",
    "set_by_release_wd.index = [calendar.day_name[i] for i in set_by_release_wd.index.astype(int)]\n",
    "set_by_release_wd.plot.bar(figsize= (16,8), grid=True, xlabel = 'Release day of the week', rot = 0)\n",
    "plt.show()"
   ]
  },
  {
   "cell_type": "markdown",
   "id": "5d1e240c-c712-4b39-8ed5-3ca1fe2cca9c",
   "metadata": {
    "papermill": {
     "duration": 0.158727,
     "end_time": "2023-02-22T22:35:49.266924",
     "exception": false,
     "start_time": "2023-02-22T22:35:49.108197",
     "status": "completed"
    },
    "tags": []
   },
   "source": [
    "### By region"
   ]
  },
  {
   "cell_type": "code",
   "execution_count": null,
   "id": "8d64abbe-da2c-4242-9db6-f63bdaf1c61d",
   "metadata": {
    "papermill": {
     "duration": 1.084063,
     "end_time": "2023-02-22T22:35:50.506362",
     "exception": false,
     "start_time": "2023-02-22T22:35:49.422299",
     "status": "completed"
    },
    "tags": []
   },
   "outputs": [],
   "source": [
    "by_release_region = all_set_lists_df.groupby(['Region','Release']).nunique()\n",
    "by_release_region"
   ]
  },
  {
   "cell_type": "code",
   "execution_count": null,
   "id": "6365aa88-656e-4c66-9325-79f933b27662",
   "metadata": {
    "papermill": {
     "duration": 0.218843,
     "end_time": "2023-02-22T22:35:50.876571",
     "exception": false,
     "start_time": "2023-02-22T22:35:50.657728",
     "status": "completed"
    },
    "tags": []
   },
   "outputs": [],
   "source": [
    "set_by_release_region = by_release_region['Set'].unstack(0).sort_index().fillna(0).astype(int)\n",
    "set_by_release_region_y = set_by_release_region.groupby(set_by_release_region.index.strftime('%Y')).sum().T\n",
    "set_by_release_region_y"
   ]
  },
  {
   "cell_type": "code",
   "execution_count": null,
   "id": "4ea33195-87ea-48e8-af5b-2281792bdcfb",
   "metadata": {
    "papermill": {
     "duration": 1.262955,
     "end_time": "2023-02-22T22:35:52.290656",
     "exception": false,
     "start_time": "2023-02-22T22:35:51.027701",
     "status": "completed"
    },
    "tags": []
   },
   "outputs": [],
   "source": [
    "plt.figure(figsize = (20,10))\n",
    "sns.heatmap(set_by_release_region_y[set_by_release_region_y>0], annot=True, fmt='g', cmap='viridis', square=True)\n",
    "plt.show()"
   ]
  },
  {
   "cell_type": "code",
   "execution_count": null,
   "id": "66f07fb9-5fc7-4c55-8ba3-b75bda610e89",
   "metadata": {
    "papermill": {
     "duration": 32.832632,
     "end_time": "2023-02-22T22:36:25.287259",
     "exception": false,
     "start_time": "2023-02-22T22:35:52.454627",
     "status": "completed"
    },
    "tags": []
   },
   "outputs": [],
   "source": [
    "rate_subplots(set_by_release_region, title='Set releases')"
   ]
  },
  {
   "cell_type": "markdown",
   "id": "9c7647f5-a954-40d9-8481-4f8dec29f5f1",
   "metadata": {
    "papermill": {
     "duration": 0.184216,
     "end_time": "2023-02-22T22:36:25.785957",
     "exception": false,
     "start_time": "2023-02-22T22:36:25.601741",
     "status": "completed"
    },
    "tags": []
   },
   "source": [
    "### By series"
   ]
  },
  {
   "cell_type": "code",
   "execution_count": null,
   "id": "ff1e673d-c515-4774-a993-d693de418e0a",
   "metadata": {
    "papermill": {
     "duration": 1.483653,
     "end_time": "2023-02-22T22:36:27.452603",
     "exception": false,
     "start_time": "2023-02-22T22:36:25.968950",
     "status": "completed"
    },
    "tags": []
   },
   "outputs": [],
   "source": [
    "by_release_series = all_set_lists_df.explode('Series').groupby(['Series','Release']).nunique()\n",
    "by_release_series"
   ]
  },
  {
   "cell_type": "code",
   "execution_count": null,
   "id": "e2853b51-5b73-43b0-a44c-e1f025640055",
   "metadata": {
    "papermill": {
     "duration": 0.259175,
     "end_time": "2023-02-22T22:36:27.902798",
     "exception": false,
     "start_time": "2023-02-22T22:36:27.643623",
     "status": "completed"
    },
    "tags": []
   },
   "outputs": [],
   "source": [
    "set_by_release_series = by_release_series['Set'].unstack(0).sort_index().fillna(0).astype(int)\n",
    "set_by_release_series_y = set_by_release_series.groupby(set_by_release_series.index.strftime('%Y')).sum().T\n",
    "set_by_release_series_y"
   ]
  },
  {
   "cell_type": "code",
   "execution_count": null,
   "id": "302c2746-3866-4564-ac2f-ba0164e7f799",
   "metadata": {
    "papermill": {
     "duration": 2.306042,
     "end_time": "2023-02-22T22:36:30.402936",
     "exception": false,
     "start_time": "2023-02-22T22:36:28.096894",
     "status": "completed"
    },
    "tags": []
   },
   "outputs": [],
   "source": [
    "plt.figure(figsize = (20,16))\n",
    "sns.heatmap(set_by_release_series_y[set_by_release_series_y>0], annot=True, fmt='g', cmap='viridis', square=True)\n",
    "plt.show()"
   ]
  },
  {
   "cell_type": "code",
   "execution_count": null,
   "id": "753e6cd5-2ea0-4f59-b9aa-070151f50e09",
   "metadata": {
    "papermill": {
     "duration": 125.564002,
     "end_time": "2023-02-22T22:38:36.221798",
     "exception": false,
     "start_time": "2023-02-22T22:36:30.657796",
     "status": "completed"
    },
    "tags": []
   },
   "outputs": [],
   "source": [
    "rate_subplots(set_by_release_series, title='Set releases')"
   ]
  },
  {
   "cell_type": "markdown",
   "id": "20454f30-596a-48c1-8fe8-08ed03a01bdc",
   "metadata": {
    "papermill": {
     "duration": 0.28774,
     "end_time": "2023-02-22T22:38:37.010626",
     "exception": false,
     "start_time": "2023-02-22T22:38:36.722886",
     "status": "completed"
    },
    "tags": []
   },
   "source": [
    "### By set type"
   ]
  },
  {
   "cell_type": "code",
   "execution_count": null,
   "id": "dc7b725b-3563-46e3-91b7-ffee643a2f6c",
   "metadata": {
    "papermill": {
     "duration": 1.684653,
     "end_time": "2023-02-22T22:38:38.982391",
     "exception": false,
     "start_time": "2023-02-22T22:38:37.297738",
     "status": "completed"
    },
    "tags": []
   },
   "outputs": [],
   "source": [
    "by_release_type = all_set_lists_df.explode('Set type').groupby(['Set type','Release']).nunique()\n",
    "by_release_type"
   ]
  },
  {
   "cell_type": "code",
   "execution_count": null,
   "id": "654fb9be-3bee-4878-9957-18af48c06d2b",
   "metadata": {
    "papermill": {
     "duration": 0.420206,
     "end_time": "2023-02-22T22:38:39.736616",
     "exception": false,
     "start_time": "2023-02-22T22:38:39.316410",
     "status": "completed"
    },
    "tags": []
   },
   "outputs": [],
   "source": [
    "set_by_release_type = by_release_type['Set'].unstack(0).sort_index().fillna(0).astype(int)\n",
    "set_by_release_type_y = set_by_release_type.groupby(set_by_release_type.index.strftime('%Y')).sum().T\n",
    "set_by_release_type_y"
   ]
  },
  {
   "cell_type": "code",
   "execution_count": null,
   "id": "c7f881fa-d769-4c83-a663-6f8a79cb1907",
   "metadata": {
    "papermill": {
     "duration": 2.407466,
     "end_time": "2023-02-22T22:38:42.447992",
     "exception": false,
     "start_time": "2023-02-22T22:38:40.040526",
     "status": "completed"
    },
    "tags": []
   },
   "outputs": [],
   "source": [
    "plt.figure(figsize = (20,16))\n",
    "sns.heatmap(set_by_release_type_y[set_by_release_type_y>0], annot=True, fmt='g', cmap='viridis', square=True)\n",
    "plt.show()"
   ]
  },
  {
   "cell_type": "code",
   "execution_count": null,
   "id": "a056c73e-9011-4b00-b993-7e72899abfc5",
   "metadata": {
    "papermill": {
     "duration": 93.535033,
     "end_time": "2023-02-22T22:40:16.357599",
     "exception": false,
     "start_time": "2023-02-22T22:38:42.822566",
     "status": "completed"
    },
    "tags": []
   },
   "outputs": [],
   "source": [
    "rate_subplots(set_by_release_type, title='Set releases')"
   ]
  },
  {
   "cell_type": "markdown",
   "id": "87158376-29ce-446a-8019-870cef12a427",
   "metadata": {
    "papermill": {
     "duration": 0.504133,
     "end_time": "2023-02-22T22:40:17.267631",
     "exception": false,
     "start_time": "2023-02-22T22:40:16.763498",
     "status": "completed"
    },
    "tags": []
   },
   "source": [
    "# Debug"
   ]
  },
  {
   "cell_type": "markdown",
   "id": "bb613435-0c31-4131-990f-38b1528895ee",
   "metadata": {
    "papermill": {
     "duration": 0.538567,
     "end_time": "2023-02-22T22:40:18.330090",
     "exception": false,
     "start_time": "2023-02-22T22:40:17.791523",
     "status": "completed"
    },
    "tags": []
   },
   "source": [
    "This section is used for debugging the extraction of data from MediaWiki query responses"
   ]
  },
  {
   "cell_type": "markdown",
   "id": "7e03ada7-b5d4-45b9-a2f0-e3529ffb8232",
   "metadata": {
    "papermill": {
     "duration": 0.466323,
     "end_time": "2023-02-22T22:40:19.273693",
     "exception": false,
     "start_time": "2023-02-22T22:40:18.807370",
     "status": "completed"
    },
    "tags": []
   },
   "source": [
    "## Has nan name/number"
   ]
  },
  {
   "cell_type": "code",
   "execution_count": null,
   "id": "3e635066-7b4f-45b5-9cff-e7989b5f820c",
   "metadata": {
    "papermill": {
     "duration": 0.527403,
     "end_time": "2023-02-22T22:40:20.214802",
     "exception": false,
     "start_time": "2023-02-22T22:40:19.687399",
     "status": "completed"
    },
    "tags": []
   },
   "outputs": [],
   "source": [
    "all_set_lists_df[all_set_lists_df['Name'].isna() | all_set_lists_df['Card number'].isna()]"
   ]
  },
  {
   "cell_type": "markdown",
   "id": "e8543cd1-14cc-4afe-937c-8ddad00e28ac",
   "metadata": {
    "papermill": {
     "duration": 0.411259,
     "end_time": "2023-02-22T22:40:21.094509",
     "exception": false,
     "start_time": "2023-02-22T22:40:20.683250",
     "status": "completed"
    },
    "tags": []
   },
   "source": [
    "## Has nan rarity"
   ]
  },
  {
   "cell_type": "code",
   "execution_count": null,
   "id": "902b60d0-8f15-4ad8-ad76-c937f0889c6a",
   "metadata": {
    "papermill": {
     "duration": 2.836026,
     "end_time": "2023-02-22T22:40:24.437112",
     "exception": false,
     "start_time": "2023-02-22T22:40:21.601086",
     "status": "completed"
    },
    "tags": []
   },
   "outputs": [],
   "source": [
    "all_set_lists_df.explode('Rarity')[all_set_lists_df.explode('Rarity')['Rarity'].isna()]['Set'].unique()"
   ]
  },
  {
   "cell_type": "markdown",
   "id": "330f97d2-0a01-4cf5-a2a5-2df2c08ffbc6",
   "metadata": {
    "papermill": {
     "duration": 0.508305,
     "end_time": "2023-02-22T22:40:25.422705",
     "exception": false,
     "start_time": "2023-02-22T22:40:24.914400",
     "status": "completed"
    },
    "tags": []
   },
   "source": [
    "## Has nan release"
   ]
  },
  {
   "cell_type": "code",
   "execution_count": null,
   "id": "dd4a54bc-ff61-4044-a480-272a75584e91",
   "metadata": {
    "papermill": {
     "duration": 0.54472,
     "end_time": "2023-02-22T22:40:26.358961",
     "exception": false,
     "start_time": "2023-02-22T22:40:25.814241",
     "status": "completed"
    },
    "tags": []
   },
   "outputs": [],
   "source": [
    "all_set_lists_df[all_set_lists_df['Release'].isna()]['Set'].unique()"
   ]
  },
  {
   "cell_type": "markdown",
   "id": "7a035371-3f6c-4c48-a7e9-5d79dfe7c493",
   "metadata": {
    "papermill": {
     "duration": 0.414933,
     "end_time": "2023-02-22T22:40:27.244231",
     "exception": false,
     "start_time": "2023-02-22T22:40:26.829298",
     "status": "completed"
    },
    "tags": []
   },
   "source": [
    "## Merge failed"
   ]
  },
  {
   "cell_type": "code",
   "execution_count": null,
   "id": "7464fb8b-e01d-4d48-ae5d-84d3827ac842",
   "metadata": {
    "papermill": {
     "duration": 0.444882,
     "end_time": "2023-02-22T22:40:28.152107",
     "exception": false,
     "start_time": "2023-02-22T22:40:27.707225",
     "status": "completed"
    },
    "tags": []
   },
   "outputs": [],
   "source": [
    "all_set_lists_df[all_set_lists_df['_merge']=='right_only']"
   ]
  },
  {
   "cell_type": "code",
   "execution_count": null,
   "id": "e4d242eb-2158-4f4f-9a7e-9baa4b043ab3",
   "metadata": {
    "papermill": {
     "duration": 0.443656,
     "end_time": "2023-02-22T22:40:29.010715",
     "exception": false,
     "start_time": "2023-02-22T22:40:28.567059",
     "status": "completed"
    },
    "tags": []
   },
   "outputs": [],
   "source": [
    "all_set_lists_df[all_set_lists_df['_merge']=='left_only']"
   ]
  },
  {
   "cell_type": "markdown",
   "id": "a5448b9b-6ecd-443f-9365-f3a686d4ca82",
   "metadata": {
    "papermill": {
     "duration": 0.441879,
     "end_time": "2023-02-22T22:40:29.895135",
     "exception": false,
     "start_time": "2023-02-22T22:40:29.453256",
     "status": "completed"
    },
    "tags": []
   },
   "source": [
    " # Epilogue"
   ]
  },
  {
   "cell_type": "code",
   "execution_count": null,
   "id": "4601223c-4c4f-4b93-a2bb-c95c1b380c13",
   "metadata": {
    "papermill": {
     "duration": 0.504069,
     "end_time": "2023-02-22T22:40:30.860005",
     "exception": false,
     "start_time": "2023-02-22T22:40:30.355936",
     "status": "completed"
    },
    "tags": []
   },
   "outputs": [],
   "source": [
    "benchmark('sets',timestamp)"
   ]
  },
  {
   "cell_type": "code",
   "execution_count": null,
   "id": "fcb1adf8-8e28-49e6-8162-45f102c511ee",
   "metadata": {
    "papermill": {
     "duration": 0.430432,
     "end_time": "2023-02-22T22:40:31.729196",
     "exception": false,
     "start_time": "2023-02-22T22:40:31.298764",
     "status": "completed"
    },
    "tags": []
   },
   "outputs": [],
   "source": [
    "footer()"
   ]
  },
  {
   "cell_type": "markdown",
   "id": "924c84f0-96b0-4575-82f0-e4d8af6e68e4",
   "metadata": {
    "papermill": {
     "duration": 0.460367,
     "end_time": "2023-02-22T22:40:32.626272",
     "exception": false,
     "start_time": "2023-02-22T22:40:32.165905",
     "status": "completed"
    },
    "tags": []
   },
   "source": [
    "## HTML export"
   ]
  },
  {
   "cell_type": "code",
   "execution_count": null,
   "id": "ad2aef41-90e8-4d7a-abdf-b3cab76f8945",
   "metadata": {
    "papermill": {
     "duration": 0.515775,
     "end_time": "2023-02-22T22:40:33.610997",
     "exception": false,
     "start_time": "2023-02-22T22:40:33.095222",
     "status": "completed"
    },
    "tags": []
   },
   "outputs": [],
   "source": [
    "# May need to sleep for a few seconds after saving\n",
    "save_notebook()"
   ]
  },
  {
   "cell_type": "code",
   "execution_count": null,
   "id": "b6a35c5d-b424-4820-8d26-8be29b50c546",
   "metadata": {
    "papermill": {
     "duration": 8.229593,
     "end_time": "2023-02-22T22:40:42.256448",
     "exception": false,
     "start_time": "2023-02-22T22:40:34.026855",
     "status": "completed"
    },
    "tags": []
   },
   "outputs": [],
   "source": [
    "! jupyter nbconvert Sets.ipynb --output-dir='../' --to=HTML --TagRemovePreprocessor.enabled=True --TagRemovePreprocessor.remove_cell_tags='exclude' --TemplateExporter.exclude_input=True --TemplateExporter.exclude_input_prompt=True --TemplateExporter.exclude_output_prompt=True"
   ]
  },
  {
   "cell_type": "markdown",
   "id": "a2b08f73-ccfd-4535-95cb-830d0ccdb9de",
   "metadata": {
    "papermill": {
     "duration": 0.379295,
     "end_time": "2023-02-22T22:40:43.085645",
     "exception": false,
     "start_time": "2023-02-22T22:40:42.706350",
     "status": "completed"
    },
    "tags": [
     "exclude"
    ]
   },
   "source": [
    "## Git"
   ]
  },
  {
   "cell_type": "code",
   "execution_count": null,
   "id": "cba1eb00-d9c2-491a-95b3-5ce0a0524d59",
   "metadata": {
    "papermill": {
     "duration": 4.469575,
     "end_time": "2023-02-22T22:40:47.990750",
     "exception": false,
     "start_time": "2023-02-22T22:40:43.521175",
     "status": "completed"
    },
    "tags": [
     "exclude"
    ]
   },
   "outputs": [],
   "source": [
    "! git add \"../*[Ss]ets[._]*\""
   ]
  },
  {
   "cell_type": "code",
   "execution_count": null,
   "id": "6f1f8303-30c6-4aaa-b45e-f6d5f5ece30e",
   "metadata": {
    "papermill": {
     "duration": 2.327786,
     "end_time": "2023-02-22T22:40:50.815791",
     "exception": false,
     "start_time": "2023-02-22T22:40:48.488005",
     "status": "completed"
    },
    "tags": [
     "exclude"
    ]
   },
   "outputs": [],
   "source": [
    "! git commit -m {\"'Sets update-\" + timestamp.isoformat() + \"'\"}"
   ]
  }
 ],
 "metadata": {
  "kernelspec": {
   "display_name": "Python 3 (ipykernel)",
   "language": "python",
   "name": "python3"
  },
  "language_info": {
   "codemirror_mode": {
    "name": "ipython",
    "version": 3
   },
   "file_extension": ".py",
   "mimetype": "text/x-python",
   "name": "python",
   "nbconvert_exporter": "python",
   "pygments_lexer": "ipython3",
   "version": "3.10.8"
  },
  "papermill": {
   "default_parameters": {},
   "duration": 731.060938,
   "end_time": "2023-02-22T22:40:53.831402",
   "environment_variables": {},
   "exception": null,
   "input_path": "Sets.ipynb",
   "output_path": "Sets.ipynb",
   "parameters": {},
   "start_time": "2023-02-22T22:28:42.770464",
   "version": "2.4.0"
  },
  "toc": {
   "base_numbering": 1,
   "nav_menu": {},
   "number_sections": true,
   "sideBar": true,
   "skip_h1_title": false,
   "title_cell": "Table of Contents",
   "title_sidebar": "Contents",
   "toc_cell": true,
   "toc_position": {
    "height": "calc(100% - 180px)",
    "left": "10px",
    "top": "150px",
    "width": "288px"
   },
   "toc_section_display": true,
   "toc_window_display": true
  },
  "toc-autonumbering": false,
  "toc-showcode": false,
  "toc-showmarkdowntxt": false,
  "toc-showtags": false
 },
 "nbformat": 4,
 "nbformat_minor": 5
}
