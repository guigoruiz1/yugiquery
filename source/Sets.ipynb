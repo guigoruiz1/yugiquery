{
 "cells": [
  {
   "cell_type": "code",
   "execution_count": null,
   "id": "0e08a9ff",
   "metadata": {
    "papermill": {
     "duration": 2.338598,
     "end_time": "2023-01-25T23:18:30.132141",
     "exception": false,
     "start_time": "2023-01-25T23:18:27.793543",
     "status": "completed"
    },
    "tags": []
   },
   "outputs": [
    {
     "data": {
      "text/markdown": [
       "<div align='center'>\n",
       "    <br>\n",
       "    <!-- Pre Style needed to fix HTML formatting -->\n",
       "    <pre style=\"line-height: var(--jp-code-line-height); font-family: var(--jp-code-font-family)\">\n",
       "    ██    ██ ██    ██  ██████  ██  ██████  ██    ██ ███████ ██████  ██    ██ \n",
       "     ██  ██  ██    ██ ██       ██ ██    ██ ██    ██ ██      ██   ██  ██  ██  \n",
       "      ████   ██    ██ ██   ███ ██ ██    ██ ██    ██ █████   ██████    ████   \n",
       "       ██    ██    ██ ██    ██ ██ ██ ▄▄ ██ ██    ██ ██      ██   ██    ██    \n",
       "       ██     ██████   ██████  ██  ██████   ██████  ███████ ██   ██    ██    \n",
       "                                      ▀▀                                     \n",
       "    </pre>\n",
       "</div>\n",
       "<div align='right'>\n",
       "    Sets - Execution started 26/01/2023 20:27 UTC <br>\n",
       "    By <b>Guilherme Ruiz</b>\n",
       "</div>"
      ],
      "text/plain": [
       "<IPython.core.display.Markdown object>"
      ]
     },
     "execution_count": 1,
     "metadata": {},
     "output_type": "execute_result"
    }
   ],
   "source": [
    "from yugiquery import *\n",
    "header('Sets')"
   ]
  },
  {
   "cell_type": "markdown",
   "id": "26f4e8e5-1d0b-408d-994f-9022eca9cd4a",
   "metadata": {
    "papermill": {
     "duration": 0.057409,
     "end_time": "2023-01-25T23:18:30.215558",
     "exception": false,
     "start_time": "2023-01-25T23:18:30.158149",
     "status": "completed"
    },
    "tags": []
   },
   "source": [
    "---"
   ]
  },
  {
   "cell_type": "markdown",
   "id": "e921ed99",
   "metadata": {
    "papermill": {
     "duration": 0.024618,
     "end_time": "2023-01-25T23:18:30.265405",
     "exception": false,
     "start_time": "2023-01-25T23:18:30.240787",
     "status": "completed"
    },
    "tags": [],
    "toc": true
   },
   "source": [
    "Table of Contents\n",
    "=================\n",
    "\n",
    "*   [1  Data aquisition](#Data-aquisition)\n",
    "    *   [1.1  Fetch set lists](#Fetch-set-lists)\n",
    "    *   [1.2  Fetch set properties](#Fetch-set-properties)\n",
    "    *   [1.3  Merge data](#Merge-data)\n",
    "    *   [1.4  Save data](#Save-data)\n",
    "*   [3  Check changes](#Check-changes)\n",
    "    *   [3.1  Load previous data](#Load-previous-data)\n",
    "    *   [3.2  Generate changelog](#Generate-changelog)\n",
    "*   [4  Data visualization](#Data-visualization)\n",
    "    *   [4.1  Full data](#Full-data)\n",
    "    *   [4.2  Set](#Set)\n",
    "    *   [4.3  Card number](#Card-number)\n",
    "    *   [4.4  Name](#Name)\n",
    "    *   [4.5  Rarity](#Rarity)\n",
    "        *   [4.5.1  By unique](#By-unique)\n",
    "        *   [4.5.2  By combination](#By-combination)\n",
    "    *   [4.6  Print](#Print)\n",
    "    *   [4.7  Quantity](#Quantity)\n",
    "    *   [4.8  Region](#Region)\n",
    "    *   [4.9  Cover card](#Cover-card)\n",
    "    *   [4.10  Series](#Series)\n",
    "    *   [4.11  Set type](#Set-type)\n",
    "    *   [4.12  Release](#Release)\n",
    "        *   [4.12.1  By year](#By-year)\n",
    "        *   [4.12.2  By month](#By-month)\n",
    "        *   [4.12.3  By day](#By-day)\n",
    "        *   [4.12.4  By region](#By-region)\n",
    "        *   [4.12.5  By series](#By-series)\n",
    "        *   [4.12.6  By set type](#By-set-type)\n",
    "*   [5  Debug](#Debug)\n",
    "    *   [5.1  Has nan name/number](#Has-nan-name/number)\n",
    "    *   [5.2  Has nan rarity](#Has-nan-rarity)\n",
    "    *   [5.3  Has quantity as print](#Has-quantity-as-print)\n",
    "    *   [5.4  Has nan release](#Has-nan-release)\n",
    "    *   [5.5  Has print as rarity](#Has-print-as-rarity)\n",
    "    *   [5.6  Merge failed](#Merge-failed)\n",
    "*   [6  Epilogue](#Epilogue)\n",
    "    *   [6.1  HTML export](#HTML-export)\n",
    "<!-- *   [6.2  Git](#Git) -->"
   ]
  },
  {
   "cell_type": "markdown",
   "id": "3bd10f43-bd00-4bbf-943f-060106ee5bd7",
   "metadata": {
    "papermill": {
     "duration": 0.024548,
     "end_time": "2023-01-25T23:18:30.315325",
     "exception": false,
     "start_time": "2023-01-25T23:18:30.290777",
     "status": "completed"
    },
    "tags": []
   },
   "source": [
    "# Data aquisition"
   ]
  },
  {
   "cell_type": "markdown",
   "id": "c8867ddf-d23c-4257-b143-527fda774898",
   "metadata": {
    "papermill": {
     "duration": 0.024852,
     "end_time": "2023-01-25T23:18:30.365516",
     "exception": false,
     "start_time": "2023-01-25T23:18:30.340664",
     "status": "completed"
    },
    "tags": []
   },
   "source": [
    "## Fetch set lists"
   ]
  },
  {
   "cell_type": "code",
   "execution_count": null,
   "id": "31a6fca2",
   "metadata": {
    "code_folding": [],
    "papermill": {
     "duration": 156.09494,
     "end_time": "2023-01-25T23:21:06.486630",
     "exception": false,
     "start_time": "2023-01-25T23:18:30.391690",
     "status": "completed"
    },
    "tags": []
   },
   "outputs": [
    {
     "data": {
      "application/vnd.jupyter.widget-view+json": {
       "model_id": "",
       "version_major": 2,
       "version_minor": 0
      },
      "text/plain": [
       "  0%|          | 0/80 [00:00<?, ?it/s]"
      ]
     },
     "metadata": {},
     "output_type": "display_data"
    },
    {
     "name": "stdout",
     "output_type": "stream",
     "text": [
      "4120 set lists received - 76 errors\n"
     ]
    }
   ],
   "source": [
    "# Timestamp\n",
    "timestamp = pd.Timestamp.now()\n",
    "\n",
    "all_set_lists_df = fetch_all_set_lists()"
   ]
  },
  {
   "cell_type": "markdown",
   "id": "a08bddea-ae28-41f6-b261-1f4c9590dd17",
   "metadata": {
    "papermill": {
     "duration": 0.059506,
     "end_time": "2023-01-25T23:21:06.572975",
     "exception": false,
     "start_time": "2023-01-25T23:21:06.513469",
     "status": "completed"
    },
    "tags": []
   },
   "source": [
    "## Fetch set properties"
   ]
  },
  {
   "cell_type": "code",
   "execution_count": null,
   "id": "973ad01a-4a08-4c06-a8e4-526c4a753acf",
   "metadata": {
    "papermill": {
     "duration": 79.309895,
     "end_time": "2023-01-25T23:22:25.910442",
     "exception": false,
     "start_time": "2023-01-25T23:21:06.600547",
     "status": "completed"
    },
    "tags": []
   },
   "outputs": [
    {
     "data": {
      "application/vnd.jupyter.widget-view+json": {
       "model_id": "",
       "version_major": 2,
       "version_minor": 0
      },
      "text/plain": [
       "  0%|          | 0/96 [00:00<?, ?it/s]"
      ]
     },
     "metadata": {},
     "output_type": "display_data"
    },
    {
     "name": "stdout",
     "output_type": "stream",
     "text": [
      "1430 set properties received - 3 errors\n"
     ]
    }
   ],
   "source": [
    "# List of sets to ask\n",
    "sets = all_set_lists_df['Set'].unique()  \n",
    "set_info_df = fetch_set_info(sets)"
   ]
  },
  {
   "cell_type": "markdown",
   "id": "d22af094-2e54-4bf9-ae90-f68f298c0e81",
   "metadata": {
    "papermill": {
     "duration": 0.025313,
     "end_time": "2023-01-25T23:22:25.962429",
     "exception": false,
     "start_time": "2023-01-25T23:22:25.937116",
     "status": "completed"
    },
    "tags": []
   },
   "source": [
    "## Merge data"
   ]
  },
  {
   "cell_type": "code",
   "execution_count": null,
   "id": "2d0917a0-c765-4e1c-acfb-5a3e7a917056",
   "metadata": {
    "papermill": {
     "duration": 39.615574,
     "end_time": "2023-01-25T23:23:05.691115",
     "exception": false,
     "start_time": "2023-01-25T23:22:26.075541",
     "status": "completed"
    },
    "tags": []
   },
   "outputs": [
    {
     "name": "stdout",
     "output_type": "stream",
     "text": [
      "Unexpected exception formatting exception. Falling back to standard exception\n"
     ]
    },
    {
     "name": "stderr",
     "output_type": "stream",
     "text": [
      "Traceback (most recent call last):\n",
      "  File \"/opt/conda/lib/python3.10/site-packages/IPython/core/interactiveshell.py\", line 3442, in run_code\n",
      "    exec(code_obj, self.user_global_ns, self.user_ns)\n",
      "  File \"/tmp/ipykernel_1320/3819812604.py\", line 2, in <module>\n",
      "    all_set_lists_df = merge_set_info(all_set_lists_df,set_info_df)\n",
      "  File \"/home/jovyan/yugiquery/source/yugiquery.py\", line 370, in merge_set_info\n",
      "    input_df['Release'] = input_df[['Set','Region']].apply(lambda x: input_info_df[regions_dict[x['Region']]+' release date'][x['Set']] if (x['Region'] in regions_dict.keys() and x['Set'] in input_info_df.index) else np.nan, axis = 1)\n",
      "  File \"/opt/conda/lib/python3.10/site-packages/pandas/core/frame.py\", line 9565, in apply\n",
      "    return op.apply().__finalize__(self, method=\"apply\")\n",
      "  File \"/opt/conda/lib/python3.10/site-packages/pandas/core/apply.py\", line 746, in apply\n",
      "    return self.apply_standard()\n",
      "  File \"/opt/conda/lib/python3.10/site-packages/pandas/core/apply.py\", line 873, in apply_standard\n",
      "    results, res_index = self.apply_series_generator()\n",
      "  File \"/opt/conda/lib/python3.10/site-packages/pandas/core/apply.py\", line -1, in apply_series_generator\n",
      "KeyboardInterrupt\n",
      "\n",
      "During handling of the above exception, another exception occurred:\n",
      "\n",
      "Traceback (most recent call last):\n",
      "  File \"/opt/conda/lib/python3.10/site-packages/IPython/core/interactiveshell.py\", line 2057, in showtraceback\n",
      "    stb = self.InteractiveTB.structured_traceback(\n",
      "  File \"/opt/conda/lib/python3.10/site-packages/IPython/core/ultratb.py\", line 1118, in structured_traceback\n",
      "    return FormattedTB.structured_traceback(\n",
      "  File \"/opt/conda/lib/python3.10/site-packages/IPython/core/ultratb.py\", line 1012, in structured_traceback\n",
      "    return VerboseTB.structured_traceback(\n",
      "  File \"/opt/conda/lib/python3.10/site-packages/IPython/core/ultratb.py\", line 865, in structured_traceback\n",
      "    formatted_exception = self.format_exception_as_a_whole(etype, evalue, etb, number_of_lines_of_context,\n",
      "  File \"/opt/conda/lib/python3.10/site-packages/IPython/core/ultratb.py\", line 818, in format_exception_as_a_whole\n",
      "    frames.append(self.format_record(r))\n",
      "  File \"/opt/conda/lib/python3.10/site-packages/IPython/core/ultratb.py\", line 736, in format_record\n",
      "    result += ''.join(_format_traceback_lines(frame_info.lines, Colors, self.has_colors, lvals))\n",
      "  File \"/opt/conda/lib/python3.10/site-packages/stack_data/utils.py\", line 144, in cached_property_wrapper\n",
      "    value = obj.__dict__[self.func.__name__] = self.func(obj)\n",
      "  File \"/opt/conda/lib/python3.10/site-packages/stack_data/core.py\", line 734, in lines\n",
      "    pieces = self.included_pieces\n",
      "  File \"/opt/conda/lib/python3.10/site-packages/stack_data/utils.py\", line 144, in cached_property_wrapper\n",
      "    value = obj.__dict__[self.func.__name__] = self.func(obj)\n",
      "  File \"/opt/conda/lib/python3.10/site-packages/stack_data/core.py\", line 681, in included_pieces\n",
      "    pos = scope_pieces.index(self.executing_piece)\n",
      "  File \"/opt/conda/lib/python3.10/site-packages/stack_data/utils.py\", line 144, in cached_property_wrapper\n",
      "    value = obj.__dict__[self.func.__name__] = self.func(obj)\n",
      "  File \"/opt/conda/lib/python3.10/site-packages/stack_data/core.py\", line 660, in executing_piece\n",
      "    return only(\n",
      "  File \"/opt/conda/lib/python3.10/site-packages/executing/executing.py\", line 190, in only\n",
      "    raise NotOneValueFound('Expected one value, found 0')\n",
      "executing.executing.NotOneValueFound: Expected one value, found 0\n"
     ]
    }
   ],
   "source": [
    "# Add properties to set lists\n",
    "all_set_lists_df = merge_set_info(all_set_lists_df,set_info_df)"
   ]
  },
  {
   "cell_type": "markdown",
   "id": "7c12db27-650d-401d-be56-d981118585f8",
   "metadata": {
    "papermill": {
     "duration": 0.026311,
     "end_time": "2023-01-25T23:23:05.782099",
     "exception": false,
     "start_time": "2023-01-25T23:23:05.755788",
     "status": "completed"
    },
    "tags": []
   },
   "source": [
    "## Save data"
   ]
  },
  {
   "cell_type": "code",
   "execution_count": null,
   "id": "ab4ec21c-80ab-4282-ba86-f8653a49dfce",
   "metadata": {
    "papermill": {
     "duration": 2.34442,
     "end_time": "2023-01-25T23:23:08.192050",
     "exception": false,
     "start_time": "2023-01-25T23:23:05.847630",
     "status": "completed"
    },
    "tags": []
   },
   "outputs": [],
   "source": [
    "all_set_lists_df.drop('_merge', axis=1).to_csv(f'../data/all_sets_{int(timestamp.timestamp())}.csv', index = False)\n",
    "print('Data saved')"
   ]
  },
  {
   "cell_type": "markdown",
   "id": "39765c14-4a38-448e-a606-b8c505a42e82",
   "metadata": {
    "papermill": {
     "duration": 0.063723,
     "end_time": "2023-01-25T23:23:08.282596",
     "exception": false,
     "start_time": "2023-01-25T23:23:08.218873",
     "status": "completed"
    },
    "tags": []
   },
   "source": [
    "# Check changes"
   ]
  },
  {
   "cell_type": "markdown",
   "id": "bf52d5e1-e6f1-4a37-a815-6cee1e406d44",
   "metadata": {
    "papermill": {
     "duration": 0.05486,
     "end_time": "2023-01-25T23:23:08.364770",
     "exception": false,
     "start_time": "2023-01-25T23:23:08.309910",
     "status": "completed"
    },
    "tags": []
   },
   "source": [
    "## Load previous data"
   ]
  },
  {
   "cell_type": "code",
   "execution_count": null,
   "id": "6f7bd55f-5d6c-44e6-a2c8-ea7309d3bead",
   "metadata": {
    "papermill": {
     "duration": 5.203841,
     "end_time": "2023-01-25T23:23:13.595406",
     "exception": false,
     "start_time": "2023-01-25T23:23:08.391565",
     "status": "completed"
    },
    "tags": []
   },
   "outputs": [],
   "source": [
    "# Get list of files\n",
    "files_list = sorted(glob.glob('../data/all_sets_*.csv'), key=os.path.getctime, reverse=True)\n",
    "# Get second newest file if exist\n",
    "if len(files_list)>1:\n",
    "    # Load csv avoiding converting \"NA\" to NaN and force dtypes to match current df\n",
    "    previous_df = pd.read_csv(files_list[1], dtype=object, keep_default_na=False, na_values=[''])\n",
    "    # Correct tuples\n",
    "    previous_df['Rarity'] = previous_df['Rarity'].dropna().apply(literal_eval)\n",
    "    previous_df['Cover card'] = previous_df['Cover card'].dropna().apply(literal_eval)\n",
    "    # Force dtypes to match current df\n",
    "    previous_df = previous_df.astype(all_set_lists_df[previous_df.columns].dtypes.to_dict())\n",
    "    print('File loaded')\n",
    "else:\n",
    "    previous_df = None\n",
    "    print('No older files')"
   ]
  },
  {
   "cell_type": "markdown",
   "id": "78f52677-69c8-4996-acd4-8856a1237bd2",
   "metadata": {
    "papermill": {
     "duration": 0.030932,
     "end_time": "2023-01-25T23:23:13.652261",
     "exception": false,
     "start_time": "2023-01-25T23:23:13.621329",
     "status": "completed"
    },
    "tags": []
   },
   "source": [
    "## Generate changelog"
   ]
  },
  {
   "cell_type": "code",
   "execution_count": null,
   "id": "ca3c037d-4e90-46d6-abdc-5b262c0e2926",
   "metadata": {
    "papermill": {
     "duration": 1.603156,
     "end_time": "2023-01-25T23:23:15.282304",
     "exception": false,
     "start_time": "2023-01-25T23:23:13.679148",
     "status": "completed"
    },
    "tags": []
   },
   "outputs": [],
   "source": [
    "if previous_df is None:\n",
    "    print('Skipped')\n",
    "else:\n",
    "    changelog = generate_changelog(previous_df, all_set_lists_df.drop('_merge', axis=1), col = 'Card number')\n",
    "    if not changelog.empty:\n",
    "        display(changelog)\n",
    "        changelog.to_csv(f'../data/sets_changelog_{timestamp.strftime(\"%Y%m%d\")}.csv', index = True)\n",
    "        print('Changelog saved')"
   ]
  },
  {
   "cell_type": "markdown",
   "id": "55e33fb0-39e9-421b-9cd3-5b2bf791f862",
   "metadata": {
    "papermill": {
     "duration": 0.028439,
     "end_time": "2023-01-25T23:23:15.337099",
     "exception": false,
     "start_time": "2023-01-25T23:23:15.308660",
     "status": "completed"
    },
    "tags": []
   },
   "source": [
    "# Data visualization"
   ]
  },
  {
   "cell_type": "markdown",
   "id": "b98cf64a-2d10-4bf2-b183-91551cb36db3",
   "metadata": {
    "papermill": {
     "duration": 0.025752,
     "end_time": "2023-01-25T23:23:15.389142",
     "exception": false,
     "start_time": "2023-01-25T23:23:15.363390",
     "status": "completed"
    },
    "tags": []
   },
   "source": [
    "## Full data"
   ]
  },
  {
   "cell_type": "code",
   "execution_count": 5,
   "id": "6608021f-9057-4352-b182-0be3b87aad48",
   "metadata": {
    "papermill": {
     "duration": 0.069178,
     "end_time": "2023-01-25T23:23:15.484798",
     "exception": false,
     "start_time": "2023-01-25T23:23:15.415620",
     "status": "completed"
    },
    "tags": []
   },
   "outputs": [
    {
     "data": {
      "text/html": [
       "<div>\n",
       "<style scoped>\n",
       "    .dataframe tbody tr th:only-of-type {\n",
       "        vertical-align: middle;\n",
       "    }\n",
       "\n",
       "    .dataframe tbody tr th {\n",
       "        vertical-align: top;\n",
       "    }\n",
       "\n",
       "    .dataframe thead th {\n",
       "        text-align: right;\n",
       "    }\n",
       "</style>\n",
       "<table border=\"1\" class=\"dataframe\">\n",
       "  <thead>\n",
       "    <tr style=\"text-align: right;\">\n",
       "      <th></th>\n",
       "      <th>Set</th>\n",
       "      <th>Card number</th>\n",
       "      <th>Name</th>\n",
       "      <th>Rarity</th>\n",
       "      <th>Print</th>\n",
       "      <th>Quantity</th>\n",
       "      <th>Region</th>\n",
       "    </tr>\n",
       "  </thead>\n",
       "  <tbody>\n",
       "    <tr>\n",
       "      <th>0</th>\n",
       "      <td>Abyss Rising Sneak Peek Participation Card</td>\n",
       "      <td>ABYR-ENSP1</td>\n",
       "      <td>Ignoble Knight of Black Laundsallyn</td>\n",
       "      <td>(Ultra Rare,)</td>\n",
       "      <td>&lt;NA&gt;</td>\n",
       "      <td>&lt;NA&gt;</td>\n",
       "      <td>EN</td>\n",
       "    </tr>\n",
       "    <tr>\n",
       "      <th>1</th>\n",
       "      <td>Ancient Sanctuary promotional cards</td>\n",
       "      <td>AST-KRPR1</td>\n",
       "      <td>Tualatin</td>\n",
       "      <td>(Secret Rare,)</td>\n",
       "      <td>&lt;NA&gt;</td>\n",
       "      <td>&lt;NA&gt;</td>\n",
       "      <td>KR</td>\n",
       "    </tr>\n",
       "    <tr>\n",
       "      <th>2</th>\n",
       "      <td>Ancient Sanctuary promotional cards</td>\n",
       "      <td>AST-KRPR2</td>\n",
       "      <td>Enemy Controller</td>\n",
       "      <td>(Secret Rare,)</td>\n",
       "      <td>&lt;NA&gt;</td>\n",
       "      <td>&lt;NA&gt;</td>\n",
       "      <td>KR</td>\n",
       "    </tr>\n",
       "    <tr>\n",
       "      <th>3</th>\n",
       "      <td>Anniversary Pack</td>\n",
       "      <td>YAP1-KR001</td>\n",
       "      <td>Blue-Eyes White Dragon</td>\n",
       "      <td>(Ultra Rare,)</td>\n",
       "      <td>&lt;NA&gt;</td>\n",
       "      <td>&lt;NA&gt;</td>\n",
       "      <td>KR</td>\n",
       "    </tr>\n",
       "    <tr>\n",
       "      <th>4</th>\n",
       "      <td>Anniversary Pack</td>\n",
       "      <td>YAP1-KR002</td>\n",
       "      <td>Red-Eyes Black Dragon</td>\n",
       "      <td>(Ultra Rare,)</td>\n",
       "      <td>&lt;NA&gt;</td>\n",
       "      <td>&lt;NA&gt;</td>\n",
       "      <td>KR</td>\n",
       "    </tr>\n",
       "    <tr>\n",
       "      <th>...</th>\n",
       "      <td>...</td>\n",
       "      <td>...</td>\n",
       "      <td>...</td>\n",
       "      <td>...</td>\n",
       "      <td>...</td>\n",
       "      <td>...</td>\n",
       "      <td>...</td>\n",
       "    </tr>\n",
       "    <tr>\n",
       "      <th>155061</th>\n",
       "      <td>Judge promotional cards</td>\n",
       "      <td>TKN4-EN036</td>\n",
       "      <td>Token</td>\n",
       "      <td>(Super Rare,)</td>\n",
       "      <td>&lt;NA&gt;</td>\n",
       "      <td>&lt;NA&gt;</td>\n",
       "      <td>EN</td>\n",
       "    </tr>\n",
       "    <tr>\n",
       "      <th>155062</th>\n",
       "      <td>Jump Festa 2004 promotional cards</td>\n",
       "      <td>PC3-006</td>\n",
       "      <td>Kycoo the Ghost Destroyer</td>\n",
       "      <td>(Common, Normal Parallel Rare)</td>\n",
       "      <td>&lt;NA&gt;</td>\n",
       "      <td>&lt;NA&gt;</td>\n",
       "      <td>JP</td>\n",
       "    </tr>\n",
       "    <tr>\n",
       "      <th>155063</th>\n",
       "      <td>Jump Festa 2004 promotional cards</td>\n",
       "      <td>PC3-007</td>\n",
       "      <td>Bazoo the Soul-Eater</td>\n",
       "      <td>(Common, Normal Parallel Rare)</td>\n",
       "      <td>&lt;NA&gt;</td>\n",
       "      <td>&lt;NA&gt;</td>\n",
       "      <td>JP</td>\n",
       "    </tr>\n",
       "    <tr>\n",
       "      <th>155064</th>\n",
       "      <td>Jump Festa 2005 promotional cards</td>\n",
       "      <td>PC5-JP007</td>\n",
       "      <td>Dark Balter the Terrible</td>\n",
       "      <td>(Common, Normal Parallel Rare)</td>\n",
       "      <td>&lt;NA&gt;</td>\n",
       "      <td>&lt;NA&gt;</td>\n",
       "      <td>JP</td>\n",
       "    </tr>\n",
       "    <tr>\n",
       "      <th>155065</th>\n",
       "      <td>Jump Festa 2005 promotional cards</td>\n",
       "      <td>PC5-JP008</td>\n",
       "      <td>Ryu Senshi</td>\n",
       "      <td>(Common, Normal Parallel Rare)</td>\n",
       "      <td>&lt;NA&gt;</td>\n",
       "      <td>&lt;NA&gt;</td>\n",
       "      <td>JP</td>\n",
       "    </tr>\n",
       "  </tbody>\n",
       "</table>\n",
       "<p>155066 rows × 7 columns</p>\n",
       "</div>"
      ],
      "text/plain": [
       "                                               Set Card number  \\\n",
       "0       Abyss Rising Sneak Peek Participation Card  ABYR-ENSP1   \n",
       "1              Ancient Sanctuary promotional cards   AST-KRPR1   \n",
       "2              Ancient Sanctuary promotional cards   AST-KRPR2   \n",
       "3                                 Anniversary Pack  YAP1-KR001   \n",
       "4                                 Anniversary Pack  YAP1-KR002   \n",
       "...                                            ...         ...   \n",
       "155061                     Judge promotional cards  TKN4-EN036   \n",
       "155062           Jump Festa 2004 promotional cards     PC3-006   \n",
       "155063           Jump Festa 2004 promotional cards     PC3-007   \n",
       "155064           Jump Festa 2005 promotional cards   PC5-JP007   \n",
       "155065           Jump Festa 2005 promotional cards   PC5-JP008   \n",
       "\n",
       "                                       Name                          Rarity  \\\n",
       "0       Ignoble Knight of Black Laundsallyn                   (Ultra Rare,)   \n",
       "1                                  Tualatin                  (Secret Rare,)   \n",
       "2                          Enemy Controller                  (Secret Rare,)   \n",
       "3                    Blue-Eyes White Dragon                   (Ultra Rare,)   \n",
       "4                     Red-Eyes Black Dragon                   (Ultra Rare,)   \n",
       "...                                     ...                             ...   \n",
       "155061                                Token                   (Super Rare,)   \n",
       "155062            Kycoo the Ghost Destroyer  (Common, Normal Parallel Rare)   \n",
       "155063                 Bazoo the Soul-Eater  (Common, Normal Parallel Rare)   \n",
       "155064             Dark Balter the Terrible  (Common, Normal Parallel Rare)   \n",
       "155065                           Ryu Senshi  (Common, Normal Parallel Rare)   \n",
       "\n",
       "       Print Quantity Region  \n",
       "0       <NA>     <NA>     EN  \n",
       "1       <NA>     <NA>     KR  \n",
       "2       <NA>     <NA>     KR  \n",
       "3       <NA>     <NA>     KR  \n",
       "4       <NA>     <NA>     KR  \n",
       "...      ...      ...    ...  \n",
       "155061  <NA>     <NA>     EN  \n",
       "155062  <NA>     <NA>     JP  \n",
       "155063  <NA>     <NA>     JP  \n",
       "155064  <NA>     <NA>     JP  \n",
       "155065  <NA>     <NA>     JP  \n",
       "\n",
       "[155066 rows x 7 columns]"
      ]
     },
     "execution_count": 5,
     "metadata": {},
     "output_type": "execute_result"
    }
   ],
   "source": [
    "all_set_lists_df"
   ]
  },
  {
   "cell_type": "markdown",
   "id": "25b98b85-275c-4471-951d-d2e7710433e5",
   "metadata": {
    "papermill": {
     "duration": 0.026669,
     "end_time": "2023-01-25T23:23:15.537845",
     "exception": false,
     "start_time": "2023-01-25T23:23:15.511176",
     "status": "completed"
    },
    "tags": []
   },
   "source": [
    "Full data available [here](../data)"
   ]
  },
  {
   "cell_type": "markdown",
   "id": "f4a2b98c-b48b-42e1-a798-64e42b6619a4",
   "metadata": {
    "jp-MarkdownHeadingCollapsed": true,
    "papermill": {
     "duration": 0.026592,
     "end_time": "2023-01-25T23:23:15.596134",
     "exception": false,
     "start_time": "2023-01-25T23:23:15.569542",
     "status": "completed"
    },
    "tags": []
   },
   "source": [
    "## Set"
   ]
  },
  {
   "cell_type": "code",
   "execution_count": null,
   "id": "a77a8dcc-ff14-4ddf-9b61-64c12e90378c",
   "metadata": {
    "papermill": {
     "duration": 0.05787,
     "end_time": "2023-01-25T23:23:15.680809",
     "exception": false,
     "start_time": "2023-01-25T23:23:15.622939",
     "status": "completed"
    },
    "tags": []
   },
   "outputs": [],
   "source": [
    "print('Total number of sets:', all_set_lists_df['Set'].nunique())"
   ]
  },
  {
   "cell_type": "code",
   "execution_count": null,
   "id": "e928e7d9-8eb3-442e-9c34-f35260faf008",
   "metadata": {
    "papermill": {
     "duration": 0.595968,
     "end_time": "2023-01-25T23:23:16.303872",
     "exception": false,
     "start_time": "2023-01-25T23:23:15.707904",
     "status": "completed"
    },
    "tags": []
   },
   "outputs": [],
   "source": [
    "all_set_lists_df.groupby('Set', dropna=False).nunique()"
   ]
  },
  {
   "cell_type": "code",
   "execution_count": null,
   "id": "ac2f53eb-6c6c-494c-90c9-5cc3eaf2ba31",
   "metadata": {
    "papermill": {
     "duration": 0.670452,
     "end_time": "2023-01-25T23:23:17.002557",
     "exception": false,
     "start_time": "2023-01-25T23:23:16.332105",
     "status": "completed"
    },
    "tags": []
   },
   "outputs": [],
   "source": [
    "all_set_lists_df.groupby('Set', dropna=False).nunique().describe()"
   ]
  },
  {
   "cell_type": "markdown",
   "id": "95df875c-fc95-4b4e-8a70-042bb3087a1f",
   "metadata": {
    "jp-MarkdownHeadingCollapsed": true,
    "papermill": {
     "duration": 0.061398,
     "end_time": "2023-01-25T23:23:17.092736",
     "exception": false,
     "start_time": "2023-01-25T23:23:17.031338",
     "status": "completed"
    },
    "tags": []
   },
   "source": [
    "## Card number"
   ]
  },
  {
   "cell_type": "code",
   "execution_count": null,
   "id": "7a943862-a244-405a-b76d-b42e40f0331c",
   "metadata": {
    "papermill": {
     "duration": 0.194995,
     "end_time": "2023-01-25T23:23:17.319425",
     "exception": false,
     "start_time": "2023-01-25T23:23:17.124430",
     "status": "completed"
    },
    "tags": []
   },
   "outputs": [],
   "source": [
    "print('Total number of card numbers:', all_set_lists_df['Card number'].nunique())"
   ]
  },
  {
   "cell_type": "code",
   "execution_count": null,
   "id": "85b9f8df",
   "metadata": {
    "papermill": {
     "duration": 1.292096,
     "end_time": "2023-01-25T23:23:18.643592",
     "exception": false,
     "start_time": "2023-01-25T23:23:17.351496",
     "status": "completed"
    },
    "tags": []
   },
   "outputs": [],
   "source": [
    "all_set_lists_df.groupby('Card number', dropna=False).nunique()"
   ]
  },
  {
   "cell_type": "markdown",
   "id": "8a0cac8b-baa6-4b83-abee-889fd8a3c96e",
   "metadata": {
    "jp-MarkdownHeadingCollapsed": true,
    "papermill": {
     "duration": 0.064676,
     "end_time": "2023-01-25T23:23:18.738182",
     "exception": false,
     "start_time": "2023-01-25T23:23:18.673506",
     "status": "completed"
    },
    "tags": []
   },
   "source": [
    "## Name"
   ]
  },
  {
   "cell_type": "code",
   "execution_count": null,
   "id": "70892c55-8542-4458-81c0-05143897ab68",
   "metadata": {
    "papermill": {
     "duration": 0.078111,
     "end_time": "2023-01-25T23:23:18.845218",
     "exception": false,
     "start_time": "2023-01-25T23:23:18.767107",
     "status": "completed"
    },
    "tags": []
   },
   "outputs": [],
   "source": [
    "print('Total number of card names:', all_set_lists_df['Name'].nunique())"
   ]
  },
  {
   "cell_type": "code",
   "execution_count": null,
   "id": "05e4eee4",
   "metadata": {
    "papermill": {
     "duration": 0.756514,
     "end_time": "2023-01-25T23:23:19.631333",
     "exception": false,
     "start_time": "2023-01-25T23:23:18.874819",
     "status": "completed"
    },
    "tags": []
   },
   "outputs": [],
   "source": [
    "all_set_lists_df.groupby('Name', dropna=False).nunique()"
   ]
  },
  {
   "cell_type": "code",
   "execution_count": null,
   "id": "829294db-e127-4bc2-bde4-333f4d45af5d",
   "metadata": {
    "papermill": {
     "duration": 0.839083,
     "end_time": "2023-01-25T23:23:20.500541",
     "exception": false,
     "start_time": "2023-01-25T23:23:19.661458",
     "status": "completed"
    },
    "tags": []
   },
   "outputs": [],
   "source": [
    "all_set_lists_df.groupby('Name', dropna=True).nunique().describe()"
   ]
  },
  {
   "cell_type": "markdown",
   "id": "dd7bf2b1-d469-4a3d-ad55-47dc7b9f202d",
   "metadata": {
    "papermill": {
     "duration": 0.073761,
     "end_time": "2023-01-25T23:23:20.604592",
     "exception": false,
     "start_time": "2023-01-25T23:23:20.530831",
     "status": "completed"
    },
    "tags": []
   },
   "source": [
    "## Rarity"
   ]
  },
  {
   "cell_type": "code",
   "execution_count": 6,
   "id": "2b796fce-dcd1-4076-be70-25508a4adc14",
   "metadata": {
    "papermill": {
     "duration": 0.290133,
     "end_time": "2023-01-25T23:23:20.925518",
     "exception": false,
     "start_time": "2023-01-25T23:23:20.635385",
     "status": "completed"
    },
    "tags": []
   },
   "outputs": [
    {
     "name": "stdout",
     "output_type": "stream",
     "text": [
      "Total number of rarities: 51\n"
     ]
    }
   ],
   "source": [
    "print('Total number of rarities:', all_set_lists_df['Rarity'].explode().nunique())"
   ]
  },
  {
   "cell_type": "markdown",
   "id": "3897a616-0d08-40b9-b1bc-8f3ba248b5c2",
   "metadata": {
    "papermill": {
     "duration": 0.031871,
     "end_time": "2023-01-25T23:23:20.988076",
     "exception": false,
     "start_time": "2023-01-25T23:23:20.956205",
     "status": "completed"
    },
    "tags": []
   },
   "source": [
    "### By unique"
   ]
  },
  {
   "cell_type": "code",
   "execution_count": 7,
   "id": "acc7d9ed-6877-4232-bdbd-ef1a7f4a829d",
   "metadata": {
    "papermill": {
     "duration": 1.380985,
     "end_time": "2023-01-25T23:23:22.399535",
     "exception": false,
     "start_time": "2023-01-25T23:23:21.018550",
     "status": "completed"
    },
    "tags": []
   },
   "outputs": [
    {
     "data": {
      "text/html": [
       "<div>\n",
       "<style scoped>\n",
       "    .dataframe tbody tr th:only-of-type {\n",
       "        vertical-align: middle;\n",
       "    }\n",
       "\n",
       "    .dataframe tbody tr th {\n",
       "        vertical-align: top;\n",
       "    }\n",
       "\n",
       "    .dataframe thead th {\n",
       "        text-align: right;\n",
       "    }\n",
       "</style>\n",
       "<table border=\"1\" class=\"dataframe\">\n",
       "  <thead>\n",
       "    <tr style=\"text-align: right;\">\n",
       "      <th></th>\n",
       "      <th>Set</th>\n",
       "      <th>Card number</th>\n",
       "      <th>Name</th>\n",
       "      <th>Print</th>\n",
       "      <th>Quantity</th>\n",
       "      <th>Region</th>\n",
       "    </tr>\n",
       "    <tr>\n",
       "      <th>Rarity</th>\n",
       "      <th></th>\n",
       "      <th></th>\n",
       "      <th></th>\n",
       "      <th></th>\n",
       "      <th></th>\n",
       "      <th></th>\n",
       "    </tr>\n",
       "  </thead>\n",
       "  <tbody>\n",
       "    <tr>\n",
       "      <th>10000 Secret Rare</th>\n",
       "      <td>2</td>\n",
       "      <td>7</td>\n",
       "      <td>1</td>\n",
       "      <td>1</td>\n",
       "      <td>0</td>\n",
       "      <td>7</td>\n",
       "    </tr>\n",
       "    <tr>\n",
       "      <th>20th Secret Rare</th>\n",
       "      <td>16</td>\n",
       "      <td>135</td>\n",
       "      <td>134</td>\n",
       "      <td>3</td>\n",
       "      <td>0</td>\n",
       "      <td>1</td>\n",
       "    </tr>\n",
       "    <tr>\n",
       "      <th>Collector's Rare</th>\n",
       "      <td>6</td>\n",
       "      <td>301</td>\n",
       "      <td>76</td>\n",
       "      <td>2</td>\n",
       "      <td>0</td>\n",
       "      <td>7</td>\n",
       "    </tr>\n",
       "    <tr>\n",
       "      <th>Collectors Rare</th>\n",
       "      <td>8</td>\n",
       "      <td>112</td>\n",
       "      <td>112</td>\n",
       "      <td>2</td>\n",
       "      <td>0</td>\n",
       "      <td>1</td>\n",
       "    </tr>\n",
       "    <tr>\n",
       "      <th>Common</th>\n",
       "      <td>562</td>\n",
       "      <td>76876</td>\n",
       "      <td>8592</td>\n",
       "      <td>6</td>\n",
       "      <td>3</td>\n",
       "      <td>17</td>\n",
       "    </tr>\n",
       "    <tr>\n",
       "      <th>Duel Terminal Normal Parallel Rare</th>\n",
       "      <td>38</td>\n",
       "      <td>1906</td>\n",
       "      <td>511</td>\n",
       "      <td>2</td>\n",
       "      <td>0</td>\n",
       "      <td>7</td>\n",
       "    </tr>\n",
       "    <tr>\n",
       "      <th>Duel Terminal Normal Rare Parallel Rare</th>\n",
       "      <td>5</td>\n",
       "      <td>15</td>\n",
       "      <td>15</td>\n",
       "      <td>0</td>\n",
       "      <td>0</td>\n",
       "      <td>1</td>\n",
       "    </tr>\n",
       "    <tr>\n",
       "      <th>Duel Terminal Rare Parallel Rare</th>\n",
       "      <td>34</td>\n",
       "      <td>368</td>\n",
       "      <td>141</td>\n",
       "      <td>2</td>\n",
       "      <td>0</td>\n",
       "      <td>2</td>\n",
       "    </tr>\n",
       "    <tr>\n",
       "      <th>Duel Terminal Secret Parallel Rare</th>\n",
       "      <td>16</td>\n",
       "      <td>103</td>\n",
       "      <td>55</td>\n",
       "      <td>1</td>\n",
       "      <td>0</td>\n",
       "      <td>1</td>\n",
       "    </tr>\n",
       "    <tr>\n",
       "      <th>Duel Terminal Super Parallel Rare</th>\n",
       "      <td>34</td>\n",
       "      <td>240</td>\n",
       "      <td>85</td>\n",
       "      <td>2</td>\n",
       "      <td>0</td>\n",
       "      <td>2</td>\n",
       "    </tr>\n",
       "    <tr>\n",
       "      <th>Duel Terminal Ultra Parallel Rare</th>\n",
       "      <td>42</td>\n",
       "      <td>371</td>\n",
       "      <td>87</td>\n",
       "      <td>2</td>\n",
       "      <td>0</td>\n",
       "      <td>7</td>\n",
       "    </tr>\n",
       "    <tr>\n",
       "      <th>Extra Secret Parallel Rare</th>\n",
       "      <td>3</td>\n",
       "      <td>10</td>\n",
       "      <td>6</td>\n",
       "      <td>0</td>\n",
       "      <td>0</td>\n",
       "      <td>2</td>\n",
       "    </tr>\n",
       "    <tr>\n",
       "      <th>Extra Secret Rare</th>\n",
       "      <td>24</td>\n",
       "      <td>77</td>\n",
       "      <td>50</td>\n",
       "      <td>1</td>\n",
       "      <td>1</td>\n",
       "      <td>3</td>\n",
       "    </tr>\n",
       "    <tr>\n",
       "      <th>Ghost Rare</th>\n",
       "      <td>35</td>\n",
       "      <td>255</td>\n",
       "      <td>47</td>\n",
       "      <td>3</td>\n",
       "      <td>0</td>\n",
       "      <td>7</td>\n",
       "    </tr>\n",
       "    <tr>\n",
       "      <th>Ghost/Gold Rare</th>\n",
       "      <td>1</td>\n",
       "      <td>30</td>\n",
       "      <td>6</td>\n",
       "      <td>0</td>\n",
       "      <td>0</td>\n",
       "      <td>5</td>\n",
       "    </tr>\n",
       "    <tr>\n",
       "      <th>Gold Rare</th>\n",
       "      <td>23</td>\n",
       "      <td>2057</td>\n",
       "      <td>363</td>\n",
       "      <td>2</td>\n",
       "      <td>0</td>\n",
       "      <td>9</td>\n",
       "    </tr>\n",
       "    <tr>\n",
       "      <th>Gold Rush Rare</th>\n",
       "      <td>2</td>\n",
       "      <td>16</td>\n",
       "      <td>16</td>\n",
       "      <td>2</td>\n",
       "      <td>0</td>\n",
       "      <td>1</td>\n",
       "    </tr>\n",
       "    <tr>\n",
       "      <th>Gold Secret Rare</th>\n",
       "      <td>8</td>\n",
       "      <td>644</td>\n",
       "      <td>154</td>\n",
       "      <td>2</td>\n",
       "      <td>0</td>\n",
       "      <td>9</td>\n",
       "    </tr>\n",
       "    <tr>\n",
       "      <th>Holographic Parallel Rare</th>\n",
       "      <td>2</td>\n",
       "      <td>2</td>\n",
       "      <td>2</td>\n",
       "      <td>1</td>\n",
       "      <td>0</td>\n",
       "      <td>1</td>\n",
       "    </tr>\n",
       "    <tr>\n",
       "      <th>Holographic Rare</th>\n",
       "      <td>68</td>\n",
       "      <td>123</td>\n",
       "      <td>65</td>\n",
       "      <td>2</td>\n",
       "      <td>0</td>\n",
       "      <td>6</td>\n",
       "    </tr>\n",
       "    <tr>\n",
       "      <th>Kaiba Corporation Common</th>\n",
       "      <td>10</td>\n",
       "      <td>10</td>\n",
       "      <td>10</td>\n",
       "      <td>0</td>\n",
       "      <td>0</td>\n",
       "      <td>1</td>\n",
       "    </tr>\n",
       "    <tr>\n",
       "      <th>Kaiba Corporation Rare</th>\n",
       "      <td>5</td>\n",
       "      <td>5</td>\n",
       "      <td>5</td>\n",
       "      <td>0</td>\n",
       "      <td>0</td>\n",
       "      <td>1</td>\n",
       "    </tr>\n",
       "    <tr>\n",
       "      <th>Kaiba Corporation Ultra Rare</th>\n",
       "      <td>3</td>\n",
       "      <td>3</td>\n",
       "      <td>3</td>\n",
       "      <td>0</td>\n",
       "      <td>0</td>\n",
       "      <td>1</td>\n",
       "    </tr>\n",
       "    <tr>\n",
       "      <th>Millennium Gold Rare</th>\n",
       "      <td>2</td>\n",
       "      <td>9</td>\n",
       "      <td>6</td>\n",
       "      <td>2</td>\n",
       "      <td>0</td>\n",
       "      <td>2</td>\n",
       "    </tr>\n",
       "    <tr>\n",
       "      <th>Millennium Rare</th>\n",
       "      <td>9</td>\n",
       "      <td>316</td>\n",
       "      <td>152</td>\n",
       "      <td>3</td>\n",
       "      <td>0</td>\n",
       "      <td>3</td>\n",
       "    </tr>\n",
       "    <tr>\n",
       "      <th>Millennium Secret Rare</th>\n",
       "      <td>1</td>\n",
       "      <td>4</td>\n",
       "      <td>2</td>\n",
       "      <td>1</td>\n",
       "      <td>0</td>\n",
       "      <td>2</td>\n",
       "    </tr>\n",
       "    <tr>\n",
       "      <th>Millennium Super Rare</th>\n",
       "      <td>1</td>\n",
       "      <td>40</td>\n",
       "      <td>20</td>\n",
       "      <td>1</td>\n",
       "      <td>0</td>\n",
       "      <td>2</td>\n",
       "    </tr>\n",
       "    <tr>\n",
       "      <th>Millennium Ultra Rare</th>\n",
       "      <td>1</td>\n",
       "      <td>16</td>\n",
       "      <td>8</td>\n",
       "      <td>1</td>\n",
       "      <td>0</td>\n",
       "      <td>2</td>\n",
       "    </tr>\n",
       "    <tr>\n",
       "      <th>Mosaic Rare</th>\n",
       "      <td>1</td>\n",
       "      <td>1290</td>\n",
       "      <td>215</td>\n",
       "      <td>0</td>\n",
       "      <td>0</td>\n",
       "      <td>6</td>\n",
       "    </tr>\n",
       "    <tr>\n",
       "      <th>New</th>\n",
       "      <td>1</td>\n",
       "      <td>1</td>\n",
       "      <td>1</td>\n",
       "      <td>1</td>\n",
       "      <td>1</td>\n",
       "      <td>1</td>\n",
       "    </tr>\n",
       "    <tr>\n",
       "      <th>Normal Parallel Rare</th>\n",
       "      <td>130</td>\n",
       "      <td>2068</td>\n",
       "      <td>994</td>\n",
       "      <td>4</td>\n",
       "      <td>1</td>\n",
       "      <td>4</td>\n",
       "    </tr>\n",
       "    <tr>\n",
       "      <th>Normal Rare</th>\n",
       "      <td>81</td>\n",
       "      <td>575</td>\n",
       "      <td>299</td>\n",
       "      <td>2</td>\n",
       "      <td>0</td>\n",
       "      <td>7</td>\n",
       "    </tr>\n",
       "    <tr>\n",
       "      <th>Orr</th>\n",
       "      <td>1</td>\n",
       "      <td>1</td>\n",
       "      <td>1</td>\n",
       "      <td>0</td>\n",
       "      <td>0</td>\n",
       "      <td>1</td>\n",
       "    </tr>\n",
       "    <tr>\n",
       "      <th>Platinum Secret Rare</th>\n",
       "      <td>2</td>\n",
       "      <td>24</td>\n",
       "      <td>4</td>\n",
       "      <td>0</td>\n",
       "      <td>0</td>\n",
       "      <td>6</td>\n",
       "    </tr>\n",
       "    <tr>\n",
       "      <th>Prismatic Secret Rare</th>\n",
       "      <td>40</td>\n",
       "      <td>1391</td>\n",
       "      <td>367</td>\n",
       "      <td>3</td>\n",
       "      <td>0</td>\n",
       "      <td>11</td>\n",
       "    </tr>\n",
       "    <tr>\n",
       "      <th>Rare</th>\n",
       "      <td>256</td>\n",
       "      <td>18684</td>\n",
       "      <td>3526</td>\n",
       "      <td>7</td>\n",
       "      <td>2</td>\n",
       "      <td>15</td>\n",
       "    </tr>\n",
       "    <tr>\n",
       "      <th>Rr</th>\n",
       "      <td>1</td>\n",
       "      <td>4</td>\n",
       "      <td>4</td>\n",
       "      <td>0</td>\n",
       "      <td>0</td>\n",
       "      <td>1</td>\n",
       "    </tr>\n",
       "    <tr>\n",
       "      <th>Rush Rare</th>\n",
       "      <td>15</td>\n",
       "      <td>102</td>\n",
       "      <td>47</td>\n",
       "      <td>0</td>\n",
       "      <td>0</td>\n",
       "      <td>2</td>\n",
       "    </tr>\n",
       "    <tr>\n",
       "      <th>Secret Parallel Rare</th>\n",
       "      <td>2</td>\n",
       "      <td>12</td>\n",
       "      <td>6</td>\n",
       "      <td>1</td>\n",
       "      <td>0</td>\n",
       "      <td>2</td>\n",
       "    </tr>\n",
       "    <tr>\n",
       "      <th>Secret Rare</th>\n",
       "      <td>380</td>\n",
       "      <td>10360</td>\n",
       "      <td>2298</td>\n",
       "      <td>11</td>\n",
       "      <td>1</td>\n",
       "      <td>15</td>\n",
       "    </tr>\n",
       "    <tr>\n",
       "      <th>Shatterfoil Rare</th>\n",
       "      <td>4</td>\n",
       "      <td>1482</td>\n",
       "      <td>292</td>\n",
       "      <td>0</td>\n",
       "      <td>1</td>\n",
       "      <td>7</td>\n",
       "    </tr>\n",
       "    <tr>\n",
       "      <th>Short Print</th>\n",
       "      <td>56</td>\n",
       "      <td>1316</td>\n",
       "      <td>234</td>\n",
       "      <td>3</td>\n",
       "      <td>0</td>\n",
       "      <td>10</td>\n",
       "    </tr>\n",
       "    <tr>\n",
       "      <th>Starfoil Rare</th>\n",
       "      <td>6</td>\n",
       "      <td>2019</td>\n",
       "      <td>380</td>\n",
       "      <td>0</td>\n",
       "      <td>0</td>\n",
       "      <td>6</td>\n",
       "    </tr>\n",
       "    <tr>\n",
       "      <th>Starlight Rare</th>\n",
       "      <td>12</td>\n",
       "      <td>316</td>\n",
       "      <td>56</td>\n",
       "      <td>2</td>\n",
       "      <td>0</td>\n",
       "      <td>6</td>\n",
       "    </tr>\n",
       "    <tr>\n",
       "      <th>Super Parallel Rare</th>\n",
       "      <td>6</td>\n",
       "      <td>154</td>\n",
       "      <td>82</td>\n",
       "      <td>3</td>\n",
       "      <td>1</td>\n",
       "      <td>3</td>\n",
       "    </tr>\n",
       "    <tr>\n",
       "      <th>Super Rare</th>\n",
       "      <td>587</td>\n",
       "      <td>20266</td>\n",
       "      <td>3890</td>\n",
       "      <td>9</td>\n",
       "      <td>1</td>\n",
       "      <td>17</td>\n",
       "    </tr>\n",
       "    <tr>\n",
       "      <th>Super Short Print</th>\n",
       "      <td>1</td>\n",
       "      <td>35</td>\n",
       "      <td>5</td>\n",
       "      <td>1</td>\n",
       "      <td>0</td>\n",
       "      <td>7</td>\n",
       "    </tr>\n",
       "    <tr>\n",
       "      <th>Ultimate Rare</th>\n",
       "      <td>115</td>\n",
       "      <td>4315</td>\n",
       "      <td>847</td>\n",
       "      <td>2</td>\n",
       "      <td>1</td>\n",
       "      <td>11</td>\n",
       "    </tr>\n",
       "    <tr>\n",
       "      <th>Ultra Parallel Rare</th>\n",
       "      <td>67</td>\n",
       "      <td>279</td>\n",
       "      <td>170</td>\n",
       "      <td>3</td>\n",
       "      <td>1</td>\n",
       "      <td>7</td>\n",
       "    </tr>\n",
       "    <tr>\n",
       "      <th>Ultra Rare</th>\n",
       "      <td>794</td>\n",
       "      <td>17963</td>\n",
       "      <td>3178</td>\n",
       "      <td>7</td>\n",
       "      <td>2</td>\n",
       "      <td>17</td>\n",
       "    </tr>\n",
       "    <tr>\n",
       "      <th>Ultra Secret Rare</th>\n",
       "      <td>3</td>\n",
       "      <td>0</td>\n",
       "      <td>8</td>\n",
       "      <td>0</td>\n",
       "      <td>0</td>\n",
       "      <td>1</td>\n",
       "    </tr>\n",
       "    <tr>\n",
       "      <th>NaN</th>\n",
       "      <td>13</td>\n",
       "      <td>381</td>\n",
       "      <td>206</td>\n",
       "      <td>0</td>\n",
       "      <td>0</td>\n",
       "      <td>4</td>\n",
       "    </tr>\n",
       "  </tbody>\n",
       "</table>\n",
       "</div>"
      ],
      "text/plain": [
       "                                         Set  Card number  Name  Print  \\\n",
       "Rarity                                                                   \n",
       "10000 Secret Rare                          2            7     1      1   \n",
       "20th Secret Rare                          16          135   134      3   \n",
       "Collector's Rare                           6          301    76      2   \n",
       "Collectors Rare                            8          112   112      2   \n",
       "Common                                   562        76876  8592      6   \n",
       "Duel Terminal Normal Parallel Rare        38         1906   511      2   \n",
       "Duel Terminal Normal Rare Parallel Rare    5           15    15      0   \n",
       "Duel Terminal Rare Parallel Rare          34          368   141      2   \n",
       "Duel Terminal Secret Parallel Rare        16          103    55      1   \n",
       "Duel Terminal Super Parallel Rare         34          240    85      2   \n",
       "Duel Terminal Ultra Parallel Rare         42          371    87      2   \n",
       "Extra Secret Parallel Rare                 3           10     6      0   \n",
       "Extra Secret Rare                         24           77    50      1   \n",
       "Ghost Rare                                35          255    47      3   \n",
       "Ghost/Gold Rare                            1           30     6      0   \n",
       "Gold Rare                                 23         2057   363      2   \n",
       "Gold Rush Rare                             2           16    16      2   \n",
       "Gold Secret Rare                           8          644   154      2   \n",
       "Holographic Parallel Rare                  2            2     2      1   \n",
       "Holographic Rare                          68          123    65      2   \n",
       "Kaiba Corporation Common                  10           10    10      0   \n",
       "Kaiba Corporation Rare                     5            5     5      0   \n",
       "Kaiba Corporation Ultra Rare               3            3     3      0   \n",
       "Millennium Gold Rare                       2            9     6      2   \n",
       "Millennium Rare                            9          316   152      3   \n",
       "Millennium Secret Rare                     1            4     2      1   \n",
       "Millennium Super Rare                      1           40    20      1   \n",
       "Millennium Ultra Rare                      1           16     8      1   \n",
       "Mosaic Rare                                1         1290   215      0   \n",
       "New                                        1            1     1      1   \n",
       "Normal Parallel Rare                     130         2068   994      4   \n",
       "Normal Rare                               81          575   299      2   \n",
       "Orr                                        1            1     1      0   \n",
       "Platinum Secret Rare                       2           24     4      0   \n",
       "Prismatic Secret Rare                     40         1391   367      3   \n",
       "Rare                                     256        18684  3526      7   \n",
       "Rr                                         1            4     4      0   \n",
       "Rush Rare                                 15          102    47      0   \n",
       "Secret Parallel Rare                       2           12     6      1   \n",
       "Secret Rare                              380        10360  2298     11   \n",
       "Shatterfoil Rare                           4         1482   292      0   \n",
       "Short Print                               56         1316   234      3   \n",
       "Starfoil Rare                              6         2019   380      0   \n",
       "Starlight Rare                            12          316    56      2   \n",
       "Super Parallel Rare                        6          154    82      3   \n",
       "Super Rare                               587        20266  3890      9   \n",
       "Super Short Print                          1           35     5      1   \n",
       "Ultimate Rare                            115         4315   847      2   \n",
       "Ultra Parallel Rare                       67          279   170      3   \n",
       "Ultra Rare                               794        17963  3178      7   \n",
       "Ultra Secret Rare                          3            0     8      0   \n",
       "NaN                                       13          381   206      0   \n",
       "\n",
       "                                         Quantity  Region  \n",
       "Rarity                                                     \n",
       "10000 Secret Rare                               0       7  \n",
       "20th Secret Rare                                0       1  \n",
       "Collector's Rare                                0       7  \n",
       "Collectors Rare                                 0       1  \n",
       "Common                                          3      17  \n",
       "Duel Terminal Normal Parallel Rare              0       7  \n",
       "Duel Terminal Normal Rare Parallel Rare         0       1  \n",
       "Duel Terminal Rare Parallel Rare                0       2  \n",
       "Duel Terminal Secret Parallel Rare              0       1  \n",
       "Duel Terminal Super Parallel Rare               0       2  \n",
       "Duel Terminal Ultra Parallel Rare               0       7  \n",
       "Extra Secret Parallel Rare                      0       2  \n",
       "Extra Secret Rare                               1       3  \n",
       "Ghost Rare                                      0       7  \n",
       "Ghost/Gold Rare                                 0       5  \n",
       "Gold Rare                                       0       9  \n",
       "Gold Rush Rare                                  0       1  \n",
       "Gold Secret Rare                                0       9  \n",
       "Holographic Parallel Rare                       0       1  \n",
       "Holographic Rare                                0       6  \n",
       "Kaiba Corporation Common                        0       1  \n",
       "Kaiba Corporation Rare                          0       1  \n",
       "Kaiba Corporation Ultra Rare                    0       1  \n",
       "Millennium Gold Rare                            0       2  \n",
       "Millennium Rare                                 0       3  \n",
       "Millennium Secret Rare                          0       2  \n",
       "Millennium Super Rare                           0       2  \n",
       "Millennium Ultra Rare                           0       2  \n",
       "Mosaic Rare                                     0       6  \n",
       "New                                             1       1  \n",
       "Normal Parallel Rare                            1       4  \n",
       "Normal Rare                                     0       7  \n",
       "Orr                                             0       1  \n",
       "Platinum Secret Rare                            0       6  \n",
       "Prismatic Secret Rare                           0      11  \n",
       "Rare                                            2      15  \n",
       "Rr                                              0       1  \n",
       "Rush Rare                                       0       2  \n",
       "Secret Parallel Rare                            0       2  \n",
       "Secret Rare                                     1      15  \n",
       "Shatterfoil Rare                                1       7  \n",
       "Short Print                                     0      10  \n",
       "Starfoil Rare                                   0       6  \n",
       "Starlight Rare                                  0       6  \n",
       "Super Parallel Rare                             1       3  \n",
       "Super Rare                                      1      17  \n",
       "Super Short Print                               0       7  \n",
       "Ultimate Rare                                   1      11  \n",
       "Ultra Parallel Rare                             1       7  \n",
       "Ultra Rare                                      2      17  \n",
       "Ultra Secret Rare                               0       1  \n",
       "NaN                                             0       4  "
      ]
     },
     "execution_count": 7,
     "metadata": {},
     "output_type": "execute_result"
    }
   ],
   "source": [
    "all_set_lists_df.explode('Rarity').groupby('Rarity', dropna = False).nunique()"
   ]
  },
  {
   "cell_type": "code",
   "execution_count": null,
   "id": "336a6f22-5e80-48e1-a22e-bb6fe61fcf01",
   "metadata": {
    "papermill": {
     "duration": 1.688973,
     "end_time": "2023-01-25T23:23:24.120389",
     "exception": false,
     "start_time": "2023-01-25T23:23:22.431416",
     "status": "completed"
    },
    "tags": []
   },
   "outputs": [],
   "source": [
    "all_set_lists_df['Rarity'].explode().value_counts().plot.barh(figsize = (10,20), grid=True)\n",
    "plt.xscale('log')\n",
    "plt.show()"
   ]
  },
  {
   "cell_type": "markdown",
   "id": "847e7fcb-4e95-4b81-b309-600aa04e6be7",
   "metadata": {
    "papermill": {
     "duration": 0.063359,
     "end_time": "2023-01-25T23:23:24.218899",
     "exception": false,
     "start_time": "2023-01-25T23:23:24.155540",
     "status": "completed"
    },
    "tags": []
   },
   "source": [
    "### By combination"
   ]
  },
  {
   "cell_type": "code",
   "execution_count": null,
   "id": "e4d79c33",
   "metadata": {
    "papermill": {
     "duration": 0.643852,
     "end_time": "2023-01-25T23:23:24.898035",
     "exception": false,
     "start_time": "2023-01-25T23:23:24.254183",
     "status": "completed"
    },
    "tags": []
   },
   "outputs": [],
   "source": [
    "all_set_lists_df.groupby('Rarity', dropna = False).nunique()"
   ]
  },
  {
   "cell_type": "code",
   "execution_count": null,
   "id": "5124c4f0-b00a-4a19-a174-bfa3a2915242",
   "metadata": {
    "papermill": {
     "duration": 2.66749,
     "end_time": "2023-01-25T23:23:27.601711",
     "exception": false,
     "start_time": "2023-01-25T23:23:24.934221",
     "status": "completed"
    },
    "tags": []
   },
   "outputs": [],
   "source": [
    "all_set_lists_df['Rarity'].value_counts().plot.barh(figsize = (10,40), grid=True)\n",
    "plt.xscale('log')\n",
    "plt.show()"
   ]
  },
  {
   "cell_type": "markdown",
   "id": "afae1f51-fd13-4a29-ae40-cd913524623c",
   "metadata": {
    "papermill": {
     "duration": 0.045729,
     "end_time": "2023-01-25T23:23:27.694122",
     "exception": false,
     "start_time": "2023-01-25T23:23:27.648393",
     "status": "completed"
    },
    "tags": []
   },
   "source": [
    "## Print"
   ]
  },
  {
   "cell_type": "code",
   "execution_count": 8,
   "id": "254ba70a-9ee7-410e-9670-b10ce628b169",
   "metadata": {
    "papermill": {
     "duration": 0.112427,
     "end_time": "2023-01-25T23:23:27.852996",
     "exception": false,
     "start_time": "2023-01-25T23:23:27.740569",
     "status": "completed"
    },
    "tags": []
   },
   "outputs": [
    {
     "name": "stdout",
     "output_type": "stream",
     "text": [
      "Total number of prints: 16\n"
     ]
    }
   ],
   "source": [
    "print('Total number of prints:', all_set_lists_df['Print'].nunique())"
   ]
  },
  {
   "cell_type": "code",
   "execution_count": 9,
   "id": "3a576a96",
   "metadata": {
    "papermill": {
     "duration": 0.5968,
     "end_time": "2023-01-25T23:23:28.501178",
     "exception": false,
     "start_time": "2023-01-25T23:23:27.904378",
     "status": "completed"
    },
    "tags": []
   },
   "outputs": [
    {
     "data": {
      "text/html": [
       "<div>\n",
       "<style scoped>\n",
       "    .dataframe tbody tr th:only-of-type {\n",
       "        vertical-align: middle;\n",
       "    }\n",
       "\n",
       "    .dataframe tbody tr th {\n",
       "        vertical-align: top;\n",
       "    }\n",
       "\n",
       "    .dataframe thead th {\n",
       "        text-align: right;\n",
       "    }\n",
       "</style>\n",
       "<table border=\"1\" class=\"dataframe\">\n",
       "  <thead>\n",
       "    <tr style=\"text-align: right;\">\n",
       "      <th></th>\n",
       "      <th>Set</th>\n",
       "      <th>Card number</th>\n",
       "      <th>Name</th>\n",
       "      <th>Rarity</th>\n",
       "      <th>Quantity</th>\n",
       "      <th>Region</th>\n",
       "    </tr>\n",
       "    <tr>\n",
       "      <th>Print</th>\n",
       "      <th></th>\n",
       "      <th></th>\n",
       "      <th></th>\n",
       "      <th></th>\n",
       "      <th></th>\n",
       "      <th></th>\n",
       "    </tr>\n",
       "  </thead>\n",
       "  <tbody>\n",
       "    <tr>\n",
       "      <th>American debut</th>\n",
       "      <td>1</td>\n",
       "      <td>3</td>\n",
       "      <td>3</td>\n",
       "      <td>1</td>\n",
       "      <td>0</td>\n",
       "      <td>1</td>\n",
       "    </tr>\n",
       "    <tr>\n",
       "      <th>European &amp; Oceanian debut</th>\n",
       "      <td>1</td>\n",
       "      <td>6</td>\n",
       "      <td>6</td>\n",
       "      <td>1</td>\n",
       "      <td>0</td>\n",
       "      <td>1</td>\n",
       "    </tr>\n",
       "    <tr>\n",
       "      <th>European debut</th>\n",
       "      <td>12</td>\n",
       "      <td>146</td>\n",
       "      <td>146</td>\n",
       "      <td>5</td>\n",
       "      <td>0</td>\n",
       "      <td>2</td>\n",
       "    </tr>\n",
       "    <tr>\n",
       "      <th>Functional errata</th>\n",
       "      <td>1</td>\n",
       "      <td>2</td>\n",
       "      <td>2</td>\n",
       "      <td>1</td>\n",
       "      <td>0</td>\n",
       "      <td>1</td>\n",
       "    </tr>\n",
       "    <tr>\n",
       "      <th>New</th>\n",
       "      <td>233</td>\n",
       "      <td>11754</td>\n",
       "      <td>3981</td>\n",
       "      <td>50</td>\n",
       "      <td>3</td>\n",
       "      <td>11</td>\n",
       "    </tr>\n",
       "    <tr>\n",
       "      <th>New art</th>\n",
       "      <td>1</td>\n",
       "      <td>4</td>\n",
       "      <td>2</td>\n",
       "      <td>1</td>\n",
       "      <td>0</td>\n",
       "      <td>2</td>\n",
       "    </tr>\n",
       "    <tr>\n",
       "      <th>New artwork</th>\n",
       "      <td>10</td>\n",
       "      <td>74</td>\n",
       "      <td>15</td>\n",
       "      <td>5</td>\n",
       "      <td>0</td>\n",
       "      <td>7</td>\n",
       "    </tr>\n",
       "    <tr>\n",
       "      <th>New artwork (renamed)</th>\n",
       "      <td>1</td>\n",
       "      <td>3</td>\n",
       "      <td>3</td>\n",
       "      <td>1</td>\n",
       "      <td>0</td>\n",
       "      <td>1</td>\n",
       "    </tr>\n",
       "    <tr>\n",
       "      <th>North American debut</th>\n",
       "      <td>2</td>\n",
       "      <td>4</td>\n",
       "      <td>4</td>\n",
       "      <td>2</td>\n",
       "      <td>0</td>\n",
       "      <td>2</td>\n",
       "    </tr>\n",
       "    <tr>\n",
       "      <th>Oceanian debut</th>\n",
       "      <td>1</td>\n",
       "      <td>1</td>\n",
       "      <td>1</td>\n",
       "      <td>1</td>\n",
       "      <td>0</td>\n",
       "      <td>1</td>\n",
       "    </tr>\n",
       "    <tr>\n",
       "      <th>Reprint</th>\n",
       "      <td>229</td>\n",
       "      <td>14034</td>\n",
       "      <td>4317</td>\n",
       "      <td>49</td>\n",
       "      <td>3</td>\n",
       "      <td>11</td>\n",
       "    </tr>\n",
       "    <tr>\n",
       "      <th>Reprint (New Art)</th>\n",
       "      <td>2</td>\n",
       "      <td>2</td>\n",
       "      <td>1</td>\n",
       "      <td>2</td>\n",
       "      <td>0</td>\n",
       "      <td>2</td>\n",
       "    </tr>\n",
       "    <tr>\n",
       "      <th>Reprint (functional errata)</th>\n",
       "      <td>15</td>\n",
       "      <td>33</td>\n",
       "      <td>21</td>\n",
       "      <td>10</td>\n",
       "      <td>0</td>\n",
       "      <td>8</td>\n",
       "    </tr>\n",
       "    <tr>\n",
       "      <th>Reprint (new artwork)</th>\n",
       "      <td>1</td>\n",
       "      <td>1</td>\n",
       "      <td>1</td>\n",
       "      <td>1</td>\n",
       "      <td>0</td>\n",
       "      <td>1</td>\n",
       "    </tr>\n",
       "    <tr>\n",
       "      <th>Reprint (renamed)</th>\n",
       "      <td>2</td>\n",
       "      <td>76</td>\n",
       "      <td>76</td>\n",
       "      <td>6</td>\n",
       "      <td>0</td>\n",
       "      <td>1</td>\n",
       "    </tr>\n",
       "    <tr>\n",
       "      <th>TCG legal debut</th>\n",
       "      <td>1</td>\n",
       "      <td>1</td>\n",
       "      <td>1</td>\n",
       "      <td>1</td>\n",
       "      <td>0</td>\n",
       "      <td>1</td>\n",
       "    </tr>\n",
       "    <tr>\n",
       "      <th>&lt;NA&gt;</th>\n",
       "      <td>1347</td>\n",
       "      <td>126018</td>\n",
       "      <td>11419</td>\n",
       "      <td>110</td>\n",
       "      <td>3</td>\n",
       "      <td>17</td>\n",
       "    </tr>\n",
       "  </tbody>\n",
       "</table>\n",
       "</div>"
      ],
      "text/plain": [
       "                              Set  Card number   Name  Rarity  Quantity  \\\n",
       "Print                                                                     \n",
       "American debut                  1            3      3       1         0   \n",
       "European & Oceanian debut       1            6      6       1         0   \n",
       "European debut                 12          146    146       5         0   \n",
       "Functional errata               1            2      2       1         0   \n",
       "New                           233        11754   3981      50         3   \n",
       "New art                         1            4      2       1         0   \n",
       "New artwork                    10           74     15       5         0   \n",
       "New artwork (renamed)           1            3      3       1         0   \n",
       "North American debut            2            4      4       2         0   \n",
       "Oceanian debut                  1            1      1       1         0   \n",
       "Reprint                       229        14034   4317      49         3   \n",
       "Reprint (New Art)               2            2      1       2         0   \n",
       "Reprint (functional errata)    15           33     21      10         0   \n",
       "Reprint (new artwork)           1            1      1       1         0   \n",
       "Reprint (renamed)               2           76     76       6         0   \n",
       "TCG legal debut                 1            1      1       1         0   \n",
       "<NA>                         1347       126018  11419     110         3   \n",
       "\n",
       "                             Region  \n",
       "Print                                \n",
       "American debut                    1  \n",
       "European & Oceanian debut         1  \n",
       "European debut                    2  \n",
       "Functional errata                 1  \n",
       "New                              11  \n",
       "New art                           2  \n",
       "New artwork                       7  \n",
       "New artwork (renamed)             1  \n",
       "North American debut              2  \n",
       "Oceanian debut                    1  \n",
       "Reprint                          11  \n",
       "Reprint (New Art)                 2  \n",
       "Reprint (functional errata)       8  \n",
       "Reprint (new artwork)             1  \n",
       "Reprint (renamed)                 1  \n",
       "TCG legal debut                   1  \n",
       "<NA>                             17  "
      ]
     },
     "execution_count": 9,
     "metadata": {},
     "output_type": "execute_result"
    }
   ],
   "source": [
    "all_set_lists_df.groupby('Print', dropna=False).nunique()"
   ]
  },
  {
   "cell_type": "code",
   "execution_count": 10,
   "id": "1c369030-f5e8-4a48-a28c-0b878b9ff8ca",
   "metadata": {
    "papermill": {
     "duration": 0.771984,
     "end_time": "2023-01-25T23:23:29.321266",
     "exception": false,
     "start_time": "2023-01-25T23:23:28.549282",
     "status": "completed"
    },
    "tags": []
   },
   "outputs": [
    {
     "data": {
      "image/png": "[encoded data removed]",
      "text/plain": [
       "<Figure size 1800x600 with 1 Axes>"
      ]
     },
     "metadata": {},
     "output_type": "display_data"
    }
   ],
   "source": [
    "all_set_lists_df['Print'].value_counts().plot.bar(figsize = (18,6), grid=True, rot = 45)\n",
    "plt.yscale('log')\n",
    "plt.show()"
   ]
  },
  {
   "cell_type": "markdown",
   "id": "ff17d8cc-7842-41f4-95bc-061acd575426",
   "metadata": {
    "papermill": {
     "duration": 0.058692,
     "end_time": "2023-01-25T23:23:29.429846",
     "exception": false,
     "start_time": "2023-01-25T23:23:29.371154",
     "status": "completed"
    },
    "tags": []
   },
   "source": [
    "## Quantity"
   ]
  },
  {
   "cell_type": "code",
   "execution_count": 11,
   "id": "5546c0c2-3c14-401a-96a0-8b6b182bc57a",
   "metadata": {
    "papermill": {
     "duration": 0.060513,
     "end_time": "2023-01-25T23:23:29.544024",
     "exception": false,
     "start_time": "2023-01-25T23:23:29.483511",
     "status": "completed"
    },
    "tags": []
   },
   "outputs": [
    {
     "name": "stdout",
     "output_type": "stream",
     "text": [
      "Total number of quantities: 3\n"
     ]
    }
   ],
   "source": [
    "print('Total number of quantities:', all_set_lists_df['Quantity'].nunique())"
   ]
  },
  {
   "cell_type": "code",
   "execution_count": 12,
   "id": "0445fc65",
   "metadata": {
    "papermill": {
     "duration": 0.591684,
     "end_time": "2023-01-25T23:23:30.185405",
     "exception": false,
     "start_time": "2023-01-25T23:23:29.593721",
     "status": "completed"
    },
    "tags": []
   },
   "outputs": [
    {
     "data": {
      "text/html": [
       "<div>\n",
       "<style scoped>\n",
       "    .dataframe tbody tr th:only-of-type {\n",
       "        vertical-align: middle;\n",
       "    }\n",
       "\n",
       "    .dataframe tbody tr th {\n",
       "        vertical-align: top;\n",
       "    }\n",
       "\n",
       "    .dataframe thead th {\n",
       "        text-align: right;\n",
       "    }\n",
       "</style>\n",
       "<table border=\"1\" class=\"dataframe\">\n",
       "  <thead>\n",
       "    <tr style=\"text-align: right;\">\n",
       "      <th></th>\n",
       "      <th>Set</th>\n",
       "      <th>Card number</th>\n",
       "      <th>Name</th>\n",
       "      <th>Rarity</th>\n",
       "      <th>Print</th>\n",
       "      <th>Region</th>\n",
       "    </tr>\n",
       "    <tr>\n",
       "      <th>Quantity</th>\n",
       "      <th></th>\n",
       "      <th></th>\n",
       "      <th></th>\n",
       "      <th></th>\n",
       "      <th></th>\n",
       "      <th></th>\n",
       "    </tr>\n",
       "  </thead>\n",
       "  <tbody>\n",
       "    <tr>\n",
       "      <th>1</th>\n",
       "      <td>66</td>\n",
       "      <td>8760</td>\n",
       "      <td>1167</td>\n",
       "      <td>11</td>\n",
       "      <td>2</td>\n",
       "      <td>11</td>\n",
       "    </tr>\n",
       "    <tr>\n",
       "      <th>2</th>\n",
       "      <td>65</td>\n",
       "      <td>839</td>\n",
       "      <td>165</td>\n",
       "      <td>4</td>\n",
       "      <td>2</td>\n",
       "      <td>11</td>\n",
       "    </tr>\n",
       "    <tr>\n",
       "      <th>3</th>\n",
       "      <td>8</td>\n",
       "      <td>64</td>\n",
       "      <td>20</td>\n",
       "      <td>1</td>\n",
       "      <td>2</td>\n",
       "      <td>8</td>\n",
       "    </tr>\n",
       "    <tr>\n",
       "      <th>&lt;NA&gt;</th>\n",
       "      <td>1370</td>\n",
       "      <td>142334</td>\n",
       "      <td>12503</td>\n",
       "      <td>120</td>\n",
       "      <td>16</td>\n",
       "      <td>17</td>\n",
       "    </tr>\n",
       "  </tbody>\n",
       "</table>\n",
       "</div>"
      ],
      "text/plain": [
       "           Set  Card number   Name  Rarity  Print  Region\n",
       "Quantity                                                 \n",
       "1           66         8760   1167      11      2      11\n",
       "2           65          839    165       4      2      11\n",
       "3            8           64     20       1      2       8\n",
       "<NA>      1370       142334  12503     120     16      17"
      ]
     },
     "execution_count": 12,
     "metadata": {},
     "output_type": "execute_result"
    }
   ],
   "source": [
    "all_set_lists_df.groupby('Quantity', dropna=False).nunique()"
   ]
  },
  {
   "cell_type": "markdown",
   "id": "cf8bed65-2680-4845-8258-d3eadd169f69",
   "metadata": {
    "papermill": {
     "duration": 0.065807,
     "end_time": "2023-01-25T23:23:30.302805",
     "exception": false,
     "start_time": "2023-01-25T23:23:30.236998",
     "status": "completed"
    },
    "tags": []
   },
   "source": [
    "## Region"
   ]
  },
  {
   "cell_type": "code",
   "execution_count": 13,
   "id": "56ce1f02-4524-4584-885b-9d6e8121a76c",
   "metadata": {
    "papermill": {
     "duration": 0.07512,
     "end_time": "2023-01-25T23:23:30.429709",
     "exception": false,
     "start_time": "2023-01-25T23:23:30.354589",
     "status": "completed"
    },
    "tags": []
   },
   "outputs": [
    {
     "name": "stdout",
     "output_type": "stream",
     "text": [
      "Total number of regions: 17\n"
     ]
    }
   ],
   "source": [
    "print('Total number of regions:', all_set_lists_df['Region'].nunique())"
   ]
  },
  {
   "cell_type": "code",
   "execution_count": 14,
   "id": "af081e1d-a642-49e8-bce3-ccd035131c0b",
   "metadata": {
    "papermill": {
     "duration": 0.632578,
     "end_time": "2023-01-25T23:23:31.111890",
     "exception": false,
     "start_time": "2023-01-25T23:23:30.479312",
     "status": "completed"
    },
    "tags": []
   },
   "outputs": [
    {
     "data": {
      "text/html": [
       "<div>\n",
       "<style scoped>\n",
       "    .dataframe tbody tr th:only-of-type {\n",
       "        vertical-align: middle;\n",
       "    }\n",
       "\n",
       "    .dataframe tbody tr th {\n",
       "        vertical-align: top;\n",
       "    }\n",
       "\n",
       "    .dataframe thead th {\n",
       "        text-align: right;\n",
       "    }\n",
       "</style>\n",
       "<table border=\"1\" class=\"dataframe\">\n",
       "  <thead>\n",
       "    <tr style=\"text-align: right;\">\n",
       "      <th></th>\n",
       "      <th>Set</th>\n",
       "      <th>Card number</th>\n",
       "      <th>Name</th>\n",
       "      <th>Rarity</th>\n",
       "      <th>Print</th>\n",
       "      <th>Quantity</th>\n",
       "    </tr>\n",
       "    <tr>\n",
       "      <th>Region</th>\n",
       "      <th></th>\n",
       "      <th></th>\n",
       "      <th></th>\n",
       "      <th></th>\n",
       "      <th></th>\n",
       "      <th></th>\n",
       "    </tr>\n",
       "  </thead>\n",
       "  <tbody>\n",
       "    <tr>\n",
       "      <th>AE</th>\n",
       "      <td>34</td>\n",
       "      <td>1527</td>\n",
       "      <td>1493</td>\n",
       "      <td>12</td>\n",
       "      <td>0</td>\n",
       "      <td>2</td>\n",
       "    </tr>\n",
       "    <tr>\n",
       "      <th>AU</th>\n",
       "      <td>2</td>\n",
       "      <td>100</td>\n",
       "      <td>87</td>\n",
       "      <td>3</td>\n",
       "      <td>0</td>\n",
       "      <td>0</td>\n",
       "    </tr>\n",
       "    <tr>\n",
       "      <th>DE</th>\n",
       "      <td>455</td>\n",
       "      <td>20372</td>\n",
       "      <td>10393</td>\n",
       "      <td>45</td>\n",
       "      <td>4</td>\n",
       "      <td>3</td>\n",
       "    </tr>\n",
       "    <tr>\n",
       "      <th>EN</th>\n",
       "      <td>658</td>\n",
       "      <td>20184</td>\n",
       "      <td>10480</td>\n",
       "      <td>51</td>\n",
       "      <td>14</td>\n",
       "      <td>3</td>\n",
       "    </tr>\n",
       "    <tr>\n",
       "      <th>ES</th>\n",
       "      <td>1</td>\n",
       "      <td>100</td>\n",
       "      <td>100</td>\n",
       "      <td>7</td>\n",
       "      <td>0</td>\n",
       "      <td>0</td>\n",
       "    </tr>\n",
       "    <tr>\n",
       "      <th>EU</th>\n",
       "      <td>25</td>\n",
       "      <td>543</td>\n",
       "      <td>456</td>\n",
       "      <td>8</td>\n",
       "      <td>3</td>\n",
       "      <td>0</td>\n",
       "    </tr>\n",
       "    <tr>\n",
       "      <th>FC</th>\n",
       "      <td>3</td>\n",
       "      <td>102</td>\n",
       "      <td>87</td>\n",
       "      <td>3</td>\n",
       "      <td>0</td>\n",
       "      <td>0</td>\n",
       "    </tr>\n",
       "    <tr>\n",
       "      <th>FR</th>\n",
       "      <td>448</td>\n",
       "      <td>19776</td>\n",
       "      <td>10380</td>\n",
       "      <td>46</td>\n",
       "      <td>4</td>\n",
       "      <td>3</td>\n",
       "    </tr>\n",
       "    <tr>\n",
       "      <th>IT</th>\n",
       "      <td>447</td>\n",
       "      <td>20051</td>\n",
       "      <td>10388</td>\n",
       "      <td>46</td>\n",
       "      <td>4</td>\n",
       "      <td>3</td>\n",
       "    </tr>\n",
       "    <tr>\n",
       "      <th>JA</th>\n",
       "      <td>3</td>\n",
       "      <td>185</td>\n",
       "      <td>185</td>\n",
       "      <td>8</td>\n",
       "      <td>0</td>\n",
       "      <td>0</td>\n",
       "    </tr>\n",
       "    <tr>\n",
       "      <th>JP</th>\n",
       "      <td>714</td>\n",
       "      <td>19087</td>\n",
       "      <td>11213</td>\n",
       "      <td>90</td>\n",
       "      <td>6</td>\n",
       "      <td>3</td>\n",
       "    </tr>\n",
       "    <tr>\n",
       "      <th>KR</th>\n",
       "      <td>383</td>\n",
       "      <td>15937</td>\n",
       "      <td>10755</td>\n",
       "      <td>55</td>\n",
       "      <td>4</td>\n",
       "      <td>3</td>\n",
       "    </tr>\n",
       "    <tr>\n",
       "      <th>NA</th>\n",
       "      <td>47</td>\n",
       "      <td>1526</td>\n",
       "      <td>1333</td>\n",
       "      <td>10</td>\n",
       "      <td>4</td>\n",
       "      <td>2</td>\n",
       "    </tr>\n",
       "    <tr>\n",
       "      <th>PT</th>\n",
       "      <td>204</td>\n",
       "      <td>12461</td>\n",
       "      <td>7823</td>\n",
       "      <td>40</td>\n",
       "      <td>4</td>\n",
       "      <td>3</td>\n",
       "    </tr>\n",
       "    <tr>\n",
       "      <th>SC</th>\n",
       "      <td>23</td>\n",
       "      <td>1237</td>\n",
       "      <td>1042</td>\n",
       "      <td>12</td>\n",
       "      <td>2</td>\n",
       "      <td>0</td>\n",
       "    </tr>\n",
       "    <tr>\n",
       "      <th>SP</th>\n",
       "      <td>416</td>\n",
       "      <td>19111</td>\n",
       "      <td>10221</td>\n",
       "      <td>45</td>\n",
       "      <td>4</td>\n",
       "      <td>3</td>\n",
       "    </tr>\n",
       "    <tr>\n",
       "      <th>TC</th>\n",
       "      <td>7</td>\n",
       "      <td>300</td>\n",
       "      <td>286</td>\n",
       "      <td>12</td>\n",
       "      <td>0</td>\n",
       "      <td>2</td>\n",
       "    </tr>\n",
       "  </tbody>\n",
       "</table>\n",
       "</div>"
      ],
      "text/plain": [
       "        Set  Card number   Name  Rarity  Print  Quantity\n",
       "Region                                                  \n",
       "AE       34         1527   1493      12      0         2\n",
       "AU        2          100     87       3      0         0\n",
       "DE      455        20372  10393      45      4         3\n",
       "EN      658        20184  10480      51     14         3\n",
       "ES        1          100    100       7      0         0\n",
       "EU       25          543    456       8      3         0\n",
       "FC        3          102     87       3      0         0\n",
       "FR      448        19776  10380      46      4         3\n",
       "IT      447        20051  10388      46      4         3\n",
       "JA        3          185    185       8      0         0\n",
       "JP      714        19087  11213      90      6         3\n",
       "KR      383        15937  10755      55      4         3\n",
       "NA       47         1526   1333      10      4         2\n",
       "PT      204        12461   7823      40      4         3\n",
       "SC       23         1237   1042      12      2         0\n",
       "SP      416        19111  10221      45      4         3\n",
       "TC        7          300    286      12      0         2"
      ]
     },
     "execution_count": 14,
     "metadata": {},
     "output_type": "execute_result"
    }
   ],
   "source": [
    "all_set_lists_df.groupby('Region', dropna=False).nunique()"
   ]
  },
  {
   "cell_type": "code",
   "execution_count": 15,
   "id": "8756dfb8-35fb-4c63-8c8b-097810d79e3c",
   "metadata": {
    "papermill": {
     "duration": 0.711952,
     "end_time": "2023-01-25T23:23:31.877828",
     "exception": false,
     "start_time": "2023-01-25T23:23:31.165876",
     "status": "completed"
    },
    "tags": []
   },
   "outputs": [
    {
     "data": {
      "text/html": [
       "<div>\n",
       "<style scoped>\n",
       "    .dataframe tbody tr th:only-of-type {\n",
       "        vertical-align: middle;\n",
       "    }\n",
       "\n",
       "    .dataframe tbody tr th {\n",
       "        vertical-align: top;\n",
       "    }\n",
       "\n",
       "    .dataframe thead th {\n",
       "        text-align: right;\n",
       "    }\n",
       "</style>\n",
       "<table border=\"1\" class=\"dataframe\">\n",
       "  <thead>\n",
       "    <tr style=\"text-align: right;\">\n",
       "      <th></th>\n",
       "      <th>Set</th>\n",
       "      <th>Card number</th>\n",
       "      <th>Name</th>\n",
       "      <th>Rarity</th>\n",
       "      <th>Print</th>\n",
       "      <th>Quantity</th>\n",
       "    </tr>\n",
       "  </thead>\n",
       "  <tbody>\n",
       "    <tr>\n",
       "      <th>count</th>\n",
       "      <td>17.000000</td>\n",
       "      <td>17.000000</td>\n",
       "      <td>17.000000</td>\n",
       "      <td>17.000000</td>\n",
       "      <td>17.000000</td>\n",
       "      <td>17.000000</td>\n",
       "    </tr>\n",
       "    <tr>\n",
       "      <th>mean</th>\n",
       "      <td>227.647059</td>\n",
       "      <td>8976.411765</td>\n",
       "      <td>5101.294118</td>\n",
       "      <td>29.000000</td>\n",
       "      <td>3.117647</td>\n",
       "      <td>1.764706</td>\n",
       "    </tr>\n",
       "    <tr>\n",
       "      <th>std</th>\n",
       "      <td>254.368812</td>\n",
       "      <td>9324.705056</td>\n",
       "      <td>5022.547446</td>\n",
       "      <td>25.047455</td>\n",
       "      <td>3.461978</td>\n",
       "      <td>1.393261</td>\n",
       "    </tr>\n",
       "    <tr>\n",
       "      <th>min</th>\n",
       "      <td>1.000000</td>\n",
       "      <td>100.000000</td>\n",
       "      <td>87.000000</td>\n",
       "      <td>3.000000</td>\n",
       "      <td>0.000000</td>\n",
       "      <td>0.000000</td>\n",
       "    </tr>\n",
       "    <tr>\n",
       "      <th>25%</th>\n",
       "      <td>7.000000</td>\n",
       "      <td>300.000000</td>\n",
       "      <td>286.000000</td>\n",
       "      <td>8.000000</td>\n",
       "      <td>0.000000</td>\n",
       "      <td>0.000000</td>\n",
       "    </tr>\n",
       "    <tr>\n",
       "      <th>50%</th>\n",
       "      <td>47.000000</td>\n",
       "      <td>1527.000000</td>\n",
       "      <td>1493.000000</td>\n",
       "      <td>12.000000</td>\n",
       "      <td>4.000000</td>\n",
       "      <td>2.000000</td>\n",
       "    </tr>\n",
       "    <tr>\n",
       "      <th>75%</th>\n",
       "      <td>447.000000</td>\n",
       "      <td>19111.000000</td>\n",
       "      <td>10388.000000</td>\n",
       "      <td>46.000000</td>\n",
       "      <td>4.000000</td>\n",
       "      <td>3.000000</td>\n",
       "    </tr>\n",
       "    <tr>\n",
       "      <th>max</th>\n",
       "      <td>714.000000</td>\n",
       "      <td>20372.000000</td>\n",
       "      <td>11213.000000</td>\n",
       "      <td>90.000000</td>\n",
       "      <td>14.000000</td>\n",
       "      <td>3.000000</td>\n",
       "    </tr>\n",
       "  </tbody>\n",
       "</table>\n",
       "</div>"
      ],
      "text/plain": [
       "              Set   Card number          Name     Rarity      Print   Quantity\n",
       "count   17.000000     17.000000     17.000000  17.000000  17.000000  17.000000\n",
       "mean   227.647059   8976.411765   5101.294118  29.000000   3.117647   1.764706\n",
       "std    254.368812   9324.705056   5022.547446  25.047455   3.461978   1.393261\n",
       "min      1.000000    100.000000     87.000000   3.000000   0.000000   0.000000\n",
       "25%      7.000000    300.000000    286.000000   8.000000   0.000000   0.000000\n",
       "50%     47.000000   1527.000000   1493.000000  12.000000   4.000000   2.000000\n",
       "75%    447.000000  19111.000000  10388.000000  46.000000   4.000000   3.000000\n",
       "max    714.000000  20372.000000  11213.000000  90.000000  14.000000   3.000000"
      ]
     },
     "execution_count": 15,
     "metadata": {},
     "output_type": "execute_result"
    }
   ],
   "source": [
    "all_set_lists_df.groupby('Region', dropna=False).nunique().describe()"
   ]
  },
  {
   "cell_type": "code",
   "execution_count": 16,
   "id": "d0a1e8d7-26a7-4046-a14c-944f8871c05b",
   "metadata": {
    "papermill": {
     "duration": 0.408426,
     "end_time": "2023-01-25T23:23:32.339910",
     "exception": false,
     "start_time": "2023-01-25T23:23:31.931484",
     "status": "completed"
    },
    "tags": []
   },
   "outputs": [
    {
     "data": {
      "image/png": "[encoded data removed]",
      "text/plain": [
       "<Figure size 1800x600 with 1 Axes>"
      ]
     },
     "metadata": {},
     "output_type": "display_data"
    }
   ],
   "source": [
    "all_set_lists_df['Region'].value_counts().plot.bar(figsize = (18,6), grid=True, rot=0)\n",
    "plt.show()"
   ]
  },
  {
   "cell_type": "markdown",
   "id": "d14af727-aa5e-4326-8675-433d715c9aa8",
   "metadata": {
    "papermill": {
     "duration": 0.051972,
     "end_time": "2023-01-25T23:23:32.444666",
     "exception": false,
     "start_time": "2023-01-25T23:23:32.392694",
     "status": "completed"
    },
    "tags": []
   },
   "source": [
    "## Cover card"
   ]
  },
  {
   "cell_type": "code",
   "execution_count": null,
   "id": "4a30e731-507d-491e-99b7-b34fcbc4f20b",
   "metadata": {
    "papermill": {
     "duration": 0.283866,
     "end_time": "2023-01-25T23:23:32.781141",
     "exception": false,
     "start_time": "2023-01-25T23:23:32.497275",
     "status": "completed"
    },
    "tags": []
   },
   "outputs": [],
   "source": [
    "print('Total number of cover cards:', all_set_lists_df['Cover card'].explode('Cover card').nunique())"
   ]
  },
  {
   "cell_type": "code",
   "execution_count": null,
   "id": "6b7c3e7e-b70c-414a-a5ad-bd297771f1dd",
   "metadata": {
    "papermill": {
     "duration": 1.906327,
     "end_time": "2023-01-25T23:23:34.739482",
     "exception": false,
     "start_time": "2023-01-25T23:23:32.833155",
     "status": "completed"
    },
    "tags": []
   },
   "outputs": [],
   "source": [
    "all_set_lists_df.explode('Cover card').groupby('Cover card').nunique()"
   ]
  },
  {
   "cell_type": "code",
   "execution_count": null,
   "id": "294407de-9087-4e79-a7cb-a45366c212a1",
   "metadata": {
    "papermill": {
     "duration": 9.278714,
     "end_time": "2023-01-25T23:23:44.070577",
     "exception": false,
     "start_time": "2023-01-25T23:23:34.791863",
     "status": "completed"
    },
    "tags": []
   },
   "outputs": [],
   "source": [
    "all_set_lists_df['Cover card'].explode().value_counts().plot.barh(figsize = (10,180), grid=True)\n",
    "plt.show()"
   ]
  },
  {
   "cell_type": "markdown",
   "id": "4e958986-d855-4580-85ea-d417c6b358e9",
   "metadata": {
    "papermill": {
     "duration": 0.102276,
     "end_time": "2023-01-25T23:23:44.276861",
     "exception": false,
     "start_time": "2023-01-25T23:23:44.174585",
     "status": "completed"
    },
    "tags": []
   },
   "source": [
    "## Series"
   ]
  },
  {
   "cell_type": "code",
   "execution_count": 17,
   "id": "e010b8bc-5ffd-4a6a-a2e4-307b0de3a4bb",
   "metadata": {
    "papermill": {
     "duration": 0.15387,
     "end_time": "2023-01-25T23:23:44.537626",
     "exception": false,
     "start_time": "2023-01-25T23:23:44.383756",
     "status": "completed"
    },
    "tags": []
   },
   "outputs": [
    {
     "ename": "KeyError",
     "evalue": "'Series'",
     "output_type": "error",
     "traceback": [
      "\u001b[0;31m---------------------------------------------------------------------------\u001b[0m",
      "\u001b[0;31mKeyError\u001b[0m                                  Traceback (most recent call last)",
      "File \u001b[0;32m/opt/conda/lib/python3.10/site-packages/pandas/core/indexes/base.py:3803\u001b[0m, in \u001b[0;36mIndex.get_loc\u001b[0;34m(self, key, method, tolerance)\u001b[0m\n\u001b[1;32m   3802\u001b[0m \u001b[38;5;28;01mtry\u001b[39;00m:\n\u001b[0;32m-> 3803\u001b[0m     \u001b[38;5;28;01mreturn\u001b[39;00m \u001b[38;5;28;43mself\u001b[39;49m\u001b[38;5;241;43m.\u001b[39;49m\u001b[43m_engine\u001b[49m\u001b[38;5;241;43m.\u001b[39;49m\u001b[43mget_loc\u001b[49m\u001b[43m(\u001b[49m\u001b[43mcasted_key\u001b[49m\u001b[43m)\u001b[49m\n\u001b[1;32m   3804\u001b[0m \u001b[38;5;28;01mexcept\u001b[39;00m \u001b[38;5;167;01mKeyError\u001b[39;00m \u001b[38;5;28;01mas\u001b[39;00m err:\n",
      "File \u001b[0;32m/opt/conda/lib/python3.10/site-packages/pandas/_libs/index.pyx:138\u001b[0m, in \u001b[0;36mpandas._libs.index.IndexEngine.get_loc\u001b[0;34m()\u001b[0m\n",
      "File \u001b[0;32m/opt/conda/lib/python3.10/site-packages/pandas/_libs/index.pyx:165\u001b[0m, in \u001b[0;36mpandas._libs.index.IndexEngine.get_loc\u001b[0;34m()\u001b[0m\n",
      "File \u001b[0;32mpandas/_libs/hashtable_class_helper.pxi:5745\u001b[0m, in \u001b[0;36mpandas._libs.hashtable.PyObjectHashTable.get_item\u001b[0;34m()\u001b[0m\n",
      "File \u001b[0;32mpandas/_libs/hashtable_class_helper.pxi:5753\u001b[0m, in \u001b[0;36mpandas._libs.hashtable.PyObjectHashTable.get_item\u001b[0;34m()\u001b[0m\n",
      "\u001b[0;31mKeyError\u001b[0m: 'Series'",
      "\nThe above exception was the direct cause of the following exception:\n",
      "\u001b[0;31mKeyError\u001b[0m                                  Traceback (most recent call last)",
      "Cell \u001b[0;32mIn[17], line 1\u001b[0m\n\u001b[0;32m----> 1\u001b[0m \u001b[38;5;28mprint\u001b[39m(\u001b[38;5;124m'\u001b[39m\u001b[38;5;124mTotal number of series:\u001b[39m\u001b[38;5;124m'\u001b[39m, \u001b[43mall_set_lists_df\u001b[49m\u001b[43m[\u001b[49m\u001b[38;5;124;43m'\u001b[39;49m\u001b[38;5;124;43mSeries\u001b[39;49m\u001b[38;5;124;43m'\u001b[39;49m\u001b[43m]\u001b[49m\u001b[38;5;241m.\u001b[39mnunique())\n",
      "File \u001b[0;32m/opt/conda/lib/python3.10/site-packages/pandas/core/frame.py:3805\u001b[0m, in \u001b[0;36mDataFrame.__getitem__\u001b[0;34m(self, key)\u001b[0m\n\u001b[1;32m   3803\u001b[0m \u001b[38;5;28;01mif\u001b[39;00m \u001b[38;5;28mself\u001b[39m\u001b[38;5;241m.\u001b[39mcolumns\u001b[38;5;241m.\u001b[39mnlevels \u001b[38;5;241m>\u001b[39m \u001b[38;5;241m1\u001b[39m:\n\u001b[1;32m   3804\u001b[0m     \u001b[38;5;28;01mreturn\u001b[39;00m \u001b[38;5;28mself\u001b[39m\u001b[38;5;241m.\u001b[39m_getitem_multilevel(key)\n\u001b[0;32m-> 3805\u001b[0m indexer \u001b[38;5;241m=\u001b[39m \u001b[38;5;28;43mself\u001b[39;49m\u001b[38;5;241;43m.\u001b[39;49m\u001b[43mcolumns\u001b[49m\u001b[38;5;241;43m.\u001b[39;49m\u001b[43mget_loc\u001b[49m\u001b[43m(\u001b[49m\u001b[43mkey\u001b[49m\u001b[43m)\u001b[49m\n\u001b[1;32m   3806\u001b[0m \u001b[38;5;28;01mif\u001b[39;00m is_integer(indexer):\n\u001b[1;32m   3807\u001b[0m     indexer \u001b[38;5;241m=\u001b[39m [indexer]\n",
      "File \u001b[0;32m/opt/conda/lib/python3.10/site-packages/pandas/core/indexes/base.py:3805\u001b[0m, in \u001b[0;36mIndex.get_loc\u001b[0;34m(self, key, method, tolerance)\u001b[0m\n\u001b[1;32m   3803\u001b[0m     \u001b[38;5;28;01mreturn\u001b[39;00m \u001b[38;5;28mself\u001b[39m\u001b[38;5;241m.\u001b[39m_engine\u001b[38;5;241m.\u001b[39mget_loc(casted_key)\n\u001b[1;32m   3804\u001b[0m \u001b[38;5;28;01mexcept\u001b[39;00m \u001b[38;5;167;01mKeyError\u001b[39;00m \u001b[38;5;28;01mas\u001b[39;00m err:\n\u001b[0;32m-> 3805\u001b[0m     \u001b[38;5;28;01mraise\u001b[39;00m \u001b[38;5;167;01mKeyError\u001b[39;00m(key) \u001b[38;5;28;01mfrom\u001b[39;00m \u001b[38;5;21;01merr\u001b[39;00m\n\u001b[1;32m   3806\u001b[0m \u001b[38;5;28;01mexcept\u001b[39;00m \u001b[38;5;167;01mTypeError\u001b[39;00m:\n\u001b[1;32m   3807\u001b[0m     \u001b[38;5;66;03m# If we have a listlike key, _check_indexing_error will raise\u001b[39;00m\n\u001b[1;32m   3808\u001b[0m     \u001b[38;5;66;03m#  InvalidIndexError. Otherwise we fall through and re-raise\u001b[39;00m\n\u001b[1;32m   3809\u001b[0m     \u001b[38;5;66;03m#  the TypeError.\u001b[39;00m\n\u001b[1;32m   3810\u001b[0m     \u001b[38;5;28mself\u001b[39m\u001b[38;5;241m.\u001b[39m_check_indexing_error(key)\n",
      "\u001b[0;31mKeyError\u001b[0m: 'Series'"
     ]
    }
   ],
   "source": [
    "print('Total number of series:', all_set_lists_df['Series'].nunique())"
   ]
  },
  {
   "cell_type": "code",
   "execution_count": null,
   "id": "a64f8d6c-d76f-4a7f-95a6-b3037fa91107",
   "metadata": {
    "papermill": {
     "duration": 0.663088,
     "end_time": "2023-01-25T23:23:45.303390",
     "exception": false,
     "start_time": "2023-01-25T23:23:44.640302",
     "status": "completed"
    },
    "tags": []
   },
   "outputs": [],
   "source": [
    "all_set_lists_df.groupby('Series').nunique()"
   ]
  },
  {
   "cell_type": "code",
   "execution_count": null,
   "id": "303f345a-508f-40a8-9eb1-9935115a8e6e",
   "metadata": {
    "papermill": {
     "duration": 0.805317,
     "end_time": "2023-01-25T23:23:46.212504",
     "exception": false,
     "start_time": "2023-01-25T23:23:45.407187",
     "status": "completed"
    },
    "tags": []
   },
   "outputs": [],
   "source": [
    "all_set_lists_df['Series'].value_counts().plot.barh(figsize = (10,15), grid=True)\n",
    "plt.show()"
   ]
  },
  {
   "cell_type": "markdown",
   "id": "b26530cf-f5e2-453f-a7ad-f516748ef16a",
   "metadata": {
    "jp-MarkdownHeadingCollapsed": true,
    "papermill": {
     "duration": 0.161902,
     "end_time": "2023-01-25T23:23:46.488024",
     "exception": false,
     "start_time": "2023-01-25T23:23:46.326122",
     "status": "completed"
    },
    "tags": []
   },
   "source": [
    "## Set type"
   ]
  },
  {
   "cell_type": "code",
   "execution_count": null,
   "id": "dd581283-b889-4572-ab89-0a2353f01ddd",
   "metadata": {
    "papermill": {
     "duration": 0.133446,
     "end_time": "2023-01-25T23:23:46.730611",
     "exception": false,
     "start_time": "2023-01-25T23:23:46.597165",
     "status": "completed"
    },
    "tags": []
   },
   "outputs": [],
   "source": [
    "print('Total number of set types:', all_set_lists_df['Set type'].nunique())"
   ]
  },
  {
   "cell_type": "code",
   "execution_count": null,
   "id": "2baa0c6a-baf5-4e4a-9bf2-2102295e876c",
   "metadata": {
    "papermill": {
     "duration": 0.700036,
     "end_time": "2023-01-25T23:23:47.539580",
     "exception": false,
     "start_time": "2023-01-25T23:23:46.839544",
     "status": "completed"
    },
    "tags": []
   },
   "outputs": [],
   "source": [
    "all_set_lists_df.groupby('Set type').nunique()"
   ]
  },
  {
   "cell_type": "code",
   "execution_count": null,
   "id": "b4465c2d-19c8-49a3-8c6a-eb6e16f7f711",
   "metadata": {
    "papermill": {
     "duration": 0.922785,
     "end_time": "2023-01-25T23:23:48.573407",
     "exception": false,
     "start_time": "2023-01-25T23:23:47.650622",
     "status": "completed"
    },
    "tags": []
   },
   "outputs": [],
   "source": [
    "set_info_df['Set type'].value_counts().plot.barh(figsize = (10,10), grid=True)\n",
    "plt.show()"
   ]
  },
  {
   "cell_type": "markdown",
   "id": "59ab414c-6e2a-4b71-9110-a62416d7e390",
   "metadata": {
    "jp-MarkdownHeadingCollapsed": true,
    "papermill": {
     "duration": 0.112442,
     "end_time": "2023-01-25T23:23:48.800340",
     "exception": false,
     "start_time": "2023-01-25T23:23:48.687898",
     "status": "completed"
    },
    "tags": []
   },
   "source": [
    "## Release"
   ]
  },
  {
   "cell_type": "code",
   "execution_count": null,
   "id": "37648341-3420-4e9c-a3c4-e9e63b517c32",
   "metadata": {
    "papermill": {
     "duration": 0.125496,
     "end_time": "2023-01-25T23:23:49.038264",
     "exception": false,
     "start_time": "2023-01-25T23:23:48.912768",
     "status": "completed"
    },
    "tags": []
   },
   "outputs": [],
   "source": [
    "print('Total number of release dates:', all_set_lists_df['Release'].nunique())"
   ]
  },
  {
   "cell_type": "code",
   "execution_count": null,
   "id": "251efa78-66cd-492d-931a-74bf5008a31d",
   "metadata": {
    "papermill": {
     "duration": 0.692919,
     "end_time": "2023-01-25T23:23:49.843407",
     "exception": false,
     "start_time": "2023-01-25T23:23:49.150488",
     "status": "completed"
    },
    "tags": []
   },
   "outputs": [],
   "source": [
    "all_set_lists_df.groupby('Release', dropna=False).nunique()"
   ]
  },
  {
   "cell_type": "code",
   "execution_count": null,
   "id": "53dfbe7b-a712-4920-8ec7-1cb9c49f8930",
   "metadata": {
    "papermill": {
     "duration": 0.15756,
     "end_time": "2023-01-25T23:23:50.113689",
     "exception": false,
     "start_time": "2023-01-25T23:23:49.956129",
     "status": "completed"
    },
    "tags": []
   },
   "outputs": [],
   "source": [
    "set_by_release = pd.DataFrame(all_set_lists_df.groupby('Release', dropna=False)['Set'].nunique())"
   ]
  },
  {
   "cell_type": "markdown",
   "id": "00b59bc1-c809-4a3c-8fe5-c1efa509ea48",
   "metadata": {
    "papermill": {
     "duration": 0.112491,
     "end_time": "2023-01-25T23:23:50.339987",
     "exception": false,
     "start_time": "2023-01-25T23:23:50.227496",
     "status": "completed"
    },
    "tags": []
   },
   "source": [
    "### By year"
   ]
  },
  {
   "cell_type": "code",
   "execution_count": null,
   "id": "19c6c510-0e40-4c7b-b1b5-19869d5c296c",
   "metadata": {
    "papermill": {
     "duration": 0.711266,
     "end_time": "2023-01-25T23:23:51.167289",
     "exception": false,
     "start_time": "2023-01-25T23:23:50.456023",
     "status": "completed"
    },
    "tags": []
   },
   "outputs": [],
   "source": [
    "all_set_lists_df.drop('Modification date', axis=1).groupby('Release', dropna=False).nunique().groupby(set_by_release.index.strftime('%Y')).sum()"
   ]
  },
  {
   "cell_type": "code",
   "execution_count": null,
   "id": "fc6134ac-8c90-44e5-9461-9caccec72eca",
   "metadata": {
    "papermill": {
     "duration": 2.336464,
     "end_time": "2023-01-25T23:23:53.617828",
     "exception": false,
     "start_time": "2023-01-25T23:23:51.281364",
     "status": "completed"
    },
    "tags": []
   },
   "outputs": [],
   "source": [
    "rate_plot(set_by_release)"
   ]
  },
  {
   "cell_type": "markdown",
   "id": "1a453fb1-4971-4b2d-80d1-8cb4e9fe8d91",
   "metadata": {
    "papermill": {
     "duration": 0.125882,
     "end_time": "2023-01-25T23:23:53.865420",
     "exception": false,
     "start_time": "2023-01-25T23:23:53.739538",
     "status": "completed"
    },
    "tags": []
   },
   "source": [
    "### By month"
   ]
  },
  {
   "cell_type": "code",
   "execution_count": null,
   "id": "dc6517e9-0ab6-4a0a-b0ba-ffe6fa43855a",
   "metadata": {
    "papermill": {
     "duration": 0.466989,
     "end_time": "2023-01-25T23:23:54.559173",
     "exception": false,
     "start_time": "2023-01-25T23:23:54.092184",
     "status": "completed"
    },
    "tags": []
   },
   "outputs": [],
   "source": [
    "set_by_release.groupby(set_by_release.index.strftime('%B')).sum().sort_index(key=lambda x: pd.to_datetime(x, format='%B').month).plot.bar(figsize= (16,8), grid=True, xlabel = 'Release month', rot = 0)\n",
    "plt.show()"
   ]
  },
  {
   "cell_type": "code",
   "execution_count": null,
   "id": "36e2463e-83b1-418a-a5e4-fbda3b716f97",
   "metadata": {
    "papermill": {
     "duration": 0.624117,
     "end_time": "2023-01-25T23:23:55.301714",
     "exception": false,
     "start_time": "2023-01-25T23:23:54.677597",
     "status": "completed"
    },
    "tags": []
   },
   "outputs": [],
   "source": [
    "set_by_release.groupby(set_by_release.index.strftime('%d')).sum().plot.bar(figsize= (16,8), grid=True, xlabel = 'Release day of the month', rot = 0)\n",
    "plt.show()"
   ]
  },
  {
   "cell_type": "markdown",
   "id": "2b44c11e-6f63-48dd-9122-941068f50cc6",
   "metadata": {
    "papermill": {
     "duration": 0.118846,
     "end_time": "2023-01-25T23:23:55.539819",
     "exception": false,
     "start_time": "2023-01-25T23:23:55.420973",
     "status": "completed"
    },
    "tags": []
   },
   "source": [
    "### By day"
   ]
  },
  {
   "cell_type": "code",
   "execution_count": null,
   "id": "b33a17bb-8a47-41bf-977b-c4d89e81d814",
   "metadata": {
    "papermill": {
     "duration": 0.433755,
     "end_time": "2023-01-25T23:23:56.099076",
     "exception": false,
     "start_time": "2023-01-25T23:23:55.665321",
     "status": "completed"
    },
    "tags": []
   },
   "outputs": [],
   "source": [
    "set_by_release.groupby(set_by_release.index.dayofyear).sum().plot(figsize= (16,8), grid=True, xlabel = 'Release day of the year')\n",
    "plt.show()"
   ]
  },
  {
   "cell_type": "code",
   "execution_count": null,
   "id": "a40ee744-975c-42a8-9155-d8c0d0fbc209",
   "metadata": {
    "papermill": {
     "duration": 0.423314,
     "end_time": "2023-01-25T23:23:56.650848",
     "exception": false,
     "start_time": "2023-01-25T23:23:56.227534",
     "status": "completed"
    },
    "tags": []
   },
   "outputs": [],
   "source": [
    "set_by_release_wd = set_by_release.groupby(set_by_release.index.weekday).sum()\n",
    "set_by_release_wd.index = [calendar.day_name[i] for i in set_by_release_wd.index.astype(int)]\n",
    "set_by_release_wd.plot.bar(figsize= (16,8), grid=True, xlabel = 'Release day of the week', rot = 0)\n",
    "plt.show()"
   ]
  },
  {
   "cell_type": "markdown",
   "id": "5d1e240c-c712-4b39-8ed5-3ca1fe2cca9c",
   "metadata": {
    "papermill": {
     "duration": 0.12577,
     "end_time": "2023-01-25T23:23:56.902363",
     "exception": false,
     "start_time": "2023-01-25T23:23:56.776593",
     "status": "completed"
    },
    "tags": []
   },
   "source": [
    "### By region"
   ]
  },
  {
   "cell_type": "code",
   "execution_count": null,
   "id": "8d64abbe-da2c-4242-9db6-f63bdaf1c61d",
   "metadata": {
    "papermill": {
     "duration": 0.719632,
     "end_time": "2023-01-25T23:23:57.746734",
     "exception": false,
     "start_time": "2023-01-25T23:23:57.027102",
     "status": "completed"
    },
    "tags": []
   },
   "outputs": [],
   "source": [
    "by_release_region = all_set_lists_df.groupby(['Region','Release']).nunique()\n",
    "by_release_region"
   ]
  },
  {
   "cell_type": "code",
   "execution_count": null,
   "id": "6365aa88-656e-4c66-9325-79f933b27662",
   "metadata": {
    "papermill": {
     "duration": 0.243343,
     "end_time": "2023-01-25T23:23:58.112628",
     "exception": false,
     "start_time": "2023-01-25T23:23:57.869285",
     "status": "completed"
    },
    "tags": []
   },
   "outputs": [],
   "source": [
    "set_by_release_region = by_release_region['Set'].unstack(0).sort_index().fillna(0).astype(int)\n",
    "set_by_release_region_y = set_by_release_region.groupby(set_by_release_region.index.strftime('%Y')).sum().T\n",
    "set_by_release_region_y"
   ]
  },
  {
   "cell_type": "code",
   "execution_count": null,
   "id": "4ea33195-87ea-48e8-af5b-2281792bdcfb",
   "metadata": {
    "papermill": {
     "duration": 1.234869,
     "end_time": "2023-01-25T23:23:59.473467",
     "exception": false,
     "start_time": "2023-01-25T23:23:58.238598",
     "status": "completed"
    },
    "tags": []
   },
   "outputs": [],
   "source": [
    "plt.figure(figsize = (20,10))\n",
    "sns.heatmap(set_by_release_region_y[set_by_release_region_y>0], annot=True, fmt='g', cmap='viridis', square=True)\n",
    "plt.show()"
   ]
  },
  {
   "cell_type": "code",
   "execution_count": null,
   "id": "66f07fb9-5fc7-4c55-8ba3-b75bda610e89",
   "metadata": {
    "papermill": {
     "duration": 33.916741,
     "end_time": "2023-01-25T23:24:33.520077",
     "exception": false,
     "start_time": "2023-01-25T23:23:59.603336",
     "status": "completed"
    },
    "tags": []
   },
   "outputs": [],
   "source": [
    "rate_subplots(set_by_release_region, title='Set releases')"
   ]
  },
  {
   "cell_type": "markdown",
   "id": "9c7647f5-a954-40d9-8481-4f8dec29f5f1",
   "metadata": {
    "papermill": {
     "duration": 0.158019,
     "end_time": "2023-01-25T23:24:33.837670",
     "exception": false,
     "start_time": "2023-01-25T23:24:33.679651",
     "status": "completed"
    },
    "tags": []
   },
   "source": [
    "### By series"
   ]
  },
  {
   "cell_type": "code",
   "execution_count": null,
   "id": "ff1e673d-c515-4774-a993-d693de418e0a",
   "metadata": {
    "papermill": {
     "duration": 1.029718,
     "end_time": "2023-01-25T23:24:35.030495",
     "exception": false,
     "start_time": "2023-01-25T23:24:34.000777",
     "status": "completed"
    },
    "tags": []
   },
   "outputs": [],
   "source": [
    "by_release_series = all_set_lists_df.explode('Series').groupby(['Series','Release']).nunique()\n",
    "by_release_series"
   ]
  },
  {
   "cell_type": "code",
   "execution_count": null,
   "id": "e2853b51-5b73-43b0-a44c-e1f025640055",
   "metadata": {
    "papermill": {
     "duration": 0.226548,
     "end_time": "2023-01-25T23:24:35.416015",
     "exception": false,
     "start_time": "2023-01-25T23:24:35.189467",
     "status": "completed"
    },
    "tags": []
   },
   "outputs": [],
   "source": [
    "set_by_release_series = by_release_series['Set'].unstack(0).sort_index().fillna(0).astype(int)\n",
    "set_by_release_series_y = set_by_release_series.groupby(set_by_release_series.index.strftime('%Y')).sum().T\n",
    "set_by_release_series_y"
   ]
  },
  {
   "cell_type": "code",
   "execution_count": null,
   "id": "302c2746-3866-4564-ac2f-ba0164e7f799",
   "metadata": {
    "papermill": {
     "duration": 1.734739,
     "end_time": "2023-01-25T23:24:37.324274",
     "exception": false,
     "start_time": "2023-01-25T23:24:35.589535",
     "status": "completed"
    },
    "tags": []
   },
   "outputs": [],
   "source": [
    "plt.figure(figsize = (20,16))\n",
    "sns.heatmap(set_by_release_series_y[set_by_release_series_y>0], annot=True, fmt='g', cmap='viridis', square=True)\n",
    "plt.show()"
   ]
  },
  {
   "cell_type": "code",
   "execution_count": null,
   "id": "753e6cd5-2ea0-4f59-b9aa-070151f50e09",
   "metadata": {
    "papermill": {
     "duration": 87.497753,
     "end_time": "2023-01-25T23:26:04.993027",
     "exception": false,
     "start_time": "2023-01-25T23:24:37.495274",
     "status": "completed"
    },
    "tags": []
   },
   "outputs": [],
   "source": [
    "rate_subplots(set_by_release_series, title='Set releases')"
   ]
  },
  {
   "cell_type": "markdown",
   "id": "20454f30-596a-48c1-8fe8-08ed03a01bdc",
   "metadata": {
    "papermill": {
     "duration": 0.230107,
     "end_time": "2023-01-25T23:26:05.462868",
     "exception": false,
     "start_time": "2023-01-25T23:26:05.232761",
     "status": "completed"
    },
    "tags": []
   },
   "source": [
    "### By set type"
   ]
  },
  {
   "cell_type": "code",
   "execution_count": null,
   "id": "dc7b725b-3563-46e3-91b7-ffee643a2f6c",
   "metadata": {
    "papermill": {
     "duration": 1.10719,
     "end_time": "2023-01-25T23:26:06.799982",
     "exception": false,
     "start_time": "2023-01-25T23:26:05.692792",
     "status": "completed"
    },
    "tags": []
   },
   "outputs": [],
   "source": [
    "by_release_type = all_set_lists_df.explode('Set type').groupby(['Set type','Release']).nunique()\n",
    "by_release_type"
   ]
  },
  {
   "cell_type": "code",
   "execution_count": null,
   "id": "654fb9be-3bee-4878-9957-18af48c06d2b",
   "metadata": {
    "papermill": {
     "duration": 0.298917,
     "end_time": "2023-01-25T23:26:07.330531",
     "exception": false,
     "start_time": "2023-01-25T23:26:07.031614",
     "status": "completed"
    },
    "tags": []
   },
   "outputs": [],
   "source": [
    "set_by_release_type = by_release_type['Set'].unstack(0).sort_index().fillna(0).astype(int)\n",
    "set_by_release_type_y = set_by_release_type.groupby(set_by_release_type.index.strftime('%Y')).sum().T\n",
    "set_by_release_type_y"
   ]
  },
  {
   "cell_type": "code",
   "execution_count": null,
   "id": "c7f881fa-d769-4c83-a663-6f8a79cb1907",
   "metadata": {
    "papermill": {
     "duration": 2.191069,
     "end_time": "2023-01-25T23:26:09.759575",
     "exception": false,
     "start_time": "2023-01-25T23:26:07.568506",
     "status": "completed"
    },
    "tags": []
   },
   "outputs": [],
   "source": [
    "plt.figure(figsize = (20,16))\n",
    "sns.heatmap(set_by_release_type_y[set_by_release_type_y>0], annot=True, fmt='g', cmap='viridis', square=True)\n",
    "plt.show()"
   ]
  },
  {
   "cell_type": "code",
   "execution_count": null,
   "id": "a056c73e-9011-4b00-b993-7e72899abfc5",
   "metadata": {
    "papermill": {
     "duration": 74.464122,
     "end_time": "2023-01-25T23:27:24.541453",
     "exception": false,
     "start_time": "2023-01-25T23:26:10.077331",
     "status": "completed"
    },
    "tags": []
   },
   "outputs": [],
   "source": [
    "rate_subplots(set_by_release_type, title='Set releases')"
   ]
  },
  {
   "cell_type": "markdown",
   "id": "87158376-29ce-446a-8019-870cef12a427",
   "metadata": {
    "papermill": {
     "duration": 0.300144,
     "end_time": "2023-01-25T23:27:25.145178",
     "exception": false,
     "start_time": "2023-01-25T23:27:24.845034",
     "status": "completed"
    },
    "tags": []
   },
   "source": [
    "# Debug"
   ]
  },
  {
   "cell_type": "markdown",
   "id": "bb613435-0c31-4131-990f-38b1528895ee",
   "metadata": {
    "papermill": {
     "duration": 0.303587,
     "end_time": "2023-01-25T23:27:25.855547",
     "exception": false,
     "start_time": "2023-01-25T23:27:25.551960",
     "status": "completed"
    },
    "tags": []
   },
   "source": [
    "This section is used for debugging the extraction of data from MediaWiki query responses"
   ]
  },
  {
   "cell_type": "markdown",
   "id": "7e03ada7-b5d4-45b9-a2f0-e3529ffb8232",
   "metadata": {
    "papermill": {
     "duration": 0.296676,
     "end_time": "2023-01-25T23:27:26.449032",
     "exception": false,
     "start_time": "2023-01-25T23:27:26.152356",
     "status": "completed"
    },
    "tags": []
   },
   "source": [
    "## Has nan name/number"
   ]
  },
  {
   "cell_type": "code",
   "execution_count": 18,
   "id": "3e635066-7b4f-45b5-9cff-e7989b5f820c",
   "metadata": {
    "papermill": {
     "duration": 0.470558,
     "end_time": "2023-01-25T23:27:27.307201",
     "exception": false,
     "start_time": "2023-01-25T23:27:26.836643",
     "status": "completed"
    },
    "tags": []
   },
   "outputs": [
    {
     "data": {
      "text/html": [
       "<div>\n",
       "<style scoped>\n",
       "    .dataframe tbody tr th:only-of-type {\n",
       "        vertical-align: middle;\n",
       "    }\n",
       "\n",
       "    .dataframe tbody tr th {\n",
       "        vertical-align: top;\n",
       "    }\n",
       "\n",
       "    .dataframe thead th {\n",
       "        text-align: right;\n",
       "    }\n",
       "</style>\n",
       "<table border=\"1\" class=\"dataframe\">\n",
       "  <thead>\n",
       "    <tr style=\"text-align: right;\">\n",
       "      <th></th>\n",
       "      <th>Set</th>\n",
       "      <th>Card number</th>\n",
       "      <th>Name</th>\n",
       "      <th>Rarity</th>\n",
       "      <th>Print</th>\n",
       "      <th>Quantity</th>\n",
       "      <th>Region</th>\n",
       "    </tr>\n",
       "  </thead>\n",
       "  <tbody>\n",
       "    <tr>\n",
       "      <th>594</th>\n",
       "      <td>Master of Pendulum Structure Deck</td>\n",
       "      <td>&lt;NA&gt;</td>\n",
       "      <td>&lt;NA&gt;</td>\n",
       "      <td>(Common,)</td>\n",
       "      <td>&lt;NA&gt;</td>\n",
       "      <td>&lt;NA&gt;</td>\n",
       "      <td>DE</td>\n",
       "    </tr>\n",
       "    <tr>\n",
       "      <th>740</th>\n",
       "      <td>Premium Pack</td>\n",
       "      <td>&lt;NA&gt;</td>\n",
       "      <td>Time Wizard</td>\n",
       "      <td>(Secret Rare,)</td>\n",
       "      <td>&lt;NA&gt;</td>\n",
       "      <td>&lt;NA&gt;</td>\n",
       "      <td>JP</td>\n",
       "    </tr>\n",
       "    <tr>\n",
       "      <th>741</th>\n",
       "      <td>Premium Pack</td>\n",
       "      <td>&lt;NA&gt;</td>\n",
       "      <td>Exodia the Forbidden One</td>\n",
       "      <td>(Ultra Rare,)</td>\n",
       "      <td>&lt;NA&gt;</td>\n",
       "      <td>&lt;NA&gt;</td>\n",
       "      <td>JP</td>\n",
       "    </tr>\n",
       "    <tr>\n",
       "      <th>742</th>\n",
       "      <td>Premium Pack</td>\n",
       "      <td>&lt;NA&gt;</td>\n",
       "      <td>Dancing Elf</td>\n",
       "      <td>(Ultra Rare,)</td>\n",
       "      <td>&lt;NA&gt;</td>\n",
       "      <td>&lt;NA&gt;</td>\n",
       "      <td>JP</td>\n",
       "    </tr>\n",
       "    <tr>\n",
       "      <th>743</th>\n",
       "      <td>Premium Pack</td>\n",
       "      <td>&lt;NA&gt;</td>\n",
       "      <td>Goddess of Whim</td>\n",
       "      <td>(Ultra Rare,)</td>\n",
       "      <td>&lt;NA&gt;</td>\n",
       "      <td>&lt;NA&gt;</td>\n",
       "      <td>JP</td>\n",
       "    </tr>\n",
       "    <tr>\n",
       "      <th>...</th>\n",
       "      <td>...</td>\n",
       "      <td>...</td>\n",
       "      <td>...</td>\n",
       "      <td>...</td>\n",
       "      <td>...</td>\n",
       "      <td>...</td>\n",
       "      <td>...</td>\n",
       "    </tr>\n",
       "    <tr>\n",
       "      <th>143433</th>\n",
       "      <td>EX Starter Box</td>\n",
       "      <td>&lt;NA&gt;</td>\n",
       "      <td>Reverse Trap</td>\n",
       "      <td>(Common,)</td>\n",
       "      <td>Reprint</td>\n",
       "      <td>1</td>\n",
       "      <td>JP</td>\n",
       "    </tr>\n",
       "    <tr>\n",
       "      <th>143434</th>\n",
       "      <td>EX Starter Box</td>\n",
       "      <td>&lt;NA&gt;</td>\n",
       "      <td>Remove Trap</td>\n",
       "      <td>(Common,)</td>\n",
       "      <td>Reprint</td>\n",
       "      <td>1</td>\n",
       "      <td>JP</td>\n",
       "    </tr>\n",
       "    <tr>\n",
       "      <th>143435</th>\n",
       "      <td>EX Starter Box</td>\n",
       "      <td>&lt;NA&gt;</td>\n",
       "      <td>De-Spell</td>\n",
       "      <td>(Common,)</td>\n",
       "      <td>Reprint</td>\n",
       "      <td>2</td>\n",
       "      <td>JP</td>\n",
       "    </tr>\n",
       "    <tr>\n",
       "      <th>143436</th>\n",
       "      <td>EX Starter Box</td>\n",
       "      <td>&lt;NA&gt;</td>\n",
       "      <td>Castle Walls</td>\n",
       "      <td>(Common,)</td>\n",
       "      <td>Reprint</td>\n",
       "      <td>1</td>\n",
       "      <td>JP</td>\n",
       "    </tr>\n",
       "    <tr>\n",
       "      <th>143437</th>\n",
       "      <td>EX Starter Box</td>\n",
       "      <td>&lt;NA&gt;</td>\n",
       "      <td>Ultimate Offering</td>\n",
       "      <td>(Common,)</td>\n",
       "      <td>Reprint</td>\n",
       "      <td>1</td>\n",
       "      <td>JP</td>\n",
       "    </tr>\n",
       "  </tbody>\n",
       "</table>\n",
       "<p>733 rows × 7 columns</p>\n",
       "</div>"
      ],
      "text/plain": [
       "                                      Set Card number  \\\n",
       "594     Master of Pendulum Structure Deck        <NA>   \n",
       "740                          Premium Pack        <NA>   \n",
       "741                          Premium Pack        <NA>   \n",
       "742                          Premium Pack        <NA>   \n",
       "743                          Premium Pack        <NA>   \n",
       "...                                   ...         ...   \n",
       "143433                     EX Starter Box        <NA>   \n",
       "143434                     EX Starter Box        <NA>   \n",
       "143435                     EX Starter Box        <NA>   \n",
       "143436                     EX Starter Box        <NA>   \n",
       "143437                     EX Starter Box        <NA>   \n",
       "\n",
       "                            Name          Rarity    Print Quantity Region  \n",
       "594                         <NA>       (Common,)     <NA>     <NA>     DE  \n",
       "740                  Time Wizard  (Secret Rare,)     <NA>     <NA>     JP  \n",
       "741     Exodia the Forbidden One   (Ultra Rare,)     <NA>     <NA>     JP  \n",
       "742                  Dancing Elf   (Ultra Rare,)     <NA>     <NA>     JP  \n",
       "743              Goddess of Whim   (Ultra Rare,)     <NA>     <NA>     JP  \n",
       "...                          ...             ...      ...      ...    ...  \n",
       "143433              Reverse Trap       (Common,)  Reprint        1     JP  \n",
       "143434               Remove Trap       (Common,)  Reprint        1     JP  \n",
       "143435                  De-Spell       (Common,)  Reprint        2     JP  \n",
       "143436              Castle Walls       (Common,)  Reprint        1     JP  \n",
       "143437         Ultimate Offering       (Common,)  Reprint        1     JP  \n",
       "\n",
       "[733 rows x 7 columns]"
      ]
     },
     "execution_count": 18,
     "metadata": {},
     "output_type": "execute_result"
    }
   ],
   "source": [
    "all_set_lists_df[all_set_lists_df['Name'].isna() | all_set_lists_df['Card number'].isna()]"
   ]
  },
  {
   "cell_type": "markdown",
   "id": "e8543cd1-14cc-4afe-937c-8ddad00e28ac",
   "metadata": {
    "papermill": {
     "duration": 0.295864,
     "end_time": "2023-01-25T23:27:27.906158",
     "exception": false,
     "start_time": "2023-01-25T23:27:27.610294",
     "status": "completed"
    },
    "tags": []
   },
   "source": [
    "## Has nan rarity"
   ]
  },
  {
   "cell_type": "code",
   "execution_count": 19,
   "id": "902b60d0-8f15-4ad8-ad76-c937f0889c6a",
   "metadata": {
    "papermill": {
     "duration": 1.61323,
     "end_time": "2023-01-25T23:27:29.840008",
     "exception": false,
     "start_time": "2023-01-25T23:27:28.226778",
     "status": "completed"
    },
    "tags": []
   },
   "outputs": [
    {
     "data": {
      "text/plain": [
       "<StringArray>\n",
       "[                   'Dark Beginning 1',                    'Dark Beginning 2',\n",
       " 'Advanced Tournament Pack 2013 Vol.4',      'Advanced Event Pack 2013 Vol.2',\n",
       "   'The Valuable Book character cards', 'Advanced Tournament Pack 2016 Vol.1',\n",
       "      'Advanced Event Pack 2014 Vol.1',            'Dark Revelation Volume 2',\n",
       " 'Advanced Tournament Pack 2013 Vol.3',            'V Jump April 2013 Tokens',\n",
       "            'Dark Revelation Volume 1',                     'Classic Pack 03',\n",
       "   'Deck Build Pack: Tactical Masters']\n",
       "Length: 13, dtype: string"
      ]
     },
     "execution_count": 19,
     "metadata": {},
     "output_type": "execute_result"
    }
   ],
   "source": [
    "all_set_lists_df.explode('Rarity')[all_set_lists_df.explode('Rarity')['Rarity'].isna()]['Set'].unique()"
   ]
  },
  {
   "cell_type": "markdown",
   "id": "330f97d2-0a01-4cf5-a2a5-2df2c08ffbc6",
   "metadata": {
    "papermill": {
     "duration": 0.302452,
     "end_time": "2023-01-25T23:27:32.836510",
     "exception": false,
     "start_time": "2023-01-25T23:27:32.534058",
     "status": "completed"
    },
    "tags": []
   },
   "source": [
    "## Has nan release"
   ]
  },
  {
   "cell_type": "code",
   "execution_count": 23,
   "id": "dd4a54bc-ff61-4044-a480-272a75584e91",
   "metadata": {
    "papermill": {
     "duration": 0.341419,
     "end_time": "2023-01-25T23:27:33.489393",
     "exception": false,
     "start_time": "2023-01-25T23:27:33.147974",
     "status": "completed"
    },
    "tags": []
   },
   "outputs": [
    {
     "ename": "KeyError",
     "evalue": "'Release'",
     "output_type": "error",
     "traceback": [
      "\u001b[0;31m---------------------------------------------------------------------------\u001b[0m",
      "\u001b[0;31mKeyError\u001b[0m                                  Traceback (most recent call last)",
      "File \u001b[0;32m/opt/conda/lib/python3.10/site-packages/pandas/core/indexes/base.py:3803\u001b[0m, in \u001b[0;36mIndex.get_loc\u001b[0;34m(self, key, method, tolerance)\u001b[0m\n\u001b[1;32m   3802\u001b[0m \u001b[38;5;28;01mtry\u001b[39;00m:\n\u001b[0;32m-> 3803\u001b[0m     \u001b[38;5;28;01mreturn\u001b[39;00m \u001b[38;5;28;43mself\u001b[39;49m\u001b[38;5;241;43m.\u001b[39;49m\u001b[43m_engine\u001b[49m\u001b[38;5;241;43m.\u001b[39;49m\u001b[43mget_loc\u001b[49m\u001b[43m(\u001b[49m\u001b[43mcasted_key\u001b[49m\u001b[43m)\u001b[49m\n\u001b[1;32m   3804\u001b[0m \u001b[38;5;28;01mexcept\u001b[39;00m \u001b[38;5;167;01mKeyError\u001b[39;00m \u001b[38;5;28;01mas\u001b[39;00m err:\n",
      "File \u001b[0;32m/opt/conda/lib/python3.10/site-packages/pandas/_libs/index.pyx:138\u001b[0m, in \u001b[0;36mpandas._libs.index.IndexEngine.get_loc\u001b[0;34m()\u001b[0m\n",
      "File \u001b[0;32m/opt/conda/lib/python3.10/site-packages/pandas/_libs/index.pyx:165\u001b[0m, in \u001b[0;36mpandas._libs.index.IndexEngine.get_loc\u001b[0;34m()\u001b[0m\n",
      "File \u001b[0;32mpandas/_libs/hashtable_class_helper.pxi:5745\u001b[0m, in \u001b[0;36mpandas._libs.hashtable.PyObjectHashTable.get_item\u001b[0;34m()\u001b[0m\n",
      "File \u001b[0;32mpandas/_libs/hashtable_class_helper.pxi:5753\u001b[0m, in \u001b[0;36mpandas._libs.hashtable.PyObjectHashTable.get_item\u001b[0;34m()\u001b[0m\n",
      "\u001b[0;31mKeyError\u001b[0m: 'Release'",
      "\nThe above exception was the direct cause of the following exception:\n",
      "\u001b[0;31mKeyError\u001b[0m                                  Traceback (most recent call last)",
      "Cell \u001b[0;32mIn[23], line 1\u001b[0m\n\u001b[0;32m----> 1\u001b[0m all_set_lists_df[\u001b[43mall_set_lists_df\u001b[49m\u001b[43m[\u001b[49m\u001b[38;5;124;43m'\u001b[39;49m\u001b[38;5;124;43mRelease\u001b[39;49m\u001b[38;5;124;43m'\u001b[39;49m\u001b[43m]\u001b[49m\u001b[38;5;241m.\u001b[39misna()][\u001b[38;5;124m'\u001b[39m\u001b[38;5;124mSet\u001b[39m\u001b[38;5;124m'\u001b[39m]\u001b[38;5;241m.\u001b[39munique()\n",
      "File \u001b[0;32m/opt/conda/lib/python3.10/site-packages/pandas/core/frame.py:3805\u001b[0m, in \u001b[0;36mDataFrame.__getitem__\u001b[0;34m(self, key)\u001b[0m\n\u001b[1;32m   3803\u001b[0m \u001b[38;5;28;01mif\u001b[39;00m \u001b[38;5;28mself\u001b[39m\u001b[38;5;241m.\u001b[39mcolumns\u001b[38;5;241m.\u001b[39mnlevels \u001b[38;5;241m>\u001b[39m \u001b[38;5;241m1\u001b[39m:\n\u001b[1;32m   3804\u001b[0m     \u001b[38;5;28;01mreturn\u001b[39;00m \u001b[38;5;28mself\u001b[39m\u001b[38;5;241m.\u001b[39m_getitem_multilevel(key)\n\u001b[0;32m-> 3805\u001b[0m indexer \u001b[38;5;241m=\u001b[39m \u001b[38;5;28;43mself\u001b[39;49m\u001b[38;5;241;43m.\u001b[39;49m\u001b[43mcolumns\u001b[49m\u001b[38;5;241;43m.\u001b[39;49m\u001b[43mget_loc\u001b[49m\u001b[43m(\u001b[49m\u001b[43mkey\u001b[49m\u001b[43m)\u001b[49m\n\u001b[1;32m   3806\u001b[0m \u001b[38;5;28;01mif\u001b[39;00m is_integer(indexer):\n\u001b[1;32m   3807\u001b[0m     indexer \u001b[38;5;241m=\u001b[39m [indexer]\n",
      "File \u001b[0;32m/opt/conda/lib/python3.10/site-packages/pandas/core/indexes/base.py:3805\u001b[0m, in \u001b[0;36mIndex.get_loc\u001b[0;34m(self, key, method, tolerance)\u001b[0m\n\u001b[1;32m   3803\u001b[0m     \u001b[38;5;28;01mreturn\u001b[39;00m \u001b[38;5;28mself\u001b[39m\u001b[38;5;241m.\u001b[39m_engine\u001b[38;5;241m.\u001b[39mget_loc(casted_key)\n\u001b[1;32m   3804\u001b[0m \u001b[38;5;28;01mexcept\u001b[39;00m \u001b[38;5;167;01mKeyError\u001b[39;00m \u001b[38;5;28;01mas\u001b[39;00m err:\n\u001b[0;32m-> 3805\u001b[0m     \u001b[38;5;28;01mraise\u001b[39;00m \u001b[38;5;167;01mKeyError\u001b[39;00m(key) \u001b[38;5;28;01mfrom\u001b[39;00m \u001b[38;5;21;01merr\u001b[39;00m\n\u001b[1;32m   3806\u001b[0m \u001b[38;5;28;01mexcept\u001b[39;00m \u001b[38;5;167;01mTypeError\u001b[39;00m:\n\u001b[1;32m   3807\u001b[0m     \u001b[38;5;66;03m# If we have a listlike key, _check_indexing_error will raise\u001b[39;00m\n\u001b[1;32m   3808\u001b[0m     \u001b[38;5;66;03m#  InvalidIndexError. Otherwise we fall through and re-raise\u001b[39;00m\n\u001b[1;32m   3809\u001b[0m     \u001b[38;5;66;03m#  the TypeError.\u001b[39;00m\n\u001b[1;32m   3810\u001b[0m     \u001b[38;5;28mself\u001b[39m\u001b[38;5;241m.\u001b[39m_check_indexing_error(key)\n",
      "\u001b[0;31mKeyError\u001b[0m: 'Release'"
     ]
    }
   ],
   "source": [
    "all_set_lists_df[all_set_lists_df['Release'].isna()]['Set'].unique()"
   ]
  },
  {
   "cell_type": "markdown",
   "id": "7a035371-3f6c-4c48-a7e9-5d79dfe7c493",
   "metadata": {
    "papermill": {
     "duration": 0.370925,
     "end_time": "2023-01-25T23:27:36.649246",
     "exception": false,
     "start_time": "2023-01-25T23:27:36.278321",
     "status": "completed"
    },
    "tags": []
   },
   "source": [
    "## Merge failed"
   ]
  },
  {
   "cell_type": "code",
   "execution_count": null,
   "id": "7464fb8b-e01d-4d48-ae5d-84d3827ac842",
   "metadata": {
    "papermill": {
     "duration": 0.334259,
     "end_time": "2023-01-25T23:27:37.416391",
     "exception": false,
     "start_time": "2023-01-25T23:27:37.082132",
     "status": "completed"
    },
    "tags": []
   },
   "outputs": [],
   "source": [
    "all_set_lists_df[all_set_lists_df['_merge']=='right_only']"
   ]
  },
  {
   "cell_type": "code",
   "execution_count": null,
   "id": "e4d242eb-2158-4f4f-9a7e-9baa4b043ab3",
   "metadata": {
    "papermill": {
     "duration": 0.318267,
     "end_time": "2023-01-25T23:27:38.040938",
     "exception": false,
     "start_time": "2023-01-25T23:27:37.722671",
     "status": "completed"
    },
    "tags": []
   },
   "outputs": [],
   "source": [
    "len(all_set_lists_df[all_set_lists_df['_merge']=='left_only']['Set'].unique())"
   ]
  },
  {
   "cell_type": "code",
   "execution_count": null,
   "id": "769b2213-c745-47eb-8036-658cbf237682",
   "metadata": {
    "papermill": {
     "duration": 0.354988,
     "end_time": "2023-01-25T23:27:38.740833",
     "exception": false,
     "start_time": "2023-01-25T23:27:38.385845",
     "status": "completed"
    },
    "tags": []
   },
   "outputs": [],
   "source": [
    "all_set_lists_df['Set'].unique()"
   ]
  },
  {
   "cell_type": "code",
   "execution_count": null,
   "id": "e85372a5-f72c-44d9-a729-5a1a66609fd0",
   "metadata": {
    "papermill": {
     "duration": 0.417022,
     "end_time": "2023-01-25T23:27:39.475307",
     "exception": false,
     "start_time": "2023-01-25T23:27:39.058285",
     "status": "completed"
    },
    "tags": []
   },
   "outputs": [],
   "source": [
    "all_set_lists_df[all_set_lists_df['Set'].str.contains(\"Marik\")].dropna()"
   ]
  },
  {
   "cell_type": "markdown",
   "id": "a5448b9b-6ecd-443f-9365-f3a686d4ca82",
   "metadata": {
    "papermill": {
     "duration": 0.394549,
     "end_time": "2023-01-25T23:27:40.179782",
     "exception": false,
     "start_time": "2023-01-25T23:27:39.785233",
     "status": "completed"
    },
    "tags": []
   },
   "source": [
    " # Epilogue"
   ]
  },
  {
   "cell_type": "code",
   "execution_count": null,
   "id": "fcb1adf8-8e28-49e6-8162-45f102c511ee",
   "metadata": {
    "papermill": {
     "duration": 0.317114,
     "end_time": "2023-01-25T23:27:40.803005",
     "exception": false,
     "start_time": "2023-01-25T23:27:40.485891",
     "status": "completed"
    },
    "tags": []
   },
   "outputs": [],
   "source": [
    "footer()"
   ]
  },
  {
   "cell_type": "markdown",
   "id": "924c84f0-96b0-4575-82f0-e4d8af6e68e4",
   "metadata": {
    "papermill": {
     "duration": 0.302927,
     "end_time": "2023-01-25T23:27:41.409305",
     "exception": false,
     "start_time": "2023-01-25T23:27:41.106378",
     "status": "completed"
    },
    "tags": []
   },
   "source": [
    "## HTML export"
   ]
  },
  {
   "cell_type": "code",
   "execution_count": null,
   "id": "ad2aef41-90e8-4d7a-abdf-b3cab76f8945",
   "metadata": {
    "papermill": {
     "duration": 0.332475,
     "end_time": "2023-01-25T23:27:42.049780",
     "exception": false,
     "start_time": "2023-01-25T23:27:41.717305",
     "status": "completed"
    },
    "tags": []
   },
   "outputs": [],
   "source": [
    "# May need to sleep for a few seconds after saving\n",
    "save_notebook()"
   ]
  },
  {
   "cell_type": "code",
   "execution_count": null,
   "id": "b6a35c5d-b424-4820-8d26-8be29b50c546",
   "metadata": {
    "papermill": {
     "duration": 5.319732,
     "end_time": "2023-01-25T23:27:47.739011",
     "exception": false,
     "start_time": "2023-01-25T23:27:42.419279",
     "status": "completed"
    },
    "tags": []
   },
   "outputs": [],
   "source": [
    "! jupyter nbconvert Sets.ipynb --output-dir='../' --to=HTML --TagRemovePreprocessor.enabled=True --TagRemovePreprocessor.remove_cell_tags='exclude' --TemplateExporter.exclude_input=True --TemplateExporter.exclude_input_prompt=True --TemplateExporter.exclude_output_prompt=True"
   ]
  },
  {
   "cell_type": "markdown",
   "id": "a2b08f73-ccfd-4535-95cb-830d0ccdb9de",
   "metadata": {
    "papermill": {
     "duration": 0.329283,
     "end_time": "2023-01-25T23:27:48.428751",
     "exception": false,
     "start_time": "2023-01-25T23:27:48.099468",
     "status": "completed"
    },
    "tags": [
     "exclude"
    ]
   },
   "source": [
    "## Git"
   ]
  },
  {
   "cell_type": "code",
   "execution_count": null,
   "id": "cba1eb00-d9c2-491a-95b3-5ce0a0524d59",
   "metadata": {
    "papermill": {
     "duration": 3.596039,
     "end_time": "2023-01-25T23:27:52.436436",
     "exception": false,
     "start_time": "2023-01-25T23:27:48.840397",
     "status": "completed"
    },
    "tags": [
     "exclude"
    ]
   },
   "outputs": [],
   "source": [
    "! git add \"../*[Ss]ets[._]*\""
   ]
  },
  {
   "cell_type": "code",
   "execution_count": null,
   "id": "6f1f8303-30c6-4aaa-b45e-f6d5f5ece30e",
   "metadata": {
    "papermill": {
     "duration": 2.513203,
     "end_time": "2023-01-25T23:27:55.366046",
     "exception": false,
     "start_time": "2023-01-25T23:27:52.852843",
     "status": "completed"
    },
    "tags": [
     "exclude"
    ]
   },
   "outputs": [],
   "source": [
    "! git commit -m {\"'Sets update-\" + timestamp.strftime(\"%d%m%Y\")+\"'\"}"
   ]
  }
 ],
 "metadata": {
  "kernelspec": {
   "display_name": "Python 3 (ipykernel)",
   "language": "python",
   "name": "python3"
  },
  "language_info": {
   "codemirror_mode": {
    "name": "ipython",
    "version": 3
   },
   "file_extension": ".py",
   "mimetype": "text/x-python",
   "name": "python",
   "nbconvert_exporter": "python",
   "pygments_lexer": "ipython3",
   "version": "3.10.8"
  },
  "papermill": {
   "default_parameters": {},
   "duration": 571.535765,
   "end_time": "2023-01-25T23:27:57.866503",
   "environment_variables": {},
   "exception": null,
   "input_path": "Sets.ipynb",
   "output_path": "Sets.ipynb",
   "parameters": {},
   "start_time": "2023-01-25T23:18:26.330738",
   "version": "2.4.0"
  },
  "toc": {
   "base_numbering": 1,
   "nav_menu": {},
   "number_sections": true,
   "sideBar": true,
   "skip_h1_title": false,
   "title_cell": "Table of Contents",
   "title_sidebar": "Contents",
   "toc_cell": true,
   "toc_position": {
    "height": "calc(100% - 180px)",
    "left": "10px",
    "top": "150px",
    "width": "288px"
   },
   "toc_section_display": true,
   "toc_window_display": true
  },
  "toc-autonumbering": false,
  "toc-showcode": false,
  "toc-showmarkdowntxt": false,
  "toc-showtags": false
 },
 "nbformat": 4,
 "nbformat_minor": 5
}
