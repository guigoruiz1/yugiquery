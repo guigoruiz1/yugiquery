{
 "cells": [
  {
   "cell_type": "code",
   "execution_count": null,
   "id": "0e08a9ff",
   "metadata": {
    "papermill": {
     "duration": 2.141019,
     "end_time": "2023-07-14T13:28:36.053463",
     "exception": false,
     "start_time": "2023-07-14T13:28:33.912444",
     "status": "completed"
    },
    "tags": []
   },
   "outputs": [],
   "source": [
    "from yugiquery import *\n",
    "\n",
    "header(\"Sets\")"
   ]
  },
  {
   "cell_type": "markdown",
   "id": "26f4e8e5-1d0b-408d-994f-9022eca9cd4a",
   "metadata": {
    "papermill": {
     "duration": 0.067668,
     "end_time": "2023-07-14T13:28:36.163771",
     "exception": false,
     "start_time": "2023-07-14T13:28:36.096103",
     "status": "completed"
    },
    "tags": []
   },
   "source": [
    "---"
   ]
  },
  {
   "cell_type": "markdown",
   "id": "e921ed99",
   "metadata": {
    "papermill": {
     "duration": 0.042503,
     "end_time": "2023-07-14T13:28:36.250266",
     "exception": false,
     "start_time": "2023-07-14T13:28:36.207763",
     "status": "completed"
    },
    "tags": [],
    "toc": true
   },
   "source": [
    "Table of Contents\n",
    "=================\n",
    "\n",
    "*   [1  Data aquisition](#Data-aquisition)\n",
    "    *   [1.1  Fetch set lists](#Fetch-set-lists)\n",
    "    *   [1.2  Fetch set properties](#Fetch-set-properties)\n",
    "    *   [1.3  Merge data](#Merge-data)\n",
    "    *   [1.4  Save data](#Save-data)\n",
    "*   [3  Check changes](#Check-changes)\n",
    "    *   [3.1  Load previous data](#Load-previous-data)\n",
    "    *   [3.2  Generate changelog](#Generate-changelog)\n",
    "*   [4  Data visualization](#Data-visualization)\n",
    "    *   [4.1  Full data](#Full-data)\n",
    "    *   [4.2  Set](#Set)\n",
    "    *   [4.3  Card number](#Card-number)\n",
    "    *   [4.4  Name](#Name)\n",
    "    *   [4.5  Rarity](#Rarity)\n",
    "        *   [4.5.1  By unique](#By-unique)\n",
    "        *   [4.5.2  By combination](#By-combination)\n",
    "    *   [4.6  Print](#Print)\n",
    "    *   [4.7  Quantity](#Quantity)\n",
    "    *   [4.8  Region](#Region)\n",
    "    *   [4.9  Cover card](#Cover-card)\n",
    "    *   [4.10  Series](#Series)\n",
    "    *   [4.11  Set type](#Set-type)\n",
    "    *   [4.12  Release](#Release)\n",
    "        *   [4.12.1  By year](#By-year)\n",
    "        *   [4.12.2  By month](#By-month)\n",
    "        *   [4.12.3  By day](#By-day)\n",
    "        *   [4.12.4  By region](#By-region)\n",
    "        *   [4.12.5  By series](#By-series)\n",
    "        *   [4.12.6  By set type](#By-set-type)\n",
    "*   [5  Debug](#Debug)\n",
    "    *   [5.1  Has nan name/number](#Has-nan-name/number)\n",
    "    *   [5.2  Has nan rarity](#Has-nan-rarity)\n",
    "    *   [5.3  Has quantity as print](#Has-quantity-as-print)\n",
    "    *   [5.4  Has nan release](#Has-nan-release)\n",
    "    *   [5.5  Has print as rarity](#Has-print-as-rarity)\n",
    "    *   [5.6  Merge failed](#Merge-failed)\n",
    "*   [6  Epilogue](#Epilogue)\n",
    "    *   [6.1  HTML export](#HTML-export)\n",
    "<!-- *   [6.2  Git](#Git) -->"
   ]
  },
  {
   "cell_type": "markdown",
   "id": "3bd10f43-bd00-4bbf-943f-060106ee5bd7",
   "metadata": {
    "papermill": {
     "duration": 0.043351,
     "end_time": "2023-07-14T13:28:36.336170",
     "exception": false,
     "start_time": "2023-07-14T13:28:36.292819",
     "status": "completed"
    },
    "tags": []
   },
   "source": [
    "# Data aquisition"
   ]
  },
  {
   "cell_type": "markdown",
   "id": "c8867ddf-d23c-4257-b143-527fda774898",
   "metadata": {
    "papermill": {
     "duration": 0.041827,
     "end_time": "2023-07-14T13:28:36.423895",
     "exception": false,
     "start_time": "2023-07-14T13:28:36.382068",
     "status": "completed"
    },
    "tags": []
   },
   "source": [
    "## Fetch set lists"
   ]
  },
  {
   "cell_type": "code",
   "execution_count": null,
   "id": "31a6fca2",
   "metadata": {
    "code_folding": [],
    "papermill": {
     "duration": 135.888096,
     "end_time": "2023-07-14T13:30:52.354481",
     "exception": false,
     "start_time": "2023-07-14T13:28:36.466385",
     "status": "completed"
    },
    "tags": []
   },
   "outputs": [],
   "source": [
    "# Timestamp\n",
    "timestamp = pd.Timestamp.now()\n",
    "\n",
    "all_set_lists_df = fetch_all_set_lists()"
   ]
  },
  {
   "cell_type": "markdown",
   "id": "a08bddea-ae28-41f6-b261-1f4c9590dd17",
   "metadata": {
    "papermill": {
     "duration": 0.051308,
     "end_time": "2023-07-14T13:30:52.449692",
     "exception": false,
     "start_time": "2023-07-14T13:30:52.398384",
     "status": "completed"
    },
    "tags": []
   },
   "source": [
    "## Fetch set properties"
   ]
  },
  {
   "cell_type": "code",
   "execution_count": null,
   "id": "973ad01a-4a08-4c06-a8e4-526c4a753acf",
   "metadata": {
    "papermill": {
     "duration": 65.04523,
     "end_time": "2023-07-14T13:31:57.541499",
     "exception": false,
     "start_time": "2023-07-14T13:30:52.496269",
     "status": "completed"
    },
    "tags": []
   },
   "outputs": [],
   "source": [
    "# List of sets to ask\n",
    "sets = all_set_lists_df[\"Set\"].unique()\n",
    "set_info_df = fetch_set_info(sets)"
   ]
  },
  {
   "cell_type": "markdown",
   "id": "d22af094-2e54-4bf9-ae90-f68f298c0e81",
   "metadata": {
    "papermill": {
     "duration": 0.042735,
     "end_time": "2023-07-14T13:31:57.645128",
     "exception": false,
     "start_time": "2023-07-14T13:31:57.602393",
     "status": "completed"
    },
    "tags": []
   },
   "source": [
    "## Merge data"
   ]
  },
  {
   "cell_type": "code",
   "execution_count": null,
   "id": "2d0917a0-c765-4e1c-acfb-5a3e7a917056",
   "metadata": {
    "papermill": {
     "duration": 48.712158,
     "end_time": "2023-07-14T13:32:46.401859",
     "exception": false,
     "start_time": "2023-07-14T13:31:57.689701",
     "status": "completed"
    },
    "tags": []
   },
   "outputs": [],
   "source": [
    "# Add properties to set lists\n",
    "all_set_lists_df = merge_set_info(all_set_lists_df, set_info_df)"
   ]
  },
  {
   "cell_type": "markdown",
   "id": "39765c14-4a38-448e-a606-b8c505a42e82",
   "metadata": {
    "papermill": {
     "duration": 0.04413,
     "end_time": "2023-07-14T13:32:46.535031",
     "exception": false,
     "start_time": "2023-07-14T13:32:46.490901",
     "status": "completed"
    },
    "tags": []
   },
   "source": [
    "# Check changes"
   ]
  },
  {
   "cell_type": "markdown",
   "id": "bf52d5e1-e6f1-4a37-a815-6cee1e406d44",
   "metadata": {
    "papermill": {
     "duration": 0.042126,
     "end_time": "2023-07-14T13:32:46.624169",
     "exception": false,
     "start_time": "2023-07-14T13:32:46.582043",
     "status": "completed"
    },
    "tags": []
   },
   "source": [
    "## Load previous data"
   ]
  },
  {
   "cell_type": "code",
   "execution_count": null,
   "id": "3c4037a3-e6f3-42f9-a74e-edfc66e7840d",
   "metadata": {
    "papermill": {
     "duration": 7.097345,
     "end_time": "2023-07-14T13:32:53.764356",
     "exception": false,
     "start_time": "2023-07-14T13:32:46.667011",
     "status": "completed"
    },
    "tags": []
   },
   "outputs": [],
   "source": [
    "## Get list of files\n",
    "files_list = sorted(\n",
    "    glob.glob(\"../data/all_sets_*.bz2\"), key=os.path.getctime, reverse=True\n",
    ")\n",
    "# Get second newest file if exist\n",
    "if files_list:\n",
    "    latest_file = files_list[0]\n",
    "    # Load csv avoiding converting \"NA\" to NaN and force dtypes to match current df\n",
    "    previous_df = pd.read_csv(\n",
    "        latest_file, dtype=object, keep_default_na=False, na_values=[\"\"]\n",
    "    )\n",
    "    # Correct tuples\n",
    "    tuple_cols = [\"Rarity\", \"Cover card\"]\n",
    "    for col in tuple_cols:\n",
    "        previous_df[col] = previous_df[col].dropna().apply(literal_eval)\n",
    "    # Force dtypes to match current df\n",
    "    previous_df = previous_df.astype(\n",
    "        all_set_lists_df[\n",
    "            previous_df.columns.intersection(all_set_lists_df.columns)\n",
    "        ].dtypes.to_dict()\n",
    "    )\n",
    "    previous_ts = pd.to_datetime(\n",
    "        os.path.basename(latest_file).split(\"_\")[-1].split(\".bz2\")[0]\n",
    "    )\n",
    "    print(\"File loaded\")\n",
    "else:\n",
    "    previous_df = None\n",
    "    print(\"No older files\")"
   ]
  },
  {
   "cell_type": "markdown",
   "id": "78f52677-69c8-4996-acd4-8856a1237bd2",
   "metadata": {
    "papermill": {
     "duration": 0.054687,
     "end_time": "2023-07-14T13:32:53.866290",
     "exception": false,
     "start_time": "2023-07-14T13:32:53.811603",
     "status": "completed"
    },
    "tags": []
   },
   "source": [
    "## Generate changelog"
   ]
  },
  {
   "cell_type": "code",
   "execution_count": null,
   "id": "ca3c037d-4e90-46d6-abdc-5b262c0e2926",
   "metadata": {
    "papermill": {
     "duration": 1.973778,
     "end_time": "2023-07-14T13:32:55.885038",
     "exception": false,
     "start_time": "2023-07-14T13:32:53.911260",
     "status": "completed"
    },
    "tags": []
   },
   "outputs": [],
   "source": [
    "if previous_df is None:\n",
    "    changelog = None\n",
    "    print(\"Skipped\")\n",
    "else:\n",
    "    changelog = generate_changelog(previous_df, all_set_lists_df, col=\"Card number\")\n",
    "    if not changelog.empty:\n",
    "        display(changelog)\n",
    "        changelog.to_csv(\n",
    "            f'../data/sets_changelog_{previous_ts.isoformat(timespec=\"minutes\")}_{timestamp.isoformat(timespec=\"minutes\")}.bz2',\n",
    "            index=True,\n",
    "        )\n",
    "        print(\"Changelog saved\")"
   ]
  },
  {
   "cell_type": "markdown",
   "id": "7c12db27-650d-401d-be56-d981118585f8",
   "metadata": {
    "papermill": {
     "duration": 0.05442,
     "end_time": "2023-07-14T13:32:55.987430",
     "exception": false,
     "start_time": "2023-07-14T13:32:55.933010",
     "status": "completed"
    },
    "tags": []
   },
   "source": [
    "## Save data"
   ]
  },
  {
   "cell_type": "code",
   "execution_count": null,
   "id": "ab4ec21c-80ab-4282-ba86-f8653a49dfce",
   "metadata": {
    "papermill": {
     "duration": 12.133221,
     "end_time": "2023-07-14T13:33:08.164964",
     "exception": false,
     "start_time": "2023-07-14T13:32:56.031743",
     "status": "completed"
    },
    "tags": []
   },
   "outputs": [],
   "source": [
    "if changelog is not None and changelog.empty:\n",
    "    print(\"No changes. New data not saved\")\n",
    "else:\n",
    "    all_set_lists_df.to_csv(\n",
    "        f'../data/all_sets_{timestamp.isoformat(timespec=\"minutes\")}.bz2', index=False\n",
    "    )\n",
    "    print(\"Data saved\")"
   ]
  },
  {
   "cell_type": "markdown",
   "id": "55e33fb0-39e9-421b-9cd3-5b2bf791f862",
   "metadata": {
    "papermill": {
     "duration": 0.080127,
     "end_time": "2023-07-14T13:33:08.295342",
     "exception": false,
     "start_time": "2023-07-14T13:33:08.215215",
     "status": "completed"
    },
    "tags": []
   },
   "source": [
    "# Data visualization"
   ]
  },
  {
   "cell_type": "markdown",
   "id": "b98cf64a-2d10-4bf2-b183-91551cb36db3",
   "metadata": {
    "papermill": {
     "duration": 0.070752,
     "end_time": "2023-07-14T13:33:08.412040",
     "exception": false,
     "start_time": "2023-07-14T13:33:08.341288",
     "status": "completed"
    },
    "tags": []
   },
   "source": [
    "## Full data"
   ]
  },
  {
   "cell_type": "code",
   "execution_count": null,
   "id": "6608021f-9057-4352-b182-0be3b87aad48",
   "metadata": {
    "papermill": {
     "duration": 0.09429,
     "end_time": "2023-07-14T13:33:08.554200",
     "exception": false,
     "start_time": "2023-07-14T13:33:08.459910",
     "status": "completed"
    },
    "tags": []
   },
   "outputs": [],
   "source": [
    "all_set_lists_df"
   ]
  },
  {
   "cell_type": "markdown",
   "id": "25b98b85-275c-4471-951d-d2e7710433e5",
   "metadata": {
    "papermill": {
     "duration": 0.044989,
     "end_time": "2023-07-14T13:33:08.647126",
     "exception": false,
     "start_time": "2023-07-14T13:33:08.602137",
     "status": "completed"
    },
    "tags": []
   },
   "source": [
    "Full data available [here](../data)"
   ]
  },
  {
   "cell_type": "markdown",
   "id": "f4a2b98c-b48b-42e1-a798-64e42b6619a4",
   "metadata": {
    "papermill": {
     "duration": 0.044485,
     "end_time": "2023-07-14T13:33:08.755403",
     "exception": false,
     "start_time": "2023-07-14T13:33:08.710918",
     "status": "completed"
    },
    "tags": []
   },
   "source": [
    "## Set"
   ]
  },
  {
   "cell_type": "code",
   "execution_count": null,
   "id": "a77a8dcc-ff14-4ddf-9b61-64c12e90378c",
   "metadata": {
    "papermill": {
     "duration": 0.083627,
     "end_time": "2023-07-14T13:33:08.885045",
     "exception": false,
     "start_time": "2023-07-14T13:33:08.801418",
     "status": "completed"
    },
    "tags": []
   },
   "outputs": [],
   "source": [
    "print(\"Total number of sets:\", all_set_lists_df[\"Set\"].nunique())"
   ]
  },
  {
   "cell_type": "code",
   "execution_count": null,
   "id": "e928e7d9-8eb3-442e-9c34-f35260faf008",
   "metadata": {
    "papermill": {
     "duration": 0.779344,
     "end_time": "2023-07-14T13:33:09.710265",
     "exception": false,
     "start_time": "2023-07-14T13:33:08.930921",
     "status": "completed"
    },
    "tags": []
   },
   "outputs": [],
   "source": [
    "all_set_lists_df.groupby(\"Set\", dropna=False).nunique()"
   ]
  },
  {
   "cell_type": "code",
   "execution_count": null,
   "id": "ac2f53eb-6c6c-494c-90c9-5cc3eaf2ba31",
   "metadata": {
    "papermill": {
     "duration": 0.946181,
     "end_time": "2023-07-14T13:33:10.705799",
     "exception": false,
     "start_time": "2023-07-14T13:33:09.759618",
     "status": "completed"
    },
    "tags": []
   },
   "outputs": [],
   "source": [
    "all_set_lists_df.groupby(\"Set\", dropna=False).nunique().describe()"
   ]
  },
  {
   "cell_type": "markdown",
   "id": "95df875c-fc95-4b4e-8a70-042bb3087a1f",
   "metadata": {
    "papermill": {
     "duration": 0.424097,
     "end_time": "2023-07-14T13:33:11.179425",
     "exception": false,
     "start_time": "2023-07-14T13:33:10.755328",
     "status": "completed"
    },
    "tags": []
   },
   "source": [
    "## Card number"
   ]
  },
  {
   "cell_type": "code",
   "execution_count": null,
   "id": "7a943862-a244-405a-b76d-b42e40f0331c",
   "metadata": {
    "papermill": {
     "duration": 0.238165,
     "end_time": "2023-07-14T13:33:11.467204",
     "exception": false,
     "start_time": "2023-07-14T13:33:11.229039",
     "status": "completed"
    },
    "tags": []
   },
   "outputs": [],
   "source": [
    "print(\"Total number of card numbers:\", all_set_lists_df[\"Card number\"].nunique())"
   ]
  },
  {
   "cell_type": "code",
   "execution_count": null,
   "id": "85b9f8df",
   "metadata": {
    "papermill": {
     "duration": 1.605366,
     "end_time": "2023-07-14T13:33:13.122364",
     "exception": false,
     "start_time": "2023-07-14T13:33:11.516998",
     "status": "completed"
    },
    "tags": []
   },
   "outputs": [],
   "source": [
    "all_set_lists_df.groupby(\"Card number\", dropna=False).nunique()"
   ]
  },
  {
   "cell_type": "markdown",
   "id": "8a0cac8b-baa6-4b83-abee-889fd8a3c96e",
   "metadata": {
    "papermill": {
     "duration": 0.046798,
     "end_time": "2023-07-14T13:33:13.219642",
     "exception": false,
     "start_time": "2023-07-14T13:33:13.172844",
     "status": "completed"
    },
    "tags": []
   },
   "source": [
    "## Name"
   ]
  },
  {
   "cell_type": "code",
   "execution_count": null,
   "id": "70892c55-8542-4458-81c0-05143897ab68",
   "metadata": {
    "papermill": {
     "duration": 0.11555,
     "end_time": "2023-07-14T13:33:13.383655",
     "exception": false,
     "start_time": "2023-07-14T13:33:13.268105",
     "status": "completed"
    },
    "tags": []
   },
   "outputs": [],
   "source": [
    "print(\"Total number of card names:\", all_set_lists_df[\"Name\"].nunique())"
   ]
  },
  {
   "cell_type": "code",
   "execution_count": null,
   "id": "05e4eee4",
   "metadata": {
    "papermill": {
     "duration": 0.965581,
     "end_time": "2023-07-14T13:33:14.400145",
     "exception": false,
     "start_time": "2023-07-14T13:33:13.434564",
     "status": "completed"
    },
    "tags": []
   },
   "outputs": [],
   "source": [
    "all_set_lists_df.groupby(\"Name\", dropna=False).nunique()"
   ]
  },
  {
   "cell_type": "code",
   "execution_count": null,
   "id": "829294db-e127-4bc2-bde4-333f4d45af5d",
   "metadata": {
    "papermill": {
     "duration": 1.02858,
     "end_time": "2023-07-14T13:33:15.481147",
     "exception": false,
     "start_time": "2023-07-14T13:33:14.452567",
     "status": "completed"
    },
    "tags": []
   },
   "outputs": [],
   "source": [
    "all_set_lists_df.groupby(\"Name\", dropna=True).nunique().describe()"
   ]
  },
  {
   "cell_type": "markdown",
   "id": "dd7bf2b1-d469-4a3d-ad55-47dc7b9f202d",
   "metadata": {
    "papermill": {
     "duration": 0.075937,
     "end_time": "2023-07-14T13:33:15.608546",
     "exception": false,
     "start_time": "2023-07-14T13:33:15.532609",
     "status": "completed"
    },
    "tags": []
   },
   "source": [
    "## Rarity"
   ]
  },
  {
   "cell_type": "code",
   "execution_count": null,
   "id": "2b796fce-dcd1-4076-be70-25508a4adc14",
   "metadata": {
    "papermill": {
     "duration": 0.416305,
     "end_time": "2023-07-14T13:33:16.074923",
     "exception": false,
     "start_time": "2023-07-14T13:33:15.658618",
     "status": "completed"
    },
    "tags": []
   },
   "outputs": [],
   "source": [
    "print(\"Total number of rarities:\", all_set_lists_df[\"Rarity\"].explode().nunique())"
   ]
  },
  {
   "cell_type": "markdown",
   "id": "3897a616-0d08-40b9-b1bc-8f3ba248b5c2",
   "metadata": {
    "papermill": {
     "duration": 0.061835,
     "end_time": "2023-07-14T13:33:16.190445",
     "exception": false,
     "start_time": "2023-07-14T13:33:16.128610",
     "status": "completed"
    },
    "tags": []
   },
   "source": [
    "### By unique"
   ]
  },
  {
   "cell_type": "code",
   "execution_count": null,
   "id": "acc7d9ed-6877-4232-bdbd-ef1a7f4a829d",
   "metadata": {
    "papermill": {
     "duration": 1.768908,
     "end_time": "2023-07-14T13:33:18.016827",
     "exception": false,
     "start_time": "2023-07-14T13:33:16.247919",
     "status": "completed"
    },
    "tags": []
   },
   "outputs": [],
   "source": [
    "all_set_lists_df.explode(\"Rarity\").groupby(\"Rarity\", dropna=False).nunique()"
   ]
  },
  {
   "cell_type": "code",
   "execution_count": null,
   "id": "336a6f22-5e80-48e1-a22e-bb6fe61fcf01",
   "metadata": {
    "papermill": {
     "duration": 2.143562,
     "end_time": "2023-07-14T13:33:20.215219",
     "exception": false,
     "start_time": "2023-07-14T13:33:18.071657",
     "status": "completed"
    },
    "tags": []
   },
   "outputs": [],
   "source": [
    "all_set_lists_df[\"Rarity\"].explode().value_counts().plot.barh(\n",
    "    figsize=(10, 20), grid=True\n",
    ")\n",
    "plt.xscale(\"log\")\n",
    "plt.show()"
   ]
  },
  {
   "cell_type": "markdown",
   "id": "847e7fcb-4e95-4b81-b309-600aa04e6be7",
   "metadata": {
    "papermill": {
     "duration": 0.053709,
     "end_time": "2023-07-14T13:33:20.326683",
     "exception": false,
     "start_time": "2023-07-14T13:33:20.272974",
     "status": "completed"
    },
    "tags": []
   },
   "source": [
    "### By combination"
   ]
  },
  {
   "cell_type": "code",
   "execution_count": null,
   "id": "e4d79c33",
   "metadata": {
    "papermill": {
     "duration": 0.842731,
     "end_time": "2023-07-14T13:33:21.223444",
     "exception": false,
     "start_time": "2023-07-14T13:33:20.380713",
     "status": "completed"
    },
    "tags": []
   },
   "outputs": [],
   "source": [
    "all_set_lists_df.groupby(\"Rarity\", dropna=False).nunique()"
   ]
  },
  {
   "cell_type": "code",
   "execution_count": null,
   "id": "5124c4f0-b00a-4a19-a174-bfa3a2915242",
   "metadata": {
    "papermill": {
     "duration": 3.514453,
     "end_time": "2023-07-14T13:33:24.798346",
     "exception": false,
     "start_time": "2023-07-14T13:33:21.283893",
     "status": "completed"
    },
    "tags": []
   },
   "outputs": [],
   "source": [
    "all_set_lists_df[\"Rarity\"].value_counts().plot.barh(figsize=(10, 40), grid=True)\n",
    "plt.xscale(\"log\")\n",
    "plt.show()"
   ]
  },
  {
   "cell_type": "markdown",
   "id": "afae1f51-fd13-4a29-ae40-cd913524623c",
   "metadata": {
    "papermill": {
     "duration": 0.180204,
     "end_time": "2023-07-14T13:33:25.054942",
     "exception": false,
     "start_time": "2023-07-14T13:33:24.874738",
     "status": "completed"
    },
    "tags": []
   },
   "source": [
    "## Print"
   ]
  },
  {
   "cell_type": "code",
   "execution_count": null,
   "id": "254ba70a-9ee7-410e-9670-b10ce628b169",
   "metadata": {
    "papermill": {
     "duration": 0.222707,
     "end_time": "2023-07-14T13:33:25.515571",
     "exception": false,
     "start_time": "2023-07-14T13:33:25.292864",
     "status": "completed"
    },
    "tags": []
   },
   "outputs": [],
   "source": [
    "print(\"Total number of prints:\", all_set_lists_df[\"Print\"].nunique())"
   ]
  },
  {
   "cell_type": "code",
   "execution_count": null,
   "id": "3a576a96",
   "metadata": {
    "papermill": {
     "duration": 0.795282,
     "end_time": "2023-07-14T13:33:26.391818",
     "exception": false,
     "start_time": "2023-07-14T13:33:25.596536",
     "status": "completed"
    },
    "tags": []
   },
   "outputs": [],
   "source": [
    "all_set_lists_df.groupby(\"Print\", dropna=False).nunique()"
   ]
  },
  {
   "cell_type": "code",
   "execution_count": null,
   "id": "1c369030-f5e8-4a48-a28c-0b878b9ff8ca",
   "metadata": {
    "papermill": {
     "duration": 0.926628,
     "end_time": "2023-07-14T13:33:27.391852",
     "exception": false,
     "start_time": "2023-07-14T13:33:26.465224",
     "status": "completed"
    },
    "tags": []
   },
   "outputs": [],
   "source": [
    "all_set_lists_df[\"Print\"].value_counts().plot.bar(figsize=(18, 6), grid=True, rot=45)\n",
    "plt.yscale(\"log\")\n",
    "plt.show()"
   ]
  },
  {
   "cell_type": "markdown",
   "id": "ff17d8cc-7842-41f4-95bc-061acd575426",
   "metadata": {
    "papermill": {
     "duration": 0.074039,
     "end_time": "2023-07-14T13:33:27.551035",
     "exception": false,
     "start_time": "2023-07-14T13:33:27.476996",
     "status": "completed"
    },
    "tags": []
   },
   "source": [
    "## Quantity"
   ]
  },
  {
   "cell_type": "code",
   "execution_count": null,
   "id": "5546c0c2-3c14-401a-96a0-8b6b182bc57a",
   "metadata": {
    "papermill": {
     "duration": 0.156095,
     "end_time": "2023-07-14T13:33:27.784629",
     "exception": false,
     "start_time": "2023-07-14T13:33:27.628534",
     "status": "completed"
    },
    "tags": []
   },
   "outputs": [],
   "source": [
    "print(\"Total number of quantities:\", all_set_lists_df[\"Quantity\"].nunique())"
   ]
  },
  {
   "cell_type": "code",
   "execution_count": null,
   "id": "0445fc65",
   "metadata": {
    "papermill": {
     "duration": 0.857784,
     "end_time": "2023-07-14T13:33:28.719142",
     "exception": false,
     "start_time": "2023-07-14T13:33:27.861358",
     "status": "completed"
    },
    "tags": []
   },
   "outputs": [],
   "source": [
    "all_set_lists_df.groupby(\"Quantity\", dropna=False).nunique()"
   ]
  },
  {
   "cell_type": "markdown",
   "id": "cf8bed65-2680-4845-8258-d3eadd169f69",
   "metadata": {
    "papermill": {
     "duration": 0.071684,
     "end_time": "2023-07-14T13:33:28.866573",
     "exception": false,
     "start_time": "2023-07-14T13:33:28.794889",
     "status": "completed"
    },
    "tags": []
   },
   "source": [
    "## Region"
   ]
  },
  {
   "cell_type": "code",
   "execution_count": null,
   "id": "56ce1f02-4524-4584-885b-9d6e8121a76c",
   "metadata": {
    "papermill": {
     "duration": 0.112488,
     "end_time": "2023-07-14T13:33:29.458369",
     "exception": false,
     "start_time": "2023-07-14T13:33:29.345881",
     "status": "completed"
    },
    "tags": []
   },
   "outputs": [],
   "source": [
    "print(\"Total number of regions:\", all_set_lists_df[\"Region\"].nunique())"
   ]
  },
  {
   "cell_type": "code",
   "execution_count": null,
   "id": "af081e1d-a642-49e8-bce3-ccd035131c0b",
   "metadata": {
    "papermill": {
     "duration": 0.887876,
     "end_time": "2023-07-14T13:33:30.577798",
     "exception": false,
     "start_time": "2023-07-14T13:33:29.689922",
     "status": "completed"
    },
    "tags": []
   },
   "outputs": [],
   "source": [
    "all_set_lists_df.groupby(\"Region\", dropna=False).nunique()"
   ]
  },
  {
   "cell_type": "code",
   "execution_count": null,
   "id": "8756dfb8-35fb-4c63-8c8b-097810d79e3c",
   "metadata": {
    "papermill": {
     "duration": 0.879627,
     "end_time": "2023-07-14T13:33:31.534190",
     "exception": false,
     "start_time": "2023-07-14T13:33:30.654563",
     "status": "completed"
    },
    "tags": []
   },
   "outputs": [],
   "source": [
    "all_set_lists_df.groupby(\"Region\", dropna=False).nunique().describe()"
   ]
  },
  {
   "cell_type": "code",
   "execution_count": null,
   "id": "d0a1e8d7-26a7-4046-a14c-944f8871c05b",
   "metadata": {
    "papermill": {
     "duration": 0.454038,
     "end_time": "2023-07-14T13:33:32.090230",
     "exception": false,
     "start_time": "2023-07-14T13:33:31.636192",
     "status": "completed"
    },
    "tags": []
   },
   "outputs": [],
   "source": [
    "all_set_lists_df[\"Region\"].value_counts().plot.bar(figsize=(18, 6), grid=True, rot=0)\n",
    "plt.show()"
   ]
  },
  {
   "cell_type": "markdown",
   "id": "d14af727-aa5e-4326-8675-433d715c9aa8",
   "metadata": {
    "papermill": {
     "duration": 0.074823,
     "end_time": "2023-07-14T13:33:32.243029",
     "exception": false,
     "start_time": "2023-07-14T13:33:32.168206",
     "status": "completed"
    },
    "tags": []
   },
   "source": [
    "## Cover card"
   ]
  },
  {
   "cell_type": "code",
   "execution_count": null,
   "id": "4a30e731-507d-491e-99b7-b34fcbc4f20b",
   "metadata": {
    "papermill": {
     "duration": 0.399113,
     "end_time": "2023-07-14T13:33:32.721651",
     "exception": false,
     "start_time": "2023-07-14T13:33:32.322538",
     "status": "completed"
    },
    "tags": []
   },
   "outputs": [],
   "source": [
    "print(\n",
    "    \"Total number of cover cards:\",\n",
    "    all_set_lists_df[\"Cover card\"].explode(\"Cover card\").nunique(),\n",
    ")"
   ]
  },
  {
   "cell_type": "code",
   "execution_count": null,
   "id": "6b7c3e7e-b70c-414a-a5ad-bd297771f1dd",
   "metadata": {
    "papermill": {
     "duration": 2.240022,
     "end_time": "2023-07-14T13:33:35.040724",
     "exception": false,
     "start_time": "2023-07-14T13:33:32.800702",
     "status": "completed"
    },
    "tags": []
   },
   "outputs": [],
   "source": [
    "all_set_lists_df.explode(\"Cover card\").groupby(\"Cover card\").nunique()"
   ]
  },
  {
   "cell_type": "code",
   "execution_count": null,
   "id": "294407de-9087-4e79-a7cb-a45366c212a1",
   "metadata": {
    "papermill": {
     "duration": 11.645092,
     "end_time": "2023-07-14T13:33:46.767916",
     "exception": false,
     "start_time": "2023-07-14T13:33:35.122824",
     "status": "completed"
    },
    "tags": []
   },
   "outputs": [],
   "source": [
    "all_set_lists_df[\"Cover card\"].explode().value_counts().plot.barh(\n",
    "    figsize=(10, 180), grid=True\n",
    ")\n",
    "plt.show()"
   ]
  },
  {
   "cell_type": "markdown",
   "id": "4e958986-d855-4580-85ea-d417c6b358e9",
   "metadata": {
    "papermill": {
     "duration": 0.208956,
     "end_time": "2023-07-14T13:33:47.117011",
     "exception": false,
     "start_time": "2023-07-14T13:33:46.908055",
     "status": "completed"
    },
    "tags": []
   },
   "source": [
    "## Series"
   ]
  },
  {
   "cell_type": "code",
   "execution_count": null,
   "id": "e010b8bc-5ffd-4a6a-a2e4-307b0de3a4bb",
   "metadata": {
    "papermill": {
     "duration": 0.194906,
     "end_time": "2023-07-14T13:33:47.443791",
     "exception": false,
     "start_time": "2023-07-14T13:33:47.248885",
     "status": "completed"
    },
    "tags": []
   },
   "outputs": [],
   "source": [
    "print(\"Total number of series:\", all_set_lists_df[\"Series\"].nunique())"
   ]
  },
  {
   "cell_type": "code",
   "execution_count": null,
   "id": "a64f8d6c-d76f-4a7f-95a6-b3037fa91107",
   "metadata": {
    "papermill": {
     "duration": 0.851158,
     "end_time": "2023-07-14T13:33:48.428498",
     "exception": false,
     "start_time": "2023-07-14T13:33:47.577340",
     "status": "completed"
    },
    "tags": []
   },
   "outputs": [],
   "source": [
    "all_set_lists_df.groupby(\"Series\").nunique()"
   ]
  },
  {
   "cell_type": "code",
   "execution_count": null,
   "id": "303f345a-508f-40a8-9eb1-9935115a8e6e",
   "metadata": {
    "papermill": {
     "duration": 1.105927,
     "end_time": "2023-07-14T13:33:49.695436",
     "exception": false,
     "start_time": "2023-07-14T13:33:48.589509",
     "status": "completed"
    },
    "tags": []
   },
   "outputs": [],
   "source": [
    "all_set_lists_df[\"Series\"].value_counts().plot.barh(figsize=(10, 15), grid=True)\n",
    "plt.show()"
   ]
  },
  {
   "cell_type": "markdown",
   "id": "b26530cf-f5e2-453f-a7ad-f516748ef16a",
   "metadata": {
    "jp-MarkdownHeadingCollapsed": true,
    "papermill": {
     "duration": 0.133914,
     "end_time": "2023-07-14T13:33:49.966086",
     "exception": false,
     "start_time": "2023-07-14T13:33:49.832172",
     "status": "completed"
    },
    "tags": []
   },
   "source": [
    "## Set type"
   ]
  },
  {
   "cell_type": "code",
   "execution_count": null,
   "id": "dd581283-b889-4572-ab89-0a2353f01ddd",
   "metadata": {
    "papermill": {
     "duration": 0.169235,
     "end_time": "2023-07-14T13:33:50.273894",
     "exception": false,
     "start_time": "2023-07-14T13:33:50.104659",
     "status": "completed"
    },
    "tags": []
   },
   "outputs": [],
   "source": [
    "print(\"Total number of set types:\", all_set_lists_df[\"Set type\"].nunique())"
   ]
  },
  {
   "cell_type": "code",
   "execution_count": null,
   "id": "2baa0c6a-baf5-4e4a-9bf2-2102295e876c",
   "metadata": {
    "papermill": {
     "duration": 0.876874,
     "end_time": "2023-07-14T13:33:51.287253",
     "exception": false,
     "start_time": "2023-07-14T13:33:50.410379",
     "status": "completed"
    },
    "tags": []
   },
   "outputs": [],
   "source": [
    "all_set_lists_df.groupby(\"Set type\").nunique()"
   ]
  },
  {
   "cell_type": "code",
   "execution_count": null,
   "id": "b4465c2d-19c8-49a3-8c6a-eb6e16f7f711",
   "metadata": {
    "papermill": {
     "duration": 1.033917,
     "end_time": "2023-07-14T13:33:52.459662",
     "exception": false,
     "start_time": "2023-07-14T13:33:51.425745",
     "status": "completed"
    },
    "tags": []
   },
   "outputs": [],
   "source": [
    "set_info_df[\"Set type\"].value_counts().plot.barh(figsize=(10, 10), grid=True)\n",
    "plt.show()"
   ]
  },
  {
   "cell_type": "markdown",
   "id": "59ab414c-6e2a-4b71-9110-a62416d7e390",
   "metadata": {
    "papermill": {
     "duration": 0.136968,
     "end_time": "2023-07-14T13:33:52.751541",
     "exception": false,
     "start_time": "2023-07-14T13:33:52.614573",
     "status": "completed"
    },
    "tags": []
   },
   "source": [
    "## Release"
   ]
  },
  {
   "cell_type": "code",
   "execution_count": null,
   "id": "37648341-3420-4e9c-a3c4-e9e63b517c32",
   "metadata": {
    "papermill": {
     "duration": 0.355611,
     "end_time": "2023-07-14T13:33:53.594733",
     "exception": false,
     "start_time": "2023-07-14T13:33:53.239122",
     "status": "completed"
    },
    "tags": []
   },
   "outputs": [],
   "source": [
    "print(\"Total number of release dates:\", all_set_lists_df[\"Release\"].nunique())"
   ]
  },
  {
   "cell_type": "code",
   "execution_count": null,
   "id": "251efa78-66cd-492d-931a-74bf5008a31d",
   "metadata": {
    "papermill": {
     "duration": 0.885034,
     "end_time": "2023-07-14T13:33:54.618561",
     "exception": false,
     "start_time": "2023-07-14T13:33:53.733527",
     "status": "completed"
    },
    "tags": []
   },
   "outputs": [],
   "source": [
    "all_set_lists_df.groupby(\"Release\", dropna=False).nunique()"
   ]
  },
  {
   "cell_type": "code",
   "execution_count": null,
   "id": "53dfbe7b-a712-4920-8ec7-1cb9c49f8930",
   "metadata": {
    "papermill": {
     "duration": 0.189622,
     "end_time": "2023-07-14T13:33:54.947775",
     "exception": false,
     "start_time": "2023-07-14T13:33:54.758153",
     "status": "completed"
    },
    "tags": []
   },
   "outputs": [],
   "source": [
    "set_by_release = pd.DataFrame(\n",
    "    all_set_lists_df.groupby(\"Release\", dropna=False)[\"Set\"].nunique()\n",
    ")"
   ]
  },
  {
   "cell_type": "markdown",
   "id": "00b59bc1-c809-4a3c-8fe5-c1efa509ea48",
   "metadata": {
    "papermill": {
     "duration": 0.138662,
     "end_time": "2023-07-14T13:33:55.227166",
     "exception": false,
     "start_time": "2023-07-14T13:33:55.088504",
     "status": "completed"
    },
    "tags": []
   },
   "source": [
    "### By year"
   ]
  },
  {
   "cell_type": "code",
   "execution_count": null,
   "id": "19c6c510-0e40-4c7b-b1b5-19869d5c296c",
   "metadata": {
    "papermill": {
     "duration": 0.932096,
     "end_time": "2023-07-14T13:33:56.298858",
     "exception": false,
     "start_time": "2023-07-14T13:33:55.366762",
     "status": "completed"
    },
    "tags": []
   },
   "outputs": [],
   "source": [
    "all_set_lists_df.drop(\"Modification date\", axis=1).groupby(\n",
    "    \"Release\", dropna=False\n",
    ").nunique().groupby(set_by_release.index.strftime(\"%Y\")).sum()"
   ]
  },
  {
   "cell_type": "code",
   "execution_count": null,
   "id": "fc6134ac-8c90-44e5-9461-9caccec72eca",
   "metadata": {
    "papermill": {
     "duration": 2.562213,
     "end_time": "2023-07-14T13:33:59.004664",
     "exception": false,
     "start_time": "2023-07-14T13:33:56.442451",
     "status": "completed"
    },
    "tags": []
   },
   "outputs": [],
   "source": [
    "rate_plot(set_by_release)"
   ]
  },
  {
   "cell_type": "markdown",
   "id": "1a453fb1-4971-4b2d-80d1-8cb4e9fe8d91",
   "metadata": {
    "papermill": {
     "duration": 0.156285,
     "end_time": "2023-07-14T13:33:59.311479",
     "exception": false,
     "start_time": "2023-07-14T13:33:59.155194",
     "status": "completed"
    },
    "tags": []
   },
   "source": [
    "### By month"
   ]
  },
  {
   "cell_type": "code",
   "execution_count": null,
   "id": "dc6517e9-0ab6-4a0a-b0ba-ffe6fa43855a",
   "metadata": {
    "papermill": {
     "duration": 0.489234,
     "end_time": "2023-07-14T13:33:59.950304",
     "exception": false,
     "start_time": "2023-07-14T13:33:59.461070",
     "status": "completed"
    },
    "tags": []
   },
   "outputs": [],
   "source": [
    "set_by_release.groupby(set_by_release.index.strftime(\"%B\")).sum().sort_index(\n",
    "    key=lambda x: pd.to_datetime(x, format=\"%B\").month\n",
    ").plot.bar(figsize=(16, 8), grid=True, xlabel=\"Release month\", rot=0)\n",
    "plt.show()"
   ]
  },
  {
   "cell_type": "code",
   "execution_count": null,
   "id": "36e2463e-83b1-418a-a5e4-fbda3b716f97",
   "metadata": {
    "papermill": {
     "duration": 0.683302,
     "end_time": "2023-07-14T13:34:00.783458",
     "exception": false,
     "start_time": "2023-07-14T13:34:00.100156",
     "status": "completed"
    },
    "tags": []
   },
   "outputs": [],
   "source": [
    "set_by_release.groupby(set_by_release.index.strftime(\"%d\")).sum().plot.bar(\n",
    "    figsize=(16, 8), grid=True, xlabel=\"Release day of the month\", rot=0\n",
    ")\n",
    "plt.show()"
   ]
  },
  {
   "cell_type": "markdown",
   "id": "2b44c11e-6f63-48dd-9122-941068f50cc6",
   "metadata": {
    "papermill": {
     "duration": 0.152273,
     "end_time": "2023-07-14T13:34:01.088621",
     "exception": false,
     "start_time": "2023-07-14T13:34:00.936348",
     "status": "completed"
    },
    "tags": []
   },
   "source": [
    "### By day"
   ]
  },
  {
   "cell_type": "code",
   "execution_count": null,
   "id": "b33a17bb-8a47-41bf-977b-c4d89e81d814",
   "metadata": {
    "papermill": {
     "duration": 0.713785,
     "end_time": "2023-07-14T13:34:02.044769",
     "exception": false,
     "start_time": "2023-07-14T13:34:01.330984",
     "status": "completed"
    },
    "tags": []
   },
   "outputs": [],
   "source": [
    "set_by_release.groupby(set_by_release.index.dayofyear).sum().plot(\n",
    "    figsize=(16, 8), grid=True, xlabel=\"Release day of the year\"\n",
    ")\n",
    "plt.show()"
   ]
  },
  {
   "cell_type": "code",
   "execution_count": null,
   "id": "a40ee744-975c-42a8-9155-d8c0d0fbc209",
   "metadata": {
    "papermill": {
     "duration": 0.44279,
     "end_time": "2023-07-14T13:34:02.640056",
     "exception": false,
     "start_time": "2023-07-14T13:34:02.197266",
     "status": "completed"
    },
    "tags": []
   },
   "outputs": [],
   "source": [
    "set_by_release_wd = set_by_release.groupby(set_by_release.index.weekday).sum()\n",
    "set_by_release_wd.index = [\n",
    "    calendar.day_name[i] for i in set_by_release_wd.index.astype(int)\n",
    "]\n",
    "set_by_release_wd.plot.bar(\n",
    "    figsize=(16, 8), grid=True, xlabel=\"Release day of the week\", rot=0\n",
    ")\n",
    "plt.show()"
   ]
  },
  {
   "cell_type": "markdown",
   "id": "5d1e240c-c712-4b39-8ed5-3ca1fe2cca9c",
   "metadata": {
    "papermill": {
     "duration": 0.149658,
     "end_time": "2023-07-14T13:34:02.943027",
     "exception": false,
     "start_time": "2023-07-14T13:34:02.793369",
     "status": "completed"
    },
    "tags": []
   },
   "source": [
    "### By region"
   ]
  },
  {
   "cell_type": "code",
   "execution_count": null,
   "id": "8d64abbe-da2c-4242-9db6-f63bdaf1c61d",
   "metadata": {
    "papermill": {
     "duration": 0.932798,
     "end_time": "2023-07-14T13:34:04.028111",
     "exception": false,
     "start_time": "2023-07-14T13:34:03.095313",
     "status": "completed"
    },
    "tags": []
   },
   "outputs": [],
   "source": [
    "by_release_region = all_set_lists_df.groupby([\"Region\", \"Release\"]).nunique()\n",
    "by_release_region"
   ]
  },
  {
   "cell_type": "code",
   "execution_count": null,
   "id": "6365aa88-656e-4c66-9325-79f933b27662",
   "metadata": {
    "papermill": {
     "duration": 0.224866,
     "end_time": "2023-07-14T13:34:04.406774",
     "exception": false,
     "start_time": "2023-07-14T13:34:04.181908",
     "status": "completed"
    },
    "tags": []
   },
   "outputs": [],
   "source": [
    "set_by_release_region = (\n",
    "    by_release_region[\"Set\"].unstack(0).sort_index().fillna(0).astype(int)\n",
    ")\n",
    "set_by_release_region_y = (\n",
    "    set_by_release_region.groupby(set_by_release_region.index.strftime(\"%Y\")).sum().T\n",
    ")\n",
    "set_by_release_region_y"
   ]
  },
  {
   "cell_type": "code",
   "execution_count": null,
   "id": "4ea33195-87ea-48e8-af5b-2281792bdcfb",
   "metadata": {
    "papermill": {
     "duration": 1.600273,
     "end_time": "2023-07-14T13:34:06.615215",
     "exception": false,
     "start_time": "2023-07-14T13:34:05.014942",
     "status": "completed"
    },
    "tags": []
   },
   "outputs": [],
   "source": [
    "plt.figure(figsize=(20, 10))\n",
    "sns.heatmap(\n",
    "    set_by_release_region_y[set_by_release_region_y > 0],\n",
    "    annot=True,\n",
    "    fmt=\"g\",\n",
    "    cmap=\"viridis\",\n",
    "    square=True,\n",
    ")\n",
    "plt.show()"
   ]
  },
  {
   "cell_type": "code",
   "execution_count": null,
   "id": "66f07fb9-5fc7-4c55-8ba3-b75bda610e89",
   "metadata": {
    "papermill": {
     "duration": 38.382196,
     "end_time": "2023-07-14T13:34:45.152804",
     "exception": false,
     "start_time": "2023-07-14T13:34:06.770608",
     "status": "completed"
    },
    "tags": []
   },
   "outputs": [],
   "source": [
    "rate_subplots(set_by_release_region, title=\"Set releases\")"
   ]
  },
  {
   "cell_type": "markdown",
   "id": "9c7647f5-a954-40d9-8481-4f8dec29f5f1",
   "metadata": {
    "papermill": {
     "duration": 0.178231,
     "end_time": "2023-07-14T13:34:45.511085",
     "exception": false,
     "start_time": "2023-07-14T13:34:45.332854",
     "status": "completed"
    },
    "tags": []
   },
   "source": [
    "### By series"
   ]
  },
  {
   "cell_type": "code",
   "execution_count": null,
   "id": "ff1e673d-c515-4774-a993-d693de418e0a",
   "metadata": {
    "papermill": {
     "duration": 1.315903,
     "end_time": "2023-07-14T13:34:47.011698",
     "exception": false,
     "start_time": "2023-07-14T13:34:45.695795",
     "status": "completed"
    },
    "tags": []
   },
   "outputs": [],
   "source": [
    "by_release_series = (\n",
    "    all_set_lists_df.explode(\"Series\").groupby([\"Series\", \"Release\"]).nunique()\n",
    ")\n",
    "by_release_series"
   ]
  },
  {
   "cell_type": "code",
   "execution_count": null,
   "id": "e2853b51-5b73-43b0-a44c-e1f025640055",
   "metadata": {
    "papermill": {
     "duration": 0.261605,
     "end_time": "2023-07-14T13:34:47.462019",
     "exception": false,
     "start_time": "2023-07-14T13:34:47.200414",
     "status": "completed"
    },
    "tags": []
   },
   "outputs": [],
   "source": [
    "set_by_release_series = (\n",
    "    by_release_series[\"Set\"].unstack(0).sort_index().fillna(0).astype(int)\n",
    ")\n",
    "set_by_release_series_y = (\n",
    "    set_by_release_series.groupby(set_by_release_series.index.strftime(\"%Y\")).sum().T\n",
    ")\n",
    "set_by_release_series_y"
   ]
  },
  {
   "cell_type": "code",
   "execution_count": null,
   "id": "302c2746-3866-4564-ac2f-ba0164e7f799",
   "metadata": {
    "papermill": {
     "duration": 2.277603,
     "end_time": "2023-07-14T13:34:49.922814",
     "exception": false,
     "start_time": "2023-07-14T13:34:47.645211",
     "status": "completed"
    },
    "tags": []
   },
   "outputs": [],
   "source": [
    "plt.figure(figsize=(20, 16))\n",
    "sns.heatmap(\n",
    "    set_by_release_series_y[set_by_release_series_y > 0],\n",
    "    annot=True,\n",
    "    fmt=\"g\",\n",
    "    cmap=\"viridis\",\n",
    "    square=True,\n",
    ")\n",
    "plt.show()"
   ]
  },
  {
   "cell_type": "code",
   "execution_count": null,
   "id": "753e6cd5-2ea0-4f59-b9aa-070151f50e09",
   "metadata": {
    "papermill": {
     "duration": 152.194984,
     "end_time": "2023-07-14T13:37:22.539309",
     "exception": false,
     "start_time": "2023-07-14T13:34:50.344325",
     "status": "completed"
    },
    "tags": []
   },
   "outputs": [],
   "source": [
    "rate_subplots(set_by_release_series, title=\"Set releases\")"
   ]
  },
  {
   "cell_type": "markdown",
   "id": "20454f30-596a-48c1-8fe8-08ed03a01bdc",
   "metadata": {
    "papermill": {
     "duration": 0.259295,
     "end_time": "2023-07-14T13:37:23.240200",
     "exception": false,
     "start_time": "2023-07-14T13:37:22.980905",
     "status": "completed"
    },
    "tags": []
   },
   "source": [
    "### By set type"
   ]
  },
  {
   "cell_type": "code",
   "execution_count": null,
   "id": "dc7b725b-3563-46e3-91b7-ffee643a2f6c",
   "metadata": {
    "papermill": {
     "duration": 2.290859,
     "end_time": "2023-07-14T13:37:25.797608",
     "exception": false,
     "start_time": "2023-07-14T13:37:23.506749",
     "status": "completed"
    },
    "tags": []
   },
   "outputs": [],
   "source": [
    "by_release_type = (\n",
    "    all_set_lists_df.explode(\"Set type\").groupby([\"Set type\", \"Release\"]).nunique()\n",
    ")\n",
    "by_release_type"
   ]
  },
  {
   "cell_type": "code",
   "execution_count": null,
   "id": "654fb9be-3bee-4878-9957-18af48c06d2b",
   "metadata": {
    "papermill": {
     "duration": 0.472615,
     "end_time": "2023-07-14T13:37:26.590105",
     "exception": false,
     "start_time": "2023-07-14T13:37:26.117490",
     "status": "completed"
    },
    "tags": []
   },
   "outputs": [],
   "source": [
    "set_by_release_type = (\n",
    "    by_release_type[\"Set\"].unstack(0).sort_index().fillna(0).astype(int)\n",
    ")\n",
    "set_by_release_type_y = (\n",
    "    set_by_release_type.groupby(set_by_release_type.index.strftime(\"%Y\")).sum().T\n",
    ")\n",
    "set_by_release_type_y"
   ]
  },
  {
   "cell_type": "code",
   "execution_count": null,
   "id": "c7f881fa-d769-4c83-a663-6f8a79cb1907",
   "metadata": {
    "papermill": {
     "duration": 2.803276,
     "end_time": "2023-07-14T13:37:29.713355",
     "exception": false,
     "start_time": "2023-07-14T13:37:26.910079",
     "status": "completed"
    },
    "tags": []
   },
   "outputs": [],
   "source": [
    "plt.figure(figsize=(20, 16))\n",
    "sns.heatmap(\n",
    "    set_by_release_type_y[set_by_release_type_y > 0],\n",
    "    annot=True,\n",
    "    fmt=\"g\",\n",
    "    cmap=\"viridis\",\n",
    "    square=True,\n",
    ")\n",
    "plt.show()"
   ]
  },
  {
   "cell_type": "code",
   "execution_count": null,
   "id": "a056c73e-9011-4b00-b993-7e72899abfc5",
   "metadata": {
    "papermill": {
     "duration": 109.198299,
     "end_time": "2023-07-14T13:39:19.193509",
     "exception": false,
     "start_time": "2023-07-14T13:37:29.995210",
     "status": "completed"
    },
    "tags": []
   },
   "outputs": [],
   "source": [
    "rate_subplots(set_by_release_type, title=\"Set releases\")"
   ]
  },
  {
   "cell_type": "markdown",
   "id": "87158376-29ce-446a-8019-870cef12a427",
   "metadata": {
    "papermill": {
     "duration": 0.348562,
     "end_time": "2023-07-14T13:39:19.943347",
     "exception": false,
     "start_time": "2023-07-14T13:39:19.594785",
     "status": "completed"
    },
    "tags": []
   },
   "source": [
    "# Debug"
   ]
  },
  {
   "cell_type": "markdown",
   "id": "bb613435-0c31-4131-990f-38b1528895ee",
   "metadata": {
    "papermill": {
     "duration": 0.33899,
     "end_time": "2023-07-14T13:39:20.634315",
     "exception": false,
     "start_time": "2023-07-14T13:39:20.295325",
     "status": "completed"
    },
    "tags": []
   },
   "source": [
    "This section is used for debugging the extraction of data from MediaWiki query responses"
   ]
  },
  {
   "cell_type": "markdown",
   "id": "7e03ada7-b5d4-45b9-a2f0-e3529ffb8232",
   "metadata": {
    "papermill": {
     "duration": 0.349297,
     "end_time": "2023-07-14T13:39:21.362264",
     "exception": false,
     "start_time": "2023-07-14T13:39:21.012967",
     "status": "completed"
    },
    "tags": []
   },
   "source": [
    "## Has nan name/number"
   ]
  },
  {
   "cell_type": "code",
   "execution_count": null,
   "id": "3e635066-7b4f-45b5-9cff-e7989b5f820c",
   "metadata": {
    "papermill": {
     "duration": 1.153424,
     "end_time": "2023-07-14T13:39:22.861379",
     "exception": false,
     "start_time": "2023-07-14T13:39:21.707955",
     "status": "completed"
    },
    "tags": []
   },
   "outputs": [],
   "source": [
    "all_set_lists_df[\n",
    "    all_set_lists_df[\"Name\"].isna() | all_set_lists_df[\"Card number\"].isna()\n",
    "]"
   ]
  },
  {
   "cell_type": "markdown",
   "id": "e8543cd1-14cc-4afe-937c-8ddad00e28ac",
   "metadata": {
    "papermill": {
     "duration": 0.344695,
     "end_time": "2023-07-14T13:39:23.607245",
     "exception": false,
     "start_time": "2023-07-14T13:39:23.262550",
     "status": "completed"
    },
    "tags": []
   },
   "source": [
    "## Has nan rarity"
   ]
  },
  {
   "cell_type": "code",
   "execution_count": null,
   "id": "902b60d0-8f15-4ad8-ad76-c937f0889c6a",
   "metadata": {
    "papermill": {
     "duration": 2.553265,
     "end_time": "2023-07-14T13:39:26.510587",
     "exception": false,
     "start_time": "2023-07-14T13:39:23.957322",
     "status": "completed"
    },
    "tags": []
   },
   "outputs": [],
   "source": [
    "all_set_lists_df.explode(\"Rarity\")[all_set_lists_df.explode(\"Rarity\")[\"Rarity\"].isna()][\n",
    "    \"Set\"\n",
    "].unique()"
   ]
  },
  {
   "cell_type": "markdown",
   "id": "330f97d2-0a01-4cf5-a2a5-2df2c08ffbc6",
   "metadata": {
    "papermill": {
     "duration": 0.339409,
     "end_time": "2023-07-14T13:39:27.199682",
     "exception": false,
     "start_time": "2023-07-14T13:39:26.860273",
     "status": "completed"
    },
    "tags": []
   },
   "source": [
    "## Has nan release"
   ]
  },
  {
   "cell_type": "code",
   "execution_count": null,
   "id": "dd4a54bc-ff61-4044-a480-272a75584e91",
   "metadata": {
    "papermill": {
     "duration": 0.366253,
     "end_time": "2023-07-14T13:39:27.936613",
     "exception": false,
     "start_time": "2023-07-14T13:39:27.570360",
     "status": "completed"
    },
    "tags": []
   },
   "outputs": [],
   "source": [
    "all_set_lists_df[all_set_lists_df[\"Release\"].isna()][\"Set\"].unique()"
   ]
  },
  {
   "cell_type": "markdown",
   "id": "a5448b9b-6ecd-443f-9365-f3a686d4ca82",
   "metadata": {
    "papermill": {
     "duration": 0.384593,
     "end_time": "2023-07-14T13:39:28.686821",
     "exception": false,
     "start_time": "2023-07-14T13:39:28.302228",
     "status": "completed"
    },
    "tags": []
   },
   "source": [
    " # Epilogue"
   ]
  },
  {
   "cell_type": "code",
   "execution_count": null,
   "id": "4601223c-4c4f-4b93-a2bb-c95c1b380c13",
   "metadata": {
    "papermill": {
     "duration": 1.897151,
     "end_time": "2023-07-14T13:39:30.953866",
     "exception": false,
     "start_time": "2023-07-14T13:39:29.056715",
     "status": "completed"
    },
    "tags": []
   },
   "outputs": [],
   "source": [
    "benchmark(\"sets\", timestamp)"
   ]
  },
  {
   "cell_type": "code",
   "execution_count": null,
   "id": "fcb1adf8-8e28-49e6-8162-45f102c511ee",
   "metadata": {
    "papermill": {
     "duration": 0.39989,
     "end_time": "2023-07-14T13:39:31.697076",
     "exception": false,
     "start_time": "2023-07-14T13:39:31.297186",
     "status": "completed"
    },
    "tags": []
   },
   "outputs": [],
   "source": [
    "footer()"
   ]
  },
  {
   "cell_type": "markdown",
   "id": "924c84f0-96b0-4575-82f0-e4d8af6e68e4",
   "metadata": {
    "papermill": {
     "duration": 0.34536,
     "end_time": "2023-07-14T13:39:32.410482",
     "exception": false,
     "start_time": "2023-07-14T13:39:32.065122",
     "status": "completed"
    },
    "tags": []
   },
   "source": [
    "## HTML export"
   ]
  },
  {
   "cell_type": "code",
   "execution_count": null,
   "id": "ad2aef41-90e8-4d7a-abdf-b3cab76f8945",
   "metadata": {
    "papermill": {
     "duration": 0.47447,
     "end_time": "2023-07-14T13:39:33.242243",
     "exception": false,
     "start_time": "2023-07-14T13:39:32.767773",
     "status": "completed"
    },
    "tags": []
   },
   "outputs": [],
   "source": [
    "# May need to sleep for a few seconds after saving\n",
    "save_notebook()"
   ]
  },
  {
   "cell_type": "code",
   "execution_count": null,
   "id": "b6a35c5d-b424-4820-8d26-8be29b50c546",
   "metadata": {
    "papermill": {
     "duration": 17.422016,
     "end_time": "2023-07-14T13:39:51.022438",
     "exception": false,
     "start_time": "2023-07-14T13:39:33.600422",
     "status": "completed"
    },
    "tags": []
   },
   "outputs": [],
   "source": [
    "! jupyter nbconvert Sets.ipynb --output-dir='../' --to=HTML --TagRemovePreprocessor.enabled=True --TagRemovePreprocessor.remove_cell_tags='exclude' --TemplateExporter.exclude_input=True --TemplateExporter.exclude_input_prompt=True --TemplateExporter.exclude_output_prompt=True"
   ]
  },
  {
   "cell_type": "markdown",
   "id": "a2b08f73-ccfd-4535-95cb-830d0ccdb9de",
   "metadata": {
    "papermill": {
     "duration": 0.343733,
     "end_time": "2023-07-14T13:39:51.752785",
     "exception": false,
     "start_time": "2023-07-14T13:39:51.409052",
     "status": "completed"
    },
    "tags": [
     "exclude"
    ]
   },
   "source": [
    "## Git"
   ]
  },
  {
   "cell_type": "code",
   "execution_count": null,
   "id": "cba1eb00-d9c2-491a-95b3-5ce0a0524d59",
   "metadata": {
    "papermill": {
     "duration": null,
     "end_time": null,
     "exception": false,
     "start_time": "2023-07-14T13:39:52.109279",
     "status": "running"
    },
    "tags": [
     "exclude"
    ]
   },
   "outputs": [],
   "source": [
    "! git add \"../*[Ss]ets[._]*\""
   ]
  },
  {
   "cell_type": "code",
   "execution_count": null,
   "id": "6f1f8303-30c6-4aaa-b45e-f6d5f5ece30e",
   "metadata": {
    "papermill": {
     "duration": null,
     "end_time": null,
     "exception": null,
     "start_time": null,
     "status": "pending"
    },
    "tags": [
     "exclude"
    ]
   },
   "outputs": [],
   "source": [
    "! git commit -m {\"'Sets update-\" + timestamp.isoformat() + \"'\"}"
   ]
  }
 ],
 "metadata": {
  "kernelspec": {
   "display_name": "Python 3 (ipykernel)",
   "language": "python",
   "name": "python3"
  },
  "language_info": {
   "codemirror_mode": {
    "name": "ipython",
    "version": 3
   },
   "file_extension": ".py",
   "mimetype": "text/x-python",
   "name": "python",
   "nbconvert_exporter": "python",
   "pygments_lexer": "ipython3",
   "version": "3.10.12"
  },
  "papermill": {
   "default_parameters": {},
   "duration": null,
   "end_time": null,
   "environment_variables": {},
   "exception": null,
   "input_path": "Sets.ipynb",
   "output_path": "Sets.ipynb",
   "parameters": {},
   "start_time": "2023-07-14T13:28:32.886085",
   "version": "2.4.0"
  },
  "toc": {
   "base_numbering": 1,
   "nav_menu": {},
   "number_sections": true,
   "sideBar": true,
   "skip_h1_title": false,
   "title_cell": "Table of Contents",
   "title_sidebar": "Contents",
   "toc_cell": true,
   "toc_position": {
    "height": "calc(100% - 180px)",
    "left": "10px",
    "top": "150px",
    "width": "288px"
   },
   "toc_section_display": true,
   "toc_window_display": true
  },
  "toc-autonumbering": false,
  "toc-showcode": false,
  "toc-showmarkdowntxt": false,
  "toc-showtags": false
 },
 "nbformat": 4,
 "nbformat_minor": 5
}
