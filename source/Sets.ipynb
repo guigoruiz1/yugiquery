{
 "cells": [
  {
   "cell_type": "code",
   "execution_count": null,
   "id": "0e08a9ff",
   "metadata": {
    "papermill": {
     "duration": 2.432546,
     "end_time": "2023-12-04T15:49:01.501856",
     "exception": false,
     "start_time": "2023-12-04T15:48:59.069310",
     "status": "completed"
    },
    "tags": []
   },
   "outputs": [],
   "source": [
    "from yugiquery import *\n",
    "\n",
    "init_notebook_mode(all_interactive=True)\n",
    "\n",
    "header(\"Sets\")"
   ]
  },
  {
   "cell_type": "markdown",
   "id": "26f4e8e5-1d0b-408d-994f-9022eca9cd4a",
   "metadata": {
    "papermill": {
     "duration": 0.30143,
     "end_time": "2023-12-04T15:49:01.859524",
     "exception": false,
     "start_time": "2023-12-04T15:49:01.558094",
     "status": "completed"
    },
    "tags": []
   },
   "source": [
    "---"
   ]
  },
  {
   "cell_type": "markdown",
   "id": "e921ed99",
   "metadata": {
    "papermill": {
     "duration": 0.064461,
     "end_time": "2023-12-04T15:49:01.996698",
     "exception": false,
     "start_time": "2023-12-04T15:49:01.932237",
     "status": "completed"
    },
    "tags": [],
    "toc": true
   },
   "source": [
    "Table of Contents\n",
    "=================\n",
    "\n",
    "*   [1  Data aquisition](#Data-aquisition)\n",
    "    *   [1.1  Fetch set lists](#Fetch-set-lists)\n",
    "    *   [1.2  Fetch set properties](#Fetch-set-properties)\n",
    "    *   [1.3  Merge data](#Merge-data)\n",
    "    *   [1.4  Save data](#Save-data)\n",
    "*   [3  Check changes](#Check-changes)\n",
    "    *   [3.1  Load previous data](#Load-previous-data)\n",
    "    *   [3.2  Generate changelog](#Generate-changelog)\n",
    "*   [4  Data visualization](#Data-visualization)\n",
    "    *   [4.1  Full data](#Full-data)\n",
    "    *   [4.2  Set](#Set)\n",
    "    *   [4.3  Card number](#Card-number)\n",
    "    *   [4.4  Name](#Name)\n",
    "    *   [4.5  Rarity](#Rarity)\n",
    "        *   [4.5.1  By unique](#By-unique)\n",
    "        *   [4.5.2  By combination](#By-combination)\n",
    "    *   [4.6  Print](#Print)\n",
    "    *   [4.7  Quantity](#Quantity)\n",
    "    *   [4.8  Region](#Region)\n",
    "    *   [4.9  Cover card](#Cover-card)\n",
    "    *   [4.10  Series](#Series)\n",
    "    *   [4.11  Set type](#Set-type)\n",
    "    *   [4.12  Release](#Release)\n",
    "        *   [4.12.1  By year](#By-year)\n",
    "        *   [4.12.2  By month](#By-month)\n",
    "        *   [4.12.3  By day](#By-day)\n",
    "        *   [4.12.4  By region](#By-region)\n",
    "        *   [4.12.5  By series](#By-series)\n",
    "        *   [4.12.6  By set type](#By-set-type)\n",
    "*   [5  Debug](#Debug)\n",
    "    *   [5.1  Has nan name/number](#Has-nan-name/number)\n",
    "    *   [5.2  Has nan rarity](#Has-nan-rarity)\n",
    "    *   [5.3  Has quantity as print](#Has-quantity-as-print)\n",
    "    *   [5.4  Has nan release](#Has-nan-release)\n",
    "    *   [5.5  Has print as rarity](#Has-print-as-rarity)\n",
    "    *   [5.6  Merge failed](#Merge-failed)\n",
    "*   [6  Epilogue](#Epilogue)\n",
    "    *   [6.1  HTML export](#HTML-export)\n",
    "<!-- *   [6.2  Git](#Git) -->"
   ]
  },
  {
   "cell_type": "markdown",
   "id": "3bd10f43-bd00-4bbf-943f-060106ee5bd7",
   "metadata": {
    "papermill": {
     "duration": 0.050446,
     "end_time": "2023-12-04T15:49:02.111738",
     "exception": false,
     "start_time": "2023-12-04T15:49:02.061292",
     "status": "completed"
    },
    "tags": []
   },
   "source": [
    "# Data aquisition"
   ]
  },
  {
   "cell_type": "markdown",
   "id": "c8867ddf-d23c-4257-b143-527fda774898",
   "metadata": {
    "papermill": {
     "duration": 0.049957,
     "end_time": "2023-12-04T15:49:02.211448",
     "exception": false,
     "start_time": "2023-12-04T15:49:02.161491",
     "status": "completed"
    },
    "tags": []
   },
   "source": [
    "## Fetch set lists"
   ]
  },
  {
   "cell_type": "code",
   "execution_count": null,
   "id": "31a6fca2",
   "metadata": {
    "code_folding": [],
    "papermill": {
     "duration": 126.521946,
     "end_time": "2023-12-04T15:51:08.785293",
     "exception": false,
     "start_time": "2023-12-04T15:49:02.263347",
     "status": "completed"
    },
    "tags": []
   },
   "outputs": [],
   "source": [
    "# Timestamp\n",
    "timestamp = arrow.utcnow()\n",
    "\n",
    "all_set_lists_df = fetch_all_set_lists()"
   ]
  },
  {
   "cell_type": "markdown",
   "id": "a08bddea-ae28-41f6-b261-1f4c9590dd17",
   "metadata": {
    "papermill": {
     "duration": 0.052269,
     "end_time": "2023-12-04T15:51:08.898836",
     "exception": false,
     "start_time": "2023-12-04T15:51:08.846567",
     "status": "completed"
    },
    "tags": []
   },
   "source": [
    "## Fetch set properties"
   ]
  },
  {
   "cell_type": "code",
   "execution_count": null,
   "id": "973ad01a-4a08-4c06-a8e4-526c4a753acf",
   "metadata": {
    "papermill": {
     "duration": 63.533053,
     "end_time": "2023-12-04T15:52:12.498521",
     "exception": false,
     "start_time": "2023-12-04T15:51:08.965468",
     "status": "completed"
    },
    "tags": []
   },
   "outputs": [],
   "source": [
    "# List of sets to ask\n",
    "sets = all_set_lists_df[\"Set\"].unique()\n",
    "set_info_df = fetch_set_info(sets)"
   ]
  },
  {
   "cell_type": "markdown",
   "id": "d22af094-2e54-4bf9-ae90-f68f298c0e81",
   "metadata": {
    "papermill": {
     "duration": 0.059475,
     "end_time": "2023-12-04T15:52:12.624771",
     "exception": false,
     "start_time": "2023-12-04T15:52:12.565296",
     "status": "completed"
    },
    "tags": []
   },
   "source": [
    "## Merge data"
   ]
  },
  {
   "cell_type": "code",
   "execution_count": null,
   "id": "2d0917a0-c765-4e1c-acfb-5a3e7a917056",
   "metadata": {
    "papermill": {
     "duration": 38.145006,
     "end_time": "2023-12-04T15:52:50.825357",
     "exception": false,
     "start_time": "2023-12-04T15:52:12.680351",
     "status": "completed"
    },
    "tags": []
   },
   "outputs": [],
   "source": [
    "# Add properties to set lists\n",
    "all_set_lists_df = merge_set_info(all_set_lists_df, set_info_df)"
   ]
  },
  {
   "cell_type": "markdown",
   "id": "39765c14-4a38-448e-a606-b8c505a42e82",
   "metadata": {
    "papermill": {
     "duration": 0.055442,
     "end_time": "2023-12-04T15:52:50.941551",
     "exception": false,
     "start_time": "2023-12-04T15:52:50.886109",
     "status": "completed"
    },
    "tags": []
   },
   "source": [
    "# Check changes"
   ]
  },
  {
   "cell_type": "markdown",
   "id": "bf52d5e1-e6f1-4a37-a815-6cee1e406d44",
   "metadata": {
    "papermill": {
     "duration": 0.052802,
     "end_time": "2023-12-04T15:52:51.053580",
     "exception": false,
     "start_time": "2023-12-04T15:52:51.000778",
     "status": "completed"
    },
    "tags": []
   },
   "source": [
    "## Load previous data"
   ]
  },
  {
   "cell_type": "code",
   "execution_count": null,
   "id": "3c4037a3-e6f3-42f9-a74e-edfc66e7840d",
   "metadata": {
    "papermill": {
     "duration": 9.286656,
     "end_time": "2023-12-04T15:53:00.394716",
     "exception": false,
     "start_time": "2023-12-04T15:52:51.108060",
     "status": "completed"
    },
    "tags": []
   },
   "outputs": [],
   "source": [
    "# Get latest file if exist\n",
    "tuple_cols = [\"Rarity\", \"Cover card\"]\n",
    "previous_df, previous_ts = load_corrected_latest(\"sets\", tuple_cols)\n",
    "\n",
    "if previous_df is not None:\n",
    "    previous_df = previous_df.astype(\n",
    "        all_set_lists_df[\n",
    "            previous_df.columns.intersection(all_set_lists_df.columns)\n",
    "        ].dtypes.to_dict()\n",
    "    )"
   ]
  },
  {
   "cell_type": "markdown",
   "id": "78f52677-69c8-4996-acd4-8856a1237bd2",
   "metadata": {
    "papermill": {
     "duration": 0.198443,
     "end_time": "2023-12-04T15:53:00.650475",
     "exception": false,
     "start_time": "2023-12-04T15:53:00.452032",
     "status": "completed"
    },
    "tags": []
   },
   "source": [
    "## Generate changelog"
   ]
  },
  {
   "cell_type": "code",
   "execution_count": null,
   "id": "ca3c037d-4e90-46d6-abdc-5b262c0e2926",
   "metadata": {
    "papermill": {
     "duration": 2.864434,
     "end_time": "2023-12-04T15:53:03.610201",
     "exception": false,
     "start_time": "2023-12-04T15:53:00.745767",
     "status": "completed"
    },
    "tags": []
   },
   "outputs": [],
   "source": [
    "if previous_df is None:\n",
    "    changelog = None\n",
    "    print(\"Skipped\")\n",
    "else:\n",
    "    changelog = generate_changelog(previous_df, all_set_lists_df, col=\"Card number\")\n",
    "    if not changelog.empty:\n",
    "        display(changelog)\n",
    "        changelog.to_csv(\n",
    "            f'../data/{make_filename(report = \"sets\", timestamp = timestamp, previous_timestamp = previous_ts)}',\n",
    "            index=True,\n",
    "        )\n",
    "        print(\"Changelog saved\")"
   ]
  },
  {
   "cell_type": "markdown",
   "id": "7c12db27-650d-401d-be56-d981118585f8",
   "metadata": {
    "papermill": {
     "duration": 0.056045,
     "end_time": "2023-12-04T15:53:03.764217",
     "exception": false,
     "start_time": "2023-12-04T15:53:03.708172",
     "status": "completed"
    },
    "tags": []
   },
   "source": [
    "## Save data"
   ]
  },
  {
   "cell_type": "code",
   "execution_count": null,
   "id": "ab4ec21c-80ab-4282-ba86-f8653a49dfce",
   "metadata": {
    "papermill": {
     "duration": 14.621147,
     "end_time": "2023-12-04T15:53:18.442868",
     "exception": false,
     "start_time": "2023-12-04T15:53:03.821721",
     "status": "completed"
    },
    "tags": []
   },
   "outputs": [],
   "source": [
    "if changelog is not None and changelog.empty:\n",
    "    print(\"No changes. New data not saved\")\n",
    "else:\n",
    "    all_set_lists_df.to_csv(\n",
    "        f'../data/{make_filename(report = \"sets\", timestamp = timestamp)}', index=False\n",
    "    )\n",
    "    print(\"Data saved\")"
   ]
  },
  {
   "cell_type": "markdown",
   "id": "55e33fb0-39e9-421b-9cd3-5b2bf791f862",
   "metadata": {
    "papermill": {
     "duration": 0.07257,
     "end_time": "2023-12-04T15:53:18.598857",
     "exception": false,
     "start_time": "2023-12-04T15:53:18.526287",
     "status": "completed"
    },
    "tags": []
   },
   "source": [
    "# Data visualization"
   ]
  },
  {
   "cell_type": "markdown",
   "id": "b98cf64a-2d10-4bf2-b183-91551cb36db3",
   "metadata": {
    "jp-MarkdownHeadingCollapsed": true,
    "papermill": {
     "duration": 0.05463,
     "end_time": "2023-12-04T15:53:18.713038",
     "exception": false,
     "start_time": "2023-12-04T15:53:18.658408",
     "status": "completed"
    },
    "tags": []
   },
   "source": [
    "## Full data"
   ]
  },
  {
   "cell_type": "code",
   "execution_count": null,
   "id": "6608021f-9057-4352-b182-0be3b87aad48",
   "metadata": {
    "papermill": {
     "duration": 0.238612,
     "end_time": "2023-12-04T15:53:19.008493",
     "exception": false,
     "start_time": "2023-12-04T15:53:18.769881",
     "status": "completed"
    },
    "tags": []
   },
   "outputs": [],
   "source": [
    "all_set_lists_df"
   ]
  },
  {
   "cell_type": "markdown",
   "id": "25b98b85-275c-4471-951d-d2e7710433e5",
   "metadata": {
    "papermill": {
     "duration": 0.087427,
     "end_time": "2023-12-04T15:53:19.164109",
     "exception": false,
     "start_time": "2023-12-04T15:53:19.076682",
     "status": "completed"
    },
    "tags": []
   },
   "source": [
    "Full data available [here](../data)"
   ]
  },
  {
   "cell_type": "markdown",
   "id": "f4a2b98c-b48b-42e1-a798-64e42b6619a4",
   "metadata": {
    "jp-MarkdownHeadingCollapsed": true,
    "papermill": {
     "duration": 0.06187,
     "end_time": "2023-12-04T15:53:19.301170",
     "exception": false,
     "start_time": "2023-12-04T15:53:19.239300",
     "status": "completed"
    },
    "tags": []
   },
   "source": [
    "## Set"
   ]
  },
  {
   "cell_type": "code",
   "execution_count": null,
   "id": "a77a8dcc-ff14-4ddf-9b61-64c12e90378c",
   "metadata": {
    "papermill": {
     "duration": 0.115334,
     "end_time": "2023-12-04T15:53:19.479583",
     "exception": false,
     "start_time": "2023-12-04T15:53:19.364249",
     "status": "completed"
    },
    "tags": []
   },
   "outputs": [],
   "source": [
    "print(\"Total number of sets:\", all_set_lists_df[\"Set\"].nunique())"
   ]
  },
  {
   "cell_type": "code",
   "execution_count": null,
   "id": "e928e7d9-8eb3-442e-9c34-f35260faf008",
   "metadata": {
    "papermill": {
     "duration": 0.870769,
     "end_time": "2023-12-04T15:53:20.412658",
     "exception": false,
     "start_time": "2023-12-04T15:53:19.541889",
     "status": "completed"
    },
    "tags": []
   },
   "outputs": [],
   "source": [
    "all_set_lists_df.groupby(\"Set\", dropna=False).nunique()"
   ]
  },
  {
   "cell_type": "code",
   "execution_count": null,
   "id": "ac2f53eb-6c6c-494c-90c9-5cc3eaf2ba31",
   "metadata": {
    "papermill": {
     "duration": 0.883281,
     "end_time": "2023-12-04T15:53:21.375705",
     "exception": false,
     "start_time": "2023-12-04T15:53:20.492424",
     "status": "completed"
    },
    "tags": []
   },
   "outputs": [],
   "source": [
    "all_set_lists_df.groupby(\"Set\", dropna=False).nunique().describe()"
   ]
  },
  {
   "cell_type": "markdown",
   "id": "95df875c-fc95-4b4e-8a70-042bb3087a1f",
   "metadata": {
    "jp-MarkdownHeadingCollapsed": true,
    "papermill": {
     "duration": 0.059455,
     "end_time": "2023-12-04T15:53:21.528774",
     "exception": false,
     "start_time": "2023-12-04T15:53:21.469319",
     "status": "completed"
    },
    "tags": []
   },
   "source": [
    "## Card number"
   ]
  },
  {
   "cell_type": "code",
   "execution_count": null,
   "id": "7a943862-a244-405a-b76d-b42e40f0331c",
   "metadata": {
    "papermill": {
     "duration": 0.276679,
     "end_time": "2023-12-04T15:53:21.870462",
     "exception": false,
     "start_time": "2023-12-04T15:53:21.593783",
     "status": "completed"
    },
    "tags": []
   },
   "outputs": [],
   "source": [
    "print(\"Total number of card numbers:\", all_set_lists_df[\"Card number\"].nunique())"
   ]
  },
  {
   "cell_type": "code",
   "execution_count": null,
   "id": "85b9f8df",
   "metadata": {
    "papermill": {
     "duration": 1.733692,
     "end_time": "2023-12-04T15:53:23.669592",
     "exception": false,
     "start_time": "2023-12-04T15:53:21.935900",
     "status": "completed"
    },
    "tags": []
   },
   "outputs": [],
   "source": [
    "all_set_lists_df.groupby(\"Card number\", dropna=False).nunique()"
   ]
  },
  {
   "cell_type": "markdown",
   "id": "8a0cac8b-baa6-4b83-abee-889fd8a3c96e",
   "metadata": {
    "jp-MarkdownHeadingCollapsed": true,
    "papermill": {
     "duration": 0.088148,
     "end_time": "2023-12-04T15:53:23.852900",
     "exception": false,
     "start_time": "2023-12-04T15:53:23.764752",
     "status": "completed"
    },
    "tags": []
   },
   "source": [
    "## Name"
   ]
  },
  {
   "cell_type": "code",
   "execution_count": null,
   "id": "70892c55-8542-4458-81c0-05143897ab68",
   "metadata": {
    "papermill": {
     "duration": 0.137062,
     "end_time": "2023-12-04T15:53:24.055563",
     "exception": false,
     "start_time": "2023-12-04T15:53:23.918501",
     "status": "completed"
    },
    "tags": []
   },
   "outputs": [],
   "source": [
    "print(\"Total number of card names:\", all_set_lists_df[\"Name\"].nunique())"
   ]
  },
  {
   "cell_type": "code",
   "execution_count": null,
   "id": "05e4eee4",
   "metadata": {
    "papermill": {
     "duration": 1.101349,
     "end_time": "2023-12-04T15:53:25.229998",
     "exception": false,
     "start_time": "2023-12-04T15:53:24.128649",
     "status": "completed"
    },
    "tags": []
   },
   "outputs": [],
   "source": [
    "all_set_lists_df.groupby(\"Name\", dropna=False).nunique()"
   ]
  },
  {
   "cell_type": "code",
   "execution_count": null,
   "id": "829294db-e127-4bc2-bde4-333f4d45af5d",
   "metadata": {
    "papermill": {
     "duration": 1.116231,
     "end_time": "2023-12-04T15:53:26.442567",
     "exception": false,
     "start_time": "2023-12-04T15:53:25.326336",
     "status": "completed"
    },
    "tags": []
   },
   "outputs": [],
   "source": [
    "all_set_lists_df.groupby(\"Name\", dropna=True).nunique().describe()"
   ]
  },
  {
   "cell_type": "markdown",
   "id": "dd7bf2b1-d469-4a3d-ad55-47dc7b9f202d",
   "metadata": {
    "papermill": {
     "duration": 0.065261,
     "end_time": "2023-12-04T15:53:26.600026",
     "exception": false,
     "start_time": "2023-12-04T15:53:26.534765",
     "status": "completed"
    },
    "tags": []
   },
   "source": [
    "## Rarity"
   ]
  },
  {
   "cell_type": "code",
   "execution_count": null,
   "id": "2b796fce-dcd1-4076-be70-25508a4adc14",
   "metadata": {
    "papermill": {
     "duration": 0.51197,
     "end_time": "2023-12-04T15:53:27.180318",
     "exception": false,
     "start_time": "2023-12-04T15:53:26.668348",
     "status": "completed"
    },
    "tags": []
   },
   "outputs": [],
   "source": [
    "print(\"Total number of rarities:\", all_set_lists_df[\"Rarity\"].explode().nunique())"
   ]
  },
  {
   "cell_type": "markdown",
   "id": "3897a616-0d08-40b9-b1bc-8f3ba248b5c2",
   "metadata": {
    "papermill": {
     "duration": 0.076589,
     "end_time": "2023-12-04T15:53:27.351161",
     "exception": false,
     "start_time": "2023-12-04T15:53:27.274572",
     "status": "completed"
    },
    "tags": []
   },
   "source": [
    "### By unique"
   ]
  },
  {
   "cell_type": "code",
   "execution_count": null,
   "id": "acc7d9ed-6877-4232-bdbd-ef1a7f4a829d",
   "metadata": {
    "papermill": {
     "duration": 2.580575,
     "end_time": "2023-12-04T15:53:30.004515",
     "exception": false,
     "start_time": "2023-12-04T15:53:27.423940",
     "status": "completed"
    },
    "tags": []
   },
   "outputs": [],
   "source": [
    "all_set_lists_df.explode(\"Rarity\").groupby(\"Rarity\", dropna=False).nunique()"
   ]
  },
  {
   "cell_type": "code",
   "execution_count": null,
   "id": "336a6f22-5e80-48e1-a22e-bb6fe61fcf01",
   "metadata": {
    "papermill": {
     "duration": 1.792656,
     "end_time": "2023-12-04T15:53:31.895474",
     "exception": false,
     "start_time": "2023-12-04T15:53:30.102818",
     "status": "completed"
    },
    "tags": []
   },
   "outputs": [],
   "source": [
    "all_set_lists_df[\"Rarity\"].explode().value_counts().plot.barh(\n",
    "    figsize=(10, 20), grid=True\n",
    ")\n",
    "plt.xscale(\"log\")\n",
    "plt.show()"
   ]
  },
  {
   "cell_type": "markdown",
   "id": "847e7fcb-4e95-4b81-b309-600aa04e6be7",
   "metadata": {
    "papermill": {
     "duration": 0.141408,
     "end_time": "2023-12-04T15:53:32.147008",
     "exception": false,
     "start_time": "2023-12-04T15:53:32.005600",
     "status": "completed"
    },
    "tags": []
   },
   "source": [
    "### By combination"
   ]
  },
  {
   "cell_type": "code",
   "execution_count": null,
   "id": "e4d79c33",
   "metadata": {
    "papermill": {
     "duration": 1.00773,
     "end_time": "2023-12-04T15:53:33.230858",
     "exception": false,
     "start_time": "2023-12-04T15:53:32.223128",
     "status": "completed"
    },
    "tags": []
   },
   "outputs": [],
   "source": [
    "all_set_lists_df.groupby(\"Rarity\", dropna=False).nunique()"
   ]
  },
  {
   "cell_type": "code",
   "execution_count": null,
   "id": "5124c4f0-b00a-4a19-a174-bfa3a2915242",
   "metadata": {
    "papermill": {
     "duration": 3.56572,
     "end_time": "2023-12-04T15:53:36.899747",
     "exception": false,
     "start_time": "2023-12-04T15:53:33.334027",
     "status": "completed"
    },
    "tags": []
   },
   "outputs": [],
   "source": [
    "all_set_lists_df[\"Rarity\"].value_counts().plot.barh(figsize=(10, 40), grid=True)\n",
    "plt.xscale(\"log\")\n",
    "plt.show()"
   ]
  },
  {
   "cell_type": "markdown",
   "id": "afae1f51-fd13-4a29-ae40-cd913524623c",
   "metadata": {
    "papermill": {
     "duration": 0.336611,
     "end_time": "2023-12-04T15:53:37.391374",
     "exception": false,
     "start_time": "2023-12-04T15:53:37.054763",
     "status": "completed"
    },
    "tags": []
   },
   "source": [
    "## Print"
   ]
  },
  {
   "cell_type": "code",
   "execution_count": null,
   "id": "254ba70a-9ee7-410e-9670-b10ce628b169",
   "metadata": {
    "papermill": {
     "duration": 0.325332,
     "end_time": "2023-12-04T15:53:37.883493",
     "exception": false,
     "start_time": "2023-12-04T15:53:37.558161",
     "status": "completed"
    },
    "tags": []
   },
   "outputs": [],
   "source": [
    "print(\"Total number of prints:\", all_set_lists_df[\"Print\"].nunique())"
   ]
  },
  {
   "cell_type": "code",
   "execution_count": null,
   "id": "3a576a96",
   "metadata": {
    "papermill": {
     "duration": 0.864692,
     "end_time": "2023-12-04T15:53:38.868981",
     "exception": false,
     "start_time": "2023-12-04T15:53:38.004289",
     "status": "completed"
    },
    "tags": []
   },
   "outputs": [],
   "source": [
    "all_set_lists_df.groupby(\"Print\", dropna=False).nunique()"
   ]
  },
  {
   "cell_type": "code",
   "execution_count": null,
   "id": "1c369030-f5e8-4a48-a28c-0b878b9ff8ca",
   "metadata": {
    "papermill": {
     "duration": 1.01922,
     "end_time": "2023-12-04T15:53:40.036618",
     "exception": false,
     "start_time": "2023-12-04T15:53:39.017398",
     "status": "completed"
    },
    "tags": []
   },
   "outputs": [],
   "source": [
    "all_set_lists_df[\"Print\"].value_counts().plot.bar(figsize=(18, 6), grid=True, rot=45)\n",
    "plt.yscale(\"log\")\n",
    "plt.show()"
   ]
  },
  {
   "cell_type": "markdown",
   "id": "ff17d8cc-7842-41f4-95bc-061acd575426",
   "metadata": {
    "papermill": {
     "duration": 0.178719,
     "end_time": "2023-12-04T15:53:40.329421",
     "exception": false,
     "start_time": "2023-12-04T15:53:40.150702",
     "status": "completed"
    },
    "tags": []
   },
   "source": [
    "## Quantity"
   ]
  },
  {
   "cell_type": "code",
   "execution_count": null,
   "id": "5546c0c2-3c14-401a-96a0-8b6b182bc57a",
   "metadata": {
    "papermill": {
     "duration": 0.332336,
     "end_time": "2023-12-04T15:53:40.982139",
     "exception": false,
     "start_time": "2023-12-04T15:53:40.649803",
     "status": "completed"
    },
    "tags": []
   },
   "outputs": [],
   "source": [
    "print(\"Total number of quantities:\", all_set_lists_df[\"Quantity\"].nunique())"
   ]
  },
  {
   "cell_type": "code",
   "execution_count": null,
   "id": "0445fc65",
   "metadata": {
    "papermill": {
     "duration": 1.2645,
     "end_time": "2023-12-04T15:53:42.409085",
     "exception": false,
     "start_time": "2023-12-04T15:53:41.144585",
     "status": "completed"
    },
    "tags": []
   },
   "outputs": [],
   "source": [
    "all_set_lists_df.groupby(\"Quantity\", dropna=False).nunique()"
   ]
  },
  {
   "cell_type": "markdown",
   "id": "cf8bed65-2680-4845-8258-d3eadd169f69",
   "metadata": {
    "papermill": {
     "duration": 0.262502,
     "end_time": "2023-12-04T15:53:42.792536",
     "exception": false,
     "start_time": "2023-12-04T15:53:42.530034",
     "status": "completed"
    },
    "tags": []
   },
   "source": [
    "## Region"
   ]
  },
  {
   "cell_type": "code",
   "execution_count": null,
   "id": "56ce1f02-4524-4584-885b-9d6e8121a76c",
   "metadata": {
    "papermill": {
     "duration": 0.257299,
     "end_time": "2023-12-04T15:53:43.300803",
     "exception": false,
     "start_time": "2023-12-04T15:53:43.043504",
     "status": "completed"
    },
    "tags": []
   },
   "outputs": [],
   "source": [
    "print(\"Total number of regions:\", all_set_lists_df[\"Region\"].nunique())"
   ]
  },
  {
   "cell_type": "code",
   "execution_count": null,
   "id": "af081e1d-a642-49e8-bce3-ccd035131c0b",
   "metadata": {
    "papermill": {
     "duration": 1.146507,
     "end_time": "2023-12-04T15:53:44.667993",
     "exception": false,
     "start_time": "2023-12-04T15:53:43.521486",
     "status": "completed"
    },
    "tags": []
   },
   "outputs": [],
   "source": [
    "all_set_lists_df.groupby([\"Set\", \"Region\"], dropna=False).nunique()"
   ]
  },
  {
   "cell_type": "code",
   "execution_count": null,
   "id": "8756dfb8-35fb-4c63-8c8b-097810d79e3c",
   "metadata": {
    "papermill": {
     "duration": 1.322292,
     "end_time": "2023-12-04T15:53:46.116493",
     "exception": false,
     "start_time": "2023-12-04T15:53:44.794201",
     "status": "completed"
    },
    "tags": []
   },
   "outputs": [],
   "source": [
    "all_set_lists_df.groupby(\"Region\", dropna=False).nunique().describe()"
   ]
  },
  {
   "cell_type": "code",
   "execution_count": null,
   "id": "d0a1e8d7-26a7-4046-a14c-944f8871c05b",
   "metadata": {
    "papermill": {
     "duration": 0.711576,
     "end_time": "2023-12-04T15:53:46.937798",
     "exception": false,
     "start_time": "2023-12-04T15:53:46.226222",
     "status": "completed"
    },
    "tags": []
   },
   "outputs": [],
   "source": [
    "all_set_lists_df[\"Region\"].value_counts().plot.bar(figsize=(18, 6), grid=True, rot=0)\n",
    "plt.show()"
   ]
  },
  {
   "cell_type": "markdown",
   "id": "d14af727-aa5e-4326-8675-433d715c9aa8",
   "metadata": {
    "papermill": {
     "duration": 0.115304,
     "end_time": "2023-12-04T15:53:47.180745",
     "exception": false,
     "start_time": "2023-12-04T15:53:47.065441",
     "status": "completed"
    },
    "tags": []
   },
   "source": [
    "## Cover card"
   ]
  },
  {
   "cell_type": "code",
   "execution_count": null,
   "id": "4a30e731-507d-491e-99b7-b34fcbc4f20b",
   "metadata": {
    "papermill": {
     "duration": 0.739171,
     "end_time": "2023-12-04T15:53:48.051388",
     "exception": false,
     "start_time": "2023-12-04T15:53:47.312217",
     "status": "completed"
    },
    "tags": []
   },
   "outputs": [],
   "source": [
    "print(\n",
    "    \"Total number of cover cards:\",\n",
    "    all_set_lists_df[\"Cover card\"].explode(\"Cover card\").nunique(),\n",
    ")"
   ]
  },
  {
   "cell_type": "code",
   "execution_count": null,
   "id": "6b7c3e7e-b70c-414a-a5ad-bd297771f1dd",
   "metadata": {
    "papermill": {
     "duration": 3.185402,
     "end_time": "2023-12-04T15:53:51.358964",
     "exception": false,
     "start_time": "2023-12-04T15:53:48.173562",
     "status": "completed"
    },
    "tags": []
   },
   "outputs": [],
   "source": [
    "all_set_lists_df.explode(\"Cover card\").groupby([\"Cover card\"]).nunique()"
   ]
  },
  {
   "cell_type": "code",
   "execution_count": null,
   "id": "294407de-9087-4e79-a7cb-a45366c212a1",
   "metadata": {
    "papermill": {
     "duration": 12.947074,
     "end_time": "2023-12-04T15:54:04.410035",
     "exception": false,
     "start_time": "2023-12-04T15:53:51.462961",
     "status": "completed"
    },
    "tags": []
   },
   "outputs": [],
   "source": [
    "all_set_lists_df.explode([\"Cover card\"]).groupby(\"Cover card\")[\n",
    "    \"Set\"\n",
    "].nunique().sort_values(ascending=False).plot.barh(figsize=(10, 180), grid=True)\n",
    "plt.show()"
   ]
  },
  {
   "cell_type": "markdown",
   "id": "4e958986-d855-4580-85ea-d417c6b358e9",
   "metadata": {
    "papermill": {
     "duration": 0.230186,
     "end_time": "2023-12-04T15:54:04.814373",
     "exception": false,
     "start_time": "2023-12-04T15:54:04.584187",
     "status": "completed"
    },
    "tags": []
   },
   "source": [
    "## Series"
   ]
  },
  {
   "cell_type": "code",
   "execution_count": null,
   "id": "e010b8bc-5ffd-4a6a-a2e4-307b0de3a4bb",
   "metadata": {
    "papermill": {
     "duration": 0.238161,
     "end_time": "2023-12-04T15:54:05.213550",
     "exception": false,
     "start_time": "2023-12-04T15:54:04.975389",
     "status": "completed"
    },
    "tags": []
   },
   "outputs": [],
   "source": [
    "print(\"Total number of series:\", all_set_lists_df[\"Series\"].nunique())"
   ]
  },
  {
   "cell_type": "code",
   "execution_count": null,
   "id": "a64f8d6c-d76f-4a7f-95a6-b3037fa91107",
   "metadata": {
    "papermill": {
     "duration": 1.076894,
     "end_time": "2023-12-04T15:54:06.450336",
     "exception": false,
     "start_time": "2023-12-04T15:54:05.373442",
     "status": "completed"
    },
    "tags": []
   },
   "outputs": [],
   "source": [
    "all_set_lists_df.groupby(\"Series\").nunique()"
   ]
  },
  {
   "cell_type": "code",
   "execution_count": null,
   "id": "303f345a-508f-40a8-9eb1-9935115a8e6e",
   "metadata": {
    "papermill": {
     "duration": 2.090778,
     "end_time": "2023-12-04T15:54:08.728890",
     "exception": false,
     "start_time": "2023-12-04T15:54:06.638112",
     "status": "completed"
    },
    "tags": []
   },
   "outputs": [],
   "source": [
    "all_set_lists_df.explode([\"Series\"]).groupby(\"Series\")[\"Set\"].nunique().sort_values(\n",
    "    ascending=False\n",
    ").plot.barh(figsize=(10, 15), grid=True)\n",
    "plt.show()"
   ]
  },
  {
   "cell_type": "markdown",
   "id": "b26530cf-f5e2-453f-a7ad-f516748ef16a",
   "metadata": {
    "papermill": {
     "duration": 0.152963,
     "end_time": "2023-12-04T15:54:09.069889",
     "exception": false,
     "start_time": "2023-12-04T15:54:08.916926",
     "status": "completed"
    },
    "tags": []
   },
   "source": [
    "## Set type"
   ]
  },
  {
   "cell_type": "code",
   "execution_count": null,
   "id": "dd581283-b889-4572-ab89-0a2353f01ddd",
   "metadata": {
    "papermill": {
     "duration": 0.187331,
     "end_time": "2023-12-04T15:54:09.424818",
     "exception": false,
     "start_time": "2023-12-04T15:54:09.237487",
     "status": "completed"
    },
    "tags": []
   },
   "outputs": [],
   "source": [
    "print(\"Total number of set types:\", all_set_lists_df[\"Set type\"].nunique())"
   ]
  },
  {
   "cell_type": "code",
   "execution_count": null,
   "id": "2baa0c6a-baf5-4e4a-9bf2-2102295e876c",
   "metadata": {
    "papermill": {
     "duration": 0.945294,
     "end_time": "2023-12-04T15:54:10.535875",
     "exception": false,
     "start_time": "2023-12-04T15:54:09.590581",
     "status": "completed"
    },
    "tags": []
   },
   "outputs": [],
   "source": [
    "all_set_lists_df.groupby(\"Set type\").nunique()"
   ]
  },
  {
   "cell_type": "code",
   "execution_count": null,
   "id": "b4465c2d-19c8-49a3-8c6a-eb6e16f7f711",
   "metadata": {
    "papermill": {
     "duration": 0.811367,
     "end_time": "2023-12-04T15:54:11.512953",
     "exception": false,
     "start_time": "2023-12-04T15:54:10.701586",
     "status": "completed"
    },
    "tags": []
   },
   "outputs": [],
   "source": [
    "set_info_df[\"Set type\"].value_counts().plot.barh(figsize=(10, 10), grid=True)\n",
    "plt.show()"
   ]
  },
  {
   "cell_type": "markdown",
   "id": "59ab414c-6e2a-4b71-9110-a62416d7e390",
   "metadata": {
    "papermill": {
     "duration": 0.223438,
     "end_time": "2023-12-04T15:54:11.917779",
     "exception": false,
     "start_time": "2023-12-04T15:54:11.694341",
     "status": "completed"
    },
    "tags": []
   },
   "source": [
    "## Release"
   ]
  },
  {
   "cell_type": "code",
   "execution_count": null,
   "id": "37648341-3420-4e9c-a3c4-e9e63b517c32",
   "metadata": {
    "papermill": {
     "duration": 0.195446,
     "end_time": "2023-12-04T15:54:12.315880",
     "exception": false,
     "start_time": "2023-12-04T15:54:12.120434",
     "status": "completed"
    },
    "tags": []
   },
   "outputs": [],
   "source": [
    "print(\"Total number of release dates:\", all_set_lists_df[\"Release\"].nunique())"
   ]
  },
  {
   "cell_type": "code",
   "execution_count": null,
   "id": "251efa78-66cd-492d-931a-74bf5008a31d",
   "metadata": {
    "papermill": {
     "duration": 0.988842,
     "end_time": "2023-12-04T15:54:13.510349",
     "exception": false,
     "start_time": "2023-12-04T15:54:12.521507",
     "status": "completed"
    },
    "tags": []
   },
   "outputs": [],
   "source": [
    "all_set_lists_df.groupby(\"Release\", dropna=False).nunique()"
   ]
  },
  {
   "cell_type": "code",
   "execution_count": null,
   "id": "53dfbe7b-a712-4920-8ec7-1cb9c49f8930",
   "metadata": {
    "papermill": {
     "duration": 0.22379,
     "end_time": "2023-12-04T15:54:13.926550",
     "exception": false,
     "start_time": "2023-12-04T15:54:13.702760",
     "status": "completed"
    },
    "tags": []
   },
   "outputs": [],
   "source": [
    "set_by_release = pd.DataFrame(\n",
    "    all_set_lists_df.groupby(\"Release\", dropna=False)[\"Set\"].nunique()\n",
    ")"
   ]
  },
  {
   "cell_type": "markdown",
   "id": "00b59bc1-c809-4a3c-8fe5-c1efa509ea48",
   "metadata": {
    "papermill": {
     "duration": 0.161842,
     "end_time": "2023-12-04T15:54:14.270805",
     "exception": false,
     "start_time": "2023-12-04T15:54:14.108963",
     "status": "completed"
    },
    "tags": []
   },
   "source": [
    "### By year"
   ]
  },
  {
   "cell_type": "code",
   "execution_count": null,
   "id": "19c6c510-0e40-4c7b-b1b5-19869d5c296c",
   "metadata": {
    "papermill": {
     "duration": 1.144904,
     "end_time": "2023-12-04T15:54:15.597808",
     "exception": false,
     "start_time": "2023-12-04T15:54:14.452904",
     "status": "completed"
    },
    "tags": []
   },
   "outputs": [],
   "source": [
    "all_set_lists_df.drop(\"Modification date\", axis=1).groupby(\n",
    "    \"Release\", dropna=False\n",
    ").nunique().groupby(set_by_release.index.strftime(\"%Y\")).sum()"
   ]
  },
  {
   "cell_type": "code",
   "execution_count": null,
   "id": "fc6134ac-8c90-44e5-9461-9caccec72eca",
   "metadata": {
    "papermill": {
     "duration": 2.863931,
     "end_time": "2023-12-04T15:54:18.642126",
     "exception": false,
     "start_time": "2023-12-04T15:54:15.778195",
     "status": "completed"
    },
    "tags": []
   },
   "outputs": [],
   "source": [
    "rate_plot(set_by_release)"
   ]
  },
  {
   "cell_type": "markdown",
   "id": "1a453fb1-4971-4b2d-80d1-8cb4e9fe8d91",
   "metadata": {
    "papermill": {
     "duration": 0.189475,
     "end_time": "2023-12-04T15:54:19.029874",
     "exception": false,
     "start_time": "2023-12-04T15:54:18.840399",
     "status": "completed"
    },
    "tags": []
   },
   "source": [
    "### By month"
   ]
  },
  {
   "cell_type": "code",
   "execution_count": null,
   "id": "dc6517e9-0ab6-4a0a-b0ba-ffe6fa43855a",
   "metadata": {
    "papermill": {
     "duration": 0.630824,
     "end_time": "2023-12-04T15:54:19.918467",
     "exception": false,
     "start_time": "2023-12-04T15:54:19.287643",
     "status": "completed"
    },
    "tags": []
   },
   "outputs": [],
   "source": [
    "set_by_release.groupby(set_by_release.index.strftime(\"%B\")).sum().sort_index(\n",
    "    key=lambda x: pd.to_datetime(x, format=\"%B\").month\n",
    ").plot.bar(figsize=(16, 8), grid=True, xlabel=\"Release month\", rot=0)\n",
    "plt.show()"
   ]
  },
  {
   "cell_type": "code",
   "execution_count": null,
   "id": "36e2463e-83b1-418a-a5e4-fbda3b716f97",
   "metadata": {
    "papermill": {
     "duration": 0.671994,
     "end_time": "2023-12-04T15:54:20.823055",
     "exception": false,
     "start_time": "2023-12-04T15:54:20.151061",
     "status": "completed"
    },
    "tags": []
   },
   "outputs": [],
   "source": [
    "set_by_release.groupby(set_by_release.index.strftime(\"%d\")).sum().plot.bar(\n",
    "    figsize=(16, 8), grid=True, xlabel=\"Release day of the month\", rot=0\n",
    ")\n",
    "plt.show()"
   ]
  },
  {
   "cell_type": "markdown",
   "id": "2b44c11e-6f63-48dd-9122-941068f50cc6",
   "metadata": {
    "papermill": {
     "duration": 0.16812,
     "end_time": "2023-12-04T15:54:21.202377",
     "exception": false,
     "start_time": "2023-12-04T15:54:21.034257",
     "status": "completed"
    },
    "tags": []
   },
   "source": [
    "### By day"
   ]
  },
  {
   "cell_type": "code",
   "execution_count": null,
   "id": "b33a17bb-8a47-41bf-977b-c4d89e81d814",
   "metadata": {
    "papermill": {
     "duration": 0.479828,
     "end_time": "2023-12-04T15:54:21.870282",
     "exception": false,
     "start_time": "2023-12-04T15:54:21.390454",
     "status": "completed"
    },
    "tags": []
   },
   "outputs": [],
   "source": [
    "set_by_release.groupby(set_by_release.index.dayofyear).sum().plot(\n",
    "    figsize=(16, 8), grid=True, xlabel=\"Release day of the year\"\n",
    ")\n",
    "plt.show()"
   ]
  },
  {
   "cell_type": "code",
   "execution_count": null,
   "id": "a40ee744-975c-42a8-9155-d8c0d0fbc209",
   "metadata": {
    "papermill": {
     "duration": 0.426226,
     "end_time": "2023-12-04T15:54:22.494440",
     "exception": false,
     "start_time": "2023-12-04T15:54:22.068214",
     "status": "completed"
    },
    "tags": []
   },
   "outputs": [],
   "source": [
    "set_by_release_wd = set_by_release.groupby(set_by_release.index.weekday).sum()\n",
    "set_by_release_wd.index = [\n",
    "    calendar.day_name[i] for i in set_by_release_wd.index.astype(int)\n",
    "]\n",
    "set_by_release_wd.plot.bar(\n",
    "    figsize=(16, 8), grid=True, xlabel=\"Release day of the week\", rot=0\n",
    ")\n",
    "plt.show()"
   ]
  },
  {
   "cell_type": "markdown",
   "id": "5d1e240c-c712-4b39-8ed5-3ca1fe2cca9c",
   "metadata": {
    "papermill": {
     "duration": 0.169497,
     "end_time": "2023-12-04T15:54:22.869429",
     "exception": false,
     "start_time": "2023-12-04T15:54:22.699932",
     "status": "completed"
    },
    "tags": []
   },
   "source": [
    "### By region"
   ]
  },
  {
   "cell_type": "code",
   "execution_count": null,
   "id": "8d64abbe-da2c-4242-9db6-f63bdaf1c61d",
   "metadata": {
    "papermill": {
     "duration": 1.067598,
     "end_time": "2023-12-04T15:54:24.128616",
     "exception": false,
     "start_time": "2023-12-04T15:54:23.061018",
     "status": "completed"
    },
    "tags": []
   },
   "outputs": [],
   "source": [
    "by_release_region = all_set_lists_df.groupby([\"Region\", \"Release\"]).nunique()\n",
    "by_release_region"
   ]
  },
  {
   "cell_type": "code",
   "execution_count": null,
   "id": "6365aa88-656e-4c66-9325-79f933b27662",
   "metadata": {
    "papermill": {
     "duration": 0.345909,
     "end_time": "2023-12-04T15:54:24.679758",
     "exception": false,
     "start_time": "2023-12-04T15:54:24.333849",
     "status": "completed"
    },
    "tags": []
   },
   "outputs": [],
   "source": [
    "set_by_release_region = (\n",
    "    by_release_region[\"Set\"].unstack(0).sort_index().fillna(0).astype(int)\n",
    ")\n",
    "set_by_release_region_y = (\n",
    "    set_by_release_region.groupby(set_by_release_region.index.strftime(\"%Y\")).sum().T\n",
    ")\n",
    "set_by_release_region_y"
   ]
  },
  {
   "cell_type": "code",
   "execution_count": null,
   "id": "4ea33195-87ea-48e8-af5b-2281792bdcfb",
   "metadata": {
    "papermill": {
     "duration": 1.154022,
     "end_time": "2023-12-04T15:54:26.048590",
     "exception": false,
     "start_time": "2023-12-04T15:54:24.894568",
     "status": "completed"
    },
    "tags": []
   },
   "outputs": [],
   "source": [
    "plt.figure(figsize=(20, 10))\n",
    "sns.heatmap(\n",
    "    set_by_release_region_y[set_by_release_region_y > 0],\n",
    "    annot=True,\n",
    "    fmt=\"g\",\n",
    "    cmap=\"viridis\",\n",
    "    square=True,\n",
    ")\n",
    "plt.show()"
   ]
  },
  {
   "cell_type": "code",
   "execution_count": null,
   "id": "66f07fb9-5fc7-4c55-8ba3-b75bda610e89",
   "metadata": {
    "papermill": {
     "duration": 38.800261,
     "end_time": "2023-12-04T15:55:05.115202",
     "exception": false,
     "start_time": "2023-12-04T15:54:26.314941",
     "status": "completed"
    },
    "tags": []
   },
   "outputs": [],
   "source": [
    "rate_subplots(set_by_release_region, title=\"Set releases\")"
   ]
  },
  {
   "cell_type": "markdown",
   "id": "9c7647f5-a954-40d9-8481-4f8dec29f5f1",
   "metadata": {
    "papermill": {
     "duration": 0.197192,
     "end_time": "2023-12-04T15:55:05.570713",
     "exception": false,
     "start_time": "2023-12-04T15:55:05.373521",
     "status": "completed"
    },
    "tags": []
   },
   "source": [
    "### By series"
   ]
  },
  {
   "cell_type": "code",
   "execution_count": null,
   "id": "ff1e673d-c515-4774-a993-d693de418e0a",
   "metadata": {
    "papermill": {
     "duration": 1.78466,
     "end_time": "2023-12-04T15:55:07.797047",
     "exception": false,
     "start_time": "2023-12-04T15:55:06.012387",
     "status": "completed"
    },
    "tags": []
   },
   "outputs": [],
   "source": [
    "by_release_series = (\n",
    "    all_set_lists_df.explode(\"Series\").groupby([\"Series\", \"Release\"]).nunique()\n",
    ")\n",
    "by_release_series"
   ]
  },
  {
   "cell_type": "code",
   "execution_count": null,
   "id": "e2853b51-5b73-43b0-a44c-e1f025640055",
   "metadata": {
    "papermill": {
     "duration": 0.423493,
     "end_time": "2023-12-04T15:55:08.457266",
     "exception": false,
     "start_time": "2023-12-04T15:55:08.033773",
     "status": "completed"
    },
    "tags": []
   },
   "outputs": [],
   "source": [
    "set_by_release_series = (\n",
    "    by_release_series[\"Set\"].unstack(0).sort_index().fillna(0).astype(int)\n",
    ")\n",
    "set_by_release_series_y = (\n",
    "    set_by_release_series.groupby(set_by_release_series.index.strftime(\"%Y\")).sum().T\n",
    ")\n",
    "set_by_release_series_y"
   ]
  },
  {
   "cell_type": "code",
   "execution_count": null,
   "id": "302c2746-3866-4564-ac2f-ba0164e7f799",
   "metadata": {
    "papermill": {
     "duration": 3.171083,
     "end_time": "2023-12-04T15:55:11.843884",
     "exception": false,
     "start_time": "2023-12-04T15:55:08.672801",
     "status": "completed"
    },
    "tags": []
   },
   "outputs": [],
   "source": [
    "plt.figure(figsize=(20, 16))\n",
    "sns.heatmap(\n",
    "    set_by_release_series_y[set_by_release_series_y > 0],\n",
    "    annot=True,\n",
    "    fmt=\"g\",\n",
    "    cmap=\"viridis\",\n",
    "    square=True,\n",
    ")\n",
    "plt.show()"
   ]
  },
  {
   "cell_type": "code",
   "execution_count": null,
   "id": "753e6cd5-2ea0-4f59-b9aa-070151f50e09",
   "metadata": {
    "papermill": {
     "duration": 172.84955,
     "end_time": "2023-12-04T15:58:04.941434",
     "exception": false,
     "start_time": "2023-12-04T15:55:12.091884",
     "status": "completed"
    },
    "tags": []
   },
   "outputs": [],
   "source": [
    "rate_subplots(set_by_release_series, title=\"Set releases\")"
   ]
  },
  {
   "cell_type": "markdown",
   "id": "20454f30-596a-48c1-8fe8-08ed03a01bdc",
   "metadata": {
    "papermill": {
     "duration": 0.68821,
     "end_time": "2023-12-04T15:58:06.019339",
     "exception": false,
     "start_time": "2023-12-04T15:58:05.331129",
     "status": "completed"
    },
    "tags": []
   },
   "source": [
    "### By set type"
   ]
  },
  {
   "cell_type": "code",
   "execution_count": null,
   "id": "dc7b725b-3563-46e3-91b7-ffee643a2f6c",
   "metadata": {
    "papermill": {
     "duration": 2.834229,
     "end_time": "2023-12-04T15:58:09.172343",
     "exception": false,
     "start_time": "2023-12-04T15:58:06.338114",
     "status": "completed"
    },
    "tags": []
   },
   "outputs": [],
   "source": [
    "by_release_type = (\n",
    "    all_set_lists_df.explode(\"Set type\").groupby([\"Set type\", \"Release\"]).nunique()\n",
    ")\n",
    "by_release_type"
   ]
  },
  {
   "cell_type": "code",
   "execution_count": null,
   "id": "654fb9be-3bee-4878-9957-18af48c06d2b",
   "metadata": {
    "papermill": {
     "duration": 0.736147,
     "end_time": "2023-12-04T15:58:10.337102",
     "exception": false,
     "start_time": "2023-12-04T15:58:09.600955",
     "status": "completed"
    },
    "tags": []
   },
   "outputs": [],
   "source": [
    "set_by_release_type = (\n",
    "    by_release_type[\"Set\"].unstack(0).sort_index().fillna(0).astype(int)\n",
    ")\n",
    "set_by_release_type_y = (\n",
    "    set_by_release_type.groupby(set_by_release_type.index.strftime(\"%Y\")).sum().T\n",
    ")\n",
    "set_by_release_type_y"
   ]
  },
  {
   "cell_type": "code",
   "execution_count": null,
   "id": "c7f881fa-d769-4c83-a663-6f8a79cb1907",
   "metadata": {
    "papermill": {
     "duration": 2.827974,
     "end_time": "2023-12-04T15:58:13.489191",
     "exception": false,
     "start_time": "2023-12-04T15:58:10.661217",
     "status": "completed"
    },
    "tags": []
   },
   "outputs": [],
   "source": [
    "plt.figure(figsize=(20, 16))\n",
    "sns.heatmap(\n",
    "    set_by_release_type_y[set_by_release_type_y > 0],\n",
    "    annot=True,\n",
    "    fmt=\"g\",\n",
    "    cmap=\"viridis\",\n",
    "    square=True,\n",
    ")\n",
    "plt.show()"
   ]
  },
  {
   "cell_type": "code",
   "execution_count": null,
   "id": "a056c73e-9011-4b00-b993-7e72899abfc5",
   "metadata": {
    "papermill": {
     "duration": 118.813204,
     "end_time": "2023-12-04T16:00:12.630027",
     "exception": false,
     "start_time": "2023-12-04T15:58:13.816823",
     "status": "completed"
    },
    "tags": []
   },
   "outputs": [],
   "source": [
    "rate_subplots(set_by_release_type, title=\"Set releases\")"
   ]
  },
  {
   "cell_type": "markdown",
   "id": "87158376-29ce-446a-8019-870cef12a427",
   "metadata": {
    "papermill": {
     "duration": 1.276139,
     "end_time": "2023-12-04T16:00:14.998208",
     "exception": false,
     "start_time": "2023-12-04T16:00:13.722069",
     "status": "completed"
    },
    "tags": []
   },
   "source": [
    "# Debug"
   ]
  },
  {
   "cell_type": "markdown",
   "id": "bb613435-0c31-4131-990f-38b1528895ee",
   "metadata": {
    "papermill": {
     "duration": 0.390065,
     "end_time": "2023-12-04T16:00:16.508877",
     "exception": false,
     "start_time": "2023-12-04T16:00:16.118812",
     "status": "completed"
    },
    "tags": []
   },
   "source": [
    "This section is used for debugging the extraction of data from MediaWiki query responses"
   ]
  },
  {
   "cell_type": "markdown",
   "id": "7e03ada7-b5d4-45b9-a2f0-e3529ffb8232",
   "metadata": {
    "papermill": {
     "duration": 0.6575,
     "end_time": "2023-12-04T16:00:17.811011",
     "exception": false,
     "start_time": "2023-12-04T16:00:17.153511",
     "status": "completed"
    },
    "tags": []
   },
   "source": [
    "## Has nan name/number"
   ]
  },
  {
   "cell_type": "code",
   "execution_count": null,
   "id": "3e635066-7b4f-45b5-9cff-e7989b5f820c",
   "metadata": {
    "papermill": {
     "duration": 0.834815,
     "end_time": "2023-12-04T16:00:19.301251",
     "exception": false,
     "start_time": "2023-12-04T16:00:18.466436",
     "status": "completed"
    },
    "tags": []
   },
   "outputs": [],
   "source": [
    "all_set_lists_df[\n",
    "    all_set_lists_df[\"Name\"].isna() | all_set_lists_df[\"Card number\"].isna()\n",
    "]"
   ]
  },
  {
   "cell_type": "markdown",
   "id": "e8543cd1-14cc-4afe-937c-8ddad00e28ac",
   "metadata": {
    "papermill": {
     "duration": 0.366995,
     "end_time": "2023-12-04T16:00:20.280204",
     "exception": false,
     "start_time": "2023-12-04T16:00:19.913209",
     "status": "completed"
    },
    "tags": []
   },
   "source": [
    "## Has nan rarity"
   ]
  },
  {
   "cell_type": "code",
   "execution_count": null,
   "id": "902b60d0-8f15-4ad8-ad76-c937f0889c6a",
   "metadata": {
    "papermill": {
     "duration": 4.120016,
     "end_time": "2023-12-04T16:00:25.530467",
     "exception": false,
     "start_time": "2023-12-04T16:00:21.410451",
     "status": "completed"
    },
    "tags": []
   },
   "outputs": [],
   "source": [
    "all_set_lists_df.explode(\"Rarity\")[all_set_lists_df.explode(\"Rarity\")[\"Rarity\"].isna()][\n",
    "    \"Set\"\n",
    "].unique()"
   ]
  },
  {
   "cell_type": "markdown",
   "id": "330f97d2-0a01-4cf5-a2a5-2df2c08ffbc6",
   "metadata": {
    "papermill": {
     "duration": 0.654935,
     "end_time": "2023-12-04T16:00:26.649920",
     "exception": false,
     "start_time": "2023-12-04T16:00:25.994985",
     "status": "completed"
    },
    "tags": []
   },
   "source": [
    "## Has nan release"
   ]
  },
  {
   "cell_type": "code",
   "execution_count": null,
   "id": "dd4a54bc-ff61-4044-a480-272a75584e91",
   "metadata": {
    "papermill": {
     "duration": 0.716371,
     "end_time": "2023-12-04T16:00:28.009105",
     "exception": false,
     "start_time": "2023-12-04T16:00:27.292734",
     "status": "completed"
    },
    "tags": []
   },
   "outputs": [],
   "source": [
    "all_set_lists_df[all_set_lists_df[\"Release\"].isna()][\"Set\"].unique()"
   ]
  },
  {
   "cell_type": "markdown",
   "id": "a5448b9b-6ecd-443f-9365-f3a686d4ca82",
   "metadata": {
    "papermill": {
     "duration": 2.252214,
     "end_time": "2023-12-04T16:00:30.967559",
     "exception": false,
     "start_time": "2023-12-04T16:00:28.715345",
     "status": "completed"
    },
    "tags": []
   },
   "source": [
    " # Epilogue"
   ]
  },
  {
   "cell_type": "code",
   "execution_count": null,
   "id": "4601223c-4c4f-4b93-a2bb-c95c1b380c13",
   "metadata": {
    "papermill": {
     "duration": 4.829153,
     "end_time": "2023-12-04T16:00:36.195732",
     "exception": false,
     "start_time": "2023-12-04T16:00:31.366579",
     "status": "completed"
    },
    "tags": []
   },
   "outputs": [],
   "source": [
    "benchmark(report=\"sets\", timestamp=timestamp)"
   ]
  },
  {
   "cell_type": "code",
   "execution_count": null,
   "id": "fcb1adf8-8e28-49e6-8162-45f102c511ee",
   "metadata": {
    "papermill": {
     "duration": 0.778363,
     "end_time": "2023-12-04T16:00:38.051347",
     "exception": false,
     "start_time": "2023-12-04T16:00:37.272984",
     "status": "completed"
    },
    "tags": []
   },
   "outputs": [],
   "source": [
    "footer()"
   ]
  },
  {
   "cell_type": "markdown",
   "id": "924c84f0-96b0-4575-82f0-e4d8af6e68e4",
   "metadata": {
    "papermill": {
     "duration": 0.354311,
     "end_time": "2023-12-04T16:00:38.925660",
     "exception": false,
     "start_time": "2023-12-04T16:00:38.571349",
     "status": "completed"
    },
    "tags": []
   },
   "source": [
    "## HTML export"
   ]
  },
  {
   "cell_type": "code",
   "execution_count": null,
   "id": "ad2aef41-90e8-4d7a-abdf-b3cab76f8945",
   "metadata": {
    "papermill": {
     "duration": 1.196617,
     "end_time": "2023-12-04T16:00:41.225380",
     "exception": false,
     "start_time": "2023-12-04T16:00:40.028763",
     "status": "completed"
    },
    "tags": []
   },
   "outputs": [],
   "source": [
    "# May need to sleep for a few seconds after saving\n",
    "save_notebook()"
   ]
  },
  {
   "cell_type": "code",
   "execution_count": null,
   "id": "b6a35c5d-b424-4820-8d26-8be29b50c546",
   "metadata": {
    "papermill": {
     "duration": 34.457019,
     "end_time": "2023-12-04T16:01:16.231301",
     "exception": false,
     "start_time": "2023-12-04T16:00:41.774282",
     "status": "completed"
    },
    "tags": []
   },
   "outputs": [],
   "source": [
    "! jupyter nbconvert Sets.ipynb --output-dir='../' --to=HTML --TagRemovePreprocessor.enabled=True --TagRemovePreprocessor.remove_cell_tags='exclude' --TemplateExporter.exclude_input=True --TemplateExporter.exclude_input_prompt=True --TemplateExporter.exclude_output_prompt=True"
   ]
  },
  {
   "cell_type": "markdown",
   "id": "a2b08f73-ccfd-4535-95cb-830d0ccdb9de",
   "metadata": {
    "papermill": {
     "duration": 0.449292,
     "end_time": "2023-12-04T16:01:17.098787",
     "exception": false,
     "start_time": "2023-12-04T16:01:16.649495",
     "status": "completed"
    },
    "tags": [
     "exclude"
    ]
   },
   "source": [
    "## Git"
   ]
  },
  {
   "cell_type": "code",
   "execution_count": null,
   "id": "e5653028-b9f3-4051-a61f-02a886406b22",
   "metadata": {
    "papermill": {
     "duration": 5.061136,
     "end_time": "2023-12-04T16:01:22.622080",
     "exception": false,
     "start_time": "2023-12-04T16:01:17.560944",
     "status": "completed"
    },
    "tags": []
   },
   "outputs": [],
   "source": [
    "commit(\"*[Ss]ets[._]*\", f\"Sets update - {timestamp.isoformat()}\")"
   ]
  }
 ],
 "metadata": {
  "kernelspec": {
   "display_name": "Python 3 (ipykernel)",
   "language": "python",
   "name": "python3"
  },
  "language_info": {
   "codemirror_mode": {
    "name": "ipython",
    "version": 3
   },
   "file_extension": ".py",
   "mimetype": "text/x-python",
   "name": "python",
   "nbconvert_exporter": "python",
   "pygments_lexer": "ipython3",
   "version": "3.11.6"
  },
  "papermill": {
   "default_parameters": {},
   "duration": 747.75551,
   "end_time": "2023-12-04T16:01:25.783048",
   "environment_variables": {},
   "exception": null,
   "input_path": "Sets.ipynb",
   "output_path": "Sets.ipynb",
   "parameters": {},
   "start_time": "2023-12-04T15:48:58.027538",
   "version": "2.4.0"
  },
  "toc": {
   "base_numbering": 1,
   "nav_menu": {},
   "number_sections": true,
   "sideBar": true,
   "skip_h1_title": false,
   "title_cell": "Table of Contents",
   "title_sidebar": "Contents",
   "toc_cell": true,
   "toc_position": {
    "height": "calc(100% - 180px)",
    "left": "10px",
    "top": "150px",
    "width": "288px"
   },
   "toc_section_display": true,
   "toc_window_display": true
  },
  "toc-autonumbering": false,
  "toc-showcode": false,
  "toc-showmarkdowntxt": false,
  "toc-showtags": false
 },
 "nbformat": 4,
 "nbformat_minor": 5
}
