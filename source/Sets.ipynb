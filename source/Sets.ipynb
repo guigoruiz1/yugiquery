{
 "cells": [
  {
   "cell_type": "code",
   "execution_count": null,
   "id": "0e08a9ff",
   "metadata": {
    "papermill": {
     "duration": 2.285434,
     "end_time": "2024-01-08T15:40:42.673170",
     "exception": false,
     "start_time": "2024-01-08T15:40:40.387736",
     "status": "completed"
    },
    "tags": []
   },
   "outputs": [],
   "source": [
    "from yugiquery import *\n",
    "\n",
    "init_notebook_mode(all_interactive=True)\n",
    "\n",
    "header(\"Sets\")"
   ]
  },
  {
   "cell_type": "markdown",
   "id": "26f4e8e5-1d0b-408d-994f-9022eca9cd4a",
   "metadata": {
    "papermill": {
     "duration": 0.088007,
     "end_time": "2024-01-08T15:40:42.801588",
     "exception": false,
     "start_time": "2024-01-08T15:40:42.713581",
     "status": "completed"
    },
    "tags": []
   },
   "source": [
    "---"
   ]
  },
  {
   "cell_type": "markdown",
   "id": "e921ed99",
   "metadata": {
    "papermill": {
     "duration": 0.034294,
     "end_time": "2024-01-08T15:40:42.902782",
     "exception": false,
     "start_time": "2024-01-08T15:40:42.868488",
     "status": "completed"
    },
    "tags": [],
    "toc": true
   },
   "source": [
    "Table of Contents <a class=\"jp-toc-ignore\"></a>\n",
    "=================\n",
    "\n",
    "*   [1  Data aquisition](#Data-aquisition)\n",
    "    *   [1.1  Fetch set lists](#Fetch-set-lists)\n",
    "    *   [1.2  Fetch set properties](#Fetch-set-properties)\n",
    "    *   [1.3  Merge data](#Merge-data)\n",
    "    *   [1.4  Save data](#Save-data)\n",
    "*   [3  Check changes](#Check-changes)\n",
    "    *   [3.1  Load previous data](#Load-previous-data)\n",
    "    *   [3.2  Generate changelog](#Generate-changelog)\n",
    "*   [4  Data visualization](#Data-visualization)\n",
    "    *   [4.1  Full data](#Full-data)\n",
    "    *   [4.2  Set](#Set)\n",
    "    *   [4.3  Card number](#Card-number)\n",
    "    *   [4.4  Name](#Name)\n",
    "    *   [4.5  Rarity](#Rarity)\n",
    "        *   [4.5.1  By unique](#By-unique)\n",
    "        *   [4.5.2  By combination](#By-combination)\n",
    "    *   [4.6  Print](#Print)\n",
    "    *   [4.7  Quantity](#Quantity)\n",
    "    *   [4.8  Region](#Region)\n",
    "    *   [4.9  Cover card](#Cover-card)\n",
    "    *   [4.10  Series](#Series)\n",
    "    *   [4.11  Set type](#Set-type)\n",
    "    *   [4.12  Release](#Release)\n",
    "        *   [4.12.1  By year](#By-year)\n",
    "        *   [4.12.2  By month](#By-month)\n",
    "        *   [4.12.3  By day](#By-day)\n",
    "        *   [4.12.4  By region](#By-region)\n",
    "        *   [4.12.5  By series](#By-series)\n",
    "        *   [4.12.6  By set type](#By-set-type)\n",
    "*   [5  Debug](#Debug)\n",
    "    *   [5.1  Has nan name/number](#Has-nan-name/number)\n",
    "    *   [5.2  Has nan rarity](#Has-nan-rarity)\n",
    "    *   [5.3  Has quantity as print](#Has-quantity-as-print)\n",
    "    *   [5.4  Has nan release](#Has-nan-release)\n",
    "    *   [5.5  Has print as rarity](#Has-print-as-rarity)\n",
    "    *   [5.6  Merge failed](#Merge-failed)\n",
    "*   [6  Epilogue](#Epilogue)\n",
    "    *   [6.1  HTML export](#HTML-export)\n",
    "<!-- *   [6.2  Git](#Git) -->"
   ]
  },
  {
   "cell_type": "markdown",
   "id": "3bd10f43-bd00-4bbf-943f-060106ee5bd7",
   "metadata": {
    "papermill": {
     "duration": 0.034414,
     "end_time": "2024-01-08T15:40:42.972353",
     "exception": false,
     "start_time": "2024-01-08T15:40:42.937939",
     "status": "completed"
    },
    "tags": []
   },
   "source": [
    "# Data aquisition"
   ]
  },
  {
   "cell_type": "markdown",
   "id": "c8867ddf-d23c-4257-b143-527fda774898",
   "metadata": {
    "papermill": {
     "duration": 0.035695,
     "end_time": "2024-01-08T15:40:43.046059",
     "exception": false,
     "start_time": "2024-01-08T15:40:43.010364",
     "status": "completed"
    },
    "tags": []
   },
   "source": [
    "## Fetch set lists"
   ]
  },
  {
   "cell_type": "code",
   "execution_count": null,
   "id": "31a6fca2",
   "metadata": {
    "code_folding": [],
    "papermill": {
     "duration": 114.90919,
     "end_time": "2024-01-08T15:42:37.993640",
     "exception": false,
     "start_time": "2024-01-08T15:40:43.084450",
     "status": "completed"
    },
    "tags": []
   },
   "outputs": [],
   "source": [
    "# Timestamp\n",
    "timestamp = arrow.utcnow()\n",
    "\n",
    "all_set_lists_df = fetch_all_set_lists()"
   ]
  },
  {
   "cell_type": "markdown",
   "id": "a08bddea-ae28-41f6-b261-1f4c9590dd17",
   "metadata": {
    "papermill": {
     "duration": 0.061695,
     "end_time": "2024-01-08T15:42:38.162329",
     "exception": false,
     "start_time": "2024-01-08T15:42:38.100634",
     "status": "completed"
    },
    "tags": []
   },
   "source": [
    "## Fetch set properties"
   ]
  },
  {
   "cell_type": "code",
   "execution_count": null,
   "id": "973ad01a-4a08-4c06-a8e4-526c4a753acf",
   "metadata": {
    "papermill": {
     "duration": 60.265035,
     "end_time": "2024-01-08T15:43:38.481161",
     "exception": false,
     "start_time": "2024-01-08T15:42:38.216126",
     "status": "completed"
    },
    "tags": []
   },
   "outputs": [],
   "source": [
    "# List of sets to ask\n",
    "sets = all_set_lists_df[\"Set\"].unique()\n",
    "set_info_df = fetch_set_info(sets)"
   ]
  },
  {
   "cell_type": "markdown",
   "id": "d22af094-2e54-4bf9-ae90-f68f298c0e81",
   "metadata": {
    "papermill": {
     "duration": 0.035214,
     "end_time": "2024-01-08T15:43:38.556803",
     "exception": false,
     "start_time": "2024-01-08T15:43:38.521589",
     "status": "completed"
    },
    "tags": []
   },
   "source": [
    "## Merge data"
   ]
  },
  {
   "cell_type": "code",
   "execution_count": null,
   "id": "2d0917a0-c765-4e1c-acfb-5a3e7a917056",
   "metadata": {
    "papermill": {
     "duration": 37.880817,
     "end_time": "2024-01-08T15:44:16.473725",
     "exception": false,
     "start_time": "2024-01-08T15:43:38.592908",
     "status": "completed"
    },
    "tags": []
   },
   "outputs": [],
   "source": [
    "# Add properties to set lists\n",
    "all_set_lists_df = merge_set_info(all_set_lists_df, set_info_df)"
   ]
  },
  {
   "cell_type": "markdown",
   "id": "39765c14-4a38-448e-a606-b8c505a42e82",
   "metadata": {
    "papermill": {
     "duration": 0.035054,
     "end_time": "2024-01-08T15:44:16.548941",
     "exception": false,
     "start_time": "2024-01-08T15:44:16.513887",
     "status": "completed"
    },
    "tags": []
   },
   "source": [
    "# Check changes"
   ]
  },
  {
   "cell_type": "markdown",
   "id": "bf52d5e1-e6f1-4a37-a815-6cee1e406d44",
   "metadata": {
    "papermill": {
     "duration": 0.034578,
     "end_time": "2024-01-08T15:44:16.620060",
     "exception": false,
     "start_time": "2024-01-08T15:44:16.585482",
     "status": "completed"
    },
    "tags": []
   },
   "source": [
    "## Load previous data"
   ]
  },
  {
   "cell_type": "code",
   "execution_count": null,
   "id": "3c4037a3-e6f3-42f9-a74e-edfc66e7840d",
   "metadata": {
    "papermill": {
     "duration": 8.883423,
     "end_time": "2024-01-08T15:44:25.541875",
     "exception": false,
     "start_time": "2024-01-08T15:44:16.658452",
     "status": "completed"
    },
    "tags": []
   },
   "outputs": [],
   "source": [
    "# Get latest file if exist\n",
    "tuple_cols = [\"Rarity\", \"Cover card\"]\n",
    "previous_df, previous_ts = load_corrected_latest(\"sets\", tuple_cols)\n",
    "\n",
    "if previous_df is not None:\n",
    "    previous_df = previous_df.astype(\n",
    "        all_set_lists_df[\n",
    "            previous_df.columns.intersection(all_set_lists_df.columns)\n",
    "        ].dtypes.to_dict()\n",
    "    )"
   ]
  },
  {
   "cell_type": "markdown",
   "id": "78f52677-69c8-4996-acd4-8856a1237bd2",
   "metadata": {
    "papermill": {
     "duration": 0.036542,
     "end_time": "2024-01-08T15:44:25.613749",
     "exception": false,
     "start_time": "2024-01-08T15:44:25.577207",
     "status": "completed"
    },
    "tags": []
   },
   "source": [
    "## Generate changelog"
   ]
  },
  {
   "cell_type": "code",
   "execution_count": null,
   "id": "ca3c037d-4e90-46d6-abdc-5b262c0e2926",
   "metadata": {
    "papermill": {
     "duration": 3.286551,
     "end_time": "2024-01-08T15:44:28.941178",
     "exception": false,
     "start_time": "2024-01-08T15:44:25.654627",
     "status": "completed"
    },
    "tags": []
   },
   "outputs": [],
   "source": [
    "if previous_df is None:\n",
    "    changelog = None\n",
    "    print(\"Skipped\")\n",
    "else:\n",
    "    changelog = generate_changelog(previous_df, all_set_lists_df, col=\"Card number\")\n",
    "    if not changelog.empty:\n",
    "        display(changelog)\n",
    "        changelog.to_csv(\n",
    "            f'../data/{make_filename(report = \"sets\", timestamp = timestamp, previous_timestamp = previous_ts)}',\n",
    "            index=True,\n",
    "        )\n",
    "        print(\"Changelog saved\")"
   ]
  },
  {
   "cell_type": "markdown",
   "id": "7c12db27-650d-401d-be56-d981118585f8",
   "metadata": {
    "papermill": {
     "duration": 0.052438,
     "end_time": "2024-01-08T15:44:29.043548",
     "exception": false,
     "start_time": "2024-01-08T15:44:28.991110",
     "status": "completed"
    },
    "tags": []
   },
   "source": [
    "## Save data"
   ]
  },
  {
   "cell_type": "code",
   "execution_count": null,
   "id": "ab4ec21c-80ab-4282-ba86-f8653a49dfce",
   "metadata": {
    "papermill": {
     "duration": 14.263183,
     "end_time": "2024-01-08T15:44:43.349807",
     "exception": false,
     "start_time": "2024-01-08T15:44:29.086624",
     "status": "completed"
    },
    "tags": []
   },
   "outputs": [],
   "source": [
    "if changelog is not None and changelog.empty:\n",
    "    print(\"No changes. New data not saved\")\n",
    "else:\n",
    "    all_set_lists_df.to_csv(\n",
    "        f'../data/{make_filename(report = \"sets\", timestamp = timestamp)}', index=False\n",
    "    )\n",
    "    print(\"Data saved\")"
   ]
  },
  {
   "cell_type": "markdown",
   "id": "55e33fb0-39e9-421b-9cd3-5b2bf791f862",
   "metadata": {
    "papermill": {
     "duration": 0.129467,
     "end_time": "2024-01-08T15:44:43.526170",
     "exception": false,
     "start_time": "2024-01-08T15:44:43.396703",
     "status": "completed"
    },
    "tags": []
   },
   "source": [
    "# Data visualization"
   ]
  },
  {
   "cell_type": "markdown",
   "id": "b98cf64a-2d10-4bf2-b183-91551cb36db3",
   "metadata": {
    "jp-MarkdownHeadingCollapsed": true,
    "papermill": {
     "duration": 0.040471,
     "end_time": "2024-01-08T15:44:43.610174",
     "exception": false,
     "start_time": "2024-01-08T15:44:43.569703",
     "status": "completed"
    },
    "tags": []
   },
   "source": [
    "## Full data"
   ]
  },
  {
   "cell_type": "code",
   "execution_count": null,
   "id": "6608021f-9057-4352-b182-0be3b87aad48",
   "metadata": {
    "papermill": {
     "duration": 0.225728,
     "end_time": "2024-01-08T15:44:43.880244",
     "exception": false,
     "start_time": "2024-01-08T15:44:43.654516",
     "status": "completed"
    },
    "tags": []
   },
   "outputs": [],
   "source": [
    "all_set_lists_df"
   ]
  },
  {
   "cell_type": "markdown",
   "id": "25b98b85-275c-4471-951d-d2e7710433e5",
   "metadata": {
    "papermill": {
     "duration": 0.050304,
     "end_time": "2024-01-08T15:44:43.978437",
     "exception": false,
     "start_time": "2024-01-08T15:44:43.928133",
     "status": "completed"
    },
    "tags": []
   },
   "source": [
    "Full data available [here](../data)"
   ]
  },
  {
   "cell_type": "markdown",
   "id": "f4a2b98c-b48b-42e1-a798-64e42b6619a4",
   "metadata": {
    "jp-MarkdownHeadingCollapsed": true,
    "papermill": {
     "duration": 0.044017,
     "end_time": "2024-01-08T15:44:44.071659",
     "exception": false,
     "start_time": "2024-01-08T15:44:44.027642",
     "status": "completed"
    },
    "tags": []
   },
   "source": [
    "## Set"
   ]
  },
  {
   "cell_type": "code",
   "execution_count": null,
   "id": "a77a8dcc-ff14-4ddf-9b61-64c12e90378c",
   "metadata": {
    "papermill": {
     "duration": 0.085755,
     "end_time": "2024-01-08T15:44:44.206905",
     "exception": false,
     "start_time": "2024-01-08T15:44:44.121150",
     "status": "completed"
    },
    "tags": []
   },
   "outputs": [],
   "source": [
    "print(\"Total number of sets:\", all_set_lists_df[\"Set\"].nunique())"
   ]
  },
  {
   "cell_type": "code",
   "execution_count": null,
   "id": "e928e7d9-8eb3-442e-9c34-f35260faf008",
   "metadata": {
    "papermill": {
     "duration": 0.964688,
     "end_time": "2024-01-08T15:44:45.217457",
     "exception": false,
     "start_time": "2024-01-08T15:44:44.252769",
     "status": "completed"
    },
    "tags": []
   },
   "outputs": [],
   "source": [
    "all_set_lists_df.groupby(\"Set\", dropna=False).nunique()"
   ]
  },
  {
   "cell_type": "code",
   "execution_count": null,
   "id": "ac2f53eb-6c6c-494c-90c9-5cc3eaf2ba31",
   "metadata": {
    "papermill": {
     "duration": 1.05278,
     "end_time": "2024-01-08T15:44:46.327010",
     "exception": false,
     "start_time": "2024-01-08T15:44:45.274230",
     "status": "completed"
    },
    "tags": []
   },
   "outputs": [],
   "source": [
    "all_set_lists_df.groupby(\"Set\", dropna=False).nunique().describe()"
   ]
  },
  {
   "cell_type": "markdown",
   "id": "95df875c-fc95-4b4e-8a70-042bb3087a1f",
   "metadata": {
    "jp-MarkdownHeadingCollapsed": true,
    "papermill": {
     "duration": 0.067655,
     "end_time": "2024-01-08T15:44:46.470418",
     "exception": false,
     "start_time": "2024-01-08T15:44:46.402763",
     "status": "completed"
    },
    "tags": []
   },
   "source": [
    "## Card number"
   ]
  },
  {
   "cell_type": "code",
   "execution_count": null,
   "id": "7a943862-a244-405a-b76d-b42e40f0331c",
   "metadata": {
    "papermill": {
     "duration": 0.216878,
     "end_time": "2024-01-08T15:44:46.762726",
     "exception": false,
     "start_time": "2024-01-08T15:44:46.545848",
     "status": "completed"
    },
    "tags": []
   },
   "outputs": [],
   "source": [
    "print(\"Total number of card numbers:\", all_set_lists_df[\"Card number\"].nunique())"
   ]
  },
  {
   "cell_type": "code",
   "execution_count": null,
   "id": "85b9f8df",
   "metadata": {
    "papermill": {
     "duration": 1.662643,
     "end_time": "2024-01-08T15:44:48.474747",
     "exception": false,
     "start_time": "2024-01-08T15:44:46.812104",
     "status": "completed"
    },
    "tags": []
   },
   "outputs": [],
   "source": [
    "all_set_lists_df.groupby(\"Card number\", dropna=False).nunique()"
   ]
  },
  {
   "cell_type": "markdown",
   "id": "8a0cac8b-baa6-4b83-abee-889fd8a3c96e",
   "metadata": {
    "jp-MarkdownHeadingCollapsed": true,
    "papermill": {
     "duration": 0.047322,
     "end_time": "2024-01-08T15:44:48.576048",
     "exception": false,
     "start_time": "2024-01-08T15:44:48.528726",
     "status": "completed"
    },
    "tags": []
   },
   "source": [
    "## Name"
   ]
  },
  {
   "cell_type": "code",
   "execution_count": null,
   "id": "70892c55-8542-4458-81c0-05143897ab68",
   "metadata": {
    "papermill": {
     "duration": 0.106159,
     "end_time": "2024-01-08T15:44:48.731642",
     "exception": false,
     "start_time": "2024-01-08T15:44:48.625483",
     "status": "completed"
    },
    "tags": []
   },
   "outputs": [],
   "source": [
    "print(\"Total number of card names:\", all_set_lists_df[\"Name\"].nunique())"
   ]
  },
  {
   "cell_type": "code",
   "execution_count": null,
   "id": "05e4eee4",
   "metadata": {
    "papermill": {
     "duration": 1.023114,
     "end_time": "2024-01-08T15:44:49.802738",
     "exception": false,
     "start_time": "2024-01-08T15:44:48.779624",
     "status": "completed"
    },
    "tags": []
   },
   "outputs": [],
   "source": [
    "all_set_lists_df.groupby(\"Name\", dropna=False).nunique()"
   ]
  },
  {
   "cell_type": "code",
   "execution_count": null,
   "id": "829294db-e127-4bc2-bde4-333f4d45af5d",
   "metadata": {
    "papermill": {
     "duration": 1.146117,
     "end_time": "2024-01-08T15:44:51.006111",
     "exception": false,
     "start_time": "2024-01-08T15:44:49.859994",
     "status": "completed"
    },
    "tags": []
   },
   "outputs": [],
   "source": [
    "all_set_lists_df.groupby(\"Name\", dropna=True).nunique().describe()"
   ]
  },
  {
   "cell_type": "markdown",
   "id": "dd7bf2b1-d469-4a3d-ad55-47dc7b9f202d",
   "metadata": {
    "papermill": {
     "duration": 0.054347,
     "end_time": "2024-01-08T15:44:51.116887",
     "exception": false,
     "start_time": "2024-01-08T15:44:51.062540",
     "status": "completed"
    },
    "tags": []
   },
   "source": [
    "## Rarity"
   ]
  },
  {
   "cell_type": "code",
   "execution_count": null,
   "id": "2b796fce-dcd1-4076-be70-25508a4adc14",
   "metadata": {
    "papermill": {
     "duration": 0.795311,
     "end_time": "2024-01-08T15:44:52.012635",
     "exception": false,
     "start_time": "2024-01-08T15:44:51.217324",
     "status": "completed"
    },
    "tags": []
   },
   "outputs": [],
   "source": [
    "print(\"Total number of rarities:\", all_set_lists_df[\"Rarity\"].explode().nunique())"
   ]
  },
  {
   "cell_type": "markdown",
   "id": "3897a616-0d08-40b9-b1bc-8f3ba248b5c2",
   "metadata": {
    "papermill": {
     "duration": 0.079275,
     "end_time": "2024-01-08T15:44:52.152187",
     "exception": false,
     "start_time": "2024-01-08T15:44:52.072912",
     "status": "completed"
    },
    "tags": []
   },
   "source": [
    "### By unique"
   ]
  },
  {
   "cell_type": "code",
   "execution_count": null,
   "id": "acc7d9ed-6877-4232-bdbd-ef1a7f4a829d",
   "metadata": {
    "papermill": {
     "duration": 2.348781,
     "end_time": "2024-01-08T15:44:54.555075",
     "exception": false,
     "start_time": "2024-01-08T15:44:52.206294",
     "status": "completed"
    },
    "tags": []
   },
   "outputs": [],
   "source": [
    "all_set_lists_df.explode(\"Rarity\").groupby(\"Rarity\", dropna=False).nunique()"
   ]
  },
  {
   "cell_type": "code",
   "execution_count": null,
   "id": "336a6f22-5e80-48e1-a22e-bb6fe61fcf01",
   "metadata": {
    "papermill": {
     "duration": 1.818573,
     "end_time": "2024-01-08T15:44:56.431505",
     "exception": false,
     "start_time": "2024-01-08T15:44:54.612932",
     "status": "completed"
    },
    "tags": []
   },
   "outputs": [],
   "source": [
    "all_set_lists_df[\"Rarity\"].explode().value_counts().plot.barh(\n",
    "    figsize=(10, 20), grid=True\n",
    ")\n",
    "plt.xscale(\"log\")\n",
    "plt.show()"
   ]
  },
  {
   "cell_type": "markdown",
   "id": "847e7fcb-4e95-4b81-b309-600aa04e6be7",
   "metadata": {
    "papermill": {
     "duration": 0.058653,
     "end_time": "2024-01-08T15:44:56.553939",
     "exception": false,
     "start_time": "2024-01-08T15:44:56.495286",
     "status": "completed"
    },
    "tags": []
   },
   "source": [
    "### By combination"
   ]
  },
  {
   "cell_type": "code",
   "execution_count": null,
   "id": "e4d79c33",
   "metadata": {
    "papermill": {
     "duration": 0.974164,
     "end_time": "2024-01-08T15:44:57.589616",
     "exception": false,
     "start_time": "2024-01-08T15:44:56.615452",
     "status": "completed"
    },
    "tags": []
   },
   "outputs": [],
   "source": [
    "all_set_lists_df.groupby(\"Rarity\", dropna=False).nunique()"
   ]
  },
  {
   "cell_type": "code",
   "execution_count": null,
   "id": "5124c4f0-b00a-4a19-a174-bfa3a2915242",
   "metadata": {
    "papermill": {
     "duration": 3.979122,
     "end_time": "2024-01-08T15:45:01.628451",
     "exception": false,
     "start_time": "2024-01-08T15:44:57.649329",
     "status": "completed"
    },
    "tags": []
   },
   "outputs": [],
   "source": [
    "all_set_lists_df[\"Rarity\"].value_counts().plot.barh(figsize=(10, 80), grid=True)\n",
    "plt.xscale(\"log\")\n",
    "plt.show()"
   ]
  },
  {
   "cell_type": "markdown",
   "id": "afae1f51-fd13-4a29-ae40-cd913524623c",
   "metadata": {
    "papermill": {
     "duration": 0.079772,
     "end_time": "2024-01-08T15:45:01.787966",
     "exception": false,
     "start_time": "2024-01-08T15:45:01.708194",
     "status": "completed"
    },
    "tags": []
   },
   "source": [
    "## Print"
   ]
  },
  {
   "cell_type": "code",
   "execution_count": null,
   "id": "254ba70a-9ee7-410e-9670-b10ce628b169",
   "metadata": {
    "papermill": {
     "duration": 0.154168,
     "end_time": "2024-01-08T15:45:02.017285",
     "exception": false,
     "start_time": "2024-01-08T15:45:01.863117",
     "status": "completed"
    },
    "tags": []
   },
   "outputs": [],
   "source": [
    "print(\"Total number of prints:\", all_set_lists_df[\"Print\"].nunique())"
   ]
  },
  {
   "cell_type": "code",
   "execution_count": null,
   "id": "3a576a96",
   "metadata": {
    "papermill": {
     "duration": 0.852384,
     "end_time": "2024-01-08T15:45:02.947069",
     "exception": false,
     "start_time": "2024-01-08T15:45:02.094685",
     "status": "completed"
    },
    "tags": []
   },
   "outputs": [],
   "source": [
    "all_set_lists_df.groupby(\"Print\", dropna=False).nunique()"
   ]
  },
  {
   "cell_type": "code",
   "execution_count": null,
   "id": "1c369030-f5e8-4a48-a28c-0b878b9ff8ca",
   "metadata": {
    "papermill": {
     "duration": 1.31247,
     "end_time": "2024-01-08T15:45:04.339695",
     "exception": false,
     "start_time": "2024-01-08T15:45:03.027225",
     "status": "completed"
    },
    "tags": []
   },
   "outputs": [],
   "source": [
    "all_set_lists_df[\"Print\"].value_counts().plot.bar(figsize=(18, 6), grid=True, rot=45)\n",
    "plt.yscale(\"log\")\n",
    "plt.show()"
   ]
  },
  {
   "cell_type": "markdown",
   "id": "ff17d8cc-7842-41f4-95bc-061acd575426",
   "metadata": {
    "papermill": {
     "duration": 0.144717,
     "end_time": "2024-01-08T15:45:04.565912",
     "exception": false,
     "start_time": "2024-01-08T15:45:04.421195",
     "status": "completed"
    },
    "tags": []
   },
   "source": [
    "## Quantity"
   ]
  },
  {
   "cell_type": "code",
   "execution_count": null,
   "id": "5546c0c2-3c14-401a-96a0-8b6b182bc57a",
   "metadata": {
    "papermill": {
     "duration": 0.16812,
     "end_time": "2024-01-08T15:45:04.809084",
     "exception": false,
     "start_time": "2024-01-08T15:45:04.640964",
     "status": "completed"
    },
    "tags": []
   },
   "outputs": [],
   "source": [
    "print(\"Total number of quantities:\", all_set_lists_df[\"Quantity\"].nunique())"
   ]
  },
  {
   "cell_type": "code",
   "execution_count": null,
   "id": "0445fc65",
   "metadata": {
    "papermill": {
     "duration": 0.800986,
     "end_time": "2024-01-08T15:45:05.689543",
     "exception": false,
     "start_time": "2024-01-08T15:45:04.888557",
     "status": "completed"
    },
    "tags": []
   },
   "outputs": [],
   "source": [
    "all_set_lists_df.groupby(\"Quantity\", dropna=False).nunique()"
   ]
  },
  {
   "cell_type": "markdown",
   "id": "cf8bed65-2680-4845-8258-d3eadd169f69",
   "metadata": {
    "papermill": {
     "duration": 0.092053,
     "end_time": "2024-01-08T15:45:05.860235",
     "exception": false,
     "start_time": "2024-01-08T15:45:05.768182",
     "status": "completed"
    },
    "tags": []
   },
   "source": [
    "## Region"
   ]
  },
  {
   "cell_type": "code",
   "execution_count": null,
   "id": "56ce1f02-4524-4584-885b-9d6e8121a76c",
   "metadata": {
    "papermill": {
     "duration": 0.115579,
     "end_time": "2024-01-08T15:45:06.054685",
     "exception": false,
     "start_time": "2024-01-08T15:45:05.939106",
     "status": "completed"
    },
    "tags": []
   },
   "outputs": [],
   "source": [
    "print(\"Total number of regions:\", all_set_lists_df[\"Region\"].nunique())"
   ]
  },
  {
   "cell_type": "code",
   "execution_count": null,
   "id": "af081e1d-a642-49e8-bce3-ccd035131c0b",
   "metadata": {
    "papermill": {
     "duration": 1.165757,
     "end_time": "2024-01-08T15:45:07.301924",
     "exception": false,
     "start_time": "2024-01-08T15:45:06.136167",
     "status": "completed"
    },
    "tags": []
   },
   "outputs": [],
   "source": [
    "all_set_lists_df.groupby([\"Set\", \"Region\"], dropna=False).nunique()"
   ]
  },
  {
   "cell_type": "code",
   "execution_count": null,
   "id": "8756dfb8-35fb-4c63-8c8b-097810d79e3c",
   "metadata": {
    "papermill": {
     "duration": 0.925782,
     "end_time": "2024-01-08T15:45:08.341978",
     "exception": false,
     "start_time": "2024-01-08T15:45:07.416196",
     "status": "completed"
    },
    "tags": []
   },
   "outputs": [],
   "source": [
    "all_set_lists_df.groupby(\"Region\", dropna=False).nunique().describe()"
   ]
  },
  {
   "cell_type": "code",
   "execution_count": null,
   "id": "d0a1e8d7-26a7-4046-a14c-944f8871c05b",
   "metadata": {
    "papermill": {
     "duration": 0.60189,
     "end_time": "2024-01-08T15:45:09.066710",
     "exception": false,
     "start_time": "2024-01-08T15:45:08.464820",
     "status": "completed"
    },
    "tags": []
   },
   "outputs": [],
   "source": [
    "all_set_lists_df[\"Region\"].value_counts().plot.bar(figsize=(18, 6), grid=True, rot=0)\n",
    "plt.show()"
   ]
  },
  {
   "cell_type": "markdown",
   "id": "d14af727-aa5e-4326-8675-433d715c9aa8",
   "metadata": {
    "papermill": {
     "duration": 0.156298,
     "end_time": "2024-01-08T15:45:09.306391",
     "exception": false,
     "start_time": "2024-01-08T15:45:09.150093",
     "status": "completed"
    },
    "tags": []
   },
   "source": [
    "## Cover card"
   ]
  },
  {
   "cell_type": "code",
   "execution_count": null,
   "id": "4a30e731-507d-491e-99b7-b34fcbc4f20b",
   "metadata": {
    "papermill": {
     "duration": 0.515606,
     "end_time": "2024-01-08T15:45:09.901946",
     "exception": false,
     "start_time": "2024-01-08T15:45:09.386340",
     "status": "completed"
    },
    "tags": []
   },
   "outputs": [],
   "source": [
    "print(\n",
    "    \"Total number of cover cards:\",\n",
    "    all_set_lists_df[\"Cover card\"].explode(\"Cover card\").nunique(),\n",
    ")"
   ]
  },
  {
   "cell_type": "code",
   "execution_count": null,
   "id": "6b7c3e7e-b70c-414a-a5ad-bd297771f1dd",
   "metadata": {
    "papermill": {
     "duration": 2.879875,
     "end_time": "2024-01-08T15:45:12.881263",
     "exception": false,
     "start_time": "2024-01-08T15:45:10.001388",
     "status": "completed"
    },
    "tags": []
   },
   "outputs": [],
   "source": [
    "all_set_lists_df.explode(\"Cover card\").groupby([\"Cover card\"]).nunique()"
   ]
  },
  {
   "cell_type": "code",
   "execution_count": null,
   "id": "294407de-9087-4e79-a7cb-a45366c212a1",
   "metadata": {
    "papermill": {
     "duration": 13.51483,
     "end_time": "2024-01-08T15:45:26.483932",
     "exception": false,
     "start_time": "2024-01-08T15:45:12.969102",
     "status": "completed"
    },
    "tags": []
   },
   "outputs": [],
   "source": [
    "all_set_lists_df.explode([\"Cover card\"]).groupby(\"Cover card\")[\n",
    "    \"Set\"\n",
    "].nunique().sort_values(ascending=False).plot.barh(figsize=(10, 250), grid=True)\n",
    "plt.show()"
   ]
  },
  {
   "cell_type": "markdown",
   "id": "4e958986-d855-4580-85ea-d417c6b358e9",
   "metadata": {
    "papermill": {
     "duration": 0.14075,
     "end_time": "2024-01-08T15:45:26.772729",
     "exception": false,
     "start_time": "2024-01-08T15:45:26.631979",
     "status": "completed"
    },
    "tags": []
   },
   "source": [
    "## Series"
   ]
  },
  {
   "cell_type": "code",
   "execution_count": null,
   "id": "e010b8bc-5ffd-4a6a-a2e4-307b0de3a4bb",
   "metadata": {
    "papermill": {
     "duration": 0.232175,
     "end_time": "2024-01-08T15:45:27.146268",
     "exception": false,
     "start_time": "2024-01-08T15:45:26.914093",
     "status": "completed"
    },
    "tags": []
   },
   "outputs": [],
   "source": [
    "print(\"Total number of series:\", all_set_lists_df[\"Series\"].nunique())"
   ]
  },
  {
   "cell_type": "code",
   "execution_count": null,
   "id": "a64f8d6c-d76f-4a7f-95a6-b3037fa91107",
   "metadata": {
    "papermill": {
     "duration": 0.929008,
     "end_time": "2024-01-08T15:45:28.221628",
     "exception": false,
     "start_time": "2024-01-08T15:45:27.292620",
     "status": "completed"
    },
    "tags": []
   },
   "outputs": [],
   "source": [
    "all_set_lists_df.groupby(\"Series\").nunique()"
   ]
  },
  {
   "cell_type": "code",
   "execution_count": null,
   "id": "303f345a-508f-40a8-9eb1-9935115a8e6e",
   "metadata": {
    "papermill": {
     "duration": 1.836143,
     "end_time": "2024-01-08T15:45:30.244152",
     "exception": false,
     "start_time": "2024-01-08T15:45:28.408009",
     "status": "completed"
    },
    "tags": []
   },
   "outputs": [],
   "source": [
    "all_set_lists_df.explode([\"Series\"]).groupby(\"Series\")[\"Set\"].nunique().sort_values(\n",
    "    ascending=False\n",
    ").plot.barh(figsize=(10, 15), grid=True)\n",
    "plt.show()"
   ]
  },
  {
   "cell_type": "markdown",
   "id": "b26530cf-f5e2-453f-a7ad-f516748ef16a",
   "metadata": {
    "papermill": {
     "duration": 0.193971,
     "end_time": "2024-01-08T15:45:30.591679",
     "exception": false,
     "start_time": "2024-01-08T15:45:30.397708",
     "status": "completed"
    },
    "tags": []
   },
   "source": [
    "## Set type"
   ]
  },
  {
   "cell_type": "code",
   "execution_count": null,
   "id": "dd581283-b889-4572-ab89-0a2353f01ddd",
   "metadata": {
    "papermill": {
     "duration": 0.193581,
     "end_time": "2024-01-08T15:45:30.938286",
     "exception": false,
     "start_time": "2024-01-08T15:45:30.744705",
     "status": "completed"
    },
    "tags": []
   },
   "outputs": [],
   "source": [
    "print(\"Total number of set types:\", all_set_lists_df[\"Set type\"].nunique())"
   ]
  },
  {
   "cell_type": "code",
   "execution_count": null,
   "id": "2baa0c6a-baf5-4e4a-9bf2-2102295e876c",
   "metadata": {
    "papermill": {
     "duration": 0.897958,
     "end_time": "2024-01-08T15:45:32.137703",
     "exception": false,
     "start_time": "2024-01-08T15:45:31.239745",
     "status": "completed"
    },
    "tags": []
   },
   "outputs": [],
   "source": [
    "all_set_lists_df.groupby(\"Set type\").nunique()"
   ]
  },
  {
   "cell_type": "code",
   "execution_count": null,
   "id": "b4465c2d-19c8-49a3-8c6a-eb6e16f7f711",
   "metadata": {
    "papermill": {
     "duration": 0.793791,
     "end_time": "2024-01-08T15:45:33.082252",
     "exception": false,
     "start_time": "2024-01-08T15:45:32.288461",
     "status": "completed"
    },
    "tags": []
   },
   "outputs": [],
   "source": [
    "set_info_df[\"Set type\"].value_counts().plot.barh(figsize=(10, 10), grid=True)\n",
    "plt.show()"
   ]
  },
  {
   "cell_type": "markdown",
   "id": "59ab414c-6e2a-4b71-9110-a62416d7e390",
   "metadata": {
    "papermill": {
     "duration": 0.221448,
     "end_time": "2024-01-08T15:45:33.598139",
     "exception": false,
     "start_time": "2024-01-08T15:45:33.376691",
     "status": "completed"
    },
    "tags": []
   },
   "source": [
    "## Release"
   ]
  },
  {
   "cell_type": "code",
   "execution_count": null,
   "id": "37648341-3420-4e9c-a3c4-e9e63b517c32",
   "metadata": {
    "papermill": {
     "duration": 0.346633,
     "end_time": "2024-01-08T15:45:34.164711",
     "exception": false,
     "start_time": "2024-01-08T15:45:33.818078",
     "status": "completed"
    },
    "tags": []
   },
   "outputs": [],
   "source": [
    "print(\"Total number of release dates:\", all_set_lists_df[\"Release\"].nunique())"
   ]
  },
  {
   "cell_type": "code",
   "execution_count": null,
   "id": "251efa78-66cd-492d-931a-74bf5008a31d",
   "metadata": {
    "papermill": {
     "duration": 1.014541,
     "end_time": "2024-01-08T15:45:35.410051",
     "exception": false,
     "start_time": "2024-01-08T15:45:34.395510",
     "status": "completed"
    },
    "tags": []
   },
   "outputs": [],
   "source": [
    "all_set_lists_df.groupby(\"Release\", dropna=False).nunique()"
   ]
  },
  {
   "cell_type": "code",
   "execution_count": null,
   "id": "53dfbe7b-a712-4920-8ec7-1cb9c49f8930",
   "metadata": {
    "papermill": {
     "duration": 0.210143,
     "end_time": "2024-01-08T15:45:35.776038",
     "exception": false,
     "start_time": "2024-01-08T15:45:35.565895",
     "status": "completed"
    },
    "tags": []
   },
   "outputs": [],
   "source": [
    "set_by_release = pd.DataFrame(\n",
    "    all_set_lists_df.groupby(\"Release\", dropna=False)[\"Set\"].nunique()\n",
    ")"
   ]
  },
  {
   "cell_type": "markdown",
   "id": "00b59bc1-c809-4a3c-8fe5-c1efa509ea48",
   "metadata": {
    "papermill": {
     "duration": 0.1522,
     "end_time": "2024-01-08T15:45:36.088370",
     "exception": false,
     "start_time": "2024-01-08T15:45:35.936170",
     "status": "completed"
    },
    "tags": []
   },
   "source": [
    "### By year"
   ]
  },
  {
   "cell_type": "code",
   "execution_count": null,
   "id": "19c6c510-0e40-4c7b-b1b5-19869d5c296c",
   "metadata": {
    "papermill": {
     "duration": 1.18429,
     "end_time": "2024-01-08T15:45:37.424716",
     "exception": false,
     "start_time": "2024-01-08T15:45:36.240426",
     "status": "completed"
    },
    "tags": []
   },
   "outputs": [],
   "source": [
    "all_set_lists_df.drop(\"Modification date\", axis=1).groupby(\n",
    "    \"Release\", dropna=False\n",
    ").nunique().groupby(set_by_release.index.strftime(\"%Y\")).sum()"
   ]
  },
  {
   "cell_type": "code",
   "execution_count": null,
   "id": "fc6134ac-8c90-44e5-9461-9caccec72eca",
   "metadata": {
    "papermill": {
     "duration": 2.898136,
     "end_time": "2024-01-08T15:45:40.476697",
     "exception": false,
     "start_time": "2024-01-08T15:45:37.578561",
     "status": "completed"
    },
    "tags": []
   },
   "outputs": [],
   "source": [
    "rate_plot(set_by_release)"
   ]
  },
  {
   "cell_type": "markdown",
   "id": "1a453fb1-4971-4b2d-80d1-8cb4e9fe8d91",
   "metadata": {
    "papermill": {
     "duration": 0.182135,
     "end_time": "2024-01-08T15:45:40.824781",
     "exception": false,
     "start_time": "2024-01-08T15:45:40.642646",
     "status": "completed"
    },
    "tags": []
   },
   "source": [
    "### By month"
   ]
  },
  {
   "cell_type": "code",
   "execution_count": null,
   "id": "dc6517e9-0ab6-4a0a-b0ba-ffe6fa43855a",
   "metadata": {
    "papermill": {
     "duration": 0.481136,
     "end_time": "2024-01-08T15:45:41.467394",
     "exception": false,
     "start_time": "2024-01-08T15:45:40.986258",
     "status": "completed"
    },
    "tags": []
   },
   "outputs": [],
   "source": [
    "set_by_release.groupby(set_by_release.index.strftime(\"%B\")).sum().sort_index(\n",
    "    key=lambda x: pd.to_datetime(x, format=\"%B\").month\n",
    ").plot.bar(figsize=(16, 8), grid=True, xlabel=\"Release month\", rot=0)\n",
    "plt.show()"
   ]
  },
  {
   "cell_type": "code",
   "execution_count": null,
   "id": "36e2463e-83b1-418a-a5e4-fbda3b716f97",
   "metadata": {
    "papermill": {
     "duration": 0.642564,
     "end_time": "2024-01-08T15:45:42.263600",
     "exception": false,
     "start_time": "2024-01-08T15:45:41.621036",
     "status": "completed"
    },
    "tags": []
   },
   "outputs": [],
   "source": [
    "set_by_release.groupby(set_by_release.index.strftime(\"%d\")).sum().plot.bar(\n",
    "    figsize=(16, 8), grid=True, xlabel=\"Release day of the month\", rot=0\n",
    ")\n",
    "plt.show()"
   ]
  },
  {
   "cell_type": "markdown",
   "id": "2b44c11e-6f63-48dd-9122-941068f50cc6",
   "metadata": {
    "papermill": {
     "duration": 0.15366,
     "end_time": "2024-01-08T15:45:42.578110",
     "exception": false,
     "start_time": "2024-01-08T15:45:42.424450",
     "status": "completed"
    },
    "tags": []
   },
   "source": [
    "### By day"
   ]
  },
  {
   "cell_type": "code",
   "execution_count": null,
   "id": "b33a17bb-8a47-41bf-977b-c4d89e81d814",
   "metadata": {
    "papermill": {
     "duration": 0.465079,
     "end_time": "2024-01-08T15:45:43.200447",
     "exception": false,
     "start_time": "2024-01-08T15:45:42.735368",
     "status": "completed"
    },
    "tags": []
   },
   "outputs": [],
   "source": [
    "set_by_release.groupby(set_by_release.index.dayofyear).sum().plot(\n",
    "    figsize=(16, 8), grid=True, xlabel=\"Release day of the year\"\n",
    ")\n",
    "plt.show()"
   ]
  },
  {
   "cell_type": "code",
   "execution_count": null,
   "id": "a40ee744-975c-42a8-9155-d8c0d0fbc209",
   "metadata": {
    "papermill": {
     "duration": 0.409164,
     "end_time": "2024-01-08T15:45:43.833084",
     "exception": false,
     "start_time": "2024-01-08T15:45:43.423920",
     "status": "completed"
    },
    "tags": []
   },
   "outputs": [],
   "source": [
    "set_by_release_wd = set_by_release.groupby(set_by_release.index.weekday).sum()\n",
    "set_by_release_wd.index = [\n",
    "    calendar.day_name[i] for i in set_by_release_wd.index.astype(int)\n",
    "]\n",
    "set_by_release_wd.plot.bar(\n",
    "    figsize=(16, 8), grid=True, xlabel=\"Release day of the week\", rot=0\n",
    ")\n",
    "plt.show()"
   ]
  },
  {
   "cell_type": "markdown",
   "id": "5d1e240c-c712-4b39-8ed5-3ca1fe2cca9c",
   "metadata": {
    "papermill": {
     "duration": 0.157897,
     "end_time": "2024-01-08T15:45:44.262913",
     "exception": false,
     "start_time": "2024-01-08T15:45:44.105016",
     "status": "completed"
    },
    "tags": []
   },
   "source": [
    "### By region"
   ]
  },
  {
   "cell_type": "code",
   "execution_count": null,
   "id": "8d64abbe-da2c-4242-9db6-f63bdaf1c61d",
   "metadata": {
    "papermill": {
     "duration": 0.978783,
     "end_time": "2024-01-08T15:45:45.409874",
     "exception": false,
     "start_time": "2024-01-08T15:45:44.431091",
     "status": "completed"
    },
    "tags": []
   },
   "outputs": [],
   "source": [
    "by_release_region = all_set_lists_df.groupby([\"Region\", \"Release\"]).nunique()\n",
    "by_release_region"
   ]
  },
  {
   "cell_type": "code",
   "execution_count": null,
   "id": "6365aa88-656e-4c66-9325-79f933b27662",
   "metadata": {
    "papermill": {
     "duration": 0.262629,
     "end_time": "2024-01-08T15:45:45.944983",
     "exception": false,
     "start_time": "2024-01-08T15:45:45.682354",
     "status": "completed"
    },
    "tags": []
   },
   "outputs": [],
   "source": [
    "set_by_release_region = (\n",
    "    by_release_region[\"Set\"].unstack(0).sort_index().fillna(0).astype(int)\n",
    ")\n",
    "set_by_release_region_y = (\n",
    "    set_by_release_region.groupby(set_by_release_region.index.strftime(\"%Y\")).sum().T\n",
    ")\n",
    "set_by_release_region_y"
   ]
  },
  {
   "cell_type": "code",
   "execution_count": null,
   "id": "4ea33195-87ea-48e8-af5b-2281792bdcfb",
   "metadata": {
    "papermill": {
     "duration": 1.233207,
     "end_time": "2024-01-08T15:45:47.374668",
     "exception": false,
     "start_time": "2024-01-08T15:45:46.141461",
     "status": "completed"
    },
    "tags": []
   },
   "outputs": [],
   "source": [
    "plt.figure(figsize=(20, 10))\n",
    "sns.heatmap(\n",
    "    set_by_release_region_y[set_by_release_region_y > 0],\n",
    "    annot=True,\n",
    "    fmt=\"g\",\n",
    "    cmap=\"viridis\",\n",
    "    square=True,\n",
    ")\n",
    "plt.show()"
   ]
  },
  {
   "cell_type": "code",
   "execution_count": null,
   "id": "66f07fb9-5fc7-4c55-8ba3-b75bda610e89",
   "metadata": {
    "papermill": {
     "duration": 39.388965,
     "end_time": "2024-01-08T15:46:26.973691",
     "exception": false,
     "start_time": "2024-01-08T15:45:47.584726",
     "status": "completed"
    },
    "tags": []
   },
   "outputs": [],
   "source": [
    "rate_subplots(set_by_release_region, title=\"Set releases\")"
   ]
  },
  {
   "cell_type": "markdown",
   "id": "9c7647f5-a954-40d9-8481-4f8dec29f5f1",
   "metadata": {
    "papermill": {
     "duration": 0.182894,
     "end_time": "2024-01-08T15:46:27.347325",
     "exception": false,
     "start_time": "2024-01-08T15:46:27.164431",
     "status": "completed"
    },
    "tags": []
   },
   "source": [
    "### By series"
   ]
  },
  {
   "cell_type": "code",
   "execution_count": null,
   "id": "ff1e673d-c515-4774-a993-d693de418e0a",
   "metadata": {
    "papermill": {
     "duration": 1.947289,
     "end_time": "2024-01-08T15:46:29.482693",
     "exception": false,
     "start_time": "2024-01-08T15:46:27.535404",
     "status": "completed"
    },
    "tags": []
   },
   "outputs": [],
   "source": [
    "by_release_series = (\n",
    "    all_set_lists_df.explode(\"Series\").groupby([\"Series\", \"Release\"]).nunique()\n",
    ")\n",
    "by_release_series"
   ]
  },
  {
   "cell_type": "code",
   "execution_count": null,
   "id": "e2853b51-5b73-43b0-a44c-e1f025640055",
   "metadata": {
    "papermill": {
     "duration": 0.261302,
     "end_time": "2024-01-08T15:46:30.001696",
     "exception": false,
     "start_time": "2024-01-08T15:46:29.740394",
     "status": "completed"
    },
    "tags": []
   },
   "outputs": [],
   "source": [
    "set_by_release_series = (\n",
    "    by_release_series[\"Set\"].unstack(0).sort_index().fillna(0).astype(int)\n",
    ")\n",
    "set_by_release_series_y = (\n",
    "    set_by_release_series.groupby(set_by_release_series.index.strftime(\"%Y\")).sum().T\n",
    ")\n",
    "set_by_release_series_y"
   ]
  },
  {
   "cell_type": "code",
   "execution_count": null,
   "id": "302c2746-3866-4564-ac2f-ba0164e7f799",
   "metadata": {
    "papermill": {
     "duration": 2.143164,
     "end_time": "2024-01-08T15:46:32.384355",
     "exception": false,
     "start_time": "2024-01-08T15:46:30.241191",
     "status": "completed"
    },
    "tags": []
   },
   "outputs": [],
   "source": [
    "plt.figure(figsize=(20, 20))\n",
    "sns.heatmap(\n",
    "    set_by_release_series_y[set_by_release_series_y > 0],\n",
    "    annot=True,\n",
    "    fmt=\"g\",\n",
    "    cmap=\"viridis\",\n",
    "    square=True,\n",
    ")\n",
    "plt.show()"
   ]
  },
  {
   "cell_type": "code",
   "execution_count": null,
   "id": "753e6cd5-2ea0-4f59-b9aa-070151f50e09",
   "metadata": {
    "papermill": {
     "duration": 164.012913,
     "end_time": "2024-01-08T15:49:16.664009",
     "exception": false,
     "start_time": "2024-01-08T15:46:32.651096",
     "status": "completed"
    },
    "tags": []
   },
   "outputs": [],
   "source": [
    "rate_subplots(set_by_release_series, title=\"Set releases\")"
   ]
  },
  {
   "cell_type": "markdown",
   "id": "20454f30-596a-48c1-8fe8-08ed03a01bdc",
   "metadata": {
    "papermill": {
     "duration": 0.609898,
     "end_time": "2024-01-08T15:49:17.736003",
     "exception": false,
     "start_time": "2024-01-08T15:49:17.126105",
     "status": "completed"
    },
    "tags": []
   },
   "source": [
    "### By set type"
   ]
  },
  {
   "cell_type": "code",
   "execution_count": null,
   "id": "dc7b725b-3563-46e3-91b7-ffee643a2f6c",
   "metadata": {
    "papermill": {
     "duration": 2.390173,
     "end_time": "2024-01-08T15:49:20.434721",
     "exception": false,
     "start_time": "2024-01-08T15:49:18.044548",
     "status": "completed"
    },
    "tags": []
   },
   "outputs": [],
   "source": [
    "by_release_type = (\n",
    "    all_set_lists_df.explode(\"Set type\").groupby([\"Set type\", \"Release\"]).nunique()\n",
    ")\n",
    "by_release_type"
   ]
  },
  {
   "cell_type": "code",
   "execution_count": null,
   "id": "654fb9be-3bee-4878-9957-18af48c06d2b",
   "metadata": {
    "papermill": {
     "duration": 2.6218,
     "end_time": "2024-01-08T15:49:23.390040",
     "exception": false,
     "start_time": "2024-01-08T15:49:20.768240",
     "status": "completed"
    },
    "tags": []
   },
   "outputs": [],
   "source": [
    "set_by_release_type = (\n",
    "    by_release_type[\"Set\"].unstack(0).sort_index().fillna(0).astype(int)\n",
    ")\n",
    "set_by_release_type_y = (\n",
    "    set_by_release_type.groupby(set_by_release_type.index.strftime(\"%Y\")).sum().T\n",
    ")\n",
    "set_by_release_type_y"
   ]
  },
  {
   "cell_type": "code",
   "execution_count": null,
   "id": "c7f881fa-d769-4c83-a663-6f8a79cb1907",
   "metadata": {
    "papermill": {
     "duration": 1.958891,
     "end_time": "2024-01-08T15:49:25.690754",
     "exception": false,
     "start_time": "2024-01-08T15:49:23.731863",
     "status": "completed"
    },
    "tags": []
   },
   "outputs": [],
   "source": [
    "plt.figure(figsize=(20, 16))\n",
    "sns.heatmap(\n",
    "    set_by_release_type_y[set_by_release_type_y > 0],\n",
    "    annot=True,\n",
    "    fmt=\"g\",\n",
    "    cmap=\"viridis\",\n",
    "    square=True,\n",
    ")\n",
    "plt.show()"
   ]
  },
  {
   "cell_type": "code",
   "execution_count": null,
   "id": "a056c73e-9011-4b00-b993-7e72899abfc5",
   "metadata": {
    "papermill": {
     "duration": 116.041558,
     "end_time": "2024-01-08T15:51:22.026714",
     "exception": false,
     "start_time": "2024-01-08T15:49:25.985156",
     "status": "completed"
    },
    "tags": []
   },
   "outputs": [],
   "source": [
    "rate_subplots(set_by_release_type, title=\"Set releases\")"
   ]
  },
  {
   "cell_type": "markdown",
   "id": "87158376-29ce-446a-8019-870cef12a427",
   "metadata": {
    "papermill": {
     "duration": 0.361579,
     "end_time": "2024-01-08T15:51:22.819457",
     "exception": false,
     "start_time": "2024-01-08T15:51:22.457878",
     "status": "completed"
    },
    "tags": []
   },
   "source": [
    "# Debug"
   ]
  },
  {
   "cell_type": "markdown",
   "id": "bb613435-0c31-4131-990f-38b1528895ee",
   "metadata": {
    "papermill": {
     "duration": 0.373646,
     "end_time": "2024-01-08T15:51:23.564704",
     "exception": false,
     "start_time": "2024-01-08T15:51:23.191058",
     "status": "completed"
    },
    "tags": []
   },
   "source": [
    "This section is used for debugging the extraction of data from MediaWiki query responses"
   ]
  },
  {
   "cell_type": "markdown",
   "id": "7e03ada7-b5d4-45b9-a2f0-e3529ffb8232",
   "metadata": {
    "papermill": {
     "duration": 0.91141,
     "end_time": "2024-01-08T15:51:25.107335",
     "exception": false,
     "start_time": "2024-01-08T15:51:24.195925",
     "status": "completed"
    },
    "tags": []
   },
   "source": [
    "## Has nan name/number"
   ]
  },
  {
   "cell_type": "code",
   "execution_count": null,
   "id": "3e635066-7b4f-45b5-9cff-e7989b5f820c",
   "metadata": {
    "papermill": {
     "duration": 0.651785,
     "end_time": "2024-01-08T15:51:26.117468",
     "exception": false,
     "start_time": "2024-01-08T15:51:25.465683",
     "status": "completed"
    },
    "tags": []
   },
   "outputs": [],
   "source": [
    "all_set_lists_df[\n",
    "    all_set_lists_df[\"Name\"].isna() | all_set_lists_df[\"Card number\"].isna()\n",
    "]"
   ]
  },
  {
   "cell_type": "markdown",
   "id": "e8543cd1-14cc-4afe-937c-8ddad00e28ac",
   "metadata": {
    "papermill": {
     "duration": 0.342559,
     "end_time": "2024-01-08T15:51:26.892204",
     "exception": false,
     "start_time": "2024-01-08T15:51:26.549645",
     "status": "completed"
    },
    "tags": []
   },
   "source": [
    "## Has nan rarity"
   ]
  },
  {
   "cell_type": "code",
   "execution_count": null,
   "id": "902b60d0-8f15-4ad8-ad76-c937f0889c6a",
   "metadata": {
    "papermill": {
     "duration": 3.410783,
     "end_time": "2024-01-08T15:51:30.659630",
     "exception": false,
     "start_time": "2024-01-08T15:51:27.248847",
     "status": "completed"
    },
    "tags": []
   },
   "outputs": [],
   "source": [
    "all_set_lists_df.explode(\"Rarity\")[all_set_lists_df.explode(\"Rarity\")[\"Rarity\"].isna()][\n",
    "    \"Set\"\n",
    "].unique()"
   ]
  },
  {
   "cell_type": "markdown",
   "id": "330f97d2-0a01-4cf5-a2a5-2df2c08ffbc6",
   "metadata": {
    "papermill": {
     "duration": 0.508567,
     "end_time": "2024-01-08T15:51:31.913053",
     "exception": false,
     "start_time": "2024-01-08T15:51:31.404486",
     "status": "completed"
    },
    "tags": []
   },
   "source": [
    "## Has nan release"
   ]
  },
  {
   "cell_type": "code",
   "execution_count": null,
   "id": "dd4a54bc-ff61-4044-a480-272a75584e91",
   "metadata": {
    "papermill": {
     "duration": 0.469916,
     "end_time": "2024-01-08T15:51:32.856573",
     "exception": false,
     "start_time": "2024-01-08T15:51:32.386657",
     "status": "completed"
    },
    "tags": []
   },
   "outputs": [],
   "source": [
    "all_set_lists_df[all_set_lists_df[\"Release\"].isna()][\"Set\"].unique()"
   ]
  },
  {
   "cell_type": "markdown",
   "id": "a5448b9b-6ecd-443f-9365-f3a686d4ca82",
   "metadata": {
    "papermill": {
     "duration": 0.353407,
     "end_time": "2024-01-08T15:51:33.627196",
     "exception": false,
     "start_time": "2024-01-08T15:51:33.273789",
     "status": "completed"
    },
    "tags": []
   },
   "source": [
    " # Epilogue"
   ]
  },
  {
   "cell_type": "code",
   "execution_count": null,
   "id": "4601223c-4c4f-4b93-a2bb-c95c1b380c13",
   "metadata": {
    "papermill": {
     "duration": 1.985034,
     "end_time": "2024-01-08T15:51:36.042718",
     "exception": false,
     "start_time": "2024-01-08T15:51:34.057684",
     "status": "completed"
    },
    "tags": []
   },
   "outputs": [],
   "source": [
    "benchmark(report=\"sets\", timestamp=timestamp)"
   ]
  },
  {
   "cell_type": "code",
   "execution_count": null,
   "id": "fcb1adf8-8e28-49e6-8162-45f102c511ee",
   "metadata": {
    "papermill": {
     "duration": 0.658289,
     "end_time": "2024-01-08T15:51:37.154674",
     "exception": false,
     "start_time": "2024-01-08T15:51:36.496385",
     "status": "completed"
    },
    "tags": []
   },
   "outputs": [],
   "source": [
    "footer()"
   ]
  },
  {
   "cell_type": "markdown",
   "id": "924c84f0-96b0-4575-82f0-e4d8af6e68e4",
   "metadata": {
    "papermill": {
     "duration": 0.949643,
     "end_time": "2024-01-08T15:51:38.457599",
     "exception": false,
     "start_time": "2024-01-08T15:51:37.507956",
     "status": "completed"
    },
    "tags": []
   },
   "source": [
    "## HTML export"
   ]
  },
  {
   "cell_type": "code",
   "execution_count": null,
   "id": "ad2aef41-90e8-4d7a-abdf-b3cab76f8945",
   "metadata": {
    "papermill": {
     "duration": 0.366105,
     "end_time": "2024-01-08T15:51:39.539322",
     "exception": false,
     "start_time": "2024-01-08T15:51:39.173217",
     "status": "completed"
    },
    "tags": []
   },
   "outputs": [],
   "source": [
    "# May need to sleep for a few seconds after saving\n",
    "save_notebook()"
   ]
  },
  {
   "cell_type": "code",
   "execution_count": null,
   "id": "b6a35c5d-b424-4820-8d26-8be29b50c546",
   "metadata": {
    "papermill": {
     "duration": 15.035391,
     "end_time": "2024-01-08T15:51:54.989245",
     "exception": false,
     "start_time": "2024-01-08T15:51:39.953854",
     "status": "completed"
    },
    "tags": []
   },
   "outputs": [],
   "source": [
    "! jupyter nbconvert Sets.ipynb --output-dir='../' --to=HTML --template=labdynamic --no-input"
   ]
  },
  {
   "cell_type": "markdown",
   "id": "a2b08f73-ccfd-4535-95cb-830d0ccdb9de",
   "metadata": {
    "papermill": {
     "duration": 0.422987,
     "end_time": "2024-01-08T15:51:55.827258",
     "exception": false,
     "start_time": "2024-01-08T15:51:55.404271",
     "status": "completed"
    },
    "tags": [
     "exclude"
    ]
   },
   "source": [
    "## Git"
   ]
  },
  {
   "cell_type": "code",
   "execution_count": null,
   "id": "e5653028-b9f3-4051-a61f-02a886406b22",
   "metadata": {
    "papermill": {
     "duration": null,
     "end_time": null,
     "exception": false,
     "start_time": "2024-01-08T15:51:56.226272",
     "status": "running"
    },
    "tags": []
   },
   "outputs": [],
   "source": [
    "commit(\"*[Ss]ets[._]*\", f\"Sets update - {timestamp.isoformat()}\")"
   ]
  }
 ],
 "metadata": {
  "kernelspec": {
   "display_name": "Python 3 (ipykernel)",
   "language": "python",
   "name": "python3"
  },
  "language_info": {
   "codemirror_mode": {
    "name": "ipython",
    "version": 3
   },
   "file_extension": ".py",
   "mimetype": "text/x-python",
   "name": "python",
   "nbconvert_exporter": "python",
   "pygments_lexer": "ipython3",
   "version": "3.11.6"
  },
  "papermill": {
   "default_parameters": {},
   "duration": null,
   "end_time": null,
   "environment_variables": {},
   "exception": null,
   "input_path": "Sets.ipynb",
   "output_path": "Sets.ipynb",
   "parameters": {},
   "start_time": "2024-01-08T15:40:39.176175",
   "version": "2.4.0"
  },
  "toc": {
   "base_numbering": 1,
   "nav_menu": {},
   "number_sections": true,
   "sideBar": true,
   "skip_h1_title": false,
   "title_cell": "Table of Contents",
   "title_sidebar": "Contents",
   "toc_cell": true,
   "toc_position": {
    "height": "calc(100% - 180px)",
    "left": "10px",
    "top": "150px",
    "width": "288px"
   },
   "toc_section_display": true,
   "toc_window_display": true
  },
  "toc-autonumbering": false,
  "toc-showcode": false,
  "toc-showmarkdowntxt": false,
  "toc-showtags": false
 },
 "nbformat": 4,
 "nbformat_minor": 5
}
