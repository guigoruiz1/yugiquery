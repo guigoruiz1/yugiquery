{
 "cells": [
  {
   "cell_type": "code",
   "execution_count": 1,
   "id": "0e08a9ff",
   "metadata": {
    "papermill": {
     "duration": 7.065518,
     "end_time": "2023-02-06T05:06:34.610317",
     "exception": false,
     "start_time": "2023-02-06T05:06:27.544799",
     "status": "completed"
    },
    "tags": []
   },
   "outputs": [
    {
     "data": {
      "text/markdown": [
       "<div align='center'>\n",
       "    <br>\n",
       "    <!-- Pre Style needed to fix HTML formatting -->\n",
       "    <pre style=\"line-height: var(--jp-code-line-height); font-family: var(--jp-code-font-family)\">\n",
       "    ██    ██ ██    ██  ██████  ██  ██████  ██    ██ ███████ ██████  ██    ██ \n",
       "     ██  ██  ██    ██ ██       ██ ██    ██ ██    ██ ██      ██   ██  ██  ██  \n",
       "      ████   ██    ██ ██   ███ ██ ██    ██ ██    ██ █████   ██████    ████   \n",
       "       ██    ██    ██ ██    ██ ██ ██ ▄▄ ██ ██    ██ ██      ██   ██    ██    \n",
       "       ██     ██████   ██████  ██  ██████   ██████  ███████ ██   ██    ██    \n",
       "                                      ▀▀                                     \n",
       "    </pre>\n",
       "</div>\n",
       "<div align='right'>\n",
       "    Sets - Execution started 11/02/2023 22:50 UTC <br>\n",
       "    By <b>Guilherme Ruiz</b>\n",
       "</div>"
      ],
      "text/plain": [
       "<IPython.core.display.Markdown object>"
      ]
     },
     "execution_count": 1,
     "metadata": {},
     "output_type": "execute_result"
    }
   ],
   "source": [
    "from yugiquery import *\n",
    "header('Sets')"
   ]
  },
  {
   "cell_type": "markdown",
   "id": "26f4e8e5-1d0b-408d-994f-9022eca9cd4a",
   "metadata": {
    "papermill": {
     "duration": 0.057716,
     "end_time": "2023-02-06T05:06:34.692886",
     "exception": false,
     "start_time": "2023-02-06T05:06:34.635170",
     "status": "completed"
    },
    "tags": []
   },
   "source": [
    "---"
   ]
  },
  {
   "cell_type": "markdown",
   "id": "e921ed99",
   "metadata": {
    "papermill": {
     "duration": 0.023052,
     "end_time": "2023-02-06T05:06:34.739306",
     "exception": false,
     "start_time": "2023-02-06T05:06:34.716254",
     "status": "completed"
    },
    "tags": [],
    "toc": true
   },
   "source": [
    "Table of Contents\n",
    "=================\n",
    "\n",
    "*   [1  Data aquisition](#Data-aquisition)\n",
    "    *   [1.1  Fetch set lists](#Fetch-set-lists)\n",
    "    *   [1.2  Fetch set properties](#Fetch-set-properties)\n",
    "    *   [1.3  Merge data](#Merge-data)\n",
    "    *   [1.4  Save data](#Save-data)\n",
    "*   [3  Check changes](#Check-changes)\n",
    "    *   [3.1  Load previous data](#Load-previous-data)\n",
    "    *   [3.2  Generate changelog](#Generate-changelog)\n",
    "*   [4  Data visualization](#Data-visualization)\n",
    "    *   [4.1  Full data](#Full-data)\n",
    "    *   [4.2  Set](#Set)\n",
    "    *   [4.3  Card number](#Card-number)\n",
    "    *   [4.4  Name](#Name)\n",
    "    *   [4.5  Rarity](#Rarity)\n",
    "        *   [4.5.1  By unique](#By-unique)\n",
    "        *   [4.5.2  By combination](#By-combination)\n",
    "    *   [4.6  Print](#Print)\n",
    "    *   [4.7  Quantity](#Quantity)\n",
    "    *   [4.8  Region](#Region)\n",
    "    *   [4.9  Cover card](#Cover-card)\n",
    "    *   [4.10  Series](#Series)\n",
    "    *   [4.11  Set type](#Set-type)\n",
    "    *   [4.12  Release](#Release)\n",
    "        *   [4.12.1  By year](#By-year)\n",
    "        *   [4.12.2  By month](#By-month)\n",
    "        *   [4.12.3  By day](#By-day)\n",
    "        *   [4.12.4  By region](#By-region)\n",
    "        *   [4.12.5  By series](#By-series)\n",
    "        *   [4.12.6  By set type](#By-set-type)\n",
    "*   [5  Debug](#Debug)\n",
    "    *   [5.1  Has nan name/number](#Has-nan-name/number)\n",
    "    *   [5.2  Has nan rarity](#Has-nan-rarity)\n",
    "    *   [5.3  Has quantity as print](#Has-quantity-as-print)\n",
    "    *   [5.4  Has nan release](#Has-nan-release)\n",
    "    *   [5.5  Has print as rarity](#Has-print-as-rarity)\n",
    "    *   [5.6  Merge failed](#Merge-failed)\n",
    "*   [6  Epilogue](#Epilogue)\n",
    "    *   [6.1  HTML export](#HTML-export)\n",
    "<!-- *   [6.2  Git](#Git) -->"
   ]
  },
  {
   "cell_type": "markdown",
   "id": "3bd10f43-bd00-4bbf-943f-060106ee5bd7",
   "metadata": {
    "papermill": {
     "duration": 0.023881,
     "end_time": "2023-02-06T05:06:34.789644",
     "exception": false,
     "start_time": "2023-02-06T05:06:34.765763",
     "status": "completed"
    },
    "tags": []
   },
   "source": [
    "# Data aquisition"
   ]
  },
  {
   "cell_type": "markdown",
   "id": "c8867ddf-d23c-4257-b143-527fda774898",
   "metadata": {
    "papermill": {
     "duration": 0.023805,
     "end_time": "2023-02-06T05:06:34.838009",
     "exception": false,
     "start_time": "2023-02-06T05:06:34.814204",
     "status": "completed"
    },
    "tags": []
   },
   "source": [
    "## Fetch set lists"
   ]
  },
  {
   "cell_type": "code",
   "execution_count": 2,
   "id": "31a6fca2",
   "metadata": {
    "code_folding": [],
    "papermill": {
     "duration": 99.504786,
     "end_time": "2023-02-06T05:08:14.366574",
     "exception": false,
     "start_time": "2023-02-06T05:06:34.861788",
     "status": "completed"
    },
    "tags": []
   },
   "outputs": [
    {
     "data": {
      "application/vnd.jupyter.widget-view+json": {
       "model_id": "",
       "version_major": 2,
       "version_minor": 0
      },
      "text/plain": [
       "  0%|          | 0/80 [00:00<?, ?it/s]"
      ]
     },
     "metadata": {},
     "output_type": "display_data"
    },
    {
     "name": "stdout",
     "output_type": "stream",
     "text": [
      "4121 set lists received - 76 missing\n"
     ]
    }
   ],
   "source": [
    "# Timestamp\n",
    "timestamp = pd.Timestamp.now()\n",
    "\n",
    "all_set_lists_df = fetch_all_set_lists()"
   ]
  },
  {
   "cell_type": "markdown",
   "id": "a08bddea-ae28-41f6-b261-1f4c9590dd17",
   "metadata": {
    "papermill": {
     "duration": 0.110892,
     "end_time": "2023-02-06T05:08:14.519701",
     "exception": false,
     "start_time": "2023-02-06T05:08:14.408809",
     "status": "completed"
    },
    "tags": []
   },
   "source": [
    "## Fetch set properties"
   ]
  },
  {
   "cell_type": "code",
   "execution_count": 3,
   "id": "973ad01a-4a08-4c06-a8e4-526c4a753acf",
   "metadata": {
    "papermill": {
     "duration": 85.826294,
     "end_time": "2023-02-06T05:09:40.381853",
     "exception": false,
     "start_time": "2023-02-06T05:08:14.555559",
     "status": "completed"
    },
    "tags": []
   },
   "outputs": [
    {
     "data": {
      "application/vnd.jupyter.widget-view+json": {
       "model_id": "",
       "version_major": 2,
       "version_minor": 0
      },
      "text/plain": [
       "  0%|          | 0/97 [00:00<?, ?it/s]"
      ]
     },
     "metadata": {},
     "output_type": "display_data"
    },
    {
     "name": "stdout",
     "output_type": "stream",
     "text": [
      "1445 set properties received - 0 errors\n"
     ]
    }
   ],
   "source": [
    "# List of sets to ask\n",
    "sets = all_set_lists_df['Set'].unique()\n",
    "set_info_df = fetch_set_info(sets)"
   ]
  },
  {
   "cell_type": "markdown",
   "id": "d22af094-2e54-4bf9-ae90-f68f298c0e81",
   "metadata": {
    "papermill": {
     "duration": 0.133091,
     "end_time": "2023-02-06T05:09:40.539574",
     "exception": false,
     "start_time": "2023-02-06T05:09:40.406483",
     "status": "completed"
    },
    "tags": []
   },
   "source": [
    "## Merge data"
   ]
  },
  {
   "cell_type": "code",
   "execution_count": 5,
   "id": "2d0917a0-c765-4e1c-acfb-5a3e7a917056",
   "metadata": {
    "papermill": {
     "duration": 42.290717,
     "end_time": "2023-02-06T05:10:22.855118",
     "exception": false,
     "start_time": "2023-02-06T05:09:40.564401",
     "status": "completed"
    },
    "tags": []
   },
   "outputs": [
    {
     "name": "stdout",
     "output_type": "stream",
     "text": [
      "Set properties merged\n"
     ]
    }
   ],
   "source": [
    "# Add properties to set lists\n",
    "all_set_lists_df = merge_set_info(all_set_lists_df,set_info_df)"
   ]
  },
  {
   "cell_type": "markdown",
   "id": "7c12db27-650d-401d-be56-d981118585f8",
   "metadata": {
    "papermill": {
     "duration": 0.029445,
     "end_time": "2023-02-06T05:10:22.912346",
     "exception": false,
     "start_time": "2023-02-06T05:10:22.882901",
     "status": "completed"
    },
    "tags": []
   },
   "source": [
    "## Save data"
   ]
  },
  {
   "cell_type": "code",
   "execution_count": null,
   "id": "ab4ec21c-80ab-4282-ba86-f8653a49dfce",
   "metadata": {
    "papermill": {
     "duration": 2.445852,
     "end_time": "2023-02-06T05:10:25.386855",
     "exception": false,
     "start_time": "2023-02-06T05:10:22.941003",
     "status": "completed"
    },
    "tags": []
   },
   "outputs": [],
   "source": [
    "all_set_lists_df.drop('_merge', axis=1).to_csv(f'../data/all_sets_{timestamp.isoformat(timespec=\"minutes\")}.csv', index = False)\n",
    "print('Data saved')"
   ]
  },
  {
   "cell_type": "markdown",
   "id": "39765c14-4a38-448e-a606-b8c505a42e82",
   "metadata": {
    "papermill": {
     "duration": 0.060264,
     "end_time": "2023-02-06T05:10:25.471353",
     "exception": false,
     "start_time": "2023-02-06T05:10:25.411089",
     "status": "completed"
    },
    "tags": []
   },
   "source": [
    "# Check changes"
   ]
  },
  {
   "cell_type": "markdown",
   "id": "bf52d5e1-e6f1-4a37-a815-6cee1e406d44",
   "metadata": {
    "papermill": {
     "duration": 0.026255,
     "end_time": "2023-02-06T05:10:25.523315",
     "exception": false,
     "start_time": "2023-02-06T05:10:25.497060",
     "status": "completed"
    },
    "tags": []
   },
   "source": [
    "## Load previous data"
   ]
  },
  {
   "cell_type": "code",
   "execution_count": null,
   "id": "6f7bd55f-5d6c-44e6-a2c8-ea7309d3bead",
   "metadata": {
    "papermill": {
     "duration": 5.540582,
     "end_time": "2023-02-06T05:10:31.089763",
     "exception": false,
     "start_time": "2023-02-06T05:10:25.549181",
     "status": "completed"
    },
    "tags": []
   },
   "outputs": [],
   "source": [
    "# Get list of files\n",
    "files_list = sorted(glob.glob('../data/all_sets_*.csv'), key=os.path.getctime, reverse=True)\n",
    "# Get second newest file if exist\n",
    "if len(files_list)>1:\n",
    "    # Load csv avoiding converting \"NA\" to NaN and force dtypes to match current df\n",
    "    previous_df = pd.read_csv(files_list[1], dtype=object, keep_default_na=False, na_values=[''])\n",
    "    # Correct tuples\n",
    "    previous_df['Rarity'] = previous_df['Rarity'].dropna().apply(literal_eval)\n",
    "    previous_df['Cover card'] = previous_df['Cover card'].dropna().apply(literal_eval)\n",
    "    # Force dtypes to match current df\n",
    "    previous_df = previous_df.astype(all_set_lists_df[previous_df.columns].dtypes.to_dict())\n",
    "    previous_ts = pd.to_datetime(os.path.basename(files_list[1]).split('_')[-1].rstrip('.csv'))\n",
    "    print('File loaded')\n",
    "else:\n",
    "    previous_df = None\n",
    "    print('No older files')"
   ]
  },
  {
   "cell_type": "markdown",
   "id": "78f52677-69c8-4996-acd4-8856a1237bd2",
   "metadata": {
    "papermill": {
     "duration": 0.05174,
     "end_time": "2023-02-06T05:10:31.200577",
     "exception": false,
     "start_time": "2023-02-06T05:10:31.148837",
     "status": "completed"
    },
    "tags": []
   },
   "source": [
    "## Generate changelog"
   ]
  },
  {
   "cell_type": "code",
   "execution_count": null,
   "id": "ca3c037d-4e90-46d6-abdc-5b262c0e2926",
   "metadata": {
    "papermill": {
     "duration": 2.048519,
     "end_time": "2023-02-06T05:10:33.279003",
     "exception": false,
     "start_time": "2023-02-06T05:10:31.230484",
     "status": "completed"
    },
    "tags": []
   },
   "outputs": [],
   "source": [
    "if previous_df is None:\n",
    "    print('Skipped')\n",
    "else:\n",
    "    changelog = generate_changelog(previous_df, all_set_lists_df.drop('_merge', axis=1), col = 'Card number')\n",
    "    if not changelog.empty:\n",
    "        display(changelog)\n",
    "        changelog.to_csv(f'../data/sets_changelog_{timestamp.isoformat(timespec=\"minutes\")}_{previous_ts.isoformat(timespec=\"minutes\")}.csv', index = True)\n",
    "        print('Changelog saved')"
   ]
  },
  {
   "cell_type": "markdown",
   "id": "55e33fb0-39e9-421b-9cd3-5b2bf791f862",
   "metadata": {
    "papermill": {
     "duration": 0.303838,
     "end_time": "2023-02-06T05:10:33.613606",
     "exception": false,
     "start_time": "2023-02-06T05:10:33.309768",
     "status": "completed"
    },
    "tags": []
   },
   "source": [
    "# Data visualization"
   ]
  },
  {
   "cell_type": "markdown",
   "id": "b98cf64a-2d10-4bf2-b183-91551cb36db3",
   "metadata": {
    "papermill": {
     "duration": 0.026101,
     "end_time": "2023-02-06T05:10:33.665739",
     "exception": false,
     "start_time": "2023-02-06T05:10:33.639638",
     "status": "completed"
    },
    "tags": []
   },
   "source": [
    "## Full data"
   ]
  },
  {
   "cell_type": "code",
   "execution_count": null,
   "id": "6608021f-9057-4352-b182-0be3b87aad48",
   "metadata": {
    "papermill": {
     "duration": 0.079039,
     "end_time": "2023-02-06T05:10:33.771408",
     "exception": false,
     "start_time": "2023-02-06T05:10:33.692369",
     "status": "completed"
    },
    "tags": []
   },
   "outputs": [],
   "source": [
    "all_set_lists_df"
   ]
  },
  {
   "cell_type": "markdown",
   "id": "25b98b85-275c-4471-951d-d2e7710433e5",
   "metadata": {
    "papermill": {
     "duration": 0.025758,
     "end_time": "2023-02-06T05:10:33.824510",
     "exception": false,
     "start_time": "2023-02-06T05:10:33.798752",
     "status": "completed"
    },
    "tags": []
   },
   "source": [
    "Full data available [here](../data)"
   ]
  },
  {
   "cell_type": "markdown",
   "id": "f4a2b98c-b48b-42e1-a798-64e42b6619a4",
   "metadata": {
    "papermill": {
     "duration": 0.0286,
     "end_time": "2023-02-06T05:10:33.879638",
     "exception": false,
     "start_time": "2023-02-06T05:10:33.851038",
     "status": "completed"
    },
    "tags": []
   },
   "source": [
    "## Set"
   ]
  },
  {
   "cell_type": "code",
   "execution_count": null,
   "id": "a77a8dcc-ff14-4ddf-9b61-64c12e90378c",
   "metadata": {
    "papermill": {
     "duration": 0.062776,
     "end_time": "2023-02-06T05:10:33.977416",
     "exception": false,
     "start_time": "2023-02-06T05:10:33.914640",
     "status": "completed"
    },
    "tags": []
   },
   "outputs": [],
   "source": [
    "print('Total number of sets:', all_set_lists_df['Set'].nunique())"
   ]
  },
  {
   "cell_type": "code",
   "execution_count": null,
   "id": "e928e7d9-8eb3-442e-9c34-f35260faf008",
   "metadata": {
    "papermill": {
     "duration": 0.634286,
     "end_time": "2023-02-06T05:10:34.638747",
     "exception": false,
     "start_time": "2023-02-06T05:10:34.004461",
     "status": "completed"
    },
    "tags": []
   },
   "outputs": [],
   "source": [
    "all_set_lists_df.groupby('Set', dropna=False).nunique()"
   ]
  },
  {
   "cell_type": "code",
   "execution_count": null,
   "id": "ac2f53eb-6c6c-494c-90c9-5cc3eaf2ba31",
   "metadata": {
    "papermill": {
     "duration": 0.776803,
     "end_time": "2023-02-06T05:10:35.443629",
     "exception": false,
     "start_time": "2023-02-06T05:10:34.666826",
     "status": "completed"
    },
    "tags": []
   },
   "outputs": [],
   "source": [
    "all_set_lists_df.groupby('Set', dropna=False).nunique().describe()"
   ]
  },
  {
   "cell_type": "markdown",
   "id": "95df875c-fc95-4b4e-8a70-042bb3087a1f",
   "metadata": {
    "papermill": {
     "duration": 0.07373,
     "end_time": "2023-02-06T05:10:35.545706",
     "exception": false,
     "start_time": "2023-02-06T05:10:35.471976",
     "status": "completed"
    },
    "tags": []
   },
   "source": [
    "## Card number"
   ]
  },
  {
   "cell_type": "code",
   "execution_count": null,
   "id": "7a943862-a244-405a-b76d-b42e40f0331c",
   "metadata": {
    "papermill": {
     "duration": 0.168813,
     "end_time": "2023-02-06T05:10:35.743885",
     "exception": false,
     "start_time": "2023-02-06T05:10:35.575072",
     "status": "completed"
    },
    "tags": []
   },
   "outputs": [],
   "source": [
    "print('Total number of card numbers:', all_set_lists_df['Card number'].nunique())"
   ]
  },
  {
   "cell_type": "code",
   "execution_count": null,
   "id": "85b9f8df",
   "metadata": {
    "papermill": {
     "duration": 1.263457,
     "end_time": "2023-02-06T05:10:37.035171",
     "exception": false,
     "start_time": "2023-02-06T05:10:35.771714",
     "status": "completed"
    },
    "tags": []
   },
   "outputs": [],
   "source": [
    "all_set_lists_df.groupby('Card number', dropna=False).nunique()"
   ]
  },
  {
   "cell_type": "markdown",
   "id": "8a0cac8b-baa6-4b83-abee-889fd8a3c96e",
   "metadata": {
    "papermill": {
     "duration": 0.254116,
     "end_time": "2023-02-06T05:10:37.319503",
     "exception": false,
     "start_time": "2023-02-06T05:10:37.065387",
     "status": "completed"
    },
    "tags": []
   },
   "source": [
    "## Name"
   ]
  },
  {
   "cell_type": "code",
   "execution_count": null,
   "id": "70892c55-8542-4458-81c0-05143897ab68",
   "metadata": {
    "papermill": {
     "duration": 0.077582,
     "end_time": "2023-02-06T05:10:37.430794",
     "exception": false,
     "start_time": "2023-02-06T05:10:37.353212",
     "status": "completed"
    },
    "tags": []
   },
   "outputs": [],
   "source": [
    "print('Total number of card names:', all_set_lists_df['Name'].nunique())"
   ]
  },
  {
   "cell_type": "code",
   "execution_count": null,
   "id": "05e4eee4",
   "metadata": {
    "papermill": {
     "duration": 0.761404,
     "end_time": "2023-02-06T05:10:38.222775",
     "exception": false,
     "start_time": "2023-02-06T05:10:37.461371",
     "status": "completed"
    },
    "tags": []
   },
   "outputs": [],
   "source": [
    "all_set_lists_df.groupby('Name', dropna=False).nunique()"
   ]
  },
  {
   "cell_type": "code",
   "execution_count": null,
   "id": "829294db-e127-4bc2-bde4-333f4d45af5d",
   "metadata": {
    "papermill": {
     "duration": 0.934371,
     "end_time": "2023-02-06T05:10:39.186937",
     "exception": false,
     "start_time": "2023-02-06T05:10:38.252566",
     "status": "completed"
    },
    "tags": []
   },
   "outputs": [],
   "source": [
    "all_set_lists_df.groupby('Name', dropna=True).nunique().describe()"
   ]
  },
  {
   "cell_type": "markdown",
   "id": "dd7bf2b1-d469-4a3d-ad55-47dc7b9f202d",
   "metadata": {
    "papermill": {
     "duration": 0.029125,
     "end_time": "2023-02-06T05:10:39.245249",
     "exception": false,
     "start_time": "2023-02-06T05:10:39.216124",
     "status": "completed"
    },
    "tags": []
   },
   "source": [
    "## Rarity"
   ]
  },
  {
   "cell_type": "code",
   "execution_count": null,
   "id": "2b796fce-dcd1-4076-be70-25508a4adc14",
   "metadata": {
    "papermill": {
     "duration": 0.345205,
     "end_time": "2023-02-06T05:10:39.619623",
     "exception": false,
     "start_time": "2023-02-06T05:10:39.274418",
     "status": "completed"
    },
    "tags": []
   },
   "outputs": [],
   "source": [
    "print('Total number of rarities:', all_set_lists_df['Rarity'].explode().nunique())"
   ]
  },
  {
   "cell_type": "markdown",
   "id": "3897a616-0d08-40b9-b1bc-8f3ba248b5c2",
   "metadata": {
    "papermill": {
     "duration": 0.050498,
     "end_time": "2023-02-06T05:10:39.701008",
     "exception": false,
     "start_time": "2023-02-06T05:10:39.650510",
     "status": "completed"
    },
    "tags": []
   },
   "source": [
    "### By unique"
   ]
  },
  {
   "cell_type": "code",
   "execution_count": null,
   "id": "acc7d9ed-6877-4232-bdbd-ef1a7f4a829d",
   "metadata": {
    "papermill": {
     "duration": 1.45127,
     "end_time": "2023-02-06T05:10:41.183401",
     "exception": false,
     "start_time": "2023-02-06T05:10:39.732131",
     "status": "completed"
    },
    "tags": []
   },
   "outputs": [],
   "source": [
    "all_set_lists_df.explode('Rarity').groupby('Rarity', dropna = False).nunique()"
   ]
  },
  {
   "cell_type": "code",
   "execution_count": null,
   "id": "336a6f22-5e80-48e1-a22e-bb6fe61fcf01",
   "metadata": {
    "papermill": {
     "duration": 2.437868,
     "end_time": "2023-02-06T05:10:43.653243",
     "exception": false,
     "start_time": "2023-02-06T05:10:41.215375",
     "status": "completed"
    },
    "tags": []
   },
   "outputs": [],
   "source": [
    "all_set_lists_df['Rarity'].explode().value_counts().plot.barh(figsize = (10,20), grid=True)\n",
    "plt.xscale('log')\n",
    "plt.show()"
   ]
  },
  {
   "cell_type": "markdown",
   "id": "847e7fcb-4e95-4b81-b309-600aa04e6be7",
   "metadata": {
    "papermill": {
     "duration": 0.034962,
     "end_time": "2023-02-06T05:10:43.722139",
     "exception": false,
     "start_time": "2023-02-06T05:10:43.687177",
     "status": "completed"
    },
    "tags": []
   },
   "source": [
    "### By combination"
   ]
  },
  {
   "cell_type": "code",
   "execution_count": null,
   "id": "e4d79c33",
   "metadata": {
    "papermill": {
     "duration": 0.670199,
     "end_time": "2023-02-06T05:10:44.427068",
     "exception": false,
     "start_time": "2023-02-06T05:10:43.756869",
     "status": "completed"
    },
    "tags": []
   },
   "outputs": [],
   "source": [
    "all_set_lists_df.groupby('Rarity', dropna = False).nunique()"
   ]
  },
  {
   "cell_type": "code",
   "execution_count": null,
   "id": "5124c4f0-b00a-4a19-a174-bfa3a2915242",
   "metadata": {
    "papermill": {
     "duration": 2.790623,
     "end_time": "2023-02-06T05:10:47.290258",
     "exception": false,
     "start_time": "2023-02-06T05:10:44.499635",
     "status": "completed"
    },
    "tags": []
   },
   "outputs": [],
   "source": [
    "all_set_lists_df['Rarity'].value_counts().plot.barh(figsize = (10,40), grid=True)\n",
    "plt.xscale('log')\n",
    "plt.show()"
   ]
  },
  {
   "cell_type": "markdown",
   "id": "afae1f51-fd13-4a29-ae40-cd913524623c",
   "metadata": {
    "papermill": {
     "duration": 0.083904,
     "end_time": "2023-02-06T05:10:47.420366",
     "exception": false,
     "start_time": "2023-02-06T05:10:47.336462",
     "status": "completed"
    },
    "tags": []
   },
   "source": [
    "## Print"
   ]
  },
  {
   "cell_type": "code",
   "execution_count": null,
   "id": "254ba70a-9ee7-410e-9670-b10ce628b169",
   "metadata": {
    "papermill": {
     "duration": 0.112678,
     "end_time": "2023-02-06T05:10:47.579264",
     "exception": false,
     "start_time": "2023-02-06T05:10:47.466586",
     "status": "completed"
    },
    "tags": []
   },
   "outputs": [],
   "source": [
    "print('Total number of prints:', all_set_lists_df['Print'].nunique())"
   ]
  },
  {
   "cell_type": "code",
   "execution_count": null,
   "id": "3a576a96",
   "metadata": {
    "papermill": {
     "duration": 0.599648,
     "end_time": "2023-02-06T05:10:48.225974",
     "exception": false,
     "start_time": "2023-02-06T05:10:47.626326",
     "status": "completed"
    },
    "tags": []
   },
   "outputs": [],
   "source": [
    "all_set_lists_df.groupby('Print', dropna=False).nunique()"
   ]
  },
  {
   "cell_type": "code",
   "execution_count": null,
   "id": "1c369030-f5e8-4a48-a28c-0b878b9ff8ca",
   "metadata": {
    "papermill": {
     "duration": 0.788681,
     "end_time": "2023-02-06T05:10:49.061308",
     "exception": false,
     "start_time": "2023-02-06T05:10:48.272627",
     "status": "completed"
    },
    "tags": []
   },
   "outputs": [],
   "source": [
    "all_set_lists_df['Print'].value_counts().plot.bar(figsize = (18,6), grid=True, rot = 45)\n",
    "plt.yscale('log')\n",
    "plt.show()"
   ]
  },
  {
   "cell_type": "markdown",
   "id": "ff17d8cc-7842-41f4-95bc-061acd575426",
   "metadata": {
    "papermill": {
     "duration": 0.116414,
     "end_time": "2023-02-06T05:10:49.225719",
     "exception": false,
     "start_time": "2023-02-06T05:10:49.109305",
     "status": "completed"
    },
    "tags": []
   },
   "source": [
    "## Quantity"
   ]
  },
  {
   "cell_type": "code",
   "execution_count": null,
   "id": "5546c0c2-3c14-401a-96a0-8b6b182bc57a",
   "metadata": {
    "papermill": {
     "duration": 0.126065,
     "end_time": "2023-02-06T05:10:49.400479",
     "exception": false,
     "start_time": "2023-02-06T05:10:49.274414",
     "status": "completed"
    },
    "tags": []
   },
   "outputs": [],
   "source": [
    "print('Total number of quantities:', all_set_lists_df['Quantity'].nunique())"
   ]
  },
  {
   "cell_type": "code",
   "execution_count": null,
   "id": "0445fc65",
   "metadata": {
    "papermill": {
     "duration": 0.652844,
     "end_time": "2023-02-06T05:10:50.101623",
     "exception": false,
     "start_time": "2023-02-06T05:10:49.448779",
     "status": "completed"
    },
    "tags": []
   },
   "outputs": [],
   "source": [
    "all_set_lists_df.groupby('Quantity', dropna=False).nunique()"
   ]
  },
  {
   "cell_type": "markdown",
   "id": "cf8bed65-2680-4845-8258-d3eadd169f69",
   "metadata": {
    "papermill": {
     "duration": 0.206679,
     "end_time": "2023-02-06T05:10:50.360663",
     "exception": false,
     "start_time": "2023-02-06T05:10:50.153984",
     "status": "completed"
    },
    "tags": []
   },
   "source": [
    "## Region"
   ]
  },
  {
   "cell_type": "code",
   "execution_count": 12,
   "id": "56ce1f02-4524-4584-885b-9d6e8121a76c",
   "metadata": {
    "papermill": {
     "duration": 0.07812,
     "end_time": "2023-02-06T05:10:50.595420",
     "exception": false,
     "start_time": "2023-02-06T05:10:50.517300",
     "status": "completed"
    },
    "tags": []
   },
   "outputs": [
    {
     "name": "stdout",
     "output_type": "stream",
     "text": [
      "Total number of regions: 16\n"
     ]
    }
   ],
   "source": [
    "print('Total number of regions:', all_set_lists_df['Region'].nunique())"
   ]
  },
  {
   "cell_type": "code",
   "execution_count": 13,
   "id": "af081e1d-a642-49e8-bce3-ccd035131c0b",
   "metadata": {
    "papermill": {
     "duration": 0.890892,
     "end_time": "2023-02-06T05:10:51.536234",
     "exception": false,
     "start_time": "2023-02-06T05:10:50.645342",
     "status": "completed"
    },
    "tags": []
   },
   "outputs": [
    {
     "data": {
      "text/html": [
       "<div>\n",
       "<style scoped>\n",
       "    .dataframe tbody tr th:only-of-type {\n",
       "        vertical-align: middle;\n",
       "    }\n",
       "\n",
       "    .dataframe tbody tr th {\n",
       "        vertical-align: top;\n",
       "    }\n",
       "\n",
       "    .dataframe thead th {\n",
       "        text-align: right;\n",
       "    }\n",
       "</style>\n",
       "<table border=\"1\" class=\"dataframe\">\n",
       "  <thead>\n",
       "    <tr style=\"text-align: right;\">\n",
       "      <th></th>\n",
       "      <th>Set</th>\n",
       "      <th>Card number</th>\n",
       "      <th>Name</th>\n",
       "      <th>Rarity</th>\n",
       "      <th>Print</th>\n",
       "      <th>Quantity</th>\n",
       "      <th>Release</th>\n",
       "      <th>Series</th>\n",
       "      <th>Set type</th>\n",
       "      <th>Cover card</th>\n",
       "      <th>Page URL</th>\n",
       "      <th>Modification date</th>\n",
       "      <th>_merge</th>\n",
       "    </tr>\n",
       "    <tr>\n",
       "      <th>Region</th>\n",
       "      <th></th>\n",
       "      <th></th>\n",
       "      <th></th>\n",
       "      <th></th>\n",
       "      <th></th>\n",
       "      <th></th>\n",
       "      <th></th>\n",
       "      <th></th>\n",
       "      <th></th>\n",
       "      <th></th>\n",
       "      <th></th>\n",
       "      <th></th>\n",
       "      <th></th>\n",
       "    </tr>\n",
       "  </thead>\n",
       "  <tbody>\n",
       "    <tr>\n",
       "      <th>AE</th>\n",
       "      <td>34</td>\n",
       "      <td>1527</td>\n",
       "      <td>1493</td>\n",
       "      <td>12</td>\n",
       "      <td>0</td>\n",
       "      <td>2</td>\n",
       "      <td>31</td>\n",
       "      <td>2</td>\n",
       "      <td>7</td>\n",
       "      <td>19</td>\n",
       "      <td>34</td>\n",
       "      <td>34</td>\n",
       "      <td>1</td>\n",
       "    </tr>\n",
       "    <tr>\n",
       "      <th>AU</th>\n",
       "      <td>2</td>\n",
       "      <td>100</td>\n",
       "      <td>87</td>\n",
       "      <td>3</td>\n",
       "      <td>0</td>\n",
       "      <td>0</td>\n",
       "      <td>1</td>\n",
       "      <td>0</td>\n",
       "      <td>1</td>\n",
       "      <td>2</td>\n",
       "      <td>2</td>\n",
       "      <td>2</td>\n",
       "      <td>1</td>\n",
       "    </tr>\n",
       "    <tr>\n",
       "      <th>DE</th>\n",
       "      <td>455</td>\n",
       "      <td>20372</td>\n",
       "      <td>10393</td>\n",
       "      <td>48</td>\n",
       "      <td>4</td>\n",
       "      <td>3</td>\n",
       "      <td>386</td>\n",
       "      <td>13</td>\n",
       "      <td>18</td>\n",
       "      <td>223</td>\n",
       "      <td>455</td>\n",
       "      <td>455</td>\n",
       "      <td>1</td>\n",
       "    </tr>\n",
       "    <tr>\n",
       "      <th>EN</th>\n",
       "      <td>658</td>\n",
       "      <td>20184</td>\n",
       "      <td>10480</td>\n",
       "      <td>54</td>\n",
       "      <td>14</td>\n",
       "      <td>3</td>\n",
       "      <td>541</td>\n",
       "      <td>23</td>\n",
       "      <td>23</td>\n",
       "      <td>211</td>\n",
       "      <td>658</td>\n",
       "      <td>658</td>\n",
       "      <td>1</td>\n",
       "    </tr>\n",
       "    <tr>\n",
       "      <th>EU</th>\n",
       "      <td>25</td>\n",
       "      <td>543</td>\n",
       "      <td>456</td>\n",
       "      <td>7</td>\n",
       "      <td>3</td>\n",
       "      <td>0</td>\n",
       "      <td>17</td>\n",
       "      <td>2</td>\n",
       "      <td>9</td>\n",
       "      <td>6</td>\n",
       "      <td>25</td>\n",
       "      <td>25</td>\n",
       "      <td>1</td>\n",
       "    </tr>\n",
       "    <tr>\n",
       "      <th>FC</th>\n",
       "      <td>3</td>\n",
       "      <td>102</td>\n",
       "      <td>87</td>\n",
       "      <td>3</td>\n",
       "      <td>0</td>\n",
       "      <td>0</td>\n",
       "      <td>1</td>\n",
       "      <td>0</td>\n",
       "      <td>2</td>\n",
       "      <td>2</td>\n",
       "      <td>3</td>\n",
       "      <td>3</td>\n",
       "      <td>1</td>\n",
       "    </tr>\n",
       "    <tr>\n",
       "      <th>FR</th>\n",
       "      <td>448</td>\n",
       "      <td>19776</td>\n",
       "      <td>10380</td>\n",
       "      <td>50</td>\n",
       "      <td>4</td>\n",
       "      <td>3</td>\n",
       "      <td>380</td>\n",
       "      <td>15</td>\n",
       "      <td>18</td>\n",
       "      <td>223</td>\n",
       "      <td>448</td>\n",
       "      <td>448</td>\n",
       "      <td>1</td>\n",
       "    </tr>\n",
       "    <tr>\n",
       "      <th>IT</th>\n",
       "      <td>447</td>\n",
       "      <td>20051</td>\n",
       "      <td>10388</td>\n",
       "      <td>49</td>\n",
       "      <td>4</td>\n",
       "      <td>3</td>\n",
       "      <td>383</td>\n",
       "      <td>13</td>\n",
       "      <td>18</td>\n",
       "      <td>222</td>\n",
       "      <td>447</td>\n",
       "      <td>447</td>\n",
       "      <td>1</td>\n",
       "    </tr>\n",
       "    <tr>\n",
       "      <th>JA</th>\n",
       "      <td>3</td>\n",
       "      <td>185</td>\n",
       "      <td>185</td>\n",
       "      <td>8</td>\n",
       "      <td>0</td>\n",
       "      <td>0</td>\n",
       "      <td>3</td>\n",
       "      <td>2</td>\n",
       "      <td>2</td>\n",
       "      <td>3</td>\n",
       "      <td>3</td>\n",
       "      <td>3</td>\n",
       "      <td>1</td>\n",
       "    </tr>\n",
       "    <tr>\n",
       "      <th>JP</th>\n",
       "      <td>718</td>\n",
       "      <td>19131</td>\n",
       "      <td>11238</td>\n",
       "      <td>90</td>\n",
       "      <td>7</td>\n",
       "      <td>3</td>\n",
       "      <td>540</td>\n",
       "      <td>28</td>\n",
       "      <td>28</td>\n",
       "      <td>255</td>\n",
       "      <td>716</td>\n",
       "      <td>716</td>\n",
       "      <td>2</td>\n",
       "    </tr>\n",
       "    <tr>\n",
       "      <th>KR</th>\n",
       "      <td>383</td>\n",
       "      <td>15937</td>\n",
       "      <td>10755</td>\n",
       "      <td>58</td>\n",
       "      <td>4</td>\n",
       "      <td>3</td>\n",
       "      <td>343</td>\n",
       "      <td>16</td>\n",
       "      <td>15</td>\n",
       "      <td>224</td>\n",
       "      <td>382</td>\n",
       "      <td>382</td>\n",
       "      <td>2</td>\n",
       "    </tr>\n",
       "    <tr>\n",
       "      <th>NA</th>\n",
       "      <td>47</td>\n",
       "      <td>1526</td>\n",
       "      <td>1333</td>\n",
       "      <td>9</td>\n",
       "      <td>4</td>\n",
       "      <td>2</td>\n",
       "      <td>40</td>\n",
       "      <td>5</td>\n",
       "      <td>11</td>\n",
       "      <td>12</td>\n",
       "      <td>47</td>\n",
       "      <td>47</td>\n",
       "      <td>1</td>\n",
       "    </tr>\n",
       "    <tr>\n",
       "      <th>PT</th>\n",
       "      <td>204</td>\n",
       "      <td>12461</td>\n",
       "      <td>7823</td>\n",
       "      <td>42</td>\n",
       "      <td>4</td>\n",
       "      <td>3</td>\n",
       "      <td>166</td>\n",
       "      <td>8</td>\n",
       "      <td>10</td>\n",
       "      <td>121</td>\n",
       "      <td>204</td>\n",
       "      <td>204</td>\n",
       "      <td>1</td>\n",
       "    </tr>\n",
       "    <tr>\n",
       "      <th>SC</th>\n",
       "      <td>23</td>\n",
       "      <td>1237</td>\n",
       "      <td>1082</td>\n",
       "      <td>12</td>\n",
       "      <td>2</td>\n",
       "      <td>0</td>\n",
       "      <td>23</td>\n",
       "      <td>5</td>\n",
       "      <td>1</td>\n",
       "      <td>12</td>\n",
       "      <td>23</td>\n",
       "      <td>23</td>\n",
       "      <td>1</td>\n",
       "    </tr>\n",
       "    <tr>\n",
       "      <th>SP</th>\n",
       "      <td>417</td>\n",
       "      <td>19211</td>\n",
       "      <td>10285</td>\n",
       "      <td>48</td>\n",
       "      <td>4</td>\n",
       "      <td>3</td>\n",
       "      <td>359</td>\n",
       "      <td>10</td>\n",
       "      <td>17</td>\n",
       "      <td>208</td>\n",
       "      <td>417</td>\n",
       "      <td>417</td>\n",
       "      <td>1</td>\n",
       "    </tr>\n",
       "    <tr>\n",
       "      <th>TC</th>\n",
       "      <td>7</td>\n",
       "      <td>300</td>\n",
       "      <td>286</td>\n",
       "      <td>12</td>\n",
       "      <td>0</td>\n",
       "      <td>2</td>\n",
       "      <td>5</td>\n",
       "      <td>2</td>\n",
       "      <td>2</td>\n",
       "      <td>3</td>\n",
       "      <td>7</td>\n",
       "      <td>7</td>\n",
       "      <td>1</td>\n",
       "    </tr>\n",
       "  </tbody>\n",
       "</table>\n",
       "</div>"
      ],
      "text/plain": [
       "        Set  Card number   Name  Rarity  Print  Quantity  Release  Series  \\\n",
       "Region                                                                      \n",
       "AE       34         1527   1493      12      0         2       31       2   \n",
       "AU        2          100     87       3      0         0        1       0   \n",
       "DE      455        20372  10393      48      4         3      386      13   \n",
       "EN      658        20184  10480      54     14         3      541      23   \n",
       "EU       25          543    456       7      3         0       17       2   \n",
       "FC        3          102     87       3      0         0        1       0   \n",
       "FR      448        19776  10380      50      4         3      380      15   \n",
       "IT      447        20051  10388      49      4         3      383      13   \n",
       "JA        3          185    185       8      0         0        3       2   \n",
       "JP      718        19131  11238      90      7         3      540      28   \n",
       "KR      383        15937  10755      58      4         3      343      16   \n",
       "NA       47         1526   1333       9      4         2       40       5   \n",
       "PT      204        12461   7823      42      4         3      166       8   \n",
       "SC       23         1237   1082      12      2         0       23       5   \n",
       "SP      417        19211  10285      48      4         3      359      10   \n",
       "TC        7          300    286      12      0         2        5       2   \n",
       "\n",
       "        Set type  Cover card  Page URL  Modification date  _merge  \n",
       "Region                                                             \n",
       "AE             7          19        34                 34       1  \n",
       "AU             1           2         2                  2       1  \n",
       "DE            18         223       455                455       1  \n",
       "EN            23         211       658                658       1  \n",
       "EU             9           6        25                 25       1  \n",
       "FC             2           2         3                  3       1  \n",
       "FR            18         223       448                448       1  \n",
       "IT            18         222       447                447       1  \n",
       "JA             2           3         3                  3       1  \n",
       "JP            28         255       716                716       2  \n",
       "KR            15         224       382                382       2  \n",
       "NA            11          12        47                 47       1  \n",
       "PT            10         121       204                204       1  \n",
       "SC             1          12        23                 23       1  \n",
       "SP            17         208       417                417       1  \n",
       "TC             2           3         7                  7       1  "
      ]
     },
     "execution_count": 13,
     "metadata": {},
     "output_type": "execute_result"
    }
   ],
   "source": [
    "all_set_lists_df.groupby('Region', dropna=False).nunique()"
   ]
  },
  {
   "cell_type": "code",
   "execution_count": 14,
   "id": "8756dfb8-35fb-4c63-8c8b-097810d79e3c",
   "metadata": {
    "papermill": {
     "duration": 0.954805,
     "end_time": "2023-02-06T05:10:52.614730",
     "exception": false,
     "start_time": "2023-02-06T05:10:51.659925",
     "status": "completed"
    },
    "tags": []
   },
   "outputs": [
    {
     "data": {
      "text/html": [
       "<div>\n",
       "<style scoped>\n",
       "    .dataframe tbody tr th:only-of-type {\n",
       "        vertical-align: middle;\n",
       "    }\n",
       "\n",
       "    .dataframe tbody tr th {\n",
       "        vertical-align: top;\n",
       "    }\n",
       "\n",
       "    .dataframe thead th {\n",
       "        text-align: right;\n",
       "    }\n",
       "</style>\n",
       "<table border=\"1\" class=\"dataframe\">\n",
       "  <thead>\n",
       "    <tr style=\"text-align: right;\">\n",
       "      <th></th>\n",
       "      <th>Set</th>\n",
       "      <th>Card number</th>\n",
       "      <th>Name</th>\n",
       "      <th>Rarity</th>\n",
       "      <th>Print</th>\n",
       "      <th>Quantity</th>\n",
       "      <th>Release</th>\n",
       "      <th>Series</th>\n",
       "      <th>Set type</th>\n",
       "      <th>Cover card</th>\n",
       "      <th>Page URL</th>\n",
       "      <th>Modification date</th>\n",
       "      <th>_merge</th>\n",
       "    </tr>\n",
       "  </thead>\n",
       "  <tbody>\n",
       "    <tr>\n",
       "      <th>count</th>\n",
       "      <td>16.000000</td>\n",
       "      <td>16.000000</td>\n",
       "      <td>16.000000</td>\n",
       "      <td>16.000000</td>\n",
       "      <td>16.00000</td>\n",
       "      <td>16.000000</td>\n",
       "      <td>16.000000</td>\n",
       "      <td>16.000000</td>\n",
       "      <td>16.000000</td>\n",
       "      <td>16.00000</td>\n",
       "      <td>16.000000</td>\n",
       "      <td>16.000000</td>\n",
       "      <td>16.000000</td>\n",
       "    </tr>\n",
       "    <tr>\n",
       "      <th>mean</th>\n",
       "      <td>242.125000</td>\n",
       "      <td>9540.187500</td>\n",
       "      <td>5421.937500</td>\n",
       "      <td>31.562500</td>\n",
       "      <td>3.37500</td>\n",
       "      <td>1.875000</td>\n",
       "      <td>201.187500</td>\n",
       "      <td>9.000000</td>\n",
       "      <td>11.375000</td>\n",
       "      <td>109.12500</td>\n",
       "      <td>241.937500</td>\n",
       "      <td>241.937500</td>\n",
       "      <td>1.125000</td>\n",
       "    </tr>\n",
       "    <tr>\n",
       "      <th>std</th>\n",
       "      <td>256.231373</td>\n",
       "      <td>9346.137885</td>\n",
       "      <td>5017.305206</td>\n",
       "      <td>26.277922</td>\n",
       "      <td>3.53789</td>\n",
       "      <td>1.360147</td>\n",
       "      <td>208.845148</td>\n",
       "      <td>8.430105</td>\n",
       "      <td>8.539126</td>\n",
       "      <td>108.48894</td>\n",
       "      <td>255.947513</td>\n",
       "      <td>255.947513</td>\n",
       "      <td>0.341565</td>\n",
       "    </tr>\n",
       "    <tr>\n",
       "      <th>min</th>\n",
       "      <td>2.000000</td>\n",
       "      <td>100.000000</td>\n",
       "      <td>87.000000</td>\n",
       "      <td>3.000000</td>\n",
       "      <td>0.00000</td>\n",
       "      <td>0.000000</td>\n",
       "      <td>1.000000</td>\n",
       "      <td>0.000000</td>\n",
       "      <td>1.000000</td>\n",
       "      <td>2.00000</td>\n",
       "      <td>2.000000</td>\n",
       "      <td>2.000000</td>\n",
       "      <td>1.000000</td>\n",
       "    </tr>\n",
       "    <tr>\n",
       "      <th>25%</th>\n",
       "      <td>19.000000</td>\n",
       "      <td>482.250000</td>\n",
       "      <td>413.500000</td>\n",
       "      <td>8.750000</td>\n",
       "      <td>0.00000</td>\n",
       "      <td>0.000000</td>\n",
       "      <td>14.000000</td>\n",
       "      <td>2.000000</td>\n",
       "      <td>2.000000</td>\n",
       "      <td>5.25000</td>\n",
       "      <td>19.000000</td>\n",
       "      <td>19.000000</td>\n",
       "      <td>1.000000</td>\n",
       "    </tr>\n",
       "    <tr>\n",
       "      <th>50%</th>\n",
       "      <td>125.500000</td>\n",
       "      <td>6994.000000</td>\n",
       "      <td>4658.000000</td>\n",
       "      <td>27.000000</td>\n",
       "      <td>4.00000</td>\n",
       "      <td>2.500000</td>\n",
       "      <td>103.000000</td>\n",
       "      <td>6.500000</td>\n",
       "      <td>10.500000</td>\n",
       "      <td>70.00000</td>\n",
       "      <td>125.500000</td>\n",
       "      <td>125.500000</td>\n",
       "      <td>1.000000</td>\n",
       "    </tr>\n",
       "    <tr>\n",
       "      <th>75%</th>\n",
       "      <td>447.250000</td>\n",
       "      <td>19352.250000</td>\n",
       "      <td>10389.250000</td>\n",
       "      <td>49.250000</td>\n",
       "      <td>4.00000</td>\n",
       "      <td>3.000000</td>\n",
       "      <td>380.750000</td>\n",
       "      <td>13.500000</td>\n",
       "      <td>18.000000</td>\n",
       "      <td>222.25000</td>\n",
       "      <td>447.250000</td>\n",
       "      <td>447.250000</td>\n",
       "      <td>1.000000</td>\n",
       "    </tr>\n",
       "    <tr>\n",
       "      <th>max</th>\n",
       "      <td>718.000000</td>\n",
       "      <td>20372.000000</td>\n",
       "      <td>11238.000000</td>\n",
       "      <td>90.000000</td>\n",
       "      <td>14.00000</td>\n",
       "      <td>3.000000</td>\n",
       "      <td>541.000000</td>\n",
       "      <td>28.000000</td>\n",
       "      <td>28.000000</td>\n",
       "      <td>255.00000</td>\n",
       "      <td>716.000000</td>\n",
       "      <td>716.000000</td>\n",
       "      <td>2.000000</td>\n",
       "    </tr>\n",
       "  </tbody>\n",
       "</table>\n",
       "</div>"
      ],
      "text/plain": [
       "              Set   Card number          Name     Rarity     Print   Quantity  \\\n",
       "count   16.000000     16.000000     16.000000  16.000000  16.00000  16.000000   \n",
       "mean   242.125000   9540.187500   5421.937500  31.562500   3.37500   1.875000   \n",
       "std    256.231373   9346.137885   5017.305206  26.277922   3.53789   1.360147   \n",
       "min      2.000000    100.000000     87.000000   3.000000   0.00000   0.000000   \n",
       "25%     19.000000    482.250000    413.500000   8.750000   0.00000   0.000000   \n",
       "50%    125.500000   6994.000000   4658.000000  27.000000   4.00000   2.500000   \n",
       "75%    447.250000  19352.250000  10389.250000  49.250000   4.00000   3.000000   \n",
       "max    718.000000  20372.000000  11238.000000  90.000000  14.00000   3.000000   \n",
       "\n",
       "          Release     Series   Set type  Cover card    Page URL  \\\n",
       "count   16.000000  16.000000  16.000000    16.00000   16.000000   \n",
       "mean   201.187500   9.000000  11.375000   109.12500  241.937500   \n",
       "std    208.845148   8.430105   8.539126   108.48894  255.947513   \n",
       "min      1.000000   0.000000   1.000000     2.00000    2.000000   \n",
       "25%     14.000000   2.000000   2.000000     5.25000   19.000000   \n",
       "50%    103.000000   6.500000  10.500000    70.00000  125.500000   \n",
       "75%    380.750000  13.500000  18.000000   222.25000  447.250000   \n",
       "max    541.000000  28.000000  28.000000   255.00000  716.000000   \n",
       "\n",
       "       Modification date     _merge  \n",
       "count          16.000000  16.000000  \n",
       "mean          241.937500   1.125000  \n",
       "std           255.947513   0.341565  \n",
       "min             2.000000   1.000000  \n",
       "25%            19.000000   1.000000  \n",
       "50%           125.500000   1.000000  \n",
       "75%           447.250000   1.000000  \n",
       "max           716.000000   2.000000  "
      ]
     },
     "execution_count": 14,
     "metadata": {},
     "output_type": "execute_result"
    }
   ],
   "source": [
    "all_set_lists_df.groupby('Region', dropna=False).nunique().describe()"
   ]
  },
  {
   "cell_type": "code",
   "execution_count": 15,
   "id": "d0a1e8d7-26a7-4046-a14c-944f8871c05b",
   "metadata": {
    "papermill": {
     "duration": 0.428443,
     "end_time": "2023-02-06T05:10:53.094356",
     "exception": false,
     "start_time": "2023-02-06T05:10:52.665913",
     "status": "completed"
    },
    "tags": []
   },
   "outputs": [
    {
     "data": {
      "image/png": "[encoded data removed]",
      "text/plain": [
       "<Figure size 1800x600 with 1 Axes>"
      ]
     },
     "metadata": {},
     "output_type": "display_data"
    }
   ],
   "source": [
    "all_set_lists_df['Region'].value_counts().plot.bar(figsize = (18,6), grid=True, rot=0)\n",
    "plt.show()"
   ]
  },
  {
   "cell_type": "markdown",
   "id": "d14af727-aa5e-4326-8675-433d715c9aa8",
   "metadata": {
    "papermill": {
     "duration": 0.064819,
     "end_time": "2023-02-06T05:10:53.212113",
     "exception": false,
     "start_time": "2023-02-06T05:10:53.147294",
     "status": "completed"
    },
    "tags": []
   },
   "source": [
    "## Cover card"
   ]
  },
  {
   "cell_type": "code",
   "execution_count": null,
   "id": "4a30e731-507d-491e-99b7-b34fcbc4f20b",
   "metadata": {
    "papermill": {
     "duration": 0.302057,
     "end_time": "2023-02-06T05:10:53.570080",
     "exception": false,
     "start_time": "2023-02-06T05:10:53.268023",
     "status": "completed"
    },
    "tags": []
   },
   "outputs": [],
   "source": [
    "print('Total number of cover cards:', all_set_lists_df['Cover card'].explode('Cover card').nunique())"
   ]
  },
  {
   "cell_type": "code",
   "execution_count": null,
   "id": "6b7c3e7e-b70c-414a-a5ad-bd297771f1dd",
   "metadata": {
    "papermill": {
     "duration": 1.855193,
     "end_time": "2023-02-06T05:10:55.480248",
     "exception": false,
     "start_time": "2023-02-06T05:10:53.625055",
     "status": "completed"
    },
    "tags": []
   },
   "outputs": [],
   "source": [
    "all_set_lists_df.explode('Cover card').groupby('Cover card').nunique()"
   ]
  },
  {
   "cell_type": "code",
   "execution_count": null,
   "id": "294407de-9087-4e79-a7cb-a45366c212a1",
   "metadata": {
    "papermill": {
     "duration": 9.674295,
     "end_time": "2023-02-06T05:11:05.206253",
     "exception": false,
     "start_time": "2023-02-06T05:10:55.531958",
     "status": "completed"
    },
    "tags": []
   },
   "outputs": [],
   "source": [
    "all_set_lists_df['Cover card'].explode().value_counts().plot.barh(figsize = (10,180), grid=True)\n",
    "plt.show()"
   ]
  },
  {
   "cell_type": "markdown",
   "id": "4e958986-d855-4580-85ea-d417c6b358e9",
   "metadata": {
    "papermill": {
     "duration": 0.123835,
     "end_time": "2023-02-06T05:11:05.433065",
     "exception": false,
     "start_time": "2023-02-06T05:11:05.309230",
     "status": "completed"
    },
    "tags": []
   },
   "source": [
    "## Series"
   ]
  },
  {
   "cell_type": "code",
   "execution_count": null,
   "id": "e010b8bc-5ffd-4a6a-a2e4-307b0de3a4bb",
   "metadata": {
    "papermill": {
     "duration": 0.156105,
     "end_time": "2023-02-06T05:11:05.692157",
     "exception": false,
     "start_time": "2023-02-06T05:11:05.536052",
     "status": "completed"
    },
    "tags": []
   },
   "outputs": [],
   "source": [
    "print('Total number of series:', all_set_lists_df['Series'].nunique())"
   ]
  },
  {
   "cell_type": "code",
   "execution_count": null,
   "id": "a64f8d6c-d76f-4a7f-95a6-b3037fa91107",
   "metadata": {
    "papermill": {
     "duration": 0.670078,
     "end_time": "2023-02-06T05:11:06.468599",
     "exception": false,
     "start_time": "2023-02-06T05:11:05.798521",
     "status": "completed"
    },
    "tags": []
   },
   "outputs": [],
   "source": [
    "all_set_lists_df.groupby('Series').nunique()"
   ]
  },
  {
   "cell_type": "code",
   "execution_count": null,
   "id": "303f345a-508f-40a8-9eb1-9935115a8e6e",
   "metadata": {
    "papermill": {
     "duration": 0.978273,
     "end_time": "2023-02-06T05:11:07.550088",
     "exception": false,
     "start_time": "2023-02-06T05:11:06.571815",
     "status": "completed"
    },
    "tags": []
   },
   "outputs": [],
   "source": [
    "all_set_lists_df['Series'].value_counts().plot.barh(figsize = (10,15), grid=True)\n",
    "plt.show()"
   ]
  },
  {
   "cell_type": "markdown",
   "id": "b26530cf-f5e2-453f-a7ad-f516748ef16a",
   "metadata": {
    "jp-MarkdownHeadingCollapsed": true,
    "papermill": {
     "duration": 0.108381,
     "end_time": "2023-02-06T05:11:07.774260",
     "exception": false,
     "start_time": "2023-02-06T05:11:07.665879",
     "status": "completed"
    },
    "tags": []
   },
   "source": [
    "## Set type"
   ]
  },
  {
   "cell_type": "code",
   "execution_count": null,
   "id": "dd581283-b889-4572-ab89-0a2353f01ddd",
   "metadata": {
    "papermill": {
     "duration": 0.135865,
     "end_time": "2023-02-06T05:11:08.022764",
     "exception": false,
     "start_time": "2023-02-06T05:11:07.886899",
     "status": "completed"
    },
    "tags": []
   },
   "outputs": [],
   "source": [
    "print('Total number of set types:', all_set_lists_df['Set type'].nunique())"
   ]
  },
  {
   "cell_type": "code",
   "execution_count": null,
   "id": "2baa0c6a-baf5-4e4a-9bf2-2102295e876c",
   "metadata": {
    "papermill": {
     "duration": 0.700425,
     "end_time": "2023-02-06T05:11:08.830393",
     "exception": false,
     "start_time": "2023-02-06T05:11:08.129968",
     "status": "completed"
    },
    "tags": []
   },
   "outputs": [],
   "source": [
    "all_set_lists_df.groupby('Set type').nunique()"
   ]
  },
  {
   "cell_type": "code",
   "execution_count": null,
   "id": "b4465c2d-19c8-49a3-8c6a-eb6e16f7f711",
   "metadata": {
    "papermill": {
     "duration": 0.788072,
     "end_time": "2023-02-06T05:11:09.728519",
     "exception": false,
     "start_time": "2023-02-06T05:11:08.940447",
     "status": "completed"
    },
    "tags": []
   },
   "outputs": [],
   "source": [
    "set_info_df['Set type'].value_counts().plot.barh(figsize = (10,10), grid=True)\n",
    "plt.show()"
   ]
  },
  {
   "cell_type": "markdown",
   "id": "59ab414c-6e2a-4b71-9110-a62416d7e390",
   "metadata": {
    "papermill": {
     "duration": 0.127202,
     "end_time": "2023-02-06T05:11:09.975696",
     "exception": false,
     "start_time": "2023-02-06T05:11:09.848494",
     "status": "completed"
    },
    "tags": []
   },
   "source": [
    "## Release"
   ]
  },
  {
   "cell_type": "code",
   "execution_count": null,
   "id": "37648341-3420-4e9c-a3c4-e9e63b517c32",
   "metadata": {
    "papermill": {
     "duration": 0.169739,
     "end_time": "2023-02-06T05:11:10.259918",
     "exception": false,
     "start_time": "2023-02-06T05:11:10.090179",
     "status": "completed"
    },
    "tags": []
   },
   "outputs": [],
   "source": [
    "print('Total number of release dates:', all_set_lists_df['Release'].nunique())"
   ]
  },
  {
   "cell_type": "code",
   "execution_count": null,
   "id": "251efa78-66cd-492d-931a-74bf5008a31d",
   "metadata": {
    "papermill": {
     "duration": 0.786688,
     "end_time": "2023-02-06T05:11:11.157886",
     "exception": false,
     "start_time": "2023-02-06T05:11:10.371198",
     "status": "completed"
    },
    "tags": []
   },
   "outputs": [],
   "source": [
    "all_set_lists_df.groupby('Release', dropna=False).nunique()"
   ]
  },
  {
   "cell_type": "code",
   "execution_count": null,
   "id": "53dfbe7b-a712-4920-8ec7-1cb9c49f8930",
   "metadata": {
    "papermill": {
     "duration": 0.198298,
     "end_time": "2023-02-06T05:11:11.470323",
     "exception": false,
     "start_time": "2023-02-06T05:11:11.272025",
     "status": "completed"
    },
    "tags": []
   },
   "outputs": [],
   "source": [
    "set_by_release = pd.DataFrame(all_set_lists_df.groupby('Release', dropna=False)['Set'].nunique())"
   ]
  },
  {
   "cell_type": "markdown",
   "id": "00b59bc1-c809-4a3c-8fe5-c1efa509ea48",
   "metadata": {
    "papermill": {
     "duration": 0.113268,
     "end_time": "2023-02-06T05:11:11.960021",
     "exception": false,
     "start_time": "2023-02-06T05:11:11.846753",
     "status": "completed"
    },
    "tags": []
   },
   "source": [
    "### By year"
   ]
  },
  {
   "cell_type": "code",
   "execution_count": null,
   "id": "19c6c510-0e40-4c7b-b1b5-19869d5c296c",
   "metadata": {
    "papermill": {
     "duration": 0.955113,
     "end_time": "2023-02-06T05:11:13.050299",
     "exception": false,
     "start_time": "2023-02-06T05:11:12.095186",
     "status": "completed"
    },
    "tags": []
   },
   "outputs": [],
   "source": [
    "all_set_lists_df.drop('Modification date', axis=1).groupby('Release', dropna=False).nunique().groupby(set_by_release.index.strftime('%Y')).sum()"
   ]
  },
  {
   "cell_type": "code",
   "execution_count": null,
   "id": "fc6134ac-8c90-44e5-9461-9caccec72eca",
   "metadata": {
    "papermill": {
     "duration": 2.685053,
     "end_time": "2023-02-06T05:11:15.847967",
     "exception": false,
     "start_time": "2023-02-06T05:11:13.162914",
     "status": "completed"
    },
    "tags": []
   },
   "outputs": [],
   "source": [
    "rate_plot(set_by_release)"
   ]
  },
  {
   "cell_type": "markdown",
   "id": "1a453fb1-4971-4b2d-80d1-8cb4e9fe8d91",
   "metadata": {
    "papermill": {
     "duration": 0.125136,
     "end_time": "2023-02-06T05:11:16.093378",
     "exception": false,
     "start_time": "2023-02-06T05:11:15.968242",
     "status": "completed"
    },
    "tags": []
   },
   "source": [
    "### By month"
   ]
  },
  {
   "cell_type": "code",
   "execution_count": null,
   "id": "dc6517e9-0ab6-4a0a-b0ba-ffe6fa43855a",
   "metadata": {
    "papermill": {
     "duration": 0.570336,
     "end_time": "2023-02-06T05:11:16.783716",
     "exception": false,
     "start_time": "2023-02-06T05:11:16.213380",
     "status": "completed"
    },
    "tags": []
   },
   "outputs": [],
   "source": [
    "set_by_release.groupby(set_by_release.index.strftime('%B')).sum().sort_index(key=lambda x: pd.to_datetime(x, format='%B').month).plot.bar(figsize= (16,8), grid=True, xlabel = 'Release month', rot = 0)\n",
    "plt.show()"
   ]
  },
  {
   "cell_type": "code",
   "execution_count": null,
   "id": "36e2463e-83b1-418a-a5e4-fbda3b716f97",
   "metadata": {
    "papermill": {
     "duration": 0.629086,
     "end_time": "2023-02-06T05:11:17.542337",
     "exception": false,
     "start_time": "2023-02-06T05:11:16.913251",
     "status": "completed"
    },
    "tags": []
   },
   "outputs": [],
   "source": [
    "set_by_release.groupby(set_by_release.index.strftime('%d')).sum().plot.bar(figsize= (16,8), grid=True, xlabel = 'Release day of the month', rot = 0)\n",
    "plt.show()"
   ]
  },
  {
   "cell_type": "markdown",
   "id": "2b44c11e-6f63-48dd-9122-941068f50cc6",
   "metadata": {
    "papermill": {
     "duration": 0.12892,
     "end_time": "2023-02-06T05:11:17.789679",
     "exception": false,
     "start_time": "2023-02-06T05:11:17.660759",
     "status": "completed"
    },
    "tags": []
   },
   "source": [
    "### By day"
   ]
  },
  {
   "cell_type": "code",
   "execution_count": null,
   "id": "b33a17bb-8a47-41bf-977b-c4d89e81d814",
   "metadata": {
    "papermill": {
     "duration": 0.514116,
     "end_time": "2023-02-06T05:11:18.426700",
     "exception": false,
     "start_time": "2023-02-06T05:11:17.912584",
     "status": "completed"
    },
    "tags": []
   },
   "outputs": [],
   "source": [
    "set_by_release.groupby(set_by_release.index.dayofyear).sum().plot(figsize= (16,8), grid=True, xlabel = 'Release day of the year')\n",
    "plt.show()"
   ]
  },
  {
   "cell_type": "code",
   "execution_count": null,
   "id": "a40ee744-975c-42a8-9155-d8c0d0fbc209",
   "metadata": {
    "papermill": {
     "duration": 0.403969,
     "end_time": "2023-02-06T05:11:18.956700",
     "exception": false,
     "start_time": "2023-02-06T05:11:18.552731",
     "status": "completed"
    },
    "tags": []
   },
   "outputs": [],
   "source": [
    "set_by_release_wd = set_by_release.groupby(set_by_release.index.weekday).sum()\n",
    "set_by_release_wd.index = [calendar.day_name[i] for i in set_by_release_wd.index.astype(int)]\n",
    "set_by_release_wd.plot.bar(figsize= (16,8), grid=True, xlabel = 'Release day of the week', rot = 0)\n",
    "plt.show()"
   ]
  },
  {
   "cell_type": "markdown",
   "id": "5d1e240c-c712-4b39-8ed5-3ca1fe2cca9c",
   "metadata": {
    "papermill": {
     "duration": 0.122808,
     "end_time": "2023-02-06T05:11:19.203423",
     "exception": false,
     "start_time": "2023-02-06T05:11:19.080615",
     "status": "completed"
    },
    "tags": []
   },
   "source": [
    "### By region"
   ]
  },
  {
   "cell_type": "code",
   "execution_count": null,
   "id": "8d64abbe-da2c-4242-9db6-f63bdaf1c61d",
   "metadata": {
    "papermill": {
     "duration": 0.749772,
     "end_time": "2023-02-06T05:11:20.082305",
     "exception": false,
     "start_time": "2023-02-06T05:11:19.332533",
     "status": "completed"
    },
    "tags": []
   },
   "outputs": [],
   "source": [
    "by_release_region = all_set_lists_df.groupby(['Region','Release']).nunique()\n",
    "by_release_region"
   ]
  },
  {
   "cell_type": "code",
   "execution_count": null,
   "id": "6365aa88-656e-4c66-9325-79f933b27662",
   "metadata": {
    "papermill": {
     "duration": 0.245286,
     "end_time": "2023-02-06T05:11:20.456508",
     "exception": false,
     "start_time": "2023-02-06T05:11:20.211222",
     "status": "completed"
    },
    "tags": []
   },
   "outputs": [],
   "source": [
    "set_by_release_region = by_release_region['Set'].unstack(0).sort_index().fillna(0).astype(int)\n",
    "set_by_release_region_y = set_by_release_region.groupby(set_by_release_region.index.strftime('%Y')).sum().T\n",
    "set_by_release_region_y"
   ]
  },
  {
   "cell_type": "code",
   "execution_count": null,
   "id": "4ea33195-87ea-48e8-af5b-2281792bdcfb",
   "metadata": {
    "papermill": {
     "duration": 1.667189,
     "end_time": "2023-02-06T05:11:22.262076",
     "exception": false,
     "start_time": "2023-02-06T05:11:20.594887",
     "status": "completed"
    },
    "tags": []
   },
   "outputs": [],
   "source": [
    "plt.figure(figsize = (20,10))\n",
    "sns.heatmap(set_by_release_region_y[set_by_release_region_y>0], annot=True, fmt='g', cmap='viridis', square=True)\n",
    "plt.show()"
   ]
  },
  {
   "cell_type": "code",
   "execution_count": null,
   "id": "66f07fb9-5fc7-4c55-8ba3-b75bda610e89",
   "metadata": {
    "papermill": {
     "duration": 33.37083,
     "end_time": "2023-02-06T05:11:55.768127",
     "exception": false,
     "start_time": "2023-02-06T05:11:22.397297",
     "status": "completed"
    },
    "tags": []
   },
   "outputs": [],
   "source": [
    "rate_subplots(set_by_release_region, title='Set releases')"
   ]
  },
  {
   "cell_type": "markdown",
   "id": "9c7647f5-a954-40d9-8481-4f8dec29f5f1",
   "metadata": {
    "papermill": {
     "duration": 0.156587,
     "end_time": "2023-02-06T05:11:56.088248",
     "exception": false,
     "start_time": "2023-02-06T05:11:55.931661",
     "status": "completed"
    },
    "tags": []
   },
   "source": [
    "### By series"
   ]
  },
  {
   "cell_type": "code",
   "execution_count": null,
   "id": "ff1e673d-c515-4774-a993-d693de418e0a",
   "metadata": {
    "papermill": {
     "duration": 1.096545,
     "end_time": "2023-02-06T05:11:57.343975",
     "exception": false,
     "start_time": "2023-02-06T05:11:56.247430",
     "status": "completed"
    },
    "tags": []
   },
   "outputs": [],
   "source": [
    "by_release_series = all_set_lists_df.explode('Series').groupby(['Series','Release']).nunique()\n",
    "by_release_series"
   ]
  },
  {
   "cell_type": "code",
   "execution_count": null,
   "id": "e2853b51-5b73-43b0-a44c-e1f025640055",
   "metadata": {
    "papermill": {
     "duration": 0.224918,
     "end_time": "2023-02-06T05:11:57.730639",
     "exception": false,
     "start_time": "2023-02-06T05:11:57.505721",
     "status": "completed"
    },
    "tags": []
   },
   "outputs": [],
   "source": [
    "set_by_release_series = by_release_series['Set'].unstack(0).sort_index().fillna(0).astype(int)\n",
    "set_by_release_series_y = set_by_release_series.groupby(set_by_release_series.index.strftime('%Y')).sum().T\n",
    "set_by_release_series_y"
   ]
  },
  {
   "cell_type": "code",
   "execution_count": null,
   "id": "302c2746-3866-4564-ac2f-ba0164e7f799",
   "metadata": {
    "papermill": {
     "duration": 1.812823,
     "end_time": "2023-02-06T05:11:59.717532",
     "exception": false,
     "start_time": "2023-02-06T05:11:57.904709",
     "status": "completed"
    },
    "tags": []
   },
   "outputs": [],
   "source": [
    "plt.figure(figsize = (20,16))\n",
    "sns.heatmap(set_by_release_series_y[set_by_release_series_y>0], annot=True, fmt='g', cmap='viridis', square=True)\n",
    "plt.show()"
   ]
  },
  {
   "cell_type": "code",
   "execution_count": null,
   "id": "753e6cd5-2ea0-4f59-b9aa-070151f50e09",
   "metadata": {
    "papermill": {
     "duration": 95.755834,
     "end_time": "2023-02-06T05:13:35.646644",
     "exception": false,
     "start_time": "2023-02-06T05:11:59.890810",
     "status": "completed"
    },
    "tags": []
   },
   "outputs": [],
   "source": [
    "rate_subplots(set_by_release_series, title='Set releases')"
   ]
  },
  {
   "cell_type": "markdown",
   "id": "20454f30-596a-48c1-8fe8-08ed03a01bdc",
   "metadata": {
    "papermill": {
     "duration": 0.284128,
     "end_time": "2023-02-06T05:13:36.809513",
     "exception": false,
     "start_time": "2023-02-06T05:13:36.525385",
     "status": "completed"
    },
    "tags": []
   },
   "source": [
    "### By set type"
   ]
  },
  {
   "cell_type": "code",
   "execution_count": null,
   "id": "dc7b725b-3563-46e3-91b7-ffee643a2f6c",
   "metadata": {
    "papermill": {
     "duration": 2.431133,
     "end_time": "2023-02-06T05:13:39.475344",
     "exception": false,
     "start_time": "2023-02-06T05:13:37.044211",
     "status": "completed"
    },
    "tags": []
   },
   "outputs": [],
   "source": [
    "by_release_type = all_set_lists_df.explode('Set type').groupby(['Set type','Release']).nunique()\n",
    "by_release_type"
   ]
  },
  {
   "cell_type": "code",
   "execution_count": null,
   "id": "654fb9be-3bee-4878-9957-18af48c06d2b",
   "metadata": {
    "papermill": {
     "duration": 0.307043,
     "end_time": "2023-02-06T05:13:41.640367",
     "exception": false,
     "start_time": "2023-02-06T05:13:41.333324",
     "status": "completed"
    },
    "tags": []
   },
   "outputs": [],
   "source": [
    "set_by_release_type = by_release_type['Set'].unstack(0).sort_index().fillna(0).astype(int)\n",
    "set_by_release_type_y = set_by_release_type.groupby(set_by_release_type.index.strftime('%Y')).sum().T\n",
    "set_by_release_type_y"
   ]
  },
  {
   "cell_type": "code",
   "execution_count": null,
   "id": "c7f881fa-d769-4c83-a663-6f8a79cb1907",
   "metadata": {
    "papermill": {
     "duration": 2.012045,
     "end_time": "2023-02-06T05:13:43.883327",
     "exception": false,
     "start_time": "2023-02-06T05:13:41.871282",
     "status": "completed"
    },
    "tags": []
   },
   "outputs": [],
   "source": [
    "plt.figure(figsize = (20,16))\n",
    "sns.heatmap(set_by_release_type_y[set_by_release_type_y>0], annot=True, fmt='g', cmap='viridis', square=True)\n",
    "plt.show()"
   ]
  },
  {
   "cell_type": "code",
   "execution_count": null,
   "id": "a056c73e-9011-4b00-b993-7e72899abfc5",
   "metadata": {
    "papermill": {
     "duration": 80.545425,
     "end_time": "2023-02-06T05:15:04.746850",
     "exception": false,
     "start_time": "2023-02-06T05:13:44.201425",
     "status": "completed"
    },
    "tags": []
   },
   "outputs": [],
   "source": [
    "rate_subplots(set_by_release_type, title='Set releases')"
   ]
  },
  {
   "cell_type": "markdown",
   "id": "87158376-29ce-446a-8019-870cef12a427",
   "metadata": {
    "papermill": {
     "duration": 0.763315,
     "end_time": "2023-02-06T05:15:06.005069",
     "exception": false,
     "start_time": "2023-02-06T05:15:05.241754",
     "status": "completed"
    },
    "tags": []
   },
   "source": [
    "# Debug"
   ]
  },
  {
   "cell_type": "markdown",
   "id": "bb613435-0c31-4131-990f-38b1528895ee",
   "metadata": {
    "papermill": {
     "duration": 0.364167,
     "end_time": "2023-02-06T05:15:07.413421",
     "exception": false,
     "start_time": "2023-02-06T05:15:07.049254",
     "status": "completed"
    },
    "tags": []
   },
   "source": [
    "This section is used for debugging the extraction of data from MediaWiki query responses"
   ]
  },
  {
   "cell_type": "markdown",
   "id": "7e03ada7-b5d4-45b9-a2f0-e3529ffb8232",
   "metadata": {
    "papermill": {
     "duration": 1.003426,
     "end_time": "2023-02-06T05:15:08.989939",
     "exception": false,
     "start_time": "2023-02-06T05:15:07.986513",
     "status": "completed"
    },
    "tags": []
   },
   "source": [
    "## Has nan name/number"
   ]
  },
  {
   "cell_type": "code",
   "execution_count": 16,
   "id": "3e635066-7b4f-45b5-9cff-e7989b5f820c",
   "metadata": {
    "papermill": {
     "duration": 1.268393,
     "end_time": "2023-02-06T05:15:11.002576",
     "exception": false,
     "start_time": "2023-02-06T05:15:09.734183",
     "status": "completed"
    },
    "tags": []
   },
   "outputs": [
    {
     "data": {
      "text/html": [
       "<div>\n",
       "<style scoped>\n",
       "    .dataframe tbody tr th:only-of-type {\n",
       "        vertical-align: middle;\n",
       "    }\n",
       "\n",
       "    .dataframe tbody tr th {\n",
       "        vertical-align: top;\n",
       "    }\n",
       "\n",
       "    .dataframe thead th {\n",
       "        text-align: right;\n",
       "    }\n",
       "</style>\n",
       "<table border=\"1\" class=\"dataframe\">\n",
       "  <thead>\n",
       "    <tr style=\"text-align: right;\">\n",
       "      <th></th>\n",
       "      <th>Set</th>\n",
       "      <th>Card number</th>\n",
       "      <th>Name</th>\n",
       "      <th>Rarity</th>\n",
       "      <th>Print</th>\n",
       "      <th>Quantity</th>\n",
       "      <th>Region</th>\n",
       "      <th>Release</th>\n",
       "      <th>Series</th>\n",
       "      <th>Set type</th>\n",
       "      <th>Cover card</th>\n",
       "      <th>Page URL</th>\n",
       "      <th>Modification date</th>\n",
       "      <th>_merge</th>\n",
       "    </tr>\n",
       "  </thead>\n",
       "  <tbody>\n",
       "    <tr>\n",
       "      <th>6632</th>\n",
       "      <td>Legendary Decks II</td>\n",
       "      <td>&lt;NA&gt;</td>\n",
       "      <td>&lt;NA&gt;</td>\n",
       "      <td>(Common,)</td>\n",
       "      <td>&lt;NA&gt;</td>\n",
       "      <td>&lt;NA&gt;</td>\n",
       "      <td>IT</td>\n",
       "      <td>2016-10-06</td>\n",
       "      <td>&lt;NA&gt;</td>\n",
       "      <td>Collector's Set</td>\n",
       "      <td>NaN</td>\n",
       "      <td>https://yugipedia.com/wiki/Legendary_Decks_II</td>\n",
       "      <td>2022-01-18 14:06:23</td>\n",
       "      <td>both</td>\n",
       "    </tr>\n",
       "    <tr>\n",
       "      <th>6677</th>\n",
       "      <td>Legendary Decks II</td>\n",
       "      <td>&lt;NA&gt;</td>\n",
       "      <td>&lt;NA&gt;</td>\n",
       "      <td>(Common,)</td>\n",
       "      <td>&lt;NA&gt;</td>\n",
       "      <td>&lt;NA&gt;</td>\n",
       "      <td>IT</td>\n",
       "      <td>2016-10-06</td>\n",
       "      <td>&lt;NA&gt;</td>\n",
       "      <td>Collector's Set</td>\n",
       "      <td>NaN</td>\n",
       "      <td>https://yugipedia.com/wiki/Legendary_Decks_II</td>\n",
       "      <td>2022-01-18 14:06:23</td>\n",
       "      <td>both</td>\n",
       "    </tr>\n",
       "    <tr>\n",
       "      <th>6722</th>\n",
       "      <td>Legendary Decks II</td>\n",
       "      <td>&lt;NA&gt;</td>\n",
       "      <td>&lt;NA&gt;</td>\n",
       "      <td>(Common,)</td>\n",
       "      <td>&lt;NA&gt;</td>\n",
       "      <td>&lt;NA&gt;</td>\n",
       "      <td>IT</td>\n",
       "      <td>2016-10-06</td>\n",
       "      <td>&lt;NA&gt;</td>\n",
       "      <td>Collector's Set</td>\n",
       "      <td>NaN</td>\n",
       "      <td>https://yugipedia.com/wiki/Legendary_Decks_II</td>\n",
       "      <td>2022-01-18 14:06:23</td>\n",
       "      <td>both</td>\n",
       "    </tr>\n",
       "    <tr>\n",
       "      <th>6770</th>\n",
       "      <td>Legendary Decks II</td>\n",
       "      <td>&lt;NA&gt;</td>\n",
       "      <td>&lt;NA&gt;</td>\n",
       "      <td>(Common,)</td>\n",
       "      <td>&lt;NA&gt;</td>\n",
       "      <td>&lt;NA&gt;</td>\n",
       "      <td>PT</td>\n",
       "      <td>2016-10-07</td>\n",
       "      <td>&lt;NA&gt;</td>\n",
       "      <td>Collector's Set</td>\n",
       "      <td>NaN</td>\n",
       "      <td>https://yugipedia.com/wiki/Legendary_Decks_II</td>\n",
       "      <td>2022-01-18 14:06:23</td>\n",
       "      <td>both</td>\n",
       "    </tr>\n",
       "    <tr>\n",
       "      <th>6815</th>\n",
       "      <td>Legendary Decks II</td>\n",
       "      <td>&lt;NA&gt;</td>\n",
       "      <td>&lt;NA&gt;</td>\n",
       "      <td>(Common,)</td>\n",
       "      <td>&lt;NA&gt;</td>\n",
       "      <td>&lt;NA&gt;</td>\n",
       "      <td>PT</td>\n",
       "      <td>2016-10-07</td>\n",
       "      <td>&lt;NA&gt;</td>\n",
       "      <td>Collector's Set</td>\n",
       "      <td>NaN</td>\n",
       "      <td>https://yugipedia.com/wiki/Legendary_Decks_II</td>\n",
       "      <td>2022-01-18 14:06:23</td>\n",
       "      <td>both</td>\n",
       "    </tr>\n",
       "    <tr>\n",
       "      <th>...</th>\n",
       "      <td>...</td>\n",
       "      <td>...</td>\n",
       "      <td>...</td>\n",
       "      <td>...</td>\n",
       "      <td>...</td>\n",
       "      <td>...</td>\n",
       "      <td>...</td>\n",
       "      <td>...</td>\n",
       "      <td>...</td>\n",
       "      <td>...</td>\n",
       "      <td>...</td>\n",
       "      <td>...</td>\n",
       "      <td>...</td>\n",
       "      <td>...</td>\n",
       "    </tr>\n",
       "    <tr>\n",
       "      <th>143962</th>\n",
       "      <td>EX Starter Box</td>\n",
       "      <td>&lt;NA&gt;</td>\n",
       "      <td>Reverse Trap</td>\n",
       "      <td>(Common,)</td>\n",
       "      <td>Reprint</td>\n",
       "      <td>1</td>\n",
       "      <td>JP</td>\n",
       "      <td>1999-12-16</td>\n",
       "      <td>&lt;NA&gt;</td>\n",
       "      <td>Starter Deck</td>\n",
       "      <td>(Blue-Eyes White Dragon,)</td>\n",
       "      <td>https://yugipedia.com/wiki/EX_Starter_Box</td>\n",
       "      <td>2022-05-01 06:51:59</td>\n",
       "      <td>both</td>\n",
       "    </tr>\n",
       "    <tr>\n",
       "      <th>143963</th>\n",
       "      <td>EX Starter Box</td>\n",
       "      <td>&lt;NA&gt;</td>\n",
       "      <td>Remove Trap</td>\n",
       "      <td>(Common,)</td>\n",
       "      <td>Reprint</td>\n",
       "      <td>1</td>\n",
       "      <td>JP</td>\n",
       "      <td>1999-12-16</td>\n",
       "      <td>&lt;NA&gt;</td>\n",
       "      <td>Starter Deck</td>\n",
       "      <td>(Blue-Eyes White Dragon,)</td>\n",
       "      <td>https://yugipedia.com/wiki/EX_Starter_Box</td>\n",
       "      <td>2022-05-01 06:51:59</td>\n",
       "      <td>both</td>\n",
       "    </tr>\n",
       "    <tr>\n",
       "      <th>143964</th>\n",
       "      <td>EX Starter Box</td>\n",
       "      <td>&lt;NA&gt;</td>\n",
       "      <td>De-Spell</td>\n",
       "      <td>(Common,)</td>\n",
       "      <td>Reprint</td>\n",
       "      <td>2</td>\n",
       "      <td>JP</td>\n",
       "      <td>1999-12-16</td>\n",
       "      <td>&lt;NA&gt;</td>\n",
       "      <td>Starter Deck</td>\n",
       "      <td>(Blue-Eyes White Dragon,)</td>\n",
       "      <td>https://yugipedia.com/wiki/EX_Starter_Box</td>\n",
       "      <td>2022-05-01 06:51:59</td>\n",
       "      <td>both</td>\n",
       "    </tr>\n",
       "    <tr>\n",
       "      <th>143965</th>\n",
       "      <td>EX Starter Box</td>\n",
       "      <td>&lt;NA&gt;</td>\n",
       "      <td>Castle Walls</td>\n",
       "      <td>(Common,)</td>\n",
       "      <td>Reprint</td>\n",
       "      <td>1</td>\n",
       "      <td>JP</td>\n",
       "      <td>1999-12-16</td>\n",
       "      <td>&lt;NA&gt;</td>\n",
       "      <td>Starter Deck</td>\n",
       "      <td>(Blue-Eyes White Dragon,)</td>\n",
       "      <td>https://yugipedia.com/wiki/EX_Starter_Box</td>\n",
       "      <td>2022-05-01 06:51:59</td>\n",
       "      <td>both</td>\n",
       "    </tr>\n",
       "    <tr>\n",
       "      <th>143966</th>\n",
       "      <td>EX Starter Box</td>\n",
       "      <td>&lt;NA&gt;</td>\n",
       "      <td>Ultimate Offering</td>\n",
       "      <td>(Common,)</td>\n",
       "      <td>Reprint</td>\n",
       "      <td>1</td>\n",
       "      <td>JP</td>\n",
       "      <td>1999-12-16</td>\n",
       "      <td>&lt;NA&gt;</td>\n",
       "      <td>Starter Deck</td>\n",
       "      <td>(Blue-Eyes White Dragon,)</td>\n",
       "      <td>https://yugipedia.com/wiki/EX_Starter_Box</td>\n",
       "      <td>2022-05-01 06:51:59</td>\n",
       "      <td>both</td>\n",
       "    </tr>\n",
       "  </tbody>\n",
       "</table>\n",
       "<p>714 rows × 14 columns</p>\n",
       "</div>"
      ],
      "text/plain": [
       "                       Set Card number               Name     Rarity    Print  \\\n",
       "6632    Legendary Decks II        <NA>               <NA>  (Common,)     <NA>   \n",
       "6677    Legendary Decks II        <NA>               <NA>  (Common,)     <NA>   \n",
       "6722    Legendary Decks II        <NA>               <NA>  (Common,)     <NA>   \n",
       "6770    Legendary Decks II        <NA>               <NA>  (Common,)     <NA>   \n",
       "6815    Legendary Decks II        <NA>               <NA>  (Common,)     <NA>   \n",
       "...                    ...         ...                ...        ...      ...   \n",
       "143962      EX Starter Box        <NA>       Reverse Trap  (Common,)  Reprint   \n",
       "143963      EX Starter Box        <NA>        Remove Trap  (Common,)  Reprint   \n",
       "143964      EX Starter Box        <NA>           De-Spell  (Common,)  Reprint   \n",
       "143965      EX Starter Box        <NA>       Castle Walls  (Common,)  Reprint   \n",
       "143966      EX Starter Box        <NA>  Ultimate Offering  (Common,)  Reprint   \n",
       "\n",
       "       Quantity Region    Release Series         Set type  \\\n",
       "6632       <NA>     IT 2016-10-06   <NA>  Collector's Set   \n",
       "6677       <NA>     IT 2016-10-06   <NA>  Collector's Set   \n",
       "6722       <NA>     IT 2016-10-06   <NA>  Collector's Set   \n",
       "6770       <NA>     PT 2016-10-07   <NA>  Collector's Set   \n",
       "6815       <NA>     PT 2016-10-07   <NA>  Collector's Set   \n",
       "...         ...    ...        ...    ...              ...   \n",
       "143962        1     JP 1999-12-16   <NA>     Starter Deck   \n",
       "143963        1     JP 1999-12-16   <NA>     Starter Deck   \n",
       "143964        2     JP 1999-12-16   <NA>     Starter Deck   \n",
       "143965        1     JP 1999-12-16   <NA>     Starter Deck   \n",
       "143966        1     JP 1999-12-16   <NA>     Starter Deck   \n",
       "\n",
       "                       Cover card  \\\n",
       "6632                          NaN   \n",
       "6677                          NaN   \n",
       "6722                          NaN   \n",
       "6770                          NaN   \n",
       "6815                          NaN   \n",
       "...                           ...   \n",
       "143962  (Blue-Eyes White Dragon,)   \n",
       "143963  (Blue-Eyes White Dragon,)   \n",
       "143964  (Blue-Eyes White Dragon,)   \n",
       "143965  (Blue-Eyes White Dragon,)   \n",
       "143966  (Blue-Eyes White Dragon,)   \n",
       "\n",
       "                                             Page URL   Modification date  \\\n",
       "6632    https://yugipedia.com/wiki/Legendary_Decks_II 2022-01-18 14:06:23   \n",
       "6677    https://yugipedia.com/wiki/Legendary_Decks_II 2022-01-18 14:06:23   \n",
       "6722    https://yugipedia.com/wiki/Legendary_Decks_II 2022-01-18 14:06:23   \n",
       "6770    https://yugipedia.com/wiki/Legendary_Decks_II 2022-01-18 14:06:23   \n",
       "6815    https://yugipedia.com/wiki/Legendary_Decks_II 2022-01-18 14:06:23   \n",
       "...                                               ...                 ...   \n",
       "143962      https://yugipedia.com/wiki/EX_Starter_Box 2022-05-01 06:51:59   \n",
       "143963      https://yugipedia.com/wiki/EX_Starter_Box 2022-05-01 06:51:59   \n",
       "143964      https://yugipedia.com/wiki/EX_Starter_Box 2022-05-01 06:51:59   \n",
       "143965      https://yugipedia.com/wiki/EX_Starter_Box 2022-05-01 06:51:59   \n",
       "143966      https://yugipedia.com/wiki/EX_Starter_Box 2022-05-01 06:51:59   \n",
       "\n",
       "       _merge  \n",
       "6632     both  \n",
       "6677     both  \n",
       "6722     both  \n",
       "6770     both  \n",
       "6815     both  \n",
       "...       ...  \n",
       "143962   both  \n",
       "143963   both  \n",
       "143964   both  \n",
       "143965   both  \n",
       "143966   both  \n",
       "\n",
       "[714 rows x 14 columns]"
      ]
     },
     "execution_count": 16,
     "metadata": {},
     "output_type": "execute_result"
    }
   ],
   "source": [
    "all_set_lists_df[all_set_lists_df['Name'].isna() | all_set_lists_df['Card number'].isna()]"
   ]
  },
  {
   "cell_type": "markdown",
   "id": "e8543cd1-14cc-4afe-937c-8ddad00e28ac",
   "metadata": {
    "papermill": {
     "duration": 0.848538,
     "end_time": "2023-02-06T05:15:12.169998",
     "exception": false,
     "start_time": "2023-02-06T05:15:11.321460",
     "status": "completed"
    },
    "tags": []
   },
   "source": [
    "## Has nan rarity"
   ]
  },
  {
   "cell_type": "code",
   "execution_count": 17,
   "id": "902b60d0-8f15-4ad8-ad76-c937f0889c6a",
   "metadata": {
    "papermill": {
     "duration": 2.42948,
     "end_time": "2023-02-06T05:15:15.378759",
     "exception": false,
     "start_time": "2023-02-06T05:15:12.949279",
     "status": "completed"
    },
    "tags": []
   },
   "outputs": [
    {
     "data": {
      "text/plain": [
       "array(['Dark Beginning 2', 'Dark Revelation Volume 2',\n",
       "       'Advanced Tournament Pack 2016 Vol.1',\n",
       "       'Advanced Tournament Pack 2013 Vol.4',\n",
       "       'The Valuable Book character cards', 'Dark Beginning 1',\n",
       "       'Advanced Event Pack 2013 Vol.2', 'V Jump April 2013 Tokens',\n",
       "       'Dark Revelation Volume 1', 'Advanced Tournament Pack 2013 Vol.3',\n",
       "       'Advanced Event Pack 2014 Vol.1', 'Classic Pack 03',\n",
       "       'Deck Build Pack: Wild Survivors', 'Duelist Nexus'], dtype=object)"
      ]
     },
     "execution_count": 17,
     "metadata": {},
     "output_type": "execute_result"
    }
   ],
   "source": [
    "all_set_lists_df.explode('Rarity')[all_set_lists_df.explode('Rarity')['Rarity'].isna()]['Set'].unique()"
   ]
  },
  {
   "cell_type": "markdown",
   "id": "330f97d2-0a01-4cf5-a2a5-2df2c08ffbc6",
   "metadata": {
    "papermill": {
     "duration": 0.569002,
     "end_time": "2023-02-06T05:15:16.480742",
     "exception": false,
     "start_time": "2023-02-06T05:15:15.911740",
     "status": "completed"
    },
    "tags": []
   },
   "source": [
    "## Has nan release"
   ]
  },
  {
   "cell_type": "code",
   "execution_count": 18,
   "id": "dd4a54bc-ff61-4044-a480-272a75584e91",
   "metadata": {
    "papermill": {
     "duration": 0.685375,
     "end_time": "2023-02-06T05:15:17.469888",
     "exception": false,
     "start_time": "2023-02-06T05:15:16.784513",
     "status": "completed"
    },
    "tags": []
   },
   "outputs": [
    {
     "data": {
      "text/plain": [
       "array(['Astral Pack Two',\n",
       "       'Invasion: Vengeance Sneak Peek Participation Card',\n",
       "       'Raging Battle Sneak Peek Participation Card',\n",
       "       'Sneak Peek Participation Cards',\n",
       "       'Yu-Gi-Oh! Power of Chaos: Kaiba the Revenge promotional cards',\n",
       "       'Dimension of Chaos Sneak Peek Participation Card',\n",
       "       'Millennium Pack', 'Shonen Jump Vol. 10, Issue 1 promotional card',\n",
       "       \"Yu-Gi-Oh! 5D's World Championship 2011: Over the Nexus promotional cards\",\n",
       "       'Hobby League 7 participation card D',\n",
       "       'Shadow Specters Sneak Peek Participation Card',\n",
       "       'The Valuable Book promotional cards',\n",
       "       \"Yu-Gi-Oh! 5D's Volume 1 promotional card\",\n",
       "       'Structure Deck: Machine Re-Volt Special Edition',\n",
       "       'Shonen Jump Vol. 7, Issue 6 promotional card',\n",
       "       'Hobby League 6 participation card E',\n",
       "       'Shonen Jump Vol. 4, Issue 11 promotional card',\n",
       "       'Legacy of the Valiant Sneak Peek Participation Card',\n",
       "       'Secrets of Eternity Sneak Peek Participation Card',\n",
       "       'Yu-Gi-Oh! R promotional cards',\n",
       "       'Yu-Gi-Oh! Worldwide Edition: Stairway to the Destined Duel promotional cards',\n",
       "       \"Structure Deck: Dinosaur's Rage Special Edition\",\n",
       "       \"Yu-Gi-Oh! 5D's Wheelie Breakers promotional cards\",\n",
       "       'Ancient Prophecy Sneak Peek Participation Card',\n",
       "       'Astral Pack One', 'The Lost Millennium: Special Edition',\n",
       "       'Shonen Jump Vol. 10, Issue 3 promotional card',\n",
       "       'Yu-Gi-Oh! GX Volume 4 promotional card',\n",
       "       'Yu-Gi-Oh! GX manga promotional cards',\n",
       "       'Shonen Jump Vol. 3, Issue 6 promotional card',\n",
       "       'The Valuable Book character cards',\n",
       "       'Crossed Souls Sneak Peek Participation Card',\n",
       "       'Duelist League Demo 2010',\n",
       "       'Shonen Jump Vol. 9, Issue 4 promotional card',\n",
       "       'Hobby League 6 participation card F',\n",
       "       'Hobby League participation cards',\n",
       "       'Shonen Jump Vol. 4, Issue 12 promotional card',\n",
       "       'Yu-Gi-Oh! Championship Series Prize Cards',\n",
       "       'Shonen Jump December 2010 subscription bonus',\n",
       "       'Shonen Jump Vol. 6, Issue 5 promotional card',\n",
       "       'Hobby League 6 participation card A',\n",
       "       'The New Challengers Sneak Peek Participation Card',\n",
       "       \"Yu-Gi-Oh! 5D's manga promotional cards\",\n",
       "       'Shadow of Infinity: Special Edition',\n",
       "       'Shonen Jump Vol. 10, Issue 4 promotional card',\n",
       "       'Shonen Jump Scholastic Edition Vol. 9, Issue 1 promotional card',\n",
       "       'Shonen Jump Vol. 3, Issue 9 promotional card',\n",
       "       'Shonen Jump Vol. 7, Issue 9 promotional card',\n",
       "       'Hobby League 7 participation card A',\n",
       "       'Shonen Jump Vol. 9, Issue 6 promotional card',\n",
       "       'Shonen Jump May 2008 subscription bonus',\n",
       "       'Shonen Jump Vol. 5, Issue 1 promotional card',\n",
       "       'Shonen Jump June/July 2011 subscription bonus',\n",
       "       'Shonen Jump Vol. 7, Issue 3 promotional card',\n",
       "       'Hobby League 6 participation card B', 'Banzai! promotional cards',\n",
       "       'Shonen Jump August 2008 subscription bonus',\n",
       "       'Shonen Jump Vol. 3, Issue 11 promotional card',\n",
       "       \"Structure Deck: Dinosaur's Rage Special Set\",\n",
       "       'Hobby League 7 participation card B',\n",
       "       'Shonen Jump Vol. 9, Issue 8 promotional card',\n",
       "       'Shonen Jump Vol. 5, Issue 6 promotional card',\n",
       "       'Shonen Jump Vol. 6, Issue 9 promotional card',\n",
       "       'Hobby League 6 participation card C',\n",
       "       'Shonen Jump May 2006 subscription bonus',\n",
       "       'Shonen Jump Vol. 6, Issue 1 promotional card',\n",
       "       'Ancient Sanctuary', 'Shonen Jump May 2010 subscription bonus',\n",
       "       'Shonen Jump Championship Series Prize Cards',\n",
       "       'Shonen Jump Vol. 4, Issue 2 promotional card',\n",
       "       'Shonen Jump Vol. 7, Issue 11 promotional card',\n",
       "       'Ultimate Edition',\n",
       "       'Shonen Jump Vol. 9, Issue 10 promotional card',\n",
       "       'Hobby League 7 participation card C', 'The Sanctuary in the Sky',\n",
       "       'Shonen Jump Vol. 9, Issue 1 promotional card',\n",
       "       'Hobby League 6 participation card D',\n",
       "       'Yu-Gi-Oh! The Official Magazine promotional cards',\n",
       "       '2013 Collectible Tins', 'Booster Pack Tin Series Promos',\n",
       "       'Chinese Weekly Shōnen Jump lottery prize cards',\n",
       "       'Collectible Tins 2005', 'Collectible Tins 2006',\n",
       "       'Collectible Tins 2007', 'Collectible Tins 2008',\n",
       "       'Collectible Tins 2008 Wave 2', 'Collectible Tins 2009',\n",
       "       'Collectible Tins 2010', 'Collectible Tins 2011',\n",
       "       'Collectible Tins 2012',\n",
       "       'Continuous Token Gifts Promotional Cards', 'Demo Pack',\n",
       "       'Duelist League 18 participation cards',\n",
       "       'Duelist League Series 1 participation cards',\n",
       "       'Duelist League Series 2 participation cards',\n",
       "       'Duelist Pack: Yugi', 'Exclusive Pack', 'Judge promotional cards'],\n",
       "      dtype=object)"
      ]
     },
     "execution_count": 18,
     "metadata": {},
     "output_type": "execute_result"
    }
   ],
   "source": [
    "all_set_lists_df[all_set_lists_df['Release'].isna()]['Set'].unique()"
   ]
  },
  {
   "cell_type": "markdown",
   "id": "7a035371-3f6c-4c48-a7e9-5d79dfe7c493",
   "metadata": {
    "papermill": {
     "duration": 0.311069,
     "end_time": "2023-02-06T05:15:18.081569",
     "exception": false,
     "start_time": "2023-02-06T05:15:17.770500",
     "status": "completed"
    },
    "tags": []
   },
   "source": [
    "## Merge failed"
   ]
  },
  {
   "cell_type": "code",
   "execution_count": 6,
   "id": "7464fb8b-e01d-4d48-ae5d-84d3827ac842",
   "metadata": {
    "papermill": {
     "duration": 0.33175,
     "end_time": "2023-02-06T05:15:18.727491",
     "exception": false,
     "start_time": "2023-02-06T05:15:18.395741",
     "status": "completed"
    },
    "tags": []
   },
   "outputs": [
    {
     "data": {
      "text/html": [
       "<div>\n",
       "<style scoped>\n",
       "    .dataframe tbody tr th:only-of-type {\n",
       "        vertical-align: middle;\n",
       "    }\n",
       "\n",
       "    .dataframe tbody tr th {\n",
       "        vertical-align: top;\n",
       "    }\n",
       "\n",
       "    .dataframe thead th {\n",
       "        text-align: right;\n",
       "    }\n",
       "</style>\n",
       "<table border=\"1\" class=\"dataframe\">\n",
       "  <thead>\n",
       "    <tr style=\"text-align: right;\">\n",
       "      <th></th>\n",
       "      <th>Set</th>\n",
       "      <th>Card number</th>\n",
       "      <th>Name</th>\n",
       "      <th>Rarity</th>\n",
       "      <th>Print</th>\n",
       "      <th>Quantity</th>\n",
       "      <th>Region</th>\n",
       "      <th>Release</th>\n",
       "      <th>Series</th>\n",
       "      <th>Set type</th>\n",
       "      <th>Cover card</th>\n",
       "      <th>Page URL</th>\n",
       "      <th>Modification date</th>\n",
       "      <th>_merge</th>\n",
       "    </tr>\n",
       "  </thead>\n",
       "  <tbody>\n",
       "  </tbody>\n",
       "</table>\n",
       "</div>"
      ],
      "text/plain": [
       "Empty DataFrame\n",
       "Columns: [Set, Card number, Name, Rarity, Print, Quantity, Region, Release, Series, Set type, Cover card, Page URL, Modification date, _merge]\n",
       "Index: []"
      ]
     },
     "execution_count": 6,
     "metadata": {},
     "output_type": "execute_result"
    }
   ],
   "source": [
    "all_set_lists_df[all_set_lists_df['_merge']=='right_only']"
   ]
  },
  {
   "cell_type": "code",
   "execution_count": 10,
   "id": "e4d242eb-2158-4f4f-9a7e-9baa4b043ab3",
   "metadata": {
    "papermill": {
     "duration": 0.317114,
     "end_time": "2023-02-06T05:15:19.344645",
     "exception": false,
     "start_time": "2023-02-06T05:15:19.027531",
     "status": "completed"
    },
    "tags": []
   },
   "outputs": [
    {
     "data": {
      "text/html": [
       "<div>\n",
       "<style scoped>\n",
       "    .dataframe tbody tr th:only-of-type {\n",
       "        vertical-align: middle;\n",
       "    }\n",
       "\n",
       "    .dataframe tbody tr th {\n",
       "        vertical-align: top;\n",
       "    }\n",
       "\n",
       "    .dataframe thead th {\n",
       "        text-align: right;\n",
       "    }\n",
       "</style>\n",
       "<table border=\"1\" class=\"dataframe\">\n",
       "  <thead>\n",
       "    <tr style=\"text-align: right;\">\n",
       "      <th></th>\n",
       "      <th>Set</th>\n",
       "      <th>Card number</th>\n",
       "      <th>Name</th>\n",
       "      <th>Rarity</th>\n",
       "      <th>Print</th>\n",
       "      <th>Quantity</th>\n",
       "      <th>Region</th>\n",
       "      <th>Release</th>\n",
       "      <th>Series</th>\n",
       "      <th>Set type</th>\n",
       "      <th>Cover card</th>\n",
       "      <th>Page URL</th>\n",
       "      <th>Modification date</th>\n",
       "      <th>_merge</th>\n",
       "    </tr>\n",
       "  </thead>\n",
       "  <tbody>\n",
       "    <tr>\n",
       "      <th>63351</th>\n",
       "      <td>Structure Deck: Dinosaur's Rage Special Edition</td>\n",
       "      <td>SD09-JPS01</td>\n",
       "      <td>Super Conductor Tyranno</td>\n",
       "      <td>(Ultimate Rare,)</td>\n",
       "      <td>&lt;NA&gt;</td>\n",
       "      <td>&lt;NA&gt;</td>\n",
       "      <td>JP</td>\n",
       "      <td>NaT</td>\n",
       "      <td>&lt;NA&gt;</td>\n",
       "      <td>&lt;NA&gt;</td>\n",
       "      <td>NaN</td>\n",
       "      <td>&lt;NA&gt;</td>\n",
       "      <td>NaT</td>\n",
       "      <td>left_only</td>\n",
       "    </tr>\n",
       "    <tr>\n",
       "      <th>63352</th>\n",
       "      <td>Structure Deck: Dinosaur's Rage Special Edition</td>\n",
       "      <td>SD09-KRSE1</td>\n",
       "      <td>Hidden Armory</td>\n",
       "      <td>(Secret rare,)</td>\n",
       "      <td>&lt;NA&gt;</td>\n",
       "      <td>&lt;NA&gt;</td>\n",
       "      <td>KR</td>\n",
       "      <td>NaT</td>\n",
       "      <td>&lt;NA&gt;</td>\n",
       "      <td>&lt;NA&gt;</td>\n",
       "      <td>NaN</td>\n",
       "      <td>&lt;NA&gt;</td>\n",
       "      <td>NaT</td>\n",
       "      <td>left_only</td>\n",
       "    </tr>\n",
       "    <tr>\n",
       "      <th>81626</th>\n",
       "      <td>The Valuable Book character cards</td>\n",
       "      <td>&lt;NA&gt;</td>\n",
       "      <td>Joey</td>\n",
       "      <td>None</td>\n",
       "      <td>&lt;NA&gt;</td>\n",
       "      <td>&lt;NA&gt;</td>\n",
       "      <td>JP</td>\n",
       "      <td>NaT</td>\n",
       "      <td>&lt;NA&gt;</td>\n",
       "      <td>&lt;NA&gt;</td>\n",
       "      <td>NaN</td>\n",
       "      <td>&lt;NA&gt;</td>\n",
       "      <td>NaT</td>\n",
       "      <td>left_only</td>\n",
       "    </tr>\n",
       "    <tr>\n",
       "      <th>81627</th>\n",
       "      <td>The Valuable Book character cards</td>\n",
       "      <td>&lt;NA&gt;</td>\n",
       "      <td>Kaiba</td>\n",
       "      <td>None</td>\n",
       "      <td>&lt;NA&gt;</td>\n",
       "      <td>&lt;NA&gt;</td>\n",
       "      <td>JP</td>\n",
       "      <td>NaT</td>\n",
       "      <td>&lt;NA&gt;</td>\n",
       "      <td>&lt;NA&gt;</td>\n",
       "      <td>NaN</td>\n",
       "      <td>&lt;NA&gt;</td>\n",
       "      <td>NaT</td>\n",
       "      <td>left_only</td>\n",
       "    </tr>\n",
       "    <tr>\n",
       "      <th>81628</th>\n",
       "      <td>The Valuable Book character cards</td>\n",
       "      <td>&lt;NA&gt;</td>\n",
       "      <td>Yugi</td>\n",
       "      <td>None</td>\n",
       "      <td>&lt;NA&gt;</td>\n",
       "      <td>&lt;NA&gt;</td>\n",
       "      <td>JP</td>\n",
       "      <td>NaT</td>\n",
       "      <td>&lt;NA&gt;</td>\n",
       "      <td>&lt;NA&gt;</td>\n",
       "      <td>NaN</td>\n",
       "      <td>&lt;NA&gt;</td>\n",
       "      <td>NaT</td>\n",
       "      <td>left_only</td>\n",
       "    </tr>\n",
       "    <tr>\n",
       "      <th>81629</th>\n",
       "      <td>The Valuable Book character cards</td>\n",
       "      <td>&lt;NA&gt;</td>\n",
       "      <td>Pegasus</td>\n",
       "      <td>None</td>\n",
       "      <td>&lt;NA&gt;</td>\n",
       "      <td>&lt;NA&gt;</td>\n",
       "      <td>JP</td>\n",
       "      <td>NaT</td>\n",
       "      <td>&lt;NA&gt;</td>\n",
       "      <td>&lt;NA&gt;</td>\n",
       "      <td>NaN</td>\n",
       "      <td>&lt;NA&gt;</td>\n",
       "      <td>NaT</td>\n",
       "      <td>left_only</td>\n",
       "    </tr>\n",
       "  </tbody>\n",
       "</table>\n",
       "</div>"
      ],
      "text/plain": [
       "                                                   Set Card number  \\\n",
       "63351  Structure Deck: Dinosaur's Rage Special Edition  SD09-JPS01   \n",
       "63352  Structure Deck: Dinosaur's Rage Special Edition  SD09-KRSE1   \n",
       "81626                The Valuable Book character cards        <NA>   \n",
       "81627                The Valuable Book character cards        <NA>   \n",
       "81628                The Valuable Book character cards        <NA>   \n",
       "81629                The Valuable Book character cards        <NA>   \n",
       "\n",
       "                          Name            Rarity Print Quantity Region  \\\n",
       "63351  Super Conductor Tyranno  (Ultimate Rare,)  <NA>     <NA>     JP   \n",
       "63352            Hidden Armory    (Secret rare,)  <NA>     <NA>     KR   \n",
       "81626                     Joey              None  <NA>     <NA>     JP   \n",
       "81627                    Kaiba              None  <NA>     <NA>     JP   \n",
       "81628                     Yugi              None  <NA>     <NA>     JP   \n",
       "81629                  Pegasus              None  <NA>     <NA>     JP   \n",
       "\n",
       "      Release Series Set type Cover card Page URL Modification date     _merge  \n",
       "63351     NaT   <NA>     <NA>        NaN     <NA>               NaT  left_only  \n",
       "63352     NaT   <NA>     <NA>        NaN     <NA>               NaT  left_only  \n",
       "81626     NaT   <NA>     <NA>        NaN     <NA>               NaT  left_only  \n",
       "81627     NaT   <NA>     <NA>        NaN     <NA>               NaT  left_only  \n",
       "81628     NaT   <NA>     <NA>        NaN     <NA>               NaT  left_only  \n",
       "81629     NaT   <NA>     <NA>        NaN     <NA>               NaT  left_only  "
      ]
     },
     "execution_count": 10,
     "metadata": {},
     "output_type": "execute_result"
    }
   ],
   "source": [
    "all_set_lists_df[all_set_lists_df['_merge']=='left_only']"
   ]
  },
  {
   "cell_type": "markdown",
   "id": "a5448b9b-6ecd-443f-9365-f3a686d4ca82",
   "metadata": {
    "papermill": {
     "duration": 0.805011,
     "end_time": "2023-02-06T05:15:22.264093",
     "exception": false,
     "start_time": "2023-02-06T05:15:21.459082",
     "status": "completed"
    },
    "tags": []
   },
   "source": [
    " # Epilogue"
   ]
  },
  {
   "cell_type": "code",
   "execution_count": null,
   "id": "fcb1adf8-8e28-49e6-8162-45f102c511ee",
   "metadata": {
    "papermill": {
     "duration": 0.553311,
     "end_time": "2023-02-06T05:15:23.121896",
     "exception": false,
     "start_time": "2023-02-06T05:15:22.568585",
     "status": "completed"
    },
    "tags": []
   },
   "outputs": [],
   "source": [
    "footer()"
   ]
  },
  {
   "cell_type": "markdown",
   "id": "924c84f0-96b0-4575-82f0-e4d8af6e68e4",
   "metadata": {
    "papermill": {
     "duration": 0.369331,
     "end_time": "2023-02-06T05:15:23.857409",
     "exception": false,
     "start_time": "2023-02-06T05:15:23.488078",
     "status": "completed"
    },
    "tags": []
   },
   "source": [
    "## HTML export"
   ]
  },
  {
   "cell_type": "code",
   "execution_count": null,
   "id": "ad2aef41-90e8-4d7a-abdf-b3cab76f8945",
   "metadata": {
    "papermill": {
     "duration": 0.329474,
     "end_time": "2023-02-06T05:15:24.519679",
     "exception": false,
     "start_time": "2023-02-06T05:15:24.190205",
     "status": "completed"
    },
    "tags": []
   },
   "outputs": [],
   "source": [
    "# May need to sleep for a few seconds after saving\n",
    "save_notebook()"
   ]
  },
  {
   "cell_type": "code",
   "execution_count": null,
   "id": "b6a35c5d-b424-4820-8d26-8be29b50c546",
   "metadata": {
    "papermill": {
     "duration": 12.456434,
     "end_time": "2023-02-06T05:15:37.281022",
     "exception": false,
     "start_time": "2023-02-06T05:15:24.824588",
     "status": "completed"
    },
    "tags": []
   },
   "outputs": [],
   "source": [
    "! jupyter nbconvert Sets.ipynb --output-dir='../' --to=HTML --TagRemovePreprocessor.enabled=True --TagRemovePreprocessor.remove_cell_tags='exclude' --TemplateExporter.exclude_input=True --TemplateExporter.exclude_input_prompt=True --TemplateExporter.exclude_output_prompt=True"
   ]
  },
  {
   "cell_type": "markdown",
   "id": "a2b08f73-ccfd-4535-95cb-830d0ccdb9de",
   "metadata": {
    "papermill": {
     "duration": 0.333111,
     "end_time": "2023-02-06T05:15:37.918999",
     "exception": false,
     "start_time": "2023-02-06T05:15:37.585888",
     "status": "completed"
    },
    "tags": [
     "exclude"
    ]
   },
   "source": [
    "## Git"
   ]
  },
  {
   "cell_type": "code",
   "execution_count": null,
   "id": "cba1eb00-d9c2-491a-95b3-5ce0a0524d59",
   "metadata": {
    "papermill": {
     "duration": 4.234077,
     "end_time": "2023-02-06T05:15:42.541536",
     "exception": false,
     "start_time": "2023-02-06T05:15:38.307459",
     "status": "completed"
    },
    "tags": [
     "exclude"
    ]
   },
   "outputs": [],
   "source": [
    "! git add \"../*[Ss]ets[._]*\""
   ]
  },
  {
   "cell_type": "code",
   "execution_count": null,
   "id": "6f1f8303-30c6-4aaa-b45e-f6d5f5ece30e",
   "metadata": {
    "papermill": {
     "duration": 7.485391,
     "end_time": "2023-02-06T05:15:50.339241",
     "exception": false,
     "start_time": "2023-02-06T05:15:42.853850",
     "status": "completed"
    },
    "tags": [
     "exclude"
    ]
   },
   "outputs": [],
   "source": [
    "! git commit -m {\"'Sets update-\" + timestamp.isoformat() + \"'\"}"
   ]
  }
 ],
 "metadata": {
  "kernelspec": {
   "display_name": "Python 3 (ipykernel)",
   "language": "python",
   "name": "python3"
  },
  "language_info": {
   "codemirror_mode": {
    "name": "ipython",
    "version": 3
   },
   "file_extension": ".py",
   "mimetype": "text/x-python",
   "name": "python",
   "nbconvert_exporter": "python",
   "pygments_lexer": "ipython3",
   "version": "3.10.8"
  },
  "papermill": {
   "default_parameters": {},
   "duration": 569.320467,
   "end_time": "2023-02-06T05:15:53.571801",
   "environment_variables": {},
   "exception": null,
   "input_path": "Sets.ipynb",
   "output_path": "Sets.ipynb",
   "parameters": {},
   "start_time": "2023-02-06T05:06:24.251334",
   "version": "2.4.0"
  },
  "toc": {
   "base_numbering": 1,
   "nav_menu": {},
   "number_sections": true,
   "sideBar": true,
   "skip_h1_title": false,
   "title_cell": "Table of Contents",
   "title_sidebar": "Contents",
   "toc_cell": true,
   "toc_position": {
    "height": "calc(100% - 180px)",
    "left": "10px",
    "top": "150px",
    "width": "288px"
   },
   "toc_section_display": true,
   "toc_window_display": true
  },
  "toc-autonumbering": false,
  "toc-showcode": false,
  "toc-showmarkdowntxt": false,
  "toc-showtags": false
 },
 "nbformat": 4,
 "nbformat_minor": 5
}
