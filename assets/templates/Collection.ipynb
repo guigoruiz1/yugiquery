{
 "cells": [
  {
   "cell_type": "code",
   "execution_count": null,
   "id": "0",
   "metadata": {
    "papermill": {
     "duration": 2.114388,
     "end_time": "2023-02-22T22:24:17.995164",
     "exception": false,
     "start_time": "2023-02-22T22:24:15.880776",
     "status": "completed"
    },
    "tags": []
   },
   "outputs": [],
   "source": [
    "from yugiquery import *\n",
    "\n",
    "init_notebook_mode(all_interactive=True)\n",
    "\n",
    "header(\"My Collection\")"
   ]
  },
  {
   "cell_type": "markdown",
   "id": "1",
   "metadata": {
    "papermill": {
     "duration": 0.063612,
     "end_time": "2023-02-22T22:24:18.102172",
     "exception": false,
     "start_time": "2023-02-22T22:24:18.038560",
     "status": "completed"
    },
    "tags": []
   },
   "source": [
    "---"
   ]
  },
  {
   "cell_type": "markdown",
   "id": "2",
   "metadata": {
    "papermill": {
     "duration": 0.041131,
     "end_time": "2023-02-22T22:24:18.189667",
     "exception": false,
     "start_time": "2023-02-22T22:24:18.148536",
     "status": "completed"
    },
    "tags": [],
    "toc": true
   },
   "source": [
    "Table of Contents\n",
    "=================\n",
    "\n",
    "*   [1  Data loading](#Data-loading)\n",
    "    *   [1.1  Read collection](#Read-collection)\n",
    "*   [2  Check changes](#Check-changes)\n",
    "    *   [2.1  Load previous data](#Load-previous-data)\n",
    "    *   [2.2  Generate changelog](#Generate-changelog)\n",
    "    *   [2.3  Save data](#Save-data)\n",
    "*   [3  Data visualization](#Data-visualization)\n",
    "    *   [3.1  Full data](#Full-data)\n",
    "    *   [3.2  Card types](#Card-types)\n",
    "    *   [3.3  Monsters](#Monsters)\n",
    "        *   [3.3.1  Attributes](#Attributes)\n",
    "        *   [3.3.2  Primary types](#Primary-types)\n",
    "            *   [3.3.2.1  Has effect discrimination](#Has-effect-discrimination)\n",
    "            *   [3.3.2.2  Is pendulum discrimination](#Is-pendulum-discrimination)\n",
    "            *   [3.3.2.3  By attribute](#By-attribute)\n",
    "        *   [3.3.3  Secondary types](#Secondary-types)\n",
    "            *   [3.3.3.1  By attribute](#By-attribute)\n",
    "            *   [3.3.3.2  By secondary type](#By-secondary-type)\n",
    "        *   [3.3.4  Monster types](#Monster-types)\n",
    "            *   [3.3.4.1  By Attribute](#By-Attribute)\n",
    "            *   [3.3.4.2  By primary type](#By-primary-type)\n",
    "            *   [3.3.4.3  By secondary type](#By-secondary-type)\n",
    "        *   [3.3.5  ATK](#ATK)\n",
    "        *   [3.3.6  DEF](#DEF)\n",
    "        *   [3.3.7  Level/Rank](#Level/Rank)\n",
    "            *   [3.3.7.1  ATK statistics](#ATK-statistics)\n",
    "            *   [3.3.7.2  DEF statistics](#DEF-statistics)\n",
    "        *   [3.3.8  Pendulum scale](#Pendulum-scale)\n",
    "            *   [3.3.8.1  ATK statistics](#ATK-statistics)\n",
    "            *   [3.3.8.2  DEF statistics](#DEF-statistics)\n",
    "            *   [3.3.8.3  Level/Rank statistics](#Level/Rank-statistics)\n",
    "        *   [3.3.9  Link](#Link)\n",
    "            *   [3.3.9.1  ATK statistics](#ATK-statistics)\n",
    "        *   [3.3.10  Link Arrows](#Link-Arrows)\n",
    "            *   [3.3.10.1  By combination](#By-combination)\n",
    "            *   [3.3.10.2  By unique](#By-unique)\n",
    "            *   [3.3.10.3  By link](#By-link)\n",
    "    *   [3.4  Spell & Trap](#Spell-&-Trap)\n",
    "        *   [3.4.1  Properties](#Properties)\n",
    "    *   [3.5  Effect type](#Effect-type)\n",
    "        *   [3.5.1  Card type discrimination](#Card-type-discrimination)\n",
    "    *   [3.6  Archseries](#Archseries)\n",
    "        *   [3.6.1  By card type](#By-card-type)\n",
    "        *   [3.6.2  By primary type](#By-primary-type)\n",
    "        *   [3.6.3  By secondary type](#By-secondary-type)\n",
    "        *   [3.6.4  By monster type](#By-monster-type)\n",
    "        *   [3.6.5  By property](#By-property)\n",
    "    *   [3.7  Artworks](#Artworks)\n",
    "        *   [3.7.1  By card type](#By-card-type)\n",
    "        *   [3.7.2  By primary type](#By-primary-type)\n",
    "    *   [3.8  Errata](#Errata)\n",
    "        *   [3.8.1  By card type](#By-card-type)\n",
    "        *   [3.8.2  By primary type](#By-primary-type)\n",
    "        *   [3.8.3  By artwork](#By-artwork)\n",
    "    *   [3.9  TCG & OCG status](#TCG-&-OCG-status)\n",
    "        *   [3.9.1  TGC status](#TGC-status)\n",
    "            *   [3.9.1.1  By card type](#By-card-type)\n",
    "            *   [3.9.1.2  By monster type](#By-monster-type)\n",
    "            *   [3.9.1.3  By archseries](#By-archseries)\n",
    "        *   [3.9.2  OCG status](#OCG-status)\n",
    "            *   [3.9.2.1  By card type](#By-card-type)\n",
    "            *   [3.9.2.2  By monster type](#By-monster-type)\n",
    "            *   [3.9.2.3  By archseries](#By-archseries)\n",
    "        *   [3.9.3  TCG vs. OCG status](#TCG-vs.-OCG-status)\n",
    "*   [4  Epilogue](#Epilogue)\n",
    "    *   [4.1  HTML export](#HTML-export)\n",
    "<!-- *   [4.2  Git](#Git) -->"
   ]
  },
  {
   "cell_type": "markdown",
   "id": "3",
   "metadata": {
    "papermill": {
     "duration": 0.040783,
     "end_time": "2023-02-22T22:24:18.272311",
     "exception": false,
     "start_time": "2023-02-22T22:24:18.231528",
     "status": "completed"
    },
    "tags": []
   },
   "source": [
    "# Data loading"
   ]
  },
  {
   "cell_type": "markdown",
   "id": "4",
   "metadata": {
    "papermill": {
     "duration": 0.041502,
     "end_time": "2023-02-22T22:24:18.354961",
     "exception": false,
     "start_time": "2023-02-22T22:24:18.313459",
     "status": "completed"
    },
    "tags": []
   },
   "source": [
    "## Read collection"
   ]
  },
  {
   "cell_type": "code",
   "execution_count": null,
   "id": "5",
   "metadata": {
    "papermill": {
     "duration": 0.051187,
     "end_time": "2023-02-22T22:24:18.447381",
     "exception": false,
     "start_time": "2023-02-22T22:24:18.396194",
     "status": "completed"
    },
    "tags": []
   },
   "outputs": [],
   "source": [
    "# Timestamp\n",
    "timestamp = arrow.utcnow()"
   ]
  },
  {
   "cell_type": "code",
   "execution_count": null,
   "id": "6",
   "metadata": {},
   "outputs": [],
   "source": [
    "git.ensure_repo()"
   ]
  },
  {
   "cell_type": "code",
   "execution_count": null,
   "id": "7",
   "metadata": {},
   "outputs": [],
   "source": [
    "import requests\n",
    "\n",
    "\n",
    "def read_ydk(file_path):\n",
    "    with open(file_path, \"r\") as file:\n",
    "        lines = file.readlines()\n",
    "\n",
    "    data = []\n",
    "    current_section = None\n",
    "\n",
    "    for line in lines:\n",
    "        line = line.strip()\n",
    "        if not line:  # Skip empty lines\n",
    "            continue\n",
    "        if line in [\"#main\", \"#extra\", \"!side\"]:\n",
    "            current_section = line[1:].capitalize()\n",
    "        elif current_section:\n",
    "            data.append({\"Code\": line, \"Section\": current_section, \"Deck\": file_path.stem})\n",
    "\n",
    "    # Create a DataFrame\n",
    "    df = pd.DataFrame(data)\n",
    "    return df\n",
    "\n",
    "\n",
    "def read_decklist(file_path):\n",
    "    with open(file_path, \"r\") as file:\n",
    "        lines = file.readlines()\n",
    "\n",
    "    data = []\n",
    "    current_section = None\n",
    "\n",
    "    for line in lines:\n",
    "        line = line.strip()\n",
    "        if not line:  # Skip empty lines\n",
    "            continue\n",
    "        if line.endswith(\":\"):  # Section header\n",
    "            current_section = line[:-1].capitalize()\n",
    "        elif current_section:\n",
    "            quantity, card_name = line.split(\"x \", 1)\n",
    "            quantity = int(quantity)\n",
    "            data.append({\"Name\": card_name, \"Count\": quantity, \"Section\": current_section, \"Deck\": file_path.stem})\n",
    "\n",
    "    # Create a DataFrame\n",
    "    df = pd.DataFrame(data)\n",
    "    return df\n",
    "\n",
    "\n",
    "def fetch_ygoprodeck():\n",
    "    response = requests.get(\"https://db.ygoprodeck.com/api/v7/cardinfo.php\")\n",
    "    response.raise_for_status()\n",
    "    result = response.json()\n",
    "    return result[\"data\"]\n",
    "\n",
    "\n",
    "def convert_ydk(ydk_df):\n",
    "    try:\n",
    "        result = fetch_ygoprodeck()\n",
    "        with open(dirs.DATA.joinpath(\"ygoprodeck.json\"), \"w\") as file:\n",
    "            json.dump(result, file, indent=4)\n",
    "        ydk_data = pd.DataFrame(result).set_index(\"id\")\n",
    "    except Exception as e:\n",
    "        print(e)\n",
    "        ydk_data = pd.read_json(dirs.DATA.joinpath(\"ygoprodeck.json\")).set_index(\"id\")\n",
    "\n",
    "    ydk_df = ydk_df.copy()\n",
    "\n",
    "    def get_ydk_card(code):\n",
    "        code = int(code)\n",
    "        if code not in ydk_data.index:\n",
    "            return np.nan\n",
    "        return ydk_data.loc[code, \"name\"]\n",
    "\n",
    "    ydk_df[\"Name\"] = ydk_df[\"Code\"].apply(get_ydk_card)\n",
    "    not_found = ydk_df[ydk_df[\"Name\"].isna()][\"Code\"].values\n",
    "    if len(not_found) > 0:\n",
    "        print(f\"Could not find {len(not_found)} cards:\")\n",
    "        print(\", \".join(not_found))\n",
    "    ydk_df = ydk_df.drop(\"Code\", axis=1).dropna(subset=[\"Name\"]).reset_index(drop=True)\n",
    "    ydk_df[\"Count\"] = ydk_df.groupby([\"Name\", \"Section\", \"Deck\"])[\"Name\"].transform(\"count\")\n",
    "    ydk_df = ydk_df.drop_duplicates().reset_index(drop=True)\n",
    "    return ydk_df"
   ]
  },
  {
   "cell_type": "code",
   "execution_count": null,
   "id": "8",
   "metadata": {},
   "outputs": [],
   "source": [
    "def get_ydk():\n",
    "    ydk_files = list(dirs.DATA.glob(\"*.ydk\"))\n",
    "    ydk_df = pd.DataFrame()\n",
    "    for file in ydk_files:\n",
    "        temp_df = read_ydk(file)\n",
    "        ydk_df = pd.concat([ydk_df, temp_df])\n",
    "        print(f\"Loaded {file.name} deck\")\n",
    "\n",
    "    ydk_df = convert_ydk(ydk_df)\n",
    "    return ydk_df\n",
    "\n",
    "\n",
    "def get_decklist():\n",
    "    decklist_files = list(dirs.DATA.glob(\"*.txt\"))\n",
    "    decklist_df = pd.DataFrame()\n",
    "    for file in decklist_files:\n",
    "        temp_df = read_decklist(file)\n",
    "        decklist_df = pd.concat([decklist_df, temp_df])\n",
    "        print(f\"Loaded {file.name} deck\")\n",
    "\n",
    "    decklist_df.replace({\"Section\": {\"Monster\": \"Main\", \"Spell\": \"Main\", \"Trap\": \"Main\"}}, inplace=True)\n",
    "    return decklist_df"
   ]
  },
  {
   "cell_type": "code",
   "execution_count": null,
   "id": "9",
   "metadata": {},
   "outputs": [],
   "source": [
    "# Get newest file if exist and correct tuples and timestamps\n",
    "tuple_cols = [\n",
    "    \"Secondary type\",\n",
    "    \"Effect type\",\n",
    "    \"Link Arrows\",\n",
    "    \"Archseries\",\n",
    "    \"Artwork\",\n",
    "    \"Errata\",\n",
    "    \"Rarity\",\n",
    "    \"Cover card\",\n",
    "]\n",
    "\n",
    "list_df, _ = load_corrected_latest(\"cards\", tuple_cols)"
   ]
  },
  {
   "cell_type": "code",
   "execution_count": null,
   "id": "10",
   "metadata": {},
   "outputs": [],
   "source": [
    "decks_df = pd.concat([get_ydk(), get_decklist()])\n",
    "decks_df = decks_df.merge(list_df, on=\"Name\", how=\"left\")"
   ]
  },
  {
   "cell_type": "code",
   "execution_count": null,
   "id": "11",
   "metadata": {},
   "outputs": [],
   "source": [
    "decks_df"
   ]
  },
  {
   "cell_type": "code",
   "execution_count": null,
   "id": "12",
   "metadata": {},
   "outputs": [],
   "source": [
    "collection_file = dirs.DATA.joinpath(\"collection.csv\")\n",
    "collection_df = pd.read_csv(collection_file, comment=\"#\")\n",
    "collection_df.dropna(how=\"all\", inplace=True, axis=1)\n",
    "print(f\"Loaded {collection_file.name}\")"
   ]
  },
  {
   "cell_type": "code",
   "execution_count": null,
   "id": "13",
   "metadata": {},
   "outputs": [],
   "source": [
    "if \"Card number\" in collection_df.columns:\n",
    "    set_lists_df, _ = load_corrected_latest(\"sets\", tuple_cols)\n",
    "    extra_names = (\n",
    "        set_lists_df[[\"Name\", \"Card number\"]]\n",
    "        .drop_duplicates(subset=[\"Card number\"])\n",
    "        .merge(collection_df[\"Card number\"].dropna(), on=\"Card number\", how=\"right\")\n",
    "    )\n",
    "    collection_df = pd.concat([collection_df.drop(\"Card number\", axis=1), extra_names], ignore_index=True)\n",
    "\n",
    "if \"Password\" in collection_df.columns:\n",
    "    temp_df = list_df.drop_duplicates(subset=[\"Name\"]).merge(collection_df[\"Name\"].dropna(), on=\"Name\", how=\"right\")\n",
    "    extra_entries = list_df[list_df[\"Password\"].isin(collection_df[\"Password\"].dropna())]\n",
    "    collection_df = pd.concat([temp_df, extra_entries], ignore_index=True)\n",
    "else:\n",
    "    collection_df = list_df.drop_duplicates(subset=[\"Name\"]).merge(collection_df[\"Name\"].dropna(), on=\"Name\", how=\"right\")"
   ]
  },
  {
   "cell_type": "code",
   "execution_count": null,
   "id": "14",
   "metadata": {},
   "outputs": [],
   "source": [
    "collection_df = pd.merge(left=collection_df, right=decks_df, how=\"outer\")"
   ]
  },
  {
   "cell_type": "code",
   "execution_count": null,
   "id": "15",
   "metadata": {},
   "outputs": [],
   "source": [
    "collection_df"
   ]
  },
  {
   "cell_type": "markdown",
   "id": "16",
   "metadata": {
    "papermill": {
     "duration": 0.066959,
     "end_time": "2023-02-22T22:26:28.492052",
     "exception": false,
     "start_time": "2023-02-22T22:26:28.425093",
     "status": "completed"
    },
    "tags": []
   },
   "source": [
    "# Check changes"
   ]
  },
  {
   "cell_type": "markdown",
   "id": "17",
   "metadata": {
    "papermill": {
     "duration": 0.045648,
     "end_time": "2023-02-22T22:26:28.584087",
     "exception": false,
     "start_time": "2023-02-22T22:26:28.538439",
     "status": "completed"
    },
    "tags": []
   },
   "source": [
    "## Load previous data"
   ]
  },
  {
   "cell_type": "code",
   "execution_count": null,
   "id": "18",
   "metadata": {
    "papermill": {
     "duration": 0.66308,
     "end_time": "2023-02-22T22:26:29.293911",
     "exception": false,
     "start_time": "2023-02-22T22:26:28.630831",
     "status": "completed"
    },
    "tags": []
   },
   "outputs": [],
   "source": [
    "# Get latest file if exist\n",
    "tuple_cols = [\n",
    "    \"Effect type\",\n",
    "    \"Secondary type\",\n",
    "    \"Link Arrows\",\n",
    "    \"Archseries\",\n",
    "    \"Artwork\",\n",
    "    \"Errata\",\n",
    "]\n",
    "previous_df, previous_ts = load_corrected_latest(\"collection\", tuple_cols)\n",
    "\n",
    "if previous_df is not None:\n",
    "    previous_df = previous_df.astype(collection_df[previous_df.columns.intersection(collection_df.columns)].dtypes.to_dict())"
   ]
  },
  {
   "cell_type": "markdown",
   "id": "19",
   "metadata": {
    "papermill": {
     "duration": 0.067311,
     "end_time": "2023-02-22T22:26:29.405020",
     "exception": false,
     "start_time": "2023-02-22T22:26:29.337709",
     "status": "completed"
    },
    "tags": []
   },
   "source": [
    "## Generate changelog"
   ]
  },
  {
   "cell_type": "code",
   "execution_count": null,
   "id": "20",
   "metadata": {
    "papermill": {
     "duration": 0.393628,
     "end_time": "2023-02-22T22:26:29.843153",
     "exception": false,
     "start_time": "2023-02-22T22:26:29.449525",
     "status": "completed"
    },
    "tags": []
   },
   "outputs": [],
   "source": [
    "if previous_df is None:\n",
    "    changelog = None\n",
    "    print(\"Skipped\")\n",
    "else:\n",
    "    changelog = generate_changelog(previous_df, collection_df, col=\"Name\")\n",
    "    if not changelog.empty:\n",
    "        display(changelog)\n",
    "        changelog.to_csv(\n",
    "            dirs.DATA\n",
    "            / make_filename(\n",
    "                report=\"collection\",\n",
    "                timestamp=timestamp,\n",
    "                previous_timestamp=previous_ts,\n",
    "            ),\n",
    "            index=True,\n",
    "        )\n",
    "        print(\"Changelog saved\")"
   ]
  },
  {
   "cell_type": "markdown",
   "id": "21",
   "metadata": {
    "papermill": {
     "duration": 0.142508,
     "end_time": "2023-02-22T22:26:30.031104",
     "exception": false,
     "start_time": "2023-02-22T22:26:29.888596",
     "status": "completed"
    },
    "tags": []
   },
   "source": [
    "## Save data"
   ]
  },
  {
   "cell_type": "code",
   "execution_count": null,
   "id": "22",
   "metadata": {
    "papermill": {
     "duration": 0.331666,
     "end_time": "2023-02-22T22:26:30.407431",
     "exception": false,
     "start_time": "2023-02-22T22:26:30.075765",
     "status": "completed"
    },
    "tags": []
   },
   "outputs": [],
   "source": [
    "if changelog is not None and changelog.empty:\n",
    "    print(\"No changes. New data not saved\")\n",
    "else:\n",
    "    collection_df.to_csv(\n",
    "        dirs.DATA / make_filename(report=\"collection\", timestamp=timestamp),\n",
    "        index=False,\n",
    "    )\n",
    "    print(\"Data saved\")"
   ]
  },
  {
   "cell_type": "markdown",
   "id": "23",
   "metadata": {
    "papermill": {
     "duration": 0.089761,
     "end_time": "2023-02-22T22:26:30.542746",
     "exception": false,
     "start_time": "2023-02-22T22:26:30.452985",
     "status": "completed"
    },
    "tags": []
   },
   "source": [
    "# Data visualization"
   ]
  },
  {
   "cell_type": "markdown",
   "id": "24",
   "metadata": {
    "papermill": {
     "duration": 0.044781,
     "end_time": "2023-02-22T22:26:30.633464",
     "exception": false,
     "start_time": "2023-02-22T22:26:30.588683",
     "status": "completed"
    },
    "tags": []
   },
   "source": [
    "## Full data"
   ]
  },
  {
   "cell_type": "code",
   "execution_count": null,
   "id": "25",
   "metadata": {
    "papermill": {
     "duration": 0.091385,
     "end_time": "2023-02-22T22:26:30.769693",
     "exception": false,
     "start_time": "2023-02-22T22:26:30.678308",
     "status": "completed"
    },
    "tags": []
   },
   "outputs": [],
   "source": [
    "collection_df"
   ]
  },
  {
   "cell_type": "markdown",
   "id": "26",
   "metadata": {
    "papermill": {
     "duration": 0.045869,
     "end_time": "2023-02-22T22:26:30.953962",
     "exception": false,
     "start_time": "2023-02-22T22:26:30.908093",
     "status": "completed"
    },
    "tags": []
   },
   "source": [
    "## Card types"
   ]
  },
  {
   "cell_type": "code",
   "execution_count": null,
   "id": "27",
   "metadata": {
    "papermill": {
     "duration": 0.06536,
     "end_time": "2023-02-22T22:26:31.065344",
     "exception": false,
     "start_time": "2023-02-22T22:26:30.999984",
     "status": "completed"
    },
    "tags": []
   },
   "outputs": [],
   "source": [
    "print(\"Total number of Card types:\", collection_df[\"Card type\"].nunique())"
   ]
  },
  {
   "cell_type": "code",
   "execution_count": null,
   "id": "28",
   "metadata": {
    "papermill": {
     "duration": 0.354006,
     "end_time": "2023-02-22T22:26:31.466241",
     "exception": false,
     "start_time": "2023-02-22T22:26:31.112235",
     "status": "completed"
    },
    "tags": []
   },
   "outputs": [],
   "source": [
    "card_type_colors = [plot.colors_dict[i] for i in collection_df[\"Card type\"].value_counts().index]\n",
    "collection_df[\"Card type\"].value_counts().plot.bar(figsize=(18, 6), grid=True, rot=0, color=card_type_colors)\n",
    "plt.show()"
   ]
  },
  {
   "cell_type": "markdown",
   "id": "29",
   "metadata": {
    "papermill": {
     "duration": 0.071833,
     "end_time": "2023-12-04T15:46:27.660299",
     "exception": false,
     "start_time": "2023-12-04T15:46:27.588466",
     "status": "completed"
    },
    "tags": []
   },
   "source": [
    "## Monsters"
   ]
  },
  {
   "cell_type": "markdown",
   "id": "30",
   "metadata": {
    "papermill": {
     "duration": 0.074412,
     "end_time": "2023-12-04T15:46:27.807604",
     "exception": false,
     "start_time": "2023-12-04T15:46:27.733192",
     "status": "completed"
    },
    "tags": []
   },
   "source": [
    "### Attributes"
   ]
  },
  {
   "cell_type": "code",
   "execution_count": null,
   "id": "31",
   "metadata": {
    "papermill": {
     "duration": 0.093107,
     "end_time": "2023-12-04T15:46:27.980289",
     "exception": false,
     "start_time": "2023-12-04T15:46:27.887182",
     "status": "completed"
    },
    "tags": []
   },
   "outputs": [],
   "source": [
    "print(\"Total number of attributes:\", collection_df[\"Attribute\"].nunique())"
   ]
  },
  {
   "cell_type": "code",
   "execution_count": null,
   "id": "32",
   "metadata": {
    "papermill": {
     "duration": 0.17771,
     "end_time": "2023-12-04T15:46:28.237718",
     "exception": false,
     "start_time": "2023-12-04T15:46:28.060008",
     "status": "completed"
    },
    "tags": []
   },
   "outputs": [],
   "source": [
    "collection_df.drop(columns=[\"Card type\", \"Page name\", \"Page URL\"]).groupby(\"Attribute\").nunique()"
   ]
  },
  {
   "cell_type": "code",
   "execution_count": null,
   "id": "33",
   "metadata": {
    "papermill": {
     "duration": 0.39166,
     "end_time": "2023-12-04T15:46:28.704839",
     "exception": false,
     "start_time": "2023-12-04T15:46:28.313179",
     "status": "completed"
    },
    "tags": []
   },
   "outputs": [],
   "source": [
    "attribute_colors = [plot.colors_dict[i] for i in collection_df[\"Attribute\"].value_counts().index]\n",
    "collection_df[\"Attribute\"].value_counts().plot.bar(figsize=(18, 6), grid=True, rot=0, color=attribute_colors)\n",
    "plt.show()"
   ]
  },
  {
   "cell_type": "markdown",
   "id": "34",
   "metadata": {
    "papermill": {
     "duration": 0.072325,
     "end_time": "2023-12-04T15:46:28.932397",
     "exception": false,
     "start_time": "2023-12-04T15:46:28.860072",
     "status": "completed"
    },
    "tags": []
   },
   "source": [
    "### Primary types"
   ]
  },
  {
   "cell_type": "code",
   "execution_count": null,
   "id": "35",
   "metadata": {
    "papermill": {
     "duration": 0.180779,
     "end_time": "2023-12-04T15:46:29.355043",
     "exception": false,
     "start_time": "2023-12-04T15:46:29.174264",
     "status": "completed"
    },
    "tags": []
   },
   "outputs": [],
   "source": [
    "print(\"Total number of primary types:\", collection_df[\"Primary type\"].nunique())"
   ]
  },
  {
   "cell_type": "code",
   "execution_count": null,
   "id": "36",
   "metadata": {
    "papermill": {
     "duration": 0.211471,
     "end_time": "2023-12-04T15:46:29.653863",
     "exception": false,
     "start_time": "2023-12-04T15:46:29.442392",
     "status": "completed"
    },
    "tags": []
   },
   "outputs": [],
   "source": [
    "collection_df.drop(columns=[\"Card type\", \"Page name\", \"Page URL\"]).groupby(\"Primary type\").nunique()"
   ]
  },
  {
   "cell_type": "markdown",
   "id": "37",
   "metadata": {
    "papermill": {
     "duration": 0.12162,
     "end_time": "2023-12-04T15:46:29.859912",
     "exception": false,
     "start_time": "2023-12-04T15:46:29.738292",
     "status": "completed"
    },
    "tags": []
   },
   "source": [
    "#### Has effect discrimination"
   ]
  },
  {
   "cell_type": "code",
   "execution_count": null,
   "id": "38",
   "metadata": {
    "papermill": {
     "duration": 0.326807,
     "end_time": "2023-12-04T15:46:30.301499",
     "exception": false,
     "start_time": "2023-12-04T15:46:29.974692",
     "status": "completed"
    },
    "tags": []
   },
   "outputs": [],
   "source": [
    "effect = pd.crosstab(\n",
    "    collection_df[\"Primary type\"],\n",
    "    pd.isna(collection_df[\"Effect type\"]),\n",
    "    rownames=[\"Primary type\"],\n",
    "    colnames=[\"Has effect\"],\n",
    ").rename(columns={True: \"No Effect\", False: \"Effect\"})\n",
    "effect"
   ]
  },
  {
   "cell_type": "code",
   "execution_count": null,
   "id": "39",
   "metadata": {
    "papermill": {
     "duration": 0.386946,
     "end_time": "2023-12-04T15:46:30.784990",
     "exception": false,
     "start_time": "2023-12-04T15:46:30.398044",
     "status": "completed"
    },
    "tags": []
   },
   "outputs": [],
   "source": [
    "monster_type_colors = {\n",
    "    \"No Effect\": plot.colors_dict[\"Normal Monster\"],\n",
    "    \"Effect\": [plot.colors_dict[i] for i in effect.index],\n",
    "}\n",
    "effect.plot.bar(\n",
    "    figsize=(18, 6),\n",
    "    stacked=True,\n",
    "    grid=True,\n",
    "    rot=0,\n",
    "    legend=True,\n",
    "    color=monster_type_colors,\n",
    ")\n",
    "# plt.yscale('log')\n",
    "plt.show()"
   ]
  },
  {
   "cell_type": "markdown",
   "id": "40",
   "metadata": {
    "papermill": {
     "duration": 0.085381,
     "end_time": "2023-12-04T15:46:30.983026",
     "exception": false,
     "start_time": "2023-12-04T15:46:30.897645",
     "status": "completed"
    },
    "tags": []
   },
   "source": [
    "Obs: Normal monster can have effect if it is pendulum"
   ]
  },
  {
   "cell_type": "markdown",
   "id": "41",
   "metadata": {
    "papermill": {
     "duration": 0.078801,
     "end_time": "2023-12-04T15:46:31.146844",
     "exception": false,
     "start_time": "2023-12-04T15:46:31.068043",
     "status": "completed"
    },
    "tags": []
   },
   "source": [
    "#### Is pendulum discrimination"
   ]
  },
  {
   "cell_type": "code",
   "execution_count": null,
   "id": "42",
   "metadata": {
    "papermill": {
     "duration": 0.10735,
     "end_time": "2023-12-04T15:46:31.334289",
     "exception": false,
     "start_time": "2023-12-04T15:46:31.226939",
     "status": "completed"
    },
    "tags": []
   },
   "outputs": [],
   "source": [
    "pendulum = pd.crosstab(\n",
    "    collection_df[\"Primary type\"],\n",
    "    pd.isna(collection_df[\"Pendulum Scale\"]),\n",
    "    rownames=[\"Primary type\"],\n",
    "    colnames=[\"Is Pendulum\"],\n",
    ").rename(columns={True: \"Not Pendulum\", False: \"Pendulum\"})\n",
    "pendulum"
   ]
  },
  {
   "cell_type": "code",
   "execution_count": null,
   "id": "43",
   "metadata": {
    "papermill": {
     "duration": 0.39728,
     "end_time": "2023-12-04T15:46:31.811406",
     "exception": false,
     "start_time": "2023-12-04T15:46:31.414126",
     "status": "completed"
    },
    "tags": []
   },
   "outputs": [],
   "source": [
    "monster_type_colors_b = {\n",
    "    \"Pendulum\": plot.colors_dict[\"Pendulum Monster\"],\n",
    "    \"Not Pendulum\": [plot.colors_dict[i] for i in pendulum.index],\n",
    "}\n",
    "pendulum.plot.bar(\n",
    "    figsize=(18, 6),\n",
    "    stacked=True,\n",
    "    grid=True,\n",
    "    rot=0,\n",
    "    color=monster_type_colors_b,\n",
    "    legend=True,\n",
    "    title=\"Primary types - Is pendulum\",\n",
    ")\n",
    "plt.show()"
   ]
  },
  {
   "cell_type": "markdown",
   "id": "44",
   "metadata": {
    "papermill": {
     "duration": 0.076539,
     "end_time": "2023-12-04T15:46:31.995855",
     "exception": false,
     "start_time": "2023-12-04T15:46:31.919316",
     "status": "completed"
    },
    "tags": []
   },
   "source": [
    "#### By attribute"
   ]
  },
  {
   "cell_type": "code",
   "execution_count": null,
   "id": "45",
   "metadata": {
    "papermill": {
     "duration": 0.141105,
     "end_time": "2023-12-04T15:46:32.227700",
     "exception": false,
     "start_time": "2023-12-04T15:46:32.086595",
     "status": "completed"
    },
    "tags": []
   },
   "outputs": [],
   "source": [
    "primmary_crosstab = pd.crosstab(collection_df[\"Primary type\"], collection_df[\"Attribute\"])\n",
    "primmary_crosstab"
   ]
  },
  {
   "cell_type": "code",
   "execution_count": null,
   "id": "46",
   "metadata": {
    "papermill": {
     "duration": 1.148479,
     "end_time": "2023-12-04T15:46:33.458269",
     "exception": false,
     "start_time": "2023-12-04T15:46:32.309790",
     "status": "completed"
    },
    "tags": []
   },
   "outputs": [],
   "source": [
    "plt.figure(figsize=(16, 10))\n",
    "sns.heatmap(\n",
    "    primmary_crosstab.T,\n",
    "    annot=True,\n",
    "    fmt=\"g\",\n",
    "    cmap=\"viridis\",\n",
    "    square=True,\n",
    "    norm=plot.LogNorm(),\n",
    ")\n",
    "plt.show()"
   ]
  },
  {
   "cell_type": "markdown",
   "id": "47",
   "metadata": {
    "papermill": {
     "duration": 0.078557,
     "end_time": "2023-12-04T15:46:33.647694",
     "exception": false,
     "start_time": "2023-12-04T15:46:33.569137",
     "status": "completed"
    },
    "tags": []
   },
   "source": [
    "### Secondary types"
   ]
  },
  {
   "cell_type": "code",
   "execution_count": null,
   "id": "48",
   "metadata": {
    "papermill": {
     "duration": 0.184716,
     "end_time": "2023-12-04T15:46:33.917134",
     "exception": false,
     "start_time": "2023-12-04T15:46:33.732418",
     "status": "completed"
    },
    "tags": []
   },
   "outputs": [],
   "source": [
    "exploded_secondary_type = collection_df.explode(\"Secondary type\")\n",
    "print(\n",
    "    \"Total number of secondary types:\",\n",
    "    exploded_secondary_type[\"Secondary type\"].nunique(),\n",
    ")"
   ]
  },
  {
   "cell_type": "code",
   "execution_count": null,
   "id": "49",
   "metadata": {
    "papermill": {
     "duration": 0.168618,
     "end_time": "2023-12-04T15:46:34.274585",
     "exception": false,
     "start_time": "2023-12-04T15:46:34.105967",
     "status": "completed"
    },
    "tags": []
   },
   "outputs": [],
   "source": [
    "exploded_secondary_type.drop(columns=[\"Card type\", \"Link\", \"Link Arrows\", \"Page name\", \"Page URL\"]).groupby(\n",
    "    \"Secondary type\"\n",
    ").nunique()"
   ]
  },
  {
   "cell_type": "code",
   "execution_count": null,
   "id": "50",
   "metadata": {
    "papermill": {
     "duration": 0.343478,
     "end_time": "2023-12-04T15:46:34.705797",
     "exception": false,
     "start_time": "2023-12-04T15:46:34.362319",
     "status": "completed"
    },
    "tags": []
   },
   "outputs": [],
   "source": [
    "secondary_type_colors = plot.colors_dict[\"Effect Monster\"]\n",
    "exploded_secondary_type[\"Secondary type\"].value_counts().plot.bar(\n",
    "    figsize=(18, 6),\n",
    "    stacked=True,\n",
    "    grid=True,\n",
    "    rot=0,\n",
    "    color=secondary_type_colors,\n",
    "    legend=False,\n",
    ")\n",
    "plt.show()"
   ]
  },
  {
   "cell_type": "markdown",
   "id": "51",
   "metadata": {
    "papermill": {
     "duration": 0.123896,
     "end_time": "2023-12-04T15:46:34.945641",
     "exception": false,
     "start_time": "2023-12-04T15:46:34.821745",
     "status": "completed"
    },
    "tags": []
   },
   "source": [
    "#### By attribute"
   ]
  },
  {
   "cell_type": "code",
   "execution_count": null,
   "id": "52",
   "metadata": {
    "papermill": {
     "duration": 0.177366,
     "end_time": "2023-12-04T15:46:35.235395",
     "exception": false,
     "start_time": "2023-12-04T15:46:35.058029",
     "status": "completed"
    },
    "tags": []
   },
   "outputs": [],
   "source": [
    "secondary_crosstab = pd.crosstab(exploded_secondary_type[\"Secondary type\"], exploded_secondary_type[\"Attribute\"])\n",
    "secondary_crosstab"
   ]
  },
  {
   "cell_type": "code",
   "execution_count": null,
   "id": "53",
   "metadata": {
    "papermill": {
     "duration": 0.56671,
     "end_time": "2023-12-04T15:46:35.886384",
     "exception": false,
     "start_time": "2023-12-04T15:46:35.319674",
     "status": "completed"
    },
    "tags": []
   },
   "outputs": [],
   "source": [
    "plt.figure(figsize=(8, 6))\n",
    "sns.heatmap(\n",
    "    secondary_crosstab[secondary_crosstab > 0],\n",
    "    annot=True,\n",
    "    fmt=\"g\",\n",
    "    cmap=\"viridis\",\n",
    "    square=True,\n",
    ")\n",
    "plt.show()"
   ]
  },
  {
   "cell_type": "markdown",
   "id": "54",
   "metadata": {
    "papermill": {
     "duration": 0.37611,
     "end_time": "2023-12-04T15:46:36.374756",
     "exception": false,
     "start_time": "2023-12-04T15:46:35.998646",
     "status": "completed"
    },
    "tags": []
   },
   "source": [
    "#### By secondary type"
   ]
  },
  {
   "cell_type": "code",
   "execution_count": null,
   "id": "55",
   "metadata": {
    "papermill": {
     "duration": 0.138562,
     "end_time": "2023-12-04T15:46:36.609801",
     "exception": false,
     "start_time": "2023-12-04T15:46:36.471239",
     "status": "completed"
    },
    "tags": []
   },
   "outputs": [],
   "source": [
    "secondary_crosstab_b = pd.crosstab(\n",
    "    exploded_secondary_type[\"Primary type\"],\n",
    "    exploded_secondary_type[\"Secondary type\"],\n",
    "    margins=True,\n",
    ")\n",
    "secondary_crosstab_b"
   ]
  },
  {
   "cell_type": "code",
   "execution_count": null,
   "id": "56",
   "metadata": {
    "papermill": {
     "duration": 0.705098,
     "end_time": "2023-12-04T15:46:37.399300",
     "exception": false,
     "start_time": "2023-12-04T15:46:36.694202",
     "status": "completed"
    },
    "tags": []
   },
   "outputs": [],
   "source": [
    "plt.figure(figsize=(10, 4))\n",
    "sns.heatmap(\n",
    "    secondary_crosstab_b[secondary_crosstab_b > 0],\n",
    "    annot=True,\n",
    "    fmt=\"g\",\n",
    "    cmap=\"viridis\",\n",
    "    square=True,\n",
    "    # norm=plot.LogNorm(),\n",
    ")\n",
    "plt.show()"
   ]
  },
  {
   "cell_type": "markdown",
   "id": "57",
   "metadata": {
    "papermill": {
     "duration": 0.079839,
     "end_time": "2023-12-04T15:46:37.590383",
     "exception": false,
     "start_time": "2023-12-04T15:46:37.510544",
     "status": "completed"
    },
    "tags": []
   },
   "source": [
    "### Monster types"
   ]
  },
  {
   "cell_type": "code",
   "execution_count": null,
   "id": "58",
   "metadata": {
    "papermill": {
     "duration": 0.098346,
     "end_time": "2023-12-04T15:46:37.780279",
     "exception": false,
     "start_time": "2023-12-04T15:46:37.681933",
     "status": "completed"
    },
    "tags": []
   },
   "outputs": [],
   "source": [
    "print(\"Total number of monster types:\", collection_df[\"Monster type\"].nunique())"
   ]
  },
  {
   "cell_type": "code",
   "execution_count": null,
   "id": "59",
   "metadata": {
    "papermill": {
     "duration": 0.204201,
     "end_time": "2023-12-04T15:46:38.084505",
     "exception": false,
     "start_time": "2023-12-04T15:46:37.880304",
     "status": "completed"
    },
    "tags": []
   },
   "outputs": [],
   "source": [
    "collection_df.drop(columns=[\"Card type\", \"Page name\", \"Page URL\"]).groupby(\"Monster type\").nunique()"
   ]
  },
  {
   "cell_type": "code",
   "execution_count": null,
   "id": "60",
   "metadata": {
    "papermill": {
     "duration": 0.701448,
     "end_time": "2023-12-04T15:46:38.874047",
     "exception": false,
     "start_time": "2023-12-04T15:46:38.172599",
     "status": "completed"
    },
    "tags": []
   },
   "outputs": [],
   "source": [
    "monster_type_colors = plot.colors_dict[\"Monster Card\"]\n",
    "collection_df[\"Monster type\"].value_counts().plot.bar(figsize=(18, 6), grid=True, rot=45, color=monster_type_colors)\n",
    "plt.show()"
   ]
  },
  {
   "cell_type": "markdown",
   "id": "61",
   "metadata": {
    "papermill": {
     "duration": 0.090956,
     "end_time": "2023-12-04T15:46:39.104857",
     "exception": false,
     "start_time": "2023-12-04T15:46:39.013901",
     "status": "completed"
    },
    "tags": []
   },
   "source": [
    "#### By Attribute"
   ]
  },
  {
   "cell_type": "code",
   "execution_count": null,
   "id": "62",
   "metadata": {
    "papermill": {
     "duration": 0.130927,
     "end_time": "2023-12-04T15:46:39.329786",
     "exception": false,
     "start_time": "2023-12-04T15:46:39.198859",
     "status": "completed"
    },
    "tags": []
   },
   "outputs": [],
   "source": [
    "monster_crosstab = pd.crosstab(collection_df[\"Monster type\"], collection_df[\"Attribute\"])\n",
    "monster_crosstab"
   ]
  },
  {
   "cell_type": "code",
   "execution_count": null,
   "id": "63",
   "metadata": {
    "papermill": {
     "duration": 1.066977,
     "end_time": "2023-12-04T15:46:40.488156",
     "exception": false,
     "start_time": "2023-12-04T15:46:39.421179",
     "status": "completed"
    },
    "tags": []
   },
   "outputs": [],
   "source": [
    "plt.figure(figsize=(20, 5))\n",
    "sns.heatmap(\n",
    "    monster_crosstab[monster_crosstab > 0].T,\n",
    "    annot=True,\n",
    "    fmt=\"g\",\n",
    "    cmap=\"viridis\",\n",
    "    square=True,\n",
    "    # norm=plot.LogNorm(),\n",
    ")\n",
    "plt.show()"
   ]
  },
  {
   "cell_type": "markdown",
   "id": "64",
   "metadata": {
    "papermill": {
     "duration": 0.083864,
     "end_time": "2023-12-04T15:46:40.692837",
     "exception": false,
     "start_time": "2023-12-04T15:46:40.608973",
     "status": "completed"
    },
    "tags": []
   },
   "source": [
    "#### By primary type"
   ]
  },
  {
   "cell_type": "code",
   "execution_count": null,
   "id": "65",
   "metadata": {
    "papermill": {
     "duration": 0.146767,
     "end_time": "2023-12-04T15:46:40.931183",
     "exception": false,
     "start_time": "2023-12-04T15:46:40.784416",
     "status": "completed"
    },
    "tags": []
   },
   "outputs": [],
   "source": [
    "monster_crosstab_b = pd.crosstab(\n",
    "    collection_df[\"Monster type\"][collection_df[\"Monster type\"].notna()],\n",
    "    collection_df[\"Primary type\"][collection_df[\"Monster type\"].notna()],\n",
    "    dropna=False,\n",
    ")\n",
    "monster_crosstab_b"
   ]
  },
  {
   "cell_type": "code",
   "execution_count": null,
   "id": "66",
   "metadata": {
    "papermill": {
     "duration": 1.486928,
     "end_time": "2023-12-04T15:46:42.509838",
     "exception": false,
     "start_time": "2023-12-04T15:46:41.022910",
     "status": "completed"
    },
    "tags": []
   },
   "outputs": [],
   "source": [
    "plt.figure(figsize=(20, 5))\n",
    "sns.heatmap(\n",
    "    monster_crosstab_b[monster_crosstab_b > 0].T,\n",
    "    annot=True,\n",
    "    fmt=\"g\",\n",
    "    cmap=\"viridis\",\n",
    "    square=True,\n",
    "    norm=plot.LogNorm(),\n",
    ")\n",
    "plt.show()"
   ]
  },
  {
   "cell_type": "markdown",
   "id": "67",
   "metadata": {
    "papermill": {
     "duration": 0.088063,
     "end_time": "2023-12-04T15:46:42.700542",
     "exception": false,
     "start_time": "2023-12-04T15:46:42.612479",
     "status": "completed"
    },
    "tags": []
   },
   "source": [
    "#### By secondary type"
   ]
  },
  {
   "cell_type": "code",
   "execution_count": null,
   "id": "68",
   "metadata": {
    "papermill": {
     "duration": 0.16291,
     "end_time": "2023-12-04T15:46:42.956002",
     "exception": false,
     "start_time": "2023-12-04T15:46:42.793092",
     "status": "completed"
    },
    "tags": []
   },
   "outputs": [],
   "source": [
    "monster_crosstab_c = pd.crosstab(\n",
    "    exploded_secondary_type[\"Monster type\"][exploded_secondary_type[\"Monster type\"].notna()],\n",
    "    exploded_secondary_type[\"Secondary type\"][exploded_secondary_type[\"Monster type\"].notna()],\n",
    "    dropna=False,\n",
    ")\n",
    "monster_crosstab_c"
   ]
  },
  {
   "cell_type": "code",
   "execution_count": null,
   "id": "69",
   "metadata": {
    "papermill": {
     "duration": 1.102182,
     "end_time": "2023-12-04T15:46:44.295773",
     "exception": false,
     "start_time": "2023-12-04T15:46:43.193591",
     "status": "completed"
    },
    "tags": []
   },
   "outputs": [],
   "source": [
    "plt.figure(figsize=(20, 5))\n",
    "sns.heatmap(\n",
    "    monster_crosstab_c[monster_crosstab_c > 0].T,\n",
    "    annot=True,\n",
    "    fmt=\"g\",\n",
    "    cmap=\"viridis\",\n",
    "    square=True,\n",
    "    norm=plot.LogNorm(),\n",
    ")\n",
    "plt.show()"
   ]
  },
  {
   "cell_type": "markdown",
   "id": "70",
   "metadata": {
    "papermill": {
     "duration": 0.092124,
     "end_time": "2023-12-04T15:46:46.026349",
     "exception": false,
     "start_time": "2023-12-04T15:46:45.934225",
     "status": "completed"
    },
    "tags": []
   },
   "source": [
    "### ATK"
   ]
  },
  {
   "cell_type": "code",
   "execution_count": null,
   "id": "71",
   "metadata": {
    "papermill": {
     "duration": 0.118168,
     "end_time": "2023-12-04T15:46:46.248320",
     "exception": false,
     "start_time": "2023-12-04T15:46:46.130152",
     "status": "completed"
    },
    "tags": []
   },
   "outputs": [],
   "source": [
    "print(\"Total number of ATK values:\", collection_df[\"ATK\"].nunique())"
   ]
  },
  {
   "cell_type": "code",
   "execution_count": null,
   "id": "72",
   "metadata": {
    "papermill": {
     "duration": 0.208889,
     "end_time": "2023-12-04T15:46:46.554095",
     "exception": false,
     "start_time": "2023-12-04T15:46:46.345206",
     "status": "completed"
    },
    "tags": []
   },
   "outputs": [],
   "source": [
    "collection_df.drop(columns=[\"Card type\", \"Page name\", \"Page URL\"]).groupby(\"ATK\").nunique().sort_index(\n",
    "    key=lambda x: pd.to_numeric(x, errors=\"coerce\")\n",
    ")"
   ]
  },
  {
   "cell_type": "code",
   "execution_count": null,
   "id": "73",
   "metadata": {
    "papermill": {
     "duration": 0.999517,
     "end_time": "2023-12-04T15:46:47.654938",
     "exception": false,
     "start_time": "2023-12-04T15:46:46.655421",
     "status": "completed"
    },
    "tags": []
   },
   "outputs": [],
   "source": [
    "atk_colors = plot.colors_dict[\"Monster Card\"]\n",
    "collection_df[\"ATK\"].value_counts().sort_index(key=lambda x: pd.to_numeric(x, errors=\"coerce\")).plot.bar(\n",
    "    figsize=(18, 6), grid=True, color=atk_colors\n",
    ")\n",
    "plt.show()"
   ]
  },
  {
   "cell_type": "markdown",
   "id": "74",
   "metadata": {
    "papermill": {
     "duration": 0.091302,
     "end_time": "2023-12-04T15:46:47.884739",
     "exception": false,
     "start_time": "2023-12-04T15:46:47.793437",
     "status": "completed"
    },
    "tags": []
   },
   "source": [
    "### DEF"
   ]
  },
  {
   "cell_type": "code",
   "execution_count": null,
   "id": "75",
   "metadata": {
    "papermill": {
     "duration": 0.391416,
     "end_time": "2023-12-04T15:46:48.382950",
     "exception": false,
     "start_time": "2023-12-04T15:46:47.991534",
     "status": "completed"
    },
    "tags": []
   },
   "outputs": [],
   "source": [
    "print(\"Total number of DEF values:\", collection_df[\"DEF\"].nunique())"
   ]
  },
  {
   "cell_type": "code",
   "execution_count": null,
   "id": "76",
   "metadata": {
    "papermill": {
     "duration": 0.209406,
     "end_time": "2023-12-04T15:46:48.695656",
     "exception": false,
     "start_time": "2023-12-04T15:46:48.486250",
     "status": "completed"
    },
    "tags": []
   },
   "outputs": [],
   "source": [
    "collection_df.drop(columns=[\"Card type\", \"Page name\", \"Page URL\"]).groupby(\"DEF\").nunique().sort_index(\n",
    "    key=lambda x: pd.to_numeric(x, errors=\"coerce\")\n",
    ")"
   ]
  },
  {
   "cell_type": "code",
   "execution_count": null,
   "id": "77",
   "metadata": {
    "papermill": {
     "duration": 1.163212,
     "end_time": "2023-12-04T15:46:49.964649",
     "exception": false,
     "start_time": "2023-12-04T15:46:48.801437",
     "status": "completed"
    },
    "tags": []
   },
   "outputs": [],
   "source": [
    "def_colors = plot.colors_dict[\"Monster Card\"]\n",
    "collection_df[\"DEF\"].value_counts().sort_index(key=lambda x: pd.to_numeric(x, errors=\"coerce\")).plot.bar(\n",
    "    figsize=(18, 6), grid=True, color=def_colors\n",
    ")\n",
    "plt.show()"
   ]
  },
  {
   "cell_type": "markdown",
   "id": "78",
   "metadata": {
    "papermill": {
     "duration": 0.093727,
     "end_time": "2023-12-04T15:46:50.187008",
     "exception": false,
     "start_time": "2023-12-04T15:46:50.093281",
     "status": "completed"
    },
    "tags": []
   },
   "source": [
    "### Level/Rank"
   ]
  },
  {
   "cell_type": "code",
   "execution_count": null,
   "id": "79",
   "metadata": {
    "papermill": {
     "duration": 0.218493,
     "end_time": "2023-12-04T15:46:50.508589",
     "exception": false,
     "start_time": "2023-12-04T15:46:50.290096",
     "status": "completed"
    },
    "tags": []
   },
   "outputs": [],
   "source": [
    "collection_df.drop(columns=[\"Card type\", \"Link\", \"Link Arrows\", \"Page name\", \"Page URL\"]).groupby(\n",
    "    \"Level/Rank\"\n",
    ").nunique().sort_index(key=lambda x: pd.to_numeric(x, errors=\"coerce\"))"
   ]
  },
  {
   "cell_type": "code",
   "execution_count": null,
   "id": "80",
   "metadata": {
    "papermill": {
     "duration": 0.485102,
     "end_time": "2023-12-04T15:46:51.099295",
     "exception": false,
     "start_time": "2023-12-04T15:46:50.614193",
     "status": "completed"
    },
    "tags": []
   },
   "outputs": [],
   "source": [
    "stars_colors = plot.colors_dict[\"Level\"]\n",
    "collection_df[\"Level/Rank\"].value_counts().sort_index(key=lambda x: pd.to_numeric(x, errors=\"coerce\")).plot.bar(\n",
    "    figsize=(18, 6), grid=True, rot=0, color=stars_colors\n",
    ")\n",
    "plt.show()"
   ]
  },
  {
   "cell_type": "markdown",
   "id": "81",
   "metadata": {
    "papermill": {
     "duration": 0.094947,
     "end_time": "2023-12-04T15:46:51.304278",
     "exception": false,
     "start_time": "2023-12-04T15:46:51.209331",
     "status": "completed"
    },
    "tags": []
   },
   "source": [
    "#### ATK statistics"
   ]
  },
  {
   "cell_type": "code",
   "execution_count": null,
   "id": "82",
   "metadata": {
    "papermill": {
     "duration": 0.208463,
     "end_time": "2023-12-04T15:46:51.612617",
     "exception": false,
     "start_time": "2023-12-04T15:46:51.404154",
     "status": "completed"
    },
    "tags": []
   },
   "outputs": [],
   "source": [
    "collection_df[[\"Level/Rank\", \"ATK\"]].apply(pd.to_numeric, errors=\"coerce\").dropna().astype(int).groupby(\n",
    "    \"Level/Rank\"\n",
    ").describe().round(1)"
   ]
  },
  {
   "cell_type": "markdown",
   "id": "83",
   "metadata": {
    "papermill": {
     "duration": 0.105274,
     "end_time": "2023-12-04T15:46:51.828673",
     "exception": false,
     "start_time": "2023-12-04T15:46:51.723399",
     "status": "completed"
    },
    "tags": []
   },
   "source": [
    "#### DEF statistics"
   ]
  },
  {
   "cell_type": "code",
   "execution_count": null,
   "id": "84",
   "metadata": {
    "papermill": {
     "duration": 0.202546,
     "end_time": "2023-12-04T15:46:52.135902",
     "exception": false,
     "start_time": "2023-12-04T15:46:51.933356",
     "status": "completed"
    },
    "tags": []
   },
   "outputs": [],
   "source": [
    "collection_df[[\"Level/Rank\", \"DEF\"]].apply(pd.to_numeric, errors=\"coerce\").dropna().astype(int).groupby(\n",
    "    \"Level/Rank\"\n",
    ").describe().round(1)"
   ]
  },
  {
   "cell_type": "markdown",
   "id": "85",
   "metadata": {
    "papermill": {
     "duration": 0.096126,
     "end_time": "2023-12-04T15:46:52.331370",
     "exception": false,
     "start_time": "2023-12-04T15:46:52.235244",
     "status": "completed"
    },
    "tags": []
   },
   "source": [
    "### Pendulum scale"
   ]
  },
  {
   "cell_type": "code",
   "execution_count": null,
   "id": "86",
   "metadata": {
    "papermill": {
     "duration": 0.202621,
     "end_time": "2023-12-04T15:46:52.649206",
     "exception": false,
     "start_time": "2023-12-04T15:46:52.446585",
     "status": "completed"
    },
    "tags": []
   },
   "outputs": [],
   "source": [
    "collection_df.drop(columns=[\"Card type\", \"Link\", \"Link Arrows\", \"Page name\", \"Page URL\"]).groupby(\n",
    "    \"Pendulum Scale\"\n",
    ").nunique().sort_index(key=lambda x: pd.to_numeric(x, errors=\"coerce\"))"
   ]
  },
  {
   "cell_type": "code",
   "execution_count": null,
   "id": "87",
   "metadata": {
    "papermill": {
     "duration": 0.548143,
     "end_time": "2023-12-04T15:46:53.317457",
     "exception": false,
     "start_time": "2023-12-04T15:46:52.769314",
     "status": "completed"
    },
    "tags": []
   },
   "outputs": [],
   "source": [
    "scales_colors = plot.colors_dict[\"Pendulum Monster\"]\n",
    "collection_df[\"Pendulum Scale\"].value_counts().sort_index(key=lambda x: pd.to_numeric(x, errors=\"coerce\")).plot.bar(\n",
    "    figsize=(18, 6), grid=True, rot=0, color=scales_colors\n",
    ")\n",
    "plt.show()"
   ]
  },
  {
   "cell_type": "markdown",
   "id": "88",
   "metadata": {
    "papermill": {
     "duration": 0.171643,
     "end_time": "2023-12-04T15:46:53.713491",
     "exception": false,
     "start_time": "2023-12-04T15:46:53.541848",
     "status": "completed"
    },
    "tags": []
   },
   "source": [
    "#### ATK statistics"
   ]
  },
  {
   "cell_type": "code",
   "execution_count": null,
   "id": "89",
   "metadata": {
    "papermill": {
     "duration": 0.188642,
     "end_time": "2023-12-04T15:46:54.044500",
     "exception": false,
     "start_time": "2023-12-04T15:46:53.855858",
     "status": "completed"
    },
    "tags": []
   },
   "outputs": [],
   "source": [
    "collection_df[[\"Pendulum Scale\", \"ATK\"]].apply(pd.to_numeric, errors=\"coerce\").dropna().astype(int).groupby(\n",
    "    \"Pendulum Scale\"\n",
    ").describe().round(1)"
   ]
  },
  {
   "cell_type": "markdown",
   "id": "90",
   "metadata": {
    "papermill": {
     "duration": 0.115467,
     "end_time": "2023-12-04T15:46:54.291641",
     "exception": false,
     "start_time": "2023-12-04T15:46:54.176174",
     "status": "completed"
    },
    "tags": []
   },
   "source": [
    "#### DEF statistics"
   ]
  },
  {
   "cell_type": "code",
   "execution_count": null,
   "id": "91",
   "metadata": {
    "papermill": {
     "duration": 0.195269,
     "end_time": "2023-12-04T15:46:54.804536",
     "exception": false,
     "start_time": "2023-12-04T15:46:54.609267",
     "status": "completed"
    },
    "tags": []
   },
   "outputs": [],
   "source": [
    "collection_df[[\"Pendulum Scale\", \"DEF\"]].apply(pd.to_numeric, errors=\"coerce\").dropna().astype(int).groupby(\n",
    "    \"Pendulum Scale\"\n",
    ").describe().round(1)"
   ]
  },
  {
   "cell_type": "markdown",
   "id": "92",
   "metadata": {
    "papermill": {
     "duration": 0.123537,
     "end_time": "2023-12-04T15:46:55.059406",
     "exception": false,
     "start_time": "2023-12-04T15:46:54.935869",
     "status": "completed"
    },
    "tags": []
   },
   "source": [
    "#### Level/Rank statistics"
   ]
  },
  {
   "cell_type": "code",
   "execution_count": null,
   "id": "93",
   "metadata": {
    "papermill": {
     "duration": 0.18283,
     "end_time": "2023-12-04T15:46:55.352416",
     "exception": false,
     "start_time": "2023-12-04T15:46:55.169586",
     "status": "completed"
    },
    "tags": []
   },
   "outputs": [],
   "source": [
    "collection_df[[\"Pendulum Scale\", \"Level/Rank\"]].apply(pd.to_numeric, errors=\"coerce\").dropna().astype(int).groupby(\n",
    "    \"Pendulum Scale\"\n",
    ").describe().round(1)"
   ]
  },
  {
   "cell_type": "markdown",
   "id": "94",
   "metadata": {
    "papermill": {
     "duration": 0.101782,
     "end_time": "2023-12-04T15:46:55.567214",
     "exception": false,
     "start_time": "2023-12-04T15:46:55.465432",
     "status": "completed"
    },
    "tags": []
   },
   "source": [
    "### Link"
   ]
  },
  {
   "cell_type": "code",
   "execution_count": null,
   "id": "95",
   "metadata": {
    "papermill": {
     "duration": 0.184768,
     "end_time": "2023-12-04T15:46:55.857375",
     "exception": false,
     "start_time": "2023-12-04T15:46:55.672607",
     "status": "completed"
    },
    "tags": []
   },
   "outputs": [],
   "source": [
    "collection_df.drop(\n",
    "    columns=[\n",
    "        \"Card type\",\n",
    "        \"Primary type\",\n",
    "        \"Secondary type\",\n",
    "        \"Level/Rank\",\n",
    "        \"DEF\",\n",
    "        \"Pendulum Scale\",\n",
    "        \"Page name\",\n",
    "        \"Page URL\",\n",
    "    ]\n",
    ").groupby(\"Link\").nunique().sort_index(key=lambda x: pd.to_numeric(x, errors=\"coerce\"))"
   ]
  },
  {
   "cell_type": "code",
   "execution_count": null,
   "id": "96",
   "metadata": {
    "papermill": {
     "duration": 0.379899,
     "end_time": "2023-12-04T15:46:56.348036",
     "exception": false,
     "start_time": "2023-12-04T15:46:55.968137",
     "status": "completed"
    },
    "tags": []
   },
   "outputs": [],
   "source": [
    "link_colors = plot.colors_dict[\"Link Monster\"]\n",
    "collection_df[\"Link\"].value_counts().sort_index(key=lambda x: pd.to_numeric(x, errors=\"coerce\")).plot.bar(\n",
    "    figsize=(18, 6), grid=True, rot=0, color=link_colors\n",
    ")\n",
    "plt.show()"
   ]
  },
  {
   "cell_type": "markdown",
   "id": "97",
   "metadata": {
    "papermill": {
     "duration": 0.098435,
     "end_time": "2023-12-04T15:46:56.579313",
     "exception": false,
     "start_time": "2023-12-04T15:46:56.480878",
     "status": "completed"
    },
    "tags": []
   },
   "source": [
    "#### ATK statistics"
   ]
  },
  {
   "cell_type": "code",
   "execution_count": null,
   "id": "98",
   "metadata": {
    "papermill": {
     "duration": 0.169583,
     "end_time": "2023-12-04T15:46:56.858115",
     "exception": false,
     "start_time": "2023-12-04T15:46:56.688532",
     "status": "completed"
    },
    "tags": []
   },
   "outputs": [],
   "source": [
    "collection_df[[\"Link\", \"ATK\"]].apply(pd.to_numeric, errors=\"coerce\").dropna().astype(int).groupby(\"Link\").describe().round(1)"
   ]
  },
  {
   "cell_type": "markdown",
   "id": "99",
   "metadata": {
    "papermill": {
     "duration": 0.109511,
     "end_time": "2023-12-04T15:46:57.077784",
     "exception": false,
     "start_time": "2023-12-04T15:46:56.968273",
     "status": "completed"
    },
    "tags": []
   },
   "source": [
    "### Link Arrows"
   ]
  },
  {
   "cell_type": "markdown",
   "id": "100",
   "metadata": {
    "papermill": {
     "duration": 0.103368,
     "end_time": "2023-12-04T15:46:57.284988",
     "exception": false,
     "start_time": "2023-12-04T15:46:57.181620",
     "status": "completed"
    },
    "tags": []
   },
   "source": [
    "#### By combination"
   ]
  },
  {
   "cell_type": "code",
   "execution_count": null,
   "id": "101",
   "metadata": {
    "papermill": {
     "duration": 0.124539,
     "end_time": "2023-12-04T15:46:57.524937",
     "exception": false,
     "start_time": "2023-12-04T15:46:57.400398",
     "status": "completed"
    },
    "tags": []
   },
   "outputs": [],
   "source": [
    "print(\"Total number of link arrow combinations:\", collection_df[\"Link Arrows\"].nunique())"
   ]
  },
  {
   "cell_type": "code",
   "execution_count": null,
   "id": "102",
   "metadata": {
    "papermill": {
     "duration": 0.195287,
     "end_time": "2023-12-04T15:46:57.838180",
     "exception": false,
     "start_time": "2023-12-04T15:46:57.642893",
     "status": "completed"
    },
    "tags": []
   },
   "outputs": [],
   "source": [
    "collection_df.drop(\n",
    "    columns=[\n",
    "        \"Card type\",\n",
    "        \"Primary type\",\n",
    "        \"Level/Rank\",\n",
    "        \"Pendulum Scale\",\n",
    "        \"Link\",\n",
    "        \"Secondary type\",\n",
    "        \"DEF\",\n",
    "        \"Page name\",\n",
    "        \"Page URL\",\n",
    "    ]\n",
    ").groupby(\"Link Arrows\").nunique()"
   ]
  },
  {
   "cell_type": "code",
   "execution_count": null,
   "id": "103",
   "metadata": {
    "papermill": {
     "duration": 1.187565,
     "end_time": "2023-12-04T15:46:59.136682",
     "exception": false,
     "start_time": "2023-12-04T15:46:57.949117",
     "status": "completed"
    },
    "tags": []
   },
   "outputs": [],
   "source": [
    "arrows_colors = plot.colors_dict[\"Link Monster\"]\n",
    "collection_df[\"Link Arrows\"].value_counts().plot.barh(\n",
    "    figsize=(10, 20), grid=True, color=arrows_colors, title=\"Link arrows combinations\"\n",
    ")\n",
    "plt.show()"
   ]
  },
  {
   "cell_type": "markdown",
   "id": "104",
   "metadata": {
    "papermill": {
     "duration": 0.102629,
     "end_time": "2023-12-04T15:46:59.440607",
     "exception": false,
     "start_time": "2023-12-04T15:46:59.337978",
     "status": "completed"
    },
    "tags": []
   },
   "source": [
    "#### By unique"
   ]
  },
  {
   "cell_type": "code",
   "execution_count": null,
   "id": "105",
   "metadata": {
    "papermill": {
     "duration": 0.167098,
     "end_time": "2023-12-04T15:46:59.720603",
     "exception": false,
     "start_time": "2023-12-04T15:46:59.553505",
     "status": "completed"
    },
    "tags": []
   },
   "outputs": [],
   "source": [
    "collection_df[collection_df[\"Link Arrows\"].notna()].drop(\n",
    "    columns=[\n",
    "        \"Card type\",\n",
    "        \"Primary type\",\n",
    "        \"Level/Rank\",\n",
    "        \"Pendulum Scale\",\n",
    "        \"Secondary type\",\n",
    "        \"DEF\",\n",
    "        \"Page name\",\n",
    "        \"Page URL\",\n",
    "    ]\n",
    ").explode(\"Link Arrows\").groupby(\"Link Arrows\").nunique()"
   ]
  },
  {
   "cell_type": "code",
   "execution_count": null,
   "id": "106",
   "metadata": {
    "papermill": {
     "duration": 1.417547,
     "end_time": "2023-12-04T15:47:01.250536",
     "exception": false,
     "start_time": "2023-12-04T15:46:59.832989",
     "status": "completed"
    },
    "tags": []
   },
   "outputs": [],
   "source": [
    "plot.arrows(collection_df[\"Link Arrows\"].explode(\"Link Arrows\"))"
   ]
  },
  {
   "cell_type": "markdown",
   "id": "107",
   "metadata": {
    "papermill": {
     "duration": 0.103766,
     "end_time": "2023-12-04T15:47:01.487315",
     "exception": false,
     "start_time": "2023-12-04T15:47:01.383549",
     "status": "completed"
    },
    "tags": []
   },
   "source": [
    "#### By link"
   ]
  },
  {
   "cell_type": "code",
   "execution_count": null,
   "id": "108",
   "metadata": {
    "papermill": {
     "duration": 0.191304,
     "end_time": "2023-12-04T15:47:01.799691",
     "exception": false,
     "start_time": "2023-12-04T15:47:01.608387",
     "status": "completed"
    },
    "tags": []
   },
   "outputs": [],
   "source": [
    "arrow_per_link = collection_df[[\"Link Arrows\", \"Link\"]].explode(\"Link Arrows\").dropna()\n",
    "arrow_crosstab = pd.crosstab(arrow_per_link[\"Link Arrows\"], arrow_per_link[\"Link\"])\n",
    "arrow_crosstab"
   ]
  },
  {
   "cell_type": "code",
   "execution_count": null,
   "id": "109",
   "metadata": {
    "papermill": {
     "duration": 0.65487,
     "end_time": "2023-12-04T15:47:02.681315",
     "exception": false,
     "start_time": "2023-12-04T15:47:02.026445",
     "status": "completed"
    },
    "tags": []
   },
   "outputs": [],
   "source": [
    "plt.figure(figsize=(10, 6))\n",
    "sns.heatmap(\n",
    "    arrow_crosstab[arrow_crosstab > 0].T,\n",
    "    annot=True,\n",
    "    fmt=\"g\",\n",
    "    cmap=\"viridis\",\n",
    "    square=True,\n",
    "    # norm=plot.LogNorm(),\n",
    ")\n",
    "plt.show()"
   ]
  },
  {
   "cell_type": "markdown",
   "id": "110",
   "metadata": {
    "papermill": {
     "duration": 0.104945,
     "end_time": "2023-12-04T15:47:02.912973",
     "exception": false,
     "start_time": "2023-12-04T15:47:02.808028",
     "status": "completed"
    },
    "tags": []
   },
   "source": [
    "## Spell & Trap"
   ]
  },
  {
   "cell_type": "markdown",
   "id": "111",
   "metadata": {
    "papermill": {
     "duration": 0.108835,
     "end_time": "2023-12-04T15:47:03.139312",
     "exception": false,
     "start_time": "2023-12-04T15:47:03.030477",
     "status": "completed"
    },
    "tags": []
   },
   "source": [
    "### Properties"
   ]
  },
  {
   "cell_type": "code",
   "execution_count": null,
   "id": "112",
   "metadata": {
    "papermill": {
     "duration": 0.121239,
     "end_time": "2023-12-04T15:47:03.372789",
     "exception": false,
     "start_time": "2023-12-04T15:47:03.251550",
     "status": "completed"
    },
    "tags": []
   },
   "outputs": [],
   "source": [
    "print(\"Total number of properties:\", collection_df[\"Property\"].nunique())"
   ]
  },
  {
   "cell_type": "code",
   "execution_count": null,
   "id": "113",
   "metadata": {
    "papermill": {
     "duration": 0.184655,
     "end_time": "2023-12-04T15:47:03.672977",
     "exception": false,
     "start_time": "2023-12-04T15:47:03.488322",
     "status": "completed"
    },
    "tags": []
   },
   "outputs": [],
   "source": [
    "collection_df.drop(columns=[\"Card type\", \"Page name\", \"Page URL\"]).groupby(\"Property\").nunique()"
   ]
  },
  {
   "cell_type": "code",
   "execution_count": null,
   "id": "114",
   "metadata": {
    "papermill": {
     "duration": 0.434558,
     "end_time": "2023-12-04T15:47:04.250828",
     "exception": false,
     "start_time": "2023-12-04T15:47:03.816270",
     "status": "completed"
    },
    "tags": []
   },
   "outputs": [],
   "source": [
    "st_colors = [plot.colors_dict[i] for i in collection_df[[\"Card type\", \"Property\"]].value_counts().index.get_level_values(0)]\n",
    "collection_df[\"Property\"].value_counts().plot.bar(figsize=(18, 6), grid=True, rot=45, color=st_colors)\n",
    "plt.show()"
   ]
  },
  {
   "cell_type": "markdown",
   "id": "115",
   "metadata": {
    "papermill": {
     "duration": 0.105349,
     "end_time": "2023-12-04T15:47:04.500491",
     "exception": false,
     "start_time": "2023-12-04T15:47:04.395142",
     "status": "completed"
    },
    "tags": []
   },
   "source": [
    "## Effect type"
   ]
  },
  {
   "cell_type": "code",
   "execution_count": null,
   "id": "116",
   "metadata": {
    "papermill": {
     "duration": 0.13678,
     "end_time": "2023-12-04T15:47:04.761415",
     "exception": false,
     "start_time": "2023-12-04T15:47:04.624635",
     "status": "completed"
    },
    "tags": []
   },
   "outputs": [],
   "source": [
    "print(\"Total number of effect types:\", collection_df[\"Effect type\"].explode().nunique())"
   ]
  },
  {
   "cell_type": "code",
   "execution_count": null,
   "id": "117",
   "metadata": {
    "papermill": {
     "duration": 0.242257,
     "end_time": "2023-12-04T15:47:05.119088",
     "exception": false,
     "start_time": "2023-12-04T15:47:04.876831",
     "status": "completed"
    },
    "tags": []
   },
   "outputs": [],
   "source": [
    "collection_df.explode(\"Effect type\").groupby(\"Effect type\").nunique()"
   ]
  },
  {
   "cell_type": "markdown",
   "id": "118",
   "metadata": {
    "papermill": {
     "duration": 0.113659,
     "end_time": "2023-12-04T15:47:05.394121",
     "exception": false,
     "start_time": "2023-12-04T15:47:05.280462",
     "status": "completed"
    },
    "tags": []
   },
   "source": [
    "### Card type discrimination"
   ]
  },
  {
   "cell_type": "code",
   "execution_count": null,
   "id": "119",
   "metadata": {
    "papermill": {
     "duration": 0.17391,
     "end_time": "2023-12-04T15:47:05.684273",
     "exception": false,
     "start_time": "2023-12-04T15:47:05.510363",
     "status": "completed"
    },
    "tags": []
   },
   "outputs": [],
   "source": [
    "st_diff = collection_df[[\"Card type\", \"Effect type\"]].explode(\"Effect type\").value_counts().unstack(0).fillna(0).astype(int)\n",
    "st_diff"
   ]
  },
  {
   "cell_type": "code",
   "execution_count": null,
   "id": "120",
   "metadata": {
    "papermill": {
     "duration": 0.51611,
     "end_time": "2023-12-04T15:47:06.317544",
     "exception": false,
     "start_time": "2023-12-04T15:47:05.801434",
     "status": "completed"
    },
    "tags": []
   },
   "outputs": [],
   "source": [
    "st_diff_colors = {\n",
    "    \"Monster Card\": plot.colors_dict[\"Monster Card\"],\n",
    "    \"Spell Card\": plot.colors_dict[\"Spell Card\"],\n",
    "    \"Trap Card\": plot.colors_dict[\"Trap Card\"],\n",
    "}\n",
    "st_diff.plot.bar(figsize=(18, 6), stacked=True, grid=True, rot=45, color=st_diff_colors)\n",
    "plt.show()"
   ]
  },
  {
   "cell_type": "markdown",
   "id": "121",
   "metadata": {
    "papermill": {
     "duration": 0.111449,
     "end_time": "2023-12-04T15:47:06.612115",
     "exception": false,
     "start_time": "2023-12-04T15:47:06.500666",
     "status": "completed"
    },
    "tags": []
   },
   "source": [
    "## Archseries"
   ]
  },
  {
   "cell_type": "code",
   "execution_count": null,
   "id": "122",
   "metadata": {
    "papermill": {
     "duration": 0.246182,
     "end_time": "2023-12-04T15:47:06.991247",
     "exception": false,
     "start_time": "2023-12-04T15:47:06.745065",
     "status": "completed"
    },
    "tags": []
   },
   "outputs": [],
   "source": [
    "exploded_archseries = collection_df.explode(\"Archseries\")\n",
    "print(\"Total number of Archseries:\", exploded_archseries[\"Archseries\"].nunique())"
   ]
  },
  {
   "cell_type": "code",
   "execution_count": null,
   "id": "123",
   "metadata": {
    "papermill": {
     "duration": 0.322809,
     "end_time": "2023-12-04T15:47:07.511961",
     "exception": false,
     "start_time": "2023-12-04T15:47:07.189152",
     "status": "completed"
    },
    "tags": []
   },
   "outputs": [],
   "source": [
    "exploded_archseries.groupby(\"Archseries\").nunique()"
   ]
  },
  {
   "cell_type": "code",
   "execution_count": null,
   "id": "124",
   "metadata": {
    "papermill": {
     "duration": 10.030345,
     "end_time": "2023-12-04T15:47:17.682051",
     "exception": false,
     "start_time": "2023-12-04T15:47:07.651706",
     "status": "completed"
    },
    "tags": []
   },
   "outputs": [],
   "source": [
    "exploded_archseries[\"Archseries\"].value_counts().plot.barh(figsize=(10, 100), grid=True, title=\"Archtypes/Series\")\n",
    "plt.show()"
   ]
  },
  {
   "cell_type": "markdown",
   "id": "125",
   "metadata": {
    "papermill": {
     "duration": 0.139227,
     "end_time": "2023-12-04T15:47:17.996350",
     "exception": false,
     "start_time": "2023-12-04T15:47:17.857123",
     "status": "completed"
    },
    "tags": []
   },
   "source": [
    "### By card type"
   ]
  },
  {
   "cell_type": "code",
   "execution_count": null,
   "id": "126",
   "metadata": {
    "papermill": {
     "duration": 0.314749,
     "end_time": "2023-12-04T15:47:18.465910",
     "exception": false,
     "start_time": "2023-12-04T15:47:18.151161",
     "status": "completed"
    },
    "tags": []
   },
   "outputs": [],
   "source": [
    "archseries_crosstab = pd.crosstab(exploded_archseries[\"Archseries\"], exploded_archseries[\"Card type\"], margins=True)\n",
    "archseries_crosstab"
   ]
  },
  {
   "cell_type": "markdown",
   "id": "127",
   "metadata": {
    "papermill": {
     "duration": 0.521155,
     "end_time": "2023-12-04T15:47:19.176685",
     "exception": false,
     "start_time": "2023-12-04T15:47:18.655530",
     "status": "completed"
    },
    "tags": []
   },
   "source": [
    "### By primary type"
   ]
  },
  {
   "cell_type": "code",
   "execution_count": null,
   "id": "128",
   "metadata": {
    "papermill": {
     "duration": 0.281694,
     "end_time": "2023-12-04T15:47:19.719463",
     "exception": false,
     "start_time": "2023-12-04T15:47:19.437769",
     "status": "completed"
    },
    "tags": []
   },
   "outputs": [],
   "source": [
    "archseries_crosstab_b = pd.crosstab(exploded_archseries[\"Archseries\"], exploded_archseries[\"Primary type\"], margins=True)\n",
    "archseries_crosstab_b"
   ]
  },
  {
   "cell_type": "markdown",
   "id": "129",
   "metadata": {
    "papermill": {
     "duration": 0.140602,
     "end_time": "2023-12-04T15:47:20.016539",
     "exception": false,
     "start_time": "2023-12-04T15:47:19.875937",
     "status": "completed"
    },
    "tags": []
   },
   "source": [
    "\n",
    "\n",
    "### By secondary type"
   ]
  },
  {
   "cell_type": "code",
   "execution_count": null,
   "id": "130",
   "metadata": {
    "papermill": {
     "duration": 0.265793,
     "end_time": "2023-12-04T15:47:20.443159",
     "exception": false,
     "start_time": "2023-12-04T15:47:20.177366",
     "status": "completed"
    },
    "tags": []
   },
   "outputs": [],
   "source": [
    "exploded_archseries_secondary_type = exploded_archseries[[\"Archseries\", \"Secondary type\"]].explode(\"Secondary type\")\n",
    "archseries_crosstab_c = pd.crosstab(\n",
    "    exploded_archseries_secondary_type[\"Archseries\"],\n",
    "    exploded_archseries_secondary_type[\"Secondary type\"],\n",
    "    margins=True,\n",
    ")\n",
    "archseries_crosstab_c"
   ]
  },
  {
   "cell_type": "markdown",
   "id": "131",
   "metadata": {
    "papermill": {
     "duration": 0.142693,
     "end_time": "2023-12-04T15:47:20.772973",
     "exception": false,
     "start_time": "2023-12-04T15:47:20.630280",
     "status": "completed"
    },
    "tags": []
   },
   "source": [
    "### By monster type"
   ]
  },
  {
   "cell_type": "code",
   "execution_count": null,
   "id": "132",
   "metadata": {
    "papermill": {
     "duration": 0.341591,
     "end_time": "2023-12-04T15:47:21.268488",
     "exception": false,
     "start_time": "2023-12-04T15:47:20.926897",
     "status": "completed"
    },
    "tags": []
   },
   "outputs": [],
   "source": [
    "archseries_crosstab_d = pd.crosstab(exploded_archseries[\"Archseries\"], exploded_archseries[\"Monster type\"], margins=True)\n",
    "archseries_crosstab_d"
   ]
  },
  {
   "cell_type": "markdown",
   "id": "133",
   "metadata": {
    "papermill": {
     "duration": 0.143243,
     "end_time": "2023-12-04T15:47:21.576003",
     "exception": false,
     "start_time": "2023-12-04T15:47:21.432760",
     "status": "completed"
    },
    "tags": []
   },
   "source": [
    "### By property"
   ]
  },
  {
   "cell_type": "code",
   "execution_count": null,
   "id": "134",
   "metadata": {
    "papermill": {
     "duration": 0.280021,
     "end_time": "2023-12-04T15:47:22.034299",
     "exception": false,
     "start_time": "2023-12-04T15:47:21.754278",
     "status": "completed"
    },
    "tags": []
   },
   "outputs": [],
   "source": [
    "archseries_crosstab_e = pd.crosstab(exploded_archseries[\"Archseries\"], exploded_archseries[\"Property\"], margins=True)\n",
    "archseries_crosstab_e"
   ]
  },
  {
   "cell_type": "markdown",
   "id": "135",
   "metadata": {
    "papermill": {
     "duration": 0.14324,
     "end_time": "2023-12-04T15:47:22.353871",
     "exception": false,
     "start_time": "2023-12-04T15:47:22.210631",
     "status": "completed"
    },
    "tags": []
   },
   "source": [
    "## Artworks"
   ]
  },
  {
   "cell_type": "code",
   "execution_count": null,
   "id": "136",
   "metadata": {
    "papermill": {
     "duration": 0.160522,
     "end_time": "2023-12-04T15:47:22.681301",
     "exception": false,
     "start_time": "2023-12-04T15:47:22.520779",
     "status": "completed"
    },
    "tags": []
   },
   "outputs": [],
   "source": [
    "print(\n",
    "    \"Total number of cards with edited or alternate artworks:\",\n",
    "    collection_df[\"Artwork\"].count(),\n",
    ")"
   ]
  },
  {
   "cell_type": "code",
   "execution_count": null,
   "id": "137",
   "metadata": {
    "papermill": {
     "duration": 0.290304,
     "end_time": "2023-12-04T15:47:23.126525",
     "exception": false,
     "start_time": "2023-12-04T15:47:22.836221",
     "status": "completed"
    },
    "tags": []
   },
   "outputs": [],
   "source": [
    "collection_df[[\"Name\", \"Password\", \"TCG status\", \"OCG status\", \"Artwork\"]][collection_df[\"Artwork\"].notna()]"
   ]
  },
  {
   "cell_type": "code",
   "execution_count": null,
   "id": "138",
   "metadata": {
    "papermill": {
     "duration": 0.290688,
     "end_time": "2023-12-04T15:47:23.606005",
     "exception": false,
     "start_time": "2023-12-04T15:47:23.315317",
     "status": "completed"
    },
    "tags": []
   },
   "outputs": [],
   "source": [
    "artwork_value_counts = collection_df[\"Artwork\"].value_counts()\n",
    "plt.figure(figsize=(20, 8))\n",
    "plt.title(\"Artworks\")\n",
    "plot.venn2(\n",
    "    subsets=(\n",
    "        artwork_value_counts[(\"Alternate\",)],\n",
    "        artwork_value_counts[(\"Edited\",)],\n",
    "        artwork_value_counts[(\"Alternate\", \"Edited\")],\n",
    "    ),\n",
    "    set_labels=(\"Alternate artwork\", \"Edited artwork\"),\n",
    ")\n",
    "plt.show()"
   ]
  },
  {
   "cell_type": "markdown",
   "id": "139",
   "metadata": {
    "papermill": {
     "duration": 0.149124,
     "end_time": "2023-12-04T15:47:23.941322",
     "exception": false,
     "start_time": "2023-12-04T15:47:23.792198",
     "status": "completed"
    },
    "tags": []
   },
   "source": [
    "### By card type"
   ]
  },
  {
   "cell_type": "code",
   "execution_count": null,
   "id": "140",
   "metadata": {
    "papermill": {
     "duration": 0.309997,
     "end_time": "2023-12-04T15:47:24.752179",
     "exception": false,
     "start_time": "2023-12-04T15:47:24.442182",
     "status": "completed"
    },
    "tags": []
   },
   "outputs": [],
   "source": [
    "artwork_crosstab = pd.crosstab(collection_df[\"Artwork\"], collection_df[\"Card type\"])\n",
    "artwork_crosstab"
   ]
  },
  {
   "cell_type": "markdown",
   "id": "141",
   "metadata": {
    "papermill": {
     "duration": 0.15031,
     "end_time": "2023-12-04T15:47:25.081330",
     "exception": false,
     "start_time": "2023-12-04T15:47:24.931020",
     "status": "completed"
    },
    "tags": []
   },
   "source": [
    "### By primary type"
   ]
  },
  {
   "cell_type": "code",
   "execution_count": null,
   "id": "142",
   "metadata": {
    "papermill": {
     "duration": 0.184641,
     "end_time": "2023-12-04T15:47:25.438021",
     "exception": false,
     "start_time": "2023-12-04T15:47:25.253380",
     "status": "completed"
    },
    "tags": []
   },
   "outputs": [],
   "source": [
    "artwork_crosstab_b = pd.crosstab(collection_df[\"Artwork\"], collection_df[\"Primary type\"])\n",
    "artwork_crosstab_b"
   ]
  },
  {
   "cell_type": "markdown",
   "id": "143",
   "metadata": {
    "papermill": {
     "duration": 0.147757,
     "end_time": "2023-12-04T15:47:25.746531",
     "exception": false,
     "start_time": "2023-12-04T15:47:25.598774",
     "status": "completed"
    },
    "tags": []
   },
   "source": [
    "More granularity is unnecessary"
   ]
  },
  {
   "cell_type": "markdown",
   "id": "144",
   "metadata": {
    "papermill": {
     "duration": 0.147776,
     "end_time": "2023-12-04T15:47:26.053229",
     "exception": false,
     "start_time": "2023-12-04T15:47:25.905453",
     "status": "completed"
    },
    "tags": []
   },
   "source": [
    "## Errata"
   ]
  },
  {
   "cell_type": "code",
   "execution_count": null,
   "id": "145",
   "metadata": {
    "papermill": {
     "duration": 0.17064,
     "end_time": "2023-12-04T15:47:26.381729",
     "exception": false,
     "start_time": "2023-12-04T15:47:26.211089",
     "status": "completed"
    },
    "tags": []
   },
   "outputs": [],
   "source": [
    "print(\"Total number of cards with errata:\", collection_df[\"Errata\"].count())"
   ]
  },
  {
   "cell_type": "code",
   "execution_count": null,
   "id": "146",
   "metadata": {
    "papermill": {
     "duration": 0.437268,
     "end_time": "2023-12-04T15:47:26.976046",
     "exception": false,
     "start_time": "2023-12-04T15:47:26.538778",
     "status": "completed"
    },
    "tags": []
   },
   "outputs": [],
   "source": [
    "collection_df[[\"Name\", \"Password\", \"TCG status\", \"OCG status\", \"Errata\"]][collection_df[\"Errata\"].notna()]"
   ]
  },
  {
   "cell_type": "code",
   "execution_count": null,
   "id": "147",
   "metadata": {
    "papermill": {
     "duration": 0.31186,
     "end_time": "2023-12-04T15:47:27.453824",
     "exception": false,
     "start_time": "2023-12-04T15:47:27.141964",
     "status": "completed"
    },
    "tags": []
   },
   "outputs": [],
   "source": [
    "errata_counts = collection_df.groupby(\"Errata\").nunique().sort_values(\"Name\", ascending=False)\n",
    "errata_counts"
   ]
  },
  {
   "cell_type": "code",
   "execution_count": null,
   "id": "148",
   "metadata": {
    "papermill": {
     "duration": 0.31122,
     "end_time": "2023-12-04T15:47:27.952095",
     "exception": false,
     "start_time": "2023-12-04T15:47:27.640875",
     "status": "completed"
    },
    "tags": []
   },
   "outputs": [],
   "source": [
    "plt.figure(figsize=(20, 8))\n",
    "plt.title(\"Errata\")\n",
    "sorted_errata_name_counts = errata_counts[\"Name\"].drop((\"Any\",)).sort_index(key=lambda x: [(len(i), i) for i in x])\n",
    "plot.venn2(\n",
    "    subsets=sorted_errata_name_counts,\n",
    "    set_labels=sorted_errata_name_counts.index[:-1].str[0],\n",
    ")\n",
    "plt.show()"
   ]
  },
  {
   "cell_type": "markdown",
   "id": "149",
   "metadata": {
    "papermill": {
     "duration": 0.149681,
     "end_time": "2023-12-04T15:47:28.287301",
     "exception": false,
     "start_time": "2023-12-04T15:47:28.137620",
     "status": "completed"
    },
    "tags": []
   },
   "source": [
    "### By card type"
   ]
  },
  {
   "cell_type": "code",
   "execution_count": null,
   "id": "150",
   "metadata": {
    "papermill": {
     "duration": 0.197182,
     "end_time": "2023-12-04T15:47:28.658212",
     "exception": false,
     "start_time": "2023-12-04T15:47:28.461030",
     "status": "completed"
    },
    "tags": []
   },
   "outputs": [],
   "source": [
    "errata_crosstab = pd.crosstab(collection_df[\"Errata\"], collection_df[\"Card type\"])\n",
    "errata_crosstab.sort_values(by=errata_crosstab.columns.tolist(), ascending=False)"
   ]
  },
  {
   "cell_type": "markdown",
   "id": "151",
   "metadata": {
    "papermill": {
     "duration": 0.173092,
     "end_time": "2023-12-04T15:47:29.021303",
     "exception": false,
     "start_time": "2023-12-04T15:47:28.848211",
     "status": "completed"
    },
    "tags": []
   },
   "source": [
    "### By primary type"
   ]
  },
  {
   "cell_type": "code",
   "execution_count": null,
   "id": "152",
   "metadata": {
    "papermill": {
     "duration": 0.192112,
     "end_time": "2023-12-04T15:47:29.487659",
     "exception": false,
     "start_time": "2023-12-04T15:47:29.295547",
     "status": "completed"
    },
    "tags": []
   },
   "outputs": [],
   "source": [
    "errata_crosstab_b = pd.crosstab(collection_df[\"Errata\"], collection_df[\"Primary type\"])\n",
    "errata_crosstab_b.sort_values(by=errata_crosstab_b.columns.tolist(), ascending=False)"
   ]
  },
  {
   "cell_type": "markdown",
   "id": "153",
   "metadata": {
    "papermill": {
     "duration": 0.155143,
     "end_time": "2023-12-04T15:47:29.843684",
     "exception": false,
     "start_time": "2023-12-04T15:47:29.688541",
     "status": "completed"
    },
    "tags": []
   },
   "source": [
    "More granularity is unnecessary"
   ]
  },
  {
   "cell_type": "markdown",
   "id": "154",
   "metadata": {
    "papermill": {
     "duration": 0.36699,
     "end_time": "2023-12-04T15:47:30.395448",
     "exception": false,
     "start_time": "2023-12-04T15:47:30.028458",
     "status": "completed"
    },
    "tags": []
   },
   "source": [
    "### By artwork"
   ]
  },
  {
   "cell_type": "code",
   "execution_count": null,
   "id": "155",
   "metadata": {
    "papermill": {
     "duration": 0.212769,
     "end_time": "2023-12-04T15:47:30.826154",
     "exception": false,
     "start_time": "2023-12-04T15:47:30.613385",
     "status": "completed"
    },
    "tags": []
   },
   "outputs": [],
   "source": [
    "errata_crosstab_c = pd.crosstab(collection_df[\"Artwork\"], collection_df[\"Errata\"])\n",
    "errata_crosstab_c.sort_values(by=errata_crosstab_c.columns.tolist(), ascending=False)"
   ]
  },
  {
   "cell_type": "markdown",
   "id": "156",
   "metadata": {
    "papermill": {
     "duration": 0.39526,
     "end_time": "2023-12-04T15:47:31.409523",
     "exception": false,
     "start_time": "2023-12-04T15:47:31.014263",
     "status": "completed"
    },
    "tags": []
   },
   "source": [
    "## TCG & OCG status"
   ]
  },
  {
   "cell_type": "markdown",
   "id": "157",
   "metadata": {
    "papermill": {
     "duration": 0.158153,
     "end_time": "2023-12-04T15:47:31.756665",
     "exception": false,
     "start_time": "2023-12-04T15:47:31.598512",
     "status": "completed"
    },
    "tags": []
   },
   "source": [
    "### TGC status"
   ]
  },
  {
   "cell_type": "code",
   "execution_count": null,
   "id": "158",
   "metadata": {
    "papermill": {
     "duration": 0.169231,
     "end_time": "2023-12-04T15:47:32.097232",
     "exception": false,
     "start_time": "2023-12-04T15:47:31.928001",
     "status": "completed"
    },
    "tags": []
   },
   "outputs": [],
   "source": [
    "print(\"Total number of TCG status:\", collection_df[\"TCG status\"].nunique())"
   ]
  },
  {
   "cell_type": "code",
   "execution_count": null,
   "id": "159",
   "metadata": {
    "papermill": {
     "duration": 0.293454,
     "end_time": "2023-12-04T15:47:32.560808",
     "exception": false,
     "start_time": "2023-12-04T15:47:32.267354",
     "status": "completed"
    },
    "tags": []
   },
   "outputs": [],
   "source": [
    "collection_df.drop(columns=[\"Page name\", \"Page URL\"]).groupby(\"TCG status\", dropna=False).nunique()"
   ]
  },
  {
   "cell_type": "code",
   "execution_count": null,
   "id": "160",
   "metadata": {
    "papermill": {
     "duration": 0.759329,
     "end_time": "2023-12-04T15:47:33.501005",
     "exception": false,
     "start_time": "2023-12-04T15:47:32.741676",
     "status": "completed"
    },
    "tags": []
   },
   "outputs": [],
   "source": [
    "collection_df[\"TCG status\"].value_counts(dropna=False).plot.bar(figsize=(18, 6), logy=True, grid=True, rot=45)\n",
    "plt.show()"
   ]
  },
  {
   "cell_type": "markdown",
   "id": "161",
   "metadata": {
    "papermill": {
     "duration": 0.159807,
     "end_time": "2023-12-04T15:47:33.849038",
     "exception": false,
     "start_time": "2023-12-04T15:47:33.689231",
     "status": "completed"
    },
    "tags": []
   },
   "source": [
    "#### By card type"
   ]
  },
  {
   "cell_type": "code",
   "execution_count": null,
   "id": "162",
   "metadata": {
    "papermill": {
     "duration": 0.195538,
     "end_time": "2023-12-04T15:47:34.217702",
     "exception": false,
     "start_time": "2023-12-04T15:47:34.022164",
     "status": "completed"
    },
    "tags": []
   },
   "outputs": [],
   "source": [
    "# Remove unlimited\n",
    "tcg_crosstab = pd.crosstab(collection_df[\"Card type\"], collection_df[\"TCG status\"]).drop([\"Unlimited\"], axis=1)\n",
    "tcg_crosstab"
   ]
  },
  {
   "cell_type": "code",
   "execution_count": null,
   "id": "163",
   "metadata": {
    "papermill": {
     "duration": 0.57199,
     "end_time": "2023-12-04T15:47:34.963744",
     "exception": false,
     "start_time": "2023-12-04T15:47:34.391754",
     "status": "completed"
    },
    "tags": []
   },
   "outputs": [],
   "source": [
    "plt.figure(figsize=(12, 6))\n",
    "sns.heatmap(\n",
    "    tcg_crosstab[tcg_crosstab > 0],\n",
    "    annot=True,\n",
    "    fmt=\"g\",\n",
    "    cmap=\"viridis\",\n",
    "    # norm=plot.LogNorm(),\n",
    ")\n",
    "plt.show()"
   ]
  },
  {
   "cell_type": "markdown",
   "id": "164",
   "metadata": {
    "papermill": {
     "duration": 0.159156,
     "end_time": "2023-12-04T15:47:35.337567",
     "exception": false,
     "start_time": "2023-12-04T15:47:35.178411",
     "status": "completed"
    },
    "tags": []
   },
   "source": [
    "#### By monster type"
   ]
  },
  {
   "cell_type": "code",
   "execution_count": null,
   "id": "165",
   "metadata": {
    "papermill": {
     "duration": 0.202355,
     "end_time": "2023-12-04T15:47:35.727244",
     "exception": false,
     "start_time": "2023-12-04T15:47:35.524889",
     "status": "completed"
    },
    "tags": []
   },
   "outputs": [],
   "source": [
    "# Remove unlimited\n",
    "tcg_crosstab_b = pd.crosstab(collection_df[\"Monster type\"], collection_df[\"TCG status\"]).drop([\"Unlimited\"], axis=1)\n",
    "tcg_crosstab_b"
   ]
  },
  {
   "cell_type": "code",
   "execution_count": null,
   "id": "166",
   "metadata": {
    "papermill": {
     "duration": 1.031321,
     "end_time": "2023-12-04T15:47:36.945591",
     "exception": false,
     "start_time": "2023-12-04T15:47:35.914270",
     "status": "completed"
    },
    "tags": []
   },
   "outputs": [],
   "source": [
    "plt.figure(figsize=(20, 4))\n",
    "sns.heatmap(\n",
    "    tcg_crosstab_b[tcg_crosstab_b > 0].T.dropna(how=\"all\", axis=1),\n",
    "    annot=True,\n",
    "    fmt=\"g\",\n",
    "    cmap=\"viridis\",\n",
    "    square=True,\n",
    ")\n",
    "plt.show()"
   ]
  },
  {
   "cell_type": "markdown",
   "id": "167",
   "metadata": {
    "papermill": {
     "duration": 0.303242,
     "end_time": "2023-12-04T15:47:37.432676",
     "exception": false,
     "start_time": "2023-12-04T15:47:37.129434",
     "status": "completed"
    },
    "tags": []
   },
   "source": [
    "#### By archseries"
   ]
  },
  {
   "cell_type": "code",
   "execution_count": null,
   "id": "168",
   "metadata": {
    "papermill": {
     "duration": 0.234063,
     "end_time": "2023-12-04T15:47:37.849190",
     "exception": false,
     "start_time": "2023-12-04T15:47:37.615127",
     "status": "completed"
    },
    "tags": []
   },
   "outputs": [],
   "source": [
    "# Remove unlimited\n",
    "tcg_crosstab_c = pd.crosstab(\n",
    "    exploded_archseries[\"Archseries\"].where(exploded_archseries[\"OCG status\"] != \"Unlimited\"),\n",
    "    exploded_archseries[\"TCG status\"],\n",
    "    margins=True,\n",
    ")\n",
    "tcg_crosstab_c"
   ]
  },
  {
   "cell_type": "markdown",
   "id": "169",
   "metadata": {
    "papermill": {
     "duration": 0.159223,
     "end_time": "2023-12-04T15:47:38.199942",
     "exception": false,
     "start_time": "2023-12-04T15:47:38.040719",
     "status": "completed"
    },
    "tags": []
   },
   "source": [
    "### OCG status"
   ]
  },
  {
   "cell_type": "code",
   "execution_count": null,
   "id": "170",
   "metadata": {
    "papermill": {
     "duration": 0.177811,
     "end_time": "2023-12-04T15:47:38.565700",
     "exception": false,
     "start_time": "2023-12-04T15:47:38.387889",
     "status": "completed"
    },
    "tags": []
   },
   "outputs": [],
   "source": [
    "print(\"Total number of OCG status:\", collection_df[\"OCG status\"].nunique())"
   ]
  },
  {
   "cell_type": "code",
   "execution_count": null,
   "id": "171",
   "metadata": {
    "papermill": {
     "duration": 0.323846,
     "end_time": "2023-12-04T15:47:39.082984",
     "exception": false,
     "start_time": "2023-12-04T15:47:38.759138",
     "status": "completed"
    },
    "tags": []
   },
   "outputs": [],
   "source": [
    "collection_df.drop(columns=[\"Page name\", \"Page URL\"]).groupby(\"OCG status\", dropna=False).nunique()"
   ]
  },
  {
   "cell_type": "code",
   "execution_count": null,
   "id": "172",
   "metadata": {
    "papermill": {
     "duration": 0.714169,
     "end_time": "2023-12-04T15:47:40.017703",
     "exception": false,
     "start_time": "2023-12-04T15:47:39.303534",
     "status": "completed"
    },
    "tags": []
   },
   "outputs": [],
   "source": [
    "collection_df[\"OCG status\"].value_counts(dropna=False).plot.bar(figsize=(18, 6), logy=True, grid=True, rot=45)\n",
    "plt.show()"
   ]
  },
  {
   "cell_type": "markdown",
   "id": "173",
   "metadata": {
    "papermill": {
     "duration": 0.161988,
     "end_time": "2023-12-04T15:47:40.372081",
     "exception": false,
     "start_time": "2023-12-04T15:47:40.210093",
     "status": "completed"
    },
    "tags": []
   },
   "source": [
    "#### By card type"
   ]
  },
  {
   "cell_type": "code",
   "execution_count": null,
   "id": "174",
   "metadata": {
    "papermill": {
     "duration": 0.203154,
     "end_time": "2023-12-04T15:47:40.766273",
     "exception": false,
     "start_time": "2023-12-04T15:47:40.563119",
     "status": "completed"
    },
    "tags": []
   },
   "outputs": [],
   "source": [
    "# Remove unlimited\n",
    "ocg_crosstab = pd.crosstab(collection_df[\"Card type\"], collection_df[\"OCG status\"]).drop([\"Unlimited\"], axis=1)\n",
    "ocg_crosstab"
   ]
  },
  {
   "cell_type": "code",
   "execution_count": null,
   "id": "175",
   "metadata": {
    "papermill": {
     "duration": 0.522394,
     "end_time": "2023-12-04T15:47:41.484695",
     "exception": false,
     "start_time": "2023-12-04T15:47:40.962301",
     "status": "completed"
    },
    "tags": []
   },
   "outputs": [],
   "source": [
    "plt.figure(figsize=(12, 6))\n",
    "sns.heatmap(ocg_crosstab[ocg_crosstab > 0], annot=True, fmt=\"g\", cmap=\"viridis\")\n",
    "plt.show()"
   ]
  },
  {
   "cell_type": "markdown",
   "id": "176",
   "metadata": {
    "papermill": {
     "duration": 0.1683,
     "end_time": "2023-12-04T15:47:41.839470",
     "exception": false,
     "start_time": "2023-12-04T15:47:41.671170",
     "status": "completed"
    },
    "tags": []
   },
   "source": [
    "#### By monster type"
   ]
  },
  {
   "cell_type": "code",
   "execution_count": null,
   "id": "177",
   "metadata": {
    "papermill": {
     "duration": 0.202634,
     "end_time": "2023-12-04T15:47:42.235020",
     "exception": false,
     "start_time": "2023-12-04T15:47:42.032386",
     "status": "completed"
    },
    "tags": []
   },
   "outputs": [],
   "source": [
    "ocg_crosstab_b = pd.crosstab(collection_df[\"Monster type\"], collection_df[\"OCG status\"]).drop([\"Unlimited\"], axis=1)\n",
    "ocg_crosstab_b"
   ]
  },
  {
   "cell_type": "code",
   "execution_count": null,
   "id": "178",
   "metadata": {
    "papermill": {
     "duration": 0.865688,
     "end_time": "2023-12-04T15:47:43.269769",
     "exception": false,
     "start_time": "2023-12-04T15:47:42.404081",
     "status": "completed"
    },
    "tags": []
   },
   "outputs": [],
   "source": [
    "plt.figure(figsize=(20, 4))\n",
    "sns.heatmap(\n",
    "    ocg_crosstab_b[ocg_crosstab_b > 0].T.dropna(how=\"all\", axis=1),\n",
    "    annot=True,\n",
    "    fmt=\"g\",\n",
    "    cmap=\"viridis\",\n",
    "    square=True,\n",
    ")\n",
    "plt.show()"
   ]
  },
  {
   "cell_type": "markdown",
   "id": "179",
   "metadata": {
    "papermill": {
     "duration": 0.277018,
     "end_time": "2023-12-04T15:47:43.724449",
     "exception": false,
     "start_time": "2023-12-04T15:47:43.447431",
     "status": "completed"
    },
    "tags": []
   },
   "source": [
    "#### By archseries"
   ]
  },
  {
   "cell_type": "code",
   "execution_count": null,
   "id": "180",
   "metadata": {
    "papermill": {
     "duration": 0.276812,
     "end_time": "2023-12-04T15:47:44.435923",
     "exception": false,
     "start_time": "2023-12-04T15:47:44.159111",
     "status": "completed"
    },
    "tags": []
   },
   "outputs": [],
   "source": [
    "# Remove unlimited\n",
    "ocg_crosstab_c = pd.crosstab(\n",
    "    exploded_archseries[\"Archseries\"].where(exploded_archseries[\"OCG status\"] != \"Unlimited\"),\n",
    "    exploded_archseries[\"OCG status\"],\n",
    "    margins=True,\n",
    ")\n",
    "ocg_crosstab_c"
   ]
  },
  {
   "cell_type": "markdown",
   "id": "181",
   "metadata": {
    "papermill": {
     "duration": 0.167196,
     "end_time": "2023-12-04T15:47:44.793952",
     "exception": false,
     "start_time": "2023-12-04T15:47:44.626756",
     "status": "completed"
    },
    "tags": []
   },
   "source": [
    "### TCG vs. OCG status"
   ]
  },
  {
   "cell_type": "code",
   "execution_count": null,
   "id": "182",
   "metadata": {
    "papermill": {
     "duration": 0.210368,
     "end_time": "2023-12-04T15:47:45.202870",
     "exception": false,
     "start_time": "2023-12-04T15:47:44.992502",
     "status": "completed"
    },
    "tags": []
   },
   "outputs": [],
   "source": [
    "cg_crosstab = pd.crosstab(\n",
    "    collection_df[\"OCG status\"],\n",
    "    collection_df[\"TCG status\"],\n",
    "    dropna=False,\n",
    "    margins=False,\n",
    ")\n",
    "cg_crosstab"
   ]
  },
  {
   "cell_type": "code",
   "execution_count": null,
   "id": "183",
   "metadata": {
    "papermill": {
     "duration": 0.806324,
     "end_time": "2023-12-04T15:47:46.201316",
     "exception": false,
     "start_time": "2023-12-04T15:47:45.394992",
     "status": "completed"
    },
    "tags": []
   },
   "outputs": [],
   "source": [
    "plt.figure(figsize=(10, 8))\n",
    "sns.heatmap(\n",
    "    cg_crosstab[cg_crosstab > 0],\n",
    "    annot=True,\n",
    "    fmt=\"g\",\n",
    "    cmap=\"viridis\",\n",
    "    square=True,\n",
    "    norm=plot.LogNorm(),\n",
    ")\n",
    "plt.show()"
   ]
  },
  {
   "cell_type": "markdown",
   "id": "184",
   "metadata": {
    "papermill": {
     "duration": 0.150264,
     "end_time": "2023-02-22T22:27:41.665707",
     "exception": false,
     "start_time": "2023-02-22T22:27:41.515443",
     "status": "completed"
    },
    "tags": []
   },
   "source": [
    "# Epilogue"
   ]
  },
  {
   "cell_type": "code",
   "execution_count": null,
   "id": "185",
   "metadata": {
    "papermill": {
     "duration": 0.165205,
     "end_time": "2023-02-22T22:27:41.981675",
     "exception": false,
     "start_time": "2023-02-22T22:27:41.816470",
     "status": "completed"
    },
    "tags": []
   },
   "outputs": [],
   "source": [
    "# benchmark(report='Collection',timestamp=timestamp)"
   ]
  },
  {
   "cell_type": "code",
   "execution_count": null,
   "id": "186",
   "metadata": {
    "papermill": {
     "duration": 0.17123,
     "end_time": "2023-02-22T22:27:42.303245",
     "exception": false,
     "start_time": "2023-02-22T22:27:42.132015",
     "status": "completed"
    },
    "tags": []
   },
   "outputs": [],
   "source": [
    "footer(timestamp)"
   ]
  },
  {
   "cell_type": "markdown",
   "id": "187",
   "metadata": {
    "papermill": {
     "duration": 0.161301,
     "end_time": "2023-02-22T22:27:42.621788",
     "exception": false,
     "start_time": "2023-02-22T22:27:42.460487",
     "status": "completed"
    },
    "tags": []
   },
   "source": [
    "## HTML export"
   ]
  },
  {
   "cell_type": "code",
   "execution_count": null,
   "id": "188",
   "metadata": {
    "papermill": {
     "duration": 0.166335,
     "end_time": "2023-02-22T22:27:42.941056",
     "exception": false,
     "start_time": "2023-02-22T22:27:42.774721",
     "status": "completed"
    },
    "tags": []
   },
   "outputs": [],
   "source": [
    "# Save notebook on disck before generating HTML report\n",
    "save_notebook()"
   ]
  },
  {
   "cell_type": "code",
   "execution_count": null,
   "id": "189",
   "metadata": {
    "papermill": {
     "duration": 3.911313,
     "end_time": "2023-02-22T22:27:47.005324",
     "exception": false,
     "start_time": "2023-02-22T22:27:43.094011",
     "status": "completed"
    },
    "tags": []
   },
   "outputs": [],
   "source": [
    "export_notebook(dirs.NOTEBOOKS.user / \"Collection.ipynb\")"
   ]
  },
  {
   "cell_type": "markdown",
   "id": "190",
   "metadata": {
    "papermill": {
     "duration": 0.172809,
     "end_time": "2023-02-22T22:27:47.330627",
     "exception": false,
     "start_time": "2023-02-22T22:27:47.157818",
     "status": "completed"
    },
    "tags": [
     "exclude"
    ]
   },
   "source": [
    "## Git"
   ]
  },
  {
   "cell_type": "code",
   "execution_count": null,
   "id": "191",
   "metadata": {},
   "outputs": [],
   "source": [
    "git.commit(\"*[Cc]olection*\", f\"Collection update - {timestamp.isoformat()}\")"
   ]
  }
 ],
 "metadata": {
  "kernelspec": {
   "display_name": "Python 3 (ipykernel)",
   "language": "python",
   "name": "python3"
  },
  "language_info": {
   "codemirror_mode": {
    "name": "ipython",
    "version": 3
   },
   "file_extension": ".py",
   "mimetype": "text/x-python",
   "name": "python",
   "nbconvert_exporter": "python",
   "pygments_lexer": "ipython3",
   "version": "3.12.6"
  },
  "papermill": {
   "default_parameters": {},
   "duration": 216.133721,
   "end_time": "2023-02-22T22:27:50.787255",
   "environment_variables": {},
   "exception": null,
   "input_path": "Cards.ipynb",
   "output_path": "Cards.ipynb",
   "parameters": {},
   "start_time": "2023-02-22T22:24:14.653534",
   "version": "2.4.0"
  },
  "toc": {
   "base_numbering": 1,
   "nav_menu": {
    "height": "599px",
    "width": "228px"
   },
   "number_sections": true,
   "sideBar": true,
   "skip_h1_title": false,
   "title_cell": "Table of Contents",
   "title_sidebar": "Contents",
   "toc_cell": true,
   "toc_position": {
    "height": "calc(100% - 180px)",
    "left": "10px",
    "top": "150px",
    "width": "353px"
   },
   "toc_section_display": true,
   "toc_window_display": true
  },
  "toc-autonumbering": false,
  "toc-showcode": false,
  "toc-showmarkdowntxt": false
 },
 "nbformat": 4,
 "nbformat_minor": 5
}
