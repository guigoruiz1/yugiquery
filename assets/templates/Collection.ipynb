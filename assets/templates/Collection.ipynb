{
 "cells": [
  {
   "cell_type": "code",
   "execution_count": null,
   "id": "0",
   "metadata": {
    "papermill": {
     "duration": 2.114388,
     "end_time": "2023-02-22T22:24:17.995164",
     "exception": false,
     "start_time": "2023-02-22T22:24:15.880776",
     "status": "completed"
    },
    "tags": []
   },
   "outputs": [],
   "source": [
    "import sys, os\n",
    "\n",
    "sys.path.insert(0, os.path.abspath(\"../..\"))\n",
    "\n",
    "from yugiquery import *\n",
    "\n",
    "init_notebook_mode(all_interactive=True)\n",
    "\n",
    "header(\"My Collection\")"
   ]
  },
  {
   "cell_type": "markdown",
   "id": "1",
   "metadata": {
    "papermill": {
     "duration": 0.063612,
     "end_time": "2023-02-22T22:24:18.102172",
     "exception": false,
     "start_time": "2023-02-22T22:24:18.038560",
     "status": "completed"
    },
    "tags": []
   },
   "source": [
    "---"
   ]
  },
  {
   "cell_type": "markdown",
   "id": "2",
   "metadata": {
    "papermill": {
     "duration": 0.041131,
     "end_time": "2023-02-22T22:24:18.189667",
     "exception": false,
     "start_time": "2023-02-22T22:24:18.148536",
     "status": "completed"
    },
    "tags": [],
    "toc": true
   },
   "source": [
    "Table of Contents <a class=\"jp-toc-ignore\"></a>\n",
    "=================\n",
    "\n",
    "*   [1  Data loading](#Data-loading)\n",
    "    *   [1.1  Read collection](#Read-collection)\n",
    "*   [2  Check changes](#Check-changes)\n",
    "    *   [2.1  Load previous data](#Load-previous-data)\n",
    "    *   [2.2  Generate changelogs](#Generate-changelogs)\n",
    "    *   [2.3  Save data](#Save-data)\n",
    "*   [3  Data visualization](#Data-visualization)\n",
    "    *   [3.1  Full data](#Full-data)\n",
    "    *   [3.2  Card types](#Card-types)\n",
    "    *   [3.3  Monsters](#Monsters)\n",
    "        *   [3.3.1  Attributes](#Attributes)\n",
    "        *   [3.3.2  Primary types](#Primary-types)\n",
    "            *   [3.3.2.1  Has effect discrimination](#Has-effect-discrimination)\n",
    "            *   [3.3.2.2  Is pendulum discrimination](#Is-pendulum-discrimination)\n",
    "            *   [3.3.2.3  By attribute](#By-attribute)\n",
    "        *   [3.3.3  Secondary types](#Secondary-types)\n",
    "            *   [3.3.3.1  By attribute](#By-attribute)\n",
    "            *   [3.3.3.2  By primary type](#By-primary-type)\n",
    "        *   [3.3.4  Monster types](#Monster-types)\n",
    "            *   [3.3.4.1  By Attribute](#By-Attribute)\n",
    "            *   [3.3.4.2  By primary type](#By-primary-type)\n",
    "            *   [3.3.4.3  By secondary type](#By-secondary-type)\n",
    "        *   [3.3.5  ATK](#ATK)\n",
    "        *   [3.3.6  DEF](#DEF)\n",
    "        *   [3.3.7  Level/Rank](#Level/Rank)\n",
    "            *   [3.3.7.1  ATK statistics](#ATK-statistics)\n",
    "            *   [3.3.7.2  DEF statistics](#DEF-statistics)\n",
    "        *   [3.3.8  Pendulum scale](#Pendulum-scale)\n",
    "            *   [3.3.8.1  ATK statistics](#ATK-statistics)\n",
    "            *   [3.3.8.2  DEF statistics](#DEF-statistics)\n",
    "            *   [3.3.8.3  Level/Rank statistics](#Level/Rank-statistics)\n",
    "        *   [3.3.9  Link](#Link)\n",
    "            *   [3.3.9.1  ATK statistics](#ATK-statistics)\n",
    "        *   [3.3.10  Link Arrows](#Link-Arrows)\n",
    "            *   [3.3.10.1  By combination](#By-combination)\n",
    "            *   [3.3.10.2  By unique](#By-unique)\n",
    "            *   [3.3.10.3  By link](#By-link)\n",
    "    *   [3.4  Spell & Trap](#Spell-&-Trap)\n",
    "        *   [3.4.1  Properties](#Properties)\n",
    "    *   [3.5  Effect type](#Effect-type)\n",
    "        *   [3.5.1  Card type discrimination](#Card-type-discrimination)\n",
    "    *   [3.6  Archseries](#Archseries)\n",
    "        *   [3.6.1  By card type](#By-card-type)\n",
    "        *   [3.6.2  By primary type](#By-primary-type)\n",
    "        *   [3.6.3  By secondary type](#By-secondary-type)\n",
    "        *   [3.6.4  By monster type](#By-monster-type)\n",
    "        *   [3.6.5  By property](#By-property)\n",
    "    *   [3.7  Artworks](#Artworks)\n",
    "        *   [3.7.1  By card type](#By-card-type)\n",
    "        *   [3.7.2  By primary type](#By-primary-type)\n",
    "    *   [3.8  Errata](#Errata)\n",
    "        *   [3.8.1  By card type](#By-card-type)\n",
    "        *   [3.8.2  By primary type](#By-primary-type)\n",
    "        *   [3.8.3  By artwork](#By-artwork)\n",
    "    *   [3.9  TCG & OCG status](#TCG-&-OCG-status)\n",
    "        *   [3.9.1  TGC status](#TGC-status)\n",
    "            *   [3.9.1.1  By card type](#By-card-type)\n",
    "            *   [3.9.1.2  By monster type](#By-monster-type)\n",
    "            *   [3.9.1.3  By archseries](#By-archseries)\n",
    "        *   [3.9.2  OCG status](#OCG-status)\n",
    "            *   [3.9.2.1  By card type](#By-card-type)\n",
    "            *   [3.9.2.2  By monster type](#By-monster-type)\n",
    "            *   [3.9.2.3  By archseries](#By-archseries)\n",
    "        *   [3.9.3  TCG vs. OCG status](#TCG-vs.-OCG-status)\n",
    "*   [4  Epilogue](#Epilogue)\n",
    "    *   [4.1  HTML export](#HTML-export)\n",
    "<!-- *   [4.2  Git](#Git) -->"
   ]
  },
  {
   "cell_type": "markdown",
   "id": "3",
   "metadata": {
    "papermill": {
     "duration": 0.040783,
     "end_time": "2023-02-22T22:24:18.272311",
     "exception": false,
     "start_time": "2023-02-22T22:24:18.231528",
     "status": "completed"
    },
    "tags": []
   },
   "source": [
    "# Data loading"
   ]
  },
  {
   "cell_type": "markdown",
   "id": "4",
   "metadata": {
    "papermill": {
     "duration": 0.041502,
     "end_time": "2023-02-22T22:24:18.354961",
     "exception": false,
     "start_time": "2023-02-22T22:24:18.313459",
     "status": "completed"
    },
    "tags": []
   },
   "source": [
    "## Read collection"
   ]
  },
  {
   "cell_type": "code",
   "execution_count": null,
   "id": "5",
   "metadata": {
    "papermill": {
     "duration": 0.051187,
     "end_time": "2023-02-22T22:24:18.447381",
     "exception": false,
     "start_time": "2023-02-22T22:24:18.396194",
     "status": "completed"
    },
    "tags": []
   },
   "outputs": [],
   "source": [
    "# Timestamp\n",
    "timestamp = arrow.utcnow()"
   ]
  },
  {
   "cell_type": "code",
   "execution_count": null,
   "id": "6",
   "metadata": {},
   "outputs": [],
   "source": [
    "collection_df = get_collection()"
   ]
  },
  {
   "cell_type": "code",
   "execution_count": null,
   "id": "7",
   "metadata": {},
   "outputs": [],
   "source": [
    "# Process the collection data frame\n",
    "collection_df = find_cards(collection_df, merge_data=True)"
   ]
  },
  {
   "cell_type": "markdown",
   "id": "8",
   "metadata": {
    "papermill": {
     "duration": 0.066959,
     "end_time": "2023-02-22T22:26:28.492052",
     "exception": false,
     "start_time": "2023-02-22T22:26:28.425093",
     "status": "completed"
    },
    "tags": []
   },
   "source": [
    "# Check changes"
   ]
  },
  {
   "cell_type": "markdown",
   "id": "9",
   "metadata": {
    "papermill": {
     "duration": 0.045648,
     "end_time": "2023-02-22T22:26:28.584087",
     "exception": false,
     "start_time": "2023-02-22T22:26:28.538439",
     "status": "completed"
    },
    "tags": []
   },
   "source": [
    "## Load previous data"
   ]
  },
  {
   "cell_type": "code",
   "execution_count": null,
   "id": "10",
   "metadata": {
    "papermill": {
     "duration": 0.66308,
     "end_time": "2023-02-22T22:26:29.293911",
     "exception": false,
     "start_time": "2023-02-22T22:26:28.630831",
     "status": "completed"
    },
    "tags": []
   },
   "outputs": [],
   "source": [
    "# Get latest file if exist\n",
    "previous_collection_df, previous_collection_ts = load_latest_data(\"collection\")\n",
    "\n",
    "if previous_collection_df is not None:\n",
    "    previous_collection_df = previous_collection_df.astype(\n",
    "        collection_df[previous_collection_df.columns.intersection(collection_df.columns)].dtypes.to_dict()\n",
    "    )"
   ]
  },
  {
   "cell_type": "markdown",
   "id": "11",
   "metadata": {
    "papermill": {
     "duration": 0.067311,
     "end_time": "2023-02-22T22:26:29.405020",
     "exception": false,
     "start_time": "2023-02-22T22:26:29.337709",
     "status": "completed"
    },
    "tags": []
   },
   "source": [
    "## Generate changelogs"
   ]
  },
  {
   "cell_type": "code",
   "execution_count": null,
   "id": "12",
   "metadata": {
    "papermill": {
     "duration": 0.393628,
     "end_time": "2023-02-22T22:26:29.843153",
     "exception": false,
     "start_time": "2023-02-22T22:26:29.449525",
     "status": "completed"
    },
    "tags": []
   },
   "outputs": [],
   "source": [
    "if previous_collection_df is None:\n",
    "    collection_changelog = None\n",
    "    print(\"Skipped\")\n",
    "else:\n",
    "    collection_changelog = generate_changelog(previous_collection_df, collection_df, col=\"Name\")\n",
    "    if not collection_changelog.empty:\n",
    "        display(collection_changelog)\n",
    "        collection_changelog.to_csv(\n",
    "            dirs.DATA\n",
    "            / make_filename(\n",
    "                report=\"collection\",\n",
    "                timestamp=timestamp,\n",
    "                previous_timestamp=previous_collection_ts,\n",
    "            ),\n",
    "            index=True,\n",
    "        )\n",
    "        print(\"Changelog saved\")"
   ]
  },
  {
   "cell_type": "markdown",
   "id": "13",
   "metadata": {
    "papermill": {
     "duration": 0.142508,
     "end_time": "2023-02-22T22:26:30.031104",
     "exception": false,
     "start_time": "2023-02-22T22:26:29.888596",
     "status": "completed"
    },
    "tags": []
   },
   "source": [
    "## Save data"
   ]
  },
  {
   "cell_type": "code",
   "execution_count": null,
   "id": "14",
   "metadata": {
    "papermill": {
     "duration": 0.331666,
     "end_time": "2023-02-22T22:26:30.407431",
     "exception": false,
     "start_time": "2023-02-22T22:26:30.075765",
     "status": "completed"
    },
    "tags": []
   },
   "outputs": [],
   "source": [
    "if collection_changelog is not None and collection_changelog.empty:\n",
    "    print(\"No changes. New data not saved\")\n",
    "else:\n",
    "    collection_df.to_csv(\n",
    "        dirs.DATA / make_filename(report=\"collection\", timestamp=timestamp),\n",
    "        index=False,\n",
    "    )\n",
    "    print(\"Data saved\")"
   ]
  },
  {
   "cell_type": "markdown",
   "id": "15",
   "metadata": {
    "papermill": {
     "duration": 0.089761,
     "end_time": "2023-02-22T22:26:30.542746",
     "exception": false,
     "start_time": "2023-02-22T22:26:30.452985",
     "status": "completed"
    },
    "tags": []
   },
   "source": [
    "# Data visualization"
   ]
  },
  {
   "cell_type": "code",
   "execution_count": null,
   "id": "16",
   "metadata": {},
   "outputs": [],
   "source": [
    "# Helper for nunique tables\n",
    "nunique_drop_cols = [\"Count\", \"Card type\", \"Page name\", \"Page URL\"]"
   ]
  },
  {
   "cell_type": "markdown",
   "id": "17",
   "metadata": {
    "papermill": {
     "duration": 0.044781,
     "end_time": "2023-02-22T22:26:30.633464",
     "exception": false,
     "start_time": "2023-02-22T22:26:30.588683",
     "status": "completed"
    },
    "tags": []
   },
   "source": [
    "## Full data"
   ]
  },
  {
   "cell_type": "code",
   "execution_count": null,
   "id": "18",
   "metadata": {
    "papermill": {
     "duration": 0.091385,
     "end_time": "2023-02-22T22:26:30.769693",
     "exception": false,
     "start_time": "2023-02-22T22:26:30.678308",
     "status": "completed"
    },
    "tags": []
   },
   "outputs": [],
   "source": [
    "collection_df"
   ]
  },
  {
   "cell_type": "markdown",
   "id": "19",
   "metadata": {
    "papermill": {
     "duration": 0.045869,
     "end_time": "2023-02-22T22:26:30.953962",
     "exception": false,
     "start_time": "2023-02-22T22:26:30.908093",
     "status": "completed"
    },
    "tags": []
   },
   "source": [
    "## Card types"
   ]
  },
  {
   "cell_type": "code",
   "execution_count": null,
   "id": "20",
   "metadata": {
    "papermill": {
     "duration": 0.06536,
     "end_time": "2023-02-22T22:26:31.065344",
     "exception": false,
     "start_time": "2023-02-22T22:26:30.999984",
     "status": "completed"
    },
    "tags": []
   },
   "outputs": [],
   "source": [
    "print(\"Total number of Card types:\", collection_df[\"Card type\"].nunique())"
   ]
  },
  {
   "cell_type": "code",
   "execution_count": null,
   "id": "21",
   "metadata": {
    "papermill": {
     "duration": 0.354006,
     "end_time": "2023-02-22T22:26:31.466241",
     "exception": false,
     "start_time": "2023-02-22T22:26:31.112235",
     "status": "completed"
    },
    "tags": []
   },
   "outputs": [],
   "source": [
    "card_type_colors = [plot.colors_dict[i] for i in collection_df[\"Card type\"].value_counts().index]\n",
    "collection_df.groupby([\"Card type\"])[\"Count\"].sum().plot.bar(figsize=(14, 6), grid=True, rot=0, color=card_type_colors)\n",
    "plt.show()"
   ]
  },
  {
   "cell_type": "markdown",
   "id": "22",
   "metadata": {
    "papermill": {
     "duration": 0.071833,
     "end_time": "2023-12-04T15:46:27.660299",
     "exception": false,
     "start_time": "2023-12-04T15:46:27.588466",
     "status": "completed"
    },
    "tags": []
   },
   "source": [
    "## Monsters"
   ]
  },
  {
   "cell_type": "markdown",
   "id": "23",
   "metadata": {
    "papermill": {
     "duration": 0.074412,
     "end_time": "2023-12-04T15:46:27.807604",
     "exception": false,
     "start_time": "2023-12-04T15:46:27.733192",
     "status": "completed"
    },
    "tags": []
   },
   "source": [
    "### Attributes"
   ]
  },
  {
   "cell_type": "code",
   "execution_count": null,
   "id": "24",
   "metadata": {
    "papermill": {
     "duration": 0.093107,
     "end_time": "2023-12-04T15:46:27.980289",
     "exception": false,
     "start_time": "2023-12-04T15:46:27.887182",
     "status": "completed"
    },
    "tags": []
   },
   "outputs": [],
   "source": [
    "print(\"Total number of attributes:\", collection_df[\"Attribute\"].nunique())"
   ]
  },
  {
   "cell_type": "markdown",
   "id": "25",
   "metadata": {},
   "source": [
    "Unique entries for each column grouped by \"Attribute\""
   ]
  },
  {
   "cell_type": "code",
   "execution_count": null,
   "id": "26",
   "metadata": {
    "papermill": {
     "duration": 0.17771,
     "end_time": "2023-12-04T15:46:28.237718",
     "exception": false,
     "start_time": "2023-12-04T15:46:28.060008",
     "status": "completed"
    },
    "tags": []
   },
   "outputs": [],
   "source": [
    "collection_df.drop(columns=nunique_drop_cols).groupby(\"Attribute\").nunique()"
   ]
  },
  {
   "cell_type": "code",
   "execution_count": null,
   "id": "27",
   "metadata": {
    "papermill": {
     "duration": 0.39166,
     "end_time": "2023-12-04T15:46:28.704839",
     "exception": false,
     "start_time": "2023-12-04T15:46:28.313179",
     "status": "completed"
    },
    "tags": []
   },
   "outputs": [],
   "source": [
    "if not collection_df[\"Attribute\"].isna().all():\n",
    "    attribute_colors = [plot.colors_dict[i] for i in collection_df[\"Attribute\"].value_counts().index]\n",
    "    collection_df.groupby([\"Attribute\"])[\"Count\"].sum().plot.bar(figsize=(14, 6), grid=True, rot=0, color=attribute_colors)\n",
    "    plt.show()"
   ]
  },
  {
   "cell_type": "markdown",
   "id": "28",
   "metadata": {
    "papermill": {
     "duration": 0.072325,
     "end_time": "2023-12-04T15:46:28.932397",
     "exception": false,
     "start_time": "2023-12-04T15:46:28.860072",
     "status": "completed"
    },
    "tags": []
   },
   "source": [
    "### Primary types"
   ]
  },
  {
   "cell_type": "code",
   "execution_count": null,
   "id": "29",
   "metadata": {
    "papermill": {
     "duration": 0.180779,
     "end_time": "2023-12-04T15:46:29.355043",
     "exception": false,
     "start_time": "2023-12-04T15:46:29.174264",
     "status": "completed"
    },
    "tags": []
   },
   "outputs": [],
   "source": [
    "print(\"Total number of primary types:\", collection_df[\"Primary type\"].nunique())"
   ]
  },
  {
   "cell_type": "markdown",
   "id": "30",
   "metadata": {},
   "source": [
    "Unique entries for each column grouped by \"Primary type\""
   ]
  },
  {
   "cell_type": "code",
   "execution_count": null,
   "id": "31",
   "metadata": {
    "papermill": {
     "duration": 0.211471,
     "end_time": "2023-12-04T15:46:29.653863",
     "exception": false,
     "start_time": "2023-12-04T15:46:29.442392",
     "status": "completed"
    },
    "tags": []
   },
   "outputs": [],
   "source": [
    "collection_df.drop(columns=nunique_drop_cols).groupby(\"Primary type\").nunique()"
   ]
  },
  {
   "cell_type": "markdown",
   "id": "32",
   "metadata": {
    "papermill": {
     "duration": 0.12162,
     "end_time": "2023-12-04T15:46:29.859912",
     "exception": false,
     "start_time": "2023-12-04T15:46:29.738292",
     "status": "completed"
    },
    "tags": []
   },
   "source": [
    "#### Has effect discrimination"
   ]
  },
  {
   "cell_type": "code",
   "execution_count": null,
   "id": "33",
   "metadata": {
    "papermill": {
     "duration": 0.326807,
     "end_time": "2023-12-04T15:46:30.301499",
     "exception": false,
     "start_time": "2023-12-04T15:46:29.974692",
     "status": "completed"
    },
    "tags": []
   },
   "outputs": [],
   "source": [
    "effect = (\n",
    "    pd.crosstab(\n",
    "        collection_df[\"Primary type\"],\n",
    "        pd.isna(collection_df[\"Effect type\"]),\n",
    "        values=collection_df[\"Count\"],\n",
    "        aggfunc=\"sum\",\n",
    "        rownames=[\"Primary type\"],\n",
    "        colnames=[\"Has effect\"],\n",
    "    )\n",
    "    .fillna(0)\n",
    "    .rename(columns={True: \"No Effect\", False: \"Effect\"})\n",
    ")\n",
    "effect"
   ]
  },
  {
   "cell_type": "code",
   "execution_count": null,
   "id": "34",
   "metadata": {
    "papermill": {
     "duration": 0.386946,
     "end_time": "2023-12-04T15:46:30.784990",
     "exception": false,
     "start_time": "2023-12-04T15:46:30.398044",
     "status": "completed"
    },
    "tags": []
   },
   "outputs": [],
   "source": [
    "monster_type_colors = {\n",
    "    \"No Effect\": plot.colors_dict[\"Normal Monster\"],\n",
    "    \"Effect\": [plot.colors_dict[i] for i in effect.index],\n",
    "}\n",
    "effect.plot.bar(\n",
    "    figsize=(14, 6),\n",
    "    stacked=True,\n",
    "    grid=True,\n",
    "    rot=0,\n",
    "    legend=True,\n",
    "    color=monster_type_colors,\n",
    ")\n",
    "# plt.yscale('log')\n",
    "plt.show()"
   ]
  },
  {
   "cell_type": "markdown",
   "id": "35",
   "metadata": {
    "papermill": {
     "duration": 0.085381,
     "end_time": "2023-12-04T15:46:30.983026",
     "exception": false,
     "start_time": "2023-12-04T15:46:30.897645",
     "status": "completed"
    },
    "tags": []
   },
   "source": [
    "Obs: Normal monster can have effect if it is pendulum"
   ]
  },
  {
   "cell_type": "markdown",
   "id": "36",
   "metadata": {
    "papermill": {
     "duration": 0.078801,
     "end_time": "2023-12-04T15:46:31.146844",
     "exception": false,
     "start_time": "2023-12-04T15:46:31.068043",
     "status": "completed"
    },
    "tags": []
   },
   "source": [
    "#### Is pendulum discrimination"
   ]
  },
  {
   "cell_type": "code",
   "execution_count": null,
   "id": "37",
   "metadata": {
    "papermill": {
     "duration": 0.10735,
     "end_time": "2023-12-04T15:46:31.334289",
     "exception": false,
     "start_time": "2023-12-04T15:46:31.226939",
     "status": "completed"
    },
    "tags": []
   },
   "outputs": [],
   "source": [
    "pendulum = (\n",
    "    pd.crosstab(\n",
    "        collection_df[\"Primary type\"],\n",
    "        pd.isna(collection_df[\"Pendulum Scale\"]),\n",
    "        values=collection_df[\"Count\"],\n",
    "        aggfunc=\"sum\",\n",
    "        rownames=[\"Primary type\"],\n",
    "        colnames=[\"Is Pendulum\"],\n",
    "    )\n",
    "    .fillna(0)\n",
    "    .rename(columns={True: \"Not Pendulum\", False: \"Pendulum\"})\n",
    ")\n",
    "pendulum"
   ]
  },
  {
   "cell_type": "code",
   "execution_count": null,
   "id": "38",
   "metadata": {
    "papermill": {
     "duration": 0.39728,
     "end_time": "2023-12-04T15:46:31.811406",
     "exception": false,
     "start_time": "2023-12-04T15:46:31.414126",
     "status": "completed"
    },
    "tags": []
   },
   "outputs": [],
   "source": [
    "monster_type_colors_b = {\n",
    "    \"Pendulum\": plot.colors_dict[\"Pendulum Monster\"],\n",
    "    \"Not Pendulum\": [plot.colors_dict[i] for i in pendulum.index],\n",
    "}\n",
    "pendulum.plot.bar(\n",
    "    figsize=(14, 6),\n",
    "    stacked=True,\n",
    "    grid=True,\n",
    "    rot=0,\n",
    "    color=monster_type_colors_b,\n",
    "    legend=True,\n",
    "    title=\"Primary types - Is pendulum\",\n",
    ")\n",
    "plt.show()"
   ]
  },
  {
   "cell_type": "markdown",
   "id": "39",
   "metadata": {
    "papermill": {
     "duration": 0.076539,
     "end_time": "2023-12-04T15:46:31.995855",
     "exception": false,
     "start_time": "2023-12-04T15:46:31.919316",
     "status": "completed"
    },
    "tags": []
   },
   "source": [
    "#### By attribute"
   ]
  },
  {
   "cell_type": "code",
   "execution_count": null,
   "id": "40",
   "metadata": {
    "papermill": {
     "duration": 0.141105,
     "end_time": "2023-12-04T15:46:32.227700",
     "exception": false,
     "start_time": "2023-12-04T15:46:32.086595",
     "status": "completed"
    },
    "tags": []
   },
   "outputs": [],
   "source": [
    "primmary_crosstab = pd.crosstab(\n",
    "    collection_df[\"Primary type\"], collection_df[\"Attribute\"], values=collection_df[\"Count\"], aggfunc=\"sum\"\n",
    ").fillna(0)\n",
    "primmary_crosstab"
   ]
  },
  {
   "cell_type": "code",
   "execution_count": null,
   "id": "41",
   "metadata": {
    "papermill": {
     "duration": 1.148479,
     "end_time": "2023-12-04T15:46:33.458269",
     "exception": false,
     "start_time": "2023-12-04T15:46:32.309790",
     "status": "completed"
    },
    "tags": []
   },
   "outputs": [],
   "source": [
    "plt.figure(figsize=(14, 10))\n",
    "sns.heatmap(\n",
    "    primmary_crosstab.T,\n",
    "    annot=True,\n",
    "    fmt=\"g\",\n",
    "    cmap=\"viridis\",\n",
    "    square=True,\n",
    "    norm=plot.LogNorm(),\n",
    ")\n",
    "plt.show()"
   ]
  },
  {
   "cell_type": "markdown",
   "id": "42",
   "metadata": {
    "papermill": {
     "duration": 0.078557,
     "end_time": "2023-12-04T15:46:33.647694",
     "exception": false,
     "start_time": "2023-12-04T15:46:33.569137",
     "status": "completed"
    },
    "tags": []
   },
   "source": [
    "### Secondary types"
   ]
  },
  {
   "cell_type": "code",
   "execution_count": null,
   "id": "43",
   "metadata": {
    "papermill": {
     "duration": 0.184716,
     "end_time": "2023-12-04T15:46:33.917134",
     "exception": false,
     "start_time": "2023-12-04T15:46:33.732418",
     "status": "completed"
    },
    "tags": []
   },
   "outputs": [],
   "source": [
    "exploded_secondary_type = collection_df.explode(\"Secondary type\")\n",
    "print(\n",
    "    \"Total number of secondary types:\",\n",
    "    exploded_secondary_type[\"Secondary type\"].nunique(),\n",
    ")"
   ]
  },
  {
   "cell_type": "markdown",
   "id": "44",
   "metadata": {},
   "source": [
    "Unique entries for each column grouped by \"Secondary type\""
   ]
  },
  {
   "cell_type": "code",
   "execution_count": null,
   "id": "45",
   "metadata": {
    "papermill": {
     "duration": 0.168618,
     "end_time": "2023-12-04T15:46:34.274585",
     "exception": false,
     "start_time": "2023-12-04T15:46:34.105967",
     "status": "completed"
    },
    "tags": []
   },
   "outputs": [],
   "source": [
    "exploded_secondary_type.drop(columns=[\"Link\", \"Link Arrows\"] + nunique_drop_cols).groupby(\"Secondary type\").nunique()"
   ]
  },
  {
   "cell_type": "code",
   "execution_count": null,
   "id": "46",
   "metadata": {
    "papermill": {
     "duration": 0.343478,
     "end_time": "2023-12-04T15:46:34.705797",
     "exception": false,
     "start_time": "2023-12-04T15:46:34.362319",
     "status": "completed"
    },
    "tags": []
   },
   "outputs": [],
   "source": [
    "secondary_type_colors = plot.colors_dict[\"Effect Monster\"]\n",
    "if not exploded_secondary_type[\"Secondary type\"].isna().all():\n",
    "    exploded_secondary_type.groupby([\"Secondary type\"])[\"Count\"].sum().plot.bar(\n",
    "        figsize=(14, 6),\n",
    "        stacked=True,\n",
    "        grid=True,\n",
    "        rot=0,\n",
    "        color=secondary_type_colors,\n",
    "        legend=False,\n",
    "    )\n",
    "    plt.show()"
   ]
  },
  {
   "cell_type": "markdown",
   "id": "47",
   "metadata": {
    "papermill": {
     "duration": 0.123896,
     "end_time": "2023-12-04T15:46:34.945641",
     "exception": false,
     "start_time": "2023-12-04T15:46:34.821745",
     "status": "completed"
    },
    "tags": []
   },
   "source": [
    "#### By attribute"
   ]
  },
  {
   "cell_type": "code",
   "execution_count": null,
   "id": "48",
   "metadata": {
    "papermill": {
     "duration": 0.177366,
     "end_time": "2023-12-04T15:46:35.235395",
     "exception": false,
     "start_time": "2023-12-04T15:46:35.058029",
     "status": "completed"
    },
    "tags": []
   },
   "outputs": [],
   "source": [
    "secondary_crosstab = pd.crosstab(\n",
    "    exploded_secondary_type[\"Secondary type\"],\n",
    "    exploded_secondary_type[\"Attribute\"],\n",
    "    values=exploded_secondary_type[\"Count\"],\n",
    "    aggfunc=\"sum\",\n",
    ").fillna(0)\n",
    "secondary_crosstab"
   ]
  },
  {
   "cell_type": "code",
   "execution_count": null,
   "id": "49",
   "metadata": {
    "papermill": {
     "duration": 0.56671,
     "end_time": "2023-12-04T15:46:35.886384",
     "exception": false,
     "start_time": "2023-12-04T15:46:35.319674",
     "status": "completed"
    },
    "tags": []
   },
   "outputs": [],
   "source": [
    "if not exploded_secondary_type[\"Secondary type\"].isna().all():\n",
    "    plt.figure(figsize=(8, 6))\n",
    "    sns.heatmap(\n",
    "        secondary_crosstab[secondary_crosstab > 0],\n",
    "        annot=True,\n",
    "        fmt=\"g\",\n",
    "        cmap=\"viridis\",\n",
    "        square=True,\n",
    "    )\n",
    "    plt.show()"
   ]
  },
  {
   "cell_type": "markdown",
   "id": "50",
   "metadata": {
    "papermill": {
     "duration": 0.37611,
     "end_time": "2023-12-04T15:46:36.374756",
     "exception": false,
     "start_time": "2023-12-04T15:46:35.998646",
     "status": "completed"
    },
    "tags": []
   },
   "source": [
    "#### By primary type"
   ]
  },
  {
   "cell_type": "code",
   "execution_count": null,
   "id": "51",
   "metadata": {
    "papermill": {
     "duration": 0.138562,
     "end_time": "2023-12-04T15:46:36.609801",
     "exception": false,
     "start_time": "2023-12-04T15:46:36.471239",
     "status": "completed"
    },
    "tags": []
   },
   "outputs": [],
   "source": [
    "secondary_crosstab_b = pd.crosstab(\n",
    "    exploded_secondary_type[\"Primary type\"],\n",
    "    exploded_secondary_type[\"Secondary type\"],\n",
    "    values=exploded_secondary_type[\"Count\"],\n",
    "    aggfunc=\"sum\",\n",
    "    margins=True,\n",
    ").fillna(0)\n",
    "secondary_crosstab_b"
   ]
  },
  {
   "cell_type": "code",
   "execution_count": null,
   "id": "52",
   "metadata": {
    "papermill": {
     "duration": 0.705098,
     "end_time": "2023-12-04T15:46:37.399300",
     "exception": false,
     "start_time": "2023-12-04T15:46:36.694202",
     "status": "completed"
    },
    "tags": []
   },
   "outputs": [],
   "source": [
    "if not exploded_secondary_type[\"Secondary type\"].isna().all():\n",
    "    plt.figure(figsize=(10, 4))\n",
    "    sns.heatmap(\n",
    "        secondary_crosstab_b[secondary_crosstab_b > 0],\n",
    "        annot=True,\n",
    "        fmt=\"g\",\n",
    "        cmap=\"viridis\",\n",
    "        square=True,\n",
    "        # norm=plot.LogNorm(),\n",
    "    )\n",
    "    plt.show()"
   ]
  },
  {
   "cell_type": "markdown",
   "id": "53",
   "metadata": {
    "papermill": {
     "duration": 0.079839,
     "end_time": "2023-12-04T15:46:37.590383",
     "exception": false,
     "start_time": "2023-12-04T15:46:37.510544",
     "status": "completed"
    },
    "tags": []
   },
   "source": [
    "### Monster types"
   ]
  },
  {
   "cell_type": "code",
   "execution_count": null,
   "id": "54",
   "metadata": {
    "papermill": {
     "duration": 0.098346,
     "end_time": "2023-12-04T15:46:37.780279",
     "exception": false,
     "start_time": "2023-12-04T15:46:37.681933",
     "status": "completed"
    },
    "tags": []
   },
   "outputs": [],
   "source": [
    "print(\"Total number of monster types:\", collection_df[\"Monster type\"].nunique())"
   ]
  },
  {
   "cell_type": "markdown",
   "id": "55",
   "metadata": {},
   "source": [
    "Unique entries for each column grouped by \"Monster type\""
   ]
  },
  {
   "cell_type": "code",
   "execution_count": null,
   "id": "56",
   "metadata": {
    "papermill": {
     "duration": 0.204201,
     "end_time": "2023-12-04T15:46:38.084505",
     "exception": false,
     "start_time": "2023-12-04T15:46:37.880304",
     "status": "completed"
    },
    "tags": []
   },
   "outputs": [],
   "source": [
    "collection_df.drop(columns=nunique_drop_cols).groupby(\"Monster type\").nunique()"
   ]
  },
  {
   "cell_type": "code",
   "execution_count": null,
   "id": "57",
   "metadata": {
    "papermill": {
     "duration": 0.701448,
     "end_time": "2023-12-04T15:46:38.874047",
     "exception": false,
     "start_time": "2023-12-04T15:46:38.172599",
     "status": "completed"
    },
    "tags": []
   },
   "outputs": [],
   "source": [
    "if not collection_df[\"Monster type\"].isna().all():\n",
    "    monster_type_colors = plot.colors_dict[\"Monster Card\"]\n",
    "    collection_df.groupby([\"Monster type\"])[\"Count\"].sum().plot.bar(\n",
    "        figsize=(14, 6), grid=True, rot=45, color=monster_type_colors\n",
    "    )\n",
    "    plt.show()"
   ]
  },
  {
   "cell_type": "markdown",
   "id": "58",
   "metadata": {
    "papermill": {
     "duration": 0.090956,
     "end_time": "2023-12-04T15:46:39.104857",
     "exception": false,
     "start_time": "2023-12-04T15:46:39.013901",
     "status": "completed"
    },
    "tags": []
   },
   "source": [
    "#### By Attribute"
   ]
  },
  {
   "cell_type": "code",
   "execution_count": null,
   "id": "59",
   "metadata": {
    "papermill": {
     "duration": 0.130927,
     "end_time": "2023-12-04T15:46:39.329786",
     "exception": false,
     "start_time": "2023-12-04T15:46:39.198859",
     "status": "completed"
    },
    "tags": []
   },
   "outputs": [],
   "source": [
    "monster_crosstab = pd.crosstab(\n",
    "    collection_df[\"Monster type\"], collection_df[\"Attribute\"], values=collection_df[\"Count\"], aggfunc=\"sum\"\n",
    ").fillna(0)\n",
    "monster_crosstab"
   ]
  },
  {
   "cell_type": "code",
   "execution_count": null,
   "id": "60",
   "metadata": {
    "papermill": {
     "duration": 1.066977,
     "end_time": "2023-12-04T15:46:40.488156",
     "exception": false,
     "start_time": "2023-12-04T15:46:39.421179",
     "status": "completed"
    },
    "tags": []
   },
   "outputs": [],
   "source": [
    "if not collection_df[\"Monster type\"].isna().all():\n",
    "    plt.figure(figsize=(18, 4))\n",
    "    sns.heatmap(\n",
    "        monster_crosstab[monster_crosstab > 0].T,\n",
    "        annot=True,\n",
    "        fmt=\"g\",\n",
    "        cmap=\"viridis\",\n",
    "        square=True,\n",
    "        # norm=plot.LogNorm(),\n",
    "    )\n",
    "    plt.show()"
   ]
  },
  {
   "cell_type": "markdown",
   "id": "61",
   "metadata": {
    "papermill": {
     "duration": 0.083864,
     "end_time": "2023-12-04T15:46:40.692837",
     "exception": false,
     "start_time": "2023-12-04T15:46:40.608973",
     "status": "completed"
    },
    "tags": []
   },
   "source": [
    "#### By primary type"
   ]
  },
  {
   "cell_type": "code",
   "execution_count": null,
   "id": "62",
   "metadata": {
    "papermill": {
     "duration": 0.146767,
     "end_time": "2023-12-04T15:46:40.931183",
     "exception": false,
     "start_time": "2023-12-04T15:46:40.784416",
     "status": "completed"
    },
    "tags": []
   },
   "outputs": [],
   "source": [
    "monster_crosstab_b = pd.crosstab(\n",
    "    collection_df[\"Monster type\"][collection_df[\"Monster type\"].notna()],\n",
    "    collection_df[\"Primary type\"][collection_df[\"Monster type\"].notna()],\n",
    "    values=collection_df[\"Count\"],\n",
    "    aggfunc=\"sum\",\n",
    "    dropna=False,\n",
    ").fillna(0)\n",
    "monster_crosstab_b"
   ]
  },
  {
   "cell_type": "code",
   "execution_count": null,
   "id": "63",
   "metadata": {
    "papermill": {
     "duration": 1.486928,
     "end_time": "2023-12-04T15:46:42.509838",
     "exception": false,
     "start_time": "2023-12-04T15:46:41.022910",
     "status": "completed"
    },
    "tags": []
   },
   "outputs": [],
   "source": [
    "if not collection_df[\"Monster type\"].isna().all():\n",
    "    plt.figure(figsize=(16, 4))\n",
    "    sns.heatmap(\n",
    "        monster_crosstab_b[monster_crosstab_b > 0].T,\n",
    "        annot=True,\n",
    "        fmt=\"g\",\n",
    "        cmap=\"viridis\",\n",
    "        square=True,\n",
    "        norm=plot.LogNorm(),\n",
    "    )\n",
    "    plt.show()"
   ]
  },
  {
   "cell_type": "markdown",
   "id": "64",
   "metadata": {
    "papermill": {
     "duration": 0.088063,
     "end_time": "2023-12-04T15:46:42.700542",
     "exception": false,
     "start_time": "2023-12-04T15:46:42.612479",
     "status": "completed"
    },
    "tags": []
   },
   "source": [
    "#### By secondary type"
   ]
  },
  {
   "cell_type": "code",
   "execution_count": null,
   "id": "65",
   "metadata": {
    "papermill": {
     "duration": 0.16291,
     "end_time": "2023-12-04T15:46:42.956002",
     "exception": false,
     "start_time": "2023-12-04T15:46:42.793092",
     "status": "completed"
    },
    "tags": []
   },
   "outputs": [],
   "source": [
    "monster_crosstab_c = pd.crosstab(\n",
    "    exploded_secondary_type[\"Monster type\"][exploded_secondary_type[\"Monster type\"].notna()],\n",
    "    exploded_secondary_type[\"Secondary type\"][exploded_secondary_type[\"Monster type\"].notna()],\n",
    "    values=exploded_secondary_type[\"Count\"],\n",
    "    aggfunc=\"sum\",\n",
    "    dropna=False,\n",
    ").fillna(0)\n",
    "monster_crosstab_c"
   ]
  },
  {
   "cell_type": "code",
   "execution_count": null,
   "id": "66",
   "metadata": {
    "papermill": {
     "duration": 1.102182,
     "end_time": "2023-12-04T15:46:44.295773",
     "exception": false,
     "start_time": "2023-12-04T15:46:43.193591",
     "status": "completed"
    },
    "tags": []
   },
   "outputs": [],
   "source": [
    "if not collection_df[\"Monster type\"].isna().all():\n",
    "    plt.figure(figsize=(16, 4))\n",
    "    sns.heatmap(\n",
    "        monster_crosstab_c[monster_crosstab_c > 0].T,\n",
    "        annot=True,\n",
    "        fmt=\"g\",\n",
    "        cmap=\"viridis\",\n",
    "        square=True,\n",
    "        norm=plot.LogNorm(),\n",
    "    )\n",
    "    plt.show()"
   ]
  },
  {
   "cell_type": "markdown",
   "id": "67",
   "metadata": {
    "papermill": {
     "duration": 0.092124,
     "end_time": "2023-12-04T15:46:46.026349",
     "exception": false,
     "start_time": "2023-12-04T15:46:45.934225",
     "status": "completed"
    },
    "tags": []
   },
   "source": [
    "### ATK"
   ]
  },
  {
   "cell_type": "code",
   "execution_count": null,
   "id": "68",
   "metadata": {
    "papermill": {
     "duration": 0.118168,
     "end_time": "2023-12-04T15:46:46.248320",
     "exception": false,
     "start_time": "2023-12-04T15:46:46.130152",
     "status": "completed"
    },
    "tags": []
   },
   "outputs": [],
   "source": [
    "print(\"Total number of ATK values:\", collection_df[\"ATK\"].nunique())"
   ]
  },
  {
   "cell_type": "markdown",
   "id": "69",
   "metadata": {},
   "source": [
    "Unique entries for each column grouped by \"ATK\""
   ]
  },
  {
   "cell_type": "code",
   "execution_count": null,
   "id": "70",
   "metadata": {
    "papermill": {
     "duration": 0.208889,
     "end_time": "2023-12-04T15:46:46.554095",
     "exception": false,
     "start_time": "2023-12-04T15:46:46.345206",
     "status": "completed"
    },
    "tags": []
   },
   "outputs": [],
   "source": [
    "collection_df.drop(columns=nunique_drop_cols).groupby(\"ATK\").nunique().sort_index(\n",
    "    key=lambda x: pd.to_numeric(x, errors=\"coerce\")\n",
    ")"
   ]
  },
  {
   "cell_type": "code",
   "execution_count": null,
   "id": "71",
   "metadata": {
    "papermill": {
     "duration": 0.999517,
     "end_time": "2023-12-04T15:46:47.654938",
     "exception": false,
     "start_time": "2023-12-04T15:46:46.655421",
     "status": "completed"
    },
    "tags": []
   },
   "outputs": [],
   "source": [
    "if not collection_df[\"ATK\"].isna().all():\n",
    "    atk_colors = plot.colors_dict[\"Monster Card\"]\n",
    "    collection_df.groupby([\"ATK\"])[\"Count\"].sum().sort_index(key=lambda x: pd.to_numeric(x, errors=\"coerce\")).plot.bar(\n",
    "        figsize=(16, 6), grid=True, color=atk_colors\n",
    "    )\n",
    "    plt.show()"
   ]
  },
  {
   "cell_type": "markdown",
   "id": "72",
   "metadata": {
    "papermill": {
     "duration": 0.091302,
     "end_time": "2023-12-04T15:46:47.884739",
     "exception": false,
     "start_time": "2023-12-04T15:46:47.793437",
     "status": "completed"
    },
    "tags": []
   },
   "source": [
    "### DEF"
   ]
  },
  {
   "cell_type": "code",
   "execution_count": null,
   "id": "73",
   "metadata": {
    "papermill": {
     "duration": 0.391416,
     "end_time": "2023-12-04T15:46:48.382950",
     "exception": false,
     "start_time": "2023-12-04T15:46:47.991534",
     "status": "completed"
    },
    "tags": []
   },
   "outputs": [],
   "source": [
    "print(\"Total number of DEF values:\", collection_df[\"DEF\"].nunique())"
   ]
  },
  {
   "cell_type": "markdown",
   "id": "74",
   "metadata": {},
   "source": [
    "Unique entries for each column grouped by \"DEF\""
   ]
  },
  {
   "cell_type": "code",
   "execution_count": null,
   "id": "75",
   "metadata": {
    "papermill": {
     "duration": 0.209406,
     "end_time": "2023-12-04T15:46:48.695656",
     "exception": false,
     "start_time": "2023-12-04T15:46:48.486250",
     "status": "completed"
    },
    "tags": []
   },
   "outputs": [],
   "source": [
    "collection_df.drop(columns=nunique_drop_cols).groupby(\"DEF\").nunique().sort_index(\n",
    "    key=lambda x: pd.to_numeric(x, errors=\"coerce\")\n",
    ")"
   ]
  },
  {
   "cell_type": "code",
   "execution_count": null,
   "id": "76",
   "metadata": {
    "papermill": {
     "duration": 1.163212,
     "end_time": "2023-12-04T15:46:49.964649",
     "exception": false,
     "start_time": "2023-12-04T15:46:48.801437",
     "status": "completed"
    },
    "tags": []
   },
   "outputs": [],
   "source": [
    "if not collection_df[\"DEF\"].isna().all():\n",
    "    def_colors = plot.colors_dict[\"Monster Card\"]\n",
    "    collection_df.groupby([\"DEF\"])[\"Count\"].sum().sort_index(key=lambda x: pd.to_numeric(x, errors=\"coerce\")).plot.bar(\n",
    "        figsize=(16, 6), grid=True, color=def_colors\n",
    "    )\n",
    "    plt.show()"
   ]
  },
  {
   "cell_type": "markdown",
   "id": "77",
   "metadata": {
    "papermill": {
     "duration": 0.093727,
     "end_time": "2023-12-04T15:46:50.187008",
     "exception": false,
     "start_time": "2023-12-04T15:46:50.093281",
     "status": "completed"
    },
    "tags": []
   },
   "source": [
    "### Level/Rank"
   ]
  },
  {
   "cell_type": "markdown",
   "id": "78",
   "metadata": {},
   "source": [
    "Unique entries for each column grouped by \"Level/Rank\""
   ]
  },
  {
   "cell_type": "code",
   "execution_count": null,
   "id": "79",
   "metadata": {
    "papermill": {
     "duration": 0.218493,
     "end_time": "2023-12-04T15:46:50.508589",
     "exception": false,
     "start_time": "2023-12-04T15:46:50.290096",
     "status": "completed"
    },
    "tags": []
   },
   "outputs": [],
   "source": [
    "collection_df.drop(columns=[\"Link\", \"Link Arrows\"] + nunique_drop_cols).groupby(\"Level/Rank\").nunique().sort_index(\n",
    "    key=lambda x: pd.to_numeric(x, errors=\"coerce\")\n",
    ")"
   ]
  },
  {
   "cell_type": "code",
   "execution_count": null,
   "id": "80",
   "metadata": {
    "papermill": {
     "duration": 0.485102,
     "end_time": "2023-12-04T15:46:51.099295",
     "exception": false,
     "start_time": "2023-12-04T15:46:50.614193",
     "status": "completed"
    },
    "tags": []
   },
   "outputs": [],
   "source": [
    "if not collection_df[\"Level/Rank\"].isna().all():\n",
    "    stars_colors = plot.colors_dict[\"Level\"]\n",
    "    collection_df.groupby([\"Level/Rank\"])[\"Count\"].sum().sort_index(\n",
    "        key=lambda x: pd.to_numeric(x, errors=\"coerce\")\n",
    "    ).plot.bar(figsize=(14, 6), grid=True, rot=0, color=stars_colors)\n",
    "    plt.show()"
   ]
  },
  {
   "cell_type": "markdown",
   "id": "81",
   "metadata": {
    "papermill": {
     "duration": 0.094947,
     "end_time": "2023-12-04T15:46:51.304278",
     "exception": false,
     "start_time": "2023-12-04T15:46:51.209331",
     "status": "completed"
    },
    "tags": []
   },
   "source": [
    "#### ATK statistics"
   ]
  },
  {
   "cell_type": "code",
   "execution_count": null,
   "id": "82",
   "metadata": {
    "papermill": {
     "duration": 0.208463,
     "end_time": "2023-12-04T15:46:51.612617",
     "exception": false,
     "start_time": "2023-12-04T15:46:51.404154",
     "status": "completed"
    },
    "tags": []
   },
   "outputs": [],
   "source": [
    "collection_df[[\"Level/Rank\", \"ATK\"]].loc[collection_df.index.repeat(collection_df[\"Count\"])].apply(\n",
    "    pd.to_numeric, errors=\"coerce\"\n",
    ").dropna().astype(int).groupby(\"Level/Rank\").describe().round(1)"
   ]
  },
  {
   "cell_type": "markdown",
   "id": "83",
   "metadata": {
    "papermill": {
     "duration": 0.105274,
     "end_time": "2023-12-04T15:46:51.828673",
     "exception": false,
     "start_time": "2023-12-04T15:46:51.723399",
     "status": "completed"
    },
    "tags": []
   },
   "source": [
    "#### DEF statistics"
   ]
  },
  {
   "cell_type": "code",
   "execution_count": null,
   "id": "84",
   "metadata": {
    "papermill": {
     "duration": 0.202546,
     "end_time": "2023-12-04T15:46:52.135902",
     "exception": false,
     "start_time": "2023-12-04T15:46:51.933356",
     "status": "completed"
    },
    "tags": []
   },
   "outputs": [],
   "source": [
    "collection_df[[\"Level/Rank\", \"DEF\"]].loc[collection_df.index.repeat(collection_df[\"Count\"])].apply(\n",
    "    pd.to_numeric, errors=\"coerce\"\n",
    ").dropna().astype(int).groupby(\"Level/Rank\").describe().round(1)"
   ]
  },
  {
   "cell_type": "markdown",
   "id": "85",
   "metadata": {
    "papermill": {
     "duration": 0.096126,
     "end_time": "2023-12-04T15:46:52.331370",
     "exception": false,
     "start_time": "2023-12-04T15:46:52.235244",
     "status": "completed"
    },
    "tags": []
   },
   "source": [
    "### Pendulum scale"
   ]
  },
  {
   "cell_type": "markdown",
   "id": "86",
   "metadata": {},
   "source": [
    "Unique entries for each column grouped by \"Pendulum scale\""
   ]
  },
  {
   "cell_type": "code",
   "execution_count": null,
   "id": "87",
   "metadata": {
    "papermill": {
     "duration": 0.202621,
     "end_time": "2023-12-04T15:46:52.649206",
     "exception": false,
     "start_time": "2023-12-04T15:46:52.446585",
     "status": "completed"
    },
    "tags": []
   },
   "outputs": [],
   "source": [
    "collection_df.drop(columns=[\"Link\", \"Link Arrows\"] + nunique_drop_cols).groupby(\"Pendulum Scale\").nunique().sort_index(\n",
    "    key=lambda x: pd.to_numeric(x, errors=\"coerce\")\n",
    ")"
   ]
  },
  {
   "cell_type": "code",
   "execution_count": null,
   "id": "88",
   "metadata": {
    "papermill": {
     "duration": 0.548143,
     "end_time": "2023-12-04T15:46:53.317457",
     "exception": false,
     "start_time": "2023-12-04T15:46:52.769314",
     "status": "completed"
    },
    "tags": []
   },
   "outputs": [],
   "source": [
    "if not collection_df[\"Pendulum Scale\"].isna().all():\n",
    "    scales_colors = plot.colors_dict[\"Pendulum Monster\"]\n",
    "    collection_df.groupby([\"Pendulum Scale\"])[\"Count\"].sum().sort_index(\n",
    "        key=lambda x: pd.to_numeric(x, errors=\"coerce\")\n",
    "    ).plot.bar(figsize=(14, 6), grid=True, rot=0, color=scales_colors)\n",
    "    plt.show()"
   ]
  },
  {
   "cell_type": "markdown",
   "id": "89",
   "metadata": {
    "papermill": {
     "duration": 0.171643,
     "end_time": "2023-12-04T15:46:53.713491",
     "exception": false,
     "start_time": "2023-12-04T15:46:53.541848",
     "status": "completed"
    },
    "tags": []
   },
   "source": [
    "#### ATK statistics"
   ]
  },
  {
   "cell_type": "code",
   "execution_count": null,
   "id": "90",
   "metadata": {
    "papermill": {
     "duration": 0.188642,
     "end_time": "2023-12-04T15:46:54.044500",
     "exception": false,
     "start_time": "2023-12-04T15:46:53.855858",
     "status": "completed"
    },
    "tags": []
   },
   "outputs": [],
   "source": [
    "collection_df[[\"Pendulum Scale\", \"ATK\"]].loc[collection_df.index.repeat(collection_df[\"Count\"])].apply(\n",
    "    pd.to_numeric, errors=\"coerce\"\n",
    ").dropna().astype(int).groupby(\"Pendulum Scale\").describe().round(1)"
   ]
  },
  {
   "cell_type": "markdown",
   "id": "91",
   "metadata": {
    "papermill": {
     "duration": 0.115467,
     "end_time": "2023-12-04T15:46:54.291641",
     "exception": false,
     "start_time": "2023-12-04T15:46:54.176174",
     "status": "completed"
    },
    "tags": []
   },
   "source": [
    "#### DEF statistics"
   ]
  },
  {
   "cell_type": "code",
   "execution_count": null,
   "id": "92",
   "metadata": {
    "papermill": {
     "duration": 0.195269,
     "end_time": "2023-12-04T15:46:54.804536",
     "exception": false,
     "start_time": "2023-12-04T15:46:54.609267",
     "status": "completed"
    },
    "tags": []
   },
   "outputs": [],
   "source": [
    "collection_df[[\"Pendulum Scale\", \"DEF\"]].loc[collection_df.index.repeat(collection_df[\"Count\"])].apply(\n",
    "    pd.to_numeric, errors=\"coerce\"\n",
    ").dropna().astype(int).groupby(\"Pendulum Scale\").describe().round(1)"
   ]
  },
  {
   "cell_type": "markdown",
   "id": "93",
   "metadata": {
    "papermill": {
     "duration": 0.123537,
     "end_time": "2023-12-04T15:46:55.059406",
     "exception": false,
     "start_time": "2023-12-04T15:46:54.935869",
     "status": "completed"
    },
    "tags": []
   },
   "source": [
    "#### Level/Rank statistics"
   ]
  },
  {
   "cell_type": "code",
   "execution_count": null,
   "id": "94",
   "metadata": {
    "papermill": {
     "duration": 0.18283,
     "end_time": "2023-12-04T15:46:55.352416",
     "exception": false,
     "start_time": "2023-12-04T15:46:55.169586",
     "status": "completed"
    },
    "tags": []
   },
   "outputs": [],
   "source": [
    "collection_df[[\"Pendulum Scale\", \"Level/Rank\"]].loc[collection_df.index.repeat(collection_df[\"Count\"])].apply(\n",
    "    pd.to_numeric, errors=\"coerce\"\n",
    ").dropna().astype(int).groupby(\"Pendulum Scale\").describe().round(1)"
   ]
  },
  {
   "cell_type": "markdown",
   "id": "95",
   "metadata": {
    "papermill": {
     "duration": 0.101782,
     "end_time": "2023-12-04T15:46:55.567214",
     "exception": false,
     "start_time": "2023-12-04T15:46:55.465432",
     "status": "completed"
    },
    "tags": []
   },
   "source": [
    "### Link"
   ]
  },
  {
   "cell_type": "markdown",
   "id": "96",
   "metadata": {},
   "source": [
    "Unique entries for each column grouped by \"Link\""
   ]
  },
  {
   "cell_type": "code",
   "execution_count": null,
   "id": "97",
   "metadata": {
    "papermill": {
     "duration": 0.184768,
     "end_time": "2023-12-04T15:46:55.857375",
     "exception": false,
     "start_time": "2023-12-04T15:46:55.672607",
     "status": "completed"
    },
    "tags": []
   },
   "outputs": [],
   "source": [
    "collection_df.drop(\n",
    "    columns=[\n",
    "        \"Primary type\",\n",
    "        \"Secondary type\",\n",
    "        \"Level/Rank\",\n",
    "        \"DEF\",\n",
    "        \"Pendulum Scale\",\n",
    "    ]\n",
    "    + nunique_drop_cols\n",
    ").groupby(\"Link\").nunique().sort_index(key=lambda x: pd.to_numeric(x, errors=\"coerce\"))"
   ]
  },
  {
   "cell_type": "code",
   "execution_count": null,
   "id": "98",
   "metadata": {
    "papermill": {
     "duration": 0.379899,
     "end_time": "2023-12-04T15:46:56.348036",
     "exception": false,
     "start_time": "2023-12-04T15:46:55.968137",
     "status": "completed"
    },
    "tags": []
   },
   "outputs": [],
   "source": [
    "if not collection_df[\"Link\"].isna().all():\n",
    "    link_colors = plot.colors_dict[\"Link Monster\"]\n",
    "    collection_df.groupby([\"Link\"])[\"Count\"].sum().sort_index(key=lambda x: pd.to_numeric(x, errors=\"coerce\")).plot.bar(\n",
    "        figsize=(14, 6), grid=True, rot=0, color=link_colors\n",
    "    )\n",
    "    plt.show()"
   ]
  },
  {
   "cell_type": "markdown",
   "id": "99",
   "metadata": {
    "papermill": {
     "duration": 0.098435,
     "end_time": "2023-12-04T15:46:56.579313",
     "exception": false,
     "start_time": "2023-12-04T15:46:56.480878",
     "status": "completed"
    },
    "tags": []
   },
   "source": [
    "#### ATK statistics"
   ]
  },
  {
   "cell_type": "code",
   "execution_count": null,
   "id": "100",
   "metadata": {
    "papermill": {
     "duration": 0.169583,
     "end_time": "2023-12-04T15:46:56.858115",
     "exception": false,
     "start_time": "2023-12-04T15:46:56.688532",
     "status": "completed"
    },
    "tags": []
   },
   "outputs": [],
   "source": [
    "collection_df[[\"Link\", \"ATK\"]].loc[collection_df.index.repeat(collection_df[\"Count\"])].apply(\n",
    "    pd.to_numeric, errors=\"coerce\"\n",
    ").dropna().astype(int).groupby(\"Link\").describe().round(1)"
   ]
  },
  {
   "cell_type": "markdown",
   "id": "101",
   "metadata": {
    "papermill": {
     "duration": 0.109511,
     "end_time": "2023-12-04T15:46:57.077784",
     "exception": false,
     "start_time": "2023-12-04T15:46:56.968273",
     "status": "completed"
    },
    "tags": []
   },
   "source": [
    "### Link Arrows"
   ]
  },
  {
   "cell_type": "markdown",
   "id": "102",
   "metadata": {
    "papermill": {
     "duration": 0.103368,
     "end_time": "2023-12-04T15:46:57.284988",
     "exception": false,
     "start_time": "2023-12-04T15:46:57.181620",
     "status": "completed"
    },
    "tags": []
   },
   "source": [
    "#### By combination"
   ]
  },
  {
   "cell_type": "code",
   "execution_count": null,
   "id": "103",
   "metadata": {
    "papermill": {
     "duration": 0.124539,
     "end_time": "2023-12-04T15:46:57.524937",
     "exception": false,
     "start_time": "2023-12-04T15:46:57.400398",
     "status": "completed"
    },
    "tags": []
   },
   "outputs": [],
   "source": [
    "print(\"Total number of link arrow combinations:\", collection_df[\"Link Arrows\"].nunique())"
   ]
  },
  {
   "cell_type": "markdown",
   "id": "104",
   "metadata": {},
   "source": [
    "Unique entries for each column grouped by \"Link Arrows\" combinations"
   ]
  },
  {
   "cell_type": "code",
   "execution_count": null,
   "id": "105",
   "metadata": {
    "papermill": {
     "duration": 0.195287,
     "end_time": "2023-12-04T15:46:57.838180",
     "exception": false,
     "start_time": "2023-12-04T15:46:57.642893",
     "status": "completed"
    },
    "tags": []
   },
   "outputs": [],
   "source": [
    "collection_df.drop(\n",
    "    columns=[\n",
    "        \"Primary type\",\n",
    "        \"Level/Rank\",\n",
    "        \"Pendulum Scale\",\n",
    "        \"Link\",\n",
    "        \"Secondary type\",\n",
    "        \"DEF\",\n",
    "    ]\n",
    "    + nunique_drop_cols\n",
    ").groupby(\"Link Arrows\").nunique()"
   ]
  },
  {
   "cell_type": "code",
   "execution_count": null,
   "id": "106",
   "metadata": {
    "papermill": {
     "duration": 1.187565,
     "end_time": "2023-12-04T15:46:59.136682",
     "exception": false,
     "start_time": "2023-12-04T15:46:57.949117",
     "status": "completed"
    },
    "tags": []
   },
   "outputs": [],
   "source": [
    "if not collection_df[\"Link Arrows\"].isna().all():\n",
    "    arrows_colors = plot.colors_dict[\"Link Monster\"]\n",
    "    collection_df.groupby([\"Link Arrows\"])[\"Count\"].sum().plot.barh(\n",
    "        figsize=(10, 20), grid=True, color=arrows_colors, title=\"Link arrows combinations\"\n",
    "    )\n",
    "    plt.show()"
   ]
  },
  {
   "cell_type": "markdown",
   "id": "107",
   "metadata": {
    "papermill": {
     "duration": 0.102629,
     "end_time": "2023-12-04T15:46:59.440607",
     "exception": false,
     "start_time": "2023-12-04T15:46:59.337978",
     "status": "completed"
    },
    "tags": []
   },
   "source": [
    "#### By unique"
   ]
  },
  {
   "cell_type": "markdown",
   "id": "108",
   "metadata": {},
   "source": [
    "Unique entries for each column grouped by unique \"Link Arrows\""
   ]
  },
  {
   "cell_type": "code",
   "execution_count": null,
   "id": "109",
   "metadata": {
    "papermill": {
     "duration": 0.167098,
     "end_time": "2023-12-04T15:46:59.720603",
     "exception": false,
     "start_time": "2023-12-04T15:46:59.553505",
     "status": "completed"
    },
    "tags": []
   },
   "outputs": [],
   "source": [
    "collection_df[collection_df[\"Link Arrows\"].notna()].drop(\n",
    "    columns=[\n",
    "        \"Primary type\",\n",
    "        \"Level/Rank\",\n",
    "        \"Pendulum Scale\",\n",
    "        \"Secondary type\",\n",
    "        \"DEF\",\n",
    "    ]\n",
    "    + nunique_drop_cols\n",
    ").explode(\"Link Arrows\").groupby(\"Link Arrows\").nunique()"
   ]
  },
  {
   "cell_type": "code",
   "execution_count": null,
   "id": "110",
   "metadata": {
    "papermill": {
     "duration": 1.417547,
     "end_time": "2023-12-04T15:47:01.250536",
     "exception": false,
     "start_time": "2023-12-04T15:46:59.832989",
     "status": "completed"
    },
    "tags": []
   },
   "outputs": [],
   "source": [
    "if not collection_df[\"Link Arrows\"].isna().all():\n",
    "    plot.arrows(collection_df[\"Link Arrows\"].explode(\"Link Arrows\"))"
   ]
  },
  {
   "cell_type": "markdown",
   "id": "111",
   "metadata": {
    "papermill": {
     "duration": 0.103766,
     "end_time": "2023-12-04T15:47:01.487315",
     "exception": false,
     "start_time": "2023-12-04T15:47:01.383549",
     "status": "completed"
    },
    "tags": []
   },
   "source": [
    "#### By link"
   ]
  },
  {
   "cell_type": "code",
   "execution_count": null,
   "id": "112",
   "metadata": {
    "papermill": {
     "duration": 0.191304,
     "end_time": "2023-12-04T15:47:01.799691",
     "exception": false,
     "start_time": "2023-12-04T15:47:01.608387",
     "status": "completed"
    },
    "tags": []
   },
   "outputs": [],
   "source": [
    "arrow_per_link = collection_df[[\"Link Arrows\", \"Link\"]].explode(\"Link Arrows\").dropna()\n",
    "arrow_crosstab = pd.crosstab(\n",
    "    arrow_per_link[\"Link Arrows\"], arrow_per_link[\"Link\"], values=collection_df[\"Count\"], aggfunc=\"sum\"\n",
    ").fillna(0)\n",
    "arrow_crosstab"
   ]
  },
  {
   "cell_type": "code",
   "execution_count": null,
   "id": "113",
   "metadata": {
    "papermill": {
     "duration": 0.65487,
     "end_time": "2023-12-04T15:47:02.681315",
     "exception": false,
     "start_time": "2023-12-04T15:47:02.026445",
     "status": "completed"
    },
    "tags": []
   },
   "outputs": [],
   "source": [
    "if not arrow_crosstab.empty:\n",
    "    plt.figure(figsize=(10, 6))\n",
    "    sns.heatmap(\n",
    "        arrow_crosstab[arrow_crosstab > 0].T,\n",
    "        annot=True,\n",
    "        fmt=\"g\",\n",
    "        cmap=\"viridis\",\n",
    "        square=True,\n",
    "        # norm=plot.LogNorm(),\n",
    "    )\n",
    "    plt.show()"
   ]
  },
  {
   "cell_type": "markdown",
   "id": "114",
   "metadata": {
    "papermill": {
     "duration": 0.104945,
     "end_time": "2023-12-04T15:47:02.912973",
     "exception": false,
     "start_time": "2023-12-04T15:47:02.808028",
     "status": "completed"
    },
    "tags": []
   },
   "source": [
    "## Spell & Trap"
   ]
  },
  {
   "cell_type": "markdown",
   "id": "115",
   "metadata": {
    "papermill": {
     "duration": 0.108835,
     "end_time": "2023-12-04T15:47:03.139312",
     "exception": false,
     "start_time": "2023-12-04T15:47:03.030477",
     "status": "completed"
    },
    "tags": []
   },
   "source": [
    "### Properties"
   ]
  },
  {
   "cell_type": "code",
   "execution_count": null,
   "id": "116",
   "metadata": {
    "papermill": {
     "duration": 0.121239,
     "end_time": "2023-12-04T15:47:03.372789",
     "exception": false,
     "start_time": "2023-12-04T15:47:03.251550",
     "status": "completed"
    },
    "tags": []
   },
   "outputs": [],
   "source": [
    "print(\"Total number of properties:\", collection_df[\"Property\"].nunique())"
   ]
  },
  {
   "cell_type": "markdown",
   "id": "117",
   "metadata": {},
   "source": [
    "Unique entries for each column grouped by \"Property\""
   ]
  },
  {
   "cell_type": "code",
   "execution_count": null,
   "id": "118",
   "metadata": {
    "papermill": {
     "duration": 0.184655,
     "end_time": "2023-12-04T15:47:03.672977",
     "exception": false,
     "start_time": "2023-12-04T15:47:03.488322",
     "status": "completed"
    },
    "tags": []
   },
   "outputs": [],
   "source": [
    "collection_df.drop(columns=nunique_drop_cols).groupby(\"Property\").nunique()"
   ]
  },
  {
   "cell_type": "code",
   "execution_count": null,
   "id": "119",
   "metadata": {
    "papermill": {
     "duration": 0.434558,
     "end_time": "2023-12-04T15:47:04.250828",
     "exception": false,
     "start_time": "2023-12-04T15:47:03.816270",
     "status": "completed"
    },
    "tags": []
   },
   "outputs": [],
   "source": [
    "if not collection_df[\"Property\"].isna().all():\n",
    "    st_colors = [\n",
    "        plot.colors_dict[i] for i in collection_df[[\"Card type\", \"Property\"]].value_counts().index.get_level_values(0)\n",
    "    ]\n",
    "    collection_df.groupby([\"Property\"])[\"Count\"].sum().plot.bar(figsize=(14, 6), grid=True, rot=45, color=st_colors)\n",
    "    plt.show()"
   ]
  },
  {
   "cell_type": "markdown",
   "id": "120",
   "metadata": {
    "papermill": {
     "duration": 0.105349,
     "end_time": "2023-12-04T15:47:04.500491",
     "exception": false,
     "start_time": "2023-12-04T15:47:04.395142",
     "status": "completed"
    },
    "tags": []
   },
   "source": [
    "## Effect type"
   ]
  },
  {
   "cell_type": "code",
   "execution_count": null,
   "id": "121",
   "metadata": {
    "papermill": {
     "duration": 0.13678,
     "end_time": "2023-12-04T15:47:04.761415",
     "exception": false,
     "start_time": "2023-12-04T15:47:04.624635",
     "status": "completed"
    },
    "tags": []
   },
   "outputs": [],
   "source": [
    "print(\"Total number of effect types:\", collection_df[\"Effect type\"].explode().nunique())"
   ]
  },
  {
   "cell_type": "markdown",
   "id": "122",
   "metadata": {},
   "source": [
    "Unique entries for each column grouped by \"Effect type\""
   ]
  },
  {
   "cell_type": "code",
   "execution_count": null,
   "id": "123",
   "metadata": {
    "papermill": {
     "duration": 0.242257,
     "end_time": "2023-12-04T15:47:05.119088",
     "exception": false,
     "start_time": "2023-12-04T15:47:04.876831",
     "status": "completed"
    },
    "tags": []
   },
   "outputs": [],
   "source": [
    "collection_df.drop(columns=nunique_drop_cols).explode(\"Effect type\").groupby(\"Effect type\").nunique()"
   ]
  },
  {
   "cell_type": "markdown",
   "id": "124",
   "metadata": {
    "papermill": {
     "duration": 0.113659,
     "end_time": "2023-12-04T15:47:05.394121",
     "exception": false,
     "start_time": "2023-12-04T15:47:05.280462",
     "status": "completed"
    },
    "tags": []
   },
   "source": [
    "### Card type discrimination"
   ]
  },
  {
   "cell_type": "code",
   "execution_count": null,
   "id": "125",
   "metadata": {
    "papermill": {
     "duration": 0.17391,
     "end_time": "2023-12-04T15:47:05.684273",
     "exception": false,
     "start_time": "2023-12-04T15:47:05.510363",
     "status": "completed"
    },
    "tags": []
   },
   "outputs": [],
   "source": [
    "st_diff = (\n",
    "    collection_df[[\"Card type\", \"Effect type\", \"Count\"]]\n",
    "    .explode(\"Effect type\")\n",
    "    .groupby([\"Effect type\", \"Card type\"])[\"Count\"]\n",
    "    .sum()\n",
    "    .unstack(0)\n",
    "    .fillna(0)\n",
    "    .astype(int)\n",
    ")\n",
    "st_diff"
   ]
  },
  {
   "cell_type": "code",
   "execution_count": null,
   "id": "126",
   "metadata": {
    "papermill": {
     "duration": 0.51611,
     "end_time": "2023-12-04T15:47:06.317544",
     "exception": false,
     "start_time": "2023-12-04T15:47:05.801434",
     "status": "completed"
    },
    "tags": []
   },
   "outputs": [],
   "source": [
    "if not st_diff.empty:\n",
    "    st_diff_colors = {\n",
    "        \"Monster Card\": plot.colors_dict[\"Monster Card\"],\n",
    "        \"Spell Card\": plot.colors_dict[\"Spell Card\"],\n",
    "        \"Trap Card\": plot.colors_dict[\"Trap Card\"],\n",
    "    }\n",
    "    st_diff.plot.bar(figsize=(14, 6), stacked=True, grid=True, rot=45, color=st_diff_colors)\n",
    "    plt.show()"
   ]
  },
  {
   "cell_type": "markdown",
   "id": "127",
   "metadata": {
    "papermill": {
     "duration": 0.111449,
     "end_time": "2023-12-04T15:47:06.612115",
     "exception": false,
     "start_time": "2023-12-04T15:47:06.500666",
     "status": "completed"
    },
    "tags": []
   },
   "source": [
    "## Archseries"
   ]
  },
  {
   "cell_type": "code",
   "execution_count": null,
   "id": "128",
   "metadata": {
    "papermill": {
     "duration": 0.246182,
     "end_time": "2023-12-04T15:47:06.991247",
     "exception": false,
     "start_time": "2023-12-04T15:47:06.745065",
     "status": "completed"
    },
    "tags": []
   },
   "outputs": [],
   "source": [
    "exploded_archseries = collection_df.explode(\"Archseries\")\n",
    "print(\"Total number of Archseries:\", exploded_archseries[\"Archseries\"].nunique())"
   ]
  },
  {
   "cell_type": "markdown",
   "id": "129",
   "metadata": {},
   "source": [
    "Unique entries for each column grouped by \"Archseties\""
   ]
  },
  {
   "cell_type": "code",
   "execution_count": null,
   "id": "130",
   "metadata": {
    "papermill": {
     "duration": 0.322809,
     "end_time": "2023-12-04T15:47:07.511961",
     "exception": false,
     "start_time": "2023-12-04T15:47:07.189152",
     "status": "completed"
    },
    "tags": []
   },
   "outputs": [],
   "source": [
    "exploded_archseries.drop(columns=nunique_drop_cols).groupby(\"Archseries\").nunique()"
   ]
  },
  {
   "cell_type": "code",
   "execution_count": null,
   "id": "131",
   "metadata": {
    "papermill": {
     "duration": 10.030345,
     "end_time": "2023-12-04T15:47:17.682051",
     "exception": false,
     "start_time": "2023-12-04T15:47:07.651706",
     "status": "completed"
    },
    "tags": []
   },
   "outputs": [],
   "source": [
    "if not exploded_archseries[\"Archseries\"].isna().all():\n",
    "    exploded_archseries.groupby([\"Archseries\"])[\"Count\"].sum().plot.barh(grid=True, title=\"Archtypes/Series\")\n",
    "    plt.show()"
   ]
  },
  {
   "cell_type": "markdown",
   "id": "132",
   "metadata": {
    "papermill": {
     "duration": 0.139227,
     "end_time": "2023-12-04T15:47:17.996350",
     "exception": false,
     "start_time": "2023-12-04T15:47:17.857123",
     "status": "completed"
    },
    "tags": []
   },
   "source": [
    "### By card type"
   ]
  },
  {
   "cell_type": "code",
   "execution_count": null,
   "id": "133",
   "metadata": {
    "papermill": {
     "duration": 0.314749,
     "end_time": "2023-12-04T15:47:18.465910",
     "exception": false,
     "start_time": "2023-12-04T15:47:18.151161",
     "status": "completed"
    },
    "tags": []
   },
   "outputs": [],
   "source": [
    "archseries_crosstab = pd.crosstab(\n",
    "    exploded_archseries[\"Archseries\"],\n",
    "    exploded_archseries[\"Card type\"],\n",
    "    margins=True,\n",
    "    values=exploded_archseries[\"Count\"],\n",
    "    aggfunc=\"sum\",\n",
    ").fillna(0)\n",
    "archseries_crosstab"
   ]
  },
  {
   "cell_type": "markdown",
   "id": "134",
   "metadata": {
    "papermill": {
     "duration": 0.521155,
     "end_time": "2023-12-04T15:47:19.176685",
     "exception": false,
     "start_time": "2023-12-04T15:47:18.655530",
     "status": "completed"
    },
    "tags": []
   },
   "source": [
    "### By primary type"
   ]
  },
  {
   "cell_type": "code",
   "execution_count": null,
   "id": "135",
   "metadata": {
    "papermill": {
     "duration": 0.281694,
     "end_time": "2023-12-04T15:47:19.719463",
     "exception": false,
     "start_time": "2023-12-04T15:47:19.437769",
     "status": "completed"
    },
    "tags": []
   },
   "outputs": [],
   "source": [
    "archseries_crosstab_b = pd.crosstab(\n",
    "    exploded_archseries[\"Archseries\"],\n",
    "    exploded_archseries[\"Primary type\"],\n",
    "    margins=True,\n",
    "    values=exploded_archseries[\"Count\"],\n",
    "    aggfunc=\"sum\",\n",
    ").fillna(0)\n",
    "archseries_crosstab_b"
   ]
  },
  {
   "cell_type": "markdown",
   "id": "136",
   "metadata": {
    "papermill": {
     "duration": 0.140602,
     "end_time": "2023-12-04T15:47:20.016539",
     "exception": false,
     "start_time": "2023-12-04T15:47:19.875937",
     "status": "completed"
    },
    "tags": []
   },
   "source": [
    "\n",
    "\n",
    "### By secondary type"
   ]
  },
  {
   "cell_type": "code",
   "execution_count": null,
   "id": "137",
   "metadata": {
    "papermill": {
     "duration": 0.265793,
     "end_time": "2023-12-04T15:47:20.443159",
     "exception": false,
     "start_time": "2023-12-04T15:47:20.177366",
     "status": "completed"
    },
    "tags": []
   },
   "outputs": [],
   "source": [
    "exploded_archseries_secondary_type = exploded_archseries[[\"Archseries\", \"Secondary type\", \"Count\"]].explode(\"Secondary type\")\n",
    "archseries_crosstab_c = pd.crosstab(\n",
    "    exploded_archseries_secondary_type[\"Archseries\"],\n",
    "    exploded_archseries_secondary_type[\"Secondary type\"],\n",
    "    values=exploded_archseries_secondary_type[\"Count\"],\n",
    "    aggfunc=\"sum\",\n",
    "    margins=True,\n",
    ").fillna(0)\n",
    "archseries_crosstab_c"
   ]
  },
  {
   "cell_type": "markdown",
   "id": "138",
   "metadata": {
    "papermill": {
     "duration": 0.142693,
     "end_time": "2023-12-04T15:47:20.772973",
     "exception": false,
     "start_time": "2023-12-04T15:47:20.630280",
     "status": "completed"
    },
    "tags": []
   },
   "source": [
    "### By monster type"
   ]
  },
  {
   "cell_type": "code",
   "execution_count": null,
   "id": "139",
   "metadata": {
    "papermill": {
     "duration": 0.341591,
     "end_time": "2023-12-04T15:47:21.268488",
     "exception": false,
     "start_time": "2023-12-04T15:47:20.926897",
     "status": "completed"
    },
    "tags": []
   },
   "outputs": [],
   "source": [
    "archseries_crosstab_d = pd.crosstab(\n",
    "    exploded_archseries[\"Archseries\"],\n",
    "    exploded_archseries[\"Monster type\"],\n",
    "    margins=True,\n",
    "    values=exploded_archseries[\"Count\"],\n",
    "    aggfunc=\"sum\",\n",
    ").fillna(0)\n",
    "archseries_crosstab_d"
   ]
  },
  {
   "cell_type": "markdown",
   "id": "140",
   "metadata": {
    "papermill": {
     "duration": 0.143243,
     "end_time": "2023-12-04T15:47:21.576003",
     "exception": false,
     "start_time": "2023-12-04T15:47:21.432760",
     "status": "completed"
    },
    "tags": []
   },
   "source": [
    "### By property"
   ]
  },
  {
   "cell_type": "code",
   "execution_count": null,
   "id": "141",
   "metadata": {
    "papermill": {
     "duration": 0.280021,
     "end_time": "2023-12-04T15:47:22.034299",
     "exception": false,
     "start_time": "2023-12-04T15:47:21.754278",
     "status": "completed"
    },
    "tags": []
   },
   "outputs": [],
   "source": [
    "archseries_crosstab_e = pd.crosstab(\n",
    "    exploded_archseries[\"Archseries\"],\n",
    "    exploded_archseries[\"Property\"],\n",
    "    margins=True,\n",
    "    values=exploded_archseries[\"Count\"],\n",
    "    aggfunc=\"sum\",\n",
    ").fillna(0)\n",
    "archseries_crosstab_e"
   ]
  },
  {
   "cell_type": "markdown",
   "id": "142",
   "metadata": {
    "papermill": {
     "duration": 0.14324,
     "end_time": "2023-12-04T15:47:22.353871",
     "exception": false,
     "start_time": "2023-12-04T15:47:22.210631",
     "status": "completed"
    },
    "tags": []
   },
   "source": [
    "## Artworks"
   ]
  },
  {
   "cell_type": "code",
   "execution_count": null,
   "id": "143",
   "metadata": {
    "papermill": {
     "duration": 0.160522,
     "end_time": "2023-12-04T15:47:22.681301",
     "exception": false,
     "start_time": "2023-12-04T15:47:22.520779",
     "status": "completed"
    },
    "tags": []
   },
   "outputs": [],
   "source": [
    "print(\n",
    "    \"Total number of cards with edited or alternate artworks:\",\n",
    "    collection_df[\"Artwork\"].count(),\n",
    ")"
   ]
  },
  {
   "cell_type": "code",
   "execution_count": null,
   "id": "144",
   "metadata": {
    "papermill": {
     "duration": 0.290304,
     "end_time": "2023-12-04T15:47:23.126525",
     "exception": false,
     "start_time": "2023-12-04T15:47:22.836221",
     "status": "completed"
    },
    "tags": []
   },
   "outputs": [],
   "source": [
    "collection_df[[\"Name\", \"Password\", \"TCG status\", \"OCG status\", \"Artwork\"]][collection_df[\"Artwork\"].notna()]"
   ]
  },
  {
   "cell_type": "code",
   "execution_count": null,
   "id": "145",
   "metadata": {
    "papermill": {
     "duration": 0.290688,
     "end_time": "2023-12-04T15:47:23.606005",
     "exception": false,
     "start_time": "2023-12-04T15:47:23.315317",
     "status": "completed"
    },
    "tags": []
   },
   "outputs": [],
   "source": [
    "artwork_value_counts = collection_df[\"Artwork\"].value_counts()\n",
    "if len(artwork_value_counts) == 3:\n",
    "    plt.figure(figsize=(12, 8))\n",
    "    plt.title(\"Artworks\")\n",
    "    plot.venn2(\n",
    "        subsets=(\n",
    "            artwork_value_counts[(\"Alternate\",)],\n",
    "            artwork_value_counts[(\"Edited\",)],\n",
    "            artwork_value_counts[(\"Alternate\", \"Edited\")],\n",
    "        ),\n",
    "        set_labels=(\"Alternate artwork\", \"Edited artwork\"),\n",
    "    )\n",
    "    plt.show()"
   ]
  },
  {
   "cell_type": "markdown",
   "id": "146",
   "metadata": {
    "papermill": {
     "duration": 0.149124,
     "end_time": "2023-12-04T15:47:23.941322",
     "exception": false,
     "start_time": "2023-12-04T15:47:23.792198",
     "status": "completed"
    },
    "tags": []
   },
   "source": [
    "### By card type"
   ]
  },
  {
   "cell_type": "code",
   "execution_count": null,
   "id": "147",
   "metadata": {
    "papermill": {
     "duration": 0.309997,
     "end_time": "2023-12-04T15:47:24.752179",
     "exception": false,
     "start_time": "2023-12-04T15:47:24.442182",
     "status": "completed"
    },
    "tags": []
   },
   "outputs": [],
   "source": [
    "artwork_crosstab = pd.crosstab(\n",
    "    collection_df[\"Artwork\"].astype(str), collection_df[\"Card type\"], values=collection_df[\"Count\"], aggfunc=\"sum\"\n",
    ").fillna(0)\n",
    "artwork_crosstab"
   ]
  },
  {
   "cell_type": "markdown",
   "id": "148",
   "metadata": {
    "papermill": {
     "duration": 0.15031,
     "end_time": "2023-12-04T15:47:25.081330",
     "exception": false,
     "start_time": "2023-12-04T15:47:24.931020",
     "status": "completed"
    },
    "tags": []
   },
   "source": [
    "### By primary type"
   ]
  },
  {
   "cell_type": "code",
   "execution_count": null,
   "id": "149",
   "metadata": {
    "papermill": {
     "duration": 0.184641,
     "end_time": "2023-12-04T15:47:25.438021",
     "exception": false,
     "start_time": "2023-12-04T15:47:25.253380",
     "status": "completed"
    },
    "tags": []
   },
   "outputs": [],
   "source": [
    "artwork_crosstab_b = pd.crosstab(\n",
    "    collection_df[\"Artwork\"].astype(str), collection_df[\"Primary type\"], values=collection_df[\"Count\"], aggfunc=\"sum\"\n",
    ").fillna(0)\n",
    "artwork_crosstab_b"
   ]
  },
  {
   "cell_type": "markdown",
   "id": "150",
   "metadata": {
    "papermill": {
     "duration": 0.147757,
     "end_time": "2023-12-04T15:47:25.746531",
     "exception": false,
     "start_time": "2023-12-04T15:47:25.598774",
     "status": "completed"
    },
    "tags": []
   },
   "source": [
    "More granularity is unnecessary"
   ]
  },
  {
   "cell_type": "markdown",
   "id": "151",
   "metadata": {
    "papermill": {
     "duration": 0.147776,
     "end_time": "2023-12-04T15:47:26.053229",
     "exception": false,
     "start_time": "2023-12-04T15:47:25.905453",
     "status": "completed"
    },
    "tags": []
   },
   "source": [
    "## Errata"
   ]
  },
  {
   "cell_type": "code",
   "execution_count": null,
   "id": "152",
   "metadata": {
    "papermill": {
     "duration": 0.17064,
     "end_time": "2023-12-04T15:47:26.381729",
     "exception": false,
     "start_time": "2023-12-04T15:47:26.211089",
     "status": "completed"
    },
    "tags": []
   },
   "outputs": [],
   "source": [
    "print(\"Total number of cards with errata:\", collection_df[\"Errata\"].count())"
   ]
  },
  {
   "cell_type": "code",
   "execution_count": null,
   "id": "153",
   "metadata": {
    "papermill": {
     "duration": 0.437268,
     "end_time": "2023-12-04T15:47:26.976046",
     "exception": false,
     "start_time": "2023-12-04T15:47:26.538778",
     "status": "completed"
    },
    "tags": []
   },
   "outputs": [],
   "source": [
    "collection_df[[\"Name\", \"Password\", \"TCG status\", \"OCG status\", \"Errata\"]][collection_df[\"Errata\"].notna()]"
   ]
  },
  {
   "cell_type": "markdown",
   "id": "154",
   "metadata": {},
   "source": [
    "Unique entries for each column grouped by \"Errata\""
   ]
  },
  {
   "cell_type": "code",
   "execution_count": null,
   "id": "155",
   "metadata": {
    "papermill": {
     "duration": 0.31186,
     "end_time": "2023-12-04T15:47:27.453824",
     "exception": false,
     "start_time": "2023-12-04T15:47:27.141964",
     "status": "completed"
    },
    "tags": []
   },
   "outputs": [],
   "source": [
    "errata_counts = collection_df.groupby(\"Errata\").nunique().sort_values(\"Name\", ascending=False)\n",
    "errata_counts"
   ]
  },
  {
   "cell_type": "code",
   "execution_count": null,
   "id": "156",
   "metadata": {
    "papermill": {
     "duration": 0.31122,
     "end_time": "2023-12-04T15:47:27.952095",
     "exception": false,
     "start_time": "2023-12-04T15:47:27.640875",
     "status": "completed"
    },
    "tags": []
   },
   "outputs": [],
   "source": [
    "sorted_errata_name_counts = errata_counts[\"Name\"].sort_index(key=lambda x: [(len(i), i) for i in x])\n",
    "\n",
    "if (\"Name\",) in sorted_errata_name_counts and (\"Type\",) in sorted_errata_name_counts:\n",
    "    if (\"Any\",) in sorted_errata_name_counts:\n",
    "        sorted_errata_name_counts = sorted_errata_name_counts.drop(\"Any\")\n",
    "    plt.figure(figsize=(12, 8))\n",
    "    plt.title(\"Errata\")\n",
    "    plot.venn2(\n",
    "        subsets=sorted_errata_name_counts,\n",
    "        set_labels=sorted_errata_name_counts.index[:-1].str[0],\n",
    "    )\n",
    "    plt.show()"
   ]
  },
  {
   "cell_type": "markdown",
   "id": "157",
   "metadata": {
    "papermill": {
     "duration": 0.149681,
     "end_time": "2023-12-04T15:47:28.287301",
     "exception": false,
     "start_time": "2023-12-04T15:47:28.137620",
     "status": "completed"
    },
    "tags": []
   },
   "source": [
    "### By card type"
   ]
  },
  {
   "cell_type": "code",
   "execution_count": null,
   "id": "158",
   "metadata": {},
   "outputs": [],
   "source": [
    "collection_df[\"Errata\"][0]"
   ]
  },
  {
   "cell_type": "code",
   "execution_count": null,
   "id": "159",
   "metadata": {
    "papermill": {
     "duration": 0.197182,
     "end_time": "2023-12-04T15:47:28.658212",
     "exception": false,
     "start_time": "2023-12-04T15:47:28.461030",
     "status": "completed"
    },
    "tags": []
   },
   "outputs": [],
   "source": [
    "# TODO\n",
    "errata_crosstab = pd.crosstab(\n",
    "    collection_df[\"Errata\"].astype(str), collection_df[\"Card type\"], values=collection_df[\"Count\"], aggfunc=\"sum\"\n",
    ").fillna(0)\n",
    "errata_crosstab.sort_values(by=errata_crosstab.columns.tolist(), ascending=False)"
   ]
  },
  {
   "cell_type": "markdown",
   "id": "160",
   "metadata": {
    "papermill": {
     "duration": 0.173092,
     "end_time": "2023-12-04T15:47:29.021303",
     "exception": false,
     "start_time": "2023-12-04T15:47:28.848211",
     "status": "completed"
    },
    "tags": []
   },
   "source": [
    "### By primary type"
   ]
  },
  {
   "cell_type": "code",
   "execution_count": null,
   "id": "161",
   "metadata": {
    "papermill": {
     "duration": 0.192112,
     "end_time": "2023-12-04T15:47:29.487659",
     "exception": false,
     "start_time": "2023-12-04T15:47:29.295547",
     "status": "completed"
    },
    "tags": []
   },
   "outputs": [],
   "source": [
    "# TODO\n",
    "errata_crosstab_b = pd.crosstab(\n",
    "    collection_df[\"Errata\"].astype(str), collection_df[\"Primary type\"], values=collection_df[\"Count\"], aggfunc=\"sum\"\n",
    ").fillna(0)\n",
    "errata_crosstab_b.sort_values(by=errata_crosstab_b.columns.tolist(), ascending=False)"
   ]
  },
  {
   "cell_type": "markdown",
   "id": "162",
   "metadata": {
    "papermill": {
     "duration": 0.155143,
     "end_time": "2023-12-04T15:47:29.843684",
     "exception": false,
     "start_time": "2023-12-04T15:47:29.688541",
     "status": "completed"
    },
    "tags": []
   },
   "source": [
    "More granularity is unnecessary"
   ]
  },
  {
   "cell_type": "markdown",
   "id": "163",
   "metadata": {
    "papermill": {
     "duration": 0.36699,
     "end_time": "2023-12-04T15:47:30.395448",
     "exception": false,
     "start_time": "2023-12-04T15:47:30.028458",
     "status": "completed"
    },
    "tags": []
   },
   "source": [
    "### By artwork"
   ]
  },
  {
   "cell_type": "code",
   "execution_count": null,
   "id": "164",
   "metadata": {
    "papermill": {
     "duration": 0.212769,
     "end_time": "2023-12-04T15:47:30.826154",
     "exception": false,
     "start_time": "2023-12-04T15:47:30.613385",
     "status": "completed"
    },
    "tags": []
   },
   "outputs": [],
   "source": [
    "# TODO\n",
    "errata_crosstab_c = pd.crosstab(\n",
    "    collection_df[\"Artwork\"].astype(str), collection_df[\"Errata\"].astype(str), values=collection_df[\"Count\"], aggfunc=\"sum\"\n",
    ").fillna(0)\n",
    "errata_crosstab_c.sort_values(by=errata_crosstab_c.columns.tolist(), ascending=False)"
   ]
  },
  {
   "cell_type": "markdown",
   "id": "165",
   "metadata": {
    "papermill": {
     "duration": 0.39526,
     "end_time": "2023-12-04T15:47:31.409523",
     "exception": false,
     "start_time": "2023-12-04T15:47:31.014263",
     "status": "completed"
    },
    "tags": []
   },
   "source": [
    "## TCG & OCG status"
   ]
  },
  {
   "cell_type": "markdown",
   "id": "166",
   "metadata": {
    "papermill": {
     "duration": 0.158153,
     "end_time": "2023-12-04T15:47:31.756665",
     "exception": false,
     "start_time": "2023-12-04T15:47:31.598512",
     "status": "completed"
    },
    "tags": []
   },
   "source": [
    "### TGC status"
   ]
  },
  {
   "cell_type": "code",
   "execution_count": null,
   "id": "167",
   "metadata": {
    "papermill": {
     "duration": 0.169231,
     "end_time": "2023-12-04T15:47:32.097232",
     "exception": false,
     "start_time": "2023-12-04T15:47:31.928001",
     "status": "completed"
    },
    "tags": []
   },
   "outputs": [],
   "source": [
    "print(\"Total number of TCG status:\", collection_df[\"TCG status\"].nunique())"
   ]
  },
  {
   "cell_type": "markdown",
   "id": "168",
   "metadata": {},
   "source": [
    "Unique entries for each column grouped by \"TCG status\""
   ]
  },
  {
   "cell_type": "code",
   "execution_count": null,
   "id": "169",
   "metadata": {
    "papermill": {
     "duration": 0.293454,
     "end_time": "2023-12-04T15:47:32.560808",
     "exception": false,
     "start_time": "2023-12-04T15:47:32.267354",
     "status": "completed"
    },
    "tags": []
   },
   "outputs": [],
   "source": [
    "collection_df.drop(columns=[\"Page name\", \"Page URL\"]).groupby(\"TCG status\", dropna=False).nunique()"
   ]
  },
  {
   "cell_type": "code",
   "execution_count": null,
   "id": "170",
   "metadata": {
    "papermill": {
     "duration": 0.759329,
     "end_time": "2023-12-04T15:47:33.501005",
     "exception": false,
     "start_time": "2023-12-04T15:47:32.741676",
     "status": "completed"
    },
    "tags": []
   },
   "outputs": [],
   "source": [
    "collection_df.groupby([\"TCG status\"])[\"Count\"].sum().plot.bar(figsize=(14, 6), logy=False, grid=True, rot=0)\n",
    "plt.show()"
   ]
  },
  {
   "cell_type": "markdown",
   "id": "171",
   "metadata": {
    "papermill": {
     "duration": 0.159807,
     "end_time": "2023-12-04T15:47:33.849038",
     "exception": false,
     "start_time": "2023-12-04T15:47:33.689231",
     "status": "completed"
    },
    "tags": []
   },
   "source": [
    "#### By card type"
   ]
  },
  {
   "cell_type": "code",
   "execution_count": null,
   "id": "172",
   "metadata": {
    "papermill": {
     "duration": 0.195538,
     "end_time": "2023-12-04T15:47:34.217702",
     "exception": false,
     "start_time": "2023-12-04T15:47:34.022164",
     "status": "completed"
    },
    "tags": []
   },
   "outputs": [],
   "source": [
    "# Remove unlimited\n",
    "tcg_crosstab = (\n",
    "    pd.crosstab(collection_df[\"Card type\"], collection_df[\"TCG status\"], values=collection_df[\"Count\"], aggfunc=\"sum\")\n",
    "    .fillna(0)\n",
    "    .drop([\"Unlimited\"], axis=1)\n",
    ")\n",
    "tcg_crosstab"
   ]
  },
  {
   "cell_type": "code",
   "execution_count": null,
   "id": "173",
   "metadata": {
    "papermill": {
     "duration": 0.57199,
     "end_time": "2023-12-04T15:47:34.963744",
     "exception": false,
     "start_time": "2023-12-04T15:47:34.391754",
     "status": "completed"
    },
    "tags": []
   },
   "outputs": [],
   "source": [
    "if not tcg_crosstab.empty:\n",
    "    plt.figure(figsize=(12, 6))\n",
    "    sns.heatmap(\n",
    "        tcg_crosstab[tcg_crosstab > 0],\n",
    "        annot=True,\n",
    "        fmt=\"g\",\n",
    "        cmap=\"viridis\",\n",
    "        # norm=plot.LogNorm(),\n",
    "    )\n",
    "    plt.show()"
   ]
  },
  {
   "cell_type": "markdown",
   "id": "174",
   "metadata": {
    "papermill": {
     "duration": 0.159156,
     "end_time": "2023-12-04T15:47:35.337567",
     "exception": false,
     "start_time": "2023-12-04T15:47:35.178411",
     "status": "completed"
    },
    "tags": []
   },
   "source": [
    "#### By monster type"
   ]
  },
  {
   "cell_type": "code",
   "execution_count": null,
   "id": "175",
   "metadata": {
    "papermill": {
     "duration": 0.202355,
     "end_time": "2023-12-04T15:47:35.727244",
     "exception": false,
     "start_time": "2023-12-04T15:47:35.524889",
     "status": "completed"
    },
    "tags": []
   },
   "outputs": [],
   "source": [
    "# Remove unlimited\n",
    "tcg_crosstab_b = (\n",
    "    pd.crosstab(collection_df[\"Monster type\"], collection_df[\"TCG status\"], values=collection_df[\"Count\"], aggfunc=\"sum\")\n",
    "    .fillna(0)\n",
    "    .drop([\"Unlimited\"], axis=1)\n",
    ")\n",
    "tcg_crosstab_b"
   ]
  },
  {
   "cell_type": "code",
   "execution_count": null,
   "id": "176",
   "metadata": {
    "papermill": {
     "duration": 1.031321,
     "end_time": "2023-12-04T15:47:36.945591",
     "exception": false,
     "start_time": "2023-12-04T15:47:35.914270",
     "status": "completed"
    },
    "tags": []
   },
   "outputs": [],
   "source": [
    "if not tcg_crosstab_b.empty:\n",
    "    plt.figure(figsize=(14, 4))\n",
    "    sns.heatmap(\n",
    "        tcg_crosstab_b[tcg_crosstab_b > 0].T.dropna(how=\"all\", axis=1),\n",
    "        annot=True,\n",
    "        fmt=\"g\",\n",
    "        cmap=\"viridis\",\n",
    "        square=True,\n",
    "    )\n",
    "    plt.show()"
   ]
  },
  {
   "cell_type": "markdown",
   "id": "177",
   "metadata": {
    "papermill": {
     "duration": 0.303242,
     "end_time": "2023-12-04T15:47:37.432676",
     "exception": false,
     "start_time": "2023-12-04T15:47:37.129434",
     "status": "completed"
    },
    "tags": []
   },
   "source": [
    "#### By archseries"
   ]
  },
  {
   "cell_type": "code",
   "execution_count": null,
   "id": "178",
   "metadata": {
    "papermill": {
     "duration": 0.234063,
     "end_time": "2023-12-04T15:47:37.849190",
     "exception": false,
     "start_time": "2023-12-04T15:47:37.615127",
     "status": "completed"
    },
    "tags": []
   },
   "outputs": [],
   "source": [
    "# Remove unlimited\n",
    "tcg_crosstab_c = pd.crosstab(\n",
    "    exploded_archseries[\"Archseries\"].where(exploded_archseries[\"OCG status\"] != \"Unlimited\"),\n",
    "    exploded_archseries[\"TCG status\"],\n",
    "    values=collection_df[\"Count\"],\n",
    "    aggfunc=\"sum\",\n",
    "    margins=True,\n",
    ").fillna(0)\n",
    "tcg_crosstab_c"
   ]
  },
  {
   "cell_type": "markdown",
   "id": "179",
   "metadata": {
    "papermill": {
     "duration": 0.159223,
     "end_time": "2023-12-04T15:47:38.199942",
     "exception": false,
     "start_time": "2023-12-04T15:47:38.040719",
     "status": "completed"
    },
    "tags": []
   },
   "source": [
    "### OCG status"
   ]
  },
  {
   "cell_type": "code",
   "execution_count": null,
   "id": "180",
   "metadata": {
    "papermill": {
     "duration": 0.177811,
     "end_time": "2023-12-04T15:47:38.565700",
     "exception": false,
     "start_time": "2023-12-04T15:47:38.387889",
     "status": "completed"
    },
    "tags": []
   },
   "outputs": [],
   "source": [
    "print(\"Total number of OCG status:\", collection_df[\"OCG status\"].nunique())"
   ]
  },
  {
   "cell_type": "markdown",
   "id": "181",
   "metadata": {},
   "source": [
    "Unique entries for each column grouped by \"OCG status\""
   ]
  },
  {
   "cell_type": "code",
   "execution_count": null,
   "id": "182",
   "metadata": {
    "papermill": {
     "duration": 0.323846,
     "end_time": "2023-12-04T15:47:39.082984",
     "exception": false,
     "start_time": "2023-12-04T15:47:38.759138",
     "status": "completed"
    },
    "tags": []
   },
   "outputs": [],
   "source": [
    "collection_df.drop(columns=[\"Page name\", \"Page URL\"]).groupby(\"OCG status\", dropna=False).nunique()"
   ]
  },
  {
   "cell_type": "code",
   "execution_count": null,
   "id": "183",
   "metadata": {
    "papermill": {
     "duration": 0.714169,
     "end_time": "2023-12-04T15:47:40.017703",
     "exception": false,
     "start_time": "2023-12-04T15:47:39.303534",
     "status": "completed"
    },
    "tags": []
   },
   "outputs": [],
   "source": [
    "collection_df.groupby([\"OCG status\"])[\"Count\"].sum().plot.bar(figsize=(14, 6), logy=False, grid=True, rot=0)\n",
    "plt.show()"
   ]
  },
  {
   "cell_type": "markdown",
   "id": "184",
   "metadata": {
    "papermill": {
     "duration": 0.161988,
     "end_time": "2023-12-04T15:47:40.372081",
     "exception": false,
     "start_time": "2023-12-04T15:47:40.210093",
     "status": "completed"
    },
    "tags": []
   },
   "source": [
    "#### By card type"
   ]
  },
  {
   "cell_type": "code",
   "execution_count": null,
   "id": "185",
   "metadata": {
    "papermill": {
     "duration": 0.203154,
     "end_time": "2023-12-04T15:47:40.766273",
     "exception": false,
     "start_time": "2023-12-04T15:47:40.563119",
     "status": "completed"
    },
    "tags": []
   },
   "outputs": [],
   "source": [
    "# Remove unlimited\n",
    "ocg_crosstab = (\n",
    "    pd.crosstab(collection_df[\"Card type\"], collection_df[\"OCG status\"], values=collection_df[\"Count\"], aggfunc=\"sum\")\n",
    "    .fillna(0)\n",
    "    .drop([\"Unlimited\"], axis=1)\n",
    ")\n",
    "ocg_crosstab"
   ]
  },
  {
   "cell_type": "code",
   "execution_count": null,
   "id": "186",
   "metadata": {
    "papermill": {
     "duration": 0.522394,
     "end_time": "2023-12-04T15:47:41.484695",
     "exception": false,
     "start_time": "2023-12-04T15:47:40.962301",
     "status": "completed"
    },
    "tags": []
   },
   "outputs": [],
   "source": [
    "if not ocg_crosstab.empty:\n",
    "    plt.figure(figsize=(12, 6))\n",
    "    sns.heatmap(ocg_crosstab[ocg_crosstab > 0], annot=True, fmt=\"g\", cmap=\"viridis\")\n",
    "    plt.show()"
   ]
  },
  {
   "cell_type": "markdown",
   "id": "187",
   "metadata": {
    "papermill": {
     "duration": 0.1683,
     "end_time": "2023-12-04T15:47:41.839470",
     "exception": false,
     "start_time": "2023-12-04T15:47:41.671170",
     "status": "completed"
    },
    "tags": []
   },
   "source": [
    "#### By monster type"
   ]
  },
  {
   "cell_type": "code",
   "execution_count": null,
   "id": "188",
   "metadata": {
    "papermill": {
     "duration": 0.202634,
     "end_time": "2023-12-04T15:47:42.235020",
     "exception": false,
     "start_time": "2023-12-04T15:47:42.032386",
     "status": "completed"
    },
    "tags": []
   },
   "outputs": [],
   "source": [
    "ocg_crosstab_b = (\n",
    "    pd.crosstab(collection_df[\"Monster type\"], collection_df[\"OCG status\"], values=collection_df[\"Count\"], aggfunc=\"sum\")\n",
    "    .fillna(0)\n",
    "    .drop([\"Unlimited\"], axis=1)\n",
    ")\n",
    "ocg_crosstab_b"
   ]
  },
  {
   "cell_type": "code",
   "execution_count": null,
   "id": "189",
   "metadata": {
    "papermill": {
     "duration": 0.865688,
     "end_time": "2023-12-04T15:47:43.269769",
     "exception": false,
     "start_time": "2023-12-04T15:47:42.404081",
     "status": "completed"
    },
    "tags": []
   },
   "outputs": [],
   "source": [
    "if not ocg_crosstab_b.empty:\n",
    "    plt.figure(figsize=(14, 4))\n",
    "    sns.heatmap(\n",
    "        ocg_crosstab_b[ocg_crosstab_b > 0].T.dropna(how=\"all\", axis=1),\n",
    "        annot=True,\n",
    "        fmt=\"g\",\n",
    "        cmap=\"viridis\",\n",
    "        square=True,\n",
    "    )\n",
    "    plt.show()"
   ]
  },
  {
   "cell_type": "markdown",
   "id": "190",
   "metadata": {
    "papermill": {
     "duration": 0.277018,
     "end_time": "2023-12-04T15:47:43.724449",
     "exception": false,
     "start_time": "2023-12-04T15:47:43.447431",
     "status": "completed"
    },
    "tags": []
   },
   "source": [
    "#### By archseries"
   ]
  },
  {
   "cell_type": "code",
   "execution_count": null,
   "id": "191",
   "metadata": {
    "papermill": {
     "duration": 0.276812,
     "end_time": "2023-12-04T15:47:44.435923",
     "exception": false,
     "start_time": "2023-12-04T15:47:44.159111",
     "status": "completed"
    },
    "tags": []
   },
   "outputs": [],
   "source": [
    "# Remove unlimited\n",
    "ocg_crosstab_c = pd.crosstab(\n",
    "    exploded_archseries[\"Archseries\"].where(exploded_archseries[\"OCG status\"] != \"Unlimited\"),\n",
    "    exploded_archseries[\"OCG status\"],\n",
    "    values=collection_df[\"Count\"],\n",
    "    aggfunc=\"sum\",\n",
    "    margins=True,\n",
    ").fillna(0)\n",
    "ocg_crosstab_c"
   ]
  },
  {
   "cell_type": "markdown",
   "id": "192",
   "metadata": {
    "papermill": {
     "duration": 0.167196,
     "end_time": "2023-12-04T15:47:44.793952",
     "exception": false,
     "start_time": "2023-12-04T15:47:44.626756",
     "status": "completed"
    },
    "tags": []
   },
   "source": [
    "### TCG vs. OCG status"
   ]
  },
  {
   "cell_type": "code",
   "execution_count": null,
   "id": "193",
   "metadata": {
    "papermill": {
     "duration": 0.210368,
     "end_time": "2023-12-04T15:47:45.202870",
     "exception": false,
     "start_time": "2023-12-04T15:47:44.992502",
     "status": "completed"
    },
    "tags": []
   },
   "outputs": [],
   "source": [
    "cg_crosstab = pd.crosstab(\n",
    "    collection_df[\"OCG status\"],\n",
    "    collection_df[\"TCG status\"],\n",
    "    values=collection_df[\"Count\"],\n",
    "    aggfunc=\"sum\",\n",
    "    dropna=False,\n",
    "    margins=False,\n",
    ").fillna(0)\n",
    "cg_crosstab"
   ]
  },
  {
   "cell_type": "code",
   "execution_count": null,
   "id": "194",
   "metadata": {
    "papermill": {
     "duration": 0.806324,
     "end_time": "2023-12-04T15:47:46.201316",
     "exception": false,
     "start_time": "2023-12-04T15:47:45.394992",
     "status": "completed"
    },
    "tags": []
   },
   "outputs": [],
   "source": [
    "plt.figure(figsize=(10, 8))\n",
    "sns.heatmap(\n",
    "    cg_crosstab[cg_crosstab > 0],\n",
    "    annot=True,\n",
    "    fmt=\"g\",\n",
    "    cmap=\"viridis\",\n",
    "    square=True,\n",
    "    norm=plot.LogNorm(),\n",
    ")\n",
    "plt.show()"
   ]
  },
  {
   "cell_type": "markdown",
   "id": "195",
   "metadata": {
    "papermill": {
     "duration": 0.150264,
     "end_time": "2023-02-22T22:27:41.665707",
     "exception": false,
     "start_time": "2023-02-22T22:27:41.515443",
     "status": "completed"
    },
    "tags": []
   },
   "source": [
    "# Epilogue"
   ]
  },
  {
   "cell_type": "code",
   "execution_count": null,
   "id": "196",
   "metadata": {
    "papermill": {
     "duration": 0.165205,
     "end_time": "2023-02-22T22:27:41.981675",
     "exception": false,
     "start_time": "2023-02-22T22:27:41.816470",
     "status": "completed"
    },
    "tags": []
   },
   "outputs": [],
   "source": [
    "# benchmark(report='Collection',timestamp=timestamp)"
   ]
  },
  {
   "cell_type": "code",
   "execution_count": null,
   "id": "197",
   "metadata": {
    "papermill": {
     "duration": 0.17123,
     "end_time": "2023-02-22T22:27:42.303245",
     "exception": false,
     "start_time": "2023-02-22T22:27:42.132015",
     "status": "completed"
    },
    "tags": []
   },
   "outputs": [],
   "source": [
    "footer(timestamp)"
   ]
  },
  {
   "cell_type": "markdown",
   "id": "198",
   "metadata": {
    "papermill": {
     "duration": 0.161301,
     "end_time": "2023-02-22T22:27:42.621788",
     "exception": false,
     "start_time": "2023-02-22T22:27:42.460487",
     "status": "completed"
    },
    "tags": []
   },
   "source": [
    "## HTML export"
   ]
  },
  {
   "cell_type": "code",
   "execution_count": null,
   "id": "199",
   "metadata": {
    "papermill": {
     "duration": 0.166335,
     "end_time": "2023-02-22T22:27:42.941056",
     "exception": false,
     "start_time": "2023-02-22T22:27:42.774721",
     "status": "completed"
    },
    "tags": []
   },
   "outputs": [],
   "source": [
    "# Save notebook on disck before generating HTML report\n",
    "save_notebook()"
   ]
  },
  {
   "cell_type": "code",
   "execution_count": null,
   "id": "200",
   "metadata": {
    "papermill": {
     "duration": 3.911313,
     "end_time": "2023-02-22T22:27:47.005324",
     "exception": false,
     "start_time": "2023-02-22T22:27:43.094011",
     "status": "completed"
    },
    "tags": []
   },
   "outputs": [],
   "source": [
    "# export_notebook(dirs.NOTEBOOKS.user / \"Collection.ipynb\")"
   ]
  },
  {
   "cell_type": "markdown",
   "id": "201",
   "metadata": {
    "papermill": {
     "duration": 0.172809,
     "end_time": "2023-02-22T22:27:47.330627",
     "exception": false,
     "start_time": "2023-02-22T22:27:47.157818",
     "status": "completed"
    },
    "tags": [
     "exclude"
    ]
   },
   "source": [
    "## Git"
   ]
  },
  {
   "cell_type": "code",
   "execution_count": null,
   "id": "202",
   "metadata": {
    "tags": [
     "exclude"
    ]
   },
   "outputs": [],
   "source": [
    "# git.commit(\"*[Cc]olection*\", f\"Collection update - {timestamp.isoformat()}\")"
   ]
  }
 ],
 "metadata": {
  "kernelspec": {
   "display_name": "venv",
   "language": "python",
   "name": "python3"
  },
  "language_info": {
   "codemirror_mode": {
    "name": "ipython",
    "version": 3
   },
   "file_extension": ".py",
   "mimetype": "text/x-python",
   "name": "python",
   "nbconvert_exporter": "python",
   "pygments_lexer": "ipython3",
   "version": "3.12.7"
  },
  "papermill": {
   "default_parameters": {},
   "duration": 216.133721,
   "end_time": "2023-02-22T22:27:50.787255",
   "environment_variables": {},
   "exception": null,
   "input_path": "Cards.ipynb",
   "output_path": "Cards.ipynb",
   "parameters": {},
   "start_time": "2023-02-22T22:24:14.653534",
   "version": "2.4.0"
  },
  "toc": {
   "base_numbering": 1,
   "nav_menu": {
    "height": "599px",
    "width": "228px"
   },
   "number_sections": true,
   "sideBar": true,
   "skip_h1_title": false,
   "title_cell": "Table of Contents",
   "title_sidebar": "Contents",
   "toc_cell": true,
   "toc_position": {
    "height": "calc(100% - 180px)",
    "left": "10px",
    "top": "150px",
    "width": "353px"
   },
   "toc_section_display": true,
   "toc_window_display": true
  },
  "toc-autonumbering": false,
  "toc-showcode": false,
  "toc-showmarkdowntxt": false
 },
 "nbformat": 4,
 "nbformat_minor": 5
}
