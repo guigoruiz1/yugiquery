{
 "cells": [
  {
   "cell_type": "code",
   "execution_count": null,
   "metadata": {},
   "outputs": [],
   "source": [
    "from yugiquery import *\n",
    "\n",
    "init_notebook_mode(all_interactive=True)\n",
    "\n",
    "header(\"My Decks\")"
   ]
  },
  {
   "cell_type": "markdown",
   "metadata": {},
   "source": [
    "---"
   ]
  },
  {
   "cell_type": "code",
   "execution_count": null,
   "metadata": {},
   "outputs": [],
   "source": [
    "def is_light_color(color, threshold=0.6):\n",
    "    # Convert color to RGB if it's in hex format\n",
    "    if isinstance(color, str):\n",
    "        color = hex2color(color)\n",
    "    # Convert RGB to HSV\n",
    "    hsv = rgb_to_hsv(color)\n",
    "    # Check the brightness (value in HSV)\n",
    "    return hsv[2] > threshold\n",
    "\n",
    "\n",
    "def make_autopct(values):\n",
    "    def my_autopct(pct):\n",
    "        total = sum(values)\n",
    "        val = int(round(pct * total / 100.0))\n",
    "        return f\"{pct:.0f}%\\n({val})\"\n",
    "\n",
    "    return my_autopct\n",
    "\n",
    "\n",
    "def deck_composition(deck_df, spacing=(2, 1), size=(5, 5), ring=0.3, **kwargs):\n",
    "    temp = deck_df.copy()\n",
    "    temp[\"Primary type\"] = deck_df[\"Primary type\"].fillna(deck_df[\"Card type\"])\n",
    "    main_df = temp[temp[\"Section\"] == \"Main\"].groupby([\"Deck\", \"Primary type\"])[\"Count\"].sum().unstack(0)\n",
    "    extra_df = temp[temp[\"Section\"] == \"Extra\"].groupby([\"Deck\", \"Primary type\"])[\"Count\"].sum().unstack(0)\n",
    "    side_df = temp[temp[\"Section\"] == \"Side\"].groupby([\"Deck\", \"Primary type\"])[\"Count\"].sum().unstack(0)\n",
    "\n",
    "    # Font sizes\n",
    "    label_font_size = kwargs.get(\"label_font_size\", 14)\n",
    "    title_font_size = kwargs.get(\"title_font_size\", 16)\n",
    "    suptitle_font_size = kwargs.get(\"suptitle_font_size\", 20)\n",
    "    legend_font_size = kwargs.get(\"legend_font_size\", 12)\n",
    "\n",
    "    plot_width = size[0]  # Width of each plot\n",
    "    plot_height = size[1]  # Fixed height for each plot\n",
    "    horizontal_space = spacing[0]  # Fixed horizontal space between plots\n",
    "    vertical_space = spacing[1]  # Fixed vertical space between plots\n",
    "    header_space = kwargs.get(\"header_space\", 2.5)  # Fixed space between top and first row of plots\n",
    "\n",
    "    decks = deck_df[\"Deck\"].unique()\n",
    "    cols = min(kwargs.get(\"min_cols\", 3), len(decks))\n",
    "    rows = int(np.ceil(len(decks) / cols))\n",
    "\n",
    "    colors_main = [plot.colors_dict[type] for type in main_df.index]\n",
    "    colors_extra = [plot.colors_dict[type] for type in extra_df.index]\n",
    "    colors_remaining = side_df.index.difference(main_df.index.union(extra_df.index))\n",
    "\n",
    "    # Dynamically calculate the figure size based on the number of rows and columns\n",
    "    fig_width = plot_width * cols + (cols - 1) * horizontal_space\n",
    "    fig_height = plot_height * rows + (rows - 1) * vertical_space + header_space\n",
    "\n",
    "    fig = plt.figure(figsize=(fig_width, fig_height))\n",
    "    gs = GridSpec(\n",
    "        nrows=rows,\n",
    "        ncols=cols,\n",
    "        wspace=horizontal_space / plot_width,  # Adjusted for figure width\n",
    "        hspace=vertical_space / plot_height,  # Adjusted for plot height\n",
    "    )\n",
    "\n",
    "    for i, deck in enumerate(decks):\n",
    "        # Create sub-grid for pie and bar plots\n",
    "        sub_gs = gs[(i // cols), i % cols].subgridspec(2, 1, height_ratios=[9, 1], hspace=0.2)\n",
    "\n",
    "        # Main plot in the upper sub-grid\n",
    "        ax_pie = fig.add_subplot(sub_gs[0, 0])\n",
    "        wedges1, texts1, autotexts1 = ax_pie.pie(\n",
    "            main_df[deck].dropna(),\n",
    "            autopct=make_autopct(main_df[deck].dropna()),\n",
    "            startangle=90,\n",
    "            radius=1,\n",
    "            wedgeprops=dict(width=ring, edgecolor=\"w\"),\n",
    "            pctdistance=0.85,\n",
    "            colors=np.array(colors_main)[main_df[deck].notna()],\n",
    "            counterclock=False,\n",
    "        )\n",
    "\n",
    "        if deck in extra_df.columns:\n",
    "            wedges2, texts2, autotexts2 = ax_pie.pie(\n",
    "                extra_df[deck].dropna(),\n",
    "                autopct=make_autopct(extra_df[deck].dropna()),\n",
    "                startangle=90,\n",
    "                radius=1 - ring,\n",
    "                wedgeprops=dict(width=ring, edgecolor=\"w\"),\n",
    "                pctdistance=0.75,\n",
    "                colors=np.array(colors_extra)[extra_df[deck].notna()],\n",
    "                counterclock=False,\n",
    "            )\n",
    "\n",
    "        for wedge, text in zip(wedges1, autotexts1):\n",
    "            color = wedge.get_facecolor()[:3]\n",
    "            text.set_color(\"black\" if is_light_color(color) else \"white\")\n",
    "        for wedge, text in zip(wedges2, autotexts2):\n",
    "            color = wedge.get_facecolor()[:3]\n",
    "            text.set_color(\"black\" if is_light_color(color) else \"white\")\n",
    "\n",
    "        ax_pie.text(\n",
    "            0,\n",
    "            0,\n",
    "            f\"Main: {main_df[deck].sum()}\\nExtra: {extra_df[deck].sum()}\",\n",
    "            ha=\"center\",\n",
    "            va=\"center\",\n",
    "            fontsize=label_font_size,\n",
    "        )\n",
    "        ax_pie.set_title(deck, fontsize=title_font_size)\n",
    "        ax_pie.set_xlim(-1, 1)\n",
    "        ax_pie.set_ylim(-1, 1)\n",
    "        ax_pie.set_aspect(\"equal\", adjustable=\"box\")\n",
    "\n",
    "        ax_bar = fig.add_subplot(sub_gs[1, 0])  # Bar plot in the odd row\n",
    "        ax_bar.axis(\"off\")\n",
    "        # Create bar plot in the lower sub-grid\n",
    "        if deck in side_df and side_df[deck] is not None:\n",
    "            sorted_side = side_df[deck].sort_values(ascending=True).dropna()\n",
    "            side_total = sorted_side.sum()\n",
    "            left = 0\n",
    "            height = 0.1\n",
    "            for j, (name, count) in enumerate(sorted_side.items()):\n",
    "                left -= count\n",
    "                color = plot.colors_dict[name]\n",
    "                bc = ax_bar.barh(\n",
    "                    0,\n",
    "                    width=count,\n",
    "                    height=height,\n",
    "                    left=left,\n",
    "                    color=color,\n",
    "                    edgecolor=\"white\",\n",
    "                )\n",
    "                ax_bar.bar_label(\n",
    "                    bc,\n",
    "                    labels=[f\"{count/side_total*100:.0f}%\\n({count})\"],\n",
    "                    label_type=\"center\",\n",
    "                    color=\"black\" if is_light_color(color) else \"white\",\n",
    "                )\n",
    "            ax_bar.set_title(f\"Side: {side_total}\", fontsize=label_font_size)\n",
    "            ax_bar.set_xlim(-side_total, 0)\n",
    "            ax_bar.set_ylim(-0.05, 0.05)\n",
    "            ax_bar.set_aspect(side_total, adjustable=\"box\")\n",
    "\n",
    "        else:\n",
    "            ax_bar.set_title(f\"Side: 0\", fontsize=label_font_size)\n",
    "\n",
    "    # Create custom legend handles for main_df and extra_df\n",
    "    colors_main += [\n",
    "        plot.colors_dict[type]\n",
    "        for type in colors_remaining\n",
    "        if type not in [\"Fusion Monster\", \"Synchro Monster\", \"Xyz Monster\", \"Link Monster\"]\n",
    "    ]\n",
    "    colors_main += [\n",
    "        plot.colors_dict[type]\n",
    "        for type in colors_remaining\n",
    "        if type in [\"Fusion Monster\", \"Synchro Monster\", \"Xyz Monster\", \"Link Monster\"]\n",
    "    ]\n",
    "    handles1 = [mpatches.Patch(color=plot.colors_dict[type], label=type) for type in main_df.index]\n",
    "    handles2 = [mpatches.Patch(color=plot.colors_dict[type], label=type) for type in extra_df.index]\n",
    "\n",
    "    # Adjust the legend position\n",
    "    top = 1 - header_space / fig_height\n",
    "    legend_y = top + 3 * (1 - top) / 5\n",
    "\n",
    "    fig.subplots_adjust(top=top, bottom=0)\n",
    "\n",
    "    fig.legend(\n",
    "        handles=handles1,\n",
    "        title=\"Main deck\",\n",
    "        loc=\"lower center\",\n",
    "        fontsize=legend_font_size,\n",
    "        ncol=len(handles1),\n",
    "        bbox_to_anchor=(0.5, legend_y),\n",
    "        frameon=False,\n",
    "        borderaxespad=0,\n",
    "        title_fontsize=legend_font_size + 2,\n",
    "    )\n",
    "    fig.legend(\n",
    "        handles=handles2,\n",
    "        title=\"Extra deck\",\n",
    "        loc=\"upper center\",\n",
    "        fontsize=legend_font_size,\n",
    "        ncol=len(handles2),\n",
    "        bbox_to_anchor=(0.5, legend_y),\n",
    "        frameon=False,\n",
    "        borderaxespad=0,\n",
    "        title_fontsize=legend_font_size + 2,\n",
    "    )\n",
    "\n",
    "    fig.suptitle(\"Deck composition\", fontsize=suptitle_font_size, y=1)\n",
    "\n",
    "    return fig"
   ]
  },
  {
   "cell_type": "code",
   "execution_count": null,
   "metadata": {},
   "outputs": [],
   "source": [
    "def deck_distribution(deck_df, column, spacing=(3, 1), size=None, colors=None, **kwargs):\n",
    "    decks = deck_df[deck_df[column].notna()][\"Deck\"].unique()\n",
    "    max_label_len = max([len(x) for x in deck_df[column].dropna().unique()])\n",
    "    mean_labels = deck_df.groupby(\"Deck\")[column].nunique()\n",
    "    mean_labels = mean_labels[mean_labels > 0].mean()\n",
    "    max_labels = deck_df.groupby(\"Deck\")[column].nunique().max()\n",
    "    sorted_sections = deck_df[\"Section\"].value_counts().index.tolist()\n",
    "\n",
    "    # Font sizes\n",
    "    label_font_size = kwargs.get(\"label_font_size\", 14)\n",
    "    title_font_size = kwargs.get(\"title_font_size\", 20)\n",
    "    legend_font_size = kwargs.get(\"legend_font_size\", 12)\n",
    "\n",
    "    # Set constants for plot sizes and spacing\n",
    "    plot_width = 6 if size is None else size[0]  # Width of each plot\n",
    "    plot_height = max(mean_labels / 2, 0.5) if size is None else size[1]  # Fixed height for each plot\n",
    "    horizontal_space = spacing[0] + max(2 * int(max_label_len / 10) - 3, 0)  # Fixed horizontal space between plots\n",
    "    vertical_space = spacing[1]  # Fixed vertical space between plots\n",
    "    header_space = kwargs.get(\"header_space\", 1)  # Fixed space between figure top and subplots\n",
    "\n",
    "    # Calculate number of columns and rows\n",
    "    cols = min(kwargs.get(\"max_cols\", 2), len(decks))\n",
    "    rows = int(np.ceil(len(decks) / cols))\n",
    "\n",
    "    # Dynamically calculate the figure size based on the number of rows and columns\n",
    "    fig_width = plot_width * cols + (cols - 1) * horizontal_space\n",
    "    fig_height = plot_height * rows + (rows - 1) * vertical_space + header_space\n",
    "\n",
    "    fig = plt.figure(figsize=(fig_width, fig_height))\n",
    "    gs = GridSpec(\n",
    "        nrows=rows,\n",
    "        ncols=cols,\n",
    "        wspace=horizontal_space / plot_width,  # Adjusted for figure width\n",
    "        hspace=vertical_space / plot_height,  # Adjusted for plot height\n",
    "    )\n",
    "\n",
    "    if colors is None:\n",
    "        plot_colors = {\n",
    "            section: plot.colors_dict[c]\n",
    "            for section, c in zip([\"Main\", \"Extra\", \"Side\"], [\"Effect Monster\", \"Fusion Monster\", \"Counter\"])\n",
    "        }\n",
    "    else:\n",
    "        colors_dict = {\n",
    "            section: (\n",
    "                pd.Series(\n",
    "                    colors[section],\n",
    "                    index=sorted(deck_df[column].dropna().unique()) if isinstance(colors[section], list) else [0],\n",
    "                )\n",
    "            )\n",
    "            for section in sorted_sections\n",
    "        }\n",
    "\n",
    "    hatches = kwargs.get(\"hatch\", [\"\"] * len(sorted_sections))\n",
    "    hatches = pd.Series(hatches, index=sorted_sections)\n",
    "\n",
    "    # Plotting each deck's data\n",
    "    temp = deck_df.copy()\n",
    "    for i, deck in enumerate(decks):\n",
    "        temp_df = temp[temp[\"Deck\"] == deck].groupby([\"Section\", column])[\"Count\"].sum().unstack(0)\n",
    "        temp_df = temp_df[temp_df.sum().sort_values(ascending=False).index]\n",
    "\n",
    "        if not temp_df.empty:\n",
    "            ax = fig.add_subplot(gs[i // cols, i % cols])\n",
    "            num_bars = len(temp_df)\n",
    "            # Scale factor to adjust bar height based on the maximum number of bars\n",
    "            bar_height_scale = (num_bars) / (2 * max_labels)\n",
    "            if colors is not None:\n",
    "                plot_colors = {\n",
    "                    section: (\n",
    "                        colors_dict[section].loc[temp_df[section].index]\n",
    "                        if len(colors_dict[section]) > 1\n",
    "                        else colors_dict[section]\n",
    "                    )\n",
    "                    for section in temp_df.columns\n",
    "                }\n",
    "\n",
    "            bar_ax = temp_df.plot.barh(\n",
    "                ax=ax,\n",
    "                stacked=True,\n",
    "                legend=False,\n",
    "                fontsize=label_font_size,\n",
    "                color=plot_colors,\n",
    "                width=bar_height_scale,\n",
    "                edgecolor=kwargs.get(\"edgecolor\", \"w\"),\n",
    "            )\n",
    "            for j, bar in enumerate(bar_ax.patches):\n",
    "                hatch_index = j // (len(bar_ax.patches) // len(temp_df.columns))\n",
    "                bar.set_hatch(hatches.iloc[hatch_index])\n",
    "\n",
    "            ax.set_ylabel(\"\")\n",
    "            ax.set_xlabel(\"Count\", fontsize=label_font_size)\n",
    "            ax.set_title(deck, fontsize=label_font_size)\n",
    "            ax.xaxis.set_major_locator(plt.MaxNLocator(integer=True))\n",
    "\n",
    "            num_bars = len(temp_df)\n",
    "            ax.set_ylim(-0.5, num_bars - 0.5)\n",
    "\n",
    "    # Adjust margins and add suptitle\n",
    "    top = 1 - header_space / fig_height\n",
    "    legend_y = top + (1 - top) / 2\n",
    "\n",
    "    fig.subplots_adjust(\n",
    "        top=top,\n",
    "        bottom=0,\n",
    "    )\n",
    "\n",
    "    if colors is None:\n",
    "        handles = [\n",
    "            mpatches.Patch(facecolor=plot_colors[section], edgecolor=\"w\", hatch=hatches[section], label=section)\n",
    "            for section in sorted_sections\n",
    "        ]\n",
    "    else:\n",
    "        handles = [\n",
    "            mpatches.Patch(facecolor=colors_dict[section].iloc[0], edgecolor=\"w\", hatch=hatches[section], label=section)\n",
    "            for section in sorted_sections\n",
    "        ]\n",
    "\n",
    "    # Add legend with a fixed position\n",
    "    fig.legend(\n",
    "        handles=handles,\n",
    "        loc=\"center\",\n",
    "        fontsize=legend_font_size,\n",
    "        ncol=3,\n",
    "        bbox_to_anchor=(\n",
    "            0.5,\n",
    "            legend_y,\n",
    "        ),\n",
    "        borderaxespad=0.5,\n",
    "        frameon=False,\n",
    "    )\n",
    "    fig.suptitle(f\"{column} distribution\", fontsize=title_font_size, y=1)\n",
    "\n",
    "    return fig"
   ]
  },
  {
   "cell_type": "markdown",
   "metadata": {},
   "source": [
    "# Data loading"
   ]
  },
  {
   "cell_type": "code",
   "execution_count": null,
   "metadata": {},
   "outputs": [],
   "source": [
    "_ = git.ensure_repo()"
   ]
  },
  {
   "cell_type": "markdown",
   "metadata": {},
   "source": [
    "## Read decks"
   ]
  },
  {
   "cell_type": "code",
   "execution_count": null,
   "metadata": {},
   "outputs": [],
   "source": [
    "# Timestamp\n",
    "timestamp = arrow.utcnow()"
   ]
  },
  {
   "cell_type": "code",
   "execution_count": null,
   "metadata": {},
   "outputs": [],
   "source": [
    "# Load decks from YDK and decklist files\n",
    "deck_df = pd.concat([get_ydk(), get_decklists()], ignore_index=True)"
   ]
  },
  {
   "cell_type": "code",
   "execution_count": null,
   "metadata": {},
   "outputs": [],
   "source": [
    "# Process the deck data frame\n",
    "deck_df = find_cards(deck_df, merge_data=True)"
   ]
  },
  {
   "cell_type": "markdown",
   "metadata": {},
   "source": [
    "## Changelog"
   ]
  },
  {
   "cell_type": "code",
   "execution_count": null,
   "metadata": {},
   "outputs": [],
   "source": [
    "# Get latest file if exist\n",
    "previous_df, previous_ts = load_latest_data(\"deck\")\n",
    "\n",
    "if previous_df is not None:\n",
    "    previous_df = previous_df.astype(deck_df[previous_df.columns.intersection(deck_df.columns)].dtypes.to_dict())"
   ]
  },
  {
   "cell_type": "code",
   "execution_count": null,
   "metadata": {},
   "outputs": [],
   "source": [
    "if previous_df is None:\n",
    "    deck_changelog = None\n",
    "    print(\"Skipped\")\n",
    "else:\n",
    "    deck_changelog = generate_changelog(previous_df, deck_df, col=\"Name\")\n",
    "    if not deck_changelog.empty:\n",
    "        display(deck_changelog)\n",
    "        deck_changelog.to_csv(\n",
    "            dirs.DATA\n",
    "            / make_filename(\n",
    "                report=\"deck\",\n",
    "                timestamp=timestamp,\n",
    "                previous_timestamp=previous_ts,\n",
    "            ),\n",
    "            index=True,\n",
    "        )\n",
    "        print(\"Changelog saved\")"
   ]
  },
  {
   "cell_type": "code",
   "execution_count": null,
   "metadata": {},
   "outputs": [],
   "source": [
    "if deck_changelog is not None and deck_changelog.empty:\n",
    "    print(\"No changes. New data not saved\")\n",
    "else:\n",
    "    deck_df.to_csv(\n",
    "        dirs.DATA / make_filename(report=\"deck\", timestamp=timestamp),\n",
    "        index=False,\n",
    "    )\n",
    "    print(\"Data saved\")"
   ]
  },
  {
   "cell_type": "markdown",
   "metadata": {},
   "source": [
    "# Data visualization"
   ]
  },
  {
   "cell_type": "code",
   "execution_count": null,
   "metadata": {},
   "outputs": [],
   "source": [
    "deck_df"
   ]
  },
  {
   "cell_type": "markdown",
   "metadata": {},
   "source": [
    "## Check collection"
   ]
  },
  {
   "cell_type": "code",
   "execution_count": null,
   "metadata": {},
   "outputs": [],
   "source": [
    "# Merge the collection and deck data frames\n",
    "collection_df = get_collection()\n",
    "if collection_df is not None:\n",
    "    collection_df = assign_deck(collection_df, deck_df=deck_df, return_collection=False)"
   ]
  },
  {
   "cell_type": "code",
   "execution_count": null,
   "metadata": {},
   "outputs": [],
   "source": [
    "collection_df"
   ]
  },
  {
   "cell_type": "markdown",
   "metadata": {},
   "source": [
    "## Deck composition"
   ]
  },
  {
   "cell_type": "code",
   "execution_count": null,
   "metadata": {},
   "outputs": [],
   "source": [
    "_ = deck_composition(deck_df)\n",
    "plt.show()"
   ]
  },
  {
   "cell_type": "markdown",
   "metadata": {},
   "source": [
    "## Attributes"
   ]
  },
  {
   "cell_type": "code",
   "execution_count": null,
   "metadata": {},
   "outputs": [],
   "source": [
    "_ = deck_distribution(\n",
    "    deck_df,\n",
    "    \"Attribute\",\n",
    "    # colors={\n",
    "    #     \"Main\": [plot.colors_dict[attr] for attr in sorted(deck_df[\"Attribute\"].dropna().unique())],\n",
    "    #     \"Extra\": [plot.colors_dict[attr] for attr in sorted(deck_df[\"Attribute\"].dropna().unique())],\n",
    "    #     \"Side\": [plot.colors_dict[attr] for attr in sorted(deck_df[\"Attribute\"].dropna().unique())],\n",
    "    # },\n",
    "    # hatch=[\"\\\\\", \"/\", \"+\"],\n",
    ")\n",
    "plt.show()"
   ]
  },
  {
   "cell_type": "markdown",
   "metadata": {},
   "source": [
    "## Secondary type"
   ]
  },
  {
   "cell_type": "code",
   "execution_count": null,
   "metadata": {},
   "outputs": [],
   "source": [
    "_ = deck_distribution(deck_df.explode(\"Secondary type\"), \"Secondary type\")\n",
    "plt.show()"
   ]
  },
  {
   "cell_type": "markdown",
   "metadata": {},
   "source": [
    "## Monster type"
   ]
  },
  {
   "cell_type": "code",
   "execution_count": null,
   "metadata": {},
   "outputs": [],
   "source": [
    "fig = deck_distribution(\n",
    "    deck_df,\n",
    "    \"Monster type\",\n",
    "    hatch=[\"\", \"/\", \"+\"],\n",
    ")\n",
    "plt.show()\n",
    "fig.savefig(\"temp.pdf\")"
   ]
  },
  {
   "cell_type": "markdown",
   "metadata": {},
   "source": [
    "## Properties"
   ]
  },
  {
   "cell_type": "code",
   "execution_count": null,
   "metadata": {},
   "outputs": [],
   "source": [
    "_ = deck_distribution(deck_df, \"Property\")\n",
    "plt.show()"
   ]
  },
  {
   "cell_type": "markdown",
   "metadata": {},
   "source": [
    "## TCG & OCG Status "
   ]
  },
  {
   "cell_type": "code",
   "execution_count": null,
   "metadata": {},
   "outputs": [],
   "source": [
    "_ = deck_distribution(deck_df, \"TCG status\")\n",
    "plt.show()"
   ]
  },
  {
   "cell_type": "code",
   "execution_count": null,
   "metadata": {},
   "outputs": [],
   "source": [
    "_ = deck_distribution(deck_df, \"OCG status\")\n",
    "plt.show()"
   ]
  },
  {
   "cell_type": "markdown",
   "metadata": {},
   "source": [
    "## Archetype & Series"
   ]
  },
  {
   "cell_type": "code",
   "execution_count": null,
   "metadata": {},
   "outputs": [],
   "source": [
    "_ = deck_distribution(deck_df.explode(\"Archseries\"), \"Archseries\")\n",
    "plt.show()"
   ]
  },
  {
   "cell_type": "markdown",
   "metadata": {},
   "source": [
    "## ATK and DEF distribution"
   ]
  },
  {
   "cell_type": "code",
   "execution_count": null,
   "metadata": {},
   "outputs": [],
   "source": [
    "plt.stem(deck_df[\"ATK\"], deck_df[\"Count\"])\n",
    "plt.stem(deck_df[\"DEF\"], deck_df[\"Count\"])"
   ]
  },
  {
   "cell_type": "markdown",
   "metadata": {},
   "source": [
    "## Level and Rank distribution"
   ]
  },
  {
   "cell_type": "code",
   "execution_count": null,
   "metadata": {},
   "outputs": [],
   "source": [
    "plt.stem(\n",
    "    deck_df[\"Level/Rank\"][deck_df[\"Primary type\"] == \"Xyz monster\"].dropna(),\n",
    "    deck_df[\"Count\"][deck_df[\"Primary type\"] == \"Xyz monster\"].dropna(),\n",
    ")\n",
    "plt.stem(\n",
    "    deck_df[\"Level/Rank\"][deck_df[\"Primary type\"] != \"Xyz monster\"].dropna(),\n",
    "    deck_df[\"Count\"][deck_df[\"Primary type\"] != \"Xyz monster\"].dropna(),\n",
    ")"
   ]
  },
  {
   "cell_type": "markdown",
   "metadata": {},
   "source": [
    "## Link distribution"
   ]
  },
  {
   "cell_type": "code",
   "execution_count": null,
   "metadata": {},
   "outputs": [],
   "source": [
    "deck_df.plot.bar(x=\"Link\", y=\"Count\")"
   ]
  },
  {
   "cell_type": "markdown",
   "metadata": {},
   "source": [
    "## Pendulum scale distribution"
   ]
  },
  {
   "cell_type": "code",
   "execution_count": null,
   "metadata": {},
   "outputs": [],
   "source": [
    "deck_df.plot.bar(x=\"Pendulum scale\", y=\"Count\")"
   ]
  }
 ],
 "metadata": {
  "kernelspec": {
   "display_name": "venv",
   "language": "python",
   "name": "python3"
  },
  "language_info": {
   "codemirror_mode": {
    "name": "ipython",
    "version": 3
   },
   "file_extension": ".py",
   "mimetype": "text/x-python",
   "name": "python",
   "nbconvert_exporter": "python",
   "pygments_lexer": "ipython3",
   "version": "3.12.7"
  }
 },
 "nbformat": 4,
 "nbformat_minor": 2
}
