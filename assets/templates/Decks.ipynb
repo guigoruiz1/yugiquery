{
 "cells": [
  {
   "cell_type": "code",
   "execution_count": null,
   "metadata": {},
   "outputs": [],
   "source": [
    "from yugiquery import *\n",
    "\n",
    "init_notebook_mode(all_interactive=True)\n",
    "\n",
    "header(\"My Decks\")"
   ]
  },
  {
   "cell_type": "markdown",
   "metadata": {},
   "source": [
    "---"
   ]
  },
  {
   "cell_type": "markdown",
   "id": "2",
   "metadata": {},
   "source": [
    "Table of Contents <a class=\"jp-toc-ignore\"></a>\n",
    "=================\n",
    "* [1 Data loading](#data-loading)\n",
    "  * [1.1 Read decks](#read-decks)\n",
    "  * [1.2 Changelog](#changelog)\n",
    "* [2 Data visualization](#data-visualization)\n",
    "  * [2.1 Deck composition](#deck-composition)\n",
    "  * [2.2 Attributes](#attributes)\n",
    "  * [2.3 Secondary type](#secondary-type)\n",
    "  * [2.4 Monster type](#monster-type)\n",
    "  * [2.5 Properties](#properties)\n",
    "  * [2.6 TCG & OCG Status](#tcg-&-ocg-status)\n",
    "  * [2.7 Archetypes & Series](#archetypes-&-series)\n",
    "  * [2.8 ATK & DEF](#atk-&-def)\n",
    "  * [2.9 Level & Rank](#level-&-rank)\n",
    "  * [2.10 Link](#link)\n",
    "  * [2.11 Pendulum scale](#pendulum-scale)\n",
    "* [3 Check collection](#check-collection)\n",
    "* [4 Epilogue](#epilogue)\n",
    "  * [4.1 HTML export](#html-export)\n",
    "  <!-- * [4.2 Git](#git) -->"
   ]
  },
  {
   "cell_type": "markdown",
   "metadata": {},
   "source": [
    "# Data loading"
   ]
  },
  {
   "cell_type": "markdown",
   "metadata": {},
   "source": [
    "## Read decks"
   ]
  },
  {
   "cell_type": "code",
   "execution_count": null,
   "metadata": {},
   "outputs": [],
   "source": [
    "# Timestamp\n",
    "timestamp = arrow.utcnow()"
   ]
  },
  {
   "cell_type": "code",
   "execution_count": null,
   "metadata": {},
   "outputs": [],
   "source": [
    "# Load decks from YDK and decklist files\n",
    "deck_df = pd.concat([get_ydk(), get_decklists()], ignore_index=True)\n",
    "\n",
    "# If data loaded\n",
    "if not deck_df.empty:\n",
    "    try:\n",
    "        deck_df = find_cards(deck_df, card_data=True, set_data=True)\n",
    "    except Exception as e:\n",
    "        cprint(text=e, color=\"red\")\n",
    "        cprint(text=\"Failed to process deck data.\", color=\"red\")\n",
    "\n",
    "# If data not loaded or processing failed. (Page name is always available if data is processed)\n",
    "if deck_df.empty or \"Page name\" not in deck_df:\n",
    "    deck_df, cache_ts = load_latest_data(\"deck\")\n",
    "    if deck_df is None:\n",
    "        raise SystemExit(\"No deck data to process. Aborting!\")\n",
    "    else:\n",
    "        cprint(text=f\"Attempting to proceed with latest deck data from the cache. Timestamp: {cache_ts}\", color=\"yellow\")"
   ]
  },
  {
   "cell_type": "markdown",
   "metadata": {},
   "source": [
    "## Changelog"
   ]
  },
  {
   "cell_type": "code",
   "execution_count": null,
   "metadata": {},
   "outputs": [],
   "source": [
    "# Get latest file if exist\n",
    "previous_df, previous_ts = load_latest_data(\"deck\")\n",
    "\n",
    "if previous_df is not None:\n",
    "    previous_df = previous_df.astype(deck_df[previous_df.columns.intersection(deck_df.columns)].dtypes.to_dict())"
   ]
  },
  {
   "cell_type": "code",
   "execution_count": null,
   "metadata": {},
   "outputs": [],
   "source": [
    "if previous_df is None:\n",
    "    deck_changelog = None\n",
    "    print(\"Skipped\")\n",
    "else:\n",
    "    deck_changelog = generate_changelog(previous_df, deck_df, col=\"Name\")\n",
    "    if not deck_changelog.empty:\n",
    "        display(deck_changelog)\n",
    "        deck_changelog.to_csv(\n",
    "            dirs.DATA\n",
    "            / make_filename(\n",
    "                report=\"deck\",\n",
    "                timestamp=timestamp,\n",
    "                previous_timestamp=previous_ts,\n",
    "            ),\n",
    "            index=True,\n",
    "        )\n",
    "        print(\"Changelog saved\")"
   ]
  },
  {
   "cell_type": "code",
   "execution_count": null,
   "metadata": {},
   "outputs": [],
   "source": [
    "if deck_changelog is not None and deck_changelog.empty:\n",
    "    print(\"No changes. New data not saved\")\n",
    "else:\n",
    "    deck_df.to_csv(\n",
    "        dirs.DATA / make_filename(report=\"deck\", timestamp=timestamp),\n",
    "        index=False,\n",
    "    )\n",
    "    print(\"Data saved\")"
   ]
  },
  {
   "cell_type": "markdown",
   "metadata": {},
   "source": [
    "# Data visualization"
   ]
  },
  {
   "cell_type": "code",
   "execution_count": null,
   "metadata": {},
   "outputs": [],
   "source": [
    "deck_df"
   ]
  },
  {
   "cell_type": "markdown",
   "metadata": {},
   "source": [
    "## Deck composition"
   ]
  },
  {
   "cell_type": "code",
   "execution_count": null,
   "metadata": {},
   "outputs": [],
   "source": [
    "if (\n",
    "    \"Primary type\" in deck_df\n",
    "    and \"Card type\" in deck_df\n",
    "    and not deck_df[[\"Primary type\", \"Card type\"]].dropna(axis=1, how=\"all\").empty\n",
    "):\n",
    "    _ = plot.deck_composition(deck_df)\n",
    "    plt.show()\n",
    "else:\n",
    "    print(\"No card type data to plot\")"
   ]
  },
  {
   "cell_type": "markdown",
   "metadata": {},
   "source": [
    "## Attributes"
   ]
  },
  {
   "cell_type": "code",
   "execution_count": null,
   "metadata": {},
   "outputs": [],
   "source": [
    "if \"Attribute\" in deck_df and deck_df[\"Attribute\"].dropna(how=\"all\", axis=0).empty:\n",
    "    print(\"No attribute data.\")\n",
    "else:\n",
    "    attr_colors = [plot.colors_dict[attr] for attr in sorted(deck_df[\"Attribute\"].dropna().unique())]\n",
    "    _ = plot.deck_distribution(\n",
    "        deck_df,\n",
    "        \"Attribute\",\n",
    "        colors=attr_colors,\n",
    "        hatches=[\"\", \"XX\", \"..\"],\n",
    "    )\n",
    "    plt.show()"
   ]
  },
  {
   "cell_type": "code",
   "execution_count": null,
   "metadata": {},
   "outputs": [],
   "source": [
    "if \"Attribute\" in deck_df and not deck_df[\"Attribute\"].dropna(how=\"all\", axis=0).empty:\n",
    "    display(deck_df.groupby([\"Deck\", \"Section\"])[\"Attribute\"].value_counts().unstack(2).fillna(0))"
   ]
  },
  {
   "cell_type": "markdown",
   "metadata": {},
   "source": [
    "## Secondary type"
   ]
  },
  {
   "cell_type": "code",
   "execution_count": null,
   "metadata": {},
   "outputs": [],
   "source": [
    "if \"Secondary type\" in deck_df and deck_df[\"Secondary type\"].dropna().empty:\n",
    "    print(\"No secondary type data.\")\n",
    "else:\n",
    "    _ = plot.deck_distribution(deck_df.explode(\"Secondary type\"), \"Secondary type\")\n",
    "    plt.show()"
   ]
  },
  {
   "cell_type": "code",
   "execution_count": null,
   "metadata": {},
   "outputs": [],
   "source": [
    "if \"Secondary type\" in deck_df and not deck_df[\"Secondary type\"].dropna(how=\"all\", axis=0).empty:\n",
    "    display(\n",
    "        deck_df.explode(\"Secondary type\").groupby([\"Deck\", \"Section\"])[\"Secondary type\"].value_counts().unstack(2).fillna(0)\n",
    "    )"
   ]
  },
  {
   "cell_type": "markdown",
   "metadata": {},
   "source": [
    "## Monster type"
   ]
  },
  {
   "cell_type": "code",
   "execution_count": null,
   "metadata": {},
   "outputs": [],
   "source": [
    "if \"Monster type\" in deck_df and deck_df[\"Monster type\"].dropna().empty:\n",
    "    print(\"No monster type data.\")\n",
    "else:\n",
    "    _ = plot.deck_distribution(\n",
    "        deck_df,\n",
    "        \"Monster type\",\n",
    "    )\n",
    "    plt.show()"
   ]
  },
  {
   "cell_type": "code",
   "execution_count": null,
   "metadata": {},
   "outputs": [],
   "source": [
    "if \"Monster type\" in deck_df and not deck_df[\"Monster type\"].dropna(how=\"all\", axis=0).empty:\n",
    "    display(deck_df.groupby([\"Deck\", \"Section\"])[\"Monster type\"].value_counts().unstack(2).fillna(0))"
   ]
  },
  {
   "cell_type": "markdown",
   "metadata": {},
   "source": [
    "## Properties"
   ]
  },
  {
   "cell_type": "code",
   "execution_count": null,
   "metadata": {},
   "outputs": [],
   "source": [
    "if \"Property\" in deck_df and deck_df[\"Property\"].dropna().empty:\n",
    "    print(\"No spell or trap cards.\")\n",
    "else:\n",
    "    prop_colors = [\n",
    "        plot.colors_dict[\"Trap Card\"] if \"Trap\" in prop else plot.colors_dict[\"Spell Card\"]\n",
    "        for prop in sorted(deck_df[\"Property\"].dropna().unique())\n",
    "    ]\n",
    "    _ = plot.deck_distribution(\n",
    "        deck_df,\n",
    "        \"Property\",\n",
    "        colors=prop_colors,\n",
    "        hatches=[\"\", \"XX\", \"..\"],\n",
    "    )\n",
    "    plt.show()"
   ]
  },
  {
   "cell_type": "code",
   "execution_count": null,
   "metadata": {},
   "outputs": [],
   "source": [
    "if \"Property\" in deck_df and not deck_df[\"Property\"].dropna(how=\"all\", axis=0).empty:\n",
    "    display(deck_df.groupby([\"Deck\", \"Section\"])[\"Property\"].value_counts().unstack(2).fillna(0))"
   ]
  },
  {
   "cell_type": "markdown",
   "metadata": {},
   "source": [
    "## TCG & OCG Status "
   ]
  },
  {
   "cell_type": "code",
   "execution_count": null,
   "metadata": {},
   "outputs": [],
   "source": [
    "limit_df = check_limits(deck_df)\n",
    "if not limit_df.empty:\n",
    "    print(\"Your decks have the following forbidden, limited, and semi-limited cards:\")\n",
    "    display(limit_df)"
   ]
  },
  {
   "cell_type": "code",
   "execution_count": null,
   "metadata": {},
   "outputs": [],
   "source": [
    "if \"TCG status\" in deck_df and deck_df[\"TCG status\"].dropna().empty:\n",
    "    print(\"No TCG status data.\")\n",
    "else:\n",
    "    _ = plot.deck_distribution(deck_df, \"TCG status\")\n",
    "    plt.show()"
   ]
  },
  {
   "cell_type": "code",
   "execution_count": null,
   "metadata": {},
   "outputs": [],
   "source": [
    "if \"TCG status\" in deck_df and not deck_df[\"TCG status\"].dropna(how=\"all\", axis=0).empty:\n",
    "    display(deck_df.groupby([\"Deck\", \"Section\"])[\"TCG status\"].value_counts().unstack(2).fillna(0))"
   ]
  },
  {
   "cell_type": "code",
   "execution_count": null,
   "metadata": {},
   "outputs": [],
   "source": [
    "if \"OCG status\" in deck_df and deck_df[\"OCG status\"].dropna().empty:\n",
    "    print(\"No OCG status data.\")\n",
    "else:\n",
    "    _ = plot.deck_distribution(deck_df, \"OCG status\")\n",
    "    plt.show()"
   ]
  },
  {
   "cell_type": "code",
   "execution_count": null,
   "metadata": {},
   "outputs": [],
   "source": [
    "if \"OCG status\" in deck_df and not deck_df[\"OCG status\"].dropna(how=\"all\", axis=0).empty:\n",
    "    display(deck_df.groupby([\"Deck\", \"Section\"])[\"OCG status\"].value_counts().unstack(2).fillna(0))"
   ]
  },
  {
   "cell_type": "markdown",
   "metadata": {},
   "source": [
    "## Archetypes & Series"
   ]
  },
  {
   "cell_type": "code",
   "execution_count": null,
   "metadata": {},
   "outputs": [],
   "source": [
    "if \"Archseries\" in deck_df and deck_df[\"Archseries\"].dropna().empty:\n",
    "    print(\"No Archseries data.\")\n",
    "else:\n",
    "    _ = plot.deck_distribution(deck_df.explode(\"Archseries\"), \"Archseries\")\n",
    "    plt.show()"
   ]
  },
  {
   "cell_type": "code",
   "execution_count": null,
   "metadata": {},
   "outputs": [],
   "source": [
    "if \"Archseries\" in deck_df and not deck_df[\"Archseries\"].dropna(how=\"all\", axis=0).empty:\n",
    "    display(deck_df.explode(\"Archseries\").groupby([\"Deck\", \"Section\"])[\"Archseries\"].value_counts().unstack(1).fillna(0))"
   ]
  },
  {
   "cell_type": "markdown",
   "metadata": {},
   "source": [
    "## ATK & DEF"
   ]
  },
  {
   "cell_type": "code",
   "execution_count": null,
   "metadata": {},
   "outputs": [],
   "source": [
    "if (\"ATK\" in deck_df or \"DEF\" in deck_df) and deck_df[[\"ATK\", \"DEF\"]].dropna(how=\"all\", axis=0).empty:\n",
    "    print(\"No ATK/DEF data.\")\n",
    "else:\n",
    "    _ = plot.deck_stem(deck_df=deck_df, y1=\"ATK\", y2=\"DEF\")\n",
    "    plt.show()"
   ]
  },
  {
   "cell_type": "code",
   "execution_count": null,
   "metadata": {},
   "outputs": [],
   "source": [
    "if (\"ATK\" in deck_df or \"DEF\" in deck_df) and not deck_df[[\"ATK\", \"DEF\"]].dropna(how=\"all\", axis=0).empty:\n",
    "    def_df = deck_df.rename({\"DEF\": \"Value\"}, axis=1).groupby([\"Deck\", \"Section\"])[\"Value\"].value_counts().rename(\"DEF\")\n",
    "    atk_df = deck_df.rename({\"ATK\": \"Value\"}, axis=1).groupby([\"Deck\", \"Section\"])[\"Value\"].value_counts().rename(\"ATK\")\n",
    "    display(\n",
    "        pd.merge(atk_df, def_df, how=\"outer\", left_index=True, right_index=True)\n",
    "        .unstack(\"Section\")\n",
    "        .dropna(how=\"all\", axis=1)\n",
    "        .fillna(0)\n",
    "        .sort_index()\n",
    "    )"
   ]
  },
  {
   "cell_type": "markdown",
   "metadata": {},
   "source": [
    "## Level & Rank"
   ]
  },
  {
   "cell_type": "code",
   "execution_count": null,
   "metadata": {},
   "outputs": [],
   "source": [
    "if \"Level/Rank\" in deck_df:\n",
    "    level_df = (\n",
    "        deck_df[[\"Deck\", \"Section\", \"Level/Rank\", \"Count\"]][deck_df[\"Primary type\"] != \"Xyz Monster\"]\n",
    "        .dropna()\n",
    "        .rename(columns={\"Level/Rank\": \"Level\"})\n",
    "    )\n",
    "    rank_df = (\n",
    "        deck_df[[\"Deck\", \"Section\", \"Level/Rank\", \"Count\"]][deck_df[\"Primary type\"] == \"Xyz Monster\"]\n",
    "        .dropna()\n",
    "        .rename(columns={\"Level/Rank\": \"Rank\"})\n",
    "    )\n",
    "    if level_df.empty and rank_df.empty:\n",
    "        print(\"No Level/Rank data.\")\n",
    "    else:\n",
    "        _ = plot.deck_stem(deck_df=pd.concat([level_df, rank_df]), y1=\"Level\", y2=\"Rank\")\n",
    "        plt.show()"
   ]
  },
  {
   "cell_type": "code",
   "execution_count": null,
   "metadata": {},
   "outputs": [],
   "source": [
    "if \"Level/Rank\" in deck_df and not level_df.empty and not rank_df.empty:\n",
    "    level_series = (\n",
    "        level_df.rename(columns={\"Level\": \"Value\"}).groupby([\"Deck\", \"Section\"])[\"Value\"].value_counts().rename(\"Level\")\n",
    "    )\n",
    "    rank_series = (\n",
    "        rank_df.rename(columns={\"Rank\": \"Value\"}).groupby([\"Deck\", \"Section\"])[\"Value\"].value_counts().rename(\"Rank\")\n",
    "    )\n",
    "    display(\n",
    "        pd.merge(level_series, rank_series, how=\"outer\", left_index=True, right_index=True)\n",
    "        .unstack(\"Section\")\n",
    "        .dropna(how=\"all\", axis=1)\n",
    "        .fillna(0)\n",
    "        .sort_index()\n",
    "    )"
   ]
  },
  {
   "cell_type": "markdown",
   "metadata": {},
   "source": [
    "## Link"
   ]
  },
  {
   "cell_type": "code",
   "execution_count": null,
   "metadata": {},
   "outputs": [],
   "source": [
    "if \"Link\" in deck_df and deck_df[\"Link\"].dropna().empty:\n",
    "    print(\"No Link monsters data.\")\n",
    "else:\n",
    "    _ = plot.deck_stem(deck_df=deck_df[deck_df[\"Section\"] != \"Main\"], y1=\"Link\")\n",
    "    plt.show()"
   ]
  },
  {
   "cell_type": "code",
   "execution_count": null,
   "metadata": {},
   "outputs": [],
   "source": [
    "if \"Link\" in deck_df and not deck_df[\"Link\"].dropna().empty:\n",
    "    display(deck_df.groupby([\"Deck\", \"Section\"])[\"Link\"].value_counts().unstack(2).sort_index().fillna(0))"
   ]
  },
  {
   "cell_type": "markdown",
   "metadata": {},
   "source": [
    "## Pendulum scale"
   ]
  },
  {
   "cell_type": "code",
   "execution_count": null,
   "metadata": {},
   "outputs": [],
   "source": [
    "if \"Pendulum Scale\" in deck_df and deck_df[\"Pendulum Scale\"].dropna().empty:\n",
    "    print(\"No Pendulum monsters data.\")\n",
    "else:\n",
    "    _ = plot.deck_stem(deck_df=deck_df, y1=\"Pendulum Scale\")"
   ]
  },
  {
   "cell_type": "code",
   "execution_count": null,
   "metadata": {},
   "outputs": [],
   "source": [
    "if \"Pendulum Scale\" in deck_df and not deck_df[\"Pendulum Scale\"].dropna().empty:\n",
    "    display(deck_df.groupby([\"Deck\", \"Section\"])[\"Pendulum Scale\"].value_counts().unstack(2).sort_index().fillna(0))"
   ]
  },
  {
   "cell_type": "markdown",
   "metadata": {},
   "source": [
    "# Check collection"
   ]
  },
  {
   "cell_type": "code",
   "execution_count": null,
   "metadata": {},
   "outputs": [],
   "source": [
    "# Merge the collection and deck data frames\n",
    "collection_df = get_collection()\n",
    "if collection_df is None:\n",
    "    print(\"No collection data to process.\")\n",
    "else:\n",
    "    collection_df = find_cards(collection_df)\n",
    "    collection_df = assign_deck(collection_df, deck_df=deck_df, return_collection=False)"
   ]
  },
  {
   "cell_type": "markdown",
   "metadata": {},
   "source": [
    "Table of cards in decks missing from collection"
   ]
  },
  {
   "cell_type": "code",
   "execution_count": null,
   "metadata": {},
   "outputs": [],
   "source": [
    "if collection_df is not None:\n",
    "    display(collection_df[collection_df[\"missing\"] > 0].dropna(how=\"all\", axis=1))"
   ]
  },
  {
   "cell_type": "markdown",
   "metadata": {},
   "source": [
    "# Epilogue"
   ]
  },
  {
   "cell_type": "code",
   "execution_count": null,
   "metadata": {},
   "outputs": [],
   "source": [
    "benchmark(report=\"Deck\", timestamp=timestamp)"
   ]
  },
  {
   "cell_type": "code",
   "execution_count": null,
   "metadata": {},
   "outputs": [],
   "source": [
    "footer(timestamp)"
   ]
  },
  {
   "cell_type": "markdown",
   "metadata": {},
   "source": [
    "## HTML export"
   ]
  },
  {
   "cell_type": "code",
   "execution_count": null,
   "metadata": {},
   "outputs": [],
   "source": [
    "# Save notebook on disck before generating HTML report\n",
    "save_notebook()"
   ]
  },
  {
   "cell_type": "code",
   "execution_count": null,
   "metadata": {},
   "outputs": [],
   "source": [
    "export_notebook(dirs.NOTEBOOKS.user / \"Deck.ipynb\")"
   ]
  },
  {
   "cell_type": "markdown",
   "metadata": {},
   "source": [
    "## Git"
   ]
  },
  {
   "cell_type": "code",
   "execution_count": null,
   "metadata": {},
   "outputs": [],
   "source": [
    "git.commit(\"*[Dd]eck*\", f\"Deck update - {timestamp.isoformat()}\")"
   ]
  }
 ],
 "metadata": {
  "kernelspec": {
   "display_name": "venv",
   "language": "python",
   "name": "python3"
  },
  "language_info": {
   "codemirror_mode": {
    "name": "ipython",
    "version": 3
   },
   "file_extension": ".py",
   "mimetype": "text/x-python",
   "name": "python",
   "nbconvert_exporter": "python",
   "pygments_lexer": "ipython3",
   "version": "3.12.7"
  }
 },
 "nbformat": 4,
 "nbformat_minor": 2
}
