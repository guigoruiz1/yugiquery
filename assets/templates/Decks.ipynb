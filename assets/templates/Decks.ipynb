{
 "cells": [
  {
   "cell_type": "code",
   "execution_count": null,
   "metadata": {},
   "outputs": [],
   "source": [
    "from yugiquery import *\n",
    "\n",
    "init_notebook_mode(all_interactive=True)\n",
    "\n",
    "header(\"My Decks\")"
   ]
  },
  {
   "cell_type": "markdown",
   "metadata": {},
   "source": [
    "---"
   ]
  },
  {
   "cell_type": "markdown",
   "metadata": {},
   "source": [
    "# Data loading"
   ]
  },
  {
   "cell_type": "code",
   "execution_count": null,
   "metadata": {},
   "outputs": [],
   "source": [
    "_ = git.ensure_repo()"
   ]
  },
  {
   "cell_type": "markdown",
   "metadata": {},
   "source": [
    "## Read decks"
   ]
  },
  {
   "cell_type": "code",
   "execution_count": null,
   "metadata": {},
   "outputs": [],
   "source": [
    "# Timestamp\n",
    "timestamp = arrow.utcnow()"
   ]
  },
  {
   "cell_type": "code",
   "execution_count": null,
   "metadata": {},
   "outputs": [],
   "source": [
    "# Load decks from YDK and decklist files\n",
    "deck_df = pd.concat([get_ydk(), get_decklists()], ignore_index=True)"
   ]
  },
  {
   "cell_type": "code",
   "execution_count": null,
   "metadata": {},
   "outputs": [],
   "source": [
    "def find_cards(collections: List[pd.DataFrame] | pd.DataFrame, merge_data=False) -> pd.DataFrame:\n",
    "    \"\"\"\n",
    "    Process a DataFrame with card names, numbers and/or passwords and return a DataFrame with the card names, quantities and, optionally, additional card data merged from database.\n",
    "\n",
    "    Args:\n",
    "        collections (List[pd.DataFrame] | pd.DataFrame): DataFrame or list of DataFrames with card names, numbers and/or passwords.\n",
    "\n",
    "    Returns:\n",
    "        ((List[pd.DataFrame] | pd.DataFrame): DataFrame or list of DataFrames with card names, quantities and, optionally, additional card data merged from database.\n",
    "    \"\"\"\n",
    "    if not isinstance(collections, list):\n",
    "        collections = [collections]\n",
    "\n",
    "    card_df, _ = load_latest_data(name_pattern=\"cards\")\n",
    "    if any(\n",
    "        [\n",
    "            \"Card number\" in collection_df and not collection_df[collection_df[\"Name\"].isna()][\"Card number\"].empty\n",
    "            for collection_df in collections\n",
    "        ]\n",
    "    ):\n",
    "        set_lists_df, _ = load_latest_data(name_pattern=\"sets\")\n",
    "\n",
    "    for i, collection_df in enumerate(collections):\n",
    "        collection_df = collection_df.dropna(how=\"all\", axis=1).dropna(how=\"all\", axis=0)\n",
    "        collection_df = collection_df.assign(match=np.nan).astype(object)\n",
    "\n",
    "        if \"Card number\" in collection_df and not collection_df[\"Card number\"].dropna().empty:\n",
    "            number_keys = collection_df[\"Card number\"].dropna().str.upper().str.strip()\n",
    "\n",
    "            list_keys = set_lists_df[\"Card number\"].dropna().str.upper().str.strip()\n",
    "            list_values = set_lists_df.loc[list_keys.index][\"Name\"]\n",
    "            key_name_dict = dict(zip(list_keys, list_values))\n",
    "\n",
    "            missing = number_keys[~number_keys.isin(list_keys)]\n",
    "            if missing.count() > 0:\n",
    "                print(\n",
    "                    \"\\nUnable to find the following card(s) by number:\\n ⏺\",\n",
    "                    \"\\n ⏺ \".join(missing.sort_values().unique()),\n",
    "                )\n",
    "\n",
    "            matches = number_keys.map(lambda x: key_name_dict.get(x, x))\n",
    "            collection_df.loc[matches.index, \"match\"] = matches\n",
    "            collection_df.drop(\"Card number\", axis=1, inplace=True)\n",
    "\n",
    "        if \"Password\" in collection_df and not collection_df[collection_df[\"match\"].isna()][\"Password\"].empty:\n",
    "            password_keys = collection_df[collection_df[\"match\"].isna()][\"Password\"].dropna().astype(int)\n",
    "            list_keys = card_df[\"Password\"].dropna().astype(int)\n",
    "            list_values = card_df.loc[list_keys.index][\"Name\"]\n",
    "            key_name_dict = dict(zip(list_keys, list_values))\n",
    "\n",
    "            missing = password_keys[~password_keys.isin(list_keys)]\n",
    "            if missing.count() > 0:\n",
    "                print(\n",
    "                    \"\\nUnable to find the following card(s) by password:\\n ⏺\",\n",
    "                    \"\\n ⏺ \".join(missing.sort_values().unique().astype(str)),\n",
    "                )\n",
    "\n",
    "            matches = password_keys.map(lambda x: key_name_dict.get(x, x))\n",
    "            collection_df.loc[matches.index, \"match\"] = matches\n",
    "            collection_df.drop(\"Password\", axis=1, inplace=True)\n",
    "\n",
    "        if \"Name\" in collection_df and not collection_df[collection_df[\"match\"].isna()][\"Name\"].empty:\n",
    "            name_keys = collection_df[\"Name\"].dropna().str.lower().str.strip()\n",
    "            list_keys = card_df[\"Name\"].str.lower().str.strip()\n",
    "            key_name_dict = dict(zip(list_keys, card_df[\"Name\"]))\n",
    "\n",
    "            missing = collection_df[\"Name\"].dropna()[~name_keys.isin(list_keys)]\n",
    "            if missing.count() > 0:\n",
    "                print(\"\\nUnable to find the following card(s) by name:\\n ⏺\", \"\\n ⏺ \".join(missing.sort_values().unique()))\n",
    "\n",
    "            # Map the \"Name\" column from list_df to collection_df based on the keys\n",
    "            matches = name_keys.map(lambda x: key_name_dict.get(x, x))\n",
    "            collection_df.loc[matches.index, \"match\"] = matches\n",
    "            collection_df.drop(\"Name\", axis=1, inplace=True)\n",
    "\n",
    "        collection_df = collection_df.rename(columns={\"match\": \"Name\"})\n",
    "        columns = list(collection_df.columns.difference([\"Count\"]))\n",
    "        collection_df = collection_df.dropna(how=\"all\", axis=1).dropna(how=\"all\", axis=0)\n",
    "        collection_df = collection_df.groupby(columns, dropna=False).sum().reset_index()\n",
    "        if merge_data:\n",
    "            collection_df = collection_df.merge(card_df.drop_duplicates(subset=\"Name\"), on=\"Name\", how=\"left\")\n",
    "        collections[i] = collection_df\n",
    "\n",
    "    print(\"\\nCollection data processed.\")\n",
    "    if len(collections) == 1:\n",
    "        return collections[0]\n",
    "    else:\n",
    "        return collections"
   ]
  },
  {
   "cell_type": "code",
   "execution_count": null,
   "metadata": {},
   "outputs": [],
   "source": [
    "# Process the deck data frame\n",
    "deck_df = find_cards(deck_df, merge_data=True)"
   ]
  },
  {
   "cell_type": "code",
   "execution_count": null,
   "metadata": {},
   "outputs": [],
   "source": [
    "# Get latest file if exist\n",
    "previous_deck_df, previousdeck_ts = load_latest_data(\"deck\")\n",
    "\n",
    "if previous_deck_df is not None:\n",
    "    previous_deck_df = previous_deck_df.astype(\n",
    "        deck_df[previous_deck_df.columns.intersection(deck_df.columns)].dtypes.to_dict()\n",
    "    )"
   ]
  },
  {
   "cell_type": "code",
   "execution_count": null,
   "metadata": {},
   "outputs": [],
   "source": [
    "if previous_deck_df is None:\n",
    "    deck_changelog = None\n",
    "    print(\"Skipped\")\n",
    "else:\n",
    "    deck_changelog = generate_changelog(previous_deck_df, deck_df, col=\"Name\")\n",
    "    if not deck_changelog.empty:\n",
    "        display(deck_changelog)\n",
    "        deck_changelog.to_csv(\n",
    "            dirs.DATA\n",
    "            / make_filename(\n",
    "                report=\"deck\",\n",
    "                timestamp=timestamp,\n",
    "                previous_timestamp=previous_deck_df,\n",
    "            ),\n",
    "            index=True,\n",
    "        )\n",
    "        print(\"Changelog saved\")"
   ]
  },
  {
   "cell_type": "code",
   "execution_count": null,
   "metadata": {},
   "outputs": [],
   "source": [
    "if deck_changelog is not None and deck_changelog.empty:\n",
    "    print(\"No changes. New data not saved\")\n",
    "else:\n",
    "    deck_df.to_csv(\n",
    "        dirs.DATA / make_filename(report=\"deck\", timestamp=timestamp),\n",
    "        index=False,\n",
    "    )\n",
    "    print(\"Data saved\")"
   ]
  },
  {
   "cell_type": "code",
   "execution_count": null,
   "metadata": {},
   "outputs": [],
   "source": [
    "deck_df"
   ]
  },
  {
   "cell_type": "code",
   "execution_count": null,
   "metadata": {},
   "outputs": [],
   "source": [
    "# Other\n",
    "\n",
    "# Merge the collection and deck data frames\n",
    "collection_df = get_collection()\n",
    "if collection_df is not None:\n",
    "    collection_df = assign_deck(collection_df, deck_df=deck_df, return_collection=False)"
   ]
  },
  {
   "cell_type": "code",
   "execution_count": null,
   "metadata": {},
   "outputs": [],
   "source": [
    "collection_df"
   ]
  },
  {
   "cell_type": "code",
   "execution_count": null,
   "metadata": {},
   "outputs": [],
   "source": [
    "temp = deck_df.groupby([\"Deck\", \"Card type\"])[\"Count\"].sum().unstack(0)"
   ]
  },
  {
   "cell_type": "code",
   "execution_count": null,
   "metadata": {},
   "outputs": [],
   "source": [
    "temp"
   ]
  },
  {
   "cell_type": "code",
   "execution_count": null,
   "metadata": {},
   "outputs": [],
   "source": [
    "ax = temp.plot.pie(subplots=True, autopct=\"%1.1f%%\", figsize=(16, 4), title=\"Card type distribution\")\n",
    "for a in ax:\n",
    "    a.set_ylabel(a.get_ylabel(), fontsize=16)\n",
    "\n",
    "plt.tight_layout()\n",
    "plt.show()"
   ]
  },
  {
   "cell_type": "code",
   "execution_count": null,
   "metadata": {},
   "outputs": [],
   "source": [
    "temp = deck_df.groupby([\"Deck\", \"Monster type\"])[\"Count\"].sum().unstack(0)\n",
    "temp = temp[temp.notna().all(axis=1)]\n",
    "ax = temp.plot.pie(subplots=True, autopct=\"%1.1f%%\", figsize=(16, 4), title=\"Card type distribution\")\n",
    "for a in ax:\n",
    "    a.set_ylabel(a.get_ylabel(), fontsize=16)\n",
    "\n",
    "plt.tight_layout()\n",
    "plt.show()"
   ]
  },
  {
   "cell_type": "code",
   "execution_count": null,
   "metadata": {},
   "outputs": [],
   "source": []
  }
 ],
 "metadata": {
  "kernelspec": {
   "display_name": "venv",
   "language": "python",
   "name": "python3"
  },
  "language_info": {
   "codemirror_mode": {
    "name": "ipython",
    "version": 3
   },
   "file_extension": ".py",
   "mimetype": "text/x-python",
   "name": "python",
   "nbconvert_exporter": "python",
   "pygments_lexer": "ipython3",
   "version": "3.12.6"
  }
 },
 "nbformat": 4,
 "nbformat_minor": 2
}
