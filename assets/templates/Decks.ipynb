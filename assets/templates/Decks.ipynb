{
 "cells": [
  {
   "cell_type": "code",
   "execution_count": null,
   "metadata": {},
   "outputs": [],
   "source": [
    "from yugiquery import *\n",
    "\n",
    "init_notebook_mode(all_interactive=True)\n",
    "\n",
    "header(\"My Decks\")"
   ]
  },
  {
   "cell_type": "markdown",
   "metadata": {},
   "source": [
    "---"
   ]
  },
  {
   "cell_type": "markdown",
   "metadata": {},
   "source": [
    "# Data loading"
   ]
  },
  {
   "cell_type": "code",
   "execution_count": null,
   "metadata": {},
   "outputs": [],
   "source": [
    "_ = git.ensure_repo()"
   ]
  },
  {
   "cell_type": "markdown",
   "metadata": {},
   "source": [
    "## Read decks"
   ]
  },
  {
   "cell_type": "code",
   "execution_count": null,
   "metadata": {},
   "outputs": [],
   "source": [
    "# Timestamp\n",
    "timestamp = arrow.utcnow()"
   ]
  },
  {
   "cell_type": "code",
   "execution_count": null,
   "metadata": {},
   "outputs": [],
   "source": [
    "# Load decks from YDK and decklist files\n",
    "deck_df = pd.concat([get_ydk(), get_decklists()], ignore_index=True)"
   ]
  },
  {
   "cell_type": "code",
   "execution_count": null,
   "metadata": {},
   "outputs": [],
   "source": [
    "# Process the deck data frame\n",
    "deck_df = find_cards(deck_df, merge_data=True)"
   ]
  },
  {
   "cell_type": "code",
   "execution_count": null,
   "metadata": {},
   "outputs": [],
   "source": [
    "deck_df"
   ]
  },
  {
   "cell_type": "code",
   "execution_count": null,
   "metadata": {},
   "outputs": [],
   "source": [
    "# Get latest file if exist\n",
    "previous_df, previous_ts = load_latest_data(\"deck\")\n",
    "\n",
    "if previous_df is not None:\n",
    "    previous_df = previous_df.astype(deck_df[previous_df.columns.intersection(deck_df.columns)].dtypes.to_dict())"
   ]
  },
  {
   "cell_type": "code",
   "execution_count": null,
   "metadata": {},
   "outputs": [],
   "source": [
    "if previous_df is None:\n",
    "    deck_changelog = None\n",
    "    print(\"Skipped\")\n",
    "else:\n",
    "    deck_changelog = generate_changelog(previous_df, deck_df, col=\"Name\")\n",
    "    if not deck_changelog.empty:\n",
    "        display(deck_changelog)\n",
    "        deck_changelog.to_csv(\n",
    "            dirs.DATA\n",
    "            / make_filename(\n",
    "                report=\"deck\",\n",
    "                timestamp=timestamp,\n",
    "                previous_timestamp=previous_ts,\n",
    "            ),\n",
    "            index=True,\n",
    "        )\n",
    "        print(\"Changelog saved\")"
   ]
  },
  {
   "cell_type": "code",
   "execution_count": null,
   "metadata": {},
   "outputs": [],
   "source": [
    "if deck_changelog is not None and deck_changelog.empty:\n",
    "    print(\"No changes. New data not saved\")\n",
    "else:\n",
    "    deck_df.to_csv(\n",
    "        dirs.DATA / make_filename(report=\"deck\", timestamp=timestamp),\n",
    "        index=False,\n",
    "    )\n",
    "    print(\"Data saved\")"
   ]
  },
  {
   "cell_type": "code",
   "execution_count": null,
   "metadata": {},
   "outputs": [],
   "source": [
    "deck_df"
   ]
  },
  {
   "cell_type": "code",
   "execution_count": null,
   "metadata": {},
   "outputs": [],
   "source": [
    "# Other\n",
    "\n",
    "# Merge the collection and deck data frames\n",
    "collection_df = get_collection()\n",
    "if collection_df is not None:\n",
    "    collection_df = assign_deck(collection_df, deck_df=deck_df, return_collection=False)"
   ]
  },
  {
   "cell_type": "code",
   "execution_count": null,
   "metadata": {},
   "outputs": [],
   "source": [
    "collection_df"
   ]
  },
  {
   "cell_type": "code",
   "execution_count": null,
   "metadata": {},
   "outputs": [],
   "source": [
    "temp = deck_df.copy()\n",
    "temp[\"Primary type\"] = deck_df[\"Primary type\"].fillna(deck_df[\"Card type\"])\n",
    "main_df = temp[temp[\"Section\"] == \"Main\"].groupby([\"Deck\", \"Primary type\"])[\"Count\"].sum().unstack(0)\n",
    "extra_df = temp[temp[\"Section\"] == \"Extra\"].groupby([\"Deck\", \"Primary type\"])[\"Count\"].sum().unstack(0)\n",
    "side_df = temp[temp[\"Section\"] == \"Side\"].groupby([\"Deck\", \"Primary type\"])[\"Count\"].sum().unstack(0)"
   ]
  },
  {
   "cell_type": "code",
   "execution_count": null,
   "metadata": {},
   "outputs": [],
   "source": [
    "main_df"
   ]
  },
  {
   "cell_type": "code",
   "execution_count": null,
   "metadata": {},
   "outputs": [],
   "source": [
    "extra_df"
   ]
  },
  {
   "cell_type": "code",
   "execution_count": null,
   "metadata": {},
   "outputs": [],
   "source": [
    "side_df"
   ]
  },
  {
   "cell_type": "code",
   "execution_count": null,
   "metadata": {},
   "outputs": [],
   "source": [
    "import numpy as np\n",
    "import matplotlib.pyplot as plt\n",
    "import matplotlib.patches as mpatches\n",
    "from matplotlib.colors import rgb_to_hsv, hex2color\n",
    "from matplotlib.gridspec import GridSpec\n",
    "\n",
    "\n",
    "def is_light_color(color):\n",
    "    # Convert color to RGB if it's in hex format\n",
    "    if isinstance(color, str):\n",
    "        color = hex2color(color)\n",
    "    # Convert RGB to HSV\n",
    "    hsv = rgb_to_hsv(color)\n",
    "    # Check the brightness (value in HSV)\n",
    "    return hsv[2] > 0.6\n",
    "\n",
    "\n",
    "def make_autopct(values):\n",
    "    def my_autopct(pct):\n",
    "        total = sum(values)\n",
    "        val = int(round(pct * total / 100.0))\n",
    "        return f\"{pct:.0f}%\\n({val})\"\n",
    "\n",
    "    return my_autopct\n",
    "\n",
    "\n",
    "cols = 3\n",
    "\n",
    "colors_main = [plot.colors_dict[type] for type in main_df.index]\n",
    "colors_extra = [plot.colors_dict[type] for type in extra_df.index]\n",
    "remaining = side_df.index.difference(main_df.index.union(extra_df.index))\n",
    "colors_main += [\n",
    "    plot.colors_dict[type]\n",
    "    for type in remaining\n",
    "    if type not in [\"Fusion Monster\", \"Synchro Monster\", \"Xyz Monster\", \"Link Monster\"]\n",
    "]\n",
    "colors_main += [\n",
    "    plot.colors_dict[type]\n",
    "    for type in remaining\n",
    "    if type in [\"Fusion Monster\", \"Synchro Monster\", \"Xyz Monster\", \"Link Monster\"]\n",
    "]\n",
    "colors_main = np.array(colors_main)\n",
    "colors_extra = np.array(colors_extra)\n",
    "\n",
    "ring_r = 0.3\n",
    "decks = temp[\"Deck\"].unique()\n",
    "\n",
    "fig = plt.figure(figsize=(20, 6 * np.ceil(len(decks) / cols)))\n",
    "fig.suptitle(\"Deck composition\", fontsize=20)\n",
    "gs = GridSpec(nrows=np.ceil(len(decks) / cols).astype(int), ncols=cols, hspace=0.2)\n",
    "\n",
    "for i, deck in enumerate(decks):\n",
    "    # Create sub-grid for pie and bar plots\n",
    "    sub_gs = gs[(i // cols), i % cols].subgridspec(2, 1, height_ratios=[9, 1], hspace=0.2)\n",
    "\n",
    "    # # Main plot in the upper sub-grid\n",
    "    ax_pie = fig.add_subplot(sub_gs[0, 0])\n",
    "    wedges1, texts1, autotexts1 = ax_pie.pie(\n",
    "        main_df[deck].dropna(),\n",
    "        autopct=make_autopct(main_df[deck].dropna()),\n",
    "        startangle=90,\n",
    "        radius=1,\n",
    "        wedgeprops=dict(width=ring_r, edgecolor=\"w\"),\n",
    "        pctdistance=0.85,\n",
    "        colors=colors_main[main_df[deck].notna()],\n",
    "        counterclock=False,\n",
    "        # frame=True,\n",
    "    )\n",
    "\n",
    "    if deck in extra_df.columns:\n",
    "        wedges2, texts2, autotexts2 = ax_pie.pie(\n",
    "            extra_df[deck].dropna(),\n",
    "            autopct=make_autopct(extra_df[deck].dropna()),\n",
    "            startangle=90,\n",
    "            radius=1 - ring_r,\n",
    "            wedgeprops=dict(width=ring_r, edgecolor=\"w\"),\n",
    "            pctdistance=0.75,\n",
    "            colors=colors_extra[extra_df[deck].notna()],\n",
    "            counterclock=False,\n",
    "            # frame=True,\n",
    "        )\n",
    "\n",
    "    for wedge, text in zip(wedges1, autotexts1):\n",
    "        color = wedge.get_facecolor()[:3]\n",
    "        text.set_color(\"black\" if is_light_color(color) else \"white\")\n",
    "    for wedge, text in zip(wedges2, autotexts2):\n",
    "        color = wedge.get_facecolor()[:3]  # Get the RGB color\n",
    "        text.set_color(\"black\" if is_light_color(color) else \"white\")\n",
    "\n",
    "    ax_pie.text(0, 0, f\"Main: {main_df[deck].sum()}\\nExtra: {extra_df[deck].sum()}\", ha=\"center\", va=\"center\", fontsize=14)\n",
    "    ax_pie.set_title(deck, fontsize=16)\n",
    "    ax_pie.set_xlim(-1, 1)\n",
    "    ax_pie.set_ylim(-1, 1)\n",
    "    ax_pie.set_aspect(\"equal\", adjustable=\"box\")\n",
    "\n",
    "    ax_bar = fig.add_subplot(sub_gs[1, 0])  # Bar plot in the odd row\n",
    "    ax_bar.axis(\"off\")\n",
    "    # Create bar plot in the lower sub-grid\n",
    "    if deck in side_df and side_df[deck] is not None:\n",
    "        sorted_side = side_df[deck].sort_values(ascending=True).dropna()\n",
    "        side_total = sorted_side.sum()\n",
    "        left = 0\n",
    "        height = 0.1\n",
    "        for j, (name, count) in enumerate(sorted_side.items()):\n",
    "            left -= count\n",
    "            color = plot.colors_dict[name]\n",
    "            bc = ax_bar.barh(\n",
    "                0,\n",
    "                width=count,\n",
    "                height=height,\n",
    "                left=left,\n",
    "                color=color,\n",
    "                edgecolor=\"white\",\n",
    "            )\n",
    "            ax_bar.bar_label(\n",
    "                bc,\n",
    "                labels=[f\"{count/side_total*100:.0f}%\\n({count})\"],\n",
    "                label_type=\"center\",\n",
    "                color=\"black\" if is_light_color(color) else \"white\",\n",
    "            )\n",
    "        ax_bar.set_title(f\"Side: {side_total}\", fontsize=14)\n",
    "        ax_bar.set_xlim(-side_total, 0)\n",
    "        ax_bar.set_ylim(-0.05, 0.05)\n",
    "        ax_bar.set_aspect(side_total, adjustable=\"box\")\n",
    "\n",
    "    else:\n",
    "        ax_bar.set_title(f\"Side: 0\", fontsize=14)\n",
    "\n",
    "\n",
    "# Create custom legend handles for main_df and extra_df\n",
    "handles1 = [mpatches.Patch(color=plot.colors_dict[type], label=type) for type in main_df.index]\n",
    "handles2 = [mpatches.Patch(color=plot.colors_dict[type], label=type) for type in extra_df.index]\n",
    "\n",
    "# Adjust the legend position\n",
    "fig.legend(\n",
    "    handles=handles1,\n",
    "    title=\"Main deck\",\n",
    "    loc=\"upper center\",\n",
    "    fontsize=12,\n",
    "    ncol=len(handles1),\n",
    "    bbox_to_anchor=(0.5, 0.97),\n",
    "    frameon=False,\n",
    "    title_fontsize=14,\n",
    ")\n",
    "fig.legend(\n",
    "    handles=handles2,\n",
    "    title=\"Extra deck\",\n",
    "    loc=\"upper center\",\n",
    "    fontsize=12,\n",
    "    ncol=len(handles2),\n",
    "    bbox_to_anchor=(0.5, 0.945),\n",
    "    frameon=False,\n",
    "    title_fontsize=14,\n",
    ")\n",
    "plt.subplots_adjust(top=0.90)"
   ]
  },
  {
   "cell_type": "code",
   "execution_count": null,
   "metadata": {},
   "outputs": [],
   "source": [
    "ax = temp.plot.pie(subplots=True, autopct=\"%1.1f%%\", figsize=(16, 4), title=\"Card type distribution\")\n",
    "for a in ax:\n",
    "    a.set_ylabel(a.get_ylabel(), fontsize=16)\n",
    "\n",
    "plt.tight_layout()\n",
    "plt.show()"
   ]
  },
  {
   "cell_type": "code",
   "execution_count": null,
   "metadata": {},
   "outputs": [],
   "source": [
    "temp = deck_df.groupby([\"Deck\", \"Monster type\"])[\"Count\"].sum().unstack(0)\n",
    "temp = temp[temp.notna().all(axis=1)]\n",
    "ax = temp.plot.pie(subplots=True, autopct=\"%1.1f%%\", figsize=(16, 4), title=\"Card type distribution\")\n",
    "for a in ax:\n",
    "    a.set_ylabel(a.get_ylabel(), fontsize=16)\n",
    "\n",
    "plt.tight_layout()\n",
    "plt.show()"
   ]
  }
 ],
 "metadata": {
  "kernelspec": {
   "display_name": "venv",
   "language": "python",
   "name": "python3"
  },
  "language_info": {
   "codemirror_mode": {
    "name": "ipython",
    "version": 3
   },
   "file_extension": ".py",
   "mimetype": "text/x-python",
   "name": "python",
   "nbconvert_exporter": "python",
   "pygments_lexer": "ipython3",
   "version": "3.12.7"
  }
 },
 "nbformat": 4,
 "nbformat_minor": 2
}
