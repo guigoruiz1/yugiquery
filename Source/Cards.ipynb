{
 "cells": [
  {
   "cell_type": "code",
   "execution_count": 1,
   "id": "82c61f6c-3c7a-4460-b466-9c521973fa5d",
   "metadata": {
    "tags": [
     "exclude"
    ]
   },
   "outputs": [
    {
     "data": {
      "text/markdown": [
       "<div align='center'>\n",
       "    <br>\n",
       "    <pre>\n",
       "    ██    ██ ██    ██  ██████  ██  ██████  ██    ██ ███████ ██████  ██    ██ \n",
       "     ██  ██  ██    ██ ██       ██ ██    ██ ██    ██ ██      ██   ██  ██  ██  \n",
       "      ████   ██    ██ ██   ███ ██ ██    ██ ██    ██ █████   ██████    ████   \n",
       "       ██    ██    ██ ██    ██ ██ ██ ▄▄ ██ ██    ██ ██      ██   ██    ██    \n",
       "       ██     ██████   ██████  ██  ██████   ██████  ███████ ██   ██    ██    \n",
       "                                      ▀▀                                     \n",
       "    </pre>\n",
       "</div>\n",
       "<div align='right'>\n",
       "     - Last modified: 15/12/2022 21:44 UTC <br>\n",
       "    By <b>Guilherme Ruiz</b>\n",
       "</div>"
      ],
      "text/plain": [
       "<IPython.core.display.Markdown object>"
      ]
     },
     "execution_count": 1,
     "metadata": {},
     "output_type": "execute_result"
    }
   ],
   "source": [
    "from Yugiquery import *\n",
    "header()"
   ]
  },
  {
   "cell_type": "markdown",
   "id": "6e66c226",
   "metadata": {
    "tags": [],
    "toc": true
   },
   "source": [
    "Table of Contents\n",
    "=================\n",
    "\n",
    "*   [1  Data aquisition](#Data-aquisition)\n",
    "    *   [1.1  Fetch online data](#Fetch-online-data)\n",
    "    *   [1.2  Format data](#Format-data)\n",
    "    *   [1.3  Save data](#Save-data)\n",
    "*   [2  Check changes](#Check-changes)\n",
    "    *   [2.1  Load latest file](#Load-latest-file)\n",
    "    *   [2.2  Generate changelog](#Generate-changelog)\n",
    "*   [3  Data visualization](#Data-visualization)\n",
    "    *   [3.1  Full data](#Full-data)\n",
    "    *   [3.2  Card types](#Card-types)\n",
    "    *   [3.3  Monsters](#Monsters)\n",
    "        *   [3.3.1  Attributes](#Attributes)\n",
    "        *   [3.3.2  Primary types](#Primary-types)\n",
    "            *   [3.3.2.1  Has effect discrimination](#Has-effect-discrimination)\n",
    "            *   [3.3.2.2  Is pendulum discrimination](#Is-pendulum-discrimination)\n",
    "            *   [3.3.2.3  By attribute](#By-attribute)\n",
    "        *   [3.3.3  Secondary types](#Secondary-types)\n",
    "            *   [3.3.3.1  By attribute](#By-attribute)\n",
    "            *   [3.3.3.2  By secondary type](#By-secondary-type)\n",
    "        *   [3.3.4  Monster types](#Monster-types)\n",
    "            *   [3.3.4.1  By Attribute](#By-Attribute)\n",
    "            *   [3.3.4.2  By primary type](#By-primary-type)\n",
    "            *   [3.3.4.3  By secondary type](#By-secondary-type)\n",
    "        *   [3.3.5  Effect type](#Effect-type)\n",
    "        *   [3.3.6  ATK](#ATK)\n",
    "        *   [3.3.7  DEF](#DEF)\n",
    "        *   [3.3.8  Level/Rank](#Level/Rank)\n",
    "            *   [3.3.8.1  ATK statistics](#ATK-statistics)\n",
    "            *   [3.3.8.2  DEF statistics](#DEF-statistics)\n",
    "        *   [3.3.9  Pendulum scale](#Pendulum-scale)\n",
    "            *   [3.3.9.1  ATK statistics](#ATK-statistics)\n",
    "            *   [3.3.9.2  DEF statistics](#DEF-statistics)\n",
    "            *   [3.3.9.3  Level/Rank statistics](#Level/Rank-statistics)\n",
    "        *   [3.3.10  Link](#Link)\n",
    "            *   [3.3.10.1  ATK statistics](#ATK-statistics)\n",
    "        *   [3.3.11  Link Arrows](#Link-Arrows)\n",
    "            *   [3.3.11.1  By combination](#By-combination)\n",
    "            *   [3.3.11.2  By unique](#By-unique)\n",
    "            *   [3.3.11.3  By link](#By-link)\n",
    "    *   [3.4  Spell & Trap](#Spell-&-Trap)\n",
    "        *   [3.4.1  Properties](#Properties)\n",
    "        *   [3.4.2  Effect type](#Effect-type)\n",
    "            *   [3.4.2.1  Spell & Trap discrimination](#Spell-&-Trap-discrimination)\n",
    "    *   [3.5  Archseries](#Archseries)\n",
    "        *   [3.5.1  By card type](#By-card-type)\n",
    "        *   [3.5.2  By primary type](#By-primary-type)\n",
    "        *   [3.5.3  By secondary type](#By-secondary-type)\n",
    "        *   [3.5.4  By monster type](#By-monster-type)\n",
    "        *   [3.5.5  By property](#By-property)\n",
    "    *   [3.6  Artworks](#Artworks)\n",
    "        *   [3.6.1  By card type](#By-card-type)\n",
    "        *   [3.6.2  By primary type](#By-primary-type)\n",
    "    *   [3.7  Errata](#Errata)\n",
    "        *   [3.7.1  By card type](#By-card-type)\n",
    "        *   [3.7.2  By primary type](#By-primary-type)\n",
    "        *   [3.7.3  By artwork](#By-artwork)\n",
    "    *   [3.8  TCG & OCG status](#TCG-&-OCG-status)\n",
    "        *   [3.8.1  TGC status](#TGC-status)\n",
    "            *   [3.8.1.1  By card type](#By-card-type)\n",
    "            *   [3.8.1.2  By monster type](#By-monster-type)\n",
    "            *   [3.8.1.3  By archseries](#By-archseries)\n",
    "        *   [3.8.2  OCG status](#OCG-status)\n",
    "            *   [3.8.2.1  By card type](#By-card-type)\n",
    "            *   [3.8.2.2  By monster type](#By-monster-type)\n",
    "            *   [3.8.2.3  By archseries](#By-archseries)\n",
    "        *   [3.8.3  TCG vs. OCG status](#TCG-vs.-OCG-status)\n",
    "*   [4  HTML export](#HTML-export)\n",
    "*   [5  Git](#Git)\n",
    "*   [6  Searches](#Searches)"
   ]
  },
  {
   "cell_type": "markdown",
   "id": "b60fae74",
   "metadata": {
    "tags": []
   },
   "source": [
    "# Data aquisition"
   ]
  },
  {
   "cell_type": "markdown",
   "id": "699f2460",
   "metadata": {},
   "source": [
    "## Fetch online data"
   ]
  },
  {
   "cell_type": "code",
   "execution_count": null,
   "id": "135ab538",
   "metadata": {
    "ExecuteTime": {
     "end_time": "2022-07-01T21:12:04.297585Z",
     "start_time": "2022-07-01T21:09:10.772165Z"
    },
    "tags": []
   },
   "outputs": [
    {
     "name": "stdout",
     "output_type": "stream",
     "text": [
      "Downloading Spells\n",
      "Iteration 1: 1000 results\n",
      "Iteration 2: 1000 results\n",
      "Iteration 3: 381 results\n",
      "- Total\n",
      "2381 results\n",
      "\n",
      "Downloading Traps\n",
      "Iteration 1: 1000 results\n",
      "Iteration 2: 814 results\n",
      "- Total\n",
      "1814 results\n",
      "\n",
      "Downloading Monsters\n",
      "- DIVINE\n",
      "Iteration 1: 9 results\n",
      "- LIGHT\n",
      "Iteration 1: 1000 results\n",
      "Iteration 2: 621 results\n",
      "- DARK\n",
      "Iteration 1: 1000 results\n",
      "Iteration 2: 1000 results\n",
      "Iteration 3: 229 results\n",
      "- WATER\n",
      "Iteration 1: 835 results\n",
      "- EARTH\n",
      "Iteration 1: 1000 results\n",
      "Iteration 2: 883 results\n",
      "- FIRE\n",
      "Iteration 1: 668 results\n",
      "- WIND\n"
     ]
    }
   ],
   "source": [
    "monster_query = card_query(_property = False)\n",
    "st_query = card_query(_primary = False, _secondary = False, _attribute = False, _monster_type = False, _stars = False, _atk = False, _def = False, _scale = False, _link = False, _arrows = False)\n",
    "# Timestamp\n",
    "timestamp = pd.Timestamp.now().timestamp()\n",
    "full_df = pd.DataFrame()\n",
    "\n",
    "# Fetch Spell\n",
    "spell_df = fetch_spell(st_query, step = 1000, limit = 3000)\n",
    "full_df = pd.concat([full_df, spell_df], ignore_index=True, axis=0)\n",
    "\n",
    "# Fetch Trap\n",
    "trap_df = fetch_trap(st_query, step = 1000, limit = 3000)\n",
    "full_df = pd.concat([full_df, trap_df], ignore_index=True, axis=0)\n",
    "st_df = pd.concat([spell_df, trap_df], ignore_index=True, axis=0)\n",
    "\n",
    "# Fetch Monster\n",
    "monster_df = fetch_monster(monster_query, step = 1000, limit = 5000)\n",
    "full_df = pd.concat([full_df, monster_df], ignore_index=True, axis=0)\n",
    "\n",
    "# Fetch errata\n",
    "errata_df = pd.concat([fetch_name_errata(), fetch_type_errata()], axis=1).fillna(False)"
   ]
  },
  {
   "cell_type": "markdown",
   "id": "5a23c8e9",
   "metadata": {},
   "source": [
    "## Format data"
   ]
  },
  {
   "cell_type": "code",
   "execution_count": null,
   "id": "3e833a4c",
   "metadata": {
    "ExecuteTime": {
     "end_time": "2022-07-01T21:12:08.852899Z",
     "start_time": "2022-07-01T21:12:04.303238Z"
    }
   },
   "outputs": [],
   "source": [
    "formatted_spell_df = format_df(spell_df, errata_df)\n",
    "formatted_trap_df = format_df(trap_df, errata_df)\n",
    "formatted_st_df = format_df(st_df, errata_df)\n",
    "formatted_monster_df = format_df(monster_df, errata_df)\n",
    "formatted_full_df = format_df(full_df, errata_df)\n",
    "print('Data formated')"
   ]
  },
  {
   "cell_type": "markdown",
   "id": "9b15f8ec",
   "metadata": {
    "tags": []
   },
   "source": [
    "## Save data"
   ]
  },
  {
   "cell_type": "code",
   "execution_count": null,
   "id": "01e9eb77",
   "metadata": {
    "ExecuteTime": {
     "end_time": "2022-07-01T21:12:09.607531Z",
     "start_time": "2022-07-01T21:12:08.937303Z"
    }
   },
   "outputs": [],
   "source": [
    "formatted_full_df.to_csv(f'../Data/All_cards_{int(timestamp)}.csv', index = False)\n",
    "print('Data saved')"
   ]
  },
  {
   "cell_type": "markdown",
   "id": "9ff0cf51",
   "metadata": {},
   "source": [
    "# Check changes"
   ]
  },
  {
   "cell_type": "markdown",
   "id": "233e965d",
   "metadata": {},
   "source": [
    "## Load previous data"
   ]
  },
  {
   "cell_type": "code",
   "execution_count": null,
   "id": "fb7dc6f8",
   "metadata": {
    "ExecuteTime": {
     "end_time": "2022-07-01T21:12:10.537911Z",
     "start_time": "2022-07-01T21:12:09.617992Z"
    }
   },
   "outputs": [],
   "source": [
    "# Get list of files\n",
    "files_list = sorted(glob.glob('../Data/All_cards_*.csv'), key=os.path.getctime, reverse=True)\n",
    "# Get second newest file if exist\n",
    "if len(files_list)>1:\n",
    "    # Load csv avoiding converting \"NA\" to NaN\n",
    "    previous_df = pd.read_csv(files_list[1], dtype=object, keep_default_na=False, na_values=[''])\n",
    "    # Correct tuples\n",
    "    previous_df['Effect type'] = previous_df['Effect type'].dropna().apply(literal_eval)\n",
    "    previous_df['Link Arrows'] = previous_df['Link Arrows'].dropna().apply(literal_eval)\n",
    "    previous_df['Archseries'] = previous_df['Archseries'].dropna().apply(literal_eval)\n",
    "    previous_df['Artwork'] = previous_df['Artwork'].dropna().apply(literal_eval)\n",
    "    previous_df['Errata'] = previous_df['Errata'].dropna().apply(literal_eval)\n",
    "    # Force dtypes to match current df\n",
    "    previous_df = previous_df.astype(formatted_full_df.dtypes.to_dict())\n",
    "    print('File loaded')\n",
    "else:\n",
    "    print('No older files')"
   ]
  },
  {
   "cell_type": "markdown",
   "id": "96ce5451",
   "metadata": {},
   "source": [
    "## Generate changelog"
   ]
  },
  {
   "cell_type": "code",
   "execution_count": null,
   "id": "2fcca8f1",
   "metadata": {
    "ExecuteTime": {
     "end_time": "2022-07-01T21:12:14.740184Z",
     "start_time": "2022-07-01T21:12:10.627944Z"
    }
   },
   "outputs": [],
   "source": [
    "if previous_df is None:\n",
    "    print('Skipped')\n",
    "else:\n",
    "    changelog = generate_changelog(previous_df, formatted_full_df, col = 'Name')\n",
    "    if not changelog.empty:\n",
    "        display(changelog)\n",
    "        changelog.to_csv(f'../Data/Cards_changelog_{int(timestamp)}.csv', index = False)\n",
    "        print('Changelog saved')"
   ]
  },
  {
   "cell_type": "markdown",
   "id": "c0ae1017",
   "metadata": {},
   "source": [
    "# Data visualization"
   ]
  },
  {
   "cell_type": "markdown",
   "id": "5ad091af",
   "metadata": {},
   "source": [
    "## Full data"
   ]
  },
  {
   "cell_type": "code",
   "execution_count": null,
   "id": "fb024043",
   "metadata": {
    "ExecuteTime": {
     "end_time": "2022-07-01T21:12:15.103891Z",
     "start_time": "2022-07-01T21:12:14.744063Z"
    }
   },
   "outputs": [],
   "source": [
    "formatted_full_df"
   ]
  },
  {
   "cell_type": "markdown",
   "id": "da99ccde-ca38-4d81-8661-6f8514f689d7",
   "metadata": {},
   "source": [
    "Full data available to download [here](../Data)"
   ]
  },
  {
   "cell_type": "markdown",
   "id": "8a8cb7cd",
   "metadata": {},
   "source": [
    "## Card types"
   ]
  },
  {
   "cell_type": "code",
   "execution_count": null,
   "id": "a4ec32e1",
   "metadata": {
    "ExecuteTime": {
     "end_time": "2022-07-01T21:12:15.270322Z",
     "start_time": "2022-07-01T21:12:15.110014Z"
    },
    "scrolled": true
   },
   "outputs": [],
   "source": [
    "formatted_full_df.groupby('Card type').nunique()"
   ]
  },
  {
   "cell_type": "code",
   "execution_count": null,
   "id": "120a72dc",
   "metadata": {
    "ExecuteTime": {
     "end_time": "2022-07-01T21:12:16.966455Z",
     "start_time": "2022-07-01T21:12:15.278195Z"
    }
   },
   "outputs": [],
   "source": [
    "card_type_colors = [card_colors[i] for i in formatted_full_df['Card type'].value_counts().index]\n",
    "formatted_full_df['Card type'].value_counts().plot.bar(figsize = (18,6), grid = True, rot=0, color = card_type_colors, title = 'Card type')\n",
    "plt.show()"
   ]
  },
  {
   "cell_type": "markdown",
   "id": "fa1ed03c",
   "metadata": {},
   "source": [
    "## Monsters"
   ]
  },
  {
   "cell_type": "markdown",
   "id": "66c5f658",
   "metadata": {},
   "source": [
    "### Attributes"
   ]
  },
  {
   "cell_type": "code",
   "execution_count": null,
   "id": "aa4e6a26",
   "metadata": {
    "ExecuteTime": {
     "end_time": "2022-07-01T21:12:16.983257Z",
     "start_time": "2022-07-01T21:12:16.970868Z"
    }
   },
   "outputs": [],
   "source": [
    "print('Total number of attributes:', formatted_monster_df['Attribute'].nunique())"
   ]
  },
  {
   "cell_type": "code",
   "execution_count": null,
   "id": "ea26720e",
   "metadata": {
    "ExecuteTime": {
     "end_time": "2022-07-01T21:12:17.123815Z",
     "start_time": "2022-07-01T21:12:16.988104Z"
    },
    "scrolled": true
   },
   "outputs": [],
   "source": [
    "formatted_monster_df.drop(columns=['Card type']).groupby('Attribute').nunique()"
   ]
  },
  {
   "cell_type": "code",
   "execution_count": null,
   "id": "c4ff5f74",
   "metadata": {
    "ExecuteTime": {
     "end_time": "2022-07-01T21:12:17.532155Z",
     "start_time": "2022-07-01T21:12:17.128949Z"
    }
   },
   "outputs": [],
   "source": [
    "attribute_colors = [card_colors[i] for i in formatted_full_df['Attribute'].value_counts().index]\n",
    "formatted_monster_df['Attribute'].value_counts().plot.bar(figsize = (18,6), grid = True, rot=0, color = attribute_colors, title = 'Attribute')\n",
    "plt.show()"
   ]
  },
  {
   "cell_type": "markdown",
   "id": "d0d71936",
   "metadata": {},
   "source": [
    "### Primary types"
   ]
  },
  {
   "cell_type": "code",
   "execution_count": null,
   "id": "26e45412",
   "metadata": {
    "ExecuteTime": {
     "end_time": "2022-07-01T21:12:17.553582Z",
     "start_time": "2022-07-01T21:12:17.541315Z"
    }
   },
   "outputs": [],
   "source": [
    "print('Total number of primary types:', formatted_monster_df['Primary type'].nunique())"
   ]
  },
  {
   "cell_type": "code",
   "execution_count": null,
   "id": "c7e4c6b0",
   "metadata": {
    "ExecuteTime": {
     "end_time": "2022-07-01T21:12:17.785005Z",
     "start_time": "2022-07-01T21:12:17.575600Z"
    }
   },
   "outputs": [],
   "source": [
    "formatted_monster_df.drop(columns=['Card type']).groupby('Primary type').nunique()"
   ]
  },
  {
   "cell_type": "markdown",
   "id": "d41d8e4a",
   "metadata": {},
   "source": [
    "#### Has effect discrimination"
   ]
  },
  {
   "cell_type": "code",
   "execution_count": null,
   "id": "56a59624",
   "metadata": {
    "ExecuteTime": {
     "end_time": "2022-07-01T21:12:17.873888Z",
     "start_time": "2022-07-01T21:12:17.800127Z"
    }
   },
   "outputs": [],
   "source": [
    "has_effect = formatted_monster_df['Primary type'].where(formatted_monster_df['Effect type'].notna()).value_counts().rename('Effect')\n",
    "no_effect = formatted_monster_df['Primary type'].where(formatted_monster_df['Effect type'].isna()).value_counts().rename('No Effect')\n",
    "effect = pd.concat([has_effect,no_effect], axis=1).fillna(0).astype(int)\n",
    "effect"
   ]
  },
  {
   "cell_type": "code",
   "execution_count": null,
   "id": "82c24448",
   "metadata": {
    "ExecuteTime": {
     "end_time": "2022-07-01T21:12:18.302609Z",
     "start_time": "2022-07-01T21:12:17.892118Z"
    }
   },
   "outputs": [],
   "source": [
    "monster_type_colors = {'No Effect': card_colors['Normal Monster'], 'Effect': [card_colors[i] for i in effect.index]}\n",
    "effect.plot.bar(figsize = (18,6), stacked = True, grid = True, rot=0,  legend=True, color = monster_type_colors, title = 'Primary types - Has effect')\n",
    "# plt.yscale('log')\n",
    "plt.show()"
   ]
  },
  {
   "cell_type": "markdown",
   "id": "69d8824e",
   "metadata": {},
   "source": [
    "Obs: Normal monster can have effect if it is pendulum"
   ]
  },
  {
   "cell_type": "markdown",
   "id": "1da2968f",
   "metadata": {},
   "source": [
    "#### Is pendulum discrimination"
   ]
  },
  {
   "cell_type": "code",
   "execution_count": null,
   "id": "c18ac7a6",
   "metadata": {
    "ExecuteTime": {
     "end_time": "2022-07-01T21:12:18.420849Z",
     "start_time": "2022-07-01T21:12:18.308354Z"
    }
   },
   "outputs": [],
   "source": [
    "not_pendulum = formatted_monster_df['Primary type'].where(formatted_monster_df['Pendulum Scale'].isna()).value_counts().rename('Not Pendulum')\n",
    "is_pendulum = formatted_monster_df['Primary type'].where(formatted_monster_df['Pendulum Scale'].notna()).value_counts().rename('Pendulum')\n",
    "pendulum = pd.concat([not_pendulum,is_pendulum], axis=1).fillna(0).astype(int)\n",
    "pendulum"
   ]
  },
  {
   "cell_type": "code",
   "execution_count": null,
   "id": "fd0ff75c",
   "metadata": {
    "ExecuteTime": {
     "end_time": "2022-07-01T21:12:18.885397Z",
     "start_time": "2022-07-01T21:12:18.433110Z"
    }
   },
   "outputs": [],
   "source": [
    "monster_type_colors_b = {'Pendulum': card_colors['Pendulum Monster'], 'Not Pendulum': [card_colors[i] for i in pendulum.index]}\n",
    "pendulum.plot.bar(figsize = (18,6), stacked = True, grid = True, rot=0, color = monster_type_colors_b, legend=True, title = 'Primary types - Is pendulum')\n",
    "plt.show()"
   ]
  },
  {
   "cell_type": "markdown",
   "id": "a6a4f4f5",
   "metadata": {},
   "source": [
    "#### By attribute"
   ]
  },
  {
   "cell_type": "code",
   "execution_count": null,
   "id": "9c162519",
   "metadata": {
    "ExecuteTime": {
     "end_time": "2022-07-01T21:12:18.943484Z",
     "start_time": "2022-07-01T21:12:18.894979Z"
    }
   },
   "outputs": [],
   "source": [
    "primmary_crosstab = pd.crosstab(formatted_full_df['Primary type'],formatted_full_df['Attribute'])\n",
    "primmary_crosstab"
   ]
  },
  {
   "cell_type": "code",
   "execution_count": null,
   "id": "a0114f45",
   "metadata": {
    "ExecuteTime": {
     "end_time": "2022-07-01T21:12:21.690065Z",
     "start_time": "2022-07-01T21:12:18.951406Z"
    }
   },
   "outputs": [],
   "source": [
    "plt.figure(figsize = (16,10))\n",
    "sns.heatmap(primmary_crosstab.T, annot=True, fmt=\"g\", cmap='viridis', square=True, norm=LogNorm())\n",
    "plt.show()"
   ]
  },
  {
   "cell_type": "markdown",
   "id": "0c70885e",
   "metadata": {},
   "source": [
    "### Secondary types"
   ]
  },
  {
   "cell_type": "code",
   "execution_count": null,
   "id": "ee184462",
   "metadata": {
    "ExecuteTime": {
     "end_time": "2022-07-01T21:12:21.724360Z",
     "start_time": "2022-07-01T21:12:21.706720Z"
    }
   },
   "outputs": [],
   "source": [
    "print('Total number of secondary types:', formatted_monster_df['Secondary type'].nunique())"
   ]
  },
  {
   "cell_type": "code",
   "execution_count": null,
   "id": "125f438e",
   "metadata": {
    "ExecuteTime": {
     "end_time": "2022-07-01T21:12:21.915338Z",
     "start_time": "2022-07-01T21:12:21.731105Z"
    }
   },
   "outputs": [],
   "source": [
    "formatted_monster_df.drop(columns=['Card type', 'Link', 'Link Arrows']).groupby('Secondary type').nunique()"
   ]
  },
  {
   "cell_type": "code",
   "execution_count": null,
   "id": "a4fec827",
   "metadata": {
    "ExecuteTime": {
     "end_time": "2022-07-01T21:12:22.270155Z",
     "start_time": "2022-07-01T21:12:21.935020Z"
    }
   },
   "outputs": [],
   "source": [
    "secondary_type_colors = card_colors['Effect Monster']\n",
    "formatted_monster_df['Secondary type'].value_counts().plot.bar(figsize = (18,6), stacked = True, grid = True, rot=0, color = secondary_type_colors, legend=False, title = 'Secondary type')\n",
    "plt.show()"
   ]
  },
  {
   "cell_type": "markdown",
   "id": "0420679a",
   "metadata": {},
   "source": [
    "#### By attribute"
   ]
  },
  {
   "cell_type": "code",
   "execution_count": null,
   "id": "085225bb",
   "metadata": {
    "ExecuteTime": {
     "end_time": "2022-07-01T21:12:22.313252Z",
     "start_time": "2022-07-01T21:12:22.276580Z"
    }
   },
   "outputs": [],
   "source": [
    "secondary_crosstab = pd.crosstab(formatted_full_df['Secondary type'],formatted_full_df['Attribute'])\n",
    "secondary_crosstab"
   ]
  },
  {
   "cell_type": "code",
   "execution_count": null,
   "id": "b69fe297",
   "metadata": {
    "ExecuteTime": {
     "end_time": "2022-07-01T21:12:23.082335Z",
     "start_time": "2022-07-01T21:12:22.323756Z"
    }
   },
   "outputs": [],
   "source": [
    "plt.figure(figsize = (8,6))\n",
    "sns.heatmap(secondary_crosstab[secondary_crosstab>0], annot=True, fmt=\"g\", cmap='viridis', square=True)\n",
    "plt.show()"
   ]
  },
  {
   "cell_type": "markdown",
   "id": "30b035c2",
   "metadata": {},
   "source": [
    "#### By secondary type"
   ]
  },
  {
   "cell_type": "code",
   "execution_count": null,
   "id": "c8f08039",
   "metadata": {
    "ExecuteTime": {
     "end_time": "2022-07-01T21:12:23.165152Z",
     "start_time": "2022-07-01T21:12:23.087384Z"
    }
   },
   "outputs": [],
   "source": [
    "secondary_crosstab_b = pd.crosstab(formatted_full_df['Primary type'],formatted_full_df['Secondary type'], margins = True)\n",
    "secondary_crosstab_b"
   ]
  },
  {
   "cell_type": "code",
   "execution_count": null,
   "id": "4749ace2",
   "metadata": {
    "ExecuteTime": {
     "end_time": "2022-07-01T21:12:24.116350Z",
     "start_time": "2022-07-01T21:12:23.178930Z"
    }
   },
   "outputs": [],
   "source": [
    "plt.figure(figsize = (10,7))\n",
    "sns.heatmap(secondary_crosstab_b, annot=True, fmt=\"g\", cmap='viridis', square=True, norm=LogNorm())\n",
    "plt.show()"
   ]
  },
  {
   "cell_type": "markdown",
   "id": "9682c65a",
   "metadata": {},
   "source": [
    "### Monster types"
   ]
  },
  {
   "cell_type": "code",
   "execution_count": null,
   "id": "dab77100",
   "metadata": {
    "ExecuteTime": {
     "end_time": "2022-07-01T21:12:24.145460Z",
     "start_time": "2022-07-01T21:12:24.125113Z"
    }
   },
   "outputs": [],
   "source": [
    "print('Total number of monster types:', formatted_monster_df['Monster type'].nunique())"
   ]
  },
  {
   "cell_type": "code",
   "execution_count": null,
   "id": "02f5b750",
   "metadata": {
    "ExecuteTime": {
     "end_time": "2022-07-01T21:12:24.264942Z",
     "start_time": "2022-07-01T21:12:24.150765Z"
    }
   },
   "outputs": [],
   "source": [
    "formatted_monster_df.drop(columns=['Card type']).groupby('Monster type').nunique()"
   ]
  },
  {
   "cell_type": "code",
   "execution_count": null,
   "id": "75111774",
   "metadata": {
    "ExecuteTime": {
     "end_time": "2022-07-01T21:12:24.709252Z",
     "start_time": "2022-07-01T21:12:24.270341Z"
    }
   },
   "outputs": [],
   "source": [
    "monster_type_colors = card_colors['Monster Card']\n",
    "formatted_monster_df['Monster type'].value_counts().plot.bar(figsize = (18,6), grid = True, rot=45, color = monster_type_colors, title = 'Monster type')\n",
    "plt.show()"
   ]
  },
  {
   "cell_type": "markdown",
   "id": "32d282b7",
   "metadata": {},
   "source": [
    "#### By Attribute"
   ]
  },
  {
   "cell_type": "code",
   "execution_count": null,
   "id": "23d29373",
   "metadata": {
    "ExecuteTime": {
     "end_time": "2022-07-01T21:12:24.836925Z",
     "start_time": "2022-07-01T21:12:24.732081Z"
    }
   },
   "outputs": [],
   "source": [
    "monster_crosstab = pd.crosstab(formatted_full_df['Monster type'],formatted_full_df['Attribute'], dropna=False)\n",
    "monster_crosstab"
   ]
  },
  {
   "cell_type": "code",
   "execution_count": null,
   "id": "fd9ca22d",
   "metadata": {
    "ExecuteTime": {
     "end_time": "2022-07-01T21:12:26.318343Z",
     "start_time": "2022-07-01T21:12:24.843320Z"
    }
   },
   "outputs": [],
   "source": [
    "plt.figure(figsize = (20,5))\n",
    "sns.heatmap(monster_crosstab[monster_crosstab>0].T, annot=True, fmt=\"g\", cmap='viridis', square=True, norm=LogNorm())\n",
    "plt.show()"
   ]
  },
  {
   "cell_type": "markdown",
   "id": "4daa9957",
   "metadata": {},
   "source": [
    "#### By primary type"
   ]
  },
  {
   "cell_type": "code",
   "execution_count": null,
   "id": "0f5d0eda",
   "metadata": {
    "ExecuteTime": {
     "end_time": "2022-07-01T21:12:26.370698Z",
     "start_time": "2022-07-01T21:12:26.325181Z"
    }
   },
   "outputs": [],
   "source": [
    "monster_crosstab_b = pd.crosstab(formatted_full_df['Monster type'],formatted_full_df['Primary type'], dropna=False)\n",
    "monster_crosstab_b"
   ]
  },
  {
   "cell_type": "code",
   "execution_count": null,
   "id": "5f3b531c",
   "metadata": {
    "ExecuteTime": {
     "end_time": "2022-07-01T21:12:27.850430Z",
     "start_time": "2022-07-01T21:12:26.374964Z"
    }
   },
   "outputs": [],
   "source": [
    "plt.figure(figsize = (20,5))\n",
    "sns.heatmap(monster_crosstab_b[monster_crosstab_b>0].T, annot=True, fmt=\"g\", cmap='viridis', square=True, norm = LogNorm())\n",
    "plt.show()"
   ]
  },
  {
   "cell_type": "markdown",
   "id": "9056b880",
   "metadata": {},
   "source": [
    "#### By secondary type"
   ]
  },
  {
   "cell_type": "code",
   "execution_count": null,
   "id": "cbe5bef6",
   "metadata": {
    "ExecuteTime": {
     "end_time": "2022-07-01T21:12:27.888732Z",
     "start_time": "2022-07-01T21:12:27.856984Z"
    }
   },
   "outputs": [],
   "source": [
    "monster_crosstab_c = pd.crosstab(formatted_full_df['Monster type'],formatted_full_df['Secondary type'], dropna=False)\n",
    "monster_crosstab_c"
   ]
  },
  {
   "cell_type": "code",
   "execution_count": null,
   "id": "3712cc0e",
   "metadata": {
    "ExecuteTime": {
     "end_time": "2022-07-01T21:12:28.880005Z",
     "start_time": "2022-07-01T21:12:27.892672Z"
    }
   },
   "outputs": [],
   "source": [
    "plt.figure(figsize = (20,5))\n",
    "sns.heatmap(monster_crosstab_c[monster_crosstab_c>0].T, annot=True, fmt=\"g\", cmap='viridis', square=True, norm = LogNorm())\n",
    "plt.show()"
   ]
  },
  {
   "cell_type": "markdown",
   "id": "aaf6f5d6",
   "metadata": {},
   "source": [
    "### Effect type"
   ]
  },
  {
   "cell_type": "code",
   "execution_count": null,
   "id": "b44949a6",
   "metadata": {
    "ExecuteTime": {
     "end_time": "2022-07-01T21:12:28.908510Z",
     "start_time": "2022-07-01T21:12:28.886545Z"
    }
   },
   "outputs": [],
   "source": [
    "print('Total number of effect types:', formatted_monster_df['Effect type'].explode().nunique())"
   ]
  },
  {
   "cell_type": "code",
   "execution_count": null,
   "id": "c4e48718",
   "metadata": {
    "ExecuteTime": {
     "end_time": "2022-07-01T21:12:29.053490Z",
     "start_time": "2022-07-01T21:12:28.913409Z"
    }
   },
   "outputs": [],
   "source": [
    "formatted_monster_df[formatted_monster_df['Effect type'].notna()].drop(columns=['Card type']).explode('Effect type').groupby('Effect type').nunique()"
   ]
  },
  {
   "cell_type": "code",
   "execution_count": null,
   "id": "ff912d52",
   "metadata": {
    "ExecuteTime": {
     "end_time": "2022-07-01T21:12:29.332078Z",
     "start_time": "2022-07-01T21:12:29.058910Z"
    }
   },
   "outputs": [],
   "source": [
    "monster_effect_colors = card_colors['Effect Monster']\n",
    "formatted_monster_df['Effect type'].explode('Effect type').value_counts().plot.bar(figsize = (18,6), grid = True, color = monster_effect_colors, title='Effect type')\n",
    "# plt.yscale('log')\n",
    "plt.show()"
   ]
  },
  {
   "cell_type": "markdown",
   "id": "371f2c74",
   "metadata": {},
   "source": [
    "### ATK"
   ]
  },
  {
   "cell_type": "code",
   "execution_count": null,
   "id": "1b5db865",
   "metadata": {
    "ExecuteTime": {
     "end_time": "2022-07-01T21:12:29.345880Z",
     "start_time": "2022-07-01T21:12:29.337067Z"
    }
   },
   "outputs": [],
   "source": [
    "print('Total number of ATK values:', formatted_monster_df['ATK'].nunique())"
   ]
  },
  {
   "cell_type": "code",
   "execution_count": null,
   "id": "16b9aa14",
   "metadata": {
    "ExecuteTime": {
     "end_time": "2022-07-01T21:12:29.502899Z",
     "start_time": "2022-07-01T21:12:29.351123Z"
    }
   },
   "outputs": [],
   "source": [
    "formatted_monster_df.drop(columns=['Card type']).groupby('ATK').nunique().sort_index(key=lambda x: pd.to_numeric(x, errors = 'coerce'))"
   ]
  },
  {
   "cell_type": "code",
   "execution_count": null,
   "id": "3b1b2e1d",
   "metadata": {
    "ExecuteTime": {
     "end_time": "2022-07-01T21:12:30.607186Z",
     "start_time": "2022-07-01T21:12:29.519032Z"
    }
   },
   "outputs": [],
   "source": [
    "atk_colors = card_colors['Monster Card']\n",
    "formatted_monster_df['DEF'].value_counts().sort_index(key=lambda x: pd.to_numeric(x, errors = 'coerce')).plot.bar(figsize = (18,6), grid = True, color = atk_colors, title = 'ATK')\n",
    "plt.show()"
   ]
  },
  {
   "cell_type": "markdown",
   "id": "cda8b288",
   "metadata": {},
   "source": [
    "### DEF"
   ]
  },
  {
   "cell_type": "code",
   "execution_count": null,
   "id": "2aa0ba61",
   "metadata": {
    "ExecuteTime": {
     "end_time": "2022-07-01T21:12:30.626823Z",
     "start_time": "2022-07-01T21:12:30.609830Z"
    }
   },
   "outputs": [],
   "source": [
    "print('Total number of DEF values:', formatted_monster_df['DEF'].nunique())"
   ]
  },
  {
   "cell_type": "code",
   "execution_count": null,
   "id": "54e9d56a",
   "metadata": {
    "ExecuteTime": {
     "end_time": "2022-07-01T21:12:30.732259Z",
     "start_time": "2022-07-01T21:12:30.632638Z"
    }
   },
   "outputs": [],
   "source": [
    "formatted_monster_df.drop(columns=['Card type']).groupby('DEF').nunique().sort_index(key=lambda x: pd.to_numeric(x, errors = 'coerce'))"
   ]
  },
  {
   "cell_type": "code",
   "execution_count": null,
   "id": "10aeff48",
   "metadata": {
    "ExecuteTime": {
     "end_time": "2022-07-01T21:12:31.954576Z",
     "start_time": "2022-07-01T21:12:30.745841Z"
    }
   },
   "outputs": [],
   "source": [
    "def_colors = card_colors['Monster Card']\n",
    "formatted_monster_df['DEF'].value_counts().sort_index(key=lambda x: pd.to_numeric(x, errors = 'coerce')).plot.bar(figsize = (18,6), grid = True, color = def_colors, title = 'DEF')\n",
    "plt.show()"
   ]
  },
  {
   "cell_type": "markdown",
   "id": "4f26bf6d",
   "metadata": {},
   "source": [
    "### Level/Rank"
   ]
  },
  {
   "cell_type": "code",
   "execution_count": null,
   "id": "f5543138",
   "metadata": {
    "ExecuteTime": {
     "end_time": "2022-07-01T21:12:32.048592Z",
     "start_time": "2022-07-01T21:12:31.958319Z"
    }
   },
   "outputs": [],
   "source": [
    "formatted_monster_df.drop(columns=['Card type', 'Link', 'Link Arrows']).groupby('Level/Rank').nunique().sort_index(key=lambda x: pd.to_numeric(x, errors = 'coerce'))"
   ]
  },
  {
   "cell_type": "code",
   "execution_count": null,
   "id": "31539bdc",
   "metadata": {
    "ExecuteTime": {
     "end_time": "2022-07-01T21:12:32.391736Z",
     "start_time": "2022-07-01T21:12:32.054156Z"
    }
   },
   "outputs": [],
   "source": [
    "stars_colors = card_colors['Level']\n",
    "formatted_monster_df['Level/Rank'].value_counts().sort_index(key=lambda x: pd.to_numeric(x, errors = 'coerce')).plot.bar(figsize = (18,6), grid = True, rot=0, color= stars_colors, title = 'Level/Rank')\n",
    "plt.show()"
   ]
  },
  {
   "cell_type": "markdown",
   "id": "6a08e2b8",
   "metadata": {},
   "source": [
    "#### ATK statistics"
   ]
  },
  {
   "cell_type": "code",
   "execution_count": null,
   "id": "06dc9107",
   "metadata": {
    "ExecuteTime": {
     "end_time": "2022-07-01T21:12:32.550914Z",
     "start_time": "2022-07-01T21:12:32.396274Z"
    }
   },
   "outputs": [],
   "source": [
    "formatted_monster_df[['Level/Rank','ATK']].apply(pd.to_numeric, errors = 'coerce').dropna().astype(int).groupby('Level/Rank').describe()"
   ]
  },
  {
   "cell_type": "markdown",
   "id": "b8a04916",
   "metadata": {},
   "source": [
    "#### DEF statistics"
   ]
  },
  {
   "cell_type": "code",
   "execution_count": null,
   "id": "cc005e78",
   "metadata": {
    "ExecuteTime": {
     "end_time": "2022-07-01T21:12:32.776020Z",
     "start_time": "2022-07-01T21:12:32.558673Z"
    }
   },
   "outputs": [],
   "source": [
    "formatted_monster_df[['Level/Rank','DEF']].apply(pd.to_numeric, errors = 'coerce').dropna().astype(int).groupby('Level/Rank').describe()"
   ]
  },
  {
   "cell_type": "markdown",
   "id": "4029a29d",
   "metadata": {},
   "source": [
    "### Pendulum scale"
   ]
  },
  {
   "cell_type": "code",
   "execution_count": null,
   "id": "9db07376",
   "metadata": {
    "ExecuteTime": {
     "end_time": "2022-07-01T21:12:32.910996Z",
     "start_time": "2022-07-01T21:12:32.785588Z"
    }
   },
   "outputs": [],
   "source": [
    "formatted_monster_df.drop(columns=['Card type', 'Link', 'Link Arrows']).groupby('Pendulum Scale').nunique().sort_index(key=lambda x: pd.to_numeric(x, errors = 'coerce'))"
   ]
  },
  {
   "cell_type": "code",
   "execution_count": null,
   "id": "331eba0b",
   "metadata": {
    "ExecuteTime": {
     "end_time": "2022-07-01T21:12:33.404120Z",
     "start_time": "2022-07-01T21:12:32.916558Z"
    }
   },
   "outputs": [],
   "source": [
    "scales_colors = card_colors['Pendulum Monster']\n",
    "formatted_monster_df['Pendulum Scale'].value_counts().sort_index(key=lambda x: pd.to_numeric(x, errors = 'coerce')).plot.bar(figsize = (18,6), grid = True, rot=0, color = scales_colors, title = 'Pendulum scale')\n",
    "plt.show()"
   ]
  },
  {
   "cell_type": "markdown",
   "id": "c4cee785",
   "metadata": {
    "ExecuteTime": {
     "end_time": "2022-06-22T22:39:03.141058Z",
     "start_time": "2022-06-22T22:39:03.135917Z"
    }
   },
   "source": [
    "#### ATK statistics"
   ]
  },
  {
   "cell_type": "code",
   "execution_count": null,
   "id": "75427d69",
   "metadata": {
    "ExecuteTime": {
     "end_time": "2022-07-01T21:12:33.495517Z",
     "start_time": "2022-07-01T21:12:33.408668Z"
    }
   },
   "outputs": [],
   "source": [
    "formatted_monster_df[['Pendulum Scale','ATK']].apply(pd.to_numeric, errors = 'coerce').dropna().astype(int).groupby('Pendulum Scale').describe()"
   ]
  },
  {
   "cell_type": "markdown",
   "id": "3ee4da76",
   "metadata": {
    "ExecuteTime": {
     "end_time": "2022-06-22T22:39:03.141058Z",
     "start_time": "2022-06-22T22:39:03.135917Z"
    }
   },
   "source": [
    "#### DEF statistics"
   ]
  },
  {
   "cell_type": "code",
   "execution_count": null,
   "id": "c474abd4",
   "metadata": {
    "ExecuteTime": {
     "end_time": "2022-07-01T21:12:33.643715Z",
     "start_time": "2022-07-01T21:12:33.503874Z"
    }
   },
   "outputs": [],
   "source": [
    "formatted_monster_df[['Pendulum Scale','DEF']].apply(pd.to_numeric, errors = 'coerce').dropna().astype(int).groupby('Pendulum Scale').describe()"
   ]
  },
  {
   "cell_type": "markdown",
   "id": "87d81ad5",
   "metadata": {
    "ExecuteTime": {
     "end_time": "2022-06-22T22:39:03.141058Z",
     "start_time": "2022-06-22T22:39:03.135917Z"
    }
   },
   "source": [
    "#### Level/Rank statistics"
   ]
  },
  {
   "cell_type": "code",
   "execution_count": null,
   "id": "027c9b3e",
   "metadata": {
    "ExecuteTime": {
     "end_time": "2022-07-01T21:12:33.752088Z",
     "start_time": "2022-07-01T21:12:33.651711Z"
    }
   },
   "outputs": [],
   "source": [
    "formatted_monster_df[['Pendulum Scale','Level/Rank']].apply(pd.to_numeric, errors = 'coerce').dropna().astype(int).groupby('Pendulum Scale').describe()"
   ]
  },
  {
   "cell_type": "markdown",
   "id": "93f3aba0",
   "metadata": {},
   "source": [
    "### Link"
   ]
  },
  {
   "cell_type": "code",
   "execution_count": null,
   "id": "3ba56226",
   "metadata": {
    "ExecuteTime": {
     "end_time": "2022-07-01T21:12:33.843295Z",
     "start_time": "2022-07-01T21:12:33.756373Z"
    }
   },
   "outputs": [],
   "source": [
    "formatted_monster_df.drop(columns=['Card type', 'Primary type', 'Secondary type','Level/Rank','DEF','Pendulum Scale']).groupby('Link').nunique().sort_index(key=lambda x: pd.to_numeric(x, errors = 'coerce'))"
   ]
  },
  {
   "cell_type": "code",
   "execution_count": null,
   "id": "3afbb00a",
   "metadata": {
    "ExecuteTime": {
     "end_time": "2022-07-01T21:12:34.048728Z",
     "start_time": "2022-07-01T21:12:33.848246Z"
    }
   },
   "outputs": [],
   "source": [
    "link_colors = card_colors['Link Monster']\n",
    "formatted_monster_df['Link'].value_counts().sort_index(key=lambda x: pd.to_numeric(x, errors = 'coerce')).plot.bar(figsize = (18,6), grid = True, rot=0, color = link_colors, title='Link')\n",
    "plt.show()"
   ]
  },
  {
   "cell_type": "markdown",
   "id": "5f20abde",
   "metadata": {
    "ExecuteTime": {
     "end_time": "2022-06-22T22:39:03.141058Z",
     "start_time": "2022-06-22T22:39:03.135917Z"
    }
   },
   "source": [
    "#### ATK statistics"
   ]
  },
  {
   "cell_type": "code",
   "execution_count": null,
   "id": "c80d9372",
   "metadata": {
    "ExecuteTime": {
     "end_time": "2022-07-01T21:12:34.142768Z",
     "start_time": "2022-07-01T21:12:34.053095Z"
    }
   },
   "outputs": [],
   "source": [
    "formatted_monster_df[['Link','ATK']].apply(pd.to_numeric, errors = 'coerce').dropna().astype(int).groupby('Link').describe()"
   ]
  },
  {
   "cell_type": "markdown",
   "id": "f585a876",
   "metadata": {},
   "source": [
    "### Link Arrows"
   ]
  },
  {
   "cell_type": "markdown",
   "id": "b1373514",
   "metadata": {},
   "source": [
    "#### By combination"
   ]
  },
  {
   "cell_type": "code",
   "execution_count": null,
   "id": "1130304f",
   "metadata": {
    "ExecuteTime": {
     "end_time": "2022-07-01T21:12:34.187822Z",
     "start_time": "2022-07-01T21:12:34.163675Z"
    }
   },
   "outputs": [],
   "source": [
    "print('Total number of link arrow combinations:', formatted_monster_df['Link Arrows'].nunique())"
   ]
  },
  {
   "cell_type": "code",
   "execution_count": null,
   "id": "7acfc7a1",
   "metadata": {
    "ExecuteTime": {
     "end_time": "2022-07-01T21:12:34.304300Z",
     "start_time": "2022-07-01T21:12:34.191561Z"
    }
   },
   "outputs": [],
   "source": [
    "formatted_monster_df.drop(columns=['Card type', 'Primary type', 'Level/Rank', 'Pendulum Scale', 'Link', 'Secondary type', 'DEF']).groupby('Link Arrows').nunique()"
   ]
  },
  {
   "cell_type": "code",
   "execution_count": null,
   "id": "66c65c93",
   "metadata": {
    "ExecuteTime": {
     "end_time": "2022-07-01T21:12:35.911624Z",
     "start_time": "2022-07-01T21:12:34.308533Z"
    }
   },
   "outputs": [],
   "source": [
    "arrows_colors = card_colors['Link Monster']\n",
    "formatted_monster_df['Link Arrows'].value_counts().plot.barh(figsize = (10,20), grid = True, color = arrows_colors, title = 'Link arrows combinations')\n",
    "plt.show()"
   ]
  },
  {
   "cell_type": "markdown",
   "id": "aa520eaf",
   "metadata": {},
   "source": [
    "#### By unique"
   ]
  },
  {
   "cell_type": "code",
   "execution_count": null,
   "id": "85cda4e5",
   "metadata": {
    "ExecuteTime": {
     "end_time": "2022-07-01T21:12:35.957957Z",
     "start_time": "2022-07-01T21:12:35.915855Z"
    }
   },
   "outputs": [],
   "source": [
    "formatted_monster_df[formatted_monster_df['Link Arrows'].notna()].drop(columns=['Card type', 'Primary type', 'Level/Rank', 'Pendulum Scale', 'Secondary type', 'DEF']).explode('Link Arrows').groupby('Link Arrows').nunique()"
   ]
  },
  {
   "cell_type": "code",
   "execution_count": null,
   "id": "c3161d6e",
   "metadata": {
    "ExecuteTime": {
     "end_time": "2022-07-01T21:12:36.370702Z",
     "start_time": "2022-07-01T21:12:35.987068Z"
    }
   },
   "outputs": [],
   "source": [
    "arrows_colors_b = card_colors['Link Monster']\n",
    "formatted_monster_df['Link Arrows'].explode('Link Arrows').value_counts().plot.bar(figsize = (18,6), grid = True, color = arrows_colors_b, title = 'Link arrows')\n",
    "plt.show()"
   ]
  },
  {
   "cell_type": "markdown",
   "id": "e36f6792",
   "metadata": {},
   "source": [
    "#### By link"
   ]
  },
  {
   "cell_type": "code",
   "execution_count": null,
   "id": "8a6b3372",
   "metadata": {
    "ExecuteTime": {
     "end_time": "2022-07-01T21:12:36.420924Z",
     "start_time": "2022-07-01T21:12:36.383183Z"
    }
   },
   "outputs": [],
   "source": [
    "arrow_per_link = formatted_monster_df[['Link Arrows','Link']].explode('Link Arrows').dropna()\n",
    "arrow_crosstab = pd.crosstab(arrow_per_link['Link Arrows'],arrow_per_link['Link'])\n",
    "arrow_crosstab"
   ]
  },
  {
   "cell_type": "code",
   "execution_count": null,
   "id": "a22dab12",
   "metadata": {
    "ExecuteTime": {
     "end_time": "2022-07-01T21:12:37.051189Z",
     "start_time": "2022-07-01T21:12:36.425900Z"
    }
   },
   "outputs": [],
   "source": [
    "plt.figure(figsize = (10,6))\n",
    "sns.heatmap(arrow_crosstab[arrow_crosstab>0].T, annot=True, fmt=\"g\", cmap='viridis', square=True, norm=LogNorm())\n",
    "plt.show()"
   ]
  },
  {
   "cell_type": "markdown",
   "id": "bb0bbf58",
   "metadata": {},
   "source": [
    "## Spell & Trap"
   ]
  },
  {
   "cell_type": "markdown",
   "id": "f47b1472",
   "metadata": {},
   "source": [
    "### Properties"
   ]
  },
  {
   "cell_type": "code",
   "execution_count": null,
   "id": "fdd7cb44",
   "metadata": {
    "ExecuteTime": {
     "end_time": "2022-07-01T21:12:37.067178Z",
     "start_time": "2022-07-01T21:12:37.055566Z"
    }
   },
   "outputs": [],
   "source": [
    "print('Total number of properties:', formatted_st_df['Property'].nunique())"
   ]
  },
  {
   "cell_type": "code",
   "execution_count": null,
   "id": "52c0aa20",
   "metadata": {
    "ExecuteTime": {
     "end_time": "2022-07-01T21:12:37.111015Z",
     "start_time": "2022-07-01T21:12:37.073633Z"
    },
    "scrolled": true
   },
   "outputs": [],
   "source": [
    "formatted_st_df.drop(columns=['Card type']).groupby('Property').nunique()"
   ]
  },
  {
   "cell_type": "code",
   "execution_count": null,
   "id": "cd537db7",
   "metadata": {
    "ExecuteTime": {
     "end_time": "2022-07-01T21:12:37.406845Z",
     "start_time": "2022-07-01T21:12:37.118654Z"
    }
   },
   "outputs": [],
   "source": [
    "st_colors = [card_colors[i] for i in formatted_full_df[['Card type','Property']].value_counts().index.get_level_values(0)]\n",
    "formatted_st_df['Property'].value_counts().plot.bar(figsize = (18,6), grid = True, rot=45, color = st_colors, title = 'Property')\n",
    "plt.show()"
   ]
  },
  {
   "cell_type": "markdown",
   "id": "eab733b7",
   "metadata": {},
   "source": [
    "### Effect type"
   ]
  },
  {
   "cell_type": "code",
   "execution_count": null,
   "id": "f955ec1d",
   "metadata": {
    "ExecuteTime": {
     "end_time": "2022-07-01T21:12:37.437566Z",
     "start_time": "2022-07-01T21:12:37.417660Z"
    }
   },
   "outputs": [],
   "source": [
    "print('Total number of effect types:', formatted_st_df['Effect type'].explode().nunique())"
   ]
  },
  {
   "cell_type": "code",
   "execution_count": null,
   "id": "9e0f62a2",
   "metadata": {
    "ExecuteTime": {
     "end_time": "2022-07-01T21:12:37.516569Z",
     "start_time": "2022-07-01T21:12:37.444585Z"
    }
   },
   "outputs": [],
   "source": [
    "formatted_st_df.explode('Effect type').groupby('Effect type').nunique()"
   ]
  },
  {
   "cell_type": "markdown",
   "id": "64868037",
   "metadata": {},
   "source": [
    "#### Spell & Trap discrimination"
   ]
  },
  {
   "cell_type": "code",
   "execution_count": null,
   "id": "75843f9d",
   "metadata": {
    "ExecuteTime": {
     "end_time": "2022-07-01T21:12:37.554183Z",
     "start_time": "2022-07-01T21:12:37.523926Z"
    }
   },
   "outputs": [],
   "source": [
    "spell = formatted_spell_df['Effect type'].explode('Effect type').value_counts().rename('Spell Card')\n",
    "trap = formatted_trap_df['Effect type'].explode('Effect type').value_counts().rename('Trap Card')\n",
    "st_diff = pd.concat([spell, trap], axis = 1).fillna(0).astype(int)\n",
    "st_diff"
   ]
  },
  {
   "cell_type": "code",
   "execution_count": null,
   "id": "373757a0",
   "metadata": {
    "ExecuteTime": {
     "end_time": "2022-07-01T21:12:37.962568Z",
     "start_time": "2022-07-01T21:12:37.558994Z"
    }
   },
   "outputs": [],
   "source": [
    "st_diff_colors = {'Spell Card': card_colors['Spell Card'], 'Trap Card': card_colors['Trap Card']}\n",
    "st_diff.plot.bar(figsize = (18,6), stacked = True, grid = True, rot=45, color = st_diff_colors, title = 'Effect type')\n",
    "plt.show()"
   ]
  },
  {
   "cell_type": "markdown",
   "id": "0013b7c7",
   "metadata": {},
   "source": [
    "## Archseries"
   ]
  },
  {
   "cell_type": "code",
   "execution_count": null,
   "id": "ce1470dc",
   "metadata": {
    "ExecuteTime": {
     "end_time": "2022-07-01T21:12:38.036921Z",
     "start_time": "2022-07-01T21:12:37.969388Z"
    }
   },
   "outputs": [],
   "source": [
    "exploded_archseries = formatted_full_df.explode('Archseries')\n",
    "print('Total number of Archseries:', exploded_archseries['Archseries'].nunique())"
   ]
  },
  {
   "cell_type": "code",
   "execution_count": null,
   "id": "f31c5b8c",
   "metadata": {
    "ExecuteTime": {
     "end_time": "2022-07-01T21:12:38.147176Z",
     "start_time": "2022-07-01T21:12:38.042797Z"
    }
   },
   "outputs": [],
   "source": [
    "exploded_archseries.groupby('Archseries').nunique()"
   ]
  },
  {
   "cell_type": "code",
   "execution_count": null,
   "id": "00c9f321",
   "metadata": {
    "ExecuteTime": {
     "end_time": "2022-07-01T21:12:50.784087Z",
     "start_time": "2022-07-01T21:12:38.157719Z"
    },
    "scrolled": true
   },
   "outputs": [],
   "source": [
    "exploded_archseries['Archseries'].value_counts().plot.barh(figsize = (10,200), grid = True, title = 'Archtypes/Series')\n",
    "plt.show()"
   ]
  },
  {
   "cell_type": "markdown",
   "id": "cf3bf55f",
   "metadata": {},
   "source": [
    "### By card type"
   ]
  },
  {
   "cell_type": "code",
   "execution_count": null,
   "id": "fbf65c3c",
   "metadata": {
    "ExecuteTime": {
     "end_time": "2022-07-01T21:12:50.932015Z",
     "start_time": "2022-07-01T21:12:50.790401Z"
    }
   },
   "outputs": [],
   "source": [
    "archseries_crosstab = pd.crosstab(exploded_archseries['Archseries'],exploded_archseries['Card type'], margins = True)\n",
    "archseries_crosstab"
   ]
  },
  {
   "cell_type": "markdown",
   "id": "960ea110",
   "metadata": {},
   "source": [
    "### By primary type"
   ]
  },
  {
   "cell_type": "code",
   "execution_count": null,
   "id": "2c3671f0",
   "metadata": {
    "ExecuteTime": {
     "end_time": "2022-07-01T21:12:51.058567Z",
     "start_time": "2022-07-01T21:12:50.936106Z"
    }
   },
   "outputs": [],
   "source": [
    "archseries_crosstab_b = pd.crosstab(exploded_archseries['Archseries'],exploded_archseries['Primary type'], margins = True)\n",
    "archseries_crosstab_b"
   ]
  },
  {
   "cell_type": "markdown",
   "id": "6de5fdac",
   "metadata": {},
   "source": [
    "\n",
    "\n",
    "### By secondary type"
   ]
  },
  {
   "cell_type": "code",
   "execution_count": null,
   "id": "966a00dd",
   "metadata": {
    "ExecuteTime": {
     "end_time": "2022-07-01T21:12:51.140448Z",
     "start_time": "2022-07-01T21:12:51.063594Z"
    }
   },
   "outputs": [],
   "source": [
    "archseries_crosstab_c = pd.crosstab(exploded_archseries['Archseries'],exploded_archseries['Secondary type'], margins = True)\n",
    "archseries_crosstab_c"
   ]
  },
  {
   "cell_type": "markdown",
   "id": "a881d945",
   "metadata": {},
   "source": [
    "### By monster type"
   ]
  },
  {
   "cell_type": "code",
   "execution_count": null,
   "id": "d99ee9e1",
   "metadata": {
    "ExecuteTime": {
     "end_time": "2022-07-01T21:12:51.333399Z",
     "start_time": "2022-07-01T21:12:51.146255Z"
    }
   },
   "outputs": [],
   "source": [
    "archseries_crosstab_d = pd.crosstab(exploded_archseries['Archseries'],exploded_archseries['Monster type'], margins = True)\n",
    "archseries_crosstab_d"
   ]
  },
  {
   "cell_type": "markdown",
   "id": "f97ab388",
   "metadata": {},
   "source": [
    "### By property"
   ]
  },
  {
   "cell_type": "code",
   "execution_count": null,
   "id": "fbbb1ccc",
   "metadata": {
    "ExecuteTime": {
     "end_time": "2022-07-01T21:12:51.454216Z",
     "start_time": "2022-07-01T21:12:51.338890Z"
    }
   },
   "outputs": [],
   "source": [
    "archseries_crosstab_e = pd.crosstab(exploded_archseries['Archseries'],exploded_archseries['Property'], margins = True)\n",
    "archseries_crosstab_e"
   ]
  },
  {
   "cell_type": "markdown",
   "id": "554f6e74",
   "metadata": {},
   "source": [
    "## Artworks"
   ]
  },
  {
   "cell_type": "code",
   "execution_count": null,
   "id": "2224e061",
   "metadata": {
    "ExecuteTime": {
     "end_time": "2022-07-01T21:12:51.466709Z",
     "start_time": "2022-07-01T21:12:51.458637Z"
    }
   },
   "outputs": [],
   "source": [
    "print('Total number of cards with edited or alternate artworks:', formatted_full_df['Artwork'].count())"
   ]
  },
  {
   "cell_type": "code",
   "execution_count": null,
   "id": "f7492a67",
   "metadata": {
    "ExecuteTime": {
     "end_time": "2022-07-01T21:12:51.503958Z",
     "start_time": "2022-07-01T21:12:51.471903Z"
    }
   },
   "outputs": [],
   "source": [
    "formatted_full_df[['Name','Password','TCG status','OCG status','Artwork']][formatted_full_df['Artwork'].notna()]"
   ]
  },
  {
   "cell_type": "code",
   "execution_count": null,
   "id": "fa1ea6aa",
   "metadata": {
    "ExecuteTime": {
     "end_time": "2022-07-01T21:12:51.668046Z",
     "start_time": "2022-07-01T21:12:51.508524Z"
    }
   },
   "outputs": [],
   "source": [
    "artwork_value_counts = formatted_full_df['Artwork'].value_counts()\n",
    "plt.figure(figsize=(20,8))\n",
    "plt.title('Artworks')\n",
    "venn2(subsets = (artwork_value_counts[('Alternate',)], artwork_value_counts[('Edited',)],artwork_value_counts[('Alternate','Edited')]), set_labels = ('Alternate artwork', 'Edited artwork'))\n",
    "plt.show()"
   ]
  },
  {
   "cell_type": "markdown",
   "id": "e49df5df",
   "metadata": {},
   "source": [
    "### By card type"
   ]
  },
  {
   "cell_type": "code",
   "execution_count": null,
   "id": "1b14c224",
   "metadata": {
    "ExecuteTime": {
     "end_time": "2022-07-01T21:12:51.704995Z",
     "start_time": "2022-07-01T21:12:51.671032Z"
    }
   },
   "outputs": [],
   "source": [
    "artwork_crosstab = pd.crosstab(formatted_full_df['Artwork'], formatted_full_df['Card type'])\n",
    "artwork_crosstab"
   ]
  },
  {
   "cell_type": "markdown",
   "id": "81afa2df",
   "metadata": {},
   "source": [
    "### By primary type"
   ]
  },
  {
   "cell_type": "code",
   "execution_count": null,
   "id": "55081aa0",
   "metadata": {
    "ExecuteTime": {
     "end_time": "2022-07-01T21:12:51.744631Z",
     "start_time": "2022-07-01T21:12:51.708833Z"
    }
   },
   "outputs": [],
   "source": [
    "artwork_crosstab_b = pd.crosstab(formatted_full_df['Artwork'], formatted_full_df['Primary type'])\n",
    "artwork_crosstab_b"
   ]
  },
  {
   "cell_type": "markdown",
   "id": "14a90117",
   "metadata": {},
   "source": [
    "More granularity is unnecessary"
   ]
  },
  {
   "cell_type": "markdown",
   "id": "5210d61b",
   "metadata": {},
   "source": [
    "## Errata"
   ]
  },
  {
   "cell_type": "code",
   "execution_count": null,
   "id": "09b33100",
   "metadata": {
    "ExecuteTime": {
     "end_time": "2022-07-01T21:12:51.759667Z",
     "start_time": "2022-07-01T21:12:51.751101Z"
    }
   },
   "outputs": [],
   "source": [
    "print('Total number of cards with name or type errata:', formatted_full_df['Errata'].count())"
   ]
  },
  {
   "cell_type": "code",
   "execution_count": null,
   "id": "40462eee",
   "metadata": {
    "ExecuteTime": {
     "end_time": "2022-07-01T21:12:51.794135Z",
     "start_time": "2022-07-01T21:12:51.764594Z"
    }
   },
   "outputs": [],
   "source": [
    "formatted_full_df[['Name','Password','TCG status','OCG status','Errata']][formatted_full_df['Errata'].notna()]"
   ]
  },
  {
   "cell_type": "code",
   "execution_count": null,
   "id": "60843a4f",
   "metadata": {
    "ExecuteTime": {
     "end_time": "2022-07-01T21:12:51.959753Z",
     "start_time": "2022-07-01T21:12:51.798810Z"
    }
   },
   "outputs": [],
   "source": [
    "errata_value_counts = formatted_full_df['Errata'].value_counts()\n",
    "plt.figure(figsize=(20,8))\n",
    "plt.title('Errata')\n",
    "venn2(subsets = (errata_value_counts[('Name',)], errata_value_counts[('Type',)],errata_value_counts[('Name','Type')]), set_labels = ('Name Errata', 'Type errata'))\n",
    "plt.show()"
   ]
  },
  {
   "cell_type": "markdown",
   "id": "a3703983",
   "metadata": {},
   "source": [
    "### By card type"
   ]
  },
  {
   "cell_type": "code",
   "execution_count": null,
   "id": "fb103c29",
   "metadata": {
    "ExecuteTime": {
     "end_time": "2022-07-01T21:12:52.004102Z",
     "start_time": "2022-07-01T21:12:51.967330Z"
    }
   },
   "outputs": [],
   "source": [
    "errata_crosstab = pd.crosstab(formatted_full_df['Errata'], formatted_full_df['Card type'])\n",
    "errata_crosstab"
   ]
  },
  {
   "cell_type": "markdown",
   "id": "36d241f1",
   "metadata": {},
   "source": [
    "### By primary type"
   ]
  },
  {
   "cell_type": "code",
   "execution_count": null,
   "id": "5b90628d",
   "metadata": {
    "ExecuteTime": {
     "end_time": "2022-07-01T21:12:52.042556Z",
     "start_time": "2022-07-01T21:12:52.009301Z"
    }
   },
   "outputs": [],
   "source": [
    "errata_crosstab_b = pd.crosstab(formatted_full_df['Errata'], formatted_full_df['Primary type'])\n",
    "errata_crosstab_b"
   ]
  },
  {
   "cell_type": "markdown",
   "id": "0029e1ca",
   "metadata": {},
   "source": [
    "More granularity is unnecessary"
   ]
  },
  {
   "cell_type": "markdown",
   "id": "35d88dda",
   "metadata": {},
   "source": [
    "### By artwork"
   ]
  },
  {
   "cell_type": "code",
   "execution_count": null,
   "id": "0057def3",
   "metadata": {
    "ExecuteTime": {
     "end_time": "2022-07-01T21:12:52.078569Z",
     "start_time": "2022-07-01T21:12:52.048132Z"
    }
   },
   "outputs": [],
   "source": [
    "errata_crosstab_c = pd.crosstab(formatted_full_df['Artwork'], formatted_full_df['Errata'])\n",
    "errata_crosstab_c"
   ]
  },
  {
   "cell_type": "markdown",
   "id": "edef3194",
   "metadata": {},
   "source": [
    "## TCG & OCG status"
   ]
  },
  {
   "cell_type": "markdown",
   "id": "3e7505cd",
   "metadata": {},
   "source": [
    "### TGC status"
   ]
  },
  {
   "cell_type": "code",
   "execution_count": null,
   "id": "88b93fca",
   "metadata": {
    "ExecuteTime": {
     "end_time": "2022-07-01T21:12:52.097007Z",
     "start_time": "2022-07-01T21:12:52.083351Z"
    }
   },
   "outputs": [],
   "source": [
    "print('Total number of TCG status:', formatted_full_df['TCG status'].nunique())"
   ]
  },
  {
   "cell_type": "code",
   "execution_count": null,
   "id": "2c69bec0",
   "metadata": {
    "ExecuteTime": {
     "end_time": "2022-07-01T21:12:52.212507Z",
     "start_time": "2022-07-01T21:12:52.103537Z"
    }
   },
   "outputs": [],
   "source": [
    "formatted_full_df.groupby('TCG status', dropna=False).nunique()"
   ]
  },
  {
   "cell_type": "code",
   "execution_count": null,
   "id": "add82403",
   "metadata": {
    "ExecuteTime": {
     "end_time": "2022-07-01T21:12:52.802041Z",
     "start_time": "2022-07-01T21:12:52.217010Z"
    }
   },
   "outputs": [],
   "source": [
    "formatted_full_df['TCG status'].value_counts(dropna = False).plot.bar(figsize = (18,6), logy=True, grid = True, rot=45, title = 'TCG status')\n",
    "plt.show()"
   ]
  },
  {
   "cell_type": "markdown",
   "id": "f6b985a0",
   "metadata": {},
   "source": [
    "#### By card type"
   ]
  },
  {
   "cell_type": "code",
   "execution_count": null,
   "id": "12c444ed",
   "metadata": {
    "ExecuteTime": {
     "end_time": "2022-07-01T21:12:52.843402Z",
     "start_time": "2022-07-01T21:12:52.805162Z"
    }
   },
   "outputs": [],
   "source": [
    "# Remove unlimited\n",
    "tcg_crosstab = pd.crosstab(formatted_full_df['Card type'], formatted_full_df['TCG status']).drop(['Unlimited'], axis=1)\n",
    "tcg_crosstab"
   ]
  },
  {
   "cell_type": "code",
   "execution_count": null,
   "id": "8648b51e",
   "metadata": {
    "ExecuteTime": {
     "end_time": "2022-07-01T21:12:53.358377Z",
     "start_time": "2022-07-01T21:12:52.848083Z"
    }
   },
   "outputs": [],
   "source": [
    "plt.figure(figsize = (12,6))\n",
    "sns.heatmap(tcg_crosstab[tcg_crosstab>0], annot=True, fmt=\"g\", cmap='viridis', norm=LogNorm())\n",
    "plt.show()"
   ]
  },
  {
   "cell_type": "markdown",
   "id": "521f367b",
   "metadata": {},
   "source": [
    "#### By monster type"
   ]
  },
  {
   "cell_type": "code",
   "execution_count": null,
   "id": "bb73564f",
   "metadata": {
    "ExecuteTime": {
     "end_time": "2022-07-01T21:12:53.414722Z",
     "start_time": "2022-07-01T21:12:53.364978Z"
    }
   },
   "outputs": [],
   "source": [
    "# Remove unlimited\n",
    "tcg_crosstab_b = pd.crosstab(formatted_full_df['Monster type'], formatted_full_df['TCG status']).drop(['Unlimited'], axis=1)\n",
    "tcg_crosstab_b"
   ]
  },
  {
   "cell_type": "code",
   "execution_count": null,
   "id": "dd5e826c",
   "metadata": {
    "ExecuteTime": {
     "end_time": "2022-07-01T21:12:54.981807Z",
     "start_time": "2022-07-01T21:12:53.421447Z"
    }
   },
   "outputs": [],
   "source": [
    "plt.figure(figsize = (20,5))\n",
    "sns.heatmap(tcg_crosstab_b[tcg_crosstab_b>0].T, annot=True, fmt=\"g\", cmap='viridis', square = True)\n",
    "plt.show()"
   ]
  },
  {
   "cell_type": "markdown",
   "id": "b0e7d771",
   "metadata": {},
   "source": [
    "#### By archseries"
   ]
  },
  {
   "cell_type": "code",
   "execution_count": null,
   "id": "05fc1f77",
   "metadata": {
    "ExecuteTime": {
     "end_time": "2022-07-01T21:12:55.065456Z",
     "start_time": "2022-07-01T21:12:54.986402Z"
    }
   },
   "outputs": [],
   "source": [
    "# Remove unlimited\n",
    "tcg_crosstab_c = pd.crosstab(exploded_archseries['Archseries'].where(exploded_archseries['OCG status']!='Unlimited'), exploded_archseries['TCG status'], margins = True)\n",
    "tcg_crosstab_c"
   ]
  },
  {
   "cell_type": "markdown",
   "id": "af202b20",
   "metadata": {},
   "source": [
    "### OCG status"
   ]
  },
  {
   "cell_type": "code",
   "execution_count": null,
   "id": "0b01a31b",
   "metadata": {
    "ExecuteTime": {
     "end_time": "2022-07-01T21:12:55.084015Z",
     "start_time": "2022-07-01T21:12:55.071601Z"
    }
   },
   "outputs": [],
   "source": [
    "print('Total number of OCG status:', formatted_full_df['OCG status'].nunique())"
   ]
  },
  {
   "cell_type": "code",
   "execution_count": null,
   "id": "13b7b5c8",
   "metadata": {
    "ExecuteTime": {
     "end_time": "2022-07-01T21:12:55.216526Z",
     "start_time": "2022-07-01T21:12:55.089887Z"
    }
   },
   "outputs": [],
   "source": [
    "formatted_full_df.groupby('OCG status', dropna=False).nunique()"
   ]
  },
  {
   "cell_type": "code",
   "execution_count": null,
   "id": "baff20b2",
   "metadata": {
    "ExecuteTime": {
     "end_time": "2022-07-01T21:12:55.907710Z",
     "start_time": "2022-07-01T21:12:55.226271Z"
    }
   },
   "outputs": [],
   "source": [
    "formatted_full_df['OCG status'].value_counts(dropna = False).plot.bar(figsize = (18,6), logy=True, grid = True, rot=45, title = 'TCG status')\n",
    "plt.show()"
   ]
  },
  {
   "cell_type": "markdown",
   "id": "5c4bf980",
   "metadata": {},
   "source": [
    "#### By card type"
   ]
  },
  {
   "cell_type": "code",
   "execution_count": null,
   "id": "4863280e",
   "metadata": {
    "ExecuteTime": {
     "end_time": "2022-07-01T21:12:55.958687Z",
     "start_time": "2022-07-01T21:12:55.911575Z"
    }
   },
   "outputs": [],
   "source": [
    "# Remove unlimited\n",
    "ocg_crosstab = pd.crosstab(formatted_full_df['Card type'], formatted_full_df['OCG status']).drop(['Unlimited'], axis=1)\n",
    "ocg_crosstab"
   ]
  },
  {
   "cell_type": "code",
   "execution_count": null,
   "id": "e8489887",
   "metadata": {
    "ExecuteTime": {
     "end_time": "2022-07-01T21:12:57.104178Z",
     "start_time": "2022-07-01T21:12:55.965080Z"
    }
   },
   "outputs": [],
   "source": [
    "plt.figure(figsize = (12,6))\n",
    "sns.heatmap(ocg_crosstab[ocg_crosstab>0], annot=True, fmt=\"g\", cmap='viridis')\n",
    "plt.show()"
   ]
  },
  {
   "cell_type": "markdown",
   "id": "32f682d2",
   "metadata": {},
   "source": [
    "#### By monster type"
   ]
  },
  {
   "cell_type": "code",
   "execution_count": null,
   "id": "3dbadcb8",
   "metadata": {
    "ExecuteTime": {
     "end_time": "2022-07-01T21:12:57.159827Z",
     "start_time": "2022-07-01T21:12:57.109507Z"
    }
   },
   "outputs": [],
   "source": [
    "ocg_crosstab_b = pd.crosstab(formatted_full_df['Monster type'], formatted_full_df['OCG status']).drop(['Unlimited'], axis=1)\n",
    "ocg_crosstab_b"
   ]
  },
  {
   "cell_type": "code",
   "execution_count": null,
   "id": "4743b0c1",
   "metadata": {
    "ExecuteTime": {
     "end_time": "2022-07-01T21:12:58.834560Z",
     "start_time": "2022-07-01T21:12:57.165410Z"
    }
   },
   "outputs": [],
   "source": [
    "plt.figure(figsize = (20,5))\n",
    "sns.heatmap(ocg_crosstab_b[ocg_crosstab_b>0].T, annot=True, fmt=\"g\", cmap='viridis', square = True)\n",
    "plt.show()"
   ]
  },
  {
   "cell_type": "markdown",
   "id": "19d9067b",
   "metadata": {},
   "source": [
    "#### By archseries"
   ]
  },
  {
   "cell_type": "code",
   "execution_count": null,
   "id": "d866a6e2",
   "metadata": {
    "ExecuteTime": {
     "end_time": "2022-07-01T21:12:58.912095Z",
     "start_time": "2022-07-01T21:12:58.839653Z"
    }
   },
   "outputs": [],
   "source": [
    "# Remove unlimited\n",
    "ocg_crosstab_c = pd.crosstab(exploded_archseries['Archseries'].where(exploded_archseries['OCG status']!='Unlimited'), exploded_archseries['OCG status'], margins = True)\n",
    "ocg_crosstab_c"
   ]
  },
  {
   "cell_type": "markdown",
   "id": "c5b33198",
   "metadata": {},
   "source": [
    "### TCG vs. OCG status"
   ]
  },
  {
   "cell_type": "code",
   "execution_count": null,
   "id": "14f2101b",
   "metadata": {
    "ExecuteTime": {
     "end_time": "2022-07-01T21:12:58.952963Z",
     "start_time": "2022-07-01T21:12:58.917637Z"
    }
   },
   "outputs": [],
   "source": [
    "cg_crosstab = pd.crosstab(formatted_full_df['OCG status'],formatted_full_df['TCG status'], dropna=False, margins = False)\n",
    "cg_crosstab"
   ]
  },
  {
   "cell_type": "code",
   "execution_count": null,
   "id": "d10c5c81",
   "metadata": {
    "ExecuteTime": {
     "end_time": "2022-07-01T21:12:59.733097Z",
     "start_time": "2022-07-01T21:12:58.957359Z"
    }
   },
   "outputs": [],
   "source": [
    "plt.figure(figsize = (10,8))\n",
    "sns.heatmap(cg_crosstab[cg_crosstab>0], annot=True, fmt=\"g\", cmap='viridis', square=True, norm=LogNorm())\n",
    "plt.show()"
   ]
  },
  {
   "cell_type": "markdown",
   "id": "fade81da",
   "metadata": {
    "tags": []
   },
   "source": [
    "# HTML export"
   ]
  },
  {
   "cell_type": "code",
   "execution_count": null,
   "id": "de556e8b",
   "metadata": {
    "ExecuteTime": {
     "end_time": "2022-07-01T21:18:36.268389Z",
     "start_time": "2022-07-01T21:18:31.435698Z"
    },
    "tags": [
     "exclude"
    ]
   },
   "outputs": [],
   "source": [
    "! jupyter nbconvert Cards.ipynb --output-dir='../' --to=HTML --TagRemovePreprocessor.enabled=True --TagRemovePreprocessor.remove_cell_tags='exclude' --TemplateExporter.exclude_input=True --TemplateExporter.exclude_input_prompt=True --TemplateExporter.exclude_output_prompt=True"
   ]
  },
  {
   "cell_type": "code",
   "execution_count": null,
   "id": "fe5e05ea-e188-4e26-8c59-428f062b0d89",
   "metadata": {},
   "outputs": [],
   "source": [
    "print('Report exported to HTML')"
   ]
  },
  {
   "cell_type": "markdown",
   "id": "641a7018-0f50-4ab6-b8f3-119a279cbc65",
   "metadata": {
    "tags": []
   },
   "source": [
    "# Git"
   ]
  },
  {
   "cell_type": "code",
   "execution_count": null,
   "id": "cba1eb00-d9c2-491a-95b3-5ce0a0524d59",
   "metadata": {
    "tags": []
   },
   "outputs": [],
   "source": [
    "! git add \"../*[Cc]ards*\""
   ]
  },
  {
   "cell_type": "code",
   "execution_count": null,
   "id": "6f1f8303-30c6-4aaa-b45e-f6d5f5ece30e",
   "metadata": {
    "tags": []
   },
   "outputs": [],
   "source": [
    "! git commit -m {\"'Cards update-\" + pd.Timestamp.now().strftime(\"%d%m%Y\")+\"'\"}"
   ]
  },
  {
   "cell_type": "code",
   "execution_count": null,
   "id": "53e864c0-aa82-4f5d-95ac-b69f45f18fd1",
   "metadata": {
    "tags": [
     "exclude"
    ]
   },
   "outputs": [],
   "source": [
    "! git push"
   ]
  },
  {
   "cell_type": "markdown",
   "id": "95d94158-0922-4085-b2c7-d7fa24f40038",
   "metadata": {
    "tags": []
   },
   "source": [
    "# Searches"
   ]
  },
  {
   "cell_type": "code",
   "execution_count": null,
   "id": "6ca6f265",
   "metadata": {
    "ExecuteTime": {
     "end_time": "2022-07-01T21:13:04.548506Z",
     "start_time": "2022-07-01T21:13:04.489237Z"
    },
    "tags": []
   },
   "outputs": [],
   "source": [
    "formatted_full_df.loc[formatted_full_df['OCG status'] == 'Not yet released'].loc[formatted_full_df['TCG status'] == 'Not yet released']"
   ]
  }
 ],
 "metadata": {
  "kernelspec": {
   "display_name": "Python 3 (ipykernel)",
   "language": "python",
   "name": "python3"
  },
  "language_info": {
   "codemirror_mode": {
    "name": "ipython",
    "version": 3
   },
   "file_extension": ".py",
   "mimetype": "text/x-python",
   "name": "python",
   "nbconvert_exporter": "python",
   "pygments_lexer": "ipython3",
   "version": "3.10.6"
  },
  "toc": {
   "base_numbering": 1,
   "nav_menu": {
    "height": "599px",
    "width": "228px"
   },
   "number_sections": true,
   "sideBar": true,
   "skip_h1_title": false,
   "title_cell": "Table of Contents",
   "title_sidebar": "Contents",
   "toc_cell": true,
   "toc_position": {
    "height": "calc(100% - 180px)",
    "left": "10px",
    "top": "150px",
    "width": "353px"
   },
   "toc_section_display": true,
   "toc_window_display": true
  },
  "toc-autonumbering": false,
  "toc-showcode": false,
  "toc-showmarkdowntxt": false
 },
 "nbformat": 4,
 "nbformat_minor": 5
}
