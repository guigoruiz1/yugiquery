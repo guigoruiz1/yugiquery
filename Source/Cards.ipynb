{
 "cells": [
  {
   "cell_type": "code",
   "execution_count": 1,
   "id": "82c61f6c-3c7a-4460-b466-9c521973fa5d",
   "metadata": {
    "papermill": {
     "duration": 17.053158,
     "end_time": "2023-01-17T16:23:47.291432",
     "exception": false,
     "start_time": "2023-01-17T16:23:30.238274",
     "status": "completed"
    },
    "tags": []
   },
   "outputs": [
    {
     "data": {
      "text/markdown": [
       "<div align='center'>\n",
       "    <br>\n",
       "    <!-- Pre Style needed to fix HTML formatting -->\n",
       "    <pre style=\"line-height: var(--jp-code-line-height); font-family: var(--jp-code-font-family)\">\n",
       "    ██    ██ ██    ██  ██████  ██  ██████  ██    ██ ███████ ██████  ██    ██ \n",
       "     ██  ██  ██    ██ ██       ██ ██    ██ ██    ██ ██      ██   ██  ██  ██  \n",
       "      ████   ██    ██ ██   ███ ██ ██    ██ ██    ██ █████   ██████    ████   \n",
       "       ██    ██    ██ ██    ██ ██ ██ ▄▄ ██ ██    ██ ██      ██   ██    ██    \n",
       "       ██     ██████   ██████  ██  ██████   ██████  ███████ ██   ██    ██    \n",
       "                                      ▀▀                                     \n",
       "    </pre>\n",
       "</div>\n",
       "<div align='right'>\n",
       "    Cards - Execution started 17/01/2023 18:27 UTC <br>\n",
       "    By <b>Guilherme Ruiz</b>\n",
       "</div>"
      ],
      "text/plain": [
       "<IPython.core.display.Markdown object>"
      ]
     },
     "execution_count": 1,
     "metadata": {},
     "output_type": "execute_result"
    }
   ],
   "source": [
    "from yugiquery import *\n",
    "header('Cards')"
   ]
  },
  {
   "cell_type": "markdown",
   "id": "48cd2c04-37eb-408f-86ee-17e204a2cea9",
   "metadata": {
    "papermill": {
     "duration": 0.077911,
     "end_time": "2023-01-17T16:23:47.413347",
     "exception": false,
     "start_time": "2023-01-17T16:23:47.335436",
     "status": "completed"
    },
    "tags": []
   },
   "source": [
    "---"
   ]
  },
  {
   "cell_type": "markdown",
   "id": "6e66c226",
   "metadata": {
    "papermill": {
     "duration": 0.373526,
     "end_time": "2023-01-17T16:23:47.830146",
     "exception": false,
     "start_time": "2023-01-17T16:23:47.456620",
     "status": "completed"
    },
    "tags": [],
    "toc": true
   },
   "source": [
    "Table of Contents\n",
    "=================\n",
    "\n",
    "*   [1  Data aquisition](#Data-aquisition)\n",
    "    *   [1.1  Fetch online data](#Fetch-online-data)\n",
    "    *   [1.2  Merge data](#Merge-data)\n",
    "    *   [1.3  Save data](#Save-data)\n",
    "*   [3  Check changes](#Check-changes)\n",
    "    *   [3.1  Load previous data](#Load-previous-data)\n",
    "    *   [3.2  Generate changelog](#Generate-changelog)\n",
    "*   [4  Data visualization](#Data-visualization)\n",
    "    *   [4.1  Full data](#Full-data)\n",
    "    *   [4.2  Card types](#Card-types)\n",
    "    *   [4.3  Monsters](#Monsters)\n",
    "        *   [4.3.1  Attributes](#Attributes)\n",
    "        *   [4.3.2  Primary types](#Primary-types)\n",
    "            *   [4.3.2.1  Has effect discrimination](#Has-effect-discrimination)\n",
    "            *   [4.3.2.2  Is pendulum discrimination](#Is-pendulum-discrimination)\n",
    "            *   [4.3.2.3  By attribute](#By-attribute)\n",
    "        *   [4.3.3  Secondary types](#Secondary-types)\n",
    "            *   [4.3.3.1  By attribute](#By-attribute)\n",
    "            *   [4.3.3.2  By secondary type](#By-secondary-type)\n",
    "        *   [4.3.4  Monster types](#Monster-types)\n",
    "            *   [4.3.4.1  By Attribute](#By-Attribute)\n",
    "            *   [4.3.4.2  By primary type](#By-primary-type)\n",
    "            *   [4.3.4.3  By secondary type](#By-secondary-type)\n",
    "        *   [4.3.5  Effect type](#Effect-type)\n",
    "        *   [4.3.6  ATK](#ATK)\n",
    "        *   [4.3.7  DEF](#DEF)\n",
    "        *   [4.3.8  Level/Rank](#Level/Rank)\n",
    "            *   [4.3.8.1  ATK statistics](#ATK-statistics)\n",
    "            *   [4.3.8.2  DEF statistics](#DEF-statistics)\n",
    "        *   [4.3.9  Pendulum scale](#Pendulum-scale)\n",
    "            *   [4.3.9.1  ATK statistics](#ATK-statistics)\n",
    "            *   [4.3.9.2  DEF statistics](#DEF-statistics)\n",
    "            *   [4.3.9.3  Level/Rank statistics](#Level/Rank-statistics)\n",
    "        *   [4.3.10  Link](#Link)\n",
    "            *   [4.3.10.1  ATK statistics](#ATK-statistics)\n",
    "        *   [4.3.11  Link Arrows](#Link-Arrows)\n",
    "            *   [4.3.11.1  By combination](#By-combination)\n",
    "            *   [4.3.11.2  By unique](#By-unique)\n",
    "            *   [4.3.11.3  By link](#By-link)\n",
    "    *   [4.4  Spell & Trap](#Spell-&-Trap)\n",
    "        *   [4.4.1  Properties](#Properties)\n",
    "        *   [4.4.2  Effect type](#Effect-type)\n",
    "            *   [4.4.2.1  Spell & Trap discrimination](#Spell-&-Trap-discrimination)\n",
    "    *   [4.5  Archseries](#Archseries)\n",
    "        *   [4.5.1  By card type](#By-card-type)\n",
    "        *   [4.5.2  By primary type](#By-primary-type)\n",
    "        *   [4.5.3  By secondary type](#By-secondary-type)\n",
    "        *   [4.5.4  By monster type](#By-monster-type)\n",
    "        *   [4.5.5  By property](#By-property)\n",
    "    *   [4.6  Artworks](#Artworks)\n",
    "        *   [4.6.1  By card type](#By-card-type)\n",
    "        *   [4.6.2  By primary type](#By-primary-type)\n",
    "    *   [4.7  Errata](#Errata)\n",
    "        *   [4.7.1  By card type](#By-card-type)\n",
    "        *   [4.7.2  By primary type](#By-primary-type)\n",
    "        *   [4.7.3  By artwork](#By-artwork)\n",
    "    *   [4.8  TCG & OCG status](#TCG-&-OCG-status)\n",
    "        *   [4.8.1  TGC status](#TGC-status)\n",
    "            *   [4.8.1.1  By card type](#By-card-type)\n",
    "            *   [4.8.1.2  By monster type](#By-monster-type)\n",
    "            *   [4.8.1.3  By archseries](#By-archseries)\n",
    "        *   [4.8.2  OCG status](#OCG-status)\n",
    "            *   [4.8.2.1  By card type](#By-card-type)\n",
    "            *   [4.8.2.2  By monster type](#By-monster-type)\n",
    "            *   [4.8.2.3  By archseries](#By-archseries)\n",
    "        *   [4.8.3  TCG vs. OCG status](#TCG-vs.-OCG-status)\n",
    "*   [5  Extras](#Extras)\n",
    "    *   [5.1 Not yet released](#Not-yet-released)\n",
    "*   [6  Epilogue](#Epilogue)\n",
    "    *   [6.1  HTML export](#HTML-export)\n",
    "<!-- *   [6.2  Git](#Git) -->"
   ]
  },
  {
   "cell_type": "markdown",
   "id": "b60fae74",
   "metadata": {
    "papermill": {
     "duration": 0.204348,
     "end_time": "2023-01-17T16:23:48.143348",
     "exception": false,
     "start_time": "2023-01-17T16:23:47.939000",
     "status": "completed"
    },
    "tags": []
   },
   "source": [
    "# Data aquisition"
   ]
  },
  {
   "cell_type": "markdown",
   "id": "699f2460",
   "metadata": {
    "papermill": {
     "duration": 0.136878,
     "end_time": "2023-01-17T16:23:48.573638",
     "exception": false,
     "start_time": "2023-01-17T16:23:48.436760",
     "status": "completed"
    },
    "tags": []
   },
   "source": [
    "## Fetch online data"
   ]
  },
  {
   "cell_type": "code",
   "execution_count": 2,
   "id": "135ab538",
   "metadata": {
    "papermill": {
     "duration": 221.689698,
     "end_time": "2023-01-17T16:27:30.438140",
     "exception": false,
     "start_time": "2023-01-17T16:23:48.748442",
     "status": "completed"
    },
    "tags": []
   },
   "outputs": [
    {
     "name": "stdout",
     "output_type": "stream",
     "text": [
      "Downloading monsters\n"
     ]
    },
    {
     "data": {
      "application/vnd.jupyter.widget-view+json": {
       "model_id": "",
       "version_major": 2,
       "version_minor": 0
      },
      "text/plain": [
       "  0%|          | 0/7 [00:00<?, ?attribute/s]"
      ]
     },
     "metadata": {},
     "output_type": "display_data"
    },
    {
     "name": "stdout",
     "output_type": "stream",
     "text": [
      "8047 results\n",
      "\n",
      "Downloading Spells\n",
      "2394 results\n",
      "\n",
      "Downloading Traps\n",
      "1823 results\n",
      "\n",
      "Downloading name errata\n",
      "532 results\n",
      "\n",
      "Downloading type errata\n",
      "719 results\n",
      "\n"
     ]
    }
   ],
   "source": [
    "# Timestamp\n",
    "timestamp = pd.Timestamp.now()\n",
    "\n",
    "# Queries\n",
    "monster_query = card_query(_property = False)\n",
    "st_query = card_query(_primary = False, _secondary = False, _attribute = False, _monster_type = False, _stars = False, _atk = False, _def = False, _scale = False, _link = False, _arrows = False)\n",
    "\n",
    "# Fetch Monster\n",
    "monster_df = fetch_monster(monster_query)\n",
    "\n",
    "# Fetch Spell\n",
    "spell_df = fetch_st(st_query, 'Spell')\n",
    "\n",
    "# Fetch Trap\n",
    "trap_df = fetch_st(st_query, 'Trap')\n",
    "\n",
    "# Fetch errata\n",
    "errata_df = fetch_errata()"
   ]
  },
  {
   "cell_type": "markdown",
   "id": "ffe04a8e-544d-4e73-947d-de6d5615bca3",
   "metadata": {
    "papermill": {
     "duration": 0.165276,
     "end_time": "2023-01-17T16:27:30.661168",
     "exception": false,
     "start_time": "2023-01-17T16:27:30.495892",
     "status": "completed"
    },
    "tags": []
   },
   "source": [
    "## Merge data"
   ]
  },
  {
   "cell_type": "code",
   "execution_count": 3,
   "id": "3669c6ff-2f6a-4a09-b80c-0cf361caf929",
   "metadata": {
    "papermill": {
     "duration": 0.509736,
     "end_time": "2023-01-17T16:27:31.554877",
     "exception": false,
     "start_time": "2023-01-17T16:27:31.045141",
     "status": "completed"
    },
    "tags": []
   },
   "outputs": [
    {
     "name": "stdout",
     "output_type": "stream",
     "text": [
      "Data merged\n"
     ]
    }
   ],
   "source": [
    "# Merge errata\n",
    "monster_df = merge_errata(monster_df, errata_df, drop=True)\n",
    "spell_df = merge_errata(spell_df, errata_df, drop=True)\n",
    "trap_df = merge_errata(trap_df, errata_df, drop=True)\n",
    "\n",
    "# Combine data frames\n",
    "st_df = pd.concat([spell_df, trap_df], ignore_index=True, axis=0).sort_values('Name').reset_index(drop=True)\n",
    "full_df = pd.concat([st_df, monster_df], ignore_index=True, axis=0).sort_values('Name').reset_index(drop=True)\n",
    "print('Data merged')"
   ]
  },
  {
   "cell_type": "markdown",
   "id": "9b15f8ec",
   "metadata": {
    "papermill": {
     "duration": 0.212468,
     "end_time": "2023-01-17T16:27:31.810600",
     "exception": false,
     "start_time": "2023-01-17T16:27:31.598132",
     "status": "completed"
    },
    "tags": []
   },
   "source": [
    "## Save data"
   ]
  },
  {
   "cell_type": "code",
   "execution_count": null,
   "id": "01e9eb77",
   "metadata": {
    "papermill": {
     "duration": 0.721438,
     "end_time": "2023-01-17T16:27:32.642069",
     "exception": false,
     "start_time": "2023-01-17T16:27:31.920631",
     "status": "completed"
    },
    "tags": []
   },
   "outputs": [],
   "source": [
    "full_df.to_csv(f'../Data/All_cards_{int(timestamp.timestamp())}.csv', index = False)\n",
    "print('Data saved')"
   ]
  },
  {
   "cell_type": "markdown",
   "id": "9ff0cf51",
   "metadata": {
    "papermill": {
     "duration": 0.369507,
     "end_time": "2023-01-17T16:27:33.055237",
     "exception": false,
     "start_time": "2023-01-17T16:27:32.685730",
     "status": "completed"
    },
    "tags": []
   },
   "source": [
    "# Check changes"
   ]
  },
  {
   "cell_type": "markdown",
   "id": "233e965d",
   "metadata": {
    "papermill": {
     "duration": 0.223533,
     "end_time": "2023-01-17T16:27:33.400781",
     "exception": false,
     "start_time": "2023-01-17T16:27:33.177248",
     "status": "completed"
    },
    "tags": []
   },
   "source": [
    "## Load previous data"
   ]
  },
  {
   "cell_type": "code",
   "execution_count": 4,
   "id": "fb7dc6f8",
   "metadata": {
    "papermill": {
     "duration": 0.837808,
     "end_time": "2023-01-17T16:27:34.421661",
     "exception": false,
     "start_time": "2023-01-17T16:27:33.583853",
     "status": "completed"
    },
    "tags": []
   },
   "outputs": [
    {
     "name": "stdout",
     "output_type": "stream",
     "text": [
      "File loaded\n"
     ]
    }
   ],
   "source": [
    "# Get list of files\n",
    "files_list = sorted(glob.glob('../Data/All_cards_*.csv'), key=os.path.getctime, reverse=True)\n",
    "# Get second newest file if exist\n",
    "if len(files_list)>1:\n",
    "    # Load csv avoiding converting \"NA\" to NaN\n",
    "    previous_df = pd.read_csv(files_list[1], dtype=object, keep_default_na=False, na_values=[''])\n",
    "    # Correct tuples\n",
    "    previous_df['Effect type'] = previous_df['Effect type'].dropna().apply(literal_eval)\n",
    "    previous_df['Link Arrows'] = previous_df['Link Arrows'].dropna().apply(literal_eval)\n",
    "    previous_df['Archseries'] = previous_df['Archseries'].dropna().apply(literal_eval)\n",
    "    previous_df['Artwork'] = previous_df['Artwork'].dropna().apply(literal_eval)\n",
    "    previous_df['Errata'] = previous_df['Errata'].dropna().apply(literal_eval)\n",
    "    # Force dtypes to match current df\n",
    "    previous_df = previous_df.astype(full_df[previous_df.columns].dtypes.to_dict())\n",
    "    print('File loaded')\n",
    "else:\n",
    "    previous_df = None\n",
    "    print('No older files')"
   ]
  },
  {
   "cell_type": "markdown",
   "id": "96ce5451",
   "metadata": {
    "papermill": {
     "duration": 0.176627,
     "end_time": "2023-01-17T16:27:34.642508",
     "exception": false,
     "start_time": "2023-01-17T16:27:34.465881",
     "status": "completed"
    },
    "tags": []
   },
   "source": [
    "## Generate changelog"
   ]
  },
  {
   "cell_type": "code",
   "execution_count": null,
   "id": "2fcca8f1",
   "metadata": {
    "papermill": {
     "duration": 0.273512,
     "end_time": "2023-01-17T16:27:35.152761",
     "exception": false,
     "start_time": "2023-01-17T16:27:34.879249",
     "status": "completed"
    },
    "tags": []
   },
   "outputs": [],
   "source": [
    "if previous_df is None:\n",
    "    print('Skipped')\n",
    "else:\n",
    "    changelog = generate_changelog(previous_df, full_df, col = 'Name')\n",
    "    if not changelog.empty:\n",
    "        display(changelog)\n",
    "        changelog.to_csv(f'../Data/Cards_changelog_{timestamp.strftime(\"%Y%m%d\")}.csv', index = False)\n",
    "        print('Changelog saved')"
   ]
  },
  {
   "cell_type": "markdown",
   "id": "c0ae1017",
   "metadata": {
    "papermill": {
     "duration": 0.144465,
     "end_time": "2023-01-17T16:27:35.341438",
     "exception": false,
     "start_time": "2023-01-17T16:27:35.196973",
     "status": "completed"
    },
    "tags": []
   },
   "source": [
    "# Data visualization"
   ]
  },
  {
   "cell_type": "markdown",
   "id": "5ad091af",
   "metadata": {
    "papermill": {
     "duration": 0.13409,
     "end_time": "2023-01-17T16:27:35.552029",
     "exception": false,
     "start_time": "2023-01-17T16:27:35.417939",
     "status": "completed"
    },
    "tags": []
   },
   "source": [
    "## Full data"
   ]
  },
  {
   "cell_type": "code",
   "execution_count": 5,
   "id": "fb024043",
   "metadata": {
    "papermill": {
     "duration": 0.6049,
     "end_time": "2023-01-17T16:27:36.275319",
     "exception": false,
     "start_time": "2023-01-17T16:27:35.670419",
     "status": "completed"
    },
    "tags": []
   },
   "outputs": [
    {
     "data": {
      "text/html": [
       "<div>\n",
       "<style scoped>\n",
       "    .dataframe tbody tr th:only-of-type {\n",
       "        vertical-align: middle;\n",
       "    }\n",
       "\n",
       "    .dataframe tbody tr th {\n",
       "        vertical-align: top;\n",
       "    }\n",
       "\n",
       "    .dataframe thead th {\n",
       "        text-align: right;\n",
       "    }\n",
       "</style>\n",
       "<table border=\"1\" class=\"dataframe\">\n",
       "  <thead>\n",
       "    <tr style=\"text-align: right;\">\n",
       "      <th></th>\n",
       "      <th>Name</th>\n",
       "      <th>Password</th>\n",
       "      <th>Card type</th>\n",
       "      <th>Property</th>\n",
       "      <th>Effect type</th>\n",
       "      <th>Archseries</th>\n",
       "      <th>TCG status</th>\n",
       "      <th>OCG status</th>\n",
       "      <th>Artwork</th>\n",
       "      <th>Page URL</th>\n",
       "      <th>...</th>\n",
       "      <th>Primary type</th>\n",
       "      <th>Secondary type</th>\n",
       "      <th>Attribute</th>\n",
       "      <th>Monster type</th>\n",
       "      <th>Level/Rank</th>\n",
       "      <th>ATK</th>\n",
       "      <th>DEF</th>\n",
       "      <th>Pendulum Scale</th>\n",
       "      <th>Link</th>\n",
       "      <th>Link Arrows</th>\n",
       "    </tr>\n",
       "  </thead>\n",
       "  <tbody>\n",
       "    <tr>\n",
       "      <th>0</th>\n",
       "      <td>\"A\" Cell Breeding Device</td>\n",
       "      <td>34541863</td>\n",
       "      <td>Spell Card</td>\n",
       "      <td>Continuous Spell Card</td>\n",
       "      <td>(Trigger Effect,)</td>\n",
       "      <td>NaN</td>\n",
       "      <td>Unlimited</td>\n",
       "      <td>Unlimited</td>\n",
       "      <td>NaN</td>\n",
       "      <td>https://yugipedia.com/wiki/%22A%22_Cell_Breedi...</td>\n",
       "      <td>...</td>\n",
       "      <td>NaN</td>\n",
       "      <td>NaN</td>\n",
       "      <td>NaN</td>\n",
       "      <td>NaN</td>\n",
       "      <td>NaN</td>\n",
       "      <td>NaN</td>\n",
       "      <td>NaN</td>\n",
       "      <td>NaN</td>\n",
       "      <td>NaN</td>\n",
       "      <td>NaN</td>\n",
       "    </tr>\n",
       "    <tr>\n",
       "      <th>1</th>\n",
       "      <td>\"A\" Cell Incubator</td>\n",
       "      <td>64163367</td>\n",
       "      <td>Spell Card</td>\n",
       "      <td>Continuous Spell Card</td>\n",
       "      <td>(Continuous-like Effect, Trigger Effect)</td>\n",
       "      <td>NaN</td>\n",
       "      <td>Unlimited</td>\n",
       "      <td>Unlimited</td>\n",
       "      <td>NaN</td>\n",
       "      <td>https://yugipedia.com/wiki/%22A%22_Cell_Incubator</td>\n",
       "      <td>...</td>\n",
       "      <td>NaN</td>\n",
       "      <td>NaN</td>\n",
       "      <td>NaN</td>\n",
       "      <td>NaN</td>\n",
       "      <td>NaN</td>\n",
       "      <td>NaN</td>\n",
       "      <td>NaN</td>\n",
       "      <td>NaN</td>\n",
       "      <td>NaN</td>\n",
       "      <td>NaN</td>\n",
       "    </tr>\n",
       "    <tr>\n",
       "      <th>2</th>\n",
       "      <td>\"A\" Cell Recombination Device</td>\n",
       "      <td>91231901</td>\n",
       "      <td>Spell Card</td>\n",
       "      <td>Quick-Play Spell Card</td>\n",
       "      <td>(Effect, Ignition-like Effect)</td>\n",
       "      <td>NaN</td>\n",
       "      <td>Unlimited</td>\n",
       "      <td>Unlimited</td>\n",
       "      <td>NaN</td>\n",
       "      <td>https://yugipedia.com/wiki/%22A%22_Cell_Recomb...</td>\n",
       "      <td>...</td>\n",
       "      <td>NaN</td>\n",
       "      <td>NaN</td>\n",
       "      <td>NaN</td>\n",
       "      <td>NaN</td>\n",
       "      <td>NaN</td>\n",
       "      <td>NaN</td>\n",
       "      <td>NaN</td>\n",
       "      <td>NaN</td>\n",
       "      <td>NaN</td>\n",
       "      <td>NaN</td>\n",
       "    </tr>\n",
       "    <tr>\n",
       "      <th>3</th>\n",
       "      <td>\"A\" Cell Scatter Burst</td>\n",
       "      <td>73262676</td>\n",
       "      <td>Spell Card</td>\n",
       "      <td>Quick-Play Spell Card</td>\n",
       "      <td>(Effect,)</td>\n",
       "      <td>NaN</td>\n",
       "      <td>Unlimited</td>\n",
       "      <td>Unlimited</td>\n",
       "      <td>NaN</td>\n",
       "      <td>https://yugipedia.com/wiki/%22A%22_Cell_Scatte...</td>\n",
       "      <td>...</td>\n",
       "      <td>NaN</td>\n",
       "      <td>NaN</td>\n",
       "      <td>NaN</td>\n",
       "      <td>NaN</td>\n",
       "      <td>NaN</td>\n",
       "      <td>NaN</td>\n",
       "      <td>NaN</td>\n",
       "      <td>NaN</td>\n",
       "      <td>NaN</td>\n",
       "      <td>NaN</td>\n",
       "    </tr>\n",
       "    <tr>\n",
       "      <th>4</th>\n",
       "      <td>\"Infernoble Arms - Durendal\"</td>\n",
       "      <td>37478723</td>\n",
       "      <td>Spell Card</td>\n",
       "      <td>Equip Spell Card</td>\n",
       "      <td>(Condition, Ignition-like Effect, Trigger Effect)</td>\n",
       "      <td>(Noble Arms,)</td>\n",
       "      <td>Unlimited</td>\n",
       "      <td>Unlimited</td>\n",
       "      <td>NaN</td>\n",
       "      <td>https://yugipedia.com/wiki/%22Infernoble_Arms_...</td>\n",
       "      <td>...</td>\n",
       "      <td>NaN</td>\n",
       "      <td>NaN</td>\n",
       "      <td>NaN</td>\n",
       "      <td>NaN</td>\n",
       "      <td>NaN</td>\n",
       "      <td>NaN</td>\n",
       "      <td>NaN</td>\n",
       "      <td>NaN</td>\n",
       "      <td>NaN</td>\n",
       "      <td>NaN</td>\n",
       "    </tr>\n",
       "    <tr>\n",
       "      <th>...</th>\n",
       "      <td>...</td>\n",
       "      <td>...</td>\n",
       "      <td>...</td>\n",
       "      <td>...</td>\n",
       "      <td>...</td>\n",
       "      <td>...</td>\n",
       "      <td>...</td>\n",
       "      <td>...</td>\n",
       "      <td>...</td>\n",
       "      <td>...</td>\n",
       "      <td>...</td>\n",
       "      <td>...</td>\n",
       "      <td>...</td>\n",
       "      <td>...</td>\n",
       "      <td>...</td>\n",
       "      <td>...</td>\n",
       "      <td>...</td>\n",
       "      <td>...</td>\n",
       "      <td>...</td>\n",
       "      <td>...</td>\n",
       "      <td>...</td>\n",
       "    </tr>\n",
       "    <tr>\n",
       "      <th>12259</th>\n",
       "      <td>Zubaba Knight</td>\n",
       "      <td>97896503</td>\n",
       "      <td>Monster Card</td>\n",
       "      <td>NaN</td>\n",
       "      <td>(Trigger Effect,)</td>\n",
       "      <td>(Zubaba,)</td>\n",
       "      <td>Unlimited</td>\n",
       "      <td>Unlimited</td>\n",
       "      <td>NaN</td>\n",
       "      <td>https://yugipedia.com/wiki/Zubaba_Knight</td>\n",
       "      <td>...</td>\n",
       "      <td>Effect Monster</td>\n",
       "      <td>NaN</td>\n",
       "      <td>EARTH</td>\n",
       "      <td>Warrior</td>\n",
       "      <td>3</td>\n",
       "      <td>1600</td>\n",
       "      <td>900</td>\n",
       "      <td>NaN</td>\n",
       "      <td>NaN</td>\n",
       "      <td>NaN</td>\n",
       "    </tr>\n",
       "    <tr>\n",
       "      <th>12260</th>\n",
       "      <td>Zubababancho Gagagacoat</td>\n",
       "      <td>23720856</td>\n",
       "      <td>Monster Card</td>\n",
       "      <td>NaN</td>\n",
       "      <td>(Condition, Ignition Effect)</td>\n",
       "      <td>(Gagaga, Zubaba)</td>\n",
       "      <td>Unlimited</td>\n",
       "      <td>Unlimited</td>\n",
       "      <td>NaN</td>\n",
       "      <td>https://yugipedia.com/wiki/Zubababancho_Gagaga...</td>\n",
       "      <td>...</td>\n",
       "      <td>Effect Monster</td>\n",
       "      <td>NaN</td>\n",
       "      <td>EARTH</td>\n",
       "      <td>Warrior</td>\n",
       "      <td>4</td>\n",
       "      <td>1800</td>\n",
       "      <td>100</td>\n",
       "      <td>NaN</td>\n",
       "      <td>NaN</td>\n",
       "      <td>NaN</td>\n",
       "    </tr>\n",
       "    <tr>\n",
       "      <th>12261</th>\n",
       "      <td>Zuijin of the Ice Barrier</td>\n",
       "      <td>43256007</td>\n",
       "      <td>Monster Card</td>\n",
       "      <td>NaN</td>\n",
       "      <td>(Condition, Ignition Effect)</td>\n",
       "      <td>(Ice Barrier,)</td>\n",
       "      <td>Unlimited</td>\n",
       "      <td>Unlimited</td>\n",
       "      <td>NaN</td>\n",
       "      <td>https://yugipedia.com/wiki/Zuijin_of_the_Ice_B...</td>\n",
       "      <td>...</td>\n",
       "      <td>Effect Monster</td>\n",
       "      <td>NaN</td>\n",
       "      <td>WATER</td>\n",
       "      <td>Warrior</td>\n",
       "      <td>2</td>\n",
       "      <td>500</td>\n",
       "      <td>300</td>\n",
       "      <td>NaN</td>\n",
       "      <td>NaN</td>\n",
       "      <td>NaN</td>\n",
       "    </tr>\n",
       "    <tr>\n",
       "      <th>12262</th>\n",
       "      <td>Zure, Knight of Dark World</td>\n",
       "      <td>07459013</td>\n",
       "      <td>Monster Card</td>\n",
       "      <td>NaN</td>\n",
       "      <td>NaN</td>\n",
       "      <td>(Dark World,)</td>\n",
       "      <td>Unlimited</td>\n",
       "      <td>Unlimited</td>\n",
       "      <td>NaN</td>\n",
       "      <td>https://yugipedia.com/wiki/Zure,_Knight_of_Dar...</td>\n",
       "      <td>...</td>\n",
       "      <td>Normal Monster</td>\n",
       "      <td>NaN</td>\n",
       "      <td>DARK</td>\n",
       "      <td>Fiend</td>\n",
       "      <td>4</td>\n",
       "      <td>1800</td>\n",
       "      <td>1500</td>\n",
       "      <td>NaN</td>\n",
       "      <td>NaN</td>\n",
       "      <td>NaN</td>\n",
       "    </tr>\n",
       "    <tr>\n",
       "      <th>12263</th>\n",
       "      <td>Zushin the Sleeping Giant</td>\n",
       "      <td>67547370</td>\n",
       "      <td>Monster Card</td>\n",
       "      <td>NaN</td>\n",
       "      <td>(Continuous Effect, Ignition Effect, Summoning...</td>\n",
       "      <td>NaN</td>\n",
       "      <td>Unlimited</td>\n",
       "      <td>Unlimited</td>\n",
       "      <td>NaN</td>\n",
       "      <td>https://yugipedia.com/wiki/Zushin_the_Sleeping...</td>\n",
       "      <td>...</td>\n",
       "      <td>Effect Monster</td>\n",
       "      <td>NaN</td>\n",
       "      <td>EARTH</td>\n",
       "      <td>Warrior</td>\n",
       "      <td>10</td>\n",
       "      <td>0</td>\n",
       "      <td>0</td>\n",
       "      <td>NaN</td>\n",
       "      <td>NaN</td>\n",
       "      <td>NaN</td>\n",
       "    </tr>\n",
       "  </tbody>\n",
       "</table>\n",
       "<p>12264 rows × 22 columns</p>\n",
       "</div>"
      ],
      "text/plain": [
       "                                Name  Password     Card type  \\\n",
       "0           \"A\" Cell Breeding Device  34541863    Spell Card   \n",
       "1                 \"A\" Cell Incubator  64163367    Spell Card   \n",
       "2      \"A\" Cell Recombination Device  91231901    Spell Card   \n",
       "3             \"A\" Cell Scatter Burst  73262676    Spell Card   \n",
       "4       \"Infernoble Arms - Durendal\"  37478723    Spell Card   \n",
       "...                              ...       ...           ...   \n",
       "12259                  Zubaba Knight  97896503  Monster Card   \n",
       "12260        Zubababancho Gagagacoat  23720856  Monster Card   \n",
       "12261      Zuijin of the Ice Barrier  43256007  Monster Card   \n",
       "12262     Zure, Knight of Dark World  07459013  Monster Card   \n",
       "12263      Zushin the Sleeping Giant  67547370  Monster Card   \n",
       "\n",
       "                    Property  \\\n",
       "0      Continuous Spell Card   \n",
       "1      Continuous Spell Card   \n",
       "2      Quick-Play Spell Card   \n",
       "3      Quick-Play Spell Card   \n",
       "4           Equip Spell Card   \n",
       "...                      ...   \n",
       "12259                    NaN   \n",
       "12260                    NaN   \n",
       "12261                    NaN   \n",
       "12262                    NaN   \n",
       "12263                    NaN   \n",
       "\n",
       "                                             Effect type        Archseries  \\\n",
       "0                                      (Trigger Effect,)               NaN   \n",
       "1               (Continuous-like Effect, Trigger Effect)               NaN   \n",
       "2                         (Effect, Ignition-like Effect)               NaN   \n",
       "3                                              (Effect,)               NaN   \n",
       "4      (Condition, Ignition-like Effect, Trigger Effect)     (Noble Arms,)   \n",
       "...                                                  ...               ...   \n",
       "12259                                  (Trigger Effect,)         (Zubaba,)   \n",
       "12260                       (Condition, Ignition Effect)  (Gagaga, Zubaba)   \n",
       "12261                       (Condition, Ignition Effect)    (Ice Barrier,)   \n",
       "12262                                                NaN     (Dark World,)   \n",
       "12263  (Continuous Effect, Ignition Effect, Summoning...               NaN   \n",
       "\n",
       "      TCG status OCG status Artwork  \\\n",
       "0      Unlimited  Unlimited     NaN   \n",
       "1      Unlimited  Unlimited     NaN   \n",
       "2      Unlimited  Unlimited     NaN   \n",
       "3      Unlimited  Unlimited     NaN   \n",
       "4      Unlimited  Unlimited     NaN   \n",
       "...          ...        ...     ...   \n",
       "12259  Unlimited  Unlimited     NaN   \n",
       "12260  Unlimited  Unlimited     NaN   \n",
       "12261  Unlimited  Unlimited     NaN   \n",
       "12262  Unlimited  Unlimited     NaN   \n",
       "12263  Unlimited  Unlimited     NaN   \n",
       "\n",
       "                                                Page URL  ...    Primary type  \\\n",
       "0      https://yugipedia.com/wiki/%22A%22_Cell_Breedi...  ...             NaN   \n",
       "1      https://yugipedia.com/wiki/%22A%22_Cell_Incubator  ...             NaN   \n",
       "2      https://yugipedia.com/wiki/%22A%22_Cell_Recomb...  ...             NaN   \n",
       "3      https://yugipedia.com/wiki/%22A%22_Cell_Scatte...  ...             NaN   \n",
       "4      https://yugipedia.com/wiki/%22Infernoble_Arms_...  ...             NaN   \n",
       "...                                                  ...  ...             ...   \n",
       "12259           https://yugipedia.com/wiki/Zubaba_Knight  ...  Effect Monster   \n",
       "12260  https://yugipedia.com/wiki/Zubababancho_Gagaga...  ...  Effect Monster   \n",
       "12261  https://yugipedia.com/wiki/Zuijin_of_the_Ice_B...  ...  Effect Monster   \n",
       "12262  https://yugipedia.com/wiki/Zure,_Knight_of_Dar...  ...  Normal Monster   \n",
       "12263  https://yugipedia.com/wiki/Zushin_the_Sleeping...  ...  Effect Monster   \n",
       "\n",
       "      Secondary type Attribute Monster type Level/Rank   ATK   DEF  \\\n",
       "0                NaN       NaN          NaN        NaN   NaN   NaN   \n",
       "1                NaN       NaN          NaN        NaN   NaN   NaN   \n",
       "2                NaN       NaN          NaN        NaN   NaN   NaN   \n",
       "3                NaN       NaN          NaN        NaN   NaN   NaN   \n",
       "4                NaN       NaN          NaN        NaN   NaN   NaN   \n",
       "...              ...       ...          ...        ...   ...   ...   \n",
       "12259            NaN     EARTH      Warrior          3  1600   900   \n",
       "12260            NaN     EARTH      Warrior          4  1800   100   \n",
       "12261            NaN     WATER      Warrior          2   500   300   \n",
       "12262            NaN      DARK        Fiend          4  1800  1500   \n",
       "12263            NaN     EARTH      Warrior         10     0     0   \n",
       "\n",
       "      Pendulum Scale Link Link Arrows  \n",
       "0                NaN  NaN         NaN  \n",
       "1                NaN  NaN         NaN  \n",
       "2                NaN  NaN         NaN  \n",
       "3                NaN  NaN         NaN  \n",
       "4                NaN  NaN         NaN  \n",
       "...              ...  ...         ...  \n",
       "12259            NaN  NaN         NaN  \n",
       "12260            NaN  NaN         NaN  \n",
       "12261            NaN  NaN         NaN  \n",
       "12262            NaN  NaN         NaN  \n",
       "12263            NaN  NaN         NaN  \n",
       "\n",
       "[12264 rows x 22 columns]"
      ]
     },
     "execution_count": 5,
     "metadata": {},
     "output_type": "execute_result"
    }
   ],
   "source": [
    "full_df"
   ]
  },
  {
   "cell_type": "markdown",
   "id": "da99ccde-ca38-4d81-8661-6f8514f689d7",
   "metadata": {
    "papermill": {
     "duration": 0.22208,
     "end_time": "2023-01-17T16:27:36.542845",
     "exception": false,
     "start_time": "2023-01-17T16:27:36.320765",
     "status": "completed"
    },
    "tags": []
   },
   "source": [
    "Full data available to download [here](../Data)"
   ]
  },
  {
   "cell_type": "markdown",
   "id": "8a8cb7cd",
   "metadata": {
    "papermill": {
     "duration": 0.131225,
     "end_time": "2023-01-17T16:27:36.813492",
     "exception": false,
     "start_time": "2023-01-17T16:27:36.682267",
     "status": "completed"
    },
    "tags": []
   },
   "source": [
    "## Card types"
   ]
  },
  {
   "cell_type": "code",
   "execution_count": null,
   "id": "a4ec32e1",
   "metadata": {
    "papermill": {
     "duration": 0.309862,
     "end_time": "2023-01-17T16:27:37.266415",
     "exception": false,
     "start_time": "2023-01-17T16:27:36.956553",
     "status": "completed"
    },
    "tags": []
   },
   "outputs": [],
   "source": [
    "full_df.groupby('Card type').nunique()"
   ]
  },
  {
   "cell_type": "code",
   "execution_count": null,
   "id": "120a72dc",
   "metadata": {
    "papermill": {
     "duration": 1.321772,
     "end_time": "2023-01-17T16:27:38.635022",
     "exception": false,
     "start_time": "2023-01-17T16:27:37.313250",
     "status": "completed"
    },
    "tags": []
   },
   "outputs": [],
   "source": [
    "card_type_colors = [colors_dict[i] for i in full_df['Card type'].value_counts().index]\n",
    "full_df['Card type'].value_counts().plot.bar(figsize = (18,6), grid = True, rot=0, color = card_type_colors, title = 'Card type')\n",
    "plt.show()"
   ]
  },
  {
   "cell_type": "markdown",
   "id": "fa1ed03c",
   "metadata": {
    "papermill": {
     "duration": 0.067793,
     "end_time": "2023-01-17T16:27:38.748728",
     "exception": false,
     "start_time": "2023-01-17T16:27:38.680935",
     "status": "completed"
    },
    "tags": []
   },
   "source": [
    "## Monsters"
   ]
  },
  {
   "cell_type": "markdown",
   "id": "66c5f658",
   "metadata": {
    "papermill": {
     "duration": 0.383855,
     "end_time": "2023-01-17T16:27:39.213328",
     "exception": false,
     "start_time": "2023-01-17T16:27:38.829473",
     "status": "completed"
    },
    "tags": []
   },
   "source": [
    "### Attributes"
   ]
  },
  {
   "cell_type": "code",
   "execution_count": null,
   "id": "aa4e6a26",
   "metadata": {
    "papermill": {
     "duration": 0.134349,
     "end_time": "2023-01-17T16:27:39.684592",
     "exception": false,
     "start_time": "2023-01-17T16:27:39.550243",
     "status": "completed"
    },
    "tags": []
   },
   "outputs": [],
   "source": [
    "print('Total number of attributes:', monster_df['Attribute'].nunique())"
   ]
  },
  {
   "cell_type": "code",
   "execution_count": null,
   "id": "ea26720e",
   "metadata": {
    "papermill": {
     "duration": 0.326277,
     "end_time": "2023-01-17T16:27:40.056224",
     "exception": false,
     "start_time": "2023-01-17T16:27:39.729947",
     "status": "completed"
    },
    "tags": []
   },
   "outputs": [],
   "source": [
    "monster_df.drop(columns=['Card type']).groupby('Attribute').nunique()"
   ]
  },
  {
   "cell_type": "code",
   "execution_count": null,
   "id": "c4ff5f74",
   "metadata": {
    "papermill": {
     "duration": 0.318654,
     "end_time": "2023-01-17T16:27:40.421334",
     "exception": false,
     "start_time": "2023-01-17T16:27:40.102680",
     "status": "completed"
    },
    "tags": []
   },
   "outputs": [],
   "source": [
    "attribute_colors = [colors_dict[i] for i in monster_df['Attribute'].value_counts().index]\n",
    "monster_df['Attribute'].value_counts().plot.bar(figsize = (18,6), grid = True, rot=0, color = attribute_colors, title = 'Attribute')\n",
    "plt.show()"
   ]
  },
  {
   "cell_type": "markdown",
   "id": "d0d71936",
   "metadata": {
    "papermill": {
     "duration": 0.166344,
     "end_time": "2023-01-17T16:27:40.634183",
     "exception": false,
     "start_time": "2023-01-17T16:27:40.467839",
     "status": "completed"
    },
    "tags": []
   },
   "source": [
    "### Primary types"
   ]
  },
  {
   "cell_type": "code",
   "execution_count": null,
   "id": "26e45412",
   "metadata": {
    "papermill": {
     "duration": 0.088139,
     "end_time": "2023-01-17T16:27:41.009094",
     "exception": false,
     "start_time": "2023-01-17T16:27:40.920955",
     "status": "completed"
    },
    "tags": []
   },
   "outputs": [],
   "source": [
    "print('Total number of primary types:', monster_df['Primary type'].nunique())"
   ]
  },
  {
   "cell_type": "code",
   "execution_count": null,
   "id": "c7e4c6b0",
   "metadata": {
    "papermill": {
     "duration": 0.369224,
     "end_time": "2023-01-17T16:27:41.516644",
     "exception": false,
     "start_time": "2023-01-17T16:27:41.147420",
     "status": "completed"
    },
    "tags": []
   },
   "outputs": [],
   "source": [
    "monster_df.drop(columns=['Card type']).groupby('Primary type').nunique()"
   ]
  },
  {
   "cell_type": "markdown",
   "id": "d41d8e4a",
   "metadata": {
    "papermill": {
     "duration": 0.112317,
     "end_time": "2023-01-17T16:27:41.676773",
     "exception": false,
     "start_time": "2023-01-17T16:27:41.564456",
     "status": "completed"
    },
    "tags": []
   },
   "source": [
    "#### Has effect discrimination"
   ]
  },
  {
   "cell_type": "code",
   "execution_count": null,
   "id": "56a59624",
   "metadata": {
    "papermill": {
     "duration": 0.07974,
     "end_time": "2023-01-17T16:27:41.909977",
     "exception": false,
     "start_time": "2023-01-17T16:27:41.830237",
     "status": "completed"
    },
    "tags": []
   },
   "outputs": [],
   "source": [
    "has_effect = monster_df['Primary type'].where(monster_df['Effect type'].notna()).value_counts().rename('Effect')\n",
    "no_effect = monster_df['Primary type'].where(monster_df['Effect type'].isna()).value_counts().rename('No Effect')\n",
    "effect = pd.concat([has_effect,no_effect], axis=1).fillna(0).astype(int)\n",
    "effect"
   ]
  },
  {
   "cell_type": "code",
   "execution_count": null,
   "id": "82c24448",
   "metadata": {
    "papermill": {
     "duration": 0.495387,
     "end_time": "2023-01-17T16:27:42.462536",
     "exception": false,
     "start_time": "2023-01-17T16:27:41.967149",
     "status": "completed"
    },
    "tags": []
   },
   "outputs": [],
   "source": [
    "monster_type_colors = {'No Effect': colors_dict['Normal Monster'], 'Effect': [colors_dict[i] for i in effect.index]}\n",
    "effect.plot.bar(figsize = (18,6), stacked = True, grid = True, rot=0,  legend=True, color = monster_type_colors, title = 'Primary types - Has effect')\n",
    "# plt.yscale('log')\n",
    "plt.show()"
   ]
  },
  {
   "cell_type": "markdown",
   "id": "69d8824e",
   "metadata": {
    "papermill": {
     "duration": 0.288244,
     "end_time": "2023-01-17T16:27:42.808349",
     "exception": false,
     "start_time": "2023-01-17T16:27:42.520105",
     "status": "completed"
    },
    "tags": []
   },
   "source": [
    "Obs: Normal monster can have effect if it is pendulum"
   ]
  },
  {
   "cell_type": "markdown",
   "id": "1da2968f",
   "metadata": {
    "papermill": {
     "duration": 0.117926,
     "end_time": "2023-01-17T16:27:42.991759",
     "exception": false,
     "start_time": "2023-01-17T16:27:42.873833",
     "status": "completed"
    },
    "tags": []
   },
   "source": [
    "#### Is pendulum discrimination"
   ]
  },
  {
   "cell_type": "code",
   "execution_count": null,
   "id": "c18ac7a6",
   "metadata": {
    "papermill": {
     "duration": 0.234686,
     "end_time": "2023-01-17T16:27:43.649582",
     "exception": false,
     "start_time": "2023-01-17T16:27:43.414896",
     "status": "completed"
    },
    "tags": []
   },
   "outputs": [],
   "source": [
    "not_pendulum = monster_df['Primary type'].where(monster_df['Pendulum Scale'].isna()).value_counts().rename('Not Pendulum')\n",
    "is_pendulum = monster_df['Primary type'].where(monster_df['Pendulum Scale'].notna()).value_counts().rename('Pendulum')\n",
    "pendulum = pd.concat([not_pendulum,is_pendulum], axis=1).fillna(0).astype(int)\n",
    "pendulum"
   ]
  },
  {
   "cell_type": "code",
   "execution_count": null,
   "id": "fd0ff75c",
   "metadata": {
    "papermill": {
     "duration": 0.754586,
     "end_time": "2023-01-17T16:27:45.385744",
     "exception": false,
     "start_time": "2023-01-17T16:27:44.631158",
     "status": "completed"
    },
    "tags": []
   },
   "outputs": [],
   "source": [
    "monster_type_colors_b = {'Pendulum': colors_dict['Pendulum Monster'], 'Not Pendulum': [colors_dict[i] for i in pendulum.index]}\n",
    "pendulum.plot.bar(figsize = (18,6), stacked = True, grid = True, rot=0, color = monster_type_colors_b, legend=True, title = 'Primary types - Is pendulum')\n",
    "plt.show()"
   ]
  },
  {
   "cell_type": "markdown",
   "id": "a6a4f4f5",
   "metadata": {
    "papermill": {
     "duration": 0.163823,
     "end_time": "2023-01-17T16:27:45.600133",
     "exception": false,
     "start_time": "2023-01-17T16:27:45.436310",
     "status": "completed"
    },
    "tags": []
   },
   "source": [
    "#### By attribute"
   ]
  },
  {
   "cell_type": "code",
   "execution_count": null,
   "id": "9c162519",
   "metadata": {
    "papermill": {
     "duration": 0.125585,
     "end_time": "2023-01-17T16:27:45.834758",
     "exception": false,
     "start_time": "2023-01-17T16:27:45.709173",
     "status": "completed"
    },
    "tags": []
   },
   "outputs": [],
   "source": [
    "primmary_crosstab = pd.crosstab(full_df['Primary type'],full_df['Attribute'])\n",
    "primmary_crosstab"
   ]
  },
  {
   "cell_type": "code",
   "execution_count": null,
   "id": "a0114f45",
   "metadata": {
    "papermill": {
     "duration": 1.546055,
     "end_time": "2023-01-17T16:27:47.434317",
     "exception": false,
     "start_time": "2023-01-17T16:27:45.888262",
     "status": "completed"
    },
    "tags": []
   },
   "outputs": [],
   "source": [
    "plt.figure(figsize = (16,10))\n",
    "sns.heatmap(primmary_crosstab.T, annot=True, fmt=\"g\", cmap='viridis', square=True, norm=mc.LogNorm())\n",
    "plt.show()"
   ]
  },
  {
   "cell_type": "markdown",
   "id": "0c70885e",
   "metadata": {
    "papermill": {
     "duration": 0.532045,
     "end_time": "2023-01-17T16:27:48.171882",
     "exception": false,
     "start_time": "2023-01-17T16:27:47.639837",
     "status": "completed"
    },
    "tags": []
   },
   "source": [
    "### Secondary types"
   ]
  },
  {
   "cell_type": "code",
   "execution_count": null,
   "id": "ee184462",
   "metadata": {
    "papermill": {
     "duration": 0.209288,
     "end_time": "2023-01-17T16:27:48.702407",
     "exception": false,
     "start_time": "2023-01-17T16:27:48.493119",
     "status": "completed"
    },
    "tags": []
   },
   "outputs": [],
   "source": [
    "print('Total number of secondary types:', monster_df['Secondary type'].nunique())"
   ]
  },
  {
   "cell_type": "code",
   "execution_count": null,
   "id": "125f438e",
   "metadata": {
    "papermill": {
     "duration": 0.409001,
     "end_time": "2023-01-17T16:27:49.277375",
     "exception": false,
     "start_time": "2023-01-17T16:27:48.868374",
     "status": "completed"
    },
    "tags": []
   },
   "outputs": [],
   "source": [
    "monster_df.drop(columns=['Card type', 'Link', 'Link Arrows']).groupby('Secondary type').nunique()"
   ]
  },
  {
   "cell_type": "code",
   "execution_count": null,
   "id": "a4fec827",
   "metadata": {
    "papermill": {
     "duration": 0.463208,
     "end_time": "2023-01-17T16:27:49.791998",
     "exception": false,
     "start_time": "2023-01-17T16:27:49.328790",
     "status": "completed"
    },
    "tags": []
   },
   "outputs": [],
   "source": [
    "secondary_type_colors = colors_dict['Effect Monster']\n",
    "monster_df['Secondary type'].value_counts().plot.bar(figsize = (18,6), stacked = True, grid = True, rot=0, color = secondary_type_colors, legend=False, title = 'Secondary type')\n",
    "plt.show()"
   ]
  },
  {
   "cell_type": "markdown",
   "id": "0420679a",
   "metadata": {
    "papermill": {
     "duration": 0.080687,
     "end_time": "2023-01-17T16:27:49.928242",
     "exception": false,
     "start_time": "2023-01-17T16:27:49.847555",
     "status": "completed"
    },
    "tags": []
   },
   "source": [
    "#### By attribute"
   ]
  },
  {
   "cell_type": "code",
   "execution_count": null,
   "id": "085225bb",
   "metadata": {
    "papermill": {
     "duration": 0.221277,
     "end_time": "2023-01-17T16:27:50.341914",
     "exception": false,
     "start_time": "2023-01-17T16:27:50.120637",
     "status": "completed"
    },
    "tags": []
   },
   "outputs": [],
   "source": [
    "secondary_crosstab = pd.crosstab(full_df['Secondary type'],full_df['Attribute'])\n",
    "secondary_crosstab"
   ]
  },
  {
   "cell_type": "code",
   "execution_count": null,
   "id": "b69fe297",
   "metadata": {
    "papermill": {
     "duration": 0.536085,
     "end_time": "2023-01-17T16:27:51.019872",
     "exception": false,
     "start_time": "2023-01-17T16:27:50.483787",
     "status": "completed"
    },
    "tags": []
   },
   "outputs": [],
   "source": [
    "plt.figure(figsize = (8,6))\n",
    "sns.heatmap(secondary_crosstab[secondary_crosstab>0], annot=True, fmt=\"g\", cmap='viridis', square=True)\n",
    "plt.show()"
   ]
  },
  {
   "cell_type": "markdown",
   "id": "30b035c2",
   "metadata": {
    "papermill": {
     "duration": 0.396168,
     "end_time": "2023-01-17T16:27:51.471486",
     "exception": false,
     "start_time": "2023-01-17T16:27:51.075318",
     "status": "completed"
    },
    "tags": []
   },
   "source": [
    "#### By secondary type"
   ]
  },
  {
   "cell_type": "code",
   "execution_count": null,
   "id": "c8f08039",
   "metadata": {
    "papermill": {
     "duration": 0.128851,
     "end_time": "2023-01-17T16:27:51.867192",
     "exception": false,
     "start_time": "2023-01-17T16:27:51.738341",
     "status": "completed"
    },
    "tags": []
   },
   "outputs": [],
   "source": [
    "secondary_crosstab_b = pd.crosstab(full_df['Primary type'],full_df['Secondary type'], margins = True)\n",
    "secondary_crosstab_b"
   ]
  },
  {
   "cell_type": "code",
   "execution_count": null,
   "id": "4749ace2",
   "metadata": {
    "papermill": {
     "duration": 0.747208,
     "end_time": "2023-01-17T16:27:52.668463",
     "exception": false,
     "start_time": "2023-01-17T16:27:51.921255",
     "status": "completed"
    },
    "tags": []
   },
   "outputs": [],
   "source": [
    "plt.figure(figsize = (10,7))\n",
    "sns.heatmap(secondary_crosstab_b, annot=True, fmt=\"g\", cmap='viridis', square=True, norm=mc.LogNorm())\n",
    "plt.show()"
   ]
  },
  {
   "cell_type": "markdown",
   "id": "9682c65a",
   "metadata": {
    "papermill": {
     "duration": 0.089382,
     "end_time": "2023-01-17T16:27:52.817417",
     "exception": false,
     "start_time": "2023-01-17T16:27:52.728035",
     "status": "completed"
    },
    "tags": []
   },
   "source": [
    "### Monster types"
   ]
  },
  {
   "cell_type": "code",
   "execution_count": null,
   "id": "dab77100",
   "metadata": {
    "papermill": {
     "duration": 0.304482,
     "end_time": "2023-01-17T16:27:53.236644",
     "exception": false,
     "start_time": "2023-01-17T16:27:52.932162",
     "status": "completed"
    },
    "tags": []
   },
   "outputs": [],
   "source": [
    "print('Total number of monster types:', monster_df['Monster type'].nunique())"
   ]
  },
  {
   "cell_type": "code",
   "execution_count": null,
   "id": "02f5b750",
   "metadata": {
    "papermill": {
     "duration": 0.194368,
     "end_time": "2023-01-17T16:27:53.533411",
     "exception": false,
     "start_time": "2023-01-17T16:27:53.339043",
     "status": "completed"
    },
    "tags": []
   },
   "outputs": [],
   "source": [
    "monster_df.drop(columns=['Card type']).groupby('Monster type').nunique()"
   ]
  },
  {
   "cell_type": "code",
   "execution_count": null,
   "id": "75111774",
   "metadata": {
    "papermill": {
     "duration": 0.842408,
     "end_time": "2023-01-17T16:27:54.435549",
     "exception": false,
     "start_time": "2023-01-17T16:27:53.593141",
     "status": "completed"
    },
    "tags": []
   },
   "outputs": [],
   "source": [
    "monster_type_colors = colors_dict['Monster Card']\n",
    "monster_df['Monster type'].value_counts().plot.bar(figsize = (18,6), grid = True, rot=45, color = monster_type_colors, title = 'Monster type')\n",
    "plt.show()"
   ]
  },
  {
   "cell_type": "markdown",
   "id": "32d282b7",
   "metadata": {
    "papermill": {
     "duration": 0.110696,
     "end_time": "2023-01-17T16:27:54.609838",
     "exception": false,
     "start_time": "2023-01-17T16:27:54.499142",
     "status": "completed"
    },
    "tags": []
   },
   "source": [
    "#### By Attribute"
   ]
  },
  {
   "cell_type": "code",
   "execution_count": null,
   "id": "23d29373",
   "metadata": {
    "papermill": {
     "duration": 0.24808,
     "end_time": "2023-01-17T16:27:54.997418",
     "exception": false,
     "start_time": "2023-01-17T16:27:54.749338",
     "status": "completed"
    },
    "tags": []
   },
   "outputs": [],
   "source": [
    "monster_crosstab = pd.crosstab(full_df['Monster type'],full_df['Attribute'], dropna=False)\n",
    "monster_crosstab"
   ]
  },
  {
   "cell_type": "code",
   "execution_count": null,
   "id": "fd9ca22d",
   "metadata": {
    "papermill": {
     "duration": 1.662522,
     "end_time": "2023-01-17T16:27:56.866580",
     "exception": false,
     "start_time": "2023-01-17T16:27:55.204058",
     "status": "completed"
    },
    "tags": []
   },
   "outputs": [],
   "source": [
    "plt.figure(figsize = (20,5))\n",
    "sns.heatmap(monster_crosstab[monster_crosstab>0].T, annot=True, fmt=\"g\", cmap='viridis', square=True, norm=mc.LogNorm())\n",
    "plt.show()"
   ]
  },
  {
   "cell_type": "markdown",
   "id": "4daa9957",
   "metadata": {
    "papermill": {
     "duration": 0.40443,
     "end_time": "2023-01-17T16:27:57.343882",
     "exception": false,
     "start_time": "2023-01-17T16:27:56.939452",
     "status": "completed"
    },
    "tags": []
   },
   "source": [
    "#### By primary type"
   ]
  },
  {
   "cell_type": "code",
   "execution_count": null,
   "id": "0f5d0eda",
   "metadata": {
    "papermill": {
     "duration": 0.246542,
     "end_time": "2023-01-17T16:27:57.653285",
     "exception": false,
     "start_time": "2023-01-17T16:27:57.406743",
     "status": "completed"
    },
    "tags": []
   },
   "outputs": [],
   "source": [
    "monster_crosstab_b = pd.crosstab(full_df['Monster type'],full_df['Primary type'], dropna=False)\n",
    "monster_crosstab_b"
   ]
  },
  {
   "cell_type": "code",
   "execution_count": null,
   "id": "5f3b531c",
   "metadata": {
    "papermill": {
     "duration": 1.33318,
     "end_time": "2023-01-17T16:27:59.173258",
     "exception": false,
     "start_time": "2023-01-17T16:27:57.840078",
     "status": "completed"
    },
    "tags": []
   },
   "outputs": [],
   "source": [
    "plt.figure(figsize = (20,5))\n",
    "sns.heatmap(monster_crosstab_b[monster_crosstab_b>0].T, annot=True, fmt=\"g\", cmap='viridis', square=True, norm = mc.LogNorm())\n",
    "plt.show()"
   ]
  },
  {
   "cell_type": "markdown",
   "id": "9056b880",
   "metadata": {
    "papermill": {
     "duration": 0.064205,
     "end_time": "2023-01-17T16:27:59.314324",
     "exception": false,
     "start_time": "2023-01-17T16:27:59.250119",
     "status": "completed"
    },
    "tags": []
   },
   "source": [
    "#### By secondary type"
   ]
  },
  {
   "cell_type": "code",
   "execution_count": null,
   "id": "cbe5bef6",
   "metadata": {
    "papermill": {
     "duration": 0.111317,
     "end_time": "2023-01-17T16:27:59.498424",
     "exception": false,
     "start_time": "2023-01-17T16:27:59.387107",
     "status": "completed"
    },
    "tags": []
   },
   "outputs": [],
   "source": [
    "monster_crosstab_c = pd.crosstab(full_df['Monster type'],full_df['Secondary type'], dropna=False)\n",
    "monster_crosstab_c"
   ]
  },
  {
   "cell_type": "code",
   "execution_count": null,
   "id": "3712cc0e",
   "metadata": {
    "papermill": {
     "duration": 1.114685,
     "end_time": "2023-01-17T16:28:00.684396",
     "exception": false,
     "start_time": "2023-01-17T16:27:59.569711",
     "status": "completed"
    },
    "tags": []
   },
   "outputs": [],
   "source": [
    "plt.figure(figsize = (20,5))\n",
    "sns.heatmap(monster_crosstab_c[monster_crosstab_c>0].T, annot=True, fmt=\"g\", cmap='viridis', square=True, norm = mc.LogNorm())\n",
    "plt.show()"
   ]
  },
  {
   "cell_type": "markdown",
   "id": "aaf6f5d6",
   "metadata": {
    "papermill": {
     "duration": 0.367555,
     "end_time": "2023-01-17T16:28:01.120444",
     "exception": false,
     "start_time": "2023-01-17T16:28:00.752889",
     "status": "completed"
    },
    "tags": []
   },
   "source": [
    "### Effect type"
   ]
  },
  {
   "cell_type": "code",
   "execution_count": null,
   "id": "b44949a6",
   "metadata": {
    "papermill": {
     "duration": 0.206862,
     "end_time": "2023-01-17T16:28:01.904240",
     "exception": false,
     "start_time": "2023-01-17T16:28:01.697378",
     "status": "completed"
    },
    "tags": []
   },
   "outputs": [],
   "source": [
    "print('Total number of effect types:', monster_df['Effect type'].explode().nunique())"
   ]
  },
  {
   "cell_type": "code",
   "execution_count": null,
   "id": "c4e48718",
   "metadata": {
    "papermill": {
     "duration": 0.443412,
     "end_time": "2023-01-17T16:28:02.607881",
     "exception": false,
     "start_time": "2023-01-17T16:28:02.164469",
     "status": "completed"
    },
    "tags": []
   },
   "outputs": [],
   "source": [
    "monster_df[monster_df['Effect type'].notna()].drop(columns=['Card type']).explode('Effect type').groupby('Effect type').nunique()"
   ]
  },
  {
   "cell_type": "code",
   "execution_count": null,
   "id": "ff912d52",
   "metadata": {
    "papermill": {
     "duration": 0.792384,
     "end_time": "2023-01-17T16:28:03.471370",
     "exception": false,
     "start_time": "2023-01-17T16:28:02.678986",
     "status": "completed"
    },
    "tags": []
   },
   "outputs": [],
   "source": [
    "monster_effect_colors = colors_dict['Effect Monster']\n",
    "monster_df['Effect type'].explode('Effect type').value_counts().plot.bar(figsize = (18,6), grid = True, color = monster_effect_colors, title='Effect type')\n",
    "# plt.yscale('log')\n",
    "plt.show()"
   ]
  },
  {
   "cell_type": "markdown",
   "id": "371f2c74",
   "metadata": {
    "papermill": {
     "duration": 0.410094,
     "end_time": "2023-01-17T16:28:03.950947",
     "exception": false,
     "start_time": "2023-01-17T16:28:03.540853",
     "status": "completed"
    },
    "tags": []
   },
   "source": [
    "### ATK"
   ]
  },
  {
   "cell_type": "code",
   "execution_count": null,
   "id": "1b5db865",
   "metadata": {
    "papermill": {
     "duration": 0.366215,
     "end_time": "2023-01-17T16:28:04.409237",
     "exception": false,
     "start_time": "2023-01-17T16:28:04.043022",
     "status": "completed"
    },
    "tags": []
   },
   "outputs": [],
   "source": [
    "print('Total number of ATK values:', monster_df['ATK'].nunique())"
   ]
  },
  {
   "cell_type": "code",
   "execution_count": null,
   "id": "16b9aa14",
   "metadata": {
    "papermill": {
     "duration": 0.506461,
     "end_time": "2023-01-17T16:28:05.137991",
     "exception": false,
     "start_time": "2023-01-17T16:28:04.631530",
     "status": "completed"
    },
    "tags": []
   },
   "outputs": [],
   "source": [
    "monster_df.drop(columns=['Card type']).groupby('ATK').nunique().sort_index(key=lambda x: pd.to_numeric(x, errors = 'coerce'))"
   ]
  },
  {
   "cell_type": "code",
   "execution_count": null,
   "id": "3b1b2e1d",
   "metadata": {
    "papermill": {
     "duration": 1.403053,
     "end_time": "2023-01-17T16:28:06.612776",
     "exception": false,
     "start_time": "2023-01-17T16:28:05.209723",
     "status": "completed"
    },
    "tags": []
   },
   "outputs": [],
   "source": [
    "atk_colors = colors_dict['Monster Card']\n",
    "monster_df['DEF'].value_counts().sort_index(key=lambda x: pd.to_numeric(x, errors = 'coerce')).plot.bar(figsize = (18,6), grid = True, color = atk_colors, title = 'ATK')\n",
    "plt.show()"
   ]
  },
  {
   "cell_type": "markdown",
   "id": "cda8b288",
   "metadata": {
    "papermill": {
     "duration": 0.159996,
     "end_time": "2023-01-17T16:28:06.846677",
     "exception": false,
     "start_time": "2023-01-17T16:28:06.686681",
     "status": "completed"
    },
    "tags": []
   },
   "source": [
    "### DEF"
   ]
  },
  {
   "cell_type": "code",
   "execution_count": null,
   "id": "2aa0ba61",
   "metadata": {
    "papermill": {
     "duration": 0.175371,
     "end_time": "2023-01-17T16:28:07.094010",
     "exception": false,
     "start_time": "2023-01-17T16:28:06.918639",
     "status": "completed"
    },
    "tags": []
   },
   "outputs": [],
   "source": [
    "print('Total number of DEF values:', monster_df['DEF'].nunique())"
   ]
  },
  {
   "cell_type": "code",
   "execution_count": null,
   "id": "54e9d56a",
   "metadata": {
    "papermill": {
     "duration": 0.19552,
     "end_time": "2023-01-17T16:28:07.397783",
     "exception": false,
     "start_time": "2023-01-17T16:28:07.202263",
     "status": "completed"
    },
    "tags": []
   },
   "outputs": [],
   "source": [
    "monster_df.drop(columns=['Card type']).groupby('DEF').nunique().sort_index(key=lambda x: pd.to_numeric(x, errors = 'coerce'))"
   ]
  },
  {
   "cell_type": "code",
   "execution_count": null,
   "id": "10aeff48",
   "metadata": {
    "papermill": {
     "duration": 1.200873,
     "end_time": "2023-01-17T16:28:08.671391",
     "exception": false,
     "start_time": "2023-01-17T16:28:07.470518",
     "status": "completed"
    },
    "tags": []
   },
   "outputs": [],
   "source": [
    "def_colors = colors_dict['Monster Card']\n",
    "monster_df['DEF'].value_counts().sort_index(key=lambda x: pd.to_numeric(x, errors = 'coerce')).plot.bar(figsize = (18,6), grid = True, color = def_colors, title = 'DEF')\n",
    "plt.show()"
   ]
  },
  {
   "cell_type": "markdown",
   "id": "4f26bf6d",
   "metadata": {
    "papermill": {
     "duration": 0.374514,
     "end_time": "2023-01-17T16:28:09.118226",
     "exception": false,
     "start_time": "2023-01-17T16:28:08.743712",
     "status": "completed"
    },
    "tags": []
   },
   "source": [
    "### Level/Rank"
   ]
  },
  {
   "cell_type": "code",
   "execution_count": null,
   "id": "f5543138",
   "metadata": {
    "papermill": {
     "duration": 0.573518,
     "end_time": "2023-01-17T16:28:09.995577",
     "exception": false,
     "start_time": "2023-01-17T16:28:09.422059",
     "status": "completed"
    },
    "tags": []
   },
   "outputs": [],
   "source": [
    "monster_df.drop(columns=['Card type', 'Link', 'Link Arrows']).groupby('Level/Rank').nunique().sort_index(key=lambda x: pd.to_numeric(x, errors = 'coerce'))"
   ]
  },
  {
   "cell_type": "code",
   "execution_count": null,
   "id": "31539bdc",
   "metadata": {
    "papermill": {
     "duration": 0.465498,
     "end_time": "2023-01-17T16:28:10.546380",
     "exception": false,
     "start_time": "2023-01-17T16:28:10.080882",
     "status": "completed"
    },
    "tags": []
   },
   "outputs": [],
   "source": [
    "stars_colors = colors_dict['Level']\n",
    "monster_df['Level/Rank'].value_counts().sort_index(key=lambda x: pd.to_numeric(x, errors = 'coerce')).plot.bar(figsize = (18,6), grid = True, rot=0, color= stars_colors, title = 'Level/Rank')\n",
    "plt.show()"
   ]
  },
  {
   "cell_type": "markdown",
   "id": "6a08e2b8",
   "metadata": {
    "papermill": {
     "duration": 0.071766,
     "end_time": "2023-01-17T16:28:10.690008",
     "exception": false,
     "start_time": "2023-01-17T16:28:10.618242",
     "status": "completed"
    },
    "tags": []
   },
   "source": [
    "#### ATK statistics"
   ]
  },
  {
   "cell_type": "code",
   "execution_count": null,
   "id": "06dc9107",
   "metadata": {
    "papermill": {
     "duration": 0.175999,
     "end_time": "2023-01-17T16:28:10.962200",
     "exception": false,
     "start_time": "2023-01-17T16:28:10.786201",
     "status": "completed"
    },
    "tags": []
   },
   "outputs": [],
   "source": [
    "monster_df[['Level/Rank','ATK']].apply(pd.to_numeric, errors = 'coerce').dropna().astype(int).groupby('Level/Rank').describe()"
   ]
  },
  {
   "cell_type": "markdown",
   "id": "b8a04916",
   "metadata": {
    "papermill": {
     "duration": 0.074576,
     "end_time": "2023-01-17T16:28:11.260026",
     "exception": false,
     "start_time": "2023-01-17T16:28:11.185450",
     "status": "completed"
    },
    "tags": []
   },
   "source": [
    "#### DEF statistics"
   ]
  },
  {
   "cell_type": "code",
   "execution_count": null,
   "id": "cc005e78",
   "metadata": {
    "papermill": {
     "duration": 0.228016,
     "end_time": "2023-01-17T16:28:11.748124",
     "exception": false,
     "start_time": "2023-01-17T16:28:11.520108",
     "status": "completed"
    },
    "tags": []
   },
   "outputs": [],
   "source": [
    "monster_df[['Level/Rank','DEF']].apply(pd.to_numeric, errors = 'coerce').dropna().astype(int).groupby('Level/Rank').describe()"
   ]
  },
  {
   "cell_type": "markdown",
   "id": "4029a29d",
   "metadata": {
    "papermill": {
     "duration": 0.332901,
     "end_time": "2023-01-17T16:28:12.159571",
     "exception": false,
     "start_time": "2023-01-17T16:28:11.826670",
     "status": "completed"
    },
    "tags": []
   },
   "source": [
    "### Pendulum scale"
   ]
  },
  {
   "cell_type": "code",
   "execution_count": null,
   "id": "9db07376",
   "metadata": {
    "papermill": {
     "duration": 0.232433,
     "end_time": "2023-01-17T16:28:12.986607",
     "exception": false,
     "start_time": "2023-01-17T16:28:12.754174",
     "status": "completed"
    },
    "tags": []
   },
   "outputs": [],
   "source": [
    "monster_df.drop(columns=['Card type', 'Link', 'Link Arrows']).groupby('Pendulum Scale').nunique().sort_index(key=lambda x: pd.to_numeric(x, errors = 'coerce'))"
   ]
  },
  {
   "cell_type": "code",
   "execution_count": null,
   "id": "331eba0b",
   "metadata": {
    "papermill": {
     "duration": 0.443686,
     "end_time": "2023-01-17T16:28:13.503700",
     "exception": false,
     "start_time": "2023-01-17T16:28:13.060014",
     "status": "completed"
    },
    "tags": []
   },
   "outputs": [],
   "source": [
    "scales_colors = colors_dict['Pendulum Monster']\n",
    "monster_df['Pendulum Scale'].value_counts().sort_index(key=lambda x: pd.to_numeric(x, errors = 'coerce')).plot.bar(figsize = (18,6), grid = True, rot=0, color = scales_colors, title = 'Pendulum scale')\n",
    "plt.show()"
   ]
  },
  {
   "cell_type": "markdown",
   "id": "c4cee785",
   "metadata": {
    "papermill": {
     "duration": 0.144602,
     "end_time": "2023-01-17T16:28:13.725033",
     "exception": false,
     "start_time": "2023-01-17T16:28:13.580431",
     "status": "completed"
    },
    "tags": []
   },
   "source": [
    "#### ATK statistics"
   ]
  },
  {
   "cell_type": "code",
   "execution_count": null,
   "id": "75427d69",
   "metadata": {
    "papermill": {
     "duration": 0.334602,
     "end_time": "2023-01-17T16:28:14.452170",
     "exception": false,
     "start_time": "2023-01-17T16:28:14.117568",
     "status": "completed"
    },
    "tags": []
   },
   "outputs": [],
   "source": [
    "monster_df[['Pendulum Scale','ATK']].apply(pd.to_numeric, errors = 'coerce').dropna().astype(int).groupby('Pendulum Scale').describe()"
   ]
  },
  {
   "cell_type": "markdown",
   "id": "3ee4da76",
   "metadata": {
    "papermill": {
     "duration": 0.100861,
     "end_time": "2023-01-17T16:28:14.631318",
     "exception": false,
     "start_time": "2023-01-17T16:28:14.530457",
     "status": "completed"
    },
    "tags": []
   },
   "source": [
    "#### DEF statistics"
   ]
  },
  {
   "cell_type": "code",
   "execution_count": null,
   "id": "c474abd4",
   "metadata": {
    "papermill": {
     "duration": 0.171971,
     "end_time": "2023-01-17T16:28:14.912630",
     "exception": false,
     "start_time": "2023-01-17T16:28:14.740659",
     "status": "completed"
    },
    "tags": []
   },
   "outputs": [],
   "source": [
    "monster_df[['Pendulum Scale','DEF']].apply(pd.to_numeric, errors = 'coerce').dropna().astype(int).groupby('Pendulum Scale').describe()"
   ]
  },
  {
   "cell_type": "markdown",
   "id": "87d81ad5",
   "metadata": {
    "papermill": {
     "duration": 0.094972,
     "end_time": "2023-01-17T16:28:15.087604",
     "exception": false,
     "start_time": "2023-01-17T16:28:14.992632",
     "status": "completed"
    },
    "tags": []
   },
   "source": [
    "#### Level/Rank statistics"
   ]
  },
  {
   "cell_type": "code",
   "execution_count": null,
   "id": "027c9b3e",
   "metadata": {
    "papermill": {
     "duration": 0.205833,
     "end_time": "2023-01-17T16:28:15.372819",
     "exception": false,
     "start_time": "2023-01-17T16:28:15.166986",
     "status": "completed"
    },
    "tags": []
   },
   "outputs": [],
   "source": [
    "monster_df[['Pendulum Scale','Level/Rank']].apply(pd.to_numeric, errors = 'coerce').dropna().astype(int).groupby('Pendulum Scale').describe()"
   ]
  },
  {
   "cell_type": "markdown",
   "id": "93f3aba0",
   "metadata": {
    "papermill": {
     "duration": 0.124768,
     "end_time": "2023-01-17T16:28:15.574727",
     "exception": false,
     "start_time": "2023-01-17T16:28:15.449959",
     "status": "completed"
    },
    "tags": []
   },
   "source": [
    "### Link"
   ]
  },
  {
   "cell_type": "code",
   "execution_count": null,
   "id": "3ba56226",
   "metadata": {
    "papermill": {
     "duration": 0.299153,
     "end_time": "2023-01-17T16:28:16.001663",
     "exception": false,
     "start_time": "2023-01-17T16:28:15.702510",
     "status": "completed"
    },
    "tags": []
   },
   "outputs": [],
   "source": [
    "monster_df.drop(columns=['Card type', 'Primary type', 'Secondary type','Level/Rank','DEF','Pendulum Scale']).groupby('Link').nunique().sort_index(key=lambda x: pd.to_numeric(x, errors = 'coerce'))"
   ]
  },
  {
   "cell_type": "code",
   "execution_count": null,
   "id": "3afbb00a",
   "metadata": {
    "papermill": {
     "duration": 0.441953,
     "end_time": "2023-01-17T16:28:16.520730",
     "exception": false,
     "start_time": "2023-01-17T16:28:16.078777",
     "status": "completed"
    },
    "tags": []
   },
   "outputs": [],
   "source": [
    "link_colors = colors_dict['Link Monster']\n",
    "monster_df['Link'].value_counts().sort_index(key=lambda x: pd.to_numeric(x, errors = 'coerce')).plot.bar(figsize = (18,6), grid = True, rot=0, color = link_colors, title='Link')\n",
    "plt.show()"
   ]
  },
  {
   "cell_type": "markdown",
   "id": "5f20abde",
   "metadata": {
    "papermill": {
     "duration": 0.281114,
     "end_time": "2023-01-17T16:28:16.882878",
     "exception": false,
     "start_time": "2023-01-17T16:28:16.601764",
     "status": "completed"
    },
    "tags": []
   },
   "source": [
    "#### ATK statistics"
   ]
  },
  {
   "cell_type": "code",
   "execution_count": null,
   "id": "c80d9372",
   "metadata": {
    "papermill": {
     "duration": 0.174886,
     "end_time": "2023-01-17T16:28:17.190450",
     "exception": false,
     "start_time": "2023-01-17T16:28:17.015564",
     "status": "completed"
    },
    "tags": []
   },
   "outputs": [],
   "source": [
    "monster_df[['Link','ATK']].apply(pd.to_numeric, errors = 'coerce').dropna().astype(int).groupby('Link').describe()"
   ]
  },
  {
   "cell_type": "markdown",
   "id": "f585a876",
   "metadata": {
    "papermill": {
     "duration": 0.144857,
     "end_time": "2023-01-17T16:28:17.412571",
     "exception": false,
     "start_time": "2023-01-17T16:28:17.267714",
     "status": "completed"
    },
    "tags": []
   },
   "source": [
    "### Link Arrows"
   ]
  },
  {
   "cell_type": "markdown",
   "id": "b1373514",
   "metadata": {
    "papermill": {
     "duration": 0.080182,
     "end_time": "2023-01-17T16:28:17.575519",
     "exception": false,
     "start_time": "2023-01-17T16:28:17.495337",
     "status": "completed"
    },
    "tags": []
   },
   "source": [
    "#### By combination"
   ]
  },
  {
   "cell_type": "code",
   "execution_count": null,
   "id": "1130304f",
   "metadata": {
    "papermill": {
     "duration": 0.228667,
     "end_time": "2023-01-17T16:28:18.001172",
     "exception": false,
     "start_time": "2023-01-17T16:28:17.772505",
     "status": "completed"
    },
    "tags": []
   },
   "outputs": [],
   "source": [
    "print('Total number of link arrow combinations:', monster_df['Link Arrows'].nunique())"
   ]
  },
  {
   "cell_type": "code",
   "execution_count": null,
   "id": "7acfc7a1",
   "metadata": {
    "papermill": {
     "duration": 0.194176,
     "end_time": "2023-01-17T16:28:18.292653",
     "exception": false,
     "start_time": "2023-01-17T16:28:18.098477",
     "status": "completed"
    },
    "tags": []
   },
   "outputs": [],
   "source": [
    "monster_df.drop(columns=['Card type', 'Primary type', 'Level/Rank', 'Pendulum Scale', 'Link', 'Secondary type', 'DEF']).groupby('Link Arrows').nunique()"
   ]
  },
  {
   "cell_type": "code",
   "execution_count": null,
   "id": "66c65c93",
   "metadata": {
    "papermill": {
     "duration": 1.163184,
     "end_time": "2023-01-17T16:28:19.761396",
     "exception": false,
     "start_time": "2023-01-17T16:28:18.598212",
     "status": "completed"
    },
    "tags": []
   },
   "outputs": [],
   "source": [
    "arrows_colors = colors_dict['Link Monster']\n",
    "monster_df['Link Arrows'].value_counts().plot.barh(figsize = (10,20), grid = True, color = arrows_colors, title = 'Link arrows combinations')\n",
    "plt.show()"
   ]
  },
  {
   "cell_type": "markdown",
   "id": "aa520eaf",
   "metadata": {
    "papermill": {
     "duration": 0.491933,
     "end_time": "2023-01-17T16:28:20.331787",
     "exception": false,
     "start_time": "2023-01-17T16:28:19.839854",
     "status": "completed"
    },
    "tags": []
   },
   "source": [
    "#### By unique"
   ]
  },
  {
   "cell_type": "code",
   "execution_count": null,
   "id": "85cda4e5",
   "metadata": {
    "papermill": {
     "duration": 0.407373,
     "end_time": "2023-01-17T16:28:21.532984",
     "exception": false,
     "start_time": "2023-01-17T16:28:21.125611",
     "status": "completed"
    },
    "tags": []
   },
   "outputs": [],
   "source": [
    "monster_df[monster_df['Link Arrows'].notna()].drop(columns=['Card type', 'Primary type', 'Level/Rank', 'Pendulum Scale', 'Secondary type', 'DEF']).explode('Link Arrows').groupby('Link Arrows').nunique()"
   ]
  },
  {
   "cell_type": "code",
   "execution_count": null,
   "id": "c3161d6e",
   "metadata": {
    "papermill": {
     "duration": 0.417201,
     "end_time": "2023-01-17T16:28:22.362464",
     "exception": false,
     "start_time": "2023-01-17T16:28:21.945263",
     "status": "completed"
    },
    "tags": []
   },
   "outputs": [],
   "source": [
    "arrows_colors_b = colors_dict['Link Monster']\n",
    "monster_df['Link Arrows'].explode('Link Arrows').value_counts().plot.bar(figsize = (18,6), grid = True, color = arrows_colors_b, title = 'Link arrows')\n",
    "plt.show()"
   ]
  },
  {
   "cell_type": "markdown",
   "id": "e36f6792",
   "metadata": {
    "papermill": {
     "duration": 0.080562,
     "end_time": "2023-01-17T16:28:22.524766",
     "exception": false,
     "start_time": "2023-01-17T16:28:22.444204",
     "status": "completed"
    },
    "tags": []
   },
   "source": [
    "#### By link"
   ]
  },
  {
   "cell_type": "code",
   "execution_count": null,
   "id": "8a6b3372",
   "metadata": {
    "papermill": {
     "duration": 0.141379,
     "end_time": "2023-01-17T16:28:22.826844",
     "exception": false,
     "start_time": "2023-01-17T16:28:22.685465",
     "status": "completed"
    },
    "tags": []
   },
   "outputs": [],
   "source": [
    "arrow_per_link = monster_df[['Link Arrows','Link']].explode('Link Arrows').dropna()\n",
    "arrow_crosstab = pd.crosstab(arrow_per_link['Link Arrows'],arrow_per_link['Link'])\n",
    "arrow_crosstab"
   ]
  },
  {
   "cell_type": "code",
   "execution_count": null,
   "id": "a22dab12",
   "metadata": {
    "papermill": {
     "duration": 0.732324,
     "end_time": "2023-01-17T16:28:23.647553",
     "exception": false,
     "start_time": "2023-01-17T16:28:22.915229",
     "status": "completed"
    },
    "tags": []
   },
   "outputs": [],
   "source": [
    "plt.figure(figsize = (10,6))\n",
    "sns.heatmap(arrow_crosstab[arrow_crosstab>0].T, annot=True, fmt=\"g\", cmap='viridis', square=True, norm=mc.LogNorm())\n",
    "plt.show()"
   ]
  },
  {
   "cell_type": "markdown",
   "id": "bb0bbf58",
   "metadata": {
    "papermill": {
     "duration": 0.125735,
     "end_time": "2023-01-17T16:28:23.869900",
     "exception": false,
     "start_time": "2023-01-17T16:28:23.744165",
     "status": "completed"
    },
    "tags": []
   },
   "source": [
    "## Spell & Trap"
   ]
  },
  {
   "cell_type": "markdown",
   "id": "f47b1472",
   "metadata": {
    "papermill": {
     "duration": 0.212771,
     "end_time": "2023-01-17T16:28:24.217652",
     "exception": false,
     "start_time": "2023-01-17T16:28:24.004881",
     "status": "completed"
    },
    "tags": []
   },
   "source": [
    "### Properties"
   ]
  },
  {
   "cell_type": "code",
   "execution_count": null,
   "id": "fdd7cb44",
   "metadata": {
    "papermill": {
     "duration": 0.121051,
     "end_time": "2023-01-17T16:28:24.661216",
     "exception": false,
     "start_time": "2023-01-17T16:28:24.540165",
     "status": "completed"
    },
    "tags": []
   },
   "outputs": [],
   "source": [
    "print('Total number of properties:', st_df['Property'].nunique())"
   ]
  },
  {
   "cell_type": "code",
   "execution_count": null,
   "id": "52c0aa20",
   "metadata": {
    "papermill": {
     "duration": 0.173851,
     "end_time": "2023-01-17T16:28:25.035346",
     "exception": false,
     "start_time": "2023-01-17T16:28:24.861495",
     "status": "completed"
    },
    "tags": []
   },
   "outputs": [],
   "source": [
    "st_df.drop(columns=['Card type']).groupby('Property').nunique()"
   ]
  },
  {
   "cell_type": "code",
   "execution_count": null,
   "id": "cd537db7",
   "metadata": {
    "papermill": {
     "duration": 0.62853,
     "end_time": "2023-01-17T16:28:25.875739",
     "exception": false,
     "start_time": "2023-01-17T16:28:25.247209",
     "status": "completed"
    },
    "tags": []
   },
   "outputs": [],
   "source": [
    "st_colors = [colors_dict[i] for i in full_df[['Card type','Property']].value_counts().index.get_level_values(0)]\n",
    "st_df['Property'].value_counts().plot.bar(figsize = (18,6), grid = True, rot=45, color = st_colors, title = 'Property')\n",
    "plt.show()"
   ]
  },
  {
   "cell_type": "markdown",
   "id": "eab733b7",
   "metadata": {
    "papermill": {
     "duration": 0.21201,
     "end_time": "2023-01-17T16:28:26.171342",
     "exception": false,
     "start_time": "2023-01-17T16:28:25.959332",
     "status": "completed"
    },
    "tags": []
   },
   "source": [
    "### Effect type"
   ]
  },
  {
   "cell_type": "code",
   "execution_count": null,
   "id": "f955ec1d",
   "metadata": {
    "papermill": {
     "duration": 0.104678,
     "end_time": "2023-01-17T16:28:26.364175",
     "exception": false,
     "start_time": "2023-01-17T16:28:26.259497",
     "status": "completed"
    },
    "tags": []
   },
   "outputs": [],
   "source": [
    "print('Total number of effect types:', st_df['Effect type'].explode().nunique())"
   ]
  },
  {
   "cell_type": "code",
   "execution_count": null,
   "id": "9e0f62a2",
   "metadata": {
    "papermill": {
     "duration": 0.309852,
     "end_time": "2023-01-17T16:28:26.821056",
     "exception": false,
     "start_time": "2023-01-17T16:28:26.511204",
     "status": "completed"
    },
    "tags": []
   },
   "outputs": [],
   "source": [
    "st_df.explode('Effect type').groupby('Effect type').nunique()"
   ]
  },
  {
   "cell_type": "markdown",
   "id": "64868037",
   "metadata": {
    "papermill": {
     "duration": 0.083694,
     "end_time": "2023-01-17T16:28:26.990752",
     "exception": false,
     "start_time": "2023-01-17T16:28:26.907058",
     "status": "completed"
    },
    "tags": []
   },
   "source": [
    "#### Spell & Trap discrimination"
   ]
  },
  {
   "cell_type": "code",
   "execution_count": null,
   "id": "75843f9d",
   "metadata": {
    "papermill": {
     "duration": 0.181608,
     "end_time": "2023-01-17T16:28:27.374315",
     "exception": false,
     "start_time": "2023-01-17T16:28:27.192707",
     "status": "completed"
    },
    "tags": []
   },
   "outputs": [],
   "source": [
    "spell = spell_df['Effect type'].explode('Effect type').value_counts().rename('Spell Card')\n",
    "trap = trap_df['Effect type'].explode('Effect type').value_counts().rename('Trap Card')\n",
    "st_diff = pd.concat([spell, trap], axis = 1).fillna(0).astype(int)\n",
    "st_diff"
   ]
  },
  {
   "cell_type": "code",
   "execution_count": null,
   "id": "373757a0",
   "metadata": {
    "papermill": {
     "duration": 0.907306,
     "end_time": "2023-01-17T16:28:28.368370",
     "exception": false,
     "start_time": "2023-01-17T16:28:27.461064",
     "status": "completed"
    },
    "tags": []
   },
   "outputs": [],
   "source": [
    "st_diff_colors = {'Spell Card': colors_dict['Spell Card'], 'Trap Card': colors_dict['Trap Card']}\n",
    "st_diff.plot.bar(figsize = (18,6), stacked = True, grid = True, rot=45, color = st_diff_colors, title = 'Effect type')\n",
    "plt.show()"
   ]
  },
  {
   "cell_type": "markdown",
   "id": "0013b7c7",
   "metadata": {
    "papermill": {
     "duration": 0.314384,
     "end_time": "2023-01-17T16:28:28.770365",
     "exception": false,
     "start_time": "2023-01-17T16:28:28.455981",
     "status": "completed"
    },
    "tags": []
   },
   "source": [
    "## Archseries"
   ]
  },
  {
   "cell_type": "code",
   "execution_count": null,
   "id": "ce1470dc",
   "metadata": {
    "papermill": {
     "duration": 0.270703,
     "end_time": "2023-01-17T16:28:29.142658",
     "exception": false,
     "start_time": "2023-01-17T16:28:28.871955",
     "status": "completed"
    },
    "tags": []
   },
   "outputs": [],
   "source": [
    "exploded_archseries = full_df.explode('Archseries')\n",
    "print('Total number of Archseries:', exploded_archseries['Archseries'].nunique())"
   ]
  },
  {
   "cell_type": "code",
   "execution_count": null,
   "id": "f31c5b8c",
   "metadata": {
    "papermill": {
     "duration": 0.254256,
     "end_time": "2023-01-17T16:28:29.482818",
     "exception": false,
     "start_time": "2023-01-17T16:28:29.228562",
     "status": "completed"
    },
    "tags": []
   },
   "outputs": [],
   "source": [
    "exploded_archseries.groupby('Archseries').nunique()"
   ]
  },
  {
   "cell_type": "code",
   "execution_count": null,
   "id": "00c9f321",
   "metadata": {
    "papermill": {
     "duration": 10.085211,
     "end_time": "2023-01-17T16:28:39.664446",
     "exception": false,
     "start_time": "2023-01-17T16:28:29.579235",
     "status": "completed"
    },
    "tags": []
   },
   "outputs": [],
   "source": [
    "exploded_archseries['Archseries'].value_counts().plot.barh(figsize = (10,200), grid = True, title = 'Archtypes/Series')\n",
    "plt.show()"
   ]
  },
  {
   "cell_type": "markdown",
   "id": "cf3bf55f",
   "metadata": {
    "papermill": {
     "duration": 0.395884,
     "end_time": "2023-01-17T16:28:40.185695",
     "exception": false,
     "start_time": "2023-01-17T16:28:39.789811",
     "status": "completed"
    },
    "tags": []
   },
   "source": [
    "### By card type"
   ]
  },
  {
   "cell_type": "code",
   "execution_count": null,
   "id": "fbf65c3c",
   "metadata": {
    "papermill": {
     "duration": 0.393713,
     "end_time": "2023-01-17T16:28:40.871270",
     "exception": false,
     "start_time": "2023-01-17T16:28:40.477557",
     "status": "completed"
    },
    "tags": []
   },
   "outputs": [],
   "source": [
    "archseries_crosstab = pd.crosstab(exploded_archseries['Archseries'],exploded_archseries['Card type'], margins = True)\n",
    "archseries_crosstab"
   ]
  },
  {
   "cell_type": "markdown",
   "id": "960ea110",
   "metadata": {
    "papermill": {
     "duration": 0.191659,
     "end_time": "2023-01-17T16:28:41.185646",
     "exception": false,
     "start_time": "2023-01-17T16:28:40.993987",
     "status": "completed"
    },
    "tags": []
   },
   "source": [
    "### By primary type"
   ]
  },
  {
   "cell_type": "code",
   "execution_count": null,
   "id": "2c3671f0",
   "metadata": {
    "papermill": {
     "duration": 0.344404,
     "end_time": "2023-01-17T16:28:41.763478",
     "exception": false,
     "start_time": "2023-01-17T16:28:41.419074",
     "status": "completed"
    },
    "tags": []
   },
   "outputs": [],
   "source": [
    "archseries_crosstab_b = pd.crosstab(exploded_archseries['Archseries'],exploded_archseries['Primary type'], margins = True)\n",
    "archseries_crosstab_b"
   ]
  },
  {
   "cell_type": "markdown",
   "id": "6de5fdac",
   "metadata": {
    "papermill": {
     "duration": 0.123012,
     "end_time": "2023-01-17T16:28:42.008223",
     "exception": false,
     "start_time": "2023-01-17T16:28:41.885211",
     "status": "completed"
    },
    "tags": []
   },
   "source": [
    "\n",
    "\n",
    "### By secondary type"
   ]
  },
  {
   "cell_type": "code",
   "execution_count": null,
   "id": "966a00dd",
   "metadata": {
    "papermill": {
     "duration": 0.414728,
     "end_time": "2023-01-17T16:28:42.579639",
     "exception": false,
     "start_time": "2023-01-17T16:28:42.164911",
     "status": "completed"
    },
    "tags": []
   },
   "outputs": [],
   "source": [
    "archseries_crosstab_c = pd.crosstab(exploded_archseries['Archseries'],exploded_archseries['Secondary type'], margins = True)\n",
    "archseries_crosstab_c"
   ]
  },
  {
   "cell_type": "markdown",
   "id": "a881d945",
   "metadata": {
    "papermill": {
     "duration": 0.121166,
     "end_time": "2023-01-17T16:28:42.824266",
     "exception": false,
     "start_time": "2023-01-17T16:28:42.703100",
     "status": "completed"
    },
    "tags": []
   },
   "source": [
    "### By monster type"
   ]
  },
  {
   "cell_type": "code",
   "execution_count": null,
   "id": "d99ee9e1",
   "metadata": {
    "papermill": {
     "duration": 0.366085,
     "end_time": "2023-01-17T16:28:43.313278",
     "exception": false,
     "start_time": "2023-01-17T16:28:42.947193",
     "status": "completed"
    },
    "tags": []
   },
   "outputs": [],
   "source": [
    "archseries_crosstab_d = pd.crosstab(exploded_archseries['Archseries'],exploded_archseries['Monster type'], margins = True)\n",
    "archseries_crosstab_d"
   ]
  },
  {
   "cell_type": "markdown",
   "id": "f97ab388",
   "metadata": {
    "papermill": {
     "duration": 0.192347,
     "end_time": "2023-01-17T16:28:43.637567",
     "exception": false,
     "start_time": "2023-01-17T16:28:43.445220",
     "status": "completed"
    },
    "tags": []
   },
   "source": [
    "### By property"
   ]
  },
  {
   "cell_type": "code",
   "execution_count": null,
   "id": "fbbb1ccc",
   "metadata": {
    "papermill": {
     "duration": 0.330911,
     "end_time": "2023-01-17T16:28:44.096206",
     "exception": false,
     "start_time": "2023-01-17T16:28:43.765295",
     "status": "completed"
    },
    "tags": []
   },
   "outputs": [],
   "source": [
    "archseries_crosstab_e = pd.crosstab(exploded_archseries['Archseries'],exploded_archseries['Property'], margins = True)\n",
    "archseries_crosstab_e"
   ]
  },
  {
   "cell_type": "markdown",
   "id": "554f6e74",
   "metadata": {
    "papermill": {
     "duration": 0.123417,
     "end_time": "2023-01-17T16:28:44.343595",
     "exception": false,
     "start_time": "2023-01-17T16:28:44.220178",
     "status": "completed"
    },
    "tags": []
   },
   "source": [
    "## Artworks"
   ]
  },
  {
   "cell_type": "code",
   "execution_count": null,
   "id": "2224e061",
   "metadata": {
    "papermill": {
     "duration": 0.136309,
     "end_time": "2023-01-17T16:28:44.740763",
     "exception": false,
     "start_time": "2023-01-17T16:28:44.604454",
     "status": "completed"
    },
    "tags": []
   },
   "outputs": [],
   "source": [
    "print('Total number of cards with edited or alternate artworks:', full_df['Artwork'].count())"
   ]
  },
  {
   "cell_type": "code",
   "execution_count": null,
   "id": "f7492a67",
   "metadata": {
    "papermill": {
     "duration": 0.163211,
     "end_time": "2023-01-17T16:28:45.048862",
     "exception": false,
     "start_time": "2023-01-17T16:28:44.885651",
     "status": "completed"
    },
    "tags": []
   },
   "outputs": [],
   "source": [
    "full_df[['Name','Password','TCG status','OCG status','Artwork']][full_df['Artwork'].notna()]"
   ]
  },
  {
   "cell_type": "code",
   "execution_count": null,
   "id": "fa1ea6aa",
   "metadata": {
    "papermill": {
     "duration": 0.43123,
     "end_time": "2023-01-17T16:28:45.604469",
     "exception": false,
     "start_time": "2023-01-17T16:28:45.173239",
     "status": "completed"
    },
    "tags": []
   },
   "outputs": [],
   "source": [
    "artwork_value_counts = full_df['Artwork'].value_counts()\n",
    "plt.figure(figsize=(20,8))\n",
    "plt.title('Artworks')\n",
    "venn2(subsets = (artwork_value_counts[('Alternate',)], artwork_value_counts[('Edited',)],artwork_value_counts[('Alternate','Edited')]), set_labels = ('Alternate artwork', 'Edited artwork'))\n",
    "plt.show()"
   ]
  },
  {
   "cell_type": "markdown",
   "id": "e49df5df",
   "metadata": {
    "papermill": {
     "duration": 0.149206,
     "end_time": "2023-01-17T16:28:45.884044",
     "exception": false,
     "start_time": "2023-01-17T16:28:45.734838",
     "status": "completed"
    },
    "tags": []
   },
   "source": [
    "### By card type"
   ]
  },
  {
   "cell_type": "code",
   "execution_count": null,
   "id": "1b14c224",
   "metadata": {
    "papermill": {
     "duration": 0.171773,
     "end_time": "2023-01-17T16:28:46.193937",
     "exception": false,
     "start_time": "2023-01-17T16:28:46.022164",
     "status": "completed"
    },
    "tags": []
   },
   "outputs": [],
   "source": [
    "artwork_crosstab = pd.crosstab(full_df['Artwork'], full_df['Card type'])\n",
    "artwork_crosstab"
   ]
  },
  {
   "cell_type": "markdown",
   "id": "81afa2df",
   "metadata": {
    "papermill": {
     "duration": 0.191761,
     "end_time": "2023-01-17T16:28:46.512008",
     "exception": false,
     "start_time": "2023-01-17T16:28:46.320247",
     "status": "completed"
    },
    "tags": []
   },
   "source": [
    "### By primary type"
   ]
  },
  {
   "cell_type": "code",
   "execution_count": null,
   "id": "55081aa0",
   "metadata": {
    "papermill": {
     "duration": 0.173713,
     "end_time": "2023-01-17T16:28:46.818876",
     "exception": false,
     "start_time": "2023-01-17T16:28:46.645163",
     "status": "completed"
    },
    "tags": []
   },
   "outputs": [],
   "source": [
    "artwork_crosstab_b = pd.crosstab(full_df['Artwork'], full_df['Primary type'])\n",
    "artwork_crosstab_b"
   ]
  },
  {
   "cell_type": "markdown",
   "id": "14a90117",
   "metadata": {
    "papermill": {
     "duration": 0.130225,
     "end_time": "2023-01-17T16:28:47.075916",
     "exception": false,
     "start_time": "2023-01-17T16:28:46.945691",
     "status": "completed"
    },
    "tags": []
   },
   "source": [
    "More granularity is unnecessary"
   ]
  },
  {
   "cell_type": "markdown",
   "id": "5210d61b",
   "metadata": {
    "papermill": {
     "duration": 0.169363,
     "end_time": "2023-01-17T16:28:47.393054",
     "exception": false,
     "start_time": "2023-01-17T16:28:47.223691",
     "status": "completed"
    },
    "tags": []
   },
   "source": [
    "## Errata"
   ]
  },
  {
   "cell_type": "code",
   "execution_count": null,
   "id": "09b33100",
   "metadata": {
    "papermill": {
     "duration": 0.236573,
     "end_time": "2023-01-17T16:28:47.821161",
     "exception": false,
     "start_time": "2023-01-17T16:28:47.584588",
     "status": "completed"
    },
    "tags": []
   },
   "outputs": [],
   "source": [
    "print('Total number of cards with name or type errata:', full_df['Errata'].count())"
   ]
  },
  {
   "cell_type": "code",
   "execution_count": null,
   "id": "40462eee",
   "metadata": {
    "papermill": {
     "duration": 0.536096,
     "end_time": "2023-01-17T16:28:49.486677",
     "exception": false,
     "start_time": "2023-01-17T16:28:48.950581",
     "status": "completed"
    },
    "tags": []
   },
   "outputs": [],
   "source": [
    "full_df[['Name','Password','TCG status','OCG status','Errata']][full_df['Errata'].notna()]"
   ]
  },
  {
   "cell_type": "code",
   "execution_count": null,
   "id": "60843a4f",
   "metadata": {
    "papermill": {
     "duration": 0.769407,
     "end_time": "2023-01-17T16:28:50.383049",
     "exception": false,
     "start_time": "2023-01-17T16:28:49.613642",
     "status": "completed"
    },
    "tags": []
   },
   "outputs": [],
   "source": [
    "errata_value_counts = full_df['Errata'].value_counts()\n",
    "plt.figure(figsize=(20,8))\n",
    "plt.title('Errata')\n",
    "venn2(subsets = (errata_value_counts[('Name',)], errata_value_counts[('Type',)],errata_value_counts[('Name','Type')]), set_labels = ('Name Errata', 'Type errata'))\n",
    "plt.show()"
   ]
  },
  {
   "cell_type": "markdown",
   "id": "a3703983",
   "metadata": {
    "papermill": {
     "duration": 0.288322,
     "end_time": "2023-01-17T16:28:50.798607",
     "exception": false,
     "start_time": "2023-01-17T16:28:50.510285",
     "status": "completed"
    },
    "tags": []
   },
   "source": [
    "### By card type"
   ]
  },
  {
   "cell_type": "code",
   "execution_count": null,
   "id": "fb103c29",
   "metadata": {
    "papermill": {
     "duration": 0.497088,
     "end_time": "2023-01-17T16:28:52.457846",
     "exception": false,
     "start_time": "2023-01-17T16:28:51.960758",
     "status": "completed"
    },
    "tags": []
   },
   "outputs": [],
   "source": [
    "errata_crosstab = pd.crosstab(full_df['Errata'], full_df['Card type'])\n",
    "errata_crosstab"
   ]
  },
  {
   "cell_type": "markdown",
   "id": "36d241f1",
   "metadata": {
    "papermill": {
     "duration": 0.448227,
     "end_time": "2023-01-17T16:28:53.068341",
     "exception": false,
     "start_time": "2023-01-17T16:28:52.620114",
     "status": "completed"
    },
    "tags": []
   },
   "source": [
    "### By primary type"
   ]
  },
  {
   "cell_type": "code",
   "execution_count": null,
   "id": "5b90628d",
   "metadata": {
    "papermill": {
     "duration": 0.196078,
     "end_time": "2023-01-17T16:28:53.554074",
     "exception": false,
     "start_time": "2023-01-17T16:28:53.357996",
     "status": "completed"
    },
    "tags": []
   },
   "outputs": [],
   "source": [
    "errata_crosstab_b = pd.crosstab(full_df['Errata'], full_df['Primary type'])\n",
    "errata_crosstab_b"
   ]
  },
  {
   "cell_type": "markdown",
   "id": "0029e1ca",
   "metadata": {
    "papermill": {
     "duration": 0.155487,
     "end_time": "2023-01-17T16:28:53.843968",
     "exception": false,
     "start_time": "2023-01-17T16:28:53.688481",
     "status": "completed"
    },
    "tags": []
   },
   "source": [
    "More granularity is unnecessary"
   ]
  },
  {
   "cell_type": "markdown",
   "id": "35d88dda",
   "metadata": {
    "papermill": {
     "duration": 0.129692,
     "end_time": "2023-01-17T16:28:54.104919",
     "exception": false,
     "start_time": "2023-01-17T16:28:53.975227",
     "status": "completed"
    },
    "tags": []
   },
   "source": [
    "### By artwork"
   ]
  },
  {
   "cell_type": "code",
   "execution_count": null,
   "id": "0057def3",
   "metadata": {
    "papermill": {
     "duration": 0.158909,
     "end_time": "2023-01-17T16:28:54.394951",
     "exception": false,
     "start_time": "2023-01-17T16:28:54.236042",
     "status": "completed"
    },
    "tags": []
   },
   "outputs": [],
   "source": [
    "errata_crosstab_c = pd.crosstab(full_df['Artwork'], full_df['Errata'])\n",
    "errata_crosstab_c"
   ]
  },
  {
   "cell_type": "markdown",
   "id": "edef3194",
   "metadata": {
    "papermill": {
     "duration": 0.127888,
     "end_time": "2023-01-17T16:28:54.649604",
     "exception": false,
     "start_time": "2023-01-17T16:28:54.521716",
     "status": "completed"
    },
    "tags": []
   },
   "source": [
    "## TCG & OCG status"
   ]
  },
  {
   "cell_type": "markdown",
   "id": "3e7505cd",
   "metadata": {
    "papermill": {
     "duration": 0.126946,
     "end_time": "2023-01-17T16:28:54.903427",
     "exception": false,
     "start_time": "2023-01-17T16:28:54.776481",
     "status": "completed"
    },
    "tags": []
   },
   "source": [
    "### TGC status"
   ]
  },
  {
   "cell_type": "code",
   "execution_count": null,
   "id": "88b93fca",
   "metadata": {
    "papermill": {
     "duration": 0.14667,
     "end_time": "2023-01-17T16:28:55.179377",
     "exception": false,
     "start_time": "2023-01-17T16:28:55.032707",
     "status": "completed"
    },
    "tags": []
   },
   "outputs": [],
   "source": [
    "print('Total number of TCG status:', full_df['TCG status'].nunique())"
   ]
  },
  {
   "cell_type": "code",
   "execution_count": null,
   "id": "2c69bec0",
   "metadata": {
    "papermill": {
     "duration": 0.259326,
     "end_time": "2023-01-17T16:28:55.568309",
     "exception": false,
     "start_time": "2023-01-17T16:28:55.308983",
     "status": "completed"
    },
    "tags": []
   },
   "outputs": [],
   "source": [
    "full_df.groupby('TCG status', dropna=False).nunique()"
   ]
  },
  {
   "cell_type": "code",
   "execution_count": null,
   "id": "add82403",
   "metadata": {
    "papermill": {
     "duration": 0.857062,
     "end_time": "2023-01-17T16:28:56.555828",
     "exception": false,
     "start_time": "2023-01-17T16:28:55.698766",
     "status": "completed"
    },
    "tags": []
   },
   "outputs": [],
   "source": [
    "full_df['TCG status'].value_counts(dropna = False).plot.bar(figsize = (18,6), logy=True, grid = True, rot=45, title = 'TCG status')\n",
    "plt.show()"
   ]
  },
  {
   "cell_type": "markdown",
   "id": "f6b985a0",
   "metadata": {
    "papermill": {
     "duration": 0.187285,
     "end_time": "2023-01-17T16:28:56.876591",
     "exception": false,
     "start_time": "2023-01-17T16:28:56.689306",
     "status": "completed"
    },
    "tags": []
   },
   "source": [
    "#### By card type"
   ]
  },
  {
   "cell_type": "code",
   "execution_count": null,
   "id": "12c444ed",
   "metadata": {
    "papermill": {
     "duration": 0.222708,
     "end_time": "2023-01-17T16:28:57.340709",
     "exception": false,
     "start_time": "2023-01-17T16:28:57.118001",
     "status": "completed"
    },
    "tags": []
   },
   "outputs": [],
   "source": [
    "# Remove unlimited\n",
    "tcg_crosstab = pd.crosstab(full_df['Card type'], full_df['TCG status']).drop(['Unlimited'], axis=1)\n",
    "tcg_crosstab"
   ]
  },
  {
   "cell_type": "code",
   "execution_count": null,
   "id": "8648b51e",
   "metadata": {
    "papermill": {
     "duration": 1.430957,
     "end_time": "2023-01-17T16:28:59.475040",
     "exception": false,
     "start_time": "2023-01-17T16:28:58.044083",
     "status": "completed"
    },
    "tags": []
   },
   "outputs": [],
   "source": [
    "plt.figure(figsize = (12,6))\n",
    "sns.heatmap(tcg_crosstab[tcg_crosstab>0], annot=True, fmt=\"g\", cmap='viridis', norm=mc.LogNorm())\n",
    "plt.show()"
   ]
  },
  {
   "cell_type": "markdown",
   "id": "521f367b",
   "metadata": {
    "papermill": {
     "duration": 0.137043,
     "end_time": "2023-01-17T16:28:59.763044",
     "exception": false,
     "start_time": "2023-01-17T16:28:59.626001",
     "status": "completed"
    },
    "tags": []
   },
   "source": [
    "#### By monster type"
   ]
  },
  {
   "cell_type": "code",
   "execution_count": null,
   "id": "bb73564f",
   "metadata": {
    "papermill": {
     "duration": 0.447281,
     "end_time": "2023-01-17T16:29:00.397525",
     "exception": false,
     "start_time": "2023-01-17T16:28:59.950244",
     "status": "completed"
    },
    "tags": []
   },
   "outputs": [],
   "source": [
    "# Remove unlimited\n",
    "tcg_crosstab_b = pd.crosstab(full_df['Monster type'], full_df['TCG status']).drop(['Unlimited'], axis=1)\n",
    "tcg_crosstab_b"
   ]
  },
  {
   "cell_type": "code",
   "execution_count": null,
   "id": "dd5e826c",
   "metadata": {
    "papermill": {
     "duration": 1.19272,
     "end_time": "2023-01-17T16:29:02.185265",
     "exception": false,
     "start_time": "2023-01-17T16:29:00.992545",
     "status": "completed"
    },
    "tags": []
   },
   "outputs": [],
   "source": [
    "plt.figure(figsize = (20,5))\n",
    "sns.heatmap(tcg_crosstab_b[tcg_crosstab_b>0].T, annot=True, fmt=\"g\", cmap='viridis', square = True)\n",
    "plt.show()"
   ]
  },
  {
   "cell_type": "markdown",
   "id": "b0e7d771",
   "metadata": {
    "papermill": {
     "duration": 0.228786,
     "end_time": "2023-01-17T16:29:02.548272",
     "exception": false,
     "start_time": "2023-01-17T16:29:02.319486",
     "status": "completed"
    },
    "tags": []
   },
   "source": [
    "#### By archseries"
   ]
  },
  {
   "cell_type": "code",
   "execution_count": null,
   "id": "05fc1f77",
   "metadata": {
    "papermill": {
     "duration": 0.254727,
     "end_time": "2023-01-17T16:29:03.139162",
     "exception": false,
     "start_time": "2023-01-17T16:29:02.884435",
     "status": "completed"
    },
    "tags": []
   },
   "outputs": [],
   "source": [
    "# Remove unlimited\n",
    "tcg_crosstab_c = pd.crosstab(exploded_archseries['Archseries'].where(exploded_archseries['OCG status']!='Unlimited'), exploded_archseries['TCG status'], margins = True)\n",
    "tcg_crosstab_c"
   ]
  },
  {
   "cell_type": "markdown",
   "id": "af202b20",
   "metadata": {
    "papermill": {
     "duration": 0.276561,
     "end_time": "2023-01-17T16:29:03.550122",
     "exception": false,
     "start_time": "2023-01-17T16:29:03.273561",
     "status": "completed"
    },
    "tags": []
   },
   "source": [
    "### OCG status"
   ]
  },
  {
   "cell_type": "code",
   "execution_count": null,
   "id": "0b01a31b",
   "metadata": {
    "papermill": {
     "duration": 0.293755,
     "end_time": "2023-01-17T16:29:04.206956",
     "exception": false,
     "start_time": "2023-01-17T16:29:03.913201",
     "status": "completed"
    },
    "tags": []
   },
   "outputs": [],
   "source": [
    "print('Total number of OCG status:', full_df['OCG status'].nunique())"
   ]
  },
  {
   "cell_type": "code",
   "execution_count": null,
   "id": "13b7b5c8",
   "metadata": {
    "papermill": {
     "duration": 0.301264,
     "end_time": "2023-01-17T16:29:04.727416",
     "exception": false,
     "start_time": "2023-01-17T16:29:04.426152",
     "status": "completed"
    },
    "tags": []
   },
   "outputs": [],
   "source": [
    "full_df.groupby('OCG status', dropna=False).nunique()"
   ]
  },
  {
   "cell_type": "code",
   "execution_count": null,
   "id": "baff20b2",
   "metadata": {
    "papermill": {
     "duration": 1.23393,
     "end_time": "2023-01-17T16:29:06.107361",
     "exception": false,
     "start_time": "2023-01-17T16:29:04.873431",
     "status": "completed"
    },
    "tags": []
   },
   "outputs": [],
   "source": [
    "full_df['OCG status'].value_counts(dropna = False).plot.bar(figsize = (18,6), logy=True, grid = True, rot=45, title = 'TCG status')\n",
    "plt.show()"
   ]
  },
  {
   "cell_type": "markdown",
   "id": "5c4bf980",
   "metadata": {
    "papermill": {
     "duration": 0.225008,
     "end_time": "2023-01-17T16:29:06.473435",
     "exception": false,
     "start_time": "2023-01-17T16:29:06.248427",
     "status": "completed"
    },
    "tags": []
   },
   "source": [
    "#### By card type"
   ]
  },
  {
   "cell_type": "code",
   "execution_count": null,
   "id": "4863280e",
   "metadata": {
    "papermill": {
     "duration": 0.274365,
     "end_time": "2023-01-17T16:29:06.960090",
     "exception": false,
     "start_time": "2023-01-17T16:29:06.685725",
     "status": "completed"
    },
    "tags": []
   },
   "outputs": [],
   "source": [
    "# Remove unlimited\n",
    "ocg_crosstab = pd.crosstab(full_df['Card type'], full_df['OCG status']).drop(['Unlimited'], axis=1)\n",
    "ocg_crosstab"
   ]
  },
  {
   "cell_type": "code",
   "execution_count": null,
   "id": "e8489887",
   "metadata": {
    "papermill": {
     "duration": 0.490322,
     "end_time": "2023-01-17T16:29:07.584601",
     "exception": false,
     "start_time": "2023-01-17T16:29:07.094279",
     "status": "completed"
    },
    "tags": []
   },
   "outputs": [],
   "source": [
    "plt.figure(figsize = (12,6))\n",
    "sns.heatmap(ocg_crosstab[ocg_crosstab>0], annot=True, fmt=\"g\", cmap='viridis')\n",
    "plt.show()"
   ]
  },
  {
   "cell_type": "markdown",
   "id": "32f682d2",
   "metadata": {
    "papermill": {
     "duration": 0.285355,
     "end_time": "2023-01-17T16:29:08.013363",
     "exception": false,
     "start_time": "2023-01-17T16:29:07.728008",
     "status": "completed"
    },
    "tags": []
   },
   "source": [
    "#### By monster type"
   ]
  },
  {
   "cell_type": "code",
   "execution_count": null,
   "id": "3dbadcb8",
   "metadata": {
    "papermill": {
     "duration": 0.187934,
     "end_time": "2023-01-17T16:29:08.972184",
     "exception": false,
     "start_time": "2023-01-17T16:29:08.784250",
     "status": "completed"
    },
    "tags": []
   },
   "outputs": [],
   "source": [
    "ocg_crosstab_b = pd.crosstab(full_df['Monster type'], full_df['OCG status']).drop(['Unlimited'], axis=1)\n",
    "ocg_crosstab_b"
   ]
  },
  {
   "cell_type": "code",
   "execution_count": null,
   "id": "4743b0c1",
   "metadata": {
    "papermill": {
     "duration": 1.410547,
     "end_time": "2023-01-17T16:29:11.113645",
     "exception": false,
     "start_time": "2023-01-17T16:29:09.703098",
     "status": "completed"
    },
    "tags": []
   },
   "outputs": [],
   "source": [
    "plt.figure(figsize = (20,5))\n",
    "sns.heatmap(ocg_crosstab_b[ocg_crosstab_b>0].T, annot=True, fmt=\"g\", cmap='viridis', square = True)\n",
    "plt.show()"
   ]
  },
  {
   "cell_type": "markdown",
   "id": "19d9067b",
   "metadata": {
    "papermill": {
     "duration": 0.226536,
     "end_time": "2023-01-17T16:29:11.493090",
     "exception": false,
     "start_time": "2023-01-17T16:29:11.266554",
     "status": "completed"
    },
    "tags": []
   },
   "source": [
    "#### By archseries"
   ]
  },
  {
   "cell_type": "code",
   "execution_count": null,
   "id": "d866a6e2",
   "metadata": {
    "papermill": {
     "duration": 0.721773,
     "end_time": "2023-01-17T16:29:12.412086",
     "exception": false,
     "start_time": "2023-01-17T16:29:11.690313",
     "status": "completed"
    },
    "tags": []
   },
   "outputs": [],
   "source": [
    "# Remove unlimited\n",
    "ocg_crosstab_c = pd.crosstab(exploded_archseries['Archseries'].where(exploded_archseries['OCG status']!='Unlimited'), exploded_archseries['OCG status'], margins = True)\n",
    "ocg_crosstab_c"
   ]
  },
  {
   "cell_type": "markdown",
   "id": "c5b33198",
   "metadata": {
    "papermill": {
     "duration": 0.465245,
     "end_time": "2023-01-17T16:29:13.252124",
     "exception": false,
     "start_time": "2023-01-17T16:29:12.786879",
     "status": "completed"
    },
    "tags": []
   },
   "source": [
    "### TCG vs. OCG status"
   ]
  },
  {
   "cell_type": "code",
   "execution_count": null,
   "id": "14f2101b",
   "metadata": {
    "papermill": {
     "duration": 0.805848,
     "end_time": "2023-01-17T16:29:14.515070",
     "exception": false,
     "start_time": "2023-01-17T16:29:13.709222",
     "status": "completed"
    },
    "tags": []
   },
   "outputs": [],
   "source": [
    "cg_crosstab = pd.crosstab(full_df['OCG status'],full_df['TCG status'], dropna=False, margins = False)\n",
    "cg_crosstab"
   ]
  },
  {
   "cell_type": "code",
   "execution_count": null,
   "id": "d10c5c81",
   "metadata": {
    "papermill": {
     "duration": 0.896809,
     "end_time": "2023-01-17T16:29:15.760894",
     "exception": false,
     "start_time": "2023-01-17T16:29:14.864085",
     "status": "completed"
    },
    "tags": []
   },
   "outputs": [],
   "source": [
    "plt.figure(figsize = (10,8))\n",
    "sns.heatmap(cg_crosstab[cg_crosstab>0], annot=True, fmt=\"g\", cmap='viridis', square=True, norm=mc.LogNorm())\n",
    "plt.show()"
   ]
  },
  {
   "cell_type": "markdown",
   "id": "95d94158-0922-4085-b2c7-d7fa24f40038",
   "metadata": {
    "papermill": {
     "duration": 0.212908,
     "end_time": "2023-01-17T16:29:16.125578",
     "exception": false,
     "start_time": "2023-01-17T16:29:15.912670",
     "status": "completed"
    },
    "tags": []
   },
   "source": [
    "# Extras"
   ]
  },
  {
   "cell_type": "markdown",
   "id": "a1bdb3eb-7f83-49a8-92a2-a8a05e6253c7",
   "metadata": {
    "papermill": {
     "duration": 0.268955,
     "end_time": "2023-01-17T16:29:16.587691",
     "exception": false,
     "start_time": "2023-01-17T16:29:16.318736",
     "status": "completed"
    },
    "tags": []
   },
   "source": [
    "## Not yet released"
   ]
  },
  {
   "cell_type": "code",
   "execution_count": null,
   "id": "6ca6f265",
   "metadata": {
    "papermill": {
     "duration": 0.226482,
     "end_time": "2023-01-17T16:29:17.073623",
     "exception": false,
     "start_time": "2023-01-17T16:29:16.847141",
     "status": "completed"
    },
    "tags": []
   },
   "outputs": [],
   "source": [
    "full_df.loc[full_df['OCG status'] == 'Not yet released'].loc[full_df['TCG status'] == 'Not yet released']"
   ]
  },
  {
   "cell_type": "markdown",
   "id": "4058f0b9-3031-4daa-8a4a-2dddf8c74c07",
   "metadata": {
    "papermill": {
     "duration": 0.272919,
     "end_time": "2023-01-17T16:29:18.146903",
     "exception": false,
     "start_time": "2023-01-17T16:29:17.873984",
     "status": "completed"
    },
    "tags": []
   },
   "source": [
    "# Epilogue"
   ]
  },
  {
   "cell_type": "code",
   "execution_count": null,
   "id": "310f7d3e-ab76-4c5b-bf3d-f6898d559118",
   "metadata": {
    "papermill": {
     "duration": 0.494838,
     "end_time": "2023-01-17T16:29:18.948420",
     "exception": false,
     "start_time": "2023-01-17T16:29:18.453582",
     "status": "completed"
    },
    "tags": []
   },
   "outputs": [],
   "source": [
    "footer()"
   ]
  },
  {
   "cell_type": "markdown",
   "id": "fade81da",
   "metadata": {
    "papermill": {
     "duration": 0.173583,
     "end_time": "2023-01-17T16:29:19.274123",
     "exception": false,
     "start_time": "2023-01-17T16:29:19.100540",
     "status": "completed"
    },
    "tags": []
   },
   "source": [
    "## HTML export"
   ]
  },
  {
   "cell_type": "code",
   "execution_count": null,
   "id": "6715b83e-9a4e-423c-81b9-33a81603acd4",
   "metadata": {
    "papermill": {
     "duration": 0.242998,
     "end_time": "2023-01-17T16:29:19.772310",
     "exception": false,
     "start_time": "2023-01-17T16:29:19.529312",
     "status": "completed"
    },
    "tags": []
   },
   "outputs": [],
   "source": [
    "# Save notebook on disck before generating HTML report\n",
    "save_notebook()"
   ]
  },
  {
   "cell_type": "code",
   "execution_count": null,
   "id": "de556e8b",
   "metadata": {
    "papermill": {
     "duration": 10.316142,
     "end_time": "2023-01-17T16:29:30.235377",
     "exception": false,
     "start_time": "2023-01-17T16:29:19.919235",
     "status": "completed"
    },
    "tags": []
   },
   "outputs": [],
   "source": [
    "! jupyter nbconvert Cards.ipynb --output-dir='../' --to=HTML --TagRemovePreprocessor.enabled=True --TagRemovePreprocessor.remove_cell_tags='exclude' --TemplateExporter.exclude_input=True --TemplateExporter.exclude_input_prompt=True --TemplateExporter.exclude_output_prompt=True"
   ]
  },
  {
   "cell_type": "markdown",
   "id": "641a7018-0f50-4ab6-b8f3-119a279cbc65",
   "metadata": {
    "papermill": {
     "duration": 0.246846,
     "end_time": "2023-01-17T16:29:30.623505",
     "exception": false,
     "start_time": "2023-01-17T16:29:30.376659",
     "status": "completed"
    },
    "tags": [
     "exclude"
    ]
   },
   "source": [
    "## Git"
   ]
  },
  {
   "cell_type": "code",
   "execution_count": null,
   "id": "cba1eb00-d9c2-491a-95b3-5ce0a0524d59",
   "metadata": {
    "papermill": {
     "duration": 1.388096,
     "end_time": "2023-01-17T16:29:32.151096",
     "exception": false,
     "start_time": "2023-01-17T16:29:30.763000",
     "status": "completed"
    },
    "tags": [
     "exclude"
    ]
   },
   "outputs": [],
   "source": [
    "! git add \"../*[Cc]ards*\""
   ]
  },
  {
   "cell_type": "code",
   "execution_count": null,
   "id": "6f1f8303-30c6-4aaa-b45e-f6d5f5ece30e",
   "metadata": {
    "papermill": {
     "duration": 1.269915,
     "end_time": "2023-01-17T16:29:33.595431",
     "exception": false,
     "start_time": "2023-01-17T16:29:32.325516",
     "status": "completed"
    },
    "tags": [
     "exclude"
    ]
   },
   "outputs": [],
   "source": [
    "! git commit -m {\"'Cards update-\" + timestamp.strftime(\"%d%m%Y\")+\"'\"}"
   ]
  }
 ],
 "metadata": {
  "kernelspec": {
   "display_name": "Python 3 (ipykernel)",
   "language": "python",
   "name": "python3"
  },
  "language_info": {
   "codemirror_mode": {
    "name": "ipython",
    "version": 3
   },
   "file_extension": ".py",
   "mimetype": "text/x-python",
   "name": "python",
   "nbconvert_exporter": "python",
   "pygments_lexer": "ipython3",
   "version": "3.10.8"
  },
  "papermill": {
   "default_parameters": {},
   "duration": 369.84552,
   "end_time": "2023-01-17T16:29:34.773282",
   "environment_variables": {},
   "exception": null,
   "input_path": "Cards.ipynb",
   "output_path": "Cards.ipynb",
   "parameters": {},
   "start_time": "2023-01-17T16:23:24.927762",
   "version": "2.4.0"
  },
  "toc": {
   "base_numbering": 1,
   "nav_menu": {
    "height": "599px",
    "width": "228px"
   },
   "number_sections": true,
   "sideBar": true,
   "skip_h1_title": false,
   "title_cell": "Table of Contents",
   "title_sidebar": "Contents",
   "toc_cell": true,
   "toc_position": {
    "height": "calc(100% - 180px)",
    "left": "10px",
    "top": "150px",
    "width": "353px"
   },
   "toc_section_display": true,
   "toc_window_display": true
  },
  "toc-autonumbering": false,
  "toc-showcode": false,
  "toc-showmarkdowntxt": false
 },
 "nbformat": 4,
 "nbformat_minor": 5
}
