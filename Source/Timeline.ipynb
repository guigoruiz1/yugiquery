{
 "cells": [
  {
   "cell_type": "code",
   "execution_count": null,
   "id": "a570071f-ec8c-496c-9960-2b4af3137f44",
   "metadata": {
    "papermill": {
     "duration": 19.538529,
     "end_time": "2023-01-17T16:40:40.595718",
     "exception": false,
     "start_time": "2023-01-17T16:40:21.057189",
     "status": "completed"
    },
    "tags": []
   },
   "outputs": [],
   "source": [
    "from yugiquery import *\n",
    "header('Timeline')"
   ]
  },
  {
   "cell_type": "markdown",
   "id": "d531326c-b92f-4c04-a301-83434217fa65",
   "metadata": {
    "papermill": {
     "duration": 0.103575,
     "end_time": "2023-01-17T16:40:40.716585",
     "exception": false,
     "start_time": "2023-01-17T16:40:40.613010",
     "status": "completed"
    },
    "tags": []
   },
   "source": [
    "---"
   ]
  },
  {
   "cell_type": "markdown",
   "id": "98c3721e",
   "metadata": {
    "papermill": {
     "duration": 0.037313,
     "end_time": "2023-01-17T16:40:40.771020",
     "exception": false,
     "start_time": "2023-01-17T16:40:40.733707",
     "status": "completed"
    },
    "tags": [],
    "toc": true
   },
   "source": [
    "Table of Contents\n",
    "=================\n",
    "\n",
    "*   [1  Data preparation](#Data-preparation)\n",
    "    *   [1.1  Load data](#Load-data)\n",
    "    *   [1.2  Format data](#Format-data)\n",
    "    *   [1.3  Merge data](#Merge-data)\n",
    "*   [4  Data visualization](#Data-visualization)\n",
    "    *   [4.1  First releases](#First-releases)\n",
    "        *   [4.1.1  By region](#By-region)\n",
    "    *   [4.1  Last releases](#Last-releases)\n",
    "        *   [4.1.1  By region](#By-region)\n",
    "    *   [4.2  All Releases](#All-Releases)\n",
    "        *   [4.2.1  By card type](#By-card-type)\n",
    "        *   [4.2.2  By primary type](#By-primary-type)\n",
    "        *   [4.2.3  By secondary type](#By-secondary-type)\n",
    "        *   [4.2.4  By attribute](#By-attribute)\n",
    "        *   [4.2.5  By monster type](#By-monster-type)\n",
    "        *   [4.2.6  By Level/Rank](#By-Level/Rank)\n",
    "        *   [4.2.7  By ATK](#By-ATK)\n",
    "        *   [4.2.8  By DEF](#By-DEF)\n",
    "        *   [4.2.9  By pendulum scale](#By-pendulum-scale)\n",
    "        *   [4.2.10  By link](#By-link)\n",
    "*   [5  Debug](#Debug)\n",
    "    *   [5.1  Merge failed](#Merge-failed)\n",
    "*   [6  Epilogue](#Epilogue)\n",
    "    *   [6.1  HTML export](#HTML-export)\n",
    "<!-- *   [6.2  Git](#Git) -->"
   ]
  },
  {
   "cell_type": "markdown",
   "id": "98e5146f-5f48-426c-b7be-07b64cd429e4",
   "metadata": {
    "papermill": {
     "duration": 0.021919,
     "end_time": "2023-01-17T16:40:40.910211",
     "exception": false,
     "start_time": "2023-01-17T16:40:40.888292",
     "status": "completed"
    },
    "tags": []
   },
   "source": [
    "# Data preparation"
   ]
  },
  {
   "cell_type": "markdown",
   "id": "df92295d-d124-4eea-ba54-a691fddf3d5c",
   "metadata": {
    "papermill": {
     "duration": 0.042829,
     "end_time": "2023-01-17T16:40:41.038081",
     "exception": false,
     "start_time": "2023-01-17T16:40:40.995252",
     "status": "completed"
    },
    "tags": []
   },
   "source": [
    "## Load data"
   ]
  },
  {
   "cell_type": "code",
   "execution_count": null,
   "id": "fe78d6ac-18e0-49d6-bdbf-43f9c11b15a0",
   "metadata": {
    "papermill": {
     "duration": 0.172848,
     "end_time": "2023-01-17T16:40:41.240654",
     "exception": false,
     "start_time": "2023-01-17T16:40:41.067806",
     "status": "completed"
    },
    "tags": []
   },
   "outputs": [],
   "source": [
    "# Load list of important dates\n",
    "dates_df = pd.read_csv('../Assets/dates.csv', parse_dates=['begin','end'], dayfirst=True, index_col='name').sort_values(['type','begin','end'])\n",
    "anime_df = dates_df[dates_df['type']=='series']\n",
    "rules_df = dates_df[dates_df['type']=='rules'][2:] # Ignore old rules"
   ]
  },
  {
   "cell_type": "code",
   "execution_count": null,
   "id": "69b9995b-436e-4552-86d6-6dd4fabff8d0",
   "metadata": {
    "papermill": {
     "duration": 5.839573,
     "end_time": "2023-01-17T16:40:47.100813",
     "exception": false,
     "start_time": "2023-01-17T16:40:41.261240",
     "status": "completed"
    },
    "tags": []
   },
   "outputs": [],
   "source": [
    "# Get list of files\n",
    "all_cards_files = sorted(glob.glob('../Data/All_cards_*.csv'), key=os.path.getctime, reverse=True)\n",
    "set_lists_files = sorted(glob.glob('../Data/All_sets_*.csv'), key=os.path.getctime, reverse=True)\n",
    "# Get newest file if exist\n",
    "if len(all_cards_files)>0:\n",
    "    all_cards_df = pd.read_csv(all_cards_files[0], dtype=object)\n",
    "    # Correct tuples\n",
    "    all_cards_df['Effect type'] = all_cards_df['Effect type'].dropna().apply(literal_eval)\n",
    "    all_cards_df['Link Arrows'] = all_cards_df['Link Arrows'].dropna().apply(literal_eval)\n",
    "    all_cards_df['Archseries'] = all_cards_df['Archseries'].dropna().apply(literal_eval)\n",
    "    all_cards_df['Artwork'] = all_cards_df['Artwork'].dropna().apply(literal_eval)\n",
    "    all_cards_df['Errata'] = all_cards_df['Errata'].dropna().apply(literal_eval)\n",
    "    print('Cards file loaded')\n",
    "else:\n",
    "    all_cards_df = None\n",
    "    print('No cards files')\n",
    "    \n",
    "if len(set_lists_files)>0:\n",
    "    set_lists_df = pd.read_csv(set_lists_files[0], dtype=object)\n",
    "    # Correct tuples\n",
    "    set_lists_df['Rarity'] = set_lists_df['Rarity'].dropna().apply(literal_eval)\n",
    "    set_lists_df['Cover card'] = set_lists_df['Cover card'].dropna().apply(literal_eval)\n",
    "    print('Sets file loaded')\n",
    "else:\n",
    "    set_lists_df = None\n",
    "    print('No set lists files')"
   ]
  },
  {
   "cell_type": "markdown",
   "id": "b05d12f3-69b3-4fb8-9d38-00a4220faed6",
   "metadata": {
    "papermill": {
     "duration": 0.018162,
     "end_time": "2023-01-17T16:40:47.166420",
     "exception": false,
     "start_time": "2023-01-17T16:40:47.148258",
     "status": "completed"
    },
    "tags": []
   },
   "source": [
    "## Format data"
   ]
  },
  {
   "cell_type": "code",
   "execution_count": null,
   "id": "408e1580-2904-4d6b-83f3-6be83500fb78",
   "metadata": {
    "papermill": {
     "duration": 0.183588,
     "end_time": "2023-01-17T16:40:47.479660",
     "exception": false,
     "start_time": "2023-01-17T16:40:47.296072",
     "status": "completed"
    },
    "tags": []
   },
   "outputs": [],
   "source": [
    "if all_cards_df is not None and set_lists_df is not None:\n",
    "    all_cards_df['index'] = all_cards_df['Name'].str.lower()\n",
    "    set_lists_df['index'] = set_lists_df['Name'].str.lower()\n",
    "    all_cards_df['Modification date'] = pd.to_datetime(all_cards_df['Modification date'])\n",
    "    set_lists_df['Modification date'] = pd.to_datetime(set_lists_df['Modification date'])\n",
    "    set_lists_df['Release'] = pd.to_datetime(set_lists_df['Release'])\n",
    "    \n",
    "else:\n",
    "    raise SystemExit(\"Not enough files to proceed. Aborting!\")"
   ]
  },
  {
   "cell_type": "markdown",
   "id": "e976bec2-3c0d-40d0-9a2e-6c1bb6b38059",
   "metadata": {
    "papermill": {
     "duration": 0.075129,
     "end_time": "2023-01-17T16:40:47.572317",
     "exception": false,
     "start_time": "2023-01-17T16:40:47.497188",
     "status": "completed"
    },
    "tags": []
   },
   "source": [
    "## Merge data"
   ]
  },
  {
   "cell_type": "code",
   "execution_count": null,
   "id": "28678f0f-8a83-46c9-864a-37c70e3c39a0",
   "metadata": {
    "papermill": {
     "duration": 1.748453,
     "end_time": "2023-01-17T16:40:49.440327",
     "exception": false,
     "start_time": "2023-01-17T16:40:47.691874",
     "status": "completed"
    },
    "tags": []
   },
   "outputs": [],
   "source": [
    "full_df = all_cards_df.merge(set_lists_df, indicator = True, how='outer', on='index')\n",
    "full_df = full_df.convert_dtypes()\n",
    "full_df['Modification date'] = full_df[['Modification date_x','Modification date_y']].max(axis=1)\n",
    "full_df['Name'] = full_df['Name_x'].fillna(full_df['Name_y'])\n",
    "full_df.drop(['index', 'Name_x', 'Name_y', 'Modification date_x', 'Modification date_y'], axis=1, inplace = True)\n",
    "full_df.rename(columns={'Page URL_x': 'Card page URL', 'Page URL_y': 'Set page URL'}, inplace=True)\n",
    "full_df = full_df[np.append(full_df.columns[-1:],full_df.columns[:-1])]"
   ]
  },
  {
   "cell_type": "markdown",
   "id": "f7c5cdf1-3f40-4d35-83b8-690933ba52a3",
   "metadata": {
    "papermill": {
     "duration": 0.475988,
     "end_time": "2023-01-17T16:41:08.396716",
     "exception": false,
     "start_time": "2023-01-17T16:41:07.920728",
     "status": "completed"
    },
    "tags": []
   },
   "source": [
    "# Data visualization"
   ]
  },
  {
   "cell_type": "code",
   "execution_count": null,
   "id": "10cbbdb2-ecd3-4a9e-a804-b9186febc279",
   "metadata": {
    "papermill": {
     "duration": 0.372769,
     "end_time": "2023-01-17T16:41:08.865386",
     "exception": false,
     "start_time": "2023-01-17T16:41:08.492617",
     "status": "completed"
    },
    "tags": []
   },
   "outputs": [],
   "source": [
    "pd.set_option('display.max_columns', 40)\n",
    "full_df"
   ]
  },
  {
   "cell_type": "markdown",
   "id": "717be58b-4909-4892-ae15-844b7cb7b58c",
   "metadata": {
    "papermill": {
     "duration": 0.162625,
     "end_time": "2023-01-17T16:41:09.051387",
     "exception": false,
     "start_time": "2023-01-17T16:41:08.888762",
     "status": "completed"
    },
    "tags": []
   },
   "source": [
    "## First releases"
   ]
  },
  {
   "cell_type": "markdown",
   "id": "4905c1fd-7e61-4bbb-9c82-953a9a4fd78f",
   "metadata": {
    "papermill": {
     "duration": 0.14385,
     "end_time": "2023-01-17T16:41:09.215688",
     "exception": false,
     "start_time": "2023-01-17T16:41:09.071838",
     "status": "completed"
    },
    "tags": []
   },
   "source": [
    "Obs: Only the first release of an individual card name"
   ]
  },
  {
   "cell_type": "code",
   "execution_count": null,
   "id": "51839140-77f4-4da6-bba6-f55d9a31c7f6",
   "metadata": {
    "papermill": {
     "duration": 2.220788,
     "end_time": "2023-01-17T16:41:11.533054",
     "exception": false,
     "start_time": "2023-01-17T16:41:09.312266",
     "status": "completed"
    },
    "tags": []
   },
   "outputs": [],
   "source": [
    "first_release=full_df[full_df['Release'].notna()].groupby('Name')['Release'].agg(['min','idxmin'])\n",
    "first_release"
   ]
  },
  {
   "cell_type": "code",
   "execution_count": null,
   "id": "6a1f1af8-a056-4045-bbaf-ea422db3d0a4",
   "metadata": {
    "papermill": {
     "duration": 3.136928,
     "end_time": "2023-01-17T16:41:14.689249",
     "exception": false,
     "start_time": "2023-01-17T16:41:11.552321",
     "status": "completed"
    },
    "tags": []
   },
   "outputs": [],
   "source": [
    "first_release_count = first_release['min'].sort_values().value_counts(sort=False).to_frame(name='All cards')\n",
    "first_release_count.index.name = 'First Release'\n",
    "rate_plot(first_release_count, bg=anime_df, vlines = rules_df['begin'])\n"
   ]
  },
  {
   "cell_type": "markdown",
   "id": "b90d74bd-ac81-4289-a2e0-9e49bddfa6c4",
   "metadata": {
    "papermill": {
     "duration": 0.150073,
     "end_time": "2023-01-17T16:41:14.864769",
     "exception": false,
     "start_time": "2023-01-17T16:41:14.714696",
     "status": "completed"
    },
    "tags": []
   },
   "source": [
    "### By region"
   ]
  },
  {
   "cell_type": "code",
   "execution_count": null,
   "id": "d39f5310-38c4-41a7-94d7-6f8355a0d1f9",
   "metadata": {
    "papermill": {
     "duration": 12.765377,
     "end_time": "2023-01-17T16:41:27.715740",
     "exception": false,
     "start_time": "2023-01-17T16:41:14.950363",
     "status": "completed"
    },
    "tags": []
   },
   "outputs": [],
   "source": [
    "first_release_region=full_df[full_df['Release'].notna()].groupby(['Region','Name'])['Release'].agg(['min','idxmin'])\n",
    "first_release_region"
   ]
  },
  {
   "cell_type": "code",
   "execution_count": null,
   "id": "9d7c4e83-fa20-487f-b8ff-51552ac28e7b",
   "metadata": {
    "papermill": {
     "duration": 31.793751,
     "end_time": "2023-01-17T16:41:59.536011",
     "exception": false,
     "start_time": "2023-01-17T16:41:27.742260",
     "status": "completed"
    },
    "tags": []
   },
   "outputs": [],
   "source": [
    "first_release_region_count = first_release_region['min'].sort_values().groupby(['Region']).value_counts(sort=False).unstack(0).fillna(0).round(0)\n",
    "first_release_region_count.index.name = 'Release'\n",
    "rate_subplots(first_release_region_count, title = 'First Release', bg=anime_df, vlines = rules_df['begin'])"
   ]
  },
  {
   "cell_type": "markdown",
   "id": "68ed7e48-cdd1-49e5-996d-771b0aa476b2",
   "metadata": {
    "papermill": {
     "duration": 0.121935,
     "end_time": "2023-01-17T16:41:59.903480",
     "exception": false,
     "start_time": "2023-01-17T16:41:59.781545",
     "status": "completed"
    },
    "tags": []
   },
   "source": [
    "## Last releases"
   ]
  },
  {
   "cell_type": "markdown",
   "id": "1adfdf14-386c-4766-ab1e-634c69028b09",
   "metadata": {
    "papermill": {
     "duration": 0.260823,
     "end_time": "2023-01-17T16:42:00.423958",
     "exception": false,
     "start_time": "2023-01-17T16:42:00.163135",
     "status": "completed"
    },
    "tags": []
   },
   "source": [
    "Obs: Only the last release of an individual card name"
   ]
  },
  {
   "cell_type": "code",
   "execution_count": null,
   "id": "4ed37661-d2b2-4427-bbea-39e2764810c0",
   "metadata": {
    "papermill": {
     "duration": 2.687265,
     "end_time": "2023-01-17T16:42:03.549373",
     "exception": false,
     "start_time": "2023-01-17T16:42:00.862108",
     "status": "completed"
    },
    "tags": []
   },
   "outputs": [],
   "source": [
    "last_release=full_df[full_df['Release'].notna()].groupby('Name')['Release'].agg(['max','idxmax'])\n",
    "last_release"
   ]
  },
  {
   "cell_type": "code",
   "execution_count": null,
   "id": "82e7e343-9ec4-4ff8-b8e9-59af5100ee79",
   "metadata": {
    "papermill": {
     "duration": 2.093467,
     "end_time": "2023-01-17T16:42:05.714667",
     "exception": false,
     "start_time": "2023-01-17T16:42:03.621200",
     "status": "completed"
    },
    "tags": []
   },
   "outputs": [],
   "source": [
    "last_release_count = last_release['max'].sort_values().value_counts(sort=False).to_frame(name='All cards')\n",
    "last_release_count.index.name = 'Last Release'\n",
    "rate_plot(last_release_count, bg=anime_df, vlines = rules_df['begin'])"
   ]
  },
  {
   "cell_type": "markdown",
   "id": "df0f880e-2a39-42fd-8ad4-6eda067f4476",
   "metadata": {
    "papermill": {
     "duration": 0.206127,
     "end_time": "2023-01-17T16:42:05.994500",
     "exception": false,
     "start_time": "2023-01-17T16:42:05.788373",
     "status": "completed"
    },
    "tags": []
   },
   "source": [
    "### By region"
   ]
  },
  {
   "cell_type": "code",
   "execution_count": null,
   "id": "c9d718d3-37a0-4ef3-9d5b-fceba8bb60dd",
   "metadata": {
    "papermill": {
     "duration": 12.85055,
     "end_time": "2023-01-17T16:42:19.009354",
     "exception": false,
     "start_time": "2023-01-17T16:42:06.158804",
     "status": "completed"
    },
    "tags": []
   },
   "outputs": [],
   "source": [
    "last_release_region=full_df[full_df['Release'].notna()].groupby(['Region','Name'])['Release'].agg(['max','idxmax'])\n",
    "last_release_region"
   ]
  },
  {
   "cell_type": "code",
   "execution_count": null,
   "id": "0a708d8b-781e-412a-ae3e-7a89c029065d",
   "metadata": {
    "papermill": {
     "duration": 32.211504,
     "end_time": "2023-01-17T16:42:51.297934",
     "exception": false,
     "start_time": "2023-01-17T16:42:19.086430",
     "status": "completed"
    },
    "tags": []
   },
   "outputs": [],
   "source": [
    "last_release_region_count = last_release_region['max'].sort_values().groupby(['Region']).value_counts(sort=False).unstack(0).fillna(0).round(0)\n",
    "last_release_region_count.index.name = 'Release'\n",
    "rate_subplots(last_release_region_count, title = 'Last Release', bg=anime_df, vlines = rules_df['begin'])"
   ]
  },
  {
   "cell_type": "markdown",
   "id": "811538f6-77b2-4736-8feb-022abeddeb5c",
   "metadata": {
    "papermill": {
     "duration": 0.115242,
     "end_time": "2023-01-17T16:42:51.536612",
     "exception": false,
     "start_time": "2023-01-17T16:42:51.421370",
     "status": "completed"
    },
    "tags": []
   },
   "source": [
    "## All Releases"
   ]
  },
  {
   "cell_type": "markdown",
   "id": "010ccac6-74c5-46dd-9b23-7a0a3fd5a1c1",
   "metadata": {
    "papermill": {
     "duration": 0.117205,
     "end_time": "2023-01-17T16:42:51.783642",
     "exception": false,
     "start_time": "2023-01-17T16:42:51.666437",
     "status": "completed"
    },
    "tags": []
   },
   "source": [
    "Obs: All releases includes reprints"
   ]
  },
  {
   "cell_type": "markdown",
   "id": "0a191a3e-66bb-450e-9b37-f1ebb15c3d7e",
   "metadata": {
    "papermill": {
     "duration": 0.116342,
     "end_time": "2023-01-17T16:42:52.016195",
     "exception": false,
     "start_time": "2023-01-17T16:42:51.899853",
     "status": "completed"
    },
    "tags": []
   },
   "source": [
    "### By card type"
   ]
  },
  {
   "cell_type": "code",
   "execution_count": null,
   "id": "0621222f-c793-4206-8344-eaac4c55a75c",
   "metadata": {
    "papermill": {
     "duration": 0.272372,
     "end_time": "2023-01-17T16:42:52.405563",
     "exception": false,
     "start_time": "2023-01-17T16:42:52.133191",
     "status": "completed"
    },
    "tags": []
   },
   "outputs": [],
   "source": [
    "# All releases, includes reprints - Double check\n",
    "release_card_type = full_df.groupby(['Card type','Release'])['Name'].nunique().unstack(0).sort_index().fillna(0).astype(int)\n",
    "release_card_type.groupby(release_card_type.index.strftime('%Y')).sum().T"
   ]
  },
  {
   "cell_type": "code",
   "execution_count": null,
   "id": "9f4d9303-cd23-41ed-b618-15b2458a8361",
   "metadata": {
    "papermill": {
     "duration": 0.264641,
     "end_time": "2023-01-17T16:42:52.788032",
     "exception": false,
     "start_time": "2023-01-17T16:42:52.523391",
     "status": "completed"
    },
    "tags": []
   },
   "outputs": [],
   "source": [
    "# card_type_colors = [colors_dict[col] for col in release_card_type.columns]\n",
    "# rate_subplots(release_card_type, colors=card_type_colors, bg=anime_df, vlines = rules_df['begin'])"
   ]
  },
  {
   "cell_type": "code",
   "execution_count": null,
   "id": "b8fe7da4-23e5-490a-992a-f5837f3dc216",
   "metadata": {
    "papermill": {
     "duration": 2.091796,
     "end_time": "2023-01-17T16:42:55.109258",
     "exception": false,
     "start_time": "2023-01-17T16:42:53.017462",
     "status": "completed"
    },
    "tags": []
   },
   "outputs": [],
   "source": [
    "card_type_colors = [colors_dict[col] for col in release_card_type.columns]\n",
    "rate_plot(release_card_type, colors=card_type_colors, bg=anime_df, vlines = rules_df['begin'])"
   ]
  },
  {
   "cell_type": "markdown",
   "id": "bd7a3a56-f0ba-4f3a-acab-d6edadd57b9e",
   "metadata": {
    "papermill": {
     "duration": 0.644836,
     "end_time": "2023-01-17T16:42:55.877512",
     "exception": false,
     "start_time": "2023-01-17T16:42:55.232676",
     "status": "completed"
    },
    "tags": []
   },
   "source": [
    "### By primary type"
   ]
  },
  {
   "cell_type": "code",
   "execution_count": null,
   "id": "e2da2a9b-df09-4b05-9d52-564e81b1787f",
   "metadata": {
    "papermill": {
     "duration": 0.445723,
     "end_time": "2023-01-17T16:42:56.445104",
     "exception": false,
     "start_time": "2023-01-17T16:42:55.999381",
     "status": "completed"
    },
    "tags": []
   },
   "outputs": [],
   "source": [
    "# All releases, includes reprints - Double check\n",
    "# Sort properly\n",
    "release_primary_type = full_df.groupby(['Primary type','Release'])['Name'].nunique().unstack(0).sort_index().fillna(0).astype(int)\n",
    "release_primary_type.groupby(release_primary_type.index.strftime('%Y')).sum().T"
   ]
  },
  {
   "cell_type": "code",
   "execution_count": null,
   "id": "aaba4ece-1001-48c2-b026-c77dd949b216",
   "metadata": {
    "papermill": {
     "duration": 0.182529,
     "end_time": "2023-01-17T16:42:56.747266",
     "exception": false,
     "start_time": "2023-01-17T16:42:56.564737",
     "status": "completed"
    },
    "tags": []
   },
   "outputs": [],
   "source": [
    "# primary_type_colors = [colors_dict[col] for col in release_primary_type.columns]\n",
    "# rate_subplots(release_primary_type, colors=primary_type_colors, bg=anime_df, vlines=rules_df['begin'])"
   ]
  },
  {
   "cell_type": "code",
   "execution_count": null,
   "id": "0986f91b-b91d-47b2-9d9a-3c0e51127d1b",
   "metadata": {
    "papermill": {
     "duration": 2.883788,
     "end_time": "2023-01-17T16:42:59.795593",
     "exception": false,
     "start_time": "2023-01-17T16:42:56.911805",
     "status": "completed"
    },
    "tags": []
   },
   "outputs": [],
   "source": [
    "primary_type_colors = [colors_dict[col] for col in release_primary_type.columns]\n",
    "rate_plot(release_primary_type, colors=primary_type_colors, bg=anime_df, vlines = rules_df['begin'])"
   ]
  },
  {
   "cell_type": "markdown",
   "id": "61ca539a-6816-4937-bbd6-6ec7b053fbc6",
   "metadata": {
    "papermill": {
     "duration": 0.21858,
     "end_time": "2023-01-17T16:43:00.137966",
     "exception": false,
     "start_time": "2023-01-17T16:42:59.919386",
     "status": "completed"
    },
    "tags": []
   },
   "source": [
    "### By secondary type"
   ]
  },
  {
   "cell_type": "code",
   "execution_count": null,
   "id": "9b3e4e1f-e27a-4c16-98f0-5811faf48122",
   "metadata": {
    "papermill": {
     "duration": 0.302778,
     "end_time": "2023-01-17T16:43:00.890403",
     "exception": false,
     "start_time": "2023-01-17T16:43:00.587625",
     "status": "completed"
    },
    "tags": []
   },
   "outputs": [],
   "source": [
    "# All releases, includes reprints - Double check\n",
    "# Sort properly\n",
    "release_secondary_type = full_df.groupby(['Secondary type','Release'])['Name'].nunique().unstack(0).sort_index().fillna(0).astype(int)\n",
    "release_secondary_type.groupby(release_secondary_type.index.strftime('%Y')).sum().T"
   ]
  },
  {
   "cell_type": "code",
   "execution_count": null,
   "id": "1a4f55ff-21bc-4b94-89df-3ddf3a906cd5",
   "metadata": {
    "papermill": {
     "duration": 0.773341,
     "end_time": "2023-01-17T16:43:01.790653",
     "exception": false,
     "start_time": "2023-01-17T16:43:01.017312",
     "status": "completed"
    },
    "tags": []
   },
   "outputs": [],
   "source": [
    "# rate_subplots(release_secondary_type, bg=anime_df, vlines = rules_df['begin'])"
   ]
  },
  {
   "cell_type": "code",
   "execution_count": null,
   "id": "83fcc4ac-1866-42a2-9e11-2bb2df518b04",
   "metadata": {
    "papermill": {
     "duration": 2.151232,
     "end_time": "2023-01-17T16:43:04.065203",
     "exception": false,
     "start_time": "2023-01-17T16:43:01.913971",
     "status": "completed"
    },
    "tags": []
   },
   "outputs": [],
   "source": [
    "rate_plot(release_secondary_type, bg=anime_df, vlines = rules_df['begin'])"
   ]
  },
  {
   "cell_type": "markdown",
   "id": "426d9713-0e0c-4af3-9e5f-5ed3e5e5a0c1",
   "metadata": {
    "papermill": {
     "duration": 0.216285,
     "end_time": "2023-01-17T16:43:04.410299",
     "exception": false,
     "start_time": "2023-01-17T16:43:04.194014",
     "status": "completed"
    },
    "tags": []
   },
   "source": [
    "### By attribute"
   ]
  },
  {
   "cell_type": "code",
   "execution_count": null,
   "id": "3bb3fed2-3036-4194-8c87-620f0a237f5a",
   "metadata": {
    "papermill": {
     "duration": 0.257179,
     "end_time": "2023-01-17T16:43:04.843129",
     "exception": false,
     "start_time": "2023-01-17T16:43:04.585950",
     "status": "completed"
    },
    "tags": []
   },
   "outputs": [],
   "source": [
    "# All releases, includes reprints - Double check\n",
    "# Sort properly\n",
    "release_attribute = full_df.groupby(['Attribute','Release'])['Name'].nunique().unstack(0).sort_index().fillna(0).astype(int)\n",
    "release_attribute.groupby(release_attribute.index.strftime('%Y')).sum().T"
   ]
  },
  {
   "cell_type": "code",
   "execution_count": null,
   "id": "09cd937c-137c-4eea-ae08-7a110e00b4c9",
   "metadata": {
    "papermill": {
     "duration": 0.160161,
     "end_time": "2023-01-17T16:43:05.133305",
     "exception": false,
     "start_time": "2023-01-17T16:43:04.973144",
     "status": "completed"
    },
    "tags": []
   },
   "outputs": [],
   "source": [
    "# attribute_colors = [colors_dict[col] for col in release_attribute.columns]\n",
    "# rate_subplots(release_attribute, colors=attribute_colors, bg=anime_df, vlines = rules_df['begin'])"
   ]
  },
  {
   "cell_type": "code",
   "execution_count": null,
   "id": "967d93eb-03ef-4feb-8a8c-3ee7a9f10b24",
   "metadata": {
    "papermill": {
     "duration": 2.046981,
     "end_time": "2023-01-17T16:43:07.497450",
     "exception": false,
     "start_time": "2023-01-17T16:43:05.450469",
     "status": "completed"
    },
    "tags": []
   },
   "outputs": [],
   "source": [
    "attribute_colors = [colors_dict[col] for col in release_attribute.columns]\n",
    "rate_plot(release_attribute, colors = attribute_colors, bg=anime_df, vlines = rules_df['begin'], cumsum=True)"
   ]
  },
  {
   "cell_type": "markdown",
   "id": "5eb10e4e-fddb-4e03-9766-444c9b4a69ed",
   "metadata": {
    "papermill": {
     "duration": 1.036496,
     "end_time": "2023-01-17T16:43:08.666998",
     "exception": false,
     "start_time": "2023-01-17T16:43:07.630502",
     "status": "completed"
    },
    "tags": []
   },
   "source": [
    "### By monster type"
   ]
  },
  {
   "cell_type": "code",
   "execution_count": null,
   "id": "99f3ca8c-0a4b-4082-b8d0-051267460320",
   "metadata": {
    "papermill": {
     "duration": 0.457964,
     "end_time": "2023-01-17T16:43:09.424928",
     "exception": false,
     "start_time": "2023-01-17T16:43:08.966964",
     "status": "completed"
    },
    "tags": []
   },
   "outputs": [],
   "source": [
    "# All releases, includes reprints - Double check\n",
    "# Sort properly\n",
    "release_monster_type = full_df.groupby(['Monster type','Release'])['Name'].nunique().unstack(0).sort_index().fillna(0).astype(int)\n",
    "release_monster_type.groupby(release_monster_type.index.strftime('%Y')).sum().T"
   ]
  },
  {
   "cell_type": "code",
   "execution_count": null,
   "id": "83ec20a7-eb56-485e-9282-5dcc6ee89cf5",
   "metadata": {
    "papermill": {
     "duration": 52.227198,
     "end_time": "2023-01-17T16:44:01.888968",
     "exception": false,
     "start_time": "2023-01-17T16:43:09.661770",
     "status": "completed"
    },
    "tags": []
   },
   "outputs": [],
   "source": [
    "rate_subplots(release_monster_type, bg=anime_df, vlines = rules_df['begin'])"
   ]
  },
  {
   "cell_type": "markdown",
   "id": "ccd8df1f-8f20-4d07-855c-1b78f29d9e4a",
   "metadata": {
    "papermill": {
     "duration": 0.946748,
     "end_time": "2023-01-17T16:44:03.321343",
     "exception": false,
     "start_time": "2023-01-17T16:44:02.374595",
     "status": "completed"
    },
    "tags": []
   },
   "source": [
    "### By Level/Rank"
   ]
  },
  {
   "cell_type": "code",
   "execution_count": null,
   "id": "12f31058-751b-4110-8d78-d0917ab140da",
   "metadata": {
    "papermill": {
     "duration": 0.917511,
     "end_time": "2023-01-17T16:44:05.115120",
     "exception": false,
     "start_time": "2023-01-17T16:44:04.197609",
     "status": "completed"
    },
    "tags": []
   },
   "outputs": [],
   "source": [
    "# Testing\n",
    "def boxplot(df):\n",
    "    col = df.columns[0]\n",
    "    df['Year'] = df.index.strftime('%Y')\n",
    "    df.dropna(inplace=True)\n",
    "\n",
    "    ax = df.boxplot(by='Year', figsize=(16,10))\n",
    "\n",
    "    mean = df.groupby('Year').mean()\n",
    "\n",
    "    ax.plot(list(range(1,len(mean.index)+1)), mean.values, c='r', ls='--', alpha=0.5)\n",
    "    \n",
    "    ticks = np.arange(0,df[col].max()+1,1)\n",
    "    if len(ticks)>15:\n",
    "        ax.yaxis.set_major_locator(MaxNLocator(11, integer=True))\n",
    "        ax.yaxis.set_minor_locator(AutoMinorLocator())\n",
    "    else:\n",
    "        ax.yaxis.set_major_locator(FixedLocator(ticks))\n",
    "        \n",
    "    # ax.set_ylim([0,5000])\n",
    "    plt.tight_layout()\n",
    "    plt.show()"
   ]
  },
  {
   "cell_type": "code",
   "execution_count": null,
   "id": "f5514a52-9dad-4eaa-9f49-1d99ee02e94d",
   "metadata": {
    "papermill": {
     "duration": 2.894245,
     "end_time": "2023-01-17T16:44:08.654137",
     "exception": false,
     "start_time": "2023-01-17T16:44:05.759892",
     "status": "completed"
    },
    "tags": []
   },
   "outputs": [],
   "source": [
    "level_box = pd.to_numeric(full_df.set_index('Release')['Level/Rank'], errors='coerce').to_frame().sort_index().dropna()\n",
    "boxplot(level_box)"
   ]
  },
  {
   "cell_type": "markdown",
   "id": "d5f37c9c-60ea-4d1a-98a1-566c71a888f4",
   "metadata": {
    "papermill": {
     "duration": 0.54334,
     "end_time": "2023-01-17T16:44:09.775853",
     "exception": false,
     "start_time": "2023-01-17T16:44:09.232513",
     "status": "completed"
    },
    "tags": []
   },
   "source": [
    "### By ATK"
   ]
  },
  {
   "cell_type": "code",
   "execution_count": null,
   "id": "a9943fd3-81e3-4718-b02b-7a1c47d52590",
   "metadata": {
    "papermill": {
     "duration": 2.414863,
     "end_time": "2023-01-17T16:44:12.736712",
     "exception": false,
     "start_time": "2023-01-17T16:44:10.321849",
     "status": "completed"
    },
    "tags": []
   },
   "outputs": [],
   "source": [
    "atk_box = pd.to_numeric(full_df.set_index('Release')['ATK'], errors='coerce').to_frame().sort_index().dropna()\n",
    "boxplot(atk_box)"
   ]
  },
  {
   "cell_type": "markdown",
   "id": "d1182406-c948-4f81-bcac-db2d4b7a912d",
   "metadata": {
    "papermill": {
     "duration": 0.390348,
     "end_time": "2023-01-17T16:44:13.353936",
     "exception": false,
     "start_time": "2023-01-17T16:44:12.963588",
     "status": "completed"
    },
    "tags": []
   },
   "source": [
    "### By DEF"
   ]
  },
  {
   "cell_type": "code",
   "execution_count": null,
   "id": "54cfccd2-f677-4ab8-81c0-e794a1015872",
   "metadata": {
    "papermill": {
     "duration": 2.505589,
     "end_time": "2023-01-17T16:44:16.198508",
     "exception": false,
     "start_time": "2023-01-17T16:44:13.692919",
     "status": "completed"
    },
    "tags": []
   },
   "outputs": [],
   "source": [
    "def_box = pd.to_numeric(full_df.set_index('Release')['DEF'], errors='coerce').to_frame().sort_index().dropna()\n",
    "boxplot(def_box)"
   ]
  },
  {
   "cell_type": "markdown",
   "id": "1d8dd39e-5075-49c7-9ea8-a6255f1684e9",
   "metadata": {
    "papermill": {
     "duration": 0.341671,
     "end_time": "2023-01-17T16:44:16.871222",
     "exception": false,
     "start_time": "2023-01-17T16:44:16.529551",
     "status": "completed"
    },
    "tags": []
   },
   "source": [
    "### By pendulum scale"
   ]
  },
  {
   "cell_type": "code",
   "execution_count": null,
   "id": "29c1d59e-ba6c-4138-89d2-c8eb9d563f2e",
   "metadata": {
    "papermill": {
     "duration": 1.13723,
     "end_time": "2023-01-17T16:44:18.419448",
     "exception": false,
     "start_time": "2023-01-17T16:44:17.282218",
     "status": "completed"
    },
    "tags": []
   },
   "outputs": [],
   "source": [
    "pendulum_box = pd.to_numeric(full_df.set_index('Release')['Pendulum Scale'], errors='coerce').to_frame().sort_index().dropna()\n",
    "boxplot(pendulum_box)"
   ]
  },
  {
   "cell_type": "markdown",
   "id": "75b2d1e5-5cd5-4bee-8f29-2d3e63bb777d",
   "metadata": {
    "papermill": {
     "duration": 0.302267,
     "end_time": "2023-01-17T16:44:18.968665",
     "exception": false,
     "start_time": "2023-01-17T16:44:18.666398",
     "status": "completed"
    },
    "tags": []
   },
   "source": [
    "### By link"
   ]
  },
  {
   "cell_type": "code",
   "execution_count": null,
   "id": "8971fc23-7364-43a9-b65d-d5c3dc138205",
   "metadata": {
    "papermill": {
     "duration": 0.976248,
     "end_time": "2023-01-17T16:44:20.175486",
     "exception": false,
     "start_time": "2023-01-17T16:44:19.199238",
     "status": "completed"
    },
    "tags": []
   },
   "outputs": [],
   "source": [
    "link_box = pd.to_numeric(full_df.set_index('Release')['Link'], errors='coerce').to_frame().sort_index().dropna()\n",
    "boxplot(link_box)"
   ]
  },
  {
   "cell_type": "markdown",
   "id": "4951f8e7-5726-4a0d-95fd-e124ecfc0122",
   "metadata": {
    "papermill": {
     "duration": 0.329566,
     "end_time": "2023-01-17T16:44:20.737914",
     "exception": false,
     "start_time": "2023-01-17T16:44:20.408348",
     "status": "completed"
    },
    "tags": []
   },
   "source": [
    "# Debug"
   ]
  },
  {
   "cell_type": "markdown",
   "id": "f3578857-ba88-49fe-9d8f-9b72c8815d69",
   "metadata": {
    "papermill": {
     "duration": 0.326494,
     "end_time": "2023-01-17T16:44:21.380762",
     "exception": false,
     "start_time": "2023-01-17T16:44:21.054268",
     "status": "completed"
    },
    "tags": []
   },
   "source": [
    "## Merge failed"
   ]
  },
  {
   "cell_type": "code",
   "execution_count": null,
   "id": "874cff22-4a2d-4fec-9657-b0380fc25bb4",
   "metadata": {
    "papermill": {
     "duration": 0.248911,
     "end_time": "2023-01-17T16:44:22.078655",
     "exception": false,
     "start_time": "2023-01-17T16:44:21.829744",
     "status": "completed"
    },
    "tags": []
   },
   "outputs": [],
   "source": [
    "full_df['_merge'].value_counts()"
   ]
  },
  {
   "cell_type": "code",
   "execution_count": null,
   "id": "aa5a365e-f53d-4302-b44d-b23cc8dbc923",
   "metadata": {
    "papermill": {
     "duration": 1.338294,
     "end_time": "2023-01-17T16:44:24.120683",
     "exception": false,
     "start_time": "2023-01-17T16:44:22.782389",
     "status": "completed"
    },
    "tags": []
   },
   "outputs": [],
   "source": [
    "full_df.where(full_df['_merge']=='right_only').dropna(axis=0,how='all')"
   ]
  },
  {
   "cell_type": "code",
   "execution_count": null,
   "id": "eead37fd-fd5f-41bf-bbce-e6f3a8915b41",
   "metadata": {
    "papermill": {
     "duration": 1.136249,
     "end_time": "2023-01-17T16:44:25.604849",
     "exception": false,
     "start_time": "2023-01-17T16:44:24.468600",
     "status": "completed"
    },
    "tags": []
   },
   "outputs": [],
   "source": [
    "full_df.where(full_df['_merge']=='left_only').dropna(axis=0,how='all')"
   ]
  },
  {
   "cell_type": "markdown",
   "id": "9cdbfc4e-71d0-41e4-a421-73bf3a98e734",
   "metadata": {
    "papermill": {
     "duration": 0.242007,
     "end_time": "2023-01-17T16:44:26.163514",
     "exception": false,
     "start_time": "2023-01-17T16:44:25.921507",
     "status": "completed"
    },
    "tags": []
   },
   "source": [
    " # Epilogue"
   ]
  },
  {
   "cell_type": "code",
   "execution_count": null,
   "id": "479dc549-52ce-4e36-b0a5-ff555459ea23",
   "metadata": {
    "papermill": {
     "duration": 0.255304,
     "end_time": "2023-01-17T16:44:26.660041",
     "exception": false,
     "start_time": "2023-01-17T16:44:26.404737",
     "status": "completed"
    },
    "tags": []
   },
   "outputs": [],
   "source": [
    "footer()"
   ]
  },
  {
   "cell_type": "markdown",
   "id": "009d91f5-e119-43bb-95f6-486837be7a7e",
   "metadata": {
    "papermill": {
     "duration": 0.23484,
     "end_time": "2023-01-17T16:44:27.156089",
     "exception": false,
     "start_time": "2023-01-17T16:44:26.921249",
     "status": "completed"
    },
    "tags": []
   },
   "source": [
    "## HTML export"
   ]
  },
  {
   "cell_type": "code",
   "execution_count": null,
   "id": "223a8a40-b2d8-4296-b9c2-43a38d30607b",
   "metadata": {
    "papermill": {
     "duration": 0.261718,
     "end_time": "2023-01-17T16:44:27.685122",
     "exception": false,
     "start_time": "2023-01-17T16:44:27.423404",
     "status": "completed"
    },
    "tags": []
   },
   "outputs": [],
   "source": [
    "# May need to sleep for a few seconds after saving\n",
    "save_notebook()"
   ]
  },
  {
   "cell_type": "code",
   "execution_count": null,
   "id": "b6a35c5d-b424-4820-8d26-8be29b50c546",
   "metadata": {
    "papermill": {
     "duration": 6.88216,
     "end_time": "2023-01-17T16:44:34.913238",
     "exception": false,
     "start_time": "2023-01-17T16:44:28.031078",
     "status": "completed"
    },
    "tags": []
   },
   "outputs": [],
   "source": [
    "! jupyter nbconvert Timeline.ipynb --output-dir='../' --to=HTML --TagRemovePreprocessor.enabled=True --TagRemovePreprocessor.remove_cell_tags='exclude' --TemplateExporter.exclude_input=True --TemplateExporter.exclude_input_prompt=True --TemplateExporter.exclude_output_prompt=True"
   ]
  },
  {
   "cell_type": "markdown",
   "id": "82ca05e5-839d-4742-ba86-ac0c8f14c5b8",
   "metadata": {
    "papermill": {
     "duration": 0.235426,
     "end_time": "2023-01-17T16:44:35.389245",
     "exception": false,
     "start_time": "2023-01-17T16:44:35.153819",
     "status": "completed"
    },
    "tags": [
     "exclude"
    ]
   },
   "source": [
    "## Git"
   ]
  },
  {
   "cell_type": "code",
   "execution_count": null,
   "id": "cba1eb00-d9c2-491a-95b3-5ce0a0524d59",
   "metadata": {
    "papermill": {
     "duration": 4.945445,
     "end_time": "2023-01-17T16:44:40.568100",
     "exception": false,
     "start_time": "2023-01-17T16:44:35.622655",
     "status": "completed"
    },
    "tags": [
     "exclude"
    ]
   },
   "outputs": [],
   "source": [
    "! git add \"../*[Tt]imeline*\" \"../Data/Combined_data*\""
   ]
  },
  {
   "cell_type": "code",
   "execution_count": null,
   "id": "6f1f8303-30c6-4aaa-b45e-f6d5f5ece30e",
   "metadata": {
    "papermill": {
     "duration": 3.58834,
     "end_time": "2023-01-17T16:44:44.393146",
     "exception": false,
     "start_time": "2023-01-17T16:44:40.804806",
     "status": "completed"
    },
    "tags": [
     "exclude"
    ]
   },
   "outputs": [],
   "source": [
    "! git commit -m {\"'Timeline update-\" + pd.Timestamp.now().strftime(\"%d%m%Y\")+\"'\"}"
   ]
  }
 ],
 "metadata": {
  "kernelspec": {
   "display_name": "Python 3 (ipykernel)",
   "language": "python",
   "name": "python3"
  },
  "language_info": {
   "codemirror_mode": {
    "name": "ipython",
    "version": 3
   },
   "file_extension": ".py",
   "mimetype": "text/x-python",
   "name": "python",
   "nbconvert_exporter": "python",
   "pygments_lexer": "ipython3",
   "version": "3.10.8"
  },
  "papermill": {
   "default_parameters": {},
   "duration": 276.774187,
   "end_time": "2023-01-17T16:44:47.354686",
   "environment_variables": {},
   "exception": null,
   "input_path": "Timeline.ipynb",
   "output_path": "Timeline.ipynb",
   "parameters": {},
   "start_time": "2023-01-17T16:40:10.580499",
   "version": "2.4.0"
  },
  "toc": {
   "base_numbering": 1,
   "nav_menu": {},
   "number_sections": true,
   "sideBar": true,
   "skip_h1_title": false,
   "title_cell": "Table of Contents",
   "title_sidebar": "Contents",
   "toc_cell": true,
   "toc_position": {},
   "toc_section_display": true,
   "toc_window_display": true
  }
 },
 "nbformat": 4,
 "nbformat_minor": 5
}
