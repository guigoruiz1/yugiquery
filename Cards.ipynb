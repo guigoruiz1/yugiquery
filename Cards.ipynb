{
 "cells": [
  {
   "cell_type": "markdown",
   "id": "6e66c226",
   "metadata": {
    "toc": true
   },
   "source": [
    "<h1>Table of Contents<span class=\"tocSkip\"></span></h1>\n",
    "<div class=\"toc\"><ul class=\"toc-item\"><li><span><a href=\"#Preamble\" data-toc-modified-id=\"Preamble-1\"><span class=\"toc-item-num\">1&nbsp;&nbsp;</span>Preamble</a></span><ul class=\"toc-item\"><li><span><a href=\"#Imports\" data-toc-modified-id=\"Imports-1.1\"><span class=\"toc-item-num\">1.1&nbsp;&nbsp;</span>Imports</a></span></li><li><span><a href=\"#Lists\" data-toc-modified-id=\"Lists-1.2\"><span class=\"toc-item-num\">1.2&nbsp;&nbsp;</span>Lists</a></span></li><li><span><a href=\"#Formatting-functions\" data-toc-modified-id=\"Formatting-functions-1.3\"><span class=\"toc-item-num\">1.3&nbsp;&nbsp;</span>Formatting functions</a></span></li><li><span><a href=\"#API-call-functions\" data-toc-modified-id=\"API-call-functions-1.4\"><span class=\"toc-item-num\">1.4&nbsp;&nbsp;</span>API call functions</a></span></li></ul></li><li><span><a href=\"#Data-aquisition\" data-toc-modified-id=\"Data-aquisition-2\"><span class=\"toc-item-num\">2&nbsp;&nbsp;</span>Data aquisition</a></span><ul class=\"toc-item\"><li><span><a href=\"#Fetch-online-data\" data-toc-modified-id=\"Fetch-online-data-2.1\"><span class=\"toc-item-num\">2.1&nbsp;&nbsp;</span>Fetch online data</a></span></li><li><span><a href=\"#Format-data\" data-toc-modified-id=\"Format-data-2.2\"><span class=\"toc-item-num\">2.2&nbsp;&nbsp;</span>Format data</a></span></li><li><span><a href=\"#Save-data\" data-toc-modified-id=\"Save-data-2.3\"><span class=\"toc-item-num\">2.3&nbsp;&nbsp;</span>Save data</a></span></li></ul></li><li><span><a href=\"#Check-changes\" data-toc-modified-id=\"Check-changes-3\"><span class=\"toc-item-num\">3&nbsp;&nbsp;</span>Check changes</a></span><ul class=\"toc-item\"><li><span><a href=\"#Load-latest-file\" data-toc-modified-id=\"Load-latest-file-3.1\"><span class=\"toc-item-num\">3.1&nbsp;&nbsp;</span>Load latest file</a></span></li><li><span><a href=\"#Generate-changelog\" data-toc-modified-id=\"Generate-changelog-3.2\"><span class=\"toc-item-num\">3.2&nbsp;&nbsp;</span>Generate changelog</a></span></li></ul></li><li><span><a href=\"#Data-visualisation\" data-toc-modified-id=\"Data-visualisation-4\"><span class=\"toc-item-num\">4&nbsp;&nbsp;</span>Data visualisation</a></span><ul class=\"toc-item\"><li><span><a href=\"#Full-data\" data-toc-modified-id=\"Full-data-4.1\"><span class=\"toc-item-num\">4.1&nbsp;&nbsp;</span>Full data</a></span></li><li><span><a href=\"#Card-types\" data-toc-modified-id=\"Card-types-4.2\"><span class=\"toc-item-num\">4.2&nbsp;&nbsp;</span>Card types</a></span></li><li><span><a href=\"#Monsters\" data-toc-modified-id=\"Monsters-4.3\"><span class=\"toc-item-num\">4.3&nbsp;&nbsp;</span>Monsters</a></span><ul class=\"toc-item\"><li><span><a href=\"#Attributes\" data-toc-modified-id=\"Attributes-4.3.1\"><span class=\"toc-item-num\">4.3.1&nbsp;&nbsp;</span>Attributes</a></span></li><li><span><a href=\"#Primary-types\" data-toc-modified-id=\"Primary-types-4.3.2\"><span class=\"toc-item-num\">4.3.2&nbsp;&nbsp;</span>Primary types</a></span><ul class=\"toc-item\"><li><span><a href=\"#Has-effect-discrimination\" data-toc-modified-id=\"Has-effect-discrimination-4.3.2.1\"><span class=\"toc-item-num\">4.3.2.1&nbsp;&nbsp;</span>Has effect discrimination</a></span></li><li><span><a href=\"#Is-pendulum-discrimination\" data-toc-modified-id=\"Is-pendulum-discrimination-4.3.2.2\"><span class=\"toc-item-num\">4.3.2.2&nbsp;&nbsp;</span>Is pendulum discrimination</a></span></li><li><span><a href=\"#By-attribute\" data-toc-modified-id=\"By-attribute-4.3.2.3\"><span class=\"toc-item-num\">4.3.2.3&nbsp;&nbsp;</span>By attribute</a></span></li></ul></li><li><span><a href=\"#Secondary-types\" data-toc-modified-id=\"Secondary-types-4.3.3\"><span class=\"toc-item-num\">4.3.3&nbsp;&nbsp;</span>Secondary types</a></span><ul class=\"toc-item\"><li><span><a href=\"#By-attribute\" data-toc-modified-id=\"By-attribute-4.3.3.1\"><span class=\"toc-item-num\">4.3.3.1&nbsp;&nbsp;</span>By attribute</a></span></li><li><span><a href=\"#By-secondary-type\" data-toc-modified-id=\"By-secondary-type-4.3.3.2\"><span class=\"toc-item-num\">4.3.3.2&nbsp;&nbsp;</span>By secondary type</a></span></li></ul></li><li><span><a href=\"#Monster-types\" data-toc-modified-id=\"Monster-types-4.3.4\"><span class=\"toc-item-num\">4.3.4&nbsp;&nbsp;</span>Monster types</a></span><ul class=\"toc-item\"><li><span><a href=\"#By-Attribute\" data-toc-modified-id=\"By-Attribute-4.3.4.1\"><span class=\"toc-item-num\">4.3.4.1&nbsp;&nbsp;</span>By Attribute</a></span></li><li><span><a href=\"#By-primary-type\" data-toc-modified-id=\"By-primary-type-4.3.4.2\"><span class=\"toc-item-num\">4.3.4.2&nbsp;&nbsp;</span>By primary type</a></span></li><li><span><a href=\"#By-secondary-type\" data-toc-modified-id=\"By-secondary-type-4.3.4.3\"><span class=\"toc-item-num\">4.3.4.3&nbsp;&nbsp;</span>By secondary type</a></span></li></ul></li><li><span><a href=\"#Effect-type\" data-toc-modified-id=\"Effect-type-4.3.5\"><span class=\"toc-item-num\">4.3.5&nbsp;&nbsp;</span>Effect type</a></span></li><li><span><a href=\"#ATK\" data-toc-modified-id=\"ATK-4.3.6\"><span class=\"toc-item-num\">4.3.6&nbsp;&nbsp;</span>ATK</a></span></li><li><span><a href=\"#DEF\" data-toc-modified-id=\"DEF-4.3.7\"><span class=\"toc-item-num\">4.3.7&nbsp;&nbsp;</span>DEF</a></span></li><li><span><a href=\"#Level/Rank\" data-toc-modified-id=\"Level/Rank-4.3.8\"><span class=\"toc-item-num\">4.3.8&nbsp;&nbsp;</span>Level/Rank</a></span><ul class=\"toc-item\"><li><span><a href=\"#ATK-statistics\" data-toc-modified-id=\"ATK-statistics-4.3.8.1\"><span class=\"toc-item-num\">4.3.8.1&nbsp;&nbsp;</span>ATK statistics</a></span></li><li><span><a href=\"#DEF-statistics\" data-toc-modified-id=\"DEF-statistics-4.3.8.2\"><span class=\"toc-item-num\">4.3.8.2&nbsp;&nbsp;</span>DEF statistics</a></span></li></ul></li><li><span><a href=\"#Pendulum-scale\" data-toc-modified-id=\"Pendulum-scale-4.3.9\"><span class=\"toc-item-num\">4.3.9&nbsp;&nbsp;</span>Pendulum scale</a></span><ul class=\"toc-item\"><li><span><a href=\"#ATK-statistics\" data-toc-modified-id=\"ATK-statistics-4.3.9.1\"><span class=\"toc-item-num\">4.3.9.1&nbsp;&nbsp;</span>ATK statistics</a></span></li><li><span><a href=\"#DEF-statistics\" data-toc-modified-id=\"DEF-statistics-4.3.9.2\"><span class=\"toc-item-num\">4.3.9.2&nbsp;&nbsp;</span>DEF statistics</a></span></li><li><span><a href=\"#Level/Rank-statistics\" data-toc-modified-id=\"Level/Rank-statistics-4.3.9.3\"><span class=\"toc-item-num\">4.3.9.3&nbsp;&nbsp;</span>Level/Rank statistics</a></span></li></ul></li><li><span><a href=\"#Link\" data-toc-modified-id=\"Link-4.3.10\"><span class=\"toc-item-num\">4.3.10&nbsp;&nbsp;</span>Link</a></span><ul class=\"toc-item\"><li><span><a href=\"#ATK-statistics\" data-toc-modified-id=\"ATK-statistics-4.3.10.1\"><span class=\"toc-item-num\">4.3.10.1&nbsp;&nbsp;</span>ATK statistics</a></span></li></ul></li><li><span><a href=\"#Link-Arrows\" data-toc-modified-id=\"Link-Arrows-4.3.11\"><span class=\"toc-item-num\">4.3.11&nbsp;&nbsp;</span>Link Arrows</a></span><ul class=\"toc-item\"><li><span><a href=\"#By-combination\" data-toc-modified-id=\"By-combination-4.3.11.1\"><span class=\"toc-item-num\">4.3.11.1&nbsp;&nbsp;</span>By combination</a></span></li><li><span><a href=\"#By-unique\" data-toc-modified-id=\"By-unique-4.3.11.2\"><span class=\"toc-item-num\">4.3.11.2&nbsp;&nbsp;</span>By unique</a></span></li><li><span><a href=\"#By-link\" data-toc-modified-id=\"By-link-4.3.11.3\"><span class=\"toc-item-num\">4.3.11.3&nbsp;&nbsp;</span>By link</a></span></li></ul></li></ul></li><li><span><a href=\"#Spell-&amp;-Trap\" data-toc-modified-id=\"Spell-&amp;-Trap-4.4\"><span class=\"toc-item-num\">4.4&nbsp;&nbsp;</span>Spell &amp; Trap</a></span><ul class=\"toc-item\"><li><span><a href=\"#Properties\" data-toc-modified-id=\"Properties-4.4.1\"><span class=\"toc-item-num\">4.4.1&nbsp;&nbsp;</span>Properties</a></span></li><li><span><a href=\"#Effect-type\" data-toc-modified-id=\"Effect-type-4.4.2\"><span class=\"toc-item-num\">4.4.2&nbsp;&nbsp;</span>Effect type</a></span><ul class=\"toc-item\"><li><span><a href=\"#Spell-&amp;-Trap-discrimination\" data-toc-modified-id=\"Spell-&amp;-Trap-discrimination-4.4.2.1\"><span class=\"toc-item-num\">4.4.2.1&nbsp;&nbsp;</span>Spell &amp; Trap discrimination</a></span></li></ul></li></ul></li><li><span><a href=\"#Archseries\" data-toc-modified-id=\"Archseries-4.5\"><span class=\"toc-item-num\">4.5&nbsp;&nbsp;</span>Archseries</a></span><ul class=\"toc-item\"><li><span><a href=\"#By-card-type\" data-toc-modified-id=\"By-card-type-4.5.1\"><span class=\"toc-item-num\">4.5.1&nbsp;&nbsp;</span>By card type</a></span></li><li><span><a href=\"#By-primary-type\" data-toc-modified-id=\"By-primary-type-4.5.2\"><span class=\"toc-item-num\">4.5.2&nbsp;&nbsp;</span>By primary type</a></span></li><li><span><a href=\"#By-secondary-type\" data-toc-modified-id=\"By-secondary-type-4.5.3\"><span class=\"toc-item-num\">4.5.3&nbsp;&nbsp;</span>By secondary type</a></span></li><li><span><a href=\"#By-monster-type\" data-toc-modified-id=\"By-monster-type-4.5.4\"><span class=\"toc-item-num\">4.5.4&nbsp;&nbsp;</span>By monster type</a></span></li><li><span><a href=\"#By-property\" data-toc-modified-id=\"By-property-4.5.5\"><span class=\"toc-item-num\">4.5.5&nbsp;&nbsp;</span>By property</a></span></li></ul></li><li><span><a href=\"#Artworks\" data-toc-modified-id=\"Artworks-4.6\"><span class=\"toc-item-num\">4.6&nbsp;&nbsp;</span>Artworks</a></span><ul class=\"toc-item\"><li><span><a href=\"#By-card-type\" data-toc-modified-id=\"By-card-type-4.6.1\"><span class=\"toc-item-num\">4.6.1&nbsp;&nbsp;</span>By card type</a></span></li><li><span><a href=\"#By-primary-type\" data-toc-modified-id=\"By-primary-type-4.6.2\"><span class=\"toc-item-num\">4.6.2&nbsp;&nbsp;</span>By primary type</a></span></li></ul></li><li><span><a href=\"#Errata\" data-toc-modified-id=\"Errata-4.7\"><span class=\"toc-item-num\">4.7&nbsp;&nbsp;</span>Errata</a></span><ul class=\"toc-item\"><li><span><a href=\"#By-card-type\" data-toc-modified-id=\"By-card-type-4.7.1\"><span class=\"toc-item-num\">4.7.1&nbsp;&nbsp;</span>By card type</a></span></li><li><span><a href=\"#By-primary-type\" data-toc-modified-id=\"By-primary-type-4.7.2\"><span class=\"toc-item-num\">4.7.2&nbsp;&nbsp;</span>By primary type</a></span></li><li><span><a href=\"#By-artwork\" data-toc-modified-id=\"By-artwork-4.7.3\"><span class=\"toc-item-num\">4.7.3&nbsp;&nbsp;</span>By artwork</a></span></li></ul></li><li><span><a href=\"#TCG-&amp;-OCG-status\" data-toc-modified-id=\"TCG-&amp;-OCG-status-4.8\"><span class=\"toc-item-num\">4.8&nbsp;&nbsp;</span>TCG &amp; OCG status</a></span><ul class=\"toc-item\"><li><span><a href=\"#TGC-status\" data-toc-modified-id=\"TGC-status-4.8.1\"><span class=\"toc-item-num\">4.8.1&nbsp;&nbsp;</span>TGC status</a></span><ul class=\"toc-item\"><li><span><a href=\"#By-card-type\" data-toc-modified-id=\"By-card-type-4.8.1.1\"><span class=\"toc-item-num\">4.8.1.1&nbsp;&nbsp;</span>By card type</a></span></li><li><span><a href=\"#By-monster-type\" data-toc-modified-id=\"By-monster-type-4.8.1.2\"><span class=\"toc-item-num\">4.8.1.2&nbsp;&nbsp;</span>By monster type</a></span></li><li><span><a href=\"#By-archseries\" data-toc-modified-id=\"By-archseries-4.8.1.3\"><span class=\"toc-item-num\">4.8.1.3&nbsp;&nbsp;</span>By archseries</a></span></li></ul></li><li><span><a href=\"#OCG-status\" data-toc-modified-id=\"OCG-status-4.8.2\"><span class=\"toc-item-num\">4.8.2&nbsp;&nbsp;</span>OCG status</a></span><ul class=\"toc-item\"><li><span><a href=\"#By-card-type\" data-toc-modified-id=\"By-card-type-4.8.2.1\"><span class=\"toc-item-num\">4.8.2.1&nbsp;&nbsp;</span>By card type</a></span></li><li><span><a href=\"#By-monster-type\" data-toc-modified-id=\"By-monster-type-4.8.2.2\"><span class=\"toc-item-num\">4.8.2.2&nbsp;&nbsp;</span>By monster type</a></span></li><li><span><a href=\"#By-archseries\" data-toc-modified-id=\"By-archseries-4.8.2.3\"><span class=\"toc-item-num\">4.8.2.3&nbsp;&nbsp;</span>By archseries</a></span></li></ul></li><li><span><a href=\"#TCG-vs.-OCG-status\" data-toc-modified-id=\"TCG-vs.-OCG-status-4.8.3\"><span class=\"toc-item-num\">4.8.3&nbsp;&nbsp;</span>TCG vs. OCG status</a></span></li></ul></li></ul></li><li><span><a href=\"#HTML-export\" data-toc-modified-id=\"HTML-export-5\"><span class=\"toc-item-num\">5&nbsp;&nbsp;</span>HTML export</a></span></li><li><span><a href=\"#Searches\" data-toc-modified-id=\"Searches-6\"><span class=\"toc-item-num\">6&nbsp;&nbsp;</span>Searches</a></span></li></ul></div>"
   ]
  },
  {
   "cell_type": "markdown",
   "id": "91fa03ff",
   "metadata": {},
   "source": [
    "# Preamble"
   ]
  },
  {
   "cell_type": "markdown",
   "id": "6eafe3c1",
   "metadata": {},
   "source": [
    "## Imports"
   ]
  },
  {
   "cell_type": "code",
   "execution_count": 1,
   "id": "e5e83db8",
   "metadata": {
    "ExecuteTime": {
     "end_time": "2022-07-01T21:09:10.680664Z",
     "start_time": "2022-07-01T21:09:10.675654Z"
    },
    "init_cell": true
   },
   "outputs": [],
   "source": [
    "import glob\n",
    "import os\n",
    "import pandas as pd\n",
    "import numpy as np\n",
    "import seaborn as sns\n",
    "%matplotlib inline\n",
    "import matplotlib.pyplot as plt\n",
    "from matplotlib.colors import LogNorm, Normalize\n",
    "from matplotlib_venn import venn2\n",
    "from datetime import datetime\n",
    "from ast import literal_eval"
   ]
  },
  {
   "cell_type": "markdown",
   "id": "25414e9b",
   "metadata": {},
   "source": [
    "## Lists"
   ]
  },
  {
   "cell_type": "code",
   "execution_count": 2,
   "id": "9cbbe32d",
   "metadata": {
    "ExecuteTime": {
     "end_time": "2022-07-01T21:09:10.692696Z",
     "start_time": "2022-07-01T21:09:10.684571Z"
    },
    "code_folding": [],
    "init_cell": true
   },
   "outputs": [],
   "source": [
    "# Attributes to split monsters query\n",
    "attributes = ['DIVINE', 'LIGHT', 'DARK', 'WATER', 'EARTH', 'FIRE', 'WIND']\n",
    "\n",
    "# API variables\n",
    "api_url = 'https://yugipedia.com/api.php'\n",
    "\n",
    "# Styling dictionaries\n",
    "arrows_dict = {'Middle-Left': '\\u2190', 'Middle-Right': '\\u2192', 'Top-Left': '\\u2196', 'Top-Center': '\\u2191', 'Top-Right': '\\u2197', 'Bottom-Left': '\\u2199', 'Bottom-Center': '\\u2193', 'Bottom-Right': '\\u2198'}\n",
    "card_colors = {'Effect Monster': '#FF8B53', 'Normal Monster': '#FDE68A', 'Ritual Monster': '#9DB5CC', 'Fusion Monster': '#A086B7', 'Synchro Monster': '#CCCCCC', 'Xyz Monster': '#000000', 'Link Monster': '#00008B', 'Pendulum Monster': 'r', 'Monster Card': '#FF8B53', 'Spell Card': '#1D9E74', 'Trap Card': '#BC5A84', 'Monster Token': '#C0C0C0', 'FIRE': '#fd1b1b', 'WATER': '#03a9e6', 'EARTH': '#060d0a', 'WIND': '#77bb58', 'DARK': '#745ea5', 'LIGHT': '#9d8047', 'DIVINE': '#7e6537', 'Level': '#f1a41f'}"
   ]
  },
  {
   "cell_type": "markdown",
   "id": "aedc0f89",
   "metadata": {},
   "source": [
    "## Formatting functions"
   ]
  },
  {
   "cell_type": "code",
   "execution_count": 3,
   "id": "01a595aa",
   "metadata": {
    "ExecuteTime": {
     "end_time": "2022-07-01T21:09:10.737065Z",
     "start_time": "2022-07-01T21:09:10.697735Z"
    },
    "code_folding": [
     0,
     5
    ],
    "init_cell": true
   },
   "outputs": [],
   "source": [
    "def extract_results(df):\n",
    "    df = pd.DataFrame(df['query']['results']).transpose()\n",
    "    df = pd.DataFrame(df['printouts'].values.tolist())\n",
    "    return df\n",
    "\n",
    "def extract_artwork(row):\n",
    "    result = tuple()\n",
    "    if 'Category:OCG/TCG cards with alternate artworks' in row:\n",
    "        result += ('Alternate',)\n",
    "    if 'Category:OCG/TCG cards with edited artworks' in row:\n",
    "        result += ('Edited',)\n",
    "    if result == tuple():\n",
    "        return np.nan\n",
    "    else:\n",
    "        return result\n",
    "\n",
    "def concat_errata(row):\n",
    "    result = tuple()\n",
    "    if row['Name errata']:\n",
    "        result += ('Name',)\n",
    "    if row['Type errata']:\n",
    "        result += ('Type',)\n",
    "    if result == tuple():\n",
    "        return np.nan\n",
    "    else:\n",
    "        return result \n",
    "    \n",
    "def format_df(input_df, input_errata_df):\n",
    "    df = pd.DataFrame()\n",
    "    if 'Name' in input_df.columns:\n",
    "        df['Name'] = input_df['Name'].dropna().apply(lambda x: x[0])\n",
    "    if 'Password' in input_df.columns:\n",
    "        df['Password'] = input_df['Password'].dropna().apply(lambda x: x[0] if len(x)>0 else np.nan)\n",
    "    if 'Card type' in input_df.columns:\n",
    "        df['Card type'] = input_df['Card type'].dropna().apply(lambda x: x[0]['fulltext'] if len(x)>0 else np.nan)\n",
    "    if 'Property' in input_df.columns:\n",
    "        df['Property'] = input_df['Property'].dropna().apply(lambda x: x[0] if len(x)>0 else np.nan)\n",
    "    if 'Primary type' in input_df.columns:\n",
    "        df['Primary type'] = input_df['Primary type'].dropna().apply(lambda x: [i['fulltext'] for i in x] if len(x)>0 else []).apply(lambda y: list(filter(lambda z: z != 'Pendulum Monster', y)) if len(y)>0 else []).apply(lambda y: list(filter(lambda z: z != 'Effect Monster', y))[0] if len(y)>1 else (y[0] if len(y)>0 else np.nan))\n",
    "    if 'Secondary type' in input_df.columns:\n",
    "        df['Secondary type'] = input_df['Secondary type'].dropna().apply(lambda x: x[0]['fulltext'] if len(x)>0 else np.nan)\n",
    "    if 'Attribute' in input_df.columns:\n",
    "        df['Attribute'] = input_df['Attribute'].dropna().apply(lambda x: x[0]['fulltext'] if len(x)>0 else np.nan)\n",
    "    if 'Monster type' in input_df.columns:\n",
    "        df['Monster type'] = input_df['Monster type'].dropna().apply(lambda x: x[0]['fulltext'] if len(x)>0 else np.nan)\n",
    "    if 'Level/Rank' in input_df.columns:\n",
    "        df['Level/Rank'] = input_df['Level/Rank'].dropna().apply(lambda x: x[0] if len(x)>0 else np.nan)\n",
    "    if 'ATK' in input_df.columns:\n",
    "        df['ATK'] = input_df['ATK'].dropna().apply(lambda x: x[0] if len(x)>0 else np.nan)\n",
    "    if 'DEF' in input_df.columns:\n",
    "        df['DEF'] = input_df['DEF'].dropna().apply(lambda x: x[0] if len(x)>0 else np.nan)\n",
    "    if 'Pendulum Scale' in input_df.columns:\n",
    "        df['Pendulum Scale'] = input_df['Pendulum Scale'].dropna().apply(lambda x: str(x[0]) if len(x)>0 else np.nan)\n",
    "    if 'Link' in input_df.columns:\n",
    "        df['Link'] = input_df['Link'].dropna().apply(lambda x: str(x[0]) if len(x)>0 else np.nan)\n",
    "    if 'Link Arrows' in input_df.columns:\n",
    "        df['Link Arrows'] = input_df['Link Arrows'].dropna().apply(lambda x: tuple([arrows_dict[i] for i in sorted(x)]) if len(x)>0 else np.nan)\n",
    "    if 'Effect type' in input_df.columns:\n",
    "        df['Effect type'] = input_df['Effect type'].dropna().apply(lambda x: tuple(sorted([i['fulltext'] for i in x])) if len(x)>0 else np.nan)\n",
    "    if 'Archseries' in input_df.columns:\n",
    "        df['Archseries'] = input_df['Archseries'].dropna().apply(lambda x: tuple(sorted(x)) if len(x)>0 else np.nan)\n",
    "    if 'Category' in input_df.columns:\n",
    "        df['Artwork'] = input_df['Category'].dropna().apply(lambda x: [i['fulltext'] for i in x] if len(x)>0 else np.nan).apply(extract_artwork)\n",
    "    # Erratas column\n",
    "    if input_errata_df is not None and 'Page name' in input_df.columns:\n",
    "        df['Errata'] = errata_df.merge(input_df['Page name'].dropna().apply(lambda x: x[0]).rename('Name'), right_on = 'Name', left_index = True).apply(concat_errata,axis = 1)\n",
    "    #################\n",
    "    if 'TCG status' in input_df.columns:\n",
    "        df['TCG status'] = input_df['TCG status'].dropna().apply(lambda x: x[0]['fulltext'] if len(x)>0 else np.nan)\n",
    "    if 'OCG status' in input_df.columns:\n",
    "        df['OCG status'] = input_df['OCG status'].dropna().apply(lambda x: x[0]['fulltext'] if len(x)>0 else np.nan)\n",
    "    if 'Modification date' in input_df.columns:\n",
    "        df['Modification date'] = input_df['Modification date'].dropna().apply(lambda x: pd.Timestamp(int(x[0]['timestamp']), unit='s').ctime() if len(x)>0 else np.nan)\n",
    "    \n",
    "    return df\n"
   ]
  },
  {
   "cell_type": "markdown",
   "id": "5de09bed",
   "metadata": {},
   "source": [
    "## API call functions"
   ]
  },
  {
   "cell_type": "code",
   "execution_count": 4,
   "id": "4cff3cdf",
   "metadata": {
    "ExecuteTime": {
     "end_time": "2022-07-01T21:09:10.766668Z",
     "start_time": "2022-07-01T21:09:10.745224Z"
    },
    "code_folding": [
     0,
     45,
     60,
     75,
     92,
     97
    ],
    "init_cell": true
   },
   "outputs": [],
   "source": [
    "def card_query(_password = True, _card_type = True, _property = True, _primary = True, _secondary = True, _attribute = True, _monster_type = True, _stars = True, _atk = True, _def = True, _scale = True, _link = True, _arrows = True, _effect_type = True, _archseries = True, _category = True, _tcg = True, _ocg = True, _date = True, _page_name = True):\n",
    "    search_string = f'|?English%20name=Name'\n",
    "    if _password:\n",
    "        search_string += '|?Password'\n",
    "    if _card_type:\n",
    "        search_string += '|?Card%20type'\n",
    "    if _property:    \n",
    "        search_string += '|?Property'\n",
    "    if _primary:\n",
    "        search_string += '|?Primary%20type'\n",
    "    if _secondary:\n",
    "        search_string += '|?Secondary%20type'\n",
    "    if _attribute:\n",
    "        search_string += '|?Attribute'\n",
    "    if _monster_type:\n",
    "        search_string += '|?Type=Monster%20type'\n",
    "    if _stars:\n",
    "        search_string += '|?Stars%20string=Level%2FRank%20'\n",
    "    if _atk:\n",
    "        search_string += '|?ATK%20string=ATK'\n",
    "    if _def:\n",
    "        search_string += '|?DEF%20string=DEF'\n",
    "    if _scale:\n",
    "        search_string += '|?Pendulum%20Scale'\n",
    "    if _link:\n",
    "        search_string += '|?Link%20Rating=Link'\n",
    "    if _arrows:\n",
    "        search_string += '|?Link%20Arrows'\n",
    "    if _effect_type:\n",
    "        search_string += '|?Effect%20type'\n",
    "    if _archseries:\n",
    "        search_string += '|?Archseries'\n",
    "    if _category:\n",
    "        search_string += '|?category'\n",
    "    if _tcg:\n",
    "        search_string += '|?TCG%20status'\n",
    "    if _ocg:\n",
    "        search_string += '|?OCG%20status'\n",
    "    if _date:\n",
    "        search_string += '|?Modification%20date'\n",
    "    if _page_name:\n",
    "        search_string += '|?Page%20name'\n",
    "    \n",
    "    return search_string\n",
    "\n",
    "def fetch_spell(spell_query, step = 5000, limit = 5000):\n",
    "    print('Downloading Spells')\n",
    "    spell_df = pd.DataFrame()\n",
    "    for i in range(int(limit/step)):\n",
    "        df = pd.read_json(f'{api_url}?action=ask&query=[[Concept:CG%20Spell%20Cards]]{spell_query}|limit%3D{step}|offset={i*step}|order%3Dasc&format=json')\n",
    "        df = extract_results(df)\n",
    "        print(f'Iteration {i+1}: {len(df.index)} results')\n",
    "        spell_df = pd.concat([spell_df, df], ignore_index=True, axis=0)\n",
    "        if len(df.index)<step:\n",
    "            break\n",
    "                \n",
    "    print(f'- Total\\n{len(spell_df.index)} results\\n')\n",
    "    \n",
    "    return spell_df\n",
    "\n",
    "def fetch_trap(trap_query, step = 5000, limit = 5000):\n",
    "    print('Downloading Traps')\n",
    "    trap_df = pd.DataFrame()\n",
    "    for i in range(int(limit/step)):    \n",
    "        df = pd.read_json(f'{api_url}?action=ask&query=[[Concept:CG%20Trap%20Cards]]{trap_query}|limit%3D{step}|offset={i*step}|order%3Dasc&format=json')\n",
    "        df = extract_results(df)\n",
    "        print(f'Iteration {i+1}: {len(df.index)} results')\n",
    "        trap_df = pd.concat([trap_df, df], ignore_index=True, axis=0)\n",
    "        if len(df.index)<step:\n",
    "            break\n",
    "                \n",
    "    print(f'- Total\\n{len(trap_df.index)} results\\n')\n",
    "    \n",
    "    return trap_df\n",
    "\n",
    "def fetch_monster(monster_query, step = 5000, limit = 5000):\n",
    "    print('Downloading Monsters')\n",
    "    monster_df = pd.DataFrame()\n",
    "    for att in attributes:\n",
    "        print(f\"- {att}\")\n",
    "        for i in range(int(limit/step)):\n",
    "            df = pd.read_json(f'{api_url}?action=ask&query=[[Concept:CG%20monsters]][[Attribute::{att}]]{monster_query}|limit%3D{step}|offset={i*step}|order%3Dasc&format=json')\n",
    "            df = extract_results(df)\n",
    "            print(f'Iteration {i+1}: {len(df.index)} results')\n",
    "            monster_df = pd.concat([monster_df, df], ignore_index=True, axis=0)\n",
    "            if len(df.index)<step:\n",
    "                break\n",
    "        \n",
    "    print(f'- Total\\n{len(monster_df.index)} results')\n",
    "    \n",
    "    return monster_df\n",
    "\n",
    "def fetch_name_errata(limit = 1000):\n",
    "    name_query_df = pd.read_json(f'{api_url}?action=ask&query=[[Category:Cards%20with%20name%20errata]]|limit={limit}|order%3Dasc&format=json')\n",
    "    name_keys = list(name_query_df['query']['results'].keys())\n",
    "    return pd.DataFrame(True, index = [i.split(':')[1].strip() for i in name_keys if 'Card Errata:' in i], columns = ['Name errata'])\n",
    "\n",
    "def fetch_type_errata(limit = 1000):\n",
    "    type_query_df = pd.read_json(f'{api_url}?action=ask&query=[[Category:Cards%20with%20card%20type%20errata]]|limit={limit}|order%3Dasc&format=json')\n",
    "    type_keys = list(type_query_df['query']['results'].keys())\n",
    "    return pd.DataFrame(True, index = [i.split(':')[1].strip() for i in type_keys if 'Card Errata:' in i], columns = ['Type errata'])"
   ]
  },
  {
   "cell_type": "markdown",
   "id": "b60fae74",
   "metadata": {},
   "source": [
    "# Data aquisition"
   ]
  },
  {
   "cell_type": "markdown",
   "id": "699f2460",
   "metadata": {},
   "source": [
    "## Fetch online data"
   ]
  },
  {
   "cell_type": "code",
   "execution_count": 5,
   "id": "135ab538",
   "metadata": {
    "ExecuteTime": {
     "end_time": "2022-07-01T21:12:04.297585Z",
     "start_time": "2022-07-01T21:09:10.772165Z"
    }
   },
   "outputs": [
    {
     "name": "stdout",
     "output_type": "stream",
     "text": [
      "Downloading Spells\n",
      "Iteration 1: 1000 results\n",
      "Iteration 2: 1000 results\n",
      "Iteration 3: 366 results\n",
      "- Total\n",
      "2366 results\n",
      "\n",
      "Downloading Traps\n",
      "Iteration 1: 1000 results\n",
      "Iteration 2: 807 results\n",
      "- Total\n",
      "1807 results\n",
      "\n",
      "Downloading Monsters\n",
      "- DIVINE\n",
      "Iteration 1: 9 results\n",
      "- LIGHT\n",
      "Iteration 1: 1000 results\n",
      "Iteration 2: 618 results\n",
      "- DARK\n",
      "Iteration 1: 1000 results\n",
      "Iteration 2: 1000 results\n",
      "Iteration 3: 213 results\n",
      "- WATER\n",
      "Iteration 1: 833 results\n",
      "- EARTH\n",
      "Iteration 1: 1000 results\n",
      "Iteration 2: 873 results\n",
      "- FIRE\n",
      "Iteration 1: 667 results\n",
      "- WIND\n",
      "Iteration 1: 760 results\n",
      "- Total\n",
      "7973 results\n"
     ]
    }
   ],
   "source": [
    "monster_query = card_query(_property = False)\n",
    "st_query = card_query(_primary = False, _secondary = False, _attribute = False, _monster_type = False, _stars = False, _atk = False, _def = False, _scale = False, _link = False, _arrows = False)\n",
    "# Timestamp\n",
    "timestamp = pd.Timestamp.now().timestamp()\n",
    "full_df = pd.DataFrame()\n",
    "\n",
    "# Fetch Spell\n",
    "spell_df = fetch_spell(st_query, step = 1000, limit = 3000)\n",
    "full_df = pd.concat([full_df, spell_df], ignore_index=True, axis=0)\n",
    "\n",
    "# Fetch Trap\n",
    "trap_df = fetch_trap(st_query, step = 1000, limit = 3000)\n",
    "full_df = pd.concat([full_df, trap_df], ignore_index=True, axis=0)\n",
    "st_df = pd.concat([spell_df, trap_df], ignore_index=True, axis=0)\n",
    "\n",
    "# Fetch Monster\n",
    "monster_df = fetch_monster(monster_query, step = 1000, limit = 5000)\n",
    "full_df = pd.concat([full_df, monster_df], ignore_index=True, axis=0)\n",
    "\n",
    "# Fetch errata\n",
    "errata_df = pd.concat([fetch_name_errata(), fetch_type_errata()], axis=1).fillna(False)"
   ]
  },
  {
   "cell_type": "markdown",
   "id": "5a23c8e9",
   "metadata": {},
   "source": [
    "## Format data"
   ]
  },
  {
   "cell_type": "code",
   "execution_count": 6,
   "id": "3e833a4c",
   "metadata": {
    "ExecuteTime": {
     "end_time": "2022-07-01T21:12:08.852899Z",
     "start_time": "2022-07-01T21:12:04.303238Z"
    }
   },
   "outputs": [
    {
     "name": "stdout",
     "output_type": "stream",
     "text": [
      "Data formated\n"
     ]
    }
   ],
   "source": [
    "formatted_spell_df = format_df(spell_df, errata_df)\n",
    "formatted_trap_df = format_df(trap_df, errata_df)\n",
    "formatted_st_df = format_df(st_df, errata_df)\n",
    "formatted_monster_df = format_df(monster_df, errata_df)\n",
    "formatted_full_df = format_df(full_df, errata_df)\n",
    "print('Data formated')"
   ]
  },
  {
   "cell_type": "markdown",
   "id": "9b15f8ec",
   "metadata": {},
   "source": [
    "## Save data"
   ]
  },
  {
   "cell_type": "code",
   "execution_count": 7,
   "id": "01e9eb77",
   "metadata": {
    "ExecuteTime": {
     "end_time": "2022-07-01T21:12:09.607531Z",
     "start_time": "2022-07-01T21:12:08.937303Z"
    }
   },
   "outputs": [
    {
     "name": "stdout",
     "output_type": "stream",
     "text": [
      "Data saved\n"
     ]
    }
   ],
   "source": [
    "formatted_full_df.to_csv(f'Data/All_cards_{int(timestamp)}.csv', index = False)\n",
    "print('Data saved')"
   ]
  },
  {
   "cell_type": "markdown",
   "id": "9ff0cf51",
   "metadata": {},
   "source": [
    "# Check changes"
   ]
  },
  {
   "cell_type": "markdown",
   "id": "233e965d",
   "metadata": {},
   "source": [
    "## Load latest file"
   ]
  },
  {
   "cell_type": "code",
   "execution_count": 27,
   "id": "fb7dc6f8",
   "metadata": {
    "ExecuteTime": {
     "end_time": "2022-07-01T21:12:10.537911Z",
     "start_time": "2022-07-01T21:12:09.617992Z"
    }
   },
   "outputs": [
    {
     "name": "stdout",
     "output_type": "stream",
     "text": [
      "File loaded\n"
     ]
    }
   ],
   "source": [
    "# Get list of files\n",
    "list_of_files = sorted(glob.glob('Data/All_cards_*.csv'), key=os.path.getctime, reverse=True)\n",
    "# Get second newest file if exist\n",
    "if len(list_of_files)>1:\n",
    "    latest_file = list_of_files[1]\n",
    "    previous_df = pd.read_csv(latest_file, dtype=object)\n",
    "    # Correct tuples\n",
    "    previous_df['Effect type'] = previous_df['Effect type'].dropna().apply(literal_eval)\n",
    "    previous_df['Link Arrows'] = previous_df['Link Arrows'].dropna().apply(literal_eval)\n",
    "    previous_df['Archseries'] = previous_df['Archseries'].dropna().apply(literal_eval)\n",
    "    previous_df['Artwork'] = previous_df['Artwork'].dropna().apply(literal_eval)\n",
    "    previous_df['Errata'] = previous_df['Errata'].dropna().apply(literal_eval)\n",
    "    print('File loaded')\n",
    "else:\n",
    "    print('No older files')"
   ]
  },
  {
   "cell_type": "markdown",
   "id": "96ce5451",
   "metadata": {},
   "source": [
    "## Generate changelog"
   ]
  },
  {
   "cell_type": "code",
   "execution_count": 28,
   "id": "2fcca8f1",
   "metadata": {
    "ExecuteTime": {
     "end_time": "2022-07-01T21:12:14.740184Z",
     "start_time": "2022-07-01T21:12:10.627944Z"
    }
   },
   "outputs": [],
   "source": [
    "if previous_df is not None:\n",
    "    changelog = previous_df.merge(formatted_full_df,indicator = True, how='outer').loc[lambda x : x['_merge']!='both'].sort_values('Name', ignore_index=True)\n",
    "    changelog['_merge'].replace(['left_only','right_only'],['Old', 'New'], inplace = True)\n",
    "    changelog.rename(columns={\"_merge\": \"Version\"}, inplace = True)\n",
    "    nunique = changelog.groupby('Name').nunique()\n",
    "    cols_to_drop = nunique[nunique < 2].dropna(axis=1).columns\n",
    "    changelog = changelog.set_index('Name')[nunique > 1]\n",
    "    changelog.drop(cols_to_drop, axis=1, inplace = True)\n",
    "    changelog\n",
    "else:\n",
    "    print('No changes')"
   ]
  },
  {
   "cell_type": "markdown",
   "id": "c0ae1017",
   "metadata": {},
   "source": [
    "# Data visualisation"
   ]
  },
  {
   "cell_type": "markdown",
   "id": "5ad091af",
   "metadata": {},
   "source": [
    "## Full data"
   ]
  },
  {
   "cell_type": "code",
   "execution_count": 29,
   "id": "fb024043",
   "metadata": {
    "ExecuteTime": {
     "end_time": "2022-07-01T21:12:15.103891Z",
     "start_time": "2022-07-01T21:12:14.744063Z"
    }
   },
   "outputs": [
    {
     "data": {
      "text/html": [
       "<div>\n",
       "<style scoped>\n",
       "    .dataframe tbody tr th:only-of-type {\n",
       "        vertical-align: middle;\n",
       "    }\n",
       "\n",
       "    .dataframe tbody tr th {\n",
       "        vertical-align: top;\n",
       "    }\n",
       "\n",
       "    .dataframe thead th {\n",
       "        text-align: right;\n",
       "    }\n",
       "</style>\n",
       "<table border=\"1\" class=\"dataframe\">\n",
       "  <thead>\n",
       "    <tr style=\"text-align: right;\">\n",
       "      <th></th>\n",
       "      <th>Name</th>\n",
       "      <th>Password</th>\n",
       "      <th>Card type</th>\n",
       "      <th>Property</th>\n",
       "      <th>Primary type</th>\n",
       "      <th>Secondary type</th>\n",
       "      <th>Attribute</th>\n",
       "      <th>Monster type</th>\n",
       "      <th>Level/Rank</th>\n",
       "      <th>ATK</th>\n",
       "      <th>...</th>\n",
       "      <th>Pendulum Scale</th>\n",
       "      <th>Link</th>\n",
       "      <th>Link Arrows</th>\n",
       "      <th>Effect type</th>\n",
       "      <th>Archseries</th>\n",
       "      <th>Artwork</th>\n",
       "      <th>Errata</th>\n",
       "      <th>TCG status</th>\n",
       "      <th>OCG status</th>\n",
       "      <th>Modification date</th>\n",
       "    </tr>\n",
       "  </thead>\n",
       "  <tbody>\n",
       "    <tr>\n",
       "      <th>0</th>\n",
       "      <td>\"A\" Cell Breeding Device</td>\n",
       "      <td>34541863</td>\n",
       "      <td>Spell Card</td>\n",
       "      <td>Continuous Spell Card</td>\n",
       "      <td>NaN</td>\n",
       "      <td>NaN</td>\n",
       "      <td>NaN</td>\n",
       "      <td>NaN</td>\n",
       "      <td>NaN</td>\n",
       "      <td>NaN</td>\n",
       "      <td>...</td>\n",
       "      <td>NaN</td>\n",
       "      <td>NaN</td>\n",
       "      <td>NaN</td>\n",
       "      <td>(Trigger Effect,)</td>\n",
       "      <td>NaN</td>\n",
       "      <td>NaN</td>\n",
       "      <td>(Name,)</td>\n",
       "      <td>Unlimited</td>\n",
       "      <td>Unlimited</td>\n",
       "      <td>Sat Nov  6 13:57:15 2021</td>\n",
       "    </tr>\n",
       "    <tr>\n",
       "      <th>1</th>\n",
       "      <td>\"A\" Cell Incubator</td>\n",
       "      <td>64163367</td>\n",
       "      <td>Spell Card</td>\n",
       "      <td>Continuous Spell Card</td>\n",
       "      <td>NaN</td>\n",
       "      <td>NaN</td>\n",
       "      <td>NaN</td>\n",
       "      <td>NaN</td>\n",
       "      <td>NaN</td>\n",
       "      <td>NaN</td>\n",
       "      <td>...</td>\n",
       "      <td>NaN</td>\n",
       "      <td>NaN</td>\n",
       "      <td>NaN</td>\n",
       "      <td>(Continuous-like Effect, Trigger Effect)</td>\n",
       "      <td>NaN</td>\n",
       "      <td>NaN</td>\n",
       "      <td>NaN</td>\n",
       "      <td>Unlimited</td>\n",
       "      <td>Unlimited</td>\n",
       "      <td>Mon Jun 13 04:27:51 2022</td>\n",
       "    </tr>\n",
       "    <tr>\n",
       "      <th>2</th>\n",
       "      <td>\"A\" Cell Recombination Device</td>\n",
       "      <td>91231901</td>\n",
       "      <td>Spell Card</td>\n",
       "      <td>Quick-Play Spell Card</td>\n",
       "      <td>NaN</td>\n",
       "      <td>NaN</td>\n",
       "      <td>NaN</td>\n",
       "      <td>NaN</td>\n",
       "      <td>NaN</td>\n",
       "      <td>NaN</td>\n",
       "      <td>...</td>\n",
       "      <td>NaN</td>\n",
       "      <td>NaN</td>\n",
       "      <td>NaN</td>\n",
       "      <td>(Effect, Ignition-like Effect)</td>\n",
       "      <td>NaN</td>\n",
       "      <td>NaN</td>\n",
       "      <td>NaN</td>\n",
       "      <td>Unlimited</td>\n",
       "      <td>Unlimited</td>\n",
       "      <td>Thu Mar 12 22:40:14 2020</td>\n",
       "    </tr>\n",
       "    <tr>\n",
       "      <th>3</th>\n",
       "      <td>\"A\" Cell Scatter Burst</td>\n",
       "      <td>73262676</td>\n",
       "      <td>Spell Card</td>\n",
       "      <td>Quick-Play Spell Card</td>\n",
       "      <td>NaN</td>\n",
       "      <td>NaN</td>\n",
       "      <td>NaN</td>\n",
       "      <td>NaN</td>\n",
       "      <td>NaN</td>\n",
       "      <td>NaN</td>\n",
       "      <td>...</td>\n",
       "      <td>NaN</td>\n",
       "      <td>NaN</td>\n",
       "      <td>NaN</td>\n",
       "      <td>(Effect,)</td>\n",
       "      <td>NaN</td>\n",
       "      <td>NaN</td>\n",
       "      <td>NaN</td>\n",
       "      <td>Unlimited</td>\n",
       "      <td>Unlimited</td>\n",
       "      <td>Sat Nov  6 13:58:32 2021</td>\n",
       "    </tr>\n",
       "    <tr>\n",
       "      <th>4</th>\n",
       "      <td>\"Infernoble Arms - Durendal\"</td>\n",
       "      <td>37478723</td>\n",
       "      <td>Spell Card</td>\n",
       "      <td>Equip Spell Card</td>\n",
       "      <td>NaN</td>\n",
       "      <td>NaN</td>\n",
       "      <td>NaN</td>\n",
       "      <td>NaN</td>\n",
       "      <td>NaN</td>\n",
       "      <td>NaN</td>\n",
       "      <td>...</td>\n",
       "      <td>NaN</td>\n",
       "      <td>NaN</td>\n",
       "      <td>NaN</td>\n",
       "      <td>(Condition, Ignition-like Effect, Trigger Effect)</td>\n",
       "      <td>(Noble Arms,)</td>\n",
       "      <td>NaN</td>\n",
       "      <td>NaN</td>\n",
       "      <td>Unlimited</td>\n",
       "      <td>Unlimited</td>\n",
       "      <td>Sat Aug 20 13:52:48 2022</td>\n",
       "    </tr>\n",
       "    <tr>\n",
       "      <th>...</th>\n",
       "      <td>...</td>\n",
       "      <td>...</td>\n",
       "      <td>...</td>\n",
       "      <td>...</td>\n",
       "      <td>...</td>\n",
       "      <td>...</td>\n",
       "      <td>...</td>\n",
       "      <td>...</td>\n",
       "      <td>...</td>\n",
       "      <td>...</td>\n",
       "      <td>...</td>\n",
       "      <td>...</td>\n",
       "      <td>...</td>\n",
       "      <td>...</td>\n",
       "      <td>...</td>\n",
       "      <td>...</td>\n",
       "      <td>...</td>\n",
       "      <td>...</td>\n",
       "      <td>...</td>\n",
       "      <td>...</td>\n",
       "      <td>...</td>\n",
       "    </tr>\n",
       "    <tr>\n",
       "      <th>12141</th>\n",
       "      <td>Yosenju Shinchu L</td>\n",
       "      <td>65025250</td>\n",
       "      <td>Monster Card</td>\n",
       "      <td>NaN</td>\n",
       "      <td>Effect Monster</td>\n",
       "      <td>NaN</td>\n",
       "      <td>WIND</td>\n",
       "      <td>Rock</td>\n",
       "      <td>4</td>\n",
       "      <td>0</td>\n",
       "      <td>...</td>\n",
       "      <td>3</td>\n",
       "      <td>NaN</td>\n",
       "      <td>NaN</td>\n",
       "      <td>(Continuous Effect, Continuous-like Effect, Tr...</td>\n",
       "      <td>(Yosenju,)</td>\n",
       "      <td>NaN</td>\n",
       "      <td>NaN</td>\n",
       "      <td>Unlimited</td>\n",
       "      <td>Unlimited</td>\n",
       "      <td>Sun Aug 14 11:04:00 2022</td>\n",
       "    </tr>\n",
       "    <tr>\n",
       "      <th>12142</th>\n",
       "      <td>Yosenju Shinchu R</td>\n",
       "      <td>91420254</td>\n",
       "      <td>Monster Card</td>\n",
       "      <td>NaN</td>\n",
       "      <td>Effect Monster</td>\n",
       "      <td>NaN</td>\n",
       "      <td>WIND</td>\n",
       "      <td>Rock</td>\n",
       "      <td>4</td>\n",
       "      <td>0</td>\n",
       "      <td>...</td>\n",
       "      <td>5</td>\n",
       "      <td>NaN</td>\n",
       "      <td>NaN</td>\n",
       "      <td>(Continuous Effect, Ignition-like Effect, Trig...</td>\n",
       "      <td>(Yosenju,)</td>\n",
       "      <td>NaN</td>\n",
       "      <td>NaN</td>\n",
       "      <td>Unlimited</td>\n",
       "      <td>Unlimited</td>\n",
       "      <td>Sat Aug 13 12:21:48 2022</td>\n",
       "    </tr>\n",
       "    <tr>\n",
       "      <th>12143</th>\n",
       "      <td>Yosenju Tsujik</td>\n",
       "      <td>25244515</td>\n",
       "      <td>Monster Card</td>\n",
       "      <td>NaN</td>\n",
       "      <td>Effect Monster</td>\n",
       "      <td>NaN</td>\n",
       "      <td>WIND</td>\n",
       "      <td>Beast-Warrior</td>\n",
       "      <td>4</td>\n",
       "      <td>1000</td>\n",
       "      <td>...</td>\n",
       "      <td>NaN</td>\n",
       "      <td>NaN</td>\n",
       "      <td>NaN</td>\n",
       "      <td>(Condition, Ignition Effect, Quick Effect, Tri...</td>\n",
       "      <td>(Yosenju,)</td>\n",
       "      <td>NaN</td>\n",
       "      <td>NaN</td>\n",
       "      <td>Unlimited</td>\n",
       "      <td>Unlimited</td>\n",
       "      <td>Sun Dec 20 18:15:02 2020</td>\n",
       "    </tr>\n",
       "    <tr>\n",
       "      <th>12144</th>\n",
       "      <td>ZW - Eagle Claw</td>\n",
       "      <td>29353756</td>\n",
       "      <td>Monster Card</td>\n",
       "      <td>NaN</td>\n",
       "      <td>Effect Monster</td>\n",
       "      <td>NaN</td>\n",
       "      <td>WIND</td>\n",
       "      <td>Winged Beast</td>\n",
       "      <td>5</td>\n",
       "      <td>2000</td>\n",
       "      <td>...</td>\n",
       "      <td>NaN</td>\n",
       "      <td>NaN</td>\n",
       "      <td>NaN</td>\n",
       "      <td>(Continuous-like Effect, Ignition Effect, Uncl...</td>\n",
       "      <td>(ZW -, Zexal)</td>\n",
       "      <td>NaN</td>\n",
       "      <td>NaN</td>\n",
       "      <td>Unlimited</td>\n",
       "      <td>Unlimited</td>\n",
       "      <td>Thu Jul  8 13:48:07 2021</td>\n",
       "    </tr>\n",
       "    <tr>\n",
       "      <th>12145</th>\n",
       "      <td>ZW - Tornado Bringer</td>\n",
       "      <td>81471108</td>\n",
       "      <td>Monster Card</td>\n",
       "      <td>NaN</td>\n",
       "      <td>Effect Monster</td>\n",
       "      <td>NaN</td>\n",
       "      <td>WIND</td>\n",
       "      <td>Dragon</td>\n",
       "      <td>5</td>\n",
       "      <td>1300</td>\n",
       "      <td>...</td>\n",
       "      <td>NaN</td>\n",
       "      <td>NaN</td>\n",
       "      <td>NaN</td>\n",
       "      <td>(Continuous-like Effect, Ignition Effect, Uncl...</td>\n",
       "      <td>(ZW -, Zexal)</td>\n",
       "      <td>NaN</td>\n",
       "      <td>NaN</td>\n",
       "      <td>Unlimited</td>\n",
       "      <td>Unlimited</td>\n",
       "      <td>Sun Aug 14 11:04:24 2022</td>\n",
       "    </tr>\n",
       "  </tbody>\n",
       "</table>\n",
       "<p>12146 rows × 21 columns</p>\n",
       "</div>"
      ],
      "text/plain": [
       "                                Name  Password     Card type  \\\n",
       "0           \"A\" Cell Breeding Device  34541863    Spell Card   \n",
       "1                 \"A\" Cell Incubator  64163367    Spell Card   \n",
       "2      \"A\" Cell Recombination Device  91231901    Spell Card   \n",
       "3             \"A\" Cell Scatter Burst  73262676    Spell Card   \n",
       "4       \"Infernoble Arms - Durendal\"  37478723    Spell Card   \n",
       "...                              ...       ...           ...   \n",
       "12141              Yosenju Shinchu L  65025250  Monster Card   \n",
       "12142              Yosenju Shinchu R  91420254  Monster Card   \n",
       "12143                 Yosenju Tsujik  25244515  Monster Card   \n",
       "12144                ZW - Eagle Claw  29353756  Monster Card   \n",
       "12145           ZW - Tornado Bringer  81471108  Monster Card   \n",
       "\n",
       "                    Property    Primary type Secondary type Attribute  \\\n",
       "0      Continuous Spell Card             NaN            NaN       NaN   \n",
       "1      Continuous Spell Card             NaN            NaN       NaN   \n",
       "2      Quick-Play Spell Card             NaN            NaN       NaN   \n",
       "3      Quick-Play Spell Card             NaN            NaN       NaN   \n",
       "4           Equip Spell Card             NaN            NaN       NaN   \n",
       "...                      ...             ...            ...       ...   \n",
       "12141                    NaN  Effect Monster            NaN      WIND   \n",
       "12142                    NaN  Effect Monster            NaN      WIND   \n",
       "12143                    NaN  Effect Monster            NaN      WIND   \n",
       "12144                    NaN  Effect Monster            NaN      WIND   \n",
       "12145                    NaN  Effect Monster            NaN      WIND   \n",
       "\n",
       "        Monster type Level/Rank   ATK  ... Pendulum Scale Link Link Arrows  \\\n",
       "0                NaN        NaN   NaN  ...            NaN  NaN         NaN   \n",
       "1                NaN        NaN   NaN  ...            NaN  NaN         NaN   \n",
       "2                NaN        NaN   NaN  ...            NaN  NaN         NaN   \n",
       "3                NaN        NaN   NaN  ...            NaN  NaN         NaN   \n",
       "4                NaN        NaN   NaN  ...            NaN  NaN         NaN   \n",
       "...              ...        ...   ...  ...            ...  ...         ...   \n",
       "12141           Rock          4     0  ...              3  NaN         NaN   \n",
       "12142           Rock          4     0  ...              5  NaN         NaN   \n",
       "12143  Beast-Warrior          4  1000  ...            NaN  NaN         NaN   \n",
       "12144   Winged Beast          5  2000  ...            NaN  NaN         NaN   \n",
       "12145         Dragon          5  1300  ...            NaN  NaN         NaN   \n",
       "\n",
       "                                             Effect type     Archseries  \\\n",
       "0                                      (Trigger Effect,)            NaN   \n",
       "1               (Continuous-like Effect, Trigger Effect)            NaN   \n",
       "2                         (Effect, Ignition-like Effect)            NaN   \n",
       "3                                              (Effect,)            NaN   \n",
       "4      (Condition, Ignition-like Effect, Trigger Effect)  (Noble Arms,)   \n",
       "...                                                  ...            ...   \n",
       "12141  (Continuous Effect, Continuous-like Effect, Tr...     (Yosenju,)   \n",
       "12142  (Continuous Effect, Ignition-like Effect, Trig...     (Yosenju,)   \n",
       "12143  (Condition, Ignition Effect, Quick Effect, Tri...     (Yosenju,)   \n",
       "12144  (Continuous-like Effect, Ignition Effect, Uncl...  (ZW -, Zexal)   \n",
       "12145  (Continuous-like Effect, Ignition Effect, Uncl...  (ZW -, Zexal)   \n",
       "\n",
       "      Artwork   Errata TCG status OCG status         Modification date  \n",
       "0         NaN  (Name,)  Unlimited  Unlimited  Sat Nov  6 13:57:15 2021  \n",
       "1         NaN      NaN  Unlimited  Unlimited  Mon Jun 13 04:27:51 2022  \n",
       "2         NaN      NaN  Unlimited  Unlimited  Thu Mar 12 22:40:14 2020  \n",
       "3         NaN      NaN  Unlimited  Unlimited  Sat Nov  6 13:58:32 2021  \n",
       "4         NaN      NaN  Unlimited  Unlimited  Sat Aug 20 13:52:48 2022  \n",
       "...       ...      ...        ...        ...                       ...  \n",
       "12141     NaN      NaN  Unlimited  Unlimited  Sun Aug 14 11:04:00 2022  \n",
       "12142     NaN      NaN  Unlimited  Unlimited  Sat Aug 13 12:21:48 2022  \n",
       "12143     NaN      NaN  Unlimited  Unlimited  Sun Dec 20 18:15:02 2020  \n",
       "12144     NaN      NaN  Unlimited  Unlimited  Thu Jul  8 13:48:07 2021  \n",
       "12145     NaN      NaN  Unlimited  Unlimited  Sun Aug 14 11:04:24 2022  \n",
       "\n",
       "[12146 rows x 21 columns]"
      ]
     },
     "execution_count": 29,
     "metadata": {},
     "output_type": "execute_result"
    }
   ],
   "source": [
    "formatted_full_df"
   ]
  },
  {
   "cell_type": "markdown",
   "id": "8a8cb7cd",
   "metadata": {},
   "source": [
    "## Card types"
   ]
  },
  {
   "cell_type": "code",
   "execution_count": 30,
   "id": "a4ec32e1",
   "metadata": {
    "ExecuteTime": {
     "end_time": "2022-07-01T21:12:15.270322Z",
     "start_time": "2022-07-01T21:12:15.110014Z"
    },
    "scrolled": true
   },
   "outputs": [
    {
     "data": {
      "text/html": [
       "<div>\n",
       "<style scoped>\n",
       "    .dataframe tbody tr th:only-of-type {\n",
       "        vertical-align: middle;\n",
       "    }\n",
       "\n",
       "    .dataframe tbody tr th {\n",
       "        vertical-align: top;\n",
       "    }\n",
       "\n",
       "    .dataframe thead th {\n",
       "        text-align: right;\n",
       "    }\n",
       "</style>\n",
       "<table border=\"1\" class=\"dataframe\">\n",
       "  <thead>\n",
       "    <tr style=\"text-align: right;\">\n",
       "      <th></th>\n",
       "      <th>Name</th>\n",
       "      <th>Password</th>\n",
       "      <th>Property</th>\n",
       "      <th>Primary type</th>\n",
       "      <th>Secondary type</th>\n",
       "      <th>Attribute</th>\n",
       "      <th>Monster type</th>\n",
       "      <th>Level/Rank</th>\n",
       "      <th>ATK</th>\n",
       "      <th>DEF</th>\n",
       "      <th>Pendulum Scale</th>\n",
       "      <th>Link</th>\n",
       "      <th>Link Arrows</th>\n",
       "      <th>Effect type</th>\n",
       "      <th>Archseries</th>\n",
       "      <th>Artwork</th>\n",
       "      <th>Errata</th>\n",
       "      <th>TCG status</th>\n",
       "      <th>OCG status</th>\n",
       "      <th>Modification date</th>\n",
       "    </tr>\n",
       "    <tr>\n",
       "      <th>Card type</th>\n",
       "      <th></th>\n",
       "      <th></th>\n",
       "      <th></th>\n",
       "      <th></th>\n",
       "      <th></th>\n",
       "      <th></th>\n",
       "      <th></th>\n",
       "      <th></th>\n",
       "      <th></th>\n",
       "      <th></th>\n",
       "      <th></th>\n",
       "      <th></th>\n",
       "      <th></th>\n",
       "      <th></th>\n",
       "      <th></th>\n",
       "      <th></th>\n",
       "      <th></th>\n",
       "      <th></th>\n",
       "      <th></th>\n",
       "      <th></th>\n",
       "    </tr>\n",
       "  </thead>\n",
       "  <tbody>\n",
       "    <tr>\n",
       "      <th>Monster Card</th>\n",
       "      <td>7965</td>\n",
       "      <td>7876</td>\n",
       "      <td>0</td>\n",
       "      <td>8</td>\n",
       "      <td>6</td>\n",
       "      <td>7</td>\n",
       "      <td>25</td>\n",
       "      <td>15</td>\n",
       "      <td>82</td>\n",
       "      <td>77</td>\n",
       "      <td>13</td>\n",
       "      <td>6</td>\n",
       "      <td>61</td>\n",
       "      <td>223</td>\n",
       "      <td>985</td>\n",
       "      <td>3</td>\n",
       "      <td>3</td>\n",
       "      <td>7</td>\n",
       "      <td>7</td>\n",
       "      <td>7919</td>\n",
       "    </tr>\n",
       "    <tr>\n",
       "      <th>Spell Card</th>\n",
       "      <td>2364</td>\n",
       "      <td>2355</td>\n",
       "      <td>6</td>\n",
       "      <td>0</td>\n",
       "      <td>0</td>\n",
       "      <td>0</td>\n",
       "      <td>0</td>\n",
       "      <td>0</td>\n",
       "      <td>0</td>\n",
       "      <td>0</td>\n",
       "      <td>0</td>\n",
       "      <td>0</td>\n",
       "      <td>0</td>\n",
       "      <td>114</td>\n",
       "      <td>394</td>\n",
       "      <td>3</td>\n",
       "      <td>3</td>\n",
       "      <td>5</td>\n",
       "      <td>5</td>\n",
       "      <td>2351</td>\n",
       "    </tr>\n",
       "    <tr>\n",
       "      <th>Trap Card</th>\n",
       "      <td>1807</td>\n",
       "      <td>1794</td>\n",
       "      <td>3</td>\n",
       "      <td>0</td>\n",
       "      <td>0</td>\n",
       "      <td>0</td>\n",
       "      <td>0</td>\n",
       "      <td>0</td>\n",
       "      <td>0</td>\n",
       "      <td>0</td>\n",
       "      <td>0</td>\n",
       "      <td>0</td>\n",
       "      <td>0</td>\n",
       "      <td>95</td>\n",
       "      <td>323</td>\n",
       "      <td>2</td>\n",
       "      <td>3</td>\n",
       "      <td>4</td>\n",
       "      <td>6</td>\n",
       "      <td>1799</td>\n",
       "    </tr>\n",
       "  </tbody>\n",
       "</table>\n",
       "</div>"
      ],
      "text/plain": [
       "              Name  Password  Property  Primary type  Secondary type  \\\n",
       "Card type                                                              \n",
       "Monster Card  7965      7876         0             8               6   \n",
       "Spell Card    2364      2355         6             0               0   \n",
       "Trap Card     1807      1794         3             0               0   \n",
       "\n",
       "              Attribute  Monster type  Level/Rank  ATK  DEF  Pendulum Scale  \\\n",
       "Card type                                                                     \n",
       "Monster Card          7            25          15   82   77              13   \n",
       "Spell Card            0             0           0    0    0               0   \n",
       "Trap Card             0             0           0    0    0               0   \n",
       "\n",
       "              Link  Link Arrows  Effect type  Archseries  Artwork  Errata  \\\n",
       "Card type                                                                   \n",
       "Monster Card     6           61          223         985        3       3   \n",
       "Spell Card       0            0          114         394        3       3   \n",
       "Trap Card        0            0           95         323        2       3   \n",
       "\n",
       "              TCG status  OCG status  Modification date  \n",
       "Card type                                                \n",
       "Monster Card           7           7               7919  \n",
       "Spell Card             5           5               2351  \n",
       "Trap Card              4           6               1799  "
      ]
     },
     "execution_count": 30,
     "metadata": {},
     "output_type": "execute_result"
    }
   ],
   "source": [
    "formatted_full_df.groupby('Card type').nunique()"
   ]
  },
  {
   "cell_type": "code",
   "execution_count": 31,
   "id": "120a72dc",
   "metadata": {
    "ExecuteTime": {
     "end_time": "2022-07-01T21:12:16.966455Z",
     "start_time": "2022-07-01T21:12:15.278195Z"
    }
   },
   "outputs": [
    {
     "data": {
      "image/png": "[encoded data removed]",
      "text/plain": [
       "<Figure size 1800x600 with 1 Axes>"
      ]
     },
     "metadata": {},
     "output_type": "display_data"
    }
   ],
   "source": [
    "card_type_colors = [card_colors[i] for i in formatted_full_df['Card type'].value_counts().index]\n",
    "formatted_full_df['Card type'].value_counts().plot.bar(figsize = (18,6), grid = True, rot=0, color = card_type_colors)\n",
    "plt.show()"
   ]
  },
  {
   "cell_type": "markdown",
   "id": "fa1ed03c",
   "metadata": {},
   "source": [
    "## Monsters"
   ]
  },
  {
   "cell_type": "markdown",
   "id": "66c5f658",
   "metadata": {},
   "source": [
    "### Attributes"
   ]
  },
  {
   "cell_type": "code",
   "execution_count": null,
   "id": "aa4e6a26",
   "metadata": {
    "ExecuteTime": {
     "end_time": "2022-07-01T21:12:16.983257Z",
     "start_time": "2022-07-01T21:12:16.970868Z"
    }
   },
   "outputs": [],
   "source": [
    "print('Total number of attributes:', formatted_monster_df['Attribute'].nunique())"
   ]
  },
  {
   "cell_type": "code",
   "execution_count": null,
   "id": "ea26720e",
   "metadata": {
    "ExecuteTime": {
     "end_time": "2022-07-01T21:12:17.123815Z",
     "start_time": "2022-07-01T21:12:16.988104Z"
    },
    "scrolled": true
   },
   "outputs": [],
   "source": [
    "formatted_monster_df.drop(columns=['Card type']).groupby('Attribute').nunique()"
   ]
  },
  {
   "cell_type": "code",
   "execution_count": null,
   "id": "c4ff5f74",
   "metadata": {
    "ExecuteTime": {
     "end_time": "2022-07-01T21:12:17.532155Z",
     "start_time": "2022-07-01T21:12:17.128949Z"
    }
   },
   "outputs": [],
   "source": [
    "attribute_colors = [card_colors[i] for i in formatted_full_df['Attribute'].value_counts().index]\n",
    "formatted_monster_df['Attribute'].value_counts().plot.bar(figsize = (18,6), grid = True, rot=0, color = attribute_colors)\n",
    "plt.show()"
   ]
  },
  {
   "cell_type": "markdown",
   "id": "d0d71936",
   "metadata": {},
   "source": [
    "### Primary types"
   ]
  },
  {
   "cell_type": "code",
   "execution_count": null,
   "id": "26e45412",
   "metadata": {
    "ExecuteTime": {
     "end_time": "2022-07-01T21:12:17.553582Z",
     "start_time": "2022-07-01T21:12:17.541315Z"
    }
   },
   "outputs": [],
   "source": [
    "print('Total number of primary types:', formatted_monster_df['Primary type'].nunique())"
   ]
  },
  {
   "cell_type": "code",
   "execution_count": null,
   "id": "c7e4c6b0",
   "metadata": {
    "ExecuteTime": {
     "end_time": "2022-07-01T21:12:17.785005Z",
     "start_time": "2022-07-01T21:12:17.575600Z"
    }
   },
   "outputs": [],
   "source": [
    "formatted_monster_df.drop(columns=['Card type']).groupby('Primary type').nunique()"
   ]
  },
  {
   "cell_type": "markdown",
   "id": "d41d8e4a",
   "metadata": {},
   "source": [
    "#### Has effect discrimination"
   ]
  },
  {
   "cell_type": "code",
   "execution_count": null,
   "id": "56a59624",
   "metadata": {
    "ExecuteTime": {
     "end_time": "2022-07-01T21:12:17.873888Z",
     "start_time": "2022-07-01T21:12:17.800127Z"
    }
   },
   "outputs": [],
   "source": [
    "has_effect = formatted_monster_df['Primary type'].where(formatted_monster_df['Effect type'].notna()).value_counts().rename('Effect')\n",
    "no_effect = formatted_monster_df['Primary type'].where(formatted_monster_df['Effect type'].isna()).value_counts().rename('No Effect')\n",
    "effect = pd.concat([has_effect,no_effect], axis=1)\n",
    "effect"
   ]
  },
  {
   "cell_type": "code",
   "execution_count": null,
   "id": "82c24448",
   "metadata": {
    "ExecuteTime": {
     "end_time": "2022-07-01T21:12:18.302609Z",
     "start_time": "2022-07-01T21:12:17.892118Z"
    }
   },
   "outputs": [],
   "source": [
    "monster_type_colors = {'No Effect': card_colors['Normal Monster'], 'Effect': [card_colors[i] for i in effect.index]}\n",
    "effect.plot.bar(figsize = (18,6), stacked = True, grid = True, rot=0,  legend=True, color = monster_type_colors)\n",
    "plt.show()"
   ]
  },
  {
   "cell_type": "markdown",
   "id": "69d8824e",
   "metadata": {},
   "source": [
    "Normal monster can have effect if it is pendulum"
   ]
  },
  {
   "cell_type": "markdown",
   "id": "1da2968f",
   "metadata": {},
   "source": [
    "#### Is pendulum discrimination"
   ]
  },
  {
   "cell_type": "code",
   "execution_count": null,
   "id": "c18ac7a6",
   "metadata": {
    "ExecuteTime": {
     "end_time": "2022-07-01T21:12:18.420849Z",
     "start_time": "2022-07-01T21:12:18.308354Z"
    }
   },
   "outputs": [],
   "source": [
    "not_pendulum = formatted_monster_df['Primary type'].where(formatted_monster_df['Pendulum Scale'].isna()).value_counts().rename('Not Pendulum')\n",
    "is_pendulum = formatted_monster_df['Primary type'].where(formatted_monster_df['Pendulum Scale'].notna()).value_counts().rename('Pendulum')\n",
    "pendulum = pd.concat([not_pendulum,is_pendulum], axis=1)\n",
    "pendulum"
   ]
  },
  {
   "cell_type": "code",
   "execution_count": null,
   "id": "fd0ff75c",
   "metadata": {
    "ExecuteTime": {
     "end_time": "2022-07-01T21:12:18.885397Z",
     "start_time": "2022-07-01T21:12:18.433110Z"
    }
   },
   "outputs": [],
   "source": [
    "monster_type_colors_b = {'Pendulum': card_colors['Pendulum Monster'], 'Not Pendulum': [card_colors[i] for i in pendulum.index]}\n",
    "pendulum.plot.bar(figsize = (18,6), stacked = True, grid = True, rot=0, color = monster_type_colors_b, legend=True)\n",
    "plt.show()"
   ]
  },
  {
   "cell_type": "markdown",
   "id": "a6a4f4f5",
   "metadata": {},
   "source": [
    "#### By attribute"
   ]
  },
  {
   "cell_type": "code",
   "execution_count": null,
   "id": "9c162519",
   "metadata": {
    "ExecuteTime": {
     "end_time": "2022-07-01T21:12:18.943484Z",
     "start_time": "2022-07-01T21:12:18.894979Z"
    }
   },
   "outputs": [],
   "source": [
    "primmary_crosstab = pd.crosstab(formatted_full_df['Primary type'],formatted_full_df['Attribute'])\n",
    "primmary_crosstab"
   ]
  },
  {
   "cell_type": "code",
   "execution_count": null,
   "id": "a0114f45",
   "metadata": {
    "ExecuteTime": {
     "end_time": "2022-07-01T21:12:21.690065Z",
     "start_time": "2022-07-01T21:12:18.951406Z"
    }
   },
   "outputs": [],
   "source": [
    "plt.figure(figsize = (16,10))\n",
    "sns.heatmap(primmary_crosstab.T, annot=True, fmt=\"g\", cmap='viridis', square=True, norm=LogNorm())\n",
    "plt.show()"
   ]
  },
  {
   "cell_type": "markdown",
   "id": "0c70885e",
   "metadata": {},
   "source": [
    "### Secondary types"
   ]
  },
  {
   "cell_type": "code",
   "execution_count": null,
   "id": "ee184462",
   "metadata": {
    "ExecuteTime": {
     "end_time": "2022-07-01T21:12:21.724360Z",
     "start_time": "2022-07-01T21:12:21.706720Z"
    }
   },
   "outputs": [],
   "source": [
    "print('Total number of secondary types:', formatted_monster_df['Secondary type'].nunique())"
   ]
  },
  {
   "cell_type": "code",
   "execution_count": null,
   "id": "125f438e",
   "metadata": {
    "ExecuteTime": {
     "end_time": "2022-07-01T21:12:21.915338Z",
     "start_time": "2022-07-01T21:12:21.731105Z"
    }
   },
   "outputs": [],
   "source": [
    "formatted_monster_df.drop(columns=['Card type', 'Link', 'Link Arrows']).groupby('Secondary type').nunique()"
   ]
  },
  {
   "cell_type": "code",
   "execution_count": null,
   "id": "a4fec827",
   "metadata": {
    "ExecuteTime": {
     "end_time": "2022-07-01T21:12:22.270155Z",
     "start_time": "2022-07-01T21:12:21.935020Z"
    }
   },
   "outputs": [],
   "source": [
    "secondary_type_colors = card_colors['Effect Monster']\n",
    "formatted_monster_df['Secondary type'].value_counts().plot.bar(figsize = (18,6), stacked = True, grid = True, rot=0, color = secondary_type_colors, legend=True)\n",
    "plt.show()"
   ]
  },
  {
   "cell_type": "markdown",
   "id": "0420679a",
   "metadata": {},
   "source": [
    "#### By attribute"
   ]
  },
  {
   "cell_type": "code",
   "execution_count": null,
   "id": "085225bb",
   "metadata": {
    "ExecuteTime": {
     "end_time": "2022-07-01T21:12:22.313252Z",
     "start_time": "2022-07-01T21:12:22.276580Z"
    }
   },
   "outputs": [],
   "source": [
    "secondary_crosstab = pd.crosstab(formatted_full_df['Secondary type'],formatted_full_df['Attribute'])\n",
    "secondary_crosstab"
   ]
  },
  {
   "cell_type": "code",
   "execution_count": null,
   "id": "b69fe297",
   "metadata": {
    "ExecuteTime": {
     "end_time": "2022-07-01T21:12:23.082335Z",
     "start_time": "2022-07-01T21:12:22.323756Z"
    }
   },
   "outputs": [],
   "source": [
    "plt.figure(figsize = (8,6))\n",
    "sns.heatmap(secondary_crosstab, annot=True, fmt=\"g\", cmap='viridis', square=True)\n",
    "plt.show()"
   ]
  },
  {
   "cell_type": "markdown",
   "id": "30b035c2",
   "metadata": {},
   "source": [
    "#### By secondary type"
   ]
  },
  {
   "cell_type": "code",
   "execution_count": null,
   "id": "c8f08039",
   "metadata": {
    "ExecuteTime": {
     "end_time": "2022-07-01T21:12:23.165152Z",
     "start_time": "2022-07-01T21:12:23.087384Z"
    }
   },
   "outputs": [],
   "source": [
    "secondary_crosstab_b = pd.crosstab(formatted_full_df['Primary type'],formatted_full_df['Secondary type'], margins = True)\n",
    "secondary_crosstab_b"
   ]
  },
  {
   "cell_type": "code",
   "execution_count": null,
   "id": "4749ace2",
   "metadata": {
    "ExecuteTime": {
     "end_time": "2022-07-01T21:12:24.116350Z",
     "start_time": "2022-07-01T21:12:23.178930Z"
    }
   },
   "outputs": [],
   "source": [
    "plt.figure(figsize = (10,7))\n",
    "sns.heatmap(secondary_crosstab_b, annot=True, fmt=\"g\", cmap='viridis', square=True, norm=LogNorm())\n",
    "plt.show()"
   ]
  },
  {
   "cell_type": "markdown",
   "id": "9682c65a",
   "metadata": {},
   "source": [
    "### Monster types"
   ]
  },
  {
   "cell_type": "code",
   "execution_count": null,
   "id": "dab77100",
   "metadata": {
    "ExecuteTime": {
     "end_time": "2022-07-01T21:12:24.145460Z",
     "start_time": "2022-07-01T21:12:24.125113Z"
    }
   },
   "outputs": [],
   "source": [
    "print('Total number of monster types:', formatted_monster_df['Monster type'].nunique())"
   ]
  },
  {
   "cell_type": "code",
   "execution_count": null,
   "id": "02f5b750",
   "metadata": {
    "ExecuteTime": {
     "end_time": "2022-07-01T21:12:24.264942Z",
     "start_time": "2022-07-01T21:12:24.150765Z"
    }
   },
   "outputs": [],
   "source": [
    "formatted_monster_df.drop(columns=['Card type']).groupby('Monster type').nunique()"
   ]
  },
  {
   "cell_type": "code",
   "execution_count": null,
   "id": "75111774",
   "metadata": {
    "ExecuteTime": {
     "end_time": "2022-07-01T21:12:24.709252Z",
     "start_time": "2022-07-01T21:12:24.270341Z"
    }
   },
   "outputs": [],
   "source": [
    "monster_type_colors = card_colors['Monster Card']\n",
    "formatted_monster_df['Monster type'].value_counts().plot.bar(figsize = (18,6), grid = True, rot=45, color = monster_type_colors)\n",
    "plt.show()"
   ]
  },
  {
   "cell_type": "markdown",
   "id": "32d282b7",
   "metadata": {},
   "source": [
    "#### By Attribute"
   ]
  },
  {
   "cell_type": "code",
   "execution_count": null,
   "id": "23d29373",
   "metadata": {
    "ExecuteTime": {
     "end_time": "2022-07-01T21:12:24.836925Z",
     "start_time": "2022-07-01T21:12:24.732081Z"
    }
   },
   "outputs": [],
   "source": [
    "monster_crosstab = pd.crosstab(formatted_full_df['Monster type'],formatted_full_df['Attribute'], dropna=False)\n",
    "monster_crosstab"
   ]
  },
  {
   "cell_type": "code",
   "execution_count": null,
   "id": "fd9ca22d",
   "metadata": {
    "ExecuteTime": {
     "end_time": "2022-07-01T21:12:26.318343Z",
     "start_time": "2022-07-01T21:12:24.843320Z"
    }
   },
   "outputs": [],
   "source": [
    "plt.figure(figsize = (20,5))\n",
    "sns.heatmap(monster_crosstab.T, annot=True, fmt=\"g\", cmap='viridis', square=True)\n",
    "plt.show()"
   ]
  },
  {
   "cell_type": "markdown",
   "id": "4daa9957",
   "metadata": {},
   "source": [
    "#### By primary type"
   ]
  },
  {
   "cell_type": "code",
   "execution_count": null,
   "id": "0f5d0eda",
   "metadata": {
    "ExecuteTime": {
     "end_time": "2022-07-01T21:12:26.370698Z",
     "start_time": "2022-07-01T21:12:26.325181Z"
    }
   },
   "outputs": [],
   "source": [
    "monster_crosstab_b = pd.crosstab(formatted_full_df['Monster type'],formatted_full_df['Primary type'], dropna=False)\n",
    "monster_crosstab_b"
   ]
  },
  {
   "cell_type": "code",
   "execution_count": null,
   "id": "5f3b531c",
   "metadata": {
    "ExecuteTime": {
     "end_time": "2022-07-01T21:12:27.850430Z",
     "start_time": "2022-07-01T21:12:26.374964Z"
    }
   },
   "outputs": [],
   "source": [
    "plt.figure(figsize = (20,5))\n",
    "sns.heatmap(monster_crosstab_b.T, annot=True, fmt=\"g\", cmap='viridis', square=True, norm = LogNorm())\n",
    "plt.show()"
   ]
  },
  {
   "cell_type": "markdown",
   "id": "9056b880",
   "metadata": {},
   "source": [
    "#### By secondary type"
   ]
  },
  {
   "cell_type": "code",
   "execution_count": null,
   "id": "cbe5bef6",
   "metadata": {
    "ExecuteTime": {
     "end_time": "2022-07-01T21:12:27.888732Z",
     "start_time": "2022-07-01T21:12:27.856984Z"
    }
   },
   "outputs": [],
   "source": [
    "monster_crosstab_c = pd.crosstab(formatted_full_df['Monster type'],formatted_full_df['Secondary type'], dropna=False)\n",
    "monster_crosstab_c"
   ]
  },
  {
   "cell_type": "code",
   "execution_count": null,
   "id": "3712cc0e",
   "metadata": {
    "ExecuteTime": {
     "end_time": "2022-07-01T21:12:28.880005Z",
     "start_time": "2022-07-01T21:12:27.892672Z"
    }
   },
   "outputs": [],
   "source": [
    "plt.figure(figsize = (20,5))\n",
    "sns.heatmap(monster_crosstab_c.T, annot=True, fmt=\"g\", cmap='viridis', square=True, norm = LogNorm())\n",
    "plt.show()"
   ]
  },
  {
   "cell_type": "markdown",
   "id": "aaf6f5d6",
   "metadata": {},
   "source": [
    "### Effect type"
   ]
  },
  {
   "cell_type": "code",
   "execution_count": null,
   "id": "b44949a6",
   "metadata": {
    "ExecuteTime": {
     "end_time": "2022-07-01T21:12:28.908510Z",
     "start_time": "2022-07-01T21:12:28.886545Z"
    }
   },
   "outputs": [],
   "source": [
    "print('Total number of effect types:', formatted_monster_df['Effect type'].explode().nunique())"
   ]
  },
  {
   "cell_type": "code",
   "execution_count": null,
   "id": "c4e48718",
   "metadata": {
    "ExecuteTime": {
     "end_time": "2022-07-01T21:12:29.053490Z",
     "start_time": "2022-07-01T21:12:28.913409Z"
    }
   },
   "outputs": [],
   "source": [
    "formatted_monster_df[formatted_monster_df['Effect type'].notna()].drop(columns=['Card type']).explode('Effect type').groupby('Effect type').nunique()"
   ]
  },
  {
   "cell_type": "code",
   "execution_count": null,
   "id": "ff912d52",
   "metadata": {
    "ExecuteTime": {
     "end_time": "2022-07-01T21:12:29.332078Z",
     "start_time": "2022-07-01T21:12:29.058910Z"
    }
   },
   "outputs": [],
   "source": [
    "monster_effect_colors = card_colors['Effect Monster']\n",
    "formatted_monster_df['Effect type'].explode('Effect type').value_counts().plot.bar(figsize = (18,6), grid = True, color = monster_effect_colors)\n",
    "plt.show()"
   ]
  },
  {
   "cell_type": "markdown",
   "id": "371f2c74",
   "metadata": {},
   "source": [
    "### ATK"
   ]
  },
  {
   "cell_type": "code",
   "execution_count": null,
   "id": "1b5db865",
   "metadata": {
    "ExecuteTime": {
     "end_time": "2022-07-01T21:12:29.345880Z",
     "start_time": "2022-07-01T21:12:29.337067Z"
    }
   },
   "outputs": [],
   "source": [
    "print('Total number of ATK values:', formatted_monster_df['ATK'].nunique())"
   ]
  },
  {
   "cell_type": "code",
   "execution_count": null,
   "id": "16b9aa14",
   "metadata": {
    "ExecuteTime": {
     "end_time": "2022-07-01T21:12:29.502899Z",
     "start_time": "2022-07-01T21:12:29.351123Z"
    }
   },
   "outputs": [],
   "source": [
    "formatted_monster_df.drop(columns=['Card type']).groupby('ATK').nunique().sort_index(key=lambda x: pd.to_numeric(x, errors = 'coerce'))"
   ]
  },
  {
   "cell_type": "code",
   "execution_count": null,
   "id": "3b1b2e1d",
   "metadata": {
    "ExecuteTime": {
     "end_time": "2022-07-01T21:12:30.607186Z",
     "start_time": "2022-07-01T21:12:29.519032Z"
    }
   },
   "outputs": [],
   "source": [
    "atk_colors = card_colors['Monster Card']\n",
    "formatted_monster_df['DEF'].value_counts().sort_index(key=lambda x: pd.to_numeric(x, errors = 'coerce')).plot.bar(figsize = (18,6), grid = True, color = atk_colors)\n",
    "plt.show()"
   ]
  },
  {
   "cell_type": "markdown",
   "id": "cda8b288",
   "metadata": {},
   "source": [
    "### DEF"
   ]
  },
  {
   "cell_type": "code",
   "execution_count": null,
   "id": "2aa0ba61",
   "metadata": {
    "ExecuteTime": {
     "end_time": "2022-07-01T21:12:30.626823Z",
     "start_time": "2022-07-01T21:12:30.609830Z"
    }
   },
   "outputs": [],
   "source": [
    "print('Total number of DEF values:', formatted_monster_df['DEF'].nunique())"
   ]
  },
  {
   "cell_type": "code",
   "execution_count": null,
   "id": "54e9d56a",
   "metadata": {
    "ExecuteTime": {
     "end_time": "2022-07-01T21:12:30.732259Z",
     "start_time": "2022-07-01T21:12:30.632638Z"
    }
   },
   "outputs": [],
   "source": [
    "formatted_monster_df.drop(columns=['Card type']).groupby('DEF').nunique().sort_index(key=lambda x: pd.to_numeric(x, errors = 'coerce'))"
   ]
  },
  {
   "cell_type": "code",
   "execution_count": null,
   "id": "10aeff48",
   "metadata": {
    "ExecuteTime": {
     "end_time": "2022-07-01T21:12:31.954576Z",
     "start_time": "2022-07-01T21:12:30.745841Z"
    }
   },
   "outputs": [],
   "source": [
    "def_colors = card_colors['Monster Card']\n",
    "formatted_monster_df['DEF'].value_counts().sort_index(key=lambda x: pd.to_numeric(x, errors = 'coerce')).plot.bar(figsize = (18,6), grid = True, color = def_colors)\n",
    "plt.show()"
   ]
  },
  {
   "cell_type": "markdown",
   "id": "4f26bf6d",
   "metadata": {},
   "source": [
    "### Level/Rank"
   ]
  },
  {
   "cell_type": "code",
   "execution_count": null,
   "id": "f5543138",
   "metadata": {
    "ExecuteTime": {
     "end_time": "2022-07-01T21:12:32.048592Z",
     "start_time": "2022-07-01T21:12:31.958319Z"
    }
   },
   "outputs": [],
   "source": [
    "formatted_monster_df.drop(columns=['Card type', 'Link', 'Link Arrows']).groupby('Level/Rank').nunique().sort_index(key=lambda x: pd.to_numeric(x, errors = 'coerce'))"
   ]
  },
  {
   "cell_type": "code",
   "execution_count": null,
   "id": "31539bdc",
   "metadata": {
    "ExecuteTime": {
     "end_time": "2022-07-01T21:12:32.391736Z",
     "start_time": "2022-07-01T21:12:32.054156Z"
    }
   },
   "outputs": [],
   "source": [
    "stars_colors = card_colors['Level']\n",
    "formatted_monster_df['Level/Rank'].value_counts().sort_index(key=lambda x: pd.to_numeric(x, errors = 'coerce')).plot.bar(figsize = (18,6), grid = True, rot=0, color= stars_colors)\n",
    "plt.show()"
   ]
  },
  {
   "cell_type": "markdown",
   "id": "6a08e2b8",
   "metadata": {},
   "source": [
    "#### ATK statistics"
   ]
  },
  {
   "cell_type": "code",
   "execution_count": null,
   "id": "06dc9107",
   "metadata": {
    "ExecuteTime": {
     "end_time": "2022-07-01T21:12:32.550914Z",
     "start_time": "2022-07-01T21:12:32.396274Z"
    }
   },
   "outputs": [],
   "source": [
    "formatted_monster_df[['Level/Rank','ATK']].apply(pd.to_numeric, errors = 'coerce').dropna().astype(int).groupby('Level/Rank').describe()"
   ]
  },
  {
   "cell_type": "markdown",
   "id": "b8a04916",
   "metadata": {},
   "source": [
    "#### DEF statistics"
   ]
  },
  {
   "cell_type": "code",
   "execution_count": null,
   "id": "cc005e78",
   "metadata": {
    "ExecuteTime": {
     "end_time": "2022-07-01T21:12:32.776020Z",
     "start_time": "2022-07-01T21:12:32.558673Z"
    }
   },
   "outputs": [],
   "source": [
    "formatted_monster_df[['Level/Rank','DEF']].apply(pd.to_numeric, errors = 'coerce').dropna().astype(int).groupby('Level/Rank').describe()"
   ]
  },
  {
   "cell_type": "markdown",
   "id": "4029a29d",
   "metadata": {},
   "source": [
    "### Pendulum scale"
   ]
  },
  {
   "cell_type": "code",
   "execution_count": null,
   "id": "9db07376",
   "metadata": {
    "ExecuteTime": {
     "end_time": "2022-07-01T21:12:32.910996Z",
     "start_time": "2022-07-01T21:12:32.785588Z"
    }
   },
   "outputs": [],
   "source": [
    "formatted_monster_df.drop(columns=['Card type', 'Link', 'Link Arrows']).groupby('Pendulum Scale').nunique().sort_index(key=lambda x: pd.to_numeric(x, errors = 'coerce'))"
   ]
  },
  {
   "cell_type": "code",
   "execution_count": null,
   "id": "331eba0b",
   "metadata": {
    "ExecuteTime": {
     "end_time": "2022-07-01T21:12:33.404120Z",
     "start_time": "2022-07-01T21:12:32.916558Z"
    }
   },
   "outputs": [],
   "source": [
    "scales_colors = card_colors['Pendulum Monster']\n",
    "formatted_monster_df['Pendulum Scale'].value_counts().sort_index(key=lambda x: pd.to_numeric(x, errors = 'coerce')).plot.bar(figsize = (18,6), grid = True, rot=0, color = scales_colors)\n",
    "plt.show()"
   ]
  },
  {
   "cell_type": "markdown",
   "id": "c4cee785",
   "metadata": {
    "ExecuteTime": {
     "end_time": "2022-06-22T22:39:03.141058Z",
     "start_time": "2022-06-22T22:39:03.135917Z"
    }
   },
   "source": [
    "#### ATK statistics"
   ]
  },
  {
   "cell_type": "code",
   "execution_count": null,
   "id": "75427d69",
   "metadata": {
    "ExecuteTime": {
     "end_time": "2022-07-01T21:12:33.495517Z",
     "start_time": "2022-07-01T21:12:33.408668Z"
    }
   },
   "outputs": [],
   "source": [
    "formatted_monster_df[['Pendulum Scale','ATK']].apply(pd.to_numeric, errors = 'coerce').dropna().astype(int).groupby('Pendulum Scale').describe()"
   ]
  },
  {
   "cell_type": "markdown",
   "id": "3ee4da76",
   "metadata": {
    "ExecuteTime": {
     "end_time": "2022-06-22T22:39:03.141058Z",
     "start_time": "2022-06-22T22:39:03.135917Z"
    }
   },
   "source": [
    "#### DEF statistics"
   ]
  },
  {
   "cell_type": "code",
   "execution_count": null,
   "id": "c474abd4",
   "metadata": {
    "ExecuteTime": {
     "end_time": "2022-07-01T21:12:33.643715Z",
     "start_time": "2022-07-01T21:12:33.503874Z"
    }
   },
   "outputs": [],
   "source": [
    "formatted_monster_df[['Pendulum Scale','DEF']].apply(pd.to_numeric, errors = 'coerce').dropna().astype(int).groupby('Pendulum Scale').describe()"
   ]
  },
  {
   "cell_type": "markdown",
   "id": "87d81ad5",
   "metadata": {
    "ExecuteTime": {
     "end_time": "2022-06-22T22:39:03.141058Z",
     "start_time": "2022-06-22T22:39:03.135917Z"
    }
   },
   "source": [
    "#### Level/Rank statistics"
   ]
  },
  {
   "cell_type": "code",
   "execution_count": null,
   "id": "027c9b3e",
   "metadata": {
    "ExecuteTime": {
     "end_time": "2022-07-01T21:12:33.752088Z",
     "start_time": "2022-07-01T21:12:33.651711Z"
    }
   },
   "outputs": [],
   "source": [
    "formatted_monster_df[['Pendulum Scale','Level/Rank']].apply(pd.to_numeric, errors = 'coerce').dropna().astype(int).groupby('Pendulum Scale').describe()"
   ]
  },
  {
   "cell_type": "markdown",
   "id": "93f3aba0",
   "metadata": {},
   "source": [
    "### Link"
   ]
  },
  {
   "cell_type": "code",
   "execution_count": null,
   "id": "3ba56226",
   "metadata": {
    "ExecuteTime": {
     "end_time": "2022-07-01T21:12:33.843295Z",
     "start_time": "2022-07-01T21:12:33.756373Z"
    }
   },
   "outputs": [],
   "source": [
    "formatted_monster_df.drop(columns=['Card type', 'Primary type', 'Secondary type','Level/Rank','DEF','Pendulum Scale']).groupby('Link').nunique().sort_index(key=lambda x: pd.to_numeric(x, errors = 'coerce'))"
   ]
  },
  {
   "cell_type": "code",
   "execution_count": null,
   "id": "3afbb00a",
   "metadata": {
    "ExecuteTime": {
     "end_time": "2022-07-01T21:12:34.048728Z",
     "start_time": "2022-07-01T21:12:33.848246Z"
    }
   },
   "outputs": [],
   "source": [
    "link_colors = card_colors['Link Monster']\n",
    "formatted_monster_df['Link'].value_counts().sort_index(key=lambda x: pd.to_numeric(x, errors = 'coerce')).plot.bar(figsize = (18,6), grid = True, rot=0, color = link_colors)\n",
    "plt.show()"
   ]
  },
  {
   "cell_type": "markdown",
   "id": "5f20abde",
   "metadata": {
    "ExecuteTime": {
     "end_time": "2022-06-22T22:39:03.141058Z",
     "start_time": "2022-06-22T22:39:03.135917Z"
    }
   },
   "source": [
    "#### ATK statistics"
   ]
  },
  {
   "cell_type": "code",
   "execution_count": null,
   "id": "c80d9372",
   "metadata": {
    "ExecuteTime": {
     "end_time": "2022-07-01T21:12:34.142768Z",
     "start_time": "2022-07-01T21:12:34.053095Z"
    }
   },
   "outputs": [],
   "source": [
    "formatted_monster_df[['Link','ATK']].apply(pd.to_numeric, errors = 'coerce').dropna().astype(int).groupby('Link').describe()"
   ]
  },
  {
   "cell_type": "markdown",
   "id": "f585a876",
   "metadata": {},
   "source": [
    "### Link Arrows"
   ]
  },
  {
   "cell_type": "markdown",
   "id": "b1373514",
   "metadata": {},
   "source": [
    "#### By combination"
   ]
  },
  {
   "cell_type": "code",
   "execution_count": null,
   "id": "1130304f",
   "metadata": {
    "ExecuteTime": {
     "end_time": "2022-07-01T21:12:34.187822Z",
     "start_time": "2022-07-01T21:12:34.163675Z"
    }
   },
   "outputs": [],
   "source": [
    "print('Total number of link arrow combinations:', formatted_monster_df['Link Arrows'].nunique())"
   ]
  },
  {
   "cell_type": "code",
   "execution_count": null,
   "id": "7acfc7a1",
   "metadata": {
    "ExecuteTime": {
     "end_time": "2022-07-01T21:12:34.304300Z",
     "start_time": "2022-07-01T21:12:34.191561Z"
    }
   },
   "outputs": [],
   "source": [
    "formatted_monster_df.drop(columns=['Card type', 'Primary type', 'Level/Rank', 'Pendulum Scale', 'Link', 'Secondary type', 'DEF']).groupby('Link Arrows').nunique()"
   ]
  },
  {
   "cell_type": "code",
   "execution_count": null,
   "id": "66c65c93",
   "metadata": {
    "ExecuteTime": {
     "end_time": "2022-07-01T21:12:35.911624Z",
     "start_time": "2022-07-01T21:12:34.308533Z"
    }
   },
   "outputs": [],
   "source": [
    "arrows_colors = card_colors['Link Monster']\n",
    "formatted_monster_df['Link Arrows'].value_counts().plot.bar(figsize = (18,6), logy=True, grid = True, color = arrows_colors)\n",
    "plt.show()"
   ]
  },
  {
   "cell_type": "markdown",
   "id": "aa520eaf",
   "metadata": {},
   "source": [
    "#### By unique"
   ]
  },
  {
   "cell_type": "code",
   "execution_count": null,
   "id": "85cda4e5",
   "metadata": {
    "ExecuteTime": {
     "end_time": "2022-07-01T21:12:35.957957Z",
     "start_time": "2022-07-01T21:12:35.915855Z"
    }
   },
   "outputs": [],
   "source": [
    "formatted_monster_df[formatted_monster_df['Link Arrows'].notna()].drop(columns=['Card type', 'Primary type', 'Level/Rank', 'Pendulum Scale', 'Secondary type', 'DEF']).explode('Link Arrows').groupby('Link Arrows').nunique()"
   ]
  },
  {
   "cell_type": "code",
   "execution_count": null,
   "id": "c3161d6e",
   "metadata": {
    "ExecuteTime": {
     "end_time": "2022-07-01T21:12:36.370702Z",
     "start_time": "2022-07-01T21:12:35.987068Z"
    }
   },
   "outputs": [],
   "source": [
    "arrows_colors_b = card_colors['Link Monster']\n",
    "formatted_monster_df['Link Arrows'].explode('Link Arrows').value_counts().plot.bar(figsize = (18,6), grid = True, color = arrows_colors_b)\n",
    "plt.show()"
   ]
  },
  {
   "cell_type": "markdown",
   "id": "e36f6792",
   "metadata": {},
   "source": [
    "#### By link"
   ]
  },
  {
   "cell_type": "code",
   "execution_count": null,
   "id": "8a6b3372",
   "metadata": {
    "ExecuteTime": {
     "end_time": "2022-07-01T21:12:36.420924Z",
     "start_time": "2022-07-01T21:12:36.383183Z"
    }
   },
   "outputs": [],
   "source": [
    "arrow_per_link = formatted_monster_df[['Link Arrows','Link']].explode('Link Arrows').dropna()\n",
    "arrow_crosstab = pd.crosstab(arrow_per_link['Link Arrows'],arrow_per_link['Link'])\n",
    "arrow_crosstab"
   ]
  },
  {
   "cell_type": "code",
   "execution_count": null,
   "id": "a22dab12",
   "metadata": {
    "ExecuteTime": {
     "end_time": "2022-07-01T21:12:37.051189Z",
     "start_time": "2022-07-01T21:12:36.425900Z"
    }
   },
   "outputs": [],
   "source": [
    "plt.figure(figsize = (10,6))\n",
    "sns.heatmap(arrow_crosstab.T, annot=True, fmt=\"g\", cmap='viridis', square=True, norm=LogNorm())\n",
    "plt.show()"
   ]
  },
  {
   "cell_type": "markdown",
   "id": "bb0bbf58",
   "metadata": {},
   "source": [
    "## Spell & Trap"
   ]
  },
  {
   "cell_type": "markdown",
   "id": "f47b1472",
   "metadata": {},
   "source": [
    "### Properties"
   ]
  },
  {
   "cell_type": "code",
   "execution_count": null,
   "id": "fdd7cb44",
   "metadata": {
    "ExecuteTime": {
     "end_time": "2022-07-01T21:12:37.067178Z",
     "start_time": "2022-07-01T21:12:37.055566Z"
    }
   },
   "outputs": [],
   "source": [
    "print('Total number of properties:', formatted_st_df['Property'].nunique())"
   ]
  },
  {
   "cell_type": "code",
   "execution_count": null,
   "id": "52c0aa20",
   "metadata": {
    "ExecuteTime": {
     "end_time": "2022-07-01T21:12:37.111015Z",
     "start_time": "2022-07-01T21:12:37.073633Z"
    },
    "scrolled": true
   },
   "outputs": [],
   "source": [
    "formatted_st_df.drop(columns=['Card type']).groupby('Property').nunique()"
   ]
  },
  {
   "cell_type": "code",
   "execution_count": null,
   "id": "cd537db7",
   "metadata": {
    "ExecuteTime": {
     "end_time": "2022-07-01T21:12:37.406845Z",
     "start_time": "2022-07-01T21:12:37.118654Z"
    }
   },
   "outputs": [],
   "source": [
    "st_colors = [card_colors[i] for i in formatted_full_df[['Card type','Property']].value_counts().index.get_level_values(0)]\n",
    "formatted_st_df['Property'].value_counts().plot.bar(figsize = (18,6), grid = True, rot=45, color = st_colors)\n",
    "plt.show()"
   ]
  },
  {
   "cell_type": "markdown",
   "id": "eab733b7",
   "metadata": {},
   "source": [
    "### Effect type"
   ]
  },
  {
   "cell_type": "code",
   "execution_count": null,
   "id": "f955ec1d",
   "metadata": {
    "ExecuteTime": {
     "end_time": "2022-07-01T21:12:37.437566Z",
     "start_time": "2022-07-01T21:12:37.417660Z"
    }
   },
   "outputs": [],
   "source": [
    "print('Total number of effect types:', formatted_st_df['Effect type'].explode().nunique())"
   ]
  },
  {
   "cell_type": "code",
   "execution_count": null,
   "id": "9e0f62a2",
   "metadata": {
    "ExecuteTime": {
     "end_time": "2022-07-01T21:12:37.516569Z",
     "start_time": "2022-07-01T21:12:37.444585Z"
    }
   },
   "outputs": [],
   "source": [
    "formatted_st_df.explode('Effect type').groupby('Effect type').nunique()"
   ]
  },
  {
   "cell_type": "markdown",
   "id": "64868037",
   "metadata": {},
   "source": [
    "#### Spell & Trap discrimination"
   ]
  },
  {
   "cell_type": "code",
   "execution_count": null,
   "id": "75843f9d",
   "metadata": {
    "ExecuteTime": {
     "end_time": "2022-07-01T21:12:37.554183Z",
     "start_time": "2022-07-01T21:12:37.523926Z"
    }
   },
   "outputs": [],
   "source": [
    "spell = formatted_spell_df['Effect type'].explode('Effect type').value_counts().rename('Spell Card')\n",
    "trap = formatted_trap_df['Effect type'].explode('Effect type').value_counts().rename('Trap Card')\n",
    "st_diff = pd.concat([spell, trap], axis = 1)\n",
    "st_diff"
   ]
  },
  {
   "cell_type": "code",
   "execution_count": null,
   "id": "373757a0",
   "metadata": {
    "ExecuteTime": {
     "end_time": "2022-07-01T21:12:37.962568Z",
     "start_time": "2022-07-01T21:12:37.558994Z"
    }
   },
   "outputs": [],
   "source": [
    "st_diff_colors = {'Spell Card': card_colors['Spell Card'], 'Trap Card': card_colors['Trap Card']}\n",
    "st_diff.plot.bar(figsize = (18,6), stacked = True, grid = True, rot=45, color = st_diff_colors)\n",
    "plt.show()"
   ]
  },
  {
   "cell_type": "markdown",
   "id": "0013b7c7",
   "metadata": {},
   "source": [
    "## Archseries"
   ]
  },
  {
   "cell_type": "code",
   "execution_count": null,
   "id": "ce1470dc",
   "metadata": {
    "ExecuteTime": {
     "end_time": "2022-07-01T21:12:38.036921Z",
     "start_time": "2022-07-01T21:12:37.969388Z"
    }
   },
   "outputs": [],
   "source": [
    "exploded_archseries = formatted_full_df.explode('Archseries')\n",
    "print('Total number of Archseries:', exploded_archseries['Archseries'].nunique())"
   ]
  },
  {
   "cell_type": "code",
   "execution_count": null,
   "id": "f31c5b8c",
   "metadata": {
    "ExecuteTime": {
     "end_time": "2022-07-01T21:12:38.147176Z",
     "start_time": "2022-07-01T21:12:38.042797Z"
    }
   },
   "outputs": [],
   "source": [
    "exploded_archseries.groupby('Archseries').nunique()"
   ]
  },
  {
   "cell_type": "code",
   "execution_count": null,
   "id": "00c9f321",
   "metadata": {
    "ExecuteTime": {
     "end_time": "2022-07-01T21:12:50.784087Z",
     "start_time": "2022-07-01T21:12:38.157719Z"
    },
    "scrolled": true
   },
   "outputs": [],
   "source": [
    "exploded_archseries['Archseries'].value_counts().plot.barh(figsize = (10,200), grid = True)\n",
    "plt.show()"
   ]
  },
  {
   "cell_type": "markdown",
   "id": "cf3bf55f",
   "metadata": {},
   "source": [
    "### By card type"
   ]
  },
  {
   "cell_type": "code",
   "execution_count": null,
   "id": "fbf65c3c",
   "metadata": {
    "ExecuteTime": {
     "end_time": "2022-07-01T21:12:50.932015Z",
     "start_time": "2022-07-01T21:12:50.790401Z"
    }
   },
   "outputs": [],
   "source": [
    "archseries_crosstab = pd.crosstab(exploded_archseries['Archseries'],exploded_archseries['Card type'], margins = True)\n",
    "archseries_crosstab"
   ]
  },
  {
   "cell_type": "markdown",
   "id": "960ea110",
   "metadata": {},
   "source": [
    "### By primary type"
   ]
  },
  {
   "cell_type": "code",
   "execution_count": null,
   "id": "2c3671f0",
   "metadata": {
    "ExecuteTime": {
     "end_time": "2022-07-01T21:12:51.058567Z",
     "start_time": "2022-07-01T21:12:50.936106Z"
    }
   },
   "outputs": [],
   "source": [
    "archseries_crosstab_b = pd.crosstab(exploded_archseries['Archseries'],exploded_archseries['Primary type'], margins = True)\n",
    "archseries_crosstab_b"
   ]
  },
  {
   "cell_type": "markdown",
   "id": "6de5fdac",
   "metadata": {},
   "source": [
    "\n",
    "\n",
    "### By secondary type"
   ]
  },
  {
   "cell_type": "code",
   "execution_count": null,
   "id": "966a00dd",
   "metadata": {
    "ExecuteTime": {
     "end_time": "2022-07-01T21:12:51.140448Z",
     "start_time": "2022-07-01T21:12:51.063594Z"
    }
   },
   "outputs": [],
   "source": [
    "archseries_crosstab_c = pd.crosstab(exploded_archseries['Archseries'],exploded_archseries['Secondary type'], margins = True)\n",
    "archseries_crosstab_c"
   ]
  },
  {
   "cell_type": "markdown",
   "id": "a881d945",
   "metadata": {},
   "source": [
    "### By monster type"
   ]
  },
  {
   "cell_type": "code",
   "execution_count": null,
   "id": "d99ee9e1",
   "metadata": {
    "ExecuteTime": {
     "end_time": "2022-07-01T21:12:51.333399Z",
     "start_time": "2022-07-01T21:12:51.146255Z"
    }
   },
   "outputs": [],
   "source": [
    "archseries_crosstab_d = pd.crosstab(exploded_archseries['Archseries'],exploded_archseries['Monster type'], margins = True)\n",
    "archseries_crosstab_d"
   ]
  },
  {
   "cell_type": "markdown",
   "id": "f97ab388",
   "metadata": {},
   "source": [
    "### By property"
   ]
  },
  {
   "cell_type": "code",
   "execution_count": null,
   "id": "fbbb1ccc",
   "metadata": {
    "ExecuteTime": {
     "end_time": "2022-07-01T21:12:51.454216Z",
     "start_time": "2022-07-01T21:12:51.338890Z"
    }
   },
   "outputs": [],
   "source": [
    "archseries_crosstab_e = pd.crosstab(exploded_archseries['Archseries'],exploded_archseries['Property'], margins = True)\n",
    "archseries_crosstab_e"
   ]
  },
  {
   "cell_type": "markdown",
   "id": "554f6e74",
   "metadata": {},
   "source": [
    "## Artworks"
   ]
  },
  {
   "cell_type": "code",
   "execution_count": null,
   "id": "2224e061",
   "metadata": {
    "ExecuteTime": {
     "end_time": "2022-07-01T21:12:51.466709Z",
     "start_time": "2022-07-01T21:12:51.458637Z"
    }
   },
   "outputs": [],
   "source": [
    "print('Total number of cards with edited or alternate artworks:', formatted_full_df['Artwork'].count())"
   ]
  },
  {
   "cell_type": "code",
   "execution_count": null,
   "id": "f7492a67",
   "metadata": {
    "ExecuteTime": {
     "end_time": "2022-07-01T21:12:51.503958Z",
     "start_time": "2022-07-01T21:12:51.471903Z"
    }
   },
   "outputs": [],
   "source": [
    "formatted_full_df[['Name','Password','TCG status','OCG status','Artwork']][formatted_full_df['Artwork'].notna()]"
   ]
  },
  {
   "cell_type": "code",
   "execution_count": null,
   "id": "fa1ea6aa",
   "metadata": {
    "ExecuteTime": {
     "end_time": "2022-07-01T21:12:51.668046Z",
     "start_time": "2022-07-01T21:12:51.508524Z"
    }
   },
   "outputs": [],
   "source": [
    "artwork_value_counts = formatted_full_df['Artwork'].value_counts()\n",
    "plt.figure(figsize=(20,8))\n",
    "venn2(subsets = (artwork_value_counts[('Alternate',)], artwork_value_counts[('Edited',)],artwork_value_counts[('Alternate','Edited')]), set_labels = ('Alternate artwork', 'Edited artwork'))\n",
    "plt.show()"
   ]
  },
  {
   "cell_type": "markdown",
   "id": "e49df5df",
   "metadata": {},
   "source": [
    "### By card type"
   ]
  },
  {
   "cell_type": "code",
   "execution_count": null,
   "id": "1b14c224",
   "metadata": {
    "ExecuteTime": {
     "end_time": "2022-07-01T21:12:51.704995Z",
     "start_time": "2022-07-01T21:12:51.671032Z"
    }
   },
   "outputs": [],
   "source": [
    "artwork_crosstab = pd.crosstab(formatted_full_df['Artwork'], formatted_full_df['Card type'])\n",
    "artwork_crosstab"
   ]
  },
  {
   "cell_type": "markdown",
   "id": "81afa2df",
   "metadata": {},
   "source": [
    "### By primary type"
   ]
  },
  {
   "cell_type": "code",
   "execution_count": null,
   "id": "55081aa0",
   "metadata": {
    "ExecuteTime": {
     "end_time": "2022-07-01T21:12:51.744631Z",
     "start_time": "2022-07-01T21:12:51.708833Z"
    }
   },
   "outputs": [],
   "source": [
    "artwork_crosstab_b = pd.crosstab(formatted_full_df['Artwork'], formatted_full_df['Primary type'])\n",
    "artwork_crosstab_b"
   ]
  },
  {
   "cell_type": "markdown",
   "id": "14a90117",
   "metadata": {},
   "source": [
    "More granularity is unnecessary"
   ]
  },
  {
   "cell_type": "markdown",
   "id": "5210d61b",
   "metadata": {},
   "source": [
    "## Errata"
   ]
  },
  {
   "cell_type": "code",
   "execution_count": null,
   "id": "09b33100",
   "metadata": {
    "ExecuteTime": {
     "end_time": "2022-07-01T21:12:51.759667Z",
     "start_time": "2022-07-01T21:12:51.751101Z"
    }
   },
   "outputs": [],
   "source": [
    "print('Total number of cards with name or type errata:', formatted_full_df['Errata'].count())"
   ]
  },
  {
   "cell_type": "code",
   "execution_count": null,
   "id": "40462eee",
   "metadata": {
    "ExecuteTime": {
     "end_time": "2022-07-01T21:12:51.794135Z",
     "start_time": "2022-07-01T21:12:51.764594Z"
    }
   },
   "outputs": [],
   "source": [
    "formatted_full_df[['Name','Password','TCG status','OCG status','Errata']][formatted_full_df['Errata'].notna()]"
   ]
  },
  {
   "cell_type": "code",
   "execution_count": null,
   "id": "60843a4f",
   "metadata": {
    "ExecuteTime": {
     "end_time": "2022-07-01T21:12:51.959753Z",
     "start_time": "2022-07-01T21:12:51.798810Z"
    }
   },
   "outputs": [],
   "source": [
    "errata_value_counts = formatted_full_df['Errata'].value_counts()\n",
    "plt.figure(figsize=(20,8))\n",
    "venn2(subsets = (errata_value_counts[('Name',)], errata_value_counts[('Type',)],errata_value_counts[('Name','Type')]), set_labels = ('Name Errata', 'Type errata'))\n",
    "plt.show()"
   ]
  },
  {
   "cell_type": "markdown",
   "id": "a3703983",
   "metadata": {},
   "source": [
    "### By card type"
   ]
  },
  {
   "cell_type": "code",
   "execution_count": null,
   "id": "fb103c29",
   "metadata": {
    "ExecuteTime": {
     "end_time": "2022-07-01T21:12:52.004102Z",
     "start_time": "2022-07-01T21:12:51.967330Z"
    }
   },
   "outputs": [],
   "source": [
    "errata_crosstab = pd.crosstab(formatted_full_df['Errata'], formatted_full_df['Card type'])\n",
    "errata_crosstab"
   ]
  },
  {
   "cell_type": "markdown",
   "id": "36d241f1",
   "metadata": {},
   "source": [
    "### By primary type"
   ]
  },
  {
   "cell_type": "code",
   "execution_count": null,
   "id": "5b90628d",
   "metadata": {
    "ExecuteTime": {
     "end_time": "2022-07-01T21:12:52.042556Z",
     "start_time": "2022-07-01T21:12:52.009301Z"
    }
   },
   "outputs": [],
   "source": [
    "errata_crosstab_b = pd.crosstab(formatted_full_df['Errata'], formatted_full_df['Primary type'])\n",
    "errata_crosstab_b"
   ]
  },
  {
   "cell_type": "markdown",
   "id": "0029e1ca",
   "metadata": {},
   "source": [
    "More granularity is unnecessary"
   ]
  },
  {
   "cell_type": "markdown",
   "id": "35d88dda",
   "metadata": {},
   "source": [
    "### By artwork"
   ]
  },
  {
   "cell_type": "code",
   "execution_count": null,
   "id": "0057def3",
   "metadata": {
    "ExecuteTime": {
     "end_time": "2022-07-01T21:12:52.078569Z",
     "start_time": "2022-07-01T21:12:52.048132Z"
    }
   },
   "outputs": [],
   "source": [
    "errata_crosstab_c = pd.crosstab(formatted_full_df['Artwork'], formatted_full_df['Errata'])\n",
    "errata_crosstab_c"
   ]
  },
  {
   "cell_type": "markdown",
   "id": "edef3194",
   "metadata": {},
   "source": [
    "## TCG & OCG status"
   ]
  },
  {
   "cell_type": "markdown",
   "id": "3e7505cd",
   "metadata": {},
   "source": [
    "### TGC status"
   ]
  },
  {
   "cell_type": "code",
   "execution_count": null,
   "id": "88b93fca",
   "metadata": {
    "ExecuteTime": {
     "end_time": "2022-07-01T21:12:52.097007Z",
     "start_time": "2022-07-01T21:12:52.083351Z"
    }
   },
   "outputs": [],
   "source": [
    "print('Total number of TCG status:', formatted_full_df['TCG status'].nunique())"
   ]
  },
  {
   "cell_type": "code",
   "execution_count": null,
   "id": "2c69bec0",
   "metadata": {
    "ExecuteTime": {
     "end_time": "2022-07-01T21:12:52.212507Z",
     "start_time": "2022-07-01T21:12:52.103537Z"
    }
   },
   "outputs": [],
   "source": [
    "formatted_full_df.groupby('TCG status', dropna=False).nunique()"
   ]
  },
  {
   "cell_type": "code",
   "execution_count": null,
   "id": "add82403",
   "metadata": {
    "ExecuteTime": {
     "end_time": "2022-07-01T21:12:52.802041Z",
     "start_time": "2022-07-01T21:12:52.217010Z"
    }
   },
   "outputs": [],
   "source": [
    "formatted_full_df['TCG status'].value_counts(dropna = False).plot.bar(figsize = (18,6), logy=True, grid = True, rot=45)\n",
    "plt.show()"
   ]
  },
  {
   "cell_type": "markdown",
   "id": "f6b985a0",
   "metadata": {},
   "source": [
    "#### By card type"
   ]
  },
  {
   "cell_type": "code",
   "execution_count": null,
   "id": "12c444ed",
   "metadata": {
    "ExecuteTime": {
     "end_time": "2022-07-01T21:12:52.843402Z",
     "start_time": "2022-07-01T21:12:52.805162Z"
    }
   },
   "outputs": [],
   "source": [
    "# Remove unlimited\n",
    "tcg_crosstab = pd.crosstab(formatted_full_df['Card type'], formatted_full_df['TCG status']).drop(['Unlimited'], axis=1)\n",
    "tcg_crosstab"
   ]
  },
  {
   "cell_type": "code",
   "execution_count": null,
   "id": "8648b51e",
   "metadata": {
    "ExecuteTime": {
     "end_time": "2022-07-01T21:12:53.358377Z",
     "start_time": "2022-07-01T21:12:52.848083Z"
    }
   },
   "outputs": [],
   "source": [
    "plt.figure(figsize = (12,6))\n",
    "sns.heatmap(tcg_crosstab, annot=True, fmt=\"g\", cmap='viridis', norm=LogNorm())\n",
    "plt.show()"
   ]
  },
  {
   "cell_type": "markdown",
   "id": "521f367b",
   "metadata": {},
   "source": [
    "#### By monster type"
   ]
  },
  {
   "cell_type": "code",
   "execution_count": null,
   "id": "bb73564f",
   "metadata": {
    "ExecuteTime": {
     "end_time": "2022-07-01T21:12:53.414722Z",
     "start_time": "2022-07-01T21:12:53.364978Z"
    }
   },
   "outputs": [],
   "source": [
    "# Remove unlimited\n",
    "tcg_crosstab_b = pd.crosstab(formatted_full_df['Monster type'], formatted_full_df['TCG status']).drop(['Unlimited'], axis=1)\n",
    "tcg_crosstab_b"
   ]
  },
  {
   "cell_type": "code",
   "execution_count": null,
   "id": "dd5e826c",
   "metadata": {
    "ExecuteTime": {
     "end_time": "2022-07-01T21:12:54.981807Z",
     "start_time": "2022-07-01T21:12:53.421447Z"
    }
   },
   "outputs": [],
   "source": [
    "plt.figure(figsize = (20,5))\n",
    "sns.heatmap(tcg_crosstab_b.T, annot=True, fmt=\"g\", cmap='viridis', square = True, norm=LogNorm())\n",
    "plt.show()"
   ]
  },
  {
   "cell_type": "markdown",
   "id": "b0e7d771",
   "metadata": {},
   "source": [
    "#### By archseries"
   ]
  },
  {
   "cell_type": "code",
   "execution_count": null,
   "id": "05fc1f77",
   "metadata": {
    "ExecuteTime": {
     "end_time": "2022-07-01T21:12:55.065456Z",
     "start_time": "2022-07-01T21:12:54.986402Z"
    }
   },
   "outputs": [],
   "source": [
    "# Remove unlimited\n",
    "tcg_crosstab_c = pd.crosstab(exploded_archseries['Archseries'].where(exploded_archseries['OCG status']!='Unlimited'), exploded_archseries['TCG status'], margins = True)\n",
    "tcg_crosstab_c"
   ]
  },
  {
   "cell_type": "markdown",
   "id": "af202b20",
   "metadata": {},
   "source": [
    "### OCG status"
   ]
  },
  {
   "cell_type": "code",
   "execution_count": null,
   "id": "0b01a31b",
   "metadata": {
    "ExecuteTime": {
     "end_time": "2022-07-01T21:12:55.084015Z",
     "start_time": "2022-07-01T21:12:55.071601Z"
    }
   },
   "outputs": [],
   "source": [
    "print('Total number of OCG status:', formatted_full_df['OCG status'].nunique())"
   ]
  },
  {
   "cell_type": "code",
   "execution_count": null,
   "id": "13b7b5c8",
   "metadata": {
    "ExecuteTime": {
     "end_time": "2022-07-01T21:12:55.216526Z",
     "start_time": "2022-07-01T21:12:55.089887Z"
    }
   },
   "outputs": [],
   "source": [
    "formatted_full_df.groupby('OCG status', dropna=False).nunique()"
   ]
  },
  {
   "cell_type": "code",
   "execution_count": null,
   "id": "baff20b2",
   "metadata": {
    "ExecuteTime": {
     "end_time": "2022-07-01T21:12:55.907710Z",
     "start_time": "2022-07-01T21:12:55.226271Z"
    }
   },
   "outputs": [],
   "source": [
    "formatted_full_df['OCG status'].value_counts(dropna = False).plot.bar(figsize = (18,6), logy=True, grid = True, rot=45)\n",
    "plt.show()"
   ]
  },
  {
   "cell_type": "markdown",
   "id": "5c4bf980",
   "metadata": {},
   "source": [
    "#### By card type"
   ]
  },
  {
   "cell_type": "code",
   "execution_count": null,
   "id": "4863280e",
   "metadata": {
    "ExecuteTime": {
     "end_time": "2022-07-01T21:12:55.958687Z",
     "start_time": "2022-07-01T21:12:55.911575Z"
    }
   },
   "outputs": [],
   "source": [
    "# Remove unlimited\n",
    "ocg_crosstab = pd.crosstab(formatted_full_df['Card type'], formatted_full_df['OCG status']).drop(['Unlimited'], axis=1)\n",
    "ocg_crosstab"
   ]
  },
  {
   "cell_type": "code",
   "execution_count": null,
   "id": "e8489887",
   "metadata": {
    "ExecuteTime": {
     "end_time": "2022-07-01T21:12:57.104178Z",
     "start_time": "2022-07-01T21:12:55.965080Z"
    }
   },
   "outputs": [],
   "source": [
    "plt.figure(figsize = (12,6))\n",
    "sns.heatmap(ocg_crosstab, annot=True, fmt=\"g\", cmap='viridis', norm=LogNorm())\n",
    "plt.show()"
   ]
  },
  {
   "cell_type": "markdown",
   "id": "32f682d2",
   "metadata": {},
   "source": [
    "#### By monster type"
   ]
  },
  {
   "cell_type": "code",
   "execution_count": null,
   "id": "3dbadcb8",
   "metadata": {
    "ExecuteTime": {
     "end_time": "2022-07-01T21:12:57.159827Z",
     "start_time": "2022-07-01T21:12:57.109507Z"
    }
   },
   "outputs": [],
   "source": [
    "# Remove unlimited\n",
    "ocg_crosstab_b = pd.crosstab(formatted_full_df['Monster type'], formatted_full_df['OCG status']).drop(['Unlimited'], axis=1)\n",
    "ocg_crosstab_b"
   ]
  },
  {
   "cell_type": "code",
   "execution_count": null,
   "id": "4743b0c1",
   "metadata": {
    "ExecuteTime": {
     "end_time": "2022-07-01T21:12:58.834560Z",
     "start_time": "2022-07-01T21:12:57.165410Z"
    }
   },
   "outputs": [],
   "source": [
    "plt.figure(figsize = (20,5))\n",
    "sns.heatmap(ocg_crosstab_b.T, annot=True, fmt=\"g\", cmap='viridis', square = True, norm=LogNorm())\n",
    "plt.show()"
   ]
  },
  {
   "cell_type": "markdown",
   "id": "19d9067b",
   "metadata": {},
   "source": [
    "#### By archseries"
   ]
  },
  {
   "cell_type": "code",
   "execution_count": null,
   "id": "d866a6e2",
   "metadata": {
    "ExecuteTime": {
     "end_time": "2022-07-01T21:12:58.912095Z",
     "start_time": "2022-07-01T21:12:58.839653Z"
    }
   },
   "outputs": [],
   "source": [
    "# Remove unlimited\n",
    "ocg_crosstab_c = pd.crosstab(exploded_archseries['Archseries'].where(exploded_archseries['OCG status']!='Unlimited'), exploded_archseries['OCG status'], margins = True)\n",
    "ocg_crosstab_c"
   ]
  },
  {
   "cell_type": "markdown",
   "id": "c5b33198",
   "metadata": {},
   "source": [
    "### TCG vs. OCG status"
   ]
  },
  {
   "cell_type": "code",
   "execution_count": null,
   "id": "14f2101b",
   "metadata": {
    "ExecuteTime": {
     "end_time": "2022-07-01T21:12:58.952963Z",
     "start_time": "2022-07-01T21:12:58.917637Z"
    }
   },
   "outputs": [],
   "source": [
    "cg_crosstab = pd.crosstab(formatted_full_df['OCG status'],formatted_full_df['TCG status'], dropna=False, margins = False)\n",
    "cg_crosstab"
   ]
  },
  {
   "cell_type": "code",
   "execution_count": null,
   "id": "d10c5c81",
   "metadata": {
    "ExecuteTime": {
     "end_time": "2022-07-01T21:12:59.733097Z",
     "start_time": "2022-07-01T21:12:58.957359Z"
    }
   },
   "outputs": [],
   "source": [
    "plt.figure(figsize = (10,8))\n",
    "sns.heatmap(cg_crosstab, annot=True, fmt=\"g\", cmap='viridis', square=True, norm=LogNorm())\n",
    "plt.show()"
   ]
  },
  {
   "cell_type": "markdown",
   "id": "fade81da",
   "metadata": {},
   "source": [
    "# HTML export"
   ]
  },
  {
   "cell_type": "code",
   "execution_count": null,
   "id": "de556e8b",
   "metadata": {
    "ExecuteTime": {
     "end_time": "2022-07-01T21:18:36.268389Z",
     "start_time": "2022-07-01T21:18:31.435698Z"
    }
   },
   "outputs": [],
   "source": [
    "! jupyter nbconvert Cards.ipynb --to=HTML --TemplateExporter.exclude_input_prompt=True --TemplateExporter.exclude_output_prompt=True"
   ]
  },
  {
   "cell_type": "markdown",
   "id": "3952e94f",
   "metadata": {},
   "source": [
    "# Searches"
   ]
  },
  {
   "cell_type": "code",
   "execution_count": null,
   "id": "6ca6f265",
   "metadata": {
    "ExecuteTime": {
     "end_time": "2022-07-01T21:13:04.548506Z",
     "start_time": "2022-07-01T21:13:04.489237Z"
    }
   },
   "outputs": [],
   "source": [
    "formatted_full_df.loc[formatted_full_df['OCG status'] == 'Not yet released'].loc[formatted_full_df['TCG status'] == 'Not yet released']"
   ]
  },
  {
   "cell_type": "markdown",
   "id": "641a7018-0f50-4ab6-b8f3-119a279cbc65",
   "metadata": {},
   "source": [
    "# Git"
   ]
  },
  {
   "cell_type": "code",
   "execution_count": null,
   "id": "cba1eb00-d9c2-491a-95b3-5ce0a0524d59",
   "metadata": {},
   "outputs": [],
   "source": [
    "! git add ."
   ]
  },
  {
   "cell_type": "code",
   "execution_count": null,
   "id": "6f1f8303-30c6-4aaa-b45e-f6d5f5ece30e",
   "metadata": {},
   "outputs": [],
   "source": [
    "! git commit -m {\"Update-\" + pd.Timestamp.now().strftime(\"%d%m%Y\")}"
   ]
  },
  {
   "cell_type": "code",
   "execution_count": null,
   "id": "53e864c0-aa82-4f5d-95ac-b69f45f18fd1",
   "metadata": {},
   "outputs": [],
   "source": [
    "! git push"
   ]
  }
 ],
 "metadata": {
  "kernelspec": {
   "display_name": "Python 3 (ipykernel)",
   "language": "python",
   "name": "python3"
  },
  "language_info": {
   "codemirror_mode": {
    "name": "ipython",
    "version": 3
   },
   "file_extension": ".py",
   "mimetype": "text/x-python",
   "name": "python",
   "nbconvert_exporter": "python",
   "pygments_lexer": "ipython3",
   "version": "3.10.6"
  },
  "toc": {
   "base_numbering": 1,
   "nav_menu": {
    "height": "599px",
    "width": "228px"
   },
   "number_sections": true,
   "sideBar": true,
   "skip_h1_title": false,
   "title_cell": "Table of Contents",
   "title_sidebar": "Contents",
   "toc_cell": true,
   "toc_position": {
    "height": "calc(100% - 180px)",
    "left": "10px",
    "top": "150px",
    "width": "353px"
   },
   "toc_section_display": true,
   "toc_window_display": true
  },
  "toc-autonumbering": false,
  "toc-showcode": false,
  "toc-showmarkdowntxt": false
 },
 "nbformat": 4,
 "nbformat_minor": 5
}
